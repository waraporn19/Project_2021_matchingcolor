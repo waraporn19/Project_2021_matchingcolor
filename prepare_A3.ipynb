{
  "nbformat": 4,
  "nbformat_minor": 0,
  "metadata": {
    "colab": {
      "name": "prepare_A3.ipynb",
      "provenance": [],
      "include_colab_link": true
    },
    "kernelspec": {
      "name": "python3",
      "display_name": "Python 3"
    },
    "language_info": {
      "name": "python"
    }
  },
  "cells": [
    {
      "cell_type": "markdown",
      "metadata": {
        "id": "view-in-github",
        "colab_type": "text"
      },
      "source": [
        "<a href=\"https://colab.research.google.com/github/waraporn19/Project_2021_matchingcolor/blob/main/prepare_A3.ipynb\" target=\"_parent\"><img src=\"https://colab.research.google.com/assets/colab-badge.svg\" alt=\"Open In Colab\"/></a>"
      ]
    },
    {
      "cell_type": "code",
      "metadata": {
        "id": "drOKqbUE2PnQ"
      },
      "source": [
        "import pandas as pd"
      ],
      "execution_count": 1,
      "outputs": []
    },
    {
      "cell_type": "code",
      "metadata": {
        "colab": {
          "base_uri": "https://localhost:8080/"
        },
        "id": "O7x0j_3c2Pjr",
        "outputId": "ed7d5d18-93a9-40dd-84b7-2d45beea91eb"
      },
      "source": [
        "from google.colab import drive \n",
        "drive.mount('/content/drive')"
      ],
      "execution_count": 2,
      "outputs": [
        {
          "output_type": "stream",
          "name": "stdout",
          "text": [
            "Mounted at /content/drive\n"
          ]
        }
      ]
    },
    {
      "cell_type": "code",
      "metadata": {
        "id": "lsGPiAcg2Pa7"
      },
      "source": [
        "import os"
      ],
      "execution_count": 3,
      "outputs": []
    },
    {
      "cell_type": "code",
      "metadata": {
        "id": "xGv3Ax6o251w"
      },
      "source": [
        "path = '/content/drive/My Drive/shadeimg'"
      ],
      "execution_count": 4,
      "outputs": []
    },
    {
      "cell_type": "code",
      "metadata": {
        "colab": {
          "base_uri": "https://localhost:8080/"
        },
        "id": "DK3-qllN3Huu",
        "outputId": "2bb6e426-7ab6-46ab-a492-f54da0e76b81"
      },
      "source": [
        "os.listdir(path)"
      ],
      "execution_count": 5,
      "outputs": [
        {
          "output_type": "execute_result",
          "data": {
            "text/plain": [
              "['9-10 7 2021',\n",
              " 'รูปฟัน07',\n",
              " '11 7 2021',\n",
              " 'ฟันสักอย่างจำวันไม่ได้',\n",
              " '1 teeth .gsheet',\n",
              " '16 8 2021',\n",
              " '17 8 2021',\n",
              " '1 teeth .xlsx',\n",
              " '2 teeth .xlsx',\n",
              " '2 teeth.gsheet']"
            ]
          },
          "metadata": {},
          "execution_count": 5
        }
      ]
    },
    {
      "cell_type": "code",
      "metadata": {
        "id": "qnyateeBbpSP",
        "colab": {
          "base_uri": "https://localhost:8080/"
        },
        "outputId": "db0775e7-39c8-4430-bbf0-20b9ec79fa98"
      },
      "source": [
        "!pip install azure-storage-blob==2.1.0"
      ],
      "execution_count": 6,
      "outputs": [
        {
          "output_type": "stream",
          "name": "stdout",
          "text": [
            "Collecting azure-storage-blob==2.1.0\n",
            "  Downloading azure_storage_blob-2.1.0-py2.py3-none-any.whl (88 kB)\n",
            "\u001b[?25l\r\u001b[K     |███▊                            | 10 kB 24.6 MB/s eta 0:00:01\r\u001b[K     |███████▍                        | 20 kB 31.2 MB/s eta 0:00:01\r\u001b[K     |███████████▏                    | 30 kB 37.5 MB/s eta 0:00:01\r\u001b[K     |██████████████▉                 | 40 kB 38.2 MB/s eta 0:00:01\r\u001b[K     |██████████████████▋             | 51 kB 37.1 MB/s eta 0:00:01\r\u001b[K     |██████████████████████▎         | 61 kB 35.2 MB/s eta 0:00:01\r\u001b[K     |██████████████████████████      | 71 kB 32.4 MB/s eta 0:00:01\r\u001b[K     |█████████████████████████████▊  | 81 kB 34.2 MB/s eta 0:00:01\r\u001b[K     |████████████████████████████████| 88 kB 6.9 MB/s \n",
            "\u001b[?25hCollecting azure-common>=1.1.5\n",
            "  Downloading azure_common-1.1.27-py2.py3-none-any.whl (12 kB)\n",
            "Collecting azure-storage-common~=2.1\n",
            "  Downloading azure_storage_common-2.1.0-py2.py3-none-any.whl (47 kB)\n",
            "\u001b[K     |████████████████████████████████| 47 kB 5.2 MB/s \n",
            "\u001b[?25hCollecting cryptography\n",
            "  Downloading cryptography-35.0.0-cp36-abi3-manylinux_2_24_x86_64.whl (3.5 MB)\n",
            "\u001b[K     |████████████████████████████████| 3.5 MB 41.4 MB/s \n",
            "\u001b[?25hRequirement already satisfied: requests in /usr/local/lib/python3.7/dist-packages (from azure-storage-common~=2.1->azure-storage-blob==2.1.0) (2.23.0)\n",
            "Requirement already satisfied: python-dateutil in /usr/local/lib/python3.7/dist-packages (from azure-storage-common~=2.1->azure-storage-blob==2.1.0) (2.8.2)\n",
            "Requirement already satisfied: cffi>=1.12 in /usr/local/lib/python3.7/dist-packages (from cryptography->azure-storage-common~=2.1->azure-storage-blob==2.1.0) (1.14.6)\n",
            "Requirement already satisfied: pycparser in /usr/local/lib/python3.7/dist-packages (from cffi>=1.12->cryptography->azure-storage-common~=2.1->azure-storage-blob==2.1.0) (2.20)\n",
            "Requirement already satisfied: six>=1.5 in /usr/local/lib/python3.7/dist-packages (from python-dateutil->azure-storage-common~=2.1->azure-storage-blob==2.1.0) (1.15.0)\n",
            "Requirement already satisfied: chardet<4,>=3.0.2 in /usr/local/lib/python3.7/dist-packages (from requests->azure-storage-common~=2.1->azure-storage-blob==2.1.0) (3.0.4)\n",
            "Requirement already satisfied: idna<3,>=2.5 in /usr/local/lib/python3.7/dist-packages (from requests->azure-storage-common~=2.1->azure-storage-blob==2.1.0) (2.10)\n",
            "Requirement already satisfied: urllib3!=1.25.0,!=1.25.1,<1.26,>=1.21.1 in /usr/local/lib/python3.7/dist-packages (from requests->azure-storage-common~=2.1->azure-storage-blob==2.1.0) (1.24.3)\n",
            "Requirement already satisfied: certifi>=2017.4.17 in /usr/local/lib/python3.7/dist-packages (from requests->azure-storage-common~=2.1->azure-storage-blob==2.1.0) (2021.5.30)\n",
            "Installing collected packages: cryptography, azure-common, azure-storage-common, azure-storage-blob\n",
            "Successfully installed azure-common-1.1.27 azure-storage-blob-2.1.0 azure-storage-common-2.1.0 cryptography-35.0.0\n"
          ]
        }
      ]
    },
    {
      "cell_type": "code",
      "metadata": {
        "id": "uZRZcO80cxBH"
      },
      "source": [
        "from azure.storage.blob import BlockBlobService\n",
        "import os"
      ],
      "execution_count": 10,
      "outputs": []
    },
    {
      "cell_type": "code",
      "metadata": {
        "id": "tJVMV5DMcyJT"
      },
      "source": [
        "blob_service_client = BlockBlobService(account_name='dent01', account_key='CuShY0B4TZJ84TjzPpaHxyrHOpO73aGXeCpdVq7x26OjIlQ1HOz+3DVc9pDEj9BdcEL8odFuTRF0mOAE+aCgiw==')"
      ],
      "execution_count": 11,
      "outputs": []
    },
    {
      "cell_type": "markdown",
      "metadata": {
        "id": "nNqTWrPIc2qX"
      },
      "source": [
        "#1.สร้างตัวแปรเฉดไกด์"
      ]
    },
    {
      "cell_type": "markdown",
      "metadata": {
        "id": "Gx-nvNvXdCDu"
      },
      "source": [
        "##Set1"
      ]
    },
    {
      "cell_type": "code",
      "metadata": {
        "id": "PvY9HB-hc96t"
      },
      "source": [
        "S1_doubleA1A1_1 = 'BAD1342F-482E-488F-8241-A393B4779E26.png'\n",
        "S1_doubleA1A2_1 = '9D7A9589-9252-469F-91EA-D4E468396FEE.png'\n",
        "S1_doubleA1A3_1 = '9CE597ED-8559-4A45-B1FC-323795E27A49.png'\n",
        "S1_doubleA1A3_51 = 'DD4D4138-EFBA-47BA-BD4A-3DB3320CA41C.png'\n",
        "S1_doubleA1A4_1 = '4D2D6646-6689-44F7-9C7F-02EF1A2425F3.png'\n",
        "S1_doubleA1B1_1 ='108C58CA-1621-4F6A-91E7-C27549AE778B.png'\n",
        "S1_doubleA1B2_1 ='2E9D60DD-E905-4C6C-8AC5-E058328CF053.png'\n",
        "S1_doubleA1B3_1 = '0DCC6E2A-59E0-416D-87C2-465FF3F38CD1.png'\n",
        "S1_doubleA1B4_1 = '2464D7FC-08CA-4D1A-B4D0-482B86BC314C.png'\n",
        "S1_doubleA1C1_1 = 'EFB2845F-AEDA-4C7B-ADF0-29C12F850F01.png'\n",
        "S1_doubleA1C2_1 ='70C9C76E-AB0B-4074-A986-C94FBE4C91B2.png'\n",
        "S1_doubleA1C3_1 = '99C3C3DC-C74E-455C-ACB8-FA8B0F53E5F4.png'\n",
        "S1_doubleA1C4_1 = 'A8D889A2-4EC4-4F7E-9A4D-0BC38374C329.png'\n",
        "S1_doubleA1D2_1 = '7C752311-16CE-43E1-9FB1-4EB1237B4D9E.png'\n",
        "S1_doubleA1D3_1 = '9C3CEF71-769E-4934-9A07-AED8C06809F2.png'\n",
        "S1_doubleA1D4_1 = 'DBEB476A-848E-4D64-84A6-D9A60EE90168.png'"
      ],
      "execution_count": 12,
      "outputs": []
    },
    {
      "cell_type": "markdown",
      "metadata": {
        "id": "Z39xITwsdKL0"
      },
      "source": [
        "##Set2"
      ]
    },
    {
      "cell_type": "code",
      "metadata": {
        "id": "YQD6umVydO-P"
      },
      "source": [
        "S2_doubleA1A1_1 ='DF15ABDE-6706-4DBF-B915-3A5A55675BE9.png'\n",
        "S2_doubleA1A2_1 = 'E388D901-DBFA-4268-B37C-EF9C37DAB578.png'\n",
        "S2_doubleA1A3_1 = '1AB8C8C4-2730-4592-A485-A522C2519293.png'\n",
        "S2_doubleA1A3_51 = 'B4864E26-84E9-4930-967B-F135EA7BA79A.png'\n",
        "S2_doubleA1A4_1 = 'ACA47D6C-1A71-46CD-A633-EDE87875D9D8.png'\n",
        "S2_doubleA1B1_1 ='D8768257-B44E-4EB7-BCE4-9532E48FC7A6.png'\n",
        "S2_doubleA1B2_1 = '238CD373-949C-4BE4-A036-41891924A105.png'\n",
        "S2_doubleA1B3_1 ='B387BB2F-1EE3-48A0-9F47-9A161293647F.png'\n",
        "S2_doubleA1B4_1 = '11DA2416-C795-4251-A43A-432D44288BBC.png'\n",
        "S2_doubleA1C1_1 = 'BD6A1B8F-98B1-49D3-8381-9B1221F62D02.png'\n",
        "S2_doubleA1C2_1 = '36219ED8-3112-4ECA-BB05-9E287438B9D5.png'\n",
        "S2_doubleA1C3_1 = '98A01461-6DC4-4E78-A63E-DEA5E54A6D7C.png'\n",
        "S2_doubleA1C4_1 = '40DD5B0B-CF04-41A8-BA3A-F8639581735A.png'\n",
        "S2_doubleA1D2_1 = '85A9F92C-F7AE-4B5F-8F7D-9FD5A233517E.png'\n",
        "S2_doubleA1D3_1 ='F9887144-C224-4014-A65A-502DBE781571.png'\n",
        "S2_doubleA1D4_1 = '0D82FF81-9ACC-4356-8BE0-6453035EC408.png'"
      ],
      "execution_count": 13,
      "outputs": []
    },
    {
      "cell_type": "markdown",
      "metadata": {
        "id": "cKbTlQkYNhCv"
      },
      "source": [
        "##Set3"
      ]
    },
    {
      "cell_type": "code",
      "metadata": {
        "id": "did2o7PqIJyF"
      },
      "source": [
        "S3_doubleA1A1_1 = \n",
        "S3_doubleA1A2_1 = \n",
        "S3_doubleA1A3_1 =\n",
        "S3_doubleA1A3_51 =\n",
        "S3_doubleA1A4_1 =\n",
        "S3_doubleA1B1_1 = \n",
        "S3_doubleA1B2_1 = \n",
        "S3_doubleA1B3_1 = \n",
        "S3_doubleA1B4_1 =\n",
        "S3_doubleA1C1_1 =\n",
        "S3_doubleA1C2_1 =\n",
        "S3_doubleA1C3_1 =\n",
        "S3_doubleA1C4_1 = \n",
        "S3_doubleA1D2_1 =\n",
        "S3_doubleA1D3_1 = \n",
        "S3_doubleA1D4_1 = "
      ],
      "execution_count": null,
      "outputs": []
    },
    {
      "cell_type": "markdown",
      "metadata": {
        "id": "XqAK-KJAIKhJ"
      },
      "source": [
        "##Set4"
      ]
    },
    {
      "cell_type": "code",
      "metadata": {
        "id": "kGBOLp-nN2D5"
      },
      "source": [
        "S4_doubleA1A1_1 =\n",
        "S4_doubleA1A2_1 =\n",
        "S4_doubleA1A3_1 = \n",
        "S4_doubleA1A3_51 = \n",
        "S4_doubleA1A4_1 = \n",
        "S4_doubleA1B1_1 =\n",
        "S4_doubleA1B2_1 =\n",
        "S4_doubleA1B3_1 = \n",
        "S4_doubleA1B4_1 =\n",
        "S4_doubleA1C1_1 =\n",
        "S4_doubleA1C2_1 =\n",
        "S4_doubleA1C3_1 =\n",
        "S4_doubleA1C4_1 = \n",
        "S4_doubleA1D2_1 = \n",
        "S4_doubleA1D3_1 = \n",
        "S4_doubleA1D4_1 = "
      ],
      "execution_count": null,
      "outputs": []
    },
    {
      "cell_type": "markdown",
      "metadata": {
        "id": "Taw1dl5xglaj"
      },
      "source": [
        "#2. ดึงรูป"
      ]
    },
    {
      "cell_type": "code",
      "metadata": {
        "id": "jPe2WlLY4J0n"
      },
      "source": [
        "import cv2\n",
        "from matplotlib import pyplot as plt #การเรียกใช้คำสั่ง matplotlib เพื่อวาดกราฟ โดยแทนชื่อ matplotlib ด้วย plt\n",
        "import matplotlib"
      ],
      "execution_count": 14,
      "outputs": []
    },
    {
      "cell_type": "markdown",
      "metadata": {
        "id": "7Gl_H8idgnRf"
      },
      "source": [
        "##Set1"
      ]
    },
    {
      "cell_type": "code",
      "metadata": {
        "id": "s7mF6eEHiQ19",
        "colab": {
          "base_uri": "https://localhost:8080/"
        },
        "outputId": "84e05530-ea06-494d-da5e-8e809c9362d2"
      },
      "source": [
        "full_path_to_file2 = os.path.join(S1_doubleA1A1_1) \n",
        "blob_service_client.get_blob_to_path('shadeimg', full_path_to_file2, full_path_to_file2)"
      ],
      "execution_count": 15,
      "outputs": [
        {
          "output_type": "execute_result",
          "data": {
            "text/plain": [
              "<azure.storage.blob.models.Blob at 0x7fd37455db10>"
            ]
          },
          "metadata": {},
          "execution_count": 15
        }
      ]
    },
    {
      "cell_type": "code",
      "metadata": {
        "id": "kzMKB_OniZY1",
        "colab": {
          "base_uri": "https://localhost:8080/"
        },
        "outputId": "2fab2b91-31ad-4d69-85b7-cf8bf81eadbb"
      },
      "source": [
        "full_path_to_file2 = os.path.join(S1_doubleA1A2_1) \n",
        "blob_service_client.get_blob_to_path('shadeimg', full_path_to_file2, full_path_to_file2)"
      ],
      "execution_count": 16,
      "outputs": [
        {
          "output_type": "execute_result",
          "data": {
            "text/plain": [
              "<azure.storage.blob.models.Blob at 0x7fd364a89ad0>"
            ]
          },
          "metadata": {},
          "execution_count": 16
        }
      ]
    },
    {
      "cell_type": "code",
      "metadata": {
        "id": "IkeC-Fivih3w",
        "colab": {
          "base_uri": "https://localhost:8080/"
        },
        "outputId": "bf809d0c-ebc5-49d4-ae2d-4c8beb1ddfb5"
      },
      "source": [
        "full_path_to_file2 = os.path.join(S1_doubleA1A3_1) \n",
        "blob_service_client.get_blob_to_path('shadeimg', full_path_to_file2, full_path_to_file2)"
      ],
      "execution_count": 17,
      "outputs": [
        {
          "output_type": "execute_result",
          "data": {
            "text/plain": [
              "<azure.storage.blob.models.Blob at 0x7fd364aa1710>"
            ]
          },
          "metadata": {},
          "execution_count": 17
        }
      ]
    },
    {
      "cell_type": "code",
      "metadata": {
        "id": "3Y9aMJj6ij5n",
        "colab": {
          "base_uri": "https://localhost:8080/"
        },
        "outputId": "7114e322-f08d-4117-c5c5-c8a64ea6b16d"
      },
      "source": [
        "full_path_to_file2 = os.path.join(S1_doubleA1A3_51) \n",
        "blob_service_client.get_blob_to_path('shadeimg', full_path_to_file2, full_path_to_file2)"
      ],
      "execution_count": 18,
      "outputs": [
        {
          "output_type": "execute_result",
          "data": {
            "text/plain": [
              "<azure.storage.blob.models.Blob at 0x7fd364aa1490>"
            ]
          },
          "metadata": {},
          "execution_count": 18
        }
      ]
    },
    {
      "cell_type": "code",
      "metadata": {
        "id": "yrJq8907iuoY",
        "colab": {
          "base_uri": "https://localhost:8080/"
        },
        "outputId": "feb50444-e549-4f7f-8bcf-6903e09e1eee"
      },
      "source": [
        "full_path_to_file2 = os.path.join(S1_doubleA1A4_1) \n",
        "blob_service_client.get_blob_to_path('shadeimg', full_path_to_file2, full_path_to_file2)"
      ],
      "execution_count": 19,
      "outputs": [
        {
          "output_type": "execute_result",
          "data": {
            "text/plain": [
              "<azure.storage.blob.models.Blob at 0x7fd364afbf10>"
            ]
          },
          "metadata": {},
          "execution_count": 19
        }
      ]
    },
    {
      "cell_type": "code",
      "metadata": {
        "id": "0VJcKHW2i0Ac",
        "colab": {
          "base_uri": "https://localhost:8080/"
        },
        "outputId": "8fbbf73e-fe1a-4003-9fba-685aea68db26"
      },
      "source": [
        "full_path_to_file2 = os.path.join(S1_doubleA1B1_1) \n",
        "blob_service_client.get_blob_to_path('shadeimg', full_path_to_file2, full_path_to_file2)"
      ],
      "execution_count": 20,
      "outputs": [
        {
          "output_type": "execute_result",
          "data": {
            "text/plain": [
              "<azure.storage.blob.models.Blob at 0x7fd364aa5f10>"
            ]
          },
          "metadata": {},
          "execution_count": 20
        }
      ]
    },
    {
      "cell_type": "code",
      "metadata": {
        "id": "hY3AI9RFi0Ad",
        "colab": {
          "base_uri": "https://localhost:8080/"
        },
        "outputId": "1b147db5-4156-468d-be33-74cb8d1fb475"
      },
      "source": [
        "full_path_to_file2 = os.path.join(S1_doubleA1B2_1) \n",
        "blob_service_client.get_blob_to_path('shadeimg', full_path_to_file2, full_path_to_file2)"
      ],
      "execution_count": 21,
      "outputs": [
        {
          "output_type": "execute_result",
          "data": {
            "text/plain": [
              "<azure.storage.blob.models.Blob at 0x7fd364a89a10>"
            ]
          },
          "metadata": {},
          "execution_count": 21
        }
      ]
    },
    {
      "cell_type": "code",
      "metadata": {
        "id": "GApmsAnKi0Ad",
        "colab": {
          "base_uri": "https://localhost:8080/"
        },
        "outputId": "47090412-2f23-435f-9bfb-eda5eb9c6563"
      },
      "source": [
        "full_path_to_file2 = os.path.join(S1_doubleA1B3_1) \n",
        "blob_service_client.get_blob_to_path('shadeimg', full_path_to_file2, full_path_to_file2)"
      ],
      "execution_count": 22,
      "outputs": [
        {
          "output_type": "execute_result",
          "data": {
            "text/plain": [
              "<azure.storage.blob.models.Blob at 0x7fd364ab2710>"
            ]
          },
          "metadata": {},
          "execution_count": 22
        }
      ]
    },
    {
      "cell_type": "code",
      "metadata": {
        "id": "O1h96HYqi7cu",
        "colab": {
          "base_uri": "https://localhost:8080/"
        },
        "outputId": "c5cab191-5a05-4da2-81bd-9254fa0e490c"
      },
      "source": [
        "full_path_to_file2 = os.path.join(S1_doubleA1B4_1) \n",
        "blob_service_client.get_blob_to_path('shadeimg', full_path_to_file2, full_path_to_file2)"
      ],
      "execution_count": 23,
      "outputs": [
        {
          "output_type": "execute_result",
          "data": {
            "text/plain": [
              "<azure.storage.blob.models.Blob at 0x7fd364a89bd0>"
            ]
          },
          "metadata": {},
          "execution_count": 23
        }
      ]
    },
    {
      "cell_type": "code",
      "metadata": {
        "id": "RsMHbknqi_fT",
        "colab": {
          "base_uri": "https://localhost:8080/"
        },
        "outputId": "c74634e9-7c7c-4d89-94b7-3a19cd8c4896"
      },
      "source": [
        "full_path_to_file2 = os.path.join(S1_doubleA1C1_1) \n",
        "blob_service_client.get_blob_to_path('shadeimg', full_path_to_file2, full_path_to_file2)"
      ],
      "execution_count": 24,
      "outputs": [
        {
          "output_type": "execute_result",
          "data": {
            "text/plain": [
              "<azure.storage.blob.models.Blob at 0x7fd364ab2c90>"
            ]
          },
          "metadata": {},
          "execution_count": 24
        }
      ]
    },
    {
      "cell_type": "code",
      "metadata": {
        "id": "wI0oZemgi_fT",
        "colab": {
          "base_uri": "https://localhost:8080/"
        },
        "outputId": "e74a3511-7418-4eac-fa87-dd881cdbfb42"
      },
      "source": [
        "full_path_to_file2 = os.path.join(S1_doubleA1C2_1) \n",
        "blob_service_client.get_blob_to_path('shadeimg', full_path_to_file2, full_path_to_file2)"
      ],
      "execution_count": 25,
      "outputs": [
        {
          "output_type": "execute_result",
          "data": {
            "text/plain": [
              "<azure.storage.blob.models.Blob at 0x7fd364afbf90>"
            ]
          },
          "metadata": {},
          "execution_count": 25
        }
      ]
    },
    {
      "cell_type": "code",
      "metadata": {
        "id": "6ga7nGGti_fT",
        "colab": {
          "base_uri": "https://localhost:8080/"
        },
        "outputId": "b7952413-7e3b-41f6-8ae4-6a3cf3b2b4e1"
      },
      "source": [
        "full_path_to_file2 = os.path.join(S1_doubleA1C3_1) \n",
        "blob_service_client.get_blob_to_path('shadeimg', full_path_to_file2, full_path_to_file2)"
      ],
      "execution_count": 26,
      "outputs": [
        {
          "output_type": "execute_result",
          "data": {
            "text/plain": [
              "<azure.storage.blob.models.Blob at 0x7fd364ab9d50>"
            ]
          },
          "metadata": {},
          "execution_count": 26
        }
      ]
    },
    {
      "cell_type": "code",
      "metadata": {
        "id": "nsiPutfEi_fU",
        "colab": {
          "base_uri": "https://localhost:8080/"
        },
        "outputId": "2d663013-446b-4226-8d1b-114a14e9db90"
      },
      "source": [
        "full_path_to_file2 = os.path.join(S1_doubleA1C4_1) \n",
        "blob_service_client.get_blob_to_path('shadeimg', full_path_to_file2, full_path_to_file2)"
      ],
      "execution_count": 27,
      "outputs": [
        {
          "output_type": "execute_result",
          "data": {
            "text/plain": [
              "<azure.storage.blob.models.Blob at 0x7fd364ab28d0>"
            ]
          },
          "metadata": {},
          "execution_count": 27
        }
      ]
    },
    {
      "cell_type": "code",
      "metadata": {
        "id": "IlqllUIljGVj",
        "colab": {
          "base_uri": "https://localhost:8080/"
        },
        "outputId": "232e3195-ae41-4537-fd1c-4ed4a4e1b60c"
      },
      "source": [
        "full_path_to_file2 = os.path.join(S1_doubleA1D2_1) \n",
        "blob_service_client.get_blob_to_path('shadeimg', full_path_to_file2, full_path_to_file2)"
      ],
      "execution_count": 28,
      "outputs": [
        {
          "output_type": "execute_result",
          "data": {
            "text/plain": [
              "<azure.storage.blob.models.Blob at 0x7fd364aa1690>"
            ]
          },
          "metadata": {},
          "execution_count": 28
        }
      ]
    },
    {
      "cell_type": "code",
      "metadata": {
        "id": "jXXF16lsjGVj",
        "colab": {
          "base_uri": "https://localhost:8080/"
        },
        "outputId": "6a2ed04b-d3a0-479b-ce00-fb2b8a149000"
      },
      "source": [
        "full_path_to_file2 = os.path.join(S1_doubleA1D3_1) \n",
        "blob_service_client.get_blob_to_path('shadeimg', full_path_to_file2, full_path_to_file2)"
      ],
      "execution_count": 29,
      "outputs": [
        {
          "output_type": "execute_result",
          "data": {
            "text/plain": [
              "<azure.storage.blob.models.Blob at 0x7fd364b00b50>"
            ]
          },
          "metadata": {},
          "execution_count": 29
        }
      ]
    },
    {
      "cell_type": "code",
      "metadata": {
        "id": "xRA_M-1PjGVj",
        "colab": {
          "base_uri": "https://localhost:8080/"
        },
        "outputId": "de7caf8a-e59b-4766-9144-da65f051bc10"
      },
      "source": [
        "full_path_to_file2 = os.path.join(S1_doubleA1D4_1) \n",
        "blob_service_client.get_blob_to_path('shadeimg', full_path_to_file2, full_path_to_file2)"
      ],
      "execution_count": 30,
      "outputs": [
        {
          "output_type": "execute_result",
          "data": {
            "text/plain": [
              "<azure.storage.blob.models.Blob at 0x7fd364aa15d0>"
            ]
          },
          "metadata": {},
          "execution_count": 30
        }
      ]
    },
    {
      "cell_type": "markdown",
      "metadata": {
        "id": "JmfKq8t7j28g"
      },
      "source": [
        "##Set2"
      ]
    },
    {
      "cell_type": "code",
      "metadata": {
        "id": "YG9ON04Hj7na",
        "colab": {
          "base_uri": "https://localhost:8080/"
        },
        "outputId": "fa2b3e2e-814d-40be-b406-02cea2d2ea8a"
      },
      "source": [
        "full_path_to_file2 = os.path.join(S2_doubleA1A1_1) \n",
        "blob_service_client.get_blob_to_path('shadeimg', full_path_to_file2, full_path_to_file2)"
      ],
      "execution_count": 31,
      "outputs": [
        {
          "output_type": "execute_result",
          "data": {
            "text/plain": [
              "<azure.storage.blob.models.Blob at 0x7fd36462ea90>"
            ]
          },
          "metadata": {},
          "execution_count": 31
        }
      ]
    },
    {
      "cell_type": "code",
      "metadata": {
        "id": "fpIQGSx4j7na",
        "colab": {
          "base_uri": "https://localhost:8080/"
        },
        "outputId": "a98c7d1c-5e1b-4f22-98b6-216d02219c2d"
      },
      "source": [
        "full_path_to_file2 = os.path.join(S2_doubleA1A2_1) \n",
        "blob_service_client.get_blob_to_path('shadeimg', full_path_to_file2, full_path_to_file2)"
      ],
      "execution_count": 32,
      "outputs": [
        {
          "output_type": "execute_result",
          "data": {
            "text/plain": [
              "<azure.storage.blob.models.Blob at 0x7fd364aa1d90>"
            ]
          },
          "metadata": {},
          "execution_count": 32
        }
      ]
    },
    {
      "cell_type": "code",
      "metadata": {
        "id": "0vETkmqzj7na",
        "colab": {
          "base_uri": "https://localhost:8080/"
        },
        "outputId": "be3df494-67e4-4fea-df92-4c2c7b0875df"
      },
      "source": [
        "full_path_to_file2 = os.path.join(S2_doubleA1A3_1) \n",
        "blob_service_client.get_blob_to_path('shadeimg', full_path_to_file2, full_path_to_file2)"
      ],
      "execution_count": 33,
      "outputs": [
        {
          "output_type": "execute_result",
          "data": {
            "text/plain": [
              "<azure.storage.blob.models.Blob at 0x7fd36462e490>"
            ]
          },
          "metadata": {},
          "execution_count": 33
        }
      ]
    },
    {
      "cell_type": "code",
      "metadata": {
        "id": "l1GlwzPqj7nb",
        "colab": {
          "base_uri": "https://localhost:8080/"
        },
        "outputId": "9ef5234d-1234-4a9d-e91c-6284d366ae90"
      },
      "source": [
        "full_path_to_file2 = os.path.join(S2_doubleA1A3_51) \n",
        "blob_service_client.get_blob_to_path('shadeimg', full_path_to_file2, full_path_to_file2)"
      ],
      "execution_count": 34,
      "outputs": [
        {
          "output_type": "execute_result",
          "data": {
            "text/plain": [
              "<azure.storage.blob.models.Blob at 0x7fd364635710>"
            ]
          },
          "metadata": {},
          "execution_count": 34
        }
      ]
    },
    {
      "cell_type": "code",
      "metadata": {
        "id": "qb0jvIuNj7nb",
        "colab": {
          "base_uri": "https://localhost:8080/"
        },
        "outputId": "6dda2b19-0e61-4ee5-9253-e8228045becb"
      },
      "source": [
        "full_path_to_file2 = os.path.join(S2_doubleA1A4_1) \n",
        "blob_service_client.get_blob_to_path('shadeimg', full_path_to_file2, full_path_to_file2)"
      ],
      "execution_count": 35,
      "outputs": [
        {
          "output_type": "execute_result",
          "data": {
            "text/plain": [
              "<azure.storage.blob.models.Blob at 0x7fd364ab8510>"
            ]
          },
          "metadata": {},
          "execution_count": 35
        }
      ]
    },
    {
      "cell_type": "code",
      "metadata": {
        "id": "lvYoBM2Lj7nb",
        "colab": {
          "base_uri": "https://localhost:8080/"
        },
        "outputId": "fa74cca3-399e-466d-93a6-986a511e6b83"
      },
      "source": [
        "full_path_to_file2 = os.path.join(S2_doubleA1B1_1) \n",
        "blob_service_client.get_blob_to_path('shadeimg', full_path_to_file2, full_path_to_file2)"
      ],
      "execution_count": 36,
      "outputs": [
        {
          "output_type": "execute_result",
          "data": {
            "text/plain": [
              "<azure.storage.blob.models.Blob at 0x7fd364635dd0>"
            ]
          },
          "metadata": {},
          "execution_count": 36
        }
      ]
    },
    {
      "cell_type": "code",
      "metadata": {
        "id": "cWIIfSkgj7nb",
        "colab": {
          "base_uri": "https://localhost:8080/"
        },
        "outputId": "6fa035dd-4f40-4399-841d-54b9919ddbac"
      },
      "source": [
        "full_path_to_file2 = os.path.join(S2_doubleA1B2_1) \n",
        "blob_service_client.get_blob_to_path('shadeimg', full_path_to_file2, full_path_to_file2)"
      ],
      "execution_count": 37,
      "outputs": [
        {
          "output_type": "execute_result",
          "data": {
            "text/plain": [
              "<azure.storage.blob.models.Blob at 0x7fd364ab9c90>"
            ]
          },
          "metadata": {},
          "execution_count": 37
        }
      ]
    },
    {
      "cell_type": "code",
      "metadata": {
        "id": "xWiyHdd1j7nb",
        "colab": {
          "base_uri": "https://localhost:8080/"
        },
        "outputId": "929c48e2-98c8-455b-c666-1560bdc1dcdf"
      },
      "source": [
        "full_path_to_file2 = os.path.join(S2_doubleA1B3_1) \n",
        "blob_service_client.get_blob_to_path('shadeimg', full_path_to_file2, full_path_to_file2)"
      ],
      "execution_count": 38,
      "outputs": [
        {
          "output_type": "execute_result",
          "data": {
            "text/plain": [
              "<azure.storage.blob.models.Blob at 0x7fd364ac41d0>"
            ]
          },
          "metadata": {},
          "execution_count": 38
        }
      ]
    },
    {
      "cell_type": "code",
      "metadata": {
        "id": "blRYp5Mmj7nc",
        "colab": {
          "base_uri": "https://localhost:8080/"
        },
        "outputId": "bf6e4fbb-c1d9-4fce-9a0a-5bc3830f05a9"
      },
      "source": [
        "full_path_to_file2 = os.path.join(S2_doubleA1B4_1) \n",
        "blob_service_client.get_blob_to_path('shadeimg', full_path_to_file2, full_path_to_file2)"
      ],
      "execution_count": 39,
      "outputs": [
        {
          "output_type": "execute_result",
          "data": {
            "text/plain": [
              "<azure.storage.blob.models.Blob at 0x7fd364631950>"
            ]
          },
          "metadata": {},
          "execution_count": 39
        }
      ]
    },
    {
      "cell_type": "code",
      "metadata": {
        "id": "BzHII9hsj7nc",
        "colab": {
          "base_uri": "https://localhost:8080/"
        },
        "outputId": "2e3e0728-c97c-4734-cc64-660f8cd4a301"
      },
      "source": [
        "full_path_to_file2 = os.path.join(S2_doubleA1C1_1) \n",
        "blob_service_client.get_blob_to_path('shadeimg', full_path_to_file2, full_path_to_file2)"
      ],
      "execution_count": 40,
      "outputs": [
        {
          "output_type": "execute_result",
          "data": {
            "text/plain": [
              "<azure.storage.blob.models.Blob at 0x7fd364ab2190>"
            ]
          },
          "metadata": {},
          "execution_count": 40
        }
      ]
    },
    {
      "cell_type": "code",
      "metadata": {
        "id": "86smhxkzj7nc",
        "colab": {
          "base_uri": "https://localhost:8080/"
        },
        "outputId": "2ca14b78-2d84-46ac-bbfa-9217e59235a8"
      },
      "source": [
        "full_path_to_file2 = os.path.join(S2_doubleA1C2_1) \n",
        "blob_service_client.get_blob_to_path('shadeimg', full_path_to_file2, full_path_to_file2)"
      ],
      "execution_count": 41,
      "outputs": [
        {
          "output_type": "execute_result",
          "data": {
            "text/plain": [
              "<azure.storage.blob.models.Blob at 0x7fd364635290>"
            ]
          },
          "metadata": {},
          "execution_count": 41
        }
      ]
    },
    {
      "cell_type": "code",
      "metadata": {
        "id": "bUBV2WtFj7nc",
        "colab": {
          "base_uri": "https://localhost:8080/"
        },
        "outputId": "05b07509-9688-42de-a7c3-d6c0befedcab"
      },
      "source": [
        "full_path_to_file2 = os.path.join(S2_doubleA1C3_1) \n",
        "blob_service_client.get_blob_to_path('shadeimg', full_path_to_file2, full_path_to_file2)"
      ],
      "execution_count": 42,
      "outputs": [
        {
          "output_type": "execute_result",
          "data": {
            "text/plain": [
              "<azure.storage.blob.models.Blob at 0x7fd364ac4310>"
            ]
          },
          "metadata": {},
          "execution_count": 42
        }
      ]
    },
    {
      "cell_type": "code",
      "metadata": {
        "id": "FKzepKgNj7nc",
        "colab": {
          "base_uri": "https://localhost:8080/"
        },
        "outputId": "3e331e2f-fa0e-4c43-d9b2-54db0846b686"
      },
      "source": [
        "full_path_to_file2 = os.path.join(S2_doubleA1C4_1) \n",
        "blob_service_client.get_blob_to_path('shadeimg', full_path_to_file2, full_path_to_file2)"
      ],
      "execution_count": 43,
      "outputs": [
        {
          "output_type": "execute_result",
          "data": {
            "text/plain": [
              "<azure.storage.blob.models.Blob at 0x7fd364635690>"
            ]
          },
          "metadata": {},
          "execution_count": 43
        }
      ]
    },
    {
      "cell_type": "code",
      "metadata": {
        "id": "YnvzMa_oj7nc",
        "colab": {
          "base_uri": "https://localhost:8080/"
        },
        "outputId": "18442ae6-4594-4f23-8eef-9871917eec02"
      },
      "source": [
        "full_path_to_file2 = os.path.join(S2_doubleA1D2_1) \n",
        "blob_service_client.get_blob_to_path('shadeimg', full_path_to_file2, full_path_to_file2)"
      ],
      "execution_count": 44,
      "outputs": [
        {
          "output_type": "execute_result",
          "data": {
            "text/plain": [
              "<azure.storage.blob.models.Blob at 0x7fd364631ed0>"
            ]
          },
          "metadata": {},
          "execution_count": 44
        }
      ]
    },
    {
      "cell_type": "code",
      "metadata": {
        "id": "03OpE9BUj7nd",
        "colab": {
          "base_uri": "https://localhost:8080/"
        },
        "outputId": "4f6b71f3-0ed0-4822-f037-242034b140cb"
      },
      "source": [
        "full_path_to_file2 = os.path.join(S2_doubleA1D3_1) \n",
        "blob_service_client.get_blob_to_path('shadeimg', full_path_to_file2, full_path_to_file2)"
      ],
      "execution_count": 45,
      "outputs": [
        {
          "output_type": "execute_result",
          "data": {
            "text/plain": [
              "<azure.storage.blob.models.Blob at 0x7fd364635f90>"
            ]
          },
          "metadata": {},
          "execution_count": 45
        }
      ]
    },
    {
      "cell_type": "code",
      "metadata": {
        "id": "khY3eumjj7nd",
        "colab": {
          "base_uri": "https://localhost:8080/"
        },
        "outputId": "cc9e7553-58c1-4dd5-bd00-76773b124ec7"
      },
      "source": [
        "full_path_to_file2 = os.path.join(S2_doubleA1D4_1) \n",
        "blob_service_client.get_blob_to_path('shadeimg', full_path_to_file2, full_path_to_file2)"
      ],
      "execution_count": 46,
      "outputs": [
        {
          "output_type": "execute_result",
          "data": {
            "text/plain": [
              "<azure.storage.blob.models.Blob at 0x7fd364646b50>"
            ]
          },
          "metadata": {},
          "execution_count": 46
        }
      ]
    },
    {
      "cell_type": "code",
      "metadata": {
        "id": "T70mbZfcNo6q"
      },
      "source": [
        ""
      ],
      "execution_count": 46,
      "outputs": []
    },
    {
      "cell_type": "markdown",
      "metadata": {
        "id": "Q3_Me1CGkKOR"
      },
      "source": [
        "##Set3"
      ]
    },
    {
      "cell_type": "code",
      "metadata": {
        "id": "rEVmkmEHkP6w",
        "colab": {
          "base_uri": "https://localhost:8080/"
        },
        "outputId": "9627eb3c-0bd2-4b3d-e71f-d5b7ab874f96"
      },
      "source": [
        "full_path_to_file2 = os.path.join(S3_doubleA1A1_1) \n",
        "blob_service_client.get_blob_to_path('shadeimg', full_path_to_file2, full_path_to_file2)"
      ],
      "execution_count": null,
      "outputs": [
        {
          "output_type": "execute_result",
          "data": {
            "text/plain": [
              "<azure.storage.blob.models.Blob at 0x7ff6b7f15250>"
            ]
          },
          "metadata": {},
          "execution_count": 46
        }
      ]
    },
    {
      "cell_type": "code",
      "metadata": {
        "id": "E2zB9r0nkP6w",
        "colab": {
          "base_uri": "https://localhost:8080/"
        },
        "outputId": "81df8a8a-c3e0-47f3-e9c3-71f7479bd42b"
      },
      "source": [
        "full_path_to_file2 = os.path.join(S3_doubleA1A2_1) \n",
        "blob_service_client.get_blob_to_path('shadeimg', full_path_to_file2, full_path_to_file2)"
      ],
      "execution_count": null,
      "outputs": [
        {
          "output_type": "execute_result",
          "data": {
            "text/plain": [
              "<azure.storage.blob.models.Blob at 0x7ff6b7f130d0>"
            ]
          },
          "metadata": {},
          "execution_count": 47
        }
      ]
    },
    {
      "cell_type": "code",
      "metadata": {
        "id": "khquyJtfkP6w",
        "colab": {
          "base_uri": "https://localhost:8080/"
        },
        "outputId": "86479c14-ff65-4ad6-acec-18e61c96604b"
      },
      "source": [
        "full_path_to_file2 = os.path.join(S3_doubleA1A3_1) \n",
        "blob_service_client.get_blob_to_path('shadeimg', full_path_to_file2, full_path_to_file2)"
      ],
      "execution_count": null,
      "outputs": [
        {
          "output_type": "execute_result",
          "data": {
            "text/plain": [
              "<azure.storage.blob.models.Blob at 0x7ff6b837cd10>"
            ]
          },
          "metadata": {},
          "execution_count": 48
        }
      ]
    },
    {
      "cell_type": "code",
      "metadata": {
        "id": "g30DpucakP6w",
        "colab": {
          "base_uri": "https://localhost:8080/"
        },
        "outputId": "13baee93-d998-405b-fc8f-d512e2738f9f"
      },
      "source": [
        "full_path_to_file2 = os.path.join(S3_doubleA1A3_51) \n",
        "blob_service_client.get_blob_to_path('shadeimg', full_path_to_file2, full_path_to_file2)"
      ],
      "execution_count": null,
      "outputs": [
        {
          "output_type": "execute_result",
          "data": {
            "text/plain": [
              "<azure.storage.blob.models.Blob at 0x7ff6b7f13510>"
            ]
          },
          "metadata": {},
          "execution_count": 49
        }
      ]
    },
    {
      "cell_type": "code",
      "metadata": {
        "id": "to8VKPf7kP6x",
        "colab": {
          "base_uri": "https://localhost:8080/"
        },
        "outputId": "ac3d9b8c-372a-4872-b9fd-116ab07fac02"
      },
      "source": [
        "full_path_to_file2 = os.path.join(S3_doubleA1A4_1) \n",
        "blob_service_client.get_blob_to_path('shadeimg', full_path_to_file2, full_path_to_file2)"
      ],
      "execution_count": null,
      "outputs": [
        {
          "output_type": "execute_result",
          "data": {
            "text/plain": [
              "<azure.storage.blob.models.Blob at 0x7ff6b83cde10>"
            ]
          },
          "metadata": {},
          "execution_count": 50
        }
      ]
    },
    {
      "cell_type": "code",
      "metadata": {
        "id": "kPdx-IstkP6x",
        "colab": {
          "base_uri": "https://localhost:8080/"
        },
        "outputId": "881ab022-3d80-4c14-e719-486fe04c12c1"
      },
      "source": [
        "full_path_to_file2 = os.path.join(S3_doubleA1B1_1) \n",
        "blob_service_client.get_blob_to_path('shadeimg', full_path_to_file2, full_path_to_file2)"
      ],
      "execution_count": null,
      "outputs": [
        {
          "output_type": "execute_result",
          "data": {
            "text/plain": [
              "<azure.storage.blob.models.Blob at 0x7ff6b8378050>"
            ]
          },
          "metadata": {},
          "execution_count": 51
        }
      ]
    },
    {
      "cell_type": "code",
      "metadata": {
        "id": "ihyLdsa6kP6x",
        "colab": {
          "base_uri": "https://localhost:8080/"
        },
        "outputId": "7a8df809-b8cf-4cf5-cfa9-07fe497afc95"
      },
      "source": [
        "full_path_to_file2 = os.path.join(S3_doubleA1B2_1) \n",
        "blob_service_client.get_blob_to_path('shadeimg', full_path_to_file2, full_path_to_file2)"
      ],
      "execution_count": null,
      "outputs": [
        {
          "output_type": "execute_result",
          "data": {
            "text/plain": [
              "<azure.storage.blob.models.Blob at 0x7ff6b7f1fd50>"
            ]
          },
          "metadata": {},
          "execution_count": 52
        }
      ]
    },
    {
      "cell_type": "code",
      "metadata": {
        "id": "1SnnyHPPkP6x",
        "colab": {
          "base_uri": "https://localhost:8080/"
        },
        "outputId": "0730ce04-2956-4571-f279-b2f3d2a81f71"
      },
      "source": [
        "full_path_to_file2 = os.path.join(S3_doubleA1B3_1) \n",
        "blob_service_client.get_blob_to_path('shadeimg', full_path_to_file2, full_path_to_file2)"
      ],
      "execution_count": null,
      "outputs": [
        {
          "output_type": "execute_result",
          "data": {
            "text/plain": [
              "<azure.storage.blob.models.Blob at 0x7ff6c15c4590>"
            ]
          },
          "metadata": {},
          "execution_count": 53
        }
      ]
    },
    {
      "cell_type": "code",
      "metadata": {
        "id": "GtNbhDGtkP6y",
        "colab": {
          "base_uri": "https://localhost:8080/"
        },
        "outputId": "a641f605-4f27-4cc7-91e9-a4b1bfc4c0e3"
      },
      "source": [
        "full_path_to_file2 = os.path.join(S3_doubleA1B4_1) \n",
        "blob_service_client.get_blob_to_path('shadeimg', full_path_to_file2, full_path_to_file2)"
      ],
      "execution_count": null,
      "outputs": [
        {
          "output_type": "execute_result",
          "data": {
            "text/plain": [
              "<azure.storage.blob.models.Blob at 0x7ff6b7f25c50>"
            ]
          },
          "metadata": {},
          "execution_count": 54
        }
      ]
    },
    {
      "cell_type": "code",
      "metadata": {
        "id": "lTqSTkX8kP6y",
        "colab": {
          "base_uri": "https://localhost:8080/"
        },
        "outputId": "2b520e02-2daa-47cf-9413-b60a408d7fae"
      },
      "source": [
        "full_path_to_file2 = os.path.join(S3_doubleA1C1_1) \n",
        "blob_service_client.get_blob_to_path('shadeimg', full_path_to_file2, full_path_to_file2)"
      ],
      "execution_count": null,
      "outputs": [
        {
          "output_type": "execute_result",
          "data": {
            "text/plain": [
              "<azure.storage.blob.models.Blob at 0x7ff6b7f1bd90>"
            ]
          },
          "metadata": {},
          "execution_count": 55
        }
      ]
    },
    {
      "cell_type": "code",
      "metadata": {
        "id": "MFPbxYuSkP6y",
        "colab": {
          "base_uri": "https://localhost:8080/"
        },
        "outputId": "cb0c80cf-b541-4991-e307-f16509738ebf"
      },
      "source": [
        "full_path_to_file2 = os.path.join(S3_doubleA1C2_1) \n",
        "blob_service_client.get_blob_to_path('shadeimg', full_path_to_file2, full_path_to_file2)"
      ],
      "execution_count": null,
      "outputs": [
        {
          "output_type": "execute_result",
          "data": {
            "text/plain": [
              "<azure.storage.blob.models.Blob at 0x7ff6b7f30050>"
            ]
          },
          "metadata": {},
          "execution_count": 56
        }
      ]
    },
    {
      "cell_type": "code",
      "metadata": {
        "id": "v9bYx36OkP6y",
        "colab": {
          "base_uri": "https://localhost:8080/"
        },
        "outputId": "a2ae5acf-0b81-4a3d-bef1-50cca2dec444"
      },
      "source": [
        "full_path_to_file2 = os.path.join(S3_doubleA1C3_1) \n",
        "blob_service_client.get_blob_to_path('shadeimg', full_path_to_file2, full_path_to_file2)"
      ],
      "execution_count": null,
      "outputs": [
        {
          "output_type": "execute_result",
          "data": {
            "text/plain": [
              "<azure.storage.blob.models.Blob at 0x7ff6b7f1fc10>"
            ]
          },
          "metadata": {},
          "execution_count": 57
        }
      ]
    },
    {
      "cell_type": "code",
      "metadata": {
        "id": "RfK5JrGhkP6y",
        "colab": {
          "base_uri": "https://localhost:8080/"
        },
        "outputId": "2ddc9d6a-9782-4218-b51a-322cbea6d149"
      },
      "source": [
        "full_path_to_file2 = os.path.join(S3_doubleA1C4_1) \n",
        "blob_service_client.get_blob_to_path('shadeimg', full_path_to_file2, full_path_to_file2)"
      ],
      "execution_count": null,
      "outputs": [
        {
          "output_type": "execute_result",
          "data": {
            "text/plain": [
              "<azure.storage.blob.models.Blob at 0x7ff6b7f1fc90>"
            ]
          },
          "metadata": {},
          "execution_count": 58
        }
      ]
    },
    {
      "cell_type": "code",
      "metadata": {
        "id": "O2jZnO3RkP6y",
        "colab": {
          "base_uri": "https://localhost:8080/"
        },
        "outputId": "cf5f2662-ffbe-49b0-ee3f-231d3683fc03"
      },
      "source": [
        "full_path_to_file2 = os.path.join(S3_doubleA1D2_1) \n",
        "blob_service_client.get_blob_to_path('shadeimg', full_path_to_file2, full_path_to_file2)"
      ],
      "execution_count": null,
      "outputs": [
        {
          "output_type": "execute_result",
          "data": {
            "text/plain": [
              "<azure.storage.blob.models.Blob at 0x7ff6b7f0bd90>"
            ]
          },
          "metadata": {},
          "execution_count": 59
        }
      ]
    },
    {
      "cell_type": "code",
      "metadata": {
        "id": "kFiVo-PUkP6z",
        "colab": {
          "base_uri": "https://localhost:8080/"
        },
        "outputId": "bb343089-cd8a-4b71-80ad-d7f18cd0e8a9"
      },
      "source": [
        "full_path_to_file2 = os.path.join(S3_doubleA1D3_1) \n",
        "blob_service_client.get_blob_to_path('shadeimg', full_path_to_file2, full_path_to_file2)"
      ],
      "execution_count": null,
      "outputs": [
        {
          "output_type": "execute_result",
          "data": {
            "text/plain": [
              "<azure.storage.blob.models.Blob at 0x7ff6b7f0b610>"
            ]
          },
          "metadata": {},
          "execution_count": 60
        }
      ]
    },
    {
      "cell_type": "code",
      "metadata": {
        "id": "b3f1LDx1kP6z",
        "colab": {
          "base_uri": "https://localhost:8080/"
        },
        "outputId": "a08da854-da81-4089-e29c-2f773a910439"
      },
      "source": [
        "full_path_to_file2 = os.path.join(S3_doubleA1D4_1) \n",
        "blob_service_client.get_blob_to_path('shadeimg', full_path_to_file2, full_path_to_file2)"
      ],
      "execution_count": null,
      "outputs": [
        {
          "output_type": "execute_result",
          "data": {
            "text/plain": [
              "<azure.storage.blob.models.Blob at 0x7ff6b7f309d0>"
            ]
          },
          "metadata": {},
          "execution_count": 61
        }
      ]
    },
    {
      "cell_type": "markdown",
      "metadata": {
        "id": "2-qqdDCqkLii"
      },
      "source": [
        "##Set4"
      ]
    },
    {
      "cell_type": "code",
      "metadata": {
        "id": "4E1UeuklpZx4",
        "colab": {
          "base_uri": "https://localhost:8080/"
        },
        "outputId": "60732c66-9841-47d8-bf9c-57cb86a76cd3"
      },
      "source": [
        "full_path_to_file2 = os.path.join(S4_doubleA1A1_1) \n",
        "blob_service_client.get_blob_to_path('shadeimg', full_path_to_file2, full_path_to_file2)"
      ],
      "execution_count": null,
      "outputs": [
        {
          "output_type": "execute_result",
          "data": {
            "text/plain": [
              "<azure.storage.blob.models.Blob at 0x7ff6b7f30910>"
            ]
          },
          "metadata": {},
          "execution_count": 62
        }
      ]
    },
    {
      "cell_type": "code",
      "metadata": {
        "id": "VfaCxfJjpZx5",
        "colab": {
          "base_uri": "https://localhost:8080/"
        },
        "outputId": "3da1b14d-bc69-4bab-b129-9597d93564e1"
      },
      "source": [
        "full_path_to_file2 = os.path.join(S4_doubleA1A2_1) \n",
        "blob_service_client.get_blob_to_path('shadeimg', full_path_to_file2, full_path_to_file2)"
      ],
      "execution_count": null,
      "outputs": [
        {
          "output_type": "execute_result",
          "data": {
            "text/plain": [
              "<azure.storage.blob.models.Blob at 0x7ff6b7f2bf10>"
            ]
          },
          "metadata": {},
          "execution_count": 63
        }
      ]
    },
    {
      "cell_type": "code",
      "metadata": {
        "id": "3zFh2y2IpZx5",
        "colab": {
          "base_uri": "https://localhost:8080/"
        },
        "outputId": "cbb8d889-de82-430b-dfe6-eebd8c9a544b"
      },
      "source": [
        "full_path_to_file2 = os.path.join(S4_doubleA1A3_1) \n",
        "blob_service_client.get_blob_to_path('shadeimg', full_path_to_file2, full_path_to_file2)"
      ],
      "execution_count": null,
      "outputs": [
        {
          "output_type": "execute_result",
          "data": {
            "text/plain": [
              "<azure.storage.blob.models.Blob at 0x7ff6b7f15b90>"
            ]
          },
          "metadata": {},
          "execution_count": 64
        }
      ]
    },
    {
      "cell_type": "code",
      "metadata": {
        "id": "X_rktcv8pZx5",
        "colab": {
          "base_uri": "https://localhost:8080/"
        },
        "outputId": "a30c0155-2227-4010-962b-b2c0879f48fd"
      },
      "source": [
        "full_path_to_file2 = os.path.join(S4_doubleA1A3_51) \n",
        "blob_service_client.get_blob_to_path('shadeimg', full_path_to_file2, full_path_to_file2)"
      ],
      "execution_count": null,
      "outputs": [
        {
          "output_type": "execute_result",
          "data": {
            "text/plain": [
              "<azure.storage.blob.models.Blob at 0x7ff6b7ec3e90>"
            ]
          },
          "metadata": {},
          "execution_count": 65
        }
      ]
    },
    {
      "cell_type": "code",
      "metadata": {
        "id": "m59vf9VfpZx5",
        "colab": {
          "base_uri": "https://localhost:8080/"
        },
        "outputId": "ec116bd4-c750-4690-dda2-2072a6bedb57"
      },
      "source": [
        "full_path_to_file2 = os.path.join(S4_doubleA1A4_1) \n",
        "blob_service_client.get_blob_to_path('shadeimg', full_path_to_file2, full_path_to_file2)"
      ],
      "execution_count": null,
      "outputs": [
        {
          "output_type": "execute_result",
          "data": {
            "text/plain": [
              "<azure.storage.blob.models.Blob at 0x7ff6b837c850>"
            ]
          },
          "metadata": {},
          "execution_count": 66
        }
      ]
    },
    {
      "cell_type": "code",
      "metadata": {
        "id": "D_5Yd3w7pZx6",
        "colab": {
          "base_uri": "https://localhost:8080/"
        },
        "outputId": "e693073e-2906-4c0c-ddc4-0118eaeb978f"
      },
      "source": [
        "full_path_to_file2 = os.path.join(S4_doubleA1B1_1) \n",
        "blob_service_client.get_blob_to_path('shadeimg', full_path_to_file2, full_path_to_file2)"
      ],
      "execution_count": null,
      "outputs": [
        {
          "output_type": "execute_result",
          "data": {
            "text/plain": [
              "<azure.storage.blob.models.Blob at 0x7ff6b7f1b950>"
            ]
          },
          "metadata": {},
          "execution_count": 67
        }
      ]
    },
    {
      "cell_type": "code",
      "metadata": {
        "id": "RHWuivGUpZx6",
        "colab": {
          "base_uri": "https://localhost:8080/"
        },
        "outputId": "4495cf25-70f2-4d57-85db-d848e596e155"
      },
      "source": [
        "full_path_to_file2 = os.path.join(S4_doubleA1B2_1) \n",
        "blob_service_client.get_blob_to_path('shadeimg', full_path_to_file2, full_path_to_file2)"
      ],
      "execution_count": null,
      "outputs": [
        {
          "output_type": "execute_result",
          "data": {
            "text/plain": [
              "<azure.storage.blob.models.Blob at 0x7ff6b7f30f50>"
            ]
          },
          "metadata": {},
          "execution_count": 68
        }
      ]
    },
    {
      "cell_type": "code",
      "metadata": {
        "id": "G5lF8IhzpZx6",
        "colab": {
          "base_uri": "https://localhost:8080/"
        },
        "outputId": "35af5d75-4dc9-4ced-f1d9-a4022934538f"
      },
      "source": [
        "full_path_to_file2 = os.path.join(S4_doubleA1B3_1) \n",
        "blob_service_client.get_blob_to_path('shadeimg', full_path_to_file2, full_path_to_file2)"
      ],
      "execution_count": null,
      "outputs": [
        {
          "output_type": "execute_result",
          "data": {
            "text/plain": [
              "<azure.storage.blob.models.Blob at 0x7ff6b7ec1d90>"
            ]
          },
          "metadata": {},
          "execution_count": 69
        }
      ]
    },
    {
      "cell_type": "code",
      "metadata": {
        "id": "N9xFdoP7pZx6",
        "colab": {
          "base_uri": "https://localhost:8080/"
        },
        "outputId": "930f6c0f-bb68-4904-c3ea-c1ec575be269"
      },
      "source": [
        "full_path_to_file2 = os.path.join(S4_doubleA1B4_1) \n",
        "blob_service_client.get_blob_to_path('shadeimg', full_path_to_file2, full_path_to_file2)"
      ],
      "execution_count": null,
      "outputs": [
        {
          "output_type": "execute_result",
          "data": {
            "text/plain": [
              "<azure.storage.blob.models.Blob at 0x7ff6b83cdc50>"
            ]
          },
          "metadata": {},
          "execution_count": 70
        }
      ]
    },
    {
      "cell_type": "code",
      "metadata": {
        "id": "1dH05CslpZx6",
        "colab": {
          "base_uri": "https://localhost:8080/"
        },
        "outputId": "572cbc90-3550-4a3e-9ec8-e4fe7dfea839"
      },
      "source": [
        "full_path_to_file2 = os.path.join(S4_doubleA1C1_1) \n",
        "blob_service_client.get_blob_to_path('shadeimg', full_path_to_file2, full_path_to_file2)"
      ],
      "execution_count": null,
      "outputs": [
        {
          "output_type": "execute_result",
          "data": {
            "text/plain": [
              "<azure.storage.blob.models.Blob at 0x7ff6b7f2b810>"
            ]
          },
          "metadata": {},
          "execution_count": 71
        }
      ]
    },
    {
      "cell_type": "code",
      "metadata": {
        "id": "BWLm1RmLpZx7",
        "colab": {
          "base_uri": "https://localhost:8080/"
        },
        "outputId": "f34a4209-cdfe-48cd-b21d-9254b15c2d9f"
      },
      "source": [
        "full_path_to_file2 = os.path.join(S4_doubleA1C2_1) \n",
        "blob_service_client.get_blob_to_path('shadeimg', full_path_to_file2, full_path_to_file2)"
      ],
      "execution_count": null,
      "outputs": [
        {
          "output_type": "execute_result",
          "data": {
            "text/plain": [
              "<azure.storage.blob.models.Blob at 0x7ff6b7ec80d0>"
            ]
          },
          "metadata": {},
          "execution_count": 72
        }
      ]
    },
    {
      "cell_type": "code",
      "metadata": {
        "id": "yvYHkKPYpZx7",
        "colab": {
          "base_uri": "https://localhost:8080/"
        },
        "outputId": "5d19a877-e958-4381-da59-38b645fafcfb"
      },
      "source": [
        "full_path_to_file2 = os.path.join(S4_doubleA1C3_1) \n",
        "blob_service_client.get_blob_to_path('shadeimg', full_path_to_file2, full_path_to_file2)"
      ],
      "execution_count": null,
      "outputs": [
        {
          "output_type": "execute_result",
          "data": {
            "text/plain": [
              "<azure.storage.blob.models.Blob at 0x7ff6b7f30b90>"
            ]
          },
          "metadata": {},
          "execution_count": 73
        }
      ]
    },
    {
      "cell_type": "code",
      "metadata": {
        "id": "XCLVoapQpZx7",
        "colab": {
          "base_uri": "https://localhost:8080/"
        },
        "outputId": "9ca9e412-7cd5-47e0-bc46-f0accdfd63c6"
      },
      "source": [
        "full_path_to_file2 = os.path.join(S4_doubleA1C4_1) \n",
        "blob_service_client.get_blob_to_path('shadeimg', full_path_to_file2, full_path_to_file2)"
      ],
      "execution_count": null,
      "outputs": [
        {
          "output_type": "execute_result",
          "data": {
            "text/plain": [
              "<azure.storage.blob.models.Blob at 0x7ff6b7f1b390>"
            ]
          },
          "metadata": {},
          "execution_count": 74
        }
      ]
    },
    {
      "cell_type": "code",
      "metadata": {
        "id": "T99mwTaZpZx7",
        "colab": {
          "base_uri": "https://localhost:8080/"
        },
        "outputId": "886b98b5-f108-4456-9630-b2cc45fcb09b"
      },
      "source": [
        "full_path_to_file2 = os.path.join(S4_doubleA1D2_1) \n",
        "blob_service_client.get_blob_to_path('shadeimg', full_path_to_file2, full_path_to_file2)"
      ],
      "execution_count": null,
      "outputs": [
        {
          "output_type": "execute_result",
          "data": {
            "text/plain": [
              "<azure.storage.blob.models.Blob at 0x7ff6b7f30150>"
            ]
          },
          "metadata": {},
          "execution_count": 75
        }
      ]
    },
    {
      "cell_type": "code",
      "metadata": {
        "id": "vf1xxPF3pZx7",
        "colab": {
          "base_uri": "https://localhost:8080/"
        },
        "outputId": "cfc33181-7c65-4925-dba6-9d0bc683caa2"
      },
      "source": [
        "full_path_to_file2 = os.path.join(S4_doubleA1D3_1) \n",
        "blob_service_client.get_blob_to_path('shadeimg', full_path_to_file2, full_path_to_file2)"
      ],
      "execution_count": null,
      "outputs": [
        {
          "output_type": "execute_result",
          "data": {
            "text/plain": [
              "<azure.storage.blob.models.Blob at 0x7ff6b7edad10>"
            ]
          },
          "metadata": {},
          "execution_count": 76
        }
      ]
    },
    {
      "cell_type": "code",
      "metadata": {
        "id": "ThZA9xm3pZx8",
        "colab": {
          "base_uri": "https://localhost:8080/"
        },
        "outputId": "43935468-ab92-4b9a-9820-378e1571cfb6"
      },
      "source": [
        "full_path_to_file2 = os.path.join(S4_doubleA1D4_1) \n",
        "blob_service_client.get_blob_to_path('shadeimg', full_path_to_file2, full_path_to_file2)"
      ],
      "execution_count": null,
      "outputs": [
        {
          "output_type": "execute_result",
          "data": {
            "text/plain": [
              "<azure.storage.blob.models.Blob at 0x7ff6b7eda110>"
            ]
          },
          "metadata": {},
          "execution_count": 77
        }
      ]
    },
    {
      "cell_type": "markdown",
      "metadata": {
        "id": "MtmXOojtqN4x"
      },
      "source": [
        "#3. BGR to RGB"
      ]
    },
    {
      "cell_type": "code",
      "metadata": {
        "id": "s8SS5YJfrpRC"
      },
      "source": [
        "import cv2\n",
        "from matplotlib import pyplot as plt #การเรียกใช้คำสั่ง matplotlib เพื่อวาดกราฟ โดยแทนชื่อ matplotlib ด้วย plt\n",
        "import matplotlib"
      ],
      "execution_count": 47,
      "outputs": []
    },
    {
      "cell_type": "markdown",
      "metadata": {
        "id": "tngQqkwA41EB"
      },
      "source": [
        "##Set1"
      ]
    },
    {
      "cell_type": "code",
      "metadata": {
        "id": "pjV8Jh9u4VyJ"
      },
      "source": [
        "imgS1_A1A1_1  = cv2.imread(S1_doubleA1A1_1)\n",
        "S1RGB_imgA1A1_1= cv2.cvtColor(imgS1_A1A1_1, cv2.COLOR_BGR2RGB)"
      ],
      "execution_count": 48,
      "outputs": []
    },
    {
      "cell_type": "code",
      "metadata": {
        "id": "Ixg-SNyU46Lp"
      },
      "source": [
        "imgS1_A1A2_1  = cv2.imread(S1_doubleA1A2_1)\n",
        "S1RGB_imgA1A2_1= cv2.cvtColor(imgS1_A1A2_1, cv2.COLOR_BGR2RGB)"
      ],
      "execution_count": 49,
      "outputs": []
    },
    {
      "cell_type": "code",
      "metadata": {
        "id": "a4-_mkF-4-te"
      },
      "source": [
        "imgS1_A1A3_1  = cv2.imread(S1_doubleA1A3_1)\n",
        "S1RGB_imgA1A3_1= cv2.cvtColor(imgS1_A1A3_1, cv2.COLOR_BGR2RGB)"
      ],
      "execution_count": 50,
      "outputs": []
    },
    {
      "cell_type": "code",
      "metadata": {
        "id": "uRs18zEK5EM3"
      },
      "source": [
        "imgS1_A1A3_51  = cv2.imread(S1_doubleA1A3_51)\n",
        "S1RGB_imgA1A3_51= cv2.cvtColor(imgS1_A1A3_51, cv2.COLOR_BGR2RGB)"
      ],
      "execution_count": 51,
      "outputs": []
    },
    {
      "cell_type": "code",
      "metadata": {
        "id": "LCju5Eai5fV4"
      },
      "source": [
        "imgS1_A1A4_1  = cv2.imread(S1_doubleA1A4_1)\n",
        "S1RGB_imgA1A4_1= cv2.cvtColor(imgS1_A1A4_1, cv2.COLOR_BGR2RGB)"
      ],
      "execution_count": 52,
      "outputs": []
    },
    {
      "cell_type": "code",
      "metadata": {
        "id": "sMwRM7yO5llo"
      },
      "source": [
        "imgS1_A1B1_1  = cv2.imread(S1_doubleA1B1_1)\n",
        "S1RGB_imgA1B1_1= cv2.cvtColor(imgS1_A1B1_1, cv2.COLOR_BGR2RGB)"
      ],
      "execution_count": 53,
      "outputs": []
    },
    {
      "cell_type": "code",
      "metadata": {
        "id": "B8Efejup5llo"
      },
      "source": [
        "imgS1_A1B2_1  = cv2.imread(S1_doubleA1B2_1)\n",
        "S1RGB_imgA1B2_1= cv2.cvtColor(imgS1_A1B2_1, cv2.COLOR_BGR2RGB)"
      ],
      "execution_count": 54,
      "outputs": []
    },
    {
      "cell_type": "code",
      "metadata": {
        "id": "j7fi0Nn95llo"
      },
      "source": [
        "imgS1_A1B3_1  = cv2.imread(S1_doubleA1A3_1)\n",
        "S1RGB_imgA1B3_1= cv2.cvtColor(imgS1_A1A3_1, cv2.COLOR_BGR2RGB)"
      ],
      "execution_count": 55,
      "outputs": []
    },
    {
      "cell_type": "code",
      "metadata": {
        "id": "Hxs3fQUU5llp"
      },
      "source": [
        "imgS1_A1B4_1  = cv2.imread(S1_doubleA1B4_1)\n",
        "S1RGB_imgA1B4_1= cv2.cvtColor(imgS1_A1B4_1, cv2.COLOR_BGR2RGB)"
      ],
      "execution_count": 56,
      "outputs": []
    },
    {
      "cell_type": "code",
      "metadata": {
        "id": "IaQDpBeS6Oa_"
      },
      "source": [
        "imgS1_A1C1_1  = cv2.imread(S1_doubleA1C1_1)\n",
        "S1RGB_imgA1C1_1= cv2.cvtColor(imgS1_A1C1_1, cv2.COLOR_BGR2RGB)"
      ],
      "execution_count": 57,
      "outputs": []
    },
    {
      "cell_type": "code",
      "metadata": {
        "id": "wuQ_nyPB6Oa_"
      },
      "source": [
        "imgS1_A1C2_1  = cv2.imread(S1_doubleA1C2_1)\n",
        "S1RGB_imgA1C2_1= cv2.cvtColor(imgS1_A1C2_1, cv2.COLOR_BGR2RGB)"
      ],
      "execution_count": 58,
      "outputs": []
    },
    {
      "cell_type": "code",
      "metadata": {
        "id": "wAdSVg_I6Oa_"
      },
      "source": [
        "imgS1_A1C3_1  = cv2.imread(S1_doubleA1C3_1)\n",
        "S1RGB_imgA1C3_1= cv2.cvtColor(imgS1_A1C3_1, cv2.COLOR_BGR2RGB)"
      ],
      "execution_count": 59,
      "outputs": []
    },
    {
      "cell_type": "code",
      "metadata": {
        "id": "XeLavKSo6Oa_"
      },
      "source": [
        "imgS1_A1C4_1  = cv2.imread(S1_doubleA1C4_1)\n",
        "S1RGB_imgA1C4_1= cv2.cvtColor(imgS1_A1C4_1, cv2.COLOR_BGR2RGB)"
      ],
      "execution_count": 60,
      "outputs": []
    },
    {
      "cell_type": "code",
      "metadata": {
        "id": "SP6HGOWx6hmP"
      },
      "source": [
        "imgS1_A1D2_1  = cv2.imread(S1_doubleA1D2_1)\n",
        "S1RGB_imgA1D2_1= cv2.cvtColor(imgS1_A1D2_1, cv2.COLOR_BGR2RGB)"
      ],
      "execution_count": 61,
      "outputs": []
    },
    {
      "cell_type": "code",
      "metadata": {
        "id": "2d2cV-Ew6hmP"
      },
      "source": [
        "imgS1_A1D3_1  = cv2.imread(S1_doubleA1D3_1)\n",
        "S1RGB_imgA1D3_1= cv2.cvtColor(imgS1_A1D3_1, cv2.COLOR_BGR2RGB)"
      ],
      "execution_count": 62,
      "outputs": []
    },
    {
      "cell_type": "code",
      "metadata": {
        "id": "doH48ypZ6hmQ"
      },
      "source": [
        "imgS1_A1D4_1  = cv2.imread(S1_doubleA1D4_1)\n",
        "S1RGB_imgA1D4_1= cv2.cvtColor(imgS1_A1D4_1, cv2.COLOR_BGR2RGB)\n"
      ],
      "execution_count": 63,
      "outputs": []
    },
    {
      "cell_type": "markdown",
      "metadata": {
        "id": "1e2wD_qmN_0a"
      },
      "source": [
        "##Set2"
      ]
    },
    {
      "cell_type": "code",
      "metadata": {
        "id": "r2k_MxC66yPx"
      },
      "source": [
        "imgS2_A1A1_1  = cv2.imread(S2_doubleA1A1_1)\n",
        "S2RGB_imgA1A1_1= cv2.cvtColor(imgS2_A1A1_1, cv2.COLOR_BGR2RGB)"
      ],
      "execution_count": 64,
      "outputs": []
    },
    {
      "cell_type": "code",
      "metadata": {
        "id": "MHAmt38Z6yPx"
      },
      "source": [
        "imgS2_A1A2_1  = cv2.imread(S2_doubleA1A2_1)\n",
        "S2RGB_imgA1A2_1= cv2.cvtColor(imgS2_A1A2_1, cv2.COLOR_BGR2RGB)"
      ],
      "execution_count": 65,
      "outputs": []
    },
    {
      "cell_type": "code",
      "metadata": {
        "id": "6hh_c6Nz6yPx"
      },
      "source": [
        "imgS2_A1A3_1  = cv2.imread(S2_doubleA1A3_1)\n",
        "S2RGB_imgA1A3_1= cv2.cvtColor(imgS2_A1A3_1, cv2.COLOR_BGR2RGB)"
      ],
      "execution_count": 66,
      "outputs": []
    },
    {
      "cell_type": "code",
      "metadata": {
        "id": "6yyCk-0x6yPx"
      },
      "source": [
        "imgS2_A1A3_51  = cv2.imread(S2_doubleA1A3_51)\n",
        "S2RGB_imgA1A3_51= cv2.cvtColor(imgS2_A1A3_51, cv2.COLOR_BGR2RGB)"
      ],
      "execution_count": 67,
      "outputs": []
    },
    {
      "cell_type": "code",
      "metadata": {
        "id": "t6jh2NW16yPy"
      },
      "source": [
        "imgS2_A1A4_1  = cv2.imread(S2_doubleA1A4_1)\n",
        "S2RGB_imgA1A4_1= cv2.cvtColor(imgS2_A1A4_1, cv2.COLOR_BGR2RGB)"
      ],
      "execution_count": 68,
      "outputs": []
    },
    {
      "cell_type": "code",
      "metadata": {
        "id": "lRHgF5pG6yPy"
      },
      "source": [
        "imgS2_A1B1_1  = cv2.imread(S2_doubleA1B1_1)\n",
        "S2RGB_imgA1B1_1= cv2.cvtColor(imgS2_A1B1_1, cv2.COLOR_BGR2RGB)"
      ],
      "execution_count": 69,
      "outputs": []
    },
    {
      "cell_type": "code",
      "metadata": {
        "id": "P6XZGW0j6yPy"
      },
      "source": [
        "imgS2_A1B2_1  = cv2.imread(S2_doubleA1B2_1)\n",
        "S2RGB_imgA1B2_1= cv2.cvtColor(imgS2_A1B2_1, cv2.COLOR_BGR2RGB)"
      ],
      "execution_count": 70,
      "outputs": []
    },
    {
      "cell_type": "code",
      "metadata": {
        "id": "5i4HMcmU6yPy"
      },
      "source": [
        "imgS2_A1B3_1  = cv2.imread(S2_doubleA1B3_1)\n",
        "S2RGB_imgA1B3_1= cv2.cvtColor(imgS2_A1B3_1, cv2.COLOR_BGR2RGB)"
      ],
      "execution_count": 71,
      "outputs": []
    },
    {
      "cell_type": "code",
      "metadata": {
        "id": "DGJT9njO6yPy"
      },
      "source": [
        "imgS2_A1B4_1  = cv2.imread(S2_doubleA1B4_1)\n",
        "S2RGB_imgA1B4_1= cv2.cvtColor(imgS2_A1B4_1, cv2.COLOR_BGR2RGB)"
      ],
      "execution_count": 72,
      "outputs": []
    },
    {
      "cell_type": "code",
      "metadata": {
        "id": "sBlmlDZT6yPz"
      },
      "source": [
        "imgS2_A1C1_1  = cv2.imread(S2_doubleA1C1_1)\n",
        "S2RGB_imgA1C1_1= cv2.cvtColor(imgS2_A1C1_1, cv2.COLOR_BGR2RGB)"
      ],
      "execution_count": 73,
      "outputs": []
    },
    {
      "cell_type": "code",
      "metadata": {
        "id": "r06WNXcB6yPz"
      },
      "source": [
        "imgS2_A1C2_1  = cv2.imread(S2_doubleA1C2_1)\n",
        "S2RGB_imgA1C2_1= cv2.cvtColor(imgS2_A1C2_1, cv2.COLOR_BGR2RGB)"
      ],
      "execution_count": 74,
      "outputs": []
    },
    {
      "cell_type": "code",
      "metadata": {
        "id": "_zK6PC_D6yPz"
      },
      "source": [
        "imgS2_A1C3_1  = cv2.imread(S2_doubleA1C3_1)\n",
        "S2RGB_imgA1C3_1= cv2.cvtColor(imgS2_A1C3_1, cv2.COLOR_BGR2RGB)"
      ],
      "execution_count": 75,
      "outputs": []
    },
    {
      "cell_type": "code",
      "metadata": {
        "id": "tY93NDVF6yPz"
      },
      "source": [
        "imgS2_A1C4_1  = cv2.imread(S2_doubleA1C4_1)\n",
        "S2RGB_imgA1C4_1= cv2.cvtColor(imgS2_A1C4_1, cv2.COLOR_BGR2RGB)"
      ],
      "execution_count": 76,
      "outputs": []
    },
    {
      "cell_type": "code",
      "metadata": {
        "id": "za8vrXfM6yPz"
      },
      "source": [
        "imgS2_A1D2_1  = cv2.imread(S2_doubleA1D2_1)\n",
        "S2RGB_imgA1D2_1= cv2.cvtColor(imgS2_A1D2_1, cv2.COLOR_BGR2RGB)"
      ],
      "execution_count": 77,
      "outputs": []
    },
    {
      "cell_type": "code",
      "metadata": {
        "id": "m1SZS_Nk6yP0"
      },
      "source": [
        "imgS2_A1D3_1  = cv2.imread(S2_doubleA1D3_1)\n",
        "S2RGB_imgA1D3_1= cv2.cvtColor(imgS2_A1D3_1, cv2.COLOR_BGR2RGB)"
      ],
      "execution_count": 78,
      "outputs": []
    },
    {
      "cell_type": "code",
      "metadata": {
        "id": "sAzPsG0Z6yP0"
      },
      "source": [
        "imgS2_A1D4_1  = cv2.imread(S2_doubleA1D4_1)\n",
        "S2RGB_imgA1D4_1= cv2.cvtColor(imgS2_A1D4_1, cv2.COLOR_BGR2RGB)"
      ],
      "execution_count": 79,
      "outputs": []
    },
    {
      "cell_type": "markdown",
      "metadata": {
        "id": "NtWR59mM-IUS"
      },
      "source": [
        "##Set3"
      ]
    },
    {
      "cell_type": "code",
      "metadata": {
        "id": "9BKFxbGJ8rl3"
      },
      "source": [
        "imgS3_A1A1_1  = cv2.imread(S3_doubleA1A1_1)\n",
        "S3RGB_imgA1A1_1= cv2.cvtColor(imgS3_A1A1_1, cv2.COLOR_BGR2RGB)"
      ],
      "execution_count": null,
      "outputs": []
    },
    {
      "cell_type": "code",
      "metadata": {
        "id": "ulHbLkH_8rl3"
      },
      "source": [
        "imgS3_A1A2_1  = cv2.imread(S3_doubleA1A2_1)\n",
        "S3RGB_imgA1A2_1= cv2.cvtColor(imgS3_A1A2_1, cv2.COLOR_BGR2RGB)"
      ],
      "execution_count": null,
      "outputs": []
    },
    {
      "cell_type": "code",
      "metadata": {
        "id": "J9kRSYe48rl4"
      },
      "source": [
        "imgS3_A1A3_1  = cv2.imread(S3_doubleA1A3_1)\n",
        "S3RGB_imgA1A3_1= cv2.cvtColor(imgS3_A1A3_1, cv2.COLOR_BGR2RGB)"
      ],
      "execution_count": null,
      "outputs": []
    },
    {
      "cell_type": "code",
      "metadata": {
        "id": "Zkx2WQ3O8rl4"
      },
      "source": [
        "imgS3_A1A3_51  = cv2.imread(S3_doubleA1A3_51)\n",
        "S3RGB_imgA1A3_51= cv2.cvtColor(imgS3_A1A3_51, cv2.COLOR_BGR2RGB)"
      ],
      "execution_count": null,
      "outputs": []
    },
    {
      "cell_type": "code",
      "metadata": {
        "id": "C5clyZt98rl4"
      },
      "source": [
        "imgS3_A1A4_1  = cv2.imread(S3_doubleA1A4_1)\n",
        "S3RGB_imgA1A4_1= cv2.cvtColor(imgS3_A1A4_1, cv2.COLOR_BGR2RGB)"
      ],
      "execution_count": null,
      "outputs": []
    },
    {
      "cell_type": "code",
      "metadata": {
        "id": "Mv5JxSQ18rl4"
      },
      "source": [
        "imgS3_A1B1_1  = cv2.imread(S3_doubleA1B1_1)\n",
        "S3RGB_imgA1B1_1= cv2.cvtColor(imgS3_A1B1_1, cv2.COLOR_BGR2RGB)"
      ],
      "execution_count": null,
      "outputs": []
    },
    {
      "cell_type": "code",
      "metadata": {
        "id": "9I3KI-7f8rl4"
      },
      "source": [
        "imgS3_A1B2_1  = cv2.imread(S3_doubleA1B2_1)\n",
        "S3RGB_imgA1B2_1= cv2.cvtColor(imgS3_A1B2_1, cv2.COLOR_BGR2RGB)"
      ],
      "execution_count": null,
      "outputs": []
    },
    {
      "cell_type": "code",
      "metadata": {
        "id": "S4OIG7AO8rl6"
      },
      "source": [
        "imgS3_A1B3_1  = cv2.imread(S3_doubleA1B3_1)\n",
        "S3RGB_imgA1B3_1= cv2.cvtColor(imgS3_A1B3_1, cv2.COLOR_BGR2RGB)"
      ],
      "execution_count": null,
      "outputs": []
    },
    {
      "cell_type": "code",
      "metadata": {
        "id": "rtKhxb5I8rl6"
      },
      "source": [
        "imgS3_A1B4_1  = cv2.imread(S3_doubleA1B4_1)\n",
        "S3RGB_imgA1B4_1= cv2.cvtColor(imgS3_A1B4_1, cv2.COLOR_BGR2RGB)"
      ],
      "execution_count": null,
      "outputs": []
    },
    {
      "cell_type": "code",
      "metadata": {
        "id": "Gtdu3d328rl6"
      },
      "source": [
        "imgS3_A1C1_1  = cv2.imread(S3_doubleA1C1_1)\n",
        "S3RGB_imgA1C1_1= cv2.cvtColor(imgS3_A1C1_1, cv2.COLOR_BGR2RGB)"
      ],
      "execution_count": null,
      "outputs": []
    },
    {
      "cell_type": "code",
      "metadata": {
        "id": "jcn-erZ98rl6"
      },
      "source": [
        "imgS3_A1C2_1  = cv2.imread(S3_doubleA1C2_1)\n",
        "S3RGB_imgA1C2_1= cv2.cvtColor(imgS3_A1C2_1, cv2.COLOR_BGR2RGB)"
      ],
      "execution_count": null,
      "outputs": []
    },
    {
      "cell_type": "code",
      "metadata": {
        "id": "1H550zpJ8rl7"
      },
      "source": [
        "imgS3_A1C3_1  = cv2.imread(S3_doubleA1C3_1)\n",
        "S3RGB_imgA1C3_1= cv2.cvtColor(imgS3_A1C3_1, cv2.COLOR_BGR2RGB)"
      ],
      "execution_count": null,
      "outputs": []
    },
    {
      "cell_type": "code",
      "metadata": {
        "id": "gYysP1eM8rl7"
      },
      "source": [
        "imgS3_A1C4_1  = cv2.imread(S3_doubleA1C4_1)\n",
        "S3RGB_imgA1C4_1= cv2.cvtColor(imgS3_A1C4_1, cv2.COLOR_BGR2RGB)"
      ],
      "execution_count": null,
      "outputs": []
    },
    {
      "cell_type": "code",
      "metadata": {
        "id": "v4ljCwED8rl7"
      },
      "source": [
        "imgS3_A1D2_1  = cv2.imread(S3_doubleA1D2_1)\n",
        "S3RGB_imgA1D2_1= cv2.cvtColor(imgS3_A1D2_1, cv2.COLOR_BGR2RGB)"
      ],
      "execution_count": null,
      "outputs": []
    },
    {
      "cell_type": "code",
      "metadata": {
        "id": "_c2w_0rF8rl7"
      },
      "source": [
        "imgS3_A1D3_1  = cv2.imread(S3_doubleA1D3_1)\n",
        "S3RGB_imgA1D3_1= cv2.cvtColor(imgS3_A1D3_1, cv2.COLOR_BGR2RGB)"
      ],
      "execution_count": null,
      "outputs": []
    },
    {
      "cell_type": "code",
      "metadata": {
        "id": "uqJI2bXz8rl8"
      },
      "source": [
        "imgS3_A1D4_1  = cv2.imread(S3_doubleA1D4_1)\n",
        "S3RGB_imgA1D4_1= cv2.cvtColor(imgS3_A1D4_1, cv2.COLOR_BGR2RGB)"
      ],
      "execution_count": null,
      "outputs": []
    },
    {
      "cell_type": "markdown",
      "metadata": {
        "id": "apeGjiA79pJf"
      },
      "source": [
        "##Set4"
      ]
    },
    {
      "cell_type": "code",
      "metadata": {
        "id": "qYnoDJXh9q2j"
      },
      "source": [
        "imgS4_A1A1_1  = cv2.imread(S4_doubleA1A1_1)\n",
        "S4RGB_imgA1A1_1= cv2.cvtColor(imgS4_A1A1_1, cv2.COLOR_BGR2RGB)"
      ],
      "execution_count": null,
      "outputs": []
    },
    {
      "cell_type": "code",
      "metadata": {
        "id": "0HkjhpAa9q2j"
      },
      "source": [
        "imgS4_A1A2_1  = cv2.imread(S4_doubleA1A2_1)\n",
        "S4RGB_imgA1A2_1= cv2.cvtColor(imgS4_A1A2_1, cv2.COLOR_BGR2RGB)"
      ],
      "execution_count": null,
      "outputs": []
    },
    {
      "cell_type": "code",
      "metadata": {
        "id": "vSFzyH-B9q2j"
      },
      "source": [
        "imgS4_A1A3_1  = cv2.imread(S4_doubleA1A3_1)\n",
        "S4RGB_imgA1A3_1= cv2.cvtColor(imgS4_A1A3_1, cv2.COLOR_BGR2RGB)"
      ],
      "execution_count": null,
      "outputs": []
    },
    {
      "cell_type": "code",
      "metadata": {
        "id": "NaSBU-__9q2j"
      },
      "source": [
        "imgS4_A1A3_51  = cv2.imread(S4_doubleA1A3_51)\n",
        "S4RGB_imgA1A3_51= cv2.cvtColor(imgS4_A1A3_51, cv2.COLOR_BGR2RGB)"
      ],
      "execution_count": null,
      "outputs": []
    },
    {
      "cell_type": "code",
      "metadata": {
        "id": "I5kq2YcL9q2j"
      },
      "source": [
        "imgS4_A1A4_1  = cv2.imread(S4_doubleA1A4_1)\n",
        "S4RGB_imgA1A4_1= cv2.cvtColor(imgS4_A1A4_1, cv2.COLOR_BGR2RGB)"
      ],
      "execution_count": null,
      "outputs": []
    },
    {
      "cell_type": "code",
      "metadata": {
        "id": "WPCZaErZ9q2j"
      },
      "source": [
        "imgS4_A1B1_1  = cv2.imread(S4_doubleA1B1_1)\n",
        "S4RGB_imgA1B1_1= cv2.cvtColor(imgS4_A1B1_1, cv2.COLOR_BGR2RGB)"
      ],
      "execution_count": null,
      "outputs": []
    },
    {
      "cell_type": "code",
      "metadata": {
        "id": "9qoBo-Zb9q2k"
      },
      "source": [
        "imgS4_A1B2_1  = cv2.imread(S4_doubleA1B2_1)\n",
        "S4RGB_imgA1B2_1= cv2.cvtColor(imgS4_A1B2_1, cv2.COLOR_BGR2RGB)"
      ],
      "execution_count": null,
      "outputs": []
    },
    {
      "cell_type": "code",
      "metadata": {
        "id": "kLOZsD239q2k"
      },
      "source": [
        "imgS4_A1B3_1  = cv2.imread(S4_doubleA1B3_1)\n",
        "S4RGB_imgA1B3_1= cv2.cvtColor(imgS4_A1B3_1, cv2.COLOR_BGR2RGB)"
      ],
      "execution_count": null,
      "outputs": []
    },
    {
      "cell_type": "code",
      "metadata": {
        "id": "W-9c6qi39q2k"
      },
      "source": [
        "imgS4_A1B4_1  = cv2.imread(S4_doubleA1B4_1)\n",
        "S4RGB_imgA1B4_1= cv2.cvtColor(imgS4_A1B4_1, cv2.COLOR_BGR2RGB)"
      ],
      "execution_count": null,
      "outputs": []
    },
    {
      "cell_type": "code",
      "metadata": {
        "id": "giX0rFy-9q2k"
      },
      "source": [
        "imgS4_A1C1_1  = cv2.imread(S4_doubleA1C1_1)\n",
        "S4RGB_imgA1C1_1= cv2.cvtColor(imgS4_A1C1_1, cv2.COLOR_BGR2RGB)"
      ],
      "execution_count": null,
      "outputs": []
    },
    {
      "cell_type": "code",
      "metadata": {
        "id": "kqpXGtiz9q2k"
      },
      "source": [
        "imgS4_A1C2_1  = cv2.imread(S4_doubleA1C2_1)\n",
        "S4RGB_imgA1C2_1= cv2.cvtColor(imgS4_A1C2_1, cv2.COLOR_BGR2RGB)"
      ],
      "execution_count": null,
      "outputs": []
    },
    {
      "cell_type": "code",
      "metadata": {
        "id": "4O0PjNu79q2k"
      },
      "source": [
        "imgS4_A1C3_1  = cv2.imread(S4_doubleA1C3_1)\n",
        "S4RGB_imgA1C3_1= cv2.cvtColor(imgS4_A1C3_1, cv2.COLOR_BGR2RGB)"
      ],
      "execution_count": null,
      "outputs": []
    },
    {
      "cell_type": "code",
      "metadata": {
        "id": "J-WaIgA79q2l"
      },
      "source": [
        "imgS4_A1C4_1  = cv2.imread(S4_doubleA1C4_1)\n",
        "S4RGB_imgA1C4_1= cv2.cvtColor(imgS4_A1C4_1, cv2.COLOR_BGR2RGB)"
      ],
      "execution_count": null,
      "outputs": []
    },
    {
      "cell_type": "code",
      "metadata": {
        "id": "vEXqhTbK9q2l"
      },
      "source": [
        "imgS4_A1D2_1  = cv2.imread(S4_doubleA1D2_1)\n",
        "S4RGB_imgA1D2_1= cv2.cvtColor(imgS4_A1D2_1, cv2.COLOR_BGR2RGB)"
      ],
      "execution_count": null,
      "outputs": []
    },
    {
      "cell_type": "code",
      "metadata": {
        "id": "6N-qEwxX9q2l"
      },
      "source": [
        "imgS4_A1D3_1  = cv2.imread(S4_doubleA1D3_1)\n",
        "S4RGB_imgA1D3_1= cv2.cvtColor(imgS4_A1D3_1, cv2.COLOR_BGR2RGB)"
      ],
      "execution_count": null,
      "outputs": []
    },
    {
      "cell_type": "code",
      "metadata": {
        "id": "UxGhWbV89q2l"
      },
      "source": [
        "imgS4_A1D4_1  = cv2.imread(S4_doubleA1D4_1)\n",
        "S4RGB_imgA1D4_1= cv2.cvtColor(imgS4_A1D4_1, cv2.COLOR_BGR2RGB)"
      ],
      "execution_count": null,
      "outputs": []
    },
    {
      "cell_type": "markdown",
      "metadata": {
        "id": "4XyCaNz1YAzf"
      },
      "source": [
        "#4. ฺBGR TO HSV"
      ]
    },
    {
      "cell_type": "markdown",
      "metadata": {
        "id": "1H0qQCcKOTUC"
      },
      "source": [
        "##Set1"
      ]
    },
    {
      "cell_type": "code",
      "metadata": {
        "colab": {
          "base_uri": "https://localhost:8080/",
          "height": 0
        },
        "id": "V7LoW4sLYP0V",
        "outputId": "04071d7d-d18a-4e00-8c86-8a412792125c"
      },
      "source": [
        "S1_A1A1_1img  = cv2.imread(S1_doubleA1A1_1)\n",
        "S1HSV_imgA1A1_1= cv2.cvtColor(S1_A1A1_1img, cv2.COLOR_BGR2HSV)\n",
        "plt.imshow(S1HSV_imgA1A1_1)"
      ],
      "execution_count": 80,
      "outputs": [
        {
          "output_type": "execute_result",
          "data": {
            "text/plain": [
              "<matplotlib.image.AxesImage at 0x7fd363de4dd0>"
            ]
          },
          "metadata": {},
          "execution_count": 80
        },
        {
          "output_type": "display_data",
          "data": {
            "image/png": "[encoded data removed]",
            "text/plain": [
              "<Figure size 432x288 with 1 Axes>"
            ]
          },
          "metadata": {
            "needs_background": "light"
          }
        }
      ]
    },
    {
      "cell_type": "code",
      "metadata": {
        "id": "se8UQIFwnL8I"
      },
      "source": [
        "S1_A1A2_1img  = cv2.imread(S1_doubleA1A2_1)\n",
        "S1HSV_imgA1A2_1= cv2.cvtColor(S1_A1A2_1img, cv2.COLOR_BGR2HSV)"
      ],
      "execution_count": 81,
      "outputs": []
    },
    {
      "cell_type": "code",
      "metadata": {
        "id": "NlS3nnjpnMIQ"
      },
      "source": [
        "S1_A1A3_1img  = cv2.imread(S1_doubleA1A3_1)\n",
        "S1HSV_imgA1A3_1= cv2.cvtColor(S1_A1A3_1img, cv2.COLOR_BGR2HSV)"
      ],
      "execution_count": 82,
      "outputs": []
    },
    {
      "cell_type": "code",
      "metadata": {
        "id": "gaiV37Atm-qM"
      },
      "source": [
        "S1_A1A3_51img  = cv2.imread(S1_doubleA1A3_51)\n",
        "S1HSV_imgA1A3_51= cv2.cvtColor(S1_A1A3_51img, cv2.COLOR_BGR2HSV)"
      ],
      "execution_count": 83,
      "outputs": []
    },
    {
      "cell_type": "code",
      "metadata": {
        "id": "b3l1xgJWm-r6"
      },
      "source": [
        "S1_A1A4_1img  = cv2.imread(S1_doubleA1A4_1)\n",
        "S1HSV_imgA1A4_1= cv2.cvtColor(S1_A1A4_1img, cv2.COLOR_BGR2HSV)"
      ],
      "execution_count": 84,
      "outputs": []
    },
    {
      "cell_type": "code",
      "metadata": {
        "id": "w26dE2E2m-ui"
      },
      "source": [
        "S1_A1B1_1img  = cv2.imread(S1_doubleA1B1_1)\n",
        "S1HSV_imgA1B1_1= cv2.cvtColor(S1_A1B1_1img, cv2.COLOR_BGR2HSV)"
      ],
      "execution_count": 85,
      "outputs": []
    },
    {
      "cell_type": "code",
      "metadata": {
        "id": "qq4hEemVm-wd"
      },
      "source": [
        "S1_A1B2_1img  = cv2.imread(S1_doubleA1B2_1)\n",
        "S1HSV_imgA1B2_1= cv2.cvtColor(S1_A1B2_1img, cv2.COLOR_BGR2HSV)"
      ],
      "execution_count": 86,
      "outputs": []
    },
    {
      "cell_type": "code",
      "metadata": {
        "id": "9TyEGSZmp7wg"
      },
      "source": [
        "S1_A1B3_1img  = cv2.imread(S1_doubleA1B3_1)\n",
        "S1HSV_imgA1B3_1= cv2.cvtColor(S1_A1B3_1img, cv2.COLOR_BGR2HSV)"
      ],
      "execution_count": 87,
      "outputs": []
    },
    {
      "cell_type": "code",
      "metadata": {
        "id": "8fg70FdZm-0y"
      },
      "source": [
        "S1_A1B4_1img  = cv2.imread(S1_doubleA1B4_1)\n",
        "S1HSV_imgA1B4_1= cv2.cvtColor(S1_A1B4_1img, cv2.COLOR_BGR2HSV)"
      ],
      "execution_count": 88,
      "outputs": []
    },
    {
      "cell_type": "code",
      "metadata": {
        "id": "86KJ5WjYqLAs"
      },
      "source": [
        "S1_A1C1_1img  = cv2.imread(S1_doubleA1C1_1)\n",
        "S1HSV_imgA1C1_1= cv2.cvtColor(S1_A1C1_1img, cv2.COLOR_BGR2HSV)"
      ],
      "execution_count": 89,
      "outputs": []
    },
    {
      "cell_type": "code",
      "metadata": {
        "id": "4o2oKmb-qLDu"
      },
      "source": [
        "S1_A1C2_1img  = cv2.imread(S1_doubleA1C2_1)\n",
        "S1HSV_imgA1C2_1= cv2.cvtColor(S1_A1C2_1img, cv2.COLOR_BGR2HSV)"
      ],
      "execution_count": 90,
      "outputs": []
    },
    {
      "cell_type": "code",
      "metadata": {
        "id": "0pGWlEU1qLHp"
      },
      "source": [
        "S1_A1C3_1img  = cv2.imread(S1_doubleA1C3_1)\n",
        "S1HSV_imgA1C3_1= cv2.cvtColor(S1_A1C3_1img, cv2.COLOR_BGR2HSV)"
      ],
      "execution_count": 91,
      "outputs": []
    },
    {
      "cell_type": "code",
      "metadata": {
        "id": "IZQIfJ4iqLKb"
      },
      "source": [
        "S1_A1C4_1img  = cv2.imread(S1_doubleA1C4_1)\n",
        "S1HSV_imgA1C4_1= cv2.cvtColor(S1_A1C4_1img, cv2.COLOR_BGR2HSV)"
      ],
      "execution_count": 92,
      "outputs": []
    },
    {
      "cell_type": "code",
      "metadata": {
        "id": "k_K9BBJpqLOi"
      },
      "source": [
        "S1_A1D2_1img  = cv2.imread(S1_doubleA1D2_1)\n",
        "S1HSV_imgA1D2_1= cv2.cvtColor(S1_A1D2_1img, cv2.COLOR_BGR2HSV)"
      ],
      "execution_count": 93,
      "outputs": []
    },
    {
      "cell_type": "code",
      "metadata": {
        "id": "v6YEm_v5quL_"
      },
      "source": [
        "S1_A1D3_1img  = cv2.imread(S1_doubleA1D3_1)\n",
        "S1HSV_imgA1D3_1= cv2.cvtColor(S1_A1D3_1img, cv2.COLOR_BGR2HSV)"
      ],
      "execution_count": 94,
      "outputs": []
    },
    {
      "cell_type": "code",
      "metadata": {
        "id": "SMvBLdQxm-3f"
      },
      "source": [
        "S1_A1D4_1img  = cv2.imread(S1_doubleA1D4_1)\n",
        "S1HSV_imgA1D4_1= cv2.cvtColor(S1_A1D4_1img, cv2.COLOR_BGR2HSV)"
      ],
      "execution_count": 95,
      "outputs": []
    },
    {
      "cell_type": "markdown",
      "metadata": {
        "id": "wL6aRDp_Or_Y"
      },
      "source": [
        "##Set2"
      ]
    },
    {
      "cell_type": "code",
      "metadata": {
        "colab": {
          "base_uri": "https://localhost:8080/",
          "height": 0
        },
        "id": "BDzWpqPBO0aX",
        "outputId": "39a4a113-244c-46ba-cdff-04425d388101"
      },
      "source": [
        "S2_A1A1_1img  = cv2.imread(S2_doubleA1A1_1)\n",
        "S2HSV_imgA1A1_1= cv2.cvtColor(S2_A1A1_1img, cv2.COLOR_BGR2HSV)\n",
        "plt.imshow(S2HSV_imgA1A1_1)"
      ],
      "execution_count": 96,
      "outputs": [
        {
          "output_type": "execute_result",
          "data": {
            "text/plain": [
              "<matplotlib.image.AxesImage at 0x7fd3620c3bd0>"
            ]
          },
          "metadata": {},
          "execution_count": 96
        },
        {
          "output_type": "display_data",
          "data": {
            "image/png": "[encoded data removed]",
            "text/plain": [
              "<Figure size 432x288 with 1 Axes>"
            ]
          },
          "metadata": {
            "needs_background": "light"
          }
        }
      ]
    },
    {
      "cell_type": "code",
      "metadata": {
        "id": "a-pIAAcFO0ae"
      },
      "source": [
        "S2_A1A2_1img  = cv2.imread(S2_doubleA1A2_1)\n",
        "S2HSV_imgA1A2_1= cv2.cvtColor(S2_A1A2_1img, cv2.COLOR_BGR2HSV)"
      ],
      "execution_count": 97,
      "outputs": []
    },
    {
      "cell_type": "code",
      "metadata": {
        "id": "yOsp_jUXO0af"
      },
      "source": [
        "S2_A1A3_1img  = cv2.imread(S2_doubleA1A3_1)\n",
        "S2HSV_imgA1A3_1= cv2.cvtColor(S2_A1A3_1img, cv2.COLOR_BGR2HSV)"
      ],
      "execution_count": 98,
      "outputs": []
    },
    {
      "cell_type": "code",
      "metadata": {
        "id": "LEj6uqznO0af"
      },
      "source": [
        "S2_A1A3_51img  = cv2.imread(S2_doubleA1A3_51)\n",
        "S2HSV_imgA1A3_51= cv2.cvtColor(S2_A1A3_51img, cv2.COLOR_BGR2HSV)"
      ],
      "execution_count": 99,
      "outputs": []
    },
    {
      "cell_type": "code",
      "metadata": {
        "id": "1weM2OVvO0af"
      },
      "source": [
        "S2_A1A4_1img  = cv2.imread(S2_doubleA1A4_1)\n",
        "S2HSV_imgA1A4_1= cv2.cvtColor(S2_A1A4_1img, cv2.COLOR_BGR2HSV)"
      ],
      "execution_count": 100,
      "outputs": []
    },
    {
      "cell_type": "code",
      "metadata": {
        "id": "Wbdgu89_O0af"
      },
      "source": [
        "S2_A1B1_1img  = cv2.imread(S2_doubleA1B1_1)\n",
        "S2HSV_imgA1B1_1= cv2.cvtColor(S2_A1B1_1img, cv2.COLOR_BGR2HSV)"
      ],
      "execution_count": 101,
      "outputs": []
    },
    {
      "cell_type": "code",
      "metadata": {
        "id": "qZiGeFyyO0af"
      },
      "source": [
        "S2_A1B2_1img  = cv2.imread(S2_doubleA1B2_1)\n",
        "S2HSV_imgA1B2_1= cv2.cvtColor(S2_A1B2_1img, cv2.COLOR_BGR2HSV)"
      ],
      "execution_count": 102,
      "outputs": []
    },
    {
      "cell_type": "code",
      "metadata": {
        "id": "hXeIe_3lO0af"
      },
      "source": [
        "S2_A1B3_1img  = cv2.imread(S2_doubleA1B3_1)\n",
        "S2HSV_imgA1B3_1= cv2.cvtColor(S2_A1B3_1img, cv2.COLOR_BGR2HSV)"
      ],
      "execution_count": 103,
      "outputs": []
    },
    {
      "cell_type": "code",
      "metadata": {
        "id": "V5M59xgBO0af"
      },
      "source": [
        "S2_A1B4_1img  = cv2.imread(S2_doubleA1B4_1)\n",
        "S2HSV_imgA1B4_1= cv2.cvtColor(S2_A1B4_1img, cv2.COLOR_BGR2HSV)"
      ],
      "execution_count": 104,
      "outputs": []
    },
    {
      "cell_type": "code",
      "metadata": {
        "id": "KRuyL80iO0af"
      },
      "source": [
        "S2_A1C1_1img  = cv2.imread(S2_doubleA1C1_1)\n",
        "S2HSV_imgA1C1_1= cv2.cvtColor(S2_A1C1_1img, cv2.COLOR_BGR2HSV)"
      ],
      "execution_count": 105,
      "outputs": []
    },
    {
      "cell_type": "code",
      "metadata": {
        "id": "_fwiHi1UO0af"
      },
      "source": [
        "S2_A1C2_1img  = cv2.imread(S2_doubleA1C2_1)\n",
        "S2HSV_imgA1C2_1= cv2.cvtColor(S2_A1C2_1img, cv2.COLOR_BGR2HSV)"
      ],
      "execution_count": 106,
      "outputs": []
    },
    {
      "cell_type": "code",
      "metadata": {
        "id": "JqM9f0IeO0af"
      },
      "source": [
        "S2_A1C3_1img  = cv2.imread(S2_doubleA1C3_1)\n",
        "S2HSV_imgA1C3_1= cv2.cvtColor(S2_A1C3_1img, cv2.COLOR_BGR2HSV)"
      ],
      "execution_count": 107,
      "outputs": []
    },
    {
      "cell_type": "code",
      "metadata": {
        "id": "hqmrKWFKO0ag"
      },
      "source": [
        "S2_A1C4_1img  = cv2.imread(S2_doubleA1C4_1)\n",
        "S2HSV_imgA1C4_1= cv2.cvtColor(S2_A1C4_1img, cv2.COLOR_BGR2HSV)"
      ],
      "execution_count": 108,
      "outputs": []
    },
    {
      "cell_type": "code",
      "metadata": {
        "id": "PzUN45ylO0ag"
      },
      "source": [
        "S2_A1D2_1img  = cv2.imread(S2_doubleA1D2_1)\n",
        "S2HSV_imgA1D2_1= cv2.cvtColor(S2_A1D2_1img, cv2.COLOR_BGR2HSV)"
      ],
      "execution_count": 109,
      "outputs": []
    },
    {
      "cell_type": "code",
      "metadata": {
        "id": "mZJEIdO2O0ag"
      },
      "source": [
        "S2_A1D3_1img  = cv2.imread(S2_doubleA1D3_1)\n",
        "S2HSV_imgA1D3_1= cv2.cvtColor(S2_A1D3_1img, cv2.COLOR_BGR2HSV)"
      ],
      "execution_count": 110,
      "outputs": []
    },
    {
      "cell_type": "code",
      "metadata": {
        "id": "S507jRCYO0ag"
      },
      "source": [
        "S2_A1D4_1img  = cv2.imread(S2_doubleA1D4_1)\n",
        "S2HSV_imgA1D4_1= cv2.cvtColor(S2_A1D4_1img, cv2.COLOR_BGR2HSV)"
      ],
      "execution_count": 111,
      "outputs": []
    },
    {
      "cell_type": "markdown",
      "metadata": {
        "id": "qOmBnSo7O7CA"
      },
      "source": [
        "##Set3"
      ]
    },
    {
      "cell_type": "code",
      "metadata": {
        "colab": {
          "base_uri": "https://localhost:8080/"
        },
        "id": "esUAanu4O8j0",
        "outputId": "08443e59-8c98-43ed-ada6-01a58a3c79d1"
      },
      "source": [
        "S3_A1A1_1img  = cv2.imread(S3_doubleA1A1_1)\n",
        "S3HSV_imgA1A1_1= cv2.cvtColor(S3_A1A1_1img, cv2.COLOR_BGR2HSV)\n",
        "plt.imshow(S3HSV_imgA1A1_1)"
      ],
      "execution_count": null,
      "outputs": [
        {
          "output_type": "execute_result",
          "data": {
            "text/plain": [
              "<matplotlib.image.AxesImage at 0x7ff6b607bd90>"
            ]
          },
          "metadata": {},
          "execution_count": 175
        },
        {
          "output_type": "display_data",
          "data": {
            "image/png": "[encoded data removed]",
            "text/plain": [
              "<Figure size 432x288 with 1 Axes>"
            ]
          },
          "metadata": {
            "needs_background": "light"
          }
        }
      ]
    },
    {
      "cell_type": "code",
      "metadata": {
        "id": "5Ge6aoyaO8j0"
      },
      "source": [
        "S3_A1A2_1img  = cv2.imread(S3_doubleA1A2_1)\n",
        "S3HSV_imgA1A2_1= cv2.cvtColor(S3_A1A2_1img, cv2.COLOR_BGR2HSV)"
      ],
      "execution_count": null,
      "outputs": []
    },
    {
      "cell_type": "code",
      "metadata": {
        "id": "DsObJ2IuO8j0"
      },
      "source": [
        "S3_A1A3_1img  = cv2.imread(S3_doubleA1A3_1)\n",
        "S3HSV_imgA1A3_1= cv2.cvtColor(S3_A1A3_1img, cv2.COLOR_BGR2HSV)"
      ],
      "execution_count": null,
      "outputs": []
    },
    {
      "cell_type": "code",
      "metadata": {
        "id": "qy7ses16O8j0"
      },
      "source": [
        "S3_A1A3_51img  = cv2.imread(S3_doubleA1A3_51)\n",
        "S3HSV_imgA1A3_51= cv2.cvtColor(S3_A1A3_51img, cv2.COLOR_BGR2HSV)"
      ],
      "execution_count": null,
      "outputs": []
    },
    {
      "cell_type": "code",
      "metadata": {
        "id": "Y2OH_7_sO8j0"
      },
      "source": [
        "S3_A1A4_1img  = cv2.imread(S3_doubleA1A4_1)\n",
        "S3HSV_imgA1A4_1= cv2.cvtColor(S3_A1A4_1img, cv2.COLOR_BGR2HSV)"
      ],
      "execution_count": null,
      "outputs": []
    },
    {
      "cell_type": "code",
      "metadata": {
        "id": "aDkrKlmLO8j1"
      },
      "source": [
        "S3_A1B1_1img  = cv2.imread(S3_doubleA1B1_1)\n",
        "S3HSV_imgA1B1_1= cv2.cvtColor(S3_A1B1_1img, cv2.COLOR_BGR2HSV)"
      ],
      "execution_count": null,
      "outputs": []
    },
    {
      "cell_type": "code",
      "metadata": {
        "id": "ffZuXCngO8j1"
      },
      "source": [
        "S3_A1B2_1img  = cv2.imread(S3_doubleA1B2_1)\n",
        "S3HSV_imgA1B2_1= cv2.cvtColor(S3_A1B2_1img, cv2.COLOR_BGR2HSV)"
      ],
      "execution_count": null,
      "outputs": []
    },
    {
      "cell_type": "code",
      "metadata": {
        "id": "765qS-BMO8j1"
      },
      "source": [
        "S3_A1B3_1img  = cv2.imread(S3_doubleA1B3_1)\n",
        "S3HSV_imgA1B3_1= cv2.cvtColor(S3_A1B3_1img, cv2.COLOR_BGR2HSV)"
      ],
      "execution_count": null,
      "outputs": []
    },
    {
      "cell_type": "code",
      "metadata": {
        "id": "4T4npbw3O8j1"
      },
      "source": [
        "S3_A1B4_1img  = cv2.imread(S3_doubleA1B4_1)\n",
        "S3HSV_imgA1B4_1= cv2.cvtColor(S3_A1B4_1img, cv2.COLOR_BGR2HSV)"
      ],
      "execution_count": null,
      "outputs": []
    },
    {
      "cell_type": "code",
      "metadata": {
        "id": "j73d6Z7uO8j1"
      },
      "source": [
        "S3_A1C1_1img  = cv2.imread(S3_doubleA1C1_1)\n",
        "S3HSV_imgA1C1_1= cv2.cvtColor(S3_A1C1_1img, cv2.COLOR_BGR2HSV)"
      ],
      "execution_count": null,
      "outputs": []
    },
    {
      "cell_type": "code",
      "metadata": {
        "id": "d4auQVvJO8j1"
      },
      "source": [
        "S3_A1C2_1img  = cv2.imread(S3_doubleA1C2_1)\n",
        "S3HSV_imgA1C2_1= cv2.cvtColor(S3_A1C2_1img, cv2.COLOR_BGR2HSV)"
      ],
      "execution_count": null,
      "outputs": []
    },
    {
      "cell_type": "code",
      "metadata": {
        "id": "o3szXJVYO8j1"
      },
      "source": [
        "S3_A1C3_1img  = cv2.imread(S3_doubleA1C3_1)\n",
        "S3HSV_imgA1C3_1= cv2.cvtColor(S3_A1C3_1img, cv2.COLOR_BGR2HSV)"
      ],
      "execution_count": null,
      "outputs": []
    },
    {
      "cell_type": "code",
      "metadata": {
        "id": "htzUP3yKO8j1"
      },
      "source": [
        "S3_A1C4_1img  = cv2.imread(S3_doubleA1C4_1)\n",
        "S3HSV_imgA1C4_1= cv2.cvtColor(S3_A1C4_1img, cv2.COLOR_BGR2HSV)"
      ],
      "execution_count": null,
      "outputs": []
    },
    {
      "cell_type": "code",
      "metadata": {
        "id": "oktRhFVtO8j1"
      },
      "source": [
        "S3_A1D2_1img  = cv2.imread(S3_doubleA1D2_1)\n",
        "S3HSV_imgA1D2_1= cv2.cvtColor(S3_A1D2_1img, cv2.COLOR_BGR2HSV)"
      ],
      "execution_count": null,
      "outputs": []
    },
    {
      "cell_type": "code",
      "metadata": {
        "id": "W9nH6io6O8j1"
      },
      "source": [
        "S3_A1D3_1img  = cv2.imread(S3_doubleA1D3_1)\n",
        "S3HSV_imgA1D3_1= cv2.cvtColor(S3_A1D3_1img, cv2.COLOR_BGR2HSV)"
      ],
      "execution_count": null,
      "outputs": []
    },
    {
      "cell_type": "code",
      "metadata": {
        "id": "JNM-l795O8j2"
      },
      "source": [
        "S3_A1D4_1img  = cv2.imread(S3_doubleA1D4_1)\n",
        "S3HSV_imgA1D4_1= cv2.cvtColor(S3_A1D4_1img, cv2.COLOR_BGR2HSV)"
      ],
      "execution_count": null,
      "outputs": []
    },
    {
      "cell_type": "markdown",
      "metadata": {
        "id": "fsHScFKQOR7t"
      },
      "source": [
        "##Set4"
      ]
    },
    {
      "cell_type": "code",
      "metadata": {
        "id": "M3yXg2bFGiDP"
      },
      "source": [
        "S4_A1A1_1img  = cv2.imread(S4_doubleA1A1_1)\n",
        "S4HSV_imgA1A1_1= cv2.cvtColor(S4_A1A1_1img, cv2.COLOR_BGR2HSV)"
      ],
      "execution_count": null,
      "outputs": []
    },
    {
      "cell_type": "code",
      "metadata": {
        "id": "lUK6mMoHGiDQ"
      },
      "source": [
        "S4_A1A2_1img  = cv2.imread(S4_doubleA1A2_1)\n",
        "S4HSV_imgA1A2_1= cv2.cvtColor(S4_A1A2_1img, cv2.COLOR_BGR2HSV)"
      ],
      "execution_count": null,
      "outputs": []
    },
    {
      "cell_type": "code",
      "metadata": {
        "id": "Ft40vnznGiDQ"
      },
      "source": [
        "S4_A1A3_1img  = cv2.imread(S4_doubleA1A3_1)\n",
        "S4HSV_imgA1A3_1= cv2.cvtColor(S4_A1A3_1img, cv2.COLOR_BGR2HSV)"
      ],
      "execution_count": null,
      "outputs": []
    },
    {
      "cell_type": "code",
      "metadata": {
        "id": "i7yBTQN2GiDQ"
      },
      "source": [
        "S4_A1A3_51img  = cv2.imread(S4_doubleA1A3_51)\n",
        "S4HSV_imgA1A3_51= cv2.cvtColor(S4_A1A3_51img, cv2.COLOR_BGR2HSV)"
      ],
      "execution_count": null,
      "outputs": []
    },
    {
      "cell_type": "code",
      "metadata": {
        "id": "oTsC-5HUGiDQ"
      },
      "source": [
        "S4_A1A4_1img  = cv2.imread(S4_doubleA1A4_1)\n",
        "S4HSV_imgA1A4_1= cv2.cvtColor(S4_A1A4_1img, cv2.COLOR_BGR2HSV)"
      ],
      "execution_count": null,
      "outputs": []
    },
    {
      "cell_type": "code",
      "metadata": {
        "id": "VPUDw1q4GiDQ"
      },
      "source": [
        "S4_A1B1_1img  = cv2.imread(S4_doubleA1B1_1)\n",
        "S4HSV_imgA1B1_1= cv2.cvtColor(S4_A1B1_1img, cv2.COLOR_BGR2HSV)"
      ],
      "execution_count": null,
      "outputs": []
    },
    {
      "cell_type": "code",
      "metadata": {
        "id": "F1T3bnLzGiDR"
      },
      "source": [
        "S4_A1B2_1img  = cv2.imread(S4_doubleA1B2_1)\n",
        "S4HSV_imgA1B2_1= cv2.cvtColor(S4_A1B2_1img, cv2.COLOR_BGR2HSV)"
      ],
      "execution_count": null,
      "outputs": []
    },
    {
      "cell_type": "code",
      "metadata": {
        "id": "pVRgjRHfGiDR"
      },
      "source": [
        "S4_A1B3_1img  = cv2.imread(S4_doubleA1B3_1)\n",
        "S4HSV_imgA1B3_1= cv2.cvtColor(S4_A1B3_1img, cv2.COLOR_BGR2HSV)"
      ],
      "execution_count": null,
      "outputs": []
    },
    {
      "cell_type": "code",
      "metadata": {
        "id": "olwI8b3aGiDR"
      },
      "source": [
        "S4_A1B4_1img  = cv2.imread(S4_doubleA1B4_1)\n",
        "S4HSV_imgA1B4_1= cv2.cvtColor(S4_A1B4_1img, cv2.COLOR_BGR2HSV)"
      ],
      "execution_count": null,
      "outputs": []
    },
    {
      "cell_type": "code",
      "metadata": {
        "id": "kHfZIcZ2GiDR"
      },
      "source": [
        "S4_A1C1_1img  = cv2.imread(S4_doubleA1C1_1)\n",
        "S4HSV_imgA1C1_1= cv2.cvtColor(S4_A1C1_1img, cv2.COLOR_BGR2HSV)"
      ],
      "execution_count": null,
      "outputs": []
    },
    {
      "cell_type": "code",
      "metadata": {
        "id": "NTSQwF5LGiDR"
      },
      "source": [
        "S4_A1C2_1img  = cv2.imread(S4_doubleA1C2_1)\n",
        "S4HSV_imgA1C2_1= cv2.cvtColor(S4_A1C2_1img, cv2.COLOR_BGR2HSV)"
      ],
      "execution_count": null,
      "outputs": []
    },
    {
      "cell_type": "code",
      "metadata": {
        "id": "gr5vzr-vGiDR"
      },
      "source": [
        "S4_A1C3_1img  = cv2.imread(S4_doubleA1C3_1)\n",
        "S4HSV_imgA1C3_1= cv2.cvtColor(S4_A1C3_1img, cv2.COLOR_BGR2HSV)"
      ],
      "execution_count": null,
      "outputs": []
    },
    {
      "cell_type": "code",
      "metadata": {
        "id": "AlBSzxZPGiDS"
      },
      "source": [
        "S4_A1C4_1img  = cv2.imread(S4_doubleA1C4_1)\n",
        "S4HSV_imgA1C4_1= cv2.cvtColor(S4_A1C4_1img, cv2.COLOR_BGR2HSV)"
      ],
      "execution_count": null,
      "outputs": []
    },
    {
      "cell_type": "code",
      "metadata": {
        "id": "AcccInfeGiDS"
      },
      "source": [
        "S4_A1D2_1img  = cv2.imread(S4_doubleA1D2_1)\n",
        "S4HSV_imgA1D2_1= cv2.cvtColor(S4_A1D2_1img, cv2.COLOR_BGR2HSV)"
      ],
      "execution_count": null,
      "outputs": []
    },
    {
      "cell_type": "code",
      "metadata": {
        "id": "162xshkjGiDS"
      },
      "source": [
        "S4_A1D3_1img  = cv2.imread(S4_doubleA1D3_1)\n",
        "S4HSV_imgA1D3_1= cv2.cvtColor(S4_A1D3_1img, cv2.COLOR_BGR2HSV)"
      ],
      "execution_count": null,
      "outputs": []
    },
    {
      "cell_type": "code",
      "metadata": {
        "id": "Et3h7SwjGiDS"
      },
      "source": [
        "S4_A1D4_1img  = cv2.imread(S4_doubleA1D4_1)\n",
        "S4HSV_imgA1D4_1= cv2.cvtColor(S4_A1D4_1img, cv2.COLOR_BGR2HSV)"
      ],
      "execution_count": null,
      "outputs": []
    },
    {
      "cell_type": "markdown",
      "metadata": {
        "id": "UNtZVBz0CQoq"
      },
      "source": [
        "#5. ดึงสี"
      ]
    },
    {
      "cell_type": "markdown",
      "metadata": {
        "id": "5H65mCxBCwun"
      },
      "source": [
        "##Set1 "
      ]
    },
    {
      "cell_type": "markdown",
      "metadata": {
        "id": "uNWjoOD4radB"
      },
      "source": [
        "### RGB"
      ]
    },
    {
      "cell_type": "code",
      "metadata": {
        "id": "3MeDXa_qCjAo"
      },
      "source": [
        "S1A1_1= list()\n",
        "S1A1_2 = list()\n",
        "for i in range(S1RGB_imgA1A1_1.shape[0]): #ให้ i รันตาม row หรือ shape[0] คือแถว มีทั้งหมด 4032 แถว ของภาพที่ปรับขนาดมาแล้ว\n",
        "     for j in range(S1RGB_imgA1A1_1.shape[1]): #ให้ j รันตาม colum มีทั้งหมด 3024 colum เช่น แถวที่ 1 เข้ามาให้รันครบ 3024colum\n",
        "                if 1770<i<1880 and 1700<j<1830 :\n",
        "                    S1A1_1.append(S1RGB_imgA1A1_1[i][j])\n",
        "                if 1770<i<1880 and 2015<j<2145 :\n",
        "                    S1A1_2.append(S1RGB_imgA1A1_1[i][j])   "
      ],
      "execution_count": 112,
      "outputs": []
    },
    {
      "cell_type": "code",
      "metadata": {
        "id": "IY5gPQv-Cy1Q"
      },
      "source": [
        "S1A1_3= list()\n",
        "S1A2_1 = list()\n",
        "for i in range(S1RGB_imgA1A2_1.shape[0]): \n",
        "     for j in range(S1RGB_imgA1A2_1.shape[1]): \n",
        "                if 1770<i<1880 and 1700<j<1830 :\n",
        "                    S1A1_3.append(S1RGB_imgA1A2_1[i][j])\n",
        "                if 1770<i<1880 and 2015<j<2145 :\n",
        "                    S1A2_1.append(S1RGB_imgA1A2_1[i][j])   "
      ],
      "execution_count": 113,
      "outputs": []
    },
    {
      "cell_type": "code",
      "metadata": {
        "id": "mig_gz6iC_pn"
      },
      "source": [
        "S1A1_4= list()\n",
        "S1A3_1 = list()\n",
        "for i in range(S1RGB_imgA1A3_1.shape[0]): \n",
        "     for j in range(S1RGB_imgA1A3_1.shape[1]): \n",
        "                if 1770<i<1880 and 1700<j<1830 :\n",
        "                    S1A1_4.append(S1RGB_imgA1A3_1[i][j])\n",
        "                if 1770<i<1880 and 2015<j<2145 :\n",
        "                    S1A3_1.append(S1RGB_imgA1A3_1[i][j])   "
      ],
      "execution_count": 114,
      "outputs": []
    },
    {
      "cell_type": "code",
      "metadata": {
        "id": "iu-ny26uDHW1"
      },
      "source": [
        "S1A1_5= list()\n",
        "S1A3_51 = list()\n",
        "for i in range(S1RGB_imgA1A3_51.shape[0]): \n",
        "     for j in range(S1RGB_imgA1A3_51.shape[1]): \n",
        "                if 1770<i<1880 and 1700<j<1830 :\n",
        "                    S1A1_5.append(S1RGB_imgA1A3_51[i][j])\n",
        "                if 1770<i<1880 and 2015<j<2145 :\n",
        "                    S1A3_51.append(S1RGB_imgA1A3_51[i][j])"
      ],
      "execution_count": 115,
      "outputs": []
    },
    {
      "cell_type": "code",
      "metadata": {
        "id": "aWV6WsWMDOyh"
      },
      "source": [
        "S1A1_6= list()\n",
        "S1A4_1 = list()\n",
        "for i in range(S1RGB_imgA1A4_1.shape[0]): \n",
        "     for j in range(S1RGB_imgA1A4_1.shape[1]): \n",
        "                if 1770<i<1880 and 1700<j<1830 :\n",
        "                    S1A1_6.append(S1RGB_imgA1A4_1[i][j])\n",
        "                if 1770<i<1880 and 2015<j<2145 :\n",
        "                    S1A4_1.append(S1RGB_imgA1A4_1[i][j])"
      ],
      "execution_count": 116,
      "outputs": []
    },
    {
      "cell_type": "code",
      "metadata": {
        "id": "De3kH-OoDYQI"
      },
      "source": [
        "S1A1_7= list()\n",
        "S1B1_1 = list()\n",
        "for i in range(S1RGB_imgA1B1_1.shape[0]): \n",
        "     for j in range(S1RGB_imgA1B1_1.shape[1]): \n",
        "                if 1770<i<1880 and 1700<j<1830 :\n",
        "                    S1A1_7.append(S1RGB_imgA1B1_1[i][j])\n",
        "                if 1770<i<1880 and 2015<j<2145 :\n",
        "                    S1B1_1.append(S1RGB_imgA1B1_1[i][j])"
      ],
      "execution_count": 117,
      "outputs": []
    },
    {
      "cell_type": "code",
      "metadata": {
        "id": "gWUovJ6PDioo"
      },
      "source": [
        "S1A1_8= list()\n",
        "S1B2_1 = list()\n",
        "for i in range(S1RGB_imgA1B2_1.shape[0]): \n",
        "     for j in range(S1RGB_imgA1B2_1.shape[1]): \n",
        "                if 1770<i<1880 and 1700<j<1830 :\n",
        "                    S1A1_8.append(S1RGB_imgA1B2_1[i][j])\n",
        "                if 1770<i<1880 and 2015<j<2145 :\n",
        "                    S1B2_1.append(S1RGB_imgA1B2_1[i][j])"
      ],
      "execution_count": 118,
      "outputs": []
    },
    {
      "cell_type": "code",
      "metadata": {
        "id": "I4g8iQcMDxjZ"
      },
      "source": [
        "S1A1_9= list()\n",
        "S1B3_1 = list()\n",
        "for i in range(S1RGB_imgA1B3_1.shape[0]): \n",
        "     for j in range(S1RGB_imgA1B3_1.shape[1]): \n",
        "                if 1770<i<1880 and 1700<j<1830 :\n",
        "                    S1A1_9.append(S1RGB_imgA1B3_1[i][j])\n",
        "                if 1770<i<1880 and 2015<j<2145 :\n",
        "                    S1B3_1.append(S1RGB_imgA1B3_1[i][j])"
      ],
      "execution_count": 119,
      "outputs": []
    },
    {
      "cell_type": "code",
      "metadata": {
        "id": "Ci0cVh1ND2Hl"
      },
      "source": [
        "S1A1_10= list()\n",
        "S1B4_1 = list()\n",
        "for i in range(S1RGB_imgA1B4_1.shape[0]): \n",
        "     for j in range(S1RGB_imgA1B4_1.shape[1]): \n",
        "                if 1770<i<1880 and 1700<j<1830 :\n",
        "                    S1A1_10.append(S1RGB_imgA1B4_1[i][j])\n",
        "                if 1770<i<1880 and 2015<j<2145 :\n",
        "                    S1B4_1.append(S1RGB_imgA1B4_1[i][j])"
      ],
      "execution_count": 120,
      "outputs": []
    },
    {
      "cell_type": "code",
      "metadata": {
        "id": "FwSZ_HixEDkc"
      },
      "source": [
        "S1A1_11= list()\n",
        "S1C1_2 = list()\n",
        "for i in range(S1RGB_imgA1C1_1.shape[0]): \n",
        "     for j in range(S1RGB_imgA1C1_1.shape[1]): \n",
        "                if 1770<i<1880 and 1700<j<1830 :\n",
        "                    S1A1_11.append(S1RGB_imgA1C1_1[i][j])\n",
        "                if 1770<i<1880 and 2015<j<2145 :\n",
        "                    S1C1_2.append(S1RGB_imgA1C1_1[i][j])   "
      ],
      "execution_count": 121,
      "outputs": []
    },
    {
      "cell_type": "code",
      "metadata": {
        "id": "rrDRSrU6AnIl"
      },
      "source": [
        ""
      ],
      "execution_count": 121,
      "outputs": []
    },
    {
      "cell_type": "code",
      "metadata": {
        "id": "DWeSxQyvEDkc"
      },
      "source": [
        "S1A1_12= list()\n",
        "S1C2_1 = list()\n",
        "for i in range(S1RGB_imgA1C2_1.shape[0]): \n",
        "     for j in range(S1RGB_imgA1C2_1.shape[1]): \n",
        "                if 1770<i<1880 and 1700<j<1830 :\n",
        "                    S1A1_12.append(S1RGB_imgA1C2_1[i][j])\n",
        "                if 1770<i<1880 and 2015<j<2145 :\n",
        "                    S1C2_1.append(S1RGB_imgA1C2_1[i][j])   "
      ],
      "execution_count": 122,
      "outputs": []
    },
    {
      "cell_type": "code",
      "metadata": {
        "id": "X0Qjr2CGEDkc"
      },
      "source": [
        "S1A1_13= list()\n",
        "S1C3_1 = list()\n",
        "for i in range(S1RGB_imgA1C3_1.shape[0]): \n",
        "     for j in range(S1RGB_imgA1C3_1.shape[1]): \n",
        "                if 1770<i<1880 and 1700<j<1830 :\n",
        "                    S1A1_13.append(S1RGB_imgA1C3_1[i][j])\n",
        "                if 1770<i<1880 and 2015<j<2145 :\n",
        "                    S1C3_1.append(S1RGB_imgA1C3_1[i][j])   "
      ],
      "execution_count": 123,
      "outputs": []
    },
    {
      "cell_type": "code",
      "metadata": {
        "id": "aEusPTDaEDkd"
      },
      "source": [
        "S1A1_14= list()\n",
        "S1C4_1 = list()\n",
        "for i in range(S1RGB_imgA1C4_1.shape[0]): \n",
        "     for j in range(S1RGB_imgA1C4_1.shape[1]): \n",
        "                if 1770<i<1880 and 1700<j<1830 :\n",
        "                    S1A1_14.append(S1RGB_imgA1C4_1[i][j])\n",
        "                if 1770<i<1880 and 2015<j<2145 :\n",
        "                    S1C4_1.append(S1RGB_imgA1C4_1[i][j])"
      ],
      "execution_count": 124,
      "outputs": []
    },
    {
      "cell_type": "code",
      "metadata": {
        "id": "NNRFIYC5Eo_j"
      },
      "source": [
        "S1A1_15= list()\n",
        "S1D2_1 = list()\n",
        "for i in range(S1RGB_imgA1D2_1.shape[0]): \n",
        "     for j in range(S1RGB_imgA1D2_1.shape[1]): \n",
        "                if 1770<i<1880 and 1700<j<1830 :\n",
        "                    S1A1_15.append(S1RGB_imgA1D2_1[i][j])\n",
        "                if 1770<i<1880 and 2015<j<2145 :\n",
        "                    S1D2_1.append(S1RGB_imgA1D2_1[i][j])   "
      ],
      "execution_count": 125,
      "outputs": []
    },
    {
      "cell_type": "code",
      "metadata": {
        "id": "CJbu45bPEo_j"
      },
      "source": [
        "S1A1_16= list()\n",
        "S1D3_1 = list()\n",
        "for i in range(S1RGB_imgA1D3_1.shape[0]): \n",
        "     for j in range(S1RGB_imgA1D3_1.shape[1]): \n",
        "                if 1770<i<1880 and 1700<j<1830 :\n",
        "                    S1A1_16.append(S1RGB_imgA1D3_1[i][j])\n",
        "                if 1770<i<1880 and 2015<j<2145 :\n",
        "                    S1D3_1.append(S1RGB_imgA1D3_1[i][j])   "
      ],
      "execution_count": 126,
      "outputs": []
    },
    {
      "cell_type": "code",
      "metadata": {
        "id": "DR9Fo_1cEo_j"
      },
      "source": [
        "S1A1_17= list()\n",
        "S1D4_1 = list()\n",
        "for i in range(S1RGB_imgA1D4_1.shape[0]): \n",
        "     for j in range(S1RGB_imgA1D4_1.shape[1]): \n",
        "                if 1770<i<1880 and 1700<j<1830 :\n",
        "                    S1A1_14.append(S1RGB_imgA1D4_1[i][j])\n",
        "                if 1770<i<1880 and 2015<j<2145 :\n",
        "                    S1D4_1.append(S1RGB_imgA1D4_1[i][j])"
      ],
      "execution_count": 127,
      "outputs": []
    },
    {
      "cell_type": "markdown",
      "metadata": {
        "id": "lSsfyHv-rhBP"
      },
      "source": [
        "###HSV"
      ]
    },
    {
      "cell_type": "code",
      "metadata": {
        "id": "_lJDvsPVri6j"
      },
      "source": [
        "S1A1_1= list()\n",
        "S1A1_2 = list()\n",
        "for i in range(S1HSV_imgA1A1_1.shape[0]): #ให้ i รันตาม row หรือ shape[0] คือแถว มีทั้งหมด 4032 แถว ของภาพที่ปรับขนาดมาแล้ว\n",
        "     for j in range(S1HSV_imgA1A1_1.shape[1]): #ให้ j รันตาม colum มีทั้งหมด 3024 colum เช่น แถวที่ 1 เข้ามาให้รันครบ 3024colum\n",
        "                if 1770<i<1880 and 1700<j<1830 :\n",
        "                    S1A1_1.append(S1HSV_imgA1A1_1[i][j])\n",
        "                if 1770<i<1880 and 2015<j<2145 :\n",
        "                    S1A1_2.append(S1HSV_imgA1A1_1[i][j])"
      ],
      "execution_count": 128,
      "outputs": []
    },
    {
      "cell_type": "code",
      "metadata": {
        "id": "xg5rxqssri8r"
      },
      "source": [
        "S1A1_3= list()\n",
        "S1A2_1 = list()\n",
        "for i in range(S1HSV_imgA1A2_1.shape[0]): \n",
        "     for j in range(S1HSV_imgA1A2_1.shape[1]): \n",
        "                if 1770<i<1880 and 1700<j<1830 :\n",
        "                    S1A1_3.append(S1HSV_imgA1A2_1[i][j])\n",
        "                if 1770<i<1880 and 2015<j<2145 :\n",
        "                    S1A2_1.append(S1HSV_imgA1A2_1[i][j])"
      ],
      "execution_count": 129,
      "outputs": []
    },
    {
      "cell_type": "code",
      "metadata": {
        "id": "Q22bz7Yrs1du"
      },
      "source": [
        "S1A1_4= list()\n",
        "S1A3_1 = list()\n",
        "for i in range(S1HSV_imgA1A3_1.shape[0]): \n",
        "     for j in range(S1HSV_imgA1A3_1.shape[1]): \n",
        "                if 1770<i<1880 and 1700<j<1830 :\n",
        "                    S1A1_4.append(S1HSV_imgA1A3_1[i][j])\n",
        "                if 1770<i<1880 and 2015<j<2145 :\n",
        "                    S1A3_1.append(S1HSV_imgA1A3_1[i][j])   "
      ],
      "execution_count": 130,
      "outputs": []
    },
    {
      "cell_type": "code",
      "metadata": {
        "id": "Xcj9y6qOs1dv"
      },
      "source": [
        "S1A1_5= list()\n",
        "S1A3_51 = list()\n",
        "for i in range(S1HSV_imgA1A3_51.shape[0]): \n",
        "     for j in range(S1HSV_imgA1A3_51.shape[1]): \n",
        "                if 1770<i<1880 and 1700<j<1830 :\n",
        "                    S1A1_5.append(S1HSV_imgA1A3_51[i][j])\n",
        "                if 1770<i<1880 and 2015<j<2145 :\n",
        "                    S1A3_51.append(S1HSV_imgA1A3_51[i][j])"
      ],
      "execution_count": 131,
      "outputs": []
    },
    {
      "cell_type": "code",
      "metadata": {
        "id": "4Nr5niAos1dv"
      },
      "source": [
        "S1A1_6= list()\n",
        "S1A4_1 = list()\n",
        "for i in range(S1HSV_imgA1A4_1.shape[0]): \n",
        "     for j in range(S1HSV_imgA1A4_1.shape[1]): \n",
        "                if 1770<i<1880 and 1700<j<1830 :\n",
        "                    S1A1_6.append(S1HSV_imgA1A4_1[i][j])\n",
        "                if 1770<i<1880 and 2015<j<2145 :\n",
        "                    S1A4_1.append(S1HSV_imgA1A4_1[i][j])"
      ],
      "execution_count": 132,
      "outputs": []
    },
    {
      "cell_type": "code",
      "metadata": {
        "id": "XtM4OpaFs1dw"
      },
      "source": [
        "S1A1_7= list()\n",
        "S1B1_1 = list()\n",
        "for i in range(S1HSV_imgA1B1_1.shape[0]): \n",
        "     for j in range(S1HSV_imgA1B1_1.shape[1]): \n",
        "                if 1770<i<1880 and 1700<j<1830 :\n",
        "                    S1A1_7.append(S1HSV_imgA1B1_1[i][j])\n",
        "                if 1770<i<1880 and 2015<j<2145 :\n",
        "                    S1B1_1.append(S1HSV_imgA1B1_1[i][j])"
      ],
      "execution_count": 133,
      "outputs": []
    },
    {
      "cell_type": "code",
      "metadata": {
        "id": "kAO2yxCls1dw"
      },
      "source": [
        "S1A1_8= list()\n",
        "S1B2_1 = list()\n",
        "for i in range(S1HSV_imgA1B2_1.shape[0]): \n",
        "     for j in range(S1HSV_imgA1B2_1.shape[1]): \n",
        "                if 1770<i<1880 and 1700<j<1830 :\n",
        "                    S1A1_8.append(S1HSV_imgA1B2_1[i][j])\n",
        "                if 1770<i<1880 and 2015<j<2145 :\n",
        "                    S1B2_1.append(S1HSV_imgA1B2_1[i][j])"
      ],
      "execution_count": 134,
      "outputs": []
    },
    {
      "cell_type": "code",
      "metadata": {
        "id": "E9PqbDEUs1dw"
      },
      "source": [
        "S1A1_9= list()\n",
        "S1B3_1 = list()\n",
        "for i in range(S1HSV_imgA1B3_1.shape[0]): \n",
        "     for j in range(S1HSV_imgA1B3_1.shape[1]): \n",
        "                if 1770<i<1880 and 1700<j<1830 :\n",
        "                    S1A1_9.append(S1HSV_imgA1B3_1[i][j])\n",
        "                if 1770<i<1880 and 2015<j<2145 :\n",
        "                    S1B3_1.append(S1HSV_imgA1B3_1[i][j])"
      ],
      "execution_count": 135,
      "outputs": []
    },
    {
      "cell_type": "code",
      "metadata": {
        "id": "Bjjr3OtFs1dx"
      },
      "source": [
        "S1A1_10= list()\n",
        "S1B4_1 = list()\n",
        "for i in range(S1HSV_imgA1B4_1.shape[0]): \n",
        "     for j in range(S1HSV_imgA1B4_1.shape[1]): \n",
        "                if 1770<i<1880 and 1700<j<1830 :\n",
        "                    S1A1_10.append(S1HSV_imgA1B4_1[i][j])\n",
        "                if 1770<i<1880 and 2015<j<2145 :\n",
        "                    S1B4_1.append(S1HSV_imgA1B4_1[i][j])"
      ],
      "execution_count": 136,
      "outputs": []
    },
    {
      "cell_type": "code",
      "metadata": {
        "id": "2cD6X557s1dx"
      },
      "source": [
        "S1A1_11= list()\n",
        "S1C1_2 = list()\n",
        "for i in range(S1HSV_imgA1C1_1.shape[0]): \n",
        "     for j in range(S1HSV_imgA1C1_1.shape[1]): \n",
        "                if 1770<i<1880 and 1700<j<1830 :\n",
        "                    S1A1_11.append(S1HSV_imgA1C1_1[i][j])\n",
        "                if 1770<i<1880 and 2015<j<2145 :\n",
        "                    S1C1_2.append(S1HSV_imgA1C1_1[i][j])   "
      ],
      "execution_count": 137,
      "outputs": []
    },
    {
      "cell_type": "code",
      "metadata": {
        "id": "9Bh77xBws1dy"
      },
      "source": [
        "S1A1_12= list()\n",
        "S1C2_1 = list()\n",
        "for i in range(S1HSV_imgA1C2_1.shape[0]): \n",
        "     for j in range(S1HSV_imgA1C2_1.shape[1]): \n",
        "                if 1770<i<1880 and 1700<j<1830 :\n",
        "                    S1A1_12.append(S1HSV_imgA1C2_1[i][j])\n",
        "                if 1770<i<1880 and 2015<j<2145 :\n",
        "                    S1C2_1.append(S1HSV_imgA1C2_1[i][j])   "
      ],
      "execution_count": 138,
      "outputs": []
    },
    {
      "cell_type": "code",
      "metadata": {
        "id": "8BnrG1t3s1dy"
      },
      "source": [
        "S1A1_13= list()\n",
        "S1C3_1 = list()\n",
        "for i in range(S1HSV_imgA1C3_1.shape[0]): \n",
        "     for j in range(S1HSV_imgA1C3_1.shape[1]): \n",
        "                if 1770<i<1880 and 1700<j<1830 :\n",
        "                    S1A1_13.append(S1HSV_imgA1C3_1[i][j])\n",
        "                if 1770<i<1880 and 2015<j<2145 :\n",
        "                    S1C3_1.append(S1HSV_imgA1C3_1[i][j])   "
      ],
      "execution_count": 139,
      "outputs": []
    },
    {
      "cell_type": "code",
      "metadata": {
        "id": "pn3ABgm7s1dz"
      },
      "source": [
        "S1A1_14= list()\n",
        "S1C4_1 = list()\n",
        "for i in range(S1HSV_imgA1C4_1.shape[0]): \n",
        "     for j in range(S1HSV_imgA1C4_1.shape[1]): \n",
        "                if 1770<i<1880 and 1700<j<1830 :\n",
        "                    S1A1_14.append(S1HSV_imgA1C4_1[i][j])\n",
        "                if 1770<i<1880 and 2015<j<2145 :\n",
        "                    S1C4_1.append(S1HSV_imgA1C4_1[i][j])"
      ],
      "execution_count": 140,
      "outputs": []
    },
    {
      "cell_type": "code",
      "metadata": {
        "id": "Bj_oz64Xs1d0"
      },
      "source": [
        "S1A1_15= list()\n",
        "S1D2_1 = list()\n",
        "for i in range(S1HSV_imgA1D2_1.shape[0]): \n",
        "     for j in range(S1HSV_imgA1D2_1.shape[1]): \n",
        "                if 1770<i<1880 and 1700<j<1830 :\n",
        "                    S1A1_15.append(S1HSV_imgA1D2_1[i][j])\n",
        "                if 1770<i<1880 and 2015<j<2145 :\n",
        "                    S1D2_1.append(S1HSV_imgA1D2_1[i][j])   "
      ],
      "execution_count": 141,
      "outputs": []
    },
    {
      "cell_type": "code",
      "metadata": {
        "id": "zYDvOvcos1d0"
      },
      "source": [
        "S1A1_16= list()\n",
        "S1D3_1 = list()\n",
        "for i in range(S1HSV_imgA1D3_1.shape[0]): \n",
        "     for j in range(S1HSV_imgA1D3_1.shape[1]): \n",
        "                if 1770<i<1880 and 1700<j<1830 :\n",
        "                    S1A1_16.append(S1HSV_imgA1D3_1[i][j])\n",
        "                if 1770<i<1880 and 2015<j<2145 :\n",
        "                    S1D3_1.append(S1HSV_imgA1D3_1[i][j])   "
      ],
      "execution_count": 142,
      "outputs": []
    },
    {
      "cell_type": "code",
      "metadata": {
        "id": "Y6imBIV9s1d1"
      },
      "source": [
        "S1A1_17= list()\n",
        "S1D4_1 = list()\n",
        "for i in range(S1HSV_imgA1D4_1.shape[0]): \n",
        "     for j in range(S1HSV_imgA1D4_1.shape[1]): \n",
        "                if 1770<i<1880 and 1700<j<1830 :\n",
        "                    S1A1_14.append(S1HSV_imgA1D4_1[i][j])\n",
        "                if 1770<i<1880 and 2015<j<2145 :\n",
        "                    S1D4_1.append(S1HSV_imgA1D4_1[i][j])"
      ],
      "execution_count": 143,
      "outputs": []
    },
    {
      "cell_type": "markdown",
      "metadata": {
        "id": "K3aE8wJsE9ve"
      },
      "source": [
        "##Set2"
      ]
    },
    {
      "cell_type": "markdown",
      "metadata": {
        "id": "U1HKIMJY1JrQ"
      },
      "source": [
        "\n",
        "###RGB"
      ]
    },
    {
      "cell_type": "code",
      "metadata": {
        "id": "khE2o3vOE_KV"
      },
      "source": [
        "S2A1_1= list()\n",
        "S2A1_2 = list()\n",
        "for i in range(S2RGB_imgA1A1_1.shape[0]): \n",
        "     for j in range(S2RGB_imgA1A1_1.shape[1]): \n",
        "                if 1770<i<1880 and 1700<j<1830 :\n",
        "                    S2A1_1.append(S2RGB_imgA1A1_1[i][j])\n",
        "                if 1770<i<1880 and 2015<j<2145 :\n",
        "                    S2A1_2.append(S2RGB_imgA1A1_1[i][j])   "
      ],
      "execution_count": 144,
      "outputs": []
    },
    {
      "cell_type": "code",
      "metadata": {
        "id": "4kCdvqwGE_KV"
      },
      "source": [
        "S2A1_3= list()\n",
        "S2A2_1 = list()\n",
        "for i in range(S2RGB_imgA1A2_1.shape[0]): \n",
        "     for j in range(S2RGB_imgA1A2_1.shape[1]): \n",
        "                if 1770<i<1880 and 1700<j<1830 :\n",
        "                    S2A1_3.append(S2RGB_imgA1A2_1[i][j])\n",
        "                if 1770<i<1880 and 2015<j<2145 :\n",
        "                    S2A2_1.append(S2RGB_imgA1A2_1[i][j])   "
      ],
      "execution_count": 145,
      "outputs": []
    },
    {
      "cell_type": "code",
      "metadata": {
        "id": "U0X6KhvhE_KV"
      },
      "source": [
        "S2A1_4= list()\n",
        "S2A3_1 = list()\n",
        "for i in range(S2RGB_imgA1A3_1.shape[0]): \n",
        "     for j in range(S2RGB_imgA1A3_1.shape[1]): \n",
        "                if 1770<i<1880 and 1700<j<1830 :\n",
        "                    S2A1_4.append(S2RGB_imgA1A3_1[i][j])\n",
        "                if 1770<i<1880 and 2015<j<2145 :\n",
        "                    S2A3_1.append(S2RGB_imgA1A3_1[i][j])   "
      ],
      "execution_count": 146,
      "outputs": []
    },
    {
      "cell_type": "code",
      "metadata": {
        "id": "BLFMGwWaE_KV"
      },
      "source": [
        "S2A1_5= list()\n",
        "S2A3_51 = list()\n",
        "for i in range(S2RGB_imgA1A3_51.shape[0]): \n",
        "     for j in range(S2RGB_imgA1A3_51.shape[1]): \n",
        "                if 1770<i<1880 and 1700<j<1830 :\n",
        "                    S2A1_5.append(S2RGB_imgA1A3_51[i][j])\n",
        "                if 1770<i<1880 and 2015<j<2145 :\n",
        "                    S2A3_51.append(S2RGB_imgA1A3_51[i][j])"
      ],
      "execution_count": 147,
      "outputs": []
    },
    {
      "cell_type": "code",
      "metadata": {
        "id": "6628zpddE_KV"
      },
      "source": [
        "S2A1_6= list()\n",
        "S2A4_1 = list()\n",
        "for i in range(S2RGB_imgA1A4_1.shape[0]): \n",
        "     for j in range(S2RGB_imgA1A4_1.shape[1]): \n",
        "                if 1770<i<1880 and 1700<j<1830 :\n",
        "                    S2A1_6.append(S2RGB_imgA1A4_1[i][j])\n",
        "                if 1770<i<1880 and 2015<j<2145 :\n",
        "                    S2A4_1.append(S2RGB_imgA1A4_1[i][j])"
      ],
      "execution_count": 148,
      "outputs": []
    },
    {
      "cell_type": "code",
      "metadata": {
        "id": "qi-Bb23SE_KV"
      },
      "source": [
        "S2A1_7= list()\n",
        "S2B1_1 = list()\n",
        "for i in range(S2RGB_imgA1B1_1.shape[0]): \n",
        "     for j in range(S2RGB_imgA1B1_1.shape[1]): \n",
        "                if 1770<i<1880 and 1700<j<1830 :\n",
        "                    S2A1_7.append(S2RGB_imgA1B1_1[i][j])\n",
        "                if 1770<i<1880 and 2015<j<2145 :\n",
        "                    S2B1_1.append(S2RGB_imgA1B1_1[i][j])"
      ],
      "execution_count": 149,
      "outputs": []
    },
    {
      "cell_type": "code",
      "metadata": {
        "id": "WdESh-zdE_KV"
      },
      "source": [
        "S2A1_8= list()\n",
        "S2B2_1 = list()\n",
        "for i in range(S2RGB_imgA1B2_1.shape[0]): \n",
        "     for j in range(S2RGB_imgA1B2_1.shape[1]): \n",
        "                if 1770<i<1880 and 1700<j<1830 :\n",
        "                    S2A1_8.append(S2RGB_imgA1B2_1[i][j])\n",
        "                if 1770<i<1880 and 2015<j<2145 :\n",
        "                    S2B2_1.append(S2RGB_imgA1B2_1[i][j])"
      ],
      "execution_count": 150,
      "outputs": []
    },
    {
      "cell_type": "code",
      "metadata": {
        "id": "jXnLb-2NE_KW"
      },
      "source": [
        "S2A1_9= list()\n",
        "S2B3_1 = list()\n",
        "for i in range(S2RGB_imgA1B3_1.shape[0]): \n",
        "     for j in range(S2RGB_imgA1B3_1.shape[1]): \n",
        "                if 1770<i<1880 and 1700<j<1830 :\n",
        "                    S2A1_9.append(S2RGB_imgA1B3_1[i][j])\n",
        "                if 1770<i<1880 and 2015<j<2145 :\n",
        "                    S2B3_1.append(S2RGB_imgA1B3_1[i][j])"
      ],
      "execution_count": 151,
      "outputs": []
    },
    {
      "cell_type": "code",
      "metadata": {
        "id": "6ISqriBWE_KW"
      },
      "source": [
        "S2A1_10= list()\n",
        "S2B4_1 = list()\n",
        "for i in range(S2RGB_imgA1B4_1.shape[0]): \n",
        "     for j in range(S2RGB_imgA1B4_1.shape[1]): \n",
        "                if 1770<i<1880 and 1700<j<1830 :\n",
        "                    S2A1_10.append(S2RGB_imgA1B4_1[i][j])\n",
        "                if 1770<i<1880 and 2015<j<2145 :\n",
        "                    S2B4_1.append(S2RGB_imgA1B4_1[i][j])"
      ],
      "execution_count": 152,
      "outputs": []
    },
    {
      "cell_type": "code",
      "metadata": {
        "id": "RebcKxFxE_KW"
      },
      "source": [
        "S2A1_11= list()\n",
        "S2C1_1 = list()\n",
        "for i in range(S2RGB_imgA1C1_1.shape[0]): \n",
        "     for j in range(S2RGB_imgA1C1_1.shape[1]): \n",
        "                if 1770<i<1880 and 1700<j<1830 :\n",
        "                    S2A1_11.append(S2RGB_imgA1C1_1[i][j])\n",
        "                if 1770<i<1880 and 2015<j<2145 :\n",
        "                    S2C1_1.append(S2RGB_imgA1C1_1[i][j])   "
      ],
      "execution_count": 153,
      "outputs": []
    },
    {
      "cell_type": "code",
      "metadata": {
        "id": "rYhPStMmE_KW"
      },
      "source": [
        "S2A1_12= list()\n",
        "S2C2_1 = list()\n",
        "for i in range(S2RGB_imgA1C2_1.shape[0]): \n",
        "     for j in range(S2RGB_imgA1C2_1.shape[1]): \n",
        "                if 1770<i<1880 and 1700<j<1830 :\n",
        "                    S2A1_12.append(S2RGB_imgA1C2_1[i][j])\n",
        "                if 1770<i<1880 and 2015<j<2145 :\n",
        "                    S2C2_1.append(S2RGB_imgA1C2_1[i][j])   "
      ],
      "execution_count": 154,
      "outputs": []
    },
    {
      "cell_type": "code",
      "metadata": {
        "id": "h3ox_cTcE_KW"
      },
      "source": [
        "S2A1_13= list()\n",
        "S2C3_1 = list()\n",
        "for i in range(S2RGB_imgA1C3_1.shape[0]): \n",
        "     for j in range(S2RGB_imgA1C3_1.shape[1]): \n",
        "                if 1770<i<1880 and 1700<j<1830 :\n",
        "                    S2A1_13.append(S2RGB_imgA1C3_1[i][j])\n",
        "                if 1770<i<1880 and 2015<j<2145 :\n",
        "                    S2C3_1.append(S2RGB_imgA1C3_1[i][j])   "
      ],
      "execution_count": 155,
      "outputs": []
    },
    {
      "cell_type": "code",
      "metadata": {
        "id": "5hciU69HE_KW"
      },
      "source": [
        "S2A1_14= list()\n",
        "S2C4_1 = list()\n",
        "for i in range(S2RGB_imgA1C4_1.shape[0]): \n",
        "     for j in range(S2RGB_imgA1C4_1.shape[1]): \n",
        "                if 1770<i<1880 and 1700<j<1830 :\n",
        "                    S2A1_14.append(S2RGB_imgA1C4_1[i][j])\n",
        "                if 1770<i<1880 and 2015<j<2145 :\n",
        "                    S2C4_1.append(S2RGB_imgA1C4_1[i][j])"
      ],
      "execution_count": 156,
      "outputs": []
    },
    {
      "cell_type": "code",
      "metadata": {
        "id": "-PIfd58aE_KW"
      },
      "source": [
        "S2A1_15= list()\n",
        "S2D2_1 = list()\n",
        "for i in range(S2RGB_imgA1C2_1.shape[0]): \n",
        "     for j in range(S2RGB_imgA1D2_1.shape[1]): \n",
        "                if 1770<i<1880 and 1700<j<1830 :\n",
        "                    S2A1_15.append(S2RGB_imgA1D2_1[i][j])\n",
        "                if 1770<i<1880 and 2015<j<2145 :\n",
        "                    S2D2_1.append(S2RGB_imgA1D2_1[i][j])   "
      ],
      "execution_count": 157,
      "outputs": []
    },
    {
      "cell_type": "code",
      "metadata": {
        "id": "RWWQk81wE_KW"
      },
      "source": [
        "S2A1_16= list()\n",
        "S2D3_1 = list()\n",
        "for i in range(S2RGB_imgA1D3_1.shape[0]): \n",
        "     for j in range(S2RGB_imgA1D3_1.shape[1]): \n",
        "                if 1770<i<1880 and 1700<j<1830 :\n",
        "                    S2A1_16.append(S2RGB_imgA1D3_1[i][j])\n",
        "                if 1770<i<1880 and 2015<j<2145 :\n",
        "                    S2D3_1.append(S2RGB_imgA1D3_1[i][j])   "
      ],
      "execution_count": 158,
      "outputs": []
    },
    {
      "cell_type": "code",
      "metadata": {
        "id": "--ESatmJE_KW"
      },
      "source": [
        "S2A1_17= list()\n",
        "S2D4_1 = list()\n",
        "for i in range(S2RGB_imgA1D4_1.shape[0]): \n",
        "     for j in range(S2RGB_imgA1D4_1.shape[1]): \n",
        "                if 1770<i<1880 and 1700<j<1830 :\n",
        "                    S2A1_14.append(S2RGB_imgA1D4_1[i][j])\n",
        "                if 1770<i<1880 and 2015<j<2145 :\n",
        "                    S2D4_1.append(S2RGB_imgA1D4_1[i][j])"
      ],
      "execution_count": 159,
      "outputs": []
    },
    {
      "cell_type": "markdown",
      "metadata": {
        "id": "JkoDeeMU1OW7"
      },
      "source": [
        "###HSV"
      ]
    },
    {
      "cell_type": "code",
      "metadata": {
        "id": "xu-qOwpl1pQb"
      },
      "source": [
        "S2A1_1= list()\n",
        "S2A1_2 = list()\n",
        "for i in range(S2HSV_imgA1A1_1.shape[0]): \n",
        "     for j in range(S2HSV_imgA1A1_1.shape[1]): \n",
        "                if 1770<i<1880 and 1700<j<1830 :\n",
        "                    S2A1_1.append(S2HSV_imgA1A1_1[i][j])\n",
        "                if 1770<i<1880 and 2015<j<2145 :\n",
        "                    S2A1_2.append(S2HSV_imgA1A1_1[i][j])   "
      ],
      "execution_count": 160,
      "outputs": []
    },
    {
      "cell_type": "code",
      "metadata": {
        "id": "_fpgN85Z1pQc"
      },
      "source": [
        "S2A1_3= list()\n",
        "S2A2_1 = list()\n",
        "for i in range(S2HSV_imgA1A2_1.shape[0]): \n",
        "     for j in range(S2HSV_imgA1A2_1.shape[1]): \n",
        "                if 1770<i<1880 and 1700<j<1830 :\n",
        "                    S2A1_3.append(S2HSV_imgA1A2_1[i][j])\n",
        "                if 1770<i<1880 and  2015<j<2145 :\n",
        "                   S2A2_1.append(S2HSV_imgA1A2_1[i][j])   "
      ],
      "execution_count": 161,
      "outputs": []
    },
    {
      "cell_type": "code",
      "metadata": {
        "id": "1OVw3fvj1pQc"
      },
      "source": [
        "S2A1_4= list()\n",
        "S2A3_1 = list()\n",
        "for i in range(S2HSV_imgA1A3_1.shape[0]): \n",
        "     for j in range(S2HSV_imgA1A3_1.shape[1]): \n",
        "                if 1770<i<1880 and 1700<j<1830 :\n",
        "                    S2A1_4.append(S2HSV_imgA1A3_1[i][j])\n",
        "                if 1770<i<1880 and 2015<j<2145 :\n",
        "                    S2A3_1.append(S2HSV_imgA1A3_1[i][j])   "
      ],
      "execution_count": 162,
      "outputs": []
    },
    {
      "cell_type": "code",
      "metadata": {
        "id": "8V2Atb3t1pQd"
      },
      "source": [
        "S2A1_5= list()\n",
        "S2A3_51 = list()\n",
        "for i in range(S2HSV_imgA1A3_51.shape[0]): \n",
        "     for j in range(S2HSV_imgA1A3_51.shape[1]): \n",
        "                if 1770<i<1880 and 1700<j<1830 :\n",
        "                    S2A1_5.append(S2HSV_imgA1A3_51[i][j])\n",
        "                if 1770<i<1880 and 2015<j<2145 :\n",
        "                    S2A3_51.append(S2HSV_imgA1A3_51[i][j])"
      ],
      "execution_count": 163,
      "outputs": []
    },
    {
      "cell_type": "code",
      "metadata": {
        "id": "6q5mOaKO1pQd"
      },
      "source": [
        "S2A1_6= list()\n",
        "S2A4_1 = list()\n",
        "for i in range(S2HSV_imgA1A4_1.shape[0]): \n",
        "     for j in range(S2HSV_imgA1A4_1.shape[1]): \n",
        "                if 1770<i<1880 and 1700<j<1830 :\n",
        "                    S2A1_6.append(S2HSV_imgA1A4_1[i][j])\n",
        "                if 1770<i<1880 and 2015<j<2145 :\n",
        "                    S2A4_1.append(S2HSV_imgA1A4_1[i][j])"
      ],
      "execution_count": 164,
      "outputs": []
    },
    {
      "cell_type": "code",
      "metadata": {
        "id": "STyt6nic1pQd"
      },
      "source": [
        "S2A1_7= list()\n",
        "S2B1_1 = list()\n",
        "for i in range(S2HSV_imgA1B1_1.shape[0]): \n",
        "     for j in range(S2HSV_imgA1B1_1.shape[1]): \n",
        "                if 1770<i<1880 and 1700<j<1830 :\n",
        "                    S2A1_7.append(S2HSV_imgA1B1_1[i][j])\n",
        "                if 1770<i<1880 and 2015<j<2145 :\n",
        "                    S2B1_1.append(S2HSV_imgA1B1_1[i][j])"
      ],
      "execution_count": 165,
      "outputs": []
    },
    {
      "cell_type": "code",
      "metadata": {
        "id": "ReMsaPxH1pQe"
      },
      "source": [
        "S2A1_8= list()\n",
        "S2B2_1 = list()\n",
        "for i in range(S2HSV_imgA1B2_1.shape[0]): \n",
        "     for j in range(S2HSV_imgA1B2_1.shape[1]): \n",
        "                if 1770<i<1880 and 1700<j<1830 :\n",
        "                    S2A1_8.append(S2HSV_imgA1B2_1[i][j])\n",
        "                if 1770<i<1880 and 2015<j<2145 :\n",
        "                    S2B2_1.append(S2HSV_imgA1B2_1[i][j])"
      ],
      "execution_count": 166,
      "outputs": []
    },
    {
      "cell_type": "code",
      "metadata": {
        "id": "wtik5ajT1pQe"
      },
      "source": [
        "S2A1_9= list()\n",
        "S2B3_1 = list()\n",
        "for i in range(S2HSV_imgA1B3_1.shape[0]): \n",
        "     for j in range(S2HSV_imgA1B3_1.shape[1]): \n",
        "                if 1770<i<1880 and 1700<j<1830 :\n",
        "                    S2A1_9.append(S2HSV_imgA1B3_1[i][j])\n",
        "                if 1770<i<1880 and 2015<j<2145 :\n",
        "                    S2B3_1.append(S2HSV_imgA1B3_1[i][j])"
      ],
      "execution_count": 167,
      "outputs": []
    },
    {
      "cell_type": "code",
      "metadata": {
        "id": "zjbrsCW41pQe"
      },
      "source": [
        "S2A1_10= list()\n",
        "S2B4_1 = list()\n",
        "for i in range(S2HSV_imgA1B4_1.shape[0]): \n",
        "     for j in range(S2HSV_imgA1B4_1.shape[1]): \n",
        "                if 1770<i<1880 and 1700<j<1830 :\n",
        "                    S2A1_10.append(S2HSV_imgA1B4_1[i][j])\n",
        "                if 1770<i<1880 and 2015<j<2145 :\n",
        "                    S2B4_1.append(S2HSV_imgA1B4_1[i][j])"
      ],
      "execution_count": 168,
      "outputs": []
    },
    {
      "cell_type": "code",
      "metadata": {
        "id": "QLyRshs21pQe"
      },
      "source": [
        "S2A1_11= list()\n",
        "S2C1_1 = list()\n",
        "for i in range(S2HSV_imgA1C1_1.shape[0]): \n",
        "     for j in range(S2HSV_imgA1C1_1.shape[1]): \n",
        "                if 1770<i<1880 and 1700<j<1830 :\n",
        "                    S2A1_11.append(S2HSV_imgA1C1_1[i][j])\n",
        "                if 1770<i<1880 and 2015<j<2145 :\n",
        "                    S2C1_1.append(S2HSV_imgA1C1_1[i][j])   "
      ],
      "execution_count": 169,
      "outputs": []
    },
    {
      "cell_type": "code",
      "metadata": {
        "id": "tRI8V22i1pQe"
      },
      "source": [
        "S2A1_12= list()\n",
        "S2C2_1 = list()\n",
        "for i in range(S2HSV_imgA1C2_1.shape[0]): \n",
        "     for j in range(S2HSV_imgA1C2_1.shape[1]): \n",
        "                if 1770<i<1880 and 1700<j<1830 :\n",
        "                    S2A1_12.append(S2HSV_imgA1C2_1[i][j])\n",
        "                if 1770<i<1880 and 2015<j<2145 :\n",
        "                    S2C2_1.append(S2HSV_imgA1C2_1[i][j])   "
      ],
      "execution_count": 170,
      "outputs": []
    },
    {
      "cell_type": "code",
      "metadata": {
        "id": "sjDrbszJ1pQf"
      },
      "source": [
        "S2A1_13= list()\n",
        "S2C3_1 = list()\n",
        "for i in range(S2HSV_imgA1C3_1.shape[0]): \n",
        "     for j in range(S2HSV_imgA1C3_1.shape[1]): \n",
        "                if 1770<i<1880 and 1700<j<1830 :\n",
        "                    S2A1_13.append(S2HSV_imgA1C3_1[i][j])\n",
        "                if 1770<i<1880 and 2015<j<2145 :\n",
        "                    S2C3_1.append(S2HSV_imgA1C3_1[i][j])   "
      ],
      "execution_count": 171,
      "outputs": []
    },
    {
      "cell_type": "code",
      "metadata": {
        "id": "SLE_khFl1pQf"
      },
      "source": [
        "S2A1_14= list()\n",
        "S2C4_1 = list()\n",
        "for i in range(S2HSV_imgA1C4_1.shape[0]): \n",
        "     for j in range(S2HSV_imgA1C4_1.shape[1]): \n",
        "                if 1770<i<1880 and 1700<j<1830 :\n",
        "                    S2A1_14.append(S2HSV_imgA1C4_1[i][j])\n",
        "                if 1770<i<1880 and 2015<j<2145 :\n",
        "                    S2C4_1.append(S2HSV_imgA1C4_1[i][j])"
      ],
      "execution_count": 172,
      "outputs": []
    },
    {
      "cell_type": "code",
      "metadata": {
        "id": "Wdfz2kJt1pQf"
      },
      "source": [
        "S2A1_15= list()\n",
        "S2D2_1 = list()\n",
        "for i in range(S2HSV_imgA1C2_1.shape[0]): \n",
        "     for j in range(S2HSV_imgA1D2_1.shape[1]): \n",
        "                if 1770<i<1880 and 1700<j<1830 :\n",
        "                    S2A1_15.append(S2HSV_imgA1D2_1[i][j])\n",
        "                if 1770<i<1880 and 2015<j<2145 :\n",
        "                    S2D2_1.append(S2HSV_imgA1D2_1[i][j])   "
      ],
      "execution_count": 173,
      "outputs": []
    },
    {
      "cell_type": "code",
      "metadata": {
        "id": "fsIp_g_f1pQf"
      },
      "source": [
        "S2A1_16= list()\n",
        "S2D3_1 = list()\n",
        "for i in range(S2HSV_imgA1D3_1.shape[0]): \n",
        "          for j in range(S2HSV_imgA1D3_1.shape[1]): \n",
        "                if 1770<i<1880 and 1700<j<1830 :\n",
        "                    S2A1_16.append(S2HSV_imgA1D3_1[i][j])\n",
        "                if 1770<i<1880 and 2015<j<2145 :\n",
        "                    S2D3_1.append(S2HSV_imgA1D3_1[i][j])   "
      ],
      "execution_count": 174,
      "outputs": []
    },
    {
      "cell_type": "code",
      "metadata": {
        "id": "XgdLikLO1pQg"
      },
      "source": [
        "S2A1_17= list()\n",
        "S2D4_1 = list()\n",
        "for i in range(S2HSV_imgA1D4_1.shape[0]): \n",
        "     for j in range(S2HSV_imgA1D4_1.shape[1]): \n",
        "                if 1770<i<1880 and 1700<j<1830 :\n",
        "                    S2A1_14.append(S2HSV_imgA1D4_1[i][j])\n",
        "                if 1770<i<1880 and 2015<j<2145 :\n",
        "                    S2D4_1.append(S2HSV_imgA1D4_1[i][j])"
      ],
      "execution_count": 175,
      "outputs": []
    },
    {
      "cell_type": "markdown",
      "metadata": {
        "id": "LdPw_q1gGkV2"
      },
      "source": [
        "##Set3"
      ]
    },
    {
      "cell_type": "markdown",
      "metadata": {
        "id": "c06Ib-B4_hdh"
      },
      "source": [
        "###RGB"
      ]
    },
    {
      "cell_type": "code",
      "metadata": {
        "id": "J40PJiI8GmS1"
      },
      "source": [
        "S3A1_1= list()\n",
        "S3A1_2 = list()\n",
        "for i in range(S3RGB_imgA1A1_1.shape[0]): \n",
        "     for j in range(S3RGB_imgA1A1_1.shape[1]): \n",
        "                if 1770<i<1880 and 1700<j<1830 :\n",
        "                    S3A1_1.append(S3RGB_imgA1A1_1[i][j])\n",
        "                if 1770<i<1880 and 2015<j<2145 :\n",
        "                    S3A1_2.append(S3RGB_imgA1A1_1[i][j])   "
      ],
      "execution_count": null,
      "outputs": []
    },
    {
      "cell_type": "code",
      "metadata": {
        "id": "VxYPEX_4GmS1"
      },
      "source": [
        "S3A1_3= list()\n",
        "S3A2_1 = list()\n",
        "for i in range(S3RGB_imgA1A2_1.shape[0]): \n",
        "     for j in range(S3RGB_imgA1A2_1.shape[1]): \n",
        "                if 1770<i<1880 and 1700<j<1830 :\n",
        "                    S3A1_3.append(S3RGB_imgA1A2_1[i][j])\n",
        "                if 1770<i<1880 and 2015<j<2145 :\n",
        "                    S3A2_1.append(S3RGB_imgA1A2_1[i][j])   "
      ],
      "execution_count": null,
      "outputs": []
    },
    {
      "cell_type": "code",
      "metadata": {
        "id": "BVNOg5-cGmS2"
      },
      "source": [
        "S3A1_4= list()\n",
        "S3A3_1 = list()\n",
        "for i in range(S3RGB_imgA1A3_1.shape[0]): \n",
        "     for j in range(S3RGB_imgA1A3_1.shape[1]): \n",
        "                if 1770<i<1880 and 1700<j<1830 :\n",
        "                    S3A1_4.append(S3RGB_imgA1A3_1[i][j])\n",
        "                if 1770<i<1880 and 2015<j<2145 :\n",
        "                    S3A3_1.append(S3RGB_imgA1A3_1[i][j])   "
      ],
      "execution_count": null,
      "outputs": []
    },
    {
      "cell_type": "code",
      "metadata": {
        "id": "hgO-IINpGmS2"
      },
      "source": [
        "S3A1_5= list()\n",
        "S3A3_51 = list()\n",
        "for i in range(S3RGB_imgA1A3_51.shape[0]): \n",
        "     for j in range(S3RGB_imgA1A3_51.shape[1]): \n",
        "                if 1770<i<1880 and 1700<j<1830 :\n",
        "                    S3A1_5.append(S3RGB_imgA1A3_51[i][j])\n",
        "                if 1770<i<1880 and 2015<j<2145 :\n",
        "                    S3A3_51.append(S3RGB_imgA1A3_51[i][j])"
      ],
      "execution_count": null,
      "outputs": []
    },
    {
      "cell_type": "code",
      "metadata": {
        "id": "mhPYG5aWGmS2"
      },
      "source": [
        "S3A1_6= list()\n",
        "S3A4_1 = list()\n",
        "for i in range(S3RGB_imgA1A4_1.shape[0]): \n",
        "     for j in range(S3RGB_imgA1A4_1.shape[1]): \n",
        "                if 1770<i<1880 and 1700<j<1830 :\n",
        "                    S3A1_6.append(S3RGB_imgA1A4_1[i][j])\n",
        "                if 1770<i<1880 and 2015<j<2145 :\n",
        "                    S3A4_1.append(S3RGB_imgA1A4_1[i][j])"
      ],
      "execution_count": null,
      "outputs": []
    },
    {
      "cell_type": "code",
      "metadata": {
        "id": "fEdxgljaGmS2"
      },
      "source": [
        "S3A1_7= list()\n",
        "S3B1_1 = list()\n",
        "for i in range(S3RGB_imgA1B1_1.shape[0]): \n",
        "     for j in range(S3RGB_imgA1B1_1.shape[1]): \n",
        "                if 1770<i<1880 and 1700<j<1830 :\n",
        "                    S3A1_7.append(S3RGB_imgA1B1_1[i][j])\n",
        "                if 1770<i<1880 and 2015<j<2145 :\n",
        "                    S3B1_1.append(S3RGB_imgA1B1_1[i][j])"
      ],
      "execution_count": null,
      "outputs": []
    },
    {
      "cell_type": "code",
      "metadata": {
        "id": "BjYP0W3yGmS4"
      },
      "source": [
        "S3A1_8= list()\n",
        "S3B2_1 = list()\n",
        "for i in range(S3RGB_imgA1B2_1.shape[0]): \n",
        "     for j in range(S3RGB_imgA1B2_1.shape[1]): \n",
        "                if 1770<i<1880 and 1700<j<1830 :\n",
        "                    S3A1_8.append(S3RGB_imgA1B2_1[i][j])\n",
        "                if 1770<i<1880 and 2015<j<2145 :\n",
        "                    S3B2_1.append(S3RGB_imgA1B2_1[i][j])"
      ],
      "execution_count": null,
      "outputs": []
    },
    {
      "cell_type": "code",
      "metadata": {
        "id": "v-ifdKzfGmS4"
      },
      "source": [
        "S3A1_9= list()\n",
        "S3B3_1 = list()\n",
        "for i in range(S3RGB_imgA1B3_1.shape[0]): \n",
        "     for j in range(S3RGB_imgA1B3_1.shape[1]): \n",
        "                if 1770<i<1880 and 1700<j<1830 :\n",
        "                    S3A1_9.append(S3RGB_imgA1B3_1[i][j])\n",
        "                if 1770<i<1880 and 2015<j<2145 :\n",
        "                    S3B3_1.append(S3RGB_imgA1B3_1[i][j])"
      ],
      "execution_count": null,
      "outputs": []
    },
    {
      "cell_type": "code",
      "metadata": {
        "id": "SIYhSOKUGmS4"
      },
      "source": [
        "S3A1_10= list()\n",
        "S3B4_1 = list()\n",
        "for i in range(S3RGB_imgA1B4_1.shape[0]): \n",
        "     for j in range(S3RGB_imgA1B4_1.shape[1]): \n",
        "                if 1770<i<1880 and 1700<j<1830 :\n",
        "                    S3A1_10.append(S3RGB_imgA1B4_1[i][j])\n",
        "                if 1770<i<1880 and 2015<j<2145 :\n",
        "                    S3B4_1.append(S3RGB_imgA1B4_1[i][j])"
      ],
      "execution_count": null,
      "outputs": []
    },
    {
      "cell_type": "code",
      "metadata": {
        "id": "ApnX1-rXGmS4"
      },
      "source": [
        "S3A1_11= list()\n",
        "S3C1_2 = list()\n",
        "for i in range(S3RGB_imgA1C1_1.shape[0]): \n",
        "     for j in range(S3RGB_imgA1C1_1.shape[1]): \n",
        "                if 1770<i<1880 and 1700<j<1830 :\n",
        "                    S3A1_11.append(S3RGB_imgA1C1_1[i][j])\n",
        "                if 1770<i<1880 and 2015<j<2145 :\n",
        "                    S3C1_2.append(S3RGB_imgA1C1_1[i][j])   "
      ],
      "execution_count": null,
      "outputs": []
    },
    {
      "cell_type": "code",
      "metadata": {
        "id": "eJ_c9MBkGmS4"
      },
      "source": [
        "S3A1_12= list()\n",
        "S3C2_1 = list()\n",
        "for i in range(S3RGB_imgA1C2_1.shape[0]): \n",
        "     for j in range(S3RGB_imgA1C2_1.shape[1]): \n",
        "                if 1770<i<1880 and 1700<j<1830 :\n",
        "                    S3A1_12.append(S3RGB_imgA1C2_1[i][j])\n",
        "                if 1770<i<1880 and 2015<j<2145 :\n",
        "                    S3C2_1.append(S3RGB_imgA1C2_1[i][j])   "
      ],
      "execution_count": null,
      "outputs": []
    },
    {
      "cell_type": "code",
      "metadata": {
        "id": "_cOuV9_UGmS4"
      },
      "source": [
        "S3A1_13= list()\n",
        "S3C3_1 = list()\n",
        "for i in range(S3RGB_imgA1C3_1.shape[0]): \n",
        "     for j in range(S3RGB_imgA1C3_1.shape[1]): \n",
        "                if 1770<i<1880 and 1700<j<1830 :\n",
        "                    S3A1_13.append(S3RGB_imgA1C3_1[i][j])\n",
        "                if 1770<i<1880 and 2015<j<2145 :\n",
        "                    S3C3_1.append(S3RGB_imgA1C3_1[i][j])   "
      ],
      "execution_count": null,
      "outputs": []
    },
    {
      "cell_type": "code",
      "metadata": {
        "id": "7kykr3x5GmS5"
      },
      "source": [
        "S3A1_14= list()\n",
        "S3C4_1 = list()\n",
        "for i in range(S3RGB_imgA1C4_1.shape[0]): \n",
        "     for j in range(S3RGB_imgA1C4_1.shape[1]): \n",
        "                if 1770<i<1880 and 1700<j<1830 :\n",
        "                    S3A1_14.append(S3RGB_imgA1C4_1[i][j])\n",
        "                if 1770<i<1880 and 2015<j<2145 :\n",
        "                    S3C4_1.append(S3RGB_imgA1C4_1[i][j])"
      ],
      "execution_count": null,
      "outputs": []
    },
    {
      "cell_type": "code",
      "metadata": {
        "id": "WPHrRVBUGmS5"
      },
      "source": [
        "S3A1_15= list()\n",
        "S3D2_1 = list()\n",
        "for i in range(S3RGB_imgA1D2_1.shape[0]): \n",
        "     for j in range(S3RGB_imgA1D2_1.shape[1]): \n",
        "                if 1770<i<1880 and 1700<j<1830 :\n",
        "                    S3A1_15.append(S3RGB_imgA1D2_1[i][j])\n",
        "                if 1770<i<1880 and 2015<j<2145 :\n",
        "                    S3D2_1.append(S3RGB_imgA1D2_1[i][j])   "
      ],
      "execution_count": null,
      "outputs": []
    },
    {
      "cell_type": "code",
      "metadata": {
        "id": "isJEjHrRGmS5"
      },
      "source": [
        "S3A1_16= list()\n",
        "S3D3_1 = list()\n",
        "for i in range(S3RGB_imgA1D3_1.shape[0]): \n",
        "     for j in range(S3RGB_imgA1D3_1.shape[1]): \n",
        "                if 1770<i<1880 and 1700<j<1830 :\n",
        "                    S3A1_16.append(S3RGB_imgA1D3_1[i][j])\n",
        "                if 1770<i<1880 and 2015<j<2145 :\n",
        "                    S3D3_1.append(S3RGB_imgA1D3_1[i][j])   "
      ],
      "execution_count": null,
      "outputs": []
    },
    {
      "cell_type": "code",
      "metadata": {
        "id": "ps2NBDnOGmS5"
      },
      "source": [
        "S3A1_17= list()\n",
        "S3D4_1 = list()\n",
        "for i in range(S3RGB_imgA1D4_1.shape[0]): \n",
        "     for j in range(S3RGB_imgA1D4_1.shape[1]): \n",
        "                if 1770<i<1880 and 1700<j<1830 :\n",
        "                    S3A1_17.append(S3RGB_imgA1D4_1[i][j])\n",
        "                if 1770<i<1880 and 2015<j<2145 :\n",
        "                    S3D4_1.append(S3RGB_imgA1D4_1[i][j])"
      ],
      "execution_count": null,
      "outputs": []
    },
    {
      "cell_type": "markdown",
      "metadata": {
        "id": "kNOTENEk_xhP"
      },
      "source": [
        "###HSV"
      ]
    },
    {
      "cell_type": "code",
      "metadata": {
        "id": "Ulvlwpu-ABAs"
      },
      "source": [
        "S3A1_1= list()\n",
        "S3A1_2 = list()\n",
        "for i in range(S3HSV_imgA1A1_1.shape[0]): \n",
        "     for j in range(S3HSV_imgA1A1_1.shape[1]): \n",
        "                if 1770<i<1880 and 1700<j<1830 :\n",
        "                    S3A1_1.append(S3HSV_imgA1A1_1[i][j])\n",
        "                if 1770<i<1880 and 2015<j<2145 :\n",
        "                    S3A1_2.append(S3HSV_imgA1A1_1[i][j])   "
      ],
      "execution_count": null,
      "outputs": []
    },
    {
      "cell_type": "code",
      "metadata": {
        "id": "DAd6RmLwABAs"
      },
      "source": [
        "S3A1_3= list()\n",
        "S3A2_1 = list()\n",
        "for i in range(S3HSV_imgA1A2_1.shape[0]): \n",
        "     for j in range(S3HSV_imgA1A2_1.shape[1]): \n",
        "                if 1770<i<1880 and 1700<j<1830 :\n",
        "                    S3A1_3.append(S3HSV_imgA1A2_1[i][j])\n",
        "                if 1770<i<1880 and 2015<j<2145 :\n",
        "                    S3A2_1.append(S3HSV_imgA1A2_1[i][j])   "
      ],
      "execution_count": null,
      "outputs": []
    },
    {
      "cell_type": "code",
      "metadata": {
        "id": "QFNdkW2MABAt"
      },
      "source": [
        "S3A1_4= list()\n",
        "S3A3_1 = list()\n",
        "for i in range(S3HSV_imgA1A3_1.shape[0]): \n",
        "     for j in range(S3HSV_imgA1A3_1.shape[1]): \n",
        "                if 1770<i<1880 and 1700<j<1830 :\n",
        "                    S3A1_4.append(S3HSV_imgA1A3_1[i][j])\n",
        "                if 1770<i<1880 and 2015<j<2145 :\n",
        "                    S3A3_1.append(S3HSV_imgA1A3_1[i][j])   "
      ],
      "execution_count": null,
      "outputs": []
    },
    {
      "cell_type": "code",
      "metadata": {
        "id": "oQDmKlIVABAt"
      },
      "source": [
        "S3A1_5= list()\n",
        "S3A3_51 = list()\n",
        "for i in range(S3HSV_imgA1A3_51.shape[0]): \n",
        "     for j in range(S3HSV_imgA1A3_51.shape[1]): \n",
        "                if 1770<i<1880 and 1700<j<1830 :\n",
        "                    S3A1_5.append(S3HSV_imgA1A3_51[i][j])\n",
        "                if 1770<i<1880 and 2015<j<2145 :\n",
        "                    S3A3_51.append(S3HSV_imgA1A3_51[i][j])"
      ],
      "execution_count": null,
      "outputs": []
    },
    {
      "cell_type": "code",
      "metadata": {
        "id": "SDQMWSr0ABAt"
      },
      "source": [
        "S3A1_6= list()\n",
        "S3A4_1 = list()\n",
        "for i in range(S3HSV_imgA1A4_1.shape[0]): \n",
        "     for j in range(S3HSV_imgA1A4_1.shape[1]): \n",
        "                if 1770<i<1880 and 1700<j<1830 :\n",
        "                    S3A1_6.append(S3HSV_imgA1A4_1[i][j])\n",
        "                if 1770<i<1880 and 2015<j<2145 :\n",
        "                    S3A4_1.append(S3HSV_imgA1A4_1[i][j])"
      ],
      "execution_count": null,
      "outputs": []
    },
    {
      "cell_type": "code",
      "metadata": {
        "id": "1Z-5IwsOABAu"
      },
      "source": [
        "S3A1_7= list()\n",
        "S3B1_1 = list()\n",
        "for i in range(S3HSV_imgA1B1_1.shape[0]): \n",
        "     for j in range(S3HSV_imgA1B1_1.shape[1]): \n",
        "                if 1770<i<1880 and 1700<j<1830 :\n",
        "                    S3A1_7.append(S3HSV_imgA1B1_1[i][j])\n",
        "                if 1770<i<1880 and 2015<j<2145 :\n",
        "                    S3B1_1.append(S3HSV_imgA1B1_1[i][j])"
      ],
      "execution_count": null,
      "outputs": []
    },
    {
      "cell_type": "code",
      "metadata": {
        "id": "I2ZX8vzmABAu"
      },
      "source": [
        "S3A1_8= list()\n",
        "S3B2_1 = list()\n",
        "for i in range(S3HSV_imgA1B2_1.shape[0]): \n",
        "     for j in range(S3HSV_imgA1B2_1.shape[1]): \n",
        "                if 1770<i<1880 and 1700<j<1830 :\n",
        "                    S3A1_8.append(S3HSV_imgA1B2_1[i][j])\n",
        "                if 1770<i<1880 and 2015<j<2145 :\n",
        "                    S3B2_1.append(S3HSV_imgA1B2_1[i][j])"
      ],
      "execution_count": null,
      "outputs": []
    },
    {
      "cell_type": "code",
      "metadata": {
        "id": "bjkhIe6jABAv"
      },
      "source": [
        "S3A1_9= list()\n",
        "S3B3_1 = list()\n",
        "for i in range(S3HSV_imgA1B3_1.shape[0]): \n",
        "     for j in range(S3HSV_imgA1B3_1.shape[1]): \n",
        "                if 1770<i<1880 and 1700<j<1830 :\n",
        "                    S3A1_9.append(S3HSV_imgA1B3_1[i][j])\n",
        "                if 1770<i<1880 and 2015<j<2145 :\n",
        "                    S3B3_1.append(S3HSV_imgA1B3_1[i][j])"
      ],
      "execution_count": null,
      "outputs": []
    },
    {
      "cell_type": "code",
      "metadata": {
        "id": "7b0qdZF3ABAv"
      },
      "source": [
        "S3A1_10= list()\n",
        "S3B4_1 = list()\n",
        "for i in range(S3HSV_imgA1B4_1.shape[0]): \n",
        "     for j in range(S3HSV_imgA1B4_1.shape[1]): \n",
        "                if 1770<i<1880 and 1700<j<1830 :\n",
        "                    S3A1_10.append(S3HSV_imgA1B4_1[i][j])\n",
        "                if 1770<i<1880 and 2015<j<2145 :\n",
        "                    S3B4_1.append(S3HSV_imgA1B4_1[i][j])"
      ],
      "execution_count": null,
      "outputs": []
    },
    {
      "cell_type": "code",
      "metadata": {
        "id": "SXtXUwViABAv"
      },
      "source": [
        "S3A1_11= list()\n",
        "S3C1_2 = list()\n",
        "for i in range(S3HSV_imgA1C1_1.shape[0]): \n",
        "     for j in range(S3HSV_imgA1C1_1.shape[1]): \n",
        "                if 1770<i<1880 and 1700<j<1830 :\n",
        "                    S3A1_11.append(S3HSV_imgA1C1_1[i][j])\n",
        "                if 1770<i<1880 and 2015<j<2145 :\n",
        "                    S3C1_2.append(S3HSV_imgA1C1_1[i][j])   "
      ],
      "execution_count": null,
      "outputs": []
    },
    {
      "cell_type": "code",
      "metadata": {
        "id": "UwwJ83K-ABAw"
      },
      "source": [
        "S3A1_12= list()\n",
        "S3C2_1 = list()\n",
        "for i in range(S3HSV_imgA1C2_1.shape[0]): \n",
        "     for j in range(S3HSV_imgA1C2_1.shape[1]): \n",
        "                if 1770<i<1880 and 1700<j<1830 :\n",
        "                    S3A1_12.append(S3HSV_imgA1C2_1[i][j])\n",
        "                if 1770<i<1880 and 2015<j<2145 :\n",
        "                    S3C2_1.append(S3HSV_imgA1C2_1[i][j])   "
      ],
      "execution_count": null,
      "outputs": []
    },
    {
      "cell_type": "code",
      "metadata": {
        "id": "oTAqjGKGABAw"
      },
      "source": [
        "S3A1_13= list()\n",
        "S3C3_1 = list()\n",
        "for i in range(S3HSV_imgA1C3_1.shape[0]): \n",
        "     for j in range(S3HSV_imgA1C3_1.shape[1]): \n",
        "                if 1770<i<1880 and 1700<j<1830 :\n",
        "                    S3A1_13.append(S3HSV_imgA1C3_1[i][j])\n",
        "                if 1770<i<1880 and 2015<j<2145 :\n",
        "                    S3C3_1.append(S3HSV_imgA1C3_1[i][j])   "
      ],
      "execution_count": null,
      "outputs": []
    },
    {
      "cell_type": "code",
      "metadata": {
        "id": "IK_xgjpqABAw"
      },
      "source": [
        "S3A1_14= list()\n",
        "S3C4_1 = list()\n",
        "for i in range(S3HSV_imgA1C4_1.shape[0]): \n",
        "     for j in range(S3HSV_imgA1C4_1.shape[1]): \n",
        "                if 1770<i<1880 and 1700<j<1830 :\n",
        "                    S3A1_14.append(S3HSV_imgA1C4_1[i][j])\n",
        "                if 1770<i<1880 and 2015<j<2145 :\n",
        "                    S3C4_1.append(S3HSV_imgA1C4_1[i][j])"
      ],
      "execution_count": null,
      "outputs": []
    },
    {
      "cell_type": "code",
      "metadata": {
        "id": "o771e07gABAx"
      },
      "source": [
        "S3A1_15= list()\n",
        "S3D2_1 = list()\n",
        "for i in range(S3HSV_imgA1D2_1.shape[0]): \n",
        "     for j in range(S3HSV_imgA1D2_1.shape[1]): \n",
        "                if 1770<i<1880 and 1700<j<1830 :\n",
        "                    S3A1_15.append(S3HSV_imgA1D2_1[i][j])\n",
        "                if 1770<i<1880 and 2015<j<2145 :\n",
        "                    S3D2_1.append(S3HSV_imgA1D2_1[i][j])   "
      ],
      "execution_count": null,
      "outputs": []
    },
    {
      "cell_type": "code",
      "metadata": {
        "id": "4OHLTXRhABAx"
      },
      "source": [
        "S3A1_16= list()\n",
        "S3D3_1 = list()\n",
        "for i in range(S3HSV_imgA1D3_1.shape[0]): \n",
        "     for j in range(S3HSV_imgA1D3_1.shape[1]): \n",
        "                if 1770<i<1880 and 1700<j<1830 :\n",
        "                    S3A1_16.append(S3HSV_imgA1D3_1[i][j])\n",
        "                if 1770<i<1880 and 2015<j<2145 :\n",
        "                    S3D3_1.append(S3HSV_imgA1D3_1[i][j])   "
      ],
      "execution_count": null,
      "outputs": []
    },
    {
      "cell_type": "code",
      "metadata": {
        "id": "LqJ__MlDABAx"
      },
      "source": [
        "S3A1_17= list()\n",
        "S3D4_1 = list()\n",
        "for i in range(S3HSV_imgA1D4_1.shape[0]): \n",
        "     for j in range(S3HSV_imgA1D4_1.shape[1]): \n",
        "                if 1770<i<1880 and 1700<j<1830 :\n",
        "                    S3A1_17.append(S3HSV_imgA1D4_1[i][j])\n",
        "                if 1770<i<1880 and 2015<j<2145 :\n",
        "                    S3D4_1.append(S3HSV_imgA1D4_1[i][j])"
      ],
      "execution_count": null,
      "outputs": []
    },
    {
      "cell_type": "markdown",
      "metadata": {
        "id": "sjUneh4RHb0T"
      },
      "source": [
        "\n",
        "##Set4"
      ]
    },
    {
      "cell_type": "markdown",
      "metadata": {
        "id": "QqYczmnFIqgb"
      },
      "source": [
        "###RGB"
      ]
    },
    {
      "cell_type": "code",
      "metadata": {
        "id": "Q2cfVpmuHf4m"
      },
      "source": [
        "S4A1_1= list()\n",
        "S4A1_2 = list()\n",
        "for i in range(S4RGB_imgA1A1_1.shape[0]): \n",
        "     for j in range(S4RGB_imgA1A1_1.shape[1]): \n",
        "                if 1770<i<1880 and 1700<j<1830 :\n",
        "                    S4A1_1.append(S4RGB_imgA1A1_1[i][j])\n",
        "                if 1770<i<1880 and 2015<j<2145 :\n",
        "                    S4A1_2.append(S4RGB_imgA1A1_1[i][j])   "
      ],
      "execution_count": null,
      "outputs": []
    },
    {
      "cell_type": "code",
      "metadata": {
        "id": "Xz63JWZhHf4m"
      },
      "source": [
        "S4A1_3= list()\n",
        "S4A2_1 = list()\n",
        "for i in range(S4RGB_imgA1A2_1.shape[0]): \n",
        "     for j in range(S4RGB_imgA1A2_1.shape[1]): \n",
        "                if 1770<i<1880 and 1700<j<1830 :\n",
        "                    S4A1_3.append(S4RGB_imgA1A2_1[i][j])\n",
        "                if 1770<i<1880 and 2015<j<2145 :\n",
        "                    S4A2_1.append(S4RGB_imgA1A2_1[i][j])   "
      ],
      "execution_count": null,
      "outputs": []
    },
    {
      "cell_type": "code",
      "metadata": {
        "id": "m0x_EYErHf4m"
      },
      "source": [
        "S4A1_4= list()\n",
        "S4A3_1 = list()\n",
        "for i in range(S4RGB_imgA1A3_1.shape[0]): \n",
        "     for j in range(S4RGB_imgA1A3_1.shape[1]): \n",
        "                if 1770<i<1880 and 1700<j<1830 :\n",
        "                    S4A1_4.append(S4RGB_imgA1A3_1[i][j])\n",
        "                if 1770<i<1880 and 2015<j<2145 :\n",
        "                    S4A3_1.append(S4RGB_imgA1A3_1[i][j])   "
      ],
      "execution_count": null,
      "outputs": []
    },
    {
      "cell_type": "code",
      "metadata": {
        "id": "2fkBODCxHf4n"
      },
      "source": [
        "S4A1_5= list()\n",
        "S4A3_51 = list()\n",
        "for i in range(S4RGB_imgA1A3_51.shape[0]): \n",
        "     for j in range(S4RGB_imgA1A3_51.shape[1]): \n",
        "                if 1770<i<1880 and 1700<j<1830 :\n",
        "                    S4A1_5.append(S4RGB_imgA1A3_51[i][j])\n",
        "                if 1770<i<1880 and 2015<j<2145 :\n",
        "                    S4A3_51.append(S4RGB_imgA1A3_51[i][j])"
      ],
      "execution_count": null,
      "outputs": []
    },
    {
      "cell_type": "code",
      "metadata": {
        "id": "2mpRtq-_Hf4n"
      },
      "source": [
        "S4A1_6= list()\n",
        "S4A4_1 = list()\n",
        "for i in range(S4RGB_imgA1A4_1.shape[0]): \n",
        "     for j in range(S4RGB_imgA1A4_1.shape[1]): \n",
        "                if 1770<i<1880 and 1700<j<1830 :\n",
        "                    S4A1_6.append(S4RGB_imgA1A4_1[i][j])\n",
        "                if 1770<i<1880 and 2015<j<2145 :\n",
        "                    S4A4_1.append(S4RGB_imgA1A4_1[i][j])"
      ],
      "execution_count": null,
      "outputs": []
    },
    {
      "cell_type": "code",
      "metadata": {
        "id": "RA15r3vmHf4n"
      },
      "source": [
        "S4A1_7= list()\n",
        "S4B1_1 = list()\n",
        "for i in range(S4RGB_imgA1B1_1.shape[0]): \n",
        "     for j in range(S4RGB_imgA1B1_1.shape[1]): \n",
        "                if 1770<i<1880 and 1700<j<1830 :\n",
        "                    S4A1_7.append(S4RGB_imgA1B1_1[i][j])\n",
        "                if 1770<i<1880 and 2015<j<2145 :\n",
        "                    S4B1_1.append(S4RGB_imgA1B1_1[i][j])"
      ],
      "execution_count": null,
      "outputs": []
    },
    {
      "cell_type": "code",
      "metadata": {
        "id": "iXmvLR4YHf4n"
      },
      "source": [
        "S4A1_8= list()\n",
        "S4B2_1 = list()\n",
        "for i in range(S4RGB_imgA1B2_1.shape[0]): \n",
        "     for j in range(S4RGB_imgA1B2_1.shape[1]): \n",
        "                if 1770<i<1880 and 1700<j<1830 :\n",
        "                    S4A1_8.append(S4RGB_imgA1B2_1[i][j])\n",
        "                if 1770<i<1880 and 2015<j<2145 :\n",
        "                    S4B2_1.append(S4RGB_imgA1B2_1[i][j])"
      ],
      "execution_count": null,
      "outputs": []
    },
    {
      "cell_type": "code",
      "metadata": {
        "id": "Z3J6vrv5Hf4n"
      },
      "source": [
        "S4A1_9= list()\n",
        "S4B3_1 = list()\n",
        "for i in range(S4RGB_imgA1B3_1.shape[0]): \n",
        "     for j in range(S4RGB_imgA1B3_1.shape[1]): \n",
        "                if 1770<i<1880 and 1700<j<1830 :\n",
        "                    S4A1_9.append(S4RGB_imgA1B3_1[i][j])\n",
        "                if 1770<i<1880 and 2015<j<2145 :\n",
        "                    S4B3_1.append(S4RGB_imgA1B3_1[i][j])"
      ],
      "execution_count": null,
      "outputs": []
    },
    {
      "cell_type": "code",
      "metadata": {
        "id": "mSdkq8vhHf4n"
      },
      "source": [
        "S4A1_10= list()\n",
        "S4B4_1 = list()\n",
        "for i in range(S4RGB_imgA1B4_1.shape[0]): \n",
        "     for j in range(S4RGB_imgA1B4_1.shape[1]): \n",
        "                if 1770<i<1880 and 1700<j<1830 :\n",
        "                    S4A1_10.append(S4RGB_imgA1B4_1[i][j])\n",
        "                if 1770<i<1880 and 2015<j<2145 :\n",
        "                    S4B4_1.append(S4RGB_imgA1B4_1[i][j])"
      ],
      "execution_count": null,
      "outputs": []
    },
    {
      "cell_type": "code",
      "metadata": {
        "id": "-SK3SZSKHf4n"
      },
      "source": [
        "S4A1_11= list()\n",
        "S4C1_1 = list()\n",
        "for i in range(S4RGB_imgA1C1_1.shape[0]): \n",
        "     for j in range(S4RGB_imgA1C1_1.shape[1]): \n",
        "                if 1770<i<1880 and 1700<j<1830 :\n",
        "                    S4A1_11.append(S4RGB_imgA1C1_1[i][j])\n",
        "                if 1770<i<1880 and 2015<j<2145 :\n",
        "                    S4C1_1.append(S4RGB_imgA1C1_1[i][j])   "
      ],
      "execution_count": null,
      "outputs": []
    },
    {
      "cell_type": "code",
      "metadata": {
        "id": "DwlieHawHf4n"
      },
      "source": [
        "S4A1_12= list()\n",
        "S4C2_1 = list()\n",
        "for i in range(S4RGB_imgA1C2_1.shape[0]): \n",
        "     for j in range(S4RGB_imgA1C2_1.shape[1]): \n",
        "                if 1770<i<1880 and 1700<j<1830 :\n",
        "                    S4A1_12.append(S4RGB_imgA1C2_1[i][j])\n",
        "                if 1770<i<1880 and 2015<j<2145 :\n",
        "                    S4C2_1.append(S4RGB_imgA1C2_1[i][j])   "
      ],
      "execution_count": null,
      "outputs": []
    },
    {
      "cell_type": "code",
      "metadata": {
        "id": "U02tWxMMHf4o"
      },
      "source": [
        "S4A1_13= list()\n",
        "S4C3_1 = list()\n",
        "for i in range(S4RGB_imgA1C3_1.shape[0]): \n",
        "     for j in range(S4RGB_imgA1C3_1.shape[1]): \n",
        "                if 1770<i<1880 and 1700<j<1830 :\n",
        "                    S4A1_13.append(S4RGB_imgA1C3_1[i][j])\n",
        "                if 1770<i<1880 and 2015<j<2145 :\n",
        "                    S4C3_1.append(S4RGB_imgA1C3_1[i][j])   "
      ],
      "execution_count": null,
      "outputs": []
    },
    {
      "cell_type": "code",
      "metadata": {
        "id": "pfOn-jLeHf4o"
      },
      "source": [
        "S4A1_14= list()\n",
        "S4C4_1 = list()\n",
        "for i in range(S4RGB_imgA1C4_1.shape[0]): \n",
        "     for j in range(S4RGB_imgA1C4_1.shape[1]): \n",
        "                if 1770<i<1880 and 1700<j<1830 :\n",
        "                    S4A1_14.append(S4RGB_imgA1C4_1[i][j])\n",
        "                if 1770<i<1880 and 2015<j<2145 :\n",
        "                    S4C4_1.append(S4RGB_imgA1C4_1[i][j])"
      ],
      "execution_count": null,
      "outputs": []
    },
    {
      "cell_type": "code",
      "metadata": {
        "id": "AbnmV2_kHf4o"
      },
      "source": [
        "S4A1_15= list()\n",
        "S4D2_1 = list()\n",
        "for i in range(S4RGB_imgA1C2_1.shape[0]): \n",
        "     for j in range(S4RGB_imgA1D2_1.shape[1]): \n",
        "                if 1770<i<1880 and 1700<j<1830 :\n",
        "                    S4A1_15.append(S4RGB_imgA1D2_1[i][j])\n",
        "                if 1770<i<1880 and 2015<j<2145 :\n",
        "                    S4D2_1.append(S4RGB_imgA1D2_1[i][j])   "
      ],
      "execution_count": null,
      "outputs": []
    },
    {
      "cell_type": "code",
      "metadata": {
        "id": "iDlwebCJHf4o"
      },
      "source": [
        "S4A1_16= list()\n",
        "S4D3_1 = list()\n",
        "for i in range(S4RGB_imgA1D3_1.shape[0]): \n",
        "     for j in range(S4RGB_imgA1D3_1.shape[1]): \n",
        "                if 1770<i<1880 and 1700<j<1830 :\n",
        "                    S4A1_16.append(S4RGB_imgA1D3_1[i][j])\n",
        "                if 1770<i<1880 and 2015<j<2145 :\n",
        "                    S4D3_1.append(S4RGB_imgA1D3_1[i][j])   "
      ],
      "execution_count": null,
      "outputs": []
    },
    {
      "cell_type": "code",
      "metadata": {
        "id": "_tnuzvwuHf4o"
      },
      "source": [
        "S4A1_17= list()\n",
        "S4D4_1 = list()\n",
        "for i in range(S4RGB_imgA1D4_1.shape[0]): \n",
        "     for j in range(S4RGB_imgA1D4_1.shape[1]): \n",
        "                if 1770<i<1880 and 1700<j<1830 :\n",
        "                    S4A1_17.append(S4RGB_imgA1D4_1[i][j])\n",
        "                if 1770<i<1880 and 2015<j<2145 :\n",
        "                    S4D4_1.append(S4RGB_imgA1D4_1[i][j])"
      ],
      "execution_count": null,
      "outputs": []
    },
    {
      "cell_type": "markdown",
      "metadata": {
        "id": "q0jR50JbIuL6"
      },
      "source": [
        "###HSV"
      ]
    },
    {
      "cell_type": "code",
      "metadata": {
        "id": "4uy8q9MWI1u_"
      },
      "source": [
        "S4A1_1= list()\n",
        "S4A1_2 = list()\n",
        "for i in range(S4HSV_imgA1A1_1.shape[0]): \n",
        "     for j in range(S4HSV_imgA1A1_1.shape[1]): \n",
        "                if 1770<i<1880 and 1700<j<1830 :\n",
        "                    S4A1_1.append(S4HSV_imgA1A1_1[i][j])\n",
        "                if 1770<i<1880 and 2015<j<2145 :\n",
        "                    S4A1_2.append(S4HSV_imgA1A1_1[i][j])   "
      ],
      "execution_count": null,
      "outputs": []
    },
    {
      "cell_type": "code",
      "metadata": {
        "id": "MPWIFjZ6I1u_"
      },
      "source": [
        "S4A1_3= list()\n",
        "S4A2_1 = list()\n",
        "for i in range(S4HSV_imgA1A2_1.shape[0]): \n",
        "     for j in range(S4HSV_imgA1A2_1.shape[1]): \n",
        "                if 1770<i<1880 and 1700<j<1830 :\n",
        "                    S4A1_3.append(S4HSV_imgA1A2_1[i][j])\n",
        "                if 1770<i<1880 and 2015<j<2145 :\n",
        "                    S4A2_1.append(S4HSV_imgA1A2_1[i][j])   "
      ],
      "execution_count": null,
      "outputs": []
    },
    {
      "cell_type": "code",
      "metadata": {
        "id": "FcUqJt2MI1u_"
      },
      "source": [
        "S4A1_4= list()\n",
        "S4A3_1 = list()\n",
        "for i in range(S4HSV_imgA1A3_1.shape[0]): \n",
        "     for j in range(S4HSV_imgA1A3_1.shape[1]): \n",
        "                if 1770<i<1880 and 1700<j<1830 :\n",
        "                    S4A1_4.append(S4HSV_imgA1A3_1[i][j])\n",
        "                if 1770<i<1880 and 2015<j<2145 :\n",
        "                    S4A3_1.append(S4HSV_imgA1A3_1[i][j])   "
      ],
      "execution_count": null,
      "outputs": []
    },
    {
      "cell_type": "code",
      "metadata": {
        "id": "zT0Qr1JPI1u_"
      },
      "source": [
        "S4A1_5= list()\n",
        "S4A3_51 = list()\n",
        "for i in range(S4RGB_imgA1A3_51.shape[0]): \n",
        "     for j in range(S4RGB_imgA1A3_51.shape[1]): \n",
        "                if 1770<i<1880 and 1700<j<1830 :\n",
        "                    S4A1_5.append(S4RGB_imgA1A3_51[i][j])\n",
        "                if 1770<i<1880 and 2015<j<2145 :\n",
        "                    S4A3_51.append(S4RGB_imgA1A3_51[i][j])"
      ],
      "execution_count": null,
      "outputs": []
    },
    {
      "cell_type": "code",
      "metadata": {
        "id": "J3vDN6EwI1vA"
      },
      "source": [
        "S4A1_6= list()\n",
        "S4A4_1 = list()\n",
        "for i in range(S4HSV_imgA1A4_1.shape[0]): \n",
        "     for j in range(S4HSV_imgA1A4_1.shape[1]): \n",
        "                if 1770<i<1880 and 1700<j<1830 :\n",
        "                    S4A1_6.append(S4HSV_imgA1A4_1[i][j])\n",
        "                if 1770<i<1880 and 2015<j<2145 :\n",
        "                    S4A4_1.append(S4HSV_imgA1A4_1[i][j])"
      ],
      "execution_count": null,
      "outputs": []
    },
    {
      "cell_type": "code",
      "metadata": {
        "id": "R4slu2aII1vA"
      },
      "source": [
        "S4A1_7= list()\n",
        "S4B1_1 = list()\n",
        "for i in range(S4HSV_imgA1B1_1.shape[0]): \n",
        "     for j in range(S4HSV_imgA1B1_1.shape[1]): \n",
        "                if 1770<i<1880 and 1700<j<1830 :\n",
        "                    S4A1_7.append(S4HSV_imgA1B1_1[i][j])\n",
        "                if 1770<i<1880 and 2015<j<2145 :\n",
        "                    S4B1_1.append(S4HSV_imgA1B1_1[i][j])"
      ],
      "execution_count": null,
      "outputs": []
    },
    {
      "cell_type": "code",
      "metadata": {
        "id": "pQsS08lUI1vA"
      },
      "source": [
        "S4A1_8= list()\n",
        "S4B2_1 = list()\n",
        "for i in range(S4HSV_imgA1B2_1.shape[0]): \n",
        "     for j in range(S4HSV_imgA1B2_1.shape[1]): \n",
        "                if 1770<i<1880 and 1700<j<1830 :\n",
        "                    S4A1_8.append(S4HSV_imgA1B2_1[i][j])\n",
        "                if 1770<i<1880 and 2015<j<2145 :\n",
        "                    S4B2_1.append(S4HSV_imgA1B2_1[i][j])"
      ],
      "execution_count": null,
      "outputs": []
    },
    {
      "cell_type": "code",
      "metadata": {
        "id": "D-m24sUJI1vA"
      },
      "source": [
        "S4A1_9= list()\n",
        "S4B3_1 = list()\n",
        "for i in range(S4HSV_imgA1B3_1.shape[0]): \n",
        "     for j in range(S4HSV_imgA1B3_1.shape[1]): \n",
        "                if 1770<i<1880 and 1700<j<1830 :\n",
        "                    S4A1_9.append(S4HSV_imgA1B3_1[i][j])\n",
        "                if 1770<i<1880 and 2015<j<2145 :\n",
        "                    S4B3_1.append(S4HSV_imgA1B3_1[i][j])"
      ],
      "execution_count": null,
      "outputs": []
    },
    {
      "cell_type": "code",
      "metadata": {
        "id": "lec05Gg-I1vB"
      },
      "source": [
        "S4A1_10= list()\n",
        "S4B4_1 = list()\n",
        "for i in range(S4HSV_imgA1B4_1.shape[0]): \n",
        "     for j in range(S4HSV_imgA1B4_1.shape[1]): \n",
        "                if 1770<i<1880 and 1700<j<1830 :\n",
        "                    S4A1_10.append(S4HSV_imgA1B4_1[i][j])\n",
        "                if 1770<i<1880 and 2015<j<2145 :\n",
        "                    S4B4_1.append(S4HSV_imgA1B4_1[i][j])"
      ],
      "execution_count": null,
      "outputs": []
    },
    {
      "cell_type": "code",
      "metadata": {
        "id": "KupTB_eLI1vB"
      },
      "source": [
        "S4A1_11= list()\n",
        "S4C1_1 = list()\n",
        "for i in range(S4HSV_imgA1C1_1.shape[0]): \n",
        "     for j in range(S4HSV_imgA1C1_1.shape[1]): \n",
        "                if 1770<i<1880 and 1700<j<1830 :\n",
        "                    S4A1_11.append(S4HSV_imgA1C1_1[i][j])\n",
        "                if 1770<i<1880 and 2015<j<2145 :\n",
        "                    S4C1_1.append(S4HSV_imgA1C1_1[i][j])   "
      ],
      "execution_count": null,
      "outputs": []
    },
    {
      "cell_type": "code",
      "metadata": {
        "id": "7OjCZ14YI1vB"
      },
      "source": [
        "S4A1_12= list()\n",
        "S4C2_1 = list()\n",
        "for i in range(S4HSV_imgA1C2_1.shape[0]): \n",
        "     for j in range(S4HSV_imgA1C2_1.shape[1]): \n",
        "                if 1770<i<1880 and 1700<j<1830 :\n",
        "                    S4A1_12.append(S4HSV_imgA1C2_1[i][j])\n",
        "                if 1770<i<1880 and 2015<j<2145 :\n",
        "                    S4C2_1.append(S4HSV_imgA1C2_1[i][j])   "
      ],
      "execution_count": null,
      "outputs": []
    },
    {
      "cell_type": "code",
      "metadata": {
        "id": "D_n3ALo6I1vB"
      },
      "source": [
        "S4A1_13= list()\n",
        "S4C3_1 = list()\n",
        "for i in range(S4HSV_imgA1C3_1.shape[0]): \n",
        "     for j in range(S4HSV_imgA1C3_1.shape[1]): \n",
        "                if 1770<i<1880 and 1700<j<1830 :\n",
        "                    S4A1_13.append(S4HSV_imgA1C3_1[i][j])\n",
        "                if 1770<i<1880 and 2015<j<2145 :\n",
        "                    S4C3_1.append(S4HSV_imgA1C3_1[i][j])   "
      ],
      "execution_count": null,
      "outputs": []
    },
    {
      "cell_type": "code",
      "metadata": {
        "id": "TD6tGC45I1vB"
      },
      "source": [
        "S4A1_14= list()\n",
        "S4C4_1 = list()\n",
        "for i in range(S4HSV_imgA1C4_1.shape[0]): \n",
        "     for j in range(S4HSV_imgA1C4_1.shape[1]): \n",
        "                if 1770<i<1880 and 1700<j<1830 :\n",
        "                    S4A1_14.append(S4HSV_imgA1C4_1[i][j])\n",
        "                if 1770<i<1880 and 2015<j<2145 :\n",
        "                    S4C4_1.append(S4HSV_imgA1C4_1[i][j])"
      ],
      "execution_count": null,
      "outputs": []
    },
    {
      "cell_type": "code",
      "metadata": {
        "id": "URasAEKiI1vC"
      },
      "source": [
        "S4A1_15= list()\n",
        "S4D2_1 = list()\n",
        "for i in range(S4HSV_imgA1C2_1.shape[0]): \n",
        "     for j in range(S4HSV_imgA1D2_1.shape[1]): \n",
        "                if 1770<i<1880 and 1700<j<1830 :\n",
        "                    S4A1_15.append(S4HSV_imgA1D2_1[i][j])\n",
        "                if 1770<i<1880 and 2015<j<2145 :\n",
        "                    S4D2_1.append(S4HSV_imgA1D2_1[i][j])   "
      ],
      "execution_count": null,
      "outputs": []
    },
    {
      "cell_type": "code",
      "metadata": {
        "id": "WXJUI3CWI1vC"
      },
      "source": [
        "S4A1_16= list()\n",
        "S4D3_1 = list()\n",
        "for i in range(S4HSV_imgA1D3_1.shape[0]): \n",
        "     for j in range(S4HSV_imgA1D3_1.shape[1]): \n",
        "                if 1770<i<1880 and 1700<j<1830 :\n",
        "                    S4A1_16.append(S4HSV_imgA1D3_1[i][j])\n",
        "                if 1770<i<1880 and 2015<j<2145 :\n",
        "                    S4D3_1.append(S4HSV_imgA1D3_1[i][j])   "
      ],
      "execution_count": null,
      "outputs": []
    },
    {
      "cell_type": "code",
      "metadata": {
        "id": "EurAKruyI1vC"
      },
      "source": [
        "S4A1_17= list()\n",
        "S4D4_1 = list()\n",
        "for i in range(S4HSV_imgA1D4_1.shape[0]): \n",
        "     for j in range(S4HSV_imgA1D4_1.shape[1]): \n",
        "                if 1770<i<1880 and 1700<j<1830 :\n",
        "                    S4A1_17.append(S4HSV_imgA1D4_1[i][j])\n",
        "                if 1770<i<1880 and 2015<j<2145 :\n",
        "                    S4D4_1.append(S4HSV_imgA1D4_1[i][j])"
      ],
      "execution_count": null,
      "outputs": []
    },
    {
      "cell_type": "markdown",
      "metadata": {
        "id": "7KPqBEcdIXnZ"
      },
      "source": [
        "#6. หาค่า Mean"
      ]
    },
    {
      "cell_type": "code",
      "metadata": {
        "id": "tePep_ujIfg2"
      },
      "source": [
        "import numpy as np"
      ],
      "execution_count": 176,
      "outputs": []
    },
    {
      "cell_type": "markdown",
      "metadata": {
        "id": "CkCYreCNIxic"
      },
      "source": [
        "##Set1"
      ]
    },
    {
      "cell_type": "markdown",
      "metadata": {
        "id": "98w4NYwsuHUG"
      },
      "source": [
        "###RGB"
      ]
    },
    {
      "cell_type": "code",
      "metadata": {
        "id": "VLEHrLHLItVX",
        "colab": {
          "base_uri": "https://localhost:8080/"
        },
        "outputId": "34ec55a3-1400-4eb8-e99f-fa33437b662f"
      },
      "source": [
        "S1meanrefA1_1 = list()\n",
        "S1meanA1_2 = list()\n",
        "for i in range(S1RGB_imgA1A1_1.shape[0]): #ให้ i รันตาม row หรือ shape[0] คือแถว มีทั้งหมด 4032 แถว ของภาพที่ปรับขนาดมาแล้ว\n",
        "     for j in range(S1RGB_imgA1A1_1.shape[1]): #ให้ j รันตาม colum มีทั้งหมด 3024 colum เช่น แถวที่ 1 เข้ามาให้รันครบ 3024colum\n",
        "                if 1769<i<1881 and 2019<j<2131 :\n",
        "                  S1meanrefA1_1.append(S1RGB_imgA1A1_1[i][j])\n",
        "                if 1770<i<1880 and 2015<j<2145 :\n",
        "                  S1meanA1_2.append(S1RGB_imgA1A1_1[i][j])  \n",
        "S1meanrefA1_1 = np.array(S1meanrefA1_1)\n",
        "S1meanA1_2 = np.array(S1meanA1_2)\n",
        "\n",
        "S1rgbrefA1_1 = list()\n",
        "S1rgbA1_2 = list()\n",
        "for i in range(3):\n",
        "    S1rgbrefA1_1.append(S1meanrefA1_1[:,i].mean())\n",
        "    S1rgbA1_2.append(S1meanA1_2[:,i].mean())\n",
        "S1rgbrefA1_1,S1rgbA1_2 "
      ],
      "execution_count": 177,
      "outputs": [
        {
          "output_type": "execute_result",
          "data": {
            "text/plain": [
              "([230.46173200227256, 219.83710737764792, 195.25566106647187],\n",
              " [230.93257947514402, 220.67840125168908, 196.89147286821705])"
            ]
          },
          "metadata": {},
          "execution_count": 177
        }
      ]
    },
    {
      "cell_type": "code",
      "metadata": {
        "id": "TPULWoc0JT9L"
      },
      "source": [
        "S1meanrefA1_3 = list()\n",
        "S1meanA2_1 = list()\n",
        "for i in range(S1RGB_imgA1A2_1.shape[0]): \n",
        "     for j in range(S1RGB_imgA1A2_1.shape[1]): \n",
        "                if 1769<i<1881 and 2019<j<2131 :\n",
        "                  S1meanrefA1_3.append(S1RGB_imgA1A2_1[i][j])\n",
        "                if 1770<i<1880 and 2015<j<2145 :\n",
        "                  S1meanA2_1.append(S1RGB_imgA1A2_1[i][j])  \n",
        "S1meanrefA1_3 = np.array(S1meanrefA1_3)\n",
        "S1meanA2_1 = np.array(S1meanA2_1)\n",
        "\n",
        "S1rgbrefA1_3 = list()\n",
        "S1rgbA2_1 = list()\n",
        "for i in range(3):\n",
        "    S1rgbrefA1_3.append(S1meanrefA1_3[:,i].mean())\n",
        "    S1rgbA2_1.append(S1meanA2_1[:,i].mean())"
      ],
      "execution_count": 178,
      "outputs": []
    },
    {
      "cell_type": "code",
      "metadata": {
        "id": "jYWdd4U6Kl7f"
      },
      "source": [
        "S1meanrefA1_4 = list()\n",
        "S1meanA3_1 = list()\n",
        "for i in range(S1RGB_imgA1A3_1.shape[0]): \n",
        "     for j in range(S1RGB_imgA1A3_1.shape[1]): \n",
        "                if 1769<i<1881 and 2019<j<2131 :\n",
        "                  S1meanrefA1_4.append(S1RGB_imgA1A3_1[i][j])\n",
        "                if 1770<i<1880 and 2015<j<2145 :\n",
        "                  S1meanA3_1.append(S1RGB_imgA1A3_1[i][j])  \n",
        "S1meanrefA1_4 = np.array(S1meanrefA1_4)\n",
        "S1meanA3_1 = np.array(S1meanA3_1)\n",
        "\n",
        "S1rgbrefA1_4 = list()\n",
        "S1rgbA3_1 = list()\n",
        "for i in range(3):\n",
        "    S1rgbrefA1_4.append(S1meanrefA1_4[:,i].mean())\n",
        "    S1rgbA3_1.append(S1meanA3_1[:,i].mean())"
      ],
      "execution_count": 179,
      "outputs": []
    },
    {
      "cell_type": "code",
      "metadata": {
        "id": "OU2xD0SEK14J"
      },
      "source": [
        "S1meanrefA1_5 = list()\n",
        "S1meanA3_51 = list()\n",
        "for i in range(S1RGB_imgA1A3_51.shape[0]): \n",
        "     for j in range(S1RGB_imgA1A3_51.shape[1]): \n",
        "                if 1769<i<1881 and 2019<j<2131 :\n",
        "                  S1meanrefA1_5.append(S1RGB_imgA1A3_51[i][j])\n",
        "                if 1770<i<1880 and 2015<j<2145 :\n",
        "                  S1meanA3_51.append(S1RGB_imgA1A3_51[i][j])  \n",
        "S1meanrefA1_5 = np.array(S1meanrefA1_5)\n",
        "S1meanA3_51 = np.array(S1meanA3_51)\n",
        "\n",
        "S1rgbrefA1_5 = list()\n",
        "S1rgbA3_51 = list()\n",
        "for i in range(3):\n",
        "    S1rgbrefA1_5.append(S1meanrefA1_5[:,i].mean())\n",
        "    S1rgbA3_51.append(S1meanA3_51[:,i].mean())"
      ],
      "execution_count": 180,
      "outputs": []
    },
    {
      "cell_type": "code",
      "metadata": {
        "id": "vCXxutjOLEb5"
      },
      "source": [
        "S1meanrefA1_6 = list()\n",
        "S1meanA4_1 = list()\n",
        "for i in range(S1RGB_imgA1A4_1.shape[0]): \n",
        "     for j in range(S1RGB_imgA1A4_1.shape[1]): \n",
        "                if 1769<i<1881 and 2019<j<2131 :\n",
        "                  S1meanrefA1_6.append(S1RGB_imgA1A4_1[i][j])\n",
        "                if 1770<i<1880 and 2015<j<2145 :\n",
        "                  S1meanA4_1.append(S1RGB_imgA1A4_1[i][j])  \n",
        "S1meanrefA1_6 = np.array(S1meanrefA1_6)\n",
        "S1meanA4_1 = np.array(S1meanA4_1)\n",
        "\n",
        "S1rgbrefA1_6 = list()\n",
        "S1rgbA4_1 = list()\n",
        "for i in range(3):\n",
        "    S1rgbrefA1_6.append(S1meanrefA1_6[:,i].mean())\n",
        "    S1rgbA4_1.append(S1meanA4_1[:,i].mean())"
      ],
      "execution_count": 181,
      "outputs": []
    },
    {
      "cell_type": "code",
      "metadata": {
        "id": "Te2hqmb4LbG7"
      },
      "source": [
        "S1meanrefA1_7 = list()\n",
        "S1meanB1_1 = list()\n",
        "for i in range(S1RGB_imgA1B1_1.shape[0]): \n",
        "     for j in range(S1RGB_imgA1B1_1.shape[1]): \n",
        "                if 1769<i<1881 and 2019<j<2131 :\n",
        "                  S1meanrefA1_7.append(S1RGB_imgA1B1_1[i][j])\n",
        "                if 1770<i<1880 and 2015<j<2145 :\n",
        "                  S1meanB1_1.append(S1RGB_imgA1B1_1[i][j])  \n",
        "S1meanrefA1_7 = np.array(S1meanrefA1_7)\n",
        "S1meanB1_1 = np.array(S1meanB1_1)\n",
        "\n",
        "S1rgbrefA1_7 = list()\n",
        "S1rgbB1_1 = list()\n",
        "for i in range(3):\n",
        "    S1rgbrefA1_7.append(S1meanrefA1_7[:,i].mean())\n",
        "    S1rgbB1_1.append(S1meanB1_1[:,i].mean())"
      ],
      "execution_count": 182,
      "outputs": []
    },
    {
      "cell_type": "code",
      "metadata": {
        "id": "Q_VEx1q0LbG7"
      },
      "source": [
        "S1meanrefA1_8 = list()\n",
        "S1meanB2_1 = list()\n",
        "for i in range(S1RGB_imgA1B2_1.shape[0]): \n",
        "     for j in range(S1RGB_imgA1B2_1.shape[1]): \n",
        "                if 1769<i<1881 and 2019<j<2131 :\n",
        "                  S1meanrefA1_8.append(S1RGB_imgA1B2_1[i][j])\n",
        "                if 1770<i<1880 and 2015<j<2145 :\n",
        "                  S1meanB2_1.append(S1RGB_imgA1B2_1[i][j])  \n",
        "S1meanrefA1_8 = np.array(S1meanrefA1_8)\n",
        "S1meanB2_1 = np.array(S1meanB2_1)\n",
        "\n",
        "S1rgbrefA1_8 = list()\n",
        "S1rgbB2_1 = list()\n",
        "for i in range(3):\n",
        "    S1rgbrefA1_8.append(S1meanrefA1_8[:,i].mean())\n",
        "    S1rgbB2_1.append(S1meanB2_1[:,i].mean())"
      ],
      "execution_count": 183,
      "outputs": []
    },
    {
      "cell_type": "code",
      "metadata": {
        "id": "6h5EfHY1LbG7"
      },
      "source": [
        "S1meanrefA1_9 = list()\n",
        "S1meanB3_1 = list()\n",
        "for i in range(S1RGB_imgA1B3_1.shape[0]): \n",
        "     for j in range(S1RGB_imgA1B3_1.shape[1]): \n",
        "                if 1769<i<1881 and 2019<j<2131 :\n",
        "                  S1meanrefA1_9.append(S1RGB_imgA1B3_1[i][j])\n",
        "                if 1770<i<1880 and 2015<j<2145 :\n",
        "                  S1meanB3_1.append(S1RGB_imgA1B3_1[i][j])  \n",
        "S1meanrefA1_9 = np.array(S1meanrefA1_9)\n",
        "S1meanB3_1 = np.array(S1meanB3_1)\n",
        "\n",
        "S1rgbrefA1_9 = list()\n",
        "S1rgbB3_1 = list()\n",
        "for i in range(3):\n",
        "    S1rgbrefA1_9.append(S1meanrefA1_9[:,i].mean())\n",
        "    S1rgbB3_1.append(S1meanB3_1[:,i].mean())"
      ],
      "execution_count": 184,
      "outputs": []
    },
    {
      "cell_type": "code",
      "metadata": {
        "id": "TjKejQxXL9Xb"
      },
      "source": [
        "S1meanrefA1_10 = list()\n",
        "S1meanB4_1 = list()\n",
        "for i in range(S1RGB_imgA1B4_1.shape[0]): \n",
        "     for j in range(S1RGB_imgA1B4_1.shape[1]): \n",
        "                if 1769<i<1881 and 2019<j<2131 :\n",
        "                  S1meanrefA1_10.append(S1RGB_imgA1B4_1[i][j])\n",
        "                if 1770<i<1880 and 2015<j<2145 :\n",
        "                  S1meanB4_1.append(S1RGB_imgA1B4_1[i][j])  \n",
        "S1meanrefA1_10 = np.array(S1meanrefA1_10)\n",
        "S1meanB4_1 = np.array(S1meanB4_1)\n",
        "\n",
        "S1rgbrefA1_10 = list()\n",
        "S1rgbB4_1 = list()\n",
        "for i in range(3):\n",
        "    S1rgbrefA1_10.append(S1meanrefA1_10[:,i].mean())\n",
        "    S1rgbB4_1.append(S1meanB4_1[:,i].mean())"
      ],
      "execution_count": 185,
      "outputs": []
    },
    {
      "cell_type": "code",
      "metadata": {
        "id": "Y8X8SmoGMihg"
      },
      "source": [
        "S1meanrefA1_11 = list()\n",
        "S1meanC1_1 = list()\n",
        "for i in range(S1RGB_imgA1C1_1.shape[0]): \n",
        "     for j in range(S1RGB_imgA1C1_1.shape[1]): \n",
        "                if 1769<i<1881 and 2019<j<2131 :\n",
        "                  S1meanrefA1_11.append(S1RGB_imgA1C1_1[i][j])\n",
        "                if 1770<i<1880 and 2015<j<2145 :\n",
        "                  S1meanC1_1.append(S1RGB_imgA1C1_1[i][j])  \n",
        "S1meanrefA1_11 = np.array(S1meanrefA1_11)\n",
        "S1meanC1_1 = np.array(S1meanC1_1)\n",
        "\n",
        "S1rgbrefA1_11 = list()\n",
        "S1rgbC1_1 = list()\n",
        "for i in range(3):\n",
        "    S1rgbrefA1_11.append(S1meanrefA1_11[:,i].mean())\n",
        "    S1rgbC1_1.append(S1meanC1_1[:,i].mean())"
      ],
      "execution_count": 186,
      "outputs": []
    },
    {
      "cell_type": "code",
      "metadata": {
        "id": "Av_eHI6jMihg"
      },
      "source": [
        "S1meanrefA1_12 = list()\n",
        "S1meanC2_1 = list()\n",
        "for i in range(S1RGB_imgA1C2_1.shape[0]): \n",
        "     for j in range(S1RGB_imgA1C2_1.shape[1]): \n",
        "                if 1769<i<1881 and 2019<j<2131 :\n",
        "                  S1meanrefA1_12.append(S1RGB_imgA1C2_1[i][j])\n",
        "                if 1770<i<1880 and 2015<j<2145 :\n",
        "                  S1meanC2_1.append(S1RGB_imgA1C2_1[i][j])  \n",
        "S1meanrefA1_12 = np.array(S1meanrefA1_12)\n",
        "S1meanC2_1 = np.array(S1meanC2_1)\n",
        "\n",
        "S1rgbrefA1_12 = list()\n",
        "S1rgbC2_1 = list()\n",
        "for i in range(3):\n",
        "    S1rgbrefA1_12.append(S1meanrefA1_12[:,i].mean())\n",
        "    S1rgbC2_1.append(S1meanC2_1[:,i].mean())"
      ],
      "execution_count": 187,
      "outputs": []
    },
    {
      "cell_type": "code",
      "metadata": {
        "id": "lOvykBc7Mihg"
      },
      "source": [
        "S1meanrefA1_13 = list()\n",
        "S1meanC3_1 = list()\n",
        "for i in range(S1RGB_imgA1C3_1.shape[0]): \n",
        "     for j in range(S1RGB_imgA1C3_1.shape[1]): \n",
        "                if 1769<i<1881 and 2019<j<2131 :\n",
        "                  S1meanrefA1_13.append(S1RGB_imgA1C3_1[i][j])\n",
        "                if 1770<i<1880 and 2015<j<2145 :\n",
        "                  S1meanC3_1.append(S1RGB_imgA1C3_1[i][j])  \n",
        "S1meanrefA1_13 = np.array(S1meanrefA1_13)\n",
        "S1meanC3_1 = np.array(S1meanC3_1)\n",
        "\n",
        "S1rgbrefA1_13 = list()\n",
        "S1rgbC3_1 = list()\n",
        "for i in range(3):\n",
        "    S1rgbrefA1_13.append(S1meanrefA1_13[:,i].mean())\n",
        "    S1rgbC3_1.append(S1meanC3_1[:,i].mean())"
      ],
      "execution_count": 188,
      "outputs": []
    },
    {
      "cell_type": "code",
      "metadata": {
        "id": "YdNqiN2LMihg"
      },
      "source": [
        "S1meanrefA1_14 = list()\n",
        "S1meanC4_1 = list()\n",
        "for i in range(S1RGB_imgA1C4_1.shape[0]): \n",
        "     for j in range(S1RGB_imgA1C4_1.shape[1]): \n",
        "                if 1769<i<1881 and 2019<j<2131 :\n",
        "                  S1meanrefA1_14.append(S1RGB_imgA1C4_1[i][j])\n",
        "                if 1770<i<1880 and 2015<j<2145 :\n",
        "                  S1meanC4_1.append(S1RGB_imgA1C4_1[i][j])  \n",
        "S1meanrefA1_14 = np.array(S1meanrefA1_14)\n",
        "S1meanC4_1 = np.array(S1meanC4_1)\n",
        "\n",
        "S1rgbrefA1_14 = list()\n",
        "S1rgbC4_1 = list()\n",
        "for i in range(3):\n",
        "    S1rgbrefA1_14.append(S1meanrefA1_14[:,i].mean())\n",
        "    S1rgbC4_1.append(S1meanC4_1[:,i].mean())"
      ],
      "execution_count": 189,
      "outputs": []
    },
    {
      "cell_type": "code",
      "metadata": {
        "id": "U1oHIKdONm_p"
      },
      "source": [
        "S1meanrefA1_15 = list()\n",
        "S1meanD2_1 = list()\n",
        "for i in range(S1RGB_imgA1D2_1.shape[0]): \n",
        "     for j in range(S1RGB_imgA1D2_1.shape[1]): \n",
        "                if 1769<i<1881 and 2019<j<2131 :\n",
        "                  S1meanrefA1_15.append(S1RGB_imgA1D2_1[i][j])\n",
        "                if 1770<i<1880 and 2015<j<2145 :\n",
        "                  S1meanD2_1.append(S1RGB_imgA1D2_1[i][j])  \n",
        "S1meanrefA1_15 = np.array(S1meanrefA1_15)\n",
        "S1meanD2_1 = np.array(S1meanD2_1)\n",
        "\n",
        "S1rgbrefA1_15 = list()\n",
        "S1rgbD2_1 = list()\n",
        "for i in range(3):\n",
        "    S1rgbrefA1_15.append(S1meanrefA1_15[:,i].mean())\n",
        "    S1rgbD2_1.append(S1meanD2_1[:,i].mean())"
      ],
      "execution_count": 190,
      "outputs": []
    },
    {
      "cell_type": "code",
      "metadata": {
        "id": "_O71JLAONm_p"
      },
      "source": [
        "S1meanrefA1_16 = list()\n",
        "S1meanD3_1 = list()\n",
        "for i in range(S1RGB_imgA1D3_1.shape[0]): \n",
        "     for j in range(S1RGB_imgA1D3_1.shape[1]): \n",
        "                if 1769<i<1881 and 2019<j<2131 :\n",
        "                  S1meanrefA1_16.append(S1RGB_imgA1D3_1[i][j])\n",
        "                if 1770<i<1880 and 2015<j<2145 :\n",
        "                  S1meanD3_1.append(S1RGB_imgA1D3_1[i][j])  \n",
        "S1meanrefA1_16 = np.array(S1meanrefA1_16)\n",
        "S1meanD3_1 = np.array(S1meanD3_1)\n",
        "\n",
        "S1rgbrefA1_16 = list()\n",
        "S1rgbD3_1 = list()\n",
        "for i in range(3):\n",
        "    S1rgbrefA1_16.append(S1meanrefA1_16[:,i].mean())\n",
        "    S1rgbD3_1.append(S1meanD3_1[:,i].mean())"
      ],
      "execution_count": 191,
      "outputs": []
    },
    {
      "cell_type": "code",
      "metadata": {
        "id": "U29gI1aKNm_p"
      },
      "source": [
        "S1meanrefA1_17= list()\n",
        "S1meanD4_1 = list()\n",
        "for i in range(S1RGB_imgA1D4_1.shape[0]): \n",
        "     for j in range(S1RGB_imgA1D4_1.shape[1]): \n",
        "                if 1769<i<1881 and 2019<j<2131 :\n",
        "                  S1meanrefA1_17.append(S1RGB_imgA1D4_1[i][j])\n",
        "                if 1770<i<1880 and 2015<j<2145 :\n",
        "                  S1meanD4_1.append(S1RGB_imgA1D4_1[i][j])  \n",
        "S1meanrefA1_17 = np.array(S1meanrefA1_14)\n",
        "S1meanD4_1 = np.array(S1meanD4_1)\n",
        "\n",
        "S1rgbrefA1_17 = list()\n",
        "S1rgbD4_1 = list()\n",
        "for i in range(3):\n",
        "    S1rgbrefA1_17.append(S1meanrefA1_17[:,i].mean())\n",
        "    S1rgbD4_1.append(S1meanD4_1[:,i].mean())"
      ],
      "execution_count": 192,
      "outputs": []
    },
    {
      "cell_type": "markdown",
      "metadata": {
        "id": "7OGOajgpt7TD"
      },
      "source": [
        "###HSV"
      ]
    },
    {
      "cell_type": "code",
      "metadata": {
        "id": "gyewAPUYuQs5",
        "colab": {
          "base_uri": "https://localhost:8080/"
        },
        "outputId": "a10d3961-98ef-4a2a-e206-4c98e83d5fc0"
      },
      "source": [
        "S1meanrefA1_1 = list()\n",
        "S1meanA1_2 = list()\n",
        "for i in range(S1HSV_imgA1A1_1.shape[0]): #ให้ i รันตาม row หรือ shape[0] คือแถว มีทั้งหมด 4032 แถว ของภาพที่ปรับขนาดมาแล้ว\n",
        "     for j in range(S1HSV_imgA1A1_1.shape[1]): #ให้ j รันตาม colum มีทั้งหมด 3024 colum เช่น แถวที่ 1 เข้ามาให้รันครบ 3024colum\n",
        "                if 1769<i<1881 and 2019<j<2131 :\n",
        "                  S1meanrefA1_1.append(S1HSV_imgA1A1_1[i][j])\n",
        "                if 1770<i<1880 and 2015<j<2145 :\n",
        "                  S1meanA1_2.append(S1HSV_imgA1A1_1[i][j])  \n",
        "S1meanrefA1_1 = np.array(S1meanrefA1_1)\n",
        "S1meanA1_2 = np.array(S1meanA1_2)\n",
        "\n",
        "S1hsvrefA1_1 = list()\n",
        "S1hsvA1_2 = list()\n",
        "for i in range(3):\n",
        "    S1hsvrefA1_1.append(S1meanrefA1_1[:,i].mean())\n",
        "    S1hsvA1_2.append(S1meanA1_2[:,i].mean())\n",
        "S1hsvrefA1_1,S1hsvA1_2 "
      ],
      "execution_count": 193,
      "outputs": [
        {
          "output_type": "execute_result",
          "data": {
            "text/plain": [
              "([21.045369694018344, 38.96785975164354, 230.46173200227256],\n",
              " [21.109807268330844, 37.64405092098713, 230.93257947514402])"
            ]
          },
          "metadata": {},
          "execution_count": 193
        }
      ]
    },
    {
      "cell_type": "code",
      "metadata": {
        "id": "dK9vu9zRuQs7"
      },
      "source": [
        "S1meanrefA1_3 = list()\n",
        "S1meanA2_1 = list()\n",
        "for i in range(S1HSV_imgA1A2_1.shape[0]): \n",
        "     for j in range(S1HSV_imgA1A2_1.shape[1]): \n",
        "                if 1769<i<1881 and 2019<j<2131 :\n",
        "                  S1meanrefA1_3.append(S1HSV_imgA1A2_1[i][j])\n",
        "                if 1770<i<1880 and 2015<j<2145 :\n",
        "                  S1meanA2_1.append(S1HSV_imgA1A2_1[i][j])  \n",
        "S1meanrefA1_3 = np.array(S1meanrefA1_3)\n",
        "S1meanA2_1 = np.array(S1meanA2_1)\n",
        "\n",
        "S1hsvrefA1_3 = list()\n",
        "S1hsvA2_1 = list()\n",
        "for i in range(3):\n",
        "    S1hsvrefA1_3.append(S1meanrefA1_3[:,i].mean())\n",
        "    S1hsvA2_1.append(S1meanA2_1[:,i].mean())"
      ],
      "execution_count": 194,
      "outputs": []
    },
    {
      "cell_type": "code",
      "metadata": {
        "id": "HVnaWekuuQs8"
      },
      "source": [
        "S1meanrefA1_4 = list()\n",
        "S1meanA3_1 = list()\n",
        "for i in range(S1HSV_imgA1A3_1.shape[0]): \n",
        "     for j in range(S1HSV_imgA1A3_1.shape[1]): \n",
        "                if 1769<i<1881 and 2019<j<2131 :\n",
        "                  S1meanrefA1_4.append(S1HSV_imgA1A3_1[i][j])\n",
        "                if 1770<i<1880 and 2015<j<2145 :\n",
        "                  S1meanA3_1.append(S1HSV_imgA1A3_1[i][j])  \n",
        "S1meanrefA1_4 = np.array(S1meanrefA1_4)\n",
        "S1meanA3_1 = np.array(S1meanA3_1)\n",
        "\n",
        "S1hsvrefA1_4 = list()\n",
        "S1hsvA3_1 = list()\n",
        "for i in range(3):\n",
        "    S1hsvrefA1_4.append(S1meanrefA1_4[:,i].mean())\n",
        "    S1hsvA3_1.append(S1meanA3_1[:,i].mean())"
      ],
      "execution_count": 195,
      "outputs": []
    },
    {
      "cell_type": "code",
      "metadata": {
        "id": "-YCvbbWAuQs8"
      },
      "source": [
        "S1meanrefA1_5 = list()\n",
        "S1meanA3_51 = list()\n",
        "for i in range(S1HSV_imgA1A3_51.shape[0]): \n",
        "     for j in range(S1HSV_imgA1A3_51.shape[1]): \n",
        "                if 1769<i<1881 and 2019<j<2131 :\n",
        "                  S1meanrefA1_5.append(S1HSV_imgA1A3_51[i][j])\n",
        "                if 1770<i<1880 and 2015<j<2145 :\n",
        "                  S1meanA3_51.append(S1HSV_imgA1A3_51[i][j])  \n",
        "S1meanrefA1_5 = np.array(S1meanrefA1_5)\n",
        "S1meanA3_51 = np.array(S1meanA3_51)\n",
        "\n",
        "S1hsvrefA1_5 = list()\n",
        "S1hsvA3_51 = list()\n",
        "for i in range(3):\n",
        "    S1hsvrefA1_5.append(S1meanrefA1_5[:,i].mean())\n",
        "    S1hsvA3_51.append(S1meanA3_51[:,i].mean())"
      ],
      "execution_count": 196,
      "outputs": []
    },
    {
      "cell_type": "code",
      "metadata": {
        "id": "UvZxCzLSuQs9"
      },
      "source": [
        "S1meanrefA1_6 = list()\n",
        "S1meanA4_1 = list()\n",
        "for i in range(S1HSV_imgA1A4_1.shape[0]): \n",
        "     for j in range(S1HSV_imgA1A4_1.shape[1]): \n",
        "                if 1769<i<1881 and 2019<j<2131 :\n",
        "                  S1meanrefA1_6.append(S1HSV_imgA1A4_1[i][j])\n",
        "                if 1770<i<1880 and 2015<j<2145 :\n",
        "                  S1meanA4_1.append(S1HSV_imgA1A4_1[i][j])  \n",
        "S1meanrefA1_6 = np.array(S1meanrefA1_6)\n",
        "S1meanA4_1 = np.array(S1meanA4_1)\n",
        "\n",
        "S1hsvrefA1_6 = list()\n",
        "S1hsvA4_1 = list()\n",
        "for i in range(3):\n",
        "    S1hsvrefA1_6.append(S1meanrefA1_6[:,i].mean())\n",
        "    S1hsvA4_1.append(S1meanA4_1[:,i].mean())"
      ],
      "execution_count": 197,
      "outputs": []
    },
    {
      "cell_type": "code",
      "metadata": {
        "id": "_KgSdI0LuQs-"
      },
      "source": [
        "S1meanrefA1_7 = list()\n",
        "S1meanB1_1 = list()\n",
        "for i in range(S1HSV_imgA1B1_1.shape[0]): \n",
        "     for j in range(S1HSV_imgA1B1_1.shape[1]): \n",
        "                if 1769<i<1881 and 2019<j<2131 :\n",
        "                  S1meanrefA1_7.append(S1HSV_imgA1B1_1[i][j])\n",
        "                if 1770<i<1880 and 2015<j<2145 :\n",
        "                  S1meanB1_1.append(S1HSV_imgA1B1_1[i][j])  \n",
        "S1meanrefA1_7 = np.array(S1meanrefA1_7)\n",
        "S1meanB1_1 = np.array(S1meanB1_1)\n",
        "\n",
        "S1hsvrefA1_7 = list()\n",
        "S1hsvB1_1 = list()\n",
        "for i in range(3):\n",
        "    S1hsvrefA1_7.append(S1meanrefA1_7[:,i].mean())\n",
        "    S1hsvB1_1.append(S1meanB1_1[:,i].mean())"
      ],
      "execution_count": 198,
      "outputs": []
    },
    {
      "cell_type": "code",
      "metadata": {
        "id": "D73bQNbSuQs_"
      },
      "source": [
        "S1meanrefA1_8 = list()\n",
        "S1meanB2_1 = list()\n",
        "for i in range(S1HSV_imgA1B2_1.shape[0]): \n",
        "     for j in range(S1HSV_imgA1B2_1.shape[1]): \n",
        "                if 1769<i<1881 and 2019<j<2131 :\n",
        "                  S1meanrefA1_8.append(S1HSV_imgA1B2_1[i][j])\n",
        "                if 1770<i<1880 and 2015<j<2145 :\n",
        "                  S1meanB2_1.append(S1HSV_imgA1B2_1[i][j])  \n",
        "S1meanrefA1_8 = np.array(S1meanrefA1_8)\n",
        "S1meanB2_1 = np.array(S1meanB2_1)\n",
        "\n",
        "S1hsvrefA1_8 = list()\n",
        "S1hsvB2_1 = list()\n",
        "for i in range(3):\n",
        "    S1hsvrefA1_8.append(S1meanrefA1_8[:,i].mean())\n",
        "    S1hsvB2_1.append(S1meanB2_1[:,i].mean())"
      ],
      "execution_count": 199,
      "outputs": []
    },
    {
      "cell_type": "code",
      "metadata": {
        "id": "-2Um-Pq5uQtA"
      },
      "source": [
        "S1meanrefA1_9 = list()\n",
        "S1meanB3_1 = list()\n",
        "for i in range(S1HSV_imgA1B3_1.shape[0]): \n",
        "     for j in range(S1HSV_imgA1B3_1.shape[1]): \n",
        "                if 1769<i<1881 and 2019<j<2131 :\n",
        "                  S1meanrefA1_9.append(S1HSV_imgA1B3_1[i][j])\n",
        "                if 1770<i<1880 and 2015<j<2145 :\n",
        "                  S1meanB3_1.append(S1HSV_imgA1B3_1[i][j])  \n",
        "S1meanrefA1_9 = np.array(S1meanrefA1_9)\n",
        "S1meanB3_1 = np.array(S1meanB3_1)\n",
        "\n",
        "S1hsvrefA1_9 = list()\n",
        "S1hsvB3_1 = list()\n",
        "for i in range(3):\n",
        "    S1hsvrefA1_9.append(S1meanrefA1_9[:,i].mean())\n",
        "    S1hsvB3_1.append(S1meanB3_1[:,i].mean())"
      ],
      "execution_count": 200,
      "outputs": []
    },
    {
      "cell_type": "code",
      "metadata": {
        "id": "Bprrg-KQuQtB"
      },
      "source": [
        "S1meanrefA1_10 = list()\n",
        "S1meanB4_1 = list()\n",
        "for i in range(S1HSV_imgA1B4_1.shape[0]): \n",
        "     for j in range(S1HSV_imgA1B4_1.shape[1]): \n",
        "                if 1769<i<1881 and 2019<j<2131 :\n",
        "                  S1meanrefA1_10.append(S1HSV_imgA1B4_1[i][j])\n",
        "                if 1770<i<1880 and 2015<j<2145 :\n",
        "                  S1meanB4_1.append(S1HSV_imgA1B4_1[i][j])  \n",
        "S1meanrefA1_10 = np.array(S1meanrefA1_10)\n",
        "S1meanB4_1 = np.array(S1meanB4_1)\n",
        "\n",
        "S1hsvrefA1_10 = list()\n",
        "S1hsvB4_1 = list()\n",
        "for i in range(3):\n",
        "    S1hsvrefA1_10.append(S1meanrefA1_10[:,i].mean())\n",
        "    S1hsvB4_1.append(S1meanB4_1[:,i].mean())"
      ],
      "execution_count": 201,
      "outputs": []
    },
    {
      "cell_type": "code",
      "metadata": {
        "id": "tM9mAjB8uQtB"
      },
      "source": [
        "S1meanrefA1_11 = list()\n",
        "S1meanC1_1 = list()\n",
        "for i in range(S1HSV_imgA1C1_1.shape[0]): \n",
        "     for j in range(S1HSV_imgA1C1_1.shape[1]): \n",
        "                if 1769<i<1881 and 2019<j<2131 :\n",
        "                  S1meanrefA1_11.append(S1HSV_imgA1C1_1[i][j])\n",
        "                if 1770<i<1880 and 2015<j<2145 :\n",
        "                  S1meanC1_1.append(S1HSV_imgA1C1_1[i][j])  \n",
        "S1meanrefA1_11 = np.array(S1meanrefA1_11)\n",
        "S1meanC1_1 = np.array(S1meanC1_1)\n",
        "\n",
        "S1hsvrefA1_11 = list()\n",
        "S1hsvC1_1 = list()\n",
        "for i in range(3):\n",
        "    S1hsvrefA1_11.append(S1meanrefA1_11[:,i].mean())\n",
        "    S1hsvC1_1.append(S1meanC1_1[:,i].mean())"
      ],
      "execution_count": 202,
      "outputs": []
    },
    {
      "cell_type": "code",
      "metadata": {
        "id": "kDklKgouuQtC"
      },
      "source": [
        "S1meanrefA1_12 = list()\n",
        "S1meanC2_1 = list()\n",
        "for i in range(S1HSV_imgA1C2_1.shape[0]): \n",
        "     for j in range(S1HSV_imgA1C2_1.shape[1]): \n",
        "                if 1769<i<1881 and 2019<j<2131 :\n",
        "                  S1meanrefA1_12.append(S1HSV_imgA1C2_1[i][j])\n",
        "                if 1770<i<1880 and 2015<j<2145 :\n",
        "                  S1meanC2_1.append(S1HSV_imgA1C2_1[i][j])  \n",
        "S1meanrefA1_12 = np.array(S1meanrefA1_12)\n",
        "S1meanC2_1 = np.array(S1meanC2_1)\n",
        "\n",
        "S1hsvrefA1_12 = list()\n",
        "S1hsvC2_1 = list()\n",
        "for i in range(3):\n",
        "    S1hsvrefA1_12.append(S1meanrefA1_12[:,i].mean())\n",
        "    S1hsvC2_1.append(S1meanC2_1[:,i].mean())"
      ],
      "execution_count": 203,
      "outputs": []
    },
    {
      "cell_type": "code",
      "metadata": {
        "id": "y5Ptet2IuQtC"
      },
      "source": [
        "S1meanrefA1_13 = list()\n",
        "S1meanC3_1 = list()\n",
        "for i in range(S1HSV_imgA1C3_1.shape[0]): \n",
        "     for j in range(S1HSV_imgA1C3_1.shape[1]): \n",
        "                if 1769<i<1881 and 2019<j<2131 :\n",
        "                  S1meanrefA1_13.append(S1HSV_imgA1C3_1[i][j])\n",
        "                if 1770<i<1880 and 2015<j<2145 :\n",
        "                  S1meanC3_1.append(S1HSV_imgA1C3_1[i][j])  \n",
        "S1meanrefA1_13 = np.array(S1meanrefA1_13)\n",
        "S1meanC3_1 = np.array(S1meanC3_1)\n",
        "\n",
        "S1hsvrefA1_13 = list()\n",
        "S1hsvC3_1 = list()\n",
        "for i in range(3):\n",
        "    S1hsvrefA1_13.append(S1meanrefA1_13[:,i].mean())\n",
        "    S1hsvC3_1.append(S1meanC3_1[:,i].mean())"
      ],
      "execution_count": 204,
      "outputs": []
    },
    {
      "cell_type": "code",
      "metadata": {
        "id": "HukrHNNxuQtC"
      },
      "source": [
        "S1meanrefA1_14 = list()\n",
        "S1meanC4_1 = list()\n",
        "for i in range(S1HSV_imgA1C4_1.shape[0]): \n",
        "     for j in range(S1HSV_imgA1C4_1.shape[1]): \n",
        "                if 1769<i<1881 and 2019<j<2131 :\n",
        "                  S1meanrefA1_14.append(S1HSV_imgA1C4_1[i][j])\n",
        "                if 1770<i<1880 and 2015<j<2145 :\n",
        "                  S1meanC4_1.append(S1HSV_imgA1C4_1[i][j])  \n",
        "S1meanrefA1_14 = np.array(S1meanrefA1_14)\n",
        "S1meanC4_1 = np.array(S1meanC4_1)\n",
        "\n",
        "S1hsvrefA1_14 = list()\n",
        "S1hsvC4_1 = list()\n",
        "for i in range(3):\n",
        "    S1hsvrefA1_14.append(S1meanrefA1_14[:,i].mean())\n",
        "    S1hsvC4_1.append(S1meanC4_1[:,i].mean())"
      ],
      "execution_count": 205,
      "outputs": []
    },
    {
      "cell_type": "code",
      "metadata": {
        "id": "EEzN-mXZuQtD"
      },
      "source": [
        "S1meanrefA1_15 = list()\n",
        "S1meanD2_1 = list()\n",
        "for i in range(S1HSV_imgA1D2_1.shape[0]): \n",
        "     for j in range(S1HSV_imgA1D2_1.shape[1]): \n",
        "                if 1769<i<1881 and 2019<j<2131 :\n",
        "                  S1meanrefA1_15.append(S1HSV_imgA1D2_1[i][j])\n",
        "                if 1770<i<1880 and 2015<j<2145 :\n",
        "                  S1meanD2_1.append(S1HSV_imgA1D2_1[i][j])  \n",
        "S1meanrefA1_15 = np.array(S1meanrefA1_15)\n",
        "S1meanD2_1 = np.array(S1meanD2_1)\n",
        "\n",
        "S1hsvrefA1_15 = list()\n",
        "S1hsvD2_1 = list()\n",
        "for i in range(3):\n",
        "    S1hsvrefA1_15.append(S1meanrefA1_15[:,i].mean())\n",
        "    S1hsvD2_1.append(S1meanD2_1[:,i].mean())"
      ],
      "execution_count": 206,
      "outputs": []
    },
    {
      "cell_type": "code",
      "metadata": {
        "id": "ceqVIiUGuQtD"
      },
      "source": [
        "S1meanrefA1_16 = list()\n",
        "S1meanD3_1 = list()\n",
        "for i in range(S1HSV_imgA1D3_1.shape[0]): \n",
        "     for j in range(S1HSV_imgA1D3_1.shape[1]): \n",
        "                if 1769<i<1881 and 2019<j<2131 :\n",
        "                  S1meanrefA1_16.append(S1HSV_imgA1D3_1[i][j])\n",
        "                if 1770<i<1880 and 2015<j<2145 :\n",
        "                  S1meanD3_1.append(S1HSV_imgA1D3_1[i][j])  \n",
        "S1meanrefA1_16 = np.array(S1meanrefA1_16)\n",
        "S1meanD3_1 = np.array(S1meanD3_1)\n",
        "\n",
        "S1hsvrefA1_16 = list()\n",
        "S1hsvD3_1 = list()\n",
        "for i in range(3):\n",
        "    S1hsvrefA1_16.append(S1meanrefA1_16[:,i].mean())\n",
        "    S1hsvD3_1.append(S1meanD3_1[:,i].mean())"
      ],
      "execution_count": 207,
      "outputs": []
    },
    {
      "cell_type": "code",
      "metadata": {
        "id": "GEl4Fv4ouQtD"
      },
      "source": [
        "S1meanrefA1_17= list()\n",
        "S1meanD4_1 = list()\n",
        "for i in range(S1HSV_imgA1D4_1.shape[0]): \n",
        "     for j in range(S1HSV_imgA1D4_1.shape[1]): \n",
        "                if 1769<i<1881 and 2019<j<2131 :\n",
        "                  S1meanrefA1_17.append(S1HSV_imgA1D4_1[i][j])\n",
        "                if 1770<i<1880 and 2015<j<2145 :\n",
        "                  S1meanD4_1.append(S1HSV_imgA1D4_1[i][j])  \n",
        "S1meanrefA1_17 = np.array(S1meanrefA1_14)\n",
        "S1meanD4_1 = np.array(S1meanD4_1)\n",
        "\n",
        "S1hsvrefA1_17 = list()\n",
        "S1hsvD4_1 = list()\n",
        "for i in range(3):\n",
        "    S1hsvrefA1_17.append(S1meanrefA1_17[:,i].mean())\n",
        "    S1hsvD4_1.append(S1meanD4_1[:,i].mean())"
      ],
      "execution_count": 208,
      "outputs": []
    },
    {
      "cell_type": "markdown",
      "metadata": {
        "id": "kW9nrJkJOI4F"
      },
      "source": [
        "##Set2"
      ]
    },
    {
      "cell_type": "markdown",
      "metadata": {
        "id": "KRCnqhuC3ovu"
      },
      "source": [
        "###RGB"
      ]
    },
    {
      "cell_type": "code",
      "metadata": {
        "id": "D6_wAmquOT_h"
      },
      "source": [
        "S2meanrefA1_1 = list()\n",
        "S2meanA1_2 = list()\n",
        "for i in range(S2RGB_imgA1A1_1.shape[0]): #ให้ i รันตาม row หรือ shape[0] คือแถว มีทั้งหมด 4032 แถว ของภาพที่ปรับขนาดมาแล้ว\n",
        "     for j in range(S2RGB_imgA1A1_1.shape[1]): #ให้ j รันตาม colum มีทั้งหมด 3024 colum เช่น แถวที่ 1 เข้ามาให้รันครบ 3024colum\n",
        "                if 1769<i<1881 and 2019<j<2131 :\n",
        "                  S2meanrefA1_1.append(S2RGB_imgA1A1_1[i][j])\n",
        "                if 1770<i<1880 and 2015<j<2145 :\n",
        "                  S2meanA1_2.append(S2RGB_imgA1A1_1[i][j])  \n",
        "S2meanrefA1_1 = np.array(S2meanrefA1_1)\n",
        "S2meanA1_2 = np.array(S2meanA1_2)\n",
        "\n",
        "S2rgbrefA1_1 = list()\n",
        "S2rgbA1_2 = list()\n",
        "for i in range(3):\n",
        "    S2rgbrefA1_1.append(S2meanrefA1_1[:,i].mean())\n",
        "    S2rgbA1_2.append(S2meanA1_2[:,i].mean()) "
      ],
      "execution_count": 209,
      "outputs": []
    },
    {
      "cell_type": "code",
      "metadata": {
        "id": "EJlQhqC7OT_i"
      },
      "source": [
        "S2meanrefA1_3 = list()\n",
        "S2meanA2_1 = list()\n",
        "for i in range(S2RGB_imgA1A2_1.shape[0]): \n",
        "     for j in range(S2RGB_imgA1A2_1.shape[1]): \n",
        "                if 1769<i<1881 and 2019<j<2131 :\n",
        "                  S2meanrefA1_3.append(S2RGB_imgA1A2_1[i][j])\n",
        "                if 1770<i<1880 and 2015<j<2145 :\n",
        "                  S2meanA2_1.append(S2RGB_imgA1A2_1[i][j])  \n",
        "S2meanrefA1_3 = np.array(S2meanrefA1_3)\n",
        "S2meanA2_1 = np.array(S2meanA2_1)\n",
        "\n",
        "S2rgbrefA1_3 = list()\n",
        "S2rgbA2_1 = list()\n",
        "for i in range(3):\n",
        "    S2rgbrefA1_3.append(S2meanrefA1_3[:,i].mean())\n",
        "    S2rgbA2_1.append(S2meanA2_1[:,i].mean())"
      ],
      "execution_count": 210,
      "outputs": []
    },
    {
      "cell_type": "code",
      "metadata": {
        "id": "I_f-AfX0OT_i"
      },
      "source": [
        "S2meanrefA1_4 = list()\n",
        "S2meanA3_1 = list()\n",
        "for i in range(S2RGB_imgA1A3_1.shape[0]): \n",
        "     for j in range(S2RGB_imgA1A3_1.shape[1]): \n",
        "                if 1769<i<1881 and 2019<j<2131 :\n",
        "                  S2meanrefA1_4.append(S2RGB_imgA1A3_1[i][j])\n",
        "                if 1770<i<1880 and 2015<j<2145 :\n",
        "                  S2meanA3_1.append(S2RGB_imgA1A3_1[i][j])  \n",
        "S2meanrefA1_4 = np.array(S2meanrefA1_4)\n",
        "S2meanA3_1 = np.array(S2meanA3_1)\n",
        "\n",
        "S2rgbrefA1_4 = list()\n",
        "S2rgbA3_1 = list()\n",
        "for i in range(3):\n",
        "    S2rgbrefA1_4.append(S2meanrefA1_4[:,i].mean())\n",
        "    S2rgbA3_1.append(S2meanA3_1[:,i].mean())"
      ],
      "execution_count": 211,
      "outputs": []
    },
    {
      "cell_type": "code",
      "metadata": {
        "id": "JG9hcu4-OT_i"
      },
      "source": [
        "S2meanrefA1_5 = list()\n",
        "S2meanA3_51 = list()\n",
        "for i in range(S2RGB_imgA1A3_51.shape[0]): \n",
        "     for j in range(S2RGB_imgA1A3_51.shape[1]): \n",
        "                if 1769<i<1881 and 2019<j<2131 :\n",
        "                  S2meanrefA1_5.append(S2RGB_imgA1A3_51[i][j])\n",
        "                if 1770<i<1880 and 2015<j<2145 :\n",
        "                  S2meanA3_51.append(S2RGB_imgA1A3_51[i][j])  \n",
        "S2meanrefA1_5 = np.array(S2meanrefA1_5)\n",
        "S2meanA3_51 = np.array(S2meanA3_51)\n",
        "\n",
        "S2rgbrefA1_5 = list()\n",
        "S2rgbA3_51 = list()\n",
        "for i in range(3):\n",
        "    S2rgbrefA1_5.append(S2meanrefA1_5[:,i].mean())\n",
        "    S2rgbA3_51.append(S2meanA3_51[:,i].mean())"
      ],
      "execution_count": 212,
      "outputs": []
    },
    {
      "cell_type": "code",
      "metadata": {
        "id": "Mj0RQI7UOT_i"
      },
      "source": [
        "S2meanrefA1_6 = list()\n",
        "S2meanA4_1 = list()\n",
        "for i in range(S2RGB_imgA1A4_1.shape[0]): \n",
        "     for j in range(S2RGB_imgA1A4_1.shape[1]): \n",
        "                if 1769<i<1881 and 2019<j<2131 :\n",
        "                  S2meanrefA1_6.append(S2RGB_imgA1A4_1[i][j])\n",
        "                if 1770<i<1880 and 2015<j<2145 :\n",
        "                  S2meanA4_1.append(S2RGB_imgA1A4_1[i][j])  \n",
        "S2meanrefA1_6 = np.array(S2meanrefA1_6)\n",
        "S2meanA4_1 = np.array(S2meanA4_1)\n",
        "\n",
        "S2rgbrefA1_6 = list()\n",
        "S2rgbA4_1 = list()\n",
        "for i in range(3):\n",
        "    S2rgbrefA1_6.append(S2meanrefA1_6[:,i].mean())\n",
        "    S2rgbA4_1.append(S2meanA4_1[:,i].mean())"
      ],
      "execution_count": 213,
      "outputs": []
    },
    {
      "cell_type": "code",
      "metadata": {
        "id": "Zd07YLK8OT_i"
      },
      "source": [
        "S2meanrefA1_7 = list()\n",
        "S2meanB1_1 = list()\n",
        "for i in range(S2RGB_imgA1B1_1.shape[0]): \n",
        "     for j in range(S2RGB_imgA1B1_1.shape[1]): \n",
        "                if 1769<i<1881 and 2019<j<2131 :\n",
        "                  S2meanrefA1_7.append(S2RGB_imgA1B1_1[i][j])\n",
        "                if 1770<i<1880 and 2015<j<2145 :\n",
        "                  S2meanB1_1.append(S2RGB_imgA1B1_1[i][j])  \n",
        "S2meanrefA1_7 = np.array(S2meanrefA1_7)\n",
        "S2meanB1_1 = np.array(S2meanB1_1)\n",
        "\n",
        "S2rgbrefA1_7 = list()\n",
        "S2rgbB1_1 = list()\n",
        "for i in range(3):\n",
        "    S2rgbrefA1_7.append(S2meanrefA1_7[:,i].mean())\n",
        "    S2rgbB1_1.append(S2meanB1_1[:,i].mean())"
      ],
      "execution_count": 214,
      "outputs": []
    },
    {
      "cell_type": "code",
      "metadata": {
        "id": "pnAhSHoAOT_i"
      },
      "source": [
        "S2meanrefA1_8 = list()\n",
        "S2meanB2_1 = list()\n",
        "for i in range(S2RGB_imgA1B2_1.shape[0]): \n",
        "     for j in range(S2RGB_imgA1B2_1.shape[1]): \n",
        "                if 1769<i<1881 and 2019<j<2131 :\n",
        "                  S2meanrefA1_8.append(S2RGB_imgA1B2_1[i][j])\n",
        "                if 1770<i<1880 and 2015<j<2145 :\n",
        "                  S2meanB2_1.append(S2RGB_imgA1B2_1[i][j])  \n",
        "S2meanrefA1_8 = np.array(S2meanrefA1_8)\n",
        "S2meanB2_1 = np.array(S2meanB2_1)\n",
        "\n",
        "S2rgbrefA1_8 = list()\n",
        "S2rgbB2_1 = list()\n",
        "for i in range(3):\n",
        "    S2rgbrefA1_8.append(S2meanrefA1_8[:,i].mean())\n",
        "    S2rgbB2_1.append(S2meanB2_1[:,i].mean())"
      ],
      "execution_count": 215,
      "outputs": []
    },
    {
      "cell_type": "code",
      "metadata": {
        "id": "EvxR0vtzOT_j"
      },
      "source": [
        "S2meanrefA1_9 = list()\n",
        "S2meanB3_1 = list()\n",
        "for i in range(S2RGB_imgA1B3_1.shape[0]): \n",
        "     for j in range(S2RGB_imgA1B3_1.shape[1]): \n",
        "                if 1769<i<1881 and 2019<j<2131 :\n",
        "                  S2meanrefA1_9.append(S2RGB_imgA1B3_1[i][j])\n",
        "                if 1770<i<1880 and 2015<j<2145 :\n",
        "                  S2meanB3_1.append(S2RGB_imgA1B3_1[i][j])  \n",
        "S2meanrefA1_9 = np.array(S2meanrefA1_9)\n",
        "S2meanB3_1 = np.array(S2meanB3_1)\n",
        "\n",
        "S2rgbrefA1_9 = list()\n",
        "S2rgbB3_1 = list()\n",
        "for i in range(3):\n",
        "    S2rgbrefA1_9.append(S2meanrefA1_9[:,i].mean())\n",
        "    S2rgbB3_1.append(S2meanB3_1[:,i].mean())"
      ],
      "execution_count": 216,
      "outputs": []
    },
    {
      "cell_type": "code",
      "metadata": {
        "id": "UWZfSBsiOT_j"
      },
      "source": [
        "S2meanrefA1_10 = list()\n",
        "S2meanB4_1 = list()\n",
        "for i in range(S2RGB_imgA1B4_1.shape[0]): \n",
        "     for j in range(S2RGB_imgA1B4_1.shape[1]): \n",
        "                if 1769<i<1881 and 2019<j<2131 :\n",
        "                  S2meanrefA1_10.append(S2RGB_imgA1B4_1[i][j])\n",
        "                if 1770<i<1880 and 2015<j<2145 :\n",
        "                  S2meanB4_1.append(S2RGB_imgA1B4_1[i][j])  \n",
        "S2meanrefA1_10 = np.array(S2meanrefA1_10)\n",
        "S2meanB4_1 = np.array(S2meanB4_1)\n",
        "\n",
        "S2rgbrefA1_10 = list()\n",
        "S2rgbB4_1 = list()\n",
        "for i in range(3):\n",
        "    S2rgbrefA1_10.append(S2meanrefA1_10[:,i].mean())\n",
        "    S2rgbB4_1.append(S2meanB4_1[:,i].mean())"
      ],
      "execution_count": 217,
      "outputs": []
    },
    {
      "cell_type": "code",
      "metadata": {
        "id": "E0iL7_rvOT_j"
      },
      "source": [
        "S2meanrefA1_11 = list()\n",
        "S2meanC1_1 = list()\n",
        "for i in range(S2RGB_imgA1C1_1.shape[0]): \n",
        "     for j in range(S2RGB_imgA1C1_1.shape[1]): \n",
        "                if 1769<i<1881 and 2019<j<2131 :\n",
        "                  S2meanrefA1_11.append(S2RGB_imgA1C1_1[i][j])\n",
        "                if 1770<i<1880 and 2015<j<2145 :\n",
        "                  S2meanC1_1.append(S2RGB_imgA1C1_1[i][j])  \n",
        "S2meanrefA1_11 = np.array(S2meanrefA1_11)\n",
        "S2meanC1_1 = np.array(S2meanC1_1)\n",
        "\n",
        "S2rgbrefA1_11 = list()\n",
        "S2rgbC1_1 = list()\n",
        "for i in range(3):\n",
        "    S2rgbrefA1_11.append(S2meanrefA1_11[:,i].mean())\n",
        "    S2rgbC1_1.append(S2meanC1_1[:,i].mean())"
      ],
      "execution_count": 218,
      "outputs": []
    },
    {
      "cell_type": "code",
      "metadata": {
        "id": "xYQ3ccu-OT_j"
      },
      "source": [
        "S2meanrefA1_12 = list()\n",
        "S2meanC2_1 = list()\n",
        "for i in range(S2RGB_imgA1C2_1.shape[0]): \n",
        "     for j in range(S2RGB_imgA1C2_1.shape[1]): \n",
        "                if 1769<i<1881 and 2019<j<2131 :\n",
        "                  S2meanrefA1_12.append(S2RGB_imgA1C2_1[i][j])\n",
        "                if 1770<i<1880 and 2015<j<2145 :\n",
        "                  S2meanC2_1.append(S2RGB_imgA1C2_1[i][j])  \n",
        "S2meanrefA1_12 = np.array(S2meanrefA1_12)\n",
        "S2meanC2_1 = np.array(S2meanC2_1)\n",
        "\n",
        "S2rgbrefA1_12 = list()\n",
        "S2rgbC2_1 = list()\n",
        "for i in range(3):\n",
        "    S2rgbrefA1_12.append(S2meanrefA1_12[:,i].mean())\n",
        "    S2rgbC2_1.append(S2meanC2_1[:,i].mean())"
      ],
      "execution_count": 219,
      "outputs": []
    },
    {
      "cell_type": "code",
      "metadata": {
        "id": "K7ZfvmhMOT_j"
      },
      "source": [
        "S2meanrefA1_13 = list()\n",
        "S2meanC3_1 = list()\n",
        "for i in range(S2RGB_imgA1C3_1.shape[0]): \n",
        "     for j in range(S2RGB_imgA1C3_1.shape[1]): \n",
        "                if 1769<i<1881 and 2019<j<2131 :\n",
        "                  S2meanrefA1_13.append(S2RGB_imgA1C3_1[i][j])\n",
        "                if 1770<i<1880 and 2015<j<2145 :\n",
        "                  S2meanC3_1.append(S2RGB_imgA1C3_1[i][j])  \n",
        "S2meanrefA1_13 = np.array(S2meanrefA1_13)\n",
        "S2meanC3_1 = np.array(S2meanC3_1)\n",
        "\n",
        "S2rgbrefA1_13 = list()\n",
        "S2rgbC3_1 = list()\n",
        "for i in range(3):\n",
        "    S2rgbrefA1_13.append(S2meanrefA1_13[:,i].mean())\n",
        "    S2rgbC3_1.append(S2meanC3_1[:,i].mean())"
      ],
      "execution_count": 220,
      "outputs": []
    },
    {
      "cell_type": "code",
      "metadata": {
        "id": "JnYE-7tIOT_j"
      },
      "source": [
        "S2meanrefA1_14 = list()\n",
        "S2meanC4_1 = list()\n",
        "for i in range(S2RGB_imgA1C4_1.shape[0]): \n",
        "     for j in range(S2RGB_imgA1C4_1.shape[1]): \n",
        "                if 1769<i<1881 and 2019<j<2131 :\n",
        "                  S2meanrefA1_14.append(S2RGB_imgA1C4_1[i][j])\n",
        "                if 1770<i<1880 and 2015<j<2145 :\n",
        "                  S2meanC4_1.append(S2RGB_imgA1C4_1[i][j])  \n",
        "S2meanrefA1_14 = np.array(S2meanrefA1_14)\n",
        "S2meanC4_1 = np.array(S2meanC4_1)\n",
        "\n",
        "S2rgbrefA1_14 = list()\n",
        "S2rgbC4_1 = list()\n",
        "for i in range(3):\n",
        "    S2rgbrefA1_14.append(S2meanrefA1_14[:,i].mean())\n",
        "    S2rgbC4_1.append(S2meanC4_1[:,i].mean())"
      ],
      "execution_count": 221,
      "outputs": []
    },
    {
      "cell_type": "code",
      "metadata": {
        "id": "whwVWrEAOT_j"
      },
      "source": [
        "S2meanrefA1_15 = list()\n",
        "S2meanD2_1 = list()\n",
        "for i in range(S2RGB_imgA1D2_1.shape[0]): \n",
        "     for j in range(S2RGB_imgA1D2_1.shape[1]): \n",
        "                if 1769<i<1881 and 2019<j<2131 :\n",
        "                  S2meanrefA1_15.append(S2RGB_imgA1D2_1[i][j])\n",
        "                if 1770<i<1880 and 2015<j<2145 :\n",
        "                  S2meanD2_1.append(S2RGB_imgA1D2_1[i][j])  \n",
        "S2meanrefA1_15 = np.array(S2meanrefA1_15)\n",
        "S2meanD2_1 = np.array(S2meanD2_1)\n",
        "\n",
        "S2rgbrefA1_15 = list()\n",
        "S2rgbD2_1 = list()\n",
        "for i in range(3):\n",
        "    S2rgbrefA1_15.append(S2meanrefA1_15[:,i].mean())\n",
        "    S2rgbD2_1.append(S2meanD2_1[:,i].mean())"
      ],
      "execution_count": 222,
      "outputs": []
    },
    {
      "cell_type": "code",
      "metadata": {
        "id": "UQ7zahmJOT_j"
      },
      "source": [
        "S2meanrefA1_16 = list()\n",
        "S2meanD3_1 = list()\n",
        "for i in range(S2RGB_imgA1D3_1.shape[0]): \n",
        "     for j in range(S2RGB_imgA1D3_1.shape[1]): \n",
        "                if 1769<i<1881 and 2019<j<2131 :\n",
        "                  S2meanrefA1_16.append(S2RGB_imgA1D3_1[i][j])\n",
        "                if 1770<i<1880 and 2015<j<2145 :\n",
        "                  S2meanD3_1.append(S2RGB_imgA1D3_1[i][j])  \n",
        "S2meanrefA1_16 = np.array(S2meanrefA1_16)\n",
        "S2meanD3_1 = np.array(S2meanD3_1)\n",
        "\n",
        "S2rgbrefA1_16 = list()\n",
        "S2rgbD3_1 = list()\n",
        "for i in range(3):\n",
        "    S2rgbrefA1_16.append(S2meanrefA1_16[:,i].mean())\n",
        "    S2rgbD3_1.append(S2meanD3_1[:,i].mean())"
      ],
      "execution_count": 223,
      "outputs": []
    },
    {
      "cell_type": "code",
      "metadata": {
        "id": "bYnOvjjUOT_k"
      },
      "source": [
        "S2meanrefA1_17= list()\n",
        "S2meanD4_1 = list()\n",
        "for i in range(S2RGB_imgA1D4_1.shape[0]): \n",
        "     for j in range(S2RGB_imgA1D4_1.shape[1]): \n",
        "                if 1769<i<1881 and 2019<j<2131 :\n",
        "                  S2meanrefA1_17.append(S2RGB_imgA1D4_1[i][j])\n",
        "                if 1770<i<1880 and 2015<j<2145 :\n",
        "                  S2meanD4_1.append(S2RGB_imgA1D4_1[i][j])  \n",
        "S2meanrefA1_17 = np.array(S2meanrefA1_14)\n",
        "S2meanD4_1 = np.array(S2meanD4_1)\n",
        "\n",
        "S2rgbrefA1_17 = list()\n",
        "S2rgbD4_1 = list()\n",
        "for i in range(3):\n",
        "    S2rgbrefA1_17.append(S2meanrefA1_17[:,i].mean())\n",
        "    S2rgbD4_1.append(S2meanD4_1[:,i].mean())"
      ],
      "execution_count": 224,
      "outputs": []
    },
    {
      "cell_type": "markdown",
      "metadata": {
        "id": "K91ffP7A3z1p"
      },
      "source": [
        "###HSV"
      ]
    },
    {
      "cell_type": "code",
      "metadata": {
        "id": "-7UCG8W938EP"
      },
      "source": [
        "S2meanrefA1_1 = list()\n",
        "S2meanA1_2 = list()\n",
        "for i in range(S2HSV_imgA1A1_1.shape[0]): #ให้ i รันตาม row หรือ shape[0] คือแถว มีทั้งหมด 4032 แถว ของภาพที่ปรับขนาดมาแล้ว\n",
        "     for j in range(S2HSV_imgA1A1_1.shape[1]): #ให้ j รันตาม colum มีทั้งหมด 3024 colum เช่น แถวที่ 1 เข้ามาให้รันครบ 3024colum\n",
        "                if 1769<i<1881 and 2019<j<2131 :\n",
        "                  S2meanrefA1_1.append(S2HSV_imgA1A1_1[i][j])\n",
        "                if 1770<i<1880 and 2015<j<2145 :\n",
        "                  S2meanA1_2.append(S2HSV_imgA1A1_1[i][j])  \n",
        "S2meanrefA1_1 = np.array(S2meanrefA1_1)\n",
        "S2meanA1_2 = np.array(S2meanA1_2)\n",
        "\n",
        "S2hsvrefA1_1 = list()\n",
        "S2hsvA1_2 = list()\n",
        "for i in range(3):\n",
        "    S2hsvrefA1_1.append(S2meanrefA1_1[:,i].mean())\n",
        "    S2hsvA1_2.append(S2meanA1_2[:,i].mean()) "
      ],
      "execution_count": 225,
      "outputs": []
    },
    {
      "cell_type": "code",
      "metadata": {
        "id": "62Gs05XN38EQ"
      },
      "source": [
        "S2meanrefA1_3 = list()\n",
        "S2meanA2_1 = list()\n",
        "for i in range(S2HSV_imgA1A2_1.shape[0]): \n",
        "     for j in range(S2HSV_imgA1A2_1.shape[1]): \n",
        "                if 1769<i<1881 and 2019<j<2131 :\n",
        "                  S2meanrefA1_3.append(S2HSV_imgA1A2_1[i][j])\n",
        "                if 1770<i<1880 and 2015<j<2145 :\n",
        "                  S2meanA2_1.append(S2HSV_imgA1A2_1[i][j])  \n",
        "S2meanrefA1_3 = np.array(S2meanrefA1_3)\n",
        "S2meanA2_1 = np.array(S2meanA2_1)\n",
        "\n",
        "S2hsvrefA1_3 = list()\n",
        "S2hsvA2_1 = list()\n",
        "for i in range(3):\n",
        "    S2hsvrefA1_3.append(S2meanrefA1_3[:,i].mean())\n",
        "    S2hsvA2_1.append(S2meanA2_1[:,i].mean())"
      ],
      "execution_count": 226,
      "outputs": []
    },
    {
      "cell_type": "code",
      "metadata": {
        "id": "rDdOPqR038EQ"
      },
      "source": [
        "S2meanrefA1_4 = list()\n",
        "S2meanA3_1 = list()\n",
        "for i in range(S2HSV_imgA1A3_1.shape[0]): \n",
        "     for j in range(S2HSV_imgA1A3_1.shape[1]): \n",
        "                if 1769<i<1881 and 2019<j<2131 :\n",
        "                  S2meanrefA1_4.append(S2HSV_imgA1A3_1[i][j])\n",
        "                if 1770<i<1880 and 2015<j<2145 :\n",
        "                  S2meanA3_1.append(S2HSV_imgA1A3_1[i][j])  \n",
        "S2meanrefA1_4 = np.array(S2meanrefA1_4)\n",
        "S2meanA3_1 = np.array(S2meanA3_1)\n",
        "\n",
        "S2hsvrefA1_4 = list()\n",
        "S2hsvA3_1 = list()\n",
        "for i in range(3):\n",
        "    S2hsvrefA1_4.append(S2meanrefA1_4[:,i].mean())\n",
        "    S2hsvA3_1.append(S2meanA3_1[:,i].mean())"
      ],
      "execution_count": 227,
      "outputs": []
    },
    {
      "cell_type": "code",
      "metadata": {
        "id": "PQG1Hr-e38ER"
      },
      "source": [
        "S2meanrefA1_5 = list()\n",
        "S2meanA3_51 = list()\n",
        "for i in range(S2HSV_imgA1A3_51.shape[0]): \n",
        "     for j in range(S2HSV_imgA1A3_51.shape[1]): \n",
        "                if 1769<i<1881 and 2019<j<2131 :\n",
        "                  S2meanrefA1_5.append(S2HSV_imgA1A3_51[i][j])\n",
        "                if 1770<i<1880 and 2015<j<2145 :\n",
        "                  S2meanA3_51.append(S2HSV_imgA1A3_51[i][j])  \n",
        "S2meanrefA1_5 = np.array(S2meanrefA1_5)\n",
        "S2meanA3_51 = np.array(S2meanA3_51)\n",
        "\n",
        "S2hsvrefA1_5 = list()\n",
        "S2hsvA3_51 = list()\n",
        "for i in range(3):\n",
        "    S2hsvrefA1_5.append(S2meanrefA1_5[:,i].mean())\n",
        "    S2hsvA3_51.append(S2meanA3_51[:,i].mean())"
      ],
      "execution_count": 228,
      "outputs": []
    },
    {
      "cell_type": "code",
      "metadata": {
        "id": "-gyjMDPc38ER"
      },
      "source": [
        "S2meanrefA1_6 = list()\n",
        "S2meanA4_1 = list()\n",
        "for i in range(S2HSV_imgA1A4_1.shape[0]): \n",
        "     for j in range(S2HSV_imgA1A4_1.shape[1]): \n",
        "                if 1769<i<1881 and 2019<j<2131 :\n",
        "                  S2meanrefA1_6.append(S2HSV_imgA1A4_1[i][j])\n",
        "                if 1770<i<1880 and 2015<j<2145 :\n",
        "                  S2meanA4_1.append(S2HSV_imgA1A4_1[i][j])  \n",
        "S2meanrefA1_6 = np.array(S2meanrefA1_6)\n",
        "S2meanA4_1 = np.array(S2meanA4_1)\n",
        "\n",
        "S2hsvrefA1_6 = list()\n",
        "S2hsvA4_1 = list()\n",
        "for i in range(3):\n",
        "    S2hsvrefA1_6.append(S2meanrefA1_6[:,i].mean())\n",
        "    S2hsvA4_1.append(S2meanA4_1[:,i].mean())"
      ],
      "execution_count": 229,
      "outputs": []
    },
    {
      "cell_type": "code",
      "metadata": {
        "id": "AHL4-ILN38ER"
      },
      "source": [
        "S2meanrefA1_7 = list()\n",
        "S2meanB1_1 = list()\n",
        "for i in range(S2HSV_imgA1B1_1.shape[0]): \n",
        "     for j in range(S2HSV_imgA1B1_1.shape[1]): \n",
        "                if 1769<i<1881 and 2019<j<2131 :\n",
        "                  S2meanrefA1_7.append(S2HSV_imgA1B1_1[i][j])\n",
        "                if 1770<i<1880 and 2015<j<2145 :\n",
        "                  S2meanB1_1.append(S2HSV_imgA1B1_1[i][j])  \n",
        "S2meanrefA1_7 = np.array(S2meanrefA1_7)\n",
        "S2meanB1_1 = np.array(S2meanB1_1)\n",
        "\n",
        "S2hsvrefA1_7 = list()\n",
        "S2hsvB1_1 = list()\n",
        "for i in range(3):\n",
        "    S2hsvrefA1_7.append(S2meanrefA1_7[:,i].mean())\n",
        "    S2hsvB1_1.append(S2meanB1_1[:,i].mean())"
      ],
      "execution_count": 230,
      "outputs": []
    },
    {
      "cell_type": "code",
      "metadata": {
        "id": "5zl5t_oP38ES"
      },
      "source": [
        "S2meanrefA1_8 = list()\n",
        "S2meanB2_1 = list()\n",
        "for i in range(S2HSV_imgA1B2_1.shape[0]): \n",
        "     for j in range(S2HSV_imgA1B2_1.shape[1]): \n",
        "                if 1769<i<1881 and 2019<j<2131 :\n",
        "                  S2meanrefA1_8.append(S2HSV_imgA1B2_1[i][j])\n",
        "                if 1770<i<1880 and 2015<j<2145 :\n",
        "                  S2meanB2_1.append(S2HSV_imgA1B2_1[i][j])  \n",
        "S2meanrefA1_8 = np.array(S2meanrefA1_8)\n",
        "S2meanB2_1 = np.array(S2meanB2_1)\n",
        "\n",
        "S2hsvrefA1_8 = list()\n",
        "S2hsvB2_1 = list()\n",
        "for i in range(3):\n",
        "    S2hsvrefA1_8.append(S2meanrefA1_8[:,i].mean())\n",
        "    S2hsvB2_1.append(S2meanB2_1[:,i].mean())"
      ],
      "execution_count": 231,
      "outputs": []
    },
    {
      "cell_type": "code",
      "metadata": {
        "id": "E1RqZXxZ38ES"
      },
      "source": [
        "S2meanrefA1_9 = list()\n",
        "S2meanB3_1 = list()\n",
        "for i in range(S2HSV_imgA1B3_1.shape[0]): \n",
        "     for j in range(S2HSV_imgA1B3_1.shape[1]): \n",
        "                if 1769<i<1881 and 2019<j<2131 :\n",
        "                  S2meanrefA1_9.append(S2HSV_imgA1B3_1[i][j])\n",
        "                if 1770<i<1880 and 2015<j<2145 :\n",
        "                  S2meanB3_1.append(S2HSV_imgA1B3_1[i][j])  \n",
        "S2meanrefA1_9 = np.array(S2meanrefA1_9)\n",
        "S2meanB3_1 = np.array(S2meanB3_1)\n",
        "\n",
        "S2hsvrefA1_9 = list()\n",
        "S2hsvB3_1 = list()\n",
        "for i in range(3):\n",
        "    S2hsvrefA1_9.append(S2meanrefA1_9[:,i].mean())\n",
        "    S2hsvB3_1.append(S2meanB3_1[:,i].mean())"
      ],
      "execution_count": 232,
      "outputs": []
    },
    {
      "cell_type": "code",
      "metadata": {
        "id": "p3kHLyi538ES"
      },
      "source": [
        "S2meanrefA1_10 = list()\n",
        "S2meanB4_1 = list()\n",
        "for i in range(S2HSV_imgA1B4_1.shape[0]): \n",
        "     for j in range(S2HSV_imgA1B4_1.shape[1]): \n",
        "                if 1769<i<1881 and 2019<j<2131 :\n",
        "                  S2meanrefA1_10.append(S2HSV_imgA1B4_1[i][j])\n",
        "                if 1770<i<1880 and 2015<j<2145 :\n",
        "                  S2meanB4_1.append(S2HSV_imgA1B4_1[i][j])  \n",
        "S2meanrefA1_10 = np.array(S2meanrefA1_10)\n",
        "S2meanB4_1 = np.array(S2meanB4_1)\n",
        "\n",
        "S2hsvrefA1_10 = list()\n",
        "S2hsvB4_1 = list()\n",
        "for i in range(3):\n",
        "    S2hsvrefA1_10.append(S2meanrefA1_10[:,i].mean())\n",
        "    S2hsvB4_1.append(S2meanB4_1[:,i].mean())"
      ],
      "execution_count": 233,
      "outputs": []
    },
    {
      "cell_type": "code",
      "metadata": {
        "id": "O8w3LpXU38ET"
      },
      "source": [
        "S2meanrefA1_11 = list()\n",
        "S2meanC1_1 = list()\n",
        "for i in range(S2HSV_imgA1C1_1.shape[0]): \n",
        "     for j in range(S2HSV_imgA1C1_1.shape[1]): \n",
        "                if 1769<i<1881 and 2019<j<2131 :\n",
        "                  S2meanrefA1_11.append(S2HSV_imgA1C1_1[i][j])\n",
        "                if 1770<i<1880 and 2015<j<2145 :\n",
        "                   S2meanC1_1.append(S2HSV_imgA1C1_1[i][j])  \n",
        "S2meanrefA1_11 = np.array(S2meanrefA1_11)\n",
        "S2meanC1_1 = np.array(S2meanC1_1)\n",
        "\n",
        "S2hsvrefA1_11 = list()\n",
        "S2hsvC1_1 = list()\n",
        "for i in range(3):\n",
        "    S2hsvrefA1_11.append(S2meanrefA1_11[:,i].mean())\n",
        "    S2hsvC1_1.append(S2meanC1_1[:,i].mean())"
      ],
      "execution_count": 234,
      "outputs": []
    },
    {
      "cell_type": "code",
      "metadata": {
        "id": "AzOf_HLF38ET"
      },
      "source": [
        "S2meanrefA1_12 = list()\n",
        "S2meanC2_1 = list()\n",
        "for i in range(S2HSV_imgA1C2_1.shape[0]): \n",
        "     for j in range(S2HSV_imgA1C2_1.shape[1]): \n",
        "                if 1769<i<1881 and 2019<j<2131 :\n",
        "                  S2meanrefA1_12.append(S2HSV_imgA1C2_1[i][j])\n",
        "                if 1770<i<1880 and 2015<j<2145 :\n",
        "                  S2meanC2_1.append(S2HSV_imgA1C2_1[i][j])  \n",
        "S2meanrefA1_12 = np.array(S2meanrefA1_12)\n",
        "S2meanC2_1 = np.array(S2meanC2_1)\n",
        "\n",
        "S2hsvrefA1_12 = list()\n",
        "S2hsvC2_1 = list()\n",
        "for i in range(3):\n",
        "    S2hsvrefA1_12.append(S2meanrefA1_12[:,i].mean())\n",
        "    S2hsvC2_1.append(S2meanC2_1[:,i].mean())"
      ],
      "execution_count": 235,
      "outputs": []
    },
    {
      "cell_type": "code",
      "metadata": {
        "id": "jwE3nPXZ38ET"
      },
      "source": [
        "S2meanrefA1_13 = list()\n",
        "S2meanC3_1 = list()\n",
        "for i in range(S2HSV_imgA1C3_1.shape[0]): \n",
        "     for j in range(S2HSV_imgA1C3_1.shape[1]): \n",
        "                if 1769<i<1881 and 2019<j<2131 :\n",
        "                  S2meanrefA1_13.append(S2HSV_imgA1C3_1[i][j])\n",
        "                if 1770<i<1880 and 2015<j<2145 :\n",
        "                  S2meanC3_1.append(S2HSV_imgA1C3_1[i][j])  \n",
        "S2meanrefA1_13 = np.array(S2meanrefA1_13)\n",
        "S2meanC3_1 = np.array(S2meanC3_1)\n",
        "\n",
        "S2hsvrefA1_13 = list()\n",
        "S2hsvC3_1 = list()\n",
        "for i in range(3):\n",
        "    S2hsvrefA1_13.append(S2meanrefA1_13[:,i].mean())\n",
        "    S2hsvC3_1.append(S2meanC3_1[:,i].mean())"
      ],
      "execution_count": 236,
      "outputs": []
    },
    {
      "cell_type": "code",
      "metadata": {
        "id": "5CiV9v1738EU"
      },
      "source": [
        "S2meanrefA1_14 = list()\n",
        "S2meanC4_1 = list()\n",
        "for i in range(S2HSV_imgA1C4_1.shape[0]): \n",
        "     for j in range(S2HSV_imgA1C4_1.shape[1]): \n",
        "                if 1769<i<1881 and 2019<j<2131 :\n",
        "                  S2meanrefA1_14.append(S2HSV_imgA1C4_1[i][j])\n",
        "                if 1770<i<1880 and 2015<j<2145 :\n",
        "                  S2meanC4_1.append(S2HSV_imgA1C4_1[i][j])  \n",
        "S2meanrefA1_14 = np.array(S2meanrefA1_14)\n",
        "S2meanC4_1 = np.array(S2meanC4_1)\n",
        "\n",
        "S2hsvrefA1_14 = list()\n",
        "S2hsvC4_1 = list()\n",
        "for i in range(3):\n",
        "    S2hsvrefA1_14.append(S2meanrefA1_14[:,i].mean())\n",
        "    S2hsvC4_1.append(S2meanC4_1[:,i].mean())"
      ],
      "execution_count": 237,
      "outputs": []
    },
    {
      "cell_type": "code",
      "metadata": {
        "id": "FQZ1oTeg38EU"
      },
      "source": [
        "S2meanrefA1_15 = list()\n",
        "S2meanD2_1 = list()\n",
        "for i in range(S2HSV_imgA1D2_1.shape[0]): \n",
        "     for j in range(S2HSV_imgA1D2_1.shape[1]): \n",
        "                if 1769<i<1881 and 2019<j<2131 :\n",
        "                  S2meanrefA1_15.append(S2HSV_imgA1D2_1[i][j])\n",
        "                if 1770<i<1880 and 2015<j<2145 :\n",
        "                  S2meanD2_1.append(S2HSV_imgA1D2_1[i][j])  \n",
        "S2meanrefA1_15 = np.array(S2meanrefA1_15)\n",
        "S2meanD2_1 = np.array(S2meanD2_1)\n",
        "\n",
        "S2hsvrefA1_15 = list()\n",
        "S2hsvD2_1 = list()\n",
        "for i in range(3):\n",
        "    S2hsvrefA1_15.append(S2meanrefA1_15[:,i].mean())\n",
        "    S2hsvD2_1.append(S2meanD2_1[:,i].mean())"
      ],
      "execution_count": 238,
      "outputs": []
    },
    {
      "cell_type": "code",
      "metadata": {
        "id": "wr9WHr4N38EV"
      },
      "source": [
        "S2meanrefA1_16 = list()\n",
        "S2meanD3_1 = list()\n",
        "for i in range(S2HSV_imgA1D3_1.shape[0]): \n",
        "     for j in range(S2HSV_imgA1D3_1.shape[1]): \n",
        "                if 1769<i<1881 and 2019<j<2131 :\n",
        "                  S2meanrefA1_16.append(S2HSV_imgA1D3_1[i][j])\n",
        "                if 1770<i<1880 and 2015<j<2145 :\n",
        "                  S2meanD3_1.append(S2HSV_imgA1D3_1[i][j])  \n",
        "S2meanrefA1_16 = np.array(S2meanrefA1_16)\n",
        "S2meanD3_1 = np.array(S2meanD3_1)\n",
        "\n",
        "S2hsvrefA1_16 = list()\n",
        "S2hsvD3_1 = list()\n",
        "for i in range(3):\n",
        "    S2hsvrefA1_16.append(S2meanrefA1_16[:,i].mean())\n",
        "    S2hsvD3_1.append(S2meanD3_1[:,i].mean())"
      ],
      "execution_count": 239,
      "outputs": []
    },
    {
      "cell_type": "code",
      "metadata": {
        "id": "jkHML5jK38EV"
      },
      "source": [
        "S2meanrefA1_17= list()\n",
        "S2meanD4_1 = list()\n",
        "for i in range(S2HSV_imgA1D4_1.shape[0]): \n",
        "     for j in range(S2HSV_imgA1D4_1.shape[1]): \n",
        "                if 1769<i<1881 and 2019<j<2131 :\n",
        "                  S2meanrefA1_17.append(S2HSV_imgA1D4_1[i][j])\n",
        "                if 1770<i<1880 and 2015<j<2145 :\n",
        "                  S2meanD4_1.append(S2HSV_imgA1D4_1[i][j])  \n",
        "S2meanrefA1_17 = np.array(S2meanrefA1_14)\n",
        "S2meanD4_1 = np.array(S2meanD4_1)\n",
        "\n",
        "S2hsvrefA1_17 = list()\n",
        "S2hsvD4_1 = list()\n",
        "for i in range(3):\n",
        "    S2hsvrefA1_17.append(S2meanrefA1_17[:,i].mean())\n",
        "    S2hsvD4_1.append(S2meanD4_1[:,i].mean())"
      ],
      "execution_count": 240,
      "outputs": []
    },
    {
      "cell_type": "markdown",
      "metadata": {
        "id": "UyfpA9axOKdX"
      },
      "source": [
        "##Set3"
      ]
    },
    {
      "cell_type": "markdown",
      "metadata": {
        "id": "Nc5jeIh8BMnk"
      },
      "source": [
        "###RGB"
      ]
    },
    {
      "cell_type": "code",
      "metadata": {
        "id": "vzu7ETU0Q8KG"
      },
      "source": [
        "S3meanrefA1_1 = list()\n",
        "S3meanA1_2 = list()\n",
        "for i in range(S3RGB_imgA1A1_1.shape[0]): #ให้ i รันตาม row หรือ shape[0] คือแถว มีทั้งหมด 4032 แถว ของภาพที่ปรับขนาดมาแล้ว\n",
        "     for j in range(S3RGB_imgA1A1_1.shape[1]): #ให้ j รันตาม colum มีทั้งหมด 3024 colum เช่น แถวที่ 1 เข้ามาให้รันครบ 3024colum\n",
        "                if 1769<i<1881 and 2019<j<2131 :\n",
        "                  S3meanrefA1_1.append(S3RGB_imgA1A1_1[i][j])\n",
        "                if 1770<i<1880 and 2015<j<2145 :\n",
        "                  S3meanA1_2.append(S3RGB_imgA1A1_1[i][j])  \n",
        "S3meanrefA1_1 = np.array(S3meanrefA1_1)\n",
        "S3meanA1_2 = np.array(S3meanA1_2)\n",
        "\n",
        "S3rgbrefA1_1 = list()\n",
        "S3rgbA1_2 = list()\n",
        "for i in range(3):\n",
        "    S3rgbrefA1_1.append(S3meanrefA1_1[:,i].mean())\n",
        "    S3rgbA1_2.append(S3meanA1_2[:,i].mean()) "
      ],
      "execution_count": null,
      "outputs": []
    },
    {
      "cell_type": "code",
      "metadata": {
        "id": "JcDCL03-Q8KG"
      },
      "source": [
        "S3meanrefA1_3 = list()\n",
        "S3meanA2_1 = list()\n",
        "for i in range(S3RGB_imgA1A2_1.shape[0]): \n",
        "     for j in range(S3RGB_imgA1A2_1.shape[1]): \n",
        "                if 1769<i<1881 and 2019<j<2131 :\n",
        "                  S3meanrefA1_3.append(S3RGB_imgA1A2_1[i][j])\n",
        "                if 1770<i<1880 and 2015<j<2145 :\n",
        "                  S3meanA2_1.append(S3RGB_imgA1A2_1[i][j])  \n",
        "S3meanrefA1_3 = np.array(S3meanrefA1_3)\n",
        "S3meanA2_1 = np.array(S3meanA2_1)\n",
        "\n",
        "S3rgbrefA1_3 = list()\n",
        "S3rgbA2_1 = list()\n",
        "for i in range(3):\n",
        "    S3rgbrefA1_3.append(S3meanrefA1_3[:,i].mean())\n",
        "    S3rgbA2_1.append(S3meanA2_1[:,i].mean())"
      ],
      "execution_count": null,
      "outputs": []
    },
    {
      "cell_type": "code",
      "metadata": {
        "id": "olk_e71jQ8KG"
      },
      "source": [
        "S3meanrefA1_4 = list()\n",
        "S3meanA3_1 = list()\n",
        "for i in range(S3RGB_imgA1A3_1.shape[0]): \n",
        "     for j in range(S3RGB_imgA1A3_1.shape[1]): \n",
        "                if 1769<i<1881 and 2019<j<2131 :\n",
        "                  S3meanrefA1_4.append(S3RGB_imgA1A3_1[i][j])\n",
        "                if 1770<i<1880 and 2015<j<2145 :\n",
        "                  S3meanA3_1.append(S3RGB_imgA1A3_1[i][j])  \n",
        "S3meanrefA1_4 = np.array(S3meanrefA1_4)\n",
        "S3meanA3_1 = np.array(S3meanA3_1)\n",
        "\n",
        "S3rgbrefA1_4 = list()\n",
        "S3rgbA3_1 = list()\n",
        "for i in range(3):\n",
        "    S3rgbrefA1_4.append(S3meanrefA1_4[:,i].mean())\n",
        "    S3rgbA3_1.append(S3meanA3_1[:,i].mean())"
      ],
      "execution_count": null,
      "outputs": []
    },
    {
      "cell_type": "code",
      "metadata": {
        "id": "4ubTTwCYQ8KG"
      },
      "source": [
        "S3meanrefA1_5 = list()\n",
        "S3meanA3_51 = list()\n",
        "for i in range(S3RGB_imgA1A3_51.shape[0]): \n",
        "     for j in range(S3RGB_imgA1A3_51.shape[1]): \n",
        "                if 1769<i<1881 and 2019<j<2131 :\n",
        "                  S3meanrefA1_5.append(S3RGB_imgA1A3_51[i][j])\n",
        "                if 1770<i<1880 and 2015<j<2145 :\n",
        "                  S3meanA3_51.append(S3RGB_imgA1A3_51[i][j])  \n",
        "S3meanrefA1_5 = np.array(S3meanrefA1_5)\n",
        "S3meanA3_51 = np.array(S3meanA3_51)\n",
        "\n",
        "S3rgbrefA1_5 = list()\n",
        "S3rgbA3_51 = list()\n",
        "for i in range(3):\n",
        "    S3rgbrefA1_5.append(S3meanrefA1_5[:,i].mean())\n",
        "    S3rgbA3_51.append(S3meanA3_51[:,i].mean())"
      ],
      "execution_count": null,
      "outputs": []
    },
    {
      "cell_type": "code",
      "metadata": {
        "id": "fxg9nXv8Q8KG"
      },
      "source": [
        "S3meanrefA1_6 = list()\n",
        "S3meanA4_1 = list()\n",
        "for i in range(S3RGB_imgA1A4_1.shape[0]): \n",
        "     for j in range(S3RGB_imgA1A4_1.shape[1]): \n",
        "                if 1769<i<1881 and 2019<j<2131 :\n",
        "                  S3meanrefA1_6.append(S3RGB_imgA1A4_1[i][j])\n",
        "                if 1770<i<1880 and 2015<j<2145 :\n",
        "                  S3meanA4_1.append(S3RGB_imgA1A4_1[i][j])  \n",
        "S3meanrefA1_6 = np.array(S3meanrefA1_6)\n",
        "S3meanA4_1 = np.array(S3meanA4_1)\n",
        "\n",
        "S3rgbrefA1_6 = list()\n",
        "S3rgbA4_1 = list()\n",
        "for i in range(3):\n",
        "    S3rgbrefA1_6.append(S3meanrefA1_6[:,i].mean())\n",
        "    S3rgbA4_1.append(S3meanA4_1[:,i].mean())"
      ],
      "execution_count": null,
      "outputs": []
    },
    {
      "cell_type": "code",
      "metadata": {
        "id": "EOz8gLLYQ8KG"
      },
      "source": [
        "S3meanrefA1_7 = list()\n",
        "S3meanB1_1 = list()\n",
        "for i in range(S3RGB_imgA1B1_1.shape[0]): \n",
        "     for j in range(S3RGB_imgA1B1_1.shape[1]): \n",
        "                if 1769<i<1881 and 2019<j<2131 :\n",
        "                  S3meanrefA1_7.append(S3RGB_imgA1B1_1[i][j])\n",
        "                if 1770<i<1880 and 2015<j<2145 :\n",
        "                  S3meanB1_1.append(S3RGB_imgA1B1_1[i][j])  \n",
        "S3meanrefA1_7 = np.array(S3meanrefA1_7)\n",
        "S3meanB1_1 = np.array(S3meanB1_1)\n",
        "\n",
        "S3rgbrefA1_7 = list()\n",
        "S3rgbB1_1 = list()\n",
        "for i in range(3):\n",
        "    S3rgbrefA1_7.append(S3meanrefA1_7[:,i].mean())\n",
        "    S3rgbB1_1.append(S3meanB1_1[:,i].mean())"
      ],
      "execution_count": null,
      "outputs": []
    },
    {
      "cell_type": "code",
      "metadata": {
        "id": "9Hxao6vXQ8KH"
      },
      "source": [
        "S3meanrefA1_8 = list()\n",
        "S3meanB2_1 = list()\n",
        "for i in range(S3RGB_imgA1B2_1.shape[0]): \n",
        "     for j in range(S3RGB_imgA1B2_1.shape[1]): \n",
        "                if 1769<i<1881 and 2019<j<2131 :\n",
        "                  S3meanrefA1_8.append(S3RGB_imgA1B2_1[i][j])\n",
        "                if 1770<i<1880 and 2015<j<2145 :\n",
        "                  S3meanB2_1.append(S3RGB_imgA1B2_1[i][j])  \n",
        "S3meanrefA1_8 = np.array(S3meanrefA1_8)\n",
        "S3meanB2_1 = np.array(S3meanB2_1)\n",
        "\n",
        "S3rgbrefA1_8 = list()\n",
        "S3rgbB2_1 = list()\n",
        "for i in range(3):\n",
        "    S3rgbrefA1_8.append(S3meanrefA1_8[:,i].mean())\n",
        "    S3rgbB2_1.append(S3meanB2_1[:,i].mean())"
      ],
      "execution_count": null,
      "outputs": []
    },
    {
      "cell_type": "code",
      "metadata": {
        "id": "x3URzi7NQ8KH"
      },
      "source": [
        "S3meanrefA1_9 = list()\n",
        "S3meanB3_1 = list()\n",
        "for i in range(S3RGB_imgA1B3_1.shape[0]): \n",
        "     for j in range(S3RGB_imgA1B3_1.shape[1]): \n",
        "                if 1769<i<1881 and 2019<j<2131 :\n",
        "                  S3meanrefA1_9.append(S3RGB_imgA1B3_1[i][j])\n",
        "                if 1770<i<1880 and 2015<j<2145 :\n",
        "                  S3meanB3_1.append(S3RGB_imgA1B3_1[i][j])  \n",
        "S3meanrefA1_9 = np.array(S3meanrefA1_9)\n",
        "S3meanB3_1 = np.array(S3meanB3_1)\n",
        "\n",
        "S3rgbrefA1_9 = list()\n",
        "S3rgbB3_1 = list()\n",
        "for i in range(3):\n",
        "    S3rgbrefA1_9.append(S3meanrefA1_9[:,i].mean())\n",
        "    S3rgbB3_1.append(S3meanB3_1[:,i].mean())"
      ],
      "execution_count": null,
      "outputs": []
    },
    {
      "cell_type": "code",
      "metadata": {
        "id": "ll53-jAbQ8KH"
      },
      "source": [
        "S3meanrefA1_10 = list()\n",
        "S3meanB4_1 = list()\n",
        "for i in range(S3RGB_imgA1B4_1.shape[0]): \n",
        "     for j in range(S3RGB_imgA1B4_1.shape[1]): \n",
        "                if 1769<i<1881 and 2019<j<2131 :\n",
        "                  S3meanrefA1_10.append(S3RGB_imgA1B4_1[i][j])\n",
        "                if 1770<i<1880 and 2015<j<2145 :\n",
        "                  S3meanB4_1.append(S3RGB_imgA1B4_1[i][j])  \n",
        "S3meanrefA1_10 = np.array(S3meanrefA1_10)\n",
        "S3meanB4_1 = np.array(S3meanB4_1)\n",
        "\n",
        "S3rgbrefA1_10 = list()\n",
        "S3rgbB4_1 = list()\n",
        "for i in range(3):\n",
        "    S3rgbrefA1_10.append(S3meanrefA1_10[:,i].mean())\n",
        "    S3rgbB4_1.append(S3meanB4_1[:,i].mean())"
      ],
      "execution_count": null,
      "outputs": []
    },
    {
      "cell_type": "code",
      "metadata": {
        "id": "G0LKXkLIQ8KH"
      },
      "source": [
        "S3meanrefA1_11 = list()\n",
        "S3meanC1_1 = list()\n",
        "for i in range(S3RGB_imgA1C1_1.shape[0]): \n",
        "     for j in range(S3RGB_imgA1C1_1.shape[1]): \n",
        "                if 1769<i<1881 and 2019<j<2131 :\n",
        "                  S3meanrefA1_11.append(S3RGB_imgA1C1_1[i][j])\n",
        "                if 1770<i<1880 and 2015<j<2145 :\n",
        "                  S3meanC1_1.append(S3RGB_imgA1C1_1[i][j])  \n",
        "S3meanrefA1_11 = np.array(S3meanrefA1_11)\n",
        "S3meanC1_1 = np.array(S3meanC1_1)\n",
        "\n",
        "S3rgbrefA1_11 = list()\n",
        "S3rgbC1_1 = list()\n",
        "for i in range(3):\n",
        "    S3rgbrefA1_11.append(S3meanrefA1_11[:,i].mean())\n",
        "    S3rgbC1_1.append(S3meanC1_1[:,i].mean())"
      ],
      "execution_count": null,
      "outputs": []
    },
    {
      "cell_type": "code",
      "metadata": {
        "id": "JepvVeIBQ8KH"
      },
      "source": [
        "S3meanrefA1_12 = list()\n",
        "S3meanC2_1 = list()\n",
        "for i in range(S3RGB_imgA1C2_1.shape[0]): \n",
        "     for j in range(S3RGB_imgA1C2_1.shape[1]): \n",
        "                if 1769<i<1881 and 2019<j<2131 :\n",
        "                  S3meanrefA1_12.append(S3RGB_imgA1C2_1[i][j])\n",
        "                if 1770<i<1880 and 2015<j<2145 :\n",
        "                  S3meanC2_1.append(S3RGB_imgA1C2_1[i][j])  \n",
        "S3meanrefA1_12 = np.array(S3meanrefA1_12)\n",
        "S3meanC2_1 = np.array(S3meanC2_1)\n",
        "\n",
        "S3rgbrefA1_12 = list()\n",
        "S3rgbC2_1 = list()\n",
        "for i in range(3):\n",
        "    S3rgbrefA1_12.append(S3meanrefA1_12[:,i].mean())\n",
        "    S3rgbC2_1.append(S3meanC2_1[:,i].mean())"
      ],
      "execution_count": null,
      "outputs": []
    },
    {
      "cell_type": "code",
      "metadata": {
        "id": "IFRuGLFoQ8KH"
      },
      "source": [
        "S3meanrefA1_13 = list()\n",
        "S3meanC3_1 = list()\n",
        "for i in range(S3RGB_imgA1C3_1.shape[0]): \n",
        "     for j in range(S3RGB_imgA1C3_1.shape[1]): \n",
        "                if 1769<i<1881 and 2019<j<2131 :\n",
        "                  S3meanrefA1_13.append(S3RGB_imgA1C3_1[i][j])\n",
        "                if 1770<i<1880 and 2015<j<2145 :\n",
        "                  S3meanC3_1.append(S3RGB_imgA1C3_1[i][j])  \n",
        "S3meanrefA1_13 = np.array(S3meanrefA1_13)\n",
        "S3meanC3_1 = np.array(S3meanC3_1)\n",
        "\n",
        "S3rgbrefA1_13 = list()\n",
        "S3rgbC3_1 = list()\n",
        "for i in range(3):\n",
        "    S3rgbrefA1_13.append(S3meanrefA1_13[:,i].mean())\n",
        "    S3rgbC3_1.append(S3meanC3_1[:,i].mean())"
      ],
      "execution_count": null,
      "outputs": []
    },
    {
      "cell_type": "code",
      "metadata": {
        "id": "r5vFfCOwQ8KH"
      },
      "source": [
        "S3meanrefA1_14 = list()\n",
        "S3meanC4_1 = list()\n",
        "for i in range(S3RGB_imgA1C4_1.shape[0]): \n",
        "     for j in range(S3RGB_imgA1C4_1.shape[1]): \n",
        "                if 1769<i<1881 and 2019<j<2131 :\n",
        "                  S3meanrefA1_14.append(S3RGB_imgA1C4_1[i][j])\n",
        "                if 1770<i<1880 and 2015<j<2145 :\n",
        "                  S3meanC4_1.append(S3RGB_imgA1C4_1[i][j])  \n",
        "S3meanrefA1_14 = np.array(S3meanrefA1_14)\n",
        "S3meanC4_1 = np.array(S3meanC4_1)\n",
        "\n",
        "S3rgbrefA1_14 = list()\n",
        "S3rgbC4_1 = list()\n",
        "for i in range(3):\n",
        "    S3rgbrefA1_14.append(S3meanrefA1_14[:,i].mean())\n",
        "    S3rgbC4_1.append(S3meanC4_1[:,i].mean())"
      ],
      "execution_count": null,
      "outputs": []
    },
    {
      "cell_type": "code",
      "metadata": {
        "id": "k8R-0grfQ8KH"
      },
      "source": [
        "S3meanrefA1_15 = list()\n",
        "S3meanD2_1 = list()\n",
        "for i in range(S3RGB_imgA1D2_1.shape[0]): \n",
        "     for j in range(S3RGB_imgA1D2_1.shape[1]): \n",
        "                if 1769<i<1881 and 2019<j<2131 :\n",
        "                  S3meanrefA1_15.append(S3RGB_imgA1D2_1[i][j])\n",
        "                if 1770<i<1880 and 2015<j<2145 :\n",
        "                  S3meanD2_1.append(S3RGB_imgA1D2_1[i][j])  \n",
        "S3meanrefA1_15 = np.array(S3meanrefA1_15)\n",
        "S3meanD2_1 = np.array(S3meanD2_1)\n",
        "\n",
        "S3rgbrefA1_15 = list()\n",
        "S3rgbD2_1 = list()\n",
        "for i in range(3):\n",
        "    S3rgbrefA1_15.append(S3meanrefA1_15[:,i].mean())\n",
        "    S3rgbD2_1.append(S3meanD2_1[:,i].mean())"
      ],
      "execution_count": null,
      "outputs": []
    },
    {
      "cell_type": "code",
      "metadata": {
        "id": "6QQq38GUQ8KI"
      },
      "source": [
        "S3meanrefA1_16 = list()\n",
        "S3meanD3_1 = list()\n",
        "for i in range(S3RGB_imgA1D3_1.shape[0]): \n",
        "     for j in range(S3RGB_imgA1D3_1.shape[1]): \n",
        "                if 1769<i<1881 and 2019<j<2131 :\n",
        "                  S3meanrefA1_16.append(S3RGB_imgA1D3_1[i][j])\n",
        "                if 1770<i<1880 and 2015<j<2145 :\n",
        "                  S3meanD3_1.append(S3RGB_imgA1D3_1[i][j])  \n",
        "S3meanrefA1_16 = np.array(S3meanrefA1_16)\n",
        "S3meanD3_1 = np.array(S3meanD3_1)\n",
        "\n",
        "S3rgbrefA1_16 = list()\n",
        "S3rgbD3_1 = list()\n",
        "for i in range(3):\n",
        "    S3rgbrefA1_16.append(S3meanrefA1_16[:,i].mean())\n",
        "    S3rgbD3_1.append(S3meanD3_1[:,i].mean())"
      ],
      "execution_count": null,
      "outputs": []
    },
    {
      "cell_type": "code",
      "metadata": {
        "id": "fC5f7pymQ8KI"
      },
      "source": [
        "S3meanrefA1_17= list()\n",
        "S3meanD4_1 = list()\n",
        "for i in range(S3RGB_imgA1D4_1.shape[0]): \n",
        "     for j in range(S3RGB_imgA1D4_1.shape[1]): \n",
        "                if 1769<i<1881 and 2019<j<2131 :\n",
        "                  S3meanrefA1_17.append(S3RGB_imgA1D4_1[i][j])\n",
        "                if 1770<i<1880 and 2015<j<2145 :\n",
        "                  S3meanD4_1.append(S3RGB_imgA1D4_1[i][j])  \n",
        "S3meanrefA1_17 = np.array(S3meanrefA1_14)\n",
        "S3meanD4_1 = np.array(S3meanD4_1)\n",
        "\n",
        "S3rgbrefA1_17 = list()\n",
        "S3rgbD4_1 = list()\n",
        "for i in range(3):\n",
        "    S3rgbrefA1_17.append(S3meanrefA1_17[:,i].mean())\n",
        "    S3rgbD4_1.append(S3meanD4_1[:,i].mean())"
      ],
      "execution_count": null,
      "outputs": []
    },
    {
      "cell_type": "markdown",
      "metadata": {
        "id": "WV6fij-YBTHT"
      },
      "source": [
        "###HSV"
      ]
    },
    {
      "cell_type": "code",
      "metadata": {
        "id": "CpXqpyMABXOK"
      },
      "source": [
        "S3meanrefA1_1 = list()\n",
        "S3meanA1_2 = list()\n",
        "for i in range(S3HSV_imgA1A1_1.shape[0]): #ให้ i รันตาม row หรือ shape[0] คือแถว มีทั้งหมด 4032 แถว ของภาพที่ปรับขนาดมาแล้ว\n",
        "     for j in range(S3HSV_imgA1A1_1.shape[1]): #ให้ j รันตาม colum มีทั้งหมด 3024 colum เช่น แถวที่ 1 เข้ามาให้รันครบ 3024colum\n",
        "                if 1769<i<1881 and 2019<j<2131 :\n",
        "                  S3meanrefA1_1.append(S3HSV_imgA1A1_1[i][j])\n",
        "                if 1770<i<1880 and 2015<j<2145 :\n",
        "                  S3meanA1_2.append(S3HSV_imgA1A1_1[i][j])  \n",
        "S3meanrefA1_1 = np.array(S3meanrefA1_1)\n",
        "S3meanA1_2 = np.array(S3meanA1_2)\n",
        "\n",
        "S3hsvrefA1_1 = list() \n",
        "S3hsvA1_2 = list()\n",
        "for i in range(3):\n",
        "    S3hsvrefA1_1.append(S3meanrefA1_1[:,i].mean())\n",
        "    S3hsvA1_2.append(S3meanA1_2[:,i].mean()) "
      ],
      "execution_count": null,
      "outputs": []
    },
    {
      "cell_type": "code",
      "metadata": {
        "id": "yeynuRjcBXOL"
      },
      "source": [
        "S3meanrefA1_3 = list()\n",
        "S3meanA2_1 = list()\n",
        "for i in range(S3HSV_imgA1A2_1.shape[0]): \n",
        "     for j in range(S3HSV_imgA1A2_1.shape[1]): \n",
        "                if 1769<i<1881 and 2019<j<2131 :\n",
        "                  S3meanrefA1_3.append(S3HSV_imgA1A2_1[i][j])\n",
        "                if 1770<i<1880 and 2015<j<2145 :\n",
        "                  S3meanA2_1.append(S3HSV_imgA1A2_1[i][j])  \n",
        "S3meanrefA1_3 = np.array(S3meanrefA1_3)\n",
        "S3meanA2_1 = np.array(S3meanA2_1)\n",
        "\n",
        "S3hsvrefA1_3 = list()\n",
        "S3hsvA2_1 = list()\n",
        "for i in range(3):\n",
        "    S3hsvrefA1_3.append(S3meanrefA1_3[:,i].mean())\n",
        "    S3hsvA2_1.append(S3meanA2_1[:,i].mean())"
      ],
      "execution_count": null,
      "outputs": []
    },
    {
      "cell_type": "code",
      "metadata": {
        "id": "qIy6fapuBXOL"
      },
      "source": [
        "S3meanrefA1_4 = list()\n",
        "S3meanA3_1 = list()\n",
        "for i in range(S3HSV_imgA1A3_1.shape[0]): \n",
        "     for j in range(S3HSV_imgA1A3_1.shape[1]): \n",
        "                if 1769<i<1881 and 2019<j<2131 :\n",
        "                  S3meanrefA1_4.append(S3HSV_imgA1A3_1[i][j])\n",
        "                if 1770<i<1880 and 2015<j<2145 :\n",
        "                  S3meanA3_1.append(S3HSV_imgA1A3_1[i][j])  \n",
        "S3meanrefA1_4 = np.array(S3meanrefA1_4)\n",
        "S3meanA3_1 = np.array(S3meanA3_1)\n",
        "\n",
        "S3hsvrefA1_4 = list()\n",
        "S3hsvA3_1 = list()\n",
        "for i in range(3):\n",
        "    S3hsvrefA1_4.append(S3meanrefA1_4[:,i].mean())\n",
        "    S3hsvA3_1.append(S3meanA3_1[:,i].mean())"
      ],
      "execution_count": null,
      "outputs": []
    },
    {
      "cell_type": "code",
      "metadata": {
        "id": "6aVmtceTBXOL"
      },
      "source": [
        "S3meanrefA1_5 = list()\n",
        "S3meanA3_51 = list()\n",
        "for i in range(S3HSV_imgA1A3_51.shape[0]): \n",
        "     for j in range(S3HSV_imgA1A3_51.shape[1]): \n",
        "                if 1769<i<1881 and 2019<j<2131 :\n",
        "                  S3meanrefA1_5.append(S3HSV_imgA1A3_51[i][j])\n",
        "                if 1770<i<1880 and 2015<j<2145 :\n",
        "                  S3meanA3_51.append(S3HSV_imgA1A3_51[i][j])  \n",
        "S3meanrefA1_5 = np.array(S3meanrefA1_5)\n",
        "S3meanA3_51 = np.array(S3meanA3_51)\n",
        "\n",
        "S3hsvrefA1_5 = list()\n",
        "S3hsvA3_51 = list()\n",
        "for i in range(3):\n",
        "    S3hsvrefA1_5.append(S3meanrefA1_5[:,i].mean())\n",
        "    S3hsvA3_51.append(S3meanA3_51[:,i].mean())"
      ],
      "execution_count": null,
      "outputs": []
    },
    {
      "cell_type": "code",
      "metadata": {
        "id": "qLfVtbivBXOL"
      },
      "source": [
        "S3meanrefA1_6 = list()\n",
        "S3meanA4_1 = list()\n",
        "for i in range(S3HSV_imgA1A4_1.shape[0]): \n",
        "     for j in range(S3HSV_imgA1A4_1.shape[1]): \n",
        "                if 1769<i<1881 and 2019<j<2131 :\n",
        "                  S3meanrefA1_6.append(S3HSV_imgA1A4_1[i][j])\n",
        "                if 1770<i<1880 and 2015<j<2145 :\n",
        "                  S3meanA4_1.append(S3HSV_imgA1A4_1[i][j])  \n",
        "S3meanrefA1_6 = np.array(S3meanrefA1_6)\n",
        "S3meanA4_1 = np.array(S3meanA4_1)\n",
        "\n",
        "S3hsvrefA1_6 = list()\n",
        "S3hsvA4_1 = list()\n",
        "for i in range(3):\n",
        "    S3hsvrefA1_6.append(S3meanrefA1_6[:,i].mean())\n",
        "    S3hsvA4_1.append(S3meanA4_1[:,i].mean())"
      ],
      "execution_count": null,
      "outputs": []
    },
    {
      "cell_type": "code",
      "metadata": {
        "id": "q2Q-WdS7BXOL"
      },
      "source": [
        "S3meanrefA1_7 = list()\n",
        "S3meanB1_1 = list()\n",
        "for i in range(S3HSV_imgA1B1_1.shape[0]): \n",
        "     for j in range(S3HSV_imgA1B1_1.shape[1]): \n",
        "                if 1769<i<1881 and 2019<j<2131 :\n",
        "                  S3meanrefA1_7.append(S3HSV_imgA1B1_1[i][j])\n",
        "                if 1770<i<1880 and 2015<j<2145 :\n",
        "                  S3meanB1_1.append(S3HSV_imgA1B1_1[i][j])  \n",
        "S3meanrefA1_7 = np.array(S3meanrefA1_7)\n",
        "S3meanB1_1 = np.array(S3meanB1_1)\n",
        "\n",
        "S3hsvrefA1_7 = list()\n",
        "S3hsvB1_1 = list()\n",
        "for i in range(3):\n",
        "    S3hsvrefA1_7.append(S3meanrefA1_7[:,i].mean())\n",
        "    S3hsvB1_1.append(S3meanB1_1[:,i].mean())"
      ],
      "execution_count": null,
      "outputs": []
    },
    {
      "cell_type": "code",
      "metadata": {
        "id": "J08qg7pfBXOM"
      },
      "source": [
        "S3meanrefA1_8 = list()\n",
        "S3meanB2_1 = list()\n",
        "for i in range(S3HSV_imgA1B2_1.shape[0]): \n",
        "     for j in range(S3HSV_imgA1B2_1.shape[1]): \n",
        "                if 1769<i<1881 and 2019<j<2131 :\n",
        "                  S3meanrefA1_8.append(S3HSV_imgA1B2_1[i][j])\n",
        "                if 1770<i<1880 and 2015<j<2145 :\n",
        "                  S3meanB2_1.append(S3HSV_imgA1B2_1[i][j])  \n",
        "S3meanrefA1_8 = np.array(S3meanrefA1_8)\n",
        "S3meanB2_1 = np.array(S3meanB2_1)\n",
        "\n",
        "S3hsvrefA1_8 = list()\n",
        "S3hsvB2_1 = list()\n",
        "for i in range(3):\n",
        "    S3hsvrefA1_8.append(S3meanrefA1_8[:,i].mean())\n",
        "    S3hsvB2_1.append(S3meanB2_1[:,i].mean())"
      ],
      "execution_count": null,
      "outputs": []
    },
    {
      "cell_type": "code",
      "metadata": {
        "id": "n35b_dAPBXOM"
      },
      "source": [
        "S3meanrefA1_9 = list()\n",
        "S3meanB3_1 = list()\n",
        "for i in range(S3HSV_imgA1B3_1.shape[0]): \n",
        "     for j in range(S3HSV_imgA1B3_1.shape[1]): \n",
        "                if 1769<i<1881 and 2019<j<2131 :\n",
        "                  S3meanrefA1_9.append(S3HSV_imgA1B3_1[i][j])\n",
        "                if 1770<i<1880 and 2015<j<2145 :\n",
        "                  S3meanB3_1.append(S3HSV_imgA1B3_1[i][j])  \n",
        "S3meanrefA1_9 = np.array(S3meanrefA1_9)\n",
        "S3meanB3_1 = np.array(S3meanB3_1)\n",
        "\n",
        "S3hsvrefA1_9 = list()\n",
        "S3hsvB3_1 = list()\n",
        "for i in range(3):\n",
        "    S3hsvrefA1_9.append(S3meanrefA1_9[:,i].mean())\n",
        "    S3hsvB3_1.append(S3meanB3_1[:,i].mean())"
      ],
      "execution_count": null,
      "outputs": []
    },
    {
      "cell_type": "code",
      "metadata": {
        "id": "ldcrAdFEBXOM"
      },
      "source": [
        "S3meanrefA1_10 = list()\n",
        "S3meanB4_1 = list()\n",
        "for i in range(S3HSV_imgA1B4_1.shape[0]): \n",
        "     for j in range(S3HSV_imgA1B4_1.shape[1]): \n",
        "                if 1769<i<1881 and 2019<j<2131 :\n",
        "                  S3meanrefA1_10.append(S3HSV_imgA1B4_1[i][j])\n",
        "                if 1770<i<1880 and 2015<j<2145 :\n",
        "                  S3meanB4_1.append(S3HSV_imgA1B4_1[i][j])  \n",
        "S3meanrefA1_10 = np.array(S3meanrefA1_10)\n",
        "S3meanB4_1 = np.array(S3meanB4_1)\n",
        "\n",
        "S3hsvrefA1_10 = list()\n",
        "S3hsvB4_1 = list()\n",
        "for i in range(3):\n",
        "    S3hsvrefA1_10.append(S3meanrefA1_10[:,i].mean())\n",
        "    S3hsvB4_1.append(S3meanB4_1[:,i].mean())"
      ],
      "execution_count": null,
      "outputs": []
    },
    {
      "cell_type": "code",
      "metadata": {
        "id": "EWeFPjRPBXOM"
      },
      "source": [
        "S3meanrefA1_11 = list()\n",
        "S3meanC1_1 = list()\n",
        "for i in range(S3HSV_imgA1C1_1.shape[0]): \n",
        "     for j in range(S3HSV_imgA1C1_1.shape[1]): \n",
        "                if 1769<i<1881 and 2019<j<2131 :\n",
        "                  S3meanrefA1_11.append(S3HSV_imgA1C1_1[i][j])\n",
        "                if 1770<i<1880 and 2015<j<2145 :\n",
        "                  S3meanC1_1.append(S3HSV_imgA1C1_1[i][j])  \n",
        "S3meanrefA1_11 = np.array(S3meanrefA1_11)\n",
        "S3meanC1_1 = np.array(S3meanC1_1)\n",
        "\n",
        "S3hsvrefA1_11 = list()\n",
        "S3hsvC1_1 = list()\n",
        "for i in range(3):\n",
        "    S3hsvrefA1_11.append(S3meanrefA1_11[:,i].mean())\n",
        "    S3hsvC1_1.append(S3meanC1_1[:,i].mean())"
      ],
      "execution_count": null,
      "outputs": []
    },
    {
      "cell_type": "code",
      "metadata": {
        "id": "RhVK-RAABXON"
      },
      "source": [
        "S3meanrefA1_12 = list()\n",
        "S3meanC2_1 = list()\n",
        "for i in range(S3HSV_imgA1C2_1.shape[0]): \n",
        "     for j in range(S3HSV_imgA1C2_1.shape[1]): \n",
        "                if 1769<i<1881 and 2019<j<2131 :\n",
        "                  S3meanrefA1_12.append(S3HSV_imgA1C2_1[i][j])\n",
        "                if 1770<i<1880 and 2015<j<2145 :\n",
        "                  S3meanC2_1.append(S3HSV_imgA1C2_1[i][j])  \n",
        "S3meanrefA1_12 = np.array(S3meanrefA1_12)\n",
        "S3meanC2_1 = np.array(S3meanC2_1)\n",
        "\n",
        "S3hsvrefA1_12 = list()\n",
        "S3hsvC2_1 = list()\n",
        "for i in range(3):\n",
        "    S3hsvrefA1_12.append(S3meanrefA1_12[:,i].mean())\n",
        "    S3hsvC2_1.append(S3meanC2_1[:,i].mean())"
      ],
      "execution_count": null,
      "outputs": []
    },
    {
      "cell_type": "code",
      "metadata": {
        "id": "FkVS08wpBXON"
      },
      "source": [
        "S3meanrefA1_13 = list()\n",
        "S3meanC3_1 = list()\n",
        "for i in range(S3HSV_imgA1C3_1.shape[0]): \n",
        "     for j in range(S3HSV_imgA1C3_1.shape[1]): \n",
        "                if 1769<i<1881 and 2019<j<2131 :\n",
        "                  S3meanrefA1_13.append(S3HSV_imgA1C3_1[i][j])\n",
        "                if 1770<i<1880 and 2015<j<2145 :\n",
        "                  S3meanC3_1.append(S3HSV_imgA1C3_1[i][j])  \n",
        "S3meanrefA1_13 = np.array(S3meanrefA1_13)\n",
        "S3meanC3_1 = np.array(S3meanC3_1)\n",
        "\n",
        "S3hsvrefA1_13 = list()\n",
        "S3hsvC3_1 = list()\n",
        "for i in range(3):\n",
        "    S3hsvrefA1_13.append(S3meanrefA1_13[:,i].mean())\n",
        "    S3hsvC3_1.append(S3meanC3_1[:,i].mean())"
      ],
      "execution_count": null,
      "outputs": []
    },
    {
      "cell_type": "code",
      "metadata": {
        "id": "yUpoqVyGBXON"
      },
      "source": [
        "S3meanrefA1_14 = list()\n",
        "S3meanC4_1 = list()\n",
        "for i in range(S3HSV_imgA1C4_1.shape[0]): \n",
        "     for j in range(S3HSV_imgA1C4_1.shape[1]): \n",
        "                if 1769<i<1881 and 2019<j<2131 :\n",
        "                  S3meanrefA1_14.append(S3HSV_imgA1C4_1[i][j])\n",
        "                if 1770<i<1880 and 2015<j<2145 :\n",
        "                  S3meanC4_1.append(S3HSV_imgA1C4_1[i][j])  \n",
        "S3meanrefA1_14 = np.array(S3meanrefA1_14)\n",
        "S3meanC4_1 = np.array(S3meanC4_1)\n",
        "\n",
        "S3hsvrefA1_14 = list()\n",
        "S3hsvC4_1 = list()\n",
        "for i in range(3):\n",
        "    S3hsvrefA1_14.append(S3meanrefA1_14[:,i].mean())\n",
        "    S3hsvC4_1.append(S3meanC4_1[:,i].mean())"
      ],
      "execution_count": null,
      "outputs": []
    },
    {
      "cell_type": "code",
      "metadata": {
        "id": "KcCUrvFyBXON"
      },
      "source": [
        "S3meanrefA1_15 = list()\n",
        "S3meanD2_1 = list()\n",
        "for i in range(S3HSV_imgA1D2_1.shape[0]): \n",
        "     for j in range(S3HSV_imgA1D2_1.shape[1]): \n",
        "                if 1769<i<1881 and 2019<j<2131 :\n",
        "                  S3meanrefA1_15.append(S3HSV_imgA1D2_1[i][j])\n",
        "                if 1770<i<1880 and 2015<j<2145 :\n",
        "                  S3meanD2_1.append(S3HSV_imgA1D2_1[i][j])  \n",
        "S3meanrefA1_15 = np.array(S3meanrefA1_15)\n",
        "S3meanD2_1 = np.array(S3meanD2_1)\n",
        "\n",
        "S3hsvrefA1_15 = list()\n",
        "S3hsvD2_1 = list()\n",
        "for i in range(3):\n",
        "    S3hsvrefA1_15.append(S3meanrefA1_15[:,i].mean())\n",
        "    S3hsvD2_1.append(S3meanD2_1[:,i].mean())"
      ],
      "execution_count": null,
      "outputs": []
    },
    {
      "cell_type": "code",
      "metadata": {
        "id": "W7rBPnlkBXOO"
      },
      "source": [
        "S3meanrefA1_16 = list()\n",
        "S3meanD3_1 = list()\n",
        "for i in range(S3HSV_imgA1D3_1.shape[0]): \n",
        "     for j in range(S3HSV_imgA1D3_1.shape[1]): \n",
        "                if 1769<i<1881 and 2019<j<2131 :\n",
        "                  S3meanrefA1_16.append(S3HSV_imgA1D3_1[i][j])\n",
        "                if 1770<i<1880 and 2015<j<2145 :\n",
        "                  S3meanD3_1.append(S3HSV_imgA1D3_1[i][j])  \n",
        "S3meanrefA1_16 = np.array(S3meanrefA1_16)\n",
        "S3meanD3_1 = np.array(S3meanD3_1)\n",
        "\n",
        "S3hsvrefA1_16 = list()\n",
        "S3hsvD3_1 = list()\n",
        "for i in range(3):\n",
        "    S3hsvrefA1_16.append(S3meanrefA1_16[:,i].mean())\n",
        "    S3hsvD3_1.append(S3meanD3_1[:,i].mean())"
      ],
      "execution_count": null,
      "outputs": []
    },
    {
      "cell_type": "code",
      "metadata": {
        "id": "9dk2c02XBXOO"
      },
      "source": [
        "S3meanrefA1_17= list()\n",
        "S3meanD4_1 = list()\n",
        "for i in range(S3HSV_imgA1D4_1.shape[0]): \n",
        "     for j in range(S3HSV_imgA1D4_1.shape[1]): \n",
        "                if 1769<i<1881 and 2019<j<2131 :\n",
        "                  S3meanrefA1_17.append(S3HSV_imgA1D4_1[i][j])\n",
        "                if 1770<i<1880 and 2015<j<2145 :\n",
        "                  S3meanD4_1.append(S3HSV_imgA1D4_1[i][j])  \n",
        "S3meanrefA1_17 = np.array(S3meanrefA1_14)\n",
        "S3meanD4_1 = np.array(S3meanD4_1)\n",
        "\n",
        "S3hsvrefA1_17 = list()\n",
        "S3hsvD4_1 = list()\n",
        "for i in range(3):\n",
        "    S3hsvrefA1_17.append(S3meanrefA1_17[:,i].mean())\n",
        "    S3hsvD4_1.append(S3meanD4_1[:,i].mean())"
      ],
      "execution_count": null,
      "outputs": []
    },
    {
      "cell_type": "markdown",
      "metadata": {
        "id": "W1Nj-675OLxB"
      },
      "source": [
        "##Set4"
      ]
    },
    {
      "cell_type": "markdown",
      "metadata": {
        "id": "OVWde62WJ576"
      },
      "source": [
        "###RGB"
      ]
    },
    {
      "cell_type": "code",
      "metadata": {
        "id": "9qe-b3RQTFI1"
      },
      "source": [
        "S4meanrefA1_1 = list()\n",
        "S4meanA1_2 = list()\n",
        "for i in range(S4RGB_imgA1A1_1.shape[0]): #ให้ i รันตาม row หรือ shape[0] คือแถว มีทั้งหมด 4032 แถว ของภาพที่ปรับขนาดมาแล้ว\n",
        "     for j in range(S4RGB_imgA1A1_1.shape[1]): #ให้ j รันตาม colum มีทั้งหมด 3024 colum เช่น แถวที่ 1 เข้ามาให้รันครบ 3024colum\n",
        "                if 1769<i<1881 and 2019<j<2131 :\n",
        "                  S4meanrefA1_1.append(S4RGB_imgA1A1_1[i][j])\n",
        "                if 1770<i<1880 and 2015<j<2145 :\n",
        "                  S4meanA1_2.append(S4RGB_imgA1A1_1[i][j])  \n",
        "S4meanrefA1_1 = np.array(S4meanrefA1_1)\n",
        "S4meanA1_2 = np.array(S4meanA1_2)\n",
        "\n",
        "S4rgbrefA1_1 = list()\n",
        "S4rgbA1_2 = list()\n",
        "for i in range(3):\n",
        "    S4rgbrefA1_1.append(S4meanrefA1_1[:,i].mean())\n",
        "    S4rgbA1_2.append(S4meanA1_2[:,i].mean()) "
      ],
      "execution_count": null,
      "outputs": []
    },
    {
      "cell_type": "code",
      "metadata": {
        "id": "9PmGY8ytTFI1"
      },
      "source": [
        "S4meanrefA1_3 = list()\n",
        "S4meanA2_1 = list()\n",
        "for i in range(S4RGB_imgA1A2_1.shape[0]): \n",
        "     for j in range(S4RGB_imgA1A2_1.shape[1]): \n",
        "                if 1769<i<1881 and 2019<j<2131 :\n",
        "                  S4meanrefA1_3.append(S4RGB_imgA1A2_1[i][j])\n",
        "                if 1770<i<1880 and 2015<j<2145 :\n",
        "                  S4meanA2_1.append(S4RGB_imgA1A2_1[i][j])  \n",
        "S4meanrefA1_3 = np.array(S4meanrefA1_3)\n",
        "S4meanA2_1 = np.array(S4meanA2_1)\n",
        "\n",
        "S4rgbrefA1_3 = list()\n",
        "S4rgbA2_1 = list()\n",
        "for i in range(3):\n",
        "    S4rgbrefA1_3.append(S4meanrefA1_3[:,i].mean())\n",
        "    S4rgbA2_1.append(S4meanA2_1[:,i].mean())"
      ],
      "execution_count": null,
      "outputs": []
    },
    {
      "cell_type": "code",
      "metadata": {
        "id": "VkmexGJeTFI2"
      },
      "source": [
        "S4meanrefA1_4 = list()\n",
        "S4meanA3_1 = list()\n",
        "for i in range(S4RGB_imgA1A3_1.shape[0]): \n",
        "     for j in range(S4RGB_imgA1A3_1.shape[1]): \n",
        "                if 1769<i<1881 and 2019<j<2131 :\n",
        "                  S4meanrefA1_4.append(S4RGB_imgA1A3_1[i][j])\n",
        "                if 1770<i<1880 and 2015<j<2145 :\n",
        "                  S4meanA3_1.append(S4RGB_imgA1A3_1[i][j])  \n",
        "S4meanrefA1_4 = np.array(S4meanrefA1_4)\n",
        "S4meanA3_1 = np.array(S4meanA3_1)\n",
        "\n",
        "S4rgbrefA1_4 = list()\n",
        "S4rgbA3_1 = list()\n",
        "for i in range(3):\n",
        "    S4rgbrefA1_4.append(S4meanrefA1_4[:,i].mean())\n",
        "    S4rgbA3_1.append(S4meanA3_1[:,i].mean())"
      ],
      "execution_count": null,
      "outputs": []
    },
    {
      "cell_type": "code",
      "metadata": {
        "id": "ydYPsKzWTFI2"
      },
      "source": [
        "S4meanrefA1_5 = list()\n",
        "S4meanA3_51 = list()\n",
        "for i in range(S4RGB_imgA1A3_51.shape[0]): \n",
        "     for j in range(S4RGB_imgA1A3_51.shape[1]): \n",
        "                if 1769<i<1881 and 2019<j<2131 :\n",
        "                  S4meanrefA1_5.append(S4RGB_imgA1A3_51[i][j])\n",
        "                if 1770<i<1880 and 2015<j<2145 :\n",
        "                  S4meanA3_51.append(S4RGB_imgA1A3_51[i][j])  \n",
        "S4meanrefA1_5 = np.array(S4meanrefA1_5)\n",
        "S4meanA3_51 = np.array(S4meanA3_51)\n",
        "\n",
        "S4rgbrefA1_5 = list()\n",
        "S4rgbA3_51 = list()\n",
        "for i in range(3):\n",
        "    S4rgbrefA1_5.append(S4meanrefA1_5[:,i].mean())\n",
        "    S4rgbA3_51.append(S4meanA3_51[:,i].mean())"
      ],
      "execution_count": null,
      "outputs": []
    },
    {
      "cell_type": "code",
      "metadata": {
        "id": "tvR2Ob8sTFI2"
      },
      "source": [
        "S4meanrefA1_6 = list()\n",
        "S4meanA4_1 = list()\n",
        "for i in range(S4RGB_imgA1A4_1.shape[0]): \n",
        "     for j in range(S4RGB_imgA1A4_1.shape[1]): \n",
        "                if 1769<i<1881 and 2019<j<2131 :\n",
        "                  S4meanrefA1_6.append(S4RGB_imgA1A4_1[i][j])\n",
        "                if 1770<i<1880 and 2015<j<2145 :\n",
        "                  S4meanA4_1.append(S4RGB_imgA1A4_1[i][j])  \n",
        "S4meanrefA1_6 = np.array(S4meanrefA1_6)\n",
        "S4meanA4_1 = np.array(S4meanA4_1)\n",
        "\n",
        "S4rgbrefA1_6 = list()\n",
        "S4rgbA4_1 = list()\n",
        "for i in range(3):\n",
        "    S4rgbrefA1_6.append(S4meanrefA1_6[:,i].mean())\n",
        "    S4rgbA4_1.append(S4meanA4_1[:,i].mean())"
      ],
      "execution_count": null,
      "outputs": []
    },
    {
      "cell_type": "code",
      "metadata": {
        "id": "Ljpq0nVwTFI2"
      },
      "source": [
        "S4meanrefA1_7 = list()\n",
        "S4meanB1_1 = list()\n",
        "for i in range(S4RGB_imgA1B1_1.shape[0]): \n",
        "     for j in range(S4RGB_imgA1B1_1.shape[1]): \n",
        "                if 1769<i<1881 and 2019<j<2131 :\n",
        "                  S4meanrefA1_7.append(S4RGB_imgA1B1_1[i][j])\n",
        "                if 1770<i<1880 and 2015<j<2145 :\n",
        "                  S4meanB1_1.append(S4RGB_imgA1B1_1[i][j])  \n",
        "S4meanrefA1_7 = np.array(S4meanrefA1_7)\n",
        "S4meanB1_1 = np.array(S4meanB1_1)\n",
        "\n",
        "S4rgbrefA1_7 = list()\n",
        "S4rgbB1_1 = list()\n",
        "for i in range(3):\n",
        "    S4rgbrefA1_7.append(S4meanrefA1_7[:,i].mean())\n",
        "    S4rgbB1_1.append(S4meanB1_1[:,i].mean())"
      ],
      "execution_count": null,
      "outputs": []
    },
    {
      "cell_type": "code",
      "metadata": {
        "id": "Zl5OV1WkTFI2"
      },
      "source": [
        "S4meanrefA1_8 = list()\n",
        "S4meanB2_1 = list()\n",
        "for i in range(S4RGB_imgA1B2_1.shape[0]): \n",
        "     for j in range(S4RGB_imgA1B2_1.shape[1]): \n",
        "                if 1769<i<1881 and 2019<j<2131 :\n",
        "                  S4meanrefA1_8.append(S4RGB_imgA1B2_1[i][j])\n",
        "                if 1770<i<1880 and 2015<j<2145 :\n",
        "                  S4meanB2_1.append(S4RGB_imgA1B2_1[i][j])  \n",
        "S4meanrefA1_8 = np.array(S4meanrefA1_8)\n",
        "S4meanB2_1 = np.array(S4meanB2_1)\n",
        "\n",
        "S4rgbrefA1_8 = list()\n",
        "S4rgbB2_1 = list()\n",
        "for i in range(3):\n",
        "    S4rgbrefA1_8.append(S4meanrefA1_8[:,i].mean())\n",
        "    S4rgbB2_1.append(S4meanB2_1[:,i].mean())"
      ],
      "execution_count": null,
      "outputs": []
    },
    {
      "cell_type": "code",
      "metadata": {
        "id": "5U29cW4STFI2"
      },
      "source": [
        "S4meanrefA1_9 = list()\n",
        "S4meanB3_1 = list()\n",
        "for i in range(S4RGB_imgA1B3_1.shape[0]): \n",
        "     for j in range(S4RGB_imgA1B3_1.shape[1]): \n",
        "                if 1769<i<1881 and 2019<j<2131 :\n",
        "                  S4meanrefA1_9.append(S4RGB_imgA1B3_1[i][j])\n",
        "                if 1770<i<1880 and 2015<j<2145 :\n",
        "                  S4meanB3_1.append(S4RGB_imgA1B3_1[i][j])  \n",
        "S4meanrefA1_9 = np.array(S4meanrefA1_9)\n",
        "S4meanB3_1 = np.array(S4meanB3_1)\n",
        "\n",
        "S4rgbrefA1_9 = list()\n",
        "S4rgbB3_1 = list()\n",
        "for i in range(3):\n",
        "    S4rgbrefA1_9.append(S4meanrefA1_9[:,i].mean())\n",
        "    S4rgbB3_1.append(S4meanB3_1[:,i].mean())"
      ],
      "execution_count": null,
      "outputs": []
    },
    {
      "cell_type": "code",
      "metadata": {
        "id": "R2NA3evqTFI2"
      },
      "source": [
        "S4meanrefA1_10 = list()\n",
        "S4meanB4_1 = list()\n",
        "for i in range(S4RGB_imgA1B4_1.shape[0]): \n",
        "     for j in range(S4RGB_imgA1B4_1.shape[1]): \n",
        "                if 1769<i<1881 and 2019<j<2131 :\n",
        "                  S4meanrefA1_10.append(S4RGB_imgA1B4_1[i][j])\n",
        "                if 1770<i<1880 and 2015<j<2145 :\n",
        "                  S4meanB4_1.append(S4RGB_imgA1B4_1[i][j])  \n",
        "S4meanrefA1_10 = np.array(S4meanrefA1_10)\n",
        "S4meanB4_1 = np.array(S4meanB4_1)\n",
        "\n",
        "S4rgbrefA1_10 = list()\n",
        "S4rgbB4_1 = list()\n",
        "for i in range(3):\n",
        "    S4rgbrefA1_10.append(S4meanrefA1_10[:,i].mean())\n",
        "    S4rgbB4_1.append(S4meanB4_1[:,i].mean())"
      ],
      "execution_count": null,
      "outputs": []
    },
    {
      "cell_type": "code",
      "metadata": {
        "id": "no0v_IJvTFI2"
      },
      "source": [
        "S4meanrefA1_11 = list()\n",
        "S4meanC1_1 = list()\n",
        "for i in range(S4RGB_imgA1C1_1.shape[0]): \n",
        "     for j in range(S4RGB_imgA1C1_1.shape[1]): \n",
        "                if 1769<i<1881 and 2019<j<2131 :\n",
        "                  S4meanrefA1_11.append(S4RGB_imgA1C1_1[i][j])\n",
        "                if 1770<i<1880 and 2015<j<2145 :\n",
        "                  S4meanC1_1.append(S4RGB_imgA1C1_1[i][j])  \n",
        "S4meanrefA1_11 = np.array(S4meanrefA1_11)\n",
        "S4meanC1_1 = np.array(S4meanC1_1)\n",
        "\n",
        "S4rgbrefA1_11 = list()\n",
        "S4rgbC1_1 = list()\n",
        "for i in range(3):\n",
        "    S4rgbrefA1_11.append(S4meanrefA1_11[:,i].mean())\n",
        "    S4rgbC1_1.append(S4meanC1_1[:,i].mean())"
      ],
      "execution_count": null,
      "outputs": []
    },
    {
      "cell_type": "code",
      "metadata": {
        "id": "tk2Tjx-xTFI2"
      },
      "source": [
        "S4meanrefA1_12 = list()\n",
        "S4meanC2_1 = list()\n",
        "for i in range(S4RGB_imgA1C2_1.shape[0]): \n",
        "     for j in range(S4RGB_imgA1C2_1.shape[1]): \n",
        "                if 1769<i<1881 and 2019<j<2131 :\n",
        "                  S4meanrefA1_12.append(S4RGB_imgA1C2_1[i][j])\n",
        "                if 1770<i<1880 and 2015<j<2145 :\n",
        "                  S4meanC2_1.append(S4RGB_imgA1C2_1[i][j])  \n",
        "S4meanrefA1_12 = np.array(S4meanrefA1_12)\n",
        "S4meanC2_1 = np.array(S4meanC2_1)\n",
        "\n",
        "S4rgbrefA1_12 = list()\n",
        "S4rgbC2_1 = list()\n",
        "for i in range(3):\n",
        "    S4rgbrefA1_12.append(S4meanrefA1_12[:,i].mean())\n",
        "    S4rgbC2_1.append(S4meanC2_1[:,i].mean())"
      ],
      "execution_count": null,
      "outputs": []
    },
    {
      "cell_type": "code",
      "metadata": {
        "id": "C4OzI5irTFI3"
      },
      "source": [
        "S4meanrefA1_13 = list()\n",
        "S4meanC3_1 = list()\n",
        "for i in range(S4RGB_imgA1C3_1.shape[0]): \n",
        "     for j in range(S4RGB_imgA1C3_1.shape[1]): \n",
        "                if 1769<i<1881 and 2019<j<2131 :\n",
        "                  S4meanrefA1_13.append(S4RGB_imgA1C3_1[i][j])\n",
        "                if 1770<i<1880 and 2015<j<2145 :\n",
        "                  S4meanC3_1.append(S4RGB_imgA1C3_1[i][j])  \n",
        "S4meanrefA1_13 = np.array(S4meanrefA1_13)\n",
        "S4meanC3_1 = np.array(S4meanC3_1)\n",
        "\n",
        "S4rgbrefA1_13 = list()\n",
        "S4rgbC3_1 = list()\n",
        "for i in range(3):\n",
        "    S4rgbrefA1_13.append(S4meanrefA1_13[:,i].mean())\n",
        "    S4rgbC3_1.append(S4meanC3_1[:,i].mean())"
      ],
      "execution_count": null,
      "outputs": []
    },
    {
      "cell_type": "code",
      "metadata": {
        "id": "rmEhD3fATFI3"
      },
      "source": [
        "S4meanrefA1_14 = list()\n",
        "S4meanC4_1 = list()\n",
        "for i in range(S4RGB_imgA1C4_1.shape[0]): \n",
        "     for j in range(S4RGB_imgA1C4_1.shape[1]): \n",
        "                if 1769<i<1881 and 2019<j<2131 :\n",
        "                  S4meanrefA1_14.append(S4RGB_imgA1C4_1[i][j])\n",
        "                if 1770<i<1880 and 2015<j<2145 :\n",
        "                  S4meanC4_1.append(S4RGB_imgA1C4_1[i][j])  \n",
        "S4meanrefA1_14 = np.array(S4meanrefA1_14)\n",
        "S4meanC4_1 = np.array(S4meanC4_1)\n",
        "\n",
        "S4rgbrefA1_14 = list()\n",
        "S4rgbC4_1 = list()\n",
        "for i in range(3):\n",
        "    S4rgbrefA1_14.append(S4meanrefA1_14[:,i].mean())\n",
        "    S4rgbC4_1.append(S4meanC4_1[:,i].mean())"
      ],
      "execution_count": null,
      "outputs": []
    },
    {
      "cell_type": "code",
      "metadata": {
        "id": "ZAIAbO_iTFI3"
      },
      "source": [
        "S4meanrefA1_15 = list()\n",
        "S4meanD2_1 = list()\n",
        "for i in range(S4RGB_imgA1D2_1.shape[0]): \n",
        "     for j in range(S4RGB_imgA1D2_1.shape[1]): \n",
        "                if 1769<i<1881 and 2019<j<2131 :\n",
        "                  S4meanrefA1_15.append(S4RGB_imgA1D2_1[i][j])\n",
        "                if 1770<i<1880 and 2015<j<2145 :\n",
        "                  S4meanD2_1.append(S4RGB_imgA1D2_1[i][j])  \n",
        "S4meanrefA1_15 = np.array(S4meanrefA1_15)\n",
        "S4meanD2_1 = np.array(S4meanD2_1)\n",
        "\n",
        "S4rgbrefA1_15 = list()\n",
        "S4rgbD2_1 = list()\n",
        "for i in range(3):\n",
        "    S4rgbrefA1_15.append(S4meanrefA1_15[:,i].mean())\n",
        "    S4rgbD2_1.append(S4meanD2_1[:,i].mean())"
      ],
      "execution_count": null,
      "outputs": []
    },
    {
      "cell_type": "code",
      "metadata": {
        "id": "hTJKOPrTTFI3"
      },
      "source": [
        "S4meanrefA1_16 = list()\n",
        "S4meanD3_1 = list()\n",
        "for i in range(S4RGB_imgA1D3_1.shape[0]): \n",
        "     for j in range(S4RGB_imgA1D3_1.shape[1]): \n",
        "                if 1769<i<1881 and 2019<j<2131 :\n",
        "                  S4meanrefA1_16.append(S4RGB_imgA1D3_1[i][j])\n",
        "                if 1770<i<1880 and 2015<j<2145 :\n",
        "                  S4meanD3_1.append(S4RGB_imgA1D3_1[i][j])  \n",
        "S4meanrefA1_16 = np.array(S4meanrefA1_16)\n",
        "S4meanD3_1 = np.array(S4meanD3_1)\n",
        "\n",
        "S4rgbrefA1_16 = list()\n",
        "S4rgbD3_1 = list()\n",
        "for i in range(3):\n",
        "    S4rgbrefA1_16.append(S4meanrefA1_16[:,i].mean())\n",
        "    S4rgbD3_1.append(S4meanD3_1[:,i].mean())"
      ],
      "execution_count": null,
      "outputs": []
    },
    {
      "cell_type": "code",
      "metadata": {
        "id": "Pn4S73yNTFI3"
      },
      "source": [
        "S4meanrefA1_17= list()\n",
        "S4meanD4_1 = list()\n",
        "for i in range(S4RGB_imgA1D4_1.shape[0]): \n",
        "     for j in range(S4RGB_imgA1D4_1.shape[1]): \n",
        "                if 1769<i<1881 and 2019<j<2131 :\n",
        "                  S4meanrefA1_17.append(S4RGB_imgA1D4_1[i][j])\n",
        "                if 1770<i<1880 and 2015<j<2145 :\n",
        "                  S4meanD4_1.append(S4RGB_imgA1D4_1[i][j])  \n",
        "S4meanrefA1_17 = np.array(S4meanrefA1_14)\n",
        "S4meanD4_1 = np.array(S4meanD4_1)\n",
        "\n",
        "S4rgbrefA1_17 = list()\n",
        "S4rgbD4_1 = list()\n",
        "for i in range(3):\n",
        "    S4rgbrefA1_17.append(S4meanrefA1_17[:,i].mean())\n",
        "    S4rgbD4_1.append(S4meanD4_1[:,i].mean())"
      ],
      "execution_count": null,
      "outputs": []
    },
    {
      "cell_type": "markdown",
      "metadata": {
        "id": "1vsenvzGJ-z0"
      },
      "source": [
        "###HSV"
      ]
    },
    {
      "cell_type": "code",
      "metadata": {
        "id": "g8COlyPkKXLl"
      },
      "source": [
        "S4meanrefA1_1 = list()\n",
        "S4meanA1_2 = list()\n",
        "for i in range(S4HSV_imgA1A1_1.shape[0]): #ให้ i รันตาม row หรือ shape[0] คือแถว มีทั้งหมด 4032 แถว ของภาพที่ปรับขนาดมาแล้ว\n",
        "     for j in range(S4HSV_imgA1A1_1.shape[1]): #ให้ j รันตาม colum มีทั้งหมด 3024 colum เช่น แถวที่ 1 เข้ามาให้รันครบ 3024colum\n",
        "                if 1769<i<1881 and 2019<j<2131 :\n",
        "                  S4meanrefA1_1.append(S4HSV_imgA1A1_1[i][j])\n",
        "                if 1770<i<1880 and 2015<j<2145 :\n",
        "                  S4meanA1_2.append(S4HSV_imgA1A1_1[i][j])  \n",
        "S4meanrefA1_1 = np.array(S4meanrefA1_1)\n",
        "S4meanA1_2 = np.array(S4meanA1_2)\n",
        "\n",
        "S4hsvrefA1_1 = list() \n",
        "S4hsvA1_2 = list()\n",
        "for i in range(3):\n",
        "    S4hsvrefA1_1.append(S4meanrefA1_1[:,i].mean())\n",
        "    S4hsvA1_2.append(S4meanA1_2[:,i].mean()) "
      ],
      "execution_count": null,
      "outputs": []
    },
    {
      "cell_type": "code",
      "metadata": {
        "id": "uSvjjmrFKXLm"
      },
      "source": [
        "S4meanrefA1_3 = list()\n",
        "S4meanA2_1 = list()\n",
        "for i in range(S4HSV_imgA1A2_1.shape[0]): \n",
        "     for j in range(S4HSV_imgA1A2_1.shape[1]): \n",
        "                if 1769<i<1881 and 2019<j<2131 :\n",
        "                  S4meanrefA1_3.append(S4HSV_imgA1A2_1[i][j])\n",
        "                if 1770<i<1880 and 2015<j<2145 :\n",
        "                  S4meanA2_1.append(S4HSV_imgA1A2_1[i][j])  \n",
        "S4meanrefA1_3 = np.array(S4meanrefA1_3)\n",
        "S4meanA2_1 = np.array(S4meanA2_1)\n",
        "\n",
        "S4hsvrefA1_3 = list()\n",
        "S4hsvA2_1 = list()\n",
        "for i in range(3):\n",
        "    S4hsvrefA1_3.append(S4meanrefA1_3[:,i].mean())\n",
        "    S4hsvA2_1.append(S4meanA2_1[:,i].mean())"
      ],
      "execution_count": null,
      "outputs": []
    },
    {
      "cell_type": "code",
      "metadata": {
        "id": "Q6ufKaLhKXLn"
      },
      "source": [
        "S4meanrefA1_4 = list()\n",
        "S4meanA3_1 = list()\n",
        "for i in range(S4HSV_imgA1A3_1.shape[0]): \n",
        "     for j in range(S4HSV_imgA1A3_1.shape[1]): \n",
        "                if 1769<i<1881 and 2019<j<2131 :\n",
        "                  S4meanrefA1_4.append(S4HSV_imgA1A3_1[i][j])\n",
        "                if 1770<i<1880 and 2015<j<2145 :\n",
        "                  S4meanA3_1.append(S4HSV_imgA1A3_1[i][j])  \n",
        "S4meanrefA1_4 = np.array(S4meanrefA1_4)\n",
        "S4meanA3_1 = np.array(S4meanA3_1)\n",
        "\n",
        "S4hsvrefA1_4 = list()\n",
        "S4hsvA3_1 = list()\n",
        "for i in range(3):\n",
        "    S4hsvrefA1_4.append(S4meanrefA1_4[:,i].mean())\n",
        "    S4hsvA3_1.append(S4meanA3_1[:,i].mean())"
      ],
      "execution_count": null,
      "outputs": []
    },
    {
      "cell_type": "code",
      "metadata": {
        "id": "4RM9YjoaKXLn"
      },
      "source": [
        "S4meanrefA1_5 = list()\n",
        "S4meanA3_51 = list()\n",
        "for i in range(S4HSV_imgA1A3_51.shape[0]): \n",
        "     for j in range(S4HSV_imgA1A3_51.shape[1]): \n",
        "                if 1769<i<1881 and 2019<j<2131 :\n",
        "                  S4meanrefA1_5.append(S4HSV_imgA1A3_51[i][j])\n",
        "                if 1770<i<1880 and 2015<j<2145 :\n",
        "                  S4meanA3_51.append(S4HSV_imgA1A3_51[i][j])  \n",
        "S4meanrefA1_5 = np.array(S4meanrefA1_5)\n",
        "S4meanA3_51 = np.array(S4meanA3_51)\n",
        "\n",
        "S4hsvrefA1_5 = list()\n",
        "S4hsvA3_51 = list()\n",
        "for i in range(3):\n",
        "    S4hsvrefA1_5.append(S4meanrefA1_5[:,i].mean())\n",
        "    S4hsvA3_51.append(S4meanA3_51[:,i].mean())"
      ],
      "execution_count": null,
      "outputs": []
    },
    {
      "cell_type": "code",
      "metadata": {
        "id": "xWaEzg_xKXLo"
      },
      "source": [
        "S4meanrefA1_6 = list()\n",
        "S4meanA4_1 = list()\n",
        "for i in range(S4HSV_imgA1A4_1.shape[0]): \n",
        "     for j in range(S4HSV_imgA1A4_1.shape[1]): \n",
        "                if 1769<i<1881 and 2019<j<2131 :\n",
        "                  S4meanrefA1_6.append(S4HSV_imgA1A4_1[i][j])\n",
        "                if 1770<i<1880 and 2015<j<2145 :\n",
        "                  S4meanA4_1.append(S4HSV_imgA1A4_1[i][j])  \n",
        "S4meanrefA1_6 = np.array(S4meanrefA1_6)\n",
        "S4meanA4_1 = np.array(S4meanA4_1)\n",
        "\n",
        "S4hsvrefA1_6 = list()\n",
        "S4hsvA4_1 = list()\n",
        "for i in range(3):\n",
        "    S4hsvrefA1_6.append(S4meanrefA1_6[:,i].mean())\n",
        "    S4hsvA4_1.append(S4meanA4_1[:,i].mean())"
      ],
      "execution_count": null,
      "outputs": []
    },
    {
      "cell_type": "code",
      "metadata": {
        "id": "YZCZMwjrKXLo"
      },
      "source": [
        "S4meanrefA1_7 = list()\n",
        "S4meanB1_1 = list()\n",
        "for i in range(S4HSV_imgA1B1_1.shape[0]): \n",
        "     for j in range(S4HSV_imgA1B1_1.shape[1]): \n",
        "                if 1769<i<1881 and 2019<j<2131 :\n",
        "                  S4meanrefA1_7.append(S4HSV_imgA1B1_1[i][j])\n",
        "                if 1770<i<1880 and 2015<j<2145 :\n",
        "                  S4meanB1_1.append(S4HSV_imgA1B1_1[i][j])  \n",
        "S4meanrefA1_7 = np.array(S4meanrefA1_7)\n",
        "S4meanB1_1 = np.array(S4meanB1_1)\n",
        "\n",
        "S4hsvrefA1_7 = list()\n",
        "S4hsvB1_1 = list()\n",
        "for i in range(3):\n",
        "    S4hsvrefA1_7.append(S4meanrefA1_7[:,i].mean())\n",
        "    S4hsvB1_1.append(S4meanB1_1[:,i].mean())"
      ],
      "execution_count": null,
      "outputs": []
    },
    {
      "cell_type": "code",
      "metadata": {
        "id": "Su2t7uVGKXLo"
      },
      "source": [
        "S4meanrefA1_8 = list()\n",
        "S4meanB2_1 = list()\n",
        "for i in range(S4HSV_imgA1B2_1.shape[0]): \n",
        "     for j in range(S4HSV_imgA1B2_1.shape[1]): \n",
        "                if 1769<i<1881 and 2019<j<2131 :\n",
        "                  S4meanrefA1_8.append(S4HSV_imgA1B2_1[i][j])\n",
        "                if 1770<i<1880 and 2015<j<2145 :\n",
        "                  S4meanB2_1.append(S4HSV_imgA1B2_1[i][j])  \n",
        "S4meanrefA1_8 = np.array(S4meanrefA1_8)\n",
        "S4meanB2_1 = np.array(S4meanB2_1)\n",
        "\n",
        "S4hsvrefA1_8 = list()\n",
        "S4hsvB2_1 = list()\n",
        "for i in range(3):\n",
        "    S4hsvrefA1_8.append(S4meanrefA1_8[:,i].mean())\n",
        "    S4hsvB2_1.append(S4meanB2_1[:,i].mean())"
      ],
      "execution_count": null,
      "outputs": []
    },
    {
      "cell_type": "code",
      "metadata": {
        "id": "fcalJzlNKXLp"
      },
      "source": [
        "S4meanrefA1_9 = list()\n",
        "S4meanB3_1 = list()\n",
        "for i in range(S4HSV_imgA1B3_1.shape[0]): \n",
        "     for j in range(S4HSV_imgA1B3_1.shape[1]): \n",
        "                if 1769<i<1881 and 2019<j<2131 :\n",
        "                  S4meanrefA1_9.append(S4HSV_imgA1B3_1[i][j])\n",
        "                if 1770<i<1880 and 2015<j<2145 :\n",
        "                  S4meanB3_1.append(S4HSV_imgA1B3_1[i][j])  \n",
        "S4meanrefA1_9 = np.array(S4meanrefA1_9)\n",
        "S4meanB3_1 = np.array(S4meanB3_1)\n",
        "\n",
        "S4hsvrefA1_9 = list()\n",
        "S4hsvB3_1 = list()\n",
        "for i in range(3):\n",
        "    S4hsvrefA1_9.append(S4meanrefA1_9[:,i].mean())\n",
        "    S4hsvB3_1.append(S4meanB3_1[:,i].mean())"
      ],
      "execution_count": null,
      "outputs": []
    },
    {
      "cell_type": "code",
      "metadata": {
        "id": "K8hzHcdFKXLp"
      },
      "source": [
        "S4meanrefA1_10 = list()\n",
        "S4meanB4_1 = list()\n",
        "for i in range(S4HSV_imgA1B4_1.shape[0]): \n",
        "     for j in range(S4HSV_imgA1B4_1.shape[1]): \n",
        "                if 1769<i<1881 and 2019<j<2131 :\n",
        "                  S4meanrefA1_10.append(S4HSV_imgA1B4_1[i][j])\n",
        "                if 1770<i<1880 and 2015<j<2145 :\n",
        "                  S4meanB4_1.append(S4HSV_imgA1B4_1[i][j])  \n",
        "S4meanrefA1_10 = np.array(S4meanrefA1_10)\n",
        "S4meanB4_1 = np.array(S4meanB4_1)\n",
        "\n",
        "S4hsvrefA1_10 = list()\n",
        "S4hsvB4_1 = list()\n",
        "for i in range(3):\n",
        "    S4hsvrefA1_10.append(S4meanrefA1_10[:,i].mean())\n",
        "    S4hsvB4_1.append(S4meanB4_1[:,i].mean())"
      ],
      "execution_count": null,
      "outputs": []
    },
    {
      "cell_type": "code",
      "metadata": {
        "id": "Gfmhs_qPKXLq"
      },
      "source": [
        "S4meanrefA1_11 = list()\n",
        "S4meanC1_1 = list()\n",
        "for i in range(S4HSV_imgA1C1_1.shape[0]): \n",
        "     for j in range(S4HSV_imgA1C1_1.shape[1]): \n",
        "                if 1769<i<1881 and 2019<j<2131 :\n",
        "                  S4meanrefA1_11.append(S4HSV_imgA1C1_1[i][j])\n",
        "                if 1770<i<1880 and 2015<j<2145 :\n",
        "                  S4meanC1_1.append(S4HSV_imgA1C1_1[i][j])  \n",
        "S4meanrefA1_11 = np.array(S4meanrefA1_11)\n",
        "S4meanC1_1 = np.array(S4meanC1_1)\n",
        "\n",
        "S4hsvrefA1_11 = list()\n",
        "S4hsvC1_1 = list()\n",
        "for i in range(3):\n",
        "    S4hsvrefA1_11.append(S4meanrefA1_11[:,i].mean())\n",
        "    S4hsvC1_1.append(S4meanC1_1[:,i].mean())"
      ],
      "execution_count": null,
      "outputs": []
    },
    {
      "cell_type": "code",
      "metadata": {
        "id": "yedXZDEVKXLq"
      },
      "source": [
        "S4meanrefA1_12 = list()\n",
        "S4meanC2_1 = list()\n",
        "for i in range(S4HSV_imgA1C2_1.shape[0]): \n",
        "     for j in range(S4HSV_imgA1C2_1.shape[1]): \n",
        "                if 1769<i<1881 and 2019<j<2131 :\n",
        "                  S4meanrefA1_12.append(S4HSV_imgA1C2_1[i][j])\n",
        "                if 1770<i<1880 and 2015<j<2145 :\n",
        "                  S4meanC2_1.append(S4HSV_imgA1C2_1[i][j])  \n",
        "S4meanrefA1_12 = np.array(S4meanrefA1_12)\n",
        "S4meanC2_1 = np.array(S4meanC2_1)\n",
        "\n",
        "S4hsvrefA1_12 = list()\n",
        "S4hsvC2_1 = list()\n",
        "for i in range(3):\n",
        "    S4hsvrefA1_12.append(S4meanrefA1_12[:,i].mean())\n",
        "    S4hsvC2_1.append(S4meanC2_1[:,i].mean())"
      ],
      "execution_count": null,
      "outputs": []
    },
    {
      "cell_type": "code",
      "metadata": {
        "id": "whcXO5iMKXLq"
      },
      "source": [
        "S4meanrefA1_13 = list()\n",
        "S4meanC3_1 = list()\n",
        "for i in range(S4HSV_imgA1C3_1.shape[0]): \n",
        "     for j in range(S4HSV_imgA1C3_1.shape[1]): \n",
        "                if 1769<i<1881 and 2019<j<2131 :\n",
        "                  S4meanrefA1_13.append(S4HSV_imgA1C3_1[i][j])\n",
        "                if 1770<i<1880 and 2015<j<2145 :\n",
        "                  S4meanC3_1.append(S4HSV_imgA1C3_1[i][j])  \n",
        "S4meanrefA1_13 = np.array(S4meanrefA1_13)\n",
        "S4meanC3_1 = np.array(S4meanC3_1)\n",
        "\n",
        "S4hsvrefA1_13 = list()\n",
        "S4hsvC3_1 = list()\n",
        "for i in range(3):\n",
        "    S4hsvrefA1_13.append(S4meanrefA1_13[:,i].mean())\n",
        "    S4hsvC3_1.append(S4meanC3_1[:,i].mean())"
      ],
      "execution_count": null,
      "outputs": []
    },
    {
      "cell_type": "code",
      "metadata": {
        "id": "nIpOgNL4KXLr"
      },
      "source": [
        "S4meanrefA1_14 = list()\n",
        "S4meanC4_1 = list()\n",
        "for i in range(S4HSV_imgA1C4_1.shape[0]): \n",
        "     for j in range(S4HSV_imgA1C4_1.shape[1]): \n",
        "                if 1769<i<1881 and 2019<j<2131 :\n",
        "                  S4meanrefA1_14.append(S4HSV_imgA1C4_1[i][j])\n",
        "                if 1770<i<1880 and 2015<j<2145 :\n",
        "                  S4meanC4_1.append(S4HSV_imgA1C4_1[i][j])  \n",
        "S4meanrefA1_14 = np.array(S4meanrefA1_14)\n",
        "S4meanC4_1 = np.array(S4meanC4_1)\n",
        "\n",
        "S4hsvrefA1_14 = list()\n",
        "S4hsvC4_1 = list()\n",
        "for i in range(3):\n",
        "    S4hsvrefA1_14.append(S4meanrefA1_14[:,i].mean())\n",
        "    S4hsvC4_1.append(S4meanC4_1[:,i].mean())"
      ],
      "execution_count": null,
      "outputs": []
    },
    {
      "cell_type": "code",
      "metadata": {
        "id": "tW9vVw0RKXLr"
      },
      "source": [
        "S4meanrefA1_15 = list()\n",
        "S4meanD2_1 = list()\n",
        "for i in range(S4HSV_imgA1D2_1.shape[0]): \n",
        "     for j in range(S4HSV_imgA1D2_1.shape[1]): \n",
        "                if 1769<i<1881 and 2019<j<2131 :\n",
        "                  S4meanrefA1_15.append(S4HSV_imgA1D2_1[i][j])\n",
        "                if 1770<i<1880 and 2015<j<2145 :\n",
        "                  S4meanD2_1.append(S4HSV_imgA1D2_1[i][j])  \n",
        "S4meanrefA1_15 = np.array(S4meanrefA1_15)\n",
        "S4meanD2_1 = np.array(S4meanD2_1)\n",
        "\n",
        "S4hsvrefA1_15 = list()\n",
        "S4hsvD2_1 = list()\n",
        "for i in range(3):\n",
        "    S4hsvrefA1_15.append(S4meanrefA1_15[:,i].mean())\n",
        "    S4hsvD2_1.append(S4meanD2_1[:,i].mean())"
      ],
      "execution_count": null,
      "outputs": []
    },
    {
      "cell_type": "code",
      "metadata": {
        "id": "rGKVWA6JKXLr"
      },
      "source": [
        "S4meanrefA1_16 = list()\n",
        "S4meanD3_1 = list()\n",
        "for i in range(S4HSV_imgA1D3_1.shape[0]): \n",
        "     for j in range(S4HSV_imgA1D3_1.shape[1]): \n",
        "                if 1769<i<1881 and 2019<j<2131 :\n",
        "                  S4meanrefA1_16.append(S4HSV_imgA1D3_1[i][j])\n",
        "                if 1770<i<1880 and 2015<j<2145 :\n",
        "                  S4meanD3_1.append(S4HSV_imgA1D3_1[i][j])  \n",
        "S4meanrefA1_16 = np.array(S4meanrefA1_16)\n",
        "S4meanD3_1 = np.array(S4meanD3_1)\n",
        "\n",
        "S4hsvrefA1_16 = list()\n",
        "S4hsvD3_1 = list()\n",
        "for i in range(3):\n",
        "    S4hsvrefA1_16.append(S4meanrefA1_16[:,i].mean())\n",
        "    S4hsvD3_1.append(S4meanD3_1[:,i].mean())"
      ],
      "execution_count": null,
      "outputs": []
    },
    {
      "cell_type": "code",
      "metadata": {
        "id": "-kqMpVjuKXLs"
      },
      "source": [
        "S4meanrefA1_17= list()\n",
        "S4meanD4_1 = list()\n",
        "for i in range(S4HSV_imgA1D4_1.shape[0]): \n",
        "     for j in range(S4HSV_imgA1D4_1.shape[1]): \n",
        "                if 1769<i<1881 and 2019<j<2131 :\n",
        "                  S4meanrefA1_17.append(S4HSV_imgA1D4_1[i][j])\n",
        "                if 1770<i<1880 and 2015<j<2145 :\n",
        "                  S4meanD4_1.append(S4HSV_imgA1D4_1[i][j])  \n",
        "S4meanrefA1_17 = np.array(S4meanrefA1_14)\n",
        "S4meanD4_1 = np.array(S4meanD4_1)\n",
        "\n",
        "S4hsvrefA1_17 = list()\n",
        "S4hsvD4_1 = list()\n",
        "for i in range(3):\n",
        "    S4hsvrefA1_17.append(S4meanrefA1_17[:,i].mean())\n",
        "    S4hsvD4_1.append(S4meanD4_1[:,i].mean())"
      ],
      "execution_count": null,
      "outputs": []
    },
    {
      "cell_type": "markdown",
      "metadata": {
        "id": "4ihnBocWKAjD"
      },
      "source": [
        "#7.สร้างตาราง"
      ]
    },
    {
      "cell_type": "code",
      "metadata": {
        "id": "EjvYvGQwEIVW"
      },
      "source": [
        "from tabulate import tabulate"
      ],
      "execution_count": 241,
      "outputs": []
    },
    {
      "cell_type": "code",
      "metadata": {
        "id": "g1Ir2tayht50"
      },
      "source": [
        "table   = [['R-ref', 'G-ref', 'B-ref', 'R-Shad', 'G-Shad', 'B-Shad', 'H-ref', 'S-ref', 'V-ref', 'H-Shad', 'S-Shad', 'V-Shad', 'Shade-ref', 'Shade', 'Setting']]"
      ],
      "execution_count": 242,
      "outputs": []
    },
    {
      "cell_type": "code",
      "metadata": {
        "id": "-fKACh2bQh-m"
      },
      "source": [
        "df = pd.DataFrame({'R-ref': [S1rgbrefA1_1[0],S1rgbrefA1_3[0],S1rgbrefA1_4[0], S1rgbrefA1_5[0], S1rgbrefA1_6[0],S1rgbrefA1_7[0], S1rgbrefA1_8[0],S1rgbrefA1_9[0], S1rgbrefA1_10[0], S1rgbrefA1_11[0], S1rgbrefA1_12[0], S1rgbrefA1_13[0], S1rgbrefA1_14[0], S1rgbrefA1_15[0], S1rgbrefA1_16[0], S1rgbrefA1_17[0]],\n",
        "  'G-ref': [S1rgbrefA1_1[1], S1rgbrefA1_3[1], S1rgbrefA1_4[1], S1rgbrefA1_5[1], S1rgbrefA1_6[1], S1rgbrefA1_7[1], S1rgbrefA1_8[1], S1rgbrefA1_9[1], S1rgbrefA1_10[1], S1rgbrefA1_11[1], S1rgbrefA1_12[1], S1rgbrefA1_13[1], S1rgbrefA1_14[1], S1rgbrefA1_15[1], S1rgbrefA1_16[1], S1rgbrefA1_17[1]],\n",
        "  'B-ref': [S1rgbrefA1_1[2],S1rgbrefA1_3[2],S1rgbrefA1_4[2],S1rgbrefA1_5[2], S1rgbrefA1_6[2],S1rgbrefA1_7[2], S1rgbrefA1_8[2],S1rgbrefA1_9[2], S1rgbrefA1_10[2],S1rgbrefA1_11[2], S1rgbrefA1_12[2],S1rgbrefA1_13[2], S1rgbrefA1_14[2],S1rgbrefA1_15[2], S1rgbrefA1_16[2],S1rgbrefA1_17[2]],\n",
        "  'R-Shad': [S1rgbA1_2[0],S1rgbA2_1[0],S1rgbA3_1[0],S1rgbA3_51[0],S1rgbA4_1[0],S1rgbB1_1[0],S1rgbB2_1[0],S1rgbB3_1[0],S1rgbB4_1[0],S1rgbC1_1[0],S1rgbC2_1[0],S1rgbC3_1[0],S1rgbC4_1[0],S1rgbD2_1[0],S1rgbD3_1[0],S1rgbD4_1[0]],\n",
        "  'G-Shad': [S1rgbA1_2[1],S1rgbA2_1[1],S1rgbA3_1[1], S1rgbA3_51[1],S1rgbA4_1[1],S1rgbB1_1[1],S1rgbB2_1[1],S1rgbB3_1[1],S1rgbB4_1[1],S1rgbC1_1[1],S1rgbC2_1[1],S1rgbC3_1[1],S1rgbC4_1[1],S1rgbD2_1[1],S1rgbD3_1[1], S1rgbD4_1[1]],\n",
        "  'B-Shad': [S1rgbA1_2[2],S1rgbA2_1[2],S1rgbA3_1[2],S1rgbA3_51[2],S1rgbA4_1[2],S1rgbB1_1[2],S1rgbB2_1[2],S1rgbB3_1[2],S1rgbB4_1[2],S1rgbC1_1[2],S1rgbC2_1[2],S1rgbC3_1[2],S1rgbC4_1[2],S1rgbD2_1[2],S1rgbD3_1[2], S1rgbD4_1[2]],\n",
        "  'H-ref': [S1hsvrefA1_1[0],S1hsvrefA1_3[0],S1hsvrefA1_4[0],S1hsvrefA1_5[0], S1hsvrefA1_6[0],S1hsvrefA1_7[0], S1hsvrefA1_8[0],S1hsvrefA1_9[0], S1hsvrefA1_10[0],S1hsvrefA1_11[0], S1hsvrefA1_12[0],S1hsvrefA1_13[0], S1hsvrefA1_14[0],S1hsvrefA1_15[0], S1hsvrefA1_16[0],S1hsvrefA1_17[0]],\n",
        "  'S-ref': [S1hsvrefA1_1[1],S1hsvrefA1_3[1],S1hsvrefA1_4[1],S1hsvrefA1_5[1], S1hsvrefA1_6[1],S1hsvrefA1_7[1], S1hsvrefA1_8[1],S1hsvrefA1_9[1], S1hsvrefA1_10[1],S1hsvrefA1_11[1], S1hsvrefA1_12[0],S1hsvrefA1_13[1], S1hsvrefA1_14[1],S1hsvrefA1_15[1], S1hsvrefA1_16[1],S1hsvrefA1_17[1]],\n",
        "  'V-ref': [S1hsvrefA1_1[2],S1hsvrefA1_3[2],S1hsvrefA1_4[2],S1hsvrefA1_5[2], S1hsvrefA1_6[2],S1hsvrefA1_7[2], S1hsvrefA1_8[2],S1hsvrefA1_9[2], S1hsvrefA1_10[2],S1hsvrefA1_11[2], S1hsvrefA1_12[0],S1hsvrefA1_13[2], S1hsvrefA1_14[2],S1hsvrefA1_15[2], S1hsvrefA1_16[2],S1hsvrefA1_17[2]],\n",
        "   'H-Shad': [S1hsvA1_2[0],S1hsvA2_1[0],S1hsvA3_1[0],S1hsvA3_51[0],S1hsvA4_1[0],S1hsvB1_1[0],S1hsvB2_1[0],S1hsvB3_1[0],S1hsvB4_1[0],S1hsvC1_1[0],S1hsvC2_1[0],S1hsvC3_1[0],S1hsvC4_1[0],S1hsvD2_1[0],S1hsvD3_1[0],S1hsvD4_1[0]],\n",
        "   'S-Shad': [S1hsvA1_2[1],S1hsvA2_1[1],S1hsvA3_1[1],S1hsvA3_51[1],S1hsvA4_1[1],S1hsvB1_1[1],S1hsvB2_1[1],S1hsvB3_1[1],S1hsvB4_1[1],S1hsvC1_1[1],S1hsvC2_1[1],S1hsvC3_1[1],S1hsvC4_1[1],S1hsvD2_1[1],S1hsvD3_1[1],S1hsvD4_1[1]],\n",
        "   'V-Shad': [S1hsvA1_2[2],S1hsvA2_1[2],S1hsvA3_1[2],S1hsvA3_51[2],S1hsvA4_1[2],S1hsvB1_1[2],S1hsvB2_1[2],S1hsvB3_1[2],S1hsvB4_1[2],S1hsvC1_1[2],S1hsvC2_1[2],S1hsvC3_1[2],S1hsvC4_1[2],S1hsvD2_1[2],S1hsvD3_1[2],S1hsvD4_1[2]],\n",
        "   'Shade-ref': ['A1', 'A1', 'A1',  'A1', 'A1', 'A1', 'A1', 'A1', 'A1', 'A1', 'A1', 'A1', 'A1', 'A1', 'A1', 'A1'],\n",
        "   'Shade':      ['A1', 'A2', 'A3', 'A3_5', 'A4', 'B1', 'B2', 'B3', 'B4', 'C1', 'C2', 'C3', 'C4', 'D2', 'D3', 'D4'],\n",
        "   'Setting':     ['Set1', 'Set1', 'Set1', 'Set1', 'Set1', 'Set1', 'Set1', 'Set1', 'Set1', 'Set1', 'Set1', 'Set1', 'Set1', 'Set1', 'Set1', 'Set1']}) "
      ],
      "execution_count": 245,
      "outputs": []
    },
    {
      "cell_type": "code",
      "metadata": {
        "id": "H9UHY813QsXY"
      },
      "source": [
        "df2 = pd.DataFrame({'R-ref': [S2rgbrefA1_1[0],S2rgbrefA1_3[0],S2rgbrefA1_4[0], S2rgbrefA1_5[0], S2rgbrefA1_6[0],S2rgbrefA1_7[0], S2rgbrefA1_8[0],S2rgbrefA1_9[0], S2rgbrefA1_10[0], S2rgbrefA1_11[0], S2rgbrefA1_12[0], S2rgbrefA1_13[0], S2rgbrefA1_14[0], S2rgbrefA1_15[0], S2rgbrefA1_16[0], S2rgbrefA1_17[0]],\n",
        "    'G-ref': [S2rgbrefA1_1[1], S2rgbrefA1_3[1], S2rgbrefA1_4[1], S2rgbrefA1_5[1], S2rgbrefA1_6[1], S2rgbrefA1_7[1], S2rgbrefA1_8[1], S2rgbrefA1_9[1], S2rgbrefA1_10[1], S2rgbrefA1_11[1], S2rgbrefA1_12[1], S2rgbrefA1_13[1], S2rgbrefA1_14[1], S2rgbrefA1_15[1], S2rgbrefA1_16[1], S2rgbrefA1_17[1]],\n",
        "    'B-ref': [S2rgbrefA1_1[2],S2rgbrefA1_3[2],S2rgbrefA1_4[2],S2rgbrefA1_5[2], S2rgbrefA1_6[2],S2rgbrefA1_7[2], S2rgbrefA1_8[2],S2rgbrefA1_9[2], S2rgbrefA1_10[2],S2rgbrefA1_11[2], S2rgbrefA1_12[2],S2rgbrefA1_13[2], S2rgbrefA1_14[2],S2rgbrefA1_15[2], S2rgbrefA1_16[2],S2rgbrefA1_17[2]],\n",
        "    'R-Shad': [S2rgbA1_2[0],S2rgbA2_1[0],S2rgbA3_1[0],S2rgbA3_51[0],S2rgbA4_1[0],S2rgbB1_1[0],S2rgbB2_1[0],S2rgbB3_1[0],S2rgbB4_1[0],S2rgbC1_1[0],S2rgbC2_1[0],S2rgbC3_1[0],S2rgbC4_1[0],S2rgbD2_1[0],S2rgbD3_1[0],S2rgbD4_1[0]],\n",
        "    'G-Shad': [S2rgbA1_2[1],S2rgbA2_1[1],S2rgbA3_1[1], S2rgbA3_51[1],S2rgbA4_1[1],S2rgbB1_1[1],S2rgbB2_1[1],S2rgbB3_1[1],S2rgbB4_1[1],S2rgbC1_1[1],S2rgbC2_1[1],S2rgbC3_1[1],S2rgbC4_1[1],S2rgbD2_1[1],S2rgbD3_1[1], S2rgbD4_1[1]],\n",
        "    'B-Shad': [S2rgbA1_2[2],S2rgbA2_1[2],S2rgbA3_1[2],S2rgbA3_51[2],S2rgbA4_1[2],S2rgbB1_1[2],S2rgbB2_1[2],S2rgbB3_1[2],S2rgbB4_1[2],S2rgbC1_1[2],S2rgbC2_1[2],S2rgbC3_1[2],S2rgbC4_1[2],S2rgbD2_1[2],S2rgbD3_1[2], S2rgbD4_1[2]],\n",
        "    'H-ref': [S2hsvrefA1_1[0],S2hsvrefA1_3[0],S2hsvrefA1_4[0],S2hsvrefA1_5[0], S2hsvrefA1_6[0],S2hsvrefA1_7[0], S2hsvrefA1_8[0],S2hsvrefA1_9[0], S2hsvrefA1_10[0],S2hsvrefA1_11[0], S2hsvrefA1_12[0],S2hsvrefA1_13[0], S2hsvrefA1_14[0],S2hsvrefA1_15[0], S2hsvrefA1_16[0],S2hsvrefA1_17[0]],\n",
        "    'S-ref': [S2hsvrefA1_1[1],S2hsvrefA1_3[1],S2hsvrefA1_4[1],S2hsvrefA1_5[1], S2hsvrefA1_6[1],S2hsvrefA1_7[1], S2hsvrefA1_8[1],S2hsvrefA1_9[1], S2hsvrefA1_10[1],S2hsvrefA1_11[1], S2hsvrefA1_12[0],S2hsvrefA1_13[1], S2hsvrefA1_14[1],S2hsvrefA1_15[1], S2hsvrefA1_16[1],S2hsvrefA1_17[1]],\n",
        "    'V-ref': [S2hsvrefA1_1[2],S2hsvrefA1_3[2],S2hsvrefA1_4[2],S2hsvrefA1_5[2], S2hsvrefA1_6[2],S2hsvrefA1_7[2], S2hsvrefA1_8[2],S2hsvrefA1_9[2], S2hsvrefA1_10[2],S2hsvrefA1_11[2], S2hsvrefA1_12[0],S2hsvrefA1_13[2], S2hsvrefA1_14[2],S2hsvrefA1_15[2], S2hsvrefA1_16[2],S2hsvrefA1_17[2]],\n",
        "    'H-Shad': [S2hsvA1_2[0],S2hsvA2_1[0],S2hsvA3_1[0],S2hsvA3_51[0],S2hsvA4_1[0],S2hsvB1_1[0],S2hsvB2_1[0],S2hsvB3_1[0],S2hsvB4_1[0],S2hsvC1_1[0],S2hsvC2_1[0],S2hsvC3_1[0],S2hsvC4_1[0],S2hsvD2_1[0],S2hsvD3_1[0],S2hsvD4_1[0]],\n",
        "    'S-Shad': [S2hsvA1_2[1],S2hsvA2_1[1],S2hsvA3_1[1],S2hsvA3_51[1],S2hsvA4_1[1],S2hsvB1_1[1],S2hsvB2_1[1],S2hsvB3_1[1],S2hsvB4_1[1],S2hsvC1_1[1],S2hsvC2_1[1],S2hsvC3_1[1],S2hsvC4_1[1],S2hsvD2_1[1],S2hsvD3_1[1],S2hsvD4_1[1]],\n",
        "    'V-Shad': [S2hsvA1_2[2],S2hsvA2_1[2],S2hsvA3_1[2],S2hsvA3_51[2],S2hsvA4_1[2],S2hsvB1_1[2],S2hsvB2_1[2],S2hsvB3_1[2],S2hsvB4_1[2],S2hsvC1_1[2],S2hsvC2_1[2],S2hsvC3_1[2],S2hsvC4_1[2],S2hsvD2_1[2],S2hsvD3_1[2],S2hsvD4_1[2]],\n",
        "    'Shade-ref': ['A1', 'A1', 'A1',  'A1', 'A1', 'A1', 'A1', 'A1', 'A1', 'A1', 'A1', 'A1', 'A1', 'A1', 'A1', 'A1'],\n",
        "    'Shade':      ['A1', 'A2', 'A3', 'A3_5', 'A4', 'B1', 'B2', 'B3', 'B4', 'C1', 'C2', 'C3', 'C4', 'D2', 'D3', 'D4'],\n",
        "    'Setting':     ['Set2', 'Set2', 'Set2', 'Set2', 'Set2', 'Set2', 'Set2', 'Set2', 'Set2', 'Set2', 'Set2', 'Set2', 'Set2', 'Set2', 'Set2', 'Set2']}) "
      ],
      "execution_count": 246,
      "outputs": []
    },
    {
      "cell_type": "code",
      "metadata": {
        "id": "kIf8qhVwQvpH"
      },
      "source": [
        "df3 = pd.DataFrame({'R-ref': [S3rgbrefA1_1[0],S3rgbrefA1_3[0],S3rgbrefA1_4[0], S3rgbrefA1_5[0], S3rgbrefA1_6[0],S3rgbrefA1_7[0], S3rgbrefA1_8[0],S3rgbrefA1_9[0], S3rgbrefA1_10[0], S3rgbrefA1_11[0], S3rgbrefA1_12[0], S3rgbrefA1_13[0], S3rgbrefA1_14[0], S3rgbrefA1_15[0], S3rgbrefA1_16[0], S3rgbrefA1_17[0]],\n",
        "    'G-ref': [S3rgbrefA1_1[1], S3rgbrefA1_3[1], S3rgbrefA1_4[1], S3rgbrefA1_5[1], S3rgbrefA1_6[1], S3rgbrefA1_7[1], S3rgbrefA1_8[1], S3rgbrefA1_9[1], S3rgbrefA1_10[1], S3rgbrefA1_11[1], S3rgbrefA1_12[1], S3rgbrefA1_13[1], S3rgbrefA1_14[1], S3rgbrefA1_15[1], S3rgbrefA1_16[1], S3rgbrefA1_17[1]],\n",
        "    'B-ref': [S3rgbrefA1_1[2],S3rgbrefA1_3[2],S3rgbrefA1_4[2],S3rgbrefA1_5[2], S3rgbrefA1_6[2],S3rgbrefA1_7[2], S3rgbrefA1_8[2],S3rgbrefA1_9[2], S3rgbrefA1_10[2],S3rgbrefA1_11[2], S3rgbrefA1_12[2],S3rgbrefA1_13[2], S3rgbrefA1_14[2],S3rgbrefA1_15[2], S3rgbrefA1_16[2],S3rgbrefA1_17[2]],\n",
        "    'R-Shad': [S3rgbA1_2[0],S3rgbA2_1[0],S3rgbA3_1[0],S3rgbA3_51[0],S3rgbA4_1[0],S3rgbB1_1[0],S3rgbB2_1[0],S3rgbB3_1[0],S3rgbB4_1[0],S3rgbC1_1[0],S3rgbC2_1[0],S3rgbC3_1[0],S3rgbC4_1[0],S3rgbD2_1[0],S3rgbD3_1[0],S3rgbD4_1[0]],\n",
        "    'G-Shad': [S3rgbA1_2[1],S3rgbA2_1[1],S3rgbA3_1[1], S3rgbA3_51[1],S3rgbA4_1[1],S3rgbB1_1[1],S3rgbB2_1[1],S3rgbB3_1[1],S3rgbB4_1[1],S3rgbC1_1[1],S3rgbC2_1[1],S3rgbC3_1[1],S3rgbC4_1[1],S3rgbD2_1[1],S3rgbD3_1[1], S3rgbD4_1[1]],\n",
        "    'B-Shad': [S3rgbA1_2[2],S3rgbA2_1[2],S3rgbA3_1[2],S3rgbA3_51[2],S3rgbA4_1[2],S3rgbB1_1[2],S3rgbB2_1[2],S3rgbB3_1[2],S3rgbB4_1[2],S3rgbC1_1[2],S3rgbC2_1[2],S3rgbC3_1[2],S3rgbC4_1[2],S3rgbD2_1[2],S3rgbD3_1[2], S3rgbD4_1[2]],\n",
        "    'H-ref': [S3hsvrefA1_1[0],S3hsvrefA1_3[0],S3hsvrefA1_4[0],S3hsvrefA1_5[0], S3hsvrefA1_6[0],S3hsvrefA1_7[0], S3hsvrefA1_8[0],S3hsvrefA1_9[0], S3hsvrefA1_10[0],S3hsvrefA1_11[0], S3hsvrefA1_12[0],S3hsvrefA1_13[0], S3hsvrefA1_14[0],S3hsvrefA1_15[0], S3hsvrefA1_16[0],S3hsvrefA1_17[0]],\n",
        "    'S-ref': [S3hsvrefA1_1[1],S3hsvrefA1_3[1],S3hsvrefA1_4[1],S3hsvrefA1_5[1], S3hsvrefA1_6[1],S3hsvrefA1_7[1], S3hsvrefA1_8[1],S3hsvrefA1_9[1], S3hsvrefA1_10[1],S3hsvrefA1_11[1], S3hsvrefA1_12[0],S3hsvrefA1_13[1], S3hsvrefA1_14[1],S3hsvrefA1_15[1], S3hsvrefA1_16[1],S3hsvrefA1_17[1]],\n",
        "    'V-ref': [S3hsvrefA1_1[2],S3hsvrefA1_3[2],S3hsvrefA1_4[2],S3hsvrefA1_5[2], S3hsvrefA1_6[2],S3hsvrefA1_7[2], S3hsvrefA1_8[2],S3hsvrefA1_9[2], S3hsvrefA1_10[2],S3hsvrefA1_11[2], S3hsvrefA1_12[0],S3hsvrefA1_13[2], S3hsvrefA1_14[2],S3hsvrefA1_15[2], S3hsvrefA1_16[2],S3hsvrefA1_17[2]],\n",
        "    'H-Shad': [S3hsvA1_2[0],S3hsvA2_1[0],S3hsvA3_1[0],S3hsvA3_51[0],S3hsvA4_1[0],S3hsvB1_1[0],S3hsvB2_1[0],S3hsvB3_1[0],S3hsvB4_1[0],S3hsvC1_1[0],S3hsvC2_1[0],S3hsvC3_1[0],S3hsvC4_1[0],S3hsvD2_1[0],S3hsvD3_1[0],S3hsvD4_1[0]],\n",
        "    'S-Shad': [S3hsvA1_2[1],S3hsvA2_1[1],S3hsvA3_1[1],S3hsvA3_51[1],S3hsvA4_1[1],S3hsvB1_1[1],S3hsvB2_1[1],S3hsvB3_1[1],S3hsvB4_1[1],S3hsvC1_1[1],S3hsvC2_1[1],S3hsvC3_1[1],S3hsvC4_1[1],S3hsvD2_1[1],S3hsvD3_1[1],S3hsvD4_1[1]],\n",
        "    'V-Shad': [S3hsvA1_2[2],S3hsvA2_1[2],S3hsvA3_1[2],S3hsvA3_51[2],S3hsvA4_1[2],S3hsvB1_1[2],S3hsvB2_1[2],S3hsvB3_1[2],S3hsvB4_1[2],S3hsvC1_1[2],S3hsvC2_1[2],S3hsvC3_1[2],S3hsvC4_1[2],S3hsvD2_1[2],S3hsvD3_1[2],S3hsvD4_1[2]],\n",
        "    'Shade-ref': ['A1', 'A1', 'A1',  'A1', 'A1', 'A1', 'A1', 'A1', 'A1', 'A1', 'A1', 'A1', 'A1', 'A1', 'A1', 'A1'],\n",
        "    'Shade':      ['A1', 'A2', 'A3', 'A3_5', 'A4', 'B1', 'B2', 'B3', 'B4', 'C1', 'C2', 'C3', 'C4', 'D2', 'D3', 'D4'],\n",
        "    'Setting':     ['Set3', 'Set3', 'Set3', 'Set3', 'Set3', 'Set3', 'Set3', 'Set3', 'Set3', 'Set3', 'Set3', 'Set3', 'Set3', 'Set3', 'Set3', 'Set3']}) "
      ],
      "execution_count": null,
      "outputs": []
    },
    {
      "cell_type": "code",
      "metadata": {
        "id": "s2Mvgj_WiADP"
      },
      "source": [
        "df4 = pd.DataFrame({'R-ref': [S4rgbrefA1_1[0],S4rgbrefA1_3[0],S4rgbrefA1_4[0], S4rgbrefA1_5[0], S4rgbrefA1_6[0],S4rgbrefA1_7[0], S4rgbrefA1_8[0],S4rgbrefA1_9[0], S4rgbrefA1_10[0], S4rgbrefA1_11[0], S4rgbrefA1_12[0], S4rgbrefA1_13[0], S4rgbrefA1_14[0], S4rgbrefA1_15[0], S4rgbrefA1_16[0], S4rgbrefA1_17[0]],\n",
        "    'G-ref': [S4rgbrefA1_1[1], S4rgbrefA1_3[1], S4rgbrefA1_4[1], S4rgbrefA1_5[1], S4rgbrefA1_6[1], S4rgbrefA1_7[1], S4rgbrefA1_8[1], S4rgbrefA1_9[1], S4rgbrefA1_10[1], S4rgbrefA1_11[1], S4rgbrefA1_12[1], S4rgbrefA1_13[1], S4rgbrefA1_14[1], S4rgbrefA1_15[1], S4rgbrefA1_16[1], S4rgbrefA1_17[1]],\n",
        "    'B-ref': [S4rgbrefA1_1[2],S4rgbrefA1_3[2],S4rgbrefA1_4[2],S4rgbrefA1_5[2], S4rgbrefA1_6[2],S4rgbrefA1_7[2], S4rgbrefA1_8[2],S4rgbrefA1_9[2], S4rgbrefA1_10[2],S4rgbrefA1_11[2], S4rgbrefA1_12[2],S4rgbrefA1_13[2], S4rgbrefA1_14[2],S4rgbrefA1_15[2], S4rgbrefA1_16[2],S4rgbrefA1_17[2]],\n",
        "    'R-Shad': [S4rgbA1_2[0],S4rgbA2_1[0],S4rgbA3_1[0],S4rgbA3_51[0],S4rgbA4_1[0],S4rgbB1_1[0],S4rgbB2_1[0],S4rgbB3_1[0],S4rgbB4_1[0],S4rgbC1_1[0],S4rgbC2_1[0],S4rgbC3_1[0],S4rgbC4_1[0],S4rgbD2_1[0],S4rgbD3_1[0],S4rgbD4_1[0]],\n",
        "    'G-Shad': [S4rgbA1_2[1],S4rgbA2_1[1],S4rgbA3_1[1], S4rgbA3_51[1],S4rgbA4_1[1],S4rgbB1_1[1],S4rgbB2_1[1],S4rgbB3_1[1],S4rgbB4_1[1],S4rgbC1_1[1],S4rgbC2_1[1],S4rgbC3_1[1],S4rgbC4_1[1],S4rgbD2_1[1],S4rgbD3_1[1], S4rgbD4_1[1]],\n",
        "    'B-Shad': [S4rgbA1_2[2],S4rgbA2_1[2],S4rgbA3_1[2],S4rgbA3_51[2],S4rgbA4_1[2],S4rgbB1_1[2],S4rgbB2_1[2],S4rgbB3_1[2],S4rgbB4_1[2],S4rgbC1_1[2],S4rgbC2_1[2],S4rgbC3_1[2],S4rgbC4_1[2],S4rgbD2_1[2],S4rgbD3_1[2], S4rgbD4_1[2]],\n",
        "    'H-ref': [S4hsvrefA1_1[0],S4hsvrefA1_3[0],S4hsvrefA1_4[0],S4hsvrefA1_5[0], S4hsvrefA1_6[0],S4hsvrefA1_7[0], S4hsvrefA1_8[0],S4hsvrefA1_9[0], S4hsvrefA1_10[0],S4hsvrefA1_11[0], S4hsvrefA1_12[0],S4hsvrefA1_13[0], S4hsvrefA1_14[0],S4hsvrefA1_15[0], S4hsvrefA1_16[0],S4hsvrefA1_17[0]],\n",
        "    'S-ref': [S4hsvrefA1_1[1],S4hsvrefA1_3[1],S4hsvrefA1_4[1],S4hsvrefA1_5[1], S4hsvrefA1_6[1],S4hsvrefA1_7[1], S4hsvrefA1_8[1],S4hsvrefA1_9[1], S4hsvrefA1_10[1],S4hsvrefA1_11[1], S4hsvrefA1_12[0],S4hsvrefA1_13[1], S4hsvrefA1_14[1],S4hsvrefA1_15[1], S4hsvrefA1_16[1],S4hsvrefA1_17[1]],\n",
        "    'V-ref': [S4hsvrefA1_1[2],S4hsvrefA1_3[2],S4hsvrefA1_4[2],S4hsvrefA1_5[2], S4hsvrefA1_6[2],S4hsvrefA1_7[2], S4hsvrefA1_8[2],S4hsvrefA1_9[2], S4hsvrefA1_10[2],S4hsvrefA1_11[2], S4hsvrefA1_12[0],S4hsvrefA1_13[2], S4hsvrefA1_14[2],S4hsvrefA1_15[2], S4hsvrefA1_16[2],S4hsvrefA1_17[2]],\n",
        "    'H-Shad': [S4hsvA1_2[0],S4hsvA2_1[0],S4hsvA3_1[0],S4hsvA3_51[0],S4hsvA4_1[0],S4hsvB1_1[0],S4hsvB2_1[0],S4hsvB3_1[0],S4hsvB4_1[0],S4hsvC1_1[0],S4hsvC2_1[0],S4hsvC3_1[0],S4hsvC4_1[0],S4hsvD2_1[0],S4hsvD3_1[0],S4hsvD4_1[0]],\n",
        "    'S-Shad': [S4hsvA1_2[1],S4hsvA2_1[1],S4hsvA3_1[1],S4hsvA3_51[1],S4hsvA4_1[1],S4hsvB1_1[1],S4hsvB2_1[1],S4hsvB3_1[1],S4hsvB4_1[1],S4hsvC1_1[1],S4hsvC2_1[1],S4hsvC3_1[1],S4hsvC4_1[1],S4hsvD2_1[1],S4hsvD3_1[1],S4hsvD4_1[1]],\n",
        "    'V-Shad': [S4hsvA1_2[2],S4hsvA2_1[2],S4hsvA3_1[2],S4hsvA3_51[2],S4hsvA4_1[2],S4hsvB1_1[2],S4hsvB2_1[2],S4hsvB3_1[2],S4hsvB4_1[2],S4hsvC1_1[2],S4hsvC2_1[2],S4hsvC3_1[2],S4hsvC4_1[2],S4hsvD2_1[2],S4hsvD3_1[2],S4hsvD4_1[2]],\n",
        "    'Shade-ref': ['A1', 'A1', 'A1',  'A1', 'A1', 'A1', 'A1', 'A1', 'A1', 'A1', 'A1', 'A1', 'A1', 'A1', 'A1', 'A1'],\n",
        "    'Shade':      ['A1', 'A2', 'A3', 'A3_5', 'A4', 'B1', 'B2', 'B3', 'B4', 'C1', 'C2', 'C3', 'C4', 'D2', 'D3', 'D4'],\n",
        "    'Setting':     ['Set4', 'Set4', 'Set4', 'Set4', 'Set4', 'Set4', 'Set4', 'Set4', 'Set4', 'Set4', 'Set4', 'Set4', 'Set4', 'Set4', 'Set4', 'Set4']}) "
      ],
      "execution_count": null,
      "outputs": []
    },
    {
      "cell_type": "code",
      "metadata": {
        "id": "l7KqyM_sQy6i",
        "colab": {
          "base_uri": "https://localhost:8080/",
          "height": 586
        },
        "outputId": "ea7bd706-0888-4946-da85-7e522175c751"
      },
      "source": [
        "df"
      ],
      "execution_count": 247,
      "outputs": [
        {
          "output_type": "execute_result",
          "data": {
            "text/html": [
              "<div>\n",
              "<style scoped>\n",
              "    .dataframe tbody tr th:only-of-type {\n",
              "        vertical-align: middle;\n",
              "    }\n",
              "\n",
              "    .dataframe tbody tr th {\n",
              "        vertical-align: top;\n",
              "    }\n",
              "\n",
              "    .dataframe thead th {\n",
              "        text-align: right;\n",
              "    }\n",
              "</style>\n",
              "<table border=\"1\" class=\"dataframe\">\n",
              "  <thead>\n",
              "    <tr style=\"text-align: right;\">\n",
              "      <th></th>\n",
              "      <th>R-ref</th>\n",
              "      <th>G-ref</th>\n",
              "      <th>B-ref</th>\n",
              "      <th>R-Shad</th>\n",
              "      <th>G-Shad</th>\n",
              "      <th>B-Shad</th>\n",
              "      <th>H-ref</th>\n",
              "      <th>S-ref</th>\n",
              "      <th>V-ref</th>\n",
              "      <th>H-Shad</th>\n",
              "      <th>S-Shad</th>\n",
              "      <th>V-Shad</th>\n",
              "      <th>Shade-ref</th>\n",
              "      <th>Shade</th>\n",
              "      <th>Setting</th>\n",
              "    </tr>\n",
              "  </thead>\n",
              "  <tbody>\n",
              "    <tr>\n",
              "      <th>0</th>\n",
              "      <td>230.461732</td>\n",
              "      <td>219.837107</td>\n",
              "      <td>195.255661</td>\n",
              "      <td>230.932579</td>\n",
              "      <td>220.678401</td>\n",
              "      <td>196.891473</td>\n",
              "      <td>21.045370</td>\n",
              "      <td>38.967860</td>\n",
              "      <td>230.461732</td>\n",
              "      <td>21.109807</td>\n",
              "      <td>37.644051</td>\n",
              "      <td>230.932579</td>\n",
              "      <td>A1</td>\n",
              "      <td>A1</td>\n",
              "      <td>Set1</td>\n",
              "    </tr>\n",
              "    <tr>\n",
              "      <th>1</th>\n",
              "      <td>232.889619</td>\n",
              "      <td>219.385439</td>\n",
              "      <td>193.824608</td>\n",
              "      <td>233.442358</td>\n",
              "      <td>220.404950</td>\n",
              "      <td>195.860821</td>\n",
              "      <td>19.764224</td>\n",
              "      <td>42.850256</td>\n",
              "      <td>232.889619</td>\n",
              "      <td>19.728824</td>\n",
              "      <td>41.161653</td>\n",
              "      <td>233.442358</td>\n",
              "      <td>A1</td>\n",
              "      <td>A2</td>\n",
              "      <td>Set1</td>\n",
              "    </tr>\n",
              "    <tr>\n",
              "      <th>2</th>\n",
              "      <td>232.031410</td>\n",
              "      <td>215.002029</td>\n",
              "      <td>184.841734</td>\n",
              "      <td>232.642842</td>\n",
              "      <td>216.206955</td>\n",
              "      <td>187.228718</td>\n",
              "      <td>19.290155</td>\n",
              "      <td>51.966561</td>\n",
              "      <td>232.031410</td>\n",
              "      <td>19.241590</td>\n",
              "      <td>49.960458</td>\n",
              "      <td>232.642913</td>\n",
              "      <td>A1</td>\n",
              "      <td>A3</td>\n",
              "      <td>Set1</td>\n",
              "    </tr>\n",
              "    <tr>\n",
              "      <th>3</th>\n",
              "      <td>235.163948</td>\n",
              "      <td>210.970295</td>\n",
              "      <td>172.487460</td>\n",
              "      <td>235.662613</td>\n",
              "      <td>212.338596</td>\n",
              "      <td>175.218263</td>\n",
              "      <td>18.428374</td>\n",
              "      <td>68.174418</td>\n",
              "      <td>235.163948</td>\n",
              "      <td>18.460849</td>\n",
              "      <td>65.669796</td>\n",
              "      <td>235.662897</td>\n",
              "      <td>A1</td>\n",
              "      <td>A3_5</td>\n",
              "      <td>Set1</td>\n",
              "    </tr>\n",
              "    <tr>\n",
              "      <th>4</th>\n",
              "      <td>229.335200</td>\n",
              "      <td>206.565620</td>\n",
              "      <td>171.737927</td>\n",
              "      <td>229.951284</td>\n",
              "      <td>207.999502</td>\n",
              "      <td>174.301330</td>\n",
              "      <td>18.131077</td>\n",
              "      <td>64.211184</td>\n",
              "      <td>229.335200</td>\n",
              "      <td>18.195719</td>\n",
              "      <td>61.955409</td>\n",
              "      <td>229.951782</td>\n",
              "      <td>A1</td>\n",
              "      <td>A4</td>\n",
              "      <td>Set1</td>\n",
              "    </tr>\n",
              "    <tr>\n",
              "      <th>5</th>\n",
              "      <td>228.002191</td>\n",
              "      <td>220.855125</td>\n",
              "      <td>205.910559</td>\n",
              "      <td>228.651803</td>\n",
              "      <td>221.906194</td>\n",
              "      <td>207.711756</td>\n",
              "      <td>20.345832</td>\n",
              "      <td>24.747504</td>\n",
              "      <td>228.002191</td>\n",
              "      <td>20.434180</td>\n",
              "      <td>23.436527</td>\n",
              "      <td>228.652087</td>\n",
              "      <td>A1</td>\n",
              "      <td>B1</td>\n",
              "      <td>Set1</td>\n",
              "    </tr>\n",
              "    <tr>\n",
              "      <th>6</th>\n",
              "      <td>230.452317</td>\n",
              "      <td>220.634932</td>\n",
              "      <td>196.581284</td>\n",
              "      <td>231.233056</td>\n",
              "      <td>221.854847</td>\n",
              "      <td>198.747386</td>\n",
              "      <td>21.292265</td>\n",
              "      <td>37.585342</td>\n",
              "      <td>230.452317</td>\n",
              "      <td>21.387668</td>\n",
              "      <td>35.990897</td>\n",
              "      <td>231.233056</td>\n",
              "      <td>A1</td>\n",
              "      <td>B2</td>\n",
              "      <td>Set1</td>\n",
              "    </tr>\n",
              "    <tr>\n",
              "      <th>7</th>\n",
              "      <td>232.031410</td>\n",
              "      <td>215.002029</td>\n",
              "      <td>184.841734</td>\n",
              "      <td>232.642842</td>\n",
              "      <td>216.206955</td>\n",
              "      <td>187.228718</td>\n",
              "      <td>19.892947</td>\n",
              "      <td>64.421638</td>\n",
              "      <td>235.271082</td>\n",
              "      <td>20.205462</td>\n",
              "      <td>61.301899</td>\n",
              "      <td>235.986559</td>\n",
              "      <td>A1</td>\n",
              "      <td>B3</td>\n",
              "      <td>Set1</td>\n",
              "    </tr>\n",
              "    <tr>\n",
              "      <th>8</th>\n",
              "      <td>234.912345</td>\n",
              "      <td>214.079782</td>\n",
              "      <td>170.607743</td>\n",
              "      <td>235.560131</td>\n",
              "      <td>215.311002</td>\n",
              "      <td>173.099993</td>\n",
              "      <td>20.245759</td>\n",
              "      <td>69.932554</td>\n",
              "      <td>234.912345</td>\n",
              "      <td>20.233981</td>\n",
              "      <td>67.785293</td>\n",
              "      <td>235.560131</td>\n",
              "      <td>A1</td>\n",
              "      <td>B4</td>\n",
              "      <td>Set1</td>\n",
              "    </tr>\n",
              "    <tr>\n",
              "      <th>9</th>\n",
              "      <td>227.921760</td>\n",
              "      <td>217.311744</td>\n",
              "      <td>193.225306</td>\n",
              "      <td>228.727900</td>\n",
              "      <td>218.467250</td>\n",
              "      <td>195.385108</td>\n",
              "      <td>20.981252</td>\n",
              "      <td>38.914942</td>\n",
              "      <td>227.921760</td>\n",
              "      <td>21.017637</td>\n",
              "      <td>37.351397</td>\n",
              "      <td>228.733092</td>\n",
              "      <td>A1</td>\n",
              "      <td>C1</td>\n",
              "      <td>Set1</td>\n",
              "    </tr>\n",
              "    <tr>\n",
              "      <th>10</th>\n",
              "      <td>226.577469</td>\n",
              "      <td>210.349241</td>\n",
              "      <td>179.021914</td>\n",
              "      <td>227.207951</td>\n",
              "      <td>211.527701</td>\n",
              "      <td>181.033995</td>\n",
              "      <td>19.769337</td>\n",
              "      <td>19.769337</td>\n",
              "      <td>19.769337</td>\n",
              "      <td>19.811962</td>\n",
              "      <td>51.967570</td>\n",
              "      <td>227.207951</td>\n",
              "      <td>A1</td>\n",
              "      <td>C2</td>\n",
              "      <td>Set1</td>\n",
              "    </tr>\n",
              "    <tr>\n",
              "      <th>11</th>\n",
              "      <td>219.564078</td>\n",
              "      <td>201.000162</td>\n",
              "      <td>168.047805</td>\n",
              "      <td>220.161368</td>\n",
              "      <td>202.119764</td>\n",
              "      <td>169.973117</td>\n",
              "      <td>19.230095</td>\n",
              "      <td>59.954387</td>\n",
              "      <td>219.564078</td>\n",
              "      <td>19.290022</td>\n",
              "      <td>58.319323</td>\n",
              "      <td>220.161368</td>\n",
              "      <td>A1</td>\n",
              "      <td>C3</td>\n",
              "      <td>Set1</td>\n",
              "    </tr>\n",
              "    <tr>\n",
              "      <th>12</th>\n",
              "      <td>211.749452</td>\n",
              "      <td>186.091957</td>\n",
              "      <td>144.423992</td>\n",
              "      <td>212.547756</td>\n",
              "      <td>187.526705</td>\n",
              "      <td>146.644762</td>\n",
              "      <td>18.492979</td>\n",
              "      <td>81.276844</td>\n",
              "      <td>211.749452</td>\n",
              "      <td>18.558495</td>\n",
              "      <td>79.324088</td>\n",
              "      <td>212.547756</td>\n",
              "      <td>A1</td>\n",
              "      <td>C4</td>\n",
              "      <td>Set1</td>\n",
              "    </tr>\n",
              "    <tr>\n",
              "      <th>13</th>\n",
              "      <td>210.690366</td>\n",
              "      <td>197.156481</td>\n",
              "      <td>171.482997</td>\n",
              "      <td>211.334258</td>\n",
              "      <td>198.401181</td>\n",
              "      <td>173.460565</td>\n",
              "      <td>19.785651</td>\n",
              "      <td>47.619106</td>\n",
              "      <td>210.690366</td>\n",
              "      <td>19.969348</td>\n",
              "      <td>45.924401</td>\n",
              "      <td>211.334258</td>\n",
              "      <td>A1</td>\n",
              "      <td>D2</td>\n",
              "      <td>Set1</td>\n",
              "    </tr>\n",
              "    <tr>\n",
              "      <th>14</th>\n",
              "      <td>199.122149</td>\n",
              "      <td>181.538998</td>\n",
              "      <td>146.742635</td>\n",
              "      <td>200.283052</td>\n",
              "      <td>183.476140</td>\n",
              "      <td>149.977740</td>\n",
              "      <td>19.747180</td>\n",
              "      <td>67.191868</td>\n",
              "      <td>199.122149</td>\n",
              "      <td>19.925183</td>\n",
              "      <td>64.384397</td>\n",
              "      <td>200.287035</td>\n",
              "      <td>A1</td>\n",
              "      <td>D3</td>\n",
              "      <td>Set1</td>\n",
              "    </tr>\n",
              "    <tr>\n",
              "      <th>15</th>\n",
              "      <td>211.749452</td>\n",
              "      <td>186.091957</td>\n",
              "      <td>144.423992</td>\n",
              "      <td>171.241164</td>\n",
              "      <td>157.084916</td>\n",
              "      <td>117.984852</td>\n",
              "      <td>18.492979</td>\n",
              "      <td>81.276844</td>\n",
              "      <td>211.749452</td>\n",
              "      <td>22.155465</td>\n",
              "      <td>79.554726</td>\n",
              "      <td>171.241164</td>\n",
              "      <td>A1</td>\n",
              "      <td>D4</td>\n",
              "      <td>Set1</td>\n",
              "    </tr>\n",
              "  </tbody>\n",
              "</table>\n",
              "</div>"
            ],
            "text/plain": [
              "         R-ref       G-ref       B-ref  ...  Shade-ref  Shade  Setting\n",
              "0   230.461732  219.837107  195.255661  ...         A1     A1     Set1\n",
              "1   232.889619  219.385439  193.824608  ...         A1     A2     Set1\n",
              "2   232.031410  215.002029  184.841734  ...         A1     A3     Set1\n",
              "3   235.163948  210.970295  172.487460  ...         A1   A3_5     Set1\n",
              "4   229.335200  206.565620  171.737927  ...         A1     A4     Set1\n",
              "5   228.002191  220.855125  205.910559  ...         A1     B1     Set1\n",
              "6   230.452317  220.634932  196.581284  ...         A1     B2     Set1\n",
              "7   232.031410  215.002029  184.841734  ...         A1     B3     Set1\n",
              "8   234.912345  214.079782  170.607743  ...         A1     B4     Set1\n",
              "9   227.921760  217.311744  193.225306  ...         A1     C1     Set1\n",
              "10  226.577469  210.349241  179.021914  ...         A1     C2     Set1\n",
              "11  219.564078  201.000162  168.047805  ...         A1     C3     Set1\n",
              "12  211.749452  186.091957  144.423992  ...         A1     C4     Set1\n",
              "13  210.690366  197.156481  171.482997  ...         A1     D2     Set1\n",
              "14  199.122149  181.538998  146.742635  ...         A1     D3     Set1\n",
              "15  211.749452  186.091957  144.423992  ...         A1     D4     Set1\n",
              "\n",
              "[16 rows x 15 columns]"
            ]
          },
          "metadata": {},
          "execution_count": 247
        }
      ]
    },
    {
      "cell_type": "code",
      "metadata": {
        "id": "s0YBBbmbQzwH",
        "colab": {
          "base_uri": "https://localhost:8080/",
          "height": 586
        },
        "outputId": "2dc3be60-d307-4125-90fc-0d27819c7035"
      },
      "source": [
        "df2"
      ],
      "execution_count": 248,
      "outputs": [
        {
          "output_type": "execute_result",
          "data": {
            "text/html": [
              "<div>\n",
              "<style scoped>\n",
              "    .dataframe tbody tr th:only-of-type {\n",
              "        vertical-align: middle;\n",
              "    }\n",
              "\n",
              "    .dataframe tbody tr th {\n",
              "        vertical-align: top;\n",
              "    }\n",
              "\n",
              "    .dataframe thead th {\n",
              "        text-align: right;\n",
              "    }\n",
              "</style>\n",
              "<table border=\"1\" class=\"dataframe\">\n",
              "  <thead>\n",
              "    <tr style=\"text-align: right;\">\n",
              "      <th></th>\n",
              "      <th>R-ref</th>\n",
              "      <th>G-ref</th>\n",
              "      <th>B-ref</th>\n",
              "      <th>R-Shad</th>\n",
              "      <th>G-Shad</th>\n",
              "      <th>B-Shad</th>\n",
              "      <th>H-ref</th>\n",
              "      <th>S-ref</th>\n",
              "      <th>V-ref</th>\n",
              "      <th>H-Shad</th>\n",
              "      <th>S-Shad</th>\n",
              "      <th>V-Shad</th>\n",
              "      <th>Shade-ref</th>\n",
              "      <th>Shade</th>\n",
              "      <th>Setting</th>\n",
              "    </tr>\n",
              "  </thead>\n",
              "  <tbody>\n",
              "    <tr>\n",
              "      <th>0</th>\n",
              "      <td>218.270108</td>\n",
              "      <td>209.399481</td>\n",
              "      <td>183.693937</td>\n",
              "      <td>217.791551</td>\n",
              "      <td>208.405377</td>\n",
              "      <td>182.563616</td>\n",
              "      <td>22.490545</td>\n",
              "      <td>40.425696</td>\n",
              "      <td>218.270108</td>\n",
              "      <td>22.246569</td>\n",
              "      <td>41.279710</td>\n",
              "      <td>217.791551</td>\n",
              "      <td>A1</td>\n",
              "      <td>A1</td>\n",
              "      <td>Set2</td>\n",
              "    </tr>\n",
              "    <tr>\n",
              "      <th>1</th>\n",
              "      <td>217.400292</td>\n",
              "      <td>205.048535</td>\n",
              "      <td>171.947813</td>\n",
              "      <td>216.673138</td>\n",
              "      <td>204.137330</td>\n",
              "      <td>170.935922</td>\n",
              "      <td>21.764954</td>\n",
              "      <td>53.341774</td>\n",
              "      <td>217.400292</td>\n",
              "      <td>21.720290</td>\n",
              "      <td>53.862314</td>\n",
              "      <td>216.673138</td>\n",
              "      <td>A1</td>\n",
              "      <td>A2</td>\n",
              "      <td>Set2</td>\n",
              "    </tr>\n",
              "    <tr>\n",
              "      <th>2</th>\n",
              "      <td>218.847171</td>\n",
              "      <td>205.360036</td>\n",
              "      <td>163.610665</td>\n",
              "      <td>218.196714</td>\n",
              "      <td>204.500391</td>\n",
              "      <td>162.918569</td>\n",
              "      <td>22.663501</td>\n",
              "      <td>64.376430</td>\n",
              "      <td>218.847171</td>\n",
              "      <td>22.579689</td>\n",
              "      <td>64.627836</td>\n",
              "      <td>218.196714</td>\n",
              "      <td>A1</td>\n",
              "      <td>A3</td>\n",
              "      <td>Set2</td>\n",
              "    </tr>\n",
              "    <tr>\n",
              "      <th>3</th>\n",
              "      <td>216.578281</td>\n",
              "      <td>198.794010</td>\n",
              "      <td>149.842221</td>\n",
              "      <td>215.977171</td>\n",
              "      <td>197.861674</td>\n",
              "      <td>149.002205</td>\n",
              "      <td>22.035549</td>\n",
              "      <td>78.714065</td>\n",
              "      <td>216.578281</td>\n",
              "      <td>21.943034</td>\n",
              "      <td>79.193514</td>\n",
              "      <td>215.977171</td>\n",
              "      <td>A1</td>\n",
              "      <td>A3_5</td>\n",
              "      <td>Set2</td>\n",
              "    </tr>\n",
              "    <tr>\n",
              "      <th>4</th>\n",
              "      <td>202.797663</td>\n",
              "      <td>186.678111</td>\n",
              "      <td>143.866001</td>\n",
              "      <td>202.068558</td>\n",
              "      <td>185.757912</td>\n",
              "      <td>142.755281</td>\n",
              "      <td>22.662284</td>\n",
              "      <td>74.411655</td>\n",
              "      <td>202.806834</td>\n",
              "      <td>22.452528</td>\n",
              "      <td>75.098428</td>\n",
              "      <td>202.074817</td>\n",
              "      <td>A1</td>\n",
              "      <td>A4</td>\n",
              "      <td>Set2</td>\n",
              "    </tr>\n",
              "    <tr>\n",
              "      <th>5</th>\n",
              "      <td>214.489246</td>\n",
              "      <td>208.706355</td>\n",
              "      <td>192.153478</td>\n",
              "      <td>213.689922</td>\n",
              "      <td>207.765664</td>\n",
              "      <td>191.192020</td>\n",
              "      <td>22.576820</td>\n",
              "      <td>26.567892</td>\n",
              "      <td>214.491924</td>\n",
              "      <td>22.407581</td>\n",
              "      <td>26.859683</td>\n",
              "      <td>213.691487</td>\n",
              "      <td>A1</td>\n",
              "      <td>B1</td>\n",
              "      <td>Set2</td>\n",
              "    </tr>\n",
              "    <tr>\n",
              "      <th>6</th>\n",
              "      <td>216.178963</td>\n",
              "      <td>208.768444</td>\n",
              "      <td>177.307118</td>\n",
              "      <td>215.525425</td>\n",
              "      <td>207.798592</td>\n",
              "      <td>176.438945</td>\n",
              "      <td>24.071342</td>\n",
              "      <td>45.864378</td>\n",
              "      <td>216.178963</td>\n",
              "      <td>23.890904</td>\n",
              "      <td>46.270536</td>\n",
              "      <td>215.525425</td>\n",
              "      <td>A1</td>\n",
              "      <td>B2</td>\n",
              "      <td>Set2</td>\n",
              "    </tr>\n",
              "    <tr>\n",
              "      <th>7</th>\n",
              "      <td>216.195601</td>\n",
              "      <td>204.996916</td>\n",
              "      <td>159.967048</td>\n",
              "      <td>215.564754</td>\n",
              "      <td>204.144798</td>\n",
              "      <td>159.068487</td>\n",
              "      <td>23.858291</td>\n",
              "      <td>66.414009</td>\n",
              "      <td>216.195682</td>\n",
              "      <td>23.764668</td>\n",
              "      <td>66.915440</td>\n",
              "      <td>215.564754</td>\n",
              "      <td>A1</td>\n",
              "      <td>B3</td>\n",
              "      <td>Set2</td>\n",
              "    </tr>\n",
              "    <tr>\n",
              "      <th>8</th>\n",
              "      <td>214.225306</td>\n",
              "      <td>201.381706</td>\n",
              "      <td>150.753754</td>\n",
              "      <td>213.666240</td>\n",
              "      <td>200.615390</td>\n",
              "      <td>149.689780</td>\n",
              "      <td>23.938804</td>\n",
              "      <td>75.751562</td>\n",
              "      <td>214.227985</td>\n",
              "      <td>23.871844</td>\n",
              "      <td>76.521229</td>\n",
              "      <td>213.667876</td>\n",
              "      <td>A1</td>\n",
              "      <td>B4</td>\n",
              "      <td>Set2</td>\n",
              "    </tr>\n",
              "    <tr>\n",
              "      <th>9</th>\n",
              "      <td>208.973866</td>\n",
              "      <td>202.013716</td>\n",
              "      <td>179.247220</td>\n",
              "      <td>208.308513</td>\n",
              "      <td>201.334898</td>\n",
              "      <td>178.587796</td>\n",
              "      <td>22.950897</td>\n",
              "      <td>36.239997</td>\n",
              "      <td>208.973866</td>\n",
              "      <td>22.937344</td>\n",
              "      <td>36.353673</td>\n",
              "      <td>208.308513</td>\n",
              "      <td>A1</td>\n",
              "      <td>C1</td>\n",
              "      <td>Set2</td>\n",
              "    </tr>\n",
              "    <tr>\n",
              "      <th>10</th>\n",
              "      <td>205.210535</td>\n",
              "      <td>195.876877</td>\n",
              "      <td>166.307524</td>\n",
              "      <td>204.450679</td>\n",
              "      <td>195.070905</td>\n",
              "      <td>165.413129</td>\n",
              "      <td>23.109894</td>\n",
              "      <td>23.109894</td>\n",
              "      <td>23.109894</td>\n",
              "      <td>22.963445</td>\n",
              "      <td>48.805277</td>\n",
              "      <td>204.452030</td>\n",
              "      <td>A1</td>\n",
              "      <td>C2</td>\n",
              "      <td>Set2</td>\n",
              "    </tr>\n",
              "    <tr>\n",
              "      <th>11</th>\n",
              "      <td>198.751400</td>\n",
              "      <td>186.591754</td>\n",
              "      <td>148.810730</td>\n",
              "      <td>198.349833</td>\n",
              "      <td>186.104687</td>\n",
              "      <td>148.450324</td>\n",
              "      <td>22.787923</td>\n",
              "      <td>64.035387</td>\n",
              "      <td>198.751400</td>\n",
              "      <td>22.736790</td>\n",
              "      <td>64.110803</td>\n",
              "      <td>198.349833</td>\n",
              "      <td>A1</td>\n",
              "      <td>C3</td>\n",
              "      <td>Set2</td>\n",
              "    </tr>\n",
              "    <tr>\n",
              "      <th>12</th>\n",
              "      <td>197.169061</td>\n",
              "      <td>182.776398</td>\n",
              "      <td>140.339177</td>\n",
              "      <td>196.493493</td>\n",
              "      <td>182.043667</td>\n",
              "      <td>139.449186</td>\n",
              "      <td>22.340232</td>\n",
              "      <td>73.692882</td>\n",
              "      <td>197.172794</td>\n",
              "      <td>22.246000</td>\n",
              "      <td>74.155892</td>\n",
              "      <td>196.494133</td>\n",
              "      <td>A1</td>\n",
              "      <td>C4</td>\n",
              "      <td>Set2</td>\n",
              "    </tr>\n",
              "    <tr>\n",
              "      <th>13</th>\n",
              "      <td>210.043746</td>\n",
              "      <td>202.847415</td>\n",
              "      <td>186.386982</td>\n",
              "      <td>209.317118</td>\n",
              "      <td>201.992248</td>\n",
              "      <td>185.568807</td>\n",
              "      <td>21.508319</td>\n",
              "      <td>28.789384</td>\n",
              "      <td>210.044964</td>\n",
              "      <td>21.208307</td>\n",
              "      <td>28.979304</td>\n",
              "      <td>209.317332</td>\n",
              "      <td>A1</td>\n",
              "      <td>D2</td>\n",
              "      <td>Set2</td>\n",
              "    </tr>\n",
              "    <tr>\n",
              "      <th>14</th>\n",
              "      <td>177.245435</td>\n",
              "      <td>171.375538</td>\n",
              "      <td>145.203961</td>\n",
              "      <td>175.625702</td>\n",
              "      <td>169.571723</td>\n",
              "      <td>143.619088</td>\n",
              "      <td>26.205259</td>\n",
              "      <td>46.857723</td>\n",
              "      <td>177.356789</td>\n",
              "      <td>25.666596</td>\n",
              "      <td>47.109665</td>\n",
              "      <td>175.716876</td>\n",
              "      <td>A1</td>\n",
              "      <td>D3</td>\n",
              "      <td>Set2</td>\n",
              "    </tr>\n",
              "    <tr>\n",
              "      <th>15</th>\n",
              "      <td>197.169061</td>\n",
              "      <td>182.776398</td>\n",
              "      <td>140.339177</td>\n",
              "      <td>174.351682</td>\n",
              "      <td>169.561482</td>\n",
              "      <td>134.855131</td>\n",
              "      <td>22.340232</td>\n",
              "      <td>73.692882</td>\n",
              "      <td>197.172794</td>\n",
              "      <td>26.388593</td>\n",
              "      <td>57.854349</td>\n",
              "      <td>174.351682</td>\n",
              "      <td>A1</td>\n",
              "      <td>D4</td>\n",
              "      <td>Set2</td>\n",
              "    </tr>\n",
              "  </tbody>\n",
              "</table>\n",
              "</div>"
            ],
            "text/plain": [
              "         R-ref       G-ref       B-ref  ...  Shade-ref  Shade  Setting\n",
              "0   218.270108  209.399481  183.693937  ...         A1     A1     Set2\n",
              "1   217.400292  205.048535  171.947813  ...         A1     A2     Set2\n",
              "2   218.847171  205.360036  163.610665  ...         A1     A3     Set2\n",
              "3   216.578281  198.794010  149.842221  ...         A1   A3_5     Set2\n",
              "4   202.797663  186.678111  143.866001  ...         A1     A4     Set2\n",
              "5   214.489246  208.706355  192.153478  ...         A1     B1     Set2\n",
              "6   216.178963  208.768444  177.307118  ...         A1     B2     Set2\n",
              "7   216.195601  204.996916  159.967048  ...         A1     B3     Set2\n",
              "8   214.225306  201.381706  150.753754  ...         A1     B4     Set2\n",
              "9   208.973866  202.013716  179.247220  ...         A1     C1     Set2\n",
              "10  205.210535  195.876877  166.307524  ...         A1     C2     Set2\n",
              "11  198.751400  186.591754  148.810730  ...         A1     C3     Set2\n",
              "12  197.169061  182.776398  140.339177  ...         A1     C4     Set2\n",
              "13  210.043746  202.847415  186.386982  ...         A1     D2     Set2\n",
              "14  177.245435  171.375538  145.203961  ...         A1     D3     Set2\n",
              "15  197.169061  182.776398  140.339177  ...         A1     D4     Set2\n",
              "\n",
              "[16 rows x 15 columns]"
            ]
          },
          "metadata": {},
          "execution_count": 248
        }
      ]
    },
    {
      "cell_type": "code",
      "metadata": {
        "id": "oAA99whHQ0yd",
        "colab": {
          "base_uri": "https://localhost:8080/",
          "height": 587
        },
        "outputId": "8a9d357a-281b-4e44-cd6b-0b386e528612"
      },
      "source": [
        "df3"
      ],
      "execution_count": null,
      "outputs": [
        {
          "output_type": "execute_result",
          "data": {
            "text/html": [
              "<div>\n",
              "<style scoped>\n",
              "    .dataframe tbody tr th:only-of-type {\n",
              "        vertical-align: middle;\n",
              "    }\n",
              "\n",
              "    .dataframe tbody tr th {\n",
              "        vertical-align: top;\n",
              "    }\n",
              "\n",
              "    .dataframe thead th {\n",
              "        text-align: right;\n",
              "    }\n",
              "</style>\n",
              "<table border=\"1\" class=\"dataframe\">\n",
              "  <thead>\n",
              "    <tr style=\"text-align: right;\">\n",
              "      <th></th>\n",
              "      <th>R-ref</th>\n",
              "      <th>G-ref</th>\n",
              "      <th>B-ref</th>\n",
              "      <th>R-Shad</th>\n",
              "      <th>G-Shad</th>\n",
              "      <th>B-Shad</th>\n",
              "      <th>H-ref</th>\n",
              "      <th>S-ref</th>\n",
              "      <th>V-ref</th>\n",
              "      <th>H-Shad</th>\n",
              "      <th>S-Shad</th>\n",
              "      <th>V-Shad</th>\n",
              "      <th>Shade-ref</th>\n",
              "      <th>Shade</th>\n",
              "      <th>Setting</th>\n",
              "    </tr>\n",
              "  </thead>\n",
              "  <tbody>\n",
              "    <tr>\n",
              "      <th>0</th>\n",
              "      <td>219.977437</td>\n",
              "      <td>213.213376</td>\n",
              "      <td>194.602062</td>\n",
              "      <td>219.451319</td>\n",
              "      <td>212.585022</td>\n",
              "      <td>193.913306</td>\n",
              "      <td>22.198279</td>\n",
              "      <td>29.428942</td>\n",
              "      <td>219.977437</td>\n",
              "      <td>22.131001</td>\n",
              "      <td>29.682384</td>\n",
              "      <td>219.451319</td>\n",
              "      <td>A1</td>\n",
              "      <td>A1</td>\n",
              "      <td>Set3</td>\n",
              "    </tr>\n",
              "    <tr>\n",
              "      <th>1</th>\n",
              "      <td>217.588345</td>\n",
              "      <td>209.296648</td>\n",
              "      <td>179.489165</td>\n",
              "      <td>217.089823</td>\n",
              "      <td>208.444492</td>\n",
              "      <td>178.660550</td>\n",
              "      <td>23.357763</td>\n",
              "      <td>44.660011</td>\n",
              "      <td>217.588345</td>\n",
              "      <td>23.160017</td>\n",
              "      <td>45.148994</td>\n",
              "      <td>217.089823</td>\n",
              "      <td>A1</td>\n",
              "      <td>A2</td>\n",
              "      <td>Set3</td>\n",
              "    </tr>\n",
              "    <tr>\n",
              "      <th>2</th>\n",
              "      <td>223.213619</td>\n",
              "      <td>215.090577</td>\n",
              "      <td>174.340881</td>\n",
              "      <td>222.719792</td>\n",
              "      <td>214.292013</td>\n",
              "      <td>173.310006</td>\n",
              "      <td>25.261180</td>\n",
              "      <td>55.924925</td>\n",
              "      <td>223.213619</td>\n",
              "      <td>25.100562</td>\n",
              "      <td>56.678615</td>\n",
              "      <td>222.719792</td>\n",
              "      <td>A1</td>\n",
              "      <td>A3</td>\n",
              "      <td>Set3</td>\n",
              "    </tr>\n",
              "    <tr>\n",
              "      <th>3</th>\n",
              "      <td>219.368071</td>\n",
              "      <td>203.767064</td>\n",
              "      <td>156.938804</td>\n",
              "      <td>218.549321</td>\n",
              "      <td>202.760686</td>\n",
              "      <td>156.010739</td>\n",
              "      <td>22.517653</td>\n",
              "      <td>72.592079</td>\n",
              "      <td>219.368071</td>\n",
              "      <td>22.474504</td>\n",
              "      <td>73.008961</td>\n",
              "      <td>218.549321</td>\n",
              "      <td>A1</td>\n",
              "      <td>A3_5</td>\n",
              "      <td>Set3</td>\n",
              "    </tr>\n",
              "    <tr>\n",
              "      <th>4</th>\n",
              "      <td>209.232530</td>\n",
              "      <td>196.120607</td>\n",
              "      <td>153.536158</td>\n",
              "      <td>208.464405</td>\n",
              "      <td>195.247351</td>\n",
              "      <td>152.593699</td>\n",
              "      <td>22.829235</td>\n",
              "      <td>68.083922</td>\n",
              "      <td>209.233585</td>\n",
              "      <td>22.795036</td>\n",
              "      <td>68.540218</td>\n",
              "      <td>208.465330</td>\n",
              "      <td>A1</td>\n",
              "      <td>A4</td>\n",
              "      <td>Set3</td>\n",
              "    </tr>\n",
              "    <tr>\n",
              "      <th>5</th>\n",
              "      <td>221.798799</td>\n",
              "      <td>218.104456</td>\n",
              "      <td>204.347374</td>\n",
              "      <td>221.221535</td>\n",
              "      <td>217.279568</td>\n",
              "      <td>203.271745</td>\n",
              "      <td>24.376674</td>\n",
              "      <td>20.202743</td>\n",
              "      <td>221.808295</td>\n",
              "      <td>24.113577</td>\n",
              "      <td>20.819074</td>\n",
              "      <td>221.229856</td>\n",
              "      <td>A1</td>\n",
              "      <td>B1</td>\n",
              "      <td>Set3</td>\n",
              "    </tr>\n",
              "    <tr>\n",
              "      <th>6</th>\n",
              "      <td>225.293807</td>\n",
              "      <td>219.992046</td>\n",
              "      <td>191.127993</td>\n",
              "      <td>224.774056</td>\n",
              "      <td>219.291160</td>\n",
              "      <td>190.434393</td>\n",
              "      <td>25.517734</td>\n",
              "      <td>38.715770</td>\n",
              "      <td>225.293807</td>\n",
              "      <td>25.353816</td>\n",
              "      <td>39.014650</td>\n",
              "      <td>224.774056</td>\n",
              "      <td>A1</td>\n",
              "      <td>B2</td>\n",
              "      <td>Set3</td>\n",
              "    </tr>\n",
              "    <tr>\n",
              "      <th>7</th>\n",
              "      <td>208.393393</td>\n",
              "      <td>199.064280</td>\n",
              "      <td>163.813976</td>\n",
              "      <td>207.642344</td>\n",
              "      <td>198.421947</td>\n",
              "      <td>163.030510</td>\n",
              "      <td>23.968753</td>\n",
              "      <td>54.784920</td>\n",
              "      <td>208.415388</td>\n",
              "      <td>24.044876</td>\n",
              "      <td>55.000925</td>\n",
              "      <td>207.661617</td>\n",
              "      <td>A1</td>\n",
              "      <td>B3</td>\n",
              "      <td>Set3</td>\n",
              "    </tr>\n",
              "    <tr>\n",
              "      <th>8</th>\n",
              "      <td>186.909829</td>\n",
              "      <td>182.074750</td>\n",
              "      <td>142.967292</td>\n",
              "      <td>185.959818</td>\n",
              "      <td>180.990470</td>\n",
              "      <td>142.169405</td>\n",
              "      <td>26.878662</td>\n",
              "      <td>59.850743</td>\n",
              "      <td>186.909829</td>\n",
              "      <td>26.774980</td>\n",
              "      <td>59.951355</td>\n",
              "      <td>185.959818</td>\n",
              "      <td>A1</td>\n",
              "      <td>B4</td>\n",
              "      <td>Set3</td>\n",
              "    </tr>\n",
              "    <tr>\n",
              "      <th>9</th>\n",
              "      <td>194.464654</td>\n",
              "      <td>191.818359</td>\n",
              "      <td>173.046181</td>\n",
              "      <td>193.655572</td>\n",
              "      <td>190.952422</td>\n",
              "      <td>172.195221</td>\n",
              "      <td>26.504748</td>\n",
              "      <td>28.065092</td>\n",
              "      <td>194.464654</td>\n",
              "      <td>26.447977</td>\n",
              "      <td>28.245217</td>\n",
              "      <td>193.655572</td>\n",
              "      <td>A1</td>\n",
              "      <td>C1</td>\n",
              "      <td>Set3</td>\n",
              "    </tr>\n",
              "    <tr>\n",
              "      <th>10</th>\n",
              "      <td>213.243000</td>\n",
              "      <td>204.871033</td>\n",
              "      <td>178.680383</td>\n",
              "      <td>212.362848</td>\n",
              "      <td>203.887277</td>\n",
              "      <td>177.834009</td>\n",
              "      <td>22.791738</td>\n",
              "      <td>22.791738</td>\n",
              "      <td>22.791738</td>\n",
              "      <td>22.715952</td>\n",
              "      <td>41.438233</td>\n",
              "      <td>212.362848</td>\n",
              "      <td>A1</td>\n",
              "      <td>C2</td>\n",
              "      <td>Set3</td>\n",
              "    </tr>\n",
              "    <tr>\n",
              "      <th>11</th>\n",
              "      <td>214.379433</td>\n",
              "      <td>202.725590</td>\n",
              "      <td>166.127831</td>\n",
              "      <td>213.534030</td>\n",
              "      <td>201.740559</td>\n",
              "      <td>165.214423</td>\n",
              "      <td>22.793848</td>\n",
              "      <td>57.445743</td>\n",
              "      <td>214.379433</td>\n",
              "      <td>22.710760</td>\n",
              "      <td>57.778607</td>\n",
              "      <td>213.534030</td>\n",
              "      <td>A1</td>\n",
              "      <td>C3</td>\n",
              "      <td>Set3</td>\n",
              "    </tr>\n",
              "    <tr>\n",
              "      <th>12</th>\n",
              "      <td>205.053242</td>\n",
              "      <td>191.500041</td>\n",
              "      <td>149.495333</td>\n",
              "      <td>204.215703</td>\n",
              "      <td>190.582178</td>\n",
              "      <td>148.640993</td>\n",
              "      <td>22.630387</td>\n",
              "      <td>69.124828</td>\n",
              "      <td>205.053242</td>\n",
              "      <td>22.596188</td>\n",
              "      <td>69.430481</td>\n",
              "      <td>204.215703</td>\n",
              "      <td>A1</td>\n",
              "      <td>C4</td>\n",
              "      <td>Set3</td>\n",
              "    </tr>\n",
              "    <tr>\n",
              "      <th>13</th>\n",
              "      <td>219.196169</td>\n",
              "      <td>214.231312</td>\n",
              "      <td>200.919893</td>\n",
              "      <td>218.246000</td>\n",
              "      <td>213.093592</td>\n",
              "      <td>199.576061</td>\n",
              "      <td>22.116792</td>\n",
              "      <td>21.350702</td>\n",
              "      <td>219.196169</td>\n",
              "      <td>22.004623</td>\n",
              "      <td>21.926250</td>\n",
              "      <td>218.246000</td>\n",
              "      <td>A1</td>\n",
              "      <td>D2</td>\n",
              "      <td>Set3</td>\n",
              "    </tr>\n",
              "    <tr>\n",
              "      <th>14</th>\n",
              "      <td>215.760896</td>\n",
              "      <td>207.086844</td>\n",
              "      <td>179.305008</td>\n",
              "      <td>214.866581</td>\n",
              "      <td>206.087334</td>\n",
              "      <td>178.473651</td>\n",
              "      <td>22.857236</td>\n",
              "      <td>43.101615</td>\n",
              "      <td>215.760896</td>\n",
              "      <td>22.772065</td>\n",
              "      <td>43.220824</td>\n",
              "      <td>214.866581</td>\n",
              "      <td>A1</td>\n",
              "      <td>D3</td>\n",
              "      <td>Set3</td>\n",
              "    </tr>\n",
              "    <tr>\n",
              "      <th>15</th>\n",
              "      <td>205.053242</td>\n",
              "      <td>191.500041</td>\n",
              "      <td>149.495333</td>\n",
              "      <td>223.643126</td>\n",
              "      <td>219.338952</td>\n",
              "      <td>178.381979</td>\n",
              "      <td>22.630387</td>\n",
              "      <td>69.124828</td>\n",
              "      <td>205.053242</td>\n",
              "      <td>27.336534</td>\n",
              "      <td>51.625916</td>\n",
              "      <td>223.643126</td>\n",
              "      <td>A1</td>\n",
              "      <td>D4</td>\n",
              "      <td>Set3</td>\n",
              "    </tr>\n",
              "  </tbody>\n",
              "</table>\n",
              "</div>"
            ],
            "text/plain": [
              "         R-ref       G-ref       B-ref  ...  Shade-ref  Shade  Setting\n",
              "0   219.977437  213.213376  194.602062  ...         A1     A1     Set3\n",
              "1   217.588345  209.296648  179.489165  ...         A1     A2     Set3\n",
              "2   223.213619  215.090577  174.340881  ...         A1     A3     Set3\n",
              "3   219.368071  203.767064  156.938804  ...         A1   A3_5     Set3\n",
              "4   209.232530  196.120607  153.536158  ...         A1     A4     Set3\n",
              "5   221.798799  218.104456  204.347374  ...         A1     B1     Set3\n",
              "6   225.293807  219.992046  191.127993  ...         A1     B2     Set3\n",
              "7   208.393393  199.064280  163.813976  ...         A1     B3     Set3\n",
              "8   186.909829  182.074750  142.967292  ...         A1     B4     Set3\n",
              "9   194.464654  191.818359  173.046181  ...         A1     C1     Set3\n",
              "10  213.243000  204.871033  178.680383  ...         A1     C2     Set3\n",
              "11  214.379433  202.725590  166.127831  ...         A1     C3     Set3\n",
              "12  205.053242  191.500041  149.495333  ...         A1     C4     Set3\n",
              "13  219.196169  214.231312  200.919893  ...         A1     D2     Set3\n",
              "14  215.760896  207.086844  179.305008  ...         A1     D3     Set3\n",
              "15  205.053242  191.500041  149.495333  ...         A1     D4     Set3\n",
              "\n",
              "[16 rows x 15 columns]"
            ]
          },
          "metadata": {},
          "execution_count": 472
        }
      ]
    },
    {
      "cell_type": "code",
      "metadata": {
        "id": "JHS2rc_ViAFf",
        "colab": {
          "base_uri": "https://localhost:8080/",
          "height": 587
        },
        "outputId": "a8ff9e18-877d-4e2c-83fc-97dc560e8f1a"
      },
      "source": [
        "df4"
      ],
      "execution_count": null,
      "outputs": [
        {
          "output_type": "execute_result",
          "data": {
            "text/html": [
              "<div>\n",
              "<style scoped>\n",
              "    .dataframe tbody tr th:only-of-type {\n",
              "        vertical-align: middle;\n",
              "    }\n",
              "\n",
              "    .dataframe tbody tr th {\n",
              "        vertical-align: top;\n",
              "    }\n",
              "\n",
              "    .dataframe thead th {\n",
              "        text-align: right;\n",
              "    }\n",
              "</style>\n",
              "<table border=\"1\" class=\"dataframe\">\n",
              "  <thead>\n",
              "    <tr style=\"text-align: right;\">\n",
              "      <th></th>\n",
              "      <th>R-ref</th>\n",
              "      <th>G-ref</th>\n",
              "      <th>B-ref</th>\n",
              "      <th>R-Shad</th>\n",
              "      <th>G-Shad</th>\n",
              "      <th>B-Shad</th>\n",
              "      <th>H-ref</th>\n",
              "      <th>S-ref</th>\n",
              "      <th>V-ref</th>\n",
              "      <th>H-Shad</th>\n",
              "      <th>S-Shad</th>\n",
              "      <th>V-Shad</th>\n",
              "      <th>Shade-ref</th>\n",
              "      <th>Shade</th>\n",
              "      <th>Setting</th>\n",
              "    </tr>\n",
              "  </thead>\n",
              "  <tbody>\n",
              "    <tr>\n",
              "      <th>0</th>\n",
              "      <td>220.936531</td>\n",
              "      <td>220.209074</td>\n",
              "      <td>202.529502</td>\n",
              "      <td>220.311927</td>\n",
              "      <td>219.639286</td>\n",
              "      <td>202.152692</td>\n",
              "      <td>29.122555</td>\n",
              "      <td>21.435841</td>\n",
              "      <td>221.143738</td>\n",
              "      <td>29.266126</td>\n",
              "      <td>21.221819</td>\n",
              "      <td>220.546120</td>\n",
              "      <td>A1</td>\n",
              "      <td>A1</td>\n",
              "      <td>Set4</td>\n",
              "    </tr>\n",
              "    <tr>\n",
              "      <th>1</th>\n",
              "      <td>217.240078</td>\n",
              "      <td>214.657333</td>\n",
              "      <td>189.242594</td>\n",
              "      <td>216.749307</td>\n",
              "      <td>214.175308</td>\n",
              "      <td>188.830524</td>\n",
              "      <td>27.385115</td>\n",
              "      <td>32.797338</td>\n",
              "      <td>217.250386</td>\n",
              "      <td>27.384254</td>\n",
              "      <td>32.784510</td>\n",
              "      <td>216.761255</td>\n",
              "      <td>A1</td>\n",
              "      <td>A2</td>\n",
              "      <td>Set4</td>\n",
              "    </tr>\n",
              "    <tr>\n",
              "      <th>2</th>\n",
              "      <td>225.519520</td>\n",
              "      <td>221.238211</td>\n",
              "      <td>184.858047</td>\n",
              "      <td>225.052699</td>\n",
              "      <td>220.616101</td>\n",
              "      <td>184.239883</td>\n",
              "      <td>26.832643</td>\n",
              "      <td>45.908855</td>\n",
              "      <td>225.519520</td>\n",
              "      <td>26.763673</td>\n",
              "      <td>46.168551</td>\n",
              "      <td>225.052699</td>\n",
              "      <td>A1</td>\n",
              "      <td>A3</td>\n",
              "      <td>Set4</td>\n",
              "    </tr>\n",
              "    <tr>\n",
              "      <th>3</th>\n",
              "      <td>218.265238</td>\n",
              "      <td>210.496794</td>\n",
              "      <td>168.388686</td>\n",
              "      <td>217.628618</td>\n",
              "      <td>209.848304</td>\n",
              "      <td>168.020411</td>\n",
              "      <td>25.518951</td>\n",
              "      <td>58.194627</td>\n",
              "      <td>218.265238</td>\n",
              "      <td>25.486167</td>\n",
              "      <td>58.059100</td>\n",
              "      <td>217.628618</td>\n",
              "      <td>A1</td>\n",
              "      <td>A3_5</td>\n",
              "      <td>Set4</td>\n",
              "    </tr>\n",
              "    <tr>\n",
              "      <th>4</th>\n",
              "      <td>212.697184</td>\n",
              "      <td>204.803344</td>\n",
              "      <td>159.282201</td>\n",
              "      <td>212.305099</td>\n",
              "      <td>204.278785</td>\n",
              "      <td>159.041889</td>\n",
              "      <td>25.807321</td>\n",
              "      <td>64.021265</td>\n",
              "      <td>212.697184</td>\n",
              "      <td>25.704857</td>\n",
              "      <td>63.953844</td>\n",
              "      <td>212.305099</td>\n",
              "      <td>A1</td>\n",
              "      <td>A4</td>\n",
              "      <td>Set4</td>\n",
              "    </tr>\n",
              "    <tr>\n",
              "      <th>5</th>\n",
              "      <td>219.457674</td>\n",
              "      <td>222.972080</td>\n",
              "      <td>209.860563</td>\n",
              "      <td>219.106109</td>\n",
              "      <td>222.550672</td>\n",
              "      <td>209.492568</td>\n",
              "      <td>38.340963</td>\n",
              "      <td>15.057544</td>\n",
              "      <td>222.972080</td>\n",
              "      <td>38.207524</td>\n",
              "      <td>15.007681</td>\n",
              "      <td>222.550672</td>\n",
              "      <td>A1</td>\n",
              "      <td>B1</td>\n",
              "      <td>Set4</td>\n",
              "    </tr>\n",
              "    <tr>\n",
              "      <th>6</th>\n",
              "      <td>216.629576</td>\n",
              "      <td>216.669426</td>\n",
              "      <td>191.264670</td>\n",
              "      <td>215.979945</td>\n",
              "      <td>216.005263</td>\n",
              "      <td>190.782803</td>\n",
              "      <td>30.217596</td>\n",
              "      <td>30.090415</td>\n",
              "      <td>216.929957</td>\n",
              "      <td>30.214067</td>\n",
              "      <td>30.002703</td>\n",
              "      <td>216.286324</td>\n",
              "      <td>A1</td>\n",
              "      <td>B2</td>\n",
              "      <td>Set4</td>\n",
              "    </tr>\n",
              "    <tr>\n",
              "      <th>7</th>\n",
              "      <td>227.410113</td>\n",
              "      <td>223.513595</td>\n",
              "      <td>178.867381</td>\n",
              "      <td>226.533319</td>\n",
              "      <td>222.588009</td>\n",
              "      <td>177.802219</td>\n",
              "      <td>27.937262</td>\n",
              "      <td>54.654655</td>\n",
              "      <td>227.416281</td>\n",
              "      <td>27.914444</td>\n",
              "      <td>55.057322</td>\n",
              "      <td>226.538724</td>\n",
              "      <td>A1</td>\n",
              "      <td>B3</td>\n",
              "      <td>Set4</td>\n",
              "    </tr>\n",
              "    <tr>\n",
              "      <th>8</th>\n",
              "      <td>218.234884</td>\n",
              "      <td>213.238942</td>\n",
              "      <td>161.731759</td>\n",
              "      <td>217.836000</td>\n",
              "      <td>212.718228</td>\n",
              "      <td>161.389588</td>\n",
              "      <td>27.660417</td>\n",
              "      <td>65.988313</td>\n",
              "      <td>218.234884</td>\n",
              "      <td>27.585662</td>\n",
              "      <td>66.042245</td>\n",
              "      <td>217.836000</td>\n",
              "      <td>A1</td>\n",
              "      <td>B4</td>\n",
              "      <td>Set4</td>\n",
              "    </tr>\n",
              "    <tr>\n",
              "      <th>9</th>\n",
              "      <td>215.407678</td>\n",
              "      <td>216.188134</td>\n",
              "      <td>196.216541</td>\n",
              "      <td>214.915013</td>\n",
              "      <td>215.669369</td>\n",
              "      <td>195.770500</td>\n",
              "      <td>31.500446</td>\n",
              "      <td>23.900657</td>\n",
              "      <td>216.496388</td>\n",
              "      <td>31.482043</td>\n",
              "      <td>23.863523</td>\n",
              "      <td>215.991324</td>\n",
              "      <td>A1</td>\n",
              "      <td>C1</td>\n",
              "      <td>Set4</td>\n",
              "    </tr>\n",
              "    <tr>\n",
              "      <th>10</th>\n",
              "      <td>219.312556</td>\n",
              "      <td>215.597922</td>\n",
              "      <td>187.177096</td>\n",
              "      <td>218.557855</td>\n",
              "      <td>214.820283</td>\n",
              "      <td>186.340232</td>\n",
              "      <td>26.282363</td>\n",
              "      <td>26.282363</td>\n",
              "      <td>26.282363</td>\n",
              "      <td>26.263139</td>\n",
              "      <td>37.680250</td>\n",
              "      <td>218.568452</td>\n",
              "      <td>A1</td>\n",
              "      <td>C2</td>\n",
              "      <td>Set4</td>\n",
              "    </tr>\n",
              "    <tr>\n",
              "      <th>11</th>\n",
              "      <td>216.841084</td>\n",
              "      <td>211.469767</td>\n",
              "      <td>174.474799</td>\n",
              "      <td>216.597255</td>\n",
              "      <td>211.207382</td>\n",
              "      <td>174.176232</td>\n",
              "      <td>26.592728</td>\n",
              "      <td>49.851717</td>\n",
              "      <td>216.841084</td>\n",
              "      <td>26.582320</td>\n",
              "      <td>49.955266</td>\n",
              "      <td>216.597255</td>\n",
              "      <td>A1</td>\n",
              "      <td>C3</td>\n",
              "      <td>Set4</td>\n",
              "    </tr>\n",
              "    <tr>\n",
              "      <th>12</th>\n",
              "      <td>216.892947</td>\n",
              "      <td>209.578849</td>\n",
              "      <td>165.181641</td>\n",
              "      <td>216.301117</td>\n",
              "      <td>208.837992</td>\n",
              "      <td>164.164995</td>\n",
              "      <td>27.094148</td>\n",
              "      <td>61.265076</td>\n",
              "      <td>216.943673</td>\n",
              "      <td>26.791053</td>\n",
              "      <td>61.863025</td>\n",
              "      <td>216.339378</td>\n",
              "      <td>A1</td>\n",
              "      <td>C4</td>\n",
              "      <td>Set4</td>\n",
              "    </tr>\n",
              "    <tr>\n",
              "      <th>13</th>\n",
              "      <td>226.250304</td>\n",
              "      <td>226.364418</td>\n",
              "      <td>206.890837</td>\n",
              "      <td>225.779034</td>\n",
              "      <td>225.848731</td>\n",
              "      <td>206.380912</td>\n",
              "      <td>30.493791</td>\n",
              "      <td>22.386008</td>\n",
              "      <td>226.898628</td>\n",
              "      <td>30.416115</td>\n",
              "      <td>22.470735</td>\n",
              "      <td>226.408292</td>\n",
              "      <td>A1</td>\n",
              "      <td>D2</td>\n",
              "      <td>Set4</td>\n",
              "    </tr>\n",
              "    <tr>\n",
              "      <th>14</th>\n",
              "      <td>221.403052</td>\n",
              "      <td>217.426426</td>\n",
              "      <td>188.743933</td>\n",
              "      <td>220.877036</td>\n",
              "      <td>216.910035</td>\n",
              "      <td>188.415191</td>\n",
              "      <td>26.406947</td>\n",
              "      <td>37.572518</td>\n",
              "      <td>221.403052</td>\n",
              "      <td>26.399047</td>\n",
              "      <td>37.439940</td>\n",
              "      <td>220.877036</td>\n",
              "      <td>A1</td>\n",
              "      <td>D3</td>\n",
              "      <td>Set4</td>\n",
              "    </tr>\n",
              "    <tr>\n",
              "      <th>15</th>\n",
              "      <td>216.892947</td>\n",
              "      <td>209.578849</td>\n",
              "      <td>165.181641</td>\n",
              "      <td>220.118555</td>\n",
              "      <td>217.154612</td>\n",
              "      <td>174.275941</td>\n",
              "      <td>27.094148</td>\n",
              "      <td>61.265076</td>\n",
              "      <td>216.943673</td>\n",
              "      <td>28.036057</td>\n",
              "      <td>53.081715</td>\n",
              "      <td>220.118555</td>\n",
              "      <td>A1</td>\n",
              "      <td>D4</td>\n",
              "      <td>Set4</td>\n",
              "    </tr>\n",
              "  </tbody>\n",
              "</table>\n",
              "</div>"
            ],
            "text/plain": [
              "         R-ref       G-ref       B-ref  ...  Shade-ref  Shade  Setting\n",
              "0   220.936531  220.209074  202.529502  ...         A1     A1     Set4\n",
              "1   217.240078  214.657333  189.242594  ...         A1     A2     Set4\n",
              "2   225.519520  221.238211  184.858047  ...         A1     A3     Set4\n",
              "3   218.265238  210.496794  168.388686  ...         A1   A3_5     Set4\n",
              "4   212.697184  204.803344  159.282201  ...         A1     A4     Set4\n",
              "5   219.457674  222.972080  209.860563  ...         A1     B1     Set4\n",
              "6   216.629576  216.669426  191.264670  ...         A1     B2     Set4\n",
              "7   227.410113  223.513595  178.867381  ...         A1     B3     Set4\n",
              "8   218.234884  213.238942  161.731759  ...         A1     B4     Set4\n",
              "9   215.407678  216.188134  196.216541  ...         A1     C1     Set4\n",
              "10  219.312556  215.597922  187.177096  ...         A1     C2     Set4\n",
              "11  216.841084  211.469767  174.474799  ...         A1     C3     Set4\n",
              "12  216.892947  209.578849  165.181641  ...         A1     C4     Set4\n",
              "13  226.250304  226.364418  206.890837  ...         A1     D2     Set4\n",
              "14  221.403052  217.426426  188.743933  ...         A1     D3     Set4\n",
              "15  216.892947  209.578849  165.181641  ...         A1     D4     Set4\n",
              "\n",
              "[16 rows x 15 columns]"
            ]
          },
          "metadata": {},
          "execution_count": 473
        }
      ]
    },
    {
      "cell_type": "code",
      "metadata": {
        "id": "4ZDZGQwVQ28o",
        "colab": {
          "base_uri": "https://localhost:8080/",
          "height": 460
        },
        "outputId": "5e727d98-177d-4021-8018-550bf34ca42d"
      },
      "source": [
        "A1_concat = pd.concat([df,df2,df3,df4])\n",
        "A1_concat"
      ],
      "execution_count": null,
      "outputs": [
        {
          "output_type": "execute_result",
          "data": {
            "text/html": [
              "<div>\n",
              "<style scoped>\n",
              "    .dataframe tbody tr th:only-of-type {\n",
              "        vertical-align: middle;\n",
              "    }\n",
              "\n",
              "    .dataframe tbody tr th {\n",
              "        vertical-align: top;\n",
              "    }\n",
              "\n",
              "    .dataframe thead th {\n",
              "        text-align: right;\n",
              "    }\n",
              "</style>\n",
              "<table border=\"1\" class=\"dataframe\">\n",
              "  <thead>\n",
              "    <tr style=\"text-align: right;\">\n",
              "      <th></th>\n",
              "      <th>R-ref</th>\n",
              "      <th>G-ref</th>\n",
              "      <th>B-ref</th>\n",
              "      <th>R-Shad</th>\n",
              "      <th>G-Shad</th>\n",
              "      <th>B-Shad</th>\n",
              "      <th>H-ref</th>\n",
              "      <th>S-ref</th>\n",
              "      <th>V-ref</th>\n",
              "      <th>H-Shad</th>\n",
              "      <th>S-Shad</th>\n",
              "      <th>V-Shad</th>\n",
              "      <th>Shade-ref</th>\n",
              "      <th>Shade</th>\n",
              "      <th>Setting</th>\n",
              "    </tr>\n",
              "  </thead>\n",
              "  <tbody>\n",
              "    <tr>\n",
              "      <th>0</th>\n",
              "      <td>237.144469</td>\n",
              "      <td>225.537862</td>\n",
              "      <td>191.670806</td>\n",
              "      <td>237.809189</td>\n",
              "      <td>226.416827</td>\n",
              "      <td>193.195363</td>\n",
              "      <td>22.295755</td>\n",
              "      <td>48.938885</td>\n",
              "      <td>237.144469</td>\n",
              "      <td>22.332764</td>\n",
              "      <td>47.917502</td>\n",
              "      <td>237.810967</td>\n",
              "      <td>A1</td>\n",
              "      <td>A1</td>\n",
              "      <td>Set1</td>\n",
              "    </tr>\n",
              "    <tr>\n",
              "      <th>1</th>\n",
              "      <td>238.268079</td>\n",
              "      <td>221.316046</td>\n",
              "      <td>178.404350</td>\n",
              "      <td>238.887206</td>\n",
              "      <td>222.169618</td>\n",
              "      <td>179.650309</td>\n",
              "      <td>21.821524</td>\n",
              "      <td>64.105673</td>\n",
              "      <td>238.268079</td>\n",
              "      <td>21.833867</td>\n",
              "      <td>63.295000</td>\n",
              "      <td>238.887206</td>\n",
              "      <td>A1</td>\n",
              "      <td>A2</td>\n",
              "      <td>Set1</td>\n",
              "    </tr>\n",
              "    <tr>\n",
              "      <th>2</th>\n",
              "      <td>239.281633</td>\n",
              "      <td>218.345102</td>\n",
              "      <td>169.227011</td>\n",
              "      <td>239.769931</td>\n",
              "      <td>219.259014</td>\n",
              "      <td>170.835431</td>\n",
              "      <td>21.047318</td>\n",
              "      <td>74.729567</td>\n",
              "      <td>239.281633</td>\n",
              "      <td>21.141099</td>\n",
              "      <td>73.416827</td>\n",
              "      <td>239.770927</td>\n",
              "      <td>A1</td>\n",
              "      <td>A3</td>\n",
              "      <td>Set1</td>\n",
              "    </tr>\n",
              "    <tr>\n",
              "      <th>3</th>\n",
              "      <td>237.557341</td>\n",
              "      <td>211.824933</td>\n",
              "      <td>157.151286</td>\n",
              "      <td>238.258232</td>\n",
              "      <td>212.947657</td>\n",
              "      <td>158.989617</td>\n",
              "      <td>20.619430</td>\n",
              "      <td>86.358088</td>\n",
              "      <td>237.557341</td>\n",
              "      <td>20.636299</td>\n",
              "      <td>84.931584</td>\n",
              "      <td>238.258232</td>\n",
              "      <td>A1</td>\n",
              "      <td>A3_5</td>\n",
              "      <td>Set1</td>\n",
              "    </tr>\n",
              "    <tr>\n",
              "      <th>4</th>\n",
              "      <td>237.519925</td>\n",
              "      <td>210.901388</td>\n",
              "      <td>155.769986</td>\n",
              "      <td>238.209018</td>\n",
              "      <td>211.981296</td>\n",
              "      <td>157.371168</td>\n",
              "      <td>20.366123</td>\n",
              "      <td>87.840029</td>\n",
              "      <td>237.519925</td>\n",
              "      <td>20.427779</td>\n",
              "      <td>86.631178</td>\n",
              "      <td>238.209018</td>\n",
              "      <td>A1</td>\n",
              "      <td>A4</td>\n",
              "      <td>Set1</td>\n",
              "    </tr>\n",
              "    <tr>\n",
              "      <th>...</th>\n",
              "      <td>...</td>\n",
              "      <td>...</td>\n",
              "      <td>...</td>\n",
              "      <td>...</td>\n",
              "      <td>...</td>\n",
              "      <td>...</td>\n",
              "      <td>...</td>\n",
              "      <td>...</td>\n",
              "      <td>...</td>\n",
              "      <td>...</td>\n",
              "      <td>...</td>\n",
              "      <td>...</td>\n",
              "      <td>...</td>\n",
              "      <td>...</td>\n",
              "      <td>...</td>\n",
              "    </tr>\n",
              "    <tr>\n",
              "      <th>11</th>\n",
              "      <td>216.841084</td>\n",
              "      <td>211.469767</td>\n",
              "      <td>174.474799</td>\n",
              "      <td>216.597255</td>\n",
              "      <td>211.207382</td>\n",
              "      <td>174.176232</td>\n",
              "      <td>26.592728</td>\n",
              "      <td>49.851717</td>\n",
              "      <td>216.841084</td>\n",
              "      <td>26.582320</td>\n",
              "      <td>49.955266</td>\n",
              "      <td>216.597255</td>\n",
              "      <td>A1</td>\n",
              "      <td>C3</td>\n",
              "      <td>Set4</td>\n",
              "    </tr>\n",
              "    <tr>\n",
              "      <th>12</th>\n",
              "      <td>216.892947</td>\n",
              "      <td>209.578849</td>\n",
              "      <td>165.181641</td>\n",
              "      <td>216.301117</td>\n",
              "      <td>208.837992</td>\n",
              "      <td>164.164995</td>\n",
              "      <td>27.094148</td>\n",
              "      <td>61.265076</td>\n",
              "      <td>216.943673</td>\n",
              "      <td>26.791053</td>\n",
              "      <td>61.863025</td>\n",
              "      <td>216.339378</td>\n",
              "      <td>A1</td>\n",
              "      <td>C4</td>\n",
              "      <td>Set4</td>\n",
              "    </tr>\n",
              "    <tr>\n",
              "      <th>13</th>\n",
              "      <td>226.250304</td>\n",
              "      <td>226.364418</td>\n",
              "      <td>206.890837</td>\n",
              "      <td>225.779034</td>\n",
              "      <td>225.848731</td>\n",
              "      <td>206.380912</td>\n",
              "      <td>30.493791</td>\n",
              "      <td>22.386008</td>\n",
              "      <td>226.898628</td>\n",
              "      <td>30.416115</td>\n",
              "      <td>22.470735</td>\n",
              "      <td>226.408292</td>\n",
              "      <td>A1</td>\n",
              "      <td>D2</td>\n",
              "      <td>Set4</td>\n",
              "    </tr>\n",
              "    <tr>\n",
              "      <th>14</th>\n",
              "      <td>221.403052</td>\n",
              "      <td>217.426426</td>\n",
              "      <td>188.743933</td>\n",
              "      <td>220.877036</td>\n",
              "      <td>216.910035</td>\n",
              "      <td>188.415191</td>\n",
              "      <td>26.406947</td>\n",
              "      <td>37.572518</td>\n",
              "      <td>221.403052</td>\n",
              "      <td>26.399047</td>\n",
              "      <td>37.439940</td>\n",
              "      <td>220.877036</td>\n",
              "      <td>A1</td>\n",
              "      <td>D3</td>\n",
              "      <td>Set4</td>\n",
              "    </tr>\n",
              "    <tr>\n",
              "      <th>15</th>\n",
              "      <td>216.892947</td>\n",
              "      <td>209.578849</td>\n",
              "      <td>165.181641</td>\n",
              "      <td>220.118555</td>\n",
              "      <td>217.154612</td>\n",
              "      <td>174.275941</td>\n",
              "      <td>27.094148</td>\n",
              "      <td>61.265076</td>\n",
              "      <td>216.943673</td>\n",
              "      <td>28.036057</td>\n",
              "      <td>53.081715</td>\n",
              "      <td>220.118555</td>\n",
              "      <td>A1</td>\n",
              "      <td>D4</td>\n",
              "      <td>Set4</td>\n",
              "    </tr>\n",
              "  </tbody>\n",
              "</table>\n",
              "<p>64 rows × 15 columns</p>\n",
              "</div>"
            ],
            "text/plain": [
              "         R-ref       G-ref       B-ref  ...  Shade-ref  Shade  Setting\n",
              "0   237.144469  225.537862  191.670806  ...         A1     A1     Set1\n",
              "1   238.268079  221.316046  178.404350  ...         A1     A2     Set1\n",
              "2   239.281633  218.345102  169.227011  ...         A1     A3     Set1\n",
              "3   237.557341  211.824933  157.151286  ...         A1   A3_5     Set1\n",
              "4   237.519925  210.901388  155.769986  ...         A1     A4     Set1\n",
              "..         ...         ...         ...  ...        ...    ...      ...\n",
              "11  216.841084  211.469767  174.474799  ...         A1     C3     Set4\n",
              "12  216.892947  209.578849  165.181641  ...         A1     C4     Set4\n",
              "13  226.250304  226.364418  206.890837  ...         A1     D2     Set4\n",
              "14  221.403052  217.426426  188.743933  ...         A1     D3     Set4\n",
              "15  216.892947  209.578849  165.181641  ...         A1     D4     Set4\n",
              "\n",
              "[64 rows x 15 columns]"
            ]
          },
          "metadata": {},
          "execution_count": 474
        }
      ]
    },
    {
      "cell_type": "code",
      "metadata": {
        "colab": {
          "base_uri": "https://localhost:8080/",
          "height": 1000
        },
        "id": "GW60pdpseJ56",
        "outputId": "df5c1038-2c2f-4703-eafe-83621e3eeef7"
      },
      "source": [
        "A3_concat = pd.concat([df,df2])\n",
        "A3_concat"
      ],
      "execution_count": 249,
      "outputs": [
        {
          "output_type": "execute_result",
          "data": {
            "text/html": [
              "<div>\n",
              "<style scoped>\n",
              "    .dataframe tbody tr th:only-of-type {\n",
              "        vertical-align: middle;\n",
              "    }\n",
              "\n",
              "    .dataframe tbody tr th {\n",
              "        vertical-align: top;\n",
              "    }\n",
              "\n",
              "    .dataframe thead th {\n",
              "        text-align: right;\n",
              "    }\n",
              "</style>\n",
              "<table border=\"1\" class=\"dataframe\">\n",
              "  <thead>\n",
              "    <tr style=\"text-align: right;\">\n",
              "      <th></th>\n",
              "      <th>R-ref</th>\n",
              "      <th>G-ref</th>\n",
              "      <th>B-ref</th>\n",
              "      <th>R-Shad</th>\n",
              "      <th>G-Shad</th>\n",
              "      <th>B-Shad</th>\n",
              "      <th>H-ref</th>\n",
              "      <th>S-ref</th>\n",
              "      <th>V-ref</th>\n",
              "      <th>H-Shad</th>\n",
              "      <th>S-Shad</th>\n",
              "      <th>V-Shad</th>\n",
              "      <th>Shade-ref</th>\n",
              "      <th>Shade</th>\n",
              "      <th>Setting</th>\n",
              "    </tr>\n",
              "  </thead>\n",
              "  <tbody>\n",
              "    <tr>\n",
              "      <th>0</th>\n",
              "      <td>230.461732</td>\n",
              "      <td>219.837107</td>\n",
              "      <td>195.255661</td>\n",
              "      <td>230.932579</td>\n",
              "      <td>220.678401</td>\n",
              "      <td>196.891473</td>\n",
              "      <td>21.045370</td>\n",
              "      <td>38.967860</td>\n",
              "      <td>230.461732</td>\n",
              "      <td>21.109807</td>\n",
              "      <td>37.644051</td>\n",
              "      <td>230.932579</td>\n",
              "      <td>A1</td>\n",
              "      <td>A1</td>\n",
              "      <td>Set1</td>\n",
              "    </tr>\n",
              "    <tr>\n",
              "      <th>1</th>\n",
              "      <td>232.889619</td>\n",
              "      <td>219.385439</td>\n",
              "      <td>193.824608</td>\n",
              "      <td>233.442358</td>\n",
              "      <td>220.404950</td>\n",
              "      <td>195.860821</td>\n",
              "      <td>19.764224</td>\n",
              "      <td>42.850256</td>\n",
              "      <td>232.889619</td>\n",
              "      <td>19.728824</td>\n",
              "      <td>41.161653</td>\n",
              "      <td>233.442358</td>\n",
              "      <td>A1</td>\n",
              "      <td>A2</td>\n",
              "      <td>Set1</td>\n",
              "    </tr>\n",
              "    <tr>\n",
              "      <th>2</th>\n",
              "      <td>232.031410</td>\n",
              "      <td>215.002029</td>\n",
              "      <td>184.841734</td>\n",
              "      <td>232.642842</td>\n",
              "      <td>216.206955</td>\n",
              "      <td>187.228718</td>\n",
              "      <td>19.290155</td>\n",
              "      <td>51.966561</td>\n",
              "      <td>232.031410</td>\n",
              "      <td>19.241590</td>\n",
              "      <td>49.960458</td>\n",
              "      <td>232.642913</td>\n",
              "      <td>A1</td>\n",
              "      <td>A3</td>\n",
              "      <td>Set1</td>\n",
              "    </tr>\n",
              "    <tr>\n",
              "      <th>3</th>\n",
              "      <td>235.163948</td>\n",
              "      <td>210.970295</td>\n",
              "      <td>172.487460</td>\n",
              "      <td>235.662613</td>\n",
              "      <td>212.338596</td>\n",
              "      <td>175.218263</td>\n",
              "      <td>18.428374</td>\n",
              "      <td>68.174418</td>\n",
              "      <td>235.163948</td>\n",
              "      <td>18.460849</td>\n",
              "      <td>65.669796</td>\n",
              "      <td>235.662897</td>\n",
              "      <td>A1</td>\n",
              "      <td>A3_5</td>\n",
              "      <td>Set1</td>\n",
              "    </tr>\n",
              "    <tr>\n",
              "      <th>4</th>\n",
              "      <td>229.335200</td>\n",
              "      <td>206.565620</td>\n",
              "      <td>171.737927</td>\n",
              "      <td>229.951284</td>\n",
              "      <td>207.999502</td>\n",
              "      <td>174.301330</td>\n",
              "      <td>18.131077</td>\n",
              "      <td>64.211184</td>\n",
              "      <td>229.335200</td>\n",
              "      <td>18.195719</td>\n",
              "      <td>61.955409</td>\n",
              "      <td>229.951782</td>\n",
              "      <td>A1</td>\n",
              "      <td>A4</td>\n",
              "      <td>Set1</td>\n",
              "    </tr>\n",
              "    <tr>\n",
              "      <th>5</th>\n",
              "      <td>228.002191</td>\n",
              "      <td>220.855125</td>\n",
              "      <td>205.910559</td>\n",
              "      <td>228.651803</td>\n",
              "      <td>221.906194</td>\n",
              "      <td>207.711756</td>\n",
              "      <td>20.345832</td>\n",
              "      <td>24.747504</td>\n",
              "      <td>228.002191</td>\n",
              "      <td>20.434180</td>\n",
              "      <td>23.436527</td>\n",
              "      <td>228.652087</td>\n",
              "      <td>A1</td>\n",
              "      <td>B1</td>\n",
              "      <td>Set1</td>\n",
              "    </tr>\n",
              "    <tr>\n",
              "      <th>6</th>\n",
              "      <td>230.452317</td>\n",
              "      <td>220.634932</td>\n",
              "      <td>196.581284</td>\n",
              "      <td>231.233056</td>\n",
              "      <td>221.854847</td>\n",
              "      <td>198.747386</td>\n",
              "      <td>21.292265</td>\n",
              "      <td>37.585342</td>\n",
              "      <td>230.452317</td>\n",
              "      <td>21.387668</td>\n",
              "      <td>35.990897</td>\n",
              "      <td>231.233056</td>\n",
              "      <td>A1</td>\n",
              "      <td>B2</td>\n",
              "      <td>Set1</td>\n",
              "    </tr>\n",
              "    <tr>\n",
              "      <th>7</th>\n",
              "      <td>232.031410</td>\n",
              "      <td>215.002029</td>\n",
              "      <td>184.841734</td>\n",
              "      <td>232.642842</td>\n",
              "      <td>216.206955</td>\n",
              "      <td>187.228718</td>\n",
              "      <td>19.892947</td>\n",
              "      <td>64.421638</td>\n",
              "      <td>235.271082</td>\n",
              "      <td>20.205462</td>\n",
              "      <td>61.301899</td>\n",
              "      <td>235.986559</td>\n",
              "      <td>A1</td>\n",
              "      <td>B3</td>\n",
              "      <td>Set1</td>\n",
              "    </tr>\n",
              "    <tr>\n",
              "      <th>8</th>\n",
              "      <td>234.912345</td>\n",
              "      <td>214.079782</td>\n",
              "      <td>170.607743</td>\n",
              "      <td>235.560131</td>\n",
              "      <td>215.311002</td>\n",
              "      <td>173.099993</td>\n",
              "      <td>20.245759</td>\n",
              "      <td>69.932554</td>\n",
              "      <td>234.912345</td>\n",
              "      <td>20.233981</td>\n",
              "      <td>67.785293</td>\n",
              "      <td>235.560131</td>\n",
              "      <td>A1</td>\n",
              "      <td>B4</td>\n",
              "      <td>Set1</td>\n",
              "    </tr>\n",
              "    <tr>\n",
              "      <th>9</th>\n",
              "      <td>227.921760</td>\n",
              "      <td>217.311744</td>\n",
              "      <td>193.225306</td>\n",
              "      <td>228.727900</td>\n",
              "      <td>218.467250</td>\n",
              "      <td>195.385108</td>\n",
              "      <td>20.981252</td>\n",
              "      <td>38.914942</td>\n",
              "      <td>227.921760</td>\n",
              "      <td>21.017637</td>\n",
              "      <td>37.351397</td>\n",
              "      <td>228.733092</td>\n",
              "      <td>A1</td>\n",
              "      <td>C1</td>\n",
              "      <td>Set1</td>\n",
              "    </tr>\n",
              "    <tr>\n",
              "      <th>10</th>\n",
              "      <td>226.577469</td>\n",
              "      <td>210.349241</td>\n",
              "      <td>179.021914</td>\n",
              "      <td>227.207951</td>\n",
              "      <td>211.527701</td>\n",
              "      <td>181.033995</td>\n",
              "      <td>19.769337</td>\n",
              "      <td>19.769337</td>\n",
              "      <td>19.769337</td>\n",
              "      <td>19.811962</td>\n",
              "      <td>51.967570</td>\n",
              "      <td>227.207951</td>\n",
              "      <td>A1</td>\n",
              "      <td>C2</td>\n",
              "      <td>Set1</td>\n",
              "    </tr>\n",
              "    <tr>\n",
              "      <th>11</th>\n",
              "      <td>219.564078</td>\n",
              "      <td>201.000162</td>\n",
              "      <td>168.047805</td>\n",
              "      <td>220.161368</td>\n",
              "      <td>202.119764</td>\n",
              "      <td>169.973117</td>\n",
              "      <td>19.230095</td>\n",
              "      <td>59.954387</td>\n",
              "      <td>219.564078</td>\n",
              "      <td>19.290022</td>\n",
              "      <td>58.319323</td>\n",
              "      <td>220.161368</td>\n",
              "      <td>A1</td>\n",
              "      <td>C3</td>\n",
              "      <td>Set1</td>\n",
              "    </tr>\n",
              "    <tr>\n",
              "      <th>12</th>\n",
              "      <td>211.749452</td>\n",
              "      <td>186.091957</td>\n",
              "      <td>144.423992</td>\n",
              "      <td>212.547756</td>\n",
              "      <td>187.526705</td>\n",
              "      <td>146.644762</td>\n",
              "      <td>18.492979</td>\n",
              "      <td>81.276844</td>\n",
              "      <td>211.749452</td>\n",
              "      <td>18.558495</td>\n",
              "      <td>79.324088</td>\n",
              "      <td>212.547756</td>\n",
              "      <td>A1</td>\n",
              "      <td>C4</td>\n",
              "      <td>Set1</td>\n",
              "    </tr>\n",
              "    <tr>\n",
              "      <th>13</th>\n",
              "      <td>210.690366</td>\n",
              "      <td>197.156481</td>\n",
              "      <td>171.482997</td>\n",
              "      <td>211.334258</td>\n",
              "      <td>198.401181</td>\n",
              "      <td>173.460565</td>\n",
              "      <td>19.785651</td>\n",
              "      <td>47.619106</td>\n",
              "      <td>210.690366</td>\n",
              "      <td>19.969348</td>\n",
              "      <td>45.924401</td>\n",
              "      <td>211.334258</td>\n",
              "      <td>A1</td>\n",
              "      <td>D2</td>\n",
              "      <td>Set1</td>\n",
              "    </tr>\n",
              "    <tr>\n",
              "      <th>14</th>\n",
              "      <td>199.122149</td>\n",
              "      <td>181.538998</td>\n",
              "      <td>146.742635</td>\n",
              "      <td>200.283052</td>\n",
              "      <td>183.476140</td>\n",
              "      <td>149.977740</td>\n",
              "      <td>19.747180</td>\n",
              "      <td>67.191868</td>\n",
              "      <td>199.122149</td>\n",
              "      <td>19.925183</td>\n",
              "      <td>64.384397</td>\n",
              "      <td>200.287035</td>\n",
              "      <td>A1</td>\n",
              "      <td>D3</td>\n",
              "      <td>Set1</td>\n",
              "    </tr>\n",
              "    <tr>\n",
              "      <th>15</th>\n",
              "      <td>211.749452</td>\n",
              "      <td>186.091957</td>\n",
              "      <td>144.423992</td>\n",
              "      <td>171.241164</td>\n",
              "      <td>157.084916</td>\n",
              "      <td>117.984852</td>\n",
              "      <td>18.492979</td>\n",
              "      <td>81.276844</td>\n",
              "      <td>211.749452</td>\n",
              "      <td>22.155465</td>\n",
              "      <td>79.554726</td>\n",
              "      <td>171.241164</td>\n",
              "      <td>A1</td>\n",
              "      <td>D4</td>\n",
              "      <td>Set1</td>\n",
              "    </tr>\n",
              "    <tr>\n",
              "      <th>0</th>\n",
              "      <td>218.270108</td>\n",
              "      <td>209.399481</td>\n",
              "      <td>183.693937</td>\n",
              "      <td>217.791551</td>\n",
              "      <td>208.405377</td>\n",
              "      <td>182.563616</td>\n",
              "      <td>22.490545</td>\n",
              "      <td>40.425696</td>\n",
              "      <td>218.270108</td>\n",
              "      <td>22.246569</td>\n",
              "      <td>41.279710</td>\n",
              "      <td>217.791551</td>\n",
              "      <td>A1</td>\n",
              "      <td>A1</td>\n",
              "      <td>Set2</td>\n",
              "    </tr>\n",
              "    <tr>\n",
              "      <th>1</th>\n",
              "      <td>217.400292</td>\n",
              "      <td>205.048535</td>\n",
              "      <td>171.947813</td>\n",
              "      <td>216.673138</td>\n",
              "      <td>204.137330</td>\n",
              "      <td>170.935922</td>\n",
              "      <td>21.764954</td>\n",
              "      <td>53.341774</td>\n",
              "      <td>217.400292</td>\n",
              "      <td>21.720290</td>\n",
              "      <td>53.862314</td>\n",
              "      <td>216.673138</td>\n",
              "      <td>A1</td>\n",
              "      <td>A2</td>\n",
              "      <td>Set2</td>\n",
              "    </tr>\n",
              "    <tr>\n",
              "      <th>2</th>\n",
              "      <td>218.847171</td>\n",
              "      <td>205.360036</td>\n",
              "      <td>163.610665</td>\n",
              "      <td>218.196714</td>\n",
              "      <td>204.500391</td>\n",
              "      <td>162.918569</td>\n",
              "      <td>22.663501</td>\n",
              "      <td>64.376430</td>\n",
              "      <td>218.847171</td>\n",
              "      <td>22.579689</td>\n",
              "      <td>64.627836</td>\n",
              "      <td>218.196714</td>\n",
              "      <td>A1</td>\n",
              "      <td>A3</td>\n",
              "      <td>Set2</td>\n",
              "    </tr>\n",
              "    <tr>\n",
              "      <th>3</th>\n",
              "      <td>216.578281</td>\n",
              "      <td>198.794010</td>\n",
              "      <td>149.842221</td>\n",
              "      <td>215.977171</td>\n",
              "      <td>197.861674</td>\n",
              "      <td>149.002205</td>\n",
              "      <td>22.035549</td>\n",
              "      <td>78.714065</td>\n",
              "      <td>216.578281</td>\n",
              "      <td>21.943034</td>\n",
              "      <td>79.193514</td>\n",
              "      <td>215.977171</td>\n",
              "      <td>A1</td>\n",
              "      <td>A3_5</td>\n",
              "      <td>Set2</td>\n",
              "    </tr>\n",
              "    <tr>\n",
              "      <th>4</th>\n",
              "      <td>202.797663</td>\n",
              "      <td>186.678111</td>\n",
              "      <td>143.866001</td>\n",
              "      <td>202.068558</td>\n",
              "      <td>185.757912</td>\n",
              "      <td>142.755281</td>\n",
              "      <td>22.662284</td>\n",
              "      <td>74.411655</td>\n",
              "      <td>202.806834</td>\n",
              "      <td>22.452528</td>\n",
              "      <td>75.098428</td>\n",
              "      <td>202.074817</td>\n",
              "      <td>A1</td>\n",
              "      <td>A4</td>\n",
              "      <td>Set2</td>\n",
              "    </tr>\n",
              "    <tr>\n",
              "      <th>5</th>\n",
              "      <td>214.489246</td>\n",
              "      <td>208.706355</td>\n",
              "      <td>192.153478</td>\n",
              "      <td>213.689922</td>\n",
              "      <td>207.765664</td>\n",
              "      <td>191.192020</td>\n",
              "      <td>22.576820</td>\n",
              "      <td>26.567892</td>\n",
              "      <td>214.491924</td>\n",
              "      <td>22.407581</td>\n",
              "      <td>26.859683</td>\n",
              "      <td>213.691487</td>\n",
              "      <td>A1</td>\n",
              "      <td>B1</td>\n",
              "      <td>Set2</td>\n",
              "    </tr>\n",
              "    <tr>\n",
              "      <th>6</th>\n",
              "      <td>216.178963</td>\n",
              "      <td>208.768444</td>\n",
              "      <td>177.307118</td>\n",
              "      <td>215.525425</td>\n",
              "      <td>207.798592</td>\n",
              "      <td>176.438945</td>\n",
              "      <td>24.071342</td>\n",
              "      <td>45.864378</td>\n",
              "      <td>216.178963</td>\n",
              "      <td>23.890904</td>\n",
              "      <td>46.270536</td>\n",
              "      <td>215.525425</td>\n",
              "      <td>A1</td>\n",
              "      <td>B2</td>\n",
              "      <td>Set2</td>\n",
              "    </tr>\n",
              "    <tr>\n",
              "      <th>7</th>\n",
              "      <td>216.195601</td>\n",
              "      <td>204.996916</td>\n",
              "      <td>159.967048</td>\n",
              "      <td>215.564754</td>\n",
              "      <td>204.144798</td>\n",
              "      <td>159.068487</td>\n",
              "      <td>23.858291</td>\n",
              "      <td>66.414009</td>\n",
              "      <td>216.195682</td>\n",
              "      <td>23.764668</td>\n",
              "      <td>66.915440</td>\n",
              "      <td>215.564754</td>\n",
              "      <td>A1</td>\n",
              "      <td>B3</td>\n",
              "      <td>Set2</td>\n",
              "    </tr>\n",
              "    <tr>\n",
              "      <th>8</th>\n",
              "      <td>214.225306</td>\n",
              "      <td>201.381706</td>\n",
              "      <td>150.753754</td>\n",
              "      <td>213.666240</td>\n",
              "      <td>200.615390</td>\n",
              "      <td>149.689780</td>\n",
              "      <td>23.938804</td>\n",
              "      <td>75.751562</td>\n",
              "      <td>214.227985</td>\n",
              "      <td>23.871844</td>\n",
              "      <td>76.521229</td>\n",
              "      <td>213.667876</td>\n",
              "      <td>A1</td>\n",
              "      <td>B4</td>\n",
              "      <td>Set2</td>\n",
              "    </tr>\n",
              "    <tr>\n",
              "      <th>9</th>\n",
              "      <td>208.973866</td>\n",
              "      <td>202.013716</td>\n",
              "      <td>179.247220</td>\n",
              "      <td>208.308513</td>\n",
              "      <td>201.334898</td>\n",
              "      <td>178.587796</td>\n",
              "      <td>22.950897</td>\n",
              "      <td>36.239997</td>\n",
              "      <td>208.973866</td>\n",
              "      <td>22.937344</td>\n",
              "      <td>36.353673</td>\n",
              "      <td>208.308513</td>\n",
              "      <td>A1</td>\n",
              "      <td>C1</td>\n",
              "      <td>Set2</td>\n",
              "    </tr>\n",
              "    <tr>\n",
              "      <th>10</th>\n",
              "      <td>205.210535</td>\n",
              "      <td>195.876877</td>\n",
              "      <td>166.307524</td>\n",
              "      <td>204.450679</td>\n",
              "      <td>195.070905</td>\n",
              "      <td>165.413129</td>\n",
              "      <td>23.109894</td>\n",
              "      <td>23.109894</td>\n",
              "      <td>23.109894</td>\n",
              "      <td>22.963445</td>\n",
              "      <td>48.805277</td>\n",
              "      <td>204.452030</td>\n",
              "      <td>A1</td>\n",
              "      <td>C2</td>\n",
              "      <td>Set2</td>\n",
              "    </tr>\n",
              "    <tr>\n",
              "      <th>11</th>\n",
              "      <td>198.751400</td>\n",
              "      <td>186.591754</td>\n",
              "      <td>148.810730</td>\n",
              "      <td>198.349833</td>\n",
              "      <td>186.104687</td>\n",
              "      <td>148.450324</td>\n",
              "      <td>22.787923</td>\n",
              "      <td>64.035387</td>\n",
              "      <td>198.751400</td>\n",
              "      <td>22.736790</td>\n",
              "      <td>64.110803</td>\n",
              "      <td>198.349833</td>\n",
              "      <td>A1</td>\n",
              "      <td>C3</td>\n",
              "      <td>Set2</td>\n",
              "    </tr>\n",
              "    <tr>\n",
              "      <th>12</th>\n",
              "      <td>197.169061</td>\n",
              "      <td>182.776398</td>\n",
              "      <td>140.339177</td>\n",
              "      <td>196.493493</td>\n",
              "      <td>182.043667</td>\n",
              "      <td>139.449186</td>\n",
              "      <td>22.340232</td>\n",
              "      <td>73.692882</td>\n",
              "      <td>197.172794</td>\n",
              "      <td>22.246000</td>\n",
              "      <td>74.155892</td>\n",
              "      <td>196.494133</td>\n",
              "      <td>A1</td>\n",
              "      <td>C4</td>\n",
              "      <td>Set2</td>\n",
              "    </tr>\n",
              "    <tr>\n",
              "      <th>13</th>\n",
              "      <td>210.043746</td>\n",
              "      <td>202.847415</td>\n",
              "      <td>186.386982</td>\n",
              "      <td>209.317118</td>\n",
              "      <td>201.992248</td>\n",
              "      <td>185.568807</td>\n",
              "      <td>21.508319</td>\n",
              "      <td>28.789384</td>\n",
              "      <td>210.044964</td>\n",
              "      <td>21.208307</td>\n",
              "      <td>28.979304</td>\n",
              "      <td>209.317332</td>\n",
              "      <td>A1</td>\n",
              "      <td>D2</td>\n",
              "      <td>Set2</td>\n",
              "    </tr>\n",
              "    <tr>\n",
              "      <th>14</th>\n",
              "      <td>177.245435</td>\n",
              "      <td>171.375538</td>\n",
              "      <td>145.203961</td>\n",
              "      <td>175.625702</td>\n",
              "      <td>169.571723</td>\n",
              "      <td>143.619088</td>\n",
              "      <td>26.205259</td>\n",
              "      <td>46.857723</td>\n",
              "      <td>177.356789</td>\n",
              "      <td>25.666596</td>\n",
              "      <td>47.109665</td>\n",
              "      <td>175.716876</td>\n",
              "      <td>A1</td>\n",
              "      <td>D3</td>\n",
              "      <td>Set2</td>\n",
              "    </tr>\n",
              "    <tr>\n",
              "      <th>15</th>\n",
              "      <td>197.169061</td>\n",
              "      <td>182.776398</td>\n",
              "      <td>140.339177</td>\n",
              "      <td>174.351682</td>\n",
              "      <td>169.561482</td>\n",
              "      <td>134.855131</td>\n",
              "      <td>22.340232</td>\n",
              "      <td>73.692882</td>\n",
              "      <td>197.172794</td>\n",
              "      <td>26.388593</td>\n",
              "      <td>57.854349</td>\n",
              "      <td>174.351682</td>\n",
              "      <td>A1</td>\n",
              "      <td>D4</td>\n",
              "      <td>Set2</td>\n",
              "    </tr>\n",
              "  </tbody>\n",
              "</table>\n",
              "</div>"
            ],
            "text/plain": [
              "         R-ref       G-ref       B-ref  ...  Shade-ref  Shade  Setting\n",
              "0   230.461732  219.837107  195.255661  ...         A1     A1     Set1\n",
              "1   232.889619  219.385439  193.824608  ...         A1     A2     Set1\n",
              "2   232.031410  215.002029  184.841734  ...         A1     A3     Set1\n",
              "3   235.163948  210.970295  172.487460  ...         A1   A3_5     Set1\n",
              "4   229.335200  206.565620  171.737927  ...         A1     A4     Set1\n",
              "5   228.002191  220.855125  205.910559  ...         A1     B1     Set1\n",
              "6   230.452317  220.634932  196.581284  ...         A1     B2     Set1\n",
              "7   232.031410  215.002029  184.841734  ...         A1     B3     Set1\n",
              "8   234.912345  214.079782  170.607743  ...         A1     B4     Set1\n",
              "9   227.921760  217.311744  193.225306  ...         A1     C1     Set1\n",
              "10  226.577469  210.349241  179.021914  ...         A1     C2     Set1\n",
              "11  219.564078  201.000162  168.047805  ...         A1     C3     Set1\n",
              "12  211.749452  186.091957  144.423992  ...         A1     C4     Set1\n",
              "13  210.690366  197.156481  171.482997  ...         A1     D2     Set1\n",
              "14  199.122149  181.538998  146.742635  ...         A1     D3     Set1\n",
              "15  211.749452  186.091957  144.423992  ...         A1     D4     Set1\n",
              "0   218.270108  209.399481  183.693937  ...         A1     A1     Set2\n",
              "1   217.400292  205.048535  171.947813  ...         A1     A2     Set2\n",
              "2   218.847171  205.360036  163.610665  ...         A1     A3     Set2\n",
              "3   216.578281  198.794010  149.842221  ...         A1   A3_5     Set2\n",
              "4   202.797663  186.678111  143.866001  ...         A1     A4     Set2\n",
              "5   214.489246  208.706355  192.153478  ...         A1     B1     Set2\n",
              "6   216.178963  208.768444  177.307118  ...         A1     B2     Set2\n",
              "7   216.195601  204.996916  159.967048  ...         A1     B3     Set2\n",
              "8   214.225306  201.381706  150.753754  ...         A1     B4     Set2\n",
              "9   208.973866  202.013716  179.247220  ...         A1     C1     Set2\n",
              "10  205.210535  195.876877  166.307524  ...         A1     C2     Set2\n",
              "11  198.751400  186.591754  148.810730  ...         A1     C3     Set2\n",
              "12  197.169061  182.776398  140.339177  ...         A1     C4     Set2\n",
              "13  210.043746  202.847415  186.386982  ...         A1     D2     Set2\n",
              "14  177.245435  171.375538  145.203961  ...         A1     D3     Set2\n",
              "15  197.169061  182.776398  140.339177  ...         A1     D4     Set2\n",
              "\n",
              "[32 rows x 15 columns]"
            ]
          },
          "metadata": {},
          "execution_count": 249
        }
      ]
    },
    {
      "cell_type": "markdown",
      "metadata": {
        "id": "uu6aqQG0n__j"
      },
      "source": [
        "#8.ชื่อตารางที่ต้องการเซฟ .to_csv(' ชื่อไฟล์ที่ต้องการ save )"
      ]
    },
    {
      "cell_type": "code",
      "metadata": {
        "id": "v1_LBtAuoFNH"
      },
      "source": [
        "A3_concat.to_csv('Shade_A3 Guide.csv', index=False)"
      ],
      "execution_count": 250,
      "outputs": []
    }
  ]
}