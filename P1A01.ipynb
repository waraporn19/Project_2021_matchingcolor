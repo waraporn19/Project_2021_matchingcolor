{
  "nbformat": 4,
  "nbformat_minor": 0,
  "metadata": {
    "colab": {
      "name": "P1A01.ipynb",
      "provenance": [],
      "include_colab_link": true
    },
    "kernelspec": {
      "name": "python3",
      "display_name": "Python 3"
    },
    "language_info": {
      "name": "python"
    }
  },
  "cells": [
    {
      "cell_type": "markdown",
      "metadata": {
        "id": "view-in-github",
        "colab_type": "text"
      },
      "source": [
        "<a href=\"https://colab.research.google.com/github/waraporn19/Project_2021_matchingcolor/blob/main/P1A01.ipynb\" target=\"_parent\"><img src=\"https://colab.research.google.com/assets/colab-badge.svg\" alt=\"Open In Colab\"/></a>"
      ]
    },
    {
      "cell_type": "code",
      "metadata": {
        "id": "drOKqbUE2PnQ"
      },
      "source": [
        "import pandas as pd"
      ],
      "execution_count": 425,
      "outputs": []
    },
    {
      "cell_type": "code",
      "metadata": {
        "id": "O7x0j_3c2Pjr",
        "colab": {
          "base_uri": "https://localhost:8080/"
        },
        "outputId": "feb066e1-6605-4ada-aecb-12c5df133c59"
      },
      "source": [
        "from google.colab import drive \n",
        "drive.mount('/content/drive')"
      ],
      "execution_count": 426,
      "outputs": [
        {
          "output_type": "stream",
          "name": "stdout",
          "text": [
            "Drive already mounted at /content/drive; to attempt to forcibly remount, call drive.mount(\"/content/drive\", force_remount=True).\n"
          ]
        }
      ]
    },
    {
      "cell_type": "code",
      "metadata": {
        "id": "lsGPiAcg2Pa7"
      },
      "source": [
        "import os"
      ],
      "execution_count": 427,
      "outputs": []
    },
    {
      "cell_type": "code",
      "metadata": {
        "id": "xGv3Ax6o251w"
      },
      "source": [
        "path = '/content/drive/My Drive/shadeimg'"
      ],
      "execution_count": 428,
      "outputs": []
    },
    {
      "cell_type": "code",
      "metadata": {
        "id": "DK3-qllN3Huu",
        "colab": {
          "base_uri": "https://localhost:8080/"
        },
        "outputId": "d58e8e33-d33c-4106-cdfb-ffe850a7bc48"
      },
      "source": [
        "os.listdir(path)"
      ],
      "execution_count": 429,
      "outputs": [
        {
          "output_type": "execute_result",
          "data": {
            "text/plain": [
              "['9-10 7 2021',\n",
              " 'รูปฟัน07',\n",
              " '11 7 2021',\n",
              " 'ฟันสักอย่างจำวันไม่ได้',\n",
              " '1 teeth .gsheet',\n",
              " '16 8 2021',\n",
              " '17 8 2021',\n",
              " '1 teeth .xlsx',\n",
              " '2 teeth .xlsx',\n",
              " '2 teeth.gsheet',\n",
              " 'All shade',\n",
              " 'A1set1.xlsx']"
            ]
          },
          "metadata": {},
          "execution_count": 429
        }
      ]
    },
    {
      "cell_type": "code",
      "metadata": {
        "id": "qnyateeBbpSP",
        "colab": {
          "base_uri": "https://localhost:8080/"
        },
        "outputId": "e07b0c93-d8a4-45ff-a7b0-2eec72562620"
      },
      "source": [
        "!pip install azure-storage-blob==2.1.0"
      ],
      "execution_count": 430,
      "outputs": [
        {
          "output_type": "stream",
          "name": "stdout",
          "text": [
            "Requirement already satisfied: azure-storage-blob==2.1.0 in /usr/local/lib/python3.7/dist-packages (2.1.0)\n",
            "Requirement already satisfied: azure-storage-common~=2.1 in /usr/local/lib/python3.7/dist-packages (from azure-storage-blob==2.1.0) (2.1.0)\n",
            "Requirement already satisfied: azure-common>=1.1.5 in /usr/local/lib/python3.7/dist-packages (from azure-storage-blob==2.1.0) (1.1.27)\n",
            "Requirement already satisfied: cryptography in /usr/local/lib/python3.7/dist-packages (from azure-storage-common~=2.1->azure-storage-blob==2.1.0) (36.0.0)\n",
            "Requirement already satisfied: python-dateutil in /usr/local/lib/python3.7/dist-packages (from azure-storage-common~=2.1->azure-storage-blob==2.1.0) (2.8.2)\n",
            "Requirement already satisfied: requests in /usr/local/lib/python3.7/dist-packages (from azure-storage-common~=2.1->azure-storage-blob==2.1.0) (2.23.0)\n",
            "Requirement already satisfied: cffi>=1.12 in /usr/local/lib/python3.7/dist-packages (from cryptography->azure-storage-common~=2.1->azure-storage-blob==2.1.0) (1.15.0)\n",
            "Requirement already satisfied: pycparser in /usr/local/lib/python3.7/dist-packages (from cffi>=1.12->cryptography->azure-storage-common~=2.1->azure-storage-blob==2.1.0) (2.21)\n",
            "Requirement already satisfied: six>=1.5 in /usr/local/lib/python3.7/dist-packages (from python-dateutil->azure-storage-common~=2.1->azure-storage-blob==2.1.0) (1.15.0)\n",
            "Requirement already satisfied: chardet<4,>=3.0.2 in /usr/local/lib/python3.7/dist-packages (from requests->azure-storage-common~=2.1->azure-storage-blob==2.1.0) (3.0.4)\n",
            "Requirement already satisfied: certifi>=2017.4.17 in /usr/local/lib/python3.7/dist-packages (from requests->azure-storage-common~=2.1->azure-storage-blob==2.1.0) (2021.10.8)\n",
            "Requirement already satisfied: idna<3,>=2.5 in /usr/local/lib/python3.7/dist-packages (from requests->azure-storage-common~=2.1->azure-storage-blob==2.1.0) (2.10)\n",
            "Requirement already satisfied: urllib3!=1.25.0,!=1.25.1,<1.26,>=1.21.1 in /usr/local/lib/python3.7/dist-packages (from requests->azure-storage-common~=2.1->azure-storage-blob==2.1.0) (1.24.3)\n"
          ]
        }
      ]
    },
    {
      "cell_type": "code",
      "metadata": {
        "id": "uZRZcO80cxBH"
      },
      "source": [
        "from azure.storage.blob import BlockBlobService\n",
        "import os"
      ],
      "execution_count": 431,
      "outputs": []
    },
    {
      "cell_type": "code",
      "metadata": {
        "id": "tJVMV5DMcyJT"
      },
      "source": [
        "blob_service_client = BlockBlobService(account_name='dent01', account_key='CuShY0B4TZJ84TjzPpaHxyrHOpO73aGXeCpdVq7x26OjIlQ1HOz+3DVc9pDEj9BdcEL8odFuTRF0mOAE+aCgiw==')"
      ],
      "execution_count": 432,
      "outputs": []
    },
    {
      "cell_type": "markdown",
      "metadata": {
        "id": "nNqTWrPIc2qX"
      },
      "source": [
        "#1.สร้างตัวแปรเฉดไกด์"
      ]
    },
    {
      "cell_type": "markdown",
      "metadata": {
        "id": "Gx-nvNvXdCDu"
      },
      "source": [
        "##Set1"
      ]
    },
    {
      "cell_type": "code",
      "source": [
        "S1_doubleA1A1_1 =\t'3205C42D-996A-48B6-8A44-6CB277F705D2.png'\n",
        "S1_doubleA1A2_1 =\t'492C2452-03B4-409A-B1EF-D3C0C7854512.png'\n",
        "S1_doubleA1A3_1 = \t'DB2D5F27-8F95-496F-B38F-F3952CD5E681.png'\n",
        "S1_doubleA1A3_51 =\t'6937B500-1DB5-4164-BAF9-17C576BB9267.png'\n",
        "S1_doubleA1A4_1 = \t'90B0FD8C-0CB7-463E-8332-1FC13BC0F54D.png'\n",
        "S1_doubleA1B1_1 =\t'87E68481-6084-446D-80F8-F609B21C9731.png'\n",
        "S1_doubleA1B2_1 =\t'12F3EB82-5236-45DF-AAE3-E1D571ABF196.png'\n",
        "S1_doubleA1B3_1 =\t'195BA363-2913-4F23-AD7C-11B0C4A2BE34.png'\n",
        "S1_doubleA1B4_1 =\t'F5D5A9C2-1408-4382-82C9-7E6D9600D508.png'\n",
        "S1_doubleA1C1_1 =\t'111DADAE-02A0-4CED-8033-2F39826452E8.png'\n",
        "S1_doubleA1C2_1 =\t'DBE00C83-65BC-40C0-BCB7-121A6A2B3247.png'\n",
        "S1_doubleA1C3_1 =\t'ABB4CCA8-A40F-44E3-9181-2516DB231774.png'\n",
        "S1_doubleA1C4_1 =\t'5318B8B8-C14B-4B5A-8024-12DEBC100B3E.png'\n",
        "S1_doubleA1D2_1 = \t'B88EFE20-FB34-4B42-A342-277F2AAE86AB.png'\n",
        "S1_doubleA1D3_1 =\t'3122B982-BC82-4EEF-A714-8D1F9CCC5A3F.png'\n",
        "S1_doubleA1D4_1 =\t'A05D10DB-567C-4EE9-8842-29CFE139E155.png'\n",
        "S1_doubleA1A1_2 = \t'4FF68C62-E250-4A63-AC91-DD90609F0826.png'\n",
        "S1_doubleA1A2_2 =\t'09FE5FA1-787F-4904-99C0-5DA0A6174D9E.png'\n",
        "S1_doubleA1A3_2  =\t'FF504D62-3AD1-4F2F-AC28-AA572329B946.png'\n",
        "S1_doubleA1A3_52  = 'BC4CE7E1-B86D-4AB3-8334-94290E380E56.png'\n",
        "S1_doubleA1A4_2  =\t'71DE2D5B-A693-41CD-A5B1-708C0BB00ABA.png'\n",
        "S1_doubleA1B1_2  =\t'EC0C76AB-82FB-47F1-A4A9-EC9536A007D0.png'\n",
        "S1_doubleA1B2_2  =\t'987FC72C-4883-4D4A-A83F-21CF58EB6593.png'\n",
        "S1_doubleA1B3_2  =\t'F423A8A2-15D8-4B6E-9A43-98F3459E6377.png'\n",
        "S1_doubleA1B4_2  =\t'06293459-3190-41E0-9F77-3EA62E47FDF1.png'\n",
        "S1_doubleA1C1_2  =\t'DC3B06B3-5BFA-4614-8769-787275BED076.png'\n",
        "S1_doubleA1C2_2  =\t'82E5A876-8F0A-4FD9-B6AA-1A76D27400D2.png'\n",
        "S1_doubleA1C3_2  =\t'FEBAACE5-BA1B-4D0D-B3D0-0F8830C16C52.png'\n",
        "S1_doubleA1C4_2  =\t'984668D4-84FB-45E6-AB71-EE1584E88CE8.png'\n",
        "S1_doubleA1D2_2  = '89A5E4B5-B517-4BF3-8516-072314B4BC1B.png'\n",
        "S1_doubleA1D3_2  =\t'49FF43EA-F6F6-4E39-BBA6-F4EE33A61254.png'\n",
        "S1_doubleA1D4_2  =\t'DEABE2EA-9BB9-415C-9F2C-994163642A74.png'\n",
        "S1_doubleA1A1_3 =\t'2C866840-DEB4-4B40-9BF6-321EEEFAF5F9.png'\n",
        "S1_doubleA1A2_3 =\t'068E4979-611E-4024-8638-DCD2FDBA440B.png'\n",
        "S1_doubleA1A3_3 = \t'B4701B3C-F1A0-42F0-ACEC-06FC24CD52AD.png'\n",
        "S1_doubleA1A3_53 = 'CFDB22B4-2DB4-47B2-AFA0-23C8F657CA0A.png'\n",
        "S1_doubleA1A4_3= \t'4C0E3B4F-213C-4E18-929E-94FE76D8B6CA.png'\n",
        "S1_doubleA1B1_3 =\t'3A81B7A5-9C53-40A2-9DCC-99A5A462621F.png'\n",
        "S1_doubleA1B2_3 =\t'C8E2649B-EDF0-4E40-BE09-EBCF4BD3EF22.png'\n",
        "S1_doubleA1B3_3 =\t'E249CB00-976B-4AED-8419-662751673950.png'\n",
        "S1_doubleA1B4_3 = \t'28D056DC-6AF3-4DF8-8A4F-4F7C16CD5CF0.png'\n",
        "S1_doubleA1C1_3 = \t'BC123F06-33C9-4009-B381-3C58514DADB4.png'\n",
        "S1_doubleA1C2_3 =\t'FE2FD1B8-EAC1-4218-8F31-82936DE58954.png'\n",
        "S1_doubleA1C3_3 =\t'6464CE99-3391-47FF-96B2-6CAAB9500FA9.png'\n",
        "S1_doubleA1C4_3 =\t'AEB215B9-A642-4FC9-9D25-E36499C6D2DD.png'\n",
        "S1_doubleA1D2_3 =\t'B8B87652-22C7-4B7E-BFE2-9D9930680C1D.png'\n",
        "S1_doubleA1D3_3 =\t'491E0893-5357-44F9-B8D5-CC300D342E03.png'\n",
        "S1_doubleA1D4_3 = \t'3704FD3C-6984-4B85-9BA5-93F7D6DA0CEC.png'\n",
        "S1_doubleA1A1_4 =\t'6FCA45B6-C9B1-4344-8DAC-C3A9EB6C5A69.png'\n",
        "S1_doubleA1A2_4 =\t'95A06D6F-F7B8-4F14-B55D-EB9A7EF0116F.png'\n",
        "S1_doubleA1A3_4 = \t'FE7F7C70-C2DF-4AEE-9165-AC8EEA23AF67.png'\n",
        "S1_doubleA1A3_54 = 'BA98E02C-01C7-4C92-BFF1-E5B9C8A2C12B.png'\n",
        "S1_doubleA1A4_4 =\t'17F93E17-39A0-4D16-ABE2-EA5F71CDD83B.png'\n",
        "S1_doubleA1B1_4 =\t'45084060-D820-4137-BFEA-9A131137B0BB.png'\n",
        "S1_doubleA1B2_4 = \t'871187BF-6006-4792-ABA0-57E3BF0F9B67.png'\n",
        "S1_doubleA1B3_4 =\t'8EB0573B-9A7C-46CF-93AA-8BD43913BCDC.png'\n",
        "S1_doubleA1B4_4 =\t'D2269F76-437A-4C77-8245-892868377711.png'\n",
        "S1_doubleA1C1_4 =\t'9D6FCAE9-8633-4294-B596-D0D2E38B3C27.png'\n",
        "S1_doubleA1C2_4 =\t'0E4C496D-7349-4ADB-A218-C3B1194C7F1C.png'\n",
        "S1_doubleA1C3_4 =\t'C730D0FE-8B6B-4E3D-96AA-A3653BE73801.png'\n",
        "S1_doubleA1C4_4 =\t'7517D88B-0323-420D-BBFB-6BFFEF5E54A6.png'\n",
        "S1_doubleA1D2_4 =\t'0EFF075B-90D3-49EA-AB42-6118396846B9.png'\n",
        "S1_doubleA1D3_4 =\t'4328B61D-72AA-4603-B644-0CA49F8B8F7F.png'\n",
        "S1_doubleA1D4_4 = \t'716B4F77-4B6D-4EE3-9311-0ACA6651209D.png'\n",
        "S1_doubleA1A1_5 = \t'8402B836-FE77-41F4-A9E7-6C215DCCA241.png'\n",
        "S1_doubleA1A2_5 = \t'CE86C965-AEC0-4B15-9878-90F62C9AAD3E.png'\n",
        "S1_doubleA1A3_5 =  \t'3E2885DD-DC6F-4D83-A7B8-FA396EB1B8A1.png'\n",
        "S1_doubleA1A3_55 = 'E856BB75-8599-4713-84ED-6E995B4DCCDD.png'\n",
        "S1_doubleA1A4_5 =\t'BAEA246F-2B2E-4F5E-9BBA-696D5B002956.png'\n",
        "S1_doubleA1B1_5 =\t'9956222E-5AF5-4DC7-A7B9-4EC24E793C93.png'\n",
        "S1_doubleA1B2_5 =\t'702C4ABD-0193-493A-8A4B-538CC449C13A.png'\n",
        "S1_doubleA1B3_5 = \t'09B5108F-2B91-4CF9-8020-3A7689AA22F8.png'\n",
        "S1_doubleA1B4_5 = \t'F6676910-16A0-4A7C-B610-AC955056E356.png'\n",
        "S1_doubleA1C1_5 =\t'8E3E318F-C000-4F94-9C91-0413792271F2.png'\n",
        "S1_doubleA1C2_5 =\t'164D4941-3004-4486-9D32-1E6E2519C019.png'\n",
        "S1_doubleA1C3_5 =\t'0DEF6DE3-9E36-4408-90FD-9619D7EE4549.png'\n",
        "S1_doubleA1C4_5 = \t'BD2FA08C-7FFF-4954-A5A7-439696889EAF.png'\n",
        "S1_doubleA1D2_5 = \t'F416C964-E748-4A43-BD14-E972296B93AB.png'\n",
        "S1_doubleA1D3_5 =\t'A7822018-E2E3-4156-8F78-EA68133F6491.png'\n",
        "S1_doubleA1D4_5 =\t'5CD12207-6DA2-4D7B-B0DC-8D7406088384.png'\n",
        "\n"
      ],
      "metadata": {
        "id": "TSqLxvaGEzKB"
      },
      "execution_count": 433,
      "outputs": []
    },
    {
      "cell_type": "markdown",
      "metadata": {
        "id": "Taw1dl5xglaj"
      },
      "source": [
        "#2. ดึงรูป"
      ]
    },
    {
      "cell_type": "code",
      "metadata": {
        "id": "jPe2WlLY4J0n"
      },
      "source": [
        "import cv2\n",
        "from matplotlib import pyplot as plt #การเรียกใช้คำสั่ง matplotlib เพื่อวาดกราฟ โดยแทนชื่อ matplotlib ด้วย plt\n",
        "import matplotlib"
      ],
      "execution_count": 434,
      "outputs": []
    },
    {
      "cell_type": "markdown",
      "metadata": {
        "id": "7Gl_H8idgnRf"
      },
      "source": [
        "##Set1"
      ]
    },
    {
      "cell_type": "code",
      "metadata": {
        "id": "s7mF6eEHiQ19",
        "colab": {
          "base_uri": "https://localhost:8080/"
        },
        "outputId": "e5eecc23-4e34-4ae9-c041-f45f70862153"
      },
      "source": [
        "full_path_to_file2 = os.path.join(S1_doubleA1A1_1) \n",
        "blob_service_client.get_blob_to_path('shadeimg', full_path_to_file2, full_path_to_file2)"
      ],
      "execution_count": 435,
      "outputs": [
        {
          "output_type": "execute_result",
          "data": {
            "text/plain": [
              "<azure.storage.blob.models.Blob at 0x7f21601aa990>"
            ]
          },
          "metadata": {},
          "execution_count": 435
        }
      ]
    },
    {
      "cell_type": "code",
      "metadata": {
        "id": "kzMKB_OniZY1",
        "colab": {
          "base_uri": "https://localhost:8080/"
        },
        "outputId": "3abcbceb-f78a-4d9f-890d-756d8b5b5775"
      },
      "source": [
        "full_path_to_file2 = os.path.join(S1_doubleA1A2_1) \n",
        "blob_service_client.get_blob_to_path('shadeimg', full_path_to_file2, full_path_to_file2)"
      ],
      "execution_count": 436,
      "outputs": [
        {
          "output_type": "execute_result",
          "data": {
            "text/plain": [
              "<azure.storage.blob.models.Blob at 0x7f215d829890>"
            ]
          },
          "metadata": {},
          "execution_count": 436
        }
      ]
    },
    {
      "cell_type": "code",
      "metadata": {
        "id": "IkeC-Fivih3w",
        "colab": {
          "base_uri": "https://localhost:8080/"
        },
        "outputId": "700bae0f-d151-4055-ede8-4938d642e6b1"
      },
      "source": [
        "full_path_to_file2 = os.path.join(S1_doubleA1A3_1) \n",
        "blob_service_client.get_blob_to_path('shadeimg', full_path_to_file2, full_path_to_file2)"
      ],
      "execution_count": 437,
      "outputs": [
        {
          "output_type": "execute_result",
          "data": {
            "text/plain": [
              "<azure.storage.blob.models.Blob at 0x7f21601aab10>"
            ]
          },
          "metadata": {},
          "execution_count": 437
        }
      ]
    },
    {
      "cell_type": "code",
      "metadata": {
        "id": "3Y9aMJj6ij5n",
        "colab": {
          "base_uri": "https://localhost:8080/"
        },
        "outputId": "d233cff1-3f18-47ea-cdcc-077ecea5e329"
      },
      "source": [
        "full_path_to_file2 = os.path.join(S1_doubleA1A3_51) \n",
        "blob_service_client.get_blob_to_path('shadeimg', full_path_to_file2, full_path_to_file2)"
      ],
      "execution_count": 438,
      "outputs": [
        {
          "output_type": "execute_result",
          "data": {
            "text/plain": [
              "<azure.storage.blob.models.Blob at 0x7f215db9ebd0>"
            ]
          },
          "metadata": {},
          "execution_count": 438
        }
      ]
    },
    {
      "cell_type": "code",
      "metadata": {
        "id": "yrJq8907iuoY",
        "colab": {
          "base_uri": "https://localhost:8080/"
        },
        "outputId": "86da4608-4fdb-4ed1-bbac-5c25729c86e5"
      },
      "source": [
        "full_path_to_file2 = os.path.join(S1_doubleA1A4_1) \n",
        "blob_service_client.get_blob_to_path('shadeimg', full_path_to_file2, full_path_to_file2)"
      ],
      "execution_count": 439,
      "outputs": [
        {
          "output_type": "execute_result",
          "data": {
            "text/plain": [
              "<azure.storage.blob.models.Blob at 0x7f216064c350>"
            ]
          },
          "metadata": {},
          "execution_count": 439
        }
      ]
    },
    {
      "cell_type": "code",
      "metadata": {
        "id": "0VJcKHW2i0Ac",
        "colab": {
          "base_uri": "https://localhost:8080/"
        },
        "outputId": "83360ac5-a079-4cd8-d7fc-6f65237b14a7"
      },
      "source": [
        "full_path_to_file2 = os.path.join(S1_doubleA1B1_1) \n",
        "blob_service_client.get_blob_to_path('shadeimg', full_path_to_file2, full_path_to_file2)"
      ],
      "execution_count": 440,
      "outputs": [
        {
          "output_type": "execute_result",
          "data": {
            "text/plain": [
              "<azure.storage.blob.models.Blob at 0x7f215d7f31d0>"
            ]
          },
          "metadata": {},
          "execution_count": 440
        }
      ]
    },
    {
      "cell_type": "code",
      "metadata": {
        "id": "hY3AI9RFi0Ad",
        "colab": {
          "base_uri": "https://localhost:8080/"
        },
        "outputId": "3968ac22-64af-43f4-87f1-a22768e2f3ff"
      },
      "source": [
        "full_path_to_file2 = os.path.join(S1_doubleA1B2_1) \n",
        "blob_service_client.get_blob_to_path('shadeimg', full_path_to_file2, full_path_to_file2)"
      ],
      "execution_count": 441,
      "outputs": [
        {
          "output_type": "execute_result",
          "data": {
            "text/plain": [
              "<azure.storage.blob.models.Blob at 0x7f215d7f8ad0>"
            ]
          },
          "metadata": {},
          "execution_count": 441
        }
      ]
    },
    {
      "cell_type": "code",
      "metadata": {
        "id": "GApmsAnKi0Ad",
        "colab": {
          "base_uri": "https://localhost:8080/"
        },
        "outputId": "70026d74-82eb-4a15-f648-e16bd98ecb0a"
      },
      "source": [
        "full_path_to_file2 = os.path.join(S1_doubleA1B3_1) \n",
        "blob_service_client.get_blob_to_path('shadeimg', full_path_to_file2, full_path_to_file2)"
      ],
      "execution_count": 442,
      "outputs": [
        {
          "output_type": "execute_result",
          "data": {
            "text/plain": [
              "<azure.storage.blob.models.Blob at 0x7f215f911350>"
            ]
          },
          "metadata": {},
          "execution_count": 442
        }
      ]
    },
    {
      "cell_type": "code",
      "metadata": {
        "id": "O1h96HYqi7cu",
        "colab": {
          "base_uri": "https://localhost:8080/"
        },
        "outputId": "08200ee6-8d35-45b3-913c-63cf3fd9f0bb"
      },
      "source": [
        "full_path_to_file2 = os.path.join(S1_doubleA1B4_1) \n",
        "blob_service_client.get_blob_to_path('shadeimg', full_path_to_file2, full_path_to_file2)"
      ],
      "execution_count": 443,
      "outputs": [
        {
          "output_type": "execute_result",
          "data": {
            "text/plain": [
              "<azure.storage.blob.models.Blob at 0x7f21601b9fd0>"
            ]
          },
          "metadata": {},
          "execution_count": 443
        }
      ]
    },
    {
      "cell_type": "code",
      "metadata": {
        "id": "RsMHbknqi_fT",
        "colab": {
          "base_uri": "https://localhost:8080/"
        },
        "outputId": "e1c67aaf-2aa5-461a-db34-dc3e27b920ef"
      },
      "source": [
        "full_path_to_file2 = os.path.join(S1_doubleA1C1_1) \n",
        "blob_service_client.get_blob_to_path('shadeimg', full_path_to_file2, full_path_to_file2)"
      ],
      "execution_count": 444,
      "outputs": [
        {
          "output_type": "execute_result",
          "data": {
            "text/plain": [
              "<azure.storage.blob.models.Blob at 0x7f2160200c50>"
            ]
          },
          "metadata": {},
          "execution_count": 444
        }
      ]
    },
    {
      "cell_type": "code",
      "metadata": {
        "id": "wI0oZemgi_fT",
        "colab": {
          "base_uri": "https://localhost:8080/"
        },
        "outputId": "db7c0156-7b1f-48c7-c371-3af883a3e0c6"
      },
      "source": [
        "full_path_to_file2 = os.path.join(S1_doubleA1C2_1) \n",
        "blob_service_client.get_blob_to_path('shadeimg', full_path_to_file2, full_path_to_file2)"
      ],
      "execution_count": 445,
      "outputs": [
        {
          "output_type": "execute_result",
          "data": {
            "text/plain": [
              "<azure.storage.blob.models.Blob at 0x7f2160157e10>"
            ]
          },
          "metadata": {},
          "execution_count": 445
        }
      ]
    },
    {
      "cell_type": "code",
      "metadata": {
        "id": "6ga7nGGti_fT",
        "colab": {
          "base_uri": "https://localhost:8080/"
        },
        "outputId": "f9567c08-e52c-47a1-97f1-b108b575c63c"
      },
      "source": [
        "full_path_to_file2 = os.path.join(S1_doubleA1C3_1) \n",
        "blob_service_client.get_blob_to_path('shadeimg', full_path_to_file2, full_path_to_file2)"
      ],
      "execution_count": 446,
      "outputs": [
        {
          "output_type": "execute_result",
          "data": {
            "text/plain": [
              "<azure.storage.blob.models.Blob at 0x7f215d760ed0>"
            ]
          },
          "metadata": {},
          "execution_count": 446
        }
      ]
    },
    {
      "cell_type": "code",
      "metadata": {
        "id": "nsiPutfEi_fU",
        "colab": {
          "base_uri": "https://localhost:8080/"
        },
        "outputId": "7ad34cd4-a3da-4116-a528-9f7dd0bf2e27"
      },
      "source": [
        "full_path_to_file2 = os.path.join(S1_doubleA1C4_1) \n",
        "blob_service_client.get_blob_to_path('shadeimg', full_path_to_file2, full_path_to_file2)"
      ],
      "execution_count": 447,
      "outputs": [
        {
          "output_type": "execute_result",
          "data": {
            "text/plain": [
              "<azure.storage.blob.models.Blob at 0x7f215f871fd0>"
            ]
          },
          "metadata": {},
          "execution_count": 447
        }
      ]
    },
    {
      "cell_type": "code",
      "metadata": {
        "id": "IlqllUIljGVj",
        "colab": {
          "base_uri": "https://localhost:8080/"
        },
        "outputId": "e7b5bc10-5383-47dc-b6a9-fcb15809a723"
      },
      "source": [
        "full_path_to_file2 = os.path.join(S1_doubleA1D2_1) \n",
        "blob_service_client.get_blob_to_path('shadeimg', full_path_to_file2, full_path_to_file2)"
      ],
      "execution_count": 448,
      "outputs": [
        {
          "output_type": "execute_result",
          "data": {
            "text/plain": [
              "<azure.storage.blob.models.Blob at 0x7f2160164410>"
            ]
          },
          "metadata": {},
          "execution_count": 448
        }
      ]
    },
    {
      "cell_type": "code",
      "metadata": {
        "id": "jXXF16lsjGVj",
        "colab": {
          "base_uri": "https://localhost:8080/"
        },
        "outputId": "da4b8604-7324-4e74-f7b5-0a58ff947da4"
      },
      "source": [
        "full_path_to_file2 = os.path.join(S1_doubleA1D3_1) \n",
        "blob_service_client.get_blob_to_path('shadeimg', full_path_to_file2, full_path_to_file2)"
      ],
      "execution_count": 449,
      "outputs": [
        {
          "output_type": "execute_result",
          "data": {
            "text/plain": [
              "<azure.storage.blob.models.Blob at 0x7f215d9f1d10>"
            ]
          },
          "metadata": {},
          "execution_count": 449
        }
      ]
    },
    {
      "cell_type": "code",
      "metadata": {
        "id": "xRA_M-1PjGVj",
        "colab": {
          "base_uri": "https://localhost:8080/"
        },
        "outputId": "25f17010-8bac-4717-8b2f-3c03540689a3"
      },
      "source": [
        "full_path_to_file2 = os.path.join(S1_doubleA1D4_1) \n",
        "blob_service_client.get_blob_to_path('shadeimg', full_path_to_file2, full_path_to_file2)"
      ],
      "execution_count": 450,
      "outputs": [
        {
          "output_type": "execute_result",
          "data": {
            "text/plain": [
              "<azure.storage.blob.models.Blob at 0x7f215d814ed0>"
            ]
          },
          "metadata": {},
          "execution_count": 450
        }
      ]
    },
    {
      "cell_type": "markdown",
      "metadata": {
        "id": "ctZILUENZxNJ"
      },
      "source": [
        "###Img 2"
      ]
    },
    {
      "cell_type": "code",
      "metadata": {
        "id": "IS9B9yPkarl_",
        "colab": {
          "base_uri": "https://localhost:8080/"
        },
        "outputId": "aa900d63-6dfe-4841-a4a1-9ddc002d8ec3"
      },
      "source": [
        "full_path_to_file2 = os.path.join(S1_doubleA1A1_2) \n",
        "blob_service_client.get_blob_to_path('shadeimg', full_path_to_file2, full_path_to_file2)"
      ],
      "execution_count": 451,
      "outputs": [
        {
          "output_type": "execute_result",
          "data": {
            "text/plain": [
              "<azure.storage.blob.models.Blob at 0x7f215f84b910>"
            ]
          },
          "metadata": {},
          "execution_count": 451
        }
      ]
    },
    {
      "cell_type": "code",
      "metadata": {
        "id": "BllPAVuWarmA",
        "colab": {
          "base_uri": "https://localhost:8080/"
        },
        "outputId": "117aa00b-2d45-4bfb-8385-9984b1a06bc7"
      },
      "source": [
        "full_path_to_file2 = os.path.join(S1_doubleA1A2_2) \n",
        "blob_service_client.get_blob_to_path('shadeimg', full_path_to_file2, full_path_to_file2)"
      ],
      "execution_count": 452,
      "outputs": [
        {
          "output_type": "execute_result",
          "data": {
            "text/plain": [
              "<azure.storage.blob.models.Blob at 0x7f216014d090>"
            ]
          },
          "metadata": {},
          "execution_count": 452
        }
      ]
    },
    {
      "cell_type": "code",
      "metadata": {
        "id": "-4kUfX6varmB",
        "colab": {
          "base_uri": "https://localhost:8080/"
        },
        "outputId": "03cbc34f-3c5a-4d97-da39-cdd634a4f6ba"
      },
      "source": [
        "full_path_to_file2 = os.path.join(S1_doubleA1A3_2) \n",
        "blob_service_client.get_blob_to_path('shadeimg', full_path_to_file2, full_path_to_file2)"
      ],
      "execution_count": 453,
      "outputs": [
        {
          "output_type": "execute_result",
          "data": {
            "text/plain": [
              "<azure.storage.blob.models.Blob at 0x7f215f908150>"
            ]
          },
          "metadata": {},
          "execution_count": 453
        }
      ]
    },
    {
      "cell_type": "code",
      "metadata": {
        "id": "LArO_C_OarmC",
        "colab": {
          "base_uri": "https://localhost:8080/"
        },
        "outputId": "6633d711-6052-4d80-dd6e-638f9fbaf635"
      },
      "source": [
        "full_path_to_file2 = os.path.join(S1_doubleA1A3_52) \n",
        "blob_service_client.get_blob_to_path('shadeimg', full_path_to_file2, full_path_to_file2)"
      ],
      "execution_count": 454,
      "outputs": [
        {
          "output_type": "execute_result",
          "data": {
            "text/plain": [
              "<azure.storage.blob.models.Blob at 0x7f215d8c7710>"
            ]
          },
          "metadata": {},
          "execution_count": 454
        }
      ]
    },
    {
      "cell_type": "code",
      "metadata": {
        "id": "jY7gzT96armC",
        "colab": {
          "base_uri": "https://localhost:8080/"
        },
        "outputId": "45a5abf5-c6b6-4732-bb2f-3c16d0651acd"
      },
      "source": [
        "full_path_to_file2 = os.path.join(S1_doubleA1A4_2) \n",
        "blob_service_client.get_blob_to_path('shadeimg', full_path_to_file2, full_path_to_file2)"
      ],
      "execution_count": 455,
      "outputs": [
        {
          "output_type": "execute_result",
          "data": {
            "text/plain": [
              "<azure.storage.blob.models.Blob at 0x7f215d825890>"
            ]
          },
          "metadata": {},
          "execution_count": 455
        }
      ]
    },
    {
      "cell_type": "code",
      "metadata": {
        "id": "r_tN80ViarmD",
        "colab": {
          "base_uri": "https://localhost:8080/"
        },
        "outputId": "6cf0ba44-d305-414c-86d2-141ffea4c46f"
      },
      "source": [
        "full_path_to_file2 = os.path.join(S1_doubleA1B1_2) \n",
        "blob_service_client.get_blob_to_path('shadeimg', full_path_to_file2, full_path_to_file2)"
      ],
      "execution_count": 456,
      "outputs": [
        {
          "output_type": "execute_result",
          "data": {
            "text/plain": [
              "<azure.storage.blob.models.Blob at 0x7f216016fb90>"
            ]
          },
          "metadata": {},
          "execution_count": 456
        }
      ]
    },
    {
      "cell_type": "code",
      "metadata": {
        "id": "7k1IhFJHarmD",
        "colab": {
          "base_uri": "https://localhost:8080/"
        },
        "outputId": "1cca2350-5036-4778-f67e-e75373571615"
      },
      "source": [
        "full_path_to_file2 = os.path.join(S1_doubleA1B2_2) \n",
        "blob_service_client.get_blob_to_path('shadeimg', full_path_to_file2, full_path_to_file2)"
      ],
      "execution_count": 457,
      "outputs": [
        {
          "output_type": "execute_result",
          "data": {
            "text/plain": [
              "<azure.storage.blob.models.Blob at 0x7f215d825750>"
            ]
          },
          "metadata": {},
          "execution_count": 457
        }
      ]
    },
    {
      "cell_type": "code",
      "metadata": {
        "id": "oU7FiinGarmE",
        "colab": {
          "base_uri": "https://localhost:8080/"
        },
        "outputId": "6ae976cf-bd22-423a-c1f2-cf53178674df"
      },
      "source": [
        "full_path_to_file2 = os.path.join(S1_doubleA1B3_2) \n",
        "blob_service_client.get_blob_to_path('shadeimg', full_path_to_file2, full_path_to_file2)"
      ],
      "execution_count": 458,
      "outputs": [
        {
          "output_type": "execute_result",
          "data": {
            "text/plain": [
              "<azure.storage.blob.models.Blob at 0x7f216985c090>"
            ]
          },
          "metadata": {},
          "execution_count": 458
        }
      ]
    },
    {
      "cell_type": "code",
      "metadata": {
        "id": "eOKs2zHbarmE",
        "colab": {
          "base_uri": "https://localhost:8080/"
        },
        "outputId": "da7eb0fb-b0ef-42fc-a8dd-d5d5bd605c5f"
      },
      "source": [
        "full_path_to_file2 = os.path.join(S1_doubleA1B4_2) \n",
        "blob_service_client.get_blob_to_path('shadeimg', full_path_to_file2, full_path_to_file2)"
      ],
      "execution_count": 459,
      "outputs": [
        {
          "output_type": "execute_result",
          "data": {
            "text/plain": [
              "<azure.storage.blob.models.Blob at 0x7f215d803450>"
            ]
          },
          "metadata": {},
          "execution_count": 459
        }
      ]
    },
    {
      "cell_type": "code",
      "metadata": {
        "id": "U7SiS2N6armF",
        "colab": {
          "base_uri": "https://localhost:8080/"
        },
        "outputId": "9e8a3adf-a93f-46cc-b6fc-37d8731d732e"
      },
      "source": [
        "full_path_to_file2 = os.path.join(S1_doubleA1C1_2) \n",
        "blob_service_client.get_blob_to_path('shadeimg', full_path_to_file2, full_path_to_file2)"
      ],
      "execution_count": 460,
      "outputs": [
        {
          "output_type": "execute_result",
          "data": {
            "text/plain": [
              "<azure.storage.blob.models.Blob at 0x7f216064eed0>"
            ]
          },
          "metadata": {},
          "execution_count": 460
        }
      ]
    },
    {
      "cell_type": "code",
      "metadata": {
        "id": "KcpzEnu9armG",
        "colab": {
          "base_uri": "https://localhost:8080/"
        },
        "outputId": "ee46e76b-7fdd-4888-8df4-29844761402a"
      },
      "source": [
        "full_path_to_file2 = os.path.join(S1_doubleA1C2_2) \n",
        "blob_service_client.get_blob_to_path('shadeimg', full_path_to_file2, full_path_to_file2)"
      ],
      "execution_count": 461,
      "outputs": [
        {
          "output_type": "execute_result",
          "data": {
            "text/plain": [
              "<azure.storage.blob.models.Blob at 0x7f215d830750>"
            ]
          },
          "metadata": {},
          "execution_count": 461
        }
      ]
    },
    {
      "cell_type": "code",
      "metadata": {
        "id": "hazhbOumarmG",
        "colab": {
          "base_uri": "https://localhost:8080/"
        },
        "outputId": "c020b729-7963-4054-dc7a-ec7ac0f68196"
      },
      "source": [
        "full_path_to_file2 = os.path.join(S1_doubleA1C3_2) \n",
        "blob_service_client.get_blob_to_path('shadeimg', full_path_to_file2, full_path_to_file2)"
      ],
      "execution_count": 462,
      "outputs": [
        {
          "output_type": "execute_result",
          "data": {
            "text/plain": [
              "<azure.storage.blob.models.Blob at 0x7f215d943990>"
            ]
          },
          "metadata": {},
          "execution_count": 462
        }
      ]
    },
    {
      "cell_type": "code",
      "metadata": {
        "id": "U-OoUWhNarmH",
        "colab": {
          "base_uri": "https://localhost:8080/"
        },
        "outputId": "d449aaf3-a169-49d7-e17e-ec6174c6ab38"
      },
      "source": [
        "full_path_to_file2 = os.path.join(S1_doubleA1C4_2) \n",
        "blob_service_client.get_blob_to_path('shadeimg', full_path_to_file2, full_path_to_file2)"
      ],
      "execution_count": 463,
      "outputs": [
        {
          "output_type": "execute_result",
          "data": {
            "text/plain": [
              "<azure.storage.blob.models.Blob at 0x7f215db72f10>"
            ]
          },
          "metadata": {},
          "execution_count": 463
        }
      ]
    },
    {
      "cell_type": "code",
      "metadata": {
        "id": "_xD-Hj7karmH",
        "colab": {
          "base_uri": "https://localhost:8080/"
        },
        "outputId": "0aef8c44-e5d1-450d-afdd-08e7fe8e586b"
      },
      "source": [
        "full_path_to_file2 = os.path.join(S1_doubleA1D2_2) \n",
        "blob_service_client.get_blob_to_path('shadeimg', full_path_to_file2, full_path_to_file2)"
      ],
      "execution_count": 464,
      "outputs": [
        {
          "output_type": "execute_result",
          "data": {
            "text/plain": [
              "<azure.storage.blob.models.Blob at 0x7f215d992750>"
            ]
          },
          "metadata": {},
          "execution_count": 464
        }
      ]
    },
    {
      "cell_type": "code",
      "metadata": {
        "id": "bUEqUL2marmI",
        "colab": {
          "base_uri": "https://localhost:8080/"
        },
        "outputId": "5bb2cd82-2890-4f0e-e25f-6b77d929319a"
      },
      "source": [
        "full_path_to_file2 = os.path.join(S1_doubleA1D3_2) \n",
        "blob_service_client.get_blob_to_path('shadeimg', full_path_to_file2, full_path_to_file2)"
      ],
      "execution_count": 465,
      "outputs": [
        {
          "output_type": "execute_result",
          "data": {
            "text/plain": [
              "<azure.storage.blob.models.Blob at 0x7f2160160c10>"
            ]
          },
          "metadata": {},
          "execution_count": 465
        }
      ]
    },
    {
      "cell_type": "code",
      "metadata": {
        "id": "RSL36p-5armJ",
        "colab": {
          "base_uri": "https://localhost:8080/"
        },
        "outputId": "4decd9c9-df22-4729-d6da-983469c7f7c3"
      },
      "source": [
        "full_path_to_file2 = os.path.join(S1_doubleA1D4_2) \n",
        "blob_service_client.get_blob_to_path('shadeimg', full_path_to_file2, full_path_to_file2)"
      ],
      "execution_count": 466,
      "outputs": [
        {
          "output_type": "execute_result",
          "data": {
            "text/plain": [
              "<azure.storage.blob.models.Blob at 0x7f215d81ee90>"
            ]
          },
          "metadata": {},
          "execution_count": 466
        }
      ]
    },
    {
      "cell_type": "markdown",
      "metadata": {
        "id": "JTzZp40yarmJ"
      },
      "source": [
        "###Img 3"
      ]
    },
    {
      "cell_type": "code",
      "metadata": {
        "id": "S2_pomstbD0S",
        "colab": {
          "base_uri": "https://localhost:8080/"
        },
        "outputId": "1378a6ba-3fd1-4b6f-93f6-be9d7a76d46c"
      },
      "source": [
        "full_path_to_file2 = os.path.join(S1_doubleA1A1_3) \n",
        "blob_service_client.get_blob_to_path('shadeimg', full_path_to_file2, full_path_to_file2)"
      ],
      "execution_count": 467,
      "outputs": [
        {
          "output_type": "execute_result",
          "data": {
            "text/plain": [
              "<azure.storage.blob.models.Blob at 0x7f21601ed850>"
            ]
          },
          "metadata": {},
          "execution_count": 467
        }
      ]
    },
    {
      "cell_type": "code",
      "metadata": {
        "id": "KxZTnAD9bD0T",
        "colab": {
          "base_uri": "https://localhost:8080/"
        },
        "outputId": "c6c7c7ce-11d9-4eb9-d4fe-b8c98d250269"
      },
      "source": [
        "full_path_to_file2 = os.path.join(S1_doubleA1A2_3) \n",
        "blob_service_client.get_blob_to_path('shadeimg', full_path_to_file2, full_path_to_file2)"
      ],
      "execution_count": 468,
      "outputs": [
        {
          "output_type": "execute_result",
          "data": {
            "text/plain": [
              "<azure.storage.blob.models.Blob at 0x7f2160145290>"
            ]
          },
          "metadata": {},
          "execution_count": 468
        }
      ]
    },
    {
      "cell_type": "code",
      "metadata": {
        "id": "7Cy2jzEQbD0U",
        "colab": {
          "base_uri": "https://localhost:8080/"
        },
        "outputId": "2f73bd08-35a9-4844-ab8a-a778efeb9371"
      },
      "source": [
        "full_path_to_file2 = os.path.join(S1_doubleA1A3_3) \n",
        "blob_service_client.get_blob_to_path('shadeimg', full_path_to_file2, full_path_to_file2)"
      ],
      "execution_count": 469,
      "outputs": [
        {
          "output_type": "execute_result",
          "data": {
            "text/plain": [
              "<azure.storage.blob.models.Blob at 0x7f215db4fd90>"
            ]
          },
          "metadata": {},
          "execution_count": 469
        }
      ]
    },
    {
      "cell_type": "code",
      "metadata": {
        "id": "jMyXyjCebD0V",
        "colab": {
          "base_uri": "https://localhost:8080/"
        },
        "outputId": "4d6e2792-9724-48c1-ccf0-ebce4978af27"
      },
      "source": [
        "full_path_to_file2 = os.path.join(S1_doubleA1A3_53) \n",
        "blob_service_client.get_blob_to_path('shadeimg', full_path_to_file2, full_path_to_file2)"
      ],
      "execution_count": 470,
      "outputs": [
        {
          "output_type": "execute_result",
          "data": {
            "text/plain": [
              "<azure.storage.blob.models.Blob at 0x7f215f85fd10>"
            ]
          },
          "metadata": {},
          "execution_count": 470
        }
      ]
    },
    {
      "cell_type": "code",
      "metadata": {
        "id": "Xhr__6lWbD0V",
        "colab": {
          "base_uri": "https://localhost:8080/"
        },
        "outputId": "c3f1103b-bc20-48f7-c822-9d33ce0d382d"
      },
      "source": [
        "full_path_to_file2 = os.path.join(S1_doubleA1A4_3) \n",
        "blob_service_client.get_blob_to_path('shadeimg', full_path_to_file2, full_path_to_file2)"
      ],
      "execution_count": 471,
      "outputs": [
        {
          "output_type": "execute_result",
          "data": {
            "text/plain": [
              "<azure.storage.blob.models.Blob at 0x7f216018df50>"
            ]
          },
          "metadata": {},
          "execution_count": 471
        }
      ]
    },
    {
      "cell_type": "code",
      "metadata": {
        "id": "aIWAdCp9bD0X",
        "colab": {
          "base_uri": "https://localhost:8080/"
        },
        "outputId": "0dd8b3a9-3032-4122-938b-ba45c7adb5ba"
      },
      "source": [
        "full_path_to_file2 = os.path.join(S1_doubleA1B1_3) \n",
        "blob_service_client.get_blob_to_path('shadeimg', full_path_to_file2, full_path_to_file2)"
      ],
      "execution_count": 472,
      "outputs": [
        {
          "output_type": "execute_result",
          "data": {
            "text/plain": [
              "<azure.storage.blob.models.Blob at 0x7f2160186490>"
            ]
          },
          "metadata": {},
          "execution_count": 472
        }
      ]
    },
    {
      "cell_type": "code",
      "metadata": {
        "id": "Wyyw5WjWbD0X",
        "colab": {
          "base_uri": "https://localhost:8080/"
        },
        "outputId": "dc8fe0b8-1dbe-48b9-eec9-77f8fd88aee2"
      },
      "source": [
        "full_path_to_file2 = os.path.join(S1_doubleA1B2_3) \n",
        "blob_service_client.get_blob_to_path('shadeimg', full_path_to_file2, full_path_to_file2)"
      ],
      "execution_count": 473,
      "outputs": [
        {
          "output_type": "execute_result",
          "data": {
            "text/plain": [
              "<azure.storage.blob.models.Blob at 0x7f215f3c6210>"
            ]
          },
          "metadata": {},
          "execution_count": 473
        }
      ]
    },
    {
      "cell_type": "code",
      "metadata": {
        "id": "UBD9688ObD0Y",
        "colab": {
          "base_uri": "https://localhost:8080/"
        },
        "outputId": "7c996882-22e3-4bb8-f4f9-f7f66118b652"
      },
      "source": [
        "full_path_to_file2 = os.path.join(S1_doubleA1B3_3) \n",
        "blob_service_client.get_blob_to_path('shadeimg', full_path_to_file2, full_path_to_file2)"
      ],
      "execution_count": 474,
      "outputs": [
        {
          "output_type": "execute_result",
          "data": {
            "text/plain": [
              "<azure.storage.blob.models.Blob at 0x7f215d983650>"
            ]
          },
          "metadata": {},
          "execution_count": 474
        }
      ]
    },
    {
      "cell_type": "code",
      "metadata": {
        "id": "tgC5B66ObD0Z",
        "colab": {
          "base_uri": "https://localhost:8080/"
        },
        "outputId": "8280bcd5-09bd-4237-f1d1-27ed8f696f73"
      },
      "source": [
        "full_path_to_file2 = os.path.join(S1_doubleA1B4_3) \n",
        "blob_service_client.get_blob_to_path('shadeimg', full_path_to_file2, full_path_to_file2)"
      ],
      "execution_count": 475,
      "outputs": [
        {
          "output_type": "execute_result",
          "data": {
            "text/plain": [
              "<azure.storage.blob.models.Blob at 0x7f215da3ff90>"
            ]
          },
          "metadata": {},
          "execution_count": 475
        }
      ]
    },
    {
      "cell_type": "code",
      "metadata": {
        "id": "VsCusr4EbD0Z",
        "colab": {
          "base_uri": "https://localhost:8080/"
        },
        "outputId": "4990f902-6851-4e7c-c21f-fdf746857bf4"
      },
      "source": [
        "full_path_to_file2 = os.path.join(S1_doubleA1C1_3) \n",
        "blob_service_client.get_blob_to_path('shadeimg', full_path_to_file2, full_path_to_file2)"
      ],
      "execution_count": 476,
      "outputs": [
        {
          "output_type": "execute_result",
          "data": {
            "text/plain": [
              "<azure.storage.blob.models.Blob at 0x7f215d9adc50>"
            ]
          },
          "metadata": {},
          "execution_count": 476
        }
      ]
    },
    {
      "cell_type": "code",
      "metadata": {
        "id": "FzHMbp8JbD0a",
        "colab": {
          "base_uri": "https://localhost:8080/"
        },
        "outputId": "6679a510-dfc3-4341-86e6-d3ef4264f455"
      },
      "source": [
        "full_path_to_file2 = os.path.join(S1_doubleA1C2_3) \n",
        "blob_service_client.get_blob_to_path('shadeimg', full_path_to_file2, full_path_to_file2)"
      ],
      "execution_count": 477,
      "outputs": [
        {
          "output_type": "execute_result",
          "data": {
            "text/plain": [
              "<azure.storage.blob.models.Blob at 0x7f215f84bd90>"
            ]
          },
          "metadata": {},
          "execution_count": 477
        }
      ]
    },
    {
      "cell_type": "code",
      "metadata": {
        "id": "SukxYOEObD0a",
        "colab": {
          "base_uri": "https://localhost:8080/"
        },
        "outputId": "8b7bf00e-804c-4181-a685-0d7c9c90a435"
      },
      "source": [
        "full_path_to_file2 = os.path.join(S1_doubleA1C3_3) \n",
        "blob_service_client.get_blob_to_path('shadeimg', full_path_to_file2, full_path_to_file2)"
      ],
      "execution_count": 478,
      "outputs": [
        {
          "output_type": "execute_result",
          "data": {
            "text/plain": [
              "<azure.storage.blob.models.Blob at 0x7f215d7f8fd0>"
            ]
          },
          "metadata": {},
          "execution_count": 478
        }
      ]
    },
    {
      "cell_type": "code",
      "metadata": {
        "id": "Tv1u3tYmbD0d",
        "colab": {
          "base_uri": "https://localhost:8080/"
        },
        "outputId": "8b376c05-cfe2-4976-a42a-3748cc77e66c"
      },
      "source": [
        "full_path_to_file2 = os.path.join(S1_doubleA1C4_3) \n",
        "blob_service_client.get_blob_to_path('shadeimg', full_path_to_file2, full_path_to_file2)"
      ],
      "execution_count": 479,
      "outputs": [
        {
          "output_type": "execute_result",
          "data": {
            "text/plain": [
              "<azure.storage.blob.models.Blob at 0x7f216064ed10>"
            ]
          },
          "metadata": {},
          "execution_count": 479
        }
      ]
    },
    {
      "cell_type": "code",
      "metadata": {
        "id": "6h7uJ_3NbD0e",
        "colab": {
          "base_uri": "https://localhost:8080/"
        },
        "outputId": "33144876-eb52-4707-bf77-03a9553145bf"
      },
      "source": [
        "full_path_to_file2 = os.path.join(S1_doubleA1D2_3) \n",
        "blob_service_client.get_blob_to_path('shadeimg', full_path_to_file2, full_path_to_file2)"
      ],
      "execution_count": 480,
      "outputs": [
        {
          "output_type": "execute_result",
          "data": {
            "text/plain": [
              "<azure.storage.blob.models.Blob at 0x7f215d7f3e90>"
            ]
          },
          "metadata": {},
          "execution_count": 480
        }
      ]
    },
    {
      "cell_type": "code",
      "metadata": {
        "id": "XG429HjrbD0e",
        "colab": {
          "base_uri": "https://localhost:8080/"
        },
        "outputId": "c47455ba-89e9-4839-8443-8a607c3d08ba"
      },
      "source": [
        "full_path_to_file2 = os.path.join(S1_doubleA1D3_3) \n",
        "blob_service_client.get_blob_to_path('shadeimg', full_path_to_file2, full_path_to_file2)"
      ],
      "execution_count": 481,
      "outputs": [
        {
          "output_type": "execute_result",
          "data": {
            "text/plain": [
              "<azure.storage.blob.models.Blob at 0x7f2160199e50>"
            ]
          },
          "metadata": {},
          "execution_count": 481
        }
      ]
    },
    {
      "cell_type": "code",
      "metadata": {
        "id": "t7KeVGgcbD0f",
        "colab": {
          "base_uri": "https://localhost:8080/"
        },
        "outputId": "a9b51179-e448-42a6-936d-84694594829e"
      },
      "source": [
        "full_path_to_file2 = os.path.join(S1_doubleA1D4_3) \n",
        "blob_service_client.get_blob_to_path('shadeimg', full_path_to_file2, full_path_to_file2)"
      ],
      "execution_count": 482,
      "outputs": [
        {
          "output_type": "execute_result",
          "data": {
            "text/plain": [
              "<azure.storage.blob.models.Blob at 0x7f215d9854d0>"
            ]
          },
          "metadata": {},
          "execution_count": 482
        }
      ]
    },
    {
      "cell_type": "markdown",
      "metadata": {
        "id": "DwwnKHqXbD0f"
      },
      "source": [
        "###Img 4"
      ]
    },
    {
      "cell_type": "code",
      "metadata": {
        "id": "DMRu4-1FbWeJ",
        "colab": {
          "base_uri": "https://localhost:8080/"
        },
        "outputId": "765411d7-ec3f-478e-e4e7-f80652bf1b92"
      },
      "source": [
        "full_path_to_file2 = os.path.join(S1_doubleA1A1_4) \n",
        "blob_service_client.get_blob_to_path('shadeimg', full_path_to_file2, full_path_to_file2)"
      ],
      "execution_count": 483,
      "outputs": [
        {
          "output_type": "execute_result",
          "data": {
            "text/plain": [
              "<azure.storage.blob.models.Blob at 0x7f215d905e10>"
            ]
          },
          "metadata": {},
          "execution_count": 483
        }
      ]
    },
    {
      "cell_type": "code",
      "metadata": {
        "id": "zRYyKFZ9bWeK",
        "colab": {
          "base_uri": "https://localhost:8080/"
        },
        "outputId": "25fe53ce-c478-4f33-fd9c-2b44a0818aaa"
      },
      "source": [
        "full_path_to_file2 = os.path.join(S1_doubleA1A2_4) \n",
        "blob_service_client.get_blob_to_path('shadeimg', full_path_to_file2, full_path_to_file2)"
      ],
      "execution_count": 484,
      "outputs": [
        {
          "output_type": "execute_result",
          "data": {
            "text/plain": [
              "<azure.storage.blob.models.Blob at 0x7f215d942cd0>"
            ]
          },
          "metadata": {},
          "execution_count": 484
        }
      ]
    },
    {
      "cell_type": "code",
      "metadata": {
        "id": "lidWpo37bWeK",
        "colab": {
          "base_uri": "https://localhost:8080/"
        },
        "outputId": "16511b5b-0797-4ec9-df5b-cf95887ecea7"
      },
      "source": [
        "full_path_to_file2 = os.path.join(S1_doubleA1A3_4) \n",
        "blob_service_client.get_blob_to_path('shadeimg', full_path_to_file2, full_path_to_file2)"
      ],
      "execution_count": 485,
      "outputs": [
        {
          "output_type": "execute_result",
          "data": {
            "text/plain": [
              "<azure.storage.blob.models.Blob at 0x7f215d9f16d0>"
            ]
          },
          "metadata": {},
          "execution_count": 485
        }
      ]
    },
    {
      "cell_type": "code",
      "metadata": {
        "id": "kgHPzfDYbWeL",
        "colab": {
          "base_uri": "https://localhost:8080/"
        },
        "outputId": "71afcc1d-29e0-4526-ef64-e3d7cb61933a"
      },
      "source": [
        "full_path_to_file2 = os.path.join(S1_doubleA1A3_54) \n",
        "blob_service_client.get_blob_to_path('shadeimg', full_path_to_file2, full_path_to_file2)"
      ],
      "execution_count": 486,
      "outputs": [
        {
          "output_type": "execute_result",
          "data": {
            "text/plain": [
              "<azure.storage.blob.models.Blob at 0x7f2160199b50>"
            ]
          },
          "metadata": {},
          "execution_count": 486
        }
      ]
    },
    {
      "cell_type": "code",
      "metadata": {
        "id": "2m-rE5xdbWeL",
        "colab": {
          "base_uri": "https://localhost:8080/"
        },
        "outputId": "56f0b0b8-a998-4b42-952a-6232e7ab79be"
      },
      "source": [
        "full_path_to_file2 = os.path.join(S1_doubleA1A4_4) \n",
        "blob_service_client.get_blob_to_path('shadeimg', full_path_to_file2, full_path_to_file2)"
      ],
      "execution_count": 487,
      "outputs": [
        {
          "output_type": "execute_result",
          "data": {
            "text/plain": [
              "<azure.storage.blob.models.Blob at 0x7f215f8a9090>"
            ]
          },
          "metadata": {},
          "execution_count": 487
        }
      ]
    },
    {
      "cell_type": "code",
      "metadata": {
        "id": "P35XEE-8bWeL",
        "colab": {
          "base_uri": "https://localhost:8080/"
        },
        "outputId": "5bfd8a7c-aabc-4d13-8aba-0c138ef3b113"
      },
      "source": [
        "full_path_to_file2 = os.path.join(S1_doubleA1B1_4) \n",
        "blob_service_client.get_blob_to_path('shadeimg', full_path_to_file2, full_path_to_file2)"
      ],
      "execution_count": 488,
      "outputs": [
        {
          "output_type": "execute_result",
          "data": {
            "text/plain": [
              "<azure.storage.blob.models.Blob at 0x7f2160183990>"
            ]
          },
          "metadata": {},
          "execution_count": 488
        }
      ]
    },
    {
      "cell_type": "code",
      "metadata": {
        "id": "YYRlNsp1bWeM",
        "colab": {
          "base_uri": "https://localhost:8080/"
        },
        "outputId": "983e1994-1dea-4ff3-a25c-9a61f0bd9fee"
      },
      "source": [
        "full_path_to_file2 = os.path.join(S1_doubleA1B2_4) \n",
        "blob_service_client.get_blob_to_path('shadeimg', full_path_to_file2, full_path_to_file2)"
      ],
      "execution_count": 489,
      "outputs": [
        {
          "output_type": "execute_result",
          "data": {
            "text/plain": [
              "<azure.storage.blob.models.Blob at 0x7f215f8c2f10>"
            ]
          },
          "metadata": {},
          "execution_count": 489
        }
      ]
    },
    {
      "cell_type": "code",
      "metadata": {
        "id": "OKicpqWtbWeM",
        "colab": {
          "base_uri": "https://localhost:8080/"
        },
        "outputId": "db499954-f386-4099-e8a5-2ec57ea3955b"
      },
      "source": [
        "full_path_to_file2 = os.path.join(S1_doubleA1B3_4) \n",
        "blob_service_client.get_blob_to_path('shadeimg', full_path_to_file2, full_path_to_file2)"
      ],
      "execution_count": 490,
      "outputs": [
        {
          "output_type": "execute_result",
          "data": {
            "text/plain": [
              "<azure.storage.blob.models.Blob at 0x7f215f85f1d0>"
            ]
          },
          "metadata": {},
          "execution_count": 490
        }
      ]
    },
    {
      "cell_type": "code",
      "metadata": {
        "id": "336FOeuDbWeM",
        "colab": {
          "base_uri": "https://localhost:8080/"
        },
        "outputId": "2e289320-699a-44bc-894c-132f305bfc2d"
      },
      "source": [
        "full_path_to_file2 = os.path.join(S1_doubleA1B4_4) \n",
        "blob_service_client.get_blob_to_path('shadeimg', full_path_to_file2, full_path_to_file2)"
      ],
      "execution_count": 491,
      "outputs": [
        {
          "output_type": "execute_result",
          "data": {
            "text/plain": [
              "<azure.storage.blob.models.Blob at 0x7f215db72790>"
            ]
          },
          "metadata": {},
          "execution_count": 491
        }
      ]
    },
    {
      "cell_type": "code",
      "metadata": {
        "id": "Wy_IaQoDbWeN",
        "colab": {
          "base_uri": "https://localhost:8080/"
        },
        "outputId": "d4d7e6ed-f634-48fc-dc88-e9c43694e623"
      },
      "source": [
        "full_path_to_file2 = os.path.join(S1_doubleA1C1_4) \n",
        "blob_service_client.get_blob_to_path('shadeimg', full_path_to_file2, full_path_to_file2)"
      ],
      "execution_count": 492,
      "outputs": [
        {
          "output_type": "execute_result",
          "data": {
            "text/plain": [
              "<azure.storage.blob.models.Blob at 0x7f215f3e94d0>"
            ]
          },
          "metadata": {},
          "execution_count": 492
        }
      ]
    },
    {
      "cell_type": "code",
      "metadata": {
        "id": "3FHNrdWqbWeN",
        "colab": {
          "base_uri": "https://localhost:8080/"
        },
        "outputId": "d7ddcb81-e993-4a5c-e832-f960ec5732f6"
      },
      "source": [
        "full_path_to_file2 = os.path.join(S1_doubleA1C2_4) \n",
        "blob_service_client.get_blob_to_path('shadeimg', full_path_to_file2, full_path_to_file2)"
      ],
      "execution_count": 493,
      "outputs": [
        {
          "output_type": "execute_result",
          "data": {
            "text/plain": [
              "<azure.storage.blob.models.Blob at 0x7f215f908e90>"
            ]
          },
          "metadata": {},
          "execution_count": 493
        }
      ]
    },
    {
      "cell_type": "code",
      "metadata": {
        "id": "13rum4dNbWeN",
        "colab": {
          "base_uri": "https://localhost:8080/"
        },
        "outputId": "9a108336-0cb6-4aba-d4f7-c7c1d12afba8"
      },
      "source": [
        "full_path_to_file2 = os.path.join(S1_doubleA1C3_4) \n",
        "blob_service_client.get_blob_to_path('shadeimg', full_path_to_file2, full_path_to_file2)"
      ],
      "execution_count": 494,
      "outputs": [
        {
          "output_type": "execute_result",
          "data": {
            "text/plain": [
              "<azure.storage.blob.models.Blob at 0x7f215f3e9dd0>"
            ]
          },
          "metadata": {},
          "execution_count": 494
        }
      ]
    },
    {
      "cell_type": "code",
      "metadata": {
        "id": "Kw4IEitEbWeR",
        "colab": {
          "base_uri": "https://localhost:8080/"
        },
        "outputId": "ed5b8879-eb72-49cd-d170-c91560079027"
      },
      "source": [
        "full_path_to_file2 = os.path.join(S1_doubleA1C4_4) \n",
        "blob_service_client.get_blob_to_path('shadeimg', full_path_to_file2, full_path_to_file2)"
      ],
      "execution_count": 495,
      "outputs": [
        {
          "output_type": "execute_result",
          "data": {
            "text/plain": [
              "<azure.storage.blob.models.Blob at 0x7f215da95950>"
            ]
          },
          "metadata": {},
          "execution_count": 495
        }
      ]
    },
    {
      "cell_type": "code",
      "metadata": {
        "id": "Qmgtor9LbWeS",
        "colab": {
          "base_uri": "https://localhost:8080/"
        },
        "outputId": "a4a34c64-6971-47e1-986b-458f32508e76"
      },
      "source": [
        "full_path_to_file2 = os.path.join(S1_doubleA1D2_4) \n",
        "blob_service_client.get_blob_to_path('shadeimg', full_path_to_file2, full_path_to_file2)"
      ],
      "execution_count": 496,
      "outputs": [
        {
          "output_type": "execute_result",
          "data": {
            "text/plain": [
              "<azure.storage.blob.models.Blob at 0x7f215d96c410>"
            ]
          },
          "metadata": {},
          "execution_count": 496
        }
      ]
    },
    {
      "cell_type": "code",
      "metadata": {
        "id": "2JHIpGlebWeS",
        "colab": {
          "base_uri": "https://localhost:8080/"
        },
        "outputId": "fdb4239e-8b85-400e-bd56-66e9d250f73e"
      },
      "source": [
        "full_path_to_file2 = os.path.join(S1_doubleA1D3_4) \n",
        "blob_service_client.get_blob_to_path('shadeimg', full_path_to_file2, full_path_to_file2)"
      ],
      "execution_count": 497,
      "outputs": [
        {
          "output_type": "execute_result",
          "data": {
            "text/plain": [
              "<azure.storage.blob.models.Blob at 0x7f215f3e9110>"
            ]
          },
          "metadata": {},
          "execution_count": 497
        }
      ]
    },
    {
      "cell_type": "code",
      "metadata": {
        "id": "EQcWyvujbWeS",
        "colab": {
          "base_uri": "https://localhost:8080/"
        },
        "outputId": "e70aa726-58c7-4150-8428-144651917b5f"
      },
      "source": [
        "full_path_to_file2 = os.path.join(S1_doubleA1D4_4) \n",
        "blob_service_client.get_blob_to_path('shadeimg', full_path_to_file2, full_path_to_file2)"
      ],
      "execution_count": 498,
      "outputs": [
        {
          "output_type": "execute_result",
          "data": {
            "text/plain": [
              "<azure.storage.blob.models.Blob at 0x7f215f931090>"
            ]
          },
          "metadata": {},
          "execution_count": 498
        }
      ]
    },
    {
      "cell_type": "markdown",
      "metadata": {
        "id": "ezvfgEdqbWeT"
      },
      "source": [
        "###Img 5"
      ]
    },
    {
      "cell_type": "code",
      "metadata": {
        "id": "yoR9sgpTbmP7",
        "colab": {
          "base_uri": "https://localhost:8080/"
        },
        "outputId": "b892f9e8-e6ad-45bb-e995-3298f68f27bf"
      },
      "source": [
        "full_path_to_file2 = os.path.join(S1_doubleA1A1_5) \n",
        "blob_service_client.get_blob_to_path('shadeimg', full_path_to_file2, full_path_to_file2)"
      ],
      "execution_count": 499,
      "outputs": [
        {
          "output_type": "execute_result",
          "data": {
            "text/plain": [
              "<azure.storage.blob.models.Blob at 0x7f215d760f10>"
            ]
          },
          "metadata": {},
          "execution_count": 499
        }
      ]
    },
    {
      "cell_type": "code",
      "metadata": {
        "id": "qQ4h1WnhbmP8",
        "colab": {
          "base_uri": "https://localhost:8080/"
        },
        "outputId": "502189f6-807f-4f11-b035-bb842ee462c4"
      },
      "source": [
        "full_path_to_file2 = os.path.join(S1_doubleA1A2_5) \n",
        "blob_service_client.get_blob_to_path('shadeimg', full_path_to_file2, full_path_to_file2)"
      ],
      "execution_count": 500,
      "outputs": [
        {
          "output_type": "execute_result",
          "data": {
            "text/plain": [
              "<azure.storage.blob.models.Blob at 0x7f215d760410>"
            ]
          },
          "metadata": {},
          "execution_count": 500
        }
      ]
    },
    {
      "cell_type": "code",
      "metadata": {
        "id": "x_iwy9albmP8",
        "colab": {
          "base_uri": "https://localhost:8080/"
        },
        "outputId": "486a7406-8405-434c-91f8-89719b17431e"
      },
      "source": [
        "full_path_to_file2 = os.path.join(S1_doubleA1A3_5) \n",
        "blob_service_client.get_blob_to_path('shadeimg', full_path_to_file2, full_path_to_file2)"
      ],
      "execution_count": 501,
      "outputs": [
        {
          "output_type": "execute_result",
          "data": {
            "text/plain": [
              "<azure.storage.blob.models.Blob at 0x7f21601e5390>"
            ]
          },
          "metadata": {},
          "execution_count": 501
        }
      ]
    },
    {
      "cell_type": "code",
      "metadata": {
        "id": "49xnybwnbmP9",
        "colab": {
          "base_uri": "https://localhost:8080/"
        },
        "outputId": "51c17498-eb8d-4f6c-faad-6e21dfe08c70"
      },
      "source": [
        "full_path_to_file2 = os.path.join(S1_doubleA1A3_55) \n",
        "blob_service_client.get_blob_to_path('shadeimg', full_path_to_file2, full_path_to_file2)"
      ],
      "execution_count": 502,
      "outputs": [
        {
          "output_type": "execute_result",
          "data": {
            "text/plain": [
              "<azure.storage.blob.models.Blob at 0x7f215d806750>"
            ]
          },
          "metadata": {},
          "execution_count": 502
        }
      ]
    },
    {
      "cell_type": "code",
      "metadata": {
        "id": "2qPaEWIHbmP9",
        "colab": {
          "base_uri": "https://localhost:8080/"
        },
        "outputId": "d7227d7f-f69e-4931-9730-be4d1e63f41b"
      },
      "source": [
        "full_path_to_file2 = os.path.join(S1_doubleA1A4_5) \n",
        "blob_service_client.get_blob_to_path('shadeimg', full_path_to_file2, full_path_to_file2)"
      ],
      "execution_count": 503,
      "outputs": [
        {
          "output_type": "execute_result",
          "data": {
            "text/plain": [
              "<azure.storage.blob.models.Blob at 0x7f215d901350>"
            ]
          },
          "metadata": {},
          "execution_count": 503
        }
      ]
    },
    {
      "cell_type": "code",
      "metadata": {
        "id": "NCLFk_7-bmP-",
        "colab": {
          "base_uri": "https://localhost:8080/"
        },
        "outputId": "43656d0f-78f4-4802-8720-ea61e0817fac"
      },
      "source": [
        "full_path_to_file2 = os.path.join(S1_doubleA1B1_5) \n",
        "blob_service_client.get_blob_to_path('shadeimg', full_path_to_file2, full_path_to_file2)"
      ],
      "execution_count": 504,
      "outputs": [
        {
          "output_type": "execute_result",
          "data": {
            "text/plain": [
              "<azure.storage.blob.models.Blob at 0x7f215d8afa90>"
            ]
          },
          "metadata": {},
          "execution_count": 504
        }
      ]
    },
    {
      "cell_type": "code",
      "metadata": {
        "id": "7q2YWqaibmP_",
        "colab": {
          "base_uri": "https://localhost:8080/"
        },
        "outputId": "f820f2b2-8f5a-4f44-edfc-44ce943e5071"
      },
      "source": [
        "full_path_to_file2 = os.path.join(S1_doubleA1B2_5) \n",
        "blob_service_client.get_blob_to_path('shadeimg', full_path_to_file2, full_path_to_file2)"
      ],
      "execution_count": 505,
      "outputs": [
        {
          "output_type": "execute_result",
          "data": {
            "text/plain": [
              "<azure.storage.blob.models.Blob at 0x7f215db11e50>"
            ]
          },
          "metadata": {},
          "execution_count": 505
        }
      ]
    },
    {
      "cell_type": "code",
      "metadata": {
        "id": "_5O9dHpobmQA",
        "colab": {
          "base_uri": "https://localhost:8080/"
        },
        "outputId": "ec47f678-64bc-4888-f45a-bd5218a63099"
      },
      "source": [
        "full_path_to_file2 = os.path.join(S1_doubleA1B3_5) \n",
        "blob_service_client.get_blob_to_path('shadeimg', full_path_to_file2, full_path_to_file2)"
      ],
      "execution_count": 506,
      "outputs": [
        {
          "output_type": "execute_result",
          "data": {
            "text/plain": [
              "<azure.storage.blob.models.Blob at 0x7f215da952d0>"
            ]
          },
          "metadata": {},
          "execution_count": 506
        }
      ]
    },
    {
      "cell_type": "code",
      "metadata": {
        "id": "JSI7Q1QibmQB",
        "colab": {
          "base_uri": "https://localhost:8080/"
        },
        "outputId": "1be9574b-c368-469b-d16e-6ccd9bbc08ad"
      },
      "source": [
        "full_path_to_file2 = os.path.join(S1_doubleA1B4_5) \n",
        "blob_service_client.get_blob_to_path('shadeimg', full_path_to_file2, full_path_to_file2)"
      ],
      "execution_count": 507,
      "outputs": [
        {
          "output_type": "execute_result",
          "data": {
            "text/plain": [
              "<azure.storage.blob.models.Blob at 0x7f215f91ead0>"
            ]
          },
          "metadata": {},
          "execution_count": 507
        }
      ]
    },
    {
      "cell_type": "code",
      "metadata": {
        "id": "gkbg-IqBbmQD",
        "colab": {
          "base_uri": "https://localhost:8080/"
        },
        "outputId": "43af2520-7e85-4583-85da-7e57de77b198"
      },
      "source": [
        "full_path_to_file2 = os.path.join(S1_doubleA1C1_5) \n",
        "blob_service_client.get_blob_to_path('shadeimg', full_path_to_file2, full_path_to_file2)"
      ],
      "execution_count": 508,
      "outputs": [
        {
          "output_type": "execute_result",
          "data": {
            "text/plain": [
              "<azure.storage.blob.models.Blob at 0x7f215d81e810>"
            ]
          },
          "metadata": {},
          "execution_count": 508
        }
      ]
    },
    {
      "cell_type": "code",
      "metadata": {
        "id": "2NX90r4EbmQD",
        "colab": {
          "base_uri": "https://localhost:8080/"
        },
        "outputId": "c4eb152e-f0b3-4c92-e6ba-78fed395e183"
      },
      "source": [
        "full_path_to_file2 = os.path.join(S1_doubleA1C2_5) \n",
        "blob_service_client.get_blob_to_path('shadeimg', full_path_to_file2, full_path_to_file2)"
      ],
      "execution_count": 509,
      "outputs": [
        {
          "output_type": "execute_result",
          "data": {
            "text/plain": [
              "<azure.storage.blob.models.Blob at 0x7f216014d8d0>"
            ]
          },
          "metadata": {},
          "execution_count": 509
        }
      ]
    },
    {
      "cell_type": "code",
      "metadata": {
        "id": "UoqalvodbmQE",
        "colab": {
          "base_uri": "https://localhost:8080/"
        },
        "outputId": "ef9dca15-4237-4607-cbda-3deb4641aa9f"
      },
      "source": [
        "full_path_to_file2 = os.path.join(S1_doubleA1C3_5) \n",
        "blob_service_client.get_blob_to_path('shadeimg', full_path_to_file2, full_path_to_file2)"
      ],
      "execution_count": 510,
      "outputs": [
        {
          "output_type": "execute_result",
          "data": {
            "text/plain": [
              "<azure.storage.blob.models.Blob at 0x7f215f3ec5d0>"
            ]
          },
          "metadata": {},
          "execution_count": 510
        }
      ]
    },
    {
      "cell_type": "code",
      "metadata": {
        "id": "96--GVnebmQE",
        "colab": {
          "base_uri": "https://localhost:8080/"
        },
        "outputId": "579a1e56-7ef4-472e-8ce5-8669a1490249"
      },
      "source": [
        "full_path_to_file2 = os.path.join(S1_doubleA1C4_5) \n",
        "blob_service_client.get_blob_to_path('shadeimg', full_path_to_file2, full_path_to_file2)"
      ],
      "execution_count": 511,
      "outputs": [
        {
          "output_type": "execute_result",
          "data": {
            "text/plain": [
              "<azure.storage.blob.models.Blob at 0x7f215d9050d0>"
            ]
          },
          "metadata": {},
          "execution_count": 511
        }
      ]
    },
    {
      "cell_type": "code",
      "metadata": {
        "id": "4IJdoMddbmQF",
        "colab": {
          "base_uri": "https://localhost:8080/"
        },
        "outputId": "652f6c62-2668-4a52-a700-0f710320cd9a"
      },
      "source": [
        "full_path_to_file2 = os.path.join(S1_doubleA1D2_5) \n",
        "blob_service_client.get_blob_to_path('shadeimg', full_path_to_file2, full_path_to_file2)"
      ],
      "execution_count": 512,
      "outputs": [
        {
          "output_type": "execute_result",
          "data": {
            "text/plain": [
              "<azure.storage.blob.models.Blob at 0x7f215d942110>"
            ]
          },
          "metadata": {},
          "execution_count": 512
        }
      ]
    },
    {
      "cell_type": "code",
      "metadata": {
        "id": "YZzMUE6DbmQF",
        "colab": {
          "base_uri": "https://localhost:8080/"
        },
        "outputId": "b75ab353-d05c-49bb-8f3a-b255ec6d1c47"
      },
      "source": [
        "full_path_to_file2 = os.path.join(S1_doubleA1D3_5) \n",
        "blob_service_client.get_blob_to_path('shadeimg', full_path_to_file2, full_path_to_file2)"
      ],
      "execution_count": 513,
      "outputs": [
        {
          "output_type": "execute_result",
          "data": {
            "text/plain": [
              "<azure.storage.blob.models.Blob at 0x7f215d9852d0>"
            ]
          },
          "metadata": {},
          "execution_count": 513
        }
      ]
    },
    {
      "cell_type": "code",
      "metadata": {
        "id": "OoBgpK07bmQG",
        "colab": {
          "base_uri": "https://localhost:8080/"
        },
        "outputId": "dda30794-cd7c-415e-d141-732ced3ca669"
      },
      "source": [
        "full_path_to_file2 = os.path.join(S1_doubleA1D4_5) \n",
        "blob_service_client.get_blob_to_path('shadeimg', full_path_to_file2, full_path_to_file2)"
      ],
      "execution_count": 514,
      "outputs": [
        {
          "output_type": "execute_result",
          "data": {
            "text/plain": [
              "<azure.storage.blob.models.Blob at 0x7f215f3ec690>"
            ]
          },
          "metadata": {},
          "execution_count": 514
        }
      ]
    },
    {
      "cell_type": "markdown",
      "metadata": {
        "id": "MtmXOojtqN4x"
      },
      "source": [
        "#3. BGR to RGB"
      ]
    },
    {
      "cell_type": "code",
      "metadata": {
        "id": "s8SS5YJfrpRC"
      },
      "source": [
        "import cv2\n",
        "from matplotlib import pyplot as plt #การเรียกใช้คำสั่ง matplotlib เพื่อวาดกราฟ โดยแทนชื่อ matplotlib ด้วย plt\n",
        "import matplotlib"
      ],
      "execution_count": 515,
      "outputs": []
    },
    {
      "cell_type": "markdown",
      "metadata": {
        "id": "tngQqkwA41EB"
      },
      "source": [
        "##Set1"
      ]
    },
    {
      "cell_type": "code",
      "metadata": {
        "id": "pjV8Jh9u4VyJ"
      },
      "source": [
        "imgS1_A1A1_1  = cv2.imread(S1_doubleA1A1_1)\n",
        "S1RGB_imgA1A1_1= cv2.cvtColor(imgS1_A1A1_1, cv2.COLOR_BGR2RGB)"
      ],
      "execution_count": 516,
      "outputs": []
    },
    {
      "cell_type": "code",
      "metadata": {
        "id": "Ixg-SNyU46Lp"
      },
      "source": [
        "imgS1_A1A2_1  = cv2.imread(S1_doubleA1A2_1)\n",
        "S1RGB_imgA1A2_1= cv2.cvtColor(imgS1_A1A2_1, cv2.COLOR_BGR2RGB)"
      ],
      "execution_count": 517,
      "outputs": []
    },
    {
      "cell_type": "code",
      "metadata": {
        "id": "a4-_mkF-4-te"
      },
      "source": [
        "imgS1_A1A3_1  = cv2.imread(S1_doubleA1A3_1)\n",
        "S1RGB_imgA1A3_1= cv2.cvtColor(imgS1_A1A3_1, cv2.COLOR_BGR2RGB)"
      ],
      "execution_count": 518,
      "outputs": []
    },
    {
      "cell_type": "code",
      "metadata": {
        "id": "uRs18zEK5EM3"
      },
      "source": [
        "imgS1_A1A3_51  = cv2.imread(S1_doubleA1A3_51)\n",
        "S1RGB_imgA1A3_51= cv2.cvtColor(imgS1_A1A3_51, cv2.COLOR_BGR2RGB)"
      ],
      "execution_count": 519,
      "outputs": []
    },
    {
      "cell_type": "code",
      "metadata": {
        "id": "LCju5Eai5fV4"
      },
      "source": [
        "imgS1_A1A4_1  = cv2.imread(S1_doubleA1A4_1)\n",
        "S1RGB_imgA1A4_1= cv2.cvtColor(imgS1_A1A4_1, cv2.COLOR_BGR2RGB)"
      ],
      "execution_count": 520,
      "outputs": []
    },
    {
      "cell_type": "code",
      "metadata": {
        "id": "sMwRM7yO5llo"
      },
      "source": [
        "imgS1_A1B1_1  = cv2.imread(S1_doubleA1B1_1)\n",
        "S1RGB_imgA1B1_1= cv2.cvtColor(imgS1_A1B1_1, cv2.COLOR_BGR2RGB)"
      ],
      "execution_count": 521,
      "outputs": []
    },
    {
      "cell_type": "code",
      "metadata": {
        "id": "B8Efejup5llo"
      },
      "source": [
        "imgS1_A1B2_1  = cv2.imread(S1_doubleA1B2_1)\n",
        "S1RGB_imgA1B2_1= cv2.cvtColor(imgS1_A1B2_1, cv2.COLOR_BGR2RGB)"
      ],
      "execution_count": 522,
      "outputs": []
    },
    {
      "cell_type": "code",
      "metadata": {
        "id": "j7fi0Nn95llo"
      },
      "source": [
        "imgS1_A1B3_1  = cv2.imread(S1_doubleA1A3_1)\n",
        "S1RGB_imgA1B3_1= cv2.cvtColor(imgS1_A1A3_1, cv2.COLOR_BGR2RGB)"
      ],
      "execution_count": 523,
      "outputs": []
    },
    {
      "cell_type": "code",
      "metadata": {
        "id": "Hxs3fQUU5llp"
      },
      "source": [
        "imgS1_A1B4_1  = cv2.imread(S1_doubleA1B4_1)\n",
        "S1RGB_imgA1B4_1= cv2.cvtColor(imgS1_A1B4_1, cv2.COLOR_BGR2RGB)"
      ],
      "execution_count": 524,
      "outputs": []
    },
    {
      "cell_type": "code",
      "metadata": {
        "id": "IaQDpBeS6Oa_"
      },
      "source": [
        "imgS1_A1C1_1  = cv2.imread(S1_doubleA1C1_1)\n",
        "S1RGB_imgA1C1_1= cv2.cvtColor(imgS1_A1C1_1, cv2.COLOR_BGR2RGB)"
      ],
      "execution_count": 525,
      "outputs": []
    },
    {
      "cell_type": "code",
      "metadata": {
        "id": "wuQ_nyPB6Oa_"
      },
      "source": [
        "imgS1_A1C2_1  = cv2.imread(S1_doubleA1C2_1)\n",
        "S1RGB_imgA1C2_1= cv2.cvtColor(imgS1_A1C2_1, cv2.COLOR_BGR2RGB)"
      ],
      "execution_count": 526,
      "outputs": []
    },
    {
      "cell_type": "code",
      "metadata": {
        "id": "wAdSVg_I6Oa_"
      },
      "source": [
        "imgS1_A1C3_1  = cv2.imread(S1_doubleA1C3_1)\n",
        "S1RGB_imgA1C3_1= cv2.cvtColor(imgS1_A1C3_1, cv2.COLOR_BGR2RGB)"
      ],
      "execution_count": 527,
      "outputs": []
    },
    {
      "cell_type": "code",
      "metadata": {
        "id": "XeLavKSo6Oa_"
      },
      "source": [
        "imgS1_A1C4_1  = cv2.imread(S1_doubleA1C4_1)\n",
        "S1RGB_imgA1C4_1= cv2.cvtColor(imgS1_A1C4_1, cv2.COLOR_BGR2RGB)"
      ],
      "execution_count": 528,
      "outputs": []
    },
    {
      "cell_type": "code",
      "metadata": {
        "id": "SP6HGOWx6hmP"
      },
      "source": [
        "imgS1_A1D2_1  = cv2.imread(S1_doubleA1D2_1)\n",
        "S1RGB_imgA1D2_1= cv2.cvtColor(imgS1_A1D2_1, cv2.COLOR_BGR2RGB)"
      ],
      "execution_count": 529,
      "outputs": []
    },
    {
      "cell_type": "code",
      "metadata": {
        "id": "2d2cV-Ew6hmP"
      },
      "source": [
        "imgS1_A1D3_1  = cv2.imread(S1_doubleA1D3_1)\n",
        "S1RGB_imgA1D3_1= cv2.cvtColor(imgS1_A1D3_1, cv2.COLOR_BGR2RGB)"
      ],
      "execution_count": 530,
      "outputs": []
    },
    {
      "cell_type": "code",
      "metadata": {
        "id": "doH48ypZ6hmQ"
      },
      "source": [
        "imgS1_A1D4_1  = cv2.imread(S1_doubleA1D4_1)\n",
        "S1RGB_imgA1D4_1= cv2.cvtColor(imgS1_A1D4_1, cv2.COLOR_BGR2RGB)\n"
      ],
      "execution_count": 531,
      "outputs": []
    },
    {
      "cell_type": "markdown",
      "metadata": {
        "id": "4jc2tCMd3aaF"
      },
      "source": [
        "###Img 2"
      ]
    },
    {
      "cell_type": "code",
      "metadata": {
        "id": "So6yuaEr3ryQ"
      },
      "source": [
        "imgS1_A1A1_2 = cv2.imread(S1_doubleA1A1_2)\n",
        "S1RGB_imgA1A1_2= cv2.cvtColor(imgS1_A1A1_2, cv2.COLOR_BGR2RGB)"
      ],
      "execution_count": 532,
      "outputs": []
    },
    {
      "cell_type": "code",
      "metadata": {
        "id": "A43KPfbl3ryR"
      },
      "source": [
        "imgS1_A1A2_2 = cv2.imread(S1_doubleA1A2_2)\n",
        "S1RGB_imgA1A2_2= cv2.cvtColor(imgS1_A1A2_2, cv2.COLOR_BGR2RGB)"
      ],
      "execution_count": 533,
      "outputs": []
    },
    {
      "cell_type": "code",
      "metadata": {
        "id": "4RUkrGTu3ryR"
      },
      "source": [
        "imgS1_A1A3_2= cv2.imread(S1_doubleA1A3_2)\n",
        "S1RGB_imgA1A3_2= cv2.cvtColor(imgS1_A1A3_2, cv2.COLOR_BGR2RGB)"
      ],
      "execution_count": 534,
      "outputs": []
    },
    {
      "cell_type": "code",
      "metadata": {
        "id": "ct6nUk0T3ryS"
      },
      "source": [
        "imgS1_A1A3_52  = cv2.imread(S1_doubleA1A3_52)\n",
        "S1RGB_imgA1A3_52= cv2.cvtColor(imgS1_A1A3_52, cv2.COLOR_BGR2RGB)"
      ],
      "execution_count": 535,
      "outputs": []
    },
    {
      "cell_type": "code",
      "metadata": {
        "id": "q7f1CXA63ryS"
      },
      "source": [
        "imgS1_A1A4_2 = cv2.imread(S1_doubleA1A4_2)\n",
        "S1RGB_imgA1A4_2= cv2.cvtColor(imgS1_A1A4_2, cv2.COLOR_BGR2RGB)"
      ],
      "execution_count": 536,
      "outputs": []
    },
    {
      "cell_type": "code",
      "metadata": {
        "id": "LOtSOlyk3ryT"
      },
      "source": [
        "imgS1_A1B1_2= cv2.imread(S1_doubleA1B1_2)\n",
        "S1RGB_imgA1B1_2= cv2.cvtColor(imgS1_A1B1_2, cv2.COLOR_BGR2RGB)"
      ],
      "execution_count": 537,
      "outputs": []
    },
    {
      "cell_type": "code",
      "metadata": {
        "id": "vad5Kh6m3ryT"
      },
      "source": [
        "imgS1_A1B2_2 = cv2.imread(S1_doubleA1B2_2)\n",
        "S1RGB_imgA1B2_2= cv2.cvtColor(imgS1_A1B2_2, cv2.COLOR_BGR2RGB)"
      ],
      "execution_count": 538,
      "outputs": []
    },
    {
      "cell_type": "code",
      "metadata": {
        "id": "OsPpLa_93ryU"
      },
      "source": [
        "imgS1_A1B3_2  = cv2.imread(S1_doubleA1B3_2)\n",
        "S1RGB_imgA1B3_2= cv2.cvtColor(imgS1_A1B3_2, cv2.COLOR_BGR2RGB)"
      ],
      "execution_count": 539,
      "outputs": []
    },
    {
      "cell_type": "code",
      "metadata": {
        "id": "sPa30Up03ryU"
      },
      "source": [
        "imgS1_A1B4_2 = cv2.imread(S1_doubleA1B4_2)\n",
        "S1RGB_imgA1B4_2= cv2.cvtColor(imgS1_A1B4_2, cv2.COLOR_BGR2RGB)"
      ],
      "execution_count": 540,
      "outputs": []
    },
    {
      "cell_type": "code",
      "metadata": {
        "id": "iL1zzD113ryU"
      },
      "source": [
        "imgS1_A1C1_2  = cv2.imread(S1_doubleA1C1_2)\n",
        "S1RGB_imgA1C1_2= cv2.cvtColor(imgS1_A1C1_2, cv2.COLOR_BGR2RGB)"
      ],
      "execution_count": 541,
      "outputs": []
    },
    {
      "cell_type": "code",
      "metadata": {
        "id": "4bWsc2EG3ryU"
      },
      "source": [
        "imgS1_A1C2_2  = cv2.imread(S1_doubleA1C2_2)\n",
        "S1RGB_imgA1C2_2= cv2.cvtColor(imgS1_A1C2_2, cv2.COLOR_BGR2RGB)"
      ],
      "execution_count": 542,
      "outputs": []
    },
    {
      "cell_type": "code",
      "metadata": {
        "id": "0yka-wm-3ryU"
      },
      "source": [
        "imgS1_A1C3_2  = cv2.imread(S1_doubleA1C3_2)\n",
        "S1RGB_imgA1C3_2= cv2.cvtColor(imgS1_A1C3_2, cv2.COLOR_BGR2RGB)"
      ],
      "execution_count": 543,
      "outputs": []
    },
    {
      "cell_type": "code",
      "metadata": {
        "id": "iF159ThN3ryV"
      },
      "source": [
        "imgS1_A1C4_2 = cv2.imread(S1_doubleA1C4_2)\n",
        "S1RGB_imgA1C4_2= cv2.cvtColor(imgS1_A1C4_2, cv2.COLOR_BGR2RGB)"
      ],
      "execution_count": 544,
      "outputs": []
    },
    {
      "cell_type": "code",
      "metadata": {
        "id": "ZlraPlFh3ryV"
      },
      "source": [
        "imgS1_A1D2_2 = cv2.imread(S1_doubleA1D2_2)\n",
        "S1RGB_imgA1D2_2= cv2.cvtColor(imgS1_A1D2_2, cv2.COLOR_BGR2RGB)"
      ],
      "execution_count": 545,
      "outputs": []
    },
    {
      "cell_type": "code",
      "metadata": {
        "id": "3pkScZ_m3ryV"
      },
      "source": [
        "imgS1_A1D3_2 = cv2.imread(S1_doubleA1D3_2)\n",
        "S1RGB_imgA1D3_2= cv2.cvtColor(imgS1_A1D3_2, cv2.COLOR_BGR2RGB)"
      ],
      "execution_count": 546,
      "outputs": []
    },
    {
      "cell_type": "code",
      "metadata": {
        "id": "QfZq6X_y3ryV"
      },
      "source": [
        "imgS1_A1D4_2  = cv2.imread(S1_doubleA1D4_2)\n",
        "S1RGB_imgA1D4_2= cv2.cvtColor(imgS1_A1D4_2, cv2.COLOR_BGR2RGB)"
      ],
      "execution_count": 547,
      "outputs": []
    },
    {
      "cell_type": "markdown",
      "metadata": {
        "id": "tqrpB_Os47oU"
      },
      "source": [
        "###Img 3"
      ]
    },
    {
      "cell_type": "code",
      "metadata": {
        "id": "qnjaDhn4BbYi"
      },
      "source": [
        "imgS1_A1A1_3= cv2.imread(S1_doubleA1A1_3)\n",
        "S1RGB_imgA1A1_3= cv2.cvtColor(imgS1_A1A1_3, cv2.COLOR_BGR2RGB)"
      ],
      "execution_count": 548,
      "outputs": []
    },
    {
      "cell_type": "code",
      "metadata": {
        "id": "mC6JpzhLBbYi"
      },
      "source": [
        "imgS1_A1A2_3 = cv2.imread(S1_doubleA1A2_3)\n",
        "S1RGB_imgA1A2_3= cv2.cvtColor(imgS1_A1A2_3, cv2.COLOR_BGR2RGB)"
      ],
      "execution_count": 549,
      "outputs": []
    },
    {
      "cell_type": "code",
      "metadata": {
        "id": "pClXvqiWBbYi"
      },
      "source": [
        "imgS1_A1A3_3= cv2.imread(S1_doubleA1A3_3)\n",
        "S1RGB_imgA1A3_3= cv2.cvtColor(imgS1_A1A3_3, cv2.COLOR_BGR2RGB)"
      ],
      "execution_count": 550,
      "outputs": []
    },
    {
      "cell_type": "code",
      "metadata": {
        "id": "X5f1ECCSBbYj"
      },
      "source": [
        "imgS1_A1A3_53  = cv2.imread(S1_doubleA1A3_53)\n",
        "S1RGB_imgA1A3_53= cv2.cvtColor(imgS1_A1A3_53, cv2.COLOR_BGR2RGB)"
      ],
      "execution_count": 551,
      "outputs": []
    },
    {
      "cell_type": "code",
      "metadata": {
        "id": "dlH5LoyjBbYj"
      },
      "source": [
        "imgS1_A1A4_3  = cv2.imread(S1_doubleA1A4_3)\n",
        "S1RGB_imgA1A4_3= cv2.cvtColor(imgS1_A1A4_3, cv2.COLOR_BGR2RGB)"
      ],
      "execution_count": 552,
      "outputs": []
    },
    {
      "cell_type": "code",
      "metadata": {
        "id": "eqyRvv91BbYj"
      },
      "source": [
        "imgS1_A1B1_3  = cv2.imread(S1_doubleA1B1_3)\n",
        "S1RGB_imgA1B1_3= cv2.cvtColor(imgS1_A1B1_3, cv2.COLOR_BGR2RGB)"
      ],
      "execution_count": 553,
      "outputs": []
    },
    {
      "cell_type": "code",
      "metadata": {
        "id": "FPBJS2RvBbYj"
      },
      "source": [
        "imgS1_A1B2_3 = cv2.imread(S1_doubleA1B2_3)\n",
        "S1RGB_imgA1B2_3= cv2.cvtColor(imgS1_A1B2_3, cv2.COLOR_BGR2RGB)"
      ],
      "execution_count": 554,
      "outputs": []
    },
    {
      "cell_type": "code",
      "metadata": {
        "id": "S_FCPFhpBbYk"
      },
      "source": [
        "imgS1_A1B3_3  = cv2.imread(S1_doubleA1B3_3)\n",
        "S1RGB_imgA1B3_3= cv2.cvtColor(imgS1_A1B3_3, cv2.COLOR_BGR2RGB)"
      ],
      "execution_count": 555,
      "outputs": []
    },
    {
      "cell_type": "code",
      "metadata": {
        "id": "9llJohbEBbYk"
      },
      "source": [
        "imgS1_A1B4_3  = cv2.imread(S1_doubleA1B4_3)\n",
        "S1RGB_imgA1B4_3= cv2.cvtColor(imgS1_A1B4_3, cv2.COLOR_BGR2RGB)"
      ],
      "execution_count": 556,
      "outputs": []
    },
    {
      "cell_type": "code",
      "metadata": {
        "id": "qwYNqoAyBbYk"
      },
      "source": [
        "imgS1_A1C1_3  = cv2.imread(S1_doubleA1C1_3)\n",
        "S1RGB_imgA1C1_3= cv2.cvtColor(imgS1_A1C1_3, cv2.COLOR_BGR2RGB)"
      ],
      "execution_count": 557,
      "outputs": []
    },
    {
      "cell_type": "code",
      "metadata": {
        "id": "snEaWInQBbYk"
      },
      "source": [
        "imgS1_A1C2_3  = cv2.imread(S1_doubleA1C2_3)\n",
        "S1RGB_imgA1C2_3= cv2.cvtColor(imgS1_A1C2_3, cv2.COLOR_BGR2RGB)"
      ],
      "execution_count": 558,
      "outputs": []
    },
    {
      "cell_type": "code",
      "metadata": {
        "id": "X9620UvLBbYl"
      },
      "source": [
        "imgS1_A1C3_3  = cv2.imread(S1_doubleA1C3_3)\n",
        "S1RGB_imgA1C3_3= cv2.cvtColor(imgS1_A1C3_3, cv2.COLOR_BGR2RGB)"
      ],
      "execution_count": 559,
      "outputs": []
    },
    {
      "cell_type": "code",
      "metadata": {
        "id": "tgIXRH3jBbYl"
      },
      "source": [
        "imgS1_A1C4_3 = cv2.imread(S1_doubleA1C4_3)\n",
        "S1RGB_imgA1C4_3= cv2.cvtColor(imgS1_A1C4_3, cv2.COLOR_BGR2RGB)"
      ],
      "execution_count": 560,
      "outputs": []
    },
    {
      "cell_type": "code",
      "metadata": {
        "id": "qG0YgksUBbYl"
      },
      "source": [
        "imgS1_A1D2_3  = cv2.imread(S1_doubleA1D2_3)\n",
        "S1RGB_imgA1D2_3= cv2.cvtColor(imgS1_A1D2_3, cv2.COLOR_BGR2RGB)"
      ],
      "execution_count": 561,
      "outputs": []
    },
    {
      "cell_type": "code",
      "metadata": {
        "id": "Kd-yEV9GBbYl"
      },
      "source": [
        "imgS1_A1D3_3 = cv2.imread(S1_doubleA1D3_3)\n",
        "S1RGB_imgA1D3_3= cv2.cvtColor(imgS1_A1D3_3, cv2.COLOR_BGR2RGB)"
      ],
      "execution_count": 562,
      "outputs": []
    },
    {
      "cell_type": "code",
      "metadata": {
        "id": "TaMZz1b3BbYl"
      },
      "source": [
        "imgS1_A1D4_3  = cv2.imread(S1_doubleA1D4_3)\n",
        "S1RGB_imgA1D4_3= cv2.cvtColor(imgS1_A1D4_3, cv2.COLOR_BGR2RGB)"
      ],
      "execution_count": 563,
      "outputs": []
    },
    {
      "cell_type": "markdown",
      "metadata": {
        "id": "8HAr-rxC4_k1"
      },
      "source": [
        "###Img 4"
      ]
    },
    {
      "cell_type": "code",
      "metadata": {
        "id": "g4jKPr0uBcvq"
      },
      "source": [
        "imgS1_A1A1_4 = cv2.imread(S1_doubleA1A1_4)\n",
        "S1RGB_imgA1A1_4= cv2.cvtColor(imgS1_A1A1_4, cv2.COLOR_BGR2RGB)"
      ],
      "execution_count": 564,
      "outputs": []
    },
    {
      "cell_type": "code",
      "metadata": {
        "id": "J1VpRs4BBcvq"
      },
      "source": [
        "imgS1_A1A2_4  = cv2.imread(S1_doubleA1A2_4)\n",
        "S1RGB_imgA1A2_4= cv2.cvtColor(imgS1_A1A2_4, cv2.COLOR_BGR2RGB)"
      ],
      "execution_count": 565,
      "outputs": []
    },
    {
      "cell_type": "code",
      "metadata": {
        "id": "UC_NJfhFBcvr"
      },
      "source": [
        "imgS1_A1A3_4= cv2.imread(S1_doubleA1A3_4)\n",
        "S1RGB_imgA1A3_4= cv2.cvtColor(imgS1_A1A3_4, cv2.COLOR_BGR2RGB)"
      ],
      "execution_count": 566,
      "outputs": []
    },
    {
      "cell_type": "code",
      "metadata": {
        "id": "uj3YrwWNBcvr"
      },
      "source": [
        "imgS1_A1A3_54  = cv2.imread(S1_doubleA1A3_54)\n",
        "S1RGB_imgA1A3_54= cv2.cvtColor(imgS1_A1A3_54, cv2.COLOR_BGR2RGB)"
      ],
      "execution_count": 567,
      "outputs": []
    },
    {
      "cell_type": "code",
      "metadata": {
        "id": "0d76TQUvBcvr"
      },
      "source": [
        "imgS1_A1A4_4  = cv2.imread(S1_doubleA1A4_4)\n",
        "S1RGB_imgA1A4_4= cv2.cvtColor(imgS1_A1A4_4, cv2.COLOR_BGR2RGB)"
      ],
      "execution_count": 568,
      "outputs": []
    },
    {
      "cell_type": "code",
      "metadata": {
        "id": "Vw6AnPuqBcvr"
      },
      "source": [
        "imgS1_A1B1_4  = cv2.imread(S1_doubleA1B1_4)\n",
        "S1RGB_imgA1B1_4= cv2.cvtColor(imgS1_A1B1_4, cv2.COLOR_BGR2RGB)"
      ],
      "execution_count": 569,
      "outputs": []
    },
    {
      "cell_type": "code",
      "metadata": {
        "id": "WfZ31gymBcvs"
      },
      "source": [
        "imgS1_A1B2_4 = cv2.imread(S1_doubleA1B2_4)\n",
        "S1RGB_imgA1B2_4= cv2.cvtColor(imgS1_A1B2_4, cv2.COLOR_BGR2RGB)"
      ],
      "execution_count": 570,
      "outputs": []
    },
    {
      "cell_type": "code",
      "metadata": {
        "id": "Jy1q8GkdBcvs"
      },
      "source": [
        "imgS1_A1B3_4  = cv2.imread(S1_doubleA1B3_4)\n",
        "S1RGB_imgA1B3_4= cv2.cvtColor(imgS1_A1B3_4, cv2.COLOR_BGR2RGB)"
      ],
      "execution_count": 571,
      "outputs": []
    },
    {
      "cell_type": "code",
      "metadata": {
        "id": "mosWDaYTBcvs"
      },
      "source": [
        "imgS1_A1B4_4  = cv2.imread(S1_doubleA1B4_4)\n",
        "S1RGB_imgA1B4_4= cv2.cvtColor(imgS1_A1B4_4, cv2.COLOR_BGR2RGB)"
      ],
      "execution_count": 572,
      "outputs": []
    },
    {
      "cell_type": "code",
      "metadata": {
        "id": "Zn6GAg7YBcvs"
      },
      "source": [
        "imgS1_A1C1_4 = cv2.imread(S1_doubleA1C1_4)\n",
        "S1RGB_imgA1C1_4= cv2.cvtColor(imgS1_A1C1_4, cv2.COLOR_BGR2RGB)"
      ],
      "execution_count": 573,
      "outputs": []
    },
    {
      "cell_type": "code",
      "metadata": {
        "id": "hA89zQxlBcvs"
      },
      "source": [
        "imgS1_A1C2_4  = cv2.imread(S1_doubleA1C2_4)\n",
        "S1RGB_imgA1C2_4= cv2.cvtColor(imgS1_A1C2_4, cv2.COLOR_BGR2RGB)"
      ],
      "execution_count": 574,
      "outputs": []
    },
    {
      "cell_type": "code",
      "metadata": {
        "id": "BVXfA3-rBcvt"
      },
      "source": [
        "imgS1_A1C3_4 = cv2.imread(S1_doubleA1C3_4)\n",
        "S1RGB_imgA1C3_4= cv2.cvtColor(imgS1_A1C3_4, cv2.COLOR_BGR2RGB)"
      ],
      "execution_count": 575,
      "outputs": []
    },
    {
      "cell_type": "code",
      "metadata": {
        "id": "9g4GjJUYBcvt"
      },
      "source": [
        "imgS1_A1C4_4  = cv2.imread(S1_doubleA1C4_4)\n",
        "S1RGB_imgA1C4_4= cv2.cvtColor(imgS1_A1C4_4, cv2.COLOR_BGR2RGB)"
      ],
      "execution_count": 576,
      "outputs": []
    },
    {
      "cell_type": "code",
      "metadata": {
        "id": "uKQr6NqZBcvt"
      },
      "source": [
        "imgS1_A1D2_4  = cv2.imread(S1_doubleA1D2_4)\n",
        "S1RGB_imgA1D2_4= cv2.cvtColor(imgS1_A1D2_4, cv2.COLOR_BGR2RGB)"
      ],
      "execution_count": 577,
      "outputs": []
    },
    {
      "cell_type": "code",
      "metadata": {
        "id": "kLuX8ZnhBcvt"
      },
      "source": [
        "imgS1_A1D3_4  = cv2.imread(S1_doubleA1D3_4)\n",
        "S1RGB_imgA1D3_4= cv2.cvtColor(imgS1_A1D3_4, cv2.COLOR_BGR2RGB)"
      ],
      "execution_count": 578,
      "outputs": []
    },
    {
      "cell_type": "code",
      "metadata": {
        "id": "4Wv16eSBBcvt"
      },
      "source": [
        "imgS1_A1D4_4 = cv2.imread(S1_doubleA1D4_4)\n",
        "S1RGB_imgA1D4_4= cv2.cvtColor(imgS1_A1D4_4, cv2.COLOR_BGR2RGB)"
      ],
      "execution_count": 579,
      "outputs": []
    },
    {
      "cell_type": "markdown",
      "metadata": {
        "id": "X3iT_Wiz5DpR"
      },
      "source": [
        "###Img 5"
      ]
    },
    {
      "cell_type": "code",
      "metadata": {
        "id": "CjMVLKCxBeRS"
      },
      "source": [
        "imgS1_A1A1_5 = cv2.imread(S1_doubleA1A1_5)\n",
        "S1RGB_imgA1A1_5= cv2.cvtColor(imgS1_A1A1_5, cv2.COLOR_BGR2RGB)"
      ],
      "execution_count": 580,
      "outputs": []
    },
    {
      "cell_type": "code",
      "metadata": {
        "id": "zdchQeWkBeRS"
      },
      "source": [
        "imgS1_A1A2_5 = cv2.imread(S1_doubleA1A2_5)\n",
        "S1RGB_imgA1A2_5= cv2.cvtColor(imgS1_A1A2_5, cv2.COLOR_BGR2RGB)"
      ],
      "execution_count": 581,
      "outputs": []
    },
    {
      "cell_type": "code",
      "metadata": {
        "id": "EzpY1UnzBeRS"
      },
      "source": [
        "imgS1_A1A3_5= cv2.imread(S1_doubleA1A3_5)\n",
        "S1RGB_imgA1A3_5= cv2.cvtColor(imgS1_A1A3_5, cv2.COLOR_BGR2RGB)"
      ],
      "execution_count": 582,
      "outputs": []
    },
    {
      "cell_type": "code",
      "metadata": {
        "id": "D6TUam19BeRS"
      },
      "source": [
        "imgS1_A1A3_55  = cv2.imread(S1_doubleA1A3_55)\n",
        "S1RGB_imgA1A3_55= cv2.cvtColor(imgS1_A1A3_55, cv2.COLOR_BGR2RGB)"
      ],
      "execution_count": 583,
      "outputs": []
    },
    {
      "cell_type": "code",
      "metadata": {
        "id": "C0CUpNy5BeRT"
      },
      "source": [
        "imgS1_A1A4_5  = cv2.imread(S1_doubleA1A4_5)\n",
        "S1RGB_imgA1A4_5= cv2.cvtColor(imgS1_A1A4_5, cv2.COLOR_BGR2RGB)"
      ],
      "execution_count": 584,
      "outputs": []
    },
    {
      "cell_type": "code",
      "metadata": {
        "id": "UnX_C87OBeRT"
      },
      "source": [
        "imgS1_A1B1_5  = cv2.imread(S1_doubleA1B1_5)\n",
        "S1RGB_imgA1B1_5= cv2.cvtColor(imgS1_A1B1_5, cv2.COLOR_BGR2RGB)"
      ],
      "execution_count": 585,
      "outputs": []
    },
    {
      "cell_type": "code",
      "metadata": {
        "id": "NefKy34wBeRT"
      },
      "source": [
        "imgS1_A1B2_5  = cv2.imread(S1_doubleA1B2_5)\n",
        "S1RGB_imgA1B2_5= cv2.cvtColor(imgS1_A1B2_5, cv2.COLOR_BGR2RGB)"
      ],
      "execution_count": 586,
      "outputs": []
    },
    {
      "cell_type": "code",
      "metadata": {
        "id": "cgBKD1QjBeRT"
      },
      "source": [
        "imgS1_A1B3_5  = cv2.imread(S1_doubleA1B3_5)\n",
        "S1RGB_imgA1B3_5= cv2.cvtColor(imgS1_A1B3_5, cv2.COLOR_BGR2RGB)"
      ],
      "execution_count": 587,
      "outputs": []
    },
    {
      "cell_type": "code",
      "metadata": {
        "id": "LZy0yHz_BeRT"
      },
      "source": [
        "imgS1_A1B4_5  = cv2.imread(S1_doubleA1B4_5)\n",
        "S1RGB_imgA1B4_5= cv2.cvtColor(imgS1_A1B4_5, cv2.COLOR_BGR2RGB)"
      ],
      "execution_count": 588,
      "outputs": []
    },
    {
      "cell_type": "code",
      "metadata": {
        "id": "AitdnaXmBeRT"
      },
      "source": [
        "imgS1_A1C1_5 = cv2.imread(S1_doubleA1C1_5)\n",
        "S1RGB_imgA1C1_5= cv2.cvtColor(imgS1_A1C1_5, cv2.COLOR_BGR2RGB)"
      ],
      "execution_count": 589,
      "outputs": []
    },
    {
      "cell_type": "code",
      "metadata": {
        "id": "0T9gIsmGBeRT"
      },
      "source": [
        "imgS1_A1C2_5  = cv2.imread(S1_doubleA1C2_5)\n",
        "S1RGB_imgA1C2_5= cv2.cvtColor(imgS1_A1C2_5, cv2.COLOR_BGR2RGB)"
      ],
      "execution_count": 590,
      "outputs": []
    },
    {
      "cell_type": "code",
      "metadata": {
        "id": "R_boTzJGBeRU"
      },
      "source": [
        "imgS1_A1C3_5  = cv2.imread(S1_doubleA1C3_5)\n",
        "S1RGB_imgA1C3_5= cv2.cvtColor(imgS1_A1C3_5, cv2.COLOR_BGR2RGB)"
      ],
      "execution_count": 591,
      "outputs": []
    },
    {
      "cell_type": "code",
      "metadata": {
        "id": "77BGXH-zBeRU"
      },
      "source": [
        "imgS1_A1C4_5= cv2.imread(S1_doubleA1C4_5)\n",
        "S1RGB_imgA1C4_5= cv2.cvtColor(imgS1_A1C4_5, cv2.COLOR_BGR2RGB)"
      ],
      "execution_count": 592,
      "outputs": []
    },
    {
      "cell_type": "code",
      "metadata": {
        "id": "YOgaE0JMBeRU"
      },
      "source": [
        "imgS1_A1D2_5 = cv2.imread(S1_doubleA1D2_5)\n",
        "S1RGB_imgA1D2_5= cv2.cvtColor(imgS1_A1D2_5, cv2.COLOR_BGR2RGB)"
      ],
      "execution_count": 593,
      "outputs": []
    },
    {
      "cell_type": "code",
      "metadata": {
        "id": "2v6CAl8cBeRU"
      },
      "source": [
        "imgS1_A1D3_5  = cv2.imread(S1_doubleA1D3_5)\n",
        "S1RGB_imgA1D3_5= cv2.cvtColor(imgS1_A1D3_5, cv2.COLOR_BGR2RGB)"
      ],
      "execution_count": 594,
      "outputs": []
    },
    {
      "cell_type": "code",
      "metadata": {
        "id": "hk4wNYyhBeRU"
      },
      "source": [
        "imgS1_A1D4_5  = cv2.imread(S1_doubleA1D4_5)\n",
        "S1RGB_imgA1D4_5= cv2.cvtColor(imgS1_A1D4_5, cv2.COLOR_BGR2RGB)"
      ],
      "execution_count": 595,
      "outputs": []
    },
    {
      "cell_type": "markdown",
      "metadata": {
        "id": "4XyCaNz1YAzf"
      },
      "source": [
        "#4. ฺBGR TO HSV"
      ]
    },
    {
      "cell_type": "markdown",
      "metadata": {
        "id": "1H0qQCcKOTUC"
      },
      "source": [
        "##Set1"
      ]
    },
    {
      "cell_type": "code",
      "metadata": {
        "id": "V7LoW4sLYP0V",
        "colab": {
          "base_uri": "https://localhost:8080/",
          "height": 0
        },
        "outputId": "824ccb0f-7df1-4df3-ab5c-fdcd763b8838"
      },
      "source": [
        "S1_A1A1_1img  = cv2.imread(S1_doubleA1A1_1)\n",
        "S1HSV_imgA1A1_1= cv2.cvtColor(S1_A1A1_1img, cv2.COLOR_BGR2HSV)\n",
        "plt.imshow(S1HSV_imgA1A1_1)"
      ],
      "execution_count": 596,
      "outputs": [
        {
          "output_type": "execute_result",
          "data": {
            "text/plain": [
              "<matplotlib.image.AxesImage at 0x7f215d5d8a10>"
            ]
          },
          "metadata": {},
          "execution_count": 596
        },
        {
          "output_type": "display_data",
          "data": {
            "image/png": "[encoded data removed]",
            "text/plain": [
              "<Figure size 432x288 with 1 Axes>"
            ]
          },
          "metadata": {
            "needs_background": "light"
          }
        }
      ]
    },
    {
      "cell_type": "code",
      "metadata": {
        "id": "se8UQIFwnL8I"
      },
      "source": [
        "S1_A1A2_1img  = cv2.imread(S1_doubleA1A2_1)\n",
        "S1HSV_imgA1A2_1= cv2.cvtColor(S1_A1A2_1img, cv2.COLOR_BGR2HSV)"
      ],
      "execution_count": 597,
      "outputs": []
    },
    {
      "cell_type": "code",
      "metadata": {
        "id": "NlS3nnjpnMIQ"
      },
      "source": [
        "S1_A1A3_1img  = cv2.imread(S1_doubleA1A3_1)\n",
        "S1HSV_imgA1A3_1= cv2.cvtColor(S1_A1A3_1img, cv2.COLOR_BGR2HSV)"
      ],
      "execution_count": 598,
      "outputs": []
    },
    {
      "cell_type": "code",
      "metadata": {
        "id": "gaiV37Atm-qM"
      },
      "source": [
        "S1_A1A3_51img  = cv2.imread(S1_doubleA1A3_51)\n",
        "S1HSV_imgA1A3_51= cv2.cvtColor(S1_A1A3_51img, cv2.COLOR_BGR2HSV)"
      ],
      "execution_count": 599,
      "outputs": []
    },
    {
      "cell_type": "code",
      "metadata": {
        "id": "b3l1xgJWm-r6"
      },
      "source": [
        "S1_A1A4_1img  = cv2.imread(S1_doubleA1A4_1)\n",
        "S1HSV_imgA1A4_1= cv2.cvtColor(S1_A1A4_1img, cv2.COLOR_BGR2HSV)"
      ],
      "execution_count": 600,
      "outputs": []
    },
    {
      "cell_type": "code",
      "metadata": {
        "id": "w26dE2E2m-ui"
      },
      "source": [
        "S1_A1B1_1img  = cv2.imread(S1_doubleA1B1_1)\n",
        "S1HSV_imgA1B1_1= cv2.cvtColor(S1_A1B1_1img, cv2.COLOR_BGR2HSV)"
      ],
      "execution_count": 601,
      "outputs": []
    },
    {
      "cell_type": "code",
      "metadata": {
        "id": "qq4hEemVm-wd"
      },
      "source": [
        "S1_A1B2_1img  = cv2.imread(S1_doubleA1B2_1)\n",
        "S1HSV_imgA1B2_1= cv2.cvtColor(S1_A1B2_1img, cv2.COLOR_BGR2HSV)"
      ],
      "execution_count": 602,
      "outputs": []
    },
    {
      "cell_type": "code",
      "metadata": {
        "id": "9TyEGSZmp7wg"
      },
      "source": [
        "S1_A1B3_1img  = cv2.imread(S1_doubleA1B3_1)\n",
        "S1HSV_imgA1B3_1= cv2.cvtColor(S1_A1B3_1img, cv2.COLOR_BGR2HSV)"
      ],
      "execution_count": 603,
      "outputs": []
    },
    {
      "cell_type": "code",
      "metadata": {
        "id": "8fg70FdZm-0y"
      },
      "source": [
        "S1_A1B4_1img  = cv2.imread(S1_doubleA1B4_1)\n",
        "S1HSV_imgA1B4_1= cv2.cvtColor(S1_A1B4_1img, cv2.COLOR_BGR2HSV)"
      ],
      "execution_count": 604,
      "outputs": []
    },
    {
      "cell_type": "code",
      "metadata": {
        "id": "86KJ5WjYqLAs"
      },
      "source": [
        "S1_A1C1_1img  = cv2.imread(S1_doubleA1C1_1)\n",
        "S1HSV_imgA1C1_1= cv2.cvtColor(S1_A1C1_1img, cv2.COLOR_BGR2HSV)"
      ],
      "execution_count": 605,
      "outputs": []
    },
    {
      "cell_type": "code",
      "metadata": {
        "id": "4o2oKmb-qLDu"
      },
      "source": [
        "S1_A1C2_1img  = cv2.imread(S1_doubleA1C2_1)\n",
        "S1HSV_imgA1C2_1= cv2.cvtColor(S1_A1C2_1img, cv2.COLOR_BGR2HSV)"
      ],
      "execution_count": 606,
      "outputs": []
    },
    {
      "cell_type": "code",
      "metadata": {
        "id": "0pGWlEU1qLHp"
      },
      "source": [
        "S1_A1C3_1img  = cv2.imread(S1_doubleA1C3_1)\n",
        "S1HSV_imgA1C3_1= cv2.cvtColor(S1_A1C3_1img, cv2.COLOR_BGR2HSV)"
      ],
      "execution_count": 607,
      "outputs": []
    },
    {
      "cell_type": "code",
      "metadata": {
        "id": "IZQIfJ4iqLKb"
      },
      "source": [
        "S1_A1C4_1img  = cv2.imread(S1_doubleA1C4_1)\n",
        "S1HSV_imgA1C4_1= cv2.cvtColor(S1_A1C4_1img, cv2.COLOR_BGR2HSV)"
      ],
      "execution_count": 608,
      "outputs": []
    },
    {
      "cell_type": "code",
      "metadata": {
        "id": "k_K9BBJpqLOi"
      },
      "source": [
        "S1_A1D2_1img  = cv2.imread(S1_doubleA1D2_1)\n",
        "S1HSV_imgA1D2_1= cv2.cvtColor(S1_A1D2_1img, cv2.COLOR_BGR2HSV)"
      ],
      "execution_count": 609,
      "outputs": []
    },
    {
      "cell_type": "code",
      "metadata": {
        "id": "v6YEm_v5quL_"
      },
      "source": [
        "S1_A1D3_1img  = cv2.imread(S1_doubleA1D3_1)\n",
        "S1HSV_imgA1D3_1= cv2.cvtColor(S1_A1D3_1img, cv2.COLOR_BGR2HSV)"
      ],
      "execution_count": 610,
      "outputs": []
    },
    {
      "cell_type": "code",
      "metadata": {
        "id": "SMvBLdQxm-3f"
      },
      "source": [
        "S1_A1D4_1img  = cv2.imread(S1_doubleA1D4_1)\n",
        "S1HSV_imgA1D4_1= cv2.cvtColor(S1_A1D4_1img, cv2.COLOR_BGR2HSV)"
      ],
      "execution_count": 611,
      "outputs": []
    },
    {
      "cell_type": "markdown",
      "metadata": {
        "id": "qObWjRD83Rd-"
      },
      "source": [
        "###Img 2"
      ]
    },
    {
      "cell_type": "code",
      "metadata": {
        "id": "OoihHNQe3ReA"
      },
      "source": [
        "S1_A1A1_2img  = cv2.imread(S1_doubleA1A1_2)\n",
        "S1HSV_imgA1A1_2= cv2.cvtColor(S1_A1A1_2img, cv2.COLOR_BGR2HSV)"
      ],
      "execution_count": 612,
      "outputs": []
    },
    {
      "cell_type": "code",
      "metadata": {
        "id": "F1TsjfTZ3ReC"
      },
      "source": [
        "S1_A1A2_2img  = cv2.imread(S1_doubleA1A2_2)\n",
        "S1HSV_imgA1A2_2= cv2.cvtColor(S1_A1A2_2img, cv2.COLOR_BGR2HSV)"
      ],
      "execution_count": 613,
      "outputs": []
    },
    {
      "cell_type": "code",
      "metadata": {
        "id": "ZYGZB2C73ReE"
      },
      "source": [
        "S1_A1A3_2img  = cv2.imread(S1_doubleA1A3_2)\n",
        "S1HSV_imgA1A3_2= cv2.cvtColor(S1_A1A3_2img, cv2.COLOR_BGR2HSV)"
      ],
      "execution_count": 614,
      "outputs": []
    },
    {
      "cell_type": "code",
      "metadata": {
        "id": "ec2o9E_D3ReF"
      },
      "source": [
        "S1_A1A3_52img  = cv2.imread(S1_doubleA1A3_52)\n",
        "S1HSV_imgA1A3_52= cv2.cvtColor(S1_A1A3_52img, cv2.COLOR_BGR2HSV)"
      ],
      "execution_count": 615,
      "outputs": []
    },
    {
      "cell_type": "code",
      "metadata": {
        "id": "5B0KlpML3ReG"
      },
      "source": [
        "S1_A1A4_2img  = cv2.imread(S1_doubleA1A4_2)\n",
        "S1HSV_imgA1A4_2= cv2.cvtColor(S1_A1A4_2img, cv2.COLOR_BGR2HSV)"
      ],
      "execution_count": 616,
      "outputs": []
    },
    {
      "cell_type": "code",
      "metadata": {
        "id": "VxlQM87C3ReI"
      },
      "source": [
        "S1_A1B1_2img  = cv2.imread(S1_doubleA1B1_2)\n",
        "S1HSV_imgA1B1_2= cv2.cvtColor(S1_A1B1_2img, cv2.COLOR_BGR2HSV)"
      ],
      "execution_count": 617,
      "outputs": []
    },
    {
      "cell_type": "code",
      "metadata": {
        "id": "zDvA_m3D3ReJ"
      },
      "source": [
        "S1_A1B2_2img  = cv2.imread(S1_doubleA1B2_2)\n",
        "S1HSV_imgA1B2_2= cv2.cvtColor(S1_A1B2_2img, cv2.COLOR_BGR2HSV)"
      ],
      "execution_count": 618,
      "outputs": []
    },
    {
      "cell_type": "code",
      "metadata": {
        "id": "HunSHsYL3ReJ"
      },
      "source": [
        "S1_A1B3_2img  = cv2.imread(S1_doubleA1B3_2)\n",
        "S1HSV_imgA1B3_2= cv2.cvtColor(S1_A1B3_2img, cv2.COLOR_BGR2HSV)"
      ],
      "execution_count": 619,
      "outputs": []
    },
    {
      "cell_type": "code",
      "metadata": {
        "id": "sQ10cu6F3ReK"
      },
      "source": [
        "S1_A1B4_2img  = cv2.imread(S1_doubleA1B4_2)\n",
        "S1HSV_imgA1B4_2= cv2.cvtColor(S1_A1B4_2img, cv2.COLOR_BGR2HSV)"
      ],
      "execution_count": 620,
      "outputs": []
    },
    {
      "cell_type": "code",
      "metadata": {
        "id": "0L_Ye0L53ReK"
      },
      "source": [
        "S1_A1C1_2img  = cv2.imread(S1_doubleA1C1_2)\n",
        "S1HSV_imgA1C1_2= cv2.cvtColor(S1_A1C1_2img, cv2.COLOR_BGR2HSV)"
      ],
      "execution_count": 621,
      "outputs": []
    },
    {
      "cell_type": "code",
      "metadata": {
        "id": "lkkb5qPC3ReL"
      },
      "source": [
        "S1_A1C2_2img  = cv2.imread(S1_doubleA1C2_2)\n",
        "S1HSV_imgA1C2_2= cv2.cvtColor(S1_A1C2_2img, cv2.COLOR_BGR2HSV)"
      ],
      "execution_count": 622,
      "outputs": []
    },
    {
      "cell_type": "code",
      "metadata": {
        "id": "5njJuwFU3ReL"
      },
      "source": [
        "S1_A1C3_2img  = cv2.imread(S1_doubleA1C3_2)\n",
        "S1HSV_imgA1C3_2= cv2.cvtColor(S1_A1C3_2img, cv2.COLOR_BGR2HSV)"
      ],
      "execution_count": 623,
      "outputs": []
    },
    {
      "cell_type": "code",
      "metadata": {
        "id": "MK4Q2h7r3ReM"
      },
      "source": [
        "S1_A1C4_2img  = cv2.imread(S1_doubleA1C4_2)\n",
        "S1HSV_imgA1C4_2= cv2.cvtColor(S1_A1C4_2img, cv2.COLOR_BGR2HSV)"
      ],
      "execution_count": 624,
      "outputs": []
    },
    {
      "cell_type": "code",
      "metadata": {
        "id": "NU2-pD7A3ReN"
      },
      "source": [
        "S1_A1D2_2img  = cv2.imread(S1_doubleA1D2_2)\n",
        "S1HSV_imgA1D2_2= cv2.cvtColor(S1_A1D2_2img, cv2.COLOR_BGR2HSV)"
      ],
      "execution_count": 625,
      "outputs": []
    },
    {
      "cell_type": "code",
      "metadata": {
        "id": "3oqaBClV3ReO"
      },
      "source": [
        "S1_A1D3_2img  = cv2.imread(S1_doubleA1D3_2)\n",
        "S1HSV_imgA1D3_2= cv2.cvtColor(S1_A1D3_2img, cv2.COLOR_BGR2HSV)"
      ],
      "execution_count": 626,
      "outputs": []
    },
    {
      "cell_type": "code",
      "metadata": {
        "id": "BMzs70573ReO"
      },
      "source": [
        "S1_A1D4_2img  = cv2.imread(S1_doubleA1D4_2)\n",
        "S1HSV_imgA1D4_2= cv2.cvtColor(S1_A1D4_2img, cv2.COLOR_BGR2HSV)"
      ],
      "execution_count": 627,
      "outputs": []
    },
    {
      "cell_type": "markdown",
      "metadata": {
        "id": "bFUmz21i_tVm"
      },
      "source": [
        "###Img 3"
      ]
    },
    {
      "cell_type": "code",
      "metadata": {
        "id": "oGky0MDF_tVm"
      },
      "source": [
        "S1_A1A1_3img  = cv2.imread(S1_doubleA1A1_3)\n",
        "S1HSV_imgA1A1_3= cv2.cvtColor(S1_A1A1_3img, cv2.COLOR_BGR2HSV)"
      ],
      "execution_count": 628,
      "outputs": []
    },
    {
      "cell_type": "code",
      "metadata": {
        "id": "kVW8ETpP_tVn"
      },
      "source": [
        "S1_A1A2_3img  = cv2.imread(S1_doubleA1A2_3)\n",
        "S1HSV_imgA1A2_3= cv2.cvtColor(S1_A1A2_3img, cv2.COLOR_BGR2HSV)"
      ],
      "execution_count": 629,
      "outputs": []
    },
    {
      "cell_type": "code",
      "metadata": {
        "id": "_GpoJFcy_tVn"
      },
      "source": [
        "S1_A1A3_3img  = cv2.imread(S1_doubleA1A3_3)\n",
        "S1HSV_imgA1A3_3= cv2.cvtColor(S1_A1A3_3img, cv2.COLOR_BGR2HSV)"
      ],
      "execution_count": 630,
      "outputs": []
    },
    {
      "cell_type": "code",
      "metadata": {
        "id": "e75LT_fq_tVo"
      },
      "source": [
        "S1_A1A3_53img  = cv2.imread(S1_doubleA1A3_53)\n",
        "S1HSV_imgA1A3_53= cv2.cvtColor(S1_A1A3_53img, cv2.COLOR_BGR2HSV)"
      ],
      "execution_count": 631,
      "outputs": []
    },
    {
      "cell_type": "code",
      "metadata": {
        "id": "e0dWinlE_tVp"
      },
      "source": [
        "S1_A1A4_3img  = cv2.imread(S1_doubleA1A4_3)\n",
        "S1HSV_imgA1A4_3= cv2.cvtColor(S1_A1A4_3img, cv2.COLOR_BGR2HSV)"
      ],
      "execution_count": 632,
      "outputs": []
    },
    {
      "cell_type": "code",
      "metadata": {
        "id": "1qUpWuoD_tVq"
      },
      "source": [
        "S1_A1B1_3img  = cv2.imread(S1_doubleA1B1_3)\n",
        "S1HSV_imgA1B1_3= cv2.cvtColor(S1_A1B1_3img, cv2.COLOR_BGR2HSV)"
      ],
      "execution_count": 633,
      "outputs": []
    },
    {
      "cell_type": "code",
      "metadata": {
        "id": "meA5JBPl_tVq"
      },
      "source": [
        "S1_A1B2_3img  = cv2.imread(S1_doubleA1B2_3)\n",
        "S1HSV_imgA1B2_3= cv2.cvtColor(S1_A1B2_3img, cv2.COLOR_BGR2HSV)"
      ],
      "execution_count": 634,
      "outputs": []
    },
    {
      "cell_type": "code",
      "metadata": {
        "id": "B_qHavHx_tVr"
      },
      "source": [
        "S1_A1B3_3img  = cv2.imread(S1_doubleA1B3_3)\n",
        "S1HSV_imgA1B3_3= cv2.cvtColor(S1_A1B3_3img, cv2.COLOR_BGR2HSV)"
      ],
      "execution_count": 635,
      "outputs": []
    },
    {
      "cell_type": "code",
      "metadata": {
        "id": "EnJTqOB5_tVr"
      },
      "source": [
        "S1_A1B4_3img  = cv2.imread(S1_doubleA1B4_3)\n",
        "S1HSV_imgA1B4_3= cv2.cvtColor(S1_A1B4_3img, cv2.COLOR_BGR2HSV)"
      ],
      "execution_count": 636,
      "outputs": []
    },
    {
      "cell_type": "code",
      "metadata": {
        "id": "EyglWL31_tVr"
      },
      "source": [
        "S1_A1C1_3img  = cv2.imread(S1_doubleA1C1_3)\n",
        "S1HSV_imgA1C1_3= cv2.cvtColor(S1_A1C1_3img, cv2.COLOR_BGR2HSV)"
      ],
      "execution_count": 637,
      "outputs": []
    },
    {
      "cell_type": "code",
      "metadata": {
        "id": "mkeSyWjy_tVs"
      },
      "source": [
        "S1_A1C2_3img  = cv2.imread(S1_doubleA1C2_3)\n",
        "S1HSV_imgA1C2_3= cv2.cvtColor(S1_A1C2_3img, cv2.COLOR_BGR2HSV)"
      ],
      "execution_count": 638,
      "outputs": []
    },
    {
      "cell_type": "code",
      "metadata": {
        "id": "H3Pcx5LX_tVs"
      },
      "source": [
        "S1_A1C3_3img  = cv2.imread(S1_doubleA1C3_3)\n",
        "S1HSV_imgA1C3_3= cv2.cvtColor(S1_A1C3_3img, cv2.COLOR_BGR2HSV)"
      ],
      "execution_count": 639,
      "outputs": []
    },
    {
      "cell_type": "code",
      "metadata": {
        "id": "ArQb5moQ_tVs"
      },
      "source": [
        "S1_A1C4_3img  = cv2.imread(S1_doubleA1C4_3)\n",
        "S1HSV_imgA1C4_3= cv2.cvtColor(S1_A1C4_3img, cv2.COLOR_BGR2HSV)"
      ],
      "execution_count": 640,
      "outputs": []
    },
    {
      "cell_type": "code",
      "metadata": {
        "id": "_TMKeA90_tVt"
      },
      "source": [
        "S1_A1D2_3img  = cv2.imread(S1_doubleA1D2_3)\n",
        "S1HSV_imgA1D2_3= cv2.cvtColor(S1_A1D2_3img, cv2.COLOR_BGR2HSV)"
      ],
      "execution_count": 641,
      "outputs": []
    },
    {
      "cell_type": "code",
      "metadata": {
        "id": "_BwtlVjY_tVt"
      },
      "source": [
        "S1_A1D3_3img  = cv2.imread(S1_doubleA1D3_3)\n",
        "S1HSV_imgA1D3_3= cv2.cvtColor(S1_A1D3_3img, cv2.COLOR_BGR2HSV)"
      ],
      "execution_count": 642,
      "outputs": []
    },
    {
      "cell_type": "code",
      "metadata": {
        "id": "edUZFY5S_tVt"
      },
      "source": [
        "S1_A1D4_3img  = cv2.imread(S1_doubleA1D4_3)\n",
        "S1HSV_imgA1D4_3= cv2.cvtColor(S1_A1D4_3img, cv2.COLOR_BGR2HSV)"
      ],
      "execution_count": 643,
      "outputs": []
    },
    {
      "cell_type": "markdown",
      "metadata": {
        "id": "bCeJwUQR_zU1"
      },
      "source": [
        "###Img 4"
      ]
    },
    {
      "cell_type": "code",
      "metadata": {
        "id": "0mzTwWTX_zU2"
      },
      "source": [
        "S1_A1A1_4img  = cv2.imread(S1_doubleA1A1_4)\n",
        "S1HSV_imgA1A1_4= cv2.cvtColor(S1_A1A1_4img, cv2.COLOR_BGR2HSV)"
      ],
      "execution_count": 644,
      "outputs": []
    },
    {
      "cell_type": "code",
      "metadata": {
        "id": "6blZkJm8_zU2"
      },
      "source": [
        "S1_A1A2_4img  = cv2.imread(S1_doubleA1A2_4)\n",
        "S1HSV_imgA1A2_4= cv2.cvtColor(S1_A1A2_4img, cv2.COLOR_BGR2HSV)"
      ],
      "execution_count": 645,
      "outputs": []
    },
    {
      "cell_type": "code",
      "metadata": {
        "id": "zPHIaWr2_zU3"
      },
      "source": [
        "S1_A1A3_4img  = cv2.imread(S1_doubleA1A3_4)\n",
        "S1HSV_imgA1A3_4= cv2.cvtColor(S1_A1A3_4img, cv2.COLOR_BGR2HSV)"
      ],
      "execution_count": 646,
      "outputs": []
    },
    {
      "cell_type": "code",
      "metadata": {
        "id": "CAwV3DKZ_zU3"
      },
      "source": [
        "S1_A1A3_54img  = cv2.imread(S1_doubleA1A3_54)\n",
        "S1HSV_imgA1A3_54= cv2.cvtColor(S1_A1A3_54img, cv2.COLOR_BGR2HSV)"
      ],
      "execution_count": 647,
      "outputs": []
    },
    {
      "cell_type": "code",
      "metadata": {
        "id": "WCxIMq5D_zU3"
      },
      "source": [
        "S1_A1A4_4img  = cv2.imread(S1_doubleA1A4_4)\n",
        "S1HSV_imgA1A4_4= cv2.cvtColor(S1_A1A4_4img, cv2.COLOR_BGR2HSV)"
      ],
      "execution_count": 648,
      "outputs": []
    },
    {
      "cell_type": "code",
      "metadata": {
        "id": "cb0Mhi6D_zU4"
      },
      "source": [
        "S1_A1B1_4img  = cv2.imread(S1_doubleA1B1_4)\n",
        "S1HSV_imgA1B1_4= cv2.cvtColor(S1_A1B1_4img, cv2.COLOR_BGR2HSV)"
      ],
      "execution_count": 649,
      "outputs": []
    },
    {
      "cell_type": "code",
      "metadata": {
        "id": "UYkb3N_J_zU4"
      },
      "source": [
        "S1_A1B2_4img  = cv2.imread(S1_doubleA1B2_4)\n",
        "S1HSV_imgA1B2_4= cv2.cvtColor(S1_A1B2_4img, cv2.COLOR_BGR2HSV)"
      ],
      "execution_count": 650,
      "outputs": []
    },
    {
      "cell_type": "code",
      "metadata": {
        "id": "PWF1Qswt_zU4"
      },
      "source": [
        "S1_A1B3_4img  = cv2.imread(S1_doubleA1B3_4)\n",
        "S1HSV_imgA1B3_4= cv2.cvtColor(S1_A1B3_4img, cv2.COLOR_BGR2HSV)"
      ],
      "execution_count": 651,
      "outputs": []
    },
    {
      "cell_type": "code",
      "metadata": {
        "id": "4ZQEpdt1_zU5"
      },
      "source": [
        "S1_A1B4_4img  = cv2.imread(S1_doubleA1B4_4)\n",
        "S1HSV_imgA1B4_4= cv2.cvtColor(S1_A1B4_4img, cv2.COLOR_BGR2HSV)"
      ],
      "execution_count": 652,
      "outputs": []
    },
    {
      "cell_type": "code",
      "metadata": {
        "id": "85st5FU-_zU5"
      },
      "source": [
        "S1_A1C1_4img  = cv2.imread(S1_doubleA1C1_4)\n",
        "S1HSV_imgA1C1_4= cv2.cvtColor(S1_A1C1_4img, cv2.COLOR_BGR2HSV)"
      ],
      "execution_count": 653,
      "outputs": []
    },
    {
      "cell_type": "code",
      "metadata": {
        "id": "U8fukE7G_zU5"
      },
      "source": [
        "S1_A1C2_4img  = cv2.imread(S1_doubleA1C2_4)\n",
        "S1HSV_imgA1C2_4= cv2.cvtColor(S1_A1C2_4img, cv2.COLOR_BGR2HSV)"
      ],
      "execution_count": 654,
      "outputs": []
    },
    {
      "cell_type": "code",
      "metadata": {
        "id": "fx2kDBf2_zU6"
      },
      "source": [
        "S1_A1C3_4img  = cv2.imread(S1_doubleA1C3_4)\n",
        "S1HSV_imgA1C3_4= cv2.cvtColor(S1_A1C3_4img, cv2.COLOR_BGR2HSV)"
      ],
      "execution_count": 655,
      "outputs": []
    },
    {
      "cell_type": "code",
      "metadata": {
        "id": "WjtAiEiC_zU6"
      },
      "source": [
        "S1_A1C4_4img  = cv2.imread(S1_doubleA1C4_4)\n",
        "S1HSV_imgA1C4_4= cv2.cvtColor(S1_A1C4_4img, cv2.COLOR_BGR2HSV)"
      ],
      "execution_count": 656,
      "outputs": []
    },
    {
      "cell_type": "code",
      "metadata": {
        "id": "o-VgPVUg_zU6"
      },
      "source": [
        "S1_A1D2_4img  = cv2.imread(S1_doubleA1D2_4)\n",
        "S1HSV_imgA1D2_4= cv2.cvtColor(S1_A1D2_4img, cv2.COLOR_BGR2HSV)"
      ],
      "execution_count": 657,
      "outputs": []
    },
    {
      "cell_type": "code",
      "metadata": {
        "id": "4-7w5-tx_zU6"
      },
      "source": [
        "S1_A1D3_4img  = cv2.imread(S1_doubleA1D3_4)\n",
        "S1HSV_imgA1D3_4= cv2.cvtColor(S1_A1D3_4img, cv2.COLOR_BGR2HSV)"
      ],
      "execution_count": 658,
      "outputs": []
    },
    {
      "cell_type": "code",
      "metadata": {
        "id": "aemCfVov_zU7"
      },
      "source": [
        "S1_A1D4_4img  = cv2.imread(S1_doubleA1D4_4)\n",
        "S1HSV_imgA1D4_4= cv2.cvtColor(S1_A1D4_4img, cv2.COLOR_BGR2HSV)"
      ],
      "execution_count": 659,
      "outputs": []
    },
    {
      "cell_type": "markdown",
      "metadata": {
        "id": "JRh83G00_5TI"
      },
      "source": [
        "###Img 5"
      ]
    },
    {
      "cell_type": "code",
      "metadata": {
        "id": "EI4kO2ML_5TI"
      },
      "source": [
        "S1_A1A1_5img  = cv2.imread(S1_doubleA1A1_5)\n",
        "S1HSV_imgA1A1_5= cv2.cvtColor(S1_A1A1_5img, cv2.COLOR_BGR2HSV)"
      ],
      "execution_count": 660,
      "outputs": []
    },
    {
      "cell_type": "code",
      "metadata": {
        "id": "9e_swaP-_5TJ"
      },
      "source": [
        "S1_A1A2_5img  = cv2.imread(S1_doubleA1A2_5)\n",
        "S1HSV_imgA1A2_5= cv2.cvtColor(S1_A1A2_5img, cv2.COLOR_BGR2HSV)"
      ],
      "execution_count": 661,
      "outputs": []
    },
    {
      "cell_type": "code",
      "metadata": {
        "id": "PBfkKmvU_5TJ"
      },
      "source": [
        "S1_A1A3_5img  = cv2.imread(S1_doubleA1A3_5)\n",
        "S1HSV_imgA1A3_5= cv2.cvtColor(S1_A1A3_5img, cv2.COLOR_BGR2HSV)"
      ],
      "execution_count": 662,
      "outputs": []
    },
    {
      "cell_type": "code",
      "metadata": {
        "id": "DfP5_2UW_5TK"
      },
      "source": [
        "S1_A1A3_55img  = cv2.imread(S1_doubleA1A3_55)\n",
        "S1HSV_imgA1A3_55= cv2.cvtColor(S1_A1A3_55img, cv2.COLOR_BGR2HSV)"
      ],
      "execution_count": 663,
      "outputs": []
    },
    {
      "cell_type": "code",
      "metadata": {
        "id": "SY2Hj0OS_5TK"
      },
      "source": [
        "S1_A1A4_5img  = cv2.imread(S1_doubleA1A4_5)\n",
        "S1HSV_imgA1A4_5= cv2.cvtColor(S1_A1A4_5img, cv2.COLOR_BGR2HSV)"
      ],
      "execution_count": 664,
      "outputs": []
    },
    {
      "cell_type": "code",
      "metadata": {
        "id": "bkfZsrP5_5TL"
      },
      "source": [
        "S1_A1B1_5img  = cv2.imread(S1_doubleA1B1_5)\n",
        "S1HSV_imgA1B1_5= cv2.cvtColor(S1_A1B1_5img, cv2.COLOR_BGR2HSV)"
      ],
      "execution_count": 665,
      "outputs": []
    },
    {
      "cell_type": "code",
      "metadata": {
        "id": "FoTDYBTz_5TM"
      },
      "source": [
        "S1_A1B2_5img  = cv2.imread(S1_doubleA1B2_5)\n",
        "S1HSV_imgA1B2_5= cv2.cvtColor(S1_A1B2_5img, cv2.COLOR_BGR2HSV)"
      ],
      "execution_count": 666,
      "outputs": []
    },
    {
      "cell_type": "code",
      "metadata": {
        "id": "QBOZ1myT_5TM"
      },
      "source": [
        "S1_A1B3_5img  = cv2.imread(S1_doubleA1B3_5)\n",
        "S1HSV_imgA1B3_5= cv2.cvtColor(S1_A1B3_5img, cv2.COLOR_BGR2HSV)"
      ],
      "execution_count": 667,
      "outputs": []
    },
    {
      "cell_type": "code",
      "metadata": {
        "id": "65Ik0ZPe_5TM"
      },
      "source": [
        "S1_A1B4_5img  = cv2.imread(S1_doubleA1B4_5)\n",
        "S1HSV_imgA1B4_5= cv2.cvtColor(S1_A1B4_5img, cv2.COLOR_BGR2HSV)"
      ],
      "execution_count": 668,
      "outputs": []
    },
    {
      "cell_type": "code",
      "metadata": {
        "id": "tmNDq9mH_5TN"
      },
      "source": [
        "S1_A1C1_5img  = cv2.imread(S1_doubleA1C1_5)\n",
        "S1HSV_imgA1C1_5= cv2.cvtColor(S1_A1C1_5img, cv2.COLOR_BGR2HSV)"
      ],
      "execution_count": 669,
      "outputs": []
    },
    {
      "cell_type": "code",
      "metadata": {
        "id": "eZvyCP7A_5TN"
      },
      "source": [
        "S1_A1C2_5img  = cv2.imread(S1_doubleA1C2_5)\n",
        "S1HSV_imgA1C2_5= cv2.cvtColor(S1_A1C2_5img, cv2.COLOR_BGR2HSV)"
      ],
      "execution_count": 670,
      "outputs": []
    },
    {
      "cell_type": "code",
      "metadata": {
        "id": "PgDtJXeJ_5TN"
      },
      "source": [
        "S1_A1C3_5img  = cv2.imread(S1_doubleA1C3_5)\n",
        "S1HSV_imgA1C3_5= cv2.cvtColor(S1_A1C3_5img, cv2.COLOR_BGR2HSV)"
      ],
      "execution_count": 671,
      "outputs": []
    },
    {
      "cell_type": "code",
      "metadata": {
        "id": "0dwc60so_5TO"
      },
      "source": [
        "S1_A1C4_5img  = cv2.imread(S1_doubleA1C4_5)\n",
        "S1HSV_imgA1C4_5= cv2.cvtColor(S1_A1C4_5img, cv2.COLOR_BGR2HSV)"
      ],
      "execution_count": 672,
      "outputs": []
    },
    {
      "cell_type": "code",
      "metadata": {
        "id": "9YWsk-xt_5TO"
      },
      "source": [
        "S1_A1D2_5img  = cv2.imread(S1_doubleA1D2_5)\n",
        "S1HSV_imgA1D2_5= cv2.cvtColor(S1_A1D2_5img, cv2.COLOR_BGR2HSV)"
      ],
      "execution_count": 673,
      "outputs": []
    },
    {
      "cell_type": "code",
      "metadata": {
        "id": "Qplcmya4_5TO"
      },
      "source": [
        "S1_A1D3_5img  = cv2.imread(S1_doubleA1D3_5)\n",
        "S1HSV_imgA1D3_5= cv2.cvtColor(S1_A1D3_5img, cv2.COLOR_BGR2HSV)"
      ],
      "execution_count": 674,
      "outputs": []
    },
    {
      "cell_type": "code",
      "metadata": {
        "id": "x6OKhhi6_5TO"
      },
      "source": [
        "S1_A1D4_5img  = cv2.imread(S1_doubleA1D4_5)\n",
        "S1HSV_imgA1D4_5= cv2.cvtColor(S1_A1D4_5img, cv2.COLOR_BGR2HSV)"
      ],
      "execution_count": 675,
      "outputs": []
    },
    {
      "cell_type": "markdown",
      "metadata": {
        "id": "7KPqBEcdIXnZ"
      },
      "source": [
        "#6. หาค่า Mean"
      ]
    },
    {
      "cell_type": "code",
      "metadata": {
        "id": "tePep_ujIfg2"
      },
      "source": [
        "import numpy as np"
      ],
      "execution_count": 676,
      "outputs": []
    },
    {
      "cell_type": "markdown",
      "metadata": {
        "id": "CkCYreCNIxic"
      },
      "source": [
        "##Set1"
      ]
    },
    {
      "cell_type": "markdown",
      "metadata": {
        "id": "98w4NYwsuHUG"
      },
      "source": [
        "###RGB"
      ]
    },
    {
      "cell_type": "code",
      "metadata": {
        "id": "VLEHrLHLItVX",
        "colab": {
          "base_uri": "https://localhost:8080/"
        },
        "outputId": "1fc777a7-5ece-45f2-c9a0-aa0d436604b2"
      },
      "source": [
        "S1meanrefA1_1 = list()\n",
        "S1meanA1_2 = list()\n",
        "for i in range(S1RGB_imgA1A1_1.shape[0]): \n",
        "     for j in range(S1RGB_imgA1A1_1.shape[1]): \n",
        "                if 1769<i<1881 and 2019<j<2131 :\n",
        "                  S1meanrefA1_1.append(S1RGB_imgA1A1_1[i][j])\n",
        "                if 1770<i<1880 and 2015<j<2145 :\n",
        "                  S1meanA1_2.append(S1RGB_imgA1A1_1[i][j])  \n",
        "                if 1774<i<1881 and 2024<j<2131 :\n",
        "                  S1meanrefA1_1.append(S1RGB_imgA1A1_1[i][j])\n",
        "                if 1775<i<1880 and 2020<j<2145 :\n",
        "                  S1meanA1_2.append(S1RGB_imgA1A1_1[i][j])  \n",
        "S1meanrefA1_1 = np.array(S1meanrefA1_1)\n",
        "S1meanA1_2 = np.array(S1meanA1_2)\n",
        "\n",
        "S1rgbrefA1_1 = list()\n",
        "S1rgbA1_2 = list()\n",
        "for i in range(3):\n",
        "    S1rgbrefA1_1.append(S1meanrefA1_1[:,i].mean())\n",
        "    S1rgbA1_2.append(S1meanA1_2[:,i].mean())\n",
        "S1rgbrefA1_1,S1rgbA1_2 "
      ],
      "execution_count": 677,
      "outputs": [
        {
          "output_type": "execute_result",
          "data": {
            "text/plain": [
              "([241.51284119370038, 217.17956446066987, 159.97919938871672],\n",
              " [241.85339614942316, 217.89520347219647, 161.51300218867084])"
            ]
          },
          "metadata": {},
          "execution_count": 677
        }
      ]
    },
    {
      "cell_type": "code",
      "metadata": {
        "id": "TPULWoc0JT9L"
      },
      "source": [
        "S1meanrefA1_3 = list()\n",
        "S1meanA2_1 = list()\n",
        "for i in range(S1RGB_imgA1A2_1.shape[0]): \n",
        "     for j in range(S1RGB_imgA1A2_1.shape[1]): \n",
        "                if 1769<i<1881 and 2019<j<2131 :\n",
        "                  S1meanrefA1_3.append(S1RGB_imgA1A2_1[i][j])\n",
        "                if 1770<i<1880 and 2015<j<2145 :\n",
        "                  S1meanA2_1.append(S1RGB_imgA1A2_1[i][j])  \n",
        "S1meanrefA1_3 = np.array(S1meanrefA1_3)\n",
        "S1meanA2_1 = np.array(S1meanA2_1)\n",
        "\n",
        "S1rgbrefA1_3 = list()\n",
        "S1rgbA2_1 = list()\n",
        "for i in range(3):\n",
        "    S1rgbrefA1_3.append(S1meanrefA1_3[:,i].mean())\n",
        "    S1rgbA2_1.append(S1meanA2_1[:,i].mean())"
      ],
      "execution_count": 678,
      "outputs": []
    },
    {
      "cell_type": "code",
      "metadata": {
        "id": "jYWdd4U6Kl7f"
      },
      "source": [
        "S1meanrefA1_4 = list()\n",
        "S1meanA3_1 = list()\n",
        "for i in range(S1RGB_imgA1A3_1.shape[0]): \n",
        "     for j in range(S1RGB_imgA1A3_1.shape[1]): \n",
        "                if 1769<i<1881 and 2019<j<2131 :\n",
        "                  S1meanrefA1_4.append(S1RGB_imgA1A3_1[i][j])\n",
        "                if 1770<i<1880 and 2015<j<2145 :\n",
        "                  S1meanA3_1.append(S1RGB_imgA1A3_1[i][j])  \n",
        "S1meanrefA1_4 = np.array(S1meanrefA1_4)\n",
        "S1meanA3_1 = np.array(S1meanA3_1)\n",
        "\n",
        "S1rgbrefA1_4 = list()\n",
        "S1rgbA3_1 = list()\n",
        "for i in range(3):\n",
        "    S1rgbrefA1_4.append(S1meanrefA1_4[:,i].mean())\n",
        "    S1rgbA3_1.append(S1meanA3_1[:,i].mean())"
      ],
      "execution_count": 679,
      "outputs": []
    },
    {
      "cell_type": "code",
      "metadata": {
        "id": "OU2xD0SEK14J"
      },
      "source": [
        "S1meanrefA1_5 = list()\n",
        "S1meanA3_51 = list()\n",
        "for i in range(S1RGB_imgA1A3_51.shape[0]): \n",
        "     for j in range(S1RGB_imgA1A3_51.shape[1]): \n",
        "                if 1769<i<1881 and 2019<j<2131 :\n",
        "                  S1meanrefA1_5.append(S1RGB_imgA1A3_51[i][j])\n",
        "                if 1770<i<1880 and 2015<j<2145 :\n",
        "                  S1meanA3_51.append(S1RGB_imgA1A3_51[i][j])  \n",
        "S1meanrefA1_5 = np.array(S1meanrefA1_5)\n",
        "S1meanA3_51 = np.array(S1meanA3_51)\n",
        "\n",
        "S1rgbrefA1_5 = list()\n",
        "S1rgbA3_51 = list()\n",
        "for i in range(3):\n",
        "    S1rgbrefA1_5.append(S1meanrefA1_5[:,i].mean())\n",
        "    S1rgbA3_51.append(S1meanA3_51[:,i].mean())"
      ],
      "execution_count": 680,
      "outputs": []
    },
    {
      "cell_type": "code",
      "metadata": {
        "id": "vCXxutjOLEb5"
      },
      "source": [
        "S1meanrefA1_6 = list()\n",
        "S1meanA4_1 = list()\n",
        "for i in range(S1RGB_imgA1A4_1.shape[0]): \n",
        "     for j in range(S1RGB_imgA1A4_1.shape[1]): \n",
        "                if 1769<i<1881 and 2019<j<2131 :\n",
        "                  S1meanrefA1_6.append(S1RGB_imgA1A4_1[i][j])\n",
        "                if 1770<i<1880 and 2015<j<2145 :\n",
        "                  S1meanA4_1.append(S1RGB_imgA1A4_1[i][j])  \n",
        "S1meanrefA1_6 = np.array(S1meanrefA1_6)\n",
        "S1meanA4_1 = np.array(S1meanA4_1)\n",
        "\n",
        "S1rgbrefA1_6 = list()\n",
        "S1rgbA4_1 = list()\n",
        "for i in range(3):\n",
        "    S1rgbrefA1_6.append(S1meanrefA1_6[:,i].mean())\n",
        "    S1rgbA4_1.append(S1meanA4_1[:,i].mean())"
      ],
      "execution_count": 681,
      "outputs": []
    },
    {
      "cell_type": "code",
      "metadata": {
        "id": "Te2hqmb4LbG7"
      },
      "source": [
        "S1meanrefA1_7 = list()\n",
        "S1meanB1_1 = list()\n",
        "for i in range(S1RGB_imgA1B1_1.shape[0]): \n",
        "     for j in range(S1RGB_imgA1B1_1.shape[1]): \n",
        "                if 1769<i<1881 and 2019<j<2131 :\n",
        "                  S1meanrefA1_7.append(S1RGB_imgA1B1_1[i][j])\n",
        "                if 1770<i<1880 and 2015<j<2145 :\n",
        "                  S1meanB1_1.append(S1RGB_imgA1B1_1[i][j])  \n",
        "S1meanrefA1_7 = np.array(S1meanrefA1_7)\n",
        "S1meanB1_1 = np.array(S1meanB1_1)\n",
        "\n",
        "S1rgbrefA1_7 = list()\n",
        "S1rgbB1_1 = list()\n",
        "for i in range(3):\n",
        "    S1rgbrefA1_7.append(S1meanrefA1_7[:,i].mean())\n",
        "    S1rgbB1_1.append(S1meanB1_1[:,i].mean())"
      ],
      "execution_count": 682,
      "outputs": []
    },
    {
      "cell_type": "code",
      "metadata": {
        "id": "Q_VEx1q0LbG7"
      },
      "source": [
        "S1meanrefA1_8 = list()\n",
        "S1meanB2_1 = list()\n",
        "for i in range(S1RGB_imgA1B2_1.shape[0]): \n",
        "     for j in range(S1RGB_imgA1B2_1.shape[1]): \n",
        "                if 1769<i<1881 and 2019<j<2131 :\n",
        "                  S1meanrefA1_8.append(S1RGB_imgA1B2_1[i][j])\n",
        "                if 1770<i<1880 and 2015<j<2145 :\n",
        "                  S1meanB2_1.append(S1RGB_imgA1B2_1[i][j])  \n",
        "S1meanrefA1_8 = np.array(S1meanrefA1_8)\n",
        "S1meanB2_1 = np.array(S1meanB2_1)\n",
        "\n",
        "S1rgbrefA1_8 = list()\n",
        "S1rgbB2_1 = list()\n",
        "for i in range(3):\n",
        "    S1rgbrefA1_8.append(S1meanrefA1_8[:,i].mean())\n",
        "    S1rgbB2_1.append(S1meanB2_1[:,i].mean())"
      ],
      "execution_count": 683,
      "outputs": []
    },
    {
      "cell_type": "code",
      "metadata": {
        "id": "6h5EfHY1LbG7"
      },
      "source": [
        "S1meanrefA1_9 = list()\n",
        "S1meanB3_1 = list()\n",
        "for i in range(S1RGB_imgA1B3_1.shape[0]): \n",
        "     for j in range(S1RGB_imgA1B3_1.shape[1]): \n",
        "                if 1769<i<1881 and 2019<j<2131 :\n",
        "                  S1meanrefA1_9.append(S1RGB_imgA1B3_1[i][j])\n",
        "                if 1770<i<1880 and 2015<j<2145 :\n",
        "                  S1meanB3_1.append(S1RGB_imgA1B3_1[i][j])  \n",
        "S1meanrefA1_9 = np.array(S1meanrefA1_9)\n",
        "S1meanB3_1 = np.array(S1meanB3_1)\n",
        "\n",
        "S1rgbrefA1_9 = list()\n",
        "S1rgbB3_1 = list()\n",
        "for i in range(3):\n",
        "    S1rgbrefA1_9.append(S1meanrefA1_9[:,i].mean())\n",
        "    S1rgbB3_1.append(S1meanB3_1[:,i].mean())"
      ],
      "execution_count": 684,
      "outputs": []
    },
    {
      "cell_type": "code",
      "metadata": {
        "id": "TjKejQxXL9Xb"
      },
      "source": [
        "S1meanrefA1_10 = list()\n",
        "S1meanB4_1 = list()\n",
        "for i in range(S1RGB_imgA1B4_1.shape[0]): \n",
        "     for j in range(S1RGB_imgA1B4_1.shape[1]): \n",
        "                if 1769<i<1881 and 2019<j<2131 :\n",
        "                  S1meanrefA1_10.append(S1RGB_imgA1B4_1[i][j])\n",
        "                if 1770<i<1880 and 2015<j<2145 :\n",
        "                  S1meanB4_1.append(S1RGB_imgA1B4_1[i][j])  \n",
        "S1meanrefA1_10 = np.array(S1meanrefA1_10)\n",
        "S1meanB4_1 = np.array(S1meanB4_1)\n",
        "\n",
        "S1rgbrefA1_10 = list()\n",
        "S1rgbB4_1 = list()\n",
        "for i in range(3):\n",
        "    S1rgbrefA1_10.append(S1meanrefA1_10[:,i].mean())\n",
        "    S1rgbB4_1.append(S1meanB4_1[:,i].mean())"
      ],
      "execution_count": 685,
      "outputs": []
    },
    {
      "cell_type": "code",
      "metadata": {
        "id": "Y8X8SmoGMihg"
      },
      "source": [
        "S1meanrefA1_11 = list()\n",
        "S1meanC1_1 = list()\n",
        "for i in range(S1RGB_imgA1C1_1.shape[0]): \n",
        "     for j in range(S1RGB_imgA1C1_1.shape[1]): \n",
        "                if 1769<i<1881 and 2019<j<2131 :\n",
        "                  S1meanrefA1_11.append(S1RGB_imgA1C1_1[i][j])\n",
        "                if 1770<i<1880 and 2015<j<2145 :\n",
        "                  S1meanC1_1.append(S1RGB_imgA1C1_1[i][j])  \n",
        "S1meanrefA1_11 = np.array(S1meanrefA1_11)\n",
        "S1meanC1_1 = np.array(S1meanC1_1)\n",
        "\n",
        "S1rgbrefA1_11 = list()\n",
        "S1rgbC1_1 = list()\n",
        "for i in range(3):\n",
        "    S1rgbrefA1_11.append(S1meanrefA1_11[:,i].mean())\n",
        "    S1rgbC1_1.append(S1meanC1_1[:,i].mean())"
      ],
      "execution_count": 686,
      "outputs": []
    },
    {
      "cell_type": "code",
      "metadata": {
        "id": "Av_eHI6jMihg"
      },
      "source": [
        "S1meanrefA1_12 = list()\n",
        "S1meanC2_1 = list()\n",
        "for i in range(S1RGB_imgA1C2_1.shape[0]): \n",
        "     for j in range(S1RGB_imgA1C2_1.shape[1]): \n",
        "                if 1769<i<1881 and 2019<j<2131 :\n",
        "                  S1meanrefA1_12.append(S1RGB_imgA1C2_1[i][j])\n",
        "                if 1770<i<1880 and 2015<j<2145 :\n",
        "                  S1meanC2_1.append(S1RGB_imgA1C2_1[i][j])  \n",
        "S1meanrefA1_12 = np.array(S1meanrefA1_12)\n",
        "S1meanC2_1 = np.array(S1meanC2_1)\n",
        "\n",
        "S1rgbrefA1_12 = list()\n",
        "S1rgbC2_1 = list()\n",
        "for i in range(3):\n",
        "    S1rgbrefA1_12.append(S1meanrefA1_12[:,i].mean())\n",
        "    S1rgbC2_1.append(S1meanC2_1[:,i].mean())"
      ],
      "execution_count": 687,
      "outputs": []
    },
    {
      "cell_type": "code",
      "metadata": {
        "id": "lOvykBc7Mihg"
      },
      "source": [
        "S1meanrefA1_13 = list()\n",
        "S1meanC3_1 = list()\n",
        "for i in range(S1RGB_imgA1C3_1.shape[0]): \n",
        "     for j in range(S1RGB_imgA1C3_1.shape[1]): \n",
        "                if 1769<i<1881 and 2019<j<2131 :\n",
        "                  S1meanrefA1_13.append(S1RGB_imgA1C3_1[i][j])\n",
        "                if 1770<i<1880 and 2015<j<2145 :\n",
        "                  S1meanC3_1.append(S1RGB_imgA1C3_1[i][j])  \n",
        "S1meanrefA1_13 = np.array(S1meanrefA1_13)\n",
        "S1meanC3_1 = np.array(S1meanC3_1)\n",
        "\n",
        "S1rgbrefA1_13 = list()\n",
        "S1rgbC3_1 = list()\n",
        "for i in range(3):\n",
        "    S1rgbrefA1_13.append(S1meanrefA1_13[:,i].mean())\n",
        "    S1rgbC3_1.append(S1meanC3_1[:,i].mean())"
      ],
      "execution_count": 688,
      "outputs": []
    },
    {
      "cell_type": "code",
      "metadata": {
        "id": "YdNqiN2LMihg"
      },
      "source": [
        "S1meanrefA1_14 = list()\n",
        "S1meanC4_1 = list()\n",
        "for i in range(S1RGB_imgA1C4_1.shape[0]): \n",
        "     for j in range(S1RGB_imgA1C4_1.shape[1]): \n",
        "                if 1769<i<1881 and 2019<j<2131 :\n",
        "                  S1meanrefA1_14.append(S1RGB_imgA1C4_1[i][j])\n",
        "                if 1770<i<1880 and 2015<j<2145 :\n",
        "                  S1meanC4_1.append(S1RGB_imgA1C4_1[i][j])  \n",
        "S1meanrefA1_14 = np.array(S1meanrefA1_14)\n",
        "S1meanC4_1 = np.array(S1meanC4_1)\n",
        "\n",
        "S1rgbrefA1_14 = list()\n",
        "S1rgbC4_1 = list()\n",
        "for i in range(3):\n",
        "    S1rgbrefA1_14.append(S1meanrefA1_14[:,i].mean())\n",
        "    S1rgbC4_1.append(S1meanC4_1[:,i].mean())"
      ],
      "execution_count": 689,
      "outputs": []
    },
    {
      "cell_type": "code",
      "metadata": {
        "id": "U1oHIKdONm_p"
      },
      "source": [
        "S1meanrefA1_15 = list()\n",
        "S1meanD2_1 = list()\n",
        "for i in range(S1RGB_imgA1D2_1.shape[0]): \n",
        "     for j in range(S1RGB_imgA1D2_1.shape[1]): \n",
        "                if 1769<i<1881 and 2019<j<2131 :\n",
        "                  S1meanrefA1_15.append(S1RGB_imgA1D2_1[i][j])\n",
        "                if 1770<i<1880 and 2015<j<2145 :\n",
        "                  S1meanD2_1.append(S1RGB_imgA1D2_1[i][j])  \n",
        "S1meanrefA1_15 = np.array(S1meanrefA1_15)\n",
        "S1meanD2_1 = np.array(S1meanD2_1)\n",
        "\n",
        "S1rgbrefA1_15 = list()\n",
        "S1rgbD2_1 = list()\n",
        "for i in range(3):\n",
        "    S1rgbrefA1_15.append(S1meanrefA1_15[:,i].mean())\n",
        "    S1rgbD2_1.append(S1meanD2_1[:,i].mean())"
      ],
      "execution_count": 690,
      "outputs": []
    },
    {
      "cell_type": "code",
      "metadata": {
        "id": "_O71JLAONm_p"
      },
      "source": [
        "S1meanrefA1_16 = list()\n",
        "S1meanD3_1 = list()\n",
        "for i in range(S1RGB_imgA1D3_1.shape[0]): \n",
        "     for j in range(S1RGB_imgA1D3_1.shape[1]): \n",
        "                if 1769<i<1881 and 2019<j<2131 :\n",
        "                  S1meanrefA1_16.append(S1RGB_imgA1D3_1[i][j])\n",
        "                if 1770<i<1880 and 2015<j<2145 :\n",
        "                  S1meanD3_1.append(S1RGB_imgA1D3_1[i][j])  \n",
        "S1meanrefA1_16 = np.array(S1meanrefA1_16)\n",
        "S1meanD3_1 = np.array(S1meanD3_1)\n",
        "\n",
        "S1rgbrefA1_16 = list()\n",
        "S1rgbD3_1 = list()\n",
        "for i in range(3):\n",
        "    S1rgbrefA1_16.append(S1meanrefA1_16[:,i].mean())\n",
        "    S1rgbD3_1.append(S1meanD3_1[:,i].mean())"
      ],
      "execution_count": 691,
      "outputs": []
    },
    {
      "cell_type": "code",
      "metadata": {
        "id": "U29gI1aKNm_p"
      },
      "source": [
        "S1meanrefA1_17= list()\n",
        "S1meanD4_1 = list()\n",
        "for i in range(S1RGB_imgA1D4_1.shape[0]): \n",
        "     for j in range(S1RGB_imgA1D4_1.shape[1]): \n",
        "                if 1769<i<1881 and 2019<j<2131 :\n",
        "                  S1meanrefA1_17.append(S1RGB_imgA1D4_1[i][j])\n",
        "                if 1770<i<1880 and 2015<j<2145 :\n",
        "                  S1meanD4_1.append(S1RGB_imgA1D4_1[i][j])  \n",
        "S1meanrefA1_17 = np.array(S1meanrefA1_14)\n",
        "S1meanD4_1 = np.array(S1meanD4_1)\n",
        "\n",
        "S1rgbrefA1_17 = list()\n",
        "S1rgbD4_1 = list()\n",
        "for i in range(3):\n",
        "    S1rgbrefA1_17.append(S1meanrefA1_17[:,i].mean())\n",
        "    S1rgbD4_1.append(S1meanD4_1[:,i].mean())"
      ],
      "execution_count": 692,
      "outputs": []
    },
    {
      "cell_type": "markdown",
      "metadata": {
        "id": "l-EubNtx-XCR"
      },
      "source": [
        "###Img 2"
      ]
    },
    {
      "cell_type": "code",
      "metadata": {
        "id": "3D1den5K-nyt",
        "colab": {
          "base_uri": "https://localhost:8080/"
        },
        "outputId": "57970afa-168e-4148-d989-f712d6f8e1e2"
      },
      "source": [
        "S1meanrefA1_102 = list()\n",
        "S1meanA1_202 = list()\n",
        "for i in range(S1RGB_imgA1A1_2.shape[0]): #ให้ i รันตาม row หรือ shape[0] คือแถว มีทั้งหมด 4032 แถว ของภาพที่ปรับขนาดมาแล้ว\n",
        "     for j in range(S1RGB_imgA1A1_2.shape[1]): #ให้ j รันตาม colum มีทั้งหมด 3024 colum เช่น แถวที่ 1 เข้ามาให้รันครบ 3024colum\n",
        "                if 1769<i<1881 and 2019<j<2131 :\n",
        "                  S1meanrefA1_102.append(S1RGB_imgA1A1_2[i][j])\n",
        "                if 1770<i<1880 and 2015<j<2145 :\n",
        "                  S1meanA1_202.append(S1RGB_imgA1A1_2[i][j])  \n",
        "S1meanrefA1_102 = np.array(S1meanrefA1_102)\n",
        "S1meanA1_202 = np.array(S1meanA1_202)\n",
        "\n",
        "S1rgbrefA1_102 = list()\n",
        "S1rgbA1_202 = list()\n",
        "for i in range(3):\n",
        "    S1rgbrefA1_102.append(S1meanrefA1_102[:,i].mean())\n",
        "    S1rgbA1_202.append(S1meanA1_202[:,i].mean())\n",
        "S1rgbrefA1_102,S1rgbA1_202"
      ],
      "execution_count": 693,
      "outputs": [
        {
          "output_type": "execute_result",
          "data": {
            "text/plain": [
              "([232.75943511078646, 216.69539810080352, 178.3807320834348],\n",
              " [233.43802005547258, 217.50280918853568, 179.6269113149847])"
            ]
          },
          "metadata": {},
          "execution_count": 693
        }
      ]
    },
    {
      "cell_type": "code",
      "metadata": {
        "id": "RRnoqKs_-nyu"
      },
      "source": [
        "S1meanrefA1_302 = list()\n",
        "S1meanA2_102 = list()\n",
        "for i in range(S1RGB_imgA1A2_2.shape[0]): \n",
        "     for j in range(S1RGB_imgA1A2_2.shape[1]): \n",
        "                if 1769<i<1881 and 2019<j<2131 :\n",
        "                  S1meanrefA1_302.append(S1RGB_imgA1A2_2[i][j])\n",
        "                if 1770<i<1880 and 2015<j<2145 :\n",
        "                  S1meanA2_102.append(S1RGB_imgA1A2_2[i][j])  \n",
        "S1meanrefA1_302 = np.array(S1meanrefA1_302)\n",
        "S1meanA2_102 = np.array(S1meanA2_102)\n",
        "\n",
        "S1rgbrefA1_302 = list()\n",
        "S1rgbA2_102 = list()\n",
        "for i in range(3):\n",
        "    S1rgbrefA1_302.append(S1meanrefA1_302[:,i].mean())\n",
        "    S1rgbA2_102.append(S1meanA2_102[:,i].mean())"
      ],
      "execution_count": 694,
      "outputs": []
    },
    {
      "cell_type": "code",
      "metadata": {
        "id": "-Z8Wxm76-nyv"
      },
      "source": [
        "S1meanrefA1_402 = list()\n",
        "S1meanA3_102 = list()\n",
        "for i in range(S1RGB_imgA1A3_2.shape[0]): \n",
        "     for j in range(S1RGB_imgA1A3_2.shape[1]): \n",
        "                if 1769<i<1881 and 2019<j<2131 :\n",
        "                  S1meanrefA1_402.append(S1RGB_imgA1A3_2[i][j])\n",
        "                if 1770<i<1880 and 2015<j<2145 :\n",
        "                  S1meanA3_102.append(S1RGB_imgA1A3_2[i][j])  \n",
        "S1meanrefA1_402 = np.array(S1meanrefA1_402)\n",
        "S1meanA3_102 = np.array(S1meanA3_102)\n",
        "\n",
        "S1rgbrefA1_402 = list()\n",
        "S1rgbA3_102 = list()\n",
        "for i in range(3):\n",
        "    S1rgbrefA1_402.append(S1meanrefA1_402[:,i].mean())\n",
        "    S1rgbA3_102.append(S1meanA3_102[:,i].mean())"
      ],
      "execution_count": 695,
      "outputs": []
    },
    {
      "cell_type": "code",
      "metadata": {
        "id": "Wo7Z5Spk-nyw"
      },
      "source": [
        "S1meanrefA1_502 = list()\n",
        "S1meanA3_5102 = list()\n",
        "for i in range(S1RGB_imgA1A3_52.shape[0]): \n",
        "     for j in range(S1RGB_imgA1A3_52.shape[1]): \n",
        "                if 1769<i<1881 and 2019<j<2131 :\n",
        "                  S1meanrefA1_502.append(S1RGB_imgA1A3_52[i][j])\n",
        "                if 1770<i<1880 and 2015<j<2145 :\n",
        "                  S1meanA3_5102.append(S1RGB_imgA1A3_52[i][j])  \n",
        "S1meanrefA1_502 = np.array(S1meanrefA1_502)\n",
        "S1meanA3_5102 = np.array(S1meanA3_5102)\n",
        "\n",
        "S1rgbrefA1_502 = list()\n",
        "S1rgbA3_5102 = list()\n",
        "for i in range(3):\n",
        "    S1rgbrefA1_502.append(S1meanrefA1_502[:,i].mean())\n",
        "    S1rgbA3_5102.append(S1meanA3_5102[:,i].mean())"
      ],
      "execution_count": 696,
      "outputs": []
    },
    {
      "cell_type": "code",
      "metadata": {
        "id": "cKjcfG9e-nyw"
      },
      "source": [
        "S1meanrefA1_602 = list()\n",
        "S1meanA4_102 = list()\n",
        "for i in range(S1RGB_imgA1A4_2.shape[0]): \n",
        "     for j in range(S1RGB_imgA1A4_2.shape[1]): \n",
        "                if 1769<i<1881 and 2019<j<2131 :\n",
        "                  S1meanrefA1_602.append(S1RGB_imgA1A4_2[i][j])\n",
        "                if 1770<i<1880 and 2015<j<2145 :\n",
        "                  S1meanA4_102.append(S1RGB_imgA1A4_2[i][j])  \n",
        "S1meanrefA1_602 = np.array(S1meanrefA1_602)\n",
        "S1meanA4_102 = np.array(S1meanA4_102)\n",
        "\n",
        "S1rgbrefA1_602 = list()\n",
        "S1rgbA4_102 = list()\n",
        "for i in range(3):\n",
        "    S1rgbrefA1_602.append(S1meanrefA1_602[:,i].mean())\n",
        "    S1rgbA4_102.append(S1meanA4_102[:,i].mean())"
      ],
      "execution_count": 697,
      "outputs": []
    },
    {
      "cell_type": "code",
      "metadata": {
        "id": "yz9vpuVx-nyx"
      },
      "source": [
        "S1meanrefA1_702 = list()\n",
        "S1meanB1_102 = list()\n",
        "for i in range(S1RGB_imgA1B1_2.shape[0]): \n",
        "     for j in range(S1RGB_imgA1B1_2.shape[1]): \n",
        "                if 1769<i<1881 and 2019<j<2131 :\n",
        "                  S1meanrefA1_702.append(S1RGB_imgA1B1_2[i][j])\n",
        "                if 1770<i<1880 and 2015<j<2145 :\n",
        "                  S1meanB1_102.append(S1RGB_imgA1B1_2[i][j])  \n",
        "S1meanrefA1_702 = np.array(S1meanrefA1_702)\n",
        "S1meanB1_102 = np.array(S1meanB1_102)\n",
        "\n",
        "S1rgbrefA1_702= list()\n",
        "S1rgbB1_102 = list()\n",
        "for i in range(3):\n",
        "    S1rgbrefA1_702.append(S1meanrefA1_702[:,i].mean())\n",
        "    S1rgbB1_102.append(S1meanB1_102[:,i].mean())"
      ],
      "execution_count": 698,
      "outputs": []
    },
    {
      "cell_type": "code",
      "metadata": {
        "id": "Wsk9Q3Zv-nyy"
      },
      "source": [
        "S1meanrefA1_802 = list()\n",
        "S1meanB2_102 = list()\n",
        "for i in range(S1RGB_imgA1B2_2.shape[0]): \n",
        "     for j in range(S1RGB_imgA1B2_2.shape[1]): \n",
        "                if 1769<i<1881 and 2019<j<2131 :\n",
        "                  S1meanrefA1_802.append(S1RGB_imgA1B2_2[i][j])\n",
        "                if 1770<i<1880 and 2015<j<2145 :\n",
        "                  S1meanB2_102.append(S1RGB_imgA1B2_2[i][j])  \n",
        "S1meanrefA1_802 = np.array(S1meanrefA1_802)\n",
        "S1meanB2_102 = np.array(S1meanB2_102)\n",
        "\n",
        "S1rgbrefA1_802 = list()\n",
        "S1rgbB2_102 = list()\n",
        "for i in range(3):\n",
        "    S1rgbrefA1_802.append(S1meanrefA1_802[:,i].mean())\n",
        "    S1rgbB2_102.append(S1meanB2_102[:,i].mean())"
      ],
      "execution_count": 699,
      "outputs": []
    },
    {
      "cell_type": "code",
      "metadata": {
        "id": "dCKh80eN-nyy"
      },
      "source": [
        "S1meanrefA1_902 = list()\n",
        "S1meanB3_102 = list()\n",
        "for i in range(S1RGB_imgA1B3_2.shape[0]): \n",
        "     for j in range(S1RGB_imgA1B3_2.shape[1]): \n",
        "                if 1769<i<1881 and 2019<j<2131 :\n",
        "                  S1meanrefA1_902.append(S1RGB_imgA1B3_2[i][j])\n",
        "                if 1770<i<1880 and 2015<j<2145 :\n",
        "                  S1meanB3_102.append(S1RGB_imgA1B3_2[i][j])  \n",
        "S1meanrefA1_902 = np.array(S1meanrefA1_902)\n",
        "S1meanB3_102 = np.array(S1meanB3_102)\n",
        "\n",
        "S1rgbrefA1_902 = list()\n",
        "S1rgbB3_102 = list()\n",
        "for i in range(3):\n",
        "    S1rgbrefA1_902.append(S1meanrefA1_902[:,i].mean())\n",
        "    S1rgbB3_102.append(S1meanB3_102[:,i].mean())"
      ],
      "execution_count": 700,
      "outputs": []
    },
    {
      "cell_type": "code",
      "metadata": {
        "id": "OY7G08cr-nyz"
      },
      "source": [
        "S1meanrefA1_1002 = list()\n",
        "S1meanB4_102 = list()\n",
        "for i in range(S1RGB_imgA1B4_2.shape[0]): \n",
        "     for j in range(S1RGB_imgA1B4_2.shape[1]): \n",
        "                if 1769<i<1881 and 2019<j<2131 :\n",
        "                  S1meanrefA1_1002.append(S1RGB_imgA1B4_2[i][j])\n",
        "                if 1770<i<1880 and 2015<j<2145 :\n",
        "                  S1meanB4_102.append(S1RGB_imgA1B4_2[i][j])  \n",
        "S1meanrefA1_1002 = np.array(S1meanrefA1_1002)\n",
        "S1meanB4_102 = np.array(S1meanB4_102)\n",
        "\n",
        "S1rgbrefA1_1002 = list()\n",
        "S1rgbB4_102 = list()\n",
        "for i in range(3):\n",
        "    S1rgbrefA1_1002.append(S1meanrefA1_1002[:,i].mean())\n",
        "    S1rgbB4_102.append(S1meanB4_102[:,i].mean())"
      ],
      "execution_count": 701,
      "outputs": []
    },
    {
      "cell_type": "code",
      "metadata": {
        "id": "fwZ-xl_I-nyz"
      },
      "source": [
        "S1meanrefA1_1102 = list()\n",
        "S1meanC1_102 = list()\n",
        "for i in range(S1RGB_imgA1C1_2.shape[0]): \n",
        "     for j in range(S1RGB_imgA1C1_2.shape[1]): \n",
        "                if 1769<i<1881 and 2019<j<2131 :\n",
        "                  S1meanrefA1_1102.append(S1RGB_imgA1C1_2[i][j])\n",
        "                if 1770<i<1880 and 2015<j<2145 :\n",
        "                  S1meanC1_102.append(S1RGB_imgA1C1_2[i][j])  \n",
        "S1meanrefA1_1102 = np.array(S1meanrefA1_1102)\n",
        "S1meanC1_102 = np.array(S1meanC1_102)\n",
        "\n",
        "S1rgbrefA1_1102 = list()\n",
        "S1rgbC1_102 = list()\n",
        "for i in range(3):\n",
        "    S1rgbrefA1_1102.append(S1meanrefA1_1102[:,i].mean())\n",
        "    S1rgbC1_102.append(S1meanC1_102[:,i].mean())"
      ],
      "execution_count": 702,
      "outputs": []
    },
    {
      "cell_type": "code",
      "metadata": {
        "id": "6zk1VOd0-ny0"
      },
      "source": [
        "S1meanrefA1_1202 = list()\n",
        "S1meanC2_102 = list()\n",
        "for i in range(S1RGB_imgA1C2_2.shape[0]): \n",
        "     for j in range(S1RGB_imgA1C2_2.shape[1]): \n",
        "                if 1769<i<1881 and 2019<j<2131 :\n",
        "                  S1meanrefA1_1202.append(S1RGB_imgA1C2_2[i][j])\n",
        "                if 1770<i<1880 and 2015<j<2145 :\n",
        "                  S1meanC2_102.append(S1RGB_imgA1C2_2[i][j])  \n",
        "S1meanrefA1_1202 = np.array(S1meanrefA1_1202)\n",
        "S1meanC2_102 = np.array(S1meanC2_102)\n",
        "\n",
        "S1rgbrefA1_1202 = list()\n",
        "S1rgbC2_102 = list()\n",
        "for i in range(3):\n",
        "    S1rgbrefA1_1202.append(S1meanrefA1_1202[:,i].mean())\n",
        "    S1rgbC2_102.append(S1meanC2_102[:,i].mean())"
      ],
      "execution_count": 703,
      "outputs": []
    },
    {
      "cell_type": "code",
      "metadata": {
        "id": "e1xdUv34-ny0"
      },
      "source": [
        "S1meanrefA1_1302 = list()\n",
        "S1meanC3_102 = list()\n",
        "for i in range(S1RGB_imgA1C3_2.shape[0]): \n",
        "     for j in range(S1RGB_imgA1C3_2.shape[1]): \n",
        "                if 1769<i<1881 and 2019<j<2131 :\n",
        "                  S1meanrefA1_1302.append(S1RGB_imgA1C3_2[i][j])\n",
        "                if 1770<i<1880 and 2015<j<2145 :\n",
        "                  S1meanC3_102.append(S1RGB_imgA1C3_2[i][j])  \n",
        "S1meanrefA1_1302 = np.array(S1meanrefA1_1302)\n",
        "S1meanC3_102 = np.array(S1meanC3_102)\n",
        "\n",
        "S1rgbrefA1_1302 = list()\n",
        "S1rgbC3_102 = list()\n",
        "for i in range(3):\n",
        "    S1rgbrefA1_1302.append(S1meanrefA1_1302[:,i].mean())\n",
        "    S1rgbC3_102.append(S1meanC3_102[:,i].mean())"
      ],
      "execution_count": 704,
      "outputs": []
    },
    {
      "cell_type": "code",
      "metadata": {
        "id": "6s9zmb-o-ny0"
      },
      "source": [
        "S1meanrefA1_1402 = list()\n",
        "S1meanC4_102 = list()\n",
        "for i in range(S1RGB_imgA1C4_2.shape[0]): \n",
        "     for j in range(S1RGB_imgA1C4_2.shape[1]): \n",
        "                if 1769<i<1881 and 2019<j<2131 :\n",
        "                  S1meanrefA1_1402.append(S1RGB_imgA1C4_2[i][j])\n",
        "                if 1770<i<1880 and 2015<j<2145 :\n",
        "                  S1meanC4_102.append(S1RGB_imgA1C4_2[i][j])  \n",
        "S1meanrefA1_1402 = np.array(S1meanrefA1_1402)\n",
        "S1meanC4_102 = np.array(S1meanC4_102)\n",
        "\n",
        "S1rgbrefA1_1402 = list()\n",
        "S1rgbC4_102 = list()\n",
        "for i in range(3):\n",
        "    S1rgbrefA1_1402.append(S1meanrefA1_1402[:,i].mean())\n",
        "    S1rgbC4_102.append(S1meanC4_102[:,i].mean())"
      ],
      "execution_count": 705,
      "outputs": []
    },
    {
      "cell_type": "code",
      "metadata": {
        "id": "73-r0q_3-ny1"
      },
      "source": [
        "S1meanrefA1_1502 = list()\n",
        "S1meanD2_102 = list()\n",
        "for i in range(S1RGB_imgA1D2_2.shape[0]): \n",
        "     for j in range(S1RGB_imgA1D2_2.shape[1]): \n",
        "                if 1769<i<1881 and 2019<j<2131 :\n",
        "                  S1meanrefA1_1502.append(S1RGB_imgA1D2_2[i][j])\n",
        "                if 1770<i<1880 and 2015<j<2145 :\n",
        "                  S1meanD2_102.append(S1RGB_imgA1D2_2[i][j])  \n",
        "S1meanrefA1_1502 = np.array(S1meanrefA1_1502)\n",
        "S1meanD2_102 = np.array(S1meanD2_102)\n",
        "\n",
        "S1rgbrefA1_1502 = list()\n",
        "S1rgbD2_102 = list()\n",
        "for i in range(3):\n",
        "    S1rgbrefA1_1502.append(S1meanrefA1_1502[:,i].mean())\n",
        "    S1rgbD2_102.append(S1meanD2_102[:,i].mean())"
      ],
      "execution_count": 706,
      "outputs": []
    },
    {
      "cell_type": "code",
      "metadata": {
        "id": "5pow4JZn-ny1"
      },
      "source": [
        "S1meanrefA1_1602 = list()\n",
        "S1meanD3_102 = list()\n",
        "for i in range(S1RGB_imgA1D3_2.shape[0]): \n",
        "     for j in range(S1RGB_imgA1D3_2.shape[1]): \n",
        "                if 1769<i<1881 and 2019<j<2131 :\n",
        "                  S1meanrefA1_1602.append(S1RGB_imgA1D3_2[i][j])\n",
        "                if 1770<i<1880 and 2015<j<2145 :\n",
        "                  S1meanD3_102.append(S1RGB_imgA1D3_2[i][j])  \n",
        "S1meanrefA1_1602 = np.array(S1meanrefA1_1602)\n",
        "S1meanD3_102 = np.array(S1meanD3_102)\n",
        "\n",
        "S1rgbrefA1_1602 = list()\n",
        "S1rgbD3_102 = list()\n",
        "for i in range(3):\n",
        "    S1rgbrefA1_1602.append(S1meanrefA1_1602[:,i].mean())\n",
        "    S1rgbD3_102.append(S1meanD3_102[:,i].mean())"
      ],
      "execution_count": 707,
      "outputs": []
    },
    {
      "cell_type": "code",
      "metadata": {
        "id": "OvQd7MJW-ny1"
      },
      "source": [
        "S1meanrefA1_1702= list()\n",
        "S1meanD4_102 = list()\n",
        "for i in range(S1RGB_imgA1D4_2.shape[0]): \n",
        "     for j in range(S1RGB_imgA1D4_2.shape[1]): \n",
        "                if 1769<i<1881 and 2019<j<2131 :\n",
        "                  S1meanrefA1_1702.append(S1RGB_imgA1D4_2[i][j])\n",
        "                if 1770<i<1880 and 2015<j<2145 :\n",
        "                  S1meanD4_102.append(S1RGB_imgA1D4_2[i][j])  \n",
        "S1meanrefA1_1702 = np.array(S1meanrefA1_1402)\n",
        "S1meanD4_102 = np.array(S1meanD4_102)\n",
        "\n",
        "S1rgbrefA1_1702 = list()\n",
        "S1rgbD4_102 = list()\n",
        "for i in range(3):\n",
        "    S1rgbrefA1_1702.append(S1meanrefA1_1702[:,i].mean())\n",
        "    S1rgbD4_102.append(S1meanD4_102[:,i].mean())"
      ],
      "execution_count": 708,
      "outputs": []
    },
    {
      "cell_type": "markdown",
      "metadata": {
        "id": "jHC0T1Oy-XCS"
      },
      "source": [
        "###Img 3"
      ]
    },
    {
      "cell_type": "code",
      "metadata": {
        "id": "7hyv2MRI-ph_",
        "colab": {
          "base_uri": "https://localhost:8080/"
        },
        "outputId": "51bdfa8d-31da-419d-b4f4-be1a65113ed2"
      },
      "source": [
        "S1meanrefA1_103 = list()\n",
        "S1meanA1_203 = list()\n",
        "for i in range(S1RGB_imgA1A1_3.shape[0]): #ให้ i รันตาม row หรือ shape[0] คือแถว มีทั้งหมด 4032 แถว ของภาพที่ปรับขนาดมาแล้ว\n",
        "     for j in range(S1RGB_imgA1A1_3.shape[1]): #ให้ j รันตาม colum มีทั้งหมด 3024 colum เช่น แถวที่ 1 เข้ามาให้รันครบ 3024colum\n",
        "                if 1769<i<1881 and 2019<j<2131 :\n",
        "                  S1meanrefA1_103.append(S1RGB_imgA1A1_3[i][j])\n",
        "                if 1770<i<1880 and 2015<j<2145 :\n",
        "                  S1meanA1_203.append(S1RGB_imgA1A1_3[i][j])  \n",
        "S1meanrefA1_103 = np.array(S1meanrefA1_103)\n",
        "S1meanA1_203 = np.array(S1meanA1_203)\n",
        "\n",
        "S1rgbrefA1_103 = list()\n",
        "S1rgbA1_203 = list()\n",
        "for i in range(3):\n",
        "    S1rgbrefA1_103.append(S1meanrefA1_103[:,i].mean())\n",
        "    S1rgbA1_203.append(S1meanA1_203[:,i].mean())\n",
        "S1rgbrefA1_103,S1rgbA1_203"
      ],
      "execution_count": 709,
      "outputs": [
        {
          "output_type": "execute_result",
          "data": {
            "text/plain": [
              "([230.93401509617726, 208.00722343965586, 159.54419284149014],\n",
              " [231.6803214565109, 208.97674418604652, 161.24564397980228])"
            ]
          },
          "metadata": {},
          "execution_count": 709
        }
      ]
    },
    {
      "cell_type": "code",
      "metadata": {
        "id": "CwDhy4x7OD7D"
      },
      "source": [
        "S1meanrefA1_303 = list()\n",
        "S1meanA2_103 = list()\n",
        "for i in range(S1RGB_imgA1A2_3.shape[0]): \n",
        "     for j in range(S1RGB_imgA1A2_3.shape[1]): \n",
        "                if 1769<i<1881 and 2019<j<2131 :\n",
        "                  S1meanrefA1_303.append(S1RGB_imgA1A2_3[i][j])\n",
        "                if 1770<i<1880 and 2015<j<2145 :\n",
        "                  S1meanA2_103.append(S1RGB_imgA1A2_3[i][j])  \n",
        "S1meanrefA1_303 = np.array(S1meanrefA1_303)\n",
        "S1meanA2_103 = np.array(S1meanA2_103)\n",
        "\n",
        "S1rgbrefA1_303 = list()\n",
        "S1rgbA2_103 = list()\n",
        "for i in range(3):\n",
        "    S1rgbrefA1_303.append(S1meanrefA1_303[:,i].mean())\n",
        "    S1rgbA2_103.append(S1meanA2_103[:,i].mean())"
      ],
      "execution_count": 710,
      "outputs": []
    },
    {
      "cell_type": "code",
      "metadata": {
        "id": "UYKaG174OD7J"
      },
      "source": [
        "S1meanrefA1_403 = list()\n",
        "S1meanA3_103 = list()\n",
        "for i in range(S1RGB_imgA1A3_3.shape[0]): \n",
        "     for j in range(S1RGB_imgA1A3_3.shape[1]): \n",
        "                if 1769<i<1881 and 2019<j<2131 :\n",
        "                  S1meanrefA1_403.append(S1RGB_imgA1A3_3[i][j])\n",
        "                if 1770<i<1880 and 2015<j<2145 :\n",
        "                  S1meanA3_103.append(S1RGB_imgA1A3_3[i][j])  \n",
        "S1meanrefA1_403= np.array(S1meanrefA1_403 )\n",
        "S1meanA3_103 = np.array(S1meanA3_103 )\n",
        "\n",
        "S1rgbrefA1_403  = list()\n",
        "S1rgbA3_103  = list()\n",
        "for i in range(3):\n",
        "    S1rgbrefA1_403 .append(S1meanrefA1_403[:,i].mean())\n",
        "    S1rgbA3_103 .append(S1meanA3_103 [:,i].mean())"
      ],
      "execution_count": 711,
      "outputs": []
    },
    {
      "cell_type": "code",
      "metadata": {
        "id": "BXhaGTDpOD7L"
      },
      "source": [
        "S1meanrefA1_503  = list()\n",
        "S1meanA3_5103  = list()\n",
        "for i in range(S1RGB_imgA1A3_53.shape[0]): \n",
        "     for j in range(S1RGB_imgA1A3_53.shape[1]): \n",
        "                if 1769<i<1881 and 2019<j<2131 :\n",
        "                  S1meanrefA1_503 .append(S1RGB_imgA1A3_53[i][j])\n",
        "                if 1770<i<1880 and 2015<j<2145 :\n",
        "                  S1meanA3_5103 .append(S1RGB_imgA1A3_53[i][j])  \n",
        "S1meanrefA1_503  = np.array(S1meanrefA1_503 )\n",
        "S1meanA3_5103  = np.array(S1meanA3_5103 )\n",
        "\n",
        "S1rgbrefA1_503  = list()\n",
        "S1rgbA3_5103  = list()\n",
        "for i in range(3):\n",
        "    S1rgbrefA1_503 .append(S1meanrefA1_503 [:,i].mean())\n",
        "    S1rgbA3_5103 .append(S1meanA3_5103 [:,i].mean())"
      ],
      "execution_count": 712,
      "outputs": []
    },
    {
      "cell_type": "code",
      "metadata": {
        "id": "_r-gQx7_OD7N"
      },
      "source": [
        "S1meanrefA1_603  = list()\n",
        "S1meanA4_103  = list()\n",
        "for i in range(S1RGB_imgA1A4_3.shape[0]): \n",
        "     for j in range(S1RGB_imgA1A4_3.shape[1]): \n",
        "                if 1769<i<1881 and 2019<j<2131 :\n",
        "                  S1meanrefA1_603 .append(S1RGB_imgA1A4_3[i][j])\n",
        "                if 1770<i<1880 and 2015<j<2145 :\n",
        "                  S1meanA4_103 .append(S1RGB_imgA1A4_3[i][j])  \n",
        "S1meanrefA1_603  = np.array(S1meanrefA1_603 )\n",
        "S1meanA4_103  = np.array(S1meanA4_103 )\n",
        "\n",
        "S1rgbrefA1_603  = list()\n",
        "S1rgbA4_103  = list()\n",
        "for i in range(3):\n",
        "    S1rgbrefA1_603 .append(S1meanrefA1_603[:,i].mean())\n",
        "    S1rgbA4_103 .append(S1meanA4_103 [:,i].mean())"
      ],
      "execution_count": 713,
      "outputs": []
    },
    {
      "cell_type": "code",
      "metadata": {
        "id": "GuFjy19oOD7P"
      },
      "source": [
        "S1meanrefA1_703  = list()\n",
        "S1meanB1_103  = list()\n",
        "for i in range(S1RGB_imgA1B1_3.shape[0]): \n",
        "     for j in range(S1RGB_imgA1B1_3.shape[1]): \n",
        "                if 1769<i<1881 and 2019<j<2131 :\n",
        "                  S1meanrefA1_703 .append(S1RGB_imgA1B1_3[i][j])\n",
        "                if 1770<i<1880 and 2015<j<2145 :\n",
        "                  S1meanB1_103 .append(S1RGB_imgA1B1_3[i][j])  \n",
        "S1meanrefA1_703  = np.array(S1meanrefA1_703)\n",
        "S1meanB1_103  = np.array(S1meanB1_103)\n",
        "\n",
        "S1rgbrefA1_703  = list()\n",
        "S1rgbB1_103  = list()\n",
        "for i in range(3):\n",
        "    S1rgbrefA1_703 .append(S1meanrefA1_703 [:,i].mean())\n",
        "    S1rgbB1_103 .append(S1meanB1_103 [:,i].mean())"
      ],
      "execution_count": 714,
      "outputs": []
    },
    {
      "cell_type": "code",
      "metadata": {
        "id": "b9OoXHnpOD7R"
      },
      "source": [
        "S1meanrefA1_803  = list()\n",
        "S1meanB2_103  = list()\n",
        "for i in range(S1RGB_imgA1B2_3.shape[0]): \n",
        "     for j in range(S1RGB_imgA1B2_3.shape[1]): \n",
        "                if 1769<i<1881 and 2019<j<2131 :\n",
        "                  S1meanrefA1_803 .append(S1RGB_imgA1B2_3[i][j])\n",
        "                if 1770<i<1880 and 2015<j<2145 :\n",
        "                  S1meanB2_103 .append(S1RGB_imgA1B2_3[i][j])  \n",
        "S1meanrefA1_803  = np.array(S1meanrefA1_803 )\n",
        "S1meanB2_103  = np.array(S1meanB2_103 )\n",
        "\n",
        "S1rgbrefA1_803  = list()\n",
        "S1rgbB2_103  = list()\n",
        "for i in range(3):\n",
        "    S1rgbrefA1_803 .append(S1meanrefA1_803 [:,i].mean())\n",
        "    S1rgbB2_103 .append(S1meanB2_103 [:,i].mean())"
      ],
      "execution_count": 715,
      "outputs": []
    },
    {
      "cell_type": "code",
      "metadata": {
        "id": "yl2iPvWgOD7S"
      },
      "source": [
        "S1meanrefA1_903  = list()\n",
        "S1meanB3_103  = list()\n",
        "for i in range(S1RGB_imgA1B3_3.shape[0]): \n",
        "     for j in range(S1RGB_imgA1B3_3.shape[1]): \n",
        "                if 1769<i<1881 and 2019<j<2131 :\n",
        "                  S1meanrefA1_903 .append(S1RGB_imgA1B3_3[i][j])\n",
        "                if 1770<i<1880 and 2015<j<2145 :\n",
        "                  S1meanB3_103 .append(S1RGB_imgA1B3_3[i][j])  \n",
        "S1meanrefA1_903  = np.array(S1meanrefA1_903 )\n",
        "S1meanB3_103  = np.array(S1meanB3_103 )\n",
        "\n",
        "S1rgbrefA1_903  = list()\n",
        "S1rgbB3_103  = list()\n",
        "for i in range(3):\n",
        "    S1rgbrefA1_903 .append(S1meanrefA1_903 [:,i].mean())\n",
        "    S1rgbB3_103 .append(S1meanB3_103 [:,i].mean())"
      ],
      "execution_count": 716,
      "outputs": []
    },
    {
      "cell_type": "code",
      "metadata": {
        "id": "wHIew2X0OD7T"
      },
      "source": [
        "S1meanrefA1_1003  = list()\n",
        "S1meanB4_103  = list()\n",
        "for i in range(S1RGB_imgA1B4_3.shape[0]): \n",
        "     for j in range(S1RGB_imgA1B4_3.shape[1]): \n",
        "                if 1769<i<1881 and 2019<j<2131 :\n",
        "                  S1meanrefA1_1003 .append(S1RGB_imgA1B4_3[i][j])\n",
        "                if 1770<i<1880 and 2015<j<2145 :\n",
        "                  S1meanB4_103 .append(S1RGB_imgA1B4_3[i][j])  \n",
        "S1meanrefA1_1003  = np.array(S1meanrefA1_1003 )\n",
        "S1meanB4_103  = np.array(S1meanB4_103 )\n",
        "\n",
        "S1rgbrefA1_1003  = list()\n",
        "S1rgbB4_103  = list()\n",
        "for i in range(3):\n",
        "    S1rgbrefA1_1003 .append(S1meanrefA1_1003[:,i].mean())\n",
        "    S1rgbB4_103 .append(S1meanB4_103 [:,i].mean())"
      ],
      "execution_count": 717,
      "outputs": []
    },
    {
      "cell_type": "code",
      "metadata": {
        "id": "2QD9BQEbOD7U"
      },
      "source": [
        "S1meanrefA1_1103  = list()\n",
        "S1meanC1_103  = list()\n",
        "for i in range(S1RGB_imgA1C1_3.shape[0]): \n",
        "     for j in range(S1RGB_imgA1C1_3.shape[1]): \n",
        "                if 1769<i<1881 and 2019<j<2131 :\n",
        "                  S1meanrefA1_1103 .append(S1RGB_imgA1C1_3[i][j])\n",
        "                if 1770<i<1880 and 2015<j<2145 :\n",
        "                  S1meanC1_103 .append(S1RGB_imgA1C1_3[i][j])  \n",
        "S1meanrefA1_1103  = np.array(S1meanrefA1_1103 )\n",
        "S1meanC1_103  = np.array(S1meanC1_103 )\n",
        "\n",
        "S1rgbrefA1_1103  = list()\n",
        "S1rgbC1_103  = list()\n",
        "for i in range(3):\n",
        "    S1rgbrefA1_1103.append(S1meanrefA1_1103 [:,i].mean())\n",
        "    S1rgbC1_103.append(S1meanC1_103 [:,i].mean())"
      ],
      "execution_count": 718,
      "outputs": []
    },
    {
      "cell_type": "code",
      "metadata": {
        "id": "Ey1K7hV-OD7V"
      },
      "source": [
        "S1meanrefA1_1203  = list()\n",
        "S1meanC2_103 = list()\n",
        "for i in range(S1RGB_imgA1C2_3.shape[0]): \n",
        "     for j in range(S1RGB_imgA1C2_3.shape[1]): \n",
        "                if 1769<i<1881 and 2019<j<2131 :\n",
        "                  S1meanrefA1_1203.append(S1RGB_imgA1C2_3[i][j])\n",
        "                if 1770<i<1880 and 2015<j<2145 :\n",
        "                  S1meanC2_103.append(S1RGB_imgA1C2_3[i][j])  \n",
        "S1meanrefA1_1203 = np.array(S1meanrefA1_1203)\n",
        "S1meanC2_103 = np.array(S1meanC2_103)\n",
        "\n",
        "S1rgbrefA1_1203 = list()\n",
        "S1rgbC2_103 = list()\n",
        "for i in range(3):\n",
        "    S1rgbrefA1_1203.append(S1meanrefA1_1203[:,i].mean())\n",
        "    S1rgbC2_103.append(S1meanC2_103[:,i].mean())"
      ],
      "execution_count": 719,
      "outputs": []
    },
    {
      "cell_type": "code",
      "metadata": {
        "id": "Kwplx8sDOD7W"
      },
      "source": [
        "S1meanrefA1_1303 = list()\n",
        "S1meanC3_103 = list()\n",
        "for i in range(S1RGB_imgA1C3_3.shape[0]): \n",
        "     for j in range(S1RGB_imgA1C3_3.shape[1]): \n",
        "                if 1769<i<1881 and 2019<j<2131 :\n",
        "                  S1meanrefA1_1303.append(S1RGB_imgA1C3_3[i][j])\n",
        "                if 1770<i<1880 and 2015<j<2145 :\n",
        "                  S1meanC3_103.append(S1RGB_imgA1C3_3[i][j])  \n",
        "S1meanrefA1_1303 = np.array(S1meanrefA1_1303)\n",
        "S1meanC3_103 = np.array(S1meanC3_103)\n",
        "\n",
        "S1rgbrefA1_1303 = list()\n",
        "S1rgbC3_103 = list()\n",
        "for i in range(3):\n",
        "    S1rgbrefA1_1303.append(S1meanrefA1_1303[:,i].mean())\n",
        "    S1rgbC3_103.append(S1meanC3_103[:,i].mean())"
      ],
      "execution_count": 720,
      "outputs": []
    },
    {
      "cell_type": "code",
      "metadata": {
        "id": "YRT1ACVGOD7W"
      },
      "source": [
        "S1meanrefA1_1403 = list()\n",
        "S1meanC4_103 = list()\n",
        "for i in range(S1RGB_imgA1C4_3.shape[0]): \n",
        "     for j in range(S1RGB_imgA1C4_3.shape[1]): \n",
        "                if 1769<i<1881 and 2019<j<2131 :\n",
        "                  S1meanrefA1_1403.append(S1RGB_imgA1C4_3[i][j])\n",
        "                if 1770<i<1880 and 2015<j<2145 :\n",
        "                  S1meanC4_103.append(S1RGB_imgA1C4_3[i][j])  \n",
        "S1meanrefA1_1403 = np.array(S1meanrefA1_1403)\n",
        "S1meanC4_103 = np.array(S1meanC4_103)\n",
        "\n",
        "S1rgbrefA1_1403 = list()\n",
        "S1rgbC4_103 = list()\n",
        "for i in range(3):\n",
        "    S1rgbrefA1_1403.append(S1meanrefA1_1403[:,i].mean())\n",
        "    S1rgbC4_103.append(S1meanC4_103[:,i].mean())"
      ],
      "execution_count": 721,
      "outputs": []
    },
    {
      "cell_type": "code",
      "metadata": {
        "id": "T7eIAU-fOD7X"
      },
      "source": [
        "S1meanrefA1_1503 = list()\n",
        "S1meanD2_103 = list()\n",
        "for i in range(S1RGB_imgA1D2_3.shape[0]): \n",
        "     for j in range(S1RGB_imgA1D2_3.shape[1]): \n",
        "                if 1769<i<1881 and 2019<j<2131 :\n",
        "                  S1meanrefA1_1503.append(S1RGB_imgA1D2_3[i][j])\n",
        "                if 1770<i<1880 and 2015<j<2145 :\n",
        "                  S1meanD2_103.append(S1RGB_imgA1D2_3[i][j])  \n",
        "S1meanrefA1_1503 = np.array(S1meanrefA1_1503)\n",
        "S1meanD2_103 = np.array(S1meanD2_103)\n",
        "\n",
        "S1rgbrefA1_1503 = list()\n",
        "S1rgbD2_103 = list()\n",
        "for i in range(3):\n",
        "    S1rgbrefA1_1503.append(S1meanrefA1_1503[:,i].mean())\n",
        "    S1rgbD2_103.append(S1meanD2_103[:,i].mean())"
      ],
      "execution_count": 722,
      "outputs": []
    },
    {
      "cell_type": "code",
      "metadata": {
        "id": "DpA4wXbfOD7Y"
      },
      "source": [
        "S1meanrefA1_1603 = list()\n",
        "S1meanD3_103 = list()\n",
        "for i in range(S1RGB_imgA1D3_3.shape[0]): \n",
        "     for j in range(S1RGB_imgA1D3_3.shape[1]): \n",
        "                if 1769<i<1881 and 2019<j<2131 :\n",
        "                  S1meanrefA1_1603.append(S1RGB_imgA1D3_3[i][j])\n",
        "                if 1770<i<1880 and 2015<j<2145 :\n",
        "                  S1meanD3_103.append(S1RGB_imgA1D3_3[i][j])  \n",
        "S1meanrefA1_1603 = np.array(S1meanrefA1_1603)\n",
        "S1meanD3_103 = np.array(S1meanD3_103)\n",
        "\n",
        "S1rgbrefA1_1603 = list()\n",
        "S1rgbD3_103 = list()\n",
        "for i in range(3):\n",
        "    S1rgbrefA1_1603.append(S1meanrefA1_1603[:,i].mean())\n",
        "    S1rgbD3_103.append(S1meanD3_103[:,i].mean())"
      ],
      "execution_count": 723,
      "outputs": []
    },
    {
      "cell_type": "code",
      "metadata": {
        "id": "HYBlGYW-OD7Z"
      },
      "source": [
        "S1meanrefA1_1703= list()\n",
        "S1meanD4_103 = list()\n",
        "for i in range(S1RGB_imgA1D4_3.shape[0]): \n",
        "     for j in range(S1RGB_imgA1D4_3.shape[1]): \n",
        "                if 1769<i<1881 and 2019<j<2131 :\n",
        "                  S1meanrefA1_1703.append(S1RGB_imgA1D4_3[i][j])\n",
        "                if 1770<i<1880 and 2015<j<2145 :\n",
        "                  S1meanD4_103.append(S1RGB_imgA1D4_3[i][j])  \n",
        "S1meanrefA1_1703 = np.array(S1meanrefA1_1403)\n",
        "S1meanD4_103 = np.array(S1meanD4_103)\n",
        "\n",
        "S1rgbrefA1_1703 = list()\n",
        "S1rgbD4_103 = list()\n",
        "for i in range(3):\n",
        "    S1rgbrefA1_1703.append(S1meanrefA1_1703[:,i].mean())\n",
        "    S1rgbD4_103.append(S1meanD4_103[:,i].mean())"
      ],
      "execution_count": 724,
      "outputs": []
    },
    {
      "cell_type": "markdown",
      "metadata": {
        "id": "Y80UKTuT-XCU"
      },
      "source": [
        "###Img 4"
      ]
    },
    {
      "cell_type": "code",
      "metadata": {
        "id": "bn84P_fUOzpo",
        "colab": {
          "base_uri": "https://localhost:8080/"
        },
        "outputId": "70b56f27-beb6-4bec-9510-7c3f03a2f29d"
      },
      "source": [
        "S1meanrefA1_104 = list()\n",
        "S1meanA1_204 = list()\n",
        "for i in range(S1RGB_imgA1A1_4.shape[0]): #ให้ i รันตาม row หรือ shape[0] คือแถว มีทั้งหมด 4032 แถว ของภาพที่ปรับขนาดมาแล้ว\n",
        "     for j in range(S1RGB_imgA1A1_4.shape[1]): #ให้ j รันตาม colum มีทั้งหมด 3024 colum เช่น แถวที่ 1 เข้ามาให้รันครบ 3024colum\n",
        "                if 1769<i<1881 and 2019<j<2131 :\n",
        "                  S1meanrefA1_104.append(S1RGB_imgA1A1_4[i][j])\n",
        "                if 1770<i<1880 and 2015<j<2145 :\n",
        "                  S1meanA1_204.append(S1RGB_imgA1A1_4[i][j])  \n",
        "S1meanrefA1_104 = np.array(S1meanrefA1_104)\n",
        "S1meanA1_204 = np.array(S1meanA1_204)\n",
        "\n",
        "S1rgbrefA1_104 = list()\n",
        "S1rgbA1_204 = list()\n",
        "for i in range(3):\n",
        "    S1rgbrefA1_104.append(S1meanrefA1_104[:,i].mean())\n",
        "    S1rgbA1_204.append(S1meanA1_204[:,i].mean())\n",
        "S1rgbrefA1_104,S1rgbA1_204 "
      ],
      "execution_count": 725,
      "outputs": [
        {
          "output_type": "execute_result",
          "data": {
            "text/plain": [
              "([226.79538998457917, 198.09374239103968, 146.7702296891486],\n",
              " [227.48261147855771, 199.17480975748524, 148.23604295569305])"
            ]
          },
          "metadata": {},
          "execution_count": 725
        }
      ]
    },
    {
      "cell_type": "code",
      "metadata": {
        "id": "HvR90hw9OYMN"
      },
      "source": [
        "S1meanrefA1_304 = list()\n",
        "S1meanA2_104 = list()\n",
        "for i in range(S1RGB_imgA1A2_4.shape[0]): \n",
        "     for j in range(S1RGB_imgA1A2_4.shape[1]): \n",
        "                if 1769<i<1881 and 2019<j<2131 :\n",
        "                  S1meanrefA1_304.append(S1RGB_imgA1A2_4[i][j])\n",
        "                if 1770<i<1880 and 2015<j<2145 :\n",
        "                  S1meanA2_104.append(S1RGB_imgA1A2_4[i][j])  \n",
        "S1meanrefA1_304 = np.array(S1meanrefA1_304)\n",
        "S1meanA2_104 = np.array(S1meanA2_104)\n",
        "\n",
        "S1rgbrefA1_304 = list()\n",
        "S1rgbA2_104 = list()\n",
        "for i in range(3):\n",
        "    S1rgbrefA1_304.append(S1meanrefA1_304[:,i].mean())\n",
        "    S1rgbA2_104.append(S1meanA2_104[:,i].mean())"
      ],
      "execution_count": 726,
      "outputs": []
    },
    {
      "cell_type": "code",
      "metadata": {
        "id": "dXd8lOH0OYMN"
      },
      "source": [
        "S1meanrefA1_404 = list()\n",
        "S1meanA3_104 = list()\n",
        "for i in range(S1RGB_imgA1A3_4.shape[0]): \n",
        "     for j in range(S1RGB_imgA1A3_4.shape[1]): \n",
        "                if 1769<i<1881 and 2019<j<2131 :\n",
        "                  S1meanrefA1_404.append(S1RGB_imgA1A3_4[i][j])\n",
        "                if 1770<i<1880 and 2015<j<2145 :\n",
        "                  S1meanA3_104.append(S1RGB_imgA1A3_4[i][j])  \n",
        "S1meanrefA1_404 = np.array(S1meanrefA1_404)\n",
        "S1meanA3_104 = np.array(S1meanA3_104)\n",
        "\n",
        "S1rgbrefA1_404 = list()\n",
        "S1rgbA3_104 = list()\n",
        "for i in range(3):\n",
        "    S1rgbrefA1_404.append(S1meanrefA1_404[:,i].mean())\n",
        "    S1rgbA3_104.append(S1meanA3_104[:,i].mean())"
      ],
      "execution_count": 727,
      "outputs": []
    },
    {
      "cell_type": "code",
      "metadata": {
        "id": "Vl4y00CXOYMO"
      },
      "source": [
        "S1meanrefA1_504 = list()\n",
        "S1meanA3_5104 = list()\n",
        "for i in range(S1RGB_imgA1A3_54.shape[0]): \n",
        "     for j in range(S1RGB_imgA1A3_54.shape[1]): \n",
        "                if 1769<i<1881 and 2019<j<2131 :\n",
        "                  S1meanrefA1_504.append(S1RGB_imgA1A3_54[i][j])\n",
        "                if 1770<i<1880 and 2015<j<2145 :\n",
        "                  S1meanA3_5104.append(S1RGB_imgA1A3_54[i][j])  \n",
        "S1meanrefA1_504 = np.array(S1meanrefA1_504)\n",
        "S1meanA3_5104 = np.array(S1meanA3_5104)\n",
        "\n",
        "S1rgbrefA1_504 = list()\n",
        "S1rgbA3_5104 = list()\n",
        "for i in range(3):\n",
        "    S1rgbrefA1_504.append(S1meanrefA1_504[:,i].mean())\n",
        "    S1rgbA3_5104.append(S1meanA3_5104[:,i].mean())"
      ],
      "execution_count": 728,
      "outputs": []
    },
    {
      "cell_type": "code",
      "metadata": {
        "id": "6oEuSutGOYMP"
      },
      "source": [
        "S1meanrefA1_604 = list()\n",
        "S1meanA4_104 = list()\n",
        "for i in range(S1RGB_imgA1A4_4.shape[0]): \n",
        "     for j in range(S1RGB_imgA1A4_4.shape[1]): \n",
        "                if 1769<i<1881 and 2019<j<2131 :\n",
        "                  S1meanrefA1_604.append(S1RGB_imgA1A4_4[i][j])\n",
        "                if 1770<i<1880 and 2015<j<2145 :\n",
        "                  S1meanA4_104.append(S1RGB_imgA1A4_4[i][j])  \n",
        "S1meanrefA1_604 = np.array(S1meanrefA1_604)\n",
        "S1meanA4_104 = np.array(S1meanA4_104)\n",
        "\n",
        "S1rgbrefA1_604 = list()\n",
        "S1rgbA4_104 = list()\n",
        "for i in range(3):\n",
        "    S1rgbrefA1_604.append(S1meanrefA1_604[:,i].mean())\n",
        "    S1rgbA4_104.append(S1meanA4_104[:,i].mean())"
      ],
      "execution_count": 729,
      "outputs": []
    },
    {
      "cell_type": "code",
      "metadata": {
        "id": "cSHA_FHAOYMP"
      },
      "source": [
        "S1meanrefA1_704 = list()\n",
        "S1meanB1_104 = list()\n",
        "for i in range(S1RGB_imgA1B1_4.shape[0]): \n",
        "     for j in range(S1RGB_imgA1B1_4.shape[1]): \n",
        "                if 1769<i<1881 and 2019<j<2131 :\n",
        "                  S1meanrefA1_704.append(S1RGB_imgA1B1_4[i][j])\n",
        "                if 1770<i<1880 and 2015<j<2145 :\n",
        "                  S1meanB1_104.append(S1RGB_imgA1B1_4[i][j])  \n",
        "S1meanrefA1_704 = np.array(S1meanrefA1_704)\n",
        "S1meanB1_104 = np.array(S1meanB1_104)\n",
        "\n",
        "S1rgbrefA1_704 = list()\n",
        "S1rgbB1_104 = list()\n",
        "for i in range(3):\n",
        "    S1rgbrefA1_704.append(S1meanrefA1_704[:,i].mean())\n",
        "    S1rgbB1_104.append(S1meanB1_104[:,i].mean())"
      ],
      "execution_count": 730,
      "outputs": []
    },
    {
      "cell_type": "code",
      "metadata": {
        "id": "t-4GZQBGOYMQ"
      },
      "source": [
        "S1meanrefA1_804 = list()\n",
        "S1meanB2_104 = list()\n",
        "for i in range(S1RGB_imgA1B2_4.shape[0]): \n",
        "     for j in range(S1RGB_imgA1B2_4.shape[1]): \n",
        "                if 1769<i<1881 and 2019<j<2131 :\n",
        "                  S1meanrefA1_804.append(S1RGB_imgA1B2_4[i][j])\n",
        "                if 1770<i<1880 and 2015<j<2145 :\n",
        "                  S1meanB2_104.append(S1RGB_imgA1B2_4[i][j])  \n",
        "S1meanrefA1_804 = np.array(S1meanrefA1_804)\n",
        "S1meanB2_104 = np.array(S1meanB2_104)\n",
        "\n",
        "S1rgbrefA1_804 = list()\n",
        "S1rgbB2_104 = list()\n",
        "for i in range(3):\n",
        "    S1rgbrefA1_804.append(S1meanrefA1_804[:,i].mean())\n",
        "    S1rgbB2_104.append(S1meanB2_104[:,i].mean())"
      ],
      "execution_count": 731,
      "outputs": []
    },
    {
      "cell_type": "code",
      "metadata": {
        "id": "ZCK-5klmOYMQ"
      },
      "source": [
        "S1meanrefA1_904 = list()\n",
        "S1meanB3_104 = list()\n",
        "for i in range(S1RGB_imgA1B3_4.shape[0]): \n",
        "     for j in range(S1RGB_imgA1B3_4.shape[1]): \n",
        "                if 1769<i<1881 and 2019<j<2131 :\n",
        "                  S1meanrefA1_904.append(S1RGB_imgA1B3_4[i][j])\n",
        "                if 1770<i<1880 and 2015<j<2145 :\n",
        "                  S1meanB3_104.append(S1RGB_imgA1B3_4[i][j])  \n",
        "S1meanrefA1_904 = np.array(S1meanrefA1_904)\n",
        "S1meanB3_104 = np.array(S1meanB3_104)\n",
        "\n",
        "S1rgbrefA1_904 = list()\n",
        "S1rgbB3_104 = list()\n",
        "for i in range(3):\n",
        "    S1rgbrefA1_904.append(S1meanrefA1_904[:,i].mean())\n",
        "    S1rgbB3_104.append(S1meanB3_104[:,i].mean())"
      ],
      "execution_count": 732,
      "outputs": []
    },
    {
      "cell_type": "code",
      "metadata": {
        "id": "qQDaQYu9OYMQ"
      },
      "source": [
        "S1meanrefA1_1004 = list()\n",
        "S1meanB4_104 = list()\n",
        "for i in range(S1RGB_imgA1B4_4.shape[0]): \n",
        "     for j in range(S1RGB_imgA1B4_4.shape[1]): \n",
        "                if 1769<i<1881 and 2019<j<2131 :\n",
        "                  S1meanrefA1_1004.append(S1RGB_imgA1B4_4[i][j])\n",
        "                if 1770<i<1880 and 2015<j<2145 :\n",
        "                  S1meanB4_104.append(S1RGB_imgA1B4_4[i][j])  \n",
        "S1meanrefA1_1004 = np.array(S1meanrefA1_1004)\n",
        "S1meanB4_104 = np.array(S1meanB4_104)\n",
        "\n",
        "S1rgbrefA1_1004 = list()\n",
        "S1rgbB4_104 = list()\n",
        "for i in range(3):\n",
        "    S1rgbrefA1_1004.append(S1meanrefA1_1004[:,i].mean())\n",
        "    S1rgbB4_104.append(S1meanB4_104[:,i].mean())"
      ],
      "execution_count": 733,
      "outputs": []
    },
    {
      "cell_type": "code",
      "metadata": {
        "id": "ewVZRrNNOYMR"
      },
      "source": [
        "S1meanrefA1_1104 = list()\n",
        "S1meanC1_104 = list()\n",
        "for i in range(S1RGB_imgA1C1_4.shape[0]): \n",
        "     for j in range(S1RGB_imgA1C1_4.shape[1]): \n",
        "                if 1769<i<1881 and 2019<j<2131 :\n",
        "                  S1meanrefA1_1104.append(S1RGB_imgA1C1_4[i][j])\n",
        "                if 1770<i<1880 and 2015<j<2145 :\n",
        "                  S1meanC1_104.append(S1RGB_imgA1C1_4[i][j])  \n",
        "S1meanrefA1_1104 = np.array(S1meanrefA1_1104)\n",
        "S1meanC1_104 = np.array(S1meanC1_104)\n",
        "\n",
        "S1rgbrefA1_1104 = list()\n",
        "S1rgbC1_104 = list()\n",
        "for i in range(3):\n",
        "    S1rgbrefA1_1104.append(S1meanrefA1_1104[:,i].mean())\n",
        "    S1rgbC1_104.append(S1meanC1_104[:,i].mean())"
      ],
      "execution_count": 734,
      "outputs": []
    },
    {
      "cell_type": "code",
      "metadata": {
        "id": "1fjC_EdYOYMR"
      },
      "source": [
        "S1meanrefA1_1204 = list()\n",
        "S1meanC2_104 = list()\n",
        "for i in range(S1RGB_imgA1C2_4.shape[0]): \n",
        "     for j in range(S1RGB_imgA1C2_4.shape[1]): \n",
        "                if 1769<i<1881 and 2019<j<2131 :\n",
        "                  S1meanrefA1_1204.append(S1RGB_imgA1C2_4[i][j])\n",
        "                if 1770<i<1880 and 2015<j<2145 :\n",
        "                  S1meanC2_104.append(S1RGB_imgA1C2_4[i][j])  \n",
        "S1meanrefA1_1204 = np.array(S1meanrefA1_1204)\n",
        "S1meanC2_104 = np.array(S1meanC2_104)\n",
        "\n",
        "S1rgbrefA1_1204 = list()\n",
        "S1rgbC2_104 = list()\n",
        "for i in range(3):\n",
        "    S1rgbrefA1_1204.append(S1meanrefA1_1204[:,i].mean())\n",
        "    S1rgbC2_104.append(S1meanC2_104[:,i].mean())"
      ],
      "execution_count": 735,
      "outputs": []
    },
    {
      "cell_type": "code",
      "metadata": {
        "id": "QvnG7iiVOYMR"
      },
      "source": [
        "S1meanrefA1_1304 = list()\n",
        "S1meanC3_104 = list()\n",
        "for i in range(S1RGB_imgA1C3_4.shape[0]): \n",
        "     for j in range(S1RGB_imgA1C3_4.shape[1]): \n",
        "                if 1769<i<1881 and 2019<j<2131 :\n",
        "                  S1meanrefA1_1304.append(S1RGB_imgA1C3_4[i][j])\n",
        "                if 1770<i<1880 and 2015<j<2145 :\n",
        "                  S1meanC3_104.append(S1RGB_imgA1C3_4[i][j])  \n",
        "S1meanrefA1_1304 = np.array(S1meanrefA1_1304)\n",
        "S1meanC3_104 = np.array(S1meanC3_104)\n",
        "\n",
        "S1rgbrefA1_1304 = list()\n",
        "S1rgbC3_104 = list()\n",
        "for i in range(3):\n",
        "    S1rgbrefA1_1304.append(S1meanrefA1_1304[:,i].mean())\n",
        "    S1rgbC3_104.append(S1meanC3_104[:,i].mean())"
      ],
      "execution_count": 736,
      "outputs": []
    },
    {
      "cell_type": "code",
      "metadata": {
        "id": "Ex49m5yGOYMS"
      },
      "source": [
        "S1meanrefA1_1404 = list()\n",
        "S1meanC4_104 = list()\n",
        "for i in range(S1RGB_imgA1C4_4.shape[0]): \n",
        "     for j in range(S1RGB_imgA1C4_4.shape[1]): \n",
        "                if 1769<i<1881 and 2019<j<2131 :\n",
        "                  S1meanrefA1_1404.append(S1RGB_imgA1C4_4[i][j])\n",
        "                if 1770<i<1880 and 2015<j<2145 :\n",
        "                  S1meanC4_104.append(S1RGB_imgA1C4_4[i][j])  \n",
        "S1meanrefA1_1404 = np.array(S1meanrefA1_1404)\n",
        "S1meanC4_104 = np.array(S1meanC4_104)\n",
        "\n",
        "S1rgbrefA1_1404 = list()\n",
        "S1rgbC4_104 = list()\n",
        "for i in range(3):\n",
        "    S1rgbrefA1_1404.append(S1meanrefA1_1404[:,i].mean())\n",
        "    S1rgbC4_104.append(S1meanC4_104[:,i].mean())"
      ],
      "execution_count": 737,
      "outputs": []
    },
    {
      "cell_type": "code",
      "metadata": {
        "id": "OSDdu6HCOYMS"
      },
      "source": [
        "S1meanrefA1_1504 = list()\n",
        "S1meanD2_104 = list()\n",
        "for i in range(S1RGB_imgA1D2_4.shape[0]): \n",
        "     for j in range(S1RGB_imgA1D2_4.shape[1]): \n",
        "                if 1769<i<1881 and 2019<j<2131 :\n",
        "                  S1meanrefA1_1504.append(S1RGB_imgA1D2_4[i][j])\n",
        "                if 1770<i<1880 and 2015<j<2145 :\n",
        "                  S1meanD2_104.append(S1RGB_imgA1D2_4[i][j])  \n",
        "S1meanrefA1_1504 = np.array(S1meanrefA1_1504)\n",
        "S1meanD2_104 = np.array(S1meanD2_104)\n",
        "\n",
        "S1rgbrefA1_1504 = list()\n",
        "S1rgbD2_104 = list()\n",
        "for i in range(3):\n",
        "    S1rgbrefA1_1504.append(S1meanrefA1_1504[:,i].mean())\n",
        "    S1rgbD2_104.append(S1meanD2_104[:,i].mean())"
      ],
      "execution_count": 738,
      "outputs": []
    },
    {
      "cell_type": "code",
      "metadata": {
        "id": "aXr6Kqt-OYMS"
      },
      "source": [
        "S1meanrefA1_1604 = list()\n",
        "S1meanD3_104 = list()\n",
        "for i in range(S1RGB_imgA1D3_4.shape[0]): \n",
        "     for j in range(S1RGB_imgA1D3_4.shape[1]): \n",
        "                if 1769<i<1881 and 2019<j<2131 :\n",
        "                  S1meanrefA1_1604.append(S1RGB_imgA1D3_4[i][j])\n",
        "                if 1770<i<1880 and 2015<j<2145 :\n",
        "                  S1meanD3_104.append(S1RGB_imgA1D3_4[i][j])  \n",
        "S1meanrefA1_1604 = np.array(S1meanrefA1_1604)\n",
        "S1meanD3_104 = np.array(S1meanD3_104)\n",
        "\n",
        "S1rgbrefA1_1604 = list()\n",
        "S1rgbD3_104 = list()\n",
        "for i in range(3):\n",
        "    S1rgbrefA1_1604.append(S1meanrefA1_1604[:,i].mean())\n",
        "    S1rgbD3_104.append(S1meanD3_104[:,i].mean())"
      ],
      "execution_count": 739,
      "outputs": []
    },
    {
      "cell_type": "code",
      "metadata": {
        "id": "6eck_A4OOYMT"
      },
      "source": [
        "S1meanrefA1_1704= list()\n",
        "S1meanD4_104 = list()\n",
        "for i in range(S1RGB_imgA1D4_4.shape[0]): \n",
        "     for j in range(S1RGB_imgA1D4_4.shape[1]): \n",
        "                if 1769<i<1881 and 2019<j<2131 :\n",
        "                  S1meanrefA1_1704.append(S1RGB_imgA1D4_4[i][j])\n",
        "                if 1770<i<1880 and 2015<j<2145 :\n",
        "                  S1meanD4_104.append(S1RGB_imgA1D4_4[i][j])  \n",
        "S1meanrefA1_1704 = np.array(S1meanrefA1_1404)\n",
        "S1meanD4_104 = np.array(S1meanD4_104)\n",
        "\n",
        "S1rgbrefA1_1704 = list()\n",
        "S1rgbD4_104 = list()\n",
        "for i in range(3):\n",
        "    S1rgbrefA1_1704.append(S1meanrefA1_1704[:,i].mean())\n",
        "    S1rgbD4_104.append(S1meanD4_104[:,i].mean())"
      ],
      "execution_count": 740,
      "outputs": []
    },
    {
      "cell_type": "markdown",
      "metadata": {
        "id": "yLQq-1FZ-XCV"
      },
      "source": [
        "###Img 5"
      ]
    },
    {
      "cell_type": "code",
      "metadata": {
        "id": "DKMpl6KPPIKP",
        "colab": {
          "base_uri": "https://localhost:8080/"
        },
        "outputId": "9b36bc12-43da-4dc4-b6e6-964186481198"
      },
      "source": [
        "S1meanrefA1_105 = list()\n",
        "S1meanA1_205 = list()\n",
        "for i in range(S1RGB_imgA1A1_5.shape[0]): #ให้ i รันตาม row หรือ shape[0] คือแถว มีทั้งหมด 4032 แถว ของภาพที่ปรับขนาดมาแล้ว\n",
        "     for j in range(S1RGB_imgA1A1_5.shape[1]): #ให้ j รันตาม colum มีทั้งหมด 3024 colum เช่น แถวที่ 1 เข้ามาให้รันครบ 3024colum\n",
        "                if 1769<i<1881 and 2019<j<2131 :\n",
        "                  S1meanrefA1_105.append(S1RGB_imgA1A1_5[i][j])\n",
        "                if 1770<i<1880 and 2015<j<2145 :\n",
        "                  S1meanA1_205.append(S1RGB_imgA1A1_5[i][j])  \n",
        "S1meanrefA1_105 = np.array(S1meanrefA1_105)\n",
        "S1meanA1_205 = np.array(S1meanA1_205)\n",
        "\n",
        "S1rgbrefA1_105 = list()\n",
        "S1rgbA1_205 = list()\n",
        "for i in range(3):\n",
        "    S1rgbrefA1_105.append(S1meanrefA1_105[:,i].mean())\n",
        "    S1rgbA1_205.append(S1meanA1_2[:,i].mean())\n",
        "S1rgbrefA1_105,S1rgbA1_205 "
      ],
      "execution_count": 741,
      "outputs": [
        {
          "output_type": "execute_result",
          "data": {
            "text/plain": [
              "([233.25046668289912, 209.56018180342505, 164.3003814625436],\n",
              " [241.85339614942316, 217.89520347219647, 161.51300218867084])"
            ]
          },
          "metadata": {},
          "execution_count": 741
        }
      ]
    },
    {
      "cell_type": "code",
      "metadata": {
        "id": "kGGu65MbPIKQ"
      },
      "source": [
        "S1meanrefA1_305 = list()\n",
        "S1meanA2_105 = list()\n",
        "for i in range(S1RGB_imgA1A2_5.shape[0]): \n",
        "     for j in range(S1RGB_imgA1A2_5.shape[1]): \n",
        "                if 1769<i<1881 and 2019<j<2131 :\n",
        "                  S1meanrefA1_305.append(S1RGB_imgA1A2_5[i][j])\n",
        "                if 1770<i<1880 and 2015<j<2145 :\n",
        "                  S1meanA2_105.append(S1RGB_imgA1A2_5[i][j])  \n",
        "S1meanrefA1_305 = np.array(S1meanrefA1_305 )\n",
        "S1meanA2_105 = np.array(S1meanA2_105 )\n",
        "\n",
        "S1rgbrefA1_305 = list()\n",
        "S1rgbA2_105  = list()\n",
        "for i in range(3):\n",
        "    S1rgbrefA1_305 .append(S1meanrefA1_305 [:,i].mean())\n",
        "    S1rgbA2_105 .append(S1meanA2_105 [:,i].mean())"
      ],
      "execution_count": 742,
      "outputs": []
    },
    {
      "cell_type": "code",
      "metadata": {
        "id": "0Ls4I6iWPIKR"
      },
      "source": [
        "S1meanrefA1_405  = list()\n",
        "S1meanA3_105  = list()\n",
        "for i in range(S1RGB_imgA1A3_5.shape[0]): \n",
        "     for j in range(S1RGB_imgA1A3_5.shape[1]): \n",
        "                if 1769<i<1881 and 2019<j<2131 :\n",
        "                  S1meanrefA1_405 .append(S1RGB_imgA1A3_5[i][j])\n",
        "                if 1770<i<1880 and 2015<j<2145 :\n",
        "                  S1meanA3_105 .append(S1RGB_imgA1A3_5[i][j])  \n",
        "S1meanrefA1_405 = np.array(S1meanrefA1_405)\n",
        "S1meanA3_105  = np.array(S1meanA3_105 )\n",
        "\n",
        "S1rgbrefA1_405  = list()\n",
        "S1rgbA3_105  = list()\n",
        "for i in range(3):\n",
        "    S1rgbrefA1_405 .append(S1meanrefA1_405 [:,i].mean())\n",
        "    S1rgbA3_105 .append(S1meanA3_105 [:,i].mean())"
      ],
      "execution_count": 743,
      "outputs": []
    },
    {
      "cell_type": "code",
      "metadata": {
        "id": "k3UxCX2fPIKT"
      },
      "source": [
        "S1meanrefA1_505  = list()\n",
        "S1meanA3_5105  = list()\n",
        "for i in range(S1RGB_imgA1A3_55.shape[0]): \n",
        "     for j in range(S1RGB_imgA1A3_55.shape[1]): \n",
        "                if 1769<i<1881 and 2019<j<2131 :\n",
        "                  S1meanrefA1_505 .append(S1RGB_imgA1A3_55[i][j])\n",
        "                if 1770<i<1880 and 2015<j<2145 :\n",
        "                  S1meanA3_5105 .append(S1RGB_imgA1A3_55[i][j])  \n",
        "S1meanrefA1_505  = np.array(S1meanrefA1_5)\n",
        "S1meanA3_5105  = np.array(S1meanA3_51)\n",
        "\n",
        "S1rgbrefA1_505  = list()\n",
        "S1rgbA3_5105  = list()\n",
        "for i in range(3):\n",
        "    S1rgbrefA1_505 .append(S1meanrefA1_505 [:,i].mean())\n",
        "    S1rgbA3_5105 .append(S1meanA3_5105 [:,i].mean())"
      ],
      "execution_count": 744,
      "outputs": []
    },
    {
      "cell_type": "code",
      "metadata": {
        "id": "j-VsfMjOPIKV"
      },
      "source": [
        "S1meanrefA1_605  = list()\n",
        "S1meanA4_105  = list()\n",
        "for i in range(S1RGB_imgA1A4_5.shape[0]): \n",
        "     for j in range(S1RGB_imgA1A4_5.shape[1]): \n",
        "                if 1769<i<1881 and 2019<j<2131 :\n",
        "                  S1meanrefA1_605 .append(S1RGB_imgA1A4_5[i][j])\n",
        "                if 1770<i<1880 and 2015<j<2145 :\n",
        "                  S1meanA4_105 .append(S1RGB_imgA1A4_5[i][j])  \n",
        "S1meanrefA1_605 = np.array(S1meanrefA1_6)\n",
        "S1meanA4_105 = np.array(S1meanA4_1)\n",
        "\n",
        "S1rgbrefA1_605 = list()\n",
        "S1rgbA4_105 = list()\n",
        "for i in range(3):\n",
        "    S1rgbrefA1_605.append(S1meanrefA1_605[:,i].mean())\n",
        "    S1rgbA4_105.append(S1meanA4_105[:,i].mean())"
      ],
      "execution_count": 745,
      "outputs": []
    },
    {
      "cell_type": "code",
      "metadata": {
        "id": "1ud_OvLDPIKV"
      },
      "source": [
        "S1meanrefA1_705 = list()\n",
        "S1meanB1_105 = list()\n",
        "for i in range(S1RGB_imgA1B1_5.shape[0]): \n",
        "     for j in range(S1RGB_imgA1B1_5.shape[1]): \n",
        "                if 1769<i<1881 and 2019<j<2131 :\n",
        "                  S1meanrefA1_705.append(S1RGB_imgA1B1_5[i][j])\n",
        "                if 1770<i<1880 and 2015<j<2145 :\n",
        "                  S1meanB1_105.append(S1RGB_imgA1B1_5[i][j])  \n",
        "S1meanrefA1_705 = np.array(S1meanrefA1_705)\n",
        "S1meanB1_105 = np.array(S1meanB1_105)\n",
        "\n",
        "S1rgbrefA1_705 = list()\n",
        "S1rgbB1_105 = list()\n",
        "for i in range(3):\n",
        "    S1rgbrefA1_705.append(S1meanrefA1_705[:,i].mean())\n",
        "    S1rgbB1_105.append(S1meanB1_105[:,i].mean())"
      ],
      "execution_count": 746,
      "outputs": []
    },
    {
      "cell_type": "code",
      "metadata": {
        "id": "EaD2_t-7PIKW"
      },
      "source": [
        "S1meanrefA1_805 = list()\n",
        "S1meanB2_105 = list()\n",
        "for i in range(S1RGB_imgA1B2_5.shape[0]): \n",
        "     for j in range(S1RGB_imgA1B2_5.shape[1]): \n",
        "                if 1769<i<1881 and 2019<j<2131 :\n",
        "                  S1meanrefA1_805.append(S1RGB_imgA1B2_5[i][j])\n",
        "                if 1770<i<1880 and 2015<j<2145 :\n",
        "                  S1meanB2_105.append(S1RGB_imgA1B2_5[i][j])  \n",
        "S1meanrefA1_805 = np.array(S1meanrefA1_8)\n",
        "S1meanB2_105 = np.array(S1meanB2_1)\n",
        "\n",
        "S1rgbrefA1_805 = list()\n",
        "S1rgbB2_105 = list()\n",
        "for i in range(3):\n",
        "    S1rgbrefA1_805.append(S1meanrefA1_805[:,i].mean())\n",
        "    S1rgbB2_105.append(S1meanB2_105[:,i].mean())"
      ],
      "execution_count": 747,
      "outputs": []
    },
    {
      "cell_type": "code",
      "metadata": {
        "id": "WvVWR0mlPIKW"
      },
      "source": [
        "S1meanrefA1_905 = list()\n",
        "S1meanB3_105 = list()\n",
        "for i in range(S1RGB_imgA1B3_5.shape[0]): \n",
        "     for j in range(S1RGB_imgA1B3_5.shape[1]): \n",
        "                if 1769<i<1881 and 2019<j<2131 :\n",
        "                  S1meanrefA1_905.append(S1RGB_imgA1B3_5[i][j])\n",
        "                if 1770<i<1880 and 2015<j<2145 :\n",
        "                  S1meanB3_105.append(S1RGB_imgA1B3_5[i][j])  \n",
        "S1meanrefA1_905 = np.array(S1meanrefA1_905)\n",
        "S1meanB3_105 = np.array(S1meanB3_105)\n",
        "\n",
        "S1rgbrefA1_905 = list()\n",
        "S1rgbB3_105 = list()\n",
        "for i in range(3):\n",
        "    S1rgbrefA1_905.append(S1meanrefA1_905[:,i].mean())\n",
        "    S1rgbB3_105.append(S1meanB3_105[:,i].mean())"
      ],
      "execution_count": 748,
      "outputs": []
    },
    {
      "cell_type": "code",
      "metadata": {
        "id": "qAzCAafMPIKX"
      },
      "source": [
        "S1meanrefA1_1005 = list()\n",
        "S1meanB4_105 = list()\n",
        "for i in range(S1RGB_imgA1B4_5.shape[0]): \n",
        "     for j in range(S1RGB_imgA1B4_5.shape[1]): \n",
        "                if 1769<i<1881 and 2019<j<2131 :\n",
        "                  S1meanrefA1_1005.append(S1RGB_imgA1B4_5[i][j])\n",
        "                if 1770<i<1880 and 2015<j<2145 :\n",
        "                  S1meanB4_105.append(S1RGB_imgA1B4_5[i][j])  \n",
        "S1meanrefA1_1005 = np.array(S1meanrefA1_10)\n",
        "S1meanB4_105 = np.array(S1meanB4_1)\n",
        "\n",
        "S1rgbrefA1_1005 = list()\n",
        "S1rgbB4_105 = list()\n",
        "for i in range(3):\n",
        "    S1rgbrefA1_1005.append(S1meanrefA1_1005[:,i].mean())\n",
        "    S1rgbB4_105.append(S1meanB4_105[:,i].mean())"
      ],
      "execution_count": 749,
      "outputs": []
    },
    {
      "cell_type": "code",
      "metadata": {
        "id": "oIFyW6HKPIKX"
      },
      "source": [
        "S1meanrefA1_1105 = list()\n",
        "S1meanC1_105 = list()\n",
        "for i in range(S1RGB_imgA1C1_5.shape[0]): \n",
        "     for j in range(S1RGB_imgA1C1_5.shape[1]): \n",
        "                if 1769<i<1881 and 2019<j<2131 :\n",
        "                  S1meanrefA1_1105.append(S1RGB_imgA1C1_5[i][j])\n",
        "                if 1770<i<1880 and 2015<j<2145 :\n",
        "                  S1meanC1_105.append(S1RGB_imgA1C1_5[i][j])  \n",
        "S1meanrefA1_1105 = np.array(S1meanrefA1_1105)\n",
        "S1meanC1_105 = np.array(S1meanC1_105)\n",
        "\n",
        "S1rgbrefA1_1105 = list()\n",
        "S1rgbC1_105 = list()\n",
        "for i in range(3):\n",
        "    S1rgbrefA1_1105.append(S1meanrefA1_1105[:,i].mean())\n",
        "    S1rgbC1_105.append(S1meanC1_105[:,i].mean())"
      ],
      "execution_count": 750,
      "outputs": []
    },
    {
      "cell_type": "code",
      "metadata": {
        "id": "yOsgRrwFPIKY"
      },
      "source": [
        "S1meanrefA1_1205 = list()\n",
        "S1meanC2_105 = list()\n",
        "for i in range(S1RGB_imgA1C2_5.shape[0]): \n",
        "     for j in range(S1RGB_imgA1C2_5.shape[1]): \n",
        "                if 1769<i<1881 and 2019<j<2131 :\n",
        "                  S1meanrefA1_1205.append(S1RGB_imgA1C2_5[i][j])\n",
        "                if 1770<i<1880 and 2015<j<2145 :\n",
        "                  S1meanC2_105.append(S1RGB_imgA1C2_5[i][j])  \n",
        "S1meanrefA1_1205 = np.array(S1meanrefA1_1205)\n",
        "S1meanC2_105 = np.array(S1meanC2_105)\n",
        "\n",
        "S1rgbrefA1_1205 = list()\n",
        "S1rgbC2_105 = list()\n",
        "for i in range(3):\n",
        "    S1rgbrefA1_1205.append(S1meanrefA1_1205[:,i].mean())\n",
        "    S1rgbC2_105.append(S1meanC2_105[:,i].mean())"
      ],
      "execution_count": 751,
      "outputs": []
    },
    {
      "cell_type": "code",
      "metadata": {
        "id": "iWWRMtj7PIKY"
      },
      "source": [
        "S1meanrefA1_1305 = list()\n",
        "S1meanC3_105 = list()\n",
        "for i in range(S1RGB_imgA1C3_5.shape[0]): \n",
        "     for j in range(S1RGB_imgA1C3_5.shape[1]): \n",
        "                if 1769<i<1881 and 2019<j<2131 :\n",
        "                  S1meanrefA1_1305.append(S1RGB_imgA1C3_5[i][j])\n",
        "                if 1770<i<1880 and 2015<j<2145 :\n",
        "                  S1meanC3_105.append(S1RGB_imgA1C3_5[i][j])  \n",
        "S1meanrefA1_1305 = np.array(S1meanrefA1_13)\n",
        "S1meanC3_105 = np.array(S1meanC3_1)\n",
        "\n",
        "S1rgbrefA1_1305 = list()\n",
        "S1rgbC3_105 = list()\n",
        "for i in range(3):\n",
        "    S1rgbrefA1_1305.append(S1meanrefA1_1305[:,i].mean())\n",
        "    S1rgbC3_105.append(S1meanC3_105[:,i].mean())"
      ],
      "execution_count": 752,
      "outputs": []
    },
    {
      "cell_type": "code",
      "metadata": {
        "id": "RUKUTXzPPIKY"
      },
      "source": [
        "S1meanrefA1_1405 = list()\n",
        "S1meanC4_105 = list()\n",
        "for i in range(S1RGB_imgA1C4_5.shape[0]): \n",
        "     for j in range(S1RGB_imgA1C4_5.shape[1]): \n",
        "                if 1769<i<1881 and 2019<j<2131 :\n",
        "                  S1meanrefA1_1405.append(S1RGB_imgA1C4_5[i][j])\n",
        "                if 1770<i<1880 and 2015<j<2145 :\n",
        "                  S1meanC4_105.append(S1RGB_imgA1C4_5[i][j])  \n",
        "S1meanrefA1_1405 = np.array(S1meanrefA1_1405)\n",
        "S1meanC4_105 = np.array(S1meanC4_105)\n",
        "\n",
        "S1rgbrefA1_1405 = list()\n",
        "S1rgbC4_105 = list()\n",
        "for i in range(3):\n",
        "    S1rgbrefA1_1405.append(S1meanrefA1_1405[:,i].mean())\n",
        "    S1rgbC4_105.append(S1meanC4_105[:,i].mean())"
      ],
      "execution_count": 753,
      "outputs": []
    },
    {
      "cell_type": "code",
      "metadata": {
        "id": "ouvNr9pOPIKZ"
      },
      "source": [
        "S1meanrefA1_1505 = list()\n",
        "S1meanD2_105 = list()\n",
        "for i in range(S1RGB_imgA1D2_5.shape[0]): \n",
        "     for j in range(S1RGB_imgA1D2_5.shape[1]): \n",
        "                if 1769<i<1881 and 2019<j<2131 :\n",
        "                  S1meanrefA1_1505.append(S1RGB_imgA1D2_5[i][j])\n",
        "                if 1770<i<1880 and 2015<j<2145 :\n",
        "                  S1meanD2_105.append(S1RGB_imgA1D2_5[i][j])  \n",
        "S1meanrefA1_1505 = np.array(S1meanrefA1_15)\n",
        "S1meanD2_105 = np.array(S1meanD2_1)\n",
        "\n",
        "S1rgbrefA1_1505 = list()\n",
        "S1rgbD2_105 = list()\n",
        "for i in range(3):\n",
        "    S1rgbrefA1_1505.append(S1meanrefA1_1505[:,i].mean())\n",
        "    S1rgbD2_105.append(S1meanD2_105[:,i].mean())"
      ],
      "execution_count": 754,
      "outputs": []
    },
    {
      "cell_type": "code",
      "metadata": {
        "id": "3jNYetAuPIKZ"
      },
      "source": [
        "S1meanrefA1_1605 = list()\n",
        "S1meanD3_105 = list()\n",
        "for i in range(S1RGB_imgA1D3_5.shape[0]): \n",
        "     for j in range(S1RGB_imgA1D3_5.shape[1]): \n",
        "                if 1769<i<1881 and 2019<j<2131 :\n",
        "                  S1meanrefA1_1605.append(S1RGB_imgA1D3_5[i][j])\n",
        "                if 1770<i<1880 and 2015<j<2145 :\n",
        "                  S1meanD3_105.append(S1RGB_imgA1D3_5[i][j])  \n",
        "S1meanrefA1_1605 = np.array(S1meanrefA1_1605)\n",
        "S1meanD3_105 = np.array(S1meanD3_105)\n",
        "\n",
        "S1rgbrefA1_1605 = list()\n",
        "S1rgbD3_105 = list()\n",
        "for i in range(3):\n",
        "    S1rgbrefA1_1605.append(S1meanrefA1_1605[:,i].mean())\n",
        "    S1rgbD3_105.append(S1meanD3_105[:,i].mean())"
      ],
      "execution_count": 755,
      "outputs": []
    },
    {
      "cell_type": "code",
      "metadata": {
        "id": "n0HkYyGGPIKZ"
      },
      "source": [
        "S1meanrefA1_1705= list()\n",
        "S1meanD4_105 = list()\n",
        "for i in range(S1RGB_imgA1D4_5.shape[0]): \n",
        "     for j in range(S1RGB_imgA1D4_5.shape[1]): \n",
        "                if 1769<i<1881 and 2019<j<2131 :\n",
        "                  S1meanrefA1_1705.append(S1RGB_imgA1D4_5[i][j])\n",
        "                if 1770<i<1880 and 2015<j<2145 :\n",
        "                  S1meanD4_105.append(S1RGB_imgA1D4_5[i][j])  \n",
        "S1meanrefA1_1705 = np.array(S1meanrefA1_1405)\n",
        "S1meanD4_105 = np.array(S1meanD4_105)\n",
        "\n",
        "S1rgbrefA1_1705 = list()\n",
        "S1rgbD4_105 = list()\n",
        "for i in range(3):\n",
        "    S1rgbrefA1_1705.append(S1meanrefA1_1705[:,i].mean())\n",
        "    S1rgbD4_105.append(S1meanD4_105[:,i].mean())"
      ],
      "execution_count": 756,
      "outputs": []
    },
    {
      "cell_type": "markdown",
      "metadata": {
        "id": "7OGOajgpt7TD"
      },
      "source": [
        "###HSV"
      ]
    },
    {
      "cell_type": "code",
      "metadata": {
        "id": "gyewAPUYuQs5",
        "colab": {
          "base_uri": "https://localhost:8080/"
        },
        "outputId": "da4f9b8f-1383-44c8-a9ed-2c3334c19850"
      },
      "source": [
        "S1meanrefA1_1 = list()\n",
        "S1meanA1_2 = list()\n",
        "for i in range(S1HSV_imgA1A1_1.shape[0]): #ให้ i รันตาม row หรือ shape[0] คือแถว มีทั้งหมด 4032 แถว ของภาพที่ปรับขนาดมาแล้ว\n",
        "     for j in range(S1HSV_imgA1A1_1.shape[1]): #ให้ j รันตาม colum มีทั้งหมด 3024 colum เช่น แถวที่ 1 เข้ามาให้รันครบ 3024colum\n",
        "                if 1769<i<1881 and 2019<j<2131 :\n",
        "                  S1meanrefA1_1.append(S1HSV_imgA1A1_1[i][j])\n",
        "                if 1770<i<1880 and 2015<j<2145 :\n",
        "                  S1meanA1_2.append(S1HSV_imgA1A1_1[i][j])  \n",
        "S1meanrefA1_1 = np.array(S1meanrefA1_1)\n",
        "S1meanA1_2 = np.array(S1meanA1_2)\n",
        "\n",
        "S1hsvrefA1_1 = list()\n",
        "S1hsvA1_2 = list()\n",
        "for i in range(3):\n",
        "    S1hsvrefA1_1.append(S1meanrefA1_1[:,i].mean())\n",
        "    S1hsvA1_2.append(S1meanA1_2[:,i].mean())\n",
        "S1hsvrefA1_1,S1hsvA1_2 "
      ],
      "execution_count": 757,
      "outputs": [
        {
          "output_type": "execute_result",
          "data": {
            "text/plain": [
              "([21.078402727051376, 86.103076049022, 241.46546546546546],\n",
              " [21.091600881871845, 84.75833866723562, 241.79823625631178])"
            ]
          },
          "metadata": {},
          "execution_count": 757
        }
      ]
    },
    {
      "cell_type": "code",
      "metadata": {
        "id": "dK9vu9zRuQs7"
      },
      "source": [
        "S1meanrefA1_3 = list()\n",
        "S1meanA2_1 = list()\n",
        "for i in range(S1HSV_imgA1A2_1.shape[0]): \n",
        "     for j in range(S1HSV_imgA1A2_1.shape[1]): \n",
        "                if 1769<i<1881 and 2019<j<2131 :\n",
        "                  S1meanrefA1_3.append(S1HSV_imgA1A2_1[i][j])\n",
        "                if 1770<i<1880 and 2015<j<2145 :\n",
        "                  S1meanA2_1.append(S1HSV_imgA1A2_1[i][j])  \n",
        "S1meanrefA1_3 = np.array(S1meanrefA1_3)\n",
        "S1meanA2_1 = np.array(S1meanA2_1)\n",
        "\n",
        "S1hsvrefA1_3 = list()\n",
        "S1hsvA2_1 = list()\n",
        "for i in range(3):\n",
        "    S1hsvrefA1_3.append(S1meanrefA1_3[:,i].mean())\n",
        "    S1hsvA2_1.append(S1meanA2_1[:,i].mean())"
      ],
      "execution_count": 758,
      "outputs": []
    },
    {
      "cell_type": "code",
      "metadata": {
        "id": "HVnaWekuuQs8"
      },
      "source": [
        "S1meanrefA1_4 = list()\n",
        "S1meanA3_1 = list()\n",
        "for i in range(S1HSV_imgA1A3_1.shape[0]): \n",
        "     for j in range(S1HSV_imgA1A3_1.shape[1]): \n",
        "                if 1769<i<1881 and 2019<j<2131 :\n",
        "                  S1meanrefA1_4.append(S1HSV_imgA1A3_1[i][j])\n",
        "                if 1770<i<1880 and 2015<j<2145 :\n",
        "                  S1meanA3_1.append(S1HSV_imgA1A3_1[i][j])  \n",
        "S1meanrefA1_4 = np.array(S1meanrefA1_4)\n",
        "S1meanA3_1 = np.array(S1meanA3_1)\n",
        "\n",
        "S1hsvrefA1_4 = list()\n",
        "S1hsvA3_1 = list()\n",
        "for i in range(3):\n",
        "    S1hsvrefA1_4.append(S1meanrefA1_4[:,i].mean())\n",
        "    S1hsvA3_1.append(S1meanA3_1[:,i].mean())"
      ],
      "execution_count": 759,
      "outputs": []
    },
    {
      "cell_type": "code",
      "metadata": {
        "id": "-YCvbbWAuQs8"
      },
      "source": [
        "S1meanrefA1_5 = list()\n",
        "S1meanA3_51 = list()\n",
        "for i in range(S1HSV_imgA1A3_51.shape[0]): \n",
        "     for j in range(S1HSV_imgA1A3_51.shape[1]): \n",
        "                if 1769<i<1881 and 2019<j<2131 :\n",
        "                  S1meanrefA1_5.append(S1HSV_imgA1A3_51[i][j])\n",
        "                if 1770<i<1880 and 2015<j<2145 :\n",
        "                  S1meanA3_51.append(S1HSV_imgA1A3_51[i][j])  \n",
        "S1meanrefA1_5 = np.array(S1meanrefA1_5)\n",
        "S1meanA3_51 = np.array(S1meanA3_51)\n",
        "\n",
        "S1hsvrefA1_5 = list()\n",
        "S1hsvA3_51 = list()\n",
        "for i in range(3):\n",
        "    S1hsvrefA1_5.append(S1meanrefA1_5[:,i].mean())\n",
        "    S1hsvA3_51.append(S1meanA3_51[:,i].mean())"
      ],
      "execution_count": 760,
      "outputs": []
    },
    {
      "cell_type": "code",
      "metadata": {
        "id": "UvZxCzLSuQs9"
      },
      "source": [
        "S1meanrefA1_6 = list()\n",
        "S1meanA4_1 = list()\n",
        "for i in range(S1HSV_imgA1A4_1.shape[0]): \n",
        "     for j in range(S1HSV_imgA1A4_1.shape[1]): \n",
        "                if 1769<i<1881 and 2019<j<2131 :\n",
        "                  S1meanrefA1_6.append(S1HSV_imgA1A4_1[i][j])\n",
        "                if 1770<i<1880 and 2015<j<2145 :\n",
        "                  S1meanA4_1.append(S1HSV_imgA1A4_1[i][j])  \n",
        "S1meanrefA1_6 = np.array(S1meanrefA1_6)\n",
        "S1meanA4_1 = np.array(S1meanA4_1)\n",
        "\n",
        "S1hsvrefA1_6 = list()\n",
        "S1hsvA4_1 = list()\n",
        "for i in range(3):\n",
        "    S1hsvrefA1_6.append(S1meanrefA1_6[:,i].mean())\n",
        "    S1hsvA4_1.append(S1meanA4_1[:,i].mean())"
      ],
      "execution_count": 761,
      "outputs": []
    },
    {
      "cell_type": "code",
      "metadata": {
        "id": "_KgSdI0LuQs-"
      },
      "source": [
        "S1meanrefA1_7 = list()\n",
        "S1meanB1_1 = list()\n",
        "for i in range(S1HSV_imgA1B1_1.shape[0]): \n",
        "     for j in range(S1HSV_imgA1B1_1.shape[1]): \n",
        "                if 1769<i<1881 and 2019<j<2131 :\n",
        "                  S1meanrefA1_7.append(S1HSV_imgA1B1_1[i][j])\n",
        "                if 1770<i<1880 and 2015<j<2145 :\n",
        "                  S1meanB1_1.append(S1HSV_imgA1B1_1[i][j])  \n",
        "S1meanrefA1_7 = np.array(S1meanrefA1_7)\n",
        "S1meanB1_1 = np.array(S1meanB1_1)\n",
        "\n",
        "S1hsvrefA1_7 = list()\n",
        "S1hsvB1_1 = list()\n",
        "for i in range(3):\n",
        "    S1hsvrefA1_7.append(S1meanrefA1_7[:,i].mean())\n",
        "    S1hsvB1_1.append(S1meanB1_1[:,i].mean())"
      ],
      "execution_count": 762,
      "outputs": []
    },
    {
      "cell_type": "code",
      "metadata": {
        "id": "D73bQNbSuQs_"
      },
      "source": [
        "S1meanrefA1_8 = list()\n",
        "S1meanB2_1 = list()\n",
        "for i in range(S1HSV_imgA1B2_1.shape[0]): \n",
        "     for j in range(S1HSV_imgA1B2_1.shape[1]): \n",
        "                if 1769<i<1881 and 2019<j<2131 :\n",
        "                  S1meanrefA1_8.append(S1HSV_imgA1B2_1[i][j])\n",
        "                if 1770<i<1880 and 2015<j<2145 :\n",
        "                  S1meanB2_1.append(S1HSV_imgA1B2_1[i][j])  \n",
        "S1meanrefA1_8 = np.array(S1meanrefA1_8)\n",
        "S1meanB2_1 = np.array(S1meanB2_1)\n",
        "\n",
        "S1hsvrefA1_8 = list()\n",
        "S1hsvB2_1 = list()\n",
        "for i in range(3):\n",
        "    S1hsvrefA1_8.append(S1meanrefA1_8[:,i].mean())\n",
        "    S1hsvB2_1.append(S1meanB2_1[:,i].mean())"
      ],
      "execution_count": 763,
      "outputs": []
    },
    {
      "cell_type": "code",
      "metadata": {
        "id": "-2Um-Pq5uQtA"
      },
      "source": [
        "S1meanrefA1_9 = list()\n",
        "S1meanB3_1 = list()\n",
        "for i in range(S1HSV_imgA1B3_1.shape[0]): \n",
        "     for j in range(S1HSV_imgA1B3_1.shape[1]): \n",
        "                if 1769<i<1881 and 2019<j<2131 :\n",
        "                  S1meanrefA1_9.append(S1HSV_imgA1B3_1[i][j])\n",
        "                if 1770<i<1880 and 2015<j<2145 :\n",
        "                  S1meanB3_1.append(S1HSV_imgA1B3_1[i][j])  \n",
        "S1meanrefA1_9 = np.array(S1meanrefA1_9)\n",
        "S1meanB3_1 = np.array(S1meanB3_1)\n",
        "\n",
        "S1hsvrefA1_9 = list()\n",
        "S1hsvB3_1 = list()\n",
        "for i in range(3):\n",
        "    S1hsvrefA1_9.append(S1meanrefA1_9[:,i].mean())\n",
        "    S1hsvB3_1.append(S1meanB3_1[:,i].mean())"
      ],
      "execution_count": 764,
      "outputs": []
    },
    {
      "cell_type": "code",
      "metadata": {
        "id": "Bprrg-KQuQtB"
      },
      "source": [
        "S1meanrefA1_10 = list()\n",
        "S1meanB4_1 = list()\n",
        "for i in range(S1HSV_imgA1B4_1.shape[0]): \n",
        "     for j in range(S1HSV_imgA1B4_1.shape[1]): \n",
        "                if 1769<i<1881 and 2019<j<2131 :\n",
        "                  S1meanrefA1_10.append(S1HSV_imgA1B4_1[i][j])\n",
        "                if 1770<i<1880 and 2015<j<2145 :\n",
        "                  S1meanB4_1.append(S1HSV_imgA1B4_1[i][j])  \n",
        "S1meanrefA1_10 = np.array(S1meanrefA1_10)\n",
        "S1meanB4_1 = np.array(S1meanB4_1)\n",
        "\n",
        "S1hsvrefA1_10 = list()\n",
        "S1hsvB4_1 = list()\n",
        "for i in range(3):\n",
        "    S1hsvrefA1_10.append(S1meanrefA1_10[:,i].mean())\n",
        "    S1hsvB4_1.append(S1meanB4_1[:,i].mean())"
      ],
      "execution_count": 765,
      "outputs": []
    },
    {
      "cell_type": "code",
      "metadata": {
        "id": "tM9mAjB8uQtB"
      },
      "source": [
        "S1meanrefA1_11 = list()\n",
        "S1meanC1_1 = list()\n",
        "for i in range(S1HSV_imgA1C1_1.shape[0]): \n",
        "     for j in range(S1HSV_imgA1C1_1.shape[1]): \n",
        "                if 1769<i<1881 and 2019<j<2131 :\n",
        "                  S1meanrefA1_11.append(S1HSV_imgA1C1_1[i][j])\n",
        "                if 1770<i<1880 and 2015<j<2145 :\n",
        "                  S1meanC1_1.append(S1HSV_imgA1C1_1[i][j])  \n",
        "S1meanrefA1_11 = np.array(S1meanrefA1_11)\n",
        "S1meanC1_1 = np.array(S1meanC1_1)\n",
        "\n",
        "S1hsvrefA1_11 = list()\n",
        "S1hsvC1_1 = list()\n",
        "for i in range(3):\n",
        "    S1hsvrefA1_11.append(S1meanrefA1_11[:,i].mean())\n",
        "    S1hsvC1_1.append(S1meanC1_1[:,i].mean())"
      ],
      "execution_count": 766,
      "outputs": []
    },
    {
      "cell_type": "code",
      "metadata": {
        "id": "kDklKgouuQtC"
      },
      "source": [
        "S1meanrefA1_12 = list()\n",
        "S1meanC2_1 = list()\n",
        "for i in range(S1HSV_imgA1C2_1.shape[0]): \n",
        "     for j in range(S1HSV_imgA1C2_1.shape[1]): \n",
        "                if 1769<i<1881 and 2019<j<2131 :\n",
        "                  S1meanrefA1_12.append(S1HSV_imgA1C2_1[i][j])\n",
        "                if 1770<i<1880 and 2015<j<2145 :\n",
        "                  S1meanC2_1.append(S1HSV_imgA1C2_1[i][j])  \n",
        "S1meanrefA1_12 = np.array(S1meanrefA1_12)\n",
        "S1meanC2_1 = np.array(S1meanC2_1)\n",
        "\n",
        "S1hsvrefA1_12 = list()\n",
        "S1hsvC2_1 = list()\n",
        "for i in range(3):\n",
        "    S1hsvrefA1_12.append(S1meanrefA1_12[:,i].mean())\n",
        "    S1hsvC2_1.append(S1meanC2_1[:,i].mean())"
      ],
      "execution_count": 767,
      "outputs": []
    },
    {
      "cell_type": "code",
      "metadata": {
        "id": "y5Ptet2IuQtC"
      },
      "source": [
        "S1meanrefA1_13 = list()\n",
        "S1meanC3_1 = list()\n",
        "for i in range(S1HSV_imgA1C3_1.shape[0]): \n",
        "     for j in range(S1HSV_imgA1C3_1.shape[1]): \n",
        "                if 1769<i<1881 and 2019<j<2131 :\n",
        "                  S1meanrefA1_13.append(S1HSV_imgA1C3_1[i][j])\n",
        "                if 1770<i<1880 and 2015<j<2145 :\n",
        "                  S1meanC3_1.append(S1HSV_imgA1C3_1[i][j])  \n",
        "S1meanrefA1_13 = np.array(S1meanrefA1_13)\n",
        "S1meanC3_1 = np.array(S1meanC3_1)\n",
        "\n",
        "S1hsvrefA1_13 = list()\n",
        "S1hsvC3_1 = list()\n",
        "for i in range(3):\n",
        "    S1hsvrefA1_13.append(S1meanrefA1_13[:,i].mean())\n",
        "    S1hsvC3_1.append(S1meanC3_1[:,i].mean())"
      ],
      "execution_count": 768,
      "outputs": []
    },
    {
      "cell_type": "code",
      "metadata": {
        "id": "HukrHNNxuQtC"
      },
      "source": [
        "S1meanrefA1_14 = list()\n",
        "S1meanC4_1 = list()\n",
        "for i in range(S1HSV_imgA1C4_1.shape[0]): \n",
        "     for j in range(S1HSV_imgA1C4_1.shape[1]): \n",
        "                if 1769<i<1881 and 2019<j<2131 :\n",
        "                  S1meanrefA1_14.append(S1HSV_imgA1C4_1[i][j])\n",
        "                if 1770<i<1880 and 2015<j<2145 :\n",
        "                  S1meanC4_1.append(S1HSV_imgA1C4_1[i][j])  \n",
        "S1meanrefA1_14 = np.array(S1meanrefA1_14)\n",
        "S1meanC4_1 = np.array(S1meanC4_1)\n",
        "\n",
        "S1hsvrefA1_14 = list()\n",
        "S1hsvC4_1 = list()\n",
        "for i in range(3):\n",
        "    S1hsvrefA1_14.append(S1meanrefA1_14[:,i].mean())\n",
        "    S1hsvC4_1.append(S1meanC4_1[:,i].mean())"
      ],
      "execution_count": 769,
      "outputs": []
    },
    {
      "cell_type": "code",
      "metadata": {
        "id": "EEzN-mXZuQtD"
      },
      "source": [
        "S1meanrefA1_15 = list()\n",
        "S1meanD2_1 = list()\n",
        "for i in range(S1HSV_imgA1D2_1.shape[0]): \n",
        "     for j in range(S1HSV_imgA1D2_1.shape[1]): \n",
        "                if 1769<i<1881 and 2019<j<2131 :\n",
        "                  S1meanrefA1_15.append(S1HSV_imgA1D2_1[i][j])\n",
        "                if 1770<i<1880 and 2015<j<2145 :\n",
        "                  S1meanD2_1.append(S1HSV_imgA1D2_1[i][j])  \n",
        "S1meanrefA1_15 = np.array(S1meanrefA1_15)\n",
        "S1meanD2_1 = np.array(S1meanD2_1)\n",
        "\n",
        "S1hsvrefA1_15 = list()\n",
        "S1hsvD2_1 = list()\n",
        "for i in range(3):\n",
        "    S1hsvrefA1_15.append(S1meanrefA1_15[:,i].mean())\n",
        "    S1hsvD2_1.append(S1meanD2_1[:,i].mean())"
      ],
      "execution_count": 770,
      "outputs": []
    },
    {
      "cell_type": "code",
      "metadata": {
        "id": "ceqVIiUGuQtD"
      },
      "source": [
        "S1meanrefA1_16 = list()\n",
        "S1meanD3_1 = list()\n",
        "for i in range(S1HSV_imgA1D3_1.shape[0]): \n",
        "     for j in range(S1HSV_imgA1D3_1.shape[1]): \n",
        "                if 1769<i<1881 and 2019<j<2131 :\n",
        "                  S1meanrefA1_16.append(S1HSV_imgA1D3_1[i][j])\n",
        "                if 1770<i<1880 and 2015<j<2145 :\n",
        "                  S1meanD3_1.append(S1HSV_imgA1D3_1[i][j])  \n",
        "S1meanrefA1_16 = np.array(S1meanrefA1_16)\n",
        "S1meanD3_1 = np.array(S1meanD3_1)\n",
        "\n",
        "S1hsvrefA1_16 = list()\n",
        "S1hsvD3_1 = list()\n",
        "for i in range(3):\n",
        "    S1hsvrefA1_16.append(S1meanrefA1_16[:,i].mean())\n",
        "    S1hsvD3_1.append(S1meanD3_1[:,i].mean())"
      ],
      "execution_count": 771,
      "outputs": []
    },
    {
      "cell_type": "code",
      "metadata": {
        "id": "GEl4Fv4ouQtD"
      },
      "source": [
        "S1meanrefA1_17= list()\n",
        "S1meanD4_1 = list()\n",
        "for i in range(S1HSV_imgA1D4_1.shape[0]): \n",
        "     for j in range(S1HSV_imgA1D4_1.shape[1]): \n",
        "                if 1769<i<1881 and 2019<j<2131 :\n",
        "                  S1meanrefA1_17.append(S1HSV_imgA1D4_1[i][j])\n",
        "                if 1770<i<1880 and 2015<j<2145 :\n",
        "                  S1meanD4_1.append(S1HSV_imgA1D4_1[i][j])  \n",
        "S1meanrefA1_17 = np.array(S1meanrefA1_14)\n",
        "S1meanD4_1 = np.array(S1meanD4_1)\n",
        "\n",
        "S1hsvrefA1_17 = list()\n",
        "S1hsvD4_1 = list()\n",
        "for i in range(3):\n",
        "    S1hsvrefA1_17.append(S1meanrefA1_17[:,i].mean())\n",
        "    S1hsvD4_1.append(S1meanD4_1[:,i].mean())"
      ],
      "execution_count": 772,
      "outputs": []
    },
    {
      "cell_type": "markdown",
      "metadata": {
        "id": "fe9uE8W88Y1l"
      },
      "source": [
        "###Img 2"
      ]
    },
    {
      "cell_type": "code",
      "metadata": {
        "id": "Xm87A-FV-1IY",
        "colab": {
          "base_uri": "https://localhost:8080/"
        },
        "outputId": "58dcabec-8f19-4351-90d4-296a5e3a56a5"
      },
      "source": [
        "S1meanrefA1_102 = list()\n",
        "S1meanA1_202 = list()\n",
        "for i in range(S1HSV_imgA1A1_2.shape[0]): #ให้ i รันตาม row หรือ shape[0] คือแถว มีทั้งหมด 4032 แถว ของภาพที่ปรับขนาดมาแล้ว\n",
        "     for j in range(S1HSV_imgA1A1_2.shape[1]): #ให้ j รันตาม colum มีทั้งหมด 3024 colum เช่น แถวที่ 1 เข้ามาให้รันครบ 3024colum\n",
        "                if 1769<i<1881 and 2019<j<2131 :\n",
        "                  S1meanrefA1_102.append(S1HSV_imgA1A1_2[i][j])\n",
        "                if 1770<i<1880 and 2015<j<2145 :\n",
        "                  S1meanA1_202.append(S1HSV_imgA1A1_2[i][j])  \n",
        "S1meanrefA1_102= np.array(S1meanrefA1_102)\n",
        "S1meanA1_202 = np.array(S1meanA1_202)\n",
        "\n",
        "S1hsvrefA1_102 = list()\n",
        "S1hsvA1_202 = list()\n",
        "for i in range(3):\n",
        "    S1hsvrefA1_102.append(S1meanrefA1_1[:,i].mean())\n",
        "    S1hsvA1_202.append(S1meanA1_2[:,i].mean())\n",
        "S1hsvrefA1_102,S1hsvA1_202 "
      ],
      "execution_count": 773,
      "outputs": [
        {
          "output_type": "execute_result",
          "data": {
            "text/plain": [
              "([21.078402727051376, 86.103076049022, 241.46546546546546],\n",
              " [21.091600881871845, 84.75833866723562, 241.79823625631178])"
            ]
          },
          "metadata": {},
          "execution_count": 773
        }
      ]
    },
    {
      "cell_type": "code",
      "metadata": {
        "id": "rYLMn5SR-1IZ"
      },
      "source": [
        "S1meanrefA1_302 = list()\n",
        "S1meanA2_102 = list()\n",
        "for i in range(S1HSV_imgA1A2_2.shape[0]): \n",
        "     for j in range(S1HSV_imgA1A2_2.shape[1]): \n",
        "                if 1769<i<1881 and 2019<j<2131 :\n",
        "                  S1meanrefA1_302.append(S1HSV_imgA1A2_2[i][j])\n",
        "                if 1770<i<1880 and 2015<j<2145 :\n",
        "                  S1meanA2_102.append(S1HSV_imgA1A2_2[i][j])  \n",
        "S1meanrefA1_302 = np.array(S1meanrefA1_3)\n",
        "S1meanA2_102 = np.array(S1meanA2_1)\n",
        "\n",
        "S1hsvrefA1_302 = list()\n",
        "S1hsvA2_102 = list()\n",
        "for i in range(3):\n",
        "    S1hsvrefA1_302.append(S1meanrefA1_302[:,i].mean())\n",
        "    S1hsvA2_102.append(S1meanA2_102[:,i].mean())"
      ],
      "execution_count": 774,
      "outputs": []
    },
    {
      "cell_type": "code",
      "metadata": {
        "id": "A5BphPfF-1Ia"
      },
      "source": [
        "S1meanrefA1_402 = list()\n",
        "S1meanA3_102 = list()\n",
        "for i in range(S1HSV_imgA1A3_2.shape[0]): \n",
        "     for j in range(S1HSV_imgA1A3_2.shape[1]): \n",
        "                if 1769<i<1881 and 2019<j<2131 :\n",
        "                  S1meanrefA1_402.append(S1HSV_imgA1A3_2[i][j])\n",
        "                if 1770<i<1880 and 2015<j<2145 :\n",
        "                  S1meanA3_102.append(S1HSV_imgA1A3_2[i][j])  \n",
        "S1meanrefA1_402= np.array(S1meanrefA1_402)\n",
        "S1meanA3_102 = np.array(S1meanA3_102)\n",
        "\n",
        "S1hsvrefA1_402 = list()\n",
        "S1hsvA3_102 = list()\n",
        "for i in range(3):\n",
        "    S1hsvrefA1_402.append(S1meanrefA1_402[:,i].mean())\n",
        "    S1hsvA3_102.append(S1meanA3_102[:,i].mean())"
      ],
      "execution_count": 775,
      "outputs": []
    },
    {
      "cell_type": "code",
      "metadata": {
        "id": "DQ0nlZoK-1Ia"
      },
      "source": [
        "S1meanrefA1_502 = list()\n",
        "S1meanA3_5102 = list()\n",
        "for i in range(S1HSV_imgA1A3_52.shape[0]): \n",
        "     for j in range(S1HSV_imgA1A3_52.shape[1]): \n",
        "                if 1769<i<1881 and 2019<j<2131 :\n",
        "                  S1meanrefA1_502.append(S1HSV_imgA1A3_52[i][j])\n",
        "                if 1770<i<1880 and 2015<j<2145 :\n",
        "                  S1meanA3_5102.append(S1HSV_imgA1A3_52[i][j])  \n",
        "S1meanrefA1_502 = np.array(S1meanrefA1_502)\n",
        "S1meanA3_5102 = np.array(S1meanA3_5102)\n",
        "\n",
        "S1hsvrefA1_502 = list()\n",
        "S1hsvA3_5102 = list()\n",
        "for i in range(3):\n",
        "    S1hsvrefA1_502.append(S1meanrefA1_502[:,i].mean())\n",
        "    S1hsvA3_5102.append(S1meanA3_5102[:,i].mean())"
      ],
      "execution_count": 776,
      "outputs": []
    },
    {
      "cell_type": "code",
      "metadata": {
        "id": "gn9mbsac-1Ib"
      },
      "source": [
        "S1meanrefA1_602 = list()\n",
        "S1meanA4_102 = list()\n",
        "for i in range(S1HSV_imgA1A4_2.shape[0]): \n",
        "     for j in range(S1HSV_imgA1A4_2.shape[1]): \n",
        "                if 1769<i<1881 and 2019<j<2131 :\n",
        "                  S1meanrefA1_602.append(S1HSV_imgA1A4_2[i][j])\n",
        "                if 1770<i<1880 and 2015<j<2145 :\n",
        "                  S1meanA4_102.append(S1HSV_imgA1A4_2[i][j])  \n",
        "S1meanrefA1_602 = np.array(S1meanrefA1_602)\n",
        "S1meanA4_102 = np.array(S1meanA4_102)\n",
        "\n",
        "S1hsvrefA1_602 = list()\n",
        "S1hsvA4_102 = list()\n",
        "for i in range(3):\n",
        "    S1hsvrefA1_602.append(S1meanrefA1_602[:,i].mean())\n",
        "    S1hsvA4_102.append(S1meanA4_102[:,i].mean())"
      ],
      "execution_count": 777,
      "outputs": []
    },
    {
      "cell_type": "code",
      "metadata": {
        "id": "3NYWQq6O-1Ib"
      },
      "source": [
        "S1meanrefA1_702 = list()\n",
        "S1meanB1_102 = list()\n",
        "for i in range(S1HSV_imgA1B1_2.shape[0]): \n",
        "     for j in range(S1HSV_imgA1B1_2.shape[1]): \n",
        "                if 1769<i<1881 and 2019<j<2131 :\n",
        "                  S1meanrefA1_702.append(S1HSV_imgA1B1_2[i][j])\n",
        "                if 1770<i<1880 and 2015<j<2145 :\n",
        "                  S1meanB1_102.append(S1HSV_imgA1B1_2[i][j])  \n",
        "S1meanrefA1_702 = np.array(S1meanrefA1_702)\n",
        "S1meanB1_102 = np.array(S1meanB1_102)\n",
        "\n",
        "S1hsvrefA1_702 = list()\n",
        "S1hsvB1_102 = list()\n",
        "for i in range(3):\n",
        "    S1hsvrefA1_702.append(S1meanrefA1_702[:,i].mean())\n",
        "    S1hsvB1_102.append(S1meanB1_102[:,i].mean())"
      ],
      "execution_count": 778,
      "outputs": []
    },
    {
      "cell_type": "code",
      "metadata": {
        "id": "tG9prEea-1Ic"
      },
      "source": [
        "S1meanrefA1_802 = list()\n",
        "S1meanB2_102 = list()\n",
        "for i in range(S1HSV_imgA1B2_2.shape[0]): \n",
        "     for j in range(S1HSV_imgA1B2_2.shape[1]): \n",
        "                if 1769<i<1881 and 2019<j<2131 :\n",
        "                  S1meanrefA1_802.append(S1HSV_imgA1B2_2[i][j])\n",
        "                if 1770<i<1880 and 2015<j<2145 :\n",
        "                  S1meanB2_102.append(S1HSV_imgA1B2_2[i][j])  \n",
        "S1meanrefA1_802 = np.array(S1meanrefA1_802)\n",
        "S1meanB2_102 = np.array(S1meanB2_102)\n",
        "\n",
        "S1hsvrefA1_802 = list()\n",
        "S1hsvB2_102 = list()\n",
        "for i in range(3):\n",
        "    S1hsvrefA1_802.append(S1meanrefA1_802[:,i].mean())\n",
        "    S1hsvB2_102.append(S1meanB2_102[:,i].mean())"
      ],
      "execution_count": 779,
      "outputs": []
    },
    {
      "cell_type": "code",
      "metadata": {
        "id": "eGt2Tuln-1Ic"
      },
      "source": [
        "S1meanrefA1_902 = list()\n",
        "S1meanB3_102 = list()\n",
        "for i in range(S1HSV_imgA1B3_2.shape[0]): \n",
        "     for j in range(S1HSV_imgA1B3_2.shape[1]): \n",
        "                if 1769<i<1881 and 2019<j<2131 :\n",
        "                  S1meanrefA1_902.append(S1HSV_imgA1B3_2[i][j])\n",
        "                if 1770<i<1880 and 2015<j<2145 :\n",
        "                  S1meanB3_102.append(S1HSV_imgA1B3_2[i][j])  \n",
        "S1meanrefA1_902 = np.array(S1meanrefA1_902)\n",
        "S1meanB3_102 = np.array(S1meanB3_102)\n",
        "\n",
        "S1hsvrefA1_902 = list()\n",
        "S1hsvB3_102 = list()\n",
        "for i in range(3):\n",
        "    S1hsvrefA1_902.append(S1meanrefA1_902[:,i].mean())\n",
        "    S1hsvB3_102.append(S1meanB3_102[:,i].mean())"
      ],
      "execution_count": 780,
      "outputs": []
    },
    {
      "cell_type": "code",
      "metadata": {
        "id": "kkHmxLn6-1Id"
      },
      "source": [
        "S1meanrefA1_1002 = list()\n",
        "S1meanB4_102 = list()\n",
        "for i in range(S1HSV_imgA1B4_2.shape[0]): \n",
        "     for j in range(S1HSV_imgA1B4_2.shape[1]): \n",
        "                if 1769<i<1881 and 2019<j<2131 :\n",
        "                  S1meanrefA1_1002.append(S1HSV_imgA1B4_2[i][j])\n",
        "                if 1770<i<1880 and 2015<j<2145 :\n",
        "                  S1meanB4_102.append(S1HSV_imgA1B4_2[i][j])  \n",
        "S1meanrefA1_1002 = np.array(S1meanrefA1_1002)\n",
        "S1meanB4_102 = np.array(S1meanB4_102)\n",
        "\n",
        "S1hsvrefA1_1002 = list()\n",
        "S1hsvB4_102 = list()\n",
        "for i in range(3):\n",
        "    S1hsvrefA1_1002.append(S1meanrefA1_1002[:,i].mean())\n",
        "    S1hsvB4_102.append(S1meanB4_102[:,i].mean())"
      ],
      "execution_count": 781,
      "outputs": []
    },
    {
      "cell_type": "code",
      "metadata": {
        "id": "Lb7z9PnN-1Id"
      },
      "source": [
        "S1meanrefA1_1102 = list()\n",
        "S1meanC1_102 = list()\n",
        "for i in range(S1HSV_imgA1C1_2.shape[0]): \n",
        "     for j in range(S1HSV_imgA1C1_2.shape[1]): \n",
        "                if 1769<i<1881 and 2019<j<2131 :\n",
        "                  S1meanrefA1_1102.append(S1HSV_imgA1C1_2[i][j])\n",
        "                if 1770<i<1880 and 2015<j<2145 :\n",
        "                  S1meanC1_102.append(S1HSV_imgA1C1_2[i][j])  \n",
        "S1meanrefA1_1102 = np.array(S1meanrefA1_1102)\n",
        "S1meanC1_102= np.array(S1meanC1_102)\n",
        "\n",
        "S1hsvrefA1_1102 = list()\n",
        "S1hsvC1_102 = list()\n",
        "for i in range(3):\n",
        "    S1hsvrefA1_1102.append(S1meanrefA1_1102[:,i].mean())\n",
        "    S1hsvC1_102.append(S1meanC1_102[:,i].mean())"
      ],
      "execution_count": 782,
      "outputs": []
    },
    {
      "cell_type": "code",
      "metadata": {
        "id": "MAT7IIoE-1Id"
      },
      "source": [
        "S1meanrefA1_1202 = list()\n",
        "S1meanC2_102 = list()\n",
        "for i in range(S1HSV_imgA1C2_2.shape[0]): \n",
        "     for j in range(S1HSV_imgA1C2_2.shape[1]): \n",
        "                if 1769<i<1881 and 2019<j<2131 :\n",
        "                  S1meanrefA1_1202.append(S1HSV_imgA1C2_2[i][j])\n",
        "                if 1770<i<1880 and 2015<j<2145 :\n",
        "                  S1meanC2_102.append(S1HSV_imgA1C2_2[i][j])  \n",
        "S1meanrefA1_1202 = np.array(S1meanrefA1_1202)\n",
        "S1meanC2_102 = np.array(S1meanC2_102)\n",
        "\n",
        "S1hsvrefA1_1202 = list()\n",
        "S1hsvC2_102 = list()\n",
        "for i in range(3):\n",
        "    S1hsvrefA1_1202.append(S1meanrefA1_1202[:,i].mean())\n",
        "    S1hsvC2_102.append(S1meanC2_102[:,i].mean())"
      ],
      "execution_count": 783,
      "outputs": []
    },
    {
      "cell_type": "code",
      "metadata": {
        "id": "Md5vmNBm-1Ie"
      },
      "source": [
        "S1meanrefA1_1302 = list()\n",
        "S1meanC3_102 = list()\n",
        "for i in range(S1HSV_imgA1C3_2.shape[0]): \n",
        "     for j in range(S1HSV_imgA1C3_2.shape[1]): \n",
        "                if 1769<i<1881 and 2019<j<2131 :\n",
        "                  S1meanrefA1_1302.append(S1HSV_imgA1C3_2[i][j])\n",
        "                if 1770<i<1880 and 2015<j<2145 :\n",
        "                  S1meanC3_102.append(S1HSV_imgA1C3_2[i][j])  \n",
        "S1meanrefA1_1302 = np.array(S1meanrefA1_1302)\n",
        "S1meanC3_102 = np.array(S1meanC3_102)\n",
        "\n",
        "S1hsvrefA1_1302 = list()\n",
        "S1hsvC3_102 = list()\n",
        "for i in range(3):\n",
        "    S1hsvrefA1_1302.append(S1meanrefA1_1302[:,i].mean())\n",
        "    S1hsvC3_102.append(S1meanC3_102[:,i].mean())"
      ],
      "execution_count": 784,
      "outputs": []
    },
    {
      "cell_type": "code",
      "metadata": {
        "id": "VGFMiVDs-1Ie"
      },
      "source": [
        "S1meanrefA1_1402 = list()\n",
        "S1meanC4_102 = list()\n",
        "for i in range(S1HSV_imgA1C4_2.shape[0]): \n",
        "     for j in range(S1HSV_imgA1C4_2.shape[1]): \n",
        "                if 1769<i<1881 and 2019<j<2131 :\n",
        "                  S1meanrefA1_1402.append(S1HSV_imgA1C4_2[i][j])\n",
        "                if 1770<i<1880 and 2015<j<2145 :\n",
        "                  S1meanC4_102.append(S1HSV_imgA1C4_2[i][j])  \n",
        "S1meanrefA1_1402 = np.array(S1meanrefA1_1402)\n",
        "S1meanC4_102 = np.array(S1meanC4_102)\n",
        "\n",
        "S1hsvrefA1_1402 = list()\n",
        "S1hsvC4_102 = list()\n",
        "for i in range(3):\n",
        "    S1hsvrefA1_1402.append(S1meanrefA1_1402[:,i].mean())\n",
        "    S1hsvC4_102.append(S1meanC4_102[:,i].mean())"
      ],
      "execution_count": 785,
      "outputs": []
    },
    {
      "cell_type": "code",
      "metadata": {
        "id": "3u4rPyIU-1If"
      },
      "source": [
        "S1meanrefA1_1502 = list()\n",
        "S1meanD2_102 = list()\n",
        "for i in range(S1HSV_imgA1D2_2.shape[0]): \n",
        "     for j in range(S1HSV_imgA1D2_2.shape[1]): \n",
        "                if 1769<i<1881 and 2019<j<2131 :\n",
        "                  S1meanrefA1_1502.append(S1HSV_imgA1D2_2[i][j])\n",
        "                if 1770<i<1880 and 2015<j<2145 :\n",
        "                  S1meanD2_102.append(S1HSV_imgA1D2_2[i][j])  \n",
        "S1meanrefA1_1502 = np.array(S1meanrefA1_1502)\n",
        "S1meanD2_102 = np.array(S1meanD2_102)\n",
        "\n",
        "S1hsvrefA1_1502 = list()\n",
        "S1hsvD2_102 = list()\n",
        "for i in range(3):\n",
        "    S1hsvrefA1_1502.append(S1meanrefA1_1502[:,i].mean())\n",
        "    S1hsvD2_102.append(S1meanD2_102[:,i].mean())"
      ],
      "execution_count": 786,
      "outputs": []
    },
    {
      "cell_type": "code",
      "metadata": {
        "id": "ZqpY4tfP-1Ig"
      },
      "source": [
        "S1meanrefA1_1602 = list()\n",
        "S1meanD3_102 = list()\n",
        "for i in range(S1HSV_imgA1D3_2.shape[0]): \n",
        "     for j in range(S1HSV_imgA1D3_2.shape[1]): \n",
        "                if 1769<i<1881 and 2019<j<2131 :\n",
        "                  S1meanrefA1_1602.append(S1HSV_imgA1D3_2[i][j])\n",
        "                if 1770<i<1880 and 2015<j<2145 :\n",
        "                  S1meanD3_102.append(S1HSV_imgA1D3_2[i][j])  \n",
        "S1meanrefA1_1602 = np.array(S1meanrefA1_1602)\n",
        "S1meanD3_102 = np.array(S1meanD3_102)\n",
        "\n",
        "S1hsvrefA1_1602 = list()\n",
        "S1hsvD3_102 = list()\n",
        "for i in range(3):\n",
        "    S1hsvrefA1_1602.append(S1meanrefA1_1602[:,i].mean())\n",
        "    S1hsvD3_102.append(S1meanD3_102[:,i].mean())"
      ],
      "execution_count": 787,
      "outputs": []
    },
    {
      "cell_type": "code",
      "metadata": {
        "id": "Gg3OiTIE-1Ih"
      },
      "source": [
        "S1meanrefA1_1702= list()\n",
        "S1meanD4_102 = list()\n",
        "for i in range(S1HSV_imgA1D4_2.shape[0]): \n",
        "     for j in range(S1HSV_imgA1D4_2.shape[1]): \n",
        "                if 1769<i<1881 and 2019<j<2131 :\n",
        "                  S1meanrefA1_1702.append(S1HSV_imgA1D4_2[i][j])\n",
        "                if 1770<i<1880 and 2015<j<2145 :\n",
        "                  S1meanD4_102.append(S1HSV_imgA1D4_2[i][j])  \n",
        "S1meanrefA1_1702 = np.array(S1meanrefA1_1702)\n",
        "S1meanD4_102 = np.array(S1meanD4_102)\n",
        "\n",
        "S1hsvrefA1_1702 = list()\n",
        "S1hsvD4_102 = list()\n",
        "for i in range(3):\n",
        "    S1hsvrefA1_1702.append(S1meanrefA1_1702[:,i].mean())\n",
        "    S1hsvD4_102.append(S1meanD4_102[:,i].mean())"
      ],
      "execution_count": 788,
      "outputs": []
    },
    {
      "cell_type": "markdown",
      "metadata": {
        "id": "V9K2-oKw8lpO"
      },
      "source": [
        "###Img 3"
      ]
    },
    {
      "cell_type": "code",
      "metadata": {
        "id": "MRhjsmBPaD64",
        "colab": {
          "base_uri": "https://localhost:8080/"
        },
        "outputId": "77847eb2-add1-47a1-f0c2-7d5eee15a90a"
      },
      "source": [
        "S1meanrefA1_103 = list()\n",
        "S1meanA1_203 = list()\n",
        "for i in range(S1HSV_imgA1A1_3.shape[0]): #ให้ i รันตาม row หรือ shape[0] คือแถว มีทั้งหมด 4032 แถว ของภาพที่ปรับขนาดมาแล้ว\n",
        "     for j in range(S1HSV_imgA1A1_3.shape[1]): #ให้ j รันตาม colum มีทั้งหมด 3024 colum เช่น แถวที่ 1 เข้ามาให้รันครบ 3024colum\n",
        "                if 1769<i<1881 and 2019<j<2131 :\n",
        "                  S1meanrefA1_103.append(S1HSV_imgA1A1_3[i][j])\n",
        "                if 1770<i<1880 and 2015<j<2145 :\n",
        "                  S1meanA1_203.append(S1HSV_imgA1A1_3[i][j])  \n",
        "S1meanrefA1_103 = np.array(S1meanrefA1_103)\n",
        "S1meanA1_203 = np.array(S1meanA1_203)\n",
        "\n",
        "S1hsvrefA1_103 = list()\n",
        "S1hsvA1_203 = list()\n",
        "for i in range(3):\n",
        "    S1hsvrefA1_103.append(S1meanrefA1_103[:,i].mean())\n",
        "    S1hsvA1_203.append(S1meanA1_203[:,i].mean())\n",
        "S1hsvrefA1_103,S1hsvA1_203 "
      ],
      "execution_count": 789,
      "outputs": [
        {
          "output_type": "execute_result",
          "data": {
            "text/plain": [
              "([20.520574628682738, 78.86778670562454, 230.93401509617726],\n",
              " [20.476637508000852, 77.60024180357016, 231.68074816869355])"
            ]
          },
          "metadata": {},
          "execution_count": 789
        }
      ]
    },
    {
      "cell_type": "code",
      "metadata": {
        "id": "8mLq2ZPPaD68"
      },
      "source": [
        "S1meanrefA1_303 = list()\n",
        "S1meanA2_103 = list()\n",
        "for i in range(S1HSV_imgA1A2_3.shape[0]): \n",
        "     for j in range(S1HSV_imgA1A2_3.shape[1]): \n",
        "                if 1769<i<1881 and 2019<j<2131 :\n",
        "                  S1meanrefA1_303.append(S1HSV_imgA1A2_3[i][j])\n",
        "                if 1770<i<1880 and 2015<j<2145 :\n",
        "                  S1meanA2_103.append(S1HSV_imgA1A2_3[i][j])  \n",
        "S1meanrefA1_303 = np.array(S1meanrefA1_303)\n",
        "S1meanA2_103 = np.array(S1meanA2_103)\n",
        "\n",
        "S1hsvrefA1_303 = list()\n",
        "S1hsvA2_103 = list()\n",
        "for i in range(3):\n",
        "    S1hsvrefA1_303.append(S1meanrefA1_303[:,i].mean())\n",
        "    S1hsvA2_103.append(S1meanA2_103[:,i].mean())"
      ],
      "execution_count": 790,
      "outputs": []
    },
    {
      "cell_type": "code",
      "metadata": {
        "id": "2D3d780VaD69"
      },
      "source": [
        "S1meanrefA1_403 = list()\n",
        "S1meanA3_103 = list()\n",
        "for i in range(S1HSV_imgA1A3_3.shape[0]): \n",
        "     for j in range(S1HSV_imgA1A3_3.shape[1]): \n",
        "                if 1769<i<1881 and 2019<j<2131 :\n",
        "                  S1meanrefA1_403.append(S1HSV_imgA1A3_3[i][j])\n",
        "                if 1770<i<1880 and 2015<j<2145 :\n",
        "                  S1meanA3_103.append(S1HSV_imgA1A3_3[i][j])  \n",
        "S1meanrefA1_403 = np.array(S1meanrefA1_403)\n",
        "S1meanA3_103 = np.array(S1meanA3_103)\n",
        "\n",
        "S1hsvrefA1_403 = list()\n",
        "S1hsvA3_103 = list()\n",
        "for i in range(3):\n",
        "    S1hsvrefA1_403.append(S1meanrefA1_403[:,i].mean())\n",
        "    S1hsvA3_103.append(S1meanA3_103[:,i].mean())"
      ],
      "execution_count": 791,
      "outputs": []
    },
    {
      "cell_type": "code",
      "metadata": {
        "id": "UZqI76CTaD6-"
      },
      "source": [
        "S1meanrefA1_503 = list()\n",
        "S1meanA3_5103 = list()\n",
        "for i in range(S1HSV_imgA1A3_53.shape[0]): \n",
        "     for j in range(S1HSV_imgA1A3_53.shape[1]): \n",
        "                if 1769<i<1881 and 2019<j<2131 :\n",
        "                  S1meanrefA1_503.append(S1HSV_imgA1A3_53[i][j])\n",
        "                if 1770<i<1880 and 2015<j<2145 :\n",
        "                  S1meanA3_5103.append(S1HSV_imgA1A3_53[i][j])  \n",
        "S1meanrefA1_503 = np.array(S1meanrefA1_503)\n",
        "S1meanA3_5103 = np.array(S1meanA3_5103)\n",
        "\n",
        "S1hsvrefA1_503 = list()\n",
        "S1hsvA3_5103 = list()\n",
        "for i in range(3):\n",
        "    S1hsvrefA1_503.append(S1meanrefA1_503[:,i].mean())\n",
        "    S1hsvA3_5103.append(S1meanA3_5103[:,i].mean())"
      ],
      "execution_count": 792,
      "outputs": []
    },
    {
      "cell_type": "code",
      "metadata": {
        "id": "Sr2jeoZ2aD6_"
      },
      "source": [
        "S1meanrefA1_603 = list()\n",
        "S1meanA4_103 = list()\n",
        "for i in range(S1HSV_imgA1A4_3.shape[0]): \n",
        "     for j in range(S1HSV_imgA1A4_3.shape[1]): \n",
        "                if 1769<i<1881 and 2019<j<2131 :\n",
        "                  S1meanrefA1_603.append(S1HSV_imgA1A4_3[i][j])\n",
        "                if 1770<i<1880 and 2015<j<2145 :\n",
        "                  S1meanA4_103.append(S1HSV_imgA1A4_3[i][j])  \n",
        "S1meanrefA1_603 = np.array(S1meanrefA1_603)\n",
        "S1meanA4_103 = np.array(S1meanA4_103)\n",
        "\n",
        "S1hsvrefA1_603 = list()\n",
        "S1hsvA4_103 = list()\n",
        "for i in range(3):\n",
        "    S1hsvrefA1_603.append(S1meanrefA1_603[:,i].mean())\n",
        "    S1hsvA4_103.append(S1meanA4_103[:,i].mean())"
      ],
      "execution_count": 793,
      "outputs": []
    },
    {
      "cell_type": "code",
      "metadata": {
        "id": "3uzrToiraD7A"
      },
      "source": [
        "S1meanrefA1_703 = list()\n",
        "S1meanB1_103 = list()\n",
        "for i in range(S1HSV_imgA1B1_3.shape[0]): \n",
        "     for j in range(S1HSV_imgA1B1_3.shape[1]): \n",
        "                if 1769<i<1881 and 2019<j<2131 :\n",
        "                  S1meanrefA1_703.append(S1HSV_imgA1B1_3[i][j])\n",
        "                if 1770<i<1880 and 2015<j<2145 :\n",
        "                  S1meanB1_103.append(S1HSV_imgA1B1_3[i][j])  \n",
        "S1meanrefA1_703 = np.array(S1meanrefA1_703)\n",
        "S1meanB1_103 = np.array(S1meanB1_103)\n",
        "\n",
        "S1hsvrefA1_703 = list()\n",
        "S1hsvB1_103 = list()\n",
        "for i in range(3):\n",
        "    S1hsvrefA1_703.append(S1meanrefA1_703[:,i].mean())\n",
        "    S1hsvB1_103.append(S1meanB1_103[:,i].mean())"
      ],
      "execution_count": 794,
      "outputs": []
    },
    {
      "cell_type": "code",
      "metadata": {
        "id": "H07I0B3FaD7A"
      },
      "source": [
        "S1meanrefA1_803 = list()\n",
        "S1meanB2_103 = list()\n",
        "for i in range(S1HSV_imgA1B2_3.shape[0]): \n",
        "     for j in range(S1HSV_imgA1B2_3.shape[1]): \n",
        "                if 1769<i<1881 and 2019<j<2131 :\n",
        "                  S1meanrefA1_803.append(S1HSV_imgA1B2_3[i][j])\n",
        "                if 1770<i<1880 and 2015<j<2145 :\n",
        "                  S1meanB2_103.append(S1HSV_imgA1B2_3[i][j])  \n",
        "S1meanrefA1_803 = np.array(S1meanrefA1_803)\n",
        "S1meanB2_103 = np.array(S1meanB2_103)\n",
        "\n",
        "S1hsvrefA1_803 = list()\n",
        "S1hsvB2_103 = list()\n",
        "for i in range(3):\n",
        "    S1hsvrefA1_803.append(S1meanrefA1_803[:,i].mean())\n",
        "    S1hsvB2_103.append(S1meanB2_103[:,i].mean())"
      ],
      "execution_count": 795,
      "outputs": []
    },
    {
      "cell_type": "code",
      "metadata": {
        "id": "scFxo4IkaD7B"
      },
      "source": [
        "S1meanrefA1_903 = list()\n",
        "S1meanB3_103 = list()\n",
        "for i in range(S1HSV_imgA1B3_3.shape[0]): \n",
        "     for j in range(S1HSV_imgA1B3_3.shape[1]): \n",
        "                if 1769<i<1881 and 2019<j<2131 :\n",
        "                  S1meanrefA1_903.append(S1HSV_imgA1B3_3[i][j])\n",
        "                if 1770<i<1880 and 2015<j<2145 :\n",
        "                  S1meanB3_103.append(S1HSV_imgA1B3_3[i][j])  \n",
        "S1meanrefA1_903 = np.array(S1meanrefA1_903)\n",
        "S1meanB3_103 = np.array(S1meanB3_103)\n",
        "\n",
        "S1hsvrefA1_903 = list()\n",
        "S1hsvB3_103 = list()\n",
        "for i in range(3):\n",
        "    S1hsvrefA1_903.append(S1meanrefA1_9[:,i].mean())\n",
        "    S1hsvB3_103.append(S1meanB3_1[:,i].mean())"
      ],
      "execution_count": 796,
      "outputs": []
    },
    {
      "cell_type": "code",
      "metadata": {
        "id": "upHvOqQMaD7B"
      },
      "source": [
        "S1meanrefA1_1003 = list()\n",
        "S1meanB4_103 = list()\n",
        "for i in range(S1HSV_imgA1B4_3.shape[0]): \n",
        "     for j in range(S1HSV_imgA1B4_3.shape[1]): \n",
        "                if 1769<i<1881 and 2019<j<2131 :\n",
        "                  S1meanrefA1_1003.append(S1HSV_imgA1B4_3[i][j])\n",
        "                if 1770<i<1880 and 2015<j<2145 :\n",
        "                  S1meanB4_103.append(S1HSV_imgA1B4_3[i][j])  \n",
        "S1meanrefA1_1003 = np.array(S1meanrefA1_1003)\n",
        "S1meanB4_103 = np.array(S1meanB4_103)\n",
        "\n",
        "S1hsvrefA1_1003 = list()\n",
        "S1hsvB4_103 = list()\n",
        "for i in range(3):\n",
        "    S1hsvrefA1_1003.append(S1meanrefA1_1003[:,i].mean())\n",
        "    S1hsvB4_103.append(S1meanB4_103[:,i].mean())"
      ],
      "execution_count": 797,
      "outputs": []
    },
    {
      "cell_type": "code",
      "metadata": {
        "id": "DTwQ6hWzaD7C"
      },
      "source": [
        "S1meanrefA1_1103 = list()\n",
        "S1meanC1_103 = list()\n",
        "for i in range(S1HSV_imgA1C1_3.shape[0]): \n",
        "     for j in range(S1HSV_imgA1C1_3.shape[1]): \n",
        "                if 1769<i<1881 and 2019<j<2131 :\n",
        "                  S1meanrefA1_1103.append(S1HSV_imgA1C1_3[i][j])\n",
        "                if 1770<i<1880 and 2015<j<2145 :\n",
        "                  S1meanC1_103.append(S1HSV_imgA1C1_3[i][j])  \n",
        "S1meanrefA1_1103 = np.array(S1meanrefA1_1103)\n",
        "S1meanC1_103 = np.array(S1meanC1_103)\n",
        "\n",
        "S1hsvrefA1_1103 = list()\n",
        "S1hsvC1_103 = list()\n",
        "for i in range(3):\n",
        "    S1hsvrefA1_1103.append(S1meanrefA1_1103[:,i].mean())\n",
        "    S1hsvC1_103.append(S1meanC1_103[:,i].mean())"
      ],
      "execution_count": 798,
      "outputs": []
    },
    {
      "cell_type": "code",
      "metadata": {
        "id": "VhGjLm5PaD7D"
      },
      "source": [
        "S1meanrefA1_1203 = list()\n",
        "S1meanC2_103 = list()\n",
        "for i in range(S1HSV_imgA1C2_3.shape[0]): \n",
        "     for j in range(S1HSV_imgA1C2_3.shape[1]): \n",
        "                if 1769<i<1881 and 2019<j<2131 :\n",
        "                  S1meanrefA1_1203.append(S1HSV_imgA1C2_3[i][j])\n",
        "                if 1770<i<1880 and 2015<j<2145 :\n",
        "                  S1meanC2_103.append(S1HSV_imgA1C2_3[i][j])  \n",
        "S1meanrefA1_1203 = np.array(S1meanrefA1_1203)\n",
        "S1meanC2_103 = np.array(S1meanC2_103)\n",
        "\n",
        "S1hsvrefA1_1203 = list()\n",
        "S1hsvC2_103 = list()\n",
        "for i in range(3):\n",
        "    S1hsvrefA1_1203.append(S1meanrefA1_1203[:,i].mean())\n",
        "    S1hsvC2_103.append(S1meanC2_103[:,i].mean())"
      ],
      "execution_count": 799,
      "outputs": []
    },
    {
      "cell_type": "code",
      "metadata": {
        "id": "PVa_ARI7aD7D"
      },
      "source": [
        "S1meanrefA1_1303 = list()\n",
        "S1meanC3_103 = list()\n",
        "for i in range(S1HSV_imgA1C3_3.shape[0]): \n",
        "     for j in range(S1HSV_imgA1C3_3.shape[1]): \n",
        "                if 1769<i<1881 and 2019<j<2131 :\n",
        "                  S1meanrefA1_1303.append(S1HSV_imgA1C3_3[i][j])\n",
        "                if 1770<i<1880 and 2015<j<2145 :\n",
        "                  S1meanC3_103.append(S1HSV_imgA1C3_3[i][j])  \n",
        "S1meanrefA1_1303 = np.array(S1meanrefA1_1303)\n",
        "S1meanC3_103 = np.array(S1meanC3_103)\n",
        "\n",
        "S1hsvrefA1_1303 = list()\n",
        "S1hsvC3_103 = list()\n",
        "for i in range(3):\n",
        "    S1hsvrefA1_1303.append(S1meanrefA1_1303[:,i].mean())\n",
        "    S1hsvC3_103.append(S1meanC3_103[:,i].mean())"
      ],
      "execution_count": 800,
      "outputs": []
    },
    {
      "cell_type": "code",
      "metadata": {
        "id": "9rsxA2L8aD7D"
      },
      "source": [
        "S1meanrefA1_1403 = list()\n",
        "S1meanC4_103 = list()\n",
        "for i in range(S1HSV_imgA1C4_3.shape[0]): \n",
        "     for j in range(S1HSV_imgA1C4_3.shape[1]): \n",
        "                if 1769<i<1881 and 2019<j<2131 :\n",
        "                  S1meanrefA1_1403.append(S1HSV_imgA1C4_3[i][j])\n",
        "                if 1770<i<1880 and 2015<j<2145 :\n",
        "                  S1meanC4_103.append(S1HSV_imgA1C4_3[i][j])  \n",
        "S1meanrefA1_1403 = np.array(S1meanrefA1_1403)\n",
        "S1meanC4_103 = np.array(S1meanC4_103)\n",
        "\n",
        "S1hsvrefA1_1403 = list()\n",
        "S1hsvC4_103 = list()\n",
        "for i in range(3):\n",
        "    S1hsvrefA1_1403.append(S1meanrefA1_1403[:,i].mean())\n",
        "    S1hsvC4_103.append(S1meanC4_103[:,i].mean())"
      ],
      "execution_count": 801,
      "outputs": []
    },
    {
      "cell_type": "code",
      "metadata": {
        "id": "IeBME7OKaD7E"
      },
      "source": [
        "S1meanrefA1_1503 = list()\n",
        "S1meanD2_103 = list()\n",
        "for i in range(S1HSV_imgA1D2_3.shape[0]): \n",
        "     for j in range(S1HSV_imgA1D2_3.shape[1]): \n",
        "                if 1769<i<1881 and 2019<j<2131 :\n",
        "                  S1meanrefA1_1503.append(S1HSV_imgA1D2_3[i][j])\n",
        "                if 1770<i<1880 and 2015<j<2145 :\n",
        "                  S1meanD2_103.append(S1HSV_imgA1D2_3[i][j])  \n",
        "S1meanrefA1_1503 = np.array(S1meanrefA1_1503)\n",
        "S1meanD2_103 = np.array(S1meanD2_103)\n",
        "\n",
        "S1hsvrefA1_1503 = list()\n",
        "S1hsvD2_103 = list()\n",
        "for i in range(3):\n",
        "    S1hsvrefA1_1503.append(S1meanrefA1_1503[:,i].mean())\n",
        "    S1hsvD2_103.append(S1meanD2_103[:,i].mean())"
      ],
      "execution_count": 802,
      "outputs": []
    },
    {
      "cell_type": "code",
      "metadata": {
        "id": "w8-WEzxtaD7E"
      },
      "source": [
        "S1meanrefA1_1603 = list()\n",
        "S1meanD3_103 = list()\n",
        "for i in range(S1HSV_imgA1D3_3.shape[0]): \n",
        "     for j in range(S1HSV_imgA1D3_3.shape[1]): \n",
        "                if 1769<i<1881 and 2019<j<2131 :\n",
        "                  S1meanrefA1_1603.append(S1HSV_imgA1D3_3[i][j])\n",
        "                if 1770<i<1880 and 2015<j<2145 :\n",
        "                  S1meanD3_103.append(S1HSV_imgA1D3_3[i][j])  \n",
        "S1meanrefA1_1603 = np.array(S1meanrefA1_1603)\n",
        "S1meanD3_103 = np.array(S1meanD3_103)\n",
        "\n",
        "S1hsvrefA1_1603 = list()\n",
        "S1hsvD3_103 = list()\n",
        "for i in range(3):\n",
        "    S1hsvrefA1_1603.append(S1meanrefA1_1603[:,i].mean())\n",
        "    S1hsvD3_103.append(S1meanD3_103[:,i].mean())"
      ],
      "execution_count": 803,
      "outputs": []
    },
    {
      "cell_type": "code",
      "metadata": {
        "id": "OIsms0DjaD7F"
      },
      "source": [
        "S1meanrefA1_1703= list()\n",
        "S1meanD4_103 = list()\n",
        "for i in range(S1HSV_imgA1D4_3.shape[0]): \n",
        "     for j in range(S1HSV_imgA1D4_3.shape[1]): \n",
        "                if 1769<i<1881 and 2019<j<2131 :\n",
        "                  S1meanrefA1_1703.append(S1HSV_imgA1D4_3[i][j])\n",
        "                if 1770<i<1880 and 2015<j<2145 :\n",
        "                  S1meanD4_103.append(S1HSV_imgA1D4_3[i][j])  \n",
        "S1meanrefA1_1703 = np.array(S1meanrefA1_1403)\n",
        "S1meanD4_103 = np.array(S1meanD4_103)\n",
        "\n",
        "S1hsvrefA1_1703 = list()\n",
        "S1hsvD4_103 = list()\n",
        "for i in range(3):\n",
        "    S1hsvrefA1_1703.append(S1meanrefA1_1703[:,i].mean())\n",
        "    S1hsvD4_103.append(S1meanD4_103[:,i].mean())"
      ],
      "execution_count": 804,
      "outputs": []
    },
    {
      "cell_type": "markdown",
      "metadata": {
        "id": "ccU_XQuv8nEE"
      },
      "source": [
        "###Img 4"
      ]
    },
    {
      "cell_type": "code",
      "metadata": {
        "id": "wvN1uUmKaICO",
        "colab": {
          "base_uri": "https://localhost:8080/"
        },
        "outputId": "4d413903-a310-4e5e-badf-3c12344f8ce1"
      },
      "source": [
        "S1meanrefA1_104 = list()\n",
        "S1meanA1_204 = list()\n",
        "for i in range(S1HSV_imgA1A1_4.shape[0]): #ให้ i รันตาม row หรือ shape[0] คือแถว มีทั้งหมด 4032 แถว ของภาพที่ปรับขนาดมาแล้ว\n",
        "     for j in range(S1HSV_imgA1A1_4.shape[1]): #ให้ j รันตาม colum มีทั้งหมด 3024 colum เช่น แถวที่ 1 เข้ามาให้รันครบ 3024colum\n",
        "                if 1769<i<1881 and 2019<j<2131 :\n",
        "                  S1meanrefA1_104.append(S1HSV_imgA1A1_4[i][j])\n",
        "                if 1770<i<1880 and 2015<j<2145 :\n",
        "                  S1meanA1_204.append(S1HSV_imgA1A1_4[i][j])  \n",
        "S1meanrefA1_104 = np.array(S1meanrefA1_104)\n",
        "S1meanA1_204 = np.array(S1meanA1_204)\n",
        "\n",
        "S1hsvrefA1_104 = list()\n",
        "S1hsvA1_204 = list()\n",
        "for i in range(3):\n",
        "    S1hsvrefA1_104.append(S1meanrefA1_104[:,i].mean())\n",
        "    S1hsvA1_204.append(S1meanA1_204[:,i].mean())\n",
        "S1hsvrefA1_104,S1hsvA1_204 "
      ],
      "execution_count": 805,
      "outputs": [
        {
          "output_type": "execute_result",
          "data": {
            "text/plain": [
              "([19.210697183670156, 90.00348997646294, 226.79538998457917],\n",
              " [19.286394993243725, 88.87888485882938, 227.48261147855771])"
            ]
          },
          "metadata": {},
          "execution_count": 805
        }
      ]
    },
    {
      "cell_type": "code",
      "metadata": {
        "id": "yVzXURhOaICP"
      },
      "source": [
        "S1meanrefA1_304 = list()\n",
        "S1meanA2_104 = list()\n",
        "for i in range(S1HSV_imgA1A2_4.shape[0]): \n",
        "     for j in range(S1HSV_imgA1A2_4.shape[1]): \n",
        "                if 1769<i<1881 and 2019<j<2131 :\n",
        "                  S1meanrefA1_304.append(S1HSV_imgA1A2_4[i][j])\n",
        "                if 1770<i<1880 and 2015<j<2145 :\n",
        "                  S1meanA2_104.append(S1HSV_imgA1A2_4[i][j])  \n",
        "S1meanrefA1_304 = np.array(S1meanrefA1_304)\n",
        "S1meanA2_104 = np.array(S1meanA2_104)\n",
        "\n",
        "S1hsvrefA1_304 = list()\n",
        "S1hsvA2_104 = list()\n",
        "for i in range(3):\n",
        "    S1hsvrefA1_304.append(S1meanrefA1_304[:,i].mean())\n",
        "    S1hsvA2_104.append(S1meanA2_104[:,i].mean())"
      ],
      "execution_count": 806,
      "outputs": []
    },
    {
      "cell_type": "code",
      "metadata": {
        "id": "OYidQZ77aICQ"
      },
      "source": [
        "S1meanrefA1_404 = list()\n",
        "S1meanA3_104 = list()\n",
        "for i in range(S1HSV_imgA1A3_4.shape[0]): \n",
        "     for j in range(S1HSV_imgA1A3_4.shape[1]): \n",
        "                if 1769<i<1881 and 2019<j<2131 :\n",
        "                  S1meanrefA1_404.append(S1HSV_imgA1A3_4[i][j])\n",
        "                if 1770<i<1880 and 2015<j<2145 :\n",
        "                  S1meanA3_104.append(S1HSV_imgA1A3_4[i][j])  \n",
        "S1meanrefA1_404 = np.array(S1meanrefA1_404)\n",
        "S1meanA3_104 = np.array(S1meanA3_104)\n",
        "\n",
        "S1hsvrefA1_404 = list()\n",
        "S1hsvA3_104 = list()\n",
        "for i in range(3):\n",
        "    S1hsvrefA1_404.append(S1meanrefA1_404[:,i].mean())\n",
        "    S1hsvA3_104.append(S1meanA3_104[:,i].mean())"
      ],
      "execution_count": 807,
      "outputs": []
    },
    {
      "cell_type": "code",
      "metadata": {
        "id": "RDGFdA8QaICR"
      },
      "source": [
        "S1meanrefA1_504 = list()\n",
        "S1meanA3_5104 = list()\n",
        "for i in range(S1HSV_imgA1A3_54.shape[0]): \n",
        "     for j in range(S1HSV_imgA1A3_54.shape[1]): \n",
        "                if 1769<i<1881 and 2019<j<2131 :\n",
        "                  S1meanrefA1_504.append(S1HSV_imgA1A3_54[i][j])\n",
        "                if 1770<i<1880 and 2015<j<2145 :\n",
        "                  S1meanA3_5104.append(S1HSV_imgA1A3_54[i][j])  \n",
        "S1meanrefA1_504 = np.array(S1meanrefA1_504)\n",
        "S1meanA3_5104 = np.array(S1meanA3_5104)\n",
        "\n",
        "S1hsvrefA1_504 = list()\n",
        "S1hsvA3_5104 = list()\n",
        "for i in range(3):\n",
        "    S1hsvrefA1_504.append(S1meanrefA1_504[:,i].mean())\n",
        "    S1hsvA3_5104.append(S1meanA3_5104[:,i].mean())"
      ],
      "execution_count": 808,
      "outputs": []
    },
    {
      "cell_type": "code",
      "metadata": {
        "id": "phmsZ1pVaICR"
      },
      "source": [
        "S1meanrefA1_604 = list()\n",
        "S1meanA4_104 = list()\n",
        "for i in range(S1HSV_imgA1A4_4.shape[0]): \n",
        "     for j in range(S1HSV_imgA1A4_4.shape[1]): \n",
        "                if 1769<i<1881 and 2019<j<2131 :\n",
        "                  S1meanrefA1_604.append(S1HSV_imgA1A4_4[i][j])\n",
        "                if 1770<i<1880 and 2015<j<2145 :\n",
        "                  S1meanA4_104.append(S1HSV_imgA1A4_4[i][j])  \n",
        "S1meanrefA1_604 = np.array(S1meanrefA1_604)\n",
        "S1meanA4_104 = np.array(S1meanA4_104)\n",
        "\n",
        "S1hsvrefA1_604 = list()\n",
        "S1hsvA4_104 = list()\n",
        "for i in range(3):\n",
        "    S1hsvrefA1_604.append(S1meanrefA1_604[:,i].mean())\n",
        "    S1hsvA4_104.append(S1meanA4_104[:,i].mean())"
      ],
      "execution_count": 809,
      "outputs": []
    },
    {
      "cell_type": "code",
      "metadata": {
        "id": "jVkmiIbYaICS"
      },
      "source": [
        "S1meanrefA1_704 = list()\n",
        "S1meanB1_104 = list()\n",
        "for i in range(S1HSV_imgA1B1_4.shape[0]): \n",
        "     for j in range(S1HSV_imgA1B1_4.shape[1]): \n",
        "                if 1769<i<1881 and 2019<j<2131 :\n",
        "                  S1meanrefA1_704.append(S1HSV_imgA1B1_4[i][j])\n",
        "                if 1770<i<1880 and 2015<j<2145 :\n",
        "                  S1meanB1_104.append(S1HSV_imgA1B1_4[i][j])  \n",
        "S1meanrefA1_704 = np.array(S1meanrefA1_704)\n",
        "S1meanB1_104 = np.array(S1meanB1_104)\n",
        "\n",
        "S1hsvrefA1_704 = list()\n",
        "S1hsvB1_104 = list()\n",
        "for i in range(3):\n",
        "    S1hsvrefA1_704.append(S1meanrefA1_704[:,i].mean())\n",
        "    S1hsvB1_104.append(S1meanB1_104[:,i].mean())"
      ],
      "execution_count": 810,
      "outputs": []
    },
    {
      "cell_type": "code",
      "metadata": {
        "id": "01iHJyeDaICS"
      },
      "source": [
        "S1meanrefA1_804 = list()\n",
        "S1meanB2_104 = list()\n",
        "for i in range(S1HSV_imgA1B2_4.shape[0]): \n",
        "     for j in range(S1HSV_imgA1B2_4.shape[1]): \n",
        "                if 1769<i<1881 and 2019<j<2131 :\n",
        "                  S1meanrefA1_804.append(S1HSV_imgA1B2_4[i][j])\n",
        "                if 1770<i<1880 and 2015<j<2145 :\n",
        "                  S1meanB2_104.append(S1HSV_imgA1B2_4[i][j])  \n",
        "S1meanrefA1_804 = np.array(S1meanrefA1_804)\n",
        "S1meanB2_104 = np.array(S1meanB2_104)\n",
        "\n",
        "S1hsvrefA1_804 = list()\n",
        "S1hsvB2_104 = list()\n",
        "for i in range(3):\n",
        "    S1hsvrefA1_804.append(S1meanrefA1_804[:,i].mean())\n",
        "    S1hsvB2_104.append(S1meanB2_104[:,i].mean())"
      ],
      "execution_count": 811,
      "outputs": []
    },
    {
      "cell_type": "code",
      "metadata": {
        "id": "xKzJJkajaICT"
      },
      "source": [
        "S1meanrefA1_904 = list()\n",
        "S1meanB3_104 = list()\n",
        "for i in range(S1HSV_imgA1B3_4.shape[0]): \n",
        "     for j in range(S1HSV_imgA1B3_4.shape[1]): \n",
        "                if 1769<i<1881 and 2019<j<2131 :\n",
        "                  S1meanrefA1_904.append(S1HSV_imgA1B3_4[i][j])\n",
        "                if 1770<i<1880 and 2015<j<2145 :\n",
        "                  S1meanB3_104.append(S1HSV_imgA1B3_4[i][j])  \n",
        "S1meanrefA1_904 = np.array(S1meanrefA1_904)\n",
        "S1meanB3_104 = np.array(S1meanB3_104)\n",
        "\n",
        "S1hsvrefA1_904 = list()\n",
        "S1hsvB3_104 = list()\n",
        "for i in range(3):\n",
        "    S1hsvrefA1_904.append(S1meanrefA1_904[:,i].mean())\n",
        "    S1hsvB3_104.append(S1meanB3_104[:,i].mean())"
      ],
      "execution_count": 812,
      "outputs": []
    },
    {
      "cell_type": "code",
      "metadata": {
        "id": "xZvWsisKaICT"
      },
      "source": [
        "S1meanrefA1_1004 = list()\n",
        "S1meanB4_104 = list()\n",
        "for i in range(S1HSV_imgA1B4_4.shape[0]): \n",
        "     for j in range(S1HSV_imgA1B4_4.shape[1]): \n",
        "                if 1769<i<1881 and 2019<j<2131 :\n",
        "                  S1meanrefA1_1004.append(S1HSV_imgA1B4_4[i][j])\n",
        "                if 1770<i<1880 and 2015<j<2145 :\n",
        "                  S1meanB4_104.append(S1HSV_imgA1B4_4[i][j])  \n",
        "S1meanrefA1_1004 = np.array(S1meanrefA1_1004)\n",
        "S1meanB4_104 = np.array(S1meanB4_104)\n",
        "\n",
        "S1hsvrefA1_1004 = list()\n",
        "S1hsvB4_104= list()\n",
        "for i in range(3):\n",
        "    S1hsvrefA1_1004.append(S1meanrefA1_1004[:,i].mean())\n",
        "    S1hsvB4_104.append(S1meanB4_104[:,i].mean())"
      ],
      "execution_count": 813,
      "outputs": []
    },
    {
      "cell_type": "code",
      "metadata": {
        "id": "K9eqM_dhaICU"
      },
      "source": [
        "S1meanrefA1_1104 = list()\n",
        "S1meanC1_104 = list()\n",
        "for i in range(S1HSV_imgA1C1_4.shape[0]): \n",
        "     for j in range(S1HSV_imgA1C1_4.shape[1]): \n",
        "                if 1769<i<1881 and 2019<j<2131 :\n",
        "                  S1meanrefA1_1104.append(S1HSV_imgA1C1_4[i][j])\n",
        "                if 1770<i<1880 and 2015<j<2145 :\n",
        "                  S1meanC1_104.append(S1HSV_imgA1C1_4[i][j])  \n",
        "S1meanrefA1_1104 = np.array(S1meanrefA1_1104)\n",
        "S1meanC1_104 = np.array(S1meanC1_104)\n",
        "\n",
        "S1hsvrefA1_1104 = list()\n",
        "S1hsvC1_104 = list()\n",
        "for i in range(3):\n",
        "    S1hsvrefA1_1104.append(S1meanrefA1_1104[:,i].mean())\n",
        "    S1hsvC1_104.append(S1meanC1_104[:,i].mean())"
      ],
      "execution_count": 814,
      "outputs": []
    },
    {
      "cell_type": "code",
      "metadata": {
        "id": "uuX8MaetaICW"
      },
      "source": [
        "S1meanrefA1_1204 = list()\n",
        "S1meanC2_104 = list()\n",
        "for i in range(S1HSV_imgA1C2_4.shape[0]): \n",
        "     for j in range(S1HSV_imgA1C2_4.shape[1]): \n",
        "                if 1769<i<1881 and 2019<j<2131 :\n",
        "                  S1meanrefA1_1204.append(S1HSV_imgA1C2_4[i][j])\n",
        "                if 1770<i<1880 and 2015<j<2145 :\n",
        "                  S1meanC2_104.append(S1HSV_imgA1C2_4[i][j])  \n",
        "S1meanrefA1_1204 = np.array(S1meanrefA1_1204)\n",
        "S1meanC2_104 = np.array(S1meanC2_104)\n",
        "\n",
        "S1hsvrefA1_1204 = list()\n",
        "S1hsvC2_104 = list()\n",
        "for i in range(3):\n",
        "    S1hsvrefA1_1204.append(S1meanrefA1_1204[:,i].mean())\n",
        "    S1hsvC2_104.append(S1meanC2_104[:,i].mean())"
      ],
      "execution_count": 815,
      "outputs": []
    },
    {
      "cell_type": "code",
      "metadata": {
        "id": "NapZ8mwHaICY"
      },
      "source": [
        "S1meanrefA1_1304 = list()\n",
        "S1meanC3_104 = list()\n",
        "for i in range(S1HSV_imgA1C3_4.shape[0]): \n",
        "     for j in range(S1HSV_imgA1C3_4.shape[1]): \n",
        "                if 1769<i<1881 and 2019<j<2131 :\n",
        "                  S1meanrefA1_1304.append(S1HSV_imgA1C3_4[i][j])\n",
        "                if 1770<i<1880 and 2015<j<2145 :\n",
        "                  S1meanC3_104.append(S1HSV_imgA1C3_4[i][j])  \n",
        "S1meanrefA1_1304 = np.array(S1meanrefA1_1304)\n",
        "S1meanC3_104 = np.array(S1meanC3_104)\n",
        "\n",
        "S1hsvrefA1_1304 = list()\n",
        "S1hsvC3_104 = list()\n",
        "for i in range(3):\n",
        "    S1hsvrefA1_1304.append(S1meanrefA1_1304[:,i].mean())\n",
        "    S1hsvC3_104.append(S1meanC3_104[:,i].mean())"
      ],
      "execution_count": 816,
      "outputs": []
    },
    {
      "cell_type": "code",
      "metadata": {
        "id": "ZsekeOCDaICZ"
      },
      "source": [
        "S1meanrefA1_1404 = list()\n",
        "S1meanC4_104 = list()\n",
        "for i in range(S1HSV_imgA1C4_4.shape[0]): \n",
        "     for j in range(S1HSV_imgA1C4_4.shape[1]): \n",
        "                if 1769<i<1881 and 2019<j<2131 :\n",
        "                  S1meanrefA1_1404.append(S1HSV_imgA1C4_4[i][j])\n",
        "                if 1770<i<1880 and 2015<j<2145 :\n",
        "                  S1meanC4_104.append(S1HSV_imgA1C4_4[i][j])  \n",
        "S1meanrefA1_1404 = np.array(S1meanrefA1_14)\n",
        "S1meanC4_104 = np.array(S1meanC4_1)\n",
        "\n",
        "S1hsvrefA1_1404 = list()\n",
        "S1hsvC4_104 = list()\n",
        "for i in range(3):\n",
        "    S1hsvrefA1_1404.append(S1meanrefA1_1404[:,i].mean())\n",
        "    S1hsvC4_104.append(S1meanC4_104[:,i].mean())"
      ],
      "execution_count": 817,
      "outputs": []
    },
    {
      "cell_type": "code",
      "metadata": {
        "id": "otvoaOftaICa"
      },
      "source": [
        "S1meanrefA1_1504 = list()\n",
        "S1meanD2_104 = list()\n",
        "for i in range(S1HSV_imgA1D2_4.shape[0]): \n",
        "     for j in range(S1HSV_imgA1D2_4.shape[1]): \n",
        "                if 1769<i<1881 and 2019<j<2131 :\n",
        "                  S1meanrefA1_1504.append(S1HSV_imgA1D2_4[i][j])\n",
        "                if 1770<i<1880 and 2015<j<2145 :\n",
        "                  S1meanD2_104.append(S1HSV_imgA1D2_4[i][j])  \n",
        "S1meanrefA1_1504 = np.array(S1meanrefA1_1504)\n",
        "S1meanD2_104 = np.array(S1meanD2_104)\n",
        "\n",
        "S1hsvrefA1_1504 = list()\n",
        "S1hsvD2_104 = list()\n",
        "for i in range(3):\n",
        "    S1hsvrefA1_1504.append(S1meanrefA1_1504[:,i].mean())\n",
        "    S1hsvD2_104.append(S1meanD2_104[:,i].mean())"
      ],
      "execution_count": 818,
      "outputs": []
    },
    {
      "cell_type": "code",
      "metadata": {
        "id": "IH5MJeHdaICa"
      },
      "source": [
        "S1meanrefA1_1604 = list()\n",
        "S1meanD3_104 = list()\n",
        "for i in range(S1HSV_imgA1D3_4.shape[0]): \n",
        "     for j in range(S1HSV_imgA1D3_4.shape[1]): \n",
        "                if 1769<i<1881 and 2019<j<2131 :\n",
        "                  S1meanrefA1_1604.append(S1HSV_imgA1D3_4[i][j])\n",
        "                if 1770<i<1880 and 2015<j<2145 :\n",
        "                  S1meanD3_104.append(S1HSV_imgA1D3_4[i][j])  \n",
        "S1meanrefA1_1604 = np.array(S1meanrefA1_1604)\n",
        "S1meanD3_104 = np.array(S1meanD3_104)\n",
        "\n",
        "S1hsvrefA1_1604 = list()\n",
        "S1hsvD3_104 = list()\n",
        "for i in range(3):\n",
        "    S1hsvrefA1_1604.append(S1meanrefA1_1604[:,i].mean())\n",
        "    S1hsvD3_104.append(S1meanD3_104[:,i].mean())"
      ],
      "execution_count": 819,
      "outputs": []
    },
    {
      "cell_type": "code",
      "metadata": {
        "id": "h610zfiwaICa"
      },
      "source": [
        "S1meanrefA1_1704= list()\n",
        "S1meanD4_104 = list()\n",
        "for i in range(S1HSV_imgA1D4_4.shape[0]): \n",
        "     for j in range(S1HSV_imgA1D4_4.shape[1]): \n",
        "                if 1769<i<1881 and 2019<j<2131 :\n",
        "                  S1meanrefA1_1704.append(S1HSV_imgA1D4_4[i][j])\n",
        "                if 1770<i<1880 and 2015<j<2145 :\n",
        "                  S1meanD4_104.append(S1HSV_imgA1D4_4[i][j])  \n",
        "S1meanrefA1_1704 = np.array(S1meanrefA1_1404)\n",
        "S1meanD4_104 = np.array(S1meanD4_104)\n",
        "\n",
        "S1hsvrefA1_1704 = list()\n",
        "S1hsvD4_104 = list()\n",
        "for i in range(3):\n",
        "    S1hsvrefA1_1704.append(S1meanrefA1_1704[:,i].mean())\n",
        "    S1hsvD4_104.append(S1meanD4_104[:,i].mean())"
      ],
      "execution_count": 820,
      "outputs": []
    },
    {
      "cell_type": "markdown",
      "metadata": {
        "id": "j3cXkom98pAa"
      },
      "source": [
        "###Img 5"
      ]
    },
    {
      "cell_type": "code",
      "metadata": {
        "id": "amRJlxpuaJL5",
        "colab": {
          "base_uri": "https://localhost:8080/"
        },
        "outputId": "807985a6-ce77-4fa0-a7ed-695e9adc6654"
      },
      "source": [
        "S1meanrefA1_105 = list()\n",
        "S1meanA1_205 = list()\n",
        "for i in range(S1HSV_imgA1A1_5.shape[0]): #ให้ i รันตาม row หรือ shape[0] คือแถว มีทั้งหมด 4032 แถว ของภาพที่ปรับขนาดมาแล้ว\n",
        "     for j in range(S1HSV_imgA1A1_5.shape[1]): #ให้ j รันตาม colum มีทั้งหมด 3024 colum เช่น แถวที่ 1 เข้ามาให้รันครบ 3024colum\n",
        "                if 1769<i<1881 and 2019<j<2131 :\n",
        "                  S1meanrefA1_105.append(S1HSV_imgA1A1_5[i][j])\n",
        "                if 1770<i<1880 and 2015<j<2145 :\n",
        "                  S1meanA1_205.append(S1HSV_imgA1A1_5[i][j])  \n",
        "S1meanrefA1_105 = np.array(S1meanrefA1_105)\n",
        "S1meanA1_205 = np.array(S1meanA1_205)\n",
        "\n",
        "S1hsvrefA1_105 = list()\n",
        "S1hsvA1_205 = list()\n",
        "for i in range(3):\n",
        "    S1hsvrefA1_105.append(S1meanrefA1_105[:,i].mean())\n",
        "    S1hsvA1_205.append(S1meanA1_205[:,i].mean())\n",
        "S1hsvrefA1_105,S1hsvA1_205 "
      ],
      "execution_count": 821,
      "outputs": [
        {
          "output_type": "execute_result",
          "data": {
            "text/plain": [
              "([19.70765359954549, 75.38008278548818, 233.25046668289912],\n",
              " [19.677547827323803, 74.397837991608, 233.71701870421734])"
            ]
          },
          "metadata": {},
          "execution_count": 821
        }
      ]
    },
    {
      "cell_type": "code",
      "metadata": {
        "id": "fElJ0l6-aJL6"
      },
      "source": [
        "S1meanrefA1_305 = list()\n",
        "S1meanA2_105 = list()\n",
        "for i in range(S1HSV_imgA1A2_5.shape[0]): \n",
        "     for j in range(S1HSV_imgA1A2_5.shape[1]): \n",
        "                if 1769<i<1881 and 2019<j<2131 :\n",
        "                  S1meanrefA1_305.append(S1HSV_imgA1A2_5[i][j])\n",
        "                if 1770<i<1880 and 2015<j<2145 :\n",
        "                  S1meanA2_105.append(S1HSV_imgA1A2_5[i][j])  \n",
        "S1meanrefA1_305 = np.array(S1meanrefA1_305)\n",
        "S1meanA2_105 = np.array(S1meanA2_105)\n",
        "\n",
        "S1hsvrefA1_305 = list()\n",
        "S1hsvA2_105 = list()\n",
        "for i in range(3):\n",
        "    S1hsvrefA1_305.append(S1meanrefA1_305[:,i].mean())\n",
        "    S1hsvA2_105.append(S1meanA2_105[:,i].mean())"
      ],
      "execution_count": 822,
      "outputs": []
    },
    {
      "cell_type": "code",
      "metadata": {
        "id": "SmoplvtRaJL7"
      },
      "source": [
        "S1meanrefA1_405 = list()\n",
        "S1meanA3_105 = list()\n",
        "for i in range(S1HSV_imgA1A3_5.shape[0]): \n",
        "     for j in range(S1HSV_imgA1A3_5.shape[1]): \n",
        "                if 1769<i<1881 and 2019<j<2131 :\n",
        "                  S1meanrefA1_405.append(S1HSV_imgA1A3_5[i][j])\n",
        "                if 1770<i<1880 and 2015<j<2145 :\n",
        "                  S1meanA3_105.append(S1HSV_imgA1A3_5[i][j])  \n",
        "S1meanrefA1_405 = np.array(S1meanrefA1_405)\n",
        "S1meanA3_105 = np.array(S1meanA3_105)\n",
        "\n",
        "S1hsvrefA1_405 = list()\n",
        "S1hsvA3_105= list()\n",
        "for i in range(3):\n",
        "    S1hsvrefA1_405.append(S1meanrefA1_405[:,i].mean())\n",
        "    S1hsvA3_105.append(S1meanA3_105[:,i].mean())"
      ],
      "execution_count": 823,
      "outputs": []
    },
    {
      "cell_type": "code",
      "metadata": {
        "id": "YBgssB_7aJL7"
      },
      "source": [
        "S1meanrefA1_505 = list()\n",
        "S1meanA3_5105 = list()\n",
        "for i in range(S1HSV_imgA1A3_55.shape[0]): \n",
        "     for j in range(S1HSV_imgA1A3_55.shape[1]): \n",
        "                if 1769<i<1881 and 2019<j<2131 :\n",
        "                  S1meanrefA1_505.append(S1HSV_imgA1A3_55[i][j])\n",
        "                if 1770<i<1880 and 2015<j<2145 :\n",
        "                  S1meanA3_5105.append(S1HSV_imgA1A3_55[i][j])  \n",
        "S1meanrefA1_505 = np.array(S1meanrefA1_505)\n",
        "S1meanA3_5105 = np.array(S1meanA3_5105)\n",
        "\n",
        "S1hsvrefA1_505= list()\n",
        "S1hsvA3_5105 = list()\n",
        "for i in range(3):\n",
        "    S1hsvrefA1_505.append(S1meanrefA1_505[:,i].mean())\n",
        "    S1hsvA3_5105.append(S1meanA3_5105[:,i].mean())"
      ],
      "execution_count": 824,
      "outputs": []
    },
    {
      "cell_type": "code",
      "metadata": {
        "id": "LYdkCfgdaJL8"
      },
      "source": [
        "S1meanrefA1_605 = list()\n",
        "S1meanA4_105= list()\n",
        "for i in range(S1HSV_imgA1A4_5.shape[0]): \n",
        "     for j in range(S1HSV_imgA1A4_5.shape[1]): \n",
        "                if 1769<i<1881 and 2019<j<2131 :\n",
        "                  S1meanrefA1_605.append(S1HSV_imgA1A4_5[i][j])\n",
        "                if 1770<i<1880 and 2015<j<2145 :\n",
        "                  S1meanA4_105.append(S1HSV_imgA1A4_5[i][j])  \n",
        "S1meanrefA1_605 = np.array(S1meanrefA1_605)\n",
        "S1meanA4_105 = np.array(S1meanA4_105)\n",
        "\n",
        "S1hsvrefA1_605 = list()\n",
        "S1hsvA4_105 = list()\n",
        "for i in range(3):\n",
        "    S1hsvrefA1_605.append(S1meanrefA1_605[:,i].mean())\n",
        "    S1hsvA4_105.append(S1meanA4_105[:,i].mean())"
      ],
      "execution_count": 825,
      "outputs": []
    },
    {
      "cell_type": "code",
      "metadata": {
        "id": "gHBQsZxiaJL9"
      },
      "source": [
        "S1meanrefA1_705 = list()\n",
        "S1meanB1_105 = list()\n",
        "for i in range(S1HSV_imgA1B1_5.shape[0]): \n",
        "     for j in range(S1HSV_imgA1B1_5.shape[1]): \n",
        "                if 1769<i<1881 and 2019<j<2131 :\n",
        "                  S1meanrefA1_705.append(S1HSV_imgA1B1_5[i][j])\n",
        "                if 1770<i<1880 and 2015<j<2145 :\n",
        "                  S1meanB1_105.append(S1HSV_imgA1B1_5[i][j])  \n",
        "S1meanrefA1_705 = np.array(S1meanrefA1_705)\n",
        "S1meanB1_105 = np.array(S1meanB1_105)\n",
        "\n",
        "S1hsvrefA1_705 = list()\n",
        "S1hsvB1_105 = list()\n",
        "for i in range(3):\n",
        "    S1hsvrefA1_705.append(S1meanrefA1_7[:,i].mean())\n",
        "    S1hsvB1_105.append(S1meanB1_1[:,i].mean())"
      ],
      "execution_count": 826,
      "outputs": []
    },
    {
      "cell_type": "code",
      "metadata": {
        "id": "7qGd14_BaJL9"
      },
      "source": [
        "S1meanrefA1_805 = list()\n",
        "S1meanB2_105 = list()\n",
        "for i in range(S1HSV_imgA1B2_5.shape[0]): \n",
        "     for j in range(S1HSV_imgA1B2_5.shape[1]): \n",
        "                if 1769<i<1881 and 2019<j<2131 :\n",
        "                  S1meanrefA1_805.append(S1HSV_imgA1B2_5[i][j])\n",
        "                if 1770<i<1880 and 2015<j<2145 :\n",
        "                  S1meanB2_105.append(S1HSV_imgA1B2_5[i][j])  \n",
        "S1meanrefA1_805 = np.array(S1meanrefA1_805)\n",
        "S1meanB2_105 = np.array(S1meanB2_105)\n",
        "\n",
        "S1hsvrefA1_805 = list()\n",
        "S1hsvB2_105 = list()\n",
        "for i in range(3):\n",
        "    S1hsvrefA1_805.append(S1meanrefA1_805[:,i].mean())\n",
        "    S1hsvB2_105.append(S1meanB2_105[:,i].mean())"
      ],
      "execution_count": 827,
      "outputs": []
    },
    {
      "cell_type": "code",
      "metadata": {
        "id": "tuT8A623aJL9"
      },
      "source": [
        "S1meanrefA1_905 = list()\n",
        "S1meanB3_105= list()\n",
        "for i in range(S1HSV_imgA1B3_5.shape[0]): \n",
        "     for j in range(S1HSV_imgA1B3_5.shape[1]): \n",
        "                if 1769<i<1881 and 2019<j<2131 :\n",
        "                  S1meanrefA1_905.append(S1HSV_imgA1B3_5[i][j])\n",
        "                if 1770<i<1880 and 2015<j<2145 :\n",
        "                  S1meanB3_105.append(S1HSV_imgA1B3_5[i][j])  \n",
        "S1meanrefA1_905 = np.array(S1meanrefA1_905)\n",
        "S1meanB3_105 = np.array(S1meanB3_105)\n",
        "\n",
        "S1hsvrefA1_905 = list()\n",
        "S1hsvB3_105 = list()\n",
        "for i in range(3):\n",
        "    S1hsvrefA1_905.append(S1meanrefA1_905[:,i].mean())\n",
        "    S1hsvB3_105.append(S1meanB3_105[:,i].mean())"
      ],
      "execution_count": 828,
      "outputs": []
    },
    {
      "cell_type": "code",
      "metadata": {
        "id": "8zaqHapfaJL-"
      },
      "source": [
        "S1meanrefA1_1005 = list()\n",
        "S1meanB4_105 = list()\n",
        "for i in range(S1HSV_imgA1B4_5.shape[0]): \n",
        "     for j in range(S1HSV_imgA1B4_5.shape[1]): \n",
        "                if 1769<i<1881 and 2019<j<2131 :\n",
        "                  S1meanrefA1_1005.append(S1HSV_imgA1B4_5[i][j])\n",
        "                if 1770<i<1880 and 2015<j<2145 :\n",
        "                  S1meanB4_105.append(S1HSV_imgA1B4_5[i][j])  \n",
        "S1meanrefA1_1005 = np.array(S1meanrefA1_1005)\n",
        "S1meanB4_105 = np.array(S1meanB4_105)\n",
        "\n",
        "S1hsvrefA1_1005 = list()\n",
        "S1hsvB4_105 = list()\n",
        "for i in range(3):\n",
        "    S1hsvrefA1_1005.append(S1meanrefA1_1005[:,i].mean())\n",
        "    S1hsvB4_105.append(S1meanB4_105[:,i].mean())"
      ],
      "execution_count": 829,
      "outputs": []
    },
    {
      "cell_type": "code",
      "metadata": {
        "id": "06bY9c0LaJL-"
      },
      "source": [
        "S1meanrefA1_1105 = list()\n",
        "S1meanC1_105 = list()\n",
        "for i in range(S1HSV_imgA1C1_5.shape[0]): \n",
        "     for j in range(S1HSV_imgA1C1_5.shape[1]): \n",
        "                if 1769<i<1881 and 2019<j<2131 :\n",
        "                  S1meanrefA1_1105.append(S1HSV_imgA1C1_5[i][j])\n",
        "                if 1770<i<1880 and 2015<j<2145 :\n",
        "                  S1meanC1_105.append(S1HSV_imgA1C1_5[i][j])  \n",
        "S1meanrefA1_1105 = np.array(S1meanrefA1_1105)\n",
        "S1meanC1_105 = np.array(S1meanC1_105)\n",
        "\n",
        "S1hsvrefA1_1105 = list()\n",
        "S1hsvC1_105= list()\n",
        "for i in range(3):\n",
        "    S1hsvrefA1_1105.append(S1meanrefA1_1105[:,i].mean())\n",
        "    S1hsvC1_105.append(S1meanC1_105[:,i].mean())"
      ],
      "execution_count": 830,
      "outputs": []
    },
    {
      "cell_type": "code",
      "metadata": {
        "id": "N2jnieV0aJL-"
      },
      "source": [
        "S1meanrefA1_1205 = list()\n",
        "S1meanC2_105 = list()\n",
        "for i in range(S1HSV_imgA1C2_5.shape[0]): \n",
        "     for j in range(S1HSV_imgA1C2_5.shape[1]): \n",
        "                if 1769<i<1881 and 2019<j<2131 :\n",
        "                  S1meanrefA1_1205.append(S1HSV_imgA1C2_5[i][j])\n",
        "                if 1770<i<1880 and 2015<j<2145 :\n",
        "                  S1meanC2_105.append(S1HSV_imgA1C2_5[i][j])  \n",
        "S1meanrefA1_1205 = np.array(S1meanrefA1_1205)\n",
        "S1meanC2_105 = np.array(S1meanC2_105)\n",
        "\n",
        "S1hsvrefA1_1205 = list()\n",
        "S1hsvC2_105 = list()\n",
        "for i in range(3):\n",
        "    S1hsvrefA1_1205.append(S1meanrefA1_1205[:,i].mean())\n",
        "    S1hsvC2_105.append(S1meanC2_105[:,i].mean())"
      ],
      "execution_count": 831,
      "outputs": []
    },
    {
      "cell_type": "code",
      "metadata": {
        "id": "VhyPBVeaaJL_"
      },
      "source": [
        "S1meanrefA1_1305 = list()\n",
        "S1meanC3_105 = list()\n",
        "for i in range(S1HSV_imgA1C3_5.shape[0]): \n",
        "     for j in range(S1HSV_imgA1C3_5.shape[1]): \n",
        "                if 1769<i<1881 and 2019<j<2131 :\n",
        "                  S1meanrefA1_1305 .append(S1HSV_imgA1C3_5[i][j])\n",
        "                if 1770<i<1880 and 2015<j<2145 :\n",
        "                  S1meanC3_105 .append(S1HSV_imgA1C3_5[i][j])  \n",
        "S1meanrefA1_1305 = np.array(S1meanrefA1_1305)\n",
        "S1meanC3_105 = np.array(S1meanC3_105)\n",
        "\n",
        "S1hsvrefA1_1305 = list()\n",
        "S1hsvC3_105 = list()\n",
        "for i in range(3):\n",
        "    S1hsvrefA1_1305.append(S1meanrefA1_1305[:,i].mean())\n",
        "    S1hsvC3_105.append(S1meanC3_105[:,i].mean())"
      ],
      "execution_count": 832,
      "outputs": []
    },
    {
      "cell_type": "code",
      "metadata": {
        "id": "t-9dLwsoaJL_"
      },
      "source": [
        "S1meanrefA1_1405 = list()\n",
        "S1meanC4_105 = list()\n",
        "for i in range(S1HSV_imgA1C4_5.shape[0]): \n",
        "     for j in range(S1HSV_imgA1C4_5.shape[1]): \n",
        "                if 1769<i<1881 and 2019<j<2131 :\n",
        "                  S1meanrefA1_1405.append(S1HSV_imgA1C4_5[i][j])\n",
        "                if 1770<i<1880 and 2015<j<2145 :\n",
        "                  S1meanC4_105.append(S1HSV_imgA1C4_5[i][j])  \n",
        "S1meanrefA1_1405 = np.array(S1meanrefA1_1405)\n",
        "S1meanC4_105 = np.array(S1meanC4_105)\n",
        "\n",
        "S1hsvrefA1_1405 = list()\n",
        "S1hsvC4_105 = list()\n",
        "for i in range(3):\n",
        "    S1hsvrefA1_1405.append(S1meanrefA1_1405[:,i].mean())\n",
        "    S1hsvC4_105.append(S1meanC4_105[:,i].mean())"
      ],
      "execution_count": 833,
      "outputs": []
    },
    {
      "cell_type": "code",
      "metadata": {
        "id": "XDE-yECUaJL_"
      },
      "source": [
        "S1meanrefA1_1505  = list()\n",
        "S1meanD2_105  = list()\n",
        "for i in range(S1HSV_imgA1D2_5.shape[0]): \n",
        "     for j in range(S1HSV_imgA1D2_5.shape[1]): \n",
        "                if 1769<i<1881 and 2019<j<2131 :\n",
        "                  S1meanrefA1_1505 .append(S1HSV_imgA1D2_5[i][j])\n",
        "                if 1770<i<1880 and 2015<j<2145 :\n",
        "                  S1meanD2_105 .append(S1HSV_imgA1D2_5[i][j])  \n",
        "S1meanrefA1_1505 = np.array(S1meanrefA1_1505)\n",
        "S1meanD2_105  = np.array(S1meanD2_105)\n",
        "\n",
        "S1hsvrefA1_1505 = list()\n",
        "S1hsvD2_105 = list()\n",
        "for i in range(3):\n",
        "    S1hsvrefA1_1505.append(S1meanrefA1_1505[:,i].mean())\n",
        "    S1hsvD2_105.append(S1meanD2_105[:,i].mean())"
      ],
      "execution_count": 834,
      "outputs": []
    },
    {
      "cell_type": "code",
      "metadata": {
        "id": "pLUKwAK3aJMA"
      },
      "source": [
        "S1meanrefA1_1605 = list()\n",
        "S1meanD3_105 = list()\n",
        "for i in range(S1HSV_imgA1D3_5.shape[0]): \n",
        "     for j in range(S1HSV_imgA1D3_5.shape[1]): \n",
        "                if 1769<i<1881 and 2019<j<2131 :\n",
        "                  S1meanrefA1_1605.append(S1HSV_imgA1D3_5[i][j])\n",
        "                if 1770<i<1880 and 2015<j<2145 :\n",
        "                  S1meanD3_105.append(S1HSV_imgA1D3_5[i][j])  \n",
        "S1meanrefA1_1605 = np.array(S1meanrefA1_1605)\n",
        "S1meanD3_105 = np.array(S1meanD3_105)\n",
        "\n",
        "S1hsvrefA1_1605 = list()\n",
        "S1hsvD3_105 = list()\n",
        "for i in range(3):\n",
        "    S1hsvrefA1_1605.append(S1meanrefA1_1605[:,i].mean())\n",
        "    S1hsvD3_105.append(S1meanD3_105[:,i].mean())"
      ],
      "execution_count": 835,
      "outputs": []
    },
    {
      "cell_type": "code",
      "metadata": {
        "id": "bOfaWIAsaJMA"
      },
      "source": [
        "S1meanrefA1_1705= list()\n",
        "S1meanD4_105 = list()\n",
        "for i in range(S1HSV_imgA1D4_5.shape[0]): \n",
        "     for j in range(S1HSV_imgA1D4_5.shape[1]): \n",
        "                if 1769<i<1881 and 2019<j<2131 :\n",
        "                  S1meanrefA1_1705.append(S1HSV_imgA1D4_5[i][j])\n",
        "                if 1770<i<1880 and 2015<j<2145 :\n",
        "                  S1meanD4_105.append(S1HSV_imgA1D4_5[i][j])  \n",
        "S1meanrefA1_1705 = np.array(S1meanrefA1_1405)\n",
        "S1meanD4_105 = np.array(S1meanD4_105)\n",
        "\n",
        "S1hsvrefA1_1705 = list()\n",
        "S1hsvD4_105 = list()\n",
        "for i in range(3):\n",
        "    S1hsvrefA1_1705.append(S1meanrefA1_1705[:,i].mean())\n",
        "    S1hsvD4_105.append(S1meanD4_105[:,i].mean())"
      ],
      "execution_count": 836,
      "outputs": []
    },
    {
      "cell_type": "markdown",
      "metadata": {
        "id": "4ihnBocWKAjD"
      },
      "source": [
        "#7.สร้างตาราง"
      ]
    },
    {
      "cell_type": "code",
      "metadata": {
        "id": "EjvYvGQwEIVW"
      },
      "source": [
        "from tabulate import tabulate"
      ],
      "execution_count": 837,
      "outputs": []
    },
    {
      "cell_type": "code",
      "source": [
        "df = pd.DataFrame({'R-ref':[S1rgbrefA1_1[0]], 'G-ref': [S1rgbrefA1_1[1]],'B-ref': [S1rgbrefA1_1[2]],'R-Shad':  [S1rgbA1_2[0]], 'G-Shad':[S1rgbA1_2[1]],'B-Shad': [S1rgbA1_2[2]]\n",
        "})\n",
        "df"
      ],
      "metadata": {
        "colab": {
          "base_uri": "https://localhost:8080/",
          "height": 81
        },
        "id": "Xi8IQeIcuaEb",
        "outputId": "ee86d250-907a-43e7-efb2-6f2362cde996"
      },
      "execution_count": 838,
      "outputs": [
        {
          "output_type": "execute_result",
          "data": {
            "text/html": [
              "<div>\n",
              "<style scoped>\n",
              "    .dataframe tbody tr th:only-of-type {\n",
              "        vertical-align: middle;\n",
              "    }\n",
              "\n",
              "    .dataframe tbody tr th {\n",
              "        vertical-align: top;\n",
              "    }\n",
              "\n",
              "    .dataframe thead th {\n",
              "        text-align: right;\n",
              "    }\n",
              "</style>\n",
              "<table border=\"1\" class=\"dataframe\">\n",
              "  <thead>\n",
              "    <tr style=\"text-align: right;\">\n",
              "      <th></th>\n",
              "      <th>R-ref</th>\n",
              "      <th>G-ref</th>\n",
              "      <th>B-ref</th>\n",
              "      <th>R-Shad</th>\n",
              "      <th>G-Shad</th>\n",
              "      <th>B-Shad</th>\n",
              "    </tr>\n",
              "  </thead>\n",
              "  <tbody>\n",
              "    <tr>\n",
              "      <th>0</th>\n",
              "      <td>241.512841</td>\n",
              "      <td>217.179564</td>\n",
              "      <td>159.979199</td>\n",
              "      <td>241.853396</td>\n",
              "      <td>217.895203</td>\n",
              "      <td>161.513002</td>\n",
              "    </tr>\n",
              "  </tbody>\n",
              "</table>\n",
              "</div>"
            ],
            "text/plain": [
              "        R-ref       G-ref       B-ref      R-Shad      G-Shad      B-Shad\n",
              "0  241.512841  217.179564  159.979199  241.853396  217.895203  161.513002"
            ]
          },
          "metadata": {},
          "execution_count": 838
        }
      ]
    },
    {
      "cell_type": "code",
      "metadata": {
        "id": "g1Ir2tayht50"
      },
      "source": [
        "table   = [['R-ref', 'G-ref', 'B-ref', 'R-Shad', 'G-Shad', 'B-Shad', 'H-ref', 'S-ref', 'V-ref', 'H-Shad', 'S-Shad', 'V-Shad', 'Shade-ref', 'Shade', 'Setting']]"
      ],
      "execution_count": 839,
      "outputs": []
    },
    {
      "cell_type": "code",
      "metadata": {
        "id": "holTb0QrmfaQ",
        "colab": {
          "base_uri": "https://localhost:8080/",
          "height": 808
        },
        "outputId": "2d6669e1-9857-44d8-8d9a-f30f5ad247ab"
      },
      "source": [
        "df1 = pd.DataFrame({'R-ref':[S1rgbrefA1_1[0],S1rgbrefA1_102[0],S1rgbrefA1_103[0],S1rgbrefA1_104[0],S1rgbrefA1_105[0],S1rgbrefA1_3[0],S1rgbrefA1_302[0],S1rgbrefA1_303[0],S1rgbrefA1_304[0],S1rgbrefA1_305[0],S1rgbrefA1_4[0], S1rgbrefA1_402[0], S1rgbrefA1_403[0], S1rgbrefA1_404[0], S1rgbrefA1_405[0],S1rgbrefA1_5[0], S1rgbrefA1_502[0], S1rgbrefA1_503[0], S1rgbrefA1_504[0], S1rgbrefA1_505[0],S1rgbrefA1_6[0], S1rgbrefA1_602[0], S1rgbrefA1_603[0], S1rgbrefA1_604[0], S1rgbrefA1_605[0],S1rgbrefA1_7[0], S1rgbrefA1_702[0], S1rgbrefA1_703[0], S1rgbrefA1_704[0],S1rgbrefA1_705[0],S1rgbrefA1_8[0], S1rgbrefA1_802[0], S1rgbrefA1_803[0], S1rgbrefA1_804[0], S1rgbrefA1_805[0],S1rgbrefA1_9[0], S1rgbrefA1_902[0], S1rgbrefA1_903[0], S1rgbrefA1_904[0], S1rgbrefA1_905[0],S1rgbrefA1_10[0], S1rgbrefA1_1002[0], S1rgbrefA1_1003[0], S1rgbrefA1_1004[0], S1rgbrefA1_1005[0], S1rgbrefA1_11[0], S1rgbrefA1_1102[0], S1rgbrefA1_1103[0], S1rgbrefA1_1104[0], S1rgbrefA1_1105[0],S1rgbrefA1_12[0], S1rgbrefA1_1202[0], S1rgbrefA1_1203[0], S1rgbrefA1_1204[0], S1rgbrefA1_1205[0],S1rgbrefA1_13[0], S1rgbrefA1_1302[0], S1rgbrefA1_1303[0], S1rgbrefA1_1304[0], S1rgbrefA1_1305[0], S1rgbrefA1_14[0], S1rgbrefA1_1402[0], S1rgbrefA1_1403[0], S1rgbrefA1_1404[0], S1rgbrefA1_1405[0], S1rgbrefA1_15[0], S1rgbrefA1_1502[0], S1rgbrefA1_1503[0], S1rgbrefA1_1504[0], S1rgbrefA1_1505[0],  S1rgbrefA1_16[0], S1rgbrefA1_1602[0], S1rgbrefA1_1603[0], S1rgbrefA1_1604[0], S1rgbrefA1_1605[0], S1rgbrefA1_17[0], S1rgbrefA1_1702[0], S1rgbrefA1_1703[0], S1rgbrefA1_1704[0], S1rgbrefA1_1705[0]],\n",
        "'G-ref': [S1rgbrefA1_1[1],S1rgbrefA1_102[1],S1rgbrefA1_103[1],S1rgbrefA1_104[1],S1rgbrefA1_105[1],S1rgbrefA1_3[1],S1rgbrefA1_302[1],S1rgbrefA1_303[1],S1rgbrefA1_304[1],S1rgbrefA1_305[1],S1rgbrefA1_4[1], S1rgbrefA1_402[1], S1rgbrefA1_403[1], S1rgbrefA1_404[1], S1rgbrefA1_405[1],S1rgbrefA1_5[1], S1rgbrefA1_502[1], S1rgbrefA1_503[1], S1rgbrefA1_504[1], S1rgbrefA1_505[1],S1rgbrefA1_6[1], S1rgbrefA1_602[1], S1rgbrefA1_603[1], S1rgbrefA1_604[1], S1rgbrefA1_605[1],S1rgbrefA1_7[1], S1rgbrefA1_702[1], S1rgbrefA1_703[1], S1rgbrefA1_704[1],S1rgbrefA1_705[1],S1rgbrefA1_8[1], S1rgbrefA1_802[1],S1rgbrefA1_803[1], S1rgbrefA1_804[1], S1rgbrefA1_805[1],S1rgbrefA1_9[1], S1rgbrefA1_902[1], S1rgbrefA1_903[1], S1rgbrefA1_904[1], S1rgbrefA1_905[1],S1rgbrefA1_10[1], S1rgbrefA1_1002[1], S1rgbrefA1_1003[1], S1rgbrefA1_1004[1], S1rgbrefA1_1005[1],  S1rgbrefA1_11[1], S1rgbrefA1_1102[1], S1rgbrefA1_1103[1], S1rgbrefA1_1104[1], S1rgbrefA1_1105[1],S1rgbrefA1_12[1],S1rgbrefA1_1202[1], S1rgbrefA1_1203[1], S1rgbrefA1_1204[1], S1rgbrefA1_1205[1],S1rgbrefA1_13[1], S1rgbrefA1_1302[1], S1rgbrefA1_1303[1], S1rgbrefA1_1304[1], S1rgbrefA1_1305[1], S1rgbrefA1_14[1], S1rgbrefA1_1402[1], S1rgbrefA1_1403[1], S1rgbrefA1_1404[1], S1rgbrefA1_1405[1],S1rgbrefA1_15[1], S1rgbrefA1_1502[1], S1rgbrefA1_1503[1], S1rgbrefA1_1504[1], S1rgbrefA1_1505[1], S1rgbrefA1_16[1], S1rgbrefA1_1602[1], S1rgbrefA1_1603[1], S1rgbrefA1_1604[1], S1rgbrefA1_1605[1],S1rgbrefA1_17[1], S1rgbrefA1_1702[1], S1rgbrefA1_1703[1], S1rgbrefA1_1704[1], S1rgbrefA1_1705[1]],\n",
        "'B-ref': [S1rgbrefA1_1[2],S1rgbrefA1_102[2],S1rgbrefA1_103[2],S1rgbrefA1_104[2],S1rgbrefA1_105[2],S1rgbrefA1_3[2],S1rgbrefA1_302[2],S1rgbrefA1_303[2],S1rgbrefA1_304[2],S1rgbrefA1_305[2],S1rgbrefA1_4[2], S1rgbrefA1_402[2], S1rgbrefA1_403[2], S1rgbrefA1_404[2], S1rgbrefA1_405[2],S1rgbrefA1_5[2], S1rgbrefA1_502[2], S1rgbrefA1_503[2], S1rgbrefA1_504[2], S1rgbrefA1_505[2],S1rgbrefA1_6[2], S1rgbrefA1_602[2], S1rgbrefA1_603[2], S1rgbrefA1_604[2], S1rgbrefA1_605[2],S1rgbrefA1_7[2], S1rgbrefA1_702[2], S1rgbrefA1_703[2], S1rgbrefA1_704[2],S1rgbrefA1_705[2],S1rgbrefA1_8[2], S1rgbrefA1_802[2], S1rgbrefA1_803[2], S1rgbrefA1_804[2], S1rgbrefA1_805[2],S1rgbrefA1_9[2], S1rgbrefA1_902[2], S1rgbrefA1_903[2], S1rgbrefA1_904[2], S1rgbrefA1_905[2],S1rgbrefA1_10[2], S1rgbrefA1_1002[2], S1rgbrefA1_1003[2], S1rgbrefA1_1004[2], S1rgbrefA1_1005[2],S1rgbrefA1_11[2], S1rgbrefA1_1102[2], S1rgbrefA1_1103[2], S1rgbrefA1_1104[2], S1rgbrefA1_1105[2],S1rgbrefA1_12[2], S1rgbrefA1_1202[2], S1rgbrefA1_1203[2], S1rgbrefA1_1204[2], S1rgbrefA1_1205[2],S1rgbrefA1_13[2], S1rgbrefA1_1302[2], S1rgbrefA1_1303[2], S1rgbrefA1_1304[2], S1rgbrefA1_1305[2],S1rgbrefA1_14[2], S1rgbrefA1_1402[2], S1rgbrefA1_1403[2], S1rgbrefA1_1404[2], S1rgbrefA1_1405[2],S1rgbrefA1_15[2], S1rgbrefA1_1502[2], S1rgbrefA1_1503[2], S1rgbrefA1_1504[2], S1rgbrefA1_1505[2],S1rgbrefA1_16[2], S1rgbrefA1_1602[2], S1rgbrefA1_1603[2], S1rgbrefA1_1604[2], S1rgbrefA1_1605[2],S1rgbrefA1_17[2], S1rgbrefA1_1702[2], S1rgbrefA1_1703[2], S1rgbrefA1_1704[2], S1rgbrefA1_1705[2]], \n",
        "'R-Shad':  [S1rgbA1_2[0], S1rgbA1_202[0], S1rgbA1_203[0], S1rgbA1_204[0], S1rgbA1_205[0], S1rgbA2_1[0], S1rgbA2_102[0],  S1rgbA2_103[0], S1rgbA2_104[0], S1rgbA2_105[0],S1rgbA3_1[0], S1rgbA3_102[0],S1rgbA3_103[0],S1rgbA3_104[0],S1rgbA3_105[0],S1rgbA3_51[0],S1rgbA3_5102[0],S1rgbA3_5103[0],S1rgbA3_5104[0],  S1rgbA3_5105[0],S1rgbA4_1[0],S1rgbA4_102[0], S1rgbA4_103[0],S1rgbA4_104[0],S1rgbA4_105[0],S1rgbB1_1[0],S1rgbB1_102[0],S1rgbB1_103[0],S1rgbB1_104[0],S1rgbB1_105[0],S1rgbB2_1[0],S1rgbB2_102[0],S1rgbB2_103[0],S1rgbB2_104[0],S1rgbB2_105[0],S1rgbB3_1[0],S1rgbB3_102[0],S1rgbB3_103[0],S1rgbB3_104[0],S1rgbB3_105[0],S1rgbB4_1[0],S1rgbB4_102[0],S1rgbB4_103[0],S1rgbB4_104[0],S1rgbB4_105[0],S1rgbC1_1[0],S1rgbC1_102[0],S1rgbC1_103[0],S1rgbC1_104[0],S1rgbC1_105[0],S1rgbC2_1[0],S1rgbC2_102[0],S1rgbC2_103[0],S1rgbC2_104[0],S1rgbC2_105[0],S1rgbC3_1[0],S1rgbC3_102[0],S1rgbC3_103[0],S1rgbC3_104[0],S1rgbC3_105[0],S1rgbC4_1[0],S1rgbC4_102[0],S1rgbC4_103[0],S1rgbC4_104[0],S1rgbC4_105[0],S1rgbD2_1[0],S1rgbD2_102[0],S1rgbD2_103[0],S1rgbD2_104[0],S1rgbD2_105[0],S1rgbD3_1[0],S1rgbD3_102[0],S1rgbD3_103[0],S1rgbD3_104[0],S1rgbD3_105[0],S1rgbD4_1[0],S1rgbD4_102[0],S1rgbD4_103[0],S1rgbD4_104[0],S1rgbD4_105[0]],\n",
        "'G-Shad':[S1rgbA1_2[1],S1rgbA1_202[1],S1rgbA1_203[1],S1rgbA1_204[1],S1rgbA1_205[1],S1rgbA2_1[1],S1rgbA2_102[1],S1rgbA2_103[1],S1rgbA2_104[1],S1rgbA2_105[1],S1rgbA3_1[1],S1rgbA3_102[1],S1rgbA3_103[1],S1rgbA3_104[1],S1rgbA3_105[1],S1rgbA3_51[1], S1rgbA3_5102[1], S1rgbA3_5103[1],S1rgbA3_5104[1],  S1rgbA3_5105[1],S1rgbA4_1[1],S1rgbA4_102[1],S1rgbA4_103[1],S1rgbA4_104[1],S1rgbA4_105[1],S1rgbB1_1[1],S1rgbB1_102[1],S1rgbB1_103[1],S1rgbB1_104[1],S1rgbB1_105[1],S1rgbB2_1[1],S1rgbB2_102[1],S1rgbB2_103[1],S1rgbB2_104[1],S1rgbB2_105[1],S1rgbB3_1[1],S1rgbB3_102[1],S1rgbB3_103[1],S1rgbB3_104[1],S1rgbB3_105[1],S1rgbB4_1[1],S1rgbB4_102[1],S1rgbB4_103[1],S1rgbB4_104[1],S1rgbB4_105[1],S1rgbC1_1[1],S1rgbC1_102[1],S1rgbC1_103[1],S1rgbC1_104[1],S1rgbC1_105[1],S1rgbC2_1[1],S1rgbC2_102[1],S1rgbC2_103[1],S1rgbC2_104[1],S1rgbC2_105[1],S1rgbC3_1[1],S1rgbC3_102[1],S1rgbC3_103[1],S1rgbC3_104[1],S1rgbC3_105[1],S1rgbC4_1[1],S1rgbC4_102[1],S1rgbC4_103[1],S1rgbC4_104[1],S1rgbC4_105[1],S1rgbD2_1[1],S1rgbD2_102[1],S1rgbD2_103[1],S1rgbD2_104[1],S1rgbD2_105[1],S1rgbD3_1[1],S1rgbD3_102[1],S1rgbD3_103[1],S1rgbD3_104[1],S1rgbD3_105[1],S1rgbD4_1[1],S1rgbD4_102[1],S1rgbD4_103[1],S1rgbD4_104[1],S1rgbD4_105[1]],\n",
        "'B-Shad': [S1rgbA1_2[2],S1rgbA1_202[2],S1rgbA1_203[2],S1rgbA1_204[2],S1rgbA1_205[2],S1rgbA2_1[2],S1rgbA2_102[2],S1rgbA2_103[2],S1rgbA2_104[2],S1rgbA2_105[2],S1rgbA3_1[2],S1rgbA3_102[2],S1rgbA3_103[2],S1rgbA3_104[2],S1rgbA3_105[2],S1rgbA3_51[2],S1rgbA3_5102[2],S1rgbA3_5103[2], S1rgbA3_5104[2],  S1rgbA3_5105[2],S1rgbA4_1[2],S1rgbA4_102[2], S1rgbA4_103[2],S1rgbA4_104[2],S1rgbA4_105[2],S1rgbB1_1[2],S1rgbB1_102[2],S1rgbB1_103[2],S1rgbB1_104[2],S1rgbB1_105[2],S1rgbB2_1[2],S1rgbB2_102[2],S1rgbB2_103[2],S1rgbB2_104[2],S1rgbB2_105[2],S1rgbB3_1[2],S1rgbB3_102[2],S1rgbB3_103[2],S1rgbB3_104[2],S1rgbB3_105[2],S1rgbB4_1[2],S1rgbB4_102[2],S1rgbB4_103[2],S1rgbB4_104[2],S1rgbB4_105[2],S1rgbC1_1[2],S1rgbC1_102[2],S1rgbC1_103[2],S1rgbC1_104[2],S1rgbC1_105[2],S1rgbC2_1[2],S1rgbC2_102[2],S1rgbC2_103[2],S1rgbC2_104[2],S1rgbC2_105[2],S1rgbC3_1[2],S1rgbC3_102[2],S1rgbC3_103[2],S1rgbC3_104[2],S1rgbC3_105[2],S1rgbC4_1[2],S1rgbC4_102[2],S1rgbC4_103[2],S1rgbC4_104[2],S1rgbC4_105[2],S1rgbD2_1[2],S1rgbD2_102[2],S1rgbD2_103[2],S1rgbD2_104[2],S1rgbD2_105[2],S1rgbD3_1[2],S1rgbD3_102[2],S1rgbD3_103[2],S1rgbD3_104[2],S1rgbD3_105[2],S1rgbD4_1[2],S1rgbD4_102[2],S1rgbD4_103[2],S1rgbD4_104[2],S1rgbD4_105[2]],\n",
        "'H-ref':[S1hsvrefA1_1[0],S1hsvrefA1_102[0],S1hsvrefA1_103[0],S1hsvrefA1_104[0],S1hsvrefA1_105[0],S1hsvrefA1_3[0],S1hsvrefA1_302[0],S1hsvrefA1_303[0],S1hsvrefA1_304[0],S1hsvrefA1_305[0],S1hsvrefA1_4[0], S1hsvrefA1_402[0], S1hsvrefA1_403[0], S1hsvrefA1_404[0], S1hsvrefA1_405[0],S1hsvrefA1_5[0], S1hsvrefA1_502[0], S1hsvrefA1_503[0], S1hsvrefA1_504[0], S1hsvrefA1_505[0],S1hsvrefA1_6[0], S1hsvrefA1_602[0], S1hsvrefA1_603[0], S1hsvrefA1_604[0], S1hsvrefA1_605[0],S1hsvrefA1_7[0], S1hsvrefA1_702[0], S1hsvrefA1_703[0], S1hsvrefA1_704[0],S1hsvrefA1_705[0],S1hsvrefA1_8[0], S1hsvrefA1_802[0],S1hsvrefA1_803[0], S1hsvrefA1_804[0], S1hsvrefA1_805[0],S1hsvrefA1_9[0], S1hsvrefA1_902[0], S1hsvrefA1_903[0], S1hsvrefA1_904[0], S1hsvrefA1_905[0],S1hsvrefA1_10[0], S1hsvrefA1_1002[0], S1hsvrefA1_1003[0], S1hsvrefA1_1004[0], S1hsvrefA1_1005[0], S1hsvrefA1_11[0], S1hsvrefA1_1102[0], S1hsvrefA1_1103[0], S1hsvrefA1_1104[0], S1hsvrefA1_1105[0],S1hsvrefA1_12[0], S1hsvrefA1_1202[0], S1hsvrefA1_1203[0], S1hsvrefA1_1204[0], S1hsvrefA1_1205[0],S1hsvrefA1_13[0], S1hsvrefA1_1302[0], S1hsvrefA1_1303[0], S1hsvrefA1_1304[0], S1hsvrefA1_1305[0], S1hsvrefA1_14[0], S1hsvrefA1_1402[0], S1hsvrefA1_1403[0], S1hsvrefA1_1404[0], S1hsvrefA1_1405[0],  S1hsvrefA1_15[0], S1hsvrefA1_1502[0], S1hsvrefA1_1503[0], S1hsvrefA1_1504[0], S1hsvrefA1_1505[0], S1hsvrefA1_16[0], S1hsvrefA1_1602[0], S1hsvrefA1_1603[0], S1hsvrefA1_1604[0], S1hsvrefA1_1605[0], S1hsvrefA1_17[0], S1hsvrefA1_1702[0], S1hsvrefA1_1703[0], S1hsvrefA1_1704[0], S1hsvrefA1_1705[0]], \n",
        "'S-ref':[S1hsvrefA1_1[1],S1hsvrefA1_102[1],S1hsvrefA1_103[1],S1hsvrefA1_104[1],S1hsvrefA1_105[1],S1hsvrefA1_3[1],S1hsvrefA1_302[1],S1hsvrefA1_303[1],S1hsvrefA1_304[1],S1hsvrefA1_305[1],S1hsvrefA1_4[1], S1hsvrefA1_402[1], S1hsvrefA1_403[1], S1hsvrefA1_404[1], S1hsvrefA1_405[1],S1hsvrefA1_5[1], S1hsvrefA1_502[1], S1hsvrefA1_503[1], S1hsvrefA1_504[1], S1hsvrefA1_505[1],S1hsvrefA1_6[1], S1hsvrefA1_602[1], S1hsvrefA1_603[1], S1hsvrefA1_604[1], S1hsvrefA1_605[1],S1hsvrefA1_7[1], S1hsvrefA1_702[1], S1hsvrefA1_703[1], S1hsvrefA1_704[1],S1hsvrefA1_705[1], S1hsvrefA1_8[1], S1hsvrefA1_802[1], S1hsvrefA1_803[1], S1hsvrefA1_804[1], S1hsvrefA1_805[1],S1hsvrefA1_9[1], S1hsvrefA1_902[1], S1hsvrefA1_903[1], S1hsvrefA1_904[1], S1hsvrefA1_905[1],S1hsvrefA1_10[1], S1hsvrefA1_1002[1], S1hsvrefA1_1003[1], S1hsvrefA1_1004[1], S1hsvrefA1_1005[1], S1hsvrefA1_11[1], S1hsvrefA1_1102[1], S1hsvrefA1_1103[1], S1hsvrefA1_1104[1], S1hsvrefA1_1105[1],S1hsvrefA1_12[1], S1hsvrefA1_1202[1], S1hsvrefA1_1203[1], S1hsvrefA1_1204[1], S1hsvrefA1_1205[1],S1hsvrefA1_13[1], S1hsvrefA1_1302[1], S1hsvrefA1_1303[1],S1hsvrefA1_1304[1], S1hsvrefA1_1305[1], S1hsvrefA1_14[1], S1hsvrefA1_1402[1], S1hsvrefA1_1403[1], S1hsvrefA1_1404[1], S1hsvrefA1_1405[1], S1hsvrefA1_15[1], S1hsvrefA1_1502[1], S1hsvrefA1_1503[1], S1hsvrefA1_1504[1], S1hsvrefA1_1505[1], S1hsvrefA1_16[1], S1hsvrefA1_1602[1], S1hsvrefA1_1603[1], S1hsvrefA1_1604[1], S1hsvrefA1_1605[1], S1hsvrefA1_17[1], S1hsvrefA1_1702[1], S1hsvrefA1_1703[1], S1hsvrefA1_1704[1], S1hsvrefA1_1705[1]],\n",
        "'V-ref':[S1hsvrefA1_1[2],S1hsvrefA1_102[2],S1hsvrefA1_103[2],S1hsvrefA1_104[2],S1hsvrefA1_105[2],S1hsvrefA1_3[1],S1hsvrefA1_302[1],S1hsvrefA1_303[1],S1hsvrefA1_304[1],S1hsvrefA1_305[1],S1hsvrefA1_4[2], S1hsvrefA1_402[2], S1hsvrefA1_403[2], S1hsvrefA1_404[2], S1hsvrefA1_405[2],S1hsvrefA1_5[2], S1hsvrefA1_502[2], S1hsvrefA1_503[2], S1hsvrefA1_504[2], S1hsvrefA1_505[2],S1hsvrefA1_6[2], S1hsvrefA1_602[2], S1hsvrefA1_603[2], S1hsvrefA1_604[2], S1hsvrefA1_605[2],S1hsvrefA1_7[2], S1hsvrefA1_702[2], S1hsvrefA1_703[2], S1hsvrefA1_704[2],S1hsvrefA1_705[2],S1hsvrefA1_8[2], S1hsvrefA1_802[2], S1hsvrefA1_803[2], S1hsvrefA1_804[2], S1hsvrefA1_805[2],S1hsvrefA1_9[2], S1hsvrefA1_902[2], S1hsvrefA1_903[2], S1hsvrefA1_904[2], S1hsvrefA1_905[2],S1hsvrefA1_10[2], S1hsvrefA1_1002[2], S1hsvrefA1_1003[2], S1hsvrefA1_1004[2], S1hsvrefA1_1005[2],      S1hsvrefA1_11[2], S1hsvrefA1_1102[2], S1hsvrefA1_1103[2], S1hsvrefA1_1104[2], S1hsvrefA1_1105[2],S1hsvrefA1_12[2], S1hsvrefA1_1202[2], S1hsvrefA1_1203[2], S1hsvrefA1_1204[2], S1hsvrefA1_1205[2],S1hsvrefA1_13[2], S1hsvrefA1_1302[2], S1hsvrefA1_1303[2], S1hsvrefA1_1304[2], S1hsvrefA1_1305[2], S1hsvrefA1_14[2], S1hsvrefA1_1402[2], S1hsvrefA1_1403[2], S1hsvrefA1_1404[2], S1hsvrefA1_1405[2], S1hsvrefA1_15[2], S1hsvrefA1_1502[2], S1hsvrefA1_1503[2], S1hsvrefA1_1504[2], S1hsvrefA1_1505[2],S1hsvrefA1_16[2], S1hsvrefA1_1602[2], S1hsvrefA1_1603[2], S1hsvrefA1_1604[2], S1hsvrefA1_1605[2], S1hsvrefA1_17[2], S1hsvrefA1_1702[2], S1hsvrefA1_1703[2], S1hsvrefA1_1704[2], S1hsvrefA1_1705[2]],\n",
        "'H-Shad':[S1hsvA1_2[0],S1hsvA1_202[0],S1hsvA1_203[0],S1hsvA1_204[0],S1hsvA1_205[0],S1hsvA2_1[0],S1hsvA2_102[0],S1hsvA2_103[0],S1hsvA2_104[0],S1hsvA2_105[0],S1hsvA3_1[0],S1hsvA3_102[0],S1hsvA3_103[0],S1hsvA3_104[0],S1hsvA3_105[0],S1hsvA3_51[0],S1hsvA3_5102[0],S1hsvA3_5103[0],S1hsvA3_5104[0],S1hsvA3_5105[0],S1hsvA4_1[0],S1hsvA4_102[0],S1hsvA4_103[0],S1hsvA4_104[0],S1hsvA4_105[0],S1hsvB1_1[0],S1hsvB1_102[0],S1hsvB1_103[0],S1hsvB1_104[0],S1hsvB1_105[0],S1hsvB2_1[0],S1hsvB2_102[0],S1hsvB2_103[0],S1hsvB2_104[0],S1hsvB2_105[0],S1hsvB3_1[0],S1hsvB3_102[0],S1hsvB3_103[0],S1hsvB3_104[0],S1hsvB3_105[0],S1hsvB4_1[0],S1hsvB4_102[0],S1hsvB4_103[0],S1hsvB4_104[0],S1hsvB4_105[0],S1hsvC1_1[0],S1hsvC1_102[0],S1hsvC1_103[0],S1hsvC1_104[0],S1hsvC1_105[0],S1hsvC2_1[0],S1hsvC2_102[0],S1hsvC2_103[0],S1hsvC2_104[0],S1hsvC2_105[0],S1hsvC3_1[0],S1hsvC3_102[0],S1hsvC3_103[0],S1hsvC3_104[0],S1hsvC3_105[0],S1hsvC4_1[0],S1hsvC4_102[0],S1hsvC4_103[0],S1hsvC4_104[0],S1hsvC4_105[0],S1hsvD2_1[0],S1hsvD2_102[0],S1hsvD2_103[0],S1hsvD2_104[0],S1hsvD2_105[0],S1hsvD3_1[0],S1hsvD3_102[0],S1hsvD3_103[0],S1hsvD3_104[0],S1hsvD3_105[0],S1hsvD4_1[0],S1hsvD4_102[0],S1hsvD4_103[0],S1hsvD4_104[0],S1hsvD4_105[0]],\n",
        "'S-Shad':[S1hsvA1_2[1],S1hsvA1_202[1],S1hsvA1_203[1], S1hsvA1_204[1],S1hsvA1_205[1],S1hsvA2_1[1],S1hsvA2_102[1],S1hsvA2_103[1],S1hsvA2_104[1],S1hsvA2_105[1],S1hsvA3_1[1],S1hsvA3_102[1], S1hsvA3_103[1],S1hsvA3_104[1],S1hsvA3_105[1],S1hsvA3_51[1],S1hsvA3_5102[1],S1hsvA3_5103[1],S1hsvA3_5104[1],S1hsvA3_5105[1],S1hsvA4_1[1],S1hsvA4_102[1],S1hsvA4_103[1],S1hsvA4_104[1],S1hsvA4_105[1],S1hsvB1_1[1],S1hsvB1_102[1],S1hsvB1_103[1],S1hsvB1_104[1],S1hsvB1_105[1],S1hsvB2_1[1],S1hsvB2_102[1],S1hsvB2_103[1],S1hsvB2_104[1],S1hsvB2_105[1],S1hsvB3_1[1],S1hsvB3_102[1],S1hsvB3_103[1],S1hsvB3_104[1],S1hsvB3_105[1],S1hsvB4_1[1],S1hsvB4_102[1],S1hsvB4_103[1],S1hsvB4_104[1],S1hsvB4_105[1],S1hsvC1_1[1],S1hsvC1_102[1],S1hsvC1_103[1],S1hsvC1_104[1],S1hsvC1_105[1],S1hsvC2_1[1],S1hsvC2_102[1],S1hsvC2_103[1],S1hsvC2_104[1],S1hsvC2_105[1],S1hsvC3_1[1],S1hsvC3_102[1],S1hsvC3_103[1],S1hsvC3_104[1],S1hsvC3_105[1],S1hsvC4_1[1],S1hsvC4_102[1],S1hsvC4_103[1],S1hsvC4_104[1],S1hsvC4_105[1],S1hsvD2_1[1],S1hsvD2_102[1],S1hsvD2_103[1],S1hsvD2_104[1],S1hsvD2_105[1],S1hsvD3_1[1],S1hsvD3_102[1],S1hsvD3_103[1],S1hsvD3_104[1],S1hsvD3_105[1],S1hsvD4_1[1],S1hsvD4_102[1],S1hsvD4_103[1],S1hsvD4_104[1],S1hsvD4_105[1]],\n",
        "'V-Shad':[S1hsvA1_2[2],S1hsvA1_202[2],S1hsvA1_203[2],S1hsvA1_204[2],S1hsvA1_205[2],S1hsvA2_1[2],S1hsvA2_102[2],S1hsvA2_103[2],S1hsvA2_104[2],S1hsvA2_105[2],S1hsvA3_1[2],S1hsvA3_102[2],S1hsvA3_103[2],S1hsvA3_104[2],S1hsvA3_105[2],S1hsvA3_51[2],S1hsvA3_5102[2],S1hsvA3_5103[2],S1hsvA3_5104[2],  S1hsvA3_5105[2],S1hsvA4_1[2],S1hsvA4_102[2],S1hsvA4_103[2],S1hsvA4_104[2],S1hsvA4_105[2],S1hsvB1_1[2],S1hsvB1_102[2],S1hsvB1_103[2],S1hsvB1_104[2],S1hsvB1_105[2],S1hsvB2_1[2],S1hsvB2_102[2],S1hsvB2_103[2],S1hsvB2_104[2],S1hsvB2_105[2],S1hsvB3_1[2],S1hsvB3_102[2],S1hsvB3_103[2],S1hsvB3_104[2],S1hsvB3_105[2],S1hsvB4_1[2],S1hsvB4_102[2],S1hsvB4_103[2],S1hsvB4_104[2],S1hsvB4_105[2],S1hsvC1_1[2],S1hsvC1_102[2],S1hsvC1_103[2],S1hsvC1_104[2],S1hsvC1_105[2],S1hsvC2_1[2],S1hsvC2_102[2],S1hsvC2_103[2],S1hsvC2_104[2],S1hsvC2_105[2],S1hsvC3_1[2],S1hsvC3_102[2],S1hsvC3_103[2],S1hsvC3_104[2],S1hsvC3_105[2],S1hsvC4_1[2],S1hsvC4_102[2],S1hsvC4_103[2],S1hsvC4_104[2],S1hsvC4_105[2],S1hsvD2_1[2],S1hsvD2_102[2],S1hsvD2_103[2],S1hsvD2_104[2],S1hsvD2_105[2],S1hsvD3_1[2],S1hsvD3_102[2],S1hsvD3_103[2],S1hsvD3_104[2],S1hsvD3_105[2],S1hsvD4_1[2],S1hsvD4_102[2],S1hsvD4_103[2],S1hsvD4_104[2],S1hsvD4_105[2]],\n",
        "'Shade-ref': ['A1', 'A1', 'A1', 'A1', 'A1', 'A1',  'A1', 'A1', 'A1', 'A1', 'A1',  'A1', 'A1', 'A1', 'A1', 'A1','A1', 'A1', 'A1', 'A1', 'A1', 'A1',  'A1', 'A1', 'A1', 'A1', 'A1',  'A1', 'A1', 'A1', 'A1', 'A1','A1', 'A1', 'A1', 'A1', 'A1', 'A1',  'A1', 'A1', 'A1', 'A1', 'A1',  'A1', 'A1', 'A1', 'A1', 'A1','A1', 'A1', 'A1', 'A1', 'A1', 'A1', 'A1', 'A1', 'A1', 'A1', 'A1',  'A1', 'A1', 'A1', 'A1', 'A1','A1', 'A1', 'A1', 'A1', 'A1', 'A1', 'A1', 'A1', 'A1', 'A1', 'A1', 'A1', 'A1', 'A1', 'A1', 'A1'],\n",
        "'Shade':  ['A1', 'A1', 'A1', 'A1', 'A1', 'A1', 'A1', 'A1', 'A1', 'A1', 'A2', 'A2', 'A2','A2','A2', 'A2', 'A2', 'A2' ,'A2', 'A2','A3', 'A3', 'A3', 'A3', 'A3', 'A3','A3', 'A3','A3', 'A3','A3_5', 'A3_5', 'A3_5', 'A3_5', 'A3_5', 'A3_5', 'A3_5', 'A3_5', 'A3_5', 'A3_5','A4', 'A4', 'A4', 'A4', 'A4', 'A4', 'A4', 'A4', 'A4', 'A4','B1', 'B1', 'B1', 'B1', 'B1', 'B1','B1', 'B1', 'B1', 'B1','B2', 'B2', 'B2', 'B2', 'B2', 'B2','B2', 'B2','B2', 'B2', 'B3','B3', 'B3', 'B3', 'B3', 'B3', 'B3', 'B3', 'B3', 'B3'],\n",
        "'Setting': ['Set1', 'Set1', 'Set1', 'Set1', 'Set1', 'Set1', 'Set1', 'Set1', 'Set1', 'Set1', 'Set1', 'Set1', 'Set1', 'Set1', 'Set1', 'Set1','Set1', 'Set1', 'Set1', 'Set1', 'Set1', 'Set1', 'Set1', 'Set1', 'Set1', 'Set1', 'Set1', 'Set1', 'Set1', 'Set1', 'Set1', 'Set1','Set1', 'Set1', 'Set1', 'Set1', 'Set1', 'Set1', 'Set1', 'Set1', 'Set1', 'Set1', 'Set1', 'Set1', 'Set1', 'Set1', 'Set1', 'Set1','Set1', 'Set1', 'Set1', 'Set1', 'Set1', 'Set1', 'Set1', 'Set1', 'Set1', 'Set1', 'Set1', 'Set1', 'Set1', 'Set1', 'Set1', 'Set1','Set1', 'Set1', 'Set1', 'Set1', 'Set1', 'Set1', 'Set1', 'Set1', 'Set1', 'Set1', 'Set1', 'Set1', 'Set1', 'Set1', 'Set1', 'Set1'],\n",
        "'Img' :[S1_doubleA1A1_1,S1_doubleA1A1_2,S1_doubleA1A1_3,S1_doubleA1A1_4,S1_doubleA1A1_5,S1_doubleA1A2_1, S1_doubleA1A2_2, S1_doubleA1A2_3, S1_doubleA1A2_4, S1_doubleA1A2_5, S1_doubleA1A3_1, S1_doubleA1A3_2, S1_doubleA1A3_3, S1_doubleA1A3_4, S1_doubleA1A3_5, S1_doubleA1A3_51, S1_doubleA1A3_52,S1_doubleA1A3_53,S1_doubleA1A3_54,S1_doubleA1A3_55,S1_doubleA1A4_1, S1_doubleA1A4_2, S1_doubleA1A4_3, S1_doubleA1A4_4, S1_doubleA1A4_5,S1_doubleA1B1_1,S1_doubleA1B1_2,S1_doubleA1B1_3,S1_doubleA1B1_4,S1_doubleA1B1_5,S1_doubleA1B2_1, S1_doubleA1B2_2,S1_doubleA1B2_3,S1_doubleA1B2_4,S1_doubleA1B2_5,S1_doubleA1B3_1, S1_doubleA1B3_2,S1_doubleA1B3_3,S1_doubleA1B3_4,S1_doubleA1B3_5,S1_doubleA1B4_1,S1_doubleA1B4_2,S1_doubleA1B4_3,S1_doubleA1B4_4,S1_doubleA1B4_5,S1_doubleA1C1_1 ,S1_doubleA1C1_2,S1_doubleA1C1_3,S1_doubleA1C1_4,S1_doubleA1C1_5,S1_doubleA1C2_1, S1_doubleA1C2_2, S1_doubleA1C2_3, S1_doubleA1C2_4, S1_doubleA1C2_5,S1_doubleA1C3_1,S1_doubleA1C3_2, S1_doubleA1C3_3,S1_doubleA1C3_4,S1_doubleA1C3_5,S1_doubleA1C4_1, S1_doubleA1C4_2,S1_doubleA1C4_3,S1_doubleA1C4_4,S1_doubleA1C4_5,S1_doubleA1D2_1,S1_doubleA1D2_2, S1_doubleA1D2_3,S1_doubleA1D2_4,  S1_doubleA1D2_5,S1_doubleA1D3_1,S1_doubleA1D3_2,S1_doubleA1D3_3,S1_doubleA1D3_4,S1_doubleA1D3_5,S1_doubleA1D4_1,S1_doubleA1D4_2,S1_doubleA1D4_3,S1_doubleA1D4_4,S1_doubleA1D4_5]\n",
        "})\n",
        "df1 "
      ],
      "execution_count": 844,
      "outputs": [
        {
          "output_type": "execute_result",
          "data": {
            "text/html": [
              "<div>\n",
              "<style scoped>\n",
              "    .dataframe tbody tr th:only-of-type {\n",
              "        vertical-align: middle;\n",
              "    }\n",
              "\n",
              "    .dataframe tbody tr th {\n",
              "        vertical-align: top;\n",
              "    }\n",
              "\n",
              "    .dataframe thead th {\n",
              "        text-align: right;\n",
              "    }\n",
              "</style>\n",
              "<table border=\"1\" class=\"dataframe\">\n",
              "  <thead>\n",
              "    <tr style=\"text-align: right;\">\n",
              "      <th></th>\n",
              "      <th>R-ref</th>\n",
              "      <th>G-ref</th>\n",
              "      <th>B-ref</th>\n",
              "      <th>R-Shad</th>\n",
              "      <th>G-Shad</th>\n",
              "      <th>B-Shad</th>\n",
              "      <th>H-ref</th>\n",
              "      <th>S-ref</th>\n",
              "      <th>V-ref</th>\n",
              "      <th>H-Shad</th>\n",
              "      <th>S-Shad</th>\n",
              "      <th>V-Shad</th>\n",
              "      <th>Shade-ref</th>\n",
              "      <th>Shade</th>\n",
              "      <th>Setting</th>\n",
              "      <th>Img</th>\n",
              "    </tr>\n",
              "  </thead>\n",
              "  <tbody>\n",
              "    <tr>\n",
              "      <th>0</th>\n",
              "      <td>241.512841</td>\n",
              "      <td>217.179564</td>\n",
              "      <td>159.979199</td>\n",
              "      <td>241.853396</td>\n",
              "      <td>217.895203</td>\n",
              "      <td>161.513002</td>\n",
              "      <td>21.078403</td>\n",
              "      <td>86.103076</td>\n",
              "      <td>241.465465</td>\n",
              "      <td>21.091601</td>\n",
              "      <td>84.758339</td>\n",
              "      <td>241.798236</td>\n",
              "      <td>A1</td>\n",
              "      <td>A1</td>\n",
              "      <td>Set1</td>\n",
              "      <td>3205C42D-996A-48B6-8A44-6CB277F705D2.png</td>\n",
              "    </tr>\n",
              "    <tr>\n",
              "      <th>1</th>\n",
              "      <td>232.759435</td>\n",
              "      <td>216.695398</td>\n",
              "      <td>178.380732</td>\n",
              "      <td>233.438020</td>\n",
              "      <td>217.502809</td>\n",
              "      <td>179.626911</td>\n",
              "      <td>21.078403</td>\n",
              "      <td>86.103076</td>\n",
              "      <td>241.465465</td>\n",
              "      <td>21.091601</td>\n",
              "      <td>84.758339</td>\n",
              "      <td>241.798236</td>\n",
              "      <td>A1</td>\n",
              "      <td>A1</td>\n",
              "      <td>Set1</td>\n",
              "      <td>4FF68C62-E250-4A63-AC91-DD90609F0826.png</td>\n",
              "    </tr>\n",
              "    <tr>\n",
              "      <th>2</th>\n",
              "      <td>230.934015</td>\n",
              "      <td>208.007223</td>\n",
              "      <td>159.544193</td>\n",
              "      <td>231.680321</td>\n",
              "      <td>208.976744</td>\n",
              "      <td>161.245644</td>\n",
              "      <td>20.520575</td>\n",
              "      <td>78.867787</td>\n",
              "      <td>230.934015</td>\n",
              "      <td>20.476638</td>\n",
              "      <td>77.600242</td>\n",
              "      <td>231.680748</td>\n",
              "      <td>A1</td>\n",
              "      <td>A1</td>\n",
              "      <td>Set1</td>\n",
              "      <td>2C866840-DEB4-4B40-9BF6-321EEEFAF5F9.png</td>\n",
              "    </tr>\n",
              "    <tr>\n",
              "      <th>3</th>\n",
              "      <td>226.795390</td>\n",
              "      <td>198.093742</td>\n",
              "      <td>146.770230</td>\n",
              "      <td>227.482611</td>\n",
              "      <td>199.174810</td>\n",
              "      <td>148.236043</td>\n",
              "      <td>19.210697</td>\n",
              "      <td>90.003490</td>\n",
              "      <td>226.795390</td>\n",
              "      <td>19.286395</td>\n",
              "      <td>88.878885</td>\n",
              "      <td>227.482611</td>\n",
              "      <td>A1</td>\n",
              "      <td>A1</td>\n",
              "      <td>Set1</td>\n",
              "      <td>6FCA45B6-C9B1-4344-8DAC-C3A9EB6C5A69.png</td>\n",
              "    </tr>\n",
              "    <tr>\n",
              "      <th>4</th>\n",
              "      <td>233.250467</td>\n",
              "      <td>209.560182</td>\n",
              "      <td>164.300381</td>\n",
              "      <td>241.853396</td>\n",
              "      <td>217.895203</td>\n",
              "      <td>161.513002</td>\n",
              "      <td>19.707654</td>\n",
              "      <td>75.380083</td>\n",
              "      <td>233.250467</td>\n",
              "      <td>19.677548</td>\n",
              "      <td>74.397838</td>\n",
              "      <td>233.717019</td>\n",
              "      <td>A1</td>\n",
              "      <td>A1</td>\n",
              "      <td>Set1</td>\n",
              "      <td>8402B836-FE77-41F4-A9E7-6C215DCCA241.png</td>\n",
              "    </tr>\n",
              "    <tr>\n",
              "      <th>...</th>\n",
              "      <td>...</td>\n",
              "      <td>...</td>\n",
              "      <td>...</td>\n",
              "      <td>...</td>\n",
              "      <td>...</td>\n",
              "      <td>...</td>\n",
              "      <td>...</td>\n",
              "      <td>...</td>\n",
              "      <td>...</td>\n",
              "      <td>...</td>\n",
              "      <td>...</td>\n",
              "      <td>...</td>\n",
              "      <td>...</td>\n",
              "      <td>...</td>\n",
              "      <td>...</td>\n",
              "      <td>...</td>\n",
              "    </tr>\n",
              "    <tr>\n",
              "      <th>75</th>\n",
              "      <td>232.711549</td>\n",
              "      <td>217.013392</td>\n",
              "      <td>178.473501</td>\n",
              "      <td>236.518953</td>\n",
              "      <td>221.408861</td>\n",
              "      <td>182.555508</td>\n",
              "      <td>21.458891</td>\n",
              "      <td>59.477964</td>\n",
              "      <td>232.711549</td>\n",
              "      <td>21.743830</td>\n",
              "      <td>58.287888</td>\n",
              "      <td>236.519238</td>\n",
              "      <td>A1</td>\n",
              "      <td>B3</td>\n",
              "      <td>Set1</td>\n",
              "      <td>A05D10DB-567C-4EE9-8842-29CFE139E155.png</td>\n",
              "    </tr>\n",
              "    <tr>\n",
              "      <th>76</th>\n",
              "      <td>231.118740</td>\n",
              "      <td>210.405730</td>\n",
              "      <td>165.680708</td>\n",
              "      <td>231.729322</td>\n",
              "      <td>208.233981</td>\n",
              "      <td>159.479553</td>\n",
              "      <td>20.437789</td>\n",
              "      <td>80.854557</td>\n",
              "      <td>230.999351</td>\n",
              "      <td>20.431690</td>\n",
              "      <td>79.576630</td>\n",
              "      <td>231.729322</td>\n",
              "      <td>A1</td>\n",
              "      <td>B3</td>\n",
              "      <td>Set1</td>\n",
              "      <td>DEABE2EA-9BB9-415C-9F2C-994163642A74.png</td>\n",
              "    </tr>\n",
              "    <tr>\n",
              "      <th>77</th>\n",
              "      <td>222.711549</td>\n",
              "      <td>193.497200</td>\n",
              "      <td>143.710251</td>\n",
              "      <td>223.822843</td>\n",
              "      <td>195.763033</td>\n",
              "      <td>145.556433</td>\n",
              "      <td>18.877445</td>\n",
              "      <td>90.457917</td>\n",
              "      <td>222.711549</td>\n",
              "      <td>19.285186</td>\n",
              "      <td>89.203471</td>\n",
              "      <td>223.822843</td>\n",
              "      <td>A1</td>\n",
              "      <td>B3</td>\n",
              "      <td>Set1</td>\n",
              "      <td>3704FD3C-6984-4B85-9BA5-93F7D6DA0CEC.png</td>\n",
              "    </tr>\n",
              "    <tr>\n",
              "      <th>78</th>\n",
              "      <td>236.100073</td>\n",
              "      <td>219.998133</td>\n",
              "      <td>186.949274</td>\n",
              "      <td>233.526421</td>\n",
              "      <td>209.657848</td>\n",
              "      <td>165.015219</td>\n",
              "      <td>21.458891</td>\n",
              "      <td>59.477964</td>\n",
              "      <td>232.711549</td>\n",
              "      <td>19.485101</td>\n",
              "      <td>74.822345</td>\n",
              "      <td>233.526421</td>\n",
              "      <td>A1</td>\n",
              "      <td>B3</td>\n",
              "      <td>Set1</td>\n",
              "      <td>716B4F77-4B6D-4EE3-9311-0ACA6651209D.png</td>\n",
              "    </tr>\n",
              "    <tr>\n",
              "      <th>79</th>\n",
              "      <td>229.052755</td>\n",
              "      <td>206.550686</td>\n",
              "      <td>157.331467</td>\n",
              "      <td>232.540502</td>\n",
              "      <td>210.645829</td>\n",
              "      <td>162.609416</td>\n",
              "      <td>20.724454</td>\n",
              "      <td>79.866082</td>\n",
              "      <td>229.052755</td>\n",
              "      <td>20.816229</td>\n",
              "      <td>76.807482</td>\n",
              "      <td>232.541071</td>\n",
              "      <td>A1</td>\n",
              "      <td>B3</td>\n",
              "      <td>Set1</td>\n",
              "      <td>5CD12207-6DA2-4D7B-B0DC-8D7406088384.png</td>\n",
              "    </tr>\n",
              "  </tbody>\n",
              "</table>\n",
              "<p>80 rows × 16 columns</p>\n",
              "</div>"
            ],
            "text/plain": [
              "         R-ref       G-ref  ...  Setting                                       Img\n",
              "0   241.512841  217.179564  ...     Set1  3205C42D-996A-48B6-8A44-6CB277F705D2.png\n",
              "1   232.759435  216.695398  ...     Set1  4FF68C62-E250-4A63-AC91-DD90609F0826.png\n",
              "2   230.934015  208.007223  ...     Set1  2C866840-DEB4-4B40-9BF6-321EEEFAF5F9.png\n",
              "3   226.795390  198.093742  ...     Set1  6FCA45B6-C9B1-4344-8DAC-C3A9EB6C5A69.png\n",
              "4   233.250467  209.560182  ...     Set1  8402B836-FE77-41F4-A9E7-6C215DCCA241.png\n",
              "..         ...         ...  ...      ...                                       ...\n",
              "75  232.711549  217.013392  ...     Set1  A05D10DB-567C-4EE9-8842-29CFE139E155.png\n",
              "76  231.118740  210.405730  ...     Set1  DEABE2EA-9BB9-415C-9F2C-994163642A74.png\n",
              "77  222.711549  193.497200  ...     Set1  3704FD3C-6984-4B85-9BA5-93F7D6DA0CEC.png\n",
              "78  236.100073  219.998133  ...     Set1  716B4F77-4B6D-4EE3-9311-0ACA6651209D.png\n",
              "79  229.052755  206.550686  ...     Set1  5CD12207-6DA2-4D7B-B0DC-8D7406088384.png\n",
              "\n",
              "[80 rows x 16 columns]"
            ]
          },
          "metadata": {},
          "execution_count": 844
        }
      ]
    },
    {
      "cell_type": "code",
      "source": [
        "df1.to_csv('A1_2S1.csv', index=False)"
      ],
      "metadata": {
        "id": "ZE4BtEQ3ENMC"
      },
      "execution_count": 845,
      "outputs": []
    },
    {
      "cell_type": "code",
      "source": [
        "df102 = pd.read_csv('Shade_A102 Guide (1).csv')\n",
        "df102\n"
      ],
      "metadata": {
        "id": "3bEAD6N3iwXF",
        "colab": {
          "base_uri": "https://localhost:8080/",
          "height": 398
        },
        "outputId": "9690aeb1-c178-47ee-dc71-8b3942e04b85"
      },
      "execution_count": 842,
      "outputs": [
        {
          "output_type": "error",
          "ename": "FileNotFoundError",
          "evalue": "ignored",
          "traceback": [
            "\u001b[0;31m---------------------------------------------------------------------------\u001b[0m",
            "\u001b[0;31mFileNotFoundError\u001b[0m                         Traceback (most recent call last)",
            "\u001b[0;32m<ipython-input-842-5da4ec645baf>\u001b[0m in \u001b[0;36m<module>\u001b[0;34m()\u001b[0m\n\u001b[0;32m----> 1\u001b[0;31m \u001b[0mdf102\u001b[0m \u001b[0;34m=\u001b[0m \u001b[0mpd\u001b[0m\u001b[0;34m.\u001b[0m\u001b[0mread_csv\u001b[0m\u001b[0;34m(\u001b[0m\u001b[0;34m'Shade_A102 Guide (1).csv'\u001b[0m\u001b[0;34m)\u001b[0m\u001b[0;34m\u001b[0m\u001b[0;34m\u001b[0m\u001b[0m\n\u001b[0m\u001b[1;32m      2\u001b[0m \u001b[0mdf102\u001b[0m\u001b[0;34m\u001b[0m\u001b[0;34m\u001b[0m\u001b[0m\n",
            "\u001b[0;32m/usr/local/lib/python3.7/dist-packages/pandas/io/parsers.py\u001b[0m in \u001b[0;36mread_csv\u001b[0;34m(filepath_or_buffer, sep, delimiter, header, names, index_col, usecols, squeeze, prefix, mangle_dupe_cols, dtype, engine, converters, true_values, false_values, skipinitialspace, skiprows, skipfooter, nrows, na_values, keep_default_na, na_filter, verbose, skip_blank_lines, parse_dates, infer_datetime_format, keep_date_col, date_parser, dayfirst, cache_dates, iterator, chunksize, compression, thousands, decimal, lineterminator, quotechar, quoting, doublequote, escapechar, comment, encoding, dialect, error_bad_lines, warn_bad_lines, delim_whitespace, low_memory, memory_map, float_precision)\u001b[0m\n\u001b[1;32m    686\u001b[0m     )\n\u001b[1;32m    687\u001b[0m \u001b[0;34m\u001b[0m\u001b[0m\n\u001b[0;32m--> 688\u001b[0;31m     \u001b[0;32mreturn\u001b[0m \u001b[0m_read\u001b[0m\u001b[0;34m(\u001b[0m\u001b[0mfilepath_or_buffer\u001b[0m\u001b[0;34m,\u001b[0m \u001b[0mkwds\u001b[0m\u001b[0;34m)\u001b[0m\u001b[0;34m\u001b[0m\u001b[0;34m\u001b[0m\u001b[0m\n\u001b[0m\u001b[1;32m    689\u001b[0m \u001b[0;34m\u001b[0m\u001b[0m\n\u001b[1;32m    690\u001b[0m \u001b[0;34m\u001b[0m\u001b[0m\n",
            "\u001b[0;32m/usr/local/lib/python3.7/dist-packages/pandas/io/parsers.py\u001b[0m in \u001b[0;36m_read\u001b[0;34m(filepath_or_buffer, kwds)\u001b[0m\n\u001b[1;32m    452\u001b[0m \u001b[0;34m\u001b[0m\u001b[0m\n\u001b[1;32m    453\u001b[0m     \u001b[0;31m# Create the parser.\u001b[0m\u001b[0;34m\u001b[0m\u001b[0;34m\u001b[0m\u001b[0;34m\u001b[0m\u001b[0m\n\u001b[0;32m--> 454\u001b[0;31m     \u001b[0mparser\u001b[0m \u001b[0;34m=\u001b[0m \u001b[0mTextFileReader\u001b[0m\u001b[0;34m(\u001b[0m\u001b[0mfp_or_buf\u001b[0m\u001b[0;34m,\u001b[0m \u001b[0;34m**\u001b[0m\u001b[0mkwds\u001b[0m\u001b[0;34m)\u001b[0m\u001b[0;34m\u001b[0m\u001b[0;34m\u001b[0m\u001b[0m\n\u001b[0m\u001b[1;32m    455\u001b[0m \u001b[0;34m\u001b[0m\u001b[0m\n\u001b[1;32m    456\u001b[0m     \u001b[0;32mif\u001b[0m \u001b[0mchunksize\u001b[0m \u001b[0;32mor\u001b[0m \u001b[0miterator\u001b[0m\u001b[0;34m:\u001b[0m\u001b[0;34m\u001b[0m\u001b[0;34m\u001b[0m\u001b[0m\n",
            "\u001b[0;32m/usr/local/lib/python3.7/dist-packages/pandas/io/parsers.py\u001b[0m in \u001b[0;36m__init__\u001b[0;34m(self, f, engine, **kwds)\u001b[0m\n\u001b[1;32m    946\u001b[0m             \u001b[0mself\u001b[0m\u001b[0;34m.\u001b[0m\u001b[0moptions\u001b[0m\u001b[0;34m[\u001b[0m\u001b[0;34m\"has_index_names\"\u001b[0m\u001b[0;34m]\u001b[0m \u001b[0;34m=\u001b[0m \u001b[0mkwds\u001b[0m\u001b[0;34m[\u001b[0m\u001b[0;34m\"has_index_names\"\u001b[0m\u001b[0;34m]\u001b[0m\u001b[0;34m\u001b[0m\u001b[0;34m\u001b[0m\u001b[0m\n\u001b[1;32m    947\u001b[0m \u001b[0;34m\u001b[0m\u001b[0m\n\u001b[0;32m--> 948\u001b[0;31m         \u001b[0mself\u001b[0m\u001b[0;34m.\u001b[0m\u001b[0m_make_engine\u001b[0m\u001b[0;34m(\u001b[0m\u001b[0mself\u001b[0m\u001b[0;34m.\u001b[0m\u001b[0mengine\u001b[0m\u001b[0;34m)\u001b[0m\u001b[0;34m\u001b[0m\u001b[0;34m\u001b[0m\u001b[0m\n\u001b[0m\u001b[1;32m    949\u001b[0m \u001b[0;34m\u001b[0m\u001b[0m\n\u001b[1;32m    950\u001b[0m     \u001b[0;32mdef\u001b[0m \u001b[0mclose\u001b[0m\u001b[0;34m(\u001b[0m\u001b[0mself\u001b[0m\u001b[0;34m)\u001b[0m\u001b[0;34m:\u001b[0m\u001b[0;34m\u001b[0m\u001b[0;34m\u001b[0m\u001b[0m\n",
            "\u001b[0;32m/usr/local/lib/python3.7/dist-packages/pandas/io/parsers.py\u001b[0m in \u001b[0;36m_make_engine\u001b[0;34m(self, engine)\u001b[0m\n\u001b[1;32m   1178\u001b[0m     \u001b[0;32mdef\u001b[0m \u001b[0m_make_engine\u001b[0m\u001b[0;34m(\u001b[0m\u001b[0mself\u001b[0m\u001b[0;34m,\u001b[0m \u001b[0mengine\u001b[0m\u001b[0;34m=\u001b[0m\u001b[0;34m\"c\"\u001b[0m\u001b[0;34m)\u001b[0m\u001b[0;34m:\u001b[0m\u001b[0;34m\u001b[0m\u001b[0;34m\u001b[0m\u001b[0m\n\u001b[1;32m   1179\u001b[0m         \u001b[0;32mif\u001b[0m \u001b[0mengine\u001b[0m \u001b[0;34m==\u001b[0m \u001b[0;34m\"c\"\u001b[0m\u001b[0;34m:\u001b[0m\u001b[0;34m\u001b[0m\u001b[0;34m\u001b[0m\u001b[0m\n\u001b[0;32m-> 1180\u001b[0;31m             \u001b[0mself\u001b[0m\u001b[0;34m.\u001b[0m\u001b[0m_engine\u001b[0m \u001b[0;34m=\u001b[0m \u001b[0mCParserWrapper\u001b[0m\u001b[0;34m(\u001b[0m\u001b[0mself\u001b[0m\u001b[0;34m.\u001b[0m\u001b[0mf\u001b[0m\u001b[0;34m,\u001b[0m \u001b[0;34m**\u001b[0m\u001b[0mself\u001b[0m\u001b[0;34m.\u001b[0m\u001b[0moptions\u001b[0m\u001b[0;34m)\u001b[0m\u001b[0;34m\u001b[0m\u001b[0;34m\u001b[0m\u001b[0m\n\u001b[0m\u001b[1;32m   1181\u001b[0m         \u001b[0;32melse\u001b[0m\u001b[0;34m:\u001b[0m\u001b[0;34m\u001b[0m\u001b[0;34m\u001b[0m\u001b[0m\n\u001b[1;32m   1182\u001b[0m             \u001b[0;32mif\u001b[0m \u001b[0mengine\u001b[0m \u001b[0;34m==\u001b[0m \u001b[0;34m\"python\"\u001b[0m\u001b[0;34m:\u001b[0m\u001b[0;34m\u001b[0m\u001b[0;34m\u001b[0m\u001b[0m\n",
            "\u001b[0;32m/usr/local/lib/python3.7/dist-packages/pandas/io/parsers.py\u001b[0m in \u001b[0;36m__init__\u001b[0;34m(self, src, **kwds)\u001b[0m\n\u001b[1;32m   2008\u001b[0m         \u001b[0mkwds\u001b[0m\u001b[0;34m[\u001b[0m\u001b[0;34m\"usecols\"\u001b[0m\u001b[0;34m]\u001b[0m \u001b[0;34m=\u001b[0m \u001b[0mself\u001b[0m\u001b[0;34m.\u001b[0m\u001b[0musecols\u001b[0m\u001b[0;34m\u001b[0m\u001b[0;34m\u001b[0m\u001b[0m\n\u001b[1;32m   2009\u001b[0m \u001b[0;34m\u001b[0m\u001b[0m\n\u001b[0;32m-> 2010\u001b[0;31m         \u001b[0mself\u001b[0m\u001b[0;34m.\u001b[0m\u001b[0m_reader\u001b[0m \u001b[0;34m=\u001b[0m \u001b[0mparsers\u001b[0m\u001b[0;34m.\u001b[0m\u001b[0mTextReader\u001b[0m\u001b[0;34m(\u001b[0m\u001b[0msrc\u001b[0m\u001b[0;34m,\u001b[0m \u001b[0;34m**\u001b[0m\u001b[0mkwds\u001b[0m\u001b[0;34m)\u001b[0m\u001b[0;34m\u001b[0m\u001b[0;34m\u001b[0m\u001b[0m\n\u001b[0m\u001b[1;32m   2011\u001b[0m         \u001b[0mself\u001b[0m\u001b[0;34m.\u001b[0m\u001b[0munnamed_cols\u001b[0m \u001b[0;34m=\u001b[0m \u001b[0mself\u001b[0m\u001b[0;34m.\u001b[0m\u001b[0m_reader\u001b[0m\u001b[0;34m.\u001b[0m\u001b[0munnamed_cols\u001b[0m\u001b[0;34m\u001b[0m\u001b[0;34m\u001b[0m\u001b[0m\n\u001b[1;32m   2012\u001b[0m \u001b[0;34m\u001b[0m\u001b[0m\n",
            "\u001b[0;32mpandas/_libs/parsers.pyx\u001b[0m in \u001b[0;36mpandas._libs.parsers.TextReader.__cinit__\u001b[0;34m()\u001b[0m\n",
            "\u001b[0;32mpandas/_libs/parsers.pyx\u001b[0m in \u001b[0;36mpandas._libs.parsers.TextReader._setup_parser_source\u001b[0;34m()\u001b[0m\n",
            "\u001b[0;31mFileNotFoundError\u001b[0m: [Errno 2] No such file or directory: 'Shade_A102 Guide (1).csv'"
          ]
        }
      ]
    },
    {
      "cell_type": "code",
      "source": [
        "df201 = pd.read_csv('Shade_A101S2 Guide.csv')\n",
        "df201"
      ],
      "metadata": {
        "id": "MW8P1W_AcB1L"
      },
      "execution_count": null,
      "outputs": []
    },
    {
      "cell_type": "code",
      "source": [
        "df201 = pd.read_csv('ShadeSet1_A103 Guide.csv')\n",
        "df202"
      ],
      "metadata": {
        "id": "RitKRRqYSc1z"
      },
      "execution_count": null,
      "outputs": []
    },
    {
      "cell_type": "code",
      "source": [
        "df301 = pd.read_csv('ShadeSet1_A103 Guide.csv')\n",
        "df302"
      ],
      "metadata": {
        "id": "P72Ew9pRSe0a"
      },
      "execution_count": null,
      "outputs": []
    },
    {
      "cell_type": "code",
      "source": [
        "df301 = pd.read_csv('ShadeSet1_A103 Guide.csv')\n",
        "df302"
      ],
      "metadata": {
        "id": "w5QFsxqDSe4V"
      },
      "execution_count": null,
      "outputs": []
    },
    {
      "cell_type": "code",
      "source": [
        "df401 = pd.read_csv('ShadeSet1_A104 Guide.csv')\n",
        "df401"
      ],
      "metadata": {
        "id": "gthn5_UjcCYD"
      },
      "execution_count": null,
      "outputs": []
    },
    {
      "cell_type": "code",
      "source": [
        "df402 = pd.read_csv('ShadeSet1_A104 Guide.csv')\n",
        "df402"
      ],
      "metadata": {
        "id": "cb7s7H7xShBt"
      },
      "execution_count": null,
      "outputs": []
    },
    {
      "cell_type": "code",
      "source": [
        "A1_concat = pd.concat([df1, df2, df3, df4])\n",
        "A1_concat"
      ],
      "metadata": {
        "id": "2_lNtZ9Oikph"
      },
      "execution_count": null,
      "outputs": []
    },
    {
      "cell_type": "code",
      "source": [
        "A3_concat.to_csv('Shade_Aa1 Guide.csv', index=False)"
      ],
      "metadata": {
        "id": "7VvHaGzcisZa"
      },
      "execution_count": null,
      "outputs": []
    },
    {
      "cell_type": "code",
      "source": [
        "S1meanrefA1_1 = list()\n",
        "S1meanA1_2 = list()\n",
        "S1meanrefA1_11 = list()\n",
        "S1meanA1_22 = list()\n",
        "for i in range(S1RGB_imgA1A1_1.shape[0]): #ให้ i รันตาม row หรือ shape[0] คือแถว มีทั้งหมด 4032 แถว ของภาพที่ปรับขนาดมาแล้ว\n",
        "     for j in range(S1RGB_imgA1A1_1.shape[1]): #ให้ j รันตาม colum มีทั้งหมด 3024 colum เช่น แถวที่ 1 เข้ามาให้รันครบ 3024colum\n",
        "                if 1769<i<1881 and 2019<j<2131 :\n",
        "                  S1meanrefA1_1.append(S1RGB_imgA1A1_1[i][j])\n",
        "                if 1770<i<1880 and 2015<j<2145 :\n",
        "                  S1meanA1_2.append(S1RGB_imgA1A1_1[i][j])  \n",
        "                if 1764<i<1881 and 2020<j<2131 :\n",
        "                  S1meanrefA1_11.append(S1RGB_imgA1A1_1[i][j])\n",
        "                if 1765<i<1880 and 2016<j<2145 :\n",
        "                  S1meanA1_22.append(S1RGB_imgA1A1_1[i][j])\n",
        "S1meanrefA1_1 = np.array(S1meanrefA1_1)\n",
        "S1meanA1_2 = np.array(S1meanA1_2)\n",
        "S1meanrefA1_11 = np.array(S1meanrefA1_11)\n",
        "S1meanA1_22 = np.array(S1meanA1_22)\n",
        "\n",
        "\n",
        "S1rgbrefA1_1 = list()\n",
        "S1rgbA1_2 = list()\n",
        "for i in range(3):\n",
        "    S1rgbrefA1_1.append((S1meanrefA1_1[:,i].mean(),S1meanrefA1_11[:,i].mean()))\n",
        "    S1rgbA1_2.append((S1meanA1_2[:,i].mean(),S1meanA1_22[:,i].mean()))\n",
        "S1rgbrefA1_1,S1rgbA1_2 "
      ],
      "metadata": {
        "id": "Y47pTRUI6L09"
      },
      "execution_count": null,
      "outputs": []
    },
    {
      "cell_type": "code",
      "source": [
        "df1 = pd.DataFrame({'R-ref':[S1rgbrefA1_1[0]], 'G-ref': [S1rgbrefA1_1[1]],'B-ref': [S1rgbrefA1_1[2]],'R-Shad':  [S1rgbA1_2[0]], 'G-Shad':[S1rgbA1_2[1]],'B-Shad': [S1rgbA1_2[2]]\n",
        "})\n",
        "df1 "
      ],
      "metadata": {
        "id": "egxIQPdj6d0_"
      },
      "execution_count": null,
      "outputs": []
    }
  ]
}