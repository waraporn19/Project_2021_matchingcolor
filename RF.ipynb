{
  "nbformat": 4,
  "nbformat_minor": 0,
  "metadata": {
    "colab": {
      "name": "Untitled36.ipynb",
      "provenance": [],
      "collapsed_sections": [],
      "authorship_tag": "ABX9TyMQHMObA8Zxz2NM1gfOSi5E",
      "include_colab_link": true
    },
    "kernelspec": {
      "name": "python3",
      "display_name": "Python 3"
    },
    "language_info": {
      "name": "python"
    }
  },
  "cells": [
    {
      "cell_type": "markdown",
      "metadata": {
        "id": "view-in-github",
        "colab_type": "text"
      },
      "source": [
        "<a href=\"https://colab.research.google.com/github/waraporn19/Project_2021_matchingcolor/blob/main/RF.ipynb\" target=\"_parent\"><img src=\"https://colab.research.google.com/assets/colab-badge.svg\" alt=\"Open In Colab\"/></a>"
      ]
    },
    {
      "cell_type": "code",
      "execution_count": 1,
      "metadata": {
        "id": "HKNXe3aNxjrS"
      },
      "outputs": [],
      "source": [
        "import pandas as pd"
      ]
    },
    {
      "cell_type": "code",
      "source": [
        "from google.colab import drive \n",
        "drive.mount('/content/drive')"
      ],
      "metadata": {
        "colab": {
          "base_uri": "https://localhost:8080/"
        },
        "id": "vlUA764exm_B",
        "outputId": "70145acc-7c6a-4b25-8dc4-ba2aaa9cbc0b"
      },
      "execution_count": 2,
      "outputs": [
        {
          "output_type": "stream",
          "name": "stdout",
          "text": [
            "Mounted at /content/drive\n"
          ]
        }
      ]
    },
    {
      "cell_type": "code",
      "source": [
        "import os"
      ],
      "metadata": {
        "id": "0NR2cd8WxtI0"
      },
      "execution_count": 3,
      "outputs": []
    },
    {
      "cell_type": "code",
      "source": [
        "path = '/content/drive/My Drive/shadeimg/SVM shade'"
      ],
      "metadata": {
        "id": "CCvM6YiWxv4J"
      },
      "execution_count": 4,
      "outputs": []
    },
    {
      "cell_type": "code",
      "source": [
        "os.listdir(path)"
      ],
      "metadata": {
        "colab": {
          "base_uri": "https://localhost:8080/"
        },
        "id": "gEamzWg2xxw0",
        "outputId": "9a894ae9-d26a-4404-929d-b3e0416495a1"
      },
      "execution_count": 5,
      "outputs": [
        {
          "output_type": "execute_result",
          "data": {
            "text/plain": [
              "['DD.xlsx',\n",
              " 'CC.xlsx',\n",
              " 'BB.xlsx',\n",
              " 'Shade_AA.xlsx',\n",
              " 'Shade_CC.xlsx',\n",
              " 'Shade_DD.xlsx',\n",
              " 'Shade_BB.xlsx',\n",
              " 'AA.xlsx',\n",
              " 'AA_2.xlsx',\n",
              " 'Shad_A.xlsx',\n",
              " 'Shad_B.xlsx',\n",
              " 'Shad_C.xlsx',\n",
              " 'Shad_D.xlsx',\n",
              " 'Setting1.xlsx',\n",
              " 'Setting3.xlsx',\n",
              " 'Setting4.xlsx',\n",
              " 'CheckerDD.xlsx',\n",
              " 'Color-checkerDD.xlsx',\n",
              " 'Color-checkerAA.xlsx',\n",
              " 'Color-checkerBB.xlsx',\n",
              " 'Color-checkerCC.xlsx',\n",
              " 'Setting5.xlsx',\n",
              " 'Setting6.xlsx',\n",
              " 'Setting2.xlsx']"
            ]
          },
          "metadata": {},
          "execution_count": 5
        }
      ]
    },
    {
      "cell_type": "code",
      "source": [
        "CC1 = os.path.join(path,'CheckerDD.xlsx')\n",
        "print(CC1)"
      ],
      "metadata": {
        "colab": {
          "base_uri": "https://localhost:8080/"
        },
        "id": "FGDUM8Yubm3F",
        "outputId": "26e78234-32f3-4e63-9a6d-98cb3ee10812"
      },
      "execution_count": 6,
      "outputs": [
        {
          "output_type": "stream",
          "name": "stdout",
          "text": [
            "/content/drive/My Drive/shadeimg/SVM shade/CheckerDD.xlsx\n"
          ]
        }
      ]
    },
    {
      "cell_type": "code",
      "source": [
        "Set1 = os.path.join(path,'Setting1.xlsx')\n",
        "print(Set1)"
      ],
      "metadata": {
        "colab": {
          "base_uri": "https://localhost:8080/"
        },
        "id": "YnNg2TofxzSg",
        "outputId": "f95cc918-06cd-4e4b-df20-1cdf4d190232"
      },
      "execution_count": 7,
      "outputs": [
        {
          "output_type": "stream",
          "name": "stdout",
          "text": [
            "/content/drive/My Drive/shadeimg/SVM shade/Setting1.xlsx\n"
          ]
        }
      ]
    },
    {
      "cell_type": "code",
      "source": [
        "Set2 = os.path.join(path,'Setting2.xlsx')\n",
        "print(Set2)"
      ],
      "metadata": {
        "id": "9NmuTsKXj8iA",
        "outputId": "83f0fb2e-b40a-4552-8dfc-84a7e1561580",
        "colab": {
          "base_uri": "https://localhost:8080/"
        }
      },
      "execution_count": 8,
      "outputs": [
        {
          "output_type": "stream",
          "name": "stdout",
          "text": [
            "/content/drive/My Drive/shadeimg/SVM shade/Setting2.xlsx\n"
          ]
        }
      ]
    },
    {
      "cell_type": "code",
      "source": [
        "Set3 = os.path.join(path,'Setting3.xlsx')\n",
        "print(Set3)"
      ],
      "metadata": {
        "id": "Flpjty_gj80T",
        "outputId": "17bc6e21-a562-4ee5-f90d-cdbe6f74eb62",
        "colab": {
          "base_uri": "https://localhost:8080/"
        }
      },
      "execution_count": 9,
      "outputs": [
        {
          "output_type": "stream",
          "name": "stdout",
          "text": [
            "/content/drive/My Drive/shadeimg/SVM shade/Setting3.xlsx\n"
          ]
        }
      ]
    },
    {
      "cell_type": "code",
      "source": [
        "Set4 = os.path.join(path,'Setting4.xlsx')\n",
        "print(Set4)"
      ],
      "metadata": {
        "colab": {
          "base_uri": "https://localhost:8080/"
        },
        "id": "D5_QGRNuj9Hu",
        "outputId": "bdeadb7a-101c-430e-f19b-f44110725339"
      },
      "execution_count": 10,
      "outputs": [
        {
          "output_type": "stream",
          "name": "stdout",
          "text": [
            "/content/drive/My Drive/shadeimg/SVM shade/Setting4.xlsx\n"
          ]
        }
      ]
    },
    {
      "cell_type": "code",
      "source": [
        "import numpy as np"
      ],
      "metadata": {
        "id": "8ISBGlPBzzvw"
      },
      "execution_count": 11,
      "outputs": []
    },
    {
      "cell_type": "code",
      "source": [
        "from sklearn import metrics"
      ],
      "metadata": {
        "id": "FTwRPXBBzw1v"
      },
      "execution_count": 12,
      "outputs": []
    },
    {
      "cell_type": "code",
      "source": [
        "from sklearn import datasets"
      ],
      "metadata": {
        "id": "KR8lVsZXpX9X"
      },
      "execution_count": 13,
      "outputs": []
    },
    {
      "cell_type": "code",
      "source": [
        "from sklearn.ensemble import RandomForestClassifier"
      ],
      "metadata": {
        "id": "cfRBaPLCI0vn"
      },
      "execution_count": 14,
      "outputs": []
    },
    {
      "cell_type": "code",
      "source": [
        "clf=RandomForestClassifier()"
      ],
      "metadata": {
        "id": "i-IpOEIhnwdR"
      },
      "execution_count": 15,
      "outputs": []
    },
    {
      "cell_type": "code",
      "source": [
        "table_D3CC1 = pd.read_excel(CC1 , sheet_name='D3set5')\n",
        "table_D3CC1.head()"
      ],
      "metadata": {
        "colab": {
          "base_uri": "https://localhost:8080/",
          "height": 206
        },
        "id": "vG__NuVXb2Qz",
        "outputId": "ce880882-94f9-486b-8b84-4ae83a084d06"
      },
      "execution_count": 16,
      "outputs": [
        {
          "output_type": "execute_result",
          "data": {
            "text/html": [
              "\n",
              "  <div id=\"df-d67aa09a-49c2-40c8-a888-e73f5466a666\">\n",
              "    <div class=\"colab-df-container\">\n",
              "      <div>\n",
              "<style scoped>\n",
              "    .dataframe tbody tr th:only-of-type {\n",
              "        vertical-align: middle;\n",
              "    }\n",
              "\n",
              "    .dataframe tbody tr th {\n",
              "        vertical-align: top;\n",
              "    }\n",
              "\n",
              "    .dataframe thead th {\n",
              "        text-align: right;\n",
              "    }\n",
              "</style>\n",
              "<table border=\"1\" class=\"dataframe\">\n",
              "  <thead>\n",
              "    <tr style=\"text-align: right;\">\n",
              "      <th></th>\n",
              "      <th>R-ref</th>\n",
              "      <th>G-ref</th>\n",
              "      <th>B-ref</th>\n",
              "      <th>R-Shad</th>\n",
              "      <th>G-Shad</th>\n",
              "      <th>B-Shad</th>\n",
              "      <th>H-ref</th>\n",
              "      <th>S-ref</th>\n",
              "      <th>V-ref</th>\n",
              "      <th>H-Shad</th>\n",
              "      <th>S-Shad</th>\n",
              "      <th>V-Shad</th>\n",
              "      <th>Setting</th>\n",
              "      <th>Ref</th>\n",
              "      <th>Shad</th>\n",
              "      <th>Img</th>\n",
              "    </tr>\n",
              "  </thead>\n",
              "  <tbody>\n",
              "    <tr>\n",
              "      <th>0</th>\n",
              "      <td>223.533317</td>\n",
              "      <td>203.558640</td>\n",
              "      <td>165.842302</td>\n",
              "      <td>223.503378</td>\n",
              "      <td>203.455302</td>\n",
              "      <td>165.912097</td>\n",
              "      <td>19.322863</td>\n",
              "      <td>65.793117</td>\n",
              "      <td>223.533317</td>\n",
              "      <td>19.291231</td>\n",
              "      <td>65.688856</td>\n",
              "      <td>223.503378</td>\n",
              "      <td>Set5</td>\n",
              "      <td>D3</td>\n",
              "      <td>A1</td>\n",
              "      <td>D31A6339-9324-4718-8F1D-F9C86FF1CAC1.png</td>\n",
              "    </tr>\n",
              "    <tr>\n",
              "      <th>1</th>\n",
              "      <td>224.624949</td>\n",
              "      <td>202.937586</td>\n",
              "      <td>163.191705</td>\n",
              "      <td>224.517033</td>\n",
              "      <td>202.801650</td>\n",
              "      <td>163.173956</td>\n",
              "      <td>19.452236</td>\n",
              "      <td>69.768525</td>\n",
              "      <td>224.624949</td>\n",
              "      <td>19.420169</td>\n",
              "      <td>69.692483</td>\n",
              "      <td>224.517033</td>\n",
              "      <td>Set5</td>\n",
              "      <td>D3</td>\n",
              "      <td>A1</td>\n",
              "      <td>3AD826D5-B618-4F47-BB57-2052C33EFAAE.png</td>\n",
              "    </tr>\n",
              "    <tr>\n",
              "      <th>2</th>\n",
              "      <td>225.539161</td>\n",
              "      <td>206.125964</td>\n",
              "      <td>167.317020</td>\n",
              "      <td>225.381694</td>\n",
              "      <td>205.911884</td>\n",
              "      <td>167.275798</td>\n",
              "      <td>19.626086</td>\n",
              "      <td>65.814707</td>\n",
              "      <td>225.539161</td>\n",
              "      <td>19.568025</td>\n",
              "      <td>65.723348</td>\n",
              "      <td>225.381694</td>\n",
              "      <td>Set5</td>\n",
              "      <td>D3</td>\n",
              "      <td>A1</td>\n",
              "      <td>14BDB65A-A5B9-48B4-9F79-1C078570A88D.png</td>\n",
              "    </tr>\n",
              "    <tr>\n",
              "      <th>3</th>\n",
              "      <td>224.508644</td>\n",
              "      <td>208.011363</td>\n",
              "      <td>175.946108</td>\n",
              "      <td>224.409075</td>\n",
              "      <td>207.842116</td>\n",
              "      <td>175.782306</td>\n",
              "      <td>19.632010</td>\n",
              "      <td>55.220680</td>\n",
              "      <td>224.508644</td>\n",
              "      <td>19.602660</td>\n",
              "      <td>55.318825</td>\n",
              "      <td>224.409075</td>\n",
              "      <td>Set5</td>\n",
              "      <td>D3</td>\n",
              "      <td>A1</td>\n",
              "      <td>9131592F-9798-4457-ACD3-8109CCA36224.png</td>\n",
              "    </tr>\n",
              "    <tr>\n",
              "      <th>4</th>\n",
              "      <td>225.235127</td>\n",
              "      <td>209.102021</td>\n",
              "      <td>175.769580</td>\n",
              "      <td>225.040893</td>\n",
              "      <td>208.868075</td>\n",
              "      <td>175.555864</td>\n",
              "      <td>19.947407</td>\n",
              "      <td>56.048697</td>\n",
              "      <td>225.235127</td>\n",
              "      <td>19.936989</td>\n",
              "      <td>56.118270</td>\n",
              "      <td>225.040893</td>\n",
              "      <td>Set5</td>\n",
              "      <td>D3</td>\n",
              "      <td>A1</td>\n",
              "      <td>653769F4-F724-4660-A3EE-76C3101A90E5.png</td>\n",
              "    </tr>\n",
              "  </tbody>\n",
              "</table>\n",
              "</div>\n",
              "      <button class=\"colab-df-convert\" onclick=\"convertToInteractive('df-d67aa09a-49c2-40c8-a888-e73f5466a666')\"\n",
              "              title=\"Convert this dataframe to an interactive table.\"\n",
              "              style=\"display:none;\">\n",
              "        \n",
              "  <svg xmlns=\"http://www.w3.org/2000/svg\" height=\"24px\"viewBox=\"0 0 24 24\"\n",
              "       width=\"24px\">\n",
              "    <path d=\"M0 0h24v24H0V0z\" fill=\"none\"/>\n",
              "    <path d=\"M18.56 5.44l.94 2.06.94-2.06 2.06-.94-2.06-.94-.94-2.06-.94 2.06-2.06.94zm-11 1L8.5 8.5l.94-2.06 2.06-.94-2.06-.94L8.5 2.5l-.94 2.06-2.06.94zm10 10l.94 2.06.94-2.06 2.06-.94-2.06-.94-.94-2.06-.94 2.06-2.06.94z\"/><path d=\"M17.41 7.96l-1.37-1.37c-.4-.4-.92-.59-1.43-.59-.52 0-1.04.2-1.43.59L10.3 9.45l-7.72 7.72c-.78.78-.78 2.05 0 2.83L4 21.41c.39.39.9.59 1.41.59.51 0 1.02-.2 1.41-.59l7.78-7.78 2.81-2.81c.8-.78.8-2.07 0-2.86zM5.41 20L4 18.59l7.72-7.72 1.47 1.35L5.41 20z\"/>\n",
              "  </svg>\n",
              "      </button>\n",
              "      \n",
              "  <style>\n",
              "    .colab-df-container {\n",
              "      display:flex;\n",
              "      flex-wrap:wrap;\n",
              "      gap: 12px;\n",
              "    }\n",
              "\n",
              "    .colab-df-convert {\n",
              "      background-color: #E8F0FE;\n",
              "      border: none;\n",
              "      border-radius: 50%;\n",
              "      cursor: pointer;\n",
              "      display: none;\n",
              "      fill: #1967D2;\n",
              "      height: 32px;\n",
              "      padding: 0 0 0 0;\n",
              "      width: 32px;\n",
              "    }\n",
              "\n",
              "    .colab-df-convert:hover {\n",
              "      background-color: #E2EBFA;\n",
              "      box-shadow: 0px 1px 2px rgba(60, 64, 67, 0.3), 0px 1px 3px 1px rgba(60, 64, 67, 0.15);\n",
              "      fill: #174EA6;\n",
              "    }\n",
              "\n",
              "    [theme=dark] .colab-df-convert {\n",
              "      background-color: #3B4455;\n",
              "      fill: #D2E3FC;\n",
              "    }\n",
              "\n",
              "    [theme=dark] .colab-df-convert:hover {\n",
              "      background-color: #434B5C;\n",
              "      box-shadow: 0px 1px 3px 1px rgba(0, 0, 0, 0.15);\n",
              "      filter: drop-shadow(0px 1px 2px rgba(0, 0, 0, 0.3));\n",
              "      fill: #FFFFFF;\n",
              "    }\n",
              "  </style>\n",
              "\n",
              "      <script>\n",
              "        const buttonEl =\n",
              "          document.querySelector('#df-d67aa09a-49c2-40c8-a888-e73f5466a666 button.colab-df-convert');\n",
              "        buttonEl.style.display =\n",
              "          google.colab.kernel.accessAllowed ? 'block' : 'none';\n",
              "\n",
              "        async function convertToInteractive(key) {\n",
              "          const element = document.querySelector('#df-d67aa09a-49c2-40c8-a888-e73f5466a666');\n",
              "          const dataTable =\n",
              "            await google.colab.kernel.invokeFunction('convertToInteractive',\n",
              "                                                     [key], {});\n",
              "          if (!dataTable) return;\n",
              "\n",
              "          const docLinkHtml = 'Like what you see? Visit the ' +\n",
              "            '<a target=\"_blank\" href=https://colab.research.google.com/notebooks/data_table.ipynb>data table notebook</a>'\n",
              "            + ' to learn more about interactive tables.';\n",
              "          element.innerHTML = '';\n",
              "          dataTable['output_type'] = 'display_data';\n",
              "          await google.colab.output.renderOutput(dataTable, element);\n",
              "          const docLink = document.createElement('div');\n",
              "          docLink.innerHTML = docLinkHtml;\n",
              "          element.appendChild(docLink);\n",
              "        }\n",
              "      </script>\n",
              "    </div>\n",
              "  </div>\n",
              "  "
            ],
            "text/plain": [
              "        R-ref       G-ref  ...  Shad                                       Img\n",
              "0  223.533317  203.558640  ...    A1  D31A6339-9324-4718-8F1D-F9C86FF1CAC1.png\n",
              "1  224.624949  202.937586  ...    A1  3AD826D5-B618-4F47-BB57-2052C33EFAAE.png\n",
              "2  225.539161  206.125964  ...    A1  14BDB65A-A5B9-48B4-9F79-1C078570A88D.png\n",
              "3  224.508644  208.011363  ...    A1  9131592F-9798-4457-ACD3-8109CCA36224.png\n",
              "4  225.235127  209.102021  ...    A1  653769F4-F724-4660-A3EE-76C3101A90E5.png\n",
              "\n",
              "[5 rows x 16 columns]"
            ]
          },
          "metadata": {},
          "execution_count": 16
        }
      ]
    },
    {
      "cell_type": "code",
      "source": [
        "table_D3CC2 = pd.read_excel(CC1 , sheet_name='D3set6')\n",
        "table_D3CC2.head()"
      ],
      "metadata": {
        "colab": {
          "base_uri": "https://localhost:8080/",
          "height": 206
        },
        "id": "5s0g5iNMRkbq",
        "outputId": "d6ffe2af-e1ae-4a82-e7ba-b53ac8e82d2b"
      },
      "execution_count": 17,
      "outputs": [
        {
          "output_type": "execute_result",
          "data": {
            "text/html": [
              "\n",
              "  <div id=\"df-11d7bafa-900e-4598-9e12-04244eac8373\">\n",
              "    <div class=\"colab-df-container\">\n",
              "      <div>\n",
              "<style scoped>\n",
              "    .dataframe tbody tr th:only-of-type {\n",
              "        vertical-align: middle;\n",
              "    }\n",
              "\n",
              "    .dataframe tbody tr th {\n",
              "        vertical-align: top;\n",
              "    }\n",
              "\n",
              "    .dataframe thead th {\n",
              "        text-align: right;\n",
              "    }\n",
              "</style>\n",
              "<table border=\"1\" class=\"dataframe\">\n",
              "  <thead>\n",
              "    <tr style=\"text-align: right;\">\n",
              "      <th></th>\n",
              "      <th>R-ref</th>\n",
              "      <th>G-ref</th>\n",
              "      <th>B-ref</th>\n",
              "      <th>R-Shad</th>\n",
              "      <th>G-Shad</th>\n",
              "      <th>B-Shad</th>\n",
              "      <th>H-ref</th>\n",
              "      <th>S-ref</th>\n",
              "      <th>V-ref</th>\n",
              "      <th>H-Shad</th>\n",
              "      <th>S-Shad</th>\n",
              "      <th>V-Shad</th>\n",
              "      <th>Setting</th>\n",
              "      <th>Ref</th>\n",
              "      <th>Shad</th>\n",
              "      <th>Img</th>\n",
              "    </tr>\n",
              "  </thead>\n",
              "  <tbody>\n",
              "    <tr>\n",
              "      <th>0</th>\n",
              "      <td>216.974434</td>\n",
              "      <td>221.510592</td>\n",
              "      <td>199.688012</td>\n",
              "      <td>216.226726</td>\n",
              "      <td>220.796743</td>\n",
              "      <td>199.027381</td>\n",
              "      <td>36.490626</td>\n",
              "      <td>25.144388</td>\n",
              "      <td>221.510592</td>\n",
              "      <td>36.572363</td>\n",
              "      <td>25.152407</td>\n",
              "      <td>220.796743</td>\n",
              "      <td>Set6</td>\n",
              "      <td>D3</td>\n",
              "      <td>A1</td>\n",
              "      <td>271DC401-D060-44CF-9035-B5163A38C82A.png</td>\n",
              "    </tr>\n",
              "    <tr>\n",
              "      <th>1</th>\n",
              "      <td>224.099505</td>\n",
              "      <td>229.098369</td>\n",
              "      <td>205.000081</td>\n",
              "      <td>223.430553</td>\n",
              "      <td>228.342721</td>\n",
              "      <td>204.197781</td>\n",
              "      <td>36.531856</td>\n",
              "      <td>26.762925</td>\n",
              "      <td>229.098369</td>\n",
              "      <td>36.403741</td>\n",
              "      <td>26.914089</td>\n",
              "      <td>228.342721</td>\n",
              "      <td>Set6</td>\n",
              "      <td>D3</td>\n",
              "      <td>A1</td>\n",
              "      <td>A3DE134D-4B70-47DE-9CEC-140F0D9A2A69.png</td>\n",
              "    </tr>\n",
              "    <tr>\n",
              "      <th>2</th>\n",
              "      <td>223.496388</td>\n",
              "      <td>229.110949</td>\n",
              "      <td>204.149501</td>\n",
              "      <td>222.779319</td>\n",
              "      <td>228.326577</td>\n",
              "      <td>203.311215</td>\n",
              "      <td>36.949355</td>\n",
              "      <td>27.709196</td>\n",
              "      <td>229.110949</td>\n",
              "      <td>36.838632</td>\n",
              "      <td>27.870422</td>\n",
              "      <td>228.326577</td>\n",
              "      <td>Set6</td>\n",
              "      <td>D3</td>\n",
              "      <td>A1</td>\n",
              "      <td>BFE57A76-6444-47E0-8266-3F9240EDE840.png</td>\n",
              "    </tr>\n",
              "    <tr>\n",
              "      <th>3</th>\n",
              "      <td>223.590861</td>\n",
              "      <td>229.145362</td>\n",
              "      <td>204.242919</td>\n",
              "      <td>222.889908</td>\n",
              "      <td>228.361923</td>\n",
              "      <td>203.480549</td>\n",
              "      <td>36.902849</td>\n",
              "      <td>27.656521</td>\n",
              "      <td>229.145362</td>\n",
              "      <td>36.810895</td>\n",
              "      <td>27.735510</td>\n",
              "      <td>228.361923</td>\n",
              "      <td>Set6</td>\n",
              "      <td>D3</td>\n",
              "      <td>A1</td>\n",
              "      <td>FD507C4E-07C8-4DCC-9DCB-F3FB2C76AAB4.png</td>\n",
              "    </tr>\n",
              "    <tr>\n",
              "      <th>4</th>\n",
              "      <td>223.864134</td>\n",
              "      <td>229.322052</td>\n",
              "      <td>204.647188</td>\n",
              "      <td>223.173103</td>\n",
              "      <td>228.538653</td>\n",
              "      <td>203.859185</td>\n",
              "      <td>36.876146</td>\n",
              "      <td>27.371885</td>\n",
              "      <td>229.322052</td>\n",
              "      <td>36.759477</td>\n",
              "      <td>27.478487</td>\n",
              "      <td>228.538653</td>\n",
              "      <td>Set6</td>\n",
              "      <td>D3</td>\n",
              "      <td>A1</td>\n",
              "      <td>10D62DA7-31C9-483A-A627-9AD9F089ECD0.png</td>\n",
              "    </tr>\n",
              "  </tbody>\n",
              "</table>\n",
              "</div>\n",
              "      <button class=\"colab-df-convert\" onclick=\"convertToInteractive('df-11d7bafa-900e-4598-9e12-04244eac8373')\"\n",
              "              title=\"Convert this dataframe to an interactive table.\"\n",
              "              style=\"display:none;\">\n",
              "        \n",
              "  <svg xmlns=\"http://www.w3.org/2000/svg\" height=\"24px\"viewBox=\"0 0 24 24\"\n",
              "       width=\"24px\">\n",
              "    <path d=\"M0 0h24v24H0V0z\" fill=\"none\"/>\n",
              "    <path d=\"M18.56 5.44l.94 2.06.94-2.06 2.06-.94-2.06-.94-.94-2.06-.94 2.06-2.06.94zm-11 1L8.5 8.5l.94-2.06 2.06-.94-2.06-.94L8.5 2.5l-.94 2.06-2.06.94zm10 10l.94 2.06.94-2.06 2.06-.94-2.06-.94-.94-2.06-.94 2.06-2.06.94z\"/><path d=\"M17.41 7.96l-1.37-1.37c-.4-.4-.92-.59-1.43-.59-.52 0-1.04.2-1.43.59L10.3 9.45l-7.72 7.72c-.78.78-.78 2.05 0 2.83L4 21.41c.39.39.9.59 1.41.59.51 0 1.02-.2 1.41-.59l7.78-7.78 2.81-2.81c.8-.78.8-2.07 0-2.86zM5.41 20L4 18.59l7.72-7.72 1.47 1.35L5.41 20z\"/>\n",
              "  </svg>\n",
              "      </button>\n",
              "      \n",
              "  <style>\n",
              "    .colab-df-container {\n",
              "      display:flex;\n",
              "      flex-wrap:wrap;\n",
              "      gap: 12px;\n",
              "    }\n",
              "\n",
              "    .colab-df-convert {\n",
              "      background-color: #E8F0FE;\n",
              "      border: none;\n",
              "      border-radius: 50%;\n",
              "      cursor: pointer;\n",
              "      display: none;\n",
              "      fill: #1967D2;\n",
              "      height: 32px;\n",
              "      padding: 0 0 0 0;\n",
              "      width: 32px;\n",
              "    }\n",
              "\n",
              "    .colab-df-convert:hover {\n",
              "      background-color: #E2EBFA;\n",
              "      box-shadow: 0px 1px 2px rgba(60, 64, 67, 0.3), 0px 1px 3px 1px rgba(60, 64, 67, 0.15);\n",
              "      fill: #174EA6;\n",
              "    }\n",
              "\n",
              "    [theme=dark] .colab-df-convert {\n",
              "      background-color: #3B4455;\n",
              "      fill: #D2E3FC;\n",
              "    }\n",
              "\n",
              "    [theme=dark] .colab-df-convert:hover {\n",
              "      background-color: #434B5C;\n",
              "      box-shadow: 0px 1px 3px 1px rgba(0, 0, 0, 0.15);\n",
              "      filter: drop-shadow(0px 1px 2px rgba(0, 0, 0, 0.3));\n",
              "      fill: #FFFFFF;\n",
              "    }\n",
              "  </style>\n",
              "\n",
              "      <script>\n",
              "        const buttonEl =\n",
              "          document.querySelector('#df-11d7bafa-900e-4598-9e12-04244eac8373 button.colab-df-convert');\n",
              "        buttonEl.style.display =\n",
              "          google.colab.kernel.accessAllowed ? 'block' : 'none';\n",
              "\n",
              "        async function convertToInteractive(key) {\n",
              "          const element = document.querySelector('#df-11d7bafa-900e-4598-9e12-04244eac8373');\n",
              "          const dataTable =\n",
              "            await google.colab.kernel.invokeFunction('convertToInteractive',\n",
              "                                                     [key], {});\n",
              "          if (!dataTable) return;\n",
              "\n",
              "          const docLinkHtml = 'Like what you see? Visit the ' +\n",
              "            '<a target=\"_blank\" href=https://colab.research.google.com/notebooks/data_table.ipynb>data table notebook</a>'\n",
              "            + ' to learn more about interactive tables.';\n",
              "          element.innerHTML = '';\n",
              "          dataTable['output_type'] = 'display_data';\n",
              "          await google.colab.output.renderOutput(dataTable, element);\n",
              "          const docLink = document.createElement('div');\n",
              "          docLink.innerHTML = docLinkHtml;\n",
              "          element.appendChild(docLink);\n",
              "        }\n",
              "      </script>\n",
              "    </div>\n",
              "  </div>\n",
              "  "
            ],
            "text/plain": [
              "        R-ref       G-ref  ...  Shad                                       Img\n",
              "0  216.974434  221.510592  ...    A1  271DC401-D060-44CF-9035-B5163A38C82A.png\n",
              "1  224.099505  229.098369  ...    A1  A3DE134D-4B70-47DE-9CEC-140F0D9A2A69.png\n",
              "2  223.496388  229.110949  ...    A1  BFE57A76-6444-47E0-8266-3F9240EDE840.png\n",
              "3  223.590861  229.145362  ...    A1  FD507C4E-07C8-4DCC-9DCB-F3FB2C76AAB4.png\n",
              "4  223.864134  229.322052  ...    A1  10D62DA7-31C9-483A-A627-9AD9F089ECD0.png\n",
              "\n",
              "[5 rows x 16 columns]"
            ]
          },
          "metadata": {},
          "execution_count": 17
        }
      ]
    },
    {
      "cell_type": "markdown",
      "source": [
        "#DD"
      ],
      "metadata": {
        "id": "kFckM1SuxrfW"
      }
    },
    {
      "cell_type": "markdown",
      "source": [
        "##D3"
      ],
      "metadata": {
        "id": "ntLV6fwAx90V"
      }
    },
    {
      "cell_type": "code",
      "source": [
        "table_D3Set1 = pd.read_excel(Set1 , sheet_name='D3Set1')\n",
        "table_D3Set1.head()"
      ],
      "metadata": {
        "colab": {
          "base_uri": "https://localhost:8080/",
          "height": 206
        },
        "outputId": "8301528f-87c9-4991-dc81-0109ded4a1cd",
        "id": "8iTZ6oX0x90V"
      },
      "execution_count": 18,
      "outputs": [
        {
          "output_type": "execute_result",
          "data": {
            "text/html": [
              "\n",
              "  <div id=\"df-c0434b9d-02fc-49be-aec3-4b4aa8b1a70b\">\n",
              "    <div class=\"colab-df-container\">\n",
              "      <div>\n",
              "<style scoped>\n",
              "    .dataframe tbody tr th:only-of-type {\n",
              "        vertical-align: middle;\n",
              "    }\n",
              "\n",
              "    .dataframe tbody tr th {\n",
              "        vertical-align: top;\n",
              "    }\n",
              "\n",
              "    .dataframe thead th {\n",
              "        text-align: right;\n",
              "    }\n",
              "</style>\n",
              "<table border=\"1\" class=\"dataframe\">\n",
              "  <thead>\n",
              "    <tr style=\"text-align: right;\">\n",
              "      <th></th>\n",
              "      <th>R-ref</th>\n",
              "      <th>G-ref</th>\n",
              "      <th>B-ref</th>\n",
              "      <th>R-Shad</th>\n",
              "      <th>G-Shad</th>\n",
              "      <th>B-Shad</th>\n",
              "      <th>H-ref</th>\n",
              "      <th>S-ref</th>\n",
              "      <th>V-ref</th>\n",
              "      <th>H-Shad</th>\n",
              "      <th>S-Shad</th>\n",
              "      <th>V-Shad</th>\n",
              "      <th>Setting</th>\n",
              "      <th>Ref</th>\n",
              "      <th>Shad</th>\n",
              "      <th>Img</th>\n",
              "    </tr>\n",
              "  </thead>\n",
              "  <tbody>\n",
              "    <tr>\n",
              "      <th>0</th>\n",
              "      <td>233.315883</td>\n",
              "      <td>219.042529</td>\n",
              "      <td>182.521062</td>\n",
              "      <td>233.667093</td>\n",
              "      <td>219.760757</td>\n",
              "      <td>183.891046</td>\n",
              "      <td>21.621378</td>\n",
              "      <td>55.572843</td>\n",
              "      <td>233.315883</td>\n",
              "      <td>21.686509</td>\n",
              "      <td>54.387028</td>\n",
              "      <td>233.667093</td>\n",
              "      <td>Set1</td>\n",
              "      <td>D3</td>\n",
              "      <td>A1</td>\n",
              "      <td>57601EF7-37D5-4783-A278-238D30F60912.png</td>\n",
              "    </tr>\n",
              "    <tr>\n",
              "      <th>1</th>\n",
              "      <td>233.194140</td>\n",
              "      <td>219.034007</td>\n",
              "      <td>182.078484</td>\n",
              "      <td>233.563331</td>\n",
              "      <td>219.768224</td>\n",
              "      <td>183.451248</td>\n",
              "      <td>21.768038</td>\n",
              "      <td>55.961773</td>\n",
              "      <td>233.194140</td>\n",
              "      <td>21.826755</td>\n",
              "      <td>54.788991</td>\n",
              "      <td>233.563331</td>\n",
              "      <td>Set1</td>\n",
              "      <td>D3</td>\n",
              "      <td>A1</td>\n",
              "      <td>5412037F-4AF3-43A2-A4ED-CADFEC0751E7.png</td>\n",
              "    </tr>\n",
              "    <tr>\n",
              "      <th>2</th>\n",
              "      <td>228.266131</td>\n",
              "      <td>215.102914</td>\n",
              "      <td>179.983605</td>\n",
              "      <td>228.810113</td>\n",
              "      <td>215.946590</td>\n",
              "      <td>181.582960</td>\n",
              "      <td>21.894408</td>\n",
              "      <td>54.001299</td>\n",
              "      <td>228.266131</td>\n",
              "      <td>21.907972</td>\n",
              "      <td>52.719863</td>\n",
              "      <td>228.810113</td>\n",
              "      <td>Set1</td>\n",
              "      <td>D3</td>\n",
              "      <td>A1</td>\n",
              "      <td>456A44EC-FCBD-4487-B70C-F0E01333D15C.png</td>\n",
              "    </tr>\n",
              "    <tr>\n",
              "      <th>3</th>\n",
              "      <td>233.271975</td>\n",
              "      <td>219.056732</td>\n",
              "      <td>181.960799</td>\n",
              "      <td>233.632672</td>\n",
              "      <td>219.760828</td>\n",
              "      <td>183.255672</td>\n",
              "      <td>21.744014</td>\n",
              "      <td>56.161351</td>\n",
              "      <td>233.271975</td>\n",
              "      <td>21.790698</td>\n",
              "      <td>55.064434</td>\n",
              "      <td>233.632672</td>\n",
              "      <td>Set1</td>\n",
              "      <td>D3</td>\n",
              "      <td>A1</td>\n",
              "      <td>834A3691-A011-4D07-8652-E2A2C8F1E3F7.png</td>\n",
              "    </tr>\n",
              "    <tr>\n",
              "      <th>4</th>\n",
              "      <td>234.316776</td>\n",
              "      <td>220.035711</td>\n",
              "      <td>183.531856</td>\n",
              "      <td>234.724131</td>\n",
              "      <td>220.744968</td>\n",
              "      <td>184.855985</td>\n",
              "      <td>21.653843</td>\n",
              "      <td>55.306387</td>\n",
              "      <td>234.316776</td>\n",
              "      <td>21.684873</td>\n",
              "      <td>54.232203</td>\n",
              "      <td>234.724131</td>\n",
              "      <td>Set1</td>\n",
              "      <td>D3</td>\n",
              "      <td>A1</td>\n",
              "      <td>714E83ED-391B-480A-85E8-DC4AB8864683.png</td>\n",
              "    </tr>\n",
              "  </tbody>\n",
              "</table>\n",
              "</div>\n",
              "      <button class=\"colab-df-convert\" onclick=\"convertToInteractive('df-c0434b9d-02fc-49be-aec3-4b4aa8b1a70b')\"\n",
              "              title=\"Convert this dataframe to an interactive table.\"\n",
              "              style=\"display:none;\">\n",
              "        \n",
              "  <svg xmlns=\"http://www.w3.org/2000/svg\" height=\"24px\"viewBox=\"0 0 24 24\"\n",
              "       width=\"24px\">\n",
              "    <path d=\"M0 0h24v24H0V0z\" fill=\"none\"/>\n",
              "    <path d=\"M18.56 5.44l.94 2.06.94-2.06 2.06-.94-2.06-.94-.94-2.06-.94 2.06-2.06.94zm-11 1L8.5 8.5l.94-2.06 2.06-.94-2.06-.94L8.5 2.5l-.94 2.06-2.06.94zm10 10l.94 2.06.94-2.06 2.06-.94-2.06-.94-.94-2.06-.94 2.06-2.06.94z\"/><path d=\"M17.41 7.96l-1.37-1.37c-.4-.4-.92-.59-1.43-.59-.52 0-1.04.2-1.43.59L10.3 9.45l-7.72 7.72c-.78.78-.78 2.05 0 2.83L4 21.41c.39.39.9.59 1.41.59.51 0 1.02-.2 1.41-.59l7.78-7.78 2.81-2.81c.8-.78.8-2.07 0-2.86zM5.41 20L4 18.59l7.72-7.72 1.47 1.35L5.41 20z\"/>\n",
              "  </svg>\n",
              "      </button>\n",
              "      \n",
              "  <style>\n",
              "    .colab-df-container {\n",
              "      display:flex;\n",
              "      flex-wrap:wrap;\n",
              "      gap: 12px;\n",
              "    }\n",
              "\n",
              "    .colab-df-convert {\n",
              "      background-color: #E8F0FE;\n",
              "      border: none;\n",
              "      border-radius: 50%;\n",
              "      cursor: pointer;\n",
              "      display: none;\n",
              "      fill: #1967D2;\n",
              "      height: 32px;\n",
              "      padding: 0 0 0 0;\n",
              "      width: 32px;\n",
              "    }\n",
              "\n",
              "    .colab-df-convert:hover {\n",
              "      background-color: #E2EBFA;\n",
              "      box-shadow: 0px 1px 2px rgba(60, 64, 67, 0.3), 0px 1px 3px 1px rgba(60, 64, 67, 0.15);\n",
              "      fill: #174EA6;\n",
              "    }\n",
              "\n",
              "    [theme=dark] .colab-df-convert {\n",
              "      background-color: #3B4455;\n",
              "      fill: #D2E3FC;\n",
              "    }\n",
              "\n",
              "    [theme=dark] .colab-df-convert:hover {\n",
              "      background-color: #434B5C;\n",
              "      box-shadow: 0px 1px 3px 1px rgba(0, 0, 0, 0.15);\n",
              "      filter: drop-shadow(0px 1px 2px rgba(0, 0, 0, 0.3));\n",
              "      fill: #FFFFFF;\n",
              "    }\n",
              "  </style>\n",
              "\n",
              "      <script>\n",
              "        const buttonEl =\n",
              "          document.querySelector('#df-c0434b9d-02fc-49be-aec3-4b4aa8b1a70b button.colab-df-convert');\n",
              "        buttonEl.style.display =\n",
              "          google.colab.kernel.accessAllowed ? 'block' : 'none';\n",
              "\n",
              "        async function convertToInteractive(key) {\n",
              "          const element = document.querySelector('#df-c0434b9d-02fc-49be-aec3-4b4aa8b1a70b');\n",
              "          const dataTable =\n",
              "            await google.colab.kernel.invokeFunction('convertToInteractive',\n",
              "                                                     [key], {});\n",
              "          if (!dataTable) return;\n",
              "\n",
              "          const docLinkHtml = 'Like what you see? Visit the ' +\n",
              "            '<a target=\"_blank\" href=https://colab.research.google.com/notebooks/data_table.ipynb>data table notebook</a>'\n",
              "            + ' to learn more about interactive tables.';\n",
              "          element.innerHTML = '';\n",
              "          dataTable['output_type'] = 'display_data';\n",
              "          await google.colab.output.renderOutput(dataTable, element);\n",
              "          const docLink = document.createElement('div');\n",
              "          docLink.innerHTML = docLinkHtml;\n",
              "          element.appendChild(docLink);\n",
              "        }\n",
              "      </script>\n",
              "    </div>\n",
              "  </div>\n",
              "  "
            ],
            "text/plain": [
              "        R-ref       G-ref  ...  Shad                                       Img\n",
              "0  233.315883  219.042529  ...    A1  57601EF7-37D5-4783-A278-238D30F60912.png\n",
              "1  233.194140  219.034007  ...    A1  5412037F-4AF3-43A2-A4ED-CADFEC0751E7.png\n",
              "2  228.266131  215.102914  ...    A1  456A44EC-FCBD-4487-B70C-F0E01333D15C.png\n",
              "3  233.271975  219.056732  ...    A1  834A3691-A011-4D07-8652-E2A2C8F1E3F7.png\n",
              "4  234.316776  220.035711  ...    A1  714E83ED-391B-480A-85E8-DC4AB8864683.png\n",
              "\n",
              "[5 rows x 16 columns]"
            ]
          },
          "metadata": {},
          "execution_count": 18
        }
      ]
    },
    {
      "cell_type": "code",
      "source": [
        "table_D3Set2 = pd.read_excel(Set2, sheet_name='D3Set2')\n",
        "table_D3Set2.head()"
      ],
      "metadata": {
        "colab": {
          "base_uri": "https://localhost:8080/",
          "height": 206
        },
        "outputId": "b62c3d4f-cdd1-4460-c2ae-714c63a9a5a2",
        "id": "cFakwmd6x90W"
      },
      "execution_count": 19,
      "outputs": [
        {
          "output_type": "execute_result",
          "data": {
            "text/html": [
              "\n",
              "  <div id=\"df-07ec2e39-e57e-429f-a509-aefb574dbb4f\">\n",
              "    <div class=\"colab-df-container\">\n",
              "      <div>\n",
              "<style scoped>\n",
              "    .dataframe tbody tr th:only-of-type {\n",
              "        vertical-align: middle;\n",
              "    }\n",
              "\n",
              "    .dataframe tbody tr th {\n",
              "        vertical-align: top;\n",
              "    }\n",
              "\n",
              "    .dataframe thead th {\n",
              "        text-align: right;\n",
              "    }\n",
              "</style>\n",
              "<table border=\"1\" class=\"dataframe\">\n",
              "  <thead>\n",
              "    <tr style=\"text-align: right;\">\n",
              "      <th></th>\n",
              "      <th>R-ref</th>\n",
              "      <th>G-ref</th>\n",
              "      <th>B-ref</th>\n",
              "      <th>R-Shad</th>\n",
              "      <th>G-Shad</th>\n",
              "      <th>B-Shad</th>\n",
              "      <th>H-ref</th>\n",
              "      <th>S-ref</th>\n",
              "      <th>V-ref</th>\n",
              "      <th>H-Shad</th>\n",
              "      <th>S-Shad</th>\n",
              "      <th>V-Shad</th>\n",
              "      <th>Setting</th>\n",
              "      <th>Ref</th>\n",
              "      <th>Shad</th>\n",
              "      <th>Img</th>\n",
              "    </tr>\n",
              "  </thead>\n",
              "  <tbody>\n",
              "    <tr>\n",
              "      <th>0</th>\n",
              "      <td>233.496795</td>\n",
              "      <td>219.459984</td>\n",
              "      <td>183.541861</td>\n",
              "      <td>226.103698</td>\n",
              "      <td>210.819850</td>\n",
              "      <td>176.733852</td>\n",
              "      <td>21.614122</td>\n",
              "      <td>54.612082</td>\n",
              "      <td>233.496795</td>\n",
              "      <td>20.574275</td>\n",
              "      <td>55.678528</td>\n",
              "      <td>226.103698</td>\n",
              "      <td>Set2</td>\n",
              "      <td>D3</td>\n",
              "      <td>A1</td>\n",
              "      <td>BA355DCE-C148-4BBE-8A48-F96D2DDEB36B.png</td>\n",
              "    </tr>\n",
              "    <tr>\n",
              "      <th>1</th>\n",
              "      <td>233.355381</td>\n",
              "      <td>219.439880</td>\n",
              "      <td>183.049242</td>\n",
              "      <td>226.136225</td>\n",
              "      <td>210.611621</td>\n",
              "      <td>176.276619</td>\n",
              "      <td>21.770688</td>\n",
              "      <td>55.038073</td>\n",
              "      <td>233.355381</td>\n",
              "      <td>20.556946</td>\n",
              "      <td>56.211195</td>\n",
              "      <td>226.136225</td>\n",
              "      <td>Set2</td>\n",
              "      <td>D3</td>\n",
              "      <td>A1</td>\n",
              "      <td>40E1D41D-38C4-42B0-B31F-CA1712DB393E.png</td>\n",
              "    </tr>\n",
              "    <tr>\n",
              "      <th>2</th>\n",
              "      <td>228.504662</td>\n",
              "      <td>215.655983</td>\n",
              "      <td>181.190171</td>\n",
              "      <td>220.799092</td>\n",
              "      <td>205.492077</td>\n",
              "      <td>172.120749</td>\n",
              "      <td>21.929779</td>\n",
              "      <td>52.862374</td>\n",
              "      <td>228.504662</td>\n",
              "      <td>20.366416</td>\n",
              "      <td>56.219998</td>\n",
              "      <td>220.799092</td>\n",
              "      <td>Set2</td>\n",
              "      <td>D3</td>\n",
              "      <td>A1</td>\n",
              "      <td>59338A02-6279-42FF-A2CA-E970BAE29C55.png</td>\n",
              "    </tr>\n",
              "    <tr>\n",
              "      <th>3</th>\n",
              "      <td>233.467172</td>\n",
              "      <td>219.479118</td>\n",
              "      <td>182.892580</td>\n",
              "      <td>226.386711</td>\n",
              "      <td>210.920397</td>\n",
              "      <td>176.047818</td>\n",
              "      <td>21.751943</td>\n",
              "      <td>55.308761</td>\n",
              "      <td>233.467172</td>\n",
              "      <td>20.750811</td>\n",
              "      <td>56.671764</td>\n",
              "      <td>226.386711</td>\n",
              "      <td>Set2</td>\n",
              "      <td>D3</td>\n",
              "      <td>A1</td>\n",
              "      <td>847D87DE-CDA4-49D8-8411-34DFEAD6A06F.png</td>\n",
              "    </tr>\n",
              "    <tr>\n",
              "      <th>4</th>\n",
              "      <td>234.509615</td>\n",
              "      <td>220.490385</td>\n",
              "      <td>184.508256</td>\n",
              "      <td>227.663423</td>\n",
              "      <td>212.284033</td>\n",
              "      <td>178.291261</td>\n",
              "      <td>21.661131</td>\n",
              "      <td>54.405206</td>\n",
              "      <td>234.509615</td>\n",
              "      <td>20.525438</td>\n",
              "      <td>55.283848</td>\n",
              "      <td>227.663423</td>\n",
              "      <td>Set2</td>\n",
              "      <td>D3</td>\n",
              "      <td>A1</td>\n",
              "      <td>836F8028-4744-4B50-BFA8-DD71556DC524.png</td>\n",
              "    </tr>\n",
              "  </tbody>\n",
              "</table>\n",
              "</div>\n",
              "      <button class=\"colab-df-convert\" onclick=\"convertToInteractive('df-07ec2e39-e57e-429f-a509-aefb574dbb4f')\"\n",
              "              title=\"Convert this dataframe to an interactive table.\"\n",
              "              style=\"display:none;\">\n",
              "        \n",
              "  <svg xmlns=\"http://www.w3.org/2000/svg\" height=\"24px\"viewBox=\"0 0 24 24\"\n",
              "       width=\"24px\">\n",
              "    <path d=\"M0 0h24v24H0V0z\" fill=\"none\"/>\n",
              "    <path d=\"M18.56 5.44l.94 2.06.94-2.06 2.06-.94-2.06-.94-.94-2.06-.94 2.06-2.06.94zm-11 1L8.5 8.5l.94-2.06 2.06-.94-2.06-.94L8.5 2.5l-.94 2.06-2.06.94zm10 10l.94 2.06.94-2.06 2.06-.94-2.06-.94-.94-2.06-.94 2.06-2.06.94z\"/><path d=\"M17.41 7.96l-1.37-1.37c-.4-.4-.92-.59-1.43-.59-.52 0-1.04.2-1.43.59L10.3 9.45l-7.72 7.72c-.78.78-.78 2.05 0 2.83L4 21.41c.39.39.9.59 1.41.59.51 0 1.02-.2 1.41-.59l7.78-7.78 2.81-2.81c.8-.78.8-2.07 0-2.86zM5.41 20L4 18.59l7.72-7.72 1.47 1.35L5.41 20z\"/>\n",
              "  </svg>\n",
              "      </button>\n",
              "      \n",
              "  <style>\n",
              "    .colab-df-container {\n",
              "      display:flex;\n",
              "      flex-wrap:wrap;\n",
              "      gap: 12px;\n",
              "    }\n",
              "\n",
              "    .colab-df-convert {\n",
              "      background-color: #E8F0FE;\n",
              "      border: none;\n",
              "      border-radius: 50%;\n",
              "      cursor: pointer;\n",
              "      display: none;\n",
              "      fill: #1967D2;\n",
              "      height: 32px;\n",
              "      padding: 0 0 0 0;\n",
              "      width: 32px;\n",
              "    }\n",
              "\n",
              "    .colab-df-convert:hover {\n",
              "      background-color: #E2EBFA;\n",
              "      box-shadow: 0px 1px 2px rgba(60, 64, 67, 0.3), 0px 1px 3px 1px rgba(60, 64, 67, 0.15);\n",
              "      fill: #174EA6;\n",
              "    }\n",
              "\n",
              "    [theme=dark] .colab-df-convert {\n",
              "      background-color: #3B4455;\n",
              "      fill: #D2E3FC;\n",
              "    }\n",
              "\n",
              "    [theme=dark] .colab-df-convert:hover {\n",
              "      background-color: #434B5C;\n",
              "      box-shadow: 0px 1px 3px 1px rgba(0, 0, 0, 0.15);\n",
              "      filter: drop-shadow(0px 1px 2px rgba(0, 0, 0, 0.3));\n",
              "      fill: #FFFFFF;\n",
              "    }\n",
              "  </style>\n",
              "\n",
              "      <script>\n",
              "        const buttonEl =\n",
              "          document.querySelector('#df-07ec2e39-e57e-429f-a509-aefb574dbb4f button.colab-df-convert');\n",
              "        buttonEl.style.display =\n",
              "          google.colab.kernel.accessAllowed ? 'block' : 'none';\n",
              "\n",
              "        async function convertToInteractive(key) {\n",
              "          const element = document.querySelector('#df-07ec2e39-e57e-429f-a509-aefb574dbb4f');\n",
              "          const dataTable =\n",
              "            await google.colab.kernel.invokeFunction('convertToInteractive',\n",
              "                                                     [key], {});\n",
              "          if (!dataTable) return;\n",
              "\n",
              "          const docLinkHtml = 'Like what you see? Visit the ' +\n",
              "            '<a target=\"_blank\" href=https://colab.research.google.com/notebooks/data_table.ipynb>data table notebook</a>'\n",
              "            + ' to learn more about interactive tables.';\n",
              "          element.innerHTML = '';\n",
              "          dataTable['output_type'] = 'display_data';\n",
              "          await google.colab.output.renderOutput(dataTable, element);\n",
              "          const docLink = document.createElement('div');\n",
              "          docLink.innerHTML = docLinkHtml;\n",
              "          element.appendChild(docLink);\n",
              "        }\n",
              "      </script>\n",
              "    </div>\n",
              "  </div>\n",
              "  "
            ],
            "text/plain": [
              "        R-ref       G-ref  ...  Shad                                       Img\n",
              "0  233.496795  219.459984  ...    A1  BA355DCE-C148-4BBE-8A48-F96D2DDEB36B.png\n",
              "1  233.355381  219.439880  ...    A1  40E1D41D-38C4-42B0-B31F-CA1712DB393E.png\n",
              "2  228.504662  215.655983  ...    A1  59338A02-6279-42FF-A2CA-E970BAE29C55.png\n",
              "3  233.467172  219.479118  ...    A1  847D87DE-CDA4-49D8-8411-34DFEAD6A06F.png\n",
              "4  234.509615  220.490385  ...    A1  836F8028-4744-4B50-BFA8-DD71556DC524.png\n",
              "\n",
              "[5 rows x 16 columns]"
            ]
          },
          "metadata": {},
          "execution_count": 19
        }
      ]
    },
    {
      "cell_type": "code",
      "source": [
        "table_D3Set3 = pd.read_excel(Set3, sheet_name='D3Set3 ')\n",
        "table_D3Set3.head()"
      ],
      "metadata": {
        "colab": {
          "base_uri": "https://localhost:8080/",
          "height": 206
        },
        "outputId": "a0e831e2-b379-47d3-a1dd-7f043eb4ff50",
        "id": "k_96o6p1x90W"
      },
      "execution_count": 20,
      "outputs": [
        {
          "output_type": "execute_result",
          "data": {
            "text/html": [
              "\n",
              "  <div id=\"df-4d9ff5cf-3d48-451d-a3e0-b02698b31c0b\">\n",
              "    <div class=\"colab-df-container\">\n",
              "      <div>\n",
              "<style scoped>\n",
              "    .dataframe tbody tr th:only-of-type {\n",
              "        vertical-align: middle;\n",
              "    }\n",
              "\n",
              "    .dataframe tbody tr th {\n",
              "        vertical-align: top;\n",
              "    }\n",
              "\n",
              "    .dataframe thead th {\n",
              "        text-align: right;\n",
              "    }\n",
              "</style>\n",
              "<table border=\"1\" class=\"dataframe\">\n",
              "  <thead>\n",
              "    <tr style=\"text-align: right;\">\n",
              "      <th></th>\n",
              "      <th>R-ref</th>\n",
              "      <th>G-ref</th>\n",
              "      <th>B-ref</th>\n",
              "      <th>R-Shad</th>\n",
              "      <th>G-Shad</th>\n",
              "      <th>B-Shad</th>\n",
              "      <th>H-ref</th>\n",
              "      <th>S-ref</th>\n",
              "      <th>V-ref</th>\n",
              "      <th>H-Shad</th>\n",
              "      <th>S-Shad</th>\n",
              "      <th>V-Shad</th>\n",
              "      <th>Setting</th>\n",
              "      <th>Ref</th>\n",
              "      <th>Shad</th>\n",
              "      <th>Img</th>\n",
              "    </tr>\n",
              "  </thead>\n",
              "  <tbody>\n",
              "    <tr>\n",
              "      <th>0</th>\n",
              "      <td>233.315883</td>\n",
              "      <td>219.042529</td>\n",
              "      <td>182.521062</td>\n",
              "      <td>233.667093</td>\n",
              "      <td>219.760757</td>\n",
              "      <td>183.891046</td>\n",
              "      <td>21.621378</td>\n",
              "      <td>55.572843</td>\n",
              "      <td>233.315883</td>\n",
              "      <td>21.686509</td>\n",
              "      <td>54.387028</td>\n",
              "      <td>233.667093</td>\n",
              "      <td>Set3</td>\n",
              "      <td>D3</td>\n",
              "      <td>A1</td>\n",
              "      <td>44F32CB2-4AC3-4AA4-B00C-0873A77C39FB.png</td>\n",
              "    </tr>\n",
              "    <tr>\n",
              "      <th>1</th>\n",
              "      <td>233.194140</td>\n",
              "      <td>219.034007</td>\n",
              "      <td>182.078484</td>\n",
              "      <td>233.563331</td>\n",
              "      <td>219.768224</td>\n",
              "      <td>183.451248</td>\n",
              "      <td>21.768038</td>\n",
              "      <td>55.961773</td>\n",
              "      <td>233.194140</td>\n",
              "      <td>21.826755</td>\n",
              "      <td>54.788991</td>\n",
              "      <td>233.563331</td>\n",
              "      <td>Set3</td>\n",
              "      <td>D3</td>\n",
              "      <td>A1</td>\n",
              "      <td>2CDD72C1-95CD-437D-861D-22AF8E89C9CD.png</td>\n",
              "    </tr>\n",
              "    <tr>\n",
              "      <th>2</th>\n",
              "      <td>228.266131</td>\n",
              "      <td>215.102914</td>\n",
              "      <td>179.983605</td>\n",
              "      <td>228.810113</td>\n",
              "      <td>215.946590</td>\n",
              "      <td>181.582960</td>\n",
              "      <td>21.894408</td>\n",
              "      <td>54.001299</td>\n",
              "      <td>228.266131</td>\n",
              "      <td>21.907972</td>\n",
              "      <td>52.719863</td>\n",
              "      <td>228.810113</td>\n",
              "      <td>Set3</td>\n",
              "      <td>D3</td>\n",
              "      <td>A1</td>\n",
              "      <td>CBFB3E49-B585-4DE7-996B-CB1409AD9FBA.png</td>\n",
              "    </tr>\n",
              "    <tr>\n",
              "      <th>3</th>\n",
              "      <td>233.271975</td>\n",
              "      <td>219.056732</td>\n",
              "      <td>181.960799</td>\n",
              "      <td>233.632672</td>\n",
              "      <td>219.760828</td>\n",
              "      <td>183.255672</td>\n",
              "      <td>21.744014</td>\n",
              "      <td>56.161351</td>\n",
              "      <td>233.271975</td>\n",
              "      <td>21.790698</td>\n",
              "      <td>55.064434</td>\n",
              "      <td>233.632672</td>\n",
              "      <td>Set3</td>\n",
              "      <td>D3</td>\n",
              "      <td>A1</td>\n",
              "      <td>74C493A4-A4F6-472E-A771-763A75C24A4F.png</td>\n",
              "    </tr>\n",
              "    <tr>\n",
              "      <th>4</th>\n",
              "      <td>234.316776</td>\n",
              "      <td>220.035711</td>\n",
              "      <td>183.531856</td>\n",
              "      <td>234.724131</td>\n",
              "      <td>220.744968</td>\n",
              "      <td>184.855985</td>\n",
              "      <td>21.653843</td>\n",
              "      <td>55.306387</td>\n",
              "      <td>234.316776</td>\n",
              "      <td>21.684873</td>\n",
              "      <td>54.232203</td>\n",
              "      <td>234.724131</td>\n",
              "      <td>Set3</td>\n",
              "      <td>D3</td>\n",
              "      <td>A1</td>\n",
              "      <td>962C3361-D41F-42C8-B4E2-D58066BB75ED.png</td>\n",
              "    </tr>\n",
              "  </tbody>\n",
              "</table>\n",
              "</div>\n",
              "      <button class=\"colab-df-convert\" onclick=\"convertToInteractive('df-4d9ff5cf-3d48-451d-a3e0-b02698b31c0b')\"\n",
              "              title=\"Convert this dataframe to an interactive table.\"\n",
              "              style=\"display:none;\">\n",
              "        \n",
              "  <svg xmlns=\"http://www.w3.org/2000/svg\" height=\"24px\"viewBox=\"0 0 24 24\"\n",
              "       width=\"24px\">\n",
              "    <path d=\"M0 0h24v24H0V0z\" fill=\"none\"/>\n",
              "    <path d=\"M18.56 5.44l.94 2.06.94-2.06 2.06-.94-2.06-.94-.94-2.06-.94 2.06-2.06.94zm-11 1L8.5 8.5l.94-2.06 2.06-.94-2.06-.94L8.5 2.5l-.94 2.06-2.06.94zm10 10l.94 2.06.94-2.06 2.06-.94-2.06-.94-.94-2.06-.94 2.06-2.06.94z\"/><path d=\"M17.41 7.96l-1.37-1.37c-.4-.4-.92-.59-1.43-.59-.52 0-1.04.2-1.43.59L10.3 9.45l-7.72 7.72c-.78.78-.78 2.05 0 2.83L4 21.41c.39.39.9.59 1.41.59.51 0 1.02-.2 1.41-.59l7.78-7.78 2.81-2.81c.8-.78.8-2.07 0-2.86zM5.41 20L4 18.59l7.72-7.72 1.47 1.35L5.41 20z\"/>\n",
              "  </svg>\n",
              "      </button>\n",
              "      \n",
              "  <style>\n",
              "    .colab-df-container {\n",
              "      display:flex;\n",
              "      flex-wrap:wrap;\n",
              "      gap: 12px;\n",
              "    }\n",
              "\n",
              "    .colab-df-convert {\n",
              "      background-color: #E8F0FE;\n",
              "      border: none;\n",
              "      border-radius: 50%;\n",
              "      cursor: pointer;\n",
              "      display: none;\n",
              "      fill: #1967D2;\n",
              "      height: 32px;\n",
              "      padding: 0 0 0 0;\n",
              "      width: 32px;\n",
              "    }\n",
              "\n",
              "    .colab-df-convert:hover {\n",
              "      background-color: #E2EBFA;\n",
              "      box-shadow: 0px 1px 2px rgba(60, 64, 67, 0.3), 0px 1px 3px 1px rgba(60, 64, 67, 0.15);\n",
              "      fill: #174EA6;\n",
              "    }\n",
              "\n",
              "    [theme=dark] .colab-df-convert {\n",
              "      background-color: #3B4455;\n",
              "      fill: #D2E3FC;\n",
              "    }\n",
              "\n",
              "    [theme=dark] .colab-df-convert:hover {\n",
              "      background-color: #434B5C;\n",
              "      box-shadow: 0px 1px 3px 1px rgba(0, 0, 0, 0.15);\n",
              "      filter: drop-shadow(0px 1px 2px rgba(0, 0, 0, 0.3));\n",
              "      fill: #FFFFFF;\n",
              "    }\n",
              "  </style>\n",
              "\n",
              "      <script>\n",
              "        const buttonEl =\n",
              "          document.querySelector('#df-4d9ff5cf-3d48-451d-a3e0-b02698b31c0b button.colab-df-convert');\n",
              "        buttonEl.style.display =\n",
              "          google.colab.kernel.accessAllowed ? 'block' : 'none';\n",
              "\n",
              "        async function convertToInteractive(key) {\n",
              "          const element = document.querySelector('#df-4d9ff5cf-3d48-451d-a3e0-b02698b31c0b');\n",
              "          const dataTable =\n",
              "            await google.colab.kernel.invokeFunction('convertToInteractive',\n",
              "                                                     [key], {});\n",
              "          if (!dataTable) return;\n",
              "\n",
              "          const docLinkHtml = 'Like what you see? Visit the ' +\n",
              "            '<a target=\"_blank\" href=https://colab.research.google.com/notebooks/data_table.ipynb>data table notebook</a>'\n",
              "            + ' to learn more about interactive tables.';\n",
              "          element.innerHTML = '';\n",
              "          dataTable['output_type'] = 'display_data';\n",
              "          await google.colab.output.renderOutput(dataTable, element);\n",
              "          const docLink = document.createElement('div');\n",
              "          docLink.innerHTML = docLinkHtml;\n",
              "          element.appendChild(docLink);\n",
              "        }\n",
              "      </script>\n",
              "    </div>\n",
              "  </div>\n",
              "  "
            ],
            "text/plain": [
              "        R-ref       G-ref  ...  Shad                                       Img\n",
              "0  233.315883  219.042529  ...    A1  44F32CB2-4AC3-4AA4-B00C-0873A77C39FB.png\n",
              "1  233.194140  219.034007  ...    A1  2CDD72C1-95CD-437D-861D-22AF8E89C9CD.png\n",
              "2  228.266131  215.102914  ...    A1  CBFB3E49-B585-4DE7-996B-CB1409AD9FBA.png\n",
              "3  233.271975  219.056732  ...    A1  74C493A4-A4F6-472E-A771-763A75C24A4F.png\n",
              "4  234.316776  220.035711  ...    A1  962C3361-D41F-42C8-B4E2-D58066BB75ED.png\n",
              "\n",
              "[5 rows x 16 columns]"
            ]
          },
          "metadata": {},
          "execution_count": 20
        }
      ]
    },
    {
      "cell_type": "code",
      "source": [
        "table_D3Set4 = pd.read_excel(Set4, sheet_name='D3Set4')\n",
        "table_D3Set4.head()"
      ],
      "metadata": {
        "colab": {
          "base_uri": "https://localhost:8080/",
          "height": 206
        },
        "outputId": "5bde1aa5-766e-45e2-a190-c609a591f67e",
        "id": "cuqvRlS1x90W"
      },
      "execution_count": 21,
      "outputs": [
        {
          "output_type": "execute_result",
          "data": {
            "text/html": [
              "\n",
              "  <div id=\"df-4b4020da-50fa-477e-9a80-f503d2a24d14\">\n",
              "    <div class=\"colab-df-container\">\n",
              "      <div>\n",
              "<style scoped>\n",
              "    .dataframe tbody tr th:only-of-type {\n",
              "        vertical-align: middle;\n",
              "    }\n",
              "\n",
              "    .dataframe tbody tr th {\n",
              "        vertical-align: top;\n",
              "    }\n",
              "\n",
              "    .dataframe thead th {\n",
              "        text-align: right;\n",
              "    }\n",
              "</style>\n",
              "<table border=\"1\" class=\"dataframe\">\n",
              "  <thead>\n",
              "    <tr style=\"text-align: right;\">\n",
              "      <th></th>\n",
              "      <th>R-ref</th>\n",
              "      <th>G-ref</th>\n",
              "      <th>B-ref</th>\n",
              "      <th>R-Shad</th>\n",
              "      <th>G-Shad</th>\n",
              "      <th>B-Shad</th>\n",
              "      <th>H-ref</th>\n",
              "      <th>S-ref</th>\n",
              "      <th>V-ref</th>\n",
              "      <th>H-Shad</th>\n",
              "      <th>S-Shad</th>\n",
              "      <th>V-Shad</th>\n",
              "      <th>Setting</th>\n",
              "      <th>Ref</th>\n",
              "      <th>Shad</th>\n",
              "      <th>Img</th>\n",
              "    </tr>\n",
              "  </thead>\n",
              "  <tbody>\n",
              "    <tr>\n",
              "      <th>0</th>\n",
              "      <td>233.496795</td>\n",
              "      <td>219.459984</td>\n",
              "      <td>183.541861</td>\n",
              "      <td>226.103698</td>\n",
              "      <td>210.819850</td>\n",
              "      <td>176.733852</td>\n",
              "      <td>21.614122</td>\n",
              "      <td>54.612082</td>\n",
              "      <td>233.496795</td>\n",
              "      <td>20.574275</td>\n",
              "      <td>55.678528</td>\n",
              "      <td>226.103698</td>\n",
              "      <td>Set4</td>\n",
              "      <td>D3</td>\n",
              "      <td>A1</td>\n",
              "      <td>55D1922F-F23E-42B3-9163-13EDAA8937B9.png</td>\n",
              "    </tr>\n",
              "    <tr>\n",
              "      <th>1</th>\n",
              "      <td>233.355381</td>\n",
              "      <td>219.439880</td>\n",
              "      <td>183.049242</td>\n",
              "      <td>226.136225</td>\n",
              "      <td>210.611621</td>\n",
              "      <td>176.276619</td>\n",
              "      <td>21.770688</td>\n",
              "      <td>55.038073</td>\n",
              "      <td>233.355381</td>\n",
              "      <td>20.556946</td>\n",
              "      <td>56.211195</td>\n",
              "      <td>226.136225</td>\n",
              "      <td>Set4</td>\n",
              "      <td>D3</td>\n",
              "      <td>A1</td>\n",
              "      <td>039D73E5-8D95-487A-9124-4544316E1B0B.png</td>\n",
              "    </tr>\n",
              "    <tr>\n",
              "      <th>2</th>\n",
              "      <td>228.504662</td>\n",
              "      <td>215.655983</td>\n",
              "      <td>181.190171</td>\n",
              "      <td>220.799092</td>\n",
              "      <td>205.492077</td>\n",
              "      <td>172.120749</td>\n",
              "      <td>21.929779</td>\n",
              "      <td>52.862374</td>\n",
              "      <td>228.504662</td>\n",
              "      <td>20.366416</td>\n",
              "      <td>56.219998</td>\n",
              "      <td>220.799092</td>\n",
              "      <td>Set4</td>\n",
              "      <td>D3</td>\n",
              "      <td>A1</td>\n",
              "      <td>FB040BAB-00C0-4A01-963B-59CF94123044.png</td>\n",
              "    </tr>\n",
              "    <tr>\n",
              "      <th>3</th>\n",
              "      <td>233.467172</td>\n",
              "      <td>219.479118</td>\n",
              "      <td>182.892580</td>\n",
              "      <td>226.386711</td>\n",
              "      <td>210.920397</td>\n",
              "      <td>176.047818</td>\n",
              "      <td>21.751943</td>\n",
              "      <td>55.308761</td>\n",
              "      <td>233.467172</td>\n",
              "      <td>20.750811</td>\n",
              "      <td>56.671764</td>\n",
              "      <td>226.386711</td>\n",
              "      <td>Set4</td>\n",
              "      <td>D3</td>\n",
              "      <td>A1</td>\n",
              "      <td>33D7101E-615D-4D53-BBF4-1FFC799B1FAF.png</td>\n",
              "    </tr>\n",
              "    <tr>\n",
              "      <th>4</th>\n",
              "      <td>234.509615</td>\n",
              "      <td>220.490385</td>\n",
              "      <td>184.508256</td>\n",
              "      <td>227.663423</td>\n",
              "      <td>212.284033</td>\n",
              "      <td>178.291261</td>\n",
              "      <td>21.661131</td>\n",
              "      <td>54.405206</td>\n",
              "      <td>234.509615</td>\n",
              "      <td>20.525438</td>\n",
              "      <td>55.283848</td>\n",
              "      <td>227.663423</td>\n",
              "      <td>Set4</td>\n",
              "      <td>D3</td>\n",
              "      <td>A1</td>\n",
              "      <td>89130C74-286A-4614-9CCF-2423B2AC601B.png</td>\n",
              "    </tr>\n",
              "  </tbody>\n",
              "</table>\n",
              "</div>\n",
              "      <button class=\"colab-df-convert\" onclick=\"convertToInteractive('df-4b4020da-50fa-477e-9a80-f503d2a24d14')\"\n",
              "              title=\"Convert this dataframe to an interactive table.\"\n",
              "              style=\"display:none;\">\n",
              "        \n",
              "  <svg xmlns=\"http://www.w3.org/2000/svg\" height=\"24px\"viewBox=\"0 0 24 24\"\n",
              "       width=\"24px\">\n",
              "    <path d=\"M0 0h24v24H0V0z\" fill=\"none\"/>\n",
              "    <path d=\"M18.56 5.44l.94 2.06.94-2.06 2.06-.94-2.06-.94-.94-2.06-.94 2.06-2.06.94zm-11 1L8.5 8.5l.94-2.06 2.06-.94-2.06-.94L8.5 2.5l-.94 2.06-2.06.94zm10 10l.94 2.06.94-2.06 2.06-.94-2.06-.94-.94-2.06-.94 2.06-2.06.94z\"/><path d=\"M17.41 7.96l-1.37-1.37c-.4-.4-.92-.59-1.43-.59-.52 0-1.04.2-1.43.59L10.3 9.45l-7.72 7.72c-.78.78-.78 2.05 0 2.83L4 21.41c.39.39.9.59 1.41.59.51 0 1.02-.2 1.41-.59l7.78-7.78 2.81-2.81c.8-.78.8-2.07 0-2.86zM5.41 20L4 18.59l7.72-7.72 1.47 1.35L5.41 20z\"/>\n",
              "  </svg>\n",
              "      </button>\n",
              "      \n",
              "  <style>\n",
              "    .colab-df-container {\n",
              "      display:flex;\n",
              "      flex-wrap:wrap;\n",
              "      gap: 12px;\n",
              "    }\n",
              "\n",
              "    .colab-df-convert {\n",
              "      background-color: #E8F0FE;\n",
              "      border: none;\n",
              "      border-radius: 50%;\n",
              "      cursor: pointer;\n",
              "      display: none;\n",
              "      fill: #1967D2;\n",
              "      height: 32px;\n",
              "      padding: 0 0 0 0;\n",
              "      width: 32px;\n",
              "    }\n",
              "\n",
              "    .colab-df-convert:hover {\n",
              "      background-color: #E2EBFA;\n",
              "      box-shadow: 0px 1px 2px rgba(60, 64, 67, 0.3), 0px 1px 3px 1px rgba(60, 64, 67, 0.15);\n",
              "      fill: #174EA6;\n",
              "    }\n",
              "\n",
              "    [theme=dark] .colab-df-convert {\n",
              "      background-color: #3B4455;\n",
              "      fill: #D2E3FC;\n",
              "    }\n",
              "\n",
              "    [theme=dark] .colab-df-convert:hover {\n",
              "      background-color: #434B5C;\n",
              "      box-shadow: 0px 1px 3px 1px rgba(0, 0, 0, 0.15);\n",
              "      filter: drop-shadow(0px 1px 2px rgba(0, 0, 0, 0.3));\n",
              "      fill: #FFFFFF;\n",
              "    }\n",
              "  </style>\n",
              "\n",
              "      <script>\n",
              "        const buttonEl =\n",
              "          document.querySelector('#df-4b4020da-50fa-477e-9a80-f503d2a24d14 button.colab-df-convert');\n",
              "        buttonEl.style.display =\n",
              "          google.colab.kernel.accessAllowed ? 'block' : 'none';\n",
              "\n",
              "        async function convertToInteractive(key) {\n",
              "          const element = document.querySelector('#df-4b4020da-50fa-477e-9a80-f503d2a24d14');\n",
              "          const dataTable =\n",
              "            await google.colab.kernel.invokeFunction('convertToInteractive',\n",
              "                                                     [key], {});\n",
              "          if (!dataTable) return;\n",
              "\n",
              "          const docLinkHtml = 'Like what you see? Visit the ' +\n",
              "            '<a target=\"_blank\" href=https://colab.research.google.com/notebooks/data_table.ipynb>data table notebook</a>'\n",
              "            + ' to learn more about interactive tables.';\n",
              "          element.innerHTML = '';\n",
              "          dataTable['output_type'] = 'display_data';\n",
              "          await google.colab.output.renderOutput(dataTable, element);\n",
              "          const docLink = document.createElement('div');\n",
              "          docLink.innerHTML = docLinkHtml;\n",
              "          element.appendChild(docLink);\n",
              "        }\n",
              "      </script>\n",
              "    </div>\n",
              "  </div>\n",
              "  "
            ],
            "text/plain": [
              "        R-ref       G-ref  ...  Shad                                       Img\n",
              "0  233.496795  219.459984  ...    A1  55D1922F-F23E-42B3-9163-13EDAA8937B9.png\n",
              "1  233.355381  219.439880  ...    A1  039D73E5-8D95-487A-9124-4544316E1B0B.png\n",
              "2  228.504662  215.655983  ...    A1  FB040BAB-00C0-4A01-963B-59CF94123044.png\n",
              "3  233.467172  219.479118  ...    A1  33D7101E-615D-4D53-BBF4-1FFC799B1FAF.png\n",
              "4  234.509615  220.490385  ...    A1  89130C74-286A-4614-9CCF-2423B2AC601B.png\n",
              "\n",
              "[5 rows x 16 columns]"
            ]
          },
          "metadata": {},
          "execution_count": 21
        }
      ]
    },
    {
      "cell_type": "code",
      "source": [
        "RGB_D3_CC1 = table_D3CC1.drop(['H-ref','S-ref','V-ref','H-Shad','S-Shad','V-Shad','Setting','Ref','Shad','Img'], axis=1)"
      ],
      "metadata": {
        "id": "ZL9SpS_3Qo1o"
      },
      "execution_count": 22,
      "outputs": []
    },
    {
      "cell_type": "code",
      "source": [
        "HSV_D3_CC1 = table_D3CC1.drop(['R-ref','G-ref','B-ref','R-Shad','G-Shad','B-Shad','Setting','Ref','Shad','Img'], axis=1)"
      ],
      "metadata": {
        "id": "FDmtDo4sQ2U2"
      },
      "execution_count": 23,
      "outputs": []
    },
    {
      "cell_type": "code",
      "source": [
        "RGB_D3_CC2 = table_D3CC2.drop(['H-ref','S-ref','V-ref','H-Shad','S-Shad','V-Shad','Setting','Ref','Shad','Img'], axis=1)"
      ],
      "metadata": {
        "id": "oyhkZz3GRN3e"
      },
      "execution_count": 24,
      "outputs": []
    },
    {
      "cell_type": "code",
      "source": [
        "HSV_D3_CC2 = table_D3CC2.drop(['R-ref','G-ref','B-ref','R-Shad','G-Shad','B-Shad','Setting','Ref','Shad','Img'], axis=1)"
      ],
      "metadata": {
        "id": "oxjnbhRcRN3e"
      },
      "execution_count": 25,
      "outputs": []
    },
    {
      "cell_type": "markdown",
      "source": [
        "###RGB CC1"
      ],
      "metadata": {
        "id": "CYvwE4PDx90W"
      }
    },
    {
      "cell_type": "code",
      "source": [
        "#ดึงตารางที่ต้องการใช้มาก่อน"
      ],
      "metadata": {
        "id": "zwQ1K_9bmapS"
      },
      "execution_count": 26,
      "outputs": []
    },
    {
      "cell_type": "code",
      "source": [
        "RGB_D3_Set4 = table_D3Set4"
      ],
      "metadata": {
        "id": "PlR5iWwRx90W"
      },
      "execution_count": 27,
      "outputs": []
    },
    {
      "cell_type": "code",
      "source": [
        "RGB_D3_Set1 = table_D3Set1"
      ],
      "metadata": {
        "id": "blPo4yEex90W"
      },
      "execution_count": 28,
      "outputs": []
    },
    {
      "cell_type": "code",
      "source": [
        "RGB_D3_Set2 = table_D3Set2"
      ],
      "metadata": {
        "id": "h-p_12Ffx90W"
      },
      "execution_count": 29,
      "outputs": []
    },
    {
      "cell_type": "code",
      "source": [
        "RGB_D3_Set3 = table_D3Set3"
      ],
      "metadata": {
        "id": "_gplnOW-x90X"
      },
      "execution_count": 30,
      "outputs": []
    },
    {
      "cell_type": "code",
      "source": [
        "RGB_D3_concat = pd.concat([RGB_D3_Set1,RGB_D3_Set2])"
      ],
      "metadata": {
        "id": "P2_3rUpYok-H"
      },
      "execution_count": 31,
      "outputs": []
    },
    {
      "cell_type": "code",
      "source": [
        "RGB_D3_concat0 = pd.concat([RGB_D3_concat,RGB_D3_Set4])"
      ],
      "metadata": {
        "id": "qAOZ46Hjx90X"
      },
      "execution_count": 32,
      "outputs": []
    },
    {
      "cell_type": "code",
      "source": [
        "RGB_D3_concat1 = pd.concat([RGB_D3_concat0,RGB_D3_Set3])\n",
        "#รวมตารางของแต่ละ setting เข้าด้วยกันเพื่อใช้ในการ train ข้อมูล"
      ],
      "metadata": {
        "id": "lS7r_4VVx90X"
      },
      "execution_count": 33,
      "outputs": []
    },
    {
      "cell_type": "code",
      "source": [
        "RGB_D3_concat2 = RGB_D3_concat1.drop(['H-ref','S-ref','V-ref','H-Shad','S-Shad','V-Shad','Setting','Ref','Shad','Img'], axis=1)\n",
        "#เอาเฉพาะตัวตารางที่เป็น RGB ออกมา"
      ],
      "metadata": {
        "id": "1yMt6NzXx90X"
      },
      "execution_count": 34,
      "outputs": []
    },
    {
      "cell_type": "code",
      "source": [
        "X_test_D3_RGB = np.array(RGB_D3_CC1)"
      ],
      "metadata": {
        "id": "ufA1_Y1xx90X"
      },
      "execution_count": 35,
      "outputs": []
    },
    {
      "cell_type": "code",
      "source": [
        "y_D3_RGB =  table_D3CC1.iloc[:,14:15]\n",
        "#ใช้เฉพาะ column shad ในการจับคู่"
      ],
      "metadata": {
        "id": "-QW8SDSyx90X"
      },
      "execution_count": 36,
      "outputs": []
    },
    {
      "cell_type": "code",
      "source": [
        "y_test_D3_RGB = np.array(y_D3_RGB)#เปลี่ยนให้ค่าในตารางเป็น array "
      ],
      "metadata": {
        "id": "kL5UDJAUx90X"
      },
      "execution_count": 37,
      "outputs": []
    },
    {
      "cell_type": "code",
      "source": [
        "X_train_D3_RGB = np.array(RGB_D3_concat2)#เปลี่ยนให้ค่าในตารางเป็น array "
      ],
      "metadata": {
        "id": "I-j7R3Tnx90X"
      },
      "execution_count": 38,
      "outputs": []
    },
    {
      "cell_type": "code",
      "source": [
        "y_train_D3RGB = RGB_D3_concat1.iloc[:,14:15]#ใช้เฉพาะ column shad ในการจับคู่"
      ],
      "metadata": {
        "id": "cuBbjTNYx90X"
      },
      "execution_count": 39,
      "outputs": []
    },
    {
      "cell_type": "code",
      "source": [
        "y_train_D3_RGB = np.array(y_train_D3RGB)#เปลี่ยนให้ค่าในตารางเป็น array "
      ],
      "metadata": {
        "id": "gB3TEG8Ox90Y"
      },
      "execution_count": 40,
      "outputs": []
    },
    {
      "cell_type": "code",
      "source": [
        "clf.fit(X_train_D3_RGB, y_train_D3_RGB) #หาค่าเฉลี่ยและส่วนเบี่ยงเบนมาตราฐานของ x_train y_train"
      ],
      "metadata": {
        "colab": {
          "base_uri": "https://localhost:8080/"
        },
        "outputId": "70c92456-6b27-46d6-d313-e6b5e83cff5a",
        "id": "owe-5XSGx90Y"
      },
      "execution_count": 41,
      "outputs": [
        {
          "output_type": "stream",
          "name": "stderr",
          "text": [
            "/usr/local/lib/python3.7/dist-packages/ipykernel_launcher.py:1: DataConversionWarning: A column-vector y was passed when a 1d array was expected. Please change the shape of y to (n_samples,), for example using ravel().\n",
            "  \"\"\"Entry point for launching an IPython kernel.\n"
          ]
        },
        {
          "output_type": "execute_result",
          "data": {
            "text/plain": [
              "RandomForestClassifier()"
            ]
          },
          "metadata": {},
          "execution_count": 41
        }
      ]
    },
    {
      "cell_type": "code",
      "source": [
        "y_pred_D3_RGB = clf.predict(X_test_D3_RGB) #ทำการจับคู่สีฟันด้วยวิธี random forest โดยใช้ X_test"
      ],
      "metadata": {
        "id": "_A7t5UNHx90Y"
      },
      "execution_count": 42,
      "outputs": []
    },
    {
      "cell_type": "code",
      "source": [
        "print(\"Accuracy:\", metrics.accuracy_score(y_test_D3_RGB, y_pred_D3_RGB))\n",
        "#หาค่า Accuracy ระหว่าง y_test และ y_pred ว่าฟันสามารถจับคู่กันได้มาที่สุดเท่าไหร่"
      ],
      "metadata": {
        "colab": {
          "base_uri": "https://localhost:8080/"
        },
        "outputId": "7fcd803b-1035-4636-a6e9-f990339831b2",
        "id": "j_-xWLsfx90Y"
      },
      "execution_count": 43,
      "outputs": [
        {
          "output_type": "stream",
          "name": "stdout",
          "text": [
            "Accuracy: 0.0775\n"
          ]
        }
      ]
    },
    {
      "cell_type": "markdown",
      "source": [
        "###HSV CC1"
      ],
      "metadata": {
        "id": "_Bqu-0vjx90Y"
      }
    },
    {
      "cell_type": "code",
      "source": [
        "HSV_D3_concat2 = RGB_D3_concat1.drop(['R-ref','G-ref','B-ref','R-Shad','G-Shad','B-Shad','Setting','Ref','Shad','Img'], axis=1)"
      ],
      "metadata": {
        "id": "qtZokQPJx90Y"
      },
      "execution_count": 44,
      "outputs": []
    },
    {
      "cell_type": "code",
      "source": [
        "X_test_D3_HSV = np.array(HSV_D3_CC1)"
      ],
      "metadata": {
        "id": "R3Z14S8Fx90Y"
      },
      "execution_count": 45,
      "outputs": []
    },
    {
      "cell_type": "code",
      "source": [
        "y_D3_HSV =  table_D3CC1.iloc[:,14:15]"
      ],
      "metadata": {
        "id": "kKyPj2eix90Y"
      },
      "execution_count": 46,
      "outputs": []
    },
    {
      "cell_type": "code",
      "source": [
        "y_test_D3_HSV = np.array(y_D3_RGB)"
      ],
      "metadata": {
        "id": "U1QiYDz0x90Y"
      },
      "execution_count": 47,
      "outputs": []
    },
    {
      "cell_type": "code",
      "source": [
        "X_train_D3_HSV = np.array(HSV_D3_concat2)"
      ],
      "metadata": {
        "id": "0e4tbRaOx90Z"
      },
      "execution_count": 48,
      "outputs": []
    },
    {
      "cell_type": "code",
      "source": [
        "y_train_D3HSV = RGB_D3_concat1.iloc[:,14:15]"
      ],
      "metadata": {
        "id": "xT5X846Tx90Z"
      },
      "execution_count": 49,
      "outputs": []
    },
    {
      "cell_type": "code",
      "source": [
        "y_train_D3_HSV = np.array(y_train_D3HSV)"
      ],
      "metadata": {
        "id": "cBdx2NTpx90Z"
      },
      "execution_count": 50,
      "outputs": []
    },
    {
      "cell_type": "code",
      "source": [
        "clf.fit(X_train_D3_HSV, y_train_D3_HSV)"
      ],
      "metadata": {
        "colab": {
          "base_uri": "https://localhost:8080/"
        },
        "outputId": "3b425ed5-1619-4b9a-b9e9-48054039f3ea",
        "id": "0ltb0Lesx90Z"
      },
      "execution_count": 51,
      "outputs": [
        {
          "output_type": "stream",
          "name": "stderr",
          "text": [
            "/usr/local/lib/python3.7/dist-packages/ipykernel_launcher.py:1: DataConversionWarning: A column-vector y was passed when a 1d array was expected. Please change the shape of y to (n_samples,), for example using ravel().\n",
            "  \"\"\"Entry point for launching an IPython kernel.\n"
          ]
        },
        {
          "output_type": "execute_result",
          "data": {
            "text/plain": [
              "RandomForestClassifier()"
            ]
          },
          "metadata": {},
          "execution_count": 51
        }
      ]
    },
    {
      "cell_type": "code",
      "source": [
        "y_pred_D3_HSV = clf.predict(X_test_D3_HSV)"
      ],
      "metadata": {
        "id": "wC9RHVBHx90Z"
      },
      "execution_count": 52,
      "outputs": []
    },
    {
      "cell_type": "code",
      "source": [
        "print(\"Accuracy:\", metrics.accuracy_score(y_test_D3_HSV, y_pred_D3_HSV))"
      ],
      "metadata": {
        "colab": {
          "base_uri": "https://localhost:8080/"
        },
        "outputId": "aa966449-2232-4834-8aa3-c9ccc2db520f",
        "id": "EtzMQr1Rx90Z"
      },
      "execution_count": 53,
      "outputs": [
        {
          "output_type": "stream",
          "name": "stdout",
          "text": [
            "Accuracy: 0.105\n"
          ]
        }
      ]
    },
    {
      "cell_type": "markdown",
      "source": [
        "###RGB CC2"
      ],
      "metadata": {
        "id": "DWwgrWqHRN3f"
      }
    },
    {
      "cell_type": "code",
      "source": [
        "RGB_D3_Set4 = table_D3Set4"
      ],
      "metadata": {
        "id": "pT1I1pk6RN3g"
      },
      "execution_count": 54,
      "outputs": []
    },
    {
      "cell_type": "code",
      "source": [
        "RGB_D3_Set1 = table_D3Set1"
      ],
      "metadata": {
        "id": "S6krDYZtRN3g"
      },
      "execution_count": 55,
      "outputs": []
    },
    {
      "cell_type": "code",
      "source": [
        "RGB_D3_Set2 = table_D3Set2"
      ],
      "metadata": {
        "id": "WKJbzLgpRN3g"
      },
      "execution_count": 56,
      "outputs": []
    },
    {
      "cell_type": "code",
      "source": [
        "RGB_D3_Set3 = table_D3Set3"
      ],
      "metadata": {
        "id": "GtZe_etpRN3h"
      },
      "execution_count": 57,
      "outputs": []
    },
    {
      "cell_type": "code",
      "source": [
        "RGB_D3_concat_2 = pd.concat([RGB_D3_Set1,RGB_D3_Set2])"
      ],
      "metadata": {
        "id": "C0zCBkPNRN3h"
      },
      "execution_count": 58,
      "outputs": []
    },
    {
      "cell_type": "code",
      "source": [
        "RGB_D3_concat0_2 = pd.concat([RGB_D3_concat_2,RGB_D3_Set4])"
      ],
      "metadata": {
        "id": "E5U2Ur0fRN3h"
      },
      "execution_count": 59,
      "outputs": []
    },
    {
      "cell_type": "code",
      "source": [
        "RGB_D3_concat1_2 = pd.concat([RGB_D3_concat0_2,RGB_D3_Set3])"
      ],
      "metadata": {
        "id": "RUKDazh9RN3h"
      },
      "execution_count": 60,
      "outputs": []
    },
    {
      "cell_type": "code",
      "source": [
        "RGB_D3_concat2_2 = RGB_D3_concat1_2.drop(['H-ref','S-ref','V-ref','H-Shad','S-Shad','V-Shad','Setting','Ref','Shad','Img'], axis=1)"
      ],
      "metadata": {
        "id": "KmSt6qvaRN3k"
      },
      "execution_count": 61,
      "outputs": []
    },
    {
      "cell_type": "code",
      "source": [
        "X_test_D3_RGB_2 = np.array(RGB_D3_CC2)"
      ],
      "metadata": {
        "id": "WGi7uXGlRN3l"
      },
      "execution_count": 62,
      "outputs": []
    },
    {
      "cell_type": "code",
      "source": [
        "y_D3_RGB_2 =  table_D3CC2.iloc[:,14:15]"
      ],
      "metadata": {
        "id": "lKVJxS1RRN3l"
      },
      "execution_count": 63,
      "outputs": []
    },
    {
      "cell_type": "code",
      "source": [
        "y_test_D3_RGB_2 = np.array(y_D3_RGB_2)"
      ],
      "metadata": {
        "id": "aN4CGKpNRN3m"
      },
      "execution_count": 64,
      "outputs": []
    },
    {
      "cell_type": "code",
      "source": [
        "X_train_D3_RGB_2 = np.array(RGB_D3_concat2_2)"
      ],
      "metadata": {
        "id": "GeuYrginRN3m"
      },
      "execution_count": 65,
      "outputs": []
    },
    {
      "cell_type": "code",
      "source": [
        "y_train_D3RGB_2 = RGB_D3_concat1_2.iloc[:,14:15]"
      ],
      "metadata": {
        "id": "e7lLdBchRN3m"
      },
      "execution_count": 66,
      "outputs": []
    },
    {
      "cell_type": "code",
      "source": [
        "y_train_D3_RGB_2 = np.array(y_train_D3RGB_2)"
      ],
      "metadata": {
        "id": "AgYH5_EcRN3m"
      },
      "execution_count": 67,
      "outputs": []
    },
    {
      "cell_type": "code",
      "source": [
        "clf.fit(X_train_D3_RGB_2, y_train_D3_RGB_2)"
      ],
      "metadata": {
        "colab": {
          "base_uri": "https://localhost:8080/"
        },
        "outputId": "b30457a2-8b59-49fd-fec0-c00d67f28570",
        "id": "mDQurUJoRN3n"
      },
      "execution_count": 68,
      "outputs": [
        {
          "output_type": "stream",
          "name": "stderr",
          "text": [
            "/usr/local/lib/python3.7/dist-packages/ipykernel_launcher.py:1: DataConversionWarning: A column-vector y was passed when a 1d array was expected. Please change the shape of y to (n_samples,), for example using ravel().\n",
            "  \"\"\"Entry point for launching an IPython kernel.\n"
          ]
        },
        {
          "output_type": "execute_result",
          "data": {
            "text/plain": [
              "RandomForestClassifier()"
            ]
          },
          "metadata": {},
          "execution_count": 68
        }
      ]
    },
    {
      "cell_type": "code",
      "source": [
        "y_pred_D3_RGB_2 = clf.predict(X_test_D3_RGB_2)"
      ],
      "metadata": {
        "id": "osnG5kuURN3n"
      },
      "execution_count": 69,
      "outputs": []
    },
    {
      "cell_type": "code",
      "source": [
        "print(\"Accuracy:\", metrics.accuracy_score(y_test_D3_RGB_2, y_pred_D3_RGB_2))"
      ],
      "metadata": {
        "colab": {
          "base_uri": "https://localhost:8080/"
        },
        "outputId": "048728c8-83a6-4704-cb1f-1b430c7b4287",
        "id": "DGa5CN1ARN3o"
      },
      "execution_count": 70,
      "outputs": [
        {
          "output_type": "stream",
          "name": "stdout",
          "text": [
            "Accuracy: 0.1\n"
          ]
        }
      ]
    },
    {
      "cell_type": "markdown",
      "source": [
        "###HSV CC2"
      ],
      "metadata": {
        "id": "LKb_JjtBRN3p"
      }
    },
    {
      "cell_type": "code",
      "source": [
        "HSV_D3_concat2_2 = RGB_D3_concat1_2.drop(['R-ref','G-ref','B-ref','R-Shad','G-Shad','B-Shad','Setting','Ref','Shad','Img'], axis=1)"
      ],
      "metadata": {
        "id": "P32zkzCkRN3t"
      },
      "execution_count": 71,
      "outputs": []
    },
    {
      "cell_type": "code",
      "source": [
        "X_test_D3_HSV_2 = np.array(HSV_D3_CC2)"
      ],
      "metadata": {
        "id": "UVSQBE_NRN3t"
      },
      "execution_count": 72,
      "outputs": []
    },
    {
      "cell_type": "code",
      "source": [
        "y_D3_HSV_2 =  table_D3CC2.iloc[:,14:15]"
      ],
      "metadata": {
        "id": "VZ0etLX7RN3t"
      },
      "execution_count": 73,
      "outputs": []
    },
    {
      "cell_type": "code",
      "source": [
        "y_test_D3_HSV_2 = np.array(y_D3_RGB_2)"
      ],
      "metadata": {
        "id": "sdxrSeCpRN3u"
      },
      "execution_count": 74,
      "outputs": []
    },
    {
      "cell_type": "code",
      "source": [
        "X_train_D3_HSV_2 = np.array(HSV_D3_concat2_2)"
      ],
      "metadata": {
        "id": "fuPqOPHhRN3u"
      },
      "execution_count": 75,
      "outputs": []
    },
    {
      "cell_type": "code",
      "source": [
        "y_train_D3HSV_2 = RGB_D3_concat1.iloc[:,14:15]"
      ],
      "metadata": {
        "id": "jc0uf4iMRN3u"
      },
      "execution_count": 76,
      "outputs": []
    },
    {
      "cell_type": "code",
      "source": [
        "y_train_D3_HSV_2 = np.array(y_train_D3HSV_2)"
      ],
      "metadata": {
        "id": "ag7dqOJTRN3v"
      },
      "execution_count": 77,
      "outputs": []
    },
    {
      "cell_type": "code",
      "source": [
        "clf.fit(X_train_D3_HSV_2, y_train_D3_HSV_2)"
      ],
      "metadata": {
        "colab": {
          "base_uri": "https://localhost:8080/"
        },
        "outputId": "97f6cac7-e3eb-4339-953a-5e59b9be3759",
        "id": "2aP9OhyORN3v"
      },
      "execution_count": 78,
      "outputs": [
        {
          "output_type": "stream",
          "name": "stderr",
          "text": [
            "/usr/local/lib/python3.7/dist-packages/ipykernel_launcher.py:1: DataConversionWarning: A column-vector y was passed when a 1d array was expected. Please change the shape of y to (n_samples,), for example using ravel().\n",
            "  \"\"\"Entry point for launching an IPython kernel.\n"
          ]
        },
        {
          "output_type": "execute_result",
          "data": {
            "text/plain": [
              "RandomForestClassifier()"
            ]
          },
          "metadata": {},
          "execution_count": 78
        }
      ]
    },
    {
      "cell_type": "code",
      "source": [
        "y_pred_D3_HSV_2 = clf.predict(X_test_D3_HSV_2)"
      ],
      "metadata": {
        "id": "LhViE6VdRN3w"
      },
      "execution_count": 79,
      "outputs": []
    },
    {
      "cell_type": "code",
      "source": [
        "print(\"Accuracy:\", metrics.accuracy_score(y_test_D3_HSV_2, y_pred_D3_HSV_2))"
      ],
      "metadata": {
        "colab": {
          "base_uri": "https://localhost:8080/"
        },
        "outputId": "664e0594-70d7-49b7-9e8a-f029fa34af5c",
        "id": "_UQcNe3xRN3w"
      },
      "execution_count": 80,
      "outputs": [
        {
          "output_type": "stream",
          "name": "stdout",
          "text": [
            "Accuracy: 0.07125\n"
          ]
        }
      ]
    },
    {
      "cell_type": "markdown",
      "source": [
        "#D3 Set1 ref "
      ],
      "metadata": {
        "id": "mr2HPEpYwpzJ"
      }
    },
    {
      "cell_type": "markdown",
      "source": [
        "##RGB"
      ],
      "metadata": {
        "id": "3qvmc6-Bw07u"
      }
    },
    {
      "cell_type": "code",
      "source": [
        "RGB_D3_Set1_1 = table_D3Set1.drop(['H-ref','S-ref','V-ref','H-Shad','S-Shad','V-Shad','Setting','Ref','Shad','Img'], axis=1)"
      ],
      "metadata": {
        "id": "H_YmMsJqyJZ8"
      },
      "execution_count": 81,
      "outputs": []
    },
    {
      "cell_type": "code",
      "source": [
        "RGB_D3_concat0_3 = pd.concat([RGB_D3_Set2,RGB_D3_Set3])"
      ],
      "metadata": {
        "id": "iSOwiEIGw0IN"
      },
      "execution_count": 82,
      "outputs": []
    },
    {
      "cell_type": "code",
      "source": [
        "RGB_D3_concat1_3 = pd.concat([RGB_D3_concat0_3,RGB_D3_Set4])"
      ],
      "metadata": {
        "id": "uR4iqqkZw0IN"
      },
      "execution_count": 83,
      "outputs": []
    },
    {
      "cell_type": "code",
      "source": [
        "RGB_D3_concat2_3 = RGB_D3_concat1_3.drop(['H-ref','S-ref','V-ref','H-Shad','S-Shad','V-Shad','Setting','Ref','Shad','Img'], axis=1)"
      ],
      "metadata": {
        "id": "oNq1bzcSw0IN"
      },
      "execution_count": 84,
      "outputs": []
    },
    {
      "cell_type": "code",
      "source": [
        "X_test_D3_RGB_3 = np.array(RGB_D3_Set1_1)"
      ],
      "metadata": {
        "id": "04E1iE7sw0IN"
      },
      "execution_count": 85,
      "outputs": []
    },
    {
      "cell_type": "code",
      "source": [
        "y_D3_RGB_3 =  table_D3Set1.iloc[:,14:15]"
      ],
      "metadata": {
        "id": "LBcqIue4w0IN"
      },
      "execution_count": 86,
      "outputs": []
    },
    {
      "cell_type": "code",
      "source": [
        "y_test_D3_RGB_3 = np.array(y_D3_RGB_3)"
      ],
      "metadata": {
        "id": "kD2hVv4_w0IO"
      },
      "execution_count": 87,
      "outputs": []
    },
    {
      "cell_type": "code",
      "source": [
        "X_train_D3_RGB_3 = np.array(RGB_D3_concat2_3)"
      ],
      "metadata": {
        "id": "OT2-NWMDw0IO"
      },
      "execution_count": 88,
      "outputs": []
    },
    {
      "cell_type": "code",
      "source": [
        "y_train_D3RGB_3 = RGB_D3_concat1_3.iloc[:,14:15]"
      ],
      "metadata": {
        "id": "b2zgUhIIw0IO"
      },
      "execution_count": 89,
      "outputs": []
    },
    {
      "cell_type": "code",
      "source": [
        "y_train_D3_RGB_3 = np.array(y_train_D3RGB_3)"
      ],
      "metadata": {
        "id": "mfh_3nJiw0IO"
      },
      "execution_count": 90,
      "outputs": []
    },
    {
      "cell_type": "code",
      "source": [
        "clf.fit(X_train_D3_RGB_3, y_train_D3_RGB_3)"
      ],
      "metadata": {
        "colab": {
          "base_uri": "https://localhost:8080/"
        },
        "outputId": "7ea50705-6204-4ce7-f485-cffb7046a2b2",
        "id": "mhJtAF1cw0IO"
      },
      "execution_count": 91,
      "outputs": [
        {
          "output_type": "stream",
          "name": "stderr",
          "text": [
            "/usr/local/lib/python3.7/dist-packages/ipykernel_launcher.py:1: DataConversionWarning: A column-vector y was passed when a 1d array was expected. Please change the shape of y to (n_samples,), for example using ravel().\n",
            "  \"\"\"Entry point for launching an IPython kernel.\n"
          ]
        },
        {
          "output_type": "execute_result",
          "data": {
            "text/plain": [
              "RandomForestClassifier()"
            ]
          },
          "metadata": {},
          "execution_count": 91
        }
      ]
    },
    {
      "cell_type": "code",
      "source": [
        "y_pred_D3_RGB_3 = clf.predict(X_test_D3_RGB_3)"
      ],
      "metadata": {
        "id": "aW6x6BIJw0IO"
      },
      "execution_count": 92,
      "outputs": []
    },
    {
      "cell_type": "code",
      "source": [
        "print(\"Accuracy:\", metrics.accuracy_score(y_test_D3_RGB_3, y_pred_D3_RGB_3))"
      ],
      "metadata": {
        "colab": {
          "base_uri": "https://localhost:8080/"
        },
        "outputId": "bf6c06d4-dc0e-484a-857a-6d112414eeab",
        "id": "9ofXvlfcw0IO"
      },
      "execution_count": 93,
      "outputs": [
        {
          "output_type": "stream",
          "name": "stdout",
          "text": [
            "Accuracy: 1.0\n"
          ]
        }
      ]
    },
    {
      "cell_type": "markdown",
      "source": [
        "#Accuracy"
      ],
      "metadata": {
        "id": "DednIna6z9zF"
      }
    },
    {
      "cell_type": "markdown",
      "source": [
        "##RGB"
      ],
      "metadata": {
        "id": "txfn-5vSEQKK"
      }
    },
    {
      "cell_type": "code",
      "source": [
        "y_test_D3_RGB.shape"
      ],
      "metadata": {
        "id": "QXUq7-rbQ-4M",
        "outputId": "2b1a33ca-16d1-4fb0-f848-d3fac235da33",
        "colab": {
          "base_uri": "https://localhost:8080/"
        }
      },
      "execution_count": 94,
      "outputs": [
        {
          "output_type": "execute_result",
          "data": {
            "text/plain": [
              "(800, 1)"
            ]
          },
          "metadata": {},
          "execution_count": 94
        }
      ]
    },
    {
      "cell_type": "code",
      "source": [
        "y_pred_D3_RGB.shape"
      ],
      "metadata": {
        "id": "Hf27fXAFRHEU",
        "outputId": "f8dd878c-67dd-4c07-b22c-6c32ba71c8f2",
        "colab": {
          "base_uri": "https://localhost:8080/"
        }
      },
      "execution_count": 95,
      "outputs": [
        {
          "output_type": "execute_result",
          "data": {
            "text/plain": [
              "(800,)"
            ]
          },
          "metadata": {},
          "execution_count": 95
        }
      ]
    },
    {
      "cell_type": "code",
      "source": [
        "print(\"เฉดไกด์อ้างอิง D3 มี Accuracy เท่ากับ:\", metrics.accuracy_score(y_test_D3_RGB, y_pred_D3_RGB))"
      ],
      "metadata": {
        "id": "gAmWj0Tl_8ra",
        "outputId": "61064d52-dd6a-47f0-c547-eb16669de0c0",
        "colab": {
          "base_uri": "https://localhost:8080/"
        }
      },
      "execution_count": 96,
      "outputs": [
        {
          "output_type": "stream",
          "name": "stdout",
          "text": [
            "เฉดไกด์อ้างอิง D3 มี Accuracy เท่ากับ: 0.0775\n"
          ]
        }
      ]
    },
    {
      "cell_type": "code",
      "source": [
        "y_test_D3_RGB_2.shape"
      ],
      "metadata": {
        "id": "tH7LA8cxRJI8",
        "outputId": "194999c1-423c-4b2d-9861-f714cb162669",
        "colab": {
          "base_uri": "https://localhost:8080/"
        }
      },
      "execution_count": 97,
      "outputs": [
        {
          "output_type": "execute_result",
          "data": {
            "text/plain": [
              "(800, 1)"
            ]
          },
          "metadata": {},
          "execution_count": 97
        }
      ]
    },
    {
      "cell_type": "code",
      "source": [
        "y_pred_D3_RGB_2.shape"
      ],
      "metadata": {
        "id": "pdUcUoHfRKqP",
        "outputId": "970a5f11-917b-40f1-b2ad-56470daf7bce",
        "colab": {
          "base_uri": "https://localhost:8080/"
        }
      },
      "execution_count": 98,
      "outputs": [
        {
          "output_type": "execute_result",
          "data": {
            "text/plain": [
              "(800,)"
            ]
          },
          "metadata": {},
          "execution_count": 98
        }
      ]
    },
    {
      "cell_type": "code",
      "source": [
        "print(\"เฉดไกด์อ้างอิง D3 มี Accuracy เท่ากับ:\", metrics.accuracy_score(y_test_D3_RGB_2, y_pred_D3_RGB_2))"
      ],
      "metadata": {
        "id": "Ta6Wt4YCPBTb",
        "outputId": "fe290146-3df1-4901-fda1-eb9f308fc757",
        "colab": {
          "base_uri": "https://localhost:8080/"
        }
      },
      "execution_count": 99,
      "outputs": [
        {
          "output_type": "stream",
          "name": "stdout",
          "text": [
            "เฉดไกด์อ้างอิง D3 มี Accuracy เท่ากับ: 0.1\n"
          ]
        }
      ]
    },
    {
      "cell_type": "markdown",
      "source": [
        "##HSV"
      ],
      "metadata": {
        "id": "F2CX4hhnEhIA"
      }
    },
    {
      "cell_type": "code",
      "source": [
        "y_test_D3_HSV.shape"
      ],
      "metadata": {
        "id": "46assRY9Qy0k",
        "outputId": "0ee9aee5-7c4f-48fb-dfbc-6d05a7abd4ce",
        "colab": {
          "base_uri": "https://localhost:8080/"
        }
      },
      "execution_count": 100,
      "outputs": [
        {
          "output_type": "execute_result",
          "data": {
            "text/plain": [
              "(800, 1)"
            ]
          },
          "metadata": {},
          "execution_count": 100
        }
      ]
    },
    {
      "cell_type": "code",
      "source": [
        "y_pred_D3_HSV.shape"
      ],
      "metadata": {
        "id": "miQrCzdbQ19J",
        "outputId": "28ac8e3d-ffa8-49ab-8ed9-741c25dfa3a8",
        "colab": {
          "base_uri": "https://localhost:8080/"
        }
      },
      "execution_count": 101,
      "outputs": [
        {
          "output_type": "execute_result",
          "data": {
            "text/plain": [
              "(800,)"
            ]
          },
          "metadata": {},
          "execution_count": 101
        }
      ]
    },
    {
      "cell_type": "code",
      "source": [
        "print(\"เฉดไกด์อ้างอิง D3 มี Accuracy เท่ากับ:\", metrics.accuracy_score(y_test_D3_HSV, y_pred_D3_HSV))"
      ],
      "metadata": {
        "id": "NofOkqvcEKnU",
        "outputId": "3ee35d2d-ac9c-4e23-ef1b-6f3b0dbde361",
        "colab": {
          "base_uri": "https://localhost:8080/"
        }
      },
      "execution_count": 102,
      "outputs": [
        {
          "output_type": "stream",
          "name": "stdout",
          "text": [
            "เฉดไกด์อ้างอิง D3 มี Accuracy เท่ากับ: 0.105\n"
          ]
        }
      ]
    },
    {
      "cell_type": "code",
      "source": [
        "y_test_D3_HSV_2.shape"
      ],
      "metadata": {
        "id": "PnQk3WaGQ4p9",
        "outputId": "6dd46194-da9c-43c0-e893-e27f2488ebcf",
        "colab": {
          "base_uri": "https://localhost:8080/"
        }
      },
      "execution_count": 103,
      "outputs": [
        {
          "output_type": "execute_result",
          "data": {
            "text/plain": [
              "(800, 1)"
            ]
          },
          "metadata": {},
          "execution_count": 103
        }
      ]
    },
    {
      "cell_type": "code",
      "source": [
        "y_pred_D3_HSV_2.shape"
      ],
      "metadata": {
        "id": "HJnbRF4mQ7T0",
        "outputId": "96aea851-03dc-438c-b2ae-154795c2ef93",
        "colab": {
          "base_uri": "https://localhost:8080/"
        }
      },
      "execution_count": 104,
      "outputs": [
        {
          "output_type": "execute_result",
          "data": {
            "text/plain": [
              "(800,)"
            ]
          },
          "metadata": {},
          "execution_count": 104
        }
      ]
    },
    {
      "cell_type": "code",
      "source": [
        "print(\"เฉดไกด์อ้างอิง D3 มี Accuracy เท่ากับ:\", metrics.accuracy_score(y_test_D3_HSV_2, y_pred_D3_HSV_2))"
      ],
      "metadata": {
        "id": "-2RkbdckPm9l",
        "outputId": "5647179d-f04d-40f4-d1ca-ecc300f5eba8",
        "colab": {
          "base_uri": "https://localhost:8080/"
        }
      },
      "execution_count": 105,
      "outputs": [
        {
          "output_type": "stream",
          "name": "stdout",
          "text": [
            "เฉดไกด์อ้างอิง D3 มี Accuracy เท่ากับ: 0.07125\n"
          ]
        }
      ]
    },
    {
      "cell_type": "markdown",
      "source": [
        "#Model "
      ],
      "metadata": {
        "id": "ssvGIa4Py9rG"
      }
    },
    {
      "cell_type": "code",
      "source": [
        "clf"
      ],
      "metadata": {
        "id": "BzfKrZbl-iwj",
        "outputId": "e00470f0-8a5d-4a4c-870b-0c008b10b3c6",
        "colab": {
          "base_uri": "https://localhost:8080/"
        }
      },
      "execution_count": 106,
      "outputs": [
        {
          "output_type": "execute_result",
          "data": {
            "text/plain": [
              "RandomForestClassifier()"
            ]
          },
          "metadata": {},
          "execution_count": 106
        }
      ]
    },
    {
      "cell_type": "code",
      "source": [
        "#save model\n",
        "import pickle\n",
        "with open('Model_D3.pkl', 'wb') as pickle_file :\n",
        "       pickle.dump(clf, pickle_file )"
      ],
      "metadata": {
        "id": "f2FncMt-y_4J"
      },
      "execution_count": 107,
      "outputs": []
    },
    {
      "cell_type": "code",
      "source": [
        "#load model\n",
        "import pickle\n",
        "with open('Model_D3.pkl', 'rb') as pickle_file :\n",
        "      new_data = pickle.load(pickle_file )"
      ],
      "metadata": {
        "id": "gGM4lvgLzgqZ"
      },
      "execution_count": 108,
      "outputs": []
    },
    {
      "cell_type": "code",
      "source": [
        "print(new_data)"
      ],
      "metadata": {
        "colab": {
          "base_uri": "https://localhost:8080/"
        },
        "id": "nWa_nNJHzoqB",
        "outputId": "df5913a1-8743-4541-e792-d32298a54001"
      },
      "execution_count": 109,
      "outputs": [
        {
          "output_type": "stream",
          "name": "stdout",
          "text": [
            "RandomForestClassifier()\n"
          ]
        }
      ]
    },
    {
      "cell_type": "code",
      "source": [
        "!pip install azure-storage-blob==2.1.0"
      ],
      "metadata": {
        "colab": {
          "base_uri": "https://localhost:8080/"
        },
        "id": "J77jYSnbaAks",
        "outputId": "65606280-2b12-47c7-f24b-ad120aa5cecb"
      },
      "execution_count": 110,
      "outputs": [
        {
          "output_type": "stream",
          "name": "stdout",
          "text": [
            "Collecting azure-storage-blob==2.1.0\n",
            "  Downloading azure_storage_blob-2.1.0-py2.py3-none-any.whl (88 kB)\n",
            "\u001b[K     |████████████████████████████████| 88 kB 3.4 MB/s \n",
            "\u001b[?25hCollecting azure-common>=1.1.5\n",
            "  Downloading azure_common-1.1.27-py2.py3-none-any.whl (12 kB)\n",
            "Collecting azure-storage-common~=2.1\n",
            "  Downloading azure_storage_common-2.1.0-py2.py3-none-any.whl (47 kB)\n",
            "\u001b[K     |████████████████████████████████| 47 kB 4.0 MB/s \n",
            "\u001b[?25hCollecting cryptography\n",
            "  Downloading cryptography-36.0.1-cp36-abi3-manylinux_2_24_x86_64.whl (3.6 MB)\n",
            "\u001b[K     |████████████████████████████████| 3.6 MB 38.1 MB/s \n",
            "\u001b[?25hRequirement already satisfied: python-dateutil in /usr/local/lib/python3.7/dist-packages (from azure-storage-common~=2.1->azure-storage-blob==2.1.0) (2.8.2)\n",
            "Requirement already satisfied: requests in /usr/local/lib/python3.7/dist-packages (from azure-storage-common~=2.1->azure-storage-blob==2.1.0) (2.23.0)\n",
            "Requirement already satisfied: cffi>=1.12 in /usr/local/lib/python3.7/dist-packages (from cryptography->azure-storage-common~=2.1->azure-storage-blob==2.1.0) (1.15.0)\n",
            "Requirement already satisfied: pycparser in /usr/local/lib/python3.7/dist-packages (from cffi>=1.12->cryptography->azure-storage-common~=2.1->azure-storage-blob==2.1.0) (2.21)\n",
            "Requirement already satisfied: six>=1.5 in /usr/local/lib/python3.7/dist-packages (from python-dateutil->azure-storage-common~=2.1->azure-storage-blob==2.1.0) (1.15.0)\n",
            "Requirement already satisfied: chardet<4,>=3.0.2 in /usr/local/lib/python3.7/dist-packages (from requests->azure-storage-common~=2.1->azure-storage-blob==2.1.0) (3.0.4)\n",
            "Requirement already satisfied: certifi>=2017.4.17 in /usr/local/lib/python3.7/dist-packages (from requests->azure-storage-common~=2.1->azure-storage-blob==2.1.0) (2021.10.8)\n",
            "Requirement already satisfied: idna<3,>=2.5 in /usr/local/lib/python3.7/dist-packages (from requests->azure-storage-common~=2.1->azure-storage-blob==2.1.0) (2.10)\n",
            "Requirement already satisfied: urllib3!=1.25.0,!=1.25.1,<1.26,>=1.21.1 in /usr/local/lib/python3.7/dist-packages (from requests->azure-storage-common~=2.1->azure-storage-blob==2.1.0) (1.24.3)\n",
            "Installing collected packages: cryptography, azure-common, azure-storage-common, azure-storage-blob\n",
            "Successfully installed azure-common-1.1.27 azure-storage-blob-2.1.0 azure-storage-common-2.1.0 cryptography-36.0.1\n"
          ]
        }
      ]
    },
    {
      "cell_type": "code",
      "source": [
        "from azure.storage.blob import BlockBlobService\n",
        "import os\n",
        "import cv2\n",
        "blob_service_client = BlockBlobService(account_name='dent01', account_key='CuShY0B4TZJ84TjzPpaHxyrHOpO73aGXeCpdVq7x26OjIlQ1HOz+3DVc9pDEj9BdcEL8odFuTRF0mOAE+aCgiw==')\n",
        "pic = ('D760B698-4146-47E4-98EF-45A3E1B99CC6.png')#A15\n",
        "img  = cv2.imread(pic)"
      ],
      "metadata": {
        "id": "yfpNzNmzh8Dh"
      },
      "execution_count": 111,
      "outputs": []
    },
    {
      "cell_type": "code",
      "source": [
        "img  = cv2.imread(pic)\n",
        "img"
      ],
      "metadata": {
        "id": "Y2gZZ5NInlpl"
      },
      "execution_count": 112,
      "outputs": []
    },
    {
      "cell_type": "code",
      "source": [
        "img"
      ],
      "metadata": {
        "id": "IXgvtJD0aJGG"
      },
      "execution_count": 113,
      "outputs": []
    },
    {
      "cell_type": "code",
      "source": [
        "list_total = list()\n",
        "S1_double = pic\n",
        "img00  = cv2.imread(S1_double)\n",
        "S1RGB_imgA1A1_1= cv2.cvtColor(img00, cv2.COLOR_BGR2RGB)\n",
        "S1meanrefA1_1 = list()\n",
        "for i in range(S1RGB_imgA1A1_1.shape[0]): \n",
        "   for j in range(S1RGB_imgA1A1_1.shape[1]): \n",
        "              if 1769<i<1881 and 2019<j<2131 :\n",
        "                  S1meanrefA1_1.append(S1RGB_imgA1A1_1[i][j]) \n",
        "              if 1770<i<1880 and 2015<j<2145 :\n",
        "                  S1meanrefA1_1.append(S1RGB_imgA1A1_1[i][j])\n",
        "S1meanrefA1_1 = np.array(S1meanrefA1_1)\n",
        "S1meanA1_2 = np.array(S1meanrefA1_1)\n",
        "S1rgbrefA1_1 = list()\n",
        "#S1rgbA1_2 = list()\n",
        "for i in range(3):\n",
        "  S1rgbrefA1_1.append(S1meanrefA1_1[:,i].mean())\n",
        "  S1rgbrefA1_1.append(S1meanA1_2[:,i].mean())\n",
        "list_total.append(S1rgbrefA1_1)"
      ],
      "metadata": {
        "id": "lXKEeawZmAlI"
      },
      "execution_count": 116,
      "outputs": []
    },
    {
      "cell_type": "code",
      "source": [
        "list_total"
      ],
      "metadata": {
        "id": "i48gljVhzsWQ",
        "colab": {
          "base_uri": "https://localhost:8080/"
        },
        "outputId": "0f537a46-38bc-42bf-c3f4-9aa3211c1faf"
      },
      "execution_count": 117,
      "outputs": [
        {
          "output_type": "execute_result",
          "data": {
            "text/plain": [
              "[[223.96687135167917,\n",
              "  223.96687135167917,\n",
              "  197.16113259040256,\n",
              "  197.16113259040256,\n",
              "  144.0643241604124,\n",
              "  144.0643241604124]]"
            ]
          },
          "metadata": {},
          "execution_count": 117
        }
      ]
    },
    {
      "cell_type": "code",
      "source": [
        "X_test_D3_RGB_1 = np.array(list_total)\n",
        "predic_model= new_data.predict(list_total)"
      ],
      "metadata": {
        "id": "U7qwV28ah8Ke"
      },
      "execution_count": 118,
      "outputs": []
    },
    {
      "cell_type": "code",
      "source": [
        "predic_model"
      ],
      "metadata": {
        "id": "VKzDGk4Y7vkv",
        "colab": {
          "base_uri": "https://localhost:8080/"
        },
        "outputId": "76d8385e-d964-4ff0-de1a-158fb774fd1d"
      },
      "execution_count": 119,
      "outputs": [
        {
          "output_type": "execute_result",
          "data": {
            "text/plain": [
              "array(['B1'], dtype=object)"
            ]
          },
          "metadata": {},
          "execution_count": 119
        }
      ]
    },
    {
      "cell_type": "code",
      "source": [
        "model = predic_model[0]\n",
        "model\n"
      ],
      "metadata": {
        "id": "KAG6gcYCjiqY",
        "outputId": "04b9f043-5b0c-4488-d00c-aa67b2a3c957",
        "colab": {
          "base_uri": "https://localhost:8080/",
          "height": 35
        }
      },
      "execution_count": 186,
      "outputs": [
        {
          "output_type": "execute_result",
          "data": {
            "application/vnd.google.colaboratory.intrinsic+json": {
              "type": "string"
            },
            "text/plain": [
              "'B1'"
            ]
          },
          "metadata": {},
          "execution_count": 186
        }
      ]
    },
    {
      "cell_type": "code",
      "source": [
        "type(predic_model)"
      ],
      "metadata": {
        "colab": {
          "base_uri": "https://localhost:8080/"
        },
        "id": "e6zm9zdNhmuy",
        "outputId": "8d235859-c2a8-432a-8246-da704d8da748"
      },
      "execution_count": 120,
      "outputs": [
        {
          "output_type": "execute_result",
          "data": {
            "text/plain": [
              "numpy.ndarray"
            ]
          },
          "metadata": {},
          "execution_count": 120
        }
      ]
    },
    {
      "cell_type": "code",
      "source": [
        " len(predic_model)"
      ],
      "metadata": {
        "colab": {
          "base_uri": "https://localhost:8080/"
        },
        "id": "dfYZHHTmvgIi",
        "outputId": "23c839e6-b5b0-4549-fa0a-7b82e5949004"
      },
      "execution_count": 121,
      "outputs": [
        {
          "output_type": "execute_result",
          "data": {
            "text/plain": [
              "1"
            ]
          },
          "metadata": {},
          "execution_count": 121
        }
      ]
    },
    {
      "cell_type": "code",
      "source": [
        "test4 = predic_model.sort();\n"
      ],
      "metadata": {
        "id": "iHx2zEyRRVSu"
      },
      "execution_count": 139,
      "outputs": []
    },
    {
      "cell_type": "code",
      "source": [
        "print(test4)"
      ],
      "metadata": {
        "id": "Squw28PTRnfB",
        "outputId": "5458fa84-0aa5-4faf-b84e-dfed23068eff",
        "colab": {
          "base_uri": "https://localhost:8080/"
        }
      },
      "execution_count": 143,
      "outputs": [
        {
          "output_type": "stream",
          "name": "stdout",
          "text": [
            "None\n"
          ]
        }
      ]
    },
    {
      "cell_type": "code",
      "source": [
        "test = predic_model\n",
        "test"
      ],
      "metadata": {
        "colab": {
          "base_uri": "https://localhost:8080/"
        },
        "id": "5dDJ6YFwx3zO",
        "outputId": "a62f87b6-6b88-481a-c2b6-045ef964d56e"
      },
      "execution_count": 122,
      "outputs": [
        {
          "output_type": "execute_result",
          "data": {
            "text/plain": [
              "array(['B1'], dtype=object)"
            ]
          },
          "metadata": {},
          "execution_count": 122
        }
      ]
    },
    {
      "cell_type": "code",
      "source": [
        "len(test)"
      ],
      "metadata": {
        "colab": {
          "base_uri": "https://localhost:8080/"
        },
        "id": "vvy6gLEdyGwX",
        "outputId": "218f4357-2174-4f84-d663-2fb53cc5ba57"
      },
      "execution_count": 123,
      "outputs": [
        {
          "output_type": "execute_result",
          "data": {
            "text/plain": [
              "1"
            ]
          },
          "metadata": {},
          "execution_count": 123
        }
      ]
    },
    {
      "cell_type": "code",
      "source": [
        "test.sort();\n",
        "test"
      ],
      "metadata": {
        "id": "wKrfGKrgQ9oM",
        "outputId": "62ec537d-6f9f-4329-a3f1-4bba761f73ab",
        "colab": {
          "base_uri": "https://localhost:8080/"
        }
      },
      "execution_count": 135,
      "outputs": [
        {
          "output_type": "execute_result",
          "data": {
            "text/plain": [
              "array(['B1'], dtype=object)"
            ]
          },
          "metadata": {},
          "execution_count": 135
        }
      ]
    },
    {
      "cell_type": "code",
      "source": [
        "out_str = np.array_str(predic_model)\n",
        "out_str"
      ],
      "metadata": {
        "colab": {
          "base_uri": "https://localhost:8080/",
          "height": 35
        },
        "id": "E0VxfYnPoxCF",
        "outputId": "d6547ce0-a440-40ce-b6b8-9203a452b576"
      },
      "execution_count": 124,
      "outputs": [
        {
          "output_type": "execute_result",
          "data": {
            "application/vnd.google.colaboratory.intrinsic+json": {
              "type": "string"
            },
            "text/plain": [
              "\"['B1']\""
            ]
          },
          "metadata": {},
          "execution_count": 124
        }
      ]
    },
    {
      "cell_type": "code",
      "source": [
        "type(out_str)"
      ],
      "metadata": {
        "colab": {
          "base_uri": "https://localhost:8080/"
        },
        "id": "4cVhBBaYpDGN",
        "outputId": "980cddba-b883-4c41-a772-81dff937700e"
      },
      "execution_count": 125,
      "outputs": [
        {
          "output_type": "execute_result",
          "data": {
            "text/plain": [
              "str"
            ]
          },
          "metadata": {},
          "execution_count": 125
        }
      ]
    },
    {
      "cell_type": "code",
      "source": [
        " len(out_str)"
      ],
      "metadata": {
        "colab": {
          "base_uri": "https://localhost:8080/"
        },
        "id": "XOvShyOMsmPx",
        "outputId": "750192bf-b167-43ec-a635-8dff4d8573ce"
      },
      "execution_count": 126,
      "outputs": [
        {
          "output_type": "execute_result",
          "data": {
            "text/plain": [
              "6"
            ]
          },
          "metadata": {},
          "execution_count": 126
        }
      ]
    },
    {
      "cell_type": "code",
      "source": [
        "x = predic_model.astype(str)\n",
        "x"
      ],
      "metadata": {
        "id": "CgXNJai9h8YZ",
        "colab": {
          "base_uri": "https://localhost:8080/"
        },
        "outputId": "30f9204d-7259-474a-a861-89e7cbda7505"
      },
      "execution_count": 167,
      "outputs": [
        {
          "output_type": "execute_result",
          "data": {
            "text/plain": [
              "array(['B1'], dtype='<U2')"
            ]
          },
          "metadata": {},
          "execution_count": 167
        }
      ]
    },
    {
      "cell_type": "code",
      "source": [
        "Series.(predic_model])"
      ],
      "metadata": {
        "id": "HozshZAjfdWj",
        "outputId": "2d26eb35-f746-4ccb-d89b-009a169a31e7",
        "colab": {
          "base_uri": "https://localhost:8080/",
          "height": 132
        }
      },
      "execution_count": 177,
      "outputs": [
        {
          "output_type": "error",
          "ename": "SyntaxError",
          "evalue": "ignored",
          "traceback": [
            "\u001b[0;36m  File \u001b[0;32m\"<ipython-input-177-5ee919cbf259>\"\u001b[0;36m, line \u001b[0;32m1\u001b[0m\n\u001b[0;31m    Series.(predic_model])\u001b[0m\n\u001b[0m           ^\u001b[0m\n\u001b[0;31mSyntaxError\u001b[0m\u001b[0;31m:\u001b[0m invalid syntax\n"
          ]
        }
      ]
    },
    {
      "cell_type": "code",
      "source": [
        "y = predic_model.str.extract([])"
      ],
      "metadata": {
        "id": "GnBV64crdypC",
        "outputId": "60b9712c-09e8-416d-9d1b-6b2df62e1c47",
        "colab": {
          "base_uri": "https://localhost:8080/",
          "height": 167
        }
      },
      "execution_count": 174,
      "outputs": [
        {
          "output_type": "error",
          "ename": "AttributeError",
          "evalue": "ignored",
          "traceback": [
            "\u001b[0;31m---------------------------------------------------------------------------\u001b[0m",
            "\u001b[0;31mAttributeError\u001b[0m                            Traceback (most recent call last)",
            "\u001b[0;32m<ipython-input-174-00b164cd07f3>\u001b[0m in \u001b[0;36m<module>\u001b[0;34m()\u001b[0m\n\u001b[0;32m----> 1\u001b[0;31m \u001b[0my\u001b[0m \u001b[0;34m=\u001b[0m \u001b[0mpredic_model\u001b[0m\u001b[0;34m.\u001b[0m\u001b[0mstr\u001b[0m\u001b[0;34m.\u001b[0m\u001b[0mextract\u001b[0m\u001b[0;34m(\u001b[0m\u001b[0;34m[\u001b[0m\u001b[0;34m]\u001b[0m\u001b[0;34m)\u001b[0m\u001b[0;34m\u001b[0m\u001b[0;34m\u001b[0m\u001b[0m\n\u001b[0m",
            "\u001b[0;31mAttributeError\u001b[0m: 'numpy.ndarray' object has no attribute 'str'"
          ]
        }
      ]
    },
    {
      "cell_type": "code",
      "source": [
        "data2 = x.strip()\n",
        "data2\n"
      ],
      "metadata": {
        "colab": {
          "base_uri": "https://localhost:8080/",
          "height": 183
        },
        "id": "OGihaepXem0e",
        "outputId": "ede3fe07-8a56-40e4-a714-81f8c9a11d38"
      },
      "execution_count": 169,
      "outputs": [
        {
          "output_type": "error",
          "ename": "AttributeError",
          "evalue": "ignored",
          "traceback": [
            "\u001b[0;31m---------------------------------------------------------------------------\u001b[0m",
            "\u001b[0;31mAttributeError\u001b[0m                            Traceback (most recent call last)",
            "\u001b[0;32m<ipython-input-169-05048b045d54>\u001b[0m in \u001b[0;36m<module>\u001b[0;34m()\u001b[0m\n\u001b[0;32m----> 1\u001b[0;31m \u001b[0mdata2\u001b[0m \u001b[0;34m=\u001b[0m \u001b[0mx\u001b[0m\u001b[0;34m.\u001b[0m\u001b[0mstrip\u001b[0m\u001b[0;34m(\u001b[0m\u001b[0;34m)\u001b[0m\u001b[0;34m\u001b[0m\u001b[0;34m\u001b[0m\u001b[0m\n\u001b[0m\u001b[1;32m      2\u001b[0m \u001b[0mdata2\u001b[0m\u001b[0;34m\u001b[0m\u001b[0;34m\u001b[0m\u001b[0m\n",
            "\u001b[0;31mAttributeError\u001b[0m: 'numpy.ndarray' object has no attribute 'strip'"
          ]
        }
      ]
    },
    {
      "cell_type": "code",
      "source": [
        " len(data2)"
      ],
      "metadata": {
        "id": "GMaSKkj3eGR0"
      },
      "execution_count": null,
      "outputs": []
    },
    {
      "cell_type": "markdown",
      "source": [
        "#ตาราง output"
      ],
      "metadata": {
        "id": "4VhFW6r5UJEl"
      }
    },
    {
      "cell_type": "code",
      "execution_count": 151,
      "metadata": {
        "id": "oqeByFFaSr3I"
      },
      "outputs": [],
      "source": [
        "import pandas as pd "
      ]
    },
    {
      "cell_type": "code",
      "source": [
        "data1 = \"B1\""
      ],
      "metadata": {
        "id": "U4TkcTfMTGJY"
      },
      "execution_count": 152,
      "outputs": []
    },
    {
      "cell_type": "code",
      "source": [
        "data1"
      ],
      "metadata": {
        "id": "y_TXgsGNTKI-",
        "colab": {
          "base_uri": "https://localhost:8080/",
          "height": 35
        },
        "outputId": "9c7e7eb0-e483-4722-8db4-8f8356fde07e"
      },
      "execution_count": 153,
      "outputs": [
        {
          "output_type": "execute_result",
          "data": {
            "application/vnd.google.colaboratory.intrinsic+json": {
              "type": "string"
            },
            "text/plain": [
              "'B1'"
            ]
          },
          "metadata": {},
          "execution_count": 153
        }
      ]
    },
    {
      "cell_type": "code",
      "source": [
        "type(data1)"
      ],
      "metadata": {
        "colab": {
          "base_uri": "https://localhost:8080/"
        },
        "id": "Wtk_z1N3k59d",
        "outputId": "f571a3b1-6f5e-4647-fb98-575d9b9837c0"
      },
      "execution_count": 154,
      "outputs": [
        {
          "output_type": "execute_result",
          "data": {
            "text/plain": [
              "str"
            ]
          },
          "metadata": {},
          "execution_count": 154
        }
      ]
    },
    {
      "cell_type": "code",
      "source": [
        "len(data1)"
      ],
      "metadata": {
        "colab": {
          "base_uri": "https://localhost:8080/"
        },
        "id": "2osOsplZxlLC",
        "outputId": "cbda1693-7b5d-4dc7-d73c-d3bb317482f4"
      },
      "execution_count": 155,
      "outputs": [
        {
          "output_type": "execute_result",
          "data": {
            "text/plain": [
              "2"
            ]
          },
          "metadata": {},
          "execution_count": 155
        }
      ]
    },
    {
      "cell_type": "code",
      "source": [
        "df = pd.read_csv('OUTPUT.csv')"
      ],
      "metadata": {
        "id": "5Uh1t-ABTRqr"
      },
      "execution_count": 156,
      "outputs": []
    },
    {
      "cell_type": "code",
      "source": [
        "df"
      ],
      "metadata": {
        "id": "F1C4EOxRT2_X",
        "colab": {
          "base_uri": "https://localhost:8080/",
          "height": 551
        },
        "outputId": "c1599a65-f296-4c38-d8fb-ea623aab7bca"
      },
      "execution_count": 157,
      "outputs": [
        {
          "output_type": "execute_result",
          "data": {
            "text/html": [
              "\n",
              "  <div id=\"df-0b8caffc-7364-4c41-83a1-20ba28da7503\">\n",
              "    <div class=\"colab-df-container\">\n",
              "      <div>\n",
              "<style scoped>\n",
              "    .dataframe tbody tr th:only-of-type {\n",
              "        vertical-align: middle;\n",
              "    }\n",
              "\n",
              "    .dataframe tbody tr th {\n",
              "        vertical-align: top;\n",
              "    }\n",
              "\n",
              "    .dataframe thead th {\n",
              "        text-align: right;\n",
              "    }\n",
              "</style>\n",
              "<table border=\"1\" class=\"dataframe\">\n",
              "  <thead>\n",
              "    <tr style=\"text-align: right;\">\n",
              "      <th></th>\n",
              "      <th>ชื่อเฉดไกด์</th>\n",
              "      <th>ค่าสี CIE l a b</th>\n",
              "      <th>โทนสี</th>\n",
              "      <th>ชื่อเฉดไกด์ที่ใกล้เคียง</th>\n",
              "      <th>เทียบเท่าเฉดไกด์ 3D Master</th>\n",
              "    </tr>\n",
              "  </thead>\n",
              "  <tbody>\n",
              "    <tr>\n",
              "      <th>0</th>\n",
              "      <td>A1</td>\n",
              "      <td>(79.57,-1.61,13.05)</td>\n",
              "      <td>Reddish-brownish</td>\n",
              "      <td>B1 B2</td>\n",
              "      <td>0M1 0M3</td>\n",
              "    </tr>\n",
              "    <tr>\n",
              "      <th>1</th>\n",
              "      <td>A2</td>\n",
              "      <td>(76.04,-0.08,16.73)</td>\n",
              "      <td>Reddish-brownish</td>\n",
              "      <td>B2 A3</td>\n",
              "      <td>0M2 1M2</td>\n",
              "    </tr>\n",
              "    <tr>\n",
              "      <th>2</th>\n",
              "      <td>A3</td>\n",
              "      <td>(75.36,1.36,19.61)</td>\n",
              "      <td>Reddish-brownish</td>\n",
              "      <td>D2 A2</td>\n",
              "      <td>1M2 0M2</td>\n",
              "    </tr>\n",
              "    <tr>\n",
              "      <th>3</th>\n",
              "      <td>A3.5</td>\n",
              "      <td>(72.31,1.48,21.81)</td>\n",
              "      <td>Reddish-brownish</td>\n",
              "      <td>D3 B4</td>\n",
              "      <td>2R1.5 2M2</td>\n",
              "    </tr>\n",
              "    <tr>\n",
              "      <th>4</th>\n",
              "      <td>A4</td>\n",
              "      <td>(68.56,1.58,21)</td>\n",
              "      <td>Reddish-brownish</td>\n",
              "      <td>C3 C2</td>\n",
              "      <td>2M3 2R2.5</td>\n",
              "    </tr>\n",
              "    <tr>\n",
              "      <th>5</th>\n",
              "      <td>B1</td>\n",
              "      <td>(78.9,-1.76,12.33)</td>\n",
              "      <td>Reddish-yellowish</td>\n",
              "      <td>A1 B2</td>\n",
              "      <td>0M1 0M3</td>\n",
              "    </tr>\n",
              "    <tr>\n",
              "      <th>6</th>\n",
              "      <td>B2</td>\n",
              "      <td>(76.66,-1.62,16.62)</td>\n",
              "      <td>Reddish-yellowish</td>\n",
              "      <td>A2 A3</td>\n",
              "      <td>1M1 1M2</td>\n",
              "    </tr>\n",
              "    <tr>\n",
              "      <th>7</th>\n",
              "      <td>B3</td>\n",
              "      <td>(74.13,0.47,22.34)</td>\n",
              "      <td>Reddish-yellowish</td>\n",
              "      <td>C1 D2</td>\n",
              "      <td>2R2.5 2M2</td>\n",
              "    </tr>\n",
              "    <tr>\n",
              "      <th>8</th>\n",
              "      <td>B4</td>\n",
              "      <td>(71.86,0.5,22.15)</td>\n",
              "      <td>Reddish-yellowish</td>\n",
              "      <td>A3.5 D3</td>\n",
              "      <td>1M1 1M2</td>\n",
              "    </tr>\n",
              "    <tr>\n",
              "      <th>9</th>\n",
              "      <td>C1</td>\n",
              "      <td>(74.29,-1.26,12.56)</td>\n",
              "      <td>grayish</td>\n",
              "      <td>B3 D2</td>\n",
              "      <td>2R2.5 2M2</td>\n",
              "    </tr>\n",
              "    <tr>\n",
              "      <th>10</th>\n",
              "      <td>C2</td>\n",
              "      <td>(70.95,-0.22,16.72)</td>\n",
              "      <td>grayish</td>\n",
              "      <td>B4 D4</td>\n",
              "      <td>2R2.5 2M2</td>\n",
              "    </tr>\n",
              "    <tr>\n",
              "      <th>11</th>\n",
              "      <td>C3</td>\n",
              "      <td>(70.95,-0.01,16.68)</td>\n",
              "      <td>grayish</td>\n",
              "      <td>D4 B4</td>\n",
              "      <td>2R1.5 2M2</td>\n",
              "    </tr>\n",
              "    <tr>\n",
              "      <th>12</th>\n",
              "      <td>C4</td>\n",
              "      <td>(64.78,1.59,18.66)</td>\n",
              "      <td>grayish</td>\n",
              "      <td>A4 C3</td>\n",
              "      <td>3R2.5 3R1.5</td>\n",
              "    </tr>\n",
              "    <tr>\n",
              "      <th>13</th>\n",
              "      <td>D2</td>\n",
              "      <td>(75.27,-0.54,13.47)</td>\n",
              "      <td>reddish-grayish</td>\n",
              "      <td>A3 A2</td>\n",
              "      <td>1M2 0M2</td>\n",
              "    </tr>\n",
              "    <tr>\n",
              "      <th>14</th>\n",
              "      <td>D3</td>\n",
              "      <td>(72.55,0.62,16.14)</td>\n",
              "      <td>reddish-grayish</td>\n",
              "      <td>D4 B4</td>\n",
              "      <td>1M1 2R1.5</td>\n",
              "    </tr>\n",
              "    <tr>\n",
              "      <th>15</th>\n",
              "      <td>D4</td>\n",
              "      <td>(71.86,-1.03,17.77)</td>\n",
              "      <td>reddish-grayish</td>\n",
              "      <td>A3.5 D3</td>\n",
              "      <td>2R1.5 2M2</td>\n",
              "    </tr>\n",
              "  </tbody>\n",
              "</table>\n",
              "</div>\n",
              "      <button class=\"colab-df-convert\" onclick=\"convertToInteractive('df-0b8caffc-7364-4c41-83a1-20ba28da7503')\"\n",
              "              title=\"Convert this dataframe to an interactive table.\"\n",
              "              style=\"display:none;\">\n",
              "        \n",
              "  <svg xmlns=\"http://www.w3.org/2000/svg\" height=\"24px\"viewBox=\"0 0 24 24\"\n",
              "       width=\"24px\">\n",
              "    <path d=\"M0 0h24v24H0V0z\" fill=\"none\"/>\n",
              "    <path d=\"M18.56 5.44l.94 2.06.94-2.06 2.06-.94-2.06-.94-.94-2.06-.94 2.06-2.06.94zm-11 1L8.5 8.5l.94-2.06 2.06-.94-2.06-.94L8.5 2.5l-.94 2.06-2.06.94zm10 10l.94 2.06.94-2.06 2.06-.94-2.06-.94-.94-2.06-.94 2.06-2.06.94z\"/><path d=\"M17.41 7.96l-1.37-1.37c-.4-.4-.92-.59-1.43-.59-.52 0-1.04.2-1.43.59L10.3 9.45l-7.72 7.72c-.78.78-.78 2.05 0 2.83L4 21.41c.39.39.9.59 1.41.59.51 0 1.02-.2 1.41-.59l7.78-7.78 2.81-2.81c.8-.78.8-2.07 0-2.86zM5.41 20L4 18.59l7.72-7.72 1.47 1.35L5.41 20z\"/>\n",
              "  </svg>\n",
              "      </button>\n",
              "      \n",
              "  <style>\n",
              "    .colab-df-container {\n",
              "      display:flex;\n",
              "      flex-wrap:wrap;\n",
              "      gap: 12px;\n",
              "    }\n",
              "\n",
              "    .colab-df-convert {\n",
              "      background-color: #E8F0FE;\n",
              "      border: none;\n",
              "      border-radius: 50%;\n",
              "      cursor: pointer;\n",
              "      display: none;\n",
              "      fill: #1967D2;\n",
              "      height: 32px;\n",
              "      padding: 0 0 0 0;\n",
              "      width: 32px;\n",
              "    }\n",
              "\n",
              "    .colab-df-convert:hover {\n",
              "      background-color: #E2EBFA;\n",
              "      box-shadow: 0px 1px 2px rgba(60, 64, 67, 0.3), 0px 1px 3px 1px rgba(60, 64, 67, 0.15);\n",
              "      fill: #174EA6;\n",
              "    }\n",
              "\n",
              "    [theme=dark] .colab-df-convert {\n",
              "      background-color: #3B4455;\n",
              "      fill: #D2E3FC;\n",
              "    }\n",
              "\n",
              "    [theme=dark] .colab-df-convert:hover {\n",
              "      background-color: #434B5C;\n",
              "      box-shadow: 0px 1px 3px 1px rgba(0, 0, 0, 0.15);\n",
              "      filter: drop-shadow(0px 1px 2px rgba(0, 0, 0, 0.3));\n",
              "      fill: #FFFFFF;\n",
              "    }\n",
              "  </style>\n",
              "\n",
              "      <script>\n",
              "        const buttonEl =\n",
              "          document.querySelector('#df-0b8caffc-7364-4c41-83a1-20ba28da7503 button.colab-df-convert');\n",
              "        buttonEl.style.display =\n",
              "          google.colab.kernel.accessAllowed ? 'block' : 'none';\n",
              "\n",
              "        async function convertToInteractive(key) {\n",
              "          const element = document.querySelector('#df-0b8caffc-7364-4c41-83a1-20ba28da7503');\n",
              "          const dataTable =\n",
              "            await google.colab.kernel.invokeFunction('convertToInteractive',\n",
              "                                                     [key], {});\n",
              "          if (!dataTable) return;\n",
              "\n",
              "          const docLinkHtml = 'Like what you see? Visit the ' +\n",
              "            '<a target=\"_blank\" href=https://colab.research.google.com/notebooks/data_table.ipynb>data table notebook</a>'\n",
              "            + ' to learn more about interactive tables.';\n",
              "          element.innerHTML = '';\n",
              "          dataTable['output_type'] = 'display_data';\n",
              "          await google.colab.output.renderOutput(dataTable, element);\n",
              "          const docLink = document.createElement('div');\n",
              "          docLink.innerHTML = docLinkHtml;\n",
              "          element.appendChild(docLink);\n",
              "        }\n",
              "      </script>\n",
              "    </div>\n",
              "  </div>\n",
              "  "
            ],
            "text/plain": [
              "   ชื่อเฉดไกด์  ... เทียบเท่าเฉดไกด์ 3D Master\n",
              "0           A1  ...                    0M1 0M3\n",
              "1           A2  ...                    0M2 1M2\n",
              "2           A3  ...                    1M2 0M2\n",
              "3         A3.5  ...                  2R1.5 2M2\n",
              "4           A4  ...                 2M3 2R2.5 \n",
              "5           B1  ...                    0M1 0M3\n",
              "6           B2  ...                    1M1 1M2\n",
              "7           B3  ...                  2R2.5 2M2\n",
              "8           B4  ...                    1M1 1M2\n",
              "9           C1  ...                  2R2.5 2M2\n",
              "10          C2  ...                  2R2.5 2M2\n",
              "11          C3  ...                  2R1.5 2M2\n",
              "12          C4  ...                3R2.5 3R1.5\n",
              "13          D2  ...                    1M2 0M2\n",
              "14          D3  ...                  1M1 2R1.5\n",
              "15          D4  ...                  2R1.5 2M2\n",
              "\n",
              "[16 rows x 5 columns]"
            ]
          },
          "metadata": {},
          "execution_count": 157
        }
      ]
    },
    {
      "cell_type": "code",
      "source": [
        "test = df[df['ชื่อเฉดไกด์']==model]\n",
        "test"
      ],
      "metadata": {
        "id": "EBtw9Sc0kTDa",
        "outputId": "db45d282-6a46-4b28-e844-604e448a7156",
        "colab": {
          "base_uri": "https://localhost:8080/",
          "height": 81
        }
      },
      "execution_count": 189,
      "outputs": [
        {
          "output_type": "execute_result",
          "data": {
            "text/html": [
              "\n",
              "  <div id=\"df-c8837953-8782-4067-9a97-6d3cde27279f\">\n",
              "    <div class=\"colab-df-container\">\n",
              "      <div>\n",
              "<style scoped>\n",
              "    .dataframe tbody tr th:only-of-type {\n",
              "        vertical-align: middle;\n",
              "    }\n",
              "\n",
              "    .dataframe tbody tr th {\n",
              "        vertical-align: top;\n",
              "    }\n",
              "\n",
              "    .dataframe thead th {\n",
              "        text-align: right;\n",
              "    }\n",
              "</style>\n",
              "<table border=\"1\" class=\"dataframe\">\n",
              "  <thead>\n",
              "    <tr style=\"text-align: right;\">\n",
              "      <th></th>\n",
              "      <th>ชื่อเฉดไกด์</th>\n",
              "      <th>ค่าสี CIE l a b</th>\n",
              "      <th>โทนสี</th>\n",
              "      <th>ชื่อเฉดไกด์ที่ใกล้เคียง</th>\n",
              "      <th>เทียบเท่าเฉดไกด์ 3D Master</th>\n",
              "    </tr>\n",
              "  </thead>\n",
              "  <tbody>\n",
              "    <tr>\n",
              "      <th>5</th>\n",
              "      <td>B1</td>\n",
              "      <td>(78.9,-1.76,12.33)</td>\n",
              "      <td>Reddish-yellowish</td>\n",
              "      <td>A1 B2</td>\n",
              "      <td>0M1 0M3</td>\n",
              "    </tr>\n",
              "  </tbody>\n",
              "</table>\n",
              "</div>\n",
              "      <button class=\"colab-df-convert\" onclick=\"convertToInteractive('df-c8837953-8782-4067-9a97-6d3cde27279f')\"\n",
              "              title=\"Convert this dataframe to an interactive table.\"\n",
              "              style=\"display:none;\">\n",
              "        \n",
              "  <svg xmlns=\"http://www.w3.org/2000/svg\" height=\"24px\"viewBox=\"0 0 24 24\"\n",
              "       width=\"24px\">\n",
              "    <path d=\"M0 0h24v24H0V0z\" fill=\"none\"/>\n",
              "    <path d=\"M18.56 5.44l.94 2.06.94-2.06 2.06-.94-2.06-.94-.94-2.06-.94 2.06-2.06.94zm-11 1L8.5 8.5l.94-2.06 2.06-.94-2.06-.94L8.5 2.5l-.94 2.06-2.06.94zm10 10l.94 2.06.94-2.06 2.06-.94-2.06-.94-.94-2.06-.94 2.06-2.06.94z\"/><path d=\"M17.41 7.96l-1.37-1.37c-.4-.4-.92-.59-1.43-.59-.52 0-1.04.2-1.43.59L10.3 9.45l-7.72 7.72c-.78.78-.78 2.05 0 2.83L4 21.41c.39.39.9.59 1.41.59.51 0 1.02-.2 1.41-.59l7.78-7.78 2.81-2.81c.8-.78.8-2.07 0-2.86zM5.41 20L4 18.59l7.72-7.72 1.47 1.35L5.41 20z\"/>\n",
              "  </svg>\n",
              "      </button>\n",
              "      \n",
              "  <style>\n",
              "    .colab-df-container {\n",
              "      display:flex;\n",
              "      flex-wrap:wrap;\n",
              "      gap: 12px;\n",
              "    }\n",
              "\n",
              "    .colab-df-convert {\n",
              "      background-color: #E8F0FE;\n",
              "      border: none;\n",
              "      border-radius: 50%;\n",
              "      cursor: pointer;\n",
              "      display: none;\n",
              "      fill: #1967D2;\n",
              "      height: 32px;\n",
              "      padding: 0 0 0 0;\n",
              "      width: 32px;\n",
              "    }\n",
              "\n",
              "    .colab-df-convert:hover {\n",
              "      background-color: #E2EBFA;\n",
              "      box-shadow: 0px 1px 2px rgba(60, 64, 67, 0.3), 0px 1px 3px 1px rgba(60, 64, 67, 0.15);\n",
              "      fill: #174EA6;\n",
              "    }\n",
              "\n",
              "    [theme=dark] .colab-df-convert {\n",
              "      background-color: #3B4455;\n",
              "      fill: #D2E3FC;\n",
              "    }\n",
              "\n",
              "    [theme=dark] .colab-df-convert:hover {\n",
              "      background-color: #434B5C;\n",
              "      box-shadow: 0px 1px 3px 1px rgba(0, 0, 0, 0.15);\n",
              "      filter: drop-shadow(0px 1px 2px rgba(0, 0, 0, 0.3));\n",
              "      fill: #FFFFFF;\n",
              "    }\n",
              "  </style>\n",
              "\n",
              "      <script>\n",
              "        const buttonEl =\n",
              "          document.querySelector('#df-c8837953-8782-4067-9a97-6d3cde27279f button.colab-df-convert');\n",
              "        buttonEl.style.display =\n",
              "          google.colab.kernel.accessAllowed ? 'block' : 'none';\n",
              "\n",
              "        async function convertToInteractive(key) {\n",
              "          const element = document.querySelector('#df-c8837953-8782-4067-9a97-6d3cde27279f');\n",
              "          const dataTable =\n",
              "            await google.colab.kernel.invokeFunction('convertToInteractive',\n",
              "                                                     [key], {});\n",
              "          if (!dataTable) return;\n",
              "\n",
              "          const docLinkHtml = 'Like what you see? Visit the ' +\n",
              "            '<a target=\"_blank\" href=https://colab.research.google.com/notebooks/data_table.ipynb>data table notebook</a>'\n",
              "            + ' to learn more about interactive tables.';\n",
              "          element.innerHTML = '';\n",
              "          dataTable['output_type'] = 'display_data';\n",
              "          await google.colab.output.renderOutput(dataTable, element);\n",
              "          const docLink = document.createElement('div');\n",
              "          docLink.innerHTML = docLinkHtml;\n",
              "          element.appendChild(docLink);\n",
              "        }\n",
              "      </script>\n",
              "    </div>\n",
              "  </div>\n",
              "  "
            ],
            "text/plain": [
              "  ชื่อเฉดไกด์  ... เทียบเท่าเฉดไกด์ 3D Master\n",
              "5          B1  ...                    0M1 0M3\n",
              "\n",
              "[1 rows x 5 columns]"
            ]
          },
          "metadata": {},
          "execution_count": 189
        }
      ]
    },
    {
      "cell_type": "code",
      "source": [
        "df[df['ชื่อเฉดไกด์']==model][0]"
      ],
      "metadata": {
        "id": "JhXSmFp6qKku"
      },
      "execution_count": null,
      "outputs": []
    },
    {
      "cell_type": "code",
      "source": [
        "print(\"เฉดไกด์ที่จับคู่ได้ คือ\",test['ชื่อเฉดไกด์'][0])\n"
      ],
      "metadata": {
        "id": "Ld06k4GZpEVj",
        "outputId": "aa4f2179-4e86-4fdb-a3a4-11d3791bedad",
        "colab": {
          "base_uri": "https://localhost:8080/",
          "height": 572
        }
      },
      "execution_count": 195,
      "outputs": [
        {
          "output_type": "error",
          "ename": "KeyError",
          "evalue": "ignored",
          "traceback": [
            "\u001b[0;31m---------------------------------------------------------------------------\u001b[0m",
            "\u001b[0;31mKeyError\u001b[0m                                  Traceback (most recent call last)",
            "\u001b[0;32m/usr/local/lib/python3.7/dist-packages/pandas/core/indexes/base.py\u001b[0m in \u001b[0;36mget_loc\u001b[0;34m(self, key, method, tolerance)\u001b[0m\n\u001b[1;32m   2897\u001b[0m             \u001b[0;32mtry\u001b[0m\u001b[0;34m:\u001b[0m\u001b[0;34m\u001b[0m\u001b[0;34m\u001b[0m\u001b[0m\n\u001b[0;32m-> 2898\u001b[0;31m                 \u001b[0;32mreturn\u001b[0m \u001b[0mself\u001b[0m\u001b[0;34m.\u001b[0m\u001b[0m_engine\u001b[0m\u001b[0;34m.\u001b[0m\u001b[0mget_loc\u001b[0m\u001b[0;34m(\u001b[0m\u001b[0mcasted_key\u001b[0m\u001b[0;34m)\u001b[0m\u001b[0;34m\u001b[0m\u001b[0;34m\u001b[0m\u001b[0m\n\u001b[0m\u001b[1;32m   2899\u001b[0m             \u001b[0;32mexcept\u001b[0m \u001b[0mKeyError\u001b[0m \u001b[0;32mas\u001b[0m \u001b[0merr\u001b[0m\u001b[0;34m:\u001b[0m\u001b[0;34m\u001b[0m\u001b[0;34m\u001b[0m\u001b[0m\n",
            "\u001b[0;32mpandas/_libs/index.pyx\u001b[0m in \u001b[0;36mpandas._libs.index.IndexEngine.get_loc\u001b[0;34m()\u001b[0m\n",
            "\u001b[0;32mpandas/_libs/index.pyx\u001b[0m in \u001b[0;36mpandas._libs.index.IndexEngine.get_loc\u001b[0;34m()\u001b[0m\n",
            "\u001b[0;32mpandas/_libs/hashtable_class_helper.pxi\u001b[0m in \u001b[0;36mpandas._libs.hashtable.Int64HashTable.get_item\u001b[0;34m()\u001b[0m\n",
            "\u001b[0;32mpandas/_libs/hashtable_class_helper.pxi\u001b[0m in \u001b[0;36mpandas._libs.hashtable.Int64HashTable.get_item\u001b[0;34m()\u001b[0m\n",
            "\u001b[0;31mKeyError\u001b[0m: 0",
            "\nThe above exception was the direct cause of the following exception:\n",
            "\u001b[0;31mKeyError\u001b[0m                                  Traceback (most recent call last)",
            "\u001b[0;32m<ipython-input-195-b35b6a79937c>\u001b[0m in \u001b[0;36m<module>\u001b[0;34m()\u001b[0m\n\u001b[0;32m----> 1\u001b[0;31m \u001b[0mprint\u001b[0m\u001b[0;34m(\u001b[0m\u001b[0;34m\"เฉดไกด์ที่จับคู่ได้ คือ\"\u001b[0m\u001b[0;34m,\u001b[0m\u001b[0mtest\u001b[0m\u001b[0;34m[\u001b[0m\u001b[0;34m'ชื่อเฉดไกด์'\u001b[0m\u001b[0;34m]\u001b[0m\u001b[0;34m[\u001b[0m\u001b[0;36m0\u001b[0m\u001b[0;34m]\u001b[0m\u001b[0;34m)\u001b[0m\u001b[0;34m\u001b[0m\u001b[0;34m\u001b[0m\u001b[0m\n\u001b[0m",
            "\u001b[0;32m/usr/local/lib/python3.7/dist-packages/pandas/core/series.py\u001b[0m in \u001b[0;36m__getitem__\u001b[0;34m(self, key)\u001b[0m\n\u001b[1;32m    880\u001b[0m \u001b[0;34m\u001b[0m\u001b[0m\n\u001b[1;32m    881\u001b[0m         \u001b[0;32melif\u001b[0m \u001b[0mkey_is_scalar\u001b[0m\u001b[0;34m:\u001b[0m\u001b[0;34m\u001b[0m\u001b[0;34m\u001b[0m\u001b[0m\n\u001b[0;32m--> 882\u001b[0;31m             \u001b[0;32mreturn\u001b[0m \u001b[0mself\u001b[0m\u001b[0;34m.\u001b[0m\u001b[0m_get_value\u001b[0m\u001b[0;34m(\u001b[0m\u001b[0mkey\u001b[0m\u001b[0;34m)\u001b[0m\u001b[0;34m\u001b[0m\u001b[0;34m\u001b[0m\u001b[0m\n\u001b[0m\u001b[1;32m    883\u001b[0m \u001b[0;34m\u001b[0m\u001b[0m\n\u001b[1;32m    884\u001b[0m         \u001b[0;32mif\u001b[0m \u001b[0mis_hashable\u001b[0m\u001b[0;34m(\u001b[0m\u001b[0mkey\u001b[0m\u001b[0;34m)\u001b[0m\u001b[0;34m:\u001b[0m\u001b[0;34m\u001b[0m\u001b[0;34m\u001b[0m\u001b[0m\n",
            "\u001b[0;32m/usr/local/lib/python3.7/dist-packages/pandas/core/series.py\u001b[0m in \u001b[0;36m_get_value\u001b[0;34m(self, label, takeable)\u001b[0m\n\u001b[1;32m    988\u001b[0m \u001b[0;34m\u001b[0m\u001b[0m\n\u001b[1;32m    989\u001b[0m         \u001b[0;31m# Similar to Index.get_value, but we do not fall back to positional\u001b[0m\u001b[0;34m\u001b[0m\u001b[0;34m\u001b[0m\u001b[0;34m\u001b[0m\u001b[0m\n\u001b[0;32m--> 990\u001b[0;31m         \u001b[0mloc\u001b[0m \u001b[0;34m=\u001b[0m \u001b[0mself\u001b[0m\u001b[0;34m.\u001b[0m\u001b[0mindex\u001b[0m\u001b[0;34m.\u001b[0m\u001b[0mget_loc\u001b[0m\u001b[0;34m(\u001b[0m\u001b[0mlabel\u001b[0m\u001b[0;34m)\u001b[0m\u001b[0;34m\u001b[0m\u001b[0;34m\u001b[0m\u001b[0m\n\u001b[0m\u001b[1;32m    991\u001b[0m         \u001b[0;32mreturn\u001b[0m \u001b[0mself\u001b[0m\u001b[0;34m.\u001b[0m\u001b[0mindex\u001b[0m\u001b[0;34m.\u001b[0m\u001b[0m_get_values_for_loc\u001b[0m\u001b[0;34m(\u001b[0m\u001b[0mself\u001b[0m\u001b[0;34m,\u001b[0m \u001b[0mloc\u001b[0m\u001b[0;34m,\u001b[0m \u001b[0mlabel\u001b[0m\u001b[0;34m)\u001b[0m\u001b[0;34m\u001b[0m\u001b[0;34m\u001b[0m\u001b[0m\n\u001b[1;32m    992\u001b[0m \u001b[0;34m\u001b[0m\u001b[0m\n",
            "\u001b[0;32m/usr/local/lib/python3.7/dist-packages/pandas/core/indexes/base.py\u001b[0m in \u001b[0;36mget_loc\u001b[0;34m(self, key, method, tolerance)\u001b[0m\n\u001b[1;32m   2898\u001b[0m                 \u001b[0;32mreturn\u001b[0m \u001b[0mself\u001b[0m\u001b[0;34m.\u001b[0m\u001b[0m_engine\u001b[0m\u001b[0;34m.\u001b[0m\u001b[0mget_loc\u001b[0m\u001b[0;34m(\u001b[0m\u001b[0mcasted_key\u001b[0m\u001b[0;34m)\u001b[0m\u001b[0;34m\u001b[0m\u001b[0;34m\u001b[0m\u001b[0m\n\u001b[1;32m   2899\u001b[0m             \u001b[0;32mexcept\u001b[0m \u001b[0mKeyError\u001b[0m \u001b[0;32mas\u001b[0m \u001b[0merr\u001b[0m\u001b[0;34m:\u001b[0m\u001b[0;34m\u001b[0m\u001b[0;34m\u001b[0m\u001b[0m\n\u001b[0;32m-> 2900\u001b[0;31m                 \u001b[0;32mraise\u001b[0m \u001b[0mKeyError\u001b[0m\u001b[0;34m(\u001b[0m\u001b[0mkey\u001b[0m\u001b[0;34m)\u001b[0m \u001b[0;32mfrom\u001b[0m \u001b[0merr\u001b[0m\u001b[0;34m\u001b[0m\u001b[0;34m\u001b[0m\u001b[0m\n\u001b[0m\u001b[1;32m   2901\u001b[0m \u001b[0;34m\u001b[0m\u001b[0m\n\u001b[1;32m   2902\u001b[0m         \u001b[0;32mif\u001b[0m \u001b[0mtolerance\u001b[0m \u001b[0;32mis\u001b[0m \u001b[0;32mnot\u001b[0m \u001b[0;32mNone\u001b[0m\u001b[0;34m:\u001b[0m\u001b[0;34m\u001b[0m\u001b[0;34m\u001b[0m\u001b[0m\n",
            "\u001b[0;31mKeyError\u001b[0m: 0"
          ]
        }
      ]
    },
    {
      "cell_type": "code",
      "source": [
        "print(\"เฉดไกด์ที่จับคู่ได้ คือ\",test['ชื่อเฉดไกด์'].iloc[0])"
      ],
      "metadata": {
        "id": "G4B2qOZVsOZE",
        "outputId": "095398da-8450-4f36-a8c6-9bfd8672fcf3",
        "colab": {
          "base_uri": "https://localhost:8080/"
        }
      },
      "execution_count": 197,
      "outputs": [
        {
          "output_type": "stream",
          "name": "stdout",
          "text": [
            "เฉดไกด์ที่จับคู่ได้ คือ B1\n"
          ]
        }
      ]
    },
    {
      "cell_type": "code",
      "source": [
        "print(\"เฉดไกด์ที่จับคู่ได้ คือ\",test['ชื่อเฉดไกด์'].iloc[0])\n",
        "print(\"ค่าสี CIE l a b คือ\",test['ค่าสี CIE l a b'].iloc[0])\n",
        "print(\"อยู่ในโทนสี คือ\", test['โทนสี'].iloc[0])\n",
        "print(\"เฉดไกด์ที่จับคู่ได้ใกล้เคียง คือ\", test['ชื่อเฉดไกด์ที่ใกล้เคียง'].iloc[0])\n",
        "print(\"เทียบเท่าเฉดไกด์ 3D Master คือ\", test['เทียบเท่าเฉดไกด์ 3D Master'].iloc[0])"
      ],
      "metadata": {
        "id": "hBFXaZeUkvBU",
        "outputId": "c917c653-d6e2-4f95-8961-bc97a265376b",
        "colab": {
          "base_uri": "https://localhost:8080/"
        }
      },
      "execution_count": 202,
      "outputs": [
        {
          "output_type": "stream",
          "name": "stdout",
          "text": [
            "เฉดไกด์ที่จับคู่ได้ คือ B1\n",
            "ค่าสี CIE l a b คือ (78.9,-1.76,12.33)\n",
            "อยู่ในโทนสี คือ Reddish-yellowish\n",
            "เฉดไกด์ที่จับคู่ได้ใกล้เคียง คือ A1 B2\n",
            "เทียบเท่าเฉดไกด์ 3D Master คือ 0M1 0M3\n"
          ]
        }
      ]
    },
    {
      "cell_type": "code",
      "source": [
        "print(df['ชื่อเฉดไกด์'].values)"
      ],
      "metadata": {
        "colab": {
          "base_uri": "https://localhost:8080/"
        },
        "id": "q0p1d2ZCp18g",
        "outputId": "b244d19f-96ff-42b4-c031-91a27c3287c1"
      },
      "execution_count": 158,
      "outputs": [
        {
          "output_type": "stream",
          "name": "stdout",
          "text": [
            "['A1' 'A2' 'A3' 'A3.5' 'A4' 'B1' 'B2' 'B3' 'B4' 'C1' 'C2' 'C3' 'C4' 'D2'\n",
            " 'D3' 'D4']\n"
          ]
        }
      ]
    },
    {
      "cell_type": "code",
      "source": [
        "df.ชื่อเฉดไกด์.values"
      ],
      "metadata": {
        "colab": {
          "base_uri": "https://localhost:8080/"
        },
        "id": "8QjJW2pAKGCk",
        "outputId": "bbaedc1a-ee59-40c9-c39d-c92cc7578845"
      },
      "execution_count": 159,
      "outputs": [
        {
          "output_type": "execute_result",
          "data": {
            "text/plain": [
              "array(['A1', 'A2', 'A3', 'A3.5', 'A4', 'B1', 'B2', 'B3', 'B4', 'C1', 'C2',\n",
              "       'C3', 'C4', 'D2', 'D3', 'D4'], dtype=object)"
            ]
          },
          "metadata": {},
          "execution_count": 159
        }
      ]
    },
    {
      "cell_type": "code",
      "source": [
        " df['ชื่อเฉดไกด์'].values"
      ],
      "metadata": {
        "colab": {
          "base_uri": "https://localhost:8080/"
        },
        "id": "-iKwNno0LJs7",
        "outputId": "32449493-1680-4dc0-a045-124a554c5d76"
      },
      "execution_count": 160,
      "outputs": [
        {
          "output_type": "execute_result",
          "data": {
            "text/plain": [
              "array(['A1', 'A2', 'A3', 'A3.5', 'A4', 'B1', 'B2', 'B3', 'B4', 'C1', 'C2',\n",
              "       'C3', 'C4', 'D2', 'D3', 'D4'], dtype=object)"
            ]
          },
          "metadata": {},
          "execution_count": 160
        }
      ]
    },
    {
      "cell_type": "code",
      "source": [
        "predict = 'B1'\n",
        "\n",
        "test2 = df[df['ชื่อเฉดไกด์']==predict]\n",
        "test2"
      ],
      "metadata": {
        "colab": {
          "base_uri": "https://localhost:8080/",
          "height": 81
        },
        "id": "5RwVrrEBNHIk",
        "outputId": "c187715a-f1a6-45d2-accc-b256123d0520"
      },
      "execution_count": 161,
      "outputs": [
        {
          "output_type": "execute_result",
          "data": {
            "text/html": [
              "\n",
              "  <div id=\"df-3e3bba0c-d42d-422e-9bda-afec5a6c86cb\">\n",
              "    <div class=\"colab-df-container\">\n",
              "      <div>\n",
              "<style scoped>\n",
              "    .dataframe tbody tr th:only-of-type {\n",
              "        vertical-align: middle;\n",
              "    }\n",
              "\n",
              "    .dataframe tbody tr th {\n",
              "        vertical-align: top;\n",
              "    }\n",
              "\n",
              "    .dataframe thead th {\n",
              "        text-align: right;\n",
              "    }\n",
              "</style>\n",
              "<table border=\"1\" class=\"dataframe\">\n",
              "  <thead>\n",
              "    <tr style=\"text-align: right;\">\n",
              "      <th></th>\n",
              "      <th>ชื่อเฉดไกด์</th>\n",
              "      <th>ค่าสี CIE l a b</th>\n",
              "      <th>โทนสี</th>\n",
              "      <th>ชื่อเฉดไกด์ที่ใกล้เคียง</th>\n",
              "      <th>เทียบเท่าเฉดไกด์ 3D Master</th>\n",
              "    </tr>\n",
              "  </thead>\n",
              "  <tbody>\n",
              "    <tr>\n",
              "      <th>5</th>\n",
              "      <td>B1</td>\n",
              "      <td>(78.9,-1.76,12.33)</td>\n",
              "      <td>Reddish-yellowish</td>\n",
              "      <td>A1 B2</td>\n",
              "      <td>0M1 0M3</td>\n",
              "    </tr>\n",
              "  </tbody>\n",
              "</table>\n",
              "</div>\n",
              "      <button class=\"colab-df-convert\" onclick=\"convertToInteractive('df-3e3bba0c-d42d-422e-9bda-afec5a6c86cb')\"\n",
              "              title=\"Convert this dataframe to an interactive table.\"\n",
              "              style=\"display:none;\">\n",
              "        \n",
              "  <svg xmlns=\"http://www.w3.org/2000/svg\" height=\"24px\"viewBox=\"0 0 24 24\"\n",
              "       width=\"24px\">\n",
              "    <path d=\"M0 0h24v24H0V0z\" fill=\"none\"/>\n",
              "    <path d=\"M18.56 5.44l.94 2.06.94-2.06 2.06-.94-2.06-.94-.94-2.06-.94 2.06-2.06.94zm-11 1L8.5 8.5l.94-2.06 2.06-.94-2.06-.94L8.5 2.5l-.94 2.06-2.06.94zm10 10l.94 2.06.94-2.06 2.06-.94-2.06-.94-.94-2.06-.94 2.06-2.06.94z\"/><path d=\"M17.41 7.96l-1.37-1.37c-.4-.4-.92-.59-1.43-.59-.52 0-1.04.2-1.43.59L10.3 9.45l-7.72 7.72c-.78.78-.78 2.05 0 2.83L4 21.41c.39.39.9.59 1.41.59.51 0 1.02-.2 1.41-.59l7.78-7.78 2.81-2.81c.8-.78.8-2.07 0-2.86zM5.41 20L4 18.59l7.72-7.72 1.47 1.35L5.41 20z\"/>\n",
              "  </svg>\n",
              "      </button>\n",
              "      \n",
              "  <style>\n",
              "    .colab-df-container {\n",
              "      display:flex;\n",
              "      flex-wrap:wrap;\n",
              "      gap: 12px;\n",
              "    }\n",
              "\n",
              "    .colab-df-convert {\n",
              "      background-color: #E8F0FE;\n",
              "      border: none;\n",
              "      border-radius: 50%;\n",
              "      cursor: pointer;\n",
              "      display: none;\n",
              "      fill: #1967D2;\n",
              "      height: 32px;\n",
              "      padding: 0 0 0 0;\n",
              "      width: 32px;\n",
              "    }\n",
              "\n",
              "    .colab-df-convert:hover {\n",
              "      background-color: #E2EBFA;\n",
              "      box-shadow: 0px 1px 2px rgba(60, 64, 67, 0.3), 0px 1px 3px 1px rgba(60, 64, 67, 0.15);\n",
              "      fill: #174EA6;\n",
              "    }\n",
              "\n",
              "    [theme=dark] .colab-df-convert {\n",
              "      background-color: #3B4455;\n",
              "      fill: #D2E3FC;\n",
              "    }\n",
              "\n",
              "    [theme=dark] .colab-df-convert:hover {\n",
              "      background-color: #434B5C;\n",
              "      box-shadow: 0px 1px 3px 1px rgba(0, 0, 0, 0.15);\n",
              "      filter: drop-shadow(0px 1px 2px rgba(0, 0, 0, 0.3));\n",
              "      fill: #FFFFFF;\n",
              "    }\n",
              "  </style>\n",
              "\n",
              "      <script>\n",
              "        const buttonEl =\n",
              "          document.querySelector('#df-3e3bba0c-d42d-422e-9bda-afec5a6c86cb button.colab-df-convert');\n",
              "        buttonEl.style.display =\n",
              "          google.colab.kernel.accessAllowed ? 'block' : 'none';\n",
              "\n",
              "        async function convertToInteractive(key) {\n",
              "          const element = document.querySelector('#df-3e3bba0c-d42d-422e-9bda-afec5a6c86cb');\n",
              "          const dataTable =\n",
              "            await google.colab.kernel.invokeFunction('convertToInteractive',\n",
              "                                                     [key], {});\n",
              "          if (!dataTable) return;\n",
              "\n",
              "          const docLinkHtml = 'Like what you see? Visit the ' +\n",
              "            '<a target=\"_blank\" href=https://colab.research.google.com/notebooks/data_table.ipynb>data table notebook</a>'\n",
              "            + ' to learn more about interactive tables.';\n",
              "          element.innerHTML = '';\n",
              "          dataTable['output_type'] = 'display_data';\n",
              "          await google.colab.output.renderOutput(dataTable, element);\n",
              "          const docLink = document.createElement('div');\n",
              "          docLink.innerHTML = docLinkHtml;\n",
              "          element.appendChild(docLink);\n",
              "        }\n",
              "      </script>\n",
              "    </div>\n",
              "  </div>\n",
              "  "
            ],
            "text/plain": [
              "  ชื่อเฉดไกด์  ... เทียบเท่าเฉดไกด์ 3D Master\n",
              "5          B1  ...                    0M1 0M3\n",
              "\n",
              "[1 rows x 5 columns]"
            ]
          },
          "metadata": {},
          "execution_count": 161
        }
      ]
    },
    {
      "cell_type": "code",
      "source": [
        "len(predict)"
      ],
      "metadata": {
        "colab": {
          "base_uri": "https://localhost:8080/"
        },
        "id": "ioIxnp05UWVY",
        "outputId": "f9590a23-5689-4111-9314-c954a8d62264"
      },
      "execution_count": 162,
      "outputs": [
        {
          "output_type": "execute_result",
          "data": {
            "text/plain": [
              "2"
            ]
          },
          "metadata": {},
          "execution_count": 162
        }
      ]
    },
    {
      "cell_type": "code",
      "source": [
        " len(test2)"
      ],
      "metadata": {
        "colab": {
          "base_uri": "https://localhost:8080/"
        },
        "id": "hpPBmcnHSeJW",
        "outputId": "ec6c6e0b-e42d-4af7-fe47-7670c5f5cf02"
      },
      "execution_count": 163,
      "outputs": [
        {
          "output_type": "execute_result",
          "data": {
            "text/plain": [
              "1"
            ]
          },
          "metadata": {},
          "execution_count": 163
        }
      ]
    },
    {
      "cell_type": "code",
      "source": [
        "test3 = df[df['ชื่อเฉดไกด์']==t2]\n",
        "test3\n"
      ],
      "metadata": {
        "colab": {
          "base_uri": "https://localhost:8080/",
          "height": 81
        },
        "id": "Ik46ywovTtpe",
        "outputId": "2f5ed483-30b7-4052-bcc5-93edc8e14b80"
      },
      "execution_count": 183,
      "outputs": [
        {
          "output_type": "execute_result",
          "data": {
            "text/html": [
              "\n",
              "  <div id=\"df-bb873ec5-1970-4afe-a43c-37c267dfce12\">\n",
              "    <div class=\"colab-df-container\">\n",
              "      <div>\n",
              "<style scoped>\n",
              "    .dataframe tbody tr th:only-of-type {\n",
              "        vertical-align: middle;\n",
              "    }\n",
              "\n",
              "    .dataframe tbody tr th {\n",
              "        vertical-align: top;\n",
              "    }\n",
              "\n",
              "    .dataframe thead th {\n",
              "        text-align: right;\n",
              "    }\n",
              "</style>\n",
              "<table border=\"1\" class=\"dataframe\">\n",
              "  <thead>\n",
              "    <tr style=\"text-align: right;\">\n",
              "      <th></th>\n",
              "      <th>ชื่อเฉดไกด์</th>\n",
              "      <th>ค่าสี CIE l a b</th>\n",
              "      <th>โทนสี</th>\n",
              "      <th>ชื่อเฉดไกด์ที่ใกล้เคียง</th>\n",
              "      <th>เทียบเท่าเฉดไกด์ 3D Master</th>\n",
              "    </tr>\n",
              "  </thead>\n",
              "  <tbody>\n",
              "    <tr>\n",
              "      <th>5</th>\n",
              "      <td>B1</td>\n",
              "      <td>(78.9,-1.76,12.33)</td>\n",
              "      <td>Reddish-yellowish</td>\n",
              "      <td>A1 B2</td>\n",
              "      <td>0M1 0M3</td>\n",
              "    </tr>\n",
              "  </tbody>\n",
              "</table>\n",
              "</div>\n",
              "      <button class=\"colab-df-convert\" onclick=\"convertToInteractive('df-bb873ec5-1970-4afe-a43c-37c267dfce12')\"\n",
              "              title=\"Convert this dataframe to an interactive table.\"\n",
              "              style=\"display:none;\">\n",
              "        \n",
              "  <svg xmlns=\"http://www.w3.org/2000/svg\" height=\"24px\"viewBox=\"0 0 24 24\"\n",
              "       width=\"24px\">\n",
              "    <path d=\"M0 0h24v24H0V0z\" fill=\"none\"/>\n",
              "    <path d=\"M18.56 5.44l.94 2.06.94-2.06 2.06-.94-2.06-.94-.94-2.06-.94 2.06-2.06.94zm-11 1L8.5 8.5l.94-2.06 2.06-.94-2.06-.94L8.5 2.5l-.94 2.06-2.06.94zm10 10l.94 2.06.94-2.06 2.06-.94-2.06-.94-.94-2.06-.94 2.06-2.06.94z\"/><path d=\"M17.41 7.96l-1.37-1.37c-.4-.4-.92-.59-1.43-.59-.52 0-1.04.2-1.43.59L10.3 9.45l-7.72 7.72c-.78.78-.78 2.05 0 2.83L4 21.41c.39.39.9.59 1.41.59.51 0 1.02-.2 1.41-.59l7.78-7.78 2.81-2.81c.8-.78.8-2.07 0-2.86zM5.41 20L4 18.59l7.72-7.72 1.47 1.35L5.41 20z\"/>\n",
              "  </svg>\n",
              "      </button>\n",
              "      \n",
              "  <style>\n",
              "    .colab-df-container {\n",
              "      display:flex;\n",
              "      flex-wrap:wrap;\n",
              "      gap: 12px;\n",
              "    }\n",
              "\n",
              "    .colab-df-convert {\n",
              "      background-color: #E8F0FE;\n",
              "      border: none;\n",
              "      border-radius: 50%;\n",
              "      cursor: pointer;\n",
              "      display: none;\n",
              "      fill: #1967D2;\n",
              "      height: 32px;\n",
              "      padding: 0 0 0 0;\n",
              "      width: 32px;\n",
              "    }\n",
              "\n",
              "    .colab-df-convert:hover {\n",
              "      background-color: #E2EBFA;\n",
              "      box-shadow: 0px 1px 2px rgba(60, 64, 67, 0.3), 0px 1px 3px 1px rgba(60, 64, 67, 0.15);\n",
              "      fill: #174EA6;\n",
              "    }\n",
              "\n",
              "    [theme=dark] .colab-df-convert {\n",
              "      background-color: #3B4455;\n",
              "      fill: #D2E3FC;\n",
              "    }\n",
              "\n",
              "    [theme=dark] .colab-df-convert:hover {\n",
              "      background-color: #434B5C;\n",
              "      box-shadow: 0px 1px 3px 1px rgba(0, 0, 0, 0.15);\n",
              "      filter: drop-shadow(0px 1px 2px rgba(0, 0, 0, 0.3));\n",
              "      fill: #FFFFFF;\n",
              "    }\n",
              "  </style>\n",
              "\n",
              "      <script>\n",
              "        const buttonEl =\n",
              "          document.querySelector('#df-bb873ec5-1970-4afe-a43c-37c267dfce12 button.colab-df-convert');\n",
              "        buttonEl.style.display =\n",
              "          google.colab.kernel.accessAllowed ? 'block' : 'none';\n",
              "\n",
              "        async function convertToInteractive(key) {\n",
              "          const element = document.querySelector('#df-bb873ec5-1970-4afe-a43c-37c267dfce12');\n",
              "          const dataTable =\n",
              "            await google.colab.kernel.invokeFunction('convertToInteractive',\n",
              "                                                     [key], {});\n",
              "          if (!dataTable) return;\n",
              "\n",
              "          const docLinkHtml = 'Like what you see? Visit the ' +\n",
              "            '<a target=\"_blank\" href=https://colab.research.google.com/notebooks/data_table.ipynb>data table notebook</a>'\n",
              "            + ' to learn more about interactive tables.';\n",
              "          element.innerHTML = '';\n",
              "          dataTable['output_type'] = 'display_data';\n",
              "          await google.colab.output.renderOutput(dataTable, element);\n",
              "          const docLink = document.createElement('div');\n",
              "          docLink.innerHTML = docLinkHtml;\n",
              "          element.appendChild(docLink);\n",
              "        }\n",
              "      </script>\n",
              "    </div>\n",
              "  </div>\n",
              "  "
            ],
            "text/plain": [
              "  ชื่อเฉดไกด์  ... เทียบเท่าเฉดไกด์ 3D Master\n",
              "5          B1  ...                    0M1 0M3\n",
              "\n",
              "[1 rows x 5 columns]"
            ]
          },
          "metadata": {},
          "execution_count": 183
        }
      ]
    },
    {
      "cell_type": "code",
      "source": [
        "p1 = df[df['ชื่อเฉดไกด์']==predict]\n",
        "print(p1['ชื่อเฉดไกด์'].values)"
      ],
      "metadata": {
        "id": "sExuOAlBOsgL"
      },
      "execution_count": null,
      "outputs": []
    },
    {
      "cell_type": "code",
      "source": [
        " len(p1['ชื่อเฉดไกด์'].values)"
      ],
      "metadata": {
        "id": "eX9U-GpXPPGQ"
      },
      "execution_count": null,
      "outputs": []
    },
    {
      "cell_type": "code",
      "source": [
        "\n"
      ],
      "metadata": {
        "id": "nJTchs0tINUJ"
      },
      "execution_count": null,
      "outputs": []
    },
    {
      "cell_type": "code",
      "source": [
        "df[df.ชื่อเฉดไกด์.str.match(out_str)]"
      ],
      "metadata": {
        "id": "KEHtxqtFGz4k"
      },
      "execution_count": null,
      "outputs": []
    },
    {
      "cell_type": "code",
      "source": [
        "test1 = df[df.ชื่อเฉดไกด์.str.match(out_str)]"
      ],
      "metadata": {
        "id": "QyUbWdzQQ_ES"
      },
      "execution_count": null,
      "outputs": []
    },
    {
      "cell_type": "code",
      "source": [
        "test1"
      ],
      "metadata": {
        "id": "sGsxMcsuRX2o"
      },
      "execution_count": null,
      "outputs": []
    },
    {
      "cell_type": "code",
      "source": [
        " len(df['ชื่อเฉดไกด์'])"
      ],
      "metadata": {
        "id": "FJpDOa-yReUY"
      },
      "execution_count": null,
      "outputs": []
    },
    {
      "cell_type": "code",
      "source": [
        "df[df.ชื่อเฉดไกด์.str.contains(out_str)]"
      ],
      "metadata": {
        "id": "dfYIBJkzDMeV"
      },
      "execution_count": null,
      "outputs": []
    },
    {
      "cell_type": "code",
      "source": [
        "df.info()"
      ],
      "metadata": {
        "id": "SuRS8SZg5y0X"
      },
      "execution_count": null,
      "outputs": []
    },
    {
      "cell_type": "code",
      "source": [
        "type('ชื่อเฉดไกด์')"
      ],
      "metadata": {
        "id": "T_cmQnPVkQ5m"
      },
      "execution_count": null,
      "outputs": []
    },
    {
      "cell_type": "code",
      "source": [
        ""
      ],
      "metadata": {
        "id": "dZ26qrkh_sjV"
      },
      "execution_count": null,
      "outputs": []
    },
    {
      "cell_type": "code",
      "source": [
        "N = df[df['ชื่อเฉดไกด์']== predic_model]\n",
        "N"
      ],
      "metadata": {
        "id": "mj358HtpQYGL"
      },
      "execution_count": null,
      "outputs": []
    },
    {
      "cell_type": "code",
      "source": [
        "len(df['ชื่อเฉดไกด์'])"
      ],
      "metadata": {
        "id": "vJURo1YnvtXv"
      },
      "execution_count": null,
      "outputs": []
    },
    {
      "cell_type": "code",
      "source": [
        "N"
      ],
      "metadata": {
        "id": "FVlO9HFuRWuK"
      },
      "execution_count": null,
      "outputs": []
    },
    {
      "cell_type": "code",
      "source": [
        "print(\"เฉดไกด์ที่จับคู่ได้ คือ\", N['ชื่อเฉดไกด์'].values)"
      ],
      "metadata": {
        "id": "Vjn5mBrjX56X"
      },
      "execution_count": null,
      "outputs": []
    },
    {
      "cell_type": "code",
      "source": [
        "type(N['ชื่อเฉดไกด์'].values)"
      ],
      "metadata": {
        "id": "JQzqnWmItf5d"
      },
      "execution_count": null,
      "outputs": []
    },
    {
      "cell_type": "code",
      "source": [
        " "
      ],
      "metadata": {
        "id": "odhyn8xrvCDr"
      },
      "execution_count": null,
      "outputs": []
    },
    {
      "cell_type": "code",
      "source": [
        "print(\"เฉดไกด์ที่จับคู่ได้ คือ\", N['ชื่อเฉดไกด์'].values)\n",
        "print(\"ค่าสี CIE l a b คือ\",N['ค่าสี CIE l a b'].values)\n",
        "print(\"อยู่ในโทนสี คือ\", N['โทนสี'].values)\n",
        "print(\"เฉดไกด์ที่จับคู่ได้ใกล้เคียง คือ\", N['ชื่อเฉดไกด์ที่ใกล้เคียง'].values)\n",
        "print(\"เทียบเท่าเฉดไกด์ 3D Master คือ\", N['เทียบเท่าเฉดไกด์ 3D Master'].values)"
      ],
      "metadata": {
        "id": "mLXD3u4nRZCf"
      },
      "execution_count": null,
      "outputs": []
    },
    {
      "cell_type": "code",
      "source": [
        ""
      ],
      "metadata": {
        "id": "K8vGv7p9X45T"
      },
      "execution_count": null,
      "outputs": []
    }
  ]
}