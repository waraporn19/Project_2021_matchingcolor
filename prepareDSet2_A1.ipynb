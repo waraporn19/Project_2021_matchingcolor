{
  "nbformat": 4,
  "nbformat_minor": 0,
  "metadata": {
    "colab": {
      "name": "prepareDSet2_A1.ipynb",
      "provenance": [],
      "include_colab_link": true
    },
    "kernelspec": {
      "name": "python3",
      "display_name": "Python 3"
    },
    "language_info": {
      "name": "python"
    }
  },
  "cells": [
    {
      "cell_type": "markdown",
      "metadata": {
        "id": "view-in-github",
        "colab_type": "text"
      },
      "source": [
        "<a href=\"https://colab.research.google.com/github/waraporn19/Project_2021_matchingcolor/blob/main/prepareDSet2_A1.ipynb\" target=\"_parent\"><img src=\"https://colab.research.google.com/assets/colab-badge.svg\" alt=\"Open In Colab\"/></a>"
      ]
    },
    {
      "cell_type": "code",
      "metadata": {
        "id": "drOKqbUE2PnQ"
      },
      "source": [
        "import pandas as pd"
      ],
      "execution_count": 3,
      "outputs": []
    },
    {
      "cell_type": "code",
      "metadata": {
        "colab": {
          "base_uri": "https://localhost:8080/"
        },
        "id": "O7x0j_3c2Pjr",
        "outputId": "1bbef20b-2317-4217-9fe8-aa7b587129fc"
      },
      "source": [
        "from google.colab import drive \n",
        "drive.mount('/content/drive')"
      ],
      "execution_count": 4,
      "outputs": [
        {
          "output_type": "stream",
          "name": "stdout",
          "text": [
            "Drive already mounted at /content/drive; to attempt to forcibly remount, call drive.mount(\"/content/drive\", force_remount=True).\n"
          ]
        }
      ]
    },
    {
      "cell_type": "code",
      "metadata": {
        "id": "lsGPiAcg2Pa7"
      },
      "source": [
        "import os"
      ],
      "execution_count": 5,
      "outputs": []
    },
    {
      "cell_type": "code",
      "metadata": {
        "id": "xGv3Ax6o251w"
      },
      "source": [
        "path = '/content/drive/My Drive/shadeimg'"
      ],
      "execution_count": 6,
      "outputs": []
    },
    {
      "cell_type": "code",
      "metadata": {
        "colab": {
          "base_uri": "https://localhost:8080/"
        },
        "id": "DK3-qllN3Huu",
        "outputId": "c91045d6-fdf6-4d65-e3dd-28d8e14c61b0"
      },
      "source": [
        "os.listdir(path)"
      ],
      "execution_count": 7,
      "outputs": [
        {
          "output_type": "execute_result",
          "data": {
            "text/plain": [
              "['รูปฟัน07',\n",
              " '9-10 7 2021',\n",
              " '11 7 2021',\n",
              " 'ฟันสักอย่างจำวันไม่ได้',\n",
              " '1 teeth .gsheet',\n",
              " '16 8 2021',\n",
              " '17 8 2021',\n",
              " '1 teeth .xlsx',\n",
              " '2 teeth .xlsx',\n",
              " '2 teeth.gsheet']"
            ]
          },
          "metadata": {},
          "execution_count": 7
        }
      ]
    },
    {
      "cell_type": "code",
      "metadata": {
        "id": "qnyateeBbpSP",
        "colab": {
          "base_uri": "https://localhost:8080/"
        },
        "outputId": "63d38f8a-d881-4b79-897d-e18531f5d96e"
      },
      "source": [
        "!pip install azure-storage-blob==2.1.0"
      ],
      "execution_count": 8,
      "outputs": [
        {
          "output_type": "stream",
          "name": "stdout",
          "text": [
            "Collecting azure-storage-blob==2.1.0\n",
            "  Downloading azure_storage_blob-2.1.0-py2.py3-none-any.whl (88 kB)\n",
            "\u001b[?25l\r\u001b[K     |███▊                            | 10 kB 22.6 MB/s eta 0:00:01\r\u001b[K     |███████▍                        | 20 kB 28.5 MB/s eta 0:00:01\r\u001b[K     |███████████▏                    | 30 kB 31.1 MB/s eta 0:00:01\r\u001b[K     |██████████████▉                 | 40 kB 32.9 MB/s eta 0:00:01\r\u001b[K     |██████████████████▋             | 51 kB 35.0 MB/s eta 0:00:01\r\u001b[K     |██████████████████████▎         | 61 kB 35.6 MB/s eta 0:00:01\r\u001b[K     |██████████████████████████      | 71 kB 23.2 MB/s eta 0:00:01\r\u001b[K     |█████████████████████████████▊  | 81 kB 24.5 MB/s eta 0:00:01\r\u001b[K     |████████████████████████████████| 88 kB 5.6 MB/s \n",
            "\u001b[?25hCollecting azure-storage-common~=2.1\n",
            "  Downloading azure_storage_common-2.1.0-py2.py3-none-any.whl (47 kB)\n",
            "\u001b[?25l\r\u001b[K     |██████▉                         | 10 kB 30.3 MB/s eta 0:00:01\r\u001b[K     |█████████████▊                  | 20 kB 36.7 MB/s eta 0:00:01\r\u001b[K     |████████████████████▋           | 30 kB 45.1 MB/s eta 0:00:01\r\u001b[K     |███████████████████████████▍    | 40 kB 51.7 MB/s eta 0:00:01\r\u001b[K     |████████████████████████████████| 47 kB 5.3 MB/s \n",
            "\u001b[?25hCollecting azure-common>=1.1.5\n",
            "  Downloading azure_common-1.1.27-py2.py3-none-any.whl (12 kB)\n",
            "Collecting cryptography\n",
            "  Downloading cryptography-35.0.0-cp36-abi3-manylinux_2_24_x86_64.whl (3.5 MB)\n",
            "\u001b[K     |████████████████████████████████| 3.5 MB 42.0 MB/s \n",
            "\u001b[?25hRequirement already satisfied: python-dateutil in /usr/local/lib/python3.7/dist-packages (from azure-storage-common~=2.1->azure-storage-blob==2.1.0) (2.8.2)\n",
            "Requirement already satisfied: requests in /usr/local/lib/python3.7/dist-packages (from azure-storage-common~=2.1->azure-storage-blob==2.1.0) (2.23.0)\n",
            "Requirement already satisfied: cffi>=1.12 in /usr/local/lib/python3.7/dist-packages (from cryptography->azure-storage-common~=2.1->azure-storage-blob==2.1.0) (1.14.6)\n",
            "Requirement already satisfied: pycparser in /usr/local/lib/python3.7/dist-packages (from cffi>=1.12->cryptography->azure-storage-common~=2.1->azure-storage-blob==2.1.0) (2.20)\n",
            "Requirement already satisfied: six>=1.5 in /usr/local/lib/python3.7/dist-packages (from python-dateutil->azure-storage-common~=2.1->azure-storage-blob==2.1.0) (1.15.0)\n",
            "Requirement already satisfied: certifi>=2017.4.17 in /usr/local/lib/python3.7/dist-packages (from requests->azure-storage-common~=2.1->azure-storage-blob==2.1.0) (2021.5.30)\n",
            "Requirement already satisfied: urllib3!=1.25.0,!=1.25.1,<1.26,>=1.21.1 in /usr/local/lib/python3.7/dist-packages (from requests->azure-storage-common~=2.1->azure-storage-blob==2.1.0) (1.24.3)\n",
            "Requirement already satisfied: chardet<4,>=3.0.2 in /usr/local/lib/python3.7/dist-packages (from requests->azure-storage-common~=2.1->azure-storage-blob==2.1.0) (3.0.4)\n",
            "Requirement already satisfied: idna<3,>=2.5 in /usr/local/lib/python3.7/dist-packages (from requests->azure-storage-common~=2.1->azure-storage-blob==2.1.0) (2.10)\n",
            "Installing collected packages: cryptography, azure-common, azure-storage-common, azure-storage-blob\n",
            "Successfully installed azure-common-1.1.27 azure-storage-blob-2.1.0 azure-storage-common-2.1.0 cryptography-35.0.0\n"
          ]
        }
      ]
    },
    {
      "cell_type": "code",
      "metadata": {
        "id": "uZRZcO80cxBH"
      },
      "source": [
        "from azure.storage.blob import BlockBlobService\n",
        "import os"
      ],
      "execution_count": 9,
      "outputs": []
    },
    {
      "cell_type": "code",
      "metadata": {
        "id": "tJVMV5DMcyJT"
      },
      "source": [
        "blob_service_client = BlockBlobService(account_name='dent01', account_key='CuShY0B4TZJ84TjzPpaHxyrHOpO73aGXeCpdVq7x26OjIlQ1HOz+3DVc9pDEj9BdcEL8odFuTRF0mOAE+aCgiw==')"
      ],
      "execution_count": 10,
      "outputs": []
    },
    {
      "cell_type": "markdown",
      "metadata": {
        "id": "nNqTWrPIc2qX"
      },
      "source": [
        "#1.สร้างตัวแปรเฉดไกด์"
      ]
    },
    {
      "cell_type": "markdown",
      "metadata": {
        "id": "Z39xITwsdKL0"
      },
      "source": [
        "##Set2"
      ]
    },
    {
      "cell_type": "code",
      "metadata": {
        "id": "YQD6umVydO-P"
      },
      "source": [
        "S2_doubleA1A1_1 = '34F0629C-69B1-4125-85F4-7E496A7847A0.png'\n",
        "S2_doubleA1A2_1 = 'AEBFAF3C-11C4-4EF2-8260-5838F8F52013.png'\n",
        "S2_doubleA1A3_1 = 'CE6B785F-8B23-4F7D-8BB6-8E63EBC72E6C.png'\n",
        "S2_doubleA1A3_51 = '45233628-36DE-4FEE-B7CB-661E14EA313F.png'\n",
        "S2_doubleA1A4_1 = '1FBF4A8E-0006-44D2-9C08-61D87D8952A8.png'\n",
        "S2_doubleA1B1_1 = '1BFDB4C3-F7BE-4F15-B871-6B99CC85141B.png'\n",
        "S2_doubleA1B2_1 = '23C045CF-EE31-494D-8B99-BE985CE3725E.png'\n",
        "S2_doubleA1B3_1 = 'DBFDD2AC-0191-4C0D-AD17-0637A470462E.png'\n",
        "S2_doubleA1B4_1 = '56F27ADF-51AE-4EDB-828A-2F1C5F94583D.png'\n",
        "S2_doubleA1C1_1 = 'ABB8000F-17B5-47FB-85C2-716229841F14.png'\n",
        "S2_doubleA1C2_1 = 'A5FF2537-07B9-4280-BEBF-9D9E952E882B.png'\n",
        "S2_doubleA1C3_1 = '02CEA581-8594-4689-AB73-61778735FA7A.png'\n",
        "S2_doubleA1C4_1 = '4DCAC53D-53D8-4E07-A30F-8EAD67E34DA4.png'\n",
        "S2_doubleA1D2_1 = '79C85FCC-1A21-47FD-B903-3C9B74CB7A12.png'\n",
        "S2_doubleA1D3_1 = 'EB090E23-38A2-49E5-ACE0-C0F500AA9102.png'\n",
        "S2_doubleA1D4_1 = 'C69798C5-16B6-4A23-BD0A-0A6B4EC9B5CE.png'"
      ],
      "execution_count": 11,
      "outputs": []
    },
    {
      "cell_type": "markdown",
      "metadata": {
        "id": "Taw1dl5xglaj"
      },
      "source": [
        "#2. ดึงรูป"
      ]
    },
    {
      "cell_type": "code",
      "metadata": {
        "id": "jPe2WlLY4J0n"
      },
      "source": [
        "import cv2\n",
        "from matplotlib import pyplot as plt #การเรียกใช้คำสั่ง matplotlib เพื่อวาดกราฟ โดยแทนชื่อ matplotlib ด้วย plt\n",
        "import matplotlib"
      ],
      "execution_count": 12,
      "outputs": []
    },
    {
      "cell_type": "markdown",
      "metadata": {
        "id": "JmfKq8t7j28g"
      },
      "source": [
        "##Set2"
      ]
    },
    {
      "cell_type": "code",
      "metadata": {
        "id": "YG9ON04Hj7na",
        "colab": {
          "base_uri": "https://localhost:8080/"
        },
        "outputId": "b603adf9-4288-4205-bfd5-94c4853a2dba"
      },
      "source": [
        "full_path_to_file2 = os.path.join(S2_doubleA1A1_1) \n",
        "blob_service_client.get_blob_to_path('shadeimg', full_path_to_file2, full_path_to_file2)"
      ],
      "execution_count": 13,
      "outputs": [
        {
          "output_type": "execute_result",
          "data": {
            "text/plain": [
              "<azure.storage.blob.models.Blob at 0x7f74d231ba90>"
            ]
          },
          "metadata": {},
          "execution_count": 13
        }
      ]
    },
    {
      "cell_type": "code",
      "metadata": {
        "id": "fpIQGSx4j7na",
        "colab": {
          "base_uri": "https://localhost:8080/"
        },
        "outputId": "16a182e0-a033-47b9-8720-952fb90900fa"
      },
      "source": [
        "full_path_to_file2 = os.path.join(S2_doubleA1A2_1) \n",
        "blob_service_client.get_blob_to_path('shadeimg', full_path_to_file2, full_path_to_file2)"
      ],
      "execution_count": 14,
      "outputs": [
        {
          "output_type": "execute_result",
          "data": {
            "text/plain": [
              "<azure.storage.blob.models.Blob at 0x7f74d22afa10>"
            ]
          },
          "metadata": {},
          "execution_count": 14
        }
      ]
    },
    {
      "cell_type": "code",
      "metadata": {
        "id": "0vETkmqzj7na",
        "colab": {
          "base_uri": "https://localhost:8080/"
        },
        "outputId": "a0270940-67cf-4676-a78a-b1597d82af12"
      },
      "source": [
        "full_path_to_file2 = os.path.join(S2_doubleA1A3_1) \n",
        "blob_service_client.get_blob_to_path('shadeimg', full_path_to_file2, full_path_to_file2)"
      ],
      "execution_count": 15,
      "outputs": [
        {
          "output_type": "execute_result",
          "data": {
            "text/plain": [
              "<azure.storage.blob.models.Blob at 0x7f74d22af490>"
            ]
          },
          "metadata": {},
          "execution_count": 15
        }
      ]
    },
    {
      "cell_type": "code",
      "metadata": {
        "id": "l1GlwzPqj7nb",
        "colab": {
          "base_uri": "https://localhost:8080/"
        },
        "outputId": "b9a4b5db-1d99-4bf4-df34-608a53670189"
      },
      "source": [
        "full_path_to_file2 = os.path.join(S2_doubleA1A3_51) \n",
        "blob_service_client.get_blob_to_path('shadeimg', full_path_to_file2, full_path_to_file2)"
      ],
      "execution_count": 16,
      "outputs": [
        {
          "output_type": "execute_result",
          "data": {
            "text/plain": [
              "<azure.storage.blob.models.Blob at 0x7f74d22ce8d0>"
            ]
          },
          "metadata": {},
          "execution_count": 16
        }
      ]
    },
    {
      "cell_type": "code",
      "metadata": {
        "id": "qb0jvIuNj7nb",
        "colab": {
          "base_uri": "https://localhost:8080/"
        },
        "outputId": "d355ed0c-4502-4099-fbbd-b569bd3b3b66"
      },
      "source": [
        "full_path_to_file2 = os.path.join(S2_doubleA1A4_1) \n",
        "blob_service_client.get_blob_to_path('shadeimg', full_path_to_file2, full_path_to_file2)"
      ],
      "execution_count": 17,
      "outputs": [
        {
          "output_type": "execute_result",
          "data": {
            "text/plain": [
              "<azure.storage.blob.models.Blob at 0x7f74d22c7910>"
            ]
          },
          "metadata": {},
          "execution_count": 17
        }
      ]
    },
    {
      "cell_type": "code",
      "metadata": {
        "id": "lvYoBM2Lj7nb",
        "colab": {
          "base_uri": "https://localhost:8080/"
        },
        "outputId": "3387ca85-b609-484d-b15b-5e6f9ad130ca"
      },
      "source": [
        "full_path_to_file2 = os.path.join(S2_doubleA1B1_1) \n",
        "blob_service_client.get_blob_to_path('shadeimg', full_path_to_file2, full_path_to_file2)"
      ],
      "execution_count": 18,
      "outputs": [
        {
          "output_type": "execute_result",
          "data": {
            "text/plain": [
              "<azure.storage.blob.models.Blob at 0x7f74db51b650>"
            ]
          },
          "metadata": {},
          "execution_count": 18
        }
      ]
    },
    {
      "cell_type": "code",
      "metadata": {
        "id": "cWIIfSkgj7nb",
        "colab": {
          "base_uri": "https://localhost:8080/"
        },
        "outputId": "4766dfcc-c75a-4161-ca54-2c00a2c580c1"
      },
      "source": [
        "full_path_to_file2 = os.path.join(S2_doubleA1B2_1) \n",
        "blob_service_client.get_blob_to_path('shadeimg', full_path_to_file2, full_path_to_file2)"
      ],
      "execution_count": 19,
      "outputs": [
        {
          "output_type": "execute_result",
          "data": {
            "text/plain": [
              "<azure.storage.blob.models.Blob at 0x7f74db587d10>"
            ]
          },
          "metadata": {},
          "execution_count": 19
        }
      ]
    },
    {
      "cell_type": "code",
      "metadata": {
        "id": "xWiyHdd1j7nb",
        "colab": {
          "base_uri": "https://localhost:8080/"
        },
        "outputId": "bd20408b-e7d6-4a23-8ad1-123b988e30ed"
      },
      "source": [
        "full_path_to_file2 = os.path.join(S2_doubleA1B3_1) \n",
        "blob_service_client.get_blob_to_path('shadeimg', full_path_to_file2, full_path_to_file2)"
      ],
      "execution_count": 20,
      "outputs": [
        {
          "output_type": "execute_result",
          "data": {
            "text/plain": [
              "<azure.storage.blob.models.Blob at 0x7f74d2315fd0>"
            ]
          },
          "metadata": {},
          "execution_count": 20
        }
      ]
    },
    {
      "cell_type": "code",
      "metadata": {
        "id": "blRYp5Mmj7nc",
        "colab": {
          "base_uri": "https://localhost:8080/"
        },
        "outputId": "3a6d4084-71ca-4232-c55d-71f714c8f188"
      },
      "source": [
        "full_path_to_file2 = os.path.join(S2_doubleA1B4_1) \n",
        "blob_service_client.get_blob_to_path('shadeimg', full_path_to_file2, full_path_to_file2)"
      ],
      "execution_count": 21,
      "outputs": [
        {
          "output_type": "execute_result",
          "data": {
            "text/plain": [
              "<azure.storage.blob.models.Blob at 0x7f74d22c7590>"
            ]
          },
          "metadata": {},
          "execution_count": 21
        }
      ]
    },
    {
      "cell_type": "code",
      "metadata": {
        "id": "BzHII9hsj7nc",
        "colab": {
          "base_uri": "https://localhost:8080/"
        },
        "outputId": "4ef46033-bf1b-4070-dec2-a25a31b07a51"
      },
      "source": [
        "full_path_to_file2 = os.path.join(S2_doubleA1C1_1) \n",
        "blob_service_client.get_blob_to_path('shadeimg', full_path_to_file2, full_path_to_file2)"
      ],
      "execution_count": 22,
      "outputs": [
        {
          "output_type": "execute_result",
          "data": {
            "text/plain": [
              "<azure.storage.blob.models.Blob at 0x7f74d22e61d0>"
            ]
          },
          "metadata": {},
          "execution_count": 22
        }
      ]
    },
    {
      "cell_type": "code",
      "metadata": {
        "id": "86smhxkzj7nc",
        "colab": {
          "base_uri": "https://localhost:8080/"
        },
        "outputId": "7fb75769-add2-47fc-be16-49b8ab727b6c"
      },
      "source": [
        "full_path_to_file2 = os.path.join(S2_doubleA1C2_1) \n",
        "blob_service_client.get_blob_to_path('shadeimg', full_path_to_file2, full_path_to_file2)"
      ],
      "execution_count": 23,
      "outputs": [
        {
          "output_type": "execute_result",
          "data": {
            "text/plain": [
              "<azure.storage.blob.models.Blob at 0x7f74d1e4b3d0>"
            ]
          },
          "metadata": {},
          "execution_count": 23
        }
      ]
    },
    {
      "cell_type": "code",
      "metadata": {
        "id": "bUBV2WtFj7nc",
        "colab": {
          "base_uri": "https://localhost:8080/"
        },
        "outputId": "9a0f78c4-fe6d-4cd5-d051-d84a03fa478d"
      },
      "source": [
        "full_path_to_file2 = os.path.join(S2_doubleA1C3_1) \n",
        "blob_service_client.get_blob_to_path('shadeimg', full_path_to_file2, full_path_to_file2)"
      ],
      "execution_count": 24,
      "outputs": [
        {
          "output_type": "execute_result",
          "data": {
            "text/plain": [
              "<azure.storage.blob.models.Blob at 0x7f74e1d91450>"
            ]
          },
          "metadata": {},
          "execution_count": 24
        }
      ]
    },
    {
      "cell_type": "code",
      "metadata": {
        "id": "FKzepKgNj7nc",
        "colab": {
          "base_uri": "https://localhost:8080/"
        },
        "outputId": "08fd41e6-d8e1-4e7f-8cc5-c716911266e1"
      },
      "source": [
        "full_path_to_file2 = os.path.join(S2_doubleA1C4_1) \n",
        "blob_service_client.get_blob_to_path('shadeimg', full_path_to_file2, full_path_to_file2)"
      ],
      "execution_count": 25,
      "outputs": [
        {
          "output_type": "execute_result",
          "data": {
            "text/plain": [
              "<azure.storage.blob.models.Blob at 0x7f74d22df550>"
            ]
          },
          "metadata": {},
          "execution_count": 25
        }
      ]
    },
    {
      "cell_type": "code",
      "metadata": {
        "id": "YnvzMa_oj7nc",
        "colab": {
          "base_uri": "https://localhost:8080/"
        },
        "outputId": "2781cc50-6a6c-451c-9690-7346597db96c"
      },
      "source": [
        "full_path_to_file2 = os.path.join(S2_doubleA1D2_1) \n",
        "blob_service_client.get_blob_to_path('shadeimg', full_path_to_file2, full_path_to_file2)"
      ],
      "execution_count": 26,
      "outputs": [
        {
          "output_type": "execute_result",
          "data": {
            "text/plain": [
              "<azure.storage.blob.models.Blob at 0x7f74d22c7510>"
            ]
          },
          "metadata": {},
          "execution_count": 26
        }
      ]
    },
    {
      "cell_type": "code",
      "metadata": {
        "id": "03OpE9BUj7nd",
        "colab": {
          "base_uri": "https://localhost:8080/"
        },
        "outputId": "9a55ef04-80c0-4f08-f167-284badc24eae"
      },
      "source": [
        "full_path_to_file2 = os.path.join(S2_doubleA1D3_1) \n",
        "blob_service_client.get_blob_to_path('shadeimg', full_path_to_file2, full_path_to_file2)"
      ],
      "execution_count": 27,
      "outputs": [
        {
          "output_type": "execute_result",
          "data": {
            "text/plain": [
              "<azure.storage.blob.models.Blob at 0x7f74d22df090>"
            ]
          },
          "metadata": {},
          "execution_count": 27
        }
      ]
    },
    {
      "cell_type": "code",
      "metadata": {
        "id": "khY3eumjj7nd",
        "colab": {
          "base_uri": "https://localhost:8080/"
        },
        "outputId": "6c403b21-8269-41c0-efa4-cb9c14cc2f8b"
      },
      "source": [
        "full_path_to_file2 = os.path.join(S2_doubleA1D4_1) \n",
        "blob_service_client.get_blob_to_path('shadeimg', full_path_to_file2, full_path_to_file2)"
      ],
      "execution_count": 28,
      "outputs": [
        {
          "output_type": "execute_result",
          "data": {
            "text/plain": [
              "<azure.storage.blob.models.Blob at 0x7f74d22cecd0>"
            ]
          },
          "metadata": {},
          "execution_count": 28
        }
      ]
    },
    {
      "cell_type": "markdown",
      "metadata": {
        "id": "MtmXOojtqN4x"
      },
      "source": [
        "#3. BGR to RGB"
      ]
    },
    {
      "cell_type": "code",
      "metadata": {
        "id": "s8SS5YJfrpRC"
      },
      "source": [
        "import cv2\n",
        "from matplotlib import pyplot as plt #การเรียกใช้คำสั่ง matplotlib เพื่อวาดกราฟ โดยแทนชื่อ matplotlib ด้วย plt\n",
        "import matplotlib"
      ],
      "execution_count": 29,
      "outputs": []
    },
    {
      "cell_type": "markdown",
      "metadata": {
        "id": "ZVjFEQ3i6sbf"
      },
      "source": [
        "###Set2"
      ]
    },
    {
      "cell_type": "markdown",
      "metadata": {
        "id": "fgEIkVRczCyg"
      },
      "source": [
        "##RGB"
      ]
    },
    {
      "cell_type": "code",
      "metadata": {
        "id": "r2k_MxC66yPx"
      },
      "source": [
        "imgS2_A1A1_1  = cv2.imread(S2_doubleA1A1_1)\n",
        "S2RGB_imgA1A1_1= cv2.cvtColor(imgS2_A1A1_1, cv2.COLOR_BGR2RGB)"
      ],
      "execution_count": 30,
      "outputs": []
    },
    {
      "cell_type": "code",
      "metadata": {
        "id": "MHAmt38Z6yPx"
      },
      "source": [
        "imgS2_A1A2_1  = cv2.imread(S2_doubleA1A2_1)\n",
        "S2RGB_imgA1A2_1= cv2.cvtColor(imgS2_A1A2_1, cv2.COLOR_BGR2RGB)"
      ],
      "execution_count": 31,
      "outputs": []
    },
    {
      "cell_type": "code",
      "metadata": {
        "id": "6hh_c6Nz6yPx"
      },
      "source": [
        "imgS2_A1A3_1  = cv2.imread(S2_doubleA1A3_1)\n",
        "S2RGB_imgA1A3_1= cv2.cvtColor(imgS2_A1A3_1, cv2.COLOR_BGR2RGB)"
      ],
      "execution_count": 32,
      "outputs": []
    },
    {
      "cell_type": "code",
      "metadata": {
        "id": "6yyCk-0x6yPx"
      },
      "source": [
        "imgS2_A1A3_51  = cv2.imread(S2_doubleA1A3_51)\n",
        "S2RGB_imgA1A3_51= cv2.cvtColor(imgS2_A1A3_51, cv2.COLOR_BGR2RGB)"
      ],
      "execution_count": 33,
      "outputs": []
    },
    {
      "cell_type": "code",
      "metadata": {
        "id": "t6jh2NW16yPy"
      },
      "source": [
        "imgS2_A1A4_1  = cv2.imread(S2_doubleA1A4_1)\n",
        "S2RGB_imgA1A4_1= cv2.cvtColor(imgS2_A1A4_1, cv2.COLOR_BGR2RGB)"
      ],
      "execution_count": 34,
      "outputs": []
    },
    {
      "cell_type": "code",
      "metadata": {
        "id": "lRHgF5pG6yPy"
      },
      "source": [
        "imgS2_A1B1_1  = cv2.imread(S2_doubleA1B1_1)\n",
        "S2RGB_imgA1B1_1= cv2.cvtColor(imgS2_A1B1_1, cv2.COLOR_BGR2RGB)"
      ],
      "execution_count": 35,
      "outputs": []
    },
    {
      "cell_type": "code",
      "metadata": {
        "id": "P6XZGW0j6yPy"
      },
      "source": [
        "imgS2_A1B2_1  = cv2.imread(S2_doubleA1B2_1)\n",
        "S2RGB_imgA1B2_1= cv2.cvtColor(imgS2_A1B2_1, cv2.COLOR_BGR2RGB)"
      ],
      "execution_count": 36,
      "outputs": []
    },
    {
      "cell_type": "code",
      "metadata": {
        "id": "5i4HMcmU6yPy"
      },
      "source": [
        "imgS2_A1B3_1  = cv2.imread(S2_doubleA1B3_1)\n",
        "S2RGB_imgA1B3_1= cv2.cvtColor(imgS2_A1B3_1, cv2.COLOR_BGR2RGB)"
      ],
      "execution_count": 37,
      "outputs": []
    },
    {
      "cell_type": "code",
      "metadata": {
        "id": "DGJT9njO6yPy"
      },
      "source": [
        "imgS2_A1B4_1  = cv2.imread(S2_doubleA1B4_1)\n",
        "S2RGB_imgA1B4_1= cv2.cvtColor(imgS2_A1B4_1, cv2.COLOR_BGR2RGB)"
      ],
      "execution_count": 38,
      "outputs": []
    },
    {
      "cell_type": "code",
      "metadata": {
        "id": "sBlmlDZT6yPz"
      },
      "source": [
        "imgS2_A1C1_1  = cv2.imread(S2_doubleA1C1_1)\n",
        "S2RGB_imgA1C1_1= cv2.cvtColor(imgS2_A1C1_1, cv2.COLOR_BGR2RGB)"
      ],
      "execution_count": 39,
      "outputs": []
    },
    {
      "cell_type": "code",
      "metadata": {
        "id": "r06WNXcB6yPz"
      },
      "source": [
        "imgS2_A1C2_1  = cv2.imread(S2_doubleA1C2_1)\n",
        "S2RGB_imgA1C2_1= cv2.cvtColor(imgS2_A1C2_1, cv2.COLOR_BGR2RGB)"
      ],
      "execution_count": 40,
      "outputs": []
    },
    {
      "cell_type": "code",
      "metadata": {
        "id": "_zK6PC_D6yPz"
      },
      "source": [
        "imgS2_A1C3_1  = cv2.imread(S2_doubleA1C3_1)\n",
        "S2RGB_imgA1C3_1= cv2.cvtColor(imgS2_A1C3_1, cv2.COLOR_BGR2RGB)"
      ],
      "execution_count": 41,
      "outputs": []
    },
    {
      "cell_type": "code",
      "metadata": {
        "id": "tY93NDVF6yPz"
      },
      "source": [
        "imgS2_A1C4_1  = cv2.imread(S2_doubleA1C4_1)\n",
        "S2RGB_imgA1C4_1= cv2.cvtColor(imgS2_A1C4_1, cv2.COLOR_BGR2RGB)"
      ],
      "execution_count": 42,
      "outputs": []
    },
    {
      "cell_type": "code",
      "metadata": {
        "id": "za8vrXfM6yPz"
      },
      "source": [
        "imgS2_A1D2_1  = cv2.imread(S2_doubleA1D2_1)\n",
        "S2RGB_imgA1D2_1= cv2.cvtColor(imgS2_A1D2_1, cv2.COLOR_BGR2RGB)"
      ],
      "execution_count": 43,
      "outputs": []
    },
    {
      "cell_type": "code",
      "metadata": {
        "id": "m1SZS_Nk6yP0"
      },
      "source": [
        "imgS2_A1D3_1  = cv2.imread(S2_doubleA1D3_1)\n",
        "S2RGB_imgA1D3_1= cv2.cvtColor(imgS2_A1D3_1, cv2.COLOR_BGR2RGB)"
      ],
      "execution_count": 44,
      "outputs": []
    },
    {
      "cell_type": "code",
      "metadata": {
        "id": "sAzPsG0Z6yP0"
      },
      "source": [
        "imgS2_A1D4_1  = cv2.imread(S2_doubleA1D4_1)\n",
        "S2RGB_imgA1D4_1= cv2.cvtColor(imgS2_A1D4_1, cv2.COLOR_BGR2RGB)"
      ],
      "execution_count": 45,
      "outputs": []
    },
    {
      "cell_type": "markdown",
      "metadata": {
        "id": "tDXd1QPKzHnk"
      },
      "source": [
        "##HSV"
      ]
    },
    {
      "cell_type": "code",
      "metadata": {
        "colab": {
          "base_uri": "https://localhost:8080/",
          "height": 0
        },
        "id": "V7LoW4sLYP0V",
        "outputId": "b62ce1ad-2580-4987-9cad-e3da606669a0"
      },
      "source": [
        "S2_A1A1_1img  = cv2.imread(S2_doubleA1A1_1)\n",
        "S2HSV_imgA1A1_1= cv2.cvtColor(S2_A1A1_1img, cv2.COLOR_BGR2HSV)\n",
        "plt.imshow(S2HSV_imgA1A1_1)"
      ],
      "execution_count": 46,
      "outputs": [
        {
          "output_type": "execute_result",
          "data": {
            "text/plain": [
              "<matplotlib.image.AxesImage at 0x7f74d1e6cd90>"
            ]
          },
          "metadata": {},
          "execution_count": 46
        },
        {
          "output_type": "display_data",
          "data": {
            "image/png": "[encoded data removed]",
            "text/plain": [
              "<Figure size 432x288 with 1 Axes>"
            ]
          },
          "metadata": {
            "needs_background": "light"
          }
        }
      ]
    },
    {
      "cell_type": "code",
      "metadata": {
        "id": "se8UQIFwnL8I"
      },
      "source": [
        "S2_A1A2_1img  = cv2.imread(S2_doubleA1A2_1)\n",
        "S2HSV_imgA1A2_1= cv2.cvtColor(S2_A1A2_1img, cv2.COLOR_BGR2HSV)"
      ],
      "execution_count": 47,
      "outputs": []
    },
    {
      "cell_type": "code",
      "metadata": {
        "id": "NlS3nnjpnMIQ"
      },
      "source": [
        "S2_A1A3_1img  = cv2.imread(S2_doubleA1A3_1)\n",
        "S2HSV_imgA1A3_1= cv2.cvtColor(S2_A1A3_1img, cv2.COLOR_BGR2HSV)"
      ],
      "execution_count": 48,
      "outputs": []
    },
    {
      "cell_type": "code",
      "metadata": {
        "id": "gaiV37Atm-qM"
      },
      "source": [
        "S2_A1A3_51img  = cv2.imread(S2_doubleA1A3_51)\n",
        "S2HSV_imgA1A3_51= cv2.cvtColor(S2_A1A3_51img, cv2.COLOR_BGR2HSV)"
      ],
      "execution_count": 49,
      "outputs": []
    },
    {
      "cell_type": "code",
      "metadata": {
        "id": "b3l1xgJWm-r6"
      },
      "source": [
        "S2_A1A4_1img  = cv2.imread(S2_doubleA1A4_1)\n",
        "S2HSV_imgA1A4_1= cv2.cvtColor(S2_A1A4_1img, cv2.COLOR_BGR2HSV)"
      ],
      "execution_count": 50,
      "outputs": []
    },
    {
      "cell_type": "code",
      "metadata": {
        "id": "w26dE2E2m-ui"
      },
      "source": [
        "S2_A1B1_1img  = cv2.imread(S2_doubleA1B1_1)\n",
        "S2HSV_imgA1B1_1= cv2.cvtColor(S2_A1B1_1img, cv2.COLOR_BGR2HSV)"
      ],
      "execution_count": 51,
      "outputs": []
    },
    {
      "cell_type": "code",
      "metadata": {
        "id": "qq4hEemVm-wd"
      },
      "source": [
        "S2_A1B2_1img  = cv2.imread(S2_doubleA1B2_1)\n",
        "S2HSV_imgA1B2_1= cv2.cvtColor(S2_A1B2_1img, cv2.COLOR_BGR2HSV)"
      ],
      "execution_count": 52,
      "outputs": []
    },
    {
      "cell_type": "code",
      "metadata": {
        "id": "9TyEGSZmp7wg"
      },
      "source": [
        "S2_A1B3_1img  = cv2.imread(S2_doubleA1B3_1)\n",
        "S2HSV_imgA1B3_1= cv2.cvtColor(S2_A1B3_1img, cv2.COLOR_BGR2HSV)"
      ],
      "execution_count": 53,
      "outputs": []
    },
    {
      "cell_type": "code",
      "metadata": {
        "id": "8fg70FdZm-0y"
      },
      "source": [
        "S2_A1B4_1img  = cv2.imread(S2_doubleA1B4_1)\n",
        "S2HSV_imgA1B4_1= cv2.cvtColor(S2_A1B4_1img, cv2.COLOR_BGR2HSV)"
      ],
      "execution_count": 54,
      "outputs": []
    },
    {
      "cell_type": "code",
      "metadata": {
        "id": "86KJ5WjYqLAs"
      },
      "source": [
        "S2_A1C1_1img  = cv2.imread(S2_doubleA1C1_1)\n",
        "S2HSV_imgA1C1_1= cv2.cvtColor(S2_A1C1_1img, cv2.COLOR_BGR2HSV)"
      ],
      "execution_count": 55,
      "outputs": []
    },
    {
      "cell_type": "code",
      "metadata": {
        "id": "4o2oKmb-qLDu"
      },
      "source": [
        "S2_A1C2_1img  = cv2.imread(S2_doubleA1C2_1)\n",
        "S2HSV_imgA1C2_1= cv2.cvtColor(S2_A1C2_1img, cv2.COLOR_BGR2HSV)"
      ],
      "execution_count": 56,
      "outputs": []
    },
    {
      "cell_type": "code",
      "metadata": {
        "id": "0pGWlEU1qLHp"
      },
      "source": [
        "S2_A1C3_1img  = cv2.imread(S2_doubleA1C3_1)\n",
        "S2HSV_imgA1C3_1= cv2.cvtColor(S2_A1C3_1img, cv2.COLOR_BGR2HSV)"
      ],
      "execution_count": 57,
      "outputs": []
    },
    {
      "cell_type": "code",
      "metadata": {
        "id": "IZQIfJ4iqLKb"
      },
      "source": [
        "S2_A1C4_1img  = cv2.imread(S2_doubleA1C4_1)\n",
        "S2HSV_imgA1C4_1= cv2.cvtColor(S2_A1C4_1img, cv2.COLOR_BGR2HSV)"
      ],
      "execution_count": 58,
      "outputs": []
    },
    {
      "cell_type": "code",
      "metadata": {
        "id": "k_K9BBJpqLOi"
      },
      "source": [
        "S2_A1D2_1img  = cv2.imread(S2_doubleA1D2_1)\n",
        "S2HSV_imgA1D2_1= cv2.cvtColor(S2_A1D2_1img, cv2.COLOR_BGR2HSV)"
      ],
      "execution_count": 59,
      "outputs": []
    },
    {
      "cell_type": "code",
      "metadata": {
        "id": "v6YEm_v5quL_"
      },
      "source": [
        "S2_A1D3_1img  = cv2.imread(S2_doubleA1D3_1)\n",
        "S2HSV_imgA1D3_1= cv2.cvtColor(S2_A1D3_1img, cv2.COLOR_BGR2HSV)"
      ],
      "execution_count": 60,
      "outputs": []
    },
    {
      "cell_type": "code",
      "metadata": {
        "id": "SMvBLdQxm-3f"
      },
      "source": [
        "S2_A1D4_1img  = cv2.imread(S2_doubleA1D4_1)\n",
        "S2HSV_imgA1D4_1= cv2.cvtColor(S2_A1D4_1img, cv2.COLOR_BGR2HSV)"
      ],
      "execution_count": 61,
      "outputs": []
    },
    {
      "cell_type": "markdown",
      "metadata": {
        "id": "UNtZVBz0CQoq"
      },
      "source": [
        "#5. ดึงสี"
      ]
    },
    {
      "cell_type": "markdown",
      "metadata": {
        "id": "K3aE8wJsE9ve"
      },
      "source": [
        "###Set2"
      ]
    },
    {
      "cell_type": "markdown",
      "metadata": {
        "id": "U1HKIMJY1JrQ"
      },
      "source": [
        "##RGB"
      ]
    },
    {
      "cell_type": "code",
      "metadata": {
        "id": "khE2o3vOE_KV"
      },
      "source": [
        "S2A1_1= list()\n",
        "S2A1_2 = list()\n",
        "for i in range(S2RGB_imgA1A1_1.shape[0]): \n",
        "     for j in range(S2RGB_imgA1A1_1.shape[1]): \n",
        "                if 1770<i<1880 and 1700<j<1830 :\n",
        "                    S2A1_1.append(S2RGB_imgA1A1_1[i][j])\n",
        "                if 1770<i<1880 and 2015<j<2145 :\n",
        "                    S2A1_2.append(S2RGB_imgA1A1_1[i][j])   "
      ],
      "execution_count": 62,
      "outputs": []
    },
    {
      "cell_type": "code",
      "metadata": {
        "id": "4kCdvqwGE_KV"
      },
      "source": [
        "S2A1_3= list()\n",
        "S2A2_1 = list()\n",
        "for i in range(S2RGB_imgA1A2_1.shape[0]): \n",
        "     for j in range(S2RGB_imgA1A2_1.shape[1]): \n",
        "                if 1770<i<1880 and 1700<j<1830 :\n",
        "                    S2A1_3.append(S2RGB_imgA1A2_1[i][j])\n",
        "                if 1770<i<1880 and 2015<j<2145 :\n",
        "                    S2A2_1.append(S2RGB_imgA1A2_1[i][j])   "
      ],
      "execution_count": 63,
      "outputs": []
    },
    {
      "cell_type": "code",
      "metadata": {
        "id": "U0X6KhvhE_KV"
      },
      "source": [
        "S2A1_4= list()\n",
        "S2A3_1 = list()\n",
        "for i in range(S2RGB_imgA1A3_1.shape[0]): \n",
        "     for j in range(S2RGB_imgA1A3_1.shape[1]): \n",
        "                if 1770<i<1880 and 1700<j<1830 :\n",
        "                    S2A1_4.append(S2RGB_imgA1A3_1[i][j])\n",
        "                if 1770<i<1880 and 2015<j<2145 :\n",
        "                    S2A3_1.append(S2RGB_imgA1A3_1[i][j])   "
      ],
      "execution_count": 64,
      "outputs": []
    },
    {
      "cell_type": "code",
      "metadata": {
        "id": "BLFMGwWaE_KV"
      },
      "source": [
        "S2A1_5= list()\n",
        "S2A3_51 = list()\n",
        "for i in range(S2RGB_imgA1A3_51.shape[0]): \n",
        "     for j in range(S2RGB_imgA1A3_51.shape[1]): \n",
        "                if 1770<i<1880 and 1700<j<1830 :\n",
        "                    S2A1_5.append(S2RGB_imgA1A3_51[i][j])\n",
        "                if 1770<i<1880 and 2015<j<2145 :\n",
        "                    S2A3_51.append(S2RGB_imgA1A3_51[i][j])"
      ],
      "execution_count": 65,
      "outputs": []
    },
    {
      "cell_type": "code",
      "metadata": {
        "id": "6628zpddE_KV"
      },
      "source": [
        "S2A1_6= list()\n",
        "S2A4_1 = list()\n",
        "for i in range(S2RGB_imgA1A4_1.shape[0]): \n",
        "     for j in range(S2RGB_imgA1A4_1.shape[1]): \n",
        "                if 1770<i<1880 and 1700<j<1830 :\n",
        "                    S2A1_6.append(S2RGB_imgA1A4_1[i][j])\n",
        "                if 1770<i<1880 and 2015<j<2145 :\n",
        "                    S2A4_1.append(S2RGB_imgA1A4_1[i][j])"
      ],
      "execution_count": 66,
      "outputs": []
    },
    {
      "cell_type": "code",
      "metadata": {
        "id": "qi-Bb23SE_KV"
      },
      "source": [
        "S2A1_7= list()\n",
        "S2B1_1 = list()\n",
        "for i in range(S2RGB_imgA1B1_1.shape[0]): \n",
        "     for j in range(S2RGB_imgA1B1_1.shape[1]): \n",
        "                if 1770<i<1880 and 1700<j<1830 :\n",
        "                    S2A1_7.append(S2RGB_imgA1B1_1[i][j])\n",
        "                if 1770<i<1880 and 2015<j<2145 :\n",
        "                    S2B1_1.append(S2RGB_imgA1B1_1[i][j])"
      ],
      "execution_count": 67,
      "outputs": []
    },
    {
      "cell_type": "code",
      "metadata": {
        "id": "WdESh-zdE_KV"
      },
      "source": [
        "S2A1_8= list()\n",
        "S2B2_1 = list()\n",
        "for i in range(S2RGB_imgA1B2_1.shape[0]): \n",
        "     for j in range(S2RGB_imgA1B2_1.shape[1]): \n",
        "                if 1770<i<1880 and 1700<j<1830 :\n",
        "                    S2A1_8.append(S2RGB_imgA1B2_1[i][j])\n",
        "                if 1770<i<1880 and 2015<j<2145 :\n",
        "                    S2B2_1.append(S2RGB_imgA1B2_1[i][j])"
      ],
      "execution_count": 68,
      "outputs": []
    },
    {
      "cell_type": "code",
      "metadata": {
        "id": "jXnLb-2NE_KW"
      },
      "source": [
        "S2A1_9= list()\n",
        "S2B3_1 = list()\n",
        "for i in range(S2RGB_imgA1B3_1.shape[0]): \n",
        "     for j in range(S2RGB_imgA1B3_1.shape[1]): \n",
        "                if 1770<i<1880 and 1700<j<1830 :\n",
        "                    S2A1_9.append(S2RGB_imgA1B3_1[i][j])\n",
        "                if 1770<i<1880 and 2015<j<2145 :\n",
        "                    S2B3_1.append(S2RGB_imgA1B3_1[i][j])"
      ],
      "execution_count": 69,
      "outputs": []
    },
    {
      "cell_type": "code",
      "metadata": {
        "id": "6ISqriBWE_KW"
      },
      "source": [
        "S2A1_10= list()\n",
        "S2B4_1 = list()\n",
        "for i in range(S2RGB_imgA1B4_1.shape[0]): \n",
        "     for j in range(S2RGB_imgA1B4_1.shape[1]): \n",
        "                if 1770<i<1880 and 1700<j<1830 :\n",
        "                    S2A1_10.append(S2RGB_imgA1B4_1[i][j])\n",
        "                if 1770<i<1880 and 2015<j<2145 :\n",
        "                    S2B4_1.append(S2RGB_imgA1B4_1[i][j])"
      ],
      "execution_count": 70,
      "outputs": []
    },
    {
      "cell_type": "code",
      "metadata": {
        "id": "RebcKxFxE_KW"
      },
      "source": [
        "S2A1_11= list()\n",
        "S2C1_1 = list()\n",
        "for i in range(S2RGB_imgA1C1_1.shape[0]): \n",
        "     for j in range(S2RGB_imgA1C1_1.shape[1]): \n",
        "                if 1770<i<1880 and 1700<j<1830 :\n",
        "                    S2A1_11.append(S2RGB_imgA1C1_1[i][j])\n",
        "                if 1770<i<1880 and 2015<j<2145 :\n",
        "                    S2C1_1.append(S2RGB_imgA1C1_1[i][j])   "
      ],
      "execution_count": 71,
      "outputs": []
    },
    {
      "cell_type": "code",
      "metadata": {
        "id": "rYhPStMmE_KW"
      },
      "source": [
        "S2A1_12= list()\n",
        "S2C2_1 = list()\n",
        "for i in range(S2RGB_imgA1C2_1.shape[0]): \n",
        "     for j in range(S2RGB_imgA1C2_1.shape[1]): \n",
        "                if 1770<i<1880 and 1700<j<1830 :\n",
        "                    S2A1_12.append(S2RGB_imgA1C2_1[i][j])\n",
        "                if 1770<i<1880 and 2015<j<2145 :\n",
        "                    S2C2_1.append(S2RGB_imgA1C2_1[i][j])   "
      ],
      "execution_count": 72,
      "outputs": []
    },
    {
      "cell_type": "code",
      "metadata": {
        "id": "h3ox_cTcE_KW"
      },
      "source": [
        "S2A1_13= list()\n",
        "S2C3_1 = list()\n",
        "for i in range(S2RGB_imgA1C3_1.shape[0]): \n",
        "     for j in range(S2RGB_imgA1C3_1.shape[1]): \n",
        "                if 1770<i<1880 and 1700<j<1830 :\n",
        "                    S2A1_13.append(S2RGB_imgA1C3_1[i][j])\n",
        "                if 1770<i<1880 and 2015<j<2145 :\n",
        "                    S2C3_1.append(S2RGB_imgA1C3_1[i][j])   "
      ],
      "execution_count": 73,
      "outputs": []
    },
    {
      "cell_type": "code",
      "metadata": {
        "id": "5hciU69HE_KW"
      },
      "source": [
        "S2A1_14= list()\n",
        "S2C4_1 = list()\n",
        "for i in range(S2RGB_imgA1C4_1.shape[0]): \n",
        "     for j in range(S2RGB_imgA1C4_1.shape[1]): \n",
        "                if 1770<i<1880 and 1700<j<1830 :\n",
        "                    S2A1_14.append(S2RGB_imgA1C4_1[i][j])\n",
        "                if 1770<i<1880 and 2015<j<2145 :\n",
        "                    S2C4_1.append(S2RGB_imgA1C4_1[i][j])"
      ],
      "execution_count": 74,
      "outputs": []
    },
    {
      "cell_type": "code",
      "metadata": {
        "id": "-PIfd58aE_KW"
      },
      "source": [
        "S2A1_15= list()\n",
        "S2D2_1 = list()\n",
        "for i in range(S2RGB_imgA1C2_1.shape[0]): \n",
        "     for j in range(S2RGB_imgA1D2_1.shape[1]): \n",
        "                if 1770<i<1880 and 1700<j<1830 :\n",
        "                    S2A1_15.append(S2RGB_imgA1D2_1[i][j])\n",
        "                if 1770<i<1880 and 2015<j<2145 :\n",
        "                    S2D2_1.append(S2RGB_imgA1D2_1[i][j])   "
      ],
      "execution_count": 75,
      "outputs": []
    },
    {
      "cell_type": "code",
      "metadata": {
        "id": "RWWQk81wE_KW"
      },
      "source": [
        "S2A1_16= list()\n",
        "S2D3_1 = list()\n",
        "for i in range(S2RGB_imgA1D3_1.shape[0]): \n",
        "     for j in range(S2RGB_imgA1D3_1.shape[1]): \n",
        "                if 1770<i<1880 and 1700<j<1830 :\n",
        "                    S2A1_16.append(S2RGB_imgA1D3_1[i][j])\n",
        "                if 1770<i<1880 and 2015<j<2145 :\n",
        "                    S2D3_1.append(S2RGB_imgA1D3_1[i][j])   "
      ],
      "execution_count": 76,
      "outputs": []
    },
    {
      "cell_type": "code",
      "metadata": {
        "id": "--ESatmJE_KW"
      },
      "source": [
        "S2A1_17= list()\n",
        "S2D4_1 = list()\n",
        "for i in range(S2RGB_imgA1D4_1.shape[0]): \n",
        "     for j in range(S2RGB_imgA1D4_1.shape[1]): \n",
        "                if 1770<i<1880 and 1700<j<1830 :\n",
        "                    S2A1_14.append(S2RGB_imgA1D4_1[i][j])\n",
        "                if 1770<i<1880 and 2015<j<2145 :\n",
        "                    S2D4_1.append(S2RGB_imgA1D4_1[i][j])"
      ],
      "execution_count": 77,
      "outputs": []
    },
    {
      "cell_type": "markdown",
      "metadata": {
        "id": "JkoDeeMU1OW7"
      },
      "source": [
        "##HSV"
      ]
    },
    {
      "cell_type": "code",
      "metadata": {
        "id": "xu-qOwpl1pQb"
      },
      "source": [
        "S2A1_1= list()\n",
        "S2A1_2 = list()\n",
        "for i in range(S2HSV_imgA1A1_1.shape[0]): \n",
        "     for j in range(S2HSV_imgA1A1_1.shape[1]): \n",
        "                if 1770<i<1880 and 1700<j<1830 :\n",
        "                    S2A1_1.append(S2HSV_imgA1A1_1[i][j])\n",
        "                if 1770<i<1880 and 2015<j<2145 :\n",
        "                    S2A1_2.append(S2HSV_imgA1A1_1[i][j])   "
      ],
      "execution_count": 78,
      "outputs": []
    },
    {
      "cell_type": "code",
      "metadata": {
        "id": "_fpgN85Z1pQc"
      },
      "source": [
        "S2A1_3= list()\n",
        "S2A2_1 = list()\n",
        "for i in range(S2HSV_imgA1A2_1.shape[0]): \n",
        "     for j in range(S2HSV_imgA1A2_1.shape[1]): \n",
        "                if 1770<i<1880 and 1700<j<1830 :\n",
        "                    S2A1_3.append(S2HSV_imgA1A2_1[i][j])\n",
        "                if 1770<i<1880 and  2015<j<2145 :\n",
        "                   S2A2_1.append(S2HSV_imgA1A2_1[i][j])   "
      ],
      "execution_count": 79,
      "outputs": []
    },
    {
      "cell_type": "code",
      "metadata": {
        "id": "1OVw3fvj1pQc"
      },
      "source": [
        "S2A1_4= list()\n",
        "S2A3_1 = list()\n",
        "for i in range(S2HSV_imgA1A3_1.shape[0]): \n",
        "     for j in range(S2HSV_imgA1A3_1.shape[1]): \n",
        "                if 1770<i<1880 and 1700<j<1830 :\n",
        "                    S2A1_4.append(S2HSV_imgA1A3_1[i][j])\n",
        "                if 1770<i<1880 and 2015<j<2145 :\n",
        "                    S2A3_1.append(S2HSV_imgA1A3_1[i][j])   "
      ],
      "execution_count": 80,
      "outputs": []
    },
    {
      "cell_type": "code",
      "metadata": {
        "id": "8V2Atb3t1pQd"
      },
      "source": [
        "S2A1_5= list()\n",
        "S2A3_51 = list()\n",
        "for i in range(S2HSV_imgA1A3_51.shape[0]): \n",
        "     for j in range(S2HSV_imgA1A3_51.shape[1]): \n",
        "                if 1770<i<1880 and 1700<j<1830 :\n",
        "                    S2A1_5.append(S2HSV_imgA1A3_51[i][j])\n",
        "                if 1770<i<1880 and 2015<j<2145 :\n",
        "                    S2A3_51.append(S2HSV_imgA1A3_51[i][j])"
      ],
      "execution_count": 81,
      "outputs": []
    },
    {
      "cell_type": "code",
      "metadata": {
        "id": "6q5mOaKO1pQd"
      },
      "source": [
        "S2A1_6= list()\n",
        "S2A4_1 = list()\n",
        "for i in range(S2HSV_imgA1A4_1.shape[0]): \n",
        "     for j in range(S2HSV_imgA1A4_1.shape[1]): \n",
        "                if 1770<i<1880 and 1700<j<1830 :\n",
        "                    S2A1_6.append(S2HSV_imgA1A4_1[i][j])\n",
        "                if 1770<i<1880 and 2015<j<2145 :\n",
        "                    S2A4_1.append(S2HSV_imgA1A4_1[i][j])"
      ],
      "execution_count": 82,
      "outputs": []
    },
    {
      "cell_type": "code",
      "metadata": {
        "id": "STyt6nic1pQd"
      },
      "source": [
        "S2A1_7= list()\n",
        "S2B1_1 = list()\n",
        "for i in range(S2HSV_imgA1B1_1.shape[0]): \n",
        "     for j in range(S2HSV_imgA1B1_1.shape[1]): \n",
        "                if 1770<i<1880 and 1700<j<1830 :\n",
        "                    S2A1_7.append(S2HSV_imgA1B1_1[i][j])\n",
        "                if 1770<i<1880 and 2015<j<2145 :\n",
        "                    S2B1_1.append(S2HSV_imgA1B1_1[i][j])"
      ],
      "execution_count": 83,
      "outputs": []
    },
    {
      "cell_type": "code",
      "metadata": {
        "id": "ReMsaPxH1pQe"
      },
      "source": [
        "S2A1_8= list()\n",
        "S2B2_1 = list()\n",
        "for i in range(S2HSV_imgA1B2_1.shape[0]): \n",
        "     for j in range(S2HSV_imgA1B2_1.shape[1]): \n",
        "                if 1770<i<1880 and 1700<j<1830 :\n",
        "                    S2A1_8.append(S2HSV_imgA1B2_1[i][j])\n",
        "                if 1770<i<1880 and 2015<j<2145 :\n",
        "                    S2B2_1.append(S2HSV_imgA1B2_1[i][j])"
      ],
      "execution_count": 84,
      "outputs": []
    },
    {
      "cell_type": "code",
      "metadata": {
        "id": "wtik5ajT1pQe"
      },
      "source": [
        "S2A1_9= list()\n",
        "S2B3_1 = list()\n",
        "for i in range(S2HSV_imgA1B3_1.shape[0]): \n",
        "     for j in range(S2HSV_imgA1B3_1.shape[1]): \n",
        "                if 1770<i<1880 and 1700<j<1830 :\n",
        "                    S2A1_9.append(S2HSV_imgA1B3_1[i][j])\n",
        "                if 1770<i<1880 and 2015<j<2145 :\n",
        "                    S2B3_1.append(S2HSV_imgA1B3_1[i][j])"
      ],
      "execution_count": 85,
      "outputs": []
    },
    {
      "cell_type": "code",
      "metadata": {
        "id": "zjbrsCW41pQe"
      },
      "source": [
        "S2A1_10= list()\n",
        "S2B4_1 = list()\n",
        "for i in range(S2HSV_imgA1B4_1.shape[0]): \n",
        "     for j in range(S2HSV_imgA1B4_1.shape[1]): \n",
        "                if 1770<i<1880 and 1700<j<1830 :\n",
        "                    S2A1_10.append(S2HSV_imgA1B4_1[i][j])\n",
        "                if 1770<i<1880 and 2015<j<2145 :\n",
        "                    S2B4_1.append(S2HSV_imgA1B4_1[i][j])"
      ],
      "execution_count": 86,
      "outputs": []
    },
    {
      "cell_type": "code",
      "metadata": {
        "id": "QLyRshs21pQe"
      },
      "source": [
        "S2A1_11= list()\n",
        "S2C1_1 = list()\n",
        "for i in range(S2HSV_imgA1C1_1.shape[0]): \n",
        "     for j in range(S2HSV_imgA1C1_1.shape[1]): \n",
        "                if 1770<i<1880 and 1700<j<1830 :\n",
        "                    S2A1_11.append(S2HSV_imgA1C1_1[i][j])\n",
        "                if 1770<i<1880 and 2015<j<2145 :\n",
        "                    S2C1_1.append(S2HSV_imgA1C1_1[i][j])   "
      ],
      "execution_count": 87,
      "outputs": []
    },
    {
      "cell_type": "code",
      "metadata": {
        "id": "tRI8V22i1pQe"
      },
      "source": [
        "S2A1_12= list()\n",
        "S2C2_1 = list()\n",
        "for i in range(S2HSV_imgA1C2_1.shape[0]): \n",
        "     for j in range(S2HSV_imgA1C2_1.shape[1]): \n",
        "                if 1770<i<1880 and 1700<j<1830 :\n",
        "                    S2A1_12.append(S2HSV_imgA1C2_1[i][j])\n",
        "                if 1770<i<1880 and 2015<j<2145 :\n",
        "                    S2C2_1.append(S2HSV_imgA1C2_1[i][j])   "
      ],
      "execution_count": 88,
      "outputs": []
    },
    {
      "cell_type": "code",
      "metadata": {
        "id": "sjDrbszJ1pQf"
      },
      "source": [
        "S2A1_13= list()\n",
        "S2C3_1 = list()\n",
        "for i in range(S2HSV_imgA1C3_1.shape[0]): \n",
        "     for j in range(S2HSV_imgA1C3_1.shape[1]): \n",
        "                if 1770<i<1880 and 1700<j<1830 :\n",
        "                    S2A1_13.append(S2HSV_imgA1C3_1[i][j])\n",
        "                if 1770<i<1880 and 2015<j<2145 :\n",
        "                    S2C3_1.append(S2HSV_imgA1C3_1[i][j])   "
      ],
      "execution_count": 89,
      "outputs": []
    },
    {
      "cell_type": "code",
      "metadata": {
        "id": "SLE_khFl1pQf"
      },
      "source": [
        "S2A1_14= list()\n",
        "S2C4_1 = list()\n",
        "for i in range(S2HSV_imgA1C4_1.shape[0]): \n",
        "     for j in range(S2HSV_imgA1C4_1.shape[1]): \n",
        "                if 1770<i<1880 and 1700<j<1830 :\n",
        "                    S2A1_14.append(S2HSV_imgA1C4_1[i][j])\n",
        "                if 1770<i<1880 and 2015<j<2145 :\n",
        "                    S2C4_1.append(S2HSV_imgA1C4_1[i][j])"
      ],
      "execution_count": 90,
      "outputs": []
    },
    {
      "cell_type": "code",
      "metadata": {
        "id": "Wdfz2kJt1pQf"
      },
      "source": [
        "S2A1_15= list()\n",
        "S2D2_1 = list()\n",
        "for i in range(S2HSV_imgA1C2_1.shape[0]): \n",
        "     for j in range(S2HSV_imgA1D2_1.shape[1]): \n",
        "                if 1770<i<1880 and 1700<j<1830 :\n",
        "                    S2A1_15.append(S2HSV_imgA1D2_1[i][j])\n",
        "                if 1770<i<1880 and 2015<j<2145 :\n",
        "                    S2D2_1.append(S2HSV_imgA1D2_1[i][j])   "
      ],
      "execution_count": 91,
      "outputs": []
    },
    {
      "cell_type": "code",
      "metadata": {
        "id": "fsIp_g_f1pQf"
      },
      "source": [
        "S2A1_16= list()\n",
        "S2D3_1 = list()\n",
        "for i in range(S2HSV_imgA1D3_1.shape[0]): \n",
        "          for j in range(S2HSV_imgA1D3_1.shape[1]): \n",
        "                if 1770<i<1880 and 1700<j<1830 :\n",
        "                    S2A1_16.append(S2HSV_imgA1D3_1[i][j])\n",
        "                if 1770<i<1880 and 2015<j<2145 :\n",
        "                    S2D3_1.append(S2HSV_imgA1D3_1[i][j])   "
      ],
      "execution_count": 92,
      "outputs": []
    },
    {
      "cell_type": "code",
      "metadata": {
        "id": "XgdLikLO1pQg"
      },
      "source": [
        "S2A1_17= list()\n",
        "S2D4_1 = list()\n",
        "for i in range(S2HSV_imgA1D4_1.shape[0]): \n",
        "     for j in range(S2HSV_imgA1D4_1.shape[1]): \n",
        "                if 1770<i<1880 and 1700<j<1830 :\n",
        "                    S2A1_14.append(S2HSV_imgA1D4_1[i][j])\n",
        "                if 1770<i<1880 and 2015<j<2145 :\n",
        "                    S2D4_1.append(S2HSV_imgA1D4_1[i][j])"
      ],
      "execution_count": 93,
      "outputs": []
    },
    {
      "cell_type": "markdown",
      "metadata": {
        "id": "7KPqBEcdIXnZ"
      },
      "source": [
        "#6. หาค่า Mean"
      ]
    },
    {
      "cell_type": "code",
      "metadata": {
        "id": "tePep_ujIfg2"
      },
      "source": [
        "import numpy as np"
      ],
      "execution_count": 94,
      "outputs": []
    },
    {
      "cell_type": "markdown",
      "metadata": {
        "id": "kW9nrJkJOI4F"
      },
      "source": [
        "###Set2"
      ]
    },
    {
      "cell_type": "markdown",
      "metadata": {
        "id": "KRCnqhuC3ovu"
      },
      "source": [
        "##RGB"
      ]
    },
    {
      "cell_type": "code",
      "metadata": {
        "id": "D6_wAmquOT_h"
      },
      "source": [
        "S2meanrefA1_1 = list()\n",
        "S2meanA1_2 = list()\n",
        "for i in range(S2RGB_imgA1A1_1.shape[0]): #ให้ i รันตาม row หรือ shape[0] คือแถว มีทั้งหมด 4032 แถว ของภาพที่ปรับขนาดมาแล้ว\n",
        "     for j in range(S2RGB_imgA1A1_1.shape[1]): #ให้ j รันตาม colum มีทั้งหมด 3024 colum เช่น แถวที่ 1 เข้ามาให้รันครบ 3024colum\n",
        "                if 1769<i<1881 and 2019<j<2131 :\n",
        "                  S2meanrefA1_1.append(S2RGB_imgA1A1_1[i][j])\n",
        "                if 1770<i<1880 and 2015<j<2145 :\n",
        "                  S2meanA1_2.append(S2RGB_imgA1A1_1[i][j])  \n",
        "S2meanrefA1_1 = np.array(S2meanrefA1_1)\n",
        "S2meanA1_2 = np.array(S2meanA1_2)\n",
        "\n",
        "S2rgbrefA1_1 = list()\n",
        "S2rgbA1_2 = list()\n",
        "for i in range(3):\n",
        "    S2rgbrefA1_1.append(S2meanrefA1_1[:,i].mean())\n",
        "    S2rgbA1_2.append(S2meanA1_2[:,i].mean()) "
      ],
      "execution_count": 95,
      "outputs": []
    },
    {
      "cell_type": "code",
      "metadata": {
        "id": "EJlQhqC7OT_i"
      },
      "source": [
        "S2meanrefA1_3 = list()\n",
        "S2meanA2_1 = list()\n",
        "for i in range(S2RGB_imgA1A2_1.shape[0]): \n",
        "     for j in range(S2RGB_imgA1A2_1.shape[1]): \n",
        "                if 1769<i<1881 and 2019<j<2131 :\n",
        "                  S2meanrefA1_3.append(S2RGB_imgA1A2_1[i][j])\n",
        "                if 1770<i<1880 and 2015<j<2145 :\n",
        "                  S2meanA2_1.append(S2RGB_imgA1A2_1[i][j])  \n",
        "S2meanrefA1_3 = np.array(S2meanrefA1_3)\n",
        "S2meanA2_1 = np.array(S2meanA2_1)\n",
        "\n",
        "S2rgbrefA1_3 = list()\n",
        "S2rgbA2_1 = list()\n",
        "for i in range(3):\n",
        "    S2rgbrefA1_3.append(S2meanrefA1_3[:,i].mean())\n",
        "    S2rgbA2_1.append(S2meanA2_1[:,i].mean())"
      ],
      "execution_count": 96,
      "outputs": []
    },
    {
      "cell_type": "code",
      "metadata": {
        "id": "I_f-AfX0OT_i"
      },
      "source": [
        "S2meanrefA1_4 = list()\n",
        "S2meanA3_1 = list()\n",
        "for i in range(S2RGB_imgA1A3_1.shape[0]): \n",
        "     for j in range(S2RGB_imgA1A3_1.shape[1]): \n",
        "                if 1769<i<1881 and 2019<j<2131 :\n",
        "                  S2meanrefA1_4.append(S2RGB_imgA1A3_1[i][j])\n",
        "                if 1770<i<1880 and 2015<j<2145 :\n",
        "                  S2meanA3_1.append(S2RGB_imgA1A3_1[i][j])  \n",
        "S2meanrefA1_4 = np.array(S2meanrefA1_4)\n",
        "S2meanA3_1 = np.array(S2meanA3_1)\n",
        "\n",
        "S2rgbrefA1_4 = list()\n",
        "S2rgbA3_1 = list()\n",
        "for i in range(3):\n",
        "    S2rgbrefA1_4.append(S2meanrefA1_4[:,i].mean())\n",
        "    S2rgbA3_1.append(S2meanA3_1[:,i].mean())"
      ],
      "execution_count": 97,
      "outputs": []
    },
    {
      "cell_type": "code",
      "metadata": {
        "id": "JG9hcu4-OT_i"
      },
      "source": [
        "S2meanrefA1_5 = list()\n",
        "S2meanA3_51 = list()\n",
        "for i in range(S2RGB_imgA1A3_51.shape[0]): \n",
        "     for j in range(S2RGB_imgA1A3_51.shape[1]): \n",
        "                if 1769<i<1881 and 2019<j<2131 :\n",
        "                  S2meanrefA1_5.append(S2RGB_imgA1A3_51[i][j])\n",
        "                if 1770<i<1880 and 2015<j<2145 :\n",
        "                  S2meanA3_51.append(S2RGB_imgA1A3_51[i][j])  \n",
        "S2meanrefA1_5 = np.array(S2meanrefA1_5)\n",
        "S2meanA3_51 = np.array(S2meanA3_51)\n",
        "\n",
        "S2rgbrefA1_5 = list()\n",
        "S2rgbA3_51 = list()\n",
        "for i in range(3):\n",
        "    S2rgbrefA1_5.append(S2meanrefA1_5[:,i].mean())\n",
        "    S2rgbA3_51.append(S2meanA3_51[:,i].mean())"
      ],
      "execution_count": 98,
      "outputs": []
    },
    {
      "cell_type": "code",
      "metadata": {
        "id": "Mj0RQI7UOT_i"
      },
      "source": [
        "S2meanrefA1_6 = list()\n",
        "S2meanA4_1 = list()\n",
        "for i in range(S2RGB_imgA1A4_1.shape[0]): \n",
        "     for j in range(S2RGB_imgA1A4_1.shape[1]): \n",
        "                if 1769<i<1881 and 2019<j<2131 :\n",
        "                  S2meanrefA1_6.append(S2RGB_imgA1A4_1[i][j])\n",
        "                if 1770<i<1880 and 2015<j<2145 :\n",
        "                  S2meanA4_1.append(S2RGB_imgA1A4_1[i][j])  \n",
        "S2meanrefA1_6 = np.array(S2meanrefA1_6)\n",
        "S2meanA4_1 = np.array(S2meanA4_1)\n",
        "\n",
        "S2rgbrefA1_6 = list()\n",
        "S2rgbA4_1 = list()\n",
        "for i in range(3):\n",
        "    S2rgbrefA1_6.append(S2meanrefA1_6[:,i].mean())\n",
        "    S2rgbA4_1.append(S2meanA4_1[:,i].mean())"
      ],
      "execution_count": 99,
      "outputs": []
    },
    {
      "cell_type": "code",
      "metadata": {
        "id": "Zd07YLK8OT_i"
      },
      "source": [
        "S2meanrefA1_7 = list()\n",
        "S2meanB1_1 = list()\n",
        "for i in range(S2RGB_imgA1B1_1.shape[0]): \n",
        "     for j in range(S2RGB_imgA1B1_1.shape[1]): \n",
        "                if 1769<i<1881 and 2019<j<2131 :\n",
        "                  S2meanrefA1_7.append(S2RGB_imgA1B1_1[i][j])\n",
        "                if 1770<i<1880 and 2015<j<2145 :\n",
        "                  S2meanB1_1.append(S2RGB_imgA1B1_1[i][j])  \n",
        "S2meanrefA1_7 = np.array(S2meanrefA1_7)\n",
        "S2meanB1_1 = np.array(S2meanB1_1)\n",
        "\n",
        "S2rgbrefA1_7 = list()\n",
        "S2rgbB1_1 = list()\n",
        "for i in range(3):\n",
        "    S2rgbrefA1_7.append(S2meanrefA1_7[:,i].mean())\n",
        "    S2rgbB1_1.append(S2meanB1_1[:,i].mean())"
      ],
      "execution_count": 100,
      "outputs": []
    },
    {
      "cell_type": "code",
      "metadata": {
        "id": "pnAhSHoAOT_i"
      },
      "source": [
        "S2meanrefA1_8 = list()\n",
        "S2meanB2_1 = list()\n",
        "for i in range(S2RGB_imgA1B2_1.shape[0]): \n",
        "     for j in range(S2RGB_imgA1B2_1.shape[1]): \n",
        "                if 1769<i<1881 and 2019<j<2131 :\n",
        "                  S2meanrefA1_8.append(S2RGB_imgA1B2_1[i][j])\n",
        "                if 1770<i<1880 and 2015<j<2145 :\n",
        "                  S2meanB2_1.append(S2RGB_imgA1B2_1[i][j])  \n",
        "S2meanrefA1_8 = np.array(S2meanrefA1_8)\n",
        "S2meanB2_1 = np.array(S2meanB2_1)\n",
        "\n",
        "S2rgbrefA1_8 = list()\n",
        "S2rgbB2_1 = list()\n",
        "for i in range(3):\n",
        "    S2rgbrefA1_8.append(S2meanrefA1_8[:,i].mean())\n",
        "    S2rgbB2_1.append(S2meanB2_1[:,i].mean())"
      ],
      "execution_count": 101,
      "outputs": []
    },
    {
      "cell_type": "code",
      "metadata": {
        "id": "EvxR0vtzOT_j"
      },
      "source": [
        "S2meanrefA1_9 = list()\n",
        "S2meanB3_1 = list()\n",
        "for i in range(S2RGB_imgA1B3_1.shape[0]): \n",
        "     for j in range(S2RGB_imgA1B3_1.shape[1]): \n",
        "                if 1769<i<1881 and 2019<j<2131 :\n",
        "                  S2meanrefA1_9.append(S2RGB_imgA1B3_1[i][j])\n",
        "                if 1770<i<1880 and 2015<j<2145 :\n",
        "                  S2meanB3_1.append(S2RGB_imgA1B3_1[i][j])  \n",
        "S2meanrefA1_9 = np.array(S2meanrefA1_9)\n",
        "S2meanB3_1 = np.array(S2meanB3_1)\n",
        "\n",
        "S2rgbrefA1_9 = list()\n",
        "S2rgbB3_1 = list()\n",
        "for i in range(3):\n",
        "    S2rgbrefA1_9.append(S2meanrefA1_9[:,i].mean())\n",
        "    S2rgbB3_1.append(S2meanB3_1[:,i].mean())"
      ],
      "execution_count": 102,
      "outputs": []
    },
    {
      "cell_type": "code",
      "metadata": {
        "id": "UWZfSBsiOT_j"
      },
      "source": [
        "S2meanrefA1_10 = list()\n",
        "S2meanB4_1 = list()\n",
        "for i in range(S2RGB_imgA1B4_1.shape[0]): \n",
        "     for j in range(S2RGB_imgA1B4_1.shape[1]): \n",
        "                if 1769<i<1881 and 2019<j<2131 :\n",
        "                  S2meanrefA1_10.append(S2RGB_imgA1B4_1[i][j])\n",
        "                if 1770<i<1880 and 2015<j<2145 :\n",
        "                  S2meanB4_1.append(S2RGB_imgA1B4_1[i][j])  \n",
        "S2meanrefA1_10 = np.array(S2meanrefA1_10)\n",
        "S2meanB4_1 = np.array(S2meanB4_1)\n",
        "\n",
        "S2rgbrefA1_10 = list()\n",
        "S2rgbB4_1 = list()\n",
        "for i in range(3):\n",
        "    S2rgbrefA1_10.append(S2meanrefA1_10[:,i].mean())\n",
        "    S2rgbB4_1.append(S2meanB4_1[:,i].mean())"
      ],
      "execution_count": 103,
      "outputs": []
    },
    {
      "cell_type": "code",
      "metadata": {
        "id": "E0iL7_rvOT_j"
      },
      "source": [
        "S2meanrefA1_11 = list()\n",
        "S2meanC1_1 = list()\n",
        "for i in range(S2RGB_imgA1C1_1.shape[0]): \n",
        "     for j in range(S2RGB_imgA1C1_1.shape[1]): \n",
        "                if 1769<i<1881 and 2019<j<2131 :\n",
        "                  S2meanrefA1_11.append(S2RGB_imgA1C1_1[i][j])\n",
        "                if 1770<i<1880 and 2015<j<2145 :\n",
        "                  S2meanC1_1.append(S2RGB_imgA1C1_1[i][j])  \n",
        "S2meanrefA1_11 = np.array(S2meanrefA1_11)\n",
        "S2meanC1_1 = np.array(S2meanC1_1)\n",
        "\n",
        "S2rgbrefA1_11 = list()\n",
        "S2rgbC1_1 = list()\n",
        "for i in range(3):\n",
        "    S2rgbrefA1_11.append(S2meanrefA1_11[:,i].mean())\n",
        "    S2rgbC1_1.append(S2meanC1_1[:,i].mean())"
      ],
      "execution_count": 160,
      "outputs": []
    },
    {
      "cell_type": "code",
      "metadata": {
        "id": "xYQ3ccu-OT_j"
      },
      "source": [
        "S2meanrefA1_12 = list()\n",
        "S2meanC2_1 = list()\n",
        "for i in range(S2RGB_imgA1C2_1.shape[0]): \n",
        "     for j in range(S2RGB_imgA1C2_1.shape[1]): \n",
        "                if 1769<i<1881 and 2019<j<2131 :\n",
        "                  S2meanrefA1_12.append(S2RGB_imgA1C2_1[i][j])\n",
        "                if 1770<i<1880 and 2015<j<2145 :\n",
        "                  S2meanC2_1.append(S2RGB_imgA1C2_1[i][j])  \n",
        "S2meanrefA1_12 = np.array(S2meanrefA1_12)\n",
        "S2meanC2_1 = np.array(S2meanC2_1)\n",
        "\n",
        "S2rgbrefA1_12 = list()\n",
        "S2rgbC2_1 = list()\n",
        "for i in range(3):\n",
        "    S2rgbrefA1_12.append(S2meanrefA1_12[:,i].mean())\n",
        "    S2rgbC2_1.append(S2meanC2_1[:,i].mean())"
      ],
      "execution_count": 105,
      "outputs": []
    },
    {
      "cell_type": "code",
      "metadata": {
        "id": "K7ZfvmhMOT_j"
      },
      "source": [
        "S2meanrefA1_13 = list()\n",
        "S2meanC3_1 = list()\n",
        "for i in range(S2RGB_imgA1C3_1.shape[0]): \n",
        "     for j in range(S2RGB_imgA1C3_1.shape[1]): \n",
        "                if 1769<i<1881 and 2019<j<2131 :\n",
        "                  S2meanrefA1_13.append(S2RGB_imgA1C3_1[i][j])\n",
        "                if 1770<i<1880 and 2015<j<2145 :\n",
        "                  S2meanC3_1.append(S2RGB_imgA1C3_1[i][j])  \n",
        "S2meanrefA1_13 = np.array(S2meanrefA1_13)\n",
        "S2meanC3_1 = np.array(S2meanC3_1)\n",
        "\n",
        "S2rgbrefA1_13 = list()\n",
        "S2rgbC3_1 = list()\n",
        "for i in range(3):\n",
        "    S2rgbrefA1_13.append(S2meanrefA1_13[:,i].mean())\n",
        "    S2rgbC3_1.append(S2meanC3_1[:,i].mean())"
      ],
      "execution_count": 106,
      "outputs": []
    },
    {
      "cell_type": "code",
      "metadata": {
        "id": "JnYE-7tIOT_j"
      },
      "source": [
        "S2meanrefA1_14 = list()\n",
        "S2meanC4_1 = list()\n",
        "for i in range(S2RGB_imgA1C4_1.shape[0]): \n",
        "     for j in range(S2RGB_imgA1C4_1.shape[1]): \n",
        "                if 1769<i<1881 and 2019<j<2131 :\n",
        "                  S2meanrefA1_14.append(S2RGB_imgA1C4_1[i][j])\n",
        "                if 1770<i<1880 and 2015<j<2145 :\n",
        "                  S2meanC4_1.append(S2RGB_imgA1C4_1[i][j])  \n",
        "S2meanrefA1_14 = np.array(S2meanrefA1_14)\n",
        "S2meanC4_1 = np.array(S2meanC4_1)\n",
        "\n",
        "S2rgbrefA1_14 = list()\n",
        "S2rgbC4_1 = list()\n",
        "for i in range(3):\n",
        "    S2rgbrefA1_14.append(S2meanrefA1_14[:,i].mean())\n",
        "    S2rgbC4_1.append(S2meanC4_1[:,i].mean())"
      ],
      "execution_count": 107,
      "outputs": []
    },
    {
      "cell_type": "code",
      "metadata": {
        "id": "whwVWrEAOT_j"
      },
      "source": [
        "S2meanrefA1_15 = list()\n",
        "S2meanD2_1 = list()\n",
        "for i in range(S2RGB_imgA1D2_1.shape[0]): \n",
        "     for j in range(S2RGB_imgA1D2_1.shape[1]): \n",
        "                if 1769<i<1881 and 2019<j<2131 :\n",
        "                  S2meanrefA1_15.append(S2RGB_imgA1D2_1[i][j])\n",
        "                if 1770<i<1880 and 2015<j<2145 :\n",
        "                  S2meanD2_1.append(S2RGB_imgA1D2_1[i][j])  \n",
        "S2meanrefA1_15 = np.array(S2meanrefA1_15)\n",
        "S2meanD2_1 = np.array(S2meanD2_1)\n",
        "\n",
        "S2rgbrefA1_15 = list()\n",
        "S2rgbD2_1 = list()\n",
        "for i in range(3):\n",
        "    S2rgbrefA1_15.append(S2meanrefA1_15[:,i].mean())\n",
        "    S2rgbD2_1.append(S2meanD2_1[:,i].mean())"
      ],
      "execution_count": 108,
      "outputs": []
    },
    {
      "cell_type": "code",
      "metadata": {
        "id": "UQ7zahmJOT_j"
      },
      "source": [
        "S2meanrefA1_16 = list()\n",
        "S2meanD3_1 = list()\n",
        "for i in range(S2RGB_imgA1D3_1.shape[0]): \n",
        "     for j in range(S2RGB_imgA1D3_1.shape[1]): \n",
        "                if 1769<i<1881 and 2019<j<2131 :\n",
        "                  S2meanrefA1_16.append(S2RGB_imgA1D3_1[i][j])\n",
        "                if 1770<i<1880 and 2015<j<2145 :\n",
        "                  S2meanD3_1.append(S2RGB_imgA1D3_1[i][j])  \n",
        "S2meanrefA1_16 = np.array(S2meanrefA1_16)\n",
        "S2meanD3_1 = np.array(S2meanD3_1)\n",
        "\n",
        "S2rgbrefA1_16 = list()\n",
        "S2rgbD3_1 = list()\n",
        "for i in range(3):\n",
        "    S2rgbrefA1_16.append(S2meanrefA1_16[:,i].mean())\n",
        "    S2rgbD3_1.append(S2meanD3_1[:,i].mean())"
      ],
      "execution_count": 109,
      "outputs": []
    },
    {
      "cell_type": "code",
      "metadata": {
        "id": "bYnOvjjUOT_k"
      },
      "source": [
        "S2meanrefA1_17= list()\n",
        "S2meanD4_1 = list()\n",
        "for i in range(S2RGB_imgA1D4_1.shape[0]): \n",
        "     for j in range(S2RGB_imgA1D4_1.shape[1]): \n",
        "                if 1769<i<1881 and 2019<j<2131 :\n",
        "                  S2meanrefA1_17.append(S2RGB_imgA1D4_1[i][j])\n",
        "                if 1770<i<1880 and 2015<j<2145 :\n",
        "                  S2meanD4_1.append(S2RGB_imgA1D4_1[i][j])  \n",
        "S2meanrefA1_17 = np.array(S2meanrefA1_14)\n",
        "S2meanD4_1 = np.array(S2meanD4_1)\n",
        "\n",
        "S2rgbrefA1_17 = list()\n",
        "S2rgbD4_1 = list()\n",
        "for i in range(3):\n",
        "    S2rgbrefA1_17.append(S2meanrefA1_17[:,i].mean())\n",
        "    S2rgbD4_1.append(S2meanD4_1[:,i].mean())"
      ],
      "execution_count": 110,
      "outputs": []
    },
    {
      "cell_type": "markdown",
      "metadata": {
        "id": "K91ffP7A3z1p"
      },
      "source": [
        "##HSV"
      ]
    },
    {
      "cell_type": "code",
      "metadata": {
        "id": "-7UCG8W938EP"
      },
      "source": [
        "S2meanrefA1_1 = list()\n",
        "S2meanA1_2 = list()\n",
        "for i in range(S2HSV_imgA1A1_1.shape[0]): #ให้ i รันตาม row หรือ shape[0] คือแถว มีทั้งหมด 4032 แถว ของภาพที่ปรับขนาดมาแล้ว\n",
        "     for j in range(S2HSV_imgA1A1_1.shape[1]): #ให้ j รันตาม colum มีทั้งหมด 3024 colum เช่น แถวที่ 1 เข้ามาให้รันครบ 3024colum\n",
        "                if 1769<i<1881 and 2019<j<2131 :\n",
        "                  S2meanrefA1_1.append(S2HSV_imgA1A1_1[i][j])\n",
        "                if 1770<i<1880 and 2015<j<2145 :\n",
        "                  S2meanA1_2.append(S2HSV_imgA1A1_1[i][j])  \n",
        "S2meanrefA1_1 = np.array(S2meanrefA1_1)\n",
        "S2meanA1_2 = np.array(S2meanA1_2)\n",
        "\n",
        "S2hsvrefA1_1 = list()\n",
        "S2hsvA1_2 = list()\n",
        "for i in range(3):\n",
        "    S2hsvrefA1_1.append(S2meanrefA1_1[:,i].mean())\n",
        "    S2hsvA1_2.append(S2meanA1_2[:,i].mean()) "
      ],
      "execution_count": 111,
      "outputs": []
    },
    {
      "cell_type": "code",
      "metadata": {
        "id": "62Gs05XN38EQ"
      },
      "source": [
        "S2meanrefA1_3 = list()\n",
        "S2meanA2_1 = list()\n",
        "for i in range(S2HSV_imgA1A2_1.shape[0]): \n",
        "     for j in range(S2HSV_imgA1A2_1.shape[1]): \n",
        "                if 1769<i<1881 and 2019<j<2131 :\n",
        "                  S2meanrefA1_3.append(S2HSV_imgA1A2_1[i][j])\n",
        "                if 1770<i<1880 and 2015<j<2145 :\n",
        "                  S2meanA2_1.append(S2HSV_imgA1A2_1[i][j])  \n",
        "S2meanrefA1_3 = np.array(S2meanrefA1_3)\n",
        "S2meanA2_1 = np.array(S2meanA2_1)\n",
        "\n",
        "S2hsvrefA1_3 = list()\n",
        "S2hsvA2_1 = list()\n",
        "for i in range(3):\n",
        "    S2hsvrefA1_3.append(S2meanrefA1_3[:,i].mean())\n",
        "    S2hsvA2_1.append(S2meanA2_1[:,i].mean())"
      ],
      "execution_count": 112,
      "outputs": []
    },
    {
      "cell_type": "code",
      "metadata": {
        "id": "rDdOPqR038EQ"
      },
      "source": [
        "S2meanrefA1_4 = list()\n",
        "S2meanA3_1 = list()\n",
        "for i in range(S2HSV_imgA1A3_1.shape[0]): \n",
        "     for j in range(S2HSV_imgA1A3_1.shape[1]): \n",
        "                if 1769<i<1881 and 2019<j<2131 :\n",
        "                  S2meanrefA1_4.append(S2HSV_imgA1A3_1[i][j])\n",
        "                if 1770<i<1880 and 2015<j<2145 :\n",
        "                  S2meanA3_1.append(S2HSV_imgA1A3_1[i][j])  \n",
        "S2meanrefA1_4 = np.array(S2meanrefA1_4)\n",
        "S2meanA3_1 = np.array(S2meanA3_1)\n",
        "\n",
        "S2hsvrefA1_4 = list()\n",
        "S2hsvA3_1 = list()\n",
        "for i in range(3):\n",
        "    S2hsvrefA1_4.append(S2meanrefA1_4[:,i].mean())\n",
        "    S2hsvA3_1.append(S2meanA3_1[:,i].mean())"
      ],
      "execution_count": 113,
      "outputs": []
    },
    {
      "cell_type": "code",
      "metadata": {
        "id": "PQG1Hr-e38ER"
      },
      "source": [
        "S2meanrefA1_5 = list()\n",
        "S2meanA3_51 = list()\n",
        "for i in range(S2HSV_imgA1A3_51.shape[0]): \n",
        "     for j in range(S2HSV_imgA1A3_51.shape[1]): \n",
        "                if 1769<i<1881 and 2019<j<2131 :\n",
        "                  S2meanrefA1_5.append(S2HSV_imgA1A3_51[i][j])\n",
        "                if 1770<i<1880 and 2015<j<2145 :\n",
        "                  S2meanA3_51.append(S2HSV_imgA1A3_51[i][j])  \n",
        "S2meanrefA1_5 = np.array(S2meanrefA1_5)\n",
        "S2meanA3_51 = np.array(S2meanA3_51)\n",
        "\n",
        "S2hsvrefA1_5 = list()\n",
        "S2hsvA3_51 = list()\n",
        "for i in range(3):\n",
        "    S2hsvrefA1_5.append(S2meanrefA1_5[:,i].mean())\n",
        "    S2hsvA3_51.append(S2meanA3_51[:,i].mean())"
      ],
      "execution_count": 114,
      "outputs": []
    },
    {
      "cell_type": "code",
      "metadata": {
        "id": "-gyjMDPc38ER"
      },
      "source": [
        "S2meanrefA1_6 = list()\n",
        "S2meanA4_1 = list()\n",
        "for i in range(S2HSV_imgA1A4_1.shape[0]): \n",
        "     for j in range(S2HSV_imgA1A4_1.shape[1]): \n",
        "                if 1769<i<1881 and 2019<j<2131 :\n",
        "                  S2meanrefA1_6.append(S2HSV_imgA1A4_1[i][j])\n",
        "                if 1770<i<1880 and 2015<j<2145 :\n",
        "                  S2meanA4_1.append(S2HSV_imgA1A4_1[i][j])  \n",
        "S2meanrefA1_6 = np.array(S2meanrefA1_6)\n",
        "S2meanA4_1 = np.array(S2meanA4_1)\n",
        "\n",
        "S2hsvrefA1_6 = list()\n",
        "S2hsvA4_1 = list()\n",
        "for i in range(3):\n",
        "    S2hsvrefA1_6.append(S2meanrefA1_6[:,i].mean())\n",
        "    S2hsvA4_1.append(S2meanA4_1[:,i].mean())"
      ],
      "execution_count": 115,
      "outputs": []
    },
    {
      "cell_type": "code",
      "metadata": {
        "id": "AHL4-ILN38ER"
      },
      "source": [
        "S2meanrefA1_7 = list()\n",
        "S2meanB1_1 = list()\n",
        "for i in range(S2HSV_imgA1B1_1.shape[0]): \n",
        "     for j in range(S2HSV_imgA1B1_1.shape[1]): \n",
        "                if 1769<i<1881 and 2019<j<2131 :\n",
        "                  S2meanrefA1_7.append(S2HSV_imgA1B1_1[i][j])\n",
        "                if 1770<i<1880 and 2015<j<2145 :\n",
        "                  S2meanB1_1.append(S2HSV_imgA1B1_1[i][j])  \n",
        "S2meanrefA1_7 = np.array(S2meanrefA1_7)\n",
        "S2meanB1_1 = np.array(S2meanB1_1)\n",
        "\n",
        "S2hsvrefA1_7 = list()\n",
        "S2hsvB1_1 = list()\n",
        "for i in range(3):\n",
        "    S2hsvrefA1_7.append(S2meanrefA1_7[:,i].mean())\n",
        "    S2hsvB1_1.append(S2meanB1_1[:,i].mean())"
      ],
      "execution_count": 116,
      "outputs": []
    },
    {
      "cell_type": "code",
      "metadata": {
        "id": "5zl5t_oP38ES"
      },
      "source": [
        "S2meanrefA1_8 = list()\n",
        "S2meanB2_1 = list()\n",
        "for i in range(S2HSV_imgA1B2_1.shape[0]): \n",
        "     for j in range(S2HSV_imgA1B2_1.shape[1]): \n",
        "                if 1769<i<1881 and 2019<j<2131 :\n",
        "                  S2meanrefA1_8.append(S2HSV_imgA1B2_1[i][j])\n",
        "                if 1770<i<1880 and 2015<j<2145 :\n",
        "                  S2meanB2_1.append(S2HSV_imgA1B2_1[i][j])  \n",
        "S2meanrefA1_8 = np.array(S2meanrefA1_8)\n",
        "S2meanB2_1 = np.array(S2meanB2_1)\n",
        "\n",
        "S2hsvrefA1_8 = list()\n",
        "S2hsvB2_1 = list()\n",
        "for i in range(3):\n",
        "    S2hsvrefA1_8.append(S2meanrefA1_8[:,i].mean())\n",
        "    S2hsvB2_1.append(S2meanB2_1[:,i].mean())"
      ],
      "execution_count": 117,
      "outputs": []
    },
    {
      "cell_type": "code",
      "metadata": {
        "id": "E1RqZXxZ38ES"
      },
      "source": [
        "S2meanrefA1_9 = list()\n",
        "S2meanB3_1 = list()\n",
        "for i in range(S2HSV_imgA1B3_1.shape[0]): \n",
        "     for j in range(S2HSV_imgA1B3_1.shape[1]): \n",
        "                if 1769<i<1881 and 2019<j<2131 :\n",
        "                  S2meanrefA1_9.append(S2HSV_imgA1B3_1[i][j])\n",
        "                if 1770<i<1880 and 2015<j<2145 :\n",
        "                  S2meanB3_1.append(S2HSV_imgA1B3_1[i][j])  \n",
        "S2meanrefA1_9 = np.array(S2meanrefA1_9)\n",
        "S2meanB3_1 = np.array(S2meanB3_1)\n",
        "\n",
        "S2hsvrefA1_9 = list()\n",
        "S2hsvB3_1 = list()\n",
        "for i in range(3):\n",
        "    S2hsvrefA1_9.append(S2meanrefA1_9[:,i].mean())\n",
        "    S2hsvB3_1.append(S2meanB3_1[:,i].mean())"
      ],
      "execution_count": 153,
      "outputs": []
    },
    {
      "cell_type": "code",
      "metadata": {
        "id": "p3kHLyi538ES"
      },
      "source": [
        "S2meanrefA1_10 = list()\n",
        "S2meanB4_1 = list()\n",
        "for i in range(S2HSV_imgA1B4_1.shape[0]): \n",
        "     for j in range(S2HSV_imgA1B4_1.shape[1]): \n",
        "                if 1769<i<1881 and 2019<j<2131 :\n",
        "                  S2meanrefA1_10.append(S2HSV_imgA1B4_1[i][j])\n",
        "                if 1770<i<1880 and 2015<j<2145 :\n",
        "                  S2meanB4_1.append(S2HSV_imgA1B4_1[i][j])  \n",
        "S2meanrefA1_10 = np.array(S2meanrefA1_10)\n",
        "S2meanB4_1 = np.array(S2meanB4_1)\n",
        "\n",
        "S2hsvrefA1_10 = list()\n",
        "S2hsvB4_1 = list()\n",
        "for i in range(3):\n",
        "    S2hsvrefA1_10.append(S2meanrefA1_10[:,i].mean())\n",
        "    S2hsvB4_1.append(S2meanB4_1[:,i].mean())"
      ],
      "execution_count": 119,
      "outputs": []
    },
    {
      "cell_type": "code",
      "metadata": {
        "id": "O8w3LpXU38ET"
      },
      "source": [
        "S2meanrefA1_11 = list()\n",
        "S2meanC1_1 = list()\n",
        "for i in range(S2HSV_imgA1C1_1.shape[0]): \n",
        "     for j in range(S2HSV_imgA1C1_1.shape[1]): \n",
        "                if 1769<i<1881 and 2019<j<2131 :\n",
        "                  S2meanrefA1_11.append(S2HSV_imgA1C1_1[i][j])\n",
        "                if 1770<i<1880 and 2015<j<2145 :\n",
        "                   S2meanC1_1.append(S2HSV_imgA1C1_1[i][j])  \n",
        "S2meanrefA1_11 = np.array(S2meanrefA1_11)\n",
        "S2meanC1_1 = np.array(S2meanC1_1)\n",
        "\n",
        "S2hsvrefA1_11 = list()\n",
        "S2hsvC1_1 = list()\n",
        "for i in range(3):\n",
        "    S2hsvrefA1_11.append(S2meanrefA1_11[:,i].mean())\n",
        "    S2hsvC1_1.append(S2meanC1_1[:,i].mean())"
      ],
      "execution_count": 162,
      "outputs": []
    },
    {
      "cell_type": "code",
      "metadata": {
        "id": "AzOf_HLF38ET"
      },
      "source": [
        "S2meanrefA1_12 = list()\n",
        "S2meanC2_1 = list()\n",
        "for i in range(S2HSV_imgA1C2_1.shape[0]): \n",
        "     for j in range(S2HSV_imgA1C2_1.shape[1]): \n",
        "                if 1769<i<1881 and 2019<j<2131 :\n",
        "                  S2meanrefA1_12.append(S2HSV_imgA1C2_1[i][j])\n",
        "                if 1770<i<1880 and 2015<j<2145 :\n",
        "                  S2meanC2_1.append(S2HSV_imgA1C2_1[i][j])  \n",
        "S2meanrefA1_12 = np.array(S2meanrefA1_12)\n",
        "S2meanC2_1 = np.array(S2meanC2_1)\n",
        "\n",
        "S2hsvrefA1_12 = list()\n",
        "S2hsvC2_1 = list()\n",
        "for i in range(3):\n",
        "    S2hsvrefA1_12.append(S2meanrefA1_12[:,i].mean())\n",
        "    S2hsvC2_1.append(S2meanC2_1[:,i].mean())"
      ],
      "execution_count": 121,
      "outputs": []
    },
    {
      "cell_type": "code",
      "metadata": {
        "id": "jwE3nPXZ38ET"
      },
      "source": [
        "S2meanrefA1_13 = list()\n",
        "S2meanC3_1 = list()\n",
        "for i in range(S2HSV_imgA1C3_1.shape[0]): \n",
        "     for j in range(S2HSV_imgA1C3_1.shape[1]): \n",
        "                if 1769<i<1881 and 2019<j<2131 :\n",
        "                  S2meanrefA1_13.append(S2HSV_imgA1C3_1[i][j])\n",
        "                if 1770<i<1880 and 2015<j<2145 :\n",
        "                  S2meanC3_1.append(S2HSV_imgA1C3_1[i][j])  \n",
        "S2meanrefA1_13 = np.array(S2meanrefA1_13)\n",
        "S2meanC3_1 = np.array(S2meanC3_1)\n",
        "\n",
        "S2hsvrefA1_13 = list()\n",
        "S2hsvC3_1 = list()\n",
        "for i in range(3):\n",
        "    S2hsvrefA1_13.append(S2meanrefA1_13[:,i].mean())\n",
        "    S2hsvC3_1.append(S2meanC3_1[:,i].mean())"
      ],
      "execution_count": 122,
      "outputs": []
    },
    {
      "cell_type": "code",
      "metadata": {
        "id": "5CiV9v1738EU"
      },
      "source": [
        "S2meanrefA1_14 = list()\n",
        "S2meanC4_1 = list()\n",
        "for i in range(S2HSV_imgA1C4_1.shape[0]): \n",
        "     for j in range(S2HSV_imgA1C4_1.shape[1]): \n",
        "                if 1769<i<1881 and 2019<j<2131 :\n",
        "                  S2meanrefA1_14.append(S2HSV_imgA1C4_1[i][j])\n",
        "                if 1770<i<1880 and 2015<j<2145 :\n",
        "                  S2meanC4_1.append(S2HSV_imgA1C4_1[i][j])  \n",
        "S2meanrefA1_14 = np.array(S2meanrefA1_14)\n",
        "S2meanC4_1 = np.array(S2meanC4_1)\n",
        "\n",
        "S2hsvrefA1_14 = list()\n",
        "S2hsvC4_1 = list()\n",
        "for i in range(3):\n",
        "    S2hsvrefA1_14.append(S2meanrefA1_14[:,i].mean())\n",
        "    S2hsvC4_1.append(S2meanC4_1[:,i].mean())"
      ],
      "execution_count": 123,
      "outputs": []
    },
    {
      "cell_type": "code",
      "metadata": {
        "id": "FQZ1oTeg38EU"
      },
      "source": [
        "S2meanrefA1_15 = list()\n",
        "S2meanD2_1 = list()\n",
        "for i in range(S2HSV_imgA1D2_1.shape[0]): \n",
        "     for j in range(S2HSV_imgA1D2_1.shape[1]): \n",
        "                if 1769<i<1881 and 2019<j<2131 :\n",
        "                  S2meanrefA1_15.append(S2HSV_imgA1D2_1[i][j])\n",
        "                if 1770<i<1880 and 2015<j<2145 :\n",
        "                  S2meanD2_1.append(S2HSV_imgA1D2_1[i][j])  \n",
        "S2meanrefA1_15 = np.array(S2meanrefA1_15)\n",
        "S2meanD2_1 = np.array(S2meanD2_1)\n",
        "\n",
        "S2hsvrefA1_15 = list()\n",
        "S2hsvD2_1 = list()\n",
        "for i in range(3):\n",
        "    S2hsvrefA1_15.append(S2meanrefA1_15[:,i].mean())\n",
        "    S2hsvD2_1.append(S2meanD2_1[:,i].mean())"
      ],
      "execution_count": 124,
      "outputs": []
    },
    {
      "cell_type": "code",
      "metadata": {
        "id": "wr9WHr4N38EV"
      },
      "source": [
        "S2meanrefA1_16 = list()\n",
        "S2meanD3_1 = list()\n",
        "for i in range(S2HSV_imgA1D3_1.shape[0]): \n",
        "     for j in range(S2HSV_imgA1D3_1.shape[1]): \n",
        "                if 1769<i<1881 and 2019<j<2131 :\n",
        "                  S2meanrefA1_16.append(S2HSV_imgA1D3_1[i][j])\n",
        "                if 1770<i<1880 and 2015<j<2145 :\n",
        "                  S2meanD3_1.append(S2HSV_imgA1D3_1[i][j])  \n",
        "S2meanrefA1_16 = np.array(S2meanrefA1_16)\n",
        "S2meanD3_1 = np.array(S2meanD3_1)\n",
        "\n",
        "S2hsvrefA1_16 = list()\n",
        "S2hsvD3_1 = list()\n",
        "for i in range(3):\n",
        "    S2hsvrefA1_16.append(S2meanrefA1_16[:,i].mean())\n",
        "    S2hsvD3_1.append(S2meanD3_1[:,i].mean())"
      ],
      "execution_count": 125,
      "outputs": []
    },
    {
      "cell_type": "code",
      "metadata": {
        "id": "jkHML5jK38EV"
      },
      "source": [
        "S2meanrefA1_17= list()\n",
        "S2meanD4_1 = list()\n",
        "for i in range(S2HSV_imgA1D4_1.shape[0]): \n",
        "     for j in range(S2HSV_imgA1D4_1.shape[1]): \n",
        "                if 1769<i<1881 and 2019<j<2131 :\n",
        "                  S2meanrefA1_17.append(S2HSV_imgA1D4_1[i][j])\n",
        "                if 1770<i<1880 and 2015<j<2145 :\n",
        "                  S2meanD4_1.append(S2HSV_imgA1D4_1[i][j])  \n",
        "S2meanrefA1_17 = np.array(S2meanrefA1_14)\n",
        "S2meanD4_1 = np.array(S2meanD4_1)\n",
        "\n",
        "S2hsvrefA1_17 = list()\n",
        "S2hsvD4_1 = list()\n",
        "for i in range(3):\n",
        "    S2hsvrefA1_17.append(S2meanrefA1_17[:,i].mean())\n",
        "    S2hsvD4_1.append(S2meanD4_1[:,i].mean())"
      ],
      "execution_count": 126,
      "outputs": []
    },
    {
      "cell_type": "markdown",
      "metadata": {
        "id": "bj6l6WST9LF1"
      },
      "source": [
        "#7.สร้างตาราง"
      ]
    },
    {
      "cell_type": "code",
      "metadata": {
        "id": "kqF3EyLCnsRT"
      },
      "source": [
        "from tabulate import tabulate"
      ],
      "execution_count": 127,
      "outputs": []
    },
    {
      "cell_type": "code",
      "metadata": {
        "id": "KeEMet3vn0Ca"
      },
      "source": [
        "table   = [['R-ref', 'G-ref', 'B-ref', 'R-Shad', 'G-Shad', 'B-Shad', 'H-ref', 'S-ref', 'V-ref', 'H-Shad', 'S-Shad', 'V-Shad', 'Shade-ref', 'Shade', 'Setting']]"
      ],
      "execution_count": 128,
      "outputs": []
    },
    {
      "cell_type": "code",
      "metadata": {
        "id": "A4selP0on4FN"
      },
      "source": [
        "df2 = pd.DataFrame({'R-ref': [S2rgbrefA1_1[0],S2rgbrefA1_3[0],S2rgbrefA1_4[0], S2rgbrefA1_5[0], S2rgbrefA1_6[0],S2rgbrefA1_7[0], S2rgbrefA1_8[0],S2rgbrefA1_9[0], S2rgbrefA1_10[0], S2rgbrefA1_11[0], S2rgbrefA1_12[0], S2rgbrefA1_13[0], S2rgbrefA1_14[0], S2rgbrefA1_15[0], S2rgbrefA1_16[0], S2rgbrefA1_17[0]],\n",
        "    'G-ref': [S2rgbrefA1_1[1], S2rgbrefA1_3[1], S2rgbrefA1_4[1], S2rgbrefA1_5[1], S2rgbrefA1_6[1], S2rgbrefA1_7[1], S2rgbrefA1_8[1], S2rgbrefA1_9[1], S2rgbrefA1_10[1], S2rgbrefA1_11[1], S2rgbrefA1_12[1], S2rgbrefA1_13[1], S2rgbrefA1_14[1], S2rgbrefA1_15[1], S2rgbrefA1_16[1], S2rgbrefA1_17[1]],\n",
        "    'B-ref': [S2rgbrefA1_1[2],S2rgbrefA1_3[2],S2rgbrefA1_4[2],S2rgbrefA1_5[2], S2rgbrefA1_6[2],S2rgbrefA1_7[2], S2rgbrefA1_8[2],S2rgbrefA1_9[2], S2rgbrefA1_10[2],S2rgbrefA1_11[2], S2rgbrefA1_12[2],S2rgbrefA1_13[2], S2rgbrefA1_14[2],S2rgbrefA1_15[2], S2rgbrefA1_16[2],S2rgbrefA1_17[2]],\n",
        "    'R-Shad': [S2rgbA1_2[0],S2rgbA2_1[0],S2rgbA3_1[0],S2rgbA3_51[0],S2rgbA4_1[0],S2rgbB1_1[0],S2rgbB2_1[0],S2rgbB3_1[0],S2rgbB4_1[0],S2rgbC1_1[0],S2rgbC2_1[0],S2rgbC3_1[0],S2rgbC4_1[0],S2rgbD2_1[0],S2rgbD3_1[0],S2rgbD4_1[0]],\n",
        "    'G-Shad': [S2rgbA1_2[1],S2rgbA2_1[1],S2rgbA3_1[1], S2rgbA3_51[1],S2rgbA4_1[1],S2rgbB1_1[1],S2rgbB2_1[1],S2rgbB3_1[1],S2rgbB4_1[1],S2rgbC1_1[1],S2rgbC2_1[1],S2rgbC3_1[1],S2rgbC4_1[1],S2rgbD2_1[1],S2rgbD3_1[1], S2rgbD4_1[1]],\n",
        "    'B-Shad': [S2rgbA1_2[2],S2rgbA2_1[2],S2rgbA3_1[2],S2rgbA3_51[2],S2rgbA4_1[2],S2rgbB1_1[2],S2rgbB2_1[2],S2rgbB3_1[2],S2rgbB4_1[2],S2rgbC1_1[2],S2rgbC2_1[2],S2rgbC3_1[2],S2rgbC4_1[2],S2rgbD2_1[2],S2rgbD3_1[2], S2rgbD4_1[2]],\n",
        "    'H-ref': [S2hsvrefA1_1[0],S2hsvrefA1_3[0],S2hsvrefA1_4[0],S2hsvrefA1_5[0], S2hsvrefA1_6[0],S2hsvrefA1_7[0], S2hsvrefA1_8[0],S2hsvrefA1_9[0], S2hsvrefA1_10[0],S2hsvrefA1_11[0], S2hsvrefA1_12[0],S2hsvrefA1_13[0], S2hsvrefA1_14[0],S2hsvrefA1_15[0], S2hsvrefA1_16[0],S2hsvrefA1_17[0]],\n",
        "    'S-ref': [S2hsvrefA1_1[1],S2hsvrefA1_3[1],S2hsvrefA1_4[1],S2hsvrefA1_5[1], S2hsvrefA1_6[1],S2hsvrefA1_7[1], S2hsvrefA1_8[1],S2hsvrefA1_9[1], S2hsvrefA1_10[1],S2hsvrefA1_11[1], S2hsvrefA1_12[0],S2hsvrefA1_13[1], S2hsvrefA1_14[1],S2hsvrefA1_15[1], S2hsvrefA1_16[1],S2hsvrefA1_17[1]],\n",
        "    'V-ref': [S2hsvrefA1_1[2],S2hsvrefA1_3[2],S2hsvrefA1_4[2],S2hsvrefA1_5[2], S2hsvrefA1_6[2],S2hsvrefA1_7[2], S2hsvrefA1_8[2],S2hsvrefA1_9[2], S2hsvrefA1_10[2],S2hsvrefA1_11[2], S2hsvrefA1_12[0],S2hsvrefA1_13[2], S2hsvrefA1_14[2],S2hsvrefA1_15[2], S2hsvrefA1_16[2],S2hsvrefA1_17[2]],\n",
        "    'H-Shad': [S2hsvA1_2[0],S2hsvA2_1[0],S2hsvA3_1[0],S2hsvA3_51[0],S2hsvA4_1[0],S2hsvB1_1[0],S2hsvB2_1[0],S2hsvB3_1[0],S2hsvB4_1[0],S2hsvC1_1[0],S2hsvC2_1[0],S2hsvC3_1[0],S2hsvC4_1[0],S2hsvD2_1[0],S2hsvD3_1[0],S2hsvD4_1[0]],\n",
        "    'S-Shad': [S2hsvA1_2[1],S2hsvA2_1[1],S2hsvA3_1[1],S2hsvA3_51[1],S2hsvA4_1[1],S2hsvB1_1[1],S2hsvB2_1[1],S2hsvB3_1[1],S2hsvB4_1[1],S2hsvC1_1[1],S2hsvC2_1[1],S2hsvC3_1[1],S2hsvC4_1[1],S2hsvD2_1[1],S2hsvD3_1[1],S2hsvD4_1[1]],\n",
        "    'V-Shad': [S2hsvA1_2[2],S2hsvA2_1[2],S2hsvA3_1[2],S2hsvA3_51[2],S2hsvA4_1[2],S2hsvB1_1[2],S2hsvB2_1[2],S2hsvB3_1[2],S2hsvB4_1[2],S2hsvC1_1[2],S2hsvC2_1[2],S2hsvC3_1[2],S2hsvC4_1[2],S2hsvD2_1[2],S2hsvD3_1[2],S2hsvD4_1[2]],\n",
        "    'Shade-ref': ['A1', 'A1', 'A1',  'A1', 'A1', 'A1', 'A1', 'A1', 'A1', 'A1', 'A1', 'A1', 'A1', 'A1', 'A1', 'A1'],\n",
        "    'Shade':      ['A1', 'A2', 'A3', 'A3_5', 'A4', 'B1', 'B2', 'B3', 'B4', 'C1', 'C2', 'C3', 'C4', 'D2', 'D3', 'D4'],\n",
        "    'Setting':     ['Set1', 'Set1', 'Set1', 'Set1', 'Set1', 'Set1', 'Set1', 'Set1', 'Set1', 'Set1', 'Set1', 'Set1', 'Set1', 'Set1', 'Set1', 'Set1']}) "
      ],
      "execution_count": 168,
      "outputs": []
    },
    {
      "cell_type": "code",
      "metadata": {
        "id": "7bQMiXVqn8G7",
        "colab": {
          "base_uri": "https://localhost:8080/",
          "height": 578
        },
        "outputId": "60146c65-74f1-4e00-d01d-25e91576308a"
      },
      "source": [
        "df2"
      ],
      "execution_count": 169,
      "outputs": [
        {
          "output_type": "execute_result",
          "data": {
            "text/html": [
              "<div>\n",
              "<style scoped>\n",
              "    .dataframe tbody tr th:only-of-type {\n",
              "        vertical-align: middle;\n",
              "    }\n",
              "\n",
              "    .dataframe tbody tr th {\n",
              "        vertical-align: top;\n",
              "    }\n",
              "\n",
              "    .dataframe thead th {\n",
              "        text-align: right;\n",
              "    }\n",
              "</style>\n",
              "<table border=\"1\" class=\"dataframe\">\n",
              "  <thead>\n",
              "    <tr style=\"text-align: right;\">\n",
              "      <th></th>\n",
              "      <th>R-ref</th>\n",
              "      <th>G-ref</th>\n",
              "      <th>B-ref</th>\n",
              "      <th>R-Shad</th>\n",
              "      <th>G-Shad</th>\n",
              "      <th>B-Shad</th>\n",
              "      <th>H-ref</th>\n",
              "      <th>S-ref</th>\n",
              "      <th>V-ref</th>\n",
              "      <th>H-Shad</th>\n",
              "      <th>S-Shad</th>\n",
              "      <th>V-Shad</th>\n",
              "      <th>Shade-ref</th>\n",
              "      <th>Shade</th>\n",
              "      <th>Setting</th>\n",
              "    </tr>\n",
              "  </thead>\n",
              "  <tbody>\n",
              "    <tr>\n",
              "      <th>0</th>\n",
              "      <td>231.544599</td>\n",
              "      <td>214.478370</td>\n",
              "      <td>170.378622</td>\n",
              "      <td>231.217125</td>\n",
              "      <td>214.152265</td>\n",
              "      <td>170.137330</td>\n",
              "      <td>22.000000</td>\n",
              "      <td>67.372778</td>\n",
              "      <td>231.544599</td>\n",
              "      <td>21.998009</td>\n",
              "      <td>67.377996</td>\n",
              "      <td>231.217125</td>\n",
              "      <td>A1</td>\n",
              "      <td>A1</td>\n",
              "      <td>Set1</td>\n",
              "    </tr>\n",
              "    <tr>\n",
              "      <th>1</th>\n",
              "      <td>233.080919</td>\n",
              "      <td>211.993588</td>\n",
              "      <td>159.461894</td>\n",
              "      <td>232.915298</td>\n",
              "      <td>211.736292</td>\n",
              "      <td>159.444563</td>\n",
              "      <td>21.126288</td>\n",
              "      <td>80.559127</td>\n",
              "      <td>233.080919</td>\n",
              "      <td>21.111372</td>\n",
              "      <td>80.441363</td>\n",
              "      <td>232.915298</td>\n",
              "      <td>A1</td>\n",
              "      <td>A2</td>\n",
              "      <td>Set1</td>\n",
              "    </tr>\n",
              "    <tr>\n",
              "      <th>2</th>\n",
              "      <td>233.440711</td>\n",
              "      <td>208.726564</td>\n",
              "      <td>151.886129</td>\n",
              "      <td>233.257663</td>\n",
              "      <td>208.534101</td>\n",
              "      <td>151.714032</td>\n",
              "      <td>21.092687</td>\n",
              "      <td>89.116549</td>\n",
              "      <td>233.440711</td>\n",
              "      <td>21.090250</td>\n",
              "      <td>89.177086</td>\n",
              "      <td>233.257663</td>\n",
              "      <td>A1</td>\n",
              "      <td>A3</td>\n",
              "      <td>Set1</td>\n",
              "    </tr>\n",
              "    <tr>\n",
              "      <th>3</th>\n",
              "      <td>225.943917</td>\n",
              "      <td>196.046749</td>\n",
              "      <td>135.433975</td>\n",
              "      <td>225.967783</td>\n",
              "      <td>196.099068</td>\n",
              "      <td>135.670578</td>\n",
              "      <td>20.046993</td>\n",
              "      <td>102.154939</td>\n",
              "      <td>225.943917</td>\n",
              "      <td>20.021336</td>\n",
              "      <td>101.908257</td>\n",
              "      <td>225.967783</td>\n",
              "      <td>A1</td>\n",
              "      <td>A3_5</td>\n",
              "      <td>Set1</td>\n",
              "    </tr>\n",
              "    <tr>\n",
              "      <th>4</th>\n",
              "      <td>223.727620</td>\n",
              "      <td>192.575684</td>\n",
              "      <td>131.980765</td>\n",
              "      <td>223.780883</td>\n",
              "      <td>192.608420</td>\n",
              "      <td>132.112936</td>\n",
              "      <td>19.860482</td>\n",
              "      <td>104.599383</td>\n",
              "      <td>223.727620</td>\n",
              "      <td>19.829955</td>\n",
              "      <td>104.485314</td>\n",
              "      <td>223.780883</td>\n",
              "      <td>A1</td>\n",
              "      <td>A4</td>\n",
              "      <td>Set1</td>\n",
              "    </tr>\n",
              "    <tr>\n",
              "      <th>5</th>\n",
              "      <td>232.635176</td>\n",
              "      <td>218.763412</td>\n",
              "      <td>178.258015</td>\n",
              "      <td>232.309011</td>\n",
              "      <td>218.408577</td>\n",
              "      <td>178.028163</td>\n",
              "      <td>22.418797</td>\n",
              "      <td>59.661310</td>\n",
              "      <td>232.635176</td>\n",
              "      <td>22.386459</td>\n",
              "      <td>59.645118</td>\n",
              "      <td>232.309011</td>\n",
              "      <td>A1</td>\n",
              "      <td>B1</td>\n",
              "      <td>Set1</td>\n",
              "    </tr>\n",
              "    <tr>\n",
              "      <th>6</th>\n",
              "      <td>230.781349</td>\n",
              "      <td>211.438925</td>\n",
              "      <td>160.437951</td>\n",
              "      <td>230.591636</td>\n",
              "      <td>211.292653</td>\n",
              "      <td>160.251547</td>\n",
              "      <td>22.108514</td>\n",
              "      <td>77.711468</td>\n",
              "      <td>230.781349</td>\n",
              "      <td>22.129436</td>\n",
              "      <td>77.769220</td>\n",
              "      <td>230.591636</td>\n",
              "      <td>A1</td>\n",
              "      <td>B2</td>\n",
              "      <td>Set1</td>\n",
              "    </tr>\n",
              "    <tr>\n",
              "      <th>7</th>\n",
              "      <td>229.502881</td>\n",
              "      <td>204.008360</td>\n",
              "      <td>143.074507</td>\n",
              "      <td>229.441932</td>\n",
              "      <td>203.904274</td>\n",
              "      <td>143.075955</td>\n",
              "      <td>21.149988</td>\n",
              "      <td>96.058599</td>\n",
              "      <td>229.502881</td>\n",
              "      <td>21.130574</td>\n",
              "      <td>96.005618</td>\n",
              "      <td>229.441932</td>\n",
              "      <td>A1</td>\n",
              "      <td>B3</td>\n",
              "      <td>Set1</td>\n",
              "    </tr>\n",
              "    <tr>\n",
              "      <th>8</th>\n",
              "      <td>227.516517</td>\n",
              "      <td>198.112004</td>\n",
              "      <td>133.905771</td>\n",
              "      <td>227.604224</td>\n",
              "      <td>198.169547</td>\n",
              "      <td>134.108100</td>\n",
              "      <td>20.308011</td>\n",
              "      <td>104.997322</td>\n",
              "      <td>227.516517</td>\n",
              "      <td>20.290733</td>\n",
              "      <td>104.823697</td>\n",
              "      <td>227.604224</td>\n",
              "      <td>A1</td>\n",
              "      <td>B4</td>\n",
              "      <td>Set1</td>\n",
              "    </tr>\n",
              "    <tr>\n",
              "      <th>9</th>\n",
              "      <td>224.474637</td>\n",
              "      <td>206.279685</td>\n",
              "      <td>161.905771</td>\n",
              "      <td>224.567954</td>\n",
              "      <td>206.355380</td>\n",
              "      <td>162.095939</td>\n",
              "      <td>21.612126</td>\n",
              "      <td>71.136353</td>\n",
              "      <td>224.474637</td>\n",
              "      <td>21.583742</td>\n",
              "      <td>70.994026</td>\n",
              "      <td>224.567954</td>\n",
              "      <td>A1</td>\n",
              "      <td>C1</td>\n",
              "      <td>Set1</td>\n",
              "    </tr>\n",
              "    <tr>\n",
              "      <th>10</th>\n",
              "      <td>222.616833</td>\n",
              "      <td>200.076617</td>\n",
              "      <td>149.018992</td>\n",
              "      <td>222.505441</td>\n",
              "      <td>200.011877</td>\n",
              "      <td>149.096295</td>\n",
              "      <td>21.018180</td>\n",
              "      <td>21.018180</td>\n",
              "      <td>21.018180</td>\n",
              "      <td>21.016784</td>\n",
              "      <td>84.179432</td>\n",
              "      <td>222.505441</td>\n",
              "      <td>A1</td>\n",
              "      <td>C2</td>\n",
              "      <td>Set1</td>\n",
              "    </tr>\n",
              "    <tr>\n",
              "      <th>11</th>\n",
              "      <td>222.178557</td>\n",
              "      <td>195.386089</td>\n",
              "      <td>140.350215</td>\n",
              "      <td>222.262357</td>\n",
              "      <td>195.465899</td>\n",
              "      <td>140.510063</td>\n",
              "      <td>20.100317</td>\n",
              "      <td>93.927522</td>\n",
              "      <td>222.178557</td>\n",
              "      <td>20.100135</td>\n",
              "      <td>93.801294</td>\n",
              "      <td>222.262357</td>\n",
              "      <td>A1</td>\n",
              "      <td>C3</td>\n",
              "      <td>Set1</td>\n",
              "    </tr>\n",
              "    <tr>\n",
              "      <th>12</th>\n",
              "      <td>211.358899</td>\n",
              "      <td>180.982631</td>\n",
              "      <td>123.340719</td>\n",
              "      <td>211.885997</td>\n",
              "      <td>181.528127</td>\n",
              "      <td>123.975108</td>\n",
              "      <td>19.452236</td>\n",
              "      <td>106.138138</td>\n",
              "      <td>211.358899</td>\n",
              "      <td>19.448190</td>\n",
              "      <td>105.756134</td>\n",
              "      <td>211.885997</td>\n",
              "      <td>A1</td>\n",
              "      <td>C4</td>\n",
              "      <td>Set1</td>\n",
              "    </tr>\n",
              "    <tr>\n",
              "      <th>13</th>\n",
              "      <td>227.506858</td>\n",
              "      <td>206.507102</td>\n",
              "      <td>159.734194</td>\n",
              "      <td>227.387170</td>\n",
              "      <td>206.438518</td>\n",
              "      <td>159.849086</td>\n",
              "      <td>20.699781</td>\n",
              "      <td>75.887915</td>\n",
              "      <td>227.506858</td>\n",
              "      <td>20.680037</td>\n",
              "      <td>75.662542</td>\n",
              "      <td>227.387170</td>\n",
              "      <td>A1</td>\n",
              "      <td>D2</td>\n",
              "      <td>Set1</td>\n",
              "    </tr>\n",
              "    <tr>\n",
              "      <th>14</th>\n",
              "      <td>227.208912</td>\n",
              "      <td>204.784677</td>\n",
              "      <td>153.067527</td>\n",
              "      <td>227.125098</td>\n",
              "      <td>204.707844</td>\n",
              "      <td>153.220326</td>\n",
              "      <td>21.013148</td>\n",
              "      <td>83.231394</td>\n",
              "      <td>227.208912</td>\n",
              "      <td>20.985563</td>\n",
              "      <td>82.996017</td>\n",
              "      <td>227.125098</td>\n",
              "      <td>A1</td>\n",
              "      <td>D3</td>\n",
              "      <td>Set1</td>\n",
              "    </tr>\n",
              "    <tr>\n",
              "      <th>15</th>\n",
              "      <td>211.358899</td>\n",
              "      <td>180.982631</td>\n",
              "      <td>123.340719</td>\n",
              "      <td>228.697390</td>\n",
              "      <td>205.719579</td>\n",
              "      <td>144.856838</td>\n",
              "      <td>19.452236</td>\n",
              "      <td>106.138138</td>\n",
              "      <td>211.358899</td>\n",
              "      <td>21.698528</td>\n",
              "      <td>93.551739</td>\n",
              "      <td>228.697390</td>\n",
              "      <td>A1</td>\n",
              "      <td>D4</td>\n",
              "      <td>Set1</td>\n",
              "    </tr>\n",
              "  </tbody>\n",
              "</table>\n",
              "</div>"
            ],
            "text/plain": [
              "         R-ref       G-ref       B-ref  ...  Shade-ref  Shade  Setting\n",
              "0   231.544599  214.478370  170.378622  ...         A1     A1     Set1\n",
              "1   233.080919  211.993588  159.461894  ...         A1     A2     Set1\n",
              "2   233.440711  208.726564  151.886129  ...         A1     A3     Set1\n",
              "3   225.943917  196.046749  135.433975  ...         A1   A3_5     Set1\n",
              "4   223.727620  192.575684  131.980765  ...         A1     A4     Set1\n",
              "5   232.635176  218.763412  178.258015  ...         A1     B1     Set1\n",
              "6   230.781349  211.438925  160.437951  ...         A1     B2     Set1\n",
              "7   229.502881  204.008360  143.074507  ...         A1     B3     Set1\n",
              "8   227.516517  198.112004  133.905771  ...         A1     B4     Set1\n",
              "9   224.474637  206.279685  161.905771  ...         A1     C1     Set1\n",
              "10  222.616833  200.076617  149.018992  ...         A1     C2     Set1\n",
              "11  222.178557  195.386089  140.350215  ...         A1     C3     Set1\n",
              "12  211.358899  180.982631  123.340719  ...         A1     C4     Set1\n",
              "13  227.506858  206.507102  159.734194  ...         A1     D2     Set1\n",
              "14  227.208912  204.784677  153.067527  ...         A1     D3     Set1\n",
              "15  211.358899  180.982631  123.340719  ...         A1     D4     Set1\n",
              "\n",
              "[16 rows x 15 columns]"
            ]
          },
          "metadata": {},
          "execution_count": 169
        }
      ]
    },
    {
      "cell_type": "markdown",
      "metadata": {
        "id": "uu6aqQG0n__j"
      },
      "source": [
        "#8.ชื่อตารางที่ต้องการเซฟ .to_csv(' ชื่อไฟล์ที่ต้องการ save )"
      ]
    },
    {
      "cell_type": "code",
      "metadata": {
        "id": "v1_LBtAuoFNH"
      },
      "source": [
        "df2.to_csv('ShadeSet2_A1 Guide.csv', index=False)"
      ],
      "execution_count": 170,
      "outputs": []
    },
    {
      "cell_type": "code",
      "metadata": {
        "id": "pOZ-U_X7Lb9M",
        "outputId": "76678f95-f493-4295-ffe4-4253a2a227ac",
        "colab": {
          "base_uri": "https://localhost:8080/",
          "height": 578
        }
      },
      "source": [
        "df = pd.read_csv('ShadeSet1_A1 Guide.csv')\n",
        "df"
      ],
      "execution_count": 181,
      "outputs": [
        {
          "output_type": "execute_result",
          "data": {
            "text/html": [
              "<div>\n",
              "<style scoped>\n",
              "    .dataframe tbody tr th:only-of-type {\n",
              "        vertical-align: middle;\n",
              "    }\n",
              "\n",
              "    .dataframe tbody tr th {\n",
              "        vertical-align: top;\n",
              "    }\n",
              "\n",
              "    .dataframe thead th {\n",
              "        text-align: right;\n",
              "    }\n",
              "</style>\n",
              "<table border=\"1\" class=\"dataframe\">\n",
              "  <thead>\n",
              "    <tr style=\"text-align: right;\">\n",
              "      <th></th>\n",
              "      <th>R-ref</th>\n",
              "      <th>G-ref</th>\n",
              "      <th>B-ref</th>\n",
              "      <th>R-Shad</th>\n",
              "      <th>G-Shad</th>\n",
              "      <th>B-Shad</th>\n",
              "      <th>H-ref</th>\n",
              "      <th>S-ref</th>\n",
              "      <th>V-ref</th>\n",
              "      <th>H-Shad</th>\n",
              "      <th>S-Shad</th>\n",
              "      <th>V-Shad</th>\n",
              "      <th>Shade-ref</th>\n",
              "      <th>Shade</th>\n",
              "      <th>Setting</th>\n",
              "    </tr>\n",
              "  </thead>\n",
              "  <tbody>\n",
              "    <tr>\n",
              "      <th>0</th>\n",
              "      <td>237.144469</td>\n",
              "      <td>225.537862</td>\n",
              "      <td>191.670806</td>\n",
              "      <td>237.809189</td>\n",
              "      <td>226.416827</td>\n",
              "      <td>193.195363</td>\n",
              "      <td>22.295755</td>\n",
              "      <td>48.938885</td>\n",
              "      <td>237.144469</td>\n",
              "      <td>22.332764</td>\n",
              "      <td>47.917502</td>\n",
              "      <td>237.810967</td>\n",
              "      <td>A1</td>\n",
              "      <td>A1</td>\n",
              "      <td>Set1</td>\n",
              "    </tr>\n",
              "    <tr>\n",
              "      <th>1</th>\n",
              "      <td>238.268079</td>\n",
              "      <td>221.316046</td>\n",
              "      <td>178.404350</td>\n",
              "      <td>238.887206</td>\n",
              "      <td>222.169618</td>\n",
              "      <td>179.650309</td>\n",
              "      <td>21.821524</td>\n",
              "      <td>64.105673</td>\n",
              "      <td>238.268079</td>\n",
              "      <td>21.833867</td>\n",
              "      <td>63.295000</td>\n",
              "      <td>238.887206</td>\n",
              "      <td>A1</td>\n",
              "      <td>A2</td>\n",
              "      <td>Set1</td>\n",
              "    </tr>\n",
              "    <tr>\n",
              "      <th>2</th>\n",
              "      <td>239.281633</td>\n",
              "      <td>218.345102</td>\n",
              "      <td>169.227011</td>\n",
              "      <td>239.769931</td>\n",
              "      <td>219.259014</td>\n",
              "      <td>170.835431</td>\n",
              "      <td>21.047318</td>\n",
              "      <td>74.729567</td>\n",
              "      <td>239.281633</td>\n",
              "      <td>21.141099</td>\n",
              "      <td>73.416827</td>\n",
              "      <td>239.770927</td>\n",
              "      <td>A1</td>\n",
              "      <td>A3</td>\n",
              "      <td>Set1</td>\n",
              "    </tr>\n",
              "    <tr>\n",
              "      <th>3</th>\n",
              "      <td>237.557341</td>\n",
              "      <td>211.824933</td>\n",
              "      <td>157.151286</td>\n",
              "      <td>238.258232</td>\n",
              "      <td>212.947657</td>\n",
              "      <td>158.989617</td>\n",
              "      <td>20.619430</td>\n",
              "      <td>86.358088</td>\n",
              "      <td>237.557341</td>\n",
              "      <td>20.636299</td>\n",
              "      <td>84.931584</td>\n",
              "      <td>238.258232</td>\n",
              "      <td>A1</td>\n",
              "      <td>A3_5</td>\n",
              "      <td>Set1</td>\n",
              "    </tr>\n",
              "    <tr>\n",
              "      <th>4</th>\n",
              "      <td>237.519925</td>\n",
              "      <td>210.901388</td>\n",
              "      <td>155.769986</td>\n",
              "      <td>238.209018</td>\n",
              "      <td>211.981296</td>\n",
              "      <td>157.371168</td>\n",
              "      <td>20.366123</td>\n",
              "      <td>87.840029</td>\n",
              "      <td>237.519925</td>\n",
              "      <td>20.427779</td>\n",
              "      <td>86.631178</td>\n",
              "      <td>238.209018</td>\n",
              "      <td>A1</td>\n",
              "      <td>A4</td>\n",
              "      <td>Set1</td>\n",
              "    </tr>\n",
              "    <tr>\n",
              "      <th>5</th>\n",
              "      <td>237.876633</td>\n",
              "      <td>227.829640</td>\n",
              "      <td>194.271569</td>\n",
              "      <td>238.663395</td>\n",
              "      <td>228.625133</td>\n",
              "      <td>195.733020</td>\n",
              "      <td>22.847496</td>\n",
              "      <td>46.789465</td>\n",
              "      <td>237.876633</td>\n",
              "      <td>22.744257</td>\n",
              "      <td>45.941043</td>\n",
              "      <td>238.663395</td>\n",
              "      <td>A1</td>\n",
              "      <td>B1</td>\n",
              "      <td>Set1</td>\n",
              "    </tr>\n",
              "    <tr>\n",
              "      <th>6</th>\n",
              "      <td>241.002435</td>\n",
              "      <td>225.828585</td>\n",
              "      <td>183.285853</td>\n",
              "      <td>241.499324</td>\n",
              "      <td>226.611479</td>\n",
              "      <td>184.810824</td>\n",
              "      <td>22.223602</td>\n",
              "      <td>61.125720</td>\n",
              "      <td>241.002435</td>\n",
              "      <td>22.263068</td>\n",
              "      <td>59.947017</td>\n",
              "      <td>241.500320</td>\n",
              "      <td>A1</td>\n",
              "      <td>B2</td>\n",
              "      <td>Set1</td>\n",
              "    </tr>\n",
              "    <tr>\n",
              "      <th>7</th>\n",
              "      <td>239.281633</td>\n",
              "      <td>218.345102</td>\n",
              "      <td>169.227011</td>\n",
              "      <td>239.769931</td>\n",
              "      <td>219.259014</td>\n",
              "      <td>170.835431</td>\n",
              "      <td>21.443146</td>\n",
              "      <td>83.446474</td>\n",
              "      <td>239.556448</td>\n",
              "      <td>21.478060</td>\n",
              "      <td>81.900078</td>\n",
              "      <td>240.062229</td>\n",
              "      <td>A1</td>\n",
              "      <td>B3</td>\n",
              "      <td>Set1</td>\n",
              "    </tr>\n",
              "    <tr>\n",
              "      <th>8</th>\n",
              "      <td>237.713903</td>\n",
              "      <td>213.212889</td>\n",
              "      <td>156.062576</td>\n",
              "      <td>238.350615</td>\n",
              "      <td>214.124315</td>\n",
              "      <td>157.704075</td>\n",
              "      <td>21.035874</td>\n",
              "      <td>87.582258</td>\n",
              "      <td>237.713903</td>\n",
              "      <td>21.037195</td>\n",
              "      <td>86.305810</td>\n",
              "      <td>238.350615</td>\n",
              "      <td>A1</td>\n",
              "      <td>B4</td>\n",
              "      <td>Set1</td>\n",
              "    </tr>\n",
              "    <tr>\n",
              "      <th>9</th>\n",
              "      <td>231.241133</td>\n",
              "      <td>216.264183</td>\n",
              "      <td>179.171090</td>\n",
              "      <td>231.964156</td>\n",
              "      <td>217.192518</td>\n",
              "      <td>180.645544</td>\n",
              "      <td>21.521386</td>\n",
              "      <td>57.468955</td>\n",
              "      <td>231.241133</td>\n",
              "      <td>21.492141</td>\n",
              "      <td>56.491644</td>\n",
              "      <td>231.964156</td>\n",
              "      <td>A1</td>\n",
              "      <td>C1</td>\n",
              "      <td>Set1</td>\n",
              "    </tr>\n",
              "    <tr>\n",
              "      <th>10</th>\n",
              "      <td>231.858210</td>\n",
              "      <td>211.620810</td>\n",
              "      <td>167.355815</td>\n",
              "      <td>232.687576</td>\n",
              "      <td>212.717232</td>\n",
              "      <td>169.149705</td>\n",
              "      <td>20.604253</td>\n",
              "      <td>20.604253</td>\n",
              "      <td>20.604253</td>\n",
              "      <td>20.567172</td>\n",
              "      <td>69.731883</td>\n",
              "      <td>232.687576</td>\n",
              "      <td>A1</td>\n",
              "      <td>C2</td>\n",
              "      <td>Set1</td>\n",
              "    </tr>\n",
              "    <tr>\n",
              "      <th>11</th>\n",
              "      <td>230.999351</td>\n",
              "      <td>207.175554</td>\n",
              "      <td>157.773314</td>\n",
              "      <td>231.729322</td>\n",
              "      <td>208.233981</td>\n",
              "      <td>159.479553</td>\n",
              "      <td>20.437789</td>\n",
              "      <td>80.854557</td>\n",
              "      <td>230.999351</td>\n",
              "      <td>20.431690</td>\n",
              "      <td>79.576630</td>\n",
              "      <td>231.729322</td>\n",
              "      <td>A1</td>\n",
              "      <td>C3</td>\n",
              "      <td>Set1</td>\n",
              "    </tr>\n",
              "    <tr>\n",
              "      <th>12</th>\n",
              "      <td>225.027514</td>\n",
              "      <td>196.419041</td>\n",
              "      <td>145.126938</td>\n",
              "      <td>225.750516</td>\n",
              "      <td>197.436455</td>\n",
              "      <td>146.374369</td>\n",
              "      <td>19.223927</td>\n",
              "      <td>90.560750</td>\n",
              "      <td>225.027514</td>\n",
              "      <td>19.288244</td>\n",
              "      <td>89.696039</td>\n",
              "      <td>225.750516</td>\n",
              "      <td>A1</td>\n",
              "      <td>C4</td>\n",
              "      <td>Set1</td>\n",
              "    </tr>\n",
              "    <tr>\n",
              "      <th>13</th>\n",
              "      <td>233.037416</td>\n",
              "      <td>217.931580</td>\n",
              "      <td>185.327733</td>\n",
              "      <td>233.752863</td>\n",
              "      <td>218.839201</td>\n",
              "      <td>186.804139</td>\n",
              "      <td>20.389254</td>\n",
              "      <td>52.244298</td>\n",
              "      <td>233.037416</td>\n",
              "      <td>20.398763</td>\n",
              "      <td>51.295712</td>\n",
              "      <td>233.752863</td>\n",
              "      <td>A1</td>\n",
              "      <td>D2</td>\n",
              "      <td>Set1</td>\n",
              "    </tr>\n",
              "    <tr>\n",
              "      <th>14</th>\n",
              "      <td>232.804642</td>\n",
              "      <td>209.441604</td>\n",
              "      <td>164.924357</td>\n",
              "      <td>233.308869</td>\n",
              "      <td>210.109594</td>\n",
              "      <td>166.164853</td>\n",
              "      <td>19.601331</td>\n",
              "      <td>74.376755</td>\n",
              "      <td>232.804642</td>\n",
              "      <td>19.552094</td>\n",
              "      <td>73.433042</td>\n",
              "      <td>233.308869</td>\n",
              "      <td>A1</td>\n",
              "      <td>D3</td>\n",
              "      <td>Set1</td>\n",
              "    </tr>\n",
              "    <tr>\n",
              "      <th>15</th>\n",
              "      <td>225.027514</td>\n",
              "      <td>196.419041</td>\n",
              "      <td>145.126938</td>\n",
              "      <td>229.975962</td>\n",
              "      <td>207.815234</td>\n",
              "      <td>158.861461</td>\n",
              "      <td>19.223927</td>\n",
              "      <td>90.560750</td>\n",
              "      <td>225.027514</td>\n",
              "      <td>20.734301</td>\n",
              "      <td>78.880876</td>\n",
              "      <td>229.975962</td>\n",
              "      <td>A1</td>\n",
              "      <td>D4</td>\n",
              "      <td>Set1</td>\n",
              "    </tr>\n",
              "  </tbody>\n",
              "</table>\n",
              "</div>"
            ],
            "text/plain": [
              "         R-ref       G-ref       B-ref  ...  Shade-ref  Shade  Setting\n",
              "0   237.144469  225.537862  191.670806  ...         A1     A1     Set1\n",
              "1   238.268079  221.316046  178.404350  ...         A1     A2     Set1\n",
              "2   239.281633  218.345102  169.227011  ...         A1     A3     Set1\n",
              "3   237.557341  211.824933  157.151286  ...         A1   A3_5     Set1\n",
              "4   237.519925  210.901388  155.769986  ...         A1     A4     Set1\n",
              "5   237.876633  227.829640  194.271569  ...         A1     B1     Set1\n",
              "6   241.002435  225.828585  183.285853  ...         A1     B2     Set1\n",
              "7   239.281633  218.345102  169.227011  ...         A1     B3     Set1\n",
              "8   237.713903  213.212889  156.062576  ...         A1     B4     Set1\n",
              "9   231.241133  216.264183  179.171090  ...         A1     C1     Set1\n",
              "10  231.858210  211.620810  167.355815  ...         A1     C2     Set1\n",
              "11  230.999351  207.175554  157.773314  ...         A1     C3     Set1\n",
              "12  225.027514  196.419041  145.126938  ...         A1     C4     Set1\n",
              "13  233.037416  217.931580  185.327733  ...         A1     D2     Set1\n",
              "14  232.804642  209.441604  164.924357  ...         A1     D3     Set1\n",
              "15  225.027514  196.419041  145.126938  ...         A1     D4     Set1\n",
              "\n",
              "[16 rows x 15 columns]"
            ]
          },
          "metadata": {},
          "execution_count": 181
        }
      ]
    },
    {
      "cell_type": "code",
      "metadata": {
        "id": "cLyyeYhFtrKW",
        "colab": {
          "base_uri": "https://localhost:8080/",
          "height": 1000
        },
        "outputId": "3c9e50ce-6d2e-4ee2-94f6-69fc7ad4e1b7"
      },
      "source": [
        "pd_concat = pd.concat([df,df2])\n",
        "pd_concat"
      ],
      "execution_count": 184,
      "outputs": [
        {
          "output_type": "execute_result",
          "data": {
            "text/html": [
              "<div>\n",
              "<style scoped>\n",
              "    .dataframe tbody tr th:only-of-type {\n",
              "        vertical-align: middle;\n",
              "    }\n",
              "\n",
              "    .dataframe tbody tr th {\n",
              "        vertical-align: top;\n",
              "    }\n",
              "\n",
              "    .dataframe thead th {\n",
              "        text-align: right;\n",
              "    }\n",
              "</style>\n",
              "<table border=\"1\" class=\"dataframe\">\n",
              "  <thead>\n",
              "    <tr style=\"text-align: right;\">\n",
              "      <th></th>\n",
              "      <th>R-ref</th>\n",
              "      <th>G-ref</th>\n",
              "      <th>B-ref</th>\n",
              "      <th>R-Shad</th>\n",
              "      <th>G-Shad</th>\n",
              "      <th>B-Shad</th>\n",
              "      <th>H-ref</th>\n",
              "      <th>S-ref</th>\n",
              "      <th>V-ref</th>\n",
              "      <th>H-Shad</th>\n",
              "      <th>S-Shad</th>\n",
              "      <th>V-Shad</th>\n",
              "      <th>Shade-ref</th>\n",
              "      <th>Shade</th>\n",
              "      <th>Setting</th>\n",
              "    </tr>\n",
              "  </thead>\n",
              "  <tbody>\n",
              "    <tr>\n",
              "      <th>0</th>\n",
              "      <td>237.144469</td>\n",
              "      <td>225.537862</td>\n",
              "      <td>191.670806</td>\n",
              "      <td>237.809189</td>\n",
              "      <td>226.416827</td>\n",
              "      <td>193.195363</td>\n",
              "      <td>22.295755</td>\n",
              "      <td>48.938885</td>\n",
              "      <td>237.144469</td>\n",
              "      <td>22.332764</td>\n",
              "      <td>47.917502</td>\n",
              "      <td>237.810967</td>\n",
              "      <td>A1</td>\n",
              "      <td>A1</td>\n",
              "      <td>Set1</td>\n",
              "    </tr>\n",
              "    <tr>\n",
              "      <th>1</th>\n",
              "      <td>238.268079</td>\n",
              "      <td>221.316046</td>\n",
              "      <td>178.404350</td>\n",
              "      <td>238.887206</td>\n",
              "      <td>222.169618</td>\n",
              "      <td>179.650309</td>\n",
              "      <td>21.821524</td>\n",
              "      <td>64.105673</td>\n",
              "      <td>238.268079</td>\n",
              "      <td>21.833867</td>\n",
              "      <td>63.295000</td>\n",
              "      <td>238.887206</td>\n",
              "      <td>A1</td>\n",
              "      <td>A2</td>\n",
              "      <td>Set1</td>\n",
              "    </tr>\n",
              "    <tr>\n",
              "      <th>2</th>\n",
              "      <td>239.281633</td>\n",
              "      <td>218.345102</td>\n",
              "      <td>169.227011</td>\n",
              "      <td>239.769931</td>\n",
              "      <td>219.259014</td>\n",
              "      <td>170.835431</td>\n",
              "      <td>21.047318</td>\n",
              "      <td>74.729567</td>\n",
              "      <td>239.281633</td>\n",
              "      <td>21.141099</td>\n",
              "      <td>73.416827</td>\n",
              "      <td>239.770927</td>\n",
              "      <td>A1</td>\n",
              "      <td>A3</td>\n",
              "      <td>Set1</td>\n",
              "    </tr>\n",
              "    <tr>\n",
              "      <th>3</th>\n",
              "      <td>237.557341</td>\n",
              "      <td>211.824933</td>\n",
              "      <td>157.151286</td>\n",
              "      <td>238.258232</td>\n",
              "      <td>212.947657</td>\n",
              "      <td>158.989617</td>\n",
              "      <td>20.619430</td>\n",
              "      <td>86.358088</td>\n",
              "      <td>237.557341</td>\n",
              "      <td>20.636299</td>\n",
              "      <td>84.931584</td>\n",
              "      <td>238.258232</td>\n",
              "      <td>A1</td>\n",
              "      <td>A3_5</td>\n",
              "      <td>Set1</td>\n",
              "    </tr>\n",
              "    <tr>\n",
              "      <th>4</th>\n",
              "      <td>237.519925</td>\n",
              "      <td>210.901388</td>\n",
              "      <td>155.769986</td>\n",
              "      <td>238.209018</td>\n",
              "      <td>211.981296</td>\n",
              "      <td>157.371168</td>\n",
              "      <td>20.366123</td>\n",
              "      <td>87.840029</td>\n",
              "      <td>237.519925</td>\n",
              "      <td>20.427779</td>\n",
              "      <td>86.631178</td>\n",
              "      <td>238.209018</td>\n",
              "      <td>A1</td>\n",
              "      <td>A4</td>\n",
              "      <td>Set1</td>\n",
              "    </tr>\n",
              "    <tr>\n",
              "      <th>5</th>\n",
              "      <td>237.876633</td>\n",
              "      <td>227.829640</td>\n",
              "      <td>194.271569</td>\n",
              "      <td>238.663395</td>\n",
              "      <td>228.625133</td>\n",
              "      <td>195.733020</td>\n",
              "      <td>22.847496</td>\n",
              "      <td>46.789465</td>\n",
              "      <td>237.876633</td>\n",
              "      <td>22.744257</td>\n",
              "      <td>45.941043</td>\n",
              "      <td>238.663395</td>\n",
              "      <td>A1</td>\n",
              "      <td>B1</td>\n",
              "      <td>Set1</td>\n",
              "    </tr>\n",
              "    <tr>\n",
              "      <th>6</th>\n",
              "      <td>241.002435</td>\n",
              "      <td>225.828585</td>\n",
              "      <td>183.285853</td>\n",
              "      <td>241.499324</td>\n",
              "      <td>226.611479</td>\n",
              "      <td>184.810824</td>\n",
              "      <td>22.223602</td>\n",
              "      <td>61.125720</td>\n",
              "      <td>241.002435</td>\n",
              "      <td>22.263068</td>\n",
              "      <td>59.947017</td>\n",
              "      <td>241.500320</td>\n",
              "      <td>A1</td>\n",
              "      <td>B2</td>\n",
              "      <td>Set1</td>\n",
              "    </tr>\n",
              "    <tr>\n",
              "      <th>7</th>\n",
              "      <td>239.281633</td>\n",
              "      <td>218.345102</td>\n",
              "      <td>169.227011</td>\n",
              "      <td>239.769931</td>\n",
              "      <td>219.259014</td>\n",
              "      <td>170.835431</td>\n",
              "      <td>21.443146</td>\n",
              "      <td>83.446474</td>\n",
              "      <td>239.556448</td>\n",
              "      <td>21.478060</td>\n",
              "      <td>81.900078</td>\n",
              "      <td>240.062229</td>\n",
              "      <td>A1</td>\n",
              "      <td>B3</td>\n",
              "      <td>Set1</td>\n",
              "    </tr>\n",
              "    <tr>\n",
              "      <th>8</th>\n",
              "      <td>237.713903</td>\n",
              "      <td>213.212889</td>\n",
              "      <td>156.062576</td>\n",
              "      <td>238.350615</td>\n",
              "      <td>214.124315</td>\n",
              "      <td>157.704075</td>\n",
              "      <td>21.035874</td>\n",
              "      <td>87.582258</td>\n",
              "      <td>237.713903</td>\n",
              "      <td>21.037195</td>\n",
              "      <td>86.305810</td>\n",
              "      <td>238.350615</td>\n",
              "      <td>A1</td>\n",
              "      <td>B4</td>\n",
              "      <td>Set1</td>\n",
              "    </tr>\n",
              "    <tr>\n",
              "      <th>9</th>\n",
              "      <td>231.241133</td>\n",
              "      <td>216.264183</td>\n",
              "      <td>179.171090</td>\n",
              "      <td>231.964156</td>\n",
              "      <td>217.192518</td>\n",
              "      <td>180.645544</td>\n",
              "      <td>21.521386</td>\n",
              "      <td>57.468955</td>\n",
              "      <td>231.241133</td>\n",
              "      <td>21.492141</td>\n",
              "      <td>56.491644</td>\n",
              "      <td>231.964156</td>\n",
              "      <td>A1</td>\n",
              "      <td>C1</td>\n",
              "      <td>Set1</td>\n",
              "    </tr>\n",
              "    <tr>\n",
              "      <th>10</th>\n",
              "      <td>231.858210</td>\n",
              "      <td>211.620810</td>\n",
              "      <td>167.355815</td>\n",
              "      <td>232.687576</td>\n",
              "      <td>212.717232</td>\n",
              "      <td>169.149705</td>\n",
              "      <td>20.604253</td>\n",
              "      <td>20.604253</td>\n",
              "      <td>20.604253</td>\n",
              "      <td>20.567172</td>\n",
              "      <td>69.731883</td>\n",
              "      <td>232.687576</td>\n",
              "      <td>A1</td>\n",
              "      <td>C2</td>\n",
              "      <td>Set1</td>\n",
              "    </tr>\n",
              "    <tr>\n",
              "      <th>11</th>\n",
              "      <td>230.999351</td>\n",
              "      <td>207.175554</td>\n",
              "      <td>157.773314</td>\n",
              "      <td>231.729322</td>\n",
              "      <td>208.233981</td>\n",
              "      <td>159.479553</td>\n",
              "      <td>20.437789</td>\n",
              "      <td>80.854557</td>\n",
              "      <td>230.999351</td>\n",
              "      <td>20.431690</td>\n",
              "      <td>79.576630</td>\n",
              "      <td>231.729322</td>\n",
              "      <td>A1</td>\n",
              "      <td>C3</td>\n",
              "      <td>Set1</td>\n",
              "    </tr>\n",
              "    <tr>\n",
              "      <th>12</th>\n",
              "      <td>225.027514</td>\n",
              "      <td>196.419041</td>\n",
              "      <td>145.126938</td>\n",
              "      <td>225.750516</td>\n",
              "      <td>197.436455</td>\n",
              "      <td>146.374369</td>\n",
              "      <td>19.223927</td>\n",
              "      <td>90.560750</td>\n",
              "      <td>225.027514</td>\n",
              "      <td>19.288244</td>\n",
              "      <td>89.696039</td>\n",
              "      <td>225.750516</td>\n",
              "      <td>A1</td>\n",
              "      <td>C4</td>\n",
              "      <td>Set1</td>\n",
              "    </tr>\n",
              "    <tr>\n",
              "      <th>13</th>\n",
              "      <td>233.037416</td>\n",
              "      <td>217.931580</td>\n",
              "      <td>185.327733</td>\n",
              "      <td>233.752863</td>\n",
              "      <td>218.839201</td>\n",
              "      <td>186.804139</td>\n",
              "      <td>20.389254</td>\n",
              "      <td>52.244298</td>\n",
              "      <td>233.037416</td>\n",
              "      <td>20.398763</td>\n",
              "      <td>51.295712</td>\n",
              "      <td>233.752863</td>\n",
              "      <td>A1</td>\n",
              "      <td>D2</td>\n",
              "      <td>Set1</td>\n",
              "    </tr>\n",
              "    <tr>\n",
              "      <th>14</th>\n",
              "      <td>232.804642</td>\n",
              "      <td>209.441604</td>\n",
              "      <td>164.924357</td>\n",
              "      <td>233.308869</td>\n",
              "      <td>210.109594</td>\n",
              "      <td>166.164853</td>\n",
              "      <td>19.601331</td>\n",
              "      <td>74.376755</td>\n",
              "      <td>232.804642</td>\n",
              "      <td>19.552094</td>\n",
              "      <td>73.433042</td>\n",
              "      <td>233.308869</td>\n",
              "      <td>A1</td>\n",
              "      <td>D3</td>\n",
              "      <td>Set1</td>\n",
              "    </tr>\n",
              "    <tr>\n",
              "      <th>15</th>\n",
              "      <td>225.027514</td>\n",
              "      <td>196.419041</td>\n",
              "      <td>145.126938</td>\n",
              "      <td>229.975962</td>\n",
              "      <td>207.815234</td>\n",
              "      <td>158.861461</td>\n",
              "      <td>19.223927</td>\n",
              "      <td>90.560750</td>\n",
              "      <td>225.027514</td>\n",
              "      <td>20.734301</td>\n",
              "      <td>78.880876</td>\n",
              "      <td>229.975962</td>\n",
              "      <td>A1</td>\n",
              "      <td>D4</td>\n",
              "      <td>Set1</td>\n",
              "    </tr>\n",
              "    <tr>\n",
              "      <th>0</th>\n",
              "      <td>231.544599</td>\n",
              "      <td>214.478370</td>\n",
              "      <td>170.378622</td>\n",
              "      <td>231.217125</td>\n",
              "      <td>214.152265</td>\n",
              "      <td>170.137330</td>\n",
              "      <td>22.000000</td>\n",
              "      <td>67.372778</td>\n",
              "      <td>231.544599</td>\n",
              "      <td>21.998009</td>\n",
              "      <td>67.377996</td>\n",
              "      <td>231.217125</td>\n",
              "      <td>A1</td>\n",
              "      <td>A1</td>\n",
              "      <td>Set1</td>\n",
              "    </tr>\n",
              "    <tr>\n",
              "      <th>1</th>\n",
              "      <td>233.080919</td>\n",
              "      <td>211.993588</td>\n",
              "      <td>159.461894</td>\n",
              "      <td>232.915298</td>\n",
              "      <td>211.736292</td>\n",
              "      <td>159.444563</td>\n",
              "      <td>21.126288</td>\n",
              "      <td>80.559127</td>\n",
              "      <td>233.080919</td>\n",
              "      <td>21.111372</td>\n",
              "      <td>80.441363</td>\n",
              "      <td>232.915298</td>\n",
              "      <td>A1</td>\n",
              "      <td>A2</td>\n",
              "      <td>Set1</td>\n",
              "    </tr>\n",
              "    <tr>\n",
              "      <th>2</th>\n",
              "      <td>233.440711</td>\n",
              "      <td>208.726564</td>\n",
              "      <td>151.886129</td>\n",
              "      <td>233.257663</td>\n",
              "      <td>208.534101</td>\n",
              "      <td>151.714032</td>\n",
              "      <td>21.092687</td>\n",
              "      <td>89.116549</td>\n",
              "      <td>233.440711</td>\n",
              "      <td>21.090250</td>\n",
              "      <td>89.177086</td>\n",
              "      <td>233.257663</td>\n",
              "      <td>A1</td>\n",
              "      <td>A3</td>\n",
              "      <td>Set1</td>\n",
              "    </tr>\n",
              "    <tr>\n",
              "      <th>3</th>\n",
              "      <td>225.943917</td>\n",
              "      <td>196.046749</td>\n",
              "      <td>135.433975</td>\n",
              "      <td>225.967783</td>\n",
              "      <td>196.099068</td>\n",
              "      <td>135.670578</td>\n",
              "      <td>20.046993</td>\n",
              "      <td>102.154939</td>\n",
              "      <td>225.943917</td>\n",
              "      <td>20.021336</td>\n",
              "      <td>101.908257</td>\n",
              "      <td>225.967783</td>\n",
              "      <td>A1</td>\n",
              "      <td>A3_5</td>\n",
              "      <td>Set1</td>\n",
              "    </tr>\n",
              "    <tr>\n",
              "      <th>4</th>\n",
              "      <td>223.727620</td>\n",
              "      <td>192.575684</td>\n",
              "      <td>131.980765</td>\n",
              "      <td>223.780883</td>\n",
              "      <td>192.608420</td>\n",
              "      <td>132.112936</td>\n",
              "      <td>19.860482</td>\n",
              "      <td>104.599383</td>\n",
              "      <td>223.727620</td>\n",
              "      <td>19.829955</td>\n",
              "      <td>104.485314</td>\n",
              "      <td>223.780883</td>\n",
              "      <td>A1</td>\n",
              "      <td>A4</td>\n",
              "      <td>Set1</td>\n",
              "    </tr>\n",
              "    <tr>\n",
              "      <th>5</th>\n",
              "      <td>232.635176</td>\n",
              "      <td>218.763412</td>\n",
              "      <td>178.258015</td>\n",
              "      <td>232.309011</td>\n",
              "      <td>218.408577</td>\n",
              "      <td>178.028163</td>\n",
              "      <td>22.418797</td>\n",
              "      <td>59.661310</td>\n",
              "      <td>232.635176</td>\n",
              "      <td>22.386459</td>\n",
              "      <td>59.645118</td>\n",
              "      <td>232.309011</td>\n",
              "      <td>A1</td>\n",
              "      <td>B1</td>\n",
              "      <td>Set1</td>\n",
              "    </tr>\n",
              "    <tr>\n",
              "      <th>6</th>\n",
              "      <td>230.781349</td>\n",
              "      <td>211.438925</td>\n",
              "      <td>160.437951</td>\n",
              "      <td>230.591636</td>\n",
              "      <td>211.292653</td>\n",
              "      <td>160.251547</td>\n",
              "      <td>22.108514</td>\n",
              "      <td>77.711468</td>\n",
              "      <td>230.781349</td>\n",
              "      <td>22.129436</td>\n",
              "      <td>77.769220</td>\n",
              "      <td>230.591636</td>\n",
              "      <td>A1</td>\n",
              "      <td>B2</td>\n",
              "      <td>Set1</td>\n",
              "    </tr>\n",
              "    <tr>\n",
              "      <th>7</th>\n",
              "      <td>229.502881</td>\n",
              "      <td>204.008360</td>\n",
              "      <td>143.074507</td>\n",
              "      <td>229.441932</td>\n",
              "      <td>203.904274</td>\n",
              "      <td>143.075955</td>\n",
              "      <td>21.149988</td>\n",
              "      <td>96.058599</td>\n",
              "      <td>229.502881</td>\n",
              "      <td>21.130574</td>\n",
              "      <td>96.005618</td>\n",
              "      <td>229.441932</td>\n",
              "      <td>A1</td>\n",
              "      <td>B3</td>\n",
              "      <td>Set1</td>\n",
              "    </tr>\n",
              "    <tr>\n",
              "      <th>8</th>\n",
              "      <td>227.516517</td>\n",
              "      <td>198.112004</td>\n",
              "      <td>133.905771</td>\n",
              "      <td>227.604224</td>\n",
              "      <td>198.169547</td>\n",
              "      <td>134.108100</td>\n",
              "      <td>20.308011</td>\n",
              "      <td>104.997322</td>\n",
              "      <td>227.516517</td>\n",
              "      <td>20.290733</td>\n",
              "      <td>104.823697</td>\n",
              "      <td>227.604224</td>\n",
              "      <td>A1</td>\n",
              "      <td>B4</td>\n",
              "      <td>Set1</td>\n",
              "    </tr>\n",
              "    <tr>\n",
              "      <th>9</th>\n",
              "      <td>224.474637</td>\n",
              "      <td>206.279685</td>\n",
              "      <td>161.905771</td>\n",
              "      <td>224.567954</td>\n",
              "      <td>206.355380</td>\n",
              "      <td>162.095939</td>\n",
              "      <td>21.612126</td>\n",
              "      <td>71.136353</td>\n",
              "      <td>224.474637</td>\n",
              "      <td>21.583742</td>\n",
              "      <td>70.994026</td>\n",
              "      <td>224.567954</td>\n",
              "      <td>A1</td>\n",
              "      <td>C1</td>\n",
              "      <td>Set1</td>\n",
              "    </tr>\n",
              "    <tr>\n",
              "      <th>10</th>\n",
              "      <td>222.616833</td>\n",
              "      <td>200.076617</td>\n",
              "      <td>149.018992</td>\n",
              "      <td>222.505441</td>\n",
              "      <td>200.011877</td>\n",
              "      <td>149.096295</td>\n",
              "      <td>21.018180</td>\n",
              "      <td>21.018180</td>\n",
              "      <td>21.018180</td>\n",
              "      <td>21.016784</td>\n",
              "      <td>84.179432</td>\n",
              "      <td>222.505441</td>\n",
              "      <td>A1</td>\n",
              "      <td>C2</td>\n",
              "      <td>Set1</td>\n",
              "    </tr>\n",
              "    <tr>\n",
              "      <th>11</th>\n",
              "      <td>222.178557</td>\n",
              "      <td>195.386089</td>\n",
              "      <td>140.350215</td>\n",
              "      <td>222.262357</td>\n",
              "      <td>195.465899</td>\n",
              "      <td>140.510063</td>\n",
              "      <td>20.100317</td>\n",
              "      <td>93.927522</td>\n",
              "      <td>222.178557</td>\n",
              "      <td>20.100135</td>\n",
              "      <td>93.801294</td>\n",
              "      <td>222.262357</td>\n",
              "      <td>A1</td>\n",
              "      <td>C3</td>\n",
              "      <td>Set1</td>\n",
              "    </tr>\n",
              "    <tr>\n",
              "      <th>12</th>\n",
              "      <td>211.358899</td>\n",
              "      <td>180.982631</td>\n",
              "      <td>123.340719</td>\n",
              "      <td>211.885997</td>\n",
              "      <td>181.528127</td>\n",
              "      <td>123.975108</td>\n",
              "      <td>19.452236</td>\n",
              "      <td>106.138138</td>\n",
              "      <td>211.358899</td>\n",
              "      <td>19.448190</td>\n",
              "      <td>105.756134</td>\n",
              "      <td>211.885997</td>\n",
              "      <td>A1</td>\n",
              "      <td>C4</td>\n",
              "      <td>Set1</td>\n",
              "    </tr>\n",
              "    <tr>\n",
              "      <th>13</th>\n",
              "      <td>227.506858</td>\n",
              "      <td>206.507102</td>\n",
              "      <td>159.734194</td>\n",
              "      <td>227.387170</td>\n",
              "      <td>206.438518</td>\n",
              "      <td>159.849086</td>\n",
              "      <td>20.699781</td>\n",
              "      <td>75.887915</td>\n",
              "      <td>227.506858</td>\n",
              "      <td>20.680037</td>\n",
              "      <td>75.662542</td>\n",
              "      <td>227.387170</td>\n",
              "      <td>A1</td>\n",
              "      <td>D2</td>\n",
              "      <td>Set1</td>\n",
              "    </tr>\n",
              "    <tr>\n",
              "      <th>14</th>\n",
              "      <td>227.208912</td>\n",
              "      <td>204.784677</td>\n",
              "      <td>153.067527</td>\n",
              "      <td>227.125098</td>\n",
              "      <td>204.707844</td>\n",
              "      <td>153.220326</td>\n",
              "      <td>21.013148</td>\n",
              "      <td>83.231394</td>\n",
              "      <td>227.208912</td>\n",
              "      <td>20.985563</td>\n",
              "      <td>82.996017</td>\n",
              "      <td>227.125098</td>\n",
              "      <td>A1</td>\n",
              "      <td>D3</td>\n",
              "      <td>Set1</td>\n",
              "    </tr>\n",
              "    <tr>\n",
              "      <th>15</th>\n",
              "      <td>211.358899</td>\n",
              "      <td>180.982631</td>\n",
              "      <td>123.340719</td>\n",
              "      <td>228.697390</td>\n",
              "      <td>205.719579</td>\n",
              "      <td>144.856838</td>\n",
              "      <td>19.452236</td>\n",
              "      <td>106.138138</td>\n",
              "      <td>211.358899</td>\n",
              "      <td>21.698528</td>\n",
              "      <td>93.551739</td>\n",
              "      <td>228.697390</td>\n",
              "      <td>A1</td>\n",
              "      <td>D4</td>\n",
              "      <td>Set1</td>\n",
              "    </tr>\n",
              "  </tbody>\n",
              "</table>\n",
              "</div>"
            ],
            "text/plain": [
              "         R-ref       G-ref       B-ref  ...  Shade-ref  Shade  Setting\n",
              "0   237.144469  225.537862  191.670806  ...         A1     A1     Set1\n",
              "1   238.268079  221.316046  178.404350  ...         A1     A2     Set1\n",
              "2   239.281633  218.345102  169.227011  ...         A1     A3     Set1\n",
              "3   237.557341  211.824933  157.151286  ...         A1   A3_5     Set1\n",
              "4   237.519925  210.901388  155.769986  ...         A1     A4     Set1\n",
              "5   237.876633  227.829640  194.271569  ...         A1     B1     Set1\n",
              "6   241.002435  225.828585  183.285853  ...         A1     B2     Set1\n",
              "7   239.281633  218.345102  169.227011  ...         A1     B3     Set1\n",
              "8   237.713903  213.212889  156.062576  ...         A1     B4     Set1\n",
              "9   231.241133  216.264183  179.171090  ...         A1     C1     Set1\n",
              "10  231.858210  211.620810  167.355815  ...         A1     C2     Set1\n",
              "11  230.999351  207.175554  157.773314  ...         A1     C3     Set1\n",
              "12  225.027514  196.419041  145.126938  ...         A1     C4     Set1\n",
              "13  233.037416  217.931580  185.327733  ...         A1     D2     Set1\n",
              "14  232.804642  209.441604  164.924357  ...         A1     D3     Set1\n",
              "15  225.027514  196.419041  145.126938  ...         A1     D4     Set1\n",
              "0   231.544599  214.478370  170.378622  ...         A1     A1     Set1\n",
              "1   233.080919  211.993588  159.461894  ...         A1     A2     Set1\n",
              "2   233.440711  208.726564  151.886129  ...         A1     A3     Set1\n",
              "3   225.943917  196.046749  135.433975  ...         A1   A3_5     Set1\n",
              "4   223.727620  192.575684  131.980765  ...         A1     A4     Set1\n",
              "5   232.635176  218.763412  178.258015  ...         A1     B1     Set1\n",
              "6   230.781349  211.438925  160.437951  ...         A1     B2     Set1\n",
              "7   229.502881  204.008360  143.074507  ...         A1     B3     Set1\n",
              "8   227.516517  198.112004  133.905771  ...         A1     B4     Set1\n",
              "9   224.474637  206.279685  161.905771  ...         A1     C1     Set1\n",
              "10  222.616833  200.076617  149.018992  ...         A1     C2     Set1\n",
              "11  222.178557  195.386089  140.350215  ...         A1     C3     Set1\n",
              "12  211.358899  180.982631  123.340719  ...         A1     C4     Set1\n",
              "13  227.506858  206.507102  159.734194  ...         A1     D2     Set1\n",
              "14  227.208912  204.784677  153.067527  ...         A1     D3     Set1\n",
              "15  211.358899  180.982631  123.340719  ...         A1     D4     Set1\n",
              "\n",
              "[32 rows x 15 columns]"
            ]
          },
          "metadata": {},
          "execution_count": 184
        }
      ]
    },
    {
      "cell_type": "code",
      "metadata": {
        "id": "BohKT6_8LiA8"
      },
      "source": [
        ""
      ],
      "execution_count": null,
      "outputs": []
    }
  ]
}