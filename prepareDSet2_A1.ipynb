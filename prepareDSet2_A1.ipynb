{
  "nbformat": 4,
  "nbformat_minor": 0,
  "metadata": {
    "colab": {
      "name": "prepareDSet2_A1.ipynb",
      "provenance": [],
      "include_colab_link": true
    },
    "kernelspec": {
      "name": "python3",
      "display_name": "Python 3"
    },
    "language_info": {
      "name": "python"
    }
  },
  "cells": [
    {
      "cell_type": "markdown",
      "metadata": {
        "id": "view-in-github",
        "colab_type": "text"
      },
      "source": [
        "<a href=\"https://colab.research.google.com/github/waraporn19/Project_2021_matchingcolor/blob/main/prepareDSet2_A1.ipynb\" target=\"_parent\"><img src=\"https://colab.research.google.com/assets/colab-badge.svg\" alt=\"Open In Colab\"/></a>"
      ]
    },
    {
      "cell_type": "code",
      "metadata": {
        "id": "drOKqbUE2PnQ"
      },
      "source": [
        "import pandas as pd"
      ],
      "execution_count": 102,
      "outputs": []
    },
    {
      "cell_type": "code",
      "metadata": {
        "colab": {
          "base_uri": "https://localhost:8080/"
        },
        "id": "O7x0j_3c2Pjr",
        "outputId": "5bead2f3-166c-4a42-e46f-e0831ab824bf"
      },
      "source": [
        "from google.colab import drive \n",
        "drive.mount('/content/drive')"
      ],
      "execution_count": 103,
      "outputs": [
        {
          "output_type": "stream",
          "name": "stdout",
          "text": [
            "Drive already mounted at /content/drive; to attempt to forcibly remount, call drive.mount(\"/content/drive\", force_remount=True).\n"
          ]
        }
      ]
    },
    {
      "cell_type": "code",
      "metadata": {
        "id": "lsGPiAcg2Pa7"
      },
      "source": [
        "import os"
      ],
      "execution_count": 104,
      "outputs": []
    },
    {
      "cell_type": "code",
      "metadata": {
        "id": "xGv3Ax6o251w"
      },
      "source": [
        "path = '/content/drive/My Drive/shadeimg'"
      ],
      "execution_count": 105,
      "outputs": []
    },
    {
      "cell_type": "code",
      "metadata": {
        "colab": {
          "base_uri": "https://localhost:8080/"
        },
        "id": "DK3-qllN3Huu",
        "outputId": "5768bdf9-4c63-45e0-fe3a-c90d1ba7a143"
      },
      "source": [
        "os.listdir(path)"
      ],
      "execution_count": 106,
      "outputs": [
        {
          "output_type": "execute_result",
          "data": {
            "text/plain": [
              "['9-10 7 2021',\n",
              " 'รูปฟัน07',\n",
              " '11 7 2021',\n",
              " 'ฟันสักอย่างจำวันไม่ได้',\n",
              " '1 teeth .gsheet',\n",
              " '16 8 2021',\n",
              " '17 8 2021',\n",
              " '2 teeth.gsheet',\n",
              " '1 teeth .xlsx',\n",
              " '2 teeth .xlsx']"
            ]
          },
          "metadata": {},
          "execution_count": 106
        }
      ]
    },
    {
      "cell_type": "code",
      "metadata": {
        "id": "qnyateeBbpSP",
        "colab": {
          "base_uri": "https://localhost:8080/"
        },
        "outputId": "55501c58-967e-4121-fc5b-562b0673069a"
      },
      "source": [
        "!pip install azure-storage-blob==2.1.0"
      ],
      "execution_count": 107,
      "outputs": [
        {
          "output_type": "stream",
          "name": "stdout",
          "text": [
            "Requirement already satisfied: azure-storage-blob==2.1.0 in /usr/local/lib/python3.7/dist-packages (2.1.0)\n",
            "Requirement already satisfied: azure-storage-common~=2.1 in /usr/local/lib/python3.7/dist-packages (from azure-storage-blob==2.1.0) (2.1.0)\n",
            "Requirement already satisfied: azure-common>=1.1.5 in /usr/local/lib/python3.7/dist-packages (from azure-storage-blob==2.1.0) (1.1.27)\n",
            "Requirement already satisfied: python-dateutil in /usr/local/lib/python3.7/dist-packages (from azure-storage-common~=2.1->azure-storage-blob==2.1.0) (2.8.2)\n",
            "Requirement already satisfied: cryptography in /usr/local/lib/python3.7/dist-packages (from azure-storage-common~=2.1->azure-storage-blob==2.1.0) (35.0.0)\n",
            "Requirement already satisfied: requests in /usr/local/lib/python3.7/dist-packages (from azure-storage-common~=2.1->azure-storage-blob==2.1.0) (2.23.0)\n",
            "Requirement already satisfied: cffi>=1.12 in /usr/local/lib/python3.7/dist-packages (from cryptography->azure-storage-common~=2.1->azure-storage-blob==2.1.0) (1.14.6)\n",
            "Requirement already satisfied: pycparser in /usr/local/lib/python3.7/dist-packages (from cffi>=1.12->cryptography->azure-storage-common~=2.1->azure-storage-blob==2.1.0) (2.20)\n",
            "Requirement already satisfied: six>=1.5 in /usr/local/lib/python3.7/dist-packages (from python-dateutil->azure-storage-common~=2.1->azure-storage-blob==2.1.0) (1.15.0)\n",
            "Requirement already satisfied: idna<3,>=2.5 in /usr/local/lib/python3.7/dist-packages (from requests->azure-storage-common~=2.1->azure-storage-blob==2.1.0) (2.10)\n",
            "Requirement already satisfied: chardet<4,>=3.0.2 in /usr/local/lib/python3.7/dist-packages (from requests->azure-storage-common~=2.1->azure-storage-blob==2.1.0) (3.0.4)\n",
            "Requirement already satisfied: certifi>=2017.4.17 in /usr/local/lib/python3.7/dist-packages (from requests->azure-storage-common~=2.1->azure-storage-blob==2.1.0) (2021.5.30)\n",
            "Requirement already satisfied: urllib3!=1.25.0,!=1.25.1,<1.26,>=1.21.1 in /usr/local/lib/python3.7/dist-packages (from requests->azure-storage-common~=2.1->azure-storage-blob==2.1.0) (1.24.3)\n"
          ]
        }
      ]
    },
    {
      "cell_type": "code",
      "metadata": {
        "id": "uZRZcO80cxBH"
      },
      "source": [
        "from azure.storage.blob import BlockBlobService\n",
        "import os"
      ],
      "execution_count": 108,
      "outputs": []
    },
    {
      "cell_type": "code",
      "metadata": {
        "id": "tJVMV5DMcyJT"
      },
      "source": [
        "blob_service_client = BlockBlobService(account_name='dent01', account_key='CuShY0B4TZJ84TjzPpaHxyrHOpO73aGXeCpdVq7x26OjIlQ1HOz+3DVc9pDEj9BdcEL8odFuTRF0mOAE+aCgiw==')"
      ],
      "execution_count": 109,
      "outputs": []
    },
    {
      "cell_type": "markdown",
      "metadata": {
        "id": "nNqTWrPIc2qX"
      },
      "source": [
        "#1.สร้างตัวแปรเฉดไกด์"
      ]
    },
    {
      "cell_type": "markdown",
      "metadata": {
        "id": "Z39xITwsdKL0"
      },
      "source": [
        "##Set2"
      ]
    },
    {
      "cell_type": "code",
      "metadata": {
        "id": "YQD6umVydO-P"
      },
      "source": [
        "S2_doubleA1A1_1 = '34F0629C-69B1-4125-85F4-7E496A7847A0.png'\n",
        "S2_doubleA1A2_1 = 'AEBFAF3C-11C4-4EF2-8260-5838F8F52013.png'\n",
        "S2_doubleA1A3_1 = 'CE6B785F-8B23-4F7D-8BB6-8E63EBC72E6C.png'\n",
        "S2_doubleA1A3_51 = '45233628-36DE-4FEE-B7CB-661E14EA313F.png'\n",
        "S2_doubleA1A4_1 = '1FBF4A8E-0006-44D2-9C08-61D87D8952A8.png'\n",
        "S2_doubleA1B1_1 = '1BFDB4C3-F7BE-4F15-B871-6B99CC85141B.png'\n",
        "S2_doubleA1B2_1 = '23C045CF-EE31-494D-8B99-BE985CE3725E.png'\n",
        "S2_doubleA1B3_1 = 'DBFDD2AC-0191-4C0D-AD17-0637A470462E.png'\n",
        "S2_doubleA1B4_1 = '56F27ADF-51AE-4EDB-828A-2F1C5F94583D.png'\n",
        "S2_doubleA1C1_1 = 'ABB8000F-17B5-47FB-85C2-716229841F14.png'\n",
        "S2_doubleA1C2_1 = 'A5FF2537-07B9-4280-BEBF-9D9E952E882B.png'\n",
        "S2_doubleA1C3_1 = '02CEA581-8594-4689-AB73-61778735FA7A.png'\n",
        "S2_doubleA1C4_1 = '4DCAC53D-53D8-4E07-A30F-8EAD67E34DA4.png'\n",
        "S2_doubleA1D2_1 = '79C85FCC-1A21-47FD-B903-3C9B74CB7A12.png'\n",
        "S2_doubleA1D3_1 = 'EB090E23-38A2-49E5-ACE0-C0F500AA9102.png'\n",
        "S2_doubleA1D4_1 = 'C69798C5-16B6-4A23-BD0A-0A6B4EC9B5CE.png'"
      ],
      "execution_count": 110,
      "outputs": []
    },
    {
      "cell_type": "markdown",
      "metadata": {
        "id": "Taw1dl5xglaj"
      },
      "source": [
        "#2. ดึงรูป"
      ]
    },
    {
      "cell_type": "code",
      "metadata": {
        "id": "jPe2WlLY4J0n"
      },
      "source": [
        "import cv2\n",
        "from matplotlib import pyplot as plt #การเรียกใช้คำสั่ง matplotlib เพื่อวาดกราฟ โดยแทนชื่อ matplotlib ด้วย plt\n",
        "import matplotlib"
      ],
      "execution_count": 111,
      "outputs": []
    },
    {
      "cell_type": "markdown",
      "metadata": {
        "id": "JmfKq8t7j28g"
      },
      "source": [
        "##Set2"
      ]
    },
    {
      "cell_type": "code",
      "metadata": {
        "id": "YG9ON04Hj7na",
        "colab": {
          "base_uri": "https://localhost:8080/"
        },
        "outputId": "90180534-66bc-45e5-e58b-57a55786dcd9"
      },
      "source": [
        "full_path_to_file2 = os.path.join(S2_doubleA1A1_1) \n",
        "blob_service_client.get_blob_to_path('shadeimg', full_path_to_file2, full_path_to_file2)"
      ],
      "execution_count": 112,
      "outputs": [
        {
          "output_type": "execute_result",
          "data": {
            "text/plain": [
              "<azure.storage.blob.models.Blob at 0x7fb8c7c37050>"
            ]
          },
          "metadata": {},
          "execution_count": 112
        }
      ]
    },
    {
      "cell_type": "code",
      "metadata": {
        "id": "fpIQGSx4j7na",
        "colab": {
          "base_uri": "https://localhost:8080/"
        },
        "outputId": "9f63866e-7546-44b3-8c8d-52dc8773e596"
      },
      "source": [
        "full_path_to_file2 = os.path.join(S2_doubleA1A2_1) \n",
        "blob_service_client.get_blob_to_path('shadeimg', full_path_to_file2, full_path_to_file2)"
      ],
      "execution_count": 113,
      "outputs": [
        {
          "output_type": "execute_result",
          "data": {
            "text/plain": [
              "<azure.storage.blob.models.Blob at 0x7fb8c7ed0290>"
            ]
          },
          "metadata": {},
          "execution_count": 113
        }
      ]
    },
    {
      "cell_type": "code",
      "metadata": {
        "id": "0vETkmqzj7na",
        "colab": {
          "base_uri": "https://localhost:8080/"
        },
        "outputId": "2373e8f8-0658-40ee-86c6-f319fcb4c63b"
      },
      "source": [
        "full_path_to_file2 = os.path.join(S2_doubleA1A3_1) \n",
        "blob_service_client.get_blob_to_path('shadeimg', full_path_to_file2, full_path_to_file2)"
      ],
      "execution_count": 114,
      "outputs": [
        {
          "output_type": "execute_result",
          "data": {
            "text/plain": [
              "<azure.storage.blob.models.Blob at 0x7fb8c77be610>"
            ]
          },
          "metadata": {},
          "execution_count": 114
        }
      ]
    },
    {
      "cell_type": "code",
      "metadata": {
        "id": "l1GlwzPqj7nb",
        "colab": {
          "base_uri": "https://localhost:8080/"
        },
        "outputId": "60038286-107d-4b8e-ebc1-23212084a87c"
      },
      "source": [
        "full_path_to_file2 = os.path.join(S2_doubleA1A3_51) \n",
        "blob_service_client.get_blob_to_path('shadeimg', full_path_to_file2, full_path_to_file2)"
      ],
      "execution_count": 115,
      "outputs": [
        {
          "output_type": "execute_result",
          "data": {
            "text/plain": [
              "<azure.storage.blob.models.Blob at 0x7fb8c77a95d0>"
            ]
          },
          "metadata": {},
          "execution_count": 115
        }
      ]
    },
    {
      "cell_type": "code",
      "metadata": {
        "id": "qb0jvIuNj7nb",
        "colab": {
          "base_uri": "https://localhost:8080/"
        },
        "outputId": "d4c0fefc-8461-4955-dafa-26091fbc4c8d"
      },
      "source": [
        "full_path_to_file2 = os.path.join(S2_doubleA1A4_1) \n",
        "blob_service_client.get_blob_to_path('shadeimg', full_path_to_file2, full_path_to_file2)"
      ],
      "execution_count": 116,
      "outputs": [
        {
          "output_type": "execute_result",
          "data": {
            "text/plain": [
              "<azure.storage.blob.models.Blob at 0x7fb8c7c288d0>"
            ]
          },
          "metadata": {},
          "execution_count": 116
        }
      ]
    },
    {
      "cell_type": "code",
      "metadata": {
        "id": "lvYoBM2Lj7nb",
        "colab": {
          "base_uri": "https://localhost:8080/"
        },
        "outputId": "1a8705a9-a2d0-4cb1-ee09-4cf70f065b0a"
      },
      "source": [
        "full_path_to_file2 = os.path.join(S2_doubleA1B1_1) \n",
        "blob_service_client.get_blob_to_path('shadeimg', full_path_to_file2, full_path_to_file2)"
      ],
      "execution_count": 117,
      "outputs": [
        {
          "output_type": "execute_result",
          "data": {
            "text/plain": [
              "<azure.storage.blob.models.Blob at 0x7fb8c7ed1050>"
            ]
          },
          "metadata": {},
          "execution_count": 117
        }
      ]
    },
    {
      "cell_type": "code",
      "metadata": {
        "id": "cWIIfSkgj7nb",
        "colab": {
          "base_uri": "https://localhost:8080/"
        },
        "outputId": "78077a18-d5d9-40ca-f02b-cfdc90000bd1"
      },
      "source": [
        "full_path_to_file2 = os.path.join(S2_doubleA1B2_1) \n",
        "blob_service_client.get_blob_to_path('shadeimg', full_path_to_file2, full_path_to_file2)"
      ],
      "execution_count": 118,
      "outputs": [
        {
          "output_type": "execute_result",
          "data": {
            "text/plain": [
              "<azure.storage.blob.models.Blob at 0x7fb8c7c976d0>"
            ]
          },
          "metadata": {},
          "execution_count": 118
        }
      ]
    },
    {
      "cell_type": "code",
      "metadata": {
        "id": "xWiyHdd1j7nb",
        "colab": {
          "base_uri": "https://localhost:8080/"
        },
        "outputId": "1d162979-0b76-4b70-a77f-214b869d01e5"
      },
      "source": [
        "full_path_to_file2 = os.path.join(S2_doubleA1B3_1) \n",
        "blob_service_client.get_blob_to_path('shadeimg', full_path_to_file2, full_path_to_file2)"
      ],
      "execution_count": 119,
      "outputs": [
        {
          "output_type": "execute_result",
          "data": {
            "text/plain": [
              "<azure.storage.blob.models.Blob at 0x7fb8c7ed0350>"
            ]
          },
          "metadata": {},
          "execution_count": 119
        }
      ]
    },
    {
      "cell_type": "code",
      "metadata": {
        "id": "blRYp5Mmj7nc",
        "colab": {
          "base_uri": "https://localhost:8080/"
        },
        "outputId": "6abdb28d-b2b1-458e-d798-fa4e5b3b0718"
      },
      "source": [
        "full_path_to_file2 = os.path.join(S2_doubleA1B4_1) \n",
        "blob_service_client.get_blob_to_path('shadeimg', full_path_to_file2, full_path_to_file2)"
      ],
      "execution_count": 120,
      "outputs": [
        {
          "output_type": "execute_result",
          "data": {
            "text/plain": [
              "<azure.storage.blob.models.Blob at 0x7fb8d15e3350>"
            ]
          },
          "metadata": {},
          "execution_count": 120
        }
      ]
    },
    {
      "cell_type": "code",
      "metadata": {
        "id": "BzHII9hsj7nc",
        "colab": {
          "base_uri": "https://localhost:8080/"
        },
        "outputId": "33d848e0-5b47-4ec8-858b-8b689f8af9d7"
      },
      "source": [
        "full_path_to_file2 = os.path.join(S2_doubleA1C1_1) \n",
        "blob_service_client.get_blob_to_path('shadeimg', full_path_to_file2, full_path_to_file2)"
      ],
      "execution_count": 121,
      "outputs": [
        {
          "output_type": "execute_result",
          "data": {
            "text/plain": [
              "<azure.storage.blob.models.Blob at 0x7fb8c7eb04d0>"
            ]
          },
          "metadata": {},
          "execution_count": 121
        }
      ]
    },
    {
      "cell_type": "code",
      "metadata": {
        "id": "86smhxkzj7nc",
        "colab": {
          "base_uri": "https://localhost:8080/"
        },
        "outputId": "95e14092-8b7c-45ca-c437-fa7cfd2cc8cd"
      },
      "source": [
        "full_path_to_file2 = os.path.join(S2_doubleA1C2_1) \n",
        "blob_service_client.get_blob_to_path('shadeimg', full_path_to_file2, full_path_to_file2)"
      ],
      "execution_count": 122,
      "outputs": [
        {
          "output_type": "execute_result",
          "data": {
            "text/plain": [
              "<azure.storage.blob.models.Blob at 0x7fb8c77b6810>"
            ]
          },
          "metadata": {},
          "execution_count": 122
        }
      ]
    },
    {
      "cell_type": "code",
      "metadata": {
        "id": "bUBV2WtFj7nc",
        "colab": {
          "base_uri": "https://localhost:8080/"
        },
        "outputId": "cdee5be6-d2aa-40cc-9a7b-1cb3fd6241cd"
      },
      "source": [
        "full_path_to_file2 = os.path.join(S2_doubleA1C3_1) \n",
        "blob_service_client.get_blob_to_path('shadeimg', full_path_to_file2, full_path_to_file2)"
      ],
      "execution_count": 123,
      "outputs": [
        {
          "output_type": "execute_result",
          "data": {
            "text/plain": [
              "<azure.storage.blob.models.Blob at 0x7fb8c77c4550>"
            ]
          },
          "metadata": {},
          "execution_count": 123
        }
      ]
    },
    {
      "cell_type": "code",
      "metadata": {
        "id": "FKzepKgNj7nc",
        "colab": {
          "base_uri": "https://localhost:8080/"
        },
        "outputId": "23a8d263-4cf6-4d3c-b38b-5adcc14082dd"
      },
      "source": [
        "full_path_to_file2 = os.path.join(S2_doubleA1C4_1) \n",
        "blob_service_client.get_blob_to_path('shadeimg', full_path_to_file2, full_path_to_file2)"
      ],
      "execution_count": 124,
      "outputs": [
        {
          "output_type": "execute_result",
          "data": {
            "text/plain": [
              "<azure.storage.blob.models.Blob at 0x7fb8c7ed11d0>"
            ]
          },
          "metadata": {},
          "execution_count": 124
        }
      ]
    },
    {
      "cell_type": "code",
      "metadata": {
        "id": "YnvzMa_oj7nc",
        "colab": {
          "base_uri": "https://localhost:8080/"
        },
        "outputId": "4484e3e7-d074-4878-a005-dfc8a7d97727"
      },
      "source": [
        "full_path_to_file2 = os.path.join(S2_doubleA1D2_1) \n",
        "blob_service_client.get_blob_to_path('shadeimg', full_path_to_file2, full_path_to_file2)"
      ],
      "execution_count": 125,
      "outputs": [
        {
          "output_type": "execute_result",
          "data": {
            "text/plain": [
              "<azure.storage.blob.models.Blob at 0x7fb8c7ed7550>"
            ]
          },
          "metadata": {},
          "execution_count": 125
        }
      ]
    },
    {
      "cell_type": "code",
      "metadata": {
        "id": "03OpE9BUj7nd",
        "colab": {
          "base_uri": "https://localhost:8080/"
        },
        "outputId": "89187f04-5080-4872-a881-31a7b9063ff6"
      },
      "source": [
        "full_path_to_file2 = os.path.join(S2_doubleA1D3_1) \n",
        "blob_service_client.get_blob_to_path('shadeimg', full_path_to_file2, full_path_to_file2)"
      ],
      "execution_count": 126,
      "outputs": [
        {
          "output_type": "execute_result",
          "data": {
            "text/plain": [
              "<azure.storage.blob.models.Blob at 0x7fb8c77c4910>"
            ]
          },
          "metadata": {},
          "execution_count": 126
        }
      ]
    },
    {
      "cell_type": "code",
      "metadata": {
        "id": "khY3eumjj7nd",
        "colab": {
          "base_uri": "https://localhost:8080/"
        },
        "outputId": "a471de84-e5a7-4b6d-f707-923b208ea4f4"
      },
      "source": [
        "full_path_to_file2 = os.path.join(S2_doubleA1D4_1) \n",
        "blob_service_client.get_blob_to_path('shadeimg', full_path_to_file2, full_path_to_file2)"
      ],
      "execution_count": 127,
      "outputs": [
        {
          "output_type": "execute_result",
          "data": {
            "text/plain": [
              "<azure.storage.blob.models.Blob at 0x7fb8c7c37c10>"
            ]
          },
          "metadata": {},
          "execution_count": 127
        }
      ]
    },
    {
      "cell_type": "markdown",
      "metadata": {
        "id": "MtmXOojtqN4x"
      },
      "source": [
        "#3. BGR to RGB"
      ]
    },
    {
      "cell_type": "code",
      "metadata": {
        "id": "s8SS5YJfrpRC"
      },
      "source": [
        "import cv2\n",
        "from matplotlib import pyplot as plt #การเรียกใช้คำสั่ง matplotlib เพื่อวาดกราฟ โดยแทนชื่อ matplotlib ด้วย plt\n",
        "import matplotlib"
      ],
      "execution_count": 128,
      "outputs": []
    },
    {
      "cell_type": "markdown",
      "metadata": {
        "id": "ZVjFEQ3i6sbf"
      },
      "source": [
        "##Set2"
      ]
    },
    {
      "cell_type": "code",
      "metadata": {
        "id": "r2k_MxC66yPx"
      },
      "source": [
        "imgS2_A1A1_1  = cv2.imread(S2_doubleA1A1_1)\n",
        "S2RGB_imgA1A1_1= cv2.cvtColor(imgS2_A1A1_1, cv2.COLOR_BGR2RGB)"
      ],
      "execution_count": 129,
      "outputs": []
    },
    {
      "cell_type": "code",
      "metadata": {
        "id": "MHAmt38Z6yPx"
      },
      "source": [
        "imgS2_A1A2_1  = cv2.imread(S2_doubleA1A2_1)\n",
        "S2RGB_imgA1A2_1= cv2.cvtColor(imgS2_A1A2_1, cv2.COLOR_BGR2RGB)"
      ],
      "execution_count": 130,
      "outputs": []
    },
    {
      "cell_type": "code",
      "metadata": {
        "id": "6hh_c6Nz6yPx"
      },
      "source": [
        "imgS2_A1A3_1  = cv2.imread(S2_doubleA1A3_1)\n",
        "S2RGB_imgA1A3_1= cv2.cvtColor(imgS2_A1A3_1, cv2.COLOR_BGR2RGB)"
      ],
      "execution_count": 131,
      "outputs": []
    },
    {
      "cell_type": "code",
      "metadata": {
        "id": "6yyCk-0x6yPx"
      },
      "source": [
        "imgS2_A1A3_51  = cv2.imread(S2_doubleA1A3_51)\n",
        "S2RGB_imgA1A3_51= cv2.cvtColor(imgS2_A1A3_51, cv2.COLOR_BGR2RGB)"
      ],
      "execution_count": 132,
      "outputs": []
    },
    {
      "cell_type": "code",
      "metadata": {
        "id": "t6jh2NW16yPy"
      },
      "source": [
        "imgS2_A1A4_1  = cv2.imread(S2_doubleA1A4_1)\n",
        "S2RGB_imgA1A4_1= cv2.cvtColor(imgS2_A1A4_1, cv2.COLOR_BGR2RGB)"
      ],
      "execution_count": 133,
      "outputs": []
    },
    {
      "cell_type": "code",
      "metadata": {
        "id": "lRHgF5pG6yPy"
      },
      "source": [
        "imgS2_A1B1_1  = cv2.imread(S2_doubleA1B1_1)\n",
        "S2RGB_imgA1B1_1= cv2.cvtColor(imgS2_A1B1_1, cv2.COLOR_BGR2RGB)"
      ],
      "execution_count": 134,
      "outputs": []
    },
    {
      "cell_type": "code",
      "metadata": {
        "id": "P6XZGW0j6yPy"
      },
      "source": [
        "imgS2_A1B2_1  = cv2.imread(S2_doubleA1B2_1)\n",
        "S2RGB_imgA1B2_1= cv2.cvtColor(imgS2_A1B2_1, cv2.COLOR_BGR2RGB)"
      ],
      "execution_count": 135,
      "outputs": []
    },
    {
      "cell_type": "code",
      "metadata": {
        "id": "5i4HMcmU6yPy"
      },
      "source": [
        "imgS2_A1B3_1  = cv2.imread(S2_doubleA1B3_1)\n",
        "S2RGB_imgA1B3_1= cv2.cvtColor(imgS2_A1B3_1, cv2.COLOR_BGR2RGB)"
      ],
      "execution_count": 154,
      "outputs": []
    },
    {
      "cell_type": "code",
      "metadata": {
        "id": "DGJT9njO6yPy"
      },
      "source": [
        "imgS2_A1B4_1  = cv2.imread(S2_doubleA1B4_1)\n",
        "S2RGB_imgA1B4_1= cv2.cvtColor(imgS2_A1B4_1, cv2.COLOR_BGR2RGB)"
      ],
      "execution_count": 137,
      "outputs": []
    },
    {
      "cell_type": "code",
      "metadata": {
        "id": "sBlmlDZT6yPz"
      },
      "source": [
        "imgS2_A1C1_1  = cv2.imread(S2_doubleA1C1_1)\n",
        "S2RGB_imgA1C1_1= cv2.cvtColor(imgS2_A1C1_1, cv2.COLOR_BGR2RGB)"
      ],
      "execution_count": 138,
      "outputs": []
    },
    {
      "cell_type": "code",
      "metadata": {
        "id": "r06WNXcB6yPz"
      },
      "source": [
        "imgS2_A1C2_1  = cv2.imread(S2_doubleA1C2_1)\n",
        "S2RGB_imgA1C2_1= cv2.cvtColor(imgS2_A1C2_1, cv2.COLOR_BGR2RGB)"
      ],
      "execution_count": 139,
      "outputs": []
    },
    {
      "cell_type": "code",
      "metadata": {
        "id": "_zK6PC_D6yPz"
      },
      "source": [
        "imgS2_A1C3_1  = cv2.imread(S2_doubleA1C3_1)\n",
        "S2RGB_imgA1C3_1= cv2.cvtColor(imgS2_A1C3_1, cv2.COLOR_BGR2RGB)"
      ],
      "execution_count": 140,
      "outputs": []
    },
    {
      "cell_type": "code",
      "metadata": {
        "id": "tY93NDVF6yPz"
      },
      "source": [
        "imgS2_A1C4_1  = cv2.imread(S2_doubleA1C4_1)\n",
        "S2RGB_imgA1C4_1= cv2.cvtColor(imgS2_A1C4_1, cv2.COLOR_BGR2RGB)"
      ],
      "execution_count": 141,
      "outputs": []
    },
    {
      "cell_type": "code",
      "metadata": {
        "id": "za8vrXfM6yPz"
      },
      "source": [
        "imgS2_A1D2_1  = cv2.imread(S2_doubleA1D2_1)\n",
        "S2RGB_imgA1D2_1= cv2.cvtColor(imgS2_A1D2_1, cv2.COLOR_BGR2RGB)"
      ],
      "execution_count": 142,
      "outputs": []
    },
    {
      "cell_type": "code",
      "metadata": {
        "id": "m1SZS_Nk6yP0"
      },
      "source": [
        "imgS2_A1D3_1  = cv2.imread(S2_doubleA1D3_1)\n",
        "S2RGB_imgA1D3_1= cv2.cvtColor(imgS2_A1D3_1, cv2.COLOR_BGR2RGB)"
      ],
      "execution_count": 143,
      "outputs": []
    },
    {
      "cell_type": "code",
      "metadata": {
        "id": "sAzPsG0Z6yP0"
      },
      "source": [
        "imgS2_A1D4_1  = cv2.imread(S2_doubleA1D4_1)\n",
        "S2RGB_imgA1D4_1= cv2.cvtColor(imgS2_A1D4_1, cv2.COLOR_BGR2RGB)"
      ],
      "execution_count": 144,
      "outputs": []
    },
    {
      "cell_type": "markdown",
      "metadata": {
        "id": "UNtZVBz0CQoq"
      },
      "source": [
        "#5. ดึงสี"
      ]
    },
    {
      "cell_type": "markdown",
      "metadata": {
        "id": "K3aE8wJsE9ve"
      },
      "source": [
        "##Set2"
      ]
    },
    {
      "cell_type": "code",
      "metadata": {
        "id": "khE2o3vOE_KV"
      },
      "source": [
        "S2A1_1= list()\n",
        "S2A1_2 = list()\n",
        "for i in range(S2RGB_imgA1A1_1.shape[0]): \n",
        "     for j in range(S2RGB_imgA1A1_1.shape[1]): \n",
        "                if 1770<i<1880 and 1700<j<1830 :\n",
        "                    S2A1_1.append(S2RGB_imgA1A1_1[i][j])\n",
        "                if 1770<i<1880 and 2015<j<2145 :\n",
        "                    S2A1_2.append(S2RGB_imgA1A1_1[i][j])   "
      ],
      "execution_count": 145,
      "outputs": []
    },
    {
      "cell_type": "code",
      "metadata": {
        "id": "4kCdvqwGE_KV"
      },
      "source": [
        "S2A1_3= list()\n",
        "S2A2_1 = list()\n",
        "for i in range(S2RGB_imgA1A2_1.shape[0]): \n",
        "     for j in range(S2RGB_imgA1A2_1.shape[1]): \n",
        "                if 1770<i<1880 and 1700<j<1830 :\n",
        "                    S2A1_3.append(S2RGB_imgA1A2_1[i][j])\n",
        "                if 1770<i<1880 and 2015<j<2145 :\n",
        "                    S2A2_1.append(S2RGB_imgA1A2_1[i][j])   "
      ],
      "execution_count": 146,
      "outputs": []
    },
    {
      "cell_type": "code",
      "metadata": {
        "id": "U0X6KhvhE_KV"
      },
      "source": [
        "S2A1_4= list()\n",
        "S2A3_1 = list()\n",
        "for i in range(S2RGB_imgA1A3_1.shape[0]): \n",
        "     for j in range(S2RGB_imgA1A3_1.shape[1]): \n",
        "                if 1770<i<1880 and 1700<j<1830 :\n",
        "                    S2A1_4.append(S2RGB_imgA1A3_1[i][j])\n",
        "                if 1770<i<1880 and 2015<j<2145 :\n",
        "                    S2A3_1.append(S2RGB_imgA1A3_1[i][j])   "
      ],
      "execution_count": 147,
      "outputs": []
    },
    {
      "cell_type": "code",
      "metadata": {
        "id": "BLFMGwWaE_KV"
      },
      "source": [
        "S2A1_5= list()\n",
        "S2A3_51 = list()\n",
        "for i in range(S2RGB_imgA1A3_51.shape[0]): \n",
        "     for j in range(S2RGB_imgA1A3_51.shape[1]): \n",
        "                if 1770<i<1880 and 1700<j<1830 :\n",
        "                    S2A1_5.append(S2RGB_imgA1A3_51[i][j])\n",
        "                if 1770<i<1880 and 2015<j<2145 :\n",
        "                    S2A3_51.append(S2RGB_imgA1A3_51[i][j])"
      ],
      "execution_count": 148,
      "outputs": []
    },
    {
      "cell_type": "code",
      "metadata": {
        "id": "6628zpddE_KV"
      },
      "source": [
        "S2A1_6= list()\n",
        "S2A4_1 = list()\n",
        "for i in range(S2RGB_imgA1A4_1.shape[0]): \n",
        "     for j in range(S2RGB_imgA1A4_1.shape[1]): \n",
        "                if 1770<i<1880 and 1700<j<1830 :\n",
        "                    S2A1_6.append(S2RGB_imgA1A4_1[i][j])\n",
        "                if 1770<i<1880 and 2015<j<2145 :\n",
        "                    S2A4_1.append(S2RGB_imgA1A4_1[i][j])"
      ],
      "execution_count": 149,
      "outputs": []
    },
    {
      "cell_type": "code",
      "metadata": {
        "id": "qi-Bb23SE_KV"
      },
      "source": [
        "S2A1_7= list()\n",
        "S2B1_1 = list()\n",
        "for i in range(S2RGB_imgA1B1_1.shape[0]): \n",
        "     for j in range(S2RGB_imgA1B1_1.shape[1]): \n",
        "                if 1770<i<1880 and 1700<j<1830 :\n",
        "                    S2A1_7.append(S2RGB_imgA1B1_1[i][j])\n",
        "                if 1770<i<1880 and 2015<j<2145 :\n",
        "                    S2B1_1.append(S2RGB_imgA1B1_1[i][j])"
      ],
      "execution_count": 150,
      "outputs": []
    },
    {
      "cell_type": "code",
      "metadata": {
        "id": "WdESh-zdE_KV"
      },
      "source": [
        "S2A1_8= list()\n",
        "S2B2_1 = list()\n",
        "for i in range(S2RGB_imgA1B2_1.shape[0]): \n",
        "     for j in range(S2RGB_imgA1B2_1.shape[1]): \n",
        "                if 1770<i<1880 and 1700<j<1830 :\n",
        "                    S2A1_8.append(S2RGB_imgA1B2_1[i][j])\n",
        "                if 1770<i<1880 and 2015<j<2145 :\n",
        "                    S2B2_1.append(S2RGB_imgA1B2_1[i][j])"
      ],
      "execution_count": 151,
      "outputs": []
    },
    {
      "cell_type": "code",
      "metadata": {
        "id": "jXnLb-2NE_KW"
      },
      "source": [
        "S2A1_9= list()\n",
        "S2B3_1 = list()\n",
        "for i in range(S2RGB_imgA1B3_1.shape[0]): \n",
        "     for j in range(S2RGB_imgA1B3_1.shape[1]): \n",
        "                if 1770<i<1880 and 1700<j<1830 :\n",
        "                    S2A1_9.append(S2RGB_imgA1B3_1[i][j])\n",
        "                if 1770<i<1880 and 2015<j<2145 :\n",
        "                    S2B3_1.append(S2RGB_imgA1B3_1[i][j])"
      ],
      "execution_count": 157,
      "outputs": []
    },
    {
      "cell_type": "code",
      "metadata": {
        "id": "6ISqriBWE_KW"
      },
      "source": [
        "S2A1_10= list()\n",
        "S2B4_1 = list()\n",
        "for i in range(S2RGB_imgA1B4_1.shape[0]): \n",
        "     for j in range(S2RGB_imgA1B4_1.shape[1]): \n",
        "                if 1770<i<1880 and 1700<j<1830 :\n",
        "                    S2A1_10.append(S2RGB_imgA1B4_1[i][j])\n",
        "                if 1770<i<1880 and 2015<j<2145 :\n",
        "                    S2B4_1.append(S2RGB_imgA1B4_1[i][j])"
      ],
      "execution_count": 158,
      "outputs": []
    },
    {
      "cell_type": "code",
      "metadata": {
        "id": "RebcKxFxE_KW"
      },
      "source": [
        "S2A1_11= list()\n",
        "S2C1_1 = list()\n",
        "for i in range(S2RGB_imgA1C1_1.shape[0]): \n",
        "     for j in range(S2RGB_imgA1C1_1.shape[1]): \n",
        "                if 1770<i<1880 and 1700<j<1830 :\n",
        "                    S2A1_11.append(S2RGB_imgA1C1_1[i][j])\n",
        "                if 1770<i<1880 and 2015<j<2145 :\n",
        "                    S2C1_1.append(S2RGB_imgA1C1_1[i][j])   "
      ],
      "execution_count": 166,
      "outputs": []
    },
    {
      "cell_type": "code",
      "metadata": {
        "id": "rYhPStMmE_KW"
      },
      "source": [
        "S2A1_12= list()\n",
        "S2C2_1 = list()\n",
        "for i in range(S2RGB_imgA1C2_1.shape[0]): \n",
        "     for j in range(S2RGB_imgA1C2_1.shape[1]): \n",
        "                if 1770<i<1880 and 1700<j<1830 :\n",
        "                    S2A1_12.append(S2RGB_imgA1C2_1[i][j])\n",
        "                if 1770<i<1880 and 2015<j<2145 :\n",
        "                    S2C2_1.append(S2RGB_imgA1C2_1[i][j])   "
      ],
      "execution_count": 167,
      "outputs": []
    },
    {
      "cell_type": "code",
      "metadata": {
        "id": "h3ox_cTcE_KW"
      },
      "source": [
        "S2A1_13= list()\n",
        "S2C3_1 = list()\n",
        "for i in range(S2RGB_imgA1C3_1.shape[0]): \n",
        "     for j in range(S2RGB_imgA1C3_1.shape[1]): \n",
        "                if 1770<i<1880 and 1700<j<1830 :\n",
        "                    S2A1_13.append(S2RGB_imgA1C3_1[i][j])\n",
        "                if 1770<i<1880 and 2015<j<2145 :\n",
        "                    S2C3_1.append(S2RGB_imgA1C3_1[i][j])   "
      ],
      "execution_count": 168,
      "outputs": []
    },
    {
      "cell_type": "code",
      "metadata": {
        "id": "5hciU69HE_KW"
      },
      "source": [
        "S2A1_14= list()\n",
        "S2C4_1 = list()\n",
        "for i in range(S2RGB_imgA1C4_1.shape[0]): \n",
        "     for j in range(S2RGB_imgA1C4_1.shape[1]): \n",
        "                if 1770<i<1880 and 1700<j<1830 :\n",
        "                    S2A1_14.append(S2RGB_imgA1C4_1[i][j])\n",
        "                if 1770<i<1880 and 2015<j<2145 :\n",
        "                    S2C4_1.append(S2RGB_imgA1C4_1[i][j])"
      ],
      "execution_count": 169,
      "outputs": []
    },
    {
      "cell_type": "code",
      "metadata": {
        "id": "-PIfd58aE_KW"
      },
      "source": [
        "S2A1_15= list()\n",
        "S2D2_1 = list()\n",
        "for i in range(S2RGB_imgA1C2_1.shape[0]): \n",
        "     for j in range(S2RGB_imgA1D2_1.shape[1]): \n",
        "                if 1770<i<1880 and 1700<j<1830 :\n",
        "                    S2A1_15.append(S2RGB_imgA1D2_1[i][j])\n",
        "                if 1770<i<1880 and 2015<j<2145 :\n",
        "                    S2D2_1.append(S2RGB_imgA1D2_1[i][j])   "
      ],
      "execution_count": 170,
      "outputs": []
    },
    {
      "cell_type": "code",
      "metadata": {
        "id": "RWWQk81wE_KW"
      },
      "source": [
        "S2A1_16= list()\n",
        "S2D3_1 = list()\n",
        "for i in range(S2RGB_imgA1D3_1.shape[0]): \n",
        "     for j in range(S2RGB_imgA1D3_1.shape[1]): \n",
        "                if 1770<i<1880 and 1700<j<1830 :\n",
        "                    S2A1_16.append(S2RGB_imgA1D3_1[i][j])\n",
        "                if 1770<i<1880 and 2015<j<2145 :\n",
        "                    S2D3_1.append(S2RGB_imgA1D3_1[i][j])   "
      ],
      "execution_count": 171,
      "outputs": []
    },
    {
      "cell_type": "code",
      "metadata": {
        "id": "--ESatmJE_KW"
      },
      "source": [
        "S2A1_17= list()\n",
        "S2D4_1 = list()\n",
        "for i in range(S2RGB_imgA1D4_1.shape[0]): \n",
        "     for j in range(S2RGB_imgA1D4_1.shape[1]): \n",
        "                if 1770<i<1880 and 1700<j<1830 :\n",
        "                    S2A1_14.append(S2RGB_imgA1D4_1[i][j])\n",
        "                if 1770<i<1880 and 2015<j<2145 :\n",
        "                    S2D4_1.append(S2RGB_imgA1D4_1[i][j])"
      ],
      "execution_count": 172,
      "outputs": []
    },
    {
      "cell_type": "markdown",
      "metadata": {
        "id": "7KPqBEcdIXnZ"
      },
      "source": [
        "#6. หาค่า Mean"
      ]
    },
    {
      "cell_type": "code",
      "metadata": {
        "id": "tePep_ujIfg2"
      },
      "source": [
        "import numpy as np"
      ],
      "execution_count": 173,
      "outputs": []
    },
    {
      "cell_type": "markdown",
      "metadata": {
        "id": "kW9nrJkJOI4F"
      },
      "source": [
        "##Set2"
      ]
    },
    {
      "cell_type": "code",
      "metadata": {
        "id": "D6_wAmquOT_h"
      },
      "source": [
        "S2meanrefA1_1 = list()\n",
        "S2meanA1_2 = list()\n",
        "for i in range(S2RGB_imgA1A1_1.shape[0]): #ให้ i รันตาม row หรือ shape[0] คือแถว มีทั้งหมด 4032 แถว ของภาพที่ปรับขนาดมาแล้ว\n",
        "     for j in range(S2RGB_imgA1A1_1.shape[1]): #ให้ j รันตาม colum มีทั้งหมด 3024 colum เช่น แถวที่ 1 เข้ามาให้รันครบ 3024colum\n",
        "                if 1769<i<1881 and 2019<j<2131 :\n",
        "                  S2meanrefA1_1.append(S2RGB_imgA1A1_1[i][j])\n",
        "                if 1770<i<1880 and 2015<j<2145 :\n",
        "                  S2meanA1_2.append(S2RGB_imgA1A1_1[i][j])  \n",
        "S2meanrefA1_1 = np.array(S2meanrefA1_1)\n",
        "S2meanA1_2 = np.array(S2meanA1_2)\n",
        "\n",
        "S2labrefA1_1 = list()\n",
        "S2labA1_2 = list()\n",
        "for i in range(3):\n",
        "    S2labrefA1_1.append(S2meanrefA1_1[:,i].mean())\n",
        "    S2labA1_2.append(S2meanA1_2[:,i].mean()) "
      ],
      "execution_count": 174,
      "outputs": []
    },
    {
      "cell_type": "code",
      "metadata": {
        "id": "EJlQhqC7OT_i"
      },
      "source": [
        "S2meanrefA1_3 = list()\n",
        "S2meanA2_1 = list()\n",
        "for i in range(S2RGB_imgA1A2_1.shape[0]): \n",
        "     for j in range(S2RGB_imgA1A2_1.shape[1]): \n",
        "                if 1769<i<1881 and 2019<j<2131 :\n",
        "                  S2meanrefA1_3.append(S2RGB_imgA1A2_1[i][j])\n",
        "                if 1770<i<1880 and 2015<j<2145 :\n",
        "                  S2meanA2_1.append(S2RGB_imgA1A2_1[i][j])  \n",
        "S2meanrefA1_3 = np.array(S2meanrefA1_3)\n",
        "S2meanA2_1 = np.array(S2meanA2_1)\n",
        "\n",
        "S2labrefA1_3 = list()\n",
        "S2labA2_1 = list()\n",
        "for i in range(3):\n",
        "    S2labrefA1_3.append(S2meanrefA1_3[:,i].mean())\n",
        "    S2labA2_1.append(S2meanA2_1[:,i].mean())"
      ],
      "execution_count": 175,
      "outputs": []
    },
    {
      "cell_type": "code",
      "metadata": {
        "id": "I_f-AfX0OT_i"
      },
      "source": [
        "S2meanrefA1_4 = list()\n",
        "S2meanA3_1 = list()\n",
        "for i in range(S2RGB_imgA1A3_1.shape[0]): \n",
        "     for j in range(S2RGB_imgA1A3_1.shape[1]): \n",
        "                if 1769<i<1881 and 2019<j<2131 :\n",
        "                  S2meanrefA1_4.append(S2RGB_imgA1A3_1[i][j])\n",
        "                if 1770<i<1880 and 2015<j<2145 :\n",
        "                  S2meanA3_1.append(S2RGB_imgA1A3_1[i][j])  \n",
        "S2meanrefA1_4 = np.array(S2meanrefA1_4)\n",
        "S2meanA3_1 = np.array(S2meanA3_1)\n",
        "\n",
        "S2labrefA1_4 = list()\n",
        "S2labA3_1 = list()\n",
        "for i in range(3):\n",
        "    S2labrefA1_4.append(S2meanrefA1_4[:,i].mean())\n",
        "    S2labA3_1.append(S2meanA3_1[:,i].mean())"
      ],
      "execution_count": 176,
      "outputs": []
    },
    {
      "cell_type": "code",
      "metadata": {
        "id": "JG9hcu4-OT_i"
      },
      "source": [
        "S2meanrefA1_5 = list()\n",
        "S2meanA3_51 = list()\n",
        "for i in range(S2RGB_imgA1A3_51.shape[0]): \n",
        "     for j in range(S2RGB_imgA1A3_51.shape[1]): \n",
        "                if 1769<i<1881 and 2019<j<2131 :\n",
        "                  S2meanrefA1_5.append(S2RGB_imgA1A3_51[i][j])\n",
        "                if 1770<i<1880 and 2015<j<2145 :\n",
        "                  S2meanA3_51.append(S2RGB_imgA1A3_51[i][j])  \n",
        "S2meanrefA1_5 = np.array(S2meanrefA1_5)\n",
        "S2meanA3_51 = np.array(S2meanA3_51)\n",
        "\n",
        "S2labrefA1_5 = list()\n",
        "S2labA3_51 = list()\n",
        "for i in range(3):\n",
        "    S2labrefA1_5.append(S2meanrefA1_5[:,i].mean())\n",
        "    S2labA3_51.append(S2meanA3_51[:,i].mean())"
      ],
      "execution_count": 178,
      "outputs": []
    },
    {
      "cell_type": "code",
      "metadata": {
        "id": "Mj0RQI7UOT_i"
      },
      "source": [
        "S2meanrefA1_6 = list()\n",
        "S2meanA4_1 = list()\n",
        "for i in range(S2RGB_imgA1A4_1.shape[0]): \n",
        "     for j in range(S2RGB_imgA1A4_1.shape[1]): \n",
        "                if 1769<i<1881 and 2019<j<2131 :\n",
        "                  S2meanrefA1_6.append(S2RGB_imgA1A4_1[i][j])\n",
        "                if 1770<i<1880 and 2015<j<2145 :\n",
        "                  S2meanA4_1.append(S2RGB_imgA1A4_1[i][j])  \n",
        "S2meanrefA1_6 = np.array(S2meanrefA1_6)\n",
        "S2meanA4_1 = np.array(S2meanA4_1)\n",
        "\n",
        "S2labrefA1_6 = list()\n",
        "S2labA4_1 = list()\n",
        "for i in range(3):\n",
        "    S2labrefA1_6.append(S2meanrefA1_6[:,i].mean())\n",
        "    S2labA4_1.append(S2meanA4_1[:,i].mean())"
      ],
      "execution_count": 179,
      "outputs": []
    },
    {
      "cell_type": "code",
      "metadata": {
        "id": "Zd07YLK8OT_i"
      },
      "source": [
        "S2meanrefA1_7 = list()\n",
        "S2meanB1_1 = list()\n",
        "for i in range(S2RGB_imgA1B1_1.shape[0]): \n",
        "     for j in range(S2RGB_imgA1B1_1.shape[1]): \n",
        "                if 1769<i<1881 and 2019<j<2131 :\n",
        "                  S2meanrefA1_7.append(S2RGB_imgA1B1_1[i][j])\n",
        "                if 1770<i<1880 and 2015<j<2145 :\n",
        "                  S2meanB1_1.append(S2RGB_imgA1B1_1[i][j])  \n",
        "S2meanrefA1_7 = np.array(S2meanrefA1_7)\n",
        "S2meanB1_1 = np.array(S2meanB1_1)\n",
        "\n",
        "S2labrefA1_7 = list()\n",
        "S2labB1_1 = list()\n",
        "for i in range(3):\n",
        "    S2labrefA1_7.append(S2meanrefA1_7[:,i].mean())\n",
        "    S2labB1_1.append(S2meanB1_1[:,i].mean())"
      ],
      "execution_count": 181,
      "outputs": []
    },
    {
      "cell_type": "code",
      "metadata": {
        "id": "pnAhSHoAOT_i"
      },
      "source": [
        "S2meanrefA1_8 = list()\n",
        "S2meanB2_1 = list()\n",
        "for i in range(S2RGB_imgA1B2_1.shape[0]): \n",
        "     for j in range(S2RGB_imgA1B2_1.shape[1]): \n",
        "                if 1769<i<1881 and 2019<j<2131 :\n",
        "                  S2meanrefA1_8.append(S2RGB_imgA1B2_1[i][j])\n",
        "                if 1770<i<1880 and 2015<j<2145 :\n",
        "                  S2meanB2_1.append(S2RGB_imgA1B2_1[i][j])  \n",
        "S2meanrefA1_8 = np.array(S2meanrefA1_8)\n",
        "S2meanB2_1 = np.array(S2meanB2_1)\n",
        "\n",
        "S2labrefA1_8 = list()\n",
        "S2labB2_1 = list()\n",
        "for i in range(3):\n",
        "    S2labrefA1_8.append(S2meanrefA1_8[:,i].mean())\n",
        "    S2labB2_1.append(S2meanB2_1[:,i].mean())"
      ],
      "execution_count": 182,
      "outputs": []
    },
    {
      "cell_type": "code",
      "metadata": {
        "id": "EvxR0vtzOT_j"
      },
      "source": [
        "S2meanrefA1_9 = list()\n",
        "S2meanB3_1 = list()\n",
        "for i in range(S2RGB_imgA1B3_1.shape[0]): \n",
        "     for j in range(S2RGB_imgA1B3_1.shape[1]): \n",
        "                if 1769<i<1881 and 2019<j<2131 :\n",
        "                  S2meanrefA1_9.append(S2RGB_imgA1B3_1[i][j])\n",
        "                if 1770<i<1880 and 2015<j<2145 :\n",
        "                  S2meanB3_1.append(S2RGB_imgA1B3_1[i][j])  \n",
        "S2meanrefA1_9 = np.array(S2meanrefA1_9)\n",
        "S2meanB3_1 = np.array(S2meanB3_1)\n",
        "\n",
        "S2labrefA1_9 = list()\n",
        "S2labB3_1 = list()\n",
        "for i in range(3):\n",
        "    S2labrefA1_9.append(S2meanrefA1_9[:,i].mean())\n",
        "    S2labB3_1.append(S2meanB3_1[:,i].mean())"
      ],
      "execution_count": 183,
      "outputs": []
    },
    {
      "cell_type": "code",
      "metadata": {
        "id": "UWZfSBsiOT_j"
      },
      "source": [
        "S2meanrefA1_10 = list()\n",
        "S2meanB4_1 = list()\n",
        "for i in range(S2RGB_imgA1B4_1.shape[0]): \n",
        "     for j in range(S2RGB_imgA1B4_1.shape[1]): \n",
        "                if 1769<i<1881 and 2019<j<2131 :\n",
        "                  S2meanrefA1_10.append(S2RGB_imgA1B4_1[i][j])\n",
        "                if 1770<i<1880 and 2015<j<2145 :\n",
        "                  S2meanB4_1.append(S2RGB_imgA1B4_1[i][j])  \n",
        "S2meanrefA1_10 = np.array(S2meanrefA1_10)\n",
        "S2meanB4_1 = np.array(S2meanB4_1)\n",
        "\n",
        "S2labrefA1_10 = list()\n",
        "S2labB4_1 = list()\n",
        "for i in range(3):\n",
        "    S2labrefA1_10.append(S2meanrefA1_10[:,i].mean())\n",
        "    S2labB4_1.append(S2meanB4_1[:,i].mean())"
      ],
      "execution_count": 184,
      "outputs": []
    },
    {
      "cell_type": "code",
      "metadata": {
        "id": "E0iL7_rvOT_j"
      },
      "source": [
        "S2meanrefA1_11 = list()\n",
        "S2meanC1_1 = list()\n",
        "for i in range(S2RGB_imgA1C1_1.shape[0]): \n",
        "     for j in range(S2RGB_imgA1C1_1.shape[1]): \n",
        "                if 1769<i<1881 and 2019<j<2131 :\n",
        "                  S2meanrefA1_11.append(S2RGB_imgA1C1_1[i][j])\n",
        "                if 1770<i<1880 and 2015<j<2145 :\n",
        "                  S2meanC1_1.append(S2RGB_imgA1C1_1[i][j])  \n",
        "S2meanrefA1_11 = np.array(S2meanrefA1_11)\n",
        "S2meanC1_1 = np.array(S2meanC1_1)\n",
        "\n",
        "S2labrefA1_11 = list()\n",
        "S2labC1_1 = list()\n",
        "for i in range(3):\n",
        "    S2labrefA1_7.append(S2meanrefA1_11[:,i].mean())\n",
        "    S2labC1_1.append(S2meanC1_1[:,i].mean())"
      ],
      "execution_count": 188,
      "outputs": []
    },
    {
      "cell_type": "code",
      "metadata": {
        "id": "xYQ3ccu-OT_j"
      },
      "source": [
        "S2meanrefA1_12 = list()\n",
        "S2meanC2_1 = list()\n",
        "for i in range(S2RGB_imgA1C2_1.shape[0]): \n",
        "     for j in range(S2RGB_imgA1C2_1.shape[1]): \n",
        "                if 1769<i<1881 and 2019<j<2131 :\n",
        "                  S2meanrefA1_12.append(S2RGB_imgA1C2_1[i][j])\n",
        "                if 1770<i<1880 and 2015<j<2145 :\n",
        "                  S2meanC2_1.append(S2RGB_imgA1C2_1[i][j])  \n",
        "S2meanrefA1_12 = np.array(S2meanrefA1_12)\n",
        "S2meanC2_1 = np.array(S2meanC2_1)\n",
        "\n",
        "S2labrefA1_12 = list()\n",
        "S2labC2_1 = list()\n",
        "for i in range(3):\n",
        "    S2labrefA1_12.append(S2meanrefA1_12[:,i].mean())\n",
        "    S2labC2_1.append(S2meanC2_1[:,i].mean())"
      ],
      "execution_count": 189,
      "outputs": []
    },
    {
      "cell_type": "code",
      "metadata": {
        "id": "K7ZfvmhMOT_j"
      },
      "source": [
        "S2meanrefA1_13 = list()\n",
        "S2meanC3_1 = list()\n",
        "for i in range(S2RGB_imgA1C3_1.shape[0]): \n",
        "     for j in range(S2RGB_imgA1C3_1.shape[1]): \n",
        "                if 1769<i<1881 and 2019<j<2131 :\n",
        "                  S2meanrefA1_13.append(S2RGB_imgA1C3_1[i][j])\n",
        "                if 1770<i<1880 and 2015<j<2145 :\n",
        "                  S2meanC3_1.append(S2RGB_imgA1C3_1[i][j])  \n",
        "S2meanrefA1_13 = np.array(S2meanrefA1_13)\n",
        "S2meanC3_1 = np.array(S2meanC3_1)\n",
        "\n",
        "S2labrefA1_13 = list()\n",
        "S2labC3_1 = list()\n",
        "for i in range(3):\n",
        "    S2labrefA1_13.append(S2meanrefA1_13[:,i].mean())\n",
        "    S2labC3_1.append(S2meanC3_1[:,i].mean())"
      ],
      "execution_count": 190,
      "outputs": []
    },
    {
      "cell_type": "code",
      "metadata": {
        "id": "JnYE-7tIOT_j"
      },
      "source": [
        "S2meanrefA1_14 = list()\n",
        "S2meanC4_1 = list()\n",
        "for i in range(S2RGB_imgA1C4_1.shape[0]): \n",
        "     for j in range(S2RGB_imgA1C4_1.shape[1]): \n",
        "                if 1769<i<1881 and 2019<j<2131 :\n",
        "                  S2meanrefA1_14.append(S2RGB_imgA1C4_1[i][j])\n",
        "                if 1770<i<1880 and 2015<j<2145 :\n",
        "                  S2meanC4_1.append(S2RGB_imgA1C4_1[i][j])  \n",
        "S2meanrefA1_14 = np.array(S2meanrefA1_14)\n",
        "S2meanC4_1 = np.array(S2meanC4_1)\n",
        "\n",
        "S2labrefA1_14 = list()\n",
        "S2labC4_1 = list()\n",
        "for i in range(3):\n",
        "    S2labrefA1_14.append(S2meanrefA1_14[:,i].mean())\n",
        "    S2labC4_1.append(S2meanC4_1[:,i].mean())"
      ],
      "execution_count": 191,
      "outputs": []
    },
    {
      "cell_type": "code",
      "metadata": {
        "id": "whwVWrEAOT_j"
      },
      "source": [
        "S2meanrefA1_15 = list()\n",
        "S2meanD2_1 = list()\n",
        "for i in range(S2RGB_imgA1D2_1.shape[0]): \n",
        "     for j in range(S2RGB_imgA1D2_1.shape[1]): \n",
        "                if 1769<i<1881 and 2019<j<2131 :\n",
        "                  S2meanrefA1_15.append(S2RGB_imgA1D2_1[i][j])\n",
        "                if 1770<i<1880 and 2015<j<2145 :\n",
        "                  S2meanD2_1.append(S2RGB_imgA1D2_1[i][j])  \n",
        "S2meanrefA1_15 = np.array(S2meanrefA1_15)\n",
        "S2meanD2_1 = np.array(S2meanD2_1)\n",
        "\n",
        "S2labrefA1_15 = list()\n",
        "S2labD2_1 = list()\n",
        "for i in range(3):\n",
        "    S2labrefA1_15.append(S2meanrefA1_15[:,i].mean())\n",
        "    S2labD2_1.append(S2meanD2_1[:,i].mean())"
      ],
      "execution_count": 192,
      "outputs": []
    },
    {
      "cell_type": "code",
      "metadata": {
        "id": "UQ7zahmJOT_j"
      },
      "source": [
        "S2meanrefA1_16 = list()\n",
        "S2meanD3_1 = list()\n",
        "for i in range(S2RGB_imgA1D3_1.shape[0]): \n",
        "     for j in range(S2RGB_imgA1D3_1.shape[1]): \n",
        "                if 1769<i<1881 and 2019<j<2131 :\n",
        "                  S2meanrefA1_16.append(S2RGB_imgA1D3_1[i][j])\n",
        "                if 1770<i<1880 and 2015<j<2145 :\n",
        "                  S2meanD3_1.append(S2RGB_imgA1D3_1[i][j])  \n",
        "S2meanrefA1_16 = np.array(S2meanrefA1_16)\n",
        "S2meanD3_1 = np.array(S2meanD3_1)\n",
        "\n",
        "S2labrefA1_16 = list()\n",
        "S2labD3_1 = list()\n",
        "for i in range(3):\n",
        "    S2labrefA1_16.append(S2meanrefA1_16[:,i].mean())\n",
        "    S2labD3_1.append(S2meanD3_1[:,i].mean())"
      ],
      "execution_count": 193,
      "outputs": []
    },
    {
      "cell_type": "code",
      "metadata": {
        "id": "bYnOvjjUOT_k"
      },
      "source": [
        "S2meanrefA1_17= list()\n",
        "S2meanD4_1 = list()\n",
        "for i in range(S2RGB_imgA1D4_1.shape[0]): \n",
        "     for j in range(S2RGB_imgA1D4_1.shape[1]): \n",
        "                if 1769<i<1881 and 2019<j<2131 :\n",
        "                  S2meanrefA1_17.append(S2RGB_imgA1D4_1[i][j])\n",
        "                if 1770<i<1880 and 2015<j<2145 :\n",
        "                  S2meanD4_1.append(S2RGB_imgA1D4_1[i][j])  \n",
        "S2meanrefA1_17 = np.array(S2meanrefA1_14)\n",
        "S2meanD4_1 = np.array(S2meanD4_1)\n",
        "\n",
        "S2labrefA1_17 = list()\n",
        "S2labD4_1 = list()\n",
        "for i in range(3):\n",
        "    S2labrefA1_17.append(S2meanrefA1_17[:,i].mean())\n",
        "    S2labD4_1.append(S2meanD4_1[:,i].mean())"
      ],
      "execution_count": 196,
      "outputs": []
    }
  ]
}