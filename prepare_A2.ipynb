{
  "nbformat": 4,
  "nbformat_minor": 0,
  "metadata": {
    "colab": {
      "name": "prepare_A2.ipynb",
      "provenance": [],
      "include_colab_link": true
    },
    "kernelspec": {
      "name": "python3",
      "display_name": "Python 3"
    },
    "language_info": {
      "name": "python"
    }
  },
  "cells": [
    {
      "cell_type": "markdown",
      "metadata": {
        "id": "view-in-github",
        "colab_type": "text"
      },
      "source": [
        "<a href=\"https://colab.research.google.com/github/waraporn19/Project_2021_matchingcolor/blob/main/prepare_A2.ipynb\" target=\"_parent\"><img src=\"https://colab.research.google.com/assets/colab-badge.svg\" alt=\"Open In Colab\"/></a>"
      ]
    },
    {
      "cell_type": "code",
      "metadata": {
        "id": "drOKqbUE2PnQ"
      },
      "source": [
        "import pandas as pd"
      ],
      "execution_count": 1,
      "outputs": []
    },
    {
      "cell_type": "code",
      "metadata": {
        "colab": {
          "base_uri": "https://localhost:8080/"
        },
        "id": "O7x0j_3c2Pjr",
        "outputId": "253eb704-941d-46a4-8a26-cc3d5b6e0e97"
      },
      "source": [
        "from google.colab import drive \n",
        "drive.mount('/content/drive')"
      ],
      "execution_count": 2,
      "outputs": [
        {
          "output_type": "stream",
          "name": "stdout",
          "text": [
            "Mounted at /content/drive\n"
          ]
        }
      ]
    },
    {
      "cell_type": "code",
      "metadata": {
        "id": "lsGPiAcg2Pa7"
      },
      "source": [
        "import os"
      ],
      "execution_count": 3,
      "outputs": []
    },
    {
      "cell_type": "code",
      "metadata": {
        "id": "xGv3Ax6o251w"
      },
      "source": [
        "path = '/content/drive/My Drive/shadeimg'"
      ],
      "execution_count": 4,
      "outputs": []
    },
    {
      "cell_type": "code",
      "metadata": {
        "colab": {
          "base_uri": "https://localhost:8080/"
        },
        "id": "DK3-qllN3Huu",
        "outputId": "c11d9bb4-40c7-4a94-e1e3-18818f6bd339"
      },
      "source": [
        "os.listdir(path)"
      ],
      "execution_count": 5,
      "outputs": [
        {
          "output_type": "execute_result",
          "data": {
            "text/plain": [
              "['9-10 7 2021',\n",
              " 'รูปฟัน07',\n",
              " '11 7 2021',\n",
              " 'ฟันสักอย่างจำวันไม่ได้',\n",
              " '1 teeth .gsheet',\n",
              " '16 8 2021',\n",
              " '17 8 2021',\n",
              " '1 teeth .xlsx',\n",
              " '2 teeth .xlsx',\n",
              " '2 teeth.gsheet']"
            ]
          },
          "metadata": {},
          "execution_count": 5
        }
      ]
    },
    {
      "cell_type": "code",
      "metadata": {
        "id": "qnyateeBbpSP",
        "colab": {
          "base_uri": "https://localhost:8080/"
        },
        "outputId": "d24f98d9-8882-4fd6-efab-d283eb3db33b"
      },
      "source": [
        "!pip install azure-storage-blob==2.1.0"
      ],
      "execution_count": 6,
      "outputs": [
        {
          "output_type": "stream",
          "name": "stdout",
          "text": [
            "Collecting azure-storage-blob==2.1.0\n",
            "  Downloading azure_storage_blob-2.1.0-py2.py3-none-any.whl (88 kB)\n",
            "\u001b[K     |████████████████████████████████| 88 kB 4.2 MB/s \n",
            "\u001b[?25hCollecting azure-storage-common~=2.1\n",
            "  Downloading azure_storage_common-2.1.0-py2.py3-none-any.whl (47 kB)\n",
            "\u001b[K     |████████████████████████████████| 47 kB 4.2 MB/s \n",
            "\u001b[?25hCollecting azure-common>=1.1.5\n",
            "  Downloading azure_common-1.1.27-py2.py3-none-any.whl (12 kB)\n",
            "Collecting cryptography\n",
            "  Downloading cryptography-35.0.0-cp36-abi3-manylinux_2_24_x86_64.whl (3.5 MB)\n",
            "\u001b[K     |████████████████████████████████| 3.5 MB 40.3 MB/s \n",
            "\u001b[?25hRequirement already satisfied: python-dateutil in /usr/local/lib/python3.7/dist-packages (from azure-storage-common~=2.1->azure-storage-blob==2.1.0) (2.8.2)\n",
            "Requirement already satisfied: requests in /usr/local/lib/python3.7/dist-packages (from azure-storage-common~=2.1->azure-storage-blob==2.1.0) (2.23.0)\n",
            "Requirement already satisfied: cffi>=1.12 in /usr/local/lib/python3.7/dist-packages (from cryptography->azure-storage-common~=2.1->azure-storage-blob==2.1.0) (1.14.6)\n",
            "Requirement already satisfied: pycparser in /usr/local/lib/python3.7/dist-packages (from cffi>=1.12->cryptography->azure-storage-common~=2.1->azure-storage-blob==2.1.0) (2.20)\n",
            "Requirement already satisfied: six>=1.5 in /usr/local/lib/python3.7/dist-packages (from python-dateutil->azure-storage-common~=2.1->azure-storage-blob==2.1.0) (1.15.0)\n",
            "Requirement already satisfied: certifi>=2017.4.17 in /usr/local/lib/python3.7/dist-packages (from requests->azure-storage-common~=2.1->azure-storage-blob==2.1.0) (2021.5.30)\n",
            "Requirement already satisfied: idna<3,>=2.5 in /usr/local/lib/python3.7/dist-packages (from requests->azure-storage-common~=2.1->azure-storage-blob==2.1.0) (2.10)\n",
            "Requirement already satisfied: chardet<4,>=3.0.2 in /usr/local/lib/python3.7/dist-packages (from requests->azure-storage-common~=2.1->azure-storage-blob==2.1.0) (3.0.4)\n",
            "Requirement already satisfied: urllib3!=1.25.0,!=1.25.1,<1.26,>=1.21.1 in /usr/local/lib/python3.7/dist-packages (from requests->azure-storage-common~=2.1->azure-storage-blob==2.1.0) (1.24.3)\n",
            "Installing collected packages: cryptography, azure-common, azure-storage-common, azure-storage-blob\n",
            "Successfully installed azure-common-1.1.27 azure-storage-blob-2.1.0 azure-storage-common-2.1.0 cryptography-35.0.0\n"
          ]
        }
      ]
    },
    {
      "cell_type": "code",
      "metadata": {
        "id": "uZRZcO80cxBH"
      },
      "source": [
        "from azure.storage.blob import BlockBlobService\n",
        "import os"
      ],
      "execution_count": 7,
      "outputs": []
    },
    {
      "cell_type": "code",
      "metadata": {
        "id": "tJVMV5DMcyJT"
      },
      "source": [
        "blob_service_client = BlockBlobService(account_name='dent01', account_key='CuShY0B4TZJ84TjzPpaHxyrHOpO73aGXeCpdVq7x26OjIlQ1HOz+3DVc9pDEj9BdcEL8odFuTRF0mOAE+aCgiw==')"
      ],
      "execution_count": 8,
      "outputs": []
    },
    {
      "cell_type": "markdown",
      "metadata": {
        "id": "nNqTWrPIc2qX"
      },
      "source": [
        "#1.สร้างตัวแปรเฉดไกด์"
      ]
    },
    {
      "cell_type": "markdown",
      "metadata": {
        "id": "Gx-nvNvXdCDu"
      },
      "source": [
        "##Set1"
      ]
    },
    {
      "cell_type": "code",
      "metadata": {
        "id": "PvY9HB-hc96t"
      },
      "source": [
        "S1_doubleA1A1_1 = '77308B8C-A458-48C0-A0EF-DD05DD0AEA75.png'\n",
        "S1_doubleA1A2_1 = '8F2036D5-7FA6-4E72-9FD5-AD2DAB36D41C.png'\n",
        "S1_doubleA1A3_1 = '6A4D979E-D2FD-4040-929C-6DD59DED8388.png'\n",
        "S1_doubleA1A3_51 = '0F5D4F21-713C-4095-A4A4-2880E49204E4.png'\n",
        "S1_doubleA1A4_1 = '2611137F-38EA-4195-A546-78C5C319F8E7.png'\n",
        "S1_doubleA1B1_1 ='AC156099-1391-4787-89E2-38716A9F8236.png'\n",
        "S1_doubleA1B2_1 ='0FF8E640-C4FF-42C2-A6F7-AAA1842BE569.png'\n",
        "S1_doubleA1B3_1 = 'BC086928-D24C-4B03-B87A-034C69341B3C.png'\n",
        "S1_doubleA1B4_1 = 'B361E1A0-142D-4B09-A622-8C7527187B42.png'\n",
        "S1_doubleA1C1_1 = '0C2442D4-6D7C-40C1-895C-81C2515B62E9.png'\n",
        "S1_doubleA1C2_1 ='0539E9D1-093F-42BD-8A83-A45099B351C4.png'\n",
        "S1_doubleA1C3_1 = '17F20E1C-F6C8-49F5-BC18-DF30D93202DC.png'\n",
        "S1_doubleA1C4_1 = '2A6D10C6-D847-4058-A985-9E00ABA38A05.png'\n",
        "S1_doubleA1D2_1 = 'AA4D54B8-A48D-4F82-AC4F-CBA017CA273E.png'\n",
        "S1_doubleA1D3_1 = 'D0992F61-5094-4CA3-AEC7-700C4A1F36B2.png'\n",
        "S1_doubleA1D4_1 = '8EEAE793-8C78-469A-9729-9545C5077034.png'"
      ],
      "execution_count": 9,
      "outputs": []
    },
    {
      "cell_type": "markdown",
      "metadata": {
        "id": "Z39xITwsdKL0"
      },
      "source": [
        "##Set2"
      ]
    },
    {
      "cell_type": "code",
      "metadata": {
        "id": "YQD6umVydO-P"
      },
      "source": [
        "S2_doubleA1A1_1 ='498C8AAA-DF5D-452F-A34B-1BE1778A67FB.png'\n",
        "S2_doubleA1A2_1 = '77089959-2091-4C40-9DCC-AFCAF5B19783.png'\n",
        "S2_doubleA1A3_1 = '4B50D239-706F-484B-B26A-8AEF0205BEDE.png'\n",
        "S2_doubleA1A3_51 = 'ECEF9BF8-87DB-4492-AB1F-230FAE6DE43A.png'\n",
        "S2_doubleA1A4_1 = 'BC22004C-1C85-4700-8E08-AF72344F8CFA.png'\n",
        "S2_doubleA1B1_1 ='A72BACE2-53CD-4A02-90A9-6FECC43C261D.png'\n",
        "S2_doubleA1B2_1 = '49331F26-069D-4A89-A47B-FEB81E3E84AE.png'\n",
        "S2_doubleA1B3_1 ='293C464C-8530-4EE3-963D-5D547A422B51.png'\n",
        "S2_doubleA1B4_1 = 'B4B4C14B-6381-4E62-9489-AA0C3D1EB96E.png'\n",
        "S2_doubleA1C1_1 = '65E722C0-A779-4B8A-B90D-3EA8D3C70BBC.png'\n",
        "S2_doubleA1C2_1 = 'A53049DB-4A1B-4A2B-8FB2-FBB6E12F0999.png'\n",
        "S2_doubleA1C3_1 = 'B74F7A45-9AB7-4DF2-9E44-9320ACFF3A7F.png'\n",
        "S2_doubleA1C4_1 = 'F97F71B2-19E3-4AAA-AF18-F393AC8D2E37.png'\n",
        "S2_doubleA1D2_1 = '088CE4BC-510A-4816-8F4E-492E8E4D5F07.png'\n",
        "S2_doubleA1D3_1 ='CBC9A7B6-A1F5-4EB3-95AC-3474D3D2116F.png'\n",
        "S2_doubleA1D4_1 = 'FFE78A74-3253-4713-AB3E-B05E221C7FCC.png'"
      ],
      "execution_count": 10,
      "outputs": []
    },
    {
      "cell_type": "markdown",
      "metadata": {
        "id": "cKbTlQkYNhCv"
      },
      "source": [
        "##Set3"
      ]
    },
    {
      "cell_type": "code",
      "metadata": {
        "id": "did2o7PqIJyF"
      },
      "source": [
        "S3_doubleA1A1_1 = '3055D600-52FE-426B-8FB7-F22AD0D97955.png'\n",
        "S3_doubleA1A2_1 = '28DC0803-C4F9-4E75-9DE0-A548702D3007.png'\n",
        "S3_doubleA1A3_1 ='B5572534-4E36-44EB-92B9-22E1B6A169FC.png'\n",
        "S3_doubleA1A3_51 ='21E2F8CC-608A-4BFF-A7FB-7F4749FB6F75.png'\n",
        "S3_doubleA1A4_1 ='06B69171-6CB3-4449-95F3-7CEF694CEBAF.png'\n",
        "S3_doubleA1B1_1 = '4D5DAD31-2F7D-4E57-BF5D-EFE79C0DD42A.png'\n",
        "S3_doubleA1B2_1 = '20A2745E-F03C-4167-BCC2-3A2320685013.png'\n",
        "S3_doubleA1B3_1 = '59F44FAF-888C-4858-B80F-4466EF76BB8C.png'\n",
        "S3_doubleA1B4_1 ='56034518-4BE6-4D3A-B94E-B78ABFBAF464.png'\n",
        "S3_doubleA1C1_1 ='DED5212E-5258-461E-A156-BBD3C51984D7.png'\n",
        "S3_doubleA1C2_1 ='C3B6E06A-FB10-4AE2-AD8A-6CF08520AB3C.png'\n",
        "S3_doubleA1C3_1 ='A868D508-88D1-422F-A6E1-936111775D29.png'\n",
        "S3_doubleA1C4_1 = '42D65CA4-F414-4DBA-A72B-957666053600.png'\n",
        "S3_doubleA1D2_1 ='A988FCC5-6CB9-4D85-B040-D968D02FB0F1.png'\n",
        "S3_doubleA1D3_1 = '9A998D57-093A-4573-88C2-1484F95639F2.png'\n",
        "S3_doubleA1D4_1 = '4AA391FE-CC90-4A8C-AC84-8CDA9E00AAF6.png'"
      ],
      "execution_count": 11,
      "outputs": []
    },
    {
      "cell_type": "markdown",
      "metadata": {
        "id": "XqAK-KJAIKhJ"
      },
      "source": [
        "##Set4"
      ]
    },
    {
      "cell_type": "code",
      "metadata": {
        "id": "kGBOLp-nN2D5"
      },
      "source": [
        "S4_doubleA1A1_1 ='FE70379B-BE7C-4C2F-8F6B-BEC1809BF9B3.png'\n",
        "S4_doubleA1A2_1 ='EB79DB49-B99D-489E-B1DA-CC819F718048.png'\n",
        "S4_doubleA1A3_1 = '674C12EB-C9AB-4DAC-81BB-F97C949B5477.png'\n",
        "S4_doubleA1A3_51 = 'DE70CBA3-567C-4D91-8052-6BAA0A7FC2C0.png'\n",
        "S4_doubleA1A4_1 = 'CF583D52-015C-4595-B140-14602580D92A.png'\n",
        "S4_doubleA1B1_1 ='E7D7CEFB-A168-4ED2-A747-E3811F8FD9B2.png'\n",
        "S4_doubleA1B2_1 ='A5CB72D6-84FA-4026-A08F-53AAB9F74BE1.png'\n",
        "S4_doubleA1B3_1 = '861CC4A7-92E1-47A3-949F-BD8208D61F9E.png'\n",
        "S4_doubleA1B4_1 ='5DE2E7CA-AB0C-4DDE-83C2-5A7A7ACEA8EB.png'\n",
        "S4_doubleA1C1_1 ='B25A0219-102A-4E19-8A57-2E8575C3CD9F.png'\n",
        "S4_doubleA1C2_1 ='CC4F1C0D-A6D5-4AF8-AC6C-5DB123D15F0D.png'\n",
        "S4_doubleA1C3_1 ='768F7750-1D59-4A7D-BAFF-D016F286E991.png'\n",
        "S4_doubleA1C4_1 = '607004AD-13A6-4312-AECE-842B5A6DCA0A.png'\n",
        "S4_doubleA1D2_1 = '6D746E8F-1545-4DB8-A3E4-5686E8A9E237.png'\n",
        "S4_doubleA1D3_1 = '98E0B0DA-B9D9-4D15-8898-80F3730CB3EC.png'\n",
        "S4_doubleA1D4_1 = '557B21E3-961E-4286-82B0-ABCB7CB22D8E.png'"
      ],
      "execution_count": 12,
      "outputs": []
    },
    {
      "cell_type": "markdown",
      "metadata": {
        "id": "Taw1dl5xglaj"
      },
      "source": [
        "#2. ดึงรูป"
      ]
    },
    {
      "cell_type": "code",
      "metadata": {
        "id": "jPe2WlLY4J0n"
      },
      "source": [
        "import cv2\n",
        "from matplotlib import pyplot as plt #การเรียกใช้คำสั่ง matplotlib เพื่อวาดกราฟ โดยแทนชื่อ matplotlib ด้วย plt\n",
        "import matplotlib"
      ],
      "execution_count": 13,
      "outputs": []
    },
    {
      "cell_type": "markdown",
      "metadata": {
        "id": "7Gl_H8idgnRf"
      },
      "source": [
        "##Set1"
      ]
    },
    {
      "cell_type": "code",
      "metadata": {
        "id": "s7mF6eEHiQ19",
        "colab": {
          "base_uri": "https://localhost:8080/"
        },
        "outputId": "6c4aeece-2177-4828-f153-3a81fc2dcf26"
      },
      "source": [
        "full_path_to_file2 = os.path.join(S1_doubleA1A1_1) \n",
        "blob_service_client.get_blob_to_path('shadeimg', full_path_to_file2, full_path_to_file2)"
      ],
      "execution_count": 14,
      "outputs": [
        {
          "output_type": "execute_result",
          "data": {
            "text/plain": [
              "<azure.storage.blob.models.Blob at 0x7f8649619210>"
            ]
          },
          "metadata": {},
          "execution_count": 14
        }
      ]
    },
    {
      "cell_type": "code",
      "metadata": {
        "id": "kzMKB_OniZY1",
        "colab": {
          "base_uri": "https://localhost:8080/"
        },
        "outputId": "d47b1b10-b52f-4971-e313-12643951419c"
      },
      "source": [
        "full_path_to_file2 = os.path.join(S1_doubleA1A2_1) \n",
        "blob_service_client.get_blob_to_path('shadeimg', full_path_to_file2, full_path_to_file2)"
      ],
      "execution_count": 15,
      "outputs": [
        {
          "output_type": "execute_result",
          "data": {
            "text/plain": [
              "<azure.storage.blob.models.Blob at 0x7f865281a650>"
            ]
          },
          "metadata": {},
          "execution_count": 15
        }
      ]
    },
    {
      "cell_type": "code",
      "metadata": {
        "id": "IkeC-Fivih3w",
        "colab": {
          "base_uri": "https://localhost:8080/"
        },
        "outputId": "2bf249b7-721d-4d92-df91-445a735cdb76"
      },
      "source": [
        "full_path_to_file2 = os.path.join(S1_doubleA1A3_1) \n",
        "blob_service_client.get_blob_to_path('shadeimg', full_path_to_file2, full_path_to_file2)"
      ],
      "execution_count": 16,
      "outputs": [
        {
          "output_type": "execute_result",
          "data": {
            "text/plain": [
              "<azure.storage.blob.models.Blob at 0x7f865281add0>"
            ]
          },
          "metadata": {},
          "execution_count": 16
        }
      ]
    },
    {
      "cell_type": "code",
      "metadata": {
        "id": "3Y9aMJj6ij5n",
        "colab": {
          "base_uri": "https://localhost:8080/"
        },
        "outputId": "29072a1e-a7b8-4704-cb2a-1017f2a0ecf3"
      },
      "source": [
        "full_path_to_file2 = os.path.join(S1_doubleA1A3_51) \n",
        "blob_service_client.get_blob_to_path('shadeimg', full_path_to_file2, full_path_to_file2)"
      ],
      "execution_count": 17,
      "outputs": [
        {
          "output_type": "execute_result",
          "data": {
            "text/plain": [
              "<azure.storage.blob.models.Blob at 0x7f86495b5510>"
            ]
          },
          "metadata": {},
          "execution_count": 17
        }
      ]
    },
    {
      "cell_type": "code",
      "metadata": {
        "id": "yrJq8907iuoY",
        "colab": {
          "base_uri": "https://localhost:8080/"
        },
        "outputId": "e3218de5-07c8-43b5-cdb4-92698ca36855"
      },
      "source": [
        "full_path_to_file2 = os.path.join(S1_doubleA1A4_1) \n",
        "blob_service_client.get_blob_to_path('shadeimg', full_path_to_file2, full_path_to_file2)"
      ],
      "execution_count": 18,
      "outputs": [
        {
          "output_type": "execute_result",
          "data": {
            "text/plain": [
              "<azure.storage.blob.models.Blob at 0x7f86495c8610>"
            ]
          },
          "metadata": {},
          "execution_count": 18
        }
      ]
    },
    {
      "cell_type": "code",
      "metadata": {
        "id": "0VJcKHW2i0Ac",
        "colab": {
          "base_uri": "https://localhost:8080/"
        },
        "outputId": "45c4b835-34e7-4067-fd31-94771b4a7c08"
      },
      "source": [
        "full_path_to_file2 = os.path.join(S1_doubleA1B1_1) \n",
        "blob_service_client.get_blob_to_path('shadeimg', full_path_to_file2, full_path_to_file2)"
      ],
      "execution_count": 19,
      "outputs": [
        {
          "output_type": "execute_result",
          "data": {
            "text/plain": [
              "<azure.storage.blob.models.Blob at 0x7f86495d6950>"
            ]
          },
          "metadata": {},
          "execution_count": 19
        }
      ]
    },
    {
      "cell_type": "code",
      "metadata": {
        "id": "hY3AI9RFi0Ad",
        "colab": {
          "base_uri": "https://localhost:8080/"
        },
        "outputId": "0708f987-f554-4aa0-b30d-864ee1a3b897"
      },
      "source": [
        "full_path_to_file2 = os.path.join(S1_doubleA1B2_1) \n",
        "blob_service_client.get_blob_to_path('shadeimg', full_path_to_file2, full_path_to_file2)"
      ],
      "execution_count": 20,
      "outputs": [
        {
          "output_type": "execute_result",
          "data": {
            "text/plain": [
              "<azure.storage.blob.models.Blob at 0x7f86495da9d0>"
            ]
          },
          "metadata": {},
          "execution_count": 20
        }
      ]
    },
    {
      "cell_type": "code",
      "metadata": {
        "id": "GApmsAnKi0Ad",
        "colab": {
          "base_uri": "https://localhost:8080/"
        },
        "outputId": "37721211-a6fb-472e-d8cc-9d99dad841b4"
      },
      "source": [
        "full_path_to_file2 = os.path.join(S1_doubleA1B3_1) \n",
        "blob_service_client.get_blob_to_path('shadeimg', full_path_to_file2, full_path_to_file2)"
      ],
      "execution_count": 21,
      "outputs": [
        {
          "output_type": "execute_result",
          "data": {
            "text/plain": [
              "<azure.storage.blob.models.Blob at 0x7f86495d6dd0>"
            ]
          },
          "metadata": {},
          "execution_count": 21
        }
      ]
    },
    {
      "cell_type": "code",
      "metadata": {
        "id": "O1h96HYqi7cu",
        "colab": {
          "base_uri": "https://localhost:8080/"
        },
        "outputId": "6b66eb2b-4537-4a31-a077-92c23c1e3053"
      },
      "source": [
        "full_path_to_file2 = os.path.join(S1_doubleA1B4_1) \n",
        "blob_service_client.get_blob_to_path('shadeimg', full_path_to_file2, full_path_to_file2)"
      ],
      "execution_count": 22,
      "outputs": [
        {
          "output_type": "execute_result",
          "data": {
            "text/plain": [
              "<azure.storage.blob.models.Blob at 0x7f8649145c50>"
            ]
          },
          "metadata": {},
          "execution_count": 22
        }
      ]
    },
    {
      "cell_type": "code",
      "metadata": {
        "id": "RsMHbknqi_fT",
        "colab": {
          "base_uri": "https://localhost:8080/"
        },
        "outputId": "c9adcaac-1806-4453-b865-81c5efb7e9a8"
      },
      "source": [
        "full_path_to_file2 = os.path.join(S1_doubleA1C1_1) \n",
        "blob_service_client.get_blob_to_path('shadeimg', full_path_to_file2, full_path_to_file2)"
      ],
      "execution_count": 23,
      "outputs": [
        {
          "output_type": "execute_result",
          "data": {
            "text/plain": [
              "<azure.storage.blob.models.Blob at 0x7f8649145050>"
            ]
          },
          "metadata": {},
          "execution_count": 23
        }
      ]
    },
    {
      "cell_type": "code",
      "metadata": {
        "id": "wI0oZemgi_fT",
        "colab": {
          "base_uri": "https://localhost:8080/"
        },
        "outputId": "9a00e9cc-d30a-45ae-db58-35c10995aa83"
      },
      "source": [
        "full_path_to_file2 = os.path.join(S1_doubleA1C2_1) \n",
        "blob_service_client.get_blob_to_path('shadeimg', full_path_to_file2, full_path_to_file2)"
      ],
      "execution_count": 24,
      "outputs": [
        {
          "output_type": "execute_result",
          "data": {
            "text/plain": [
              "<azure.storage.blob.models.Blob at 0x7f8649145d50>"
            ]
          },
          "metadata": {},
          "execution_count": 24
        }
      ]
    },
    {
      "cell_type": "code",
      "metadata": {
        "id": "6ga7nGGti_fT",
        "colab": {
          "base_uri": "https://localhost:8080/"
        },
        "outputId": "e07294ad-884b-4618-dc77-3e0932bea778"
      },
      "source": [
        "full_path_to_file2 = os.path.join(S1_doubleA1C3_1) \n",
        "blob_service_client.get_blob_to_path('shadeimg', full_path_to_file2, full_path_to_file2)"
      ],
      "execution_count": 25,
      "outputs": [
        {
          "output_type": "execute_result",
          "data": {
            "text/plain": [
              "<azure.storage.blob.models.Blob at 0x7f8649145810>"
            ]
          },
          "metadata": {},
          "execution_count": 25
        }
      ]
    },
    {
      "cell_type": "code",
      "metadata": {
        "id": "nsiPutfEi_fU",
        "colab": {
          "base_uri": "https://localhost:8080/"
        },
        "outputId": "6f17f2e3-8023-4aff-eea7-8435db50d502"
      },
      "source": [
        "full_path_to_file2 = os.path.join(S1_doubleA1C4_1) \n",
        "blob_service_client.get_blob_to_path('shadeimg', full_path_to_file2, full_path_to_file2)"
      ],
      "execution_count": 26,
      "outputs": [
        {
          "output_type": "execute_result",
          "data": {
            "text/plain": [
              "<azure.storage.blob.models.Blob at 0x7f8652879850>"
            ]
          },
          "metadata": {},
          "execution_count": 26
        }
      ]
    },
    {
      "cell_type": "code",
      "metadata": {
        "id": "IlqllUIljGVj",
        "colab": {
          "base_uri": "https://localhost:8080/"
        },
        "outputId": "dbf2e41e-0b27-44f1-e4a5-bb425db1a49f"
      },
      "source": [
        "full_path_to_file2 = os.path.join(S1_doubleA1D2_1) \n",
        "blob_service_client.get_blob_to_path('shadeimg', full_path_to_file2, full_path_to_file2)"
      ],
      "execution_count": 27,
      "outputs": [
        {
          "output_type": "execute_result",
          "data": {
            "text/plain": [
              "<azure.storage.blob.models.Blob at 0x7f865281a990>"
            ]
          },
          "metadata": {},
          "execution_count": 27
        }
      ]
    },
    {
      "cell_type": "code",
      "metadata": {
        "id": "jXXF16lsjGVj",
        "colab": {
          "base_uri": "https://localhost:8080/"
        },
        "outputId": "70c73f06-a5bd-4049-c5e1-e16ee58d8ef7"
      },
      "source": [
        "full_path_to_file2 = os.path.join(S1_doubleA1D3_1) \n",
        "blob_service_client.get_blob_to_path('shadeimg', full_path_to_file2, full_path_to_file2)"
      ],
      "execution_count": 28,
      "outputs": [
        {
          "output_type": "execute_result",
          "data": {
            "text/plain": [
              "<azure.storage.blob.models.Blob at 0x7f864960e8d0>"
            ]
          },
          "metadata": {},
          "execution_count": 28
        }
      ]
    },
    {
      "cell_type": "code",
      "metadata": {
        "id": "xRA_M-1PjGVj",
        "colab": {
          "base_uri": "https://localhost:8080/"
        },
        "outputId": "1253884c-21de-413b-eddf-d1816808ebe5"
      },
      "source": [
        "full_path_to_file2 = os.path.join(S1_doubleA1D4_1) \n",
        "blob_service_client.get_blob_to_path('shadeimg', full_path_to_file2, full_path_to_file2)"
      ],
      "execution_count": 29,
      "outputs": [
        {
          "output_type": "execute_result",
          "data": {
            "text/plain": [
              "<azure.storage.blob.models.Blob at 0x7f86495da410>"
            ]
          },
          "metadata": {},
          "execution_count": 29
        }
      ]
    },
    {
      "cell_type": "markdown",
      "metadata": {
        "id": "JmfKq8t7j28g"
      },
      "source": [
        "##Set2"
      ]
    },
    {
      "cell_type": "code",
      "metadata": {
        "id": "YG9ON04Hj7na",
        "colab": {
          "base_uri": "https://localhost:8080/"
        },
        "outputId": "87fc4b54-a7fb-438e-a7e7-201a867e2051"
      },
      "source": [
        "full_path_to_file2 = os.path.join(S2_doubleA1A1_1) \n",
        "blob_service_client.get_blob_to_path('shadeimg', full_path_to_file2, full_path_to_file2)"
      ],
      "execution_count": 30,
      "outputs": [
        {
          "output_type": "execute_result",
          "data": {
            "text/plain": [
              "<azure.storage.blob.models.Blob at 0x7f8649155990>"
            ]
          },
          "metadata": {},
          "execution_count": 30
        }
      ]
    },
    {
      "cell_type": "code",
      "metadata": {
        "id": "fpIQGSx4j7na",
        "colab": {
          "base_uri": "https://localhost:8080/"
        },
        "outputId": "d11da9e7-8f84-4aaf-f6c2-172684ff0a98"
      },
      "source": [
        "full_path_to_file2 = os.path.join(S2_doubleA1A2_1) \n",
        "blob_service_client.get_blob_to_path('shadeimg', full_path_to_file2, full_path_to_file2)"
      ],
      "execution_count": 31,
      "outputs": [
        {
          "output_type": "execute_result",
          "data": {
            "text/plain": [
              "<azure.storage.blob.models.Blob at 0x7f8649619c90>"
            ]
          },
          "metadata": {},
          "execution_count": 31
        }
      ]
    },
    {
      "cell_type": "code",
      "metadata": {
        "id": "0vETkmqzj7na",
        "colab": {
          "base_uri": "https://localhost:8080/"
        },
        "outputId": "2a9c961b-265e-467b-a07b-67c99f762130"
      },
      "source": [
        "full_path_to_file2 = os.path.join(S2_doubleA1A3_1) \n",
        "blob_service_client.get_blob_to_path('shadeimg', full_path_to_file2, full_path_to_file2)"
      ],
      "execution_count": 32,
      "outputs": [
        {
          "output_type": "execute_result",
          "data": {
            "text/plain": [
              "<azure.storage.blob.models.Blob at 0x7f86495da850>"
            ]
          },
          "metadata": {},
          "execution_count": 32
        }
      ]
    },
    {
      "cell_type": "code",
      "metadata": {
        "id": "l1GlwzPqj7nb",
        "colab": {
          "base_uri": "https://localhost:8080/"
        },
        "outputId": "e3b54dfb-ed9e-40de-e665-eb76f13122cd"
      },
      "source": [
        "full_path_to_file2 = os.path.join(S2_doubleA1A3_51) \n",
        "blob_service_client.get_blob_to_path('shadeimg', full_path_to_file2, full_path_to_file2)"
      ],
      "execution_count": 33,
      "outputs": [
        {
          "output_type": "execute_result",
          "data": {
            "text/plain": [
              "<azure.storage.blob.models.Blob at 0x7f86495b5050>"
            ]
          },
          "metadata": {},
          "execution_count": 33
        }
      ]
    },
    {
      "cell_type": "code",
      "metadata": {
        "id": "qb0jvIuNj7nb",
        "colab": {
          "base_uri": "https://localhost:8080/"
        },
        "outputId": "bac432ed-9fe7-4efb-82f7-78e349eef278"
      },
      "source": [
        "full_path_to_file2 = os.path.join(S2_doubleA1A4_1) \n",
        "blob_service_client.get_blob_to_path('shadeimg', full_path_to_file2, full_path_to_file2)"
      ],
      "execution_count": 34,
      "outputs": [
        {
          "output_type": "execute_result",
          "data": {
            "text/plain": [
              "<azure.storage.blob.models.Blob at 0x7f86495c8f90>"
            ]
          },
          "metadata": {},
          "execution_count": 34
        }
      ]
    },
    {
      "cell_type": "code",
      "metadata": {
        "id": "lvYoBM2Lj7nb",
        "colab": {
          "base_uri": "https://localhost:8080/"
        },
        "outputId": "89b68ffa-3d8d-4764-c07d-f109d0ca20ec"
      },
      "source": [
        "full_path_to_file2 = os.path.join(S2_doubleA1B1_1) \n",
        "blob_service_client.get_blob_to_path('shadeimg', full_path_to_file2, full_path_to_file2)"
      ],
      "execution_count": 35,
      "outputs": [
        {
          "output_type": "execute_result",
          "data": {
            "text/plain": [
              "<azure.storage.blob.models.Blob at 0x7f864915b310>"
            ]
          },
          "metadata": {},
          "execution_count": 35
        }
      ]
    },
    {
      "cell_type": "code",
      "metadata": {
        "id": "cWIIfSkgj7nb",
        "colab": {
          "base_uri": "https://localhost:8080/"
        },
        "outputId": "d7a72d79-5d94-4263-e24f-946fbe81bd5e"
      },
      "source": [
        "full_path_to_file2 = os.path.join(S2_doubleA1B2_1) \n",
        "blob_service_client.get_blob_to_path('shadeimg', full_path_to_file2, full_path_to_file2)"
      ],
      "execution_count": 36,
      "outputs": [
        {
          "output_type": "execute_result",
          "data": {
            "text/plain": [
              "<azure.storage.blob.models.Blob at 0x7f86495da350>"
            ]
          },
          "metadata": {},
          "execution_count": 36
        }
      ]
    },
    {
      "cell_type": "code",
      "metadata": {
        "id": "xWiyHdd1j7nb",
        "colab": {
          "base_uri": "https://localhost:8080/"
        },
        "outputId": "38a94ea2-8ff0-4459-b281-af3d06e9889c"
      },
      "source": [
        "full_path_to_file2 = os.path.join(S2_doubleA1B3_1) \n",
        "blob_service_client.get_blob_to_path('shadeimg', full_path_to_file2, full_path_to_file2)"
      ],
      "execution_count": 37,
      "outputs": [
        {
          "output_type": "execute_result",
          "data": {
            "text/plain": [
              "<azure.storage.blob.models.Blob at 0x7f864915b350>"
            ]
          },
          "metadata": {},
          "execution_count": 37
        }
      ]
    },
    {
      "cell_type": "code",
      "metadata": {
        "id": "blRYp5Mmj7nc",
        "colab": {
          "base_uri": "https://localhost:8080/"
        },
        "outputId": "0420ec78-e8b5-482e-b0bd-62549983c383"
      },
      "source": [
        "full_path_to_file2 = os.path.join(S2_doubleA1B4_1) \n",
        "blob_service_client.get_blob_to_path('shadeimg', full_path_to_file2, full_path_to_file2)"
      ],
      "execution_count": 38,
      "outputs": [
        {
          "output_type": "execute_result",
          "data": {
            "text/plain": [
              "<azure.storage.blob.models.Blob at 0x7f864915d710>"
            ]
          },
          "metadata": {},
          "execution_count": 38
        }
      ]
    },
    {
      "cell_type": "code",
      "metadata": {
        "id": "BzHII9hsj7nc",
        "colab": {
          "base_uri": "https://localhost:8080/"
        },
        "outputId": "03ad37d8-dd9f-45cf-9a34-58ddd0690318"
      },
      "source": [
        "full_path_to_file2 = os.path.join(S2_doubleA1C1_1) \n",
        "blob_service_client.get_blob_to_path('shadeimg', full_path_to_file2, full_path_to_file2)"
      ],
      "execution_count": 39,
      "outputs": [
        {
          "output_type": "execute_result",
          "data": {
            "text/plain": [
              "<azure.storage.blob.models.Blob at 0x7f8649168510>"
            ]
          },
          "metadata": {},
          "execution_count": 39
        }
      ]
    },
    {
      "cell_type": "code",
      "metadata": {
        "id": "86smhxkzj7nc",
        "colab": {
          "base_uri": "https://localhost:8080/"
        },
        "outputId": "be2dd4d1-132e-4e6e-c127-6e1b6e7f0345"
      },
      "source": [
        "full_path_to_file2 = os.path.join(S2_doubleA1C2_1) \n",
        "blob_service_client.get_blob_to_path('shadeimg', full_path_to_file2, full_path_to_file2)"
      ],
      "execution_count": 40,
      "outputs": [
        {
          "output_type": "execute_result",
          "data": {
            "text/plain": [
              "<azure.storage.blob.models.Blob at 0x7f864915be50>"
            ]
          },
          "metadata": {},
          "execution_count": 40
        }
      ]
    },
    {
      "cell_type": "code",
      "metadata": {
        "id": "bUBV2WtFj7nc",
        "colab": {
          "base_uri": "https://localhost:8080/"
        },
        "outputId": "be2d98c2-fdfa-4f8e-98d7-92f333f5f872"
      },
      "source": [
        "full_path_to_file2 = os.path.join(S2_doubleA1C3_1) \n",
        "blob_service_client.get_blob_to_path('shadeimg', full_path_to_file2, full_path_to_file2)"
      ],
      "execution_count": 41,
      "outputs": [
        {
          "output_type": "execute_result",
          "data": {
            "text/plain": [
              "<azure.storage.blob.models.Blob at 0x7f864961bc50>"
            ]
          },
          "metadata": {},
          "execution_count": 41
        }
      ]
    },
    {
      "cell_type": "code",
      "metadata": {
        "id": "FKzepKgNj7nc",
        "colab": {
          "base_uri": "https://localhost:8080/"
        },
        "outputId": "086509e0-5beb-421c-e48e-00f04880ca1e"
      },
      "source": [
        "full_path_to_file2 = os.path.join(S2_doubleA1C4_1) \n",
        "blob_service_client.get_blob_to_path('shadeimg', full_path_to_file2, full_path_to_file2)"
      ],
      "execution_count": 42,
      "outputs": [
        {
          "output_type": "execute_result",
          "data": {
            "text/plain": [
              "<azure.storage.blob.models.Blob at 0x7f86491572d0>"
            ]
          },
          "metadata": {},
          "execution_count": 42
        }
      ]
    },
    {
      "cell_type": "code",
      "metadata": {
        "id": "YnvzMa_oj7nc",
        "colab": {
          "base_uri": "https://localhost:8080/"
        },
        "outputId": "953e2b20-e61d-44da-da0b-5f4d330e11b3"
      },
      "source": [
        "full_path_to_file2 = os.path.join(S2_doubleA1D2_1) \n",
        "blob_service_client.get_blob_to_path('shadeimg', full_path_to_file2, full_path_to_file2)"
      ],
      "execution_count": 43,
      "outputs": [
        {
          "output_type": "execute_result",
          "data": {
            "text/plain": [
              "<azure.storage.blob.models.Blob at 0x7f864960e890>"
            ]
          },
          "metadata": {},
          "execution_count": 43
        }
      ]
    },
    {
      "cell_type": "code",
      "metadata": {
        "id": "03OpE9BUj7nd",
        "colab": {
          "base_uri": "https://localhost:8080/"
        },
        "outputId": "dafa3965-7b54-42f5-8b60-744f361e3f88"
      },
      "source": [
        "full_path_to_file2 = os.path.join(S2_doubleA1D3_1) \n",
        "blob_service_client.get_blob_to_path('shadeimg', full_path_to_file2, full_path_to_file2)"
      ],
      "execution_count": 44,
      "outputs": [
        {
          "output_type": "execute_result",
          "data": {
            "text/plain": [
              "<azure.storage.blob.models.Blob at 0x7f8649168c90>"
            ]
          },
          "metadata": {},
          "execution_count": 44
        }
      ]
    },
    {
      "cell_type": "code",
      "metadata": {
        "id": "khY3eumjj7nd",
        "colab": {
          "base_uri": "https://localhost:8080/"
        },
        "outputId": "610e0709-d0e1-4ef0-b6ba-194d9ac4c832"
      },
      "source": [
        "full_path_to_file2 = os.path.join(S2_doubleA1D4_1) \n",
        "blob_service_client.get_blob_to_path('shadeimg', full_path_to_file2, full_path_to_file2)"
      ],
      "execution_count": 45,
      "outputs": [
        {
          "output_type": "execute_result",
          "data": {
            "text/plain": [
              "<azure.storage.blob.models.Blob at 0x7f864915d3d0>"
            ]
          },
          "metadata": {},
          "execution_count": 45
        }
      ]
    },
    {
      "cell_type": "code",
      "metadata": {
        "id": "T70mbZfcNo6q"
      },
      "source": [
        ""
      ],
      "execution_count": 45,
      "outputs": []
    },
    {
      "cell_type": "markdown",
      "metadata": {
        "id": "Q3_Me1CGkKOR"
      },
      "source": [
        "##Set3"
      ]
    },
    {
      "cell_type": "code",
      "metadata": {
        "id": "rEVmkmEHkP6w",
        "colab": {
          "base_uri": "https://localhost:8080/"
        },
        "outputId": "27e1ce0e-899c-452f-c9cc-d6985af41c92"
      },
      "source": [
        "full_path_to_file2 = os.path.join(S3_doubleA1A1_1) \n",
        "blob_service_client.get_blob_to_path('shadeimg', full_path_to_file2, full_path_to_file2)"
      ],
      "execution_count": 46,
      "outputs": [
        {
          "output_type": "execute_result",
          "data": {
            "text/plain": [
              "<azure.storage.blob.models.Blob at 0x7f8649174590>"
            ]
          },
          "metadata": {},
          "execution_count": 46
        }
      ]
    },
    {
      "cell_type": "code",
      "metadata": {
        "id": "E2zB9r0nkP6w",
        "colab": {
          "base_uri": "https://localhost:8080/"
        },
        "outputId": "23386985-c0c9-4476-9f49-db22aa75541b"
      },
      "source": [
        "full_path_to_file2 = os.path.join(S3_doubleA1A2_1) \n",
        "blob_service_client.get_blob_to_path('shadeimg', full_path_to_file2, full_path_to_file2)"
      ],
      "execution_count": 47,
      "outputs": [
        {
          "output_type": "execute_result",
          "data": {
            "text/plain": [
              "<azure.storage.blob.models.Blob at 0x7f864915de50>"
            ]
          },
          "metadata": {},
          "execution_count": 47
        }
      ]
    },
    {
      "cell_type": "code",
      "metadata": {
        "id": "khquyJtfkP6w",
        "colab": {
          "base_uri": "https://localhost:8080/"
        },
        "outputId": "c3a07336-1996-474d-b833-b03f1f4dff29"
      },
      "source": [
        "full_path_to_file2 = os.path.join(S3_doubleA1A3_1) \n",
        "blob_service_client.get_blob_to_path('shadeimg', full_path_to_file2, full_path_to_file2)"
      ],
      "execution_count": 48,
      "outputs": [
        {
          "output_type": "execute_result",
          "data": {
            "text/plain": [
              "<azure.storage.blob.models.Blob at 0x7f8649175610>"
            ]
          },
          "metadata": {},
          "execution_count": 48
        }
      ]
    },
    {
      "cell_type": "code",
      "metadata": {
        "id": "g30DpucakP6w",
        "colab": {
          "base_uri": "https://localhost:8080/"
        },
        "outputId": "18dd466f-3bde-474e-b5f3-7ac9e6960aa0"
      },
      "source": [
        "full_path_to_file2 = os.path.join(S3_doubleA1A3_51) \n",
        "blob_service_client.get_blob_to_path('shadeimg', full_path_to_file2, full_path_to_file2)"
      ],
      "execution_count": 49,
      "outputs": [
        {
          "output_type": "execute_result",
          "data": {
            "text/plain": [
              "<azure.storage.blob.models.Blob at 0x7f86495d6e50>"
            ]
          },
          "metadata": {},
          "execution_count": 49
        }
      ]
    },
    {
      "cell_type": "code",
      "metadata": {
        "id": "to8VKPf7kP6x",
        "colab": {
          "base_uri": "https://localhost:8080/"
        },
        "outputId": "715b4f6f-50e5-4197-a313-8a4185e2eb77"
      },
      "source": [
        "full_path_to_file2 = os.path.join(S3_doubleA1A4_1) \n",
        "blob_service_client.get_blob_to_path('shadeimg', full_path_to_file2, full_path_to_file2)"
      ],
      "execution_count": 50,
      "outputs": [
        {
          "output_type": "execute_result",
          "data": {
            "text/plain": [
              "<azure.storage.blob.models.Blob at 0x7f86495daa50>"
            ]
          },
          "metadata": {},
          "execution_count": 50
        }
      ]
    },
    {
      "cell_type": "code",
      "metadata": {
        "id": "kPdx-IstkP6x",
        "colab": {
          "base_uri": "https://localhost:8080/"
        },
        "outputId": "38cf79a0-7b3e-4092-a66b-bb5bf3c303b7"
      },
      "source": [
        "full_path_to_file2 = os.path.join(S3_doubleA1B1_1) \n",
        "blob_service_client.get_blob_to_path('shadeimg', full_path_to_file2, full_path_to_file2)"
      ],
      "execution_count": 51,
      "outputs": [
        {
          "output_type": "execute_result",
          "data": {
            "text/plain": [
              "<azure.storage.blob.models.Blob at 0x7f8649168ad0>"
            ]
          },
          "metadata": {},
          "execution_count": 51
        }
      ]
    },
    {
      "cell_type": "code",
      "metadata": {
        "id": "ihyLdsa6kP6x",
        "colab": {
          "base_uri": "https://localhost:8080/"
        },
        "outputId": "1f3ef857-cb75-48af-c5b9-623bd08b1c06"
      },
      "source": [
        "full_path_to_file2 = os.path.join(S3_doubleA1B2_1) \n",
        "blob_service_client.get_blob_to_path('shadeimg', full_path_to_file2, full_path_to_file2)"
      ],
      "execution_count": 52,
      "outputs": [
        {
          "output_type": "execute_result",
          "data": {
            "text/plain": [
              "<azure.storage.blob.models.Blob at 0x7f8649168c50>"
            ]
          },
          "metadata": {},
          "execution_count": 52
        }
      ]
    },
    {
      "cell_type": "code",
      "metadata": {
        "id": "1SnnyHPPkP6x",
        "colab": {
          "base_uri": "https://localhost:8080/"
        },
        "outputId": "1710e07f-981c-4de3-83b9-0b323b1fd956"
      },
      "source": [
        "full_path_to_file2 = os.path.join(S3_doubleA1B3_1) \n",
        "blob_service_client.get_blob_to_path('shadeimg', full_path_to_file2, full_path_to_file2)"
      ],
      "execution_count": 53,
      "outputs": [
        {
          "output_type": "execute_result",
          "data": {
            "text/plain": [
              "<azure.storage.blob.models.Blob at 0x7f8649168390>"
            ]
          },
          "metadata": {},
          "execution_count": 53
        }
      ]
    },
    {
      "cell_type": "code",
      "metadata": {
        "id": "GtNbhDGtkP6y",
        "colab": {
          "base_uri": "https://localhost:8080/"
        },
        "outputId": "93dcfb96-6a93-4b26-9181-e4b821e27d18"
      },
      "source": [
        "full_path_to_file2 = os.path.join(S3_doubleA1B4_1) \n",
        "blob_service_client.get_blob_to_path('shadeimg', full_path_to_file2, full_path_to_file2)"
      ],
      "execution_count": 54,
      "outputs": [
        {
          "output_type": "execute_result",
          "data": {
            "text/plain": [
              "<azure.storage.blob.models.Blob at 0x7f8649175050>"
            ]
          },
          "metadata": {},
          "execution_count": 54
        }
      ]
    },
    {
      "cell_type": "code",
      "metadata": {
        "id": "lTqSTkX8kP6y",
        "colab": {
          "base_uri": "https://localhost:8080/"
        },
        "outputId": "711aed98-2f0a-4d12-fa68-761e5438149e"
      },
      "source": [
        "full_path_to_file2 = os.path.join(S3_doubleA1C1_1) \n",
        "blob_service_client.get_blob_to_path('shadeimg', full_path_to_file2, full_path_to_file2)"
      ],
      "execution_count": 55,
      "outputs": [
        {
          "output_type": "execute_result",
          "data": {
            "text/plain": [
              "<azure.storage.blob.models.Blob at 0x7f8649175090>"
            ]
          },
          "metadata": {},
          "execution_count": 55
        }
      ]
    },
    {
      "cell_type": "code",
      "metadata": {
        "id": "MFPbxYuSkP6y",
        "colab": {
          "base_uri": "https://localhost:8080/"
        },
        "outputId": "3d19f616-a5aa-4666-e499-558b66058b77"
      },
      "source": [
        "full_path_to_file2 = os.path.join(S3_doubleA1C2_1) \n",
        "blob_service_client.get_blob_to_path('shadeimg', full_path_to_file2, full_path_to_file2)"
      ],
      "execution_count": 56,
      "outputs": [
        {
          "output_type": "execute_result",
          "data": {
            "text/plain": [
              "<azure.storage.blob.models.Blob at 0x7f86495d6190>"
            ]
          },
          "metadata": {},
          "execution_count": 56
        }
      ]
    },
    {
      "cell_type": "code",
      "metadata": {
        "id": "v9bYx36OkP6y",
        "colab": {
          "base_uri": "https://localhost:8080/"
        },
        "outputId": "b9427063-88cf-483e-ae98-4a1e5b42c21e"
      },
      "source": [
        "full_path_to_file2 = os.path.join(S3_doubleA1C3_1) \n",
        "blob_service_client.get_blob_to_path('shadeimg', full_path_to_file2, full_path_to_file2)"
      ],
      "execution_count": 57,
      "outputs": [
        {
          "output_type": "execute_result",
          "data": {
            "text/plain": [
              "<azure.storage.blob.models.Blob at 0x7f8649155a90>"
            ]
          },
          "metadata": {},
          "execution_count": 57
        }
      ]
    },
    {
      "cell_type": "code",
      "metadata": {
        "id": "RfK5JrGhkP6y",
        "colab": {
          "base_uri": "https://localhost:8080/"
        },
        "outputId": "b34fd34f-ebbb-49f4-c2ca-21c915ca6358"
      },
      "source": [
        "full_path_to_file2 = os.path.join(S3_doubleA1C4_1) \n",
        "blob_service_client.get_blob_to_path('shadeimg', full_path_to_file2, full_path_to_file2)"
      ],
      "execution_count": 58,
      "outputs": [
        {
          "output_type": "execute_result",
          "data": {
            "text/plain": [
              "<azure.storage.blob.models.Blob at 0x7f8649174a10>"
            ]
          },
          "metadata": {},
          "execution_count": 58
        }
      ]
    },
    {
      "cell_type": "code",
      "metadata": {
        "id": "O2jZnO3RkP6y",
        "colab": {
          "base_uri": "https://localhost:8080/"
        },
        "outputId": "731cf7d7-4b86-4306-8e0f-db915e85cbfb"
      },
      "source": [
        "full_path_to_file2 = os.path.join(S3_doubleA1D2_1) \n",
        "blob_service_client.get_blob_to_path('shadeimg', full_path_to_file2, full_path_to_file2)"
      ],
      "execution_count": 59,
      "outputs": [
        {
          "output_type": "execute_result",
          "data": {
            "text/plain": [
              "<azure.storage.blob.models.Blob at 0x7f8649174fd0>"
            ]
          },
          "metadata": {},
          "execution_count": 59
        }
      ]
    },
    {
      "cell_type": "code",
      "metadata": {
        "id": "kFiVo-PUkP6z",
        "colab": {
          "base_uri": "https://localhost:8080/"
        },
        "outputId": "1ca24a57-eee1-40f1-9949-42d612e32148"
      },
      "source": [
        "full_path_to_file2 = os.path.join(S3_doubleA1D3_1) \n",
        "blob_service_client.get_blob_to_path('shadeimg', full_path_to_file2, full_path_to_file2)"
      ],
      "execution_count": 60,
      "outputs": [
        {
          "output_type": "execute_result",
          "data": {
            "text/plain": [
              "<azure.storage.blob.models.Blob at 0x7f864915d690>"
            ]
          },
          "metadata": {},
          "execution_count": 60
        }
      ]
    },
    {
      "cell_type": "code",
      "metadata": {
        "id": "b3f1LDx1kP6z",
        "colab": {
          "base_uri": "https://localhost:8080/"
        },
        "outputId": "aa7580f0-0077-451d-b27b-6b65bf137a18"
      },
      "source": [
        "full_path_to_file2 = os.path.join(S3_doubleA1D4_1) \n",
        "blob_service_client.get_blob_to_path('shadeimg', full_path_to_file2, full_path_to_file2)"
      ],
      "execution_count": 61,
      "outputs": [
        {
          "output_type": "execute_result",
          "data": {
            "text/plain": [
              "<azure.storage.blob.models.Blob at 0x7f864916cf90>"
            ]
          },
          "metadata": {},
          "execution_count": 61
        }
      ]
    },
    {
      "cell_type": "markdown",
      "metadata": {
        "id": "2-qqdDCqkLii"
      },
      "source": [
        "##Set4"
      ]
    },
    {
      "cell_type": "code",
      "metadata": {
        "id": "4E1UeuklpZx4",
        "colab": {
          "base_uri": "https://localhost:8080/"
        },
        "outputId": "68777d1d-3a55-43c4-cb3a-22a52198f8db"
      },
      "source": [
        "full_path_to_file2 = os.path.join(S4_doubleA1A1_1) \n",
        "blob_service_client.get_blob_to_path('shadeimg', full_path_to_file2, full_path_to_file2)"
      ],
      "execution_count": 62,
      "outputs": [
        {
          "output_type": "execute_result",
          "data": {
            "text/plain": [
              "<azure.storage.blob.models.Blob at 0x7f8649109d90>"
            ]
          },
          "metadata": {},
          "execution_count": 62
        }
      ]
    },
    {
      "cell_type": "code",
      "metadata": {
        "id": "VfaCxfJjpZx5",
        "colab": {
          "base_uri": "https://localhost:8080/"
        },
        "outputId": "61289ad0-b681-419b-db10-b6dcce19dd4a"
      },
      "source": [
        "full_path_to_file2 = os.path.join(S4_doubleA1A2_1) \n",
        "blob_service_client.get_blob_to_path('shadeimg', full_path_to_file2, full_path_to_file2)"
      ],
      "execution_count": 63,
      "outputs": [
        {
          "output_type": "execute_result",
          "data": {
            "text/plain": [
              "<azure.storage.blob.models.Blob at 0x7f8649155610>"
            ]
          },
          "metadata": {},
          "execution_count": 63
        }
      ]
    },
    {
      "cell_type": "code",
      "metadata": {
        "id": "3zFh2y2IpZx5",
        "colab": {
          "base_uri": "https://localhost:8080/"
        },
        "outputId": "71456871-8940-470e-856b-7dcb1f4d1fe4"
      },
      "source": [
        "full_path_to_file2 = os.path.join(S4_doubleA1A3_1) \n",
        "blob_service_client.get_blob_to_path('shadeimg', full_path_to_file2, full_path_to_file2)"
      ],
      "execution_count": 64,
      "outputs": [
        {
          "output_type": "execute_result",
          "data": {
            "text/plain": [
              "<azure.storage.blob.models.Blob at 0x7f8649109c50>"
            ]
          },
          "metadata": {},
          "execution_count": 64
        }
      ]
    },
    {
      "cell_type": "code",
      "metadata": {
        "id": "X_rktcv8pZx5",
        "colab": {
          "base_uri": "https://localhost:8080/"
        },
        "outputId": "dd00c4a4-3eda-40f1-c1c5-3672c399a86b"
      },
      "source": [
        "full_path_to_file2 = os.path.join(S4_doubleA1A3_51) \n",
        "blob_service_client.get_blob_to_path('shadeimg', full_path_to_file2, full_path_to_file2)"
      ],
      "execution_count": 65,
      "outputs": [
        {
          "output_type": "execute_result",
          "data": {
            "text/plain": [
              "<azure.storage.blob.models.Blob at 0x7f864915d4d0>"
            ]
          },
          "metadata": {},
          "execution_count": 65
        }
      ]
    },
    {
      "cell_type": "code",
      "metadata": {
        "id": "m59vf9VfpZx5",
        "colab": {
          "base_uri": "https://localhost:8080/"
        },
        "outputId": "9855bd72-e5b6-4f7f-c065-0bc38b4e0278"
      },
      "source": [
        "full_path_to_file2 = os.path.join(S4_doubleA1A4_1) \n",
        "blob_service_client.get_blob_to_path('shadeimg', full_path_to_file2, full_path_to_file2)"
      ],
      "execution_count": 66,
      "outputs": [
        {
          "output_type": "execute_result",
          "data": {
            "text/plain": [
              "<azure.storage.blob.models.Blob at 0x7f86491754d0>"
            ]
          },
          "metadata": {},
          "execution_count": 66
        }
      ]
    },
    {
      "cell_type": "code",
      "metadata": {
        "id": "D_5Yd3w7pZx6",
        "colab": {
          "base_uri": "https://localhost:8080/"
        },
        "outputId": "44da96e5-e55c-494b-fa78-70b984f36ad5"
      },
      "source": [
        "full_path_to_file2 = os.path.join(S4_doubleA1B1_1) \n",
        "blob_service_client.get_blob_to_path('shadeimg', full_path_to_file2, full_path_to_file2)"
      ],
      "execution_count": 67,
      "outputs": [
        {
          "output_type": "execute_result",
          "data": {
            "text/plain": [
              "<azure.storage.blob.models.Blob at 0x7f864910f4d0>"
            ]
          },
          "metadata": {},
          "execution_count": 67
        }
      ]
    },
    {
      "cell_type": "code",
      "metadata": {
        "id": "RHWuivGUpZx6",
        "colab": {
          "base_uri": "https://localhost:8080/"
        },
        "outputId": "c7ba89b8-e036-480b-ef01-95ae5952bb16"
      },
      "source": [
        "full_path_to_file2 = os.path.join(S4_doubleA1B2_1) \n",
        "blob_service_client.get_blob_to_path('shadeimg', full_path_to_file2, full_path_to_file2)"
      ],
      "execution_count": 68,
      "outputs": [
        {
          "output_type": "execute_result",
          "data": {
            "text/plain": [
              "<azure.storage.blob.models.Blob at 0x7f8649112850>"
            ]
          },
          "metadata": {},
          "execution_count": 68
        }
      ]
    },
    {
      "cell_type": "code",
      "metadata": {
        "id": "G5lF8IhzpZx6",
        "colab": {
          "base_uri": "https://localhost:8080/"
        },
        "outputId": "5f2387f3-b01d-40ab-a824-26dcc29e1323"
      },
      "source": [
        "full_path_to_file2 = os.path.join(S4_doubleA1B3_1) \n",
        "blob_service_client.get_blob_to_path('shadeimg', full_path_to_file2, full_path_to_file2)"
      ],
      "execution_count": 69,
      "outputs": [
        {
          "output_type": "execute_result",
          "data": {
            "text/plain": [
              "<azure.storage.blob.models.Blob at 0x7f8649174810>"
            ]
          },
          "metadata": {},
          "execution_count": 69
        }
      ]
    },
    {
      "cell_type": "code",
      "metadata": {
        "id": "N9xFdoP7pZx6",
        "colab": {
          "base_uri": "https://localhost:8080/"
        },
        "outputId": "46bfdd12-a5ae-4d76-ef15-c8323af77170"
      },
      "source": [
        "full_path_to_file2 = os.path.join(S4_doubleA1B4_1) \n",
        "blob_service_client.get_blob_to_path('shadeimg', full_path_to_file2, full_path_to_file2)"
      ],
      "execution_count": 70,
      "outputs": [
        {
          "output_type": "execute_result",
          "data": {
            "text/plain": [
              "<azure.storage.blob.models.Blob at 0x7f86491177d0>"
            ]
          },
          "metadata": {},
          "execution_count": 70
        }
      ]
    },
    {
      "cell_type": "code",
      "metadata": {
        "id": "1dH05CslpZx6",
        "colab": {
          "base_uri": "https://localhost:8080/"
        },
        "outputId": "ec3b8e71-47f2-436e-ab2d-bb20ed0dbdd1"
      },
      "source": [
        "full_path_to_file2 = os.path.join(S4_doubleA1C1_1) \n",
        "blob_service_client.get_blob_to_path('shadeimg', full_path_to_file2, full_path_to_file2)"
      ],
      "execution_count": 71,
      "outputs": [
        {
          "output_type": "execute_result",
          "data": {
            "text/plain": [
              "<azure.storage.blob.models.Blob at 0x7f8649117590>"
            ]
          },
          "metadata": {},
          "execution_count": 71
        }
      ]
    },
    {
      "cell_type": "code",
      "metadata": {
        "id": "BWLm1RmLpZx7",
        "colab": {
          "base_uri": "https://localhost:8080/"
        },
        "outputId": "fee01983-0590-4fef-9537-41aeb1a4cedd"
      },
      "source": [
        "full_path_to_file2 = os.path.join(S4_doubleA1C2_1) \n",
        "blob_service_client.get_blob_to_path('shadeimg', full_path_to_file2, full_path_to_file2)"
      ],
      "execution_count": 72,
      "outputs": [
        {
          "output_type": "execute_result",
          "data": {
            "text/plain": [
              "<azure.storage.blob.models.Blob at 0x7f8649112350>"
            ]
          },
          "metadata": {},
          "execution_count": 72
        }
      ]
    },
    {
      "cell_type": "code",
      "metadata": {
        "id": "yvYHkKPYpZx7",
        "colab": {
          "base_uri": "https://localhost:8080/"
        },
        "outputId": "ba83a127-6751-443f-98ee-f2cbd66ba532"
      },
      "source": [
        "full_path_to_file2 = os.path.join(S4_doubleA1C3_1) \n",
        "blob_service_client.get_blob_to_path('shadeimg', full_path_to_file2, full_path_to_file2)"
      ],
      "execution_count": 73,
      "outputs": [
        {
          "output_type": "execute_result",
          "data": {
            "text/plain": [
              "<azure.storage.blob.models.Blob at 0x7f8649145210>"
            ]
          },
          "metadata": {},
          "execution_count": 73
        }
      ]
    },
    {
      "cell_type": "code",
      "metadata": {
        "id": "XCLVoapQpZx7",
        "colab": {
          "base_uri": "https://localhost:8080/"
        },
        "outputId": "06252422-9abe-4350-bd63-23c73530f892"
      },
      "source": [
        "full_path_to_file2 = os.path.join(S4_doubleA1C4_1) \n",
        "blob_service_client.get_blob_to_path('shadeimg', full_path_to_file2, full_path_to_file2)"
      ],
      "execution_count": 74,
      "outputs": [
        {
          "output_type": "execute_result",
          "data": {
            "text/plain": [
              "<azure.storage.blob.models.Blob at 0x7f8649109090>"
            ]
          },
          "metadata": {},
          "execution_count": 74
        }
      ]
    },
    {
      "cell_type": "code",
      "metadata": {
        "id": "T99mwTaZpZx7",
        "colab": {
          "base_uri": "https://localhost:8080/"
        },
        "outputId": "701727b6-3393-4000-dc98-515ba5a595ee"
      },
      "source": [
        "full_path_to_file2 = os.path.join(S4_doubleA1D2_1) \n",
        "blob_service_client.get_blob_to_path('shadeimg', full_path_to_file2, full_path_to_file2)"
      ],
      "execution_count": 75,
      "outputs": [
        {
          "output_type": "execute_result",
          "data": {
            "text/plain": [
              "<azure.storage.blob.models.Blob at 0x7f8649112810>"
            ]
          },
          "metadata": {},
          "execution_count": 75
        }
      ]
    },
    {
      "cell_type": "code",
      "metadata": {
        "id": "vf1xxPF3pZx7",
        "colab": {
          "base_uri": "https://localhost:8080/"
        },
        "outputId": "3beff4a1-2fd5-4d66-b4c5-cdd5f87d92e5"
      },
      "source": [
        "full_path_to_file2 = os.path.join(S4_doubleA1D3_1) \n",
        "blob_service_client.get_blob_to_path('shadeimg', full_path_to_file2, full_path_to_file2)"
      ],
      "execution_count": 76,
      "outputs": [
        {
          "output_type": "execute_result",
          "data": {
            "text/plain": [
              "<azure.storage.blob.models.Blob at 0x7f86495c8fd0>"
            ]
          },
          "metadata": {},
          "execution_count": 76
        }
      ]
    },
    {
      "cell_type": "code",
      "metadata": {
        "id": "ThZA9xm3pZx8",
        "colab": {
          "base_uri": "https://localhost:8080/"
        },
        "outputId": "d06e310e-3b87-4f6d-a590-0512d4a00f80"
      },
      "source": [
        "full_path_to_file2 = os.path.join(S4_doubleA1D4_1) \n",
        "blob_service_client.get_blob_to_path('shadeimg', full_path_to_file2, full_path_to_file2)"
      ],
      "execution_count": 77,
      "outputs": [
        {
          "output_type": "execute_result",
          "data": {
            "text/plain": [
              "<azure.storage.blob.models.Blob at 0x7f864910f650>"
            ]
          },
          "metadata": {},
          "execution_count": 77
        }
      ]
    },
    {
      "cell_type": "markdown",
      "metadata": {
        "id": "MtmXOojtqN4x"
      },
      "source": [
        "#3. BGR to RGB"
      ]
    },
    {
      "cell_type": "code",
      "metadata": {
        "id": "s8SS5YJfrpRC"
      },
      "source": [
        "import cv2\n",
        "from matplotlib import pyplot as plt #การเรียกใช้คำสั่ง matplotlib เพื่อวาดกราฟ โดยแทนชื่อ matplotlib ด้วย plt\n",
        "import matplotlib"
      ],
      "execution_count": 78,
      "outputs": []
    },
    {
      "cell_type": "markdown",
      "metadata": {
        "id": "tngQqkwA41EB"
      },
      "source": [
        "##Set1"
      ]
    },
    {
      "cell_type": "code",
      "metadata": {
        "id": "pjV8Jh9u4VyJ"
      },
      "source": [
        "imgS1_A1A1_1  = cv2.imread(S1_doubleA1A1_1)\n",
        "S1RGB_imgA1A1_1= cv2.cvtColor(imgS1_A1A1_1, cv2.COLOR_BGR2RGB)"
      ],
      "execution_count": 79,
      "outputs": []
    },
    {
      "cell_type": "code",
      "metadata": {
        "id": "Ixg-SNyU46Lp"
      },
      "source": [
        "imgS1_A1A2_1  = cv2.imread(S1_doubleA1A2_1)\n",
        "S1RGB_imgA1A2_1= cv2.cvtColor(imgS1_A1A2_1, cv2.COLOR_BGR2RGB)"
      ],
      "execution_count": 80,
      "outputs": []
    },
    {
      "cell_type": "code",
      "metadata": {
        "id": "a4-_mkF-4-te"
      },
      "source": [
        "imgS1_A1A3_1  = cv2.imread(S1_doubleA1A3_1)\n",
        "S1RGB_imgA1A3_1= cv2.cvtColor(imgS1_A1A3_1, cv2.COLOR_BGR2RGB)"
      ],
      "execution_count": 81,
      "outputs": []
    },
    {
      "cell_type": "code",
      "metadata": {
        "id": "uRs18zEK5EM3"
      },
      "source": [
        "imgS1_A1A3_51  = cv2.imread(S1_doubleA1A3_51)\n",
        "S1RGB_imgA1A3_51= cv2.cvtColor(imgS1_A1A3_51, cv2.COLOR_BGR2RGB)"
      ],
      "execution_count": 82,
      "outputs": []
    },
    {
      "cell_type": "code",
      "metadata": {
        "id": "LCju5Eai5fV4"
      },
      "source": [
        "imgS1_A1A4_1  = cv2.imread(S1_doubleA1A4_1)\n",
        "S1RGB_imgA1A4_1= cv2.cvtColor(imgS1_A1A4_1, cv2.COLOR_BGR2RGB)"
      ],
      "execution_count": 83,
      "outputs": []
    },
    {
      "cell_type": "code",
      "metadata": {
        "id": "sMwRM7yO5llo"
      },
      "source": [
        "imgS1_A1B1_1  = cv2.imread(S1_doubleA1B1_1)\n",
        "S1RGB_imgA1B1_1= cv2.cvtColor(imgS1_A1B1_1, cv2.COLOR_BGR2RGB)"
      ],
      "execution_count": 84,
      "outputs": []
    },
    {
      "cell_type": "code",
      "metadata": {
        "id": "B8Efejup5llo"
      },
      "source": [
        "imgS1_A1B2_1  = cv2.imread(S1_doubleA1B2_1)\n",
        "S1RGB_imgA1B2_1= cv2.cvtColor(imgS1_A1B2_1, cv2.COLOR_BGR2RGB)"
      ],
      "execution_count": 85,
      "outputs": []
    },
    {
      "cell_type": "code",
      "metadata": {
        "id": "j7fi0Nn95llo"
      },
      "source": [
        "imgS1_A1B3_1  = cv2.imread(S1_doubleA1A3_1)\n",
        "S1RGB_imgA1B3_1= cv2.cvtColor(imgS1_A1A3_1, cv2.COLOR_BGR2RGB)"
      ],
      "execution_count": 86,
      "outputs": []
    },
    {
      "cell_type": "code",
      "metadata": {
        "id": "Hxs3fQUU5llp"
      },
      "source": [
        "imgS1_A1B4_1  = cv2.imread(S1_doubleA1B4_1)\n",
        "S1RGB_imgA1B4_1= cv2.cvtColor(imgS1_A1B4_1, cv2.COLOR_BGR2RGB)"
      ],
      "execution_count": 87,
      "outputs": []
    },
    {
      "cell_type": "code",
      "metadata": {
        "id": "IaQDpBeS6Oa_"
      },
      "source": [
        "imgS1_A1C1_1  = cv2.imread(S1_doubleA1C1_1)\n",
        "S1RGB_imgA1C1_1= cv2.cvtColor(imgS1_A1C1_1, cv2.COLOR_BGR2RGB)"
      ],
      "execution_count": 88,
      "outputs": []
    },
    {
      "cell_type": "code",
      "metadata": {
        "id": "wuQ_nyPB6Oa_"
      },
      "source": [
        "imgS1_A1C2_1  = cv2.imread(S1_doubleA1C2_1)\n",
        "S1RGB_imgA1C2_1= cv2.cvtColor(imgS1_A1C2_1, cv2.COLOR_BGR2RGB)"
      ],
      "execution_count": 89,
      "outputs": []
    },
    {
      "cell_type": "code",
      "metadata": {
        "id": "wAdSVg_I6Oa_"
      },
      "source": [
        "imgS1_A1C3_1  = cv2.imread(S1_doubleA1C3_1)\n",
        "S1RGB_imgA1C3_1= cv2.cvtColor(imgS1_A1C3_1, cv2.COLOR_BGR2RGB)"
      ],
      "execution_count": 90,
      "outputs": []
    },
    {
      "cell_type": "code",
      "metadata": {
        "id": "XeLavKSo6Oa_"
      },
      "source": [
        "imgS1_A1C4_1  = cv2.imread(S1_doubleA1C4_1)\n",
        "S1RGB_imgA1C4_1= cv2.cvtColor(imgS1_A1C4_1, cv2.COLOR_BGR2RGB)"
      ],
      "execution_count": 91,
      "outputs": []
    },
    {
      "cell_type": "code",
      "metadata": {
        "id": "SP6HGOWx6hmP"
      },
      "source": [
        "imgS1_A1D2_1  = cv2.imread(S1_doubleA1D2_1)\n",
        "S1RGB_imgA1D2_1= cv2.cvtColor(imgS1_A1D2_1, cv2.COLOR_BGR2RGB)"
      ],
      "execution_count": 92,
      "outputs": []
    },
    {
      "cell_type": "code",
      "metadata": {
        "id": "2d2cV-Ew6hmP"
      },
      "source": [
        "imgS1_A1D3_1  = cv2.imread(S1_doubleA1D3_1)\n",
        "S1RGB_imgA1D3_1= cv2.cvtColor(imgS1_A1D3_1, cv2.COLOR_BGR2RGB)"
      ],
      "execution_count": 93,
      "outputs": []
    },
    {
      "cell_type": "code",
      "metadata": {
        "id": "doH48ypZ6hmQ"
      },
      "source": [
        "imgS1_A1D4_1  = cv2.imread(S1_doubleA1D4_1)\n",
        "S1RGB_imgA1D4_1= cv2.cvtColor(imgS1_A1D4_1, cv2.COLOR_BGR2RGB)\n"
      ],
      "execution_count": 94,
      "outputs": []
    },
    {
      "cell_type": "markdown",
      "metadata": {
        "id": "1e2wD_qmN_0a"
      },
      "source": [
        "##Set2"
      ]
    },
    {
      "cell_type": "code",
      "metadata": {
        "id": "r2k_MxC66yPx"
      },
      "source": [
        "imgS2_A1A1_1  = cv2.imread(S2_doubleA1A1_1)\n",
        "S2RGB_imgA1A1_1= cv2.cvtColor(imgS2_A1A1_1, cv2.COLOR_BGR2RGB)"
      ],
      "execution_count": 95,
      "outputs": []
    },
    {
      "cell_type": "code",
      "metadata": {
        "id": "MHAmt38Z6yPx"
      },
      "source": [
        "imgS2_A1A2_1  = cv2.imread(S2_doubleA1A2_1)\n",
        "S2RGB_imgA1A2_1= cv2.cvtColor(imgS2_A1A2_1, cv2.COLOR_BGR2RGB)"
      ],
      "execution_count": 96,
      "outputs": []
    },
    {
      "cell_type": "code",
      "metadata": {
        "id": "6hh_c6Nz6yPx"
      },
      "source": [
        "imgS2_A1A3_1  = cv2.imread(S2_doubleA1A3_1)\n",
        "S2RGB_imgA1A3_1= cv2.cvtColor(imgS2_A1A3_1, cv2.COLOR_BGR2RGB)"
      ],
      "execution_count": 97,
      "outputs": []
    },
    {
      "cell_type": "code",
      "metadata": {
        "id": "6yyCk-0x6yPx"
      },
      "source": [
        "imgS2_A1A3_51  = cv2.imread(S2_doubleA1A3_51)\n",
        "S2RGB_imgA1A3_51= cv2.cvtColor(imgS2_A1A3_51, cv2.COLOR_BGR2RGB)"
      ],
      "execution_count": 98,
      "outputs": []
    },
    {
      "cell_type": "code",
      "metadata": {
        "id": "t6jh2NW16yPy"
      },
      "source": [
        "imgS2_A1A4_1  = cv2.imread(S2_doubleA1A4_1)\n",
        "S2RGB_imgA1A4_1= cv2.cvtColor(imgS2_A1A4_1, cv2.COLOR_BGR2RGB)"
      ],
      "execution_count": 99,
      "outputs": []
    },
    {
      "cell_type": "code",
      "metadata": {
        "id": "lRHgF5pG6yPy"
      },
      "source": [
        "imgS2_A1B1_1  = cv2.imread(S2_doubleA1B1_1)\n",
        "S2RGB_imgA1B1_1= cv2.cvtColor(imgS2_A1B1_1, cv2.COLOR_BGR2RGB)"
      ],
      "execution_count": 100,
      "outputs": []
    },
    {
      "cell_type": "code",
      "metadata": {
        "id": "P6XZGW0j6yPy"
      },
      "source": [
        "imgS2_A1B2_1  = cv2.imread(S2_doubleA1B2_1)\n",
        "S2RGB_imgA1B2_1= cv2.cvtColor(imgS2_A1B2_1, cv2.COLOR_BGR2RGB)"
      ],
      "execution_count": 101,
      "outputs": []
    },
    {
      "cell_type": "code",
      "metadata": {
        "id": "5i4HMcmU6yPy"
      },
      "source": [
        "imgS2_A1B3_1  = cv2.imread(S2_doubleA1B3_1)\n",
        "S2RGB_imgA1B3_1= cv2.cvtColor(imgS2_A1B3_1, cv2.COLOR_BGR2RGB)"
      ],
      "execution_count": 102,
      "outputs": []
    },
    {
      "cell_type": "code",
      "metadata": {
        "id": "DGJT9njO6yPy"
      },
      "source": [
        "imgS2_A1B4_1  = cv2.imread(S2_doubleA1B4_1)\n",
        "S2RGB_imgA1B4_1= cv2.cvtColor(imgS2_A1B4_1, cv2.COLOR_BGR2RGB)"
      ],
      "execution_count": 103,
      "outputs": []
    },
    {
      "cell_type": "code",
      "metadata": {
        "id": "sBlmlDZT6yPz"
      },
      "source": [
        "imgS2_A1C1_1  = cv2.imread(S2_doubleA1C1_1)\n",
        "S2RGB_imgA1C1_1= cv2.cvtColor(imgS2_A1C1_1, cv2.COLOR_BGR2RGB)"
      ],
      "execution_count": 104,
      "outputs": []
    },
    {
      "cell_type": "code",
      "metadata": {
        "id": "r06WNXcB6yPz"
      },
      "source": [
        "imgS2_A1C2_1  = cv2.imread(S2_doubleA1C2_1)\n",
        "S2RGB_imgA1C2_1= cv2.cvtColor(imgS2_A1C2_1, cv2.COLOR_BGR2RGB)"
      ],
      "execution_count": 105,
      "outputs": []
    },
    {
      "cell_type": "code",
      "metadata": {
        "id": "_zK6PC_D6yPz"
      },
      "source": [
        "imgS2_A1C3_1  = cv2.imread(S2_doubleA1C3_1)\n",
        "S2RGB_imgA1C3_1= cv2.cvtColor(imgS2_A1C3_1, cv2.COLOR_BGR2RGB)"
      ],
      "execution_count": 106,
      "outputs": []
    },
    {
      "cell_type": "code",
      "metadata": {
        "id": "tY93NDVF6yPz"
      },
      "source": [
        "imgS2_A1C4_1  = cv2.imread(S2_doubleA1C4_1)\n",
        "S2RGB_imgA1C4_1= cv2.cvtColor(imgS2_A1C4_1, cv2.COLOR_BGR2RGB)"
      ],
      "execution_count": 107,
      "outputs": []
    },
    {
      "cell_type": "code",
      "metadata": {
        "id": "za8vrXfM6yPz"
      },
      "source": [
        "imgS2_A1D2_1  = cv2.imread(S2_doubleA1D2_1)\n",
        "S2RGB_imgA1D2_1= cv2.cvtColor(imgS2_A1D2_1, cv2.COLOR_BGR2RGB)"
      ],
      "execution_count": 108,
      "outputs": []
    },
    {
      "cell_type": "code",
      "metadata": {
        "id": "m1SZS_Nk6yP0"
      },
      "source": [
        "imgS2_A1D3_1  = cv2.imread(S2_doubleA1D3_1)\n",
        "S2RGB_imgA1D3_1= cv2.cvtColor(imgS2_A1D3_1, cv2.COLOR_BGR2RGB)"
      ],
      "execution_count": 109,
      "outputs": []
    },
    {
      "cell_type": "code",
      "metadata": {
        "id": "sAzPsG0Z6yP0"
      },
      "source": [
        "imgS2_A1D4_1  = cv2.imread(S2_doubleA1D4_1)\n",
        "S2RGB_imgA1D4_1= cv2.cvtColor(imgS2_A1D4_1, cv2.COLOR_BGR2RGB)"
      ],
      "execution_count": 110,
      "outputs": []
    },
    {
      "cell_type": "markdown",
      "metadata": {
        "id": "NtWR59mM-IUS"
      },
      "source": [
        "##Set3"
      ]
    },
    {
      "cell_type": "code",
      "metadata": {
        "id": "9BKFxbGJ8rl3"
      },
      "source": [
        "imgS3_A1A1_1  = cv2.imread(S3_doubleA1A1_1)\n",
        "S3RGB_imgA1A1_1= cv2.cvtColor(imgS3_A1A1_1, cv2.COLOR_BGR2RGB)"
      ],
      "execution_count": 111,
      "outputs": []
    },
    {
      "cell_type": "code",
      "metadata": {
        "id": "ulHbLkH_8rl3"
      },
      "source": [
        "imgS3_A1A2_1  = cv2.imread(S3_doubleA1A2_1)\n",
        "S3RGB_imgA1A2_1= cv2.cvtColor(imgS3_A1A2_1, cv2.COLOR_BGR2RGB)"
      ],
      "execution_count": 112,
      "outputs": []
    },
    {
      "cell_type": "code",
      "metadata": {
        "id": "J9kRSYe48rl4"
      },
      "source": [
        "imgS3_A1A3_1  = cv2.imread(S3_doubleA1A3_1)\n",
        "S3RGB_imgA1A3_1= cv2.cvtColor(imgS3_A1A3_1, cv2.COLOR_BGR2RGB)"
      ],
      "execution_count": 113,
      "outputs": []
    },
    {
      "cell_type": "code",
      "metadata": {
        "id": "Zkx2WQ3O8rl4"
      },
      "source": [
        "imgS3_A1A3_51  = cv2.imread(S3_doubleA1A3_51)\n",
        "S3RGB_imgA1A3_51= cv2.cvtColor(imgS3_A1A3_51, cv2.COLOR_BGR2RGB)"
      ],
      "execution_count": 114,
      "outputs": []
    },
    {
      "cell_type": "code",
      "metadata": {
        "id": "C5clyZt98rl4"
      },
      "source": [
        "imgS3_A1A4_1  = cv2.imread(S3_doubleA1A4_1)\n",
        "S3RGB_imgA1A4_1= cv2.cvtColor(imgS3_A1A4_1, cv2.COLOR_BGR2RGB)"
      ],
      "execution_count": 115,
      "outputs": []
    },
    {
      "cell_type": "code",
      "metadata": {
        "id": "Mv5JxSQ18rl4"
      },
      "source": [
        "imgS3_A1B1_1  = cv2.imread(S3_doubleA1B1_1)\n",
        "S3RGB_imgA1B1_1= cv2.cvtColor(imgS3_A1B1_1, cv2.COLOR_BGR2RGB)"
      ],
      "execution_count": 116,
      "outputs": []
    },
    {
      "cell_type": "code",
      "metadata": {
        "id": "9I3KI-7f8rl4"
      },
      "source": [
        "imgS3_A1B2_1  = cv2.imread(S3_doubleA1B2_1)\n",
        "S3RGB_imgA1B2_1= cv2.cvtColor(imgS3_A1B2_1, cv2.COLOR_BGR2RGB)"
      ],
      "execution_count": 117,
      "outputs": []
    },
    {
      "cell_type": "code",
      "metadata": {
        "id": "S4OIG7AO8rl6"
      },
      "source": [
        "imgS3_A1B3_1  = cv2.imread(S3_doubleA1B3_1)\n",
        "S3RGB_imgA1B3_1= cv2.cvtColor(imgS3_A1B3_1, cv2.COLOR_BGR2RGB)"
      ],
      "execution_count": 118,
      "outputs": []
    },
    {
      "cell_type": "code",
      "metadata": {
        "id": "rtKhxb5I8rl6"
      },
      "source": [
        "imgS3_A1B4_1  = cv2.imread(S3_doubleA1B4_1)\n",
        "S3RGB_imgA1B4_1= cv2.cvtColor(imgS3_A1B4_1, cv2.COLOR_BGR2RGB)"
      ],
      "execution_count": 119,
      "outputs": []
    },
    {
      "cell_type": "code",
      "metadata": {
        "id": "Gtdu3d328rl6"
      },
      "source": [
        "imgS3_A1C1_1  = cv2.imread(S3_doubleA1C1_1)\n",
        "S3RGB_imgA1C1_1= cv2.cvtColor(imgS3_A1C1_1, cv2.COLOR_BGR2RGB)"
      ],
      "execution_count": 120,
      "outputs": []
    },
    {
      "cell_type": "code",
      "metadata": {
        "id": "jcn-erZ98rl6"
      },
      "source": [
        "imgS3_A1C2_1  = cv2.imread(S3_doubleA1C2_1)\n",
        "S3RGB_imgA1C2_1= cv2.cvtColor(imgS3_A1C2_1, cv2.COLOR_BGR2RGB)"
      ],
      "execution_count": 121,
      "outputs": []
    },
    {
      "cell_type": "code",
      "metadata": {
        "id": "1H550zpJ8rl7"
      },
      "source": [
        "imgS3_A1C3_1  = cv2.imread(S3_doubleA1C3_1)\n",
        "S3RGB_imgA1C3_1= cv2.cvtColor(imgS3_A1C3_1, cv2.COLOR_BGR2RGB)"
      ],
      "execution_count": 122,
      "outputs": []
    },
    {
      "cell_type": "code",
      "metadata": {
        "id": "gYysP1eM8rl7"
      },
      "source": [
        "imgS3_A1C4_1  = cv2.imread(S3_doubleA1C4_1)\n",
        "S3RGB_imgA1C4_1= cv2.cvtColor(imgS3_A1C4_1, cv2.COLOR_BGR2RGB)"
      ],
      "execution_count": 123,
      "outputs": []
    },
    {
      "cell_type": "code",
      "metadata": {
        "id": "v4ljCwED8rl7"
      },
      "source": [
        "imgS3_A1D2_1  = cv2.imread(S3_doubleA1D2_1)\n",
        "S3RGB_imgA1D2_1= cv2.cvtColor(imgS3_A1D2_1, cv2.COLOR_BGR2RGB)"
      ],
      "execution_count": 124,
      "outputs": []
    },
    {
      "cell_type": "code",
      "metadata": {
        "id": "_c2w_0rF8rl7"
      },
      "source": [
        "imgS3_A1D3_1  = cv2.imread(S3_doubleA1D3_1)\n",
        "S3RGB_imgA1D3_1= cv2.cvtColor(imgS3_A1D3_1, cv2.COLOR_BGR2RGB)"
      ],
      "execution_count": 125,
      "outputs": []
    },
    {
      "cell_type": "code",
      "metadata": {
        "id": "uqJI2bXz8rl8"
      },
      "source": [
        "imgS3_A1D4_1  = cv2.imread(S3_doubleA1D4_1)\n",
        "S3RGB_imgA1D4_1= cv2.cvtColor(imgS3_A1D4_1, cv2.COLOR_BGR2RGB)"
      ],
      "execution_count": 126,
      "outputs": []
    },
    {
      "cell_type": "markdown",
      "metadata": {
        "id": "apeGjiA79pJf"
      },
      "source": [
        "##Set4"
      ]
    },
    {
      "cell_type": "code",
      "metadata": {
        "id": "qYnoDJXh9q2j"
      },
      "source": [
        "imgS4_A1A1_1  = cv2.imread(S4_doubleA1A1_1)\n",
        "S4RGB_imgA1A1_1= cv2.cvtColor(imgS4_A1A1_1, cv2.COLOR_BGR2RGB)"
      ],
      "execution_count": 127,
      "outputs": []
    },
    {
      "cell_type": "code",
      "metadata": {
        "id": "0HkjhpAa9q2j"
      },
      "source": [
        "imgS4_A1A2_1  = cv2.imread(S4_doubleA1A2_1)\n",
        "S4RGB_imgA1A2_1= cv2.cvtColor(imgS4_A1A2_1, cv2.COLOR_BGR2RGB)"
      ],
      "execution_count": 128,
      "outputs": []
    },
    {
      "cell_type": "code",
      "metadata": {
        "id": "vSFzyH-B9q2j"
      },
      "source": [
        "imgS4_A1A3_1  = cv2.imread(S4_doubleA1A3_1)\n",
        "S4RGB_imgA1A3_1= cv2.cvtColor(imgS4_A1A3_1, cv2.COLOR_BGR2RGB)"
      ],
      "execution_count": 129,
      "outputs": []
    },
    {
      "cell_type": "code",
      "metadata": {
        "id": "NaSBU-__9q2j"
      },
      "source": [
        "imgS4_A1A3_51  = cv2.imread(S4_doubleA1A3_51)\n",
        "S4RGB_imgA1A3_51= cv2.cvtColor(imgS4_A1A3_51, cv2.COLOR_BGR2RGB)"
      ],
      "execution_count": 130,
      "outputs": []
    },
    {
      "cell_type": "code",
      "metadata": {
        "id": "I5kq2YcL9q2j"
      },
      "source": [
        "imgS4_A1A4_1  = cv2.imread(S4_doubleA1A4_1)\n",
        "S4RGB_imgA1A4_1= cv2.cvtColor(imgS4_A1A4_1, cv2.COLOR_BGR2RGB)"
      ],
      "execution_count": 131,
      "outputs": []
    },
    {
      "cell_type": "code",
      "metadata": {
        "id": "WPCZaErZ9q2j"
      },
      "source": [
        "imgS4_A1B1_1  = cv2.imread(S4_doubleA1B1_1)\n",
        "S4RGB_imgA1B1_1= cv2.cvtColor(imgS4_A1B1_1, cv2.COLOR_BGR2RGB)"
      ],
      "execution_count": 132,
      "outputs": []
    },
    {
      "cell_type": "code",
      "metadata": {
        "id": "9qoBo-Zb9q2k"
      },
      "source": [
        "imgS4_A1B2_1  = cv2.imread(S4_doubleA1B2_1)\n",
        "S4RGB_imgA1B2_1= cv2.cvtColor(imgS4_A1B2_1, cv2.COLOR_BGR2RGB)"
      ],
      "execution_count": 133,
      "outputs": []
    },
    {
      "cell_type": "code",
      "metadata": {
        "id": "kLOZsD239q2k"
      },
      "source": [
        "imgS4_A1B3_1  = cv2.imread(S4_doubleA1B3_1)\n",
        "S4RGB_imgA1B3_1= cv2.cvtColor(imgS4_A1B3_1, cv2.COLOR_BGR2RGB)"
      ],
      "execution_count": 134,
      "outputs": []
    },
    {
      "cell_type": "code",
      "metadata": {
        "id": "W-9c6qi39q2k"
      },
      "source": [
        "imgS4_A1B4_1  = cv2.imread(S4_doubleA1B4_1)\n",
        "S4RGB_imgA1B4_1= cv2.cvtColor(imgS4_A1B4_1, cv2.COLOR_BGR2RGB)"
      ],
      "execution_count": 135,
      "outputs": []
    },
    {
      "cell_type": "code",
      "metadata": {
        "id": "giX0rFy-9q2k"
      },
      "source": [
        "imgS4_A1C1_1  = cv2.imread(S4_doubleA1C1_1)\n",
        "S4RGB_imgA1C1_1= cv2.cvtColor(imgS4_A1C1_1, cv2.COLOR_BGR2RGB)"
      ],
      "execution_count": 136,
      "outputs": []
    },
    {
      "cell_type": "code",
      "metadata": {
        "id": "kqpXGtiz9q2k"
      },
      "source": [
        "imgS4_A1C2_1  = cv2.imread(S4_doubleA1C2_1)\n",
        "S4RGB_imgA1C2_1= cv2.cvtColor(imgS4_A1C2_1, cv2.COLOR_BGR2RGB)"
      ],
      "execution_count": 137,
      "outputs": []
    },
    {
      "cell_type": "code",
      "metadata": {
        "id": "4O0PjNu79q2k"
      },
      "source": [
        "imgS4_A1C3_1  = cv2.imread(S4_doubleA1C3_1)\n",
        "S4RGB_imgA1C3_1= cv2.cvtColor(imgS4_A1C3_1, cv2.COLOR_BGR2RGB)"
      ],
      "execution_count": 138,
      "outputs": []
    },
    {
      "cell_type": "code",
      "metadata": {
        "id": "J-WaIgA79q2l"
      },
      "source": [
        "imgS4_A1C4_1  = cv2.imread(S4_doubleA1C4_1)\n",
        "S4RGB_imgA1C4_1= cv2.cvtColor(imgS4_A1C4_1, cv2.COLOR_BGR2RGB)"
      ],
      "execution_count": 139,
      "outputs": []
    },
    {
      "cell_type": "code",
      "metadata": {
        "id": "vEXqhTbK9q2l"
      },
      "source": [
        "imgS4_A1D2_1  = cv2.imread(S4_doubleA1D2_1)\n",
        "S4RGB_imgA1D2_1= cv2.cvtColor(imgS4_A1D2_1, cv2.COLOR_BGR2RGB)"
      ],
      "execution_count": 140,
      "outputs": []
    },
    {
      "cell_type": "code",
      "metadata": {
        "id": "6N-qEwxX9q2l"
      },
      "source": [
        "imgS4_A1D3_1  = cv2.imread(S4_doubleA1D3_1)\n",
        "S4RGB_imgA1D3_1= cv2.cvtColor(imgS4_A1D3_1, cv2.COLOR_BGR2RGB)"
      ],
      "execution_count": 141,
      "outputs": []
    },
    {
      "cell_type": "code",
      "metadata": {
        "id": "UxGhWbV89q2l"
      },
      "source": [
        "imgS4_A1D4_1  = cv2.imread(S4_doubleA1D4_1)\n",
        "S4RGB_imgA1D4_1= cv2.cvtColor(imgS4_A1D4_1, cv2.COLOR_BGR2RGB)"
      ],
      "execution_count": 142,
      "outputs": []
    },
    {
      "cell_type": "markdown",
      "metadata": {
        "id": "4XyCaNz1YAzf"
      },
      "source": [
        "#4. ฺBGR TO HSV"
      ]
    },
    {
      "cell_type": "markdown",
      "metadata": {
        "id": "1H0qQCcKOTUC"
      },
      "source": [
        "##Set1"
      ]
    },
    {
      "cell_type": "code",
      "metadata": {
        "colab": {
          "base_uri": "https://localhost:8080/",
          "height": 0
        },
        "id": "V7LoW4sLYP0V",
        "outputId": "9df44557-25e6-4b4a-ff4c-277292b2516b"
      },
      "source": [
        "S1_A1A1_1img  = cv2.imread(S1_doubleA1A1_1)\n",
        "S1HSV_imgA1A1_1= cv2.cvtColor(S1_A1A1_1img, cv2.COLOR_BGR2HSV)\n",
        "plt.imshow(S1HSV_imgA1A1_1)"
      ],
      "execution_count": 143,
      "outputs": [
        {
          "output_type": "execute_result",
          "data": {
            "text/plain": [
              "<matplotlib.image.AxesImage at 0x7f86488e15d0>"
            ]
          },
          "metadata": {},
          "execution_count": 143
        },
        {
          "output_type": "display_data",
          "data": {
            "image/png": "[encoded data removed]",
            "text/plain": [
              "<Figure size 432x288 with 1 Axes>"
            ]
          },
          "metadata": {
            "needs_background": "light"
          }
        }
      ]
    },
    {
      "cell_type": "code",
      "metadata": {
        "id": "se8UQIFwnL8I"
      },
      "source": [
        "S1_A1A2_1img  = cv2.imread(S1_doubleA1A2_1)\n",
        "S1HSV_imgA1A2_1= cv2.cvtColor(S1_A1A2_1img, cv2.COLOR_BGR2HSV)"
      ],
      "execution_count": 144,
      "outputs": []
    },
    {
      "cell_type": "code",
      "metadata": {
        "id": "NlS3nnjpnMIQ"
      },
      "source": [
        "S1_A1A3_1img  = cv2.imread(S1_doubleA1A3_1)\n",
        "S1HSV_imgA1A3_1= cv2.cvtColor(S1_A1A3_1img, cv2.COLOR_BGR2HSV)"
      ],
      "execution_count": 145,
      "outputs": []
    },
    {
      "cell_type": "code",
      "metadata": {
        "id": "gaiV37Atm-qM"
      },
      "source": [
        "S1_A1A3_51img  = cv2.imread(S1_doubleA1A3_51)\n",
        "S1HSV_imgA1A3_51= cv2.cvtColor(S1_A1A3_51img, cv2.COLOR_BGR2HSV)"
      ],
      "execution_count": 146,
      "outputs": []
    },
    {
      "cell_type": "code",
      "metadata": {
        "id": "b3l1xgJWm-r6"
      },
      "source": [
        "S1_A1A4_1img  = cv2.imread(S1_doubleA1A4_1)\n",
        "S1HSV_imgA1A4_1= cv2.cvtColor(S1_A1A4_1img, cv2.COLOR_BGR2HSV)"
      ],
      "execution_count": 147,
      "outputs": []
    },
    {
      "cell_type": "code",
      "metadata": {
        "id": "w26dE2E2m-ui"
      },
      "source": [
        "S1_A1B1_1img  = cv2.imread(S1_doubleA1B1_1)\n",
        "S1HSV_imgA1B1_1= cv2.cvtColor(S1_A1B1_1img, cv2.COLOR_BGR2HSV)"
      ],
      "execution_count": 148,
      "outputs": []
    },
    {
      "cell_type": "code",
      "metadata": {
        "id": "qq4hEemVm-wd"
      },
      "source": [
        "S1_A1B2_1img  = cv2.imread(S1_doubleA1B2_1)\n",
        "S1HSV_imgA1B2_1= cv2.cvtColor(S1_A1B2_1img, cv2.COLOR_BGR2HSV)"
      ],
      "execution_count": 149,
      "outputs": []
    },
    {
      "cell_type": "code",
      "metadata": {
        "id": "9TyEGSZmp7wg"
      },
      "source": [
        "S1_A1B3_1img  = cv2.imread(S1_doubleA1B3_1)\n",
        "S1HSV_imgA1B3_1= cv2.cvtColor(S1_A1B3_1img, cv2.COLOR_BGR2HSV)"
      ],
      "execution_count": 150,
      "outputs": []
    },
    {
      "cell_type": "code",
      "metadata": {
        "id": "8fg70FdZm-0y"
      },
      "source": [
        "S1_A1B4_1img  = cv2.imread(S1_doubleA1B4_1)\n",
        "S1HSV_imgA1B4_1= cv2.cvtColor(S1_A1B4_1img, cv2.COLOR_BGR2HSV)"
      ],
      "execution_count": 151,
      "outputs": []
    },
    {
      "cell_type": "code",
      "metadata": {
        "id": "86KJ5WjYqLAs"
      },
      "source": [
        "S1_A1C1_1img  = cv2.imread(S1_doubleA1C1_1)\n",
        "S1HSV_imgA1C1_1= cv2.cvtColor(S1_A1C1_1img, cv2.COLOR_BGR2HSV)"
      ],
      "execution_count": 152,
      "outputs": []
    },
    {
      "cell_type": "code",
      "metadata": {
        "id": "4o2oKmb-qLDu"
      },
      "source": [
        "S1_A1C2_1img  = cv2.imread(S1_doubleA1C2_1)\n",
        "S1HSV_imgA1C2_1= cv2.cvtColor(S1_A1C2_1img, cv2.COLOR_BGR2HSV)"
      ],
      "execution_count": 153,
      "outputs": []
    },
    {
      "cell_type": "code",
      "metadata": {
        "id": "0pGWlEU1qLHp"
      },
      "source": [
        "S1_A1C3_1img  = cv2.imread(S1_doubleA1C3_1)\n",
        "S1HSV_imgA1C3_1= cv2.cvtColor(S1_A1C3_1img, cv2.COLOR_BGR2HSV)"
      ],
      "execution_count": 154,
      "outputs": []
    },
    {
      "cell_type": "code",
      "metadata": {
        "id": "IZQIfJ4iqLKb"
      },
      "source": [
        "S1_A1C4_1img  = cv2.imread(S1_doubleA1C4_1)\n",
        "S1HSV_imgA1C4_1= cv2.cvtColor(S1_A1C4_1img, cv2.COLOR_BGR2HSV)"
      ],
      "execution_count": 155,
      "outputs": []
    },
    {
      "cell_type": "code",
      "metadata": {
        "id": "k_K9BBJpqLOi"
      },
      "source": [
        "S1_A1D2_1img  = cv2.imread(S1_doubleA1D2_1)\n",
        "S1HSV_imgA1D2_1= cv2.cvtColor(S1_A1D2_1img, cv2.COLOR_BGR2HSV)"
      ],
      "execution_count": 156,
      "outputs": []
    },
    {
      "cell_type": "code",
      "metadata": {
        "id": "v6YEm_v5quL_"
      },
      "source": [
        "S1_A1D3_1img  = cv2.imread(S1_doubleA1D3_1)\n",
        "S1HSV_imgA1D3_1= cv2.cvtColor(S1_A1D3_1img, cv2.COLOR_BGR2HSV)"
      ],
      "execution_count": 157,
      "outputs": []
    },
    {
      "cell_type": "code",
      "metadata": {
        "id": "SMvBLdQxm-3f"
      },
      "source": [
        "S1_A1D4_1img  = cv2.imread(S1_doubleA1D4_1)\n",
        "S1HSV_imgA1D4_1= cv2.cvtColor(S1_A1D4_1img, cv2.COLOR_BGR2HSV)"
      ],
      "execution_count": 158,
      "outputs": []
    },
    {
      "cell_type": "markdown",
      "metadata": {
        "id": "wL6aRDp_Or_Y"
      },
      "source": [
        "##Set2"
      ]
    },
    {
      "cell_type": "code",
      "metadata": {
        "colab": {
          "base_uri": "https://localhost:8080/",
          "height": 0
        },
        "id": "BDzWpqPBO0aX",
        "outputId": "0a79c58e-a494-44e7-c552-66089d2fd102"
      },
      "source": [
        "S2_A1A1_1img  = cv2.imread(S2_doubleA1A1_1)\n",
        "S2HSV_imgA1A1_1= cv2.cvtColor(S2_A1A1_1img, cv2.COLOR_BGR2HSV)\n",
        "plt.imshow(S2HSV_imgA1A1_1)"
      ],
      "execution_count": 159,
      "outputs": [
        {
          "output_type": "execute_result",
          "data": {
            "text/plain": [
              "<matplotlib.image.AxesImage at 0x7f8646b415d0>"
            ]
          },
          "metadata": {},
          "execution_count": 159
        },
        {
          "output_type": "display_data",
          "data": {
            "image/png": "[encoded data removed]",
            "text/plain": [
              "<Figure size 432x288 with 1 Axes>"
            ]
          },
          "metadata": {
            "needs_background": "light"
          }
        }
      ]
    },
    {
      "cell_type": "code",
      "metadata": {
        "id": "a-pIAAcFO0ae"
      },
      "source": [
        "S2_A1A2_1img  = cv2.imread(S2_doubleA1A2_1)\n",
        "S2HSV_imgA1A2_1= cv2.cvtColor(S2_A1A2_1img, cv2.COLOR_BGR2HSV)"
      ],
      "execution_count": 160,
      "outputs": []
    },
    {
      "cell_type": "code",
      "metadata": {
        "id": "yOsp_jUXO0af"
      },
      "source": [
        "S2_A1A3_1img  = cv2.imread(S2_doubleA1A3_1)\n",
        "S2HSV_imgA1A3_1= cv2.cvtColor(S2_A1A3_1img, cv2.COLOR_BGR2HSV)"
      ],
      "execution_count": 161,
      "outputs": []
    },
    {
      "cell_type": "code",
      "metadata": {
        "id": "LEj6uqznO0af"
      },
      "source": [
        "S2_A1A3_51img  = cv2.imread(S2_doubleA1A3_51)\n",
        "S2HSV_imgA1A3_51= cv2.cvtColor(S2_A1A3_51img, cv2.COLOR_BGR2HSV)"
      ],
      "execution_count": 162,
      "outputs": []
    },
    {
      "cell_type": "code",
      "metadata": {
        "id": "1weM2OVvO0af"
      },
      "source": [
        "S2_A1A4_1img  = cv2.imread(S2_doubleA1A4_1)\n",
        "S2HSV_imgA1A4_1= cv2.cvtColor(S2_A1A4_1img, cv2.COLOR_BGR2HSV)"
      ],
      "execution_count": 163,
      "outputs": []
    },
    {
      "cell_type": "code",
      "metadata": {
        "id": "Wbdgu89_O0af"
      },
      "source": [
        "S2_A1B1_1img  = cv2.imread(S2_doubleA1B1_1)\n",
        "S2HSV_imgA1B1_1= cv2.cvtColor(S2_A1B1_1img, cv2.COLOR_BGR2HSV)"
      ],
      "execution_count": 164,
      "outputs": []
    },
    {
      "cell_type": "code",
      "metadata": {
        "id": "qZiGeFyyO0af"
      },
      "source": [
        "S2_A1B2_1img  = cv2.imread(S2_doubleA1B2_1)\n",
        "S2HSV_imgA1B2_1= cv2.cvtColor(S2_A1B2_1img, cv2.COLOR_BGR2HSV)"
      ],
      "execution_count": 165,
      "outputs": []
    },
    {
      "cell_type": "code",
      "metadata": {
        "id": "hXeIe_3lO0af"
      },
      "source": [
        "S2_A1B3_1img  = cv2.imread(S2_doubleA1B3_1)\n",
        "S2HSV_imgA1B3_1= cv2.cvtColor(S2_A1B3_1img, cv2.COLOR_BGR2HSV)"
      ],
      "execution_count": 166,
      "outputs": []
    },
    {
      "cell_type": "code",
      "metadata": {
        "id": "V5M59xgBO0af"
      },
      "source": [
        "S2_A1B4_1img  = cv2.imread(S2_doubleA1B4_1)\n",
        "S2HSV_imgA1B4_1= cv2.cvtColor(S2_A1B4_1img, cv2.COLOR_BGR2HSV)"
      ],
      "execution_count": 167,
      "outputs": []
    },
    {
      "cell_type": "code",
      "metadata": {
        "id": "KRuyL80iO0af"
      },
      "source": [
        "S2_A1C1_1img  = cv2.imread(S2_doubleA1C1_1)\n",
        "S2HSV_imgA1C1_1= cv2.cvtColor(S2_A1C1_1img, cv2.COLOR_BGR2HSV)"
      ],
      "execution_count": 168,
      "outputs": []
    },
    {
      "cell_type": "code",
      "metadata": {
        "id": "_fwiHi1UO0af"
      },
      "source": [
        "S2_A1C2_1img  = cv2.imread(S2_doubleA1C2_1)\n",
        "S2HSV_imgA1C2_1= cv2.cvtColor(S2_A1C2_1img, cv2.COLOR_BGR2HSV)"
      ],
      "execution_count": 169,
      "outputs": []
    },
    {
      "cell_type": "code",
      "metadata": {
        "id": "JqM9f0IeO0af"
      },
      "source": [
        "S2_A1C3_1img  = cv2.imread(S2_doubleA1C3_1)\n",
        "S2HSV_imgA1C3_1= cv2.cvtColor(S2_A1C3_1img, cv2.COLOR_BGR2HSV)"
      ],
      "execution_count": 170,
      "outputs": []
    },
    {
      "cell_type": "code",
      "metadata": {
        "id": "hqmrKWFKO0ag"
      },
      "source": [
        "S2_A1C4_1img  = cv2.imread(S2_doubleA1C4_1)\n",
        "S2HSV_imgA1C4_1= cv2.cvtColor(S2_A1C4_1img, cv2.COLOR_BGR2HSV)"
      ],
      "execution_count": 171,
      "outputs": []
    },
    {
      "cell_type": "code",
      "metadata": {
        "id": "PzUN45ylO0ag"
      },
      "source": [
        "S2_A1D2_1img  = cv2.imread(S2_doubleA1D2_1)\n",
        "S2HSV_imgA1D2_1= cv2.cvtColor(S2_A1D2_1img, cv2.COLOR_BGR2HSV)"
      ],
      "execution_count": 172,
      "outputs": []
    },
    {
      "cell_type": "code",
      "metadata": {
        "id": "mZJEIdO2O0ag"
      },
      "source": [
        "S2_A1D3_1img  = cv2.imread(S2_doubleA1D3_1)\n",
        "S2HSV_imgA1D3_1= cv2.cvtColor(S2_A1D3_1img, cv2.COLOR_BGR2HSV)"
      ],
      "execution_count": 173,
      "outputs": []
    },
    {
      "cell_type": "code",
      "metadata": {
        "id": "S507jRCYO0ag"
      },
      "source": [
        "S2_A1D4_1img  = cv2.imread(S2_doubleA1D4_1)\n",
        "S2HSV_imgA1D4_1= cv2.cvtColor(S2_A1D4_1img, cv2.COLOR_BGR2HSV)"
      ],
      "execution_count": 174,
      "outputs": []
    },
    {
      "cell_type": "markdown",
      "metadata": {
        "id": "qOmBnSo7O7CA"
      },
      "source": [
        "##Set3"
      ]
    },
    {
      "cell_type": "code",
      "metadata": {
        "colab": {
          "base_uri": "https://localhost:8080/",
          "height": 0
        },
        "id": "esUAanu4O8j0",
        "outputId": "a8aa1dab-7a47-4de8-fd4e-ab0ecc629125"
      },
      "source": [
        "S3_A1A1_1img  = cv2.imread(S3_doubleA1A1_1)\n",
        "S3HSV_imgA1A1_1= cv2.cvtColor(S3_A1A1_1img, cv2.COLOR_BGR2HSV)\n",
        "plt.imshow(S3HSV_imgA1A1_1)"
      ],
      "execution_count": 175,
      "outputs": [
        {
          "output_type": "execute_result",
          "data": {
            "text/plain": [
              "<matplotlib.image.AxesImage at 0x7f8646accd90>"
            ]
          },
          "metadata": {},
          "execution_count": 175
        },
        {
          "output_type": "display_data",
          "data": {
            "image/png": "[encoded data removed]",
            "text/plain": [
              "<Figure size 432x288 with 1 Axes>"
            ]
          },
          "metadata": {
            "needs_background": "light"
          }
        }
      ]
    },
    {
      "cell_type": "code",
      "metadata": {
        "id": "5Ge6aoyaO8j0"
      },
      "source": [
        "S3_A1A2_1img  = cv2.imread(S3_doubleA1A2_1)\n",
        "S3HSV_imgA1A2_1= cv2.cvtColor(S3_A1A2_1img, cv2.COLOR_BGR2HSV)"
      ],
      "execution_count": 176,
      "outputs": []
    },
    {
      "cell_type": "code",
      "metadata": {
        "id": "DsObJ2IuO8j0"
      },
      "source": [
        "S3_A1A3_1img  = cv2.imread(S3_doubleA1A3_1)\n",
        "S3HSV_imgA1A3_1= cv2.cvtColor(S3_A1A3_1img, cv2.COLOR_BGR2HSV)"
      ],
      "execution_count": 177,
      "outputs": []
    },
    {
      "cell_type": "code",
      "metadata": {
        "id": "qy7ses16O8j0"
      },
      "source": [
        "S3_A1A3_51img  = cv2.imread(S3_doubleA1A3_51)\n",
        "S3HSV_imgA1A3_51= cv2.cvtColor(S3_A1A3_51img, cv2.COLOR_BGR2HSV)"
      ],
      "execution_count": 178,
      "outputs": []
    },
    {
      "cell_type": "code",
      "metadata": {
        "id": "Y2OH_7_sO8j0"
      },
      "source": [
        "S3_A1A4_1img  = cv2.imread(S3_doubleA1A4_1)\n",
        "S3HSV_imgA1A4_1= cv2.cvtColor(S3_A1A4_1img, cv2.COLOR_BGR2HSV)"
      ],
      "execution_count": 179,
      "outputs": []
    },
    {
      "cell_type": "code",
      "metadata": {
        "id": "aDkrKlmLO8j1"
      },
      "source": [
        "S3_A1B1_1img  = cv2.imread(S3_doubleA1B1_1)\n",
        "S3HSV_imgA1B1_1= cv2.cvtColor(S3_A1B1_1img, cv2.COLOR_BGR2HSV)"
      ],
      "execution_count": 180,
      "outputs": []
    },
    {
      "cell_type": "code",
      "metadata": {
        "id": "ffZuXCngO8j1"
      },
      "source": [
        "S3_A1B2_1img  = cv2.imread(S3_doubleA1B2_1)\n",
        "S3HSV_imgA1B2_1= cv2.cvtColor(S3_A1B2_1img, cv2.COLOR_BGR2HSV)"
      ],
      "execution_count": 181,
      "outputs": []
    },
    {
      "cell_type": "code",
      "metadata": {
        "id": "765qS-BMO8j1"
      },
      "source": [
        "S3_A1B3_1img  = cv2.imread(S3_doubleA1B3_1)\n",
        "S3HSV_imgA1B3_1= cv2.cvtColor(S3_A1B3_1img, cv2.COLOR_BGR2HSV)"
      ],
      "execution_count": 182,
      "outputs": []
    },
    {
      "cell_type": "code",
      "metadata": {
        "id": "4T4npbw3O8j1"
      },
      "source": [
        "S3_A1B4_1img  = cv2.imread(S3_doubleA1B4_1)\n",
        "S3HSV_imgA1B4_1= cv2.cvtColor(S3_A1B4_1img, cv2.COLOR_BGR2HSV)"
      ],
      "execution_count": 183,
      "outputs": []
    },
    {
      "cell_type": "code",
      "metadata": {
        "id": "j73d6Z7uO8j1"
      },
      "source": [
        "S3_A1C1_1img  = cv2.imread(S3_doubleA1C1_1)\n",
        "S3HSV_imgA1C1_1= cv2.cvtColor(S3_A1C1_1img, cv2.COLOR_BGR2HSV)"
      ],
      "execution_count": 184,
      "outputs": []
    },
    {
      "cell_type": "code",
      "metadata": {
        "id": "d4auQVvJO8j1"
      },
      "source": [
        "S3_A1C2_1img  = cv2.imread(S3_doubleA1C2_1)\n",
        "S3HSV_imgA1C2_1= cv2.cvtColor(S3_A1C2_1img, cv2.COLOR_BGR2HSV)"
      ],
      "execution_count": 185,
      "outputs": []
    },
    {
      "cell_type": "code",
      "metadata": {
        "id": "o3szXJVYO8j1"
      },
      "source": [
        "S3_A1C3_1img  = cv2.imread(S3_doubleA1C3_1)\n",
        "S3HSV_imgA1C3_1= cv2.cvtColor(S3_A1C3_1img, cv2.COLOR_BGR2HSV)"
      ],
      "execution_count": 186,
      "outputs": []
    },
    {
      "cell_type": "code",
      "metadata": {
        "id": "htzUP3yKO8j1"
      },
      "source": [
        "S3_A1C4_1img  = cv2.imread(S3_doubleA1C4_1)\n",
        "S3HSV_imgA1C4_1= cv2.cvtColor(S3_A1C4_1img, cv2.COLOR_BGR2HSV)"
      ],
      "execution_count": 187,
      "outputs": []
    },
    {
      "cell_type": "code",
      "metadata": {
        "id": "oktRhFVtO8j1"
      },
      "source": [
        "S3_A1D2_1img  = cv2.imread(S3_doubleA1D2_1)\n",
        "S3HSV_imgA1D2_1= cv2.cvtColor(S3_A1D2_1img, cv2.COLOR_BGR2HSV)"
      ],
      "execution_count": 188,
      "outputs": []
    },
    {
      "cell_type": "code",
      "metadata": {
        "id": "W9nH6io6O8j1"
      },
      "source": [
        "S3_A1D3_1img  = cv2.imread(S3_doubleA1D3_1)\n",
        "S3HSV_imgA1D3_1= cv2.cvtColor(S3_A1D3_1img, cv2.COLOR_BGR2HSV)"
      ],
      "execution_count": 189,
      "outputs": []
    },
    {
      "cell_type": "code",
      "metadata": {
        "id": "JNM-l795O8j2"
      },
      "source": [
        "S3_A1D4_1img  = cv2.imread(S3_doubleA1D4_1)\n",
        "S3HSV_imgA1D4_1= cv2.cvtColor(S3_A1D4_1img, cv2.COLOR_BGR2HSV)"
      ],
      "execution_count": 190,
      "outputs": []
    },
    {
      "cell_type": "markdown",
      "metadata": {
        "id": "fsHScFKQOR7t"
      },
      "source": [
        "##Set4"
      ]
    },
    {
      "cell_type": "code",
      "metadata": {
        "id": "M3yXg2bFGiDP"
      },
      "source": [
        "S4_A1A1_1img  = cv2.imread(S4_doubleA1A1_1)\n",
        "S4HSV_imgA1A1_1= cv2.cvtColor(S4_A1A1_1img, cv2.COLOR_BGR2HSV)"
      ],
      "execution_count": 191,
      "outputs": []
    },
    {
      "cell_type": "code",
      "metadata": {
        "id": "lUK6mMoHGiDQ"
      },
      "source": [
        "S4_A1A2_1img  = cv2.imread(S4_doubleA1A2_1)\n",
        "S4HSV_imgA1A2_1= cv2.cvtColor(S4_A1A2_1img, cv2.COLOR_BGR2HSV)"
      ],
      "execution_count": 192,
      "outputs": []
    },
    {
      "cell_type": "code",
      "metadata": {
        "id": "Ft40vnznGiDQ"
      },
      "source": [
        "S4_A1A3_1img  = cv2.imread(S4_doubleA1A3_1)\n",
        "S4HSV_imgA1A3_1= cv2.cvtColor(S4_A1A3_1img, cv2.COLOR_BGR2HSV)"
      ],
      "execution_count": 193,
      "outputs": []
    },
    {
      "cell_type": "code",
      "metadata": {
        "id": "i7yBTQN2GiDQ"
      },
      "source": [
        "S4_A1A3_51img  = cv2.imread(S4_doubleA1A3_51)\n",
        "S4HSV_imgA1A3_51= cv2.cvtColor(S4_A1A3_51img, cv2.COLOR_BGR2HSV)"
      ],
      "execution_count": 194,
      "outputs": []
    },
    {
      "cell_type": "code",
      "metadata": {
        "id": "oTsC-5HUGiDQ"
      },
      "source": [
        "S4_A1A4_1img  = cv2.imread(S4_doubleA1A4_1)\n",
        "S4HSV_imgA1A4_1= cv2.cvtColor(S4_A1A4_1img, cv2.COLOR_BGR2HSV)"
      ],
      "execution_count": 195,
      "outputs": []
    },
    {
      "cell_type": "code",
      "metadata": {
        "id": "VPUDw1q4GiDQ"
      },
      "source": [
        "S4_A1B1_1img  = cv2.imread(S4_doubleA1B1_1)\n",
        "S4HSV_imgA1B1_1= cv2.cvtColor(S4_A1B1_1img, cv2.COLOR_BGR2HSV)"
      ],
      "execution_count": 196,
      "outputs": []
    },
    {
      "cell_type": "code",
      "metadata": {
        "id": "F1T3bnLzGiDR"
      },
      "source": [
        "S4_A1B2_1img  = cv2.imread(S4_doubleA1B2_1)\n",
        "S4HSV_imgA1B2_1= cv2.cvtColor(S4_A1B2_1img, cv2.COLOR_BGR2HSV)"
      ],
      "execution_count": 197,
      "outputs": []
    },
    {
      "cell_type": "code",
      "metadata": {
        "id": "pVRgjRHfGiDR"
      },
      "source": [
        "S4_A1B3_1img  = cv2.imread(S4_doubleA1B3_1)\n",
        "S4HSV_imgA1B3_1= cv2.cvtColor(S4_A1B3_1img, cv2.COLOR_BGR2HSV)"
      ],
      "execution_count": 198,
      "outputs": []
    },
    {
      "cell_type": "code",
      "metadata": {
        "id": "olwI8b3aGiDR"
      },
      "source": [
        "S4_A1B4_1img  = cv2.imread(S4_doubleA1B4_1)\n",
        "S4HSV_imgA1B4_1= cv2.cvtColor(S4_A1B4_1img, cv2.COLOR_BGR2HSV)"
      ],
      "execution_count": 199,
      "outputs": []
    },
    {
      "cell_type": "code",
      "metadata": {
        "id": "kHfZIcZ2GiDR"
      },
      "source": [
        "S4_A1C1_1img  = cv2.imread(S4_doubleA1C1_1)\n",
        "S4HSV_imgA1C1_1= cv2.cvtColor(S4_A1C1_1img, cv2.COLOR_BGR2HSV)"
      ],
      "execution_count": 200,
      "outputs": []
    },
    {
      "cell_type": "code",
      "metadata": {
        "id": "NTSQwF5LGiDR"
      },
      "source": [
        "S4_A1C2_1img  = cv2.imread(S4_doubleA1C2_1)\n",
        "S4HSV_imgA1C2_1= cv2.cvtColor(S4_A1C2_1img, cv2.COLOR_BGR2HSV)"
      ],
      "execution_count": 201,
      "outputs": []
    },
    {
      "cell_type": "code",
      "metadata": {
        "id": "gr5vzr-vGiDR"
      },
      "source": [
        "S4_A1C3_1img  = cv2.imread(S4_doubleA1C3_1)\n",
        "S4HSV_imgA1C3_1= cv2.cvtColor(S4_A1C3_1img, cv2.COLOR_BGR2HSV)"
      ],
      "execution_count": 202,
      "outputs": []
    },
    {
      "cell_type": "code",
      "metadata": {
        "id": "AlBSzxZPGiDS"
      },
      "source": [
        "S4_A1C4_1img  = cv2.imread(S4_doubleA1C4_1)\n",
        "S4HSV_imgA1C4_1= cv2.cvtColor(S4_A1C4_1img, cv2.COLOR_BGR2HSV)"
      ],
      "execution_count": 203,
      "outputs": []
    },
    {
      "cell_type": "code",
      "metadata": {
        "id": "AcccInfeGiDS"
      },
      "source": [
        "S4_A1D2_1img  = cv2.imread(S4_doubleA1D2_1)\n",
        "S4HSV_imgA1D2_1= cv2.cvtColor(S4_A1D2_1img, cv2.COLOR_BGR2HSV)"
      ],
      "execution_count": 204,
      "outputs": []
    },
    {
      "cell_type": "code",
      "metadata": {
        "id": "162xshkjGiDS"
      },
      "source": [
        "S4_A1D3_1img  = cv2.imread(S4_doubleA1D3_1)\n",
        "S4HSV_imgA1D3_1= cv2.cvtColor(S4_A1D3_1img, cv2.COLOR_BGR2HSV)"
      ],
      "execution_count": 205,
      "outputs": []
    },
    {
      "cell_type": "code",
      "metadata": {
        "id": "Et3h7SwjGiDS"
      },
      "source": [
        "S4_A1D4_1img  = cv2.imread(S4_doubleA1D4_1)\n",
        "S4HSV_imgA1D4_1= cv2.cvtColor(S4_A1D4_1img, cv2.COLOR_BGR2HSV)"
      ],
      "execution_count": 206,
      "outputs": []
    },
    {
      "cell_type": "markdown",
      "metadata": {
        "id": "UNtZVBz0CQoq"
      },
      "source": [
        "#5. ดึงสี"
      ]
    },
    {
      "cell_type": "markdown",
      "metadata": {
        "id": "5H65mCxBCwun"
      },
      "source": [
        "##Set1 "
      ]
    },
    {
      "cell_type": "markdown",
      "metadata": {
        "id": "uNWjoOD4radB"
      },
      "source": [
        "### RGB"
      ]
    },
    {
      "cell_type": "code",
      "metadata": {
        "id": "3MeDXa_qCjAo"
      },
      "source": [
        "S1A1_1= list()\n",
        "S1A1_2 = list()\n",
        "for i in range(S1RGB_imgA1A1_1.shape[0]): #ให้ i รันตาม row หรือ shape[0] คือแถว มีทั้งหมด 4032 แถว ของภาพที่ปรับขนาดมาแล้ว\n",
        "     for j in range(S1RGB_imgA1A1_1.shape[1]): #ให้ j รันตาม colum มีทั้งหมด 3024 colum เช่น แถวที่ 1 เข้ามาให้รันครบ 3024colum\n",
        "                if 1770<i<1880 and 1700<j<1830 :\n",
        "                    S1A1_1.append(S1RGB_imgA1A1_1[i][j])\n",
        "                if 1770<i<1880 and 2015<j<2145 :\n",
        "                    S1A1_2.append(S1RGB_imgA1A1_1[i][j])   "
      ],
      "execution_count": 207,
      "outputs": []
    },
    {
      "cell_type": "code",
      "metadata": {
        "id": "IY5gPQv-Cy1Q"
      },
      "source": [
        "S1A1_3= list()\n",
        "S1A2_1 = list()\n",
        "for i in range(S1RGB_imgA1A2_1.shape[0]): \n",
        "     for j in range(S1RGB_imgA1A2_1.shape[1]): \n",
        "                if 1770<i<1880 and 1700<j<1830 :\n",
        "                    S1A1_3.append(S1RGB_imgA1A2_1[i][j])\n",
        "                if 1770<i<1880 and 2015<j<2145 :\n",
        "                    S1A2_1.append(S1RGB_imgA1A2_1[i][j])   "
      ],
      "execution_count": 208,
      "outputs": []
    },
    {
      "cell_type": "code",
      "metadata": {
        "id": "mig_gz6iC_pn"
      },
      "source": [
        "S1A1_4= list()\n",
        "S1A3_1 = list()\n",
        "for i in range(S1RGB_imgA1A3_1.shape[0]): \n",
        "     for j in range(S1RGB_imgA1A3_1.shape[1]): \n",
        "                if 1770<i<1880 and 1700<j<1830 :\n",
        "                    S1A1_4.append(S1RGB_imgA1A3_1[i][j])\n",
        "                if 1770<i<1880 and 2015<j<2145 :\n",
        "                    S1A3_1.append(S1RGB_imgA1A3_1[i][j])   "
      ],
      "execution_count": 209,
      "outputs": []
    },
    {
      "cell_type": "code",
      "metadata": {
        "id": "iu-ny26uDHW1"
      },
      "source": [
        "S1A1_5= list()\n",
        "S1A3_51 = list()\n",
        "for i in range(S1RGB_imgA1A3_51.shape[0]): \n",
        "     for j in range(S1RGB_imgA1A3_51.shape[1]): \n",
        "                if 1770<i<1880 and 1700<j<1830 :\n",
        "                    S1A1_5.append(S1RGB_imgA1A3_51[i][j])\n",
        "                if 1770<i<1880 and 2015<j<2145 :\n",
        "                    S1A3_51.append(S1RGB_imgA1A3_51[i][j])"
      ],
      "execution_count": 210,
      "outputs": []
    },
    {
      "cell_type": "code",
      "metadata": {
        "id": "aWV6WsWMDOyh"
      },
      "source": [
        "S1A1_6= list()\n",
        "S1A4_1 = list()\n",
        "for i in range(S1RGB_imgA1A4_1.shape[0]): \n",
        "     for j in range(S1RGB_imgA1A4_1.shape[1]): \n",
        "                if 1770<i<1880 and 1700<j<1830 :\n",
        "                    S1A1_6.append(S1RGB_imgA1A4_1[i][j])\n",
        "                if 1770<i<1880 and 2015<j<2145 :\n",
        "                    S1A4_1.append(S1RGB_imgA1A4_1[i][j])"
      ],
      "execution_count": 211,
      "outputs": []
    },
    {
      "cell_type": "code",
      "metadata": {
        "id": "De3kH-OoDYQI"
      },
      "source": [
        "S1A1_7= list()\n",
        "S1B1_1 = list()\n",
        "for i in range(S1RGB_imgA1B1_1.shape[0]): \n",
        "     for j in range(S1RGB_imgA1B1_1.shape[1]): \n",
        "                if 1770<i<1880 and 1700<j<1830 :\n",
        "                    S1A1_7.append(S1RGB_imgA1B1_1[i][j])\n",
        "                if 1770<i<1880 and 2015<j<2145 :\n",
        "                    S1B1_1.append(S1RGB_imgA1B1_1[i][j])"
      ],
      "execution_count": 212,
      "outputs": []
    },
    {
      "cell_type": "code",
      "metadata": {
        "id": "gWUovJ6PDioo"
      },
      "source": [
        "S1A1_8= list()\n",
        "S1B2_1 = list()\n",
        "for i in range(S1RGB_imgA1B2_1.shape[0]): \n",
        "     for j in range(S1RGB_imgA1B2_1.shape[1]): \n",
        "                if 1770<i<1880 and 1700<j<1830 :\n",
        "                    S1A1_8.append(S1RGB_imgA1B2_1[i][j])\n",
        "                if 1770<i<1880 and 2015<j<2145 :\n",
        "                    S1B2_1.append(S1RGB_imgA1B2_1[i][j])"
      ],
      "execution_count": 213,
      "outputs": []
    },
    {
      "cell_type": "code",
      "metadata": {
        "id": "I4g8iQcMDxjZ"
      },
      "source": [
        "S1A1_9= list()\n",
        "S1B3_1 = list()\n",
        "for i in range(S1RGB_imgA1B3_1.shape[0]): \n",
        "     for j in range(S1RGB_imgA1B3_1.shape[1]): \n",
        "                if 1770<i<1880 and 1700<j<1830 :\n",
        "                    S1A1_9.append(S1RGB_imgA1B3_1[i][j])\n",
        "                if 1770<i<1880 and 2015<j<2145 :\n",
        "                    S1B3_1.append(S1RGB_imgA1B3_1[i][j])"
      ],
      "execution_count": 214,
      "outputs": []
    },
    {
      "cell_type": "code",
      "metadata": {
        "id": "Ci0cVh1ND2Hl"
      },
      "source": [
        "S1A1_10= list()\n",
        "S1B4_1 = list()\n",
        "for i in range(S1RGB_imgA1B4_1.shape[0]): \n",
        "     for j in range(S1RGB_imgA1B4_1.shape[1]): \n",
        "                if 1770<i<1880 and 1700<j<1830 :\n",
        "                    S1A1_10.append(S1RGB_imgA1B4_1[i][j])\n",
        "                if 1770<i<1880 and 2015<j<2145 :\n",
        "                    S1B4_1.append(S1RGB_imgA1B4_1[i][j])"
      ],
      "execution_count": 215,
      "outputs": []
    },
    {
      "cell_type": "code",
      "metadata": {
        "id": "FwSZ_HixEDkc"
      },
      "source": [
        "S1A1_11= list()\n",
        "S1C1_2 = list()\n",
        "for i in range(S1RGB_imgA1C1_1.shape[0]): \n",
        "     for j in range(S1RGB_imgA1C1_1.shape[1]): \n",
        "                if 1770<i<1880 and 1700<j<1830 :\n",
        "                    S1A1_11.append(S1RGB_imgA1C1_1[i][j])\n",
        "                if 1770<i<1880 and 2015<j<2145 :\n",
        "                    S1C1_2.append(S1RGB_imgA1C1_1[i][j])   "
      ],
      "execution_count": 216,
      "outputs": []
    },
    {
      "cell_type": "code",
      "metadata": {
        "id": "rrDRSrU6AnIl"
      },
      "source": [
        ""
      ],
      "execution_count": 216,
      "outputs": []
    },
    {
      "cell_type": "code",
      "metadata": {
        "id": "DWeSxQyvEDkc"
      },
      "source": [
        "S1A1_12= list()\n",
        "S1C2_1 = list()\n",
        "for i in range(S1RGB_imgA1C2_1.shape[0]): \n",
        "     for j in range(S1RGB_imgA1C2_1.shape[1]): \n",
        "                if 1770<i<1880 and 1700<j<1830 :\n",
        "                    S1A1_12.append(S1RGB_imgA1C2_1[i][j])\n",
        "                if 1770<i<1880 and 2015<j<2145 :\n",
        "                    S1C2_1.append(S1RGB_imgA1C2_1[i][j])   "
      ],
      "execution_count": 217,
      "outputs": []
    },
    {
      "cell_type": "code",
      "metadata": {
        "id": "X0Qjr2CGEDkc"
      },
      "source": [
        "S1A1_13= list()\n",
        "S1C3_1 = list()\n",
        "for i in range(S1RGB_imgA1C3_1.shape[0]): \n",
        "     for j in range(S1RGB_imgA1C3_1.shape[1]): \n",
        "                if 1770<i<1880 and 1700<j<1830 :\n",
        "                    S1A1_13.append(S1RGB_imgA1C3_1[i][j])\n",
        "                if 1770<i<1880 and 2015<j<2145 :\n",
        "                    S1C3_1.append(S1RGB_imgA1C3_1[i][j])   "
      ],
      "execution_count": 218,
      "outputs": []
    },
    {
      "cell_type": "code",
      "metadata": {
        "id": "aEusPTDaEDkd"
      },
      "source": [
        "S1A1_14= list()\n",
        "S1C4_1 = list()\n",
        "for i in range(S1RGB_imgA1C4_1.shape[0]): \n",
        "     for j in range(S1RGB_imgA1C4_1.shape[1]): \n",
        "                if 1770<i<1880 and 1700<j<1830 :\n",
        "                    S1A1_14.append(S1RGB_imgA1C4_1[i][j])\n",
        "                if 1770<i<1880 and 2015<j<2145 :\n",
        "                    S1C4_1.append(S1RGB_imgA1C4_1[i][j])"
      ],
      "execution_count": 219,
      "outputs": []
    },
    {
      "cell_type": "code",
      "metadata": {
        "id": "NNRFIYC5Eo_j"
      },
      "source": [
        "S1A1_15= list()\n",
        "S1D2_1 = list()\n",
        "for i in range(S1RGB_imgA1D2_1.shape[0]): \n",
        "     for j in range(S1RGB_imgA1D2_1.shape[1]): \n",
        "                if 1770<i<1880 and 1700<j<1830 :\n",
        "                    S1A1_15.append(S1RGB_imgA1D2_1[i][j])\n",
        "                if 1770<i<1880 and 2015<j<2145 :\n",
        "                    S1D2_1.append(S1RGB_imgA1D2_1[i][j])   "
      ],
      "execution_count": 220,
      "outputs": []
    },
    {
      "cell_type": "code",
      "metadata": {
        "id": "CJbu45bPEo_j"
      },
      "source": [
        "S1A1_16= list()\n",
        "S1D3_1 = list()\n",
        "for i in range(S1RGB_imgA1D3_1.shape[0]): \n",
        "     for j in range(S1RGB_imgA1D3_1.shape[1]): \n",
        "                if 1770<i<1880 and 1700<j<1830 :\n",
        "                    S1A1_16.append(S1RGB_imgA1D3_1[i][j])\n",
        "                if 1770<i<1880 and 2015<j<2145 :\n",
        "                    S1D3_1.append(S1RGB_imgA1D3_1[i][j])   "
      ],
      "execution_count": 221,
      "outputs": []
    },
    {
      "cell_type": "code",
      "metadata": {
        "id": "DR9Fo_1cEo_j"
      },
      "source": [
        "S1A1_17= list()\n",
        "S1D4_1 = list()\n",
        "for i in range(S1RGB_imgA1D4_1.shape[0]): \n",
        "     for j in range(S1RGB_imgA1D4_1.shape[1]): \n",
        "                if 1770<i<1880 and 1700<j<1830 :\n",
        "                    S1A1_14.append(S1RGB_imgA1D4_1[i][j])\n",
        "                if 1770<i<1880 and 2015<j<2145 :\n",
        "                    S1D4_1.append(S1RGB_imgA1D4_1[i][j])"
      ],
      "execution_count": 222,
      "outputs": []
    },
    {
      "cell_type": "markdown",
      "metadata": {
        "id": "lSsfyHv-rhBP"
      },
      "source": [
        "###HSV"
      ]
    },
    {
      "cell_type": "code",
      "metadata": {
        "id": "_lJDvsPVri6j"
      },
      "source": [
        "S1A1_1= list()\n",
        "S1A1_2 = list()\n",
        "for i in range(S1HSV_imgA1A1_1.shape[0]): #ให้ i รันตาม row หรือ shape[0] คือแถว มีทั้งหมด 4032 แถว ของภาพที่ปรับขนาดมาแล้ว\n",
        "     for j in range(S1HSV_imgA1A1_1.shape[1]): #ให้ j รันตาม colum มีทั้งหมด 3024 colum เช่น แถวที่ 1 เข้ามาให้รันครบ 3024colum\n",
        "                if 1770<i<1880 and 1700<j<1830 :\n",
        "                    S1A1_1.append(S1HSV_imgA1A1_1[i][j])\n",
        "                if 1770<i<1880 and 2015<j<2145 :\n",
        "                    S1A1_2.append(S1HSV_imgA1A1_1[i][j])"
      ],
      "execution_count": 223,
      "outputs": []
    },
    {
      "cell_type": "code",
      "metadata": {
        "id": "xg5rxqssri8r"
      },
      "source": [
        "S1A1_3= list()\n",
        "S1A2_1 = list()\n",
        "for i in range(S1HSV_imgA1A2_1.shape[0]): \n",
        "     for j in range(S1HSV_imgA1A2_1.shape[1]): \n",
        "                if 1770<i<1880 and 1700<j<1830 :\n",
        "                    S1A1_3.append(S1HSV_imgA1A2_1[i][j])\n",
        "                if 1770<i<1880 and 2015<j<2145 :\n",
        "                    S1A2_1.append(S1HSV_imgA1A2_1[i][j])"
      ],
      "execution_count": 224,
      "outputs": []
    },
    {
      "cell_type": "code",
      "metadata": {
        "id": "Q22bz7Yrs1du"
      },
      "source": [
        "S1A1_4= list()\n",
        "S1A3_1 = list()\n",
        "for i in range(S1HSV_imgA1A3_1.shape[0]): \n",
        "     for j in range(S1HSV_imgA1A3_1.shape[1]): \n",
        "                if 1770<i<1880 and 1700<j<1830 :\n",
        "                    S1A1_4.append(S1HSV_imgA1A3_1[i][j])\n",
        "                if 1770<i<1880 and 2015<j<2145 :\n",
        "                    S1A3_1.append(S1HSV_imgA1A3_1[i][j])   "
      ],
      "execution_count": 225,
      "outputs": []
    },
    {
      "cell_type": "code",
      "metadata": {
        "id": "Xcj9y6qOs1dv"
      },
      "source": [
        "S1A1_5= list()\n",
        "S1A3_51 = list()\n",
        "for i in range(S1HSV_imgA1A3_51.shape[0]): \n",
        "     for j in range(S1HSV_imgA1A3_51.shape[1]): \n",
        "                if 1770<i<1880 and 1700<j<1830 :\n",
        "                    S1A1_5.append(S1HSV_imgA1A3_51[i][j])\n",
        "                if 1770<i<1880 and 2015<j<2145 :\n",
        "                    S1A3_51.append(S1HSV_imgA1A3_51[i][j])"
      ],
      "execution_count": 226,
      "outputs": []
    },
    {
      "cell_type": "code",
      "metadata": {
        "id": "4Nr5niAos1dv"
      },
      "source": [
        "S1A1_6= list()\n",
        "S1A4_1 = list()\n",
        "for i in range(S1HSV_imgA1A4_1.shape[0]): \n",
        "     for j in range(S1HSV_imgA1A4_1.shape[1]): \n",
        "                if 1770<i<1880 and 1700<j<1830 :\n",
        "                    S1A1_6.append(S1HSV_imgA1A4_1[i][j])\n",
        "                if 1770<i<1880 and 2015<j<2145 :\n",
        "                    S1A4_1.append(S1HSV_imgA1A4_1[i][j])"
      ],
      "execution_count": 227,
      "outputs": []
    },
    {
      "cell_type": "code",
      "metadata": {
        "id": "XtM4OpaFs1dw"
      },
      "source": [
        "S1A1_7= list()\n",
        "S1B1_1 = list()\n",
        "for i in range(S1HSV_imgA1B1_1.shape[0]): \n",
        "     for j in range(S1HSV_imgA1B1_1.shape[1]): \n",
        "                if 1770<i<1880 and 1700<j<1830 :\n",
        "                    S1A1_7.append(S1HSV_imgA1B1_1[i][j])\n",
        "                if 1770<i<1880 and 2015<j<2145 :\n",
        "                    S1B1_1.append(S1HSV_imgA1B1_1[i][j])"
      ],
      "execution_count": 228,
      "outputs": []
    },
    {
      "cell_type": "code",
      "metadata": {
        "id": "kAO2yxCls1dw"
      },
      "source": [
        "S1A1_8= list()\n",
        "S1B2_1 = list()\n",
        "for i in range(S1HSV_imgA1B2_1.shape[0]): \n",
        "     for j in range(S1HSV_imgA1B2_1.shape[1]): \n",
        "                if 1770<i<1880 and 1700<j<1830 :\n",
        "                    S1A1_8.append(S1HSV_imgA1B2_1[i][j])\n",
        "                if 1770<i<1880 and 2015<j<2145 :\n",
        "                    S1B2_1.append(S1HSV_imgA1B2_1[i][j])"
      ],
      "execution_count": 229,
      "outputs": []
    },
    {
      "cell_type": "code",
      "metadata": {
        "id": "E9PqbDEUs1dw"
      },
      "source": [
        "S1A1_9= list()\n",
        "S1B3_1 = list()\n",
        "for i in range(S1HSV_imgA1B3_1.shape[0]): \n",
        "     for j in range(S1HSV_imgA1B3_1.shape[1]): \n",
        "                if 1770<i<1880 and 1700<j<1830 :\n",
        "                    S1A1_9.append(S1HSV_imgA1B3_1[i][j])\n",
        "                if 1770<i<1880 and 2015<j<2145 :\n",
        "                    S1B3_1.append(S1HSV_imgA1B3_1[i][j])"
      ],
      "execution_count": 230,
      "outputs": []
    },
    {
      "cell_type": "code",
      "metadata": {
        "id": "Bjjr3OtFs1dx"
      },
      "source": [
        "S1A1_10= list()\n",
        "S1B4_1 = list()\n",
        "for i in range(S1HSV_imgA1B4_1.shape[0]): \n",
        "     for j in range(S1HSV_imgA1B4_1.shape[1]): \n",
        "                if 1770<i<1880 and 1700<j<1830 :\n",
        "                    S1A1_10.append(S1HSV_imgA1B4_1[i][j])\n",
        "                if 1770<i<1880 and 2015<j<2145 :\n",
        "                    S1B4_1.append(S1HSV_imgA1B4_1[i][j])"
      ],
      "execution_count": 231,
      "outputs": []
    },
    {
      "cell_type": "code",
      "metadata": {
        "id": "2cD6X557s1dx"
      },
      "source": [
        "S1A1_11= list()\n",
        "S1C1_2 = list()\n",
        "for i in range(S1HSV_imgA1C1_1.shape[0]): \n",
        "     for j in range(S1HSV_imgA1C1_1.shape[1]): \n",
        "                if 1770<i<1880 and 1700<j<1830 :\n",
        "                    S1A1_11.append(S1HSV_imgA1C1_1[i][j])\n",
        "                if 1770<i<1880 and 2015<j<2145 :\n",
        "                    S1C1_2.append(S1HSV_imgA1C1_1[i][j])   "
      ],
      "execution_count": 232,
      "outputs": []
    },
    {
      "cell_type": "code",
      "metadata": {
        "id": "9Bh77xBws1dy"
      },
      "source": [
        "S1A1_12= list()\n",
        "S1C2_1 = list()\n",
        "for i in range(S1HSV_imgA1C2_1.shape[0]): \n",
        "     for j in range(S1HSV_imgA1C2_1.shape[1]): \n",
        "                if 1770<i<1880 and 1700<j<1830 :\n",
        "                    S1A1_12.append(S1HSV_imgA1C2_1[i][j])\n",
        "                if 1770<i<1880 and 2015<j<2145 :\n",
        "                    S1C2_1.append(S1HSV_imgA1C2_1[i][j])   "
      ],
      "execution_count": 233,
      "outputs": []
    },
    {
      "cell_type": "code",
      "metadata": {
        "id": "8BnrG1t3s1dy"
      },
      "source": [
        "S1A1_13= list()\n",
        "S1C3_1 = list()\n",
        "for i in range(S1HSV_imgA1C3_1.shape[0]): \n",
        "     for j in range(S1HSV_imgA1C3_1.shape[1]): \n",
        "                if 1770<i<1880 and 1700<j<1830 :\n",
        "                    S1A1_13.append(S1HSV_imgA1C3_1[i][j])\n",
        "                if 1770<i<1880 and 2015<j<2145 :\n",
        "                    S1C3_1.append(S1HSV_imgA1C3_1[i][j])   "
      ],
      "execution_count": 234,
      "outputs": []
    },
    {
      "cell_type": "code",
      "metadata": {
        "id": "pn3ABgm7s1dz"
      },
      "source": [
        "S1A1_14= list()\n",
        "S1C4_1 = list()\n",
        "for i in range(S1HSV_imgA1C4_1.shape[0]): \n",
        "     for j in range(S1HSV_imgA1C4_1.shape[1]): \n",
        "                if 1770<i<1880 and 1700<j<1830 :\n",
        "                    S1A1_14.append(S1HSV_imgA1C4_1[i][j])\n",
        "                if 1770<i<1880 and 2015<j<2145 :\n",
        "                    S1C4_1.append(S1HSV_imgA1C4_1[i][j])"
      ],
      "execution_count": 235,
      "outputs": []
    },
    {
      "cell_type": "code",
      "metadata": {
        "id": "Bj_oz64Xs1d0"
      },
      "source": [
        "S1A1_15= list()\n",
        "S1D2_1 = list()\n",
        "for i in range(S1HSV_imgA1D2_1.shape[0]): \n",
        "     for j in range(S1HSV_imgA1D2_1.shape[1]): \n",
        "                if 1770<i<1880 and 1700<j<1830 :\n",
        "                    S1A1_15.append(S1HSV_imgA1D2_1[i][j])\n",
        "                if 1770<i<1880 and 2015<j<2145 :\n",
        "                    S1D2_1.append(S1HSV_imgA1D2_1[i][j])   "
      ],
      "execution_count": 236,
      "outputs": []
    },
    {
      "cell_type": "code",
      "metadata": {
        "id": "zYDvOvcos1d0"
      },
      "source": [
        "S1A1_16= list()\n",
        "S1D3_1 = list()\n",
        "for i in range(S1HSV_imgA1D3_1.shape[0]): \n",
        "     for j in range(S1HSV_imgA1D3_1.shape[1]): \n",
        "                if 1770<i<1880 and 1700<j<1830 :\n",
        "                    S1A1_16.append(S1HSV_imgA1D3_1[i][j])\n",
        "                if 1770<i<1880 and 2015<j<2145 :\n",
        "                    S1D3_1.append(S1HSV_imgA1D3_1[i][j])   "
      ],
      "execution_count": 237,
      "outputs": []
    },
    {
      "cell_type": "code",
      "metadata": {
        "id": "Y6imBIV9s1d1"
      },
      "source": [
        "S1A1_17= list()\n",
        "S1D4_1 = list()\n",
        "for i in range(S1HSV_imgA1D4_1.shape[0]): \n",
        "     for j in range(S1HSV_imgA1D4_1.shape[1]): \n",
        "                if 1770<i<1880 and 1700<j<1830 :\n",
        "                    S1A1_14.append(S1HSV_imgA1D4_1[i][j])\n",
        "                if 1770<i<1880 and 2015<j<2145 :\n",
        "                    S1D4_1.append(S1HSV_imgA1D4_1[i][j])"
      ],
      "execution_count": 238,
      "outputs": []
    },
    {
      "cell_type": "markdown",
      "metadata": {
        "id": "K3aE8wJsE9ve"
      },
      "source": [
        "##Set2"
      ]
    },
    {
      "cell_type": "markdown",
      "metadata": {
        "id": "U1HKIMJY1JrQ"
      },
      "source": [
        "\n",
        "###RGB"
      ]
    },
    {
      "cell_type": "code",
      "metadata": {
        "id": "khE2o3vOE_KV"
      },
      "source": [
        "S2A1_1= list()\n",
        "S2A1_2 = list()\n",
        "for i in range(S2RGB_imgA1A1_1.shape[0]): \n",
        "     for j in range(S2RGB_imgA1A1_1.shape[1]): \n",
        "                if 1770<i<1880 and 1700<j<1830 :\n",
        "                    S2A1_1.append(S2RGB_imgA1A1_1[i][j])\n",
        "                if 1770<i<1880 and 2015<j<2145 :\n",
        "                    S2A1_2.append(S2RGB_imgA1A1_1[i][j])   "
      ],
      "execution_count": 239,
      "outputs": []
    },
    {
      "cell_type": "code",
      "metadata": {
        "id": "4kCdvqwGE_KV"
      },
      "source": [
        "S2A1_3= list()\n",
        "S2A2_1 = list()\n",
        "for i in range(S2RGB_imgA1A2_1.shape[0]): \n",
        "     for j in range(S2RGB_imgA1A2_1.shape[1]): \n",
        "                if 1770<i<1880 and 1700<j<1830 :\n",
        "                    S2A1_3.append(S2RGB_imgA1A2_1[i][j])\n",
        "                if 1770<i<1880 and 2015<j<2145 :\n",
        "                    S2A2_1.append(S2RGB_imgA1A2_1[i][j])   "
      ],
      "execution_count": 240,
      "outputs": []
    },
    {
      "cell_type": "code",
      "metadata": {
        "id": "U0X6KhvhE_KV"
      },
      "source": [
        "S2A1_4= list()\n",
        "S2A3_1 = list()\n",
        "for i in range(S2RGB_imgA1A3_1.shape[0]): \n",
        "     for j in range(S2RGB_imgA1A3_1.shape[1]): \n",
        "                if 1770<i<1880 and 1700<j<1830 :\n",
        "                    S2A1_4.append(S2RGB_imgA1A3_1[i][j])\n",
        "                if 1770<i<1880 and 2015<j<2145 :\n",
        "                    S2A3_1.append(S2RGB_imgA1A3_1[i][j])   "
      ],
      "execution_count": 241,
      "outputs": []
    },
    {
      "cell_type": "code",
      "metadata": {
        "id": "BLFMGwWaE_KV"
      },
      "source": [
        "S2A1_5= list()\n",
        "S2A3_51 = list()\n",
        "for i in range(S2RGB_imgA1A3_51.shape[0]): \n",
        "     for j in range(S2RGB_imgA1A3_51.shape[1]): \n",
        "                if 1770<i<1880 and 1700<j<1830 :\n",
        "                    S2A1_5.append(S2RGB_imgA1A3_51[i][j])\n",
        "                if 1770<i<1880 and 2015<j<2145 :\n",
        "                    S2A3_51.append(S2RGB_imgA1A3_51[i][j])"
      ],
      "execution_count": 242,
      "outputs": []
    },
    {
      "cell_type": "code",
      "metadata": {
        "id": "6628zpddE_KV"
      },
      "source": [
        "S2A1_6= list()\n",
        "S2A4_1 = list()\n",
        "for i in range(S2RGB_imgA1A4_1.shape[0]): \n",
        "     for j in range(S2RGB_imgA1A4_1.shape[1]): \n",
        "                if 1770<i<1880 and 1700<j<1830 :\n",
        "                    S2A1_6.append(S2RGB_imgA1A4_1[i][j])\n",
        "                if 1770<i<1880 and 2015<j<2145 :\n",
        "                    S2A4_1.append(S2RGB_imgA1A4_1[i][j])"
      ],
      "execution_count": 243,
      "outputs": []
    },
    {
      "cell_type": "code",
      "metadata": {
        "id": "qi-Bb23SE_KV"
      },
      "source": [
        "S2A1_7= list()\n",
        "S2B1_1 = list()\n",
        "for i in range(S2RGB_imgA1B1_1.shape[0]): \n",
        "     for j in range(S2RGB_imgA1B1_1.shape[1]): \n",
        "                if 1770<i<1880 and 1700<j<1830 :\n",
        "                    S2A1_7.append(S2RGB_imgA1B1_1[i][j])\n",
        "                if 1770<i<1880 and 2015<j<2145 :\n",
        "                    S2B1_1.append(S2RGB_imgA1B1_1[i][j])"
      ],
      "execution_count": 244,
      "outputs": []
    },
    {
      "cell_type": "code",
      "metadata": {
        "id": "WdESh-zdE_KV"
      },
      "source": [
        "S2A1_8= list()\n",
        "S2B2_1 = list()\n",
        "for i in range(S2RGB_imgA1B2_1.shape[0]): \n",
        "     for j in range(S2RGB_imgA1B2_1.shape[1]): \n",
        "                if 1770<i<1880 and 1700<j<1830 :\n",
        "                    S2A1_8.append(S2RGB_imgA1B2_1[i][j])\n",
        "                if 1770<i<1880 and 2015<j<2145 :\n",
        "                    S2B2_1.append(S2RGB_imgA1B2_1[i][j])"
      ],
      "execution_count": 245,
      "outputs": []
    },
    {
      "cell_type": "code",
      "metadata": {
        "id": "jXnLb-2NE_KW"
      },
      "source": [
        "S2A1_9= list()\n",
        "S2B3_1 = list()\n",
        "for i in range(S2RGB_imgA1B3_1.shape[0]): \n",
        "     for j in range(S2RGB_imgA1B3_1.shape[1]): \n",
        "                if 1770<i<1880 and 1700<j<1830 :\n",
        "                    S2A1_9.append(S2RGB_imgA1B3_1[i][j])\n",
        "                if 1770<i<1880 and 2015<j<2145 :\n",
        "                    S2B3_1.append(S2RGB_imgA1B3_1[i][j])"
      ],
      "execution_count": 246,
      "outputs": []
    },
    {
      "cell_type": "code",
      "metadata": {
        "id": "6ISqriBWE_KW"
      },
      "source": [
        "S2A1_10= list()\n",
        "S2B4_1 = list()\n",
        "for i in range(S2RGB_imgA1B4_1.shape[0]): \n",
        "     for j in range(S2RGB_imgA1B4_1.shape[1]): \n",
        "                if 1770<i<1880 and 1700<j<1830 :\n",
        "                    S2A1_10.append(S2RGB_imgA1B4_1[i][j])\n",
        "                if 1770<i<1880 and 2015<j<2145 :\n",
        "                    S2B4_1.append(S2RGB_imgA1B4_1[i][j])"
      ],
      "execution_count": 247,
      "outputs": []
    },
    {
      "cell_type": "code",
      "metadata": {
        "id": "RebcKxFxE_KW"
      },
      "source": [
        "S2A1_11= list()\n",
        "S2C1_1 = list()\n",
        "for i in range(S2RGB_imgA1C1_1.shape[0]): \n",
        "     for j in range(S2RGB_imgA1C1_1.shape[1]): \n",
        "                if 1770<i<1880 and 1700<j<1830 :\n",
        "                    S2A1_11.append(S2RGB_imgA1C1_1[i][j])\n",
        "                if 1770<i<1880 and 2015<j<2145 :\n",
        "                    S2C1_1.append(S2RGB_imgA1C1_1[i][j])   "
      ],
      "execution_count": 248,
      "outputs": []
    },
    {
      "cell_type": "code",
      "metadata": {
        "id": "rYhPStMmE_KW"
      },
      "source": [
        "S2A1_12= list()\n",
        "S2C2_1 = list()\n",
        "for i in range(S2RGB_imgA1C2_1.shape[0]): \n",
        "     for j in range(S2RGB_imgA1C2_1.shape[1]): \n",
        "                if 1770<i<1880 and 1700<j<1830 :\n",
        "                    S2A1_12.append(S2RGB_imgA1C2_1[i][j])\n",
        "                if 1770<i<1880 and 2015<j<2145 :\n",
        "                    S2C2_1.append(S2RGB_imgA1C2_1[i][j])   "
      ],
      "execution_count": 249,
      "outputs": []
    },
    {
      "cell_type": "code",
      "metadata": {
        "id": "h3ox_cTcE_KW"
      },
      "source": [
        "S2A1_13= list()\n",
        "S2C3_1 = list()\n",
        "for i in range(S2RGB_imgA1C3_1.shape[0]): \n",
        "     for j in range(S2RGB_imgA1C3_1.shape[1]): \n",
        "                if 1770<i<1880 and 1700<j<1830 :\n",
        "                    S2A1_13.append(S2RGB_imgA1C3_1[i][j])\n",
        "                if 1770<i<1880 and 2015<j<2145 :\n",
        "                    S2C3_1.append(S2RGB_imgA1C3_1[i][j])   "
      ],
      "execution_count": 250,
      "outputs": []
    },
    {
      "cell_type": "code",
      "metadata": {
        "id": "5hciU69HE_KW"
      },
      "source": [
        "S2A1_14= list()\n",
        "S2C4_1 = list()\n",
        "for i in range(S2RGB_imgA1C4_1.shape[0]): \n",
        "     for j in range(S2RGB_imgA1C4_1.shape[1]): \n",
        "                if 1770<i<1880 and 1700<j<1830 :\n",
        "                    S2A1_14.append(S2RGB_imgA1C4_1[i][j])\n",
        "                if 1770<i<1880 and 2015<j<2145 :\n",
        "                    S2C4_1.append(S2RGB_imgA1C4_1[i][j])"
      ],
      "execution_count": 251,
      "outputs": []
    },
    {
      "cell_type": "code",
      "metadata": {
        "id": "-PIfd58aE_KW"
      },
      "source": [
        "S2A1_15= list()\n",
        "S2D2_1 = list()\n",
        "for i in range(S2RGB_imgA1C2_1.shape[0]): \n",
        "     for j in range(S2RGB_imgA1D2_1.shape[1]): \n",
        "                if 1770<i<1880 and 1700<j<1830 :\n",
        "                    S2A1_15.append(S2RGB_imgA1D2_1[i][j])\n",
        "                if 1770<i<1880 and 2015<j<2145 :\n",
        "                    S2D2_1.append(S2RGB_imgA1D2_1[i][j])   "
      ],
      "execution_count": 252,
      "outputs": []
    },
    {
      "cell_type": "code",
      "metadata": {
        "id": "RWWQk81wE_KW"
      },
      "source": [
        "S2A1_16= list()\n",
        "S2D3_1 = list()\n",
        "for i in range(S2RGB_imgA1D3_1.shape[0]): \n",
        "     for j in range(S2RGB_imgA1D3_1.shape[1]): \n",
        "                if 1770<i<1880 and 1700<j<1830 :\n",
        "                    S2A1_16.append(S2RGB_imgA1D3_1[i][j])\n",
        "                if 1770<i<1880 and 2015<j<2145 :\n",
        "                    S2D3_1.append(S2RGB_imgA1D3_1[i][j])   "
      ],
      "execution_count": 253,
      "outputs": []
    },
    {
      "cell_type": "code",
      "metadata": {
        "id": "--ESatmJE_KW"
      },
      "source": [
        "S2A1_17= list()\n",
        "S2D4_1 = list()\n",
        "for i in range(S2RGB_imgA1D4_1.shape[0]): \n",
        "     for j in range(S2RGB_imgA1D4_1.shape[1]): \n",
        "                if 1770<i<1880 and 1700<j<1830 :\n",
        "                    S2A1_14.append(S2RGB_imgA1D4_1[i][j])\n",
        "                if 1770<i<1880 and 2015<j<2145 :\n",
        "                    S2D4_1.append(S2RGB_imgA1D4_1[i][j])"
      ],
      "execution_count": 254,
      "outputs": []
    },
    {
      "cell_type": "markdown",
      "metadata": {
        "id": "JkoDeeMU1OW7"
      },
      "source": [
        "###HSV"
      ]
    },
    {
      "cell_type": "code",
      "metadata": {
        "id": "xu-qOwpl1pQb"
      },
      "source": [
        "S2A1_1= list()\n",
        "S2A1_2 = list()\n",
        "for i in range(S2HSV_imgA1A1_1.shape[0]): \n",
        "     for j in range(S2HSV_imgA1A1_1.shape[1]): \n",
        "                if 1770<i<1880 and 1700<j<1830 :\n",
        "                    S2A1_1.append(S2HSV_imgA1A1_1[i][j])\n",
        "                if 1770<i<1880 and 2015<j<2145 :\n",
        "                    S2A1_2.append(S2HSV_imgA1A1_1[i][j])   "
      ],
      "execution_count": 255,
      "outputs": []
    },
    {
      "cell_type": "code",
      "metadata": {
        "id": "_fpgN85Z1pQc"
      },
      "source": [
        "S2A1_3= list()\n",
        "S2A2_1 = list()\n",
        "for i in range(S2HSV_imgA1A2_1.shape[0]): \n",
        "     for j in range(S2HSV_imgA1A2_1.shape[1]): \n",
        "                if 1770<i<1880 and 1700<j<1830 :\n",
        "                    S2A1_3.append(S2HSV_imgA1A2_1[i][j])\n",
        "                if 1770<i<1880 and  2015<j<2145 :\n",
        "                   S2A2_1.append(S2HSV_imgA1A2_1[i][j])   "
      ],
      "execution_count": 256,
      "outputs": []
    },
    {
      "cell_type": "code",
      "metadata": {
        "id": "1OVw3fvj1pQc"
      },
      "source": [
        "S2A1_4= list()\n",
        "S2A3_1 = list()\n",
        "for i in range(S2HSV_imgA1A3_1.shape[0]): \n",
        "     for j in range(S2HSV_imgA1A3_1.shape[1]): \n",
        "                if 1770<i<1880 and 1700<j<1830 :\n",
        "                    S2A1_4.append(S2HSV_imgA1A3_1[i][j])\n",
        "                if 1770<i<1880 and 2015<j<2145 :\n",
        "                    S2A3_1.append(S2HSV_imgA1A3_1[i][j])   "
      ],
      "execution_count": 257,
      "outputs": []
    },
    {
      "cell_type": "code",
      "metadata": {
        "id": "8V2Atb3t1pQd"
      },
      "source": [
        "S2A1_5= list()\n",
        "S2A3_51 = list()\n",
        "for i in range(S2HSV_imgA1A3_51.shape[0]): \n",
        "     for j in range(S2HSV_imgA1A3_51.shape[1]): \n",
        "                if 1770<i<1880 and 1700<j<1830 :\n",
        "                    S2A1_5.append(S2HSV_imgA1A3_51[i][j])\n",
        "                if 1770<i<1880 and 2015<j<2145 :\n",
        "                    S2A3_51.append(S2HSV_imgA1A3_51[i][j])"
      ],
      "execution_count": 258,
      "outputs": []
    },
    {
      "cell_type": "code",
      "metadata": {
        "id": "6q5mOaKO1pQd"
      },
      "source": [
        "S2A1_6= list()\n",
        "S2A4_1 = list()\n",
        "for i in range(S2HSV_imgA1A4_1.shape[0]): \n",
        "     for j in range(S2HSV_imgA1A4_1.shape[1]): \n",
        "                if 1770<i<1880 and 1700<j<1830 :\n",
        "                    S2A1_6.append(S2HSV_imgA1A4_1[i][j])\n",
        "                if 1770<i<1880 and 2015<j<2145 :\n",
        "                    S2A4_1.append(S2HSV_imgA1A4_1[i][j])"
      ],
      "execution_count": 259,
      "outputs": []
    },
    {
      "cell_type": "code",
      "metadata": {
        "id": "STyt6nic1pQd"
      },
      "source": [
        "S2A1_7= list()\n",
        "S2B1_1 = list()\n",
        "for i in range(S2HSV_imgA1B1_1.shape[0]): \n",
        "     for j in range(S2HSV_imgA1B1_1.shape[1]): \n",
        "                if 1770<i<1880 and 1700<j<1830 :\n",
        "                    S2A1_7.append(S2HSV_imgA1B1_1[i][j])\n",
        "                if 1770<i<1880 and 2015<j<2145 :\n",
        "                    S2B1_1.append(S2HSV_imgA1B1_1[i][j])"
      ],
      "execution_count": 260,
      "outputs": []
    },
    {
      "cell_type": "code",
      "metadata": {
        "id": "ReMsaPxH1pQe"
      },
      "source": [
        "S2A1_8= list()\n",
        "S2B2_1 = list()\n",
        "for i in range(S2HSV_imgA1B2_1.shape[0]): \n",
        "     for j in range(S2HSV_imgA1B2_1.shape[1]): \n",
        "                if 1770<i<1880 and 1700<j<1830 :\n",
        "                    S2A1_8.append(S2HSV_imgA1B2_1[i][j])\n",
        "                if 1770<i<1880 and 2015<j<2145 :\n",
        "                    S2B2_1.append(S2HSV_imgA1B2_1[i][j])"
      ],
      "execution_count": 261,
      "outputs": []
    },
    {
      "cell_type": "code",
      "metadata": {
        "id": "wtik5ajT1pQe"
      },
      "source": [
        "S2A1_9= list()\n",
        "S2B3_1 = list()\n",
        "for i in range(S2HSV_imgA1B3_1.shape[0]): \n",
        "     for j in range(S2HSV_imgA1B3_1.shape[1]): \n",
        "                if 1770<i<1880 and 1700<j<1830 :\n",
        "                    S2A1_9.append(S2HSV_imgA1B3_1[i][j])\n",
        "                if 1770<i<1880 and 2015<j<2145 :\n",
        "                    S2B3_1.append(S2HSV_imgA1B3_1[i][j])"
      ],
      "execution_count": 262,
      "outputs": []
    },
    {
      "cell_type": "code",
      "metadata": {
        "id": "zjbrsCW41pQe"
      },
      "source": [
        "S2A1_10= list()\n",
        "S2B4_1 = list()\n",
        "for i in range(S2HSV_imgA1B4_1.shape[0]): \n",
        "     for j in range(S2HSV_imgA1B4_1.shape[1]): \n",
        "                if 1770<i<1880 and 1700<j<1830 :\n",
        "                    S2A1_10.append(S2HSV_imgA1B4_1[i][j])\n",
        "                if 1770<i<1880 and 2015<j<2145 :\n",
        "                    S2B4_1.append(S2HSV_imgA1B4_1[i][j])"
      ],
      "execution_count": 263,
      "outputs": []
    },
    {
      "cell_type": "code",
      "metadata": {
        "id": "QLyRshs21pQe"
      },
      "source": [
        "S2A1_11= list()\n",
        "S2C1_1 = list()\n",
        "for i in range(S2HSV_imgA1C1_1.shape[0]): \n",
        "     for j in range(S2HSV_imgA1C1_1.shape[1]): \n",
        "                if 1770<i<1880 and 1700<j<1830 :\n",
        "                    S2A1_11.append(S2HSV_imgA1C1_1[i][j])\n",
        "                if 1770<i<1880 and 2015<j<2145 :\n",
        "                    S2C1_1.append(S2HSV_imgA1C1_1[i][j])   "
      ],
      "execution_count": 264,
      "outputs": []
    },
    {
      "cell_type": "code",
      "metadata": {
        "id": "tRI8V22i1pQe"
      },
      "source": [
        "S2A1_12= list()\n",
        "S2C2_1 = list()\n",
        "for i in range(S2HSV_imgA1C2_1.shape[0]): \n",
        "     for j in range(S2HSV_imgA1C2_1.shape[1]): \n",
        "                if 1770<i<1880 and 1700<j<1830 :\n",
        "                    S2A1_12.append(S2HSV_imgA1C2_1[i][j])\n",
        "                if 1770<i<1880 and 2015<j<2145 :\n",
        "                    S2C2_1.append(S2HSV_imgA1C2_1[i][j])   "
      ],
      "execution_count": 265,
      "outputs": []
    },
    {
      "cell_type": "code",
      "metadata": {
        "id": "sjDrbszJ1pQf"
      },
      "source": [
        "S2A1_13= list()\n",
        "S2C3_1 = list()\n",
        "for i in range(S2HSV_imgA1C3_1.shape[0]): \n",
        "     for j in range(S2HSV_imgA1C3_1.shape[1]): \n",
        "                if 1770<i<1880 and 1700<j<1830 :\n",
        "                    S2A1_13.append(S2HSV_imgA1C3_1[i][j])\n",
        "                if 1770<i<1880 and 2015<j<2145 :\n",
        "                    S2C3_1.append(S2HSV_imgA1C3_1[i][j])   "
      ],
      "execution_count": 266,
      "outputs": []
    },
    {
      "cell_type": "code",
      "metadata": {
        "id": "SLE_khFl1pQf"
      },
      "source": [
        "S2A1_14= list()\n",
        "S2C4_1 = list()\n",
        "for i in range(S2HSV_imgA1C4_1.shape[0]): \n",
        "     for j in range(S2HSV_imgA1C4_1.shape[1]): \n",
        "                if 1770<i<1880 and 1700<j<1830 :\n",
        "                    S2A1_14.append(S2HSV_imgA1C4_1[i][j])\n",
        "                if 1770<i<1880 and 2015<j<2145 :\n",
        "                    S2C4_1.append(S2HSV_imgA1C4_1[i][j])"
      ],
      "execution_count": 267,
      "outputs": []
    },
    {
      "cell_type": "code",
      "metadata": {
        "id": "Wdfz2kJt1pQf"
      },
      "source": [
        "S2A1_15= list()\n",
        "S2D2_1 = list()\n",
        "for i in range(S2HSV_imgA1C2_1.shape[0]): \n",
        "     for j in range(S2HSV_imgA1D2_1.shape[1]): \n",
        "                if 1770<i<1880 and 1700<j<1830 :\n",
        "                    S2A1_15.append(S2HSV_imgA1D2_1[i][j])\n",
        "                if 1770<i<1880 and 2015<j<2145 :\n",
        "                    S2D2_1.append(S2HSV_imgA1D2_1[i][j])   "
      ],
      "execution_count": 268,
      "outputs": []
    },
    {
      "cell_type": "code",
      "metadata": {
        "id": "fsIp_g_f1pQf"
      },
      "source": [
        "S2A1_16= list()\n",
        "S2D3_1 = list()\n",
        "for i in range(S2HSV_imgA1D3_1.shape[0]): \n",
        "          for j in range(S2HSV_imgA1D3_1.shape[1]): \n",
        "                if 1770<i<1880 and 1700<j<1830 :\n",
        "                    S2A1_16.append(S2HSV_imgA1D3_1[i][j])\n",
        "                if 1770<i<1880 and 2015<j<2145 :\n",
        "                    S2D3_1.append(S2HSV_imgA1D3_1[i][j])   "
      ],
      "execution_count": 269,
      "outputs": []
    },
    {
      "cell_type": "code",
      "metadata": {
        "id": "XgdLikLO1pQg"
      },
      "source": [
        "S2A1_17= list()\n",
        "S2D4_1 = list()\n",
        "for i in range(S2HSV_imgA1D4_1.shape[0]): \n",
        "     for j in range(S2HSV_imgA1D4_1.shape[1]): \n",
        "                if 1770<i<1880 and 1700<j<1830 :\n",
        "                    S2A1_14.append(S2HSV_imgA1D4_1[i][j])\n",
        "                if 1770<i<1880 and 2015<j<2145 :\n",
        "                    S2D4_1.append(S2HSV_imgA1D4_1[i][j])"
      ],
      "execution_count": 270,
      "outputs": []
    },
    {
      "cell_type": "markdown",
      "metadata": {
        "id": "LdPw_q1gGkV2"
      },
      "source": [
        "##Set3"
      ]
    },
    {
      "cell_type": "markdown",
      "metadata": {
        "id": "c06Ib-B4_hdh"
      },
      "source": [
        "###RGB"
      ]
    },
    {
      "cell_type": "code",
      "metadata": {
        "id": "J40PJiI8GmS1"
      },
      "source": [
        "S3A1_1= list()\n",
        "S3A1_2 = list()\n",
        "for i in range(S3RGB_imgA1A1_1.shape[0]): \n",
        "     for j in range(S3RGB_imgA1A1_1.shape[1]): \n",
        "                if 1770<i<1880 and 1700<j<1830 :\n",
        "                    S3A1_1.append(S3RGB_imgA1A1_1[i][j])\n",
        "                if 1770<i<1880 and 2015<j<2145 :\n",
        "                    S3A1_2.append(S3RGB_imgA1A1_1[i][j])   "
      ],
      "execution_count": 271,
      "outputs": []
    },
    {
      "cell_type": "code",
      "metadata": {
        "id": "VxYPEX_4GmS1"
      },
      "source": [
        "S3A1_3= list()\n",
        "S3A2_1 = list()\n",
        "for i in range(S3RGB_imgA1A2_1.shape[0]): \n",
        "     for j in range(S3RGB_imgA1A2_1.shape[1]): \n",
        "                if 1770<i<1880 and 1700<j<1830 :\n",
        "                    S3A1_3.append(S3RGB_imgA1A2_1[i][j])\n",
        "                if 1770<i<1880 and 2015<j<2145 :\n",
        "                    S3A2_1.append(S3RGB_imgA1A2_1[i][j])   "
      ],
      "execution_count": 272,
      "outputs": []
    },
    {
      "cell_type": "code",
      "metadata": {
        "id": "BVNOg5-cGmS2"
      },
      "source": [
        "S3A1_4= list()\n",
        "S3A3_1 = list()\n",
        "for i in range(S3RGB_imgA1A3_1.shape[0]): \n",
        "     for j in range(S3RGB_imgA1A3_1.shape[1]): \n",
        "                if 1770<i<1880 and 1700<j<1830 :\n",
        "                    S3A1_4.append(S3RGB_imgA1A3_1[i][j])\n",
        "                if 1770<i<1880 and 2015<j<2145 :\n",
        "                    S3A3_1.append(S3RGB_imgA1A3_1[i][j])   "
      ],
      "execution_count": 273,
      "outputs": []
    },
    {
      "cell_type": "code",
      "metadata": {
        "id": "hgO-IINpGmS2"
      },
      "source": [
        "S3A1_5= list()\n",
        "S3A3_51 = list()\n",
        "for i in range(S3RGB_imgA1A3_51.shape[0]): \n",
        "     for j in range(S3RGB_imgA1A3_51.shape[1]): \n",
        "                if 1770<i<1880 and 1700<j<1830 :\n",
        "                    S3A1_5.append(S3RGB_imgA1A3_51[i][j])\n",
        "                if 1770<i<1880 and 2015<j<2145 :\n",
        "                    S3A3_51.append(S3RGB_imgA1A3_51[i][j])"
      ],
      "execution_count": 274,
      "outputs": []
    },
    {
      "cell_type": "code",
      "metadata": {
        "id": "mhPYG5aWGmS2"
      },
      "source": [
        "S3A1_6= list()\n",
        "S3A4_1 = list()\n",
        "for i in range(S3RGB_imgA1A4_1.shape[0]): \n",
        "     for j in range(S3RGB_imgA1A4_1.shape[1]): \n",
        "                if 1770<i<1880 and 1700<j<1830 :\n",
        "                    S3A1_6.append(S3RGB_imgA1A4_1[i][j])\n",
        "                if 1770<i<1880 and 2015<j<2145 :\n",
        "                    S3A4_1.append(S3RGB_imgA1A4_1[i][j])"
      ],
      "execution_count": 275,
      "outputs": []
    },
    {
      "cell_type": "code",
      "metadata": {
        "id": "fEdxgljaGmS2"
      },
      "source": [
        "S3A1_7= list()\n",
        "S3B1_1 = list()\n",
        "for i in range(S3RGB_imgA1B1_1.shape[0]): \n",
        "     for j in range(S3RGB_imgA1B1_1.shape[1]): \n",
        "                if 1770<i<1880 and 1700<j<1830 :\n",
        "                    S3A1_7.append(S3RGB_imgA1B1_1[i][j])\n",
        "                if 1770<i<1880 and 2015<j<2145 :\n",
        "                    S3B1_1.append(S3RGB_imgA1B1_1[i][j])"
      ],
      "execution_count": 276,
      "outputs": []
    },
    {
      "cell_type": "code",
      "metadata": {
        "id": "BjYP0W3yGmS4"
      },
      "source": [
        "S3A1_8= list()\n",
        "S3B2_1 = list()\n",
        "for i in range(S3RGB_imgA1B2_1.shape[0]): \n",
        "     for j in range(S3RGB_imgA1B2_1.shape[1]): \n",
        "                if 1770<i<1880 and 1700<j<1830 :\n",
        "                    S3A1_8.append(S3RGB_imgA1B2_1[i][j])\n",
        "                if 1770<i<1880 and 2015<j<2145 :\n",
        "                    S3B2_1.append(S3RGB_imgA1B2_1[i][j])"
      ],
      "execution_count": 277,
      "outputs": []
    },
    {
      "cell_type": "code",
      "metadata": {
        "id": "v-ifdKzfGmS4"
      },
      "source": [
        "S3A1_9= list()\n",
        "S3B3_1 = list()\n",
        "for i in range(S3RGB_imgA1B3_1.shape[0]): \n",
        "     for j in range(S3RGB_imgA1B3_1.shape[1]): \n",
        "                if 1770<i<1880 and 1700<j<1830 :\n",
        "                    S3A1_9.append(S3RGB_imgA1B3_1[i][j])\n",
        "                if 1770<i<1880 and 2015<j<2145 :\n",
        "                    S3B3_1.append(S3RGB_imgA1B3_1[i][j])"
      ],
      "execution_count": 278,
      "outputs": []
    },
    {
      "cell_type": "code",
      "metadata": {
        "id": "SIYhSOKUGmS4"
      },
      "source": [
        "S3A1_10= list()\n",
        "S3B4_1 = list()\n",
        "for i in range(S3RGB_imgA1B4_1.shape[0]): \n",
        "     for j in range(S3RGB_imgA1B4_1.shape[1]): \n",
        "                if 1770<i<1880 and 1700<j<1830 :\n",
        "                    S3A1_10.append(S3RGB_imgA1B4_1[i][j])\n",
        "                if 1770<i<1880 and 2015<j<2145 :\n",
        "                    S3B4_1.append(S3RGB_imgA1B4_1[i][j])"
      ],
      "execution_count": 279,
      "outputs": []
    },
    {
      "cell_type": "code",
      "metadata": {
        "id": "ApnX1-rXGmS4"
      },
      "source": [
        "S3A1_11= list()\n",
        "S3C1_2 = list()\n",
        "for i in range(S3RGB_imgA1C1_1.shape[0]): \n",
        "     for j in range(S3RGB_imgA1C1_1.shape[1]): \n",
        "                if 1770<i<1880 and 1700<j<1830 :\n",
        "                    S3A1_11.append(S3RGB_imgA1C1_1[i][j])\n",
        "                if 1770<i<1880 and 2015<j<2145 :\n",
        "                    S3C1_2.append(S3RGB_imgA1C1_1[i][j])   "
      ],
      "execution_count": 280,
      "outputs": []
    },
    {
      "cell_type": "code",
      "metadata": {
        "id": "eJ_c9MBkGmS4"
      },
      "source": [
        "S3A1_12= list()\n",
        "S3C2_1 = list()\n",
        "for i in range(S3RGB_imgA1C2_1.shape[0]): \n",
        "     for j in range(S3RGB_imgA1C2_1.shape[1]): \n",
        "                if 1770<i<1880 and 1700<j<1830 :\n",
        "                    S3A1_12.append(S3RGB_imgA1C2_1[i][j])\n",
        "                if 1770<i<1880 and 2015<j<2145 :\n",
        "                    S3C2_1.append(S3RGB_imgA1C2_1[i][j])   "
      ],
      "execution_count": 281,
      "outputs": []
    },
    {
      "cell_type": "code",
      "metadata": {
        "id": "_cOuV9_UGmS4"
      },
      "source": [
        "S3A1_13= list()\n",
        "S3C3_1 = list()\n",
        "for i in range(S3RGB_imgA1C3_1.shape[0]): \n",
        "     for j in range(S3RGB_imgA1C3_1.shape[1]): \n",
        "                if 1770<i<1880 and 1700<j<1830 :\n",
        "                    S3A1_13.append(S3RGB_imgA1C3_1[i][j])\n",
        "                if 1770<i<1880 and 2015<j<2145 :\n",
        "                    S3C3_1.append(S3RGB_imgA1C3_1[i][j])   "
      ],
      "execution_count": 282,
      "outputs": []
    },
    {
      "cell_type": "code",
      "metadata": {
        "id": "7kykr3x5GmS5"
      },
      "source": [
        "S3A1_14= list()\n",
        "S3C4_1 = list()\n",
        "for i in range(S3RGB_imgA1C4_1.shape[0]): \n",
        "     for j in range(S3RGB_imgA1C4_1.shape[1]): \n",
        "                if 1770<i<1880 and 1700<j<1830 :\n",
        "                    S3A1_14.append(S3RGB_imgA1C4_1[i][j])\n",
        "                if 1770<i<1880 and 2015<j<2145 :\n",
        "                    S3C4_1.append(S3RGB_imgA1C4_1[i][j])"
      ],
      "execution_count": 283,
      "outputs": []
    },
    {
      "cell_type": "code",
      "metadata": {
        "id": "WPHrRVBUGmS5"
      },
      "source": [
        "S3A1_15= list()\n",
        "S3D2_1 = list()\n",
        "for i in range(S3RGB_imgA1D2_1.shape[0]): \n",
        "     for j in range(S3RGB_imgA1D2_1.shape[1]): \n",
        "                if 1770<i<1880 and 1700<j<1830 :\n",
        "                    S3A1_15.append(S3RGB_imgA1D2_1[i][j])\n",
        "                if 1770<i<1880 and 2015<j<2145 :\n",
        "                    S3D2_1.append(S3RGB_imgA1D2_1[i][j])   "
      ],
      "execution_count": 284,
      "outputs": []
    },
    {
      "cell_type": "code",
      "metadata": {
        "id": "isJEjHrRGmS5"
      },
      "source": [
        "S3A1_16= list()\n",
        "S3D3_1 = list()\n",
        "for i in range(S3RGB_imgA1D3_1.shape[0]): \n",
        "     for j in range(S3RGB_imgA1D3_1.shape[1]): \n",
        "                if 1770<i<1880 and 1700<j<1830 :\n",
        "                    S3A1_16.append(S3RGB_imgA1D3_1[i][j])\n",
        "                if 1770<i<1880 and 2015<j<2145 :\n",
        "                    S3D3_1.append(S3RGB_imgA1D3_1[i][j])   "
      ],
      "execution_count": 285,
      "outputs": []
    },
    {
      "cell_type": "code",
      "metadata": {
        "id": "ps2NBDnOGmS5"
      },
      "source": [
        "S3A1_17= list()\n",
        "S3D4_1 = list()\n",
        "for i in range(S3RGB_imgA1D4_1.shape[0]): \n",
        "     for j in range(S3RGB_imgA1D4_1.shape[1]): \n",
        "                if 1770<i<1880 and 1700<j<1830 :\n",
        "                    S3A1_17.append(S3RGB_imgA1D4_1[i][j])\n",
        "                if 1770<i<1880 and 2015<j<2145 :\n",
        "                    S3D4_1.append(S3RGB_imgA1D4_1[i][j])"
      ],
      "execution_count": 286,
      "outputs": []
    },
    {
      "cell_type": "markdown",
      "metadata": {
        "id": "kNOTENEk_xhP"
      },
      "source": [
        "###HSV"
      ]
    },
    {
      "cell_type": "code",
      "metadata": {
        "id": "Ulvlwpu-ABAs"
      },
      "source": [
        "S3A1_1= list()\n",
        "S3A1_2 = list()\n",
        "for i in range(S3HSV_imgA1A1_1.shape[0]): \n",
        "     for j in range(S3HSV_imgA1A1_1.shape[1]): \n",
        "                if 1770<i<1880 and 1700<j<1830 :\n",
        "                    S3A1_1.append(S3HSV_imgA1A1_1[i][j])\n",
        "                if 1770<i<1880 and 2015<j<2145 :\n",
        "                    S3A1_2.append(S3HSV_imgA1A1_1[i][j])   "
      ],
      "execution_count": 287,
      "outputs": []
    },
    {
      "cell_type": "code",
      "metadata": {
        "id": "DAd6RmLwABAs"
      },
      "source": [
        "S3A1_3= list()\n",
        "S3A2_1 = list()\n",
        "for i in range(S3HSV_imgA1A2_1.shape[0]): \n",
        "     for j in range(S3HSV_imgA1A2_1.shape[1]): \n",
        "                if 1770<i<1880 and 1700<j<1830 :\n",
        "                    S3A1_3.append(S3HSV_imgA1A2_1[i][j])\n",
        "                if 1770<i<1880 and 2015<j<2145 :\n",
        "                    S3A2_1.append(S3HSV_imgA1A2_1[i][j])   "
      ],
      "execution_count": 288,
      "outputs": []
    },
    {
      "cell_type": "code",
      "metadata": {
        "id": "QFNdkW2MABAt"
      },
      "source": [
        "S3A1_4= list()\n",
        "S3A3_1 = list()\n",
        "for i in range(S3HSV_imgA1A3_1.shape[0]): \n",
        "     for j in range(S3HSV_imgA1A3_1.shape[1]): \n",
        "                if 1770<i<1880 and 1700<j<1830 :\n",
        "                    S3A1_4.append(S3HSV_imgA1A3_1[i][j])\n",
        "                if 1770<i<1880 and 2015<j<2145 :\n",
        "                    S3A3_1.append(S3HSV_imgA1A3_1[i][j])   "
      ],
      "execution_count": 289,
      "outputs": []
    },
    {
      "cell_type": "code",
      "metadata": {
        "id": "oQDmKlIVABAt"
      },
      "source": [
        "S3A1_5= list()\n",
        "S3A3_51 = list()\n",
        "for i in range(S3HSV_imgA1A3_51.shape[0]): \n",
        "     for j in range(S3HSV_imgA1A3_51.shape[1]): \n",
        "                if 1770<i<1880 and 1700<j<1830 :\n",
        "                    S3A1_5.append(S3HSV_imgA1A3_51[i][j])\n",
        "                if 1770<i<1880 and 2015<j<2145 :\n",
        "                    S3A3_51.append(S3HSV_imgA1A3_51[i][j])"
      ],
      "execution_count": 290,
      "outputs": []
    },
    {
      "cell_type": "code",
      "metadata": {
        "id": "SDQMWSr0ABAt"
      },
      "source": [
        "S3A1_6= list()\n",
        "S3A4_1 = list()\n",
        "for i in range(S3HSV_imgA1A4_1.shape[0]): \n",
        "     for j in range(S3HSV_imgA1A4_1.shape[1]): \n",
        "                if 1770<i<1880 and 1700<j<1830 :\n",
        "                    S3A1_6.append(S3HSV_imgA1A4_1[i][j])\n",
        "                if 1770<i<1880 and 2015<j<2145 :\n",
        "                    S3A4_1.append(S3HSV_imgA1A4_1[i][j])"
      ],
      "execution_count": 291,
      "outputs": []
    },
    {
      "cell_type": "code",
      "metadata": {
        "id": "1Z-5IwsOABAu"
      },
      "source": [
        "S3A1_7= list()\n",
        "S3B1_1 = list()\n",
        "for i in range(S3HSV_imgA1B1_1.shape[0]): \n",
        "     for j in range(S3HSV_imgA1B1_1.shape[1]): \n",
        "                if 1770<i<1880 and 1700<j<1830 :\n",
        "                    S3A1_7.append(S3HSV_imgA1B1_1[i][j])\n",
        "                if 1770<i<1880 and 2015<j<2145 :\n",
        "                    S3B1_1.append(S3HSV_imgA1B1_1[i][j])"
      ],
      "execution_count": 292,
      "outputs": []
    },
    {
      "cell_type": "code",
      "metadata": {
        "id": "I2ZX8vzmABAu"
      },
      "source": [
        "S3A1_8= list()\n",
        "S3B2_1 = list()\n",
        "for i in range(S3HSV_imgA1B2_1.shape[0]): \n",
        "     for j in range(S3HSV_imgA1B2_1.shape[1]): \n",
        "                if 1770<i<1880 and 1700<j<1830 :\n",
        "                    S3A1_8.append(S3HSV_imgA1B2_1[i][j])\n",
        "                if 1770<i<1880 and 2015<j<2145 :\n",
        "                    S3B2_1.append(S3HSV_imgA1B2_1[i][j])"
      ],
      "execution_count": 293,
      "outputs": []
    },
    {
      "cell_type": "code",
      "metadata": {
        "id": "bjkhIe6jABAv"
      },
      "source": [
        "S3A1_9= list()\n",
        "S3B3_1 = list()\n",
        "for i in range(S3HSV_imgA1B3_1.shape[0]): \n",
        "     for j in range(S3HSV_imgA1B3_1.shape[1]): \n",
        "                if 1770<i<1880 and 1700<j<1830 :\n",
        "                    S3A1_9.append(S3HSV_imgA1B3_1[i][j])\n",
        "                if 1770<i<1880 and 2015<j<2145 :\n",
        "                    S3B3_1.append(S3HSV_imgA1B3_1[i][j])"
      ],
      "execution_count": 294,
      "outputs": []
    },
    {
      "cell_type": "code",
      "metadata": {
        "id": "7b0qdZF3ABAv"
      },
      "source": [
        "S3A1_10= list()\n",
        "S3B4_1 = list()\n",
        "for i in range(S3HSV_imgA1B4_1.shape[0]): \n",
        "     for j in range(S3HSV_imgA1B4_1.shape[1]): \n",
        "                if 1770<i<1880 and 1700<j<1830 :\n",
        "                    S3A1_10.append(S3HSV_imgA1B4_1[i][j])\n",
        "                if 1770<i<1880 and 2015<j<2145 :\n",
        "                    S3B4_1.append(S3HSV_imgA1B4_1[i][j])"
      ],
      "execution_count": 295,
      "outputs": []
    },
    {
      "cell_type": "code",
      "metadata": {
        "id": "SXtXUwViABAv"
      },
      "source": [
        "S3A1_11= list()\n",
        "S3C1_2 = list()\n",
        "for i in range(S3HSV_imgA1C1_1.shape[0]): \n",
        "     for j in range(S3HSV_imgA1C1_1.shape[1]): \n",
        "                if 1770<i<1880 and 1700<j<1830 :\n",
        "                    S3A1_11.append(S3HSV_imgA1C1_1[i][j])\n",
        "                if 1770<i<1880 and 2015<j<2145 :\n",
        "                    S3C1_2.append(S3HSV_imgA1C1_1[i][j])   "
      ],
      "execution_count": 296,
      "outputs": []
    },
    {
      "cell_type": "code",
      "metadata": {
        "id": "UwwJ83K-ABAw"
      },
      "source": [
        "S3A1_12= list()\n",
        "S3C2_1 = list()\n",
        "for i in range(S3HSV_imgA1C2_1.shape[0]): \n",
        "     for j in range(S3HSV_imgA1C2_1.shape[1]): \n",
        "                if 1770<i<1880 and 1700<j<1830 :\n",
        "                    S3A1_12.append(S3HSV_imgA1C2_1[i][j])\n",
        "                if 1770<i<1880 and 2015<j<2145 :\n",
        "                    S3C2_1.append(S3HSV_imgA1C2_1[i][j])   "
      ],
      "execution_count": 297,
      "outputs": []
    },
    {
      "cell_type": "code",
      "metadata": {
        "id": "oTAqjGKGABAw"
      },
      "source": [
        "S3A1_13= list()\n",
        "S3C3_1 = list()\n",
        "for i in range(S3HSV_imgA1C3_1.shape[0]): \n",
        "     for j in range(S3HSV_imgA1C3_1.shape[1]): \n",
        "                if 1770<i<1880 and 1700<j<1830 :\n",
        "                    S3A1_13.append(S3HSV_imgA1C3_1[i][j])\n",
        "                if 1770<i<1880 and 2015<j<2145 :\n",
        "                    S3C3_1.append(S3HSV_imgA1C3_1[i][j])   "
      ],
      "execution_count": 298,
      "outputs": []
    },
    {
      "cell_type": "code",
      "metadata": {
        "id": "IK_xgjpqABAw"
      },
      "source": [
        "S3A1_14= list()\n",
        "S3C4_1 = list()\n",
        "for i in range(S3HSV_imgA1C4_1.shape[0]): \n",
        "     for j in range(S3HSV_imgA1C4_1.shape[1]): \n",
        "                if 1770<i<1880 and 1700<j<1830 :\n",
        "                    S3A1_14.append(S3HSV_imgA1C4_1[i][j])\n",
        "                if 1770<i<1880 and 2015<j<2145 :\n",
        "                    S3C4_1.append(S3HSV_imgA1C4_1[i][j])"
      ],
      "execution_count": 299,
      "outputs": []
    },
    {
      "cell_type": "code",
      "metadata": {
        "id": "o771e07gABAx"
      },
      "source": [
        "S3A1_15= list()\n",
        "S3D2_1 = list()\n",
        "for i in range(S3HSV_imgA1D2_1.shape[0]): \n",
        "     for j in range(S3HSV_imgA1D2_1.shape[1]): \n",
        "                if 1770<i<1880 and 1700<j<1830 :\n",
        "                    S3A1_15.append(S3HSV_imgA1D2_1[i][j])\n",
        "                if 1770<i<1880 and 2015<j<2145 :\n",
        "                    S3D2_1.append(S3HSV_imgA1D2_1[i][j])   "
      ],
      "execution_count": 300,
      "outputs": []
    },
    {
      "cell_type": "code",
      "metadata": {
        "id": "4OHLTXRhABAx"
      },
      "source": [
        "S3A1_16= list()\n",
        "S3D3_1 = list()\n",
        "for i in range(S3HSV_imgA1D3_1.shape[0]): \n",
        "     for j in range(S3HSV_imgA1D3_1.shape[1]): \n",
        "                if 1770<i<1880 and 1700<j<1830 :\n",
        "                    S3A1_16.append(S3HSV_imgA1D3_1[i][j])\n",
        "                if 1770<i<1880 and 2015<j<2145 :\n",
        "                    S3D3_1.append(S3HSV_imgA1D3_1[i][j])   "
      ],
      "execution_count": 301,
      "outputs": []
    },
    {
      "cell_type": "code",
      "metadata": {
        "id": "LqJ__MlDABAx"
      },
      "source": [
        "S3A1_17= list()\n",
        "S3D4_1 = list()\n",
        "for i in range(S3HSV_imgA1D4_1.shape[0]): \n",
        "     for j in range(S3HSV_imgA1D4_1.shape[1]): \n",
        "                if 1770<i<1880 and 1700<j<1830 :\n",
        "                    S3A1_17.append(S3HSV_imgA1D4_1[i][j])\n",
        "                if 1770<i<1880 and 2015<j<2145 :\n",
        "                    S3D4_1.append(S3HSV_imgA1D4_1[i][j])"
      ],
      "execution_count": 302,
      "outputs": []
    },
    {
      "cell_type": "markdown",
      "metadata": {
        "id": "sjUneh4RHb0T"
      },
      "source": [
        "\n",
        "##Set4"
      ]
    },
    {
      "cell_type": "markdown",
      "metadata": {
        "id": "QqYczmnFIqgb"
      },
      "source": [
        "###RGB"
      ]
    },
    {
      "cell_type": "code",
      "metadata": {
        "id": "Q2cfVpmuHf4m"
      },
      "source": [
        "S4A1_1= list()\n",
        "S4A1_2 = list()\n",
        "for i in range(S4RGB_imgA1A1_1.shape[0]): \n",
        "     for j in range(S4RGB_imgA1A1_1.shape[1]): \n",
        "                if 1770<i<1880 and 1700<j<1830 :\n",
        "                    S4A1_1.append(S4RGB_imgA1A1_1[i][j])\n",
        "                if 1770<i<1880 and 2015<j<2145 :\n",
        "                    S4A1_2.append(S4RGB_imgA1A1_1[i][j])   "
      ],
      "execution_count": 303,
      "outputs": []
    },
    {
      "cell_type": "code",
      "metadata": {
        "id": "Xz63JWZhHf4m"
      },
      "source": [
        "S4A1_3= list()\n",
        "S4A2_1 = list()\n",
        "for i in range(S4RGB_imgA1A2_1.shape[0]): \n",
        "     for j in range(S4RGB_imgA1A2_1.shape[1]): \n",
        "                if 1770<i<1880 and 1700<j<1830 :\n",
        "                    S4A1_3.append(S4RGB_imgA1A2_1[i][j])\n",
        "                if 1770<i<1880 and 2015<j<2145 :\n",
        "                    S4A2_1.append(S4RGB_imgA1A2_1[i][j])   "
      ],
      "execution_count": 304,
      "outputs": []
    },
    {
      "cell_type": "code",
      "metadata": {
        "id": "m0x_EYErHf4m"
      },
      "source": [
        "S4A1_4= list()\n",
        "S4A3_1 = list()\n",
        "for i in range(S4RGB_imgA1A3_1.shape[0]): \n",
        "     for j in range(S4RGB_imgA1A3_1.shape[1]): \n",
        "                if 1770<i<1880 and 1700<j<1830 :\n",
        "                    S4A1_4.append(S4RGB_imgA1A3_1[i][j])\n",
        "                if 1770<i<1880 and 2015<j<2145 :\n",
        "                    S4A3_1.append(S4RGB_imgA1A3_1[i][j])   "
      ],
      "execution_count": 305,
      "outputs": []
    },
    {
      "cell_type": "code",
      "metadata": {
        "id": "2fkBODCxHf4n"
      },
      "source": [
        "S4A1_5= list()\n",
        "S4A3_51 = list()\n",
        "for i in range(S4RGB_imgA1A3_51.shape[0]): \n",
        "     for j in range(S4RGB_imgA1A3_51.shape[1]): \n",
        "                if 1770<i<1880 and 1700<j<1830 :\n",
        "                    S4A1_5.append(S4RGB_imgA1A3_51[i][j])\n",
        "                if 1770<i<1880 and 2015<j<2145 :\n",
        "                    S4A3_51.append(S4RGB_imgA1A3_51[i][j])"
      ],
      "execution_count": 306,
      "outputs": []
    },
    {
      "cell_type": "code",
      "metadata": {
        "id": "2mpRtq-_Hf4n"
      },
      "source": [
        "S4A1_6= list()\n",
        "S4A4_1 = list()\n",
        "for i in range(S4RGB_imgA1A4_1.shape[0]): \n",
        "     for j in range(S4RGB_imgA1A4_1.shape[1]): \n",
        "                if 1770<i<1880 and 1700<j<1830 :\n",
        "                    S4A1_6.append(S4RGB_imgA1A4_1[i][j])\n",
        "                if 1770<i<1880 and 2015<j<2145 :\n",
        "                    S4A4_1.append(S4RGB_imgA1A4_1[i][j])"
      ],
      "execution_count": 307,
      "outputs": []
    },
    {
      "cell_type": "code",
      "metadata": {
        "id": "RA15r3vmHf4n"
      },
      "source": [
        "S4A1_7= list()\n",
        "S4B1_1 = list()\n",
        "for i in range(S4RGB_imgA1B1_1.shape[0]): \n",
        "     for j in range(S4RGB_imgA1B1_1.shape[1]): \n",
        "                if 1770<i<1880 and 1700<j<1830 :\n",
        "                    S4A1_7.append(S4RGB_imgA1B1_1[i][j])\n",
        "                if 1770<i<1880 and 2015<j<2145 :\n",
        "                    S4B1_1.append(S4RGB_imgA1B1_1[i][j])"
      ],
      "execution_count": 308,
      "outputs": []
    },
    {
      "cell_type": "code",
      "metadata": {
        "id": "iXmvLR4YHf4n"
      },
      "source": [
        "S4A1_8= list()\n",
        "S4B2_1 = list()\n",
        "for i in range(S4RGB_imgA1B2_1.shape[0]): \n",
        "     for j in range(S4RGB_imgA1B2_1.shape[1]): \n",
        "                if 1770<i<1880 and 1700<j<1830 :\n",
        "                    S4A1_8.append(S4RGB_imgA1B2_1[i][j])\n",
        "                if 1770<i<1880 and 2015<j<2145 :\n",
        "                    S4B2_1.append(S4RGB_imgA1B2_1[i][j])"
      ],
      "execution_count": 309,
      "outputs": []
    },
    {
      "cell_type": "code",
      "metadata": {
        "id": "Z3J6vrv5Hf4n"
      },
      "source": [
        "S4A1_9= list()\n",
        "S4B3_1 = list()\n",
        "for i in range(S4RGB_imgA1B3_1.shape[0]): \n",
        "     for j in range(S4RGB_imgA1B3_1.shape[1]): \n",
        "                if 1770<i<1880 and 1700<j<1830 :\n",
        "                    S4A1_9.append(S4RGB_imgA1B3_1[i][j])\n",
        "                if 1770<i<1880 and 2015<j<2145 :\n",
        "                    S4B3_1.append(S4RGB_imgA1B3_1[i][j])"
      ],
      "execution_count": 310,
      "outputs": []
    },
    {
      "cell_type": "code",
      "metadata": {
        "id": "mSdkq8vhHf4n"
      },
      "source": [
        "S4A1_10= list()\n",
        "S4B4_1 = list()\n",
        "for i in range(S4RGB_imgA1B4_1.shape[0]): \n",
        "     for j in range(S4RGB_imgA1B4_1.shape[1]): \n",
        "                if 1770<i<1880 and 1700<j<1830 :\n",
        "                    S4A1_10.append(S4RGB_imgA1B4_1[i][j])\n",
        "                if 1770<i<1880 and 2015<j<2145 :\n",
        "                    S4B4_1.append(S4RGB_imgA1B4_1[i][j])"
      ],
      "execution_count": 311,
      "outputs": []
    },
    {
      "cell_type": "code",
      "metadata": {
        "id": "-SK3SZSKHf4n"
      },
      "source": [
        "S4A1_11= list()\n",
        "S4C1_1 = list()\n",
        "for i in range(S4RGB_imgA1C1_1.shape[0]): \n",
        "     for j in range(S4RGB_imgA1C1_1.shape[1]): \n",
        "                if 1770<i<1880 and 1700<j<1830 :\n",
        "                    S4A1_11.append(S4RGB_imgA1C1_1[i][j])\n",
        "                if 1770<i<1880 and 2015<j<2145 :\n",
        "                    S4C1_1.append(S4RGB_imgA1C1_1[i][j])   "
      ],
      "execution_count": 312,
      "outputs": []
    },
    {
      "cell_type": "code",
      "metadata": {
        "id": "DwlieHawHf4n"
      },
      "source": [
        "S4A1_12= list()\n",
        "S4C2_1 = list()\n",
        "for i in range(S4RGB_imgA1C2_1.shape[0]): \n",
        "     for j in range(S4RGB_imgA1C2_1.shape[1]): \n",
        "                if 1770<i<1880 and 1700<j<1830 :\n",
        "                    S4A1_12.append(S4RGB_imgA1C2_1[i][j])\n",
        "                if 1770<i<1880 and 2015<j<2145 :\n",
        "                    S4C2_1.append(S4RGB_imgA1C2_1[i][j])   "
      ],
      "execution_count": 313,
      "outputs": []
    },
    {
      "cell_type": "code",
      "metadata": {
        "id": "U02tWxMMHf4o"
      },
      "source": [
        "S4A1_13= list()\n",
        "S4C3_1 = list()\n",
        "for i in range(S4RGB_imgA1C3_1.shape[0]): \n",
        "     for j in range(S4RGB_imgA1C3_1.shape[1]): \n",
        "                if 1770<i<1880 and 1700<j<1830 :\n",
        "                    S4A1_13.append(S4RGB_imgA1C3_1[i][j])\n",
        "                if 1770<i<1880 and 2015<j<2145 :\n",
        "                    S4C3_1.append(S4RGB_imgA1C3_1[i][j])   "
      ],
      "execution_count": 314,
      "outputs": []
    },
    {
      "cell_type": "code",
      "metadata": {
        "id": "pfOn-jLeHf4o"
      },
      "source": [
        "S4A1_14= list()\n",
        "S4C4_1 = list()\n",
        "for i in range(S4RGB_imgA1C4_1.shape[0]): \n",
        "     for j in range(S4RGB_imgA1C4_1.shape[1]): \n",
        "                if 1770<i<1880 and 1700<j<1830 :\n",
        "                    S4A1_14.append(S4RGB_imgA1C4_1[i][j])\n",
        "                if 1770<i<1880 and 2015<j<2145 :\n",
        "                    S4C4_1.append(S4RGB_imgA1C4_1[i][j])"
      ],
      "execution_count": 315,
      "outputs": []
    },
    {
      "cell_type": "code",
      "metadata": {
        "id": "AbnmV2_kHf4o"
      },
      "source": [
        "S4A1_15= list()\n",
        "S4D2_1 = list()\n",
        "for i in range(S4RGB_imgA1C2_1.shape[0]): \n",
        "     for j in range(S4RGB_imgA1D2_1.shape[1]): \n",
        "                if 1770<i<1880 and 1700<j<1830 :\n",
        "                    S4A1_15.append(S4RGB_imgA1D2_1[i][j])\n",
        "                if 1770<i<1880 and 2015<j<2145 :\n",
        "                    S4D2_1.append(S4RGB_imgA1D2_1[i][j])   "
      ],
      "execution_count": 316,
      "outputs": []
    },
    {
      "cell_type": "code",
      "metadata": {
        "id": "iDlwebCJHf4o"
      },
      "source": [
        "S4A1_16= list()\n",
        "S4D3_1 = list()\n",
        "for i in range(S4RGB_imgA1D3_1.shape[0]): \n",
        "     for j in range(S4RGB_imgA1D3_1.shape[1]): \n",
        "                if 1770<i<1880 and 1700<j<1830 :\n",
        "                    S4A1_16.append(S4RGB_imgA1D3_1[i][j])\n",
        "                if 1770<i<1880 and 2015<j<2145 :\n",
        "                    S4D3_1.append(S4RGB_imgA1D3_1[i][j])   "
      ],
      "execution_count": 317,
      "outputs": []
    },
    {
      "cell_type": "code",
      "metadata": {
        "id": "_tnuzvwuHf4o"
      },
      "source": [
        "S4A1_17= list()\n",
        "S4D4_1 = list()\n",
        "for i in range(S4RGB_imgA1D4_1.shape[0]): \n",
        "     for j in range(S4RGB_imgA1D4_1.shape[1]): \n",
        "                if 1770<i<1880 and 1700<j<1830 :\n",
        "                    S4A1_17.append(S4RGB_imgA1D4_1[i][j])\n",
        "                if 1770<i<1880 and 2015<j<2145 :\n",
        "                    S4D4_1.append(S4RGB_imgA1D4_1[i][j])"
      ],
      "execution_count": 318,
      "outputs": []
    },
    {
      "cell_type": "markdown",
      "metadata": {
        "id": "q0jR50JbIuL6"
      },
      "source": [
        "###HSV"
      ]
    },
    {
      "cell_type": "code",
      "metadata": {
        "id": "4uy8q9MWI1u_"
      },
      "source": [
        "S4A1_1= list()\n",
        "S4A1_2 = list()\n",
        "for i in range(S4HSV_imgA1A1_1.shape[0]): \n",
        "     for j in range(S4HSV_imgA1A1_1.shape[1]): \n",
        "                if 1770<i<1880 and 1700<j<1830 :\n",
        "                    S4A1_1.append(S4HSV_imgA1A1_1[i][j])\n",
        "                if 1770<i<1880 and 2015<j<2145 :\n",
        "                    S4A1_2.append(S4HSV_imgA1A1_1[i][j])   "
      ],
      "execution_count": 319,
      "outputs": []
    },
    {
      "cell_type": "code",
      "metadata": {
        "id": "MPWIFjZ6I1u_"
      },
      "source": [
        "S4A1_3= list()\n",
        "S4A2_1 = list()\n",
        "for i in range(S4HSV_imgA1A2_1.shape[0]): \n",
        "     for j in range(S4HSV_imgA1A2_1.shape[1]): \n",
        "                if 1770<i<1880 and 1700<j<1830 :\n",
        "                    S4A1_3.append(S4HSV_imgA1A2_1[i][j])\n",
        "                if 1770<i<1880 and 2015<j<2145 :\n",
        "                    S4A2_1.append(S4HSV_imgA1A2_1[i][j])   "
      ],
      "execution_count": 320,
      "outputs": []
    },
    {
      "cell_type": "code",
      "metadata": {
        "id": "FcUqJt2MI1u_"
      },
      "source": [
        "S4A1_4= list()\n",
        "S4A3_1 = list()\n",
        "for i in range(S4HSV_imgA1A3_1.shape[0]): \n",
        "     for j in range(S4HSV_imgA1A3_1.shape[1]): \n",
        "                if 1770<i<1880 and 1700<j<1830 :\n",
        "                    S4A1_4.append(S4HSV_imgA1A3_1[i][j])\n",
        "                if 1770<i<1880 and 2015<j<2145 :\n",
        "                    S4A3_1.append(S4HSV_imgA1A3_1[i][j])   "
      ],
      "execution_count": 321,
      "outputs": []
    },
    {
      "cell_type": "code",
      "metadata": {
        "id": "zT0Qr1JPI1u_"
      },
      "source": [
        "S4A1_5= list()\n",
        "S4A3_51 = list()\n",
        "for i in range(S4RGB_imgA1A3_51.shape[0]): \n",
        "     for j in range(S4RGB_imgA1A3_51.shape[1]): \n",
        "                if 1770<i<1880 and 1700<j<1830 :\n",
        "                    S4A1_5.append(S4RGB_imgA1A3_51[i][j])\n",
        "                if 1770<i<1880 and 2015<j<2145 :\n",
        "                    S4A3_51.append(S4RGB_imgA1A3_51[i][j])"
      ],
      "execution_count": 322,
      "outputs": []
    },
    {
      "cell_type": "code",
      "metadata": {
        "id": "J3vDN6EwI1vA"
      },
      "source": [
        "S4A1_6= list()\n",
        "S4A4_1 = list()\n",
        "for i in range(S4HSV_imgA1A4_1.shape[0]): \n",
        "     for j in range(S4HSV_imgA1A4_1.shape[1]): \n",
        "                if 1770<i<1880 and 1700<j<1830 :\n",
        "                    S4A1_6.append(S4HSV_imgA1A4_1[i][j])\n",
        "                if 1770<i<1880 and 2015<j<2145 :\n",
        "                    S4A4_1.append(S4HSV_imgA1A4_1[i][j])"
      ],
      "execution_count": 323,
      "outputs": []
    },
    {
      "cell_type": "code",
      "metadata": {
        "id": "R4slu2aII1vA"
      },
      "source": [
        "S4A1_7= list()\n",
        "S4B1_1 = list()\n",
        "for i in range(S4HSV_imgA1B1_1.shape[0]): \n",
        "     for j in range(S4HSV_imgA1B1_1.shape[1]): \n",
        "                if 1770<i<1880 and 1700<j<1830 :\n",
        "                    S4A1_7.append(S4HSV_imgA1B1_1[i][j])\n",
        "                if 1770<i<1880 and 2015<j<2145 :\n",
        "                    S4B1_1.append(S4HSV_imgA1B1_1[i][j])"
      ],
      "execution_count": 324,
      "outputs": []
    },
    {
      "cell_type": "code",
      "metadata": {
        "id": "pQsS08lUI1vA"
      },
      "source": [
        "S4A1_8= list()\n",
        "S4B2_1 = list()\n",
        "for i in range(S4HSV_imgA1B2_1.shape[0]): \n",
        "     for j in range(S4HSV_imgA1B2_1.shape[1]): \n",
        "                if 1770<i<1880 and 1700<j<1830 :\n",
        "                    S4A1_8.append(S4HSV_imgA1B2_1[i][j])\n",
        "                if 1770<i<1880 and 2015<j<2145 :\n",
        "                    S4B2_1.append(S4HSV_imgA1B2_1[i][j])"
      ],
      "execution_count": 325,
      "outputs": []
    },
    {
      "cell_type": "code",
      "metadata": {
        "id": "D-m24sUJI1vA"
      },
      "source": [
        "S4A1_9= list()\n",
        "S4B3_1 = list()\n",
        "for i in range(S4HSV_imgA1B3_1.shape[0]): \n",
        "     for j in range(S4HSV_imgA1B3_1.shape[1]): \n",
        "                if 1770<i<1880 and 1700<j<1830 :\n",
        "                    S4A1_9.append(S4HSV_imgA1B3_1[i][j])\n",
        "                if 1770<i<1880 and 2015<j<2145 :\n",
        "                    S4B3_1.append(S4HSV_imgA1B3_1[i][j])"
      ],
      "execution_count": 326,
      "outputs": []
    },
    {
      "cell_type": "code",
      "metadata": {
        "id": "lec05Gg-I1vB"
      },
      "source": [
        "S4A1_10= list()\n",
        "S4B4_1 = list()\n",
        "for i in range(S4HSV_imgA1B4_1.shape[0]): \n",
        "     for j in range(S4HSV_imgA1B4_1.shape[1]): \n",
        "                if 1770<i<1880 and 1700<j<1830 :\n",
        "                    S4A1_10.append(S4HSV_imgA1B4_1[i][j])\n",
        "                if 1770<i<1880 and 2015<j<2145 :\n",
        "                    S4B4_1.append(S4HSV_imgA1B4_1[i][j])"
      ],
      "execution_count": 327,
      "outputs": []
    },
    {
      "cell_type": "code",
      "metadata": {
        "id": "KupTB_eLI1vB"
      },
      "source": [
        "S4A1_11= list()\n",
        "S4C1_1 = list()\n",
        "for i in range(S4HSV_imgA1C1_1.shape[0]): \n",
        "     for j in range(S4HSV_imgA1C1_1.shape[1]): \n",
        "                if 1770<i<1880 and 1700<j<1830 :\n",
        "                    S4A1_11.append(S4HSV_imgA1C1_1[i][j])\n",
        "                if 1770<i<1880 and 2015<j<2145 :\n",
        "                    S4C1_1.append(S4HSV_imgA1C1_1[i][j])   "
      ],
      "execution_count": 328,
      "outputs": []
    },
    {
      "cell_type": "code",
      "metadata": {
        "id": "7OjCZ14YI1vB"
      },
      "source": [
        "S4A1_12= list()\n",
        "S4C2_1 = list()\n",
        "for i in range(S4HSV_imgA1C2_1.shape[0]): \n",
        "     for j in range(S4HSV_imgA1C2_1.shape[1]): \n",
        "                if 1770<i<1880 and 1700<j<1830 :\n",
        "                    S4A1_12.append(S4HSV_imgA1C2_1[i][j])\n",
        "                if 1770<i<1880 and 2015<j<2145 :\n",
        "                    S4C2_1.append(S4HSV_imgA1C2_1[i][j])   "
      ],
      "execution_count": 329,
      "outputs": []
    },
    {
      "cell_type": "code",
      "metadata": {
        "id": "D_n3ALo6I1vB"
      },
      "source": [
        "S4A1_13= list()\n",
        "S4C3_1 = list()\n",
        "for i in range(S4HSV_imgA1C3_1.shape[0]): \n",
        "     for j in range(S4HSV_imgA1C3_1.shape[1]): \n",
        "                if 1770<i<1880 and 1700<j<1830 :\n",
        "                    S4A1_13.append(S4HSV_imgA1C3_1[i][j])\n",
        "                if 1770<i<1880 and 2015<j<2145 :\n",
        "                    S4C3_1.append(S4HSV_imgA1C3_1[i][j])   "
      ],
      "execution_count": 330,
      "outputs": []
    },
    {
      "cell_type": "code",
      "metadata": {
        "id": "TD6tGC45I1vB"
      },
      "source": [
        "S4A1_14= list()\n",
        "S4C4_1 = list()\n",
        "for i in range(S4HSV_imgA1C4_1.shape[0]): \n",
        "     for j in range(S4HSV_imgA1C4_1.shape[1]): \n",
        "                if 1770<i<1880 and 1700<j<1830 :\n",
        "                    S4A1_14.append(S4HSV_imgA1C4_1[i][j])\n",
        "                if 1770<i<1880 and 2015<j<2145 :\n",
        "                    S4C4_1.append(S4HSV_imgA1C4_1[i][j])"
      ],
      "execution_count": 331,
      "outputs": []
    },
    {
      "cell_type": "code",
      "metadata": {
        "id": "URasAEKiI1vC"
      },
      "source": [
        "S4A1_15= list()\n",
        "S4D2_1 = list()\n",
        "for i in range(S4HSV_imgA1C2_1.shape[0]): \n",
        "     for j in range(S4HSV_imgA1D2_1.shape[1]): \n",
        "                if 1770<i<1880 and 1700<j<1830 :\n",
        "                    S4A1_15.append(S4HSV_imgA1D2_1[i][j])\n",
        "                if 1770<i<1880 and 2015<j<2145 :\n",
        "                    S4D2_1.append(S4HSV_imgA1D2_1[i][j])   "
      ],
      "execution_count": 332,
      "outputs": []
    },
    {
      "cell_type": "code",
      "metadata": {
        "id": "WXJUI3CWI1vC"
      },
      "source": [
        "S4A1_16= list()\n",
        "S4D3_1 = list()\n",
        "for i in range(S4HSV_imgA1D3_1.shape[0]): \n",
        "     for j in range(S4HSV_imgA1D3_1.shape[1]): \n",
        "                if 1770<i<1880 and 1700<j<1830 :\n",
        "                    S4A1_16.append(S4HSV_imgA1D3_1[i][j])\n",
        "                if 1770<i<1880 and 2015<j<2145 :\n",
        "                    S4D3_1.append(S4HSV_imgA1D3_1[i][j])   "
      ],
      "execution_count": 333,
      "outputs": []
    },
    {
      "cell_type": "code",
      "metadata": {
        "id": "EurAKruyI1vC"
      },
      "source": [
        "S4A1_17= list()\n",
        "S4D4_1 = list()\n",
        "for i in range(S4HSV_imgA1D4_1.shape[0]): \n",
        "     for j in range(S4HSV_imgA1D4_1.shape[1]): \n",
        "                if 1770<i<1880 and 1700<j<1830 :\n",
        "                    S4A1_17.append(S4HSV_imgA1D4_1[i][j])\n",
        "                if 1770<i<1880 and 2015<j<2145 :\n",
        "                    S4D4_1.append(S4HSV_imgA1D4_1[i][j])"
      ],
      "execution_count": 334,
      "outputs": []
    },
    {
      "cell_type": "markdown",
      "metadata": {
        "id": "7KPqBEcdIXnZ"
      },
      "source": [
        "#6. หาค่า Mean"
      ]
    },
    {
      "cell_type": "code",
      "metadata": {
        "id": "tePep_ujIfg2"
      },
      "source": [
        "import numpy as np"
      ],
      "execution_count": 335,
      "outputs": []
    },
    {
      "cell_type": "markdown",
      "metadata": {
        "id": "CkCYreCNIxic"
      },
      "source": [
        "##Set1"
      ]
    },
    {
      "cell_type": "markdown",
      "metadata": {
        "id": "98w4NYwsuHUG"
      },
      "source": [
        "###RGB"
      ]
    },
    {
      "cell_type": "code",
      "metadata": {
        "id": "VLEHrLHLItVX",
        "colab": {
          "base_uri": "https://localhost:8080/"
        },
        "outputId": "5c7539f0-b878-48a5-a0a8-7223a72378ee"
      },
      "source": [
        "S1meanrefA1_1 = list()\n",
        "S1meanA1_2 = list()\n",
        "for i in range(S1RGB_imgA1A1_1.shape[0]): #ให้ i รันตาม row หรือ shape[0] คือแถว มีทั้งหมด 4032 แถว ของภาพที่ปรับขนาดมาแล้ว\n",
        "     for j in range(S1RGB_imgA1A1_1.shape[1]): #ให้ j รันตาม colum มีทั้งหมด 3024 colum เช่น แถวที่ 1 เข้ามาให้รันครบ 3024colum\n",
        "                if 1769<i<1881 and 2019<j<2131 :\n",
        "                  S1meanrefA1_1.append(S1RGB_imgA1A1_1[i][j])\n",
        "                if 1770<i<1880 and 2015<j<2145 :\n",
        "                  S1meanA1_2.append(S1RGB_imgA1A1_1[i][j])  \n",
        "S1meanrefA1_1 = np.array(S1meanrefA1_1)\n",
        "S1meanA1_2 = np.array(S1meanA1_2)\n",
        "\n",
        "S1rgbrefA1_1 = list()\n",
        "S1rgbA1_2 = list()\n",
        "for i in range(3):\n",
        "    S1rgbrefA1_1.append(S1meanrefA1_1[:,i].mean())\n",
        "    S1rgbA1_2.append(S1meanA1_2[:,i].mean())\n",
        "S1rgbrefA1_1,S1rgbA1_2 "
      ],
      "execution_count": 336,
      "outputs": [
        {
          "output_type": "execute_result",
          "data": {
            "text/plain": [
              "([218.38162486811134, 200.64296729161595, 160.15745475204935],\n",
              " [218.46127586942606, 200.69084702368252, 160.31171324941326])"
            ]
          },
          "metadata": {},
          "execution_count": 336
        }
      ]
    },
    {
      "cell_type": "code",
      "metadata": {
        "id": "TPULWoc0JT9L"
      },
      "source": [
        "S1meanrefA1_3 = list()\n",
        "S1meanA2_1 = list()\n",
        "for i in range(S1RGB_imgA1A2_1.shape[0]): \n",
        "     for j in range(S1RGB_imgA1A2_1.shape[1]): \n",
        "                if 1769<i<1881 and 2019<j<2131 :\n",
        "                  S1meanrefA1_3.append(S1RGB_imgA1A2_1[i][j])\n",
        "                if 1770<i<1880 and 2015<j<2145 :\n",
        "                  S1meanA2_1.append(S1RGB_imgA1A2_1[i][j])  \n",
        "S1meanrefA1_3 = np.array(S1meanrefA1_3)\n",
        "S1meanA2_1 = np.array(S1meanA2_1)\n",
        "\n",
        "S1rgbrefA1_3 = list()\n",
        "S1rgbA2_1 = list()\n",
        "for i in range(3):\n",
        "    S1rgbrefA1_3.append(S1meanrefA1_3[:,i].mean())\n",
        "    S1rgbA2_1.append(S1meanA2_1[:,i].mean())"
      ],
      "execution_count": 337,
      "outputs": []
    },
    {
      "cell_type": "code",
      "metadata": {
        "id": "jYWdd4U6Kl7f"
      },
      "source": [
        "S1meanrefA1_4 = list()\n",
        "S1meanA3_1 = list()\n",
        "for i in range(S1RGB_imgA1A3_1.shape[0]): \n",
        "     for j in range(S1RGB_imgA1A3_1.shape[1]): \n",
        "                if 1769<i<1881 and 2019<j<2131 :\n",
        "                  S1meanrefA1_4.append(S1RGB_imgA1A3_1[i][j])\n",
        "                if 1770<i<1880 and 2015<j<2145 :\n",
        "                  S1meanA3_1.append(S1RGB_imgA1A3_1[i][j])  \n",
        "S1meanrefA1_4 = np.array(S1meanrefA1_4)\n",
        "S1meanA3_1 = np.array(S1meanA3_1)\n",
        "\n",
        "S1rgbrefA1_4 = list()\n",
        "S1rgbA3_1 = list()\n",
        "for i in range(3):\n",
        "    S1rgbrefA1_4.append(S1meanrefA1_4[:,i].mean())\n",
        "    S1rgbA3_1.append(S1meanA3_1[:,i].mean())"
      ],
      "execution_count": 338,
      "outputs": []
    },
    {
      "cell_type": "code",
      "metadata": {
        "id": "OU2xD0SEK14J"
      },
      "source": [
        "S1meanrefA1_5 = list()\n",
        "S1meanA3_51 = list()\n",
        "for i in range(S1RGB_imgA1A3_51.shape[0]): \n",
        "     for j in range(S1RGB_imgA1A3_51.shape[1]): \n",
        "                if 1769<i<1881 and 2019<j<2131 :\n",
        "                  S1meanrefA1_5.append(S1RGB_imgA1A3_51[i][j])\n",
        "                if 1770<i<1880 and 2015<j<2145 :\n",
        "                  S1meanA3_51.append(S1RGB_imgA1A3_51[i][j])  \n",
        "S1meanrefA1_5 = np.array(S1meanrefA1_5)\n",
        "S1meanA3_51 = np.array(S1meanA3_51)\n",
        "\n",
        "S1rgbrefA1_5 = list()\n",
        "S1rgbA3_51 = list()\n",
        "for i in range(3):\n",
        "    S1rgbrefA1_5.append(S1meanrefA1_5[:,i].mean())\n",
        "    S1rgbA3_51.append(S1meanA3_51[:,i].mean())"
      ],
      "execution_count": 339,
      "outputs": []
    },
    {
      "cell_type": "code",
      "metadata": {
        "id": "vCXxutjOLEb5"
      },
      "source": [
        "S1meanrefA1_6 = list()\n",
        "S1meanA4_1 = list()\n",
        "for i in range(S1RGB_imgA1A4_1.shape[0]): \n",
        "     for j in range(S1RGB_imgA1A4_1.shape[1]): \n",
        "                if 1769<i<1881 and 2019<j<2131 :\n",
        "                  S1meanrefA1_6.append(S1RGB_imgA1A4_1[i][j])\n",
        "                if 1770<i<1880 and 2015<j<2145 :\n",
        "                  S1meanA4_1.append(S1RGB_imgA1A4_1[i][j])  \n",
        "S1meanrefA1_6 = np.array(S1meanrefA1_6)\n",
        "S1meanA4_1 = np.array(S1meanA4_1)\n",
        "\n",
        "S1rgbrefA1_6 = list()\n",
        "S1rgbA4_1 = list()\n",
        "for i in range(3):\n",
        "    S1rgbrefA1_6.append(S1meanrefA1_6[:,i].mean())\n",
        "    S1rgbA4_1.append(S1meanA4_1[:,i].mean())"
      ],
      "execution_count": 340,
      "outputs": []
    },
    {
      "cell_type": "code",
      "metadata": {
        "id": "Te2hqmb4LbG7"
      },
      "source": [
        "S1meanrefA1_7 = list()\n",
        "S1meanB1_1 = list()\n",
        "for i in range(S1RGB_imgA1B1_1.shape[0]): \n",
        "     for j in range(S1RGB_imgA1B1_1.shape[1]): \n",
        "                if 1769<i<1881 and 2019<j<2131 :\n",
        "                  S1meanrefA1_7.append(S1RGB_imgA1B1_1[i][j])\n",
        "                if 1770<i<1880 and 2015<j<2145 :\n",
        "                  S1meanB1_1.append(S1RGB_imgA1B1_1[i][j])  \n",
        "S1meanrefA1_7 = np.array(S1meanrefA1_7)\n",
        "S1meanB1_1 = np.array(S1meanB1_1)\n",
        "\n",
        "S1rgbrefA1_7 = list()\n",
        "S1rgbB1_1 = list()\n",
        "for i in range(3):\n",
        "    S1rgbrefA1_7.append(S1meanrefA1_7[:,i].mean())\n",
        "    S1rgbB1_1.append(S1meanB1_1[:,i].mean())"
      ],
      "execution_count": 341,
      "outputs": []
    },
    {
      "cell_type": "code",
      "metadata": {
        "id": "Q_VEx1q0LbG7"
      },
      "source": [
        "S1meanrefA1_8 = list()\n",
        "S1meanB2_1 = list()\n",
        "for i in range(S1RGB_imgA1B2_1.shape[0]): \n",
        "     for j in range(S1RGB_imgA1B2_1.shape[1]): \n",
        "                if 1769<i<1881 and 2019<j<2131 :\n",
        "                  S1meanrefA1_8.append(S1RGB_imgA1B2_1[i][j])\n",
        "                if 1770<i<1880 and 2015<j<2145 :\n",
        "                  S1meanB2_1.append(S1RGB_imgA1B2_1[i][j])  \n",
        "S1meanrefA1_8 = np.array(S1meanrefA1_8)\n",
        "S1meanB2_1 = np.array(S1meanB2_1)\n",
        "\n",
        "S1rgbrefA1_8 = list()\n",
        "S1rgbB2_1 = list()\n",
        "for i in range(3):\n",
        "    S1rgbrefA1_8.append(S1meanrefA1_8[:,i].mean())\n",
        "    S1rgbB2_1.append(S1meanB2_1[:,i].mean())"
      ],
      "execution_count": 342,
      "outputs": []
    },
    {
      "cell_type": "code",
      "metadata": {
        "id": "6h5EfHY1LbG7"
      },
      "source": [
        "S1meanrefA1_9 = list()\n",
        "S1meanB3_1 = list()\n",
        "for i in range(S1RGB_imgA1B3_1.shape[0]): \n",
        "     for j in range(S1RGB_imgA1B3_1.shape[1]): \n",
        "                if 1769<i<1881 and 2019<j<2131 :\n",
        "                  S1meanrefA1_9.append(S1RGB_imgA1B3_1[i][j])\n",
        "                if 1770<i<1880 and 2015<j<2145 :\n",
        "                  S1meanB3_1.append(S1RGB_imgA1B3_1[i][j])  \n",
        "S1meanrefA1_9 = np.array(S1meanrefA1_9)\n",
        "S1meanB3_1 = np.array(S1meanB3_1)\n",
        "\n",
        "S1rgbrefA1_9 = list()\n",
        "S1rgbB3_1 = list()\n",
        "for i in range(3):\n",
        "    S1rgbrefA1_9.append(S1meanrefA1_9[:,i].mean())\n",
        "    S1rgbB3_1.append(S1meanB3_1[:,i].mean())"
      ],
      "execution_count": 343,
      "outputs": []
    },
    {
      "cell_type": "code",
      "metadata": {
        "id": "TjKejQxXL9Xb"
      },
      "source": [
        "S1meanrefA1_10 = list()\n",
        "S1meanB4_1 = list()\n",
        "for i in range(S1RGB_imgA1B4_1.shape[0]): \n",
        "     for j in range(S1RGB_imgA1B4_1.shape[1]): \n",
        "                if 1769<i<1881 and 2019<j<2131 :\n",
        "                  S1meanrefA1_10.append(S1RGB_imgA1B4_1[i][j])\n",
        "                if 1770<i<1880 and 2015<j<2145 :\n",
        "                  S1meanB4_1.append(S1RGB_imgA1B4_1[i][j])  \n",
        "S1meanrefA1_10 = np.array(S1meanrefA1_10)\n",
        "S1meanB4_1 = np.array(S1meanB4_1)\n",
        "\n",
        "S1rgbrefA1_10 = list()\n",
        "S1rgbB4_1 = list()\n",
        "for i in range(3):\n",
        "    S1rgbrefA1_10.append(S1meanrefA1_10[:,i].mean())\n",
        "    S1rgbB4_1.append(S1meanB4_1[:,i].mean())"
      ],
      "execution_count": 344,
      "outputs": []
    },
    {
      "cell_type": "code",
      "metadata": {
        "id": "Y8X8SmoGMihg"
      },
      "source": [
        "S1meanrefA1_11 = list()\n",
        "S1meanC1_1 = list()\n",
        "for i in range(S1RGB_imgA1C1_1.shape[0]): \n",
        "     for j in range(S1RGB_imgA1C1_1.shape[1]): \n",
        "                if 1769<i<1881 and 2019<j<2131 :\n",
        "                  S1meanrefA1_11.append(S1RGB_imgA1C1_1[i][j])\n",
        "                if 1770<i<1880 and 2015<j<2145 :\n",
        "                  S1meanC1_1.append(S1RGB_imgA1C1_1[i][j])  \n",
        "S1meanrefA1_11 = np.array(S1meanrefA1_11)\n",
        "S1meanC1_1 = np.array(S1meanC1_1)\n",
        "\n",
        "S1rgbrefA1_11 = list()\n",
        "S1rgbC1_1 = list()\n",
        "for i in range(3):\n",
        "    S1rgbrefA1_11.append(S1meanrefA1_11[:,i].mean())\n",
        "    S1rgbC1_1.append(S1meanC1_1[:,i].mean())"
      ],
      "execution_count": 345,
      "outputs": []
    },
    {
      "cell_type": "code",
      "metadata": {
        "id": "Av_eHI6jMihg"
      },
      "source": [
        "S1meanrefA1_12 = list()\n",
        "S1meanC2_1 = list()\n",
        "for i in range(S1RGB_imgA1C2_1.shape[0]): \n",
        "     for j in range(S1RGB_imgA1C2_1.shape[1]): \n",
        "                if 1769<i<1881 and 2019<j<2131 :\n",
        "                  S1meanrefA1_12.append(S1RGB_imgA1C2_1[i][j])\n",
        "                if 1770<i<1880 and 2015<j<2145 :\n",
        "                  S1meanC2_1.append(S1RGB_imgA1C2_1[i][j])  \n",
        "S1meanrefA1_12 = np.array(S1meanrefA1_12)\n",
        "S1meanC2_1 = np.array(S1meanC2_1)\n",
        "\n",
        "S1rgbrefA1_12 = list()\n",
        "S1rgbC2_1 = list()\n",
        "for i in range(3):\n",
        "    S1rgbrefA1_12.append(S1meanrefA1_12[:,i].mean())\n",
        "    S1rgbC2_1.append(S1meanC2_1[:,i].mean())"
      ],
      "execution_count": 346,
      "outputs": []
    },
    {
      "cell_type": "code",
      "metadata": {
        "id": "lOvykBc7Mihg"
      },
      "source": [
        "S1meanrefA1_13 = list()\n",
        "S1meanC3_1 = list()\n",
        "for i in range(S1RGB_imgA1C3_1.shape[0]): \n",
        "     for j in range(S1RGB_imgA1C3_1.shape[1]): \n",
        "                if 1769<i<1881 and 2019<j<2131 :\n",
        "                  S1meanrefA1_13.append(S1RGB_imgA1C3_1[i][j])\n",
        "                if 1770<i<1880 and 2015<j<2145 :\n",
        "                  S1meanC3_1.append(S1RGB_imgA1C3_1[i][j])  \n",
        "S1meanrefA1_13 = np.array(S1meanrefA1_13)\n",
        "S1meanC3_1 = np.array(S1meanC3_1)\n",
        "\n",
        "S1rgbrefA1_13 = list()\n",
        "S1rgbC3_1 = list()\n",
        "for i in range(3):\n",
        "    S1rgbrefA1_13.append(S1meanrefA1_13[:,i].mean())\n",
        "    S1rgbC3_1.append(S1meanC3_1[:,i].mean())"
      ],
      "execution_count": 347,
      "outputs": []
    },
    {
      "cell_type": "code",
      "metadata": {
        "id": "YdNqiN2LMihg"
      },
      "source": [
        "S1meanrefA1_14 = list()\n",
        "S1meanC4_1 = list()\n",
        "for i in range(S1RGB_imgA1C4_1.shape[0]): \n",
        "     for j in range(S1RGB_imgA1C4_1.shape[1]): \n",
        "                if 1769<i<1881 and 2019<j<2131 :\n",
        "                  S1meanrefA1_14.append(S1RGB_imgA1C4_1[i][j])\n",
        "                if 1770<i<1880 and 2015<j<2145 :\n",
        "                  S1meanC4_1.append(S1RGB_imgA1C4_1[i][j])  \n",
        "S1meanrefA1_14 = np.array(S1meanrefA1_14)\n",
        "S1meanC4_1 = np.array(S1meanC4_1)\n",
        "\n",
        "S1rgbrefA1_14 = list()\n",
        "S1rgbC4_1 = list()\n",
        "for i in range(3):\n",
        "    S1rgbrefA1_14.append(S1meanrefA1_14[:,i].mean())\n",
        "    S1rgbC4_1.append(S1meanC4_1[:,i].mean())"
      ],
      "execution_count": 348,
      "outputs": []
    },
    {
      "cell_type": "code",
      "metadata": {
        "id": "U1oHIKdONm_p"
      },
      "source": [
        "S1meanrefA1_15 = list()\n",
        "S1meanD2_1 = list()\n",
        "for i in range(S1RGB_imgA1D2_1.shape[0]): \n",
        "     for j in range(S1RGB_imgA1D2_1.shape[1]): \n",
        "                if 1769<i<1881 and 2019<j<2131 :\n",
        "                  S1meanrefA1_15.append(S1RGB_imgA1D2_1[i][j])\n",
        "                if 1770<i<1880 and 2015<j<2145 :\n",
        "                  S1meanD2_1.append(S1RGB_imgA1D2_1[i][j])  \n",
        "S1meanrefA1_15 = np.array(S1meanrefA1_15)\n",
        "S1meanD2_1 = np.array(S1meanD2_1)\n",
        "\n",
        "S1rgbrefA1_15 = list()\n",
        "S1rgbD2_1 = list()\n",
        "for i in range(3):\n",
        "    S1rgbrefA1_15.append(S1meanrefA1_15[:,i].mean())\n",
        "    S1rgbD2_1.append(S1meanD2_1[:,i].mean())"
      ],
      "execution_count": 349,
      "outputs": []
    },
    {
      "cell_type": "code",
      "metadata": {
        "id": "_O71JLAONm_p"
      },
      "source": [
        "S1meanrefA1_16 = list()\n",
        "S1meanD3_1 = list()\n",
        "for i in range(S1RGB_imgA1D3_1.shape[0]): \n",
        "     for j in range(S1RGB_imgA1D3_1.shape[1]): \n",
        "                if 1769<i<1881 and 2019<j<2131 :\n",
        "                  S1meanrefA1_16.append(S1RGB_imgA1D3_1[i][j])\n",
        "                if 1770<i<1880 and 2015<j<2145 :\n",
        "                  S1meanD3_1.append(S1RGB_imgA1D3_1[i][j])  \n",
        "S1meanrefA1_16 = np.array(S1meanrefA1_16)\n",
        "S1meanD3_1 = np.array(S1meanD3_1)\n",
        "\n",
        "S1rgbrefA1_16 = list()\n",
        "S1rgbD3_1 = list()\n",
        "for i in range(3):\n",
        "    S1rgbrefA1_16.append(S1meanrefA1_16[:,i].mean())\n",
        "    S1rgbD3_1.append(S1meanD3_1[:,i].mean())"
      ],
      "execution_count": 350,
      "outputs": []
    },
    {
      "cell_type": "code",
      "metadata": {
        "id": "U29gI1aKNm_p"
      },
      "source": [
        "S1meanrefA1_17= list()\n",
        "S1meanD4_1 = list()\n",
        "for i in range(S1RGB_imgA1D4_1.shape[0]): \n",
        "     for j in range(S1RGB_imgA1D4_1.shape[1]): \n",
        "                if 1769<i<1881 and 2019<j<2131 :\n",
        "                  S1meanrefA1_17.append(S1RGB_imgA1D4_1[i][j])\n",
        "                if 1770<i<1880 and 2015<j<2145 :\n",
        "                  S1meanD4_1.append(S1RGB_imgA1D4_1[i][j])  \n",
        "S1meanrefA1_17 = np.array(S1meanrefA1_14)\n",
        "S1meanD4_1 = np.array(S1meanD4_1)\n",
        "\n",
        "S1rgbrefA1_17 = list()\n",
        "S1rgbD4_1 = list()\n",
        "for i in range(3):\n",
        "    S1rgbrefA1_17.append(S1meanrefA1_17[:,i].mean())\n",
        "    S1rgbD4_1.append(S1meanD4_1[:,i].mean())"
      ],
      "execution_count": 351,
      "outputs": []
    },
    {
      "cell_type": "markdown",
      "metadata": {
        "id": "7OGOajgpt7TD"
      },
      "source": [
        "###HSV"
      ]
    },
    {
      "cell_type": "code",
      "metadata": {
        "id": "gyewAPUYuQs5",
        "colab": {
          "base_uri": "https://localhost:8080/"
        },
        "outputId": "f2eb4598-4414-480a-beac-5d908d772817"
      },
      "source": [
        "S1meanrefA1_1 = list()\n",
        "S1meanA1_2 = list()\n",
        "for i in range(S1HSV_imgA1A1_1.shape[0]): #ให้ i รันตาม row หรือ shape[0] คือแถว มีทั้งหมด 4032 แถว ของภาพที่ปรับขนาดมาแล้ว\n",
        "     for j in range(S1HSV_imgA1A1_1.shape[1]): #ให้ j รันตาม colum มีทั้งหมด 3024 colum เช่น แถวที่ 1 เข้ามาให้รันครบ 3024colum\n",
        "                if 1769<i<1881 and 2019<j<2131 :\n",
        "                  S1meanrefA1_1.append(S1HSV_imgA1A1_1[i][j])\n",
        "                if 1770<i<1880 and 2015<j<2145 :\n",
        "                  S1meanA1_2.append(S1HSV_imgA1A1_1[i][j])  \n",
        "S1meanrefA1_1 = np.array(S1meanrefA1_1)\n",
        "S1meanA1_2 = np.array(S1meanA1_2)\n",
        "\n",
        "S1hsvrefA1_1 = list()\n",
        "S1hsvA1_2 = list()\n",
        "for i in range(3):\n",
        "    S1hsvrefA1_1.append(S1meanrefA1_1[:,i].mean())\n",
        "    S1hsvA1_2.append(S1meanA1_2[:,i].mean())\n",
        "S1hsvrefA1_1,S1hsvA1_2 "
      ],
      "execution_count": 352,
      "outputs": [
        {
          "output_type": "execute_result",
          "data": {
            "text/plain": [
              "([21.078646213781347, 68.01582663744826, 218.38162486811134],\n",
              " [21.03264348197141, 67.90562548894104, 218.46127586942606])"
            ]
          },
          "metadata": {},
          "execution_count": 352
        }
      ]
    },
    {
      "cell_type": "code",
      "metadata": {
        "id": "dK9vu9zRuQs7"
      },
      "source": [
        "S1meanrefA1_3 = list()\n",
        "S1meanA2_1 = list()\n",
        "for i in range(S1HSV_imgA1A2_1.shape[0]): \n",
        "     for j in range(S1HSV_imgA1A2_1.shape[1]): \n",
        "                if 1769<i<1881 and 2019<j<2131 :\n",
        "                  S1meanrefA1_3.append(S1HSV_imgA1A2_1[i][j])\n",
        "                if 1770<i<1880 and 2015<j<2145 :\n",
        "                  S1meanA2_1.append(S1HSV_imgA1A2_1[i][j])  \n",
        "S1meanrefA1_3 = np.array(S1meanrefA1_3)\n",
        "S1meanA2_1 = np.array(S1meanA2_1)\n",
        "\n",
        "S1hsvrefA1_3 = list()\n",
        "S1hsvA2_1 = list()\n",
        "for i in range(3):\n",
        "    S1hsvrefA1_3.append(S1meanrefA1_3[:,i].mean())\n",
        "    S1hsvA2_1.append(S1meanA2_1[:,i].mean())"
      ],
      "execution_count": 353,
      "outputs": []
    },
    {
      "cell_type": "code",
      "metadata": {
        "id": "HVnaWekuuQs8"
      },
      "source": [
        "S1meanrefA1_4 = list()\n",
        "S1meanA3_1 = list()\n",
        "for i in range(S1HSV_imgA1A3_1.shape[0]): \n",
        "     for j in range(S1HSV_imgA1A3_1.shape[1]): \n",
        "                if 1769<i<1881 and 2019<j<2131 :\n",
        "                  S1meanrefA1_4.append(S1HSV_imgA1A3_1[i][j])\n",
        "                if 1770<i<1880 and 2015<j<2145 :\n",
        "                  S1meanA3_1.append(S1HSV_imgA1A3_1[i][j])  \n",
        "S1meanrefA1_4 = np.array(S1meanrefA1_4)\n",
        "S1meanA3_1 = np.array(S1meanA3_1)\n",
        "\n",
        "S1hsvrefA1_4 = list()\n",
        "S1hsvA3_1 = list()\n",
        "for i in range(3):\n",
        "    S1hsvrefA1_4.append(S1meanrefA1_4[:,i].mean())\n",
        "    S1hsvA3_1.append(S1meanA3_1[:,i].mean())"
      ],
      "execution_count": 354,
      "outputs": []
    },
    {
      "cell_type": "code",
      "metadata": {
        "id": "-YCvbbWAuQs8"
      },
      "source": [
        "S1meanrefA1_5 = list()\n",
        "S1meanA3_51 = list()\n",
        "for i in range(S1HSV_imgA1A3_51.shape[0]): \n",
        "     for j in range(S1HSV_imgA1A3_51.shape[1]): \n",
        "                if 1769<i<1881 and 2019<j<2131 :\n",
        "                  S1meanrefA1_5.append(S1HSV_imgA1A3_51[i][j])\n",
        "                if 1770<i<1880 and 2015<j<2145 :\n",
        "                  S1meanA3_51.append(S1HSV_imgA1A3_51[i][j])  \n",
        "S1meanrefA1_5 = np.array(S1meanrefA1_5)\n",
        "S1meanA3_51 = np.array(S1meanA3_51)\n",
        "\n",
        "S1hsvrefA1_5 = list()\n",
        "S1hsvA3_51 = list()\n",
        "for i in range(3):\n",
        "    S1hsvrefA1_5.append(S1meanrefA1_5[:,i].mean())\n",
        "    S1hsvA3_51.append(S1meanA3_51[:,i].mean())"
      ],
      "execution_count": 355,
      "outputs": []
    },
    {
      "cell_type": "code",
      "metadata": {
        "id": "UvZxCzLSuQs9"
      },
      "source": [
        "S1meanrefA1_6 = list()\n",
        "S1meanA4_1 = list()\n",
        "for i in range(S1HSV_imgA1A4_1.shape[0]): \n",
        "     for j in range(S1HSV_imgA1A4_1.shape[1]): \n",
        "                if 1769<i<1881 and 2019<j<2131 :\n",
        "                  S1meanrefA1_6.append(S1HSV_imgA1A4_1[i][j])\n",
        "                if 1770<i<1880 and 2015<j<2145 :\n",
        "                  S1meanA4_1.append(S1HSV_imgA1A4_1[i][j])  \n",
        "S1meanrefA1_6 = np.array(S1meanrefA1_6)\n",
        "S1meanA4_1 = np.array(S1meanA4_1)\n",
        "\n",
        "S1hsvrefA1_6 = list()\n",
        "S1hsvA4_1 = list()\n",
        "for i in range(3):\n",
        "    S1hsvrefA1_6.append(S1meanrefA1_6[:,i].mean())\n",
        "    S1hsvA4_1.append(S1meanA4_1[:,i].mean())"
      ],
      "execution_count": 356,
      "outputs": []
    },
    {
      "cell_type": "code",
      "metadata": {
        "id": "_KgSdI0LuQs-"
      },
      "source": [
        "S1meanrefA1_7 = list()\n",
        "S1meanB1_1 = list()\n",
        "for i in range(S1HSV_imgA1B1_1.shape[0]): \n",
        "     for j in range(S1HSV_imgA1B1_1.shape[1]): \n",
        "                if 1769<i<1881 and 2019<j<2131 :\n",
        "                  S1meanrefA1_7.append(S1HSV_imgA1B1_1[i][j])\n",
        "                if 1770<i<1880 and 2015<j<2145 :\n",
        "                  S1meanB1_1.append(S1HSV_imgA1B1_1[i][j])  \n",
        "S1meanrefA1_7 = np.array(S1meanrefA1_7)\n",
        "S1meanB1_1 = np.array(S1meanB1_1)\n",
        "\n",
        "S1hsvrefA1_7 = list()\n",
        "S1hsvB1_1 = list()\n",
        "for i in range(3):\n",
        "    S1hsvrefA1_7.append(S1meanrefA1_7[:,i].mean())\n",
        "    S1hsvB1_1.append(S1meanB1_1[:,i].mean())"
      ],
      "execution_count": 357,
      "outputs": []
    },
    {
      "cell_type": "code",
      "metadata": {
        "id": "D73bQNbSuQs_"
      },
      "source": [
        "S1meanrefA1_8 = list()\n",
        "S1meanB2_1 = list()\n",
        "for i in range(S1HSV_imgA1B2_1.shape[0]): \n",
        "     for j in range(S1HSV_imgA1B2_1.shape[1]): \n",
        "                if 1769<i<1881 and 2019<j<2131 :\n",
        "                  S1meanrefA1_8.append(S1HSV_imgA1B2_1[i][j])\n",
        "                if 1770<i<1880 and 2015<j<2145 :\n",
        "                  S1meanB2_1.append(S1HSV_imgA1B2_1[i][j])  \n",
        "S1meanrefA1_8 = np.array(S1meanrefA1_8)\n",
        "S1meanB2_1 = np.array(S1meanB2_1)\n",
        "\n",
        "S1hsvrefA1_8 = list()\n",
        "S1hsvB2_1 = list()\n",
        "for i in range(3):\n",
        "    S1hsvrefA1_8.append(S1meanrefA1_8[:,i].mean())\n",
        "    S1hsvB2_1.append(S1meanB2_1[:,i].mean())"
      ],
      "execution_count": 358,
      "outputs": []
    },
    {
      "cell_type": "code",
      "metadata": {
        "id": "-2Um-Pq5uQtA"
      },
      "source": [
        "S1meanrefA1_9 = list()\n",
        "S1meanB3_1 = list()\n",
        "for i in range(S1HSV_imgA1B3_1.shape[0]): \n",
        "     for j in range(S1HSV_imgA1B3_1.shape[1]): \n",
        "                if 1769<i<1881 and 2019<j<2131 :\n",
        "                  S1meanrefA1_9.append(S1HSV_imgA1B3_1[i][j])\n",
        "                if 1770<i<1880 and 2015<j<2145 :\n",
        "                  S1meanB3_1.append(S1HSV_imgA1B3_1[i][j])  \n",
        "S1meanrefA1_9 = np.array(S1meanrefA1_9)\n",
        "S1meanB3_1 = np.array(S1meanB3_1)\n",
        "\n",
        "S1hsvrefA1_9 = list()\n",
        "S1hsvB3_1 = list()\n",
        "for i in range(3):\n",
        "    S1hsvrefA1_9.append(S1meanrefA1_9[:,i].mean())\n",
        "    S1hsvB3_1.append(S1meanB3_1[:,i].mean())"
      ],
      "execution_count": 359,
      "outputs": []
    },
    {
      "cell_type": "code",
      "metadata": {
        "id": "Bprrg-KQuQtB"
      },
      "source": [
        "S1meanrefA1_10 = list()\n",
        "S1meanB4_1 = list()\n",
        "for i in range(S1HSV_imgA1B4_1.shape[0]): \n",
        "     for j in range(S1HSV_imgA1B4_1.shape[1]): \n",
        "                if 1769<i<1881 and 2019<j<2131 :\n",
        "                  S1meanrefA1_10.append(S1HSV_imgA1B4_1[i][j])\n",
        "                if 1770<i<1880 and 2015<j<2145 :\n",
        "                  S1meanB4_1.append(S1HSV_imgA1B4_1[i][j])  \n",
        "S1meanrefA1_10 = np.array(S1meanrefA1_10)\n",
        "S1meanB4_1 = np.array(S1meanB4_1)\n",
        "\n",
        "S1hsvrefA1_10 = list()\n",
        "S1hsvB4_1 = list()\n",
        "for i in range(3):\n",
        "    S1hsvrefA1_10.append(S1meanrefA1_10[:,i].mean())\n",
        "    S1hsvB4_1.append(S1meanB4_1[:,i].mean())"
      ],
      "execution_count": 360,
      "outputs": []
    },
    {
      "cell_type": "code",
      "metadata": {
        "id": "tM9mAjB8uQtB"
      },
      "source": [
        "S1meanrefA1_11 = list()\n",
        "S1meanC1_1 = list()\n",
        "for i in range(S1HSV_imgA1C1_1.shape[0]): \n",
        "     for j in range(S1HSV_imgA1C1_1.shape[1]): \n",
        "                if 1769<i<1881 and 2019<j<2131 :\n",
        "                  S1meanrefA1_11.append(S1HSV_imgA1C1_1[i][j])\n",
        "                if 1770<i<1880 and 2015<j<2145 :\n",
        "                  S1meanC1_1.append(S1HSV_imgA1C1_1[i][j])  \n",
        "S1meanrefA1_11 = np.array(S1meanrefA1_11)\n",
        "S1meanC1_1 = np.array(S1meanC1_1)\n",
        "\n",
        "S1hsvrefA1_11 = list()\n",
        "S1hsvC1_1 = list()\n",
        "for i in range(3):\n",
        "    S1hsvrefA1_11.append(S1meanrefA1_11[:,i].mean())\n",
        "    S1hsvC1_1.append(S1meanC1_1[:,i].mean())"
      ],
      "execution_count": 361,
      "outputs": []
    },
    {
      "cell_type": "code",
      "metadata": {
        "id": "kDklKgouuQtC"
      },
      "source": [
        "S1meanrefA1_12 = list()\n",
        "S1meanC2_1 = list()\n",
        "for i in range(S1HSV_imgA1C2_1.shape[0]): \n",
        "     for j in range(S1HSV_imgA1C2_1.shape[1]): \n",
        "                if 1769<i<1881 and 2019<j<2131 :\n",
        "                  S1meanrefA1_12.append(S1HSV_imgA1C2_1[i][j])\n",
        "                if 1770<i<1880 and 2015<j<2145 :\n",
        "                  S1meanC2_1.append(S1HSV_imgA1C2_1[i][j])  \n",
        "S1meanrefA1_12 = np.array(S1meanrefA1_12)\n",
        "S1meanC2_1 = np.array(S1meanC2_1)\n",
        "\n",
        "S1hsvrefA1_12 = list()\n",
        "S1hsvC2_1 = list()\n",
        "for i in range(3):\n",
        "    S1hsvrefA1_12.append(S1meanrefA1_12[:,i].mean())\n",
        "    S1hsvC2_1.append(S1meanC2_1[:,i].mean())"
      ],
      "execution_count": 362,
      "outputs": []
    },
    {
      "cell_type": "code",
      "metadata": {
        "id": "y5Ptet2IuQtC"
      },
      "source": [
        "S1meanrefA1_13 = list()\n",
        "S1meanC3_1 = list()\n",
        "for i in range(S1HSV_imgA1C3_1.shape[0]): \n",
        "     for j in range(S1HSV_imgA1C3_1.shape[1]): \n",
        "                if 1769<i<1881 and 2019<j<2131 :\n",
        "                  S1meanrefA1_13.append(S1HSV_imgA1C3_1[i][j])\n",
        "                if 1770<i<1880 and 2015<j<2145 :\n",
        "                  S1meanC3_1.append(S1HSV_imgA1C3_1[i][j])  \n",
        "S1meanrefA1_13 = np.array(S1meanrefA1_13)\n",
        "S1meanC3_1 = np.array(S1meanC3_1)\n",
        "\n",
        "S1hsvrefA1_13 = list()\n",
        "S1hsvC3_1 = list()\n",
        "for i in range(3):\n",
        "    S1hsvrefA1_13.append(S1meanrefA1_13[:,i].mean())\n",
        "    S1hsvC3_1.append(S1meanC3_1[:,i].mean())"
      ],
      "execution_count": 363,
      "outputs": []
    },
    {
      "cell_type": "code",
      "metadata": {
        "id": "HukrHNNxuQtC"
      },
      "source": [
        "S1meanrefA1_14 = list()\n",
        "S1meanC4_1 = list()\n",
        "for i in range(S1HSV_imgA1C4_1.shape[0]): \n",
        "     for j in range(S1HSV_imgA1C4_1.shape[1]): \n",
        "                if 1769<i<1881 and 2019<j<2131 :\n",
        "                  S1meanrefA1_14.append(S1HSV_imgA1C4_1[i][j])\n",
        "                if 1770<i<1880 and 2015<j<2145 :\n",
        "                  S1meanC4_1.append(S1HSV_imgA1C4_1[i][j])  \n",
        "S1meanrefA1_14 = np.array(S1meanrefA1_14)\n",
        "S1meanC4_1 = np.array(S1meanC4_1)\n",
        "\n",
        "S1hsvrefA1_14 = list()\n",
        "S1hsvC4_1 = list()\n",
        "for i in range(3):\n",
        "    S1hsvrefA1_14.append(S1meanrefA1_14[:,i].mean())\n",
        "    S1hsvC4_1.append(S1meanC4_1[:,i].mean())"
      ],
      "execution_count": 364,
      "outputs": []
    },
    {
      "cell_type": "code",
      "metadata": {
        "id": "EEzN-mXZuQtD"
      },
      "source": [
        "S1meanrefA1_15 = list()\n",
        "S1meanD2_1 = list()\n",
        "for i in range(S1HSV_imgA1D2_1.shape[0]): \n",
        "     for j in range(S1HSV_imgA1D2_1.shape[1]): \n",
        "                if 1769<i<1881 and 2019<j<2131 :\n",
        "                  S1meanrefA1_15.append(S1HSV_imgA1D2_1[i][j])\n",
        "                if 1770<i<1880 and 2015<j<2145 :\n",
        "                  S1meanD2_1.append(S1HSV_imgA1D2_1[i][j])  \n",
        "S1meanrefA1_15 = np.array(S1meanrefA1_15)\n",
        "S1meanD2_1 = np.array(S1meanD2_1)\n",
        "\n",
        "S1hsvrefA1_15 = list()\n",
        "S1hsvD2_1 = list()\n",
        "for i in range(3):\n",
        "    S1hsvrefA1_15.append(S1meanrefA1_15[:,i].mean())\n",
        "    S1hsvD2_1.append(S1meanD2_1[:,i].mean())"
      ],
      "execution_count": 365,
      "outputs": []
    },
    {
      "cell_type": "code",
      "metadata": {
        "id": "ceqVIiUGuQtD"
      },
      "source": [
        "S1meanrefA1_16 = list()\n",
        "S1meanD3_1 = list()\n",
        "for i in range(S1HSV_imgA1D3_1.shape[0]): \n",
        "     for j in range(S1HSV_imgA1D3_1.shape[1]): \n",
        "                if 1769<i<1881 and 2019<j<2131 :\n",
        "                  S1meanrefA1_16.append(S1HSV_imgA1D3_1[i][j])\n",
        "                if 1770<i<1880 and 2015<j<2145 :\n",
        "                  S1meanD3_1.append(S1HSV_imgA1D3_1[i][j])  \n",
        "S1meanrefA1_16 = np.array(S1meanrefA1_16)\n",
        "S1meanD3_1 = np.array(S1meanD3_1)\n",
        "\n",
        "S1hsvrefA1_16 = list()\n",
        "S1hsvD3_1 = list()\n",
        "for i in range(3):\n",
        "    S1hsvrefA1_16.append(S1meanrefA1_16[:,i].mean())\n",
        "    S1hsvD3_1.append(S1meanD3_1[:,i].mean())"
      ],
      "execution_count": 366,
      "outputs": []
    },
    {
      "cell_type": "code",
      "metadata": {
        "id": "GEl4Fv4ouQtD"
      },
      "source": [
        "S1meanrefA1_17= list()\n",
        "S1meanD4_1 = list()\n",
        "for i in range(S1HSV_imgA1D4_1.shape[0]): \n",
        "     for j in range(S1HSV_imgA1D4_1.shape[1]): \n",
        "                if 1769<i<1881 and 2019<j<2131 :\n",
        "                  S1meanrefA1_17.append(S1HSV_imgA1D4_1[i][j])\n",
        "                if 1770<i<1880 and 2015<j<2145 :\n",
        "                  S1meanD4_1.append(S1HSV_imgA1D4_1[i][j])  \n",
        "S1meanrefA1_17 = np.array(S1meanrefA1_14)\n",
        "S1meanD4_1 = np.array(S1meanD4_1)\n",
        "\n",
        "S1hsvrefA1_17 = list()\n",
        "S1hsvD4_1 = list()\n",
        "for i in range(3):\n",
        "    S1hsvrefA1_17.append(S1meanrefA1_17[:,i].mean())\n",
        "    S1hsvD4_1.append(S1meanD4_1[:,i].mean())"
      ],
      "execution_count": 367,
      "outputs": []
    },
    {
      "cell_type": "markdown",
      "metadata": {
        "id": "kW9nrJkJOI4F"
      },
      "source": [
        "##Set2"
      ]
    },
    {
      "cell_type": "markdown",
      "metadata": {
        "id": "KRCnqhuC3ovu"
      },
      "source": [
        "###RGB"
      ]
    },
    {
      "cell_type": "code",
      "metadata": {
        "id": "D6_wAmquOT_h"
      },
      "source": [
        "S2meanrefA1_1 = list()\n",
        "S2meanA1_2 = list()\n",
        "for i in range(S2RGB_imgA1A1_1.shape[0]): #ให้ i รันตาม row หรือ shape[0] คือแถว มีทั้งหมด 4032 แถว ของภาพที่ปรับขนาดมาแล้ว\n",
        "     for j in range(S2RGB_imgA1A1_1.shape[1]): #ให้ j รันตาม colum มีทั้งหมด 3024 colum เช่น แถวที่ 1 เข้ามาให้รันครบ 3024colum\n",
        "                if 1769<i<1881 and 2019<j<2131 :\n",
        "                  S2meanrefA1_1.append(S2RGB_imgA1A1_1[i][j])\n",
        "                if 1770<i<1880 and 2015<j<2145 :\n",
        "                  S2meanA1_2.append(S2RGB_imgA1A1_1[i][j])  \n",
        "S2meanrefA1_1 = np.array(S2meanrefA1_1)\n",
        "S2meanA1_2 = np.array(S2meanA1_2)\n",
        "\n",
        "S2rgbrefA1_1 = list()\n",
        "S2rgbA1_2 = list()\n",
        "for i in range(3):\n",
        "    S2rgbrefA1_1.append(S2meanrefA1_1[:,i].mean())\n",
        "    S2rgbA1_2.append(S2meanA1_2[:,i].mean()) "
      ],
      "execution_count": 368,
      "outputs": []
    },
    {
      "cell_type": "code",
      "metadata": {
        "id": "EJlQhqC7OT_i"
      },
      "source": [
        "S2meanrefA1_3 = list()\n",
        "S2meanA2_1 = list()\n",
        "for i in range(S2RGB_imgA1A2_1.shape[0]): \n",
        "     for j in range(S2RGB_imgA1A2_1.shape[1]): \n",
        "                if 1769<i<1881 and 2019<j<2131 :\n",
        "                  S2meanrefA1_3.append(S2RGB_imgA1A2_1[i][j])\n",
        "                if 1770<i<1880 and 2015<j<2145 :\n",
        "                  S2meanA2_1.append(S2RGB_imgA1A2_1[i][j])  \n",
        "S2meanrefA1_3 = np.array(S2meanrefA1_3)\n",
        "S2meanA2_1 = np.array(S2meanA2_1)\n",
        "\n",
        "S2rgbrefA1_3 = list()\n",
        "S2rgbA2_1 = list()\n",
        "for i in range(3):\n",
        "    S2rgbrefA1_3.append(S2meanrefA1_3[:,i].mean())\n",
        "    S2rgbA2_1.append(S2meanA2_1[:,i].mean())"
      ],
      "execution_count": 369,
      "outputs": []
    },
    {
      "cell_type": "code",
      "metadata": {
        "id": "I_f-AfX0OT_i"
      },
      "source": [
        "S2meanrefA1_4 = list()\n",
        "S2meanA3_1 = list()\n",
        "for i in range(S2RGB_imgA1A3_1.shape[0]): \n",
        "     for j in range(S2RGB_imgA1A3_1.shape[1]): \n",
        "                if 1769<i<1881 and 2019<j<2131 :\n",
        "                  S2meanrefA1_4.append(S2RGB_imgA1A3_1[i][j])\n",
        "                if 1770<i<1880 and 2015<j<2145 :\n",
        "                  S2meanA3_1.append(S2RGB_imgA1A3_1[i][j])  \n",
        "S2meanrefA1_4 = np.array(S2meanrefA1_4)\n",
        "S2meanA3_1 = np.array(S2meanA3_1)\n",
        "\n",
        "S2rgbrefA1_4 = list()\n",
        "S2rgbA3_1 = list()\n",
        "for i in range(3):\n",
        "    S2rgbrefA1_4.append(S2meanrefA1_4[:,i].mean())\n",
        "    S2rgbA3_1.append(S2meanA3_1[:,i].mean())"
      ],
      "execution_count": 370,
      "outputs": []
    },
    {
      "cell_type": "code",
      "metadata": {
        "id": "JG9hcu4-OT_i"
      },
      "source": [
        "S2meanrefA1_5 = list()\n",
        "S2meanA3_51 = list()\n",
        "for i in range(S2RGB_imgA1A3_51.shape[0]): \n",
        "     for j in range(S2RGB_imgA1A3_51.shape[1]): \n",
        "                if 1769<i<1881 and 2019<j<2131 :\n",
        "                  S2meanrefA1_5.append(S2RGB_imgA1A3_51[i][j])\n",
        "                if 1770<i<1880 and 2015<j<2145 :\n",
        "                  S2meanA3_51.append(S2RGB_imgA1A3_51[i][j])  \n",
        "S2meanrefA1_5 = np.array(S2meanrefA1_5)\n",
        "S2meanA3_51 = np.array(S2meanA3_51)\n",
        "\n",
        "S2rgbrefA1_5 = list()\n",
        "S2rgbA3_51 = list()\n",
        "for i in range(3):\n",
        "    S2rgbrefA1_5.append(S2meanrefA1_5[:,i].mean())\n",
        "    S2rgbA3_51.append(S2meanA3_51[:,i].mean())"
      ],
      "execution_count": 371,
      "outputs": []
    },
    {
      "cell_type": "code",
      "metadata": {
        "id": "Mj0RQI7UOT_i"
      },
      "source": [
        "S2meanrefA1_6 = list()\n",
        "S2meanA4_1 = list()\n",
        "for i in range(S2RGB_imgA1A4_1.shape[0]): \n",
        "     for j in range(S2RGB_imgA1A4_1.shape[1]): \n",
        "                if 1769<i<1881 and 2019<j<2131 :\n",
        "                  S2meanrefA1_6.append(S2RGB_imgA1A4_1[i][j])\n",
        "                if 1770<i<1880 and 2015<j<2145 :\n",
        "                  S2meanA4_1.append(S2RGB_imgA1A4_1[i][j])  \n",
        "S2meanrefA1_6 = np.array(S2meanrefA1_6)\n",
        "S2meanA4_1 = np.array(S2meanA4_1)\n",
        "\n",
        "S2rgbrefA1_6 = list()\n",
        "S2rgbA4_1 = list()\n",
        "for i in range(3):\n",
        "    S2rgbrefA1_6.append(S2meanrefA1_6[:,i].mean())\n",
        "    S2rgbA4_1.append(S2meanA4_1[:,i].mean())"
      ],
      "execution_count": 372,
      "outputs": []
    },
    {
      "cell_type": "code",
      "metadata": {
        "id": "Zd07YLK8OT_i"
      },
      "source": [
        "S2meanrefA1_7 = list()\n",
        "S2meanB1_1 = list()\n",
        "for i in range(S2RGB_imgA1B1_1.shape[0]): \n",
        "     for j in range(S2RGB_imgA1B1_1.shape[1]): \n",
        "                if 1769<i<1881 and 2019<j<2131 :\n",
        "                  S2meanrefA1_7.append(S2RGB_imgA1B1_1[i][j])\n",
        "                if 1770<i<1880 and 2015<j<2145 :\n",
        "                  S2meanB1_1.append(S2RGB_imgA1B1_1[i][j])  \n",
        "S2meanrefA1_7 = np.array(S2meanrefA1_7)\n",
        "S2meanB1_1 = np.array(S2meanB1_1)\n",
        "\n",
        "S2rgbrefA1_7 = list()\n",
        "S2rgbB1_1 = list()\n",
        "for i in range(3):\n",
        "    S2rgbrefA1_7.append(S2meanrefA1_7[:,i].mean())\n",
        "    S2rgbB1_1.append(S2meanB1_1[:,i].mean())"
      ],
      "execution_count": 373,
      "outputs": []
    },
    {
      "cell_type": "code",
      "metadata": {
        "id": "pnAhSHoAOT_i"
      },
      "source": [
        "S2meanrefA1_8 = list()\n",
        "S2meanB2_1 = list()\n",
        "for i in range(S2RGB_imgA1B2_1.shape[0]): \n",
        "     for j in range(S2RGB_imgA1B2_1.shape[1]): \n",
        "                if 1769<i<1881 and 2019<j<2131 :\n",
        "                  S2meanrefA1_8.append(S2RGB_imgA1B2_1[i][j])\n",
        "                if 1770<i<1880 and 2015<j<2145 :\n",
        "                  S2meanB2_1.append(S2RGB_imgA1B2_1[i][j])  \n",
        "S2meanrefA1_8 = np.array(S2meanrefA1_8)\n",
        "S2meanB2_1 = np.array(S2meanB2_1)\n",
        "\n",
        "S2rgbrefA1_8 = list()\n",
        "S2rgbB2_1 = list()\n",
        "for i in range(3):\n",
        "    S2rgbrefA1_8.append(S2meanrefA1_8[:,i].mean())\n",
        "    S2rgbB2_1.append(S2meanB2_1[:,i].mean())"
      ],
      "execution_count": 374,
      "outputs": []
    },
    {
      "cell_type": "code",
      "metadata": {
        "id": "EvxR0vtzOT_j"
      },
      "source": [
        "S2meanrefA1_9 = list()\n",
        "S2meanB3_1 = list()\n",
        "for i in range(S2RGB_imgA1B3_1.shape[0]): \n",
        "     for j in range(S2RGB_imgA1B3_1.shape[1]): \n",
        "                if 1769<i<1881 and 2019<j<2131 :\n",
        "                  S2meanrefA1_9.append(S2RGB_imgA1B3_1[i][j])\n",
        "                if 1770<i<1880 and 2015<j<2145 :\n",
        "                  S2meanB3_1.append(S2RGB_imgA1B3_1[i][j])  \n",
        "S2meanrefA1_9 = np.array(S2meanrefA1_9)\n",
        "S2meanB3_1 = np.array(S2meanB3_1)\n",
        "\n",
        "S2rgbrefA1_9 = list()\n",
        "S2rgbB3_1 = list()\n",
        "for i in range(3):\n",
        "    S2rgbrefA1_9.append(S2meanrefA1_9[:,i].mean())\n",
        "    S2rgbB3_1.append(S2meanB3_1[:,i].mean())"
      ],
      "execution_count": 375,
      "outputs": []
    },
    {
      "cell_type": "code",
      "metadata": {
        "id": "UWZfSBsiOT_j"
      },
      "source": [
        "S2meanrefA1_10 = list()\n",
        "S2meanB4_1 = list()\n",
        "for i in range(S2RGB_imgA1B4_1.shape[0]): \n",
        "     for j in range(S2RGB_imgA1B4_1.shape[1]): \n",
        "                if 1769<i<1881 and 2019<j<2131 :\n",
        "                  S2meanrefA1_10.append(S2RGB_imgA1B4_1[i][j])\n",
        "                if 1770<i<1880 and 2015<j<2145 :\n",
        "                  S2meanB4_1.append(S2RGB_imgA1B4_1[i][j])  \n",
        "S2meanrefA1_10 = np.array(S2meanrefA1_10)\n",
        "S2meanB4_1 = np.array(S2meanB4_1)\n",
        "\n",
        "S2rgbrefA1_10 = list()\n",
        "S2rgbB4_1 = list()\n",
        "for i in range(3):\n",
        "    S2rgbrefA1_10.append(S2meanrefA1_10[:,i].mean())\n",
        "    S2rgbB4_1.append(S2meanB4_1[:,i].mean())"
      ],
      "execution_count": 376,
      "outputs": []
    },
    {
      "cell_type": "code",
      "metadata": {
        "id": "E0iL7_rvOT_j"
      },
      "source": [
        "S2meanrefA1_11 = list()\n",
        "S2meanC1_1 = list()\n",
        "for i in range(S2RGB_imgA1C1_1.shape[0]): \n",
        "     for j in range(S2RGB_imgA1C1_1.shape[1]): \n",
        "                if 1769<i<1881 and 2019<j<2131 :\n",
        "                  S2meanrefA1_11.append(S2RGB_imgA1C1_1[i][j])\n",
        "                if 1770<i<1880 and 2015<j<2145 :\n",
        "                  S2meanC1_1.append(S2RGB_imgA1C1_1[i][j])  \n",
        "S2meanrefA1_11 = np.array(S2meanrefA1_11)\n",
        "S2meanC1_1 = np.array(S2meanC1_1)\n",
        "\n",
        "S2rgbrefA1_11 = list()\n",
        "S2rgbC1_1 = list()\n",
        "for i in range(3):\n",
        "    S2rgbrefA1_11.append(S2meanrefA1_11[:,i].mean())\n",
        "    S2rgbC1_1.append(S2meanC1_1[:,i].mean())"
      ],
      "execution_count": 377,
      "outputs": []
    },
    {
      "cell_type": "code",
      "metadata": {
        "id": "xYQ3ccu-OT_j"
      },
      "source": [
        "S2meanrefA1_12 = list()\n",
        "S2meanC2_1 = list()\n",
        "for i in range(S2RGB_imgA1C2_1.shape[0]): \n",
        "     for j in range(S2RGB_imgA1C2_1.shape[1]): \n",
        "                if 1769<i<1881 and 2019<j<2131 :\n",
        "                  S2meanrefA1_12.append(S2RGB_imgA1C2_1[i][j])\n",
        "                if 1770<i<1880 and 2015<j<2145 :\n",
        "                  S2meanC2_1.append(S2RGB_imgA1C2_1[i][j])  \n",
        "S2meanrefA1_12 = np.array(S2meanrefA1_12)\n",
        "S2meanC2_1 = np.array(S2meanC2_1)\n",
        "\n",
        "S2rgbrefA1_12 = list()\n",
        "S2rgbC2_1 = list()\n",
        "for i in range(3):\n",
        "    S2rgbrefA1_12.append(S2meanrefA1_12[:,i].mean())\n",
        "    S2rgbC2_1.append(S2meanC2_1[:,i].mean())"
      ],
      "execution_count": 378,
      "outputs": []
    },
    {
      "cell_type": "code",
      "metadata": {
        "id": "K7ZfvmhMOT_j"
      },
      "source": [
        "S2meanrefA1_13 = list()\n",
        "S2meanC3_1 = list()\n",
        "for i in range(S2RGB_imgA1C3_1.shape[0]): \n",
        "     for j in range(S2RGB_imgA1C3_1.shape[1]): \n",
        "                if 1769<i<1881 and 2019<j<2131 :\n",
        "                  S2meanrefA1_13.append(S2RGB_imgA1C3_1[i][j])\n",
        "                if 1770<i<1880 and 2015<j<2145 :\n",
        "                  S2meanC3_1.append(S2RGB_imgA1C3_1[i][j])  \n",
        "S2meanrefA1_13 = np.array(S2meanrefA1_13)\n",
        "S2meanC3_1 = np.array(S2meanC3_1)\n",
        "\n",
        "S2rgbrefA1_13 = list()\n",
        "S2rgbC3_1 = list()\n",
        "for i in range(3):\n",
        "    S2rgbrefA1_13.append(S2meanrefA1_13[:,i].mean())\n",
        "    S2rgbC3_1.append(S2meanC3_1[:,i].mean())"
      ],
      "execution_count": 379,
      "outputs": []
    },
    {
      "cell_type": "code",
      "metadata": {
        "id": "JnYE-7tIOT_j"
      },
      "source": [
        "S2meanrefA1_14 = list()\n",
        "S2meanC4_1 = list()\n",
        "for i in range(S2RGB_imgA1C4_1.shape[0]): \n",
        "     for j in range(S2RGB_imgA1C4_1.shape[1]): \n",
        "                if 1769<i<1881 and 2019<j<2131 :\n",
        "                  S2meanrefA1_14.append(S2RGB_imgA1C4_1[i][j])\n",
        "                if 1770<i<1880 and 2015<j<2145 :\n",
        "                  S2meanC4_1.append(S2RGB_imgA1C4_1[i][j])  \n",
        "S2meanrefA1_14 = np.array(S2meanrefA1_14)\n",
        "S2meanC4_1 = np.array(S2meanC4_1)\n",
        "\n",
        "S2rgbrefA1_14 = list()\n",
        "S2rgbC4_1 = list()\n",
        "for i in range(3):\n",
        "    S2rgbrefA1_14.append(S2meanrefA1_14[:,i].mean())\n",
        "    S2rgbC4_1.append(S2meanC4_1[:,i].mean())"
      ],
      "execution_count": 380,
      "outputs": []
    },
    {
      "cell_type": "code",
      "metadata": {
        "id": "whwVWrEAOT_j"
      },
      "source": [
        "S2meanrefA1_15 = list()\n",
        "S2meanD2_1 = list()\n",
        "for i in range(S2RGB_imgA1D2_1.shape[0]): \n",
        "     for j in range(S2RGB_imgA1D2_1.shape[1]): \n",
        "                if 1769<i<1881 and 2019<j<2131 :\n",
        "                  S2meanrefA1_15.append(S2RGB_imgA1D2_1[i][j])\n",
        "                if 1770<i<1880 and 2015<j<2145 :\n",
        "                  S2meanD2_1.append(S2RGB_imgA1D2_1[i][j])  \n",
        "S2meanrefA1_15 = np.array(S2meanrefA1_15)\n",
        "S2meanD2_1 = np.array(S2meanD2_1)\n",
        "\n",
        "S2rgbrefA1_15 = list()\n",
        "S2rgbD2_1 = list()\n",
        "for i in range(3):\n",
        "    S2rgbrefA1_15.append(S2meanrefA1_15[:,i].mean())\n",
        "    S2rgbD2_1.append(S2meanD2_1[:,i].mean())"
      ],
      "execution_count": 381,
      "outputs": []
    },
    {
      "cell_type": "code",
      "metadata": {
        "id": "UQ7zahmJOT_j"
      },
      "source": [
        "S2meanrefA1_16 = list()\n",
        "S2meanD3_1 = list()\n",
        "for i in range(S2RGB_imgA1D3_1.shape[0]): \n",
        "     for j in range(S2RGB_imgA1D3_1.shape[1]): \n",
        "                if 1769<i<1881 and 2019<j<2131 :\n",
        "                  S2meanrefA1_16.append(S2RGB_imgA1D3_1[i][j])\n",
        "                if 1770<i<1880 and 2015<j<2145 :\n",
        "                  S2meanD3_1.append(S2RGB_imgA1D3_1[i][j])  \n",
        "S2meanrefA1_16 = np.array(S2meanrefA1_16)\n",
        "S2meanD3_1 = np.array(S2meanD3_1)\n",
        "\n",
        "S2rgbrefA1_16 = list()\n",
        "S2rgbD3_1 = list()\n",
        "for i in range(3):\n",
        "    S2rgbrefA1_16.append(S2meanrefA1_16[:,i].mean())\n",
        "    S2rgbD3_1.append(S2meanD3_1[:,i].mean())"
      ],
      "execution_count": 382,
      "outputs": []
    },
    {
      "cell_type": "code",
      "metadata": {
        "id": "bYnOvjjUOT_k"
      },
      "source": [
        "S2meanrefA1_17= list()\n",
        "S2meanD4_1 = list()\n",
        "for i in range(S2RGB_imgA1D4_1.shape[0]): \n",
        "     for j in range(S2RGB_imgA1D4_1.shape[1]): \n",
        "                if 1769<i<1881 and 2019<j<2131 :\n",
        "                  S2meanrefA1_17.append(S2RGB_imgA1D4_1[i][j])\n",
        "                if 1770<i<1880 and 2015<j<2145 :\n",
        "                  S2meanD4_1.append(S2RGB_imgA1D4_1[i][j])  \n",
        "S2meanrefA1_17 = np.array(S2meanrefA1_14)\n",
        "S2meanD4_1 = np.array(S2meanD4_1)\n",
        "\n",
        "S2rgbrefA1_17 = list()\n",
        "S2rgbD4_1 = list()\n",
        "for i in range(3):\n",
        "    S2rgbrefA1_17.append(S2meanrefA1_17[:,i].mean())\n",
        "    S2rgbD4_1.append(S2meanD4_1[:,i].mean())"
      ],
      "execution_count": 383,
      "outputs": []
    },
    {
      "cell_type": "markdown",
      "metadata": {
        "id": "K91ffP7A3z1p"
      },
      "source": [
        "###HSV"
      ]
    },
    {
      "cell_type": "code",
      "metadata": {
        "id": "-7UCG8W938EP"
      },
      "source": [
        "S2meanrefA1_1 = list()\n",
        "S2meanA1_2 = list()\n",
        "for i in range(S2HSV_imgA1A1_1.shape[0]): #ให้ i รันตาม row หรือ shape[0] คือแถว มีทั้งหมด 4032 แถว ของภาพที่ปรับขนาดมาแล้ว\n",
        "     for j in range(S2HSV_imgA1A1_1.shape[1]): #ให้ j รันตาม colum มีทั้งหมด 3024 colum เช่น แถวที่ 1 เข้ามาให้รันครบ 3024colum\n",
        "                if 1769<i<1881 and 2019<j<2131 :\n",
        "                  S2meanrefA1_1.append(S2HSV_imgA1A1_1[i][j])\n",
        "                if 1770<i<1880 and 2015<j<2145 :\n",
        "                  S2meanA1_2.append(S2HSV_imgA1A1_1[i][j])  \n",
        "S2meanrefA1_1 = np.array(S2meanrefA1_1)\n",
        "S2meanA1_2 = np.array(S2meanA1_2)\n",
        "\n",
        "S2hsvrefA1_1 = list()\n",
        "S2hsvA1_2 = list()\n",
        "for i in range(3):\n",
        "    S2hsvrefA1_1.append(S2meanrefA1_1[:,i].mean())\n",
        "    S2hsvA1_2.append(S2meanA1_2[:,i].mean()) "
      ],
      "execution_count": 384,
      "outputs": []
    },
    {
      "cell_type": "code",
      "metadata": {
        "id": "62Gs05XN38EQ"
      },
      "source": [
        "S2meanrefA1_3 = list()\n",
        "S2meanA2_1 = list()\n",
        "for i in range(S2HSV_imgA1A2_1.shape[0]): \n",
        "     for j in range(S2HSV_imgA1A2_1.shape[1]): \n",
        "                if 1769<i<1881 and 2019<j<2131 :\n",
        "                  S2meanrefA1_3.append(S2HSV_imgA1A2_1[i][j])\n",
        "                if 1770<i<1880 and 2015<j<2145 :\n",
        "                  S2meanA2_1.append(S2HSV_imgA1A2_1[i][j])  \n",
        "S2meanrefA1_3 = np.array(S2meanrefA1_3)\n",
        "S2meanA2_1 = np.array(S2meanA2_1)\n",
        "\n",
        "S2hsvrefA1_3 = list()\n",
        "S2hsvA2_1 = list()\n",
        "for i in range(3):\n",
        "    S2hsvrefA1_3.append(S2meanrefA1_3[:,i].mean())\n",
        "    S2hsvA2_1.append(S2meanA2_1[:,i].mean())"
      ],
      "execution_count": 385,
      "outputs": []
    },
    {
      "cell_type": "code",
      "metadata": {
        "id": "rDdOPqR038EQ"
      },
      "source": [
        "S2meanrefA1_4 = list()\n",
        "S2meanA3_1 = list()\n",
        "for i in range(S2HSV_imgA1A3_1.shape[0]): \n",
        "     for j in range(S2HSV_imgA1A3_1.shape[1]): \n",
        "                if 1769<i<1881 and 2019<j<2131 :\n",
        "                  S2meanrefA1_4.append(S2HSV_imgA1A3_1[i][j])\n",
        "                if 1770<i<1880 and 2015<j<2145 :\n",
        "                  S2meanA3_1.append(S2HSV_imgA1A3_1[i][j])  \n",
        "S2meanrefA1_4 = np.array(S2meanrefA1_4)\n",
        "S2meanA3_1 = np.array(S2meanA3_1)\n",
        "\n",
        "S2hsvrefA1_4 = list()\n",
        "S2hsvA3_1 = list()\n",
        "for i in range(3):\n",
        "    S2hsvrefA1_4.append(S2meanrefA1_4[:,i].mean())\n",
        "    S2hsvA3_1.append(S2meanA3_1[:,i].mean())"
      ],
      "execution_count": 386,
      "outputs": []
    },
    {
      "cell_type": "code",
      "metadata": {
        "id": "PQG1Hr-e38ER"
      },
      "source": [
        "S2meanrefA1_5 = list()\n",
        "S2meanA3_51 = list()\n",
        "for i in range(S2HSV_imgA1A3_51.shape[0]): \n",
        "     for j in range(S2HSV_imgA1A3_51.shape[1]): \n",
        "                if 1769<i<1881 and 2019<j<2131 :\n",
        "                  S2meanrefA1_5.append(S2HSV_imgA1A3_51[i][j])\n",
        "                if 1770<i<1880 and 2015<j<2145 :\n",
        "                  S2meanA3_51.append(S2HSV_imgA1A3_51[i][j])  \n",
        "S2meanrefA1_5 = np.array(S2meanrefA1_5)\n",
        "S2meanA3_51 = np.array(S2meanA3_51)\n",
        "\n",
        "S2hsvrefA1_5 = list()\n",
        "S2hsvA3_51 = list()\n",
        "for i in range(3):\n",
        "    S2hsvrefA1_5.append(S2meanrefA1_5[:,i].mean())\n",
        "    S2hsvA3_51.append(S2meanA3_51[:,i].mean())"
      ],
      "execution_count": 387,
      "outputs": []
    },
    {
      "cell_type": "code",
      "metadata": {
        "id": "-gyjMDPc38ER"
      },
      "source": [
        "S2meanrefA1_6 = list()\n",
        "S2meanA4_1 = list()\n",
        "for i in range(S2HSV_imgA1A4_1.shape[0]): \n",
        "     for j in range(S2HSV_imgA1A4_1.shape[1]): \n",
        "                if 1769<i<1881 and 2019<j<2131 :\n",
        "                  S2meanrefA1_6.append(S2HSV_imgA1A4_1[i][j])\n",
        "                if 1770<i<1880 and 2015<j<2145 :\n",
        "                  S2meanA4_1.append(S2HSV_imgA1A4_1[i][j])  \n",
        "S2meanrefA1_6 = np.array(S2meanrefA1_6)\n",
        "S2meanA4_1 = np.array(S2meanA4_1)\n",
        "\n",
        "S2hsvrefA1_6 = list()\n",
        "S2hsvA4_1 = list()\n",
        "for i in range(3):\n",
        "    S2hsvrefA1_6.append(S2meanrefA1_6[:,i].mean())\n",
        "    S2hsvA4_1.append(S2meanA4_1[:,i].mean())"
      ],
      "execution_count": 388,
      "outputs": []
    },
    {
      "cell_type": "code",
      "metadata": {
        "id": "AHL4-ILN38ER"
      },
      "source": [
        "S2meanrefA1_7 = list()\n",
        "S2meanB1_1 = list()\n",
        "for i in range(S2HSV_imgA1B1_1.shape[0]): \n",
        "     for j in range(S2HSV_imgA1B1_1.shape[1]): \n",
        "                if 1769<i<1881 and 2019<j<2131 :\n",
        "                  S2meanrefA1_7.append(S2HSV_imgA1B1_1[i][j])\n",
        "                if 1770<i<1880 and 2015<j<2145 :\n",
        "                  S2meanB1_1.append(S2HSV_imgA1B1_1[i][j])  \n",
        "S2meanrefA1_7 = np.array(S2meanrefA1_7)\n",
        "S2meanB1_1 = np.array(S2meanB1_1)\n",
        "\n",
        "S2hsvrefA1_7 = list()\n",
        "S2hsvB1_1 = list()\n",
        "for i in range(3):\n",
        "    S2hsvrefA1_7.append(S2meanrefA1_7[:,i].mean())\n",
        "    S2hsvB1_1.append(S2meanB1_1[:,i].mean())"
      ],
      "execution_count": 389,
      "outputs": []
    },
    {
      "cell_type": "code",
      "metadata": {
        "id": "5zl5t_oP38ES"
      },
      "source": [
        "S2meanrefA1_8 = list()\n",
        "S2meanB2_1 = list()\n",
        "for i in range(S2HSV_imgA1B2_1.shape[0]): \n",
        "     for j in range(S2HSV_imgA1B2_1.shape[1]): \n",
        "                if 1769<i<1881 and 2019<j<2131 :\n",
        "                  S2meanrefA1_8.append(S2HSV_imgA1B2_1[i][j])\n",
        "                if 1770<i<1880 and 2015<j<2145 :\n",
        "                  S2meanB2_1.append(S2HSV_imgA1B2_1[i][j])  \n",
        "S2meanrefA1_8 = np.array(S2meanrefA1_8)\n",
        "S2meanB2_1 = np.array(S2meanB2_1)\n",
        "\n",
        "S2hsvrefA1_8 = list()\n",
        "S2hsvB2_1 = list()\n",
        "for i in range(3):\n",
        "    S2hsvrefA1_8.append(S2meanrefA1_8[:,i].mean())\n",
        "    S2hsvB2_1.append(S2meanB2_1[:,i].mean())"
      ],
      "execution_count": 390,
      "outputs": []
    },
    {
      "cell_type": "code",
      "metadata": {
        "id": "E1RqZXxZ38ES"
      },
      "source": [
        "S2meanrefA1_9 = list()\n",
        "S2meanB3_1 = list()\n",
        "for i in range(S2HSV_imgA1B3_1.shape[0]): \n",
        "     for j in range(S2HSV_imgA1B3_1.shape[1]): \n",
        "                if 1769<i<1881 and 2019<j<2131 :\n",
        "                  S2meanrefA1_9.append(S2HSV_imgA1B3_1[i][j])\n",
        "                if 1770<i<1880 and 2015<j<2145 :\n",
        "                  S2meanB3_1.append(S2HSV_imgA1B3_1[i][j])  \n",
        "S2meanrefA1_9 = np.array(S2meanrefA1_9)\n",
        "S2meanB3_1 = np.array(S2meanB3_1)\n",
        "\n",
        "S2hsvrefA1_9 = list()\n",
        "S2hsvB3_1 = list()\n",
        "for i in range(3):\n",
        "    S2hsvrefA1_9.append(S2meanrefA1_9[:,i].mean())\n",
        "    S2hsvB3_1.append(S2meanB3_1[:,i].mean())"
      ],
      "execution_count": 391,
      "outputs": []
    },
    {
      "cell_type": "code",
      "metadata": {
        "id": "p3kHLyi538ES"
      },
      "source": [
        "S2meanrefA1_10 = list()\n",
        "S2meanB4_1 = list()\n",
        "for i in range(S2HSV_imgA1B4_1.shape[0]): \n",
        "     for j in range(S2HSV_imgA1B4_1.shape[1]): \n",
        "                if 1769<i<1881 and 2019<j<2131 :\n",
        "                  S2meanrefA1_10.append(S2HSV_imgA1B4_1[i][j])\n",
        "                if 1770<i<1880 and 2015<j<2145 :\n",
        "                  S2meanB4_1.append(S2HSV_imgA1B4_1[i][j])  \n",
        "S2meanrefA1_10 = np.array(S2meanrefA1_10)\n",
        "S2meanB4_1 = np.array(S2meanB4_1)\n",
        "\n",
        "S2hsvrefA1_10 = list()\n",
        "S2hsvB4_1 = list()\n",
        "for i in range(3):\n",
        "    S2hsvrefA1_10.append(S2meanrefA1_10[:,i].mean())\n",
        "    S2hsvB4_1.append(S2meanB4_1[:,i].mean())"
      ],
      "execution_count": 392,
      "outputs": []
    },
    {
      "cell_type": "code",
      "metadata": {
        "id": "O8w3LpXU38ET"
      },
      "source": [
        "S2meanrefA1_11 = list()\n",
        "S2meanC1_1 = list()\n",
        "for i in range(S2HSV_imgA1C1_1.shape[0]): \n",
        "     for j in range(S2HSV_imgA1C1_1.shape[1]): \n",
        "                if 1769<i<1881 and 2019<j<2131 :\n",
        "                  S2meanrefA1_11.append(S2HSV_imgA1C1_1[i][j])\n",
        "                if 1770<i<1880 and 2015<j<2145 :\n",
        "                   S2meanC1_1.append(S2HSV_imgA1C1_1[i][j])  \n",
        "S2meanrefA1_11 = np.array(S2meanrefA1_11)\n",
        "S2meanC1_1 = np.array(S2meanC1_1)\n",
        "\n",
        "S2hsvrefA1_11 = list()\n",
        "S2hsvC1_1 = list()\n",
        "for i in range(3):\n",
        "    S2hsvrefA1_11.append(S2meanrefA1_11[:,i].mean())\n",
        "    S2hsvC1_1.append(S2meanC1_1[:,i].mean())"
      ],
      "execution_count": 393,
      "outputs": []
    },
    {
      "cell_type": "code",
      "metadata": {
        "id": "AzOf_HLF38ET"
      },
      "source": [
        "S2meanrefA1_12 = list()\n",
        "S2meanC2_1 = list()\n",
        "for i in range(S2HSV_imgA1C2_1.shape[0]): \n",
        "     for j in range(S2HSV_imgA1C2_1.shape[1]): \n",
        "                if 1769<i<1881 and 2019<j<2131 :\n",
        "                  S2meanrefA1_12.append(S2HSV_imgA1C2_1[i][j])\n",
        "                if 1770<i<1880 and 2015<j<2145 :\n",
        "                  S2meanC2_1.append(S2HSV_imgA1C2_1[i][j])  \n",
        "S2meanrefA1_12 = np.array(S2meanrefA1_12)\n",
        "S2meanC2_1 = np.array(S2meanC2_1)\n",
        "\n",
        "S2hsvrefA1_12 = list()\n",
        "S2hsvC2_1 = list()\n",
        "for i in range(3):\n",
        "    S2hsvrefA1_12.append(S2meanrefA1_12[:,i].mean())\n",
        "    S2hsvC2_1.append(S2meanC2_1[:,i].mean())"
      ],
      "execution_count": 394,
      "outputs": []
    },
    {
      "cell_type": "code",
      "metadata": {
        "id": "jwE3nPXZ38ET"
      },
      "source": [
        "S2meanrefA1_13 = list()\n",
        "S2meanC3_1 = list()\n",
        "for i in range(S2HSV_imgA1C3_1.shape[0]): \n",
        "     for j in range(S2HSV_imgA1C3_1.shape[1]): \n",
        "                if 1769<i<1881 and 2019<j<2131 :\n",
        "                  S2meanrefA1_13.append(S2HSV_imgA1C3_1[i][j])\n",
        "                if 1770<i<1880 and 2015<j<2145 :\n",
        "                  S2meanC3_1.append(S2HSV_imgA1C3_1[i][j])  \n",
        "S2meanrefA1_13 = np.array(S2meanrefA1_13)\n",
        "S2meanC3_1 = np.array(S2meanC3_1)\n",
        "\n",
        "S2hsvrefA1_13 = list()\n",
        "S2hsvC3_1 = list()\n",
        "for i in range(3):\n",
        "    S2hsvrefA1_13.append(S2meanrefA1_13[:,i].mean())\n",
        "    S2hsvC3_1.append(S2meanC3_1[:,i].mean())"
      ],
      "execution_count": 395,
      "outputs": []
    },
    {
      "cell_type": "code",
      "metadata": {
        "id": "5CiV9v1738EU"
      },
      "source": [
        "S2meanrefA1_14 = list()\n",
        "S2meanC4_1 = list()\n",
        "for i in range(S2HSV_imgA1C4_1.shape[0]): \n",
        "     for j in range(S2HSV_imgA1C4_1.shape[1]): \n",
        "                if 1769<i<1881 and 2019<j<2131 :\n",
        "                  S2meanrefA1_14.append(S2HSV_imgA1C4_1[i][j])\n",
        "                if 1770<i<1880 and 2015<j<2145 :\n",
        "                  S2meanC4_1.append(S2HSV_imgA1C4_1[i][j])  \n",
        "S2meanrefA1_14 = np.array(S2meanrefA1_14)\n",
        "S2meanC4_1 = np.array(S2meanC4_1)\n",
        "\n",
        "S2hsvrefA1_14 = list()\n",
        "S2hsvC4_1 = list()\n",
        "for i in range(3):\n",
        "    S2hsvrefA1_14.append(S2meanrefA1_14[:,i].mean())\n",
        "    S2hsvC4_1.append(S2meanC4_1[:,i].mean())"
      ],
      "execution_count": 396,
      "outputs": []
    },
    {
      "cell_type": "code",
      "metadata": {
        "id": "FQZ1oTeg38EU"
      },
      "source": [
        "S2meanrefA1_15 = list()\n",
        "S2meanD2_1 = list()\n",
        "for i in range(S2HSV_imgA1D2_1.shape[0]): \n",
        "     for j in range(S2HSV_imgA1D2_1.shape[1]): \n",
        "                if 1769<i<1881 and 2019<j<2131 :\n",
        "                  S2meanrefA1_15.append(S2HSV_imgA1D2_1[i][j])\n",
        "                if 1770<i<1880 and 2015<j<2145 :\n",
        "                  S2meanD2_1.append(S2HSV_imgA1D2_1[i][j])  \n",
        "S2meanrefA1_15 = np.array(S2meanrefA1_15)\n",
        "S2meanD2_1 = np.array(S2meanD2_1)\n",
        "\n",
        "S2hsvrefA1_15 = list()\n",
        "S2hsvD2_1 = list()\n",
        "for i in range(3):\n",
        "    S2hsvrefA1_15.append(S2meanrefA1_15[:,i].mean())\n",
        "    S2hsvD2_1.append(S2meanD2_1[:,i].mean())"
      ],
      "execution_count": 397,
      "outputs": []
    },
    {
      "cell_type": "code",
      "metadata": {
        "id": "wr9WHr4N38EV"
      },
      "source": [
        "S2meanrefA1_16 = list()\n",
        "S2meanD3_1 = list()\n",
        "for i in range(S2HSV_imgA1D3_1.shape[0]): \n",
        "     for j in range(S2HSV_imgA1D3_1.shape[1]): \n",
        "                if 1769<i<1881 and 2019<j<2131 :\n",
        "                  S2meanrefA1_16.append(S2HSV_imgA1D3_1[i][j])\n",
        "                if 1770<i<1880 and 2015<j<2145 :\n",
        "                  S2meanD3_1.append(S2HSV_imgA1D3_1[i][j])  \n",
        "S2meanrefA1_16 = np.array(S2meanrefA1_16)\n",
        "S2meanD3_1 = np.array(S2meanD3_1)\n",
        "\n",
        "S2hsvrefA1_16 = list()\n",
        "S2hsvD3_1 = list()\n",
        "for i in range(3):\n",
        "    S2hsvrefA1_16.append(S2meanrefA1_16[:,i].mean())\n",
        "    S2hsvD3_1.append(S2meanD3_1[:,i].mean())"
      ],
      "execution_count": 398,
      "outputs": []
    },
    {
      "cell_type": "code",
      "metadata": {
        "id": "jkHML5jK38EV"
      },
      "source": [
        "S2meanrefA1_17= list()\n",
        "S2meanD4_1 = list()\n",
        "for i in range(S2HSV_imgA1D4_1.shape[0]): \n",
        "     for j in range(S2HSV_imgA1D4_1.shape[1]): \n",
        "                if 1769<i<1881 and 2019<j<2131 :\n",
        "                  S2meanrefA1_17.append(S2HSV_imgA1D4_1[i][j])\n",
        "                if 1770<i<1880 and 2015<j<2145 :\n",
        "                  S2meanD4_1.append(S2HSV_imgA1D4_1[i][j])  \n",
        "S2meanrefA1_17 = np.array(S2meanrefA1_14)\n",
        "S2meanD4_1 = np.array(S2meanD4_1)\n",
        "\n",
        "S2hsvrefA1_17 = list()\n",
        "S2hsvD4_1 = list()\n",
        "for i in range(3):\n",
        "    S2hsvrefA1_17.append(S2meanrefA1_17[:,i].mean())\n",
        "    S2hsvD4_1.append(S2meanD4_1[:,i].mean())"
      ],
      "execution_count": 399,
      "outputs": []
    },
    {
      "cell_type": "markdown",
      "metadata": {
        "id": "UyfpA9axOKdX"
      },
      "source": [
        "##Set3"
      ]
    },
    {
      "cell_type": "markdown",
      "metadata": {
        "id": "Nc5jeIh8BMnk"
      },
      "source": [
        "###RGB"
      ]
    },
    {
      "cell_type": "code",
      "metadata": {
        "id": "vzu7ETU0Q8KG"
      },
      "source": [
        "S3meanrefA1_1 = list()\n",
        "S3meanA1_2 = list()\n",
        "for i in range(S3RGB_imgA1A1_1.shape[0]): #ให้ i รันตาม row หรือ shape[0] คือแถว มีทั้งหมด 4032 แถว ของภาพที่ปรับขนาดมาแล้ว\n",
        "     for j in range(S3RGB_imgA1A1_1.shape[1]): #ให้ j รันตาม colum มีทั้งหมด 3024 colum เช่น แถวที่ 1 เข้ามาให้รันครบ 3024colum\n",
        "                if 1769<i<1881 and 2019<j<2131 :\n",
        "                  S3meanrefA1_1.append(S3RGB_imgA1A1_1[i][j])\n",
        "                if 1770<i<1880 and 2015<j<2145 :\n",
        "                  S3meanA1_2.append(S3RGB_imgA1A1_1[i][j])  \n",
        "S3meanrefA1_1 = np.array(S3meanrefA1_1)\n",
        "S3meanA1_2 = np.array(S3meanA1_2)\n",
        "\n",
        "S3rgbrefA1_1 = list()\n",
        "S3rgbA1_2 = list()\n",
        "for i in range(3):\n",
        "    S3rgbrefA1_1.append(S3meanrefA1_1[:,i].mean())\n",
        "    S3rgbA1_2.append(S3meanA1_2[:,i].mean()) "
      ],
      "execution_count": 400,
      "outputs": []
    },
    {
      "cell_type": "code",
      "metadata": {
        "id": "JcDCL03-Q8KG"
      },
      "source": [
        "S3meanrefA1_3 = list()\n",
        "S3meanA2_1 = list()\n",
        "for i in range(S3RGB_imgA1A2_1.shape[0]): \n",
        "     for j in range(S3RGB_imgA1A2_1.shape[1]): \n",
        "                if 1769<i<1881 and 2019<j<2131 :\n",
        "                  S3meanrefA1_3.append(S3RGB_imgA1A2_1[i][j])\n",
        "                if 1770<i<1880 and 2015<j<2145 :\n",
        "                  S3meanA2_1.append(S3RGB_imgA1A2_1[i][j])  \n",
        "S3meanrefA1_3 = np.array(S3meanrefA1_3)\n",
        "S3meanA2_1 = np.array(S3meanA2_1)\n",
        "\n",
        "S3rgbrefA1_3 = list()\n",
        "S3rgbA2_1 = list()\n",
        "for i in range(3):\n",
        "    S3rgbrefA1_3.append(S3meanrefA1_3[:,i].mean())\n",
        "    S3rgbA2_1.append(S3meanA2_1[:,i].mean())"
      ],
      "execution_count": 401,
      "outputs": []
    },
    {
      "cell_type": "code",
      "metadata": {
        "id": "olk_e71jQ8KG"
      },
      "source": [
        "S3meanrefA1_4 = list()\n",
        "S3meanA3_1 = list()\n",
        "for i in range(S3RGB_imgA1A3_1.shape[0]): \n",
        "     for j in range(S3RGB_imgA1A3_1.shape[1]): \n",
        "                if 1769<i<1881 and 2019<j<2131 :\n",
        "                  S3meanrefA1_4.append(S3RGB_imgA1A3_1[i][j])\n",
        "                if 1770<i<1880 and 2015<j<2145 :\n",
        "                  S3meanA3_1.append(S3RGB_imgA1A3_1[i][j])  \n",
        "S3meanrefA1_4 = np.array(S3meanrefA1_4)\n",
        "S3meanA3_1 = np.array(S3meanA3_1)\n",
        "\n",
        "S3rgbrefA1_4 = list()\n",
        "S3rgbA3_1 = list()\n",
        "for i in range(3):\n",
        "    S3rgbrefA1_4.append(S3meanrefA1_4[:,i].mean())\n",
        "    S3rgbA3_1.append(S3meanA3_1[:,i].mean())"
      ],
      "execution_count": 402,
      "outputs": []
    },
    {
      "cell_type": "code",
      "metadata": {
        "id": "4ubTTwCYQ8KG"
      },
      "source": [
        "S3meanrefA1_5 = list()\n",
        "S3meanA3_51 = list()\n",
        "for i in range(S3RGB_imgA1A3_51.shape[0]): \n",
        "     for j in range(S3RGB_imgA1A3_51.shape[1]): \n",
        "                if 1769<i<1881 and 2019<j<2131 :\n",
        "                  S3meanrefA1_5.append(S3RGB_imgA1A3_51[i][j])\n",
        "                if 1770<i<1880 and 2015<j<2145 :\n",
        "                  S3meanA3_51.append(S3RGB_imgA1A3_51[i][j])  \n",
        "S3meanrefA1_5 = np.array(S3meanrefA1_5)\n",
        "S3meanA3_51 = np.array(S3meanA3_51)\n",
        "\n",
        "S3rgbrefA1_5 = list()\n",
        "S3rgbA3_51 = list()\n",
        "for i in range(3):\n",
        "    S3rgbrefA1_5.append(S3meanrefA1_5[:,i].mean())\n",
        "    S3rgbA3_51.append(S3meanA3_51[:,i].mean())"
      ],
      "execution_count": 403,
      "outputs": []
    },
    {
      "cell_type": "code",
      "metadata": {
        "id": "fxg9nXv8Q8KG"
      },
      "source": [
        "S3meanrefA1_6 = list()\n",
        "S3meanA4_1 = list()\n",
        "for i in range(S3RGB_imgA1A4_1.shape[0]): \n",
        "     for j in range(S3RGB_imgA1A4_1.shape[1]): \n",
        "                if 1769<i<1881 and 2019<j<2131 :\n",
        "                  S3meanrefA1_6.append(S3RGB_imgA1A4_1[i][j])\n",
        "                if 1770<i<1880 and 2015<j<2145 :\n",
        "                  S3meanA4_1.append(S3RGB_imgA1A4_1[i][j])  \n",
        "S3meanrefA1_6 = np.array(S3meanrefA1_6)\n",
        "S3meanA4_1 = np.array(S3meanA4_1)\n",
        "\n",
        "S3rgbrefA1_6 = list()\n",
        "S3rgbA4_1 = list()\n",
        "for i in range(3):\n",
        "    S3rgbrefA1_6.append(S3meanrefA1_6[:,i].mean())\n",
        "    S3rgbA4_1.append(S3meanA4_1[:,i].mean())"
      ],
      "execution_count": 404,
      "outputs": []
    },
    {
      "cell_type": "code",
      "metadata": {
        "id": "EOz8gLLYQ8KG"
      },
      "source": [
        "S3meanrefA1_7 = list()\n",
        "S3meanB1_1 = list()\n",
        "for i in range(S3RGB_imgA1B1_1.shape[0]): \n",
        "     for j in range(S3RGB_imgA1B1_1.shape[1]): \n",
        "                if 1769<i<1881 and 2019<j<2131 :\n",
        "                  S3meanrefA1_7.append(S3RGB_imgA1B1_1[i][j])\n",
        "                if 1770<i<1880 and 2015<j<2145 :\n",
        "                  S3meanB1_1.append(S3RGB_imgA1B1_1[i][j])  \n",
        "S3meanrefA1_7 = np.array(S3meanrefA1_7)\n",
        "S3meanB1_1 = np.array(S3meanB1_1)\n",
        "\n",
        "S3rgbrefA1_7 = list()\n",
        "S3rgbB1_1 = list()\n",
        "for i in range(3):\n",
        "    S3rgbrefA1_7.append(S3meanrefA1_7[:,i].mean())\n",
        "    S3rgbB1_1.append(S3meanB1_1[:,i].mean())"
      ],
      "execution_count": 405,
      "outputs": []
    },
    {
      "cell_type": "code",
      "metadata": {
        "id": "9Hxao6vXQ8KH"
      },
      "source": [
        "S3meanrefA1_8 = list()\n",
        "S3meanB2_1 = list()\n",
        "for i in range(S3RGB_imgA1B2_1.shape[0]): \n",
        "     for j in range(S3RGB_imgA1B2_1.shape[1]): \n",
        "                if 1769<i<1881 and 2019<j<2131 :\n",
        "                  S3meanrefA1_8.append(S3RGB_imgA1B2_1[i][j])\n",
        "                if 1770<i<1880 and 2015<j<2145 :\n",
        "                  S3meanB2_1.append(S3RGB_imgA1B2_1[i][j])  \n",
        "S3meanrefA1_8 = np.array(S3meanrefA1_8)\n",
        "S3meanB2_1 = np.array(S3meanB2_1)\n",
        "\n",
        "S3rgbrefA1_8 = list()\n",
        "S3rgbB2_1 = list()\n",
        "for i in range(3):\n",
        "    S3rgbrefA1_8.append(S3meanrefA1_8[:,i].mean())\n",
        "    S3rgbB2_1.append(S3meanB2_1[:,i].mean())"
      ],
      "execution_count": 406,
      "outputs": []
    },
    {
      "cell_type": "code",
      "metadata": {
        "id": "x3URzi7NQ8KH"
      },
      "source": [
        "S3meanrefA1_9 = list()\n",
        "S3meanB3_1 = list()\n",
        "for i in range(S3RGB_imgA1B3_1.shape[0]): \n",
        "     for j in range(S3RGB_imgA1B3_1.shape[1]): \n",
        "                if 1769<i<1881 and 2019<j<2131 :\n",
        "                  S3meanrefA1_9.append(S3RGB_imgA1B3_1[i][j])\n",
        "                if 1770<i<1880 and 2015<j<2145 :\n",
        "                  S3meanB3_1.append(S3RGB_imgA1B3_1[i][j])  \n",
        "S3meanrefA1_9 = np.array(S3meanrefA1_9)\n",
        "S3meanB3_1 = np.array(S3meanB3_1)\n",
        "\n",
        "S3rgbrefA1_9 = list()\n",
        "S3rgbB3_1 = list()\n",
        "for i in range(3):\n",
        "    S3rgbrefA1_9.append(S3meanrefA1_9[:,i].mean())\n",
        "    S3rgbB3_1.append(S3meanB3_1[:,i].mean())"
      ],
      "execution_count": 407,
      "outputs": []
    },
    {
      "cell_type": "code",
      "metadata": {
        "id": "ll53-jAbQ8KH"
      },
      "source": [
        "S3meanrefA1_10 = list()\n",
        "S3meanB4_1 = list()\n",
        "for i in range(S3RGB_imgA1B4_1.shape[0]): \n",
        "     for j in range(S3RGB_imgA1B4_1.shape[1]): \n",
        "                if 1769<i<1881 and 2019<j<2131 :\n",
        "                  S3meanrefA1_10.append(S3RGB_imgA1B4_1[i][j])\n",
        "                if 1770<i<1880 and 2015<j<2145 :\n",
        "                  S3meanB4_1.append(S3RGB_imgA1B4_1[i][j])  \n",
        "S3meanrefA1_10 = np.array(S3meanrefA1_10)\n",
        "S3meanB4_1 = np.array(S3meanB4_1)\n",
        "\n",
        "S3rgbrefA1_10 = list()\n",
        "S3rgbB4_1 = list()\n",
        "for i in range(3):\n",
        "    S3rgbrefA1_10.append(S3meanrefA1_10[:,i].mean())\n",
        "    S3rgbB4_1.append(S3meanB4_1[:,i].mean())"
      ],
      "execution_count": 408,
      "outputs": []
    },
    {
      "cell_type": "code",
      "metadata": {
        "id": "G0LKXkLIQ8KH"
      },
      "source": [
        "S3meanrefA1_11 = list()\n",
        "S3meanC1_1 = list()\n",
        "for i in range(S3RGB_imgA1C1_1.shape[0]): \n",
        "     for j in range(S3RGB_imgA1C1_1.shape[1]): \n",
        "                if 1769<i<1881 and 2019<j<2131 :\n",
        "                  S3meanrefA1_11.append(S3RGB_imgA1C1_1[i][j])\n",
        "                if 1770<i<1880 and 2015<j<2145 :\n",
        "                  S3meanC1_1.append(S3RGB_imgA1C1_1[i][j])  \n",
        "S3meanrefA1_11 = np.array(S3meanrefA1_11)\n",
        "S3meanC1_1 = np.array(S3meanC1_1)\n",
        "\n",
        "S3rgbrefA1_11 = list()\n",
        "S3rgbC1_1 = list()\n",
        "for i in range(3):\n",
        "    S3rgbrefA1_11.append(S3meanrefA1_11[:,i].mean())\n",
        "    S3rgbC1_1.append(S3meanC1_1[:,i].mean())"
      ],
      "execution_count": 409,
      "outputs": []
    },
    {
      "cell_type": "code",
      "metadata": {
        "id": "JepvVeIBQ8KH"
      },
      "source": [
        "S3meanrefA1_12 = list()\n",
        "S3meanC2_1 = list()\n",
        "for i in range(S3RGB_imgA1C2_1.shape[0]): \n",
        "     for j in range(S3RGB_imgA1C2_1.shape[1]): \n",
        "                if 1769<i<1881 and 2019<j<2131 :\n",
        "                  S3meanrefA1_12.append(S3RGB_imgA1C2_1[i][j])\n",
        "                if 1770<i<1880 and 2015<j<2145 :\n",
        "                  S3meanC2_1.append(S3RGB_imgA1C2_1[i][j])  \n",
        "S3meanrefA1_12 = np.array(S3meanrefA1_12)\n",
        "S3meanC2_1 = np.array(S3meanC2_1)\n",
        "\n",
        "S3rgbrefA1_12 = list()\n",
        "S3rgbC2_1 = list()\n",
        "for i in range(3):\n",
        "    S3rgbrefA1_12.append(S3meanrefA1_12[:,i].mean())\n",
        "    S3rgbC2_1.append(S3meanC2_1[:,i].mean())"
      ],
      "execution_count": 410,
      "outputs": []
    },
    {
      "cell_type": "code",
      "metadata": {
        "id": "IFRuGLFoQ8KH"
      },
      "source": [
        "S3meanrefA1_13 = list()\n",
        "S3meanC3_1 = list()\n",
        "for i in range(S3RGB_imgA1C3_1.shape[0]): \n",
        "     for j in range(S3RGB_imgA1C3_1.shape[1]): \n",
        "                if 1769<i<1881 and 2019<j<2131 :\n",
        "                  S3meanrefA1_13.append(S3RGB_imgA1C3_1[i][j])\n",
        "                if 1770<i<1880 and 2015<j<2145 :\n",
        "                  S3meanC3_1.append(S3RGB_imgA1C3_1[i][j])  \n",
        "S3meanrefA1_13 = np.array(S3meanrefA1_13)\n",
        "S3meanC3_1 = np.array(S3meanC3_1)\n",
        "\n",
        "S3rgbrefA1_13 = list()\n",
        "S3rgbC3_1 = list()\n",
        "for i in range(3):\n",
        "    S3rgbrefA1_13.append(S3meanrefA1_13[:,i].mean())\n",
        "    S3rgbC3_1.append(S3meanC3_1[:,i].mean())"
      ],
      "execution_count": 411,
      "outputs": []
    },
    {
      "cell_type": "code",
      "metadata": {
        "id": "r5vFfCOwQ8KH"
      },
      "source": [
        "S3meanrefA1_14 = list()\n",
        "S3meanC4_1 = list()\n",
        "for i in range(S3RGB_imgA1C4_1.shape[0]): \n",
        "     for j in range(S3RGB_imgA1C4_1.shape[1]): \n",
        "                if 1769<i<1881 and 2019<j<2131 :\n",
        "                  S3meanrefA1_14.append(S3RGB_imgA1C4_1[i][j])\n",
        "                if 1770<i<1880 and 2015<j<2145 :\n",
        "                  S3meanC4_1.append(S3RGB_imgA1C4_1[i][j])  \n",
        "S3meanrefA1_14 = np.array(S3meanrefA1_14)\n",
        "S3meanC4_1 = np.array(S3meanC4_1)\n",
        "\n",
        "S3rgbrefA1_14 = list()\n",
        "S3rgbC4_1 = list()\n",
        "for i in range(3):\n",
        "    S3rgbrefA1_14.append(S3meanrefA1_14[:,i].mean())\n",
        "    S3rgbC4_1.append(S3meanC4_1[:,i].mean())"
      ],
      "execution_count": 412,
      "outputs": []
    },
    {
      "cell_type": "code",
      "metadata": {
        "id": "k8R-0grfQ8KH"
      },
      "source": [
        "S3meanrefA1_15 = list()\n",
        "S3meanD2_1 = list()\n",
        "for i in range(S3RGB_imgA1D2_1.shape[0]): \n",
        "     for j in range(S3RGB_imgA1D2_1.shape[1]): \n",
        "                if 1769<i<1881 and 2019<j<2131 :\n",
        "                  S3meanrefA1_15.append(S3RGB_imgA1D2_1[i][j])\n",
        "                if 1770<i<1880 and 2015<j<2145 :\n",
        "                  S3meanD2_1.append(S3RGB_imgA1D2_1[i][j])  \n",
        "S3meanrefA1_15 = np.array(S3meanrefA1_15)\n",
        "S3meanD2_1 = np.array(S3meanD2_1)\n",
        "\n",
        "S3rgbrefA1_15 = list()\n",
        "S3rgbD2_1 = list()\n",
        "for i in range(3):\n",
        "    S3rgbrefA1_15.append(S3meanrefA1_15[:,i].mean())\n",
        "    S3rgbD2_1.append(S3meanD2_1[:,i].mean())"
      ],
      "execution_count": 413,
      "outputs": []
    },
    {
      "cell_type": "code",
      "metadata": {
        "id": "6QQq38GUQ8KI"
      },
      "source": [
        "S3meanrefA1_16 = list()\n",
        "S3meanD3_1 = list()\n",
        "for i in range(S3RGB_imgA1D3_1.shape[0]): \n",
        "     for j in range(S3RGB_imgA1D3_1.shape[1]): \n",
        "                if 1769<i<1881 and 2019<j<2131 :\n",
        "                  S3meanrefA1_16.append(S3RGB_imgA1D3_1[i][j])\n",
        "                if 1770<i<1880 and 2015<j<2145 :\n",
        "                  S3meanD3_1.append(S3RGB_imgA1D3_1[i][j])  \n",
        "S3meanrefA1_16 = np.array(S3meanrefA1_16)\n",
        "S3meanD3_1 = np.array(S3meanD3_1)\n",
        "\n",
        "S3rgbrefA1_16 = list()\n",
        "S3rgbD3_1 = list()\n",
        "for i in range(3):\n",
        "    S3rgbrefA1_16.append(S3meanrefA1_16[:,i].mean())\n",
        "    S3rgbD3_1.append(S3meanD3_1[:,i].mean())"
      ],
      "execution_count": 414,
      "outputs": []
    },
    {
      "cell_type": "code",
      "metadata": {
        "id": "fC5f7pymQ8KI"
      },
      "source": [
        "S3meanrefA1_17= list()\n",
        "S3meanD4_1 = list()\n",
        "for i in range(S3RGB_imgA1D4_1.shape[0]): \n",
        "     for j in range(S3RGB_imgA1D4_1.shape[1]): \n",
        "                if 1769<i<1881 and 2019<j<2131 :\n",
        "                  S3meanrefA1_17.append(S3RGB_imgA1D4_1[i][j])\n",
        "                if 1770<i<1880 and 2015<j<2145 :\n",
        "                  S3meanD4_1.append(S3RGB_imgA1D4_1[i][j])  \n",
        "S3meanrefA1_17 = np.array(S3meanrefA1_14)\n",
        "S3meanD4_1 = np.array(S3meanD4_1)\n",
        "\n",
        "S3rgbrefA1_17 = list()\n",
        "S3rgbD4_1 = list()\n",
        "for i in range(3):\n",
        "    S3rgbrefA1_17.append(S3meanrefA1_17[:,i].mean())\n",
        "    S3rgbD4_1.append(S3meanD4_1[:,i].mean())"
      ],
      "execution_count": 415,
      "outputs": []
    },
    {
      "cell_type": "markdown",
      "metadata": {
        "id": "WV6fij-YBTHT"
      },
      "source": [
        "###HSV"
      ]
    },
    {
      "cell_type": "code",
      "metadata": {
        "id": "CpXqpyMABXOK"
      },
      "source": [
        "S3meanrefA1_1 = list()\n",
        "S3meanA1_2 = list()\n",
        "for i in range(S3HSV_imgA1A1_1.shape[0]): #ให้ i รันตาม row หรือ shape[0] คือแถว มีทั้งหมด 4032 แถว ของภาพที่ปรับขนาดมาแล้ว\n",
        "     for j in range(S3HSV_imgA1A1_1.shape[1]): #ให้ j รันตาม colum มีทั้งหมด 3024 colum เช่น แถวที่ 1 เข้ามาให้รันครบ 3024colum\n",
        "                if 1769<i<1881 and 2019<j<2131 :\n",
        "                  S3meanrefA1_1.append(S3HSV_imgA1A1_1[i][j])\n",
        "                if 1770<i<1880 and 2015<j<2145 :\n",
        "                  S3meanA1_2.append(S3HSV_imgA1A1_1[i][j])  \n",
        "S3meanrefA1_1 = np.array(S3meanrefA1_1)\n",
        "S3meanA1_2 = np.array(S3meanA1_2)\n",
        "\n",
        "S3hsvrefA1_1 = list() \n",
        "S3hsvA1_2 = list()\n",
        "for i in range(3):\n",
        "    S3hsvrefA1_1.append(S3meanrefA1_1[:,i].mean())\n",
        "    S3hsvA1_2.append(S3meanA1_2[:,i].mean()) "
      ],
      "execution_count": 416,
      "outputs": []
    },
    {
      "cell_type": "code",
      "metadata": {
        "id": "yeynuRjcBXOL"
      },
      "source": [
        "S3meanrefA1_3 = list()\n",
        "S3meanA2_1 = list()\n",
        "for i in range(S3HSV_imgA1A2_1.shape[0]): \n",
        "     for j in range(S3HSV_imgA1A2_1.shape[1]): \n",
        "                if 1769<i<1881 and 2019<j<2131 :\n",
        "                  S3meanrefA1_3.append(S3HSV_imgA1A2_1[i][j])\n",
        "                if 1770<i<1880 and 2015<j<2145 :\n",
        "                  S3meanA2_1.append(S3HSV_imgA1A2_1[i][j])  \n",
        "S3meanrefA1_3 = np.array(S3meanrefA1_3)\n",
        "S3meanA2_1 = np.array(S3meanA2_1)\n",
        "\n",
        "S3hsvrefA1_3 = list()\n",
        "S3hsvA2_1 = list()\n",
        "for i in range(3):\n",
        "    S3hsvrefA1_3.append(S3meanrefA1_3[:,i].mean())\n",
        "    S3hsvA2_1.append(S3meanA2_1[:,i].mean())"
      ],
      "execution_count": 417,
      "outputs": []
    },
    {
      "cell_type": "code",
      "metadata": {
        "id": "qIy6fapuBXOL"
      },
      "source": [
        "S3meanrefA1_4 = list()\n",
        "S3meanA3_1 = list()\n",
        "for i in range(S3HSV_imgA1A3_1.shape[0]): \n",
        "     for j in range(S3HSV_imgA1A3_1.shape[1]): \n",
        "                if 1769<i<1881 and 2019<j<2131 :\n",
        "                  S3meanrefA1_4.append(S3HSV_imgA1A3_1[i][j])\n",
        "                if 1770<i<1880 and 2015<j<2145 :\n",
        "                  S3meanA3_1.append(S3HSV_imgA1A3_1[i][j])  \n",
        "S3meanrefA1_4 = np.array(S3meanrefA1_4)\n",
        "S3meanA3_1 = np.array(S3meanA3_1)\n",
        "\n",
        "S3hsvrefA1_4 = list()\n",
        "S3hsvA3_1 = list()\n",
        "for i in range(3):\n",
        "    S3hsvrefA1_4.append(S3meanrefA1_4[:,i].mean())\n",
        "    S3hsvA3_1.append(S3meanA3_1[:,i].mean())"
      ],
      "execution_count": 418,
      "outputs": []
    },
    {
      "cell_type": "code",
      "metadata": {
        "id": "6aVmtceTBXOL"
      },
      "source": [
        "S3meanrefA1_5 = list()\n",
        "S3meanA3_51 = list()\n",
        "for i in range(S3HSV_imgA1A3_51.shape[0]): \n",
        "     for j in range(S3HSV_imgA1A3_51.shape[1]): \n",
        "                if 1769<i<1881 and 2019<j<2131 :\n",
        "                  S3meanrefA1_5.append(S3HSV_imgA1A3_51[i][j])\n",
        "                if 1770<i<1880 and 2015<j<2145 :\n",
        "                  S3meanA3_51.append(S3HSV_imgA1A3_51[i][j])  \n",
        "S3meanrefA1_5 = np.array(S3meanrefA1_5)\n",
        "S3meanA3_51 = np.array(S3meanA3_51)\n",
        "\n",
        "S3hsvrefA1_5 = list()\n",
        "S3hsvA3_51 = list()\n",
        "for i in range(3):\n",
        "    S3hsvrefA1_5.append(S3meanrefA1_5[:,i].mean())\n",
        "    S3hsvA3_51.append(S3meanA3_51[:,i].mean())"
      ],
      "execution_count": 419,
      "outputs": []
    },
    {
      "cell_type": "code",
      "metadata": {
        "id": "qLfVtbivBXOL"
      },
      "source": [
        "S3meanrefA1_6 = list()\n",
        "S3meanA4_1 = list()\n",
        "for i in range(S3HSV_imgA1A4_1.shape[0]): \n",
        "     for j in range(S3HSV_imgA1A4_1.shape[1]): \n",
        "                if 1769<i<1881 and 2019<j<2131 :\n",
        "                  S3meanrefA1_6.append(S3HSV_imgA1A4_1[i][j])\n",
        "                if 1770<i<1880 and 2015<j<2145 :\n",
        "                  S3meanA4_1.append(S3HSV_imgA1A4_1[i][j])  \n",
        "S3meanrefA1_6 = np.array(S3meanrefA1_6)\n",
        "S3meanA4_1 = np.array(S3meanA4_1)\n",
        "\n",
        "S3hsvrefA1_6 = list()\n",
        "S3hsvA4_1 = list()\n",
        "for i in range(3):\n",
        "    S3hsvrefA1_6.append(S3meanrefA1_6[:,i].mean())\n",
        "    S3hsvA4_1.append(S3meanA4_1[:,i].mean())"
      ],
      "execution_count": 420,
      "outputs": []
    },
    {
      "cell_type": "code",
      "metadata": {
        "id": "q2Q-WdS7BXOL"
      },
      "source": [
        "S3meanrefA1_7 = list()\n",
        "S3meanB1_1 = list()\n",
        "for i in range(S3HSV_imgA1B1_1.shape[0]): \n",
        "     for j in range(S3HSV_imgA1B1_1.shape[1]): \n",
        "                if 1769<i<1881 and 2019<j<2131 :\n",
        "                  S3meanrefA1_7.append(S3HSV_imgA1B1_1[i][j])\n",
        "                if 1770<i<1880 and 2015<j<2145 :\n",
        "                  S3meanB1_1.append(S3HSV_imgA1B1_1[i][j])  \n",
        "S3meanrefA1_7 = np.array(S3meanrefA1_7)\n",
        "S3meanB1_1 = np.array(S3meanB1_1)\n",
        "\n",
        "S3hsvrefA1_7 = list()\n",
        "S3hsvB1_1 = list()\n",
        "for i in range(3):\n",
        "    S3hsvrefA1_7.append(S3meanrefA1_7[:,i].mean())\n",
        "    S3hsvB1_1.append(S3meanB1_1[:,i].mean())"
      ],
      "execution_count": 421,
      "outputs": []
    },
    {
      "cell_type": "code",
      "metadata": {
        "id": "J08qg7pfBXOM"
      },
      "source": [
        "S3meanrefA1_8 = list()\n",
        "S3meanB2_1 = list()\n",
        "for i in range(S3HSV_imgA1B2_1.shape[0]): \n",
        "     for j in range(S3HSV_imgA1B2_1.shape[1]): \n",
        "                if 1769<i<1881 and 2019<j<2131 :\n",
        "                  S3meanrefA1_8.append(S3HSV_imgA1B2_1[i][j])\n",
        "                if 1770<i<1880 and 2015<j<2145 :\n",
        "                  S3meanB2_1.append(S3HSV_imgA1B2_1[i][j])  \n",
        "S3meanrefA1_8 = np.array(S3meanrefA1_8)\n",
        "S3meanB2_1 = np.array(S3meanB2_1)\n",
        "\n",
        "S3hsvrefA1_8 = list()\n",
        "S3hsvB2_1 = list()\n",
        "for i in range(3):\n",
        "    S3hsvrefA1_8.append(S3meanrefA1_8[:,i].mean())\n",
        "    S3hsvB2_1.append(S3meanB2_1[:,i].mean())"
      ],
      "execution_count": 422,
      "outputs": []
    },
    {
      "cell_type": "code",
      "metadata": {
        "id": "n35b_dAPBXOM"
      },
      "source": [
        "S3meanrefA1_9 = list()\n",
        "S3meanB3_1 = list()\n",
        "for i in range(S3HSV_imgA1B3_1.shape[0]): \n",
        "     for j in range(S3HSV_imgA1B3_1.shape[1]): \n",
        "                if 1769<i<1881 and 2019<j<2131 :\n",
        "                  S3meanrefA1_9.append(S3HSV_imgA1B3_1[i][j])\n",
        "                if 1770<i<1880 and 2015<j<2145 :\n",
        "                  S3meanB3_1.append(S3HSV_imgA1B3_1[i][j])  \n",
        "S3meanrefA1_9 = np.array(S3meanrefA1_9)\n",
        "S3meanB3_1 = np.array(S3meanB3_1)\n",
        "\n",
        "S3hsvrefA1_9 = list()\n",
        "S3hsvB3_1 = list()\n",
        "for i in range(3):\n",
        "    S3hsvrefA1_9.append(S3meanrefA1_9[:,i].mean())\n",
        "    S3hsvB3_1.append(S3meanB3_1[:,i].mean())"
      ],
      "execution_count": 423,
      "outputs": []
    },
    {
      "cell_type": "code",
      "metadata": {
        "id": "ldcrAdFEBXOM"
      },
      "source": [
        "S3meanrefA1_10 = list()\n",
        "S3meanB4_1 = list()\n",
        "for i in range(S3HSV_imgA1B4_1.shape[0]): \n",
        "     for j in range(S3HSV_imgA1B4_1.shape[1]): \n",
        "                if 1769<i<1881 and 2019<j<2131 :\n",
        "                  S3meanrefA1_10.append(S3HSV_imgA1B4_1[i][j])\n",
        "                if 1770<i<1880 and 2015<j<2145 :\n",
        "                  S3meanB4_1.append(S3HSV_imgA1B4_1[i][j])  \n",
        "S3meanrefA1_10 = np.array(S3meanrefA1_10)\n",
        "S3meanB4_1 = np.array(S3meanB4_1)\n",
        "\n",
        "S3hsvrefA1_10 = list()\n",
        "S3hsvB4_1 = list()\n",
        "for i in range(3):\n",
        "    S3hsvrefA1_10.append(S3meanrefA1_10[:,i].mean())\n",
        "    S3hsvB4_1.append(S3meanB4_1[:,i].mean())"
      ],
      "execution_count": 424,
      "outputs": []
    },
    {
      "cell_type": "code",
      "metadata": {
        "id": "EWeFPjRPBXOM"
      },
      "source": [
        "S3meanrefA1_11 = list()\n",
        "S3meanC1_1 = list()\n",
        "for i in range(S3HSV_imgA1C1_1.shape[0]): \n",
        "     for j in range(S3HSV_imgA1C1_1.shape[1]): \n",
        "                if 1769<i<1881 and 2019<j<2131 :\n",
        "                  S3meanrefA1_11.append(S3HSV_imgA1C1_1[i][j])\n",
        "                if 1770<i<1880 and 2015<j<2145 :\n",
        "                  S3meanC1_1.append(S3HSV_imgA1C1_1[i][j])  \n",
        "S3meanrefA1_11 = np.array(S3meanrefA1_11)\n",
        "S3meanC1_1 = np.array(S3meanC1_1)\n",
        "\n",
        "S3hsvrefA1_11 = list()\n",
        "S3hsvC1_1 = list()\n",
        "for i in range(3):\n",
        "    S3hsvrefA1_11.append(S3meanrefA1_11[:,i].mean())\n",
        "    S3hsvC1_1.append(S3meanC1_1[:,i].mean())"
      ],
      "execution_count": 425,
      "outputs": []
    },
    {
      "cell_type": "code",
      "metadata": {
        "id": "RhVK-RAABXON"
      },
      "source": [
        "S3meanrefA1_12 = list()\n",
        "S3meanC2_1 = list()\n",
        "for i in range(S3HSV_imgA1C2_1.shape[0]): \n",
        "     for j in range(S3HSV_imgA1C2_1.shape[1]): \n",
        "                if 1769<i<1881 and 2019<j<2131 :\n",
        "                  S3meanrefA1_12.append(S3HSV_imgA1C2_1[i][j])\n",
        "                if 1770<i<1880 and 2015<j<2145 :\n",
        "                  S3meanC2_1.append(S3HSV_imgA1C2_1[i][j])  \n",
        "S3meanrefA1_12 = np.array(S3meanrefA1_12)\n",
        "S3meanC2_1 = np.array(S3meanC2_1)\n",
        "\n",
        "S3hsvrefA1_12 = list()\n",
        "S3hsvC2_1 = list()\n",
        "for i in range(3):\n",
        "    S3hsvrefA1_12.append(S3meanrefA1_12[:,i].mean())\n",
        "    S3hsvC2_1.append(S3meanC2_1[:,i].mean())"
      ],
      "execution_count": 426,
      "outputs": []
    },
    {
      "cell_type": "code",
      "metadata": {
        "id": "FkVS08wpBXON"
      },
      "source": [
        "S3meanrefA1_13 = list()\n",
        "S3meanC3_1 = list()\n",
        "for i in range(S3HSV_imgA1C3_1.shape[0]): \n",
        "     for j in range(S3HSV_imgA1C3_1.shape[1]): \n",
        "                if 1769<i<1881 and 2019<j<2131 :\n",
        "                  S3meanrefA1_13.append(S3HSV_imgA1C3_1[i][j])\n",
        "                if 1770<i<1880 and 2015<j<2145 :\n",
        "                  S3meanC3_1.append(S3HSV_imgA1C3_1[i][j])  \n",
        "S3meanrefA1_13 = np.array(S3meanrefA1_13)\n",
        "S3meanC3_1 = np.array(S3meanC3_1)\n",
        "\n",
        "S3hsvrefA1_13 = list()\n",
        "S3hsvC3_1 = list()\n",
        "for i in range(3):\n",
        "    S3hsvrefA1_13.append(S3meanrefA1_13[:,i].mean())\n",
        "    S3hsvC3_1.append(S3meanC3_1[:,i].mean())"
      ],
      "execution_count": 427,
      "outputs": []
    },
    {
      "cell_type": "code",
      "metadata": {
        "id": "yUpoqVyGBXON"
      },
      "source": [
        "S3meanrefA1_14 = list()\n",
        "S3meanC4_1 = list()\n",
        "for i in range(S3HSV_imgA1C4_1.shape[0]): \n",
        "     for j in range(S3HSV_imgA1C4_1.shape[1]): \n",
        "                if 1769<i<1881 and 2019<j<2131 :\n",
        "                  S3meanrefA1_14.append(S3HSV_imgA1C4_1[i][j])\n",
        "                if 1770<i<1880 and 2015<j<2145 :\n",
        "                  S3meanC4_1.append(S3HSV_imgA1C4_1[i][j])  \n",
        "S3meanrefA1_14 = np.array(S3meanrefA1_14)\n",
        "S3meanC4_1 = np.array(S3meanC4_1)\n",
        "\n",
        "S3hsvrefA1_14 = list()\n",
        "S3hsvC4_1 = list()\n",
        "for i in range(3):\n",
        "    S3hsvrefA1_14.append(S3meanrefA1_14[:,i].mean())\n",
        "    S3hsvC4_1.append(S3meanC4_1[:,i].mean())"
      ],
      "execution_count": 428,
      "outputs": []
    },
    {
      "cell_type": "code",
      "metadata": {
        "id": "KcCUrvFyBXON"
      },
      "source": [
        "S3meanrefA1_15 = list()\n",
        "S3meanD2_1 = list()\n",
        "for i in range(S3HSV_imgA1D2_1.shape[0]): \n",
        "     for j in range(S3HSV_imgA1D2_1.shape[1]): \n",
        "                if 1769<i<1881 and 2019<j<2131 :\n",
        "                  S3meanrefA1_15.append(S3HSV_imgA1D2_1[i][j])\n",
        "                if 1770<i<1880 and 2015<j<2145 :\n",
        "                  S3meanD2_1.append(S3HSV_imgA1D2_1[i][j])  \n",
        "S3meanrefA1_15 = np.array(S3meanrefA1_15)\n",
        "S3meanD2_1 = np.array(S3meanD2_1)\n",
        "\n",
        "S3hsvrefA1_15 = list()\n",
        "S3hsvD2_1 = list()\n",
        "for i in range(3):\n",
        "    S3hsvrefA1_15.append(S3meanrefA1_15[:,i].mean())\n",
        "    S3hsvD2_1.append(S3meanD2_1[:,i].mean())"
      ],
      "execution_count": 429,
      "outputs": []
    },
    {
      "cell_type": "code",
      "metadata": {
        "id": "W7rBPnlkBXOO"
      },
      "source": [
        "S3meanrefA1_16 = list()\n",
        "S3meanD3_1 = list()\n",
        "for i in range(S3HSV_imgA1D3_1.shape[0]): \n",
        "     for j in range(S3HSV_imgA1D3_1.shape[1]): \n",
        "                if 1769<i<1881 and 2019<j<2131 :\n",
        "                  S3meanrefA1_16.append(S3HSV_imgA1D3_1[i][j])\n",
        "                if 1770<i<1880 and 2015<j<2145 :\n",
        "                  S3meanD3_1.append(S3HSV_imgA1D3_1[i][j])  \n",
        "S3meanrefA1_16 = np.array(S3meanrefA1_16)\n",
        "S3meanD3_1 = np.array(S3meanD3_1)\n",
        "\n",
        "S3hsvrefA1_16 = list()\n",
        "S3hsvD3_1 = list()\n",
        "for i in range(3):\n",
        "    S3hsvrefA1_16.append(S3meanrefA1_16[:,i].mean())\n",
        "    S3hsvD3_1.append(S3meanD3_1[:,i].mean())"
      ],
      "execution_count": 430,
      "outputs": []
    },
    {
      "cell_type": "code",
      "metadata": {
        "id": "9dk2c02XBXOO"
      },
      "source": [
        "S3meanrefA1_17= list()\n",
        "S3meanD4_1 = list()\n",
        "for i in range(S3HSV_imgA1D4_1.shape[0]): \n",
        "     for j in range(S3HSV_imgA1D4_1.shape[1]): \n",
        "                if 1769<i<1881 and 2019<j<2131 :\n",
        "                  S3meanrefA1_17.append(S3HSV_imgA1D4_1[i][j])\n",
        "                if 1770<i<1880 and 2015<j<2145 :\n",
        "                  S3meanD4_1.append(S3HSV_imgA1D4_1[i][j])  \n",
        "S3meanrefA1_17 = np.array(S3meanrefA1_14)\n",
        "S3meanD4_1 = np.array(S3meanD4_1)\n",
        "\n",
        "S3hsvrefA1_17 = list()\n",
        "S3hsvD4_1 = list()\n",
        "for i in range(3):\n",
        "    S3hsvrefA1_17.append(S3meanrefA1_17[:,i].mean())\n",
        "    S3hsvD4_1.append(S3meanD4_1[:,i].mean())"
      ],
      "execution_count": 431,
      "outputs": []
    },
    {
      "cell_type": "markdown",
      "metadata": {
        "id": "W1Nj-675OLxB"
      },
      "source": [
        "##Set4"
      ]
    },
    {
      "cell_type": "markdown",
      "metadata": {
        "id": "OVWde62WJ576"
      },
      "source": [
        "###RGB"
      ]
    },
    {
      "cell_type": "code",
      "metadata": {
        "id": "9qe-b3RQTFI1"
      },
      "source": [
        "S4meanrefA1_1 = list()\n",
        "S4meanA1_2 = list()\n",
        "for i in range(S4RGB_imgA1A1_1.shape[0]): #ให้ i รันตาม row หรือ shape[0] คือแถว มีทั้งหมด 4032 แถว ของภาพที่ปรับขนาดมาแล้ว\n",
        "     for j in range(S4RGB_imgA1A1_1.shape[1]): #ให้ j รันตาม colum มีทั้งหมด 3024 colum เช่น แถวที่ 1 เข้ามาให้รันครบ 3024colum\n",
        "                if 1769<i<1881 and 2019<j<2131 :\n",
        "                  S4meanrefA1_1.append(S4RGB_imgA1A1_1[i][j])\n",
        "                if 1770<i<1880 and 2015<j<2145 :\n",
        "                  S4meanA1_2.append(S4RGB_imgA1A1_1[i][j])  \n",
        "S4meanrefA1_1 = np.array(S4meanrefA1_1)\n",
        "S4meanA1_2 = np.array(S4meanA1_2)\n",
        "\n",
        "S4rgbrefA1_1 = list()\n",
        "S4rgbA1_2 = list()\n",
        "for i in range(3):\n",
        "    S4rgbrefA1_1.append(S4meanrefA1_1[:,i].mean())\n",
        "    S4rgbA1_2.append(S4meanA1_2[:,i].mean()) "
      ],
      "execution_count": 432,
      "outputs": []
    },
    {
      "cell_type": "code",
      "metadata": {
        "id": "9PmGY8ytTFI1"
      },
      "source": [
        "S4meanrefA1_3 = list()\n",
        "S4meanA2_1 = list()\n",
        "for i in range(S4RGB_imgA1A2_1.shape[0]): \n",
        "     for j in range(S4RGB_imgA1A2_1.shape[1]): \n",
        "                if 1769<i<1881 and 2019<j<2131 :\n",
        "                  S4meanrefA1_3.append(S4RGB_imgA1A2_1[i][j])\n",
        "                if 1770<i<1880 and 2015<j<2145 :\n",
        "                  S4meanA2_1.append(S4RGB_imgA1A2_1[i][j])  \n",
        "S4meanrefA1_3 = np.array(S4meanrefA1_3)\n",
        "S4meanA2_1 = np.array(S4meanA2_1)\n",
        "\n",
        "S4rgbrefA1_3 = list()\n",
        "S4rgbA2_1 = list()\n",
        "for i in range(3):\n",
        "    S4rgbrefA1_3.append(S4meanrefA1_3[:,i].mean())\n",
        "    S4rgbA2_1.append(S4meanA2_1[:,i].mean())"
      ],
      "execution_count": 433,
      "outputs": []
    },
    {
      "cell_type": "code",
      "metadata": {
        "id": "VkmexGJeTFI2"
      },
      "source": [
        "S4meanrefA1_4 = list()\n",
        "S4meanA3_1 = list()\n",
        "for i in range(S4RGB_imgA1A3_1.shape[0]): \n",
        "     for j in range(S4RGB_imgA1A3_1.shape[1]): \n",
        "                if 1769<i<1881 and 2019<j<2131 :\n",
        "                  S4meanrefA1_4.append(S4RGB_imgA1A3_1[i][j])\n",
        "                if 1770<i<1880 and 2015<j<2145 :\n",
        "                  S4meanA3_1.append(S4RGB_imgA1A3_1[i][j])  \n",
        "S4meanrefA1_4 = np.array(S4meanrefA1_4)\n",
        "S4meanA3_1 = np.array(S4meanA3_1)\n",
        "\n",
        "S4rgbrefA1_4 = list()\n",
        "S4rgbA3_1 = list()\n",
        "for i in range(3):\n",
        "    S4rgbrefA1_4.append(S4meanrefA1_4[:,i].mean())\n",
        "    S4rgbA3_1.append(S4meanA3_1[:,i].mean())"
      ],
      "execution_count": 434,
      "outputs": []
    },
    {
      "cell_type": "code",
      "metadata": {
        "id": "ydYPsKzWTFI2"
      },
      "source": [
        "S4meanrefA1_5 = list()\n",
        "S4meanA3_51 = list()\n",
        "for i in range(S4RGB_imgA1A3_51.shape[0]): \n",
        "     for j in range(S4RGB_imgA1A3_51.shape[1]): \n",
        "                if 1769<i<1881 and 2019<j<2131 :\n",
        "                  S4meanrefA1_5.append(S4RGB_imgA1A3_51[i][j])\n",
        "                if 1770<i<1880 and 2015<j<2145 :\n",
        "                  S4meanA3_51.append(S4RGB_imgA1A3_51[i][j])  \n",
        "S4meanrefA1_5 = np.array(S4meanrefA1_5)\n",
        "S4meanA3_51 = np.array(S4meanA3_51)\n",
        "\n",
        "S4rgbrefA1_5 = list()\n",
        "S4rgbA3_51 = list()\n",
        "for i in range(3):\n",
        "    S4rgbrefA1_5.append(S4meanrefA1_5[:,i].mean())\n",
        "    S4rgbA3_51.append(S4meanA3_51[:,i].mean())"
      ],
      "execution_count": 435,
      "outputs": []
    },
    {
      "cell_type": "code",
      "metadata": {
        "id": "tvR2Ob8sTFI2"
      },
      "source": [
        "S4meanrefA1_6 = list()\n",
        "S4meanA4_1 = list()\n",
        "for i in range(S4RGB_imgA1A4_1.shape[0]): \n",
        "     for j in range(S4RGB_imgA1A4_1.shape[1]): \n",
        "                if 1769<i<1881 and 2019<j<2131 :\n",
        "                  S4meanrefA1_6.append(S4RGB_imgA1A4_1[i][j])\n",
        "                if 1770<i<1880 and 2015<j<2145 :\n",
        "                  S4meanA4_1.append(S4RGB_imgA1A4_1[i][j])  \n",
        "S4meanrefA1_6 = np.array(S4meanrefA1_6)\n",
        "S4meanA4_1 = np.array(S4meanA4_1)\n",
        "\n",
        "S4rgbrefA1_6 = list()\n",
        "S4rgbA4_1 = list()\n",
        "for i in range(3):\n",
        "    S4rgbrefA1_6.append(S4meanrefA1_6[:,i].mean())\n",
        "    S4rgbA4_1.append(S4meanA4_1[:,i].mean())"
      ],
      "execution_count": 436,
      "outputs": []
    },
    {
      "cell_type": "code",
      "metadata": {
        "id": "Ljpq0nVwTFI2"
      },
      "source": [
        "S4meanrefA1_7 = list()\n",
        "S4meanB1_1 = list()\n",
        "for i in range(S4RGB_imgA1B1_1.shape[0]): \n",
        "     for j in range(S4RGB_imgA1B1_1.shape[1]): \n",
        "                if 1769<i<1881 and 2019<j<2131 :\n",
        "                  S4meanrefA1_7.append(S4RGB_imgA1B1_1[i][j])\n",
        "                if 1770<i<1880 and 2015<j<2145 :\n",
        "                  S4meanB1_1.append(S4RGB_imgA1B1_1[i][j])  \n",
        "S4meanrefA1_7 = np.array(S4meanrefA1_7)\n",
        "S4meanB1_1 = np.array(S4meanB1_1)\n",
        "\n",
        "S4rgbrefA1_7 = list()\n",
        "S4rgbB1_1 = list()\n",
        "for i in range(3):\n",
        "    S4rgbrefA1_7.append(S4meanrefA1_7[:,i].mean())\n",
        "    S4rgbB1_1.append(S4meanB1_1[:,i].mean())"
      ],
      "execution_count": 437,
      "outputs": []
    },
    {
      "cell_type": "code",
      "metadata": {
        "id": "Zl5OV1WkTFI2"
      },
      "source": [
        "S4meanrefA1_8 = list()\n",
        "S4meanB2_1 = list()\n",
        "for i in range(S4RGB_imgA1B2_1.shape[0]): \n",
        "     for j in range(S4RGB_imgA1B2_1.shape[1]): \n",
        "                if 1769<i<1881 and 2019<j<2131 :\n",
        "                  S4meanrefA1_8.append(S4RGB_imgA1B2_1[i][j])\n",
        "                if 1770<i<1880 and 2015<j<2145 :\n",
        "                  S4meanB2_1.append(S4RGB_imgA1B2_1[i][j])  \n",
        "S4meanrefA1_8 = np.array(S4meanrefA1_8)\n",
        "S4meanB2_1 = np.array(S4meanB2_1)\n",
        "\n",
        "S4rgbrefA1_8 = list()\n",
        "S4rgbB2_1 = list()\n",
        "for i in range(3):\n",
        "    S4rgbrefA1_8.append(S4meanrefA1_8[:,i].mean())\n",
        "    S4rgbB2_1.append(S4meanB2_1[:,i].mean())"
      ],
      "execution_count": 438,
      "outputs": []
    },
    {
      "cell_type": "code",
      "metadata": {
        "id": "5U29cW4STFI2"
      },
      "source": [
        "S4meanrefA1_9 = list()\n",
        "S4meanB3_1 = list()\n",
        "for i in range(S4RGB_imgA1B3_1.shape[0]): \n",
        "     for j in range(S4RGB_imgA1B3_1.shape[1]): \n",
        "                if 1769<i<1881 and 2019<j<2131 :\n",
        "                  S4meanrefA1_9.append(S4RGB_imgA1B3_1[i][j])\n",
        "                if 1770<i<1880 and 2015<j<2145 :\n",
        "                  S4meanB3_1.append(S4RGB_imgA1B3_1[i][j])  \n",
        "S4meanrefA1_9 = np.array(S4meanrefA1_9)\n",
        "S4meanB3_1 = np.array(S4meanB3_1)\n",
        "\n",
        "S4rgbrefA1_9 = list()\n",
        "S4rgbB3_1 = list()\n",
        "for i in range(3):\n",
        "    S4rgbrefA1_9.append(S4meanrefA1_9[:,i].mean())\n",
        "    S4rgbB3_1.append(S4meanB3_1[:,i].mean())"
      ],
      "execution_count": 439,
      "outputs": []
    },
    {
      "cell_type": "code",
      "metadata": {
        "id": "R2NA3evqTFI2"
      },
      "source": [
        "S4meanrefA1_10 = list()\n",
        "S4meanB4_1 = list()\n",
        "for i in range(S4RGB_imgA1B4_1.shape[0]): \n",
        "     for j in range(S4RGB_imgA1B4_1.shape[1]): \n",
        "                if 1769<i<1881 and 2019<j<2131 :\n",
        "                  S4meanrefA1_10.append(S4RGB_imgA1B4_1[i][j])\n",
        "                if 1770<i<1880 and 2015<j<2145 :\n",
        "                  S4meanB4_1.append(S4RGB_imgA1B4_1[i][j])  \n",
        "S4meanrefA1_10 = np.array(S4meanrefA1_10)\n",
        "S4meanB4_1 = np.array(S4meanB4_1)\n",
        "\n",
        "S4rgbrefA1_10 = list()\n",
        "S4rgbB4_1 = list()\n",
        "for i in range(3):\n",
        "    S4rgbrefA1_10.append(S4meanrefA1_10[:,i].mean())\n",
        "    S4rgbB4_1.append(S4meanB4_1[:,i].mean())"
      ],
      "execution_count": 440,
      "outputs": []
    },
    {
      "cell_type": "code",
      "metadata": {
        "id": "no0v_IJvTFI2"
      },
      "source": [
        "S4meanrefA1_11 = list()\n",
        "S4meanC1_1 = list()\n",
        "for i in range(S4RGB_imgA1C1_1.shape[0]): \n",
        "     for j in range(S4RGB_imgA1C1_1.shape[1]): \n",
        "                if 1769<i<1881 and 2019<j<2131 :\n",
        "                  S4meanrefA1_11.append(S4RGB_imgA1C1_1[i][j])\n",
        "                if 1770<i<1880 and 2015<j<2145 :\n",
        "                  S4meanC1_1.append(S4RGB_imgA1C1_1[i][j])  \n",
        "S4meanrefA1_11 = np.array(S4meanrefA1_11)\n",
        "S4meanC1_1 = np.array(S4meanC1_1)\n",
        "\n",
        "S4rgbrefA1_11 = list()\n",
        "S4rgbC1_1 = list()\n",
        "for i in range(3):\n",
        "    S4rgbrefA1_11.append(S4meanrefA1_11[:,i].mean())\n",
        "    S4rgbC1_1.append(S4meanC1_1[:,i].mean())"
      ],
      "execution_count": 441,
      "outputs": []
    },
    {
      "cell_type": "code",
      "metadata": {
        "id": "tk2Tjx-xTFI2"
      },
      "source": [
        "S4meanrefA1_12 = list()\n",
        "S4meanC2_1 = list()\n",
        "for i in range(S4RGB_imgA1C2_1.shape[0]): \n",
        "     for j in range(S4RGB_imgA1C2_1.shape[1]): \n",
        "                if 1769<i<1881 and 2019<j<2131 :\n",
        "                  S4meanrefA1_12.append(S4RGB_imgA1C2_1[i][j])\n",
        "                if 1770<i<1880 and 2015<j<2145 :\n",
        "                  S4meanC2_1.append(S4RGB_imgA1C2_1[i][j])  \n",
        "S4meanrefA1_12 = np.array(S4meanrefA1_12)\n",
        "S4meanC2_1 = np.array(S4meanC2_1)\n",
        "\n",
        "S4rgbrefA1_12 = list()\n",
        "S4rgbC2_1 = list()\n",
        "for i in range(3):\n",
        "    S4rgbrefA1_12.append(S4meanrefA1_12[:,i].mean())\n",
        "    S4rgbC2_1.append(S4meanC2_1[:,i].mean())"
      ],
      "execution_count": 442,
      "outputs": []
    },
    {
      "cell_type": "code",
      "metadata": {
        "id": "C4OzI5irTFI3"
      },
      "source": [
        "S4meanrefA1_13 = list()\n",
        "S4meanC3_1 = list()\n",
        "for i in range(S4RGB_imgA1C3_1.shape[0]): \n",
        "     for j in range(S4RGB_imgA1C3_1.shape[1]): \n",
        "                if 1769<i<1881 and 2019<j<2131 :\n",
        "                  S4meanrefA1_13.append(S4RGB_imgA1C3_1[i][j])\n",
        "                if 1770<i<1880 and 2015<j<2145 :\n",
        "                  S4meanC3_1.append(S4RGB_imgA1C3_1[i][j])  \n",
        "S4meanrefA1_13 = np.array(S4meanrefA1_13)\n",
        "S4meanC3_1 = np.array(S4meanC3_1)\n",
        "\n",
        "S4rgbrefA1_13 = list()\n",
        "S4rgbC3_1 = list()\n",
        "for i in range(3):\n",
        "    S4rgbrefA1_13.append(S4meanrefA1_13[:,i].mean())\n",
        "    S4rgbC3_1.append(S4meanC3_1[:,i].mean())"
      ],
      "execution_count": 443,
      "outputs": []
    },
    {
      "cell_type": "code",
      "metadata": {
        "id": "rmEhD3fATFI3"
      },
      "source": [
        "S4meanrefA1_14 = list()\n",
        "S4meanC4_1 = list()\n",
        "for i in range(S4RGB_imgA1C4_1.shape[0]): \n",
        "     for j in range(S4RGB_imgA1C4_1.shape[1]): \n",
        "                if 1769<i<1881 and 2019<j<2131 :\n",
        "                  S4meanrefA1_14.append(S4RGB_imgA1C4_1[i][j])\n",
        "                if 1770<i<1880 and 2015<j<2145 :\n",
        "                  S4meanC4_1.append(S4RGB_imgA1C4_1[i][j])  \n",
        "S4meanrefA1_14 = np.array(S4meanrefA1_14)\n",
        "S4meanC4_1 = np.array(S4meanC4_1)\n",
        "\n",
        "S4rgbrefA1_14 = list()\n",
        "S4rgbC4_1 = list()\n",
        "for i in range(3):\n",
        "    S4rgbrefA1_14.append(S4meanrefA1_14[:,i].mean())\n",
        "    S4rgbC4_1.append(S4meanC4_1[:,i].mean())"
      ],
      "execution_count": 444,
      "outputs": []
    },
    {
      "cell_type": "code",
      "metadata": {
        "id": "ZAIAbO_iTFI3"
      },
      "source": [
        "S4meanrefA1_15 = list()\n",
        "S4meanD2_1 = list()\n",
        "for i in range(S4RGB_imgA1D2_1.shape[0]): \n",
        "     for j in range(S4RGB_imgA1D2_1.shape[1]): \n",
        "                if 1769<i<1881 and 2019<j<2131 :\n",
        "                  S4meanrefA1_15.append(S4RGB_imgA1D2_1[i][j])\n",
        "                if 1770<i<1880 and 2015<j<2145 :\n",
        "                  S4meanD2_1.append(S4RGB_imgA1D2_1[i][j])  \n",
        "S4meanrefA1_15 = np.array(S4meanrefA1_15)\n",
        "S4meanD2_1 = np.array(S4meanD2_1)\n",
        "\n",
        "S4rgbrefA1_15 = list()\n",
        "S4rgbD2_1 = list()\n",
        "for i in range(3):\n",
        "    S4rgbrefA1_15.append(S4meanrefA1_15[:,i].mean())\n",
        "    S4rgbD2_1.append(S4meanD2_1[:,i].mean())"
      ],
      "execution_count": 445,
      "outputs": []
    },
    {
      "cell_type": "code",
      "metadata": {
        "id": "hTJKOPrTTFI3"
      },
      "source": [
        "S4meanrefA1_16 = list()\n",
        "S4meanD3_1 = list()\n",
        "for i in range(S4RGB_imgA1D3_1.shape[0]): \n",
        "     for j in range(S4RGB_imgA1D3_1.shape[1]): \n",
        "                if 1769<i<1881 and 2019<j<2131 :\n",
        "                  S4meanrefA1_16.append(S4RGB_imgA1D3_1[i][j])\n",
        "                if 1770<i<1880 and 2015<j<2145 :\n",
        "                  S4meanD3_1.append(S4RGB_imgA1D3_1[i][j])  \n",
        "S4meanrefA1_16 = np.array(S4meanrefA1_16)\n",
        "S4meanD3_1 = np.array(S4meanD3_1)\n",
        "\n",
        "S4rgbrefA1_16 = list()\n",
        "S4rgbD3_1 = list()\n",
        "for i in range(3):\n",
        "    S4rgbrefA1_16.append(S4meanrefA1_16[:,i].mean())\n",
        "    S4rgbD3_1.append(S4meanD3_1[:,i].mean())"
      ],
      "execution_count": 446,
      "outputs": []
    },
    {
      "cell_type": "code",
      "metadata": {
        "id": "Pn4S73yNTFI3"
      },
      "source": [
        "S4meanrefA1_17= list()\n",
        "S4meanD4_1 = list()\n",
        "for i in range(S4RGB_imgA1D4_1.shape[0]): \n",
        "     for j in range(S4RGB_imgA1D4_1.shape[1]): \n",
        "                if 1769<i<1881 and 2019<j<2131 :\n",
        "                  S4meanrefA1_17.append(S4RGB_imgA1D4_1[i][j])\n",
        "                if 1770<i<1880 and 2015<j<2145 :\n",
        "                  S4meanD4_1.append(S4RGB_imgA1D4_1[i][j])  \n",
        "S4meanrefA1_17 = np.array(S4meanrefA1_14)\n",
        "S4meanD4_1 = np.array(S4meanD4_1)\n",
        "\n",
        "S4rgbrefA1_17 = list()\n",
        "S4rgbD4_1 = list()\n",
        "for i in range(3):\n",
        "    S4rgbrefA1_17.append(S4meanrefA1_17[:,i].mean())\n",
        "    S4rgbD4_1.append(S4meanD4_1[:,i].mean())"
      ],
      "execution_count": 447,
      "outputs": []
    },
    {
      "cell_type": "markdown",
      "metadata": {
        "id": "1vsenvzGJ-z0"
      },
      "source": [
        "###HSV"
      ]
    },
    {
      "cell_type": "code",
      "metadata": {
        "id": "g8COlyPkKXLl"
      },
      "source": [
        "S4meanrefA1_1 = list()\n",
        "S4meanA1_2 = list()\n",
        "for i in range(S4HSV_imgA1A1_1.shape[0]): #ให้ i รันตาม row หรือ shape[0] คือแถว มีทั้งหมด 4032 แถว ของภาพที่ปรับขนาดมาแล้ว\n",
        "     for j in range(S4HSV_imgA1A1_1.shape[1]): #ให้ j รันตาม colum มีทั้งหมด 3024 colum เช่น แถวที่ 1 เข้ามาให้รันครบ 3024colum\n",
        "                if 1769<i<1881 and 2019<j<2131 :\n",
        "                  S4meanrefA1_1.append(S4HSV_imgA1A1_1[i][j])\n",
        "                if 1770<i<1880 and 2015<j<2145 :\n",
        "                  S4meanA1_2.append(S4HSV_imgA1A1_1[i][j])  \n",
        "S4meanrefA1_1 = np.array(S4meanrefA1_1)\n",
        "S4meanA1_2 = np.array(S4meanA1_2)\n",
        "\n",
        "S4hsvrefA1_1 = list() \n",
        "S4hsvA1_2 = list()\n",
        "for i in range(3):\n",
        "    S4hsvrefA1_1.append(S4meanrefA1_1[:,i].mean())\n",
        "    S4hsvA1_2.append(S4meanA1_2[:,i].mean()) "
      ],
      "execution_count": 448,
      "outputs": []
    },
    {
      "cell_type": "code",
      "metadata": {
        "id": "uSvjjmrFKXLm"
      },
      "source": [
        "S4meanrefA1_3 = list()\n",
        "S4meanA2_1 = list()\n",
        "for i in range(S4HSV_imgA1A2_1.shape[0]): \n",
        "     for j in range(S4HSV_imgA1A2_1.shape[1]): \n",
        "                if 1769<i<1881 and 2019<j<2131 :\n",
        "                  S4meanrefA1_3.append(S4HSV_imgA1A2_1[i][j])\n",
        "                if 1770<i<1880 and 2015<j<2145 :\n",
        "                  S4meanA2_1.append(S4HSV_imgA1A2_1[i][j])  \n",
        "S4meanrefA1_3 = np.array(S4meanrefA1_3)\n",
        "S4meanA2_1 = np.array(S4meanA2_1)\n",
        "\n",
        "S4hsvrefA1_3 = list()\n",
        "S4hsvA2_1 = list()\n",
        "for i in range(3):\n",
        "    S4hsvrefA1_3.append(S4meanrefA1_3[:,i].mean())\n",
        "    S4hsvA2_1.append(S4meanA2_1[:,i].mean())"
      ],
      "execution_count": 449,
      "outputs": []
    },
    {
      "cell_type": "code",
      "metadata": {
        "id": "Q6ufKaLhKXLn"
      },
      "source": [
        "S4meanrefA1_4 = list()\n",
        "S4meanA3_1 = list()\n",
        "for i in range(S4HSV_imgA1A3_1.shape[0]): \n",
        "     for j in range(S4HSV_imgA1A3_1.shape[1]): \n",
        "                if 1769<i<1881 and 2019<j<2131 :\n",
        "                  S4meanrefA1_4.append(S4HSV_imgA1A3_1[i][j])\n",
        "                if 1770<i<1880 and 2015<j<2145 :\n",
        "                  S4meanA3_1.append(S4HSV_imgA1A3_1[i][j])  \n",
        "S4meanrefA1_4 = np.array(S4meanrefA1_4)\n",
        "S4meanA3_1 = np.array(S4meanA3_1)\n",
        "\n",
        "S4hsvrefA1_4 = list()\n",
        "S4hsvA3_1 = list()\n",
        "for i in range(3):\n",
        "    S4hsvrefA1_4.append(S4meanrefA1_4[:,i].mean())\n",
        "    S4hsvA3_1.append(S4meanA3_1[:,i].mean())"
      ],
      "execution_count": 450,
      "outputs": []
    },
    {
      "cell_type": "code",
      "metadata": {
        "id": "4RM9YjoaKXLn"
      },
      "source": [
        "S4meanrefA1_5 = list()\n",
        "S4meanA3_51 = list()\n",
        "for i in range(S4HSV_imgA1A3_51.shape[0]): \n",
        "     for j in range(S4HSV_imgA1A3_51.shape[1]): \n",
        "                if 1769<i<1881 and 2019<j<2131 :\n",
        "                  S4meanrefA1_5.append(S4HSV_imgA1A3_51[i][j])\n",
        "                if 1770<i<1880 and 2015<j<2145 :\n",
        "                  S4meanA3_51.append(S4HSV_imgA1A3_51[i][j])  \n",
        "S4meanrefA1_5 = np.array(S4meanrefA1_5)\n",
        "S4meanA3_51 = np.array(S4meanA3_51)\n",
        "\n",
        "S4hsvrefA1_5 = list()\n",
        "S4hsvA3_51 = list()\n",
        "for i in range(3):\n",
        "    S4hsvrefA1_5.append(S4meanrefA1_5[:,i].mean())\n",
        "    S4hsvA3_51.append(S4meanA3_51[:,i].mean())"
      ],
      "execution_count": 451,
      "outputs": []
    },
    {
      "cell_type": "code",
      "metadata": {
        "id": "xWaEzg_xKXLo"
      },
      "source": [
        "S4meanrefA1_6 = list()\n",
        "S4meanA4_1 = list()\n",
        "for i in range(S4HSV_imgA1A4_1.shape[0]): \n",
        "     for j in range(S4HSV_imgA1A4_1.shape[1]): \n",
        "                if 1769<i<1881 and 2019<j<2131 :\n",
        "                  S4meanrefA1_6.append(S4HSV_imgA1A4_1[i][j])\n",
        "                if 1770<i<1880 and 2015<j<2145 :\n",
        "                  S4meanA4_1.append(S4HSV_imgA1A4_1[i][j])  \n",
        "S4meanrefA1_6 = np.array(S4meanrefA1_6)\n",
        "S4meanA4_1 = np.array(S4meanA4_1)\n",
        "\n",
        "S4hsvrefA1_6 = list()\n",
        "S4hsvA4_1 = list()\n",
        "for i in range(3):\n",
        "    S4hsvrefA1_6.append(S4meanrefA1_6[:,i].mean())\n",
        "    S4hsvA4_1.append(S4meanA4_1[:,i].mean())"
      ],
      "execution_count": 452,
      "outputs": []
    },
    {
      "cell_type": "code",
      "metadata": {
        "id": "YZCZMwjrKXLo"
      },
      "source": [
        "S4meanrefA1_7 = list()\n",
        "S4meanB1_1 = list()\n",
        "for i in range(S4HSV_imgA1B1_1.shape[0]): \n",
        "     for j in range(S4HSV_imgA1B1_1.shape[1]): \n",
        "                if 1769<i<1881 and 2019<j<2131 :\n",
        "                  S4meanrefA1_7.append(S4HSV_imgA1B1_1[i][j])\n",
        "                if 1770<i<1880 and 2015<j<2145 :\n",
        "                  S4meanB1_1.append(S4HSV_imgA1B1_1[i][j])  \n",
        "S4meanrefA1_7 = np.array(S4meanrefA1_7)\n",
        "S4meanB1_1 = np.array(S4meanB1_1)\n",
        "\n",
        "S4hsvrefA1_7 = list()\n",
        "S4hsvB1_1 = list()\n",
        "for i in range(3):\n",
        "    S4hsvrefA1_7.append(S4meanrefA1_7[:,i].mean())\n",
        "    S4hsvB1_1.append(S4meanB1_1[:,i].mean())"
      ],
      "execution_count": 453,
      "outputs": []
    },
    {
      "cell_type": "code",
      "metadata": {
        "id": "Su2t7uVGKXLo"
      },
      "source": [
        "S4meanrefA1_8 = list()\n",
        "S4meanB2_1 = list()\n",
        "for i in range(S4HSV_imgA1B2_1.shape[0]): \n",
        "     for j in range(S4HSV_imgA1B2_1.shape[1]): \n",
        "                if 1769<i<1881 and 2019<j<2131 :\n",
        "                  S4meanrefA1_8.append(S4HSV_imgA1B2_1[i][j])\n",
        "                if 1770<i<1880 and 2015<j<2145 :\n",
        "                  S4meanB2_1.append(S4HSV_imgA1B2_1[i][j])  \n",
        "S4meanrefA1_8 = np.array(S4meanrefA1_8)\n",
        "S4meanB2_1 = np.array(S4meanB2_1)\n",
        "\n",
        "S4hsvrefA1_8 = list()\n",
        "S4hsvB2_1 = list()\n",
        "for i in range(3):\n",
        "    S4hsvrefA1_8.append(S4meanrefA1_8[:,i].mean())\n",
        "    S4hsvB2_1.append(S4meanB2_1[:,i].mean())"
      ],
      "execution_count": 454,
      "outputs": []
    },
    {
      "cell_type": "code",
      "metadata": {
        "id": "fcalJzlNKXLp"
      },
      "source": [
        "S4meanrefA1_9 = list()\n",
        "S4meanB3_1 = list()\n",
        "for i in range(S4HSV_imgA1B3_1.shape[0]): \n",
        "     for j in range(S4HSV_imgA1B3_1.shape[1]): \n",
        "                if 1769<i<1881 and 2019<j<2131 :\n",
        "                  S4meanrefA1_9.append(S4HSV_imgA1B3_1[i][j])\n",
        "                if 1770<i<1880 and 2015<j<2145 :\n",
        "                  S4meanB3_1.append(S4HSV_imgA1B3_1[i][j])  \n",
        "S4meanrefA1_9 = np.array(S4meanrefA1_9)\n",
        "S4meanB3_1 = np.array(S4meanB3_1)\n",
        "\n",
        "S4hsvrefA1_9 = list()\n",
        "S4hsvB3_1 = list()\n",
        "for i in range(3):\n",
        "    S4hsvrefA1_9.append(S4meanrefA1_9[:,i].mean())\n",
        "    S4hsvB3_1.append(S4meanB3_1[:,i].mean())"
      ],
      "execution_count": 455,
      "outputs": []
    },
    {
      "cell_type": "code",
      "metadata": {
        "id": "K8hzHcdFKXLp"
      },
      "source": [
        "S4meanrefA1_10 = list()\n",
        "S4meanB4_1 = list()\n",
        "for i in range(S4HSV_imgA1B4_1.shape[0]): \n",
        "     for j in range(S4HSV_imgA1B4_1.shape[1]): \n",
        "                if 1769<i<1881 and 2019<j<2131 :\n",
        "                  S4meanrefA1_10.append(S4HSV_imgA1B4_1[i][j])\n",
        "                if 1770<i<1880 and 2015<j<2145 :\n",
        "                  S4meanB4_1.append(S4HSV_imgA1B4_1[i][j])  \n",
        "S4meanrefA1_10 = np.array(S4meanrefA1_10)\n",
        "S4meanB4_1 = np.array(S4meanB4_1)\n",
        "\n",
        "S4hsvrefA1_10 = list()\n",
        "S4hsvB4_1 = list()\n",
        "for i in range(3):\n",
        "    S4hsvrefA1_10.append(S4meanrefA1_10[:,i].mean())\n",
        "    S4hsvB4_1.append(S4meanB4_1[:,i].mean())"
      ],
      "execution_count": 456,
      "outputs": []
    },
    {
      "cell_type": "code",
      "metadata": {
        "id": "Gfmhs_qPKXLq"
      },
      "source": [
        "S4meanrefA1_11 = list()\n",
        "S4meanC1_1 = list()\n",
        "for i in range(S4HSV_imgA1C1_1.shape[0]): \n",
        "     for j in range(S4HSV_imgA1C1_1.shape[1]): \n",
        "                if 1769<i<1881 and 2019<j<2131 :\n",
        "                  S4meanrefA1_11.append(S4HSV_imgA1C1_1[i][j])\n",
        "                if 1770<i<1880 and 2015<j<2145 :\n",
        "                  S4meanC1_1.append(S4HSV_imgA1C1_1[i][j])  \n",
        "S4meanrefA1_11 = np.array(S4meanrefA1_11)\n",
        "S4meanC1_1 = np.array(S4meanC1_1)\n",
        "\n",
        "S4hsvrefA1_11 = list()\n",
        "S4hsvC1_1 = list()\n",
        "for i in range(3):\n",
        "    S4hsvrefA1_11.append(S4meanrefA1_11[:,i].mean())\n",
        "    S4hsvC1_1.append(S4meanC1_1[:,i].mean())"
      ],
      "execution_count": 457,
      "outputs": []
    },
    {
      "cell_type": "code",
      "metadata": {
        "id": "yedXZDEVKXLq"
      },
      "source": [
        "S4meanrefA1_12 = list()\n",
        "S4meanC2_1 = list()\n",
        "for i in range(S4HSV_imgA1C2_1.shape[0]): \n",
        "     for j in range(S4HSV_imgA1C2_1.shape[1]): \n",
        "                if 1769<i<1881 and 2019<j<2131 :\n",
        "                  S4meanrefA1_12.append(S4HSV_imgA1C2_1[i][j])\n",
        "                if 1770<i<1880 and 2015<j<2145 :\n",
        "                  S4meanC2_1.append(S4HSV_imgA1C2_1[i][j])  \n",
        "S4meanrefA1_12 = np.array(S4meanrefA1_12)\n",
        "S4meanC2_1 = np.array(S4meanC2_1)\n",
        "\n",
        "S4hsvrefA1_12 = list()\n",
        "S4hsvC2_1 = list()\n",
        "for i in range(3):\n",
        "    S4hsvrefA1_12.append(S4meanrefA1_12[:,i].mean())\n",
        "    S4hsvC2_1.append(S4meanC2_1[:,i].mean())"
      ],
      "execution_count": 458,
      "outputs": []
    },
    {
      "cell_type": "code",
      "metadata": {
        "id": "whcXO5iMKXLq"
      },
      "source": [
        "S4meanrefA1_13 = list()\n",
        "S4meanC3_1 = list()\n",
        "for i in range(S4HSV_imgA1C3_1.shape[0]): \n",
        "     for j in range(S4HSV_imgA1C3_1.shape[1]): \n",
        "                if 1769<i<1881 and 2019<j<2131 :\n",
        "                  S4meanrefA1_13.append(S4HSV_imgA1C3_1[i][j])\n",
        "                if 1770<i<1880 and 2015<j<2145 :\n",
        "                  S4meanC3_1.append(S4HSV_imgA1C3_1[i][j])  \n",
        "S4meanrefA1_13 = np.array(S4meanrefA1_13)\n",
        "S4meanC3_1 = np.array(S4meanC3_1)\n",
        "\n",
        "S4hsvrefA1_13 = list()\n",
        "S4hsvC3_1 = list()\n",
        "for i in range(3):\n",
        "    S4hsvrefA1_13.append(S4meanrefA1_13[:,i].mean())\n",
        "    S4hsvC3_1.append(S4meanC3_1[:,i].mean())"
      ],
      "execution_count": 459,
      "outputs": []
    },
    {
      "cell_type": "code",
      "metadata": {
        "id": "nIpOgNL4KXLr"
      },
      "source": [
        "S4meanrefA1_14 = list()\n",
        "S4meanC4_1 = list()\n",
        "for i in range(S4HSV_imgA1C4_1.shape[0]): \n",
        "     for j in range(S4HSV_imgA1C4_1.shape[1]): \n",
        "                if 1769<i<1881 and 2019<j<2131 :\n",
        "                  S4meanrefA1_14.append(S4HSV_imgA1C4_1[i][j])\n",
        "                if 1770<i<1880 and 2015<j<2145 :\n",
        "                  S4meanC4_1.append(S4HSV_imgA1C4_1[i][j])  \n",
        "S4meanrefA1_14 = np.array(S4meanrefA1_14)\n",
        "S4meanC4_1 = np.array(S4meanC4_1)\n",
        "\n",
        "S4hsvrefA1_14 = list()\n",
        "S4hsvC4_1 = list()\n",
        "for i in range(3):\n",
        "    S4hsvrefA1_14.append(S4meanrefA1_14[:,i].mean())\n",
        "    S4hsvC4_1.append(S4meanC4_1[:,i].mean())"
      ],
      "execution_count": 460,
      "outputs": []
    },
    {
      "cell_type": "code",
      "metadata": {
        "id": "tW9vVw0RKXLr"
      },
      "source": [
        "S4meanrefA1_15 = list()\n",
        "S4meanD2_1 = list()\n",
        "for i in range(S4HSV_imgA1D2_1.shape[0]): \n",
        "     for j in range(S4HSV_imgA1D2_1.shape[1]): \n",
        "                if 1769<i<1881 and 2019<j<2131 :\n",
        "                  S4meanrefA1_15.append(S4HSV_imgA1D2_1[i][j])\n",
        "                if 1770<i<1880 and 2015<j<2145 :\n",
        "                  S4meanD2_1.append(S4HSV_imgA1D2_1[i][j])  \n",
        "S4meanrefA1_15 = np.array(S4meanrefA1_15)\n",
        "S4meanD2_1 = np.array(S4meanD2_1)\n",
        "\n",
        "S4hsvrefA1_15 = list()\n",
        "S4hsvD2_1 = list()\n",
        "for i in range(3):\n",
        "    S4hsvrefA1_15.append(S4meanrefA1_15[:,i].mean())\n",
        "    S4hsvD2_1.append(S4meanD2_1[:,i].mean())"
      ],
      "execution_count": 461,
      "outputs": []
    },
    {
      "cell_type": "code",
      "metadata": {
        "id": "rGKVWA6JKXLr"
      },
      "source": [
        "S4meanrefA1_16 = list()\n",
        "S4meanD3_1 = list()\n",
        "for i in range(S4HSV_imgA1D3_1.shape[0]): \n",
        "     for j in range(S4HSV_imgA1D3_1.shape[1]): \n",
        "                if 1769<i<1881 and 2019<j<2131 :\n",
        "                  S4meanrefA1_16.append(S4HSV_imgA1D3_1[i][j])\n",
        "                if 1770<i<1880 and 2015<j<2145 :\n",
        "                  S4meanD3_1.append(S4HSV_imgA1D3_1[i][j])  \n",
        "S4meanrefA1_16 = np.array(S4meanrefA1_16)\n",
        "S4meanD3_1 = np.array(S4meanD3_1)\n",
        "\n",
        "S4hsvrefA1_16 = list()\n",
        "S4hsvD3_1 = list()\n",
        "for i in range(3):\n",
        "    S4hsvrefA1_16.append(S4meanrefA1_16[:,i].mean())\n",
        "    S4hsvD3_1.append(S4meanD3_1[:,i].mean())"
      ],
      "execution_count": 462,
      "outputs": []
    },
    {
      "cell_type": "code",
      "metadata": {
        "id": "-kqMpVjuKXLs"
      },
      "source": [
        "S4meanrefA1_17= list()\n",
        "S4meanD4_1 = list()\n",
        "for i in range(S4HSV_imgA1D4_1.shape[0]): \n",
        "     for j in range(S4HSV_imgA1D4_1.shape[1]): \n",
        "                if 1769<i<1881 and 2019<j<2131 :\n",
        "                  S4meanrefA1_17.append(S4HSV_imgA1D4_1[i][j])\n",
        "                if 1770<i<1880 and 2015<j<2145 :\n",
        "                  S4meanD4_1.append(S4HSV_imgA1D4_1[i][j])  \n",
        "S4meanrefA1_17 = np.array(S4meanrefA1_14)\n",
        "S4meanD4_1 = np.array(S4meanD4_1)\n",
        "\n",
        "S4hsvrefA1_17 = list()\n",
        "S4hsvD4_1 = list()\n",
        "for i in range(3):\n",
        "    S4hsvrefA1_17.append(S4meanrefA1_17[:,i].mean())\n",
        "    S4hsvD4_1.append(S4meanD4_1[:,i].mean())"
      ],
      "execution_count": 463,
      "outputs": []
    },
    {
      "cell_type": "markdown",
      "metadata": {
        "id": "4ihnBocWKAjD"
      },
      "source": [
        "#7.สร้างตาราง"
      ]
    },
    {
      "cell_type": "code",
      "metadata": {
        "id": "EjvYvGQwEIVW"
      },
      "source": [
        "from tabulate import tabulate"
      ],
      "execution_count": 464,
      "outputs": []
    },
    {
      "cell_type": "code",
      "metadata": {
        "id": "g1Ir2tayht50"
      },
      "source": [
        "table   = [['R-ref', 'G-ref', 'B-ref', 'R-Shad', 'G-Shad', 'B-Shad', 'H-ref', 'S-ref', 'V-ref', 'H-Shad', 'S-Shad', 'V-Shad', 'Shade-ref', 'Shade', 'Setting']]"
      ],
      "execution_count": 465,
      "outputs": []
    },
    {
      "cell_type": "code",
      "metadata": {
        "id": "-fKACh2bQh-m"
      },
      "source": [
        "df = pd.DataFrame({'R-ref': [S1rgbrefA1_1[0],S1rgbrefA1_3[0],S1rgbrefA1_4[0], S1rgbrefA1_5[0], S1rgbrefA1_6[0],S1rgbrefA1_7[0], S1rgbrefA1_8[0],S1rgbrefA1_9[0], S1rgbrefA1_10[0], S1rgbrefA1_11[0], S1rgbrefA1_12[0], S1rgbrefA1_13[0], S1rgbrefA1_14[0], S1rgbrefA1_15[0], S1rgbrefA1_16[0], S1rgbrefA1_17[0]],\n",
        "  'G-ref': [S1rgbrefA1_1[1], S1rgbrefA1_3[1], S1rgbrefA1_4[1], S1rgbrefA1_5[1], S1rgbrefA1_6[1], S1rgbrefA1_7[1], S1rgbrefA1_8[1], S1rgbrefA1_9[1], S1rgbrefA1_10[1], S1rgbrefA1_11[1], S1rgbrefA1_12[1], S1rgbrefA1_13[1], S1rgbrefA1_14[1], S1rgbrefA1_15[1], S1rgbrefA1_16[1], S1rgbrefA1_17[1]],\n",
        "  'B-ref': [S1rgbrefA1_1[2],S1rgbrefA1_3[2],S1rgbrefA1_4[2],S1rgbrefA1_5[2], S1rgbrefA1_6[2],S1rgbrefA1_7[2], S1rgbrefA1_8[2],S1rgbrefA1_9[2], S1rgbrefA1_10[2],S1rgbrefA1_11[2], S1rgbrefA1_12[2],S1rgbrefA1_13[2], S1rgbrefA1_14[2],S1rgbrefA1_15[2], S1rgbrefA1_16[2],S1rgbrefA1_17[2]],\n",
        "  'R-Shad': [S1rgbA1_2[0],S1rgbA2_1[0],S1rgbA3_1[0],S1rgbA3_51[0],S1rgbA4_1[0],S1rgbB1_1[0],S1rgbB2_1[0],S1rgbB3_1[0],S1rgbB4_1[0],S1rgbC1_1[0],S1rgbC2_1[0],S1rgbC3_1[0],S1rgbC4_1[0],S1rgbD2_1[0],S1rgbD3_1[0],S1rgbD4_1[0]],\n",
        "  'G-Shad': [S1rgbA1_2[1],S1rgbA2_1[1],S1rgbA3_1[1], S1rgbA3_51[1],S1rgbA4_1[1],S1rgbB1_1[1],S1rgbB2_1[1],S1rgbB3_1[1],S1rgbB4_1[1],S1rgbC1_1[1],S1rgbC2_1[1],S1rgbC3_1[1],S1rgbC4_1[1],S1rgbD2_1[1],S1rgbD3_1[1], S1rgbD4_1[1]],\n",
        "  'B-Shad': [S1rgbA1_2[2],S1rgbA2_1[2],S1rgbA3_1[2],S1rgbA3_51[2],S1rgbA4_1[2],S1rgbB1_1[2],S1rgbB2_1[2],S1rgbB3_1[2],S1rgbB4_1[2],S1rgbC1_1[2],S1rgbC2_1[2],S1rgbC3_1[2],S1rgbC4_1[2],S1rgbD2_1[2],S1rgbD3_1[2], S1rgbD4_1[2]],\n",
        "  'H-ref': [S1hsvrefA1_1[0],S1hsvrefA1_3[0],S1hsvrefA1_4[0],S1hsvrefA1_5[0], S1hsvrefA1_6[0],S1hsvrefA1_7[0], S1hsvrefA1_8[0],S1hsvrefA1_9[0], S1hsvrefA1_10[0],S1hsvrefA1_11[0], S1hsvrefA1_12[0],S1hsvrefA1_13[0], S1hsvrefA1_14[0],S1hsvrefA1_15[0], S1hsvrefA1_16[0],S1hsvrefA1_17[0]],\n",
        "  'S-ref': [S1hsvrefA1_1[1],S1hsvrefA1_3[1],S1hsvrefA1_4[1],S1hsvrefA1_5[1], S1hsvrefA1_6[1],S1hsvrefA1_7[1], S1hsvrefA1_8[1],S1hsvrefA1_9[1], S1hsvrefA1_10[1],S1hsvrefA1_11[1], S1hsvrefA1_12[0],S1hsvrefA1_13[1], S1hsvrefA1_14[1],S1hsvrefA1_15[1], S1hsvrefA1_16[1],S1hsvrefA1_17[1]],\n",
        "  'V-ref': [S1hsvrefA1_1[2],S1hsvrefA1_3[2],S1hsvrefA1_4[2],S1hsvrefA1_5[2], S1hsvrefA1_6[2],S1hsvrefA1_7[2], S1hsvrefA1_8[2],S1hsvrefA1_9[2], S1hsvrefA1_10[2],S1hsvrefA1_11[2], S1hsvrefA1_12[0],S1hsvrefA1_13[2], S1hsvrefA1_14[2],S1hsvrefA1_15[2], S1hsvrefA1_16[2],S1hsvrefA1_17[2]],\n",
        "   'H-Shad': [S1hsvA1_2[0],S1hsvA2_1[0],S1hsvA3_1[0],S1hsvA3_51[0],S1hsvA4_1[0],S1hsvB1_1[0],S1hsvB2_1[0],S1hsvB3_1[0],S1hsvB4_1[0],S1hsvC1_1[0],S1hsvC2_1[0],S1hsvC3_1[0],S1hsvC4_1[0],S1hsvD2_1[0],S1hsvD3_1[0],S1hsvD4_1[0]],\n",
        "   'S-Shad': [S1hsvA1_2[1],S1hsvA2_1[1],S1hsvA3_1[1],S1hsvA3_51[1],S1hsvA4_1[1],S1hsvB1_1[1],S1hsvB2_1[1],S1hsvB3_1[1],S1hsvB4_1[1],S1hsvC1_1[1],S1hsvC2_1[1],S1hsvC3_1[1],S1hsvC4_1[1],S1hsvD2_1[1],S1hsvD3_1[1],S1hsvD4_1[1]],\n",
        "   'V-Shad': [S1hsvA1_2[2],S1hsvA2_1[2],S1hsvA3_1[2],S1hsvA3_51[2],S1hsvA4_1[2],S1hsvB1_1[2],S1hsvB2_1[2],S1hsvB3_1[2],S1hsvB4_1[2],S1hsvC1_1[2],S1hsvC2_1[2],S1hsvC3_1[2],S1hsvC4_1[2],S1hsvD2_1[2],S1hsvD3_1[2],S1hsvD4_1[2]],\n",
        "   'Shade-ref': ['A1', 'A1', 'A1',  'A1', 'A1', 'A1', 'A1', 'A1', 'A1', 'A1', 'A1', 'A1', 'A1', 'A1', 'A1', 'A1'],\n",
        "   'Shade':      ['A1', 'A2', 'A3', 'A3_5', 'A4', 'B1', 'B2', 'B3', 'B4', 'C1', 'C2', 'C3', 'C4', 'D2', 'D3', 'D4'],\n",
        "   'Setting':     ['Set1', 'Set1', 'Set1', 'Set1', 'Set1', 'Set1', 'Set1', 'Set1', 'Set1', 'Set1', 'Set1', 'Set1', 'Set1', 'Set1', 'Set1', 'Set1']}) "
      ],
      "execution_count": 466,
      "outputs": []
    },
    {
      "cell_type": "code",
      "metadata": {
        "id": "H9UHY813QsXY"
      },
      "source": [
        "df2 = pd.DataFrame({'R-ref': [S2rgbrefA1_1[0],S2rgbrefA1_3[0],S2rgbrefA1_4[0], S2rgbrefA1_5[0], S2rgbrefA1_6[0],S2rgbrefA1_7[0], S2rgbrefA1_8[0],S2rgbrefA1_9[0], S2rgbrefA1_10[0], S2rgbrefA1_11[0], S2rgbrefA1_12[0], S2rgbrefA1_13[0], S2rgbrefA1_14[0], S2rgbrefA1_15[0], S2rgbrefA1_16[0], S2rgbrefA1_17[0]],\n",
        "    'G-ref': [S2rgbrefA1_1[1], S2rgbrefA1_3[1], S2rgbrefA1_4[1], S2rgbrefA1_5[1], S2rgbrefA1_6[1], S2rgbrefA1_7[1], S2rgbrefA1_8[1], S2rgbrefA1_9[1], S2rgbrefA1_10[1], S2rgbrefA1_11[1], S2rgbrefA1_12[1], S2rgbrefA1_13[1], S2rgbrefA1_14[1], S2rgbrefA1_15[1], S2rgbrefA1_16[1], S2rgbrefA1_17[1]],\n",
        "    'B-ref': [S2rgbrefA1_1[2],S2rgbrefA1_3[2],S2rgbrefA1_4[2],S2rgbrefA1_5[2], S2rgbrefA1_6[2],S2rgbrefA1_7[2], S2rgbrefA1_8[2],S2rgbrefA1_9[2], S2rgbrefA1_10[2],S2rgbrefA1_11[2], S2rgbrefA1_12[2],S2rgbrefA1_13[2], S2rgbrefA1_14[2],S2rgbrefA1_15[2], S2rgbrefA1_16[2],S2rgbrefA1_17[2]],\n",
        "    'R-Shad': [S2rgbA1_2[0],S2rgbA2_1[0],S2rgbA3_1[0],S2rgbA3_51[0],S2rgbA4_1[0],S2rgbB1_1[0],S2rgbB2_1[0],S2rgbB3_1[0],S2rgbB4_1[0],S2rgbC1_1[0],S2rgbC2_1[0],S2rgbC3_1[0],S2rgbC4_1[0],S2rgbD2_1[0],S2rgbD3_1[0],S2rgbD4_1[0]],\n",
        "    'G-Shad': [S2rgbA1_2[1],S2rgbA2_1[1],S2rgbA3_1[1], S2rgbA3_51[1],S2rgbA4_1[1],S2rgbB1_1[1],S2rgbB2_1[1],S2rgbB3_1[1],S2rgbB4_1[1],S2rgbC1_1[1],S2rgbC2_1[1],S2rgbC3_1[1],S2rgbC4_1[1],S2rgbD2_1[1],S2rgbD3_1[1], S2rgbD4_1[1]],\n",
        "    'B-Shad': [S2rgbA1_2[2],S2rgbA2_1[2],S2rgbA3_1[2],S2rgbA3_51[2],S2rgbA4_1[2],S2rgbB1_1[2],S2rgbB2_1[2],S2rgbB3_1[2],S2rgbB4_1[2],S2rgbC1_1[2],S2rgbC2_1[2],S2rgbC3_1[2],S2rgbC4_1[2],S2rgbD2_1[2],S2rgbD3_1[2], S2rgbD4_1[2]],\n",
        "    'H-ref': [S2hsvrefA1_1[0],S2hsvrefA1_3[0],S2hsvrefA1_4[0],S2hsvrefA1_5[0], S2hsvrefA1_6[0],S2hsvrefA1_7[0], S2hsvrefA1_8[0],S2hsvrefA1_9[0], S2hsvrefA1_10[0],S2hsvrefA1_11[0], S2hsvrefA1_12[0],S2hsvrefA1_13[0], S2hsvrefA1_14[0],S2hsvrefA1_15[0], S2hsvrefA1_16[0],S2hsvrefA1_17[0]],\n",
        "    'S-ref': [S2hsvrefA1_1[1],S2hsvrefA1_3[1],S2hsvrefA1_4[1],S2hsvrefA1_5[1], S2hsvrefA1_6[1],S2hsvrefA1_7[1], S2hsvrefA1_8[1],S2hsvrefA1_9[1], S2hsvrefA1_10[1],S2hsvrefA1_11[1], S2hsvrefA1_12[0],S2hsvrefA1_13[1], S2hsvrefA1_14[1],S2hsvrefA1_15[1], S2hsvrefA1_16[1],S2hsvrefA1_17[1]],\n",
        "    'V-ref': [S2hsvrefA1_1[2],S2hsvrefA1_3[2],S2hsvrefA1_4[2],S2hsvrefA1_5[2], S2hsvrefA1_6[2],S2hsvrefA1_7[2], S2hsvrefA1_8[2],S2hsvrefA1_9[2], S2hsvrefA1_10[2],S2hsvrefA1_11[2], S2hsvrefA1_12[0],S2hsvrefA1_13[2], S2hsvrefA1_14[2],S2hsvrefA1_15[2], S2hsvrefA1_16[2],S2hsvrefA1_17[2]],\n",
        "    'H-Shad': [S2hsvA1_2[0],S2hsvA2_1[0],S2hsvA3_1[0],S2hsvA3_51[0],S2hsvA4_1[0],S2hsvB1_1[0],S2hsvB2_1[0],S2hsvB3_1[0],S2hsvB4_1[0],S2hsvC1_1[0],S2hsvC2_1[0],S2hsvC3_1[0],S2hsvC4_1[0],S2hsvD2_1[0],S2hsvD3_1[0],S2hsvD4_1[0]],\n",
        "    'S-Shad': [S2hsvA1_2[1],S2hsvA2_1[1],S2hsvA3_1[1],S2hsvA3_51[1],S2hsvA4_1[1],S2hsvB1_1[1],S2hsvB2_1[1],S2hsvB3_1[1],S2hsvB4_1[1],S2hsvC1_1[1],S2hsvC2_1[1],S2hsvC3_1[1],S2hsvC4_1[1],S2hsvD2_1[1],S2hsvD3_1[1],S2hsvD4_1[1]],\n",
        "    'V-Shad': [S2hsvA1_2[2],S2hsvA2_1[2],S2hsvA3_1[2],S2hsvA3_51[2],S2hsvA4_1[2],S2hsvB1_1[2],S2hsvB2_1[2],S2hsvB3_1[2],S2hsvB4_1[2],S2hsvC1_1[2],S2hsvC2_1[2],S2hsvC3_1[2],S2hsvC4_1[2],S2hsvD2_1[2],S2hsvD3_1[2],S2hsvD4_1[2]],\n",
        "    'Shade-ref': ['A1', 'A1', 'A1',  'A1', 'A1', 'A1', 'A1', 'A1', 'A1', 'A1', 'A1', 'A1', 'A1', 'A1', 'A1', 'A1'],\n",
        "    'Shade':      ['A1', 'A2', 'A3', 'A3_5', 'A4', 'B1', 'B2', 'B3', 'B4', 'C1', 'C2', 'C3', 'C4', 'D2', 'D3', 'D4'],\n",
        "    'Setting':     ['Set2', 'Set2', 'Set2', 'Set2', 'Set2', 'Set2', 'Set2', 'Set2', 'Set2', 'Set2', 'Set2', 'Set2', 'Set2', 'Set2', 'Set2', 'Set2']}) "
      ],
      "execution_count": 467,
      "outputs": []
    },
    {
      "cell_type": "code",
      "metadata": {
        "id": "kIf8qhVwQvpH"
      },
      "source": [
        "df3 = pd.DataFrame({'R-ref': [S3rgbrefA1_1[0],S3rgbrefA1_3[0],S3rgbrefA1_4[0], S3rgbrefA1_5[0], S3rgbrefA1_6[0],S3rgbrefA1_7[0], S3rgbrefA1_8[0],S3rgbrefA1_9[0], S3rgbrefA1_10[0], S3rgbrefA1_11[0], S3rgbrefA1_12[0], S3rgbrefA1_13[0], S3rgbrefA1_14[0], S3rgbrefA1_15[0], S3rgbrefA1_16[0], S3rgbrefA1_17[0]],\n",
        "    'G-ref': [S3rgbrefA1_1[1], S3rgbrefA1_3[1], S3rgbrefA1_4[1], S3rgbrefA1_5[1], S3rgbrefA1_6[1], S3rgbrefA1_7[1], S3rgbrefA1_8[1], S3rgbrefA1_9[1], S3rgbrefA1_10[1], S3rgbrefA1_11[1], S3rgbrefA1_12[1], S3rgbrefA1_13[1], S3rgbrefA1_14[1], S3rgbrefA1_15[1], S3rgbrefA1_16[1], S3rgbrefA1_17[1]],\n",
        "    'B-ref': [S3rgbrefA1_1[2],S3rgbrefA1_3[2],S3rgbrefA1_4[2],S3rgbrefA1_5[2], S3rgbrefA1_6[2],S3rgbrefA1_7[2], S3rgbrefA1_8[2],S3rgbrefA1_9[2], S3rgbrefA1_10[2],S3rgbrefA1_11[2], S3rgbrefA1_12[2],S3rgbrefA1_13[2], S3rgbrefA1_14[2],S3rgbrefA1_15[2], S3rgbrefA1_16[2],S3rgbrefA1_17[2]],\n",
        "    'R-Shad': [S3rgbA1_2[0],S3rgbA2_1[0],S3rgbA3_1[0],S3rgbA3_51[0],S3rgbA4_1[0],S3rgbB1_1[0],S3rgbB2_1[0],S3rgbB3_1[0],S3rgbB4_1[0],S3rgbC1_1[0],S3rgbC2_1[0],S3rgbC3_1[0],S3rgbC4_1[0],S3rgbD2_1[0],S3rgbD3_1[0],S3rgbD4_1[0]],\n",
        "    'G-Shad': [S3rgbA1_2[1],S3rgbA2_1[1],S3rgbA3_1[1], S3rgbA3_51[1],S3rgbA4_1[1],S3rgbB1_1[1],S3rgbB2_1[1],S3rgbB3_1[1],S3rgbB4_1[1],S3rgbC1_1[1],S3rgbC2_1[1],S3rgbC3_1[1],S3rgbC4_1[1],S3rgbD2_1[1],S3rgbD3_1[1], S3rgbD4_1[1]],\n",
        "    'B-Shad': [S3rgbA1_2[2],S3rgbA2_1[2],S3rgbA3_1[2],S3rgbA3_51[2],S3rgbA4_1[2],S3rgbB1_1[2],S3rgbB2_1[2],S3rgbB3_1[2],S3rgbB4_1[2],S3rgbC1_1[2],S3rgbC2_1[2],S3rgbC3_1[2],S3rgbC4_1[2],S3rgbD2_1[2],S3rgbD3_1[2], S3rgbD4_1[2]],\n",
        "    'H-ref': [S3hsvrefA1_1[0],S3hsvrefA1_3[0],S3hsvrefA1_4[0],S3hsvrefA1_5[0], S3hsvrefA1_6[0],S3hsvrefA1_7[0], S3hsvrefA1_8[0],S3hsvrefA1_9[0], S3hsvrefA1_10[0],S3hsvrefA1_11[0], S3hsvrefA1_12[0],S3hsvrefA1_13[0], S3hsvrefA1_14[0],S3hsvrefA1_15[0], S3hsvrefA1_16[0],S3hsvrefA1_17[0]],\n",
        "    'S-ref': [S3hsvrefA1_1[1],S3hsvrefA1_3[1],S3hsvrefA1_4[1],S3hsvrefA1_5[1], S3hsvrefA1_6[1],S3hsvrefA1_7[1], S3hsvrefA1_8[1],S3hsvrefA1_9[1], S3hsvrefA1_10[1],S3hsvrefA1_11[1], S3hsvrefA1_12[0],S3hsvrefA1_13[1], S3hsvrefA1_14[1],S3hsvrefA1_15[1], S3hsvrefA1_16[1],S3hsvrefA1_17[1]],\n",
        "    'V-ref': [S3hsvrefA1_1[2],S3hsvrefA1_3[2],S3hsvrefA1_4[2],S3hsvrefA1_5[2], S3hsvrefA1_6[2],S3hsvrefA1_7[2], S3hsvrefA1_8[2],S3hsvrefA1_9[2], S3hsvrefA1_10[2],S3hsvrefA1_11[2], S3hsvrefA1_12[0],S3hsvrefA1_13[2], S3hsvrefA1_14[2],S3hsvrefA1_15[2], S3hsvrefA1_16[2],S3hsvrefA1_17[2]],\n",
        "    'H-Shad': [S3hsvA1_2[0],S3hsvA2_1[0],S3hsvA3_1[0],S3hsvA3_51[0],S3hsvA4_1[0],S3hsvB1_1[0],S3hsvB2_1[0],S3hsvB3_1[0],S3hsvB4_1[0],S3hsvC1_1[0],S3hsvC2_1[0],S3hsvC3_1[0],S3hsvC4_1[0],S3hsvD2_1[0],S3hsvD3_1[0],S3hsvD4_1[0]],\n",
        "    'S-Shad': [S3hsvA1_2[1],S3hsvA2_1[1],S3hsvA3_1[1],S3hsvA3_51[1],S3hsvA4_1[1],S3hsvB1_1[1],S3hsvB2_1[1],S3hsvB3_1[1],S3hsvB4_1[1],S3hsvC1_1[1],S3hsvC2_1[1],S3hsvC3_1[1],S3hsvC4_1[1],S3hsvD2_1[1],S3hsvD3_1[1],S3hsvD4_1[1]],\n",
        "    'V-Shad': [S3hsvA1_2[2],S3hsvA2_1[2],S3hsvA3_1[2],S3hsvA3_51[2],S3hsvA4_1[2],S3hsvB1_1[2],S3hsvB2_1[2],S3hsvB3_1[2],S3hsvB4_1[2],S3hsvC1_1[2],S3hsvC2_1[2],S3hsvC3_1[2],S3hsvC4_1[2],S3hsvD2_1[2],S3hsvD3_1[2],S3hsvD4_1[2]],\n",
        "    'Shade-ref': ['A1', 'A1', 'A1',  'A1', 'A1', 'A1', 'A1', 'A1', 'A1', 'A1', 'A1', 'A1', 'A1', 'A1', 'A1', 'A1'],\n",
        "    'Shade':      ['A1', 'A2', 'A3', 'A3_5', 'A4', 'B1', 'B2', 'B3', 'B4', 'C1', 'C2', 'C3', 'C4', 'D2', 'D3', 'D4'],\n",
        "    'Setting':     ['Set3', 'Set3', 'Set3', 'Set3', 'Set3', 'Set3', 'Set3', 'Set3', 'Set3', 'Set3', 'Set3', 'Set3', 'Set3', 'Set3', 'Set3', 'Set3']}) "
      ],
      "execution_count": 468,
      "outputs": []
    },
    {
      "cell_type": "code",
      "metadata": {
        "id": "s2Mvgj_WiADP"
      },
      "source": [
        "df4 = pd.DataFrame({'R-ref': [S4rgbrefA1_1[0],S4rgbrefA1_3[0],S4rgbrefA1_4[0], S4rgbrefA1_5[0], S4rgbrefA1_6[0],S4rgbrefA1_7[0], S4rgbrefA1_8[0],S4rgbrefA1_9[0], S4rgbrefA1_10[0], S4rgbrefA1_11[0], S4rgbrefA1_12[0], S4rgbrefA1_13[0], S4rgbrefA1_14[0], S4rgbrefA1_15[0], S4rgbrefA1_16[0], S4rgbrefA1_17[0]],\n",
        "    'G-ref': [S4rgbrefA1_1[1], S4rgbrefA1_3[1], S4rgbrefA1_4[1], S4rgbrefA1_5[1], S4rgbrefA1_6[1], S4rgbrefA1_7[1], S4rgbrefA1_8[1], S4rgbrefA1_9[1], S4rgbrefA1_10[1], S4rgbrefA1_11[1], S4rgbrefA1_12[1], S4rgbrefA1_13[1], S4rgbrefA1_14[1], S4rgbrefA1_15[1], S4rgbrefA1_16[1], S4rgbrefA1_17[1]],\n",
        "    'B-ref': [S4rgbrefA1_1[2],S4rgbrefA1_3[2],S4rgbrefA1_4[2],S4rgbrefA1_5[2], S4rgbrefA1_6[2],S4rgbrefA1_7[2], S4rgbrefA1_8[2],S4rgbrefA1_9[2], S4rgbrefA1_10[2],S4rgbrefA1_11[2], S4rgbrefA1_12[2],S4rgbrefA1_13[2], S4rgbrefA1_14[2],S4rgbrefA1_15[2], S4rgbrefA1_16[2],S4rgbrefA1_17[2]],\n",
        "    'R-Shad': [S4rgbA1_2[0],S4rgbA2_1[0],S4rgbA3_1[0],S4rgbA3_51[0],S4rgbA4_1[0],S4rgbB1_1[0],S4rgbB2_1[0],S4rgbB3_1[0],S4rgbB4_1[0],S4rgbC1_1[0],S4rgbC2_1[0],S4rgbC3_1[0],S4rgbC4_1[0],S4rgbD2_1[0],S4rgbD3_1[0],S4rgbD4_1[0]],\n",
        "    'G-Shad': [S4rgbA1_2[1],S4rgbA2_1[1],S4rgbA3_1[1], S4rgbA3_51[1],S4rgbA4_1[1],S4rgbB1_1[1],S4rgbB2_1[1],S4rgbB3_1[1],S4rgbB4_1[1],S4rgbC1_1[1],S4rgbC2_1[1],S4rgbC3_1[1],S4rgbC4_1[1],S4rgbD2_1[1],S4rgbD3_1[1], S4rgbD4_1[1]],\n",
        "    'B-Shad': [S4rgbA1_2[2],S4rgbA2_1[2],S4rgbA3_1[2],S4rgbA3_51[2],S4rgbA4_1[2],S4rgbB1_1[2],S4rgbB2_1[2],S4rgbB3_1[2],S4rgbB4_1[2],S4rgbC1_1[2],S4rgbC2_1[2],S4rgbC3_1[2],S4rgbC4_1[2],S4rgbD2_1[2],S4rgbD3_1[2], S4rgbD4_1[2]],\n",
        "    'H-ref': [S4hsvrefA1_1[0],S4hsvrefA1_3[0],S4hsvrefA1_4[0],S4hsvrefA1_5[0], S4hsvrefA1_6[0],S4hsvrefA1_7[0], S4hsvrefA1_8[0],S4hsvrefA1_9[0], S4hsvrefA1_10[0],S4hsvrefA1_11[0], S4hsvrefA1_12[0],S4hsvrefA1_13[0], S4hsvrefA1_14[0],S4hsvrefA1_15[0], S4hsvrefA1_16[0],S4hsvrefA1_17[0]],\n",
        "    'S-ref': [S4hsvrefA1_1[1],S4hsvrefA1_3[1],S4hsvrefA1_4[1],S4hsvrefA1_5[1], S4hsvrefA1_6[1],S4hsvrefA1_7[1], S4hsvrefA1_8[1],S4hsvrefA1_9[1], S4hsvrefA1_10[1],S4hsvrefA1_11[1], S4hsvrefA1_12[0],S4hsvrefA1_13[1], S4hsvrefA1_14[1],S4hsvrefA1_15[1], S4hsvrefA1_16[1],S4hsvrefA1_17[1]],\n",
        "    'V-ref': [S4hsvrefA1_1[2],S4hsvrefA1_3[2],S4hsvrefA1_4[2],S4hsvrefA1_5[2], S4hsvrefA1_6[2],S4hsvrefA1_7[2], S4hsvrefA1_8[2],S4hsvrefA1_9[2], S4hsvrefA1_10[2],S4hsvrefA1_11[2], S4hsvrefA1_12[0],S4hsvrefA1_13[2], S4hsvrefA1_14[2],S4hsvrefA1_15[2], S4hsvrefA1_16[2],S4hsvrefA1_17[2]],\n",
        "    'H-Shad': [S4hsvA1_2[0],S4hsvA2_1[0],S4hsvA3_1[0],S4hsvA3_51[0],S4hsvA4_1[0],S4hsvB1_1[0],S4hsvB2_1[0],S4hsvB3_1[0],S4hsvB4_1[0],S4hsvC1_1[0],S4hsvC2_1[0],S4hsvC3_1[0],S4hsvC4_1[0],S4hsvD2_1[0],S4hsvD3_1[0],S4hsvD4_1[0]],\n",
        "    'S-Shad': [S4hsvA1_2[1],S4hsvA2_1[1],S4hsvA3_1[1],S4hsvA3_51[1],S4hsvA4_1[1],S4hsvB1_1[1],S4hsvB2_1[1],S4hsvB3_1[1],S4hsvB4_1[1],S4hsvC1_1[1],S4hsvC2_1[1],S4hsvC3_1[1],S4hsvC4_1[1],S4hsvD2_1[1],S4hsvD3_1[1],S4hsvD4_1[1]],\n",
        "    'V-Shad': [S4hsvA1_2[2],S4hsvA2_1[2],S4hsvA3_1[2],S4hsvA3_51[2],S4hsvA4_1[2],S4hsvB1_1[2],S4hsvB2_1[2],S4hsvB3_1[2],S4hsvB4_1[2],S4hsvC1_1[2],S4hsvC2_1[2],S4hsvC3_1[2],S4hsvC4_1[2],S4hsvD2_1[2],S4hsvD3_1[2],S4hsvD4_1[2]],\n",
        "    'Shade-ref': ['A1', 'A1', 'A1',  'A1', 'A1', 'A1', 'A1', 'A1', 'A1', 'A1', 'A1', 'A1', 'A1', 'A1', 'A1', 'A1'],\n",
        "    'Shade':      ['A1', 'A2', 'A3', 'A3_5', 'A4', 'B1', 'B2', 'B3', 'B4', 'C1', 'C2', 'C3', 'C4', 'D2', 'D3', 'D4'],\n",
        "    'Setting':     ['Set4', 'Set4', 'Set4', 'Set4', 'Set4', 'Set4', 'Set4', 'Set4', 'Set4', 'Set4', 'Set4', 'Set4', 'Set4', 'Set4', 'Set4', 'Set4']}) "
      ],
      "execution_count": 469,
      "outputs": []
    },
    {
      "cell_type": "code",
      "metadata": {
        "id": "l7KqyM_sQy6i",
        "colab": {
          "base_uri": "https://localhost:8080/",
          "height": 586
        },
        "outputId": "f243db0a-fd57-48d1-b845-1bd0d2154785"
      },
      "source": [
        "df"
      ],
      "execution_count": 470,
      "outputs": [
        {
          "output_type": "execute_result",
          "data": {
            "text/html": [
              "<div>\n",
              "<style scoped>\n",
              "    .dataframe tbody tr th:only-of-type {\n",
              "        vertical-align: middle;\n",
              "    }\n",
              "\n",
              "    .dataframe tbody tr th {\n",
              "        vertical-align: top;\n",
              "    }\n",
              "\n",
              "    .dataframe thead th {\n",
              "        text-align: right;\n",
              "    }\n",
              "</style>\n",
              "<table border=\"1\" class=\"dataframe\">\n",
              "  <thead>\n",
              "    <tr style=\"text-align: right;\">\n",
              "      <th></th>\n",
              "      <th>R-ref</th>\n",
              "      <th>G-ref</th>\n",
              "      <th>B-ref</th>\n",
              "      <th>R-Shad</th>\n",
              "      <th>G-Shad</th>\n",
              "      <th>B-Shad</th>\n",
              "      <th>H-ref</th>\n",
              "      <th>S-ref</th>\n",
              "      <th>V-ref</th>\n",
              "      <th>H-Shad</th>\n",
              "      <th>S-Shad</th>\n",
              "      <th>V-Shad</th>\n",
              "      <th>Shade-ref</th>\n",
              "      <th>Shade</th>\n",
              "      <th>Setting</th>\n",
              "    </tr>\n",
              "  </thead>\n",
              "  <tbody>\n",
              "    <tr>\n",
              "      <th>0</th>\n",
              "      <td>218.381625</td>\n",
              "      <td>200.642967</td>\n",
              "      <td>160.157455</td>\n",
              "      <td>218.461276</td>\n",
              "      <td>200.690847</td>\n",
              "      <td>160.311713</td>\n",
              "      <td>21.078646</td>\n",
              "      <td>68.015827</td>\n",
              "      <td>218.381625</td>\n",
              "      <td>21.032643</td>\n",
              "      <td>67.905625</td>\n",
              "      <td>218.461276</td>\n",
              "      <td>A1</td>\n",
              "      <td>A1</td>\n",
              "      <td>Set1</td>\n",
              "    </tr>\n",
              "    <tr>\n",
              "      <th>1</th>\n",
              "      <td>220.870384</td>\n",
              "      <td>198.757000</td>\n",
              "      <td>151.101777</td>\n",
              "      <td>220.817083</td>\n",
              "      <td>198.707560</td>\n",
              "      <td>151.111301</td>\n",
              "      <td>20.305495</td>\n",
              "      <td>80.590293</td>\n",
              "      <td>220.870384</td>\n",
              "      <td>20.275656</td>\n",
              "      <td>80.538297</td>\n",
              "      <td>220.817083</td>\n",
              "      <td>A1</td>\n",
              "      <td>A2</td>\n",
              "      <td>Set1</td>\n",
              "    </tr>\n",
              "    <tr>\n",
              "      <th>2</th>\n",
              "      <td>218.526337</td>\n",
              "      <td>193.972729</td>\n",
              "      <td>142.648162</td>\n",
              "      <td>218.477775</td>\n",
              "      <td>193.993315</td>\n",
              "      <td>142.845388</td>\n",
              "      <td>20.534048</td>\n",
              "      <td>88.513270</td>\n",
              "      <td>218.526337</td>\n",
              "      <td>20.520447</td>\n",
              "      <td>88.244791</td>\n",
              "      <td>218.477775</td>\n",
              "      <td>A1</td>\n",
              "      <td>A3</td>\n",
              "      <td>Set1</td>\n",
              "    </tr>\n",
              "    <tr>\n",
              "      <th>3</th>\n",
              "      <td>211.007548</td>\n",
              "      <td>181.859995</td>\n",
              "      <td>130.982956</td>\n",
              "      <td>211.011521</td>\n",
              "      <td>181.988052</td>\n",
              "      <td>131.259228</td>\n",
              "      <td>19.083841</td>\n",
              "      <td>96.739469</td>\n",
              "      <td>211.007548</td>\n",
              "      <td>19.095584</td>\n",
              "      <td>96.403456</td>\n",
              "      <td>211.011521</td>\n",
              "      <td>A1</td>\n",
              "      <td>A3_5</td>\n",
              "      <td>Set1</td>\n",
              "    </tr>\n",
              "    <tr>\n",
              "      <th>4</th>\n",
              "      <td>210.514163</td>\n",
              "      <td>180.792225</td>\n",
              "      <td>128.680870</td>\n",
              "      <td>210.596544</td>\n",
              "      <td>180.911031</td>\n",
              "      <td>128.910746</td>\n",
              "      <td>19.037659</td>\n",
              "      <td>99.225225</td>\n",
              "      <td>210.514163</td>\n",
              "      <td>19.044805</td>\n",
              "      <td>99.007396</td>\n",
              "      <td>210.596544</td>\n",
              "      <td>A1</td>\n",
              "      <td>A4</td>\n",
              "      <td>Set1</td>\n",
              "    </tr>\n",
              "    <tr>\n",
              "      <th>5</th>\n",
              "      <td>215.523821</td>\n",
              "      <td>201.958039</td>\n",
              "      <td>166.968266</td>\n",
              "      <td>215.574710</td>\n",
              "      <td>202.023256</td>\n",
              "      <td>167.105185</td>\n",
              "      <td>21.587696</td>\n",
              "      <td>57.467819</td>\n",
              "      <td>215.523821</td>\n",
              "      <td>21.589930</td>\n",
              "      <td>57.346561</td>\n",
              "      <td>215.574710</td>\n",
              "      <td>A1</td>\n",
              "      <td>B1</td>\n",
              "      <td>Set1</td>\n",
              "    </tr>\n",
              "    <tr>\n",
              "      <th>6</th>\n",
              "      <td>220.235127</td>\n",
              "      <td>202.230014</td>\n",
              "      <td>154.550686</td>\n",
              "      <td>220.201266</td>\n",
              "      <td>202.183344</td>\n",
              "      <td>154.702653</td>\n",
              "      <td>21.994887</td>\n",
              "      <td>76.115981</td>\n",
              "      <td>220.235127</td>\n",
              "      <td>21.982078</td>\n",
              "      <td>75.918569</td>\n",
              "      <td>220.201266</td>\n",
              "      <td>A1</td>\n",
              "      <td>B2</td>\n",
              "      <td>Set1</td>\n",
              "    </tr>\n",
              "    <tr>\n",
              "      <th>7</th>\n",
              "      <td>218.526337</td>\n",
              "      <td>193.972729</td>\n",
              "      <td>142.648162</td>\n",
              "      <td>218.477775</td>\n",
              "      <td>193.993315</td>\n",
              "      <td>142.845388</td>\n",
              "      <td>20.974190</td>\n",
              "      <td>95.356546</td>\n",
              "      <td>215.576982</td>\n",
              "      <td>20.976958</td>\n",
              "      <td>95.192661</td>\n",
              "      <td>215.814096</td>\n",
              "      <td>A1</td>\n",
              "      <td>B3</td>\n",
              "      <td>Set1</td>\n",
              "    </tr>\n",
              "    <tr>\n",
              "      <th>8</th>\n",
              "      <td>217.728675</td>\n",
              "      <td>188.641993</td>\n",
              "      <td>127.257122</td>\n",
              "      <td>217.929308</td>\n",
              "      <td>188.908826</td>\n",
              "      <td>127.630254</td>\n",
              "      <td>20.207288</td>\n",
              "      <td>105.933366</td>\n",
              "      <td>217.728675</td>\n",
              "      <td>20.228575</td>\n",
              "      <td>105.637792</td>\n",
              "      <td>217.929308</td>\n",
              "      <td>A1</td>\n",
              "      <td>B4</td>\n",
              "      <td>Set1</td>\n",
              "    </tr>\n",
              "    <tr>\n",
              "      <th>9</th>\n",
              "      <td>210.542651</td>\n",
              "      <td>192.692801</td>\n",
              "      <td>153.731840</td>\n",
              "      <td>210.542422</td>\n",
              "      <td>192.706564</td>\n",
              "      <td>153.918569</td>\n",
              "      <td>20.532587</td>\n",
              "      <td>68.778671</td>\n",
              "      <td>210.542651</td>\n",
              "      <td>20.487448</td>\n",
              "      <td>68.551241</td>\n",
              "      <td>210.542422</td>\n",
              "      <td>A1</td>\n",
              "      <td>C1</td>\n",
              "      <td>Set1</td>\n",
              "    </tr>\n",
              "    <tr>\n",
              "      <th>10</th>\n",
              "      <td>207.620404</td>\n",
              "      <td>184.312637</td>\n",
              "      <td>137.784595</td>\n",
              "      <td>207.716450</td>\n",
              "      <td>184.435744</td>\n",
              "      <td>137.972477</td>\n",
              "      <td>19.984823</td>\n",
              "      <td>19.984823</td>\n",
              "      <td>19.984823</td>\n",
              "      <td>19.980087</td>\n",
              "      <td>85.592917</td>\n",
              "      <td>207.716450</td>\n",
              "      <td>A1</td>\n",
              "      <td>C2</td>\n",
              "      <td>Set1</td>\n",
              "    </tr>\n",
              "    <tr>\n",
              "      <th>11</th>\n",
              "      <td>216.174418</td>\n",
              "      <td>187.190731</td>\n",
              "      <td>134.778021</td>\n",
              "      <td>216.036697</td>\n",
              "      <td>187.215774</td>\n",
              "      <td>134.799872</td>\n",
              "      <td>19.236669</td>\n",
              "      <td>96.098531</td>\n",
              "      <td>216.174418</td>\n",
              "      <td>19.293365</td>\n",
              "      <td>95.961880</td>\n",
              "      <td>216.036697</td>\n",
              "      <td>A1</td>\n",
              "      <td>C3</td>\n",
              "      <td>Set1</td>\n",
              "    </tr>\n",
              "    <tr>\n",
              "      <th>12</th>\n",
              "      <td>196.174823</td>\n",
              "      <td>167.800341</td>\n",
              "      <td>115.958607</td>\n",
              "      <td>196.502454</td>\n",
              "      <td>168.153972</td>\n",
              "      <td>116.348410</td>\n",
              "      <td>19.351676</td>\n",
              "      <td>104.322945</td>\n",
              "      <td>196.174823</td>\n",
              "      <td>19.357443</td>\n",
              "      <td>104.076737</td>\n",
              "      <td>196.502454</td>\n",
              "      <td>A1</td>\n",
              "      <td>C4</td>\n",
              "      <td>Set1</td>\n",
              "    </tr>\n",
              "    <tr>\n",
              "      <th>13</th>\n",
              "      <td>219.719422</td>\n",
              "      <td>200.598247</td>\n",
              "      <td>161.475854</td>\n",
              "      <td>219.570159</td>\n",
              "      <td>200.433184</td>\n",
              "      <td>161.337174</td>\n",
              "      <td>19.880773</td>\n",
              "      <td>67.582014</td>\n",
              "      <td>219.719422</td>\n",
              "      <td>19.862528</td>\n",
              "      <td>67.614394</td>\n",
              "      <td>219.570159</td>\n",
              "      <td>A1</td>\n",
              "      <td>D2</td>\n",
              "      <td>Set1</td>\n",
              "    </tr>\n",
              "    <tr>\n",
              "      <th>14</th>\n",
              "      <td>213.139924</td>\n",
              "      <td>187.205178</td>\n",
              "      <td>138.546303</td>\n",
              "      <td>213.292298</td>\n",
              "      <td>187.435460</td>\n",
              "      <td>139.004836</td>\n",
              "      <td>19.796851</td>\n",
              "      <td>89.286665</td>\n",
              "      <td>213.139924</td>\n",
              "      <td>19.760828</td>\n",
              "      <td>88.853495</td>\n",
              "      <td>213.292298</td>\n",
              "      <td>A1</td>\n",
              "      <td>D3</td>\n",
              "      <td>Set1</td>\n",
              "    </tr>\n",
              "    <tr>\n",
              "      <th>15</th>\n",
              "      <td>196.174823</td>\n",
              "      <td>167.800341</td>\n",
              "      <td>115.958607</td>\n",
              "      <td>213.507361</td>\n",
              "      <td>190.604936</td>\n",
              "      <td>137.593201</td>\n",
              "      <td>19.351676</td>\n",
              "      <td>104.322945</td>\n",
              "      <td>196.174823</td>\n",
              "      <td>21.010383</td>\n",
              "      <td>90.688998</td>\n",
              "      <td>213.507361</td>\n",
              "      <td>A1</td>\n",
              "      <td>D4</td>\n",
              "      <td>Set1</td>\n",
              "    </tr>\n",
              "  </tbody>\n",
              "</table>\n",
              "</div>"
            ],
            "text/plain": [
              "         R-ref       G-ref       B-ref  ...  Shade-ref  Shade  Setting\n",
              "0   218.381625  200.642967  160.157455  ...         A1     A1     Set1\n",
              "1   220.870384  198.757000  151.101777  ...         A1     A2     Set1\n",
              "2   218.526337  193.972729  142.648162  ...         A1     A3     Set1\n",
              "3   211.007548  181.859995  130.982956  ...         A1   A3_5     Set1\n",
              "4   210.514163  180.792225  128.680870  ...         A1     A4     Set1\n",
              "5   215.523821  201.958039  166.968266  ...         A1     B1     Set1\n",
              "6   220.235127  202.230014  154.550686  ...         A1     B2     Set1\n",
              "7   218.526337  193.972729  142.648162  ...         A1     B3     Set1\n",
              "8   217.728675  188.641993  127.257122  ...         A1     B4     Set1\n",
              "9   210.542651  192.692801  153.731840  ...         A1     C1     Set1\n",
              "10  207.620404  184.312637  137.784595  ...         A1     C2     Set1\n",
              "11  216.174418  187.190731  134.778021  ...         A1     C3     Set1\n",
              "12  196.174823  167.800341  115.958607  ...         A1     C4     Set1\n",
              "13  219.719422  200.598247  161.475854  ...         A1     D2     Set1\n",
              "14  213.139924  187.205178  138.546303  ...         A1     D3     Set1\n",
              "15  196.174823  167.800341  115.958607  ...         A1     D4     Set1\n",
              "\n",
              "[16 rows x 15 columns]"
            ]
          },
          "metadata": {},
          "execution_count": 470
        }
      ]
    },
    {
      "cell_type": "code",
      "metadata": {
        "id": "s0YBBbmbQzwH",
        "colab": {
          "base_uri": "https://localhost:8080/",
          "height": 586
        },
        "outputId": "4c7f7922-049f-4d06-e78e-b62115c07878"
      },
      "source": [
        "df2"
      ],
      "execution_count": 471,
      "outputs": [
        {
          "output_type": "execute_result",
          "data": {
            "text/html": [
              "<div>\n",
              "<style scoped>\n",
              "    .dataframe tbody tr th:only-of-type {\n",
              "        vertical-align: middle;\n",
              "    }\n",
              "\n",
              "    .dataframe tbody tr th {\n",
              "        vertical-align: top;\n",
              "    }\n",
              "\n",
              "    .dataframe thead th {\n",
              "        text-align: right;\n",
              "    }\n",
              "</style>\n",
              "<table border=\"1\" class=\"dataframe\">\n",
              "  <thead>\n",
              "    <tr style=\"text-align: right;\">\n",
              "      <th></th>\n",
              "      <th>R-ref</th>\n",
              "      <th>G-ref</th>\n",
              "      <th>B-ref</th>\n",
              "      <th>R-Shad</th>\n",
              "      <th>G-Shad</th>\n",
              "      <th>B-Shad</th>\n",
              "      <th>H-ref</th>\n",
              "      <th>S-ref</th>\n",
              "      <th>V-ref</th>\n",
              "      <th>H-Shad</th>\n",
              "      <th>S-Shad</th>\n",
              "      <th>V-Shad</th>\n",
              "      <th>Shade-ref</th>\n",
              "      <th>Shade</th>\n",
              "      <th>Setting</th>\n",
              "    </tr>\n",
              "  </thead>\n",
              "  <tbody>\n",
              "    <tr>\n",
              "      <th>0</th>\n",
              "      <td>222.802126</td>\n",
              "      <td>217.319536</td>\n",
              "      <td>195.612044</td>\n",
              "      <td>221.941398</td>\n",
              "      <td>216.430339</td>\n",
              "      <td>194.691203</td>\n",
              "      <td>24.035062</td>\n",
              "      <td>31.117198</td>\n",
              "      <td>222.802126</td>\n",
              "      <td>24.018206</td>\n",
              "      <td>31.302823</td>\n",
              "      <td>221.941398</td>\n",
              "      <td>A1</td>\n",
              "      <td>A1</td>\n",
              "      <td>Set2</td>\n",
              "    </tr>\n",
              "    <tr>\n",
              "      <th>1</th>\n",
              "      <td>227.478127</td>\n",
              "      <td>222.194140</td>\n",
              "      <td>192.289993</td>\n",
              "      <td>226.770287</td>\n",
              "      <td>221.419956</td>\n",
              "      <td>191.301472</td>\n",
              "      <td>25.684928</td>\n",
              "      <td>39.450937</td>\n",
              "      <td>227.478127</td>\n",
              "      <td>25.636939</td>\n",
              "      <td>39.900861</td>\n",
              "      <td>226.770287</td>\n",
              "      <td>A1</td>\n",
              "      <td>A2</td>\n",
              "      <td>Set2</td>\n",
              "    </tr>\n",
              "    <tr>\n",
              "      <th>2</th>\n",
              "      <td>230.637042</td>\n",
              "      <td>225.484376</td>\n",
              "      <td>187.510105</td>\n",
              "      <td>229.878387</td>\n",
              "      <td>224.596259</td>\n",
              "      <td>186.444279</td>\n",
              "      <td>26.810973</td>\n",
              "      <td>47.702703</td>\n",
              "      <td>230.637042</td>\n",
              "      <td>26.738497</td>\n",
              "      <td>48.209871</td>\n",
              "      <td>229.878387</td>\n",
              "      <td>A1</td>\n",
              "      <td>A3</td>\n",
              "      <td>Set2</td>\n",
              "    </tr>\n",
              "    <tr>\n",
              "      <th>3</th>\n",
              "      <td>228.971269</td>\n",
              "      <td>217.630225</td>\n",
              "      <td>168.080594</td>\n",
              "      <td>228.108456</td>\n",
              "      <td>216.748311</td>\n",
              "      <td>166.982220</td>\n",
              "      <td>24.275546</td>\n",
              "      <td>67.874199</td>\n",
              "      <td>228.971269</td>\n",
              "      <td>24.273451</td>\n",
              "      <td>68.425717</td>\n",
              "      <td>228.108456</td>\n",
              "      <td>A1</td>\n",
              "      <td>A3_5</td>\n",
              "      <td>Set2</td>\n",
              "    </tr>\n",
              "    <tr>\n",
              "      <th>4</th>\n",
              "      <td>217.951303</td>\n",
              "      <td>206.322052</td>\n",
              "      <td>158.203149</td>\n",
              "      <td>216.500107</td>\n",
              "      <td>204.703648</td>\n",
              "      <td>156.693194</td>\n",
              "      <td>24.099261</td>\n",
              "      <td>70.004220</td>\n",
              "      <td>217.951303</td>\n",
              "      <td>24.012090</td>\n",
              "      <td>70.603158</td>\n",
              "      <td>216.500107</td>\n",
              "      <td>A1</td>\n",
              "      <td>A4</td>\n",
              "      <td>Set2</td>\n",
              "    </tr>\n",
              "    <tr>\n",
              "      <th>5</th>\n",
              "      <td>169.622190</td>\n",
              "      <td>171.623813</td>\n",
              "      <td>158.924925</td>\n",
              "      <td>168.059455</td>\n",
              "      <td>170.059953</td>\n",
              "      <td>157.343788</td>\n",
              "      <td>35.001623</td>\n",
              "      <td>18.929064</td>\n",
              "      <td>171.623813</td>\n",
              "      <td>34.995804</td>\n",
              "      <td>19.145295</td>\n",
              "      <td>170.059953</td>\n",
              "      <td>A1</td>\n",
              "      <td>B1</td>\n",
              "      <td>Set2</td>\n",
              "    </tr>\n",
              "    <tr>\n",
              "      <th>6</th>\n",
              "      <td>169.417012</td>\n",
              "      <td>169.296080</td>\n",
              "      <td>143.799123</td>\n",
              "      <td>167.533248</td>\n",
              "      <td>167.374724</td>\n",
              "      <td>142.036342</td>\n",
              "      <td>29.879068</td>\n",
              "      <td>38.558396</td>\n",
              "      <td>169.417661</td>\n",
              "      <td>29.841476</td>\n",
              "      <td>38.851362</td>\n",
              "      <td>167.533817</td>\n",
              "      <td>A1</td>\n",
              "      <td>B2</td>\n",
              "      <td>Set2</td>\n",
              "    </tr>\n",
              "    <tr>\n",
              "      <th>7</th>\n",
              "      <td>162.462544</td>\n",
              "      <td>160.869735</td>\n",
              "      <td>129.815924</td>\n",
              "      <td>160.825190</td>\n",
              "      <td>159.324372</td>\n",
              "      <td>128.342792</td>\n",
              "      <td>28.407191</td>\n",
              "      <td>51.323837</td>\n",
              "      <td>162.463842</td>\n",
              "      <td>28.499182</td>\n",
              "      <td>51.621506</td>\n",
              "      <td>160.826328</td>\n",
              "      <td>A1</td>\n",
              "      <td>B3</td>\n",
              "      <td>Set2</td>\n",
              "    </tr>\n",
              "    <tr>\n",
              "      <th>8</th>\n",
              "      <td>160.510267</td>\n",
              "      <td>156.523253</td>\n",
              "      <td>119.756838</td>\n",
              "      <td>159.134628</td>\n",
              "      <td>155.144869</td>\n",
              "      <td>118.458218</td>\n",
              "      <td>26.982956</td>\n",
              "      <td>64.966399</td>\n",
              "      <td>160.510673</td>\n",
              "      <td>26.976958</td>\n",
              "      <td>65.398549</td>\n",
              "      <td>159.134912</td>\n",
              "      <td>A1</td>\n",
              "      <td>B4</td>\n",
              "      <td>Set2</td>\n",
              "    </tr>\n",
              "    <tr>\n",
              "      <th>9</th>\n",
              "      <td>161.486000</td>\n",
              "      <td>159.208749</td>\n",
              "      <td>141.440549</td>\n",
              "      <td>159.941825</td>\n",
              "      <td>157.683451</td>\n",
              "      <td>140.011806</td>\n",
              "      <td>26.512296</td>\n",
              "      <td>31.571058</td>\n",
              "      <td>161.486649</td>\n",
              "      <td>26.539080</td>\n",
              "      <td>31.699595</td>\n",
              "      <td>159.942252</td>\n",
              "      <td>A1</td>\n",
              "      <td>C1</td>\n",
              "      <td>Set2</td>\n",
              "    </tr>\n",
              "    <tr>\n",
              "      <th>10</th>\n",
              "      <td>149.807564</td>\n",
              "      <td>146.430485</td>\n",
              "      <td>125.247545</td>\n",
              "      <td>148.195790</td>\n",
              "      <td>144.952137</td>\n",
              "      <td>123.737288</td>\n",
              "      <td>25.786706</td>\n",
              "      <td>25.786706</td>\n",
              "      <td>25.786706</td>\n",
              "      <td>25.945665</td>\n",
              "      <td>42.242728</td>\n",
              "      <td>148.195790</td>\n",
              "      <td>A1</td>\n",
              "      <td>C2</td>\n",
              "      <td>Set2</td>\n",
              "    </tr>\n",
              "    <tr>\n",
              "      <th>11</th>\n",
              "      <td>144.599383</td>\n",
              "      <td>139.445905</td>\n",
              "      <td>111.018099</td>\n",
              "      <td>143.320319</td>\n",
              "      <td>138.082711</td>\n",
              "      <td>109.934784</td>\n",
              "      <td>25.659443</td>\n",
              "      <td>59.342748</td>\n",
              "      <td>144.599383</td>\n",
              "      <td>25.498329</td>\n",
              "      <td>59.540147</td>\n",
              "      <td>143.320319</td>\n",
              "      <td>A1</td>\n",
              "      <td>C3</td>\n",
              "      <td>Set2</td>\n",
              "    </tr>\n",
              "    <tr>\n",
              "      <th>12</th>\n",
              "      <td>134.461975</td>\n",
              "      <td>127.590536</td>\n",
              "      <td>99.558315</td>\n",
              "      <td>133.266837</td>\n",
              "      <td>126.418178</td>\n",
              "      <td>98.443994</td>\n",
              "      <td>24.028488</td>\n",
              "      <td>66.519682</td>\n",
              "      <td>134.461975</td>\n",
              "      <td>24.035346</td>\n",
              "      <td>66.954128</td>\n",
              "      <td>133.266837</td>\n",
              "      <td>A1</td>\n",
              "      <td>C4</td>\n",
              "      <td>Set2</td>\n",
              "    </tr>\n",
              "    <tr>\n",
              "      <th>13</th>\n",
              "      <td>149.680545</td>\n",
              "      <td>149.263371</td>\n",
              "      <td>138.299651</td>\n",
              "      <td>148.145367</td>\n",
              "      <td>147.718370</td>\n",
              "      <td>136.742408</td>\n",
              "      <td>29.164678</td>\n",
              "      <td>19.356302</td>\n",
              "      <td>149.682493</td>\n",
              "      <td>29.148282</td>\n",
              "      <td>19.632672</td>\n",
              "      <td>148.147785</td>\n",
              "      <td>A1</td>\n",
              "      <td>D2</td>\n",
              "      <td>Set2</td>\n",
              "    </tr>\n",
              "    <tr>\n",
              "      <th>14</th>\n",
              "      <td>151.229364</td>\n",
              "      <td>146.197630</td>\n",
              "      <td>123.986202</td>\n",
              "      <td>149.797952</td>\n",
              "      <td>144.815234</td>\n",
              "      <td>122.786217</td>\n",
              "      <td>24.377080</td>\n",
              "      <td>45.972243</td>\n",
              "      <td>151.229364</td>\n",
              "      <td>24.383472</td>\n",
              "      <td>46.027736</td>\n",
              "      <td>149.797952</td>\n",
              "      <td>A1</td>\n",
              "      <td>D3</td>\n",
              "      <td>Set2</td>\n",
              "    </tr>\n",
              "    <tr>\n",
              "      <th>15</th>\n",
              "      <td>134.461975</td>\n",
              "      <td>127.590536</td>\n",
              "      <td>99.558315</td>\n",
              "      <td>153.658915</td>\n",
              "      <td>150.706706</td>\n",
              "      <td>118.013939</td>\n",
              "      <td>24.028488</td>\n",
              "      <td>66.519682</td>\n",
              "      <td>134.461975</td>\n",
              "      <td>27.266268</td>\n",
              "      <td>59.241377</td>\n",
              "      <td>153.658915</td>\n",
              "      <td>A1</td>\n",
              "      <td>D4</td>\n",
              "      <td>Set2</td>\n",
              "    </tr>\n",
              "  </tbody>\n",
              "</table>\n",
              "</div>"
            ],
            "text/plain": [
              "         R-ref       G-ref       B-ref  ...  Shade-ref  Shade  Setting\n",
              "0   222.802126  217.319536  195.612044  ...         A1     A1     Set2\n",
              "1   227.478127  222.194140  192.289993  ...         A1     A2     Set2\n",
              "2   230.637042  225.484376  187.510105  ...         A1     A3     Set2\n",
              "3   228.971269  217.630225  168.080594  ...         A1   A3_5     Set2\n",
              "4   217.951303  206.322052  158.203149  ...         A1     A4     Set2\n",
              "5   169.622190  171.623813  158.924925  ...         A1     B1     Set2\n",
              "6   169.417012  169.296080  143.799123  ...         A1     B2     Set2\n",
              "7   162.462544  160.869735  129.815924  ...         A1     B3     Set2\n",
              "8   160.510267  156.523253  119.756838  ...         A1     B4     Set2\n",
              "9   161.486000  159.208749  141.440549  ...         A1     C1     Set2\n",
              "10  149.807564  146.430485  125.247545  ...         A1     C2     Set2\n",
              "11  144.599383  139.445905  111.018099  ...         A1     C3     Set2\n",
              "12  134.461975  127.590536   99.558315  ...         A1     C4     Set2\n",
              "13  149.680545  149.263371  138.299651  ...         A1     D2     Set2\n",
              "14  151.229364  146.197630  123.986202  ...         A1     D3     Set2\n",
              "15  134.461975  127.590536   99.558315  ...         A1     D4     Set2\n",
              "\n",
              "[16 rows x 15 columns]"
            ]
          },
          "metadata": {},
          "execution_count": 471
        }
      ]
    },
    {
      "cell_type": "code",
      "metadata": {
        "id": "oAA99whHQ0yd",
        "colab": {
          "base_uri": "https://localhost:8080/",
          "height": 586
        },
        "outputId": "8616becb-bd59-4151-a97e-2e35642ce822"
      },
      "source": [
        "df3"
      ],
      "execution_count": 472,
      "outputs": [
        {
          "output_type": "execute_result",
          "data": {
            "text/html": [
              "<div>\n",
              "<style scoped>\n",
              "    .dataframe tbody tr th:only-of-type {\n",
              "        vertical-align: middle;\n",
              "    }\n",
              "\n",
              "    .dataframe tbody tr th {\n",
              "        vertical-align: top;\n",
              "    }\n",
              "\n",
              "    .dataframe thead th {\n",
              "        text-align: right;\n",
              "    }\n",
              "</style>\n",
              "<table border=\"1\" class=\"dataframe\">\n",
              "  <thead>\n",
              "    <tr style=\"text-align: right;\">\n",
              "      <th></th>\n",
              "      <th>R-ref</th>\n",
              "      <th>G-ref</th>\n",
              "      <th>B-ref</th>\n",
              "      <th>R-Shad</th>\n",
              "      <th>G-Shad</th>\n",
              "      <th>B-Shad</th>\n",
              "      <th>H-ref</th>\n",
              "      <th>S-ref</th>\n",
              "      <th>V-ref</th>\n",
              "      <th>H-Shad</th>\n",
              "      <th>S-Shad</th>\n",
              "      <th>V-Shad</th>\n",
              "      <th>Shade-ref</th>\n",
              "      <th>Shade</th>\n",
              "      <th>Setting</th>\n",
              "    </tr>\n",
              "  </thead>\n",
              "  <tbody>\n",
              "    <tr>\n",
              "      <th>0</th>\n",
              "      <td>234.298028</td>\n",
              "      <td>224.532505</td>\n",
              "      <td>194.303060</td>\n",
              "      <td>234.849228</td>\n",
              "      <td>225.441789</td>\n",
              "      <td>196.170969</td>\n",
              "      <td>22.820956</td>\n",
              "      <td>43.587371</td>\n",
              "      <td>234.298028</td>\n",
              "      <td>22.919351</td>\n",
              "      <td>42.100775</td>\n",
              "      <td>234.849228</td>\n",
              "      <td>A1</td>\n",
              "      <td>A1</td>\n",
              "      <td>Set3</td>\n",
              "    </tr>\n",
              "    <tr>\n",
              "      <th>1</th>\n",
              "      <td>235.802451</td>\n",
              "      <td>221.032627</td>\n",
              "      <td>184.542732</td>\n",
              "      <td>236.322879</td>\n",
              "      <td>221.982007</td>\n",
              "      <td>186.540787</td>\n",
              "      <td>21.497849</td>\n",
              "      <td>55.511403</td>\n",
              "      <td>235.802451</td>\n",
              "      <td>21.516180</td>\n",
              "      <td>53.849868</td>\n",
              "      <td>236.323519</td>\n",
              "      <td>A1</td>\n",
              "      <td>A2</td>\n",
              "      <td>Set3</td>\n",
              "    </tr>\n",
              "    <tr>\n",
              "      <th>2</th>\n",
              "      <td>233.952845</td>\n",
              "      <td>216.943998</td>\n",
              "      <td>175.131970</td>\n",
              "      <td>234.433113</td>\n",
              "      <td>218.030368</td>\n",
              "      <td>177.208947</td>\n",
              "      <td>21.503693</td>\n",
              "      <td>64.204854</td>\n",
              "      <td>233.952845</td>\n",
              "      <td>21.579546</td>\n",
              "      <td>62.389802</td>\n",
              "      <td>234.433113</td>\n",
              "      <td>A1</td>\n",
              "      <td>A3</td>\n",
              "      <td>Set3</td>\n",
              "    </tr>\n",
              "    <tr>\n",
              "      <th>3</th>\n",
              "      <td>233.474150</td>\n",
              "      <td>207.161107</td>\n",
              "      <td>155.704001</td>\n",
              "      <td>234.090036</td>\n",
              "      <td>208.547827</td>\n",
              "      <td>158.052699</td>\n",
              "      <td>19.854070</td>\n",
              "      <td>85.100235</td>\n",
              "      <td>233.474150</td>\n",
              "      <td>19.972548</td>\n",
              "      <td>83.050210</td>\n",
              "      <td>234.090036</td>\n",
              "      <td>A1</td>\n",
              "      <td>A3_5</td>\n",
              "      <td>Set3</td>\n",
              "    </tr>\n",
              "    <tr>\n",
              "      <th>4</th>\n",
              "      <td>230.987501</td>\n",
              "      <td>204.899359</td>\n",
              "      <td>154.901794</td>\n",
              "      <td>231.631178</td>\n",
              "      <td>206.242017</td>\n",
              "      <td>157.050708</td>\n",
              "      <td>19.743284</td>\n",
              "      <td>84.102346</td>\n",
              "      <td>230.987501</td>\n",
              "      <td>19.839983</td>\n",
              "      <td>82.273096</td>\n",
              "      <td>231.631178</td>\n",
              "      <td>A1</td>\n",
              "      <td>A4</td>\n",
              "      <td>Set3</td>\n",
              "    </tr>\n",
              "    <tr>\n",
              "      <th>5</th>\n",
              "      <td>234.034575</td>\n",
              "      <td>223.361578</td>\n",
              "      <td>192.484457</td>\n",
              "      <td>234.645829</td>\n",
              "      <td>224.257948</td>\n",
              "      <td>194.204964</td>\n",
              "      <td>22.391851</td>\n",
              "      <td>45.342586</td>\n",
              "      <td>234.034575</td>\n",
              "      <td>22.396487</td>\n",
              "      <td>44.076950</td>\n",
              "      <td>234.645829</td>\n",
              "      <td>A1</td>\n",
              "      <td>B1</td>\n",
              "      <td>Set3</td>\n",
              "    </tr>\n",
              "    <tr>\n",
              "      <th>6</th>\n",
              "      <td>235.870222</td>\n",
              "      <td>221.046912</td>\n",
              "      <td>178.259719</td>\n",
              "      <td>236.355096</td>\n",
              "      <td>221.978309</td>\n",
              "      <td>180.098926</td>\n",
              "      <td>22.376430</td>\n",
              "      <td>62.361334</td>\n",
              "      <td>235.870222</td>\n",
              "      <td>22.455871</td>\n",
              "      <td>60.814594</td>\n",
              "      <td>236.355096</td>\n",
              "      <td>A1</td>\n",
              "      <td>B2</td>\n",
              "      <td>Set3</td>\n",
              "    </tr>\n",
              "    <tr>\n",
              "      <th>7</th>\n",
              "      <td>232.438276</td>\n",
              "      <td>212.458648</td>\n",
              "      <td>166.974921</td>\n",
              "      <td>233.157599</td>\n",
              "      <td>213.806557</td>\n",
              "      <td>169.409359</td>\n",
              "      <td>21.086194</td>\n",
              "      <td>71.953900</td>\n",
              "      <td>232.438276</td>\n",
              "      <td>21.137330</td>\n",
              "      <td>69.940900</td>\n",
              "      <td>233.157599</td>\n",
              "      <td>A1</td>\n",
              "      <td>B3</td>\n",
              "      <td>Set3</td>\n",
              "    </tr>\n",
              "    <tr>\n",
              "      <th>8</th>\n",
              "      <td>230.682250</td>\n",
              "      <td>211.093824</td>\n",
              "      <td>165.512621</td>\n",
              "      <td>231.301117</td>\n",
              "      <td>212.275798</td>\n",
              "      <td>167.586587</td>\n",
              "      <td>21.231718</td>\n",
              "      <td>72.173687</td>\n",
              "      <td>230.682250</td>\n",
              "      <td>21.296565</td>\n",
              "      <td>70.432828</td>\n",
              "      <td>231.301117</td>\n",
              "      <td>A1</td>\n",
              "      <td>B4</td>\n",
              "      <td>Set3</td>\n",
              "    </tr>\n",
              "    <tr>\n",
              "      <th>9</th>\n",
              "      <td>227.672348</td>\n",
              "      <td>217.367340</td>\n",
              "      <td>189.899359</td>\n",
              "      <td>228.397269</td>\n",
              "      <td>218.446981</td>\n",
              "      <td>191.915369</td>\n",
              "      <td>21.818440</td>\n",
              "      <td>42.380164</td>\n",
              "      <td>227.672348</td>\n",
              "      <td>21.849299</td>\n",
              "      <td>40.852002</td>\n",
              "      <td>228.397269</td>\n",
              "      <td>A1</td>\n",
              "      <td>C1</td>\n",
              "      <td>Set3</td>\n",
              "    </tr>\n",
              "    <tr>\n",
              "      <th>10</th>\n",
              "      <td>227.411898</td>\n",
              "      <td>215.191868</td>\n",
              "      <td>187.309066</td>\n",
              "      <td>228.325297</td>\n",
              "      <td>216.431122</td>\n",
              "      <td>189.547472</td>\n",
              "      <td>20.881422</td>\n",
              "      <td>20.881422</td>\n",
              "      <td>20.881422</td>\n",
              "      <td>20.816158</td>\n",
              "      <td>43.510561</td>\n",
              "      <td>228.325297</td>\n",
              "      <td>A1</td>\n",
              "      <td>C2</td>\n",
              "      <td>Set3</td>\n",
              "    </tr>\n",
              "    <tr>\n",
              "      <th>11</th>\n",
              "      <td>225.973054</td>\n",
              "      <td>205.292265</td>\n",
              "      <td>165.019641</td>\n",
              "      <td>226.627054</td>\n",
              "      <td>206.496124</td>\n",
              "      <td>167.035488</td>\n",
              "      <td>19.781511</td>\n",
              "      <td>68.884181</td>\n",
              "      <td>225.973054</td>\n",
              "      <td>19.854064</td>\n",
              "      <td>67.213641</td>\n",
              "      <td>226.627054</td>\n",
              "      <td>A1</td>\n",
              "      <td>C3</td>\n",
              "      <td>Set3</td>\n",
              "    </tr>\n",
              "    <tr>\n",
              "      <th>12</th>\n",
              "      <td>225.086194</td>\n",
              "      <td>199.522523</td>\n",
              "      <td>152.016882</td>\n",
              "      <td>225.766944</td>\n",
              "      <td>200.766375</td>\n",
              "      <td>154.079937</td>\n",
              "      <td>19.583475</td>\n",
              "      <td>82.886129</td>\n",
              "      <td>225.086194</td>\n",
              "      <td>19.610483</td>\n",
              "      <td>81.133845</td>\n",
              "      <td>225.766944</td>\n",
              "      <td>A1</td>\n",
              "      <td>C4</td>\n",
              "      <td>Set3</td>\n",
              "    </tr>\n",
              "    <tr>\n",
              "      <th>13</th>\n",
              "      <td>232.389822</td>\n",
              "      <td>219.781268</td>\n",
              "      <td>193.366042</td>\n",
              "      <td>233.035488</td>\n",
              "      <td>220.813313</td>\n",
              "      <td>195.226798</td>\n",
              "      <td>20.250791</td>\n",
              "      <td>42.944242</td>\n",
              "      <td>232.389822</td>\n",
              "      <td>20.267833</td>\n",
              "      <td>41.546903</td>\n",
              "      <td>233.035488</td>\n",
              "      <td>A1</td>\n",
              "      <td>D2</td>\n",
              "      <td>Set3</td>\n",
              "    </tr>\n",
              "    <tr>\n",
              "      <th>14</th>\n",
              "      <td>234.172632</td>\n",
              "      <td>215.950248</td>\n",
              "      <td>180.545410</td>\n",
              "      <td>234.575492</td>\n",
              "      <td>216.873480</td>\n",
              "      <td>182.394495</td>\n",
              "      <td>19.750264</td>\n",
              "      <td>58.507426</td>\n",
              "      <td>234.172632</td>\n",
              "      <td>19.803712</td>\n",
              "      <td>56.872698</td>\n",
              "      <td>234.575492</td>\n",
              "      <td>A1</td>\n",
              "      <td>D3</td>\n",
              "      <td>Set3</td>\n",
              "    </tr>\n",
              "    <tr>\n",
              "      <th>15</th>\n",
              "      <td>225.086194</td>\n",
              "      <td>199.522523</td>\n",
              "      <td>152.016882</td>\n",
              "      <td>228.102198</td>\n",
              "      <td>211.831520</td>\n",
              "      <td>172.386388</td>\n",
              "      <td>19.583475</td>\n",
              "      <td>82.886129</td>\n",
              "      <td>225.086194</td>\n",
              "      <td>21.322168</td>\n",
              "      <td>62.401821</td>\n",
              "      <td>228.102198</td>\n",
              "      <td>A1</td>\n",
              "      <td>D4</td>\n",
              "      <td>Set3</td>\n",
              "    </tr>\n",
              "  </tbody>\n",
              "</table>\n",
              "</div>"
            ],
            "text/plain": [
              "         R-ref       G-ref       B-ref  ...  Shade-ref  Shade  Setting\n",
              "0   234.298028  224.532505  194.303060  ...         A1     A1     Set3\n",
              "1   235.802451  221.032627  184.542732  ...         A1     A2     Set3\n",
              "2   233.952845  216.943998  175.131970  ...         A1     A3     Set3\n",
              "3   233.474150  207.161107  155.704001  ...         A1   A3_5     Set3\n",
              "4   230.987501  204.899359  154.901794  ...         A1     A4     Set3\n",
              "5   234.034575  223.361578  192.484457  ...         A1     B1     Set3\n",
              "6   235.870222  221.046912  178.259719  ...         A1     B2     Set3\n",
              "7   232.438276  212.458648  166.974921  ...         A1     B3     Set3\n",
              "8   230.682250  211.093824  165.512621  ...         A1     B4     Set3\n",
              "9   227.672348  217.367340  189.899359  ...         A1     C1     Set3\n",
              "10  227.411898  215.191868  187.309066  ...         A1     C2     Set3\n",
              "11  225.973054  205.292265  165.019641  ...         A1     C3     Set3\n",
              "12  225.086194  199.522523  152.016882  ...         A1     C4     Set3\n",
              "13  232.389822  219.781268  193.366042  ...         A1     D2     Set3\n",
              "14  234.172632  215.950248  180.545410  ...         A1     D3     Set3\n",
              "15  225.086194  199.522523  152.016882  ...         A1     D4     Set3\n",
              "\n",
              "[16 rows x 15 columns]"
            ]
          },
          "metadata": {},
          "execution_count": 472
        }
      ]
    },
    {
      "cell_type": "code",
      "metadata": {
        "id": "JHS2rc_ViAFf",
        "colab": {
          "base_uri": "https://localhost:8080/",
          "height": 586
        },
        "outputId": "73acc760-6e79-4b93-fa95-a914b9bf7647"
      },
      "source": [
        "df4"
      ],
      "execution_count": 473,
      "outputs": [
        {
          "output_type": "execute_result",
          "data": {
            "text/html": [
              "<div>\n",
              "<style scoped>\n",
              "    .dataframe tbody tr th:only-of-type {\n",
              "        vertical-align: middle;\n",
              "    }\n",
              "\n",
              "    .dataframe tbody tr th {\n",
              "        vertical-align: top;\n",
              "    }\n",
              "\n",
              "    .dataframe thead th {\n",
              "        text-align: right;\n",
              "    }\n",
              "</style>\n",
              "<table border=\"1\" class=\"dataframe\">\n",
              "  <thead>\n",
              "    <tr style=\"text-align: right;\">\n",
              "      <th></th>\n",
              "      <th>R-ref</th>\n",
              "      <th>G-ref</th>\n",
              "      <th>B-ref</th>\n",
              "      <th>R-Shad</th>\n",
              "      <th>G-Shad</th>\n",
              "      <th>B-Shad</th>\n",
              "      <th>H-ref</th>\n",
              "      <th>S-ref</th>\n",
              "      <th>V-ref</th>\n",
              "      <th>H-Shad</th>\n",
              "      <th>S-Shad</th>\n",
              "      <th>V-Shad</th>\n",
              "      <th>Shade-ref</th>\n",
              "      <th>Shade</th>\n",
              "      <th>Setting</th>\n",
              "    </tr>\n",
              "  </thead>\n",
              "  <tbody>\n",
              "    <tr>\n",
              "      <th>0</th>\n",
              "      <td>217.810486</td>\n",
              "      <td>218.221167</td>\n",
              "      <td>199.941401</td>\n",
              "      <td>217.199772</td>\n",
              "      <td>217.547472</td>\n",
              "      <td>199.379703</td>\n",
              "      <td>30.998052</td>\n",
              "      <td>21.722912</td>\n",
              "      <td>218.583313</td>\n",
              "      <td>30.904274</td>\n",
              "      <td>21.665529</td>\n",
              "      <td>217.929308</td>\n",
              "      <td>A1</td>\n",
              "      <td>A1</td>\n",
              "      <td>Set4</td>\n",
              "    </tr>\n",
              "    <tr>\n",
              "      <th>1</th>\n",
              "      <td>224.606444</td>\n",
              "      <td>219.824446</td>\n",
              "      <td>191.216622</td>\n",
              "      <td>223.981225</td>\n",
              "      <td>219.186900</td>\n",
              "      <td>190.555650</td>\n",
              "      <td>25.954224</td>\n",
              "      <td>37.954224</td>\n",
              "      <td>224.606444</td>\n",
              "      <td>25.958751</td>\n",
              "      <td>38.110021</td>\n",
              "      <td>223.981225</td>\n",
              "      <td>A1</td>\n",
              "      <td>A2</td>\n",
              "      <td>Set4</td>\n",
              "    </tr>\n",
              "    <tr>\n",
              "      <th>2</th>\n",
              "      <td>224.769662</td>\n",
              "      <td>220.257447</td>\n",
              "      <td>183.278955</td>\n",
              "      <td>224.115781</td>\n",
              "      <td>219.538653</td>\n",
              "      <td>182.562976</td>\n",
              "      <td>26.845954</td>\n",
              "      <td>47.087331</td>\n",
              "      <td>224.769662</td>\n",
              "      <td>26.832089</td>\n",
              "      <td>47.304530</td>\n",
              "      <td>224.115781</td>\n",
              "      <td>A1</td>\n",
              "      <td>A3</td>\n",
              "      <td>Set4</td>\n",
              "    </tr>\n",
              "    <tr>\n",
              "      <th>3</th>\n",
              "      <td>223.426102</td>\n",
              "      <td>215.383492</td>\n",
              "      <td>169.256879</td>\n",
              "      <td>222.607567</td>\n",
              "      <td>214.520376</td>\n",
              "      <td>168.395847</td>\n",
              "      <td>25.932960</td>\n",
              "      <td>61.834916</td>\n",
              "      <td>223.426102</td>\n",
              "      <td>25.901145</td>\n",
              "      <td>62.128654</td>\n",
              "      <td>222.607567</td>\n",
              "      <td>A1</td>\n",
              "      <td>A3_5</td>\n",
              "      <td>Set4</td>\n",
              "    </tr>\n",
              "    <tr>\n",
              "      <th>4</th>\n",
              "      <td>216.419284</td>\n",
              "      <td>207.949111</td>\n",
              "      <td>160.617158</td>\n",
              "      <td>215.794467</td>\n",
              "      <td>207.041391</td>\n",
              "      <td>159.853709</td>\n",
              "      <td>25.691583</td>\n",
              "      <td>65.785082</td>\n",
              "      <td>216.419284</td>\n",
              "      <td>25.515682</td>\n",
              "      <td>66.152905</td>\n",
              "      <td>215.794467</td>\n",
              "      <td>A1</td>\n",
              "      <td>A4</td>\n",
              "      <td>Set4</td>\n",
              "    </tr>\n",
              "    <tr>\n",
              "      <th>5</th>\n",
              "      <td>223.523334</td>\n",
              "      <td>225.528204</td>\n",
              "      <td>212.721289</td>\n",
              "      <td>222.956546</td>\n",
              "      <td>224.953204</td>\n",
              "      <td>211.939549</td>\n",
              "      <td>35.324974</td>\n",
              "      <td>14.684522</td>\n",
              "      <td>225.537375</td>\n",
              "      <td>35.034990</td>\n",
              "      <td>14.893891</td>\n",
              "      <td>224.957258</td>\n",
              "      <td>A1</td>\n",
              "      <td>B1</td>\n",
              "      <td>Set4</td>\n",
              "    </tr>\n",
              "    <tr>\n",
              "      <th>6</th>\n",
              "      <td>224.400373</td>\n",
              "      <td>223.258421</td>\n",
              "      <td>194.798312</td>\n",
              "      <td>223.586303</td>\n",
              "      <td>222.285897</td>\n",
              "      <td>193.768509</td>\n",
              "      <td>28.854314</td>\n",
              "      <td>33.633958</td>\n",
              "      <td>224.402808</td>\n",
              "      <td>28.696537</td>\n",
              "      <td>34.021193</td>\n",
              "      <td>223.588009</td>\n",
              "      <td>A1</td>\n",
              "      <td>B2</td>\n",
              "      <td>Set4</td>\n",
              "    </tr>\n",
              "    <tr>\n",
              "      <th>7</th>\n",
              "      <td>224.324487</td>\n",
              "      <td>220.162000</td>\n",
              "      <td>174.919244</td>\n",
              "      <td>223.623711</td>\n",
              "      <td>219.247493</td>\n",
              "      <td>174.044947</td>\n",
              "      <td>27.857236</td>\n",
              "      <td>56.240971</td>\n",
              "      <td>224.324487</td>\n",
              "      <td>27.720006</td>\n",
              "      <td>56.624564</td>\n",
              "      <td>223.623711</td>\n",
              "      <td>A1</td>\n",
              "      <td>B3</td>\n",
              "      <td>Set4</td>\n",
              "    </tr>\n",
              "    <tr>\n",
              "      <th>8</th>\n",
              "      <td>223.197224</td>\n",
              "      <td>216.593539</td>\n",
              "      <td>163.660579</td>\n",
              "      <td>222.535879</td>\n",
              "      <td>215.829173</td>\n",
              "      <td>162.634805</td>\n",
              "      <td>26.986446</td>\n",
              "      <td>68.107783</td>\n",
              "      <td>223.197224</td>\n",
              "      <td>26.943887</td>\n",
              "      <td>68.747884</td>\n",
              "      <td>222.535879</td>\n",
              "      <td>A1</td>\n",
              "      <td>B4</td>\n",
              "      <td>Set4</td>\n",
              "    </tr>\n",
              "    <tr>\n",
              "      <th>9</th>\n",
              "      <td>223.054379</td>\n",
              "      <td>222.609041</td>\n",
              "      <td>199.896275</td>\n",
              "      <td>222.176161</td>\n",
              "      <td>221.572292</td>\n",
              "      <td>198.740986</td>\n",
              "      <td>29.737440</td>\n",
              "      <td>26.563996</td>\n",
              "      <td>223.086681</td>\n",
              "      <td>29.500960</td>\n",
              "      <td>26.991892</td>\n",
              "      <td>222.199061</td>\n",
              "      <td>A1</td>\n",
              "      <td>C1</td>\n",
              "      <td>Set4</td>\n",
              "    </tr>\n",
              "    <tr>\n",
              "      <th>10</th>\n",
              "      <td>218.518302</td>\n",
              "      <td>214.965019</td>\n",
              "      <td>185.091308</td>\n",
              "      <td>217.716948</td>\n",
              "      <td>214.185264</td>\n",
              "      <td>184.198848</td>\n",
              "      <td>26.448340</td>\n",
              "      <td>26.448340</td>\n",
              "      <td>26.448340</td>\n",
              "      <td>26.479482</td>\n",
              "      <td>39.292440</td>\n",
              "      <td>217.716948</td>\n",
              "      <td>A1</td>\n",
              "      <td>C2</td>\n",
              "      <td>Set4</td>\n",
              "    </tr>\n",
              "    <tr>\n",
              "      <th>11</th>\n",
              "      <td>217.332116</td>\n",
              "      <td>211.230744</td>\n",
              "      <td>170.614561</td>\n",
              "      <td>216.673067</td>\n",
              "      <td>210.493066</td>\n",
              "      <td>169.798947</td>\n",
              "      <td>26.365230</td>\n",
              "      <td>54.835890</td>\n",
              "      <td>217.332116</td>\n",
              "      <td>26.326364</td>\n",
              "      <td>55.210227</td>\n",
              "      <td>216.673067</td>\n",
              "      <td>A1</td>\n",
              "      <td>C3</td>\n",
              "      <td>Set4</td>\n",
              "    </tr>\n",
              "    <tr>\n",
              "      <th>12</th>\n",
              "      <td>213.892541</td>\n",
              "      <td>206.040825</td>\n",
              "      <td>159.626735</td>\n",
              "      <td>213.147714</td>\n",
              "      <td>205.041107</td>\n",
              "      <td>158.668445</td>\n",
              "      <td>25.851554</td>\n",
              "      <td>64.771934</td>\n",
              "      <td>213.892541</td>\n",
              "      <td>25.706422</td>\n",
              "      <td>65.265344</td>\n",
              "      <td>213.147714</td>\n",
              "      <td>A1</td>\n",
              "      <td>C4</td>\n",
              "      <td>Set4</td>\n",
              "    </tr>\n",
              "    <tr>\n",
              "      <th>13</th>\n",
              "      <td>219.816817</td>\n",
              "      <td>219.656034</td>\n",
              "      <td>206.416119</td>\n",
              "      <td>218.951284</td>\n",
              "      <td>218.617737</td>\n",
              "      <td>205.264704</td>\n",
              "      <td>29.679084</td>\n",
              "      <td>16.056327</td>\n",
              "      <td>220.259395</td>\n",
              "      <td>29.344428</td>\n",
              "      <td>16.431690</td>\n",
              "      <td>219.362990</td>\n",
              "      <td>A1</td>\n",
              "      <td>D2</td>\n",
              "      <td>Set4</td>\n",
              "    </tr>\n",
              "    <tr>\n",
              "      <th>14</th>\n",
              "      <td>221.545654</td>\n",
              "      <td>216.419609</td>\n",
              "      <td>186.654411</td>\n",
              "      <td>220.673850</td>\n",
              "      <td>215.430055</td>\n",
              "      <td>185.592277</td>\n",
              "      <td>25.825258</td>\n",
              "      <td>40.243000</td>\n",
              "      <td>221.548494</td>\n",
              "      <td>25.704360</td>\n",
              "      <td>40.618021</td>\n",
              "      <td>220.675770</td>\n",
              "      <td>A1</td>\n",
              "      <td>D3</td>\n",
              "      <td>Set4</td>\n",
              "    </tr>\n",
              "    <tr>\n",
              "      <th>15</th>\n",
              "      <td>213.892541</td>\n",
              "      <td>206.040825</td>\n",
              "      <td>159.626735</td>\n",
              "      <td>218.975037</td>\n",
              "      <td>214.944172</td>\n",
              "      <td>172.927032</td>\n",
              "      <td>25.851554</td>\n",
              "      <td>64.771934</td>\n",
              "      <td>213.892541</td>\n",
              "      <td>27.473579</td>\n",
              "      <td>53.620795</td>\n",
              "      <td>218.975037</td>\n",
              "      <td>A1</td>\n",
              "      <td>D4</td>\n",
              "      <td>Set4</td>\n",
              "    </tr>\n",
              "  </tbody>\n",
              "</table>\n",
              "</div>"
            ],
            "text/plain": [
              "         R-ref       G-ref       B-ref  ...  Shade-ref  Shade  Setting\n",
              "0   217.810486  218.221167  199.941401  ...         A1     A1     Set4\n",
              "1   224.606444  219.824446  191.216622  ...         A1     A2     Set4\n",
              "2   224.769662  220.257447  183.278955  ...         A1     A3     Set4\n",
              "3   223.426102  215.383492  169.256879  ...         A1   A3_5     Set4\n",
              "4   216.419284  207.949111  160.617158  ...         A1     A4     Set4\n",
              "5   223.523334  225.528204  212.721289  ...         A1     B1     Set4\n",
              "6   224.400373  223.258421  194.798312  ...         A1     B2     Set4\n",
              "7   224.324487  220.162000  174.919244  ...         A1     B3     Set4\n",
              "8   223.197224  216.593539  163.660579  ...         A1     B4     Set4\n",
              "9   223.054379  222.609041  199.896275  ...         A1     C1     Set4\n",
              "10  218.518302  214.965019  185.091308  ...         A1     C2     Set4\n",
              "11  217.332116  211.230744  170.614561  ...         A1     C3     Set4\n",
              "12  213.892541  206.040825  159.626735  ...         A1     C4     Set4\n",
              "13  219.816817  219.656034  206.416119  ...         A1     D2     Set4\n",
              "14  221.545654  216.419609  186.654411  ...         A1     D3     Set4\n",
              "15  213.892541  206.040825  159.626735  ...         A1     D4     Set4\n",
              "\n",
              "[16 rows x 15 columns]"
            ]
          },
          "metadata": {},
          "execution_count": 473
        }
      ]
    },
    {
      "cell_type": "code",
      "metadata": {
        "id": "4ZDZGQwVQ28o",
        "colab": {
          "base_uri": "https://localhost:8080/",
          "height": 459
        },
        "outputId": "32e4774a-fa20-484a-ed2f-52e53a13a5ca"
      },
      "source": [
        "A1_concat = pd.concat([df,df2,df3,df4])\n",
        "A1_concat"
      ],
      "execution_count": 474,
      "outputs": [
        {
          "output_type": "execute_result",
          "data": {
            "text/html": [
              "<div>\n",
              "<style scoped>\n",
              "    .dataframe tbody tr th:only-of-type {\n",
              "        vertical-align: middle;\n",
              "    }\n",
              "\n",
              "    .dataframe tbody tr th {\n",
              "        vertical-align: top;\n",
              "    }\n",
              "\n",
              "    .dataframe thead th {\n",
              "        text-align: right;\n",
              "    }\n",
              "</style>\n",
              "<table border=\"1\" class=\"dataframe\">\n",
              "  <thead>\n",
              "    <tr style=\"text-align: right;\">\n",
              "      <th></th>\n",
              "      <th>R-ref</th>\n",
              "      <th>G-ref</th>\n",
              "      <th>B-ref</th>\n",
              "      <th>R-Shad</th>\n",
              "      <th>G-Shad</th>\n",
              "      <th>B-Shad</th>\n",
              "      <th>H-ref</th>\n",
              "      <th>S-ref</th>\n",
              "      <th>V-ref</th>\n",
              "      <th>H-Shad</th>\n",
              "      <th>S-Shad</th>\n",
              "      <th>V-Shad</th>\n",
              "      <th>Shade-ref</th>\n",
              "      <th>Shade</th>\n",
              "      <th>Setting</th>\n",
              "    </tr>\n",
              "  </thead>\n",
              "  <tbody>\n",
              "    <tr>\n",
              "      <th>0</th>\n",
              "      <td>218.381625</td>\n",
              "      <td>200.642967</td>\n",
              "      <td>160.157455</td>\n",
              "      <td>218.461276</td>\n",
              "      <td>200.690847</td>\n",
              "      <td>160.311713</td>\n",
              "      <td>21.078646</td>\n",
              "      <td>68.015827</td>\n",
              "      <td>218.381625</td>\n",
              "      <td>21.032643</td>\n",
              "      <td>67.905625</td>\n",
              "      <td>218.461276</td>\n",
              "      <td>A1</td>\n",
              "      <td>A1</td>\n",
              "      <td>Set1</td>\n",
              "    </tr>\n",
              "    <tr>\n",
              "      <th>1</th>\n",
              "      <td>220.870384</td>\n",
              "      <td>198.757000</td>\n",
              "      <td>151.101777</td>\n",
              "      <td>220.817083</td>\n",
              "      <td>198.707560</td>\n",
              "      <td>151.111301</td>\n",
              "      <td>20.305495</td>\n",
              "      <td>80.590293</td>\n",
              "      <td>220.870384</td>\n",
              "      <td>20.275656</td>\n",
              "      <td>80.538297</td>\n",
              "      <td>220.817083</td>\n",
              "      <td>A1</td>\n",
              "      <td>A2</td>\n",
              "      <td>Set1</td>\n",
              "    </tr>\n",
              "    <tr>\n",
              "      <th>2</th>\n",
              "      <td>218.526337</td>\n",
              "      <td>193.972729</td>\n",
              "      <td>142.648162</td>\n",
              "      <td>218.477775</td>\n",
              "      <td>193.993315</td>\n",
              "      <td>142.845388</td>\n",
              "      <td>20.534048</td>\n",
              "      <td>88.513270</td>\n",
              "      <td>218.526337</td>\n",
              "      <td>20.520447</td>\n",
              "      <td>88.244791</td>\n",
              "      <td>218.477775</td>\n",
              "      <td>A1</td>\n",
              "      <td>A3</td>\n",
              "      <td>Set1</td>\n",
              "    </tr>\n",
              "    <tr>\n",
              "      <th>3</th>\n",
              "      <td>211.007548</td>\n",
              "      <td>181.859995</td>\n",
              "      <td>130.982956</td>\n",
              "      <td>211.011521</td>\n",
              "      <td>181.988052</td>\n",
              "      <td>131.259228</td>\n",
              "      <td>19.083841</td>\n",
              "      <td>96.739469</td>\n",
              "      <td>211.007548</td>\n",
              "      <td>19.095584</td>\n",
              "      <td>96.403456</td>\n",
              "      <td>211.011521</td>\n",
              "      <td>A1</td>\n",
              "      <td>A3_5</td>\n",
              "      <td>Set1</td>\n",
              "    </tr>\n",
              "    <tr>\n",
              "      <th>4</th>\n",
              "      <td>210.514163</td>\n",
              "      <td>180.792225</td>\n",
              "      <td>128.680870</td>\n",
              "      <td>210.596544</td>\n",
              "      <td>180.911031</td>\n",
              "      <td>128.910746</td>\n",
              "      <td>19.037659</td>\n",
              "      <td>99.225225</td>\n",
              "      <td>210.514163</td>\n",
              "      <td>19.044805</td>\n",
              "      <td>99.007396</td>\n",
              "      <td>210.596544</td>\n",
              "      <td>A1</td>\n",
              "      <td>A4</td>\n",
              "      <td>Set1</td>\n",
              "    </tr>\n",
              "    <tr>\n",
              "      <th>...</th>\n",
              "      <td>...</td>\n",
              "      <td>...</td>\n",
              "      <td>...</td>\n",
              "      <td>...</td>\n",
              "      <td>...</td>\n",
              "      <td>...</td>\n",
              "      <td>...</td>\n",
              "      <td>...</td>\n",
              "      <td>...</td>\n",
              "      <td>...</td>\n",
              "      <td>...</td>\n",
              "      <td>...</td>\n",
              "      <td>...</td>\n",
              "      <td>...</td>\n",
              "      <td>...</td>\n",
              "    </tr>\n",
              "    <tr>\n",
              "      <th>11</th>\n",
              "      <td>217.332116</td>\n",
              "      <td>211.230744</td>\n",
              "      <td>170.614561</td>\n",
              "      <td>216.673067</td>\n",
              "      <td>210.493066</td>\n",
              "      <td>169.798947</td>\n",
              "      <td>26.365230</td>\n",
              "      <td>54.835890</td>\n",
              "      <td>217.332116</td>\n",
              "      <td>26.326364</td>\n",
              "      <td>55.210227</td>\n",
              "      <td>216.673067</td>\n",
              "      <td>A1</td>\n",
              "      <td>C3</td>\n",
              "      <td>Set4</td>\n",
              "    </tr>\n",
              "    <tr>\n",
              "      <th>12</th>\n",
              "      <td>213.892541</td>\n",
              "      <td>206.040825</td>\n",
              "      <td>159.626735</td>\n",
              "      <td>213.147714</td>\n",
              "      <td>205.041107</td>\n",
              "      <td>158.668445</td>\n",
              "      <td>25.851554</td>\n",
              "      <td>64.771934</td>\n",
              "      <td>213.892541</td>\n",
              "      <td>25.706422</td>\n",
              "      <td>65.265344</td>\n",
              "      <td>213.147714</td>\n",
              "      <td>A1</td>\n",
              "      <td>C4</td>\n",
              "      <td>Set4</td>\n",
              "    </tr>\n",
              "    <tr>\n",
              "      <th>13</th>\n",
              "      <td>219.816817</td>\n",
              "      <td>219.656034</td>\n",
              "      <td>206.416119</td>\n",
              "      <td>218.951284</td>\n",
              "      <td>218.617737</td>\n",
              "      <td>205.264704</td>\n",
              "      <td>29.679084</td>\n",
              "      <td>16.056327</td>\n",
              "      <td>220.259395</td>\n",
              "      <td>29.344428</td>\n",
              "      <td>16.431690</td>\n",
              "      <td>219.362990</td>\n",
              "      <td>A1</td>\n",
              "      <td>D2</td>\n",
              "      <td>Set4</td>\n",
              "    </tr>\n",
              "    <tr>\n",
              "      <th>14</th>\n",
              "      <td>221.545654</td>\n",
              "      <td>216.419609</td>\n",
              "      <td>186.654411</td>\n",
              "      <td>220.673850</td>\n",
              "      <td>215.430055</td>\n",
              "      <td>185.592277</td>\n",
              "      <td>25.825258</td>\n",
              "      <td>40.243000</td>\n",
              "      <td>221.548494</td>\n",
              "      <td>25.704360</td>\n",
              "      <td>40.618021</td>\n",
              "      <td>220.675770</td>\n",
              "      <td>A1</td>\n",
              "      <td>D3</td>\n",
              "      <td>Set4</td>\n",
              "    </tr>\n",
              "    <tr>\n",
              "      <th>15</th>\n",
              "      <td>213.892541</td>\n",
              "      <td>206.040825</td>\n",
              "      <td>159.626735</td>\n",
              "      <td>218.975037</td>\n",
              "      <td>214.944172</td>\n",
              "      <td>172.927032</td>\n",
              "      <td>25.851554</td>\n",
              "      <td>64.771934</td>\n",
              "      <td>213.892541</td>\n",
              "      <td>27.473579</td>\n",
              "      <td>53.620795</td>\n",
              "      <td>218.975037</td>\n",
              "      <td>A1</td>\n",
              "      <td>D4</td>\n",
              "      <td>Set4</td>\n",
              "    </tr>\n",
              "  </tbody>\n",
              "</table>\n",
              "<p>64 rows × 15 columns</p>\n",
              "</div>"
            ],
            "text/plain": [
              "         R-ref       G-ref       B-ref  ...  Shade-ref  Shade  Setting\n",
              "0   218.381625  200.642967  160.157455  ...         A1     A1     Set1\n",
              "1   220.870384  198.757000  151.101777  ...         A1     A2     Set1\n",
              "2   218.526337  193.972729  142.648162  ...         A1     A3     Set1\n",
              "3   211.007548  181.859995  130.982956  ...         A1   A3_5     Set1\n",
              "4   210.514163  180.792225  128.680870  ...         A1     A4     Set1\n",
              "..         ...         ...         ...  ...        ...    ...      ...\n",
              "11  217.332116  211.230744  170.614561  ...         A1     C3     Set4\n",
              "12  213.892541  206.040825  159.626735  ...         A1     C4     Set4\n",
              "13  219.816817  219.656034  206.416119  ...         A1     D2     Set4\n",
              "14  221.545654  216.419609  186.654411  ...         A1     D3     Set4\n",
              "15  213.892541  206.040825  159.626735  ...         A1     D4     Set4\n",
              "\n",
              "[64 rows x 15 columns]"
            ]
          },
          "metadata": {},
          "execution_count": 474
        }
      ]
    },
    {
      "cell_type": "markdown",
      "metadata": {
        "id": "uu6aqQG0n__j"
      },
      "source": [
        "#8.ชื่อตารางที่ต้องการเซฟ .to_csv(' ชื่อไฟล์ที่ต้องการ save )"
      ]
    },
    {
      "cell_type": "code",
      "metadata": {
        "id": "v1_LBtAuoFNH"
      },
      "source": [
        "A1_concat.to_csv('Shade_A2 Guide.csv', index=False)"
      ],
      "execution_count": 476,
      "outputs": []
    }
  ]
}