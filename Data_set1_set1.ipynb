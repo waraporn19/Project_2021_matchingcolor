{
  "nbformat": 4,
  "nbformat_minor": 0,
  "metadata": {
    "colab": {
      "name": " Data_set1_set1.ipynb",
      "provenance": [],
      "include_colab_link": true
    },
    "kernelspec": {
      "name": "python3",
      "display_name": "Python 3"
    },
    "language_info": {
      "name": "python"
    }
  },
  "cells": [
    {
      "cell_type": "markdown",
      "metadata": {
        "id": "view-in-github",
        "colab_type": "text"
      },
      "source": [
        "<a href=\"https://colab.research.google.com/github/waraporn19/Project_2021_matchingcolor/blob/main/Data_set1_set1.ipynb\" target=\"_parent\"><img src=\"https://colab.research.google.com/assets/colab-badge.svg\" alt=\"Open In Colab\"/></a>"
      ]
    },
    {
      "cell_type": "code",
      "metadata": {
        "id": "QfJJWz3NE5EF"
      },
      "source": [
        "import pandas as pd"
      ],
      "execution_count": 3,
      "outputs": []
    },
    {
      "cell_type": "code",
      "metadata": {
        "id": "bbhDYuOZFkrI",
        "colab": {
          "base_uri": "https://localhost:8080/"
        },
        "outputId": "48217942-26fa-4c04-c4bc-f579b619479f"
      },
      "source": [
        "from google.colab import drive \n",
        "drive.mount('/content/drive')"
      ],
      "execution_count": 4,
      "outputs": [
        {
          "output_type": "stream",
          "name": "stdout",
          "text": [
            "Mounted at /content/drive\n"
          ]
        }
      ]
    },
    {
      "cell_type": "code",
      "metadata": {
        "id": "gCZ9gB08FlpD"
      },
      "source": [
        "import os"
      ],
      "execution_count": 5,
      "outputs": []
    },
    {
      "cell_type": "code",
      "metadata": {
        "id": "bs4sCMIlFmtN"
      },
      "source": [
        "path = '/content/drive/My Drive/shadeimg'"
      ],
      "execution_count": 6,
      "outputs": []
    },
    {
      "cell_type": "code",
      "metadata": {
        "id": "QXJgJ1ZiFv2C",
        "colab": {
          "base_uri": "https://localhost:8080/"
        },
        "outputId": "ec967a41-2a9d-4c66-8733-9abc2cf1ea21"
      },
      "source": [
        "os.listdir(path)"
      ],
      "execution_count": 7,
      "outputs": [
        {
          "output_type": "execute_result",
          "data": {
            "text/plain": [
              "['รูปฟัน07',\n",
              " '9-10 7 2021',\n",
              " '11 7 2021',\n",
              " 'ฟันสักอย่างจำวันไม่ได้',\n",
              " '1 teeth .gsheet',\n",
              " '16 8 2021',\n",
              " '17 8 2021',\n",
              " '2 teeth.gsheet',\n",
              " '1 teeth .xlsx',\n",
              " '2 teeth .xlsx']"
            ]
          },
          "metadata": {},
          "execution_count": 7
        }
      ]
    },
    {
      "cell_type": "code",
      "metadata": {
        "id": "hIG_rvGQF-Lh",
        "colab": {
          "base_uri": "https://localhost:8080/"
        },
        "outputId": "bdc4c3fc-790a-4289-8d27-549b098b3e18"
      },
      "source": [
        "file_path = os.path.join(path,'1 teeth .xlsx')\n",
        "print(file_path)"
      ],
      "execution_count": 8,
      "outputs": [
        {
          "output_type": "stream",
          "name": "stdout",
          "text": [
            "/content/drive/My Drive/shadeimg/1 teeth .xlsx\n"
          ]
        }
      ]
    },
    {
      "cell_type": "code",
      "metadata": {
        "id": "WU-47FCzGAhX"
      },
      "source": [
        "table1 = pd.read_excel(file_path)"
      ],
      "execution_count": null,
      "outputs": []
    },
    {
      "cell_type": "code",
      "metadata": {
        "id": "BQB5ZR4zFsSX",
        "colab": {
          "base_uri": "https://localhost:8080/"
        },
        "outputId": "1984772a-b510-40f3-be39-7a77216957c2"
      },
      "source": [
        "!pip install azure-storage-blob==2.1.0"
      ],
      "execution_count": 11,
      "outputs": [
        {
          "output_type": "stream",
          "name": "stdout",
          "text": [
            "Collecting azure-storage-blob==2.1.0\n",
            "  Downloading azure_storage_blob-2.1.0-py2.py3-none-any.whl (88 kB)\n",
            "\u001b[K     |████████████████████████████████| 88 kB 2.7 MB/s \n",
            "\u001b[?25hCollecting azure-common>=1.1.5\n",
            "  Downloading azure_common-1.1.27-py2.py3-none-any.whl (12 kB)\n",
            "Collecting azure-storage-common~=2.1\n",
            "  Downloading azure_storage_common-2.1.0-py2.py3-none-any.whl (47 kB)\n",
            "\u001b[K     |████████████████████████████████| 47 kB 3.8 MB/s \n",
            "\u001b[?25hCollecting cryptography\n",
            "  Downloading cryptography-35.0.0-cp36-abi3-manylinux_2_24_x86_64.whl (3.5 MB)\n",
            "\u001b[K     |████████████████████████████████| 3.5 MB 19.9 MB/s \n",
            "\u001b[?25hRequirement already satisfied: python-dateutil in /usr/local/lib/python3.7/dist-packages (from azure-storage-common~=2.1->azure-storage-blob==2.1.0) (2.8.2)\n",
            "Requirement already satisfied: requests in /usr/local/lib/python3.7/dist-packages (from azure-storage-common~=2.1->azure-storage-blob==2.1.0) (2.23.0)\n",
            "Requirement already satisfied: cffi>=1.12 in /usr/local/lib/python3.7/dist-packages (from cryptography->azure-storage-common~=2.1->azure-storage-blob==2.1.0) (1.14.6)\n",
            "Requirement already satisfied: pycparser in /usr/local/lib/python3.7/dist-packages (from cffi>=1.12->cryptography->azure-storage-common~=2.1->azure-storage-blob==2.1.0) (2.20)\n",
            "Requirement already satisfied: six>=1.5 in /usr/local/lib/python3.7/dist-packages (from python-dateutil->azure-storage-common~=2.1->azure-storage-blob==2.1.0) (1.15.0)\n",
            "Requirement already satisfied: idna<3,>=2.5 in /usr/local/lib/python3.7/dist-packages (from requests->azure-storage-common~=2.1->azure-storage-blob==2.1.0) (2.10)\n",
            "Requirement already satisfied: urllib3!=1.25.0,!=1.25.1,<1.26,>=1.21.1 in /usr/local/lib/python3.7/dist-packages (from requests->azure-storage-common~=2.1->azure-storage-blob==2.1.0) (1.24.3)\n",
            "Requirement already satisfied: certifi>=2017.4.17 in /usr/local/lib/python3.7/dist-packages (from requests->azure-storage-common~=2.1->azure-storage-blob==2.1.0) (2021.5.30)\n",
            "Requirement already satisfied: chardet<4,>=3.0.2 in /usr/local/lib/python3.7/dist-packages (from requests->azure-storage-common~=2.1->azure-storage-blob==2.1.0) (3.0.4)\n",
            "Installing collected packages: cryptography, azure-common, azure-storage-common, azure-storage-blob\n",
            "Successfully installed azure-common-1.1.27 azure-storage-blob-2.1.0 azure-storage-common-2.1.0 cryptography-35.0.0\n"
          ]
        }
      ]
    },
    {
      "cell_type": "code",
      "metadata": {
        "id": "MmtL3ePjGKNA"
      },
      "source": [
        "from azure.storage.blob import BlockBlobService\n",
        "import os"
      ],
      "execution_count": 12,
      "outputs": []
    },
    {
      "cell_type": "code",
      "metadata": {
        "id": "cBYDeSzyGMrs"
      },
      "source": [
        "blob_service_client = BlockBlobService(account_name='dent01', account_key='CuShY0B4TZJ84TjzPpaHxyrHOpO73aGXeCpdVq7x26OjIlQ1HOz+3DVc9pDEj9BdcEL8odFuTRF0mOAE+aCgiw==')"
      ],
      "execution_count": 13,
      "outputs": []
    },
    {
      "cell_type": "markdown",
      "metadata": {
        "id": "29a1CpssMfaN"
      },
      "source": [
        "1. สร้างตัวแปรเฉดไกด์"
      ]
    },
    {
      "cell_type": "code",
      "metadata": {
        "id": "b7l_Shd1GOxX"
      },
      "source": [
        "A101='43B3A559-D6CD-4759-863E-1335D3A137E4.png'\n",
        "A103='6E9D9F19-5731-4051-92D7-F7BF9517D0DA.png'\n",
        "A106='7C773DFE-2A57-45DE-8367-12D72119B665.png'\n",
        "A109='5B52031A-CAF2-4322-BFAD-28ED2E3BD0AE.png'\n",
        "A201='C4A19F33-7E34-41A6-B42D-9F9767762069.png'\n",
        "A203='ECA5498A-26EF-4074-A8BB-EE9A6B66AC1B.png'\n",
        "A206='7391CFDA-993D-4091-84F2-85C67A5912D3.png'\n",
        "A209='4F60EA04-2B64-40B7-B422-A38331256975.png'\n",
        "A3_501='A1C601C4-15F3-4144-8466-1130AFD644B6.png'\n",
        "A3_503='5AF22B10-9B03-4285-877A-A3EF32BE18D5.png'\n",
        "A3_506='E70A09BB-7C74-4E3C-B9A2-C839BD2DC806.png'\n",
        "A3_509='9FF04B1E-94D4-4A70-B783-7DDD30345888.png'\n",
        "A401='EF8B3D3A-6F00-44CB-8503-EA1EE9987AD4.png'\n",
        "A403='C6E1990E-17AA-4C18-BBB4-B8F601E4CC2E.png'\n",
        "A406='4F33DD14-3576-4F94-AF8B-49FFE29A5BBA.png'\n",
        "A409='0B918D5D-009C-4489-AA3A-10401D8FFF43.png'\n",
        "B101='2846A219-71AE-47E5-BA30-864644218F4A.png'\n",
        "B103='C02B911E-D98A-4B76-B407-0B7852E01173.png'\n",
        "B106='07ACB327-9436-4E62-A55F-86A29BA278F1.png'\n",
        "B109='0DE038FD-9916-4A10-ACFD-E9A246D94924.png'\n",
        "B201='F6C182AD-F7FF-431A-96B0-BDAD65AFFD4D.png'\n",
        "B203='0762EA04-D17C-4F19-BE1D-867939BA0579.png'\n",
        "B206='D0A464BE-0191-44EC-BDF2-58175B10ED61.png'\n",
        "B209='9DF4C294-5F04-4D26-AEC6-D75630BE7EB1.png'\n",
        "B301='25EB4D2D-09D8-4760-BFA7-222DE1616451.png'\n",
        "B303='7C706952-3354-4C15-B850-802BB6FDDB3E.png'\n",
        "B306='2EF995E1-17C8-4B99-9D47-8B4935679A26.png'\n",
        "B309='C5D7B0F7-CEFD-4A20-B80A-1F4C2F2774C0.png'\n",
        "B401='87003489-206C-4DA8-B458-C75C17AA147D.png'\n",
        "B403='E961BF81-DBD6-4E0A-90C1-D04DDE51D746.png'\n",
        "B406='FD94E579-0478-4FBE-B218-8B594095AF07.png'\n",
        "B409='324EFF34-9A7F-46E5-9CD5-5461CCD7750C.png'"
      ],
      "execution_count": 14,
      "outputs": []
    },
    {
      "cell_type": "code",
      "metadata": {
        "id": "udfq6Zm1KS7f"
      },
      "source": [
        "C101='2BEE4714-B417-46FD-837D-826954056ED7.png'\n",
        "C103='EA2E3D74-1B63-4088-93FB-8C260A79412F.png'\n",
        "C106='7F057722-A6CB-4C7D-9660-891D0AB2E33A.png'\n",
        "C109='0C0B16DD-CD33-471B-8CAF-2641CC5DE142.png'\n",
        "C201='3444FBA1-1D42-4A3A-AF39-C6183BBA28C5.png'\n",
        "C203='D770F731-B4BA-4B57-8E17-C716DEAC8F15.png'\n",
        "C206='EB852390-7F5F-49EA-9490-C67226E665C4.png'\n",
        "C209='AA438D44-0ED7-4BFF-8E05-63F0DF013B41.png'\n",
        "C301='3D167809-5D82-403C-8E79-346F1C29577F.png'\n",
        "C303='5E93FB85-8CB8-42BE-BAF5-4FF3FAF79ADD.png'\n",
        "C306='A2D317EC-4996-448E-A54C-ACDA199E001E.png'\n",
        "C309='41A71D02-E2ED-4DF4-9764-FF1842AF5A7F.png'\n",
        "C401='0CD9BACA-F94C-42B7-BA88-4C31B616374F.png'\n",
        "C403='1110815D-502E-4139-A96F-D2E69709C108.png'\n",
        "C406='078E17CC-4C30-44B0-93AE-EB7331A36007.png'\n",
        "C409='6DE76815-90A2-427A-9003-2C4A2AA2BBB1.png'\n",
        "D201='9C5DE937-297C-4033-87D3-D5579B8099E7.png'\n",
        "D203='15EB3704-90F7-4C6D-8EAE-94B4C23192B1.png'\n",
        "D206='94C2591B-9CA1-4AA9-823F-45C0F10B7D80.png'\n",
        "D209='AD911101-AA24-4F12-944B-2319CA2FA19F.png'\n",
        "D301='58CD90A3-58EE-414C-97E0-2902C17A2FEA.png'\n",
        "D303='4665809A-7FF4-4281-8E89-5CF58662BC43.png'\n",
        "D306='EDA0D8D3-73F8-4402-8048-2EFB48908F90.png'\n",
        "D309='B300EEC6-ACC1-4924-AE36-4A6465F96E48.png'\n",
        "D401='C1988A09-1945-4CFE-85F0-D0457E50F9B3.png'\n",
        "D403='0D70D455-3C99-4491-8A4B-4E868C555D72.png'\n",
        "D406='D8B785B2-69C4-47B7-AA18-8CBF51B76259.png'\n",
        "D409='720672C4-6F91-467C-A5BD-6C71D3F0C256.png'"
      ],
      "execution_count": null,
      "outputs": []
    },
    {
      "cell_type": "markdown",
      "metadata": {
        "id": "3TcJcECMMc3N"
      },
      "source": [
        "2. ดึงรูป"
      ]
    },
    {
      "cell_type": "code",
      "metadata": {
        "id": "pGjlDBEugz35"
      },
      "source": [
        "import cv2\n",
        "from matplotlib import pyplot as plt #การเรียกใช้คำสั่ง matplotlib เพื่อวาดกราฟ โดยแทนชื่อ matplotlib ด้วย plt\n",
        "import matplotlib"
      ],
      "execution_count": 15,
      "outputs": []
    },
    {
      "cell_type": "code",
      "metadata": {
        "id": "dfvpEWdmMa6t",
        "colab": {
          "base_uri": "https://localhost:8080/"
        },
        "outputId": "fbd9c38b-047d-44d3-ad74-309220d57f0d"
      },
      "source": [
        "full_path_to_file2 = os.path.join(A101) \n",
        "blob_service_client.get_blob_to_path('shadeimg', full_path_to_file2, full_path_to_file2)"
      ],
      "execution_count": 16,
      "outputs": [
        {
          "output_type": "execute_result",
          "data": {
            "text/plain": [
              "<azure.storage.blob.models.Blob at 0x7fefc8b23290>"
            ]
          },
          "metadata": {},
          "execution_count": 16
        }
      ]
    },
    {
      "cell_type": "code",
      "metadata": {
        "id": "K7dLDFbCMpvz"
      },
      "source": [
        "full_path_to_file2 = os.path.join(A103) \n",
        "blob_service_client.get_blob_to_path('shadeimg', full_path_to_file2, full_path_to_file2)"
      ],
      "execution_count": null,
      "outputs": []
    },
    {
      "cell_type": "code",
      "metadata": {
        "id": "ossmoCKeMqXd"
      },
      "source": [
        "full_path_to_file2 = os.path.join(A106) \n",
        "blob_service_client.get_blob_to_path('shadeimg', full_path_to_file2, full_path_to_file2)"
      ],
      "execution_count": null,
      "outputs": []
    },
    {
      "cell_type": "code",
      "metadata": {
        "id": "LWPDqUeuMqr2"
      },
      "source": [
        "full_path_to_file2 = os.path.join(A109) \n",
        "blob_service_client.get_blob_to_path('shadeimg', full_path_to_file2, full_path_to_file2)"
      ],
      "execution_count": null,
      "outputs": []
    },
    {
      "cell_type": "code",
      "metadata": {
        "id": "PyTA7XkHMq9w"
      },
      "source": [
        "full_path_to_file2 = os.path.join(A201) \n",
        "blob_service_client.get_blob_to_path('shadeimg', full_path_to_file2, full_path_to_file2)"
      ],
      "execution_count": null,
      "outputs": []
    },
    {
      "cell_type": "code",
      "metadata": {
        "id": "0Wsi63jYMrNy"
      },
      "source": [
        "full_path_to_file2 = os.path.join(A203) \n",
        "blob_service_client.get_blob_to_path('shadeimg', full_path_to_file2, full_path_to_file2)"
      ],
      "execution_count": null,
      "outputs": []
    },
    {
      "cell_type": "code",
      "metadata": {
        "id": "sRO02lHCMyU8"
      },
      "source": [
        "full_path_to_file2 = os.path.join(A206) \n",
        "blob_service_client.get_blob_to_path('shadeimg', full_path_to_file2, full_path_to_file2)"
      ],
      "execution_count": null,
      "outputs": []
    },
    {
      "cell_type": "code",
      "metadata": {
        "id": "5Ag__xJLMy0n"
      },
      "source": [
        "full_path_to_file2 = os.path.join(A209) \n",
        "blob_service_client.get_blob_to_path('shadeimg', full_path_to_file2, full_path_to_file2)"
      ],
      "execution_count": null,
      "outputs": []
    },
    {
      "cell_type": "code",
      "metadata": {
        "id": "hXvuZHdVMzGJ"
      },
      "source": [
        "full_path_to_file2 = os.path.join(A301) \n",
        "blob_service_client.get_blob_to_path('shadeimg', full_path_to_file2, full_path_to_file2)"
      ],
      "execution_count": null,
      "outputs": []
    },
    {
      "cell_type": "code",
      "metadata": {
        "id": "dl02h6qKfkIE"
      },
      "source": [
        "full_path_to_file2 = os.path.join(A303) \n",
        "blob_service_client.get_blob_to_path('shadeimg', full_path_to_file2, full_path_to_file2)"
      ],
      "execution_count": null,
      "outputs": []
    },
    {
      "cell_type": "code",
      "metadata": {
        "id": "19BpEgqgfkQK"
      },
      "source": [
        "full_path_to_file2 = os.path.join(A306) \n",
        "blob_service_client.get_blob_to_path('shadeimg', full_path_to_file2, full_path_to_file2)"
      ],
      "execution_count": null,
      "outputs": []
    },
    {
      "cell_type": "code",
      "metadata": {
        "id": "3RyrT4uKflCr"
      },
      "source": [
        "full_path_to_file2 = os.path.join(A309) \n",
        "blob_service_client.get_blob_to_path('shadeimg', full_path_to_file2, full_path_to_file2)"
      ],
      "execution_count": null,
      "outputs": []
    },
    {
      "cell_type": "code",
      "metadata": {
        "id": "hOTC4WLe6T1K"
      },
      "source": [
        "full_path_to_file2 = os.path.join(A3_501) \n",
        "blob_service_client.get_blob_to_path('shadeimg', full_path_to_file2, full_path_to_file2)"
      ],
      "execution_count": null,
      "outputs": []
    },
    {
      "cell_type": "code",
      "metadata": {
        "id": "ligFptdG6UDQ"
      },
      "source": [
        "full_path_to_file2 = os.path.join(A3_501) \n",
        "blob_service_client.get_blob_to_path('shadeimg', full_path_to_file2, full_path_to_file2)"
      ],
      "execution_count": null,
      "outputs": []
    },
    {
      "cell_type": "code",
      "metadata": {
        "id": "J9QQ_Par6UQY"
      },
      "source": [
        "full_path_to_file2 = os.path.join(A3_503) \n",
        "blob_service_client.get_blob_to_path('shadeimg', full_path_to_file2, full_path_to_file2)"
      ],
      "execution_count": null,
      "outputs": []
    },
    {
      "cell_type": "code",
      "metadata": {
        "id": "7Fu_17fu6UcW"
      },
      "source": [
        "full_path_to_file2 = os.path.join(A3_506) \n",
        "blob_service_client.get_blob_to_path('shadeimg', full_path_to_file2, full_path_to_file2)"
      ],
      "execution_count": null,
      "outputs": []
    },
    {
      "cell_type": "code",
      "metadata": {
        "id": "Afak29x56zxC"
      },
      "source": [
        "full_path_to_file2 = os.path.join(A3_509) \n",
        "blob_service_client.get_blob_to_path('shadeimg', full_path_to_file2, full_path_to_file2)"
      ],
      "execution_count": null,
      "outputs": []
    },
    {
      "cell_type": "code",
      "metadata": {
        "id": "tNBaXgTLMzW1"
      },
      "source": [
        "full_path_to_file2 = os.path.join(A401) \n",
        "blob_service_client.get_blob_to_path('shadeimg', full_path_to_file2, full_path_to_file2)"
      ],
      "execution_count": null,
      "outputs": []
    },
    {
      "cell_type": "code",
      "metadata": {
        "id": "guP0y28iMzlX"
      },
      "source": [
        "full_path_to_file2 = os.path.join(A403) \n",
        "blob_service_client.get_blob_to_path('shadeimg', full_path_to_file2, full_path_to_file2)"
      ],
      "execution_count": null,
      "outputs": []
    },
    {
      "cell_type": "code",
      "metadata": {
        "id": "_tNHaAmmMz4P"
      },
      "source": [
        "full_path_to_file2 = os.path.join(A406) \n",
        "blob_service_client.get_blob_to_path('shadeimg', full_path_to_file2, full_path_to_file2)"
      ],
      "execution_count": null,
      "outputs": []
    },
    {
      "cell_type": "code",
      "metadata": {
        "id": "sTyFzeTgM1Kn"
      },
      "source": [
        "full_path_to_file2 = os.path.join(A409) \n",
        "blob_service_client.get_blob_to_path('shadeimg', full_path_to_file2, full_path_to_file2)"
      ],
      "execution_count": null,
      "outputs": []
    },
    {
      "cell_type": "code",
      "metadata": {
        "id": "GfOwcLmUM1cV"
      },
      "source": [
        "full_path_to_file2 = os.path.join(B101) \n",
        "blob_service_client.get_blob_to_path('shadeimg', full_path_to_file2, full_path_to_file2)"
      ],
      "execution_count": null,
      "outputs": []
    },
    {
      "cell_type": "code",
      "metadata": {
        "id": "McP4ADOjM1sG"
      },
      "source": [
        "full_path_to_file2 = os.path.join(B103) \n",
        "blob_service_client.get_blob_to_path('shadeimg', full_path_to_file2, full_path_to_file2)"
      ],
      "execution_count": null,
      "outputs": []
    },
    {
      "cell_type": "code",
      "metadata": {
        "id": "U9Vqt91zM1_7"
      },
      "source": [
        "full_path_to_file2 = os.path.join(B106) \n",
        "blob_service_client.get_blob_to_path('shadeimg', full_path_to_file2, full_path_to_file2)"
      ],
      "execution_count": null,
      "outputs": []
    },
    {
      "cell_type": "code",
      "metadata": {
        "id": "p__p689dM2Y4"
      },
      "source": [
        "full_path_to_file2 = os.path.join(B109) \n",
        "blob_service_client.get_blob_to_path('shadeimg', full_path_to_file2, full_path_to_file2)"
      ],
      "execution_count": null,
      "outputs": []
    },
    {
      "cell_type": "code",
      "metadata": {
        "id": "GxnzlcImM2zK"
      },
      "source": [
        "full_path_to_file2 = os.path.join(B201) \n",
        "blob_service_client.get_blob_to_path('shadeimg', full_path_to_file2, full_path_to_file2)"
      ],
      "execution_count": null,
      "outputs": []
    },
    {
      "cell_type": "code",
      "metadata": {
        "id": "Cb0iSM1LM3Fh"
      },
      "source": [
        "full_path_to_file2 = os.path.join(B203) \n",
        "blob_service_client.get_blob_to_path('shadeimg', full_path_to_file2, full_path_to_file2)"
      ],
      "execution_count": null,
      "outputs": []
    },
    {
      "cell_type": "code",
      "metadata": {
        "id": "lw_8lwTjM3Ym"
      },
      "source": [
        "full_path_to_file2 = os.path.join(B206) \n",
        "blob_service_client.get_blob_to_path('shadeimg', full_path_to_file2, full_path_to_file2)"
      ],
      "execution_count": null,
      "outputs": []
    },
    {
      "cell_type": "code",
      "metadata": {
        "id": "i-BmBijof5x1"
      },
      "source": [
        "full_path_to_file2 = os.path.join(B209) \n",
        "blob_service_client.get_blob_to_path('shadeimg', full_path_to_file2, full_path_to_file2)"
      ],
      "execution_count": null,
      "outputs": []
    },
    {
      "cell_type": "code",
      "metadata": {
        "id": "TE6rC95XM3p1"
      },
      "source": [
        "full_path_to_file2 = os.path.join(B301) \n",
        "blob_service_client.get_blob_to_path('shadeimg', full_path_to_file2, full_path_to_file2)"
      ],
      "execution_count": null,
      "outputs": []
    },
    {
      "cell_type": "code",
      "metadata": {
        "id": "LckPT4ofM35k"
      },
      "source": [
        "full_path_to_file2 = os.path.join(B303) \n",
        "blob_service_client.get_blob_to_path('shadeimg', full_path_to_file2, full_path_to_file2)"
      ],
      "execution_count": null,
      "outputs": []
    },
    {
      "cell_type": "code",
      "metadata": {
        "id": "I_0IZTEkM4Rk"
      },
      "source": [
        "full_path_to_file2 = os.path.join(B306) \n",
        "blob_service_client.get_blob_to_path('shadeimg', full_path_to_file2, full_path_to_file2)"
      ],
      "execution_count": null,
      "outputs": []
    },
    {
      "cell_type": "code",
      "metadata": {
        "id": "m6mrMVIfM4f6"
      },
      "source": [
        "full_path_to_file2 = os.path.join(B309) \n",
        "blob_service_client.get_blob_to_path('shadeimg', full_path_to_file2, full_path_to_file2)"
      ],
      "execution_count": null,
      "outputs": []
    },
    {
      "cell_type": "code",
      "metadata": {
        "id": "sS3PN1dVM4v7"
      },
      "source": [
        "full_path_to_file2 = os.path.join(B401) \n",
        "blob_service_client.get_blob_to_path('shadeimg', full_path_to_file2, full_path_to_file2)"
      ],
      "execution_count": null,
      "outputs": []
    },
    {
      "cell_type": "code",
      "metadata": {
        "id": "0Q_wZqWXM5Ak"
      },
      "source": [
        "full_path_to_file2 = os.path.join(B403) \n",
        "blob_service_client.get_blob_to_path('shadeimg', full_path_to_file2, full_path_to_file2)"
      ],
      "execution_count": null,
      "outputs": []
    },
    {
      "cell_type": "code",
      "metadata": {
        "id": "9TsD8BWYM5PC"
      },
      "source": [
        "full_path_to_file2 = os.path.join(B406) \n",
        "blob_service_client.get_blob_to_path('shadeimg', full_path_to_file2, full_path_to_file2)"
      ],
      "execution_count": null,
      "outputs": []
    },
    {
      "cell_type": "code",
      "metadata": {
        "id": "lkbjr25aM5l2"
      },
      "source": [
        "full_path_to_file2 = os.path.join(B409) \n",
        "blob_service_client.get_blob_to_path('shadeimg', full_path_to_file2, full_path_to_file2)"
      ],
      "execution_count": null,
      "outputs": []
    },
    {
      "cell_type": "code",
      "metadata": {
        "id": "pKlOz4Y9M5zI"
      },
      "source": [
        "full_path_to_file2 = os.path.join(C101) \n",
        "blob_service_client.get_blob_to_path('shadeimg', full_path_to_file2, full_path_to_file2)"
      ],
      "execution_count": null,
      "outputs": []
    },
    {
      "cell_type": "code",
      "metadata": {
        "id": "FBXvBSTRM6Ff"
      },
      "source": [
        "full_path_to_file2 = os.path.join(C103) \n",
        "blob_service_client.get_blob_to_path('shadeimg', full_path_to_file2, full_path_to_file2)"
      ],
      "execution_count": null,
      "outputs": []
    },
    {
      "cell_type": "code",
      "metadata": {
        "id": "tOjiOM5WM6VJ"
      },
      "source": [
        "full_path_to_file2 = os.path.join(C106) \n",
        "blob_service_client.get_blob_to_path('shadeimg', full_path_to_file2, full_path_to_file2)"
      ],
      "execution_count": null,
      "outputs": []
    },
    {
      "cell_type": "code",
      "metadata": {
        "id": "sB4eY_m8M6zX"
      },
      "source": [
        "full_path_to_file2 = os.path.join(C109) \n",
        "blob_service_client.get_blob_to_path('shadeimg', full_path_to_file2, full_path_to_file2)"
      ],
      "execution_count": null,
      "outputs": []
    },
    {
      "cell_type": "code",
      "metadata": {
        "id": "CrE9IrOKM6_x"
      },
      "source": [
        "full_path_to_file2 = os.path.join(C201) \n",
        "blob_service_client.get_blob_to_path('shadeimg', full_path_to_file2, full_path_to_file2)"
      ],
      "execution_count": null,
      "outputs": []
    },
    {
      "cell_type": "code",
      "metadata": {
        "id": "VI-jWhY7M7Nn"
      },
      "source": [
        "full_path_to_file2 = os.path.join(C203) \n",
        "blob_service_client.get_blob_to_path('shadeimg', full_path_to_file2, full_path_to_file2)"
      ],
      "execution_count": null,
      "outputs": []
    },
    {
      "cell_type": "code",
      "metadata": {
        "id": "u1-1VQHsM7gc"
      },
      "source": [
        "full_path_to_file2 = os.path.join(C206) \n",
        "blob_service_client.get_blob_to_path('shadeimg', full_path_to_file2, full_path_to_file2)"
      ],
      "execution_count": null,
      "outputs": []
    },
    {
      "cell_type": "code",
      "metadata": {
        "id": "sYU6Ee-_M7vh"
      },
      "source": [
        "full_path_to_file2 = os.path.join(C209) \n",
        "blob_service_client.get_blob_to_path('shadeimg', full_path_to_file2, full_path_to_file2)"
      ],
      "execution_count": null,
      "outputs": []
    },
    {
      "cell_type": "code",
      "metadata": {
        "id": "ozshiopsM8KV"
      },
      "source": [
        "full_path_to_file2 = os.path.join(C301) \n",
        "blob_service_client.get_blob_to_path('shadeimg', full_path_to_file2, full_path_to_file2)"
      ],
      "execution_count": null,
      "outputs": []
    },
    {
      "cell_type": "code",
      "metadata": {
        "id": "d1NH8nHMM8aw"
      },
      "source": [
        "full_path_to_file2 = os.path.join(C303) \n",
        "blob_service_client.get_blob_to_path('shadeimg', full_path_to_file2, full_path_to_file2)"
      ],
      "execution_count": null,
      "outputs": []
    },
    {
      "cell_type": "code",
      "metadata": {
        "id": "VpSFswEtM8q1"
      },
      "source": [
        "full_path_to_file2 = os.path.join(C306) \n",
        "blob_service_client.get_blob_to_path('shadeimg', full_path_to_file2, full_path_to_file2)"
      ],
      "execution_count": null,
      "outputs": []
    },
    {
      "cell_type": "code",
      "metadata": {
        "id": "WvwLHiKSM84s"
      },
      "source": [
        "full_path_to_file2 = os.path.join(C309) \n",
        "blob_service_client.get_blob_to_path('shadeimg', full_path_to_file2, full_path_to_file2)"
      ],
      "execution_count": null,
      "outputs": []
    },
    {
      "cell_type": "code",
      "metadata": {
        "id": "XS24LMqdM9Jz"
      },
      "source": [
        "full_path_to_file2 = os.path.join(C401) \n",
        "blob_service_client.get_blob_to_path('shadeimg', full_path_to_file2, full_path_to_file2)"
      ],
      "execution_count": null,
      "outputs": []
    },
    {
      "cell_type": "code",
      "metadata": {
        "id": "zGEn6v4MM9n7"
      },
      "source": [
        "full_path_to_file2 = os.path.join(C403) \n",
        "blob_service_client.get_blob_to_path('shadeimg', full_path_to_file2, full_path_to_file2)"
      ],
      "execution_count": null,
      "outputs": []
    },
    {
      "cell_type": "code",
      "metadata": {
        "id": "ZYWoqG-PM91q"
      },
      "source": [
        "full_path_to_file2 = os.path.join(C406) \n",
        "blob_service_client.get_blob_to_path('shadeimg', full_path_to_file2, full_path_to_file2)"
      ],
      "execution_count": null,
      "outputs": []
    },
    {
      "cell_type": "code",
      "metadata": {
        "id": "ZaCIgZwuM-F6"
      },
      "source": [
        "full_path_to_file2 = os.path.join(C409) \n",
        "blob_service_client.get_blob_to_path('shadeimg', full_path_to_file2, full_path_to_file2)"
      ],
      "execution_count": null,
      "outputs": []
    },
    {
      "cell_type": "code",
      "metadata": {
        "id": "pYM6gQadM-WB"
      },
      "source": [
        "full_path_to_file2 = os.path.join(D101) \n",
        "blob_service_client.get_blob_to_path('shadeimg', full_path_to_file2, full_path_to_file2)"
      ],
      "execution_count": null,
      "outputs": []
    },
    {
      "cell_type": "code",
      "metadata": {
        "id": "ZT2WI6_SM-l1"
      },
      "source": [
        "full_path_to_file2 = os.path.join(D103) \n",
        "blob_service_client.get_blob_to_path('shadeimg', full_path_to_file2, full_path_to_file2)"
      ],
      "execution_count": null,
      "outputs": []
    },
    {
      "cell_type": "code",
      "metadata": {
        "id": "EEeOjowDM-9y"
      },
      "source": [
        "full_path_to_file2 = os.path.join(D106) \n",
        "blob_service_client.get_blob_to_path('shadeimg', full_path_to_file2, full_path_to_file2)"
      ],
      "execution_count": null,
      "outputs": []
    },
    {
      "cell_type": "code",
      "metadata": {
        "id": "xewKWFZOM_Lf"
      },
      "source": [
        "full_path_to_file2 = os.path.join(D109) \n",
        "blob_service_client.get_blob_to_path('shadeimg', full_path_to_file2, full_path_to_file2)"
      ],
      "execution_count": null,
      "outputs": []
    },
    {
      "cell_type": "code",
      "metadata": {
        "id": "g678A78gM_Zs"
      },
      "source": [
        "full_path_to_file2 = os.path.join(D201) \n",
        "blob_service_client.get_blob_to_path('shadeimg', full_path_to_file2, full_path_to_file2)"
      ],
      "execution_count": null,
      "outputs": []
    },
    {
      "cell_type": "code",
      "metadata": {
        "id": "-VduLUrmM_rU"
      },
      "source": [
        "full_path_to_file2 = os.path.join(D203) \n",
        "blob_service_client.get_blob_to_path('shadeimg', full_path_to_file2, full_path_to_file2)"
      ],
      "execution_count": null,
      "outputs": []
    },
    {
      "cell_type": "code",
      "metadata": {
        "id": "OrsILvN3NANL"
      },
      "source": [
        "full_path_to_file2 = os.path.join(D206) \n",
        "blob_service_client.get_blob_to_path('shadeimg', full_path_to_file2, full_path_to_file2)"
      ],
      "execution_count": null,
      "outputs": []
    },
    {
      "cell_type": "code",
      "metadata": {
        "id": "xObkE1AjM_4Y"
      },
      "source": [
        "full_path_to_file2 = os.path.join(D209) \n",
        "blob_service_client.get_blob_to_path('shadeimg', full_path_to_file2, full_path_to_file2)"
      ],
      "execution_count": null,
      "outputs": []
    },
    {
      "cell_type": "code",
      "metadata": {
        "id": "qr-0vlHKelKD"
      },
      "source": [
        "full_path_to_file2 = os.path.join(D301) \n",
        "blob_service_client.get_blob_to_path('shadeimg', full_path_to_file2, full_path_to_file2)"
      ],
      "execution_count": null,
      "outputs": []
    },
    {
      "cell_type": "code",
      "metadata": {
        "id": "FUDIdSfYNAaN"
      },
      "source": [
        "full_path_to_file2 = os.path.join(D303) \n",
        "blob_service_client.get_blob_to_path('shadeimg', full_path_to_file2, full_path_to_file2)"
      ],
      "execution_count": null,
      "outputs": []
    },
    {
      "cell_type": "code",
      "metadata": {
        "id": "raReD8PoNAps"
      },
      "source": [
        "full_path_to_file2 = os.path.join(D306) \n",
        "blob_service_client.get_blob_to_path('shadeimg', full_path_to_file2, full_path_to_file2)"
      ],
      "execution_count": null,
      "outputs": []
    },
    {
      "cell_type": "code",
      "metadata": {
        "id": "DMIe2HlbNA-P"
      },
      "source": [
        "full_path_to_file2 = os.path.join(D309) \n",
        "blob_service_client.get_blob_to_path('shadeimg', full_path_to_file2, full_path_to_file2)"
      ],
      "execution_count": null,
      "outputs": []
    },
    {
      "cell_type": "code",
      "metadata": {
        "id": "t4rYO8AINBX4"
      },
      "source": [
        "full_path_to_file2 = os.path.join(D401) \n",
        "blob_service_client.get_blob_to_path('shadeimg', full_path_to_file2, full_path_to_file2)"
      ],
      "execution_count": null,
      "outputs": []
    },
    {
      "cell_type": "code",
      "metadata": {
        "id": "o9G8c3AvNBzL"
      },
      "source": [
        "full_path_to_file2 = os.path.join(D403) \n",
        "blob_service_client.get_blob_to_path('shadeimg', full_path_to_file2, full_path_to_file2)"
      ],
      "execution_count": null,
      "outputs": []
    },
    {
      "cell_type": "code",
      "metadata": {
        "id": "BD80SXlvNCC9"
      },
      "source": [
        "full_path_to_file2 = os.path.join(D406) \n",
        "blob_service_client.get_blob_to_path('shadeimg', full_path_to_file2, full_path_to_file2)"
      ],
      "execution_count": null,
      "outputs": []
    },
    {
      "cell_type": "code",
      "metadata": {
        "id": "VsPfNZTTNCUr"
      },
      "source": [
        "full_path_to_file2 = os.path.join(D409) \n",
        "blob_service_client.get_blob_to_path('shadeimg', full_path_to_file2, full_path_to_file2)"
      ],
      "execution_count": null,
      "outputs": []
    },
    {
      "cell_type": "markdown",
      "metadata": {
        "id": "RUUX8egNggnT"
      },
      "source": [
        "#ดึงรูป"
      ]
    },
    {
      "cell_type": "code",
      "metadata": {
        "id": "GGgqz1smgnDH"
      },
      "source": [
        "imgA1  = cv2.imread(A101)\n",
        "RGB_imgA1= cv2.cvtColor(imgA1, cv2.COLOR_BGR2RGB)\n"
      ],
      "execution_count": null,
      "outputs": []
    },
    {
      "cell_type": "code",
      "metadata": {
        "id": "gND0tdPIgnIk"
      },
      "source": [
        "imgA103 = cv2.imread(A103)\n",
        "RGB_imgA103= cv2.cvtColor(imgA103, cv2.COLOR_BGR2RGB)"
      ],
      "execution_count": null,
      "outputs": []
    },
    {
      "cell_type": "code",
      "metadata": {
        "id": "-7iJUiUehGQ9"
      },
      "source": [
        "imgA106  = cv2.imread(A106)\n",
        "RGB_imgA106= cv2.cvtColor(imgA106, cv2.COLOR_BGR2RGB)"
      ],
      "execution_count": null,
      "outputs": []
    },
    {
      "cell_type": "code",
      "metadata": {
        "id": "6dQDWmLBhHM2"
      },
      "source": [
        "imgA109 = cv2.imread(A109)\n",
        "RGB_imgA109= cv2.cvtColor(imgA109, cv2.COLOR_BGR2RGB)"
      ],
      "execution_count": null,
      "outputs": []
    },
    {
      "cell_type": "code",
      "metadata": {
        "id": "RshouISKhJbi"
      },
      "source": [
        "imgA201 = cv2.imread(A201)\n",
        "RGB_imgA201= cv2.cvtColor(imgA201, cv2.COLOR_BGR2RGB)"
      ],
      "execution_count": null,
      "outputs": []
    },
    {
      "cell_type": "code",
      "metadata": {
        "id": "Pv4umYUxhKEo"
      },
      "source": [
        "imgA203  = cv2.imread(A203)\n",
        "RGB_imgA203= cv2.cvtColor(imgA203, cv2.COLOR_BGR2RGB)"
      ],
      "execution_count": null,
      "outputs": []
    },
    {
      "cell_type": "code",
      "metadata": {
        "id": "1vjk15J4hLCH"
      },
      "source": [
        "imgA206 = cv2.imread(A206)\n",
        "RGB_imgA206= cv2.cvtColor(imgA206, cv2.COLOR_BGR2RGB)"
      ],
      "execution_count": null,
      "outputs": []
    },
    {
      "cell_type": "code",
      "metadata": {
        "id": "Vex87ZcYhMTQ"
      },
      "source": [
        "imgA209  = cv2.imread(A206)\n",
        "RGB_imgA206= cv2.cvtColor(imgA206, cv2.COLOR_BGR2RGB)"
      ],
      "execution_count": null,
      "outputs": []
    },
    {
      "cell_type": "code",
      "metadata": {
        "id": "MHG6k4lyhNAd"
      },
      "source": [
        "imgA301  = cv2.imread(A301)\n",
        "RGB_imgA301= cv2.cvtColor(imgA301, cv2.COLOR_BGR2RGB)"
      ],
      "execution_count": null,
      "outputs": []
    },
    {
      "cell_type": "code",
      "metadata": {
        "id": "wjEc2Mj1hNvq"
      },
      "source": [
        "imgA303  = cv2.imread(A303)\n",
        "RGB_imgA303= cv2.cvtColor(imgA303, cv2.COLOR_BGR2RGB)"
      ],
      "execution_count": null,
      "outputs": []
    },
    {
      "cell_type": "code",
      "metadata": {
        "id": "xQYwgnw7hOnN"
      },
      "source": [
        "imgA306 = cv2.imread(A306)\n",
        "RGB_imgA306= cv2.cvtColor(imgA306, cv2.COLOR_BGR2RGB)"
      ],
      "execution_count": null,
      "outputs": []
    },
    {
      "cell_type": "code",
      "metadata": {
        "id": "4SxQo-VShPUO"
      },
      "source": [
        "imgA309 = cv2.imread(A306)\n",
        "RGB_imgA309= cv2.cvtColor(imgA309, cv2.COLOR_BGR2RGB)"
      ],
      "execution_count": null,
      "outputs": []
    },
    {
      "cell_type": "code",
      "metadata": {
        "id": "Uw9X5Hf_hP9f"
      },
      "source": [
        "imgA401  = cv2.imread(A401)\n",
        "RGB_imgA401= cv2.cvtColor(imgA401, cv2.COLOR_BGR2RGB)"
      ],
      "execution_count": null,
      "outputs": []
    },
    {
      "cell_type": "code",
      "metadata": {
        "id": "ZMgnl-D2hQId"
      },
      "source": [
        "imgA403  = cv2.imread(A4031)\n",
        "RGB_imgA403= cv2.cvtColor(imgA403, cv2.COLOR_BGR2RGB)"
      ],
      "execution_count": null,
      "outputs": []
    },
    {
      "cell_type": "code",
      "metadata": {
        "id": "-cczSQpshdkc"
      },
      "source": [
        "imgA406  = cv2.imread(A406)\n",
        "RGB_imgA406 = cv2.cvtColor(imgA406, cv2.COLOR_BGR2RGB)"
      ],
      "execution_count": null,
      "outputs": []
    },
    {
      "cell_type": "code",
      "metadata": {
        "id": "UVL9tZXChmUC"
      },
      "source": [
        "imgA409  = cv2.imread(A409)\n",
        "RGB_imgA409= cv2.cvtColor(imgA409, cv2.COLOR_BGR2RGB)"
      ],
      "execution_count": null,
      "outputs": []
    },
    {
      "cell_type": "code",
      "metadata": {
        "id": "aXMf5AylhmcW"
      },
      "source": [
        "imgB101 = cv2.imread(B101)\n",
        "RGB_imgB101 = cv2.cvtColor(imgB101, cv2.COLOR_BGR2RGB)"
      ],
      "execution_count": null,
      "outputs": []
    },
    {
      "cell_type": "code",
      "metadata": {
        "id": "YPH7R-1ghmfV"
      },
      "source": [
        "imgB103  = cv2.imread(B103)\n",
        "RGB_imgB103= cv2.cvtColor(imgB103, cv2.COLOR_BGR2RGB)"
      ],
      "execution_count": null,
      "outputs": []
    },
    {
      "cell_type": "code",
      "metadata": {
        "id": "f3StaGtKhmh6"
      },
      "source": [
        "imgB106  = cv2.imread(B106)\n",
        "RGB_imgB106= cv2.cvtColor(imgB106, cv2.COLOR_BGR2RGB)"
      ],
      "execution_count": null,
      "outputs": []
    },
    {
      "cell_type": "code",
      "metadata": {
        "id": "T28XS3lshmlW"
      },
      "source": [
        "imgB201  = cv2.imread(B201)\n",
        "RGB_imgB201= cv2.cvtColor(imgB201, cv2.COLOR_BGR2RGB)"
      ],
      "execution_count": null,
      "outputs": []
    },
    {
      "cell_type": "code",
      "metadata": {
        "id": "4argDZYDhmpp"
      },
      "source": [
        "imgB203  = cv2.imread(B203)\n",
        "RGB_imgB203= cv2.cvtColor(imgB203, cv2.COLOR_BGR2RGB)"
      ],
      "execution_count": null,
      "outputs": []
    },
    {
      "cell_type": "code",
      "metadata": {
        "id": "wBm0zbCJhxcS"
      },
      "source": [
        "imgB206 = cv2.imread(B206)\n",
        "RGB_imgA1= cv2.cvtColor(imgA1, cv2.COLOR_BGR2RGB)"
      ],
      "execution_count": null,
      "outputs": []
    },
    {
      "cell_type": "code",
      "metadata": {
        "id": "EwiL-pvUhxlP"
      },
      "source": [
        "imgB209 = cv2.imread(B209)\n",
        "RGB_imgB209 = cv2.cvtColor(imgB209, cv2.COLOR_BGR2RGB)"
      ],
      "execution_count": null,
      "outputs": []
    },
    {
      "cell_type": "code",
      "metadata": {
        "id": "F7eLeEmthxoc"
      },
      "source": [
        "imgB301  = cv2.imread(B301 )\n",
        "RGB_imgB301 = cv2.cvtColor(imgB301, cv2.COLOR_BGR2RGB)"
      ],
      "execution_count": null,
      "outputs": []
    },
    {
      "cell_type": "code",
      "metadata": {
        "id": "kp1g4D3yhz35"
      },
      "source": [
        "imgB303  = cv2.imread(B303)\n",
        "RGB_imgB303= cv2.cvtColor(imgB303, cv2.COLOR_BGR2RGB)"
      ],
      "execution_count": null,
      "outputs": []
    },
    {
      "cell_type": "code",
      "metadata": {
        "id": "pAYP7ikDh0ad"
      },
      "source": [
        "imgB306 = cv2.imread(B306)\n",
        "RGB_imgB306= cv2.cvtColor(imgB306, cv2.COLOR_BGR2RGB)"
      ],
      "execution_count": null,
      "outputs": []
    },
    {
      "cell_type": "code",
      "metadata": {
        "id": "5LUjAvk4h06e"
      },
      "source": [
        "imgB309  = cv2.imread(B309)\n",
        "RGB_imgB309= cv2.cvtColor(imgB309, cv2.COLOR_BGR2RGB)"
      ],
      "execution_count": null,
      "outputs": []
    },
    {
      "cell_type": "code",
      "metadata": {
        "id": "4ND_QqQ1ilR0"
      },
      "source": [
        "imgB401  = cv2.imread(B401)\n",
        "RGB_imgB401 = cv2.cvtColor(imgB401, cv2.COLOR_BGR2RGB)"
      ],
      "execution_count": null,
      "outputs": []
    },
    {
      "cell_type": "code",
      "metadata": {
        "id": "QinzZuljimH6"
      },
      "source": [
        "imgB403 = cv2.imread(B403)\n",
        "RGB_imgB403= cv2.cvtColor(imgB403, cv2.COLOR_BGR2RGB)"
      ],
      "execution_count": null,
      "outputs": []
    },
    {
      "cell_type": "code",
      "metadata": {
        "id": "orsFONLKim66"
      },
      "source": [
        "imgB406  = cv2.imread(B406)\n",
        "RGB_imgB406= cv2.cvtColor(imgB406, cv2.COLOR_BGR2RGB)"
      ],
      "execution_count": null,
      "outputs": []
    },
    {
      "cell_type": "code",
      "metadata": {
        "id": "mrB4bFazu2us"
      },
      "source": [
        "imgB409  = cv2.imread(B409)\n",
        "RGB_imgB409  = cv2.cvtColor(imgB409 , cv2.COLOR_BGR2RGB)"
      ],
      "execution_count": null,
      "outputs": []
    },
    {
      "cell_type": "code",
      "metadata": {
        "id": "Z1pJ7nkpvUS8"
      },
      "source": [
        "imgB409  = cv2.imread(B409)\n",
        "RGB_imgB409  = cv2.cvtColor(imgB409 , cv2.COLOR_BGR2RGB)"
      ],
      "execution_count": null,
      "outputs": []
    },
    {
      "cell_type": "code",
      "metadata": {
        "id": "Dm6yzNmnvc3g"
      },
      "source": [
        "imgC101  = cv2.imread(C101)\n",
        "RGB_imgC101  = cv2.cvtColor(imgC101 , cv2.COLOR_BGR2RGB)"
      ],
      "execution_count": null,
      "outputs": []
    },
    {
      "cell_type": "code",
      "metadata": {
        "id": "dJ2YPHiMvm1l"
      },
      "source": [
        "imgC103  = cv2.imread(C103)\n",
        "RGB_imgC103  = cv2.cvtColor(imgC103, cv2.COLOR_BGR2RGB)"
      ],
      "execution_count": null,
      "outputs": []
    },
    {
      "cell_type": "code",
      "metadata": {
        "id": "u_873YPvvm8N"
      },
      "source": [
        "imgC106  = cv2.imread(C106)\n",
        "RGB_imgC106 = cv2.cvtColor(imgC106 , cv2.COLOR_BGR2RGB)"
      ],
      "execution_count": null,
      "outputs": []
    },
    {
      "cell_type": "code",
      "metadata": {
        "id": "ii8JGO1TvnCa"
      },
      "source": [
        "imgC109  = cv2.imread(C109)\n",
        "RGB_imgC109 = cv2.cvtColor(imgC109, cv2.COLOR_BGR2RGB)"
      ],
      "execution_count": null,
      "outputs": []
    },
    {
      "cell_type": "code",
      "metadata": {
        "id": "bhCOqADyvnFq"
      },
      "source": [
        "imgC201  = cv2.imread(C201)\n",
        "RGB_imgC201 = cv2.cvtColor(imgC201, cv2.COLOR_BGR2RGB)"
      ],
      "execution_count": null,
      "outputs": []
    },
    {
      "cell_type": "code",
      "metadata": {
        "id": "iSDNS234vnHi"
      },
      "source": [
        "imgC203  = cv2.imread(C203)\n",
        "RGB_imgC203 = cv2.cvtColor(imgC203, cv2.COLOR_BGR2RGB)"
      ],
      "execution_count": null,
      "outputs": []
    },
    {
      "cell_type": "code",
      "metadata": {
        "id": "RkG7bSDZvnJc"
      },
      "source": [
        "imgC206  = cv2.imread(C206)\n",
        "RGB_imgC206 = cv2.cvtColor(imgC206, cv2.COLOR_BGR2RGB)"
      ],
      "execution_count": null,
      "outputs": []
    },
    {
      "cell_type": "code",
      "metadata": {
        "id": "VmV5v61MvnMU"
      },
      "source": [
        "imgC209  = cv2.imread(C209)\n",
        "RGB_imgC209 = cv2.cvtColor(imgC209, cv2.COLOR_BGR2RGB)"
      ],
      "execution_count": null,
      "outputs": []
    },
    {
      "cell_type": "code",
      "metadata": {
        "id": "8VF_4afhvnPx"
      },
      "source": [
        "imgC301  = cv2.imread(C301)\n",
        "RGB_imgC301 = cv2.cvtColor(imgC301, cv2.COLOR_BGR2RGB)"
      ],
      "execution_count": null,
      "outputs": []
    },
    {
      "cell_type": "code",
      "metadata": {
        "id": "pIDif_pavdAi"
      },
      "source": [
        "imgC303 = cv2.imread(C303)\n",
        "RGB_imgC303 = cv2.cvtColor(imgC303, cv2.COLOR_BGR2RGB)"
      ],
      "execution_count": null,
      "outputs": []
    },
    {
      "cell_type": "code",
      "metadata": {
        "id": "sHBTUjPwyfP-"
      },
      "source": [
        "imgC306 = cv2.imread(C306)\n",
        "RGB_imgC306 = cv2.cvtColor(imgC306, cv2.COLOR_BGR2RGB)"
      ],
      "execution_count": null,
      "outputs": []
    },
    {
      "cell_type": "code",
      "metadata": {
        "id": "_VMd_DCvyfSW"
      },
      "source": [
        "imgC309 = cv2.imread(C309)\n",
        "RGB_imgC309 = cv2.cvtColor(imgC309, cv2.COLOR_BGR2RGB)"
      ],
      "execution_count": null,
      "outputs": []
    },
    {
      "cell_type": "code",
      "metadata": {
        "id": "hNHOo7L4yfUW"
      },
      "source": [
        "imgC401 = cv2.imread(C401)\n",
        "RGB_imgC401 = cv2.cvtColor(imgC401, cv2.COLOR_BGR2RGB)"
      ],
      "execution_count": null,
      "outputs": []
    },
    {
      "cell_type": "code",
      "metadata": {
        "id": "6fcMrQ3oyfYT"
      },
      "source": [
        "imgC403 = cv2.imread(C403)\n",
        "RGB_imgC403 = cv2.cvtColor(imgC403, cv2.COLOR_BGR2RGB)"
      ],
      "execution_count": null,
      "outputs": []
    },
    {
      "cell_type": "code",
      "metadata": {
        "id": "9ZMl1xM8zWIv"
      },
      "source": [
        "imgC406 = cv2.imread(C406)\n",
        "RGB_imgC406 = cv2.cvtColor(imgC406, cv2.COLOR_BGR2RGB)"
      ],
      "execution_count": null,
      "outputs": []
    },
    {
      "cell_type": "code",
      "metadata": {
        "id": "BYPJydcLzWK9"
      },
      "source": [
        "imgC409= cv2.imread(C409)\n",
        "RGB_imgC409 = cv2.cvtColor(imgC409, cv2.COLOR_BGR2RGB)"
      ],
      "execution_count": null,
      "outputs": []
    },
    {
      "cell_type": "code",
      "metadata": {
        "id": "tNZi7LtJzWOE"
      },
      "source": [
        "imgD101  = cv2.imread(D101)\n",
        "RGB_imgD101  = cv2.cvtColor(imgD101 , cv2.COLOR_BGR2RGB)"
      ],
      "execution_count": null,
      "outputs": []
    },
    {
      "cell_type": "code",
      "metadata": {
        "id": "AaF6CleTzWSK"
      },
      "source": [
        "imgD103 = cv2.imread(D103 )\n",
        "RGB_imgD103  = cv2.cvtColor(imgD103 , cv2.COLOR_BGR2RGB)"
      ],
      "execution_count": null,
      "outputs": []
    },
    {
      "cell_type": "code",
      "metadata": {
        "id": "WS7-EVr7zWVQ"
      },
      "source": [
        "imgD106 = cv2.imread(D106)\n",
        "RGB_imgD106  = cv2.cvtColor(imgD106 , cv2.COLOR_BGR2RGB)"
      ],
      "execution_count": null,
      "outputs": []
    },
    {
      "cell_type": "code",
      "metadata": {
        "id": "CubfO7HW0hkV"
      },
      "source": [
        "imgD109 = cv2.imread(D109)\n",
        "RGB_imgD109  = cv2.cvtColor(imgD109, cv2.COLOR_BGR2RGB)"
      ],
      "execution_count": null,
      "outputs": []
    },
    {
      "cell_type": "code",
      "metadata": {
        "id": "CQ6x5hLD0hm-"
      },
      "source": [
        "imgD201  = cv2.imread(D201)\n",
        "RGB_imgD201  = cv2.cvtColor(imgD201, cv2.COLOR_BGR2RGB)"
      ],
      "execution_count": null,
      "outputs": []
    },
    {
      "cell_type": "code",
      "metadata": {
        "id": "rdliRS1y0yXq"
      },
      "source": [
        "imgD203  = cv2.imrea(D203 )\n",
        "RGB_imgD203 = cv2.cvtColor(imgD203, cv2.COLOR_BGR2RGB)"
      ],
      "execution_count": null,
      "outputs": []
    },
    {
      "cell_type": "code",
      "metadata": {
        "id": "2ebv0bkx0yaO"
      },
      "source": [
        "imgD206  = cv2.imrea(D206)\n",
        "RGB_imgD206 = cv2.cvtColor(imgD206, cv2.COLOR_BGR2RGB)"
      ],
      "execution_count": null,
      "outputs": []
    },
    {
      "cell_type": "code",
      "metadata": {
        "id": "wlGwkSlI0ycN"
      },
      "source": [
        "imgD209 = cv2.imrea(D209)\n",
        "RGB_imgD209 = cv2.cvtColor(imgD209, cv2.COLOR_BGR2RGB)"
      ],
      "execution_count": null,
      "outputs": []
    },
    {
      "cell_type": "code",
      "metadata": {
        "id": "5IEBC-3n0yeL"
      },
      "source": [
        "imgD301 = cv2.imrea(D301)\n",
        "RGB_imgD301 = cv2.cvtColor(imgD301, cv2.COLOR_BGR2RGB)"
      ],
      "execution_count": null,
      "outputs": []
    },
    {
      "cell_type": "code",
      "metadata": {
        "id": "UaWQylWp0ygg"
      },
      "source": [
        "imgD303 = cv2.imrea(D303)\n",
        "RGB_imgD303 = cv2.cvtColor(imgD303, cv2.COLOR_BGR2RGB)"
      ],
      "execution_count": null,
      "outputs": []
    },
    {
      "cell_type": "code",
      "metadata": {
        "id": "DjZfNINk0ykh"
      },
      "source": [
        "imgD306 = cv2.imrea(D306)\n",
        "RGB_imgD306  = cv2.cvtColor(imgD306, cv2.COLOR_BGR2RGB)"
      ],
      "execution_count": null,
      "outputs": []
    },
    {
      "cell_type": "code",
      "metadata": {
        "id": "KL1ZFS2c0hpQ"
      },
      "source": [
        "imgD309 = cv2.imrea(D309)\n",
        "RGB_imgD309  = cv2.cvtColor(imgD309, cv2.COLOR_BGR2RGB)"
      ],
      "execution_count": null,
      "outputs": []
    },
    {
      "cell_type": "code",
      "metadata": {
        "id": "GGBYhCp412wm"
      },
      "source": [
        "imgD401 = cv2.imrea(D401)\n",
        "RGB_imgD401  = cv2.cvtColor(imgD401 , cv2.COLOR_BGR2RGB)"
      ],
      "execution_count": null,
      "outputs": []
    },
    {
      "cell_type": "code",
      "metadata": {
        "id": "_f0wsVEj123C"
      },
      "source": [
        "imgD403 = cv2.imrea(D403)\n",
        "RGB_imgD403  = cv2.cvtColor(imgD403, cv2.COLOR_BGR2RGB)"
      ],
      "execution_count": null,
      "outputs": []
    },
    {
      "cell_type": "code",
      "metadata": {
        "id": "1fGZK0RV125T"
      },
      "source": [
        "imgD406 = cv2.imrea(D406)\n",
        "RGB_imgD406 = cv2.cvtColor(imgD406, cv2.COLOR_BGR2RGB)"
      ],
      "execution_count": null,
      "outputs": []
    },
    {
      "cell_type": "code",
      "metadata": {
        "id": "m7Ahxzvx127z"
      },
      "source": [
        "imgD409 = cv2.imrea(D409)\n",
        "RGB_imgD409 = cv2.cvtColor(imgD409, cv2.COLOR_BGR2RGB)"
      ],
      "execution_count": null,
      "outputs": []
    },
    {
      "cell_type": "markdown",
      "metadata": {
        "id": "smG2ZHJs5jcx"
      },
      "source": [
        "#แปลง RGB to LAB"
      ]
    },
    {
      "cell_type": "code",
      "metadata": {
        "id": "xnybRqj05hY4"
      },
      "source": [
        "LAB_imgA101= cv2.cvtColor(RGB_imgA101, cv2.COLOR_RGB2LAB)\n",
        "plt.imshow(LAB_imgA103)"
      ],
      "execution_count": null,
      "outputs": []
    },
    {
      "cell_type": "code",
      "metadata": {
        "id": "8O2NqwnR5hsj"
      },
      "source": [
        ""
      ],
      "execution_count": null,
      "outputs": []
    },
    {
      "cell_type": "code",
      "metadata": {
        "id": "J8xV4bOA5iCS"
      },
      "source": [
        ""
      ],
      "execution_count": null,
      "outputs": []
    },
    {
      "cell_type": "markdown",
      "metadata": {
        "id": "-RRvv5vj2sng"
      },
      "source": [
        "#ดึงสีภาพ"
      ]
    },
    {
      "cell_type": "code",
      "metadata": {
        "id": "_48hGv6X12_P"
      },
      "source": [
        "for i in range(LAB_imgA115.shape[0]): #ให้ i รันตาม row หรือ shape[0] คือแถว มีทั้งหมด 4032 แถว ของภาพที่ปรับขนาดมาแล้ว\n",
        "     for j in range(LAB_imgA115.shape[1]): #ให้ j รันตาม colum มีทั้งหมด 3024 colum เช่น แถวที่ 1 เข้ามาให้รันครบ 3024colum\n",
        "                if 1769<i<1881 and 2019<j<2131 :#ถ้าค่า i ที่เข้ามาอยู่ระหว่าง 1849 - 2101   ค่า j  ที่เข้ามาอยู่ระหว่าง 1799-2001\n",
        "                    print(LAB_imgA115[i][j])#ถ้าค่าอยู่ใน ij  จะให้แสดงค่าที่อยู่ตำแหน่งนั้นๆ"
      ],
      "execution_count": null,
      "outputs": []
    },
    {
      "cell_type": "code",
      "metadata": {
        "id": "ONNhwbUk13EI"
      },
      "source": [
        "for i in range(LAB_imgA115.shape[0]): \n",
        "     for j in range(LAB_imgA115.shape[1]): \n",
        "                if 1769<i<1881 and 2019<j<2131:\n",
        "                    (LAB_imgA115[i][j])"
      ],
      "execution_count": null,
      "outputs": []
    },
    {
      "cell_type": "code",
      "metadata": {
        "id": "SfnN_RW93EZ2"
      },
      "source": [
        "for i in range(LAB_imgA115.shape[0]): \n",
        "     for j in range(LAB_imgA115.shape[1]): \n",
        "                if 1769<i<1881 and 2019<j<2131:\n",
        "                       (LAB_imgA115[i][j])"
      ],
      "execution_count": null,
      "outputs": []
    },
    {
      "cell_type": "code",
      "metadata": {
        "id": "NpxxRsXx3Hcp"
      },
      "source": [
        "for i in range(LAB_imgA115.shape[0]): \n",
        "     for j in range(LAB_imgA115.shape[1]): \n",
        "                if 1769<i<1881 and 2019<j<2131 :\n",
        "                       (LAB_imgA115[i][j])"
      ],
      "execution_count": null,
      "outputs": []
    },
    {
      "cell_type": "code",
      "metadata": {
        "id": "iTCsKkTv3Hfq"
      },
      "source": [
        "for i in range(LAB_imgA115.shape[0]): \n",
        "     for j in range(LAB_imgA115.shape[1]): \n",
        "                if 1769<i<1881 and 2019<j<2131 :\n",
        "                       (LAB_imgA115[i][j])"
      ],
      "execution_count": null,
      "outputs": []
    },
    {
      "cell_type": "code",
      "metadata": {
        "id": "ac-iuTT53HxA"
      },
      "source": [
        "for i in range(LAB_imgA115.shape[0]): \n",
        "     for j in range(LAB_imgA115.shape[1]): \n",
        "                if 1769<i<1881 and 2019<j<2131 :\n",
        "                       (LAB_imgA115[i][j])"
      ],
      "execution_count": null,
      "outputs": []
    },
    {
      "cell_type": "code",
      "metadata": {
        "id": "cOVtKvwA3HzV"
      },
      "source": [
        "for i in range(LAB_imgA115.shape[0]): \n",
        "     for j in range(LAB_imgA115.shape[1]): \n",
        "                if 1769<i<1881 and 2019<j<2131 :\n",
        "                       (LAB_imgA115[i][j])"
      ],
      "execution_count": null,
      "outputs": []
    },
    {
      "cell_type": "code",
      "metadata": {
        "id": "DKy7RXNh3H2z"
      },
      "source": [
        "for i in range(LAB_imgA115.shape[0]): \n",
        "     for j in range(LAB_imgA115.shape[1]): \n",
        "                if 1769<i<1881 and 2019<j<2131 :\n",
        "                       (LAB_imgA115[i][j])"
      ],
      "execution_count": null,
      "outputs": []
    },
    {
      "cell_type": "code",
      "metadata": {
        "id": "hgL_6nyf3MH8"
      },
      "source": [
        "for i in range(LAB_imgA115.shape[0]): \n",
        "     for j in range(LAB_imgA115.shape[1]): \n",
        "                if 1769<i<1881 and 2019<j<2131 :\n",
        "                       (LAB_imgA115[i][j])"
      ],
      "execution_count": null,
      "outputs": []
    },
    {
      "cell_type": "code",
      "metadata": {
        "id": "k1b2GdCv3MYr"
      },
      "source": [
        "for i in range(LAB_imgA115.shape[0]): \n",
        "     for j in range(LAB_imgA115.shape[1]): \n",
        "                if 1769<i<1881 and 2019<j<2131 :\n",
        "                       (LAB_imgA115[i][j])"
      ],
      "execution_count": null,
      "outputs": []
    },
    {
      "cell_type": "code",
      "metadata": {
        "id": "S_DPP6mF3Map"
      },
      "source": [
        "for i in range(LAB_imgA115.shape[0]): \n",
        "     for j in range(LAB_imgA115.shape[1]): \n",
        "                if 1769<i<1881 and 2019<j<2131 :\n",
        "                       (LAB_imgA115[i][j])"
      ],
      "execution_count": null,
      "outputs": []
    },
    {
      "cell_type": "code",
      "metadata": {
        "id": "FGs7rhUO3Mc-"
      },
      "source": [
        "for i in range(LAB_imgA115.shape[0]): \n",
        "     for j in range(LAB_imgA115.shape[1]): \n",
        "                if 1769<i<1881 and 2019<j<2131 :\n",
        "                       (LAB_imgA115[i][j])"
      ],
      "execution_count": null,
      "outputs": []
    },
    {
      "cell_type": "code",
      "metadata": {
        "id": "YJVOFw9f3Mff"
      },
      "source": [
        "for i in range(LAB_imgA115.shape[0]): \n",
        "     for j in range(LAB_imgA115.shape[1]): \n",
        "                if 1769<i<1881 and 2019<j<2131 :\n",
        "                       (LAB_imgA115[i][j])"
      ],
      "execution_count": null,
      "outputs": []
    },
    {
      "cell_type": "code",
      "metadata": {
        "id": "PgIVtqc73Mh2"
      },
      "source": [
        "for i in range(LAB_imgA115.shape[0]): \n",
        "     for j in range(LAB_imgA115.shape[1]): \n",
        "                if 1769<i<1881 and 2019<j<2131 :\n",
        "                       (LAB_imgA115[i][j])"
      ],
      "execution_count": null,
      "outputs": []
    },
    {
      "cell_type": "code",
      "metadata": {
        "id": "VzICX0Hc3Mkv"
      },
      "source": [
        "for i in range(LAB_imgA115.shape[0]): \n",
        "     for j in range(LAB_imgA115.shape[1]): \n",
        "                if 1769<i<1881 and 2019<j<2131 :\n",
        "                       (LAB_imgA115[i][j])"
      ],
      "execution_count": null,
      "outputs": []
    },
    {
      "cell_type": "code",
      "metadata": {
        "id": "3QmNeGLy3MnS"
      },
      "source": [
        "for i in range(LAB_imgA115.shape[0]): \n",
        "     for j in range(LAB_imgA115.shape[1]): \n",
        "                if 1769<i<1881 and 2019<j<2131 :\n",
        "                       (LAB_imgA115[i][j])"
      ],
      "execution_count": null,
      "outputs": []
    },
    {
      "cell_type": "code",
      "metadata": {
        "id": "QY30p-ix3Mql"
      },
      "source": [
        "for i in range(LAB_imgA115.shape[0]): \n",
        "     for j in range(LAB_imgA115.shape[1]): \n",
        "                if 1769<i<1881 and 2019<j<2131 :\n",
        "                       (LAB_imgA115[i][j])"
      ],
      "execution_count": null,
      "outputs": []
    },
    {
      "cell_type": "code",
      "metadata": {
        "id": "qB7aioUM3Mua"
      },
      "source": [
        "for i in range(LAB_imgA115.shape[0]): \n",
        "     for j in range(LAB_imgA115.shape[1]): \n",
        "                if 1769<i<1881 and 2019<j<2131 :\n",
        "                       (LAB_imgA115[i][j])"
      ],
      "execution_count": null,
      "outputs": []
    },
    {
      "cell_type": "code",
      "metadata": {
        "id": "kI2zD2py3bna"
      },
      "source": [
        "for i in range(LAB_imgA115.shape[0]): \n",
        "     for j in range(LAB_imgA115.shape[1]): \n",
        "                if 1769<i<1881 and 2019<j<2131 :\n",
        "                       (LAB_imgA115[i][j])"
      ],
      "execution_count": null,
      "outputs": []
    },
    {
      "cell_type": "code",
      "metadata": {
        "id": "IvUsedRj3bp5"
      },
      "source": [
        "for i in range(LAB_imgA115.shape[0]): \n",
        "     for j in range(LAB_imgA115.shape[1]): \n",
        "                if 1769<i<1881 and 2019<j<2131 :\n",
        "                       (LAB_imgA115[i][j])"
      ],
      "execution_count": null,
      "outputs": []
    },
    {
      "cell_type": "code",
      "metadata": {
        "id": "74HHzij83bsV"
      },
      "source": [
        "for i in range(LAB_imgA115.shape[0]): \n",
        "     for j in range(LAB_imgA115.shape[1]): \n",
        "                if 1769<i<1881 and 2019<j<2131 :\n",
        "                       (LAB_imgA115[i][j])"
      ],
      "execution_count": null,
      "outputs": []
    },
    {
      "cell_type": "code",
      "metadata": {
        "id": "GT0gue_p3bvX"
      },
      "source": [
        "for i in range(LAB_imgA115.shape[0]): \n",
        "     for j in range(LAB_imgA115.shape[1]): \n",
        "                if 1769<i<1881 and 2019<j<2131 :\n",
        "                       (LAB_imgA115[i][j])"
      ],
      "execution_count": null,
      "outputs": []
    },
    {
      "cell_type": "code",
      "metadata": {
        "id": "xfuvuoS83byf"
      },
      "source": [
        "for i in range(LAB_imgA115.shape[0]): \n",
        "     for j in range(LAB_imgA115.shape[1]): \n",
        "                if 1769<i<1881 and 2019<j<2131 :\n",
        "                       (LAB_imgA115[i][j])"
      ],
      "execution_count": null,
      "outputs": []
    },
    {
      "cell_type": "code",
      "metadata": {
        "id": "rWsmYmpb3b07"
      },
      "source": [
        "for i in range(LAB_imgA115.shape[0]): \n",
        "     for j in range(LAB_imgA115.shape[1]): \n",
        "                if 1769<i<1881 and 2019<j<2131 :\n",
        "                       (LAB_imgA115[i][j])"
      ],
      "execution_count": null,
      "outputs": []
    },
    {
      "cell_type": "code",
      "metadata": {
        "id": "sDTY73KY3b7y"
      },
      "source": [
        "for i in range(LAB_imgA115.shape[0]): \n",
        "     for j in range(LAB_imgA115.shape[1]): \n",
        "                if 1769<i<1881 and 2019<j<2131 :\n",
        "                       (LAB_imgA115[i][j])"
      ],
      "execution_count": null,
      "outputs": []
    },
    {
      "cell_type": "code",
      "metadata": {
        "id": "8lKzTv6e3b-U"
      },
      "source": [
        "for i in range(LAB_imgA115.shape[0]): \n",
        "     for j in range(LAB_imgA115.shape[1]): \n",
        "                if 1769<i<1881 and 2019<j<2131 :\n",
        "                       (LAB_imgA115[i][j])"
      ],
      "execution_count": null,
      "outputs": []
    },
    {
      "cell_type": "code",
      "metadata": {
        "id": "f0-D_Trq3cAK"
      },
      "source": [
        "for i in range(LAB_imgA115.shape[0]): \n",
        "     for j in range(LAB_imgA115.shape[1]): \n",
        "                if 1769<i<1881 and 2019<j<2131 :\n",
        "                       (LAB_imgA115[i][j])"
      ],
      "execution_count": null,
      "outputs": []
    },
    {
      "cell_type": "code",
      "metadata": {
        "id": "DJuUeheE3cC_"
      },
      "source": [
        "for i in range(LAB_imgA115.shape[0]): \n",
        "     for j in range(LAB_imgA115.shape[1]): \n",
        "                if 1769<i<1881 and 2019<j<2131 :\n",
        "                       (LAB_imgA115[i][j])"
      ],
      "execution_count": null,
      "outputs": []
    },
    {
      "cell_type": "code",
      "metadata": {
        "id": "AOEzp7dm3cFd"
      },
      "source": [
        "for i in range(LAB_imgA115.shape[0]): \n",
        "     for j in range(LAB_imgA115.shape[1]): \n",
        "                if 1769<i<1881 and 2019<j<2131 :\n",
        "                       (LAB_imgA115[i][j])"
      ],
      "execution_count": null,
      "outputs": []
    },
    {
      "cell_type": "code",
      "metadata": {
        "id": "HK_mqkLn3cIZ"
      },
      "source": [
        "for i in range(LAB_imgA115.shape[0]): \n",
        "     for j in range(LAB_imgA115.shape[1]): \n",
        "                if 1769<i<1881 and 2019<j<2131 :\n",
        "                       (LAB_imgA115[i][j])"
      ],
      "execution_count": null,
      "outputs": []
    },
    {
      "cell_type": "code",
      "metadata": {
        "id": "swv0f2CL3cK7"
      },
      "source": [
        "for i in range(LAB_imgA115.shape[0]): \n",
        "     for j in range(LAB_imgA115.shape[1]): \n",
        "                if 1769<i<1881 and 2019<j<2131 :\n",
        "                       (LAB_imgA115[i][j])"
      ],
      "execution_count": null,
      "outputs": []
    },
    {
      "cell_type": "code",
      "metadata": {
        "id": "xa8uRm0y3cNk"
      },
      "source": [
        "for i in range(LAB_imgA115.shape[0]): \n",
        "     for j in range(LAB_imgA115.shape[1]): \n",
        "                if 1769<i<1881 and 2019<j<2131 :\n",
        "                       (LAB_imgA115[i][j])"
      ],
      "execution_count": null,
      "outputs": []
    },
    {
      "cell_type": "code",
      "metadata": {
        "id": "EV3ABT0V3cQI"
      },
      "source": [
        "for i in range(LAB_imgA115.shape[0]): \n",
        "     for j in range(LAB_imgA115.shape[1]): \n",
        "                if 1769<i<1881 and 2019<j<2131 :\n",
        "                       (LAB_imgA115[i][j])"
      ],
      "execution_count": null,
      "outputs": []
    },
    {
      "cell_type": "code",
      "metadata": {
        "id": "f9T_PVVL3cSy"
      },
      "source": [
        "for i in range(LAB_imgA115.shape[0]): \n",
        "     for j in range(LAB_imgA115.shape[1]): \n",
        "                if 1769<i<1881 and 2019<j<2131 :\n",
        "                       (LAB_imgA115[i][j])"
      ],
      "execution_count": null,
      "outputs": []
    },
    {
      "cell_type": "code",
      "metadata": {
        "id": "ag6jTAKT3cVk"
      },
      "source": [
        "for i in range(LAB_imgA115.shape[0]): \n",
        "     for j in range(LAB_imgA115.shape[1]): \n",
        "                if 1769<i<1881 and 2019<j<2131 :\n",
        "                       (LAB_imgA115[i][j])"
      ],
      "execution_count": null,
      "outputs": []
    },
    {
      "cell_type": "code",
      "metadata": {
        "id": "-hnqA3qd3cYO"
      },
      "source": [
        "for i in range(LAB_imgA115.shape[0]): \n",
        "     for j in range(LAB_imgA115.shape[1]): \n",
        "                if 1769<i<1881 and 2019<j<2131 :\n",
        "                       (LAB_imgA115[i][j])"
      ],
      "execution_count": null,
      "outputs": []
    },
    {
      "cell_type": "code",
      "metadata": {
        "id": "ehI2UpMq3cbJ"
      },
      "source": [
        "for i in range(LAB_imgA115.shape[0]): \n",
        "     for j in range(LAB_imgA115.shape[1]): \n",
        "                if 1769<i<1881 and 2019<j<2131 :\n",
        "                       (LAB_imgA115[i][j])"
      ],
      "execution_count": null,
      "outputs": []
    },
    {
      "cell_type": "code",
      "metadata": {
        "id": "NsBwJWLw3cd_"
      },
      "source": [
        "for i in range(LAB_imgA115.shape[0]): \n",
        "     for j in range(LAB_imgA115.shape[1]): \n",
        "                if 1769<i<1881 and 2019<j<2131 :\n",
        "                       (LAB_imgA115[i][j])"
      ],
      "execution_count": null,
      "outputs": []
    },
    {
      "cell_type": "code",
      "metadata": {
        "id": "KNC7hiX73cg7"
      },
      "source": [
        "for i in range(LAB_imgA115.shape[0]): \n",
        "     for j in range(LAB_imgA115.shape[1]): \n",
        "                if 1769<i<1881 and 2019<j<2131 :\n",
        "                       (LAB_imgA115[i][j])"
      ],
      "execution_count": null,
      "outputs": []
    },
    {
      "cell_type": "code",
      "metadata": {
        "id": "H8PEr1fz3cj8"
      },
      "source": [
        "for i in range(LAB_imgA115.shape[0]): \n",
        "     for j in range(LAB_imgA115.shape[1]): \n",
        "                if 1769<i<1881 and 2019<j<2131 :\n",
        "                       (LAB_imgA115[i][j])"
      ],
      "execution_count": null,
      "outputs": []
    },
    {
      "cell_type": "code",
      "metadata": {
        "id": "Mp6mKluD3cnT"
      },
      "source": [
        "for i in range(LAB_imgA115.shape[0]): \n",
        "     for j in range(LAB_imgA115.shape[1]): \n",
        "                if 1769<i<1881 and 2019<j<2131 :\n",
        "                       (LAB_imgA115[i][j])"
      ],
      "execution_count": null,
      "outputs": []
    },
    {
      "cell_type": "code",
      "metadata": {
        "id": "CJmyW34q3csM"
      },
      "source": [
        "for i in range(LAB_imgA115.shape[0]): \n",
        "     for j in range(LAB_imgA115.shape[1]): \n",
        "                if 1769<i<1881 and 2019<j<2131 :\n",
        "                       (LAB_imgA115[i][j])"
      ],
      "execution_count": null,
      "outputs": []
    },
    {
      "cell_type": "code",
      "metadata": {
        "id": "jq7nBGVR3tFF"
      },
      "source": [
        "for i in range(LAB_imgA115.shape[0]): \n",
        "     for j in range(LAB_imgA115.shape[1]): \n",
        "                if 1769<i<1881 and 2019<j<2131 :\n",
        "                       (LAB_imgA115[i][j])"
      ],
      "execution_count": null,
      "outputs": []
    },
    {
      "cell_type": "code",
      "metadata": {
        "id": "TektrnXr3tH9"
      },
      "source": [
        "for i in range(LAB_imgA115.shape[0]): \n",
        "     for j in range(LAB_imgA115.shape[1]): \n",
        "                if 1769<i<1881 and 2019<j<2131 :\n",
        "                       (LAB_imgA115[i][j])"
      ],
      "execution_count": null,
      "outputs": []
    },
    {
      "cell_type": "code",
      "metadata": {
        "id": "gY46EcUG3tKi"
      },
      "source": [
        "for i in range(LAB_imgA115.shape[0]): \n",
        "     for j in range(LAB_imgA115.shape[1]): \n",
        "                if 1769<i<1881 and 2019<j<2131 :\n",
        "                       (LAB_imgA115[i][j])"
      ],
      "execution_count": null,
      "outputs": []
    },
    {
      "cell_type": "code",
      "metadata": {
        "id": "73iTDEG83tNG"
      },
      "source": [
        "for i in range(LAB_imgA115.shape[0]): \n",
        "     for j in range(LAB_imgA115.shape[1]): \n",
        "                if 1769<i<1881 and 2019<j<2131 :\n",
        "                       (LAB_imgA115[i][j])"
      ],
      "execution_count": null,
      "outputs": []
    },
    {
      "cell_type": "code",
      "metadata": {
        "id": "Kxbf5ixD3tQX"
      },
      "source": [
        "for i in range(LAB_imgA115.shape[0]): \n",
        "     for j in range(LAB_imgA115.shape[1]): \n",
        "                if 1769<i<1881 and 2019<j<2131 :\n",
        "                       (LAB_imgA115[i][j])"
      ],
      "execution_count": null,
      "outputs": []
    },
    {
      "cell_type": "code",
      "metadata": {
        "id": "g4h880V23tTC"
      },
      "source": [
        "for i in range(LAB_imgA115.shape[0]): \n",
        "     for j in range(LAB_imgA115.shape[1]): \n",
        "                if 1769<i<1881 and 2019<j<2131 :\n",
        "                       (LAB_imgA115[i][j])"
      ],
      "execution_count": null,
      "outputs": []
    },
    {
      "cell_type": "code",
      "metadata": {
        "id": "OEdGgnLn3tWO"
      },
      "source": [
        "for i in range(LAB_imgA115.shape[0]): \n",
        "     for j in range(LAB_imgA115.shape[1]): \n",
        "                if 1769<i<1881 and 2019<j<2131 :\n",
        "                       (LAB_imgA115[i][j])for i in range(LAB_imgA115.shape[0]): \n"
      ],
      "execution_count": null,
      "outputs": []
    },
    {
      "cell_type": "code",
      "metadata": {
        "id": "ZyAdryrz3tZO"
      },
      "source": [
        "for i in range(LAB_imgA115.shape[0]): \n",
        "     for j in range(LAB_imgA115.shape[1]): \n",
        "                if 1769<i<1881 and 2019<j<2131 :\n",
        "                       (LAB_imgA115[i][j])for i in range(LAB_imgA115.shape[0]): \n"
      ],
      "execution_count": null,
      "outputs": []
    },
    {
      "cell_type": "code",
      "metadata": {
        "id": "k5coqM_O3tb0"
      },
      "source": [
        "for i in range(LAB_imgA115.shape[0]): \n",
        "     for j in range(LAB_imgA115.shape[1]): \n",
        "                if 1769<i<1881 and 2019<j<2131 :\n",
        "                       (LAB_imgA115[i][j])for i in range(LAB_imgA115.shape[0]): \n"
      ],
      "execution_count": null,
      "outputs": []
    },
    {
      "cell_type": "code",
      "metadata": {
        "id": "RRUjFHbt3teS"
      },
      "source": [
        "for i in range(LAB_imgA115.shape[0]): \n",
        "     for j in range(LAB_imgA115.shape[1]): \n",
        "                if 1769<i<1881 and 2019<j<2131 :\n",
        "                       (LAB_imgA115[i][j])for i in range(LAB_imgA115.shape[0]): \n"
      ],
      "execution_count": null,
      "outputs": []
    },
    {
      "cell_type": "code",
      "metadata": {
        "id": "UnDthk1s3tg1"
      },
      "source": [
        "for i in range(LAB_imgA115.shape[0]): \n",
        "     for j in range(LAB_imgA115.shape[1]): \n",
        "                if 1769<i<1881 and 2019<j<2131 :\n",
        "                       (LAB_imgA115[i][j])for i in range(LAB_imgA115.shape[0]): \n"
      ],
      "execution_count": null,
      "outputs": []
    },
    {
      "cell_type": "code",
      "metadata": {
        "id": "HuUcNW0N3tlK"
      },
      "source": [
        "for i in range(LAB_imgA115.shape[0]): \n",
        "     for j in range(LAB_imgA115.shape[1]): \n",
        "                if 1769<i<1881 and 2019<j<2131 :\n",
        "                       (LAB_imgA115[i][j])for i in range(LAB_imgA115.shape[0]): \n"
      ],
      "execution_count": null,
      "outputs": []
    },
    {
      "cell_type": "code",
      "metadata": {
        "id": "7hKUugZV37VC"
      },
      "source": [
        "for i in range(LAB_imgA115.shape[0]): \n",
        "     for j in range(LAB_imgA115.shape[1]): \n",
        "                if 1769<i<1881 and 2019<j<2131 :\n",
        "                       (LAB_imgA115[i][j])for i in range(LAB_imgA115.shape[0]): \n"
      ],
      "execution_count": null,
      "outputs": []
    },
    {
      "cell_type": "code",
      "metadata": {
        "id": "gq30Qo5i37Xk"
      },
      "source": [
        "for i in range(LAB_imgA115.shape[0]): \n",
        "     for j in range(LAB_imgA115.shape[1]): \n",
        "                if 1769<i<1881 and 2019<j<2131 :\n",
        "                       (LAB_imgA115[i][j])for i in range(LAB_imgA115.shape[0]): \n"
      ],
      "execution_count": null,
      "outputs": []
    },
    {
      "cell_type": "code",
      "metadata": {
        "id": "mjj_163737aI"
      },
      "source": [
        "for i in range(LAB_imgA115.shape[0]): \n",
        "     for j in range(LAB_imgA115.shape[1]): \n",
        "                if 1769<i<1881 and 2019<j<2131 :\n",
        "                       (LAB_imgA115[i][j])for i in range(LAB_imgA115.shape[0]): \n"
      ],
      "execution_count": null,
      "outputs": []
    },
    {
      "cell_type": "code",
      "metadata": {
        "id": "mqEJdYSp37cr"
      },
      "source": [
        "for i in range(LAB_imgA115.shape[0]): \n",
        "     for j in range(LAB_imgA115.shape[1]): \n",
        "                if 1769<i<1881 and 2019<j<2131 :\n",
        "                       (LAB_imgA115[i][j])for i in range(LAB_imgA115.shape[0]): \n"
      ],
      "execution_count": null,
      "outputs": []
    },
    {
      "cell_type": "code",
      "metadata": {
        "id": "rG6ZH1dn37fF"
      },
      "source": [
        "for i in range(LAB_imgA115.shape[0]): \n",
        "     for j in range(LAB_imgA115.shape[1]): \n",
        "                if 1769<i<1881 and 2019<j<2131 :\n",
        "                       (LAB_imgA115[i][j])for i in range(LAB_imgA115.shape[0]): \n"
      ],
      "execution_count": null,
      "outputs": []
    }
  ]
}