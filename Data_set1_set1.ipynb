{
  "nbformat": 4,
  "nbformat_minor": 0,
  "metadata": {
    "colab": {
      "name": " Data_set1_set1.ipynb",
      "provenance": [],
      "include_colab_link": true
    },
    "kernelspec": {
      "name": "python3",
      "display_name": "Python 3"
    },
    "language_info": {
      "name": "python"
    }
  },
  "cells": [
    {
      "cell_type": "markdown",
      "metadata": {
        "id": "view-in-github",
        "colab_type": "text"
      },
      "source": [
        "<a href=\"https://colab.research.google.com/github/waraporn19/Project_2021_matchingcolor/blob/main/Data_set1_set1.ipynb\" target=\"_parent\"><img src=\"https://colab.research.google.com/assets/colab-badge.svg\" alt=\"Open In Colab\"/></a>"
      ]
    },
    {
      "cell_type": "code",
      "metadata": {
        "id": "QfJJWz3NE5EF"
      },
      "source": [
        "import pandas as pd"
      ],
      "execution_count": 1,
      "outputs": []
    },
    {
      "cell_type": "code",
      "metadata": {
        "id": "bbhDYuOZFkrI",
        "colab": {
          "base_uri": "https://localhost:8080/"
        },
        "outputId": "2186cded-c150-4c2c-cf21-c6f0adcb899d"
      },
      "source": [
        "from google.colab import drive \n",
        "drive.mount('/content/drive')"
      ],
      "execution_count": 2,
      "outputs": [
        {
          "output_type": "stream",
          "name": "stdout",
          "text": [
            "Mounted at /content/drive\n"
          ]
        }
      ]
    },
    {
      "cell_type": "code",
      "metadata": {
        "id": "gCZ9gB08FlpD"
      },
      "source": [
        "import os"
      ],
      "execution_count": 4,
      "outputs": []
    },
    {
      "cell_type": "code",
      "metadata": {
        "id": "bs4sCMIlFmtN"
      },
      "source": [
        "path = '/content/drive/My Drive/shadeimg'"
      ],
      "execution_count": 5,
      "outputs": []
    },
    {
      "cell_type": "code",
      "metadata": {
        "id": "QXJgJ1ZiFv2C",
        "colab": {
          "base_uri": "https://localhost:8080/"
        },
        "outputId": "db682ebf-779a-4f9b-cecb-ba4c7705bc2b"
      },
      "source": [
        "os.listdir(path)"
      ],
      "execution_count": 6,
      "outputs": [
        {
          "output_type": "execute_result",
          "data": {
            "text/plain": [
              "['รูปฟัน07',\n",
              " '9-10 7 2021',\n",
              " '11 7 2021',\n",
              " 'ฟันสักอย่างจำวันไม่ได้',\n",
              " '1 teeth .gsheet',\n",
              " '16 8 2021',\n",
              " '17 8 2021',\n",
              " '2 teeth.gsheet',\n",
              " '1 teeth .xlsx',\n",
              " '2 teeth .xlsx']"
            ]
          },
          "metadata": {},
          "execution_count": 6
        }
      ]
    },
    {
      "cell_type": "code",
      "metadata": {
        "id": "hIG_rvGQF-Lh",
        "colab": {
          "base_uri": "https://localhost:8080/"
        },
        "outputId": "9f19a6f3-3010-4a47-c6ee-1866ab1cade2"
      },
      "source": [
        "file_path = os.path.join(path,'1 teeth .xlsx')\n",
        "print(file_path)"
      ],
      "execution_count": 7,
      "outputs": [
        {
          "output_type": "stream",
          "name": "stdout",
          "text": [
            "/content/drive/My Drive/shadeimg/1 teeth .xlsx\n"
          ]
        }
      ]
    },
    {
      "cell_type": "code",
      "metadata": {
        "id": "WU-47FCzGAhX"
      },
      "source": [
        "table1 = pd.read_excel(file_path)"
      ],
      "execution_count": 8,
      "outputs": []
    },
    {
      "cell_type": "code",
      "metadata": {
        "id": "BQB5ZR4zFsSX",
        "colab": {
          "base_uri": "https://localhost:8080/"
        },
        "outputId": "089afda7-2e9e-4465-fd7e-c054d4bb50a1"
      },
      "source": [
        "!pip install azure-storage-blob==2.1.0"
      ],
      "execution_count": 9,
      "outputs": [
        {
          "output_type": "stream",
          "name": "stdout",
          "text": [
            "Collecting azure-storage-blob==2.1.0\n",
            "  Downloading azure_storage_blob-2.1.0-py2.py3-none-any.whl (88 kB)\n",
            "\u001b[K     |████████████████████████████████| 88 kB 3.0 MB/s \n",
            "\u001b[?25hCollecting azure-common>=1.1.5\n",
            "  Downloading azure_common-1.1.27-py2.py3-none-any.whl (12 kB)\n",
            "Collecting azure-storage-common~=2.1\n",
            "  Downloading azure_storage_common-2.1.0-py2.py3-none-any.whl (47 kB)\n",
            "\u001b[K     |████████████████████████████████| 47 kB 4.4 MB/s \n",
            "\u001b[?25hRequirement already satisfied: requests in /usr/local/lib/python3.7/dist-packages (from azure-storage-common~=2.1->azure-storage-blob==2.1.0) (2.23.0)\n",
            "Requirement already satisfied: python-dateutil in /usr/local/lib/python3.7/dist-packages (from azure-storage-common~=2.1->azure-storage-blob==2.1.0) (2.8.2)\n",
            "Collecting cryptography\n",
            "  Downloading cryptography-35.0.0-cp36-abi3-manylinux_2_24_x86_64.whl (3.5 MB)\n",
            "\u001b[K     |████████████████████████████████| 3.5 MB 43.2 MB/s \n",
            "\u001b[?25hRequirement already satisfied: cffi>=1.12 in /usr/local/lib/python3.7/dist-packages (from cryptography->azure-storage-common~=2.1->azure-storage-blob==2.1.0) (1.14.6)\n",
            "Requirement already satisfied: pycparser in /usr/local/lib/python3.7/dist-packages (from cffi>=1.12->cryptography->azure-storage-common~=2.1->azure-storage-blob==2.1.0) (2.20)\n",
            "Requirement already satisfied: six>=1.5 in /usr/local/lib/python3.7/dist-packages (from python-dateutil->azure-storage-common~=2.1->azure-storage-blob==2.1.0) (1.15.0)\n",
            "Requirement already satisfied: idna<3,>=2.5 in /usr/local/lib/python3.7/dist-packages (from requests->azure-storage-common~=2.1->azure-storage-blob==2.1.0) (2.10)\n",
            "Requirement already satisfied: urllib3!=1.25.0,!=1.25.1,<1.26,>=1.21.1 in /usr/local/lib/python3.7/dist-packages (from requests->azure-storage-common~=2.1->azure-storage-blob==2.1.0) (1.24.3)\n",
            "Requirement already satisfied: certifi>=2017.4.17 in /usr/local/lib/python3.7/dist-packages (from requests->azure-storage-common~=2.1->azure-storage-blob==2.1.0) (2021.5.30)\n",
            "Requirement already satisfied: chardet<4,>=3.0.2 in /usr/local/lib/python3.7/dist-packages (from requests->azure-storage-common~=2.1->azure-storage-blob==2.1.0) (3.0.4)\n",
            "Installing collected packages: cryptography, azure-common, azure-storage-common, azure-storage-blob\n",
            "Successfully installed azure-common-1.1.27 azure-storage-blob-2.1.0 azure-storage-common-2.1.0 cryptography-35.0.0\n"
          ]
        }
      ]
    },
    {
      "cell_type": "code",
      "metadata": {
        "id": "MmtL3ePjGKNA"
      },
      "source": [
        "from azure.storage.blob import BlockBlobService\n",
        "import os"
      ],
      "execution_count": 10,
      "outputs": []
    },
    {
      "cell_type": "code",
      "metadata": {
        "id": "cBYDeSzyGMrs"
      },
      "source": [
        "blob_service_client = BlockBlobService(account_name='dent01', account_key='CuShY0B4TZJ84TjzPpaHxyrHOpO73aGXeCpdVq7x26OjIlQ1HOz+3DVc9pDEj9BdcEL8odFuTRF0mOAE+aCgiw==')"
      ],
      "execution_count": 11,
      "outputs": []
    },
    {
      "cell_type": "markdown",
      "metadata": {
        "id": "29a1CpssMfaN"
      },
      "source": [
        "1. สร้างตัวแปรเฉดไกด์"
      ]
    },
    {
      "cell_type": "code",
      "metadata": {
        "id": "b7l_Shd1GOxX"
      },
      "source": [
        "A101=\n",
        "A103=\n",
        "A106=\n",
        "A109=\n",
        "A201=\n",
        "A203=\n",
        "A206=\n",
        "A209=\n",
        "A301=''\n",
        "A303=''\n",
        "A306=''\n",
        "A309=''\n",
        "A3_501=\n",
        "A3_503=\n",
        "A3_506=\n",
        "A3_509=\n",
        "A401=\n",
        "A403=\n",
        "A406=\n",
        "A409=\n",
        "B101=\n",
        "B103=\n",
        "B106=\n",
        "B109=\n",
        "B201=\n",
        "B203=\n",
        "B206=\n",
        "B209=\n",
        "B301=\n",
        "B303=\n",
        "B306=\n",
        "B309=\n",
        "B401=\n",
        "B403=\n",
        "B406=\n",
        "B409="
      ],
      "execution_count": 12,
      "outputs": []
    },
    {
      "cell_type": "code",
      "metadata": {
        "id": "udfq6Zm1KS7f"
      },
      "source": [
        "C101=\n",
        "C103=\n",
        "C106=\n",
        "C109=\n",
        "C201=\n",
        "C203=\n",
        "C206=\n",
        "C209=\n",
        "C301=\n",
        "C303=\n",
        "C306=\n",
        "C309=\n",
        "C401=\n",
        "C403=\n",
        "C406=\n",
        "C409=\n",
        "D201=\n",
        "D203=\n",
        "D206=\n",
        "D209=\n",
        "D301=\n",
        "D303=\n",
        "D306=\n",
        "D309=\n",
        "D401=\n",
        "D403=\n",
        "D406=\n",
        "D409="
      ],
      "execution_count": 13,
      "outputs": []
    },
    {
      "cell_type": "markdown",
      "metadata": {
        "id": "3TcJcECMMc3N"
      },
      "source": [
        "2. ดึงรูป"
      ]
    },
    {
      "cell_type": "code",
      "metadata": {
        "id": "pGjlDBEugz35"
      },
      "source": [
        "import cv2\n",
        "from matplotlib import pyplot as plt #การเรียกใช้คำสั่ง matplotlib เพื่อวาดกราฟ โดยแทนชื่อ matplotlib ด้วย plt\n",
        "import matplotlib"
      ],
      "execution_count": 14,
      "outputs": []
    },
    {
      "cell_type": "markdown",
      "metadata": {
        "id": "6Px-fbLqTNeM"
      },
      "source": [
        "A1"
      ]
    },
    {
      "cell_type": "code",
      "metadata": {
        "id": "dfvpEWdmMa6t",
        "colab": {
          "base_uri": "https://localhost:8080/"
        },
        "outputId": "92b39e97-91e8-463e-c66f-d9b66e3a81c7"
      },
      "source": [
        "full_path_to_file2 = os.path.join(A101) \n",
        "blob_service_client.get_blob_to_path('shadeimg', full_path_to_file2, full_path_to_file2)"
      ],
      "execution_count": 15,
      "outputs": [
        {
          "output_type": "execute_result",
          "data": {
            "text/plain": [
              "<azure.storage.blob.models.Blob at 0x7f153ea7bfd0>"
            ]
          },
          "metadata": {},
          "execution_count": 15
        }
      ]
    },
    {
      "cell_type": "code",
      "metadata": {
        "id": "K7dLDFbCMpvz",
        "outputId": "4e7b32b9-2bdd-4ba2-d20f-6f0d867350c6",
        "colab": {
          "base_uri": "https://localhost:8080/"
        }
      },
      "source": [
        "full_path_to_file2 = os.path.join(A103) \n",
        "blob_service_client.get_blob_to_path('shadeimg', full_path_to_file2, full_path_to_file2)"
      ],
      "execution_count": 16,
      "outputs": [
        {
          "output_type": "execute_result",
          "data": {
            "text/plain": [
              "<azure.storage.blob.models.Blob at 0x7f153ea7b090>"
            ]
          },
          "metadata": {},
          "execution_count": 16
        }
      ]
    },
    {
      "cell_type": "code",
      "metadata": {
        "id": "ossmoCKeMqXd",
        "outputId": "1cbafca2-a3fd-4fa0-ff17-7572894e40fb",
        "colab": {
          "base_uri": "https://localhost:8080/"
        }
      },
      "source": [
        "full_path_to_file2 = os.path.join(A106) \n",
        "blob_service_client.get_blob_to_path('shadeimg', full_path_to_file2, full_path_to_file2)"
      ],
      "execution_count": 17,
      "outputs": [
        {
          "output_type": "execute_result",
          "data": {
            "text/plain": [
              "<azure.storage.blob.models.Blob at 0x7f153e624e90>"
            ]
          },
          "metadata": {},
          "execution_count": 17
        }
      ]
    },
    {
      "cell_type": "code",
      "metadata": {
        "id": "LWPDqUeuMqr2",
        "outputId": "56080748-137f-41bb-9d83-1941670b2b74",
        "colab": {
          "base_uri": "https://localhost:8080/"
        }
      },
      "source": [
        "full_path_to_file2 = os.path.join(A109) \n",
        "blob_service_client.get_blob_to_path('shadeimg', full_path_to_file2, full_path_to_file2)"
      ],
      "execution_count": 18,
      "outputs": [
        {
          "output_type": "execute_result",
          "data": {
            "text/plain": [
              "<azure.storage.blob.models.Blob at 0x7f153e624950>"
            ]
          },
          "metadata": {},
          "execution_count": 18
        }
      ]
    },
    {
      "cell_type": "markdown",
      "metadata": {
        "id": "1jOU35FHTRGo"
      },
      "source": [
        "A2"
      ]
    },
    {
      "cell_type": "code",
      "metadata": {
        "id": "PyTA7XkHMq9w",
        "outputId": "1b3a1d02-8f39-49a5-f728-93c8677aaebc",
        "colab": {
          "base_uri": "https://localhost:8080/"
        }
      },
      "source": [
        "full_path_to_file2 = os.path.join(A201) \n",
        "blob_service_client.get_blob_to_path('shadeimg', full_path_to_file2, full_path_to_file2)"
      ],
      "execution_count": 20,
      "outputs": [
        {
          "output_type": "execute_result",
          "data": {
            "text/plain": [
              "<azure.storage.blob.models.Blob at 0x7f153e5bbfd0>"
            ]
          },
          "metadata": {},
          "execution_count": 20
        }
      ]
    },
    {
      "cell_type": "code",
      "metadata": {
        "id": "0Wsi63jYMrNy",
        "outputId": "5726b20f-128b-4f33-8e98-b89e48a141ab",
        "colab": {
          "base_uri": "https://localhost:8080/"
        }
      },
      "source": [
        "full_path_to_file2 = os.path.join(A203) \n",
        "blob_service_client.get_blob_to_path('shadeimg', full_path_to_file2, full_path_to_file2)"
      ],
      "execution_count": 19,
      "outputs": [
        {
          "output_type": "execute_result",
          "data": {
            "text/plain": [
              "<azure.storage.blob.models.Blob at 0x7f153e6294d0>"
            ]
          },
          "metadata": {},
          "execution_count": 19
        }
      ]
    },
    {
      "cell_type": "code",
      "metadata": {
        "id": "sRO02lHCMyU8",
        "outputId": "85e44d5f-934d-4f9a-a318-e279763f1173",
        "colab": {
          "base_uri": "https://localhost:8080/"
        }
      },
      "source": [
        "full_path_to_file2 = os.path.join(A206) \n",
        "blob_service_client.get_blob_to_path('shadeimg', full_path_to_file2, full_path_to_file2)"
      ],
      "execution_count": 21,
      "outputs": [
        {
          "output_type": "execute_result",
          "data": {
            "text/plain": [
              "<azure.storage.blob.models.Blob at 0x7f153ea7ebd0>"
            ]
          },
          "metadata": {},
          "execution_count": 21
        }
      ]
    },
    {
      "cell_type": "code",
      "metadata": {
        "id": "5Ag__xJLMy0n",
        "outputId": "cfd0f408-f5af-4933-cf63-e99de4a36a1b",
        "colab": {
          "base_uri": "https://localhost:8080/"
        }
      },
      "source": [
        "full_path_to_file2 = os.path.join(A209) \n",
        "blob_service_client.get_blob_to_path('shadeimg', full_path_to_file2, full_path_to_file2)"
      ],
      "execution_count": 22,
      "outputs": [
        {
          "output_type": "execute_result",
          "data": {
            "text/plain": [
              "<azure.storage.blob.models.Blob at 0x7f153e624f10>"
            ]
          },
          "metadata": {},
          "execution_count": 22
        }
      ]
    },
    {
      "cell_type": "markdown",
      "metadata": {
        "id": "k5adMv80TU68"
      },
      "source": [
        "A3"
      ]
    },
    {
      "cell_type": "code",
      "metadata": {
        "id": "hXvuZHdVMzGJ",
        "outputId": "7e7524f8-4077-4285-ed79-69785c6115ba",
        "colab": {
          "base_uri": "https://localhost:8080/",
          "height": 180
        }
      },
      "source": [
        "full_path_to_file2 = os.path.join(A301) \n",
        "blob_service_client.get_blob_to_path('shadeimg', full_path_to_file2, full_path_to_file2)"
      ],
      "execution_count": 23,
      "outputs": [
        {
          "output_type": "error",
          "ename": "NameError",
          "evalue": "ignored",
          "traceback": [
            "\u001b[0;31m---------------------------------------------------------------------------\u001b[0m",
            "\u001b[0;31mNameError\u001b[0m                                 Traceback (most recent call last)",
            "\u001b[0;32m<ipython-input-23-a175f9aed9b4>\u001b[0m in \u001b[0;36m<module>\u001b[0;34m()\u001b[0m\n\u001b[0;32m----> 1\u001b[0;31m \u001b[0mfull_path_to_file2\u001b[0m \u001b[0;34m=\u001b[0m \u001b[0mos\u001b[0m\u001b[0;34m.\u001b[0m\u001b[0mpath\u001b[0m\u001b[0;34m.\u001b[0m\u001b[0mjoin\u001b[0m\u001b[0;34m(\u001b[0m\u001b[0mA301\u001b[0m\u001b[0;34m)\u001b[0m\u001b[0;34m\u001b[0m\u001b[0;34m\u001b[0m\u001b[0m\n\u001b[0m\u001b[1;32m      2\u001b[0m \u001b[0mblob_service_client\u001b[0m\u001b[0;34m.\u001b[0m\u001b[0mget_blob_to_path\u001b[0m\u001b[0;34m(\u001b[0m\u001b[0;34m'shadeimg'\u001b[0m\u001b[0;34m,\u001b[0m \u001b[0mfull_path_to_file2\u001b[0m\u001b[0;34m,\u001b[0m \u001b[0mfull_path_to_file2\u001b[0m\u001b[0;34m)\u001b[0m\u001b[0;34m\u001b[0m\u001b[0;34m\u001b[0m\u001b[0m\n",
            "\u001b[0;31mNameError\u001b[0m: name 'A301' is not defined"
          ]
        }
      ]
    },
    {
      "cell_type": "code",
      "metadata": {
        "id": "dl02h6qKfkIE"
      },
      "source": [
        "full_path_to_file2 = os.path.join(A303) \n",
        "blob_service_client.get_blob_to_path('shadeimg', full_path_to_file2, full_path_to_file2)"
      ],
      "execution_count": null,
      "outputs": []
    },
    {
      "cell_type": "code",
      "metadata": {
        "id": "19BpEgqgfkQK"
      },
      "source": [
        "full_path_to_file2 = os.path.join(A306) \n",
        "blob_service_client.get_blob_to_path('shadeimg', full_path_to_file2, full_path_to_file2)"
      ],
      "execution_count": null,
      "outputs": []
    },
    {
      "cell_type": "code",
      "metadata": {
        "id": "3RyrT4uKflCr"
      },
      "source": [
        "full_path_to_file2 = os.path.join(A309) \n",
        "blob_service_client.get_blob_to_path('shadeimg', full_path_to_file2, full_path_to_file2)"
      ],
      "execution_count": null,
      "outputs": []
    },
    {
      "cell_type": "code",
      "metadata": {
        "id": "hOTC4WLe6T1K"
      },
      "source": [
        "full_path_to_file2 = os.path.join(A3_501) \n",
        "blob_service_client.get_blob_to_path('shadeimg', full_path_to_file2, full_path_to_file2)"
      ],
      "execution_count": null,
      "outputs": []
    },
    {
      "cell_type": "code",
      "metadata": {
        "id": "ligFptdG6UDQ"
      },
      "source": [
        "full_path_to_file2 = os.path.join(A3_501) \n",
        "blob_service_client.get_blob_to_path('shadeimg', full_path_to_file2, full_path_to_file2)"
      ],
      "execution_count": null,
      "outputs": []
    },
    {
      "cell_type": "code",
      "metadata": {
        "id": "J9QQ_Par6UQY"
      },
      "source": [
        "full_path_to_file2 = os.path.join(A3_503) \n",
        "blob_service_client.get_blob_to_path('shadeimg', full_path_to_file2, full_path_to_file2)"
      ],
      "execution_count": null,
      "outputs": []
    },
    {
      "cell_type": "code",
      "metadata": {
        "id": "7Fu_17fu6UcW"
      },
      "source": [
        "full_path_to_file2 = os.path.join(A3_506) \n",
        "blob_service_client.get_blob_to_path('shadeimg', full_path_to_file2, full_path_to_file2)"
      ],
      "execution_count": null,
      "outputs": []
    },
    {
      "cell_type": "code",
      "metadata": {
        "id": "Afak29x56zxC"
      },
      "source": [
        "full_path_to_file2 = os.path.join(A3_509) \n",
        "blob_service_client.get_blob_to_path('shadeimg', full_path_to_file2, full_path_to_file2)"
      ],
      "execution_count": null,
      "outputs": []
    },
    {
      "cell_type": "code",
      "metadata": {
        "id": "tNBaXgTLMzW1"
      },
      "source": [
        "full_path_to_file2 = os.path.join(A401) \n",
        "blob_service_client.get_blob_to_path('shadeimg', full_path_to_file2, full_path_to_file2)"
      ],
      "execution_count": null,
      "outputs": []
    },
    {
      "cell_type": "code",
      "metadata": {
        "id": "guP0y28iMzlX"
      },
      "source": [
        "full_path_to_file2 = os.path.join(A403) \n",
        "blob_service_client.get_blob_to_path('shadeimg', full_path_to_file2, full_path_to_file2)"
      ],
      "execution_count": null,
      "outputs": []
    },
    {
      "cell_type": "code",
      "metadata": {
        "id": "_tNHaAmmMz4P"
      },
      "source": [
        "full_path_to_file2 = os.path.join(A406) \n",
        "blob_service_client.get_blob_to_path('shadeimg', full_path_to_file2, full_path_to_file2)"
      ],
      "execution_count": null,
      "outputs": []
    },
    {
      "cell_type": "code",
      "metadata": {
        "id": "sTyFzeTgM1Kn"
      },
      "source": [
        "full_path_to_file2 = os.path.join(A409) \n",
        "blob_service_client.get_blob_to_path('shadeimg', full_path_to_file2, full_path_to_file2)"
      ],
      "execution_count": null,
      "outputs": []
    },
    {
      "cell_type": "code",
      "metadata": {
        "id": "GfOwcLmUM1cV"
      },
      "source": [
        "full_path_to_file2 = os.path.join(B101) \n",
        "blob_service_client.get_blob_to_path('shadeimg', full_path_to_file2, full_path_to_file2)"
      ],
      "execution_count": null,
      "outputs": []
    },
    {
      "cell_type": "code",
      "metadata": {
        "id": "McP4ADOjM1sG"
      },
      "source": [
        "full_path_to_file2 = os.path.join(B103) \n",
        "blob_service_client.get_blob_to_path('shadeimg', full_path_to_file2, full_path_to_file2)"
      ],
      "execution_count": null,
      "outputs": []
    },
    {
      "cell_type": "code",
      "metadata": {
        "id": "U9Vqt91zM1_7"
      },
      "source": [
        "full_path_to_file2 = os.path.join(B106) \n",
        "blob_service_client.get_blob_to_path('shadeimg', full_path_to_file2, full_path_to_file2)"
      ],
      "execution_count": null,
      "outputs": []
    },
    {
      "cell_type": "code",
      "metadata": {
        "id": "p__p689dM2Y4"
      },
      "source": [
        "full_path_to_file2 = os.path.join(B109) \n",
        "blob_service_client.get_blob_to_path('shadeimg', full_path_to_file2, full_path_to_file2)"
      ],
      "execution_count": null,
      "outputs": []
    },
    {
      "cell_type": "code",
      "metadata": {
        "id": "GxnzlcImM2zK"
      },
      "source": [
        "full_path_to_file2 = os.path.join(B201) \n",
        "blob_service_client.get_blob_to_path('shadeimg', full_path_to_file2, full_path_to_file2)"
      ],
      "execution_count": null,
      "outputs": []
    },
    {
      "cell_type": "code",
      "metadata": {
        "id": "Cb0iSM1LM3Fh"
      },
      "source": [
        "full_path_to_file2 = os.path.join(B203) \n",
        "blob_service_client.get_blob_to_path('shadeimg', full_path_to_file2, full_path_to_file2)"
      ],
      "execution_count": null,
      "outputs": []
    },
    {
      "cell_type": "code",
      "metadata": {
        "id": "lw_8lwTjM3Ym"
      },
      "source": [
        "full_path_to_file2 = os.path.join(B206) \n",
        "blob_service_client.get_blob_to_path('shadeimg', full_path_to_file2, full_path_to_file2)"
      ],
      "execution_count": null,
      "outputs": []
    },
    {
      "cell_type": "code",
      "metadata": {
        "id": "i-BmBijof5x1"
      },
      "source": [
        "full_path_to_file2 = os.path.join(B209) \n",
        "blob_service_client.get_blob_to_path('shadeimg', full_path_to_file2, full_path_to_file2)"
      ],
      "execution_count": null,
      "outputs": []
    },
    {
      "cell_type": "code",
      "metadata": {
        "id": "TE6rC95XM3p1"
      },
      "source": [
        "full_path_to_file2 = os.path.join(B301) \n",
        "blob_service_client.get_blob_to_path('shadeimg', full_path_to_file2, full_path_to_file2)"
      ],
      "execution_count": null,
      "outputs": []
    },
    {
      "cell_type": "code",
      "metadata": {
        "id": "LckPT4ofM35k"
      },
      "source": [
        "full_path_to_file2 = os.path.join(B303) \n",
        "blob_service_client.get_blob_to_path('shadeimg', full_path_to_file2, full_path_to_file2)"
      ],
      "execution_count": null,
      "outputs": []
    },
    {
      "cell_type": "code",
      "metadata": {
        "id": "I_0IZTEkM4Rk"
      },
      "source": [
        "full_path_to_file2 = os.path.join(B306) \n",
        "blob_service_client.get_blob_to_path('shadeimg', full_path_to_file2, full_path_to_file2)"
      ],
      "execution_count": null,
      "outputs": []
    },
    {
      "cell_type": "code",
      "metadata": {
        "id": "m6mrMVIfM4f6"
      },
      "source": [
        "full_path_to_file2 = os.path.join(B309) \n",
        "blob_service_client.get_blob_to_path('shadeimg', full_path_to_file2, full_path_to_file2)"
      ],
      "execution_count": null,
      "outputs": []
    },
    {
      "cell_type": "code",
      "metadata": {
        "id": "sS3PN1dVM4v7"
      },
      "source": [
        "full_path_to_file2 = os.path.join(B401) \n",
        "blob_service_client.get_blob_to_path('shadeimg', full_path_to_file2, full_path_to_file2)"
      ],
      "execution_count": null,
      "outputs": []
    },
    {
      "cell_type": "code",
      "metadata": {
        "id": "0Q_wZqWXM5Ak"
      },
      "source": [
        "full_path_to_file2 = os.path.join(B403) \n",
        "blob_service_client.get_blob_to_path('shadeimg', full_path_to_file2, full_path_to_file2)"
      ],
      "execution_count": null,
      "outputs": []
    },
    {
      "cell_type": "code",
      "metadata": {
        "id": "9TsD8BWYM5PC"
      },
      "source": [
        "full_path_to_file2 = os.path.join(B406) \n",
        "blob_service_client.get_blob_to_path('shadeimg', full_path_to_file2, full_path_to_file2)"
      ],
      "execution_count": null,
      "outputs": []
    },
    {
      "cell_type": "code",
      "metadata": {
        "id": "lkbjr25aM5l2"
      },
      "source": [
        "full_path_to_file2 = os.path.join(B409) \n",
        "blob_service_client.get_blob_to_path('shadeimg', full_path_to_file2, full_path_to_file2)"
      ],
      "execution_count": null,
      "outputs": []
    },
    {
      "cell_type": "code",
      "metadata": {
        "id": "pKlOz4Y9M5zI"
      },
      "source": [
        "full_path_to_file2 = os.path.join(C101) \n",
        "blob_service_client.get_blob_to_path('shadeimg', full_path_to_file2, full_path_to_file2)"
      ],
      "execution_count": null,
      "outputs": []
    },
    {
      "cell_type": "code",
      "metadata": {
        "id": "FBXvBSTRM6Ff"
      },
      "source": [
        "full_path_to_file2 = os.path.join(C103) \n",
        "blob_service_client.get_blob_to_path('shadeimg', full_path_to_file2, full_path_to_file2)"
      ],
      "execution_count": null,
      "outputs": []
    },
    {
      "cell_type": "code",
      "metadata": {
        "id": "tOjiOM5WM6VJ"
      },
      "source": [
        "full_path_to_file2 = os.path.join(C106) \n",
        "blob_service_client.get_blob_to_path('shadeimg', full_path_to_file2, full_path_to_file2)"
      ],
      "execution_count": null,
      "outputs": []
    },
    {
      "cell_type": "code",
      "metadata": {
        "id": "sB4eY_m8M6zX"
      },
      "source": [
        "full_path_to_file2 = os.path.join(C109) \n",
        "blob_service_client.get_blob_to_path('shadeimg', full_path_to_file2, full_path_to_file2)"
      ],
      "execution_count": null,
      "outputs": []
    },
    {
      "cell_type": "code",
      "metadata": {
        "id": "CrE9IrOKM6_x"
      },
      "source": [
        "full_path_to_file2 = os.path.join(C201) \n",
        "blob_service_client.get_blob_to_path('shadeimg', full_path_to_file2, full_path_to_file2)"
      ],
      "execution_count": null,
      "outputs": []
    },
    {
      "cell_type": "code",
      "metadata": {
        "id": "VI-jWhY7M7Nn"
      },
      "source": [
        "full_path_to_file2 = os.path.join(C203) \n",
        "blob_service_client.get_blob_to_path('shadeimg', full_path_to_file2, full_path_to_file2)"
      ],
      "execution_count": null,
      "outputs": []
    },
    {
      "cell_type": "code",
      "metadata": {
        "id": "u1-1VQHsM7gc"
      },
      "source": [
        "full_path_to_file2 = os.path.join(C206) \n",
        "blob_service_client.get_blob_to_path('shadeimg', full_path_to_file2, full_path_to_file2)"
      ],
      "execution_count": null,
      "outputs": []
    },
    {
      "cell_type": "code",
      "metadata": {
        "id": "sYU6Ee-_M7vh"
      },
      "source": [
        "full_path_to_file2 = os.path.join(C209) \n",
        "blob_service_client.get_blob_to_path('shadeimg', full_path_to_file2, full_path_to_file2)"
      ],
      "execution_count": null,
      "outputs": []
    },
    {
      "cell_type": "code",
      "metadata": {
        "id": "ozshiopsM8KV"
      },
      "source": [
        "full_path_to_file2 = os.path.join(C301) \n",
        "blob_service_client.get_blob_to_path('shadeimg', full_path_to_file2, full_path_to_file2)"
      ],
      "execution_count": null,
      "outputs": []
    },
    {
      "cell_type": "code",
      "metadata": {
        "id": "d1NH8nHMM8aw"
      },
      "source": [
        "full_path_to_file2 = os.path.join(C303) \n",
        "blob_service_client.get_blob_to_path('shadeimg', full_path_to_file2, full_path_to_file2)"
      ],
      "execution_count": null,
      "outputs": []
    },
    {
      "cell_type": "code",
      "metadata": {
        "id": "VpSFswEtM8q1"
      },
      "source": [
        "full_path_to_file2 = os.path.join(C306) \n",
        "blob_service_client.get_blob_to_path('shadeimg', full_path_to_file2, full_path_to_file2)"
      ],
      "execution_count": null,
      "outputs": []
    },
    {
      "cell_type": "code",
      "metadata": {
        "id": "WvwLHiKSM84s"
      },
      "source": [
        "full_path_to_file2 = os.path.join(C309) \n",
        "blob_service_client.get_blob_to_path('shadeimg', full_path_to_file2, full_path_to_file2)"
      ],
      "execution_count": null,
      "outputs": []
    },
    {
      "cell_type": "code",
      "metadata": {
        "id": "XS24LMqdM9Jz"
      },
      "source": [
        "full_path_to_file2 = os.path.join(C401) \n",
        "blob_service_client.get_blob_to_path('shadeimg', full_path_to_file2, full_path_to_file2)"
      ],
      "execution_count": null,
      "outputs": []
    },
    {
      "cell_type": "code",
      "metadata": {
        "id": "zGEn6v4MM9n7"
      },
      "source": [
        "full_path_to_file2 = os.path.join(C403) \n",
        "blob_service_client.get_blob_to_path('shadeimg', full_path_to_file2, full_path_to_file2)"
      ],
      "execution_count": null,
      "outputs": []
    },
    {
      "cell_type": "code",
      "metadata": {
        "id": "ZYWoqG-PM91q"
      },
      "source": [
        "full_path_to_file2 = os.path.join(C406) \n",
        "blob_service_client.get_blob_to_path('shadeimg', full_path_to_file2, full_path_to_file2)"
      ],
      "execution_count": null,
      "outputs": []
    },
    {
      "cell_type": "code",
      "metadata": {
        "id": "ZaCIgZwuM-F6"
      },
      "source": [
        "full_path_to_file2 = os.path.join(C409) \n",
        "blob_service_client.get_blob_to_path('shadeimg', full_path_to_file2, full_path_to_file2)"
      ],
      "execution_count": null,
      "outputs": []
    },
    {
      "cell_type": "code",
      "metadata": {
        "id": "pYM6gQadM-WB"
      },
      "source": [
        "full_path_to_file2 = os.path.join(D101) \n",
        "blob_service_client.get_blob_to_path('shadeimg', full_path_to_file2, full_path_to_file2)"
      ],
      "execution_count": null,
      "outputs": []
    },
    {
      "cell_type": "code",
      "metadata": {
        "id": "ZT2WI6_SM-l1"
      },
      "source": [
        "full_path_to_file2 = os.path.join(D103) \n",
        "blob_service_client.get_blob_to_path('shadeimg', full_path_to_file2, full_path_to_file2)"
      ],
      "execution_count": null,
      "outputs": []
    },
    {
      "cell_type": "code",
      "metadata": {
        "id": "EEeOjowDM-9y"
      },
      "source": [
        "full_path_to_file2 = os.path.join(D106) \n",
        "blob_service_client.get_blob_to_path('shadeimg', full_path_to_file2, full_path_to_file2)"
      ],
      "execution_count": null,
      "outputs": []
    },
    {
      "cell_type": "code",
      "metadata": {
        "id": "xewKWFZOM_Lf"
      },
      "source": [
        "full_path_to_file2 = os.path.join(D109) \n",
        "blob_service_client.get_blob_to_path('shadeimg', full_path_to_file2, full_path_to_file2)"
      ],
      "execution_count": null,
      "outputs": []
    },
    {
      "cell_type": "code",
      "metadata": {
        "id": "g678A78gM_Zs"
      },
      "source": [
        "full_path_to_file2 = os.path.join(D201) \n",
        "blob_service_client.get_blob_to_path('shadeimg', full_path_to_file2, full_path_to_file2)"
      ],
      "execution_count": null,
      "outputs": []
    },
    {
      "cell_type": "code",
      "metadata": {
        "id": "-VduLUrmM_rU"
      },
      "source": [
        "full_path_to_file2 = os.path.join(D203) \n",
        "blob_service_client.get_blob_to_path('shadeimg', full_path_to_file2, full_path_to_file2)"
      ],
      "execution_count": null,
      "outputs": []
    },
    {
      "cell_type": "code",
      "metadata": {
        "id": "OrsILvN3NANL"
      },
      "source": [
        "full_path_to_file2 = os.path.join(D206) \n",
        "blob_service_client.get_blob_to_path('shadeimg', full_path_to_file2, full_path_to_file2)"
      ],
      "execution_count": null,
      "outputs": []
    },
    {
      "cell_type": "code",
      "metadata": {
        "id": "xObkE1AjM_4Y"
      },
      "source": [
        "full_path_to_file2 = os.path.join(D209) \n",
        "blob_service_client.get_blob_to_path('shadeimg', full_path_to_file2, full_path_to_file2)"
      ],
      "execution_count": null,
      "outputs": []
    },
    {
      "cell_type": "code",
      "metadata": {
        "id": "qr-0vlHKelKD"
      },
      "source": [
        "full_path_to_file2 = os.path.join(D301) \n",
        "blob_service_client.get_blob_to_path('shadeimg', full_path_to_file2, full_path_to_file2)"
      ],
      "execution_count": null,
      "outputs": []
    },
    {
      "cell_type": "code",
      "metadata": {
        "id": "FUDIdSfYNAaN"
      },
      "source": [
        "full_path_to_file2 = os.path.join(D303) \n",
        "blob_service_client.get_blob_to_path('shadeimg', full_path_to_file2, full_path_to_file2)"
      ],
      "execution_count": null,
      "outputs": []
    },
    {
      "cell_type": "code",
      "metadata": {
        "id": "raReD8PoNAps"
      },
      "source": [
        "full_path_to_file2 = os.path.join(D306) \n",
        "blob_service_client.get_blob_to_path('shadeimg', full_path_to_file2, full_path_to_file2)"
      ],
      "execution_count": null,
      "outputs": []
    },
    {
      "cell_type": "code",
      "metadata": {
        "id": "DMIe2HlbNA-P"
      },
      "source": [
        "full_path_to_file2 = os.path.join(D309) \n",
        "blob_service_client.get_blob_to_path('shadeimg', full_path_to_file2, full_path_to_file2)"
      ],
      "execution_count": null,
      "outputs": []
    },
    {
      "cell_type": "code",
      "metadata": {
        "id": "t4rYO8AINBX4"
      },
      "source": [
        "full_path_to_file2 = os.path.join(D401) \n",
        "blob_service_client.get_blob_to_path('shadeimg', full_path_to_file2, full_path_to_file2)"
      ],
      "execution_count": null,
      "outputs": []
    },
    {
      "cell_type": "code",
      "metadata": {
        "id": "o9G8c3AvNBzL"
      },
      "source": [
        "full_path_to_file2 = os.path.join(D403) \n",
        "blob_service_client.get_blob_to_path('shadeimg', full_path_to_file2, full_path_to_file2)"
      ],
      "execution_count": null,
      "outputs": []
    },
    {
      "cell_type": "code",
      "metadata": {
        "id": "BD80SXlvNCC9"
      },
      "source": [
        "full_path_to_file2 = os.path.join(D406) \n",
        "blob_service_client.get_blob_to_path('shadeimg', full_path_to_file2, full_path_to_file2)"
      ],
      "execution_count": null,
      "outputs": []
    },
    {
      "cell_type": "code",
      "metadata": {
        "id": "VsPfNZTTNCUr"
      },
      "source": [
        "full_path_to_file2 = os.path.join(D409) \n",
        "blob_service_client.get_blob_to_path('shadeimg', full_path_to_file2, full_path_to_file2)"
      ],
      "execution_count": null,
      "outputs": []
    },
    {
      "cell_type": "markdown",
      "metadata": {
        "id": "RUUX8egNggnT"
      },
      "source": [
        "#ดึงรูป"
      ]
    },
    {
      "cell_type": "code",
      "metadata": {
        "id": "GGgqz1smgnDH"
      },
      "source": [
        "imgA1  = cv2.imread(A101)\n",
        "RGB_imgA1= cv2.cvtColor(imgA1, cv2.COLOR_BGR2RGB)\n"
      ],
      "execution_count": null,
      "outputs": []
    },
    {
      "cell_type": "code",
      "metadata": {
        "id": "gND0tdPIgnIk"
      },
      "source": [
        "imgA103 = cv2.imread(A103)\n",
        "RGB_imgA103= cv2.cvtColor(imgA103, cv2.COLOR_BGR2RGB)"
      ],
      "execution_count": null,
      "outputs": []
    },
    {
      "cell_type": "code",
      "metadata": {
        "id": "-7iJUiUehGQ9"
      },
      "source": [
        "imgA106  = cv2.imread(A106)\n",
        "RGB_imgA106= cv2.cvtColor(imgA106, cv2.COLOR_BGR2RGB)"
      ],
      "execution_count": null,
      "outputs": []
    },
    {
      "cell_type": "code",
      "metadata": {
        "id": "6dQDWmLBhHM2"
      },
      "source": [
        "imgA109 = cv2.imread(A109)\n",
        "RGB_imgA109= cv2.cvtColor(imgA109, cv2.COLOR_BGR2RGB)"
      ],
      "execution_count": null,
      "outputs": []
    },
    {
      "cell_type": "code",
      "metadata": {
        "id": "RshouISKhJbi"
      },
      "source": [
        "imgA201 = cv2.imread(A201)\n",
        "RGB_imgA201= cv2.cvtColor(imgA201, cv2.COLOR_BGR2RGB)"
      ],
      "execution_count": null,
      "outputs": []
    },
    {
      "cell_type": "code",
      "metadata": {
        "id": "Pv4umYUxhKEo"
      },
      "source": [
        "imgA203  = cv2.imread(A203)\n",
        "RGB_imgA203= cv2.cvtColor(imgA203, cv2.COLOR_BGR2RGB)"
      ],
      "execution_count": null,
      "outputs": []
    },
    {
      "cell_type": "code",
      "metadata": {
        "id": "1vjk15J4hLCH"
      },
      "source": [
        "imgA206 = cv2.imread(A206)\n",
        "RGB_imgA206= cv2.cvtColor(imgA206, cv2.COLOR_BGR2RGB)"
      ],
      "execution_count": null,
      "outputs": []
    },
    {
      "cell_type": "code",
      "metadata": {
        "id": "Vex87ZcYhMTQ"
      },
      "source": [
        "imgA209  = cv2.imread(A206)\n",
        "RGB_imgA206= cv2.cvtColor(imgA206, cv2.COLOR_BGR2RGB)"
      ],
      "execution_count": null,
      "outputs": []
    },
    {
      "cell_type": "code",
      "metadata": {
        "id": "MHG6k4lyhNAd"
      },
      "source": [
        "imgA301  = cv2.imread(A301)\n",
        "RGB_imgA301= cv2.cvtColor(imgA301, cv2.COLOR_BGR2RGB)"
      ],
      "execution_count": null,
      "outputs": []
    },
    {
      "cell_type": "code",
      "metadata": {
        "id": "wjEc2Mj1hNvq"
      },
      "source": [
        "imgA303  = cv2.imread(A303)\n",
        "RGB_imgA303= cv2.cvtColor(imgA303, cv2.COLOR_BGR2RGB)"
      ],
      "execution_count": null,
      "outputs": []
    },
    {
      "cell_type": "code",
      "metadata": {
        "id": "xQYwgnw7hOnN"
      },
      "source": [
        "imgA306 = cv2.imread(A306)\n",
        "RGB_imgA306= cv2.cvtColor(imgA306, cv2.COLOR_BGR2RGB)"
      ],
      "execution_count": null,
      "outputs": []
    },
    {
      "cell_type": "code",
      "metadata": {
        "id": "4SxQo-VShPUO"
      },
      "source": [
        "imgA309 = cv2.imread(A306)\n",
        "RGB_imgA309= cv2.cvtColor(imgA309, cv2.COLOR_BGR2RGB)"
      ],
      "execution_count": null,
      "outputs": []
    },
    {
      "cell_type": "code",
      "metadata": {
        "id": "ECsd-MFDbAF6"
      },
      "source": [
        "imgA3_501  = cv2.imread(A3_501)\n",
        "RGB_imgA3_501 = cv2.cvtColor(imgA3_501, cv2.COLOR_BGR2RGB)"
      ],
      "execution_count": null,
      "outputs": []
    },
    {
      "cell_type": "code",
      "metadata": {
        "id": "hIBv57jobANv"
      },
      "source": [
        "imgA3_503  = cv2.imread(A3_503)\n",
        "RGB_imgA3_503 = cv2.cvtColor(imgA3_503 , cv2.COLOR_BGR2RGB)"
      ],
      "execution_count": null,
      "outputs": []
    },
    {
      "cell_type": "code",
      "metadata": {
        "id": "iiPAqfNmbAxl"
      },
      "source": [
        "imgA3_506  = cv2.imread(A3_506)\n",
        "RGB_imgA3_506= cv2.cvtColor(imgA3_506, cv2.COLOR_BGR2RGB)"
      ],
      "execution_count": null,
      "outputs": []
    },
    {
      "cell_type": "code",
      "metadata": {
        "id": "ks7ujUxPbA6M"
      },
      "source": [
        "imgA3_509  = cv2.imread(A3_509)\n",
        "RGB_imgA3_509= cv2.cvtColor(imgA3_509, cv2.COLOR_BGR2RGB)"
      ],
      "execution_count": null,
      "outputs": []
    },
    {
      "cell_type": "code",
      "metadata": {
        "id": "Uw9X5Hf_hP9f"
      },
      "source": [
        "imgA401  = cv2.imread(A401)\n",
        "RGB_imgA401= cv2.cvtColor(imgA401, cv2.COLOR_BGR2RGB)"
      ],
      "execution_count": null,
      "outputs": []
    },
    {
      "cell_type": "code",
      "metadata": {
        "id": "ZMgnl-D2hQId"
      },
      "source": [
        "imgA403  = cv2.imread(A4031)\n",
        "RGB_imgA403= cv2.cvtColor(imgA403, cv2.COLOR_BGR2RGB)"
      ],
      "execution_count": null,
      "outputs": []
    },
    {
      "cell_type": "code",
      "metadata": {
        "id": "-cczSQpshdkc"
      },
      "source": [
        "imgA406  = cv2.imread(A406)\n",
        "RGB_imgA406 = cv2.cvtColor(imgA406, cv2.COLOR_BGR2RGB)"
      ],
      "execution_count": null,
      "outputs": []
    },
    {
      "cell_type": "code",
      "metadata": {
        "id": "UVL9tZXChmUC"
      },
      "source": [
        "imgA409  = cv2.imread(A409)\n",
        "RGB_imgA409= cv2.cvtColor(imgA409, cv2.COLOR_BGR2RGB)"
      ],
      "execution_count": null,
      "outputs": []
    },
    {
      "cell_type": "code",
      "metadata": {
        "id": "aXMf5AylhmcW"
      },
      "source": [
        "imgB101 = cv2.imread(B101)\n",
        "RGB_imgB101 = cv2.cvtColor(imgB101, cv2.COLOR_BGR2RGB)"
      ],
      "execution_count": null,
      "outputs": []
    },
    {
      "cell_type": "code",
      "metadata": {
        "id": "YPH7R-1ghmfV"
      },
      "source": [
        "imgB103  = cv2.imread(B103)\n",
        "RGB_imgB103= cv2.cvtColor(imgB103, cv2.COLOR_BGR2RGB)"
      ],
      "execution_count": null,
      "outputs": []
    },
    {
      "cell_type": "code",
      "metadata": {
        "id": "f3StaGtKhmh6"
      },
      "source": [
        "imgB106  = cv2.imread(B106)\n",
        "RGB_imgB106= cv2.cvtColor(imgB106, cv2.COLOR_BGR2RGB)"
      ],
      "execution_count": null,
      "outputs": []
    },
    {
      "cell_type": "code",
      "metadata": {
        "id": "T28XS3lshmlW"
      },
      "source": [
        "imgB201  = cv2.imread(B201)\n",
        "RGB_imgB201= cv2.cvtColor(imgB201, cv2.COLOR_BGR2RGB)"
      ],
      "execution_count": null,
      "outputs": []
    },
    {
      "cell_type": "code",
      "metadata": {
        "id": "4argDZYDhmpp"
      },
      "source": [
        "imgB203  = cv2.imread(B203)\n",
        "RGB_imgB203= cv2.cvtColor(imgB203, cv2.COLOR_BGR2RGB)"
      ],
      "execution_count": null,
      "outputs": []
    },
    {
      "cell_type": "code",
      "metadata": {
        "id": "wBm0zbCJhxcS"
      },
      "source": [
        "imgB206 = cv2.imread(B206)\n",
        "RGB_imgA1= cv2.cvtColor(imgA1, cv2.COLOR_BGR2RGB)"
      ],
      "execution_count": null,
      "outputs": []
    },
    {
      "cell_type": "code",
      "metadata": {
        "id": "EwiL-pvUhxlP"
      },
      "source": [
        "imgB209 = cv2.imread(B209)\n",
        "RGB_imgB209 = cv2.cvtColor(imgB209, cv2.COLOR_BGR2RGB)"
      ],
      "execution_count": null,
      "outputs": []
    },
    {
      "cell_type": "code",
      "metadata": {
        "id": "F7eLeEmthxoc"
      },
      "source": [
        "imgB301  = cv2.imread(B301 )\n",
        "RGB_imgB301 = cv2.cvtColor(imgB301, cv2.COLOR_BGR2RGB)"
      ],
      "execution_count": null,
      "outputs": []
    },
    {
      "cell_type": "code",
      "metadata": {
        "id": "kp1g4D3yhz35"
      },
      "source": [
        "imgB303  = cv2.imread(B303)\n",
        "RGB_imgB303= cv2.cvtColor(imgB303, cv2.COLOR_BGR2RGB)"
      ],
      "execution_count": null,
      "outputs": []
    },
    {
      "cell_type": "code",
      "metadata": {
        "id": "pAYP7ikDh0ad"
      },
      "source": [
        "imgB306 = cv2.imread(B306)\n",
        "RGB_imgB306= cv2.cvtColor(imgB306, cv2.COLOR_BGR2RGB)"
      ],
      "execution_count": null,
      "outputs": []
    },
    {
      "cell_type": "code",
      "metadata": {
        "id": "5LUjAvk4h06e"
      },
      "source": [
        "imgB309  = cv2.imread(B309)\n",
        "RGB_imgB309= cv2.cvtColor(imgB309, cv2.COLOR_BGR2RGB)"
      ],
      "execution_count": null,
      "outputs": []
    },
    {
      "cell_type": "code",
      "metadata": {
        "id": "4ND_QqQ1ilR0"
      },
      "source": [
        "imgB401  = cv2.imread(B401)\n",
        "RGB_imgB401 = cv2.cvtColor(imgB401, cv2.COLOR_BGR2RGB)"
      ],
      "execution_count": null,
      "outputs": []
    },
    {
      "cell_type": "code",
      "metadata": {
        "id": "QinzZuljimH6"
      },
      "source": [
        "imgB403 = cv2.imread(B403)\n",
        "RGB_imgB403= cv2.cvtColor(imgB403, cv2.COLOR_BGR2RGB)"
      ],
      "execution_count": null,
      "outputs": []
    },
    {
      "cell_type": "code",
      "metadata": {
        "id": "orsFONLKim66"
      },
      "source": [
        "imgB406  = cv2.imread(B406)\n",
        "RGB_imgB406= cv2.cvtColor(imgB406, cv2.COLOR_BGR2RGB)"
      ],
      "execution_count": null,
      "outputs": []
    },
    {
      "cell_type": "code",
      "metadata": {
        "id": "mrB4bFazu2us"
      },
      "source": [
        "imgB409  = cv2.imread(B409)\n",
        "RGB_imgB409  = cv2.cvtColor(imgB409 , cv2.COLOR_BGR2RGB)"
      ],
      "execution_count": null,
      "outputs": []
    },
    {
      "cell_type": "code",
      "metadata": {
        "id": "Z1pJ7nkpvUS8"
      },
      "source": [
        "imgB409  = cv2.imread(B409)\n",
        "RGB_imgB409  = cv2.cvtColor(imgB409 , cv2.COLOR_BGR2RGB)"
      ],
      "execution_count": null,
      "outputs": []
    },
    {
      "cell_type": "code",
      "metadata": {
        "id": "Dm6yzNmnvc3g"
      },
      "source": [
        "imgC101  = cv2.imread(C101)\n",
        "RGB_imgC101  = cv2.cvtColor(imgC101 , cv2.COLOR_BGR2RGB)"
      ],
      "execution_count": null,
      "outputs": []
    },
    {
      "cell_type": "code",
      "metadata": {
        "id": "dJ2YPHiMvm1l"
      },
      "source": [
        "imgC103  = cv2.imread(C103)\n",
        "RGB_imgC103  = cv2.cvtColor(imgC103, cv2.COLOR_BGR2RGB)"
      ],
      "execution_count": null,
      "outputs": []
    },
    {
      "cell_type": "code",
      "metadata": {
        "id": "u_873YPvvm8N"
      },
      "source": [
        "imgC106  = cv2.imread(C106)\n",
        "RGB_imgC106 = cv2.cvtColor(imgC106 , cv2.COLOR_BGR2RGB)"
      ],
      "execution_count": null,
      "outputs": []
    },
    {
      "cell_type": "code",
      "metadata": {
        "id": "ii8JGO1TvnCa"
      },
      "source": [
        "imgC109  = cv2.imread(C109)\n",
        "RGB_imgC109 = cv2.cvtColor(imgC109, cv2.COLOR_BGR2RGB)"
      ],
      "execution_count": null,
      "outputs": []
    },
    {
      "cell_type": "code",
      "metadata": {
        "id": "bhCOqADyvnFq"
      },
      "source": [
        "imgC201  = cv2.imread(C201)\n",
        "RGB_imgC201 = cv2.cvtColor(imgC201, cv2.COLOR_BGR2RGB)"
      ],
      "execution_count": null,
      "outputs": []
    },
    {
      "cell_type": "code",
      "metadata": {
        "id": "iSDNS234vnHi"
      },
      "source": [
        "imgC203  = cv2.imread(C203)\n",
        "RGB_imgC203 = cv2.cvtColor(imgC203, cv2.COLOR_BGR2RGB)"
      ],
      "execution_count": null,
      "outputs": []
    },
    {
      "cell_type": "code",
      "metadata": {
        "id": "RkG7bSDZvnJc"
      },
      "source": [
        "imgC206  = cv2.imread(C206)\n",
        "RGB_imgC206 = cv2.cvtColor(imgC206, cv2.COLOR_BGR2RGB)"
      ],
      "execution_count": null,
      "outputs": []
    },
    {
      "cell_type": "code",
      "metadata": {
        "id": "VmV5v61MvnMU"
      },
      "source": [
        "imgC209  = cv2.imread(C209)\n",
        "RGB_imgC209 = cv2.cvtColor(imgC209, cv2.COLOR_BGR2RGB)"
      ],
      "execution_count": null,
      "outputs": []
    },
    {
      "cell_type": "code",
      "metadata": {
        "id": "8VF_4afhvnPx"
      },
      "source": [
        "imgC301  = cv2.imread(C301)\n",
        "RGB_imgC301 = cv2.cvtColor(imgC301, cv2.COLOR_BGR2RGB)"
      ],
      "execution_count": null,
      "outputs": []
    },
    {
      "cell_type": "code",
      "metadata": {
        "id": "pIDif_pavdAi"
      },
      "source": [
        "imgC303 = cv2.imread(C303)\n",
        "RGB_imgC303 = cv2.cvtColor(imgC303, cv2.COLOR_BGR2RGB)"
      ],
      "execution_count": null,
      "outputs": []
    },
    {
      "cell_type": "code",
      "metadata": {
        "id": "sHBTUjPwyfP-"
      },
      "source": [
        "imgC306 = cv2.imread(C306)\n",
        "RGB_imgC306 = cv2.cvtColor(imgC306, cv2.COLOR_BGR2RGB)"
      ],
      "execution_count": null,
      "outputs": []
    },
    {
      "cell_type": "code",
      "metadata": {
        "id": "_VMd_DCvyfSW"
      },
      "source": [
        "imgC309 = cv2.imread(C309)\n",
        "RGB_imgC309 = cv2.cvtColor(imgC309, cv2.COLOR_BGR2RGB)"
      ],
      "execution_count": null,
      "outputs": []
    },
    {
      "cell_type": "code",
      "metadata": {
        "id": "hNHOo7L4yfUW"
      },
      "source": [
        "imgC401 = cv2.imread(C401)\n",
        "RGB_imgC401 = cv2.cvtColor(imgC401, cv2.COLOR_BGR2RGB)"
      ],
      "execution_count": null,
      "outputs": []
    },
    {
      "cell_type": "code",
      "metadata": {
        "id": "6fcMrQ3oyfYT"
      },
      "source": [
        "imgC403 = cv2.imread(C403)\n",
        "RGB_imgC403 = cv2.cvtColor(imgC403, cv2.COLOR_BGR2RGB)"
      ],
      "execution_count": null,
      "outputs": []
    },
    {
      "cell_type": "code",
      "metadata": {
        "id": "9ZMl1xM8zWIv"
      },
      "source": [
        "imgC406 = cv2.imread(C406)\n",
        "RGB_imgC406 = cv2.cvtColor(imgC406, cv2.COLOR_BGR2RGB)"
      ],
      "execution_count": null,
      "outputs": []
    },
    {
      "cell_type": "code",
      "metadata": {
        "id": "BYPJydcLzWK9"
      },
      "source": [
        "imgC409= cv2.imread(C409)\n",
        "RGB_imgC409 = cv2.cvtColor(imgC409, cv2.COLOR_BGR2RGB)"
      ],
      "execution_count": null,
      "outputs": []
    },
    {
      "cell_type": "code",
      "metadata": {
        "id": "tNZi7LtJzWOE"
      },
      "source": [
        "imgD101  = cv2.imread(D101)\n",
        "RGB_imgD101  = cv2.cvtColor(imgD101 , cv2.COLOR_BGR2RGB)"
      ],
      "execution_count": null,
      "outputs": []
    },
    {
      "cell_type": "code",
      "metadata": {
        "id": "AaF6CleTzWSK"
      },
      "source": [
        "imgD103 = cv2.imread(D103 )\n",
        "RGB_imgD103  = cv2.cvtColor(imgD103 , cv2.COLOR_BGR2RGB)"
      ],
      "execution_count": null,
      "outputs": []
    },
    {
      "cell_type": "code",
      "metadata": {
        "id": "WS7-EVr7zWVQ"
      },
      "source": [
        "imgD106 = cv2.imread(D106)\n",
        "RGB_imgD106  = cv2.cvtColor(imgD106 , cv2.COLOR_BGR2RGB)"
      ],
      "execution_count": null,
      "outputs": []
    },
    {
      "cell_type": "code",
      "metadata": {
        "id": "CubfO7HW0hkV"
      },
      "source": [
        "imgD109 = cv2.imread(D109)\n",
        "RGB_imgD109  = cv2.cvtColor(imgD109, cv2.COLOR_BGR2RGB)"
      ],
      "execution_count": null,
      "outputs": []
    },
    {
      "cell_type": "code",
      "metadata": {
        "id": "CQ6x5hLD0hm-"
      },
      "source": [
        "imgD201  = cv2.imread(D201)\n",
        "RGB_imgD201  = cv2.cvtColor(imgD201, cv2.COLOR_BGR2RGB)"
      ],
      "execution_count": null,
      "outputs": []
    },
    {
      "cell_type": "code",
      "metadata": {
        "id": "rdliRS1y0yXq"
      },
      "source": [
        "imgD203  = cv2.imrea(D203 )\n",
        "RGB_imgD203 = cv2.cvtColor(imgD203, cv2.COLOR_BGR2RGB)"
      ],
      "execution_count": null,
      "outputs": []
    },
    {
      "cell_type": "code",
      "metadata": {
        "id": "2ebv0bkx0yaO"
      },
      "source": [
        "imgD206  = cv2.imrea(D206)\n",
        "RGB_imgD206 = cv2.cvtColor(imgD206, cv2.COLOR_BGR2RGB)"
      ],
      "execution_count": null,
      "outputs": []
    },
    {
      "cell_type": "code",
      "metadata": {
        "id": "wlGwkSlI0ycN"
      },
      "source": [
        "imgD209 = cv2.imrea(D209)\n",
        "RGB_imgD209 = cv2.cvtColor(imgD209, cv2.COLOR_BGR2RGB)"
      ],
      "execution_count": null,
      "outputs": []
    },
    {
      "cell_type": "code",
      "metadata": {
        "id": "5IEBC-3n0yeL"
      },
      "source": [
        "imgD301 = cv2.imrea(D301)\n",
        "RGB_imgD301 = cv2.cvtColor(imgD301, cv2.COLOR_BGR2RGB)"
      ],
      "execution_count": null,
      "outputs": []
    },
    {
      "cell_type": "code",
      "metadata": {
        "id": "UaWQylWp0ygg"
      },
      "source": [
        "imgD303 = cv2.imrea(D303)\n",
        "RGB_imgD303 = cv2.cvtColor(imgD303, cv2.COLOR_BGR2RGB)"
      ],
      "execution_count": null,
      "outputs": []
    },
    {
      "cell_type": "code",
      "metadata": {
        "id": "DjZfNINk0ykh"
      },
      "source": [
        "imgD306 = cv2.imrea(D306)\n",
        "RGB_imgD306  = cv2.cvtColor(imgD306, cv2.COLOR_BGR2RGB)"
      ],
      "execution_count": null,
      "outputs": []
    },
    {
      "cell_type": "code",
      "metadata": {
        "id": "KL1ZFS2c0hpQ"
      },
      "source": [
        "imgD309 = cv2.imrea(D309)\n",
        "RGB_imgD309  = cv2.cvtColor(imgD309, cv2.COLOR_BGR2RGB)"
      ],
      "execution_count": null,
      "outputs": []
    },
    {
      "cell_type": "code",
      "metadata": {
        "id": "GGBYhCp412wm"
      },
      "source": [
        "imgD401 = cv2.imrea(D401)\n",
        "RGB_imgD401  = cv2.cvtColor(imgD401 , cv2.COLOR_BGR2RGB)"
      ],
      "execution_count": null,
      "outputs": []
    },
    {
      "cell_type": "code",
      "metadata": {
        "id": "_f0wsVEj123C"
      },
      "source": [
        "imgD403 = cv2.imrea(D403)\n",
        "RGB_imgD403  = cv2.cvtColor(imgD403, cv2.COLOR_BGR2RGB)"
      ],
      "execution_count": null,
      "outputs": []
    },
    {
      "cell_type": "code",
      "metadata": {
        "id": "1fGZK0RV125T"
      },
      "source": [
        "imgD406 = cv2.imrea(D406)\n",
        "RGB_imgD406 = cv2.cvtColor(imgD406, cv2.COLOR_BGR2RGB)"
      ],
      "execution_count": null,
      "outputs": []
    },
    {
      "cell_type": "code",
      "metadata": {
        "id": "m7Ahxzvx127z"
      },
      "source": [
        "imgD409 = cv2.imrea(D409)\n",
        "RGB_imgD409 = cv2.cvtColor(imgD409, cv2.COLOR_BGR2RGB)"
      ],
      "execution_count": null,
      "outputs": []
    },
    {
      "cell_type": "markdown",
      "metadata": {
        "id": "smG2ZHJs5jcx"
      },
      "source": [
        "#แปลง RGB to LAB"
      ]
    },
    {
      "cell_type": "markdown",
      "metadata": {
        "id": "fb9gWg4hLRvB"
      },
      "source": [
        "A1"
      ]
    },
    {
      "cell_type": "code",
      "metadata": {
        "id": "xnybRqj05hY4"
      },
      "source": [
        "LAB_imgA101= cv2.cvtColor(RGB_imgA101, cv2.COLOR_RGB2LAB)\n",
        "plt.imshow(LAB_imgA101)"
      ],
      "execution_count": null,
      "outputs": []
    },
    {
      "cell_type": "code",
      "metadata": {
        "id": "8O2NqwnR5hsj"
      },
      "source": [
        "LAB_imgA103= cv2.cvtColor(RGB_imgA103, cv2.COLOR_RGB2LAB)\n",
        "plt.imshow(LAB_imgA103)"
      ],
      "execution_count": null,
      "outputs": []
    },
    {
      "cell_type": "code",
      "metadata": {
        "id": "CEk5uYx4LbFT"
      },
      "source": [
        "LAB_imgA106= cv2.cvtColor(RGB_imgA106, cv2.COLOR_RGB2LAB)\n",
        "plt.imshow(LAB_imgA106)"
      ],
      "execution_count": null,
      "outputs": []
    },
    {
      "cell_type": "code",
      "metadata": {
        "id": "syO7E8LKLl1V"
      },
      "source": [
        "LAB_imgA109= cv2.cvtColor(RGB_imgA109, cv2.COLOR_RGB2LAB)\n",
        "plt.imshow(LAB_imgA109)"
      ],
      "execution_count": null,
      "outputs": []
    },
    {
      "cell_type": "markdown",
      "metadata": {
        "id": "wcRDTSkGL1q1"
      },
      "source": [
        "A2"
      ]
    },
    {
      "cell_type": "code",
      "metadata": {
        "id": "btzFdNyvLmBE"
      },
      "source": [
        "LAB_imgA201= cv2.cvtColor(RGB_imgA201, cv2.COLOR_RGB2LAB)\n",
        "plt.imshow(LAB_imgA201)"
      ],
      "execution_count": null,
      "outputs": []
    },
    {
      "cell_type": "code",
      "metadata": {
        "id": "vA7GXHutLbOL"
      },
      "source": [
        "LAB_imgA203= cv2.cvtColor(RGB_imgA203, cv2.COLOR_RGB2LAB)\n",
        "plt.imshow(LAB_imgA203)"
      ],
      "execution_count": null,
      "outputs": []
    },
    {
      "cell_type": "code",
      "metadata": {
        "id": "McBymOVlLbTU"
      },
      "source": [
        "LAB_imgA206= cv2.cvtColor(RGB_imgA206, cv2.COLOR_RGB2LAB)\n",
        "plt.imshow(LAB_imgA206)"
      ],
      "execution_count": null,
      "outputs": []
    },
    {
      "cell_type": "code",
      "metadata": {
        "id": "iDjw3t1aMQH0"
      },
      "source": [
        "LAB_imgA209= cv2.cvtColor(RGB_imgA209, cv2.COLOR_RGB2LAB)\n",
        "plt.imshow(LAB_imgA209)"
      ],
      "execution_count": null,
      "outputs": []
    },
    {
      "cell_type": "markdown",
      "metadata": {
        "id": "uZOVWsDdMd7P"
      },
      "source": [
        "A3"
      ]
    },
    {
      "cell_type": "code",
      "metadata": {
        "id": "mXdoJvFxMQPH"
      },
      "source": [
        "LAB_imgA301= cv2.cvtColor(RGB_imgA301, cv2.COLOR_RGB2LAB)\n",
        "plt.imshow(LAB_imgA301)"
      ],
      "execution_count": null,
      "outputs": []
    },
    {
      "cell_type": "code",
      "metadata": {
        "id": "9k4xaFzxMQZF"
      },
      "source": [
        "LAB_imgA303= cv2.cvtColor(RGB_imgA303, cv2.COLOR_RGB2LAB)\n",
        "plt.imshow(LAB_imgA303)"
      ],
      "execution_count": null,
      "outputs": []
    },
    {
      "cell_type": "code",
      "metadata": {
        "id": "D3wiaeGTMkXl"
      },
      "source": [
        "LAB_imgA306= cv2.cvtColor(RGB_imgA306, cv2.COLOR_RGB2LAB)\n",
        "plt.imshow(LAB_imgA306)"
      ],
      "execution_count": null,
      "outputs": []
    },
    {
      "cell_type": "code",
      "metadata": {
        "id": "-14-xyUNMjt_"
      },
      "source": [
        "LAB_imgA309= cv2.cvtColor(RGB_imgA309, cv2.COLOR_RGB2LAB)\n",
        "plt.imshow(LAB_imgA309)"
      ],
      "execution_count": null,
      "outputs": []
    },
    {
      "cell_type": "markdown",
      "metadata": {
        "id": "JhTtHusMM6RX"
      },
      "source": [
        "A3_5"
      ]
    },
    {
      "cell_type": "code",
      "metadata": {
        "id": "n7P4PTFFMmMx"
      },
      "source": [
        "LAB_imgA3_501= cv2.cvtColor(RGB_imgA3_501, cv2.COLOR_RGB2LAB)\n",
        "plt.imshow(LAB_imgA3_501)"
      ],
      "execution_count": null,
      "outputs": []
    },
    {
      "cell_type": "code",
      "metadata": {
        "id": "vDCXHk5hMn2N"
      },
      "source": [
        "LAB_imgA3_503= cv2.cvtColor(RGB_imgA3_503, cv2.COLOR_RGB2LAB)\n",
        "plt.imshow(LAB_imgA3_503)"
      ],
      "execution_count": null,
      "outputs": []
    },
    {
      "cell_type": "code",
      "metadata": {
        "id": "rIgms4ppMQlU"
      },
      "source": [
        "LAB_imgA3_506= cv2.cvtColor(RGB_imgA3_506, cv2.COLOR_RGB2LAB)\n",
        "plt.imshow(LAB_imgA3_506)"
      ],
      "execution_count": null,
      "outputs": []
    },
    {
      "cell_type": "code",
      "metadata": {
        "id": "ASDWMUdqMQqN"
      },
      "source": [
        "LAB_imgA3_509= cv2.cvtColor(RGB_imgA3_509, cv2.COLOR_RGB2LAB)\n",
        "plt.imshow(LAB_imgA3_509)"
      ],
      "execution_count": null,
      "outputs": []
    },
    {
      "cell_type": "markdown",
      "metadata": {
        "id": "q8tC4kzxN-9M"
      },
      "source": [
        "A4"
      ]
    },
    {
      "cell_type": "code",
      "metadata": {
        "id": "afBgQSr-MQtc"
      },
      "source": [
        "LAB_imgA401= cv2.cvtColor(RGB_imgA401, cv2.COLOR_RGB2LAB)\n",
        "plt.imshow(LAB_imgA401)"
      ],
      "execution_count": null,
      "outputs": []
    },
    {
      "cell_type": "code",
      "metadata": {
        "id": "8019MvtfMQv_"
      },
      "source": [
        "LAB_imgA403= cv2.cvtColor(RGB_imgA403, cv2.COLOR_RGB2LAB)\n",
        "plt.imshow(LAB_imgA403)"
      ],
      "execution_count": null,
      "outputs": []
    },
    {
      "cell_type": "code",
      "metadata": {
        "id": "W8k7QfiaMQzh"
      },
      "source": [
        "LAB_imgA406= cv2.cvtColor(RGB_imgA406, cv2.COLOR_RGB2LAB)\n",
        "plt.imshow(LAB_imgA406)"
      ],
      "execution_count": null,
      "outputs": []
    },
    {
      "cell_type": "code",
      "metadata": {
        "id": "wFJofJldMQ2S"
      },
      "source": [
        "LAB_imgA409= cv2.cvtColor(RGB_imgA409, cv2.COLOR_RGB2LAB)\n",
        "plt.imshow(LAB_imgA409)"
      ],
      "execution_count": null,
      "outputs": []
    },
    {
      "cell_type": "markdown",
      "metadata": {
        "id": "Pc27WM_VORxK"
      },
      "source": [
        "B1"
      ]
    },
    {
      "cell_type": "code",
      "metadata": {
        "id": "UsQZvhuMNpxj"
      },
      "source": [
        "LAB_imgB101= cv2.cvtColor(RGB_imgB101, cv2.COLOR_RGB2LAB)\n",
        "plt.imshow(LAB_imgB101)"
      ],
      "execution_count": null,
      "outputs": []
    },
    {
      "cell_type": "code",
      "metadata": {
        "id": "rzktamTeNp00"
      },
      "source": [
        "LAB_imgB103= cv2.cvtColor(RGB_imgB103, cv2.COLOR_RGB2LAB)\n",
        "plt.imshow(LAB_imgB103)"
      ],
      "execution_count": null,
      "outputs": []
    },
    {
      "cell_type": "code",
      "metadata": {
        "id": "px0YkdkwNp3_"
      },
      "source": [
        "LAB_imgB106= cv2.cvtColor(RGB_imgB106, cv2.COLOR_RGB2LAB)\n",
        "plt.imshow(LAB_imgB106)"
      ],
      "execution_count": null,
      "outputs": []
    },
    {
      "cell_type": "code",
      "metadata": {
        "id": "lqyHvJ_jNp7J"
      },
      "source": [
        "LAB_imgB109= cv2.cvtColor(RGB_imgB109, cv2.COLOR_RGB2LAB)\n",
        "plt.imshow(LAB_imgB109)"
      ],
      "execution_count": null,
      "outputs": []
    },
    {
      "cell_type": "markdown",
      "metadata": {
        "id": "OzU2tuU7OtI1"
      },
      "source": [
        "B2"
      ]
    },
    {
      "cell_type": "code",
      "metadata": {
        "id": "JANoQMruNp9l"
      },
      "source": [
        "LAB_imgB201= cv2.cvtColor(RGB_imgB201, cv2.COLOR_RGB2LAB)\n",
        "plt.imshow(LAB_imgB201)"
      ],
      "execution_count": null,
      "outputs": []
    },
    {
      "cell_type": "code",
      "metadata": {
        "id": "qbLTuWw1NqAu"
      },
      "source": [
        "LAB_imgB203= cv2.cvtColor(RGB_imgB203, cv2.COLOR_RGB2LAB)\n",
        "plt.imshow(LAB_imgB203)"
      ],
      "execution_count": null,
      "outputs": []
    },
    {
      "cell_type": "code",
      "metadata": {
        "id": "bHPWYUZyNqD0"
      },
      "source": [
        "LAB_imgB206= cv2.cvtColor(RGB_imgB206, cv2.COLOR_RGB2LAB)\n",
        "plt.imshow(LAB_imgB206)"
      ],
      "execution_count": null,
      "outputs": []
    },
    {
      "cell_type": "code",
      "metadata": {
        "id": "q6lHHDlHNqG9"
      },
      "source": [
        "LAB_imgB209= cv2.cvtColor(RGB_imgB209, cv2.COLOR_RGB2LAB)\n",
        "plt.imshow(LAB_imgB209)"
      ],
      "execution_count": null,
      "outputs": []
    },
    {
      "cell_type": "markdown",
      "metadata": {
        "id": "ytGHcSn_O8MQ"
      },
      "source": [
        "B3"
      ]
    },
    {
      "cell_type": "code",
      "metadata": {
        "id": "k6s-8jPLNqKD"
      },
      "source": [
        "LAB_imgB301= cv2.cvtColor(RGB_imgB301, cv2.COLOR_RGB2LAB)\n",
        "plt.imshow(LAB_imgB301)"
      ],
      "execution_count": null,
      "outputs": []
    },
    {
      "cell_type": "code",
      "metadata": {
        "id": "5kgfqwcrNqMj"
      },
      "source": [
        "LAB_imgB303= cv2.cvtColor(RGB_imgB303, cv2.COLOR_RGB2LAB)\n",
        "plt.imshow(LAB_imgB303)"
      ],
      "execution_count": null,
      "outputs": []
    },
    {
      "cell_type": "code",
      "metadata": {
        "id": "zLoy7AtkNvla"
      },
      "source": [
        "LAB_imgB306= cv2.cvtColor(RGB_imgB306, cv2.COLOR_RGB2LAB)\n",
        "plt.imshow(LAB_imgB306)"
      ],
      "execution_count": null,
      "outputs": []
    },
    {
      "cell_type": "code",
      "metadata": {
        "id": "pwKbC9AQNvot"
      },
      "source": [
        "LAB_imgB309= cv2.cvtColor(RGB_imgB309, cv2.COLOR_RGB2LAB)\n",
        "plt.imshow(LAB_imgB309)"
      ],
      "execution_count": null,
      "outputs": []
    },
    {
      "cell_type": "markdown",
      "metadata": {
        "id": "vnlHNBVCPOVq"
      },
      "source": [
        "B4"
      ]
    },
    {
      "cell_type": "code",
      "metadata": {
        "id": "sOTn0flvNvsO"
      },
      "source": [
        "LAB_imgB401= cv2.cvtColor(RGB_imgB401, cv2.COLOR_RGB2LAB)\n",
        "plt.imshow(LAB_imgB401)"
      ],
      "execution_count": null,
      "outputs": []
    },
    {
      "cell_type": "code",
      "metadata": {
        "id": "Ci_ivh5KNvwF"
      },
      "source": [
        "LAB_imgB403= cv2.cvtColor(RGB_imgB403, cv2.COLOR_RGB2LAB)\n",
        "plt.imshow(LAB_imgB403)"
      ],
      "execution_count": null,
      "outputs": []
    },
    {
      "cell_type": "code",
      "metadata": {
        "id": "NpC5EWCtNvza"
      },
      "source": [
        "LAB_imgB406= cv2.cvtColor(RGB_imgB406, cv2.COLOR_RGB2LAB)\n",
        "plt.imshow(LAB_imgB406)"
      ],
      "execution_count": null,
      "outputs": []
    },
    {
      "cell_type": "code",
      "metadata": {
        "id": "iDX6Jt96Nv3I"
      },
      "source": [
        "LAB_imgB409= cv2.cvtColor(RGB_imgB409, cv2.COLOR_RGB2LAB)\n",
        "plt.imshow(LAB_imgB409)"
      ],
      "execution_count": null,
      "outputs": []
    },
    {
      "cell_type": "markdown",
      "metadata": {
        "id": "KjSC8j6jPkSo"
      },
      "source": [
        "C1"
      ]
    },
    {
      "cell_type": "code",
      "metadata": {
        "id": "VBYjII0UNzGU"
      },
      "source": [
        "LAB_imgC101= cv2.cvtColor(RGB_imgC101, cv2.COLOR_RGB2LAB)\n",
        "plt.imshow(LAB_imgC101)"
      ],
      "execution_count": null,
      "outputs": []
    },
    {
      "cell_type": "code",
      "metadata": {
        "id": "rqzGG3CBNzJk"
      },
      "source": [
        "LAB_imgC103= cv2.cvtColor(RGB_imgC103, cv2.COLOR_RGB2LAB)\n",
        "plt.imshow(LAB_imgC103)"
      ],
      "execution_count": null,
      "outputs": []
    },
    {
      "cell_type": "code",
      "metadata": {
        "id": "F-MKIJWTNzMG"
      },
      "source": [
        "LAB_imgC106= cv2.cvtColor(RGB_imgC106, cv2.COLOR_RGB2LAB)\n",
        "plt.imshow(LAB_imgC106)"
      ],
      "execution_count": null,
      "outputs": []
    },
    {
      "cell_type": "code",
      "metadata": {
        "id": "_BnANmWJNzOf"
      },
      "source": [
        "LAB_imgC109= cv2.cvtColor(RGB_imgC109, cv2.COLOR_RGB2LAB)\n",
        "plt.imshow(LAB_imgC109)"
      ],
      "execution_count": null,
      "outputs": []
    },
    {
      "cell_type": "markdown",
      "metadata": {
        "id": "BdQLMDnAQgVb"
      },
      "source": [
        "C2"
      ]
    },
    {
      "cell_type": "code",
      "metadata": {
        "id": "j1vkMStiQTQH"
      },
      "source": [
        "LAB_imgC201= cv2.cvtColor(RGB_imgC201, cv2.COLOR_RGB2LAB)\n",
        "plt.imshow(LAB_imgC201)"
      ],
      "execution_count": null,
      "outputs": []
    },
    {
      "cell_type": "code",
      "metadata": {
        "id": "jCaiWK59Qk3a"
      },
      "source": [
        "LAB_imgC203= cv2.cvtColor(RGB_imgC203, cv2.COLOR_RGB2LAB)\n",
        "plt.imshow(LAB_imgC203)"
      ],
      "execution_count": null,
      "outputs": []
    },
    {
      "cell_type": "code",
      "metadata": {
        "id": "OSBJzM6JQk_j"
      },
      "source": [
        "LAB_imgC206= cv2.cvtColor(RGB_imgC206, cv2.COLOR_RGB2LAB)\n",
        "plt.imshow(LAB_imgC206)"
      ],
      "execution_count": null,
      "outputs": []
    },
    {
      "cell_type": "code",
      "metadata": {
        "id": "kM-2mX-NQlKC"
      },
      "source": [
        "LAB_imgC209= cv2.cvtColor(RGB_imgC209, cv2.COLOR_RGB2LAB)\n",
        "plt.imshow(LAB_imgC209)"
      ],
      "execution_count": null,
      "outputs": []
    },
    {
      "cell_type": "markdown",
      "metadata": {
        "id": "rsaydvktQ-wv"
      },
      "source": [
        "C3"
      ]
    },
    {
      "cell_type": "code",
      "metadata": {
        "id": "mVZbpsx3RA2d"
      },
      "source": [
        "LAB_imgC301= cv2.cvtColor(RGB_imgC301, cv2.COLOR_RGB2LAB)\n",
        "plt.imshow(LAB_imgC301)"
      ],
      "execution_count": null,
      "outputs": []
    },
    {
      "cell_type": "code",
      "metadata": {
        "id": "Ge8xYl9gRA_2"
      },
      "source": [
        "LAB_imgC303= cv2.cvtColor(RGB_imgC303, cv2.COLOR_RGB2LAB)\n",
        "plt.imshow(LAB_imgC303)"
      ],
      "execution_count": null,
      "outputs": []
    },
    {
      "cell_type": "code",
      "metadata": {
        "id": "hk4sldWKRBDc"
      },
      "source": [
        "LAB_imgC306= cv2.cvtColor(RGB_imgC306, cv2.COLOR_RGB2LAB)\n",
        "plt.imshow(LAB_imgC306)"
      ],
      "execution_count": null,
      "outputs": []
    },
    {
      "cell_type": "code",
      "metadata": {
        "id": "3_BTcnP5RBG-"
      },
      "source": [
        "LAB_imgC309= cv2.cvtColor(RGB_imgC309, cv2.COLOR_RGB2LAB)\n",
        "plt.imshow(LAB_imgC309)"
      ],
      "execution_count": null,
      "outputs": []
    },
    {
      "cell_type": "markdown",
      "metadata": {
        "id": "KbYIjF-JRB_N"
      },
      "source": [
        "C4"
      ]
    },
    {
      "cell_type": "code",
      "metadata": {
        "id": "A2NP_xiKRBT5"
      },
      "source": [
        "LAB_imgC401= cv2.cvtColor(RGB_imgC401, cv2.COLOR_RGB2LAB)\n",
        "plt.imshow(LAB_imgC401)"
      ],
      "execution_count": null,
      "outputs": []
    },
    {
      "cell_type": "code",
      "metadata": {
        "id": "AlkyXiJ3RejZ"
      },
      "source": [
        "LAB_imgC403= cv2.cvtColor(RGB_imgC403, cv2.COLOR_RGB2LAB)\n",
        "plt.imshow(LAB_imgC403)"
      ],
      "execution_count": null,
      "outputs": []
    },
    {
      "cell_type": "code",
      "metadata": {
        "id": "lIsvPDytRerR"
      },
      "source": [
        "LAB_imgC406= cv2.cvtColor(RGB_imgC406, cv2.COLOR_RGB2LAB)\n",
        "plt.imshow(LAB_imgC406)"
      ],
      "execution_count": null,
      "outputs": []
    },
    {
      "cell_type": "code",
      "metadata": {
        "id": "Kv9jES7fRe1G"
      },
      "source": [
        "LAB_imgC409= cv2.cvtColor(RGB_imgC409, cv2.COLOR_RGB2LAB)\n",
        "plt.imshow(LAB_imgC409)"
      ],
      "execution_count": null,
      "outputs": []
    },
    {
      "cell_type": "markdown",
      "metadata": {
        "id": "_FlF_UfIP4Jy"
      },
      "source": [
        "D1"
      ]
    },
    {
      "cell_type": "code",
      "metadata": {
        "id": "2e98SBj0NzRb"
      },
      "source": [
        "LAB_imgD101= cv2.cvtColor(RGB_imgD101, cv2.COLOR_RGB2LAB)\n",
        "plt.imshow(LAB_imgD101)"
      ],
      "execution_count": null,
      "outputs": []
    },
    {
      "cell_type": "code",
      "metadata": {
        "id": "zb_CsCoRNzT_"
      },
      "source": [
        "LAB_imgD103= cv2.cvtColor(RGB_imgD103, cv2.COLOR_RGB2LAB)\n",
        "plt.imshow(LAB_imgD103)"
      ],
      "execution_count": null,
      "outputs": []
    },
    {
      "cell_type": "code",
      "metadata": {
        "id": "2XR9oiUONzXf"
      },
      "source": [
        "LAB_imgD106= cv2.cvtColor(RGB_imgD106, cv2.COLOR_RGB2LAB)\n",
        "plt.imshow(LAB_imgD106)"
      ],
      "execution_count": null,
      "outputs": []
    },
    {
      "cell_type": "code",
      "metadata": {
        "id": "HISKINUFQBuy"
      },
      "source": [
        "LAB_imgD109= cv2.cvtColor(RGB_imgD109, cv2.COLOR_RGB2LAB)\n",
        "plt.imshow(LAB_imgD109)"
      ],
      "execution_count": null,
      "outputs": []
    },
    {
      "cell_type": "markdown",
      "metadata": {
        "id": "GNHy4qRjQVnU"
      },
      "source": [
        "D2"
      ]
    },
    {
      "cell_type": "code",
      "metadata": {
        "id": "lCdTGlAfQCCO"
      },
      "source": [
        "LAB_imgD201== cv2.cvtColor(RGB_imgD201, cv2.COLOR_RGB2LAB)\n",
        "plt.imshow(LAB_imgD201)"
      ],
      "execution_count": null,
      "outputs": []
    },
    {
      "cell_type": "code",
      "metadata": {
        "id": "ycmCVl5mRy4j"
      },
      "source": [
        "LAB_imgD203= cv2.cvtColor(RGB_imgD203, cv2.COLOR_RGB2LAB)\n",
        "plt.imshow(LAB_imgD203)"
      ],
      "execution_count": null,
      "outputs": []
    },
    {
      "cell_type": "code",
      "metadata": {
        "id": "On6lT3rFRzCR"
      },
      "source": [
        "LAB_imgD206= cv2.cvtColor(RGB_imgD206, cv2.COLOR_RGB2LAB)\n",
        "plt.imshow(LAB_imgD206)"
      ],
      "execution_count": null,
      "outputs": []
    },
    {
      "cell_type": "code",
      "metadata": {
        "id": "3i6q0ajMRzF-"
      },
      "source": [
        "LAB_imgD209= cv2.cvtColor(RGB_imgD209, cv2.COLOR_RGB2LAB)\n",
        "plt.imshow(LAB_imgD209)"
      ],
      "execution_count": null,
      "outputs": []
    },
    {
      "cell_type": "markdown",
      "metadata": {
        "id": "HeuzKkX1SH0W"
      },
      "source": [
        "D3"
      ]
    },
    {
      "cell_type": "code",
      "metadata": {
        "id": "fcI1Fy2ARzJe"
      },
      "source": [
        "LAB_imgD301= cv2.cvtColor(RGB_imgD301, cv2.COLOR_RGB2LAB)\n",
        "plt.imshow(LAB_imgD301)"
      ],
      "execution_count": null,
      "outputs": []
    },
    {
      "cell_type": "code",
      "metadata": {
        "id": "rDHv39CDRzNC"
      },
      "source": [
        "LAB_imgD303= cv2.cvtColor(RGB_imgD303, cv2.COLOR_RGB2LAB)\n",
        "plt.imshow(LAB_imgD303)"
      ],
      "execution_count": null,
      "outputs": []
    },
    {
      "cell_type": "code",
      "metadata": {
        "id": "CA7esUq9RzQf"
      },
      "source": [
        "LAB_imgD306= cv2.cvtColor(RGB_imgD306, cv2.COLOR_RGB2LAB)\n",
        "plt.imshow(LAB_imgD306)"
      ],
      "execution_count": null,
      "outputs": []
    },
    {
      "cell_type": "code",
      "metadata": {
        "id": "_7HZ41TDRzTM"
      },
      "source": [
        "LAB_imgD309= cv2.cvtColor(RGB_imgD309, cv2.COLOR_RGB2LAB)\n",
        "plt.imshow(LAB_imgD309)"
      ],
      "execution_count": null,
      "outputs": []
    },
    {
      "cell_type": "markdown",
      "metadata": {
        "id": "ZrVngXy8SZsa"
      },
      "source": [
        "D4"
      ]
    },
    {
      "cell_type": "code",
      "metadata": {
        "id": "OtMRQt_jRzWh"
      },
      "source": [
        "LAB_imgD401= cv2.cvtColor(RGB_imgD401, cv2.COLOR_RGB2LAB)\n",
        "plt.imshow(LAB_imgD401)"
      ],
      "execution_count": null,
      "outputs": []
    },
    {
      "cell_type": "code",
      "metadata": {
        "id": "WHsTXP5WRzZB"
      },
      "source": [
        "LAB_imgD403= cv2.cvtColor(RGB_imgD403, cv2.COLOR_RGB2LAB)\n",
        "plt.imshow(LAB_imgD403)"
      ],
      "execution_count": null,
      "outputs": []
    },
    {
      "cell_type": "code",
      "metadata": {
        "id": "z9Da1gpfRzcl"
      },
      "source": [
        "LAB_imgD406= cv2.cvtColor(RGB_imgD406, cv2.COLOR_RGB2LAB)\n",
        "plt.imshow(LAB_imgD406)"
      ],
      "execution_count": null,
      "outputs": []
    },
    {
      "cell_type": "code",
      "metadata": {
        "id": "Jaw7RTLGSjw3"
      },
      "source": [
        "LAB_imgD409= cv2.cvtColor(RGB_imgD409, cv2.COLOR_RGB2LAB)\n",
        "plt.imshow(LAB_imgD409)"
      ],
      "execution_count": null,
      "outputs": []
    },
    {
      "cell_type": "markdown",
      "metadata": {
        "id": "-RRvv5vj2sng"
      },
      "source": [
        "#ดึงสีภาพ"
      ]
    },
    {
      "cell_type": "markdown",
      "metadata": {
        "id": "BLLQR4kyWtj6"
      },
      "source": [
        "A1"
      ]
    },
    {
      "cell_type": "code",
      "metadata": {
        "id": "_48hGv6X12_P"
      },
      "source": [
        "for i in range(LAB_imgA101.shape[0]): #ให้ i รันตาม row หรือ shape[0] คือแถว มีทั้งหมด 4032 แถว ของภาพที่ปรับขนาดมาแล้ว\n",
        "     for j in range(LAB_imgA101.shape[1]): #ให้ j รันตาม colum มีทั้งหมด 3024 colum เช่น แถวที่ 1 เข้ามาให้รันครบ 3024colum\n",
        "                if 1769<i<1881 and 2019<j<2131 :#ถ้าค่า i ที่เข้ามาอยู่ระหว่าง 1849 - 2101   ค่า j  ที่เข้ามาอยู่ระหว่าง 1799-2001\n",
        "                    print(LAB_imgA101[i][j])#ถ้าค่าอยู่ใน ij  จะให้แสดงค่าที่อยู่ตำแหน่งนั้นๆ"
      ],
      "execution_count": null,
      "outputs": []
    },
    {
      "cell_type": "code",
      "metadata": {
        "id": "ONNhwbUk13EI"
      },
      "source": [
        "for i in range(LAB_imgA103.shape[0]): \n",
        "     for j in range(LAB_imgA103.shape[1]): \n",
        "                if 1769<i<1881 and 2019<j<2131:\n",
        "                    (LAB_imgA103[i][j])"
      ],
      "execution_count": null,
      "outputs": []
    },
    {
      "cell_type": "code",
      "metadata": {
        "id": "nfV4k3_0XZAZ"
      },
      "source": [
        "for i in range(LAB_imgA106.shape[0]): \n",
        "     for j in range(LAB_imgA106.shape[1]): \n",
        "                if 1769<i<1881 and 2019<j<2131:\n",
        "                    (LAB_imgA106[i][j])"
      ],
      "execution_count": null,
      "outputs": []
    },
    {
      "cell_type": "code",
      "metadata": {
        "id": "fFlCufheXZDw"
      },
      "source": [
        "for i in range(LAB_imgA109.shape[0]): \n",
        "     for j in range(LAB_imgA109.shape[1]): \n",
        "                if 1769<i<1881 and 2019<j<2131:\n",
        "                    (LAB_imgA109[i][j])"
      ],
      "execution_count": null,
      "outputs": []
    },
    {
      "cell_type": "markdown",
      "metadata": {
        "id": "YlayNjl-XqXO"
      },
      "source": [
        "A2"
      ]
    },
    {
      "cell_type": "code",
      "metadata": {
        "id": "-lRLt_0LXZG1"
      },
      "source": [
        "for i in range(LAB_imgA201.shape[0]): \n",
        "     for j in range(LAB_imgA201.shape[1]): \n",
        "                if 1769<i<1881 and 2019<j<2131:\n",
        "                    (LAB_imgA201[i][j])"
      ],
      "execution_count": null,
      "outputs": []
    },
    {
      "cell_type": "code",
      "metadata": {
        "id": "tzgAdazOXZJo"
      },
      "source": [
        "for i in range(LAB_imgA203.shape[0]): \n",
        "     for j in range(LAB_imgA203.shape[1]): \n",
        "                if 1769<i<1881 and 2019<j<2131:\n",
        "                    (LAB_imgA203[i][j])"
      ],
      "execution_count": null,
      "outputs": []
    },
    {
      "cell_type": "code",
      "metadata": {
        "id": "rS86S8fAYN47"
      },
      "source": [
        "for i in range(LAB_imgA206.shape[0]): \n",
        "     for j in range(LAB_imgA206.shape[1]): \n",
        "                if 1769<i<1881 and 2019<j<2131:\n",
        "                    (LAB_imgA206[i][j])"
      ],
      "execution_count": null,
      "outputs": []
    },
    {
      "cell_type": "code",
      "metadata": {
        "id": "T9W0lcAYYN8_"
      },
      "source": [
        "for i in range(LAB_imgA209.shape[0]): \n",
        "     for j in range(LAB_imgA209.shape[1]): \n",
        "                if 1769<i<1881 and 2019<j<2131:\n",
        "                    (LAB_imgA209[i][j])"
      ],
      "execution_count": null,
      "outputs": []
    },
    {
      "cell_type": "markdown",
      "metadata": {
        "id": "GHYDvX4tYcsI"
      },
      "source": [
        "A3"
      ]
    },
    {
      "cell_type": "code",
      "metadata": {
        "id": "1z1kGKhcYOAP"
      },
      "source": [
        "for i in range(LAB_imgA301.shape[0]): \n",
        "     for j in range(LAB_imgA301.shape[1]): \n",
        "                if 1769<i<1881 and 2019<j<2131:\n",
        "                    (LAB_imgA301[i][j])"
      ],
      "execution_count": null,
      "outputs": []
    },
    {
      "cell_type": "code",
      "metadata": {
        "id": "Q-t3tuRVYk71"
      },
      "source": [
        "for i in range(LAB_imgA303.shape[0]): \n",
        "     for j in range(LAB_imgA303.shape[1]): \n",
        "                if 1769<i<1881 and 2019<j<2131:\n",
        "                    (LAB_imgA303[i][j])"
      ],
      "execution_count": null,
      "outputs": []
    },
    {
      "cell_type": "code",
      "metadata": {
        "id": "A-bXlszxYk_m"
      },
      "source": [
        "for i in range(LAB_imgA306.shape[0]): \n",
        "     for j in range(LAB_imgA306.shape[1]): \n",
        "                if 1769<i<1881 and 2019<j<2131:\n",
        "                    (LAB_imgA306[i][j])"
      ],
      "execution_count": null,
      "outputs": []
    },
    {
      "cell_type": "code",
      "metadata": {
        "id": "8Z4BsobsYlDB"
      },
      "source": [
        "for i in range(LAB_imgA309.shape[0]): \n",
        "     for j in range(LAB_imgA309.shape[1]): \n",
        "                if 1769<i<1881 and 2019<j<2131:\n",
        "                    (LAB_imgA309[i][j])"
      ],
      "execution_count": null,
      "outputs": []
    },
    {
      "cell_type": "markdown",
      "metadata": {
        "id": "8rju53dwahIT"
      },
      "source": [
        "A3_5"
      ]
    },
    {
      "cell_type": "code",
      "metadata": {
        "id": "5a6RXWlWad75"
      },
      "source": [
        "for i in range(LAB_imgA3_501.shape[0]): \n",
        "     for j in range(LAB_imgA309.shape[1]): \n",
        "                if 1769<i<1881 and 2019<j<2131:\n",
        "                    (LAB_imgA309[i][j])"
      ],
      "execution_count": null,
      "outputs": []
    },
    {
      "cell_type": "markdown",
      "metadata": {
        "id": "ln3pePdZZF33"
      },
      "source": [
        "B1"
      ]
    },
    {
      "cell_type": "code",
      "metadata": {
        "id": "HzqLBa4pYlGs"
      },
      "source": [
        "for i in range(LAB_imgB101.shape[0]): \n",
        "     for j in range(LAB_imgB101.shape[1]): \n",
        "                if 1769<i<1881 and 2019<j<2131:\n",
        "                    (LAB_imgB101[i][j])"
      ],
      "execution_count": null,
      "outputs": []
    },
    {
      "cell_type": "code",
      "metadata": {
        "id": "WidbC_HBYlJl"
      },
      "source": [
        "for i in range(LAB_imgB103.shape[0]): \n",
        "     for j in range(LAB_imgB103.shape[1]): \n",
        "                if 1769<i<1881 and 2019<j<2131:\n",
        "                    (LAB_imgB103[i][j])"
      ],
      "execution_count": null,
      "outputs": []
    },
    {
      "cell_type": "code",
      "metadata": {
        "id": "YZEMk0iDYlMd"
      },
      "source": [
        "for i in range(LAB_imgB106.shape[0]): \n",
        "     for j in range(LAB_imgB106.shape[1]): \n",
        "                if 1769<i<1881 and 2019<j<2131:\n",
        "                    (LAB_imgB106[i][j])"
      ],
      "execution_count": null,
      "outputs": []
    },
    {
      "cell_type": "code",
      "metadata": {
        "id": "M-BrpISpYlPZ"
      },
      "source": [
        "for i in range(LAB_imgB109.shape[0]): \n",
        "     for j in range(LAB_imgB109.shape[1]): \n",
        "                if 1769<i<1881 and 2019<j<2131:\n",
        "                    (LAB_imgB109[i][j])"
      ],
      "execution_count": 23,
      "outputs": []
    },
    {
      "cell_type": "markdown",
      "metadata": {
        "id": "jzLmuoJFZahh"
      },
      "source": [
        "B2"
      ]
    },
    {
      "cell_type": "code",
      "metadata": {
        "id": "ISApcokmYOD-"
      },
      "source": [
        "for i in range(LAB_imgB201.shape[0]): \n",
        "     for j in range(LAB_imgB201.shape[1]): \n",
        "                if 1769<i<1881 and 2019<j<2131:\n",
        "                    (LAB_imgB201[i][j])"
      ],
      "execution_count": null,
      "outputs": []
    },
    {
      "cell_type": "code",
      "metadata": {
        "id": "XMbCYLNkYqVU"
      },
      "source": [
        "for i in range(LAB_imgB203.shape[0]): \n",
        "     for j in range(LAB_imgB203.shape[1]): \n",
        "                if 1769<i<1881 and 2019<j<2131:\n",
        "                    (LAB_imgB203[i][j])"
      ],
      "execution_count": null,
      "outputs": []
    },
    {
      "cell_type": "code",
      "metadata": {
        "id": "UMjikutfYqZo"
      },
      "source": [
        "for i in range(LAB_imgB206.shape[0]): \n",
        "     for j in range(LAB_imgB206.shape[1]): \n",
        "                if 1769<i<1881 and 2019<j<2131:\n",
        "                    (LAB_imgB206[i][j])"
      ],
      "execution_count": null,
      "outputs": []
    },
    {
      "cell_type": "code",
      "metadata": {
        "id": "05KbQOTpYqdN"
      },
      "source": [
        "for i in range(LAB_imgB209.shape[0]): \n",
        "     for j in range(LAB_imgB209.shape[1]): \n",
        "                if 1769<i<1881 and 2019<j<2131:\n",
        "                    (LAB_imgB209[i][j])"
      ],
      "execution_count": null,
      "outputs": []
    },
    {
      "cell_type": "markdown",
      "metadata": {
        "id": "dVAOT3ILZufF"
      },
      "source": [
        "B3"
      ]
    },
    {
      "cell_type": "code",
      "metadata": {
        "id": "45EROBTSYqgy"
      },
      "source": [
        "for i in range(LAB_imgB301.shape[0]): \n",
        "     for j in range(LAB_imgB301.shape[1]): \n",
        "                if 1769<i<1881 and 2019<j<2131:\n",
        "                    (LAB_imgB301[i][j])"
      ],
      "execution_count": null,
      "outputs": []
    },
    {
      "cell_type": "code",
      "metadata": {
        "id": "DYhdxgEvYtOe"
      },
      "source": [
        "for i in range(LAB_imgB303.shape[0]): \n",
        "     for j in range(LAB_imgB303.shape[1]): \n",
        "                if 1769<i<1881 and 2019<j<2131:\n",
        "                    (LAB_imgB303[i][j])"
      ],
      "execution_count": null,
      "outputs": []
    },
    {
      "cell_type": "code",
      "metadata": {
        "id": "iBn8Ee86YtSN"
      },
      "source": [
        "for i in range(LAB_imgB306.shape[0]): \n",
        "     for j in range(LAB_imgB306.shape[1]): \n",
        "                if 1769<i<1881 and 2019<j<2131:\n",
        "                    (LAB_imgB306[i][j])"
      ],
      "execution_count": null,
      "outputs": []
    },
    {
      "cell_type": "code",
      "metadata": {
        "id": "-UpBG5YcYtWO"
      },
      "source": [
        "for i in range(LAB_imgB309.shape[0]): \n",
        "     for j in range(LAB_imgB309.shape[1]): \n",
        "                if 1769<i<1881 and 2019<j<2131:\n",
        "                    (LAB_imgB309[i][j])"
      ],
      "execution_count": null,
      "outputs": []
    },
    {
      "cell_type": "markdown",
      "metadata": {
        "id": "n8l34NXEaZUh"
      },
      "source": [
        "B4"
      ]
    },
    {
      "cell_type": "code",
      "metadata": {
        "id": "u--4y7SEZ89r"
      },
      "source": [
        "for i in range(LAB_imgB401.shape[0]): \n",
        "     for j in range(LAB_imgB401.shape[1]): \n",
        "                if 1769<i<1881 and 2019<j<2131:\n",
        "                    (LAB_imgB401[i][j])"
      ],
      "execution_count": null,
      "outputs": []
    },
    {
      "cell_type": "code",
      "metadata": {
        "id": "Bf8WNtSzZ9HM"
      },
      "source": [
        "for i in range(LAB_imgB403.shape[0]): \n",
        "     for j in range(LAB_imgB403.shape[1]): \n",
        "                if 1769<i<1881 and 2019<j<2131:\n",
        "                    (LAB_imgB403[i][j])"
      ],
      "execution_count": null,
      "outputs": []
    },
    {
      "cell_type": "code",
      "metadata": {
        "id": "iweRb37oZ9Kp"
      },
      "source": [
        "for i in range(LAB_imgB406.shape[0]): \n",
        "     for j in range(LAB_imgB406.shape[1]): \n",
        "                if 1769<i<1881 and 2019<j<2131:\n",
        "                    (LAB_imgB406[i][j])"
      ],
      "execution_count": null,
      "outputs": []
    },
    {
      "cell_type": "code",
      "metadata": {
        "id": "52TlHkKbYtZn"
      },
      "source": [
        "for i in range(LAB_imgB409.shape[0]): \n",
        "     for j in range(LAB_imgB409.shape[1]): \n",
        "                if 1769<i<1881 and 2019<j<2131:\n",
        "                    (LAB_imgB409[i][j])"
      ],
      "execution_count": null,
      "outputs": []
    },
    {
      "cell_type": "markdown",
      "metadata": {
        "id": "FwhMIN3McK2U"
      },
      "source": [
        "C1"
      ]
    },
    {
      "cell_type": "code",
      "metadata": {
        "id": "3X2gZYEEYvkU"
      },
      "source": [
        "for i in range(LAB_imgC101.shape[0]): \n",
        "     for j in range(LAB_imgC101.shape[1]): \n",
        "                if 1769<i<1881 and 2019<j<2131:\n",
        "                    (LAB_imgC101[i][j])"
      ],
      "execution_count": null,
      "outputs": []
    },
    {
      "cell_type": "code",
      "metadata": {
        "id": "wSRQVdwlYv1q"
      },
      "source": [
        "for i in range(LAB_imgC103.shape[0]): \n",
        "     for j in range(LAB_imgC103.shape[1]): \n",
        "                if 1769<i<1881 and 2019<j<2131:\n",
        "                    (LAB_imgC103[i][j])"
      ],
      "execution_count": null,
      "outputs": []
    },
    {
      "cell_type": "code",
      "metadata": {
        "id": "myP20TllYv40"
      },
      "source": [
        "for i in range(LAB_imgC106.shape[0]): \n",
        "     for j in range(LAB_imgC106.shape[1]): \n",
        "                if 1769<i<1881 and 2019<j<2131:\n",
        "                    (LAB_imgC106[i][j])"
      ],
      "execution_count": null,
      "outputs": []
    },
    {
      "cell_type": "code",
      "metadata": {
        "id": "mquHqgu9Yv8j"
      },
      "source": [
        "for i in range(LAB_imgC109.shape[0]): \n",
        "     for j in range(LAB_imgC109.shape[1]): \n",
        "                if 1769<i<1881 and 2019<j<2131:\n",
        "                    (LAB_imgC109[i][j])"
      ],
      "execution_count": null,
      "outputs": []
    },
    {
      "cell_type": "markdown",
      "metadata": {
        "id": "q-NPG0KxceQB"
      },
      "source": [
        "C2"
      ]
    },
    {
      "cell_type": "code",
      "metadata": {
        "id": "M8aOXk85YwAk"
      },
      "source": [
        "for i in range(LAB_imgC201.shape[0]): \n",
        "     for j in range(LAB_imgC201.shape[1]): \n",
        "                if 1769<i<1881 and 2019<j<2131:\n",
        "                    (LAB_imgC201[i][j])"
      ],
      "execution_count": null,
      "outputs": []
    },
    {
      "cell_type": "code",
      "metadata": {
        "id": "miGu2fwXaCHo"
      },
      "source": [
        "for i in range(LAB_imgC203.shape[0]): \n",
        "     for j in range(LAB_imgC203.shape[1]): \n",
        "                if 1769<i<1881 and 2019<j<2131:\n",
        "                    (LAB_imgC203[i][j])"
      ],
      "execution_count": null,
      "outputs": []
    },
    {
      "cell_type": "code",
      "metadata": {
        "id": "UoY23xovaDf2"
      },
      "source": [
        "for i in range(LAB_imgC206.shape[0]): \n",
        "     for j in range(LAB_imgC206.shape[1]): \n",
        "                if 1769<i<1881 and 2019<j<2131:\n",
        "                    (LAB_imgC206[i][j])"
      ],
      "execution_count": null,
      "outputs": []
    },
    {
      "cell_type": "code",
      "metadata": {
        "id": "MdwsPLUiaDrX"
      },
      "source": [
        "for i in range(LAB_imgC209.shape[0]): \n",
        "     for j in range(LAB_imgC209.shape[1]): \n",
        "                if 1769<i<1881 and 2019<j<2131:\n",
        "                    (LAB_imgC209[i][j])"
      ],
      "execution_count": null,
      "outputs": []
    },
    {
      "cell_type": "markdown",
      "metadata": {
        "id": "j8-nPS58czp1"
      },
      "source": [
        "C3"
      ]
    },
    {
      "cell_type": "code",
      "metadata": {
        "id": "gm9uPgEMaCLV"
      },
      "source": [
        "for i in range(LAB_imgC301.shape[0]): \n",
        "     for j in range(LAB_imgC301.shape[1]): \n",
        "                if 1769<i<1881 and 2019<j<2131:\n",
        "                    (LAB_imgC301[i][j])"
      ],
      "execution_count": null,
      "outputs": []
    },
    {
      "cell_type": "code",
      "metadata": {
        "id": "-LWREJqWaCOn"
      },
      "source": [
        "for i in range(LAB_imgC303.shape[0]): \n",
        "     for j in range(LAB_imgC303.shape[1]): \n",
        "                if 1769<i<1881 and 2019<j<2131:\n",
        "                    (LAB_imgC303[i][j])"
      ],
      "execution_count": null,
      "outputs": []
    },
    {
      "cell_type": "code",
      "metadata": {
        "id": "wZ0ZHDcSc6RB"
      },
      "source": [
        "for i in range(LAB_imgC306.shape[0]): \n",
        "     for j in range(LAB_imgC306.shape[1]): \n",
        "                if 1769<i<1881 and 2019<j<2131:\n",
        "                    (LAB_imgC306[i][j])"
      ],
      "execution_count": null,
      "outputs": []
    },
    {
      "cell_type": "code",
      "metadata": {
        "id": "6R9At9-Ac6U0"
      },
      "source": [
        "for i in range(LAB_imgC309.shape[0]): \n",
        "     for j in range(LAB_imgC309.shape[1]): \n",
        "                if 1769<i<1881 and 2019<j<2131:\n",
        "                    (LAB_imgC309[i][j])"
      ],
      "execution_count": null,
      "outputs": []
    },
    {
      "cell_type": "markdown",
      "metadata": {
        "id": "Rk7J8f68dWlg"
      },
      "source": [
        "C4"
      ]
    },
    {
      "cell_type": "code",
      "metadata": {
        "id": "aaYlsx8mc6Y8"
      },
      "source": [
        "for i in range(LAB_imgC401.shape[0]): \n",
        "     for j in range(LAB_imgC401.shape[1]): \n",
        "                if 1769<i<1881 and 2019<j<2131:\n",
        "                    (LAB_imgC401[i][j])"
      ],
      "execution_count": null,
      "outputs": []
    },
    {
      "cell_type": "code",
      "metadata": {
        "id": "ayB7drjhc6dh"
      },
      "source": [
        "for i in range(LAB_img.shape[0]): \n",
        "     for j in range(LAB_img.shape[1]): \n",
        "                if 1769<i<1881 and 2019<j<2131:\n",
        "                    (LAB_img[i][j])"
      ],
      "execution_count": null,
      "outputs": []
    },
    {
      "cell_type": "code",
      "metadata": {
        "id": "n7M8vbtKc6hd"
      },
      "source": [
        "for i in range(LAB_imgC403.shape[0]): \n",
        "     for j in range(LAB_imgC403.shape[1]): \n",
        "                if 1769<i<1881 and 2019<j<2131:\n",
        "                    (LAB_imgC403[i][j])"
      ],
      "execution_count": null,
      "outputs": []
    },
    {
      "cell_type": "code",
      "metadata": {
        "id": "Z0_YeHeMc6mR"
      },
      "source": [
        "for i in range(LAB_imgC406.shape[0]): \n",
        "     for j in range(LAB_imgC406.shape[1]): \n",
        "                if 1769<i<1881 and 2019<j<2131:\n",
        "                    (LAB_imgC406[i][j])"
      ],
      "execution_count": null,
      "outputs": []
    },
    {
      "cell_type": "code",
      "metadata": {
        "id": "GFc1Y23Jc6p-"
      },
      "source": [
        "for i in range(LAB_imgC409.shape[0]): \n",
        "     for j in range(LAB_imgC409.shape[1]): \n",
        "                if 1769<i<1881 and 2019<j<2131:\n",
        "                    (LAB_imgC409[i][j])"
      ],
      "execution_count": null,
      "outputs": []
    },
    {
      "cell_type": "markdown",
      "metadata": {
        "id": "91zQfNo9dtZ9"
      },
      "source": [
        "D1"
      ]
    },
    {
      "cell_type": "code",
      "metadata": {
        "id": "ScPaRq3Gc6ut"
      },
      "source": [
        "for i in range(LAB_imgD101.shape[0]): \n",
        "     for j in range(LAB_imgD101.shape[1]): \n",
        "                if 1769<i<1881 and 2019<j<2131:\n",
        "                    (LAB_imgD101[i][j])"
      ],
      "execution_count": null,
      "outputs": []
    },
    {
      "cell_type": "code",
      "metadata": {
        "id": "yJs6oSDoc6yj"
      },
      "source": [
        "for i in range(LAB_imgD103.shape[0]): \n",
        "     for j in range(LAB_imgD103.shape[1]): \n",
        "                if 1769<i<1881 and 2019<j<2131:\n",
        "                    (LAB_imgD103[i][j])"
      ],
      "execution_count": null,
      "outputs": []
    },
    {
      "cell_type": "code",
      "metadata": {
        "id": "x0xCYNIDdz2W"
      },
      "source": [
        "for i in range(LAB_imgD106.shape[0]): \n",
        "     for j in range(LAB_imgD106.shape[1]): \n",
        "                if 1769<i<1881 and 2019<j<2131:\n",
        "                    (LAB_imgD106[i][j])"
      ],
      "execution_count": null,
      "outputs": []
    },
    {
      "cell_type": "code",
      "metadata": {
        "id": "7gH6v0aedz6p"
      },
      "source": [
        "for i in range(LAB_imgD109.shape[0]): \n",
        "     for j in range(LAB_imgD109.shape[1]): \n",
        "                if 1769<i<1881 and 2019<j<2131:\n",
        "                    (LAB_imgD109[i][j])"
      ],
      "execution_count": null,
      "outputs": []
    },
    {
      "cell_type": "markdown",
      "metadata": {
        "id": "iTXkRt_BeST-"
      },
      "source": [
        "D2"
      ]
    },
    {
      "cell_type": "code",
      "metadata": {
        "id": "tfcKm3JIdz-X"
      },
      "source": [
        "for i in range(LAB_imgD201.shape[0]): \n",
        "     for j in range(LAB_imgD201.shape[1]): \n",
        "                if 1769<i<1881 and 2019<j<2131:\n",
        "                    (LAB_imgD201[i][j])"
      ],
      "execution_count": null,
      "outputs": []
    },
    {
      "cell_type": "code",
      "metadata": {
        "id": "KqxbErd5d0CR"
      },
      "source": [
        "for i in range(LAB_imgD203.shape[0]): \n",
        "     for j in range(LAB_imgD203.shape[1]): \n",
        "                if 1769<i<1881 and 2019<j<2131:\n",
        "                    (LAB_imgD203[i][j])"
      ],
      "execution_count": null,
      "outputs": []
    },
    {
      "cell_type": "code",
      "metadata": {
        "id": "ib1lovD3d0Fa"
      },
      "source": [
        "for i in range(LAB_imgD206.shape[0]): \n",
        "     for j in range(LAB_imgD206.shape[1]): \n",
        "                if 1769<i<1881 and 2019<j<2131:\n",
        "                    (LAB_imgD206[i][j])"
      ],
      "execution_count": null,
      "outputs": []
    },
    {
      "cell_type": "code",
      "metadata": {
        "id": "LLlGU0sOd0Iz"
      },
      "source": [
        "for i in range(LAB_imgD209.shape[0]): \n",
        "     for j in range(LAB_imgD209.shape[1]): \n",
        "                if 1769<i<1881 and 2019<j<2131:\n",
        "                    (LAB_imgD209[i][j])"
      ],
      "execution_count": null,
      "outputs": []
    },
    {
      "cell_type": "markdown",
      "metadata": {
        "id": "w0PGqbMEenKT"
      },
      "source": [
        "D3"
      ]
    },
    {
      "cell_type": "code",
      "metadata": {
        "id": "WKOf6TQxd0Mz"
      },
      "source": [
        "for i in range(LAB_imgD301.shape[0]): \n",
        "     for j in range(LAB_imgD301.shape[1]): \n",
        "                if 1769<i<1881 and 2019<j<2131:\n",
        "                    (LAB_imgD301[i][j])"
      ],
      "execution_count": null,
      "outputs": []
    },
    {
      "cell_type": "code",
      "metadata": {
        "id": "5pFBZMbueqS2"
      },
      "source": [
        "for i in range(LAB_imgD303.shape[0]): \n",
        "     for j in range(LAB_imgD303.shape[1]): \n",
        "                if 1769<i<1881 and 2019<j<2131:\n",
        "                    (LAB_imgD303[i][j])"
      ],
      "execution_count": null,
      "outputs": []
    },
    {
      "cell_type": "code",
      "metadata": {
        "id": "om8u96GseqdB"
      },
      "source": [
        "for i in range(LAB_imgD306.shape[0]): \n",
        "     for j in range(LAB_imgD306.shape[1]): \n",
        "                if 1769<i<1881 and 2019<j<2131:\n",
        "                    (LAB_imgD306[i][j])"
      ],
      "execution_count": null,
      "outputs": []
    },
    {
      "cell_type": "code",
      "metadata": {
        "id": "kIwYzU7Leqnk"
      },
      "source": [
        "for i in range(LAB_imgD309.shape[0]): \n",
        "     for j in range(LAB_imgD309.shape[1]): \n",
        "                if 1769<i<1881 and 2019<j<2131:\n",
        "                    (LAB_imgD309[i][j])"
      ],
      "execution_count": null,
      "outputs": []
    },
    {
      "cell_type": "markdown",
      "metadata": {
        "id": "eMW0oNwAfAgS"
      },
      "source": [
        "D4"
      ]
    },
    {
      "cell_type": "code",
      "metadata": {
        "id": "bgqXFOvAeq2q"
      },
      "source": [
        "for i in range(LAB_imgD401.shape[0]): \n",
        "     for j in range(LAB_imgD401.shape[1]): \n",
        "                if 1769<i<1881 and 2019<j<2131:\n",
        "                    (LAB_imgD401[i][j])"
      ],
      "execution_count": null,
      "outputs": []
    },
    {
      "cell_type": "code",
      "metadata": {
        "id": "XdE1WCXJerGR"
      },
      "source": [
        "for i in range(LAB_imgD403.shape[0]): \n",
        "     for j in range(LAB_imgD403.shape[1]): \n",
        "                if 1769<i<1881 and 2019<j<2131:\n",
        "                    (LAB_imgD403[i][j])"
      ],
      "execution_count": null,
      "outputs": []
    },
    {
      "cell_type": "code",
      "metadata": {
        "id": "lwDvTEX_erQk"
      },
      "source": [
        "for i in range(LAB_imgD406.shape[0]): \n",
        "     for j in range(LAB_imgD406.shape[1]): \n",
        "                if 1769<i<1881 and 2019<j<2131:\n",
        "                    (LAB_imgD406[i][j])"
      ],
      "execution_count": null,
      "outputs": []
    },
    {
      "cell_type": "code",
      "metadata": {
        "id": "aPKerZBWerbU"
      },
      "source": [
        "for i in range(LAB_imgD409.shape[0]): \n",
        "     for j in range(LAB_imgD409.shape[1]): \n",
        "                if 1769<i<1881 and 2019<j<2131:\n",
        "                    (LAB_imgD409[i][j])"
      ],
      "execution_count": null,
      "outputs": []
    },
    {
      "cell_type": "markdown",
      "metadata": {
        "id": "Xbh-78KmfjcA"
      },
      "source": [
        "#6. หาค่า Mean"
      ]
    },
    {
      "cell_type": "code",
      "metadata": {
        "id": "an25Qt8vflu2"
      },
      "source": [
        "import numpy as np"
      ],
      "execution_count": null,
      "outputs": []
    },
    {
      "cell_type": "markdown",
      "metadata": {
        "id": "UbQykc5egT8G"
      },
      "source": [
        "A1"
      ]
    },
    {
      "cell_type": "code",
      "metadata": {
        "id": "MhRMIs56gTBn"
      },
      "source": [
        "meanA101 = list() \n",
        "for i in range(LAB_imgA101.shape[0]): #ให้ i รันตาม row หรือ shape[0] คือแถว มีทั้งหมด 4032 แถว ของภาพที่ปรับขนาดมาแล้ว\n",
        "     for j in range(LAB_imgA101.shape[1]): #ให้ j รันตาม colum มีทั้งหมด 3024 colum เช่น แถวที่ 1 เข้ามาให้รันครบ 3024colum\n",
        "                if 1769<i<1881 and 2019<j<2131 :\n",
        "                    meanA101.append(LAB_imgA101[i][j])\n",
        "meanA101 = np.array(meanA101)\n",
        "\n",
        "labA101= list()\n",
        "for i in range(3):\n",
        "    labA101.append(meanA101[:,i].mean())\n",
        "labA101"
      ],
      "execution_count": null,
      "outputs": []
    },
    {
      "cell_type": "code",
      "metadata": {
        "id": "w_ttKP97fpfy"
      },
      "source": [
        "meanA103 = list() \n",
        "for i in range(LAB_imgA103.shape[0]): \n",
        "     for j in range(LAB_imgA103.shape[1]): \n",
        "                if 1769<i<1881 and 2019<j<2131 :\n",
        "                    meanA103.append(LAB_imgA103[i][j])\n",
        "meanA103= np.array(meanA103)\n",
        "\n",
        "labA103= list()\n",
        "for i in range(3):\n",
        "    labA103.append(meanA103[:,i].mean())\n",
        "labA103"
      ],
      "execution_count": null,
      "outputs": []
    },
    {
      "cell_type": "code",
      "metadata": {
        "id": "KfRSnXUBfpjh"
      },
      "source": [
        "meanA106 = list() \n",
        "for i in range(LAB_imgA106.shape[0]): \n",
        "     for j in range(LAB_imgA106.shape[1]): \n",
        "                if 1769<i<1881 and 2019<j<2131 :\n",
        "                    meanA106.append(LAB_imgA106[i][j])\n",
        "meanA106= np.array(meanA106)\n",
        "\n",
        "labA106= list()\n",
        "for i in range(3):\n",
        "    labA106.append(meanA106[:,i].mean())\n",
        "labA106"
      ],
      "execution_count": null,
      "outputs": []
    },
    {
      "cell_type": "code",
      "metadata": {
        "id": "yDJIXsmjfpor"
      },
      "source": [
        "meanA109 = list() \n",
        "for i in range(LAB_imgA109.shape[0]): \n",
        "     for j in range(LAB_imgA109.shape[1]): \n",
        "                if 1769<i<1881 and 2019<j<2131 :\n",
        "                    meanA109.append(LAB_imgA109[i][j])\n",
        "meanA109= np.array(meanA109)\n",
        "\n",
        "labA109= list()\n",
        "for i in range(3):\n",
        "    labA109.append(meanA109[:,i].mean())\n",
        "labA109"
      ],
      "execution_count": null,
      "outputs": []
    },
    {
      "cell_type": "markdown",
      "metadata": {
        "id": "Xyd5X7owjor6"
      },
      "source": [
        "A2"
      ]
    },
    {
      "cell_type": "code",
      "metadata": {
        "id": "2G26lJP6hJFw"
      },
      "source": [
        "meanA201 = list() \n",
        "for i in range(LAB_imgA201.shape[0]): \n",
        "     for j in range(LAB_imgA201.shape[1]): \n",
        "                if 1769<i<1881 and 2019<j<2131 :\n",
        "                    meanA201.append(LAB_imgA201[i][j])\n",
        "meanA201= np.array(meanA201)\n",
        "\n",
        "labA201= list()\n",
        "for i in range(3):\n",
        "    lab.appendA201(mean[:,i].mean())\n",
        "labA201"
      ],
      "execution_count": null,
      "outputs": []
    },
    {
      "cell_type": "code",
      "metadata": {
        "id": "b7Ey0OYkhTIR"
      },
      "source": [
        "meanA203 = list() \n",
        "for i in range(LAB_imgA203 .shape[0]): \n",
        "     for j in range(LAB_imgA203 .shape[1]): \n",
        "                if 1769<i<1881 and 2019<j<2131 :\n",
        "                    meanA203 .append(LAB_imgA203 [i][j])\n",
        "meanA203 = np.array(meanA203 )\n",
        "\n",
        "labA203 = list()\n",
        "for i in range(3):\n",
        "    labA203 .append(meanA203 [:,i].mean())\n",
        "labA203 "
      ],
      "execution_count": null,
      "outputs": []
    },
    {
      "cell_type": "code",
      "metadata": {
        "id": "n29NYc1YhTNR"
      },
      "source": [
        "meanA206 = list() \n",
        "for i in range(LAB_imgA206.shape[0]): \n",
        "     for j in range(LAB_imgA206.shape[1]): \n",
        "                if 1769<i<1881 and 2019<j<2131 :\n",
        "                    meanA206.append(LAB_imgA206[i][j])\n",
        "meanA206= np.array(meanA206)\n",
        "\n",
        "labA206= list()\n",
        "for i in range(3):\n",
        "    labA206.append(meanA206[:,i].mean())\n",
        "labA206"
      ],
      "execution_count": null,
      "outputs": []
    },
    {
      "cell_type": "code",
      "metadata": {
        "id": "4-IMfgNEhTQo"
      },
      "source": [
        "meanA209 = list() \n",
        "for i in range(LAB_imgA209.shape[0]): \n",
        "     for j in range(LAB_imgA209.shape[1]): \n",
        "                if 1769<i<1881 and 2019<j<2131 :\n",
        "                    meanA209.append(LAB_imgA209[i][j])\n",
        "meanA209= np.array(meanA209)\n",
        "\n",
        "labA209= list()\n",
        "for i in range(3):\n",
        "    labA209.appendA209(mean[:,i].mean())\n",
        "labA209"
      ],
      "execution_count": null,
      "outputs": []
    },
    {
      "cell_type": "markdown",
      "metadata": {
        "id": "ntEA8dLMkUfm"
      },
      "source": [
        "A3"
      ]
    },
    {
      "cell_type": "code",
      "metadata": {
        "id": "iGoe-zPxhTUL"
      },
      "source": [
        "meanA301 = list() \n",
        "for i in range(LAB_imgA301.shape[0]): \n",
        "     for j in range(LAB_imgA301.shape[1]): \n",
        "                if 1769<i<1881 and 2019<j<2131 :\n",
        "                    meanA301.append(LAB_imgA301[i][j])\n",
        "meanA301= np.array(meanA301)\n",
        "\n",
        "labA301= list()\n",
        "for i in range(3):\n",
        "    labA301.append(meanA301[:,i].mean())\n",
        "labA301"
      ],
      "execution_count": null,
      "outputs": []
    },
    {
      "cell_type": "code",
      "metadata": {
        "id": "8y4o77DnjiuL"
      },
      "source": [
        "meanA303 = list() \n",
        "for i in range(LAB_imgA303.shape[0]): \n",
        "     for j in range(LAB_imA303.shape[1]): \n",
        "                if 1769<i<1881 and 2019<j<2131 :\n",
        "                    meanA303.append(LAB_imgA303[i][j])\n",
        "meanA303= np.array(meanA303)\n",
        "\n",
        "labA303= list()\n",
        "for i in range(3):\n",
        "    labA303.append(meanA303[:,i].mean())\n",
        "labA303"
      ],
      "execution_count": null,
      "outputs": []
    },
    {
      "cell_type": "code",
      "metadata": {
        "id": "Hbaj2lYbjiyf"
      },
      "source": [
        "meanA306 = list() \n",
        "for i in range(LAB_imgA306 .shape[0]): \n",
        "     for j in range(LAB_imgA306 .shape[1]): \n",
        "                if 1769<i<1881 and 2019<j<2131 :\n",
        "                    meanA306 .append(LAB_imgA306 [i][j])\n",
        "meanA306 = np.array(meanA306 )\n",
        "\n",
        "labA306 = list()\n",
        "for i in range(3):\n",
        "    labA306 .append(meanA306 [:,i].mean())\n",
        "labA306 "
      ],
      "execution_count": null,
      "outputs": []
    },
    {
      "cell_type": "code",
      "metadata": {
        "id": "-HzsZSW1ji2S"
      },
      "source": [
        "meanA309 = list() \n",
        "for i in range(LAB_imgA309.shape[0]): \n",
        "     for j in range(LAB_imgA309.shape[1]): \n",
        "                if 1769<i<1881 and 2019<j<2131 :\n",
        "                    meanA309.append(LAB_imgA309[i][j])\n",
        "meanA309= np.array(meanA309)\n",
        "\n",
        "labA309= list()\n",
        "for i in range(3):\n",
        "    labA309.append(meanA309[:,i].mean())\n",
        "labA309"
      ],
      "execution_count": null,
      "outputs": []
    },
    {
      "cell_type": "markdown",
      "metadata": {
        "id": "txZ0lOWClUA2"
      },
      "source": [
        "A3_5"
      ]
    },
    {
      "cell_type": "code",
      "metadata": {
        "id": "8R5CVYFjk3aj"
      },
      "source": [
        "meanA3_501= list() \n",
        "for i in range(LAB_imgA3_501.shape[0]): \n",
        "     for j in range(LAB_imgA3_501.shape[1]): \n",
        "                if 1769<i<1881 and 2019<j<2131 :\n",
        "                    meanA3_501.append(LAB_imgA3_501[i][j])\n",
        "meanA3_501= np.array(meanA3_501)\n",
        "\n",
        "labA3_501 list()\n",
        "for i in range(3):\n",
        "    labA3_501.append(meanA3_501[:,i].mean())\n",
        "labA3_501"
      ],
      "execution_count": null,
      "outputs": []
    },
    {
      "cell_type": "code",
      "metadata": {
        "id": "fqBDr1Vdk3ez"
      },
      "source": [
        "meanA3_503 = list() \n",
        "for i in range(LAB_imgA3_503.shape[0]): \n",
        "     for j in range(LAB_imgA3_503.shape[1]): \n",
        "                if 1769<i<1881 and 2019<j<2131 :\n",
        "                    meanA3_503.append(LAB_imgA3_503[i][j])\n",
        "meanA3_503= np.array(meanA3_503)\n",
        "\n",
        "labA3_503= list()\n",
        "for i in range(3):\n",
        "    labA3_503.append(meanA3_503[:,i].mean())\n",
        "labA3_503"
      ],
      "execution_count": null,
      "outputs": []
    },
    {
      "cell_type": "code",
      "metadata": {
        "id": "gTFA13ePk3js"
      },
      "source": [
        "meanA3_506 = list() \n",
        "for i in range(LAB_imgA3_506.shape[0]): \n",
        "     for j in range(LAB_imgA3_506.shape[1]): \n",
        "                if 1769<i<1881 and 2019<j<2131 :\n",
        "                    meanA3_506.append(LAB_imgA3_506[i][j])\n",
        "meanA3_506= np.array(meanA3_506)\n",
        "\n",
        "labA3_506= list()\n",
        "for i in range(3):\n",
        "    labA3_506.append(meaA3_506[:,i].mean())\n",
        "labA3_506"
      ],
      "execution_count": null,
      "outputs": []
    },
    {
      "cell_type": "code",
      "metadata": {
        "id": "3ROIPUabk3nt"
      },
      "source": [
        "meanA3_509 = list() \n",
        "for i in range(LAB_imgA3_509 .shape[0]): \n",
        "     for j in range(LAB_imgA3_509 .shape[1]): \n",
        "                if 1769<i<1881 and 2019<j<2131 :\n",
        "                    meanA3_509 .append(LAB_imgA3_509 [i][j])\n",
        "meanA3_509 = np.array(meanA3_509 )\n",
        "\n",
        "labA3_509 = list()\n",
        "for i in range(3):\n",
        "    labA3_509 .append(meanA3_509 [:,i].mean())\n",
        "labA3_509 "
      ],
      "execution_count": null,
      "outputs": []
    },
    {
      "cell_type": "markdown",
      "metadata": {
        "id": "LM4taTKpmAex"
      },
      "source": [
        "B1"
      ]
    },
    {
      "cell_type": "code",
      "metadata": {
        "id": "Q2nlCyskk3ri"
      },
      "source": [
        "meanB101 = list() \n",
        "for i in range(LAB_imgB101.shape[0]): \n",
        "     for j in range(LAB_imgB101.shape[1]): \n",
        "                if 1769<i<1881 and 2019<j<2131 :\n",
        "                    meanB101.append(LAB_imgB101[i][j])\n",
        "meanB101= np.array(meanB101)\n",
        "\n",
        "labB101= list()\n",
        "for i in range(3):\n",
        "    labB101.append(meanB101[:,i].mean())\n",
        "labB101"
      ],
      "execution_count": null,
      "outputs": []
    },
    {
      "cell_type": "code",
      "metadata": {
        "id": "e1luBZMUk3w4"
      },
      "source": [
        "meanB103 = list() \n",
        "for i in range(LAB_imgB103.shape[0]): \n",
        "     for j in range(LAB_imgB103.shape[1]): \n",
        "                if 1769<i<1881 and 2019<j<2131 :\n",
        "                    meanB103.append(LAB_imgB103[i][j])\n",
        "meanB103= np.array(meanB103)\n",
        "\n",
        "labB103= list()\n",
        "for i in range(3):\n",
        "    labB103.append(meanB103[:,i].mean())\n",
        "labB103"
      ],
      "execution_count": null,
      "outputs": []
    },
    {
      "cell_type": "code",
      "metadata": {
        "id": "EV4pus9Nk30o"
      },
      "source": [
        "meanB106= list() \n",
        "for i in range(LAB_imgB106.shape[0]): \n",
        "     for j in range(LAB_imgB106.shape[1]): \n",
        "                if 1769<i<1881 and 2019<j<2131 :\n",
        "                    meanB106.append(LAB_imgB106[i][j])\n",
        "meanB106= np.array(meanB106)\n",
        "\n",
        "labB106= list()\n",
        "for i in range(3):\n",
        "    labB106.append(meanB106[:,i].mean())\n",
        "labB106"
      ],
      "execution_count": null,
      "outputs": []
    },
    {
      "cell_type": "code",
      "metadata": {
        "id": "jnU3q3Z-k34Q"
      },
      "source": [
        "meanB109 = list() \n",
        "for i in range(LAB_imgB109.shape[0]): \n",
        "     for j in range(LAB_imgB109.shape[1]): \n",
        "                if 1769<i<1881 and 2019<j<2131 :\n",
        "                    meanB109.append(LAB_imgB109[i][j])\n",
        "meanB109= np.array(meanB109)\n",
        "\n",
        "labB109= list()\n",
        "for i in range(3):\n",
        "    labB109.append(meanB109[:,i].mean())\n",
        "labB109"
      ],
      "execution_count": null,
      "outputs": []
    },
    {
      "cell_type": "markdown",
      "metadata": {
        "id": "oBvA_azRmyBb"
      },
      "source": [
        "B2"
      ]
    },
    {
      "cell_type": "code",
      "metadata": {
        "id": "UkvIQKhGmu8T"
      },
      "source": [
        "meanB201= list() \n",
        "for i in range(LAB_imgB201.shape[0]): \n",
        "     for j in range(LAB_imgB201.shape[1]): \n",
        "                if 1769<i<1881 and 2019<j<2131 :\n",
        "                    meanB201.append(LAB_imgB201[i][j])\n",
        "meanB201= np.array(meanB201)\n",
        "\n",
        "labB201= list()\n",
        "for i in range(3):\n",
        "    labB201.append(meanB201[:,i].mean())\n",
        "labB201"
      ],
      "execution_count": null,
      "outputs": []
    },
    {
      "cell_type": "code",
      "metadata": {
        "id": "yzwqLA9ImvAy"
      },
      "source": [
        "meanB203= list() \n",
        "for i in range(LAB_imgB203.shape[0]): \n",
        "     for j in range(LAB_imgB203.shape[1]): \n",
        "                if 1769<i<1881 and 2019<j<2131 :\n",
        "                    meanB203.append(LAB_imgB203[i][j])\n",
        "meanB203= np.array(meanB203)\n",
        "\n",
        "labB203= list()\n",
        "for i in range(3):\n",
        "    labB203.append(meanB203[:,i].mean())\n",
        "labB203"
      ],
      "execution_count": null,
      "outputs": []
    },
    {
      "cell_type": "code",
      "metadata": {
        "id": "rYCpvrlFmvF9"
      },
      "source": [
        "meanB206= list() \n",
        "for i in range(LAB_imgB206.shape[0]): \n",
        "     for j in range(LAB_imgB206.shape[1]): \n",
        "                if 1769<i<1881 and 2019<j<2131 :\n",
        "                    meanB206.append(LAB_imgB206[i][j])\n",
        "meanB206= np.array(meanB206)\n",
        "\n",
        "labB206= list()\n",
        "for i in range(3):\n",
        "    labB206.append(meanB206[:,i].mean())\n",
        "labB206"
      ],
      "execution_count": null,
      "outputs": []
    },
    {
      "cell_type": "code",
      "metadata": {
        "id": "2m4v4e1bmvKC"
      },
      "source": [
        "meanB209= list() \n",
        "for i in range(LAB_imgB209.shape[0]): \n",
        "     for j in range(LAB_imgB209.shape[1]): \n",
        "                if 1769<i<1881 and 2019<j<2131 :\n",
        "                    meanB209.append(LAB_imgB209[i][j])\n",
        "meanB209= np.array(meanB209)\n",
        "\n",
        "labB209= list()\n",
        "for i in range(3):\n",
        "    labB209.append(meanB209[:,i].mean())\n",
        "labB209"
      ],
      "execution_count": null,
      "outputs": []
    },
    {
      "cell_type": "markdown",
      "metadata": {
        "id": "lUOybhjbohdF"
      },
      "source": [
        "B3"
      ]
    },
    {
      "cell_type": "code",
      "metadata": {
        "id": "k1MIMk4hnnIH"
      },
      "source": [
        "meanB301= list() \n",
        "for i in range(LAB_imgB301.shape[0]): \n",
        "     for j in range(LAB_imgB301.shape[1]): \n",
        "                if 1769<i<1881 and 2019<j<2131 :\n",
        "                    meanB301.append(LAB_imgB301[i][j])\n",
        "meanB301= np.array(meanB301)\n",
        "\n",
        "labB301= list()\n",
        "for i in range(3):\n",
        "    labB301.append(meanB301[:,i].mean())\n",
        "labB301"
      ],
      "execution_count": null,
      "outputs": []
    },
    {
      "cell_type": "code",
      "metadata": {
        "id": "PmEhZIIinnL-"
      },
      "source": [
        "meanB303= list() \n",
        "for i in range(LAB_img.shapeB303[0]): \n",
        "     for j in range(LAB_imgB303.shape[1]): \n",
        "                if 1769<i<1881 and 2019<j<2131 :\n",
        "                    meanB303.append(LAB_imgB303[i][j])\n",
        "meanB303= np.array(meanB303)\n",
        "\n",
        "labB303= list()\n",
        "for i in range(3):\n",
        "    labB303.append(meanB303[:,i].mean())\n",
        "labB303"
      ],
      "execution_count": null,
      "outputs": []
    },
    {
      "cell_type": "code",
      "metadata": {
        "id": "mB8897x1nnQD"
      },
      "source": [
        "meanB306= list() \n",
        "for i in range(LAB_imgB306.shape[0]): \n",
        "     for j in range(LAB_imgB306.shape[1]): \n",
        "                if 1769<i<1881 and 2019<j<2131 :\n",
        "                    meanB306.append(LAB_imgB306[i][j])\n",
        "meanB306= np.array(meanB306)\n",
        "\n",
        "labB306= list()\n",
        "for i in range(3):\n",
        "    labB306.append(meanB306[:,i].mean())\n",
        "labB306"
      ],
      "execution_count": null,
      "outputs": []
    },
    {
      "cell_type": "code",
      "metadata": {
        "id": "tyNE8KzCnnUk"
      },
      "source": [
        "meanB309= list() \n",
        "for i in range(LAB_imgB309.shape[0]): \n",
        "     for j in range(LAB_imgB309.shape[1]): \n",
        "                if 1769<i<1881 and 2019<j<2131 :\n",
        "                    mean.append(LAB_imgB309[i][j])\n",
        "meanB309= np.array(meanB309)\n",
        "\n",
        "labB309= list()\n",
        "for i in range(3):\n",
        "    labB309.append(meanB309[:,i].mean())\n",
        "labB309"
      ],
      "execution_count": null,
      "outputs": []
    },
    {
      "cell_type": "markdown",
      "metadata": {
        "id": "J6NXysTzpRGJ"
      },
      "source": [
        "B4"
      ]
    },
    {
      "cell_type": "code",
      "metadata": {
        "id": "XgANtQJxnnYk"
      },
      "source": [
        "meanB401= list() \n",
        "for i in range(LAB_imgB401.shape[0]): \n",
        "     for j in range(LAB_imgB401.shape[1]): \n",
        "                if 1769<i<1881 and 2019<j<2131 :\n",
        "                    meanB401.append(LAB_imgB401[i][j])\n",
        "meanB401= np.array(meanB401)\n",
        "\n",
        "labB401= list()\n",
        "for i in range(3):\n",
        "    labB401.append(meanB401[:,i].mean())\n",
        "labB401"
      ],
      "execution_count": null,
      "outputs": []
    },
    {
      "cell_type": "code",
      "metadata": {
        "id": "hpkpxJIvnncj"
      },
      "source": [
        "meanB403= list() \n",
        "for i in range(LAB_imgB403.shape[0]): \n",
        "     for j in range(LAB_imgB403.shape[1]): \n",
        "                if 1769<i<1881 and 2019<j<2131 :\n",
        "                    meanB403.append(LAB_imgB403[i][j])\n",
        "meanB403= np.array(meanB403)\n",
        "\n",
        "labB403= list()\n",
        "for i in range(3):\n",
        "    labB403.append(meanB403[:,i].mean())\n",
        "labB403"
      ],
      "execution_count": null,
      "outputs": []
    },
    {
      "cell_type": "code",
      "metadata": {
        "id": "lTNkAoe6nnhF"
      },
      "source": [
        "meanB406= list() \n",
        "for i in range(LAB_imgB406.shape[0]): \n",
        "     for j in range(LAB_imgB406.shape[1]): \n",
        "                if 1769<i<1881 and 2019<j<2131 :\n",
        "                    meanB406.append(LAB_imgB406[i][j])\n",
        "meanB406= np.array(meanB406)\n",
        "\n",
        "labB406= list()\n",
        "for i in range(3):\n",
        "    labB406.append(meanB406[:,i].mean())\n",
        "labB406"
      ],
      "execution_count": null,
      "outputs": []
    },
    {
      "cell_type": "code",
      "metadata": {
        "id": "4_pAZQvKqIzz"
      },
      "source": [
        "meanB409= list() \n",
        "for i in range(LAB_imgB409.shape[0]): \n",
        "     for j in range(LAB_imgB409.shape[1]): \n",
        "                if 1769<i<1881 and 2019<j<2131 :\n",
        "                    meanB409.append(LAB_imgB409[i][j])\n",
        "meanB409= np.array(meanB409)\n",
        "\n",
        "labB409= list()\n",
        "for i in range(3):\n",
        "    labB409.append(meanB409[:,i].mean())\n",
        "labB409"
      ],
      "execution_count": null,
      "outputs": []
    },
    {
      "cell_type": "markdown",
      "metadata": {
        "id": "hHL7QkyAqTVG"
      },
      "source": [
        "C1"
      ]
    },
    {
      "cell_type": "code",
      "metadata": {
        "id": "_REyRTj-qI_C"
      },
      "source": [
        "meanC101= list() \n",
        "for i in range(LAB_imgC101.shape[0]): \n",
        "     for j in range(LAB_imgC101.shape[1]): \n",
        "                if 1769<i<1881 and 2019<j<2131 :\n",
        "                    meanC101.append(LAB_imgC101[i][j])\n",
        "meanC101= np.array(meanC101)\n",
        "\n",
        "labC101= list()\n",
        "for i in range(3):\n",
        "    labC101.append(meanC101[:,i].mean())\n",
        "labC101"
      ],
      "execution_count": null,
      "outputs": []
    },
    {
      "cell_type": "code",
      "metadata": {
        "id": "rPYrejIPqJEq"
      },
      "source": [
        "meanC103= list() \n",
        "for i in range(LAB_imgC103.shape[0]): \n",
        "     for j in range(LAB_imgC103.shape[1]): \n",
        "                if 1769<i<1881 and 2019<j<2131 :\n",
        "                    meanC103.appendC103(LAB_img[i][j])\n",
        "meanC103= np.array(meaC103n)\n",
        "\n",
        "labC103= list()\n",
        "for i in range(3):\n",
        "    labC103.append(meanC103[:,i].mean())\n",
        "labC103"
      ],
      "execution_count": null,
      "outputs": []
    },
    {
      "cell_type": "code",
      "metadata": {
        "id": "0-XVgdbCqqM0"
      },
      "source": [
        "meanC106= list() \n",
        "for i in range(LAB_imgC106.shape[0]): \n",
        "     for j in range(LAB_imgC106.shape[1]): \n",
        "                if 1769<i<1881 and 2019<j<2131 :\n",
        "                    meanC106.append(LAB_imgC106[i][j])\n",
        "meanC106= np.array(meanC106)\n",
        "\n",
        "labC106= list()\n",
        "for i in range(3):\n",
        "    labC106.append(meanC106[:,i].mean())\n",
        "labC106"
      ],
      "execution_count": null,
      "outputs": []
    },
    {
      "cell_type": "code",
      "metadata": {
        "id": "yw1t9Qx3qqVT"
      },
      "source": [
        "meanC109= list() \n",
        "for i in range(LAB_imgC109.shape[0]): \n",
        "     for j in range(LAB_imgC109.shape[1]): \n",
        "                if 1769<i<1881 and 2019<j<2131 :\n",
        "                    meanC109.append(LAB_imgC109[i][j])\n",
        "meanC109= np.array(meanC109)\n",
        "\n",
        "labC109= list()\n",
        "for i in range(3):\n",
        "    labC109.append(meanC109[:,i].mean())\n",
        "labC109"
      ],
      "execution_count": null,
      "outputs": []
    },
    {
      "cell_type": "markdown",
      "metadata": {
        "id": "nmGSL0uUr6YH"
      },
      "source": [
        "C2"
      ]
    },
    {
      "cell_type": "code",
      "metadata": {
        "id": "oBite4BxqqY3"
      },
      "source": [
        "meanC201= list() \n",
        "for i in range(LAB_imgC201.shape[0]): \n",
        "     for j in range(LAB_imgC201.shape[1]): \n",
        "                if 1769<i<1881 and 2019<j<2131 :\n",
        "                    meanC201.append(LAB_imgC201[i][j])\n",
        "meanC201= np.array(meanC201)\n",
        "\n",
        "labC201= list()\n",
        "for i in range(3):\n",
        "    labC201.append(meanC201[:,i].mean())\n",
        "labC201"
      ],
      "execution_count": null,
      "outputs": []
    },
    {
      "cell_type": "code",
      "metadata": {
        "id": "aHCLN2wzqtXD"
      },
      "source": [
        "meanC203= list() \n",
        "for i in range(LAB_imgC203.shape[0]): \n",
        "     for j in range(LAB_imgC203.shape[1]): \n",
        "                if 1769<i<1881 and 2019<j<2131 :\n",
        "                    meanC203.append(LAB_imgC203[i][j])\n",
        "meanC203= np.array(meanC203)\n",
        "\n",
        "labC203= list()\n",
        "for i in range(3):\n",
        "    labC203.append(meanC203[:,i].mean())\n",
        "labC203"
      ],
      "execution_count": null,
      "outputs": []
    },
    {
      "cell_type": "code",
      "metadata": {
        "id": "cXEkaUroqthi"
      },
      "source": [
        "meanC206= list() \n",
        "for i in range(LAB_imgC206.shape[0]): \n",
        "     for j in range(LAB_imgC206.shape[1]): \n",
        "                if 1769<i<1881 and 2019<j<2131 :\n",
        "                    meanC206.append(LAB_imgC206[i][j])\n",
        "meanC206= np.array(meanC206)\n",
        "\n",
        "labC206= list()\n",
        "for i in range(3):\n",
        "    labC206.append(meanC206[:,i].mean())\n",
        "labC206"
      ],
      "execution_count": null,
      "outputs": []
    },
    {
      "cell_type": "code",
      "metadata": {
        "id": "H0oesaaHr8_E"
      },
      "source": [
        "meanC209= list() \n",
        "for i in range(LAB_imgC209.shape[0]): \n",
        "     for j in range(LAB_imgC209.shape[1]): \n",
        "                if 1769<i<1881 and 2019<j<2131 :\n",
        "                    meanC209.append(LAB_imgC209[i][j])\n",
        "meanC209= np.array(meanC209)\n",
        "\n",
        "labC209= list()\n",
        "for i in range(3):\n",
        "    labC209.append(meanC209[:,i].mean())\n",
        "labC209"
      ],
      "execution_count": null,
      "outputs": []
    },
    {
      "cell_type": "markdown",
      "metadata": {
        "id": "8lUSBm3msz_y"
      },
      "source": [
        "C3"
      ]
    },
    {
      "cell_type": "code",
      "metadata": {
        "id": "aze4ZLbFr9HH"
      },
      "source": [
        "meanC301= list() \n",
        "for i in range(LAB_imgC301.shape[0]): \n",
        "     for j in range(LAB_imgC301.shape[1]): \n",
        "                if 1769<i<1881 and 2019<j<2131 :\n",
        "                    meanC301.append(LAB_imgC301[i][j])\n",
        "meanC301= np.array(meanC301)\n",
        "\n",
        "labC301= list()\n",
        "for i in range(3):\n",
        "    labC301.append(meanC301[:,i].mean())\n",
        "labC301"
      ],
      "execution_count": null,
      "outputs": []
    },
    {
      "cell_type": "code",
      "metadata": {
        "id": "hj-7ubOCr9Mp"
      },
      "source": [
        "meanC303= list() \n",
        "for i in range(LAB_imgC303.shape[0]): \n",
        "     for j in range(LAB_imgC303.shape[1]): \n",
        "                if 1769<i<1881 and 2019<j<2131 :\n",
        "                    meanC303.append(LAB_imgC303[i][j])\n",
        "meanC303= np.array(meanC303)\n",
        "\n",
        "labC303= list()\n",
        "for i in range(3):\n",
        "    labC303.append(meanC303[:,i].mean())\n",
        "labC303"
      ],
      "execution_count": null,
      "outputs": []
    },
    {
      "cell_type": "code",
      "metadata": {
        "id": "oeS4aeIPr9Qp"
      },
      "source": [
        "meanC306= list() \n",
        "for i in range(LAB_imgC306.shape[0]): \n",
        "     for j in range(LAB_imgC306.shape[1]): \n",
        "                if 1769<i<1881 and 2019<j<2131 :\n",
        "                    meanC306.append(LAB_imgC306[i][j])\n",
        "meanC306= np.array(meanC306\n",
        "\n",
        "labC306= list()\n",
        "for i in range(3):\n",
        "    labC306.append(meanC306[:,i].mean())\n",
        "labC306"
      ],
      "execution_count": null,
      "outputs": []
    },
    {
      "cell_type": "code",
      "metadata": {
        "id": "cCljmFzxr9Uj"
      },
      "source": [
        "meanC309= list() \n",
        "for i in range(LAB_imgC309.shape[0]): \n",
        "     for j in range(LAB_imgC309.shape[1]): \n",
        "                if 1769<i<1881 and 2019<j<2131 :\n",
        "                    meanC309.append(LAB_imgC309[i][j])\n",
        "meanC309= np.array(meanC309\n",
        "\n",
        "labC309= list()\n",
        "for i in range(3):\n",
        "    labC309.append(meanC309[:,i].mean())\n",
        "labC309"
      ],
      "execution_count": null,
      "outputs": []
    },
    {
      "cell_type": "markdown",
      "metadata": {
        "id": "_yq7If1AwKXI"
      },
      "source": [
        "C4"
      ]
    },
    {
      "cell_type": "code",
      "metadata": {
        "id": "39DQx0ZmwLjG"
      },
      "source": [
        "meanC401= list() \n",
        "for i in range(LAB_imgC401.shape[0]): \n",
        "     for j in range(LAB_imgC401.shape[1]): \n",
        "                if 1769<i<1881 and 2019<j<2131 :\n",
        "                    meanC401.append(LAB_imgC401[i][j])\n",
        "meanC401= np.array(meanC401)\n",
        "\n",
        "labC401= list()\n",
        "for i in range(3):\n",
        "    labC401.append(meaC401n[:,i].mean())\n",
        "labC401"
      ],
      "execution_count": null,
      "outputs": []
    },
    {
      "cell_type": "code",
      "metadata": {
        "id": "JdwXChjawLn_"
      },
      "source": [
        "meanC403= list() \n",
        "for i in range(LAB_imgC403.shape[0]): \n",
        "     for j in range(LAB_imgC403.shape[1]): \n",
        "                if 1769<i<1881 and 2019<j<2131 :\n",
        "                    meanC403.append(LAB_imgC403[i][j])\n",
        "meanC403= np.array(meanC403)\n",
        "\n",
        "labC403= list()\n",
        "for i in range(3):\n",
        "    labC403.append(meanC403[:,i].mean())\n",
        "labC403"
      ],
      "execution_count": null,
      "outputs": []
    },
    {
      "cell_type": "code",
      "metadata": {
        "id": "iz-4LxPnwLto"
      },
      "source": [
        "meanC406= list() \n",
        "for i in range(LAB_imgC406.shape[0]): \n",
        "     for j in range(LAB_imgC406.shape[1]): \n",
        "                if 1769<i<1881 and 2019<j<2131 :\n",
        "                    meanC406.append(LAB_imgC406[i][j])\n",
        "meanC406= np.array(meanC406)\n",
        "\n",
        "labC406= list()\n",
        "for i in range(3):\n",
        "    labC406.append(meanC406[:,i].mean())\n",
        "labC406"
      ],
      "execution_count": null,
      "outputs": []
    },
    {
      "cell_type": "code",
      "metadata": {
        "id": "d1IOJ3KjwL52"
      },
      "source": [
        "meanC409= list() \n",
        "for i in range(LAB_imgC409.shape[0]): \n",
        "     for j in range(LAB_imgC409.shape[1]): \n",
        "                if 1769<i<1881 and 2019<j<2131 :\n",
        "                    meanC409.append(LAB_imgC409[i][j])\n",
        "meanC409= np.array(meanC409)\n",
        "\n",
        "labC409= list()\n",
        "for i in range(3):\n",
        "    laC409b.append(meanC409[:,i].mean())\n",
        "labC409"
      ],
      "execution_count": null,
      "outputs": []
    },
    {
      "cell_type": "markdown",
      "metadata": {
        "id": "nSANmVIptdnw"
      },
      "source": [
        "D1"
      ]
    },
    {
      "cell_type": "code",
      "metadata": {
        "id": "CvKKcZvnr9ZJ"
      },
      "source": [
        "meanD101= list() \n",
        "for i in range(LAB_imgD101.shape[0]): \n",
        "     for j in range(LAB_imgD101.shape[1]): \n",
        "                if 1769<i<1881 and 2019<j<2131 :\n",
        "                    meanD101.append(LAB_imgD101[i][j])\n",
        "meanD101= np.array(meanD101)\n",
        "\n",
        "labD101= list()\n",
        "for i in range(3):\n",
        "    labD101.append(meanD101[:,i].mean())\n",
        "labD101"
      ],
      "execution_count": null,
      "outputs": []
    },
    {
      "cell_type": "code",
      "metadata": {
        "id": "zHyvLdjLsBIK"
      },
      "source": [
        "meanD103= list() \n",
        "for i in range(LAB_imgD103.shape[0]): \n",
        "     for j in range(LAB_imgD103.shape[1]): \n",
        "                if 1769<i<1881 and 2019<j<2131 :\n",
        "                    meanD103.append(LAB_imgD103[i][j])\n",
        "meanD103= np.array(meanD103)\n",
        "\n",
        "labD103= list()\n",
        "for i in range(3):\n",
        "    labD103.append(meanD103[:,i].mean())\n",
        "labD103"
      ],
      "execution_count": null,
      "outputs": []
    },
    {
      "cell_type": "code",
      "metadata": {
        "id": "578z34BjsBMA"
      },
      "source": [
        "meanD106= list() \n",
        "for i in range(LAB_imgD106.shape[0]): \n",
        "     for j in range(LAB_imgD106.shape[1]): \n",
        "                if 1769<i<1881 and 2019<j<2131 :\n",
        "                    meanD106.append(LAB_imgD106[i][j])\n",
        "meanD106= np.array(meanD106)\n",
        "\n",
        "labD106= list()\n",
        "for i in range(3):\n",
        "    labD106.append(meanD106[:,i].mean())\n",
        "labD106"
      ],
      "execution_count": null,
      "outputs": []
    },
    {
      "cell_type": "code",
      "metadata": {
        "id": "hCy2iDFjsBQA"
      },
      "source": [
        "meanD109= list() \n",
        "for i in range(LAB_imgD109.shape[0]): \n",
        "     for j in range(LAB_imgD109.shape[1]): \n",
        "                if 1769<i<1881 and 2019<j<2131 :\n",
        "                    meanD109.append(LAB_imgD109[i][j])\n",
        "meanD109= np.array(meanD109)\n",
        "\n",
        "labD109= list()\n",
        "for i in range(3):\n",
        "    labD109.append(meanD109[:,i].mean())\n",
        "labD109"
      ],
      "execution_count": null,
      "outputs": []
    },
    {
      "cell_type": "markdown",
      "metadata": {
        "id": "Vk72JsKZuPQt"
      },
      "source": [
        "D2"
      ]
    },
    {
      "cell_type": "code",
      "metadata": {
        "id": "rCsKJESmsBUd"
      },
      "source": [
        "meanD201= list() \n",
        "for i in range(LAB_imgD201.shape[0]): \n",
        "     for j in range(LAB_imgD201.shape[1]): \n",
        "                if 1769<i<1881 and 2019<j<2131 :\n",
        "                    meanD201.append(LAB_imgD201[i][j])\n",
        "meanD201= np.array(meanD201)\n",
        "\n",
        "labD201= list()\n",
        "for i in range(3):\n",
        "    labD201.append(meanD201[:,i].mean())\n",
        "labD201"
      ],
      "execution_count": null,
      "outputs": []
    },
    {
      "cell_type": "code",
      "metadata": {
        "id": "SJoXfceIsBYK"
      },
      "source": [
        "meanD203= list() \n",
        "for i in range(LAB_imgD203.shape[0]): \n",
        "     for j in range(LAB_imgD203.shape[1]): \n",
        "                if 1769<i<1881 and 2019<j<2131 :\n",
        "                    meanD203.append(LAB_imgD203[i][j])\n",
        "meanD203= np.array(meanD203)\n",
        "\n",
        "labD203= list()\n",
        "for i in range(3):\n",
        "    labD203.append(meanD203[:,i].mean())\n",
        "labD203"
      ],
      "execution_count": null,
      "outputs": []
    },
    {
      "cell_type": "code",
      "metadata": {
        "id": "P3kLXubmtkX6"
      },
      "source": [
        "meanD206= list() \n",
        "for i in range(LAB_imgD206.shape[0]): \n",
        "     for j in range(LAB_imgD206.shape[1]): \n",
        "                if 1769<i<1881 and 2019<j<2131 :\n",
        "                    meanD206.append(LAB_imgD206[i][j])\n",
        "meanD206= np.array(meanD206)\n",
        "\n",
        "labD206= list()\n",
        "for i in range(3):\n",
        "    labD206.append(meanD206[:,i].mean())\n",
        "labD206"
      ],
      "execution_count": null,
      "outputs": []
    },
    {
      "cell_type": "code",
      "metadata": {
        "id": "5F2HqCpltkdB"
      },
      "source": [
        "meanD209= list() \n",
        "for i in range(LAB_imgD209.shape[0]): \n",
        "     for j in range(LAB_imgD209.shape[1]): \n",
        "                if 1769<i<1881 and 2019<j<2131 :\n",
        "                    meanD209.append(LAB_imgD209[i][j])\n",
        "meanD209= np.array(meanD209)\n",
        "\n",
        "labD209= list()\n",
        "for i in range(3):\n",
        "    labD209.append(meanD209[:,i].mean())\n",
        "labD209"
      ],
      "execution_count": null,
      "outputs": []
    },
    {
      "cell_type": "markdown",
      "metadata": {
        "id": "DG8Yr9N3u8qZ"
      },
      "source": [
        "D3"
      ]
    },
    {
      "cell_type": "code",
      "metadata": {
        "id": "yDsuWuMctkhG"
      },
      "source": [
        "meanD301= list() \n",
        "for i in range(LAB_imgD301.shape[0]): \n",
        "     for j in range(LAB_imgD301.shape[1]): \n",
        "                if 1769<i<1881 and 2019<j<2131 :\n",
        "                    meanD301.append(LAB_imgD301[i][j])\n",
        "meanD301= np.array(meanD301)\n",
        "\n",
        "labD301= list()\n",
        "for i in range(3):\n",
        "    labD301.append(meanD301[:,i].mean())\n",
        "labD301"
      ],
      "execution_count": null,
      "outputs": []
    },
    {
      "cell_type": "code",
      "metadata": {
        "id": "6pTZlnEGtklg"
      },
      "source": [
        "meanD303= list() \n",
        "for i in range(LAB_imgD303.shape[0]): \n",
        "     for j in range(LAB_imgD303.shape[1]): \n",
        "                if 1769<i<1881 and 2019<j<2131 :\n",
        "                    meanD303.append(LAB_imgD303[i][j])\n",
        "meanD303= np.array(meanD303)\n",
        "\n",
        "labD303= list()\n",
        "for i in range(3):\n",
        "    labD303.append(meanD303[:,i].mean())\n",
        "labD303"
      ],
      "execution_count": null,
      "outputs": []
    },
    {
      "cell_type": "code",
      "metadata": {
        "id": "thXcVBLbtkxV"
      },
      "source": [
        "meanD306= list() \n",
        "for i in range(LAB_imgD306.shape[0]): \n",
        "     for j in range(LAB_imgD306.shape[1]): \n",
        "                if 1769<i<1881 and 2019<j<2131 :\n",
        "                    meanD306.append(LAB_imgD306[i][j])\n",
        "meanD306= np.array(meanD306)\n",
        "\n",
        "labD306= list()\n",
        "for i in range(3):\n",
        "    labD306.append(meanD306[:,i].mean())\n",
        "labD306"
      ],
      "execution_count": null,
      "outputs": []
    },
    {
      "cell_type": "code",
      "metadata": {
        "id": "J1HrNVIBtk35"
      },
      "source": [
        "meanD309= list() \n",
        "for i in range(LAB_imgD309.shape[0]): \n",
        "     for j in range(LAB_imgD309.shape[1]): \n",
        "                if 1769<i<1881 and 2019<j<2131 :\n",
        "                    meanD309.append(LAB_imgD309[i][j])\n",
        "meanD309= np.array(meanD309)\n",
        "\n",
        "labD309= list()\n",
        "for i in range(3):\n",
        "    labD309append(meanD309[:,i].mean())\n",
        "labD309"
      ],
      "execution_count": null,
      "outputs": []
    },
    {
      "cell_type": "markdown",
      "metadata": {
        "id": "LsBzxrj8vmeI"
      },
      "source": [
        "D4"
      ]
    },
    {
      "cell_type": "code",
      "metadata": {
        "id": "akw9wamWtk7h"
      },
      "source": [
        "meanD401= list() \n",
        "for i in range(LAB_imgD401.shape[0]): \n",
        "     for j in range(LAB_imgD401.shape[1]): \n",
        "                if 1769<i<1881 and 2019<j<2131 :\n",
        "                    meanD401.append(LAB_imD401g[i][j])\n",
        "meanD401= np.array(meanD401)\n",
        "\n",
        "labD401= list()\n",
        "for i in range(3):\n",
        "    labD401.append(meanD401[:,i].mean())\n",
        "labD401"
      ],
      "execution_count": null,
      "outputs": []
    },
    {
      "cell_type": "code",
      "metadata": {
        "id": "OdJmIT5Ztk_E"
      },
      "source": [
        "meanD403= list() \n",
        "for i in range(LAB_imgD403.shape[0]): \n",
        "     for j in range(LAB_imgD403.shape[1]): \n",
        "                if 1769<i<1881 and 2019<j<2131 :\n",
        "                    meanD403.append(LAB_imgD403[i][j])\n",
        "meanD403= np.array(meanD403)\n",
        "\n",
        "labD403= list()\n",
        "for i in range(3):\n",
        "    labD403.append(meanD403[:,i].mean())\n",
        "labD403"
      ],
      "execution_count": null,
      "outputs": []
    },
    {
      "cell_type": "code",
      "metadata": {
        "id": "7ZyALxNKtlD9"
      },
      "source": [
        "meanD406= list() \n",
        "for i in range(LAB_imgD406.shape[0]): \n",
        "     for j in range(LAB_imgD406.shape[1]): \n",
        "                if 1769<i<1881 and 2019<j<2131 :\n",
        "                    meanD406.append(LAB_imgD406[i][j])\n",
        "meanD406= np.array(meanD406)\n",
        "\n",
        "labD406= list()\n",
        "for i in range(3):\n",
        "    labD406.append(meanD406[:,i].mean())\n",
        "labD406"
      ],
      "execution_count": null,
      "outputs": []
    },
    {
      "cell_type": "code",
      "metadata": {
        "id": "AwhRoC4vwxeF"
      },
      "source": [
        "meanD409= list() \n",
        "for i in range(LAB_imgD409.shape[0]): \n",
        "     for j in range(LAB_imgD409.shape[1]): \n",
        "                if 1769<i<1881 and 2019<j<2131 :\n",
        "                    meanD409.append(LAB_imgD409[i][j])\n",
        "meanD409= np.array(meanD409)\n",
        "\n",
        "labD409= list()\n",
        "for i in range(3):\n",
        "    labD409.append(meanD409[:,i].mean())\n",
        "labD409"
      ],
      "execution_count": null,
      "outputs": []
    },
    {
      "cell_type": "markdown",
      "metadata": {
        "id": "5RdEtc5exwaW"
      },
      "source": [
        "#7.คำนวณระยะห่างระหว่างจุดแบบ Euclidean distance"
      ]
    },
    {
      "cell_type": "code",
      "metadata": {
        "id": "8SklmolryPEr"
      },
      "source": [
        "from scipy.spatial import distance"
      ],
      "execution_count": null,
      "outputs": []
    },
    {
      "cell_type": "markdown",
      "metadata": {
        "id": "D0V02mq5yU1_"
      },
      "source": [
        "A1"
      ]
    },
    {
      "cell_type": "code",
      "metadata": {
        "id": "paRz76JCyPRC"
      },
      "source": [
        "UA1A1 = distance.euclidean(labA101,labA103)\n",
        "UA1A2_1 = distance.euclidean(labA101,labA201)\n",
        "UA1A2_3 = distance.euclidean(labA101,labA203)\n",
        "UA1A3_6 = distance.euclidean(labA101,labA306)\n",
        "UA1A3_9 = distance.euclidean(labA101,labA309)\n",
        "UA1A3_51 = distance.euclidean(labA101,labA3_501) \n",
        "UA1A3_56= distance.euclidean(labA101,labA3_506)\n",
        "UA1A4_6 = distance.euclidean(labA101,labA406)\n",
        "UA1A4_9 = distance.euclidean(labA101,labA409)\n",
        "UA1B1_1 = distance.euclidean(labA101,labB101)\n",
        "UA1B1_6 = distance.euclidean(labA101,labB106)\n",
        "UA1B2_6 = distance.euclidean(labA101,labB203)\n",
        "UA1B2_9 = distance.euclidean(labA101,labB209)\n",
        "UA1B3_3 = distance.euclidean(labA101,labB303)\n",
        "UA1B3_6 = distance.euclidean(labA101,labB306)\n",
        "UA1B4_1 = distance.euclidean(labA101,labB401)\n",
        "UA1B4_3 = distance.euclidean(labA101,labB403)\n",
        "UA1C1_3 = distance.euclidean(labA101,labC103)\n",
        "UA1C1_9 = distance.euclidean(labA101,labC109)\n",
        "UA1C2_1 = distance.euclidean(labA101,labC201)\n",
        "UA1C2_6 = distance.euclidean(labA101,labC206)\n",
        "UA1C3_6 = distance.euclidean(labA101,labC306)\n",
        "UA1C3_9 = distance.euclidean(labA101,labC309)\n",
        "UA1C4_1 = distance.euclidean(labA101,labC401)\n",
        "UA1C4_3 = distance.euclidean(labA101,labC403)\n",
        "UA1D2_6 = distance.euclidean(labA101,labD206)\n",
        "UA1D2_9 = distance.euclidean(labA101,labD209)\n",
        "UA1D3_1 = distance.euclidean(labA101,labD301)\n",
        "UA1D3_3 = distance.euclidean(labA101,labD303)\n",
        "UA1D3_6 = distance.euclidean(labA101,labD406)\n",
        "UA1D3_9 = distance.euclidean(labA101,labD409)"
      ],
      "execution_count": null,
      "outputs": []
    },
    {
      "cell_type": "markdown",
      "metadata": {
        "id": "WVcKa2xH18DP"
      },
      "source": [
        "A2"
      ]
    },
    {
      "cell_type": "code",
      "metadata": {
        "id": "7XGAFNI3yPUq"
      },
      "source": [
        "UA2A1_1 = distance.euclidean(labA2_1,labA1_1)\n",
        "UA2A1_2 = distance.euclidean(labA2_3,labA1_1)\n",
        "UA2A2_2 = distance.euclidean(labA2_6,labA1_1)\n",
        "UA2A2_1 = distance.euclidean(labA2_1,labA2_3)\n",
        "UA2A2_2 = distance.euclidean(labA2_4,labA2_6)\n",
        "UA2A3_1 = distance.euclidean(labA2_3,labA3_2)\n",
        "UA2A3_2 = distance.euclidean(labA2_4,labA3_5)\n",
        "UA2A3_51 = distance.euclidean(labA2_6,labA3_507)\n",
        "UA2A3_52 = distance.euclidean(labA2_3,labA3_504)\n",
        "UA2A3_1 = distance.euclidean(labA2_3,labA3_2)\n",
        "UA2A3_2 = distance.euclidean(labA2_4,labA3_5)\n",
        "UA2A4_1 = distance.euclidean(labA2_1,labA4_4)\n",
        "UA2A4_2 = distance.euclidean(labA2_3,labA4_6)\n",
        "UA2B1_1 = distance.euclidean(labA2_4,labB1_9)\n",
        "UA2B1_2 = distance.euclidean(labA2_3,labB1_7)\n",
        "UA2B2_1 = distance.euclidean(labA2_4,labB2_6)\n",
        "UA2B2_2 = distance.euclidean(labA2_3,labB2_8)\n",
        "UA2B3_1 = distance.euclidean(labA2_4,labB3_1)\n",
        "UA2B3_2 = distance.euclidean(labA2_3,labB3_10)\n",
        "UA2B4_1 = distance.euclidean(labA2_4,labB4_2)\n",
        "UA2B4_2 = distance.euclidean(labA2_3,labB4_8)\n",
        "UA2C1_1 = distance.euclidean(labA2_4,labC1_1)\n",
        "UA2C1_2 = distance.euclidean(labA2_3,labC1_9)\n",
        "UA2C2_1 = distance.euclidean(labA2_4,labC2_3)\n",
        "UA2C2_2 = distance.euclidean(labA2_3,labC2_7)\n",
        "UA2C3_1 = distance.euclidean(labA2_4,labC3_2)\n",
        "UA2C3_2 = distance.euclidean(labA2_3,labC3_9)\n",
        "UA2C4_1 = distance.euclidean(labA2_4,labC4_1)\n",
        "UA2C4_2 = distance.euclidean(labA2_3,labC4_6)\n",
        "UA2D2_1 = distance.euclidean(labA2_4,labD2_1)\n",
        "UA2D2_2 = distance.euclidean(labA2_3,labD2_7)\n",
        "UA2D3_1 = distance.euclidean(labA2_4,labD3_7)\n",
        "UA2D3_2 = distance.euclidean(labA2_3,labD3_8)\n",
        "UA2D4_1 = distance.euclidean(labA2_4,labD4_4)\n",
        "UA2D4_2 = distance.euclidean(labA2_3,labD4_10)"
      ],
      "execution_count": null,
      "outputs": []
    },
    {
      "cell_type": "code",
      "metadata": {
        "id": "ZRho20HGyPZy"
      },
      "source": [
        ""
      ],
      "execution_count": null,
      "outputs": []
    },
    {
      "cell_type": "markdown",
      "metadata": {
        "id": "3yUE2QU72R0p"
      },
      "source": [
        "SET2"
      ]
    },
    {
      "cell_type": "code",
      "metadata": {
        "id": "rm4q1SiHyPd0"
      },
      "source": [
        "A101='43B3A559-D6CD-4759-863E-1335D3A137E4.png'\n",
        "A103='6E9D9F19-5731-4051-92D7-F7BF9517D0DA.png'\n",
        "A106='7C773DFE-2A57-45DE-8367-12D72119B665.png'\n",
        "A109='5B52031A-CAF2-4322-BFAD-28ED2E3BD0AE.png'\n",
        "A201='C4A19F33-7E34-41A6-B42D-9F9767762069.png'\n",
        "A203='ECA5498A-26EF-4074-A8BB-EE9A6B66AC1B.png'\n",
        "A206='7391CFDA-993D-4091-84F2-85C67A5912D3.png'\n",
        "A209='4F60EA04-2B64-40B7-B422-A38331256975.png'\n",
        "A301=''\n",
        "A303=''\n",
        "A306=''\n",
        "A309=''\n",
        "A3_501='A1C601C4-15F3-4144-8466-1130AFD644B6.png'\n",
        "A3_503='5AF22B10-9B03-4285-877A-A3EF32BE18D5.png'\n",
        "A3_506='E70A09BB-7C74-4E3C-B9A2-C839BD2DC806.png'\n",
        "A3_509='9FF04B1E-94D4-4A70-B783-7DDD30345888.png'\n",
        "A401='EF8B3D3A-6F00-44CB-8503-EA1EE9987AD4.png'\n",
        "A403='C6E1990E-17AA-4C18-BBB4-B8F601E4CC2E.png'\n",
        "A406='4F33DD14-3576-4F94-AF8B-49FFE29A5BBA.png'\n",
        "A409='0B918D5D-009C-4489-AA3A-10401D8FFF43.png'\n",
        "B101='2846A219-71AE-47E5-BA30-864644218F4A.png'\n",
        "B103='C02B911E-D98A-4B76-B407-0B7852E01173.png'\n",
        "B106='07ACB327-9436-4E62-A55F-86A29BA278F1.png'\n",
        "B109='0DE038FD-9916-4A10-ACFD-E9A246D94924.png'\n",
        "B201='F6C182AD-F7FF-431A-96B0-BDAD65AFFD4D.png'\n",
        "B203='0762EA04-D17C-4F19-BE1D-867939BA0579.png'\n",
        "B206='D0A464BE-0191-44EC-BDF2-58175B10ED61.png'\n",
        "B209='9DF4C294-5F04-4D26-AEC6-D75630BE7EB1.png'\n",
        "B301='25EB4D2D-09D8-4760-BFA7-222DE1616451.png'\n",
        "B303='7C706952-3354-4C15-B850-802BB6FDDB3E.png'\n",
        "B306='2EF995E1-17C8-4B99-9D47-8B4935679A26.png'\n",
        "B309='C5D7B0F7-CEFD-4A20-B80A-1F4C2F2774C0.png'\n",
        "B401='87003489-206C-4DA8-B458-C75C17AA147D.png'\n",
        "B403='E961BF81-DBD6-4E0A-90C1-D04DDE51D746.png'\n",
        "B406='FD94E579-0478-4FBE-B218-8B594095AF07.png'\n",
        "B409='324EFF34-9A7F-46E5-9CD5-5461CCD7750C.png'"
      ],
      "execution_count": null,
      "outputs": []
    },
    {
      "cell_type": "code",
      "metadata": {
        "id": "F0T6oNvD2Pgw"
      },
      "source": [
        "C101='2BEE4714-B417-46FD-837D-826954056ED7.png'\n",
        "C103='EA2E3D74-1B63-4088-93FB-8C260A79412F.png'\n",
        "C106='7F057722-A6CB-4C7D-9660-891D0AB2E33A.png'\n",
        "C109='0C0B16DD-CD33-471B-8CAF-2641CC5DE142.png'\n",
        "C201='3444FBA1-1D42-4A3A-AF39-C6183BBA28C5.png'\n",
        "C203='D770F731-B4BA-4B57-8E17-C716DEAC8F15.png'\n",
        "C206='EB852390-7F5F-49EA-9490-C67226E665C4.png'\n",
        "C209='AA438D44-0ED7-4BFF-8E05-63F0DF013B41.png'\n",
        "C301='3D167809-5D82-403C-8E79-346F1C29577F.png'\n",
        "C303='5E93FB85-8CB8-42BE-BAF5-4FF3FAF79ADD.png'\n",
        "C306='A2D317EC-4996-448E-A54C-ACDA199E001E.png'\n",
        "C309='41A71D02-E2ED-4DF4-9764-FF1842AF5A7F.png'\n",
        "C401='0CD9BACA-F94C-42B7-BA88-4C31B616374F.png'\n",
        "C403='1110815D-502E-4139-A96F-D2E69709C108.png'\n",
        "C406='078E17CC-4C30-44B0-93AE-EB7331A36007.png'\n",
        "C409='6DE76815-90A2-427A-9003-2C4A2AA2BBB1.png'\n",
        "D201='9C5DE937-297C-4033-87D3-D5579B8099E7.png'\n",
        "D203='15EB3704-90F7-4C6D-8EAE-94B4C23192B1.png'\n",
        "D206='94C2591B-9CA1-4AA9-823F-45C0F10B7D80.png'\n",
        "D209='AD911101-AA24-4F12-944B-2319CA2FA19F.png'\n",
        "D301='58CD90A3-58EE-414C-97E0-2902C17A2FEA.png'\n",
        "D303='4665809A-7FF4-4281-8E89-5CF58662BC43.png'\n",
        "D306='EDA0D8D3-73F8-4402-8048-2EFB48908F90.png'\n",
        "D309='B300EEC6-ACC1-4924-AE36-4A6465F96E48.png'\n",
        "D401='C1988A09-1945-4CFE-85F0-D0457E50F9B3.png'\n",
        "D403='0D70D455-3C99-4491-8A4B-4E868C555D72.png'\n",
        "D406='D8B785B2-69C4-47B7-AA18-8CBF51B76259.png'\n",
        "D409='720672C4-6F91-467C-A5BD-6C71D3F0C256.png'"
      ],
      "execution_count": null,
      "outputs": []
    }
  ]
}