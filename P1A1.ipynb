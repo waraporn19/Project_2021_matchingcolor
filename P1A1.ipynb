{
  "nbformat": 4,
  "nbformat_minor": 0,
  "metadata": {
    "colab": {
      "name": "P1A1.ipynb",
      "provenance": [],
      "authorship_tag": "ABX9TyPdTRkE2/xtHjjlGxBxIC41",
      "include_colab_link": true
    },
    "kernelspec": {
      "name": "python3",
      "display_name": "Python 3"
    },
    "language_info": {
      "name": "python"
    }
  },
  "cells": [
    {
      "cell_type": "markdown",
      "metadata": {
        "id": "view-in-github",
        "colab_type": "text"
      },
      "source": [
        "<a href=\"https://colab.research.google.com/github/waraporn19/Project_2021_matchingcolor/blob/main/P1A1.ipynb\" target=\"_parent\"><img src=\"https://colab.research.google.com/assets/colab-badge.svg\" alt=\"Open In Colab\"/></a>"
      ]
    },
    {
      "cell_type": "code",
      "metadata": {
        "id": "Ymwqnwsbih-m"
      },
      "source": [
        "import pandas as pd"
      ],
      "execution_count": null,
      "outputs": []
    },
    {
      "cell_type": "code",
      "metadata": {
        "colab": {
          "base_uri": "https://localhost:8080/"
        },
        "id": "wwZX8yQokAxo",
        "outputId": "7c8f92d6-f735-4ab5-ddea-76f40c529025"
      },
      "source": [
        "!pip install azure-storage-blob==2.1.0"
      ],
      "execution_count": null,
      "outputs": [
        {
          "output_type": "stream",
          "name": "stdout",
          "text": [
            "Requirement already satisfied: azure-storage-blob==2.1.0 in /usr/local/lib/python3.7/dist-packages (2.1.0)\n",
            "Requirement already satisfied: azure-common>=1.1.5 in /usr/local/lib/python3.7/dist-packages (from azure-storage-blob==2.1.0) (1.1.27)\n",
            "Requirement already satisfied: azure-storage-common~=2.1 in /usr/local/lib/python3.7/dist-packages (from azure-storage-blob==2.1.0) (2.1.0)\n",
            "Requirement already satisfied: requests in /usr/local/lib/python3.7/dist-packages (from azure-storage-common~=2.1->azure-storage-blob==2.1.0) (2.23.0)\n",
            "Requirement already satisfied: python-dateutil in /usr/local/lib/python3.7/dist-packages (from azure-storage-common~=2.1->azure-storage-blob==2.1.0) (2.8.2)\n",
            "Requirement already satisfied: cryptography in /usr/local/lib/python3.7/dist-packages (from azure-storage-common~=2.1->azure-storage-blob==2.1.0) (36.0.0)\n",
            "Requirement already satisfied: cffi>=1.12 in /usr/local/lib/python3.7/dist-packages (from cryptography->azure-storage-common~=2.1->azure-storage-blob==2.1.0) (1.15.0)\n",
            "Requirement already satisfied: pycparser in /usr/local/lib/python3.7/dist-packages (from cffi>=1.12->cryptography->azure-storage-common~=2.1->azure-storage-blob==2.1.0) (2.21)\n",
            "Requirement already satisfied: six>=1.5 in /usr/local/lib/python3.7/dist-packages (from python-dateutil->azure-storage-common~=2.1->azure-storage-blob==2.1.0) (1.15.0)\n",
            "Requirement already satisfied: urllib3!=1.25.0,!=1.25.1,<1.26,>=1.21.1 in /usr/local/lib/python3.7/dist-packages (from requests->azure-storage-common~=2.1->azure-storage-blob==2.1.0) (1.24.3)\n",
            "Requirement already satisfied: idna<3,>=2.5 in /usr/local/lib/python3.7/dist-packages (from requests->azure-storage-common~=2.1->azure-storage-blob==2.1.0) (2.10)\n",
            "Requirement already satisfied: chardet<4,>=3.0.2 in /usr/local/lib/python3.7/dist-packages (from requests->azure-storage-common~=2.1->azure-storage-blob==2.1.0) (3.0.4)\n",
            "Requirement already satisfied: certifi>=2017.4.17 in /usr/local/lib/python3.7/dist-packages (from requests->azure-storage-common~=2.1->azure-storage-blob==2.1.0) (2021.10.8)\n"
          ]
        }
      ]
    },
    {
      "cell_type": "code",
      "metadata": {
        "id": "upBpPzhgmWjh"
      },
      "source": [
        "from azure.storage.blob import BlockBlobService\n",
        "import os"
      ],
      "execution_count": null,
      "outputs": []
    },
    {
      "cell_type": "code",
      "metadata": {
        "id": "k3-2jUTwmWq1"
      },
      "source": [
        "blob_service_client = BlockBlobService(account_name='dent01', account_key='CuShY0B4TZJ84TjzPpaHxyrHOpO73aGXeCpdVq7x26OjIlQ1HOz+3DVc9pDEj9BdcEL8odFuTRF0mOAE+aCgiw==')"
      ],
      "execution_count": null,
      "outputs": []
    },
    {
      "cell_type": "code",
      "metadata": {
        "id": "dQZ58yfok39c"
      },
      "source": [
        "https://docs.google.com/spreadsheets/d/1ffnRSiZnTuSR45mGqeVT7LvzbCmCvs4Q/edit?fbclid=IwAR0fQaqjCHldWr6sYCSRcyermlhaFTQBmaowozeaNpFdSRF1xNzssCGFyZc#gid=1488932942"
      ],
      "execution_count": null,
      "outputs": []
    },
    {
      "cell_type": "code",
      "metadata": {
        "id": "0UlfCloRiuQd"
      },
      "source": [
        "url = 'https://docs.google.com/spreadsheets/d/1ffnRSiZnTuSR45mGqeVT7LvzbCmCvs4Q/export?=1&format=xlsx'\n",
        "df = pd.read_csv(url)"
      ],
      "execution_count": null,
      "outputs": []
    },
    {
      "cell_type": "code",
      "metadata": {
        "id": "_DEehWEXjxZa"
      },
      "source": [
        "url = 'https://docs.google.com/spreadsheets/d/1ffnRSiZnTuSR45mGqeVT7LvzbCmCvs4Q/export?=2&format=csv'\n",
        "df = pd.read_csv(url)"
      ],
      "execution_count": null,
      "outputs": []
    },
    {
      "cell_type": "code",
      "metadata": {
        "colab": {
          "base_uri": "https://localhost:8080/"
        },
        "id": "mb5PZfuus2XM",
        "outputId": "98b8cf11-cce7-4817-bbe1-784d3375fb5f"
      },
      "source": [
        "from google.colab import drive \n",
        "drive.mount('/content/drive')"
      ],
      "execution_count": null,
      "outputs": [
        {
          "output_type": "stream",
          "name": "stdout",
          "text": [
            "Drive already mounted at /content/drive; to attempt to forcibly remount, call drive.mount(\"/content/drive\", force_remount=True).\n"
          ]
        }
      ]
    },
    {
      "cell_type": "code",
      "metadata": {
        "id": "1J_8OudJs81V"
      },
      "source": [
        "path = '/content/drive/My Drive/shadeimg'"
      ],
      "execution_count": null,
      "outputs": []
    },
    {
      "cell_type": "code",
      "metadata": {
        "colab": {
          "base_uri": "https://localhost:8080/"
        },
        "id": "5MmPbX2Ks8_d",
        "outputId": "13c5bf41-9269-4360-d98f-7c73166c43dd"
      },
      "source": [
        "os.listdir(path)"
      ],
      "execution_count": null,
      "outputs": [
        {
          "output_type": "execute_result",
          "data": {
            "text/plain": [
              "['รูปฟัน07',\n",
              " '9-10 7 2021',\n",
              " '11 7 2021',\n",
              " 'ฟันสักอย่างจำวันไม่ได้',\n",
              " '1 teeth .gsheet',\n",
              " '16 8 2021',\n",
              " '17 8 2021',\n",
              " '1 teeth .xlsx',\n",
              " '2 teeth .xlsx',\n",
              " '2 teeth.gsheet',\n",
              " 'All shade',\n",
              " 'A1set1.xlsx']"
            ]
          },
          "metadata": {},
          "execution_count": 46
        }
      ]
    },
    {
      "cell_type": "code",
      "metadata": {
        "id": "yWuV_FS_voGo"
      },
      "source": [
        "path2 = os.path.join(path,'A1set1.xlsx') "
      ],
      "execution_count": null,
      "outputs": []
    },
    {
      "cell_type": "code",
      "metadata": {
        "id": "I-UIKEaRumS7"
      },
      "source": [
        "A1_set1 = pd.read_excel(path2)"
      ],
      "execution_count": null,
      "outputs": []
    },
    {
      "cell_type": "code",
      "metadata": {
        "colab": {
          "base_uri": "https://localhost:8080/",
          "height": 423
        },
        "id": "zllFLhaCwGmF",
        "outputId": "73774508-3630-46cb-d52f-fc93976be417"
      },
      "source": [
        "A1_set1"
      ],
      "execution_count": null,
      "outputs": [
        {
          "output_type": "execute_result",
          "data": {
            "text/html": [
              "<div>\n",
              "<style scoped>\n",
              "    .dataframe tbody tr th:only-of-type {\n",
              "        vertical-align: middle;\n",
              "    }\n",
              "\n",
              "    .dataframe tbody tr th {\n",
              "        vertical-align: top;\n",
              "    }\n",
              "\n",
              "    .dataframe thead th {\n",
              "        text-align: right;\n",
              "    }\n",
              "</style>\n",
              "<table border=\"1\" class=\"dataframe\">\n",
              "  <thead>\n",
              "    <tr style=\"text-align: right;\">\n",
              "      <th></th>\n",
              "      <th>ชื่อไฟล์ข้อมูล</th>\n",
              "      <th>รหัสเฉดไกด์</th>\n",
              "      <th>Unnamed: 2</th>\n",
              "      <th>ชนิดกล้องถ่ายรูป</th>\n",
              "      <th>แสงที่ใช้</th>\n",
              "      <th>ฉากหลัง</th>\n",
              "      <th>หมายเหตุ</th>\n",
              "    </tr>\n",
              "  </thead>\n",
              "  <tbody>\n",
              "    <tr>\n",
              "      <th>0</th>\n",
              "      <td>NaN</td>\n",
              "      <td>ฝั่งซ้าย</td>\n",
              "      <td>ฝั่งขวา</td>\n",
              "      <td>NaN</td>\n",
              "      <td>NaN</td>\n",
              "      <td>NaN</td>\n",
              "      <td>NaN</td>\n",
              "    </tr>\n",
              "    <tr>\n",
              "      <th>1</th>\n",
              "      <td>219558E6-E67A-4672-9E46-3D084D0D2032.png</td>\n",
              "      <td>A1</td>\n",
              "      <td>A1</td>\n",
              "      <td>Iphone 11</td>\n",
              "      <td>ไฟธรรมชาติ + ไฟในห้อง 4 ดวง</td>\n",
              "      <td>สีดำ</td>\n",
              "      <td>ค่า duration 1/88 ISO 323</td>\n",
              "    </tr>\n",
              "    <tr>\n",
              "      <th>2</th>\n",
              "      <td>6D94544D-442A-4CFB-811D-FE7DC11D2ED2.png</td>\n",
              "      <td>A1</td>\n",
              "      <td>A1</td>\n",
              "      <td>Iphone 11</td>\n",
              "      <td>ไฟธรรมชาติ + ไฟในห้อง 4 ดวง</td>\n",
              "      <td>สีดำ</td>\n",
              "      <td>ค่า duration 1/88 ISO 323</td>\n",
              "    </tr>\n",
              "    <tr>\n",
              "      <th>3</th>\n",
              "      <td>7BF85808-DA35-4E17-B217-3872CF481063.png</td>\n",
              "      <td>A1</td>\n",
              "      <td>A1</td>\n",
              "      <td>Iphone 11</td>\n",
              "      <td>ไฟธรรมชาติ + ไฟในห้อง 4 ดวง</td>\n",
              "      <td>สีดำ</td>\n",
              "      <td>ค่า duration 1/88 ISO 323</td>\n",
              "    </tr>\n",
              "    <tr>\n",
              "      <th>4</th>\n",
              "      <td>F8F3A06B-FA35-4279-8C60-CA55360B7179.png</td>\n",
              "      <td>A1</td>\n",
              "      <td>A1</td>\n",
              "      <td>Iphone 11</td>\n",
              "      <td>ไฟธรรมชาติ + ไฟในห้อง 4 ดวง</td>\n",
              "      <td>สีดำ</td>\n",
              "      <td>ค่า duration 1/88 ISO 323</td>\n",
              "    </tr>\n",
              "    <tr>\n",
              "      <th>...</th>\n",
              "      <td>...</td>\n",
              "      <td>...</td>\n",
              "      <td>...</td>\n",
              "      <td>...</td>\n",
              "      <td>...</td>\n",
              "      <td>...</td>\n",
              "      <td>...</td>\n",
              "    </tr>\n",
              "    <tr>\n",
              "      <th>157</th>\n",
              "      <td>BD2FA08C-7FFF-4954-A5A7-439696889EAF.png</td>\n",
              "      <td>A1</td>\n",
              "      <td>D4</td>\n",
              "      <td>Iphone 11</td>\n",
              "      <td>ไฟธรรมชาติ + ไฟในห้อง 4 ดวง</td>\n",
              "      <td>สีดำ</td>\n",
              "      <td>ค่า duration 1/88 ISO 323</td>\n",
              "    </tr>\n",
              "    <tr>\n",
              "      <th>158</th>\n",
              "      <td>F416C964-E748-4A43-BD14-E972296B93AB.png</td>\n",
              "      <td>A1</td>\n",
              "      <td>D4</td>\n",
              "      <td>Iphone 11</td>\n",
              "      <td>ไฟธรรมชาติ + ไฟในห้อง 4 ดวง</td>\n",
              "      <td>สีดำ</td>\n",
              "      <td>ค่า duration 1/88 ISO 323</td>\n",
              "    </tr>\n",
              "    <tr>\n",
              "      <th>159</th>\n",
              "      <td>A7822018-E2E3-4156-8F78-EA68133F6491.png</td>\n",
              "      <td>A1</td>\n",
              "      <td>D4</td>\n",
              "      <td>Iphone 11</td>\n",
              "      <td>ไฟธรรมชาติ + ไฟในห้อง 4 ดวง</td>\n",
              "      <td>สีดำ</td>\n",
              "      <td>ค่า duration 1/88 ISO 323</td>\n",
              "    </tr>\n",
              "    <tr>\n",
              "      <th>160</th>\n",
              "      <td>5CD12207-6DA2-4D7B-B0DC-8D7406088384.png</td>\n",
              "      <td>A1</td>\n",
              "      <td>D4</td>\n",
              "      <td>Iphone 11</td>\n",
              "      <td>ไฟธรรมชาติ + ไฟในห้อง 4 ดวง</td>\n",
              "      <td>สีดำ</td>\n",
              "      <td>ค่า duration 1/88 ISO 323</td>\n",
              "    </tr>\n",
              "    <tr>\n",
              "      <th>161</th>\n",
              "      <td>E0E1C37E-221D-4768-8BC2-66513E7C527B.png</td>\n",
              "      <td>A1</td>\n",
              "      <td>D4</td>\n",
              "      <td>Iphone 11</td>\n",
              "      <td>ไฟธรรมชาติ + ไฟในห้อง 4 ดวง</td>\n",
              "      <td>สีดำ</td>\n",
              "      <td>ค่า duration 1/88 ISO 323</td>\n",
              "    </tr>\n",
              "  </tbody>\n",
              "</table>\n",
              "<p>162 rows × 7 columns</p>\n",
              "</div>"
            ],
            "text/plain": [
              "                               ชื่อไฟล์ข้อมูล  ...                   หมายเหตุ\n",
              "0                                         NaN  ...                        NaN\n",
              "1    219558E6-E67A-4672-9E46-3D084D0D2032.png  ...  ค่า duration 1/88 ISO 323\n",
              "2    6D94544D-442A-4CFB-811D-FE7DC11D2ED2.png  ...  ค่า duration 1/88 ISO 323\n",
              "3    7BF85808-DA35-4E17-B217-3872CF481063.png  ...  ค่า duration 1/88 ISO 323\n",
              "4    F8F3A06B-FA35-4279-8C60-CA55360B7179.png  ...  ค่า duration 1/88 ISO 323\n",
              "..                                        ...  ...                        ...\n",
              "157  BD2FA08C-7FFF-4954-A5A7-439696889EAF.png  ...  ค่า duration 1/88 ISO 323\n",
              "158  F416C964-E748-4A43-BD14-E972296B93AB.png  ...  ค่า duration 1/88 ISO 323\n",
              "159  A7822018-E2E3-4156-8F78-EA68133F6491.png  ...  ค่า duration 1/88 ISO 323\n",
              "160  5CD12207-6DA2-4D7B-B0DC-8D7406088384.png  ...  ค่า duration 1/88 ISO 323\n",
              "161  E0E1C37E-221D-4768-8BC2-66513E7C527B.png  ...  ค่า duration 1/88 ISO 323\n",
              "\n",
              "[162 rows x 7 columns]"
            ]
          },
          "metadata": {},
          "execution_count": 56
        }
      ]
    },
    {
      "cell_type": "code",
      "metadata": {
        "id": "Y6jhTgRvwsTN"
      },
      "source": [
        "A1_set1.rename(columns={\"รหัสเฉดไกด์\": \"ฝั่งซ้าย\"},inplace=True)"
      ],
      "execution_count": null,
      "outputs": []
    },
    {
      "cell_type": "code",
      "metadata": {
        "id": "6yS5pC3Txiuc"
      },
      "source": [
        "A1_set1.rename(columns={\"Unnamed: 2\":\"ฝั่งขวา\"},inplace=True)"
      ],
      "execution_count": null,
      "outputs": []
    },
    {
      "cell_type": "code",
      "metadata": {
        "colab": {
          "base_uri": "https://localhost:8080/",
          "height": 423
        },
        "id": "O90BXV_Hxq9f",
        "outputId": "ce33e5bc-e28b-4193-ee4c-9de3eaea4dd0"
      },
      "source": [
        "A1_set1"
      ],
      "execution_count": null,
      "outputs": [
        {
          "output_type": "execute_result",
          "data": {
            "text/html": [
              "<div>\n",
              "<style scoped>\n",
              "    .dataframe tbody tr th:only-of-type {\n",
              "        vertical-align: middle;\n",
              "    }\n",
              "\n",
              "    .dataframe tbody tr th {\n",
              "        vertical-align: top;\n",
              "    }\n",
              "\n",
              "    .dataframe thead th {\n",
              "        text-align: right;\n",
              "    }\n",
              "</style>\n",
              "<table border=\"1\" class=\"dataframe\">\n",
              "  <thead>\n",
              "    <tr style=\"text-align: right;\">\n",
              "      <th></th>\n",
              "      <th>ชื่อไฟล์ข้อมูล</th>\n",
              "      <th>ฝั่งซ้าย</th>\n",
              "      <th>ฝั่งขวา</th>\n",
              "      <th>ชนิดกล้องถ่ายรูป</th>\n",
              "      <th>แสงที่ใช้</th>\n",
              "      <th>ฉากหลัง</th>\n",
              "      <th>หมายเหตุ</th>\n",
              "    </tr>\n",
              "  </thead>\n",
              "  <tbody>\n",
              "    <tr>\n",
              "      <th>0</th>\n",
              "      <td>NaN</td>\n",
              "      <td>ฝั่งซ้าย</td>\n",
              "      <td>ฝั่งขวา</td>\n",
              "      <td>NaN</td>\n",
              "      <td>NaN</td>\n",
              "      <td>NaN</td>\n",
              "      <td>NaN</td>\n",
              "    </tr>\n",
              "    <tr>\n",
              "      <th>1</th>\n",
              "      <td>219558E6-E67A-4672-9E46-3D084D0D2032.png</td>\n",
              "      <td>A1</td>\n",
              "      <td>A1</td>\n",
              "      <td>Iphone 11</td>\n",
              "      <td>ไฟธรรมชาติ + ไฟในห้อง 4 ดวง</td>\n",
              "      <td>สีดำ</td>\n",
              "      <td>ค่า duration 1/88 ISO 323</td>\n",
              "    </tr>\n",
              "    <tr>\n",
              "      <th>2</th>\n",
              "      <td>6D94544D-442A-4CFB-811D-FE7DC11D2ED2.png</td>\n",
              "      <td>A1</td>\n",
              "      <td>A1</td>\n",
              "      <td>Iphone 11</td>\n",
              "      <td>ไฟธรรมชาติ + ไฟในห้อง 4 ดวง</td>\n",
              "      <td>สีดำ</td>\n",
              "      <td>ค่า duration 1/88 ISO 323</td>\n",
              "    </tr>\n",
              "    <tr>\n",
              "      <th>3</th>\n",
              "      <td>7BF85808-DA35-4E17-B217-3872CF481063.png</td>\n",
              "      <td>A1</td>\n",
              "      <td>A1</td>\n",
              "      <td>Iphone 11</td>\n",
              "      <td>ไฟธรรมชาติ + ไฟในห้อง 4 ดวง</td>\n",
              "      <td>สีดำ</td>\n",
              "      <td>ค่า duration 1/88 ISO 323</td>\n",
              "    </tr>\n",
              "    <tr>\n",
              "      <th>4</th>\n",
              "      <td>F8F3A06B-FA35-4279-8C60-CA55360B7179.png</td>\n",
              "      <td>A1</td>\n",
              "      <td>A1</td>\n",
              "      <td>Iphone 11</td>\n",
              "      <td>ไฟธรรมชาติ + ไฟในห้อง 4 ดวง</td>\n",
              "      <td>สีดำ</td>\n",
              "      <td>ค่า duration 1/88 ISO 323</td>\n",
              "    </tr>\n",
              "    <tr>\n",
              "      <th>...</th>\n",
              "      <td>...</td>\n",
              "      <td>...</td>\n",
              "      <td>...</td>\n",
              "      <td>...</td>\n",
              "      <td>...</td>\n",
              "      <td>...</td>\n",
              "      <td>...</td>\n",
              "    </tr>\n",
              "    <tr>\n",
              "      <th>157</th>\n",
              "      <td>BD2FA08C-7FFF-4954-A5A7-439696889EAF.png</td>\n",
              "      <td>A1</td>\n",
              "      <td>D4</td>\n",
              "      <td>Iphone 11</td>\n",
              "      <td>ไฟธรรมชาติ + ไฟในห้อง 4 ดวง</td>\n",
              "      <td>สีดำ</td>\n",
              "      <td>ค่า duration 1/88 ISO 323</td>\n",
              "    </tr>\n",
              "    <tr>\n",
              "      <th>158</th>\n",
              "      <td>F416C964-E748-4A43-BD14-E972296B93AB.png</td>\n",
              "      <td>A1</td>\n",
              "      <td>D4</td>\n",
              "      <td>Iphone 11</td>\n",
              "      <td>ไฟธรรมชาติ + ไฟในห้อง 4 ดวง</td>\n",
              "      <td>สีดำ</td>\n",
              "      <td>ค่า duration 1/88 ISO 323</td>\n",
              "    </tr>\n",
              "    <tr>\n",
              "      <th>159</th>\n",
              "      <td>A7822018-E2E3-4156-8F78-EA68133F6491.png</td>\n",
              "      <td>A1</td>\n",
              "      <td>D4</td>\n",
              "      <td>Iphone 11</td>\n",
              "      <td>ไฟธรรมชาติ + ไฟในห้อง 4 ดวง</td>\n",
              "      <td>สีดำ</td>\n",
              "      <td>ค่า duration 1/88 ISO 323</td>\n",
              "    </tr>\n",
              "    <tr>\n",
              "      <th>160</th>\n",
              "      <td>5CD12207-6DA2-4D7B-B0DC-8D7406088384.png</td>\n",
              "      <td>A1</td>\n",
              "      <td>D4</td>\n",
              "      <td>Iphone 11</td>\n",
              "      <td>ไฟธรรมชาติ + ไฟในห้อง 4 ดวง</td>\n",
              "      <td>สีดำ</td>\n",
              "      <td>ค่า duration 1/88 ISO 323</td>\n",
              "    </tr>\n",
              "    <tr>\n",
              "      <th>161</th>\n",
              "      <td>E0E1C37E-221D-4768-8BC2-66513E7C527B.png</td>\n",
              "      <td>A1</td>\n",
              "      <td>D4</td>\n",
              "      <td>Iphone 11</td>\n",
              "      <td>ไฟธรรมชาติ + ไฟในห้อง 4 ดวง</td>\n",
              "      <td>สีดำ</td>\n",
              "      <td>ค่า duration 1/88 ISO 323</td>\n",
              "    </tr>\n",
              "  </tbody>\n",
              "</table>\n",
              "<p>162 rows × 7 columns</p>\n",
              "</div>"
            ],
            "text/plain": [
              "                               ชื่อไฟล์ข้อมูล  ...                   หมายเหตุ\n",
              "0                                         NaN  ...                        NaN\n",
              "1    219558E6-E67A-4672-9E46-3D084D0D2032.png  ...  ค่า duration 1/88 ISO 323\n",
              "2    6D94544D-442A-4CFB-811D-FE7DC11D2ED2.png  ...  ค่า duration 1/88 ISO 323\n",
              "3    7BF85808-DA35-4E17-B217-3872CF481063.png  ...  ค่า duration 1/88 ISO 323\n",
              "4    F8F3A06B-FA35-4279-8C60-CA55360B7179.png  ...  ค่า duration 1/88 ISO 323\n",
              "..                                        ...  ...                        ...\n",
              "157  BD2FA08C-7FFF-4954-A5A7-439696889EAF.png  ...  ค่า duration 1/88 ISO 323\n",
              "158  F416C964-E748-4A43-BD14-E972296B93AB.png  ...  ค่า duration 1/88 ISO 323\n",
              "159  A7822018-E2E3-4156-8F78-EA68133F6491.png  ...  ค่า duration 1/88 ISO 323\n",
              "160  5CD12207-6DA2-4D7B-B0DC-8D7406088384.png  ...  ค่า duration 1/88 ISO 323\n",
              "161  E0E1C37E-221D-4768-8BC2-66513E7C527B.png  ...  ค่า duration 1/88 ISO 323\n",
              "\n",
              "[162 rows x 7 columns]"
            ]
          },
          "metadata": {},
          "execution_count": 62
        }
      ]
    },
    {
      "cell_type": "code",
      "metadata": {
        "colab": {
          "base_uri": "https://localhost:8080/",
          "height": 423
        },
        "id": "X6w8bgse0RQZ",
        "outputId": "4a8bd025-1ef8-4f8a-e8bd-837e27740c1d"
      },
      "source": [
        "A1_set1 = A1_set1.drop([0])\n",
        "A1_set1"
      ],
      "execution_count": null,
      "outputs": [
        {
          "output_type": "execute_result",
          "data": {
            "text/html": [
              "<div>\n",
              "<style scoped>\n",
              "    .dataframe tbody tr th:only-of-type {\n",
              "        vertical-align: middle;\n",
              "    }\n",
              "\n",
              "    .dataframe tbody tr th {\n",
              "        vertical-align: top;\n",
              "    }\n",
              "\n",
              "    .dataframe thead th {\n",
              "        text-align: right;\n",
              "    }\n",
              "</style>\n",
              "<table border=\"1\" class=\"dataframe\">\n",
              "  <thead>\n",
              "    <tr style=\"text-align: right;\">\n",
              "      <th></th>\n",
              "      <th>ชื่อไฟล์ข้อมูล</th>\n",
              "      <th>ฝั่งซ้าย</th>\n",
              "      <th>ฝั่งขวา</th>\n",
              "      <th>ชนิดกล้องถ่ายรูป</th>\n",
              "      <th>แสงที่ใช้</th>\n",
              "      <th>ฉากหลัง</th>\n",
              "      <th>หมายเหตุ</th>\n",
              "    </tr>\n",
              "  </thead>\n",
              "  <tbody>\n",
              "    <tr>\n",
              "      <th>1</th>\n",
              "      <td>219558E6-E67A-4672-9E46-3D084D0D2032.png</td>\n",
              "      <td>A1</td>\n",
              "      <td>A1</td>\n",
              "      <td>Iphone 11</td>\n",
              "      <td>ไฟธรรมชาติ + ไฟในห้อง 4 ดวง</td>\n",
              "      <td>สีดำ</td>\n",
              "      <td>ค่า duration 1/88 ISO 323</td>\n",
              "    </tr>\n",
              "    <tr>\n",
              "      <th>2</th>\n",
              "      <td>6D94544D-442A-4CFB-811D-FE7DC11D2ED2.png</td>\n",
              "      <td>A1</td>\n",
              "      <td>A1</td>\n",
              "      <td>Iphone 11</td>\n",
              "      <td>ไฟธรรมชาติ + ไฟในห้อง 4 ดวง</td>\n",
              "      <td>สีดำ</td>\n",
              "      <td>ค่า duration 1/88 ISO 323</td>\n",
              "    </tr>\n",
              "    <tr>\n",
              "      <th>3</th>\n",
              "      <td>7BF85808-DA35-4E17-B217-3872CF481063.png</td>\n",
              "      <td>A1</td>\n",
              "      <td>A1</td>\n",
              "      <td>Iphone 11</td>\n",
              "      <td>ไฟธรรมชาติ + ไฟในห้อง 4 ดวง</td>\n",
              "      <td>สีดำ</td>\n",
              "      <td>ค่า duration 1/88 ISO 323</td>\n",
              "    </tr>\n",
              "    <tr>\n",
              "      <th>4</th>\n",
              "      <td>F8F3A06B-FA35-4279-8C60-CA55360B7179.png</td>\n",
              "      <td>A1</td>\n",
              "      <td>A1</td>\n",
              "      <td>Iphone 11</td>\n",
              "      <td>ไฟธรรมชาติ + ไฟในห้อง 4 ดวง</td>\n",
              "      <td>สีดำ</td>\n",
              "      <td>ค่า duration 1/88 ISO 323</td>\n",
              "    </tr>\n",
              "    <tr>\n",
              "      <th>5</th>\n",
              "      <td>B7D67D95-6E1E-4FDB-9C86-BEC2876991A4.png</td>\n",
              "      <td>A1</td>\n",
              "      <td>A1</td>\n",
              "      <td>Iphone 11</td>\n",
              "      <td>ไฟธรรมชาติ + ไฟในห้อง 4 ดวง</td>\n",
              "      <td>สีดำ</td>\n",
              "      <td>ค่า duration 1/88 ISO 323</td>\n",
              "    </tr>\n",
              "    <tr>\n",
              "      <th>...</th>\n",
              "      <td>...</td>\n",
              "      <td>...</td>\n",
              "      <td>...</td>\n",
              "      <td>...</td>\n",
              "      <td>...</td>\n",
              "      <td>...</td>\n",
              "      <td>...</td>\n",
              "    </tr>\n",
              "    <tr>\n",
              "      <th>157</th>\n",
              "      <td>BD2FA08C-7FFF-4954-A5A7-439696889EAF.png</td>\n",
              "      <td>A1</td>\n",
              "      <td>D4</td>\n",
              "      <td>Iphone 11</td>\n",
              "      <td>ไฟธรรมชาติ + ไฟในห้อง 4 ดวง</td>\n",
              "      <td>สีดำ</td>\n",
              "      <td>ค่า duration 1/88 ISO 323</td>\n",
              "    </tr>\n",
              "    <tr>\n",
              "      <th>158</th>\n",
              "      <td>F416C964-E748-4A43-BD14-E972296B93AB.png</td>\n",
              "      <td>A1</td>\n",
              "      <td>D4</td>\n",
              "      <td>Iphone 11</td>\n",
              "      <td>ไฟธรรมชาติ + ไฟในห้อง 4 ดวง</td>\n",
              "      <td>สีดำ</td>\n",
              "      <td>ค่า duration 1/88 ISO 323</td>\n",
              "    </tr>\n",
              "    <tr>\n",
              "      <th>159</th>\n",
              "      <td>A7822018-E2E3-4156-8F78-EA68133F6491.png</td>\n",
              "      <td>A1</td>\n",
              "      <td>D4</td>\n",
              "      <td>Iphone 11</td>\n",
              "      <td>ไฟธรรมชาติ + ไฟในห้อง 4 ดวง</td>\n",
              "      <td>สีดำ</td>\n",
              "      <td>ค่า duration 1/88 ISO 323</td>\n",
              "    </tr>\n",
              "    <tr>\n",
              "      <th>160</th>\n",
              "      <td>5CD12207-6DA2-4D7B-B0DC-8D7406088384.png</td>\n",
              "      <td>A1</td>\n",
              "      <td>D4</td>\n",
              "      <td>Iphone 11</td>\n",
              "      <td>ไฟธรรมชาติ + ไฟในห้อง 4 ดวง</td>\n",
              "      <td>สีดำ</td>\n",
              "      <td>ค่า duration 1/88 ISO 323</td>\n",
              "    </tr>\n",
              "    <tr>\n",
              "      <th>161</th>\n",
              "      <td>E0E1C37E-221D-4768-8BC2-66513E7C527B.png</td>\n",
              "      <td>A1</td>\n",
              "      <td>D4</td>\n",
              "      <td>Iphone 11</td>\n",
              "      <td>ไฟธรรมชาติ + ไฟในห้อง 4 ดวง</td>\n",
              "      <td>สีดำ</td>\n",
              "      <td>ค่า duration 1/88 ISO 323</td>\n",
              "    </tr>\n",
              "  </tbody>\n",
              "</table>\n",
              "<p>161 rows × 7 columns</p>\n",
              "</div>"
            ],
            "text/plain": [
              "                               ชื่อไฟล์ข้อมูล  ...                   หมายเหตุ\n",
              "1    219558E6-E67A-4672-9E46-3D084D0D2032.png  ...  ค่า duration 1/88 ISO 323\n",
              "2    6D94544D-442A-4CFB-811D-FE7DC11D2ED2.png  ...  ค่า duration 1/88 ISO 323\n",
              "3    7BF85808-DA35-4E17-B217-3872CF481063.png  ...  ค่า duration 1/88 ISO 323\n",
              "4    F8F3A06B-FA35-4279-8C60-CA55360B7179.png  ...  ค่า duration 1/88 ISO 323\n",
              "5    B7D67D95-6E1E-4FDB-9C86-BEC2876991A4.png  ...  ค่า duration 1/88 ISO 323\n",
              "..                                        ...  ...                        ...\n",
              "157  BD2FA08C-7FFF-4954-A5A7-439696889EAF.png  ...  ค่า duration 1/88 ISO 323\n",
              "158  F416C964-E748-4A43-BD14-E972296B93AB.png  ...  ค่า duration 1/88 ISO 323\n",
              "159  A7822018-E2E3-4156-8F78-EA68133F6491.png  ...  ค่า duration 1/88 ISO 323\n",
              "160  5CD12207-6DA2-4D7B-B0DC-8D7406088384.png  ...  ค่า duration 1/88 ISO 323\n",
              "161  E0E1C37E-221D-4768-8BC2-66513E7C527B.png  ...  ค่า duration 1/88 ISO 323\n",
              "\n",
              "[161 rows x 7 columns]"
            ]
          },
          "metadata": {},
          "execution_count": 63
        }
      ]
    },
    {
      "cell_type": "code",
      "metadata": {
        "id": "qynTygcC1ZBH"
      },
      "source": [
        "import cv2\n",
        "from matplotlib import pyplot as plt #การเรียกใช้คำสั่ง matplotlib เพื่อวาดกราฟ โดยแทนชื่อ matplotlib ด้วย plt\n",
        "import matplotlib"
      ],
      "execution_count": null,
      "outputs": []
    },
    {
      "cell_type": "code",
      "metadata": {
        "id": "2ER65Z1z6_2X"
      },
      "source": [
        "S1_doubleA1A1_1 = '219558E6-E67A-4672-9E46-3D084D0D2032.png\t'"
      ],
      "execution_count": null,
      "outputs": []
    },
    {
      "cell_type": "code",
      "metadata": {
        "colab": {
          "base_uri": "https://localhost:8080/"
        },
        "id": "xRPgSrB949r4",
        "outputId": "4c01814c-8544-42cc-d087-15415a2bb8fb"
      },
      "source": [
        "full_path_to_file2 = os.path.join(S1_doubleA1A1_1) \n",
        "blob_service_client.get_blob_to_path('shadeimg', full_path_to_file2, full_path_to_file2)"
      ],
      "execution_count": null,
      "outputs": [
        {
          "output_type": "execute_result",
          "data": {
            "text/plain": [
              "<azure.storage.blob.models.Blob at 0x7fb2f1b91450>"
            ]
          },
          "metadata": {},
          "execution_count": 80
        }
      ]
    },
    {
      "cell_type": "code",
      "metadata": {
        "id": "LW5V8IlX5LPC"
      },
      "source": [
        "imgS1_A1A1_1  = cv2.imread(S1_doubleA1A1_1)\n",
        "S1RGB_imgA1A1_1= cv2.cvtColor(imgS1_A1A1_1, cv2.COLOR_BGR2RGB)"
      ],
      "execution_count": null,
      "outputs": []
    },
    {
      "cell_type": "code",
      "metadata": {
        "id": "kbd_KOCD5vG7"
      },
      "source": [
        "import numpy as np"
      ],
      "execution_count": null,
      "outputs": []
    },
    {
      "cell_type": "code",
      "metadata": {
        "colab": {
          "base_uri": "https://localhost:8080/"
        },
        "id": "m3j-zQAH5LI4",
        "outputId": "3689a622-1dc6-45c5-9577-390357bb14ba"
      },
      "source": [
        "S1meanrefA1_1 = list()\n",
        "S1meanA1_2 = list()\n",
        "for i in range(S1RGB_imgA1A1_1.shape[0]): #ให้ i รันตาม row หรือ shape[0] คือแถว มีทั้งหมด 4032 แถว ของภาพที่ปรับขนาดมาแล้ว\n",
        "     for j in range(S1RGB_imgA1A1_1.shape[1]): #ให้ j รันตาม colum มีทั้งหมด 3024 colum เช่น แถวที่ 1 เข้ามาให้รันครบ 3024colum\n",
        "                if 1769<i<1881 and 2019<j<2131 :\n",
        "                  S1meanrefA1_1.append(S1RGB_imgA1A1_1[i][j])\n",
        "                if 1770<i<1880 and 2015<j<2145 :\n",
        "                  S1meanA1_2.append(S1RGB_imgA1A1_1[i][j])  \n",
        "S1meanrefA1_1 = np.array(S1meanrefA1_1)\n",
        "S1meanA1_2 = np.array(S1meanA1_2)\n",
        "\n",
        "S1rgbrefA1_1 = list()\n",
        "S1rgbA1_2 = list()\n",
        "for i in range(3):\n",
        "    S1rgbrefA1_1.append(S1meanrefA1_1[:,i].mean())\n",
        "    S1rgbA1_2.append(S1meanA1_2[:,i].mean())\n",
        "S1rgbrefA1_1,S1rgbA1_2 "
      ],
      "execution_count": null,
      "outputs": [
        {
          "output_type": "execute_result",
          "data": {
            "text/plain": [
              "([237.14446879311745, 225.53786218651084, 191.67080594107622],\n",
              " [237.80918853566604, 226.41682668373517, 193.19536306094872])"
            ]
          },
          "metadata": {},
          "execution_count": 85
        }
      ]
    },
    {
      "cell_type": "code",
      "metadata": {
        "id": "aqVTTsy35K6K"
      },
      "source": [
        "from tabulate import tabulate"
      ],
      "execution_count": null,
      "outputs": []
    },
    {
      "cell_type": "code",
      "metadata": {
        "id": "Aju5DUHW49cB"
      },
      "source": [
        "table   = [['R-ref', 'G-ref', 'B-ref', 'R-Shad', 'G-Shad', 'B-Shad', 'H-ref', 'S-ref', 'V-ref', 'H-Shad', 'S-Shad', 'V-Shad', 'Shade-ref', 'Shade', 'Setting']]"
      ],
      "execution_count": null,
      "outputs": []
    },
    {
      "cell_type": "code",
      "metadata": {
        "id": "JCx_UpHa6bZp"
      },
      "source": [
        ""
      ],
      "execution_count": null,
      "outputs": []
    },
    {
      "cell_type": "code",
      "metadata": {
        "id": "o51MaDGE-w7V"
      },
      "source": [
        "A1_set11=A1_set1.head(3)"
      ],
      "execution_count": null,
      "outputs": []
    },
    {
      "cell_type": "code",
      "metadata": {
        "colab": {
          "base_uri": "https://localhost:8080/",
          "height": 143
        },
        "id": "fnpSLFTu_Lir",
        "outputId": "6fc0305c-dd05-497b-9d11-3ccbecea07de"
      },
      "source": [
        "A1_set11"
      ],
      "execution_count": null,
      "outputs": [
        {
          "output_type": "execute_result",
          "data": {
            "text/html": [
              "<div>\n",
              "<style scoped>\n",
              "    .dataframe tbody tr th:only-of-type {\n",
              "        vertical-align: middle;\n",
              "    }\n",
              "\n",
              "    .dataframe tbody tr th {\n",
              "        vertical-align: top;\n",
              "    }\n",
              "\n",
              "    .dataframe thead th {\n",
              "        text-align: right;\n",
              "    }\n",
              "</style>\n",
              "<table border=\"1\" class=\"dataframe\">\n",
              "  <thead>\n",
              "    <tr style=\"text-align: right;\">\n",
              "      <th></th>\n",
              "      <th>ชื่อไฟล์ข้อมูล</th>\n",
              "      <th>ฝั่งซ้าย</th>\n",
              "      <th>ฝั่งขวา</th>\n",
              "      <th>ชนิดกล้องถ่ายรูป</th>\n",
              "      <th>แสงที่ใช้</th>\n",
              "      <th>ฉากหลัง</th>\n",
              "      <th>หมายเหตุ</th>\n",
              "    </tr>\n",
              "  </thead>\n",
              "  <tbody>\n",
              "    <tr>\n",
              "      <th>1</th>\n",
              "      <td>219558E6-E67A-4672-9E46-3D084D0D2032.png</td>\n",
              "      <td>A1</td>\n",
              "      <td>A1</td>\n",
              "      <td>Iphone 11</td>\n",
              "      <td>ไฟธรรมชาติ + ไฟในห้อง 4 ดวง</td>\n",
              "      <td>สีดำ</td>\n",
              "      <td>ค่า duration 1/88 ISO 323</td>\n",
              "    </tr>\n",
              "    <tr>\n",
              "      <th>2</th>\n",
              "      <td>6D94544D-442A-4CFB-811D-FE7DC11D2ED2.png</td>\n",
              "      <td>A1</td>\n",
              "      <td>A1</td>\n",
              "      <td>Iphone 11</td>\n",
              "      <td>ไฟธรรมชาติ + ไฟในห้อง 4 ดวง</td>\n",
              "      <td>สีดำ</td>\n",
              "      <td>ค่า duration 1/88 ISO 323</td>\n",
              "    </tr>\n",
              "    <tr>\n",
              "      <th>3</th>\n",
              "      <td>7BF85808-DA35-4E17-B217-3872CF481063.png</td>\n",
              "      <td>A1</td>\n",
              "      <td>A1</td>\n",
              "      <td>Iphone 11</td>\n",
              "      <td>ไฟธรรมชาติ + ไฟในห้อง 4 ดวง</td>\n",
              "      <td>สีดำ</td>\n",
              "      <td>ค่า duration 1/88 ISO 323</td>\n",
              "    </tr>\n",
              "  </tbody>\n",
              "</table>\n",
              "</div>"
            ],
            "text/plain": [
              "                             ชื่อไฟล์ข้อมูล  ...                   หมายเหตุ\n",
              "1  219558E6-E67A-4672-9E46-3D084D0D2032.png  ...  ค่า duration 1/88 ISO 323\n",
              "2  6D94544D-442A-4CFB-811D-FE7DC11D2ED2.png  ...  ค่า duration 1/88 ISO 323\n",
              "3  7BF85808-DA35-4E17-B217-3872CF481063.png  ...  ค่า duration 1/88 ISO 323\n",
              "\n",
              "[3 rows x 7 columns]"
            ]
          },
          "metadata": {},
          "execution_count": 103
        }
      ]
    },
    {
      "cell_type": "code",
      "metadata": {
        "id": "amwt9uoeCt4t"
      },
      "source": [
        "table"
      ],
      "execution_count": null,
      "outputs": []
    },
    {
      "cell_type": "code",
      "metadata": {
        "colab": {
          "base_uri": "https://localhost:8080/"
        },
        "id": "I5lam_cA6bWY",
        "outputId": "4a6c051c-a0dc-4106-f8c6-98dfed5b3cc9"
      },
      "source": [
        "for img in A1_set1['ชื่อไฟล์ข้อมูล']:\n",
        "  S1_double = img\n",
        "  full_path_to_file2 = os.path.join(S1_double) \n",
        "  blob_service_client.get_blob_to_path('shadeimg', full_path_to_file2, full_path_to_file2)\n",
        "  imgS1_A1A1_1  = cv2.imread(S1_double) #RGB\n",
        "  S1RGB_imgA1A1_1= cv2.cvtColor(imgS1_A1A1_1, cv2.COLOR_BGR2RGB)\n",
        "  S1meanrefA1_1 = list()\n",
        "  S1meanA1_2 = list()\n",
        "  for i in range(S1RGB_imgA1A1_1.shape[0]): #ให้ i รันตาม row หรือ shape[0] คือแถว มีทั้งหมด 4032 แถว ของภาพที่ปรับขนาดมาแล้ว\n",
        "     for j in range(S1RGB_imgA1A1_1.shape[1]): #ให้ j รันตาม colum มีทั้งหมด 3024 colum เช่น แถวที่ 1 เข้ามาให้รันครบ 3024colum\n",
        "                if 1769<i<1881 and 2019<j<2131 :\n",
        "                  S1meanrefA1_1.append(S1RGB_imgA1A1_1[i][j])\n",
        "                if 1770<i<1880 and 2015<j<2145 :\n",
        "                  S1meanA1_2.append(S1RGB_imgA1A1_1[i][j])  \n",
        "  S1meanrefA1_1 = np.array(S1meanrefA1_1)\n",
        "  S1meanA1_2 = np.array(S1meanA1_2)\n",
        "  S1rgbrefA1_1 = list()\n",
        "  S1rgbA1_2 = list()\n",
        "  for i in range(3):\n",
        "    S1rgbrefA1_1.append(S1meanrefA1_1[:,i].mean())\n",
        "    S1rgbA1_2.append(S1meanA1_2[:,i].mean())\n",
        "\n",
        "  S1_A1A1_1img  = cv2.imread(S1_double)\n",
        "  S1HSV_imgA1A1_1= cv2.cvtColor(S1_A1A1_1img, cv2.COLOR_BGR2HSV)\n",
        "  S1meanrefA1_1 = list()\n",
        "  S1meanA1_2 = list()\n",
        "    for i in range(S1_double.shape[0]): #ให้ i รันตาม row หรือ shape[0] คือแถว มีทั้งหมด 4032 แถว ของภาพที่ปรับขนาดมาแล้ว\n",
        "      for j in range(S1_double.shape[1]): #ให้ j รันตาม colum มีทั้งหมด 3024 colum เช่น แถวที่ 1 เข้ามาให้รันครบ 3024colum\n",
        "                if 1769<i<1881 and 2019<j<2131 :\n",
        "                  S1meanrefA1_1.append(S1_double[i][j])\n",
        "                if 1770<i<1880 and 2015<j<2145 :\n",
        "                  S1meanA1_2.append(S1_double[i][j])  \n",
        "  S1meanrefA1_1 = np.array(S1meanrefA1_1)\n",
        "  S1meanA1_2 = np.array(S1meanA1_2)\n",
        "\n",
        "  S1hsvrefA1_1 = list()\n",
        "  S1hsvA1_2 = list()\n",
        "  for i in range(3):\n",
        "    S1hsvrefA1_1.append(S1meanrefA1_1[:,i].mean())\n",
        "    S1hsvA1_2.append(S1meanA1_2[:,i].mean())\n",
        "  S1hsvrefA1_1,S1hsvA1_2 \n",
        "tableSet1 = \n",
        "\n"
      ],
      "execution_count": null,
      "outputs": [
        {
          "output_type": "stream",
          "name": "stdout",
          "text": [
            "[237.14446879311745, 225.53786218651084, 191.67080594107622] [237.80918853566604, 226.41682668373517, 193.19536306094872]\n",
            "[235.97857316776236, 225.38194951708465, 192.18001785569354] [236.68835786928383, 226.20859113861033, 193.70400398264704]\n",
            "[235.79993507020535, 224.51602954305656, 190.8735492249006] [236.47820211933717, 225.35438446767654, 192.36633240879027]\n",
            "[234.88783377972567, 223.69012255498743, 188.79628276925575] [235.60906052201125, 224.5459782376787, 190.3224521726762]\n",
            "[235.36458079701322, 223.85837188539892, 189.23675026377728] [236.0312922267264, 224.67804565820353, 190.75570727544272]\n",
            "[237.41068095122148, 225.42261180099018, 190.39298758217677] [237.92112936491003, 226.17744114927814, 191.63388094730104]\n",
            "[237.45775505234965, 225.6155344533723, 190.2500608716825] [238.01671289381977, 226.36725695185265, 191.45466183059526]\n",
            "[235.88239590942294, 224.64037009982957, 190.7642236831426] [236.54533816940474, 225.48026456155324, 192.3069482967072]\n",
            "[238.0883856829803, 226.91169547926305, 191.6132619105592] [238.7035061517673, 227.78707062086622, 193.21897446838773]\n",
            "[236.15891567242917, 225.10851391932474, 190.48470091713335] [236.83884503235902, 225.87547116136832, 192.04772064575778]\n",
            "[238.26807888970052, 221.31604577550524, 178.4043502962422] [238.88720574639072, 222.16961809259655, 179.6503093663324]\n",
            "[239.99212726239753, 222.83718853989123, 178.56156156156158] [240.48417608989402, 223.57172320603087, 179.73764312637792]\n",
            "[238.73557341124908, 222.26491356221086, 178.57487216946677] [239.3016143944243, 223.06173102908755, 179.84816158167982]\n",
            "[240.0156643129616, 223.08302897492086, 179.01517733950166] [240.5020980015646, 223.79340018490862, 180.2001280136548]\n",
            "[238.8872656440224, 222.62876389903417, 179.0216703189676] [239.51418818007255, 223.45544413626342, 180.4124884432117]\n",
            "[240.2537131726321, 223.24949273597923, 178.51327002678354] [240.7280421022687, 223.93371737429771, 179.62819145153262]\n",
            "[239.24624624624624, 221.6617969320672, 177.40922003084165] [239.869852784297, 222.53218121044023, 178.8972334826826]\n",
            "[237.17003489976463, 220.29348267186106, 176.5260936612288] [237.86202972761538, 221.23319820780884, 177.97894886565678]\n",
            "[237.63606850093336, 220.28179530882232, 176.86851716581447] [238.28902638503664, 221.17395633311997, 178.21428063437878]\n",
            "[237.3747260774288, 219.9601493385277, 176.63728593458322] [237.95761325652515, 220.81253111443, 177.95135481117987]\n",
            "[239.2816329843357, 218.34510185861538, 169.22701079457835] [239.7699310148638, 219.2590142948581, 170.83543133489795]\n",
            "[238.70586803019236, 218.68387306225145, 169.96079863647432] [239.25197354384468, 219.5875115567883, 171.44178934641917]\n",
            "[238.4277250223196, 218.4706598490382, 169.66902037172306] [239.00853424365266, 219.38930374795532, 171.19849228362136]\n",
            "[238.00957714471227, 218.14649784920056, 168.65278792305818] [238.45615532323447, 218.89239741127943, 169.9662186188749]\n",
            "[240.33714795876958, 220.0529177826475, 169.078808538268] [240.72640637223526, 220.90306521584526, 170.67448972334827]\n",
            "[239.0215891567243, 218.56553851148445, 168.5354273192111] [239.51831306450467, 219.42194722992676, 169.97617523646966]\n",
            "[239.96915834753673, 219.68379190000812, 169.2663744825907] [240.3911528340801, 220.3560913164071, 170.46269824336818]\n",
            "[240.4466358250142, 219.94756919081243, 169.07466926385845] [240.7958893393073, 220.61290093165493, 170.14799800867647]\n",
            "[240.41619998376754, 219.53388523658793, 168.24421719016314] [240.81430908185763, 220.45302610056183, 170.00341369746107]\n",
            "[238.7296485674864, 218.1180099017937, 168.42488434380326] [239.22985562904486, 219.01194794111373, 169.9310148638077]\n",
            "[237.5573411249087, 211.82493304114925, 157.1512864215567] [238.25823198918997, 212.94765663893037, 158.9896166702226]\n",
            "[240.09301193084977, 213.65173281389497, 156.66268971674378] [240.73280705497476, 214.77697176587725, 158.43901571723205]\n",
            "[237.32878824770717, 211.28325622920218, 155.06598490382274] [238.08754711613682, 212.42059597468173, 156.9505725055117]\n",
            "[238.52617482347213, 211.34209885561236, 153.59175391607823] [239.04907190100278, 212.23483393784227, 155.06464689566886]\n",
            "[238.36839542244948, 210.77940102264427, 153.54443632822012] [238.96685868714886, 211.83656923405164, 155.26107673707418]\n",
            "[240.5437058680302, 213.14649784920056, 156.37626816005195] [241.13448545622643, 214.22665528767513, 158.20610198421164]\n",
            "[238.80423666910153, 211.26247869491112, 154.60538917295673] [239.4018206386459, 212.33496906336677, 156.21321385392218]\n",
            "[240.45012580147716, 213.40118496875255, 156.74036198360523] [241.02787852926534, 214.39826470379063, 158.36057179432473]\n",
            "[240.15672429185943, 213.6673971268566, 156.91948705462218] [240.7813811250978, 214.79411137187967, 158.88372093023256]\n",
            "[238.4166869572275, 212.7136596055515, 158.66569271974677] [239.05625488941044, 213.77405589929592, 160.48275371595193]\n",
            "[237.51992533073613, 210.90138787436084, 155.76998620241864] [238.20901785079297, 211.98129578266125, 157.37116848019343]\n",
            "[234.51140329518708, 208.01412223033844, 155.75578280983686] [235.23895882227438, 209.2379631605149, 157.76808192873906]\n",
            "[236.95536076617157, 210.87257527798067, 158.77063550036522] [237.62207524358155, 212.09280989972262, 161.11023398051347]\n",
            "[235.03814625436246, 208.8027757487217, 156.38097557016476] [235.776118341512, 210.02901642841903, 158.4629115994595]\n",
            "[236.26150474799124, 210.25395665936207, 156.6900413927441] [237.04124884432116, 211.46909892610768, 158.70955124102127]\n",
            "[236.35825014203394, 210.23553283012743, 156.76211346481617] [237.12566673778537, 211.46355166773344, 158.80449470165706]\n",
            "[236.24121418716012, 210.40727213700185, 157.47049752455158] [236.99900433824052, 211.61716805348127, 159.46120475072897]\n",
            "[236.76738901063226, 211.19040662283905, 157.94659524389255] [237.50224023895882, 212.320958680037, 159.89531327786074]\n",
            "[236.77331385439493, 209.91786380975572, 155.54435516597678] [237.38574781310007, 210.93193940687007, 157.04181779389802]\n",
            "[236.01753104455807, 209.08205502800098, 154.72485999513026] [236.78600384040965, 210.43097930445913, 156.98470948012232]\n",
            "[237.8766333901469, 227.82964045126207, 194.27156886616345] [238.6633952065998, 228.62513334755707, 195.73302041106606]\n",
            "[240.4984984984985, 229.60206152098044, 194.79198117035955] [240.9247564184624, 230.1625773415831, 195.71616527985208]\n",
            "[241.54492330168006, 229.77656034412792, 195.554662770879] [242.06606926961098, 230.5227935424223, 196.78891970699098]\n",
            "[239.14235857479102, 229.0771041311582, 197.6501907312718] [239.78628831519808, 229.9234762819145, 198.983144868786]\n",
            "[239.03481860238617, 228.96859021183346, 195.1024267510754] [239.73586515895028, 229.71225375151127, 196.48026456155324]\n",
            "[239.4179855531207, 227.436571706842, 192.5756026296567] [239.88962378209231, 228.07844392290733, 193.45964013939263]\n",
            "[239.08862916971026, 228.00316532748965, 194.29591753916077] [239.66019486523007, 228.76118341511983, 195.46056468245501]\n",
            "[240.3650677704732, 230.3578443308173, 196.8533398263128] [240.83464902922978, 230.88066282625704, 197.91508427565606]\n",
            "[238.78410843275708, 228.0389578767957, 194.0109569028488] [239.48047791764455, 228.81068202830525, 195.3604295569305]\n",
            "[239.00519438357276, 227.18367015664313, 192.5782809836864] [239.5407154540929, 227.9400469383401, 193.7150273806984]\n",
            "[241.00243486729974, 225.82858534209885, 183.28585342098856] [241.4993243723775, 226.61147855771281, 184.81082426569947]\n",
            "[241.27075724373023, 226.12750588426263, 179.69986202418636] [241.83550245359504, 227.00576061446554, 181.473366047934]\n",
            "[240.98912425939454, 225.4436328220112, 179.69133998863728] [241.5121968565536, 226.12694687433327, 181.091031932295]\n",
            "[241.3093093093093, 225.75448421394367, 179.1317263209155] [241.87298200696964, 226.53779958751156, 180.5771282270109]\n",
            "[238.599951302654, 222.4502069637205, 177.51270189108027] [239.09913946376503, 223.23632743048148, 178.98762534670365]\n",
            "[239.4685496307118, 223.36758380001623, 178.99407515623733] [240.14117061375435, 224.27885641135055, 180.5828177227793]\n",
            "[240.86527067608148, 224.6378540702865, 178.54930606281957] [241.27081999857762, 225.25801863309863, 179.52734513903707]\n",
            "[238.57535914292671, 222.7562697832968, 177.9554419284149] [239.178010098855, 223.66567100490718, 179.602162008392]\n",
            "[241.33154776398018, 225.31190650109568, 180.05705705705705] [241.82426569945238, 226.07510134414338, 181.378280349904]\n",
            "[240.99756513270026, 224.6863890917945, 179.65554743933123] [241.46838773913663, 225.42564540217623, 180.82270108811608]\n",
            "[237.84546708871034, 221.65554743933123, 176.51968184400616] [238.4707346561411, 222.53260792262284, 178.06016641775122]\n",
            "[239.55644834023212, 216.78402727051375, 161.19974028082137] [240.06194438517886, 217.745110589574, 163.0310788706351]\n",
            "[241.2846359873387, 216.924194464735, 160.4067851635419] [241.69568309508568, 217.72007680819289, 161.8661546120475]\n",
            "[241.12231150068988, 216.84351919487054, 158.66447528609692] [241.49107460351325, 217.48922551738852, 159.8052058886281]\n",
            "[240.60676893109326, 216.39298758217677, 159.81267754240727] [241.0637223526065, 217.15631889623782, 161.23924329706279]\n",
            "[241.56148039931824, 217.1329437545654, 159.14601087574061] [241.8763957044307, 217.6724272811322, 160.20859113861033]\n",
            "[241.9016313610908, 217.12328544760976, 159.9142115088061] [242.24095014579333, 217.78330132991962, 161.0899651518384]\n",
            "[241.55222790357925, 217.68460352244136, 160.33430728025323] [241.94957684375223, 218.58424009672143, 162.11478557712823]\n",
            "[240.9863647431215, 216.63639314990667, 159.50263777290803] [241.34762819145152, 217.33781381125098, 160.93158381338455]\n",
            "[241.16784351919486, 216.7549711874036, 159.33317100884668] [241.56873622075244, 217.4822558850722, 160.65365194509636]\n",
            "[241.46546546546546, 217.1176852528204, 159.9252495738982] [241.79823625631178, 217.83052414479766, 161.4407225659626]\n",
            "[237.71390309228147, 213.2128885642399, 156.0625760896031] [238.35061517672997, 214.12431548254037, 157.70407510134413]\n",
            "[237.99594188783377, 212.46165084002922, 153.93985877769663] [238.54412915155393, 213.27444705213, 155.25147571296495]\n",
            "[238.24551578605633, 211.34729323918512, 152.10031653274896] [238.80947301045444, 212.19543417964582, 153.33610696252046]\n",
            "[237.84108432757083, 211.0734518302086, 152.82314747179612] [238.41782234549464, 211.94047365052273, 154.0792262285755]\n",
            "[240.3498092687282, 212.8147877607337, 153.36636636636638] [240.87475997439728, 213.58054192447193, 154.3666168835787]\n",
            "[236.73752130508888, 210.49825501176852, 151.2088304520737] [237.27736291871133, 211.37472441504872, 152.6318896237821]\n",
            "[239.9810891973054, 213.02102102102103, 153.31020209398588] [240.56005973970557, 213.98200696963232, 154.8608207097646]\n",
            "[236.7096826556286, 210.98165733300868, 153.7569190812434] [237.27394922125026, 211.86039399758195, 155.2510490007823]\n",
            "[236.73232692151612, 210.1426832237643, 152.47772096420746] [237.28141668444633, 211.02048218476637, 153.9620937344428]\n",
            "[236.85017449882315, 210.4087330573817, 152.14820225631036] [237.43802005547258, 211.23967000924543, 153.27323803427922]\n",
            "[231.24113302491682, 216.26418310202095, 179.17109000892785] [231.96415617665883, 217.1925183130645, 180.64554441362634]\n",
            "[232.71154938722506, 217.01339177014853, 178.4735005275546] [233.5903563046725, 218.02218903349691, 180.01706848730532]\n",
            "[235.90398506614721, 218.94067040012985, 179.87574060547033] [236.48709195647535, 219.6669511414551, 181.01486380769504]\n",
            "[232.1759597435273, 216.87403619836053, 178.70846522197874] [232.96465400753857, 217.8321598748311, 180.18512196856554]\n",
            "[235.78889700511323, 220.4731758785813, 181.10956902848795] [236.51895313277862, 221.40886138965934, 182.5555081430908]\n",
            "[232.75943511078646, 216.69539810080352, 178.3807320834348] [233.43802005547258, 217.50280918853568, 179.6269113149847]\n",
            "[232.97281064848633, 217.61147634120607, 178.52633714795877] [233.76189460209088, 218.5577128227011, 179.9309437451106]\n",
            "[235.75269864459054, 219.89846603360118, 180.64337310283256] [236.44484745039472, 220.73124244363842, 181.92276509494346]\n",
            "[233.351513675838, 218.59857154451748, 181.03246489732976] [234.03563046724983, 219.49463053836854, 182.3886636796814]\n",
            "[236.07190974758544, 220.5835565295025, 181.18375131888646] [236.76786857264776, 221.42351184126306, 182.5980371239599]\n",
            "[231.85820956091226, 211.62080999918837, 167.3558152747342] [232.68757556361567, 212.71723206030865, 169.14970485740702]\n",
            "[231.65303140978816, 211.00454508562618, 165.67567567567568] [232.3758623142024, 212.03939975819642, 167.25446269824337]\n",
            "[234.34104374644915, 213.79904228552877, 168.44476909341773] [235.03563046724983, 214.8038546333831, 169.92383187540005]\n",
            "[231.4964694424154, 211.24689554419285, 166.6178881584287] [232.323661190527, 212.28319465187397, 168.3651233909395]\n",
            "[234.92930768606445, 214.1117604090577, 168.94489083678272] [235.58701372590855, 215.0401109451675, 170.33639143730886]\n",
            "[235.11849687525364, 215.2986770554338, 171.54541027514] [235.8281772277932, 216.33333333333334, 173.19429628049215]\n",
            "[230.50661472283093, 209.84246408570732, 165.02848794740686] [231.28312353317688, 210.8867790342081, 166.61930161439443]\n",
            "[231.1187403619836, 210.4057300543787, 165.6807077347618] [231.90192731669157, 211.47244150487163, 167.3770002133561]\n",
            "[230.5410275140005, 209.7967697427157, 165.09090171252333] [231.31164213071617, 210.79610269539862, 166.5371595192376]\n",
            "[231.72607742878014, 211.45507669831994, 167.22343965587208] [232.5331768721997, 212.55159661475003, 168.98250480051206]\n",
            "[230.9993507020534, 207.1755539323107, 157.77331385439493] [231.7293222388166, 208.23398051347698, 159.47955337458217]\n",
            "[230.93401509617726, 208.00722343965586, 159.54419284149014] [231.6803214565109, 208.97674418604652, 161.24564397980228]\n",
            "[231.74750426101778, 207.69085301517734, 159.00706111516922] [232.38297418391295, 208.51696180925964, 160.58459569020695]\n",
            "[227.99058517977437, 204.0192354516679, 157.69815761707653] [228.64540217623212, 204.9598890548325, 159.04729393357513]\n",
            "[231.52365879392906, 208.4579173768363, 160.5171658144631] [232.2066709337885, 209.31939406870066, 162.04224450608064]\n",
            "[228.19771122473824, 205.4482590698807, 159.58347536725915] [228.7762605789062, 206.28824407936847, 160.9545551525496]\n",
            "[228.24819414008604, 204.78759840922004, 156.76933690447203] [228.842898798094, 205.55799729748952, 158.0261005618377]\n",
            "[228.65327489651813, 205.01249898547195, 158.72453534615696] [229.20261716805348, 205.8217765450537, 159.96202261574567]\n",
            "[230.62032302572842, 206.85561236912588, 159.3129616102589] [231.21911670578194, 207.5616243510419, 160.47173031790058]\n",
            "[227.65830695560425, 204.47536725915106, 156.56318480642804] [228.18946020908896, 205.2979873408719, 157.68750444491857]\n",
            "[225.02751400048697, 196.41904066228392, 145.12693774855936] [225.750515610554, 197.43645544413627, 146.3743688215632]\n",
            "[222.86080675269864, 194.73549224900577, 144.6268971674377] [223.52706066424864, 195.5550814309082, 145.7072754427139]\n",
            "[222.36157779401023, 193.69377485593702, 143.09958607255905] [223.1453666168836, 194.71296493848232, 144.4979019984354]\n",
            "[222.71154938722506, 193.4971999026053, 143.71025079133187] [223.41014152620724, 194.42173387383542, 144.8947443282839]\n",
            "[222.78199821443064, 194.36125314503693, 144.51034818602386] [223.4939904700946, 195.40715454092881, 145.8259725481829]\n",
            "[226.10064118172227, 197.57527798068338, 146.7482347212077] [226.7958893393073, 198.54853851077448, 147.96614750017778]\n",
            "[223.03765928090252, 194.6751075399724, 144.19771122473824] [223.82284332551026, 195.76303250124457, 145.5564326861532]\n",
            "[226.79538998457917, 198.09374239103968, 146.7702296891486] [227.48261147855771, 199.17480975748524, 148.23604295569305]\n",
            "[227.19073127181235, 197.9723236750264, 146.9278467656846] [227.81743830453027, 198.9704146220041, 148.2354028874191]\n",
            "[223.40175310445582, 194.5852609366123, 144.0574628682737] [224.12787141739562, 195.53196785434892, 145.3771424507503]\n",
            "[233.03741579417255, 217.93158022887752, 185.32773313854395] [233.7528625275585, 218.83920062584454, 186.80413910817154]\n",
            "[232.5390796201607, 216.95162730297866, 183.9900170440711] [233.22032572363275, 217.7895597752649, 185.37500888983715]\n",
            "[232.03741579417255, 216.30403376349324, 183.40694748802858] [232.70229713391652, 217.1857620368395, 184.80293009032076]\n",
            "[236.2513594675757, 219.19803587371155, 185.73484295105916] [236.76943318398406, 220.08797382831946, 187.21406727828747]\n",
            "[236.47114682249818, 219.39177014852692, 186.65952438925413] [237.18163715240738, 220.53082995519523, 188.40786572789986]\n",
            "[236.56058761464166, 219.0884668452236, 185.327246165084] [237.18761112296423, 220.0860536234976, 186.89886921271602]\n",
            "[231.17449882314747, 214.5360766171577, 180.68500933365797] [231.6594125595619, 215.21058246212928, 181.8544200270251]\n",
            "[235.2294456618781, 217.95519844168493, 184.35045856667477] [235.5631889623782, 218.50010667804565, 185.32159874831092]\n",
            "[230.38138138138137, 214.193896599302, 181.15956497037578] [230.93933575136904, 214.91593770002135, 182.26598392717446]\n",
            "[236.100073046019, 219.99813326840354, 186.94927359792226] [236.56418462413768, 220.6788279638717, 188.13476993101486]\n",
            "[232.80464248031817, 209.44160376592808, 164.92435678922166] [233.30886850152905, 210.10959391223952, 166.16485313989048]\n",
            "[230.6125314503693, 207.5623731839948, 164.21175229283338] [231.21079581822062, 208.35168195718654, 165.42856126875756]\n",
            "[233.02540378216054, 209.01988474961448, 163.8978978978979] [233.52642059597468, 209.6578479482256, 165.01521940118056]\n",
            "[233.25046668289912, 209.56018180342505, 164.3003814625436] [233.71701870421734, 210.2405945523078, 165.54526705070762]\n",
            "[231.06728349971593, 207.9144549955361, 164.7967697427157] [231.63878813740132, 208.7372875328924, 166.16471090249627]\n",
            "[233.49362876389904, 209.83199415631847, 164.50766983199415] [233.95199487945382, 210.49363487660906, 165.88578337244863]\n",
            "[230.98912425939454, 208.06046587127668, 164.34769905040176] [231.48652300689852, 208.8178650167129, 165.72064575776972]\n",
            "[233.24316208099992, 209.42675107539972, 164.60498336174012] [233.7451817082711, 210.05767726335253, 165.7008747599744]\n",
            "[232.55823390958525, 208.87022157292427, 164.10624137651163] [233.05426356589146, 209.59611691913804, 165.37529336462555]\n",
            "[229.43925006087167, 206.17620323025727, 164.25200876552228] [230.03548822985562, 206.94964796244932, 165.57165208733375]\n",
            "[229.36523009495983, 206.99586072559046, 157.5101046992939] [229.97596188037835, 207.81523362491998, 158.86146077803855]\n",
            "[229.92833373914456, 207.69133998863728, 158.50864377891406] [230.55116990256738, 208.51745964013938, 159.94090036270535]\n",
            "[232.16849281714147, 209.62194627059492, 160.14446879311745] [232.7423369603869, 210.3293506862954, 161.38140957257664]\n",
            "[229.16581446311176, 206.9866893920948, 158.00316532748965] [229.75321812104403, 207.806486025176, 159.55173885214424]\n",
            "[229.2397532667803, 206.77047317587858, 158.29056083110137] [229.7763316976033, 207.6046511627907, 159.83920062584454]\n",
            "[229.05275545816087, 206.5506858209561, 157.33146660173688] [229.6606215774127, 207.38788137401323, 158.8151625062229]\n",
            "[229.33576820063305, 207.12231150068988, 159.06192679165653] [229.91451532607923, 207.93478415475428, 160.45821776545054]\n",
            "[232.13343072802533, 209.82347212076942, 160.81470659849037] [232.841547542849, 211.05426356589146, 163.06798947443284]\n",
            "[231.75042610177746, 209.39696453209967, 160.3179125071017] [232.54050209800155, 210.64582888841477, 162.60941611549677]\n",
            "[226.74417660904146, 204.01306712117523, 154.43275708140573] [227.32700376929094, 204.90235402887419, 156.1120830666382]\n"
          ]
        }
      ]
    },
    {
      "cell_type": "code",
      "metadata": {
        "id": "YUCu7oHePFU7"
      },
      "source": [
        "table   = pd.DataFrame(columns=['R-ref', 'G-ref', 'B-ref', 'R-Shad', 'G-Shad', 'B-Shad', 'H-ref', 'S-ref', 'V-ref', 'H-Shad', 'S-Shad', 'V-Shad', 'Shade-ref', 'Shade', 'Setting'] )"
      ],
      "execution_count": null,
      "outputs": []
    },
    {
      "cell_type": "code",
      "metadata": {
        "id": "ktPtL65ZKfTA"
      },
      "source": [
        "table   = pd.DataFrame(columns=['R-ref', 'G-ref'] )\n",
        "for i in range(len(A1_set11)):\n",
        "  table1 = pd.DataFrame({'R-ref': [1,5], 'G-ref': [2,3]})"
      ],
      "execution_count": null,
      "outputs": []
    },
    {
      "cell_type": "code",
      "metadata": {
        "colab": {
          "base_uri": "https://localhost:8080/"
        },
        "id": "wg91gNDVPcX8",
        "outputId": "9cd5ff8e-5138-4331-e9ff-f83502deeb90"
      },
      "source": [
        " table1.loc[1]"
      ],
      "execution_count": null,
      "outputs": [
        {
          "output_type": "execute_result",
          "data": {
            "text/plain": [
              "R-ref    5\n",
              "G-ref    3\n",
              "Name: 1, dtype: int64"
            ]
          },
          "metadata": {},
          "execution_count": 144
        }
      ]
    },
    {
      "cell_type": "code",
      "metadata": {
        "id": "vB72n-uzFdb8"
      },
      "source": [
        "  table = pd.DataFrame({'R-ref': [S1rgbrefA1_1[0]] , 'G-ref': [S1rgbrefA1_1[1]] ,  'B-ref': [S1rgbrefA1_1[2]],  'R-Shad': [S1rgbA1_2[0]],  'G-Shad': [S1rgbA1_2[1]], 'B-Shad': [S1rgbA1_2[2]] })"
      ],
      "execution_count": null,
      "outputs": []
    },
    {
      "cell_type": "code",
      "metadata": {
        "colab": {
          "base_uri": "https://localhost:8080/",
          "height": 81
        },
        "id": "9MOtnDq4FfFY",
        "outputId": "b7376dae-ea17-4be2-b444-aaf91b362367"
      },
      "source": [
        "table"
      ],
      "execution_count": null,
      "outputs": [
        {
          "output_type": "execute_result",
          "data": {
            "text/html": [
              "<div>\n",
              "<style scoped>\n",
              "    .dataframe tbody tr th:only-of-type {\n",
              "        vertical-align: middle;\n",
              "    }\n",
              "\n",
              "    .dataframe tbody tr th {\n",
              "        vertical-align: top;\n",
              "    }\n",
              "\n",
              "    .dataframe thead th {\n",
              "        text-align: right;\n",
              "    }\n",
              "</style>\n",
              "<table border=\"1\" class=\"dataframe\">\n",
              "  <thead>\n",
              "    <tr style=\"text-align: right;\">\n",
              "      <th></th>\n",
              "      <th>R-ref</th>\n",
              "      <th>G-ref</th>\n",
              "      <th>B-ref</th>\n",
              "      <th>R-Shad</th>\n",
              "      <th>G-Shad</th>\n",
              "      <th>B-Shad</th>\n",
              "    </tr>\n",
              "  </thead>\n",
              "  <tbody>\n",
              "    <tr>\n",
              "      <th>0</th>\n",
              "      <td>235.799935</td>\n",
              "      <td>224.51603</td>\n",
              "      <td>190.873549</td>\n",
              "      <td>236.478202</td>\n",
              "      <td>225.354384</td>\n",
              "      <td>192.366332</td>\n",
              "    </tr>\n",
              "  </tbody>\n",
              "</table>\n",
              "</div>"
            ],
            "text/plain": [
              "        R-ref      G-ref       B-ref      R-Shad      G-Shad      B-Shad\n",
              "0  235.799935  224.51603  190.873549  236.478202  225.354384  192.366332"
            ]
          },
          "metadata": {},
          "execution_count": 117
        }
      ]
    },
    {
      "cell_type": "code",
      "metadata": {
        "id": "M2CccsaBEeox"
      },
      "source": [
        "df = pd.DataFrame({'R-ref': [S1rgbrefA1_1[0],S1rgbrefA1_3[0],S1rgbrefA1_4[0], S1rgbrefA1_5[0], S1rgbrefA1_6[0],S1rgbrefA1_7[0], S1rgbrefA1_8[0],S1rgbrefA1_9[0], S1rgbrefA1_10[0], S1rgbrefA1_11[0], S1rgbrefA1_12[0], S1rgbrefA1_13[0], S1rgbrefA1_14[0], S1rgbrefA1_15[0], S1rgbrefA1_16[0], S1rgbrefA1_17[0]],\n",
        "  'G-ref': [S1rgbrefA1_1[1], S1rgbrefA1_3[1], S1rgbrefA1_4[1], S1rgbrefA1_5[1], S1rgbrefA1_6[1], S1rgbrefA1_7[1], S1rgbrefA1_8[1], S1rgbrefA1_9[1], S1rgbrefA1_10[1], S1rgbrefA1_11[1], S1rgbrefA1_12[1], S1rgbrefA1_13[1], S1rgbrefA1_14[1], S1rgbrefA1_15[1], S1rgbrefA1_16[1], S1rgbrefA1_17[1]],\n",
        "  'B-ref': [S1rgbrefA1_1[2],S1rgbrefA1_3[2],S1rgbrefA1_4[2],S1rgbrefA1_5[2], S1rgbrefA1_6[2],S1rgbrefA1_7[2], S1rgbrefA1_8[2],S1rgbrefA1_9[2], S1rgbrefA1_10[2],S1rgbrefA1_11[2], S1rgbrefA1_12[2],S1rgbrefA1_13[2], S1rgbrefA1_14[2],S1rgbrefA1_15[2], S1rgbrefA1_16[2],S1rgbrefA1_17[2]],\n",
        "  'R-Shad': [S1rgbA1_2[0],S1rgbA2_1[0],S1rgbA3_1[0],S1rgbA3_51[0],S1rgbA4_1[0],S1rgbB1_1[0],S1rgbB2_1[0],S1rgbB3_1[0],S1rgbB4_1[0],S1rgbC1_1[0],S1rgbC2_1[0],S1rgbC3_1[0],S1rgbC4_1[0],S1rgbD2_1[0],S1rgbD3_1[0],S1rgbD4_1[0]],\n",
        "  'G-Shad': [S1rgbA1_2[1],S1rgbA2_1[1],S1rgbA3_1[1], S1rgbA3_51[1],S1rgbA4_1[1],S1rgbB1_1[1],S1rgbB2_1[1],S1rgbB3_1[1],S1rgbB4_1[1],S1rgbC1_1[1],S1rgbC2_1[1],S1rgbC3_1[1],S1rgbC4_1[1],S1rgbD2_1[1],S1rgbD3_1[1], S1rgbD4_1[1]],\n",
        "  'B-Shad': [S1rgbA1_2[2],S1rgbA2_1[2],S1rgbA3_1[2],S1rgbA3_51[2],S1rgbA4_1[2],S1rgbB1_1[2],S1rgbB2_1[2],S1rgbB3_1[2],S1rgbB4_1[2],S1rgbC1_1[2],S1rgbC2_1[2],S1rgbC3_1[2],S1rgbC4_1[2],S1rgbD2_1[2],S1rgbD3_1[2], S1rgbD4_1[2]],\n",
        "  'H-ref': [S1hsvrefA1_1[0],S1hsvrefA1_3[0],S1hsvrefA1_4[0],S1hsvrefA1_5[0], S1hsvrefA1_6[0],S1hsvrefA1_7[0], S1hsvrefA1_8[0],S1hsvrefA1_9[0], S1hsvrefA1_10[0],S1hsvrefA1_11[0], S1hsvrefA1_12[0],S1hsvrefA1_13[0], S1hsvrefA1_14[0],S1hsvrefA1_15[0], S1hsvrefA1_16[0],S1hsvrefA1_17[0]],\n",
        "  'S-ref': [S1hsvrefA1_1[1],S1hsvrefA1_3[1],S1hsvrefA1_4[1],S1hsvrefA1_5[1], S1hsvrefA1_6[1],S1hsvrefA1_7[1], S1hsvrefA1_8[1],S1hsvrefA1_9[1], S1hsvrefA1_10[1],S1hsvrefA1_11[1], S1hsvrefA1_12[0],S1hsvrefA1_13[1], S1hsvrefA1_14[1],S1hsvrefA1_15[1], S1hsvrefA1_16[1],S1hsvrefA1_17[1]],\n",
        "  'V-ref': [S1hsvrefA1_1[2],S1hsvrefA1_3[2],S1hsvrefA1_4[2],S1hsvrefA1_5[2], S1hsvrefA1_6[2],S1hsvrefA1_7[2], S1hsvrefA1_8[2],S1hsvrefA1_9[2], S1hsvrefA1_10[2],S1hsvrefA1_11[2], S1hsvrefA1_12[0],S1hsvrefA1_13[2], S1hsvrefA1_14[2],S1hsvrefA1_15[2], S1hsvrefA1_16[2],S1hsvrefA1_17[2]],\n",
        "   'H-Shad': [S1hsvA1_2[0],S1hsvA2_1[0],S1hsvA3_1[0],S1hsvA3_51[0],S1hsvA4_1[0],S1hsvB1_1[0],S1hsvB2_1[0],S1hsvB3_1[0],S1hsvB4_1[0],S1hsvC1_1[0],S1hsvC2_1[0],S1hsvC3_1[0],S1hsvC4_1[0],S1hsvD2_1[0],S1hsvD3_1[0],S1hsvD4_1[0]],\n",
        "   'S-Shad': [S1hsvA1_2[1],S1hsvA2_1[1],S1hsvA3_1[1],S1hsvA3_51[1],S1hsvA4_1[1],S1hsvB1_1[1],S1hsvB2_1[1],S1hsvB3_1[1],S1hsvB4_1[1],S1hsvC1_1[1],S1hsvC2_1[1],S1hsvC3_1[1],S1hsvC4_1[1],S1hsvD2_1[1],S1hsvD3_1[1],S1hsvD4_1[1]],\n",
        "   'V-Shad': [S1hsvA1_2[2],S1hsvA2_1[2],S1hsvA3_1[2],S1hsvA3_51[2],S1hsvA4_1[2],S1hsvB1_1[2],S1hsvB2_1[2],S1hsvB3_1[2],S1hsvB4_1[2],S1hsvC1_1[2],S1hsvC2_1[2],S1hsvC3_1[2],S1hsvC4_1[2],S1hsvD2_1[2],S1hsvD3_1[2],S1hsvD4_1[2]],\n",
        "   'Shade-ref': ['B2', 'B2', 'B2',  'B2', 'B2', 'B2', 'B2', 'B2', 'B2', 'B2', 'B2', 'B2', 'B2', 'B2', 'B2', 'B2'],\n",
        "   'Shade':      ['A1', 'A2', 'A3', 'A3_5', 'A4', 'B1', 'B2', 'B3', 'B4', 'C1', 'C2', 'C3', 'C4', 'D2', 'D3', 'D4'],\n",
        "   'Setting':     ['Set1', 'Set1', 'Set1', 'Set1', 'Set1', 'Set1', 'Set1', 'Set1', 'Set1', 'Set1', 'Set1', 'Set1', 'Set1', 'Set1', 'Set1', 'Set1'],\n",
        "   'Img' : [S1_doubleA1A1_1, S1_doubleA1A2_1, S1_doubleA1A3_1, S1_doubleA1A3_51, S1_doubleA1A4_1, S1_doubleA1B1_1, S1_doubleA1B2_1, S1_doubleA1B3_1, S1_doubleA1B4_1, S1_doubleA1C1_1 ,S1_doubleA1C2_1, S1_doubleA1C3_1, S1_doubleA1C4_1,S1_doubleA1D2_1, S1_doubleA1D3_1, S1_doubleA1D4_1]}) "
      ],
      "execution_count": null,
      "outputs": []
    },
    {
      "cell_type": "code",
      "metadata": {
        "id": "aUmsIx4AEeln"
      },
      "source": [
        ""
      ],
      "execution_count": null,
      "outputs": []
    },
    {
      "cell_type": "code",
      "metadata": {
        "id": "kLxWqRhiEejv"
      },
      "source": [
        ""
      ],
      "execution_count": null,
      "outputs": []
    },
    {
      "cell_type": "code",
      "metadata": {
        "id": "fmeUHInCEee6"
      },
      "source": [
        ""
      ],
      "execution_count": null,
      "outputs": []
    },
    {
      "cell_type": "code",
      "metadata": {
        "id": "7dtO1Tcs-ZAn"
      },
      "source": [
        "  for i in range(S1_double.shape[0]): #ให้ i รันตาม row หรือ shape[0] คือแถว มีทั้งหมด 4032 แถว ของภาพที่ปรับขนาดมาแล้ว\n",
        "     for j in range(S1_double.shape[1]): #ให้ j รันตาม colum มีทั้งหมด 3024 colum เช่น แถวที่ 1 เข้ามาให้รันครบ 3024colum\n",
        "                if 1769<i<1881 and 2019<j<2131 :\n",
        "                  S1meanrefA1_1.append(S1_double[i][j])\n",
        "                if 1770<i<1880 and 2015<j<2145 :\n",
        "                  S1meanA1_2.append(S1_double[i][j])  "
      ],
      "execution_count": null,
      "outputs": []
    },
    {
      "cell_type": "code",
      "metadata": {
        "id": "XnCwNowh6bQK"
      },
      "source": [
        "  S1meanrefA1_1 = np.array(S1meanrefA1_1)\n",
        "  S1meanA1_2 = np.array(S1meanA1_2)\n",
        "  S1rgbrefA1_1 = list()\n",
        "  S1rgbA1_2 = list()\n",
        "  for i in range(3):\n",
        "    S1rgbrefA1_1.append(S1meanrefA1_1[:,i].mean())\n",
        "    S1rgbA1_2.append(S1meanA1_2[:,i].mean())\n",
        "  S1rgbrefA1_1,S1rgbA1_2 "
      ],
      "execution_count": null,
      "outputs": []
    }
  ]
}