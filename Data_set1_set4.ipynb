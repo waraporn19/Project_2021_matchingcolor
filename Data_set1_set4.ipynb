{
  "nbformat": 4,
  "nbformat_minor": 0,
  "metadata": {
    "colab": {
      "name": "Data_set1_set4.ipynb",
      "provenance": [],
      "include_colab_link": true
    },
    "kernelspec": {
      "name": "python3",
      "display_name": "Python 3"
    },
    "language_info": {
      "name": "python"
    }
  },
  "cells": [
    {
      "cell_type": "markdown",
      "metadata": {
        "id": "view-in-github",
        "colab_type": "text"
      },
      "source": [
        "<a href=\"https://colab.research.google.com/github/waraporn19/Project_2021_matchingcolor/blob/main/Data_set1_set4.ipynb\" target=\"_parent\"><img src=\"https://colab.research.google.com/assets/colab-badge.svg\" alt=\"Open In Colab\"/></a>"
      ]
    },
    {
      "cell_type": "code",
      "metadata": {
        "id": "QfJJWz3NE5EF"
      },
      "source": [
        "import pandas as pd"
      ],
      "execution_count": 81,
      "outputs": []
    },
    {
      "cell_type": "code",
      "metadata": {
        "id": "bbhDYuOZFkrI",
        "colab": {
          "base_uri": "https://localhost:8080/"
        },
        "outputId": "fce7969b-60f3-4898-8eda-c2a06af6a80b"
      },
      "source": [
        "from google.colab import drive \n",
        "drive.mount('/content/drive')"
      ],
      "execution_count": 82,
      "outputs": [
        {
          "output_type": "stream",
          "name": "stdout",
          "text": [
            "Drive already mounted at /content/drive; to attempt to forcibly remount, call drive.mount(\"/content/drive\", force_remount=True).\n"
          ]
        }
      ]
    },
    {
      "cell_type": "code",
      "metadata": {
        "id": "gCZ9gB08FlpD"
      },
      "source": [
        "import os"
      ],
      "execution_count": 83,
      "outputs": []
    },
    {
      "cell_type": "code",
      "metadata": {
        "id": "bs4sCMIlFmtN"
      },
      "source": [
        "path = '/content/drive/My Drive/shadeimg'"
      ],
      "execution_count": 84,
      "outputs": []
    },
    {
      "cell_type": "code",
      "metadata": {
        "id": "QXJgJ1ZiFv2C",
        "colab": {
          "base_uri": "https://localhost:8080/"
        },
        "outputId": "c83c6a73-591a-483a-f805-1829a2175b01"
      },
      "source": [
        "os.listdir(path)"
      ],
      "execution_count": 85,
      "outputs": [
        {
          "output_type": "execute_result",
          "data": {
            "text/plain": [
              "['รูปฟัน07',\n",
              " '9-10 7 2021',\n",
              " '11 7 2021',\n",
              " 'ฟันสักอย่างจำวันไม่ได้',\n",
              " '1 teeth .gsheet',\n",
              " '16 8 2021',\n",
              " '17 8 2021',\n",
              " '2 teeth.gsheet',\n",
              " '1 teeth .xlsx',\n",
              " '2 teeth .xlsx']"
            ]
          },
          "metadata": {},
          "execution_count": 85
        }
      ]
    },
    {
      "cell_type": "code",
      "metadata": {
        "id": "hIG_rvGQF-Lh",
        "colab": {
          "base_uri": "https://localhost:8080/"
        },
        "outputId": "58eaa6a3-785e-459f-e414-6ed3d2a216d0"
      },
      "source": [
        "file_path = os.path.join(path,'1 teeth .xlsx')\n",
        "print(file_path)"
      ],
      "execution_count": 86,
      "outputs": [
        {
          "output_type": "stream",
          "name": "stdout",
          "text": [
            "/content/drive/My Drive/shadeimg/1 teeth .xlsx\n"
          ]
        }
      ]
    },
    {
      "cell_type": "code",
      "metadata": {
        "id": "WU-47FCzGAhX"
      },
      "source": [
        "table1 = pd.read_excel(file_path)"
      ],
      "execution_count": 87,
      "outputs": []
    },
    {
      "cell_type": "code",
      "metadata": {
        "id": "BQB5ZR4zFsSX",
        "colab": {
          "base_uri": "https://localhost:8080/"
        },
        "outputId": "0baec10e-39b4-4965-d88b-02f194f1bf1f"
      },
      "source": [
        "!pip install azure-storage-blob==2.1.0"
      ],
      "execution_count": 88,
      "outputs": [
        {
          "output_type": "stream",
          "name": "stdout",
          "text": [
            "Requirement already satisfied: azure-storage-blob==2.1.0 in /usr/local/lib/python3.7/dist-packages (2.1.0)\n",
            "Requirement already satisfied: azure-storage-common~=2.1 in /usr/local/lib/python3.7/dist-packages (from azure-storage-blob==2.1.0) (2.1.0)\n",
            "Requirement already satisfied: azure-common>=1.1.5 in /usr/local/lib/python3.7/dist-packages (from azure-storage-blob==2.1.0) (1.1.27)\n",
            "Requirement already satisfied: cryptography in /usr/local/lib/python3.7/dist-packages (from azure-storage-common~=2.1->azure-storage-blob==2.1.0) (35.0.0)\n",
            "Requirement already satisfied: python-dateutil in /usr/local/lib/python3.7/dist-packages (from azure-storage-common~=2.1->azure-storage-blob==2.1.0) (2.8.2)\n",
            "Requirement already satisfied: requests in /usr/local/lib/python3.7/dist-packages (from azure-storage-common~=2.1->azure-storage-blob==2.1.0) (2.23.0)\n",
            "Requirement already satisfied: cffi>=1.12 in /usr/local/lib/python3.7/dist-packages (from cryptography->azure-storage-common~=2.1->azure-storage-blob==2.1.0) (1.14.6)\n",
            "Requirement already satisfied: pycparser in /usr/local/lib/python3.7/dist-packages (from cffi>=1.12->cryptography->azure-storage-common~=2.1->azure-storage-blob==2.1.0) (2.20)\n",
            "Requirement already satisfied: six>=1.5 in /usr/local/lib/python3.7/dist-packages (from python-dateutil->azure-storage-common~=2.1->azure-storage-blob==2.1.0) (1.15.0)\n",
            "Requirement already satisfied: idna<3,>=2.5 in /usr/local/lib/python3.7/dist-packages (from requests->azure-storage-common~=2.1->azure-storage-blob==2.1.0) (2.10)\n",
            "Requirement already satisfied: certifi>=2017.4.17 in /usr/local/lib/python3.7/dist-packages (from requests->azure-storage-common~=2.1->azure-storage-blob==2.1.0) (2021.5.30)\n",
            "Requirement already satisfied: chardet<4,>=3.0.2 in /usr/local/lib/python3.7/dist-packages (from requests->azure-storage-common~=2.1->azure-storage-blob==2.1.0) (3.0.4)\n",
            "Requirement already satisfied: urllib3!=1.25.0,!=1.25.1,<1.26,>=1.21.1 in /usr/local/lib/python3.7/dist-packages (from requests->azure-storage-common~=2.1->azure-storage-blob==2.1.0) (1.24.3)\n"
          ]
        }
      ]
    },
    {
      "cell_type": "code",
      "metadata": {
        "id": "MmtL3ePjGKNA"
      },
      "source": [
        "from azure.storage.blob import BlockBlobService\n",
        "import os"
      ],
      "execution_count": 89,
      "outputs": []
    },
    {
      "cell_type": "code",
      "metadata": {
        "id": "cBYDeSzyGMrs"
      },
      "source": [
        "blob_service_client = BlockBlobService(account_name='dent01', account_key='CuShY0B4TZJ84TjzPpaHxyrHOpO73aGXeCpdVq7x26OjIlQ1HOz+3DVc9pDEj9BdcEL8odFuTRF0mOAE+aCgiw==')"
      ],
      "execution_count": 90,
      "outputs": []
    },
    {
      "cell_type": "markdown",
      "metadata": {
        "id": "29a1CpssMfaN"
      },
      "source": [
        "1. สร้างตัวแปรเฉดไกด์"
      ]
    },
    {
      "cell_type": "markdown",
      "metadata": {
        "id": "0UvyQY3eJ7Lc"
      },
      "source": [
        "Set1"
      ]
    },
    {
      "cell_type": "code",
      "metadata": {
        "id": "udfq6Zm1KS7f"
      },
      "source": [
        "A103='107FDE4D-BA79-4468-AF7C-1CF07103C39F.png'\n",
        "A104='749A2858-0FF3-4007-B0DD-1CC31C62D142.png'\n",
        "A203='D4B137DD-CABA-4859-A598-60EB8BEACB6D.png'\n",
        "A204='198105F7-554A-4352-B8D1-AC6CF840596C.png'\n",
        "A303='955EB289-2A2C-41D7-8D89-DACB861A1828.png'\n",
        "A304='4B10ED57-554A-492E-BD1D-A875D9130748.png'\n",
        "A3_503='6CB46E4D-0B89-4B5A-8A39-6A9964016DBB.png'\n",
        "A3_504='B6F75859-A549-4475-A7C4-2814AD2F5297.png'\n",
        "A403='DD381107-44FC-4A2B-ADBF-9EC116C1E147.png'\n",
        "A404='AA1ED2BD-D873-41C6-8DC8-D8F2707E3A0D.png'\n",
        "B103='0417FEF0-3D28-45CC-869F-45F22EBB3010.png'\n",
        "B104='074B8021-48F4-4107-A590-00A0D4323A8F.png'\n",
        "B203='074B8021-48F4-4107-A590-00A0D4323A8F.png'\n",
        "B204='F82E6353-46C9-4026-99C9-752BE18B711F.png'\n",
        "B303='42EEF834-D9F5-425D-B15D-2DCADF356FFF.png'\n",
        "B304='77BF719A-5B84-4376-8700-CA5D86A26BF6.png'\n",
        "B403='C58BB77A-BF31-417A-A989-E21A4B35976E.png'\n",
        "B404='65CC76EA-1F7A-420A-BBBB-58F4F3760563.png'\n",
        "C103='F58849AF-D15F-4C96-834C-BD0815A5B423.png'\n",
        "C104='959514F6-36D7-41CC-8145-04AB7D16DBB4.png'\n",
        "C203='BFA849DB-4B6B-48B7-9A6C-F027AC8A89C3.png'\n",
        "C204='B6D548E5-51A2-48B7-AD77-A5E848978E17.png'\n",
        "C303='808EB528-9CC2-4D1B-A3B2-1961823B4A91.png'\n",
        "C304='20E9BF09-B4FE-4F95-9C69-3A811856B21B.png'\n",
        "C403='B1869E0E-76B9-4B92-A6F2-02EE6AAC162B.png'\n",
        "C404='CBBF711F-BBCF-4E2F-81F9-A3A8F5FB85EB.png'\n",
        "D203='4325369A-0FAC-4647-BBAA-C970BF406480.png'\n",
        "D204='66533DFF-69D4-4E34-B08C-DFEAA80FB7E2.png'\n",
        "D303='D0F1AAB9-3DB3-446C-8702-17B455A9623F.png'\n",
        "D304='FCDCF8BE-9368-4C43-A015-718FE4DA2D1A.png'\n",
        "D403='A51AAE9F-EEC8-4EC0-BA0C-8C33C18CE1F4.png'\n",
        "D404='BB6074DC-8B25-4CD1-B6D7-F0F1B83CC705.png'"
      ],
      "execution_count": 91,
      "outputs": []
    },
    {
      "cell_type": "markdown",
      "metadata": {
        "id": "J8y3rIX1_X_4"
      },
      "source": [
        "set4"
      ]
    },
    {
      "cell_type": "code",
      "metadata": {
        "id": "fg9O5U-Q-8cC"
      },
      "source": [
        "\n",
        "A101='0EF2FA50-58AC-46C7-8E4F-70C809D07AE7.png'\n",
        "A102='79C2B772-B4F3-4CA0-AF51-1FD5A6257FBB.png'\n",
        "A201='D89E9E66-510A-4AA6-A2D5-D8A69B941525.png'\n",
        "A202='14A9EBE1-2964-4DDF-A655-EEACEA59131B.png'\n",
        "A301='D0E42C32-D5AF-4E29-972A-BF7204DEAF1D.png'\n",
        "A302='49B16829-C303-4D45-B1F5-0976837ACCA7.png'\n",
        "A3_501='B007BE4C-C6BB-43CC-AAE1-2FC4333EB4F2.png'\n",
        "A3_502='819D4B35-E56B-4257-B144-C6B9B2BA01BD.png'\n",
        "A401='D0338CAF-E0F2-40B7-81DC-F61B88759957.png'\n",
        "A402='60B3B668-C929-4BE8-866A-0B9D9121CDA1.png'\n",
        "B101='312612D1-0123-4DC8-A039-C64E419E0D2D.png'\n",
        "B102='74D174BF-EA72-404E-BCD6-B96CEC51C831.png'\n",
        "B201='0375D54F-A0AA-4BA5-8596-166C87F998F2.png'\n",
        "B202='ED430C49-56BE-40CE-8904-74781A03A45B.png'\n",
        "B301='8CD709A3-6E06-4EE9-9364-E3BDB78D2EA5.png'\n",
        "B302='86FB6792-0389-4A0D-A6DA-4C25BD67025F.png'\n",
        "B401='B2EC0F0A-6F4D-4018-81B1-B5C5D6E887C2.png'\n",
        "B402='FE6C4865-F39B-453B-849B-77123700FB49.png'\n",
        "C101='E9023936-6A27-4506-90AA-F590E346BB26.png'\n",
        "C102='CF07B6E7-EFF2-4993-91D1-29F04CB5B384.png'\n",
        "C201='E06F6F87-4C75-469C-B2E9-B275033C86CE.png'\n",
        "C202='EB7A8DD9-800F-482E-B9F9-1ABAF2C4AE47.png'\n",
        "C301='A07BC277-3546-4434-81D4-E0DBF2FAA1B2.png'\n",
        "C302='6E81E16A-B561-4203-AF98-95D98EBFEAEA.png'\n",
        "C401='338CCD1D-9BB1-40A7-BFD2-976F7C17A403.png'\n",
        "C402='B6396F31-087C-4585-A8F4-F19C053F4CC6.png'\n",
        "D201='8D32AA07-9C78-4208-9E57-D410910D19D1.png'\n",
        "D202='F7BA6B12-CF05-4252-B4E6-C1C17E709F0E.png'\n",
        "D301='0CF9A52C-615B-4A08-B907-ABD0718B659D.png'\n",
        "D302='D72B57AE-D8BE-493F-9DFA-F1A1ECFA5B5E.png'\n",
        "D401='F02FD5D4-AFC4-454C-A27B-728EC04C9F98.png'\n",
        "D402='7E19A025-E690-4582-A36B-17CB4CF65520.png'"
      ],
      "execution_count": 92,
      "outputs": []
    },
    {
      "cell_type": "markdown",
      "metadata": {
        "id": "XT9FkL4_qWjU"
      },
      "source": [
        "#2. ดึงรูป"
      ]
    },
    {
      "cell_type": "markdown",
      "metadata": {
        "id": "-2DLN4dU58-w"
      },
      "source": [
        "A1"
      ]
    },
    {
      "cell_type": "code",
      "metadata": {
        "colab": {
          "base_uri": "https://localhost:8080/"
        },
        "id": "89qHiFXiqWjU",
        "outputId": "d7d4714c-21a5-4051-cd21-5bcd0da2815b"
      },
      "source": [
        "full_path_to_file2 = os.path.join(A101) \n",
        "blob_service_client.get_blob_to_path('shadeimg', full_path_to_file2, full_path_to_file2)"
      ],
      "execution_count": 93,
      "outputs": [
        {
          "output_type": "execute_result",
          "data": {
            "text/plain": [
              "<azure.storage.blob.models.Blob at 0x7fdb5ae4a4d0>"
            ]
          },
          "metadata": {},
          "execution_count": 93
        }
      ]
    },
    {
      "cell_type": "code",
      "metadata": {
        "colab": {
          "base_uri": "https://localhost:8080/"
        },
        "id": "pL_IAC3PqWjV",
        "outputId": "0badb726-4760-4b6f-bb62-fabd45667d8b"
      },
      "source": [
        "full_path_to_file2 = os.path.join(A102) \n",
        "blob_service_client.get_blob_to_path('shadeimg', full_path_to_file2, full_path_to_file2)"
      ],
      "execution_count": 94,
      "outputs": [
        {
          "output_type": "execute_result",
          "data": {
            "text/plain": [
              "<azure.storage.blob.models.Blob at 0x7fdb5aed7f90>"
            ]
          },
          "metadata": {},
          "execution_count": 94
        }
      ]
    },
    {
      "cell_type": "code",
      "metadata": {
        "colab": {
          "base_uri": "https://localhost:8080/"
        },
        "id": "VNLv6hmmqWjV",
        "outputId": "86277224-7fed-4de6-e213-9aa650f03901"
      },
      "source": [
        "full_path_to_file2 = os.path.join(A103) \n",
        "blob_service_client.get_blob_to_path('shadeimg', full_path_to_file2, full_path_to_file2)"
      ],
      "execution_count": 95,
      "outputs": [
        {
          "output_type": "execute_result",
          "data": {
            "text/plain": [
              "<azure.storage.blob.models.Blob at 0x7fdb5af27c50>"
            ]
          },
          "metadata": {},
          "execution_count": 95
        }
      ]
    },
    {
      "cell_type": "code",
      "metadata": {
        "colab": {
          "base_uri": "https://localhost:8080/"
        },
        "id": "hFv768OdqWjV",
        "outputId": "a26b2518-236e-4b1e-f08c-532ee1ba11bc"
      },
      "source": [
        "full_path_to_file2 = os.path.join(A104) \n",
        "blob_service_client.get_blob_to_path('shadeimg', full_path_to_file2, full_path_to_file2)"
      ],
      "execution_count": 96,
      "outputs": [
        {
          "output_type": "execute_result",
          "data": {
            "text/plain": [
              "<azure.storage.blob.models.Blob at 0x7fdb5aef8590>"
            ]
          },
          "metadata": {},
          "execution_count": 96
        }
      ]
    },
    {
      "cell_type": "markdown",
      "metadata": {
        "id": "7eSok94g6DY0"
      },
      "source": [
        "A2"
      ]
    },
    {
      "cell_type": "code",
      "metadata": {
        "colab": {
          "base_uri": "https://localhost:8080/"
        },
        "id": "hJNZvwzyqWjV",
        "outputId": "3e218288-fa27-4af7-c23b-bfef868c2eb5"
      },
      "source": [
        "full_path_to_file2 = os.path.join(A201) \n",
        "blob_service_client.get_blob_to_path('shadeimg', full_path_to_file2, full_path_to_file2)"
      ],
      "execution_count": 97,
      "outputs": [
        {
          "output_type": "execute_result",
          "data": {
            "text/plain": [
              "<azure.storage.blob.models.Blob at 0x7fdb5af08890>"
            ]
          },
          "metadata": {},
          "execution_count": 97
        }
      ]
    },
    {
      "cell_type": "code",
      "metadata": {
        "colab": {
          "base_uri": "https://localhost:8080/"
        },
        "id": "veShstuZqWjV",
        "outputId": "a79f3806-e5e3-4a99-a824-328cd9668f88"
      },
      "source": [
        "full_path_to_file2 = os.path.join(A202) \n",
        "blob_service_client.get_blob_to_path('shadeimg', full_path_to_file2, full_path_to_file2)"
      ],
      "execution_count": 98,
      "outputs": [
        {
          "output_type": "execute_result",
          "data": {
            "text/plain": [
              "<azure.storage.blob.models.Blob at 0x7fdb5af08f10>"
            ]
          },
          "metadata": {},
          "execution_count": 98
        }
      ]
    },
    {
      "cell_type": "code",
      "metadata": {
        "colab": {
          "base_uri": "https://localhost:8080/"
        },
        "id": "w9QFztPcqWjV",
        "outputId": "652929c2-defd-4e25-93b2-3e7b3014ced6"
      },
      "source": [
        "full_path_to_file2 = os.path.join(A203) \n",
        "blob_service_client.get_blob_to_path('shadeimg', full_path_to_file2, full_path_to_file2)"
      ],
      "execution_count": 99,
      "outputs": [
        {
          "output_type": "execute_result",
          "data": {
            "text/plain": [
              "<azure.storage.blob.models.Blob at 0x7fdb5af39250>"
            ]
          },
          "metadata": {},
          "execution_count": 99
        }
      ]
    },
    {
      "cell_type": "code",
      "metadata": {
        "colab": {
          "base_uri": "https://localhost:8080/"
        },
        "id": "kAIQWgACqWjW",
        "outputId": "9be1e581-f3ff-49bb-e6b4-9b3995a2f07d"
      },
      "source": [
        "full_path_to_file2 = os.path.join(A204) \n",
        "blob_service_client.get_blob_to_path('shadeimg', full_path_to_file2, full_path_to_file2)"
      ],
      "execution_count": 100,
      "outputs": [
        {
          "output_type": "execute_result",
          "data": {
            "text/plain": [
              "<azure.storage.blob.models.Blob at 0x7fdb5b67e710>"
            ]
          },
          "metadata": {},
          "execution_count": 100
        }
      ]
    },
    {
      "cell_type": "markdown",
      "metadata": {
        "id": "T8ArUP9X6JRK"
      },
      "source": [
        "A3"
      ]
    },
    {
      "cell_type": "code",
      "metadata": {
        "colab": {
          "base_uri": "https://localhost:8080/"
        },
        "id": "VmbjTZ90qWjW",
        "outputId": "863419d5-1e60-4e8a-8a88-f5083d2b5ad4"
      },
      "source": [
        "full_path_to_file2 = os.path.join(A301) \n",
        "blob_service_client.get_blob_to_path('shadeimg', full_path_to_file2, full_path_to_file2)"
      ],
      "execution_count": 101,
      "outputs": [
        {
          "output_type": "execute_result",
          "data": {
            "text/plain": [
              "<azure.storage.blob.models.Blob at 0x7fdb5ae8b6d0>"
            ]
          },
          "metadata": {},
          "execution_count": 101
        }
      ]
    },
    {
      "cell_type": "code",
      "metadata": {
        "colab": {
          "base_uri": "https://localhost:8080/"
        },
        "id": "_I7kJLJ4qWjW",
        "outputId": "8ee2d379-98d6-4fee-b2ee-eadcee1c550b"
      },
      "source": [
        "full_path_to_file2 = os.path.join(A302) \n",
        "blob_service_client.get_blob_to_path('shadeimg', full_path_to_file2, full_path_to_file2)"
      ],
      "execution_count": 102,
      "outputs": [
        {
          "output_type": "execute_result",
          "data": {
            "text/plain": [
              "<azure.storage.blob.models.Blob at 0x7fdb5af6c510>"
            ]
          },
          "metadata": {},
          "execution_count": 102
        }
      ]
    },
    {
      "cell_type": "code",
      "metadata": {
        "colab": {
          "base_uri": "https://localhost:8080/"
        },
        "id": "X8nojCv0qWjW",
        "outputId": "1ee30b39-5de6-4076-a528-9a99ac27e98e"
      },
      "source": [
        "full_path_to_file2 = os.path.join(A303) \n",
        "blob_service_client.get_blob_to_path('shadeimg', full_path_to_file2, full_path_to_file2)"
      ],
      "execution_count": 103,
      "outputs": [
        {
          "output_type": "execute_result",
          "data": {
            "text/plain": [
              "<azure.storage.blob.models.Blob at 0x7fdb5afb9e10>"
            ]
          },
          "metadata": {},
          "execution_count": 103
        }
      ]
    },
    {
      "cell_type": "code",
      "metadata": {
        "colab": {
          "base_uri": "https://localhost:8080/"
        },
        "id": "0CMDlGCiqWjW",
        "outputId": "a5163ded-1dc0-4b1a-e1a6-21dc79aed79d"
      },
      "source": [
        "full_path_to_file2 = os.path.join(A304) \n",
        "blob_service_client.get_blob_to_path('shadeimg', full_path_to_file2, full_path_to_file2)"
      ],
      "execution_count": 104,
      "outputs": [
        {
          "output_type": "execute_result",
          "data": {
            "text/plain": [
              "<azure.storage.blob.models.Blob at 0x7fdb5ae99b10>"
            ]
          },
          "metadata": {},
          "execution_count": 104
        }
      ]
    },
    {
      "cell_type": "markdown",
      "metadata": {
        "id": "Zr5SEMNq6LDo"
      },
      "source": [
        "A3.5"
      ]
    },
    {
      "cell_type": "code",
      "metadata": {
        "colab": {
          "base_uri": "https://localhost:8080/"
        },
        "id": "hf5rehmDqWjX",
        "outputId": "ac30daed-236b-49db-d001-3dfa5014fd1f"
      },
      "source": [
        "full_path_to_file2 = os.path.join(A3_501) \n",
        "blob_service_client.get_blob_to_path('shadeimg', full_path_to_file2, full_path_to_file2)"
      ],
      "execution_count": 105,
      "outputs": [
        {
          "output_type": "execute_result",
          "data": {
            "text/plain": [
              "<azure.storage.blob.models.Blob at 0x7fdb5af30710>"
            ]
          },
          "metadata": {},
          "execution_count": 105
        }
      ]
    },
    {
      "cell_type": "code",
      "metadata": {
        "colab": {
          "base_uri": "https://localhost:8080/"
        },
        "id": "U6NqGSTMqWjX",
        "outputId": "a513a04c-88d4-410a-e015-5b0ada66331e"
      },
      "source": [
        "full_path_to_file2 = os.path.join(A3_502) \n",
        "blob_service_client.get_blob_to_path('shadeimg', full_path_to_file2, full_path_to_file2)"
      ],
      "execution_count": 106,
      "outputs": [
        {
          "output_type": "execute_result",
          "data": {
            "text/plain": [
              "<azure.storage.blob.models.Blob at 0x7fdb5aeb82d0>"
            ]
          },
          "metadata": {},
          "execution_count": 106
        }
      ]
    },
    {
      "cell_type": "code",
      "metadata": {
        "colab": {
          "base_uri": "https://localhost:8080/"
        },
        "id": "0F9FqMJEqWjX",
        "outputId": "345d49ce-3631-4b6b-b179-7dfa451aa81f"
      },
      "source": [
        "full_path_to_file2 = os.path.join(A3_503) \n",
        "blob_service_client.get_blob_to_path('shadeimg', full_path_to_file2, full_path_to_file2)"
      ],
      "execution_count": 107,
      "outputs": [
        {
          "output_type": "execute_result",
          "data": {
            "text/plain": [
              "<azure.storage.blob.models.Blob at 0x7fdb5affef90>"
            ]
          },
          "metadata": {},
          "execution_count": 107
        }
      ]
    },
    {
      "cell_type": "code",
      "metadata": {
        "colab": {
          "base_uri": "https://localhost:8080/"
        },
        "id": "Bt9OeaouqWjX",
        "outputId": "711a44c1-98b7-4bc2-cd1e-49c549a8e462"
      },
      "source": [
        "full_path_to_file2 = os.path.join(A3_504) \n",
        "blob_service_client.get_blob_to_path('shadeimg', full_path_to_file2, full_path_to_file2)"
      ],
      "execution_count": 108,
      "outputs": [
        {
          "output_type": "execute_result",
          "data": {
            "text/plain": [
              "<azure.storage.blob.models.Blob at 0x7fdb5afe14d0>"
            ]
          },
          "metadata": {},
          "execution_count": 108
        }
      ]
    },
    {
      "cell_type": "markdown",
      "metadata": {
        "id": "tb0g_NiJ6YZB"
      },
      "source": [
        "A4"
      ]
    },
    {
      "cell_type": "code",
      "metadata": {
        "colab": {
          "base_uri": "https://localhost:8080/"
        },
        "id": "6A3Z0G-BqWjX",
        "outputId": "febfd51e-382a-4eae-f758-72f811df103c"
      },
      "source": [
        "full_path_to_file2 = os.path.join(A401) \n",
        "blob_service_client.get_blob_to_path('shadeimg', full_path_to_file2, full_path_to_file2)"
      ],
      "execution_count": 109,
      "outputs": [
        {
          "output_type": "execute_result",
          "data": {
            "text/plain": [
              "<azure.storage.blob.models.Blob at 0x7fdb5aeaaed0>"
            ]
          },
          "metadata": {},
          "execution_count": 109
        }
      ]
    },
    {
      "cell_type": "code",
      "metadata": {
        "colab": {
          "base_uri": "https://localhost:8080/"
        },
        "id": "huNllMALqWjX",
        "outputId": "4bb6b302-c431-4b06-e855-7bf0dee5c5f5"
      },
      "source": [
        "full_path_to_file2 = os.path.join(A402) \n",
        "blob_service_client.get_blob_to_path('shadeimg', full_path_to_file2, full_path_to_file2)"
      ],
      "execution_count": 110,
      "outputs": [
        {
          "output_type": "execute_result",
          "data": {
            "text/plain": [
              "<azure.storage.blob.models.Blob at 0x7fdb5af085d0>"
            ]
          },
          "metadata": {},
          "execution_count": 110
        }
      ]
    },
    {
      "cell_type": "code",
      "metadata": {
        "colab": {
          "base_uri": "https://localhost:8080/"
        },
        "id": "XRmBCQ8HqWjY",
        "outputId": "5c195658-0826-4d28-e495-1ce5b4bbac31"
      },
      "source": [
        "full_path_to_file2 = os.path.join(A403) \n",
        "blob_service_client.get_blob_to_path('shadeimg', full_path_to_file2, full_path_to_file2)"
      ],
      "execution_count": 111,
      "outputs": [
        {
          "output_type": "execute_result",
          "data": {
            "text/plain": [
              "<azure.storage.blob.models.Blob at 0x7fdb5aec7850>"
            ]
          },
          "metadata": {},
          "execution_count": 111
        }
      ]
    },
    {
      "cell_type": "code",
      "metadata": {
        "colab": {
          "base_uri": "https://localhost:8080/"
        },
        "id": "VBxfPqd5qWjY",
        "outputId": "92940201-4e5a-4f91-a93f-b7fc8d41a38e"
      },
      "source": [
        "full_path_to_file2 = os.path.join(A404) \n",
        "blob_service_client.get_blob_to_path('shadeimg', full_path_to_file2, full_path_to_file2)"
      ],
      "execution_count": 112,
      "outputs": [
        {
          "output_type": "execute_result",
          "data": {
            "text/plain": [
              "<azure.storage.blob.models.Blob at 0x7fdb5aed7e50>"
            ]
          },
          "metadata": {},
          "execution_count": 112
        }
      ]
    },
    {
      "cell_type": "markdown",
      "metadata": {
        "id": "y3hyi70v6bOe"
      },
      "source": [
        "B1"
      ]
    },
    {
      "cell_type": "code",
      "metadata": {
        "colab": {
          "base_uri": "https://localhost:8080/"
        },
        "id": "xFNoaeKPqWjY",
        "outputId": "484a9061-4061-4e93-a1a9-7f88a75547e3"
      },
      "source": [
        "full_path_to_file2 = os.path.join(B101) \n",
        "blob_service_client.get_blob_to_path('shadeimg', full_path_to_file2, full_path_to_file2)"
      ],
      "execution_count": 113,
      "outputs": [
        {
          "output_type": "execute_result",
          "data": {
            "text/plain": [
              "<azure.storage.blob.models.Blob at 0x7fdb5aed25d0>"
            ]
          },
          "metadata": {},
          "execution_count": 113
        }
      ]
    },
    {
      "cell_type": "code",
      "metadata": {
        "colab": {
          "base_uri": "https://localhost:8080/"
        },
        "id": "_oCkGuh3qWjY",
        "outputId": "8e34dcbc-61a1-4309-b883-2716ec2b33a9"
      },
      "source": [
        "full_path_to_file2 = os.path.join(B102) \n",
        "blob_service_client.get_blob_to_path('shadeimg', full_path_to_file2, full_path_to_file2)"
      ],
      "execution_count": 114,
      "outputs": [
        {
          "output_type": "execute_result",
          "data": {
            "text/plain": [
              "<azure.storage.blob.models.Blob at 0x7fdb5aef8910>"
            ]
          },
          "metadata": {},
          "execution_count": 114
        }
      ]
    },
    {
      "cell_type": "code",
      "metadata": {
        "colab": {
          "base_uri": "https://localhost:8080/"
        },
        "id": "20VPjZkoqWjY",
        "outputId": "0dbf842b-d160-4fea-c61d-154937f38f5c"
      },
      "source": [
        "full_path_to_file2 = os.path.join(B103) \n",
        "blob_service_client.get_blob_to_path('shadeimg', full_path_to_file2, full_path_to_file2)"
      ],
      "execution_count": 115,
      "outputs": [
        {
          "output_type": "execute_result",
          "data": {
            "text/plain": [
              "<azure.storage.blob.models.Blob at 0x7fdb5ae52310>"
            ]
          },
          "metadata": {},
          "execution_count": 115
        }
      ]
    },
    {
      "cell_type": "code",
      "metadata": {
        "colab": {
          "base_uri": "https://localhost:8080/"
        },
        "id": "4EiBJdqbqWjY",
        "outputId": "27058546-e0ef-4321-a90c-530179203a1d"
      },
      "source": [
        "full_path_to_file2 = os.path.join(B104) \n",
        "blob_service_client.get_blob_to_path('shadeimg', full_path_to_file2, full_path_to_file2)"
      ],
      "execution_count": 116,
      "outputs": [
        {
          "output_type": "execute_result",
          "data": {
            "text/plain": [
              "<azure.storage.blob.models.Blob at 0x7fdb5aed2cd0>"
            ]
          },
          "metadata": {},
          "execution_count": 116
        }
      ]
    },
    {
      "cell_type": "markdown",
      "metadata": {
        "id": "vFOfNYz-6crs"
      },
      "source": [
        "B2"
      ]
    },
    {
      "cell_type": "code",
      "metadata": {
        "colab": {
          "base_uri": "https://localhost:8080/"
        },
        "id": "XYPmvR_GqWjZ",
        "outputId": "4f13f523-66cc-4aef-c665-6f0413a01e6c"
      },
      "source": [
        "full_path_to_file2 = os.path.join(B201) \n",
        "blob_service_client.get_blob_to_path('shadeimg', full_path_to_file2, full_path_to_file2)"
      ],
      "execution_count": 117,
      "outputs": [
        {
          "output_type": "execute_result",
          "data": {
            "text/plain": [
              "<azure.storage.blob.models.Blob at 0x7fdb5ae4add0>"
            ]
          },
          "metadata": {},
          "execution_count": 117
        }
      ]
    },
    {
      "cell_type": "code",
      "metadata": {
        "colab": {
          "base_uri": "https://localhost:8080/"
        },
        "id": "yZ4_16cwqWjZ",
        "outputId": "5bda32ec-7981-403c-b416-0464bfe9be05"
      },
      "source": [
        "full_path_to_file2 = os.path.join(B202) \n",
        "blob_service_client.get_blob_to_path('shadeimg', full_path_to_file2, full_path_to_file2)"
      ],
      "execution_count": 118,
      "outputs": [
        {
          "output_type": "execute_result",
          "data": {
            "text/plain": [
              "<azure.storage.blob.models.Blob at 0x7fdb5b030d90>"
            ]
          },
          "metadata": {},
          "execution_count": 118
        }
      ]
    },
    {
      "cell_type": "code",
      "metadata": {
        "colab": {
          "base_uri": "https://localhost:8080/"
        },
        "id": "_sTONf6NqWjZ",
        "outputId": "4f8c845d-598a-4beb-f0b6-c67423cda13c"
      },
      "source": [
        "full_path_to_file2 = os.path.join(B203) \n",
        "blob_service_client.get_blob_to_path('shadeimg', full_path_to_file2, full_path_to_file2)"
      ],
      "execution_count": 119,
      "outputs": [
        {
          "output_type": "execute_result",
          "data": {
            "text/plain": [
              "<azure.storage.blob.models.Blob at 0x7fdb5aec7290>"
            ]
          },
          "metadata": {},
          "execution_count": 119
        }
      ]
    },
    {
      "cell_type": "code",
      "metadata": {
        "colab": {
          "base_uri": "https://localhost:8080/"
        },
        "id": "xvhe5i1EqWjZ",
        "outputId": "4db7f122-cf0e-497a-d52b-93debb29654c"
      },
      "source": [
        "full_path_to_file2 = os.path.join(B204) \n",
        "blob_service_client.get_blob_to_path('shadeimg', full_path_to_file2, full_path_to_file2)"
      ],
      "execution_count": 120,
      "outputs": [
        {
          "output_type": "execute_result",
          "data": {
            "text/plain": [
              "<azure.storage.blob.models.Blob at 0x7fdb5aeb8690>"
            ]
          },
          "metadata": {},
          "execution_count": 120
        }
      ]
    },
    {
      "cell_type": "markdown",
      "metadata": {
        "id": "Gu5OAhld6dzx"
      },
      "source": [
        "B3"
      ]
    },
    {
      "cell_type": "code",
      "metadata": {
        "colab": {
          "base_uri": "https://localhost:8080/"
        },
        "id": "dtWpKevCqWjZ",
        "outputId": "c5633f2c-f778-4128-e690-632cc130470c"
      },
      "source": [
        "full_path_to_file2 = os.path.join(B301) \n",
        "blob_service_client.get_blob_to_path('shadeimg', full_path_to_file2, full_path_to_file2)"
      ],
      "execution_count": 121,
      "outputs": [
        {
          "output_type": "execute_result",
          "data": {
            "text/plain": [
              "<azure.storage.blob.models.Blob at 0x7fdb5aeb8d50>"
            ]
          },
          "metadata": {},
          "execution_count": 121
        }
      ]
    },
    {
      "cell_type": "code",
      "metadata": {
        "colab": {
          "base_uri": "https://localhost:8080/"
        },
        "id": "Iv7GJELjqWjZ",
        "outputId": "dcaabee4-6423-404e-dc8f-f8b6da657801"
      },
      "source": [
        "full_path_to_file2 = os.path.join(B302) \n",
        "blob_service_client.get_blob_to_path('shadeimg', full_path_to_file2, full_path_to_file2)"
      ],
      "execution_count": 122,
      "outputs": [
        {
          "output_type": "execute_result",
          "data": {
            "text/plain": [
              "<azure.storage.blob.models.Blob at 0x7fdb5aeb9110>"
            ]
          },
          "metadata": {},
          "execution_count": 122
        }
      ]
    },
    {
      "cell_type": "code",
      "metadata": {
        "colab": {
          "base_uri": "https://localhost:8080/"
        },
        "id": "5Y0UireDqWjZ",
        "outputId": "592075c7-a9f8-4937-bd62-0e905c7b6920"
      },
      "source": [
        "full_path_to_file2 = os.path.join(B303) \n",
        "blob_service_client.get_blob_to_path('shadeimg', full_path_to_file2, full_path_to_file2)"
      ],
      "execution_count": 123,
      "outputs": [
        {
          "output_type": "execute_result",
          "data": {
            "text/plain": [
              "<azure.storage.blob.models.Blob at 0x7fdb5b007290>"
            ]
          },
          "metadata": {},
          "execution_count": 123
        }
      ]
    },
    {
      "cell_type": "code",
      "metadata": {
        "colab": {
          "base_uri": "https://localhost:8080/"
        },
        "id": "ZDVbc9NnqWja",
        "outputId": "61c234f6-daa2-4a2f-ffb5-b8e9b430bdf4"
      },
      "source": [
        "full_path_to_file2 = os.path.join(B304) \n",
        "blob_service_client.get_blob_to_path('shadeimg', full_path_to_file2, full_path_to_file2)"
      ],
      "execution_count": 124,
      "outputs": [
        {
          "output_type": "execute_result",
          "data": {
            "text/plain": [
              "<azure.storage.blob.models.Blob at 0x7fdb5aed7050>"
            ]
          },
          "metadata": {},
          "execution_count": 124
        }
      ]
    },
    {
      "cell_type": "markdown",
      "metadata": {
        "id": "z2hzhQXO6gIR"
      },
      "source": [
        "B4"
      ]
    },
    {
      "cell_type": "code",
      "metadata": {
        "colab": {
          "base_uri": "https://localhost:8080/"
        },
        "id": "AUUiD3TCqWja",
        "outputId": "cf802a4a-c31c-4472-e0f2-9d98be3f30c3"
      },
      "source": [
        "full_path_to_file2 = os.path.join(B401) \n",
        "blob_service_client.get_blob_to_path('shadeimg', full_path_to_file2, full_path_to_file2)"
      ],
      "execution_count": 125,
      "outputs": [
        {
          "output_type": "execute_result",
          "data": {
            "text/plain": [
              "<azure.storage.blob.models.Blob at 0x7fdb5af3e390>"
            ]
          },
          "metadata": {},
          "execution_count": 125
        }
      ]
    },
    {
      "cell_type": "code",
      "metadata": {
        "colab": {
          "base_uri": "https://localhost:8080/"
        },
        "id": "ozt2aWLeqWja",
        "outputId": "fea1a5d7-1b7f-450c-ecfe-8e8a2b1f8766"
      },
      "source": [
        "full_path_to_file2 = os.path.join(B402) \n",
        "blob_service_client.get_blob_to_path('shadeimg', full_path_to_file2, full_path_to_file2)"
      ],
      "execution_count": 126,
      "outputs": [
        {
          "output_type": "execute_result",
          "data": {
            "text/plain": [
              "<azure.storage.blob.models.Blob at 0x7fdb5aec7710>"
            ]
          },
          "metadata": {},
          "execution_count": 126
        }
      ]
    },
    {
      "cell_type": "code",
      "metadata": {
        "colab": {
          "base_uri": "https://localhost:8080/"
        },
        "id": "sKfFT4biqWja",
        "outputId": "25903468-7fc8-4558-eace-db11b7568c93"
      },
      "source": [
        "full_path_to_file2 = os.path.join(B403) \n",
        "blob_service_client.get_blob_to_path('shadeimg', full_path_to_file2, full_path_to_file2)"
      ],
      "execution_count": 127,
      "outputs": [
        {
          "output_type": "execute_result",
          "data": {
            "text/plain": [
              "<azure.storage.blob.models.Blob at 0x7fdb5aeb8f90>"
            ]
          },
          "metadata": {},
          "execution_count": 127
        }
      ]
    },
    {
      "cell_type": "code",
      "metadata": {
        "colab": {
          "base_uri": "https://localhost:8080/"
        },
        "id": "i_QOEeCuqWja",
        "outputId": "d2c343df-1e84-451e-ef46-b9b9bab64e54"
      },
      "source": [
        "full_path_to_file2 = os.path.join(B404) \n",
        "blob_service_client.get_blob_to_path('shadeimg', full_path_to_file2, full_path_to_file2)"
      ],
      "execution_count": 128,
      "outputs": [
        {
          "output_type": "execute_result",
          "data": {
            "text/plain": [
              "<azure.storage.blob.models.Blob at 0x7fdb5afe1b10>"
            ]
          },
          "metadata": {},
          "execution_count": 128
        }
      ]
    },
    {
      "cell_type": "markdown",
      "metadata": {
        "id": "x1KIKFLy6h8k"
      },
      "source": [
        "C1"
      ]
    },
    {
      "cell_type": "code",
      "metadata": {
        "colab": {
          "base_uri": "https://localhost:8080/"
        },
        "id": "DVlDe2laqWja",
        "outputId": "83ecdf20-95de-47c4-9f17-bd00419ce7ca"
      },
      "source": [
        "full_path_to_file2 = os.path.join(C101) \n",
        "blob_service_client.get_blob_to_path('shadeimg', full_path_to_file2, full_path_to_file2)"
      ],
      "execution_count": 129,
      "outputs": [
        {
          "output_type": "execute_result",
          "data": {
            "text/plain": [
              "<azure.storage.blob.models.Blob at 0x7fdb5aeb68d0>"
            ]
          },
          "metadata": {},
          "execution_count": 129
        }
      ]
    },
    {
      "cell_type": "code",
      "metadata": {
        "colab": {
          "base_uri": "https://localhost:8080/"
        },
        "id": "PpnxuJZjqWjb",
        "outputId": "f354f4c5-176a-4501-ee1e-e80d2357456e"
      },
      "source": [
        "full_path_to_file2 = os.path.join(C102) \n",
        "blob_service_client.get_blob_to_path('shadeimg', full_path_to_file2, full_path_to_file2)"
      ],
      "execution_count": 130,
      "outputs": [
        {
          "output_type": "execute_result",
          "data": {
            "text/plain": [
              "<azure.storage.blob.models.Blob at 0x7fdb5aebda90>"
            ]
          },
          "metadata": {},
          "execution_count": 130
        }
      ]
    },
    {
      "cell_type": "code",
      "metadata": {
        "colab": {
          "base_uri": "https://localhost:8080/"
        },
        "id": "upMtdZorqWjb",
        "outputId": "b9fe34e5-db87-4a4c-93fd-4eb336c75c63"
      },
      "source": [
        "full_path_to_file2 = os.path.join(C103) \n",
        "blob_service_client.get_blob_to_path('shadeimg', full_path_to_file2, full_path_to_file2)"
      ],
      "execution_count": 131,
      "outputs": [
        {
          "output_type": "execute_result",
          "data": {
            "text/plain": [
              "<azure.storage.blob.models.Blob at 0x7fdb5aebd910>"
            ]
          },
          "metadata": {},
          "execution_count": 131
        }
      ]
    },
    {
      "cell_type": "code",
      "metadata": {
        "colab": {
          "base_uri": "https://localhost:8080/"
        },
        "id": "ETYki_a8qWjb",
        "outputId": "37af35dc-30aa-48e2-d16a-fa032960c7e9"
      },
      "source": [
        "full_path_to_file2 = os.path.join(C104) \n",
        "blob_service_client.get_blob_to_path('shadeimg', full_path_to_file2, full_path_to_file2)"
      ],
      "execution_count": 132,
      "outputs": [
        {
          "output_type": "execute_result",
          "data": {
            "text/plain": [
              "<azure.storage.blob.models.Blob at 0x7fdb5af30250>"
            ]
          },
          "metadata": {},
          "execution_count": 132
        }
      ]
    },
    {
      "cell_type": "markdown",
      "metadata": {
        "id": "UOfwpXiM6j9h"
      },
      "source": [
        "C2"
      ]
    },
    {
      "cell_type": "code",
      "metadata": {
        "colab": {
          "base_uri": "https://localhost:8080/"
        },
        "id": "QV6-qOJSqWjb",
        "outputId": "66db8d26-47e4-4d71-cf3a-6b019c5061d3"
      },
      "source": [
        "full_path_to_file2 = os.path.join(C201) \n",
        "blob_service_client.get_blob_to_path('shadeimg', full_path_to_file2, full_path_to_file2)"
      ],
      "execution_count": 133,
      "outputs": [
        {
          "output_type": "execute_result",
          "data": {
            "text/plain": [
              "<azure.storage.blob.models.Blob at 0x7fdb5b007910>"
            ]
          },
          "metadata": {},
          "execution_count": 133
        }
      ]
    },
    {
      "cell_type": "code",
      "metadata": {
        "colab": {
          "base_uri": "https://localhost:8080/"
        },
        "id": "yiVQsZVuqWjb",
        "outputId": "b343de47-054c-411f-b7c7-bcfe9e287248"
      },
      "source": [
        "full_path_to_file2 = os.path.join(C202) \n",
        "blob_service_client.get_blob_to_path('shadeimg', full_path_to_file2, full_path_to_file2)"
      ],
      "execution_count": 134,
      "outputs": [
        {
          "output_type": "execute_result",
          "data": {
            "text/plain": [
              "<azure.storage.blob.models.Blob at 0x7fdb5b007ad0>"
            ]
          },
          "metadata": {},
          "execution_count": 134
        }
      ]
    },
    {
      "cell_type": "code",
      "metadata": {
        "colab": {
          "base_uri": "https://localhost:8080/"
        },
        "id": "hY_rgNf9qWjb",
        "outputId": "410083a1-fd1b-44cc-cbd0-a7d67fba5a56"
      },
      "source": [
        "full_path_to_file2 = os.path.join(C203) \n",
        "blob_service_client.get_blob_to_path('shadeimg', full_path_to_file2, full_path_to_file2)"
      ],
      "execution_count": 135,
      "outputs": [
        {
          "output_type": "execute_result",
          "data": {
            "text/plain": [
              "<azure.storage.blob.models.Blob at 0x7fdb5aeb9b10>"
            ]
          },
          "metadata": {},
          "execution_count": 135
        }
      ]
    },
    {
      "cell_type": "code",
      "metadata": {
        "colab": {
          "base_uri": "https://localhost:8080/"
        },
        "id": "wen5PJfoqWjb",
        "outputId": "40de18ce-b4cc-4dc5-df15-d35af3b590cd"
      },
      "source": [
        "full_path_to_file2 = os.path.join(C204) \n",
        "blob_service_client.get_blob_to_path('shadeimg', full_path_to_file2, full_path_to_file2)"
      ],
      "execution_count": 136,
      "outputs": [
        {
          "output_type": "execute_result",
          "data": {
            "text/plain": [
              "<azure.storage.blob.models.Blob at 0x7fdb5ae60210>"
            ]
          },
          "metadata": {},
          "execution_count": 136
        }
      ]
    },
    {
      "cell_type": "markdown",
      "metadata": {
        "id": "Dre9rll26lii"
      },
      "source": [
        "C3"
      ]
    },
    {
      "cell_type": "code",
      "metadata": {
        "colab": {
          "base_uri": "https://localhost:8080/"
        },
        "id": "XxQjkejdqWjc",
        "outputId": "d2fa9ad7-fc8e-4d26-87da-37586b43ddec"
      },
      "source": [
        "full_path_to_file2 = os.path.join(C301) \n",
        "blob_service_client.get_blob_to_path('shadeimg', full_path_to_file2, full_path_to_file2)"
      ],
      "execution_count": 137,
      "outputs": [
        {
          "output_type": "execute_result",
          "data": {
            "text/plain": [
              "<azure.storage.blob.models.Blob at 0x7fdb5af179d0>"
            ]
          },
          "metadata": {},
          "execution_count": 137
        }
      ]
    },
    {
      "cell_type": "code",
      "metadata": {
        "colab": {
          "base_uri": "https://localhost:8080/"
        },
        "id": "hJo8QJcUqWjc",
        "outputId": "19a3564e-e1a8-4e77-9f98-fd41d137ec51"
      },
      "source": [
        "full_path_to_file2 = os.path.join(C302) \n",
        "blob_service_client.get_blob_to_path('shadeimg', full_path_to_file2, full_path_to_file2)"
      ],
      "execution_count": 138,
      "outputs": [
        {
          "output_type": "execute_result",
          "data": {
            "text/plain": [
              "<azure.storage.blob.models.Blob at 0x7fdb5ae8b710>"
            ]
          },
          "metadata": {},
          "execution_count": 138
        }
      ]
    },
    {
      "cell_type": "code",
      "metadata": {
        "colab": {
          "base_uri": "https://localhost:8080/"
        },
        "id": "znSCt104qWjc",
        "outputId": "a02e726d-d002-4944-e5cb-19dc9372ef47"
      },
      "source": [
        "full_path_to_file2 = os.path.join(C303) \n",
        "blob_service_client.get_blob_to_path('shadeimg', full_path_to_file2, full_path_to_file2)"
      ],
      "execution_count": 139,
      "outputs": [
        {
          "output_type": "execute_result",
          "data": {
            "text/plain": [
              "<azure.storage.blob.models.Blob at 0x7fdb5aef88d0>"
            ]
          },
          "metadata": {},
          "execution_count": 139
        }
      ]
    },
    {
      "cell_type": "code",
      "metadata": {
        "colab": {
          "base_uri": "https://localhost:8080/"
        },
        "id": "ZNg18ycAqWjc",
        "outputId": "94d454a8-b654-4292-869c-409085cb215f"
      },
      "source": [
        "full_path_to_file2 = os.path.join(C304) \n",
        "blob_service_client.get_blob_to_path('shadeimg', full_path_to_file2, full_path_to_file2)"
      ],
      "execution_count": 140,
      "outputs": [
        {
          "output_type": "execute_result",
          "data": {
            "text/plain": [
              "<azure.storage.blob.models.Blob at 0x7fdb5af08c90>"
            ]
          },
          "metadata": {},
          "execution_count": 140
        }
      ]
    },
    {
      "cell_type": "markdown",
      "metadata": {
        "id": "A89CEXhb6nqF"
      },
      "source": [
        "C4"
      ]
    },
    {
      "cell_type": "code",
      "metadata": {
        "colab": {
          "base_uri": "https://localhost:8080/"
        },
        "id": "ZNp-dUIsqWjc",
        "outputId": "7e4fd00d-715c-497b-da58-8a43a1797148"
      },
      "source": [
        "full_path_to_file2 = os.path.join(C401) \n",
        "blob_service_client.get_blob_to_path('shadeimg', full_path_to_file2, full_path_to_file2)"
      ],
      "execution_count": 141,
      "outputs": [
        {
          "output_type": "execute_result",
          "data": {
            "text/plain": [
              "<azure.storage.blob.models.Blob at 0x7fdb5af6c490>"
            ]
          },
          "metadata": {},
          "execution_count": 141
        }
      ]
    },
    {
      "cell_type": "code",
      "metadata": {
        "colab": {
          "base_uri": "https://localhost:8080/"
        },
        "id": "TFshOTHiqWjc",
        "outputId": "b92a9cdd-47b8-47a2-a254-868ac23d742a"
      },
      "source": [
        "full_path_to_file2 = os.path.join(C402) \n",
        "blob_service_client.get_blob_to_path('shadeimg', full_path_to_file2, full_path_to_file2)"
      ],
      "execution_count": 142,
      "outputs": [
        {
          "output_type": "execute_result",
          "data": {
            "text/plain": [
              "<azure.storage.blob.models.Blob at 0x7fdb5af75090>"
            ]
          },
          "metadata": {},
          "execution_count": 142
        }
      ]
    },
    {
      "cell_type": "code",
      "metadata": {
        "colab": {
          "base_uri": "https://localhost:8080/"
        },
        "id": "sdDlfp9NqWjd",
        "outputId": "32fe1263-724b-47ea-8646-fc5456e4299f"
      },
      "source": [
        "full_path_to_file2 = os.path.join(C403) \n",
        "blob_service_client.get_blob_to_path('shadeimg', full_path_to_file2, full_path_to_file2)"
      ],
      "execution_count": 143,
      "outputs": [
        {
          "output_type": "execute_result",
          "data": {
            "text/plain": [
              "<azure.storage.blob.models.Blob at 0x7fdb5ae59490>"
            ]
          },
          "metadata": {},
          "execution_count": 143
        }
      ]
    },
    {
      "cell_type": "code",
      "metadata": {
        "colab": {
          "base_uri": "https://localhost:8080/"
        },
        "id": "_FOfoyRXqWjd",
        "outputId": "d9550078-75f9-4ed2-e633-442a9e38badf"
      },
      "source": [
        "full_path_to_file2 = os.path.join(C404) \n",
        "blob_service_client.get_blob_to_path('shadeimg', full_path_to_file2, full_path_to_file2)"
      ],
      "execution_count": 144,
      "outputs": [
        {
          "output_type": "execute_result",
          "data": {
            "text/plain": [
              "<azure.storage.blob.models.Blob at 0x7fdb5af81050>"
            ]
          },
          "metadata": {},
          "execution_count": 144
        }
      ]
    },
    {
      "cell_type": "markdown",
      "metadata": {
        "id": "2nXnc9S96qZe"
      },
      "source": [
        "D2"
      ]
    },
    {
      "cell_type": "code",
      "metadata": {
        "colab": {
          "base_uri": "https://localhost:8080/"
        },
        "id": "jjb3FLKgqWjd",
        "outputId": "f5bb38ef-753e-413c-c20a-5c44d6a82e9f"
      },
      "source": [
        "full_path_to_file2 = os.path.join(D201) \n",
        "blob_service_client.get_blob_to_path('shadeimg', full_path_to_file2, full_path_to_file2)"
      ],
      "execution_count": 145,
      "outputs": [
        {
          "output_type": "execute_result",
          "data": {
            "text/plain": [
              "<azure.storage.blob.models.Blob at 0x7fdb5afcfe10>"
            ]
          },
          "metadata": {},
          "execution_count": 145
        }
      ]
    },
    {
      "cell_type": "code",
      "metadata": {
        "colab": {
          "base_uri": "https://localhost:8080/"
        },
        "id": "9pWM-aURqWjd",
        "outputId": "e0ce9cf9-75e9-4cc0-f9ee-a6db2b4bd7e0"
      },
      "source": [
        "full_path_to_file2 = os.path.join(D202) \n",
        "blob_service_client.get_blob_to_path('shadeimg', full_path_to_file2, full_path_to_file2)"
      ],
      "execution_count": 146,
      "outputs": [
        {
          "output_type": "execute_result",
          "data": {
            "text/plain": [
              "<azure.storage.blob.models.Blob at 0x7fdb5afcb710>"
            ]
          },
          "metadata": {},
          "execution_count": 146
        }
      ]
    },
    {
      "cell_type": "code",
      "metadata": {
        "colab": {
          "base_uri": "https://localhost:8080/"
        },
        "id": "LOd1jz1AqWjd",
        "outputId": "0241ed71-e3d7-4bb0-ff21-22235536d4ff"
      },
      "source": [
        "full_path_to_file2 = os.path.join(D203) \n",
        "blob_service_client.get_blob_to_path('shadeimg', full_path_to_file2, full_path_to_file2)"
      ],
      "execution_count": 147,
      "outputs": [
        {
          "output_type": "execute_result",
          "data": {
            "text/plain": [
              "<azure.storage.blob.models.Blob at 0x7fdb5aeaa510>"
            ]
          },
          "metadata": {},
          "execution_count": 147
        }
      ]
    },
    {
      "cell_type": "code",
      "metadata": {
        "colab": {
          "base_uri": "https://localhost:8080/"
        },
        "id": "2u7Gw9SRqWjd",
        "outputId": "50691c89-8664-4c3d-9a73-140c572ec22b"
      },
      "source": [
        "full_path_to_file2 = os.path.join(D204) \n",
        "blob_service_client.get_blob_to_path('shadeimg', full_path_to_file2, full_path_to_file2)"
      ],
      "execution_count": 148,
      "outputs": [
        {
          "output_type": "execute_result",
          "data": {
            "text/plain": [
              "<azure.storage.blob.models.Blob at 0x7fdb5ae60910>"
            ]
          },
          "metadata": {},
          "execution_count": 148
        }
      ]
    },
    {
      "cell_type": "markdown",
      "metadata": {
        "id": "84tHGN-56sF3"
      },
      "source": [
        "D3"
      ]
    },
    {
      "cell_type": "code",
      "metadata": {
        "colab": {
          "base_uri": "https://localhost:8080/"
        },
        "id": "1738pW_3qWje",
        "outputId": "f0afaaaf-a501-4822-bffc-0ee4ffc463f1"
      },
      "source": [
        "full_path_to_file2 = os.path.join(D301) \n",
        "blob_service_client.get_blob_to_path('shadeimg', full_path_to_file2, full_path_to_file2)"
      ],
      "execution_count": 149,
      "outputs": [
        {
          "output_type": "execute_result",
          "data": {
            "text/plain": [
              "<azure.storage.blob.models.Blob at 0x7fdb5aeb6f50>"
            ]
          },
          "metadata": {},
          "execution_count": 149
        }
      ]
    },
    {
      "cell_type": "code",
      "metadata": {
        "colab": {
          "base_uri": "https://localhost:8080/"
        },
        "id": "fOWxaJZRqWje",
        "outputId": "7503a9d0-af38-4c62-c88e-2aa0808406bd"
      },
      "source": [
        "full_path_to_file2 = os.path.join(D302) \n",
        "blob_service_client.get_blob_to_path('shadeimg', full_path_to_file2, full_path_to_file2)"
      ],
      "execution_count": 150,
      "outputs": [
        {
          "output_type": "execute_result",
          "data": {
            "text/plain": [
              "<azure.storage.blob.models.Blob at 0x7fdb5affeb10>"
            ]
          },
          "metadata": {},
          "execution_count": 150
        }
      ]
    },
    {
      "cell_type": "code",
      "metadata": {
        "colab": {
          "base_uri": "https://localhost:8080/"
        },
        "id": "0gIgD-pCqWje",
        "outputId": "b58fc135-bd2e-4168-9b9d-f5d97e9a1502"
      },
      "source": [
        "full_path_to_file2 = os.path.join(D303) \n",
        "blob_service_client.get_blob_to_path('shadeimg', full_path_to_file2, full_path_to_file2)"
      ],
      "execution_count": 151,
      "outputs": [
        {
          "output_type": "execute_result",
          "data": {
            "text/plain": [
              "<azure.storage.blob.models.Blob at 0x7fdb5af17950>"
            ]
          },
          "metadata": {},
          "execution_count": 151
        }
      ]
    },
    {
      "cell_type": "code",
      "metadata": {
        "colab": {
          "base_uri": "https://localhost:8080/"
        },
        "id": "vChTjQDpqWje",
        "outputId": "0bce3f6f-e11c-40c9-985c-842f61f62a45"
      },
      "source": [
        "full_path_to_file2 = os.path.join(D304) \n",
        "blob_service_client.get_blob_to_path('shadeimg', full_path_to_file2, full_path_to_file2)"
      ],
      "execution_count": 152,
      "outputs": [
        {
          "output_type": "execute_result",
          "data": {
            "text/plain": [
              "<azure.storage.blob.models.Blob at 0x7fdb5ae60110>"
            ]
          },
          "metadata": {},
          "execution_count": 152
        }
      ]
    },
    {
      "cell_type": "markdown",
      "metadata": {
        "id": "sc2ondun6taF"
      },
      "source": [
        "D4"
      ]
    },
    {
      "cell_type": "code",
      "metadata": {
        "colab": {
          "base_uri": "https://localhost:8080/"
        },
        "id": "OPqH6s0MqWje",
        "outputId": "1ef6c13e-2a3b-4c9b-a3c7-a0f9c11dbb79"
      },
      "source": [
        "full_path_to_file2 = os.path.join(D401) \n",
        "blob_service_client.get_blob_to_path('shadeimg', full_path_to_file2, full_path_to_file2)"
      ],
      "execution_count": 153,
      "outputs": [
        {
          "output_type": "execute_result",
          "data": {
            "text/plain": [
              "<azure.storage.blob.models.Blob at 0x7fdb5aed7850>"
            ]
          },
          "metadata": {},
          "execution_count": 153
        }
      ]
    },
    {
      "cell_type": "code",
      "metadata": {
        "colab": {
          "base_uri": "https://localhost:8080/"
        },
        "id": "OHFDg-TYqWje",
        "outputId": "76795ff9-250b-45ed-a731-916e1a5cb766"
      },
      "source": [
        "full_path_to_file2 = os.path.join(D402) \n",
        "blob_service_client.get_blob_to_path('shadeimg', full_path_to_file2, full_path_to_file2)"
      ],
      "execution_count": 154,
      "outputs": [
        {
          "output_type": "execute_result",
          "data": {
            "text/plain": [
              "<azure.storage.blob.models.Blob at 0x7fdb5af81e10>"
            ]
          },
          "metadata": {},
          "execution_count": 154
        }
      ]
    },
    {
      "cell_type": "code",
      "metadata": {
        "colab": {
          "base_uri": "https://localhost:8080/"
        },
        "id": "IykUWgiiqWje",
        "outputId": "1208ecd8-ed2a-4ef0-b359-f4df783fa22b"
      },
      "source": [
        "full_path_to_file2 = os.path.join(D403) \n",
        "blob_service_client.get_blob_to_path('shadeimg', full_path_to_file2, full_path_to_file2)"
      ],
      "execution_count": 155,
      "outputs": [
        {
          "output_type": "execute_result",
          "data": {
            "text/plain": [
              "<azure.storage.blob.models.Blob at 0x7fdb5af04450>"
            ]
          },
          "metadata": {},
          "execution_count": 155
        }
      ]
    },
    {
      "cell_type": "code",
      "metadata": {
        "colab": {
          "base_uri": "https://localhost:8080/"
        },
        "id": "mh_GL5A2qWjf",
        "outputId": "3d01221d-33e7-4720-bac1-4a988ec1fd66"
      },
      "source": [
        "full_path_to_file2 = os.path.join(D404) \n",
        "blob_service_client.get_blob_to_path('shadeimg', full_path_to_file2, full_path_to_file2)"
      ],
      "execution_count": 156,
      "outputs": [
        {
          "output_type": "execute_result",
          "data": {
            "text/plain": [
              "<azure.storage.blob.models.Blob at 0x7fdb5ae68890>"
            ]
          },
          "metadata": {},
          "execution_count": 156
        }
      ]
    },
    {
      "cell_type": "markdown",
      "metadata": {
        "id": "nxyIUEg7cPsn"
      },
      "source": [
        "#3. BGR to RGB"
      ]
    },
    {
      "cell_type": "code",
      "metadata": {
        "id": "1n-t_Rl_cXK7"
      },
      "source": [
        "import cv2\n",
        "from matplotlib import pyplot as plt #การเรียกใช้คำสั่ง matplotlib เพื่อวาดกราฟ โดยแทนชื่อ matplotlib ด้วย plt\n",
        "import matplotlib"
      ],
      "execution_count": 157,
      "outputs": []
    },
    {
      "cell_type": "markdown",
      "metadata": {
        "id": "P8Vp2fIOb6KG"
      },
      "source": [
        "A1"
      ]
    },
    {
      "cell_type": "code",
      "metadata": {
        "id": "GVOM_S9IaAsm"
      },
      "source": [
        "imgA1_01  = cv2.imread(A101)\n",
        "RGB_imgA1_01= cv2.cvtColor(imgA1_01, cv2.COLOR_BGR2RGB)"
      ],
      "execution_count": 158,
      "outputs": []
    },
    {
      "cell_type": "code",
      "metadata": {
        "id": "hHPm9C2Obbbx"
      },
      "source": [
        "imgA1_02  = cv2.imread(A102)\n",
        "RGB_imgA1_02= cv2.cvtColor(imgA1_02, cv2.COLOR_BGR2RGB)"
      ],
      "execution_count": 159,
      "outputs": []
    },
    {
      "cell_type": "code",
      "metadata": {
        "id": "JSlpvsMEbgK7"
      },
      "source": [
        "imgA1_03  = cv2.imread(A103)\n",
        "RGB_imgA1_03= cv2.cvtColor(imgA1_03, cv2.COLOR_BGR2RGB)"
      ],
      "execution_count": 160,
      "outputs": []
    },
    {
      "cell_type": "code",
      "metadata": {
        "id": "0o9-5ucebgqD"
      },
      "source": [
        "imgA1_04  = cv2.imread(A104)\n",
        "RGB_imgA1_04= cv2.cvtColor(imgA1_04, cv2.COLOR_BGR2RGB)"
      ],
      "execution_count": 161,
      "outputs": []
    },
    {
      "cell_type": "markdown",
      "metadata": {
        "id": "gufTt975b7fS"
      },
      "source": [
        "A2"
      ]
    },
    {
      "cell_type": "code",
      "metadata": {
        "id": "tjSL18omb5R-"
      },
      "source": [
        "imgA2_01  = cv2.imread(A201)\n",
        "RGB_imgA2_01= cv2.cvtColor(imgA2_01, cv2.COLOR_BGR2RGB)"
      ],
      "execution_count": 162,
      "outputs": []
    },
    {
      "cell_type": "code",
      "metadata": {
        "id": "54V3PVGEcKYg"
      },
      "source": [
        "imgA2_02  = cv2.imread(A202)\n",
        "RGB_imgA2_02= cv2.cvtColor(imgA2_02, cv2.COLOR_BGR2RGB)"
      ],
      "execution_count": 163,
      "outputs": []
    },
    {
      "cell_type": "code",
      "metadata": {
        "id": "DVtfJhWscK1x"
      },
      "source": [
        "imgA2_03  = cv2.imread(A203)\n",
        "RGB_imgA2_03= cv2.cvtColor(imgA2_03, cv2.COLOR_BGR2RGB)"
      ],
      "execution_count": 164,
      "outputs": []
    },
    {
      "cell_type": "code",
      "metadata": {
        "id": "8Naz0LU5cLHO"
      },
      "source": [
        "imgA2_04  = cv2.imread(A204)\n",
        "RGB_imgA2_04= cv2.cvtColor(imgA2_04, cv2.COLOR_BGR2RGB)"
      ],
      "execution_count": 165,
      "outputs": []
    },
    {
      "cell_type": "markdown",
      "metadata": {
        "id": "uVEPIS6bcYbA"
      },
      "source": [
        "A3"
      ]
    },
    {
      "cell_type": "code",
      "metadata": {
        "id": "KzcBxc8lck7z"
      },
      "source": [
        "imgA3_01  = cv2.imread(A301)\n",
        "RGB_imgA3_01= cv2.cvtColor(imgA3_01, cv2.COLOR_BGR2RGB)"
      ],
      "execution_count": 166,
      "outputs": []
    },
    {
      "cell_type": "code",
      "metadata": {
        "id": "lORtl17icmhM"
      },
      "source": [
        "imgA3_02  = cv2.imread(A302)\n",
        "RGB_imgA3_02= cv2.cvtColor(imgA3_02, cv2.COLOR_BGR2RGB)"
      ],
      "execution_count": 167,
      "outputs": []
    },
    {
      "cell_type": "code",
      "metadata": {
        "id": "PdrwzlqVcyi1"
      },
      "source": [
        "imgA3_03  = cv2.imread(A303)\n",
        "RGB_imgA3_03= cv2.cvtColor(imgA3_03, cv2.COLOR_BGR2RGB)"
      ],
      "execution_count": 168,
      "outputs": []
    },
    {
      "cell_type": "code",
      "metadata": {
        "id": "sg9Z_KwUc4kR"
      },
      "source": [
        "imgA3_04  = cv2.imread(A304)\n",
        "RGB_imgA3_04= cv2.cvtColor(imgA3_04, cv2.COLOR_BGR2RGB)"
      ],
      "execution_count": 169,
      "outputs": []
    },
    {
      "cell_type": "markdown",
      "metadata": {
        "id": "a_-SKgyLcZWM"
      },
      "source": [
        "A3.5"
      ]
    },
    {
      "cell_type": "code",
      "metadata": {
        "id": "Gf3_D74Fc8S1"
      },
      "source": [
        "imgA3_501  = cv2.imread(A3_501)\n",
        "RGB_imgA3_501= cv2.cvtColor(imgA3_501, cv2.COLOR_BGR2RGB)"
      ],
      "execution_count": 170,
      "outputs": []
    },
    {
      "cell_type": "code",
      "metadata": {
        "id": "GqLh_f0mdBKp"
      },
      "source": [
        "imgA3_502  = cv2.imread(A3_502)\n",
        "RGB_imgA3_502= cv2.cvtColor(imgA3_502, cv2.COLOR_BGR2RGB)"
      ],
      "execution_count": 171,
      "outputs": []
    },
    {
      "cell_type": "code",
      "metadata": {
        "id": "cGBjkxnKdFxn"
      },
      "source": [
        "imgA3_503  = cv2.imread(A3_503)\n",
        "RGB_imgA3_503= cv2.cvtColor(imgA3_503, cv2.COLOR_BGR2RGB)"
      ],
      "execution_count": 172,
      "outputs": []
    },
    {
      "cell_type": "code",
      "metadata": {
        "id": "wVvpke2ZdKe1"
      },
      "source": [
        "imgA3_504  = cv2.imread(A3_504)\n",
        "RGB_imgA3_504= cv2.cvtColor(imgA3_504, cv2.COLOR_BGR2RGB)"
      ],
      "execution_count": 173,
      "outputs": []
    },
    {
      "cell_type": "markdown",
      "metadata": {
        "id": "PEkgGEpUdNrj"
      },
      "source": [
        "A4"
      ]
    },
    {
      "cell_type": "code",
      "metadata": {
        "id": "0iwy2ADPdOyB"
      },
      "source": [
        "imgA4_01  = cv2.imread(A401)\n",
        "RGB_imgA4_01= cv2.cvtColor(imgA4_01, cv2.COLOR_BGR2RGB)"
      ],
      "execution_count": 174,
      "outputs": []
    },
    {
      "cell_type": "code",
      "metadata": {
        "id": "EYuD_CJydQX5"
      },
      "source": [
        "imgA4_02  = cv2.imread(A402)\n",
        "RGB_imgA4_02= cv2.cvtColor(imgA4_02, cv2.COLOR_BGR2RGB)"
      ],
      "execution_count": 175,
      "outputs": []
    },
    {
      "cell_type": "code",
      "metadata": {
        "id": "0nvPOVb6dQsZ"
      },
      "source": [
        "imgA4_03  = cv2.imread(A403)\n",
        "RGB_imgA4_03= cv2.cvtColor(imgA4_03, cv2.COLOR_BGR2RGB)"
      ],
      "execution_count": 176,
      "outputs": []
    },
    {
      "cell_type": "code",
      "metadata": {
        "id": "N-8Nu6NBdQ8d"
      },
      "source": [
        "imgA4_04  = cv2.imread(A404)\n",
        "RGB_imgA4_04= cv2.cvtColor(imgA4_04, cv2.COLOR_BGR2RGB)"
      ],
      "execution_count": 177,
      "outputs": []
    },
    {
      "cell_type": "markdown",
      "metadata": {
        "id": "_ntdqxB5dsok"
      },
      "source": [
        "B1"
      ]
    },
    {
      "cell_type": "code",
      "metadata": {
        "id": "6N74-1BkdxgN"
      },
      "source": [
        "imgB1_01  = cv2.imread(B101)\n",
        "RGB_imgB1_01= cv2.cvtColor(imgB1_01, cv2.COLOR_BGR2RGB)"
      ],
      "execution_count": 178,
      "outputs": []
    },
    {
      "cell_type": "code",
      "metadata": {
        "id": "N8oZlwN0dyGl"
      },
      "source": [
        "imgB1_03  = cv2.imread(B103)\n",
        "RGB_imgB1_03= cv2.cvtColor(imgB1_03, cv2.COLOR_BGR2RGB)"
      ],
      "execution_count": 179,
      "outputs": []
    },
    {
      "cell_type": "code",
      "metadata": {
        "id": "igK3PDK9eCnz"
      },
      "source": [
        "imgB1_02  = cv2.imread(B102)\n",
        "RGB_imgB1_02= cv2.cvtColor(imgB1_02, cv2.COLOR_BGR2RGB)"
      ],
      "execution_count": 180,
      "outputs": []
    },
    {
      "cell_type": "code",
      "metadata": {
        "id": "VrS0M6pAeHIF"
      },
      "source": [
        "imgB1_04  = cv2.imread(B104)\n",
        "RGB_imgB1_04= cv2.cvtColor(imgB1_04, cv2.COLOR_BGR2RGB)"
      ],
      "execution_count": 181,
      "outputs": []
    },
    {
      "cell_type": "markdown",
      "metadata": {
        "id": "1I1KWoCMeObp"
      },
      "source": [
        "B2"
      ]
    },
    {
      "cell_type": "code",
      "metadata": {
        "id": "X-2JLg5feRPH"
      },
      "source": [
        "imgB2_01  = cv2.imread(B201)\n",
        "RGB_imgB2_01= cv2.cvtColor(imgB2_01, cv2.COLOR_BGR2RGB)"
      ],
      "execution_count": 182,
      "outputs": []
    },
    {
      "cell_type": "code",
      "metadata": {
        "id": "B_VstUr5eXwQ"
      },
      "source": [
        "imgB2_03  = cv2.imread(B203)\n",
        "RGB_imgB2_03= cv2.cvtColor(imgB2_03, cv2.COLOR_BGR2RGB)"
      ],
      "execution_count": 183,
      "outputs": []
    },
    {
      "cell_type": "code",
      "metadata": {
        "id": "2CgDr2APedK9"
      },
      "source": [
        "imgB2_04  = cv2.imread(B204)\n",
        "RGB_imgB2_04= cv2.cvtColor(imgB2_04, cv2.COLOR_BGR2RGB)"
      ],
      "execution_count": 184,
      "outputs": []
    },
    {
      "cell_type": "code",
      "metadata": {
        "id": "5xOt0vwDedc_"
      },
      "source": [
        "imgB2_02  = cv2.imread(B202)\n",
        "RGB_imgB2_02= cv2.cvtColor(imgB2_02, cv2.COLOR_BGR2RGB)"
      ],
      "execution_count": 185,
      "outputs": []
    },
    {
      "cell_type": "markdown",
      "metadata": {
        "id": "hUCBVyY7ePqP"
      },
      "source": [
        "B3"
      ]
    },
    {
      "cell_type": "code",
      "metadata": {
        "id": "LtfSY2yieq1m"
      },
      "source": [
        "imgB3_01  = cv2.imread(B301)\n",
        "RGB_imgB3_01= cv2.cvtColor(imgB3_01, cv2.COLOR_BGR2RGB)"
      ],
      "execution_count": 186,
      "outputs": []
    },
    {
      "cell_type": "code",
      "metadata": {
        "id": "794EGsZeevXI"
      },
      "source": [
        "imgB3_04  = cv2.imread(B304)\n",
        "RGB_imgB3_04= cv2.cvtColor(imgB3_04, cv2.COLOR_BGR2RGB)"
      ],
      "execution_count": 187,
      "outputs": []
    },
    {
      "cell_type": "code",
      "metadata": {
        "id": "lTZ_Ukume0_3"
      },
      "source": [
        "imgB3_02  = cv2.imread(B302)\n",
        "RGB_imgB3_02= cv2.cvtColor(imgB3_02, cv2.COLOR_BGR2RGB)"
      ],
      "execution_count": 188,
      "outputs": []
    },
    {
      "cell_type": "code",
      "metadata": {
        "id": "8QEXNswqe6yE"
      },
      "source": [
        "imgB3_03  = cv2.imread(B303)\n",
        "RGB_imgB3_03= cv2.cvtColor(imgB3_03, cv2.COLOR_BGR2RGB)"
      ],
      "execution_count": 189,
      "outputs": []
    },
    {
      "cell_type": "markdown",
      "metadata": {
        "id": "LcXBVCGVeQec"
      },
      "source": [
        "B4"
      ]
    },
    {
      "cell_type": "code",
      "metadata": {
        "id": "6aFTfOU0fKS7"
      },
      "source": [
        "imgB4_02  = cv2.imread(B402)\n",
        "RGB_imgB4_02= cv2.cvtColor(imgB4_02, cv2.COLOR_BGR2RGB)"
      ],
      "execution_count": 190,
      "outputs": []
    },
    {
      "cell_type": "code",
      "metadata": {
        "id": "yIuyXg-Wfh3L"
      },
      "source": [
        "imgB4_03  = cv2.imread(B403)\n",
        "RGB_imgB4_03= cv2.cvtColor(imgB4_03, cv2.COLOR_BGR2RGB)"
      ],
      "execution_count": 191,
      "outputs": []
    },
    {
      "cell_type": "code",
      "metadata": {
        "id": "xXaJJNF3fiG-"
      },
      "source": [
        "imgB4_01  = cv2.imread(B401)\n",
        "RGB_imgB4_01= cv2.cvtColor(imgB4_01, cv2.COLOR_BGR2RGB)"
      ],
      "execution_count": 192,
      "outputs": []
    },
    {
      "cell_type": "code",
      "metadata": {
        "id": "ILAXr3L4fGYz"
      },
      "source": [
        "imgB4_04  = cv2.imread(B404)\n",
        "RGB_imgB4_04= cv2.cvtColor(imgB4_04, cv2.COLOR_BGR2RGB)"
      ],
      "execution_count": 193,
      "outputs": []
    },
    {
      "cell_type": "markdown",
      "metadata": {
        "id": "uubEFQ7qf-tC"
      },
      "source": [
        "C1"
      ]
    },
    {
      "cell_type": "code",
      "metadata": {
        "id": "6-ubqoTsgJPC"
      },
      "source": [
        "imgC1_03  = cv2.imread(C103)\n",
        "RGB_imgC1_03= cv2.cvtColor(imgC1_03, cv2.COLOR_BGR2RGB)"
      ],
      "execution_count": 194,
      "outputs": []
    },
    {
      "cell_type": "code",
      "metadata": {
        "id": "t0KvXNPygJii"
      },
      "source": [
        "imgC1_04  = cv2.imread(C104)\n",
        "RGB_imgC1_04= cv2.cvtColor(imgC1_04, cv2.COLOR_BGR2RGB)"
      ],
      "execution_count": 195,
      "outputs": []
    },
    {
      "cell_type": "code",
      "metadata": {
        "id": "PiE8ZiNOgXXs"
      },
      "source": [
        "imgC1_02  = cv2.imread(C102)\n",
        "RGB_imgC1_02= cv2.cvtColor(imgC1_02, cv2.COLOR_BGR2RGB)"
      ],
      "execution_count": 196,
      "outputs": []
    },
    {
      "cell_type": "code",
      "metadata": {
        "id": "cqOor2j3gWvD"
      },
      "source": [
        "imgC1_01  = cv2.imread(C101)\n",
        "RGB_imgC1_01= cv2.cvtColor(imgC1_01, cv2.COLOR_BGR2RGB)"
      ],
      "execution_count": 197,
      "outputs": []
    },
    {
      "cell_type": "markdown",
      "metadata": {
        "id": "yyI19BAbf_7S"
      },
      "source": [
        "C2"
      ]
    },
    {
      "cell_type": "code",
      "metadata": {
        "id": "TzTzP-M1gmXw"
      },
      "source": [
        "imgC2_01  = cv2.imread(C201)\n",
        "RGB_imgC2_01= cv2.cvtColor(imgC2_01, cv2.COLOR_BGR2RGB)"
      ],
      "execution_count": 198,
      "outputs": []
    },
    {
      "cell_type": "code",
      "metadata": {
        "id": "QJfBlVmAgk3S"
      },
      "source": [
        "imgC2_02  = cv2.imread(C202)\n",
        "RGB_imgC2_02= cv2.cvtColor(imgC2_02, cv2.COLOR_BGR2RGB)"
      ],
      "execution_count": 199,
      "outputs": []
    },
    {
      "cell_type": "code",
      "metadata": {
        "id": "DVeUrQ0agmDP"
      },
      "source": [
        "imgC2_03  = cv2.imread(C203)\n",
        "RGB_imgC2_03= cv2.cvtColor(imgC2_03, cv2.COLOR_BGR2RGB)"
      ],
      "execution_count": 200,
      "outputs": []
    },
    {
      "cell_type": "code",
      "metadata": {
        "id": "XtghPEO2gmp8"
      },
      "source": [
        "imgC2_04  = cv2.imread(C204)\n",
        "RGB_imgC2_04= cv2.cvtColor(imgC2_04, cv2.COLOR_BGR2RGB)"
      ],
      "execution_count": 201,
      "outputs": []
    },
    {
      "cell_type": "markdown",
      "metadata": {
        "id": "vfSCdks7gBFH"
      },
      "source": [
        "C3"
      ]
    },
    {
      "cell_type": "code",
      "metadata": {
        "id": "2FGbyNm0hhmR"
      },
      "source": [
        "imgC3_01  = cv2.imread(C301)\n",
        "RGB_imgC3_01= cv2.cvtColor(imgC3_01, cv2.COLOR_BGR2RGB)"
      ],
      "execution_count": 202,
      "outputs": []
    },
    {
      "cell_type": "code",
      "metadata": {
        "id": "O60-VGAmhh97"
      },
      "source": [
        "imgC3_03  = cv2.imread(C303)\n",
        "RGB_imgC3_03= cv2.cvtColor(imgC3_03, cv2.COLOR_BGR2RGB)"
      ],
      "execution_count": 203,
      "outputs": []
    },
    {
      "cell_type": "code",
      "metadata": {
        "id": "Ic1so8G1hsTe"
      },
      "source": [
        "imgC3_02  = cv2.imread(C302)\n",
        "RGB_imgC3_02= cv2.cvtColor(imgC3_02, cv2.COLOR_BGR2RGB)"
      ],
      "execution_count": 204,
      "outputs": []
    },
    {
      "cell_type": "code",
      "metadata": {
        "id": "YtNRCI-8hsj-"
      },
      "source": [
        "imgC3_04  = cv2.imread(C304)\n",
        "RGB_imgC3_04= cv2.cvtColor(imgC3_04, cv2.COLOR_BGR2RGB)"
      ],
      "execution_count": 205,
      "outputs": []
    },
    {
      "cell_type": "markdown",
      "metadata": {
        "id": "VZuqvN-UgB1x"
      },
      "source": [
        "C4"
      ]
    },
    {
      "cell_type": "code",
      "metadata": {
        "id": "HWO6qM5kirOE"
      },
      "source": [
        "imgC4_02  = cv2.imread(C402)\n",
        "RGB_imgC4_02= cv2.cvtColor(imgC4_02, cv2.COLOR_BGR2RGB)"
      ],
      "execution_count": 206,
      "outputs": []
    },
    {
      "cell_type": "code",
      "metadata": {
        "id": "j4Pja6LViriS"
      },
      "source": [
        "imgC4_01  = cv2.imread(C401)\n",
        "RGB_imgC4_01= cv2.cvtColor(imgC4_01, cv2.COLOR_BGR2RGB)"
      ],
      "execution_count": 207,
      "outputs": []
    },
    {
      "cell_type": "code",
      "metadata": {
        "id": "X3o2PV6virzG"
      },
      "source": [
        "imgC4_03  = cv2.imread(C403)\n",
        "RGB_imgC4_03= cv2.cvtColor(imgC4_03, cv2.COLOR_BGR2RGB)"
      ],
      "execution_count": 208,
      "outputs": []
    },
    {
      "cell_type": "code",
      "metadata": {
        "id": "kPoMLVCdisHc"
      },
      "source": [
        "imgC4_04  = cv2.imread(C404)\n",
        "RGB_imgC4_04= cv2.cvtColor(imgC4_04, cv2.COLOR_BGR2RGB)"
      ],
      "execution_count": 209,
      "outputs": []
    },
    {
      "cell_type": "markdown",
      "metadata": {
        "id": "T9ARw2lYgCjL"
      },
      "source": [
        "D2"
      ]
    },
    {
      "cell_type": "code",
      "metadata": {
        "id": "DFmPhDzCjGWv"
      },
      "source": [
        "imgD2_04  = cv2.imread(D204)\n",
        "RGB_imgD2_04= cv2.cvtColor(imgD2_04, cv2.COLOR_BGR2RGB)"
      ],
      "execution_count": 210,
      "outputs": []
    },
    {
      "cell_type": "code",
      "metadata": {
        "id": "qujyaFlOjGni"
      },
      "source": [
        "imgD2_03  = cv2.imread(D203)\n",
        "RGB_imgD2_03= cv2.cvtColor(imgD2_03, cv2.COLOR_BGR2RGB)"
      ],
      "execution_count": 211,
      "outputs": []
    },
    {
      "cell_type": "code",
      "metadata": {
        "id": "zlPefHERjU-c"
      },
      "source": [
        "imgD2_02  = cv2.imread(D202)\n",
        "RGB_imgD2_02= cv2.cvtColor(imgD2_02, cv2.COLOR_BGR2RGB)"
      ],
      "execution_count": 212,
      "outputs": []
    },
    {
      "cell_type": "code",
      "metadata": {
        "id": "b3i_Rv95jVMQ"
      },
      "source": [
        "imgD2_01  = cv2.imread(D201)\n",
        "RGB_imgD2_01= cv2.cvtColor(imgD2_01, cv2.COLOR_BGR2RGB)"
      ],
      "execution_count": 213,
      "outputs": []
    },
    {
      "cell_type": "markdown",
      "metadata": {
        "id": "bCM2rsMZgDZt"
      },
      "source": [
        "D3"
      ]
    },
    {
      "cell_type": "code",
      "metadata": {
        "id": "543Pftj0jkoi"
      },
      "source": [
        "imgD3_01  = cv2.imread(D301)\n",
        "RGB_imgD3_01= cv2.cvtColor(imgD3_01, cv2.COLOR_BGR2RGB)"
      ],
      "execution_count": 214,
      "outputs": []
    },
    {
      "cell_type": "code",
      "metadata": {
        "id": "se8oOd8IjrIX"
      },
      "source": [
        "imgD3_02  = cv2.imread(D302)\n",
        "RGB_imgD3_02= cv2.cvtColor(imgD3_02, cv2.COLOR_BGR2RGB)"
      ],
      "execution_count": 215,
      "outputs": []
    },
    {
      "cell_type": "code",
      "metadata": {
        "id": "n569gXVKjymi"
      },
      "source": [
        "imgD3_03  = cv2.imread(D303)\n",
        "RGB_imgD3_03= cv2.cvtColor(imgD3_03, cv2.COLOR_BGR2RGB)"
      ],
      "execution_count": 216,
      "outputs": []
    },
    {
      "cell_type": "code",
      "metadata": {
        "id": "zAx3JzOnj4NU"
      },
      "source": [
        "imgD3_04  = cv2.imread(D304)\n",
        "RGB_imgD3_04= cv2.cvtColor(imgD3_04, cv2.COLOR_BGR2RGB)"
      ],
      "execution_count": 217,
      "outputs": []
    },
    {
      "cell_type": "markdown",
      "metadata": {
        "id": "mvMVz8Y9gETm"
      },
      "source": [
        "D4"
      ]
    },
    {
      "cell_type": "code",
      "metadata": {
        "id": "ES2mOiDQj-uU"
      },
      "source": [
        "imgD4_01  = cv2.imread(D401)\n",
        "RGB_imgD4_01= cv2.cvtColor(imgD4_01, cv2.COLOR_BGR2RGB)"
      ],
      "execution_count": 218,
      "outputs": []
    },
    {
      "cell_type": "code",
      "metadata": {
        "id": "68q0SjtIj_Dy"
      },
      "source": [
        "imgD4_02  = cv2.imread(D402)\n",
        "RGB_imgD4_02= cv2.cvtColor(imgD4_02, cv2.COLOR_BGR2RGB)"
      ],
      "execution_count": 219,
      "outputs": []
    },
    {
      "cell_type": "code",
      "metadata": {
        "id": "eZSd-x2GgDEL"
      },
      "source": [
        "imgD4_03  = cv2.imread(D403)\n",
        "RGB_imgD4_03= cv2.cvtColor(imgD4_03, cv2.COLOR_BGR2RGB)"
      ],
      "execution_count": 220,
      "outputs": []
    },
    {
      "cell_type": "code",
      "metadata": {
        "id": "ICINoEfIgDWj"
      },
      "source": [
        "imgD4_04  = cv2.imread(D404)\n",
        "RGB_imgD4_04= cv2.cvtColor(imgD4_04, cv2.COLOR_BGR2RGB)"
      ],
      "execution_count": 221,
      "outputs": []
    },
    {
      "cell_type": "markdown",
      "metadata": {
        "id": "uHfUzwcHhX8R"
      },
      "source": [
        "#4. RGB to LAB"
      ]
    },
    {
      "cell_type": "markdown",
      "metadata": {
        "id": "yBL9utUemWyZ"
      },
      "source": [
        "A1"
      ]
    },
    {
      "cell_type": "code",
      "metadata": {
        "id": "UiTCG8xFntwB"
      },
      "source": [
        "LAB_imgA1_01= cv2.cvtColor(RGB_imgA1_01, cv2.COLOR_RGB2LAB)"
      ],
      "execution_count": 222,
      "outputs": []
    },
    {
      "cell_type": "code",
      "metadata": {
        "id": "ktf3nM4antol"
      },
      "source": [
        "LAB_imgA1_02= cv2.cvtColor(RGB_imgA1_02, cv2.COLOR_RGB2LAB)"
      ],
      "execution_count": 223,
      "outputs": []
    },
    {
      "cell_type": "code",
      "metadata": {
        "id": "u-JFybcBntdc"
      },
      "source": [
        "LAB_imgA1_03= cv2.cvtColor(RGB_imgA1_03, cv2.COLOR_RGB2LAB)"
      ],
      "execution_count": 224,
      "outputs": []
    },
    {
      "cell_type": "code",
      "metadata": {
        "id": "EJ9wLDXenwG4"
      },
      "source": [
        "LAB_imgA1_04= cv2.cvtColor(RGB_imgA1_04, cv2.COLOR_RGB2LAB)"
      ],
      "execution_count": 225,
      "outputs": []
    },
    {
      "cell_type": "markdown",
      "metadata": {
        "id": "8rtewXNCpnBx"
      },
      "source": [
        "A2"
      ]
    },
    {
      "cell_type": "code",
      "metadata": {
        "id": "xsTPAG-gpqXo"
      },
      "source": [
        "LAB_imgA2_01= cv2.cvtColor(RGB_imgA2_01, cv2.COLOR_RGB2LAB)"
      ],
      "execution_count": 226,
      "outputs": []
    },
    {
      "cell_type": "code",
      "metadata": {
        "id": "Ssic_jpRqhqK"
      },
      "source": [
        "LAB_imgA2_02= cv2.cvtColor(RGB_imgA2_02, cv2.COLOR_RGB2LAB)"
      ],
      "execution_count": 227,
      "outputs": []
    },
    {
      "cell_type": "code",
      "metadata": {
        "id": "nYc5fnY9qpBk"
      },
      "source": [
        "LAB_imgA2_03= cv2.cvtColor(RGB_imgA2_03, cv2.COLOR_RGB2LAB)"
      ],
      "execution_count": 228,
      "outputs": []
    },
    {
      "cell_type": "code",
      "metadata": {
        "id": "hzoiKbbRqowx"
      },
      "source": [
        "LAB_imgA2_04= cv2.cvtColor(RGB_imgA2_04, cv2.COLOR_RGB2LAB)"
      ],
      "execution_count": 229,
      "outputs": []
    },
    {
      "cell_type": "markdown",
      "metadata": {
        "id": "aI5xdTY4pn8b"
      },
      "source": [
        "A3"
      ]
    },
    {
      "cell_type": "code",
      "metadata": {
        "id": "pCou6gLsrIwK"
      },
      "source": [
        "LAB_imgA3_01= cv2.cvtColor(RGB_imgA3_01, cv2.COLOR_RGB2LAB)"
      ],
      "execution_count": 230,
      "outputs": []
    },
    {
      "cell_type": "code",
      "metadata": {
        "id": "kVCfCF5OrIf4"
      },
      "source": [
        "LAB_imgA3_02= cv2.cvtColor(RGB_imgA3_02, cv2.COLOR_RGB2LAB)"
      ],
      "execution_count": 231,
      "outputs": []
    },
    {
      "cell_type": "code",
      "metadata": {
        "id": "mG7BAXngrITB"
      },
      "source": [
        "LAB_imgA3_03= cv2.cvtColor(RGB_imgA3_03, cv2.COLOR_RGB2LAB)"
      ],
      "execution_count": 232,
      "outputs": []
    },
    {
      "cell_type": "code",
      "metadata": {
        "id": "qix2SAstrH9-"
      },
      "source": [
        "LAB_imgA3_04= cv2.cvtColor(RGB_imgA3_04, cv2.COLOR_RGB2LAB)"
      ],
      "execution_count": 233,
      "outputs": []
    },
    {
      "cell_type": "markdown",
      "metadata": {
        "id": "cGC5Ray3poxR"
      },
      "source": [
        "A3.5"
      ]
    },
    {
      "cell_type": "code",
      "metadata": {
        "id": "6AkrYYCurpZL"
      },
      "source": [
        "LAB_imgA3_501= cv2.cvtColor(RGB_imgA3_501, cv2.COLOR_RGB2LAB)"
      ],
      "execution_count": 234,
      "outputs": []
    },
    {
      "cell_type": "code",
      "metadata": {
        "id": "JOQI8idOrpRN"
      },
      "source": [
        "LAB_imgA3_502= cv2.cvtColor(RGB_imgA3_502, cv2.COLOR_RGB2LAB)"
      ],
      "execution_count": 235,
      "outputs": []
    },
    {
      "cell_type": "code",
      "metadata": {
        "id": "zkTCbiLJrpIU"
      },
      "source": [
        "LAB_imgA3_503= cv2.cvtColor(RGB_imgA3_503, cv2.COLOR_RGB2LAB)"
      ],
      "execution_count": 236,
      "outputs": []
    },
    {
      "cell_type": "code",
      "metadata": {
        "id": "5LKXlyPProsL"
      },
      "source": [
        "LAB_imgA3_504= cv2.cvtColor(RGB_imgA3_504, cv2.COLOR_RGB2LAB)"
      ],
      "execution_count": 237,
      "outputs": []
    },
    {
      "cell_type": "markdown",
      "metadata": {
        "id": "DkthN7EuppmB"
      },
      "source": [
        "A4"
      ]
    },
    {
      "cell_type": "code",
      "metadata": {
        "id": "bNbHDb-Jr15k"
      },
      "source": [
        "LAB_imgA4_01= cv2.cvtColor(RGB_imgA4_01, cv2.COLOR_RGB2LAB)"
      ],
      "execution_count": 238,
      "outputs": []
    },
    {
      "cell_type": "code",
      "metadata": {
        "id": "1ftcCZIUr2Le"
      },
      "source": [
        "LAB_imgA4_02= cv2.cvtColor(RGB_imgA4_02, cv2.COLOR_RGB2LAB)"
      ],
      "execution_count": 239,
      "outputs": []
    },
    {
      "cell_type": "code",
      "metadata": {
        "id": "woxjbwstr2g6"
      },
      "source": [
        "LAB_imgA4_03= cv2.cvtColor(RGB_imgA4_03, cv2.COLOR_RGB2LAB)"
      ],
      "execution_count": 240,
      "outputs": []
    },
    {
      "cell_type": "code",
      "metadata": {
        "id": "qep6oqGLr2xv"
      },
      "source": [
        "LAB_imgA4_04= cv2.cvtColor(RGB_imgA4_04, cv2.COLOR_RGB2LAB)"
      ],
      "execution_count": 241,
      "outputs": []
    },
    {
      "cell_type": "markdown",
      "metadata": {
        "id": "rrX7vaLpsTz-"
      },
      "source": [
        "B1"
      ]
    },
    {
      "cell_type": "code",
      "metadata": {
        "id": "DNRoFy1wsVF_"
      },
      "source": [
        "LAB_imgB1_01= cv2.cvtColor(RGB_imgB1_01, cv2.COLOR_RGB2LAB)"
      ],
      "execution_count": 242,
      "outputs": []
    },
    {
      "cell_type": "code",
      "metadata": {
        "id": "zp3TpwKRsWvx"
      },
      "source": [
        "LAB_imgB1_02= cv2.cvtColor(RGB_imgB1_02, cv2.COLOR_RGB2LAB)"
      ],
      "execution_count": 243,
      "outputs": []
    },
    {
      "cell_type": "code",
      "metadata": {
        "id": "xrzFoPNVsXI9"
      },
      "source": [
        "LAB_imgB1_03= cv2.cvtColor(RGB_imgB1_03, cv2.COLOR_RGB2LAB)"
      ],
      "execution_count": 244,
      "outputs": []
    },
    {
      "cell_type": "code",
      "metadata": {
        "id": "_qS1zGa4sXZU"
      },
      "source": [
        "LAB_imgB1_04= cv2.cvtColor(RGB_imgB1_04, cv2.COLOR_RGB2LAB)"
      ],
      "execution_count": 245,
      "outputs": []
    },
    {
      "cell_type": "markdown",
      "metadata": {
        "id": "dzo4UhMAsX3I"
      },
      "source": [
        "B2"
      ]
    },
    {
      "cell_type": "code",
      "metadata": {
        "id": "a9bFqn5FsY44"
      },
      "source": [
        "LAB_imgB2_01= cv2.cvtColor(RGB_imgB2_01, cv2.COLOR_RGB2LAB)"
      ],
      "execution_count": 246,
      "outputs": []
    },
    {
      "cell_type": "code",
      "metadata": {
        "id": "xrHo9VfLsZXM"
      },
      "source": [
        "LAB_imgB2_03= cv2.cvtColor(RGB_imgB2_03, cv2.COLOR_RGB2LAB)"
      ],
      "execution_count": 247,
      "outputs": []
    },
    {
      "cell_type": "code",
      "metadata": {
        "id": "oPLazK61sZ1W"
      },
      "source": [
        "LAB_imgB2_04= cv2.cvtColor(RGB_imgB2_04, cv2.COLOR_RGB2LAB)"
      ],
      "execution_count": 248,
      "outputs": []
    },
    {
      "cell_type": "code",
      "metadata": {
        "id": "wAy1CJY8saG6"
      },
      "source": [
        "LAB_imgB2_02= cv2.cvtColor(RGB_imgB2_02, cv2.COLOR_RGB2LAB)"
      ],
      "execution_count": 249,
      "outputs": []
    },
    {
      "cell_type": "markdown",
      "metadata": {
        "id": "TnccqxHJtNzw"
      },
      "source": [
        "B3"
      ]
    },
    {
      "cell_type": "code",
      "metadata": {
        "id": "6UlUYvwltP4E"
      },
      "source": [
        "LAB_imgB3_01= cv2.cvtColor(RGB_imgB3_01, cv2.COLOR_RGB2LAB)"
      ],
      "execution_count": 250,
      "outputs": []
    },
    {
      "cell_type": "code",
      "metadata": {
        "id": "Eq5sKtuNtPw7"
      },
      "source": [
        "LAB_imgB3_04= cv2.cvtColor(RGB_imgB3_04, cv2.COLOR_RGB2LAB)"
      ],
      "execution_count": 251,
      "outputs": []
    },
    {
      "cell_type": "code",
      "metadata": {
        "id": "ut-9sRhptPol"
      },
      "source": [
        "LAB_imgB3_03= cv2.cvtColor(RGB_imgB3_03, cv2.COLOR_RGB2LAB)"
      ],
      "execution_count": 252,
      "outputs": []
    },
    {
      "cell_type": "code",
      "metadata": {
        "id": "jPF5GyyetPU_"
      },
      "source": [
        "LAB_imgB3_02= cv2.cvtColor(RGB_imgB3_02, cv2.COLOR_RGB2LAB)"
      ],
      "execution_count": 253,
      "outputs": []
    },
    {
      "cell_type": "markdown",
      "metadata": {
        "id": "xZINrtsKtOnt"
      },
      "source": [
        "B4"
      ]
    },
    {
      "cell_type": "code",
      "metadata": {
        "id": "SeSRHJjYtpGP"
      },
      "source": [
        "LAB_imgB4_02= cv2.cvtColor(RGB_imgB4_02, cv2.COLOR_RGB2LAB)"
      ],
      "execution_count": 254,
      "outputs": []
    },
    {
      "cell_type": "code",
      "metadata": {
        "id": "R4wpA7bLto3a"
      },
      "source": [
        "LAB_imgB4_03= cv2.cvtColor(RGB_imgB4_03, cv2.COLOR_RGB2LAB)"
      ],
      "execution_count": 255,
      "outputs": []
    },
    {
      "cell_type": "code",
      "metadata": {
        "id": "vD9WSa1VtovA"
      },
      "source": [
        "LAB_imgB4_01= cv2.cvtColor(RGB_imgB4_01, cv2.COLOR_RGB2LAB)"
      ],
      "execution_count": 256,
      "outputs": []
    },
    {
      "cell_type": "code",
      "metadata": {
        "id": "o40LIXDBtonM"
      },
      "source": [
        "LAB_imgB4_04= cv2.cvtColor(RGB_imgB4_04, cv2.COLOR_RGB2LAB)"
      ],
      "execution_count": 257,
      "outputs": []
    },
    {
      "cell_type": "markdown",
      "metadata": {
        "id": "yLHsd5D4t50J"
      },
      "source": [
        "C1"
      ]
    },
    {
      "cell_type": "code",
      "metadata": {
        "id": "2p-LPjykt_yW"
      },
      "source": [
        "LAB_imgC1_03= cv2.cvtColor(RGB_imgC1_03, cv2.COLOR_RGB2LAB)"
      ],
      "execution_count": 258,
      "outputs": []
    },
    {
      "cell_type": "code",
      "metadata": {
        "id": "rdHlj07At_pP"
      },
      "source": [
        "LAB_imgC1_02= cv2.cvtColor(RGB_imgC1_02, cv2.COLOR_RGB2LAB)"
      ],
      "execution_count": 259,
      "outputs": []
    },
    {
      "cell_type": "code",
      "metadata": {
        "id": "fAaBZ-xHt_iB"
      },
      "source": [
        "LAB_imgC1_04= cv2.cvtColor(RGB_imgC1_04, cv2.COLOR_RGB2LAB)"
      ],
      "execution_count": 260,
      "outputs": []
    },
    {
      "cell_type": "code",
      "metadata": {
        "id": "_HTZkwblt_Z0"
      },
      "source": [
        "LAB_imgC1_01= cv2.cvtColor(RGB_imgC1_01, cv2.COLOR_RGB2LAB)"
      ],
      "execution_count": 261,
      "outputs": []
    },
    {
      "cell_type": "markdown",
      "metadata": {
        "id": "JeHYgzj7t7UT"
      },
      "source": [
        "C2"
      ]
    },
    {
      "cell_type": "code",
      "metadata": {
        "id": "EAqFpnsvuTNJ"
      },
      "source": [
        "LAB_imgC2_02= cv2.cvtColor(RGB_imgC2_02, cv2.COLOR_RGB2LAB)"
      ],
      "execution_count": 262,
      "outputs": []
    },
    {
      "cell_type": "code",
      "metadata": {
        "id": "wwTtWI5xuTGB"
      },
      "source": [
        "LAB_imgC2_01= cv2.cvtColor(RGB_imgC2_01, cv2.COLOR_RGB2LAB)"
      ],
      "execution_count": 263,
      "outputs": []
    },
    {
      "cell_type": "code",
      "metadata": {
        "id": "gmglr0e-uS-7"
      },
      "source": [
        "LAB_imgC2_04= cv2.cvtColor(RGB_imgC2_04, cv2.COLOR_RGB2LAB)"
      ],
      "execution_count": 264,
      "outputs": []
    },
    {
      "cell_type": "code",
      "metadata": {
        "id": "XmcUNeqVuS4f"
      },
      "source": [
        "LAB_imgC2_03= cv2.cvtColor(RGB_imgC2_03, cv2.COLOR_RGB2LAB)"
      ],
      "execution_count": 265,
      "outputs": []
    },
    {
      "cell_type": "markdown",
      "metadata": {
        "id": "TWvT9dUft7_0"
      },
      "source": [
        "C3"
      ]
    },
    {
      "cell_type": "code",
      "metadata": {
        "id": "xzI3OKXMuioR"
      },
      "source": [
        "LAB_imgC3_01= cv2.cvtColor(RGB_imgC3_01, cv2.COLOR_RGB2LAB)"
      ],
      "execution_count": 266,
      "outputs": []
    },
    {
      "cell_type": "code",
      "metadata": {
        "id": "G_qoc3spuigB"
      },
      "source": [
        "LAB_imgC3_03= cv2.cvtColor(RGB_imgC3_03, cv2.COLOR_RGB2LAB)"
      ],
      "execution_count": 267,
      "outputs": []
    },
    {
      "cell_type": "code",
      "metadata": {
        "id": "BuyacIypuiZg"
      },
      "source": [
        "LAB_imgC3_04= cv2.cvtColor(RGB_imgC3_04, cv2.COLOR_RGB2LAB)"
      ],
      "execution_count": 268,
      "outputs": []
    },
    {
      "cell_type": "code",
      "metadata": {
        "id": "--fV2onBuiRu"
      },
      "source": [
        "LAB_imgC3_02= cv2.cvtColor(RGB_imgC3_02, cv2.COLOR_RGB2LAB)"
      ],
      "execution_count": 269,
      "outputs": []
    },
    {
      "cell_type": "markdown",
      "metadata": {
        "id": "rfRgDMm7t8qf"
      },
      "source": [
        "C4"
      ]
    },
    {
      "cell_type": "code",
      "metadata": {
        "id": "t15dvQqsuuZo"
      },
      "source": [
        "LAB_imgC4_02= cv2.cvtColor(RGB_imgC4_02, cv2.COLOR_RGB2LAB)"
      ],
      "execution_count": 270,
      "outputs": []
    },
    {
      "cell_type": "code",
      "metadata": {
        "id": "YkkHIM4-uuvj"
      },
      "source": [
        "LAB_imgC4_04= cv2.cvtColor(RGB_imgC4_04, cv2.COLOR_RGB2LAB)"
      ],
      "execution_count": 271,
      "outputs": []
    },
    {
      "cell_type": "code",
      "metadata": {
        "id": "3AyL5cwwuuod"
      },
      "source": [
        "LAB_imgC4_03= cv2.cvtColor(RGB_imgC4_03, cv2.COLOR_RGB2LAB)"
      ],
      "execution_count": 272,
      "outputs": []
    },
    {
      "cell_type": "code",
      "metadata": {
        "id": "RGQ8Mi_3uuhp"
      },
      "source": [
        "LAB_imgC4_01= cv2.cvtColor(RGB_imgC4_01, cv2.COLOR_RGB2LAB)"
      ],
      "execution_count": 273,
      "outputs": []
    },
    {
      "cell_type": "markdown",
      "metadata": {
        "id": "DID5W6jot9pI"
      },
      "source": [
        "D2"
      ]
    },
    {
      "cell_type": "code",
      "metadata": {
        "id": "nlOKN8S1uv5p"
      },
      "source": [
        "LAB_imgD2_04= cv2.cvtColor(RGB_imgD2_04, cv2.COLOR_RGB2LAB)"
      ],
      "execution_count": 274,
      "outputs": []
    },
    {
      "cell_type": "code",
      "metadata": {
        "id": "xapLpqazuvbP"
      },
      "source": [
        "LAB_imgD2_01= cv2.cvtColor(RGB_imgD2_01, cv2.COLOR_RGB2LAB)"
      ],
      "execution_count": 275,
      "outputs": []
    },
    {
      "cell_type": "code",
      "metadata": {
        "id": "jRXzn-LouvVV"
      },
      "source": [
        "LAB_imgD2_02= cv2.cvtColor(RGB_imgD2_02, cv2.COLOR_RGB2LAB)"
      ],
      "execution_count": 276,
      "outputs": []
    },
    {
      "cell_type": "code",
      "metadata": {
        "id": "TPB_PHRbuvOn"
      },
      "source": [
        "LAB_imgD2_03= cv2.cvtColor(RGB_imgD2_03, cv2.COLOR_RGB2LAB)"
      ],
      "execution_count": 277,
      "outputs": []
    },
    {
      "cell_type": "markdown",
      "metadata": {
        "id": "RdzTIOPUt-U9"
      },
      "source": [
        "D3"
      ]
    },
    {
      "cell_type": "code",
      "metadata": {
        "id": "vdzrjvXjuxGq"
      },
      "source": [
        "LAB_imgD3_02= cv2.cvtColor(RGB_imgD3_02, cv2.COLOR_RGB2LAB)"
      ],
      "execution_count": 278,
      "outputs": []
    },
    {
      "cell_type": "code",
      "metadata": {
        "id": "SHeWKMvduw_L"
      },
      "source": [
        "LAB_imgD3_01= cv2.cvtColor(RGB_imgD3_01, cv2.COLOR_RGB2LAB)"
      ],
      "execution_count": 279,
      "outputs": []
    },
    {
      "cell_type": "code",
      "metadata": {
        "id": "jWpHp4wFuw40"
      },
      "source": [
        "LAB_imgD3_03= cv2.cvtColor(RGB_imgD3_03, cv2.COLOR_RGB2LAB)"
      ],
      "execution_count": 280,
      "outputs": []
    },
    {
      "cell_type": "code",
      "metadata": {
        "id": "r7HUVynyuwui"
      },
      "source": [
        "LAB_imgD3_04= cv2.cvtColor(RGB_imgD3_04, cv2.COLOR_RGB2LAB)"
      ],
      "execution_count": 281,
      "outputs": []
    },
    {
      "cell_type": "markdown",
      "metadata": {
        "id": "JcqL8Do5nwjA"
      },
      "source": [
        "D4"
      ]
    },
    {
      "cell_type": "code",
      "metadata": {
        "id": "Ci4XGpanvFmg"
      },
      "source": [
        "LAB_imgD4_01= cv2.cvtColor(RGB_imgD4_01, cv2.COLOR_RGB2LAB)"
      ],
      "execution_count": 282,
      "outputs": []
    },
    {
      "cell_type": "code",
      "metadata": {
        "id": "RPgqKuRSvFcZ"
      },
      "source": [
        "LAB_imgD4_02= cv2.cvtColor(RGB_imgD4_02, cv2.COLOR_RGB2LAB)"
      ],
      "execution_count": 283,
      "outputs": []
    },
    {
      "cell_type": "code",
      "metadata": {
        "id": "6kwiGpRAjboY"
      },
      "source": [
        "LAB_imgD4_03= cv2.cvtColor(RGB_imgD4_03, cv2.COLOR_RGB2LAB)"
      ],
      "execution_count": 284,
      "outputs": []
    },
    {
      "cell_type": "code",
      "metadata": {
        "id": "3J_3qb0bjbTX"
      },
      "source": [
        "LAB_imgD4_04= cv2.cvtColor(RGB_imgD4_04, cv2.COLOR_RGB2LAB)"
      ],
      "execution_count": 285,
      "outputs": []
    },
    {
      "cell_type": "markdown",
      "metadata": {
        "id": "JMrxyeYnwOjD"
      },
      "source": [
        "#5. ดึงสี"
      ]
    },
    {
      "cell_type": "markdown",
      "metadata": {
        "id": "qw2Btv3twaER"
      },
      "source": [
        "A1"
      ]
    },
    {
      "cell_type": "code",
      "metadata": {
        "id": "jwmj6XavwSCz"
      },
      "source": [
        "for i in range(LAB_imgA1_01.shape[0]): #ให้ i รันตาม row หรือ shape[0] คือแถว มีทั้งหมด 4032 แถว ของภาพที่ปรับขนาดมาแล้ว\n",
        "     for j in range(LAB_imgA1_01.shape[1]): #ให้ j รันตาม colum มีทั้งหมด 3024 colum เช่น แถวที่ 1 เข้ามาให้รันครบ 3024colum\n",
        "                if 1769<i<1881 and 2019<j<2131 :#ถ้าค่า i ที่เข้ามาอยู่ระหว่าง 1849 - 2101   ค่า j  ที่เข้ามาอยู่ระหว่าง 1799-2001\n",
        "                   (LAB_imgA1_01[i][j])#ถ้าค่าอยู่ใน ij  จะให้แสดงค่าที่อยู่ตำแหน่งนั้นๆ"
      ],
      "execution_count": 286,
      "outputs": []
    },
    {
      "cell_type": "code",
      "metadata": {
        "id": "xZ-Lxu9-xb0e"
      },
      "source": [
        "for i in range(LAB_imgA1_02.shape[0]): \n",
        "     for j in range(LAB_imgA1_02.shape[1]): \n",
        "                if 1769<i<1881 and 2019<j<2131 :\n",
        "                 (LAB_imgA1_02[i][j])"
      ],
      "execution_count": 287,
      "outputs": []
    },
    {
      "cell_type": "code",
      "metadata": {
        "id": "10vZXOYGx8Zn"
      },
      "source": [
        "for i in range(LAB_imgA1_03.shape[0]):\n",
        "     for j in range(LAB_imgA1_03.shape[1]): \n",
        "                if 1769<i<1881 and 2019<j<2131 :\n",
        "                  (LAB_imgA1_03[i][j])"
      ],
      "execution_count": 288,
      "outputs": []
    },
    {
      "cell_type": "code",
      "metadata": {
        "id": "aiBTb_2_x82I"
      },
      "source": [
        "for i in range(LAB_imgA1_04.shape[0]):\n",
        "     for j in range(LAB_imgA1_04.shape[1]): \n",
        "                if 1769<i<1881 and 2019<j<2131 :\n",
        "                  (LAB_imgA1_04[i][j])"
      ],
      "execution_count": 289,
      "outputs": []
    },
    {
      "cell_type": "markdown",
      "metadata": {
        "id": "jTiRr9XUy_gP"
      },
      "source": [
        "A2"
      ]
    },
    {
      "cell_type": "code",
      "metadata": {
        "id": "eobeeRWAzHNs"
      },
      "source": [
        "for i in range(LAB_imgA2_02.shape[0]): \n",
        "     for j in range(LAB_imgA2_02.shape[1]): \n",
        "                if 1769<i<1881 and 2019<j<2131 :\n",
        "                 (LAB_imgA2_02[i][j])"
      ],
      "execution_count": 290,
      "outputs": []
    },
    {
      "cell_type": "code",
      "metadata": {
        "id": "DyGuQiP2zGpX"
      },
      "source": [
        "for i in range(LAB_imgA2_04.shape[0]): \n",
        "     for j in range(LAB_imgA2_04.shape[1]): \n",
        "                if 1769<i<1881 and 2019<j<2131 :\n",
        "                 (LAB_imgA2_04[i][j])"
      ],
      "execution_count": 291,
      "outputs": []
    },
    {
      "cell_type": "code",
      "metadata": {
        "id": "UMKaPJY5zHFN"
      },
      "source": [
        "for i in range(LAB_imgA2_01.shape[0]): \n",
        "     for j in range(LAB_imgA2_01.shape[1]): \n",
        "                if 1769<i<1881 and 2019<j<2131 :\n",
        "                 (LAB_imgA2_01[i][j])"
      ],
      "execution_count": 292,
      "outputs": []
    },
    {
      "cell_type": "code",
      "metadata": {
        "id": "qqFJ5RUmzG7f"
      },
      "source": [
        "for i in range(LAB_imgA2_03.shape[0]): \n",
        "     for j in range(LAB_imgA2_03.shape[1]): \n",
        "                if 1769<i<1881 and 2019<j<2131 :\n",
        "                 (LAB_imgA2_03[i][j])"
      ],
      "execution_count": 293,
      "outputs": []
    },
    {
      "cell_type": "markdown",
      "metadata": {
        "id": "seWEFP5KzdNo"
      },
      "source": [
        "A3"
      ]
    },
    {
      "cell_type": "code",
      "metadata": {
        "id": "HdhQwqRWz3A-"
      },
      "source": [
        "for i in range(LAB_imgA3_03.shape[0]): \n",
        "     for j in range(LAB_imgA3_03.shape[1]): \n",
        "                if 1769<i<1881 and 2019<j<2131 :\n",
        "                 (LAB_imgA3_03[i][j])"
      ],
      "execution_count": 294,
      "outputs": []
    },
    {
      "cell_type": "code",
      "metadata": {
        "id": "SajdmMwqz24D"
      },
      "source": [
        "for i in range(LAB_imgA3_01.shape[0]): \n",
        "     for j in range(LAB_imgA3_01.shape[1]): \n",
        "                if 1769<i<1881 and 2019<j<2131 :\n",
        "                 (LAB_imgA3_01[i][j])"
      ],
      "execution_count": 295,
      "outputs": []
    },
    {
      "cell_type": "code",
      "metadata": {
        "id": "schK9I44z2up"
      },
      "source": [
        "for i in range(LAB_imgA3_02.shape[0]): \n",
        "     for j in range(LAB_imgA3_02.shape[1]): \n",
        "                if 1769<i<1881 and 2019<j<2131 :\n",
        "                 (LAB_imgA3_02[i][j])"
      ],
      "execution_count": 296,
      "outputs": []
    },
    {
      "cell_type": "code",
      "metadata": {
        "id": "dElzA6B1z2hh"
      },
      "source": [
        "for i in range(LAB_imgA3_04.shape[0]): \n",
        "     for j in range(LAB_imgA3_04.shape[1]): \n",
        "                if 1769<i<1881 and 2019<j<2131 :\n",
        "                 (LAB_imgA3_04[i][j])"
      ],
      "execution_count": 297,
      "outputs": []
    },
    {
      "cell_type": "markdown",
      "metadata": {
        "id": "e-8jafvYzeZh"
      },
      "source": [
        "A3.5"
      ]
    },
    {
      "cell_type": "code",
      "metadata": {
        "id": "St9f7kLX0Qe6"
      },
      "source": [
        "for i in range(LAB_imgA3_501.shape[0]): \n",
        "     for j in range(LAB_imgA3_501.shape[1]): \n",
        "                if 1769<i<1881 and 2019<j<2131 :\n",
        "                 (LAB_imgA3_501[i][j])"
      ],
      "execution_count": 298,
      "outputs": []
    },
    {
      "cell_type": "code",
      "metadata": {
        "id": "SGlKRpF_0Qox"
      },
      "source": [
        "for i in range(LAB_imgA3_502.shape[0]): \n",
        "     for j in range(LAB_imgA3_502.shape[1]): \n",
        "                if 1769<i<1881 and 2019<j<2131 :\n",
        "                 (LAB_imgA3_502[i][j])"
      ],
      "execution_count": 299,
      "outputs": []
    },
    {
      "cell_type": "code",
      "metadata": {
        "id": "2pp1QyLV0QX9"
      },
      "source": [
        "for i in range(LAB_imgA3_503.shape[0]): \n",
        "     for j in range(LAB_imgA3_503.shape[1]): \n",
        "                if 1769<i<1881 and 2019<j<2131 :\n",
        "                 (LAB_imgA3_503[i][j])"
      ],
      "execution_count": 300,
      "outputs": []
    },
    {
      "cell_type": "code",
      "metadata": {
        "id": "HaZuvCEk0QPf"
      },
      "source": [
        "for i in range(LAB_imgA3_504.shape[0]): \n",
        "     for j in range(LAB_imgA3_504.shape[1]): \n",
        "                if 1769<i<1881 and 2019<j<2131 :\n",
        "                 (LAB_imgA3_504[i][j])"
      ],
      "execution_count": 301,
      "outputs": []
    },
    {
      "cell_type": "markdown",
      "metadata": {
        "id": "T8YIrB50zfz-"
      },
      "source": [
        "A4 "
      ]
    },
    {
      "cell_type": "code",
      "metadata": {
        "id": "JtCLy0qR0nAX"
      },
      "source": [
        "for i in range(LAB_imgA4_01.shape[0]): \n",
        "     for j in range(LAB_imgA4_01.shape[1]): \n",
        "                if 1769<i<1881 and 2019<j<2131 :\n",
        "                 (LAB_imgA4_01[i][j])"
      ],
      "execution_count": 302,
      "outputs": []
    },
    {
      "cell_type": "code",
      "metadata": {
        "id": "Hf0JhjSr0m4a"
      },
      "source": [
        "for i in range(LAB_imgA4_04.shape[0]): \n",
        "     for j in range(LAB_imgA4_04.shape[1]): \n",
        "                if 1769<i<1881 and 2019<j<2131 :\n",
        "                 (LAB_imgA4_04[i][j])"
      ],
      "execution_count": 303,
      "outputs": []
    },
    {
      "cell_type": "code",
      "metadata": {
        "id": "lU7qgO730mwt"
      },
      "source": [
        "for i in range(LAB_imgA4_03.shape[0]): \n",
        "     for j in range(LAB_imgA4_03.shape[1]): \n",
        "                if 1769<i<1881 and 2019<j<2131 :\n",
        "                 (LAB_imgA4_03[i][j])"
      ],
      "execution_count": 304,
      "outputs": []
    },
    {
      "cell_type": "code",
      "metadata": {
        "id": "3woTPWZR0moq"
      },
      "source": [
        "for i in range(LAB_imgA4_02.shape[0]): \n",
        "     for j in range(LAB_imgA4_02.shape[1]): \n",
        "                if 1769<i<1881 and 2019<j<2131 :\n",
        "                 (LAB_imgA4_02[i][j])"
      ],
      "execution_count": 305,
      "outputs": []
    },
    {
      "cell_type": "markdown",
      "metadata": {
        "id": "j2qM32H51EnG"
      },
      "source": [
        "B1"
      ]
    },
    {
      "cell_type": "code",
      "metadata": {
        "id": "SWNQW9gi1LCn"
      },
      "source": [
        "for i in range(LAB_imgB1_02.shape[0]): \n",
        "     for j in range(LAB_imgB1_02.shape[1]): \n",
        "                if 1769<i<1881 and 2019<j<2131 :\n",
        "                 (LAB_imgB1_02[i][j])"
      ],
      "execution_count": 306,
      "outputs": []
    },
    {
      "cell_type": "code",
      "metadata": {
        "id": "gCMzRnvw1K4U"
      },
      "source": [
        "for i in range(LAB_imgB1_03.shape[0]): \n",
        "     for j in range(LAB_imgB1_03.shape[1]): \n",
        "                if 1769<i<1881 and 2019<j<2131 :\n",
        "                 (LAB_imgB1_03[i][j])"
      ],
      "execution_count": 307,
      "outputs": []
    },
    {
      "cell_type": "code",
      "metadata": {
        "id": "nnGR1Du_1Kt8"
      },
      "source": [
        "for i in range(LAB_imgB1_01.shape[0]): \n",
        "     for j in range(LAB_imgB1_01.shape[1]): \n",
        "                if 1769<i<1881 and 2019<j<2131 :\n",
        "                 (LAB_imgB1_01[i][j])"
      ],
      "execution_count": 308,
      "outputs": []
    },
    {
      "cell_type": "code",
      "metadata": {
        "id": "XqglTNwE1Keg"
      },
      "source": [
        "for i in range(LAB_imgB1_04.shape[0]): \n",
        "     for j in range(LAB_imgB1_04.shape[1]): \n",
        "                if 1769<i<1881 and 2019<j<2131 :\n",
        "                 (LAB_imgB1_04[i][j])"
      ],
      "execution_count": 309,
      "outputs": []
    },
    {
      "cell_type": "markdown",
      "metadata": {
        "id": "gal2BJDK1HYu"
      },
      "source": [
        "B2"
      ]
    },
    {
      "cell_type": "code",
      "metadata": {
        "id": "asjFneZV1Lzb"
      },
      "source": [
        "for i in range(LAB_imgB2_01.shape[0]): \n",
        "     for j in range(LAB_imgB2_01.shape[1]): \n",
        "                if 1769<i<1881 and 2019<j<2131 :\n",
        "                 (LAB_imgB2_01[i][j])"
      ],
      "execution_count": 310,
      "outputs": []
    },
    {
      "cell_type": "code",
      "metadata": {
        "id": "U3RYMyse1LqV"
      },
      "source": [
        "for i in range(LAB_imgB2_03.shape[0]): \n",
        "     for j in range(LAB_imgB2_03.shape[1]): \n",
        "                if 1769<i<1881 and 2019<j<2131 :\n",
        "                 (LAB_imgB2_03[i][j])"
      ],
      "execution_count": 311,
      "outputs": []
    },
    {
      "cell_type": "code",
      "metadata": {
        "id": "T_9aHkY21Lh9"
      },
      "source": [
        "for i in range(LAB_imgB2_04.shape[0]): \n",
        "     for j in range(LAB_imgB2_04.shape[1]): \n",
        "                if 1769<i<1881 and 2019<j<2131 :\n",
        "                 (LAB_imgB2_04[i][j])"
      ],
      "execution_count": 312,
      "outputs": []
    },
    {
      "cell_type": "code",
      "metadata": {
        "id": "x6JkQZK81LZ2"
      },
      "source": [
        "for i in range(LAB_imgB2_02.shape[0]): \n",
        "     for j in range(LAB_imgB2_02.shape[1]): \n",
        "                if 1769<i<1881 and 2019<j<2131 :\n",
        "                 (LAB_imgB2_02[i][j])"
      ],
      "execution_count": 313,
      "outputs": []
    },
    {
      "cell_type": "markdown",
      "metadata": {
        "id": "63v00LGi1Icj"
      },
      "source": [
        "B3 "
      ]
    },
    {
      "cell_type": "code",
      "metadata": {
        "id": "WYz7s47-1MzR"
      },
      "source": [
        "for i in range(LAB_imgB3_01.shape[0]): \n",
        "     for j in range(LAB_imgB3_01.shape[1]): \n",
        "                if 1769<i<1881 and 2019<j<2131 :\n",
        "                 (LAB_imgB3_01[i][j])"
      ],
      "execution_count": 314,
      "outputs": []
    },
    {
      "cell_type": "code",
      "metadata": {
        "id": "8As_bcue1MrP"
      },
      "source": [
        "for i in range(LAB_imgB3_04.shape[0]): \n",
        "     for j in range(LAB_imgB3_04.shape[1]): \n",
        "                if 1769<i<1881 and 2019<j<2131 :\n",
        "                 (LAB_imgB3_04[i][j])"
      ],
      "execution_count": 315,
      "outputs": []
    },
    {
      "cell_type": "code",
      "metadata": {
        "id": "QDH4UADC1MjD"
      },
      "source": [
        "for i in range(LAB_imgB3_03.shape[0]): \n",
        "     for j in range(LAB_imgB3_03.shape[1]): \n",
        "                if 1769<i<1881 and 2019<j<2131 :\n",
        "                 (LAB_imgB3_03[i][j])"
      ],
      "execution_count": 316,
      "outputs": []
    },
    {
      "cell_type": "code",
      "metadata": {
        "id": "BTDsHyYP1Mbg"
      },
      "source": [
        "for i in range(LAB_imgB3_04.shape[0]): \n",
        "     for j in range(LAB_imgB3_04.shape[1]): \n",
        "                if 1769<i<1881 and 2019<j<2131 :\n",
        "                 (LAB_imgB3_04[i][j])"
      ],
      "execution_count": 317,
      "outputs": []
    },
    {
      "cell_type": "markdown",
      "metadata": {
        "id": "2HAcrkm-1Jbf"
      },
      "source": [
        "B4"
      ]
    },
    {
      "cell_type": "code",
      "metadata": {
        "id": "wVTePsRn1NkQ"
      },
      "source": [
        "for i in range(LAB_imgB4_02.shape[0]): \n",
        "     for j in range(LAB_imgB4_02.shape[1]): \n",
        "                if 1769<i<1881 and 2019<j<2131 :\n",
        "                 (LAB_imgB4_02[i][j])"
      ],
      "execution_count": 318,
      "outputs": []
    },
    {
      "cell_type": "code",
      "metadata": {
        "id": "U9Lh5EoT1NdU"
      },
      "source": [
        "for i in range(LAB_imgB4_01.shape[0]): \n",
        "     for j in range(LAB_imgB4_01.shape[1]): \n",
        "                if 1769<i<1881 and 2019<j<2131 :\n",
        "                 (LAB_imgB4_01[i][j])"
      ],
      "execution_count": 319,
      "outputs": []
    },
    {
      "cell_type": "code",
      "metadata": {
        "id": "G8LjGsjn1NWu"
      },
      "source": [
        "for i in range(LAB_imgB4_03.shape[0]): \n",
        "     for j in range(LAB_imgB4_03.shape[1]): \n",
        "                if 1769<i<1881 and 2019<j<2131 :\n",
        "                 (LAB_imgB4_03[i][j])"
      ],
      "execution_count": 320,
      "outputs": []
    },
    {
      "cell_type": "code",
      "metadata": {
        "id": "3QQyxQQ21NQ8"
      },
      "source": [
        "for i in range(LAB_imgB4_04.shape[0]): \n",
        "     for j in range(LAB_imgB4_04.shape[1]): \n",
        "                if 1769<i<1881 and 2019<j<2131 :\n",
        "                 (LAB_imgB4_04[i][j])"
      ],
      "execution_count": 321,
      "outputs": []
    },
    {
      "cell_type": "markdown",
      "metadata": {
        "id": "LJ5o5oOk5bLC"
      },
      "source": [
        "C1"
      ]
    },
    {
      "cell_type": "code",
      "metadata": {
        "id": "w0ZlIxNQ1c2V"
      },
      "source": [
        "for i in range(LAB_imgC1_03.shape[0]): \n",
        "     for j in range(LAB_imgC1_03.shape[1]): \n",
        "                if 1769<i<1881 and 2019<j<2131 :\n",
        "                 (LAB_imgC1_03[i][j])"
      ],
      "execution_count": 322,
      "outputs": []
    },
    {
      "cell_type": "code",
      "metadata": {
        "id": "UlDQiGQ75i8O"
      },
      "source": [
        "for i in range(LAB_imgC1_01.shape[0]): \n",
        "     for j in range(LAB_imgC1_01.shape[1]): \n",
        "                if 1769<i<1881 and 2019<j<2131 :\n",
        "                 (LAB_imgC1_01[i][j])"
      ],
      "execution_count": 323,
      "outputs": []
    },
    {
      "cell_type": "code",
      "metadata": {
        "id": "gQp5kAYW5oam"
      },
      "source": [
        "for i in range(LAB_imgC1_02.shape[0]): \n",
        "     for j in range(LAB_imgC1_02.shape[1]): \n",
        "                if 1769<i<1881 and 2019<j<2131 :\n",
        "                 (LAB_imgC1_02[i][j])"
      ],
      "execution_count": 324,
      "outputs": []
    },
    {
      "cell_type": "code",
      "metadata": {
        "id": "_fwoBI-O5os6"
      },
      "source": [
        "for i in range(LAB_imgC1_04.shape[0]): \n",
        "     for j in range(LAB_imgC1_04.shape[1]): \n",
        "                if 1769<i<1881 and 2019<j<2131 :\n",
        "                 (LAB_imgC1_04[i][j])"
      ],
      "execution_count": 325,
      "outputs": []
    },
    {
      "cell_type": "markdown",
      "metadata": {
        "id": "veUPceOE5ydW"
      },
      "source": [
        "C2"
      ]
    },
    {
      "cell_type": "code",
      "metadata": {
        "id": "xVd7fTj057Im"
      },
      "source": [
        "for i in range(LAB_imgC2_01.shape[0]): \n",
        "     for j in range(LAB_imgC2_01.shape[1]): \n",
        "                if 1769<i<1881 and 2019<j<2131 :\n",
        "                 (LAB_imgC2_01[i][j])"
      ],
      "execution_count": 326,
      "outputs": []
    },
    {
      "cell_type": "code",
      "metadata": {
        "id": "UITY-FEy578o"
      },
      "source": [
        "for i in range(LAB_imgC2_02.shape[0]): \n",
        "     for j in range(LAB_imgC2_02.shape[1]): \n",
        "                if 1769<i<1881 and 2019<j<2131 :\n",
        "                 (LAB_imgC2_02[i][j])"
      ],
      "execution_count": 327,
      "outputs": []
    },
    {
      "cell_type": "code",
      "metadata": {
        "id": "TumpzuTn58YK"
      },
      "source": [
        "for i in range(LAB_imgC2_03.shape[0]): \n",
        "     for j in range(LAB_imgC2_03.shape[1]): \n",
        "                if 1769<i<1881 and 2019<j<2131 :\n",
        "                 (LAB_imgC2_03[i][j])"
      ],
      "execution_count": 328,
      "outputs": []
    },
    {
      "cell_type": "code",
      "metadata": {
        "id": "7K6gK9PP58Lf"
      },
      "source": [
        "for i in range(LAB_imgC2_04.shape[0]): \n",
        "     for j in range(LAB_imgC2_04.shape[1]): \n",
        "                if 1769<i<1881 and 2019<j<2131 :\n",
        "                 (LAB_imgC2_04[i][j])"
      ],
      "execution_count": 329,
      "outputs": []
    },
    {
      "cell_type": "markdown",
      "metadata": {
        "id": "mwJT5T3x50I-"
      },
      "source": [
        "C3"
      ]
    },
    {
      "cell_type": "code",
      "metadata": {
        "id": "TiQI_20558sA"
      },
      "source": [
        "for i in range(LAB_imgC3_01.shape[0]): \n",
        "     for j in range(LAB_imgC3_01.shape[1]): \n",
        "                if 1769<i<1881 and 2019<j<2131 :\n",
        "                 (LAB_imgC3_01[i][j])"
      ],
      "execution_count": 330,
      "outputs": []
    },
    {
      "cell_type": "code",
      "metadata": {
        "id": "JQbGl3uN57aN"
      },
      "source": [
        "for i in range(LAB_imgC3_02.shape[0]): \n",
        "     for j in range(LAB_imgC3_02.shape[1]): \n",
        "                if 1769<i<1881 and 2019<j<2131 :\n",
        "                 (LAB_imgC3_02[i][j])"
      ],
      "execution_count": 331,
      "outputs": []
    },
    {
      "cell_type": "code",
      "metadata": {
        "id": "F3E6a25Q57pr"
      },
      "source": [
        "for i in range(LAB_imgC3_03.shape[0]): \n",
        "     for j in range(LAB_imgC3_03.shape[1]): \n",
        "                if 1769<i<1881 and 2019<j<2131 :\n",
        "                 (LAB_imgC3_03[i][j])"
      ],
      "execution_count": 332,
      "outputs": []
    },
    {
      "cell_type": "code",
      "metadata": {
        "id": "x8P68K6z59Fc"
      },
      "source": [
        "for i in range(LAB_imgC3_04.shape[0]): \n",
        "     for j in range(LAB_imgC3_04.shape[1]): \n",
        "                if 1769<i<1881 and 2019<j<2131 :\n",
        "                 (LAB_imgC3_04[i][j])"
      ],
      "execution_count": 333,
      "outputs": []
    },
    {
      "cell_type": "markdown",
      "metadata": {
        "id": "T4X8qins59oM"
      },
      "source": [
        "C4"
      ]
    },
    {
      "cell_type": "code",
      "metadata": {
        "id": "mnz4vETI7TII"
      },
      "source": [
        "for i in range(LAB_imgC4_02.shape[0]): \n",
        "     for j in range(LAB_imgC4_02.shape[1]): \n",
        "                if 1769<i<1881 and 2019<j<2131 :\n",
        "                 (LAB_imgC4_02[i][j])"
      ],
      "execution_count": 334,
      "outputs": []
    },
    {
      "cell_type": "code",
      "metadata": {
        "id": "HiU5Y2Yn7TAO"
      },
      "source": [
        "for i in range(LAB_imgC4_03.shape[0]): \n",
        "     for j in range(LAB_imgC4_03.shape[1]): \n",
        "                if 1769<i<1881 and 2019<j<2131 :\n",
        "                 (LAB_imgC4_03[i][j])"
      ],
      "execution_count": 335,
      "outputs": []
    },
    {
      "cell_type": "code",
      "metadata": {
        "id": "rIdOpYAe7S5F"
      },
      "source": [
        "for i in range(LAB_imgC4_01.shape[0]): \n",
        "     for j in range(LAB_imgC4_01.shape[1]): \n",
        "                if 1769<i<1881 and 2019<j<2131 :\n",
        "                 (LAB_imgC4_01[i][j])"
      ],
      "execution_count": 336,
      "outputs": []
    },
    {
      "cell_type": "code",
      "metadata": {
        "id": "v3qJ3zAv7St9"
      },
      "source": [
        "for i in range(LAB_imgC3_04.shape[0]): \n",
        "     for j in range(LAB_imgC3_04.shape[1]): \n",
        "                if 1769<i<1881 and 2019<j<2131 :\n",
        "                 (LAB_imgC3_04[i][j])"
      ],
      "execution_count": 337,
      "outputs": []
    },
    {
      "cell_type": "markdown",
      "metadata": {
        "id": "kRvkJBSH6m8n"
      },
      "source": [
        "D2"
      ]
    },
    {
      "cell_type": "code",
      "metadata": {
        "id": "6ykI1MV0FheQ"
      },
      "source": [
        "for i in range(LAB_imgD2_04.shape[0]): \n",
        "     for j in range(LAB_imgD2_04.shape[1]): \n",
        "                if 1769<i<1881 and 2019<j<2131 :\n",
        "                 (LAB_imgD2_04[i][j])"
      ],
      "execution_count": 338,
      "outputs": []
    },
    {
      "cell_type": "code",
      "metadata": {
        "id": "bSanI_gyFhUS"
      },
      "source": [
        "for i in range(LAB_imgD2_03.shape[0]): \n",
        "     for j in range(LAB_imgD2_03.shape[1]): \n",
        "                if 1769<i<1881 and 2019<j<2131 :\n",
        "                 (LAB_imgD2_03[i][j])"
      ],
      "execution_count": 339,
      "outputs": []
    },
    {
      "cell_type": "code",
      "metadata": {
        "id": "8CQ9PBCjFhOA"
      },
      "source": [
        "for i in range(LAB_imgD2_02.shape[0]): \n",
        "     for j in range(LAB_imgD2_02.shape[1]): \n",
        "                if 1769<i<1881 and 2019<j<2131 :\n",
        "                 (LAB_imgD2_02[i][j])"
      ],
      "execution_count": 340,
      "outputs": []
    },
    {
      "cell_type": "code",
      "metadata": {
        "id": "Dx_PeSbRFhF7"
      },
      "source": [
        "for i in range(LAB_imgD2_01.shape[0]): \n",
        "     for j in range(LAB_imgD2_01.shape[1]): \n",
        "                if 1769<i<1881 and 2019<j<2131 :\n",
        "                 (LAB_imgD2_01[i][j])"
      ],
      "execution_count": 341,
      "outputs": []
    },
    {
      "cell_type": "markdown",
      "metadata": {
        "id": "3dcK05Xv6ptS"
      },
      "source": [
        "D3"
      ]
    },
    {
      "cell_type": "code",
      "metadata": {
        "id": "Lnhgfd7jGKsI"
      },
      "source": [
        "for i in range(LAB_imgD3_02.shape[0]): \n",
        "     for j in range(LAB_imgD3_02.shape[1]): \n",
        "                if 1769<i<1881 and 2019<j<2131 :\n",
        "                 (LAB_imgD3_02[i][j])"
      ],
      "execution_count": 342,
      "outputs": []
    },
    {
      "cell_type": "code",
      "metadata": {
        "id": "6aAeBseNGMW0"
      },
      "source": [
        "for i in range(LAB_imgD3_01.shape[0]): \n",
        "     for j in range(LAB_imgD3_01.shape[1]): \n",
        "                if 1769<i<1881 and 2019<j<2131 :\n",
        "                 (LAB_imgD3_01[i][j])"
      ],
      "execution_count": 343,
      "outputs": []
    },
    {
      "cell_type": "code",
      "metadata": {
        "id": "4tl0YApAGMMk"
      },
      "source": [
        "for i in range(LAB_imgD3_03.shape[0]): \n",
        "     for j in range(LAB_imgD3_03.shape[1]): \n",
        "                if 1769<i<1881 and 2019<j<2131 :\n",
        "                 (LAB_imgD3_03[i][j])"
      ],
      "execution_count": 344,
      "outputs": []
    },
    {
      "cell_type": "code",
      "metadata": {
        "id": "Fs5TavqoGL8H"
      },
      "source": [
        "for i in range(LAB_imgD3_04.shape[0]): \n",
        "     for j in range(LAB_imgD3_04.shape[1]): \n",
        "                if 1769<i<1881 and 2019<j<2131 :\n",
        "                 (LAB_imgD3_04[i][j])"
      ],
      "execution_count": 345,
      "outputs": []
    },
    {
      "cell_type": "markdown",
      "metadata": {
        "id": "0xpFIFxY6sWn"
      },
      "source": [
        "D4"
      ]
    },
    {
      "cell_type": "code",
      "metadata": {
        "id": "gGF-V8maGZ3z"
      },
      "source": [
        "for i in range(LAB_imgD4_01.shape[0]): \n",
        "     for j in range(LAB_imgD4_01.shape[1]): \n",
        "                if 1769<i<1881 and 2019<j<2131 :\n",
        "                 (LAB_imgD4_01[i][j])"
      ],
      "execution_count": 346,
      "outputs": []
    },
    {
      "cell_type": "code",
      "metadata": {
        "id": "S3dZ2uEOGZvl"
      },
      "source": [
        "for i in range(LAB_imgD4_02.shape[0]): \n",
        "     for j in range(LAB_imgD4_02.shape[1]): \n",
        "                if 1769<i<1881 and 2019<j<2131 :\n",
        "                 (LAB_imgD4_02[i][j])"
      ],
      "execution_count": 347,
      "outputs": []
    },
    {
      "cell_type": "code",
      "metadata": {
        "id": "QcmDHneXnWnq"
      },
      "source": [
        "for i in range(LAB_imgD4_03.shape[0]): \n",
        "     for j in range(LAB_imgD4_03.shape[1]): \n",
        "                if 1769<i<1881 and 2019<j<2131 :\n",
        "                 (LAB_imgD4_03[i][j])"
      ],
      "execution_count": 348,
      "outputs": []
    },
    {
      "cell_type": "code",
      "metadata": {
        "id": "DH12fZbmnWWc"
      },
      "source": [
        "for i in range(LAB_imgD4_04.shape[0]): \n",
        "     for j in range(LAB_imgD4_04.shape[1]): \n",
        "                if 1769<i<1881 and 2019<j<2131 :\n",
        "                 (LAB_imgD4_04[i][j])"
      ],
      "execution_count": 349,
      "outputs": []
    },
    {
      "cell_type": "markdown",
      "metadata": {
        "id": "SCtLPtPQGz-p"
      },
      "source": [
        "#6. หาค่า Mean"
      ]
    },
    {
      "cell_type": "code",
      "metadata": {
        "id": "YKFsY16kG1pe"
      },
      "source": [
        "import numpy as np"
      ],
      "execution_count": 350,
      "outputs": []
    },
    {
      "cell_type": "markdown",
      "metadata": {
        "id": "s2VmXvHVHoXc"
      },
      "source": [
        "A1"
      ]
    },
    {
      "cell_type": "code",
      "metadata": {
        "id": "3AGgkqYfG25f",
        "colab": {
          "base_uri": "https://localhost:8080/"
        },
        "outputId": "47dc6a22-882a-410b-d15f-97bb8204c53e"
      },
      "source": [
        "meanA1_1 = list() \n",
        "for i in range(LAB_imgA1_01.shape[0]): #ให้ i รันตาม row หรือ shape[0] คือแถว มีทั้งหมด 4032 แถว ของภาพที่ปรับขนาดมาแล้ว\n",
        "     for j in range(LAB_imgA1_01.shape[1]): #ให้ j รันตาม colum มีทั้งหมด 3024 colum เช่น แถวที่ 1 เข้ามาให้รันครบ 3024colum\n",
        "                if 1769<i<1881 and 2019<j<2131 :\n",
        "                    meanA1_1.append(LAB_imgA1_01[i][j])\n",
        "meanA1_1 = np.array(meanA1_1)\n",
        "\n",
        "labA1_1 = list()\n",
        "for i in range(3):\n",
        "    labA1_1.append(meanA1_1[:,i].mean())\n",
        "labA1_1 "
      ],
      "execution_count": 351,
      "outputs": [
        {
          "output_type": "execute_result",
          "data": {
            "text/plain": [
              "[210.19706192679166, 127.1599707815924, 147.01412223033844]"
            ]
          },
          "metadata": {},
          "execution_count": 351
        }
      ]
    },
    {
      "cell_type": "code",
      "metadata": {
        "id": "EVLQ59KPntOq",
        "colab": {
          "base_uri": "https://localhost:8080/"
        },
        "outputId": "95069ead-1007-4b19-f973-38fbeec32b4f"
      },
      "source": [
        "meanA1_2 = list() \n",
        "for i in range(LAB_imgA1_02.shape[0]): #ให้ i รันตาม row หรือ shape[0] คือแถว มีทั้งหมด 4032 แถว ของภาพที่ปรับขนาดมาแล้ว\n",
        "     for j in range(LAB_imgA1_02.shape[1]): #ให้ j รันตาม colum มีทั้งหมด 3024 colum เช่น แถวที่ 1 เข้ามาให้รันครบ 3024colum\n",
        "                if 1769<i<1881 and 2019<j<2131 :\n",
        "                    meanA1_2.append(LAB_imgA1_02[i][j])\n",
        "meanA1_2 = np.array(meanA1_2)\n",
        "\n",
        "labA1_2 = list()\n",
        "for i in range(3):\n",
        "    labA1_2.append(meanA1_2[:,i].mean())\n",
        "labA1_2 "
      ],
      "execution_count": 352,
      "outputs": [
        {
          "output_type": "execute_result",
          "data": {
            "text/plain": [
              "[212.34266699131564, 127.07669831994156, 147.15209804398992]"
            ]
          },
          "metadata": {},
          "execution_count": 352
        }
      ]
    },
    {
      "cell_type": "code",
      "metadata": {
        "id": "EPq1aY8In-MX",
        "colab": {
          "base_uri": "https://localhost:8080/"
        },
        "outputId": "806586d1-d928-47e8-cd73-629f833dd1e0"
      },
      "source": [
        "meanA1_3 = list() \n",
        "for i in range(LAB_imgA1_03.shape[0]): #ให้ i รันตาม row หรือ shape[0] คือแถว มีทั้งหมด 4032 แถว ของภาพที่ปรับขนาดมาแล้ว\n",
        "     for j in range(LAB_imgA1_03.shape[1]): #ให้ j รันตาม colum มีทั้งหมด 3024 colum เช่น แถวที่ 1 เข้ามาให้รันครบ 3024colum\n",
        "                if 1769<i<1881 and 2019<j<2131 :\n",
        "                    meanA1_3.append(LAB_imgA1_03[i][j])\n",
        "meanA1_3 = np.array(meanA1_3)\n",
        "\n",
        "labA1_3 = list()\n",
        "for i in range(3):\n",
        "    labA1_3.append(meanA1_3[:,i].mean())\n",
        "labA1_3 "
      ],
      "execution_count": 353,
      "outputs": [
        {
          "output_type": "execute_result",
          "data": {
            "text/plain": [
              "[223.2158104049996, 124.78362145929714, 152.3442090739388]"
            ]
          },
          "metadata": {},
          "execution_count": 353
        }
      ]
    },
    {
      "cell_type": "code",
      "metadata": {
        "id": "2G7HqZATo0ee",
        "colab": {
          "base_uri": "https://localhost:8080/"
        },
        "outputId": "1982dcb9-1f89-4176-ab80-e6b5e880b0dc"
      },
      "source": [
        "meanA1_4 = list() \n",
        "for i in range(LAB_imgA1_04.shape[0]): #ให้ i รันตาม row หรือ shape[0] คือแถว มีทั้งหมด 4032 แถว ของภาพที่ปรับขนาดมาแล้ว\n",
        "     for j in range(LAB_imgA1_04.shape[1]): #ให้ j รันตาม colum มีทั้งหมด 3024 colum เช่น แถวที่ 1 เข้ามาให้รันครบ 3024colum\n",
        "                if 1769<i<1881 and 2019<j<2131 :\n",
        "                    meanA1_4.append(LAB_imgA1_04[i][j])\n",
        "meanA1_4 = np.array(meanA1_4)\n",
        "\n",
        "labA1_4 = list()\n",
        "for i in range(3):\n",
        "    labA1_4.append(meanA1_4[:,i].mean())\n",
        "labA1_4 "
      ],
      "execution_count": 354,
      "outputs": [
        {
          "output_type": "execute_result",
          "data": {
            "text/plain": [
              "[222.95284473662852, 124.88767145523903, 152.24470416362308]"
            ]
          },
          "metadata": {},
          "execution_count": 354
        }
      ]
    },
    {
      "cell_type": "markdown",
      "metadata": {
        "id": "xSasoROaHpzm"
      },
      "source": [
        "A2"
      ]
    },
    {
      "cell_type": "code",
      "metadata": {
        "id": "A13oL-rkHqpJ",
        "colab": {
          "base_uri": "https://localhost:8080/"
        },
        "outputId": "cd6f1cce-2207-4fe4-9f9e-9f1f342c3c38"
      },
      "source": [
        "meanA2_2 = list() \n",
        "for i in range(LAB_imgA2_02.shape[0]): \n",
        "     for j in range(LAB_imgA2_02.shape[1]): \n",
        "                if 1769<i<1881 and 2019<j<2131 :\n",
        "                    meanA2_2.append(LAB_imgA2_02[i][j])\n",
        "meanA2_2 = np.array(meanA2_2)\n",
        "\n",
        "labA2_2 = list()\n",
        "for i in range(3):\n",
        "    labA2_2.append(meanA2_2[:,i].mean())\n",
        "labA2_2"
      ],
      "execution_count": 355,
      "outputs": [
        {
          "output_type": "execute_result",
          "data": {
            "text/plain": [
              "[205.69848226604984, 128.36539241944647, 150.44517490463437]"
            ]
          },
          "metadata": {},
          "execution_count": 355
        }
      ]
    },
    {
      "cell_type": "code",
      "metadata": {
        "id": "is_tzZCLIE8J",
        "colab": {
          "base_uri": "https://localhost:8080/"
        },
        "outputId": "1c52def0-40c7-45d4-c7be-2f4a8aba160f"
      },
      "source": [
        "meanA2_4 = list() \n",
        "for i in range(LAB_imgA2_04.shape[0]): \n",
        "     for j in range(LAB_imgA2_04.shape[1]): \n",
        "                if 1769<i<1881 and 2019<j<2131 :\n",
        "                    meanA2_4.append(LAB_imgA2_04[i][j])\n",
        "meanA2_4 = np.array(meanA2_4)\n",
        "\n",
        "labA2_4 = list()\n",
        "for i in range(3):\n",
        "    labA2_4.append(meanA2_4[:,i].mean())\n",
        "labA2_4"
      ],
      "execution_count": 356,
      "outputs": [
        {
          "output_type": "execute_result",
          "data": {
            "text/plain": [
              "[196.76243811378947, 126.67080594107621, 154.26158591023457]"
            ]
          },
          "metadata": {},
          "execution_count": 356
        }
      ]
    },
    {
      "cell_type": "code",
      "metadata": {
        "id": "Cfq1mvqqIVGB",
        "colab": {
          "base_uri": "https://localhost:8080/"
        },
        "outputId": "c4b9f8e3-0f9d-41e1-bdd9-344466ea5731"
      },
      "source": [
        "meanA2_1 = list() \n",
        "for i in range(LAB_imgA2_01.shape[0]): \n",
        "     for j in range(LAB_imgA2_01.shape[1]): \n",
        "                if 1769<i<1881 and 2019<j<2131 :\n",
        "                    meanA2_1.append(LAB_imgA2_01[i][j])\n",
        "meanA2_1 = np.array(meanA2_1)\n",
        "\n",
        "labA2_1 = list()\n",
        "for i in range(3):\n",
        "    labA2_1.append(meanA2_1[:,i].mean())\n",
        "labA2_1"
      ],
      "execution_count": 357,
      "outputs": [
        {
          "output_type": "execute_result",
          "data": {
            "text/plain": [
              "[205.42618293969645, 128.5526337147959, 150.9494359224089]"
            ]
          },
          "metadata": {},
          "execution_count": 357
        }
      ]
    },
    {
      "cell_type": "code",
      "metadata": {
        "id": "V9AXiSNJIVht",
        "colab": {
          "base_uri": "https://localhost:8080/"
        },
        "outputId": "58b8b694-c7c1-4bb3-8a04-108c4175a60f"
      },
      "source": [
        "meanA2_3 = list() \n",
        "for i in range(LAB_imgA2_03.shape[0]): \n",
        "     for j in range(LAB_imgA2_03.shape[1]): \n",
        "                if 1769<i<1881 and 2019<j<2131 :\n",
        "                    meanA2_3.append(LAB_imgA2_03[i][j])\n",
        "meanA2_3 = np.array(meanA2_3)\n",
        "\n",
        "labA2_3 = list()\n",
        "for i in range(3):\n",
        "    labA2_3.append(meanA2_3[:,i].mean())\n",
        "labA2_3"
      ],
      "execution_count": 358,
      "outputs": [
        {
          "output_type": "execute_result",
          "data": {
            "text/plain": [
              "[195.18870221572925, 126.69109650190731, 154.49330411492573]"
            ]
          },
          "metadata": {},
          "execution_count": 358
        }
      ]
    },
    {
      "cell_type": "markdown",
      "metadata": {
        "id": "wy0J3KoCIte6"
      },
      "source": [
        "A3"
      ]
    },
    {
      "cell_type": "code",
      "metadata": {
        "id": "CbtyolvQIxRF",
        "colab": {
          "base_uri": "https://localhost:8080/"
        },
        "outputId": "e04e7e08-4446-4b73-9434-487e4f235f9f"
      },
      "source": [
        "meanA3_3 = list() \n",
        "for i in range(LAB_imgA3_03.shape[0]): \n",
        "     for j in range(LAB_imgA3_03.shape[1]): \n",
        "                if 1769<i<1881 and 2019<j<2131 :\n",
        "                    meanA3_3.append(LAB_imgA3_03[i][j])\n",
        "meanA3_3 = np.array(meanA3_3)\n",
        "\n",
        "labA3_3 = list()\n",
        "for i in range(3):\n",
        "    labA3_3.append(meanA3_3[:,i].mean())\n",
        "labA3_3"
      ],
      "execution_count": 359,
      "outputs": [
        {
          "output_type": "execute_result",
          "data": {
            "text/plain": [
              "[174.21499878256634, 125.89278467656845, 154.15445174904633]"
            ]
          },
          "metadata": {},
          "execution_count": 359
        }
      ]
    },
    {
      "cell_type": "code",
      "metadata": {
        "id": "7mYWr28NI6fk",
        "colab": {
          "base_uri": "https://localhost:8080/"
        },
        "outputId": "4e7cdfc1-601c-4240-8a28-c9dcce71b788"
      },
      "source": [
        "meanA3_4 = list() \n",
        "for i in range(LAB_imgA3_04.shape[0]): \n",
        "     for j in range(LAB_imgA3_04.shape[1]): \n",
        "                if 1769<i<1881 and 2019<j<2131 :\n",
        "                    meanA3_4.append(LAB_imgA3_04[i][j])\n",
        "meanA3_4 = np.array(meanA3_4)\n",
        "\n",
        "labA3_4 = list()\n",
        "for i in range(3):\n",
        "    labA3_4.append(meanA3_4[:,i].mean())\n",
        "labA3_4"
      ],
      "execution_count": 360,
      "outputs": [
        {
          "output_type": "execute_result",
          "data": {
            "text/plain": [
              "[233.43486729973216, 122.07791575359143, 157.73078483889296]"
            ]
          },
          "metadata": {},
          "execution_count": 360
        }
      ]
    },
    {
      "cell_type": "code",
      "metadata": {
        "id": "X_oamCB9JCat",
        "colab": {
          "base_uri": "https://localhost:8080/"
        },
        "outputId": "2d44fa78-9b6e-44aa-9b20-1276d4ba7528"
      },
      "source": [
        "meanA3_2 = list() \n",
        "for i in range(LAB_imgA3_02.shape[0]): \n",
        "     for j in range(LAB_imgA3_02.shape[1]): \n",
        "                if 1769<i<1881 and 2019<j<2131 :\n",
        "                    meanA3_2.append(LAB_imgA3_02[i][j])\n",
        "meanA3_2 = np.array(meanA3_2)\n",
        "\n",
        "labA3_2 = list()\n",
        "for i in range(3):\n",
        "    labA3_2.append(meanA3_2[:,i].mean())\n",
        "labA3_2"
      ],
      "execution_count": 361,
      "outputs": [
        {
          "output_type": "execute_result",
          "data": {
            "text/plain": [
              "[204.06168330492656, 128.54654654654655, 154.66260855450045]"
            ]
          },
          "metadata": {},
          "execution_count": 361
        }
      ]
    },
    {
      "cell_type": "code",
      "metadata": {
        "id": "6d9vw9fuJMQx",
        "colab": {
          "base_uri": "https://localhost:8080/"
        },
        "outputId": "4ac1232a-3917-4a93-d674-7d9fa37a67a5"
      },
      "source": [
        "meanA3_1 = list() \n",
        "for i in range(LAB_imgA3_01.shape[0]): \n",
        "     for j in range(LAB_imgA3_01.shape[1]): \n",
        "                if 1769<i<1881 and 2019<j<2131 :\n",
        "                    meanA3_1.append(LAB_imgA3_01[i][j])\n",
        "meanA3_1 = np.array(meanA3_1)\n",
        "\n",
        "labA3_1 = list()\n",
        "for i in range(3):\n",
        "    labA3_1.append(meanA3_1[:,i].mean())\n",
        "labA3_1"
      ],
      "execution_count": 362,
      "outputs": [
        {
          "output_type": "execute_result",
          "data": {
            "text/plain": [
              "[204.33008684360036, 128.806103400698, 153.79360441522604]"
            ]
          },
          "metadata": {},
          "execution_count": 362
        }
      ]
    },
    {
      "cell_type": "markdown",
      "metadata": {
        "id": "dsrU_P7rJaQO"
      },
      "source": [
        "A3.5"
      ]
    },
    {
      "cell_type": "code",
      "metadata": {
        "id": "vvJRofAgJZ8F",
        "colab": {
          "base_uri": "https://localhost:8080/"
        },
        "outputId": "d252d6c5-855f-4a2b-cc7b-9dd7f4ffdb4e"
      },
      "source": [
        "meanA3_501 = list() \n",
        "for i in range(LAB_imgA3_501.shape[0]): \n",
        "     for j in range(LAB_imgA3_501.shape[1]): \n",
        "                if 1769<i<1881 and 2019<j<2131 :\n",
        "                    meanA3_501.append(LAB_imgA3_501[i][j])\n",
        "meanA3_501 = np.array(meanA3_501)\n",
        "\n",
        "labA3_501 = list()\n",
        "for i in range(3):\n",
        "    labA3_501.append(meanA3_501[:,i].mean())\n",
        "labA3_501"
      ],
      "execution_count": 363,
      "outputs": [
        {
          "output_type": "execute_result",
          "data": {
            "text/plain": [
              "[195.75164353542732, 131.20542163785407, 158.3012742472202]"
            ]
          },
          "metadata": {},
          "execution_count": 363
        }
      ]
    },
    {
      "cell_type": "code",
      "metadata": {
        "id": "6GNLN8lUJUTy",
        "colab": {
          "base_uri": "https://localhost:8080/"
        },
        "outputId": "e09bd74c-434a-4e58-a9b0-e33728cb5bf0"
      },
      "source": [
        "meanA3_502 = list() \n",
        "for i in range(LAB_imgA3_502.shape[0]): \n",
        "     for j in range(LAB_imgA3_502.shape[1]): \n",
        "                if 1769<i<1881 and 2019<j<2131 :\n",
        "                    meanA3_502.append(LAB_imgA3_502[i][j])\n",
        "meanA3_502 = np.array(meanA3_502)\n",
        "\n",
        "labA3_502 = list()\n",
        "for i in range(3):\n",
        "    labA3_502.append(meanA3_502[:,i].mean())\n",
        "labA3_502"
      ],
      "execution_count": 364,
      "outputs": [
        {
          "output_type": "execute_result",
          "data": {
            "text/plain": [
              "[201.6497849200552, 130.53218082947814, 158.04959013067122]"
            ]
          },
          "metadata": {},
          "execution_count": 364
        }
      ]
    },
    {
      "cell_type": "code",
      "metadata": {
        "id": "M3RMSpgKJt0o",
        "colab": {
          "base_uri": "https://localhost:8080/"
        },
        "outputId": "011138e2-b030-4b3a-f063-0068df26b461"
      },
      "source": [
        "meanA3_503 = list() \n",
        "for i in range(LAB_imgA3_503.shape[0]): \n",
        "     for j in range(LAB_imgA3_503.shape[1]): \n",
        "                if 1769<i<1881 and 2019<j<2131 :\n",
        "                    meanA3_503.append(LAB_imgA3_503[i][j])\n",
        "meanA3_503 = np.array(meanA3_503)\n",
        "\n",
        "labA3_503 = list()\n",
        "for i in range(3):\n",
        "    labA3_503.append(meanA3_503[:,i].mean())\n",
        "labA3_503"
      ],
      "execution_count": 365,
      "outputs": [
        {
          "output_type": "execute_result",
          "data": {
            "text/plain": [
              "[221.3807320834348, 123.87517246976707, 163.0292995698401]"
            ]
          },
          "metadata": {},
          "execution_count": 365
        }
      ]
    },
    {
      "cell_type": "code",
      "metadata": {
        "id": "70rg8s3CJ10m",
        "colab": {
          "base_uri": "https://localhost:8080/"
        },
        "outputId": "5b13e315-9752-475d-fff8-bc73c9d756bf"
      },
      "source": [
        "meanA3_504 = list() \n",
        "for i in range(LAB_imgA3_504.shape[0]): \n",
        "     for j in range(LAB_imgA3_504.shape[1]): \n",
        "                if 1769<i<1881 and 2019<j<2131 :\n",
        "                    meanA3_504.append(LAB_imgA3_504[i][j])\n",
        "meanA3_504 = np.array(meanA3_504)\n",
        "\n",
        "labA3_504 = list()\n",
        "for i in range(3):\n",
        "    labA3_504.append(meanA3_504[:,i].mean())\n",
        "labA3_504"
      ],
      "execution_count": 366,
      "outputs": [
        {
          "output_type": "execute_result",
          "data": {
            "text/plain": [
              "[217.48299651002353, 124.4612450288126, 162.4107621134648]"
            ]
          },
          "metadata": {},
          "execution_count": 366
        }
      ]
    },
    {
      "cell_type": "markdown",
      "metadata": {
        "id": "K0Zmn5LbKE-Y"
      },
      "source": [
        "A4"
      ]
    },
    {
      "cell_type": "code",
      "metadata": {
        "id": "pr0j_XxrKKp7",
        "colab": {
          "base_uri": "https://localhost:8080/"
        },
        "outputId": "82d9891f-da74-4a6e-de8a-e1a973a29fa1"
      },
      "source": [
        "meanA4_1 = list() \n",
        "for i in range(LAB_imgA4_01.shape[0]): \n",
        "     for j in range(LAB_imgA4_01.shape[1]): \n",
        "                if 1769<i<1881 and 2019<j<2131 :\n",
        "                    meanA4_1.append(LAB_imgA4_01[i][j])\n",
        "meanA4_1 = np.array(meanA4_1)\n",
        "\n",
        "labA4_1 = list()\n",
        "for i in range(3):\n",
        "    labA4_1.append(meanA4_1[:,i].mean())\n",
        "labA4_1"
      ],
      "execution_count": 367,
      "outputs": [
        {
          "output_type": "execute_result",
          "data": {
            "text/plain": [
              "[195.64353542731922, 130.8776073370668, 156.52836620404187]"
            ]
          },
          "metadata": {},
          "execution_count": 367
        }
      ]
    },
    {
      "cell_type": "code",
      "metadata": {
        "id": "jGCKxVG5aiCX",
        "colab": {
          "base_uri": "https://localhost:8080/"
        },
        "outputId": "7b21a9e6-758d-4173-e009-61e3c872a37c"
      },
      "source": [
        "meanA4_4 = list() \n",
        "for i in range(LAB_imgA4_04.shape[0]): \n",
        "     for j in range(LAB_imgA4_04.shape[1]): \n",
        "                if 1769<i<1881 and 2019<j<2131 :\n",
        "                    meanA4_4.append(LAB_imgA4_04[i][j])\n",
        "meanA4_4 = np.array(meanA4_4)\n",
        "\n",
        "labA4_4 = list()\n",
        "for i in range(3):\n",
        "    labA4_4.append(meanA4_4[:,i].mean())\n",
        "labA4_4"
      ],
      "execution_count": 368,
      "outputs": [
        {
          "output_type": "execute_result",
          "data": {
            "text/plain": [
              "[201.54597841084328, 125.77258339420501, 162.6385033682331]"
            ]
          },
          "metadata": {},
          "execution_count": 368
        }
      ]
    },
    {
      "cell_type": "code",
      "metadata": {
        "id": "aqwHZK5dKkkG",
        "colab": {
          "base_uri": "https://localhost:8080/"
        },
        "outputId": "3c05805e-7591-43c8-cdcc-d589f4965882"
      },
      "source": [
        "meanA4_2 = list() \n",
        "for i in range(LAB_imgA4_02.shape[0]): \n",
        "     for j in range(LAB_imgA4_02.shape[1]): \n",
        "                if 1769<i<1881 and 2019<j<2131 :\n",
        "                    meanA4_2.append(LAB_imgA4_02[i][j])\n",
        "meanA4_2 = np.array(meanA4_2)\n",
        "\n",
        "labA4_2 = list()\n",
        "for i in range(3):\n",
        "    labA4_2.append(meanA4_2[:,i].mean())\n",
        "labA4_2"
      ],
      "execution_count": 369,
      "outputs": [
        {
          "output_type": "execute_result",
          "data": {
            "text/plain": [
              "[196.2836620404188, 130.86567648729812, 155.7252658063469]"
            ]
          },
          "metadata": {},
          "execution_count": 369
        }
      ]
    },
    {
      "cell_type": "code",
      "metadata": {
        "id": "Zw_N6Vx2KymX",
        "colab": {
          "base_uri": "https://localhost:8080/"
        },
        "outputId": "4524bb45-8591-4489-f47c-971730ed63da"
      },
      "source": [
        "meanA4_3 = list() \n",
        "for i in range(LAB_imgA4_03.shape[0]): \n",
        "     for j in range(LAB_imgA4_03.shape[1]): \n",
        "                if 1769<i<1881 and 2019<j<2131 :\n",
        "                    meanA4_3.append(LAB_imgA4_03[i][j])\n",
        "meanA4_3 = np.array(meanA4_3)\n",
        "\n",
        "labA4_3 = list()\n",
        "for i in range(3):\n",
        "    labA4_3.append(meanA4_3[:,i].mean())\n",
        "labA4_3"
      ],
      "execution_count": 370,
      "outputs": [
        {
          "output_type": "execute_result",
          "data": {
            "text/plain": [
              "[198.3770797824852, 127.19892865838811, 163.06468630792955]"
            ]
          },
          "metadata": {},
          "execution_count": 370
        }
      ]
    },
    {
      "cell_type": "markdown",
      "metadata": {
        "id": "OAQtt2AILBUb"
      },
      "source": [
        "B1"
      ]
    },
    {
      "cell_type": "code",
      "metadata": {
        "id": "3ufaRQmxK8pb",
        "colab": {
          "base_uri": "https://localhost:8080/"
        },
        "outputId": "510d8b4e-92d6-41c1-c943-4146fb8b1e21"
      },
      "source": [
        "meanB1_2 = list() \n",
        "for i in range(LAB_imgB1_02.shape[0]): \n",
        "     for j in range(LAB_imgB1_02.shape[1]): \n",
        "                if 1769<i<1881 and 2019<j<2131 :\n",
        "                    meanB1_2.append(LAB_imgB1_02[i][j])\n",
        "meanB1_2 = np.array(meanB1_2)\n",
        "\n",
        "labB1_2 = list()\n",
        "for i in range(3):\n",
        "    labB1_2.append(meanB1_2[:,i].mean())\n",
        "labB1_2"
      ],
      "execution_count": 371,
      "outputs": [
        {
          "output_type": "execute_result",
          "data": {
            "text/plain": [
              "[206.79993507020535, 127.28358087817547, 145.421313205097]"
            ]
          },
          "metadata": {},
          "execution_count": 371
        }
      ]
    },
    {
      "cell_type": "code",
      "metadata": {
        "id": "JtPJSupiMziF",
        "colab": {
          "base_uri": "https://localhost:8080/"
        },
        "outputId": "5d45841f-78d0-4bb9-c0cc-3ec2abfbc8a4"
      },
      "source": [
        "meanB1_3 = list() \n",
        "for i in range(LAB_imgB1_03.shape[0]): \n",
        "     for j in range(LAB_imgB1_03.shape[1]): \n",
        "                if 1769<i<1881 and 2019<j<2131 :\n",
        "                    meanB1_3.append(LAB_imgB1_03[i][j])\n",
        "meanB1_3 = np.array(meanB1_3)\n",
        "\n",
        "labB1_3 = list()\n",
        "for i in range(3):\n",
        "    labB1_3.append(meanB1_3[:,i].mean())\n",
        "labB1_3"
      ],
      "execution_count": 372,
      "outputs": [
        {
          "output_type": "execute_result",
          "data": {
            "text/plain": [
              "[220.32505478451424, 124.60701241782323, 144.70952033114196]"
            ]
          },
          "metadata": {},
          "execution_count": 372
        }
      ]
    },
    {
      "cell_type": "code",
      "metadata": {
        "id": "_SALE1tKNOpm",
        "colab": {
          "base_uri": "https://localhost:8080/"
        },
        "outputId": "d937768b-50c8-46c9-dd4c-8c6a22e1df5e"
      },
      "source": [
        "meanB1_4 = list() \n",
        "for i in range(LAB_imgB1_04.shape[0]): \n",
        "     for j in range(LAB_imgB1_04.shape[1]): \n",
        "                if 1769<i<1881 and 2019<j<2131 :\n",
        "                    meanB1_4.append(LAB_imgB1_04[i][j])\n",
        "meanB1_4 = np.array(meanB1_4)\n",
        "\n",
        "labB1_4 = list()\n",
        "for i in range(3):\n",
        "    labB1_4.append(meanB1_4[:,i].mean())\n",
        "labB1_4 "
      ],
      "execution_count": 373,
      "outputs": [
        {
          "output_type": "execute_result",
          "data": {
            "text/plain": [
              "[230.62827692557423, 123.82899115331547, 147.13318724129536]"
            ]
          },
          "metadata": {},
          "execution_count": 373
        }
      ]
    },
    {
      "cell_type": "code",
      "metadata": {
        "id": "vR6O_RooNDiy",
        "colab": {
          "base_uri": "https://localhost:8080/"
        },
        "outputId": "c63404a8-8a35-45b9-871b-083399c4bee2"
      },
      "source": [
        "meanB1_1 = list() \n",
        "for i in range(LAB_imgB1_01.shape[0]): \n",
        "     for j in range(LAB_imgB1_01.shape[1]): \n",
        "                if 1769<i<1881 and 2019<j<2131 :\n",
        "                    meanB1_1.append(LAB_imgB1_01[i][j])\n",
        "meanB1_1 = np.array(meanB1_1)\n",
        "\n",
        "labB1_1 = list()\n",
        "for i in range(3):\n",
        "    labB1_1.append(meanB1_1[:,i].mean())\n",
        "labB1_1"
      ],
      "execution_count": 374,
      "outputs": [
        {
          "output_type": "execute_result",
          "data": {
            "text/plain": [
              "[206.29534940345752, 127.75700024348673, 143.76779482184887]"
            ]
          },
          "metadata": {},
          "execution_count": 374
        }
      ]
    },
    {
      "cell_type": "markdown",
      "metadata": {
        "id": "9VIiGheNOIj8"
      },
      "source": [
        "B2"
      ]
    },
    {
      "cell_type": "code",
      "metadata": {
        "id": "N2MDc6V8OKqr",
        "colab": {
          "base_uri": "https://localhost:8080/"
        },
        "outputId": "d9397237-1324-4359-9013-b7579e204379"
      },
      "source": [
        "meanB2_1 = list() \n",
        "for i in range(LAB_imgB2_01.shape[0]): \n",
        "     for j in range(LAB_imgB2_01.shape[1]): \n",
        "                if 1769<i<1881 and 2019<j<2131 :\n",
        "                    meanB2_1.append(LAB_imgB2_01[i][j])\n",
        "meanB2_1 = np.array(meanB2_1)\n",
        "\n",
        "labB2_1 = list()\n",
        "for i in range(3):\n",
        "    labB2_1.append(meanB2_1[:,i].mean())\n",
        "labB2_1"
      ],
      "execution_count": 375,
      "outputs": [
        {
          "output_type": "execute_result",
          "data": {
            "text/plain": [
              "[211.22871520168817, 127.03051700348998, 151.94886778670562]"
            ]
          },
          "metadata": {},
          "execution_count": 375
        }
      ]
    },
    {
      "cell_type": "code",
      "metadata": {
        "id": "5blnCh0NONhc",
        "colab": {
          "base_uri": "https://localhost:8080/"
        },
        "outputId": "6cd2575c-4dea-40d4-d152-c30464c3219c"
      },
      "source": [
        "meanB2_4 = list() \n",
        "for i in range(LAB_imgB2_04.shape[0]): \n",
        "     for j in range(LAB_imgB2_04.shape[1]): \n",
        "                if 1769<i<1881 and 2019<j<2131 :\n",
        "                    meanB2_4.append(LAB_imgB2_04[i][j])\n",
        "meanB2_4 = np.array(meanB2_4)\n",
        "\n",
        "labB2_4 = list()\n",
        "for i in range(3):\n",
        "    labB2_4.append(meanB2_4[:,i].mean())\n",
        "labB2_4"
      ],
      "execution_count": 376,
      "outputs": [
        {
          "output_type": "execute_result",
          "data": {
            "text/plain": [
              "[204.32318805291777, 124.44087330573817, 148.93304114925738]"
            ]
          },
          "metadata": {},
          "execution_count": 376
        }
      ]
    },
    {
      "cell_type": "code",
      "metadata": {
        "id": "PtXEtBaBONXt",
        "colab": {
          "base_uri": "https://localhost:8080/"
        },
        "outputId": "e67649b8-91b9-4897-a35a-3dd2aaf97353"
      },
      "source": [
        "meanB2_3 = list() \n",
        "for i in range(LAB_imgB2_03.shape[0]): \n",
        "     for j in range(LAB_imgB2_03.shape[1]): \n",
        "                if 1769<i<1881 and 2019<j<2131 :\n",
        "                    meanB2_3.append(LAB_imgB2_03[i][j])\n",
        "meanB2_3 = np.array(meanB2_3)\n",
        "\n",
        "labB2_3 = list()\n",
        "for i in range(3):\n",
        "    labB2_3.append(meanB2_3[:,i].mean())\n",
        "labB2_3"
      ],
      "execution_count": 377,
      "outputs": [
        {
          "output_type": "execute_result",
          "data": {
            "text/plain": [
              "[230.62827692557423, 123.82899115331547, 147.13318724129536]"
            ]
          },
          "metadata": {},
          "execution_count": 377
        }
      ]
    },
    {
      "cell_type": "code",
      "metadata": {
        "id": "lkYUVq43OM9Q",
        "colab": {
          "base_uri": "https://localhost:8080/"
        },
        "outputId": "3524fd18-f1cc-4e9c-a9e0-aeb67a583e7d"
      },
      "source": [
        "meanB2_2 = list() \n",
        "for i in range(LAB_imgB2_02.shape[0]): \n",
        "     for j in range(LAB_imgB2_02.shape[1]): \n",
        "                if 1769<i<1881 and 2019<j<2131 :\n",
        "                    meanB2_2.append(LAB_imgB2_02[i][j])\n",
        "meanB2_2 = np.array(meanB2_2)\n",
        "\n",
        "labB2_2 = list()\n",
        "for i in range(3):\n",
        "    labB2_2.append(meanB2_2[:,i].mean())\n",
        "labB2_2"
      ],
      "execution_count": 378,
      "outputs": [
        {
          "output_type": "execute_result",
          "data": {
            "text/plain": [
              "[210.47236425614804, 127.14122230338447, 151.02605308010715]"
            ]
          },
          "metadata": {},
          "execution_count": 378
        }
      ]
    },
    {
      "cell_type": "markdown",
      "metadata": {
        "id": "sDpqJ0vsO4pf"
      },
      "source": [
        "B3"
      ]
    },
    {
      "cell_type": "code",
      "metadata": {
        "id": "12x1GgEbO6gG",
        "colab": {
          "base_uri": "https://localhost:8080/"
        },
        "outputId": "fd57b6ca-0d8b-4a8b-b195-a9cc70ae1a21"
      },
      "source": [
        "meanB3_1 = list() \n",
        "for i in range(LAB_imgB3_01.shape[0]): \n",
        "     for j in range(LAB_imgB3_01.shape[1]): \n",
        "                if 1769<i<1881 and 2019<j<2131 :\n",
        "                    meanB3_1.append(LAB_imgB3_01[i][j])\n",
        "meanB3_1 = np.array(meanB3_1)\n",
        "\n",
        "labB3_1 = list()\n",
        "for i in range(3):\n",
        "    labB3_1.append(meanB3_1[:,i].mean())\n",
        "labB3_1"
      ],
      "execution_count": 379,
      "outputs": [
        {
          "output_type": "execute_result",
          "data": {
            "text/plain": [
              "[200.18740361983606, 128.9095852609366, 155.76682087492898]"
            ]
          },
          "metadata": {},
          "execution_count": 379
        }
      ]
    },
    {
      "cell_type": "code",
      "metadata": {
        "id": "Q4ARs8laRJON",
        "colab": {
          "base_uri": "https://localhost:8080/"
        },
        "outputId": "19278131-7cb0-4786-86f8-0fc4257410ae"
      },
      "source": [
        "meanB3_4 = list() \n",
        "for i in range(LAB_imgB3_04.shape[0]): \n",
        "     for j in range(LAB_imgB3_04.shape[1]): \n",
        "                if 1769<i<1881 and 2019<j<2131 :\n",
        "                    meanB3_4.append(LAB_imgB3_04[i][j])\n",
        "meanB3_4 = np.array(meanB3_4)\n",
        "\n",
        "labB3_4 = list()\n",
        "for i in range(3):\n",
        "    labB3_4.append(meanB3_4[:,i].mean())\n",
        "labB3_4"
      ],
      "execution_count": 380,
      "outputs": [
        {
          "output_type": "execute_result",
          "data": {
            "text/plain": [
              "[210.39663988312637, 123.72648323999675, 158.03076049021996]"
            ]
          },
          "metadata": {},
          "execution_count": 380
        }
      ]
    },
    {
      "cell_type": "code",
      "metadata": {
        "id": "cO0CReiARJrJ",
        "colab": {
          "base_uri": "https://localhost:8080/"
        },
        "outputId": "aa0aa5d6-620b-4507-92ee-52f69042ee8d"
      },
      "source": [
        "meanB3_2 = list() \n",
        "for i in range(LAB_imgB3_02.shape[0]): \n",
        "     for j in range(LAB_imgB3_02.shape[1]): \n",
        "                if 1769<i<1881 and 2019<j<2131 :\n",
        "                    meanB3_2.append(LAB_imgB3_02[i][j])\n",
        "meanB3_2 = np.array(meanB3_2)\n",
        "\n",
        "labB3_2 = list()\n",
        "for i in range(3):\n",
        "    labB3_2.append(meanB3_2[:,i].mean())\n",
        "labB3_2"
      ],
      "execution_count": 381,
      "outputs": [
        {
          "output_type": "execute_result",
          "data": {
            "text/plain": [
              "[204.90909828747667, 128.8763087411736, 156.5590455320185]"
            ]
          },
          "metadata": {},
          "execution_count": 381
        }
      ]
    },
    {
      "cell_type": "code",
      "metadata": {
        "id": "_MU7U9bZRKCN",
        "colab": {
          "base_uri": "https://localhost:8080/"
        },
        "outputId": "a5344574-43bc-4677-acd6-658eb7a2a236"
      },
      "source": [
        "meanB3_3 = list() \n",
        "for i in range(LAB_imgB3_03.shape[0]): \n",
        "     for j in range(LAB_imgB3_03.shape[1]): \n",
        "                if 1769<i<1881 and 2019<j<2131 :\n",
        "                    meanB3_3.append(LAB_imgB3_03[i][j])\n",
        "meanB3_3 = np.array(meanB3_3)\n",
        "\n",
        "labB3_3 = list()\n",
        "for i in range(3):\n",
        "    labB3_3.append(meanB3_3[:,i].mean())\n",
        "labB3_3"
      ],
      "execution_count": 382,
      "outputs": [
        {
          "output_type": "execute_result",
          "data": {
            "text/plain": [
              "[210.33869004139274, 123.82858534209886, 158.38024510997485]"
            ]
          },
          "metadata": {},
          "execution_count": 382
        }
      ]
    },
    {
      "cell_type": "markdown",
      "metadata": {
        "id": "6K_S-0DGRYPG"
      },
      "source": [
        "B4"
      ]
    },
    {
      "cell_type": "code",
      "metadata": {
        "id": "KQE8feTgRoWm",
        "colab": {
          "base_uri": "https://localhost:8080/"
        },
        "outputId": "d08cdc1a-9567-490f-e1df-294d6023bb52"
      },
      "source": [
        "meanB4_2 = list() \n",
        "for i in range(LAB_imgB4_02.shape[0]): \n",
        "     for j in range(LAB_imgB4_02.shape[1]): \n",
        "                if 1769<i<1881 and 2019<j<2131 :\n",
        "                    meanB4_2.append(LAB_imgB4_02[i][j])\n",
        "meanB4_2 = np.array(meanB4_2)\n",
        "\n",
        "labB4_2 = list()\n",
        "for i in range(3):\n",
        "    labB4_2.append(meanB4_2[:,i].mean())\n",
        "labB4_2"
      ],
      "execution_count": 383,
      "outputs": [
        {
          "output_type": "execute_result",
          "data": {
            "text/plain": [
              "[197.61537212888564, 129.24283743202662, 158.16118821524228]"
            ]
          },
          "metadata": {},
          "execution_count": 383
        }
      ]
    },
    {
      "cell_type": "code",
      "metadata": {
        "id": "2Otz1VLHRZHL",
        "colab": {
          "base_uri": "https://localhost:8080/"
        },
        "outputId": "2e6f7255-6013-400b-8dfa-f4fcee6f9cc2"
      },
      "source": [
        "meanB4_3 = list() \n",
        "for i in range(LAB_imgB4_03.shape[0]): \n",
        "     for j in range(LAB_imgB4_03.shape[1]): \n",
        "                if 1769<i<1881 and 2019<j<2131 :\n",
        "                    meanB4_3.append(LAB_imgB4_03[i][j])\n",
        "meanB4_3 = np.array(meanB4_3)\n",
        "\n",
        "labB4_3 = list()\n",
        "for i in range(3):\n",
        "    labB4_3.append(meanB4_3[:,i].mean())\n",
        "labB4_3"
      ],
      "execution_count": 384,
      "outputs": [
        {
          "output_type": "execute_result",
          "data": {
            "text/plain": [
              "[206.62210859508156, 123.60490219949679, 160.46132619105592]"
            ]
          },
          "metadata": {},
          "execution_count": 384
        }
      ]
    },
    {
      "cell_type": "code",
      "metadata": {
        "id": "OPT8bQl1Rz9O",
        "colab": {
          "base_uri": "https://localhost:8080/"
        },
        "outputId": "70c55acf-77d1-47de-c346-c6a00c2635b9"
      },
      "source": [
        "meanB4_1 = list() \n",
        "for i in range(LAB_imgB4_01.shape[0]): \n",
        "     for j in range(LAB_imgB4_01.shape[1]): \n",
        "                if 1769<i<1881 and 2019<j<2131 :\n",
        "                    meanB4_1.append(LAB_imgB4_01[i][j])\n",
        "meanB4_1 = np.array(meanB4_1)\n",
        "\n",
        "labB4_1 = list()\n",
        "for i in range(3):\n",
        "    labB4_1.append(meanB4_1[:,i].mean())\n",
        "labB4_1"
      ],
      "execution_count": 385,
      "outputs": [
        {
          "output_type": "execute_result",
          "data": {
            "text/plain": [
              "[202.19608797987178, 128.96493791088386, 158.1739306874442]"
            ]
          },
          "metadata": {},
          "execution_count": 385
        }
      ]
    },
    {
      "cell_type": "code",
      "metadata": {
        "id": "jX-vx3sJRu0p",
        "colab": {
          "base_uri": "https://localhost:8080/"
        },
        "outputId": "59288e05-e95f-4f95-e2da-683a292012e6"
      },
      "source": [
        "meanB4_4 = list() \n",
        "for i in range(LAB_imgB4_04.shape[0]): \n",
        "     for j in range(LAB_imgB4_04.shape[1]): \n",
        "                if 1769<i<1881 and 2019<j<2131 :\n",
        "                    meanB4_4.append(LAB_imgB4_04[i][j])\n",
        "meanB4_4 = np.array(meanB4_4)\n",
        "\n",
        "labB4_4 = list()\n",
        "for i in range(3):\n",
        "    labB4_4.append(meanB4_4[:,i].mean())\n",
        "labB4_4"
      ],
      "execution_count": 386,
      "outputs": [
        {
          "output_type": "execute_result",
          "data": {
            "text/plain": [
              "[204.39728918107298, 123.5433812190569, 162.23334144955766]"
            ]
          },
          "metadata": {},
          "execution_count": 386
        }
      ]
    },
    {
      "cell_type": "markdown",
      "metadata": {
        "id": "0q2eJezyR6sL"
      },
      "source": [
        "C1"
      ]
    },
    {
      "cell_type": "code",
      "metadata": {
        "id": "ya636PpxR-HY",
        "colab": {
          "base_uri": "https://localhost:8080/"
        },
        "outputId": "509f06cc-29c7-4200-cf2d-580ec4fd4745"
      },
      "source": [
        "meanC1_3 = list() \n",
        "for i in range(LAB_imgC1_03.shape[0]): \n",
        "     for j in range(LAB_imgC1_03.shape[1]): \n",
        "                if 1769<i<1881 and 2019<j<2131 :\n",
        "                    meanC1_3.append(LAB_imgC1_03[i][j])\n",
        "meanC1_3 = np.array(meanC1_3)\n",
        "\n",
        "labC1_3 = list()\n",
        "for i in range(3):\n",
        "    labC1_3.append(meanC1_3[:,i].mean())\n",
        "labC1_3"
      ],
      "execution_count": 387,
      "outputs": [
        {
          "output_type": "execute_result",
          "data": {
            "text/plain": [
              "[208.6794903011119, 123.73987501014528, 144.76414252089927]"
            ]
          },
          "metadata": {},
          "execution_count": 387
        }
      ]
    },
    {
      "cell_type": "code",
      "metadata": {
        "id": "SxhlA1QRR-dY",
        "colab": {
          "base_uri": "https://localhost:8080/"
        },
        "outputId": "a468073d-1fcc-469a-a940-31af22222f53"
      },
      "source": [
        "meanC1_4 = list() \n",
        "for i in range(LAB_imgC1_04.shape[0]): \n",
        "     for j in range(LAB_imgC1_04.shape[1]): \n",
        "                if 1769<i<1881 and 2019<j<2131 :\n",
        "                    meanC1_4.append(LAB_imgC1_04[i][j])\n",
        "meanC1_4 = np.array(meanC1_4)\n",
        "\n",
        "labC1_4 = list()\n",
        "for i in range(3):\n",
        "    labC1_4.append(meanC1_4[:,i].mean())\n",
        "labC1_4"
      ],
      "execution_count": 388,
      "outputs": [
        {
          "output_type": "execute_result",
          "data": {
            "text/plain": [
              "[207.25355084814544, 123.3608473338203, 144.24040256472688]"
            ]
          },
          "metadata": {},
          "execution_count": 388
        }
      ]
    },
    {
      "cell_type": "code",
      "metadata": {
        "id": "LZSCuqVaSwok",
        "colab": {
          "base_uri": "https://localhost:8080/"
        },
        "outputId": "10abdc1e-b690-45ba-f2f1-7f9d0db94257"
      },
      "source": [
        "meanC1_2 = list() \n",
        "for i in range(LAB_imgC1_02.shape[0]): \n",
        "     for j in range(LAB_imgC1_02.shape[1]): \n",
        "                if 1769<i<1881 and 2019<j<2131 :\n",
        "                    meanC1_2.append(LAB_imgC1_02[i][j])\n",
        "meanC1_2 = np.array(meanC1_2)\n",
        "\n",
        "labC1_2 = list()\n",
        "for i in range(3):\n",
        "    labC1_2.append(meanC1_2[:,i].mean())\n",
        "labC1_2"
      ],
      "execution_count": 389,
      "outputs": [
        {
          "output_type": "execute_result",
          "data": {
            "text/plain": [
              "[203.3531369207045, 128.03952601249898, 148.48299651002353]"
            ]
          },
          "metadata": {},
          "execution_count": 389
        }
      ]
    },
    {
      "cell_type": "code",
      "metadata": {
        "id": "zaEcF9R7S2e9",
        "colab": {
          "base_uri": "https://localhost:8080/"
        },
        "outputId": "b7e67c03-542a-4481-db48-650228cd0943"
      },
      "source": [
        "meanC1_1 = list() \n",
        "for i in range(LAB_imgC1_01.shape[0]): \n",
        "     for j in range(LAB_imgC1_01.shape[1]): \n",
        "                if 1769<i<1881 and 2019<j<2131 :\n",
        "                    meanC1_1.append(LAB_imgC1_01[i][j])\n",
        "meanC1_1 = np.array(meanC1_1)\n",
        "\n",
        "labC1_1 = list()\n",
        "for i in range(3):\n",
        "    labC1_1.append(meanC1_1[:,i].mean())\n",
        "labC1_1"
      ],
      "execution_count": 390,
      "outputs": [
        {
          "output_type": "execute_result",
          "data": {
            "text/plain": [
              "[202.44769093417742, 127.44087330573817, 148.83994805616427]"
            ]
          },
          "metadata": {},
          "execution_count": 390
        }
      ]
    },
    {
      "cell_type": "markdown",
      "metadata": {
        "id": "7v0CVQ3eS79F"
      },
      "source": [
        "C2"
      ]
    },
    {
      "cell_type": "code",
      "metadata": {
        "id": "lner_FoXS9Aa",
        "colab": {
          "base_uri": "https://localhost:8080/"
        },
        "outputId": "a0e6332b-d569-419d-9a5e-d9c2f4c07d9d"
      },
      "source": [
        "meanC2_1 = list() \n",
        "for i in range(LAB_imgC2_01.shape[0]): \n",
        "     for j in range(LAB_imgC2_01.shape[1]): \n",
        "                if 1769<i<1881 and 2019<j<2131 :\n",
        "                    meanC2_1.append(LAB_imgC2_01[i][j])\n",
        "meanC2_1 = np.array(meanC2_1)\n",
        "\n",
        "labC2_1 = list()\n",
        "for i in range(3):\n",
        "    labC2_1.append(meanC2_1[:,i].mean())\n",
        "labC2_1"
      ],
      "execution_count": 391,
      "outputs": [
        {
          "output_type": "execute_result",
          "data": {
            "text/plain": [
              "[196.07093580066552, 128.90625760896032, 151.35995454914374]"
            ]
          },
          "metadata": {},
          "execution_count": 391
        }
      ]
    },
    {
      "cell_type": "code",
      "metadata": {
        "id": "ynKP6UMeTIph",
        "colab": {
          "base_uri": "https://localhost:8080/"
        },
        "outputId": "14804fe5-c1bc-4c79-f53c-b8a288afc4b6"
      },
      "source": [
        "meanC2_2 = list() \n",
        "for i in range(LAB_imgC2_02.shape[0]): \n",
        "     for j in range(LAB_imgC2_02.shape[1]): \n",
        "                if 1769<i<1881 and 2019<j<2131 :\n",
        "                    meanC2_2.append(LAB_imgC2_02[i][j])\n",
        "meanC2_2 = np.array(meanC2_2)\n",
        "\n",
        "labC2_2 = list()\n",
        "for i in range(3):\n",
        "    labC2_2.append(meanC2_2[:,i].mean())\n",
        "labC2_2"
      ],
      "execution_count": 392,
      "outputs": [
        {
          "output_type": "execute_result",
          "data": {
            "text/plain": [
              "[200.46083921759598, 129.16159402645889, 151.7006736466196]"
            ]
          },
          "metadata": {},
          "execution_count": 392
        }
      ]
    },
    {
      "cell_type": "code",
      "metadata": {
        "id": "E93hzyazUE1G",
        "colab": {
          "base_uri": "https://localhost:8080/"
        },
        "outputId": "203a4361-52ba-4ad1-8231-dbc3f9f0a7bc"
      },
      "source": [
        "meanC2_3 = list() \n",
        "for i in range(LAB_imgC2_03.shape[0]): \n",
        "     for j in range(LAB_imgC2_03.shape[1]): \n",
        "                if 1769<i<1881 and 2019<j<2131 :\n",
        "                    meanC2_3.append(LAB_imgC2_03[i][j])\n",
        "meanC2_3 = np.array(meanC2_3)\n",
        "\n",
        "labC2_3 = list()\n",
        "for i in range(3):\n",
        "    labC2_3.append(meanC2_3[:,i].mean())\n",
        "labC2_3"
      ],
      "execution_count": 393,
      "outputs": [
        {
          "output_type": "execute_result",
          "data": {
            "text/plain": [
              "[199.27716906095284, 124.71487703920137, 148.78605632659688]"
            ]
          },
          "metadata": {},
          "execution_count": 393
        }
      ]
    },
    {
      "cell_type": "code",
      "metadata": {
        "id": "eQ6z3tyhURGG",
        "colab": {
          "base_uri": "https://localhost:8080/"
        },
        "outputId": "a6cdfaaf-5103-41ca-dd99-1211de409cde"
      },
      "source": [
        "meanC2_4 = list() \n",
        "for i in range(LAB_imgC2_04.shape[0]): \n",
        "     for j in range(LAB_imgC2_04.shape[1]): \n",
        "                if 1769<i<1881 and 2019<j<2131 :\n",
        "                    meanC2_4.append(LAB_imgC2_04[i][j])\n",
        "meanC2_4 = np.array(meanC2_4)\n",
        "\n",
        "labC2_4 = list()\n",
        "for i in range(3):\n",
        "    labC2_4.append(meanC2_4[:,i].mean())\n",
        "labC2_4"
      ],
      "execution_count": 394,
      "outputs": [
        {
          "output_type": "execute_result",
          "data": {
            "text/plain": [
              "[199.59110461813165, 122.6022238454671, 152.61829396964532]"
            ]
          },
          "metadata": {},
          "execution_count": 394
        }
      ]
    },
    {
      "cell_type": "markdown",
      "metadata": {
        "id": "_gAxAhYBUYIK"
      },
      "source": [
        "C3"
      ]
    },
    {
      "cell_type": "code",
      "metadata": {
        "id": "PnODt_2UUY2N",
        "colab": {
          "base_uri": "https://localhost:8080/"
        },
        "outputId": "68623fc6-2236-4201-e70e-1273bffcef04"
      },
      "source": [
        "meanC3_1 = list() \n",
        "for i in range(LAB_imgC3_01.shape[0]): \n",
        "     for j in range(LAB_imgC3_01.shape[1]): \n",
        "                if 1769<i<1881 and 2019<j<2131 :\n",
        "                    meanC3_1.append(LAB_imgC3_01[i][j])\n",
        "meanC3_1 = np.array(meanC3_1)\n",
        "\n",
        "labC3_1 = list()\n",
        "for i in range(3):\n",
        "    labC3_1.append(meanC3_1[:,i].mean())\n",
        "labC3_1"
      ],
      "execution_count": 395,
      "outputs": [
        {
          "output_type": "execute_result",
          "data": {
            "text/plain": [
              "[193.22262803343884, 130.01947893839787, 153.8200633065498]"
            ]
          },
          "metadata": {},
          "execution_count": 395
        }
      ]
    },
    {
      "cell_type": "code",
      "metadata": {
        "id": "4vYztEifVL9j",
        "colab": {
          "base_uri": "https://localhost:8080/"
        },
        "outputId": "fc870685-4084-4c6f-f25f-696823124a25"
      },
      "source": [
        "meanC3_3 = list() \n",
        "for i in range(LAB_imgC3_03.shape[0]): \n",
        "     for j in range(LAB_imgC3_03.shape[1]): \n",
        "                if 1769<i<1881 and 2019<j<2131 :\n",
        "                    meanC3_3.append(LAB_imgC3_03[i][j])\n",
        "meanC3_3 = np.array(meanC3_3)\n",
        "\n",
        "labC3_3 = list()\n",
        "for i in range(3):\n",
        "    labC3_3.append(meanC3_3[:,i].mean())\n",
        "labC3_3"
      ],
      "execution_count": 396,
      "outputs": [
        {
          "output_type": "execute_result",
          "data": {
            "text/plain": [
              "[179.67218569921272, 124.7133349565782, 149.57040824608393]"
            ]
          },
          "metadata": {},
          "execution_count": 396
        }
      ]
    },
    {
      "cell_type": "code",
      "metadata": {
        "id": "RgAVjILGVVVi",
        "colab": {
          "base_uri": "https://localhost:8080/"
        },
        "outputId": "ead01803-4873-4352-9dab-f27f9c13fac4"
      },
      "source": [
        "meanC3_4 = list() \n",
        "for i in range(LAB_imgC3_04.shape[0]): \n",
        "     for j in range(LAB_imgC3_04.shape[1]): \n",
        "                if 1769<i<1881 and 2019<j<2131 :\n",
        "                    meanC3_4.append(LAB_imgC3_04[i][j])\n",
        "meanC3_4 = np.array(meanC3_4)\n",
        "\n",
        "labC3_4 = list()\n",
        "for i in range(3):\n",
        "    labC3_4.append(meanC3_4[:,i].mean())\n",
        "labC3_4"
      ],
      "execution_count": 397,
      "outputs": [
        {
          "output_type": "execute_result",
          "data": {
            "text/plain": [
              "[181.57933609284962, 123.01347293239185, 153.96185374563754]"
            ]
          },
          "metadata": {},
          "execution_count": 397
        }
      ]
    },
    {
      "cell_type": "code",
      "metadata": {
        "id": "E2A3VnaTVhdF",
        "colab": {
          "base_uri": "https://localhost:8080/"
        },
        "outputId": "4f427ab8-29da-45fc-90d1-8b7e4716b78d"
      },
      "source": [
        "meanC3_2 = list() \n",
        "for i in range(LAB_imgC3_02.shape[0]): \n",
        "     for j in range(LAB_imgC3_02.shape[1]): \n",
        "                if 1769<i<1881 and 2019<j<2131 :\n",
        "                    meanC3_2.append(LAB_imgC3_02[i][j])\n",
        "meanC3_2 = np.array(meanC3_2)\n",
        "\n",
        "labC3_2 = list()\n",
        "for i in range(3):\n",
        "    labC3_2.append(meanC3_2[:,i].mean())\n",
        "labC3_2"
      ],
      "execution_count": 398,
      "outputs": [
        {
          "output_type": "execute_result",
          "data": {
            "text/plain": [
              "[196.81917052187322, 129.93872250629008, 153.5417579741904]"
            ]
          },
          "metadata": {},
          "execution_count": 398
        }
      ]
    },
    {
      "cell_type": "markdown",
      "metadata": {
        "id": "wozLumwnVpsd"
      },
      "source": [
        "C4"
      ]
    },
    {
      "cell_type": "code",
      "metadata": {
        "id": "L4-leGI1Vpep",
        "colab": {
          "base_uri": "https://localhost:8080/"
        },
        "outputId": "f7518128-e109-4b23-a6d9-da409940ed38"
      },
      "source": [
        "meanC4_2 = list() \n",
        "for i in range(LAB_imgC4_02.shape[0]): \n",
        "     for j in range(LAB_imgC4_02.shape[1]): \n",
        "                if 1769<i<1881 and 2019<j<2131 :\n",
        "                    meanC4_2.append(LAB_imgC4_02[i][j])\n",
        "meanC4_2 = np.array(meanC4_2)\n",
        "\n",
        "labC4_2 = list()\n",
        "for i in range(3):\n",
        "    labC4_2.append(meanC4_2[:,i].mean())\n",
        "labC4_2"
      ],
      "execution_count": 399,
      "outputs": [
        {
          "output_type": "execute_result",
          "data": {
            "text/plain": [
              "[187.0509698888077, 130.44971999026052, 156.30590049508967]"
            ]
          },
          "metadata": {},
          "execution_count": 399
        }
      ]
    },
    {
      "cell_type": "code",
      "metadata": {
        "id": "wCstVvzCW3ch",
        "colab": {
          "base_uri": "https://localhost:8080/"
        },
        "outputId": "b7cbfc21-3194-44fa-d754-e4477d0dc535"
      },
      "source": [
        "meanC4_1 = list() \n",
        "for i in range(LAB_imgC4_01.shape[0]): \n",
        "     for j in range(LAB_imgC4_01.shape[1]): \n",
        "                if 1769<i<1881 and 2019<j<2131 :\n",
        "                    meanC4_1.append(LAB_imgC4_01[i][j])\n",
        "meanC4_1 = np.array(meanC4_1)\n",
        "\n",
        "labC4_1 = list()\n",
        "for i in range(3):\n",
        "    labC4_1.append(meanC4_1[:,i].mean())\n",
        "labC4_1"
      ],
      "execution_count": 400,
      "outputs": [
        {
          "output_type": "execute_result",
          "data": {
            "text/plain": [
              "[181.9926953981008, 130.08457105754403, 155.2208424640857]"
            ]
          },
          "metadata": {},
          "execution_count": 400
        }
      ]
    },
    {
      "cell_type": "code",
      "metadata": {
        "id": "oZ5wcP8wW4l-",
        "colab": {
          "base_uri": "https://localhost:8080/"
        },
        "outputId": "3a8e04f3-5111-4757-84c7-d0e997be4a83"
      },
      "source": [
        "meanC4_3 = list() \n",
        "for i in range(LAB_imgC4_03.shape[0]): \n",
        "     for j in range(LAB_imgC4_03.shape[1]): \n",
        "                if 1769<i<1881 and 2019<j<2131 :\n",
        "                    meanC4_3.append(LAB_imgC4_03[i][j])\n",
        "meanC4_3 = np.array(meanC4_3)\n",
        "\n",
        "labC4_3 = list()\n",
        "for i in range(3):\n",
        "    labC4_3.append(meanC4_3[:,i].mean())\n",
        "labC4_3"
      ],
      "execution_count": 401,
      "outputs": [
        {
          "output_type": "execute_result",
          "data": {
            "text/plain": [
              "[170.10380650921192, 125.82420258095934, 151.39493547601657]"
            ]
          },
          "metadata": {},
          "execution_count": 401
        }
      ]
    },
    {
      "cell_type": "code",
      "metadata": {
        "id": "4RbAizT-W5AI",
        "colab": {
          "base_uri": "https://localhost:8080/"
        },
        "outputId": "bd2f4a5c-1f9f-4b92-cf34-28e29fe2f9ca"
      },
      "source": [
        "meanC4_4 = list() \n",
        "for i in range(LAB_imgC4_04.shape[0]): \n",
        "     for j in range(LAB_imgC4_04.shape[1]): \n",
        "                if 1769<i<1881 and 2019<j<2131 :\n",
        "                    meanC4_4.append(LAB_imgC4_04[i][j])\n",
        "meanC4_4 = np.array(meanC4_4)\n",
        "\n",
        "labC4_4 = list()\n",
        "for i in range(3):\n",
        "    labC4_4.append(meanC4_4[:,i].mean())\n",
        "labC4_4"
      ],
      "execution_count": 402,
      "outputs": [
        {
          "output_type": "execute_result",
          "data": {
            "text/plain": [
              "[171.436571706842, 124.17498579660742, 153.25663501339176]"
            ]
          },
          "metadata": {},
          "execution_count": 402
        }
      ]
    },
    {
      "cell_type": "markdown",
      "metadata": {
        "id": "zKlDyQHQXMFL"
      },
      "source": [
        "D2"
      ]
    },
    {
      "cell_type": "code",
      "metadata": {
        "id": "Ul4cDLOoXL2B",
        "colab": {
          "base_uri": "https://localhost:8080/"
        },
        "outputId": "d51eb294-3241-4f28-e515-d763c4759a5e"
      },
      "source": [
        "meanD2_4 = list() \n",
        "for i in range(LAB_imgD2_04.shape[0]): \n",
        "     for j in range(LAB_imgD2_04.shape[1]): \n",
        "                if 1769<i<1881 and 2019<j<2131 :\n",
        "                    meanD2_4.append(LAB_imgD2_04[i][j])\n",
        "meanD2_4 = np.array(meanD2_4)\n",
        "\n",
        "labD2_4 = list()\n",
        "for i in range(3):\n",
        "    labD2_4.append(meanD2_4[:,i].mean())\n",
        "labD2_4"
      ],
      "execution_count": 403,
      "outputs": [
        {
          "output_type": "execute_result",
          "data": {
            "text/plain": [
              "[216.49435922408895, 125.83913643373103, 143.47244541839137]"
            ]
          },
          "metadata": {},
          "execution_count": 403
        }
      ]
    },
    {
      "cell_type": "code",
      "metadata": {
        "id": "MPc9VyCaXYAE",
        "colab": {
          "base_uri": "https://localhost:8080/"
        },
        "outputId": "cb988c4e-3da1-49d4-fe4a-5f33caf26338"
      },
      "source": [
        "meanD2_1 = list() \n",
        "for i in range(LAB_imgD2_01.shape[0]): \n",
        "     for j in range(LAB_imgD2_01.shape[1]): \n",
        "                if 1769<i<1881 and 2019<j<2131 :\n",
        "                    meanD2_1.append(LAB_imgD2_01[i][j])\n",
        "meanD2_1 = np.array(meanD2_1)\n",
        "\n",
        "labD2_1 = list()\n",
        "for i in range(3):\n",
        "    labD2_1.append(meanD2_1[:,i].mean())\n",
        "labD2_1"
      ],
      "execution_count": 404,
      "outputs": [
        {
          "output_type": "execute_result",
          "data": {
            "text/plain": [
              "[207.5313692070449, 128.587939290642, 145.33763493222952]"
            ]
          },
          "metadata": {},
          "execution_count": 404
        }
      ]
    },
    {
      "cell_type": "code",
      "metadata": {
        "id": "8C3joajEXZQv",
        "colab": {
          "base_uri": "https://localhost:8080/"
        },
        "outputId": "6f4d7924-ee4d-43d6-af17-d22b263aa16d"
      },
      "source": [
        "meanD2_2 = list() \n",
        "for i in range(LAB_imgD2_02.shape[0]): \n",
        "     for j in range(LAB_imgD2_02.shape[1]): \n",
        "                if 1769<i<1881 and 2019<j<2131 :\n",
        "                    meanD2_2.append(LAB_imgD2_02[i][j])\n",
        "meanD2_2 = np.array(meanD2_2)\n",
        "\n",
        "labD2_2 = list()\n",
        "for i in range(3):\n",
        "    labD2_2.append(meanD2_2[:,i].mean())\n",
        "labD2_2"
      ],
      "execution_count": 405,
      "outputs": [
        {
          "output_type": "execute_result",
          "data": {
            "text/plain": [
              "[202.04147390633878, 128.3920947975002, 145.89116143170196]"
            ]
          },
          "metadata": {},
          "execution_count": 405
        }
      ]
    },
    {
      "cell_type": "code",
      "metadata": {
        "id": "P7AmF-1OXY3y",
        "colab": {
          "base_uri": "https://localhost:8080/"
        },
        "outputId": "15d3f68e-effd-4dbc-ce42-cc8a2a557389"
      },
      "source": [
        "meanD2_3 = list() \n",
        "for i in range(LAB_imgD2_03.shape[0]): \n",
        "     for j in range(LAB_imgD2_03.shape[1]): \n",
        "                if 1769<i<1881 and 2019<j<2131 :\n",
        "                    meanD2_3.append(LAB_imgD2_03[i][j])\n",
        "meanD2_3 = np.array(meanD2_3)\n",
        "\n",
        "labD2_3 = list()\n",
        "for i in range(3):\n",
        "    labD2_3.append(meanD2_3[:,i].mean())\n",
        "labD2_3"
      ],
      "execution_count": 406,
      "outputs": [
        {
          "output_type": "execute_result",
          "data": {
            "text/plain": [
              "[216.572680788897, 125.92646700754808, 143.30143657170683]"
            ]
          },
          "metadata": {},
          "execution_count": 406
        }
      ]
    },
    {
      "cell_type": "markdown",
      "metadata": {
        "id": "iH_Tsc2EXwLf"
      },
      "source": [
        "D3"
      ]
    },
    {
      "cell_type": "code",
      "metadata": {
        "id": "lodYBglRYq8f",
        "colab": {
          "base_uri": "https://localhost:8080/"
        },
        "outputId": "8e6ee7a3-8f63-4393-de82-3454f28a8d69"
      },
      "source": [
        "meanD3_4 = list() \n",
        "for i in range(LAB_imgD3_04.shape[0]): \n",
        "     for j in range(LAB_imgD3_04.shape[1]): \n",
        "                if 1769<i<1881 and 2019<j<2131 :\n",
        "                    meanD3_4.append(LAB_imgD3_04[i][j])\n",
        "meanD3_4 = np.array(meanD3_4)\n",
        "\n",
        "labD3_4 = list()\n",
        "for i in range(3):\n",
        "    labD3_4.append(meanD3_4[:,i].mean())\n",
        "labD3_4"
      ],
      "execution_count": 407,
      "outputs": [
        {
          "output_type": "execute_result",
          "data": {
            "text/plain": [
              "[213.75318561805048, 124.15575034493953, 151.51205259313366]"
            ]
          },
          "metadata": {},
          "execution_count": 407
        }
      ]
    },
    {
      "cell_type": "code",
      "metadata": {
        "id": "4HvoI0ngYv3b",
        "colab": {
          "base_uri": "https://localhost:8080/"
        },
        "outputId": "572c545b-9abe-4ba4-c034-b0ea6d340fe6"
      },
      "source": [
        "meanD3_2 = list() \n",
        "for i in range(LAB_imgD3_02.shape[0]): \n",
        "     for j in range(LAB_imgD3_02.shape[1]): \n",
        "                if 1769<i<1881 and 2019<j<2131 :\n",
        "                    meanD3_2.append(LAB_imgD3_02[i][j])\n",
        "meanD3_2 = np.array(meanD3_2)\n",
        "\n",
        "labD3_2 = list()\n",
        "for i in range(3):\n",
        "    labD3_2.append(meanD3_2[:,i].mean())\n",
        "labD3_2"
      ],
      "execution_count": 408,
      "outputs": [
        {
          "output_type": "execute_result",
          "data": {
            "text/plain": [
              "[203.04593782972162, 129.89976462949437, 152.1662202743284]"
            ]
          },
          "metadata": {},
          "execution_count": 408
        }
      ]
    },
    {
      "cell_type": "code",
      "metadata": {
        "id": "_qFI-tsZXxd7",
        "colab": {
          "base_uri": "https://localhost:8080/"
        },
        "outputId": "2c637ff9-5193-4e51-b945-62733d887948"
      },
      "source": [
        "meanD3_1 = list() \n",
        "for i in range(LAB_imgD3_01.shape[0]): \n",
        "     for j in range(LAB_imgD3_01.shape[1]): \n",
        "                if 1769<i<1881 and 2019<j<2131 :\n",
        "                    meanD3_1.append(LAB_imgD3_01[i][j])\n",
        "meanD3_1 = np.array(meanD3_1)\n",
        "\n",
        "labD3_1 = list()\n",
        "for i in range(3):\n",
        "    labD3_1.append(meanD3_1[:,i].mean())\n",
        "labD3_1 "
      ],
      "execution_count": 409,
      "outputs": [
        {
          "output_type": "execute_result",
          "data": {
            "text/plain": [
              "[199.68565863160458, 129.87923058193329, 152.1217433649866]"
            ]
          },
          "metadata": {},
          "execution_count": 409
        }
      ]
    },
    {
      "cell_type": "code",
      "metadata": {
        "id": "GZMjU-UQY0yi",
        "colab": {
          "base_uri": "https://localhost:8080/"
        },
        "outputId": "89b55876-cc9b-404c-8b6f-beea8d443b26"
      },
      "source": [
        "meanD3_3 = list() \n",
        "for i in range(LAB_imgD3_03.shape[0]): \n",
        "     for j in range(LAB_imgD3_03.shape[1]): \n",
        "                if 1769<i<1881 and 2019<j<2131 :\n",
        "                    meanD3_3.append(LAB_imgD3_03[i][j])\n",
        "meanD3_3 = np.array(meanD3_3)\n",
        "\n",
        "labD3_3 = list()\n",
        "for i in range(3):\n",
        "    labD3_3.append(meanD3_3[:,i].mean())\n",
        "labD3_3"
      ],
      "execution_count": 410,
      "outputs": [
        {
          "output_type": "execute_result",
          "data": {
            "text/plain": [
              "[212.41619998376754, 125.40491843194546, 150.52885317750182]"
            ]
          },
          "metadata": {},
          "execution_count": 410
        }
      ]
    },
    {
      "cell_type": "markdown",
      "metadata": {
        "id": "UrzhmbP9Y5u5"
      },
      "source": [
        "D4 "
      ]
    },
    {
      "cell_type": "code",
      "metadata": {
        "id": "kiQNtAKPY8yy",
        "colab": {
          "base_uri": "https://localhost:8080/"
        },
        "outputId": "db67fb93-bcb1-480f-e28a-3f623515d2d0"
      },
      "source": [
        "meanD4_1 = list() \n",
        "for i in range(LAB_imgD4_01.shape[0]): \n",
        "     for j in range(LAB_imgD4_01.shape[1]): \n",
        "                if 1769<i<1881 and 2019<j<2131 :\n",
        "                    meanD4_1.append(LAB_imgD4_01[i][j])\n",
        "meanD4_1 = np.array(meanD4_1)\n",
        "\n",
        "labD4_1 = list()\n",
        "for i in range(3):\n",
        "    labD4_1.append(meanD4_1[:,i].mean())\n",
        "labD4_1"
      ],
      "execution_count": 411,
      "outputs": [
        {
          "output_type": "execute_result",
          "data": {
            "text/plain": [
              "[199.49874198522846, 128.43543543543544, 155.33731028325622]"
            ]
          },
          "metadata": {},
          "execution_count": 411
        }
      ]
    },
    {
      "cell_type": "code",
      "metadata": {
        "id": "0kEogEJKY_Ff",
        "colab": {
          "base_uri": "https://localhost:8080/"
        },
        "outputId": "5caa0ce5-00b8-4615-a339-bd78f44714dd"
      },
      "source": [
        "meanD4_2 = list() \n",
        "for i in range(LAB_imgD4_02.shape[0]): \n",
        "     for j in range(LAB_imgD4_02.shape[1]): \n",
        "                if 1769<i<1881 and 2019<j<2131 :\n",
        "                    meanD4_2.append(LAB_imgD4_02[i][j])\n",
        "meanD4_2 = np.array(meanD4_2)\n",
        "\n",
        "labD4_2 = list()\n",
        "for i in range(3):\n",
        "    labD4_2.append(meanD4_2[:,i].mean())\n",
        "labD4_2"
      ],
      "execution_count": 412,
      "outputs": [
        {
          "output_type": "execute_result",
          "data": {
            "text/plain": [
              "[190.6657738819901, 128.64572680788896, 154.22571219868516]"
            ]
          },
          "metadata": {},
          "execution_count": 412
        }
      ]
    },
    {
      "cell_type": "code",
      "metadata": {
        "id": "qpWzE6RQyObz",
        "colab": {
          "base_uri": "https://localhost:8080/"
        },
        "outputId": "1c298b7f-935b-43aa-ce93-60081812fad4"
      },
      "source": [
        "meanD4_3 = list() \n",
        "for i in range(LAB_imgD4_03.shape[0]): \n",
        "     for j in range(LAB_imgD4_03.shape[1]): \n",
        "                if 1769<i<1881 and 2019<j<2131 :\n",
        "                    meanD4_3.append(LAB_imgD4_03[i][j])\n",
        "meanD4_3 = np.array(meanD4_3)\n",
        "\n",
        "labD4_3 = list()\n",
        "for i in range(3):\n",
        "    labD4_3.append(meanD4_3[:,i].mean())\n",
        "labD4_3"
      ],
      "execution_count": 413,
      "outputs": [
        {
          "output_type": "execute_result",
          "data": {
            "text/plain": [
              "[208.99553607661716, 124.29015501988475, 154.81868354841328]"
            ]
          },
          "metadata": {},
          "execution_count": 413
        }
      ]
    },
    {
      "cell_type": "code",
      "metadata": {
        "id": "XQknaIrNyPN_",
        "colab": {
          "base_uri": "https://localhost:8080/"
        },
        "outputId": "efd0776f-d546-40b5-ea3b-5b6c1fa7b884"
      },
      "source": [
        "meanD4_4 = list() \n",
        "for i in range(LAB_imgD4_04.shape[0]): \n",
        "     for j in range(LAB_imgD4_04.shape[1]): \n",
        "                if 1769<i<1881 and 2019<j<2131 :\n",
        "                    meanD4_4.append(LAB_imgD4_04[i][j])\n",
        "meanD4_4 = np.array(meanD4_4)\n",
        "\n",
        "labD4_4 = list()\n",
        "for i in range(3):\n",
        "    labD4_4.append(meanD4_4[:,i].mean())\n",
        "labD4_4"
      ],
      "execution_count": 414,
      "outputs": [
        {
          "output_type": "execute_result",
          "data": {
            "text/plain": [
              "[208.6176446716987, 123.03173443713985, 155.95730866001136]"
            ]
          },
          "metadata": {},
          "execution_count": 414
        }
      ]
    },
    {
      "cell_type": "markdown",
      "metadata": {
        "id": "IdOvf3XXgumA"
      },
      "source": [
        "#คำนวณระยะห่างระหว่างจุดแบบ Euclidean distance"
      ]
    },
    {
      "cell_type": "code",
      "metadata": {
        "id": "9zPD-56Zgxef"
      },
      "source": [
        "from scipy.spatial import distance"
      ],
      "execution_count": 415,
      "outputs": []
    },
    {
      "cell_type": "markdown",
      "metadata": {
        "id": "fYTcj_FrkWhp"
      },
      "source": [
        "A1"
      ]
    },
    {
      "cell_type": "code",
      "metadata": {
        "id": "7-9sfK9rjy_Y"
      },
      "source": [
        "UA1A1_1 = distance.euclidean(labA1_1,labA1_3)\n",
        "UA1A1_2 = distance.euclidean(labA1_2,labA1_4)\n",
        "UA1A2_1 = distance.euclidean(labA1_1,labA2_3)\n",
        "UA1A2_2 = distance.euclidean(labA1_2,labA2_4)\n",
        "UA1A3_1 = distance.euclidean(labA1_1,labA3_3)\n",
        "UA1A3_2 = distance.euclidean(labA1_2,labA3_4)\n",
        "UA1A3_51 = distance.euclidean(labA1_1,labA3_503) \n",
        "UA1A3_52 = distance.euclidean(labA1_2,labA3_504)\n",
        "UA1A4_1 = distance.euclidean(labA1_1,labA4_3)\n",
        "UA1A4_2 = distance.euclidean(labA1_2,labA4_4)\n",
        "UA1B1_1 = distance.euclidean(labA1_1,labB1_3)\n",
        "UA1B1_2 = distance.euclidean(labA1_2,labB1_4)\n",
        "UA1B2_1 = distance.euclidean(labA1_1,labB2_3)\n",
        "UA1B2_2 = distance.euclidean(labA1_2,labB2_4)\n",
        "UA1B3_1 = distance.euclidean(labA1_1,labB3_3)\n",
        "UA1B3_2 = distance.euclidean(labA1_2,labB3_4)\n",
        "UA1B4_1 = distance.euclidean(labA1_1,labB4_3)\n",
        "UA1B4_2 = distance.euclidean(labA1_2,labB4_4)\n",
        "UA1C1_1 = distance.euclidean(labA1_1,labC1_3)\n",
        "UA1C1_2 = distance.euclidean(labA1_2,labC1_4)\n",
        "UA1C2_1 = distance.euclidean(labA1_1,labC2_3)\n",
        "UA1C2_2 = distance.euclidean(labA1_2,labC2_4)\n",
        "UA1C3_1 = distance.euclidean(labA1_1,labC3_3)\n",
        "UA1C3_2 = distance.euclidean(labA1_2,labC3_4)\n",
        "UA1C4_1 = distance.euclidean(labA1_1,labC4_3)\n",
        "UA1C4_2 = distance.euclidean(labA1_2,labC4_4)\n",
        "UA1D2_1 = distance.euclidean(labA1_1,labD2_3)\n",
        "UA1D2_2 = distance.euclidean(labA1_2,labD2_4)\n",
        "UA1D3_1 = distance.euclidean(labA1_1,labD3_3)\n",
        "UA1D3_2 = distance.euclidean(labA1_2,labD3_4)\n",
        "UA1D4_1 = distance.euclidean(labA1_1,labD4_3)\n",
        "UA1D4_2 = distance.euclidean(labA1_2,labD4_4)"
      ],
      "execution_count": 416,
      "outputs": []
    },
    {
      "cell_type": "code",
      "metadata": {
        "id": "GLlQnt9q5FpU"
      },
      "source": [
        "UA1A1 = (UA1A1_1+UA1A1_2)/2\n",
        "UA1A2 = (UA1A2_1+UA1A2_2)/2\n",
        "UA1A3 = (UA1A3_1+UA1A3_2)/2\n",
        "UA1A3_5 = (UA1A3_51+UA1A3_52)/2\n",
        "UA1A4 = (UA1A4_1+UA1A4_2)/2\n",
        "UA1B1 = (UA1B1_1+UA1B1_2)/2\n",
        "UA1B2 = (UA1B2_1+UA1B2_2)/2\n",
        "UA1B3 = (UA1B3_1+UA1B3_2)/2\n",
        "UA1B4 = (UA1B4_1+UA1B4_2)/2\n",
        "UA1C1 = (UA1C1_1+UA1C1_2)/2\n",
        "UA1C2 = (UA1C2_1+UA1C2_2)/2\n",
        "UA1C3 = (UA1C3_1+UA1C3_2)/2\n",
        "UA1C4 = (UA1C4_1+UA1C4_2)/2\n",
        "UA1D2 = (UA1D2_1+UA1D2_2)/2\n",
        "UA1D3 = (UA1D3_1+UA1D3_2)/2\n",
        "UA1D4 = (UA1D4_1+UA1D4_2)/2"
      ],
      "execution_count": 417,
      "outputs": []
    },
    {
      "cell_type": "markdown",
      "metadata": {
        "id": "A4O7ZP5wANVY"
      },
      "source": [
        "A2"
      ]
    },
    {
      "cell_type": "code",
      "metadata": {
        "id": "qYDLZVQZAOI-"
      },
      "source": [
        "UA2A1_1 = distance.euclidean(labA2_1,labA1_4)\n",
        "UA2A1_2 = distance.euclidean(labA2_2,labA1_3)\n",
        "UA2A2_2 = distance.euclidean(labA2_1,labA2_4)\n",
        "UA2A2_1 = distance.euclidean(labA2_2,labA2_3)\n",
        "UA2A3_1 = distance.euclidean(labA2_1,labA3_4)\n",
        "UA2A3_2 = distance.euclidean(labA2_2,labA3_3)\n",
        "UA2A3_51 = distance.euclidean(labA2_1,labA3_504)\n",
        "UA2A3_52 = distance.euclidean(labA2_2,labA3_503)\n",
        "UA2A4_1 = distance.euclidean(labA2_1,labA4_4)\n",
        "UA2A4_2 = distance.euclidean(labA2_2,labA4_3)\n",
        "UA2B1_1 = distance.euclidean(labA2_1,labB1_4)\n",
        "UA2B1_2 = distance.euclidean(labA2_2,labB1_3)\n",
        "UA2B2_1 = distance.euclidean(labA2_1,labB2_4)\n",
        "UA2B2_2 = distance.euclidean(labA2_2,labB2_3)\n",
        "UA2B3_1 = distance.euclidean(labA2_1,labB3_4)\n",
        "UA2B3_2 = distance.euclidean(labA2_2,labB3_3)\n",
        "UA2B4_1 = distance.euclidean(labA2_1,labB4_4)\n",
        "UA2B4_2 = distance.euclidean(labA2_2,labB4_3)\n",
        "UA2C1_1 = distance.euclidean(labA2_1,labC1_4)\n",
        "UA2C1_2 = distance.euclidean(labA2_2,labC1_3)\n",
        "UA2C2_1 = distance.euclidean(labA2_1,labC2_4)\n",
        "UA2C2_2 = distance.euclidean(labA2_2,labC2_3)\n",
        "UA2C3_1 = distance.euclidean(labA2_1,labC3_4)\n",
        "UA2C3_2 = distance.euclidean(labA2_2,labC3_3)\n",
        "UA2C4_1 = distance.euclidean(labA2_1,labC4_4)\n",
        "UA2C4_2 = distance.euclidean(labA2_2,labC4_3)\n",
        "UA2D2_1 = distance.euclidean(labA2_1,labD2_4)\n",
        "UA2D2_2 = distance.euclidean(labA2_2,labD2_3)\n",
        "UA2D3_1 = distance.euclidean(labA2_1,labD3_4)\n",
        "UA2D3_2 = distance.euclidean(labA2_2,labD3_3)\n",
        "UA2D4_1 = distance.euclidean(labA2_1,labD4_4)\n",
        "UA2D4_2 = distance.euclidean(labA2_2,labD4_3)"
      ],
      "execution_count": 418,
      "outputs": []
    },
    {
      "cell_type": "code",
      "metadata": {
        "id": "0IDzb76_7IfX"
      },
      "source": [
        "UA2A1 = (UA2A1_1+UA2A1_2)/2\n",
        "UA2A2 = (UA2A2_1+UA2A2_2)/2\n",
        "UA2A3 = (UA2A3_1+UA2A3_2)/2\n",
        "UA2A3_5 = (UA2A3_51+UA2A3_52)/2\n",
        "UA2A4 = (UA2A4_1+UA2A4_2)/2\n",
        "UA2B1 = (UA2B1_1+UA2B1_2)/2\n",
        "UA2B2 = (UA2B2_1+UA2B2_2)/2\n",
        "UA2B3 = (UA2B3_1+UA2B3_2)/2\n",
        "UA2B4 = (UA2B4_1+UA2B4_2)/2\n",
        "UA2C1 = (UA2C1_1+UA2C1_2)/2\n",
        "UA2C2 = (UA2C2_1+UA2C2_2)/2\n",
        "UA2C3 = (UA2C3_1+UA2C3_2)/2\n",
        "UA2C4 = (UA2C4_1+UA2C4_2)/2\n",
        "UA2D2 = (UA2D2_1+UA2D2_2)/2\n",
        "UA2D3 = (UA2D3_1+UA2D3_2)/2\n",
        "UA2D4 = (UA2D4_1+UA2D4_2)/2"
      ],
      "execution_count": 419,
      "outputs": []
    },
    {
      "cell_type": "markdown",
      "metadata": {
        "id": "LpSNWcPFEEAC"
      },
      "source": [
        "A3"
      ]
    },
    {
      "cell_type": "code",
      "metadata": {
        "id": "8SB0HIL6EFJn"
      },
      "source": [
        "UA3A1_1 = distance.euclidean(labA3_2,labA1_3)\n",
        "UA3A1_2 = distance.euclidean(labA3_1,labA1_4)\n",
        "UA3A2_1 = distance.euclidean(labA3_2,labA2_3)\n",
        "UA3A2_2 = distance.euclidean(labA3_1,labA2_4)\n",
        "UA3A3_1 = distance.euclidean(labA3_2,labA3_3)\n",
        "UA3A3_2 = distance.euclidean(labA3_1,labA3_4)\n",
        "UA3A3_51 = distance.euclidean(labA3_2,labA3_503)\n",
        "UA3A3_52 = distance.euclidean(labA3_1,labA3_504)\n",
        "UA3A4_1 = distance.euclidean(labA3_2,labA4_3)\n",
        "UA3A4_2 = distance.euclidean(labA3_1,labA4_4)\n",
        "UA3B1_1 = distance.euclidean(labA3_2,labB1_3)\n",
        "UA3B1_2 = distance.euclidean(labA3_1,labB1_4)\n",
        "UA3B2_1 = distance.euclidean(labA3_2,labB2_3)\n",
        "UA3B2_2 = distance.euclidean(labA3_1,labB2_4)\n",
        "UA3B3_1 = distance.euclidean(labA3_2,labB3_3)\n",
        "UA3B3_2 = distance.euclidean(labA3_1,labB3_4)\n",
        "UA3B4_1 = distance.euclidean(labA3_2,labB4_3)\n",
        "UA3B4_2 = distance.euclidean(labA3_1,labB4_4)\n",
        "UA3C1_1 = distance.euclidean(labA3_2,labC1_3)\n",
        "UA3C1_2 = distance.euclidean(labA3_1,labC1_4)\n",
        "UA3C2_1 = distance.euclidean(labA3_2,labC2_3)\n",
        "UA3C2_2 = distance.euclidean(labA3_1,labC2_4)\n",
        "UA3C3_1 = distance.euclidean(labA3_2,labC3_3)\n",
        "UA3C3_2 = distance.euclidean(labA3_1,labC3_4)\n",
        "UA3C4_1 = distance.euclidean(labA3_2,labC4_3)\n",
        "UA3C4_2 = distance.euclidean(labA3_1,labC4_4)\n",
        "UA3D2_1 = distance.euclidean(labA3_2,labD2_3)\n",
        "UA3D2_2 = distance.euclidean(labA3_1,labD2_4)\n",
        "UA3D3_1 = distance.euclidean(labA3_2,labD3_3)\n",
        "UA3D3_2 = distance.euclidean(labA3_1,labD3_4)\n",
        "UA3D4_1 = distance.euclidean(labA3_2,labD4_3)\n",
        "UA3D4_2 = distance.euclidean(labA3_1,labD4_4)"
      ],
      "execution_count": 420,
      "outputs": []
    },
    {
      "cell_type": "code",
      "metadata": {
        "id": "iKwP4vNF7YES"
      },
      "source": [
        "UA3A1 = (UA2A1_1+UA2A1_2)/2\n",
        "UA3A2 = (UA3A2_1+UA3A2_2)/2\n",
        "UA3A3 = (UA3A3_1+UA3A3_2)/2\n",
        "UA3A3_5 = (UA3A3_51+UA3A3_52)/2\n",
        "UA3A4 = (UA3A4_1+UA3A4_2)/2\n",
        "UA3B1 = (UA3B1_1+UA3B1_2)/2\n",
        "UA3B2 = (UA3B2_1+UA3B2_2)/2\n",
        "UA3B3 = (UA3B3_1+UA3B3_2)/2\n",
        "UA3B4 = (UA3B4_1+UA3B4_2)/2\n",
        "UA3C1 = (UA3C1_1+UA3C1_2)/2\n",
        "UA3C2 = (UA3C2_1+UA3C2_2)/2\n",
        "UA3C3 = (UA3C3_1+UA3C3_2)/2\n",
        "UA3C4 = (UA3C4_1+UA3C4_2)/2\n",
        "UA3D2 = (UA3D2_1+UA3D2_2)/2\n",
        "UA3D3 = (UA3D3_1+UA3D3_2)/2\n",
        "UA3D4 = (UA3D4_1+UA3D4_2)/2"
      ],
      "execution_count": 421,
      "outputs": []
    },
    {
      "cell_type": "markdown",
      "metadata": {
        "id": "HOBtYix5HZ4-"
      },
      "source": [
        "A3.5"
      ]
    },
    {
      "cell_type": "code",
      "metadata": {
        "id": "saXBQJkbHbYF"
      },
      "source": [
        "UA3_5A1_1 = distance.euclidean(labA3_501,labA1_3)\n",
        "UA3_5A1_2 = distance.euclidean(labA3_502,labA1_4)\n",
        "UA3_5A2_1 = distance.euclidean(labA3_501,labA2_3)\n",
        "UA3_5A2_2 = distance.euclidean(labA3_502,labA2_4)\n",
        "UA3_5A3_1 = distance.euclidean(labA3_501,labA3_3)\n",
        "UA3_5A3_2 = distance.euclidean(labA3_502,labA3_4)\n",
        "UA3_5A3_51 = distance.euclidean(labA3_501,labA3_503)\n",
        "UA3_5A3_52 = distance.euclidean(labA3_502,labA3_504)\n",
        "UA3_5A4_1 = distance.euclidean(labA3_501,labA4_3)\n",
        "UA3_5A4_2 = distance.euclidean(labA3_502,labA4_4)\n",
        "UA3_5B1_1 = distance.euclidean(labA3_501,labB1_3)\n",
        "UA3_5B1_2 = distance.euclidean(labA3_502,labB1_4)\n",
        "UA3_5B2_1 = distance.euclidean(labA3_501,labB2_3)\n",
        "UA3_5B2_2 = distance.euclidean(labA3_502,labB2_4)\n",
        "UA3_5B3_1 = distance.euclidean(labA3_501,labB3_3)\n",
        "UA3_5B3_2 = distance.euclidean(labA3_502,labB3_4)\n",
        "UA3_5B4_1 = distance.euclidean(labA3_501,labB4_3)\n",
        "UA3_5B4_2 = distance.euclidean(labA3_502,labB4_4)\n",
        "UA3_5C1_1 = distance.euclidean(labA3_501,labC1_3)\n",
        "UA3_5C1_2 = distance.euclidean(labA3_502,labC1_4)\n",
        "UA3_5C2_1 = distance.euclidean(labA3_501,labC2_3)\n",
        "UA3_5C2_2 = distance.euclidean(labA3_502,labC2_4)\n",
        "UA3_5C3_1 = distance.euclidean(labA3_501,labC3_3)\n",
        "UA3_5C3_2 = distance.euclidean(labA3_502,labC3_4)\n",
        "UA3_5C4_1 = distance.euclidean(labA3_501,labC4_3)\n",
        "UA3_5C4_2 = distance.euclidean(labA3_502,labC4_4)\n",
        "UA3_5D2_1 = distance.euclidean(labA3_501,labD2_3)\n",
        "UA3_5D2_2 = distance.euclidean(labA3_502,labD2_4)\n",
        "UA3_5D3_1 = distance.euclidean(labA3_501,labD3_3)\n",
        "UA3_5D3_2 = distance.euclidean(labA3_502,labD3_4)\n",
        "UA3_5D4_1 = distance.euclidean(labA3_501,labD4_3)\n",
        "UA3_5D4_2 = distance.euclidean(labA3_502,labD4_4)"
      ],
      "execution_count": 422,
      "outputs": []
    },
    {
      "cell_type": "code",
      "metadata": {
        "id": "EVTVI4nj72b9"
      },
      "source": [
        "UA3_5A1 = (UA3_5A1_1+UA3_5A1_2)/2\n",
        "UA3_5A2 = (UA3_5A2_1+UA3_5A2_2)/2\n",
        "UA3_5A3 = (UA3_5A3_1+UA3_5A3_2)/2\n",
        "UA3_5A3_5 = (UA3_5A3_51+UA3_5A3_52)/2\n",
        "UA3_5A4 = (UA3_5A4_1+UA3_5A4_2)/2\n",
        "UA3_5B1 = (UA3_5B1_1+UA3_5B1_2)/2\n",
        "UA3_5B2 = (UA3_5B2_1+UA3_5B2_2)/2\n",
        "UA3_5B3 = (UA3_5B3_1+UA3_5B3_2)/2\n",
        "UA3_5B4 = (UA3_5B4_1+UA3_5B4_2)/2\n",
        "UA3_5C1 = (UA3_5C1_1+UA3_5C1_2)/2\n",
        "UA3_5C2 = (UA3_5C2_1+UA3_5C2_2)/2\n",
        "UA3_5C3 = (UA3_5C3_1+UA3_5C3_2)/2\n",
        "UA3_5C4 = (UA3_5C4_1+UA3_5C4_2)/2\n",
        "UA3_5D2 = (UA3_5D2_1+UA3_5D2_2)/2\n",
        "UA3_5D3 = (UA3_5D3_1+UA3_5D3_2)/2\n",
        "UA3_5D4 = (UA3_5D4_1+UA3_5D4_2)/2"
      ],
      "execution_count": 423,
      "outputs": []
    },
    {
      "cell_type": "markdown",
      "metadata": {
        "id": "v85yIzGiJzxT"
      },
      "source": [
        "A4"
      ]
    },
    {
      "cell_type": "code",
      "metadata": {
        "id": "E1b4WXHaJ2In"
      },
      "source": [
        "UA4A1_1 = distance.euclidean(labA4_2,labA1_3)\n",
        "UA4A1_2 = distance.euclidean(labA4_1,labA1_4)\n",
        "UA4A2_1 = distance.euclidean(labA4_2,labA2_3)\n",
        "UA4A2_2 = distance.euclidean(labA4_1,labA2_4)\n",
        "UA4A3_1 = distance.euclidean(labA4_2,labA3_3)\n",
        "UA4A3_2 = distance.euclidean(labA4_1,labA3_4)\n",
        "UA4A3_51 = distance.euclidean(labA4_2,labA3_503)\n",
        "UA4A3_52 = distance.euclidean(labA4_1,labA3_504)\n",
        "UA4A4_1 = distance.euclidean(labA4_2,labA4_3)\n",
        "UA4A4_2 = distance.euclidean(labA4_1,labA4_4)\n",
        "UA4B1_1 = distance.euclidean(labA4_2,labB1_3)\n",
        "UA4B1_2 = distance.euclidean(labA4_1,labB1_4)\n",
        "UA4B2_1 = distance.euclidean(labA4_2,labB2_3)\n",
        "UA4B2_2 = distance.euclidean(labA4_1,labB2_4)\n",
        "UA4B3_1 = distance.euclidean(labA4_2,labB3_3)\n",
        "UA4B3_2 = distance.euclidean(labA4_1,labB3_4)\n",
        "UA4B4_1 = distance.euclidean(labA4_2,labB4_3)\n",
        "UA4B4_2 = distance.euclidean(labA4_1,labB4_4)\n",
        "UA4C1_1 = distance.euclidean(labA4_2,labC1_3)\n",
        "UA4C1_2 = distance.euclidean(labA4_1,labC1_4)\n",
        "UA4C2_1 = distance.euclidean(labA4_2,labC2_3)\n",
        "UA4C2_2 = distance.euclidean(labA4_1,labC2_4)\n",
        "UA4C3_1 = distance.euclidean(labA4_2,labC3_3)\n",
        "UA4C3_2 = distance.euclidean(labA4_1,labC3_4)\n",
        "UA4C4_1 = distance.euclidean(labA4_2,labC4_3)\n",
        "UA4C4_2 = distance.euclidean(labA4_1,labC4_4)\n",
        "UA4D2_1 = distance.euclidean(labA4_2,labD2_3)\n",
        "UA4D2_2 = distance.euclidean(labA4_1,labD2_4)\n",
        "UA4D3_1 = distance.euclidean(labA4_2,labD3_3)\n",
        "UA4D3_2 = distance.euclidean(labA4_1,labD3_4)\n",
        "UA4D4_1 = distance.euclidean(labA4_2,labD4_3)\n",
        "UA4D4_2 = distance.euclidean(labA4_1,labD4_4)"
      ],
      "execution_count": 424,
      "outputs": []
    },
    {
      "cell_type": "code",
      "metadata": {
        "id": "wf4SX3678xN4"
      },
      "source": [
        "UA4A1 = (UA4A1_1+UA4A1_2)/2\n",
        "UA4A2 = (UA4A2_1+UA4A2_2)/2\n",
        "UA4A3 = (UA4A3_1+UA4A3_2)/2\n",
        "UA4A3_5 = (UA4A3_51+UA4A3_52)/2\n",
        "UA4A4 = (UA4A4_1+UA4A4_2)/2\n",
        "UA4B1 = (UA4B1_1+UA4B1_2)/2\n",
        "UA4B2 = (UA4B2_1+UA4B2_2)/2\n",
        "UA4B3 = (UA4B3_1+UA4B3_2)/2\n",
        "UA4B4 = (UA4B4_1+UA4B4_2)/2\n",
        "UA4C1 = (UA4C1_1+UA4C1_2)/2\n",
        "UA4C2 = (UA4C2_1+UA4C2_2)/2\n",
        "UA4C3 = (UA4C3_1+UA4C3_2)/2\n",
        "UA4C4 = (UA4C4_1+UA4C4_2)/2\n",
        "UA4D2 = (UA4D2_1+UA4D2_2)/2\n",
        "UA4D3 = (UA4D3_1+UA4D3_2)/2\n",
        "UA4D4 = (UA4D4_1+UA4D4_2)/2"
      ],
      "execution_count": 425,
      "outputs": []
    },
    {
      "cell_type": "markdown",
      "metadata": {
        "id": "pdArf5nVLut6"
      },
      "source": [
        "B1"
      ]
    },
    {
      "cell_type": "code",
      "metadata": {
        "id": "XrgU5BFvLwqD"
      },
      "source": [
        "UB1A1_1 = distance.euclidean(labB1_2,labA1_3)\n",
        "UB1A1_2 = distance.euclidean(labB1_1,labA1_4)\n",
        "UB1A2_1 = distance.euclidean(labB1_2,labA2_3)\n",
        "UB1A2_2 = distance.euclidean(labB1_1,labA2_4)\n",
        "UB1A3_1 = distance.euclidean(labB1_2,labA3_3)\n",
        "UB1A3_2 = distance.euclidean(labB1_1,labA3_4)\n",
        "UB1A3_51 = distance.euclidean(labB1_2,labA3_503)\n",
        "UB1A3_52 = distance.euclidean(labB1_1,labA3_504)\n",
        "UB1A4_1 = distance.euclidean(labB1_2,labA4_3)\n",
        "UB1A4_2 = distance.euclidean(labB1_1,labA4_4)\n",
        "UB1B1_1 = distance.euclidean(labB1_2,labB1_3)\n",
        "UB1B1_2 = distance.euclidean(labA4_1,labB1_4)\n",
        "UB1B2_1 = distance.euclidean(labB1_2,labB2_3)\n",
        "UB1B2_2 = distance.euclidean(labB1_1,labB2_4)\n",
        "UB1B3_1 = distance.euclidean(labB1_2,labB3_3)\n",
        "UB1B3_2 = distance.euclidean(labB1_1,labB3_4)\n",
        "UB1B4_1 = distance.euclidean(labB1_2,labB4_3)\n",
        "UB1B4_2 = distance.euclidean(labB1_1,labB4_4)\n",
        "UB1C1_1 = distance.euclidean(labB1_2,labC1_3)\n",
        "UB1C1_2 = distance.euclidean(labB1_1,labC1_4)\n",
        "UB1C2_1 = distance.euclidean(labB1_2,labC2_3)\n",
        "UB1C2_2 = distance.euclidean(labB1_1,labC2_4)\n",
        "UB1C3_1 = distance.euclidean(labB1_2,labC3_3)\n",
        "UB1C3_2 = distance.euclidean(labB1_1,labC3_4)\n",
        "UB1C4_1 = distance.euclidean(labB1_2,labC4_3)\n",
        "UB1C4_2 = distance.euclidean(labB1_1,labC4_4)\n",
        "UB1D2_1 = distance.euclidean(labB1_2,labD2_3)\n",
        "UB1D2_2 = distance.euclidean(labB1_1,labD2_4)\n",
        "UB1D3_1 = distance.euclidean(labB1_2,labD3_3)\n",
        "UB1D3_2 = distance.euclidean(labB1_1,labD3_4)\n",
        "UB1D4_1 = distance.euclidean(labB1_2,labD4_3)\n",
        "UB1D4_2 = distance.euclidean(labB1_1,labD4_4)"
      ],
      "execution_count": 426,
      "outputs": []
    },
    {
      "cell_type": "code",
      "metadata": {
        "id": "-bVweXXn9WSK"
      },
      "source": [
        "UB1A1 = (UB1A1_1+UB1A1_2)/2\n",
        "UB1A2 = (UB1A2_1+UB1A2_2)/2\n",
        "UB1A3 = (UB1A3_1+UB1A3_2)/2\n",
        "UB1A3_5 = (UB1A3_51+UB1A3_52)/2\n",
        "UB1A4 = (UB1A4_1+UB1A4_2)/2\n",
        "UB1B1 = (UB1B1_1+UB1B1_2)/2\n",
        "UB1B2 = (UB1B2_1+UB1B2_2)/2\n",
        "UB1B3 = (UB1B3_1+UB1B3_2)/2\n",
        "UB1B4 = (UB1B4_1+UB1B4_2)/2\n",
        "UB1C1 = (UB1C1_1+UB1C1_2)/2\n",
        "UB1C2 = (UB1C2_1+UB1C2_2)/2\n",
        "UB1C3 = (UB1C3_1+UB1C3_2)/2\n",
        "UB1C4 = (UB1C4_1+UB1C4_2)/2\n",
        "UB1D2 = (UB1D2_1+UB1D2_2)/2\n",
        "UB1D3 = (UB1D3_1+UB1D3_2)/2\n",
        "UB1D4 = (UB1D4_1+UB1D4_2)/2"
      ],
      "execution_count": 427,
      "outputs": []
    },
    {
      "cell_type": "markdown",
      "metadata": {
        "id": "QsTUZnxhQfyq"
      },
      "source": [
        "B2"
      ]
    },
    {
      "cell_type": "code",
      "metadata": {
        "id": "rLZXm0gQQiLG"
      },
      "source": [
        "UB2A1_1 = distance.euclidean(labB2_1,labA1_3)\n",
        "UB2A1_2 = distance.euclidean(labB2_2,labA1_4)\n",
        "UB2A2_1 = distance.euclidean(labB2_1,labA2_3)\n",
        "UB2A2_2 = distance.euclidean(labB2_2,labA2_4)\n",
        "UB2A3_1 = distance.euclidean(labB2_1,labA3_3)\n",
        "UB2A3_2 = distance.euclidean(labB2_2,labA3_4)\n",
        "UB2A3_51 = distance.euclidean(labB2_1,labA3_503)\n",
        "UB2A3_52 = distance.euclidean(labB2_2,labA3_504)\n",
        "UB2A4_1 = distance.euclidean(labB2_1,labA4_3)\n",
        "UB2A4_2 = distance.euclidean(labB2_2,labA4_4)\n",
        "UB2B1_1 = distance.euclidean(labB2_1,labB1_3)\n",
        "UB2B1_2 = distance.euclidean(labB2_2,labB1_4)\n",
        "UB2B2_1 = distance.euclidean(labB2_1,labB2_3)\n",
        "UB2B2_2 = distance.euclidean(labB2_2,labB2_4)\n",
        "UB2B3_1 = distance.euclidean(labB2_1,labB3_3)\n",
        "UB2B3_2 = distance.euclidean(labB2_2,labB3_4)\n",
        "UB2B4_1 = distance.euclidean(labB2_1,labB4_3)\n",
        "UB2B4_2 = distance.euclidean(labB2_2,labB4_4)\n",
        "UB2C1_1 = distance.euclidean(labB2_1,labC1_3)\n",
        "UB2C1_2 = distance.euclidean(labB2_2,labC1_4)\n",
        "UB2C2_1 = distance.euclidean(labB2_1,labC2_3)\n",
        "UB2C2_2 = distance.euclidean(labB2_2,labC2_4)\n",
        "UB2C3_1 = distance.euclidean(labB2_1,labC3_3)\n",
        "UB2C3_2 = distance.euclidean(labB2_2,labC3_4)\n",
        "UB2C4_1 = distance.euclidean(labB2_1,labC4_3)\n",
        "UB2C4_2 = distance.euclidean(labB2_2,labC4_4)\n",
        "UB2D2_1 = distance.euclidean(labB2_1,labD2_3)\n",
        "UB2D2_2 = distance.euclidean(labB2_2,labD2_4)\n",
        "UB2D3_1 = distance.euclidean(labB2_1,labD3_3)\n",
        "UB2D3_2 = distance.euclidean(labB2_2,labD3_4)\n",
        "UB2D4_1 = distance.euclidean(labB2_1,labD4_3)\n",
        "UB2D4_2 = distance.euclidean(labB2_2,labD4_4)"
      ],
      "execution_count": 428,
      "outputs": []
    },
    {
      "cell_type": "code",
      "metadata": {
        "id": "KtwDJ-Ue9p0h"
      },
      "source": [
        "UB2A1 = (UB2A1_1+UB2A1_2)/2\n",
        "UB2A2 = (UB2A2_1+UB2A2_2)/2\n",
        "UB2A3 = (UB1A3_1+UB2A3_2)/2\n",
        "UB2A3_5 = (UB2A3_51+UB2A3_52)/2\n",
        "UB2A4 = (UB2A4_1+UB2A4_2)/2\n",
        "UB2B1 = (UB2B1_1+UB2B1_2)/2\n",
        "UB2B2 = (UB2B2_1+UB2B2_2)/2\n",
        "UB2B3 = (UB2B3_1+UB2B3_2)/2\n",
        "UB2B4 = (UB2B4_1+UB2B4_2)/2\n",
        "UB2C1 = (UB2C1_1+UB2C1_2)/2\n",
        "UB2C2 = (UB2C2_1+UB2C2_2)/2\n",
        "UB2C3 = (UB2C3_1+UB2C3_2)/2\n",
        "UB2C4 = (UB2C4_1+UB2C4_2)/2\n",
        "UB2D2 = (UB2D2_1+UB2D2_2)/2\n",
        "UB2D3 = (UB2D3_1+UB2D3_2)/2\n",
        "UB2D4 = (UB2D4_1+UB2D4_2)/2"
      ],
      "execution_count": 429,
      "outputs": []
    },
    {
      "cell_type": "markdown",
      "metadata": {
        "id": "MXY-OV4gUmdw"
      },
      "source": [
        "B3"
      ]
    },
    {
      "cell_type": "code",
      "metadata": {
        "id": "pUUKgK1xUsJo"
      },
      "source": [
        "UB3A1_1 = distance.euclidean(labB3_2,labA1_3)\n",
        "UB3A1_2 = distance.euclidean(labB3_1,labA1_4)\n",
        "UB3A2_1 = distance.euclidean(labB3_2,labA2_3)\n",
        "UB3A2_2 = distance.euclidean(labB3_1,labA2_4)\n",
        "UB3A3_1 = distance.euclidean(labB1_2,labA3_3)\n",
        "UB3A3_2 = distance.euclidean(labB3_1,labA3_4)\n",
        "UB3A3_51 = distance.euclidean(labB3_2,labA3_503)\n",
        "UB3A3_52 = distance.euclidean(labB3_1,labA3_504)\n",
        "UB3A4_1 = distance.euclidean(labB3_2,labA4_3)\n",
        "UB3A4_2 = distance.euclidean(labB3_1,labA4_4)\n",
        "UB3B1_1 = distance.euclidean(labB3_2,labB1_3)\n",
        "UB3B1_2 = distance.euclidean(labB3_1,labB1_4)\n",
        "UB3B2_1 = distance.euclidean(labB3_2,labB2_3)\n",
        "UB3B2_2 = distance.euclidean(labB3_1,labB2_4)\n",
        "UB3B3_1 = distance.euclidean(labB3_2,labB3_3)\n",
        "UB3B3_2 = distance.euclidean(labB3_1,labB3_4)\n",
        "UB3B4_1 = distance.euclidean(labB3_2,labB4_3)\n",
        "UB3B4_2 = distance.euclidean(labB3_1,labB4_4)\n",
        "UB3C1_1 = distance.euclidean(labB3_2,labC1_3)\n",
        "UB3C1_2 = distance.euclidean(labB3_1,labC1_4)\n",
        "UB3C2_1 = distance.euclidean(labB3_2,labC2_3)\n",
        "UB3C2_2 = distance.euclidean(labB3_1,labC2_4)\n",
        "UB3C3_1 = distance.euclidean(labB3_2,labC3_3)\n",
        "UB3C3_2 = distance.euclidean(labB3_1,labC3_4)\n",
        "UB3C4_1 = distance.euclidean(labB3_2,labC4_3)\n",
        "UB3C4_2 = distance.euclidean(labB3_1,labC4_4)\n",
        "UB3D2_1 = distance.euclidean(labB3_2,labD2_3)\n",
        "UB3D2_2 = distance.euclidean(labB3_1,labD2_4)\n",
        "UB3D3_1 = distance.euclidean(labB3_2,labD3_3)\n",
        "UB3D3_2 = distance.euclidean(labB3_1,labD3_4)\n",
        "UB3D4_1 = distance.euclidean(labB3_2,labD4_3)\n",
        "UB3D4_2 = distance.euclidean(labB3_1,labD4_4)"
      ],
      "execution_count": 430,
      "outputs": []
    },
    {
      "cell_type": "code",
      "metadata": {
        "id": "LbWbEIYY-LDk"
      },
      "source": [
        "UB3A1 = (UB3A1_1+UB3A1_2)/2\n",
        "UB3A2 = (UB3A2_1+UB3A2_2)/2\n",
        "UB3A3 = (UB3A3_1+UB3A3_2)/2\n",
        "UB3A3_5 = (UB3A3_51+UB3A3_52)/2\n",
        "UB3A4 = (UB3A4_1+UB3A4_2)/2\n",
        "UB3B1 = (UB3B1_1+UB3B1_2)/2\n",
        "UB3B2 = (UB3B2_1+UB3B2_2)/2\n",
        "UB3B3 = (UB3B3_1+UB3B3_2)/2\n",
        "UB3B4 = (UB3B4_1+UB3B4_2)/2\n",
        "UB3C1 = (UB3C1_1+UB3C1_2)/2\n",
        "UB3C2 = (UB3C2_1+UB3C2_2)/2\n",
        "UB3C3 = (UB3C3_1+UB3C3_2)/2\n",
        "UB3C4 = (UB3C4_1+UB3C4_2)/2\n",
        "UB3D2 = (UB3D2_1+UB3D2_2)/2\n",
        "UB3D3 = (UB3D3_1+UB3D3_2)/2\n",
        "UB3D4 = (UB3D4_1+UB3D4_2)/2"
      ],
      "execution_count": 431,
      "outputs": []
    },
    {
      "cell_type": "markdown",
      "metadata": {
        "id": "iw4iZKK5Un4u"
      },
      "source": [
        "B4"
      ]
    },
    {
      "cell_type": "code",
      "metadata": {
        "id": "gM2lJOfcUsbO"
      },
      "source": [
        "UB4A1_1 = distance.euclidean(labB4_1,labA1_4)\n",
        "UB4A1_2 = distance.euclidean(labB4_2,labA1_3)\n",
        "UB4A2_1 = distance.euclidean(labB4_1,labA2_4)\n",
        "UB4A2_2 = distance.euclidean(labB4_2,labA2_3)\n",
        "UB4A3_1 = distance.euclidean(labB4_1,labA3_4)\n",
        "UB4A3_2 = distance.euclidean(labB4_2,labA3_3)\n",
        "UB4A3_51 = distance.euclidean(labB4_1,labA3_504)\n",
        "UB4A3_52 = distance.euclidean(labB4_2,labA3_503)\n",
        "UB4A4_1 = distance.euclidean(labB4_1,labA4_4)\n",
        "UB4A4_2 = distance.euclidean(labB4_2,labA4_3)\n",
        "UB4B1_1 = distance.euclidean(labB4_1,labB1_4)\n",
        "UB4B1_2 = distance.euclidean(labB4_2,labB1_3)\n",
        "UB4B2_1 = distance.euclidean(labB4_1,labB2_4)\n",
        "UB4B2_2 = distance.euclidean(labB4_2,labB2_3)\n",
        "UB4B3_1 = distance.euclidean(labB4_1,labB3_4)\n",
        "UB4B3_2 = distance.euclidean(labB4_2,labB3_3)\n",
        "UB4B4_1 = distance.euclidean(labB4_1,labB4_4)\n",
        "UB4B4_2 = distance.euclidean(labB4_2,labB4_3)\n",
        "UB4C1_1 = distance.euclidean(labB4_1,labC1_4)\n",
        "UB4C1_2 = distance.euclidean(labB4_2,labC1_3)\n",
        "UB4C2_1 = distance.euclidean(labB4_1,labC2_4)\n",
        "UB4C2_2 = distance.euclidean(labB4_2,labC2_3)\n",
        "UB4C3_1 = distance.euclidean(labB4_1,labC3_4)\n",
        "UB4C3_2 = distance.euclidean(labB4_2,labC3_3)\n",
        "UB4C4_1 = distance.euclidean(labB4_1,labC4_4)\n",
        "UB4C4_2 = distance.euclidean(labB4_2,labC4_3)\n",
        "UB4D2_1 = distance.euclidean(labB4_1,labD2_4)\n",
        "UB4D2_2 = distance.euclidean(labB4_2,labD2_3)\n",
        "UB4D3_1 = distance.euclidean(labB4_1,labD3_4)\n",
        "UB4D3_2 = distance.euclidean(labB4_2,labD3_3)\n",
        "UB4D4_1 = distance.euclidean(labB4_1,labD4_4)\n",
        "UB4D4_2 = distance.euclidean(labB4_2,labD4_3)"
      ],
      "execution_count": 432,
      "outputs": []
    },
    {
      "cell_type": "code",
      "metadata": {
        "id": "IiacfVn_-fE4"
      },
      "source": [
        "UB4A1 = (UB4A1_1+UB4A1_2)/2\n",
        "UB4A2 = (UB4A2_1+UB4A2_2)/2\n",
        "UB4A3 = (UB4A3_1+UB4A3_2)/2\n",
        "UB4A3_5 = (UB4A3_51+UB4A3_52)/2\n",
        "UB4A4 = (UB4A4_1+UB4A4_2)/2\n",
        "UB4B1 = (UB4B1_1+UB4B1_2)/2\n",
        "UB4B2 = (UB4B2_1+UB4B2_2)/2\n",
        "UB4B3 = (UB4B3_1+UB4B3_2)/2\n",
        "UB4B4 = (UB4B4_1+UB4B4_2)/2\n",
        "UB4C1 = (UB4C1_1+UB4C1_2)/2\n",
        "UB4C2 = (UB4C2_1+UB4C2_2)/2\n",
        "UB4C3 = (UB4C3_1+UB4C3_2)/2\n",
        "UB4C4 = (UB4C4_1+UB4C4_2)/2\n",
        "UB4D2 = (UB4D2_1+UB4D2_2)/2\n",
        "UB4D3 = (UB4D3_1+UB4D3_2)/2\n",
        "UB4D4 = (UB4D4_1+UB4D4_2)/2"
      ],
      "execution_count": 433,
      "outputs": []
    },
    {
      "cell_type": "markdown",
      "metadata": {
        "id": "PmgWHgMPUozB"
      },
      "source": [
        "C1"
      ]
    },
    {
      "cell_type": "code",
      "metadata": {
        "id": "rQk8U9jcUszY"
      },
      "source": [
        "UC1A1_1 = distance.euclidean(labC1_1,labA1_3)\n",
        "UC1A1_2 = distance.euclidean(labC1_2,labA1_4)\n",
        "UC1A2_1 = distance.euclidean(labC1_1,labA2_3)\n",
        "UC1A2_2 = distance.euclidean(labC1_2,labA2_4)\n",
        "UC1A3_1 = distance.euclidean(labC1_1,labA3_3)\n",
        "UC1A3_2 = distance.euclidean(labC1_2,labA3_4)\n",
        "UC1A3_51 = distance.euclidean(labC1_1,labA3_503)\n",
        "UC1A3_52 = distance.euclidean(labC1_2,labA3_504)\n",
        "UC1A4_1 = distance.euclidean(labC1_1,labA4_3)\n",
        "UC1A4_2 = distance.euclidean(labC1_2,labA4_4)\n",
        "UC1B1_1 = distance.euclidean(labC1_1,labB1_3)\n",
        "UC1B1_2 = distance.euclidean(labC1_2,labB1_4)\n",
        "UC1B2_1 = distance.euclidean(labC1_1,labB2_3)\n",
        "UC1B2_2 = distance.euclidean(labC1_2,labB2_4)\n",
        "UC1B3_1 = distance.euclidean(labC1_1,labB3_3)\n",
        "UC1B3_2 = distance.euclidean(labC1_2,labB3_4)\n",
        "UC1B4_1 = distance.euclidean(labC1_1,labB4_3)\n",
        "UC1B4_2 = distance.euclidean(labC1_2,labB4_4)\n",
        "UC1C1_1 = distance.euclidean(labC1_1,labC1_3)\n",
        "UC1C1_2 = distance.euclidean(labC1_2,labC1_4)\n",
        "UC1C2_1 = distance.euclidean(labC1_1,labC2_3)\n",
        "UC1C2_2 = distance.euclidean(labC1_2,labC2_4)\n",
        "UC1C3_1 = distance.euclidean(labC1_1,labC3_3)\n",
        "UC1C3_2 = distance.euclidean(labC1_2,labC3_4)\n",
        "UC1C4_1 = distance.euclidean(labC1_1,labC4_3)\n",
        "UC1C4_2 = distance.euclidean(labC1_2,labC4_4)\n",
        "UC1D2_1 = distance.euclidean(labC1_1,labD2_3)\n",
        "UC1D2_2 = distance.euclidean(labC1_2,labD2_4)\n",
        "UC1D3_1 = distance.euclidean(labC1_1,labD3_3)\n",
        "UC1D3_2 = distance.euclidean(labC1_2,labD3_4)\n",
        "UC1D4_1 = distance.euclidean(labC1_1,labD4_3)\n",
        "UC1D4_2 = distance.euclidean(labC1_2,labD4_4)"
      ],
      "execution_count": 434,
      "outputs": []
    },
    {
      "cell_type": "code",
      "metadata": {
        "id": "jorLjOmg_BwS"
      },
      "source": [
        "UC1A1 = (UC1A1_1+UC1A1_2)/2\n",
        "UC1A2 = (UC1A2_1+UC1A2_2)/2\n",
        "UC1A3 = (UC1A3_1+UC1A3_2)/2\n",
        "UC1A3_5 = (UC1A3_51+UC1A3_52)/2\n",
        "UC1A4 = (UC1A4_1+UC1A4_2)/2\n",
        "UC1B1 = (UC1B1_1+UC1B1_2)/2\n",
        "UC1B2 = (UC1B2_1+UC1B2_2)/2\n",
        "UC1B3 = (UC1B3_1+UC1B3_2)/2\n",
        "UC1B4 = (UC1B4_1+UC1B4_2)/2\n",
        "UC1C1 = (UC1C1_1+UC1C1_2)/2\n",
        "UC1C2 = (UC1C2_1+UC1C2_2)/2\n",
        "UC1C3 = (UC1C3_1+UC1C3_2)/2\n",
        "UC1C4 = (UC1C4_1+UC1C4_2)/2\n",
        "UC1D2 = (UC1D2_1+UC1D2_2)/2\n",
        "UC1D3 = (UC1D3_1+UC1D3_2)/2\n",
        "UC1D4 = (UC1D4_1+UC1D4_2)/2"
      ],
      "execution_count": 435,
      "outputs": []
    },
    {
      "cell_type": "markdown",
      "metadata": {
        "id": "lBdF6_flUpoR"
      },
      "source": [
        "C2"
      ]
    },
    {
      "cell_type": "code",
      "metadata": {
        "id": "O_xvI_EAUtNc"
      },
      "source": [
        "UC2A1_1 = distance.euclidean(labC2_1,labA1_3)\n",
        "UC2A1_2 = distance.euclidean(labC2_2,labA1_4)\n",
        "UC2A2_1 = distance.euclidean(labC2_1,labA2_3)\n",
        "UC2A2_2 = distance.euclidean(labC2_2,labA2_4)\n",
        "UC2A3_1 = distance.euclidean(labC2_1,labA3_3)\n",
        "UC2A3_2 = distance.euclidean(labC2_2,labA3_4)\n",
        "UC2A3_51 = distance.euclidean(labC2_1,labA3_503)\n",
        "UC2A3_52 = distance.euclidean(labC2_2,labA3_504)\n",
        "UC2A4_1 = distance.euclidean(labC2_1,labA4_3)\n",
        "UC2A4_2 = distance.euclidean(labC2_2,labA4_4)\n",
        "UC2B1_1 = distance.euclidean(labC2_1,labB1_3)\n",
        "UC2B1_2 = distance.euclidean(labC2_2,labB1_4)\n",
        "UC2B2_1 = distance.euclidean(labC2_1,labB2_3)\n",
        "UC2B2_2 = distance.euclidean(labC2_2,labB2_4)\n",
        "UC2B3_1 = distance.euclidean(labC2_1,labB3_3)\n",
        "UC2B3_2 = distance.euclidean(labC2_2,labB3_4)\n",
        "UC2B4_1 = distance.euclidean(labC2_1,labB4_3)\n",
        "UC2B4_2 = distance.euclidean(labC2_2,labB4_4)\n",
        "UC2C1_1 = distance.euclidean(labC2_1,labC1_3)\n",
        "UC2C1_2 = distance.euclidean(labC2_2,labC1_4)\n",
        "UC2C2_1 = distance.euclidean(labC2_1,labC2_3)\n",
        "UC2C2_2 = distance.euclidean(labC2_2,labC2_4)\n",
        "UC2C3_1 = distance.euclidean(labC2_1,labC3_3)\n",
        "UC2C3_2 = distance.euclidean(labC2_2,labC3_4)\n",
        "UC2C4_1 = distance.euclidean(labC2_1,labC4_3)\n",
        "UC2C4_2 = distance.euclidean(labC2_2,labC4_4)\n",
        "UC2D2_1 = distance.euclidean(labC2_1,labD2_3)\n",
        "UC2D2_2 = distance.euclidean(labC2_2,labD2_4)\n",
        "UC2D3_1 = distance.euclidean(labC2_1,labD3_3)\n",
        "UC2D3_2 = distance.euclidean(labC2_2,labD3_4)\n",
        "UC2D4_1 = distance.euclidean(labC2_1,labD4_3)\n",
        "UC2D4_2 = distance.euclidean(labC2_2,labD4_4)"
      ],
      "execution_count": 436,
      "outputs": []
    },
    {
      "cell_type": "code",
      "metadata": {
        "id": "UUrlUEXB_UY3"
      },
      "source": [
        "UC2A1 = (UC2A1_1+UC2A1_2)/2\n",
        "UC2A2 = (UC2A2_1+UC2A2_2)/2\n",
        "UC2A3 = (UC2A3_1+UC2A3_2)/2\n",
        "UC2A3_5 = (UC1A3_51+UC2A3_52)/2\n",
        "UC2A4 = (UC2A4_1+UC2A4_2)/2\n",
        "UC2B1 = (UC2B1_1+UC2B1_2)/2\n",
        "UC2B2 = (UC2B2_1+UC2B2_2)/2\n",
        "UC2B3 = (UC2B3_1+UC2B3_2)/2\n",
        "UC2B4 = (UC2B4_1+UC2B4_2)/2\n",
        "UC2C1 = (UC2C1_1+UC2C1_2)/2\n",
        "UC2C2 = (UC2C2_1+UC2C2_2)/2\n",
        "UC2C3 = (UC2C3_1+UC2C3_2)/2\n",
        "UC2C4 = (UC2C4_1+UC2C4_2)/2\n",
        "UC2D2 = (UC2D2_1+UC2D2_2)/2\n",
        "UC2D3 = (UC2D3_1+UC2D3_2)/2\n",
        "UC2D4 = (UC2D4_1+UC2D4_2)/2"
      ],
      "execution_count": 437,
      "outputs": []
    },
    {
      "cell_type": "markdown",
      "metadata": {
        "id": "F8Ejgtt3Uqmj"
      },
      "source": [
        "C3"
      ]
    },
    {
      "cell_type": "code",
      "metadata": {
        "id": "38-IdhF0Utwm"
      },
      "source": [
        "UC3A1_1 = distance.euclidean(labC3_1,labA1_3)\n",
        "UC3A1_2 = distance.euclidean(labC3_2,labA1_4)\n",
        "UC3A2_1 = distance.euclidean(labC3_1,labA2_3)\n",
        "UC3A2_2 = distance.euclidean(labC3_2,labA2_4)\n",
        "UC3A3_1 = distance.euclidean(labC3_1,labA3_3)\n",
        "UC3A3_2 = distance.euclidean(labC3_2,labA3_4)\n",
        "UC3A3_51 = distance.euclidean(labC3_1,labA3_503)\n",
        "UC3A3_52 = distance.euclidean(labC3_2,labA3_504)\n",
        "UC3A4_1 = distance.euclidean(labC3_1,labA4_3)\n",
        "UC3A4_2 = distance.euclidean(labC3_2,labA4_4)\n",
        "UC3B1_1 = distance.euclidean(labC3_1,labB1_3)\n",
        "UC3B1_2 = distance.euclidean(labC3_2,labB1_4)\n",
        "UC3B2_1 = distance.euclidean(labC3_1,labB2_3)\n",
        "UC3B2_2 = distance.euclidean(labC3_2,labB2_4)\n",
        "UC3B3_1 = distance.euclidean(labC3_1,labB3_3)\n",
        "UC3B3_2 = distance.euclidean(labC3_2,labB3_4)\n",
        "UC3B4_1 = distance.euclidean(labC3_1,labB4_3)\n",
        "UC3B4_2 = distance.euclidean(labC3_2,labB4_4)\n",
        "UC3C1_1 = distance.euclidean(labC3_1,labC1_3)\n",
        "UC3C1_2 = distance.euclidean(labC3_2,labC1_4)\n",
        "UC3C2_1 = distance.euclidean(labC3_1,labC2_3)\n",
        "UC3C2_2 = distance.euclidean(labC3_2,labC2_4)\n",
        "UC3C3_1 = distance.euclidean(labC3_1,labC3_3)\n",
        "UC3C3_2 = distance.euclidean(labC3_2,labC3_4)\n",
        "UC3C4_1 = distance.euclidean(labC3_1,labC4_3)\n",
        "UC3C4_2 = distance.euclidean(labC3_2,labC4_4)\n",
        "UC3D2_1 = distance.euclidean(labC3_1,labD2_3)\n",
        "UC3D2_2 = distance.euclidean(labC3_2,labD2_4)\n",
        "UC3D3_1 = distance.euclidean(labC3_1,labD3_3)\n",
        "UC3D3_2 = distance.euclidean(labC3_2,labD3_4)\n",
        "UC3D4_1 = distance.euclidean(labC3_1,labD4_3)\n",
        "UC3D4_2 = distance.euclidean(labC3_2,labD4_4)"
      ],
      "execution_count": 438,
      "outputs": []
    },
    {
      "cell_type": "code",
      "metadata": {
        "id": "dqtJNCHDABdO"
      },
      "source": [
        "UC3A1 = (UC3A1_1+UC3A1_2)/2\n",
        "UC3A2 = (UC3A2_1+UC3A2_2)/2\n",
        "UC3A3 = (UC3A3_1+UC3A3_2)/2\n",
        "UC3A3_5 = (UC3A3_51+UC3A3_52)/2\n",
        "UC3A4 = (UC3A4_1+UC3A4_2)/2\n",
        "UC3B1 = (UC3B1_1+UC3B1_2)/2\n",
        "UC3B2 = (UC3B2_1+UC3B2_2)/2\n",
        "UC3B3 = (UC3B3_1+UC3B3_2)/2\n",
        "UC3B4 = (UC3B4_1+UC3B4_2)/2\n",
        "UC3C1 = (UC3C1_1+UC3C1_2)/2\n",
        "UC3C2 = (UC3C2_1+UC3C2_2)/2\n",
        "UC3C3 = (UC3C3_1+UC3C3_2)/2\n",
        "UC3C4 = (UC3C4_1+UC3C4_2)/2\n",
        "UC3D2 = (UC3D2_1+UC3D2_2)/2\n",
        "UC3D3 = (UC3D3_1+UC3D3_2)/2\n",
        "UC3D4 = (UC3D4_1+UC3D4_2)/2"
      ],
      "execution_count": 439,
      "outputs": []
    },
    {
      "cell_type": "markdown",
      "metadata": {
        "id": "5nvt2loHUrVG"
      },
      "source": [
        "C4"
      ]
    },
    {
      "cell_type": "code",
      "metadata": {
        "id": "w1up6legUuR4"
      },
      "source": [
        "UC4A1_1 = distance.euclidean(labC4_2,labA1_4)\n",
        "UC4A1_2 = distance.euclidean(labC4_1,labA1_3)\n",
        "UC4A2_1 = distance.euclidean(labC4_2,labA2_4)\n",
        "UC4A2_2 = distance.euclidean(labC4_1,labA2_3)\n",
        "UC4A3_1 = distance.euclidean(labC4_2,labA3_4)\n",
        "UC4A3_2 = distance.euclidean(labC4_1,labA3_3)\n",
        "UC4A3_51 = distance.euclidean(labC4_2,labA3_504)\n",
        "UC4A3_52 = distance.euclidean(labC4_1,labA3_503)\n",
        "UC4A4_1 = distance.euclidean(labC4_2,labA4_3)\n",
        "UC4A4_2 = distance.euclidean(labC4_1,labA4_4)\n",
        "UC4B1_1 = distance.euclidean(labC4_2,labB1_3)\n",
        "UC4B1_2 = distance.euclidean(labC4_1,labB1_4)\n",
        "UC4B2_1 = distance.euclidean(labC4_2,labB2_3)\n",
        "UC4B2_2 = distance.euclidean(labC4_1,labB2_4)\n",
        "UC4B3_1 = distance.euclidean(labC4_2,labB3_3)\n",
        "UC4B3_2 = distance.euclidean(labC4_1,labB3_4)\n",
        "UC4B4_1 = distance.euclidean(labC4_2,labB4_3)\n",
        "UC4B4_2 = distance.euclidean(labC4_1,labB4_4)\n",
        "UC4C1_1 = distance.euclidean(labC4_2,labC1_3)\n",
        "UC4C1_2 = distance.euclidean(labC4_1,labC1_4)\n",
        "UC4C2_1 = distance.euclidean(labC4_2,labC2_3)\n",
        "UC4C2_2 = distance.euclidean(labC4_1,labC2_4)\n",
        "UC4C3_1 = distance.euclidean(labC4_2,labC3_3)\n",
        "UC4C3_2 = distance.euclidean(labC4_1,labC3_4)\n",
        "UC4C4_1 = distance.euclidean(labC4_2,labC4_3)\n",
        "UC4C4_2 = distance.euclidean(labC4_1,labC4_4)\n",
        "UC4D2_1 = distance.euclidean(labC4_2,labD2_3)\n",
        "UC4D2_2 = distance.euclidean(labC4_1,labD2_4)\n",
        "UC4D3_1 = distance.euclidean(labC4_2,labD3_3)\n",
        "UC4D3_2 = distance.euclidean(labC4_1,labD3_4)\n",
        "UC4D4_1 = distance.euclidean(labC4_2,labD4_3)\n",
        "UC4D4_2 = distance.euclidean(labC4_1,labD4_4)"
      ],
      "execution_count": 440,
      "outputs": []
    },
    {
      "cell_type": "code",
      "metadata": {
        "id": "I1kFapTLAUuW"
      },
      "source": [
        "UC4A1 = (UC4A1_1+UC4A1_2)/2\n",
        "UC4A2 = (UC4A2_1+UC4A2_2)/2\n",
        "UC4A3 = (UC4A3_1+UC4A3_2)/2\n",
        "UC4A3_5 = (UC4A3_51+UC4A3_52)/2\n",
        "UC4A4 = (UC4A4_1+UC4A4_2)/2\n",
        "UC4B1 = (UC4B1_1+UC4B1_2)/2\n",
        "UC4B2 = (UC4B2_1+UC4B2_2)/2\n",
        "UC4B3 = (UC4B3_1+UC4B3_2)/2\n",
        "UC4B4 = (UC4B4_1+UC4B4_2)/2\n",
        "UC4C1 = (UC4C1_1+UC4C1_2)/2\n",
        "UC4C2 = (UC4C2_1+UC4C2_2)/2\n",
        "UC4C3 = (UC4C3_1+UC4C3_2)/2\n",
        "UC4C4 = (UC4C4_1+UC4C4_2)/2\n",
        "UC4D2 = (UC4D2_1+UC4D2_2)/2\n",
        "UC4D3 = (UC4D3_1+UC4D3_2)/2\n",
        "UC4D4 = (UC4D4_1+UC4D4_2)/2"
      ],
      "execution_count": 441,
      "outputs": []
    },
    {
      "cell_type": "markdown",
      "metadata": {
        "id": "inQrkkdTc3mZ"
      },
      "source": [
        "D2"
      ]
    },
    {
      "cell_type": "code",
      "metadata": {
        "id": "q1NczpMZc4kw"
      },
      "source": [
        "UD2A1_1 = distance.euclidean(labD2_1,labA1_4)\n",
        "UD2A1_2 = distance.euclidean(labD2_2,labA1_3)\n",
        "UD2A2_1 = distance.euclidean(labD2_1,labA2_4)\n",
        "UD2A2_2 = distance.euclidean(labD2_2,labA2_3)\n",
        "UD2A3_1 = distance.euclidean(labD2_1,labA3_4)\n",
        "UD2A3_2 = distance.euclidean(labD2_2,labA3_3)\n",
        "UD2A3_51 = distance.euclidean(labD2_1,labA3_504)\n",
        "UD2A3_52 = distance.euclidean(labD2_2,labA3_503)\n",
        "UD2A4_1 = distance.euclidean(labD2_1,labA4_4)\n",
        "UD2A4_2 = distance.euclidean(labD2_2,labA4_3)\n",
        "UD2B1_1 = distance.euclidean(labD2_1,labB1_4)\n",
        "UD2B1_2 = distance.euclidean(labD2_2,labB1_3)\n",
        "UD2B2_1 = distance.euclidean(labD2_1,labB2_4)\n",
        "UD2B2_2 = distance.euclidean(labD2_2,labB2_3)\n",
        "UD2B3_1 = distance.euclidean(labD2_1,labB3_4)\n",
        "UD2B3_2 = distance.euclidean(labD2_2,labB3_3)\n",
        "UD2B4_1 = distance.euclidean(labD2_1,labB4_4)\n",
        "UD2B4_2 = distance.euclidean(labD2_2,labB4_3)\n",
        "UD2C1_1 = distance.euclidean(labD2_1,labC1_4)\n",
        "UD2C1_2 = distance.euclidean(labD2_2,labC1_3)\n",
        "UD2C2_1 = distance.euclidean(labD2_1,labC2_4)\n",
        "UD2C2_2 = distance.euclidean(labD2_2,labC2_3)\n",
        "UD2C3_1 = distance.euclidean(labD2_1,labC3_4)\n",
        "UD2C3_2 = distance.euclidean(labD2_2,labC3_3)\n",
        "UD2C4_1 = distance.euclidean(labD2_1,labC4_4)\n",
        "UD2C4_2 = distance.euclidean(labD2_2,labC4_3)\n",
        "UD2D2_1 = distance.euclidean(labD2_1,labD2_4)\n",
        "UD2D2_2 = distance.euclidean(labD2_2,labD2_3)\n",
        "UD2D3_1 = distance.euclidean(labD2_1,labD3_4)\n",
        "UD2D3_2 = distance.euclidean(labD2_2,labD3_3)\n",
        "UD2D4_1 = distance.euclidean(labD2_1,labD4_4)\n",
        "UD2D4_2 = distance.euclidean(labD2_2,labD4_3)"
      ],
      "execution_count": 442,
      "outputs": []
    },
    {
      "cell_type": "code",
      "metadata": {
        "id": "zXE0HzZhCxFq"
      },
      "source": [
        "UD2A1 = (UD2A1_1+UD2A1_2)/2\n",
        "UD2A2 = (UD2A2_1+UD2A2_2)/2\n",
        "UD2A3 = (UD2A3_1+UD2A3_2)/2\n",
        "UD2A3_5 = (UD2A3_51+UD2A3_52)/2\n",
        "UD2A4 = (UD2A4_1+UD2A4_2)/2\n",
        "UD2B1 = (UD2B1_1+UD2B1_2)/2\n",
        "UD2B2 = (UD2B2_1+UD2B2_2)/2\n",
        "UD2B3 = (UD2B3_1+UD2B3_2)/2\n",
        "UD2B4 = (UD2B4_1+UD2B4_2)/2\n",
        "UD2C1 = (UD2C1_1+UD2C1_2)/2\n",
        "UD2C2 = (UD2C2_1+UD2C2_2)/2\n",
        "UD2C3 = (UD2C3_1+UD2C3_2)/2\n",
        "UD2C4 = (UD2C4_1+UD2C4_2)/2\n",
        "UD2D2 = (UD2D2_1+UD2D2_2)/2\n",
        "UD2D3 = (UD2D3_1+UD2D3_2)/2\n",
        "UD2D4 = (UD2D4_1+UD2D4_2)/2"
      ],
      "execution_count": 443,
      "outputs": []
    },
    {
      "cell_type": "markdown",
      "metadata": {
        "id": "FH21pF-ue9ZD"
      },
      "source": [
        "D3"
      ]
    },
    {
      "cell_type": "code",
      "metadata": {
        "id": "mQT1Tre6e8pz"
      },
      "source": [
        "UD3A1_1 = distance.euclidean(labD3_1,labA1_3)\n",
        "UD3A1_2 = distance.euclidean(labD3_2,labA1_4)\n",
        "UD3A2_1 = distance.euclidean(labD3_1,labA2_3)\n",
        "UD3A2_2 = distance.euclidean(labD3_2,labA2_4)\n",
        "UD3A3_1 = distance.euclidean(labD3_1,labA3_3)\n",
        "UD3A3_2 = distance.euclidean(labD3_2,labA3_4)\n",
        "UD3A3_51 = distance.euclidean(labD3_1,labA3_503)\n",
        "UD3A3_52 = distance.euclidean(labD3_2,labA3_504)\n",
        "UD3A4_1 = distance.euclidean(labD3_1,labA4_3)\n",
        "UD3A4_2 = distance.euclidean(labD3_2,labA4_4)\n",
        "UD3B1_1 = distance.euclidean(labD3_1,labB1_3)\n",
        "UD3B1_2 = distance.euclidean(labD3_2,labB1_4)\n",
        "UD3B2_1 = distance.euclidean(labD3_1,labB2_3)\n",
        "UD3B2_2 = distance.euclidean(labD3_2,labB2_4)\n",
        "UD3B3_1 = distance.euclidean(labD3_1,labB3_3)\n",
        "UD3B3_2 = distance.euclidean(labD3_2,labB3_4)\n",
        "UD3B4_1 = distance.euclidean(labD3_1,labB4_3)\n",
        "UD3B4_2 = distance.euclidean(labD3_2,labB4_4)\n",
        "UD3C1_1 = distance.euclidean(labD3_1,labC1_3)\n",
        "UD3C1_2 = distance.euclidean(labD3_2,labC1_4)\n",
        "UD3C2_1 = distance.euclidean(labD3_1,labC2_3)\n",
        "UD3C2_2 = distance.euclidean(labD3_2,labC2_4)\n",
        "UD3C3_1 = distance.euclidean(labD3_1,labC3_3)\n",
        "UD3C3_2 = distance.euclidean(labD3_2,labC3_4)\n",
        "UD3C4_1 = distance.euclidean(labD3_1,labC4_3)\n",
        "UD3C4_2 = distance.euclidean(labD3_2,labC4_4)\n",
        "UD3D2_1 = distance.euclidean(labD3_1,labD2_3)\n",
        "UD3D2_2 = distance.euclidean(labD3_2,labD2_4)\n",
        "UD3D3_1 = distance.euclidean(labD3_1,labD3_3)\n",
        "UD3D3_2 = distance.euclidean(labD3_2,labD3_4)\n",
        "UD3D4_1 = distance.euclidean(labD3_1,labD4_3)\n",
        "UD3D4_2 = distance.euclidean(labD3_2,labD4_4)"
      ],
      "execution_count": 444,
      "outputs": []
    },
    {
      "cell_type": "code",
      "metadata": {
        "id": "GUNMWbVGDGQt"
      },
      "source": [
        "UD3A1 = (UD3A1_1+UD3A1_2)/2\n",
        "UD3A2 = (UD3A2_1+UD3A2_2)/2\n",
        "UD3A3 = (UD3A3_1+UD3A3_2)/2\n",
        "UD3A3_5 = (UD3A3_51+UD3A3_52)/2\n",
        "UD3A4 = (UD3A4_1+UD3A4_2)/2\n",
        "UD3B1 = (UD3B1_1+UD3B1_2)/2\n",
        "UD3B2 = (UD3B2_1+UD3B2_2)/2\n",
        "UD3B3 = (UD3B3_1+UD3B3_2)/2\n",
        "UD3B4 = (UD3B4_1+UD3B4_2)/2\n",
        "UD3C1 = (UD3C1_1+UD3C1_2)/2\n",
        "UD3C2 = (UD3C2_1+UD3C2_2)/2\n",
        "UD3C3 = (UD3C3_1+UD3C3_2)/2\n",
        "UD3C4 = (UD3C4_1+UD3C4_2)/2\n",
        "UD3D2 = (UD3D2_1+UD3D2_2)/2\n",
        "UD3D3 = (UD3D3_1+UD3D3_2)/2\n",
        "UD3D4 = (UD3D4_1+UD3D4_2)/2"
      ],
      "execution_count": 445,
      "outputs": []
    },
    {
      "cell_type": "markdown",
      "metadata": {
        "id": "VOBr4zvOgPvS"
      },
      "source": [
        "D4"
      ]
    },
    {
      "cell_type": "code",
      "metadata": {
        "id": "4MGLCxSXgQ7g"
      },
      "source": [
        "UD4A1_1 = distance.euclidean(labD4_2,labA1_4)\n",
        "UD4A1_2 = distance.euclidean(labD4_1,labA1_3)\n",
        "UD4A2_1 = distance.euclidean(labD4_2,labA2_4)\n",
        "UD4A2_2 = distance.euclidean(labD4_1,labA2_3)\n",
        "UD4A3_1 = distance.euclidean(labD4_2,labA3_4)\n",
        "UD4A3_2 = distance.euclidean(labD4_1,labA3_3)\n",
        "UD4A3_51 = distance.euclidean(labD4_2,labA3_504)\n",
        "UD4A3_52 = distance.euclidean(labD4_1,labA3_503)\n",
        "UD4A4_1 = distance.euclidean(labD4_2,labA4_4)\n",
        "UD4A4_2 = distance.euclidean(labD4_1,labA4_3)\n",
        "UD4B1_1 = distance.euclidean(labD4_2,labB1_4)\n",
        "UD4B1_2 = distance.euclidean(labD4_1,labB1_3)\n",
        "UD4B2_1 = distance.euclidean(labD4_2,labB2_4)\n",
        "UD4B2_2 = distance.euclidean(labD4_1,labB2_3)\n",
        "UD4B3_1 = distance.euclidean(labD4_2,labB3_4)\n",
        "UD4B3_2 = distance.euclidean(labD4_1,labB3_3)\n",
        "UD4B4_1 = distance.euclidean(labD4_2,labB4_4)\n",
        "UD4B4_2 = distance.euclidean(labD4_1,labB4_3)\n",
        "UD4C1_1 = distance.euclidean(labD4_2,labC1_4)\n",
        "UD4C1_2 = distance.euclidean(labD4_1,labC1_3)\n",
        "UD4C2_1 = distance.euclidean(labD4_2,labC2_4)\n",
        "UD4C2_2 = distance.euclidean(labD4_1,labC2_3)\n",
        "UD4C3_1 = distance.euclidean(labD4_2,labC3_4)\n",
        "UD4C3_2 = distance.euclidean(labD4_1,labC3_3)\n",
        "UD4C4_1 = distance.euclidean(labD4_2,labC4_4)\n",
        "UD4C4_2 = distance.euclidean(labD4_1,labC4_3)\n",
        "UD4D2_1 = distance.euclidean(labD4_2,labD2_4)\n",
        "UD4D2_2 = distance.euclidean(labD4_1,labD2_3)\n",
        "UD4D3_1 = distance.euclidean(labD4_2,labD3_4)\n",
        "UD4D3_2 = distance.euclidean(labD4_1,labD3_3)\n",
        "UD4D4_1 = distance.euclidean(labD4_2,labD4_4)\n",
        "UD4D4_2 = distance.euclidean(labD4_1,labD4_3)"
      ],
      "execution_count": 446,
      "outputs": []
    },
    {
      "cell_type": "code",
      "metadata": {
        "id": "w4PC0cHHDabX"
      },
      "source": [
        "UD4A1 = (UD4A1_1+UD4A1_2)/2\n",
        "UD4A2 = (UD4A2_1+UD4A2_2)/2\n",
        "UD4A3 = (UD4A3_1+UD4A3_2)/2\n",
        "UD4A3_5 = (UD4A3_51+UD4A3_52)/2\n",
        "UD4A4 = (UD4A4_1+UD4A4_2)/2\n",
        "UD4B1 = (UD4B1_1+UD4B1_2)/2\n",
        "UD4B2 = (UD4B2_1+UD4B2_2)/2\n",
        "UD4B3 = (UD4B3_1+UD4B3_2)/2\n",
        "UD4B4 = (UD4B4_1+UD4B4_2)/2\n",
        "UD4C1 = (UD4C1_1+UD4C1_2)/2\n",
        "UD4C2 = (UD4C2_1+UD4C2_2)/2\n",
        "UD4C3 = (UD4C3_1+UD4C3_2)/2\n",
        "UD4C4 = (UD4C4_1+UD4C4_2)/2\n",
        "UD4D2 = (UD4D2_1+UD4D2_2)/2\n",
        "UD4D3 = (UD4D3_1+UD4D3_2)/2\n",
        "UD4D4 = (UD4D4_1+UD4D4_2)/2"
      ],
      "execution_count": 447,
      "outputs": []
    },
    {
      "cell_type": "markdown",
      "metadata": {
        "id": "Yn7JfDL93Two"
      },
      "source": [
        "#สร้างตาราง Set 2 * Set 2"
      ]
    },
    {
      "cell_type": "code",
      "metadata": {
        "id": "EUa2mp351eJZ",
        "colab": {
          "base_uri": "https://localhost:8080/"
        },
        "outputId": "6e3a6939-19d1-438d-91d5-62a37987183b"
      },
      "source": [
        "pip install tabulate"
      ],
      "execution_count": 448,
      "outputs": [
        {
          "output_type": "stream",
          "name": "stdout",
          "text": [
            "Requirement already satisfied: tabulate in /usr/local/lib/python3.7/dist-packages (0.8.9)\n"
          ]
        }
      ]
    },
    {
      "cell_type": "code",
      "metadata": {
        "id": "LLkOT09j1egf"
      },
      "source": [
        "from tabulate import tabulate"
      ],
      "execution_count": 449,
      "outputs": []
    },
    {
      "cell_type": "code",
      "metadata": {
        "id": "jSJ4C9e61YMa"
      },
      "source": [
        "info = {'Shade Guide': ['A1', 'A2', 'A3', 'A3.5', 'A4', 'B1', 'B2', 'B3', 'B4', 'C1', 'C2', 'C3', 'C4', 'D2', 'D3', 'D4']\n",
        "        ,'A1': [UA1A1,UA1A2,UA1A3,UA1A3_5,UA1A4,UA1B1,UA1B2,UA1B3,UA1B4,UA1C1,UA1C2,UA1C3,UA1C4,UA1D2,UA1D3,UA1D4]\n",
        "        ,'A2': [UA2A1,UA2A2,UA2A3,UA2A3_5,UA2A4,UA2B1,UA2B2,UA2B3,UA2B4,UA2C1,UA2C2,UA2C3,UA2C4,UA2D2,UA2D3,UA2D4]\n",
        "        ,'A3': [UA3A1,UA3A2,UA3A3,UA3A3_5,UA3A4,UA3B1,UA3B2,UA3B3,UA3B4,UA3C1,UA3C2,UA3C3,UA3C4,UA3D2,UA3D3,UA3D4]\n",
        "        ,'A3.5': [UA3_5A1,UA3_5A2,UA3_5A3,UA3_5A3_5,UA3_5A4,UA3_5B1,UA3_5B2,UA3_5B3,UA3_5B4,UA3_5C1,UA3_5C2,UA3_5C3,UA3_5C4,UA3_5D2,UA3_5D3,UA3_5D4]\n",
        "        ,'A4': [UA4A1,UA4A2,UA4A3,UA4A3_5,UA4A4,UA4B1,UA4B2,UA4B3,UA4B4,UA4C1,UA4C2,UA4C3,UA4C4,UA4D2,UA4D3,UA4D4]\n",
        "        ,'B1': [UB1A1,UB1A2,UB1A3,UB1A3_5,UB1A4,UB1B1,UB1B2,UB1B3,UB1B4,UB1C1,UB1C2,UB1C3,UB1C4,UB1D2,UB1D3,UB1D4]\n",
        "        ,'B2': [UB2A1,UB2A2,UB2A3,UB2A3_5,UB2A4,UB2B1,UB2B2,UB2B3,UB2B4,UB2C1,UB2C2,UB2C3,UB2C4,UB2D2,UB2D3,UB2D4]\n",
        "        ,'B3': [UB3A1,UB3A2,UB3A3,UB3A3_5,UB3A4,UB3B1,UB3B2,UB3B3,UB3B4,UB3C1,UB3C2,UB3C3,UB3C4,UB3D2,UB3D3,UB3D4]\n",
        "        ,'B4': [UB4A1,UB4A2,UB4A3,UB4A3_5,UB4A4,UB4B1,UB4B2,UB4B3,UB4B4,UB4C1,UB4C2,UB4C3,UB4C4,UB4D2,UB4D3,UB4D4]\n",
        "        ,'C1': [UC1A1,UC1A2,UC1A3,UC1A3_5,UC1A4,UC1B1,UC1B2,UC1B3,UC1B4,UC1C1,UC1C2,UC1C3,UC1C4,UC1D2,UC1D3,UC1D4]\n",
        "        ,'C2': [UC2A1,UC2A2,UC2A3,UC2A3_5,UC2A4,UC2B1,UC2B2,UC2B3,UC2B4,UC2C1,UC2C2,UC2C3,UC2C4,UC2D2,UC2D3,UC2D4]\n",
        "        ,'C3': [UC3A1,UC3A2,UC3A3,UC3A3_5,UC3A4,UC3B1,UC3B2,UC3B3,UC3B4,UC3C1,UC3C2,UC3C3,UC3C4,UC3D2,UC3D3,UC3D4]\n",
        "        ,'C4': [UC4A1,UC4A2,UC4A3,UC4A3_5,UC4A4,UC4B1,UC4B2,UC4B3,UC4B4,UC4C1,UC4C2,UC4C3,UC4C4,UC4D2,UC4D3,UC4D4]\n",
        "        ,'D2': [UD2A1,UD2A2,UD2A3,UD2A3_5,UD2A4,UD2B1,UD2B2,UD2B3,UD2B4,UD2C1,UD2C2,UD2C3,UD2C4,UD2D2,UD2D3,UD2D4]\n",
        "        ,'D3': [UD3A1,UD3A2,UD3A3,UD3A3_5,UD3A4,UD3B1,UD3B2,UD3B3,UD3B4,UD3C1,UD3C2,UD3C3,UD3C4,UD3D2,UD3D3,UD3D4]\n",
        "        ,'D4': [UD4A1,UD4A2,UD4A3,UD4A3_5,UD4A4,UD4B1,UD4B2,UD4B3,UD4B4,UD4C1,UD4C2,UD4C3,UD4C4,UD4D2,UD4D3,UD4D4] }"
      ],
      "execution_count": 450,
      "outputs": []
    },
    {
      "cell_type": "code",
      "metadata": {
        "id": "RrQzU6uw3h9h",
        "colab": {
          "base_uri": "https://localhost:8080/"
        },
        "outputId": "6e791dd4-362a-4aa0-a3c5-f510d9fff4c5"
      },
      "source": [
        "print(tabulate(info, headers='keys', tablefmt='fancy_grid'))"
      ],
      "execution_count": 451,
      "outputs": [
        {
          "output_type": "stream",
          "name": "stdout",
          "text": [
            "╒═══════════════╤══════════╤══════════╤══════════╤══════════╤══════════╤══════════╤══════════╤══════════╤══════════╤══════════╤══════════╤══════════╤══════════╤══════════╤══════════╤══════════╕\n",
            "│ Shade Guide   │       A1 │       A2 │       A3 │     A3.5 │       A4 │       B1 │       B2 │       B3 │       B4 │       C1 │       C2 │       C3 │       C4 │       D2 │       D3 │       D4 │\n",
            "╞═══════════════╪══════════╪══════════╪══════════╪══════════╪══════════╪══════════╪══════════╪══════════╪══════════╪══════════╪══════════╪══════════╪══════════╪══════════╪══════════╪══════════╡\n",
            "│ A1            │ 13.1189  │ 17.9664  │ 17.9664  │ 25.8085  │ 28.0507  │ 18.4499  │ 12.4715  │ 21.3055  │ 24.2988  │ 20.7167  │ 25.1874  │ 28.5657  │ 39.1092  │ 19.863   │ 22.3025  │ 28.3739  │\n",
            "├───────────────┼──────────┼──────────┼──────────┼──────────┼──────────┼──────────┼──────────┼──────────┼──────────┼──────────┼──────────┼──────────┼──────────┼──────────┼──────────┼──────────┤\n",
            "│ A2            │ 16.9529  │ 10.4252  │  8.47176 │  6.61138 │  4.69804 │ 14.4829  │ 15.1693  │  7.26737 │  6.08117 │  9.05134 │  4.53972 │  3.63531 │ 12.1321  │ 12.6228  │  6.68486 │  5.56714 │\n",
            "├───────────────┼──────────┼──────────┼──────────┼──────────┼──────────┼──────────┼──────────┼──────────┼──────────┼──────────┼──────────┼──────────┼──────────┼──────────┼──────────┼──────────┤\n",
            "│ A3            │ 30.4128  │ 30.6669  │ 30.0497  │ 27.7291  │ 30.7487  │ 32.4041  │ 29.1075  │ 33.8812  │ 27.9841  │ 30.4005  │ 28.2501  │ 28.5684  │ 28.0272  │ 29.2895  │ 28.8649  │ 34.4255  │\n",
            "├───────────────┼──────────┼──────────┼──────────┼──────────┼──────────┼──────────┼──────────┼──────────┼──────────┼──────────┼──────────┼──────────┼──────────┼──────────┼──────────┼──────────┤\n",
            "│ A3.5          │ 18.0601  │ 18.8666  │ 18.0534  │ 22.2909  │ 25.2836  │ 22.5523  │ 14.4959  │ 18.7221  │ 20.6678  │ 22.0438  │ 22.2902  │ 26.7002  │ 36.1213  │ 23.2101  │ 21.7665  │ 25.9938  │\n",
            "├───────────────┼──────────┼──────────┼──────────┼──────────┼──────────┼──────────┼──────────┼──────────┼──────────┼──────────┼──────────┼──────────┼──────────┼──────────┼──────────┼──────────┤\n",
            "│ A4            │ 19.4284  │ 13.6311  │  9.99494 │  6.68384 │  9.18928 │ 19.5555  │ 15.8517  │  8.52272 │  5.44681 │ 14.6235  │ 11.7767  │ 11.0098  │ 17.4685  │ 18.0614  │ 11.3489  │ 10.9779  │\n",
            "├───────────────┼──────────┼──────────┼──────────┼──────────┼──────────┼──────────┼──────────┼──────────┼──────────┼──────────┼──────────┼──────────┼──────────┼──────────┼──────────┼──────────┤\n",
            "│ B1            │ 14.6339  │ 21.0388  │ 23.5256  │ 30.2651  │ 32.0396  │ 25.3547  │ 16.3346  │ 25.9769  │ 28.8643  │ 23.0985  │ 28.244   │ 32.0249  │ 42.7084  │ 21.1795  │ 25.6212  │ 32.2822  │\n",
            "├───────────────┼──────────┼──────────┼──────────┼──────────┼──────────┼──────────┼──────────┼──────────┼──────────┼──────────┼──────────┼──────────┼──────────┼──────────┼──────────┼──────────┤\n",
            "│ B2            │ 14.6643  │ 15.1326  │ 17.273   │ 24.3211  │ 24.6519  │ 15.2927  │ 13.6388  │ 18.503   │ 22.8656  │ 16.1083  │ 20.9406  │ 24.4406  │ 34.4486  │ 17.6664  │ 19.1963  │ 23.8795  │\n",
            "├───────────────┼──────────┼──────────┼──────────┼──────────┼──────────┼──────────┼──────────┼──────────┼──────────┼──────────┼──────────┼──────────┼──────────┼──────────┼──────────┼──────────┤\n",
            "│ B3            │ 11.6966  │ 10.0788  │  8.83172 │ 13.7145  │ 16.2023  │ 14.6245  │  7.51618 │  9.65259 │ 11.7805  │ 12.7607  │ 14.8333  │ 17.1776  │ 26.7708  │ 14.782   │ 12.5031  │ 16.4264  │\n",
            "├───────────────┼──────────┼──────────┼──────────┼──────────┼──────────┼──────────┼──────────┼──────────┼──────────┼──────────┼──────────┼──────────┼──────────┼──────────┼──────────┼──────────┤\n",
            "│ B4            │ 15.8849  │ 11.7584  │  8.99191 │ 11.0175  │ 13.1289  │ 17.2597  │ 11.7566  │  8.08866 │  8.99676 │ 13.7174  │ 13.7391  │ 14.7294  │ 22.7583  │ 16.9575  │ 12.2568  │ 13.3556  │\n",
            "├───────────────┼──────────┼──────────┼──────────┼──────────┼──────────┼──────────┼──────────┼──────────┼──────────┼──────────┼──────────┼──────────┼──────────┼──────────┼──────────┼──────────┤\n",
            "│ C1            │  5.65379 │  8.29354 │ 11.6558  │ 18.3455  │ 18.2586  │  4.29445 │  8.3558  │ 14.0101  │ 17.0364  │  7.86924 │ 13.3883  │ 17.2159  │ 26.885   │  6.76608 │ 12.1226  │ 17.4194  │\n",
            "├───────────────┼──────────┼──────────┼──────────┼──────────┼──────────┼──────────┼──────────┼──────────┼──────────┼──────────┼──────────┼──────────┼──────────┼──────────┼──────────┼──────────┤\n",
            "│ C2            │ 12.9536  │  8.03496 │  8.19318 │ 10.9376  │  9.85584 │ 10.4367  │ 12.2375  │  8.76841 │  9.69126 │  5.99011 │  6.27572 │  8.69548 │ 17.3781  │  8.87978 │  7.12409 │  9.2177  │\n",
            "├───────────────┼──────────┼──────────┼──────────┼──────────┼──────────┼──────────┼──────────┼──────────┼──────────┼──────────┼──────────┼──────────┼──────────┼──────────┼──────────┼──────────┤\n",
            "│ C3            │ 31.2491  │ 25.4811  │ 24.3429  │ 20.6167  │ 17.5348  │ 27.3583  │ 30.5322  │ 23.0593  │ 21.1354  │ 22.979   │ 18.5031  │ 15.9525  │  9.35729 │ 25.4381  │ 21.7209  │ 15.8374  │\n",
            "├───────────────┼──────────┼──────────┼──────────┼──────────┼──────────┼──────────┼──────────┼──────────┼──────────┼──────────┼──────────┼──────────┼──────────┼──────────┼──────────┼──────────┤\n",
            "│ C4            │ 40.9074  │ 35.0229  │ 33.7227  │ 29.1728  │ 26.1701  │ 36.7561  │ 40.1791  │ 32.2822  │ 30.0266  │ 32.4935  │ 27.82    │ 24.8258  │ 15.2484  │ 34.8629  │ 31.0047  │ 24.7694  │\n",
            "├───────────────┼──────────┼──────────┼──────────┼──────────┼──────────┼──────────┼──────────┼──────────┼──────────┼──────────┼──────────┼──────────┼──────────┼──────────┼──────────┼──────────┤\n",
            "│ D2            │  6.58213 │ 13.4336  │ 16.6641  │ 23.7634  │ 24.7049  │ 10.2368  │  9.98644 │ 19.2772  │ 22.5296  │ 14.7413  │ 20.2773  │ 24.207   │ 34.6341  │ 12.2617  │ 17.989   │ 24.579   │\n",
            "├───────────────┼──────────┼──────────┼──────────┼──────────┼──────────┼──────────┼──────────┼──────────┼──────────┼──────────┼──────────┼──────────┼──────────┼──────────┼──────────┼──────────┤\n",
            "│ D3            │  4.97311 │  8.38748 │ 10.2947  │ 17.2217  │ 18.8822  │  9.57946 │  3.46298 │ 12.6134  │ 15.6347  │ 10.9105  │ 15.4708  │ 19.011   │ 29.5104  │ 10.7863  │ 12.8779  │ 18.8943  │\n",
            "├───────────────┼──────────┼──────────┼──────────┼──────────┼──────────┼──────────┼──────────┼──────────┼──────────┼──────────┼──────────┼──────────┼──────────┼──────────┼──────────┼──────────┤\n",
            "│ D4            │  9.39151 │  7.46757 │  7.01426 │ 12.8952  │ 14.7566  │ 11.691   │  5.6175  │  8.33162 │ 10.9365  │  9.91693 │ 12.6045  │ 15.3471  │ 25.1971  │ 12.0357  │ 10.4054  │ 14.6319  │\n",
            "╘═══════════════╧══════════╧══════════╧══════════╧══════════╧══════════╧══════════╧══════════╧══════════╧══════════╧══════════╧══════════╧══════════╧══════════╧══════════╧══════════╧══════════╛\n"
          ]
        }
      ]
    }
  ]
}