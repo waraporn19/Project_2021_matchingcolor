{
  "nbformat": 4,
  "nbformat_minor": 0,
  "metadata": {
    "colab": {
      "name": "P1A0.ipynb",
      "provenance": [],
      "authorship_tag": "ABX9TyPi5b11kj6X24HAFzGyhCBK",
      "include_colab_link": true
    },
    "kernelspec": {
      "name": "python3",
      "display_name": "Python 3"
    },
    "language_info": {
      "name": "python"
    }
  },
  "cells": [
    {
      "cell_type": "markdown",
      "metadata": {
        "id": "view-in-github",
        "colab_type": "text"
      },
      "source": [
        "<a href=\"https://colab.research.google.com/github/waraporn19/Project_2021_matchingcolor/blob/main/P1A0.ipynb\" target=\"_parent\"><img src=\"https://colab.research.google.com/assets/colab-badge.svg\" alt=\"Open In Colab\"/></a>"
      ]
    },
    {
      "cell_type": "code",
      "metadata": {
        "id": "Ymwqnwsbih-m"
      },
      "source": [
        "import pandas as pd"
      ],
      "execution_count": 1,
      "outputs": []
    },
    {
      "cell_type": "code",
      "metadata": {
        "id": "EHrxpNqlqgeI",
        "colab": {
          "base_uri": "https://localhost:8080/"
        },
        "outputId": "0b0796ec-953c-4c01-b86b-4d66f88a77fa"
      },
      "source": [
        "from google.colab import drive \n",
        "drive.mount('/content/drive')"
      ],
      "execution_count": 2,
      "outputs": [
        {
          "output_type": "stream",
          "name": "stdout",
          "text": [
            "Mounted at /content/drive\n"
          ]
        }
      ]
    },
    {
      "cell_type": "code",
      "metadata": {
        "id": "7Jmnpc3sq5sI"
      },
      "source": [
        "path = '/content/drive/My Drive/shadeimg'"
      ],
      "execution_count": 3,
      "outputs": []
    },
    {
      "cell_type": "code",
      "metadata": {
        "id": "u0pE0Y7GrGZc"
      },
      "source": [
        "import os"
      ],
      "execution_count": 4,
      "outputs": []
    },
    {
      "cell_type": "code",
      "metadata": {
        "id": "lb9f-peNrAwQ",
        "colab": {
          "base_uri": "https://localhost:8080/"
        },
        "outputId": "98136509-b1cd-4fb7-822b-34782aa70b6c"
      },
      "source": [
        "os.listdir(path)"
      ],
      "execution_count": 5,
      "outputs": [
        {
          "output_type": "execute_result",
          "data": {
            "text/plain": [
              "['รูปฟัน07',\n",
              " '9-10 7 2021',\n",
              " '11 7 2021',\n",
              " 'ฟันสักอย่างจำวันไม่ได้',\n",
              " '1 teeth .gsheet',\n",
              " '16 8 2021',\n",
              " '17 8 2021',\n",
              " '1 teeth .xlsx',\n",
              " '2 teeth .xlsx',\n",
              " '2 teeth.gsheet',\n",
              " 'All shade',\n",
              " 'A1set1.xlsx']"
            ]
          },
          "metadata": {},
          "execution_count": 5
        }
      ]
    },
    {
      "cell_type": "code",
      "metadata": {
        "colab": {
          "base_uri": "https://localhost:8080/"
        },
        "id": "wwZX8yQokAxo",
        "outputId": "afc7ede9-bc07-430d-c428-2e771644335a"
      },
      "source": [
        "!pip install azure-storage-blob==2.1.0"
      ],
      "execution_count": 6,
      "outputs": [
        {
          "output_type": "stream",
          "name": "stdout",
          "text": [
            "Collecting azure-storage-blob==2.1.0\n",
            "  Downloading azure_storage_blob-2.1.0-py2.py3-none-any.whl (88 kB)\n",
            "\u001b[K     |████████████████████████████████| 88 kB 3.5 MB/s \n",
            "\u001b[?25hCollecting azure-storage-common~=2.1\n",
            "  Downloading azure_storage_common-2.1.0-py2.py3-none-any.whl (47 kB)\n",
            "\u001b[K     |████████████████████████████████| 47 kB 3.7 MB/s \n",
            "\u001b[?25hCollecting azure-common>=1.1.5\n",
            "  Downloading azure_common-1.1.27-py2.py3-none-any.whl (12 kB)\n",
            "Collecting cryptography\n",
            "  Downloading cryptography-36.0.0-cp36-abi3-manylinux_2_24_x86_64.whl (3.6 MB)\n",
            "\u001b[K     |████████████████████████████████| 3.6 MB 38.2 MB/s \n",
            "\u001b[?25hRequirement already satisfied: python-dateutil in /usr/local/lib/python3.7/dist-packages (from azure-storage-common~=2.1->azure-storage-blob==2.1.0) (2.8.2)\n",
            "Requirement already satisfied: requests in /usr/local/lib/python3.7/dist-packages (from azure-storage-common~=2.1->azure-storage-blob==2.1.0) (2.23.0)\n",
            "Requirement already satisfied: cffi>=1.12 in /usr/local/lib/python3.7/dist-packages (from cryptography->azure-storage-common~=2.1->azure-storage-blob==2.1.0) (1.15.0)\n",
            "Requirement already satisfied: pycparser in /usr/local/lib/python3.7/dist-packages (from cffi>=1.12->cryptography->azure-storage-common~=2.1->azure-storage-blob==2.1.0) (2.21)\n",
            "Requirement already satisfied: six>=1.5 in /usr/local/lib/python3.7/dist-packages (from python-dateutil->azure-storage-common~=2.1->azure-storage-blob==2.1.0) (1.15.0)\n",
            "Requirement already satisfied: chardet<4,>=3.0.2 in /usr/local/lib/python3.7/dist-packages (from requests->azure-storage-common~=2.1->azure-storage-blob==2.1.0) (3.0.4)\n",
            "Requirement already satisfied: idna<3,>=2.5 in /usr/local/lib/python3.7/dist-packages (from requests->azure-storage-common~=2.1->azure-storage-blob==2.1.0) (2.10)\n",
            "Requirement already satisfied: urllib3!=1.25.0,!=1.25.1,<1.26,>=1.21.1 in /usr/local/lib/python3.7/dist-packages (from requests->azure-storage-common~=2.1->azure-storage-blob==2.1.0) (1.24.3)\n",
            "Requirement already satisfied: certifi>=2017.4.17 in /usr/local/lib/python3.7/dist-packages (from requests->azure-storage-common~=2.1->azure-storage-blob==2.1.0) (2021.10.8)\n",
            "Installing collected packages: cryptography, azure-common, azure-storage-common, azure-storage-blob\n",
            "Successfully installed azure-common-1.1.27 azure-storage-blob-2.1.0 azure-storage-common-2.1.0 cryptography-36.0.0\n"
          ]
        }
      ]
    },
    {
      "cell_type": "code",
      "metadata": {
        "id": "upBpPzhgmWjh"
      },
      "source": [
        "from azure.storage.blob import BlockBlobService\n",
        "import os"
      ],
      "execution_count": 7,
      "outputs": []
    },
    {
      "cell_type": "code",
      "metadata": {
        "id": "k3-2jUTwmWq1"
      },
      "source": [
        "blob_service_client = BlockBlobService(account_name='dent01', account_key='CuShY0B4TZJ84TjzPpaHxyrHOpO73aGXeCpdVq7x26OjIlQ1HOz+3DVc9pDEj9BdcEL8odFuTRF0mOAE+aCgiw==')"
      ],
      "execution_count": 8,
      "outputs": []
    },
    {
      "cell_type": "code",
      "metadata": {
        "id": "r02hCfq4rnrg"
      },
      "source": [
        "import cv2\n",
        "from matplotlib import pyplot as plt #การเรียกใช้คำสั่ง matplotlib เพื่อวาดกราฟ โดยแทนชื่อ matplotlib ด้วย plt\n",
        "import matplotlib"
      ],
      "execution_count": 9,
      "outputs": []
    },
    {
      "cell_type": "code",
      "metadata": {
        "id": "yWuV_FS_voGo"
      },
      "source": [
        "path2 = os.path.join(path,'A1set1.xlsx') "
      ],
      "execution_count": 10,
      "outputs": []
    },
    {
      "cell_type": "code",
      "metadata": {
        "id": "I-UIKEaRumS7"
      },
      "source": [
        "A1_set1 = pd.read_excel(path2)"
      ],
      "execution_count": 11,
      "outputs": []
    },
    {
      "cell_type": "code",
      "metadata": {
        "colab": {
          "base_uri": "https://localhost:8080/",
          "height": 423
        },
        "id": "zllFLhaCwGmF",
        "outputId": "dee22ee2-8d66-4c69-f2f3-980fb740de41"
      },
      "source": [
        "A1_set1"
      ],
      "execution_count": 12,
      "outputs": [
        {
          "output_type": "execute_result",
          "data": {
            "text/html": [
              "<div>\n",
              "<style scoped>\n",
              "    .dataframe tbody tr th:only-of-type {\n",
              "        vertical-align: middle;\n",
              "    }\n",
              "\n",
              "    .dataframe tbody tr th {\n",
              "        vertical-align: top;\n",
              "    }\n",
              "\n",
              "    .dataframe thead th {\n",
              "        text-align: right;\n",
              "    }\n",
              "</style>\n",
              "<table border=\"1\" class=\"dataframe\">\n",
              "  <thead>\n",
              "    <tr style=\"text-align: right;\">\n",
              "      <th></th>\n",
              "      <th>ชื่อไฟล์ข้อมูล</th>\n",
              "      <th>รหัสเฉดไกด์</th>\n",
              "      <th>Unnamed: 2</th>\n",
              "      <th>ชนิดกล้องถ่ายรูป</th>\n",
              "      <th>แสงที่ใช้</th>\n",
              "      <th>ฉากหลัง</th>\n",
              "      <th>หมายเหตุ</th>\n",
              "    </tr>\n",
              "  </thead>\n",
              "  <tbody>\n",
              "    <tr>\n",
              "      <th>0</th>\n",
              "      <td>NaN</td>\n",
              "      <td>ฝั่งซ้าย</td>\n",
              "      <td>ฝั่งขวา</td>\n",
              "      <td>NaN</td>\n",
              "      <td>NaN</td>\n",
              "      <td>NaN</td>\n",
              "      <td>NaN</td>\n",
              "    </tr>\n",
              "    <tr>\n",
              "      <th>1</th>\n",
              "      <td>219558E6-E67A-4672-9E46-3D084D0D2032.png</td>\n",
              "      <td>A1</td>\n",
              "      <td>A1</td>\n",
              "      <td>Iphone 11</td>\n",
              "      <td>ไฟธรรมชาติ + ไฟในห้อง 4 ดวง</td>\n",
              "      <td>สีดำ</td>\n",
              "      <td>ค่า duration 1/88 ISO 323</td>\n",
              "    </tr>\n",
              "    <tr>\n",
              "      <th>2</th>\n",
              "      <td>6D94544D-442A-4CFB-811D-FE7DC11D2ED2.png</td>\n",
              "      <td>A1</td>\n",
              "      <td>A1</td>\n",
              "      <td>Iphone 11</td>\n",
              "      <td>ไฟธรรมชาติ + ไฟในห้อง 4 ดวง</td>\n",
              "      <td>สีดำ</td>\n",
              "      <td>ค่า duration 1/88 ISO 323</td>\n",
              "    </tr>\n",
              "    <tr>\n",
              "      <th>3</th>\n",
              "      <td>7BF85808-DA35-4E17-B217-3872CF481063.png</td>\n",
              "      <td>A1</td>\n",
              "      <td>A1</td>\n",
              "      <td>Iphone 11</td>\n",
              "      <td>ไฟธรรมชาติ + ไฟในห้อง 4 ดวง</td>\n",
              "      <td>สีดำ</td>\n",
              "      <td>ค่า duration 1/88 ISO 323</td>\n",
              "    </tr>\n",
              "    <tr>\n",
              "      <th>4</th>\n",
              "      <td>F8F3A06B-FA35-4279-8C60-CA55360B7179.png</td>\n",
              "      <td>A1</td>\n",
              "      <td>A1</td>\n",
              "      <td>Iphone 11</td>\n",
              "      <td>ไฟธรรมชาติ + ไฟในห้อง 4 ดวง</td>\n",
              "      <td>สีดำ</td>\n",
              "      <td>ค่า duration 1/88 ISO 323</td>\n",
              "    </tr>\n",
              "    <tr>\n",
              "      <th>...</th>\n",
              "      <td>...</td>\n",
              "      <td>...</td>\n",
              "      <td>...</td>\n",
              "      <td>...</td>\n",
              "      <td>...</td>\n",
              "      <td>...</td>\n",
              "      <td>...</td>\n",
              "    </tr>\n",
              "    <tr>\n",
              "      <th>157</th>\n",
              "      <td>BD2FA08C-7FFF-4954-A5A7-439696889EAF.png</td>\n",
              "      <td>A1</td>\n",
              "      <td>D4</td>\n",
              "      <td>Iphone 11</td>\n",
              "      <td>ไฟธรรมชาติ + ไฟในห้อง 4 ดวง</td>\n",
              "      <td>สีดำ</td>\n",
              "      <td>ค่า duration 1/88 ISO 323</td>\n",
              "    </tr>\n",
              "    <tr>\n",
              "      <th>158</th>\n",
              "      <td>F416C964-E748-4A43-BD14-E972296B93AB.png</td>\n",
              "      <td>A1</td>\n",
              "      <td>D4</td>\n",
              "      <td>Iphone 11</td>\n",
              "      <td>ไฟธรรมชาติ + ไฟในห้อง 4 ดวง</td>\n",
              "      <td>สีดำ</td>\n",
              "      <td>ค่า duration 1/88 ISO 323</td>\n",
              "    </tr>\n",
              "    <tr>\n",
              "      <th>159</th>\n",
              "      <td>A7822018-E2E3-4156-8F78-EA68133F6491.png</td>\n",
              "      <td>A1</td>\n",
              "      <td>D4</td>\n",
              "      <td>Iphone 11</td>\n",
              "      <td>ไฟธรรมชาติ + ไฟในห้อง 4 ดวง</td>\n",
              "      <td>สีดำ</td>\n",
              "      <td>ค่า duration 1/88 ISO 323</td>\n",
              "    </tr>\n",
              "    <tr>\n",
              "      <th>160</th>\n",
              "      <td>5CD12207-6DA2-4D7B-B0DC-8D7406088384.png</td>\n",
              "      <td>A1</td>\n",
              "      <td>D4</td>\n",
              "      <td>Iphone 11</td>\n",
              "      <td>ไฟธรรมชาติ + ไฟในห้อง 4 ดวง</td>\n",
              "      <td>สีดำ</td>\n",
              "      <td>ค่า duration 1/88 ISO 323</td>\n",
              "    </tr>\n",
              "    <tr>\n",
              "      <th>161</th>\n",
              "      <td>E0E1C37E-221D-4768-8BC2-66513E7C527B.png</td>\n",
              "      <td>A1</td>\n",
              "      <td>D4</td>\n",
              "      <td>Iphone 11</td>\n",
              "      <td>ไฟธรรมชาติ + ไฟในห้อง 4 ดวง</td>\n",
              "      <td>สีดำ</td>\n",
              "      <td>ค่า duration 1/88 ISO 323</td>\n",
              "    </tr>\n",
              "  </tbody>\n",
              "</table>\n",
              "<p>162 rows × 7 columns</p>\n",
              "</div>"
            ],
            "text/plain": [
              "                               ชื่อไฟล์ข้อมูล  ...                   หมายเหตุ\n",
              "0                                         NaN  ...                        NaN\n",
              "1    219558E6-E67A-4672-9E46-3D084D0D2032.png  ...  ค่า duration 1/88 ISO 323\n",
              "2    6D94544D-442A-4CFB-811D-FE7DC11D2ED2.png  ...  ค่า duration 1/88 ISO 323\n",
              "3    7BF85808-DA35-4E17-B217-3872CF481063.png  ...  ค่า duration 1/88 ISO 323\n",
              "4    F8F3A06B-FA35-4279-8C60-CA55360B7179.png  ...  ค่า duration 1/88 ISO 323\n",
              "..                                        ...  ...                        ...\n",
              "157  BD2FA08C-7FFF-4954-A5A7-439696889EAF.png  ...  ค่า duration 1/88 ISO 323\n",
              "158  F416C964-E748-4A43-BD14-E972296B93AB.png  ...  ค่า duration 1/88 ISO 323\n",
              "159  A7822018-E2E3-4156-8F78-EA68133F6491.png  ...  ค่า duration 1/88 ISO 323\n",
              "160  5CD12207-6DA2-4D7B-B0DC-8D7406088384.png  ...  ค่า duration 1/88 ISO 323\n",
              "161  E0E1C37E-221D-4768-8BC2-66513E7C527B.png  ...  ค่า duration 1/88 ISO 323\n",
              "\n",
              "[162 rows x 7 columns]"
            ]
          },
          "metadata": {},
          "execution_count": 12
        }
      ]
    },
    {
      "cell_type": "code",
      "metadata": {
        "id": "Y6jhTgRvwsTN"
      },
      "source": [
        "A1_set1.rename(columns={\"รหัสเฉดไกด์\": \"ฝั่งซ้าย\"},inplace=True)"
      ],
      "execution_count": 13,
      "outputs": []
    },
    {
      "cell_type": "code",
      "metadata": {
        "id": "6yS5pC3Txiuc"
      },
      "source": [
        "A1_set1.rename(columns={\"Unnamed: 2\":\"ฝั่งขวา\"},inplace=True)"
      ],
      "execution_count": 14,
      "outputs": []
    },
    {
      "cell_type": "code",
      "metadata": {
        "colab": {
          "base_uri": "https://localhost:8080/",
          "height": 423
        },
        "id": "O90BXV_Hxq9f",
        "outputId": "f2ab5183-2fbd-4f8a-9c15-0309e9327c3c"
      },
      "source": [
        "A1_set1"
      ],
      "execution_count": 15,
      "outputs": [
        {
          "output_type": "execute_result",
          "data": {
            "text/html": [
              "<div>\n",
              "<style scoped>\n",
              "    .dataframe tbody tr th:only-of-type {\n",
              "        vertical-align: middle;\n",
              "    }\n",
              "\n",
              "    .dataframe tbody tr th {\n",
              "        vertical-align: top;\n",
              "    }\n",
              "\n",
              "    .dataframe thead th {\n",
              "        text-align: right;\n",
              "    }\n",
              "</style>\n",
              "<table border=\"1\" class=\"dataframe\">\n",
              "  <thead>\n",
              "    <tr style=\"text-align: right;\">\n",
              "      <th></th>\n",
              "      <th>ชื่อไฟล์ข้อมูล</th>\n",
              "      <th>ฝั่งซ้าย</th>\n",
              "      <th>ฝั่งขวา</th>\n",
              "      <th>ชนิดกล้องถ่ายรูป</th>\n",
              "      <th>แสงที่ใช้</th>\n",
              "      <th>ฉากหลัง</th>\n",
              "      <th>หมายเหตุ</th>\n",
              "    </tr>\n",
              "  </thead>\n",
              "  <tbody>\n",
              "    <tr>\n",
              "      <th>0</th>\n",
              "      <td>NaN</td>\n",
              "      <td>ฝั่งซ้าย</td>\n",
              "      <td>ฝั่งขวา</td>\n",
              "      <td>NaN</td>\n",
              "      <td>NaN</td>\n",
              "      <td>NaN</td>\n",
              "      <td>NaN</td>\n",
              "    </tr>\n",
              "    <tr>\n",
              "      <th>1</th>\n",
              "      <td>219558E6-E67A-4672-9E46-3D084D0D2032.png</td>\n",
              "      <td>A1</td>\n",
              "      <td>A1</td>\n",
              "      <td>Iphone 11</td>\n",
              "      <td>ไฟธรรมชาติ + ไฟในห้อง 4 ดวง</td>\n",
              "      <td>สีดำ</td>\n",
              "      <td>ค่า duration 1/88 ISO 323</td>\n",
              "    </tr>\n",
              "    <tr>\n",
              "      <th>2</th>\n",
              "      <td>6D94544D-442A-4CFB-811D-FE7DC11D2ED2.png</td>\n",
              "      <td>A1</td>\n",
              "      <td>A1</td>\n",
              "      <td>Iphone 11</td>\n",
              "      <td>ไฟธรรมชาติ + ไฟในห้อง 4 ดวง</td>\n",
              "      <td>สีดำ</td>\n",
              "      <td>ค่า duration 1/88 ISO 323</td>\n",
              "    </tr>\n",
              "    <tr>\n",
              "      <th>3</th>\n",
              "      <td>7BF85808-DA35-4E17-B217-3872CF481063.png</td>\n",
              "      <td>A1</td>\n",
              "      <td>A1</td>\n",
              "      <td>Iphone 11</td>\n",
              "      <td>ไฟธรรมชาติ + ไฟในห้อง 4 ดวง</td>\n",
              "      <td>สีดำ</td>\n",
              "      <td>ค่า duration 1/88 ISO 323</td>\n",
              "    </tr>\n",
              "    <tr>\n",
              "      <th>4</th>\n",
              "      <td>F8F3A06B-FA35-4279-8C60-CA55360B7179.png</td>\n",
              "      <td>A1</td>\n",
              "      <td>A1</td>\n",
              "      <td>Iphone 11</td>\n",
              "      <td>ไฟธรรมชาติ + ไฟในห้อง 4 ดวง</td>\n",
              "      <td>สีดำ</td>\n",
              "      <td>ค่า duration 1/88 ISO 323</td>\n",
              "    </tr>\n",
              "    <tr>\n",
              "      <th>...</th>\n",
              "      <td>...</td>\n",
              "      <td>...</td>\n",
              "      <td>...</td>\n",
              "      <td>...</td>\n",
              "      <td>...</td>\n",
              "      <td>...</td>\n",
              "      <td>...</td>\n",
              "    </tr>\n",
              "    <tr>\n",
              "      <th>157</th>\n",
              "      <td>BD2FA08C-7FFF-4954-A5A7-439696889EAF.png</td>\n",
              "      <td>A1</td>\n",
              "      <td>D4</td>\n",
              "      <td>Iphone 11</td>\n",
              "      <td>ไฟธรรมชาติ + ไฟในห้อง 4 ดวง</td>\n",
              "      <td>สีดำ</td>\n",
              "      <td>ค่า duration 1/88 ISO 323</td>\n",
              "    </tr>\n",
              "    <tr>\n",
              "      <th>158</th>\n",
              "      <td>F416C964-E748-4A43-BD14-E972296B93AB.png</td>\n",
              "      <td>A1</td>\n",
              "      <td>D4</td>\n",
              "      <td>Iphone 11</td>\n",
              "      <td>ไฟธรรมชาติ + ไฟในห้อง 4 ดวง</td>\n",
              "      <td>สีดำ</td>\n",
              "      <td>ค่า duration 1/88 ISO 323</td>\n",
              "    </tr>\n",
              "    <tr>\n",
              "      <th>159</th>\n",
              "      <td>A7822018-E2E3-4156-8F78-EA68133F6491.png</td>\n",
              "      <td>A1</td>\n",
              "      <td>D4</td>\n",
              "      <td>Iphone 11</td>\n",
              "      <td>ไฟธรรมชาติ + ไฟในห้อง 4 ดวง</td>\n",
              "      <td>สีดำ</td>\n",
              "      <td>ค่า duration 1/88 ISO 323</td>\n",
              "    </tr>\n",
              "    <tr>\n",
              "      <th>160</th>\n",
              "      <td>5CD12207-6DA2-4D7B-B0DC-8D7406088384.png</td>\n",
              "      <td>A1</td>\n",
              "      <td>D4</td>\n",
              "      <td>Iphone 11</td>\n",
              "      <td>ไฟธรรมชาติ + ไฟในห้อง 4 ดวง</td>\n",
              "      <td>สีดำ</td>\n",
              "      <td>ค่า duration 1/88 ISO 323</td>\n",
              "    </tr>\n",
              "    <tr>\n",
              "      <th>161</th>\n",
              "      <td>E0E1C37E-221D-4768-8BC2-66513E7C527B.png</td>\n",
              "      <td>A1</td>\n",
              "      <td>D4</td>\n",
              "      <td>Iphone 11</td>\n",
              "      <td>ไฟธรรมชาติ + ไฟในห้อง 4 ดวง</td>\n",
              "      <td>สีดำ</td>\n",
              "      <td>ค่า duration 1/88 ISO 323</td>\n",
              "    </tr>\n",
              "  </tbody>\n",
              "</table>\n",
              "<p>162 rows × 7 columns</p>\n",
              "</div>"
            ],
            "text/plain": [
              "                               ชื่อไฟล์ข้อมูล  ...                   หมายเหตุ\n",
              "0                                         NaN  ...                        NaN\n",
              "1    219558E6-E67A-4672-9E46-3D084D0D2032.png  ...  ค่า duration 1/88 ISO 323\n",
              "2    6D94544D-442A-4CFB-811D-FE7DC11D2ED2.png  ...  ค่า duration 1/88 ISO 323\n",
              "3    7BF85808-DA35-4E17-B217-3872CF481063.png  ...  ค่า duration 1/88 ISO 323\n",
              "4    F8F3A06B-FA35-4279-8C60-CA55360B7179.png  ...  ค่า duration 1/88 ISO 323\n",
              "..                                        ...  ...                        ...\n",
              "157  BD2FA08C-7FFF-4954-A5A7-439696889EAF.png  ...  ค่า duration 1/88 ISO 323\n",
              "158  F416C964-E748-4A43-BD14-E972296B93AB.png  ...  ค่า duration 1/88 ISO 323\n",
              "159  A7822018-E2E3-4156-8F78-EA68133F6491.png  ...  ค่า duration 1/88 ISO 323\n",
              "160  5CD12207-6DA2-4D7B-B0DC-8D7406088384.png  ...  ค่า duration 1/88 ISO 323\n",
              "161  E0E1C37E-221D-4768-8BC2-66513E7C527B.png  ...  ค่า duration 1/88 ISO 323\n",
              "\n",
              "[162 rows x 7 columns]"
            ]
          },
          "metadata": {},
          "execution_count": 15
        }
      ]
    },
    {
      "cell_type": "code",
      "metadata": {
        "colab": {
          "base_uri": "https://localhost:8080/",
          "height": 423
        },
        "id": "X6w8bgse0RQZ",
        "outputId": "5b9fca00-ea61-4b87-bc55-be97fbdd07f0"
      },
      "source": [
        "A1_set1 = A1_set1.drop([0])\n",
        "A1_set1"
      ],
      "execution_count": 16,
      "outputs": [
        {
          "output_type": "execute_result",
          "data": {
            "text/html": [
              "<div>\n",
              "<style scoped>\n",
              "    .dataframe tbody tr th:only-of-type {\n",
              "        vertical-align: middle;\n",
              "    }\n",
              "\n",
              "    .dataframe tbody tr th {\n",
              "        vertical-align: top;\n",
              "    }\n",
              "\n",
              "    .dataframe thead th {\n",
              "        text-align: right;\n",
              "    }\n",
              "</style>\n",
              "<table border=\"1\" class=\"dataframe\">\n",
              "  <thead>\n",
              "    <tr style=\"text-align: right;\">\n",
              "      <th></th>\n",
              "      <th>ชื่อไฟล์ข้อมูล</th>\n",
              "      <th>ฝั่งซ้าย</th>\n",
              "      <th>ฝั่งขวา</th>\n",
              "      <th>ชนิดกล้องถ่ายรูป</th>\n",
              "      <th>แสงที่ใช้</th>\n",
              "      <th>ฉากหลัง</th>\n",
              "      <th>หมายเหตุ</th>\n",
              "    </tr>\n",
              "  </thead>\n",
              "  <tbody>\n",
              "    <tr>\n",
              "      <th>1</th>\n",
              "      <td>219558E6-E67A-4672-9E46-3D084D0D2032.png</td>\n",
              "      <td>A1</td>\n",
              "      <td>A1</td>\n",
              "      <td>Iphone 11</td>\n",
              "      <td>ไฟธรรมชาติ + ไฟในห้อง 4 ดวง</td>\n",
              "      <td>สีดำ</td>\n",
              "      <td>ค่า duration 1/88 ISO 323</td>\n",
              "    </tr>\n",
              "    <tr>\n",
              "      <th>2</th>\n",
              "      <td>6D94544D-442A-4CFB-811D-FE7DC11D2ED2.png</td>\n",
              "      <td>A1</td>\n",
              "      <td>A1</td>\n",
              "      <td>Iphone 11</td>\n",
              "      <td>ไฟธรรมชาติ + ไฟในห้อง 4 ดวง</td>\n",
              "      <td>สีดำ</td>\n",
              "      <td>ค่า duration 1/88 ISO 323</td>\n",
              "    </tr>\n",
              "    <tr>\n",
              "      <th>3</th>\n",
              "      <td>7BF85808-DA35-4E17-B217-3872CF481063.png</td>\n",
              "      <td>A1</td>\n",
              "      <td>A1</td>\n",
              "      <td>Iphone 11</td>\n",
              "      <td>ไฟธรรมชาติ + ไฟในห้อง 4 ดวง</td>\n",
              "      <td>สีดำ</td>\n",
              "      <td>ค่า duration 1/88 ISO 323</td>\n",
              "    </tr>\n",
              "    <tr>\n",
              "      <th>4</th>\n",
              "      <td>F8F3A06B-FA35-4279-8C60-CA55360B7179.png</td>\n",
              "      <td>A1</td>\n",
              "      <td>A1</td>\n",
              "      <td>Iphone 11</td>\n",
              "      <td>ไฟธรรมชาติ + ไฟในห้อง 4 ดวง</td>\n",
              "      <td>สีดำ</td>\n",
              "      <td>ค่า duration 1/88 ISO 323</td>\n",
              "    </tr>\n",
              "    <tr>\n",
              "      <th>5</th>\n",
              "      <td>B7D67D95-6E1E-4FDB-9C86-BEC2876991A4.png</td>\n",
              "      <td>A1</td>\n",
              "      <td>A1</td>\n",
              "      <td>Iphone 11</td>\n",
              "      <td>ไฟธรรมชาติ + ไฟในห้อง 4 ดวง</td>\n",
              "      <td>สีดำ</td>\n",
              "      <td>ค่า duration 1/88 ISO 323</td>\n",
              "    </tr>\n",
              "    <tr>\n",
              "      <th>...</th>\n",
              "      <td>...</td>\n",
              "      <td>...</td>\n",
              "      <td>...</td>\n",
              "      <td>...</td>\n",
              "      <td>...</td>\n",
              "      <td>...</td>\n",
              "      <td>...</td>\n",
              "    </tr>\n",
              "    <tr>\n",
              "      <th>157</th>\n",
              "      <td>BD2FA08C-7FFF-4954-A5A7-439696889EAF.png</td>\n",
              "      <td>A1</td>\n",
              "      <td>D4</td>\n",
              "      <td>Iphone 11</td>\n",
              "      <td>ไฟธรรมชาติ + ไฟในห้อง 4 ดวง</td>\n",
              "      <td>สีดำ</td>\n",
              "      <td>ค่า duration 1/88 ISO 323</td>\n",
              "    </tr>\n",
              "    <tr>\n",
              "      <th>158</th>\n",
              "      <td>F416C964-E748-4A43-BD14-E972296B93AB.png</td>\n",
              "      <td>A1</td>\n",
              "      <td>D4</td>\n",
              "      <td>Iphone 11</td>\n",
              "      <td>ไฟธรรมชาติ + ไฟในห้อง 4 ดวง</td>\n",
              "      <td>สีดำ</td>\n",
              "      <td>ค่า duration 1/88 ISO 323</td>\n",
              "    </tr>\n",
              "    <tr>\n",
              "      <th>159</th>\n",
              "      <td>A7822018-E2E3-4156-8F78-EA68133F6491.png</td>\n",
              "      <td>A1</td>\n",
              "      <td>D4</td>\n",
              "      <td>Iphone 11</td>\n",
              "      <td>ไฟธรรมชาติ + ไฟในห้อง 4 ดวง</td>\n",
              "      <td>สีดำ</td>\n",
              "      <td>ค่า duration 1/88 ISO 323</td>\n",
              "    </tr>\n",
              "    <tr>\n",
              "      <th>160</th>\n",
              "      <td>5CD12207-6DA2-4D7B-B0DC-8D7406088384.png</td>\n",
              "      <td>A1</td>\n",
              "      <td>D4</td>\n",
              "      <td>Iphone 11</td>\n",
              "      <td>ไฟธรรมชาติ + ไฟในห้อง 4 ดวง</td>\n",
              "      <td>สีดำ</td>\n",
              "      <td>ค่า duration 1/88 ISO 323</td>\n",
              "    </tr>\n",
              "    <tr>\n",
              "      <th>161</th>\n",
              "      <td>E0E1C37E-221D-4768-8BC2-66513E7C527B.png</td>\n",
              "      <td>A1</td>\n",
              "      <td>D4</td>\n",
              "      <td>Iphone 11</td>\n",
              "      <td>ไฟธรรมชาติ + ไฟในห้อง 4 ดวง</td>\n",
              "      <td>สีดำ</td>\n",
              "      <td>ค่า duration 1/88 ISO 323</td>\n",
              "    </tr>\n",
              "  </tbody>\n",
              "</table>\n",
              "<p>161 rows × 7 columns</p>\n",
              "</div>"
            ],
            "text/plain": [
              "                               ชื่อไฟล์ข้อมูล  ...                   หมายเหตุ\n",
              "1    219558E6-E67A-4672-9E46-3D084D0D2032.png  ...  ค่า duration 1/88 ISO 323\n",
              "2    6D94544D-442A-4CFB-811D-FE7DC11D2ED2.png  ...  ค่า duration 1/88 ISO 323\n",
              "3    7BF85808-DA35-4E17-B217-3872CF481063.png  ...  ค่า duration 1/88 ISO 323\n",
              "4    F8F3A06B-FA35-4279-8C60-CA55360B7179.png  ...  ค่า duration 1/88 ISO 323\n",
              "5    B7D67D95-6E1E-4FDB-9C86-BEC2876991A4.png  ...  ค่า duration 1/88 ISO 323\n",
              "..                                        ...  ...                        ...\n",
              "157  BD2FA08C-7FFF-4954-A5A7-439696889EAF.png  ...  ค่า duration 1/88 ISO 323\n",
              "158  F416C964-E748-4A43-BD14-E972296B93AB.png  ...  ค่า duration 1/88 ISO 323\n",
              "159  A7822018-E2E3-4156-8F78-EA68133F6491.png  ...  ค่า duration 1/88 ISO 323\n",
              "160  5CD12207-6DA2-4D7B-B0DC-8D7406088384.png  ...  ค่า duration 1/88 ISO 323\n",
              "161  E0E1C37E-221D-4768-8BC2-66513E7C527B.png  ...  ค่า duration 1/88 ISO 323\n",
              "\n",
              "[161 rows x 7 columns]"
            ]
          },
          "metadata": {},
          "execution_count": 16
        }
      ]
    },
    {
      "cell_type": "code",
      "metadata": {
        "id": "qynTygcC1ZBH"
      },
      "source": [
        "import cv2\n",
        "from matplotlib import pyplot as plt #การเรียกใช้คำสั่ง matplotlib เพื่อวาดกราฟ โดยแทนชื่อ matplotlib ด้วย plt\n",
        "import matplotlib"
      ],
      "execution_count": 17,
      "outputs": []
    },
    {
      "cell_type": "code",
      "metadata": {
        "id": "kbd_KOCD5vG7"
      },
      "source": [
        "import numpy as np"
      ],
      "execution_count": 18,
      "outputs": []
    },
    {
      "cell_type": "code",
      "metadata": {
        "id": "aqVTTsy35K6K"
      },
      "source": [
        "from tabulate import tabulate"
      ],
      "execution_count": 19,
      "outputs": []
    },
    {
      "cell_type": "code",
      "metadata": {
        "id": "Aju5DUHW49cB"
      },
      "source": [
        "table   = [['R-ref', 'G-ref', 'B-ref', 'R-Shad', 'G-Shad', 'B-Shad', 'H-ref', 'S-ref', 'V-ref', 'H-Shad', 'S-Shad', 'V-Shad', 'Shade-ref', 'Shade', 'Setting']]"
      ],
      "execution_count": 20,
      "outputs": []
    },
    {
      "cell_type": "code",
      "metadata": {
        "colab": {
          "base_uri": "https://localhost:8080/"
        },
        "id": "6nZxBs7wawHd",
        "outputId": "0f82a385-beac-40f9-f7d4-7d86e60a59b6"
      },
      "source": [
        "for img in A1_set1['ชื่อไฟล์ข้อมูล']:\n",
        "  S1_double = img\n",
        "  full_path_to_file2 = os.path.join(S1_double) \n",
        "  blob_service_client.get_blob_to_path('shadeimg', full_path_to_file2, full_path_to_file2)\n",
        "  imgS1_A1A1_1  = cv2.imread(S1_double) #RGB\n",
        "  S1RGB_imgA1A1_1= cv2.cvtColor(imgS1_A1A1_1, cv2.COLOR_BGR2RGB)\n",
        "  S1meanrefA1_1 = list()\n",
        "  S1meanA1_2 = list()\n",
        "  for i in range(S1RGB_imgA1A1_1.shape[0]): \n",
        "     for j in range(S1RGB_imgA1A1_1.shape[1]): \n",
        "                if 1769<i<1881 and 2019<j<2131 :\n",
        "                  S1meanrefA1_1.append(S1RGB_imgA1A1_1[i][j])\n",
        "                if 1770<i<1880 and 2015<j<2145 :\n",
        "                  S1meanA1_2.append(S1RGB_imgA1A1_1[i][j])  \n",
        "  S1meanrefA1_1 = np.array(S1meanrefA1_1)\n",
        "  S1meanA1_2 = np.array(S1meanA1_2)\n",
        "  S1rgbrefA1_1 = list()\n",
        "  S1rgbA1_2 = list()\n",
        "  for i in range(3):\n",
        "    S1rgbrefA1_1.append(S1meanrefA1_1[:,i].mean())\n",
        "    S1rgbA1_2.append(S1meanA1_2[:,i].mean())\n",
        "list_total = list()\n",
        "list_total.append(S1rgbrefA1_1)\n",
        "print(S1rgbrefA1_1,S1rgbA1_2)"
      ],
      "execution_count": 45,
      "outputs": [
        {
          "output_type": "stream",
          "name": "stdout",
          "text": [
            "[226.74417660904146, 204.01306712117523, 154.43275708140573] [227.32700376929094, 204.90235402887419, 156.1120830666382]\n"
          ]
        }
      ]
    },
    {
      "cell_type": "code",
      "metadata": {
        "id": "ZEGC6dA6tnZZ"
      },
      "source": [
        "for i in rang(len(S1rgbrefA1_1,S1rgbA1_2)):\n",
        "     print(i )"
      ],
      "execution_count": null,
      "outputs": []
    },
    {
      "cell_type": "code",
      "metadata": {
        "id": "S6v-vQl7nxG5",
        "outputId": "fad28a8a-ffc6-4ed3-cff4-c6bb1c4a1696",
        "colab": {
          "base_uri": "https://localhost:8080/"
        }
      },
      "source": [
        "print(list_total)"
      ],
      "execution_count": 42,
      "outputs": [
        {
          "output_type": "stream",
          "name": "stdout",
          "text": [
            "[[226.74417660904146, 204.01306712117523, 154.43275708140573]]\n"
          ]
        }
      ]
    },
    {
      "cell_type": "code",
      "metadata": {
        "id": "SgZYwPrrfutz"
      },
      "source": [
        "print(S1rgbrefA1_1,S1rgbA1_2)"
      ],
      "execution_count": null,
      "outputs": []
    },
    {
      "cell_type": "code",
      "metadata": {
        "id": "L19qGZkEQy9p"
      },
      "source": [
        "\n",
        "list_total = list()\n",
        "list_total.append(S1rgbrefA1_1,S1rgbA1_2)\n",
        "print(S1rgbrefA1_1,S1rgbA1_2)"
      ],
      "execution_count": null,
      "outputs": []
    },
    {
      "cell_type": "code",
      "metadata": {
        "id": "I5lam_cA6bWY"
      },
      "source": [
        "for img in A1_set1['ชื่อไฟล์ข้อมูล']:\n",
        "  S1_double = img\n",
        "  full_path_to_file2 = os.path.join(S1_double) \n",
        "  blob_service_client.get_blob_to_path('shadeimg', full_path_to_file2, full_path_to_file2)\n",
        "  imgS1_A1A1_1  = cv2.imread(S1_double) #RGB\n",
        "  S1RGB_imgA1A1_1= cv2.cvtColor(imgS1_A1A1_1, cv2.COLOR_BGR2RGB)\n",
        "  S1meanrefA1_1 = list()\n",
        "  S1meanA1_2 = list()\n",
        "  for i in range(S1RGB_imgA1A1_1.shape[0]): \n",
        "     for j in range(S1RGB_imgA1A1_1.shape[1]): \n",
        "                if 1769<i<1881 and 2019<j<2131 :\n",
        "                  S1meanrefA1_1.append(S1RGB_imgA1A1_1[i][j])\n",
        "                if 1770<i<1880 and 2015<j<2145 :\n",
        "                  S1meanA1_2.append(S1RGB_imgA1A1_1[i][j])  \n",
        "  S1meanrefA1_1 = np.array(S1meanrefA1_1)\n",
        "  S1meanA1_2 = np.array(S1meanA1_2)\n",
        "  S1rgbrefA1_1 = list()\n",
        "  S1rgbA1_2 = list()\n",
        "  for i in range(3):\n",
        "    S1rgbrefA1_1.append(S1meanrefA1_1[:,i].mean())\n",
        "    S1rgbA1_2.append(S1meanA1_2[:,i].mean())\n",
        "  S1rgbrefA1_1,S1rgbA1_2 \n",
        "  imgS1_A1A1_1 = cv2.imread(S1_double) #HSV\n",
        "  S1HSV_imgA1A1_1= cv2.cvtColor(imgS1_A1A1_1, cv2.COLOR_BGR2HSV)\n",
        "  S1meanrefA1_1 = list()\n",
        "  S1meanA1_2 = list()\n",
        "  for i in range( S1HSV_imgA1A1_1.shape[0]): \n",
        "      for j in range(S1HSV_imgA1A1_1.shape[1]):\n",
        "                if 1769<i<1881 and 2019<j<2131 :\n",
        "                  S1meanrefA1_1.append( S1HSV_imgA1A1_1[i][j])\n",
        "                if 1770<i<1880 and 2015<j<2145 :\n",
        "                  S1meanA1_2.append( S1HSV_imgA1A1_1[i][j])  \n",
        "  S1meanrefA1_1 = np.array(S1meanrefA1_1)\n",
        "  S1meanA1_2 = np.array(S1meanA1_2)\n",
        "  S1hsvrefA1_1 = list()\n",
        "  S1hsvA1_2 = list()\n",
        "  for i in range(3):\n",
        "    S1hsvrefA1_1.append(S1meanrefA1_1[:,i].mean())\n",
        "    S1hsvA1_2.append(S1meanA1_2[:,i].mean())\n",
        "  S1hsvrefA1_1,S1hsvA1_2 "
      ],
      "execution_count": null,
      "outputs": []
    },
    {
      "cell_type": "code",
      "metadata": {
        "id": "YUCu7oHePFU7"
      },
      "source": [
        "table   = pd.DataFrame(columns=['R-ref', 'G-ref', 'B-ref', 'R-Shad', 'G-Shad', 'B-Shad', 'H-ref', 'S-ref', 'V-ref', 'H-Shad', 'S-Shad', 'V-Shad', 'Shade-ref', 'Shade', 'Setting'] )"
      ],
      "execution_count": null,
      "outputs": []
    },
    {
      "cell_type": "code",
      "metadata": {
        "id": "ktPtL65ZKfTA"
      },
      "source": [
        "table   = pd.DataFrame(columns=['R-ref', 'G-ref'] )\n",
        "for i in range(len(A1_set11)):\n",
        "  table1 = pd.DataFrame({'R-ref': [1,5], 'G-ref': [2,3]})"
      ],
      "execution_count": null,
      "outputs": []
    },
    {
      "cell_type": "code",
      "metadata": {
        "colab": {
          "base_uri": "https://localhost:8080/"
        },
        "id": "wg91gNDVPcX8",
        "outputId": "9cd5ff8e-5138-4331-e9ff-f83502deeb90"
      },
      "source": [
        " table1.loc[1]"
      ],
      "execution_count": null,
      "outputs": [
        {
          "output_type": "execute_result",
          "data": {
            "text/plain": [
              "R-ref    5\n",
              "G-ref    3\n",
              "Name: 1, dtype: int64"
            ]
          },
          "metadata": {},
          "execution_count": 144
        }
      ]
    },
    {
      "cell_type": "code",
      "metadata": {
        "id": "vB72n-uzFdb8"
      },
      "source": [
        "  table = pd.DataFrame({'R-ref': [S1rgbrefA1_1[0]] , 'G-ref': [S1rgbrefA1_1[1]] ,  'B-ref': [S1rgbrefA1_1[2]],  'R-Shad': [S1rgbA1_2[0]],  'G-Shad': [S1rgbA1_2[1]], 'B-Shad': [S1rgbA1_2[2]] })"
      ],
      "execution_count": null,
      "outputs": []
    },
    {
      "cell_type": "code",
      "metadata": {
        "colab": {
          "base_uri": "https://localhost:8080/",
          "height": 81
        },
        "id": "9MOtnDq4FfFY",
        "outputId": "b7376dae-ea17-4be2-b444-aaf91b362367"
      },
      "source": [
        "table"
      ],
      "execution_count": null,
      "outputs": [
        {
          "output_type": "execute_result",
          "data": {
            "text/html": [
              "<div>\n",
              "<style scoped>\n",
              "    .dataframe tbody tr th:only-of-type {\n",
              "        vertical-align: middle;\n",
              "    }\n",
              "\n",
              "    .dataframe tbody tr th {\n",
              "        vertical-align: top;\n",
              "    }\n",
              "\n",
              "    .dataframe thead th {\n",
              "        text-align: right;\n",
              "    }\n",
              "</style>\n",
              "<table border=\"1\" class=\"dataframe\">\n",
              "  <thead>\n",
              "    <tr style=\"text-align: right;\">\n",
              "      <th></th>\n",
              "      <th>R-ref</th>\n",
              "      <th>G-ref</th>\n",
              "      <th>B-ref</th>\n",
              "      <th>R-Shad</th>\n",
              "      <th>G-Shad</th>\n",
              "      <th>B-Shad</th>\n",
              "    </tr>\n",
              "  </thead>\n",
              "  <tbody>\n",
              "    <tr>\n",
              "      <th>0</th>\n",
              "      <td>235.799935</td>\n",
              "      <td>224.51603</td>\n",
              "      <td>190.873549</td>\n",
              "      <td>236.478202</td>\n",
              "      <td>225.354384</td>\n",
              "      <td>192.366332</td>\n",
              "    </tr>\n",
              "  </tbody>\n",
              "</table>\n",
              "</div>"
            ],
            "text/plain": [
              "        R-ref      G-ref       B-ref      R-Shad      G-Shad      B-Shad\n",
              "0  235.799935  224.51603  190.873549  236.478202  225.354384  192.366332"
            ]
          },
          "metadata": {},
          "execution_count": 117
        }
      ]
    },
    {
      "cell_type": "code",
      "metadata": {
        "id": "ylfvMABwAmu2"
      },
      "source": [
        "data = data.rename(columns={\"partner.status\":\"partner_status\"}) "
      ],
      "execution_count": null,
      "outputs": []
    },
    {
      "cell_type": "code",
      "metadata": {
        "id": "fhtYRU4j7E6K",
        "colab": {
          "base_uri": "https://localhost:8080/",
          "height": 81
        },
        "outputId": "de2a8f41-ba8f-47e2-be96-d2a1fc16decd"
      },
      "source": [
        "record = [{'R-ref':[S1rgbrefA1_1[0]:S1rgbrefA1_1[0]]}]\n",
        "record_df = pd.DataFrame(record)\n",
        "record_df\n"
      ],
      "execution_count": null,
      "outputs": [
        {
          "output_type": "execute_result",
          "data": {
            "text/html": [
              "<div>\n",
              "<style scoped>\n",
              "    .dataframe tbody tr th:only-of-type {\n",
              "        vertical-align: middle;\n",
              "    }\n",
              "\n",
              "    .dataframe tbody tr th {\n",
              "        vertical-align: top;\n",
              "    }\n",
              "\n",
              "    .dataframe thead th {\n",
              "        text-align: right;\n",
              "    }\n",
              "</style>\n",
              "<table border=\"1\" class=\"dataframe\">\n",
              "  <thead>\n",
              "    <tr style=\"text-align: right;\">\n",
              "      <th></th>\n",
              "      <th>R-ref</th>\n",
              "    </tr>\n",
              "  </thead>\n",
              "  <tbody>\n",
              "    <tr>\n",
              "      <th>0</th>\n",
              "      <td>(226.74417660904146, 226.74417660904146)</td>\n",
              "    </tr>\n",
              "  </tbody>\n",
              "</table>\n",
              "</div>"
            ],
            "text/plain": [
              "                                      R-ref\n",
              "0  (226.74417660904146, 226.74417660904146)"
            ]
          },
          "metadata": {},
          "execution_count": 80
        }
      ]
    },
    {
      "cell_type": "code",
      "metadata": {
        "id": "wx793GT--YCf"
      },
      "source": [
        "record = [{'R-ref': S1rgbrefA1_1[0],S1rgbrefA1_1[0],'G-ref': S1rgbrefA1_1[1],'B-ref':S1rgbrefA1_1[2],\n",
        "                'R-Shad': S1rgbA1_2[0],'G-Shad': S1rgbA1_2[1],'B-Shad':S1rgbA1_2[2]}]\n",
        "record_df = pd.DataFrame(record)\n",
        "record_df"
      ],
      "execution_count": null,
      "outputs": []
    },
    {
      "cell_type": "code",
      "metadata": {
        "id": "M2CccsaBEeox"
      },
      "source": [
        "df = pd.DataFrame({'R-ref': [S1rgbrefA1_1[0],S1rgbrefA1_3[0],S1rgbrefA1_4[0], S1rgbrefA1_5[0], S1rgbrefA1_6[0],S1rgbrefA1_7[0], S1rgbrefA1_8[0],S1rgbrefA1_9[0], S1rgbrefA1_10[0], S1rgbrefA1_11[0], S1rgbrefA1_12[0], S1rgbrefA1_13[0], S1rgbrefA1_14[0], S1rgbrefA1_15[0], S1rgbrefA1_16[0], S1rgbrefA1_17[0]],\n",
        "  'G-ref': [S1rgbrefA1_1[1], S1rgbrefA1_3[1], S1rgbrefA1_4[1], S1rgbrefA1_5[1], S1rgbrefA1_6[1], S1rgbrefA1_7[1], S1rgbrefA1_8[1], S1rgbrefA1_9[1], S1rgbrefA1_10[1], S1rgbrefA1_11[1], S1rgbrefA1_12[1], S1rgbrefA1_13[1], S1rgbrefA1_14[1], S1rgbrefA1_15[1], S1rgbrefA1_16[1], S1rgbrefA1_17[1]],\n",
        "  'B-ref': [S1rgbrefA1_1[2],S1rgbrefA1_3[2],S1rgbrefA1_4[2],S1rgbrefA1_5[2], S1rgbrefA1_6[2],S1rgbrefA1_7[2], S1rgbrefA1_8[2],S1rgbrefA1_9[2], S1rgbrefA1_10[2],S1rgbrefA1_11[2], S1rgbrefA1_12[2],S1rgbrefA1_13[2], S1rgbrefA1_14[2],S1rgbrefA1_15[2], S1rgbrefA1_16[2],S1rgbrefA1_17[2]],\n",
        "  'R-Shad': [S1rgbA1_2[0],S1rgbA2_1[0],S1rgbA3_1[0],S1rgbA3_51[0],S1rgbA4_1[0],S1rgbB1_1[0],S1rgbB2_1[0],S1rgbB3_1[0],S1rgbB4_1[0],S1rgbC1_1[0],S1rgbC2_1[0],S1rgbC3_1[0],S1rgbC4_1[0],S1rgbD2_1[0],S1rgbD3_1[0],S1rgbD4_1[0]],\n",
        "  'G-Shad': [S1rgbA1_2[1],S1rgbA2_1[1],S1rgbA3_1[1], S1rgbA3_51[1],S1rgbA4_1[1],S1rgbB1_1[1],S1rgbB2_1[1],S1rgbB3_1[1],S1rgbB4_1[1],S1rgbC1_1[1],S1rgbC2_1[1],S1rgbC3_1[1],S1rgbC4_1[1],S1rgbD2_1[1],S1rgbD3_1[1], S1rgbD4_1[1]],\n",
        "  'B-Shad': [S1rgbA1_2[2],S1rgbA2_1[2],S1rgbA3_1[2],S1rgbA3_51[2],S1rgbA4_1[2],S1rgbB1_1[2],S1rgbB2_1[2],S1rgbB3_1[2],S1rgbB4_1[2],S1rgbC1_1[2],S1rgbC2_1[2],S1rgbC3_1[2],S1rgbC4_1[2],S1rgbD2_1[2],S1rgbD3_1[2], S1rgbD4_1[2]],\n",
        "  'H-ref': [S1hsvrefA1_1[0],S1hsvrefA1_3[0],S1hsvrefA1_4[0],S1hsvrefA1_5[0], S1hsvrefA1_6[0],S1hsvrefA1_7[0], S1hsvrefA1_8[0],S1hsvrefA1_9[0], S1hsvrefA1_10[0],S1hsvrefA1_11[0], S1hsvrefA1_12[0],S1hsvrefA1_13[0], S1hsvrefA1_14[0],S1hsvrefA1_15[0], S1hsvrefA1_16[0],S1hsvrefA1_17[0]],\n",
        "  'S-ref': [S1hsvrefA1_1[1],S1hsvrefA1_3[1],S1hsvrefA1_4[1],S1hsvrefA1_5[1], S1hsvrefA1_6[1],S1hsvrefA1_7[1], S1hsvrefA1_8[1],S1hsvrefA1_9[1], S1hsvrefA1_10[1],S1hsvrefA1_11[1], S1hsvrefA1_12[0],S1hsvrefA1_13[1], S1hsvrefA1_14[1],S1hsvrefA1_15[1], S1hsvrefA1_16[1],S1hsvrefA1_17[1]],\n",
        "  'V-ref': [S1hsvrefA1_1[2],S1hsvrefA1_3[2],S1hsvrefA1_4[2],S1hsvrefA1_5[2], S1hsvrefA1_6[2],S1hsvrefA1_7[2], S1hsvrefA1_8[2],S1hsvrefA1_9[2], S1hsvrefA1_10[2],S1hsvrefA1_11[2], S1hsvrefA1_12[0],S1hsvrefA1_13[2], S1hsvrefA1_14[2],S1hsvrefA1_15[2], S1hsvrefA1_16[2],S1hsvrefA1_17[2]],\n",
        "   'H-Shad': [S1hsvA1_2[0],S1hsvA2_1[0],S1hsvA3_1[0],S1hsvA3_51[0],S1hsvA4_1[0],S1hsvB1_1[0],S1hsvB2_1[0],S1hsvB3_1[0],S1hsvB4_1[0],S1hsvC1_1[0],S1hsvC2_1[0],S1hsvC3_1[0],S1hsvC4_1[0],S1hsvD2_1[0],S1hsvD3_1[0],S1hsvD4_1[0]],\n",
        "   'S-Shad': [S1hsvA1_2[1],S1hsvA2_1[1],S1hsvA3_1[1],S1hsvA3_51[1],S1hsvA4_1[1],S1hsvB1_1[1],S1hsvB2_1[1],S1hsvB3_1[1],S1hsvB4_1[1],S1hsvC1_1[1],S1hsvC2_1[1],S1hsvC3_1[1],S1hsvC4_1[1],S1hsvD2_1[1],S1hsvD3_1[1],S1hsvD4_1[1]],\n",
        "   'V-Shad': [S1hsvA1_2[2],S1hsvA2_1[2],S1hsvA3_1[2],S1hsvA3_51[2],S1hsvA4_1[2],S1hsvB1_1[2],S1hsvB2_1[2],S1hsvB3_1[2],S1hsvB4_1[2],S1hsvC1_1[2],S1hsvC2_1[2],S1hsvC3_1[2],S1hsvC4_1[2],S1hsvD2_1[2],S1hsvD3_1[2],S1hsvD4_1[2]],\n",
        "   'Shade-ref': ['B2', 'B2', 'B2',  'B2', 'B2', 'B2', 'B2', 'B2', 'B2', 'B2', 'B2', 'B2', 'B2', 'B2', 'B2', 'B2'],\n",
        "   'Shade':      ['A1', 'A2', 'A3', 'A3_5', 'A4', 'B1', 'B2', 'B3', 'B4', 'C1', 'C2', 'C3', 'C4', 'D2', 'D3', 'D4'],\n",
        "   'Setting':     ['Set1', 'Set1', 'Set1', 'Set1', 'Set1', 'Set1', 'Set1', 'Set1', 'Set1', 'Set1', 'Set1', 'Set1', 'Set1', 'Set1', 'Set1', 'Set1'],\n",
        "   'Img' : [S1_doubleA1A1_1, S1_doubleA1A2_1, S1_doubleA1A3_1, S1_doubleA1A3_51, S1_doubleA1A4_1, S1_doubleA1B1_1, S1_doubleA1B2_1, S1_doubleA1B3_1, S1_doubleA1B4_1, S1_doubleA1C1_1 ,S1_doubleA1C2_1, S1_doubleA1C3_1, S1_doubleA1C4_1,S1_doubleA1D2_1, S1_doubleA1D3_1, S1_doubleA1D4_1]}) "
      ],
      "execution_count": null,
      "outputs": []
    },
    {
      "cell_type": "code",
      "metadata": {
        "id": "fmeUHInCEee6"
      },
      "source": [
        ""
      ],
      "execution_count": null,
      "outputs": []
    },
    {
      "cell_type": "code",
      "metadata": {
        "id": "7dtO1Tcs-ZAn"
      },
      "source": [
        "  for i in range(S1_double.shape[0]): #ให้ i รันตาม row หรือ shape[0] คือแถว มีทั้งหมด 4032 แถว ของภาพที่ปรับขนาดมาแล้ว\n",
        "     for j in range(S1_double.shape[1]): #ให้ j รันตาม colum มีทั้งหมด 3024 colum เช่น แถวที่ 1 เข้ามาให้รันครบ 3024colum\n",
        "                if 1769<i<1881 and 2019<j<2131 :\n",
        "                  S1meanrefA1_1.append(S1_double[i][j])\n",
        "                if 1770<i<1880 and 2015<j<2145 :\n",
        "                  S1meanA1_2.append(S1_double[i][j])  "
      ],
      "execution_count": null,
      "outputs": []
    },
    {
      "cell_type": "code",
      "metadata": {
        "id": "XnCwNowh6bQK"
      },
      "source": [
        "  S1meanrefA1_1 = np.array(S1meanrefA1_1)\n",
        "  S1meanA1_2 = np.array(S1meanA1_2)\n",
        "  S1rgbrefA1_1 = list()\n",
        "  S1rgbA1_2 = list()\n",
        "  for i in range(3):\n",
        "    S1rgbrefA1_1.append(S1meanrefA1_1[:,i].mean())\n",
        "    S1rgbA1_2.append(S1meanA1_2[:,i].mean())\n",
        "  S1rgbrefA1_1,S1rgbA1_2 "
      ],
      "execution_count": null,
      "outputs": []
    }
  ]
}