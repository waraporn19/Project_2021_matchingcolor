{
  "nbformat": 4,
  "nbformat_minor": 0,
  "metadata": {
    "colab": {
      "name": "Data_set1_set2.ipynb",
      "provenance": [],
      "include_colab_link": true
    },
    "kernelspec": {
      "name": "python3",
      "display_name": "Python 3"
    },
    "language_info": {
      "name": "python"
    }
  },
  "cells": [
    {
      "cell_type": "markdown",
      "metadata": {
        "id": "view-in-github",
        "colab_type": "text"
      },
      "source": [
        "<a href=\"https://colab.research.google.com/github/waraporn19/Project_2021_matchingcolor/blob/main/Data_set1_set3.ipynb\" target=\"_parent\"><img src=\"https://colab.research.google.com/assets/colab-badge.svg\" alt=\"Open In Colab\"/></a>"
      ]
    },
    {
      "cell_type": "code",
      "metadata": {
        "id": "QfJJWz3NE5EF"
      },
      "source": [
        "import pandas as pd"
      ],
      "execution_count": 1,
      "outputs": []
    },
    {
      "cell_type": "code",
      "metadata": {
        "id": "bbhDYuOZFkrI"
      },
      "source": [
        "from google.colab import drive \n",
        "drive.mount('/content/drive')"
      ],
      "execution_count": null,
      "outputs": []
    },
    {
      "cell_type": "code",
      "metadata": {
        "id": "gCZ9gB08FlpD"
      },
      "source": [
        "import os"
      ],
      "execution_count": null,
      "outputs": []
    },
    {
      "cell_type": "code",
      "metadata": {
        "id": "bs4sCMIlFmtN"
      },
      "source": [
        "path = '/content/drive/My Drive/shadeimg'"
      ],
      "execution_count": null,
      "outputs": []
    },
    {
      "cell_type": "code",
      "metadata": {
        "id": "QXJgJ1ZiFv2C"
      },
      "source": [
        "os.listdir(path)"
      ],
      "execution_count": null,
      "outputs": []
    },
    {
      "cell_type": "code",
      "metadata": {
        "id": "hIG_rvGQF-Lh"
      },
      "source": [
        "file_path = os.path.join(path,'1 teeth .xlsx')\n",
        "print(file_path)"
      ],
      "execution_count": null,
      "outputs": []
    },
    {
      "cell_type": "code",
      "metadata": {
        "id": "WU-47FCzGAhX"
      },
      "source": [
        "table1 = pd.read_excel(file_path)"
      ],
      "execution_count": null,
      "outputs": []
    },
    {
      "cell_type": "code",
      "metadata": {
        "id": "BQB5ZR4zFsSX"
      },
      "source": [
        "!pip install azure-storage-blob==2.1.0"
      ],
      "execution_count": null,
      "outputs": []
    },
    {
      "cell_type": "code",
      "metadata": {
        "id": "MmtL3ePjGKNA"
      },
      "source": [
        "from azure.storage.blob import BlockBlobService\n",
        "import os"
      ],
      "execution_count": null,
      "outputs": []
    },
    {
      "cell_type": "code",
      "metadata": {
        "id": "cBYDeSzyGMrs"
      },
      "source": [
        "blob_service_client = BlockBlobService(account_name='dent01', account_key='CuShY0B4TZJ84TjzPpaHxyrHOpO73aGXeCpdVq7x26OjIlQ1HOz+3DVc9pDEj9BdcEL8odFuTRF0mOAE+aCgiw==')"
      ],
      "execution_count": null,
      "outputs": []
    },
    {
      "cell_type": "markdown",
      "metadata": {
        "id": "29a1CpssMfaN"
      },
      "source": [
        "1. สร้างตัวแปรเฉดไกด์"
      ]
    },
    {
      "cell_type": "markdown",
      "metadata": {
        "id": "qH8sZh1EJh7h"
      },
      "source": [
        "Set2 "
      ]
    },
    {
      "cell_type": "code",
      "metadata": {
        "id": "b7l_Shd1GOxX"
      },
      "source": [
        "A101=''\n",
        "A201=''\n",
        "A202=''\n",
        "A301=''\n",
        "A302=''\n",
        "A3_501=''\n",
        "A3_502=''\n",
        "A401=''\n",
        "A402=''\n",
        "B101=''\n",
        "B102=''\n",
        "B201=''\n",
        "B202=''\n",
        "B301=''\n",
        "B302=''\n",
        "B401=''\n",
        "B402=''\n",
        "C101=''\n",
        "C102=''\n",
        "C201=''\n",
        "C202=''\n",
        "C301=''\n",
        "C302=''\n",
        "C401=''\n",
        "C402=''\n",
        "D201=''\n",
        "D202=''\n",
        "D301=''\n",
        "D302=''\n",
        "D401=''\n",
        "D402=''"
      ],
      "execution_count": null,
      "outputs": []
    },
    {
      "cell_type": "markdown",
      "metadata": {
        "id": "0UvyQY3eJ7Lc"
      },
      "source": [
        "Set4"
      ]
    },
    {
      "cell_type": "code",
      "metadata": {
        "id": "udfq6Zm1KS7f"
      },
      "source": [
        "A103=''\n",
        "A104=''\n",
        "A203=''\n",
        "A204=''\n",
        "A303=''\n",
        "A304=''\n",
        "A3_503=''\n",
        "A3_504=''\n",
        "A403=''\n",
        "A404=''\n",
        "B103=''\n",
        "B104=''\n",
        "B203=''\n",
        "B204=''\n",
        "B303=''\n",
        "B304=''\n",
        "B403=''\n",
        "B404=''\n",
        "C103=''\n",
        "C104=''\n",
        "C203=''\n",
        "C204=''\n",
        "C303=''\n",
        "C304=''\n",
        "C403=''\n",
        "C404=''\n",
        "D203=''\n",
        "D204=''\n",
        "D303=''\n",
        "D304=''\n",
        "D403=''\n",
        "D404=''"
      ],
      "execution_count": null,
      "outputs": []
    },
    {
      "cell_type": "code",
      "metadata": {
        "id": "GAWVTz_oKcv0"
      },
      "source": [
        ""
      ],
      "execution_count": null,
      "outputs": []
    },
    {
      "cell_type": "markdown",
      "metadata": {
        "id": "XT9FkL4_qWjU"
      },
      "source": [
        "#2. ดึงรูป"
      ]
    },
    {
      "cell_type": "markdown",
      "metadata": {
        "id": "-2DLN4dU58-w"
      },
      "source": [
        "A1"
      ]
    },
    {
      "cell_type": "code",
      "metadata": {
        "colab": {
          "base_uri": "https://localhost:8080/"
        },
        "id": "89qHiFXiqWjU",
        "outputId": "27519adf-912f-4b92-d026-0b3b4527a694"
      },
      "source": [
        "full_path_to_file2 = os.path.join(A101) \n",
        "blob_service_client.get_blob_to_path('shadeimg', full_path_to_file2, full_path_to_file2)"
      ],
      "execution_count": null,
      "outputs": [
        {
          "output_type": "execute_result",
          "data": {
            "text/plain": [
              "<azure.storage.blob.models.Blob at 0x7f64f16d6a50>"
            ]
          },
          "metadata": {},
          "execution_count": 13
        }
      ]
    },
    {
      "cell_type": "code",
      "metadata": {
        "colab": {
          "base_uri": "https://localhost:8080/"
        },
        "id": "pL_IAC3PqWjV",
        "outputId": "579a32b2-e881-4a18-862f-8df178fe7423"
      },
      "source": [
        "full_path_to_file2 = os.path.join(A102) \n",
        "blob_service_client.get_blob_to_path('shadeimg', full_path_to_file2, full_path_to_file2)"
      ],
      "execution_count": null,
      "outputs": [
        {
          "output_type": "execute_result",
          "data": {
            "text/plain": [
              "<azure.storage.blob.models.Blob at 0x7f64f169ecd0>"
            ]
          },
          "metadata": {},
          "execution_count": 14
        }
      ]
    },
    {
      "cell_type": "code",
      "metadata": {
        "colab": {
          "base_uri": "https://localhost:8080/"
        },
        "id": "VNLv6hmmqWjV",
        "outputId": "3815d2bd-31f6-4452-f05c-cf759b79f916"
      },
      "source": [
        "full_path_to_file2 = os.path.join(A103) \n",
        "blob_service_client.get_blob_to_path('shadeimg', full_path_to_file2, full_path_to_file2)"
      ],
      "execution_count": null,
      "outputs": [
        {
          "output_type": "execute_result",
          "data": {
            "text/plain": [
              "<azure.storage.blob.models.Blob at 0x7f64f0927d90>"
            ]
          },
          "metadata": {},
          "execution_count": 15
        }
      ]
    },
    {
      "cell_type": "code",
      "metadata": {
        "colab": {
          "base_uri": "https://localhost:8080/"
        },
        "id": "hFv768OdqWjV",
        "outputId": "7f88af37-8031-42e9-bcec-1bd32152b5e8"
      },
      "source": [
        "full_path_to_file2 = os.path.join(A104) \n",
        "blob_service_client.get_blob_to_path('shadeimg', full_path_to_file2, full_path_to_file2)"
      ],
      "execution_count": null,
      "outputs": [
        {
          "output_type": "execute_result",
          "data": {
            "text/plain": [
              "<azure.storage.blob.models.Blob at 0x7f64f0907ad0>"
            ]
          },
          "metadata": {},
          "execution_count": 16
        }
      ]
    },
    {
      "cell_type": "markdown",
      "metadata": {
        "id": "7eSok94g6DY0"
      },
      "source": [
        "A2"
      ]
    },
    {
      "cell_type": "code",
      "metadata": {
        "colab": {
          "base_uri": "https://localhost:8080/"
        },
        "id": "hJNZvwzyqWjV",
        "outputId": "4b26b550-d510-460d-bceb-7c52ea14dd15"
      },
      "source": [
        "full_path_to_file2 = os.path.join(A201) \n",
        "blob_service_client.get_blob_to_path('shadeimg', full_path_to_file2, full_path_to_file2)"
      ],
      "execution_count": null,
      "outputs": [
        {
          "output_type": "execute_result",
          "data": {
            "text/plain": [
              "<azure.storage.blob.models.Blob at 0x7f64f02a6ad0>"
            ]
          },
          "metadata": {},
          "execution_count": 17
        }
      ]
    },
    {
      "cell_type": "code",
      "metadata": {
        "colab": {
          "base_uri": "https://localhost:8080/"
        },
        "id": "veShstuZqWjV",
        "outputId": "f31564ac-1d81-4f09-d812-dde90fee993e"
      },
      "source": [
        "full_path_to_file2 = os.path.join(A202) \n",
        "blob_service_client.get_blob_to_path('shadeimg', full_path_to_file2, full_path_to_file2)"
      ],
      "execution_count": null,
      "outputs": [
        {
          "output_type": "execute_result",
          "data": {
            "text/plain": [
              "<azure.storage.blob.models.Blob at 0x7f64f0970b90>"
            ]
          },
          "metadata": {},
          "execution_count": 18
        }
      ]
    },
    {
      "cell_type": "code",
      "metadata": {
        "colab": {
          "base_uri": "https://localhost:8080/"
        },
        "id": "w9QFztPcqWjV",
        "outputId": "01c45481-c52f-4d7d-a2f9-8e398fa26828"
      },
      "source": [
        "full_path_to_file2 = os.path.join(A203) \n",
        "blob_service_client.get_blob_to_path('shadeimg', full_path_to_file2, full_path_to_file2)"
      ],
      "execution_count": null,
      "outputs": [
        {
          "output_type": "execute_result",
          "data": {
            "text/plain": [
              "<azure.storage.blob.models.Blob at 0x7f64f169e390>"
            ]
          },
          "metadata": {},
          "execution_count": 19
        }
      ]
    },
    {
      "cell_type": "code",
      "metadata": {
        "colab": {
          "base_uri": "https://localhost:8080/"
        },
        "id": "kAIQWgACqWjW",
        "outputId": "fe39ba17-474b-4f15-f7d0-a820fdafe43a"
      },
      "source": [
        "full_path_to_file2 = os.path.join(A204) \n",
        "blob_service_client.get_blob_to_path('shadeimg', full_path_to_file2, full_path_to_file2)"
      ],
      "execution_count": null,
      "outputs": [
        {
          "output_type": "execute_result",
          "data": {
            "text/plain": [
              "<azure.storage.blob.models.Blob at 0x7f64f169e7d0>"
            ]
          },
          "metadata": {},
          "execution_count": 20
        }
      ]
    },
    {
      "cell_type": "markdown",
      "metadata": {
        "id": "T8ArUP9X6JRK"
      },
      "source": [
        "A3"
      ]
    },
    {
      "cell_type": "code",
      "metadata": {
        "colab": {
          "base_uri": "https://localhost:8080/"
        },
        "id": "VmbjTZ90qWjW",
        "outputId": "8671cc2a-9d1b-4e2f-9b54-012f50a036d1"
      },
      "source": [
        "full_path_to_file2 = os.path.join(A301) \n",
        "blob_service_client.get_blob_to_path('shadeimg', full_path_to_file2, full_path_to_file2)"
      ],
      "execution_count": null,
      "outputs": [
        {
          "output_type": "execute_result",
          "data": {
            "text/plain": [
              "<azure.storage.blob.models.Blob at 0x7f64f0297090>"
            ]
          },
          "metadata": {},
          "execution_count": 21
        }
      ]
    },
    {
      "cell_type": "code",
      "metadata": {
        "colab": {
          "base_uri": "https://localhost:8080/"
        },
        "id": "_I7kJLJ4qWjW",
        "outputId": "12cc2f95-6750-4b34-fc8e-6b302df192f8"
      },
      "source": [
        "full_path_to_file2 = os.path.join(A302) \n",
        "blob_service_client.get_blob_to_path('shadeimg', full_path_to_file2, full_path_to_file2)"
      ],
      "execution_count": null,
      "outputs": [
        {
          "output_type": "execute_result",
          "data": {
            "text/plain": [
              "<azure.storage.blob.models.Blob at 0x7f64f091bd10>"
            ]
          },
          "metadata": {},
          "execution_count": 22
        }
      ]
    },
    {
      "cell_type": "code",
      "metadata": {
        "colab": {
          "base_uri": "https://localhost:8080/"
        },
        "id": "X8nojCv0qWjW",
        "outputId": "cc293306-51f9-4fd0-c1e1-2071e7b70d8d"
      },
      "source": [
        "full_path_to_file2 = os.path.join(A303) \n",
        "blob_service_client.get_blob_to_path('shadeimg', full_path_to_file2, full_path_to_file2)"
      ],
      "execution_count": null,
      "outputs": [
        {
          "output_type": "execute_result",
          "data": {
            "text/plain": [
              "<azure.storage.blob.models.Blob at 0x7f64f0297a10>"
            ]
          },
          "metadata": {},
          "execution_count": 23
        }
      ]
    },
    {
      "cell_type": "code",
      "metadata": {
        "colab": {
          "base_uri": "https://localhost:8080/"
        },
        "id": "0CMDlGCiqWjW",
        "outputId": "053b5ef4-c14f-46c5-c2f6-52107a2a6823"
      },
      "source": [
        "full_path_to_file2 = os.path.join(A304) \n",
        "blob_service_client.get_blob_to_path('shadeimg', full_path_to_file2, full_path_to_file2)"
      ],
      "execution_count": null,
      "outputs": [
        {
          "output_type": "execute_result",
          "data": {
            "text/plain": [
              "<azure.storage.blob.models.Blob at 0x7f64f02b8a90>"
            ]
          },
          "metadata": {},
          "execution_count": 24
        }
      ]
    },
    {
      "cell_type": "markdown",
      "metadata": {
        "id": "Zr5SEMNq6LDo"
      },
      "source": [
        "A3.5"
      ]
    },
    {
      "cell_type": "code",
      "metadata": {
        "colab": {
          "base_uri": "https://localhost:8080/"
        },
        "id": "hf5rehmDqWjX",
        "outputId": "d630517b-5c9e-4f4f-d46b-0ed16f090758"
      },
      "source": [
        "full_path_to_file2 = os.path.join(A3_501) \n",
        "blob_service_client.get_blob_to_path('shadeimg', full_path_to_file2, full_path_to_file2)"
      ],
      "execution_count": null,
      "outputs": [
        {
          "output_type": "execute_result",
          "data": {
            "text/plain": [
              "<azure.storage.blob.models.Blob at 0x7f64f02bc150>"
            ]
          },
          "metadata": {},
          "execution_count": 25
        }
      ]
    },
    {
      "cell_type": "code",
      "metadata": {
        "colab": {
          "base_uri": "https://localhost:8080/"
        },
        "id": "U6NqGSTMqWjX",
        "outputId": "69887ecb-44d9-492b-c95d-16dd2a4dba3f"
      },
      "source": [
        "full_path_to_file2 = os.path.join(A3_502) \n",
        "blob_service_client.get_blob_to_path('shadeimg', full_path_to_file2, full_path_to_file2)"
      ],
      "execution_count": null,
      "outputs": [
        {
          "output_type": "execute_result",
          "data": {
            "text/plain": [
              "<azure.storage.blob.models.Blob at 0x7f64f1703a10>"
            ]
          },
          "metadata": {},
          "execution_count": 26
        }
      ]
    },
    {
      "cell_type": "code",
      "metadata": {
        "colab": {
          "base_uri": "https://localhost:8080/"
        },
        "id": "0F9FqMJEqWjX",
        "outputId": "209e24f5-4dcf-4a06-a280-e1b93a4ad7b0"
      },
      "source": [
        "full_path_to_file2 = os.path.join(A3_503) \n",
        "blob_service_client.get_blob_to_path('shadeimg', full_path_to_file2, full_path_to_file2)"
      ],
      "execution_count": null,
      "outputs": [
        {
          "output_type": "execute_result",
          "data": {
            "text/plain": [
              "<azure.storage.blob.models.Blob at 0x7f64f02a6a10>"
            ]
          },
          "metadata": {},
          "execution_count": 27
        }
      ]
    },
    {
      "cell_type": "code",
      "metadata": {
        "colab": {
          "base_uri": "https://localhost:8080/"
        },
        "id": "Bt9OeaouqWjX",
        "outputId": "e1dc6064-cf8f-4687-d017-0abc0b03747c"
      },
      "source": [
        "full_path_to_file2 = os.path.join(A3_504) \n",
        "blob_service_client.get_blob_to_path('shadeimg', full_path_to_file2, full_path_to_file2)"
      ],
      "execution_count": null,
      "outputs": [
        {
          "output_type": "execute_result",
          "data": {
            "text/plain": [
              "<azure.storage.blob.models.Blob at 0x7f64f0927890>"
            ]
          },
          "metadata": {},
          "execution_count": 28
        }
      ]
    },
    {
      "cell_type": "markdown",
      "metadata": {
        "id": "tb0g_NiJ6YZB"
      },
      "source": [
        "A4"
      ]
    },
    {
      "cell_type": "code",
      "metadata": {
        "colab": {
          "base_uri": "https://localhost:8080/"
        },
        "id": "6A3Z0G-BqWjX",
        "outputId": "e9464c82-d112-4210-9953-5120b40877ee"
      },
      "source": [
        "full_path_to_file2 = os.path.join(A401) \n",
        "blob_service_client.get_blob_to_path('shadeimg', full_path_to_file2, full_path_to_file2)"
      ],
      "execution_count": null,
      "outputs": [
        {
          "output_type": "execute_result",
          "data": {
            "text/plain": [
              "<azure.storage.blob.models.Blob at 0x7f64f02b8c50>"
            ]
          },
          "metadata": {},
          "execution_count": 29
        }
      ]
    },
    {
      "cell_type": "code",
      "metadata": {
        "colab": {
          "base_uri": "https://localhost:8080/"
        },
        "id": "huNllMALqWjX",
        "outputId": "6b3ace1a-769c-493b-dd53-eff9ef2e938e"
      },
      "source": [
        "full_path_to_file2 = os.path.join(A402) \n",
        "blob_service_client.get_blob_to_path('shadeimg', full_path_to_file2, full_path_to_file2)"
      ],
      "execution_count": null,
      "outputs": [
        {
          "output_type": "execute_result",
          "data": {
            "text/plain": [
              "<azure.storage.blob.models.Blob at 0x7f64f02b29d0>"
            ]
          },
          "metadata": {},
          "execution_count": 30
        }
      ]
    },
    {
      "cell_type": "code",
      "metadata": {
        "colab": {
          "base_uri": "https://localhost:8080/"
        },
        "id": "XRmBCQ8HqWjY",
        "outputId": "cf51ae66-b32e-4b42-81dd-5a1834362d4a"
      },
      "source": [
        "full_path_to_file2 = os.path.join(A403) \n",
        "blob_service_client.get_blob_to_path('shadeimg', full_path_to_file2, full_path_to_file2)"
      ],
      "execution_count": null,
      "outputs": [
        {
          "output_type": "execute_result",
          "data": {
            "text/plain": [
              "<azure.storage.blob.models.Blob at 0x7f64f02ca8d0>"
            ]
          },
          "metadata": {},
          "execution_count": 31
        }
      ]
    },
    {
      "cell_type": "code",
      "metadata": {
        "colab": {
          "base_uri": "https://localhost:8080/"
        },
        "id": "VBxfPqd5qWjY",
        "outputId": "8157c05e-71f8-4ae2-cc92-21026604fca4"
      },
      "source": [
        "full_path_to_file2 = os.path.join(A404) \n",
        "blob_service_client.get_blob_to_path('shadeimg', full_path_to_file2, full_path_to_file2)"
      ],
      "execution_count": null,
      "outputs": [
        {
          "output_type": "execute_result",
          "data": {
            "text/plain": [
              "<azure.storage.blob.models.Blob at 0x7f64f02ca9d0>"
            ]
          },
          "metadata": {},
          "execution_count": 32
        }
      ]
    },
    {
      "cell_type": "markdown",
      "metadata": {
        "id": "y3hyi70v6bOe"
      },
      "source": [
        "B1"
      ]
    },
    {
      "cell_type": "code",
      "metadata": {
        "colab": {
          "base_uri": "https://localhost:8080/"
        },
        "id": "xFNoaeKPqWjY",
        "outputId": "1203a9b7-3183-44c6-976a-b4fe36aefcfa"
      },
      "source": [
        "full_path_to_file2 = os.path.join(B101) \n",
        "blob_service_client.get_blob_to_path('shadeimg', full_path_to_file2, full_path_to_file2)"
      ],
      "execution_count": null,
      "outputs": [
        {
          "output_type": "execute_result",
          "data": {
            "text/plain": [
              "<azure.storage.blob.models.Blob at 0x7f64f0927a90>"
            ]
          },
          "metadata": {},
          "execution_count": 33
        }
      ]
    },
    {
      "cell_type": "code",
      "metadata": {
        "colab": {
          "base_uri": "https://localhost:8080/"
        },
        "id": "_oCkGuh3qWjY",
        "outputId": "02c17dab-32d7-4e03-f415-0d41bc1ce880"
      },
      "source": [
        "full_path_to_file2 = os.path.join(B102) \n",
        "blob_service_client.get_blob_to_path('shadeimg', full_path_to_file2, full_path_to_file2)"
      ],
      "execution_count": null,
      "outputs": [
        {
          "output_type": "execute_result",
          "data": {
            "text/plain": [
              "<azure.storage.blob.models.Blob at 0x7f64f02bcad0>"
            ]
          },
          "metadata": {},
          "execution_count": 34
        }
      ]
    },
    {
      "cell_type": "code",
      "metadata": {
        "colab": {
          "base_uri": "https://localhost:8080/"
        },
        "id": "20VPjZkoqWjY",
        "outputId": "3c8180fc-68cf-4f5d-8fa6-ca03bf5a11f8"
      },
      "source": [
        "full_path_to_file2 = os.path.join(B103) \n",
        "blob_service_client.get_blob_to_path('shadeimg', full_path_to_file2, full_path_to_file2)"
      ],
      "execution_count": null,
      "outputs": [
        {
          "output_type": "execute_result",
          "data": {
            "text/plain": [
              "<azure.storage.blob.models.Blob at 0x7f64f0927490>"
            ]
          },
          "metadata": {},
          "execution_count": 35
        }
      ]
    },
    {
      "cell_type": "code",
      "metadata": {
        "colab": {
          "base_uri": "https://localhost:8080/"
        },
        "id": "4EiBJdqbqWjY",
        "outputId": "3a3906c1-8d17-4fee-d9ff-fb10ce055512"
      },
      "source": [
        "full_path_to_file2 = os.path.join(B104) \n",
        "blob_service_client.get_blob_to_path('shadeimg', full_path_to_file2, full_path_to_file2)"
      ],
      "execution_count": null,
      "outputs": [
        {
          "output_type": "execute_result",
          "data": {
            "text/plain": [
              "<azure.storage.blob.models.Blob at 0x7f64f02c2dd0>"
            ]
          },
          "metadata": {},
          "execution_count": 36
        }
      ]
    },
    {
      "cell_type": "markdown",
      "metadata": {
        "id": "vFOfNYz-6crs"
      },
      "source": [
        "B2"
      ]
    },
    {
      "cell_type": "code",
      "metadata": {
        "colab": {
          "base_uri": "https://localhost:8080/"
        },
        "id": "XYPmvR_GqWjZ",
        "outputId": "488f8f18-65f6-4203-8048-d93b5ad06a2a"
      },
      "source": [
        "full_path_to_file2 = os.path.join(B201) \n",
        "blob_service_client.get_blob_to_path('shadeimg', full_path_to_file2, full_path_to_file2)"
      ],
      "execution_count": null,
      "outputs": [
        {
          "output_type": "execute_result",
          "data": {
            "text/plain": [
              "<azure.storage.blob.models.Blob at 0x7f64f02b8610>"
            ]
          },
          "metadata": {},
          "execution_count": 37
        }
      ]
    },
    {
      "cell_type": "code",
      "metadata": {
        "colab": {
          "base_uri": "https://localhost:8080/"
        },
        "id": "yZ4_16cwqWjZ",
        "outputId": "690d2e0e-5b68-4343-d957-954626ddb1b9"
      },
      "source": [
        "full_path_to_file2 = os.path.join(B202) \n",
        "blob_service_client.get_blob_to_path('shadeimg', full_path_to_file2, full_path_to_file2)"
      ],
      "execution_count": null,
      "outputs": [
        {
          "output_type": "execute_result",
          "data": {
            "text/plain": [
              "<azure.storage.blob.models.Blob at 0x7f64f02b1d50>"
            ]
          },
          "metadata": {},
          "execution_count": 38
        }
      ]
    },
    {
      "cell_type": "code",
      "metadata": {
        "colab": {
          "base_uri": "https://localhost:8080/"
        },
        "id": "_sTONf6NqWjZ",
        "outputId": "998c6a8b-df0c-431d-8361-f9399e75c070"
      },
      "source": [
        "full_path_to_file2 = os.path.join(B203) \n",
        "blob_service_client.get_blob_to_path('shadeimg', full_path_to_file2, full_path_to_file2)"
      ],
      "execution_count": null,
      "outputs": [
        {
          "output_type": "execute_result",
          "data": {
            "text/plain": [
              "<azure.storage.blob.models.Blob at 0x7f64f02b1990>"
            ]
          },
          "metadata": {},
          "execution_count": 39
        }
      ]
    },
    {
      "cell_type": "code",
      "metadata": {
        "colab": {
          "base_uri": "https://localhost:8080/"
        },
        "id": "xvhe5i1EqWjZ",
        "outputId": "c0f89d42-4607-4045-aaf2-53607b88213f"
      },
      "source": [
        "full_path_to_file2 = os.path.join(B204) \n",
        "blob_service_client.get_blob_to_path('shadeimg', full_path_to_file2, full_path_to_file2)"
      ],
      "execution_count": null,
      "outputs": [
        {
          "output_type": "execute_result",
          "data": {
            "text/plain": [
              "<azure.storage.blob.models.Blob at 0x7f64f02d3510>"
            ]
          },
          "metadata": {},
          "execution_count": 40
        }
      ]
    },
    {
      "cell_type": "markdown",
      "metadata": {
        "id": "Gu5OAhld6dzx"
      },
      "source": [
        "B3"
      ]
    },
    {
      "cell_type": "code",
      "metadata": {
        "colab": {
          "base_uri": "https://localhost:8080/"
        },
        "id": "dtWpKevCqWjZ",
        "outputId": "96b287a4-7682-4596-d655-8dec2bf9bc5f"
      },
      "source": [
        "full_path_to_file2 = os.path.join(B301) \n",
        "blob_service_client.get_blob_to_path('shadeimg', full_path_to_file2, full_path_to_file2)"
      ],
      "execution_count": null,
      "outputs": [
        {
          "output_type": "execute_result",
          "data": {
            "text/plain": [
              "<azure.storage.blob.models.Blob at 0x7f64f025d8d0>"
            ]
          },
          "metadata": {},
          "execution_count": 41
        }
      ]
    },
    {
      "cell_type": "code",
      "metadata": {
        "colab": {
          "base_uri": "https://localhost:8080/"
        },
        "id": "Iv7GJELjqWjZ",
        "outputId": "7b13a049-cd30-499f-e06d-f3acf05311e6"
      },
      "source": [
        "full_path_to_file2 = os.path.join(B302) \n",
        "blob_service_client.get_blob_to_path('shadeimg', full_path_to_file2, full_path_to_file2)"
      ],
      "execution_count": null,
      "outputs": [
        {
          "output_type": "execute_result",
          "data": {
            "text/plain": [
              "<azure.storage.blob.models.Blob at 0x7f64f02b28d0>"
            ]
          },
          "metadata": {},
          "execution_count": 42
        }
      ]
    },
    {
      "cell_type": "code",
      "metadata": {
        "colab": {
          "base_uri": "https://localhost:8080/"
        },
        "id": "5Y0UireDqWjZ",
        "outputId": "ae43586d-d612-4d3b-fb02-f433afa81914"
      },
      "source": [
        "full_path_to_file2 = os.path.join(B303) \n",
        "blob_service_client.get_blob_to_path('shadeimg', full_path_to_file2, full_path_to_file2)"
      ],
      "execution_count": null,
      "outputs": [
        {
          "output_type": "execute_result",
          "data": {
            "text/plain": [
              "<azure.storage.blob.models.Blob at 0x7f64f025d250>"
            ]
          },
          "metadata": {},
          "execution_count": 43
        }
      ]
    },
    {
      "cell_type": "code",
      "metadata": {
        "colab": {
          "base_uri": "https://localhost:8080/"
        },
        "id": "ZDVbc9NnqWja",
        "outputId": "289a6596-7dbf-47a1-a3df-b56827ce4ebe"
      },
      "source": [
        "full_path_to_file2 = os.path.join(B304) \n",
        "blob_service_client.get_blob_to_path('shadeimg', full_path_to_file2, full_path_to_file2)"
      ],
      "execution_count": null,
      "outputs": [
        {
          "output_type": "execute_result",
          "data": {
            "text/plain": [
              "<azure.storage.blob.models.Blob at 0x7f64f02bca50>"
            ]
          },
          "metadata": {},
          "execution_count": 44
        }
      ]
    },
    {
      "cell_type": "markdown",
      "metadata": {
        "id": "z2hzhQXO6gIR"
      },
      "source": [
        "B4"
      ]
    },
    {
      "cell_type": "code",
      "metadata": {
        "colab": {
          "base_uri": "https://localhost:8080/"
        },
        "id": "AUUiD3TCqWja",
        "outputId": "94da178b-7729-4288-9973-b5b721eb45a8"
      },
      "source": [
        "full_path_to_file2 = os.path.join(B401) \n",
        "blob_service_client.get_blob_to_path('shadeimg', full_path_to_file2, full_path_to_file2)"
      ],
      "execution_count": null,
      "outputs": [
        {
          "output_type": "execute_result",
          "data": {
            "text/plain": [
              "<azure.storage.blob.models.Blob at 0x7f64f02c2850>"
            ]
          },
          "metadata": {},
          "execution_count": 45
        }
      ]
    },
    {
      "cell_type": "code",
      "metadata": {
        "colab": {
          "base_uri": "https://localhost:8080/"
        },
        "id": "ozt2aWLeqWja",
        "outputId": "1f4f4c3e-2011-402f-96d3-20a50e558dc0"
      },
      "source": [
        "full_path_to_file2 = os.path.join(B402) \n",
        "blob_service_client.get_blob_to_path('shadeimg', full_path_to_file2, full_path_to_file2)"
      ],
      "execution_count": null,
      "outputs": [
        {
          "output_type": "execute_result",
          "data": {
            "text/plain": [
              "<azure.storage.blob.models.Blob at 0x7f64f02a63d0>"
            ]
          },
          "metadata": {},
          "execution_count": 46
        }
      ]
    },
    {
      "cell_type": "code",
      "metadata": {
        "colab": {
          "base_uri": "https://localhost:8080/"
        },
        "id": "sKfFT4biqWja",
        "outputId": "08a63417-53bf-45cb-df0f-cdb671d7f11c"
      },
      "source": [
        "full_path_to_file2 = os.path.join(B403) \n",
        "blob_service_client.get_blob_to_path('shadeimg', full_path_to_file2, full_path_to_file2)"
      ],
      "execution_count": null,
      "outputs": [
        {
          "output_type": "execute_result",
          "data": {
            "text/plain": [
              "<azure.storage.blob.models.Blob at 0x7f64f025ee50>"
            ]
          },
          "metadata": {},
          "execution_count": 47
        }
      ]
    },
    {
      "cell_type": "code",
      "metadata": {
        "colab": {
          "base_uri": "https://localhost:8080/"
        },
        "id": "i_QOEeCuqWja",
        "outputId": "b56b03b7-8c94-4aa7-ad04-74350d3103a0"
      },
      "source": [
        "full_path_to_file2 = os.path.join(B404) \n",
        "blob_service_client.get_blob_to_path('shadeimg', full_path_to_file2, full_path_to_file2)"
      ],
      "execution_count": null,
      "outputs": [
        {
          "output_type": "execute_result",
          "data": {
            "text/plain": [
              "<azure.storage.blob.models.Blob at 0x7f64f025e750>"
            ]
          },
          "metadata": {},
          "execution_count": 48
        }
      ]
    },
    {
      "cell_type": "markdown",
      "metadata": {
        "id": "x1KIKFLy6h8k"
      },
      "source": [
        "C1"
      ]
    },
    {
      "cell_type": "code",
      "metadata": {
        "colab": {
          "base_uri": "https://localhost:8080/"
        },
        "id": "DVlDe2laqWja",
        "outputId": "3bbc3c49-05d2-4683-e22d-832d64d2cfc3"
      },
      "source": [
        "full_path_to_file2 = os.path.join(C101) \n",
        "blob_service_client.get_blob_to_path('shadeimg', full_path_to_file2, full_path_to_file2)"
      ],
      "execution_count": null,
      "outputs": [
        {
          "output_type": "execute_result",
          "data": {
            "text/plain": [
              "<azure.storage.blob.models.Blob at 0x7f64f0264a90>"
            ]
          },
          "metadata": {},
          "execution_count": 49
        }
      ]
    },
    {
      "cell_type": "code",
      "metadata": {
        "colab": {
          "base_uri": "https://localhost:8080/"
        },
        "id": "PpnxuJZjqWjb",
        "outputId": "41aa140d-8bfb-481e-a0f5-8f9d7c91ae2b"
      },
      "source": [
        "full_path_to_file2 = os.path.join(C102) \n",
        "blob_service_client.get_blob_to_path('shadeimg', full_path_to_file2, full_path_to_file2)"
      ],
      "execution_count": null,
      "outputs": [
        {
          "output_type": "execute_result",
          "data": {
            "text/plain": [
              "<azure.storage.blob.models.Blob at 0x7f64f0264290>"
            ]
          },
          "metadata": {},
          "execution_count": 50
        }
      ]
    },
    {
      "cell_type": "code",
      "metadata": {
        "colab": {
          "base_uri": "https://localhost:8080/"
        },
        "id": "upMtdZorqWjb",
        "outputId": "60bca49b-db4e-4308-aab1-4505f27b6a7e"
      },
      "source": [
        "full_path_to_file2 = os.path.join(C103) \n",
        "blob_service_client.get_blob_to_path('shadeimg', full_path_to_file2, full_path_to_file2)"
      ],
      "execution_count": null,
      "outputs": [
        {
          "output_type": "execute_result",
          "data": {
            "text/plain": [
              "<azure.storage.blob.models.Blob at 0x7f64f02d3fd0>"
            ]
          },
          "metadata": {},
          "execution_count": 51
        }
      ]
    },
    {
      "cell_type": "code",
      "metadata": {
        "colab": {
          "base_uri": "https://localhost:8080/"
        },
        "id": "ETYki_a8qWjb",
        "outputId": "a853efde-184d-447d-e961-5198384e2a89"
      },
      "source": [
        "full_path_to_file2 = os.path.join(C104) \n",
        "blob_service_client.get_blob_to_path('shadeimg', full_path_to_file2, full_path_to_file2)"
      ],
      "execution_count": null,
      "outputs": [
        {
          "output_type": "execute_result",
          "data": {
            "text/plain": [
              "<azure.storage.blob.models.Blob at 0x7f64f02b8710>"
            ]
          },
          "metadata": {},
          "execution_count": 52
        }
      ]
    },
    {
      "cell_type": "markdown",
      "metadata": {
        "id": "UOfwpXiM6j9h"
      },
      "source": [
        "C2"
      ]
    },
    {
      "cell_type": "code",
      "metadata": {
        "colab": {
          "base_uri": "https://localhost:8080/"
        },
        "id": "QV6-qOJSqWjb",
        "outputId": "399d39cb-d50a-45d4-ea06-93aa4e3d86d7"
      },
      "source": [
        "full_path_to_file2 = os.path.join(C201) \n",
        "blob_service_client.get_blob_to_path('shadeimg', full_path_to_file2, full_path_to_file2)"
      ],
      "execution_count": null,
      "outputs": [
        {
          "output_type": "execute_result",
          "data": {
            "text/plain": [
              "<azure.storage.blob.models.Blob at 0x7f64f02d3650>"
            ]
          },
          "metadata": {},
          "execution_count": 53
        }
      ]
    },
    {
      "cell_type": "code",
      "metadata": {
        "colab": {
          "base_uri": "https://localhost:8080/"
        },
        "id": "yiVQsZVuqWjb",
        "outputId": "a28b4d13-e1d6-4583-a874-35144f290bc0"
      },
      "source": [
        "full_path_to_file2 = os.path.join(C202) \n",
        "blob_service_client.get_blob_to_path('shadeimg', full_path_to_file2, full_path_to_file2)"
      ],
      "execution_count": null,
      "outputs": [
        {
          "output_type": "execute_result",
          "data": {
            "text/plain": [
              "<azure.storage.blob.models.Blob at 0x7f64f02cacd0>"
            ]
          },
          "metadata": {},
          "execution_count": 54
        }
      ]
    },
    {
      "cell_type": "code",
      "metadata": {
        "colab": {
          "base_uri": "https://localhost:8080/"
        },
        "id": "hY_rgNf9qWjb",
        "outputId": "2b7fd5a1-fa5d-4b42-a266-389d9bbfb29d"
      },
      "source": [
        "full_path_to_file2 = os.path.join(C203) \n",
        "blob_service_client.get_blob_to_path('shadeimg', full_path_to_file2, full_path_to_file2)"
      ],
      "execution_count": null,
      "outputs": [
        {
          "output_type": "execute_result",
          "data": {
            "text/plain": [
              "<azure.storage.blob.models.Blob at 0x7f64f026c5d0>"
            ]
          },
          "metadata": {},
          "execution_count": 55
        }
      ]
    },
    {
      "cell_type": "code",
      "metadata": {
        "colab": {
          "base_uri": "https://localhost:8080/"
        },
        "id": "wen5PJfoqWjb",
        "outputId": "c585aa0b-285b-472f-b2ad-a175416c5fac"
      },
      "source": [
        "full_path_to_file2 = os.path.join(C204) \n",
        "blob_service_client.get_blob_to_path('shadeimg', full_path_to_file2, full_path_to_file2)"
      ],
      "execution_count": null,
      "outputs": [
        {
          "output_type": "execute_result",
          "data": {
            "text/plain": [
              "<azure.storage.blob.models.Blob at 0x7f64f16decd0>"
            ]
          },
          "metadata": {},
          "execution_count": 56
        }
      ]
    },
    {
      "cell_type": "markdown",
      "metadata": {
        "id": "Dre9rll26lii"
      },
      "source": [
        "C3"
      ]
    },
    {
      "cell_type": "code",
      "metadata": {
        "colab": {
          "base_uri": "https://localhost:8080/"
        },
        "id": "XxQjkejdqWjc",
        "outputId": "f6e31188-cfea-44cb-d9aa-f5e0360fc490"
      },
      "source": [
        "full_path_to_file2 = os.path.join(C301) \n",
        "blob_service_client.get_blob_to_path('shadeimg', full_path_to_file2, full_path_to_file2)"
      ],
      "execution_count": null,
      "outputs": [
        {
          "output_type": "execute_result",
          "data": {
            "text/plain": [
              "<azure.storage.blob.models.Blob at 0x7f64f025ef50>"
            ]
          },
          "metadata": {},
          "execution_count": 57
        }
      ]
    },
    {
      "cell_type": "code",
      "metadata": {
        "colab": {
          "base_uri": "https://localhost:8080/"
        },
        "id": "hJo8QJcUqWjc",
        "outputId": "cc69324f-9148-4ec5-b9b5-ab8e2b8d11ea"
      },
      "source": [
        "full_path_to_file2 = os.path.join(C302) \n",
        "blob_service_client.get_blob_to_path('shadeimg', full_path_to_file2, full_path_to_file2)"
      ],
      "execution_count": null,
      "outputs": [
        {
          "output_type": "execute_result",
          "data": {
            "text/plain": [
              "<azure.storage.blob.models.Blob at 0x7f64f025efd0>"
            ]
          },
          "metadata": {},
          "execution_count": 58
        }
      ]
    },
    {
      "cell_type": "code",
      "metadata": {
        "colab": {
          "base_uri": "https://localhost:8080/"
        },
        "id": "znSCt104qWjc",
        "outputId": "74571ca3-740a-4f07-ec04-b7c6a6408536"
      },
      "source": [
        "full_path_to_file2 = os.path.join(C303) \n",
        "blob_service_client.get_blob_to_path('shadeimg', full_path_to_file2, full_path_to_file2)"
      ],
      "execution_count": null,
      "outputs": [
        {
          "output_type": "execute_result",
          "data": {
            "text/plain": [
              "<azure.storage.blob.models.Blob at 0x7f64f02cac90>"
            ]
          },
          "metadata": {},
          "execution_count": 59
        }
      ]
    },
    {
      "cell_type": "code",
      "metadata": {
        "colab": {
          "base_uri": "https://localhost:8080/"
        },
        "id": "ZNg18ycAqWjc",
        "outputId": "bcbbe905-ad51-405c-8359-47fd0d1bbadd"
      },
      "source": [
        "full_path_to_file2 = os.path.join(C304) \n",
        "blob_service_client.get_blob_to_path('shadeimg', full_path_to_file2, full_path_to_file2)"
      ],
      "execution_count": null,
      "outputs": [
        {
          "output_type": "execute_result",
          "data": {
            "text/plain": [
              "<azure.storage.blob.models.Blob at 0x7f64f026b650>"
            ]
          },
          "metadata": {},
          "execution_count": 60
        }
      ]
    },
    {
      "cell_type": "markdown",
      "metadata": {
        "id": "A89CEXhb6nqF"
      },
      "source": [
        "C4"
      ]
    },
    {
      "cell_type": "code",
      "metadata": {
        "colab": {
          "base_uri": "https://localhost:8080/"
        },
        "id": "ZNp-dUIsqWjc",
        "outputId": "f452b105-176b-403a-f685-16ae7170853b"
      },
      "source": [
        "full_path_to_file2 = os.path.join(C401) \n",
        "blob_service_client.get_blob_to_path('shadeimg', full_path_to_file2, full_path_to_file2)"
      ],
      "execution_count": null,
      "outputs": [
        {
          "output_type": "execute_result",
          "data": {
            "text/plain": [
              "<azure.storage.blob.models.Blob at 0x7f64f0277b10>"
            ]
          },
          "metadata": {},
          "execution_count": 61
        }
      ]
    },
    {
      "cell_type": "code",
      "metadata": {
        "colab": {
          "base_uri": "https://localhost:8080/"
        },
        "id": "TFshOTHiqWjc",
        "outputId": "3a63a80b-4974-417e-ec3c-4db10b4299d7"
      },
      "source": [
        "full_path_to_file2 = os.path.join(C402) \n",
        "blob_service_client.get_blob_to_path('shadeimg', full_path_to_file2, full_path_to_file2)"
      ],
      "execution_count": null,
      "outputs": [
        {
          "output_type": "execute_result",
          "data": {
            "text/plain": [
              "<azure.storage.blob.models.Blob at 0x7f64f026bf90>"
            ]
          },
          "metadata": {},
          "execution_count": 62
        }
      ]
    },
    {
      "cell_type": "code",
      "metadata": {
        "colab": {
          "base_uri": "https://localhost:8080/"
        },
        "id": "sdDlfp9NqWjd",
        "outputId": "0fc1a71c-a5e7-4fcf-cde1-2d03ebc1a6d8"
      },
      "source": [
        "full_path_to_file2 = os.path.join(C403) \n",
        "blob_service_client.get_blob_to_path('shadeimg', full_path_to_file2, full_path_to_file2)"
      ],
      "execution_count": null,
      "outputs": [
        {
          "output_type": "execute_result",
          "data": {
            "text/plain": [
              "<azure.storage.blob.models.Blob at 0x7f64f0277e10>"
            ]
          },
          "metadata": {},
          "execution_count": 63
        }
      ]
    },
    {
      "cell_type": "code",
      "metadata": {
        "colab": {
          "base_uri": "https://localhost:8080/"
        },
        "id": "_FOfoyRXqWjd",
        "outputId": "e4450d1f-3508-488f-a07f-accbe65615d0"
      },
      "source": [
        "full_path_to_file2 = os.path.join(C404) \n",
        "blob_service_client.get_blob_to_path('shadeimg', full_path_to_file2, full_path_to_file2)"
      ],
      "execution_count": null,
      "outputs": [
        {
          "output_type": "execute_result",
          "data": {
            "text/plain": [
              "<azure.storage.blob.models.Blob at 0x7f64f0264390>"
            ]
          },
          "metadata": {},
          "execution_count": 64
        }
      ]
    },
    {
      "cell_type": "markdown",
      "metadata": {
        "id": "2nXnc9S96qZe"
      },
      "source": [
        "D2"
      ]
    },
    {
      "cell_type": "code",
      "metadata": {
        "colab": {
          "base_uri": "https://localhost:8080/"
        },
        "id": "jjb3FLKgqWjd",
        "outputId": "8a1b336d-edea-449f-d084-5af8e9a49cb3"
      },
      "source": [
        "full_path_to_file2 = os.path.join(D201) \n",
        "blob_service_client.get_blob_to_path('shadeimg', full_path_to_file2, full_path_to_file2)"
      ],
      "execution_count": null,
      "outputs": [
        {
          "output_type": "execute_result",
          "data": {
            "text/plain": [
              "<azure.storage.blob.models.Blob at 0x7f64f026cfd0>"
            ]
          },
          "metadata": {},
          "execution_count": 65
        }
      ]
    },
    {
      "cell_type": "code",
      "metadata": {
        "colab": {
          "base_uri": "https://localhost:8080/"
        },
        "id": "9pWM-aURqWjd",
        "outputId": "3365f9f8-d17d-475c-83db-d8d9690500c6"
      },
      "source": [
        "full_path_to_file2 = os.path.join(D202) \n",
        "blob_service_client.get_blob_to_path('shadeimg', full_path_to_file2, full_path_to_file2)"
      ],
      "execution_count": null,
      "outputs": [
        {
          "output_type": "execute_result",
          "data": {
            "text/plain": [
              "<azure.storage.blob.models.Blob at 0x7f64f0277250>"
            ]
          },
          "metadata": {},
          "execution_count": 66
        }
      ]
    },
    {
      "cell_type": "code",
      "metadata": {
        "colab": {
          "base_uri": "https://localhost:8080/"
        },
        "id": "LOd1jz1AqWjd",
        "outputId": "4c8947d4-c75b-4428-cda7-cbe337803b6f"
      },
      "source": [
        "full_path_to_file2 = os.path.join(D203) \n",
        "blob_service_client.get_blob_to_path('shadeimg', full_path_to_file2, full_path_to_file2)"
      ],
      "execution_count": null,
      "outputs": [
        {
          "output_type": "execute_result",
          "data": {
            "text/plain": [
              "<azure.storage.blob.models.Blob at 0x7f64f027ad50>"
            ]
          },
          "metadata": {},
          "execution_count": 67
        }
      ]
    },
    {
      "cell_type": "code",
      "metadata": {
        "colab": {
          "base_uri": "https://localhost:8080/"
        },
        "id": "2u7Gw9SRqWjd",
        "outputId": "0f682d44-201e-4d47-dfe0-46a5287c9760"
      },
      "source": [
        "full_path_to_file2 = os.path.join(D204) \n",
        "blob_service_client.get_blob_to_path('shadeimg', full_path_to_file2, full_path_to_file2)"
      ],
      "execution_count": null,
      "outputs": [
        {
          "output_type": "execute_result",
          "data": {
            "text/plain": [
              "<azure.storage.blob.models.Blob at 0x7f64f027add0>"
            ]
          },
          "metadata": {},
          "execution_count": 68
        }
      ]
    },
    {
      "cell_type": "markdown",
      "metadata": {
        "id": "84tHGN-56sF3"
      },
      "source": [
        "D3"
      ]
    },
    {
      "cell_type": "code",
      "metadata": {
        "colab": {
          "base_uri": "https://localhost:8080/"
        },
        "id": "1738pW_3qWje",
        "outputId": "8eff783b-04f2-40e6-b17c-5fe7b0378a27"
      },
      "source": [
        "full_path_to_file2 = os.path.join(D301) \n",
        "blob_service_client.get_blob_to_path('shadeimg', full_path_to_file2, full_path_to_file2)"
      ],
      "execution_count": null,
      "outputs": [
        {
          "output_type": "execute_result",
          "data": {
            "text/plain": [
              "<azure.storage.blob.models.Blob at 0x7f64f026ce90>"
            ]
          },
          "metadata": {},
          "execution_count": 69
        }
      ]
    },
    {
      "cell_type": "code",
      "metadata": {
        "colab": {
          "base_uri": "https://localhost:8080/"
        },
        "id": "fOWxaJZRqWje",
        "outputId": "18bebec1-1513-42e8-b1a2-40def9446eff"
      },
      "source": [
        "full_path_to_file2 = os.path.join(D302) \n",
        "blob_service_client.get_blob_to_path('shadeimg', full_path_to_file2, full_path_to_file2)"
      ],
      "execution_count": null,
      "outputs": [
        {
          "output_type": "execute_result",
          "data": {
            "text/plain": [
              "<azure.storage.blob.models.Blob at 0x7f64f028a550>"
            ]
          },
          "metadata": {},
          "execution_count": 70
        }
      ]
    },
    {
      "cell_type": "code",
      "metadata": {
        "colab": {
          "base_uri": "https://localhost:8080/"
        },
        "id": "0gIgD-pCqWje",
        "outputId": "9d47f45f-c307-43f5-b5e7-3218b73db4e0"
      },
      "source": [
        "full_path_to_file2 = os.path.join(D303) \n",
        "blob_service_client.get_blob_to_path('shadeimg', full_path_to_file2, full_path_to_file2)"
      ],
      "execution_count": null,
      "outputs": [
        {
          "output_type": "execute_result",
          "data": {
            "text/plain": [
              "<azure.storage.blob.models.Blob at 0x7f64f02d3ad0>"
            ]
          },
          "metadata": {},
          "execution_count": 71
        }
      ]
    },
    {
      "cell_type": "code",
      "metadata": {
        "colab": {
          "base_uri": "https://localhost:8080/"
        },
        "id": "vChTjQDpqWje",
        "outputId": "b92c3c32-0327-4325-c4f9-c1a279839ad3"
      },
      "source": [
        "full_path_to_file2 = os.path.join(D304) \n",
        "blob_service_client.get_blob_to_path('shadeimg', full_path_to_file2, full_path_to_file2)"
      ],
      "execution_count": null,
      "outputs": [
        {
          "output_type": "execute_result",
          "data": {
            "text/plain": [
              "<azure.storage.blob.models.Blob at 0x7f64f02975d0>"
            ]
          },
          "metadata": {},
          "execution_count": 72
        }
      ]
    },
    {
      "cell_type": "markdown",
      "metadata": {
        "id": "sc2ondun6taF"
      },
      "source": [
        "D4"
      ]
    },
    {
      "cell_type": "code",
      "metadata": {
        "colab": {
          "base_uri": "https://localhost:8080/"
        },
        "id": "OPqH6s0MqWje",
        "outputId": "cd054a43-1cdf-492a-c426-a669687dee86"
      },
      "source": [
        "full_path_to_file2 = os.path.join(D401) \n",
        "blob_service_client.get_blob_to_path('shadeimg', full_path_to_file2, full_path_to_file2)"
      ],
      "execution_count": null,
      "outputs": [
        {
          "output_type": "execute_result",
          "data": {
            "text/plain": [
              "<azure.storage.blob.models.Blob at 0x7f64f0264f50>"
            ]
          },
          "metadata": {},
          "execution_count": 73
        }
      ]
    },
    {
      "cell_type": "code",
      "metadata": {
        "colab": {
          "base_uri": "https://localhost:8080/"
        },
        "id": "OHFDg-TYqWje",
        "outputId": "af6736c7-66c9-4f15-da0c-173d23438cd4"
      },
      "source": [
        "full_path_to_file2 = os.path.join(D402) \n",
        "blob_service_client.get_blob_to_path('shadeimg', full_path_to_file2, full_path_to_file2)"
      ],
      "execution_count": null,
      "outputs": [
        {
          "output_type": "execute_result",
          "data": {
            "text/plain": [
              "<azure.storage.blob.models.Blob at 0x7f64f028a210>"
            ]
          },
          "metadata": {},
          "execution_count": 74
        }
      ]
    },
    {
      "cell_type": "code",
      "metadata": {
        "colab": {
          "base_uri": "https://localhost:8080/"
        },
        "id": "IykUWgiiqWje",
        "outputId": "d8358400-1517-4cfe-8c83-5f6c7622589c"
      },
      "source": [
        "full_path_to_file2 = os.path.join(D403) \n",
        "blob_service_client.get_blob_to_path('shadeimg', full_path_to_file2, full_path_to_file2)"
      ],
      "execution_count": null,
      "outputs": [
        {
          "output_type": "execute_result",
          "data": {
            "text/plain": [
              "<azure.storage.blob.models.Blob at 0x7f64f0264090>"
            ]
          },
          "metadata": {},
          "execution_count": 75
        }
      ]
    },
    {
      "cell_type": "code",
      "metadata": {
        "colab": {
          "base_uri": "https://localhost:8080/"
        },
        "id": "mh_GL5A2qWjf",
        "outputId": "e9f7b432-ac4f-4e2d-cac0-5c771ed6b593"
      },
      "source": [
        "full_path_to_file2 = os.path.join(D404) \n",
        "blob_service_client.get_blob_to_path('shadeimg', full_path_to_file2, full_path_to_file2)"
      ],
      "execution_count": null,
      "outputs": [
        {
          "output_type": "execute_result",
          "data": {
            "text/plain": [
              "<azure.storage.blob.models.Blob at 0x7f64f02777d0>"
            ]
          },
          "metadata": {},
          "execution_count": 76
        }
      ]
    },
    {
      "cell_type": "markdown",
      "metadata": {
        "id": "nxyIUEg7cPsn"
      },
      "source": [
        "#3. BGR to RGB"
      ]
    },
    {
      "cell_type": "code",
      "metadata": {
        "id": "1n-t_Rl_cXK7"
      },
      "source": [
        "import cv2\n",
        "from matplotlib import pyplot as plt #การเรียกใช้คำสั่ง matplotlib เพื่อวาดกราฟ โดยแทนชื่อ matplotlib ด้วย plt\n",
        "import matplotlib"
      ],
      "execution_count": null,
      "outputs": []
    },
    {
      "cell_type": "markdown",
      "metadata": {
        "id": "P8Vp2fIOb6KG"
      },
      "source": [
        "A1"
      ]
    },
    {
      "cell_type": "code",
      "metadata": {
        "id": "GVOM_S9IaAsm"
      },
      "source": [
        "imgA1_01  = cv2.imread(A101)\n",
        "RGB_imgA1_01= cv2.cvtColor(imgA1_01, cv2.COLOR_BGR2RGB)"
      ],
      "execution_count": null,
      "outputs": []
    },
    {
      "cell_type": "code",
      "metadata": {
        "id": "hHPm9C2Obbbx"
      },
      "source": [
        "imgA1_02  = cv2.imread(A102)\n",
        "RGB_imgA1_02= cv2.cvtColor(imgA1_02, cv2.COLOR_BGR2RGB)"
      ],
      "execution_count": null,
      "outputs": []
    },
    {
      "cell_type": "code",
      "metadata": {
        "id": "JSlpvsMEbgK7"
      },
      "source": [
        "imgA1_03  = cv2.imread(A103)\n",
        "RGB_imgA1_03= cv2.cvtColor(imgA1_03, cv2.COLOR_BGR2RGB)"
      ],
      "execution_count": null,
      "outputs": []
    },
    {
      "cell_type": "code",
      "metadata": {
        "id": "0o9-5ucebgqD"
      },
      "source": [
        "imgA1_04  = cv2.imread(A104)\n",
        "RGB_imgA1_04= cv2.cvtColor(imgA1_04, cv2.COLOR_BGR2RGB)"
      ],
      "execution_count": null,
      "outputs": []
    },
    {
      "cell_type": "markdown",
      "metadata": {
        "id": "gufTt975b7fS"
      },
      "source": [
        "A2"
      ]
    },
    {
      "cell_type": "code",
      "metadata": {
        "id": "tjSL18omb5R-"
      },
      "source": [
        "imgA2_01  = cv2.imread(A201)\n",
        "RGB_imgA2_01= cv2.cvtColor(imgA2_01, cv2.COLOR_BGR2RGB)"
      ],
      "execution_count": null,
      "outputs": []
    },
    {
      "cell_type": "code",
      "metadata": {
        "id": "54V3PVGEcKYg"
      },
      "source": [
        "imgA2_02  = cv2.imread(A202)\n",
        "RGB_imgA2_02= cv2.cvtColor(imgA2_02, cv2.COLOR_BGR2RGB)"
      ],
      "execution_count": null,
      "outputs": []
    },
    {
      "cell_type": "code",
      "metadata": {
        "id": "DVtfJhWscK1x"
      },
      "source": [
        "imgA2_03  = cv2.imread(A203)\n",
        "RGB_imgA2_03= cv2.cvtColor(imgA2_03, cv2.COLOR_BGR2RGB)"
      ],
      "execution_count": null,
      "outputs": []
    },
    {
      "cell_type": "code",
      "metadata": {
        "id": "8Naz0LU5cLHO"
      },
      "source": [
        "imgA2_04  = cv2.imread(A204)\n",
        "RGB_imgA2_04= cv2.cvtColor(imgA2_04, cv2.COLOR_BGR2RGB)"
      ],
      "execution_count": null,
      "outputs": []
    },
    {
      "cell_type": "markdown",
      "metadata": {
        "id": "uVEPIS6bcYbA"
      },
      "source": [
        "A3"
      ]
    },
    {
      "cell_type": "code",
      "metadata": {
        "id": "KzcBxc8lck7z"
      },
      "source": [
        "imgA3_01  = cv2.imread(A301)\n",
        "RGB_imgA3_01= cv2.cvtColor(imgA3_01, cv2.COLOR_BGR2RGB)"
      ],
      "execution_count": null,
      "outputs": []
    },
    {
      "cell_type": "code",
      "metadata": {
        "id": "lORtl17icmhM"
      },
      "source": [
        "imgA3_02  = cv2.imread(A302)\n",
        "RGB_imgA3_02= cv2.cvtColor(imgA3_02, cv2.COLOR_BGR2RGB)"
      ],
      "execution_count": null,
      "outputs": []
    },
    {
      "cell_type": "code",
      "metadata": {
        "id": "PdrwzlqVcyi1"
      },
      "source": [
        "imgA3_03  = cv2.imread(A303)\n",
        "RGB_imgA3_03= cv2.cvtColor(imgA3_03, cv2.COLOR_BGR2RGB)"
      ],
      "execution_count": null,
      "outputs": []
    },
    {
      "cell_type": "code",
      "metadata": {
        "id": "sg9Z_KwUc4kR"
      },
      "source": [
        "imgA3_04  = cv2.imread(A304)\n",
        "RGB_imgA3_04= cv2.cvtColor(imgA3_04, cv2.COLOR_BGR2RGB)"
      ],
      "execution_count": null,
      "outputs": []
    },
    {
      "cell_type": "markdown",
      "metadata": {
        "id": "a_-SKgyLcZWM"
      },
      "source": [
        "A3.5"
      ]
    },
    {
      "cell_type": "code",
      "metadata": {
        "id": "Gf3_D74Fc8S1"
      },
      "source": [
        "imgA3_501  = cv2.imread(A3_501)\n",
        "RGB_imgA3_501= cv2.cvtColor(imgA3_501, cv2.COLOR_BGR2RGB)"
      ],
      "execution_count": null,
      "outputs": []
    },
    {
      "cell_type": "code",
      "metadata": {
        "id": "GqLh_f0mdBKp"
      },
      "source": [
        "imgA3_502  = cv2.imread(A3_502)\n",
        "RGB_imgA3_502= cv2.cvtColor(imgA3_502, cv2.COLOR_BGR2RGB)"
      ],
      "execution_count": null,
      "outputs": []
    },
    {
      "cell_type": "code",
      "metadata": {
        "id": "cGBjkxnKdFxn"
      },
      "source": [
        "imgA3_503  = cv2.imread(A3_503)\n",
        "RGB_imgA3_503= cv2.cvtColor(imgA3_503, cv2.COLOR_BGR2RGB)"
      ],
      "execution_count": null,
      "outputs": []
    },
    {
      "cell_type": "code",
      "metadata": {
        "id": "wVvpke2ZdKe1"
      },
      "source": [
        "imgA3_504  = cv2.imread(A3_504)\n",
        "RGB_imgA3_504= cv2.cvtColor(imgA3_504, cv2.COLOR_BGR2RGB)"
      ],
      "execution_count": null,
      "outputs": []
    },
    {
      "cell_type": "markdown",
      "metadata": {
        "id": "PEkgGEpUdNrj"
      },
      "source": [
        "A4"
      ]
    },
    {
      "cell_type": "code",
      "metadata": {
        "id": "0iwy2ADPdOyB"
      },
      "source": [
        "imgA4_01  = cv2.imread(A401)\n",
        "RGB_imgA4_01= cv2.cvtColor(imgA4_01, cv2.COLOR_BGR2RGB)"
      ],
      "execution_count": null,
      "outputs": []
    },
    {
      "cell_type": "code",
      "metadata": {
        "id": "EYuD_CJydQX5"
      },
      "source": [
        "imgA4_02  = cv2.imread(A402)\n",
        "RGB_imgA4_02= cv2.cvtColor(imgA4_02, cv2.COLOR_BGR2RGB)"
      ],
      "execution_count": null,
      "outputs": []
    },
    {
      "cell_type": "code",
      "metadata": {
        "id": "0nvPOVb6dQsZ"
      },
      "source": [
        "imgA4_03  = cv2.imread(A403)\n",
        "RGB_imgA4_03= cv2.cvtColor(imgA4_03, cv2.COLOR_BGR2RGB)"
      ],
      "execution_count": null,
      "outputs": []
    },
    {
      "cell_type": "code",
      "metadata": {
        "id": "N-8Nu6NBdQ8d"
      },
      "source": [
        "imgA4_04  = cv2.imread(A404)\n",
        "RGB_imgA4_04= cv2.cvtColor(imgA4_04, cv2.COLOR_BGR2RGB)"
      ],
      "execution_count": null,
      "outputs": []
    },
    {
      "cell_type": "markdown",
      "metadata": {
        "id": "_ntdqxB5dsok"
      },
      "source": [
        "B1"
      ]
    },
    {
      "cell_type": "code",
      "metadata": {
        "id": "6N74-1BkdxgN"
      },
      "source": [
        "imgB1_01  = cv2.imread(B101)\n",
        "RGB_imgB1_01= cv2.cvtColor(imgB1_01, cv2.COLOR_BGR2RGB)"
      ],
      "execution_count": null,
      "outputs": []
    },
    {
      "cell_type": "code",
      "metadata": {
        "id": "N8oZlwN0dyGl"
      },
      "source": [
        "imgB1_03  = cv2.imread(B103)\n",
        "RGB_imgB1_03= cv2.cvtColor(imgB1_03, cv2.COLOR_BGR2RGB)"
      ],
      "execution_count": null,
      "outputs": []
    },
    {
      "cell_type": "code",
      "metadata": {
        "id": "igK3PDK9eCnz"
      },
      "source": [
        "imgB1_02  = cv2.imread(B102)\n",
        "RGB_imgB1_02= cv2.cvtColor(imgB1_02, cv2.COLOR_BGR2RGB)"
      ],
      "execution_count": null,
      "outputs": []
    },
    {
      "cell_type": "code",
      "metadata": {
        "id": "VrS0M6pAeHIF"
      },
      "source": [
        "imgB1_04  = cv2.imread(B104)\n",
        "RGB_imgB1_04= cv2.cvtColor(imgB1_04, cv2.COLOR_BGR2RGB)"
      ],
      "execution_count": null,
      "outputs": []
    },
    {
      "cell_type": "markdown",
      "metadata": {
        "id": "1I1KWoCMeObp"
      },
      "source": [
        "B2"
      ]
    },
    {
      "cell_type": "code",
      "metadata": {
        "id": "X-2JLg5feRPH"
      },
      "source": [
        "imgB2_01  = cv2.imread(B201)\n",
        "RGB_imgB2_01= cv2.cvtColor(imgB2_01, cv2.COLOR_BGR2RGB)"
      ],
      "execution_count": null,
      "outputs": []
    },
    {
      "cell_type": "code",
      "metadata": {
        "id": "B_VstUr5eXwQ"
      },
      "source": [
        "imgB2_03  = cv2.imread(B203)\n",
        "RGB_imgB2_03= cv2.cvtColor(imgB2_03, cv2.COLOR_BGR2RGB)"
      ],
      "execution_count": null,
      "outputs": []
    },
    {
      "cell_type": "code",
      "metadata": {
        "id": "2CgDr2APedK9"
      },
      "source": [
        "imgB2_04  = cv2.imread(B204)\n",
        "RGB_imgB2_04= cv2.cvtColor(imgB2_04, cv2.COLOR_BGR2RGB)"
      ],
      "execution_count": null,
      "outputs": []
    },
    {
      "cell_type": "code",
      "metadata": {
        "id": "5xOt0vwDedc_"
      },
      "source": [
        "imgB2_02  = cv2.imread(B202)\n",
        "RGB_imgB2_02= cv2.cvtColor(imgB2_02, cv2.COLOR_BGR2RGB)"
      ],
      "execution_count": null,
      "outputs": []
    },
    {
      "cell_type": "markdown",
      "metadata": {
        "id": "hUCBVyY7ePqP"
      },
      "source": [
        "B3"
      ]
    },
    {
      "cell_type": "code",
      "metadata": {
        "id": "LtfSY2yieq1m"
      },
      "source": [
        "imgB3_01  = cv2.imread(B301)\n",
        "RGB_imgB3_01= cv2.cvtColor(imgB3_01, cv2.COLOR_BGR2RGB)"
      ],
      "execution_count": null,
      "outputs": []
    },
    {
      "cell_type": "code",
      "metadata": {
        "id": "794EGsZeevXI"
      },
      "source": [
        "imgB3_04  = cv2.imread(B304)\n",
        "RGB_imgB3_04= cv2.cvtColor(imgB3_04, cv2.COLOR_BGR2RGB)"
      ],
      "execution_count": null,
      "outputs": []
    },
    {
      "cell_type": "code",
      "metadata": {
        "id": "lTZ_Ukume0_3"
      },
      "source": [
        "imgB3_02  = cv2.imread(B302)\n",
        "RGB_imgB3_02= cv2.cvtColor(imgB3_02, cv2.COLOR_BGR2RGB)"
      ],
      "execution_count": null,
      "outputs": []
    },
    {
      "cell_type": "code",
      "metadata": {
        "id": "8QEXNswqe6yE"
      },
      "source": [
        "imgB3_04  = cv2.imread(B304)\n",
        "RGB_imgB3_04= cv2.cvtColor(imgB3_04, cv2.COLOR_BGR2RGB)"
      ],
      "execution_count": null,
      "outputs": []
    },
    {
      "cell_type": "markdown",
      "metadata": {
        "id": "LcXBVCGVeQec"
      },
      "source": [
        "B4"
      ]
    },
    {
      "cell_type": "code",
      "metadata": {
        "id": "6aFTfOU0fKS7"
      },
      "source": [
        "imgB4_02  = cv2.imread(B402)\n",
        "RGB_imgB4_02= cv2.cvtColor(imgB4_02, cv2.COLOR_BGR2RGB)"
      ],
      "execution_count": null,
      "outputs": []
    },
    {
      "cell_type": "code",
      "metadata": {
        "id": "yIuyXg-Wfh3L"
      },
      "source": [
        "imgB4_03  = cv2.imread(B403)\n",
        "RGB_imgB4_03= cv2.cvtColor(imgB4_03, cv2.COLOR_BGR2RGB)"
      ],
      "execution_count": null,
      "outputs": []
    },
    {
      "cell_type": "code",
      "metadata": {
        "id": "xXaJJNF3fiG-"
      },
      "source": [
        "imgB4_01  = cv2.imread(B401)\n",
        "RGB_imgB4_01= cv2.cvtColor(imgB4_01, cv2.COLOR_BGR2RGB)"
      ],
      "execution_count": null,
      "outputs": []
    },
    {
      "cell_type": "code",
      "metadata": {
        "id": "ILAXr3L4fGYz"
      },
      "source": [
        "imgB4_04  = cv2.imread(B404)\n",
        "RGB_imgB4_04= cv2.cvtColor(imgB4_04, cv2.COLOR_BGR2RGB)"
      ],
      "execution_count": null,
      "outputs": []
    },
    {
      "cell_type": "markdown",
      "metadata": {
        "id": "uubEFQ7qf-tC"
      },
      "source": [
        "C1"
      ]
    },
    {
      "cell_type": "code",
      "metadata": {
        "id": "6-ubqoTsgJPC"
      },
      "source": [
        "imgC1_03  = cv2.imread(C103)\n",
        "RGB_imgC1_03= cv2.cvtColor(imgC1_03, cv2.COLOR_BGR2RGB)"
      ],
      "execution_count": null,
      "outputs": []
    },
    {
      "cell_type": "code",
      "metadata": {
        "id": "t0KvXNPygJii"
      },
      "source": [
        "imgC1_04  = cv2.imread(C104)\n",
        "RGB_imgC1_04= cv2.cvtColor(imgC1_04, cv2.COLOR_BGR2RGB)"
      ],
      "execution_count": null,
      "outputs": []
    },
    {
      "cell_type": "code",
      "metadata": {
        "id": "PiE8ZiNOgXXs"
      },
      "source": [
        "imgC1_02  = cv2.imread(C102)\n",
        "RGB_imgC1_02= cv2.cvtColor(imgC1_02, cv2.COLOR_BGR2RGB)"
      ],
      "execution_count": null,
      "outputs": []
    },
    {
      "cell_type": "code",
      "metadata": {
        "id": "cqOor2j3gWvD"
      },
      "source": [
        "imgC1_01  = cv2.imread(C101)\n",
        "RGB_imgC1_01= cv2.cvtColor(imgC1_01, cv2.COLOR_BGR2RGB)"
      ],
      "execution_count": null,
      "outputs": []
    },
    {
      "cell_type": "markdown",
      "metadata": {
        "id": "yyI19BAbf_7S"
      },
      "source": [
        "C2"
      ]
    },
    {
      "cell_type": "code",
      "metadata": {
        "id": "TzTzP-M1gmXw"
      },
      "source": [
        "imgC2_01  = cv2.imread(C201)\n",
        "RGB_imgC2_01= cv2.cvtColor(imgC2_01, cv2.COLOR_BGR2RGB)"
      ],
      "execution_count": null,
      "outputs": []
    },
    {
      "cell_type": "code",
      "metadata": {
        "id": "QJfBlVmAgk3S"
      },
      "source": [
        "imgC2_02  = cv2.imread(C202)\n",
        "RGB_imgC2_02= cv2.cvtColor(imgC2_02, cv2.COLOR_BGR2RGB)"
      ],
      "execution_count": null,
      "outputs": []
    },
    {
      "cell_type": "code",
      "metadata": {
        "id": "DVeUrQ0agmDP"
      },
      "source": [
        "imgC2_03  = cv2.imread(C203)\n",
        "RGB_imgC2_03= cv2.cvtColor(imgC2_03, cv2.COLOR_BGR2RGB)"
      ],
      "execution_count": null,
      "outputs": []
    },
    {
      "cell_type": "code",
      "metadata": {
        "id": "XtghPEO2gmp8"
      },
      "source": [
        "imgC2_04  = cv2.imread(C204)\n",
        "RGB_imgC2_04= cv2.cvtColor(imgC2_04, cv2.COLOR_BGR2RGB)"
      ],
      "execution_count": null,
      "outputs": []
    },
    {
      "cell_type": "markdown",
      "metadata": {
        "id": "vfSCdks7gBFH"
      },
      "source": [
        "C3"
      ]
    },
    {
      "cell_type": "code",
      "metadata": {
        "id": "2FGbyNm0hhmR"
      },
      "source": [
        "imgC3_01  = cv2.imread(C301)\n",
        "RGB_imgC3_01= cv2.cvtColor(imgC3_01, cv2.COLOR_BGR2RGB)"
      ],
      "execution_count": null,
      "outputs": []
    },
    {
      "cell_type": "code",
      "metadata": {
        "id": "O60-VGAmhh97"
      },
      "source": [
        "imgC3_03  = cv2.imread(C303)\n",
        "RGB_imgC3_03= cv2.cvtColor(imgC3_03, cv2.COLOR_BGR2RGB)"
      ],
      "execution_count": null,
      "outputs": []
    },
    {
      "cell_type": "code",
      "metadata": {
        "id": "Ic1so8G1hsTe"
      },
      "source": [
        "imgC3_02  = cv2.imread(C302)\n",
        "RGB_imgC3_02= cv2.cvtColor(imgC3_02, cv2.COLOR_BGR2RGB)"
      ],
      "execution_count": null,
      "outputs": []
    },
    {
      "cell_type": "code",
      "metadata": {
        "id": "YtNRCI-8hsj-"
      },
      "source": [
        "imgC3_04  = cv2.imread(C304)\n",
        "RGB_imgC3_04= cv2.cvtColor(imgC3_04, cv2.COLOR_BGR2RGB)"
      ],
      "execution_count": null,
      "outputs": []
    },
    {
      "cell_type": "markdown",
      "metadata": {
        "id": "VZuqvN-UgB1x"
      },
      "source": [
        "C4"
      ]
    },
    {
      "cell_type": "code",
      "metadata": {
        "id": "HWO6qM5kirOE"
      },
      "source": [
        "imgC4_02  = cv2.imread(C402)\n",
        "RGB_imgC4_02= cv2.cvtColor(imgC4_02, cv2.COLOR_BGR2RGB)"
      ],
      "execution_count": null,
      "outputs": []
    },
    {
      "cell_type": "code",
      "metadata": {
        "id": "j4Pja6LViriS"
      },
      "source": [
        "imgC4_01  = cv2.imread(C401)\n",
        "RGB_imgC4_01= cv2.cvtColor(imgC4_01, cv2.COLOR_BGR2RGB)"
      ],
      "execution_count": null,
      "outputs": []
    },
    {
      "cell_type": "code",
      "metadata": {
        "id": "X3o2PV6virzG"
      },
      "source": [
        "imgC4_03  = cv2.imread(C403)\n",
        "RGB_imgC4_03= cv2.cvtColor(imgC4_03, cv2.COLOR_BGR2RGB)"
      ],
      "execution_count": null,
      "outputs": []
    },
    {
      "cell_type": "code",
      "metadata": {
        "id": "kPoMLVCdisHc"
      },
      "source": [
        "imgC4_04  = cv2.imread(C404)\n",
        "RGB_imgC4_04= cv2.cvtColor(imgC4_04, cv2.COLOR_BGR2RGB)"
      ],
      "execution_count": null,
      "outputs": []
    },
    {
      "cell_type": "markdown",
      "metadata": {
        "id": "T9ARw2lYgCjL"
      },
      "source": [
        "D2"
      ]
    },
    {
      "cell_type": "code",
      "metadata": {
        "id": "DFmPhDzCjGWv"
      },
      "source": [
        "imgD2_04  = cv2.imread(D204)\n",
        "RGB_imgD2_04= cv2.cvtColor(imgD2_04, cv2.COLOR_BGR2RGB)"
      ],
      "execution_count": null,
      "outputs": []
    },
    {
      "cell_type": "code",
      "metadata": {
        "id": "qujyaFlOjGni"
      },
      "source": [
        "imgD2_03  = cv2.imread(D203)\n",
        "RGB_imgD2_03= cv2.cvtColor(imgD2_03, cv2.COLOR_BGR2RGB)"
      ],
      "execution_count": null,
      "outputs": []
    },
    {
      "cell_type": "code",
      "metadata": {
        "id": "zlPefHERjU-c"
      },
      "source": [
        "imgD2_02  = cv2.imread(D202)\n",
        "RGB_imgD2_02= cv2.cvtColor(imgD2_02, cv2.COLOR_BGR2RGB)"
      ],
      "execution_count": null,
      "outputs": []
    },
    {
      "cell_type": "code",
      "metadata": {
        "id": "b3i_Rv95jVMQ"
      },
      "source": [
        "imgD2_01  = cv2.imread(D201)\n",
        "RGB_imgD2_01= cv2.cvtColor(imgD2_01, cv2.COLOR_BGR2RGB)"
      ],
      "execution_count": null,
      "outputs": []
    },
    {
      "cell_type": "markdown",
      "metadata": {
        "id": "bCM2rsMZgDZt"
      },
      "source": [
        "D3"
      ]
    },
    {
      "cell_type": "code",
      "metadata": {
        "id": "543Pftj0jkoi"
      },
      "source": [
        "imgD3_01  = cv2.imread(D301)\n",
        "RGB_imgD3_01= cv2.cvtColor(imgD3_01, cv2.COLOR_BGR2RGB)"
      ],
      "execution_count": null,
      "outputs": []
    },
    {
      "cell_type": "code",
      "metadata": {
        "id": "se8oOd8IjrIX"
      },
      "source": [
        "imgD3_02  = cv2.imread(D302)\n",
        "RGB_imgD3_02= cv2.cvtColor(imgD3_02, cv2.COLOR_BGR2RGB)"
      ],
      "execution_count": null,
      "outputs": []
    },
    {
      "cell_type": "code",
      "metadata": {
        "id": "n569gXVKjymi"
      },
      "source": [
        "imgD3_03  = cv2.imread(D303)\n",
        "RGB_imgD3_03= cv2.cvtColor(imgD3_03, cv2.COLOR_BGR2RGB)"
      ],
      "execution_count": null,
      "outputs": []
    },
    {
      "cell_type": "code",
      "metadata": {
        "id": "zAx3JzOnj4NU"
      },
      "source": [
        "imgD3_04  = cv2.imread(D304)\n",
        "RGB_imgD3_04= cv2.cvtColor(imgD3_04, cv2.COLOR_BGR2RGB)"
      ],
      "execution_count": null,
      "outputs": []
    },
    {
      "cell_type": "markdown",
      "metadata": {
        "id": "mvMVz8Y9gETm"
      },
      "source": [
        "D4"
      ]
    },
    {
      "cell_type": "code",
      "metadata": {
        "id": "ES2mOiDQj-uU"
      },
      "source": [
        "imgD4_01  = cv2.imread(D401)\n",
        "RGB_imgD4_01= cv2.cvtColor(imgD4_01, cv2.COLOR_BGR2RGB)"
      ],
      "execution_count": null,
      "outputs": []
    },
    {
      "cell_type": "code",
      "metadata": {
        "id": "68q0SjtIj_Dy"
      },
      "source": [
        "imgD4_02  = cv2.imread(D402)\n",
        "RGB_imgD4_02= cv2.cvtColor(imgD4_02, cv2.COLOR_BGR2RGB)"
      ],
      "execution_count": null,
      "outputs": []
    },
    {
      "cell_type": "code",
      "metadata": {
        "id": "eZSd-x2GgDEL"
      },
      "source": [
        "imgD4_03  = cv2.imread(D403)\n",
        "RGB_imgD4_03= cv2.cvtColor(imgD4_03, cv2.COLOR_BGR2RGB)"
      ],
      "execution_count": null,
      "outputs": []
    },
    {
      "cell_type": "code",
      "metadata": {
        "id": "ICINoEfIgDWj"
      },
      "source": [
        "imgD4_04  = cv2.imread(D404)\n",
        "RGB_imgD4_04= cv2.cvtColor(imgD4_04, cv2.COLOR_BGR2RGB)"
      ],
      "execution_count": null,
      "outputs": []
    },
    {
      "cell_type": "markdown",
      "metadata": {
        "id": "uHfUzwcHhX8R"
      },
      "source": [
        "#4. RGB to LAB"
      ]
    },
    {
      "cell_type": "markdown",
      "metadata": {
        "id": "yBL9utUemWyZ"
      },
      "source": [
        "A1"
      ]
    },
    {
      "cell_type": "code",
      "metadata": {
        "id": "UiTCG8xFntwB"
      },
      "source": [
        "LAB_imgA1_01= cv2.cvtColor(RGB_imgA1_01, cv2.COLOR_RGB2LAB)"
      ],
      "execution_count": null,
      "outputs": []
    },
    {
      "cell_type": "code",
      "metadata": {
        "id": "ktf3nM4antol"
      },
      "source": [
        "LAB_imgA1_02= cv2.cvtColor(RGB_imgA1_02, cv2.COLOR_RGB2LAB)"
      ],
      "execution_count": null,
      "outputs": []
    },
    {
      "cell_type": "code",
      "metadata": {
        "id": "u-JFybcBntdc"
      },
      "source": [
        "LAB_imgA1_03= cv2.cvtColor(RGB_imgA1_03, cv2.COLOR_RGB2LAB)"
      ],
      "execution_count": null,
      "outputs": []
    },
    {
      "cell_type": "code",
      "metadata": {
        "id": "EJ9wLDXenwG4"
      },
      "source": [
        "LAB_imgA1_04= cv2.cvtColor(RGB_imgA1_04, cv2.COLOR_RGB2LAB)"
      ],
      "execution_count": null,
      "outputs": []
    },
    {
      "cell_type": "markdown",
      "metadata": {
        "id": "8rtewXNCpnBx"
      },
      "source": [
        "A2"
      ]
    },
    {
      "cell_type": "code",
      "metadata": {
        "id": "xsTPAG-gpqXo"
      },
      "source": [
        "LAB_imgA2_01= cv2.cvtColor(RGB_imgA2_01, cv2.COLOR_RGB2LAB)"
      ],
      "execution_count": null,
      "outputs": []
    },
    {
      "cell_type": "code",
      "metadata": {
        "id": "Ssic_jpRqhqK"
      },
      "source": [
        "LAB_imgA2_02= cv2.cvtColor(RGB_imgA2_02, cv2.COLOR_RGB2LAB)"
      ],
      "execution_count": null,
      "outputs": []
    },
    {
      "cell_type": "code",
      "metadata": {
        "id": "nYc5fnY9qpBk"
      },
      "source": [
        "LAB_imgA2_03= cv2.cvtColor(RGB_imgA2_03, cv2.COLOR_RGB2LAB)"
      ],
      "execution_count": null,
      "outputs": []
    },
    {
      "cell_type": "code",
      "metadata": {
        "id": "hzoiKbbRqowx"
      },
      "source": [
        "LAB_imgA2_04= cv2.cvtColor(RGB_imgA2_04, cv2.COLOR_RGB2LAB)"
      ],
      "execution_count": null,
      "outputs": []
    },
    {
      "cell_type": "markdown",
      "metadata": {
        "id": "aI5xdTY4pn8b"
      },
      "source": [
        "A3"
      ]
    },
    {
      "cell_type": "code",
      "metadata": {
        "id": "pCou6gLsrIwK"
      },
      "source": [
        "LAB_imgA3_01= cv2.cvtColor(RGB_imgA3_01, cv2.COLOR_RGB2LAB)"
      ],
      "execution_count": null,
      "outputs": []
    },
    {
      "cell_type": "code",
      "metadata": {
        "id": "kVCfCF5OrIf4"
      },
      "source": [
        "LAB_imgA3_02= cv2.cvtColor(RGB_imgA3_02, cv2.COLOR_RGB2LAB)"
      ],
      "execution_count": null,
      "outputs": []
    },
    {
      "cell_type": "code",
      "metadata": {
        "id": "mG7BAXngrITB"
      },
      "source": [
        "LAB_imgA3_03= cv2.cvtColor(RGB_imgA3_03, cv2.COLOR_RGB2LAB)"
      ],
      "execution_count": null,
      "outputs": []
    },
    {
      "cell_type": "code",
      "metadata": {
        "id": "qix2SAstrH9-"
      },
      "source": [
        "LAB_imgA3_04= cv2.cvtColor(RGB_imgA3_04, cv2.COLOR_RGB2LAB)"
      ],
      "execution_count": null,
      "outputs": []
    },
    {
      "cell_type": "markdown",
      "metadata": {
        "id": "cGC5Ray3poxR"
      },
      "source": [
        "A3.5"
      ]
    },
    {
      "cell_type": "code",
      "metadata": {
        "id": "6AkrYYCurpZL"
      },
      "source": [
        "LAB_imgA3_501= cv2.cvtColor(RGB_imgA3_501, cv2.COLOR_RGB2LAB)"
      ],
      "execution_count": null,
      "outputs": []
    },
    {
      "cell_type": "code",
      "metadata": {
        "id": "JOQI8idOrpRN"
      },
      "source": [
        "LAB_imgA3_502= cv2.cvtColor(RGB_imgA3_502, cv2.COLOR_RGB2LAB)"
      ],
      "execution_count": null,
      "outputs": []
    },
    {
      "cell_type": "code",
      "metadata": {
        "id": "zkTCbiLJrpIU"
      },
      "source": [
        "LAB_imgA3_503= cv2.cvtColor(RGB_imgA3_503, cv2.COLOR_RGB2LAB)"
      ],
      "execution_count": null,
      "outputs": []
    },
    {
      "cell_type": "code",
      "metadata": {
        "id": "5LKXlyPProsL"
      },
      "source": [
        "LAB_imgA3_504= cv2.cvtColor(RGB_imgA3_504, cv2.COLOR_RGB2LAB)"
      ],
      "execution_count": null,
      "outputs": []
    },
    {
      "cell_type": "markdown",
      "metadata": {
        "id": "DkthN7EuppmB"
      },
      "source": [
        "A4"
      ]
    },
    {
      "cell_type": "code",
      "metadata": {
        "id": "bNbHDb-Jr15k"
      },
      "source": [
        "LAB_imgA4_01= cv2.cvtColor(RGB_imgA4_01, cv2.COLOR_RGB2LAB)"
      ],
      "execution_count": null,
      "outputs": []
    },
    {
      "cell_type": "code",
      "metadata": {
        "id": "1ftcCZIUr2Le"
      },
      "source": [
        "LAB_imgA4_02= cv2.cvtColor(RGB_imgA4_02, cv2.COLOR_RGB2LAB)"
      ],
      "execution_count": null,
      "outputs": []
    },
    {
      "cell_type": "code",
      "metadata": {
        "id": "woxjbwstr2g6"
      },
      "source": [
        "LAB_imgA4_03= cv2.cvtColor(RGB_imgA4_03, cv2.COLOR_RGB2LAB)"
      ],
      "execution_count": null,
      "outputs": []
    },
    {
      "cell_type": "code",
      "metadata": {
        "id": "qep6oqGLr2xv"
      },
      "source": [
        "LAB_imgA4_04= cv2.cvtColor(RGB_imgA4_04, cv2.COLOR_RGB2LAB)"
      ],
      "execution_count": null,
      "outputs": []
    },
    {
      "cell_type": "markdown",
      "metadata": {
        "id": "rrX7vaLpsTz-"
      },
      "source": [
        "B1"
      ]
    },
    {
      "cell_type": "code",
      "metadata": {
        "id": "DNRoFy1wsVF_"
      },
      "source": [
        "LAB_imgB1_01= cv2.cvtColor(RGB_imgB1_01, cv2.COLOR_RGB2LAB)"
      ],
      "execution_count": null,
      "outputs": []
    },
    {
      "cell_type": "code",
      "metadata": {
        "id": "zp3TpwKRsWvx"
      },
      "source": [
        "LAB_imgB1_02= cv2.cvtColor(RGB_imgB1_02, cv2.COLOR_RGB2LAB)"
      ],
      "execution_count": null,
      "outputs": []
    },
    {
      "cell_type": "code",
      "metadata": {
        "id": "xrzFoPNVsXI9"
      },
      "source": [
        "LAB_imgB1_03= cv2.cvtColor(RGB_imgB1_03, cv2.COLOR_RGB2LAB)"
      ],
      "execution_count": null,
      "outputs": []
    },
    {
      "cell_type": "code",
      "metadata": {
        "id": "_qS1zGa4sXZU"
      },
      "source": [
        "LAB_imgB1_04= cv2.cvtColor(RGB_imgB1_04, cv2.COLOR_RGB2LAB)"
      ],
      "execution_count": null,
      "outputs": []
    },
    {
      "cell_type": "markdown",
      "metadata": {
        "id": "dzo4UhMAsX3I"
      },
      "source": [
        "B2"
      ]
    },
    {
      "cell_type": "code",
      "metadata": {
        "id": "a9bFqn5FsY44"
      },
      "source": [
        "LAB_imgB2_01= cv2.cvtColor(RGB_imgB2_01, cv2.COLOR_RGB2LAB)"
      ],
      "execution_count": null,
      "outputs": []
    },
    {
      "cell_type": "code",
      "metadata": {
        "id": "xrHo9VfLsZXM"
      },
      "source": [
        "LAB_imgB2_03= cv2.cvtColor(RGB_imgB2_03, cv2.COLOR_RGB2LAB)"
      ],
      "execution_count": null,
      "outputs": []
    },
    {
      "cell_type": "code",
      "metadata": {
        "id": "oPLazK61sZ1W"
      },
      "source": [
        "LAB_imgB2_04= cv2.cvtColor(RGB_imgB2_04, cv2.COLOR_RGB2LAB)"
      ],
      "execution_count": null,
      "outputs": []
    },
    {
      "cell_type": "code",
      "metadata": {
        "id": "wAy1CJY8saG6"
      },
      "source": [
        "LAB_imgB2_02= cv2.cvtColor(RGB_imgB2_02, cv2.COLOR_RGB2LAB)"
      ],
      "execution_count": null,
      "outputs": []
    },
    {
      "cell_type": "markdown",
      "metadata": {
        "id": "TnccqxHJtNzw"
      },
      "source": [
        "B3"
      ]
    },
    {
      "cell_type": "code",
      "metadata": {
        "id": "6UlUYvwltP4E"
      },
      "source": [
        "LAB_imgB3_01= cv2.cvtColor(RGB_imgB3_01, cv2.COLOR_RGB2LAB)"
      ],
      "execution_count": null,
      "outputs": []
    },
    {
      "cell_type": "code",
      "metadata": {
        "id": "Eq5sKtuNtPw7"
      },
      "source": [
        "LAB_imgB3_04= cv2.cvtColor(RGB_imgB3_04, cv2.COLOR_RGB2LAB)"
      ],
      "execution_count": null,
      "outputs": []
    },
    {
      "cell_type": "code",
      "metadata": {
        "id": "ut-9sRhptPol"
      },
      "source": [
        "LAB_imgB3_03= cv2.cvtColor(RGB_imgB3_03, cv2.COLOR_RGB2LAB)"
      ],
      "execution_count": null,
      "outputs": []
    },
    {
      "cell_type": "code",
      "metadata": {
        "id": "jPF5GyyetPU_"
      },
      "source": [
        "LAB_imgB3_04= cv2.cvtColor(RGB_imgB3_04, cv2.COLOR_RGB2LAB)"
      ],
      "execution_count": null,
      "outputs": []
    },
    {
      "cell_type": "markdown",
      "metadata": {
        "id": "xZINrtsKtOnt"
      },
      "source": [
        "B4"
      ]
    },
    {
      "cell_type": "code",
      "metadata": {
        "id": "SeSRHJjYtpGP"
      },
      "source": [
        "LAB_imgB4_02= cv2.cvtColor(RGB_imgB4_02, cv2.COLOR_RGB2LAB)"
      ],
      "execution_count": null,
      "outputs": []
    },
    {
      "cell_type": "code",
      "metadata": {
        "id": "R4wpA7bLto3a"
      },
      "source": [
        "LAB_imgB4_03= cv2.cvtColor(RGB_imgB4_03, cv2.COLOR_RGB2LAB)"
      ],
      "execution_count": null,
      "outputs": []
    },
    {
      "cell_type": "code",
      "metadata": {
        "id": "vD9WSa1VtovA"
      },
      "source": [
        "LAB_imgB4_01= cv2.cvtColor(RGB_imgB4_017, cv2.COLOR_RGB2LAB)"
      ],
      "execution_count": null,
      "outputs": []
    },
    {
      "cell_type": "code",
      "metadata": {
        "id": "o40LIXDBtonM"
      },
      "source": [
        "LAB_imgB4_04= cv2.cvtColor(RGB_imgB4_04, cv2.COLOR_RGB2LAB)"
      ],
      "execution_count": null,
      "outputs": []
    },
    {
      "cell_type": "markdown",
      "metadata": {
        "id": "yLHsd5D4t50J"
      },
      "source": [
        "C1"
      ]
    },
    {
      "cell_type": "code",
      "metadata": {
        "id": "2p-LPjykt_yW"
      },
      "source": [
        "LAB_imgC1_03= cv2.cvtColor(RGB_imgC1_03, cv2.COLOR_RGB2LAB)"
      ],
      "execution_count": null,
      "outputs": []
    },
    {
      "cell_type": "code",
      "metadata": {
        "id": "rdHlj07At_pP"
      },
      "source": [
        "LAB_imgC1_02= cv2.cvtColor(RGB_imgC1_02, cv2.COLOR_RGB2LAB)"
      ],
      "execution_count": null,
      "outputs": []
    },
    {
      "cell_type": "code",
      "metadata": {
        "id": "fAaBZ-xHt_iB"
      },
      "source": [
        "LAB_imgC1_04= cv2.cvtColor(RGB_imgC1_04, cv2.COLOR_RGB2LAB)"
      ],
      "execution_count": null,
      "outputs": []
    },
    {
      "cell_type": "code",
      "metadata": {
        "id": "_HTZkwblt_Z0"
      },
      "source": [
        "LAB_imgC1_01= cv2.cvtColor(RGB_imgC1_01, cv2.COLOR_RGB2LAB)"
      ],
      "execution_count": null,
      "outputs": []
    },
    {
      "cell_type": "markdown",
      "metadata": {
        "id": "JeHYgzj7t7UT"
      },
      "source": [
        "C2"
      ]
    },
    {
      "cell_type": "code",
      "metadata": {
        "id": "EAqFpnsvuTNJ"
      },
      "source": [
        "LAB_imgC2_02= cv2.cvtColor(RGB_imgC2_02, cv2.COLOR_RGB2LAB)"
      ],
      "execution_count": null,
      "outputs": []
    },
    {
      "cell_type": "code",
      "metadata": {
        "id": "wwTtWI5xuTGB"
      },
      "source": [
        "LAB_imgC2_01= cv2.cvtColor(RGB_imgC2_01, cv2.COLOR_RGB2LAB)"
      ],
      "execution_count": null,
      "outputs": []
    },
    {
      "cell_type": "code",
      "metadata": {
        "id": "gmglr0e-uS-7"
      },
      "source": [
        "LAB_imgC2_04= cv2.cvtColor(RGB_imgC2_04, cv2.COLOR_RGB2LAB)"
      ],
      "execution_count": null,
      "outputs": []
    },
    {
      "cell_type": "code",
      "metadata": {
        "id": "XmcUNeqVuS4f"
      },
      "source": [
        "LAB_imgC2_03= cv2.cvtColor(RGB_imgC2_03, cv2.COLOR_RGB2LAB)"
      ],
      "execution_count": null,
      "outputs": []
    },
    {
      "cell_type": "markdown",
      "metadata": {
        "id": "TWvT9dUft7_0"
      },
      "source": [
        "C3"
      ]
    },
    {
      "cell_type": "code",
      "metadata": {
        "id": "xzI3OKXMuioR"
      },
      "source": [
        "LAB_imgC3_01= cv2.cvtColor(RGB_imgC3_01, cv2.COLOR_RGB2LAB)"
      ],
      "execution_count": null,
      "outputs": []
    },
    {
      "cell_type": "code",
      "metadata": {
        "id": "G_qoc3spuigB"
      },
      "source": [
        "LAB_imgC3_03= cv2.cvtColor(RGB_imgC3_03, cv2.COLOR_RGB2LAB)"
      ],
      "execution_count": null,
      "outputs": []
    },
    {
      "cell_type": "code",
      "metadata": {
        "id": "BuyacIypuiZg"
      },
      "source": [
        "LAB_imgC3_04= cv2.cvtColor(RGB_imgC3_04, cv2.COLOR_RGB2LAB)"
      ],
      "execution_count": null,
      "outputs": []
    },
    {
      "cell_type": "code",
      "metadata": {
        "id": "--fV2onBuiRu"
      },
      "source": [
        "LAB_imgC3_02= cv2.cvtColor(RGB_imgC3_02, cv2.COLOR_RGB2LAB)"
      ],
      "execution_count": null,
      "outputs": []
    },
    {
      "cell_type": "markdown",
      "metadata": {
        "id": "rfRgDMm7t8qf"
      },
      "source": [
        "C4"
      ]
    },
    {
      "cell_type": "code",
      "metadata": {
        "id": "t15dvQqsuuZo"
      },
      "source": [
        "LAB_imgC4_02= cv2.cvtColor(RGB_imgC4_02, cv2.COLOR_RGB2LAB)"
      ],
      "execution_count": null,
      "outputs": []
    },
    {
      "cell_type": "code",
      "metadata": {
        "id": "YkkHIM4-uuvj"
      },
      "source": [
        "LAB_imgC4_04= cv2.cvtColor(RGB_imgC4_04, cv2.COLOR_RGB2LAB)"
      ],
      "execution_count": null,
      "outputs": []
    },
    {
      "cell_type": "code",
      "metadata": {
        "id": "3AyL5cwwuuod"
      },
      "source": [
        "LAB_imgC4_03= cv2.cvtColor(RGB_imgC4_03, cv2.COLOR_RGB2LAB)"
      ],
      "execution_count": null,
      "outputs": []
    },
    {
      "cell_type": "code",
      "metadata": {
        "id": "RGQ8Mi_3uuhp"
      },
      "source": [
        "LAB_imgC4_01= cv2.cvtColor(RGB_imgC4_01, cv2.COLOR_RGB2LAB)"
      ],
      "execution_count": null,
      "outputs": []
    },
    {
      "cell_type": "markdown",
      "metadata": {
        "id": "DID5W6jot9pI"
      },
      "source": [
        "D2"
      ]
    },
    {
      "cell_type": "code",
      "metadata": {
        "id": "nlOKN8S1uv5p"
      },
      "source": [
        "LAB_imgD2_04= cv2.cvtColor(RGB_imgD2_04, cv2.COLOR_RGB2LAB)"
      ],
      "execution_count": null,
      "outputs": []
    },
    {
      "cell_type": "code",
      "metadata": {
        "id": "xapLpqazuvbP"
      },
      "source": [
        "LAB_imgD2_01= cv2.cvtColor(RGB_imgD2_01, cv2.COLOR_RGB2LAB)"
      ],
      "execution_count": null,
      "outputs": []
    },
    {
      "cell_type": "code",
      "metadata": {
        "id": "jRXzn-LouvVV"
      },
      "source": [
        "LAB_imgD2_02= cv2.cvtColor(RGB_imgD2_02, cv2.COLOR_RGB2LAB)"
      ],
      "execution_count": null,
      "outputs": []
    },
    {
      "cell_type": "code",
      "metadata": {
        "id": "TPB_PHRbuvOn"
      },
      "source": [
        "LAB_imgD2_03= cv2.cvtColor(RGB_imgD2_03, cv2.COLOR_RGB2LAB)"
      ],
      "execution_count": null,
      "outputs": []
    },
    {
      "cell_type": "markdown",
      "metadata": {
        "id": "RdzTIOPUt-U9"
      },
      "source": [
        "D3"
      ]
    },
    {
      "cell_type": "code",
      "metadata": {
        "id": "vdzrjvXjuxGq"
      },
      "source": [
        "LAB_imgD3_02= cv2.cvtColor(RGB_imgD3_02, cv2.COLOR_RGB2LAB)"
      ],
      "execution_count": null,
      "outputs": []
    },
    {
      "cell_type": "code",
      "metadata": {
        "id": "SHeWKMvduw_L"
      },
      "source": [
        "LAB_imgD3_01= cv2.cvtColor(RGB_imgD3_01, cv2.COLOR_RGB2LAB)"
      ],
      "execution_count": null,
      "outputs": []
    },
    {
      "cell_type": "code",
      "metadata": {
        "id": "jWpHp4wFuw40"
      },
      "source": [
        "LAB_imgD3_03= cv2.cvtColor(RGB_imgD3_03, cv2.COLOR_RGB2LAB)"
      ],
      "execution_count": null,
      "outputs": []
    },
    {
      "cell_type": "code",
      "metadata": {
        "id": "r7HUVynyuwui"
      },
      "source": [
        "LAB_imgD3_04= cv2.cvtColor(RGB_imgD3_04, cv2.COLOR_RGB2LAB)"
      ],
      "execution_count": null,
      "outputs": []
    },
    {
      "cell_type": "markdown",
      "metadata": {
        "id": "JcqL8Do5nwjA"
      },
      "source": [
        "D4"
      ]
    },
    {
      "cell_type": "code",
      "metadata": {
        "id": "Ci4XGpanvFmg"
      },
      "source": [
        "LAB_imgD4_01= cv2.cvtColor(RGB_imgD4_01, cv2.COLOR_RGB2LAB)"
      ],
      "execution_count": null,
      "outputs": []
    },
    {
      "cell_type": "code",
      "metadata": {
        "id": "RPgqKuRSvFcZ"
      },
      "source": [
        "LAB_imgD4_02= cv2.cvtColor(RGB_imgD4_02, cv2.COLOR_RGB2LAB)"
      ],
      "execution_count": null,
      "outputs": []
    },
    {
      "cell_type": "code",
      "metadata": {
        "id": "6kwiGpRAjboY"
      },
      "source": [
        "LAB_imgD4_03= cv2.cvtColor(RGB_imgD4_03, cv2.COLOR_RGB2LAB)"
      ],
      "execution_count": null,
      "outputs": []
    },
    {
      "cell_type": "code",
      "metadata": {
        "id": "3J_3qb0bjbTX"
      },
      "source": [
        "LAB_imgD4_04= cv2.cvtColor(RGB_imgD4_04, cv2.COLOR_RGB2LAB)"
      ],
      "execution_count": null,
      "outputs": []
    },
    {
      "cell_type": "markdown",
      "metadata": {
        "id": "JMrxyeYnwOjD"
      },
      "source": [
        "#5. ดึงสี"
      ]
    },
    {
      "cell_type": "markdown",
      "metadata": {
        "id": "qw2Btv3twaER"
      },
      "source": [
        "A1"
      ]
    },
    {
      "cell_type": "code",
      "metadata": {
        "id": "jwmj6XavwSCz"
      },
      "source": [
        "for i in range(LAB_imgA1_01.shape[0]): #ให้ i รันตาม row หรือ shape[0] คือแถว มีทั้งหมด 4032 แถว ของภาพที่ปรับขนาดมาแล้ว\n",
        "     for j in range(LAB_imgA1_01.shape[1]): #ให้ j รันตาม colum มีทั้งหมด 3024 colum เช่น แถวที่ 1 เข้ามาให้รันครบ 3024colum\n",
        "                if 1769<i<1881 and 2019<j<2131 :#ถ้าค่า i ที่เข้ามาอยู่ระหว่าง 1849 - 2101   ค่า j  ที่เข้ามาอยู่ระหว่าง 1799-2001\n",
        "                   (LAB_imgA1_01[i][j])#ถ้าค่าอยู่ใน ij  จะให้แสดงค่าที่อยู่ตำแหน่งนั้นๆ"
      ],
      "execution_count": null,
      "outputs": []
    },
    {
      "cell_type": "code",
      "metadata": {
        "id": "xZ-Lxu9-xb0e"
      },
      "source": [
        "for i in range(LAB_imgA1_02.shape[0]): \n",
        "     for j in range(LAB_imgA1_02.shape[1]): \n",
        "                if 1769<i<1881 and 2019<j<2131 :\n",
        "                 (LAB_imgA1_02[i][j])"
      ],
      "execution_count": null,
      "outputs": []
    },
    {
      "cell_type": "code",
      "metadata": {
        "id": "10vZXOYGx8Zn"
      },
      "source": [
        "for i in range(LAB_imgA1_03.shape[0]):\n",
        "     for j in range(LAB_imgA1_03.shape[1]): \n",
        "                if 1769<i<1881 and 2019<j<2131 :\n",
        "                  (LAB_imgA1_03[i][j])"
      ],
      "execution_count": null,
      "outputs": []
    },
    {
      "cell_type": "code",
      "metadata": {
        "id": "aiBTb_2_x82I"
      },
      "source": [
        "for i in range(LAB_imgA1_04.shape[0]):\n",
        "     for j in range(LAB_imgA1_04.shape[1]): \n",
        "                if 1769<i<1881 and 2019<j<2131 :\n",
        "                  (LAB_imgA1_04[i][j])"
      ],
      "execution_count": null,
      "outputs": []
    },
    {
      "cell_type": "markdown",
      "metadata": {
        "id": "jTiRr9XUy_gP"
      },
      "source": [
        "A2"
      ]
    },
    {
      "cell_type": "code",
      "metadata": {
        "id": "eobeeRWAzHNs"
      },
      "source": [
        "for i in range(LAB_imgA2_02.shape[0]): \n",
        "     for j in range(LAB_imgA2_02.shape[1]): \n",
        "                if 1769<i<1881 and 2019<j<2131 :\n",
        "                 (LAB_imgA2_02[i][j])"
      ],
      "execution_count": null,
      "outputs": []
    },
    {
      "cell_type": "code",
      "metadata": {
        "id": "DyGuQiP2zGpX"
      },
      "source": [
        "for i in range(LAB_imgA2_04.shape[0]): \n",
        "     for j in range(LAB_imgA2_04.shape[1]): \n",
        "                if 1769<i<1881 and 2019<j<2131 :\n",
        "                 (LAB_imgA2_04[i][j])"
      ],
      "execution_count": null,
      "outputs": []
    },
    {
      "cell_type": "code",
      "metadata": {
        "id": "UMKaPJY5zHFN"
      },
      "source": [
        "for i in range(LAB_imgA2_01.shape[0]): \n",
        "     for j in range(LAB_imgA2_01.shape[1]): \n",
        "                if 1769<i<1881 and 2019<j<2131 :\n",
        "                 (LAB_imgA2_01[i][j])"
      ],
      "execution_count": null,
      "outputs": []
    },
    {
      "cell_type": "code",
      "metadata": {
        "id": "qqFJ5RUmzG7f"
      },
      "source": [
        "for i in range(LAB_imgA2_03.shape[0]): \n",
        "     for j in range(LAB_imgA2_03.shape[1]): \n",
        "                if 1769<i<1881 and 2019<j<2131 :\n",
        "                 (LAB_imgA2_03[i][j])"
      ],
      "execution_count": null,
      "outputs": []
    },
    {
      "cell_type": "markdown",
      "metadata": {
        "id": "seWEFP5KzdNo"
      },
      "source": [
        "A3"
      ]
    },
    {
      "cell_type": "code",
      "metadata": {
        "id": "HdhQwqRWz3A-"
      },
      "source": [
        "for i in range(LAB_imgA3_03.shape[0]): \n",
        "     for j in range(LAB_imgA3_03.shape[1]): \n",
        "                if 1769<i<1881 and 2019<j<2131 :\n",
        "                 (LAB_imgA3_03[i][j])"
      ],
      "execution_count": null,
      "outputs": []
    },
    {
      "cell_type": "code",
      "metadata": {
        "id": "SajdmMwqz24D"
      },
      "source": [
        "for i in range(LAB_imgA3_01.shape[0]): \n",
        "     for j in range(LAB_imgA3_01.shape[1]): \n",
        "                if 1769<i<1881 and 2019<j<2131 :\n",
        "                 (LAB_imgA3_01[i][j])"
      ],
      "execution_count": null,
      "outputs": []
    },
    {
      "cell_type": "code",
      "metadata": {
        "id": "schK9I44z2up"
      },
      "source": [
        "for i in range(LAB_imgA3_02.shape[0]): \n",
        "     for j in range(LAB_imgA3_02.shape[1]): \n",
        "                if 1769<i<1881 and 2019<j<2131 :\n",
        "                 (LAB_imgA3_02[i][j])"
      ],
      "execution_count": null,
      "outputs": []
    },
    {
      "cell_type": "code",
      "metadata": {
        "id": "dElzA6B1z2hh"
      },
      "source": [
        "for i in range(LAB_imgA3_04.shape[0]): \n",
        "     for j in range(LAB_imgA3_04.shape[1]): \n",
        "                if 1769<i<1881 and 2019<j<2131 :\n",
        "                 (LAB_imgA3_04[i][j])"
      ],
      "execution_count": null,
      "outputs": []
    },
    {
      "cell_type": "markdown",
      "metadata": {
        "id": "e-8jafvYzeZh"
      },
      "source": [
        "A3.5"
      ]
    },
    {
      "cell_type": "code",
      "metadata": {
        "id": "St9f7kLX0Qe6"
      },
      "source": [
        "for i in range(LAB_imgA3_501.shape[0]): \n",
        "     for j in range(LAB_imgA3_501.shape[1]): \n",
        "                if 1769<i<1881 and 2019<j<2131 :\n",
        "                 (LAB_imgA3_501[i][j])"
      ],
      "execution_count": null,
      "outputs": []
    },
    {
      "cell_type": "code",
      "metadata": {
        "id": "SGlKRpF_0Qox"
      },
      "source": [
        "for i in range(LAB_imgA3_502.shape[0]): \n",
        "     for j in range(LAB_imgA3_502.shape[1]): \n",
        "                if 1769<i<1881 and 2019<j<2131 :\n",
        "                 (LAB_imgA3_502[i][j])"
      ],
      "execution_count": null,
      "outputs": []
    },
    {
      "cell_type": "code",
      "metadata": {
        "id": "2pp1QyLV0QX9"
      },
      "source": [
        "for i in range(LAB_imgA3_503.shape[0]): \n",
        "     for j in range(LAB_imgA3_503.shape[1]): \n",
        "                if 1769<i<1881 and 2019<j<2131 :\n",
        "                 (LAB_imgA3_503[i][j])"
      ],
      "execution_count": null,
      "outputs": []
    },
    {
      "cell_type": "code",
      "metadata": {
        "id": "HaZuvCEk0QPf"
      },
      "source": [
        "for i in range(LAB_imgA3_504.shape[0]): \n",
        "     for j in range(LAB_imgA3_504.shape[1]): \n",
        "                if 1769<i<1881 and 2019<j<2131 :\n",
        "                 (LAB_imgA3_504[i][j])"
      ],
      "execution_count": null,
      "outputs": []
    },
    {
      "cell_type": "markdown",
      "metadata": {
        "id": "T8YIrB50zfz-"
      },
      "source": [
        "A4 "
      ]
    },
    {
      "cell_type": "code",
      "metadata": {
        "id": "JtCLy0qR0nAX"
      },
      "source": [
        "for i in range(LAB_imgA4_01.shape[0]): \n",
        "     for j in range(LAB_imgA4_01.shape[1]): \n",
        "                if 1769<i<1881 and 2019<j<2131 :\n",
        "                 (LAB_imgA4_01[i][j])"
      ],
      "execution_count": null,
      "outputs": []
    },
    {
      "cell_type": "code",
      "metadata": {
        "id": "Hf0JhjSr0m4a"
      },
      "source": [
        "for i in range(LAB_imgA4_04.shape[0]): \n",
        "     for j in range(LAB_imgA4_04.shape[1]): \n",
        "                if 1769<i<1881 and 2019<j<2131 :\n",
        "                 (LAB_imgA4_04[i][j])"
      ],
      "execution_count": null,
      "outputs": []
    },
    {
      "cell_type": "code",
      "metadata": {
        "id": "lU7qgO730mwt"
      },
      "source": [
        "for i in range(LAB_imgA4_03.shape[0]): \n",
        "     for j in range(LAB_imgA4_03.shape[1]): \n",
        "                if 1769<i<1881 and 2019<j<2131 :\n",
        "                 (LAB_imgA4_03[i][j])"
      ],
      "execution_count": null,
      "outputs": []
    },
    {
      "cell_type": "code",
      "metadata": {
        "id": "3woTPWZR0moq"
      },
      "source": [
        "for i in range(LAB_imgA4_02.shape[0]): \n",
        "     for j in range(LAB_imgA4_02.shape[1]): \n",
        "                if 1769<i<1881 and 2019<j<2131 :\n",
        "                 (LAB_imgA4_02[i][j])"
      ],
      "execution_count": null,
      "outputs": []
    },
    {
      "cell_type": "markdown",
      "metadata": {
        "id": "j2qM32H51EnG"
      },
      "source": [
        "B1"
      ]
    },
    {
      "cell_type": "code",
      "metadata": {
        "id": "SWNQW9gi1LCn"
      },
      "source": [
        "for i in range(LAB_imgB1_02.shape[0]): \n",
        "     for j in range(LAB_imgB1_02.shape[1]): \n",
        "                if 1769<i<1881 and 2019<j<2131 :\n",
        "                 (LAB_imgB1_02[i][j])"
      ],
      "execution_count": null,
      "outputs": []
    },
    {
      "cell_type": "code",
      "metadata": {
        "id": "gCMzRnvw1K4U"
      },
      "source": [
        "for i in range(LAB_imgB1_03.shape[0]): \n",
        "     for j in range(LAB_imgB1_03.shape[1]): \n",
        "                if 1769<i<1881 and 2019<j<2131 :\n",
        "                 (LAB_imgB1_03[i][j])"
      ],
      "execution_count": null,
      "outputs": []
    },
    {
      "cell_type": "code",
      "metadata": {
        "id": "nnGR1Du_1Kt8"
      },
      "source": [
        "for i in range(LAB_imgB1_01.shape[0]): \n",
        "     for j in range(LAB_imgB1_01.shape[1]): \n",
        "                if 1769<i<1881 and 2019<j<2131 :\n",
        "                 (LAB_imgB1_01[i][j])"
      ],
      "execution_count": null,
      "outputs": []
    },
    {
      "cell_type": "code",
      "metadata": {
        "id": "XqglTNwE1Keg"
      },
      "source": [
        "for i in range(LAB_imgB1_04.shape[0]): \n",
        "     for j in range(LAB_imgB1_04.shape[1]): \n",
        "                if 1769<i<1881 and 2019<j<2131 :\n",
        "                 (LAB_imgB1_04[i][j])"
      ],
      "execution_count": null,
      "outputs": []
    },
    {
      "cell_type": "markdown",
      "metadata": {
        "id": "gal2BJDK1HYu"
      },
      "source": [
        "B2"
      ]
    },
    {
      "cell_type": "code",
      "metadata": {
        "id": "asjFneZV1Lzb"
      },
      "source": [
        "for i in range(LAB_imgB2_01.shape[0]): \n",
        "     for j in range(LAB_imgB2_01.shape[1]): \n",
        "                if 1769<i<1881 and 2019<j<2131 :\n",
        "                 (LAB_imgB2_01[i][j])"
      ],
      "execution_count": null,
      "outputs": []
    },
    {
      "cell_type": "code",
      "metadata": {
        "id": "U3RYMyse1LqV"
      },
      "source": [
        "for i in range(LAB_imgB2_03.shape[0]): \n",
        "     for j in range(LAB_imgB2_03.shape[1]): \n",
        "                if 1769<i<1881 and 2019<j<2131 :\n",
        "                 (LAB_imgB2_03[i][j])"
      ],
      "execution_count": null,
      "outputs": []
    },
    {
      "cell_type": "code",
      "metadata": {
        "id": "T_9aHkY21Lh9"
      },
      "source": [
        "for i in range(LAB_imgB2_04.shape[0]): \n",
        "     for j in range(LAB_imgB2_04.shape[1]): \n",
        "                if 1769<i<1881 and 2019<j<2131 :\n",
        "                 (LAB_imgB2_04[i][j])"
      ],
      "execution_count": null,
      "outputs": []
    },
    {
      "cell_type": "code",
      "metadata": {
        "id": "x6JkQZK81LZ2"
      },
      "source": [
        "for i in range(LAB_imgB2_02.shape[0]): \n",
        "     for j in range(LAB_imgB2_02.shape[1]): \n",
        "                if 1769<i<1881 and 2019<j<2131 :\n",
        "                 (LAB_imgB2_02[i][j])"
      ],
      "execution_count": null,
      "outputs": []
    },
    {
      "cell_type": "markdown",
      "metadata": {
        "id": "63v00LGi1Icj"
      },
      "source": [
        "B3 "
      ]
    },
    {
      "cell_type": "code",
      "metadata": {
        "id": "WYz7s47-1MzR"
      },
      "source": [
        "for i in range(LAB_imgB3_01.shape[0]): \n",
        "     for j in range(LAB_imgB3_01.shape[1]): \n",
        "                if 1769<i<1881 and 2019<j<2131 :\n",
        "                 (LAB_imgB3_01[i][j])"
      ],
      "execution_count": null,
      "outputs": []
    },
    {
      "cell_type": "code",
      "metadata": {
        "id": "8As_bcue1MrP"
      },
      "source": [
        "for i in range(LAB_imgB3_04.shape[0]): \n",
        "     for j in range(LAB_imgB3_04.shape[1]): \n",
        "                if 1769<i<1881 and 2019<j<2131 :\n",
        "                 (LAB_imgB3_04[i][j])"
      ],
      "execution_count": null,
      "outputs": []
    },
    {
      "cell_type": "code",
      "metadata": {
        "id": "QDH4UADC1MjD"
      },
      "source": [
        "for i in range(LAB_imgB3_03.shape[0]): \n",
        "     for j in range(LAB_imgB3_03.shape[1]): \n",
        "                if 1769<i<1881 and 2019<j<2131 :\n",
        "                 (LAB_imgB3_03[i][j])"
      ],
      "execution_count": null,
      "outputs": []
    },
    {
      "cell_type": "code",
      "metadata": {
        "id": "BTDsHyYP1Mbg"
      },
      "source": [
        "for i in range(LAB_imgB3_04.shape[0]): \n",
        "     for j in range(LAB_imgB3_04.shape[1]): \n",
        "                if 1769<i<1881 and 2019<j<2131 :\n",
        "                 (LAB_imgB3_04[i][j])"
      ],
      "execution_count": null,
      "outputs": []
    },
    {
      "cell_type": "markdown",
      "metadata": {
        "id": "2HAcrkm-1Jbf"
      },
      "source": [
        "B4"
      ]
    },
    {
      "cell_type": "code",
      "metadata": {
        "id": "wVTePsRn1NkQ"
      },
      "source": [
        "for i in range(LAB_imgB4_02.shape[0]): \n",
        "     for j in range(LAB_imgB4_02.shape[1]): \n",
        "                if 1769<i<1881 and 2019<j<2131 :\n",
        "                 (LAB_imgB4_02[i][j])"
      ],
      "execution_count": null,
      "outputs": []
    },
    {
      "cell_type": "code",
      "metadata": {
        "id": "U9Lh5EoT1NdU"
      },
      "source": [
        "for i in range(LAB_imgB4_01.shape[0]): \n",
        "     for j in range(LAB_imgB4_01.shape[1]): \n",
        "                if 1769<i<1881 and 2019<j<2131 :\n",
        "                 (LAB_imgB4_01[i][j])"
      ],
      "execution_count": null,
      "outputs": []
    },
    {
      "cell_type": "code",
      "metadata": {
        "id": "G8LjGsjn1NWu"
      },
      "source": [
        "for i in range(LAB_imgB4_03.shape[0]): \n",
        "     for j in range(LAB_imgB4_03.shape[1]): \n",
        "                if 1769<i<1881 and 2019<j<2131 :\n",
        "                 (LAB_imgB4_03[i][j])"
      ],
      "execution_count": null,
      "outputs": []
    },
    {
      "cell_type": "code",
      "metadata": {
        "id": "3QQyxQQ21NQ8"
      },
      "source": [
        "for i in range(LAB_imgB4_04.shape[0]): \n",
        "     for j in range(LAB_imgB4_04.shape[1]): \n",
        "                if 1769<i<1881 and 2019<j<2131 :\n",
        "                 (LAB_imgB4_04[i][j])"
      ],
      "execution_count": null,
      "outputs": []
    },
    {
      "cell_type": "markdown",
      "metadata": {
        "id": "LJ5o5oOk5bLC"
      },
      "source": [
        "C1"
      ]
    },
    {
      "cell_type": "code",
      "metadata": {
        "id": "w0ZlIxNQ1c2V"
      },
      "source": [
        "for i in range(LAB_imgC1_03.shape[0]): \n",
        "     for j in range(LAB_imgC1_03.shape[1]): \n",
        "                if 1769<i<1881 and 2019<j<2131 :\n",
        "                 (LAB_imgC1_03[i][j])"
      ],
      "execution_count": null,
      "outputs": []
    },
    {
      "cell_type": "code",
      "metadata": {
        "id": "UlDQiGQ75i8O"
      },
      "source": [
        "for i in range(LAB_imgC1_01.shape[0]): \n",
        "     for j in range(LAB_imgC1_01.shape[1]): \n",
        "                if 1769<i<1881 and 2019<j<2131 :\n",
        "                 (LAB_imgC1_01[i][j])"
      ],
      "execution_count": null,
      "outputs": []
    },
    {
      "cell_type": "code",
      "metadata": {
        "id": "gQp5kAYW5oam"
      },
      "source": [
        "for i in range(LAB_imgC1_02.shape[0]): \n",
        "     for j in range(LAB_imgC1_02.shape[1]): \n",
        "                if 1769<i<1881 and 2019<j<2131 :\n",
        "                 (LAB_imgC1_02[i][j])"
      ],
      "execution_count": null,
      "outputs": []
    },
    {
      "cell_type": "code",
      "metadata": {
        "id": "_fwoBI-O5os6"
      },
      "source": [
        "for i in range(LAB_imgC1_04.shape[0]): \n",
        "     for j in range(LAB_imgC1_04.shape[1]): \n",
        "                if 1769<i<1881 and 2019<j<2131 :\n",
        "                 (LAB_imgC1_04[i][j])"
      ],
      "execution_count": null,
      "outputs": []
    },
    {
      "cell_type": "markdown",
      "metadata": {
        "id": "veUPceOE5ydW"
      },
      "source": [
        "C2"
      ]
    },
    {
      "cell_type": "code",
      "metadata": {
        "id": "xVd7fTj057Im"
      },
      "source": [
        "for i in range(LAB_imgC2_01.shape[0]): \n",
        "     for j in range(LAB_imgC2_01.shape[1]): \n",
        "                if 1769<i<1881 and 2019<j<2131 :\n",
        "                 (LAB_imgC2_01[i][j])"
      ],
      "execution_count": null,
      "outputs": []
    },
    {
      "cell_type": "code",
      "metadata": {
        "id": "UITY-FEy578o"
      },
      "source": [
        "for i in range(LAB_imgC2_02.shape[0]): \n",
        "     for j in range(LAB_imgC2_02.shape[1]): \n",
        "                if 1769<i<1881 and 2019<j<2131 :\n",
        "                 (LAB_imgC2_02[i][j])"
      ],
      "execution_count": null,
      "outputs": []
    },
    {
      "cell_type": "code",
      "metadata": {
        "id": "TumpzuTn58YK"
      },
      "source": [
        "for i in range(LAB_imgC2_03.shape[0]): \n",
        "     for j in range(LAB_imgC2_03.shape[1]): \n",
        "                if 1769<i<1881 and 2019<j<2131 :\n",
        "                 (LAB_imgC2_03[i][j])"
      ],
      "execution_count": null,
      "outputs": []
    },
    {
      "cell_type": "code",
      "metadata": {
        "id": "7K6gK9PP58Lf"
      },
      "source": [
        "for i in range(LAB_imgC2_04.shape[0]): \n",
        "     for j in range(LAB_imgC2_04.shape[1]): \n",
        "                if 1769<i<1881 and 2019<j<2131 :\n",
        "                 (LAB_imgC2_04[i][j])"
      ],
      "execution_count": null,
      "outputs": []
    },
    {
      "cell_type": "markdown",
      "metadata": {
        "id": "mwJT5T3x50I-"
      },
      "source": [
        "C3"
      ]
    },
    {
      "cell_type": "code",
      "metadata": {
        "id": "TiQI_20558sA"
      },
      "source": [
        "for i in range(LAB_imgC3_01.shape[0]): \n",
        "     for j in range(LAB_imgC3_01.shape[1]): \n",
        "                if 1769<i<1881 and 2019<j<2131 :\n",
        "                 (LAB_imgC3_01[i][j])"
      ],
      "execution_count": null,
      "outputs": []
    },
    {
      "cell_type": "code",
      "metadata": {
        "id": "JQbGl3uN57aN"
      },
      "source": [
        "for i in range(LAB_imgC3_02.shape[0]): \n",
        "     for j in range(LAB_imgC3_02.shape[1]): \n",
        "                if 1769<i<1881 and 2019<j<2131 :\n",
        "                 (LAB_imgC3_02[i][j])"
      ],
      "execution_count": null,
      "outputs": []
    },
    {
      "cell_type": "code",
      "metadata": {
        "id": "F3E6a25Q57pr"
      },
      "source": [
        "for i in range(LAB_imgC3_03.shape[0]): \n",
        "     for j in range(LAB_imgC3_03.shape[1]): \n",
        "                if 1769<i<1881 and 2019<j<2131 :\n",
        "                 (LAB_imgC3_03[i][j])"
      ],
      "execution_count": null,
      "outputs": []
    },
    {
      "cell_type": "code",
      "metadata": {
        "id": "x8P68K6z59Fc"
      },
      "source": [
        "for i in range(LAB_imgC3_04.shape[0]): \n",
        "     for j in range(LAB_imgC3_04.shape[1]): \n",
        "                if 1769<i<1881 and 2019<j<2131 :\n",
        "                 (LAB_imgC3_04[i][j])"
      ],
      "execution_count": null,
      "outputs": []
    },
    {
      "cell_type": "markdown",
      "metadata": {
        "id": "T4X8qins59oM"
      },
      "source": [
        "C4"
      ]
    },
    {
      "cell_type": "code",
      "metadata": {
        "id": "mnz4vETI7TII"
      },
      "source": [
        "for i in range(LAB_imgC4_02.shape[0]): \n",
        "     for j in range(LAB_imgC4_02.shape[1]): \n",
        "                if 1769<i<1881 and 2019<j<2131 :\n",
        "                 (LAB_imgC4_02[i][j])"
      ],
      "execution_count": null,
      "outputs": []
    },
    {
      "cell_type": "code",
      "metadata": {
        "id": "HiU5Y2Yn7TAO"
      },
      "source": [
        "for i in range(LAB_imgC4_03.shape[0]): \n",
        "     for j in range(LAB_imgC4_03.shape[1]): \n",
        "                if 1769<i<1881 and 2019<j<2131 :\n",
        "                 (LAB_imgC4_03[i][j])"
      ],
      "execution_count": null,
      "outputs": []
    },
    {
      "cell_type": "code",
      "metadata": {
        "id": "rIdOpYAe7S5F"
      },
      "source": [
        "for i in range(LAB_imgC4_01.shape[0]): \n",
        "     for j in range(LAB_imgC4_01.shape[1]): \n",
        "                if 1769<i<1881 and 2019<j<2131 :\n",
        "                 (LAB_imgC4_01[i][j])"
      ],
      "execution_count": null,
      "outputs": []
    },
    {
      "cell_type": "code",
      "metadata": {
        "id": "v3qJ3zAv7St9"
      },
      "source": [
        "for i in range(LAB_imgC3_04.shape[0]): \n",
        "     for j in range(LAB_imgC3_04.shape[1]): \n",
        "                if 1769<i<1881 and 2019<j<2131 :\n",
        "                 (LAB_imgC3_04[i][j])"
      ],
      "execution_count": null,
      "outputs": []
    },
    {
      "cell_type": "markdown",
      "metadata": {
        "id": "kRvkJBSH6m8n"
      },
      "source": [
        "D2"
      ]
    },
    {
      "cell_type": "code",
      "metadata": {
        "id": "6ykI1MV0FheQ"
      },
      "source": [
        "for i in range(LAB_imgD2_04.shape[0]): \n",
        "     for j in range(LAB_imgD2_04.shape[1]): \n",
        "                if 1769<i<1881 and 2019<j<2131 :\n",
        "                 (LAB_imgD2_04[i][j])"
      ],
      "execution_count": null,
      "outputs": []
    },
    {
      "cell_type": "code",
      "metadata": {
        "id": "bSanI_gyFhUS"
      },
      "source": [
        "for i in range(LAB_imgD2_03.shape[0]): \n",
        "     for j in range(LAB_imgD2_03.shape[1]): \n",
        "                if 1769<i<1881 and 2019<j<2131 :\n",
        "                 (LAB_imgD2_03[i][j])"
      ],
      "execution_count": null,
      "outputs": []
    },
    {
      "cell_type": "code",
      "metadata": {
        "id": "8CQ9PBCjFhOA"
      },
      "source": [
        "for i in range(LAB_imgD2_02.shape[0]): \n",
        "     for j in range(LAB_imgD2_02.shape[1]): \n",
        "                if 1769<i<1881 and 2019<j<2131 :\n",
        "                 (LAB_imgD2_02[i][j])"
      ],
      "execution_count": null,
      "outputs": []
    },
    {
      "cell_type": "code",
      "metadata": {
        "id": "Dx_PeSbRFhF7"
      },
      "source": [
        "for i in range(LAB_imgD2_01.shape[0]): \n",
        "     for j in range(LAB_imgD2_01.shape[1]): \n",
        "                if 1769<i<1881 and 2019<j<2131 :\n",
        "                 (LAB_imgD2_01[i][j])"
      ],
      "execution_count": null,
      "outputs": []
    },
    {
      "cell_type": "markdown",
      "metadata": {
        "id": "3dcK05Xv6ptS"
      },
      "source": [
        "D3"
      ]
    },
    {
      "cell_type": "code",
      "metadata": {
        "id": "Lnhgfd7jGKsI"
      },
      "source": [
        "for i in range(LAB_imgD3_02.shape[0]): \n",
        "     for j in range(LAB_imgD3_02.shape[1]): \n",
        "                if 1769<i<1881 and 2019<j<2131 :\n",
        "                 (LAB_imgD3_02[i][j])"
      ],
      "execution_count": null,
      "outputs": []
    },
    {
      "cell_type": "code",
      "metadata": {
        "id": "6aAeBseNGMW0"
      },
      "source": [
        "for i in range(LAB_imgD3_01.shape[0]): \n",
        "     for j in range(LAB_imgD3_01.shape[1]): \n",
        "                if 1769<i<1881 and 2019<j<2131 :\n",
        "                 (LAB_imgD3_01[i][j])"
      ],
      "execution_count": null,
      "outputs": []
    },
    {
      "cell_type": "code",
      "metadata": {
        "id": "4tl0YApAGMMk"
      },
      "source": [
        "for i in range(LAB_imgD3_03.shape[0]): \n",
        "     for j in range(LAB_imgD3_03.shape[1]): \n",
        "                if 1769<i<1881 and 2019<j<2131 :\n",
        "                 (LAB_imgD3_03[i][j])"
      ],
      "execution_count": null,
      "outputs": []
    },
    {
      "cell_type": "code",
      "metadata": {
        "id": "Fs5TavqoGL8H"
      },
      "source": [
        "for i in range(LAB_imgD3_04.shape[0]): \n",
        "     for j in range(LAB_imgD3_04.shape[1]): \n",
        "                if 1769<i<1881 and 2019<j<2131 :\n",
        "                 (LAB_imgD3_04[i][j])"
      ],
      "execution_count": null,
      "outputs": []
    },
    {
      "cell_type": "markdown",
      "metadata": {
        "id": "0xpFIFxY6sWn"
      },
      "source": [
        "D4"
      ]
    },
    {
      "cell_type": "code",
      "metadata": {
        "id": "gGF-V8maGZ3z"
      },
      "source": [
        "for i in range(LAB_imgD4_01.shape[0]): \n",
        "     for j in range(LAB_imgD4_01.shape[1]): \n",
        "                if 1769<i<1881 and 2019<j<2131 :\n",
        "                 (LAB_imgD4_01[i][j])"
      ],
      "execution_count": null,
      "outputs": []
    },
    {
      "cell_type": "code",
      "metadata": {
        "id": "S3dZ2uEOGZvl"
      },
      "source": [
        "for i in range(LAB_imgD4_02.shape[0]): \n",
        "     for j in range(LAB_imgD4_02.shape[1]): \n",
        "                if 1769<i<1881 and 2019<j<2131 :\n",
        "                 (LAB_imgD4_02[i][j])"
      ],
      "execution_count": null,
      "outputs": []
    },
    {
      "cell_type": "code",
      "metadata": {
        "id": "QcmDHneXnWnq"
      },
      "source": [
        "for i in range(LAB_imgD4_03.shape[0]): \n",
        "     for j in range(LAB_imgD4_03.shape[1]): \n",
        "                if 1769<i<1881 and 2019<j<2131 :\n",
        "                 (LAB_imgD4_03[i][j])"
      ],
      "execution_count": null,
      "outputs": []
    },
    {
      "cell_type": "code",
      "metadata": {
        "id": "DH12fZbmnWWc"
      },
      "source": [
        "for i in range(LAB_imgD4_04.shape[0]): \n",
        "     for j in range(LAB_imgD4_04.shape[1]): \n",
        "                if 1769<i<1881 and 2019<j<2131 :\n",
        "                 (LAB_imgD4_04[i][j])"
      ],
      "execution_count": null,
      "outputs": []
    },
    {
      "cell_type": "markdown",
      "metadata": {
        "id": "SCtLPtPQGz-p"
      },
      "source": [
        "#6. หาค่า Mean"
      ]
    },
    {
      "cell_type": "code",
      "metadata": {
        "id": "YKFsY16kG1pe"
      },
      "source": [
        "import numpy as np"
      ],
      "execution_count": null,
      "outputs": []
    },
    {
      "cell_type": "markdown",
      "metadata": {
        "id": "s2VmXvHVHoXc"
      },
      "source": [
        "A1"
      ]
    },
    {
      "cell_type": "code",
      "metadata": {
        "id": "3AGgkqYfG25f",
        "colab": {
          "base_uri": "https://localhost:8080/"
        },
        "outputId": "85d2756c-4876-4c5a-bf2f-a1662ff15469"
      },
      "source": [
        "meanA1_1 = list() \n",
        "for i in range(LAB_imgA1_01.shape[0]): #ให้ i รันตาม row หรือ shape[0] คือแถว มีทั้งหมด 4032 แถว ของภาพที่ปรับขนาดมาแล้ว\n",
        "     for j in range(LAB_imgA1_01.shape[1]): #ให้ j รันตาม colum มีทั้งหมด 3024 colum เช่น แถวที่ 1 เข้ามาให้รันครบ 3024colum\n",
        "                if 1769<i<1881 and 2019<j<2131 :\n",
        "                    meanA1_1.append(LAB_imgA1_01[i][j])\n",
        "meanA1_1 = np.array(meanA1_1)\n",
        "\n",
        "labA1_1 = list()\n",
        "for i in range(3):\n",
        "    labA1_1.append(meanA1_1[:,i].mean())\n",
        "labA1_1 "
      ],
      "execution_count": null,
      "outputs": [
        {
          "output_type": "execute_result",
          "data": {
            "text/plain": [
              "[210.19706192679166, 127.1599707815924, 147.01412223033844]"
            ]
          },
          "metadata": {},
          "execution_count": 271
        }
      ]
    },
    {
      "cell_type": "code",
      "metadata": {
        "id": "EVLQ59KPntOq",
        "colab": {
          "base_uri": "https://localhost:8080/"
        },
        "outputId": "d770317a-88de-4cc4-86eb-af72cce13783"
      },
      "source": [
        "meanA1_2 = list() \n",
        "for i in range(LAB_imgA1_02.shape[0]): #ให้ i รันตาม row หรือ shape[0] คือแถว มีทั้งหมด 4032 แถว ของภาพที่ปรับขนาดมาแล้ว\n",
        "     for j in range(LAB_imgA1_02.shape[1]): #ให้ j รันตาม colum มีทั้งหมด 3024 colum เช่น แถวที่ 1 เข้ามาให้รันครบ 3024colum\n",
        "                if 1769<i<1881 and 2019<j<2131 :\n",
        "                    meanA1_2.append(LAB_imgA1_02[i][j])\n",
        "meanA1_2 = np.array(meanA1_2)\n",
        "\n",
        "labA1_2 = list()\n",
        "for i in range(3):\n",
        "    labA1_2.append(meanA1_2[:,i].mean())\n",
        "labA1_2 "
      ],
      "execution_count": null,
      "outputs": [
        {
          "output_type": "execute_result",
          "data": {
            "text/plain": [
              "[212.34266699131564, 127.07669831994156, 147.15209804398992]"
            ]
          },
          "metadata": {},
          "execution_count": 272
        }
      ]
    },
    {
      "cell_type": "code",
      "metadata": {
        "id": "EPq1aY8In-MX",
        "colab": {
          "base_uri": "https://localhost:8080/"
        },
        "outputId": "e9eca850-b15a-4f7a-a266-65b4ebb3a87a"
      },
      "source": [
        "meanA1_3 = list() \n",
        "for i in range(LAB_imgA1_03.shape[0]): #ให้ i รันตาม row หรือ shape[0] คือแถว มีทั้งหมด 4032 แถว ของภาพที่ปรับขนาดมาแล้ว\n",
        "     for j in range(LAB_imgA1_03.shape[1]): #ให้ j รันตาม colum มีทั้งหมด 3024 colum เช่น แถวที่ 1 เข้ามาให้รันครบ 3024colum\n",
        "                if 1769<i<1881 and 2019<j<2131 :\n",
        "                    meanA1_3.append(LAB_imgA1_03[i][j])\n",
        "meanA1_3 = np.array(meanA1_3)\n",
        "\n",
        "labA1_3 = list()\n",
        "for i in range(3):\n",
        "    labA1_3.append(meanA1_3[:,i].mean())\n",
        "labA1_3 "
      ],
      "execution_count": null,
      "outputs": [
        {
          "output_type": "execute_result",
          "data": {
            "text/plain": [
              "[216.21694667640614, 127.02215729242756, 146.9823877931986]"
            ]
          },
          "metadata": {},
          "execution_count": 273
        }
      ]
    },
    {
      "cell_type": "code",
      "metadata": {
        "id": "2G7HqZATo0ee",
        "colab": {
          "base_uri": "https://localhost:8080/"
        },
        "outputId": "d61c595d-b72f-4374-ae86-87b1e5acc36d"
      },
      "source": [
        "meanA1_4 = list() \n",
        "for i in range(LAB_imgA1_04.shape[0]): #ให้ i รันตาม row หรือ shape[0] คือแถว มีทั้งหมด 4032 แถว ของภาพที่ปรับขนาดมาแล้ว\n",
        "     for j in range(LAB_imgA1_04.shape[1]): #ให้ j รันตาม colum มีทั้งหมด 3024 colum เช่น แถวที่ 1 เข้ามาให้รันครบ 3024colum\n",
        "                if 1769<i<1881 and 2019<j<2131 :\n",
        "                    meanA1_4.append(LAB_imgA1_04[i][j])\n",
        "meanA1_4 = np.array(meanA1_4)\n",
        "\n",
        "labA1_4 = list()\n",
        "for i in range(3):\n",
        "    labA1_4.append(meanA1_4[:,i].mean())\n",
        "labA1_4 "
      ],
      "execution_count": null,
      "outputs": [
        {
          "output_type": "execute_result",
          "data": {
            "text/plain": [
              "[214.8722506290074, 127.52300949598246, 146.38779319860402]"
            ]
          },
          "metadata": {},
          "execution_count": 274
        }
      ]
    },
    {
      "cell_type": "markdown",
      "metadata": {
        "id": "xSasoROaHpzm"
      },
      "source": [
        "A2"
      ]
    },
    {
      "cell_type": "code",
      "metadata": {
        "id": "A13oL-rkHqpJ",
        "colab": {
          "base_uri": "https://localhost:8080/"
        },
        "outputId": "60ecec80-70b8-4eb3-fd9a-995a59a7e01d"
      },
      "source": [
        "meanA2_2 = list() \n",
        "for i in range(LAB_imgA2_02.shape[0]): \n",
        "     for j in range(LAB_imgA2_02.shape[1]): \n",
        "                if 1769<i<1881 and 2019<j<2131 :\n",
        "                    meanA2_2.append(LAB_imgA2_02[i][j])\n",
        "meanA2_2 = np.array(meanA2_2)\n",
        "\n",
        "labA2_2 = list()\n",
        "for i in range(3):\n",
        "    labA2_2.append(meanA2_2[:,i].mean())\n",
        "labA2_2"
      ],
      "execution_count": null,
      "outputs": [
        {
          "output_type": "execute_result",
          "data": {
            "text/plain": [
              "[204.42228715201688, 128.49963476990504, 151.0525931336742]"
            ]
          },
          "metadata": {},
          "execution_count": 275
        }
      ]
    },
    {
      "cell_type": "code",
      "metadata": {
        "id": "is_tzZCLIE8J",
        "colab": {
          "base_uri": "https://localhost:8080/"
        },
        "outputId": "20f866d9-08b4-4d18-fa80-81acbb3754e3"
      },
      "source": [
        "meanA2_4 = list() \n",
        "for i in range(LAB_imgA2_04.shape[0]): \n",
        "     for j in range(LAB_imgA2_04.shape[1]): \n",
        "                if 1769<i<1881 and 2019<j<2131 :\n",
        "                    meanA2_4.append(LAB_imgA2_04[i][j])\n",
        "meanA2_4 = np.array(meanA2_4)\n",
        "\n",
        "labA2_4 = list()\n",
        "for i in range(3):\n",
        "    labA2_4.append(meanA2_4[:,i].mean())\n",
        "labA2_4"
      ],
      "execution_count": null,
      "outputs": [
        {
          "output_type": "execute_result",
          "data": {
            "text/plain": [
              "[208.824121418716, 128.19819819819818, 150.92159727294862]"
            ]
          },
          "metadata": {},
          "execution_count": 276
        }
      ]
    },
    {
      "cell_type": "code",
      "metadata": {
        "id": "Cfq1mvqqIVGB",
        "colab": {
          "base_uri": "https://localhost:8080/"
        },
        "outputId": "7b96bb2b-3197-45dc-fc1e-64f9ac34519a"
      },
      "source": [
        "meanA2_1 = list() \n",
        "for i in range(LAB_imgA2_01.shape[0]): \n",
        "     for j in range(LAB_imgA2_01.shape[1]): \n",
        "                if 1769<i<1881 and 2019<j<2131 :\n",
        "                    meanA2_1.append(LAB_imgA2_01[i][j])\n",
        "meanA2_1 = np.array(meanA2_1)\n",
        "\n",
        "labA2_1 = list()\n",
        "for i in range(3):\n",
        "    labA2_1.append(meanA2_1[:,i].mean())\n",
        "labA2_1"
      ],
      "execution_count": null,
      "outputs": [
        {
          "output_type": "execute_result",
          "data": {
            "text/plain": [
              "[205.42618293969645, 128.5526337147959, 150.9494359224089]"
            ]
          },
          "metadata": {},
          "execution_count": 277
        }
      ]
    },
    {
      "cell_type": "code",
      "metadata": {
        "id": "V9AXiSNJIVht",
        "colab": {
          "base_uri": "https://localhost:8080/"
        },
        "outputId": "29ba81e3-7da4-4844-d53a-48702d53a2e8"
      },
      "source": [
        "meanA2_3 = list() \n",
        "for i in range(LAB_imgA2_03.shape[0]): \n",
        "     for j in range(LAB_imgA2_03.shape[1]): \n",
        "                if 1769<i<1881 and 2019<j<2131 :\n",
        "                    meanA2_3.append(LAB_imgA2_03[i][j])\n",
        "meanA2_3 = np.array(meanA2_3)\n",
        "\n",
        "labA2_3 = list()\n",
        "for i in range(3):\n",
        "    labA2_3.append(meanA2_3[:,i].mean())\n",
        "labA2_3"
      ],
      "execution_count": null,
      "outputs": [
        {
          "output_type": "execute_result",
          "data": {
            "text/plain": [
              "[205.69848226604984, 128.36539241944647, 150.44517490463437]"
            ]
          },
          "metadata": {},
          "execution_count": 278
        }
      ]
    },
    {
      "cell_type": "markdown",
      "metadata": {
        "id": "wy0J3KoCIte6"
      },
      "source": [
        "A3"
      ]
    },
    {
      "cell_type": "code",
      "metadata": {
        "id": "CbtyolvQIxRF",
        "colab": {
          "base_uri": "https://localhost:8080/"
        },
        "outputId": "bbbc34c8-3d52-4492-8254-c225a90ffd50"
      },
      "source": [
        "meanA3_3 = list() \n",
        "for i in range(LAB_imgA3_03.shape[0]): \n",
        "     for j in range(LAB_imgA3_03.shape[1]): \n",
        "                if 1769<i<1881 and 2019<j<2131 :\n",
        "                    meanA3_3.append(LAB_imgA3_03[i][j])\n",
        "meanA3_3 = np.array(meanA3_3)\n",
        "\n",
        "labA3_3 = list()\n",
        "for i in range(3):\n",
        "    labA3_3.append(meanA3_3[:,i].mean())\n",
        "labA3_3"
      ],
      "execution_count": null,
      "outputs": [
        {
          "output_type": "execute_result",
          "data": {
            "text/plain": [
              "[204.75651327002677, 128.61342423504587, 153.70059248437627]"
            ]
          },
          "metadata": {},
          "execution_count": 279
        }
      ]
    },
    {
      "cell_type": "code",
      "metadata": {
        "id": "7mYWr28NI6fk",
        "colab": {
          "base_uri": "https://localhost:8080/"
        },
        "outputId": "c90d40c2-4df6-4221-f523-d96a8cbb827b"
      },
      "source": [
        "meanA3_4 = list() \n",
        "for i in range(LAB_imgA3_04.shape[0]): \n",
        "     for j in range(LAB_imgA3_04.shape[1]): \n",
        "                if 1769<i<1881 and 2019<j<2131 :\n",
        "                    meanA3_4.append(LAB_imgA3_04[i][j])\n",
        "meanA3_4 = np.array(meanA3_4)\n",
        "\n",
        "labA3_4 = list()\n",
        "for i in range(3):\n",
        "    labA3_4.append(meanA3_4[:,i].mean())\n",
        "labA3_4"
      ],
      "execution_count": null,
      "outputs": [
        {
          "output_type": "execute_result",
          "data": {
            "text/plain": [
              "[204.06168330492656, 128.54654654654655, 154.66260855450045]"
            ]
          },
          "metadata": {},
          "execution_count": 280
        }
      ]
    },
    {
      "cell_type": "code",
      "metadata": {
        "id": "X_oamCB9JCat",
        "colab": {
          "base_uri": "https://localhost:8080/"
        },
        "outputId": "1dfe8cb4-55c6-4777-f7e9-41cb2342a2a8"
      },
      "source": [
        "meanA3_2 = list() \n",
        "for i in range(LAB_imgA3_02.shape[0]): \n",
        "     for j in range(LAB_imgA3_02.shape[1]): \n",
        "                if 1769<i<1881 and 2019<j<2131 :\n",
        "                    meanA3_2.append(LAB_imgA3_02[i][j])\n",
        "meanA3_2 = np.array(meanA3_2)\n",
        "\n",
        "labA3_2 = list()\n",
        "for i in range(3):\n",
        "    labA3_2.append(meanA3_2[:,i].mean())\n",
        "labA3_2"
      ],
      "execution_count": null,
      "outputs": [
        {
          "output_type": "execute_result",
          "data": {
            "text/plain": [
              "[204.33008684360036, 128.806103400698, 153.79360441522604]"
            ]
          },
          "metadata": {},
          "execution_count": 281
        }
      ]
    },
    {
      "cell_type": "code",
      "metadata": {
        "id": "6d9vw9fuJMQx",
        "colab": {
          "base_uri": "https://localhost:8080/"
        },
        "outputId": "92dd79c6-fca0-4d5d-f49e-7c653e8ba8d4"
      },
      "source": [
        "meanA3_01 = list() \n",
        "for i in range(LAB_imgA3_01.shape[0]): \n",
        "     for j in range(LAB_imgA3_01.shape[1]): \n",
        "                if 1769<i<1881 and 2019<j<2131 :\n",
        "                    meanA3_01.append(LAB_imgA3_01[i][j])\n",
        "meanA3_01 = np.array(meanA3_01)\n",
        "\n",
        "labA3_01 = list()\n",
        "for i in range(3):\n",
        "    labA3_01.append(meanA3_01[:,i].mean())\n",
        "labA3_01"
      ],
      "execution_count": null,
      "outputs": [
        {
          "output_type": "execute_result",
          "data": {
            "text/plain": [
              "[209.53274896518138, 128.299975651327, 153.5609934258583]"
            ]
          },
          "metadata": {},
          "execution_count": 282
        }
      ]
    },
    {
      "cell_type": "markdown",
      "metadata": {
        "id": "dsrU_P7rJaQO"
      },
      "source": [
        "A3.5"
      ]
    },
    {
      "cell_type": "code",
      "metadata": {
        "id": "vvJRofAgJZ8F",
        "colab": {
          "base_uri": "https://localhost:8080/"
        },
        "outputId": "224a3d92-56e0-4120-b80d-10aaacdbe860"
      },
      "source": [
        "meanA3_501 = list() \n",
        "for i in range(LAB_imgA3_501.shape[0]): \n",
        "     for j in range(LAB_imgA3_501.shape[1]): \n",
        "                if 1769<i<1881 and 2019<j<2131 :\n",
        "                    meanA3_501.append(LAB_imgA3_501[i][j])\n",
        "meanA3_501 = np.array(meanA3_501)\n",
        "\n",
        "labA3_501 = list()\n",
        "for i in range(3):\n",
        "    labA3_501.append(meanA3_501[:,i].mean())\n",
        "labA3_501"
      ],
      "execution_count": null,
      "outputs": [
        {
          "output_type": "execute_result",
          "data": {
            "text/plain": [
              "[195.75164353542732, 131.20542163785407, 158.3012742472202]"
            ]
          },
          "metadata": {},
          "execution_count": 283
        }
      ]
    },
    {
      "cell_type": "code",
      "metadata": {
        "id": "6GNLN8lUJUTy",
        "colab": {
          "base_uri": "https://localhost:8080/"
        },
        "outputId": "b67aa28a-5829-4f41-a192-297104a7f606"
      },
      "source": [
        "meanA3_502 = list() \n",
        "for i in range(LAB_imgA3_502.shape[0]): \n",
        "     for j in range(LAB_imgA3_502.shape[1]): \n",
        "                if 1769<i<1881 and 2019<j<2131 :\n",
        "                    meanA3_502.append(LAB_imgA3_502[i][j])\n",
        "meanA3_502 = np.array(meanA3_502)\n",
        "\n",
        "labA3_502 = list()\n",
        "for i in range(3):\n",
        "    labA3_502.append(meanA3_502[:,i].mean())\n",
        "labA3_502"
      ],
      "execution_count": null,
      "outputs": [
        {
          "output_type": "execute_result",
          "data": {
            "text/plain": [
              "[195.7066796526256, 131.16143170197225, 158.59313367421476]"
            ]
          },
          "metadata": {},
          "execution_count": 284
        }
      ]
    },
    {
      "cell_type": "code",
      "metadata": {
        "id": "M3RMSpgKJt0o",
        "colab": {
          "base_uri": "https://localhost:8080/"
        },
        "outputId": "58f6d591-1694-413a-ea86-3d5203b49d09"
      },
      "source": [
        "meanA3_503 = list() \n",
        "for i in range(LAB_imgA3_503.shape[0]): \n",
        "     for j in range(LAB_imgA3_503.shape[1]): \n",
        "                if 1769<i<1881 and 2019<j<2131 :\n",
        "                    meanA3_503.append(LAB_imgA3_503[i][j])\n",
        "meanA3_503 = np.array(meanA3_503)\n",
        "\n",
        "labA3_503 = list()\n",
        "for i in range(3):\n",
        "    labA3_503.append(meanA3_503[:,i].mean())\n",
        "labA3_503"
      ],
      "execution_count": null,
      "outputs": [
        {
          "output_type": "execute_result",
          "data": {
            "text/plain": [
              "[201.6497849200552, 130.53218082947814, 158.04959013067122]"
            ]
          },
          "metadata": {},
          "execution_count": 285
        }
      ]
    },
    {
      "cell_type": "code",
      "metadata": {
        "id": "70rg8s3CJ10m",
        "colab": {
          "base_uri": "https://localhost:8080/"
        },
        "outputId": "8cfb9a99-baee-4651-c6eb-47c43127b6db"
      },
      "source": [
        "meanA3_504 = list() \n",
        "for i in range(LAB_imgA3_504.shape[0]): \n",
        "     for j in range(LAB_imgA3_504.shape[1]): \n",
        "                if 1769<i<1881 and 2019<j<2131 :\n",
        "                    meanA3_504.append(LAB_imgA3_504[i][j])\n",
        "meanA3_504 = np.array(meanA3_504)\n",
        "\n",
        "labA3_504 = list()\n",
        "for i in range(3):\n",
        "    labA3_504.append(meanA3_504[:,i].mean())\n",
        "labA3_504"
      ],
      "execution_count": null,
      "outputs": [
        {
          "output_type": "execute_result",
          "data": {
            "text/plain": [
              "[195.3531369207045, 131.09504098693287, 157.2414576738901]"
            ]
          },
          "metadata": {},
          "execution_count": 286
        }
      ]
    },
    {
      "cell_type": "markdown",
      "metadata": {
        "id": "K0Zmn5LbKE-Y"
      },
      "source": [
        "A4"
      ]
    },
    {
      "cell_type": "code",
      "metadata": {
        "id": "pr0j_XxrKKp7",
        "colab": {
          "base_uri": "https://localhost:8080/"
        },
        "outputId": "3f29ad9d-fcd0-426d-b71d-39e79e6fe7e3"
      },
      "source": [
        "meanA4_1 = list() \n",
        "for i in range(LAB_imgA4_01.shape[0]): \n",
        "     for j in range(LAB_imgA4_01.shape[1]): \n",
        "                if 1769<i<1881 and 2019<j<2131 :\n",
        "                    meanA4_1.append(LAB_imgA4_01[i][j])\n",
        "meanA4_1 = np.array(meanA4_1)\n",
        "\n",
        "labA4_1 = list()\n",
        "for i in range(3):\n",
        "    labA4_1.append(meanA4_1[:,i].mean())\n",
        "labA4_1"
      ],
      "execution_count": null,
      "outputs": [
        {
          "output_type": "execute_result",
          "data": {
            "text/plain": [
              "[190.63598733869003, 130.75911046181315, 155.98660822985147]"
            ]
          },
          "metadata": {},
          "execution_count": 287
        }
      ]
    },
    {
      "cell_type": "code",
      "metadata": {
        "id": "jGCKxVG5aiCX",
        "colab": {
          "base_uri": "https://localhost:8080/"
        },
        "outputId": "8ec84bc0-4686-475f-df05-6e8f436635ba"
      },
      "source": [
        "meanA4_4 = list() \n",
        "for i in range(LAB_imgA4_04.shape[0]): \n",
        "     for j in range(LAB_imgA4_04.shape[1]): \n",
        "                if 1769<i<1881 and 2019<j<2131 :\n",
        "                    meanA4_4.append(LAB_imgA4_04[i][j])\n",
        "meanA4_4 = np.array(meanA4_4)\n",
        "\n",
        "labA4_4 = list()\n",
        "for i in range(3):\n",
        "    labA4_4.append(meanA4_4[:,i].mean())\n",
        "labA4_4"
      ],
      "execution_count": null,
      "outputs": [
        {
          "output_type": "execute_result",
          "data": {
            "text/plain": [
              "[195.64353542731922, 130.8776073370668, 156.52836620404187]"
            ]
          },
          "metadata": {},
          "execution_count": 288
        }
      ]
    },
    {
      "cell_type": "code",
      "metadata": {
        "id": "aqwHZK5dKkkG",
        "colab": {
          "base_uri": "https://localhost:8080/"
        },
        "outputId": "0d009095-3fc5-4fb7-a580-5bb4010d2a87"
      },
      "source": [
        "meanA4_2 = list() \n",
        "for i in range(LAB_imgA4_02.shape[0]): \n",
        "     for j in range(LAB_imgA4_02.shape[1]): \n",
        "                if 1769<i<1881 and 2019<j<2131 :\n",
        "                    meanA4_2.append(LAB_imgA4_02[i][j])\n",
        "meanA4_2 = np.array(meanA4_2)\n",
        "\n",
        "labA4_2 = list()\n",
        "for i in range(3):\n",
        "    labA4_2.append(meanA4_2[:,i].mean())\n",
        "labA4_2"
      ],
      "execution_count": null,
      "outputs": [
        {
          "output_type": "execute_result",
          "data": {
            "text/plain": [
              "[196.2836620404188, 130.86567648729812, 155.7252658063469]"
            ]
          },
          "metadata": {},
          "execution_count": 289
        }
      ]
    },
    {
      "cell_type": "code",
      "metadata": {
        "id": "Zw_N6Vx2KymX",
        "colab": {
          "base_uri": "https://localhost:8080/"
        },
        "outputId": "ab643d12-bdb5-46d7-ce75-65a6a108179f"
      },
      "source": [
        "meanA4_3 = list() \n",
        "for i in range(LAB_imgA4_03.shape[0]): \n",
        "     for j in range(LAB_imgA4_03.shape[1]): \n",
        "                if 1769<i<1881 and 2019<j<2131 :\n",
        "                    meanA4_3.append(LAB_imgA4_03[i][j])\n",
        "meanA4_3 = np.array(meanA4_3)\n",
        "\n",
        "labA4_3 = list()\n",
        "for i in range(3):\n",
        "    labA4_3.append(meanA4_3[:,i].mean())\n",
        "labA4_3"
      ],
      "execution_count": null,
      "outputs": [
        {
          "output_type": "execute_result",
          "data": {
            "text/plain": [
              "[189.19065010956902, 130.89481373265156, 155.58785812839866]"
            ]
          },
          "metadata": {},
          "execution_count": 290
        }
      ]
    },
    {
      "cell_type": "markdown",
      "metadata": {
        "id": "OAQtt2AILBUb"
      },
      "source": [
        "B1"
      ]
    },
    {
      "cell_type": "code",
      "metadata": {
        "id": "3ufaRQmxK8pb",
        "colab": {
          "base_uri": "https://localhost:8080/"
        },
        "outputId": "8b9b5168-8235-4141-95f5-c60c19bca353"
      },
      "source": [
        "meanB1_2 = list() \n",
        "for i in range(LAB_imgB1_02.shape[0]): \n",
        "     for j in range(LAB_imgB1_02.shape[1]): \n",
        "                if 1769<i<1881 and 2019<j<2131 :\n",
        "                    meanB1_2.append(LAB_imgB1_02[i][j])\n",
        "meanB1_2 = np.array(meanB1_2)\n",
        "\n",
        "labB1_2 = list()\n",
        "for i in range(3):\n",
        "    labB1_2.append(meanB1_2[:,i].mean())\n",
        "labB1_2"
      ],
      "execution_count": null,
      "outputs": [
        {
          "output_type": "execute_result",
          "data": {
            "text/plain": [
              "[206.29534940345752, 127.75700024348673, 143.76779482184887]"
            ]
          },
          "metadata": {},
          "execution_count": 291
        }
      ]
    },
    {
      "cell_type": "code",
      "metadata": {
        "id": "JtPJSupiMziF",
        "colab": {
          "base_uri": "https://localhost:8080/"
        },
        "outputId": "2918661e-4f40-4efd-a7c5-0fbb131bc8ec"
      },
      "source": [
        "meanB1_3 = list() \n",
        "for i in range(LAB_imgB1_03.shape[0]): \n",
        "     for j in range(LAB_imgB1_03.shape[1]): \n",
        "                if 1769<i<1881 and 2019<j<2131 :\n",
        "                    meanB1_3.append(LAB_imgB1_03[i][j])\n",
        "meanB1_3 = np.array(meanB1_3)\n",
        "\n",
        "labB1_3 = list()\n",
        "for i in range(3):\n",
        "    labB1_3.append(meanB1_3[:,i].mean())\n",
        "labB1_3"
      ],
      "execution_count": null,
      "outputs": [
        {
          "output_type": "execute_result",
          "data": {
            "text/plain": [
              "[206.79993507020535, 127.28358087817547, 145.421313205097]"
            ]
          },
          "metadata": {},
          "execution_count": 292
        }
      ]
    },
    {
      "cell_type": "code",
      "metadata": {
        "id": "_SALE1tKNOpm",
        "colab": {
          "base_uri": "https://localhost:8080/"
        },
        "outputId": "a03fa640-8af2-4d7e-997e-fe129a36e2b0"
      },
      "source": [
        "meanB1_4 = list() \n",
        "for i in range(LAB_imgB1_04.shape[0]): \n",
        "     for j in range(LAB_imgB1_04.shape[1]): \n",
        "                if 1769<i<1881 and 2019<j<2131 :\n",
        "                    meanB1_4.append(LAB_imgB1_04[i][j])\n",
        "meanB1_4 = np.array(meanB1_4)\n",
        "\n",
        "labB1_4 = list()\n",
        "for i in range(3):\n",
        "    labB1_4.append(meanB1_4[:,i].mean())\n",
        "labB1_4 "
      ],
      "execution_count": null,
      "outputs": [
        {
          "output_type": "execute_result",
          "data": {
            "text/plain": [
              "[213.3139355571788, 127.0209398587777, 144.9052024997971]"
            ]
          },
          "metadata": {},
          "execution_count": 293
        }
      ]
    },
    {
      "cell_type": "code",
      "metadata": {
        "id": "vR6O_RooNDiy",
        "colab": {
          "base_uri": "https://localhost:8080/"
        },
        "outputId": "47d12f1a-a348-4392-fe1a-a19c55053f1d"
      },
      "source": [
        "meanB1_1 = list() \n",
        "for i in range(LAB_imgB1_01.shape[0]): \n",
        "     for j in range(LAB_imgB1_01.shape[1]): \n",
        "                if 1769<i<1881 and 2019<j<2131 :\n",
        "                    meanB1_1.append(LAB_imgB1_01[i][j])\n",
        "meanB1_1 = np.array(meanB1_1)\n",
        "\n",
        "labB1_1 = list()\n",
        "for i in range(3):\n",
        "    labB1_1.append(meanB1_1[:,i].mean())\n",
        "labB1_1"
      ],
      "execution_count": null,
      "outputs": [
        {
          "output_type": "execute_result",
          "data": {
            "text/plain": [
              "[209.07921434948463, 127.23618212807402, 145.08822335849362]"
            ]
          },
          "metadata": {},
          "execution_count": 294
        }
      ]
    },
    {
      "cell_type": "markdown",
      "metadata": {
        "id": "9VIiGheNOIj8"
      },
      "source": [
        "B2"
      ]
    },
    {
      "cell_type": "code",
      "metadata": {
        "id": "N2MDc6V8OKqr",
        "colab": {
          "base_uri": "https://localhost:8080/"
        },
        "outputId": "13555faa-95e7-4d71-f9fd-9eec6675c81d"
      },
      "source": [
        "meanB2_1 = list() \n",
        "for i in range(LAB_imgB2_01.shape[0]): \n",
        "     for j in range(LAB_imgB2_01.shape[1]): \n",
        "                if 1769<i<1881 and 2019<j<2131 :\n",
        "                    meanB2_1.append(LAB_imgB2_01[i][j])\n",
        "meanB2_1 = np.array(meanB2_1)\n",
        "\n",
        "labB2_1 = list()\n",
        "for i in range(3):\n",
        "    labB2_1.append(meanB2_1[:,i].mean())\n",
        "labB2_1"
      ],
      "execution_count": null,
      "outputs": [
        {
          "output_type": "execute_result",
          "data": {
            "text/plain": [
              "[206.7802126450775, 126.88442496550604, 151.0099829559289]"
            ]
          },
          "metadata": {},
          "execution_count": 295
        }
      ]
    },
    {
      "cell_type": "code",
      "metadata": {
        "id": "5blnCh0NONhc",
        "colab": {
          "base_uri": "https://localhost:8080/"
        },
        "outputId": "302fb08c-e1fd-4905-921f-3a511d9e3458"
      },
      "source": [
        "meanB2_4 = list() \n",
        "for i in range(LAB_imgB2_04.shape[0]): \n",
        "     for j in range(LAB_imgB2_04.shape[1]): \n",
        "                if 1769<i<1881 and 2019<j<2131 :\n",
        "                    meanB2_4.append(LAB_imgB2_04[i][j])\n",
        "meanB2_4 = np.array(meanB2_4)\n",
        "\n",
        "labB2_4 = list()\n",
        "for i in range(3):\n",
        "    labB2_4.append(meanB2_4[:,i].mean())\n",
        "labB2_4"
      ],
      "execution_count": null,
      "outputs": [
        {
          "output_type": "execute_result",
          "data": {
            "text/plain": [
              "[206.86567648729812, 127.36961285609934, 151.17847577307037]"
            ]
          },
          "metadata": {},
          "execution_count": 296
        }
      ]
    },
    {
      "cell_type": "code",
      "metadata": {
        "id": "PtXEtBaBONXt",
        "colab": {
          "base_uri": "https://localhost:8080/"
        },
        "outputId": "c04c3582-02b0-491e-fc02-8938382cd0ed"
      },
      "source": [
        "meanB2_3 = list() \n",
        "for i in range(LAB_imgB2_03.shape[0]): \n",
        "     for j in range(LAB_imgB2_03.shape[1]): \n",
        "                if 1769<i<1881 and 2019<j<2131 :\n",
        "                    meanB2_3.append(LAB_imgB2_03[i][j])\n",
        "meanB2_3 = np.array(meanB2_3)\n",
        "\n",
        "labB2_3 = list()\n",
        "for i in range(3):\n",
        "    labB2_3.append(meanB2_3[:,i].mean())\n",
        "labB2_3"
      ],
      "execution_count": null,
      "outputs": [
        {
          "output_type": "execute_result",
          "data": {
            "text/plain": [
              "[211.22871520168817, 127.03051700348998, 151.94886778670562]"
            ]
          },
          "metadata": {},
          "execution_count": 297
        }
      ]
    },
    {
      "cell_type": "code",
      "metadata": {
        "id": "lkYUVq43OM9Q",
        "colab": {
          "base_uri": "https://localhost:8080/"
        },
        "outputId": "ba9b7a3d-11b2-454e-f4f6-db42ffa49b5f"
      },
      "source": [
        "meanB2_2 = list() \n",
        "for i in range(LAB_imgB2_02.shape[0]): \n",
        "     for j in range(LAB_imgB2_02.shape[1]): \n",
        "                if 1769<i<1881 and 2019<j<2131 :\n",
        "                    meanB2_2.append(LAB_imgB2_02[i][j])\n",
        "meanB2_2 = np.array(meanB2_2)\n",
        "\n",
        "labB2_2 = list()\n",
        "for i in range(3):\n",
        "    labB2_2.append(meanB2_2[:,i].mean())\n",
        "labB2_2"
      ],
      "execution_count": null,
      "outputs": [
        {
          "output_type": "execute_result",
          "data": {
            "text/plain": [
              "[210.47236425614804, 127.14122230338447, 151.02605308010715]"
            ]
          },
          "metadata": {},
          "execution_count": 298
        }
      ]
    },
    {
      "cell_type": "markdown",
      "metadata": {
        "id": "sDpqJ0vsO4pf"
      },
      "source": [
        "B3"
      ]
    },
    {
      "cell_type": "code",
      "metadata": {
        "id": "12x1GgEbO6gG",
        "colab": {
          "base_uri": "https://localhost:8080/"
        },
        "outputId": "168f259e-a890-4f27-e974-fc02a9b8d985"
      },
      "source": [
        "meanB3_1 = list() \n",
        "for i in range(LAB_imgB3_01.shape[0]): \n",
        "     for j in range(LAB_imgB3_01.shape[1]): \n",
        "                if 1769<i<1881 and 2019<j<2131 :\n",
        "                    meanB3_1.append(LAB_imgB3_01[i][j])\n",
        "meanB3_1 = np.array(meanB3_1)\n",
        "\n",
        "labB3_1 = list()\n",
        "for i in range(3):\n",
        "    labB3_1.append(meanB3_1[:,i].mean())\n",
        "labB3_1"
      ],
      "execution_count": null,
      "outputs": [
        {
          "output_type": "execute_result",
          "data": {
            "text/plain": [
              "[203.29575521467413, 128.49095040986933, 155.7948218488759]"
            ]
          },
          "metadata": {},
          "execution_count": 299
        }
      ]
    },
    {
      "cell_type": "code",
      "metadata": {
        "id": "Q4ARs8laRJON",
        "colab": {
          "base_uri": "https://localhost:8080/"
        },
        "outputId": "c37bb358-2653-43a2-b237-31bd0e9fd21b"
      },
      "source": [
        "meanB3_4 = list() \n",
        "for i in range(LAB_imgB3_04.shape[0]): \n",
        "     for j in range(LAB_imgB3_04.shape[1]): \n",
        "                if 1769<i<1881 and 2019<j<2131 :\n",
        "                    meanB3_4.append(LAB_imgB3_04[i][j])\n",
        "meanB3_4 = np.array(meanB3_4)\n",
        "\n",
        "labB3_4 = list()\n",
        "for i in range(3):\n",
        "    labB3_4.append(meanB3_4[:,i].mean())\n",
        "labB3_4"
      ],
      "execution_count": null,
      "outputs": [
        {
          "output_type": "execute_result",
          "data": {
            "text/plain": [
              "[200.47293239185132, 128.79011443876308, 155.74320266212158]"
            ]
          },
          "metadata": {},
          "execution_count": 300
        }
      ]
    },
    {
      "cell_type": "code",
      "metadata": {
        "id": "cO0CReiARJrJ",
        "colab": {
          "base_uri": "https://localhost:8080/"
        },
        "outputId": "8ace5343-876c-48cb-ef06-8a191d65674c"
      },
      "source": [
        "meanB3_2 = list() \n",
        "for i in range(LAB_imgB3_02.shape[0]): \n",
        "     for j in range(LAB_imgB3_02.shape[1]): \n",
        "                if 1769<i<1881 and 2019<j<2131 :\n",
        "                    meanB3_2.append(LAB_imgB3_02[i][j])\n",
        "meanB3_2 = np.array(meanB3_2)\n",
        "\n",
        "labB3_2 = list()\n",
        "for i in range(3):\n",
        "    labB3_2.append(meanB3_2[:,i].mean())\n",
        "labB3_2"
      ],
      "execution_count": null,
      "outputs": [
        {
          "output_type": "execute_result",
          "data": {
            "text/plain": [
              "[200.18740361983606, 128.9095852609366, 155.76682087492898]"
            ]
          },
          "metadata": {},
          "execution_count": 301
        }
      ]
    },
    {
      "cell_type": "code",
      "metadata": {
        "id": "_MU7U9bZRKCN",
        "colab": {
          "base_uri": "https://localhost:8080/"
        },
        "outputId": "473b21b5-58df-416f-ce2a-829f6b3b23c7"
      },
      "source": [
        "meanB3_3 = list() \n",
        "for i in range(LAB_imgB3_03.shape[0]): \n",
        "     for j in range(LAB_imgB3_03.shape[1]): \n",
        "                if 1769<i<1881 and 2019<j<2131 :\n",
        "                    meanB3_3.append(LAB_imgB3_03[i][j])\n",
        "meanB3_3 = np.array(meanB3_3)\n",
        "\n",
        "labB3_3 = list()\n",
        "for i in range(3):\n",
        "    labB3_3.append(meanB3_3[:,i].mean())\n",
        "labB3_3"
      ],
      "execution_count": null,
      "outputs": [
        {
          "output_type": "execute_result",
          "data": {
            "text/plain": [
              "[204.90909828747667, 128.8763087411736, 156.5590455320185]"
            ]
          },
          "metadata": {},
          "execution_count": 302
        }
      ]
    },
    {
      "cell_type": "markdown",
      "metadata": {
        "id": "6K_S-0DGRYPG"
      },
      "source": [
        "B4"
      ]
    },
    {
      "cell_type": "code",
      "metadata": {
        "id": "KQE8feTgRoWm",
        "colab": {
          "base_uri": "https://localhost:8080/"
        },
        "outputId": "e5fbc63c-b5b3-472a-afcb-204e74b88838"
      },
      "source": [
        "meanB4_2 = list() \n",
        "for i in range(LAB_imgB4_02.shape[0]): \n",
        "     for j in range(LAB_imgB4_02.shape[1]): \n",
        "                if 1769<i<1881 and 2019<j<2131 :\n",
        "                    meanB4_2.append(LAB_imgB4_02[i][j])\n",
        "meanB4_2 = np.array(meanB4_2)\n",
        "\n",
        "labB4_2 = list()\n",
        "for i in range(3):\n",
        "    labB4_2.append(meanB4_2[:,i].mean())\n",
        "labB4_2"
      ],
      "execution_count": null,
      "outputs": [
        {
          "output_type": "execute_result",
          "data": {
            "text/plain": [
              "[203.0674458242026, 129.33154776398018, 159.19730541352163]"
            ]
          },
          "metadata": {},
          "execution_count": 303
        }
      ]
    },
    {
      "cell_type": "code",
      "metadata": {
        "id": "2Otz1VLHRZHL",
        "colab": {
          "base_uri": "https://localhost:8080/"
        },
        "outputId": "c9de13c0-6bd4-419b-aa2f-4a1c73902f38"
      },
      "source": [
        "meanB4_3 = list() \n",
        "for i in range(LAB_imgB4_03.shape[0]): \n",
        "     for j in range(LAB_imgB4_03.shape[1]): \n",
        "                if 1769<i<1881 and 2019<j<2131 :\n",
        "                    meanB4_3.append(LAB_imgB4_03[i][j])\n",
        "meanB4_3 = np.array(meanB4_3)\n",
        "\n",
        "labB4_3 = list()\n",
        "for i in range(3):\n",
        "    labB4_3.append(meanB4_3[:,i].mean())\n",
        "labB4_3"
      ],
      "execution_count": null,
      "outputs": [
        {
          "output_type": "execute_result",
          "data": {
            "text/plain": [
              "[202.0585991396802, 129.0216703189676, 159.17003489976463]"
            ]
          },
          "metadata": {},
          "execution_count": 304
        }
      ]
    },
    {
      "cell_type": "code",
      "metadata": {
        "id": "OPT8bQl1Rz9O",
        "colab": {
          "base_uri": "https://localhost:8080/"
        },
        "outputId": "b638d6ba-657d-4a2d-b000-44cf0a72a0b3"
      },
      "source": [
        "meanB4_1 = list() \n",
        "for i in range(LAB_imgB4_01.shape[0]): \n",
        "     for j in range(LAB_imgB4_01.shape[1]): \n",
        "                if 1769<i<1881 and 2019<j<2131 :\n",
        "                    meanB4_1.append(LAB_imgB4_01[i][j])\n",
        "meanB4_1 = np.array(meanB4_1)\n",
        "\n",
        "labB4_1 = list()\n",
        "for i in range(3):\n",
        "    labB4_1.append(meanB4_1[:,i].mean())\n",
        "labB4_1"
      ],
      "execution_count": null,
      "outputs": [
        {
          "output_type": "execute_result",
          "data": {
            "text/plain": [
              "[202.19608797987178, 128.96493791088386, 158.1739306874442]"
            ]
          },
          "metadata": {},
          "execution_count": 305
        }
      ]
    },
    {
      "cell_type": "code",
      "metadata": {
        "id": "jX-vx3sJRu0p",
        "colab": {
          "base_uri": "https://localhost:8080/"
        },
        "outputId": "3bc2931c-7ca9-46ca-eef7-0121dcb37ad4"
      },
      "source": [
        "meanB4_04 = list() \n",
        "for i in range(LAB_imgB4_04.shape[0]): \n",
        "     for j in range(LAB_imgB4_04.shape[1]): \n",
        "                if 1769<i<1881 and 2019<j<2131 :\n",
        "                    meanB4_04.append(LAB_imgB4_04[i][j])\n",
        "meanB4_04 = np.array(meanB4_04)\n",
        "\n",
        "labB4_04 = list()\n",
        "for i in range(3):\n",
        "    labB4_04.append(meanB4_04[:,i].mean())\n",
        "labB4_04"
      ],
      "execution_count": null,
      "outputs": [
        {
          "output_type": "execute_result",
          "data": {
            "text/plain": [
              "[197.61537212888564, 129.24283743202662, 158.16118821524228]"
            ]
          },
          "metadata": {},
          "execution_count": 306
        }
      ]
    },
    {
      "cell_type": "markdown",
      "metadata": {
        "id": "0q2eJezyR6sL"
      },
      "source": [
        "C1"
      ]
    },
    {
      "cell_type": "code",
      "metadata": {
        "id": "ya636PpxR-HY",
        "colab": {
          "base_uri": "https://localhost:8080/"
        },
        "outputId": "adf9005d-4f63-40c1-c4dd-18abf320f80a"
      },
      "source": [
        "meanC1_3 = list() \n",
        "for i in range(LAB_imgC1_03.shape[0]): \n",
        "     for j in range(LAB_imgC1_03.shape[1]): \n",
        "                if 1769<i<1881 and 2019<j<2131 :\n",
        "                    meanC1_3.append(LAB_imgC1_03[i][j])\n",
        "meanC1_3 = np.array(meanC1_3)\n",
        "\n",
        "labC1_3 = list()\n",
        "for i in range(3):\n",
        "    labC1_3.append(meanC1_3[:,i].mean())\n",
        "labC1_3"
      ],
      "execution_count": null,
      "outputs": [
        {
          "output_type": "execute_result",
          "data": {
            "text/plain": [
              "[203.45109974839704, 127.33284635987339, 148.5161107052999]"
            ]
          },
          "metadata": {},
          "execution_count": 307
        }
      ]
    },
    {
      "cell_type": "code",
      "metadata": {
        "id": "SxhlA1QRR-dY",
        "colab": {
          "base_uri": "https://localhost:8080/"
        },
        "outputId": "ae5c0439-9ea7-4af4-c0df-1b70867b235d"
      },
      "source": [
        "meanC1_4 = list() \n",
        "for i in range(LAB_imgC1_04.shape[0]): \n",
        "     for j in range(LAB_imgC1_04.shape[1]): \n",
        "                if 1769<i<1881 and 2019<j<2131 :\n",
        "                    meanC1_4.append(LAB_imgC1_04[i][j])\n",
        "meanC1_4 = np.array(meanC1_4)\n",
        "\n",
        "labC1_4 = list()\n",
        "for i in range(3):\n",
        "    labC1_4.append(meanC1_4[:,i].mean())\n",
        "labC1_4"
      ],
      "execution_count": null,
      "outputs": [
        {
          "output_type": "execute_result",
          "data": {
            "text/plain": [
              "[202.44769093417742, 127.44087330573817, 148.83994805616427]"
            ]
          },
          "metadata": {},
          "execution_count": 308
        }
      ]
    },
    {
      "cell_type": "code",
      "metadata": {
        "id": "LZSCuqVaSwok",
        "colab": {
          "base_uri": "https://localhost:8080/"
        },
        "outputId": "25541e36-f41c-437b-e3ab-0634490f6993"
      },
      "source": [
        "meanC1_2 = list() \n",
        "for i in range(LAB_imgC1_02.shape[0]): \n",
        "     for j in range(LAB_imgC1_02.shape[1]): \n",
        "                if 1769<i<1881 and 2019<j<2131 :\n",
        "                    meanC1_2.append(LAB_imgC1_02[i][j])\n",
        "meanC1_2 = np.array(meanC1_2)\n",
        "\n",
        "labC1_2 = list()\n",
        "for i in range(3):\n",
        "    labC1_2.append(meanC1_2[:,i].mean())\n",
        "labC1_2"
      ],
      "execution_count": null,
      "outputs": [
        {
          "output_type": "execute_result",
          "data": {
            "text/plain": [
              "[203.3531369207045, 128.03952601249898, 148.48299651002353]"
            ]
          },
          "metadata": {},
          "execution_count": 309
        }
      ]
    },
    {
      "cell_type": "code",
      "metadata": {
        "id": "zaEcF9R7S2e9",
        "colab": {
          "base_uri": "https://localhost:8080/"
        },
        "outputId": "395f9537-0a92-40f2-e137-fab321c40a47"
      },
      "source": [
        "meanC1_1 = list() \n",
        "for i in range(LAB_imgC1_01.shape[0]): \n",
        "     for j in range(LAB_imgC1_01.shape[1]): \n",
        "                if 1769<i<1881 and 2019<j<2131 :\n",
        "                    meanC1_1.append(LAB_imgC1_01[i][j])\n",
        "meanC1_1 = np.array(meanC1_1)\n",
        "\n",
        "labC1_1 = list()\n",
        "for i in range(3):\n",
        "    labC1_1.append(meanC1_1[:,i].mean())\n",
        "labC1_1"
      ],
      "execution_count": null,
      "outputs": [
        {
          "output_type": "execute_result",
          "data": {
            "text/plain": [
              "[208.72137001866733, 127.91859426994561, 149.65197630062494]"
            ]
          },
          "metadata": {},
          "execution_count": 310
        }
      ]
    },
    {
      "cell_type": "markdown",
      "metadata": {
        "id": "7v0CVQ3eS79F"
      },
      "source": [
        "C2"
      ]
    },
    {
      "cell_type": "code",
      "metadata": {
        "id": "lner_FoXS9Aa",
        "colab": {
          "base_uri": "https://localhost:8080/"
        },
        "outputId": "7278cffb-f4fb-45a2-beee-a18c11af3477"
      },
      "source": [
        "meanC2_1 = list() \n",
        "for i in range(LAB_imgC2_01.shape[0]): \n",
        "     for j in range(LAB_imgC2_01.shape[1]): \n",
        "                if 1769<i<1881 and 2019<j<2131 :\n",
        "                    meanC2_1.append(LAB_imgC2_01[i][j])\n",
        "meanC2_1 = np.array(meanC2_1)\n",
        "\n",
        "labC2_1 = list()\n",
        "for i in range(3):\n",
        "    labC2_1.append(meanC2_1[:,i].mean())\n",
        "labC2_1"
      ],
      "execution_count": null,
      "outputs": [
        {
          "output_type": "execute_result",
          "data": {
            "text/plain": [
              "[196.07093580066552, 128.90625760896032, 151.35995454914374]"
            ]
          },
          "metadata": {},
          "execution_count": 311
        }
      ]
    },
    {
      "cell_type": "code",
      "metadata": {
        "id": "ynKP6UMeTIph",
        "colab": {
          "base_uri": "https://localhost:8080/"
        },
        "outputId": "92f5ac46-3a86-42c4-f757-e2d6da7ae3d0"
      },
      "source": [
        "meanC2_2 = list() \n",
        "for i in range(LAB_imgC2_02.shape[0]): \n",
        "     for j in range(LAB_imgC2_02.shape[1]): \n",
        "                if 1769<i<1881 and 2019<j<2131 :\n",
        "                    meanC2_2.append(LAB_imgC2_02[i][j])\n",
        "meanC2_2 = np.array(meanC2_2)\n",
        "\n",
        "labC2_2 = list()\n",
        "for i in range(3):\n",
        "    labC2_2.append(meanC2_2[:,i].mean())\n",
        "labC2_2"
      ],
      "execution_count": null,
      "outputs": [
        {
          "output_type": "execute_result",
          "data": {
            "text/plain": [
              "[195.29883937992045, 129.12977842707573, 151.05543381219056]"
            ]
          },
          "metadata": {},
          "execution_count": 312
        }
      ]
    },
    {
      "cell_type": "code",
      "metadata": {
        "id": "E93hzyazUE1G",
        "colab": {
          "base_uri": "https://localhost:8080/"
        },
        "outputId": "7d7a871f-9629-4330-93ba-2846678f12ff"
      },
      "source": [
        "meanC2_3 = list() \n",
        "for i in range(LAB_imgC2_03.shape[0]): \n",
        "     for j in range(LAB_imgC2_03.shape[1]): \n",
        "                if 1769<i<1881 and 2019<j<2131 :\n",
        "                    meanC2_3.append(LAB_imgC2_03[i][j])\n",
        "meanC2_3 = np.array(meanC2_3)\n",
        "\n",
        "labC2_3 = list()\n",
        "for i in range(3):\n",
        "    labC2_3.append(meanC2_3[:,i].mean())\n",
        "labC2_3"
      ],
      "execution_count": null,
      "outputs": [
        {
          "output_type": "execute_result",
          "data": {
            "text/plain": [
              "[200.46083921759598, 129.16159402645889, 151.7006736466196]"
            ]
          },
          "metadata": {},
          "execution_count": 313
        }
      ]
    },
    {
      "cell_type": "code",
      "metadata": {
        "id": "eQ6z3tyhURGG",
        "colab": {
          "base_uri": "https://localhost:8080/"
        },
        "outputId": "07bc62f1-3d36-4ba4-ad7b-568fd51245df"
      },
      "source": [
        "meanC2_04 = list() \n",
        "for i in range(LAB_imgC2_04.shape[0]): \n",
        "     for j in range(LAB_imgC2_04.shape[1]): \n",
        "                if 1769<i<1881 and 2019<j<2131 :\n",
        "                    meanC2_04.append(LAB_imgC2_04[i][j])\n",
        "meanC2_04 = np.array(meanC2_04)\n",
        "\n",
        "labC2_04 = list()\n",
        "for i in range(3):\n",
        "    labC2_04.append(meanC2_04[:,i].mean())\n",
        "labC2_04"
      ],
      "execution_count": null,
      "outputs": [
        {
          "output_type": "execute_result",
          "data": {
            "text/plain": [
              "[198.8164921678435, 128.38300462624787, 151.47195844493143]"
            ]
          },
          "metadata": {},
          "execution_count": 314
        }
      ]
    },
    {
      "cell_type": "markdown",
      "metadata": {
        "id": "_gAxAhYBUYIK"
      },
      "source": [
        "C3"
      ]
    },
    {
      "cell_type": "code",
      "metadata": {
        "id": "PnODt_2UUY2N",
        "colab": {
          "base_uri": "https://localhost:8080/"
        },
        "outputId": "15a3e2fa-f5ce-432a-e8ea-df6b586b1978"
      },
      "source": [
        "meanC3_1 = list() \n",
        "for i in range(LAB_imgC3_01.shape[0]): \n",
        "     for j in range(LAB_imgC3_01.shape[1]): \n",
        "                if 1769<i<1881 and 2019<j<2131 :\n",
        "                    meanC3_1.append(LAB_imgC3_01[i][j])\n",
        "meanC3_1 = np.array(meanC3_1)\n",
        "\n",
        "labC3_1 = list()\n",
        "for i in range(3):\n",
        "    labC3_1.append(meanC3_1[:,i].mean())\n",
        "labC3_1"
      ],
      "execution_count": null,
      "outputs": [
        {
          "output_type": "execute_result",
          "data": {
            "text/plain": [
              "[187.6971025079133, 129.7019722425128, 154.11792873955036]"
            ]
          },
          "metadata": {},
          "execution_count": 315
        }
      ]
    },
    {
      "cell_type": "code",
      "metadata": {
        "id": "4vYztEifVL9j",
        "colab": {
          "base_uri": "https://localhost:8080/"
        },
        "outputId": "e0c0b437-35f4-41a2-8bc9-7226dc3781ab"
      },
      "source": [
        "meanC3_3 = list() \n",
        "for i in range(LAB_imgC3_03.shape[0]): \n",
        "     for j in range(LAB_imgC3_03.shape[1]): \n",
        "                if 1769<i<1881 and 2019<j<2131 :\n",
        "                    meanC3_3.append(LAB_imgC3_03[i][j])\n",
        "meanC3_3 = np.array(meanC3_3)\n",
        "\n",
        "labC3_3 = list()\n",
        "for i in range(3):\n",
        "    labC3_3.append(meanC3_3[:,i].mean())\n",
        "labC3_3"
      ],
      "execution_count": null,
      "outputs": [
        {
          "output_type": "execute_result",
          "data": {
            "text/plain": [
              "[195.32992451911372, 129.9554419284149, 153.88515542569596]"
            ]
          },
          "metadata": {},
          "execution_count": 316
        }
      ]
    },
    {
      "cell_type": "code",
      "metadata": {
        "id": "RgAVjILGVVVi",
        "colab": {
          "base_uri": "https://localhost:8080/"
        },
        "outputId": "3654044d-4689-4329-f1d9-d1b89aae256f"
      },
      "source": [
        "meanC3_4 = list() \n",
        "for i in range(LAB_imgC3_04.shape[0]): \n",
        "     for j in range(LAB_imgC3_04.shape[1]): \n",
        "                if 1769<i<1881 and 2019<j<2131 :\n",
        "                    meanC3_4.append(LAB_imgC3_04[i][j])\n",
        "meanC3_4 = np.array(meanC3_4)\n",
        "\n",
        "labC3_4 = list()\n",
        "for i in range(3):\n",
        "    labC3_4.append(meanC3_4[:,i].mean())\n",
        "labC3_4"
      ],
      "execution_count": null,
      "outputs": [
        {
          "output_type": "execute_result",
          "data": {
            "text/plain": [
              "[193.22262803343884, 130.01947893839787, 153.8200633065498]"
            ]
          },
          "metadata": {},
          "execution_count": 317
        }
      ]
    },
    {
      "cell_type": "code",
      "metadata": {
        "id": "E2A3VnaTVhdF",
        "colab": {
          "base_uri": "https://localhost:8080/"
        },
        "outputId": "45f7de61-c97c-44eb-ae37-53e3306cc293"
      },
      "source": [
        "meanC3_2 = list() \n",
        "for i in range(LAB_imgC3_02.shape[0]): \n",
        "     for j in range(LAB_imgC3_02.shape[1]): \n",
        "                if 1769<i<1881 and 2019<j<2131 :\n",
        "                    meanC3_2.append(LAB_imgC3_02[i][j])\n",
        "meanC3_2 = np.array(meanC3_2)\n",
        "\n",
        "labC3_2 = list()\n",
        "for i in range(3):\n",
        "    labC3_2.append(meanC3_2[:,i].mean())\n",
        "labC3_2"
      ],
      "execution_count": null,
      "outputs": [
        {
          "output_type": "execute_result",
          "data": {
            "text/plain": [
              "[196.81917052187322, 129.93872250629008, 153.5417579741904]"
            ]
          },
          "metadata": {},
          "execution_count": 318
        }
      ]
    },
    {
      "cell_type": "markdown",
      "metadata": {
        "id": "wozLumwnVpsd"
      },
      "source": [
        "C4"
      ]
    },
    {
      "cell_type": "code",
      "metadata": {
        "id": "L4-leGI1Vpep",
        "colab": {
          "base_uri": "https://localhost:8080/"
        },
        "outputId": "89d776cf-cecf-43b4-eddd-ba3eb3303e86"
      },
      "source": [
        "meanC4_2 = list() \n",
        "for i in range(LAB_imgC4_02.shape[0]): \n",
        "     for j in range(LAB_imgC4_02.shape[1]): \n",
        "                if 1769<i<1881 and 2019<j<2131 :\n",
        "                    meanC4_2.append(LAB_imgC4_02[i][j])\n",
        "meanC4_2 = np.array(meanC4_2)\n",
        "\n",
        "labC4_2 = list()\n",
        "for i in range(3):\n",
        "    labC4_2.append(meanC4_2[:,i].mean())\n",
        "labC4_2"
      ],
      "execution_count": null,
      "outputs": [
        {
          "output_type": "execute_result",
          "data": {
            "text/plain": [
              "[182.87541595649705, 130.1991721451181, 155.6870383897411]"
            ]
          },
          "metadata": {},
          "execution_count": 319
        }
      ]
    },
    {
      "cell_type": "code",
      "metadata": {
        "id": "wCstVvzCW3ch",
        "colab": {
          "base_uri": "https://localhost:8080/"
        },
        "outputId": "8adc8649-cc1c-47b3-cf3b-f93f80ac6f5e"
      },
      "source": [
        "meanC4_1 = list() \n",
        "for i in range(LAB_imgC4_01.shape[0]): \n",
        "     for j in range(LAB_imgC4_01.shape[1]): \n",
        "                if 1769<i<1881 and 2019<j<2131 :\n",
        "                    meanC4_1.append(LAB_imgC4_01[i][j])\n",
        "meanC4_1 = np.array(meanC4_1)\n",
        "\n",
        "labC4_1 = list()\n",
        "for i in range(3):\n",
        "    labC4_1.append(meanC4_1[:,i].mean())\n",
        "labC4_1"
      ],
      "execution_count": null,
      "outputs": [
        {
          "output_type": "execute_result",
          "data": {
            "text/plain": [
              "[181.9926953981008, 130.08457105754403, 155.2208424640857]"
            ]
          },
          "metadata": {},
          "execution_count": 320
        }
      ]
    },
    {
      "cell_type": "code",
      "metadata": {
        "id": "oZ5wcP8wW4l-",
        "colab": {
          "base_uri": "https://localhost:8080/"
        },
        "outputId": "bae22bb3-12cb-4f6b-c605-7f265250ca9a"
      },
      "source": [
        "meanC4_3 = list() \n",
        "for i in range(LAB_imgC4_03.shape[0]): \n",
        "     for j in range(LAB_imgC4_03.shape[1]): \n",
        "                if 1769<i<1881 and 2019<j<2131 :\n",
        "                    meanC4_3.append(LAB_imgC4_03[i][j])\n",
        "meanC4_3 = np.array(meanC4_3)\n",
        "\n",
        "labC4_3 = list()\n",
        "for i in range(3):\n",
        "    labC4_3.append(meanC4_3[:,i].mean())\n",
        "labC4_3"
      ],
      "execution_count": null,
      "outputs": [
        {
          "output_type": "execute_result",
          "data": {
            "text/plain": [
              "[179.4928171414658, 130.36961285609934, 155.49030111192275]"
            ]
          },
          "metadata": {},
          "execution_count": 321
        }
      ]
    },
    {
      "cell_type": "code",
      "metadata": {
        "id": "4RbAizT-W5AI",
        "colab": {
          "base_uri": "https://localhost:8080/"
        },
        "outputId": "f082b3c8-fee1-48c7-a934-f96be2e806eb"
      },
      "source": [
        "meanC4_4 = list() \n",
        "for i in range(LAB_imgC4_04.shape[0]): \n",
        "     for j in range(LAB_imgC4_04.shape[1]): \n",
        "                if 1769<i<1881 and 2019<j<2131 :\n",
        "                    meanC4_4.append(LAB_imgC4_04[i][j])\n",
        "meanC4_4 = np.array(meanC4_4)\n",
        "\n",
        "labC4_4 = list()\n",
        "for i in range(3):\n",
        "    labC4_4.append(meanC4_4[:,i].mean())\n",
        "labC4_4"
      ],
      "execution_count": null,
      "outputs": [
        {
          "output_type": "execute_result",
          "data": {
            "text/plain": [
              "[187.0509698888077, 130.44971999026052, 156.30590049508967]"
            ]
          },
          "metadata": {},
          "execution_count": 322
        }
      ]
    },
    {
      "cell_type": "markdown",
      "metadata": {
        "id": "zKlDyQHQXMFL"
      },
      "source": [
        "D2"
      ]
    },
    {
      "cell_type": "code",
      "metadata": {
        "id": "Ul4cDLOoXL2B",
        "colab": {
          "base_uri": "https://localhost:8080/"
        },
        "outputId": "f9404498-083c-482c-b025-7568272388b2"
      },
      "source": [
        "meanD2_4 = list() \n",
        "for i in range(LAB_imgD2_04.shape[0]): \n",
        "     for j in range(LAB_imgD2_04.shape[1]): \n",
        "                if 1769<i<1881 and 2019<j<2131 :\n",
        "                    meanD2_4.append(LAB_imgD2_04[i][j])\n",
        "meanD2_4 = np.array(meanD2_4)\n",
        "\n",
        "labD2_4 = list()\n",
        "for i in range(3):\n",
        "    labD2_4.append(meanD2_4[:,i].mean())\n",
        "labD2_4"
      ],
      "execution_count": null,
      "outputs": [
        {
          "output_type": "execute_result",
          "data": {
            "text/plain": [
              "[203.96258420582745, 128.12596380163947, 146.6910965019073]"
            ]
          },
          "metadata": {},
          "execution_count": 323
        }
      ]
    },
    {
      "cell_type": "code",
      "metadata": {
        "id": "MPc9VyCaXYAE",
        "colab": {
          "base_uri": "https://localhost:8080/"
        },
        "outputId": "42415b85-521e-4d9f-e227-31c29d7e383e"
      },
      "source": [
        "meanD2_1 = list() \n",
        "for i in range(LAB_imgD2_01.shape[0]): \n",
        "     for j in range(LAB_imgD2_01.shape[1]): \n",
        "                if 1769<i<1881 and 2019<j<2131 :\n",
        "                    meanD2_1.append(LAB_imgD2_01[i][j])\n",
        "meanD2_1 = np.array(meanD2_1)\n",
        "\n",
        "labD2_1 = list()\n",
        "for i in range(3):\n",
        "    labD2_1.append(meanD2_1[:,i].mean())\n",
        "labD2_1"
      ],
      "execution_count": null,
      "outputs": [
        {
          "output_type": "execute_result",
          "data": {
            "text/plain": [
              "[207.5313692070449, 128.587939290642, 145.33763493222952]"
            ]
          },
          "metadata": {},
          "execution_count": 324
        }
      ]
    },
    {
      "cell_type": "code",
      "metadata": {
        "id": "8C3joajEXZQv",
        "colab": {
          "base_uri": "https://localhost:8080/"
        },
        "outputId": "18b61522-9b78-496a-91e7-626ce140063d"
      },
      "source": [
        "meanD2_2 = list() \n",
        "for i in range(LAB_imgD2_02.shape[0]): \n",
        "     for j in range(LAB_imgD2_02.shape[1]): \n",
        "                if 1769<i<1881 and 2019<j<2131 :\n",
        "                    meanD2_2.append(LAB_imgD2_02[i][j])\n",
        "meanD2_2 = np.array(meanD2_2)\n",
        "\n",
        "labD2_2 = list()\n",
        "for i in range(3):\n",
        "    labD2_2.append(meanD2_2[:,i].mean())\n",
        "labD2_2"
      ],
      "execution_count": null,
      "outputs": [
        {
          "output_type": "execute_result",
          "data": {
            "text/plain": [
              "[201.48810973135298, 128.1922733544355, 145.54289424559695]"
            ]
          },
          "metadata": {},
          "execution_count": 325
        }
      ]
    },
    {
      "cell_type": "code",
      "metadata": {
        "id": "P7AmF-1OXY3y",
        "colab": {
          "base_uri": "https://localhost:8080/"
        },
        "outputId": "7ed2342f-c525-4334-db58-9a558cd9e081"
      },
      "source": [
        "meanD2_3 = list() \n",
        "for i in range(LAB_imgD2_03.shape[0]): \n",
        "     for j in range(LAB_imgD2_03.shape[1]): \n",
        "                if 1769<i<1881 and 2019<j<2131 :\n",
        "                    meanD2_3.append(LAB_imgD2_03[i][j])\n",
        "meanD2_3 = np.array(meanD2_3)\n",
        "\n",
        "labD2_3 = list()\n",
        "for i in range(3):\n",
        "    labD2_3.append(meanD2_3[:,i].mean())\n",
        "labD2_3"
      ],
      "execution_count": null,
      "outputs": [
        {
          "output_type": "execute_result",
          "data": {
            "text/plain": [
              "[202.04147390633878, 128.3920947975002, 145.89116143170196]"
            ]
          },
          "metadata": {},
          "execution_count": 326
        }
      ]
    },
    {
      "cell_type": "markdown",
      "metadata": {
        "id": "iH_Tsc2EXwLf"
      },
      "source": [
        "D3"
      ]
    },
    {
      "cell_type": "code",
      "metadata": {
        "id": "lodYBglRYq8f",
        "colab": {
          "base_uri": "https://localhost:8080/"
        },
        "outputId": "6b3492d9-99b6-4427-ea3a-0fec2ba0a73e"
      },
      "source": [
        "meanD3_4 = list() \n",
        "for i in range(LAB_imgD3_04.shape[0]): \n",
        "     for j in range(LAB_imgD3_04.shape[1]): \n",
        "                if 1769<i<1881 and 2019<j<2131 :\n",
        "                    meanD3_4.append(LAB_imgD3_04[i][j])\n",
        "meanD3_4 = np.array(meanD3_4)\n",
        "\n",
        "labD3_4 = list()\n",
        "for i in range(3):\n",
        "    labD3_4.append(meanD3_4[:,i].mean())\n",
        "labD3_4"
      ],
      "execution_count": null,
      "outputs": [
        {
          "output_type": "execute_result",
          "data": {
            "text/plain": [
              "[197.0472364256148, 129.7126856586316, 151.89619349078808]"
            ]
          },
          "metadata": {},
          "execution_count": 327
        }
      ]
    },
    {
      "cell_type": "code",
      "metadata": {
        "id": "4HvoI0ngYv3b",
        "colab": {
          "base_uri": "https://localhost:8080/"
        },
        "outputId": "d33f2353-1980-4698-a028-7fddefe4ec29"
      },
      "source": [
        "meanD3_2 = list() \n",
        "for i in range(LAB_imgD3_02.shape[0]): \n",
        "     for j in range(LAB_imgD3_02.shape[1]): \n",
        "                if 1769<i<1881 and 2019<j<2131 :\n",
        "                    meanD3_2.append(LAB_imgD3_02[i][j])\n",
        "meanD3_2 = np.array(meanD3_2)\n",
        "\n",
        "labD3_2 = list()\n",
        "for i in range(3):\n",
        "    labD3_2.append(meanD3_2[:,i].mean())\n",
        "labD3_2"
      ],
      "execution_count": null,
      "outputs": [
        {
          "output_type": "execute_result",
          "data": {
            "text/plain": [
              "[199.68565863160458, 129.87923058193329, 152.1217433649866]"
            ]
          },
          "metadata": {},
          "execution_count": 328
        }
      ]
    },
    {
      "cell_type": "code",
      "metadata": {
        "id": "_qFI-tsZXxd7",
        "colab": {
          "base_uri": "https://localhost:8080/"
        },
        "outputId": "75aa7b32-ec51-462f-f46a-062e2fd60e76"
      },
      "source": [
        "meanD3_1 = list() \n",
        "for i in range(LAB_imgD3_01.shape[0]): \n",
        "     for j in range(LAB_imgD3_01.shape[1]): \n",
        "                if 1769<i<1881 and 2019<j<2131 :\n",
        "                    meanD3_1.append(LAB_imgD3_01[i][j])\n",
        "meanD3_1 = np.array(meanD3_1)\n",
        "\n",
        "labD3_5 = list()\n",
        "for i in range(3):\n",
        "    labD3_5.append(meanD3_5[:,i].mean())\n",
        "labD3_5 "
      ],
      "execution_count": null,
      "outputs": [
        {
          "output_type": "execute_result",
          "data": {
            "text/plain": [
              "[203.04593782972162, 129.89976462949437, 152.1662202743284]"
            ]
          },
          "metadata": {},
          "execution_count": 329
        }
      ]
    },
    {
      "cell_type": "code",
      "metadata": {
        "id": "GZMjU-UQY0yi",
        "colab": {
          "base_uri": "https://localhost:8080/"
        },
        "outputId": "8df4ed60-508f-466c-b1c4-99a03b4faa29"
      },
      "source": [
        "meanD3_3 = list() \n",
        "for i in range(LAB_imgD3_03.shape[0]): \n",
        "     for j in range(LAB_imgD3_03.shape[1]): \n",
        "                if 1769<i<1881 and 2019<j<2131 :\n",
        "                    meanD3_3.append(LAB_imgD3_03[i][j])\n",
        "meanD3_3 = np.array(meanD3_3)\n",
        "\n",
        "labD3_3 = list()\n",
        "for i in range(3):\n",
        "    labD3_3.append(meanD3_3[:,i].mean())\n",
        "labD3_3"
      ],
      "execution_count": null,
      "outputs": [
        {
          "output_type": "execute_result",
          "data": {
            "text/plain": [
              "[202.62868273679084, 129.8942455969483, 151.56675594513433]"
            ]
          },
          "metadata": {},
          "execution_count": 330
        }
      ]
    },
    {
      "cell_type": "markdown",
      "metadata": {
        "id": "UrzhmbP9Y5u5"
      },
      "source": [
        "D4 "
      ]
    },
    {
      "cell_type": "code",
      "metadata": {
        "id": "kiQNtAKPY8yy",
        "colab": {
          "base_uri": "https://localhost:8080/"
        },
        "outputId": "e204fc2e-96e7-4613-c335-24aa4558959c"
      },
      "source": [
        "meanD4_1 = list() \n",
        "for i in range(LAB_imgD4_01.shape[0]): \n",
        "     for j in range(LAB_imgD4_01.shape[1]): \n",
        "                if 1769<i<1881 and 2019<j<2131 :\n",
        "                    meanD4_1.append(LAB_imgD4_01[i][j])\n",
        "meanD4_1 = np.array(meanD4_1)\n",
        "\n",
        "labD4_1 = list()\n",
        "for i in range(3):\n",
        "    labD4_1.append(meanD4_1[:,i].mean())\n",
        "labD4_1"
      ],
      "execution_count": null,
      "outputs": [
        {
          "output_type": "execute_result",
          "data": {
            "text/plain": [
              "[196.12466520574628, 128.45475204934664, 154.12198685171657]"
            ]
          },
          "metadata": {},
          "execution_count": 331
        }
      ]
    },
    {
      "cell_type": "code",
      "metadata": {
        "id": "0kEogEJKY_Ff",
        "colab": {
          "base_uri": "https://localhost:8080/"
        },
        "outputId": "9a4fae51-1c2c-45a5-e3f1-f0b040fbb1bc"
      },
      "source": [
        "meanD4_2 = list() \n",
        "for i in range(LAB_imgD4_02.shape[0]): \n",
        "     for j in range(LAB_imgD4_02.shape[1]): \n",
        "                if 1769<i<1881 and 2019<j<2131 :\n",
        "                    meanD4_2.append(LAB_imgD4_02[i][j])\n",
        "meanD4_2 = np.array(meanD4_2)\n",
        "\n",
        "labD4_2 = list()\n",
        "for i in range(3):\n",
        "    labD4_2.append(meanD4_2[:,i].mean())\n",
        "labD4_2"
      ],
      "execution_count": null,
      "outputs": [
        {
          "output_type": "execute_result",
          "data": {
            "text/plain": [
              "[190.6657738819901, 128.64572680788896, 154.22571219868516]"
            ]
          },
          "metadata": {},
          "execution_count": 332
        }
      ]
    },
    {
      "cell_type": "code",
      "metadata": {
        "id": "qpWzE6RQyObz",
        "colab": {
          "base_uri": "https://localhost:8080/"
        },
        "outputId": "b0e4d80a-9a3a-4e03-c149-75d2951aa00e"
      },
      "source": [
        "meanD4_3 = list() \n",
        "for i in range(LAB_imgD4_03.shape[0]): \n",
        "     for j in range(LAB_imgD4_03.shape[1]): \n",
        "                if 1769<i<1881 and 2019<j<2131 :\n",
        "                    meanD4_3.append(LAB_imgD4_03[i][j])\n",
        "meanD4_3 = np.array(meanD4_3)\n",
        "\n",
        "labD4_3 = list()\n",
        "for i in range(3):\n",
        "    labD4_3.append(meanD4_3[:,i].mean())\n",
        "labD4_3"
      ],
      "execution_count": null,
      "outputs": [
        {
          "output_type": "execute_result",
          "data": {
            "text/plain": [
              "[199.49874198522846, 128.43543543543544, 155.33731028325622]"
            ]
          },
          "metadata": {},
          "execution_count": 333
        }
      ]
    },
    {
      "cell_type": "code",
      "metadata": {
        "id": "XQknaIrNyPN_",
        "colab": {
          "base_uri": "https://localhost:8080/"
        },
        "outputId": "225d1e63-4632-46e0-afbc-c3ebab6d1025"
      },
      "source": [
        "meanD4_4 = list() \n",
        "for i in range(LAB_imgD4_04.shape[0]): \n",
        "     for j in range(LAB_imgD4_04.shape[1]): \n",
        "                if 1769<i<1881 and 2019<j<2131 :\n",
        "                    meanD4_4.append(LAB_imgD4_04[i][j])\n",
        "meanD4_4 = np.array(meanD4_4)\n",
        "\n",
        "labD4_9 = list()\n",
        "for i in range(3):\n",
        "    labD4_9.append(meanD4_9[:,i].mean())\n",
        "labD4_9"
      ],
      "execution_count": null,
      "outputs": [
        {
          "output_type": "execute_result",
          "data": {
            "text/plain": [
              "[198.4834834834835, 128.31807483158835, 155.35029624218814]"
            ]
          },
          "metadata": {},
          "execution_count": 334
        }
      ]
    },
    {
      "cell_type": "markdown",
      "metadata": {
        "id": "IdOvf3XXgumA"
      },
      "source": [
        "#คำนวณระยะห่างระหว่างจุดแบบ Euclidean distance"
      ]
    },
    {
      "cell_type": "code",
      "metadata": {
        "id": "9zPD-56Zgxef"
      },
      "source": [
        "from scipy.spatial import distance"
      ],
      "execution_count": null,
      "outputs": []
    },
    {
      "cell_type": "markdown",
      "metadata": {
        "id": "fYTcj_FrkWhp"
      },
      "source": [
        "A1"
      ]
    },
    {
      "cell_type": "code",
      "metadata": {
        "id": "7-9sfK9rjy_Y"
      },
      "source": [
        "UA1A1_1 = distance.euclidean(labA1_1,labA1_3)\n",
        "UA1A1_2 = distance.euclidean(labA1_2,labA1_4)\n",
        "UA1A2_1 = distance.euclidean(labA1_1,labA2_3)\n",
        "UA1A2_2 = distance.euclidean(labA1_2,labA2_4)\n",
        "UA1A3_1 = distance.euclidean(labA1_1,labA3_3)\n",
        "UA1A3_2 = distance.euclidean(labA1_2,labA3_4)\n",
        "UA1A3_51 = distance.euclidean(labA1_1,labA3_503) \n",
        "UA1A3_52 = distance.euclidean(labA1_2,labA3_504)\n",
        "UA1A4_1 = distance.euclidean(labA1_1,labA4_3)\n",
        "UA1A4_2 = distance.euclidean(labA1_2,labA4_4)\n",
        "UA1B1_1 = distance.euclidean(labA1_1,labB1_3)\n",
        "UA1B1_2 = distance.euclidean(labA1_2,labB1_4)\n",
        "UA1B2_1 = distance.euclidean(labA1_1,labB2_3)\n",
        "UA1B2_2 = distance.euclidean(labA1_2,labB2_4)\n",
        "UA1B3_1 = distance.euclidean(labA1_1,labB3_3)\n",
        "UA1B3_2 = distance.euclidean(labA1_2,labB3_4)\n",
        "UA1B4_1 = distance.euclidean(labA1_1,labB4_3)\n",
        "UA1B4_2 = distance.euclidean(labA1_2,labB4_4)\n",
        "UA1C1_1 = distance.euclidean(labA1_1,labC1_3)\n",
        "UA1C1_2 = distance.euclidean(labA1_2,labC1_4)\n",
        "UA1C2_1 = distance.euclidean(labA1_1,labC2_3)\n",
        "UA1C2_2 = distance.euclidean(labA1_2,labC2_4)\n",
        "UA1C3_1 = distance.euclidean(labA1_1,labC3_3)\n",
        "UA1C3_2 = distance.euclidean(labA1_2,labC3_4)\n",
        "UA1C4_1 = distance.euclidean(labA1_1,labC4_3)\n",
        "UA1C4_2 = distance.euclidean(labA1_2,labC4_4)\n",
        "UA1D2_1 = distance.euclidean(labA1_1,labD2_3)\n",
        "UA1D2_2 = distance.euclidean(labA1_2,labD2_4)\n",
        "UA1D3_1 = distance.euclidean(labA1_1,labD3_3)\n",
        "UA1D3_2 = distance.euclidean(labA1_2,labD3_4)\n",
        "UA1D4_1 = distance.euclidean(labA1_1,labD4_3)\n",
        "UA1D4_2 = distance.euclidean(labA1_2,labD4_4)"
      ],
      "execution_count": null,
      "outputs": []
    },
    {
      "cell_type": "code",
      "metadata": {
        "id": "GLlQnt9q5FpU"
      },
      "source": [
        "UA1A1 = (UA1A1_1+UA1A1_2)/2\n",
        "UA1A2 = (UA1A2_1+UA1A2_2)/2\n",
        "UA1A3 = (UA1A3_1+UA1A3_2)/2\n",
        "UA1A3_5 = (UA1A3_51+UA1A3_52)/2\n",
        "UA1A4 = (UA1A4_1+UA1A4_2)/2\n",
        "UA1B1 = (UA1B1_1+UA1B1_2)/2\n",
        "UA1B2 = (UA1B2_1+UA1B2_2)/2\n",
        "UA1B3 = (UA1B3_1+UA1B3_2)/2\n",
        "UA1B4 = (UA1B4_1+UA1B4_2)/2\n",
        "UA1C1 = (UA1C1_1+UA1C1_2)/2\n",
        "UA1C2 = (UA1C2_1+UA1C2_2)/2\n",
        "UA1C3 = (UA1C3_1+UA1C3_2)/2\n",
        "UA1C4 = (UA1C4_1+UA1C4_2)/2\n",
        "UA1D2 = (UA1D2_1+UA1D2_2)/2\n",
        "UA1D3 = (UA1D3_1+UA1D3_2)/2\n",
        "UA1D4 = (UA1D4_1+UA1D4_2)/2"
      ],
      "execution_count": null,
      "outputs": []
    },
    {
      "cell_type": "markdown",
      "metadata": {
        "id": "A4O7ZP5wANVY"
      },
      "source": [
        "A2"
      ]
    },
    {
      "cell_type": "code",
      "metadata": {
        "id": "qYDLZVQZAOI-"
      },
      "source": [
        "UA2A1_1 = distance.euclidean(labA2_1,labA1_4)\n",
        "UA2A1_2 = distance.euclidean(labA2_2,labA1_3)\n",
        "UA2A2_2 = distance.euclidean(labA2_1,labA2_4)\n",
        "UA2A2_1 = distance.euclidean(labA2_2,labA2_3)\n",
        "UA2A3_1 = distance.euclidean(labA2_1,labA3_4)\n",
        "UA2A3_2 = distance.euclidean(labA2_2,labA3_3)\n",
        "UA2A3_51 = distance.euclidean(labA2_1,labA3_504)\n",
        "UA2A3_52 = distance.euclidean(labA2_2,labA3_503)\n",
        "UA2A4_1 = distance.euclidean(labA2_1,labA4_4)\n",
        "UA2A4_2 = distance.euclidean(labA2_2,labA4_3)\n",
        "UA2B1_1 = distance.euclidean(labA2_1,labB1_4)\n",
        "UA2B1_2 = distance.euclidean(labA2_2,labB1_3)\n",
        "UA2B2_1 = distance.euclidean(labA2_1,labB2_4)\n",
        "UA2B2_2 = distance.euclidean(labA2_2,labB2_3)\n",
        "UA2B3_1 = distance.euclidean(labA2_1,labB3_4)\n",
        "UA2B3_2 = distance.euclidean(labA2_2,labB3_3)\n",
        "UA2B4_1 = distance.euclidean(labA2_1,labB4_4)\n",
        "UA2B4_2 = distance.euclidean(labA2_2,labB4_3)\n",
        "UA2C1_1 = distance.euclidean(labA2_1,labC1_4)\n",
        "UA2C1_2 = distance.euclidean(labA2_2,labC1_3)\n",
        "UA2C2_1 = distance.euclidean(labA2_1,labC2_4)\n",
        "UA2C2_2 = distance.euclidean(labA2_2,labC2_3)\n",
        "UA2C3_1 = distance.euclidean(labA2_1,labC3_4)\n",
        "UA2C3_2 = distance.euclidean(labA2_2,labC3_3)\n",
        "UA2C4_1 = distance.euclidean(labA2_1,labC4_4)\n",
        "UA2C4_2 = distance.euclidean(labA2_2,labC4_3)\n",
        "UA2D2_1 = distance.euclidean(labA2_1,labD2_4)\n",
        "UA2D2_2 = distance.euclidean(labA2_2,labD2_3)\n",
        "UA2D3_1 = distance.euclidean(labA2_1,labD3_4)\n",
        "UA2D3_2 = distance.euclidean(labA2_2,labD3_3)\n",
        "UA2D4_1 = distance.euclidean(labA2_1,labD4_4)\n",
        "UA2D4_2 = distance.euclidean(labA2_2,labD4_3)"
      ],
      "execution_count": null,
      "outputs": []
    },
    {
      "cell_type": "code",
      "metadata": {
        "id": "0IDzb76_7IfX"
      },
      "source": [
        "UA2A1 = (UA2A1_1+UA2A1_2)/2\n",
        "UA2A2 = (UA2A2_1+UA2A2_2)/2\n",
        "UA2A3 = (UA2A3_1+UA2A3_2)/2\n",
        "UA2A3_5 = (UA2A3_51+UA2A3_52)/2\n",
        "UA2A4 = (UA2A4_1+UA2A4_2)/2\n",
        "UA2B1 = (UA2B1_1+UA2B1_2)/2\n",
        "UA2B2 = (UA2B2_1+UA2B2_2)/2\n",
        "UA2B3 = (UA2B3_1+UA2B3_2)/2\n",
        "UA2B4 = (UA2B4_1+UA2B4_2)/2\n",
        "UA2C1 = (UA2C1_1+UA2C1_2)/2\n",
        "UA2C2 = (UA2C2_1+UA2C2_2)/2\n",
        "UA2C3 = (UA2C3_1+UA2C3_2)/2\n",
        "UA2C4 = (UA2C4_1+UA2C4_2)/2\n",
        "UA2D2 = (UA2D2_1+UA2D2_2)/2\n",
        "UA2D3 = (UA2D3_1+UA2D3_2)/2\n",
        "UA2D4 = (UA2D4_1+UA2D4_2)/2"
      ],
      "execution_count": null,
      "outputs": []
    },
    {
      "cell_type": "markdown",
      "metadata": {
        "id": "LpSNWcPFEEAC"
      },
      "source": [
        "A3"
      ]
    },
    {
      "cell_type": "code",
      "metadata": {
        "id": "8SB0HIL6EFJn"
      },
      "source": [
        "UA3A1_1 = distance.euclidean(labA3_2,labA1_3)\n",
        "UA3A1_2 = distance.euclidean(labA3_1,labA1_4)\n",
        "UA3A2_1 = distance.euclidean(labA3_2,labA2_3)\n",
        "UA3A2_2 = distance.euclidean(labA3_1,labA2_4)\n",
        "UA3A3_1 = distance.euclidean(labA3_2,labA3_3)\n",
        "UA3A3_2 = distance.euclidean(labA3_1,labA3_4)\n",
        "UA3A3_51 = distance.euclidean(labA3_2,labA3_503)\n",
        "UA3A3_52 = distance.euclidean(labA3_1,labA3_504)\n",
        "UA3A4_1 = distance.euclidean(labA3_2,labA4_3)\n",
        "UA3A4_2 = distance.euclidean(labA3_1,labA4_4)\n",
        "UA3B1_1 = distance.euclidean(labA3_2,labB1_3)\n",
        "UA3B1_2 = distance.euclidean(labA3_1,labB1_4)\n",
        "UA3B2_1 = distance.euclidean(labA3_2,labB2_3)\n",
        "UA3B2_2 = distance.euclidean(labA3_1,labB2_4)\n",
        "UA3B3_1 = distance.euclidean(labA3_2,labB3_3)\n",
        "UA3B3_2 = distance.euclidean(labA3_1,labB3_4)\n",
        "UA3B4_1 = distance.euclidean(labA3_2,labB4_3)\n",
        "UA3B4_2 = distance.euclidean(labA3_1,labB4_4)\n",
        "UA3C1_1 = distance.euclidean(labA3_2,labC1_3)\n",
        "UA3C1_2 = distance.euclidean(labA3_1,labC1_4)\n",
        "UA3C2_1 = distance.euclidean(labA3_2,labC2_3)\n",
        "UA3C2_2 = distance.euclidean(labA3_1,labC2_4)\n",
        "UA3C3_1 = distance.euclidean(labA3_2,labC3_3)\n",
        "UA3C3_2 = distance.euclidean(labA3_1,labC3_4)\n",
        "UA3C4_1 = distance.euclidean(labA3_2,labC4_3)\n",
        "UA3C4_2 = distance.euclidean(labA3_1,labC4_4)\n",
        "UA3D2_1 = distance.euclidean(labA3_2,labD2_3)\n",
        "UA3D2_2 = distance.euclidean(labA3_1,labD2_4)\n",
        "UA3D3_1 = distance.euclidean(labA3_2,labD3_3)\n",
        "UA3D3_2 = distance.euclidean(labA3_1,labD3_4)\n",
        "UA3D4_1 = distance.euclidean(labA3_2,labD4_3)\n",
        "UA3D4_2 = distance.euclidean(labA3_1,labD4_4)"
      ],
      "execution_count": null,
      "outputs": []
    },
    {
      "cell_type": "code",
      "metadata": {
        "id": "iKwP4vNF7YES"
      },
      "source": [
        "UA3A1 = (UA2A1_1+UA2A1_2)/2\n",
        "UA3A2 = (UA3A2_1+UA3A2_2)/2\n",
        "UA3A3 = (UA3A3_1+UA3A3_2)/2\n",
        "UA3A3_5 = (UA3A3_51+UA3A3_52)/2\n",
        "UA3A4 = (UA3A4_1+UA3A4_2)/2\n",
        "UA3B1 = (UA3B1_1+UA3B1_2)/2\n",
        "UA3B2 = (UA3B2_1+UA3B2_2)/2\n",
        "UA3B3 = (UA3B3_1+UA3B3_2)/2\n",
        "UA3B4 = (UA3B4_1+UA3B4_2)/2\n",
        "UA3C1 = (UA3C1_1+UA3C1_2)/2\n",
        "UA3C2 = (UA3C2_1+UA3C2_2)/2\n",
        "UA3C3 = (UA3C3_1+UA3C3_2)/2\n",
        "UA3C4 = (UA3C4_1+UA3C4_2)/2\n",
        "UA3D2 = (UA3D2_1+UA3D2_2)/2\n",
        "UA3D3 = (UA3D3_1+UA3D3_2)/2\n",
        "UA3D4 = (UA3D4_1+UA3D4_2)/2"
      ],
      "execution_count": null,
      "outputs": []
    },
    {
      "cell_type": "markdown",
      "metadata": {
        "id": "HOBtYix5HZ4-"
      },
      "source": [
        "A3.5"
      ]
    },
    {
      "cell_type": "code",
      "metadata": {
        "id": "saXBQJkbHbYF"
      },
      "source": [
        "UA3_5A1_1 = distance.euclidean(labA3_501,labA1_3)\n",
        "UA3_5A1_2 = distance.euclidean(labA3_502,labA1_4)\n",
        "UA3_5A2_1 = distance.euclidean(labA3_501,labA2_3)\n",
        "UA3_5A2_2 = distance.euclidean(labA3_502,labA2_4)\n",
        "UA3_5A3_1 = distance.euclidean(labA3_501,labA3_3)\n",
        "UA3_5A3_2 = distance.euclidean(labA3_502,labA3_4)\n",
        "UA3_5A3_51 = distance.euclidean(labA3_501,labA3_503)\n",
        "UA3_5A3_52 = distance.euclidean(labA3_502,labA3_504)\n",
        "UA3_5A4_1 = distance.euclidean(labA3_501,labA4_3)\n",
        "UA3_5A4_2 = distance.euclidean(labA3_502,labA4_4)\n",
        "UA3_5B1_1 = distance.euclidean(labA3_501,labB1_3)\n",
        "UA3_5B1_2 = distance.euclidean(labA3_502,labB1_4)\n",
        "UA3_5B2_1 = distance.euclidean(labA3_501,labB2_3)\n",
        "UA3_5B2_2 = distance.euclidean(labA3_502,labB2_4)\n",
        "UA3_5B3_1 = distance.euclidean(labA3_501,labB3_3)\n",
        "UA3_5B3_2 = distance.euclidean(labA3_502,labB3_4)\n",
        "UA3_5B4_1 = distance.euclidean(labA3_501,labB4_3)\n",
        "UA3_5B4_2 = distance.euclidean(labA3_502,labB4_4)\n",
        "UA3_5C1_1 = distance.euclidean(labA3_501,labC1_3)\n",
        "UA3_5C1_2 = distance.euclidean(labA3_502,labC1_4)\n",
        "UA3_5C2_1 = distance.euclidean(labA3_501,labC2_3)\n",
        "UA3_5C2_2 = distance.euclidean(labA3_502,labC2_4)\n",
        "UA3_5C3_1 = distance.euclidean(labA3_501,labC3_3)\n",
        "UA3_5C3_2 = distance.euclidean(labA3_502,labC3_4)\n",
        "UA3_5C4_1 = distance.euclidean(labA3_501,labC4_3)\n",
        "UA3_5C4_2 = distance.euclidean(labA3_502,labC4_4)\n",
        "UA3_5D2_1 = distance.euclidean(labA3_501,labD2_3)\n",
        "UA3_5D2_2 = distance.euclidean(labA3_502,labD2_4)\n",
        "UA3_5D3_1 = distance.euclidean(labA3_501,labD3_3)\n",
        "UA3_5D3_2 = distance.euclidean(labA3_502,labD3_4)\n",
        "UA3_5D4_1 = distance.euclidean(labA3_501,labD4_3)\n",
        "UA3_5D4_2 = distance.euclidean(labA3_502,labD4_4)"
      ],
      "execution_count": null,
      "outputs": []
    },
    {
      "cell_type": "code",
      "metadata": {
        "id": "EVTVI4nj72b9"
      },
      "source": [
        "UA3_5A1 = (UA3_5A1_1+UA3_5A1_2)/2\n",
        "UA3_5A2 = (UA3_5A2_1+UA3_5A2_2)/2\n",
        "UA3_5A3 = (UA3_5A3_1+UA3_5A3_2)/2\n",
        "UA3_5A3_5 = (UA3_5A3_51+UA3_5A3_52)/2\n",
        "UA3_5A4 = (UA3_5A4_1+UA3_5A4_2)/2\n",
        "UA3_5B1 = (UA3_5B1_1+UA3_5B1_2)/2\n",
        "UA3_5B2 = (UA3_5B2_1+UA3_5B2_2)/2\n",
        "UA3_5B3 = (UA3_5B3_1+UA3_5B3_2)/2\n",
        "UA3_5B4 = (UA3_5B4_1+UA3_5B4_2)/2\n",
        "UA3_5C1 = (UA3_5C1_1+UA3_5C1_2)/2\n",
        "UA3_5C2 = (UA3_5C2_1+UA3_5C2_2)/2\n",
        "UA3_5C3 = (UA3_5C3_1+UA3_5C3_2)/2\n",
        "UA3_5C4 = (UA3_5C4_1+UA3_5C4_2)/2\n",
        "UA3_5D2 = (UA3_5D2_1+UA3_5D2_2)/2\n",
        "UA3_5D3 = (UA3_5D3_1+UA3_5D3_2)/2\n",
        "UA3_5D4 = (UA3_5D4_1+UA3_5D4_2)/2"
      ],
      "execution_count": null,
      "outputs": []
    },
    {
      "cell_type": "markdown",
      "metadata": {
        "id": "v85yIzGiJzxT"
      },
      "source": [
        "A4"
      ]
    },
    {
      "cell_type": "code",
      "metadata": {
        "id": "E1b4WXHaJ2In"
      },
      "source": [
        "UA4A1_1 = distance.euclidean(labA4_2,labA1_3)\n",
        "UA4A1_2 = distance.euclidean(labA4_1,labA1_4)\n",
        "UA4A2_1 = distance.euclidean(labA4_2,labA2_3)\n",
        "UA4A2_2 = distance.euclidean(labA4_1,labA2_4)\n",
        "UA4A3_1 = distance.euclidean(labA4_2,labA3_3)\n",
        "UA4A3_2 = distance.euclidean(labA4_1,labA3_4)\n",
        "UA4A3_51 = distance.euclidean(labA4_2,labA3_503)\n",
        "UA4A3_52 = distance.euclidean(labA4_1,labA3_504)\n",
        "UA4A4_1 = distance.euclidean(labA4_2,labA4_3)\n",
        "UA4A4_2 = distance.euclidean(labA4_1,labA4_4)\n",
        "UA4B1_1 = distance.euclidean(labA4_2,labB1_3)\n",
        "UA4B1_2 = distance.euclidean(labA4_1,labB1_4)\n",
        "UA4B2_1 = distance.euclidean(labA4_2,labB2_3)\n",
        "UA4B2_2 = distance.euclidean(labA4_1,labB2_4)\n",
        "UA4B3_1 = distance.euclidean(labA4_2,labB3_3)\n",
        "UA4B3_2 = distance.euclidean(labA4_1,labB3_4)\n",
        "UA4B4_1 = distance.euclidean(labA4_2,labB4_3)\n",
        "UA4B4_2 = distance.euclidean(labA4_1,labB4_4)\n",
        "UA4C1_1 = distance.euclidean(labA4_2,labC1_3)\n",
        "UA4C1_2 = distance.euclidean(labA4_1,labC1_4)\n",
        "UA4C2_1 = distance.euclidean(labA4_2,labC2_3)\n",
        "UA4C2_2 = distance.euclidean(labA4_1,labC2_4)\n",
        "UA4C3_1 = distance.euclidean(labA4_2,labC3_3)\n",
        "UA4C3_2 = distance.euclidean(labA4_1,labC3_4)\n",
        "UA4C4_1 = distance.euclidean(labA4_2,labC4_3)\n",
        "UA4C4_2 = distance.euclidean(labA4_1,labC4_4)\n",
        "UA4D2_1 = distance.euclidean(labA4_2,labD2_3)\n",
        "UA4D2_2 = distance.euclidean(labA4_1,labD2_4)\n",
        "UA4D3_1 = distance.euclidean(labA4_2,labD3_3)\n",
        "UA4D3_2 = distance.euclidean(labA4_1,labD3_4)\n",
        "UA4D4_1 = distance.euclidean(labA4_2,labD4_3)\n",
        "UA4D4_2 = distance.euclidean(labA4_1,labD4_4)"
      ],
      "execution_count": null,
      "outputs": []
    },
    {
      "cell_type": "code",
      "metadata": {
        "id": "wf4SX3678xN4"
      },
      "source": [
        "UA4A1 = (UA4A1_1+UA4A1_2)/2\n",
        "UA4A2 = (UA4A2_1+UA4A2_2)/2\n",
        "UA4A3 = (UA4A3_1+UA4A3_2)/2\n",
        "UA4A3_5 = (UA4A3_51+UA4A3_52)/2\n",
        "UA4A4 = (UA4A4_1+UA4A4_2)/2\n",
        "UA4B1 = (UA4B1_1+UA4B1_2)/2\n",
        "UA4B2 = (UA4B2_1+UA4B2_2)/2\n",
        "UA4B3 = (UA4B3_1+UA4B3_2)/2\n",
        "UA4B4 = (UA4B4_1+UA4B4_2)/2\n",
        "UA4C1 = (UA4C1_1+UA4C1_2)/2\n",
        "UA4C2 = (UA4C2_1+UA4C2_2)/2\n",
        "UA4C3 = (UA4C3_1+UA4C3_2)/2\n",
        "UA4C4 = (UA4C4_1+UA4C4_2)/2\n",
        "UA4D2 = (UA4D2_1+UA4D2_2)/2\n",
        "UA4D3 = (UA4D3_1+UA4D3_2)/2\n",
        "UA4D4 = (UA4D4_1+UA4D4_2)/2"
      ],
      "execution_count": null,
      "outputs": []
    },
    {
      "cell_type": "markdown",
      "metadata": {
        "id": "pdArf5nVLut6"
      },
      "source": [
        "B1"
      ]
    },
    {
      "cell_type": "code",
      "metadata": {
        "id": "XrgU5BFvLwqD"
      },
      "source": [
        "UB1A1_1 = distance.euclidean(labB1_2,labA1_3)\n",
        "UB1A1_2 = distance.euclidean(labB1_1,labA1_4)\n",
        "UB1A2_1 = distance.euclidean(labB1_2,labA2_3)\n",
        "UB1A2_2 = distance.euclidean(labB1_1,labA2_4)\n",
        "UB1A3_1 = distance.euclidean(labB1_2,labA3_3)\n",
        "UB1A3_2 = distance.euclidean(labB1_1,labA3_4)\n",
        "UB1A3_51 = distance.euclidean(labB1_2,labA3_503)\n",
        "UB1A3_52 = distance.euclidean(labB1_1,labA3_504)\n",
        "UB1A4_1 = distance.euclidean(labB1_2,labA4_3)\n",
        "UB1A4_2 = distance.euclidean(labB1_1,labA4_4)\n",
        "UB1B1_1 = distance.euclidean(labB1_2,labB1_3)\n",
        "UB1B1_2 = distance.euclidean(labA4_1,labB1_4)\n",
        "UB1B2_1 = distance.euclidean(labB1_2,labB2_3)\n",
        "UB1B2_2 = distance.euclidean(labB1_1,labB2_4)\n",
        "UB1B3_1 = distance.euclidean(labB1_2,labB3_3)\n",
        "UB1B3_2 = distance.euclidean(labB1_1,labB3_4)\n",
        "UB1B4_1 = distance.euclidean(labB1_2,labB4_3)\n",
        "UB1B4_2 = distance.euclidean(labB1_1,labB4_4)\n",
        "UB1C1_1 = distance.euclidean(labB1_2,labC1_3)\n",
        "UB1C1_2 = distance.euclidean(labB1_1,labC1_4)\n",
        "UB1C2_1 = distance.euclidean(labB1_2,labC2_3)\n",
        "UB1C2_2 = distance.euclidean(labB1_1,labC2_4)\n",
        "UB1C3_1 = distance.euclidean(labB1_2,labC3_3)\n",
        "UB1C3_2 = distance.euclidean(labB1_1,labC3_4)\n",
        "UB1C4_1 = distance.euclidean(labB1_2,labC4_3)\n",
        "UB1C4_2 = distance.euclidean(labB1_1,labC4_4)\n",
        "UB1D2_1 = distance.euclidean(labB1_2,labD2_3)\n",
        "UB1D2_2 = distance.euclidean(labB1_1,labD2_4)\n",
        "UB1D3_1 = distance.euclidean(labB1_2,labD3_3)\n",
        "UB1D3_2 = distance.euclidean(labB1_1,labD3_4)\n",
        "UB1D4_1 = distance.euclidean(labB1_2,labD4_3)\n",
        "UB1D4_2 = distance.euclidean(labB1_1,labD4_4)"
      ],
      "execution_count": null,
      "outputs": []
    },
    {
      "cell_type": "code",
      "metadata": {
        "id": "-bVweXXn9WSK"
      },
      "source": [
        "UB1A1 = (UB1A1_1+UB1A1_2)/2\n",
        "UB1A2 = (UB1A2_1+UB1A2_2)/2\n",
        "UB1A3 = (UB1A3_1+UB1A3_2)/2\n",
        "UB1A3_5 = (UB1A3_51+UB1A3_52)/2\n",
        "UB1A4 = (UB1A4_1+UB1A4_2)/2\n",
        "UB1B1 = (UB1B1_1+UB1B1_2)/2\n",
        "UB1B2 = (UB1B2_1+UB1B2_2)/2\n",
        "UB1B3 = (UB1B3_1+UB1B3_2)/2\n",
        "UB1B4 = (UB1B4_1+UB1B4_2)/2\n",
        "UB1C1 = (UB1C1_1+UB1C1_2)/2\n",
        "UB1C2 = (UB1C2_1+UB1C2_2)/2\n",
        "UB1C3 = (UB1C3_1+UB1C3_2)/2\n",
        "UB1C4 = (UB1C4_1+UB1C4_2)/2\n",
        "UB1D2 = (UB1D2_1+UB1D2_2)/2\n",
        "UB1D3 = (UB1D3_1+UB1D3_2)/2\n",
        "UB1D4 = (UB1D4_1+UB1D4_2)/2"
      ],
      "execution_count": null,
      "outputs": []
    },
    {
      "cell_type": "markdown",
      "metadata": {
        "id": "QsTUZnxhQfyq"
      },
      "source": [
        "B2"
      ]
    },
    {
      "cell_type": "code",
      "metadata": {
        "id": "rLZXm0gQQiLG"
      },
      "source": [
        "UB2A1_1 = distance.euclidean(labB2_1,labA1_3)\n",
        "UB2A1_2 = distance.euclidean(labB2_2,labA1_4)\n",
        "UB2A2_1 = distance.euclidean(labB2_1,labA2_3)\n",
        "UB2A2_2 = distance.euclidean(labB2_2,labA2_4)\n",
        "UB2A3_1 = distance.euclidean(labB2_1,labA3_3)\n",
        "UB2A3_2 = distance.euclidean(labB2_2,labA3_4)\n",
        "UB2A3_51 = distance.euclidean(labB2_1,labA3_503)\n",
        "UB2A3_52 = distance.euclidean(labB2_2,labA3_504)\n",
        "UB2A4_1 = distance.euclidean(labB2_1,labA4_3)\n",
        "UB2A4_2 = distance.euclidean(labB2_2,labA4_4)\n",
        "UB2B1_1 = distance.euclidean(labB2_1,labB1_3)\n",
        "UB2B1_2 = distance.euclidean(labB2_2,labB1_4)\n",
        "UB2B2_1 = distance.euclidean(labB2_1,labB2_3)\n",
        "UB2B2_2 = distance.euclidean(labB2_2,labB2_4)\n",
        "UB2B3_1 = distance.euclidean(labB2_1,labB3_3)\n",
        "UB2B3_2 = distance.euclidean(labB2_2,labB3_4)\n",
        "UB2B4_1 = distance.euclidean(labB2_1,labB4_3)\n",
        "UB2B4_2 = distance.euclidean(labB2_2,labB4_4)\n",
        "UB2C1_1 = distance.euclidean(labB2_1,labC1_3)\n",
        "UB2C1_2 = distance.euclidean(labB2_2,labC1_4)\n",
        "UB2C2_1 = distance.euclidean(labB2_1,labC2_3)\n",
        "UB2C2_2 = distance.euclidean(labB2_2,labC2_4)\n",
        "UB2C3_1 = distance.euclidean(labB2_1,labC3_3)\n",
        "UB2C3_2 = distance.euclidean(labB2_2,labC3_4)\n",
        "UB2C4_1 = distance.euclidean(labB2_1,labC4_3)\n",
        "UB2C4_2 = distance.euclidean(labB2_2,labC4_4)\n",
        "UB2D2_1 = distance.euclidean(labB2_1,labD2_3)\n",
        "UB2D2_2 = distance.euclidean(labB2_2,labD2_4)\n",
        "UB2D3_1 = distance.euclidean(labB2_1,labD3_3)\n",
        "UB2D3_2 = distance.euclidean(labB2_2,labD3_4)\n",
        "UB2D4_1 = distance.euclidean(labB2_1,labD4_3)\n",
        "UB2D4_2 = distance.euclidean(labB2_2,labD4_4)"
      ],
      "execution_count": null,
      "outputs": []
    },
    {
      "cell_type": "code",
      "metadata": {
        "id": "KtwDJ-Ue9p0h"
      },
      "source": [
        "UB2A1 = (UB2A1_1+UB2A1_2)/2\n",
        "UB2A2 = (UB2A2_1+UB2A2_2)/2\n",
        "UB2A3 = (UB1A3_1+UB2A3_2)/2\n",
        "UB2A3_5 = (UB2A3_51+UB2A3_52)/2\n",
        "UB2A4 = (UB2A4_1+UB2A4_2)/2\n",
        "UB2B1 = (UB2B1_1+UB2B1_2)/2\n",
        "UB2B2 = (UB2B2_1+UB2B2_2)/2\n",
        "UB2B3 = (UB2B3_1+UB2B3_2)/2\n",
        "UB2B4 = (UB2B4_1+UB2B4_2)/2\n",
        "UB2C1 = (UB2C1_1+UB2C1_2)/2\n",
        "UB2C2 = (UB2C2_1+UB2C2_2)/2\n",
        "UB2C3 = (UB2C3_1+UB2C3_2)/2\n",
        "UB2C4 = (UB2C4_1+UB2C4_2)/2\n",
        "UB2D2 = (UB2D2_1+UB2D2_2)/2\n",
        "UB2D3 = (UB2D3_1+UB2D3_2)/2\n",
        "UB2D4 = (UB2D4_1+UB2D4_2)/2"
      ],
      "execution_count": null,
      "outputs": []
    },
    {
      "cell_type": "markdown",
      "metadata": {
        "id": "MXY-OV4gUmdw"
      },
      "source": [
        "B3"
      ]
    },
    {
      "cell_type": "code",
      "metadata": {
        "id": "pUUKgK1xUsJo"
      },
      "source": [
        "UB3A1_1 = distance.euclidean(labB3_2,labA1_3)\n",
        "UB3A1_2 = distance.euclidean(labB3_1,labA1_4)\n",
        "UB3A2_1 = distance.euclidean(labB3_2,labA2_3)\n",
        "UB3A2_2 = distance.euclidean(labB3_1,labA2_4)\n",
        "UB3A3_1 = distance.euclidean(labB1_2,labA3_3)\n",
        "UB3A3_2 = distance.euclidean(labB3_1,labA3_4)\n",
        "UB3A3_51 = distance.euclidean(labB3_2,labA3_503)\n",
        "UB3A3_52 = distance.euclidean(labB3_1,labA3_504)\n",
        "UB3A4_1 = distance.euclidean(labB3_2,labA4_3)\n",
        "UB3A4_2 = distance.euclidean(labB3_1,labA4_4)\n",
        "UB3B1_1 = distance.euclidean(labB3_2,labB1_3)\n",
        "UB3B1_2 = distance.euclidean(labB3_1,labB1_4)\n",
        "UB3B2_1 = distance.euclidean(labB3_2,labB2_3)\n",
        "UB3B2_2 = distance.euclidean(labB3_1,labB2_4)\n",
        "UB3B3_1 = distance.euclidean(labB3_2,labB3_3)\n",
        "UB3B3_2 = distance.euclidean(labB3_1,labB3_4)\n",
        "UB3B4_1 = distance.euclidean(labB3_2,labB4_3)\n",
        "UB3B4_2 = distance.euclidean(labB3_1,labB4_4)\n",
        "UB3C1_1 = distance.euclidean(labB3_2,labC1_3)\n",
        "UB3C1_2 = distance.euclidean(labB3_1,labC1_4)\n",
        "UB3C2_1 = distance.euclidean(labB3_2,labC2_3)\n",
        "UB3C2_2 = distance.euclidean(labB3_1,labC2_4)\n",
        "UB3C3_1 = distance.euclidean(labB3_2,labC3_3)\n",
        "UB3C3_2 = distance.euclidean(labB3_1,labC3_4)\n",
        "UB3C4_1 = distance.euclidean(labB3_2,labC4_3)\n",
        "UB3C4_2 = distance.euclidean(labB3_1,labC4_4)\n",
        "UB3D2_1 = distance.euclidean(labB3_2,labD2_3)\n",
        "UB3D2_2 = distance.euclidean(labB3_1,labD2_4)\n",
        "UB3D3_1 = distance.euclidean(labB3_2,labD3_3)\n",
        "UB3D3_2 = distance.euclidean(labB3_1,labD3_4)\n",
        "UB3D4_1 = distance.euclidean(labB3_2,labD4_3)\n",
        "UB3D4_2 = distance.euclidean(labB3_1,labD4_4)"
      ],
      "execution_count": null,
      "outputs": []
    },
    {
      "cell_type": "code",
      "metadata": {
        "id": "LbWbEIYY-LDk"
      },
      "source": [
        "UB3A1 = (UB3A1_1+UB3A1_2)/2\n",
        "UB3A2 = (UB3A2_1+UB3A2_2)/2\n",
        "UB3A3 = (UB3A3_1+UB3A3_2)/2\n",
        "UB3A3_5 = (UB3A3_51+UB3A3_52)/2\n",
        "UB3A4 = (UB3A4_1+UB3A4_2)/2\n",
        "UB3B1 = (UB3B1_1+UB3B1_2)/2\n",
        "UB3B2 = (UB3B2_1+UB3B2_2)/2\n",
        "UB3B3 = (UB3B3_1+UB3B3_2)/2\n",
        "UB3B4 = (UB3B4_1+UB3B4_2)/2\n",
        "UB3C1 = (UB3C1_1+UB3C1_2)/2\n",
        "UB3C2 = (UB3C2_1+UB3C2_2)/2\n",
        "UB3C3 = (UB3C3_1+UB3C3_2)/2\n",
        "UB3C4 = (UB3C4_1+UB3C4_2)/2\n",
        "UB3D2 = (UB3D2_1+UB3D2_2)/2\n",
        "UB3D3 = (UB3D3_1+UB3D3_2)/2\n",
        "UB3D4 = (UB3D4_1+UB3D4_2)/2"
      ],
      "execution_count": null,
      "outputs": []
    },
    {
      "cell_type": "markdown",
      "metadata": {
        "id": "iw4iZKK5Un4u"
      },
      "source": [
        "B4"
      ]
    },
    {
      "cell_type": "code",
      "metadata": {
        "id": "gM2lJOfcUsbO"
      },
      "source": [
        "UB4A1_1 = distance.euclidean(labB4_1,labA1_4)\n",
        "UB4A1_2 = distance.euclidean(labB4_2,labA1_3)\n",
        "UB4A2_1 = distance.euclidean(labB4_1,labA2_4)\n",
        "UB4A2_2 = distance.euclidean(labB4_2,labA2_3)\n",
        "UB4A3_1 = distance.euclidean(labB4_1,labA3_4)\n",
        "UB4A3_2 = distance.euclidean(labB4_2,labA3_3)\n",
        "UB4A3_51 = distance.euclidean(labB4_1,labA3_504)\n",
        "UB4A3_52 = distance.euclidean(labB4_2,labA3_503)\n",
        "UB4A4_1 = distance.euclidean(labB4_1,labA4_4)\n",
        "UB4A4_2 = distance.euclidean(labB4_2,labA4_3)\n",
        "UB4B1_1 = distance.euclidean(labB4_1,labB1_4)\n",
        "UB4B1_2 = distance.euclidean(labB4_2,labB1_3)\n",
        "UB4B2_1 = distance.euclidean(labB4_1,labB2_4)\n",
        "UB4B2_2 = distance.euclidean(labB4_2,labB2_3)\n",
        "UB4B3_1 = distance.euclidean(labB4_1,labB3_4)\n",
        "UB4B3_2 = distance.euclidean(labB4_2,labB3_3)\n",
        "UB4B4_1 = distance.euclidean(labB4_1,labB4_4)\n",
        "UB4B4_2 = distance.euclidean(labB4_2,labB4_3)\n",
        "UB4C1_1 = distance.euclidean(labB4_1,labC1_4)\n",
        "UB4C1_2 = distance.euclidean(labB4_2,labC1_3)\n",
        "UB4C2_1 = distance.euclidean(labB4_1,labC2_4)\n",
        "UB4C2_2 = distance.euclidean(labB4_2,labC2_3)\n",
        "UB4C3_1 = distance.euclidean(labB4_1,labC3_4)\n",
        "UB4C3_2 = distance.euclidean(labB4_2,labC3_3)\n",
        "UB4C4_1 = distance.euclidean(labB4_1,labC4_4)\n",
        "UB4C4_2 = distance.euclidean(labB4_2,labC4_3)\n",
        "UB4D2_1 = distance.euclidean(labB4_1,labD2_4)\n",
        "UB4D2_2 = distance.euclidean(labB4_2,labD2_3)\n",
        "UB4D3_1 = distance.euclidean(labB4_1,labD3_4)\n",
        "UB4D3_2 = distance.euclidean(labB4_2,labD3_3)\n",
        "UB4D4_1 = distance.euclidean(labB4_1,labD4_4)\n",
        "UB4D4_2 = distance.euclidean(labB4_2,labD4_3)"
      ],
      "execution_count": null,
      "outputs": []
    },
    {
      "cell_type": "code",
      "metadata": {
        "id": "IiacfVn_-fE4"
      },
      "source": [
        "UB4A1 = (UB4A1_1+UB4A1_2)/2\n",
        "UB4A2 = (UB4A2_1+UB4A2_2)/2\n",
        "UB4A3 = (UB4A3_1+UB4A3_2)/2\n",
        "UB4A3_5 = (UB4A3_51+UB4A3_52)/2\n",
        "UB4A4 = (UB4A4_1+UB4A4_2)/2\n",
        "UB4B1 = (UB4B1_1+UB4B1_2)/2\n",
        "UB4B2 = (UB4B2_1+UB4B2_2)/2\n",
        "UB4B3 = (UB4B3_1+UB4B3_2)/2\n",
        "UB4B4 = (UB4B4_1+UB4B4_2)/2\n",
        "UB4C1 = (UB4C1_1+UB4C1_2)/2\n",
        "UB4C2 = (UB4C2_1+UB4C2_2)/2\n",
        "UB4C3 = (UB4C3_1+UB4C3_2)/2\n",
        "UB4C4 = (UB4C4_1+UB4C4_2)/2\n",
        "UB4D2 = (UB4D2_1+UB4D2_2)/2\n",
        "UB4D3 = (UB4D3_1+UB4D3_2)/2\n",
        "UB4D4 = (UB4D4_1+UB4D4_2)/2"
      ],
      "execution_count": null,
      "outputs": []
    },
    {
      "cell_type": "markdown",
      "metadata": {
        "id": "PmgWHgMPUozB"
      },
      "source": [
        "C1"
      ]
    },
    {
      "cell_type": "code",
      "metadata": {
        "id": "rQk8U9jcUszY"
      },
      "source": [
        "UC1A1_1 = distance.euclidean(labC1_1,labA1_3)\n",
        "UC1A1_2 = distance.euclidean(labC1_2,labA1_4)\n",
        "UC1A2_1 = distance.euclidean(labC1_1,labA2_3)\n",
        "UC1A2_2 = distance.euclidean(labC1_2,labA2_4)\n",
        "UC1A3_1 = distance.euclidean(labC1_1,labA3_3)\n",
        "UC1A3_2 = distance.euclidean(labC1_2,labA3_4)\n",
        "UC1A3_51 = distance.euclidean(labC1_1,labA3_503)\n",
        "UC1A3_52 = distance.euclidean(labC1_2,labA3_504)\n",
        "UC1A4_1 = distance.euclidean(labC1_1,labA4_3)\n",
        "UC1A4_2 = distance.euclidean(labC1_2,labA4_4)\n",
        "UC1B1_1 = distance.euclidean(labC1_1,labB1_3)\n",
        "UC1B1_2 = distance.euclidean(labC1_2,labB1_4)\n",
        "UC1B2_1 = distance.euclidean(labC1_1,labB2_3)\n",
        "UC1B2_2 = distance.euclidean(labC1_2,labB2_4)\n",
        "UC1B3_1 = distance.euclidean(labC1_1,labB3_3)\n",
        "UC1B3_2 = distance.euclidean(labC1_2,labB3_4)\n",
        "UC1B4_1 = distance.euclidean(labC1_1,labB4_3)\n",
        "UC1B4_2 = distance.euclidean(labC1_2,labB4_4)\n",
        "UC1C1_1 = distance.euclidean(labC1_1,labC1_3)\n",
        "UC1C1_2 = distance.euclidean(labC1_2,labC1_4)\n",
        "UC1C2_1 = distance.euclidean(labC1_1,labC2_3)\n",
        "UC1C2_2 = distance.euclidean(labC1_2,labC2_4)\n",
        "UC1C3_1 = distance.euclidean(labC1_1,labC3_3)\n",
        "UC1C3_2 = distance.euclidean(labC1_2,labC3_4)\n",
        "UC1C4_1 = distance.euclidean(labC1_1,labC4_3)\n",
        "UC1C4_2 = distance.euclidean(labC1_2,labC4_4)\n",
        "UC1D2_1 = distance.euclidean(labC1_1,labD2_3)\n",
        "UC1D2_2 = distance.euclidean(labC1_2,labD2_4)\n",
        "UC1D3_1 = distance.euclidean(labC1_1,labD3_3)\n",
        "UC1D3_2 = distance.euclidean(labC1_2,labD3_4)\n",
        "UC1D4_1 = distance.euclidean(labC1_1,labD4_3)\n",
        "UC1D4_2 = distance.euclidean(labC1_2,labD4_4)"
      ],
      "execution_count": null,
      "outputs": []
    },
    {
      "cell_type": "code",
      "metadata": {
        "id": "jorLjOmg_BwS"
      },
      "source": [
        "UC1A1 = (UC1A1_1+UC1A1_2)/2\n",
        "UC1A2 = (UC1A2_1+UC1A2_2)/2\n",
        "UC1A3 = (UC1A3_1+UC1A3_2)/2\n",
        "UC1A3_5 = (UC1A3_51+UC1A3_52)/2\n",
        "UC1A4 = (UC1A4_1+UC1A4_2)/2\n",
        "UC1B1 = (UC1B1_1+UC1B1_2)/2\n",
        "UC1B2 = (UC1B2_1+UC1B2_2)/2\n",
        "UC1B3 = (UC1B3_1+UC1B3_2)/2\n",
        "UC1B4 = (UC1B4_1+UC1B4_2)/2\n",
        "UC1C1 = (UC1C1_1+UC1C1_2)/2\n",
        "UC1C2 = (UC1C2_1+UC1C2_2)/2\n",
        "UC1C3 = (UC1C3_1+UC1C3_2)/2\n",
        "UC1C4 = (UC1C4_1+UC1C4_2)/2\n",
        "UC1D2 = (UC1D2_1+UC1D2_2)/2\n",
        "UC1D3 = (UC1D3_1+UC1D3_2)/2\n",
        "UC1D4 = (UC1D4_1+UC1D4_2)/2"
      ],
      "execution_count": null,
      "outputs": []
    },
    {
      "cell_type": "markdown",
      "metadata": {
        "id": "lBdF6_flUpoR"
      },
      "source": [
        "C2"
      ]
    },
    {
      "cell_type": "code",
      "metadata": {
        "id": "O_xvI_EAUtNc"
      },
      "source": [
        "UC2A1_1 = distance.euclidean(labC2_1,labA1_3)\n",
        "UC2A1_2 = distance.euclidean(labC2_2,labA1_4)\n",
        "UC2A2_1 = distance.euclidean(labC2_1,labA2_3)\n",
        "UC2A2_2 = distance.euclidean(labC2_2,labA2_4)\n",
        "UC2A3_1 = distance.euclidean(labC2_1,labA3_3)\n",
        "UC2A3_2 = distance.euclidean(labC2_2,labA3_4)\n",
        "UC2A3_51 = distance.euclidean(labC2_1,labA3_503)\n",
        "UC2A3_52 = distance.euclidean(labC2_2,labA3_504)\n",
        "UC2A4_1 = distance.euclidean(labC2_1,labA4_3)\n",
        "UC2A4_2 = distance.euclidean(labC2_2,labA4_4)\n",
        "UC2B1_1 = distance.euclidean(labC2_1,labB1_3)\n",
        "UC2B1_2 = distance.euclidean(labC2_2,labB1_4)\n",
        "UC2B2_1 = distance.euclidean(labC2_1,labB2_3)\n",
        "UC2B2_2 = distance.euclidean(labC2_2,labB2_4)\n",
        "UC2B3_1 = distance.euclidean(labC2_1,labB3_3)\n",
        "UC2B3_2 = distance.euclidean(labC2_2,labB3_4)\n",
        "UC2B4_1 = distance.euclidean(labC2_1,labB4_3)\n",
        "UC2B4_2 = distance.euclidean(labC2_2,labB4_4)\n",
        "UC2C1_1 = distance.euclidean(labC2_1,labC1_3)\n",
        "UC2C1_2 = distance.euclidean(labC2_2,labC1_4)\n",
        "UC2C2_1 = distance.euclidean(labC2_1,labC2_3)\n",
        "UC2C2_2 = distance.euclidean(labC2_2,labC2_4)\n",
        "UC2C3_1 = distance.euclidean(labC2_1,labC3_3)\n",
        "UC2C3_2 = distance.euclidean(labC2_2,labC3_4)\n",
        "UC2C4_1 = distance.euclidean(labC2_1,labC4_3)\n",
        "UC2C4_2 = distance.euclidean(labC2_2,labC4_4)\n",
        "UC2D2_1 = distance.euclidean(labC2_1,labD2_3)\n",
        "UC2D2_2 = distance.euclidean(labC2_2,labD2_4)\n",
        "UC2D3_1 = distance.euclidean(labC2_1,labD3_3)\n",
        "UC2D3_2 = distance.euclidean(labC2_2,labD3_4)\n",
        "UC2D4_1 = distance.euclidean(labC2_1,labD4_3)\n",
        "UC2D4_2 = distance.euclidean(labC2_2,labD4_4)"
      ],
      "execution_count": null,
      "outputs": []
    },
    {
      "cell_type": "code",
      "metadata": {
        "id": "UUrlUEXB_UY3"
      },
      "source": [
        "UC2A1 = (UC2A1_1+UC2A1_2)/2\n",
        "UC2A2 = (UC2A2_1+UC2A2_2)/2\n",
        "UC2A3 = (UC2A3_1+UC2A3_2)/2\n",
        "UC2A3_5 = (UC1A3_51+UC2A3_52)/2\n",
        "UC2A4 = (UC2A4_1+UC2A4_2)/2\n",
        "UC2B1 = (UC2B1_1+UC2B1_2)/2\n",
        "UC2B2 = (UC2B2_1+UC2B2_2)/2\n",
        "UC2B3 = (UC2B3_1+UC2B3_2)/2\n",
        "UC2B4 = (UC2B4_1+UC2B4_2)/2\n",
        "UC2C1 = (UC2C1_1+UC2C1_2)/2\n",
        "UC2C2 = (UC2C2_1+UC2C2_2)/2\n",
        "UC2C3 = (UC2C3_1+UC2C3_2)/2\n",
        "UC2C4 = (UC2C4_1+UC2C4_2)/2\n",
        "UC2D2 = (UC2D2_1+UC2D2_2)/2\n",
        "UC2D3 = (UC2D3_1+UC2D3_2)/2\n",
        "UC2D4 = (UC2D4_1+UC2D4_2)/2"
      ],
      "execution_count": null,
      "outputs": []
    },
    {
      "cell_type": "markdown",
      "metadata": {
        "id": "F8Ejgtt3Uqmj"
      },
      "source": [
        "C3"
      ]
    },
    {
      "cell_type": "code",
      "metadata": {
        "id": "38-IdhF0Utwm"
      },
      "source": [
        "UC3A1_1 = distance.euclidean(labC3_1,labA1_3)\n",
        "UC3A1_2 = distance.euclidean(labC3_2,labA1_4)\n",
        "UC3A2_1 = distance.euclidean(labC3_1,labA2_3)\n",
        "UC3A2_2 = distance.euclidean(labC3_2,labA2_4)\n",
        "UC3A3_1 = distance.euclidean(labC3_1,labA3_3)\n",
        "UC3A3_2 = distance.euclidean(labC3_2,labA3_4)\n",
        "UC3A3_51 = distance.euclidean(labC3_1,labA3_503)\n",
        "UC3A3_52 = distance.euclidean(labC3_2,labA3_504)\n",
        "UC3A4_1 = distance.euclidean(labC3_1,labA4_3)\n",
        "UC3A4_2 = distance.euclidean(labC3_2,labA4_4)\n",
        "UC3B1_1 = distance.euclidean(labC3_1,labB1_3)\n",
        "UC3B1_2 = distance.euclidean(labC3_2,labB1_4)\n",
        "UC3B2_1 = distance.euclidean(labC3_1,labB2_3)\n",
        "UC3B2_2 = distance.euclidean(labC3_2,labB2_4)\n",
        "UC3B3_1 = distance.euclidean(labC3_1,labB3_3)\n",
        "UC3B3_2 = distance.euclidean(labC3_2,labB3_4)\n",
        "UC3B4_1 = distance.euclidean(labC3_1,labB4_3)\n",
        "UC3B4_2 = distance.euclidean(labC3_2,labB4_4)\n",
        "UC3C1_1 = distance.euclidean(labC3_1,labC1_3)\n",
        "UC3C1_2 = distance.euclidean(labC3_2,labC1_4)\n",
        "UC3C2_1 = distance.euclidean(labC3_1,labC2_3)\n",
        "UC3C2_2 = distance.euclidean(labC3_2,labC2_4)\n",
        "UC3C3_1 = distance.euclidean(labC3_1,labC3_3)\n",
        "UC3C3_2 = distance.euclidean(labC3_2,labC3_4)\n",
        "UC3C4_1 = distance.euclidean(labC3_1,labC4_3)\n",
        "UC3C4_2 = distance.euclidean(labC3_2,labC4_4)\n",
        "UC3D2_1 = distance.euclidean(labC3_1,labD2_3)\n",
        "UC3D2_2 = distance.euclidean(labC3_2,labD2_4)\n",
        "UC3D3_1 = distance.euclidean(labC3_1,labD3_3)\n",
        "UC3D3_2 = distance.euclidean(labC3_2,labD3_4)\n",
        "UC3D4_1 = distance.euclidean(labC3_1,labD4_3)\n",
        "UC3D4_2 = distance.euclidean(labC3_2,labD4_4)"
      ],
      "execution_count": null,
      "outputs": []
    },
    {
      "cell_type": "code",
      "metadata": {
        "id": "dqtJNCHDABdO"
      },
      "source": [
        "UC3A1 = (UC3A1_1+UC3A1_2)/2\n",
        "UC3A2 = (UC3A2_1+UC3A2_2)/2\n",
        "UC3A3 = (UC3A3_1+UC3A3_2)/2\n",
        "UC3A3_5 = (UC3A3_51+UC3A3_52)/2\n",
        "UC3A4 = (UC3A4_1+UC3A4_2)/2\n",
        "UC3B1 = (UC3B1_1+UC3B1_2)/2\n",
        "UC3B2 = (UC3B2_1+UC3B2_2)/2\n",
        "UC3B3 = (UC3B3_1+UC3B3_2)/2\n",
        "UC3B4 = (UC3B4_1+UC3B4_2)/2\n",
        "UC3C1 = (UC3C1_1+UC3C1_2)/2\n",
        "UC3C2 = (UC3C2_1+UC3C2_2)/2\n",
        "UC3C3 = (UC3C3_1+UC3C3_2)/2\n",
        "UC3C4 = (UC3C4_1+UC3C4_2)/2\n",
        "UC3D2 = (UC3D2_1+UC3D2_2)/2\n",
        "UC3D3 = (UC3D3_1+UC3D3_2)/2\n",
        "UC3D4 = (UC3D4_1+UC3D4_2)/2"
      ],
      "execution_count": null,
      "outputs": []
    },
    {
      "cell_type": "markdown",
      "metadata": {
        "id": "5nvt2loHUrVG"
      },
      "source": [
        "C4"
      ]
    },
    {
      "cell_type": "code",
      "metadata": {
        "id": "w1up6legUuR4"
      },
      "source": [
        "UC4A1_1 = distance.euclidean(labC4_2,labA1_4)\n",
        "UC4A1_2 = distance.euclidean(labC4_1,labA1_3)\n",
        "UC4A2_1 = distance.euclidean(labC4_2,labA2_4)\n",
        "UC4A2_2 = distance.euclidean(labC4_1,labA2_3)\n",
        "UC4A3_1 = distance.euclidean(labC4_2,labA3_4)\n",
        "UC4A3_2 = distance.euclidean(labC4_1,labA3_3)\n",
        "UC4A3_51 = distance.euclidean(labC4_2,labA3_504)\n",
        "UC4A3_52 = distance.euclidean(labC4_1,labA3_503)\n",
        "UC4A4_1 = distance.euclidean(labC4_2,labA4_3)\n",
        "UC4A4_2 = distance.euclidean(labC4_1,labA4_4)\n",
        "UC4B1_1 = distance.euclidean(labC4_2,labB1_3)\n",
        "UC4B1_2 = distance.euclidean(labC4_1,labB1_4)\n",
        "UC4B2_1 = distance.euclidean(labC4_2,labB2_3)\n",
        "UC4B2_2 = distance.euclidean(labC4_1,labB2_4)\n",
        "UC4B3_1 = distance.euclidean(labC4_2,labB3_3)\n",
        "UC4B3_2 = distance.euclidean(labC4_1,labB3_4)\n",
        "UC4B4_1 = distance.euclidean(labC4_2,labB4_3)\n",
        "UC4B4_2 = distance.euclidean(labC4_1,labB4_4)\n",
        "UC4C1_1 = distance.euclidean(labC4_2,labC1_3)\n",
        "UC4C1_2 = distance.euclidean(labC4_1,labC1_4)\n",
        "UC4C2_1 = distance.euclidean(labC4_2,labC2_3)\n",
        "UC4C2_2 = distance.euclidean(labC4_1,labC2_4)\n",
        "UC4C3_1 = distance.euclidean(labC4_2,labC3_3)\n",
        "UC4C3_2 = distance.euclidean(labC4_1,labC3_4)\n",
        "UC4C4_1 = distance.euclidean(labC4_2,labC4_3)\n",
        "UC4C4_2 = distance.euclidean(labC4_1,labC4_4)\n",
        "UC4D2_1 = distance.euclidean(labC4_2,labD2_3)\n",
        "UC4D2_2 = distance.euclidean(labC4_1,labD2_4)\n",
        "UC4D3_1 = distance.euclidean(labC4_2,labD3_3)\n",
        "UC4D3_2 = distance.euclidean(labC4_1,labD3_4)\n",
        "UC4D4_1 = distance.euclidean(labC4_2,labD4_3)\n",
        "UC4D4_2 = distance.euclidean(labC4_1,labD4_4)"
      ],
      "execution_count": null,
      "outputs": []
    },
    {
      "cell_type": "code",
      "metadata": {
        "id": "I1kFapTLAUuW"
      },
      "source": [
        "UC4A1 = (UC4A1_1+UC4A1_2)/2\n",
        "UC4A2 = (UC4A2_1+UC4A2_2)/2\n",
        "UC4A3 = (UC4A3_1+UC4A3_2)/2\n",
        "UC4A3_5 = (UC4A3_51+UC4A3_52)/2\n",
        "UC4A4 = (UC4A4_1+UC4A4_2)/2\n",
        "UC4B1 = (UC4B1_1+UC4B1_2)/2\n",
        "UC4B2 = (UC4B2_1+UC4B2_2)/2\n",
        "UC4B3 = (UC4B3_1+UC4B3_2)/2\n",
        "UC4B4 = (UC4B4_1+UC4B4_2)/2\n",
        "UC4C1 = (UC4C1_1+UC4C1_2)/2\n",
        "UC4C2 = (UC4C2_1+UC4C2_2)/2\n",
        "UC4C3 = (UC4C3_1+UC4C3_2)/2\n",
        "UC4C4 = (UC4C4_1+UC4C4_2)/2\n",
        "UC4D2 = (UC4D2_1+UC4D2_2)/2\n",
        "UC4D3 = (UC4D3_1+UC4D3_2)/2\n",
        "UC4D4 = (UC4D4_1+UC4D4_2)/2"
      ],
      "execution_count": null,
      "outputs": []
    },
    {
      "cell_type": "markdown",
      "metadata": {
        "id": "inQrkkdTc3mZ"
      },
      "source": [
        "D2"
      ]
    },
    {
      "cell_type": "code",
      "metadata": {
        "id": "q1NczpMZc4kw"
      },
      "source": [
        "UD2A1_1 = distance.euclidean(labD2_1,labA1_4)\n",
        "UD2A1_2 = distance.euclidean(labD2_2,labA1_3)\n",
        "UD2A2_1 = distance.euclidean(labD2_1,labA2_4)\n",
        "UD2A2_2 = distance.euclidean(labD2_2,labA2_3)\n",
        "UD2A3_1 = distance.euclidean(labD2_1,labA3_4)\n",
        "UD2A3_2 = distance.euclidean(labD2_2,labA3_3)\n",
        "UD2A3_51 = distance.euclidean(labD2_1,labA3_504)\n",
        "UD2A3_52 = distance.euclidean(labD2_2,labA3_503)\n",
        "UD2A4_1 = distance.euclidean(labD2_1,labA4_4)\n",
        "UD2A4_2 = distance.euclidean(labD2_2,labA4_3)\n",
        "UD2B1_1 = distance.euclidean(labD2_1,labB1_4)\n",
        "UD2B1_2 = distance.euclidean(labD2_2,labB1_3)\n",
        "UD2B2_1 = distance.euclidean(labD2_1,labB2_4)\n",
        "UD2B2_2 = distance.euclidean(labD2_2,labB2_3)\n",
        "UD2B3_1 = distance.euclidean(labD2_1,labB3_4)\n",
        "UD2B3_2 = distance.euclidean(labD2_2,labB3_3)\n",
        "UD2B4_1 = distance.euclidean(labD2_1,labB4_4)\n",
        "UD2B4_2 = distance.euclidean(labD2_2,labB4_3)\n",
        "UD2C1_1 = distance.euclidean(labD2_1,labC1_4)\n",
        "UD2C1_2 = distance.euclidean(labD2_2,labC1_3)\n",
        "UD2C2_1 = distance.euclidean(labD2_1,labC2_4)\n",
        "UD2C2_2 = distance.euclidean(labD2_2,labC2_3)\n",
        "UD2C3_1 = distance.euclidean(labD2_1,labC3_4)\n",
        "UD2C3_2 = distance.euclidean(labD2_2,labC3_3)\n",
        "UD2C4_1 = distance.euclidean(labD2_1,labC4_4)\n",
        "UD2C4_2 = distance.euclidean(labD2_2,labC4_3)\n",
        "UD2D2_1 = distance.euclidean(labD2_1,labD2_4)\n",
        "UD2D2_2 = distance.euclidean(labD2_2,labD2_3)\n",
        "UD2D3_1 = distance.euclidean(labD2_1,labD3_4)\n",
        "UD2D3_2 = distance.euclidean(labD2_2,labD3_3)\n",
        "UD2D4_1 = distance.euclidean(labD2_1,labD4_4)\n",
        "UD2D4_2 = distance.euclidean(labD2_2,labD4_3)"
      ],
      "execution_count": null,
      "outputs": []
    },
    {
      "cell_type": "code",
      "metadata": {
        "id": "zXE0HzZhCxFq"
      },
      "source": [
        "UD2A1 = (UD2A1_1+UD2A1_2)/2\n",
        "UD2A2 = (UD2A2_1+UD2A2_2)/2\n",
        "UD2A3 = (UD2A3_1+UD2A3_2)/2\n",
        "UD2A3_5 = (UD2A3_51+UD2A3_52)/2\n",
        "UD2A4 = (UD2A4_1+UD2A4_2)/2\n",
        "UD2B1 = (UD2B1_1+UD2B1_2)/2\n",
        "UD2B2 = (UD2B2_1+UD2B2_2)/2\n",
        "UD2B3 = (UD2B3_1+UD2B3_2)/2\n",
        "UD2B4 = (UD2B4_1+UD2B4_2)/2\n",
        "UD2C1 = (UD2C1_1+UD2C1_2)/2\n",
        "UD2C2 = (UD2C2_1+UD2C2_2)/2\n",
        "UD2C3 = (UD2C3_1+UD2C3_2)/2\n",
        "UD2C4 = (UD2C4_1+UD2C4_2)/2\n",
        "UD2D2 = (UD2D2_1+UD2D2_2)/2\n",
        "UD2D3 = (UD2D3_1+UD2D3_2)/2\n",
        "UD2D4 = (UD2D4_1+UD2D4_2)/2"
      ],
      "execution_count": null,
      "outputs": []
    },
    {
      "cell_type": "markdown",
      "metadata": {
        "id": "FH21pF-ue9ZD"
      },
      "source": [
        "D3"
      ]
    },
    {
      "cell_type": "code",
      "metadata": {
        "id": "mQT1Tre6e8pz"
      },
      "source": [
        "UD3A1_1 = distance.euclidean(labD3_1,labA1_3)\n",
        "UD3A1_2 = distance.euclidean(labD3_2,labA1_4)\n",
        "UD3A2_1 = distance.euclidean(labD3_1,labA2_3)\n",
        "UD3A2_2 = distance.euclidean(labD3_2,labA2_4)\n",
        "UD3A3_1 = distance.euclidean(labD3_1,labA3_3)\n",
        "UD3A3_2 = distance.euclidean(labD3_2,labA3_4)\n",
        "UD3A3_51 = distance.euclidean(labD3_1,labA3_503)\n",
        "UD3A3_52 = distance.euclidean(labD3_2,labA3_504)\n",
        "UD3A4_1 = distance.euclidean(labD3_1,labA4_3)\n",
        "UD3A4_2 = distance.euclidean(labD3_2,labA4_4)\n",
        "UD3B1_1 = distance.euclidean(labD3_1,labB1_3)\n",
        "UD3B1_2 = distance.euclidean(labD3_2,labB1_4)\n",
        "UD3B2_1 = distance.euclidean(labD3_1,labB2_3)\n",
        "UD3B2_2 = distance.euclidean(labD3_2,labB2_4)\n",
        "UD3B3_1 = distance.euclidean(labD3_1,labB3_3)\n",
        "UD3B3_2 = distance.euclidean(labD3_2,labB3_4)\n",
        "UD3B4_1 = distance.euclidean(labD3_1,labB4_3)\n",
        "UD3B4_2 = distance.euclidean(labD3_2,labB4_4)\n",
        "UD3C1_1 = distance.euclidean(labD3_1,labC1_3)\n",
        "UD3C1_2 = distance.euclidean(labD3_2,labC1_4)\n",
        "UD3C2_1 = distance.euclidean(labD3_1,labC2_3)\n",
        "UD3C2_2 = distance.euclidean(labD3_2,labC2_4)\n",
        "UD3C3_1 = distance.euclidean(labD3_1,labC3_3)\n",
        "UD3C3_2 = distance.euclidean(labD3_2,labC3_4)\n",
        "UD3C4_1 = distance.euclidean(labD3_1,labC4_3)\n",
        "UD3C4_2 = distance.euclidean(labD3_2,labC4_4)\n",
        "UD3D2_1 = distance.euclidean(labD3_1,labD2_3)\n",
        "UD3D2_2 = distance.euclidean(labD3_2,labD2_4)\n",
        "UD3D3_1 = distance.euclidean(labD3_1,labD3_3)\n",
        "UD3D3_2 = distance.euclidean(labD3_2,labD3_4)\n",
        "UD3D4_1 = distance.euclidean(labD3_1,labD4_3)\n",
        "UD3D4_2 = distance.euclidean(labD3_2,labD4_4)"
      ],
      "execution_count": null,
      "outputs": []
    },
    {
      "cell_type": "code",
      "metadata": {
        "id": "GUNMWbVGDGQt"
      },
      "source": [
        "UD3A1 = (UD3A1_1+UD3A1_2)/2\n",
        "UD3A2 = (UD3A2_1+UD3A2_2)/2\n",
        "UD3A3 = (UD3A3_1+UD3A3_2)/2\n",
        "UD3A3_5 = (UD3A3_51+UD3A3_52)/2\n",
        "UD3A4 = (UD3A4_1+UD3A4_2)/2\n",
        "UD3B1 = (UD3B1_1+UD3B1_2)/2\n",
        "UD3B2 = (UD3B2_1+UD3B2_2)/2\n",
        "UD3B3 = (UD3B3_1+UD3B3_2)/2\n",
        "UD3B4 = (UD3B4_1+UD3B4_2)/2\n",
        "UD3C1 = (UD3C1_1+UD3C1_2)/2\n",
        "UD3C2 = (UD3C2_1+UD3C2_2)/2\n",
        "UD3C3 = (UD3C3_1+UD3C3_2)/2\n",
        "UD3C4 = (UD3C4_1+UD3C4_2)/2\n",
        "UD3D2 = (UD3D2_1+UD3D2_2)/2\n",
        "UD3D3 = (UD3D3_1+UD3D3_2)/2\n",
        "UD3D4 = (UD3D4_1+UD3D4_2)/2"
      ],
      "execution_count": null,
      "outputs": []
    },
    {
      "cell_type": "markdown",
      "metadata": {
        "id": "VOBr4zvOgPvS"
      },
      "source": [
        "D4"
      ]
    },
    {
      "cell_type": "code",
      "metadata": {
        "id": "4MGLCxSXgQ7g"
      },
      "source": [
        "UD4A1_1 = distance.euclidean(labD4_2,labA1_4)\n",
        "UD4A1_2 = distance.euclidean(labD4_1,labA1_3)\n",
        "UD4A2_1 = distance.euclidean(labD4_2,labA2_4)\n",
        "UD4A2_2 = distance.euclidean(labD4_1,labA2_3)\n",
        "UD4A3_1 = distance.euclidean(labD4_2,labA3_4)\n",
        "UD4A3_2 = distance.euclidean(labD4_1,labA3_3)\n",
        "UD4A3_51 = distance.euclidean(labD4_2,labA3_504)\n",
        "UD4A3_52 = distance.euclidean(labD4_1,labA3_503)\n",
        "UD4A4_1 = distance.euclidean(labD4_2,labA4_4)\n",
        "UD4A4_2 = distance.euclidean(labD4_1,labA4_3)\n",
        "UD4B1_1 = distance.euclidean(labD4_2,labB1_4)\n",
        "UD4B1_2 = distance.euclidean(labD4_1,labB1_3)\n",
        "UD4B2_1 = distance.euclidean(labD4_2,labB2_4)\n",
        "UD4B2_2 = distance.euclidean(labD4_1,labB2_3)\n",
        "UD4B3_1 = distance.euclidean(labD4_2,labB3_4)\n",
        "UD4B3_2 = distance.euclidean(labD4_1,labB3_3)\n",
        "UD4B4_1 = distance.euclidean(labD4_2,labB4_4)\n",
        "UD4B4_2 = distance.euclidean(labD4_1,labB4_3)\n",
        "UD4C1_1 = distance.euclidean(labD4_2,labC1_4)\n",
        "UD4C1_2 = distance.euclidean(labD4_1,labC1_3)\n",
        "UD4C2_1 = distance.euclidean(labD4_2,labC2_4)\n",
        "UD4C2_2 = distance.euclidean(labD4_1,labC2_3)\n",
        "UD4C3_1 = distance.euclidean(labD4_2,labC3_4)\n",
        "UD4C3_2 = distance.euclidean(labD4_1,labC3_3)\n",
        "UD4C4_1 = distance.euclidean(labD4_2,labC4_4)\n",
        "UD4C4_2 = distance.euclidean(labD4_1,labC4_3)\n",
        "UD4D2_1 = distance.euclidean(labD4_2,labD2_4)\n",
        "UD4D2_2 = distance.euclidean(labD4_1,labD2_3)\n",
        "UD4D3_1 = distance.euclidean(labD4_2,labD3_4)\n",
        "UD4D3_2 = distance.euclidean(labD4_1,labD3_3)\n",
        "UD4D4_1 = distance.euclidean(labD4_2,labD4_4)\n",
        "UD4D4_2 = distance.euclidean(labD4_1,labD4_3)"
      ],
      "execution_count": null,
      "outputs": []
    },
    {
      "cell_type": "code",
      "metadata": {
        "id": "w4PC0cHHDabX"
      },
      "source": [
        "UD4A1 = (UD4A1_1+UD4A1_2)/2\n",
        "UD4A2 = (UD4A2_1+UD4A2_2)/2\n",
        "UD4A3 = (UD4A3_1+UD4A3_2)/2\n",
        "UD4A3_5 = (UD4A3_51+UD4A3_52)/2\n",
        "UD4A4 = (UD4A4_1+UD4A4_2)/2\n",
        "UD4B1 = (UD4B1_1+UD4B1_2)/2\n",
        "UD4B2 = (UD4B2_1+UD4B2_2)/2\n",
        "UD4B3 = (UD4B3_1+UD4B3_2)/2\n",
        "UD4B4 = (UD4B4_1+UD4B4_2)/2\n",
        "UD4C1 = (UD4C1_1+UD4C1_2)/2\n",
        "UD4C2 = (UD4C2_1+UD4C2_2)/2\n",
        "UD4C3 = (UD4C3_1+UD4C3_2)/2\n",
        "UD4C4 = (UD4C4_1+UD4C4_2)/2\n",
        "UD4D2 = (UD4D2_1+UD4D2_2)/2\n",
        "UD4D3 = (UD4D3_1+UD4D3_2)/2\n",
        "UD4D4 = (UD4D4_1+UD4D4_2)/2"
      ],
      "execution_count": null,
      "outputs": []
    },
    {
      "cell_type": "markdown",
      "metadata": {
        "id": "Yn7JfDL93Two"
      },
      "source": [
        "#สร้างตาราง Set 2 * Set 2"
      ]
    },
    {
      "cell_type": "code",
      "metadata": {
        "colab": {
          "base_uri": "https://localhost:8080/"
        },
        "id": "EUa2mp351eJZ",
        "outputId": "79782cb8-3430-4c9d-c825-ad6ff89f3bcf"
      },
      "source": [
        "pip install tabulate"
      ],
      "execution_count": null,
      "outputs": [
        {
          "output_type": "stream",
          "name": "stdout",
          "text": [
            "Requirement already satisfied: tabulate in /usr/local/lib/python3.7/dist-packages (0.8.9)\n"
          ]
        }
      ]
    },
    {
      "cell_type": "code",
      "metadata": {
        "id": "LLkOT09j1egf"
      },
      "source": [
        "from tabulate import tabulate"
      ],
      "execution_count": null,
      "outputs": []
    },
    {
      "cell_type": "code",
      "metadata": {
        "id": "jSJ4C9e61YMa"
      },
      "source": [
        "info = {'Shade Guide': ['A1', 'A2', 'A3', 'A3.5', 'A4', 'B1', 'B2', 'B3', 'B4', 'C1', 'C2', 'C3', 'C4', 'D2', 'D3', 'D4']\n",
        "        ,'A1': [UA1A1,UA1A2,UA1A3,UA1A3_5,UA1A4,UA1B1,UA1B2,UA1B3,UA1B4,UA1C1,UA1C2,UA1C3,UA1C4,UA1D2,UA1D3,UA1D4]\n",
        "        ,'A2': [UA2A1,UA2A2,UA2A3,UA2A3_5,UA2A4,UA2B1,UA2B2,UA2B3,UA2B4,UA2C1,UA2C2,UA2C3,UA2C4,UA2D2,UA2D3,UA2D4]\n",
        "        ,'A3': [UA3A1,UA3A2,UA3A3,UA3A3_5,UA3A4,UA3B1,UA3B2,UA3B3,UA3B4,UA3C1,UA3C2,UA3C3,UA3C4,UA3D2,UA3D3,UA3D4]\n",
        "        ,'A3.5': [UA3_5A1,UA3_5A2,UA3_5A3,UA3_5A3_5,UA3_5A4,UA3_5B1,UA3_5B2,UA3_5B3,UA3_5B4,UA3_5C1,UA3_5C2,UA3_5C3,UA3_5C4,UA3_5D2,UA3_5D3,UA3_5D4]\n",
        "        ,'A4': [UA4A1,UA4A2,UA4A3,UA4A3_5,UA4A4,UA4B1,UA4B2,UA4B3,UA4B4,UA4C1,UA4C2,UA4C3,UA4C4,UA4D2,UA4D3,UA4D4]\n",
        "        ,'B1': [UB1A1,UB1A2,UB1A3,UB1A3_5,UB1A4,UB1B1,UB1B2,UB1B3,UB1B4,UB1C1,UB1C2,UB1C3,UB1C4,UB1D2,UB1D3,UB1D4]\n",
        "        ,'B2': [UB2A1,UB2A2,UB2A3,UB2A3_5,UB2A4,UB2B1,UB2B2,UB2B3,UB2B4,UB2C1,UB2C2,UB2C3,UB2C4,UB2D2,UB2D3,UB2D4]\n",
        "        ,'B3': [UB3A1,UB3A2,UB3A3,UB3A3_5,UB3A4,UB3B1,UB3B2,UB3B3,UB3B4,UB3C1,UB3C2,UB3C3,UB3C4,UB3D2,UB3D3,UB3D4]\n",
        "        ,'B4': [UB4A1,UB4A2,UB4A3,UB4A3_5,UB4A4,UB4B1,UB4B2,UB4B3,UB4B4,UB4C1,UB4C2,UB4C3,UB4C4,UB4D2,UB4D3,UB4D4]\n",
        "        ,'C1': [UC1A1,UC1A2,UC1A3,UC1A3_5,UC1A4,UC1B1,UC1B2,UC1B3,UC1B4,UC1C1,UC1C2,UC1C3,UC1C4,UC1D2,UC1D3,UC1D4]\n",
        "        ,'C2': [UC2A1,UC2A2,UC2A3,UC2A3_5,UC2A4,UC2B1,UC2B2,UC2B3,UC2B4,UC2C1,UC2C2,UC2C3,UC2C4,UC2D2,UC2D3,UC2D4]\n",
        "        ,'C3': [UC3A1,UC3A2,UC3A3,UC3A3_5,UC3A4,UC3B1,UC3B2,UC3B3,UC3B4,UC3C1,UC3C2,UC3C3,UC3C4,UC3D2,UC3D3,UC3D4]\n",
        "        ,'C4': [UC4A1,UC4A2,UC4A3,UC4A3_5,UC4A4,UC4B1,UC4B2,UC4B3,UC4B4,UC4C1,UC4C2,UC4C3,UC4C4,UC4D2,UC4D3,UC4D4]\n",
        "        ,'D2': [UD2A1,UD2A2,UD2A3,UD2A3_5,UD2A4,UD2B1,UD2B2,UD2B3,UD2B4,UD2C1,UD2C2,UD2C3,UD2C4,UD2D2,UD2D3,UD2D4]\n",
        "        ,'D3': [UD3A1,UD3A2,UD3A3,UD3A3_5,UD3A4,UD3B1,UD3B2,UD3B3,UD3B4,UD3C1,UD3C2,UD3C3,UD3C4,UD3D2,UD3D3,UD3D4]\n",
        "        ,'D4': [UD4A1,UD4A2,UD4A3,UD4A3_5,UD4A4,UD4B1,UD4B2,UD4B3,UD4B4,UD4C1,UD4C2,UD4C3,UD4C4,UD4D2,UD4D3,UD4D4] }"
      ],
      "execution_count": null,
      "outputs": []
    },
    {
      "cell_type": "code",
      "metadata": {
        "colab": {
          "base_uri": "https://localhost:8080/"
        },
        "id": "RrQzU6uw3h9h",
        "outputId": "c9e386fb-8a24-4637-c9be-366330b147db"
      },
      "source": [
        "print(tabulate(info, headers='keys', tablefmt='fancy_grid'))"
      ],
      "execution_count": null,
      "outputs": [
        {
          "output_type": "stream",
          "name": "stdout",
          "text": [
            "╒═══════════════╤══════════╤══════════╤══════════╤══════════╤═══════════╤══════════╤══════════╤══════════╤══════════╤══════════╤══════════╤══════════╤══════════╤══════════╤══════════╤══════════╕\n",
            "│ Shade Guide   │       A1 │       A2 │       A3 │     A3.5 │        A4 │       B1 │       B2 │       B3 │       B4 │       C1 │       C2 │       C3 │       C4 │       D2 │       D3 │       D4 │\n",
            "╞═══════════════╪══════════╪══════════╪══════════╪══════════╪═══════════╪══════════╪══════════╪══════════╪══════════╪══════════╪══════════╪══════════╪══════════╪══════════╪══════════╪══════════╡\n",
            "│ A1            │  4.35075 │  8.26577 │  8.26577 │ 21.7113  │ 20.814    │  8.25616 │  6.71934 │ 15.3477  │ 16.7649  │ 11.4498  │ 16.1765  │ 21.3488  │ 32.488   │  8.71781 │ 16.3164  │ 20.9492  │\n",
            "├───────────────┼──────────┼──────────┼──────────┼──────────┼───────────┼──────────┼──────────┼──────────┼──────────┼──────────┼──────────┼──────────┼──────────┼──────────┼──────────┼──────────┤\n",
            "│ A2            │ 11.5523  │  2.00969 │  2.89668 │ 11.4775  │ 11.0577   │  8.86323 │  4.17137 │  5.99649 │ 10.43    │  3.20933 │  9.58482 │ 13.0707  │ 23.966   │  6.19176 │  4.35645 │  8.5353  │\n",
            "├───────────────┼──────────┼──────────┼──────────┼──────────┼───────────┼──────────┼──────────┼──────────┼──────────┼──────────┼──────────┼──────────┼──────────┼──────────┼──────────┼──────────┤\n",
            "│ A3            │  8.97714 │  2.86501 │  2.86718 │  7.87829 │ 14.066    │  9.31952 │  8.72308 │  8.35771 │  5.8178  │  6.73404 │  7.4988  │ 15.4815  │ 20.1999  │  7.76972 │  5.49992 │ 13.7606  │\n",
            "├───────────────┼──────────┼──────────┼──────────┼──────────┼───────────┼──────────┼──────────┼──────────┼──────────┼──────────┼──────────┼──────────┼──────────┼──────────┼──────────┼──────────┤\n",
            "│ A3.5          │ 23.2735  │ 10.7794  │  7.56602 │  3.67025 │  2.36868  │ 18.4172  │ 15.4199  │  4.74835 │  4.52378 │ 12.7328  │ 10.4284  │  5.05478 │ 14.8522  │ 16.0716  │  8.64067 │  6.32547 │\n",
            "├───────────────┼──────────┼──────────┼──────────┼──────────┼───────────┼──────────┼──────────┼──────────┼──────────┼──────────┼──────────┼──────────┼──────────┼──────────┼──────────┼──────────┤\n",
            "│ A4            │ 20.6723  │ 15.9257  │  9.36928 │  4.49341 │  0.513535 │ 22.3419  │ 17.5705  │ 11.9633  │  8.50084 │ 16.182   │  8.79757 │  5.38639 │ 10.0452  │ 14.6404  │  8.03876 │  7.18145 │\n",
            "├───────────────┼──────────┼──────────┼──────────┼──────────┼───────────┼──────────┼──────────┼──────────┼──────────┼──────────┼──────────┼──────────┼──────────┼──────────┼──────────┼──────────┤\n",
            "│ B1            │  8.19958 │  6.18313 │  9.90109 │ 17.0038  │ 18.3258   │  9.41159 │  8.03121 │ 12.3502  │ 15.4553  │  4.65008 │ 12.9456  │ 18.1317  │ 27.3218  │  5.44261 │  9.27666 │ 14.3059  │\n",
            "├───────────────┼──────────┼──────────┼──────────┼──────────┼───────────┼──────────┼──────────┼──────────┼──────────┼──────────┼──────────┼──────────┼──────────┼──────────┼──────────┼──────────┤\n",
            "│ B2            │  5.92357 │  2.3279  │  3.80543 │ 17.1575  │ 16.4006   │  7.43919 │  2.27442 │  8.70232 │ 13.0045  │  6.32626 │ 12.7602  │ 14.919   │ 28.8655  │  6.89759 │ 12.8078  │ 14.3232  │\n",
            "├───────────────┼──────────┼──────────┼──────────┼──────────┼───────────┼──────────┼──────────┼──────────┼──────────┼──────────┼──────────┼──────────┼──────────┼──────────┼──────────┼──────────┤\n",
            "│ B3            │ 17.7917  │  6.3735  │  3.31519 │  4.72722 │ 10.4786   │ 14.1525  │  8.14248 │  4.51139 │  3.50196 │  9.25948 │  7.37269 │  8.23756 │ 19.3385  │ 10.8977  │  5.14241 │  8.25856 │\n",
            "├───────────────┼──────────┼──────────┼──────────┼──────────┼───────────┼──────────┼──────────┼──────────┼──────────┼──────────┼──────────┼──────────┼──────────┼──────────┼──────────┼──────────┤\n",
            "│ B4            │ 14.6909  │  8.18585 │  5.37517 │  7.23441 │  7.60012  │ 16.7636  │ 10.2018  │  5.04233 │  2.29458 │ 11.1218  │  8.60963 │ 10.07    │ 20.4895  │ 12.8634  │  8.04319 │  5.65014 │\n",
            "├───────────────┼──────────┼──────────┼──────────┼──────────┼───────────┼──────────┼──────────┼──────────┼──────────┼──────────┼──────────┼──────────┼──────────┼──────────┼──────────┼──────────┤\n",
            "│ C1            │ 10.4374  │  4.95362 │  4.7414  │ 10.9018  │ 15.2314   │  7.56802 │  6.75305 │  7.80006 │ 10.1687  │  3.27763 │  6.63443 │ 11.3352  │ 21.2497  │  4.97198 │  4.12343 │ 10.8062  │\n",
            "├───────────────┼──────────┼──────────┼──────────┼──────────┼───────────┼──────────┼──────────┼──────────┼──────────┼──────────┼──────────┼──────────┼──────────┼──────────┼──────────┼──────────┤\n",
            "│ C2            │ 14.2972  │ 10.9628  │ 10.237   │  7.90162 │  5.91112  │ 11.8278  │ 11.7146  │  6.27357 │  9.05285 │  6.26689 │  1.34662 │  7.91748 │ 15.2821  │  7.15608 │  1.93703 │  5.14408 │\n",
            "├───────────────┼──────────┼──────────┼──────────┼──────────┼───────────┼──────────┼──────────┼──────────┼──────────┼──────────┼──────────┼──────────┼──────────┼──────────┼──────────┼──────────┤\n",
            "│ C3            │ 21.8723  │ 14.8342  │  9.50993 │  8.91407 │  3.49187  │ 17.1331  │ 18.9403  │  8.66434 │ 12.7256  │ 12.1538  │  7.24947 │  5.62629 │  7.5062  │ 12.5111  │ 12.5733  │  3.29733 │\n",
            "├───────────────┼──────────┼──────────┼──────────┼──────────┼───────────┼──────────┼──────────┼──────────┼──────────┼──────────┼──────────┼──────────┼──────────┼──────────┼──────────┼──────────┤\n",
            "│ C4            │ 30.1869  │ 23.4484  │ 23.7587  │ 13.6705  │  7.52877  │ 29.7073  │ 26.7598  │ 20.1657  │ 18.2162  │ 24.565   │ 16.3851  │  9.96643 │  1.00482 │ 21.7351  │ 16.3208  │ 14.9963  │\n",
            "├───────────────┼──────────┼──────────┼──────────┼──────────┼───────────┼──────────┼──────────┼──────────┼──────────┼──────────┼──────────┼──────────┼──────────┼──────────┼──────────┼──────────┤\n",
            "│ D2            │ 12.5886  │  6.21934 │  8.93306 │ 13.7949  │ 15.875    │  4.33744 │  7.4817  │ 11.2793  │ 13.5896  │  3.33864 │  9.5922  │ 16.1368  │ 23.9467  │  2.26418 │  7.28266 │ 14.4234  │\n",
            "├───────────────┼──────────┼──────────┼──────────┼──────────┼───────────┼──────────┼──────────┼──────────┼──────────┼──────────┼──────────┼──────────┼──────────┼──────────┼──────────┼──────────┤\n",
            "│ D3            │ 12.5953  │  7.12162 │  8.86323 │  9.78232 │ 10.0624   │ 11.5135  │  6.63368 │  4.72241 │  7.68166 │  5.80956 │  4.6918  │  6.41006 │ 20.7276  │  8.40743 │  4.50131 │  7.58661 │\n",
            "├───────────────┼──────────┼──────────┼──────────┼──────────┼───────────┼──────────┼──────────┼──────────┼──────────┼──────────┼──────────┼──────────┼──────────┼──────────┼──────────┼──────────┤\n",
            "│ D4            │ 19.5223  │ 13.1798  │  7.13433 │  8.24787 │  7.70462  │ 17.0198  │ 17.0028  │  6.834   │  7.75448 │ 10.9687  │  6.42153 │  8.39419 │ 10.1343  │ 11.9199  │  8.0503  │  6.24573 │\n",
            "╘═══════════════╧══════════╧══════════╧══════════╧══════════╧═══════════╧══════════╧══════════╧══════════╧══════════╧══════════╧══════════╧══════════╧══════════╧══════════╧══════════╧══════════╛\n"
          ]
        }
      ]
    }
  ]
}