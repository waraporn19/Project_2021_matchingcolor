{
  "nbformat": 4,
  "nbformat_minor": 0,
  "metadata": {
    "colab": {
      "name": " Data_set1_set1.ipynb",
      "provenance": [],
      "include_colab_link": true
    },
    "kernelspec": {
      "name": "python3",
      "display_name": "Python 3"
    },
    "language_info": {
      "name": "python"
    }
  },
  "cells": [
    {
      "cell_type": "markdown",
      "metadata": {
        "id": "view-in-github",
        "colab_type": "text"
      },
      "source": [
        "<a href=\"https://colab.research.google.com/github/waraporn19/Project_2021_matchingcolor/blob/main/Data_set1_set3.ipynb\" target=\"_parent\"><img src=\"https://colab.research.google.com/assets/colab-badge.svg\" alt=\"Open In Colab\"/></a>"
      ]
    },
    {
      "cell_type": "code",
      "metadata": {
        "id": "QfJJWz3NE5EF"
      },
      "source": [
        "import pandas as pd"
      ],
      "execution_count": null,
      "outputs": []
    },
    {
      "cell_type": "code",
      "metadata": {
        "id": "bbhDYuOZFkrI"
      },
      "source": [
        "from google.colab import drive \n",
        "drive.mount('/content/drive')"
      ],
      "execution_count": null,
      "outputs": []
    },
    {
      "cell_type": "code",
      "metadata": {
        "id": "gCZ9gB08FlpD"
      },
      "source": [
        "import os"
      ],
      "execution_count": null,
      "outputs": []
    },
    {
      "cell_type": "code",
      "metadata": {
        "id": "bs4sCMIlFmtN"
      },
      "source": [
        "path = '/content/drive/My Drive/shadeimg'"
      ],
      "execution_count": null,
      "outputs": []
    },
    {
      "cell_type": "code",
      "metadata": {
        "id": "QXJgJ1ZiFv2C"
      },
      "source": [
        "os.listdir(path)"
      ],
      "execution_count": null,
      "outputs": []
    },
    {
      "cell_type": "code",
      "metadata": {
        "id": "hIG_rvGQF-Lh"
      },
      "source": [
        "file_path = os.path.join(path,'1 teeth .xlsx')\n",
        "print(file_path)"
      ],
      "execution_count": null,
      "outputs": []
    },
    {
      "cell_type": "code",
      "metadata": {
        "id": "WU-47FCzGAhX"
      },
      "source": [
        "table1 = pd.read_excel(file_path)"
      ],
      "execution_count": null,
      "outputs": []
    },
    {
      "cell_type": "code",
      "metadata": {
        "id": "BQB5ZR4zFsSX"
      },
      "source": [
        "!pip install azure-storage-blob==2.1.0"
      ],
      "execution_count": null,
      "outputs": []
    },
    {
      "cell_type": "code",
      "metadata": {
        "id": "MmtL3ePjGKNA"
      },
      "source": [
        "from azure.storage.blob import BlockBlobService\n",
        "import os"
      ],
      "execution_count": null,
      "outputs": []
    },
    {
      "cell_type": "code",
      "metadata": {
        "id": "cBYDeSzyGMrs"
      },
      "source": [
        "blob_service_client = BlockBlobService(account_name='dent01', account_key='CuShY0B4TZJ84TjzPpaHxyrHOpO73aGXeCpdVq7x26OjIlQ1HOz+3DVc9pDEj9BdcEL8odFuTRF0mOAE+aCgiw==')"
      ],
      "execution_count": null,
      "outputs": []
    },
    {
      "cell_type": "markdown",
      "metadata": {
        "id": "29a1CpssMfaN"
      },
      "source": [
        "1. สร้างตัวแปรเฉดไกด์"
      ]
    },
    {
      "cell_type": "code",
      "metadata": {
        "id": "b7l_Shd1GOxX"
      },
      "source": [
        "A10=''\n",
        "A10=''\n",
        "A10=''\n",
        "A10=''\n",
        "A20=''\n",
        "A20=''\n",
        "A20=''\n",
        "A20=''\n",
        "A20=''\n",
        "A20=''\n",
        "A20=''\n",
        "A20=''\n",
        "A3_50=''\n",
        "A3_50=''\n",
        "A3_50=''\n",
        "A3_50=''\n",
        "A40=''\n",
        "A40=''\n",
        "A40=''\n",
        "A40=''\n",
        "B10=''\n",
        "B10=''\n",
        "B10=''\n",
        "B10=''\n",
        "B20=''\n",
        "B20=''\n",
        "B20=''\n",
        "B20=''\n",
        "B30=''\n",
        "B30=''\n",
        "B30=''\n",
        "B30=''\n",
        "B40=''\n",
        "B40=''\n",
        "B40=''\n",
        "B40=''"
      ],
      "execution_count": null,
      "outputs": []
    },
    {
      "cell_type": "code",
      "metadata": {
        "id": "udfq6Zm1KS7f"
      },
      "source": [
        "C10=''\n",
        "C10=''\n",
        "C10=''\n",
        "C10=''\n",
        "C20=''\n",
        "C20=''\n",
        "C20=''\n",
        "C20=''\n",
        "C30=''\n",
        "C30=''\n",
        "C30=''\n",
        "C30=''\n",
        "C40=''\n",
        "C40=''\n",
        "C40=''\n",
        "C40=''\n",
        "D20=''\n",
        "D20=''\n",
        "D20=''\n",
        "D20=''\n",
        "D30=''\n",
        "D30=''\n",
        "D30=''\n",
        "D30=''\n",
        "D40=''\n",
        "D40=''\n",
        "D40=''\n",
        "D40=''"
      ],
      "execution_count": null,
      "outputs": []
    },
    {
      "cell_type": "markdown",
      "metadata": {
        "id": "3TcJcECMMc3N"
      },
      "source": [
        "2. ดึงรูป"
      ]
    },
    {
      "cell_type": "code",
      "metadata": {
        "id": "dfvpEWdmMa6t"
      },
      "source": [
        "full_path_to_file2 = os.path.join(A101) \n",
        "blob_service_client.get_blob_to_path('shadeimg', full_path_to_file2, full_path_to_file2)"
      ],
      "execution_count": null,
      "outputs": []
    },
    {
      "cell_type": "code",
      "metadata": {
        "id": "K7dLDFbCMpvz"
      },
      "source": [
        "full_path_to_file2 = os.path.join(A101) \n",
        "blob_service_client.get_blob_to_path('shadeimg', full_path_to_file2, full_path_to_file2)"
      ],
      "execution_count": null,
      "outputs": []
    },
    {
      "cell_type": "code",
      "metadata": {
        "id": "ossmoCKeMqXd"
      },
      "source": [
        "full_path_to_file2 = os.path.join(A101) \n",
        "blob_service_client.get_blob_to_path('shadeimg', full_path_to_file2, full_path_to_file2)"
      ],
      "execution_count": null,
      "outputs": []
    },
    {
      "cell_type": "code",
      "metadata": {
        "id": "LWPDqUeuMqr2"
      },
      "source": [
        "full_path_to_file2 = os.path.join(A101) \n",
        "blob_service_client.get_blob_to_path('shadeimg', full_path_to_file2, full_path_to_file2)"
      ],
      "execution_count": null,
      "outputs": []
    },
    {
      "cell_type": "code",
      "metadata": {
        "id": "PyTA7XkHMq9w"
      },
      "source": [
        "full_path_to_file2 = os.path.join(A101) \n",
        "blob_service_client.get_blob_to_path('shadeimg', full_path_to_file2, full_path_to_file2)"
      ],
      "execution_count": null,
      "outputs": []
    },
    {
      "cell_type": "code",
      "metadata": {
        "id": "0Wsi63jYMrNy"
      },
      "source": [
        "full_path_to_file2 = os.path.join(A101) \n",
        "blob_service_client.get_blob_to_path('shadeimg', full_path_to_file2, full_path_to_file2)"
      ],
      "execution_count": null,
      "outputs": []
    },
    {
      "cell_type": "code",
      "metadata": {
        "id": "sRO02lHCMyU8"
      },
      "source": [
        "full_path_to_file2 = os.path.join(A101) \n",
        "blob_service_client.get_blob_to_path('shadeimg', full_path_to_file2, full_path_to_file2)"
      ],
      "execution_count": null,
      "outputs": []
    },
    {
      "cell_type": "code",
      "metadata": {
        "id": "5Ag__xJLMy0n"
      },
      "source": [
        "full_path_to_file2 = os.path.join(A101) \n",
        "blob_service_client.get_blob_to_path('shadeimg', full_path_to_file2, full_path_to_file2)"
      ],
      "execution_count": null,
      "outputs": []
    },
    {
      "cell_type": "code",
      "metadata": {
        "id": "hXvuZHdVMzGJ"
      },
      "source": [
        "full_path_to_file2 = os.path.join(A101) \n",
        "blob_service_client.get_blob_to_path('shadeimg', full_path_to_file2, full_path_to_file2)"
      ],
      "execution_count": null,
      "outputs": []
    },
    {
      "cell_type": "code",
      "metadata": {
        "id": "tNBaXgTLMzW1"
      },
      "source": [
        "full_path_to_file2 = os.path.join(A101) \n",
        "blob_service_client.get_blob_to_path('shadeimg', full_path_to_file2, full_path_to_file2)"
      ],
      "execution_count": null,
      "outputs": []
    },
    {
      "cell_type": "code",
      "metadata": {
        "id": "guP0y28iMzlX"
      },
      "source": [
        "full_path_to_file2 = os.path.join(A101) \n",
        "blob_service_client.get_blob_to_path('shadeimg', full_path_to_file2, full_path_to_file2)"
      ],
      "execution_count": null,
      "outputs": []
    },
    {
      "cell_type": "code",
      "metadata": {
        "id": "_tNHaAmmMz4P"
      },
      "source": [
        "full_path_to_file2 = os.path.join(A101) \n",
        "blob_service_client.get_blob_to_path('shadeimg', full_path_to_file2, full_path_to_file2)"
      ],
      "execution_count": null,
      "outputs": []
    },
    {
      "cell_type": "code",
      "metadata": {
        "id": "sTyFzeTgM1Kn"
      },
      "source": [
        "full_path_to_file2 = os.path.join(A101) \n",
        "blob_service_client.get_blob_to_path('shadeimg', full_path_to_file2, full_path_to_file2)"
      ],
      "execution_count": null,
      "outputs": []
    },
    {
      "cell_type": "code",
      "metadata": {
        "id": "GfOwcLmUM1cV"
      },
      "source": [
        "full_path_to_file2 = os.path.join(A101) \n",
        "blob_service_client.get_blob_to_path('shadeimg', full_path_to_file2, full_path_to_file2)"
      ],
      "execution_count": null,
      "outputs": []
    },
    {
      "cell_type": "code",
      "metadata": {
        "id": "McP4ADOjM1sG"
      },
      "source": [
        "full_path_to_file2 = os.path.join(A101) \n",
        "blob_service_client.get_blob_to_path('shadeimg', full_path_to_file2, full_path_to_file2)"
      ],
      "execution_count": null,
      "outputs": []
    },
    {
      "cell_type": "code",
      "metadata": {
        "id": "U9Vqt91zM1_7"
      },
      "source": [
        "full_path_to_file2 = os.path.join(A101) \n",
        "blob_service_client.get_blob_to_path('shadeimg', full_path_to_file2, full_path_to_file2)"
      ],
      "execution_count": null,
      "outputs": []
    },
    {
      "cell_type": "code",
      "metadata": {
        "id": "p__p689dM2Y4"
      },
      "source": [
        "full_path_to_file2 = os.path.join(A101) \n",
        "blob_service_client.get_blob_to_path('shadeimg', full_path_to_file2, full_path_to_file2)"
      ],
      "execution_count": null,
      "outputs": []
    },
    {
      "cell_type": "code",
      "metadata": {
        "id": "GxnzlcImM2zK"
      },
      "source": [
        "full_path_to_file2 = os.path.join(A101) \n",
        "blob_service_client.get_blob_to_path('shadeimg', full_path_to_file2, full_path_to_file2)"
      ],
      "execution_count": null,
      "outputs": []
    },
    {
      "cell_type": "code",
      "metadata": {
        "id": "Cb0iSM1LM3Fh"
      },
      "source": [
        "full_path_to_file2 = os.path.join(A101) \n",
        "blob_service_client.get_blob_to_path('shadeimg', full_path_to_file2, full_path_to_file2)"
      ],
      "execution_count": null,
      "outputs": []
    },
    {
      "cell_type": "code",
      "metadata": {
        "id": "lw_8lwTjM3Ym"
      },
      "source": [
        "full_path_to_file2 = os.path.join(A101) \n",
        "blob_service_client.get_blob_to_path('shadeimg', full_path_to_file2, full_path_to_file2)"
      ],
      "execution_count": null,
      "outputs": []
    },
    {
      "cell_type": "code",
      "metadata": {
        "id": "TE6rC95XM3p1"
      },
      "source": [
        "full_path_to_file2 = os.path.join(A101) \n",
        "blob_service_client.get_blob_to_path('shadeimg', full_path_to_file2, full_path_to_file2)"
      ],
      "execution_count": null,
      "outputs": []
    },
    {
      "cell_type": "code",
      "metadata": {
        "id": "LckPT4ofM35k"
      },
      "source": [
        "full_path_to_file2 = os.path.join(A101) \n",
        "blob_service_client.get_blob_to_path('shadeimg', full_path_to_file2, full_path_to_file2)"
      ],
      "execution_count": null,
      "outputs": []
    },
    {
      "cell_type": "code",
      "metadata": {
        "id": "I_0IZTEkM4Rk"
      },
      "source": [
        "full_path_to_file2 = os.path.join(A101) \n",
        "blob_service_client.get_blob_to_path('shadeimg', full_path_to_file2, full_path_to_file2)"
      ],
      "execution_count": null,
      "outputs": []
    },
    {
      "cell_type": "code",
      "metadata": {
        "id": "m6mrMVIfM4f6"
      },
      "source": [
        "full_path_to_file2 = os.path.join(A101) \n",
        "blob_service_client.get_blob_to_path('shadeimg', full_path_to_file2, full_path_to_file2)"
      ],
      "execution_count": null,
      "outputs": []
    },
    {
      "cell_type": "code",
      "metadata": {
        "id": "sS3PN1dVM4v7"
      },
      "source": [
        "full_path_to_file2 = os.path.join(A101) \n",
        "blob_service_client.get_blob_to_path('shadeimg', full_path_to_file2, full_path_to_file2)"
      ],
      "execution_count": null,
      "outputs": []
    },
    {
      "cell_type": "code",
      "metadata": {
        "id": "0Q_wZqWXM5Ak"
      },
      "source": [
        "full_path_to_file2 = os.path.join(A101) \n",
        "blob_service_client.get_blob_to_path('shadeimg', full_path_to_file2, full_path_to_file2)"
      ],
      "execution_count": null,
      "outputs": []
    },
    {
      "cell_type": "code",
      "metadata": {
        "id": "9TsD8BWYM5PC"
      },
      "source": [
        "full_path_to_file2 = os.path.join(A101) \n",
        "blob_service_client.get_blob_to_path('shadeimg', full_path_to_file2, full_path_to_file2)"
      ],
      "execution_count": null,
      "outputs": []
    },
    {
      "cell_type": "code",
      "metadata": {
        "id": "lkbjr25aM5l2"
      },
      "source": [
        "full_path_to_file2 = os.path.join(A101) \n",
        "blob_service_client.get_blob_to_path('shadeimg', full_path_to_file2, full_path_to_file2)"
      ],
      "execution_count": null,
      "outputs": []
    },
    {
      "cell_type": "code",
      "metadata": {
        "id": "pKlOz4Y9M5zI"
      },
      "source": [
        "full_path_to_file2 = os.path.join(A101) \n",
        "blob_service_client.get_blob_to_path('shadeimg', full_path_to_file2, full_path_to_file2)"
      ],
      "execution_count": null,
      "outputs": []
    },
    {
      "cell_type": "code",
      "metadata": {
        "id": "FBXvBSTRM6Ff"
      },
      "source": [
        "full_path_to_file2 = os.path.join(A101) \n",
        "blob_service_client.get_blob_to_path('shadeimg', full_path_to_file2, full_path_to_file2)"
      ],
      "execution_count": null,
      "outputs": []
    },
    {
      "cell_type": "code",
      "metadata": {
        "id": "tOjiOM5WM6VJ"
      },
      "source": [
        "full_path_to_file2 = os.path.join(A101) \n",
        "blob_service_client.get_blob_to_path('shadeimg', full_path_to_file2, full_path_to_file2)"
      ],
      "execution_count": null,
      "outputs": []
    },
    {
      "cell_type": "code",
      "metadata": {
        "id": "sB4eY_m8M6zX"
      },
      "source": [
        "full_path_to_file2 = os.path.join(A101) \n",
        "blob_service_client.get_blob_to_path('shadeimg', full_path_to_file2, full_path_to_file2)"
      ],
      "execution_count": null,
      "outputs": []
    },
    {
      "cell_type": "code",
      "metadata": {
        "id": "CrE9IrOKM6_x"
      },
      "source": [
        "full_path_to_file2 = os.path.join(A101) \n",
        "blob_service_client.get_blob_to_path('shadeimg', full_path_to_file2, full_path_to_file2)"
      ],
      "execution_count": null,
      "outputs": []
    },
    {
      "cell_type": "code",
      "metadata": {
        "id": "VI-jWhY7M7Nn"
      },
      "source": [
        "full_path_to_file2 = os.path.join(A101) \n",
        "blob_service_client.get_blob_to_path('shadeimg', full_path_to_file2, full_path_to_file2)"
      ],
      "execution_count": null,
      "outputs": []
    },
    {
      "cell_type": "code",
      "metadata": {
        "id": "u1-1VQHsM7gc"
      },
      "source": [
        "full_path_to_file2 = os.path.join(A101) \n",
        "blob_service_client.get_blob_to_path('shadeimg', full_path_to_file2, full_path_to_file2)"
      ],
      "execution_count": null,
      "outputs": []
    },
    {
      "cell_type": "code",
      "metadata": {
        "id": "sYU6Ee-_M7vh"
      },
      "source": [
        "full_path_to_file2 = os.path.join(A101) \n",
        "blob_service_client.get_blob_to_path('shadeimg', full_path_to_file2, full_path_to_file2)"
      ],
      "execution_count": null,
      "outputs": []
    },
    {
      "cell_type": "code",
      "metadata": {
        "id": "ozshiopsM8KV"
      },
      "source": [
        "full_path_to_file2 = os.path.join(A101) \n",
        "blob_service_client.get_blob_to_path('shadeimg', full_path_to_file2, full_path_to_file2)"
      ],
      "execution_count": null,
      "outputs": []
    },
    {
      "cell_type": "code",
      "metadata": {
        "id": "d1NH8nHMM8aw"
      },
      "source": [
        "full_path_to_file2 = os.path.join(A101) \n",
        "blob_service_client.get_blob_to_path('shadeimg', full_path_to_file2, full_path_to_file2)"
      ],
      "execution_count": null,
      "outputs": []
    },
    {
      "cell_type": "code",
      "metadata": {
        "id": "VpSFswEtM8q1"
      },
      "source": [
        "full_path_to_file2 = os.path.join(A101) \n",
        "blob_service_client.get_blob_to_path('shadeimg', full_path_to_file2, full_path_to_file2)"
      ],
      "execution_count": null,
      "outputs": []
    },
    {
      "cell_type": "code",
      "metadata": {
        "id": "WvwLHiKSM84s"
      },
      "source": [
        "full_path_to_file2 = os.path.join(A101) \n",
        "blob_service_client.get_blob_to_path('shadeimg', full_path_to_file2, full_path_to_file2)"
      ],
      "execution_count": null,
      "outputs": []
    },
    {
      "cell_type": "code",
      "metadata": {
        "id": "XS24LMqdM9Jz"
      },
      "source": [
        "full_path_to_file2 = os.path.join(A101) \n",
        "blob_service_client.get_blob_to_path('shadeimg', full_path_to_file2, full_path_to_file2)"
      ],
      "execution_count": null,
      "outputs": []
    },
    {
      "cell_type": "code",
      "metadata": {
        "id": "zGEn6v4MM9n7"
      },
      "source": [
        "full_path_to_file2 = os.path.join(A101) \n",
        "blob_service_client.get_blob_to_path('shadeimg', full_path_to_file2, full_path_to_file2)"
      ],
      "execution_count": null,
      "outputs": []
    },
    {
      "cell_type": "code",
      "metadata": {
        "id": "ZYWoqG-PM91q"
      },
      "source": [
        "full_path_to_file2 = os.path.join(A101) \n",
        "blob_service_client.get_blob_to_path('shadeimg', full_path_to_file2, full_path_to_file2)"
      ],
      "execution_count": null,
      "outputs": []
    },
    {
      "cell_type": "code",
      "metadata": {
        "id": "ZaCIgZwuM-F6"
      },
      "source": [
        "full_path_to_file2 = os.path.join(A101) \n",
        "blob_service_client.get_blob_to_path('shadeimg', full_path_to_file2, full_path_to_file2)"
      ],
      "execution_count": null,
      "outputs": []
    },
    {
      "cell_type": "code",
      "metadata": {
        "id": "pYM6gQadM-WB"
      },
      "source": [
        "full_path_to_file2 = os.path.join(A101) \n",
        "blob_service_client.get_blob_to_path('shadeimg', full_path_to_file2, full_path_to_file2)"
      ],
      "execution_count": null,
      "outputs": []
    },
    {
      "cell_type": "code",
      "metadata": {
        "id": "ZT2WI6_SM-l1"
      },
      "source": [
        "full_path_to_file2 = os.path.join(A101) \n",
        "blob_service_client.get_blob_to_path('shadeimg', full_path_to_file2, full_path_to_file2)"
      ],
      "execution_count": null,
      "outputs": []
    },
    {
      "cell_type": "code",
      "metadata": {
        "id": "EEeOjowDM-9y"
      },
      "source": [
        "full_path_to_file2 = os.path.join(A101) \n",
        "blob_service_client.get_blob_to_path('shadeimg', full_path_to_file2, full_path_to_file2)"
      ],
      "execution_count": null,
      "outputs": []
    },
    {
      "cell_type": "code",
      "metadata": {
        "id": "xewKWFZOM_Lf"
      },
      "source": [
        "full_path_to_file2 = os.path.join(A101) \n",
        "blob_service_client.get_blob_to_path('shadeimg', full_path_to_file2, full_path_to_file2)"
      ],
      "execution_count": null,
      "outputs": []
    },
    {
      "cell_type": "code",
      "metadata": {
        "id": "g678A78gM_Zs"
      },
      "source": [
        "full_path_to_file2 = os.path.join(A101) \n",
        "blob_service_client.get_blob_to_path('shadeimg', full_path_to_file2, full_path_to_file2)"
      ],
      "execution_count": null,
      "outputs": []
    },
    {
      "cell_type": "code",
      "metadata": {
        "id": "-VduLUrmM_rU"
      },
      "source": [
        "full_path_to_file2 = os.path.join(A101) \n",
        "blob_service_client.get_blob_to_path('shadeimg', full_path_to_file2, full_path_to_file2)"
      ],
      "execution_count": null,
      "outputs": []
    },
    {
      "cell_type": "code",
      "metadata": {
        "id": "xObkE1AjM_4Y"
      },
      "source": [
        "full_path_to_file2 = os.path.join(A101) \n",
        "blob_service_client.get_blob_to_path('shadeimg', full_path_to_file2, full_path_to_file2)"
      ],
      "execution_count": null,
      "outputs": []
    },
    {
      "cell_type": "code",
      "metadata": {
        "id": "OrsILvN3NANL"
      },
      "source": [
        "full_path_to_file2 = os.path.join(A101) \n",
        "blob_service_client.get_blob_to_path('shadeimg', full_path_to_file2, full_path_to_file2)"
      ],
      "execution_count": null,
      "outputs": []
    },
    {
      "cell_type": "code",
      "metadata": {
        "id": "FUDIdSfYNAaN"
      },
      "source": [
        "full_path_to_file2 = os.path.join(A101) \n",
        "blob_service_client.get_blob_to_path('shadeimg', full_path_to_file2, full_path_to_file2)"
      ],
      "execution_count": null,
      "outputs": []
    },
    {
      "cell_type": "code",
      "metadata": {
        "id": "raReD8PoNAps"
      },
      "source": [
        "full_path_to_file2 = os.path.join(A101) \n",
        "blob_service_client.get_blob_to_path('shadeimg', full_path_to_file2, full_path_to_file2)"
      ],
      "execution_count": null,
      "outputs": []
    },
    {
      "cell_type": "code",
      "metadata": {
        "id": "DMIe2HlbNA-P"
      },
      "source": [
        "full_path_to_file2 = os.path.join(A101) \n",
        "blob_service_client.get_blob_to_path('shadeimg', full_path_to_file2, full_path_to_file2)"
      ],
      "execution_count": null,
      "outputs": []
    },
    {
      "cell_type": "code",
      "metadata": {
        "id": "t4rYO8AINBX4"
      },
      "source": [
        "full_path_to_file2 = os.path.join(A101) \n",
        "blob_service_client.get_blob_to_path('shadeimg', full_path_to_file2, full_path_to_file2)"
      ],
      "execution_count": null,
      "outputs": []
    },
    {
      "cell_type": "code",
      "metadata": {
        "id": "o9G8c3AvNBzL"
      },
      "source": [
        "full_path_to_file2 = os.path.join(A101) \n",
        "blob_service_client.get_blob_to_path('shadeimg', full_path_to_file2, full_path_to_file2)"
      ],
      "execution_count": null,
      "outputs": []
    },
    {
      "cell_type": "code",
      "metadata": {
        "id": "BD80SXlvNCC9"
      },
      "source": [
        "full_path_to_file2 = os.path.join(A101) \n",
        "blob_service_client.get_blob_to_path('shadeimg', full_path_to_file2, full_path_to_file2)"
      ],
      "execution_count": null,
      "outputs": []
    },
    {
      "cell_type": "code",
      "metadata": {
        "id": "VsPfNZTTNCUr"
      },
      "source": [
        "full_path_to_file2 = os.path.join(A101) \n",
        "blob_service_client.get_blob_to_path('shadeimg', full_path_to_file2, full_path_to_file2)"
      ],
      "execution_count": null,
      "outputs": []
    },
    {
      "cell_type": "code",
      "metadata": {
        "id": "ccQ4bHJDNCkI"
      },
      "source": [
        "full_path_to_file2 = os.path.join(A101) \n",
        "blob_service_client.get_blob_to_path('shadeimg', full_path_to_file2, full_path_to_file2)"
      ],
      "execution_count": null,
      "outputs": []
    },
    {
      "cell_type": "code",
      "metadata": {
        "id": "aLFb3BitNCxw"
      },
      "source": [
        "full_path_to_file2 = os.path.join(A101) \n",
        "blob_service_client.get_blob_to_path('shadeimg', full_path_to_file2, full_path_to_file2)"
      ],
      "execution_count": null,
      "outputs": []
    },
    {
      "cell_type": "code",
      "metadata": {
        "id": "llOjueA3NDLD"
      },
      "source": [
        "full_path_to_file2 = os.path.join(A101) \n",
        "blob_service_client.get_blob_to_path('shadeimg', full_path_to_file2, full_path_to_file2)"
      ],
      "execution_count": null,
      "outputs": []
    },
    {
      "cell_type": "code",
      "metadata": {
        "id": "NC-10YE_NDax"
      },
      "source": [
        "full_path_to_file2 = os.path.join(A101) \n",
        "blob_service_client.get_blob_to_path('shadeimg', full_path_to_file2, full_path_to_file2)"
      ],
      "execution_count": null,
      "outputs": []
    },
    {
      "cell_type": "code",
      "metadata": {
        "id": "7mEFraJiNDsj"
      },
      "source": [
        "full_path_to_file2 = os.path.join(A101) \n",
        "blob_service_client.get_blob_to_path('shadeimg', full_path_to_file2, full_path_to_file2)"
      ],
      "execution_count": null,
      "outputs": []
    }
  ]
}