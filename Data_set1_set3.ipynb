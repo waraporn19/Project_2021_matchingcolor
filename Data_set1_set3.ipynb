{
  "nbformat": 4,
  "nbformat_minor": 0,
  "metadata": {
    "colab": {
      "name": "Data_set1_set3.ipynb",
      "provenance": [],
      "include_colab_link": true
    },
    "kernelspec": {
      "name": "python3",
      "display_name": "Python 3"
    },
    "language_info": {
      "name": "python"
    }
  },
  "cells": [
    {
      "cell_type": "markdown",
      "metadata": {
        "id": "view-in-github",
        "colab_type": "text"
      },
      "source": [
        "<a href=\"https://colab.research.google.com/github/waraporn19/Project_2021_matchingcolor/blob/main/Data_set1_set3.ipynb\" target=\"_parent\"><img src=\"https://colab.research.google.com/assets/colab-badge.svg\" alt=\"Open In Colab\"/></a>"
      ]
    },
    {
      "cell_type": "code",
      "metadata": {
        "id": "QfJJWz3NE5EF"
      },
      "source": [
        "import pandas as pd"
      ],
      "execution_count": 1,
      "outputs": []
    },
    {
      "cell_type": "code",
      "metadata": {
        "id": "bbhDYuOZFkrI",
        "colab": {
          "base_uri": "https://localhost:8080/"
        },
        "outputId": "7d8b8b7f-3554-4c07-baf4-869562a012f6"
      },
      "source": [
        "from google.colab import drive \n",
        "drive.mount('/content/drive')"
      ],
      "execution_count": 2,
      "outputs": [
        {
          "output_type": "stream",
          "name": "stdout",
          "text": [
            "Mounted at /content/drive\n"
          ]
        }
      ]
    },
    {
      "cell_type": "code",
      "metadata": {
        "id": "gCZ9gB08FlpD"
      },
      "source": [
        "import os"
      ],
      "execution_count": 3,
      "outputs": []
    },
    {
      "cell_type": "code",
      "metadata": {
        "id": "bs4sCMIlFmtN"
      },
      "source": [
        "path = '/content/drive/My Drive/shadeimg'"
      ],
      "execution_count": 4,
      "outputs": []
    },
    {
      "cell_type": "code",
      "metadata": {
        "id": "QXJgJ1ZiFv2C",
        "colab": {
          "base_uri": "https://localhost:8080/"
        },
        "outputId": "c4f9547f-c8b8-42fc-f986-a2de5d47f974"
      },
      "source": [
        "os.listdir(path)"
      ],
      "execution_count": 5,
      "outputs": [
        {
          "output_type": "execute_result",
          "data": {
            "text/plain": [
              "['รูปฟัน07',\n",
              " '9-10 7 2021',\n",
              " '11 7 2021',\n",
              " 'ฟันสักอย่างจำวันไม่ได้',\n",
              " '1 teeth .gsheet',\n",
              " '16 8 2021',\n",
              " '17 8 2021',\n",
              " '2 teeth.gsheet',\n",
              " '1 teeth .xlsx',\n",
              " '2 teeth .xlsx']"
            ]
          },
          "metadata": {},
          "execution_count": 5
        }
      ]
    },
    {
      "cell_type": "code",
      "metadata": {
        "id": "hIG_rvGQF-Lh",
        "colab": {
          "base_uri": "https://localhost:8080/"
        },
        "outputId": "48e8a89a-002f-40b6-a960-1612d53f64a1"
      },
      "source": [
        "file_path = os.path.join(path,'1 teeth .xlsx')\n",
        "print(file_path)"
      ],
      "execution_count": 6,
      "outputs": [
        {
          "output_type": "stream",
          "name": "stdout",
          "text": [
            "/content/drive/My Drive/shadeimg/1 teeth .xlsx\n"
          ]
        }
      ]
    },
    {
      "cell_type": "code",
      "metadata": {
        "id": "WU-47FCzGAhX"
      },
      "source": [
        "table1 = pd.read_excel(file_path)"
      ],
      "execution_count": 7,
      "outputs": []
    },
    {
      "cell_type": "code",
      "metadata": {
        "id": "BQB5ZR4zFsSX",
        "colab": {
          "base_uri": "https://localhost:8080/"
        },
        "outputId": "cbb787f1-5623-468d-a9b6-2682988aa5ef"
      },
      "source": [
        "!pip install azure-storage-blob==2.1.0"
      ],
      "execution_count": 8,
      "outputs": [
        {
          "output_type": "stream",
          "name": "stdout",
          "text": [
            "Collecting azure-storage-blob==2.1.0\n",
            "  Downloading azure_storage_blob-2.1.0-py2.py3-none-any.whl (88 kB)\n",
            "\u001b[K     |████████████████████████████████| 88 kB 3.7 MB/s \n",
            "\u001b[?25hCollecting azure-common>=1.1.5\n",
            "  Downloading azure_common-1.1.27-py2.py3-none-any.whl (12 kB)\n",
            "Collecting azure-storage-common~=2.1\n",
            "  Downloading azure_storage_common-2.1.0-py2.py3-none-any.whl (47 kB)\n",
            "\u001b[K     |████████████████████████████████| 47 kB 5.8 MB/s \n",
            "\u001b[?25hCollecting cryptography\n",
            "  Downloading cryptography-35.0.0-cp36-abi3-manylinux_2_24_x86_64.whl (3.5 MB)\n",
            "\u001b[K     |████████████████████████████████| 3.5 MB 36.9 MB/s \n",
            "\u001b[?25hRequirement already satisfied: python-dateutil in /usr/local/lib/python3.7/dist-packages (from azure-storage-common~=2.1->azure-storage-blob==2.1.0) (2.8.2)\n",
            "Requirement already satisfied: requests in /usr/local/lib/python3.7/dist-packages (from azure-storage-common~=2.1->azure-storage-blob==2.1.0) (2.23.0)\n",
            "Requirement already satisfied: cffi>=1.12 in /usr/local/lib/python3.7/dist-packages (from cryptography->azure-storage-common~=2.1->azure-storage-blob==2.1.0) (1.14.6)\n",
            "Requirement already satisfied: pycparser in /usr/local/lib/python3.7/dist-packages (from cffi>=1.12->cryptography->azure-storage-common~=2.1->azure-storage-blob==2.1.0) (2.20)\n",
            "Requirement already satisfied: six>=1.5 in /usr/local/lib/python3.7/dist-packages (from python-dateutil->azure-storage-common~=2.1->azure-storage-blob==2.1.0) (1.15.0)\n",
            "Requirement already satisfied: chardet<4,>=3.0.2 in /usr/local/lib/python3.7/dist-packages (from requests->azure-storage-common~=2.1->azure-storage-blob==2.1.0) (3.0.4)\n",
            "Requirement already satisfied: idna<3,>=2.5 in /usr/local/lib/python3.7/dist-packages (from requests->azure-storage-common~=2.1->azure-storage-blob==2.1.0) (2.10)\n",
            "Requirement already satisfied: certifi>=2017.4.17 in /usr/local/lib/python3.7/dist-packages (from requests->azure-storage-common~=2.1->azure-storage-blob==2.1.0) (2021.5.30)\n",
            "Requirement already satisfied: urllib3!=1.25.0,!=1.25.1,<1.26,>=1.21.1 in /usr/local/lib/python3.7/dist-packages (from requests->azure-storage-common~=2.1->azure-storage-blob==2.1.0) (1.24.3)\n",
            "Installing collected packages: cryptography, azure-common, azure-storage-common, azure-storage-blob\n",
            "Successfully installed azure-common-1.1.27 azure-storage-blob-2.1.0 azure-storage-common-2.1.0 cryptography-35.0.0\n"
          ]
        }
      ]
    },
    {
      "cell_type": "code",
      "metadata": {
        "id": "MmtL3ePjGKNA"
      },
      "source": [
        "from azure.storage.blob import BlockBlobService\n",
        "import os"
      ],
      "execution_count": 9,
      "outputs": []
    },
    {
      "cell_type": "code",
      "metadata": {
        "id": "cBYDeSzyGMrs"
      },
      "source": [
        "blob_service_client = BlockBlobService(account_name='dent01', account_key='CuShY0B4TZJ84TjzPpaHxyrHOpO73aGXeCpdVq7x26OjIlQ1HOz+3DVc9pDEj9BdcEL8odFuTRF0mOAE+aCgiw==')"
      ],
      "execution_count": 10,
      "outputs": []
    },
    {
      "cell_type": "markdown",
      "metadata": {
        "id": "29a1CpssMfaN"
      },
      "source": [
        "1. สร้างตัวแปรเฉดไกด์"
      ]
    },
    {
      "cell_type": "markdown",
      "metadata": {
        "id": "0UvyQY3eJ7Lc"
      },
      "source": [
        "Set1"
      ]
    },
    {
      "cell_type": "code",
      "metadata": {
        "id": "udfq6Zm1KS7f"
      },
      "source": [
        "A103='107FDE4D-BA79-4468-AF7C-1CF07103C39F.png'\n",
        "A104='749A2858-0FF3-4007-B0DD-1CC31C62D142.png'\n",
        "A203='D4B137DD-CABA-4859-A598-60EB8BEACB6D.png'\n",
        "A204='198105F7-554A-4352-B8D1-AC6CF840596C.png'\n",
        "A303='955EB289-2A2C-41D7-8D89-DACB861A1828.png'\n",
        "A304='4B10ED57-554A-492E-BD1D-A875D9130748.png'\n",
        "A3_503='6CB46E4D-0B89-4B5A-8A39-6A9964016DBB.png'\n",
        "A3_504='B6F75859-A549-4475-A7C4-2814AD2F5297.png'\n",
        "A403='DD381107-44FC-4A2B-ADBF-9EC116C1E147.png'\n",
        "A404='AA1ED2BD-D873-41C6-8DC8-D8F2707E3A0D.png'\n",
        "B103='0417FEF0-3D28-45CC-869F-45F22EBB3010.png'\n",
        "B104='074B8021-48F4-4107-A590-00A0D4323A8F.png'\n",
        "B203='074B8021-48F4-4107-A590-00A0D4323A8F.png'\n",
        "B204='F82E6353-46C9-4026-99C9-752BE18B711F.png'\n",
        "B303='42EEF834-D9F5-425D-B15D-2DCADF356FFF.png'\n",
        "B304='77BF719A-5B84-4376-8700-CA5D86A26BF6.png'\n",
        "B403='C58BB77A-BF31-417A-A989-E21A4B35976E.png'\n",
        "B404='65CC76EA-1F7A-420A-BBBB-58F4F3760563.png'\n",
        "C103='F58849AF-D15F-4C96-834C-BD0815A5B423.png'\n",
        "C104='959514F6-36D7-41CC-8145-04AB7D16DBB4.png'\n",
        "C203='BFA849DB-4B6B-48B7-9A6C-F027AC8A89C3.png'\n",
        "C204='B6D548E5-51A2-48B7-AD77-A5E848978E17.png'\n",
        "C303='808EB528-9CC2-4D1B-A3B2-1961823B4A91.png'\n",
        "C304='20E9BF09-B4FE-4F95-9C69-3A811856B21B.png'\n",
        "C403='B1869E0E-76B9-4B92-A6F2-02EE6AAC162B.png'\n",
        "C404='CBBF711F-BBCF-4E2F-81F9-A3A8F5FB85EB.png'\n",
        "D203='4325369A-0FAC-4647-BBAA-C970BF406480.png'\n",
        "D204='66533DFF-69D4-4E34-B08C-DFEAA80FB7E2.png'\n",
        "D303='D0F1AAB9-3DB3-446C-8702-17B455A9623F.png'\n",
        "D304='FCDCF8BE-9368-4C43-A015-718FE4DA2D1A.png'\n",
        "D403='A51AAE9F-EEC8-4EC0-BA0C-8C33C18CE1F4.png'\n",
        "D404='BB6074DC-8B25-4CD1-B6D7-F0F1B83CC705.png'"
      ],
      "execution_count": 11,
      "outputs": []
    },
    {
      "cell_type": "markdown",
      "metadata": {
        "id": "J8y3rIX1_X_4"
      },
      "source": [
        "set3\n"
      ]
    },
    {
      "cell_type": "code",
      "metadata": {
        "id": "fg9O5U-Q-8cC"
      },
      "source": [
        "A101='34972AB5-CAC7-472C-AC53-FBCA2BD69502.png'\n",
        "A102='C5E078FD-06A3-49DA-B9C1-BCEBDBD10788.png'\n",
        "A201='3912CC41-19EB-4A24-9B63-8EA42B4ABFF8.png'\n",
        "A202='EDC80643-249E-4CEB-B3BB-4F9ADA71E56D.png'\n",
        "A301='46F43447-3902-4C4F-9D4D-551DC883238F.png'\n",
        "A302='94828AE2-2A8C-421A-AFA0-1F9D92912852.png'\n",
        "A3_501='FBDE7226-CE76-40F6-917E-BA1264E5B2CD.png'\n",
        "A3_502='FC451C1A-4D2F-47FB-8A6E-5E1FAF48D4DE.png'\n",
        "A401='0B44AF1E-F65D-4942-B6B3-64ECBDA4A60B.png'\n",
        "A402='EDC28364-ED43-46C3-901C-8ACE42EA5082.png'\n",
        "B101='B90F3580-16C4-47BF-83D4-E414EEE2F393.png'\n",
        "B102='FDC06D55-0618-4824-BF7B-14441E4FCA87.png'\n",
        "B201='ABC9C316-2492-47EC-9EF0-51768BCEF434.png'\n",
        "B202='BFA96731-FB49-4FDA-82E3-4A9EE48B7B1E.png'\n",
        "B301='8F7C5693-8C70-4094-9D36-A83AE1B32BA2.png'\n",
        "B302='C246D95A-BE6E-4A6D-8EC9-EEEEDD107F44.png'\n",
        "B401='0C85F5C4-CCE8-457C-A6AF-35C7B7A3B3D9.png'\n",
        "B402='518F15EB-8780-4C3A-9DA5-35B2ADB3EFE6.png'\n",
        "C101='724DBD50-BB48-4955-9095-19A74F9A3976.png'\n",
        "C102='1CEFBA9C-B2C7-4C29-AF03-77C57C0B1704.png'\n",
        "C201='994AC1C3-AF69-44DF-89E3-F76A0FC0979D.png'\n",
        "C202='37D0878C-EC3C-4B50-8450-531DD778316F.png'\n",
        "C301='7A0E241C-D1CD-4C85-BD7D-391E4A857FD2.png'\n",
        "C302='553CF438-7FCE-451C-93E6-31AAA12DF954.png'\n",
        "C401='1A49CEC9-F331-4786-88AD-6CE5C221922F.png'\n",
        "C402='19DB721A-5C3B-49E3-B48A-FEDDBDA7B9FF.png'\n",
        "D201='9BB631BD-BAEB-476F-882B-2409DD9BFB2F.png'\n",
        "D202='C5E949DC-A7CF-42F7-BBE3-861AED5B7513.png'\n",
        "D301='0EF4A552-C6CC-4962-AFE6-B0A2409520CD.png'\n",
        "D302='18F972FA-43B0-40DF-AABB-8828D0372A5B.png'\n",
        "D401='0AC12D10-17A8-4E11-A73E-F81FA2DDEDA0.png'\n",
        "D402='09176E44-73F6-44C0-A749-2C45508C8420.png'"
      ],
      "execution_count": 12,
      "outputs": []
    },
    {
      "cell_type": "markdown",
      "metadata": {
        "id": "XT9FkL4_qWjU"
      },
      "source": [
        "#2. ดึงรูป"
      ]
    },
    {
      "cell_type": "markdown",
      "metadata": {
        "id": "-2DLN4dU58-w"
      },
      "source": [
        "A1"
      ]
    },
    {
      "cell_type": "code",
      "metadata": {
        "colab": {
          "base_uri": "https://localhost:8080/"
        },
        "id": "89qHiFXiqWjU",
        "outputId": "338e22e8-af63-4920-c6c7-a63bfec64e87"
      },
      "source": [
        "full_path_to_file2 = os.path.join(A101) \n",
        "blob_service_client.get_blob_to_path('shadeimg', full_path_to_file2, full_path_to_file2)"
      ],
      "execution_count": 13,
      "outputs": [
        {
          "output_type": "execute_result",
          "data": {
            "text/plain": [
              "<azure.storage.blob.models.Blob at 0x7fb76f116c90>"
            ]
          },
          "metadata": {},
          "execution_count": 13
        }
      ]
    },
    {
      "cell_type": "code",
      "metadata": {
        "colab": {
          "base_uri": "https://localhost:8080/"
        },
        "id": "pL_IAC3PqWjV",
        "outputId": "104299fe-b51d-4b08-d386-11bce0db9d5d"
      },
      "source": [
        "full_path_to_file2 = os.path.join(A102) \n",
        "blob_service_client.get_blob_to_path('shadeimg', full_path_to_file2, full_path_to_file2)"
      ],
      "execution_count": 14,
      "outputs": [
        {
          "output_type": "execute_result",
          "data": {
            "text/plain": [
              "<azure.storage.blob.models.Blob at 0x7fb76be12ed0>"
            ]
          },
          "metadata": {},
          "execution_count": 14
        }
      ]
    },
    {
      "cell_type": "code",
      "metadata": {
        "colab": {
          "base_uri": "https://localhost:8080/"
        },
        "id": "VNLv6hmmqWjV",
        "outputId": "f127880c-0438-4ed1-f70d-032c683a01eb"
      },
      "source": [
        "full_path_to_file2 = os.path.join(A103) \n",
        "blob_service_client.get_blob_to_path('shadeimg', full_path_to_file2, full_path_to_file2)"
      ],
      "execution_count": 15,
      "outputs": [
        {
          "output_type": "execute_result",
          "data": {
            "text/plain": [
              "<azure.storage.blob.models.Blob at 0x7fb76b048e10>"
            ]
          },
          "metadata": {},
          "execution_count": 15
        }
      ]
    },
    {
      "cell_type": "code",
      "metadata": {
        "colab": {
          "base_uri": "https://localhost:8080/"
        },
        "id": "hFv768OdqWjV",
        "outputId": "56fc017a-91a0-48f0-99e8-49145372d12b"
      },
      "source": [
        "full_path_to_file2 = os.path.join(A104) \n",
        "blob_service_client.get_blob_to_path('shadeimg', full_path_to_file2, full_path_to_file2)"
      ],
      "execution_count": 16,
      "outputs": [
        {
          "output_type": "execute_result",
          "data": {
            "text/plain": [
              "<azure.storage.blob.models.Blob at 0x7fb76a9d49d0>"
            ]
          },
          "metadata": {},
          "execution_count": 16
        }
      ]
    },
    {
      "cell_type": "markdown",
      "metadata": {
        "id": "7eSok94g6DY0"
      },
      "source": [
        "A2"
      ]
    },
    {
      "cell_type": "code",
      "metadata": {
        "colab": {
          "base_uri": "https://localhost:8080/"
        },
        "id": "hJNZvwzyqWjV",
        "outputId": "854a4f26-83ec-470a-ab87-4c32b3da1134"
      },
      "source": [
        "full_path_to_file2 = os.path.join(A201) \n",
        "blob_service_client.get_blob_to_path('shadeimg', full_path_to_file2, full_path_to_file2)"
      ],
      "execution_count": 17,
      "outputs": [
        {
          "output_type": "execute_result",
          "data": {
            "text/plain": [
              "<azure.storage.blob.models.Blob at 0x7fb76a9d4fd0>"
            ]
          },
          "metadata": {},
          "execution_count": 17
        }
      ]
    },
    {
      "cell_type": "code",
      "metadata": {
        "colab": {
          "base_uri": "https://localhost:8080/"
        },
        "id": "veShstuZqWjV",
        "outputId": "eba5d222-7777-4a04-b06e-2c64b384c6c8"
      },
      "source": [
        "full_path_to_file2 = os.path.join(A202) \n",
        "blob_service_client.get_blob_to_path('shadeimg', full_path_to_file2, full_path_to_file2)"
      ],
      "execution_count": 18,
      "outputs": [
        {
          "output_type": "execute_result",
          "data": {
            "text/plain": [
              "<azure.storage.blob.models.Blob at 0x7fb76a9d6110>"
            ]
          },
          "metadata": {},
          "execution_count": 18
        }
      ]
    },
    {
      "cell_type": "code",
      "metadata": {
        "colab": {
          "base_uri": "https://localhost:8080/"
        },
        "id": "w9QFztPcqWjV",
        "outputId": "30109e53-9e4a-4529-9c0f-ba88eaaf360a"
      },
      "source": [
        "full_path_to_file2 = os.path.join(A203) \n",
        "blob_service_client.get_blob_to_path('shadeimg', full_path_to_file2, full_path_to_file2)"
      ],
      "execution_count": 19,
      "outputs": [
        {
          "output_type": "execute_result",
          "data": {
            "text/plain": [
              "<azure.storage.blob.models.Blob at 0x7fb76a9d6450>"
            ]
          },
          "metadata": {},
          "execution_count": 19
        }
      ]
    },
    {
      "cell_type": "code",
      "metadata": {
        "colab": {
          "base_uri": "https://localhost:8080/"
        },
        "id": "kAIQWgACqWjW",
        "outputId": "371a6a01-2351-473f-c332-d9a8d04efe11"
      },
      "source": [
        "full_path_to_file2 = os.path.join(A204) \n",
        "blob_service_client.get_blob_to_path('shadeimg', full_path_to_file2, full_path_to_file2)"
      ],
      "execution_count": 20,
      "outputs": [
        {
          "output_type": "execute_result",
          "data": {
            "text/plain": [
              "<azure.storage.blob.models.Blob at 0x7fb76a9cf050>"
            ]
          },
          "metadata": {},
          "execution_count": 20
        }
      ]
    },
    {
      "cell_type": "markdown",
      "metadata": {
        "id": "T8ArUP9X6JRK"
      },
      "source": [
        "A3"
      ]
    },
    {
      "cell_type": "code",
      "metadata": {
        "colab": {
          "base_uri": "https://localhost:8080/"
        },
        "id": "VmbjTZ90qWjW",
        "outputId": "d341516a-a5ae-4bb1-d667-5df76ccc6ece"
      },
      "source": [
        "full_path_to_file2 = os.path.join(A301) \n",
        "blob_service_client.get_blob_to_path('shadeimg', full_path_to_file2, full_path_to_file2)"
      ],
      "execution_count": 21,
      "outputs": [
        {
          "output_type": "execute_result",
          "data": {
            "text/plain": [
              "<azure.storage.blob.models.Blob at 0x7fb76b0550d0>"
            ]
          },
          "metadata": {},
          "execution_count": 21
        }
      ]
    },
    {
      "cell_type": "code",
      "metadata": {
        "colab": {
          "base_uri": "https://localhost:8080/"
        },
        "id": "_I7kJLJ4qWjW",
        "outputId": "1b2e4e02-10d3-4074-907e-28e3f6f2accb"
      },
      "source": [
        "full_path_to_file2 = os.path.join(A302) \n",
        "blob_service_client.get_blob_to_path('shadeimg', full_path_to_file2, full_path_to_file2)"
      ],
      "execution_count": 22,
      "outputs": [
        {
          "output_type": "execute_result",
          "data": {
            "text/plain": [
              "<azure.storage.blob.models.Blob at 0x7fb76a9d6d10>"
            ]
          },
          "metadata": {},
          "execution_count": 22
        }
      ]
    },
    {
      "cell_type": "code",
      "metadata": {
        "colab": {
          "base_uri": "https://localhost:8080/"
        },
        "id": "X8nojCv0qWjW",
        "outputId": "8488ca55-373e-4bc4-e474-485978b80282"
      },
      "source": [
        "full_path_to_file2 = os.path.join(A303) \n",
        "blob_service_client.get_blob_to_path('shadeimg', full_path_to_file2, full_path_to_file2)"
      ],
      "execution_count": 23,
      "outputs": [
        {
          "output_type": "execute_result",
          "data": {
            "text/plain": [
              "<azure.storage.blob.models.Blob at 0x7fb76b038990>"
            ]
          },
          "metadata": {},
          "execution_count": 23
        }
      ]
    },
    {
      "cell_type": "code",
      "metadata": {
        "colab": {
          "base_uri": "https://localhost:8080/"
        },
        "id": "0CMDlGCiqWjW",
        "outputId": "5bae4b67-1bca-4b40-a9d7-dfce1a77ea02"
      },
      "source": [
        "full_path_to_file2 = os.path.join(A304) \n",
        "blob_service_client.get_blob_to_path('shadeimg', full_path_to_file2, full_path_to_file2)"
      ],
      "execution_count": 24,
      "outputs": [
        {
          "output_type": "execute_result",
          "data": {
            "text/plain": [
              "<azure.storage.blob.models.Blob at 0x7fb771a20490>"
            ]
          },
          "metadata": {},
          "execution_count": 24
        }
      ]
    },
    {
      "cell_type": "markdown",
      "metadata": {
        "id": "Zr5SEMNq6LDo"
      },
      "source": [
        "A3.5"
      ]
    },
    {
      "cell_type": "code",
      "metadata": {
        "colab": {
          "base_uri": "https://localhost:8080/"
        },
        "id": "hf5rehmDqWjX",
        "outputId": "41e53983-0ff2-4d83-9503-8a687de6b6b7"
      },
      "source": [
        "full_path_to_file2 = os.path.join(A3_501) \n",
        "blob_service_client.get_blob_to_path('shadeimg', full_path_to_file2, full_path_to_file2)"
      ],
      "execution_count": 25,
      "outputs": [
        {
          "output_type": "execute_result",
          "data": {
            "text/plain": [
              "<azure.storage.blob.models.Blob at 0x7fb76a9d40d0>"
            ]
          },
          "metadata": {},
          "execution_count": 25
        }
      ]
    },
    {
      "cell_type": "code",
      "metadata": {
        "colab": {
          "base_uri": "https://localhost:8080/"
        },
        "id": "U6NqGSTMqWjX",
        "outputId": "8ac0b9b3-1a7f-489a-d035-3e1fe4158ad8"
      },
      "source": [
        "full_path_to_file2 = os.path.join(A3_502) \n",
        "blob_service_client.get_blob_to_path('shadeimg', full_path_to_file2, full_path_to_file2)"
      ],
      "execution_count": 26,
      "outputs": [
        {
          "output_type": "execute_result",
          "data": {
            "text/plain": [
              "<azure.storage.blob.models.Blob at 0x7fb76a9efed0>"
            ]
          },
          "metadata": {},
          "execution_count": 26
        }
      ]
    },
    {
      "cell_type": "code",
      "metadata": {
        "colab": {
          "base_uri": "https://localhost:8080/"
        },
        "id": "0F9FqMJEqWjX",
        "outputId": "6255ae91-2633-430c-b1ea-d5431ae725a3"
      },
      "source": [
        "full_path_to_file2 = os.path.join(A3_503) \n",
        "blob_service_client.get_blob_to_path('shadeimg', full_path_to_file2, full_path_to_file2)"
      ],
      "execution_count": 27,
      "outputs": [
        {
          "output_type": "execute_result",
          "data": {
            "text/plain": [
              "<azure.storage.blob.models.Blob at 0x7fb76a9f0310>"
            ]
          },
          "metadata": {},
          "execution_count": 27
        }
      ]
    },
    {
      "cell_type": "code",
      "metadata": {
        "colab": {
          "base_uri": "https://localhost:8080/"
        },
        "id": "Bt9OeaouqWjX",
        "outputId": "c1ec3c34-3dea-45b4-b66d-4d0377b123b7"
      },
      "source": [
        "full_path_to_file2 = os.path.join(A3_504) \n",
        "blob_service_client.get_blob_to_path('shadeimg', full_path_to_file2, full_path_to_file2)"
      ],
      "execution_count": 28,
      "outputs": [
        {
          "output_type": "execute_result",
          "data": {
            "text/plain": [
              "<azure.storage.blob.models.Blob at 0x7fb76b055590>"
            ]
          },
          "metadata": {},
          "execution_count": 28
        }
      ]
    },
    {
      "cell_type": "markdown",
      "metadata": {
        "id": "tb0g_NiJ6YZB"
      },
      "source": [
        "A4"
      ]
    },
    {
      "cell_type": "code",
      "metadata": {
        "colab": {
          "base_uri": "https://localhost:8080/"
        },
        "id": "6A3Z0G-BqWjX",
        "outputId": "ee9851b8-551e-404f-d887-f994d083b5f7"
      },
      "source": [
        "full_path_to_file2 = os.path.join(A401) \n",
        "blob_service_client.get_blob_to_path('shadeimg', full_path_to_file2, full_path_to_file2)"
      ],
      "execution_count": 29,
      "outputs": [
        {
          "output_type": "execute_result",
          "data": {
            "text/plain": [
              "<azure.storage.blob.models.Blob at 0x7fb76a9cf2d0>"
            ]
          },
          "metadata": {},
          "execution_count": 29
        }
      ]
    },
    {
      "cell_type": "code",
      "metadata": {
        "colab": {
          "base_uri": "https://localhost:8080/"
        },
        "id": "huNllMALqWjX",
        "outputId": "94c33eae-8a3e-483e-c350-87a6b63af075"
      },
      "source": [
        "full_path_to_file2 = os.path.join(A402) \n",
        "blob_service_client.get_blob_to_path('shadeimg', full_path_to_file2, full_path_to_file2)"
      ],
      "execution_count": 30,
      "outputs": [
        {
          "output_type": "execute_result",
          "data": {
            "text/plain": [
              "<azure.storage.blob.models.Blob at 0x7fb76a9d6810>"
            ]
          },
          "metadata": {},
          "execution_count": 30
        }
      ]
    },
    {
      "cell_type": "code",
      "metadata": {
        "colab": {
          "base_uri": "https://localhost:8080/"
        },
        "id": "XRmBCQ8HqWjY",
        "outputId": "404c1432-56ee-4978-9dbd-acb366982deb"
      },
      "source": [
        "full_path_to_file2 = os.path.join(A403) \n",
        "blob_service_client.get_blob_to_path('shadeimg', full_path_to_file2, full_path_to_file2)"
      ],
      "execution_count": 31,
      "outputs": [
        {
          "output_type": "execute_result",
          "data": {
            "text/plain": [
              "<azure.storage.blob.models.Blob at 0x7fb76b055a10>"
            ]
          },
          "metadata": {},
          "execution_count": 31
        }
      ]
    },
    {
      "cell_type": "code",
      "metadata": {
        "colab": {
          "base_uri": "https://localhost:8080/"
        },
        "id": "VBxfPqd5qWjY",
        "outputId": "6a23a818-b58f-4439-bdac-a05d447feee6"
      },
      "source": [
        "full_path_to_file2 = os.path.join(A404) \n",
        "blob_service_client.get_blob_to_path('shadeimg', full_path_to_file2, full_path_to_file2)"
      ],
      "execution_count": 32,
      "outputs": [
        {
          "output_type": "execute_result",
          "data": {
            "text/plain": [
              "<azure.storage.blob.models.Blob at 0x7fb76a9d4dd0>"
            ]
          },
          "metadata": {},
          "execution_count": 32
        }
      ]
    },
    {
      "cell_type": "markdown",
      "metadata": {
        "id": "y3hyi70v6bOe"
      },
      "source": [
        "B1"
      ]
    },
    {
      "cell_type": "code",
      "metadata": {
        "colab": {
          "base_uri": "https://localhost:8080/"
        },
        "id": "xFNoaeKPqWjY",
        "outputId": "529b87cd-edaa-4673-e41b-46e24db34aac"
      },
      "source": [
        "full_path_to_file2 = os.path.join(B101) \n",
        "blob_service_client.get_blob_to_path('shadeimg', full_path_to_file2, full_path_to_file2)"
      ],
      "execution_count": 33,
      "outputs": [
        {
          "output_type": "execute_result",
          "data": {
            "text/plain": [
              "<azure.storage.blob.models.Blob at 0x7fb76a9f0290>"
            ]
          },
          "metadata": {},
          "execution_count": 33
        }
      ]
    },
    {
      "cell_type": "code",
      "metadata": {
        "colab": {
          "base_uri": "https://localhost:8080/"
        },
        "id": "_oCkGuh3qWjY",
        "outputId": "b72bb132-2dab-46ab-d02f-f67292a87e40"
      },
      "source": [
        "full_path_to_file2 = os.path.join(B102) \n",
        "blob_service_client.get_blob_to_path('shadeimg', full_path_to_file2, full_path_to_file2)"
      ],
      "execution_count": 34,
      "outputs": [
        {
          "output_type": "execute_result",
          "data": {
            "text/plain": [
              "<azure.storage.blob.models.Blob at 0x7fb76a9f0190>"
            ]
          },
          "metadata": {},
          "execution_count": 34
        }
      ]
    },
    {
      "cell_type": "code",
      "metadata": {
        "colab": {
          "base_uri": "https://localhost:8080/"
        },
        "id": "20VPjZkoqWjY",
        "outputId": "fbd23410-51de-4f74-e982-b10c54cd154f"
      },
      "source": [
        "full_path_to_file2 = os.path.join(B103) \n",
        "blob_service_client.get_blob_to_path('shadeimg', full_path_to_file2, full_path_to_file2)"
      ],
      "execution_count": 35,
      "outputs": [
        {
          "output_type": "execute_result",
          "data": {
            "text/plain": [
              "<azure.storage.blob.models.Blob at 0x7fb76aa07990>"
            ]
          },
          "metadata": {},
          "execution_count": 35
        }
      ]
    },
    {
      "cell_type": "code",
      "metadata": {
        "colab": {
          "base_uri": "https://localhost:8080/"
        },
        "id": "4EiBJdqbqWjY",
        "outputId": "6dd30216-1487-4623-f1ba-3e7204d16150"
      },
      "source": [
        "full_path_to_file2 = os.path.join(B104) \n",
        "blob_service_client.get_blob_to_path('shadeimg', full_path_to_file2, full_path_to_file2)"
      ],
      "execution_count": 36,
      "outputs": [
        {
          "output_type": "execute_result",
          "data": {
            "text/plain": [
              "<azure.storage.blob.models.Blob at 0x7fb76a9cf910>"
            ]
          },
          "metadata": {},
          "execution_count": 36
        }
      ]
    },
    {
      "cell_type": "markdown",
      "metadata": {
        "id": "vFOfNYz-6crs"
      },
      "source": [
        "B2"
      ]
    },
    {
      "cell_type": "code",
      "metadata": {
        "colab": {
          "base_uri": "https://localhost:8080/"
        },
        "id": "XYPmvR_GqWjZ",
        "outputId": "a3521ba7-d193-4935-9061-d6c1b9835a14"
      },
      "source": [
        "full_path_to_file2 = os.path.join(B201) \n",
        "blob_service_client.get_blob_to_path('shadeimg', full_path_to_file2, full_path_to_file2)"
      ],
      "execution_count": 37,
      "outputs": [
        {
          "output_type": "execute_result",
          "data": {
            "text/plain": [
              "<azure.storage.blob.models.Blob at 0x7fb76a9ff490>"
            ]
          },
          "metadata": {},
          "execution_count": 37
        }
      ]
    },
    {
      "cell_type": "code",
      "metadata": {
        "colab": {
          "base_uri": "https://localhost:8080/"
        },
        "id": "yZ4_16cwqWjZ",
        "outputId": "4c776993-4570-4811-8b54-2a7a34a189ea"
      },
      "source": [
        "full_path_to_file2 = os.path.join(B202) \n",
        "blob_service_client.get_blob_to_path('shadeimg', full_path_to_file2, full_path_to_file2)"
      ],
      "execution_count": 38,
      "outputs": [
        {
          "output_type": "execute_result",
          "data": {
            "text/plain": [
              "<azure.storage.blob.models.Blob at 0x7fb76aa07a90>"
            ]
          },
          "metadata": {},
          "execution_count": 38
        }
      ]
    },
    {
      "cell_type": "code",
      "metadata": {
        "colab": {
          "base_uri": "https://localhost:8080/"
        },
        "id": "_sTONf6NqWjZ",
        "outputId": "677d1f19-c5cb-4904-ca44-1be25bdfdd7b"
      },
      "source": [
        "full_path_to_file2 = os.path.join(B203) \n",
        "blob_service_client.get_blob_to_path('shadeimg', full_path_to_file2, full_path_to_file2)"
      ],
      "execution_count": 39,
      "outputs": [
        {
          "output_type": "execute_result",
          "data": {
            "text/plain": [
              "<azure.storage.blob.models.Blob at 0x7fb76a9d45d0>"
            ]
          },
          "metadata": {},
          "execution_count": 39
        }
      ]
    },
    {
      "cell_type": "code",
      "metadata": {
        "colab": {
          "base_uri": "https://localhost:8080/"
        },
        "id": "xvhe5i1EqWjZ",
        "outputId": "f60e1871-f866-4fd2-82e8-a76488b33897"
      },
      "source": [
        "full_path_to_file2 = os.path.join(B204) \n",
        "blob_service_client.get_blob_to_path('shadeimg', full_path_to_file2, full_path_to_file2)"
      ],
      "execution_count": 40,
      "outputs": [
        {
          "output_type": "execute_result",
          "data": {
            "text/plain": [
              "<azure.storage.blob.models.Blob at 0x7fb76aa00210>"
            ]
          },
          "metadata": {},
          "execution_count": 40
        }
      ]
    },
    {
      "cell_type": "markdown",
      "metadata": {
        "id": "Gu5OAhld6dzx"
      },
      "source": [
        "B3"
      ]
    },
    {
      "cell_type": "code",
      "metadata": {
        "colab": {
          "base_uri": "https://localhost:8080/"
        },
        "id": "dtWpKevCqWjZ",
        "outputId": "58591436-774f-4067-f109-092f32ef312b"
      },
      "source": [
        "full_path_to_file2 = os.path.join(B301) \n",
        "blob_service_client.get_blob_to_path('shadeimg', full_path_to_file2, full_path_to_file2)"
      ],
      "execution_count": 41,
      "outputs": [
        {
          "output_type": "execute_result",
          "data": {
            "text/plain": [
              "<azure.storage.blob.models.Blob at 0x7fb76aa00590>"
            ]
          },
          "metadata": {},
          "execution_count": 41
        }
      ]
    },
    {
      "cell_type": "code",
      "metadata": {
        "colab": {
          "base_uri": "https://localhost:8080/"
        },
        "id": "Iv7GJELjqWjZ",
        "outputId": "c16a565a-33ab-4dc6-9564-db2f853af4c0"
      },
      "source": [
        "full_path_to_file2 = os.path.join(B302) \n",
        "blob_service_client.get_blob_to_path('shadeimg', full_path_to_file2, full_path_to_file2)"
      ],
      "execution_count": 42,
      "outputs": [
        {
          "output_type": "execute_result",
          "data": {
            "text/plain": [
              "<azure.storage.blob.models.Blob at 0x7fb76a98b810>"
            ]
          },
          "metadata": {},
          "execution_count": 42
        }
      ]
    },
    {
      "cell_type": "code",
      "metadata": {
        "colab": {
          "base_uri": "https://localhost:8080/"
        },
        "id": "5Y0UireDqWjZ",
        "outputId": "16f329e0-e683-48a9-aa18-3f03dbd17b99"
      },
      "source": [
        "full_path_to_file2 = os.path.join(B303) \n",
        "blob_service_client.get_blob_to_path('shadeimg', full_path_to_file2, full_path_to_file2)"
      ],
      "execution_count": 43,
      "outputs": [
        {
          "output_type": "execute_result",
          "data": {
            "text/plain": [
              "<azure.storage.blob.models.Blob at 0x7fb76a999110>"
            ]
          },
          "metadata": {},
          "execution_count": 43
        }
      ]
    },
    {
      "cell_type": "code",
      "metadata": {
        "colab": {
          "base_uri": "https://localhost:8080/"
        },
        "id": "ZDVbc9NnqWja",
        "outputId": "44b25709-3fe5-4e47-abcd-dee5a850840a"
      },
      "source": [
        "full_path_to_file2 = os.path.join(B304) \n",
        "blob_service_client.get_blob_to_path('shadeimg', full_path_to_file2, full_path_to_file2)"
      ],
      "execution_count": 44,
      "outputs": [
        {
          "output_type": "execute_result",
          "data": {
            "text/plain": [
              "<azure.storage.blob.models.Blob at 0x7fb76a999d50>"
            ]
          },
          "metadata": {},
          "execution_count": 44
        }
      ]
    },
    {
      "cell_type": "markdown",
      "metadata": {
        "id": "z2hzhQXO6gIR"
      },
      "source": [
        "B4"
      ]
    },
    {
      "cell_type": "code",
      "metadata": {
        "colab": {
          "base_uri": "https://localhost:8080/"
        },
        "id": "AUUiD3TCqWja",
        "outputId": "453e76cb-af6b-4982-ae0f-49dfe7dac5a2"
      },
      "source": [
        "full_path_to_file2 = os.path.join(B401) \n",
        "blob_service_client.get_blob_to_path('shadeimg', full_path_to_file2, full_path_to_file2)"
      ],
      "execution_count": 45,
      "outputs": [
        {
          "output_type": "execute_result",
          "data": {
            "text/plain": [
              "<azure.storage.blob.models.Blob at 0x7fb76a9cfc10>"
            ]
          },
          "metadata": {},
          "execution_count": 45
        }
      ]
    },
    {
      "cell_type": "code",
      "metadata": {
        "colab": {
          "base_uri": "https://localhost:8080/"
        },
        "id": "ozt2aWLeqWja",
        "outputId": "8ed0d496-9960-4c25-ca8c-2602e6a6c3d2"
      },
      "source": [
        "full_path_to_file2 = os.path.join(B402) \n",
        "blob_service_client.get_blob_to_path('shadeimg', full_path_to_file2, full_path_to_file2)"
      ],
      "execution_count": 46,
      "outputs": [
        {
          "output_type": "execute_result",
          "data": {
            "text/plain": [
              "<azure.storage.blob.models.Blob at 0x7fb76a9ffb10>"
            ]
          },
          "metadata": {},
          "execution_count": 46
        }
      ]
    },
    {
      "cell_type": "code",
      "metadata": {
        "colab": {
          "base_uri": "https://localhost:8080/"
        },
        "id": "sKfFT4biqWja",
        "outputId": "1845040e-fe4f-444b-e35c-1bb5dea93109"
      },
      "source": [
        "full_path_to_file2 = os.path.join(B403) \n",
        "blob_service_client.get_blob_to_path('shadeimg', full_path_to_file2, full_path_to_file2)"
      ],
      "execution_count": 47,
      "outputs": [
        {
          "output_type": "execute_result",
          "data": {
            "text/plain": [
              "<azure.storage.blob.models.Blob at 0x7fb76aa003d0>"
            ]
          },
          "metadata": {},
          "execution_count": 47
        }
      ]
    },
    {
      "cell_type": "code",
      "metadata": {
        "colab": {
          "base_uri": "https://localhost:8080/"
        },
        "id": "i_QOEeCuqWja",
        "outputId": "c55e879d-5c61-4e96-fcfa-72c320d2e391"
      },
      "source": [
        "full_path_to_file2 = os.path.join(B404) \n",
        "blob_service_client.get_blob_to_path('shadeimg', full_path_to_file2, full_path_to_file2)"
      ],
      "execution_count": 48,
      "outputs": [
        {
          "output_type": "execute_result",
          "data": {
            "text/plain": [
              "<azure.storage.blob.models.Blob at 0x7fb76b0552d0>"
            ]
          },
          "metadata": {},
          "execution_count": 48
        }
      ]
    },
    {
      "cell_type": "markdown",
      "metadata": {
        "id": "x1KIKFLy6h8k"
      },
      "source": [
        "C1"
      ]
    },
    {
      "cell_type": "code",
      "metadata": {
        "colab": {
          "base_uri": "https://localhost:8080/"
        },
        "id": "DVlDe2laqWja",
        "outputId": "836a4750-6392-4a8e-9ce7-900bc03f2ef8"
      },
      "source": [
        "full_path_to_file2 = os.path.join(C101) \n",
        "blob_service_client.get_blob_to_path('shadeimg', full_path_to_file2, full_path_to_file2)"
      ],
      "execution_count": 49,
      "outputs": [
        {
          "output_type": "execute_result",
          "data": {
            "text/plain": [
              "<azure.storage.blob.models.Blob at 0x7fb76f12c710>"
            ]
          },
          "metadata": {},
          "execution_count": 49
        }
      ]
    },
    {
      "cell_type": "code",
      "metadata": {
        "colab": {
          "base_uri": "https://localhost:8080/"
        },
        "id": "PpnxuJZjqWjb",
        "outputId": "400a1213-224c-4dfa-9a79-984ddbaa1d8f"
      },
      "source": [
        "full_path_to_file2 = os.path.join(C102) \n",
        "blob_service_client.get_blob_to_path('shadeimg', full_path_to_file2, full_path_to_file2)"
      ],
      "execution_count": 50,
      "outputs": [
        {
          "output_type": "execute_result",
          "data": {
            "text/plain": [
              "<azure.storage.blob.models.Blob at 0x7fb76a9a7d10>"
            ]
          },
          "metadata": {},
          "execution_count": 50
        }
      ]
    },
    {
      "cell_type": "code",
      "metadata": {
        "colab": {
          "base_uri": "https://localhost:8080/"
        },
        "id": "upMtdZorqWjb",
        "outputId": "698aa53a-e8db-4711-8d05-4396432feed8"
      },
      "source": [
        "full_path_to_file2 = os.path.join(C103) \n",
        "blob_service_client.get_blob_to_path('shadeimg', full_path_to_file2, full_path_to_file2)"
      ],
      "execution_count": 51,
      "outputs": [
        {
          "output_type": "execute_result",
          "data": {
            "text/plain": [
              "<azure.storage.blob.models.Blob at 0x7fb76a9eecd0>"
            ]
          },
          "metadata": {},
          "execution_count": 51
        }
      ]
    },
    {
      "cell_type": "code",
      "metadata": {
        "colab": {
          "base_uri": "https://localhost:8080/"
        },
        "id": "ETYki_a8qWjb",
        "outputId": "cab35467-9624-4530-9360-7f5cd8dc9622"
      },
      "source": [
        "full_path_to_file2 = os.path.join(C104) \n",
        "blob_service_client.get_blob_to_path('shadeimg', full_path_to_file2, full_path_to_file2)"
      ],
      "execution_count": 52,
      "outputs": [
        {
          "output_type": "execute_result",
          "data": {
            "text/plain": [
              "<azure.storage.blob.models.Blob at 0x7fb76a98bb10>"
            ]
          },
          "metadata": {},
          "execution_count": 52
        }
      ]
    },
    {
      "cell_type": "markdown",
      "metadata": {
        "id": "UOfwpXiM6j9h"
      },
      "source": [
        "C2"
      ]
    },
    {
      "cell_type": "code",
      "metadata": {
        "colab": {
          "base_uri": "https://localhost:8080/"
        },
        "id": "QV6-qOJSqWjb",
        "outputId": "25693fea-3cc0-422c-ca37-7c7026c47b16"
      },
      "source": [
        "full_path_to_file2 = os.path.join(C201) \n",
        "blob_service_client.get_blob_to_path('shadeimg', full_path_to_file2, full_path_to_file2)"
      ],
      "execution_count": 53,
      "outputs": [
        {
          "output_type": "execute_result",
          "data": {
            "text/plain": [
              "<azure.storage.blob.models.Blob at 0x7fb76aa00a50>"
            ]
          },
          "metadata": {},
          "execution_count": 53
        }
      ]
    },
    {
      "cell_type": "code",
      "metadata": {
        "colab": {
          "base_uri": "https://localhost:8080/"
        },
        "id": "yiVQsZVuqWjb",
        "outputId": "82341285-2f03-4521-e924-313449b6e80a"
      },
      "source": [
        "full_path_to_file2 = os.path.join(C202) \n",
        "blob_service_client.get_blob_to_path('shadeimg', full_path_to_file2, full_path_to_file2)"
      ],
      "execution_count": 54,
      "outputs": [
        {
          "output_type": "execute_result",
          "data": {
            "text/plain": [
              "<azure.storage.blob.models.Blob at 0x7fb76a9a7390>"
            ]
          },
          "metadata": {},
          "execution_count": 54
        }
      ]
    },
    {
      "cell_type": "code",
      "metadata": {
        "colab": {
          "base_uri": "https://localhost:8080/"
        },
        "id": "hY_rgNf9qWjb",
        "outputId": "f1eeaeee-412a-4bff-8617-ad647ee5f2f1"
      },
      "source": [
        "full_path_to_file2 = os.path.join(C203) \n",
        "blob_service_client.get_blob_to_path('shadeimg', full_path_to_file2, full_path_to_file2)"
      ],
      "execution_count": 55,
      "outputs": [
        {
          "output_type": "execute_result",
          "data": {
            "text/plain": [
              "<azure.storage.blob.models.Blob at 0x7fb76aa07cd0>"
            ]
          },
          "metadata": {},
          "execution_count": 55
        }
      ]
    },
    {
      "cell_type": "code",
      "metadata": {
        "colab": {
          "base_uri": "https://localhost:8080/"
        },
        "id": "wen5PJfoqWjb",
        "outputId": "42e22ace-c1ed-4126-81bf-229e822fc6f5"
      },
      "source": [
        "full_path_to_file2 = os.path.join(C204) \n",
        "blob_service_client.get_blob_to_path('shadeimg', full_path_to_file2, full_path_to_file2)"
      ],
      "execution_count": 56,
      "outputs": [
        {
          "output_type": "execute_result",
          "data": {
            "text/plain": [
              "<azure.storage.blob.models.Blob at 0x7fb76a996050>"
            ]
          },
          "metadata": {},
          "execution_count": 56
        }
      ]
    },
    {
      "cell_type": "markdown",
      "metadata": {
        "id": "Dre9rll26lii"
      },
      "source": [
        "C3"
      ]
    },
    {
      "cell_type": "code",
      "metadata": {
        "colab": {
          "base_uri": "https://localhost:8080/"
        },
        "id": "XxQjkejdqWjc",
        "outputId": "f7588206-91dc-4043-e387-2620c8ea5173"
      },
      "source": [
        "full_path_to_file2 = os.path.join(C301) \n",
        "blob_service_client.get_blob_to_path('shadeimg', full_path_to_file2, full_path_to_file2)"
      ],
      "execution_count": 57,
      "outputs": [
        {
          "output_type": "execute_result",
          "data": {
            "text/plain": [
              "<azure.storage.blob.models.Blob at 0x7fb76a9ac890>"
            ]
          },
          "metadata": {},
          "execution_count": 57
        }
      ]
    },
    {
      "cell_type": "code",
      "metadata": {
        "colab": {
          "base_uri": "https://localhost:8080/"
        },
        "id": "hJo8QJcUqWjc",
        "outputId": "f629b679-8df9-4cdb-a211-66b44b284ee7"
      },
      "source": [
        "full_path_to_file2 = os.path.join(C302) \n",
        "blob_service_client.get_blob_to_path('shadeimg', full_path_to_file2, full_path_to_file2)"
      ],
      "execution_count": 58,
      "outputs": [
        {
          "output_type": "execute_result",
          "data": {
            "text/plain": [
              "<azure.storage.blob.models.Blob at 0x7fb76a9acf90>"
            ]
          },
          "metadata": {},
          "execution_count": 58
        }
      ]
    },
    {
      "cell_type": "code",
      "metadata": {
        "colab": {
          "base_uri": "https://localhost:8080/"
        },
        "id": "znSCt104qWjc",
        "outputId": "3739e95b-27e5-455e-eb7c-a5940a6a53c6"
      },
      "source": [
        "full_path_to_file2 = os.path.join(C303) \n",
        "blob_service_client.get_blob_to_path('shadeimg', full_path_to_file2, full_path_to_file2)"
      ],
      "execution_count": 59,
      "outputs": [
        {
          "output_type": "execute_result",
          "data": {
            "text/plain": [
              "<azure.storage.blob.models.Blob at 0x7fb76a9ee410>"
            ]
          },
          "metadata": {},
          "execution_count": 59
        }
      ]
    },
    {
      "cell_type": "code",
      "metadata": {
        "colab": {
          "base_uri": "https://localhost:8080/"
        },
        "id": "ZNg18ycAqWjc",
        "outputId": "d981243d-273c-4aa0-8fbc-fd1a4b2f8d60"
      },
      "source": [
        "full_path_to_file2 = os.path.join(C304) \n",
        "blob_service_client.get_blob_to_path('shadeimg', full_path_to_file2, full_path_to_file2)"
      ],
      "execution_count": 60,
      "outputs": [
        {
          "output_type": "execute_result",
          "data": {
            "text/plain": [
              "<azure.storage.blob.models.Blob at 0x7fb76a9a1910>"
            ]
          },
          "metadata": {},
          "execution_count": 60
        }
      ]
    },
    {
      "cell_type": "markdown",
      "metadata": {
        "id": "A89CEXhb6nqF"
      },
      "source": [
        "C4"
      ]
    },
    {
      "cell_type": "code",
      "metadata": {
        "colab": {
          "base_uri": "https://localhost:8080/"
        },
        "id": "ZNp-dUIsqWjc",
        "outputId": "31f07b6f-6b26-494a-ec1a-84a35248d32a"
      },
      "source": [
        "full_path_to_file2 = os.path.join(C401) \n",
        "blob_service_client.get_blob_to_path('shadeimg', full_path_to_file2, full_path_to_file2)"
      ],
      "execution_count": 61,
      "outputs": [
        {
          "output_type": "execute_result",
          "data": {
            "text/plain": [
              "<azure.storage.blob.models.Blob at 0x7fb76a9a7950>"
            ]
          },
          "metadata": {},
          "execution_count": 61
        }
      ]
    },
    {
      "cell_type": "code",
      "metadata": {
        "colab": {
          "base_uri": "https://localhost:8080/"
        },
        "id": "TFshOTHiqWjc",
        "outputId": "3585a54b-3098-4d67-ca11-9ca2d0172533"
      },
      "source": [
        "full_path_to_file2 = os.path.join(C402) \n",
        "blob_service_client.get_blob_to_path('shadeimg', full_path_to_file2, full_path_to_file2)"
      ],
      "execution_count": 62,
      "outputs": [
        {
          "output_type": "execute_result",
          "data": {
            "text/plain": [
              "<azure.storage.blob.models.Blob at 0x7fb76a9964d0>"
            ]
          },
          "metadata": {},
          "execution_count": 62
        }
      ]
    },
    {
      "cell_type": "code",
      "metadata": {
        "colab": {
          "base_uri": "https://localhost:8080/"
        },
        "id": "sdDlfp9NqWjd",
        "outputId": "04026f41-f3c0-4881-dd24-9afc800049ce"
      },
      "source": [
        "full_path_to_file2 = os.path.join(C403) \n",
        "blob_service_client.get_blob_to_path('shadeimg', full_path_to_file2, full_path_to_file2)"
      ],
      "execution_count": 63,
      "outputs": [
        {
          "output_type": "execute_result",
          "data": {
            "text/plain": [
              "<azure.storage.blob.models.Blob at 0x7fb76a98b950>"
            ]
          },
          "metadata": {},
          "execution_count": 63
        }
      ]
    },
    {
      "cell_type": "code",
      "metadata": {
        "colab": {
          "base_uri": "https://localhost:8080/"
        },
        "id": "_FOfoyRXqWjd",
        "outputId": "171094f0-612d-4ce3-fbe0-ba0f7a3353a5"
      },
      "source": [
        "full_path_to_file2 = os.path.join(C404) \n",
        "blob_service_client.get_blob_to_path('shadeimg', full_path_to_file2, full_path_to_file2)"
      ],
      "execution_count": 64,
      "outputs": [
        {
          "output_type": "execute_result",
          "data": {
            "text/plain": [
              "<azure.storage.blob.models.Blob at 0x7fb76a99e690>"
            ]
          },
          "metadata": {},
          "execution_count": 64
        }
      ]
    },
    {
      "cell_type": "markdown",
      "metadata": {
        "id": "2nXnc9S96qZe"
      },
      "source": [
        "D2"
      ]
    },
    {
      "cell_type": "code",
      "metadata": {
        "colab": {
          "base_uri": "https://localhost:8080/"
        },
        "id": "jjb3FLKgqWjd",
        "outputId": "a6f41e6b-e977-4789-bd06-bcd210be7259"
      },
      "source": [
        "full_path_to_file2 = os.path.join(D201) \n",
        "blob_service_client.get_blob_to_path('shadeimg', full_path_to_file2, full_path_to_file2)"
      ],
      "execution_count": 65,
      "outputs": [
        {
          "output_type": "execute_result",
          "data": {
            "text/plain": [
              "<azure.storage.blob.models.Blob at 0x7fb76a9bd090>"
            ]
          },
          "metadata": {},
          "execution_count": 65
        }
      ]
    },
    {
      "cell_type": "code",
      "metadata": {
        "colab": {
          "base_uri": "https://localhost:8080/"
        },
        "id": "9pWM-aURqWjd",
        "outputId": "c74320e5-f58b-4c51-bb9b-07ebb1dc474d"
      },
      "source": [
        "full_path_to_file2 = os.path.join(D202) \n",
        "blob_service_client.get_blob_to_path('shadeimg', full_path_to_file2, full_path_to_file2)"
      ],
      "execution_count": 66,
      "outputs": [
        {
          "output_type": "execute_result",
          "data": {
            "text/plain": [
              "<azure.storage.blob.models.Blob at 0x7fb76aa070d0>"
            ]
          },
          "metadata": {},
          "execution_count": 66
        }
      ]
    },
    {
      "cell_type": "code",
      "metadata": {
        "colab": {
          "base_uri": "https://localhost:8080/"
        },
        "id": "LOd1jz1AqWjd",
        "outputId": "e81bae77-c8cd-44ed-f071-f911b96b1dbd"
      },
      "source": [
        "full_path_to_file2 = os.path.join(D203) \n",
        "blob_service_client.get_blob_to_path('shadeimg', full_path_to_file2, full_path_to_file2)"
      ],
      "execution_count": 67,
      "outputs": [
        {
          "output_type": "execute_result",
          "data": {
            "text/plain": [
              "<azure.storage.blob.models.Blob at 0x7fb76aa07fd0>"
            ]
          },
          "metadata": {},
          "execution_count": 67
        }
      ]
    },
    {
      "cell_type": "code",
      "metadata": {
        "colab": {
          "base_uri": "https://localhost:8080/"
        },
        "id": "2u7Gw9SRqWjd",
        "outputId": "d1b166c0-522b-460c-b325-4aeb75705cb2"
      },
      "source": [
        "full_path_to_file2 = os.path.join(D204) \n",
        "blob_service_client.get_blob_to_path('shadeimg', full_path_to_file2, full_path_to_file2)"
      ],
      "execution_count": 68,
      "outputs": [
        {
          "output_type": "execute_result",
          "data": {
            "text/plain": [
              "<azure.storage.blob.models.Blob at 0x7fb76a9acad0>"
            ]
          },
          "metadata": {},
          "execution_count": 68
        }
      ]
    },
    {
      "cell_type": "markdown",
      "metadata": {
        "id": "84tHGN-56sF3"
      },
      "source": [
        "D3"
      ]
    },
    {
      "cell_type": "code",
      "metadata": {
        "colab": {
          "base_uri": "https://localhost:8080/"
        },
        "id": "1738pW_3qWje",
        "outputId": "27c80673-a674-4fa0-f71e-749a45ad7706"
      },
      "source": [
        "full_path_to_file2 = os.path.join(D301) \n",
        "blob_service_client.get_blob_to_path('shadeimg', full_path_to_file2, full_path_to_file2)"
      ],
      "execution_count": 69,
      "outputs": [
        {
          "output_type": "execute_result",
          "data": {
            "text/plain": [
              "<azure.storage.blob.models.Blob at 0x7fb76a98b690>"
            ]
          },
          "metadata": {},
          "execution_count": 69
        }
      ]
    },
    {
      "cell_type": "code",
      "metadata": {
        "colab": {
          "base_uri": "https://localhost:8080/"
        },
        "id": "fOWxaJZRqWje",
        "outputId": "13cfd3e0-84f6-49bd-cfa0-d17e7d79dee4"
      },
      "source": [
        "full_path_to_file2 = os.path.join(D302) \n",
        "blob_service_client.get_blob_to_path('shadeimg', full_path_to_file2, full_path_to_file2)"
      ],
      "execution_count": 70,
      "outputs": [
        {
          "output_type": "execute_result",
          "data": {
            "text/plain": [
              "<azure.storage.blob.models.Blob at 0x7fb76aa00950>"
            ]
          },
          "metadata": {},
          "execution_count": 70
        }
      ]
    },
    {
      "cell_type": "code",
      "metadata": {
        "colab": {
          "base_uri": "https://localhost:8080/"
        },
        "id": "0gIgD-pCqWje",
        "outputId": "14961665-68ca-4dab-c11f-1649b8c9f195"
      },
      "source": [
        "full_path_to_file2 = os.path.join(D303) \n",
        "blob_service_client.get_blob_to_path('shadeimg', full_path_to_file2, full_path_to_file2)"
      ],
      "execution_count": 71,
      "outputs": [
        {
          "output_type": "execute_result",
          "data": {
            "text/plain": [
              "<azure.storage.blob.models.Blob at 0x7fb76a9b5810>"
            ]
          },
          "metadata": {},
          "execution_count": 71
        }
      ]
    },
    {
      "cell_type": "code",
      "metadata": {
        "colab": {
          "base_uri": "https://localhost:8080/"
        },
        "id": "vChTjQDpqWje",
        "outputId": "5b2f70b0-7ab6-4d00-9496-b4dc026ed99f"
      },
      "source": [
        "full_path_to_file2 = os.path.join(D304) \n",
        "blob_service_client.get_blob_to_path('shadeimg', full_path_to_file2, full_path_to_file2)"
      ],
      "execution_count": 72,
      "outputs": [
        {
          "output_type": "execute_result",
          "data": {
            "text/plain": [
              "<azure.storage.blob.models.Blob at 0x7fb76a9b5250>"
            ]
          },
          "metadata": {},
          "execution_count": 72
        }
      ]
    },
    {
      "cell_type": "markdown",
      "metadata": {
        "id": "sc2ondun6taF"
      },
      "source": [
        "D4"
      ]
    },
    {
      "cell_type": "code",
      "metadata": {
        "colab": {
          "base_uri": "https://localhost:8080/"
        },
        "id": "OPqH6s0MqWje",
        "outputId": "34a4a162-a6a5-40b4-f19c-9e45026964eb"
      },
      "source": [
        "full_path_to_file2 = os.path.join(D401) \n",
        "blob_service_client.get_blob_to_path('shadeimg', full_path_to_file2, full_path_to_file2)"
      ],
      "execution_count": 73,
      "outputs": [
        {
          "output_type": "execute_result",
          "data": {
            "text/plain": [
              "<azure.storage.blob.models.Blob at 0x7fb76a9b5dd0>"
            ]
          },
          "metadata": {},
          "execution_count": 73
        }
      ]
    },
    {
      "cell_type": "code",
      "metadata": {
        "colab": {
          "base_uri": "https://localhost:8080/"
        },
        "id": "OHFDg-TYqWje",
        "outputId": "77dc4a26-111b-4a5e-9985-c3fc7cf40e2b"
      },
      "source": [
        "full_path_to_file2 = os.path.join(D402) \n",
        "blob_service_client.get_blob_to_path('shadeimg', full_path_to_file2, full_path_to_file2)"
      ],
      "execution_count": 74,
      "outputs": [
        {
          "output_type": "execute_result",
          "data": {
            "text/plain": [
              "<azure.storage.blob.models.Blob at 0x7fb76a9ba5d0>"
            ]
          },
          "metadata": {},
          "execution_count": 74
        }
      ]
    },
    {
      "cell_type": "code",
      "metadata": {
        "colab": {
          "base_uri": "https://localhost:8080/"
        },
        "id": "IykUWgiiqWje",
        "outputId": "04dd969c-43ba-448f-8cdd-273e697eee57"
      },
      "source": [
        "full_path_to_file2 = os.path.join(D403) \n",
        "blob_service_client.get_blob_to_path('shadeimg', full_path_to_file2, full_path_to_file2)"
      ],
      "execution_count": 75,
      "outputs": [
        {
          "output_type": "execute_result",
          "data": {
            "text/plain": [
              "<azure.storage.blob.models.Blob at 0x7fb76a9966d0>"
            ]
          },
          "metadata": {},
          "execution_count": 75
        }
      ]
    },
    {
      "cell_type": "code",
      "metadata": {
        "colab": {
          "base_uri": "https://localhost:8080/"
        },
        "id": "mh_GL5A2qWjf",
        "outputId": "bfa01985-05b3-42fc-efc2-de6c4c545828"
      },
      "source": [
        "full_path_to_file2 = os.path.join(D404) \n",
        "blob_service_client.get_blob_to_path('shadeimg', full_path_to_file2, full_path_to_file2)"
      ],
      "execution_count": 76,
      "outputs": [
        {
          "output_type": "execute_result",
          "data": {
            "text/plain": [
              "<azure.storage.blob.models.Blob at 0x7fb76a9a1510>"
            ]
          },
          "metadata": {},
          "execution_count": 76
        }
      ]
    },
    {
      "cell_type": "markdown",
      "metadata": {
        "id": "nxyIUEg7cPsn"
      },
      "source": [
        "#3. BGR to RGB"
      ]
    },
    {
      "cell_type": "code",
      "metadata": {
        "id": "1n-t_Rl_cXK7"
      },
      "source": [
        "import cv2\n",
        "from matplotlib import pyplot as plt #การเรียกใช้คำสั่ง matplotlib เพื่อวาดกราฟ โดยแทนชื่อ matplotlib ด้วย plt\n",
        "import matplotlib"
      ],
      "execution_count": 77,
      "outputs": []
    },
    {
      "cell_type": "markdown",
      "metadata": {
        "id": "P8Vp2fIOb6KG"
      },
      "source": [
        "A1"
      ]
    },
    {
      "cell_type": "code",
      "metadata": {
        "id": "GVOM_S9IaAsm"
      },
      "source": [
        "imgA1_01  = cv2.imread(A101)\n",
        "RGB_imgA1_01= cv2.cvtColor(imgA1_01, cv2.COLOR_BGR2RGB)"
      ],
      "execution_count": 78,
      "outputs": []
    },
    {
      "cell_type": "code",
      "metadata": {
        "id": "hHPm9C2Obbbx"
      },
      "source": [
        "imgA1_02  = cv2.imread(A102)\n",
        "RGB_imgA1_02= cv2.cvtColor(imgA1_02, cv2.COLOR_BGR2RGB)"
      ],
      "execution_count": 79,
      "outputs": []
    },
    {
      "cell_type": "code",
      "metadata": {
        "id": "JSlpvsMEbgK7"
      },
      "source": [
        "imgA1_03  = cv2.imread(A103)\n",
        "RGB_imgA1_03= cv2.cvtColor(imgA1_03, cv2.COLOR_BGR2RGB)"
      ],
      "execution_count": 80,
      "outputs": []
    },
    {
      "cell_type": "code",
      "metadata": {
        "id": "0o9-5ucebgqD"
      },
      "source": [
        "imgA1_04  = cv2.imread(A104)\n",
        "RGB_imgA1_04= cv2.cvtColor(imgA1_04, cv2.COLOR_BGR2RGB)"
      ],
      "execution_count": 81,
      "outputs": []
    },
    {
      "cell_type": "markdown",
      "metadata": {
        "id": "gufTt975b7fS"
      },
      "source": [
        "A2"
      ]
    },
    {
      "cell_type": "code",
      "metadata": {
        "id": "tjSL18omb5R-"
      },
      "source": [
        "imgA2_01  = cv2.imread(A201)\n",
        "RGB_imgA2_01= cv2.cvtColor(imgA2_01, cv2.COLOR_BGR2RGB)"
      ],
      "execution_count": 82,
      "outputs": []
    },
    {
      "cell_type": "code",
      "metadata": {
        "id": "54V3PVGEcKYg"
      },
      "source": [
        "imgA2_02  = cv2.imread(A202)\n",
        "RGB_imgA2_02= cv2.cvtColor(imgA2_02, cv2.COLOR_BGR2RGB)"
      ],
      "execution_count": 83,
      "outputs": []
    },
    {
      "cell_type": "code",
      "metadata": {
        "id": "DVtfJhWscK1x"
      },
      "source": [
        "imgA2_03  = cv2.imread(A203)\n",
        "RGB_imgA2_03= cv2.cvtColor(imgA2_03, cv2.COLOR_BGR2RGB)"
      ],
      "execution_count": 84,
      "outputs": []
    },
    {
      "cell_type": "code",
      "metadata": {
        "id": "8Naz0LU5cLHO"
      },
      "source": [
        "imgA2_04  = cv2.imread(A204)\n",
        "RGB_imgA2_04= cv2.cvtColor(imgA2_04, cv2.COLOR_BGR2RGB)"
      ],
      "execution_count": 85,
      "outputs": []
    },
    {
      "cell_type": "markdown",
      "metadata": {
        "id": "uVEPIS6bcYbA"
      },
      "source": [
        "A3"
      ]
    },
    {
      "cell_type": "code",
      "metadata": {
        "id": "KzcBxc8lck7z"
      },
      "source": [
        "imgA3_01  = cv2.imread(A301)\n",
        "RGB_imgA3_01= cv2.cvtColor(imgA3_01, cv2.COLOR_BGR2RGB)"
      ],
      "execution_count": 86,
      "outputs": []
    },
    {
      "cell_type": "code",
      "metadata": {
        "id": "lORtl17icmhM"
      },
      "source": [
        "imgA3_02  = cv2.imread(A302)\n",
        "RGB_imgA3_02= cv2.cvtColor(imgA3_02, cv2.COLOR_BGR2RGB)"
      ],
      "execution_count": 87,
      "outputs": []
    },
    {
      "cell_type": "code",
      "metadata": {
        "id": "PdrwzlqVcyi1"
      },
      "source": [
        "imgA3_03  = cv2.imread(A303)\n",
        "RGB_imgA3_03= cv2.cvtColor(imgA3_03, cv2.COLOR_BGR2RGB)"
      ],
      "execution_count": 88,
      "outputs": []
    },
    {
      "cell_type": "code",
      "metadata": {
        "id": "sg9Z_KwUc4kR"
      },
      "source": [
        "imgA3_04  = cv2.imread(A304)\n",
        "RGB_imgA3_04= cv2.cvtColor(imgA3_04, cv2.COLOR_BGR2RGB)"
      ],
      "execution_count": 89,
      "outputs": []
    },
    {
      "cell_type": "markdown",
      "metadata": {
        "id": "a_-SKgyLcZWM"
      },
      "source": [
        "A3.5"
      ]
    },
    {
      "cell_type": "code",
      "metadata": {
        "id": "Gf3_D74Fc8S1"
      },
      "source": [
        "imgA3_501  = cv2.imread(A3_501)\n",
        "RGB_imgA3_501= cv2.cvtColor(imgA3_501, cv2.COLOR_BGR2RGB)"
      ],
      "execution_count": 90,
      "outputs": []
    },
    {
      "cell_type": "code",
      "metadata": {
        "id": "GqLh_f0mdBKp"
      },
      "source": [
        "imgA3_502  = cv2.imread(A3_502)\n",
        "RGB_imgA3_502= cv2.cvtColor(imgA3_502, cv2.COLOR_BGR2RGB)"
      ],
      "execution_count": 91,
      "outputs": []
    },
    {
      "cell_type": "code",
      "metadata": {
        "id": "cGBjkxnKdFxn"
      },
      "source": [
        "imgA3_503  = cv2.imread(A3_503)\n",
        "RGB_imgA3_503= cv2.cvtColor(imgA3_503, cv2.COLOR_BGR2RGB)"
      ],
      "execution_count": 92,
      "outputs": []
    },
    {
      "cell_type": "code",
      "metadata": {
        "id": "wVvpke2ZdKe1"
      },
      "source": [
        "imgA3_504  = cv2.imread(A3_504)\n",
        "RGB_imgA3_504= cv2.cvtColor(imgA3_504, cv2.COLOR_BGR2RGB)"
      ],
      "execution_count": 93,
      "outputs": []
    },
    {
      "cell_type": "markdown",
      "metadata": {
        "id": "PEkgGEpUdNrj"
      },
      "source": [
        "A4"
      ]
    },
    {
      "cell_type": "code",
      "metadata": {
        "id": "0iwy2ADPdOyB"
      },
      "source": [
        "imgA4_01  = cv2.imread(A401)\n",
        "RGB_imgA4_01= cv2.cvtColor(imgA4_01, cv2.COLOR_BGR2RGB)"
      ],
      "execution_count": 94,
      "outputs": []
    },
    {
      "cell_type": "code",
      "metadata": {
        "id": "EYuD_CJydQX5"
      },
      "source": [
        "imgA4_02  = cv2.imread(A402)\n",
        "RGB_imgA4_02= cv2.cvtColor(imgA4_02, cv2.COLOR_BGR2RGB)"
      ],
      "execution_count": 95,
      "outputs": []
    },
    {
      "cell_type": "code",
      "metadata": {
        "id": "0nvPOVb6dQsZ"
      },
      "source": [
        "imgA4_03  = cv2.imread(A403)\n",
        "RGB_imgA4_03= cv2.cvtColor(imgA4_03, cv2.COLOR_BGR2RGB)"
      ],
      "execution_count": 96,
      "outputs": []
    },
    {
      "cell_type": "code",
      "metadata": {
        "id": "N-8Nu6NBdQ8d"
      },
      "source": [
        "imgA4_04  = cv2.imread(A404)\n",
        "RGB_imgA4_04= cv2.cvtColor(imgA4_04, cv2.COLOR_BGR2RGB)"
      ],
      "execution_count": 97,
      "outputs": []
    },
    {
      "cell_type": "markdown",
      "metadata": {
        "id": "_ntdqxB5dsok"
      },
      "source": [
        "B1"
      ]
    },
    {
      "cell_type": "code",
      "metadata": {
        "id": "6N74-1BkdxgN"
      },
      "source": [
        "imgB1_01  = cv2.imread(B101)\n",
        "RGB_imgB1_01= cv2.cvtColor(imgB1_01, cv2.COLOR_BGR2RGB)"
      ],
      "execution_count": 98,
      "outputs": []
    },
    {
      "cell_type": "code",
      "metadata": {
        "id": "N8oZlwN0dyGl"
      },
      "source": [
        "imgB1_03  = cv2.imread(B103)\n",
        "RGB_imgB1_03= cv2.cvtColor(imgB1_03, cv2.COLOR_BGR2RGB)"
      ],
      "execution_count": 99,
      "outputs": []
    },
    {
      "cell_type": "code",
      "metadata": {
        "id": "igK3PDK9eCnz"
      },
      "source": [
        "imgB1_02  = cv2.imread(B102)\n",
        "RGB_imgB1_02= cv2.cvtColor(imgB1_02, cv2.COLOR_BGR2RGB)"
      ],
      "execution_count": 100,
      "outputs": []
    },
    {
      "cell_type": "code",
      "metadata": {
        "id": "VrS0M6pAeHIF"
      },
      "source": [
        "imgB1_04  = cv2.imread(B104)\n",
        "RGB_imgB1_04= cv2.cvtColor(imgB1_04, cv2.COLOR_BGR2RGB)"
      ],
      "execution_count": 101,
      "outputs": []
    },
    {
      "cell_type": "markdown",
      "metadata": {
        "id": "1I1KWoCMeObp"
      },
      "source": [
        "B2"
      ]
    },
    {
      "cell_type": "code",
      "metadata": {
        "id": "X-2JLg5feRPH"
      },
      "source": [
        "imgB2_01  = cv2.imread(B201)\n",
        "RGB_imgB2_01= cv2.cvtColor(imgB2_01, cv2.COLOR_BGR2RGB)"
      ],
      "execution_count": 102,
      "outputs": []
    },
    {
      "cell_type": "code",
      "metadata": {
        "id": "B_VstUr5eXwQ"
      },
      "source": [
        "imgB2_03  = cv2.imread(B203)\n",
        "RGB_imgB2_03= cv2.cvtColor(imgB2_03, cv2.COLOR_BGR2RGB)"
      ],
      "execution_count": 103,
      "outputs": []
    },
    {
      "cell_type": "code",
      "metadata": {
        "id": "2CgDr2APedK9"
      },
      "source": [
        "imgB2_04  = cv2.imread(B204)\n",
        "RGB_imgB2_04= cv2.cvtColor(imgB2_04, cv2.COLOR_BGR2RGB)"
      ],
      "execution_count": 104,
      "outputs": []
    },
    {
      "cell_type": "code",
      "metadata": {
        "id": "5xOt0vwDedc_"
      },
      "source": [
        "imgB2_02  = cv2.imread(B202)\n",
        "RGB_imgB2_02= cv2.cvtColor(imgB2_02, cv2.COLOR_BGR2RGB)"
      ],
      "execution_count": 105,
      "outputs": []
    },
    {
      "cell_type": "markdown",
      "metadata": {
        "id": "hUCBVyY7ePqP"
      },
      "source": [
        "B3"
      ]
    },
    {
      "cell_type": "code",
      "metadata": {
        "id": "LtfSY2yieq1m"
      },
      "source": [
        "imgB3_01  = cv2.imread(B301)\n",
        "RGB_imgB3_01= cv2.cvtColor(imgB3_01, cv2.COLOR_BGR2RGB)"
      ],
      "execution_count": 106,
      "outputs": []
    },
    {
      "cell_type": "code",
      "metadata": {
        "id": "794EGsZeevXI"
      },
      "source": [
        "imgB3_04  = cv2.imread(B304)\n",
        "RGB_imgB3_04= cv2.cvtColor(imgB3_04, cv2.COLOR_BGR2RGB)"
      ],
      "execution_count": 107,
      "outputs": []
    },
    {
      "cell_type": "code",
      "metadata": {
        "id": "lTZ_Ukume0_3"
      },
      "source": [
        "imgB3_02  = cv2.imread(B302)\n",
        "RGB_imgB3_02= cv2.cvtColor(imgB3_02, cv2.COLOR_BGR2RGB)"
      ],
      "execution_count": 108,
      "outputs": []
    },
    {
      "cell_type": "code",
      "metadata": {
        "id": "8QEXNswqe6yE"
      },
      "source": [
        "imgB3_03  = cv2.imread(B303)\n",
        "RGB_imgB3_03= cv2.cvtColor(imgB3_03, cv2.COLOR_BGR2RGB)"
      ],
      "execution_count": 109,
      "outputs": []
    },
    {
      "cell_type": "markdown",
      "metadata": {
        "id": "LcXBVCGVeQec"
      },
      "source": [
        "B4"
      ]
    },
    {
      "cell_type": "code",
      "metadata": {
        "id": "6aFTfOU0fKS7"
      },
      "source": [
        "imgB4_02  = cv2.imread(B402)\n",
        "RGB_imgB4_02= cv2.cvtColor(imgB4_02, cv2.COLOR_BGR2RGB)"
      ],
      "execution_count": 110,
      "outputs": []
    },
    {
      "cell_type": "code",
      "metadata": {
        "id": "yIuyXg-Wfh3L"
      },
      "source": [
        "imgB4_03  = cv2.imread(B403)\n",
        "RGB_imgB4_03= cv2.cvtColor(imgB4_03, cv2.COLOR_BGR2RGB)"
      ],
      "execution_count": 111,
      "outputs": []
    },
    {
      "cell_type": "code",
      "metadata": {
        "id": "xXaJJNF3fiG-"
      },
      "source": [
        "imgB4_01  = cv2.imread(B401)\n",
        "RGB_imgB4_01= cv2.cvtColor(imgB4_01, cv2.COLOR_BGR2RGB)"
      ],
      "execution_count": 112,
      "outputs": []
    },
    {
      "cell_type": "code",
      "metadata": {
        "id": "ILAXr3L4fGYz"
      },
      "source": [
        "imgB4_04  = cv2.imread(B404)\n",
        "RGB_imgB4_04= cv2.cvtColor(imgB4_04, cv2.COLOR_BGR2RGB)"
      ],
      "execution_count": 113,
      "outputs": []
    },
    {
      "cell_type": "markdown",
      "metadata": {
        "id": "uubEFQ7qf-tC"
      },
      "source": [
        "C1"
      ]
    },
    {
      "cell_type": "code",
      "metadata": {
        "id": "6-ubqoTsgJPC"
      },
      "source": [
        "imgC1_03  = cv2.imread(C103)\n",
        "RGB_imgC1_03= cv2.cvtColor(imgC1_03, cv2.COLOR_BGR2RGB)"
      ],
      "execution_count": 114,
      "outputs": []
    },
    {
      "cell_type": "code",
      "metadata": {
        "id": "t0KvXNPygJii"
      },
      "source": [
        "imgC1_04  = cv2.imread(C104)\n",
        "RGB_imgC1_04= cv2.cvtColor(imgC1_04, cv2.COLOR_BGR2RGB)"
      ],
      "execution_count": 115,
      "outputs": []
    },
    {
      "cell_type": "code",
      "metadata": {
        "id": "PiE8ZiNOgXXs"
      },
      "source": [
        "imgC1_02  = cv2.imread(C102)\n",
        "RGB_imgC1_02= cv2.cvtColor(imgC1_02, cv2.COLOR_BGR2RGB)"
      ],
      "execution_count": 116,
      "outputs": []
    },
    {
      "cell_type": "code",
      "metadata": {
        "id": "cqOor2j3gWvD"
      },
      "source": [
        "imgC1_01  = cv2.imread(C101)\n",
        "RGB_imgC1_01= cv2.cvtColor(imgC1_01, cv2.COLOR_BGR2RGB)"
      ],
      "execution_count": 117,
      "outputs": []
    },
    {
      "cell_type": "markdown",
      "metadata": {
        "id": "yyI19BAbf_7S"
      },
      "source": [
        "C2"
      ]
    },
    {
      "cell_type": "code",
      "metadata": {
        "id": "TzTzP-M1gmXw"
      },
      "source": [
        "imgC2_01  = cv2.imread(C201)\n",
        "RGB_imgC2_01= cv2.cvtColor(imgC2_01, cv2.COLOR_BGR2RGB)"
      ],
      "execution_count": 118,
      "outputs": []
    },
    {
      "cell_type": "code",
      "metadata": {
        "id": "QJfBlVmAgk3S"
      },
      "source": [
        "imgC2_02  = cv2.imread(C202)\n",
        "RGB_imgC2_02= cv2.cvtColor(imgC2_02, cv2.COLOR_BGR2RGB)"
      ],
      "execution_count": 119,
      "outputs": []
    },
    {
      "cell_type": "code",
      "metadata": {
        "id": "DVeUrQ0agmDP"
      },
      "source": [
        "imgC2_03  = cv2.imread(C203)\n",
        "RGB_imgC2_03= cv2.cvtColor(imgC2_03, cv2.COLOR_BGR2RGB)"
      ],
      "execution_count": 120,
      "outputs": []
    },
    {
      "cell_type": "code",
      "metadata": {
        "id": "XtghPEO2gmp8"
      },
      "source": [
        "imgC2_04  = cv2.imread(C204)\n",
        "RGB_imgC2_04= cv2.cvtColor(imgC2_04, cv2.COLOR_BGR2RGB)"
      ],
      "execution_count": 121,
      "outputs": []
    },
    {
      "cell_type": "markdown",
      "metadata": {
        "id": "vfSCdks7gBFH"
      },
      "source": [
        "C3"
      ]
    },
    {
      "cell_type": "code",
      "metadata": {
        "id": "2FGbyNm0hhmR"
      },
      "source": [
        "imgC3_01  = cv2.imread(C301)\n",
        "RGB_imgC3_01= cv2.cvtColor(imgC3_01, cv2.COLOR_BGR2RGB)"
      ],
      "execution_count": 122,
      "outputs": []
    },
    {
      "cell_type": "code",
      "metadata": {
        "id": "O60-VGAmhh97"
      },
      "source": [
        "imgC3_03  = cv2.imread(C303)\n",
        "RGB_imgC3_03= cv2.cvtColor(imgC3_03, cv2.COLOR_BGR2RGB)"
      ],
      "execution_count": 123,
      "outputs": []
    },
    {
      "cell_type": "code",
      "metadata": {
        "id": "Ic1so8G1hsTe"
      },
      "source": [
        "imgC3_02  = cv2.imread(C302)\n",
        "RGB_imgC3_02= cv2.cvtColor(imgC3_02, cv2.COLOR_BGR2RGB)"
      ],
      "execution_count": 124,
      "outputs": []
    },
    {
      "cell_type": "code",
      "metadata": {
        "id": "YtNRCI-8hsj-"
      },
      "source": [
        "imgC3_04  = cv2.imread(C304)\n",
        "RGB_imgC3_04= cv2.cvtColor(imgC3_04, cv2.COLOR_BGR2RGB)"
      ],
      "execution_count": 125,
      "outputs": []
    },
    {
      "cell_type": "markdown",
      "metadata": {
        "id": "VZuqvN-UgB1x"
      },
      "source": [
        "C4"
      ]
    },
    {
      "cell_type": "code",
      "metadata": {
        "id": "HWO6qM5kirOE"
      },
      "source": [
        "imgC4_02  = cv2.imread(C402)\n",
        "RGB_imgC4_02= cv2.cvtColor(imgC4_02, cv2.COLOR_BGR2RGB)"
      ],
      "execution_count": 126,
      "outputs": []
    },
    {
      "cell_type": "code",
      "metadata": {
        "id": "j4Pja6LViriS"
      },
      "source": [
        "imgC4_01  = cv2.imread(C401)\n",
        "RGB_imgC4_01= cv2.cvtColor(imgC4_01, cv2.COLOR_BGR2RGB)"
      ],
      "execution_count": 127,
      "outputs": []
    },
    {
      "cell_type": "code",
      "metadata": {
        "id": "X3o2PV6virzG"
      },
      "source": [
        "imgC4_03  = cv2.imread(C403)\n",
        "RGB_imgC4_03= cv2.cvtColor(imgC4_03, cv2.COLOR_BGR2RGB)"
      ],
      "execution_count": 128,
      "outputs": []
    },
    {
      "cell_type": "code",
      "metadata": {
        "id": "kPoMLVCdisHc"
      },
      "source": [
        "imgC4_04  = cv2.imread(C404)\n",
        "RGB_imgC4_04= cv2.cvtColor(imgC4_04, cv2.COLOR_BGR2RGB)"
      ],
      "execution_count": 129,
      "outputs": []
    },
    {
      "cell_type": "markdown",
      "metadata": {
        "id": "T9ARw2lYgCjL"
      },
      "source": [
        "D2"
      ]
    },
    {
      "cell_type": "code",
      "metadata": {
        "id": "DFmPhDzCjGWv"
      },
      "source": [
        "imgD2_04  = cv2.imread(D204)\n",
        "RGB_imgD2_04= cv2.cvtColor(imgD2_04, cv2.COLOR_BGR2RGB)"
      ],
      "execution_count": 130,
      "outputs": []
    },
    {
      "cell_type": "code",
      "metadata": {
        "id": "qujyaFlOjGni"
      },
      "source": [
        "imgD2_03  = cv2.imread(D203)\n",
        "RGB_imgD2_03= cv2.cvtColor(imgD2_03, cv2.COLOR_BGR2RGB)"
      ],
      "execution_count": 131,
      "outputs": []
    },
    {
      "cell_type": "code",
      "metadata": {
        "id": "zlPefHERjU-c"
      },
      "source": [
        "imgD2_02  = cv2.imread(D202)\n",
        "RGB_imgD2_02= cv2.cvtColor(imgD2_02, cv2.COLOR_BGR2RGB)"
      ],
      "execution_count": 132,
      "outputs": []
    },
    {
      "cell_type": "code",
      "metadata": {
        "id": "b3i_Rv95jVMQ"
      },
      "source": [
        "imgD2_01  = cv2.imread(D201)\n",
        "RGB_imgD2_01= cv2.cvtColor(imgD2_01, cv2.COLOR_BGR2RGB)"
      ],
      "execution_count": 133,
      "outputs": []
    },
    {
      "cell_type": "markdown",
      "metadata": {
        "id": "bCM2rsMZgDZt"
      },
      "source": [
        "D3"
      ]
    },
    {
      "cell_type": "code",
      "metadata": {
        "id": "543Pftj0jkoi"
      },
      "source": [
        "imgD3_01  = cv2.imread(D301)\n",
        "RGB_imgD3_01= cv2.cvtColor(imgD3_01, cv2.COLOR_BGR2RGB)"
      ],
      "execution_count": 134,
      "outputs": []
    },
    {
      "cell_type": "code",
      "metadata": {
        "id": "se8oOd8IjrIX"
      },
      "source": [
        "imgD3_02  = cv2.imread(D302)\n",
        "RGB_imgD3_02= cv2.cvtColor(imgD3_02, cv2.COLOR_BGR2RGB)"
      ],
      "execution_count": 135,
      "outputs": []
    },
    {
      "cell_type": "code",
      "metadata": {
        "id": "n569gXVKjymi"
      },
      "source": [
        "imgD3_03  = cv2.imread(D303)\n",
        "RGB_imgD3_03= cv2.cvtColor(imgD3_03, cv2.COLOR_BGR2RGB)"
      ],
      "execution_count": 136,
      "outputs": []
    },
    {
      "cell_type": "code",
      "metadata": {
        "id": "zAx3JzOnj4NU"
      },
      "source": [
        "imgD3_04  = cv2.imread(D304)\n",
        "RGB_imgD3_04= cv2.cvtColor(imgD3_04, cv2.COLOR_BGR2RGB)"
      ],
      "execution_count": 137,
      "outputs": []
    },
    {
      "cell_type": "markdown",
      "metadata": {
        "id": "mvMVz8Y9gETm"
      },
      "source": [
        "D4"
      ]
    },
    {
      "cell_type": "code",
      "metadata": {
        "id": "ES2mOiDQj-uU"
      },
      "source": [
        "imgD4_01  = cv2.imread(D401)\n",
        "RGB_imgD4_01= cv2.cvtColor(imgD4_01, cv2.COLOR_BGR2RGB)"
      ],
      "execution_count": 138,
      "outputs": []
    },
    {
      "cell_type": "code",
      "metadata": {
        "id": "68q0SjtIj_Dy"
      },
      "source": [
        "imgD4_02  = cv2.imread(D402)\n",
        "RGB_imgD4_02= cv2.cvtColor(imgD4_02, cv2.COLOR_BGR2RGB)"
      ],
      "execution_count": 139,
      "outputs": []
    },
    {
      "cell_type": "code",
      "metadata": {
        "id": "eZSd-x2GgDEL"
      },
      "source": [
        "imgD4_03  = cv2.imread(D403)\n",
        "RGB_imgD4_03= cv2.cvtColor(imgD4_03, cv2.COLOR_BGR2RGB)"
      ],
      "execution_count": 140,
      "outputs": []
    },
    {
      "cell_type": "code",
      "metadata": {
        "id": "ICINoEfIgDWj"
      },
      "source": [
        "imgD4_04  = cv2.imread(D404)\n",
        "RGB_imgD4_04= cv2.cvtColor(imgD4_04, cv2.COLOR_BGR2RGB)"
      ],
      "execution_count": 141,
      "outputs": []
    },
    {
      "cell_type": "markdown",
      "metadata": {
        "id": "uHfUzwcHhX8R"
      },
      "source": [
        "#4. RGB to LAB"
      ]
    },
    {
      "cell_type": "markdown",
      "metadata": {
        "id": "yBL9utUemWyZ"
      },
      "source": [
        "A1"
      ]
    },
    {
      "cell_type": "code",
      "metadata": {
        "id": "UiTCG8xFntwB"
      },
      "source": [
        "LAB_imgA1_01= cv2.cvtColor(RGB_imgA1_01, cv2.COLOR_RGB2LAB)"
      ],
      "execution_count": 142,
      "outputs": []
    },
    {
      "cell_type": "code",
      "metadata": {
        "id": "ktf3nM4antol"
      },
      "source": [
        "LAB_imgA1_02= cv2.cvtColor(RGB_imgA1_02, cv2.COLOR_RGB2LAB)"
      ],
      "execution_count": 143,
      "outputs": []
    },
    {
      "cell_type": "code",
      "metadata": {
        "id": "u-JFybcBntdc"
      },
      "source": [
        "LAB_imgA1_03= cv2.cvtColor(RGB_imgA1_03, cv2.COLOR_RGB2LAB)"
      ],
      "execution_count": 144,
      "outputs": []
    },
    {
      "cell_type": "code",
      "metadata": {
        "id": "EJ9wLDXenwG4"
      },
      "source": [
        "LAB_imgA1_04= cv2.cvtColor(RGB_imgA1_04, cv2.COLOR_RGB2LAB)"
      ],
      "execution_count": 145,
      "outputs": []
    },
    {
      "cell_type": "markdown",
      "metadata": {
        "id": "8rtewXNCpnBx"
      },
      "source": [
        "A2"
      ]
    },
    {
      "cell_type": "code",
      "metadata": {
        "id": "xsTPAG-gpqXo"
      },
      "source": [
        "LAB_imgA2_01= cv2.cvtColor(RGB_imgA2_01, cv2.COLOR_RGB2LAB)"
      ],
      "execution_count": 146,
      "outputs": []
    },
    {
      "cell_type": "code",
      "metadata": {
        "id": "Ssic_jpRqhqK"
      },
      "source": [
        "LAB_imgA2_02= cv2.cvtColor(RGB_imgA2_02, cv2.COLOR_RGB2LAB)"
      ],
      "execution_count": 147,
      "outputs": []
    },
    {
      "cell_type": "code",
      "metadata": {
        "id": "nYc5fnY9qpBk"
      },
      "source": [
        "LAB_imgA2_03= cv2.cvtColor(RGB_imgA2_03, cv2.COLOR_RGB2LAB)"
      ],
      "execution_count": 148,
      "outputs": []
    },
    {
      "cell_type": "code",
      "metadata": {
        "id": "hzoiKbbRqowx"
      },
      "source": [
        "LAB_imgA2_04= cv2.cvtColor(RGB_imgA2_04, cv2.COLOR_RGB2LAB)"
      ],
      "execution_count": 149,
      "outputs": []
    },
    {
      "cell_type": "markdown",
      "metadata": {
        "id": "aI5xdTY4pn8b"
      },
      "source": [
        "A3"
      ]
    },
    {
      "cell_type": "code",
      "metadata": {
        "id": "pCou6gLsrIwK"
      },
      "source": [
        "LAB_imgA3_01= cv2.cvtColor(RGB_imgA3_01, cv2.COLOR_RGB2LAB)"
      ],
      "execution_count": 150,
      "outputs": []
    },
    {
      "cell_type": "code",
      "metadata": {
        "id": "kVCfCF5OrIf4"
      },
      "source": [
        "LAB_imgA3_02= cv2.cvtColor(RGB_imgA3_02, cv2.COLOR_RGB2LAB)"
      ],
      "execution_count": 151,
      "outputs": []
    },
    {
      "cell_type": "code",
      "metadata": {
        "id": "mG7BAXngrITB"
      },
      "source": [
        "LAB_imgA3_03= cv2.cvtColor(RGB_imgA3_03, cv2.COLOR_RGB2LAB)"
      ],
      "execution_count": 152,
      "outputs": []
    },
    {
      "cell_type": "code",
      "metadata": {
        "id": "qix2SAstrH9-"
      },
      "source": [
        "LAB_imgA3_04= cv2.cvtColor(RGB_imgA3_04, cv2.COLOR_RGB2LAB)"
      ],
      "execution_count": 153,
      "outputs": []
    },
    {
      "cell_type": "markdown",
      "metadata": {
        "id": "cGC5Ray3poxR"
      },
      "source": [
        "A3.5"
      ]
    },
    {
      "cell_type": "code",
      "metadata": {
        "id": "6AkrYYCurpZL"
      },
      "source": [
        "LAB_imgA3_501= cv2.cvtColor(RGB_imgA3_501, cv2.COLOR_RGB2LAB)"
      ],
      "execution_count": 154,
      "outputs": []
    },
    {
      "cell_type": "code",
      "metadata": {
        "id": "JOQI8idOrpRN"
      },
      "source": [
        "LAB_imgA3_502= cv2.cvtColor(RGB_imgA3_502, cv2.COLOR_RGB2LAB)"
      ],
      "execution_count": 155,
      "outputs": []
    },
    {
      "cell_type": "code",
      "metadata": {
        "id": "zkTCbiLJrpIU"
      },
      "source": [
        "LAB_imgA3_503= cv2.cvtColor(RGB_imgA3_503, cv2.COLOR_RGB2LAB)"
      ],
      "execution_count": 156,
      "outputs": []
    },
    {
      "cell_type": "code",
      "metadata": {
        "id": "5LKXlyPProsL"
      },
      "source": [
        "LAB_imgA3_504= cv2.cvtColor(RGB_imgA3_504, cv2.COLOR_RGB2LAB)"
      ],
      "execution_count": 157,
      "outputs": []
    },
    {
      "cell_type": "markdown",
      "metadata": {
        "id": "DkthN7EuppmB"
      },
      "source": [
        "A4"
      ]
    },
    {
      "cell_type": "code",
      "metadata": {
        "id": "bNbHDb-Jr15k"
      },
      "source": [
        "LAB_imgA4_01= cv2.cvtColor(RGB_imgA4_01, cv2.COLOR_RGB2LAB)"
      ],
      "execution_count": 158,
      "outputs": []
    },
    {
      "cell_type": "code",
      "metadata": {
        "id": "1ftcCZIUr2Le"
      },
      "source": [
        "LAB_imgA4_02= cv2.cvtColor(RGB_imgA4_02, cv2.COLOR_RGB2LAB)"
      ],
      "execution_count": 159,
      "outputs": []
    },
    {
      "cell_type": "code",
      "metadata": {
        "id": "woxjbwstr2g6"
      },
      "source": [
        "LAB_imgA4_03= cv2.cvtColor(RGB_imgA4_03, cv2.COLOR_RGB2LAB)"
      ],
      "execution_count": 160,
      "outputs": []
    },
    {
      "cell_type": "code",
      "metadata": {
        "id": "qep6oqGLr2xv"
      },
      "source": [
        "LAB_imgA4_04= cv2.cvtColor(RGB_imgA4_04, cv2.COLOR_RGB2LAB)"
      ],
      "execution_count": 161,
      "outputs": []
    },
    {
      "cell_type": "markdown",
      "metadata": {
        "id": "rrX7vaLpsTz-"
      },
      "source": [
        "B1"
      ]
    },
    {
      "cell_type": "code",
      "metadata": {
        "id": "DNRoFy1wsVF_"
      },
      "source": [
        "LAB_imgB1_01= cv2.cvtColor(RGB_imgB1_01, cv2.COLOR_RGB2LAB)"
      ],
      "execution_count": 162,
      "outputs": []
    },
    {
      "cell_type": "code",
      "metadata": {
        "id": "zp3TpwKRsWvx"
      },
      "source": [
        "LAB_imgB1_02= cv2.cvtColor(RGB_imgB1_02, cv2.COLOR_RGB2LAB)"
      ],
      "execution_count": 163,
      "outputs": []
    },
    {
      "cell_type": "code",
      "metadata": {
        "id": "xrzFoPNVsXI9"
      },
      "source": [
        "LAB_imgB1_03= cv2.cvtColor(RGB_imgB1_03, cv2.COLOR_RGB2LAB)"
      ],
      "execution_count": 164,
      "outputs": []
    },
    {
      "cell_type": "code",
      "metadata": {
        "id": "_qS1zGa4sXZU"
      },
      "source": [
        "LAB_imgB1_04= cv2.cvtColor(RGB_imgB1_04, cv2.COLOR_RGB2LAB)"
      ],
      "execution_count": 165,
      "outputs": []
    },
    {
      "cell_type": "markdown",
      "metadata": {
        "id": "dzo4UhMAsX3I"
      },
      "source": [
        "B2"
      ]
    },
    {
      "cell_type": "code",
      "metadata": {
        "id": "a9bFqn5FsY44"
      },
      "source": [
        "LAB_imgB2_01= cv2.cvtColor(RGB_imgB2_01, cv2.COLOR_RGB2LAB)"
      ],
      "execution_count": 166,
      "outputs": []
    },
    {
      "cell_type": "code",
      "metadata": {
        "id": "xrHo9VfLsZXM"
      },
      "source": [
        "LAB_imgB2_03= cv2.cvtColor(RGB_imgB2_03, cv2.COLOR_RGB2LAB)"
      ],
      "execution_count": 167,
      "outputs": []
    },
    {
      "cell_type": "code",
      "metadata": {
        "id": "oPLazK61sZ1W"
      },
      "source": [
        "LAB_imgB2_04= cv2.cvtColor(RGB_imgB2_04, cv2.COLOR_RGB2LAB)"
      ],
      "execution_count": 168,
      "outputs": []
    },
    {
      "cell_type": "code",
      "metadata": {
        "id": "wAy1CJY8saG6"
      },
      "source": [
        "LAB_imgB2_02= cv2.cvtColor(RGB_imgB2_02, cv2.COLOR_RGB2LAB)"
      ],
      "execution_count": 169,
      "outputs": []
    },
    {
      "cell_type": "markdown",
      "metadata": {
        "id": "TnccqxHJtNzw"
      },
      "source": [
        "B3"
      ]
    },
    {
      "cell_type": "code",
      "metadata": {
        "id": "6UlUYvwltP4E"
      },
      "source": [
        "LAB_imgB3_01= cv2.cvtColor(RGB_imgB3_01, cv2.COLOR_RGB2LAB)"
      ],
      "execution_count": 170,
      "outputs": []
    },
    {
      "cell_type": "code",
      "metadata": {
        "id": "Eq5sKtuNtPw7"
      },
      "source": [
        "LAB_imgB3_04= cv2.cvtColor(RGB_imgB3_04, cv2.COLOR_RGB2LAB)"
      ],
      "execution_count": 171,
      "outputs": []
    },
    {
      "cell_type": "code",
      "metadata": {
        "id": "ut-9sRhptPol"
      },
      "source": [
        "LAB_imgB3_03= cv2.cvtColor(RGB_imgB3_03, cv2.COLOR_RGB2LAB)"
      ],
      "execution_count": 172,
      "outputs": []
    },
    {
      "cell_type": "code",
      "metadata": {
        "id": "jPF5GyyetPU_"
      },
      "source": [
        "LAB_imgB3_02= cv2.cvtColor(RGB_imgB3_02, cv2.COLOR_RGB2LAB)"
      ],
      "execution_count": 173,
      "outputs": []
    },
    {
      "cell_type": "markdown",
      "metadata": {
        "id": "xZINrtsKtOnt"
      },
      "source": [
        "B4"
      ]
    },
    {
      "cell_type": "code",
      "metadata": {
        "id": "SeSRHJjYtpGP"
      },
      "source": [
        "LAB_imgB4_02= cv2.cvtColor(RGB_imgB4_02, cv2.COLOR_RGB2LAB)"
      ],
      "execution_count": 174,
      "outputs": []
    },
    {
      "cell_type": "code",
      "metadata": {
        "id": "R4wpA7bLto3a"
      },
      "source": [
        "LAB_imgB4_03= cv2.cvtColor(RGB_imgB4_03, cv2.COLOR_RGB2LAB)"
      ],
      "execution_count": 175,
      "outputs": []
    },
    {
      "cell_type": "code",
      "metadata": {
        "id": "vD9WSa1VtovA"
      },
      "source": [
        "LAB_imgB4_01= cv2.cvtColor(RGB_imgB4_01, cv2.COLOR_RGB2LAB)"
      ],
      "execution_count": 176,
      "outputs": []
    },
    {
      "cell_type": "code",
      "metadata": {
        "id": "o40LIXDBtonM"
      },
      "source": [
        "LAB_imgB4_04= cv2.cvtColor(RGB_imgB4_04, cv2.COLOR_RGB2LAB)"
      ],
      "execution_count": 177,
      "outputs": []
    },
    {
      "cell_type": "markdown",
      "metadata": {
        "id": "yLHsd5D4t50J"
      },
      "source": [
        "C1"
      ]
    },
    {
      "cell_type": "code",
      "metadata": {
        "id": "2p-LPjykt_yW"
      },
      "source": [
        "LAB_imgC1_03= cv2.cvtColor(RGB_imgC1_03, cv2.COLOR_RGB2LAB)"
      ],
      "execution_count": 178,
      "outputs": []
    },
    {
      "cell_type": "code",
      "metadata": {
        "id": "rdHlj07At_pP"
      },
      "source": [
        "LAB_imgC1_02= cv2.cvtColor(RGB_imgC1_02, cv2.COLOR_RGB2LAB)"
      ],
      "execution_count": 179,
      "outputs": []
    },
    {
      "cell_type": "code",
      "metadata": {
        "id": "fAaBZ-xHt_iB"
      },
      "source": [
        "LAB_imgC1_04= cv2.cvtColor(RGB_imgC1_04, cv2.COLOR_RGB2LAB)"
      ],
      "execution_count": 180,
      "outputs": []
    },
    {
      "cell_type": "code",
      "metadata": {
        "id": "_HTZkwblt_Z0"
      },
      "source": [
        "LAB_imgC1_01= cv2.cvtColor(RGB_imgC1_01, cv2.COLOR_RGB2LAB)"
      ],
      "execution_count": 181,
      "outputs": []
    },
    {
      "cell_type": "markdown",
      "metadata": {
        "id": "JeHYgzj7t7UT"
      },
      "source": [
        "C2"
      ]
    },
    {
      "cell_type": "code",
      "metadata": {
        "id": "EAqFpnsvuTNJ"
      },
      "source": [
        "LAB_imgC2_02= cv2.cvtColor(RGB_imgC2_02, cv2.COLOR_RGB2LAB)"
      ],
      "execution_count": 182,
      "outputs": []
    },
    {
      "cell_type": "code",
      "metadata": {
        "id": "wwTtWI5xuTGB"
      },
      "source": [
        "LAB_imgC2_01= cv2.cvtColor(RGB_imgC2_01, cv2.COLOR_RGB2LAB)"
      ],
      "execution_count": 183,
      "outputs": []
    },
    {
      "cell_type": "code",
      "metadata": {
        "id": "gmglr0e-uS-7"
      },
      "source": [
        "LAB_imgC2_04= cv2.cvtColor(RGB_imgC2_04, cv2.COLOR_RGB2LAB)"
      ],
      "execution_count": 184,
      "outputs": []
    },
    {
      "cell_type": "code",
      "metadata": {
        "id": "XmcUNeqVuS4f"
      },
      "source": [
        "LAB_imgC2_03= cv2.cvtColor(RGB_imgC2_03, cv2.COLOR_RGB2LAB)"
      ],
      "execution_count": 185,
      "outputs": []
    },
    {
      "cell_type": "markdown",
      "metadata": {
        "id": "TWvT9dUft7_0"
      },
      "source": [
        "C3"
      ]
    },
    {
      "cell_type": "code",
      "metadata": {
        "id": "xzI3OKXMuioR"
      },
      "source": [
        "LAB_imgC3_01= cv2.cvtColor(RGB_imgC3_01, cv2.COLOR_RGB2LAB)"
      ],
      "execution_count": 186,
      "outputs": []
    },
    {
      "cell_type": "code",
      "metadata": {
        "id": "G_qoc3spuigB"
      },
      "source": [
        "LAB_imgC3_03= cv2.cvtColor(RGB_imgC3_03, cv2.COLOR_RGB2LAB)"
      ],
      "execution_count": 187,
      "outputs": []
    },
    {
      "cell_type": "code",
      "metadata": {
        "id": "BuyacIypuiZg"
      },
      "source": [
        "LAB_imgC3_04= cv2.cvtColor(RGB_imgC3_04, cv2.COLOR_RGB2LAB)"
      ],
      "execution_count": 188,
      "outputs": []
    },
    {
      "cell_type": "code",
      "metadata": {
        "id": "--fV2onBuiRu"
      },
      "source": [
        "LAB_imgC3_02= cv2.cvtColor(RGB_imgC3_02, cv2.COLOR_RGB2LAB)"
      ],
      "execution_count": 189,
      "outputs": []
    },
    {
      "cell_type": "markdown",
      "metadata": {
        "id": "rfRgDMm7t8qf"
      },
      "source": [
        "C4"
      ]
    },
    {
      "cell_type": "code",
      "metadata": {
        "id": "t15dvQqsuuZo"
      },
      "source": [
        "LAB_imgC4_02= cv2.cvtColor(RGB_imgC4_02, cv2.COLOR_RGB2LAB)"
      ],
      "execution_count": 190,
      "outputs": []
    },
    {
      "cell_type": "code",
      "metadata": {
        "id": "YkkHIM4-uuvj"
      },
      "source": [
        "LAB_imgC4_04= cv2.cvtColor(RGB_imgC4_04, cv2.COLOR_RGB2LAB)"
      ],
      "execution_count": 191,
      "outputs": []
    },
    {
      "cell_type": "code",
      "metadata": {
        "id": "3AyL5cwwuuod"
      },
      "source": [
        "LAB_imgC4_03= cv2.cvtColor(RGB_imgC4_03, cv2.COLOR_RGB2LAB)"
      ],
      "execution_count": 192,
      "outputs": []
    },
    {
      "cell_type": "code",
      "metadata": {
        "id": "RGQ8Mi_3uuhp"
      },
      "source": [
        "LAB_imgC4_01= cv2.cvtColor(RGB_imgC4_01, cv2.COLOR_RGB2LAB)"
      ],
      "execution_count": 193,
      "outputs": []
    },
    {
      "cell_type": "markdown",
      "metadata": {
        "id": "DID5W6jot9pI"
      },
      "source": [
        "D2"
      ]
    },
    {
      "cell_type": "code",
      "metadata": {
        "id": "nlOKN8S1uv5p"
      },
      "source": [
        "LAB_imgD2_04= cv2.cvtColor(RGB_imgD2_04, cv2.COLOR_RGB2LAB)"
      ],
      "execution_count": 194,
      "outputs": []
    },
    {
      "cell_type": "code",
      "metadata": {
        "id": "xapLpqazuvbP"
      },
      "source": [
        "LAB_imgD2_01= cv2.cvtColor(RGB_imgD2_01, cv2.COLOR_RGB2LAB)"
      ],
      "execution_count": 195,
      "outputs": []
    },
    {
      "cell_type": "code",
      "metadata": {
        "id": "jRXzn-LouvVV"
      },
      "source": [
        "LAB_imgD2_02= cv2.cvtColor(RGB_imgD2_02, cv2.COLOR_RGB2LAB)"
      ],
      "execution_count": 196,
      "outputs": []
    },
    {
      "cell_type": "code",
      "metadata": {
        "id": "TPB_PHRbuvOn"
      },
      "source": [
        "LAB_imgD2_03= cv2.cvtColor(RGB_imgD2_03, cv2.COLOR_RGB2LAB)"
      ],
      "execution_count": 197,
      "outputs": []
    },
    {
      "cell_type": "markdown",
      "metadata": {
        "id": "RdzTIOPUt-U9"
      },
      "source": [
        "D3"
      ]
    },
    {
      "cell_type": "code",
      "metadata": {
        "id": "vdzrjvXjuxGq"
      },
      "source": [
        "LAB_imgD3_02= cv2.cvtColor(RGB_imgD3_02, cv2.COLOR_RGB2LAB)"
      ],
      "execution_count": 198,
      "outputs": []
    },
    {
      "cell_type": "code",
      "metadata": {
        "id": "SHeWKMvduw_L"
      },
      "source": [
        "LAB_imgD3_01= cv2.cvtColor(RGB_imgD3_01, cv2.COLOR_RGB2LAB)"
      ],
      "execution_count": 199,
      "outputs": []
    },
    {
      "cell_type": "code",
      "metadata": {
        "id": "jWpHp4wFuw40"
      },
      "source": [
        "LAB_imgD3_03= cv2.cvtColor(RGB_imgD3_03, cv2.COLOR_RGB2LAB)"
      ],
      "execution_count": 200,
      "outputs": []
    },
    {
      "cell_type": "code",
      "metadata": {
        "id": "r7HUVynyuwui"
      },
      "source": [
        "LAB_imgD3_04= cv2.cvtColor(RGB_imgD3_04, cv2.COLOR_RGB2LAB)"
      ],
      "execution_count": 201,
      "outputs": []
    },
    {
      "cell_type": "markdown",
      "metadata": {
        "id": "JcqL8Do5nwjA"
      },
      "source": [
        "D4"
      ]
    },
    {
      "cell_type": "code",
      "metadata": {
        "id": "Ci4XGpanvFmg"
      },
      "source": [
        "LAB_imgD4_01= cv2.cvtColor(RGB_imgD4_01, cv2.COLOR_RGB2LAB)"
      ],
      "execution_count": 202,
      "outputs": []
    },
    {
      "cell_type": "code",
      "metadata": {
        "id": "RPgqKuRSvFcZ"
      },
      "source": [
        "LAB_imgD4_02= cv2.cvtColor(RGB_imgD4_02, cv2.COLOR_RGB2LAB)"
      ],
      "execution_count": 203,
      "outputs": []
    },
    {
      "cell_type": "code",
      "metadata": {
        "id": "6kwiGpRAjboY"
      },
      "source": [
        "LAB_imgD4_03= cv2.cvtColor(RGB_imgD4_03, cv2.COLOR_RGB2LAB)"
      ],
      "execution_count": 204,
      "outputs": []
    },
    {
      "cell_type": "code",
      "metadata": {
        "id": "3J_3qb0bjbTX"
      },
      "source": [
        "LAB_imgD4_04= cv2.cvtColor(RGB_imgD4_04, cv2.COLOR_RGB2LAB)"
      ],
      "execution_count": 205,
      "outputs": []
    },
    {
      "cell_type": "markdown",
      "metadata": {
        "id": "JMrxyeYnwOjD"
      },
      "source": [
        "#5. ดึงสี"
      ]
    },
    {
      "cell_type": "markdown",
      "metadata": {
        "id": "qw2Btv3twaER"
      },
      "source": [
        "A1"
      ]
    },
    {
      "cell_type": "code",
      "metadata": {
        "id": "jwmj6XavwSCz"
      },
      "source": [
        "for i in range(LAB_imgA1_01.shape[0]): #ให้ i รันตาม row หรือ shape[0] คือแถว มีทั้งหมด 4032 แถว ของภาพที่ปรับขนาดมาแล้ว\n",
        "     for j in range(LAB_imgA1_01.shape[1]): #ให้ j รันตาม colum มีทั้งหมด 3024 colum เช่น แถวที่ 1 เข้ามาให้รันครบ 3024colum\n",
        "                if 1769<i<1881 and 2019<j<2131 :#ถ้าค่า i ที่เข้ามาอยู่ระหว่าง 1849 - 2101   ค่า j  ที่เข้ามาอยู่ระหว่าง 1799-2001\n",
        "                   (LAB_imgA1_01[i][j])#ถ้าค่าอยู่ใน ij  จะให้แสดงค่าที่อยู่ตำแหน่งนั้นๆ"
      ],
      "execution_count": 206,
      "outputs": []
    },
    {
      "cell_type": "code",
      "metadata": {
        "id": "xZ-Lxu9-xb0e"
      },
      "source": [
        "for i in range(LAB_imgA1_02.shape[0]): \n",
        "     for j in range(LAB_imgA1_02.shape[1]): \n",
        "                if 1769<i<1881 and 2019<j<2131 :\n",
        "                 (LAB_imgA1_02[i][j])"
      ],
      "execution_count": 207,
      "outputs": []
    },
    {
      "cell_type": "code",
      "metadata": {
        "id": "10vZXOYGx8Zn"
      },
      "source": [
        "for i in range(LAB_imgA1_03.shape[0]):\n",
        "     for j in range(LAB_imgA1_03.shape[1]): \n",
        "                if 1769<i<1881 and 2019<j<2131 :\n",
        "                  (LAB_imgA1_03[i][j])"
      ],
      "execution_count": 208,
      "outputs": []
    },
    {
      "cell_type": "code",
      "metadata": {
        "id": "aiBTb_2_x82I"
      },
      "source": [
        "for i in range(LAB_imgA1_04.shape[0]):\n",
        "     for j in range(LAB_imgA1_04.shape[1]): \n",
        "                if 1769<i<1881 and 2019<j<2131 :\n",
        "                  (LAB_imgA1_04[i][j])"
      ],
      "execution_count": 209,
      "outputs": []
    },
    {
      "cell_type": "markdown",
      "metadata": {
        "id": "jTiRr9XUy_gP"
      },
      "source": [
        "A2"
      ]
    },
    {
      "cell_type": "code",
      "metadata": {
        "id": "eobeeRWAzHNs"
      },
      "source": [
        "for i in range(LAB_imgA2_02.shape[0]): \n",
        "     for j in range(LAB_imgA2_02.shape[1]): \n",
        "                if 1769<i<1881 and 2019<j<2131 :\n",
        "                 (LAB_imgA2_02[i][j])"
      ],
      "execution_count": 210,
      "outputs": []
    },
    {
      "cell_type": "code",
      "metadata": {
        "id": "DyGuQiP2zGpX"
      },
      "source": [
        "for i in range(LAB_imgA2_04.shape[0]): \n",
        "     for j in range(LAB_imgA2_04.shape[1]): \n",
        "                if 1769<i<1881 and 2019<j<2131 :\n",
        "                 (LAB_imgA2_04[i][j])"
      ],
      "execution_count": 211,
      "outputs": []
    },
    {
      "cell_type": "code",
      "metadata": {
        "id": "UMKaPJY5zHFN"
      },
      "source": [
        "for i in range(LAB_imgA2_01.shape[0]): \n",
        "     for j in range(LAB_imgA2_01.shape[1]): \n",
        "                if 1769<i<1881 and 2019<j<2131 :\n",
        "                 (LAB_imgA2_01[i][j])"
      ],
      "execution_count": 212,
      "outputs": []
    },
    {
      "cell_type": "code",
      "metadata": {
        "id": "qqFJ5RUmzG7f"
      },
      "source": [
        "for i in range(LAB_imgA2_03.shape[0]): \n",
        "     for j in range(LAB_imgA2_03.shape[1]): \n",
        "                if 1769<i<1881 and 2019<j<2131 :\n",
        "                 (LAB_imgA2_03[i][j])"
      ],
      "execution_count": 213,
      "outputs": []
    },
    {
      "cell_type": "markdown",
      "metadata": {
        "id": "seWEFP5KzdNo"
      },
      "source": [
        "A3"
      ]
    },
    {
      "cell_type": "code",
      "metadata": {
        "id": "HdhQwqRWz3A-"
      },
      "source": [
        "for i in range(LAB_imgA3_03.shape[0]): \n",
        "     for j in range(LAB_imgA3_03.shape[1]): \n",
        "                if 1769<i<1881 and 2019<j<2131 :\n",
        "                 (LAB_imgA3_03[i][j])"
      ],
      "execution_count": 214,
      "outputs": []
    },
    {
      "cell_type": "code",
      "metadata": {
        "id": "SajdmMwqz24D"
      },
      "source": [
        "for i in range(LAB_imgA3_01.shape[0]): \n",
        "     for j in range(LAB_imgA3_01.shape[1]): \n",
        "                if 1769<i<1881 and 2019<j<2131 :\n",
        "                 (LAB_imgA3_01[i][j])"
      ],
      "execution_count": 215,
      "outputs": []
    },
    {
      "cell_type": "code",
      "metadata": {
        "id": "schK9I44z2up"
      },
      "source": [
        "for i in range(LAB_imgA3_02.shape[0]): \n",
        "     for j in range(LAB_imgA3_02.shape[1]): \n",
        "                if 1769<i<1881 and 2019<j<2131 :\n",
        "                 (LAB_imgA3_02[i][j])"
      ],
      "execution_count": 216,
      "outputs": []
    },
    {
      "cell_type": "code",
      "metadata": {
        "id": "dElzA6B1z2hh"
      },
      "source": [
        "for i in range(LAB_imgA3_04.shape[0]): \n",
        "     for j in range(LAB_imgA3_04.shape[1]): \n",
        "                if 1769<i<1881 and 2019<j<2131 :\n",
        "                 (LAB_imgA3_04[i][j])"
      ],
      "execution_count": 217,
      "outputs": []
    },
    {
      "cell_type": "markdown",
      "metadata": {
        "id": "e-8jafvYzeZh"
      },
      "source": [
        "A3.5"
      ]
    },
    {
      "cell_type": "code",
      "metadata": {
        "id": "St9f7kLX0Qe6"
      },
      "source": [
        "for i in range(LAB_imgA3_501.shape[0]): \n",
        "     for j in range(LAB_imgA3_501.shape[1]): \n",
        "                if 1769<i<1881 and 2019<j<2131 :\n",
        "                 (LAB_imgA3_501[i][j])"
      ],
      "execution_count": 218,
      "outputs": []
    },
    {
      "cell_type": "code",
      "metadata": {
        "id": "SGlKRpF_0Qox"
      },
      "source": [
        "for i in range(LAB_imgA3_502.shape[0]): \n",
        "     for j in range(LAB_imgA3_502.shape[1]): \n",
        "                if 1769<i<1881 and 2019<j<2131 :\n",
        "                 (LAB_imgA3_502[i][j])"
      ],
      "execution_count": 219,
      "outputs": []
    },
    {
      "cell_type": "code",
      "metadata": {
        "id": "2pp1QyLV0QX9"
      },
      "source": [
        "for i in range(LAB_imgA3_503.shape[0]): \n",
        "     for j in range(LAB_imgA3_503.shape[1]): \n",
        "                if 1769<i<1881 and 2019<j<2131 :\n",
        "                 (LAB_imgA3_503[i][j])"
      ],
      "execution_count": 220,
      "outputs": []
    },
    {
      "cell_type": "code",
      "metadata": {
        "id": "HaZuvCEk0QPf"
      },
      "source": [
        "for i in range(LAB_imgA3_504.shape[0]): \n",
        "     for j in range(LAB_imgA3_504.shape[1]): \n",
        "                if 1769<i<1881 and 2019<j<2131 :\n",
        "                 (LAB_imgA3_504[i][j])"
      ],
      "execution_count": 221,
      "outputs": []
    },
    {
      "cell_type": "markdown",
      "metadata": {
        "id": "T8YIrB50zfz-"
      },
      "source": [
        "A4 "
      ]
    },
    {
      "cell_type": "code",
      "metadata": {
        "id": "JtCLy0qR0nAX"
      },
      "source": [
        "for i in range(LAB_imgA4_01.shape[0]): \n",
        "     for j in range(LAB_imgA4_01.shape[1]): \n",
        "                if 1769<i<1881 and 2019<j<2131 :\n",
        "                 (LAB_imgA4_01[i][j])"
      ],
      "execution_count": 222,
      "outputs": []
    },
    {
      "cell_type": "code",
      "metadata": {
        "id": "Hf0JhjSr0m4a"
      },
      "source": [
        "for i in range(LAB_imgA4_04.shape[0]): \n",
        "     for j in range(LAB_imgA4_04.shape[1]): \n",
        "                if 1769<i<1881 and 2019<j<2131 :\n",
        "                 (LAB_imgA4_04[i][j])"
      ],
      "execution_count": 223,
      "outputs": []
    },
    {
      "cell_type": "code",
      "metadata": {
        "id": "lU7qgO730mwt"
      },
      "source": [
        "for i in range(LAB_imgA4_03.shape[0]): \n",
        "     for j in range(LAB_imgA4_03.shape[1]): \n",
        "                if 1769<i<1881 and 2019<j<2131 :\n",
        "                 (LAB_imgA4_03[i][j])"
      ],
      "execution_count": 224,
      "outputs": []
    },
    {
      "cell_type": "code",
      "metadata": {
        "id": "3woTPWZR0moq"
      },
      "source": [
        "for i in range(LAB_imgA4_02.shape[0]): \n",
        "     for j in range(LAB_imgA4_02.shape[1]): \n",
        "                if 1769<i<1881 and 2019<j<2131 :\n",
        "                 (LAB_imgA4_02[i][j])"
      ],
      "execution_count": 225,
      "outputs": []
    },
    {
      "cell_type": "markdown",
      "metadata": {
        "id": "j2qM32H51EnG"
      },
      "source": [
        "B1"
      ]
    },
    {
      "cell_type": "code",
      "metadata": {
        "id": "SWNQW9gi1LCn"
      },
      "source": [
        "for i in range(LAB_imgB1_02.shape[0]): \n",
        "     for j in range(LAB_imgB1_02.shape[1]): \n",
        "                if 1769<i<1881 and 2019<j<2131 :\n",
        "                 (LAB_imgB1_02[i][j])"
      ],
      "execution_count": 226,
      "outputs": []
    },
    {
      "cell_type": "code",
      "metadata": {
        "id": "gCMzRnvw1K4U"
      },
      "source": [
        "for i in range(LAB_imgB1_03.shape[0]): \n",
        "     for j in range(LAB_imgB1_03.shape[1]): \n",
        "                if 1769<i<1881 and 2019<j<2131 :\n",
        "                 (LAB_imgB1_03[i][j])"
      ],
      "execution_count": 227,
      "outputs": []
    },
    {
      "cell_type": "code",
      "metadata": {
        "id": "nnGR1Du_1Kt8"
      },
      "source": [
        "for i in range(LAB_imgB1_01.shape[0]): \n",
        "     for j in range(LAB_imgB1_01.shape[1]): \n",
        "                if 1769<i<1881 and 2019<j<2131 :\n",
        "                 (LAB_imgB1_01[i][j])"
      ],
      "execution_count": 228,
      "outputs": []
    },
    {
      "cell_type": "code",
      "metadata": {
        "id": "XqglTNwE1Keg"
      },
      "source": [
        "for i in range(LAB_imgB1_04.shape[0]): \n",
        "     for j in range(LAB_imgB1_04.shape[1]): \n",
        "                if 1769<i<1881 and 2019<j<2131 :\n",
        "                 (LAB_imgB1_04[i][j])"
      ],
      "execution_count": 229,
      "outputs": []
    },
    {
      "cell_type": "markdown",
      "metadata": {
        "id": "gal2BJDK1HYu"
      },
      "source": [
        "B2"
      ]
    },
    {
      "cell_type": "code",
      "metadata": {
        "id": "asjFneZV1Lzb"
      },
      "source": [
        "for i in range(LAB_imgB2_01.shape[0]): \n",
        "     for j in range(LAB_imgB2_01.shape[1]): \n",
        "                if 1769<i<1881 and 2019<j<2131 :\n",
        "                 (LAB_imgB2_01[i][j])"
      ],
      "execution_count": 230,
      "outputs": []
    },
    {
      "cell_type": "code",
      "metadata": {
        "id": "U3RYMyse1LqV"
      },
      "source": [
        "for i in range(LAB_imgB2_03.shape[0]): \n",
        "     for j in range(LAB_imgB2_03.shape[1]): \n",
        "                if 1769<i<1881 and 2019<j<2131 :\n",
        "                 (LAB_imgB2_03[i][j])"
      ],
      "execution_count": 231,
      "outputs": []
    },
    {
      "cell_type": "code",
      "metadata": {
        "id": "T_9aHkY21Lh9"
      },
      "source": [
        "for i in range(LAB_imgB2_04.shape[0]): \n",
        "     for j in range(LAB_imgB2_04.shape[1]): \n",
        "                if 1769<i<1881 and 2019<j<2131 :\n",
        "                 (LAB_imgB2_04[i][j])"
      ],
      "execution_count": 232,
      "outputs": []
    },
    {
      "cell_type": "code",
      "metadata": {
        "id": "x6JkQZK81LZ2"
      },
      "source": [
        "for i in range(LAB_imgB2_02.shape[0]): \n",
        "     for j in range(LAB_imgB2_02.shape[1]): \n",
        "                if 1769<i<1881 and 2019<j<2131 :\n",
        "                 (LAB_imgB2_02[i][j])"
      ],
      "execution_count": 233,
      "outputs": []
    },
    {
      "cell_type": "markdown",
      "metadata": {
        "id": "63v00LGi1Icj"
      },
      "source": [
        "B3 "
      ]
    },
    {
      "cell_type": "code",
      "metadata": {
        "id": "WYz7s47-1MzR"
      },
      "source": [
        "for i in range(LAB_imgB3_01.shape[0]): \n",
        "     for j in range(LAB_imgB3_01.shape[1]): \n",
        "                if 1769<i<1881 and 2019<j<2131 :\n",
        "                 (LAB_imgB3_01[i][j])"
      ],
      "execution_count": 234,
      "outputs": []
    },
    {
      "cell_type": "code",
      "metadata": {
        "id": "8As_bcue1MrP"
      },
      "source": [
        "for i in range(LAB_imgB3_04.shape[0]): \n",
        "     for j in range(LAB_imgB3_04.shape[1]): \n",
        "                if 1769<i<1881 and 2019<j<2131 :\n",
        "                 (LAB_imgB3_04[i][j])"
      ],
      "execution_count": 235,
      "outputs": []
    },
    {
      "cell_type": "code",
      "metadata": {
        "id": "QDH4UADC1MjD"
      },
      "source": [
        "for i in range(LAB_imgB3_03.shape[0]): \n",
        "     for j in range(LAB_imgB3_03.shape[1]): \n",
        "                if 1769<i<1881 and 2019<j<2131 :\n",
        "                 (LAB_imgB3_03[i][j])"
      ],
      "execution_count": 236,
      "outputs": []
    },
    {
      "cell_type": "code",
      "metadata": {
        "id": "BTDsHyYP1Mbg"
      },
      "source": [
        "for i in range(LAB_imgB3_04.shape[0]): \n",
        "     for j in range(LAB_imgB3_04.shape[1]): \n",
        "                if 1769<i<1881 and 2019<j<2131 :\n",
        "                 (LAB_imgB3_04[i][j])"
      ],
      "execution_count": 237,
      "outputs": []
    },
    {
      "cell_type": "markdown",
      "metadata": {
        "id": "2HAcrkm-1Jbf"
      },
      "source": [
        "B4"
      ]
    },
    {
      "cell_type": "code",
      "metadata": {
        "id": "wVTePsRn1NkQ"
      },
      "source": [
        "for i in range(LAB_imgB4_02.shape[0]): \n",
        "     for j in range(LAB_imgB4_02.shape[1]): \n",
        "                if 1769<i<1881 and 2019<j<2131 :\n",
        "                 (LAB_imgB4_02[i][j])"
      ],
      "execution_count": 238,
      "outputs": []
    },
    {
      "cell_type": "code",
      "metadata": {
        "id": "U9Lh5EoT1NdU"
      },
      "source": [
        "for i in range(LAB_imgB4_01.shape[0]): \n",
        "     for j in range(LAB_imgB4_01.shape[1]): \n",
        "                if 1769<i<1881 and 2019<j<2131 :\n",
        "                 (LAB_imgB4_01[i][j])"
      ],
      "execution_count": 239,
      "outputs": []
    },
    {
      "cell_type": "code",
      "metadata": {
        "id": "G8LjGsjn1NWu"
      },
      "source": [
        "for i in range(LAB_imgB4_03.shape[0]): \n",
        "     for j in range(LAB_imgB4_03.shape[1]): \n",
        "                if 1769<i<1881 and 2019<j<2131 :\n",
        "                 (LAB_imgB4_03[i][j])"
      ],
      "execution_count": 240,
      "outputs": []
    },
    {
      "cell_type": "code",
      "metadata": {
        "id": "3QQyxQQ21NQ8"
      },
      "source": [
        "for i in range(LAB_imgB4_04.shape[0]): \n",
        "     for j in range(LAB_imgB4_04.shape[1]): \n",
        "                if 1769<i<1881 and 2019<j<2131 :\n",
        "                 (LAB_imgB4_04[i][j])"
      ],
      "execution_count": 241,
      "outputs": []
    },
    {
      "cell_type": "markdown",
      "metadata": {
        "id": "LJ5o5oOk5bLC"
      },
      "source": [
        "C1"
      ]
    },
    {
      "cell_type": "code",
      "metadata": {
        "id": "w0ZlIxNQ1c2V"
      },
      "source": [
        "for i in range(LAB_imgC1_03.shape[0]): \n",
        "     for j in range(LAB_imgC1_03.shape[1]): \n",
        "                if 1769<i<1881 and 2019<j<2131 :\n",
        "                 (LAB_imgC1_03[i][j])"
      ],
      "execution_count": 242,
      "outputs": []
    },
    {
      "cell_type": "code",
      "metadata": {
        "id": "UlDQiGQ75i8O"
      },
      "source": [
        "for i in range(LAB_imgC1_01.shape[0]): \n",
        "     for j in range(LAB_imgC1_01.shape[1]): \n",
        "                if 1769<i<1881 and 2019<j<2131 :\n",
        "                 (LAB_imgC1_01[i][j])"
      ],
      "execution_count": 243,
      "outputs": []
    },
    {
      "cell_type": "code",
      "metadata": {
        "id": "gQp5kAYW5oam"
      },
      "source": [
        "for i in range(LAB_imgC1_02.shape[0]): \n",
        "     for j in range(LAB_imgC1_02.shape[1]): \n",
        "                if 1769<i<1881 and 2019<j<2131 :\n",
        "                 (LAB_imgC1_02[i][j])"
      ],
      "execution_count": 244,
      "outputs": []
    },
    {
      "cell_type": "code",
      "metadata": {
        "id": "_fwoBI-O5os6"
      },
      "source": [
        "for i in range(LAB_imgC1_04.shape[0]): \n",
        "     for j in range(LAB_imgC1_04.shape[1]): \n",
        "                if 1769<i<1881 and 2019<j<2131 :\n",
        "                 (LAB_imgC1_04[i][j])"
      ],
      "execution_count": 245,
      "outputs": []
    },
    {
      "cell_type": "markdown",
      "metadata": {
        "id": "veUPceOE5ydW"
      },
      "source": [
        "C2"
      ]
    },
    {
      "cell_type": "code",
      "metadata": {
        "id": "xVd7fTj057Im"
      },
      "source": [
        "for i in range(LAB_imgC2_01.shape[0]): \n",
        "     for j in range(LAB_imgC2_01.shape[1]): \n",
        "                if 1769<i<1881 and 2019<j<2131 :\n",
        "                 (LAB_imgC2_01[i][j])"
      ],
      "execution_count": 246,
      "outputs": []
    },
    {
      "cell_type": "code",
      "metadata": {
        "id": "UITY-FEy578o"
      },
      "source": [
        "for i in range(LAB_imgC2_02.shape[0]): \n",
        "     for j in range(LAB_imgC2_02.shape[1]): \n",
        "                if 1769<i<1881 and 2019<j<2131 :\n",
        "                 (LAB_imgC2_02[i][j])"
      ],
      "execution_count": 247,
      "outputs": []
    },
    {
      "cell_type": "code",
      "metadata": {
        "id": "TumpzuTn58YK"
      },
      "source": [
        "for i in range(LAB_imgC2_03.shape[0]): \n",
        "     for j in range(LAB_imgC2_03.shape[1]): \n",
        "                if 1769<i<1881 and 2019<j<2131 :\n",
        "                 (LAB_imgC2_03[i][j])"
      ],
      "execution_count": 248,
      "outputs": []
    },
    {
      "cell_type": "code",
      "metadata": {
        "id": "7K6gK9PP58Lf"
      },
      "source": [
        "for i in range(LAB_imgC2_04.shape[0]): \n",
        "     for j in range(LAB_imgC2_04.shape[1]): \n",
        "                if 1769<i<1881 and 2019<j<2131 :\n",
        "                 (LAB_imgC2_04[i][j])"
      ],
      "execution_count": 249,
      "outputs": []
    },
    {
      "cell_type": "markdown",
      "metadata": {
        "id": "mwJT5T3x50I-"
      },
      "source": [
        "C3"
      ]
    },
    {
      "cell_type": "code",
      "metadata": {
        "id": "TiQI_20558sA"
      },
      "source": [
        "for i in range(LAB_imgC3_01.shape[0]): \n",
        "     for j in range(LAB_imgC3_01.shape[1]): \n",
        "                if 1769<i<1881 and 2019<j<2131 :\n",
        "                 (LAB_imgC3_01[i][j])"
      ],
      "execution_count": 250,
      "outputs": []
    },
    {
      "cell_type": "code",
      "metadata": {
        "id": "JQbGl3uN57aN"
      },
      "source": [
        "for i in range(LAB_imgC3_02.shape[0]): \n",
        "     for j in range(LAB_imgC3_02.shape[1]): \n",
        "                if 1769<i<1881 and 2019<j<2131 :\n",
        "                 (LAB_imgC3_02[i][j])"
      ],
      "execution_count": 251,
      "outputs": []
    },
    {
      "cell_type": "code",
      "metadata": {
        "id": "F3E6a25Q57pr"
      },
      "source": [
        "for i in range(LAB_imgC3_03.shape[0]): \n",
        "     for j in range(LAB_imgC3_03.shape[1]): \n",
        "                if 1769<i<1881 and 2019<j<2131 :\n",
        "                 (LAB_imgC3_03[i][j])"
      ],
      "execution_count": 252,
      "outputs": []
    },
    {
      "cell_type": "code",
      "metadata": {
        "id": "x8P68K6z59Fc"
      },
      "source": [
        "for i in range(LAB_imgC3_04.shape[0]): \n",
        "     for j in range(LAB_imgC3_04.shape[1]): \n",
        "                if 1769<i<1881 and 2019<j<2131 :\n",
        "                 (LAB_imgC3_04[i][j])"
      ],
      "execution_count": 253,
      "outputs": []
    },
    {
      "cell_type": "markdown",
      "metadata": {
        "id": "T4X8qins59oM"
      },
      "source": [
        "C4"
      ]
    },
    {
      "cell_type": "code",
      "metadata": {
        "id": "mnz4vETI7TII"
      },
      "source": [
        "for i in range(LAB_imgC4_02.shape[0]): \n",
        "     for j in range(LAB_imgC4_02.shape[1]): \n",
        "                if 1769<i<1881 and 2019<j<2131 :\n",
        "                 (LAB_imgC4_02[i][j])"
      ],
      "execution_count": 254,
      "outputs": []
    },
    {
      "cell_type": "code",
      "metadata": {
        "id": "HiU5Y2Yn7TAO"
      },
      "source": [
        "for i in range(LAB_imgC4_03.shape[0]): \n",
        "     for j in range(LAB_imgC4_03.shape[1]): \n",
        "                if 1769<i<1881 and 2019<j<2131 :\n",
        "                 (LAB_imgC4_03[i][j])"
      ],
      "execution_count": 255,
      "outputs": []
    },
    {
      "cell_type": "code",
      "metadata": {
        "id": "rIdOpYAe7S5F"
      },
      "source": [
        "for i in range(LAB_imgC4_01.shape[0]): \n",
        "     for j in range(LAB_imgC4_01.shape[1]): \n",
        "                if 1769<i<1881 and 2019<j<2131 :\n",
        "                 (LAB_imgC4_01[i][j])"
      ],
      "execution_count": 256,
      "outputs": []
    },
    {
      "cell_type": "code",
      "metadata": {
        "id": "v3qJ3zAv7St9"
      },
      "source": [
        "for i in range(LAB_imgC3_04.shape[0]): \n",
        "     for j in range(LAB_imgC3_04.shape[1]): \n",
        "                if 1769<i<1881 and 2019<j<2131 :\n",
        "                 (LAB_imgC3_04[i][j])"
      ],
      "execution_count": 257,
      "outputs": []
    },
    {
      "cell_type": "markdown",
      "metadata": {
        "id": "kRvkJBSH6m8n"
      },
      "source": [
        "D2"
      ]
    },
    {
      "cell_type": "code",
      "metadata": {
        "id": "6ykI1MV0FheQ"
      },
      "source": [
        "for i in range(LAB_imgD2_04.shape[0]): \n",
        "     for j in range(LAB_imgD2_04.shape[1]): \n",
        "                if 1769<i<1881 and 2019<j<2131 :\n",
        "                 (LAB_imgD2_04[i][j])"
      ],
      "execution_count": 258,
      "outputs": []
    },
    {
      "cell_type": "code",
      "metadata": {
        "id": "bSanI_gyFhUS"
      },
      "source": [
        "for i in range(LAB_imgD2_03.shape[0]): \n",
        "     for j in range(LAB_imgD2_03.shape[1]): \n",
        "                if 1769<i<1881 and 2019<j<2131 :\n",
        "                 (LAB_imgD2_03[i][j])"
      ],
      "execution_count": 259,
      "outputs": []
    },
    {
      "cell_type": "code",
      "metadata": {
        "id": "8CQ9PBCjFhOA"
      },
      "source": [
        "for i in range(LAB_imgD2_02.shape[0]): \n",
        "     for j in range(LAB_imgD2_02.shape[1]): \n",
        "                if 1769<i<1881 and 2019<j<2131 :\n",
        "                 (LAB_imgD2_02[i][j])"
      ],
      "execution_count": 260,
      "outputs": []
    },
    {
      "cell_type": "code",
      "metadata": {
        "id": "Dx_PeSbRFhF7"
      },
      "source": [
        "for i in range(LAB_imgD2_01.shape[0]): \n",
        "     for j in range(LAB_imgD2_01.shape[1]): \n",
        "                if 1769<i<1881 and 2019<j<2131 :\n",
        "                 (LAB_imgD2_01[i][j])"
      ],
      "execution_count": 261,
      "outputs": []
    },
    {
      "cell_type": "markdown",
      "metadata": {
        "id": "3dcK05Xv6ptS"
      },
      "source": [
        "D3"
      ]
    },
    {
      "cell_type": "code",
      "metadata": {
        "id": "Lnhgfd7jGKsI"
      },
      "source": [
        "for i in range(LAB_imgD3_02.shape[0]): \n",
        "     for j in range(LAB_imgD3_02.shape[1]): \n",
        "                if 1769<i<1881 and 2019<j<2131 :\n",
        "                 (LAB_imgD3_02[i][j])"
      ],
      "execution_count": 262,
      "outputs": []
    },
    {
      "cell_type": "code",
      "metadata": {
        "id": "6aAeBseNGMW0"
      },
      "source": [
        "for i in range(LAB_imgD3_01.shape[0]): \n",
        "     for j in range(LAB_imgD3_01.shape[1]): \n",
        "                if 1769<i<1881 and 2019<j<2131 :\n",
        "                 (LAB_imgD3_01[i][j])"
      ],
      "execution_count": 263,
      "outputs": []
    },
    {
      "cell_type": "code",
      "metadata": {
        "id": "4tl0YApAGMMk"
      },
      "source": [
        "for i in range(LAB_imgD3_03.shape[0]): \n",
        "     for j in range(LAB_imgD3_03.shape[1]): \n",
        "                if 1769<i<1881 and 2019<j<2131 :\n",
        "                 (LAB_imgD3_03[i][j])"
      ],
      "execution_count": 264,
      "outputs": []
    },
    {
      "cell_type": "code",
      "metadata": {
        "id": "Fs5TavqoGL8H"
      },
      "source": [
        "for i in range(LAB_imgD3_04.shape[0]): \n",
        "     for j in range(LAB_imgD3_04.shape[1]): \n",
        "                if 1769<i<1881 and 2019<j<2131 :\n",
        "                 (LAB_imgD3_04[i][j])"
      ],
      "execution_count": 265,
      "outputs": []
    },
    {
      "cell_type": "markdown",
      "metadata": {
        "id": "0xpFIFxY6sWn"
      },
      "source": [
        "D4"
      ]
    },
    {
      "cell_type": "code",
      "metadata": {
        "id": "gGF-V8maGZ3z"
      },
      "source": [
        "for i in range(LAB_imgD4_01.shape[0]): \n",
        "     for j in range(LAB_imgD4_01.shape[1]): \n",
        "                if 1769<i<1881 and 2019<j<2131 :\n",
        "                 (LAB_imgD4_01[i][j])"
      ],
      "execution_count": 266,
      "outputs": []
    },
    {
      "cell_type": "code",
      "metadata": {
        "id": "S3dZ2uEOGZvl"
      },
      "source": [
        "for i in range(LAB_imgD4_02.shape[0]): \n",
        "     for j in range(LAB_imgD4_02.shape[1]): \n",
        "                if 1769<i<1881 and 2019<j<2131 :\n",
        "                 (LAB_imgD4_02[i][j])"
      ],
      "execution_count": 267,
      "outputs": []
    },
    {
      "cell_type": "code",
      "metadata": {
        "id": "QcmDHneXnWnq"
      },
      "source": [
        "for i in range(LAB_imgD4_03.shape[0]): \n",
        "     for j in range(LAB_imgD4_03.shape[1]): \n",
        "                if 1769<i<1881 and 2019<j<2131 :\n",
        "                 (LAB_imgD4_03[i][j])"
      ],
      "execution_count": 268,
      "outputs": []
    },
    {
      "cell_type": "code",
      "metadata": {
        "id": "DH12fZbmnWWc"
      },
      "source": [
        "for i in range(LAB_imgD4_04.shape[0]): \n",
        "     for j in range(LAB_imgD4_04.shape[1]): \n",
        "                if 1769<i<1881 and 2019<j<2131 :\n",
        "                 (LAB_imgD4_04[i][j])"
      ],
      "execution_count": 269,
      "outputs": []
    },
    {
      "cell_type": "markdown",
      "metadata": {
        "id": "SCtLPtPQGz-p"
      },
      "source": [
        "#6. หาค่า Mean"
      ]
    },
    {
      "cell_type": "code",
      "metadata": {
        "id": "YKFsY16kG1pe"
      },
      "source": [
        "import numpy as np"
      ],
      "execution_count": 270,
      "outputs": []
    },
    {
      "cell_type": "markdown",
      "metadata": {
        "id": "s2VmXvHVHoXc"
      },
      "source": [
        "A1"
      ]
    },
    {
      "cell_type": "code",
      "metadata": {
        "id": "3AGgkqYfG25f",
        "colab": {
          "base_uri": "https://localhost:8080/"
        },
        "outputId": "d28596d5-1321-4626-98da-9036cd91e898"
      },
      "source": [
        "meanA1_1 = list() \n",
        "for i in range(LAB_imgA1_01.shape[0]): #ให้ i รันตาม row หรือ shape[0] คือแถว มีทั้งหมด 4032 แถว ของภาพที่ปรับขนาดมาแล้ว\n",
        "     for j in range(LAB_imgA1_01.shape[1]): #ให้ j รันตาม colum มีทั้งหมด 3024 colum เช่น แถวที่ 1 เข้ามาให้รันครบ 3024colum\n",
        "                if 1769<i<1881 and 2019<j<2131 :\n",
        "                    meanA1_1.append(LAB_imgA1_01[i][j])\n",
        "meanA1_1 = np.array(meanA1_1)\n",
        "\n",
        "labA1_1 = list()\n",
        "for i in range(3):\n",
        "    labA1_1.append(meanA1_1[:,i].mean())\n",
        "labA1_1 "
      ],
      "execution_count": 271,
      "outputs": [
        {
          "output_type": "execute_result",
          "data": {
            "text/plain": [
              "[230.28642155669183, 126.79287395503611, 131.80099017936857]"
            ]
          },
          "metadata": {},
          "execution_count": 271
        }
      ]
    },
    {
      "cell_type": "code",
      "metadata": {
        "id": "EVLQ59KPntOq",
        "colab": {
          "base_uri": "https://localhost:8080/"
        },
        "outputId": "7f685bc4-00c3-49cb-d05d-8526c52fb3fa"
      },
      "source": [
        "meanA1_2 = list() \n",
        "for i in range(LAB_imgA1_02.shape[0]): #ให้ i รันตาม row หรือ shape[0] คือแถว มีทั้งหมด 4032 แถว ของภาพที่ปรับขนาดมาแล้ว\n",
        "     for j in range(LAB_imgA1_02.shape[1]): #ให้ j รันตาม colum มีทั้งหมด 3024 colum เช่น แถวที่ 1 เข้ามาให้รันครบ 3024colum\n",
        "                if 1769<i<1881 and 2019<j<2131 :\n",
        "                    meanA1_2.append(LAB_imgA1_02[i][j])\n",
        "meanA1_2 = np.array(meanA1_2)\n",
        "\n",
        "labA1_2 = list()\n",
        "for i in range(3):\n",
        "    labA1_2.append(meanA1_2[:,i].mean())\n",
        "labA1_2 "
      ],
      "execution_count": 272,
      "outputs": [
        {
          "output_type": "execute_result",
          "data": {
            "text/plain": [
              "[230.02621540459378, 126.71771771771772, 131.86949111273435]"
            ]
          },
          "metadata": {},
          "execution_count": 272
        }
      ]
    },
    {
      "cell_type": "code",
      "metadata": {
        "id": "EPq1aY8In-MX",
        "colab": {
          "base_uri": "https://localhost:8080/"
        },
        "outputId": "947c9cb8-fec0-42f6-875c-bf15132d2a5e"
      },
      "source": [
        "meanA1_3 = list() \n",
        "for i in range(LAB_imgA1_03.shape[0]): #ให้ i รันตาม row หรือ shape[0] คือแถว มีทั้งหมด 4032 แถว ของภาพที่ปรับขนาดมาแล้ว\n",
        "     for j in range(LAB_imgA1_03.shape[1]): #ให้ j รันตาม colum มีทั้งหมด 3024 colum เช่น แถวที่ 1 เข้ามาให้รันครบ 3024colum\n",
        "                if 1769<i<1881 and 2019<j<2131 :\n",
        "                    meanA1_3.append(LAB_imgA1_03[i][j])\n",
        "meanA1_3 = np.array(meanA1_3)\n",
        "\n",
        "labA1_3 = list()\n",
        "for i in range(3):\n",
        "    labA1_3.append(meanA1_3[:,i].mean())\n",
        "labA1_3 "
      ],
      "execution_count": 273,
      "outputs": [
        {
          "output_type": "execute_result",
          "data": {
            "text/plain": [
              "[223.2158104049996, 124.78362145929714, 152.3442090739388]"
            ]
          },
          "metadata": {},
          "execution_count": 273
        }
      ]
    },
    {
      "cell_type": "code",
      "metadata": {
        "id": "2G7HqZATo0ee",
        "colab": {
          "base_uri": "https://localhost:8080/"
        },
        "outputId": "7edf7199-6b71-435b-99e4-0a2e629b9f45"
      },
      "source": [
        "meanA1_4 = list() \n",
        "for i in range(LAB_imgA1_04.shape[0]): #ให้ i รันตาม row หรือ shape[0] คือแถว มีทั้งหมด 4032 แถว ของภาพที่ปรับขนาดมาแล้ว\n",
        "     for j in range(LAB_imgA1_04.shape[1]): #ให้ j รันตาม colum มีทั้งหมด 3024 colum เช่น แถวที่ 1 เข้ามาให้รันครบ 3024colum\n",
        "                if 1769<i<1881 and 2019<j<2131 :\n",
        "                    meanA1_4.append(LAB_imgA1_04[i][j])\n",
        "meanA1_4 = np.array(meanA1_4)\n",
        "\n",
        "labA1_4 = list()\n",
        "for i in range(3):\n",
        "    labA1_4.append(meanA1_4[:,i].mean())\n",
        "labA1_4 "
      ],
      "execution_count": 274,
      "outputs": [
        {
          "output_type": "execute_result",
          "data": {
            "text/plain": [
              "[222.95284473662852, 124.88767145523903, 152.24470416362308]"
            ]
          },
          "metadata": {},
          "execution_count": 274
        }
      ]
    },
    {
      "cell_type": "markdown",
      "metadata": {
        "id": "xSasoROaHpzm"
      },
      "source": [
        "A2"
      ]
    },
    {
      "cell_type": "code",
      "metadata": {
        "id": "A13oL-rkHqpJ",
        "colab": {
          "base_uri": "https://localhost:8080/"
        },
        "outputId": "2d0cf5e9-c731-4e31-b185-4fd1573f9bc0"
      },
      "source": [
        "meanA2_2 = list() \n",
        "for i in range(LAB_imgA2_02.shape[0]): \n",
        "     for j in range(LAB_imgA2_02.shape[1]): \n",
        "                if 1769<i<1881 and 2019<j<2131 :\n",
        "                    meanA2_2.append(LAB_imgA2_02[i][j])\n",
        "meanA2_2 = np.array(meanA2_2)\n",
        "\n",
        "labA2_2 = list()\n",
        "for i in range(3):\n",
        "    labA2_2.append(meanA2_2[:,i].mean())\n",
        "labA2_2"
      ],
      "execution_count": 275,
      "outputs": [
        {
          "output_type": "execute_result",
          "data": {
            "text/plain": [
              "[232.2783864946027, 126.1569677785894, 135.20728836945054]"
            ]
          },
          "metadata": {},
          "execution_count": 275
        }
      ]
    },
    {
      "cell_type": "code",
      "metadata": {
        "id": "is_tzZCLIE8J",
        "colab": {
          "base_uri": "https://localhost:8080/"
        },
        "outputId": "51d036a2-8e52-4b83-afb0-03f77d2456aa"
      },
      "source": [
        "meanA2_4 = list() \n",
        "for i in range(LAB_imgA2_04.shape[0]): \n",
        "     for j in range(LAB_imgA2_04.shape[1]): \n",
        "                if 1769<i<1881 and 2019<j<2131 :\n",
        "                    meanA2_4.append(LAB_imgA2_04[i][j])\n",
        "meanA2_4 = np.array(meanA2_4)\n",
        "\n",
        "labA2_4 = list()\n",
        "for i in range(3):\n",
        "    labA2_4.append(meanA2_4[:,i].mean())\n",
        "labA2_4"
      ],
      "execution_count": 276,
      "outputs": [
        {
          "output_type": "execute_result",
          "data": {
            "text/plain": [
              "[196.76243811378947, 126.67080594107621, 154.26158591023457]"
            ]
          },
          "metadata": {},
          "execution_count": 276
        }
      ]
    },
    {
      "cell_type": "code",
      "metadata": {
        "id": "Cfq1mvqqIVGB",
        "colab": {
          "base_uri": "https://localhost:8080/"
        },
        "outputId": "1c9ee27a-1e25-4f14-9068-330ec3849a4f"
      },
      "source": [
        "meanA2_1 = list() \n",
        "for i in range(LAB_imgA2_01.shape[0]): \n",
        "     for j in range(LAB_imgA2_01.shape[1]): \n",
        "                if 1769<i<1881 and 2019<j<2131 :\n",
        "                    meanA2_1.append(LAB_imgA2_01[i][j])\n",
        "meanA2_1 = np.array(meanA2_1)\n",
        "\n",
        "labA2_1 = list()\n",
        "for i in range(3):\n",
        "    labA2_1.append(meanA2_1[:,i].mean())\n",
        "labA2_1"
      ],
      "execution_count": 277,
      "outputs": [
        {
          "output_type": "execute_result",
          "data": {
            "text/plain": [
              "[232.836133430728, 126.13188864540216, 135.3165327489652]"
            ]
          },
          "metadata": {},
          "execution_count": 277
        }
      ]
    },
    {
      "cell_type": "code",
      "metadata": {
        "id": "V9AXiSNJIVht",
        "colab": {
          "base_uri": "https://localhost:8080/"
        },
        "outputId": "f9ab0067-6ec7-497d-a42d-c138ee7bd812"
      },
      "source": [
        "meanA2_3 = list() \n",
        "for i in range(LAB_imgA2_03.shape[0]): \n",
        "     for j in range(LAB_imgA2_03.shape[1]): \n",
        "                if 1769<i<1881 and 2019<j<2131 :\n",
        "                    meanA2_3.append(LAB_imgA2_03[i][j])\n",
        "meanA2_3 = np.array(meanA2_3)\n",
        "\n",
        "labA2_3 = list()\n",
        "for i in range(3):\n",
        "    labA2_3.append(meanA2_3[:,i].mean())\n",
        "labA2_3"
      ],
      "execution_count": 278,
      "outputs": [
        {
          "output_type": "execute_result",
          "data": {
            "text/plain": [
              "[195.18870221572925, 126.69109650190731, 154.49330411492573]"
            ]
          },
          "metadata": {},
          "execution_count": 278
        }
      ]
    },
    {
      "cell_type": "markdown",
      "metadata": {
        "id": "wy0J3KoCIte6"
      },
      "source": [
        "A3"
      ]
    },
    {
      "cell_type": "code",
      "metadata": {
        "id": "CbtyolvQIxRF",
        "colab": {
          "base_uri": "https://localhost:8080/"
        },
        "outputId": "a789e9e3-144a-4e1b-adbd-ebe2e5aedecf"
      },
      "source": [
        "meanA3_3 = list() \n",
        "for i in range(LAB_imgA3_03.shape[0]): \n",
        "     for j in range(LAB_imgA3_03.shape[1]): \n",
        "                if 1769<i<1881 and 2019<j<2131 :\n",
        "                    meanA3_3.append(LAB_imgA3_03[i][j])\n",
        "meanA3_3 = np.array(meanA3_3)\n",
        "\n",
        "labA3_3 = list()\n",
        "for i in range(3):\n",
        "    labA3_3.append(meanA3_3[:,i].mean())\n",
        "labA3_3"
      ],
      "execution_count": 279,
      "outputs": [
        {
          "output_type": "execute_result",
          "data": {
            "text/plain": [
              "[174.21499878256634, 125.89278467656845, 154.15445174904633]"
            ]
          },
          "metadata": {},
          "execution_count": 279
        }
      ]
    },
    {
      "cell_type": "code",
      "metadata": {
        "id": "7mYWr28NI6fk",
        "colab": {
          "base_uri": "https://localhost:8080/"
        },
        "outputId": "d5d0d07b-3fa0-4740-9c47-d0d90d3fb3d5"
      },
      "source": [
        "meanA3_4 = list() \n",
        "for i in range(LAB_imgA3_04.shape[0]): \n",
        "     for j in range(LAB_imgA3_04.shape[1]): \n",
        "                if 1769<i<1881 and 2019<j<2131 :\n",
        "                    meanA3_4.append(LAB_imgA3_04[i][j])\n",
        "meanA3_4 = np.array(meanA3_4)\n",
        "\n",
        "labA3_4 = list()\n",
        "for i in range(3):\n",
        "    labA3_4.append(meanA3_4[:,i].mean())\n",
        "labA3_4"
      ],
      "execution_count": 280,
      "outputs": [
        {
          "output_type": "execute_result",
          "data": {
            "text/plain": [
              "[233.43486729973216, 122.07791575359143, 157.73078483889296]"
            ]
          },
          "metadata": {},
          "execution_count": 280
        }
      ]
    },
    {
      "cell_type": "code",
      "metadata": {
        "id": "X_oamCB9JCat",
        "colab": {
          "base_uri": "https://localhost:8080/"
        },
        "outputId": "517095d4-e016-4457-a35d-765eabcdd607"
      },
      "source": [
        "meanA3_2 = list() \n",
        "for i in range(LAB_imgA3_02.shape[0]): \n",
        "     for j in range(LAB_imgA3_02.shape[1]): \n",
        "                if 1769<i<1881 and 2019<j<2131 :\n",
        "                    meanA3_2.append(LAB_imgA3_02[i][j])\n",
        "meanA3_2 = np.array(meanA3_2)\n",
        "\n",
        "labA3_2 = list()\n",
        "for i in range(3):\n",
        "    labA3_2.append(meanA3_2[:,i].mean())\n",
        "labA3_2"
      ],
      "execution_count": 281,
      "outputs": [
        {
          "output_type": "execute_result",
          "data": {
            "text/plain": [
              "[232.59775992208424, 124.16906095284473, 143.9095852609366]"
            ]
          },
          "metadata": {},
          "execution_count": 281
        }
      ]
    },
    {
      "cell_type": "code",
      "metadata": {
        "id": "6d9vw9fuJMQx",
        "colab": {
          "base_uri": "https://localhost:8080/"
        },
        "outputId": "b73af490-a255-40a1-c76c-32667789238c"
      },
      "source": [
        "meanA3_1 = list() \n",
        "for i in range(LAB_imgA3_01.shape[0]): \n",
        "     for j in range(LAB_imgA3_01.shape[1]): \n",
        "                if 1769<i<1881 and 2019<j<2131 :\n",
        "                    meanA3_1.append(LAB_imgA3_01[i][j])\n",
        "meanA3_1 = np.array(meanA3_1)\n",
        "\n",
        "labA3_1 = list()\n",
        "for i in range(3):\n",
        "    labA3_1.append(meanA3_1[:,i].mean())\n",
        "labA3_1"
      ],
      "execution_count": 282,
      "outputs": [
        {
          "output_type": "execute_result",
          "data": {
            "text/plain": [
              "[232.1891891891892, 124.35200064929795, 143.6794903011119]"
            ]
          },
          "metadata": {},
          "execution_count": 282
        }
      ]
    },
    {
      "cell_type": "markdown",
      "metadata": {
        "id": "dsrU_P7rJaQO"
      },
      "source": [
        "A3.5"
      ]
    },
    {
      "cell_type": "code",
      "metadata": {
        "id": "vvJRofAgJZ8F",
        "colab": {
          "base_uri": "https://localhost:8080/"
        },
        "outputId": "1c6f8ecb-e8f3-432f-b36b-4cd5cc003132"
      },
      "source": [
        "meanA3_501 = list() \n",
        "for i in range(LAB_imgA3_501.shape[0]): \n",
        "     for j in range(LAB_imgA3_501.shape[1]): \n",
        "                if 1769<i<1881 and 2019<j<2131 :\n",
        "                    meanA3_501.append(LAB_imgA3_501[i][j])\n",
        "meanA3_501 = np.array(meanA3_501)\n",
        "\n",
        "labA3_501 = list()\n",
        "for i in range(3):\n",
        "    labA3_501.append(meanA3_501[:,i].mean())\n",
        "labA3_501"
      ],
      "execution_count": 283,
      "outputs": [
        {
          "output_type": "execute_result",
          "data": {
            "text/plain": [
              "[229.39103968833697, 122.50190731271812, 150.64361658956253]"
            ]
          },
          "metadata": {},
          "execution_count": 283
        }
      ]
    },
    {
      "cell_type": "code",
      "metadata": {
        "id": "6GNLN8lUJUTy",
        "colab": {
          "base_uri": "https://localhost:8080/"
        },
        "outputId": "9fb22c28-a970-4fd9-d3bb-ca8c3488fa5b"
      },
      "source": [
        "meanA3_502 = list() \n",
        "for i in range(LAB_imgA3_502.shape[0]): \n",
        "     for j in range(LAB_imgA3_502.shape[1]): \n",
        "                if 1769<i<1881 and 2019<j<2131 :\n",
        "                    meanA3_502.append(LAB_imgA3_502[i][j])\n",
        "meanA3_502 = np.array(meanA3_502)\n",
        "\n",
        "labA3_502 = list()\n",
        "for i in range(3):\n",
        "    labA3_502.append(meanA3_502[:,i].mean())\n",
        "labA3_502"
      ],
      "execution_count": 284,
      "outputs": [
        {
          "output_type": "execute_result",
          "data": {
            "text/plain": [
              "[224.83313042772502, 123.16581446311176, 149.6408570732895]"
            ]
          },
          "metadata": {},
          "execution_count": 284
        }
      ]
    },
    {
      "cell_type": "code",
      "metadata": {
        "id": "M3RMSpgKJt0o",
        "colab": {
          "base_uri": "https://localhost:8080/"
        },
        "outputId": "459f2555-eb17-44c3-8f84-6ab23bdbee2d"
      },
      "source": [
        "meanA3_503 = list() \n",
        "for i in range(LAB_imgA3_503.shape[0]): \n",
        "     for j in range(LAB_imgA3_503.shape[1]): \n",
        "                if 1769<i<1881 and 2019<j<2131 :\n",
        "                    meanA3_503.append(LAB_imgA3_503[i][j])\n",
        "meanA3_503 = np.array(meanA3_503)\n",
        "\n",
        "labA3_503 = list()\n",
        "for i in range(3):\n",
        "    labA3_503.append(meanA3_503[:,i].mean())\n",
        "labA3_503"
      ],
      "execution_count": 285,
      "outputs": [
        {
          "output_type": "execute_result",
          "data": {
            "text/plain": [
              "[221.3807320834348, 123.87517246976707, 163.0292995698401]"
            ]
          },
          "metadata": {},
          "execution_count": 285
        }
      ]
    },
    {
      "cell_type": "code",
      "metadata": {
        "id": "70rg8s3CJ10m",
        "colab": {
          "base_uri": "https://localhost:8080/"
        },
        "outputId": "2cdaaadd-1f2f-4ade-cd87-296ef47d5442"
      },
      "source": [
        "meanA3_504 = list() \n",
        "for i in range(LAB_imgA3_504.shape[0]): \n",
        "     for j in range(LAB_imgA3_504.shape[1]): \n",
        "                if 1769<i<1881 and 2019<j<2131 :\n",
        "                    meanA3_504.append(LAB_imgA3_504[i][j])\n",
        "meanA3_504 = np.array(meanA3_504)\n",
        "\n",
        "labA3_504 = list()\n",
        "for i in range(3):\n",
        "    labA3_504.append(meanA3_504[:,i].mean())\n",
        "labA3_504"
      ],
      "execution_count": 286,
      "outputs": [
        {
          "output_type": "execute_result",
          "data": {
            "text/plain": [
              "[217.48299651002353, 124.4612450288126, 162.4107621134648]"
            ]
          },
          "metadata": {},
          "execution_count": 286
        }
      ]
    },
    {
      "cell_type": "markdown",
      "metadata": {
        "id": "K0Zmn5LbKE-Y"
      },
      "source": [
        "A4"
      ]
    },
    {
      "cell_type": "code",
      "metadata": {
        "id": "pr0j_XxrKKp7",
        "colab": {
          "base_uri": "https://localhost:8080/"
        },
        "outputId": "50c07de4-ab14-4f64-a965-975d30049893"
      },
      "source": [
        "meanA4_1 = list() \n",
        "for i in range(LAB_imgA4_01.shape[0]): \n",
        "     for j in range(LAB_imgA4_01.shape[1]): \n",
        "                if 1769<i<1881 and 2019<j<2131 :\n",
        "                    meanA4_1.append(LAB_imgA4_01[i][j])\n",
        "meanA4_1 = np.array(meanA4_1)\n",
        "\n",
        "labA4_1 = list()\n",
        "for i in range(3):\n",
        "    labA4_1.append(meanA4_1[:,i].mean())\n",
        "labA4_1"
      ],
      "execution_count": 287,
      "outputs": [
        {
          "output_type": "execute_result",
          "data": {
            "text/plain": [
              "[221.3501339177015, 122.52552552552552, 151.736547358169]"
            ]
          },
          "metadata": {},
          "execution_count": 287
        }
      ]
    },
    {
      "cell_type": "code",
      "metadata": {
        "id": "jGCKxVG5aiCX",
        "colab": {
          "base_uri": "https://localhost:8080/"
        },
        "outputId": "8ae92e1d-b142-459c-8710-156f4d10055b"
      },
      "source": [
        "meanA4_4 = list() \n",
        "for i in range(LAB_imgA4_04.shape[0]): \n",
        "     for j in range(LAB_imgA4_04.shape[1]): \n",
        "                if 1769<i<1881 and 2019<j<2131 :\n",
        "                    meanA4_4.append(LAB_imgA4_04[i][j])\n",
        "meanA4_4 = np.array(meanA4_4)\n",
        "\n",
        "labA4_4 = list()\n",
        "for i in range(3):\n",
        "    labA4_4.append(meanA4_4[:,i].mean())\n",
        "labA4_4"
      ],
      "execution_count": 288,
      "outputs": [
        {
          "output_type": "execute_result",
          "data": {
            "text/plain": [
              "[201.54597841084328, 125.77258339420501, 162.6385033682331]"
            ]
          },
          "metadata": {},
          "execution_count": 288
        }
      ]
    },
    {
      "cell_type": "code",
      "metadata": {
        "id": "aqwHZK5dKkkG",
        "colab": {
          "base_uri": "https://localhost:8080/"
        },
        "outputId": "e29964ab-2246-429b-9730-44a700aac238"
      },
      "source": [
        "meanA4_2 = list() \n",
        "for i in range(LAB_imgA4_02.shape[0]): \n",
        "     for j in range(LAB_imgA4_02.shape[1]): \n",
        "                if 1769<i<1881 and 2019<j<2131 :\n",
        "                    meanA4_2.append(LAB_imgA4_02[i][j])\n",
        "meanA4_2 = np.array(meanA4_2)\n",
        "\n",
        "labA4_2 = list()\n",
        "for i in range(3):\n",
        "    labA4_2.append(meanA4_2[:,i].mean())\n",
        "labA4_2"
      ],
      "execution_count": 289,
      "outputs": [
        {
          "output_type": "execute_result",
          "data": {
            "text/plain": [
              "[220.84562941319697, 122.22003084165246, 151.84075967859752]"
            ]
          },
          "metadata": {},
          "execution_count": 289
        }
      ]
    },
    {
      "cell_type": "code",
      "metadata": {
        "id": "Zw_N6Vx2KymX",
        "colab": {
          "base_uri": "https://localhost:8080/"
        },
        "outputId": "e75bc598-e047-45e7-9c33-a915b5d6631d"
      },
      "source": [
        "meanA4_3 = list() \n",
        "for i in range(LAB_imgA4_03.shape[0]): \n",
        "     for j in range(LAB_imgA4_03.shape[1]): \n",
        "                if 1769<i<1881 and 2019<j<2131 :\n",
        "                    meanA4_3.append(LAB_imgA4_03[i][j])\n",
        "meanA4_3 = np.array(meanA4_3)\n",
        "\n",
        "labA4_3 = list()\n",
        "for i in range(3):\n",
        "    labA4_3.append(meanA4_3[:,i].mean())\n",
        "labA4_3"
      ],
      "execution_count": 290,
      "outputs": [
        {
          "output_type": "execute_result",
          "data": {
            "text/plain": [
              "[198.3770797824852, 127.19892865838811, 163.06468630792955]"
            ]
          },
          "metadata": {},
          "execution_count": 290
        }
      ]
    },
    {
      "cell_type": "markdown",
      "metadata": {
        "id": "OAQtt2AILBUb"
      },
      "source": [
        "B1"
      ]
    },
    {
      "cell_type": "code",
      "metadata": {
        "id": "3ufaRQmxK8pb",
        "colab": {
          "base_uri": "https://localhost:8080/"
        },
        "outputId": "509ba3fd-0079-4573-83cc-d23a4adc04c7"
      },
      "source": [
        "meanB1_2 = list() \n",
        "for i in range(LAB_imgB1_02.shape[0]): \n",
        "     for j in range(LAB_imgB1_02.shape[1]): \n",
        "                if 1769<i<1881 and 2019<j<2131 :\n",
        "                    meanB1_2.append(LAB_imgB1_02[i][j])\n",
        "meanB1_2 = np.array(meanB1_2)\n",
        "\n",
        "labB1_2 = list()\n",
        "for i in range(3):\n",
        "    labB1_2.append(meanB1_2[:,i].mean())\n",
        "labB1_2"
      ],
      "execution_count": 291,
      "outputs": [
        {
          "output_type": "execute_result",
          "data": {
            "text/plain": [
              "[231.73119065010957, 126.1632984335687, 131.80228877526176]"
            ]
          },
          "metadata": {},
          "execution_count": 291
        }
      ]
    },
    {
      "cell_type": "code",
      "metadata": {
        "id": "JtPJSupiMziF",
        "colab": {
          "base_uri": "https://localhost:8080/"
        },
        "outputId": "653611e9-136a-40cf-8d8c-b33963e45318"
      },
      "source": [
        "meanB1_3 = list() \n",
        "for i in range(LAB_imgB1_03.shape[0]): \n",
        "     for j in range(LAB_imgB1_03.shape[1]): \n",
        "                if 1769<i<1881 and 2019<j<2131 :\n",
        "                    meanB1_3.append(LAB_imgB1_03[i][j])\n",
        "meanB1_3 = np.array(meanB1_3)\n",
        "\n",
        "labB1_3 = list()\n",
        "for i in range(3):\n",
        "    labB1_3.append(meanB1_3[:,i].mean())\n",
        "labB1_3"
      ],
      "execution_count": 292,
      "outputs": [
        {
          "output_type": "execute_result",
          "data": {
            "text/plain": [
              "[220.32505478451424, 124.60701241782323, 144.70952033114196]"
            ]
          },
          "metadata": {},
          "execution_count": 292
        }
      ]
    },
    {
      "cell_type": "code",
      "metadata": {
        "id": "_SALE1tKNOpm",
        "colab": {
          "base_uri": "https://localhost:8080/"
        },
        "outputId": "6abc7ebd-4125-4431-8faa-255387ce1f01"
      },
      "source": [
        "meanB1_4 = list() \n",
        "for i in range(LAB_imgB1_04.shape[0]): \n",
        "     for j in range(LAB_imgB1_04.shape[1]): \n",
        "                if 1769<i<1881 and 2019<j<2131 :\n",
        "                    meanB1_4.append(LAB_imgB1_04[i][j])\n",
        "meanB1_4 = np.array(meanB1_4)\n",
        "\n",
        "labB1_4 = list()\n",
        "for i in range(3):\n",
        "    labB1_4.append(meanB1_4[:,i].mean())\n",
        "labB1_4 "
      ],
      "execution_count": 293,
      "outputs": [
        {
          "output_type": "execute_result",
          "data": {
            "text/plain": [
              "[230.62827692557423, 123.82899115331547, 147.13318724129536]"
            ]
          },
          "metadata": {},
          "execution_count": 293
        }
      ]
    },
    {
      "cell_type": "code",
      "metadata": {
        "id": "vR6O_RooNDiy",
        "colab": {
          "base_uri": "https://localhost:8080/"
        },
        "outputId": "79e89c5b-33ce-41ff-d38b-ec53855a6bcb"
      },
      "source": [
        "meanB1_1 = list() \n",
        "for i in range(LAB_imgB1_01.shape[0]): \n",
        "     for j in range(LAB_imgB1_01.shape[1]): \n",
        "                if 1769<i<1881 and 2019<j<2131 :\n",
        "                    meanB1_1.append(LAB_imgB1_01[i][j])\n",
        "meanB1_1 = np.array(meanB1_1)\n",
        "\n",
        "labB1_1 = list()\n",
        "for i in range(3):\n",
        "    labB1_1.append(meanB1_1[:,i].mean())\n",
        "labB1_1"
      ],
      "execution_count": 294,
      "outputs": [
        {
          "output_type": "execute_result",
          "data": {
            "text/plain": [
              "[231.71073776479182, 126.19698076454833, 131.74539404269134]"
            ]
          },
          "metadata": {},
          "execution_count": 294
        }
      ]
    },
    {
      "cell_type": "markdown",
      "metadata": {
        "id": "9VIiGheNOIj8"
      },
      "source": [
        "B2"
      ]
    },
    {
      "cell_type": "code",
      "metadata": {
        "id": "N2MDc6V8OKqr",
        "colab": {
          "base_uri": "https://localhost:8080/"
        },
        "outputId": "02dc93f6-d668-4d74-a731-a8172cc53464"
      },
      "source": [
        "meanB2_1 = list() \n",
        "for i in range(LAB_imgB2_01.shape[0]): \n",
        "     for j in range(LAB_imgB2_01.shape[1]): \n",
        "                if 1769<i<1881 and 2019<j<2131 :\n",
        "                    meanB2_1.append(LAB_imgB2_01[i][j])\n",
        "meanB2_1 = np.array(meanB2_1)\n",
        "\n",
        "labB2_1 = list()\n",
        "for i in range(3):\n",
        "    labB2_1.append(meanB2_1[:,i].mean())\n",
        "labB2_1"
      ],
      "execution_count": 295,
      "outputs": [
        {
          "output_type": "execute_result",
          "data": {
            "text/plain": [
              "[234.03067932797663, 125.28195763330899, 134.74612450288126]"
            ]
          },
          "metadata": {},
          "execution_count": 295
        }
      ]
    },
    {
      "cell_type": "code",
      "metadata": {
        "id": "5blnCh0NONhc",
        "colab": {
          "base_uri": "https://localhost:8080/"
        },
        "outputId": "6372dffb-21a2-4e68-d089-f7a0c9a9ec2d"
      },
      "source": [
        "meanB2_4 = list() \n",
        "for i in range(LAB_imgB2_04.shape[0]): \n",
        "     for j in range(LAB_imgB2_04.shape[1]): \n",
        "                if 1769<i<1881 and 2019<j<2131 :\n",
        "                    meanB2_4.append(LAB_imgB2_04[i][j])\n",
        "meanB2_4 = np.array(meanB2_4)\n",
        "\n",
        "labB2_4 = list()\n",
        "for i in range(3):\n",
        "    labB2_4.append(meanB2_4[:,i].mean())\n",
        "labB2_4"
      ],
      "execution_count": 296,
      "outputs": [
        {
          "output_type": "execute_result",
          "data": {
            "text/plain": [
              "[204.32318805291777, 124.44087330573817, 148.93304114925738]"
            ]
          },
          "metadata": {},
          "execution_count": 296
        }
      ]
    },
    {
      "cell_type": "code",
      "metadata": {
        "id": "PtXEtBaBONXt",
        "colab": {
          "base_uri": "https://localhost:8080/"
        },
        "outputId": "b3710e9c-2557-475e-ed3c-2b930cf21960"
      },
      "source": [
        "meanB2_3 = list() \n",
        "for i in range(LAB_imgB2_03.shape[0]): \n",
        "     for j in range(LAB_imgB2_03.shape[1]): \n",
        "                if 1769<i<1881 and 2019<j<2131 :\n",
        "                    meanB2_3.append(LAB_imgB2_03[i][j])\n",
        "meanB2_3 = np.array(meanB2_3)\n",
        "\n",
        "labB2_3 = list()\n",
        "for i in range(3):\n",
        "    labB2_3.append(meanB2_3[:,i].mean())\n",
        "labB2_3"
      ],
      "execution_count": 297,
      "outputs": [
        {
          "output_type": "execute_result",
          "data": {
            "text/plain": [
              "[230.62827692557423, 123.82899115331547, 147.13318724129536]"
            ]
          },
          "metadata": {},
          "execution_count": 297
        }
      ]
    },
    {
      "cell_type": "code",
      "metadata": {
        "id": "lkYUVq43OM9Q",
        "colab": {
          "base_uri": "https://localhost:8080/"
        },
        "outputId": "9f5877df-14ba-44b2-b7e7-6c0e1ad2285e"
      },
      "source": [
        "meanB2_2 = list() \n",
        "for i in range(LAB_imgB2_02.shape[0]): \n",
        "     for j in range(LAB_imgB2_02.shape[1]): \n",
        "                if 1769<i<1881 and 2019<j<2131 :\n",
        "                    meanB2_2.append(LAB_imgB2_02[i][j])\n",
        "meanB2_2 = np.array(meanB2_2)\n",
        "\n",
        "labB2_2 = list()\n",
        "for i in range(3):\n",
        "    labB2_2.append(meanB2_2[:,i].mean())\n",
        "labB2_2"
      ],
      "execution_count": 298,
      "outputs": [
        {
          "output_type": "execute_result",
          "data": {
            "text/plain": [
              "[233.6807077347618, 125.50572193815437, 134.62592322051782]"
            ]
          },
          "metadata": {},
          "execution_count": 298
        }
      ]
    },
    {
      "cell_type": "markdown",
      "metadata": {
        "id": "sDpqJ0vsO4pf"
      },
      "source": [
        "B3"
      ]
    },
    {
      "cell_type": "code",
      "metadata": {
        "id": "12x1GgEbO6gG",
        "colab": {
          "base_uri": "https://localhost:8080/"
        },
        "outputId": "69b7f1e7-741d-4281-dae1-8b9de8f1f078"
      },
      "source": [
        "meanB3_1 = list() \n",
        "for i in range(LAB_imgB3_01.shape[0]): \n",
        "     for j in range(LAB_imgB3_01.shape[1]): \n",
        "                if 1769<i<1881 and 2019<j<2131 :\n",
        "                    meanB3_1.append(LAB_imgB3_01[i][j])\n",
        "meanB3_1 = np.array(meanB3_1)\n",
        "\n",
        "labB3_1 = list()\n",
        "for i in range(3):\n",
        "    labB3_1.append(meanB3_1[:,i].mean())\n",
        "labB3_1"
      ],
      "execution_count": 299,
      "outputs": [
        {
          "output_type": "execute_result",
          "data": {
            "text/plain": [
              "[232.3597922246571, 125.4496388280172, 139.95771447122797]"
            ]
          },
          "metadata": {},
          "execution_count": 299
        }
      ]
    },
    {
      "cell_type": "code",
      "metadata": {
        "id": "Q4ARs8laRJON",
        "colab": {
          "base_uri": "https://localhost:8080/"
        },
        "outputId": "79136c11-b813-4e89-cc13-fd9f5355cff4"
      },
      "source": [
        "meanB3_4 = list() \n",
        "for i in range(LAB_imgB3_04.shape[0]): \n",
        "     for j in range(LAB_imgB3_04.shape[1]): \n",
        "                if 1769<i<1881 and 2019<j<2131 :\n",
        "                    meanB3_4.append(LAB_imgB3_04[i][j])\n",
        "meanB3_4 = np.array(meanB3_4)\n",
        "\n",
        "labB3_4 = list()\n",
        "for i in range(3):\n",
        "    labB3_4.append(meanB3_4[:,i].mean())\n",
        "labB3_4"
      ],
      "execution_count": 300,
      "outputs": [
        {
          "output_type": "execute_result",
          "data": {
            "text/plain": [
              "[210.39663988312637, 123.72648323999675, 158.03076049021996]"
            ]
          },
          "metadata": {},
          "execution_count": 300
        }
      ]
    },
    {
      "cell_type": "code",
      "metadata": {
        "id": "cO0CReiARJrJ",
        "colab": {
          "base_uri": "https://localhost:8080/"
        },
        "outputId": "38d10122-7902-4fec-ecb9-36e920786312"
      },
      "source": [
        "meanB3_2 = list() \n",
        "for i in range(LAB_imgB3_02.shape[0]): \n",
        "     for j in range(LAB_imgB3_02.shape[1]): \n",
        "                if 1769<i<1881 and 2019<j<2131 :\n",
        "                    meanB3_2.append(LAB_imgB3_02[i][j])\n",
        "meanB3_2 = np.array(meanB3_2)\n",
        "\n",
        "labB3_2 = list()\n",
        "for i in range(3):\n",
        "    labB3_2.append(meanB3_2[:,i].mean())\n",
        "labB3_2"
      ],
      "execution_count": 301,
      "outputs": [
        {
          "output_type": "execute_result",
          "data": {
            "text/plain": [
              "[232.30939047155263, 125.36660985309634, 140.0155831507183]"
            ]
          },
          "metadata": {},
          "execution_count": 301
        }
      ]
    },
    {
      "cell_type": "code",
      "metadata": {
        "id": "_MU7U9bZRKCN",
        "colab": {
          "base_uri": "https://localhost:8080/"
        },
        "outputId": "adb68c89-6947-4b04-d0d3-a96b07d30d74"
      },
      "source": [
        "meanB3_3 = list() \n",
        "for i in range(LAB_imgB3_03.shape[0]): \n",
        "     for j in range(LAB_imgB3_03.shape[1]): \n",
        "                if 1769<i<1881 and 2019<j<2131 :\n",
        "                    meanB3_3.append(LAB_imgB3_03[i][j])\n",
        "meanB3_3 = np.array(meanB3_3)\n",
        "\n",
        "labB3_3 = list()\n",
        "for i in range(3):\n",
        "    labB3_3.append(meanB3_3[:,i].mean())\n",
        "labB3_3"
      ],
      "execution_count": 302,
      "outputs": [
        {
          "output_type": "execute_result",
          "data": {
            "text/plain": [
              "[210.33869004139274, 123.82858534209886, 158.38024510997485]"
            ]
          },
          "metadata": {},
          "execution_count": 302
        }
      ]
    },
    {
      "cell_type": "markdown",
      "metadata": {
        "id": "6K_S-0DGRYPG"
      },
      "source": [
        "B4"
      ]
    },
    {
      "cell_type": "code",
      "metadata": {
        "id": "KQE8feTgRoWm",
        "colab": {
          "base_uri": "https://localhost:8080/"
        },
        "outputId": "124d6b78-0bee-442b-9eac-ecefbcf9dfdd"
      },
      "source": [
        "meanB4_2 = list() \n",
        "for i in range(LAB_imgB4_02.shape[0]): \n",
        "     for j in range(LAB_imgB4_02.shape[1]): \n",
        "                if 1769<i<1881 and 2019<j<2131 :\n",
        "                    meanB4_2.append(LAB_imgB4_02[i][j])\n",
        "meanB4_2 = np.array(meanB4_2)\n",
        "\n",
        "labB4_2 = list()\n",
        "for i in range(3):\n",
        "    labB4_2.append(meanB4_2[:,i].mean())\n",
        "labB4_2"
      ],
      "execution_count": 303,
      "outputs": [
        {
          "output_type": "execute_result",
          "data": {
            "text/plain": [
              "[231.43478613748883, 124.1373265157049, 144.83751318886453]"
            ]
          },
          "metadata": {},
          "execution_count": 303
        }
      ]
    },
    {
      "cell_type": "code",
      "metadata": {
        "id": "2Otz1VLHRZHL",
        "colab": {
          "base_uri": "https://localhost:8080/"
        },
        "outputId": "c6fa0524-d5ba-47ff-b3e2-f973ed274591"
      },
      "source": [
        "meanB4_3 = list() \n",
        "for i in range(LAB_imgB4_03.shape[0]): \n",
        "     for j in range(LAB_imgB4_03.shape[1]): \n",
        "                if 1769<i<1881 and 2019<j<2131 :\n",
        "                    meanB4_3.append(LAB_imgB4_03[i][j])\n",
        "meanB4_3 = np.array(meanB4_3)\n",
        "\n",
        "labB4_3 = list()\n",
        "for i in range(3):\n",
        "    labB4_3.append(meanB4_3[:,i].mean())\n",
        "labB4_3"
      ],
      "execution_count": 304,
      "outputs": [
        {
          "output_type": "execute_result",
          "data": {
            "text/plain": [
              "[206.62210859508156, 123.60490219949679, 160.46132619105592]"
            ]
          },
          "metadata": {},
          "execution_count": 304
        }
      ]
    },
    {
      "cell_type": "code",
      "metadata": {
        "id": "OPT8bQl1Rz9O",
        "colab": {
          "base_uri": "https://localhost:8080/"
        },
        "outputId": "210f50a7-380a-4bc2-d906-a7bf3b7672f1"
      },
      "source": [
        "meanB4_1 = list() \n",
        "for i in range(LAB_imgB4_01.shape[0]): \n",
        "     for j in range(LAB_imgB4_01.shape[1]): \n",
        "                if 1769<i<1881 and 2019<j<2131 :\n",
        "                    meanB4_1.append(LAB_imgB4_01[i][j])\n",
        "meanB4_1 = np.array(meanB4_1)\n",
        "\n",
        "labB4_1 = list()\n",
        "for i in range(3):\n",
        "    labB4_1.append(meanB4_1[:,i].mean())\n",
        "labB4_1"
      ],
      "execution_count": 305,
      "outputs": [
        {
          "output_type": "execute_result",
          "data": {
            "text/plain": [
              "[227.03449395341286, 123.47950653356058, 146.23058193328464]"
            ]
          },
          "metadata": {},
          "execution_count": 305
        }
      ]
    },
    {
      "cell_type": "code",
      "metadata": {
        "id": "jX-vx3sJRu0p",
        "colab": {
          "base_uri": "https://localhost:8080/"
        },
        "outputId": "4bcd64d8-bdd6-4ded-9f06-86b578dbe2cf"
      },
      "source": [
        "meanB4_4 = list() \n",
        "for i in range(LAB_imgB4_04.shape[0]): \n",
        "     for j in range(LAB_imgB4_04.shape[1]): \n",
        "                if 1769<i<1881 and 2019<j<2131 :\n",
        "                    meanB4_4.append(LAB_imgB4_04[i][j])\n",
        "meanB4_4 = np.array(meanB4_4)\n",
        "\n",
        "labB4_4 = list()\n",
        "for i in range(3):\n",
        "    labB4_4.append(meanB4_4[:,i].mean())\n",
        "labB4_4"
      ],
      "execution_count": 306,
      "outputs": [
        {
          "output_type": "execute_result",
          "data": {
            "text/plain": [
              "[204.39728918107298, 123.5433812190569, 162.23334144955766]"
            ]
          },
          "metadata": {},
          "execution_count": 306
        }
      ]
    },
    {
      "cell_type": "markdown",
      "metadata": {
        "id": "0q2eJezyR6sL"
      },
      "source": [
        "C1"
      ]
    },
    {
      "cell_type": "code",
      "metadata": {
        "id": "ya636PpxR-HY",
        "colab": {
          "base_uri": "https://localhost:8080/"
        },
        "outputId": "54c3266f-0b93-4ee1-bd44-3b8e2f3b9dde"
      },
      "source": [
        "meanC1_3 = list() \n",
        "for i in range(LAB_imgC1_03.shape[0]): \n",
        "     for j in range(LAB_imgC1_03.shape[1]): \n",
        "                if 1769<i<1881 and 2019<j<2131 :\n",
        "                    meanC1_3.append(LAB_imgC1_03[i][j])\n",
        "meanC1_3 = np.array(meanC1_3)\n",
        "\n",
        "labC1_3 = list()\n",
        "for i in range(3):\n",
        "    labC1_3.append(meanC1_3[:,i].mean())\n",
        "labC1_3"
      ],
      "execution_count": 307,
      "outputs": [
        {
          "output_type": "execute_result",
          "data": {
            "text/plain": [
              "[208.6794903011119, 123.73987501014528, 144.76414252089927]"
            ]
          },
          "metadata": {},
          "execution_count": 307
        }
      ]
    },
    {
      "cell_type": "code",
      "metadata": {
        "id": "SxhlA1QRR-dY",
        "colab": {
          "base_uri": "https://localhost:8080/"
        },
        "outputId": "faf970c5-eca3-4548-bc09-d2aa9f4ee7f7"
      },
      "source": [
        "meanC1_4 = list() \n",
        "for i in range(LAB_imgC1_04.shape[0]): \n",
        "     for j in range(LAB_imgC1_04.shape[1]): \n",
        "                if 1769<i<1881 and 2019<j<2131 :\n",
        "                    meanC1_4.append(LAB_imgC1_04[i][j])\n",
        "meanC1_4 = np.array(meanC1_4)\n",
        "\n",
        "labC1_4 = list()\n",
        "for i in range(3):\n",
        "    labC1_4.append(meanC1_4[:,i].mean())\n",
        "labC1_4"
      ],
      "execution_count": 308,
      "outputs": [
        {
          "output_type": "execute_result",
          "data": {
            "text/plain": [
              "[207.25355084814544, 123.3608473338203, 144.24040256472688]"
            ]
          },
          "metadata": {},
          "execution_count": 308
        }
      ]
    },
    {
      "cell_type": "code",
      "metadata": {
        "id": "LZSCuqVaSwok",
        "colab": {
          "base_uri": "https://localhost:8080/"
        },
        "outputId": "d673d977-3b04-4eb8-c332-e9a0c4dd0dc2"
      },
      "source": [
        "meanC1_2 = list() \n",
        "for i in range(LAB_imgC1_02.shape[0]): \n",
        "     for j in range(LAB_imgC1_02.shape[1]): \n",
        "                if 1769<i<1881 and 2019<j<2131 :\n",
        "                    meanC1_2.append(LAB_imgC1_02[i][j])\n",
        "meanC1_2 = np.array(meanC1_2)\n",
        "\n",
        "labC1_2 = list()\n",
        "for i in range(3):\n",
        "    labC1_2.append(meanC1_2[:,i].mean())\n",
        "labC1_2"
      ],
      "execution_count": 309,
      "outputs": [
        {
          "output_type": "execute_result",
          "data": {
            "text/plain": [
              "[235.4835646457268, 126.00470741011281, 133.80464248031817]"
            ]
          },
          "metadata": {},
          "execution_count": 309
        }
      ]
    },
    {
      "cell_type": "code",
      "metadata": {
        "id": "zaEcF9R7S2e9",
        "colab": {
          "base_uri": "https://localhost:8080/"
        },
        "outputId": "7e6f40d7-037e-4762-e29f-4727fca70d29"
      },
      "source": [
        "meanC1_1 = list() \n",
        "for i in range(LAB_imgC1_01.shape[0]): \n",
        "     for j in range(LAB_imgC1_01.shape[1]): \n",
        "                if 1769<i<1881 and 2019<j<2131 :\n",
        "                    meanC1_1.append(LAB_imgC1_01[i][j])\n",
        "meanC1_1 = np.array(meanC1_1)\n",
        "\n",
        "labC1_1 = list()\n",
        "for i in range(3):\n",
        "    labC1_1.append(meanC1_1[:,i].mean())\n",
        "labC1_1"
      ],
      "execution_count": 310,
      "outputs": [
        {
          "output_type": "execute_result",
          "data": {
            "text/plain": [
              "[230.88978167356547, 125.89903416930444, 133.49703757811866]"
            ]
          },
          "metadata": {},
          "execution_count": 310
        }
      ]
    },
    {
      "cell_type": "markdown",
      "metadata": {
        "id": "7v0CVQ3eS79F"
      },
      "source": [
        "C2"
      ]
    },
    {
      "cell_type": "code",
      "metadata": {
        "id": "lner_FoXS9Aa",
        "colab": {
          "base_uri": "https://localhost:8080/"
        },
        "outputId": "f0ad9a8d-3619-4448-b078-f381b72a5494"
      },
      "source": [
        "meanC2_1 = list() \n",
        "for i in range(LAB_imgC2_01.shape[0]): \n",
        "     for j in range(LAB_imgC2_01.shape[1]): \n",
        "                if 1769<i<1881 and 2019<j<2131 :\n",
        "                    meanC2_1.append(LAB_imgC2_01[i][j])\n",
        "meanC2_1 = np.array(meanC2_1)\n",
        "\n",
        "labC2_1 = list()\n",
        "for i in range(3):\n",
        "    labC2_1.append(meanC2_1[:,i].mean())\n",
        "labC2_1"
      ],
      "execution_count": 311,
      "outputs": [
        {
          "output_type": "execute_result",
          "data": {
            "text/plain": [
              "[225.82184887590293, 124.33130427725023, 140.65400535670807]"
            ]
          },
          "metadata": {},
          "execution_count": 311
        }
      ]
    },
    {
      "cell_type": "code",
      "metadata": {
        "id": "ynKP6UMeTIph",
        "colab": {
          "base_uri": "https://localhost:8080/"
        },
        "outputId": "338f7640-3a73-4026-d2eb-3b8acc2f2f9d"
      },
      "source": [
        "meanC2_2 = list() \n",
        "for i in range(LAB_imgC2_02.shape[0]): \n",
        "     for j in range(LAB_imgC2_02.shape[1]): \n",
        "                if 1769<i<1881 and 2019<j<2131 :\n",
        "                    meanC2_2.append(LAB_imgC2_02[i][j])\n",
        "meanC2_2 = np.array(meanC2_2)\n",
        "\n",
        "labC2_2 = list()\n",
        "for i in range(3):\n",
        "    labC2_2.append(meanC2_2[:,i].mean())\n",
        "labC2_2"
      ],
      "execution_count": 312,
      "outputs": [
        {
          "output_type": "execute_result",
          "data": {
            "text/plain": [
              "[231.59987014041067, 124.61805048291535, 139.72153234315397]"
            ]
          },
          "metadata": {},
          "execution_count": 312
        }
      ]
    },
    {
      "cell_type": "code",
      "metadata": {
        "id": "E93hzyazUE1G",
        "colab": {
          "base_uri": "https://localhost:8080/"
        },
        "outputId": "17ba06a4-11ad-4174-c8c8-9363c20947e6"
      },
      "source": [
        "meanC2_3 = list() \n",
        "for i in range(LAB_imgC2_03.shape[0]): \n",
        "     for j in range(LAB_imgC2_03.shape[1]): \n",
        "                if 1769<i<1881 and 2019<j<2131 :\n",
        "                    meanC2_3.append(LAB_imgC2_03[i][j])\n",
        "meanC2_3 = np.array(meanC2_3)\n",
        "\n",
        "labC2_3 = list()\n",
        "for i in range(3):\n",
        "    labC2_3.append(meanC2_3[:,i].mean())\n",
        "labC2_3"
      ],
      "execution_count": 313,
      "outputs": [
        {
          "output_type": "execute_result",
          "data": {
            "text/plain": [
              "[199.27716906095284, 124.71487703920137, 148.78605632659688]"
            ]
          },
          "metadata": {},
          "execution_count": 313
        }
      ]
    },
    {
      "cell_type": "code",
      "metadata": {
        "id": "eQ6z3tyhURGG",
        "colab": {
          "base_uri": "https://localhost:8080/"
        },
        "outputId": "62ecc236-76fd-4095-bd47-61d2dfcb029d"
      },
      "source": [
        "meanC2_4 = list() \n",
        "for i in range(LAB_imgC2_04.shape[0]): \n",
        "     for j in range(LAB_imgC2_04.shape[1]): \n",
        "                if 1769<i<1881 and 2019<j<2131 :\n",
        "                    meanC2_4.append(LAB_imgC2_04[i][j])\n",
        "meanC2_4 = np.array(meanC2_4)\n",
        "\n",
        "labC2_4 = list()\n",
        "for i in range(3):\n",
        "    labC2_4.append(meanC2_4[:,i].mean())\n",
        "labC2_4"
      ],
      "execution_count": 314,
      "outputs": [
        {
          "output_type": "execute_result",
          "data": {
            "text/plain": [
              "[199.59110461813165, 122.6022238454671, 152.61829396964532]"
            ]
          },
          "metadata": {},
          "execution_count": 314
        }
      ]
    },
    {
      "cell_type": "markdown",
      "metadata": {
        "id": "_gAxAhYBUYIK"
      },
      "source": [
        "C3"
      ]
    },
    {
      "cell_type": "code",
      "metadata": {
        "id": "PnODt_2UUY2N",
        "colab": {
          "base_uri": "https://localhost:8080/"
        },
        "outputId": "3e1fa716-b7a9-483a-fb2f-e560c09c426a"
      },
      "source": [
        "meanC3_1 = list() \n",
        "for i in range(LAB_imgC3_01.shape[0]): \n",
        "     for j in range(LAB_imgC3_01.shape[1]): \n",
        "                if 1769<i<1881 and 2019<j<2131 :\n",
        "                    meanC3_1.append(LAB_imgC3_01[i][j])\n",
        "meanC3_1 = np.array(meanC3_1)\n",
        "\n",
        "labC3_1 = list()\n",
        "for i in range(3):\n",
        "    labC3_1.append(meanC3_1[:,i].mean())\n",
        "labC3_1"
      ],
      "execution_count": 315,
      "outputs": [
        {
          "output_type": "execute_result",
          "data": {
            "text/plain": [
              "[229.35898060222385, 124.04334063793523, 145.46579011443876]"
            ]
          },
          "metadata": {},
          "execution_count": 315
        }
      ]
    },
    {
      "cell_type": "code",
      "metadata": {
        "id": "4vYztEifVL9j",
        "colab": {
          "base_uri": "https://localhost:8080/"
        },
        "outputId": "b71c960c-771a-4254-f538-217e7c7f823b"
      },
      "source": [
        "meanC3_3 = list() \n",
        "for i in range(LAB_imgC3_03.shape[0]): \n",
        "     for j in range(LAB_imgC3_03.shape[1]): \n",
        "                if 1769<i<1881 and 2019<j<2131 :\n",
        "                    meanC3_3.append(LAB_imgC3_03[i][j])\n",
        "meanC3_3 = np.array(meanC3_3)\n",
        "\n",
        "labC3_3 = list()\n",
        "for i in range(3):\n",
        "    labC3_3.append(meanC3_3[:,i].mean())\n",
        "labC3_3"
      ],
      "execution_count": 316,
      "outputs": [
        {
          "output_type": "execute_result",
          "data": {
            "text/plain": [
              "[179.67218569921272, 124.7133349565782, 149.57040824608393]"
            ]
          },
          "metadata": {},
          "execution_count": 316
        }
      ]
    },
    {
      "cell_type": "code",
      "metadata": {
        "id": "RgAVjILGVVVi",
        "colab": {
          "base_uri": "https://localhost:8080/"
        },
        "outputId": "bfb5c469-7337-4af9-e6fe-afdad2e768d4"
      },
      "source": [
        "meanC3_4 = list() \n",
        "for i in range(LAB_imgC3_04.shape[0]): \n",
        "     for j in range(LAB_imgC3_04.shape[1]): \n",
        "                if 1769<i<1881 and 2019<j<2131 :\n",
        "                    meanC3_4.append(LAB_imgC3_04[i][j])\n",
        "meanC3_4 = np.array(meanC3_4)\n",
        "\n",
        "labC3_4 = list()\n",
        "for i in range(3):\n",
        "    labC3_4.append(meanC3_4[:,i].mean())\n",
        "labC3_4"
      ],
      "execution_count": 317,
      "outputs": [
        {
          "output_type": "execute_result",
          "data": {
            "text/plain": [
              "[181.57933609284962, 123.01347293239185, 153.96185374563754]"
            ]
          },
          "metadata": {},
          "execution_count": 317
        }
      ]
    },
    {
      "cell_type": "code",
      "metadata": {
        "id": "E2A3VnaTVhdF",
        "colab": {
          "base_uri": "https://localhost:8080/"
        },
        "outputId": "9f4c9169-e636-4901-c05c-e10b12e97363"
      },
      "source": [
        "meanC3_2 = list() \n",
        "for i in range(LAB_imgC3_02.shape[0]): \n",
        "     for j in range(LAB_imgC3_02.shape[1]): \n",
        "                if 1769<i<1881 and 2019<j<2131 :\n",
        "                    meanC3_2.append(LAB_imgC3_02[i][j])\n",
        "meanC3_2 = np.array(meanC3_2)\n",
        "\n",
        "labC3_2 = list()\n",
        "for i in range(3):\n",
        "    labC3_2.append(meanC3_2[:,i].mean())\n",
        "labC3_2"
      ],
      "execution_count": 318,
      "outputs": [
        {
          "output_type": "execute_result",
          "data": {
            "text/plain": [
              "[228.7782647512377, 123.98360522684847, 145.7123610096583]"
            ]
          },
          "metadata": {},
          "execution_count": 318
        }
      ]
    },
    {
      "cell_type": "markdown",
      "metadata": {
        "id": "wozLumwnVpsd"
      },
      "source": [
        "C4"
      ]
    },
    {
      "cell_type": "code",
      "metadata": {
        "id": "L4-leGI1Vpep",
        "colab": {
          "base_uri": "https://localhost:8080/"
        },
        "outputId": "ad393b3a-0a9c-42b6-dca9-ab27d8fa556c"
      },
      "source": [
        "meanC4_2 = list() \n",
        "for i in range(LAB_imgC4_02.shape[0]): \n",
        "     for j in range(LAB_imgC4_02.shape[1]): \n",
        "                if 1769<i<1881 and 2019<j<2131 :\n",
        "                    meanC4_2.append(LAB_imgC4_02[i][j])\n",
        "meanC4_2 = np.array(meanC4_2)\n",
        "\n",
        "labC4_2 = list()\n",
        "for i in range(3):\n",
        "    labC4_2.append(meanC4_2[:,i].mean())\n",
        "labC4_2"
      ],
      "execution_count": 319,
      "outputs": [
        {
          "output_type": "execute_result",
          "data": {
            "text/plain": [
              "[228.1097313529746, 122.23342261180099, 150.55182209236264]"
            ]
          },
          "metadata": {},
          "execution_count": 319
        }
      ]
    },
    {
      "cell_type": "code",
      "metadata": {
        "id": "wCstVvzCW3ch",
        "colab": {
          "base_uri": "https://localhost:8080/"
        },
        "outputId": "6a2feb14-f00c-4d29-f23c-2c9a53c3da3e"
      },
      "source": [
        "meanC4_1 = list() \n",
        "for i in range(LAB_imgC4_01.shape[0]): \n",
        "     for j in range(LAB_imgC4_01.shape[1]): \n",
        "                if 1769<i<1881 and 2019<j<2131 :\n",
        "                    meanC4_1.append(LAB_imgC4_01[i][j])\n",
        "meanC4_1 = np.array(meanC4_1)\n",
        "\n",
        "labC4_1 = list()\n",
        "for i in range(3):\n",
        "    labC4_1.append(meanC4_1[:,i].mean())\n",
        "labC4_1"
      ],
      "execution_count": 320,
      "outputs": [
        {
          "output_type": "execute_result",
          "data": {
            "text/plain": [
              "[228.2365067770473, 122.35078321564808, 150.34502069637205]"
            ]
          },
          "metadata": {},
          "execution_count": 320
        }
      ]
    },
    {
      "cell_type": "code",
      "metadata": {
        "id": "oZ5wcP8wW4l-",
        "colab": {
          "base_uri": "https://localhost:8080/"
        },
        "outputId": "b9e6d435-5708-4c0e-9545-99439a59f6d2"
      },
      "source": [
        "meanC4_3 = list() \n",
        "for i in range(LAB_imgC4_03.shape[0]): \n",
        "     for j in range(LAB_imgC4_03.shape[1]): \n",
        "                if 1769<i<1881 and 2019<j<2131 :\n",
        "                    meanC4_3.append(LAB_imgC4_03[i][j])\n",
        "meanC4_3 = np.array(meanC4_3)\n",
        "\n",
        "labC4_3 = list()\n",
        "for i in range(3):\n",
        "    labC4_3.append(meanC4_3[:,i].mean())\n",
        "labC4_3"
      ],
      "execution_count": 321,
      "outputs": [
        {
          "output_type": "execute_result",
          "data": {
            "text/plain": [
              "[170.10380650921192, 125.82420258095934, 151.39493547601657]"
            ]
          },
          "metadata": {},
          "execution_count": 321
        }
      ]
    },
    {
      "cell_type": "code",
      "metadata": {
        "id": "4RbAizT-W5AI",
        "colab": {
          "base_uri": "https://localhost:8080/"
        },
        "outputId": "65fd6759-d305-4bcf-bdd0-78112cf0fd2a"
      },
      "source": [
        "meanC4_4 = list() \n",
        "for i in range(LAB_imgC4_04.shape[0]): \n",
        "     for j in range(LAB_imgC4_04.shape[1]): \n",
        "                if 1769<i<1881 and 2019<j<2131 :\n",
        "                    meanC4_4.append(LAB_imgC4_04[i][j])\n",
        "meanC4_4 = np.array(meanC4_4)\n",
        "\n",
        "labC4_4 = list()\n",
        "for i in range(3):\n",
        "    labC4_4.append(meanC4_4[:,i].mean())\n",
        "labC4_4"
      ],
      "execution_count": 322,
      "outputs": [
        {
          "output_type": "execute_result",
          "data": {
            "text/plain": [
              "[171.436571706842, 124.17498579660742, 153.25663501339176]"
            ]
          },
          "metadata": {},
          "execution_count": 322
        }
      ]
    },
    {
      "cell_type": "markdown",
      "metadata": {
        "id": "zKlDyQHQXMFL"
      },
      "source": [
        "D2"
      ]
    },
    {
      "cell_type": "code",
      "metadata": {
        "id": "Ul4cDLOoXL2B",
        "colab": {
          "base_uri": "https://localhost:8080/"
        },
        "outputId": "dcc61701-2861-4e0d-8413-5a0995372d17"
      },
      "source": [
        "meanD2_4 = list() \n",
        "for i in range(LAB_imgD2_04.shape[0]): \n",
        "     for j in range(LAB_imgD2_04.shape[1]): \n",
        "                if 1769<i<1881 and 2019<j<2131 :\n",
        "                    meanD2_4.append(LAB_imgD2_04[i][j])\n",
        "meanD2_4 = np.array(meanD2_4)\n",
        "\n",
        "labD2_4 = list()\n",
        "for i in range(3):\n",
        "    labD2_4.append(meanD2_4[:,i].mean())\n",
        "labD2_4"
      ],
      "execution_count": 323,
      "outputs": [
        {
          "output_type": "execute_result",
          "data": {
            "text/plain": [
              "[216.49435922408895, 125.83913643373103, 143.47244541839137]"
            ]
          },
          "metadata": {},
          "execution_count": 323
        }
      ]
    },
    {
      "cell_type": "code",
      "metadata": {
        "id": "MPc9VyCaXYAE",
        "colab": {
          "base_uri": "https://localhost:8080/"
        },
        "outputId": "21592b65-a7e7-4ddb-db3b-a311cc728dc3"
      },
      "source": [
        "meanD2_1 = list() \n",
        "for i in range(LAB_imgD2_01.shape[0]): \n",
        "     for j in range(LAB_imgD2_01.shape[1]): \n",
        "                if 1769<i<1881 and 2019<j<2131 :\n",
        "                    meanD2_1.append(LAB_imgD2_01[i][j])\n",
        "meanD2_1 = np.array(meanD2_1)\n",
        "\n",
        "labD2_1 = list()\n",
        "for i in range(3):\n",
        "    labD2_1.append(meanD2_1[:,i].mean())\n",
        "labD2_1"
      ],
      "execution_count": 324,
      "outputs": [
        {
          "output_type": "execute_result",
          "data": {
            "text/plain": [
              "[236.88580472364256, 125.77566755945135, 134.30857884911939]"
            ]
          },
          "metadata": {},
          "execution_count": 324
        }
      ]
    },
    {
      "cell_type": "code",
      "metadata": {
        "id": "8C3joajEXZQv",
        "colab": {
          "base_uri": "https://localhost:8080/"
        },
        "outputId": "45ea1268-f380-44c7-d1f2-539c75bf8330"
      },
      "source": [
        "meanD2_2 = list() \n",
        "for i in range(LAB_imgD2_02.shape[0]): \n",
        "     for j in range(LAB_imgD2_02.shape[1]): \n",
        "                if 1769<i<1881 and 2019<j<2131 :\n",
        "                    meanD2_2.append(LAB_imgD2_02[i][j])\n",
        "meanD2_2 = np.array(meanD2_2)\n",
        "\n",
        "labD2_2 = list()\n",
        "for i in range(3):\n",
        "    labD2_2.append(meanD2_2[:,i].mean())\n",
        "labD2_2"
      ],
      "execution_count": 325,
      "outputs": [
        {
          "output_type": "execute_result",
          "data": {
            "text/plain": [
              "[236.51757162567972, 125.88840191542894, 134.15282850417987]"
            ]
          },
          "metadata": {},
          "execution_count": 325
        }
      ]
    },
    {
      "cell_type": "code",
      "metadata": {
        "id": "P7AmF-1OXY3y",
        "colab": {
          "base_uri": "https://localhost:8080/"
        },
        "outputId": "9028f8e9-2ab7-423a-da16-73bca3966b43"
      },
      "source": [
        "meanD2_3 = list() \n",
        "for i in range(LAB_imgD2_03.shape[0]): \n",
        "     for j in range(LAB_imgD2_03.shape[1]): \n",
        "                if 1769<i<1881 and 2019<j<2131 :\n",
        "                    meanD2_3.append(LAB_imgD2_03[i][j])\n",
        "meanD2_3 = np.array(meanD2_3)\n",
        "\n",
        "labD2_3 = list()\n",
        "for i in range(3):\n",
        "    labD2_3.append(meanD2_3[:,i].mean())\n",
        "labD2_3"
      ],
      "execution_count": 326,
      "outputs": [
        {
          "output_type": "execute_result",
          "data": {
            "text/plain": [
              "[216.572680788897, 125.92646700754808, 143.30143657170683]"
            ]
          },
          "metadata": {},
          "execution_count": 326
        }
      ]
    },
    {
      "cell_type": "markdown",
      "metadata": {
        "id": "iH_Tsc2EXwLf"
      },
      "source": [
        "D3"
      ]
    },
    {
      "cell_type": "code",
      "metadata": {
        "id": "lodYBglRYq8f",
        "colab": {
          "base_uri": "https://localhost:8080/"
        },
        "outputId": "72826668-009b-4ce5-c394-b69875706c5e"
      },
      "source": [
        "meanD3_4 = list() \n",
        "for i in range(LAB_imgD3_04.shape[0]): \n",
        "     for j in range(LAB_imgD3_04.shape[1]): \n",
        "                if 1769<i<1881 and 2019<j<2131 :\n",
        "                    meanD3_4.append(LAB_imgD3_04[i][j])\n",
        "meanD3_4 = np.array(meanD3_4)\n",
        "\n",
        "labD3_4 = list()\n",
        "for i in range(3):\n",
        "    labD3_4.append(meanD3_4[:,i].mean())\n",
        "labD3_4"
      ],
      "execution_count": 327,
      "outputs": [
        {
          "output_type": "execute_result",
          "data": {
            "text/plain": [
              "[213.75318561805048, 124.15575034493953, 151.51205259313366]"
            ]
          },
          "metadata": {},
          "execution_count": 327
        }
      ]
    },
    {
      "cell_type": "code",
      "metadata": {
        "id": "4HvoI0ngYv3b",
        "colab": {
          "base_uri": "https://localhost:8080/"
        },
        "outputId": "e514c752-b04d-4f96-e945-341f7d5d2393"
      },
      "source": [
        "meanD3_2 = list() \n",
        "for i in range(LAB_imgD3_02.shape[0]): \n",
        "     for j in range(LAB_imgD3_02.shape[1]): \n",
        "                if 1769<i<1881 and 2019<j<2131 :\n",
        "                    meanD3_2.append(LAB_imgD3_02[i][j])\n",
        "meanD3_2 = np.array(meanD3_2)\n",
        "\n",
        "labD3_2 = list()\n",
        "for i in range(3):\n",
        "    labD3_2.append(meanD3_2[:,i].mean())\n",
        "labD3_2"
      ],
      "execution_count": 328,
      "outputs": [
        {
          "output_type": "execute_result",
          "data": {
            "text/plain": [
              "[234.56074993912833, 125.896923950978, 137.18074831588345]"
            ]
          },
          "metadata": {},
          "execution_count": 328
        }
      ]
    },
    {
      "cell_type": "code",
      "metadata": {
        "id": "_qFI-tsZXxd7",
        "colab": {
          "base_uri": "https://localhost:8080/"
        },
        "outputId": "ca08f457-580b-4e9c-c8d3-39e1d7168522"
      },
      "source": [
        "meanD3_1 = list() \n",
        "for i in range(LAB_imgD3_01.shape[0]): \n",
        "     for j in range(LAB_imgD3_01.shape[1]): \n",
        "                if 1769<i<1881 and 2019<j<2131 :\n",
        "                    meanD3_1.append(LAB_imgD3_01[i][j])\n",
        "meanD3_1 = np.array(meanD3_1)\n",
        "\n",
        "labD3_1 = list()\n",
        "for i in range(3):\n",
        "    labD3_1.append(meanD3_1[:,i].mean())\n",
        "labD3_1 "
      ],
      "execution_count": 329,
      "outputs": [
        {
          "output_type": "execute_result",
          "data": {
            "text/plain": [
              "[236.73573573573574, 125.94967940913887, 134.22132943754565]"
            ]
          },
          "metadata": {},
          "execution_count": 329
        }
      ]
    },
    {
      "cell_type": "code",
      "metadata": {
        "id": "GZMjU-UQY0yi",
        "colab": {
          "base_uri": "https://localhost:8080/"
        },
        "outputId": "d10a3051-6800-4483-e11d-54624d3053ca"
      },
      "source": [
        "meanD3_3 = list() \n",
        "for i in range(LAB_imgD3_03.shape[0]): \n",
        "     for j in range(LAB_imgD3_03.shape[1]): \n",
        "                if 1769<i<1881 and 2019<j<2131 :\n",
        "                    meanD3_3.append(LAB_imgD3_03[i][j])\n",
        "meanD3_3 = np.array(meanD3_3)\n",
        "\n",
        "labD3_3 = list()\n",
        "for i in range(3):\n",
        "    labD3_3.append(meanD3_3[:,i].mean())\n",
        "labD3_3"
      ],
      "execution_count": 330,
      "outputs": [
        {
          "output_type": "execute_result",
          "data": {
            "text/plain": [
              "[212.41619998376754, 125.40491843194546, 150.52885317750182]"
            ]
          },
          "metadata": {},
          "execution_count": 330
        }
      ]
    },
    {
      "cell_type": "markdown",
      "metadata": {
        "id": "UrzhmbP9Y5u5"
      },
      "source": [
        "D4 "
      ]
    },
    {
      "cell_type": "code",
      "metadata": {
        "id": "kiQNtAKPY8yy",
        "colab": {
          "base_uri": "https://localhost:8080/"
        },
        "outputId": "251dc561-d3da-4429-dddc-4c7c2f382fd5"
      },
      "source": [
        "meanD4_1 = list() \n",
        "for i in range(LAB_imgD4_01.shape[0]): \n",
        "     for j in range(LAB_imgD4_01.shape[1]): \n",
        "                if 1769<i<1881 and 2019<j<2131 :\n",
        "                    meanD4_1.append(LAB_imgD4_01[i][j])\n",
        "meanD4_1 = np.array(meanD4_1)\n",
        "\n",
        "labD4_1 = list()\n",
        "for i in range(3):\n",
        "    labD4_1.append(meanD4_1[:,i].mean())\n",
        "labD4_1"
      ],
      "execution_count": 331,
      "outputs": [
        {
          "output_type": "execute_result",
          "data": {
            "text/plain": [
              "[233.23334144955766, 122.72437302167032, 145.82671861050238]"
            ]
          },
          "metadata": {},
          "execution_count": 331
        }
      ]
    },
    {
      "cell_type": "code",
      "metadata": {
        "id": "0kEogEJKY_Ff",
        "colab": {
          "base_uri": "https://localhost:8080/"
        },
        "outputId": "e7c80f04-4b1d-4ef5-aaad-638ebfd4b979"
      },
      "source": [
        "meanD4_2 = list() \n",
        "for i in range(LAB_imgD4_02.shape[0]): \n",
        "     for j in range(LAB_imgD4_02.shape[1]): \n",
        "                if 1769<i<1881 and 2019<j<2131 :\n",
        "                    meanD4_2.append(LAB_imgD4_02[i][j])\n",
        "meanD4_2 = np.array(meanD4_2)\n",
        "\n",
        "labD4_2 = list()\n",
        "for i in range(3):\n",
        "    labD4_2.append(meanD4_2[:,i].mean())\n",
        "labD4_2"
      ],
      "execution_count": 332,
      "outputs": [
        {
          "output_type": "execute_result",
          "data": {
            "text/plain": [
              "[231.75164353542732, 123.02045288531775, 145.0991802613424]"
            ]
          },
          "metadata": {},
          "execution_count": 332
        }
      ]
    },
    {
      "cell_type": "code",
      "metadata": {
        "id": "qpWzE6RQyObz",
        "colab": {
          "base_uri": "https://localhost:8080/"
        },
        "outputId": "11dda3d1-2e10-4ea7-c3c4-3040f9505d1d"
      },
      "source": [
        "meanD4_3 = list() \n",
        "for i in range(LAB_imgD4_03.shape[0]): \n",
        "     for j in range(LAB_imgD4_03.shape[1]): \n",
        "                if 1769<i<1881 and 2019<j<2131 :\n",
        "                    meanD4_3.append(LAB_imgD4_03[i][j])\n",
        "meanD4_3 = np.array(meanD4_3)\n",
        "\n",
        "labD4_3 = list()\n",
        "for i in range(3):\n",
        "    labD4_3.append(meanD4_3[:,i].mean())\n",
        "labD4_3"
      ],
      "execution_count": 333,
      "outputs": [
        {
          "output_type": "execute_result",
          "data": {
            "text/plain": [
              "[208.99553607661716, 124.29015501988475, 154.81868354841328]"
            ]
          },
          "metadata": {},
          "execution_count": 333
        }
      ]
    },
    {
      "cell_type": "code",
      "metadata": {
        "id": "XQknaIrNyPN_",
        "colab": {
          "base_uri": "https://localhost:8080/"
        },
        "outputId": "8841b663-6bfc-4fc1-b627-bcaa4eec399d"
      },
      "source": [
        "meanD4_4 = list() \n",
        "for i in range(LAB_imgD4_04.shape[0]): \n",
        "     for j in range(LAB_imgD4_04.shape[1]): \n",
        "                if 1769<i<1881 and 2019<j<2131 :\n",
        "                    meanD4_4.append(LAB_imgD4_04[i][j])\n",
        "meanD4_4 = np.array(meanD4_4)\n",
        "\n",
        "labD4_4 = list()\n",
        "for i in range(3):\n",
        "    labD4_4.append(meanD4_4[:,i].mean())\n",
        "labD4_4"
      ],
      "execution_count": 334,
      "outputs": [
        {
          "output_type": "execute_result",
          "data": {
            "text/plain": [
              "[208.6176446716987, 123.03173443713985, 155.95730866001136]"
            ]
          },
          "metadata": {},
          "execution_count": 334
        }
      ]
    },
    {
      "cell_type": "markdown",
      "metadata": {
        "id": "IdOvf3XXgumA"
      },
      "source": [
        "#คำนวณระยะห่างระหว่างจุดแบบ Euclidean distance"
      ]
    },
    {
      "cell_type": "code",
      "metadata": {
        "id": "9zPD-56Zgxef"
      },
      "source": [
        "from scipy.spatial import distance"
      ],
      "execution_count": 335,
      "outputs": []
    },
    {
      "cell_type": "markdown",
      "metadata": {
        "id": "fYTcj_FrkWhp"
      },
      "source": [
        "A1"
      ]
    },
    {
      "cell_type": "code",
      "metadata": {
        "id": "7-9sfK9rjy_Y"
      },
      "source": [
        "UA1A1_1 = distance.euclidean(labA1_1,labA1_3)\n",
        "UA1A1_2 = distance.euclidean(labA1_2,labA1_4)\n",
        "UA1A2_1 = distance.euclidean(labA1_1,labA2_3)\n",
        "UA1A2_2 = distance.euclidean(labA1_2,labA2_4)\n",
        "UA1A3_1 = distance.euclidean(labA1_1,labA3_3)\n",
        "UA1A3_2 = distance.euclidean(labA1_2,labA3_4)\n",
        "UA1A3_51 = distance.euclidean(labA1_1,labA3_503) \n",
        "UA1A3_52 = distance.euclidean(labA1_2,labA3_504)\n",
        "UA1A4_1 = distance.euclidean(labA1_1,labA4_3)\n",
        "UA1A4_2 = distance.euclidean(labA1_2,labA4_4)\n",
        "UA1B1_1 = distance.euclidean(labA1_1,labB1_3)\n",
        "UA1B1_2 = distance.euclidean(labA1_2,labB1_4)\n",
        "UA1B2_1 = distance.euclidean(labA1_1,labB2_3)\n",
        "UA1B2_2 = distance.euclidean(labA1_2,labB2_4)\n",
        "UA1B3_1 = distance.euclidean(labA1_1,labB3_3)\n",
        "UA1B3_2 = distance.euclidean(labA1_2,labB3_4)\n",
        "UA1B4_1 = distance.euclidean(labA1_1,labB4_3)\n",
        "UA1B4_2 = distance.euclidean(labA1_2,labB4_4)\n",
        "UA1C1_1 = distance.euclidean(labA1_1,labC1_3)\n",
        "UA1C1_2 = distance.euclidean(labA1_2,labC1_4)\n",
        "UA1C2_1 = distance.euclidean(labA1_1,labC2_3)\n",
        "UA1C2_2 = distance.euclidean(labA1_2,labC2_4)\n",
        "UA1C3_1 = distance.euclidean(labA1_1,labC3_3)\n",
        "UA1C3_2 = distance.euclidean(labA1_2,labC3_4)\n",
        "UA1C4_1 = distance.euclidean(labA1_1,labC4_3)\n",
        "UA1C4_2 = distance.euclidean(labA1_2,labC4_4)\n",
        "UA1D2_1 = distance.euclidean(labA1_1,labD2_3)\n",
        "UA1D2_2 = distance.euclidean(labA1_2,labD2_4)\n",
        "UA1D3_1 = distance.euclidean(labA1_1,labD3_3)\n",
        "UA1D3_2 = distance.euclidean(labA1_2,labD3_4)\n",
        "UA1D4_1 = distance.euclidean(labA1_1,labD4_3)\n",
        "UA1D4_2 = distance.euclidean(labA1_2,labD4_4)"
      ],
      "execution_count": 336,
      "outputs": []
    },
    {
      "cell_type": "code",
      "metadata": {
        "id": "GLlQnt9q5FpU"
      },
      "source": [
        "UA1A1 = (UA1A1_1+UA1A1_2)/2\n",
        "UA1A2 = (UA1A2_1+UA1A2_2)/2\n",
        "UA1A3 = (UA1A3_1+UA1A3_2)/2\n",
        "UA1A3_5 = (UA1A3_51+UA1A3_52)/2\n",
        "UA1A4 = (UA1A4_1+UA1A4_2)/2\n",
        "UA1B1 = (UA1B1_1+UA1B1_2)/2\n",
        "UA1B2 = (UA1B2_1+UA1B2_2)/2\n",
        "UA1B3 = (UA1B3_1+UA1B3_2)/2\n",
        "UA1B4 = (UA1B4_1+UA1B4_2)/2\n",
        "UA1C1 = (UA1C1_1+UA1C1_2)/2\n",
        "UA1C2 = (UA1C2_1+UA1C2_2)/2\n",
        "UA1C3 = (UA1C3_1+UA1C3_2)/2\n",
        "UA1C4 = (UA1C4_1+UA1C4_2)/2\n",
        "UA1D2 = (UA1D2_1+UA1D2_2)/2\n",
        "UA1D3 = (UA1D3_1+UA1D3_2)/2\n",
        "UA1D4 = (UA1D4_1+UA1D4_2)/2"
      ],
      "execution_count": 337,
      "outputs": []
    },
    {
      "cell_type": "markdown",
      "metadata": {
        "id": "A4O7ZP5wANVY"
      },
      "source": [
        "A2"
      ]
    },
    {
      "cell_type": "code",
      "metadata": {
        "id": "qYDLZVQZAOI-"
      },
      "source": [
        "UA2A1_1 = distance.euclidean(labA2_1,labA1_4)\n",
        "UA2A1_2 = distance.euclidean(labA2_2,labA1_3)\n",
        "UA2A2_2 = distance.euclidean(labA2_1,labA2_4)\n",
        "UA2A2_1 = distance.euclidean(labA2_2,labA2_3)\n",
        "UA2A3_1 = distance.euclidean(labA2_1,labA3_4)\n",
        "UA2A3_2 = distance.euclidean(labA2_2,labA3_3)\n",
        "UA2A3_51 = distance.euclidean(labA2_1,labA3_504)\n",
        "UA2A3_52 = distance.euclidean(labA2_2,labA3_503)\n",
        "UA2A4_1 = distance.euclidean(labA2_1,labA4_4)\n",
        "UA2A4_2 = distance.euclidean(labA2_2,labA4_3)\n",
        "UA2B1_1 = distance.euclidean(labA2_1,labB1_4)\n",
        "UA2B1_2 = distance.euclidean(labA2_2,labB1_3)\n",
        "UA2B2_1 = distance.euclidean(labA2_1,labB2_4)\n",
        "UA2B2_2 = distance.euclidean(labA2_2,labB2_3)\n",
        "UA2B3_1 = distance.euclidean(labA2_1,labB3_4)\n",
        "UA2B3_2 = distance.euclidean(labA2_2,labB3_3)\n",
        "UA2B4_1 = distance.euclidean(labA2_1,labB4_4)\n",
        "UA2B4_2 = distance.euclidean(labA2_2,labB4_3)\n",
        "UA2C1_1 = distance.euclidean(labA2_1,labC1_4)\n",
        "UA2C1_2 = distance.euclidean(labA2_2,labC1_3)\n",
        "UA2C2_1 = distance.euclidean(labA2_1,labC2_4)\n",
        "UA2C2_2 = distance.euclidean(labA2_2,labC2_3)\n",
        "UA2C3_1 = distance.euclidean(labA2_1,labC3_4)\n",
        "UA2C3_2 = distance.euclidean(labA2_2,labC3_3)\n",
        "UA2C4_1 = distance.euclidean(labA2_1,labC4_4)\n",
        "UA2C4_2 = distance.euclidean(labA2_2,labC4_3)\n",
        "UA2D2_1 = distance.euclidean(labA2_1,labD2_4)\n",
        "UA2D2_2 = distance.euclidean(labA2_2,labD2_3)\n",
        "UA2D3_1 = distance.euclidean(labA2_1,labD3_4)\n",
        "UA2D3_2 = distance.euclidean(labA2_2,labD3_3)\n",
        "UA2D4_1 = distance.euclidean(labA2_1,labD4_4)\n",
        "UA2D4_2 = distance.euclidean(labA2_2,labD4_3)"
      ],
      "execution_count": 338,
      "outputs": []
    },
    {
      "cell_type": "code",
      "metadata": {
        "id": "0IDzb76_7IfX"
      },
      "source": [
        "UA2A1 = (UA2A1_1+UA2A1_2)/2\n",
        "UA2A2 = (UA2A2_1+UA2A2_2)/2\n",
        "UA2A3 = (UA2A3_1+UA2A3_2)/2\n",
        "UA2A3_5 = (UA2A3_51+UA2A3_52)/2\n",
        "UA2A4 = (UA2A4_1+UA2A4_2)/2\n",
        "UA2B1 = (UA2B1_1+UA2B1_2)/2\n",
        "UA2B2 = (UA2B2_1+UA2B2_2)/2\n",
        "UA2B3 = (UA2B3_1+UA2B3_2)/2\n",
        "UA2B4 = (UA2B4_1+UA2B4_2)/2\n",
        "UA2C1 = (UA2C1_1+UA2C1_2)/2\n",
        "UA2C2 = (UA2C2_1+UA2C2_2)/2\n",
        "UA2C3 = (UA2C3_1+UA2C3_2)/2\n",
        "UA2C4 = (UA2C4_1+UA2C4_2)/2\n",
        "UA2D2 = (UA2D2_1+UA2D2_2)/2\n",
        "UA2D3 = (UA2D3_1+UA2D3_2)/2\n",
        "UA2D4 = (UA2D4_1+UA2D4_2)/2"
      ],
      "execution_count": 339,
      "outputs": []
    },
    {
      "cell_type": "markdown",
      "metadata": {
        "id": "LpSNWcPFEEAC"
      },
      "source": [
        "A3"
      ]
    },
    {
      "cell_type": "code",
      "metadata": {
        "id": "8SB0HIL6EFJn"
      },
      "source": [
        "UA3A1_1 = distance.euclidean(labA3_2,labA1_3)\n",
        "UA3A1_2 = distance.euclidean(labA3_1,labA1_4)\n",
        "UA3A2_1 = distance.euclidean(labA3_2,labA2_3)\n",
        "UA3A2_2 = distance.euclidean(labA3_1,labA2_4)\n",
        "UA3A3_1 = distance.euclidean(labA3_2,labA3_3)\n",
        "UA3A3_2 = distance.euclidean(labA3_1,labA3_4)\n",
        "UA3A3_51 = distance.euclidean(labA3_2,labA3_503)\n",
        "UA3A3_52 = distance.euclidean(labA3_1,labA3_504)\n",
        "UA3A4_1 = distance.euclidean(labA3_2,labA4_3)\n",
        "UA3A4_2 = distance.euclidean(labA3_1,labA4_4)\n",
        "UA3B1_1 = distance.euclidean(labA3_2,labB1_3)\n",
        "UA3B1_2 = distance.euclidean(labA3_1,labB1_4)\n",
        "UA3B2_1 = distance.euclidean(labA3_2,labB2_3)\n",
        "UA3B2_2 = distance.euclidean(labA3_1,labB2_4)\n",
        "UA3B3_1 = distance.euclidean(labA3_2,labB3_3)\n",
        "UA3B3_2 = distance.euclidean(labA3_1,labB3_4)\n",
        "UA3B4_1 = distance.euclidean(labA3_2,labB4_3)\n",
        "UA3B4_2 = distance.euclidean(labA3_1,labB4_4)\n",
        "UA3C1_1 = distance.euclidean(labA3_2,labC1_3)\n",
        "UA3C1_2 = distance.euclidean(labA3_1,labC1_4)\n",
        "UA3C2_1 = distance.euclidean(labA3_2,labC2_3)\n",
        "UA3C2_2 = distance.euclidean(labA3_1,labC2_4)\n",
        "UA3C3_1 = distance.euclidean(labA3_2,labC3_3)\n",
        "UA3C3_2 = distance.euclidean(labA3_1,labC3_4)\n",
        "UA3C4_1 = distance.euclidean(labA3_2,labC4_3)\n",
        "UA3C4_2 = distance.euclidean(labA3_1,labC4_4)\n",
        "UA3D2_1 = distance.euclidean(labA3_2,labD2_3)\n",
        "UA3D2_2 = distance.euclidean(labA3_1,labD2_4)\n",
        "UA3D3_1 = distance.euclidean(labA3_2,labD3_3)\n",
        "UA3D3_2 = distance.euclidean(labA3_1,labD3_4)\n",
        "UA3D4_1 = distance.euclidean(labA3_2,labD4_3)\n",
        "UA3D4_2 = distance.euclidean(labA3_1,labD4_4)"
      ],
      "execution_count": 340,
      "outputs": []
    },
    {
      "cell_type": "code",
      "metadata": {
        "id": "iKwP4vNF7YES"
      },
      "source": [
        "UA3A1 = (UA2A1_1+UA2A1_2)/2\n",
        "UA3A2 = (UA3A2_1+UA3A2_2)/2\n",
        "UA3A3 = (UA3A3_1+UA3A3_2)/2\n",
        "UA3A3_5 = (UA3A3_51+UA3A3_52)/2\n",
        "UA3A4 = (UA3A4_1+UA3A4_2)/2\n",
        "UA3B1 = (UA3B1_1+UA3B1_2)/2\n",
        "UA3B2 = (UA3B2_1+UA3B2_2)/2\n",
        "UA3B3 = (UA3B3_1+UA3B3_2)/2\n",
        "UA3B4 = (UA3B4_1+UA3B4_2)/2\n",
        "UA3C1 = (UA3C1_1+UA3C1_2)/2\n",
        "UA3C2 = (UA3C2_1+UA3C2_2)/2\n",
        "UA3C3 = (UA3C3_1+UA3C3_2)/2\n",
        "UA3C4 = (UA3C4_1+UA3C4_2)/2\n",
        "UA3D2 = (UA3D2_1+UA3D2_2)/2\n",
        "UA3D3 = (UA3D3_1+UA3D3_2)/2\n",
        "UA3D4 = (UA3D4_1+UA3D4_2)/2"
      ],
      "execution_count": 341,
      "outputs": []
    },
    {
      "cell_type": "markdown",
      "metadata": {
        "id": "HOBtYix5HZ4-"
      },
      "source": [
        "A3.5"
      ]
    },
    {
      "cell_type": "code",
      "metadata": {
        "id": "saXBQJkbHbYF"
      },
      "source": [
        "UA3_5A1_1 = distance.euclidean(labA3_501,labA1_3)\n",
        "UA3_5A1_2 = distance.euclidean(labA3_502,labA1_4)\n",
        "UA3_5A2_1 = distance.euclidean(labA3_501,labA2_3)\n",
        "UA3_5A2_2 = distance.euclidean(labA3_502,labA2_4)\n",
        "UA3_5A3_1 = distance.euclidean(labA3_501,labA3_3)\n",
        "UA3_5A3_2 = distance.euclidean(labA3_502,labA3_4)\n",
        "UA3_5A3_51 = distance.euclidean(labA3_501,labA3_503)\n",
        "UA3_5A3_52 = distance.euclidean(labA3_502,labA3_504)\n",
        "UA3_5A4_1 = distance.euclidean(labA3_501,labA4_3)\n",
        "UA3_5A4_2 = distance.euclidean(labA3_502,labA4_4)\n",
        "UA3_5B1_1 = distance.euclidean(labA3_501,labB1_3)\n",
        "UA3_5B1_2 = distance.euclidean(labA3_502,labB1_4)\n",
        "UA3_5B2_1 = distance.euclidean(labA3_501,labB2_3)\n",
        "UA3_5B2_2 = distance.euclidean(labA3_502,labB2_4)\n",
        "UA3_5B3_1 = distance.euclidean(labA3_501,labB3_3)\n",
        "UA3_5B3_2 = distance.euclidean(labA3_502,labB3_4)\n",
        "UA3_5B4_1 = distance.euclidean(labA3_501,labB4_3)\n",
        "UA3_5B4_2 = distance.euclidean(labA3_502,labB4_4)\n",
        "UA3_5C1_1 = distance.euclidean(labA3_501,labC1_3)\n",
        "UA3_5C1_2 = distance.euclidean(labA3_502,labC1_4)\n",
        "UA3_5C2_1 = distance.euclidean(labA3_501,labC2_3)\n",
        "UA3_5C2_2 = distance.euclidean(labA3_502,labC2_4)\n",
        "UA3_5C3_1 = distance.euclidean(labA3_501,labC3_3)\n",
        "UA3_5C3_2 = distance.euclidean(labA3_502,labC3_4)\n",
        "UA3_5C4_1 = distance.euclidean(labA3_501,labC4_3)\n",
        "UA3_5C4_2 = distance.euclidean(labA3_502,labC4_4)\n",
        "UA3_5D2_1 = distance.euclidean(labA3_501,labD2_3)\n",
        "UA3_5D2_2 = distance.euclidean(labA3_502,labD2_4)\n",
        "UA3_5D3_1 = distance.euclidean(labA3_501,labD3_3)\n",
        "UA3_5D3_2 = distance.euclidean(labA3_502,labD3_4)\n",
        "UA3_5D4_1 = distance.euclidean(labA3_501,labD4_3)\n",
        "UA3_5D4_2 = distance.euclidean(labA3_502,labD4_4)"
      ],
      "execution_count": 342,
      "outputs": []
    },
    {
      "cell_type": "code",
      "metadata": {
        "id": "EVTVI4nj72b9"
      },
      "source": [
        "UA3_5A1 = (UA3_5A1_1+UA3_5A1_2)/2\n",
        "UA3_5A2 = (UA3_5A2_1+UA3_5A2_2)/2\n",
        "UA3_5A3 = (UA3_5A3_1+UA3_5A3_2)/2\n",
        "UA3_5A3_5 = (UA3_5A3_51+UA3_5A3_52)/2\n",
        "UA3_5A4 = (UA3_5A4_1+UA3_5A4_2)/2\n",
        "UA3_5B1 = (UA3_5B1_1+UA3_5B1_2)/2\n",
        "UA3_5B2 = (UA3_5B2_1+UA3_5B2_2)/2\n",
        "UA3_5B3 = (UA3_5B3_1+UA3_5B3_2)/2\n",
        "UA3_5B4 = (UA3_5B4_1+UA3_5B4_2)/2\n",
        "UA3_5C1 = (UA3_5C1_1+UA3_5C1_2)/2\n",
        "UA3_5C2 = (UA3_5C2_1+UA3_5C2_2)/2\n",
        "UA3_5C3 = (UA3_5C3_1+UA3_5C3_2)/2\n",
        "UA3_5C4 = (UA3_5C4_1+UA3_5C4_2)/2\n",
        "UA3_5D2 = (UA3_5D2_1+UA3_5D2_2)/2\n",
        "UA3_5D3 = (UA3_5D3_1+UA3_5D3_2)/2\n",
        "UA3_5D4 = (UA3_5D4_1+UA3_5D4_2)/2"
      ],
      "execution_count": 343,
      "outputs": []
    },
    {
      "cell_type": "markdown",
      "metadata": {
        "id": "v85yIzGiJzxT"
      },
      "source": [
        "A4"
      ]
    },
    {
      "cell_type": "code",
      "metadata": {
        "id": "E1b4WXHaJ2In"
      },
      "source": [
        "UA4A1_1 = distance.euclidean(labA4_2,labA1_3)\n",
        "UA4A1_2 = distance.euclidean(labA4_1,labA1_4)\n",
        "UA4A2_1 = distance.euclidean(labA4_2,labA2_3)\n",
        "UA4A2_2 = distance.euclidean(labA4_1,labA2_4)\n",
        "UA4A3_1 = distance.euclidean(labA4_2,labA3_3)\n",
        "UA4A3_2 = distance.euclidean(labA4_1,labA3_4)\n",
        "UA4A3_51 = distance.euclidean(labA4_2,labA3_503)\n",
        "UA4A3_52 = distance.euclidean(labA4_1,labA3_504)\n",
        "UA4A4_1 = distance.euclidean(labA4_2,labA4_3)\n",
        "UA4A4_2 = distance.euclidean(labA4_1,labA4_4)\n",
        "UA4B1_1 = distance.euclidean(labA4_2,labB1_3)\n",
        "UA4B1_2 = distance.euclidean(labA4_1,labB1_4)\n",
        "UA4B2_1 = distance.euclidean(labA4_2,labB2_3)\n",
        "UA4B2_2 = distance.euclidean(labA4_1,labB2_4)\n",
        "UA4B3_1 = distance.euclidean(labA4_2,labB3_3)\n",
        "UA4B3_2 = distance.euclidean(labA4_1,labB3_4)\n",
        "UA4B4_1 = distance.euclidean(labA4_2,labB4_3)\n",
        "UA4B4_2 = distance.euclidean(labA4_1,labB4_4)\n",
        "UA4C1_1 = distance.euclidean(labA4_2,labC1_3)\n",
        "UA4C1_2 = distance.euclidean(labA4_1,labC1_4)\n",
        "UA4C2_1 = distance.euclidean(labA4_2,labC2_3)\n",
        "UA4C2_2 = distance.euclidean(labA4_1,labC2_4)\n",
        "UA4C3_1 = distance.euclidean(labA4_2,labC3_3)\n",
        "UA4C3_2 = distance.euclidean(labA4_1,labC3_4)\n",
        "UA4C4_1 = distance.euclidean(labA4_2,labC4_3)\n",
        "UA4C4_2 = distance.euclidean(labA4_1,labC4_4)\n",
        "UA4D2_1 = distance.euclidean(labA4_2,labD2_3)\n",
        "UA4D2_2 = distance.euclidean(labA4_1,labD2_4)\n",
        "UA4D3_1 = distance.euclidean(labA4_2,labD3_3)\n",
        "UA4D3_2 = distance.euclidean(labA4_1,labD3_4)\n",
        "UA4D4_1 = distance.euclidean(labA4_2,labD4_3)\n",
        "UA4D4_2 = distance.euclidean(labA4_1,labD4_4)"
      ],
      "execution_count": 344,
      "outputs": []
    },
    {
      "cell_type": "code",
      "metadata": {
        "id": "wf4SX3678xN4"
      },
      "source": [
        "UA4A1 = (UA4A1_1+UA4A1_2)/2\n",
        "UA4A2 = (UA4A2_1+UA4A2_2)/2\n",
        "UA4A3 = (UA4A3_1+UA4A3_2)/2\n",
        "UA4A3_5 = (UA4A3_51+UA4A3_52)/2\n",
        "UA4A4 = (UA4A4_1+UA4A4_2)/2\n",
        "UA4B1 = (UA4B1_1+UA4B1_2)/2\n",
        "UA4B2 = (UA4B2_1+UA4B2_2)/2\n",
        "UA4B3 = (UA4B3_1+UA4B3_2)/2\n",
        "UA4B4 = (UA4B4_1+UA4B4_2)/2\n",
        "UA4C1 = (UA4C1_1+UA4C1_2)/2\n",
        "UA4C2 = (UA4C2_1+UA4C2_2)/2\n",
        "UA4C3 = (UA4C3_1+UA4C3_2)/2\n",
        "UA4C4 = (UA4C4_1+UA4C4_2)/2\n",
        "UA4D2 = (UA4D2_1+UA4D2_2)/2\n",
        "UA4D3 = (UA4D3_1+UA4D3_2)/2\n",
        "UA4D4 = (UA4D4_1+UA4D4_2)/2"
      ],
      "execution_count": 345,
      "outputs": []
    },
    {
      "cell_type": "markdown",
      "metadata": {
        "id": "pdArf5nVLut6"
      },
      "source": [
        "B1"
      ]
    },
    {
      "cell_type": "code",
      "metadata": {
        "id": "XrgU5BFvLwqD"
      },
      "source": [
        "UB1A1_1 = distance.euclidean(labB1_2,labA1_3)\n",
        "UB1A1_2 = distance.euclidean(labB1_1,labA1_4)\n",
        "UB1A2_1 = distance.euclidean(labB1_2,labA2_3)\n",
        "UB1A2_2 = distance.euclidean(labB1_1,labA2_4)\n",
        "UB1A3_1 = distance.euclidean(labB1_2,labA3_3)\n",
        "UB1A3_2 = distance.euclidean(labB1_1,labA3_4)\n",
        "UB1A3_51 = distance.euclidean(labB1_2,labA3_503)\n",
        "UB1A3_52 = distance.euclidean(labB1_1,labA3_504)\n",
        "UB1A4_1 = distance.euclidean(labB1_2,labA4_3)\n",
        "UB1A4_2 = distance.euclidean(labB1_1,labA4_4)\n",
        "UB1B1_1 = distance.euclidean(labB1_2,labB1_3)\n",
        "UB1B1_2 = distance.euclidean(labA4_1,labB1_4)\n",
        "UB1B2_1 = distance.euclidean(labB1_2,labB2_3)\n",
        "UB1B2_2 = distance.euclidean(labB1_1,labB2_4)\n",
        "UB1B3_1 = distance.euclidean(labB1_2,labB3_3)\n",
        "UB1B3_2 = distance.euclidean(labB1_1,labB3_4)\n",
        "UB1B4_1 = distance.euclidean(labB1_2,labB4_3)\n",
        "UB1B4_2 = distance.euclidean(labB1_1,labB4_4)\n",
        "UB1C1_1 = distance.euclidean(labB1_2,labC1_3)\n",
        "UB1C1_2 = distance.euclidean(labB1_1,labC1_4)\n",
        "UB1C2_1 = distance.euclidean(labB1_2,labC2_3)\n",
        "UB1C2_2 = distance.euclidean(labB1_1,labC2_4)\n",
        "UB1C3_1 = distance.euclidean(labB1_2,labC3_3)\n",
        "UB1C3_2 = distance.euclidean(labB1_1,labC3_4)\n",
        "UB1C4_1 = distance.euclidean(labB1_2,labC4_3)\n",
        "UB1C4_2 = distance.euclidean(labB1_1,labC4_4)\n",
        "UB1D2_1 = distance.euclidean(labB1_2,labD2_3)\n",
        "UB1D2_2 = distance.euclidean(labB1_1,labD2_4)\n",
        "UB1D3_1 = distance.euclidean(labB1_2,labD3_3)\n",
        "UB1D3_2 = distance.euclidean(labB1_1,labD3_4)\n",
        "UB1D4_1 = distance.euclidean(labB1_2,labD4_3)\n",
        "UB1D4_2 = distance.euclidean(labB1_1,labD4_4)"
      ],
      "execution_count": 346,
      "outputs": []
    },
    {
      "cell_type": "code",
      "metadata": {
        "id": "-bVweXXn9WSK"
      },
      "source": [
        "UB1A1 = (UB1A1_1+UB1A1_2)/2\n",
        "UB1A2 = (UB1A2_1+UB1A2_2)/2\n",
        "UB1A3 = (UB1A3_1+UB1A3_2)/2\n",
        "UB1A3_5 = (UB1A3_51+UB1A3_52)/2\n",
        "UB1A4 = (UB1A4_1+UB1A4_2)/2\n",
        "UB1B1 = (UB1B1_1+UB1B1_2)/2\n",
        "UB1B2 = (UB1B2_1+UB1B2_2)/2\n",
        "UB1B3 = (UB1B3_1+UB1B3_2)/2\n",
        "UB1B4 = (UB1B4_1+UB1B4_2)/2\n",
        "UB1C1 = (UB1C1_1+UB1C1_2)/2\n",
        "UB1C2 = (UB1C2_1+UB1C2_2)/2\n",
        "UB1C3 = (UB1C3_1+UB1C3_2)/2\n",
        "UB1C4 = (UB1C4_1+UB1C4_2)/2\n",
        "UB1D2 = (UB1D2_1+UB1D2_2)/2\n",
        "UB1D3 = (UB1D3_1+UB1D3_2)/2\n",
        "UB1D4 = (UB1D4_1+UB1D4_2)/2"
      ],
      "execution_count": 347,
      "outputs": []
    },
    {
      "cell_type": "markdown",
      "metadata": {
        "id": "QsTUZnxhQfyq"
      },
      "source": [
        "B2"
      ]
    },
    {
      "cell_type": "code",
      "metadata": {
        "id": "rLZXm0gQQiLG"
      },
      "source": [
        "UB2A1_1 = distance.euclidean(labB2_1,labA1_3)\n",
        "UB2A1_2 = distance.euclidean(labB2_2,labA1_4)\n",
        "UB2A2_1 = distance.euclidean(labB2_1,labA2_3)\n",
        "UB2A2_2 = distance.euclidean(labB2_2,labA2_4)\n",
        "UB2A3_1 = distance.euclidean(labB2_1,labA3_3)\n",
        "UB2A3_2 = distance.euclidean(labB2_2,labA3_4)\n",
        "UB2A3_51 = distance.euclidean(labB2_1,labA3_503)\n",
        "UB2A3_52 = distance.euclidean(labB2_2,labA3_504)\n",
        "UB2A4_1 = distance.euclidean(labB2_1,labA4_3)\n",
        "UB2A4_2 = distance.euclidean(labB2_2,labA4_4)\n",
        "UB2B1_1 = distance.euclidean(labB2_1,labB1_3)\n",
        "UB2B1_2 = distance.euclidean(labB2_2,labB1_4)\n",
        "UB2B2_1 = distance.euclidean(labB2_1,labB2_3)\n",
        "UB2B2_2 = distance.euclidean(labB2_2,labB2_4)\n",
        "UB2B3_1 = distance.euclidean(labB2_1,labB3_3)\n",
        "UB2B3_2 = distance.euclidean(labB2_2,labB3_4)\n",
        "UB2B4_1 = distance.euclidean(labB2_1,labB4_3)\n",
        "UB2B4_2 = distance.euclidean(labB2_2,labB4_4)\n",
        "UB2C1_1 = distance.euclidean(labB2_1,labC1_3)\n",
        "UB2C1_2 = distance.euclidean(labB2_2,labC1_4)\n",
        "UB2C2_1 = distance.euclidean(labB2_1,labC2_3)\n",
        "UB2C2_2 = distance.euclidean(labB2_2,labC2_4)\n",
        "UB2C3_1 = distance.euclidean(labB2_1,labC3_3)\n",
        "UB2C3_2 = distance.euclidean(labB2_2,labC3_4)\n",
        "UB2C4_1 = distance.euclidean(labB2_1,labC4_3)\n",
        "UB2C4_2 = distance.euclidean(labB2_2,labC4_4)\n",
        "UB2D2_1 = distance.euclidean(labB2_1,labD2_3)\n",
        "UB2D2_2 = distance.euclidean(labB2_2,labD2_4)\n",
        "UB2D3_1 = distance.euclidean(labB2_1,labD3_3)\n",
        "UB2D3_2 = distance.euclidean(labB2_2,labD3_4)\n",
        "UB2D4_1 = distance.euclidean(labB2_1,labD4_3)\n",
        "UB2D4_2 = distance.euclidean(labB2_2,labD4_4)"
      ],
      "execution_count": 348,
      "outputs": []
    },
    {
      "cell_type": "code",
      "metadata": {
        "id": "KtwDJ-Ue9p0h"
      },
      "source": [
        "UB2A1 = (UB2A1_1+UB2A1_2)/2\n",
        "UB2A2 = (UB2A2_1+UB2A2_2)/2\n",
        "UB2A3 = (UB1A3_1+UB2A3_2)/2\n",
        "UB2A3_5 = (UB2A3_51+UB2A3_52)/2\n",
        "UB2A4 = (UB2A4_1+UB2A4_2)/2\n",
        "UB2B1 = (UB2B1_1+UB2B1_2)/2\n",
        "UB2B2 = (UB2B2_1+UB2B2_2)/2\n",
        "UB2B3 = (UB2B3_1+UB2B3_2)/2\n",
        "UB2B4 = (UB2B4_1+UB2B4_2)/2\n",
        "UB2C1 = (UB2C1_1+UB2C1_2)/2\n",
        "UB2C2 = (UB2C2_1+UB2C2_2)/2\n",
        "UB2C3 = (UB2C3_1+UB2C3_2)/2\n",
        "UB2C4 = (UB2C4_1+UB2C4_2)/2\n",
        "UB2D2 = (UB2D2_1+UB2D2_2)/2\n",
        "UB2D3 = (UB2D3_1+UB2D3_2)/2\n",
        "UB2D4 = (UB2D4_1+UB2D4_2)/2"
      ],
      "execution_count": 349,
      "outputs": []
    },
    {
      "cell_type": "markdown",
      "metadata": {
        "id": "MXY-OV4gUmdw"
      },
      "source": [
        "B3"
      ]
    },
    {
      "cell_type": "code",
      "metadata": {
        "id": "pUUKgK1xUsJo"
      },
      "source": [
        "UB3A1_1 = distance.euclidean(labB3_2,labA1_3)\n",
        "UB3A1_2 = distance.euclidean(labB3_1,labA1_4)\n",
        "UB3A2_1 = distance.euclidean(labB3_2,labA2_3)\n",
        "UB3A2_2 = distance.euclidean(labB3_1,labA2_4)\n",
        "UB3A3_1 = distance.euclidean(labB1_2,labA3_3)\n",
        "UB3A3_2 = distance.euclidean(labB3_1,labA3_4)\n",
        "UB3A3_51 = distance.euclidean(labB3_2,labA3_503)\n",
        "UB3A3_52 = distance.euclidean(labB3_1,labA3_504)\n",
        "UB3A4_1 = distance.euclidean(labB3_2,labA4_3)\n",
        "UB3A4_2 = distance.euclidean(labB3_1,labA4_4)\n",
        "UB3B1_1 = distance.euclidean(labB3_2,labB1_3)\n",
        "UB3B1_2 = distance.euclidean(labB3_1,labB1_4)\n",
        "UB3B2_1 = distance.euclidean(labB3_2,labB2_3)\n",
        "UB3B2_2 = distance.euclidean(labB3_1,labB2_4)\n",
        "UB3B3_1 = distance.euclidean(labB3_2,labB3_3)\n",
        "UB3B3_2 = distance.euclidean(labB3_1,labB3_4)\n",
        "UB3B4_1 = distance.euclidean(labB3_2,labB4_3)\n",
        "UB3B4_2 = distance.euclidean(labB3_1,labB4_4)\n",
        "UB3C1_1 = distance.euclidean(labB3_2,labC1_3)\n",
        "UB3C1_2 = distance.euclidean(labB3_1,labC1_4)\n",
        "UB3C2_1 = distance.euclidean(labB3_2,labC2_3)\n",
        "UB3C2_2 = distance.euclidean(labB3_1,labC2_4)\n",
        "UB3C3_1 = distance.euclidean(labB3_2,labC3_3)\n",
        "UB3C3_2 = distance.euclidean(labB3_1,labC3_4)\n",
        "UB3C4_1 = distance.euclidean(labB3_2,labC4_3)\n",
        "UB3C4_2 = distance.euclidean(labB3_1,labC4_4)\n",
        "UB3D2_1 = distance.euclidean(labB3_2,labD2_3)\n",
        "UB3D2_2 = distance.euclidean(labB3_1,labD2_4)\n",
        "UB3D3_1 = distance.euclidean(labB3_2,labD3_3)\n",
        "UB3D3_2 = distance.euclidean(labB3_1,labD3_4)\n",
        "UB3D4_1 = distance.euclidean(labB3_2,labD4_3)\n",
        "UB3D4_2 = distance.euclidean(labB3_1,labD4_4)"
      ],
      "execution_count": 350,
      "outputs": []
    },
    {
      "cell_type": "code",
      "metadata": {
        "id": "LbWbEIYY-LDk"
      },
      "source": [
        "UB3A1 = (UB3A1_1+UB3A1_2)/2\n",
        "UB3A2 = (UB3A2_1+UB3A2_2)/2\n",
        "UB3A3 = (UB3A3_1+UB3A3_2)/2\n",
        "UB3A3_5 = (UB3A3_51+UB3A3_52)/2\n",
        "UB3A4 = (UB3A4_1+UB3A4_2)/2\n",
        "UB3B1 = (UB3B1_1+UB3B1_2)/2\n",
        "UB3B2 = (UB3B2_1+UB3B2_2)/2\n",
        "UB3B3 = (UB3B3_1+UB3B3_2)/2\n",
        "UB3B4 = (UB3B4_1+UB3B4_2)/2\n",
        "UB3C1 = (UB3C1_1+UB3C1_2)/2\n",
        "UB3C2 = (UB3C2_1+UB3C2_2)/2\n",
        "UB3C3 = (UB3C3_1+UB3C3_2)/2\n",
        "UB3C4 = (UB3C4_1+UB3C4_2)/2\n",
        "UB3D2 = (UB3D2_1+UB3D2_2)/2\n",
        "UB3D3 = (UB3D3_1+UB3D3_2)/2\n",
        "UB3D4 = (UB3D4_1+UB3D4_2)/2"
      ],
      "execution_count": 351,
      "outputs": []
    },
    {
      "cell_type": "markdown",
      "metadata": {
        "id": "iw4iZKK5Un4u"
      },
      "source": [
        "B4"
      ]
    },
    {
      "cell_type": "code",
      "metadata": {
        "id": "gM2lJOfcUsbO"
      },
      "source": [
        "UB4A1_1 = distance.euclidean(labB4_1,labA1_4)\n",
        "UB4A1_2 = distance.euclidean(labB4_2,labA1_3)\n",
        "UB4A2_1 = distance.euclidean(labB4_1,labA2_4)\n",
        "UB4A2_2 = distance.euclidean(labB4_2,labA2_3)\n",
        "UB4A3_1 = distance.euclidean(labB4_1,labA3_4)\n",
        "UB4A3_2 = distance.euclidean(labB4_2,labA3_3)\n",
        "UB4A3_51 = distance.euclidean(labB4_1,labA3_504)\n",
        "UB4A3_52 = distance.euclidean(labB4_2,labA3_503)\n",
        "UB4A4_1 = distance.euclidean(labB4_1,labA4_4)\n",
        "UB4A4_2 = distance.euclidean(labB4_2,labA4_3)\n",
        "UB4B1_1 = distance.euclidean(labB4_1,labB1_4)\n",
        "UB4B1_2 = distance.euclidean(labB4_2,labB1_3)\n",
        "UB4B2_1 = distance.euclidean(labB4_1,labB2_4)\n",
        "UB4B2_2 = distance.euclidean(labB4_2,labB2_3)\n",
        "UB4B3_1 = distance.euclidean(labB4_1,labB3_4)\n",
        "UB4B3_2 = distance.euclidean(labB4_2,labB3_3)\n",
        "UB4B4_1 = distance.euclidean(labB4_1,labB4_4)\n",
        "UB4B4_2 = distance.euclidean(labB4_2,labB4_3)\n",
        "UB4C1_1 = distance.euclidean(labB4_1,labC1_4)\n",
        "UB4C1_2 = distance.euclidean(labB4_2,labC1_3)\n",
        "UB4C2_1 = distance.euclidean(labB4_1,labC2_4)\n",
        "UB4C2_2 = distance.euclidean(labB4_2,labC2_3)\n",
        "UB4C3_1 = distance.euclidean(labB4_1,labC3_4)\n",
        "UB4C3_2 = distance.euclidean(labB4_2,labC3_3)\n",
        "UB4C4_1 = distance.euclidean(labB4_1,labC4_4)\n",
        "UB4C4_2 = distance.euclidean(labB4_2,labC4_3)\n",
        "UB4D2_1 = distance.euclidean(labB4_1,labD2_4)\n",
        "UB4D2_2 = distance.euclidean(labB4_2,labD2_3)\n",
        "UB4D3_1 = distance.euclidean(labB4_1,labD3_4)\n",
        "UB4D3_2 = distance.euclidean(labB4_2,labD3_3)\n",
        "UB4D4_1 = distance.euclidean(labB4_1,labD4_4)\n",
        "UB4D4_2 = distance.euclidean(labB4_2,labD4_3)"
      ],
      "execution_count": 352,
      "outputs": []
    },
    {
      "cell_type": "code",
      "metadata": {
        "id": "IiacfVn_-fE4"
      },
      "source": [
        "UB4A1 = (UB4A1_1+UB4A1_2)/2\n",
        "UB4A2 = (UB4A2_1+UB4A2_2)/2\n",
        "UB4A3 = (UB4A3_1+UB4A3_2)/2\n",
        "UB4A3_5 = (UB4A3_51+UB4A3_52)/2\n",
        "UB4A4 = (UB4A4_1+UB4A4_2)/2\n",
        "UB4B1 = (UB4B1_1+UB4B1_2)/2\n",
        "UB4B2 = (UB4B2_1+UB4B2_2)/2\n",
        "UB4B3 = (UB4B3_1+UB4B3_2)/2\n",
        "UB4B4 = (UB4B4_1+UB4B4_2)/2\n",
        "UB4C1 = (UB4C1_1+UB4C1_2)/2\n",
        "UB4C2 = (UB4C2_1+UB4C2_2)/2\n",
        "UB4C3 = (UB4C3_1+UB4C3_2)/2\n",
        "UB4C4 = (UB4C4_1+UB4C4_2)/2\n",
        "UB4D2 = (UB4D2_1+UB4D2_2)/2\n",
        "UB4D3 = (UB4D3_1+UB4D3_2)/2\n",
        "UB4D4 = (UB4D4_1+UB4D4_2)/2"
      ],
      "execution_count": 353,
      "outputs": []
    },
    {
      "cell_type": "markdown",
      "metadata": {
        "id": "PmgWHgMPUozB"
      },
      "source": [
        "C1"
      ]
    },
    {
      "cell_type": "code",
      "metadata": {
        "id": "rQk8U9jcUszY"
      },
      "source": [
        "UC1A1_1 = distance.euclidean(labC1_1,labA1_3)\n",
        "UC1A1_2 = distance.euclidean(labC1_2,labA1_4)\n",
        "UC1A2_1 = distance.euclidean(labC1_1,labA2_3)\n",
        "UC1A2_2 = distance.euclidean(labC1_2,labA2_4)\n",
        "UC1A3_1 = distance.euclidean(labC1_1,labA3_3)\n",
        "UC1A3_2 = distance.euclidean(labC1_2,labA3_4)\n",
        "UC1A3_51 = distance.euclidean(labC1_1,labA3_503)\n",
        "UC1A3_52 = distance.euclidean(labC1_2,labA3_504)\n",
        "UC1A4_1 = distance.euclidean(labC1_1,labA4_3)\n",
        "UC1A4_2 = distance.euclidean(labC1_2,labA4_4)\n",
        "UC1B1_1 = distance.euclidean(labC1_1,labB1_3)\n",
        "UC1B1_2 = distance.euclidean(labC1_2,labB1_4)\n",
        "UC1B2_1 = distance.euclidean(labC1_1,labB2_3)\n",
        "UC1B2_2 = distance.euclidean(labC1_2,labB2_4)\n",
        "UC1B3_1 = distance.euclidean(labC1_1,labB3_3)\n",
        "UC1B3_2 = distance.euclidean(labC1_2,labB3_4)\n",
        "UC1B4_1 = distance.euclidean(labC1_1,labB4_3)\n",
        "UC1B4_2 = distance.euclidean(labC1_2,labB4_4)\n",
        "UC1C1_1 = distance.euclidean(labC1_1,labC1_3)\n",
        "UC1C1_2 = distance.euclidean(labC1_2,labC1_4)\n",
        "UC1C2_1 = distance.euclidean(labC1_1,labC2_3)\n",
        "UC1C2_2 = distance.euclidean(labC1_2,labC2_4)\n",
        "UC1C3_1 = distance.euclidean(labC1_1,labC3_3)\n",
        "UC1C3_2 = distance.euclidean(labC1_2,labC3_4)\n",
        "UC1C4_1 = distance.euclidean(labC1_1,labC4_3)\n",
        "UC1C4_2 = distance.euclidean(labC1_2,labC4_4)\n",
        "UC1D2_1 = distance.euclidean(labC1_1,labD2_3)\n",
        "UC1D2_2 = distance.euclidean(labC1_2,labD2_4)\n",
        "UC1D3_1 = distance.euclidean(labC1_1,labD3_3)\n",
        "UC1D3_2 = distance.euclidean(labC1_2,labD3_4)\n",
        "UC1D4_1 = distance.euclidean(labC1_1,labD4_3)\n",
        "UC1D4_2 = distance.euclidean(labC1_2,labD4_4)"
      ],
      "execution_count": 354,
      "outputs": []
    },
    {
      "cell_type": "code",
      "metadata": {
        "id": "jorLjOmg_BwS"
      },
      "source": [
        "UC1A1 = (UC1A1_1+UC1A1_2)/2\n",
        "UC1A2 = (UC1A2_1+UC1A2_2)/2\n",
        "UC1A3 = (UC1A3_1+UC1A3_2)/2\n",
        "UC1A3_5 = (UC1A3_51+UC1A3_52)/2\n",
        "UC1A4 = (UC1A4_1+UC1A4_2)/2\n",
        "UC1B1 = (UC1B1_1+UC1B1_2)/2\n",
        "UC1B2 = (UC1B2_1+UC1B2_2)/2\n",
        "UC1B3 = (UC1B3_1+UC1B3_2)/2\n",
        "UC1B4 = (UC1B4_1+UC1B4_2)/2\n",
        "UC1C1 = (UC1C1_1+UC1C1_2)/2\n",
        "UC1C2 = (UC1C2_1+UC1C2_2)/2\n",
        "UC1C3 = (UC1C3_1+UC1C3_2)/2\n",
        "UC1C4 = (UC1C4_1+UC1C4_2)/2\n",
        "UC1D2 = (UC1D2_1+UC1D2_2)/2\n",
        "UC1D3 = (UC1D3_1+UC1D3_2)/2\n",
        "UC1D4 = (UC1D4_1+UC1D4_2)/2"
      ],
      "execution_count": 355,
      "outputs": []
    },
    {
      "cell_type": "markdown",
      "metadata": {
        "id": "lBdF6_flUpoR"
      },
      "source": [
        "C2"
      ]
    },
    {
      "cell_type": "code",
      "metadata": {
        "id": "O_xvI_EAUtNc"
      },
      "source": [
        "UC2A1_1 = distance.euclidean(labC2_1,labA1_3)\n",
        "UC2A1_2 = distance.euclidean(labC2_2,labA1_4)\n",
        "UC2A2_1 = distance.euclidean(labC2_1,labA2_3)\n",
        "UC2A2_2 = distance.euclidean(labC2_2,labA2_4)\n",
        "UC2A3_1 = distance.euclidean(labC2_1,labA3_3)\n",
        "UC2A3_2 = distance.euclidean(labC2_2,labA3_4)\n",
        "UC2A3_51 = distance.euclidean(labC2_1,labA3_503)\n",
        "UC2A3_52 = distance.euclidean(labC2_2,labA3_504)\n",
        "UC2A4_1 = distance.euclidean(labC2_1,labA4_3)\n",
        "UC2A4_2 = distance.euclidean(labC2_2,labA4_4)\n",
        "UC2B1_1 = distance.euclidean(labC2_1,labB1_3)\n",
        "UC2B1_2 = distance.euclidean(labC2_2,labB1_4)\n",
        "UC2B2_1 = distance.euclidean(labC2_1,labB2_3)\n",
        "UC2B2_2 = distance.euclidean(labC2_2,labB2_4)\n",
        "UC2B3_1 = distance.euclidean(labC2_1,labB3_3)\n",
        "UC2B3_2 = distance.euclidean(labC2_2,labB3_4)\n",
        "UC2B4_1 = distance.euclidean(labC2_1,labB4_3)\n",
        "UC2B4_2 = distance.euclidean(labC2_2,labB4_4)\n",
        "UC2C1_1 = distance.euclidean(labC2_1,labC1_3)\n",
        "UC2C1_2 = distance.euclidean(labC2_2,labC1_4)\n",
        "UC2C2_1 = distance.euclidean(labC2_1,labC2_3)\n",
        "UC2C2_2 = distance.euclidean(labC2_2,labC2_4)\n",
        "UC2C3_1 = distance.euclidean(labC2_1,labC3_3)\n",
        "UC2C3_2 = distance.euclidean(labC2_2,labC3_4)\n",
        "UC2C4_1 = distance.euclidean(labC2_1,labC4_3)\n",
        "UC2C4_2 = distance.euclidean(labC2_2,labC4_4)\n",
        "UC2D2_1 = distance.euclidean(labC2_1,labD2_3)\n",
        "UC2D2_2 = distance.euclidean(labC2_2,labD2_4)\n",
        "UC2D3_1 = distance.euclidean(labC2_1,labD3_3)\n",
        "UC2D3_2 = distance.euclidean(labC2_2,labD3_4)\n",
        "UC2D4_1 = distance.euclidean(labC2_1,labD4_3)\n",
        "UC2D4_2 = distance.euclidean(labC2_2,labD4_4)"
      ],
      "execution_count": 356,
      "outputs": []
    },
    {
      "cell_type": "code",
      "metadata": {
        "id": "UUrlUEXB_UY3"
      },
      "source": [
        "UC2A1 = (UC2A1_1+UC2A1_2)/2\n",
        "UC2A2 = (UC2A2_1+UC2A2_2)/2\n",
        "UC2A3 = (UC2A3_1+UC2A3_2)/2\n",
        "UC2A3_5 = (UC1A3_51+UC2A3_52)/2\n",
        "UC2A4 = (UC2A4_1+UC2A4_2)/2\n",
        "UC2B1 = (UC2B1_1+UC2B1_2)/2\n",
        "UC2B2 = (UC2B2_1+UC2B2_2)/2\n",
        "UC2B3 = (UC2B3_1+UC2B3_2)/2\n",
        "UC2B4 = (UC2B4_1+UC2B4_2)/2\n",
        "UC2C1 = (UC2C1_1+UC2C1_2)/2\n",
        "UC2C2 = (UC2C2_1+UC2C2_2)/2\n",
        "UC2C3 = (UC2C3_1+UC2C3_2)/2\n",
        "UC2C4 = (UC2C4_1+UC2C4_2)/2\n",
        "UC2D2 = (UC2D2_1+UC2D2_2)/2\n",
        "UC2D3 = (UC2D3_1+UC2D3_2)/2\n",
        "UC2D4 = (UC2D4_1+UC2D4_2)/2"
      ],
      "execution_count": 357,
      "outputs": []
    },
    {
      "cell_type": "markdown",
      "metadata": {
        "id": "F8Ejgtt3Uqmj"
      },
      "source": [
        "C3"
      ]
    },
    {
      "cell_type": "code",
      "metadata": {
        "id": "38-IdhF0Utwm"
      },
      "source": [
        "UC3A1_1 = distance.euclidean(labC3_1,labA1_3)\n",
        "UC3A1_2 = distance.euclidean(labC3_2,labA1_4)\n",
        "UC3A2_1 = distance.euclidean(labC3_1,labA2_3)\n",
        "UC3A2_2 = distance.euclidean(labC3_2,labA2_4)\n",
        "UC3A3_1 = distance.euclidean(labC3_1,labA3_3)\n",
        "UC3A3_2 = distance.euclidean(labC3_2,labA3_4)\n",
        "UC3A3_51 = distance.euclidean(labC3_1,labA3_503)\n",
        "UC3A3_52 = distance.euclidean(labC3_2,labA3_504)\n",
        "UC3A4_1 = distance.euclidean(labC3_1,labA4_3)\n",
        "UC3A4_2 = distance.euclidean(labC3_2,labA4_4)\n",
        "UC3B1_1 = distance.euclidean(labC3_1,labB1_3)\n",
        "UC3B1_2 = distance.euclidean(labC3_2,labB1_4)\n",
        "UC3B2_1 = distance.euclidean(labC3_1,labB2_3)\n",
        "UC3B2_2 = distance.euclidean(labC3_2,labB2_4)\n",
        "UC3B3_1 = distance.euclidean(labC3_1,labB3_3)\n",
        "UC3B3_2 = distance.euclidean(labC3_2,labB3_4)\n",
        "UC3B4_1 = distance.euclidean(labC3_1,labB4_3)\n",
        "UC3B4_2 = distance.euclidean(labC3_2,labB4_4)\n",
        "UC3C1_1 = distance.euclidean(labC3_1,labC1_3)\n",
        "UC3C1_2 = distance.euclidean(labC3_2,labC1_4)\n",
        "UC3C2_1 = distance.euclidean(labC3_1,labC2_3)\n",
        "UC3C2_2 = distance.euclidean(labC3_2,labC2_4)\n",
        "UC3C3_1 = distance.euclidean(labC3_1,labC3_3)\n",
        "UC3C3_2 = distance.euclidean(labC3_2,labC3_4)\n",
        "UC3C4_1 = distance.euclidean(labC3_1,labC4_3)\n",
        "UC3C4_2 = distance.euclidean(labC3_2,labC4_4)\n",
        "UC3D2_1 = distance.euclidean(labC3_1,labD2_3)\n",
        "UC3D2_2 = distance.euclidean(labC3_2,labD2_4)\n",
        "UC3D3_1 = distance.euclidean(labC3_1,labD3_3)\n",
        "UC3D3_2 = distance.euclidean(labC3_2,labD3_4)\n",
        "UC3D4_1 = distance.euclidean(labC3_1,labD4_3)\n",
        "UC3D4_2 = distance.euclidean(labC3_2,labD4_4)"
      ],
      "execution_count": 358,
      "outputs": []
    },
    {
      "cell_type": "code",
      "metadata": {
        "id": "dqtJNCHDABdO"
      },
      "source": [
        "UC3A1 = (UC3A1_1+UC3A1_2)/2\n",
        "UC3A2 = (UC3A2_1+UC3A2_2)/2\n",
        "UC3A3 = (UC3A3_1+UC3A3_2)/2\n",
        "UC3A3_5 = (UC3A3_51+UC3A3_52)/2\n",
        "UC3A4 = (UC3A4_1+UC3A4_2)/2\n",
        "UC3B1 = (UC3B1_1+UC3B1_2)/2\n",
        "UC3B2 = (UC3B2_1+UC3B2_2)/2\n",
        "UC3B3 = (UC3B3_1+UC3B3_2)/2\n",
        "UC3B4 = (UC3B4_1+UC3B4_2)/2\n",
        "UC3C1 = (UC3C1_1+UC3C1_2)/2\n",
        "UC3C2 = (UC3C2_1+UC3C2_2)/2\n",
        "UC3C3 = (UC3C3_1+UC3C3_2)/2\n",
        "UC3C4 = (UC3C4_1+UC3C4_2)/2\n",
        "UC3D2 = (UC3D2_1+UC3D2_2)/2\n",
        "UC3D3 = (UC3D3_1+UC3D3_2)/2\n",
        "UC3D4 = (UC3D4_1+UC3D4_2)/2"
      ],
      "execution_count": 359,
      "outputs": []
    },
    {
      "cell_type": "markdown",
      "metadata": {
        "id": "5nvt2loHUrVG"
      },
      "source": [
        "C4"
      ]
    },
    {
      "cell_type": "code",
      "metadata": {
        "id": "w1up6legUuR4"
      },
      "source": [
        "UC4A1_1 = distance.euclidean(labC4_2,labA1_4)\n",
        "UC4A1_2 = distance.euclidean(labC4_1,labA1_3)\n",
        "UC4A2_1 = distance.euclidean(labC4_2,labA2_4)\n",
        "UC4A2_2 = distance.euclidean(labC4_1,labA2_3)\n",
        "UC4A3_1 = distance.euclidean(labC4_2,labA3_4)\n",
        "UC4A3_2 = distance.euclidean(labC4_1,labA3_3)\n",
        "UC4A3_51 = distance.euclidean(labC4_2,labA3_504)\n",
        "UC4A3_52 = distance.euclidean(labC4_1,labA3_503)\n",
        "UC4A4_1 = distance.euclidean(labC4_2,labA4_3)\n",
        "UC4A4_2 = distance.euclidean(labC4_1,labA4_4)\n",
        "UC4B1_1 = distance.euclidean(labC4_2,labB1_3)\n",
        "UC4B1_2 = distance.euclidean(labC4_1,labB1_4)\n",
        "UC4B2_1 = distance.euclidean(labC4_2,labB2_3)\n",
        "UC4B2_2 = distance.euclidean(labC4_1,labB2_4)\n",
        "UC4B3_1 = distance.euclidean(labC4_2,labB3_3)\n",
        "UC4B3_2 = distance.euclidean(labC4_1,labB3_4)\n",
        "UC4B4_1 = distance.euclidean(labC4_2,labB4_3)\n",
        "UC4B4_2 = distance.euclidean(labC4_1,labB4_4)\n",
        "UC4C1_1 = distance.euclidean(labC4_2,labC1_3)\n",
        "UC4C1_2 = distance.euclidean(labC4_1,labC1_4)\n",
        "UC4C2_1 = distance.euclidean(labC4_2,labC2_3)\n",
        "UC4C2_2 = distance.euclidean(labC4_1,labC2_4)\n",
        "UC4C3_1 = distance.euclidean(labC4_2,labC3_3)\n",
        "UC4C3_2 = distance.euclidean(labC4_1,labC3_4)\n",
        "UC4C4_1 = distance.euclidean(labC4_2,labC4_3)\n",
        "UC4C4_2 = distance.euclidean(labC4_1,labC4_4)\n",
        "UC4D2_1 = distance.euclidean(labC4_2,labD2_3)\n",
        "UC4D2_2 = distance.euclidean(labC4_1,labD2_4)\n",
        "UC4D3_1 = distance.euclidean(labC4_2,labD3_3)\n",
        "UC4D3_2 = distance.euclidean(labC4_1,labD3_4)\n",
        "UC4D4_1 = distance.euclidean(labC4_2,labD4_3)\n",
        "UC4D4_2 = distance.euclidean(labC4_1,labD4_4)"
      ],
      "execution_count": 360,
      "outputs": []
    },
    {
      "cell_type": "code",
      "metadata": {
        "id": "I1kFapTLAUuW"
      },
      "source": [
        "UC4A1 = (UC4A1_1+UC4A1_2)/2\n",
        "UC4A2 = (UC4A2_1+UC4A2_2)/2\n",
        "UC4A3 = (UC4A3_1+UC4A3_2)/2\n",
        "UC4A3_5 = (UC4A3_51+UC4A3_52)/2\n",
        "UC4A4 = (UC4A4_1+UC4A4_2)/2\n",
        "UC4B1 = (UC4B1_1+UC4B1_2)/2\n",
        "UC4B2 = (UC4B2_1+UC4B2_2)/2\n",
        "UC4B3 = (UC4B3_1+UC4B3_2)/2\n",
        "UC4B4 = (UC4B4_1+UC4B4_2)/2\n",
        "UC4C1 = (UC4C1_1+UC4C1_2)/2\n",
        "UC4C2 = (UC4C2_1+UC4C2_2)/2\n",
        "UC4C3 = (UC4C3_1+UC4C3_2)/2\n",
        "UC4C4 = (UC4C4_1+UC4C4_2)/2\n",
        "UC4D2 = (UC4D2_1+UC4D2_2)/2\n",
        "UC4D3 = (UC4D3_1+UC4D3_2)/2\n",
        "UC4D4 = (UC4D4_1+UC4D4_2)/2"
      ],
      "execution_count": 361,
      "outputs": []
    },
    {
      "cell_type": "markdown",
      "metadata": {
        "id": "inQrkkdTc3mZ"
      },
      "source": [
        "D2"
      ]
    },
    {
      "cell_type": "code",
      "metadata": {
        "id": "q1NczpMZc4kw"
      },
      "source": [
        "UD2A1_1 = distance.euclidean(labD2_1,labA1_4)\n",
        "UD2A1_2 = distance.euclidean(labD2_2,labA1_3)\n",
        "UD2A2_1 = distance.euclidean(labD2_1,labA2_4)\n",
        "UD2A2_2 = distance.euclidean(labD2_2,labA2_3)\n",
        "UD2A3_1 = distance.euclidean(labD2_1,labA3_4)\n",
        "UD2A3_2 = distance.euclidean(labD2_2,labA3_3)\n",
        "UD2A3_51 = distance.euclidean(labD2_1,labA3_504)\n",
        "UD2A3_52 = distance.euclidean(labD2_2,labA3_503)\n",
        "UD2A4_1 = distance.euclidean(labD2_1,labA4_4)\n",
        "UD2A4_2 = distance.euclidean(labD2_2,labA4_3)\n",
        "UD2B1_1 = distance.euclidean(labD2_1,labB1_4)\n",
        "UD2B1_2 = distance.euclidean(labD2_2,labB1_3)\n",
        "UD2B2_1 = distance.euclidean(labD2_1,labB2_4)\n",
        "UD2B2_2 = distance.euclidean(labD2_2,labB2_3)\n",
        "UD2B3_1 = distance.euclidean(labD2_1,labB3_4)\n",
        "UD2B3_2 = distance.euclidean(labD2_2,labB3_3)\n",
        "UD2B4_1 = distance.euclidean(labD2_1,labB4_4)\n",
        "UD2B4_2 = distance.euclidean(labD2_2,labB4_3)\n",
        "UD2C1_1 = distance.euclidean(labD2_1,labC1_4)\n",
        "UD2C1_2 = distance.euclidean(labD2_2,labC1_3)\n",
        "UD2C2_1 = distance.euclidean(labD2_1,labC2_4)\n",
        "UD2C2_2 = distance.euclidean(labD2_2,labC2_3)\n",
        "UD2C3_1 = distance.euclidean(labD2_1,labC3_4)\n",
        "UD2C3_2 = distance.euclidean(labD2_2,labC3_3)\n",
        "UD2C4_1 = distance.euclidean(labD2_1,labC4_4)\n",
        "UD2C4_2 = distance.euclidean(labD2_2,labC4_3)\n",
        "UD2D2_1 = distance.euclidean(labD2_1,labD2_4)\n",
        "UD2D2_2 = distance.euclidean(labD2_2,labD2_3)\n",
        "UD2D3_1 = distance.euclidean(labD2_1,labD3_4)\n",
        "UD2D3_2 = distance.euclidean(labD2_2,labD3_3)\n",
        "UD2D4_1 = distance.euclidean(labD2_1,labD4_4)\n",
        "UD2D4_2 = distance.euclidean(labD2_2,labD4_3)"
      ],
      "execution_count": 362,
      "outputs": []
    },
    {
      "cell_type": "code",
      "metadata": {
        "id": "zXE0HzZhCxFq"
      },
      "source": [
        "UD2A1 = (UD2A1_1+UD2A1_2)/2\n",
        "UD2A2 = (UD2A2_1+UD2A2_2)/2\n",
        "UD2A3 = (UD2A3_1+UD2A3_2)/2\n",
        "UD2A3_5 = (UD2A3_51+UD2A3_52)/2\n",
        "UD2A4 = (UD2A4_1+UD2A4_2)/2\n",
        "UD2B1 = (UD2B1_1+UD2B1_2)/2\n",
        "UD2B2 = (UD2B2_1+UD2B2_2)/2\n",
        "UD2B3 = (UD2B3_1+UD2B3_2)/2\n",
        "UD2B4 = (UD2B4_1+UD2B4_2)/2\n",
        "UD2C1 = (UD2C1_1+UD2C1_2)/2\n",
        "UD2C2 = (UD2C2_1+UD2C2_2)/2\n",
        "UD2C3 = (UD2C3_1+UD2C3_2)/2\n",
        "UD2C4 = (UD2C4_1+UD2C4_2)/2\n",
        "UD2D2 = (UD2D2_1+UD2D2_2)/2\n",
        "UD2D3 = (UD2D3_1+UD2D3_2)/2\n",
        "UD2D4 = (UD2D4_1+UD2D4_2)/2"
      ],
      "execution_count": 363,
      "outputs": []
    },
    {
      "cell_type": "markdown",
      "metadata": {
        "id": "FH21pF-ue9ZD"
      },
      "source": [
        "D3"
      ]
    },
    {
      "cell_type": "code",
      "metadata": {
        "id": "mQT1Tre6e8pz"
      },
      "source": [
        "UD3A1_1 = distance.euclidean(labD3_1,labA1_3)\n",
        "UD3A1_2 = distance.euclidean(labD3_2,labA1_4)\n",
        "UD3A2_1 = distance.euclidean(labD3_1,labA2_3)\n",
        "UD3A2_2 = distance.euclidean(labD3_2,labA2_4)\n",
        "UD3A3_1 = distance.euclidean(labD3_1,labA3_3)\n",
        "UD3A3_2 = distance.euclidean(labD3_2,labA3_4)\n",
        "UD3A3_51 = distance.euclidean(labD3_1,labA3_503)\n",
        "UD3A3_52 = distance.euclidean(labD3_2,labA3_504)\n",
        "UD3A4_1 = distance.euclidean(labD3_1,labA4_3)\n",
        "UD3A4_2 = distance.euclidean(labD3_2,labA4_4)\n",
        "UD3B1_1 = distance.euclidean(labD3_1,labB1_3)\n",
        "UD3B1_2 = distance.euclidean(labD3_2,labB1_4)\n",
        "UD3B2_1 = distance.euclidean(labD3_1,labB2_3)\n",
        "UD3B2_2 = distance.euclidean(labD3_2,labB2_4)\n",
        "UD3B3_1 = distance.euclidean(labD3_1,labB3_3)\n",
        "UD3B3_2 = distance.euclidean(labD3_2,labB3_4)\n",
        "UD3B4_1 = distance.euclidean(labD3_1,labB4_3)\n",
        "UD3B4_2 = distance.euclidean(labD3_2,labB4_4)\n",
        "UD3C1_1 = distance.euclidean(labD3_1,labC1_3)\n",
        "UD3C1_2 = distance.euclidean(labD3_2,labC1_4)\n",
        "UD3C2_1 = distance.euclidean(labD3_1,labC2_3)\n",
        "UD3C2_2 = distance.euclidean(labD3_2,labC2_4)\n",
        "UD3C3_1 = distance.euclidean(labD3_1,labC3_3)\n",
        "UD3C3_2 = distance.euclidean(labD3_2,labC3_4)\n",
        "UD3C4_1 = distance.euclidean(labD3_1,labC4_3)\n",
        "UD3C4_2 = distance.euclidean(labD3_2,labC4_4)\n",
        "UD3D2_1 = distance.euclidean(labD3_1,labD2_3)\n",
        "UD3D2_2 = distance.euclidean(labD3_2,labD2_4)\n",
        "UD3D3_1 = distance.euclidean(labD3_1,labD3_3)\n",
        "UD3D3_2 = distance.euclidean(labD3_2,labD3_4)\n",
        "UD3D4_1 = distance.euclidean(labD3_1,labD4_3)\n",
        "UD3D4_2 = distance.euclidean(labD3_2,labD4_4)"
      ],
      "execution_count": 364,
      "outputs": []
    },
    {
      "cell_type": "code",
      "metadata": {
        "id": "GUNMWbVGDGQt"
      },
      "source": [
        "UD3A1 = (UD3A1_1+UD3A1_2)/2\n",
        "UD3A2 = (UD3A2_1+UD3A2_2)/2\n",
        "UD3A3 = (UD3A3_1+UD3A3_2)/2\n",
        "UD3A3_5 = (UD3A3_51+UD3A3_52)/2\n",
        "UD3A4 = (UD3A4_1+UD3A4_2)/2\n",
        "UD3B1 = (UD3B1_1+UD3B1_2)/2\n",
        "UD3B2 = (UD3B2_1+UD3B2_2)/2\n",
        "UD3B3 = (UD3B3_1+UD3B3_2)/2\n",
        "UD3B4 = (UD3B4_1+UD3B4_2)/2\n",
        "UD3C1 = (UD3C1_1+UD3C1_2)/2\n",
        "UD3C2 = (UD3C2_1+UD3C2_2)/2\n",
        "UD3C3 = (UD3C3_1+UD3C3_2)/2\n",
        "UD3C4 = (UD3C4_1+UD3C4_2)/2\n",
        "UD3D2 = (UD3D2_1+UD3D2_2)/2\n",
        "UD3D3 = (UD3D3_1+UD3D3_2)/2\n",
        "UD3D4 = (UD3D4_1+UD3D4_2)/2"
      ],
      "execution_count": 365,
      "outputs": []
    },
    {
      "cell_type": "markdown",
      "metadata": {
        "id": "VOBr4zvOgPvS"
      },
      "source": [
        "D4"
      ]
    },
    {
      "cell_type": "code",
      "metadata": {
        "id": "4MGLCxSXgQ7g"
      },
      "source": [
        "UD4A1_1 = distance.euclidean(labD4_2,labA1_4)\n",
        "UD4A1_2 = distance.euclidean(labD4_1,labA1_3)\n",
        "UD4A2_1 = distance.euclidean(labD4_2,labA2_4)\n",
        "UD4A2_2 = distance.euclidean(labD4_1,labA2_3)\n",
        "UD4A3_1 = distance.euclidean(labD4_2,labA3_4)\n",
        "UD4A3_2 = distance.euclidean(labD4_1,labA3_3)\n",
        "UD4A3_51 = distance.euclidean(labD4_2,labA3_504)\n",
        "UD4A3_52 = distance.euclidean(labD4_1,labA3_503)\n",
        "UD4A4_1 = distance.euclidean(labD4_2,labA4_4)\n",
        "UD4A4_2 = distance.euclidean(labD4_1,labA4_3)\n",
        "UD4B1_1 = distance.euclidean(labD4_2,labB1_4)\n",
        "UD4B1_2 = distance.euclidean(labD4_1,labB1_3)\n",
        "UD4B2_1 = distance.euclidean(labD4_2,labB2_4)\n",
        "UD4B2_2 = distance.euclidean(labD4_1,labB2_3)\n",
        "UD4B3_1 = distance.euclidean(labD4_2,labB3_4)\n",
        "UD4B3_2 = distance.euclidean(labD4_1,labB3_3)\n",
        "UD4B4_1 = distance.euclidean(labD4_2,labB4_4)\n",
        "UD4B4_2 = distance.euclidean(labD4_1,labB4_3)\n",
        "UD4C1_1 = distance.euclidean(labD4_2,labC1_4)\n",
        "UD4C1_2 = distance.euclidean(labD4_1,labC1_3)\n",
        "UD4C2_1 = distance.euclidean(labD4_2,labC2_4)\n",
        "UD4C2_2 = distance.euclidean(labD4_1,labC2_3)\n",
        "UD4C3_1 = distance.euclidean(labD4_2,labC3_4)\n",
        "UD4C3_2 = distance.euclidean(labD4_1,labC3_3)\n",
        "UD4C4_1 = distance.euclidean(labD4_2,labC4_4)\n",
        "UD4C4_2 = distance.euclidean(labD4_1,labC4_3)\n",
        "UD4D2_1 = distance.euclidean(labD4_2,labD2_4)\n",
        "UD4D2_2 = distance.euclidean(labD4_1,labD2_3)\n",
        "UD4D3_1 = distance.euclidean(labD4_2,labD3_4)\n",
        "UD4D3_2 = distance.euclidean(labD4_1,labD3_3)\n",
        "UD4D4_1 = distance.euclidean(labD4_2,labD4_4)\n",
        "UD4D4_2 = distance.euclidean(labD4_1,labD4_3)"
      ],
      "execution_count": 366,
      "outputs": []
    },
    {
      "cell_type": "code",
      "metadata": {
        "id": "w4PC0cHHDabX"
      },
      "source": [
        "UD4A1 = (UD4A1_1+UD4A1_2)/2\n",
        "UD4A2 = (UD4A2_1+UD4A2_2)/2\n",
        "UD4A3 = (UD4A3_1+UD4A3_2)/2\n",
        "UD4A3_5 = (UD4A3_51+UD4A3_52)/2\n",
        "UD4A4 = (UD4A4_1+UD4A4_2)/2\n",
        "UD4B1 = (UD4B1_1+UD4B1_2)/2\n",
        "UD4B2 = (UD4B2_1+UD4B2_2)/2\n",
        "UD4B3 = (UD4B3_1+UD4B3_2)/2\n",
        "UD4B4 = (UD4B4_1+UD4B4_2)/2\n",
        "UD4C1 = (UD4C1_1+UD4C1_2)/2\n",
        "UD4C2 = (UD4C2_1+UD4C2_2)/2\n",
        "UD4C3 = (UD4C3_1+UD4C3_2)/2\n",
        "UD4C4 = (UD4C4_1+UD4C4_2)/2\n",
        "UD4D2 = (UD4D2_1+UD4D2_2)/2\n",
        "UD4D3 = (UD4D3_1+UD4D3_2)/2\n",
        "UD4D4 = (UD4D4_1+UD4D4_2)/2"
      ],
      "execution_count": 367,
      "outputs": []
    },
    {
      "cell_type": "markdown",
      "metadata": {
        "id": "Yn7JfDL93Two"
      },
      "source": [
        "#สร้างตาราง Set 2 * Set 2"
      ]
    },
    {
      "cell_type": "code",
      "metadata": {
        "id": "EUa2mp351eJZ",
        "colab": {
          "base_uri": "https://localhost:8080/"
        },
        "outputId": "cf388ebd-c589-40e2-f307-516b9e64865b"
      },
      "source": [
        "pip install tabulate"
      ],
      "execution_count": 368,
      "outputs": [
        {
          "output_type": "stream",
          "name": "stdout",
          "text": [
            "Requirement already satisfied: tabulate in /usr/local/lib/python3.7/dist-packages (0.8.9)\n"
          ]
        }
      ]
    },
    {
      "cell_type": "code",
      "metadata": {
        "id": "LLkOT09j1egf"
      },
      "source": [
        "from tabulate import tabulate"
      ],
      "execution_count": 369,
      "outputs": []
    },
    {
      "cell_type": "code",
      "metadata": {
        "id": "jSJ4C9e61YMa"
      },
      "source": [
        "info = {'Shade Guide': ['A1', 'A2', 'A3', 'A3.5', 'A4', 'B1', 'B2', 'B3', 'B4', 'C1', 'C2', 'C3', 'C4', 'D2', 'D3', 'D4']\n",
        "        ,'A1': [UA1A1,UA1A2,UA1A3,UA1A3_5,UA1A4,UA1B1,UA1B2,UA1B3,UA1B4,UA1C1,UA1C2,UA1C3,UA1C4,UA1D2,UA1D3,UA1D4]\n",
        "        ,'A2': [UA2A1,UA2A2,UA2A3,UA2A3_5,UA2A4,UA2B1,UA2B2,UA2B3,UA2B4,UA2C1,UA2C2,UA2C3,UA2C4,UA2D2,UA2D3,UA2D4]\n",
        "        ,'A3': [UA3A1,UA3A2,UA3A3,UA3A3_5,UA3A4,UA3B1,UA3B2,UA3B3,UA3B4,UA3C1,UA3C2,UA3C3,UA3C4,UA3D2,UA3D3,UA3D4]\n",
        "        ,'A3.5': [UA3_5A1,UA3_5A2,UA3_5A3,UA3_5A3_5,UA3_5A4,UA3_5B1,UA3_5B2,UA3_5B3,UA3_5B4,UA3_5C1,UA3_5C2,UA3_5C3,UA3_5C4,UA3_5D2,UA3_5D3,UA3_5D4]\n",
        "        ,'A4': [UA4A1,UA4A2,UA4A3,UA4A3_5,UA4A4,UA4B1,UA4B2,UA4B3,UA4B4,UA4C1,UA4C2,UA4C3,UA4C4,UA4D2,UA4D3,UA4D4]\n",
        "        ,'B1': [UB1A1,UB1A2,UB1A3,UB1A3_5,UB1A4,UB1B1,UB1B2,UB1B3,UB1B4,UB1C1,UB1C2,UB1C3,UB1C4,UB1D2,UB1D3,UB1D4]\n",
        "        ,'B2': [UB2A1,UB2A2,UB2A3,UB2A3_5,UB2A4,UB2B1,UB2B2,UB2B3,UB2B4,UB2C1,UB2C2,UB2C3,UB2C4,UB2D2,UB2D3,UB2D4]\n",
        "        ,'B3': [UB3A1,UB3A2,UB3A3,UB3A3_5,UB3A4,UB3B1,UB3B2,UB3B3,UB3B4,UB3C1,UB3C2,UB3C3,UB3C4,UB3D2,UB3D3,UB3D4]\n",
        "        ,'B4': [UB4A1,UB4A2,UB4A3,UB4A3_5,UB4A4,UB4B1,UB4B2,UB4B3,UB4B4,UB4C1,UB4C2,UB4C3,UB4C4,UB4D2,UB4D3,UB4D4]\n",
        "        ,'C1': [UC1A1,UC1A2,UC1A3,UC1A3_5,UC1A4,UC1B1,UC1B2,UC1B3,UC1B4,UC1C1,UC1C2,UC1C3,UC1C4,UC1D2,UC1D3,UC1D4]\n",
        "        ,'C2': [UC2A1,UC2A2,UC2A3,UC2A3_5,UC2A4,UC2B1,UC2B2,UC2B3,UC2B4,UC2C1,UC2C2,UC2C3,UC2C4,UC2D2,UC2D3,UC2D4]\n",
        "        ,'C3': [UC3A1,UC3A2,UC3A3,UC3A3_5,UC3A4,UC3B1,UC3B2,UC3B3,UC3B4,UC3C1,UC3C2,UC3C3,UC3C4,UC3D2,UC3D3,UC3D4]\n",
        "        ,'C4': [UC4A1,UC4A2,UC4A3,UC4A3_5,UC4A4,UC4B1,UC4B2,UC4B3,UC4B4,UC4C1,UC4C2,UC4C3,UC4C4,UC4D2,UC4D3,UC4D4]\n",
        "        ,'D2': [UD2A1,UD2A2,UD2A3,UD2A3_5,UD2A4,UD2B1,UD2B2,UD2B3,UD2B4,UD2C1,UD2C2,UD2C3,UD2C4,UD2D2,UD2D3,UD2D4]\n",
        "        ,'D3': [UD3A1,UD3A2,UD3A3,UD3A3_5,UD3A4,UD3B1,UD3B2,UD3B3,UD3B4,UD3C1,UD3C2,UD3C3,UD3C4,UD3D2,UD3D3,UD3D4]\n",
        "        ,'D4': [UD4A1,UD4A2,UD4A3,UD4A3_5,UD4A4,UD4B1,UD4B2,UD4B3,UD4B4,UD4C1,UD4C2,UD4C3,UD4C4,UD4D2,UD4D3,UD4D4] }"
      ],
      "execution_count": 370,
      "outputs": []
    },
    {
      "cell_type": "code",
      "metadata": {
        "id": "RrQzU6uw3h9h",
        "colab": {
          "base_uri": "https://localhost:8080/"
        },
        "outputId": "ca969b8d-1e97-4cea-b817-f5373fc1b162"
      },
      "source": [
        "print(tabulate(info, headers='keys', tablefmt='fancy_grid'))"
      ],
      "execution_count": 371,
      "outputs": [
        {
          "output_type": "stream",
          "name": "stdout",
          "text": [
            "╒═══════════════╤═════════╤═════════╤══════════╤══════════╤══════════╤═════════╤═════════╤═════════╤══════════╤═════════╤══════════╤══════════╤══════════╤═════════╤═════════╤══════════╕\n",
            "│ Shade Guide   │      A1 │      A2 │       A3 │     A3.5 │       A4 │      B1 │      B2 │      B3 │       B4 │      C1 │       C2 │       C3 │       C4 │      D2 │      D3 │       D4 │\n",
            "╞═══════════════╪═════════╪═════════╪══════════╪══════════╪══════════╪═════════╪═════════╪═════════╪══════════╪═════════╪══════════╪══════════╪══════════╪═════════╪═════════╪══════════╡\n",
            "│ A1            │ 21.7321 │ 19.5379 │ 19.5379  │  5.2218  │  3.21346 │ 22.3049 │ 20.6494 │ 15.4077 │  9.27671 │ 21.3514 │ 13.6033  │  9.02555 │  5.98417 │ 22.6461 │ 20.8423 │ 11.8074  │\n",
            "├───────────────┼─────────┼─────────┼──────────┼──────────┼──────────┼─────────┼─────────┼─────────┼──────────┼─────────┼──────────┼──────────┼──────────┼─────────┼─────────┼──────────┤\n",
            "│ A2            │ 40.9466 │ 41.2786 │ 38.0026  │ 31.6679  │ 25.6203  │ 42.2969 │ 42.7139 │ 39.1246 │ 34.5392  │ 42.6115 │ 35.7513  │ 34.3441  │ 32.7326  │ 45.4449 │ 43.8603 │ 37.7865  │\n",
            "├───────────────┼─────────┼─────────┼──────────┼──────────┼──────────┼─────────┼─────────┼─────────┼──────────┼─────────┼──────────┼──────────┼──────────┼─────────┼─────────┼──────────┤\n",
            "│ A3            │ 43.432  │ 41.9315 │ 36.7942  │ 33.6249  │ 30.1647  │ 44.0368 │ 42.5332 │ 39.9147 │ 35.6178  │ 42.3274 │ 35.8231  │ 34.442   │ 31.6055  │ 44.6983 │ 43.2768 │ 36.2326  │\n",
            "├───────────────┼─────────┼─────────┼──────────┼──────────┼──────────┼─────────┼─────────┼─────────┼──────────┼─────────┼──────────┼──────────┼──────────┼─────────┼─────────┼──────────┤\n",
            "│ A3.5          │ 32.8489 │ 30.5769 │ 22.992   │ 14.8025  │ 11.42    │ 33.4135 │ 31.5968 │ 26.2364 │ 19.8008  │ 32.4625 │ 28.9071  │ 19.7284  │ 15.2888  │ 33.4202 │ 31.6054 │ 21.7012  │\n",
            "├───────────────┼─────────┼─────────┼──────────┼──────────┼──────────┼─────────┼─────────┼─────────┼──────────┼─────────┼──────────┼──────────┼──────────┼─────────┼─────────┼──────────┤\n",
            "│ A4            │ 43.3059 │ 42.7162 │ 37.6979  │ 30.2667  │ 24.2216  │ 44.453  │ 44.1015 │ 39.6618 │ 34.1367  │ 44.2496 │ 36.6802  │ 33.9423  │ 31.1112  │ 46.5857 │ 44.8498 │ 37.0897  │\n",
            "├───────────────┼─────────┼─────────┼──────────┼──────────┼──────────┼─────────┼─────────┼─────────┼──────────┼─────────┼──────────┼──────────┼──────────┼─────────┼─────────┼──────────┤\n",
            "│ B1            │ 15.9987 │ 13.7941 │  8.06625 │  8.69358 │  8.98859 │ 13.8671 │ 14.9705 │ 10.2252 │  7.42112 │ 14.9055 │  7.17656 │  5.7104  │  7.14352 │ 16.8871 │ 15.2107 │  7.77643 │\n",
            "├───────────────┼─────────┼─────────┼──────────┼──────────┼──────────┼─────────┼─────────┼─────────┼──────────┼─────────┼──────────┼──────────┼──────────┼─────────┼─────────┼──────────┤\n",
            "│ B2            │ 23.2776 │ 21.9526 │ 16.075   │ 12.2567  │ 14.1686  │ 23.9643 │ 22.8017 │ 18.4644 │ 12.6722  │ 24.2344 │ 18.4368  │ 13.3885  │ 14.291   │ 25.0614 │ 23.4569 │ 15.4241  │\n",
            "├───────────────┼─────────┼─────────┼──────────┼──────────┼──────────┼─────────┼─────────┼─────────┼──────────┼─────────┼──────────┼──────────┼──────────┼─────────┼─────────┼──────────┤\n",
            "│ B3            │ 33.1036 │ 32.0079 │ 26.3263  │ 18.6564  │ 12.585   │ 34.0643 │ 33.2791 │ 28.5859 │ 22.735   │ 33.6441 │ 25.785   │ 22.5602  │ 19.479   │ 35.6732 │ 33.918  │ 25.5545  │\n",
            "├───────────────┼─────────┼─────────┼──────────┼──────────┼──────────┼─────────┼─────────┼─────────┼──────────┼─────────┼──────────┼──────────┼──────────┼─────────┼─────────┼──────────┤\n",
            "│ B4            │ 38.5823 │ 37.6666 │ 32.116   │ 24.4135  │ 18.3275  │ 39.6038 │ 38.9569 │ 34.3397 │ 28.5246  │ 39.2732 │ 31.4605  │ 28.3473  │ 25.184   │ 41.3935 │ 39.646  │ 31.3322  │\n",
            "├───────────────┼─────────┼─────────┼──────────┼──────────┼──────────┼─────────┼─────────┼─────────┼──────────┼─────────┼──────────┼──────────┼──────────┼─────────┼─────────┼──────────┤\n",
            "│ C1            │ 25.757  │ 26.4054 │ 24.4495  │ 19.9784  │ 15.072   │ 27.0835 │ 27.7529 │ 24.8558 │ 21.32    │ 27.6056 │ 21.2161  │ 21.1388  │ 21.103   │ 30.6074 │ 29.1859 │ 24.5567  │\n",
            "├───────────────┼─────────┼─────────┼──────────┼──────────┼──────────┼─────────┼─────────┼─────────┼──────────┼─────────┼──────────┼──────────┼──────────┼─────────┼─────────┼──────────┤\n",
            "│ C2            │ 36.2407 │ 36.6792 │ 33.7633  │ 27.8377  │ 21.8516  │ 37.5662 │ 38.0711 │ 34.7138 │ 30.2975  │ 37.9013 │ 31.1666  │ 30.1484  │ 28.8648  │ 40.8487 │ 39.2884 │ 33.5867  │\n",
            "├───────────────┼─────────┼─────────┼──────────┼──────────┼──────────┼─────────┼─────────┼─────────┼──────────┼─────────┼──────────┼──────────┼──────────┼─────────┼─────────┼──────────┤\n",
            "│ C3            │ 53.5291 │ 54.5913 │ 52.4457  │ 46.6245  │ 40.5736  │ 54.9764 │ 55.988  │ 53.1169 │ 49.046   │ 55.6605 │ 49.5188  │ 48.8924  │ 47.6564  │ 58.8352 │ 57.3775 │ 52.3389  │\n",
            "├───────────────┼─────────┼─────────┼──────────┼──────────┼──────────┼─────────┼─────────┼─────────┼──────────┼─────────┼──────────┼──────────┼──────────┼─────────┼─────────┼──────────┤\n",
            "│ C4            │ 62.8611 │ 64.1225 │ 62.2328  │ 56.4567  │ 50.4178  │ 64.3487 │ 65.5239 │ 62.8052 │ 58.874   │ 65.1635 │ 59.2161  │ 58.7069  │ 57.5134  │ 68.3856 │ 66.9857 │ 62.1628  │\n",
            "├───────────────┼─────────┼─────────┼──────────┼──────────┼──────────┼─────────┼─────────┼─────────┼──────────┼─────────┼──────────┼──────────┼──────────┼─────────┼─────────┼──────────┤\n",
            "│ D2            │ 17.8828 │ 17.9683 │ 15.9496  │ 12.9376  │ 10.1923  │ 19.1212 │ 19.3923 │ 16.1703 │ 13.0978  │ 19.3308 │ 12.682   │ 12.8639  │ 14.0817  │ 22.1495 │ 20.622  │ 16.3765  │\n",
            "├───────────────┼─────────┼─────────┼──────────┼──────────┼──────────┼─────────┼─────────┼─────────┼──────────┼─────────┼──────────┼──────────┼──────────┼─────────┼─────────┼──────────┤\n",
            "│ D3            │ 25.7795 │ 25.1016 │ 20.6535  │ 14.251   │  8.43959 │ 26.8485 │ 26.4592 │ 22.2204 │ 17.1006  │ 26.612  │ 19.0397  │ 16.921   │ 15.3264  │ 29.0082 │ 27.3057 │ 20.3249  │\n",
            "├───────────────┼─────────┼─────────┼──────────┼──────────┼──────────┼─────────┼─────────┼─────────┼──────────┼─────────┼──────────┼──────────┼──────────┼─────────┼─────────┼──────────┤\n",
            "│ D4            │ 31.9455 │ 31.2353 │ 26.306   │ 19.149   │ 12.908   │ 33.0074 │ 32.5542 │ 28.1847 │ 22.6959  │ 32.7756 │ 25.089   │ 22.5222  │ 20.0548  │ 35.0827 │ 33.3719 │ 25.7274  │\n",
            "╘═══════════════╧═════════╧═════════╧══════════╧══════════╧══════════╧═════════╧═════════╧═════════╧══════════╧═════════╧══════════╧══════════╧══════════╧═════════╧═════════╧══════════╛\n"
          ]
        }
      ]
    }
  ]
}