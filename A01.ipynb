{
  "nbformat": 4,
  "nbformat_minor": 0,
  "metadata": {
    "colab": {
      "name": " A01.ipynb",
      "provenance": [],
      "include_colab_link": true
    },
    "kernelspec": {
      "name": "python3",
      "display_name": "Python 3"
    },
    "language_info": {
      "name": "python"
    }
  },
  "cells": [
    {
      "cell_type": "markdown",
      "metadata": {
        "id": "view-in-github",
        "colab_type": "text"
      },
      "source": [
        "<a href=\"https://colab.research.google.com/github/waraporn19/Project_2021_matchingcolor/blob/main/A01.ipynb\" target=\"_parent\"><img src=\"https://colab.research.google.com/assets/colab-badge.svg\" alt=\"Open In Colab\"/></a>"
      ]
    },
    {
      "cell_type": "code",
      "metadata": {
        "id": "drOKqbUE2PnQ"
      },
      "source": [
        "import pandas as pd"
      ],
      "execution_count": null,
      "outputs": []
    },
    {
      "cell_type": "code",
      "metadata": {
        "id": "O7x0j_3c2Pjr",
        "colab": {
          "base_uri": "https://localhost:8080/"
        },
        "outputId": "22971591-e61f-4651-e896-d7fd823dc1a7"
      },
      "source": [
        "from google.colab import drive \n",
        "drive.mount('/content/drive')"
      ],
      "execution_count": null,
      "outputs": [
        {
          "output_type": "stream",
          "name": "stdout",
          "text": [
            "Mounted at /content/drive\n"
          ]
        }
      ]
    },
    {
      "cell_type": "code",
      "metadata": {
        "id": "lsGPiAcg2Pa7"
      },
      "source": [
        "import os"
      ],
      "execution_count": null,
      "outputs": []
    },
    {
      "cell_type": "code",
      "metadata": {
        "id": "xGv3Ax6o251w"
      },
      "source": [
        "path = '/content/drive/My Drive/shadeimg'"
      ],
      "execution_count": null,
      "outputs": []
    },
    {
      "cell_type": "code",
      "metadata": {
        "id": "DK3-qllN3Huu",
        "colab": {
          "base_uri": "https://localhost:8080/"
        },
        "outputId": "e7dc93c5-c2a3-4bf9-b2a6-390b2b2ea733"
      },
      "source": [
        "os.listdir(path)"
      ],
      "execution_count": null,
      "outputs": [
        {
          "output_type": "execute_result",
          "data": {
            "text/plain": [
              "['9-10 7 2021',\n",
              " 'รูปฟัน07',\n",
              " '11 7 2021',\n",
              " 'ฟันสักอย่างจำวันไม่ได้',\n",
              " '1 teeth .gsheet',\n",
              " '16 8 2021',\n",
              " '17 8 2021',\n",
              " '1 teeth .xlsx',\n",
              " '2 teeth .xlsx',\n",
              " '2 teeth.gsheet']"
            ]
          },
          "metadata": {},
          "execution_count": 5
        }
      ]
    },
    {
      "cell_type": "code",
      "metadata": {
        "id": "qnyateeBbpSP",
        "colab": {
          "base_uri": "https://localhost:8080/"
        },
        "outputId": "44430e5a-2bee-4a58-b799-99035a0c2fbc"
      },
      "source": [
        "!pip install azure-storage-blob==2.1.0"
      ],
      "execution_count": null,
      "outputs": [
        {
          "output_type": "stream",
          "name": "stdout",
          "text": [
            "Collecting azure-storage-blob==2.1.0\n",
            "  Downloading azure_storage_blob-2.1.0-py2.py3-none-any.whl (88 kB)\n",
            "\u001b[K     |████████████████████████████████| 88 kB 924 kB/s \n",
            "\u001b[?25hCollecting azure-common>=1.1.5\n",
            "  Downloading azure_common-1.1.27-py2.py3-none-any.whl (12 kB)\n",
            "Collecting azure-storage-common~=2.1\n",
            "  Downloading azure_storage_common-2.1.0-py2.py3-none-any.whl (47 kB)\n",
            "\u001b[K     |████████████████████████████████| 47 kB 2.4 MB/s \n",
            "\u001b[?25hCollecting cryptography\n",
            "  Downloading cryptography-36.0.0-cp36-abi3-manylinux_2_24_x86_64.whl (3.6 MB)\n",
            "\u001b[K     |████████████████████████████████| 3.6 MB 1.7 MB/s \n",
            "\u001b[?25hRequirement already satisfied: python-dateutil in /usr/local/lib/python3.7/dist-packages (from azure-storage-common~=2.1->azure-storage-blob==2.1.0) (2.8.2)\n",
            "Requirement already satisfied: requests in /usr/local/lib/python3.7/dist-packages (from azure-storage-common~=2.1->azure-storage-blob==2.1.0) (2.23.0)\n",
            "Requirement already satisfied: cffi>=1.12 in /usr/local/lib/python3.7/dist-packages (from cryptography->azure-storage-common~=2.1->azure-storage-blob==2.1.0) (1.15.0)\n",
            "Requirement already satisfied: pycparser in /usr/local/lib/python3.7/dist-packages (from cffi>=1.12->cryptography->azure-storage-common~=2.1->azure-storage-blob==2.1.0) (2.21)\n",
            "Requirement already satisfied: six>=1.5 in /usr/local/lib/python3.7/dist-packages (from python-dateutil->azure-storage-common~=2.1->azure-storage-blob==2.1.0) (1.15.0)\n",
            "Requirement already satisfied: certifi>=2017.4.17 in /usr/local/lib/python3.7/dist-packages (from requests->azure-storage-common~=2.1->azure-storage-blob==2.1.0) (2021.10.8)\n",
            "Requirement already satisfied: idna<3,>=2.5 in /usr/local/lib/python3.7/dist-packages (from requests->azure-storage-common~=2.1->azure-storage-blob==2.1.0) (2.10)\n",
            "Requirement already satisfied: urllib3!=1.25.0,!=1.25.1,<1.26,>=1.21.1 in /usr/local/lib/python3.7/dist-packages (from requests->azure-storage-common~=2.1->azure-storage-blob==2.1.0) (1.24.3)\n",
            "Requirement already satisfied: chardet<4,>=3.0.2 in /usr/local/lib/python3.7/dist-packages (from requests->azure-storage-common~=2.1->azure-storage-blob==2.1.0) (3.0.4)\n",
            "Installing collected packages: cryptography, azure-common, azure-storage-common, azure-storage-blob\n",
            "Successfully installed azure-common-1.1.27 azure-storage-blob-2.1.0 azure-storage-common-2.1.0 cryptography-36.0.0\n"
          ]
        }
      ]
    },
    {
      "cell_type": "code",
      "metadata": {
        "id": "uZRZcO80cxBH"
      },
      "source": [
        "from azure.storage.blob import BlockBlobService\n",
        "import os"
      ],
      "execution_count": null,
      "outputs": []
    },
    {
      "cell_type": "code",
      "metadata": {
        "id": "tJVMV5DMcyJT"
      },
      "source": [
        "blob_service_client = BlockBlobService(account_name='dent01', account_key='CuShY0B4TZJ84TjzPpaHxyrHOpO73aGXeCpdVq7x26OjIlQ1HOz+3DVc9pDEj9BdcEL8odFuTRF0mOAE+aCgiw==')"
      ],
      "execution_count": null,
      "outputs": []
    },
    {
      "cell_type": "markdown",
      "metadata": {
        "id": "nNqTWrPIc2qX"
      },
      "source": [
        "#1.สร้างตัวแปรเฉดไกด์"
      ]
    },
    {
      "cell_type": "markdown",
      "metadata": {
        "id": "Gx-nvNvXdCDu"
      },
      "source": [
        "##Set1"
      ]
    },
    {
      "cell_type": "code",
      "metadata": {
        "id": "PvY9HB-hc96t"
      },
      "source": [
        "S1_doubleA1A1_1 = '219558E6-E67A-4672-9E46-3D084D0D2032.png'\n",
        "S1_doubleA1A2_1 = '6D94544D-442A-4CFB-811D-FE7DC11D2ED2.png'\n",
        "S1_doubleA1A3_1 = '7BF85808-DA35-4E17-B217-3872CF481063.png'\n",
        "S1_doubleA1A3_51 = 'F8F3A06B-FA35-4279-8C60-CA55360B7179.png'\n",
        "S1_doubleA1A4_1 = 'B7D67D95-6E1E-4FDB-9C86-BEC2876991A4.png'\n",
        "S1_doubleA1B1_1 ='BD55E510-FC24-46F8-9057-F0FB833D77B3.png'\n",
        "S1_doubleA1B2_1 = 'E74FAFC2-2346-41FE-86DC-74BA55784D10.png'\n",
        "S1_doubleA1B3_1 ='98C5F545-74F1-4F79-9459-B78CD7323409.png'\n",
        "S1_doubleA1B4_1 ='3F9C3FA1-74A0-4E1C-86C6-4A6ABCBF61E0.png'\n",
        "S1_doubleA1C1_1 ='3F9C3FA1-74A0-4E1C-86C6-4A6ABCBF61E0.png'\n",
        "S1_doubleA1C2_1 ='A9BD406D-9241-4529-8915-ACD914DE2114.png'\n",
        "S1_doubleA1C3_1 ='3E2D92F5-C039-4375-8801-7177CE0C110B.png'\n",
        "S1_doubleA1C4_1 ='A601DEF5-8194-4546-BAA2-E3CF2BC491A7.png'\n",
        "S1_doubleA1D2_1 = '0CFB37BF-7362-44C7-8A5C-636AA66DADF1.png'\n",
        "S1_doubleA1D3_1 ='276C4D35-B17B-4238-B730-5667F7993357.png'\n",
        "S1_doubleA1D4_1 = '14BF11D2-5597-4D76-982D-6D73CA85D29C.png'"
      ],
      "execution_count": null,
      "outputs": []
    },
    {
      "cell_type": "code",
      "metadata": {
        "id": "6ZVJz-4f2UeX"
      },
      "source": [
        "S1_doubleA1A1_2 = 'C88EF40F-E3F2-462F-9F7F-F2BACB0E4704.png'\n",
        "S1_doubleA1A2_2 = 'DDC4DC8E-B6F3-4C8E-B168-D77C99A200B0.png'\n",
        "S1_doubleA1A3_2  = 'D82BB03D-596F-4490-A11A-78CC339EF07E.png'\n",
        "S1_doubleA1A3_52  = '01115472-EC3A-48C7-B1FB-263259578BD7.png'\n",
        "S1_doubleA1A4_2  = 'A7B00E08-3ED6-4D0D-A76A-59936068AD40.png'\n",
        "S1_doubleA1B1_2  = '7EE62CC1-C35A-4BD5-8B99-7A02F504FB92.png'\n",
        "S1_doubleA1B2_2  = 'BEE4A20C-2B3A-4083-964D-EB3923B388F9.png'\n",
        "S1_doubleA1B3_2  ='BF7F9C19-2AB0-4C4B-BBF5-EF32E953C0B7.png'\n",
        "S1_doubleA1B4_2  = 'AAF41B6A-64A6-4300-9FE7-3E9652AA67F2.png'\n",
        "S1_doubleA1C1_2  ='EBA0C742-6F93-40D7-BBDC-FDA0F7717CF5.png'\n",
        "S1_doubleA1C2_2  ='EBA0C742-6F93-40D7-BBDC-FDA0F7717CF5.png'\n",
        "S1_doubleA1C3_2  ='041A2217-2C1E-4183-940C-81AF1B7ADCEB.png'\n",
        "S1_doubleA1C4_2  ='F228CEDF-9850-4974-955D-6A187146338E.png'\n",
        "S1_doubleA1D2_2  = '59AD9845-D209-4929-8E83-5C3FCBD50C90.png'\n",
        "S1_doubleA1D3_2  ='59AD9845-D209-4929-8E83-5C3FCBD50C90.png'\n",
        "S1_doubleA1D4_2  = '630B56EB-1A02-4C39-8E72-401279881303.png'"
      ],
      "execution_count": null,
      "outputs": []
    },
    {
      "cell_type": "code",
      "metadata": {
        "id": "BYPZYpEg2UpJ"
      },
      "source": [
        "S1_doubleA1A1_3 = '9664FAC5-C093-4C4E-9906-23DCC933C2BC.png'\n",
        "S1_doubleA1A2_3 = '9C42EB3E-DDE7-43A2-91AE-4DCE60FCDAA9.png'\n",
        "S1_doubleA1A3_3 = '0E935DDC-4F2E-44CA-8761-D9EEF48FA184.png'\n",
        "S1_doubleA1A3_53 = '6503F4C5-1138-4796-972C-5FF66EFD389B.png'\n",
        "S1_doubleA1A4_3= '7BDDACC1-D18B-459A-BEE5-E1ECAF9BF9C2.png'\n",
        "S1_doubleA1B1_3 ='82C9B7F8-9A33-48DF-B722-CD2CCE4DFDA4.png'\n",
        "S1_doubleA1B2_3 = '5E756B9E-5B8B-4003-A2CC-32D244523EF5.png'\n",
        "S1_doubleA1B3_3 ='0E6A8167-3381-4891-99D4-84EAAC995D0B.png'\n",
        "S1_doubleA1B4_3 = '2D83B79D-5337-4378-832C-371721F97678.png'\n",
        "S1_doubleA1C1_3 = '91D7D709-F23E-4AE3-A0A2-A445F61D67EB.png'\n",
        "S1_doubleA1C2_3 ='781F2ECD-93CA-4AF4-9D79-49910BB1E07A.png'\n",
        "S1_doubleA1C3_3 ='B6050550-B56E-4148-BF1E-CE9492B5334F.png'\n",
        "S1_doubleA1C4_3 ='1A7C4C1D-67A6-4724-98D9-FFAFEED41437.png'\n",
        "S1_doubleA1D2_3 = '75EABE86-EA46-42BC-88A7-90FF6F904B23.png'\n",
        "S1_doubleA1D3_3 ='6E56B8EF-2517-4195-B91A-E5EFA20E81A0.png'\n",
        "S1_doubleA1D4_3 = '839EA3F3-4256-44C3-9E4C-70E87B10CB38.png'"
      ],
      "execution_count": null,
      "outputs": []
    },
    {
      "cell_type": "code",
      "metadata": {
        "id": "uDZ9Na7R2Ux6"
      },
      "source": [
        "S1_doubleA1A1_4 = '07D1EFD7-B26D-41DE-AFC4-C1BACE8867A4.png'\n",
        "S1_doubleA1A2_4 = '6305881D-3DFD-4ECE-BD1D-C5376038CD26.png'\n",
        "S1_doubleA1A3_4 = 'B71E2B77-0A51-4D5C-A7CC-889C3295D37C.png'\n",
        "S1_doubleA1A3_54 = '7F841DFC-287B-41C2-A4F5-49FA7331CBB0.png'\n",
        "S1_doubleA1A4_4 = 'CEB5576D-ACE1-42A4-9540-B3F4FB29B6DA.png'\n",
        "S1_doubleA1B1_4 ='07D1EFD7-B26D-41DE-AFC4-C1BACE8867A4.png'\n",
        "S1_doubleA1B2_4 = '9AF472D2-DD0D-4A58-8DEE-747C9F852CAD.png'\n",
        "S1_doubleA1B3_4 ='A31E86AB-D56C-47DA-A0A9-6715963F7A75.png'\n",
        "S1_doubleA1B4_4 ='0DEED793-CF17-4B1A-A942-70848FF5C047.png'\n",
        "S1_doubleA1C1_4 ='522CA5D0-1167-4A5B-A005-40F3DF60600F.png'\n",
        "S1_doubleA1C2_4 ='11FC10FE-24D7-4815-8F28-FDA778DDBCC8.png'\n",
        "S1_doubleA1C3_4 ='13F7D5C3-201D-4CB7-B3D8-718B60A8D012.png'\n",
        "S1_doubleA1C4_4 ='0AB9EBD7-AEA7-4CC5-A604-30C0B2695D39.png'\n",
        "S1_doubleA1B4_4 ='71185777-D048-455E-980E-311833CF5A88.png'\n",
        "S1_doubleA1C1_4 ='71185777-D048-455E-980E-311833CF5A88.png'\n",
        "S1_doubleA1C2_4 ='0AB9EBD7-AEA7-4CC5-A604-30C0B2695D39.png'\n",
        "S1_doubleA1C3_4 ='0AB9EBD7-AEA7-4CC5-A604-30C0B2695D39.png'\n",
        "S1_doubleA1C4_4 ='07D1EFD7-B26D-41DE-AFC4-C1BACE8867A4.png'\n",
        "S1_doubleA1D2_4 = '07D1EFD7-B26D-41DE-AFC4-C1BACE8867A4.png'\n",
        "S1_doubleA1D3_4 ='07D1EFD7-B26D-41DE-AFC4-C1BACE8867A4.png'\n",
        "S1_doubleA1D4_4 = '07D1EFD7-B26D-41DE-AFC4-C1BACE8867A4.png'"
      ],
      "execution_count": null,
      "outputs": []
    },
    {
      "cell_type": "code",
      "metadata": {
        "id": "aN9sMdoP2U2h"
      },
      "source": [
        "S1_doubleA1A1_5 =  '07D1EFD7-B26D-41DE-AFC4-C1BACE8867A4.png'\n",
        "S1_doubleA1A2_5 = '839EA3F3-4256-44C3-9E4C-70E87B10CB38.png'\n",
        "S1_doubleA1A3_5 =  '75EABE86-EA46-42BC-88A7-90FF6F904B23.png'\n",
        "S1_doubleA1A3_55 = '07D1EFD7-B26D-41DE-AFC4-C1BACE8867A4.png'\n",
        "S1_doubleA1A4_5 = '07D1EFD7-B26D-41DE-AFC4-C1BACE8867A4.png'\n",
        "S1_doubleA1B1_5 ='7F841DFC-287B-41C2-A4F5-49FA7331CBB0.png'\n",
        "S1_doubleA1B2_5 = '6305881D-3DFD-4ECE-BD1D-C5376038CD26.png'\n",
        "S1_doubleA1B3_5 = '9664FAC5-C093-4C4E-9906-23DCC933C2BC.png'\n",
        "S1_doubleA1B4_5 = '9664FAC5-C093-4C4E-9906-23DCC933C2BC.png'\n",
        "S1_doubleA1C1_5 ='7F841DFC-287B-41C2-A4F5-49FA7331CBB0.png'\n",
        "S1_doubleA1C2_5 ='6305881D-3DFD-4ECE-BD1D-C5376038CD26.png'\n",
        "S1_doubleA1C3_5 ='6305881D-3DFD-4ECE-BD1D-C5376038CD26.png'\n",
        "S1_doubleA1C4_5 = '9664FAC5-C093-4C4E-9906-23DCC933C2BC.png'\n",
        "S1_doubleA1D2_5 = '6305881D-3DFD-4ECE-BD1D-C5376038CD26.png'\n",
        "S1_doubleA1D3_5 ='6305881D-3DFD-4ECE-BD1D-C5376038CD26.png'\n",
        "S1_doubleA1D4_5 = '7F841DFC-287B-41C2-A4F5-49FA7331CBB0.png'"
      ],
      "execution_count": null,
      "outputs": []
    },
    {
      "cell_type": "code",
      "metadata": {
        "id": "73Qdt0Ep2U6S"
      },
      "source": [
        "S1_doubleA1A1_6 =  '9664FAC5-C093-4C4E-9906-23DCC933C2BC.png'\n",
        "S1_doubleA1A2_6 = 'A601DEF5-8194-4546-BAA2-E3CF2BC491A7.png'\n",
        "S1_doubleA1A3_6 = 'A601DEF5-8194-4546-BAA2-E3CF2BC491A7.png'\n",
        "S1_doubleA1A3_56 ='1A7C4C1D-67A6-4724-98D9-FFAFEED41437.png' \n",
        "S1_doubleA1A4_6 = '9664FAC5-C093-4C4E-9906-23DCC933C2BC.png'\n",
        "S1_doubleA1B1_6 ='A601DEF5-8194-4546-BAA2-E3CF2BC491A7.png'\n",
        "S1_doubleA1B2_6 = '1A7C4C1D-67A6-4724-98D9-FFAFEED41437.png'\n",
        "S1_doubleA1B3_6 = '9664FAC5-C093-4C4E-9906-23DCC933C2BC.png'\n",
        "S1_doubleA1B4_6 ='2D83B79D-5337-4378-832C-371721F97678.png'\n",
        "S1_doubleA1C1_6 = '9664FAC5-C093-4C4E-9906-23DCC933C2BC.png'\n",
        "S1_doubleA1C2_6 ='1A7C4C1D-67A6-4724-98D9-FFAFEED41437.png'\n",
        "S1_doubleA1C3_6 ='2D83B79D-5337-4378-832C-371721F97678.png'\n",
        "S1_doubleA1C4_6 ='2D83B79D-5337-4378-832C-371721F97678.png'\n",
        "S1_doubleA1D2_6 = '9664FAC5-C093-4C4E-9906-23DCC933C2BC.png'\n",
        "S1_doubleA1D3_6 ='7F841DFC-287B-41C2-A4F5-49FA7331CBB0.png'\n",
        "S1_doubleA1D4_6 = '7F841DFC-287B-41C2-A4F5-49FA7331CBB0.png'"
      ],
      "execution_count": null,
      "outputs": []
    },
    {
      "cell_type": "code",
      "metadata": {
        "id": "mrq_CCnhWCAK"
      },
      "source": [
        "S1_doubleA1A1_7 = '9664FAC5-C093-4C4E-9906-23DCC933C2BC.png'\n",
        "S1_doubleA1A2_7 = '9C42EB3E-DDE7-43A2-91AE-4DCE60FCDAA9.png'\n",
        "S1_doubleA1A3_7 = '0E935DDC-4F2E-44CA-8761-D9EEF48FA184.png'\n",
        "S1_doubleA1A3_57 = '6503F4C5-1138-4796-972C-5FF66EFD389B.png'\n",
        "S1_doubleA1A4_7= '7BDDACC1-D18B-459A-BEE5-E1ECAF9BF9C2.png'\n",
        "S1_doubleA1B1_7='82C9B7F8-9A33-48DF-B722-CD2CCE4DFDA4.png'\n",
        "S1_doubleA1B2_7 = '5E756B9E-5B8B-4003-A2CC-32D244523EF5.png'\n",
        "S1_doubleA1B3_7 ='0E6A8167-3381-4891-99D4-84EAAC995D0B.png'\n",
        "S1_doubleA1B4_7 = '2D83B79D-5337-4378-832C-371721F97678.png'\n",
        "S1_doubleA1C1_7 = '91D7D709-F23E-4AE3-A0A2-A445F61D67EB.png'\n",
        "S1_doubleA1C2_7 ='781F2ECD-93CA-4AF4-9D79-49910BB1E07A.png'\n",
        "S1_doubleA1C3_7 ='B6050550-B56E-4148-BF1E-CE9492B5334F.png'\n",
        "S1_doubleA1C4_7 ='1A7C4C1D-67A6-4724-98D9-FFAFEED41437.png'\n",
        "S1_doubleA1D2_7 = '75EABE86-EA46-42BC-88A7-90FF6F904B23.png'\n",
        "S1_doubleA1D3_7='6E56B8EF-2517-4195-B91A-E5EFA20E81A0.png'\n",
        "S1_doubleA1D4_7 = '839EA3F3-4256-44C3-9E4C-70E87B10CB38.png'"
      ],
      "execution_count": null,
      "outputs": []
    },
    {
      "cell_type": "code",
      "metadata": {
        "id": "pzGwXjnhWZmO"
      },
      "source": [
        "S1_doubleA1A1_8 = 'C88EF40F-E3F2-462F-9F7F-F2BACB0E4704.png'\n",
        "S1_doubleA1A2_8 = 'DDC4DC8E-B6F3-4C8E-B168-D77C99A200B0.png'\n",
        "S1_doubleA1A3_8  = 'D82BB03D-596F-4490-A11A-78CC339EF07E.png'\n",
        "S1_doubleA1A3_58  = '01115472-EC3A-48C7-B1FB-263259578BD7.png'\n",
        "S1_doubleA1A4_8  = 'A7B00E08-3ED6-4D0D-A76A-59936068AD40.png'\n",
        "S1_doubleA1B1_8  = '7EE62CC1-C35A-4BD5-8B99-7A02F504FB92.png'\n",
        "S1_doubleA1B2_8  = 'BEE4A20C-2B3A-4083-964D-EB3923B388F9.png'\n",
        "S1_doubleA1B3_8  ='BF7F9C19-2AB0-4C4B-BBF5-EF32E953C0B7.png'\n",
        "S1_doubleA1B4_8  = 'AAF41B6A-64A6-4300-9FE7-3E9652AA67F2.png'\n",
        "S1_doubleA1C1_8  ='EBA0C742-6F93-40D7-BBDC-FDA0F7717CF5.png'\n",
        "S1_doubleA1C2_8  ='EBA0C742-6F93-40D7-BBDC-FDA0F7717CF5.png'\n",
        "S1_doubleA1C3_8  ='041A2217-2C1E-4183-940C-81AF1B7ADCEB.png'\n",
        "S1_doubleA1C4_8  ='F228CEDF-9850-4974-955D-6A187146338E.png'\n",
        "S1_doubleA1D2_8  = '59AD9845-D209-4929-8E83-5C3FCBD50C90.png'\n",
        "S1_doubleA1D3_8  ='59AD9845-D209-4929-8E83-5C3FCBD50C90.png'\n",
        "S1_doubleA1D4_8  = '630B56EB-1A02-4C39-8E72-401279881303.png'"
      ],
      "execution_count": null,
      "outputs": []
    },
    {
      "cell_type": "code",
      "metadata": {
        "id": "dpMbup-QWxgS"
      },
      "source": [
        "S1_doubleA1A1_9 = 'C88EF40F-E3F2-462F-9F7F-F2BACB0E4704.png'\n",
        "S1_doubleA1A2_9 = 'DDC4DC8E-B6F3-4C8E-B168-D77C99A200B0.png'\n",
        "S1_doubleA1A3_9  = 'D82BB03D-596F-4490-A11A-78CC339EF07E.png'\n",
        "S1_doubleA1A3_59  = '01115472-EC3A-48C7-B1FB-263259578BD7.png'\n",
        "S1_doubleA1A4_9  = 'A7B00E08-3ED6-4D0D-A76A-59936068AD40.png'\n",
        "S1_doubleA1B1_9  = '7EE62CC1-C35A-4BD5-8B99-7A02F504FB92.png'\n",
        "S1_doubleA1B2_9  = 'BEE4A20C-2B3A-4083-964D-EB3923B388F9.png'\n",
        "S1_doubleA1B3_9  ='BF7F9C19-2AB0-4C4B-BBF5-EF32E953C0B7.png'\n",
        "S1_doubleA1B4_9  = 'AAF41B6A-64A6-4300-9FE7-3E9652AA67F2.png'\n",
        "S1_doubleA1C1_9  ='EBA0C742-6F93-40D7-BBDC-FDA0F7717CF5.png'\n",
        "S1_doubleA1C2_9  ='EBA0C742-6F93-40D7-BBDC-FDA0F7717CF5.png'\n",
        "S1_doubleA1C3_9  ='041A2217-2C1E-4183-940C-81AF1B7ADCEB.png'\n",
        "S1_doubleA1C4_9  ='F228CEDF-9850-4974-955D-6A187146338E.png'\n",
        "S1_doubleA1D2_9  = '59AD9845-D209-4929-8E83-5C3FCBD50C90.png'\n",
        "S1_doubleA1D3_9  ='59AD9845-D209-4929-8E83-5C3FCBD50C90.png'\n",
        "S1_doubleA1D4_9  = '630B56EB-1A02-4C39-8E72-401279881303.png'"
      ],
      "execution_count": null,
      "outputs": []
    },
    {
      "cell_type": "code",
      "metadata": {
        "id": "bFVJrq3BWx0R"
      },
      "source": [
        "S1_doubleA1A1_10 = 'C88EF40F-E3F2-462F-9F7F-F2BACB0E4704.png'\n",
        "S1_doubleA1A2_10 = 'DDC4DC8E-B6F3-4C8E-B168-D77C99A200B0.png'\n",
        "S1_doubleA1A3_10  = 'D82BB03D-596F-4490-A11A-78CC339EF07E.png'\n",
        "S1_doubleA1A3_510  = '01115472-EC3A-48C7-B1FB-263259578BD7.png'\n",
        "S1_doubleA1A4_10  = 'A7B00E08-3ED6-4D0D-A76A-59936068AD40.png'\n",
        "S1_doubleA1B1_10  = '7EE62CC1-C35A-4BD5-8B99-7A02F504FB92.png'\n",
        "S1_doubleA1B2_10  = 'BEE4A20C-2B3A-4083-964D-EB3923B388F9.png'\n",
        "S1_doubleA1B3_10  ='BF7F9C19-2AB0-4C4B-BBF5-EF32E953C0B7.png'\n",
        "S1_doubleA1B4_10  = 'AAF41B6A-64A6-4300-9FE7-3E9652AA67F2.png'\n",
        "S1_doubleA1C1_10  ='EBA0C742-6F93-40D7-BBDC-FDA0F7717CF5.png'\n",
        "S1_doubleA1C2_10  ='EBA0C742-6F93-40D7-BBDC-FDA0F7717CF5.png'\n",
        "S1_doubleA1C3_10  ='041A2217-2C1E-4183-940C-81AF1B7ADCEB.png'\n",
        "S1_doubleA1C4_10  ='F228CEDF-9850-4974-955D-6A187146338E.png'\n",
        "S1_doubleA1D2_10  = '59AD9845-D209-4929-8E83-5C3FCBD50C90.png'\n",
        "S1_doubleA1D3_10  ='59AD9845-D209-4929-8E83-5C3FCBD50C90.png'\n",
        "S1_doubleA1D4_10  = '630B56EB-1A02-4C39-8E72-401279881303.png'"
      ],
      "execution_count": null,
      "outputs": []
    },
    {
      "cell_type": "markdown",
      "metadata": {
        "id": "Taw1dl5xglaj"
      },
      "source": [
        "#2. ดึงรูป"
      ]
    },
    {
      "cell_type": "code",
      "metadata": {
        "id": "jPe2WlLY4J0n"
      },
      "source": [
        "import cv2\n",
        "from matplotlib import pyplot as plt #การเรียกใช้คำสั่ง matplotlib เพื่อวาดกราฟ โดยแทนชื่อ matplotlib ด้วย plt\n",
        "import matplotlib"
      ],
      "execution_count": null,
      "outputs": []
    },
    {
      "cell_type": "markdown",
      "metadata": {
        "id": "7Gl_H8idgnRf"
      },
      "source": [
        "##Set1"
      ]
    },
    {
      "cell_type": "code",
      "metadata": {
        "id": "s7mF6eEHiQ19",
        "colab": {
          "base_uri": "https://localhost:8080/"
        },
        "outputId": "f75eee08-e1a8-48ad-8835-43614f209bed"
      },
      "source": [
        "full_path_to_file2 = os.path.join(S1_doubleA1A1_1) \n",
        "blob_service_client.get_blob_to_path('shadeimg', full_path_to_file2, full_path_to_file2)"
      ],
      "execution_count": null,
      "outputs": [
        {
          "output_type": "execute_result",
          "data": {
            "text/plain": [
              "<azure.storage.blob.models.Blob at 0x7fac6bbde390>"
            ]
          },
          "metadata": {},
          "execution_count": 50
        }
      ]
    },
    {
      "cell_type": "code",
      "metadata": {
        "id": "kzMKB_OniZY1",
        "colab": {
          "base_uri": "https://localhost:8080/"
        },
        "outputId": "90de9018-010f-40b4-db20-59e64bfd9ff5"
      },
      "source": [
        "full_path_to_file2 = os.path.join(S1_doubleA1A2_1) \n",
        "blob_service_client.get_blob_to_path('shadeimg', full_path_to_file2, full_path_to_file2)"
      ],
      "execution_count": null,
      "outputs": [
        {
          "output_type": "execute_result",
          "data": {
            "text/plain": [
              "<azure.storage.blob.models.Blob at 0x7fac6250b6d0>"
            ]
          },
          "metadata": {},
          "execution_count": 51
        }
      ]
    },
    {
      "cell_type": "code",
      "metadata": {
        "id": "IkeC-Fivih3w",
        "colab": {
          "base_uri": "https://localhost:8080/"
        },
        "outputId": "ef60752a-e860-42b8-f5d4-5305e17bac43"
      },
      "source": [
        "full_path_to_file2 = os.path.join(S1_doubleA1A3_1) \n",
        "blob_service_client.get_blob_to_path('shadeimg', full_path_to_file2, full_path_to_file2)"
      ],
      "execution_count": null,
      "outputs": [
        {
          "output_type": "execute_result",
          "data": {
            "text/plain": [
              "<azure.storage.blob.models.Blob at 0x7fac629a4990>"
            ]
          },
          "metadata": {},
          "execution_count": 52
        }
      ]
    },
    {
      "cell_type": "code",
      "metadata": {
        "id": "3Y9aMJj6ij5n",
        "colab": {
          "base_uri": "https://localhost:8080/"
        },
        "outputId": "8e891ee2-6c82-44d5-dcd2-2463ae9fac21"
      },
      "source": [
        "full_path_to_file2 = os.path.join(S1_doubleA1A3_51) \n",
        "blob_service_client.get_blob_to_path('shadeimg', full_path_to_file2, full_path_to_file2)"
      ],
      "execution_count": null,
      "outputs": [
        {
          "output_type": "execute_result",
          "data": {
            "text/plain": [
              "<azure.storage.blob.models.Blob at 0x7fac625300d0>"
            ]
          },
          "metadata": {},
          "execution_count": 53
        }
      ]
    },
    {
      "cell_type": "code",
      "metadata": {
        "id": "yrJq8907iuoY",
        "colab": {
          "base_uri": "https://localhost:8080/"
        },
        "outputId": "613ae04e-eeb3-4ed4-9667-f444278cde4d"
      },
      "source": [
        "full_path_to_file2 = os.path.join(S1_doubleA1A4_1) \n",
        "blob_service_client.get_blob_to_path('shadeimg', full_path_to_file2, full_path_to_file2)"
      ],
      "execution_count": null,
      "outputs": [
        {
          "output_type": "execute_result",
          "data": {
            "text/plain": [
              "<azure.storage.blob.models.Blob at 0x7fac62527710>"
            ]
          },
          "metadata": {},
          "execution_count": 54
        }
      ]
    },
    {
      "cell_type": "code",
      "metadata": {
        "id": "0VJcKHW2i0Ac",
        "colab": {
          "base_uri": "https://localhost:8080/"
        },
        "outputId": "1f7ec97f-a6b9-4ee4-e4b6-9d7a5383921d"
      },
      "source": [
        "full_path_to_file2 = os.path.join(S1_doubleA1B1_1) \n",
        "blob_service_client.get_blob_to_path('shadeimg', full_path_to_file2, full_path_to_file2)"
      ],
      "execution_count": null,
      "outputs": [
        {
          "output_type": "execute_result",
          "data": {
            "text/plain": [
              "<azure.storage.blob.models.Blob at 0x7fac6250bd50>"
            ]
          },
          "metadata": {},
          "execution_count": 55
        }
      ]
    },
    {
      "cell_type": "code",
      "metadata": {
        "id": "hY3AI9RFi0Ad",
        "colab": {
          "base_uri": "https://localhost:8080/"
        },
        "outputId": "e2d5ed6b-bf74-4e65-c8e7-ad689a967741"
      },
      "source": [
        "full_path_to_file2 = os.path.join(S1_doubleA1B2_1) \n",
        "blob_service_client.get_blob_to_path('shadeimg', full_path_to_file2, full_path_to_file2)"
      ],
      "execution_count": null,
      "outputs": [
        {
          "output_type": "execute_result",
          "data": {
            "text/plain": [
              "<azure.storage.blob.models.Blob at 0x7fac629a4390>"
            ]
          },
          "metadata": {},
          "execution_count": 56
        }
      ]
    },
    {
      "cell_type": "code",
      "metadata": {
        "id": "GApmsAnKi0Ad",
        "colab": {
          "base_uri": "https://localhost:8080/"
        },
        "outputId": "2fe693da-e647-416b-f24f-1266cf19641a"
      },
      "source": [
        "full_path_to_file2 = os.path.join(S1_doubleA1B3_1) \n",
        "blob_service_client.get_blob_to_path('shadeimg', full_path_to_file2, full_path_to_file2)"
      ],
      "execution_count": null,
      "outputs": [
        {
          "output_type": "execute_result",
          "data": {
            "text/plain": [
              "<azure.storage.blob.models.Blob at 0x7fac6299d410>"
            ]
          },
          "metadata": {},
          "execution_count": 57
        }
      ]
    },
    {
      "cell_type": "code",
      "metadata": {
        "id": "O1h96HYqi7cu",
        "colab": {
          "base_uri": "https://localhost:8080/"
        },
        "outputId": "d9206af4-c039-486b-c3d7-2f996c1447e6"
      },
      "source": [
        "full_path_to_file2 = os.path.join(S1_doubleA1B4_1) \n",
        "blob_service_client.get_blob_to_path('shadeimg', full_path_to_file2, full_path_to_file2)"
      ],
      "execution_count": null,
      "outputs": [
        {
          "output_type": "execute_result",
          "data": {
            "text/plain": [
              "<azure.storage.blob.models.Blob at 0x7fac62527750>"
            ]
          },
          "metadata": {},
          "execution_count": 58
        }
      ]
    },
    {
      "cell_type": "code",
      "metadata": {
        "id": "RsMHbknqi_fT",
        "colab": {
          "base_uri": "https://localhost:8080/"
        },
        "outputId": "18f6dd45-4c7e-45fb-a8b4-55e1b6e4971d"
      },
      "source": [
        "full_path_to_file2 = os.path.join(S1_doubleA1C1_1) \n",
        "blob_service_client.get_blob_to_path('shadeimg', full_path_to_file2, full_path_to_file2)"
      ],
      "execution_count": null,
      "outputs": [
        {
          "output_type": "execute_result",
          "data": {
            "text/plain": [
              "<azure.storage.blob.models.Blob at 0x7fac62530c90>"
            ]
          },
          "metadata": {},
          "execution_count": 59
        }
      ]
    },
    {
      "cell_type": "code",
      "metadata": {
        "id": "wI0oZemgi_fT",
        "colab": {
          "base_uri": "https://localhost:8080/"
        },
        "outputId": "d64673ee-0735-44dc-e7a3-539ccfd253c6"
      },
      "source": [
        "full_path_to_file2 = os.path.join(S1_doubleA1C2_1) \n",
        "blob_service_client.get_blob_to_path('shadeimg', full_path_to_file2, full_path_to_file2)"
      ],
      "execution_count": null,
      "outputs": [
        {
          "output_type": "execute_result",
          "data": {
            "text/plain": [
              "<azure.storage.blob.models.Blob at 0x7fac624cc3d0>"
            ]
          },
          "metadata": {},
          "execution_count": 60
        }
      ]
    },
    {
      "cell_type": "code",
      "metadata": {
        "id": "6ga7nGGti_fT",
        "colab": {
          "base_uri": "https://localhost:8080/"
        },
        "outputId": "cc7822ea-d287-4c8c-e9e5-d581ec04b7a2"
      },
      "source": [
        "full_path_to_file2 = os.path.join(S1_doubleA1C3_1) \n",
        "blob_service_client.get_blob_to_path('shadeimg', full_path_to_file2, full_path_to_file2)"
      ],
      "execution_count": null,
      "outputs": [
        {
          "output_type": "execute_result",
          "data": {
            "text/plain": [
              "<azure.storage.blob.models.Blob at 0x7fac624ccf10>"
            ]
          },
          "metadata": {},
          "execution_count": 61
        }
      ]
    },
    {
      "cell_type": "code",
      "metadata": {
        "id": "nsiPutfEi_fU",
        "colab": {
          "base_uri": "https://localhost:8080/"
        },
        "outputId": "05b15591-c59d-4fdb-a877-3e0b9a6681cb"
      },
      "source": [
        "full_path_to_file2 = os.path.join(S1_doubleA1C4_1) \n",
        "blob_service_client.get_blob_to_path('shadeimg', full_path_to_file2, full_path_to_file2)"
      ],
      "execution_count": null,
      "outputs": [
        {
          "output_type": "execute_result",
          "data": {
            "text/plain": [
              "<azure.storage.blob.models.Blob at 0x7fac6bbf0cd0>"
            ]
          },
          "metadata": {},
          "execution_count": 62
        }
      ]
    },
    {
      "cell_type": "code",
      "metadata": {
        "id": "IlqllUIljGVj",
        "colab": {
          "base_uri": "https://localhost:8080/"
        },
        "outputId": "b03990b1-53e5-46fd-bd13-cb8d77bcc661"
      },
      "source": [
        "full_path_to_file2 = os.path.join(S1_doubleA1D2_1) \n",
        "blob_service_client.get_blob_to_path('shadeimg', full_path_to_file2, full_path_to_file2)"
      ],
      "execution_count": null,
      "outputs": [
        {
          "output_type": "execute_result",
          "data": {
            "text/plain": [
              "<azure.storage.blob.models.Blob at 0x7fac6299d9d0>"
            ]
          },
          "metadata": {},
          "execution_count": 63
        }
      ]
    },
    {
      "cell_type": "code",
      "metadata": {
        "id": "jXXF16lsjGVj",
        "colab": {
          "base_uri": "https://localhost:8080/"
        },
        "outputId": "cf90cdd9-4c40-470e-946c-ad0020f9a1a5"
      },
      "source": [
        "full_path_to_file2 = os.path.join(S1_doubleA1D3_1) \n",
        "blob_service_client.get_blob_to_path('shadeimg', full_path_to_file2, full_path_to_file2)"
      ],
      "execution_count": null,
      "outputs": [
        {
          "output_type": "execute_result",
          "data": {
            "text/plain": [
              "<azure.storage.blob.models.Blob at 0x7fac62530dd0>"
            ]
          },
          "metadata": {},
          "execution_count": 64
        }
      ]
    },
    {
      "cell_type": "code",
      "metadata": {
        "id": "xRA_M-1PjGVj",
        "colab": {
          "base_uri": "https://localhost:8080/"
        },
        "outputId": "06418ec6-8330-4373-f059-95f23794c181"
      },
      "source": [
        "full_path_to_file2 = os.path.join(S1_doubleA1D4_1) \n",
        "blob_service_client.get_blob_to_path('shadeimg', full_path_to_file2, full_path_to_file2)"
      ],
      "execution_count": null,
      "outputs": [
        {
          "output_type": "execute_result",
          "data": {
            "text/plain": [
              "<azure.storage.blob.models.Blob at 0x7fac624d3b90>"
            ]
          },
          "metadata": {},
          "execution_count": 65
        }
      ]
    },
    {
      "cell_type": "markdown",
      "metadata": {
        "id": "ctZILUENZxNJ"
      },
      "source": [
        "###Img 2"
      ]
    },
    {
      "cell_type": "code",
      "metadata": {
        "id": "IS9B9yPkarl_",
        "colab": {
          "base_uri": "https://localhost:8080/"
        },
        "outputId": "6f1c816b-ee49-42f9-cd4a-8723f3ac0e22"
      },
      "source": [
        "full_path_to_file2 = os.path.join(S1_doubleA1A1_2) \n",
        "blob_service_client.get_blob_to_path('shadeimg', full_path_to_file2, full_path_to_file2)"
      ],
      "execution_count": null,
      "outputs": [
        {
          "output_type": "execute_result",
          "data": {
            "text/plain": [
              "<azure.storage.blob.models.Blob at 0x7fac624d3c50>"
            ]
          },
          "metadata": {},
          "execution_count": 66
        }
      ]
    },
    {
      "cell_type": "code",
      "metadata": {
        "id": "BllPAVuWarmA",
        "colab": {
          "base_uri": "https://localhost:8080/"
        },
        "outputId": "3588d39c-5cd4-4c69-bc7f-706eaeb93b26"
      },
      "source": [
        "full_path_to_file2 = os.path.join(S1_doubleA1A2_2) \n",
        "blob_service_client.get_blob_to_path('shadeimg', full_path_to_file2, full_path_to_file2)"
      ],
      "execution_count": null,
      "outputs": [
        {
          "output_type": "execute_result",
          "data": {
            "text/plain": [
              "<azure.storage.blob.models.Blob at 0x7fac62539750>"
            ]
          },
          "metadata": {},
          "execution_count": 67
        }
      ]
    },
    {
      "cell_type": "code",
      "metadata": {
        "id": "-4kUfX6varmB",
        "colab": {
          "base_uri": "https://localhost:8080/"
        },
        "outputId": "edf278c3-5188-46d6-ec36-749b47da17e4"
      },
      "source": [
        "full_path_to_file2 = os.path.join(S1_doubleA1A3_2) \n",
        "blob_service_client.get_blob_to_path('shadeimg', full_path_to_file2, full_path_to_file2)"
      ],
      "execution_count": null,
      "outputs": [
        {
          "output_type": "execute_result",
          "data": {
            "text/plain": [
              "<azure.storage.blob.models.Blob at 0x7fac62539590>"
            ]
          },
          "metadata": {},
          "execution_count": 68
        }
      ]
    },
    {
      "cell_type": "code",
      "metadata": {
        "id": "LArO_C_OarmC",
        "colab": {
          "base_uri": "https://localhost:8080/"
        },
        "outputId": "b9f5d4c0-6e0e-47b7-faea-ca3d51b4663e"
      },
      "source": [
        "full_path_to_file2 = os.path.join(S1_doubleA1A3_52) \n",
        "blob_service_client.get_blob_to_path('shadeimg', full_path_to_file2, full_path_to_file2)"
      ],
      "execution_count": null,
      "outputs": [
        {
          "output_type": "execute_result",
          "data": {
            "text/plain": [
              "<azure.storage.blob.models.Blob at 0x7fac62523a10>"
            ]
          },
          "metadata": {},
          "execution_count": 69
        }
      ]
    },
    {
      "cell_type": "code",
      "metadata": {
        "id": "jY7gzT96armC",
        "colab": {
          "base_uri": "https://localhost:8080/"
        },
        "outputId": "b07f3114-8272-4809-d38b-944c1dfdbf23"
      },
      "source": [
        "full_path_to_file2 = os.path.join(S1_doubleA1A4_2) \n",
        "blob_service_client.get_blob_to_path('shadeimg', full_path_to_file2, full_path_to_file2)"
      ],
      "execution_count": null,
      "outputs": [
        {
          "output_type": "execute_result",
          "data": {
            "text/plain": [
              "<azure.storage.blob.models.Blob at 0x7fac624c7790>"
            ]
          },
          "metadata": {},
          "execution_count": 70
        }
      ]
    },
    {
      "cell_type": "code",
      "metadata": {
        "id": "r_tN80ViarmD",
        "colab": {
          "base_uri": "https://localhost:8080/"
        },
        "outputId": "a81f61bd-e8f2-4004-a1aa-094790ad6d86"
      },
      "source": [
        "full_path_to_file2 = os.path.join(S1_doubleA1B1_2) \n",
        "blob_service_client.get_blob_to_path('shadeimg', full_path_to_file2, full_path_to_file2)"
      ],
      "execution_count": null,
      "outputs": [
        {
          "output_type": "execute_result",
          "data": {
            "text/plain": [
              "<azure.storage.blob.models.Blob at 0x7fac624cc410>"
            ]
          },
          "metadata": {},
          "execution_count": 71
        }
      ]
    },
    {
      "cell_type": "code",
      "metadata": {
        "id": "7k1IhFJHarmD",
        "colab": {
          "base_uri": "https://localhost:8080/"
        },
        "outputId": "bca7c309-ed60-4bfd-8679-2db24baecd89"
      },
      "source": [
        "full_path_to_file2 = os.path.join(S1_doubleA1B2_2) \n",
        "blob_service_client.get_blob_to_path('shadeimg', full_path_to_file2, full_path_to_file2)"
      ],
      "execution_count": null,
      "outputs": [
        {
          "output_type": "execute_result",
          "data": {
            "text/plain": [
              "<azure.storage.blob.models.Blob at 0x7fac62530510>"
            ]
          },
          "metadata": {},
          "execution_count": 72
        }
      ]
    },
    {
      "cell_type": "code",
      "metadata": {
        "id": "oU7FiinGarmE",
        "colab": {
          "base_uri": "https://localhost:8080/"
        },
        "outputId": "5af5fbbe-a6e5-42cb-9674-283a4826e0f8"
      },
      "source": [
        "full_path_to_file2 = os.path.join(S1_doubleA1B3_2) \n",
        "blob_service_client.get_blob_to_path('shadeimg', full_path_to_file2, full_path_to_file2)"
      ],
      "execution_count": null,
      "outputs": [
        {
          "output_type": "execute_result",
          "data": {
            "text/plain": [
              "<azure.storage.blob.models.Blob at 0x7fac624d3e50>"
            ]
          },
          "metadata": {},
          "execution_count": 73
        }
      ]
    },
    {
      "cell_type": "code",
      "metadata": {
        "id": "eOKs2zHbarmE",
        "colab": {
          "base_uri": "https://localhost:8080/"
        },
        "outputId": "524a4d96-42ca-48dc-f3b7-1955ad62a61b"
      },
      "source": [
        "full_path_to_file2 = os.path.join(S1_doubleA1B4_2) \n",
        "blob_service_client.get_blob_to_path('shadeimg', full_path_to_file2, full_path_to_file2)"
      ],
      "execution_count": null,
      "outputs": [
        {
          "output_type": "execute_result",
          "data": {
            "text/plain": [
              "<azure.storage.blob.models.Blob at 0x7fac624cc650>"
            ]
          },
          "metadata": {},
          "execution_count": 74
        }
      ]
    },
    {
      "cell_type": "code",
      "metadata": {
        "id": "U7SiS2N6armF",
        "colab": {
          "base_uri": "https://localhost:8080/"
        },
        "outputId": "0d4127dc-f470-4dfe-b96e-dd06fa75f703"
      },
      "source": [
        "full_path_to_file2 = os.path.join(S1_doubleA1C1_2) \n",
        "blob_service_client.get_blob_to_path('shadeimg', full_path_to_file2, full_path_to_file2)"
      ],
      "execution_count": null,
      "outputs": [
        {
          "output_type": "execute_result",
          "data": {
            "text/plain": [
              "<azure.storage.blob.models.Blob at 0x7fac6252c350>"
            ]
          },
          "metadata": {},
          "execution_count": 75
        }
      ]
    },
    {
      "cell_type": "code",
      "metadata": {
        "id": "KcpzEnu9armG",
        "colab": {
          "base_uri": "https://localhost:8080/"
        },
        "outputId": "17d790c5-238f-448d-e61b-18caebf50ee2"
      },
      "source": [
        "full_path_to_file2 = os.path.join(S1_doubleA1C2_2) \n",
        "blob_service_client.get_blob_to_path('shadeimg', full_path_to_file2, full_path_to_file2)"
      ],
      "execution_count": null,
      "outputs": [
        {
          "output_type": "execute_result",
          "data": {
            "text/plain": [
              "<azure.storage.blob.models.Blob at 0x7fac6bbdee50>"
            ]
          },
          "metadata": {},
          "execution_count": 76
        }
      ]
    },
    {
      "cell_type": "code",
      "metadata": {
        "id": "hazhbOumarmG",
        "colab": {
          "base_uri": "https://localhost:8080/"
        },
        "outputId": "133f14da-567c-4a5c-a3ea-80676aab55af"
      },
      "source": [
        "full_path_to_file2 = os.path.join(S1_doubleA1C3_2) \n",
        "blob_service_client.get_blob_to_path('shadeimg', full_path_to_file2, full_path_to_file2)"
      ],
      "execution_count": null,
      "outputs": [
        {
          "output_type": "execute_result",
          "data": {
            "text/plain": [
              "<azure.storage.blob.models.Blob at 0x7fac6bb885d0>"
            ]
          },
          "metadata": {},
          "execution_count": 77
        }
      ]
    },
    {
      "cell_type": "code",
      "metadata": {
        "id": "U-OoUWhNarmH",
        "colab": {
          "base_uri": "https://localhost:8080/"
        },
        "outputId": "31db46d6-0005-4dfe-b447-8dd06721433e"
      },
      "source": [
        "full_path_to_file2 = os.path.join(S1_doubleA1C4_2) \n",
        "blob_service_client.get_blob_to_path('shadeimg', full_path_to_file2, full_path_to_file2)"
      ],
      "execution_count": null,
      "outputs": [
        {
          "output_type": "execute_result",
          "data": {
            "text/plain": [
              "<azure.storage.blob.models.Blob at 0x7fac6252c150>"
            ]
          },
          "metadata": {},
          "execution_count": 78
        }
      ]
    },
    {
      "cell_type": "code",
      "metadata": {
        "id": "_xD-Hj7karmH",
        "colab": {
          "base_uri": "https://localhost:8080/"
        },
        "outputId": "7aa1e2c7-4c0b-43bd-c44d-cd4ba301c96a"
      },
      "source": [
        "full_path_to_file2 = os.path.join(S1_doubleA1D2_2) \n",
        "blob_service_client.get_blob_to_path('shadeimg', full_path_to_file2, full_path_to_file2)"
      ],
      "execution_count": null,
      "outputs": [
        {
          "output_type": "execute_result",
          "data": {
            "text/plain": [
              "<azure.storage.blob.models.Blob at 0x7fac624dc3d0>"
            ]
          },
          "metadata": {},
          "execution_count": 79
        }
      ]
    },
    {
      "cell_type": "code",
      "metadata": {
        "id": "bUEqUL2marmI",
        "colab": {
          "base_uri": "https://localhost:8080/"
        },
        "outputId": "f4243850-a732-4104-8c19-a42b8cf32ec9"
      },
      "source": [
        "full_path_to_file2 = os.path.join(S1_doubleA1D3_2) \n",
        "blob_service_client.get_blob_to_path('shadeimg', full_path_to_file2, full_path_to_file2)"
      ],
      "execution_count": null,
      "outputs": [
        {
          "output_type": "execute_result",
          "data": {
            "text/plain": [
              "<azure.storage.blob.models.Blob at 0x7fac624c7b50>"
            ]
          },
          "metadata": {},
          "execution_count": 80
        }
      ]
    },
    {
      "cell_type": "code",
      "metadata": {
        "id": "RSL36p-5armJ",
        "colab": {
          "base_uri": "https://localhost:8080/"
        },
        "outputId": "24dbfecd-42dd-40e4-8dfb-7c69053aa83e"
      },
      "source": [
        "full_path_to_file2 = os.path.join(S1_doubleA1D4_2) \n",
        "blob_service_client.get_blob_to_path('shadeimg', full_path_to_file2, full_path_to_file2)"
      ],
      "execution_count": null,
      "outputs": [
        {
          "output_type": "execute_result",
          "data": {
            "text/plain": [
              "<azure.storage.blob.models.Blob at 0x7fac6253d850>"
            ]
          },
          "metadata": {},
          "execution_count": 81
        }
      ]
    },
    {
      "cell_type": "markdown",
      "metadata": {
        "id": "JTzZp40yarmJ"
      },
      "source": [
        "###Img 3"
      ]
    },
    {
      "cell_type": "code",
      "metadata": {
        "id": "S2_pomstbD0S",
        "colab": {
          "base_uri": "https://localhost:8080/"
        },
        "outputId": "fa21aaf6-fdd8-4477-a5d9-63896a4cbb62"
      },
      "source": [
        "full_path_to_file2 = os.path.join(S1_doubleA1A1_3) \n",
        "blob_service_client.get_blob_to_path('shadeimg', full_path_to_file2, full_path_to_file2)"
      ],
      "execution_count": null,
      "outputs": [
        {
          "output_type": "execute_result",
          "data": {
            "text/plain": [
              "<azure.storage.blob.models.Blob at 0x7fac6253d8d0>"
            ]
          },
          "metadata": {},
          "execution_count": 82
        }
      ]
    },
    {
      "cell_type": "code",
      "metadata": {
        "id": "KxZTnAD9bD0T",
        "colab": {
          "base_uri": "https://localhost:8080/"
        },
        "outputId": "52bc63c1-fb63-4d4a-ec46-c099788f618c"
      },
      "source": [
        "full_path_to_file2 = os.path.join(S1_doubleA1A2_3) \n",
        "blob_service_client.get_blob_to_path('shadeimg', full_path_to_file2, full_path_to_file2)"
      ],
      "execution_count": null,
      "outputs": [
        {
          "output_type": "execute_result",
          "data": {
            "text/plain": [
              "<azure.storage.blob.models.Blob at 0x7fac624eead0>"
            ]
          },
          "metadata": {},
          "execution_count": 83
        }
      ]
    },
    {
      "cell_type": "code",
      "metadata": {
        "id": "7Cy2jzEQbD0U",
        "colab": {
          "base_uri": "https://localhost:8080/"
        },
        "outputId": "c97549d8-4079-468e-d1c7-b18610616c31"
      },
      "source": [
        "full_path_to_file2 = os.path.join(S1_doubleA1A3_3) \n",
        "blob_service_client.get_blob_to_path('shadeimg', full_path_to_file2, full_path_to_file2)"
      ],
      "execution_count": null,
      "outputs": [
        {
          "output_type": "execute_result",
          "data": {
            "text/plain": [
              "<azure.storage.blob.models.Blob at 0x7fac624c7e90>"
            ]
          },
          "metadata": {},
          "execution_count": 84
        }
      ]
    },
    {
      "cell_type": "code",
      "metadata": {
        "id": "jMyXyjCebD0V",
        "colab": {
          "base_uri": "https://localhost:8080/"
        },
        "outputId": "5f19105e-6461-4ccc-e566-92a08af9924a"
      },
      "source": [
        "full_path_to_file2 = os.path.join(S1_doubleA1A3_53) \n",
        "blob_service_client.get_blob_to_path('shadeimg', full_path_to_file2, full_path_to_file2)"
      ],
      "execution_count": null,
      "outputs": [
        {
          "output_type": "execute_result",
          "data": {
            "text/plain": [
              "<azure.storage.blob.models.Blob at 0x7fac6253d390>"
            ]
          },
          "metadata": {},
          "execution_count": 85
        }
      ]
    },
    {
      "cell_type": "code",
      "metadata": {
        "id": "Xhr__6lWbD0V",
        "colab": {
          "base_uri": "https://localhost:8080/"
        },
        "outputId": "56c2fb96-b1da-4690-8a2c-617fed2939dc"
      },
      "source": [
        "full_path_to_file2 = os.path.join(S1_doubleA1A4_3) \n",
        "blob_service_client.get_blob_to_path('shadeimg', full_path_to_file2, full_path_to_file2)"
      ],
      "execution_count": null,
      "outputs": [
        {
          "output_type": "execute_result",
          "data": {
            "text/plain": [
              "<azure.storage.blob.models.Blob at 0x7fac624d3d10>"
            ]
          },
          "metadata": {},
          "execution_count": 86
        }
      ]
    },
    {
      "cell_type": "code",
      "metadata": {
        "id": "aIWAdCp9bD0X",
        "colab": {
          "base_uri": "https://localhost:8080/"
        },
        "outputId": "b7e54c2c-5aeb-4663-dd97-385a5e48808b"
      },
      "source": [
        "full_path_to_file2 = os.path.join(S1_doubleA1B1_3) \n",
        "blob_service_client.get_blob_to_path('shadeimg', full_path_to_file2, full_path_to_file2)"
      ],
      "execution_count": null,
      "outputs": [
        {
          "output_type": "execute_result",
          "data": {
            "text/plain": [
              "<azure.storage.blob.models.Blob at 0x7fac62523c50>"
            ]
          },
          "metadata": {},
          "execution_count": 87
        }
      ]
    },
    {
      "cell_type": "code",
      "metadata": {
        "id": "Wyyw5WjWbD0X",
        "colab": {
          "base_uri": "https://localhost:8080/"
        },
        "outputId": "2ad1df9b-064b-494c-93d3-c46ab1a9a4b7"
      },
      "source": [
        "full_path_to_file2 = os.path.join(S1_doubleA1B2_3) \n",
        "blob_service_client.get_blob_to_path('shadeimg', full_path_to_file2, full_path_to_file2)"
      ],
      "execution_count": null,
      "outputs": [
        {
          "output_type": "execute_result",
          "data": {
            "text/plain": [
              "<azure.storage.blob.models.Blob at 0x7fac624f3cd0>"
            ]
          },
          "metadata": {},
          "execution_count": 88
        }
      ]
    },
    {
      "cell_type": "code",
      "metadata": {
        "id": "UBD9688ObD0Y",
        "colab": {
          "base_uri": "https://localhost:8080/"
        },
        "outputId": "f262dac9-98f7-4f25-be6e-995c08887a2e"
      },
      "source": [
        "full_path_to_file2 = os.path.join(S1_doubleA1B3_3) \n",
        "blob_service_client.get_blob_to_path('shadeimg', full_path_to_file2, full_path_to_file2)"
      ],
      "execution_count": null,
      "outputs": [
        {
          "output_type": "execute_result",
          "data": {
            "text/plain": [
              "<azure.storage.blob.models.Blob at 0x7fac624f3b90>"
            ]
          },
          "metadata": {},
          "execution_count": 89
        }
      ]
    },
    {
      "cell_type": "code",
      "metadata": {
        "id": "tgC5B66ObD0Z",
        "colab": {
          "base_uri": "https://localhost:8080/"
        },
        "outputId": "3732f33a-b035-46e6-ddd7-84d5ff8b4ae2"
      },
      "source": [
        "full_path_to_file2 = os.path.join(S1_doubleA1B4_3) \n",
        "blob_service_client.get_blob_to_path('shadeimg', full_path_to_file2, full_path_to_file2)"
      ],
      "execution_count": null,
      "outputs": [
        {
          "output_type": "execute_result",
          "data": {
            "text/plain": [
              "<azure.storage.blob.models.Blob at 0x7fac6bbb1d90>"
            ]
          },
          "metadata": {},
          "execution_count": 90
        }
      ]
    },
    {
      "cell_type": "code",
      "metadata": {
        "id": "VsCusr4EbD0Z",
        "colab": {
          "base_uri": "https://localhost:8080/"
        },
        "outputId": "f78b88a3-7efc-494e-f3d2-dce0d41bc37b"
      },
      "source": [
        "full_path_to_file2 = os.path.join(S1_doubleA1C1_3) \n",
        "blob_service_client.get_blob_to_path('shadeimg', full_path_to_file2, full_path_to_file2)"
      ],
      "execution_count": null,
      "outputs": [
        {
          "output_type": "execute_result",
          "data": {
            "text/plain": [
              "<azure.storage.blob.models.Blob at 0x7fac6bba1f90>"
            ]
          },
          "metadata": {},
          "execution_count": 91
        }
      ]
    },
    {
      "cell_type": "code",
      "metadata": {
        "id": "FzHMbp8JbD0a",
        "colab": {
          "base_uri": "https://localhost:8080/"
        },
        "outputId": "bc5267bc-35d0-4582-bc86-9642ebf8c765"
      },
      "source": [
        "full_path_to_file2 = os.path.join(S1_doubleA1C2_3) \n",
        "blob_service_client.get_blob_to_path('shadeimg', full_path_to_file2, full_path_to_file2)"
      ],
      "execution_count": null,
      "outputs": [
        {
          "output_type": "execute_result",
          "data": {
            "text/plain": [
              "<azure.storage.blob.models.Blob at 0x7fac624eea90>"
            ]
          },
          "metadata": {},
          "execution_count": 92
        }
      ]
    },
    {
      "cell_type": "code",
      "metadata": {
        "id": "SukxYOEObD0a",
        "colab": {
          "base_uri": "https://localhost:8080/"
        },
        "outputId": "347b24c4-d0fa-48ef-f9ed-fb50cbe0ecf9"
      },
      "source": [
        "full_path_to_file2 = os.path.join(S1_doubleA1C3_3) \n",
        "blob_service_client.get_blob_to_path('shadeimg', full_path_to_file2, full_path_to_file2)"
      ],
      "execution_count": null,
      "outputs": [
        {
          "output_type": "execute_result",
          "data": {
            "text/plain": [
              "<azure.storage.blob.models.Blob at 0x7fac624c78d0>"
            ]
          },
          "metadata": {},
          "execution_count": 93
        }
      ]
    },
    {
      "cell_type": "code",
      "metadata": {
        "id": "Tv1u3tYmbD0d",
        "colab": {
          "base_uri": "https://localhost:8080/"
        },
        "outputId": "61c5813e-6826-40dd-da02-efccae638032"
      },
      "source": [
        "full_path_to_file2 = os.path.join(S1_doubleA1C4_3) \n",
        "blob_service_client.get_blob_to_path('shadeimg', full_path_to_file2, full_path_to_file2)"
      ],
      "execution_count": null,
      "outputs": [
        {
          "output_type": "execute_result",
          "data": {
            "text/plain": [
              "<azure.storage.blob.models.Blob at 0x7fac62523110>"
            ]
          },
          "metadata": {},
          "execution_count": 94
        }
      ]
    },
    {
      "cell_type": "code",
      "metadata": {
        "id": "6h7uJ_3NbD0e",
        "colab": {
          "base_uri": "https://localhost:8080/"
        },
        "outputId": "27acb814-c233-4337-bb7c-965c634fedda"
      },
      "source": [
        "full_path_to_file2 = os.path.join(S1_doubleA1D2_3) \n",
        "blob_service_client.get_blob_to_path('shadeimg', full_path_to_file2, full_path_to_file2)"
      ],
      "execution_count": null,
      "outputs": [
        {
          "output_type": "execute_result",
          "data": {
            "text/plain": [
              "<azure.storage.blob.models.Blob at 0x7fac62501c10>"
            ]
          },
          "metadata": {},
          "execution_count": 95
        }
      ]
    },
    {
      "cell_type": "code",
      "metadata": {
        "id": "XG429HjrbD0e",
        "colab": {
          "base_uri": "https://localhost:8080/"
        },
        "outputId": "7c280b82-74ec-4342-8a43-375066eba081"
      },
      "source": [
        "full_path_to_file2 = os.path.join(S1_doubleA1D3_3) \n",
        "blob_service_client.get_blob_to_path('shadeimg', full_path_to_file2, full_path_to_file2)"
      ],
      "execution_count": null,
      "outputs": [
        {
          "output_type": "execute_result",
          "data": {
            "text/plain": [
              "<azure.storage.blob.models.Blob at 0x7fac624ffd10>"
            ]
          },
          "metadata": {},
          "execution_count": 96
        }
      ]
    },
    {
      "cell_type": "code",
      "metadata": {
        "id": "t7KeVGgcbD0f",
        "colab": {
          "base_uri": "https://localhost:8080/"
        },
        "outputId": "b4220bed-6dfa-4f5b-c30e-f440fc7c8d1b"
      },
      "source": [
        "full_path_to_file2 = os.path.join(S1_doubleA1D4_3) \n",
        "blob_service_client.get_blob_to_path('shadeimg', full_path_to_file2, full_path_to_file2)"
      ],
      "execution_count": null,
      "outputs": [
        {
          "output_type": "execute_result",
          "data": {
            "text/plain": [
              "<azure.storage.blob.models.Blob at 0x7fac6253dd10>"
            ]
          },
          "metadata": {},
          "execution_count": 97
        }
      ]
    },
    {
      "cell_type": "markdown",
      "metadata": {
        "id": "DwwnKHqXbD0f"
      },
      "source": [
        "###Img 4"
      ]
    },
    {
      "cell_type": "code",
      "metadata": {
        "id": "DMRu4-1FbWeJ",
        "colab": {
          "base_uri": "https://localhost:8080/"
        },
        "outputId": "4a98b74e-efcf-4acc-c680-bc97351a2517"
      },
      "source": [
        "full_path_to_file2 = os.path.join(S1_doubleA1A1_4) \n",
        "blob_service_client.get_blob_to_path('shadeimg', full_path_to_file2, full_path_to_file2)"
      ],
      "execution_count": null,
      "outputs": [
        {
          "output_type": "execute_result",
          "data": {
            "text/plain": [
              "<azure.storage.blob.models.Blob at 0x7fac62523b90>"
            ]
          },
          "metadata": {},
          "execution_count": 98
        }
      ]
    },
    {
      "cell_type": "code",
      "metadata": {
        "id": "zRYyKFZ9bWeK",
        "colab": {
          "base_uri": "https://localhost:8080/"
        },
        "outputId": "fc07aaf8-ffb8-4e3a-c838-9c694440fce0"
      },
      "source": [
        "full_path_to_file2 = os.path.join(S1_doubleA1A2_4) \n",
        "blob_service_client.get_blob_to_path('shadeimg', full_path_to_file2, full_path_to_file2)"
      ],
      "execution_count": null,
      "outputs": [
        {
          "output_type": "execute_result",
          "data": {
            "text/plain": [
              "<azure.storage.blob.models.Blob at 0x7fac6248aa90>"
            ]
          },
          "metadata": {},
          "execution_count": 99
        }
      ]
    },
    {
      "cell_type": "code",
      "metadata": {
        "id": "lidWpo37bWeK",
        "colab": {
          "base_uri": "https://localhost:8080/"
        },
        "outputId": "1b4f0126-22f1-47b7-eb41-fac291bfc164"
      },
      "source": [
        "full_path_to_file2 = os.path.join(S1_doubleA1A3_4) \n",
        "blob_service_client.get_blob_to_path('shadeimg', full_path_to_file2, full_path_to_file2)"
      ],
      "execution_count": null,
      "outputs": [
        {
          "output_type": "execute_result",
          "data": {
            "text/plain": [
              "<azure.storage.blob.models.Blob at 0x7fac624ee510>"
            ]
          },
          "metadata": {},
          "execution_count": 100
        }
      ]
    },
    {
      "cell_type": "code",
      "metadata": {
        "id": "kgHPzfDYbWeL",
        "colab": {
          "base_uri": "https://localhost:8080/"
        },
        "outputId": "9c219e9c-2211-4d29-bb5b-a8e4cd9a317d"
      },
      "source": [
        "full_path_to_file2 = os.path.join(S1_doubleA1A3_54) \n",
        "blob_service_client.get_blob_to_path('shadeimg', full_path_to_file2, full_path_to_file2)"
      ],
      "execution_count": null,
      "outputs": [
        {
          "output_type": "execute_result",
          "data": {
            "text/plain": [
              "<azure.storage.blob.models.Blob at 0x7fac624f4cd0>"
            ]
          },
          "metadata": {},
          "execution_count": 101
        }
      ]
    },
    {
      "cell_type": "code",
      "metadata": {
        "id": "2m-rE5xdbWeL",
        "colab": {
          "base_uri": "https://localhost:8080/"
        },
        "outputId": "424b221e-a203-4f58-8957-8418a4201134"
      },
      "source": [
        "full_path_to_file2 = os.path.join(S1_doubleA1A4_4) \n",
        "blob_service_client.get_blob_to_path('shadeimg', full_path_to_file2, full_path_to_file2)"
      ],
      "execution_count": null,
      "outputs": [
        {
          "output_type": "execute_result",
          "data": {
            "text/plain": [
              "<azure.storage.blob.models.Blob at 0x7fac62488d90>"
            ]
          },
          "metadata": {},
          "execution_count": 102
        }
      ]
    },
    {
      "cell_type": "code",
      "metadata": {
        "id": "P35XEE-8bWeL",
        "colab": {
          "base_uri": "https://localhost:8080/"
        },
        "outputId": "56b89415-28a3-4010-c680-d42cec12f6fc"
      },
      "source": [
        "full_path_to_file2 = os.path.join(S1_doubleA1B1_4) \n",
        "blob_service_client.get_blob_to_path('shadeimg', full_path_to_file2, full_path_to_file2)"
      ],
      "execution_count": null,
      "outputs": [
        {
          "output_type": "execute_result",
          "data": {
            "text/plain": [
              "<azure.storage.blob.models.Blob at 0x7fac6248a390>"
            ]
          },
          "metadata": {},
          "execution_count": 103
        }
      ]
    },
    {
      "cell_type": "code",
      "metadata": {
        "id": "YYRlNsp1bWeM",
        "colab": {
          "base_uri": "https://localhost:8080/"
        },
        "outputId": "6f5052bb-118f-4b43-d5bd-3de42e0f6721"
      },
      "source": [
        "full_path_to_file2 = os.path.join(S1_doubleA1B2_4) \n",
        "blob_service_client.get_blob_to_path('shadeimg', full_path_to_file2, full_path_to_file2)"
      ],
      "execution_count": null,
      "outputs": [
        {
          "output_type": "execute_result",
          "data": {
            "text/plain": [
              "<azure.storage.blob.models.Blob at 0x7fac6bbbe450>"
            ]
          },
          "metadata": {},
          "execution_count": 104
        }
      ]
    },
    {
      "cell_type": "code",
      "metadata": {
        "id": "OKicpqWtbWeM",
        "colab": {
          "base_uri": "https://localhost:8080/"
        },
        "outputId": "79619c18-addb-401c-893c-998f603ae149"
      },
      "source": [
        "full_path_to_file2 = os.path.join(S1_doubleA1B3_4) \n",
        "blob_service_client.get_blob_to_path('shadeimg', full_path_to_file2, full_path_to_file2)"
      ],
      "execution_count": null,
      "outputs": [
        {
          "output_type": "execute_result",
          "data": {
            "text/plain": [
              "<azure.storage.blob.models.Blob at 0x7fac624f4790>"
            ]
          },
          "metadata": {},
          "execution_count": 105
        }
      ]
    },
    {
      "cell_type": "code",
      "metadata": {
        "id": "336FOeuDbWeM",
        "colab": {
          "base_uri": "https://localhost:8080/"
        },
        "outputId": "5fc723ad-7c8e-4314-bfd8-8ea44c58ad45"
      },
      "source": [
        "full_path_to_file2 = os.path.join(S1_doubleA1B4_4) \n",
        "blob_service_client.get_blob_to_path('shadeimg', full_path_to_file2, full_path_to_file2)"
      ],
      "execution_count": null,
      "outputs": [
        {
          "output_type": "execute_result",
          "data": {
            "text/plain": [
              "<azure.storage.blob.models.Blob at 0x7fac624889d0>"
            ]
          },
          "metadata": {},
          "execution_count": 106
        }
      ]
    },
    {
      "cell_type": "code",
      "metadata": {
        "id": "Wy_IaQoDbWeN",
        "colab": {
          "base_uri": "https://localhost:8080/"
        },
        "outputId": "a7070646-d0c6-458c-e447-52ca6ea283af"
      },
      "source": [
        "full_path_to_file2 = os.path.join(S1_doubleA1C1_4) \n",
        "blob_service_client.get_blob_to_path('shadeimg', full_path_to_file2, full_path_to_file2)"
      ],
      "execution_count": null,
      "outputs": [
        {
          "output_type": "execute_result",
          "data": {
            "text/plain": [
              "<azure.storage.blob.models.Blob at 0x7fac62492950>"
            ]
          },
          "metadata": {},
          "execution_count": 107
        }
      ]
    },
    {
      "cell_type": "code",
      "metadata": {
        "id": "3FHNrdWqbWeN",
        "colab": {
          "base_uri": "https://localhost:8080/"
        },
        "outputId": "84bc9ff0-e20f-4e8a-fe74-5444642826e4"
      },
      "source": [
        "full_path_to_file2 = os.path.join(S1_doubleA1C2_4) \n",
        "blob_service_client.get_blob_to_path('shadeimg', full_path_to_file2, full_path_to_file2)"
      ],
      "execution_count": null,
      "outputs": [
        {
          "output_type": "execute_result",
          "data": {
            "text/plain": [
              "<azure.storage.blob.models.Blob at 0x7fac62488350>"
            ]
          },
          "metadata": {},
          "execution_count": 108
        }
      ]
    },
    {
      "cell_type": "code",
      "metadata": {
        "id": "13rum4dNbWeN",
        "colab": {
          "base_uri": "https://localhost:8080/"
        },
        "outputId": "40b057c0-c630-4903-edbf-5e4548bf5180"
      },
      "source": [
        "full_path_to_file2 = os.path.join(S1_doubleA1C3_4) \n",
        "blob_service_client.get_blob_to_path('shadeimg', full_path_to_file2, full_path_to_file2)"
      ],
      "execution_count": null,
      "outputs": [
        {
          "output_type": "execute_result",
          "data": {
            "text/plain": [
              "<azure.storage.blob.models.Blob at 0x7fac6249da50>"
            ]
          },
          "metadata": {},
          "execution_count": 109
        }
      ]
    },
    {
      "cell_type": "code",
      "metadata": {
        "id": "Kw4IEitEbWeR",
        "colab": {
          "base_uri": "https://localhost:8080/"
        },
        "outputId": "bc93f1e4-d5bd-48ca-8e7e-6938364bef09"
      },
      "source": [
        "full_path_to_file2 = os.path.join(S1_doubleA1C4_4) \n",
        "blob_service_client.get_blob_to_path('shadeimg', full_path_to_file2, full_path_to_file2)"
      ],
      "execution_count": null,
      "outputs": [
        {
          "output_type": "execute_result",
          "data": {
            "text/plain": [
              "<azure.storage.blob.models.Blob at 0x7fac6bbbe510>"
            ]
          },
          "metadata": {},
          "execution_count": 110
        }
      ]
    },
    {
      "cell_type": "code",
      "metadata": {
        "id": "Qmgtor9LbWeS",
        "colab": {
          "base_uri": "https://localhost:8080/"
        },
        "outputId": "b677f619-b127-4b3c-e83e-a1ad16252302"
      },
      "source": [
        "full_path_to_file2 = os.path.join(S1_doubleA1D2_4) \n",
        "blob_service_client.get_blob_to_path('shadeimg', full_path_to_file2, full_path_to_file2)"
      ],
      "execution_count": null,
      "outputs": [
        {
          "output_type": "execute_result",
          "data": {
            "text/plain": [
              "<azure.storage.blob.models.Blob at 0x7fac624f3110>"
            ]
          },
          "metadata": {},
          "execution_count": 111
        }
      ]
    },
    {
      "cell_type": "code",
      "metadata": {
        "id": "2JHIpGlebWeS",
        "colab": {
          "base_uri": "https://localhost:8080/"
        },
        "outputId": "ee19f78a-9c54-4418-aee5-e939777ffa9e"
      },
      "source": [
        "full_path_to_file2 = os.path.join(S1_doubleA1D3_4) \n",
        "blob_service_client.get_blob_to_path('shadeimg', full_path_to_file2, full_path_to_file2)"
      ],
      "execution_count": null,
      "outputs": [
        {
          "output_type": "execute_result",
          "data": {
            "text/plain": [
              "<azure.storage.blob.models.Blob at 0x7fac6249d2d0>"
            ]
          },
          "metadata": {},
          "execution_count": 112
        }
      ]
    },
    {
      "cell_type": "code",
      "metadata": {
        "id": "EQcWyvujbWeS",
        "colab": {
          "base_uri": "https://localhost:8080/"
        },
        "outputId": "fe0522dd-b2ba-4763-93c1-dbb99a57d405"
      },
      "source": [
        "full_path_to_file2 = os.path.join(S1_doubleA1D4_4) \n",
        "blob_service_client.get_blob_to_path('shadeimg', full_path_to_file2, full_path_to_file2)"
      ],
      "execution_count": null,
      "outputs": [
        {
          "output_type": "execute_result",
          "data": {
            "text/plain": [
              "<azure.storage.blob.models.Blob at 0x7fac624f4c10>"
            ]
          },
          "metadata": {},
          "execution_count": 113
        }
      ]
    },
    {
      "cell_type": "markdown",
      "metadata": {
        "id": "ezvfgEdqbWeT"
      },
      "source": [
        "###Img 5"
      ]
    },
    {
      "cell_type": "code",
      "metadata": {
        "id": "yoR9sgpTbmP7",
        "colab": {
          "base_uri": "https://localhost:8080/"
        },
        "outputId": "7b30bf56-33b3-43ed-faeb-d88da3f22447"
      },
      "source": [
        "full_path_to_file2 = os.path.join(S1_doubleA1A1_5) \n",
        "blob_service_client.get_blob_to_path('shadeimg', full_path_to_file2, full_path_to_file2)"
      ],
      "execution_count": null,
      "outputs": [
        {
          "output_type": "execute_result",
          "data": {
            "text/plain": [
              "<azure.storage.blob.models.Blob at 0x7fac6250bc10>"
            ]
          },
          "metadata": {},
          "execution_count": 114
        }
      ]
    },
    {
      "cell_type": "code",
      "metadata": {
        "id": "qQ4h1WnhbmP8",
        "colab": {
          "base_uri": "https://localhost:8080/"
        },
        "outputId": "e7cb22cc-8e07-435e-a278-0fb7f231b849"
      },
      "source": [
        "full_path_to_file2 = os.path.join(S1_doubleA1A2_5) \n",
        "blob_service_client.get_blob_to_path('shadeimg', full_path_to_file2, full_path_to_file2)"
      ],
      "execution_count": null,
      "outputs": [
        {
          "output_type": "execute_result",
          "data": {
            "text/plain": [
              "<azure.storage.blob.models.Blob at 0x7fac624a3fd0>"
            ]
          },
          "metadata": {},
          "execution_count": 115
        }
      ]
    },
    {
      "cell_type": "code",
      "metadata": {
        "id": "x_iwy9albmP8",
        "colab": {
          "base_uri": "https://localhost:8080/"
        },
        "outputId": "1775d6a4-9218-4cfd-b91f-ceb67eaab3fa"
      },
      "source": [
        "full_path_to_file2 = os.path.join(S1_doubleA1A3_5) \n",
        "blob_service_client.get_blob_to_path('shadeimg', full_path_to_file2, full_path_to_file2)"
      ],
      "execution_count": null,
      "outputs": [
        {
          "output_type": "execute_result",
          "data": {
            "text/plain": [
              "<azure.storage.blob.models.Blob at 0x7fac624a3c90>"
            ]
          },
          "metadata": {},
          "execution_count": 116
        }
      ]
    },
    {
      "cell_type": "code",
      "metadata": {
        "id": "49xnybwnbmP9",
        "colab": {
          "base_uri": "https://localhost:8080/"
        },
        "outputId": "fa8a7c71-6d62-4cf0-d049-d28fb588bc0e"
      },
      "source": [
        "full_path_to_file2 = os.path.join(S1_doubleA1A3_55) \n",
        "blob_service_client.get_blob_to_path('shadeimg', full_path_to_file2, full_path_to_file2)"
      ],
      "execution_count": null,
      "outputs": [
        {
          "output_type": "execute_result",
          "data": {
            "text/plain": [
              "<azure.storage.blob.models.Blob at 0x7fac6299da90>"
            ]
          },
          "metadata": {},
          "execution_count": 117
        }
      ]
    },
    {
      "cell_type": "code",
      "metadata": {
        "id": "2qPaEWIHbmP9",
        "colab": {
          "base_uri": "https://localhost:8080/"
        },
        "outputId": "abcf5925-1988-4695-fe80-29eb2c854976"
      },
      "source": [
        "full_path_to_file2 = os.path.join(S1_doubleA1A4_5) \n",
        "blob_service_client.get_blob_to_path('shadeimg', full_path_to_file2, full_path_to_file2)"
      ],
      "execution_count": null,
      "outputs": [
        {
          "output_type": "execute_result",
          "data": {
            "text/plain": [
              "<azure.storage.blob.models.Blob at 0x7fac624c7ed0>"
            ]
          },
          "metadata": {},
          "execution_count": 118
        }
      ]
    },
    {
      "cell_type": "code",
      "metadata": {
        "id": "NCLFk_7-bmP-",
        "colab": {
          "base_uri": "https://localhost:8080/"
        },
        "outputId": "983d9513-05ce-4905-ec13-01e43f7bc9b6"
      },
      "source": [
        "full_path_to_file2 = os.path.join(S1_doubleA1B1_5) \n",
        "blob_service_client.get_blob_to_path('shadeimg', full_path_to_file2, full_path_to_file2)"
      ],
      "execution_count": null,
      "outputs": [
        {
          "output_type": "execute_result",
          "data": {
            "text/plain": [
              "<azure.storage.blob.models.Blob at 0x7fac6249d790>"
            ]
          },
          "metadata": {},
          "execution_count": 119
        }
      ]
    },
    {
      "cell_type": "code",
      "metadata": {
        "id": "7q2YWqaibmP_",
        "colab": {
          "base_uri": "https://localhost:8080/"
        },
        "outputId": "4abefed5-952d-4148-c6a5-9e9eb540709e"
      },
      "source": [
        "full_path_to_file2 = os.path.join(S1_doubleA1B2_5) \n",
        "blob_service_client.get_blob_to_path('shadeimg', full_path_to_file2, full_path_to_file2)"
      ],
      "execution_count": null,
      "outputs": [
        {
          "output_type": "execute_result",
          "data": {
            "text/plain": [
              "<azure.storage.blob.models.Blob at 0x7fac62488890>"
            ]
          },
          "metadata": {},
          "execution_count": 120
        }
      ]
    },
    {
      "cell_type": "code",
      "metadata": {
        "id": "_5O9dHpobmQA",
        "colab": {
          "base_uri": "https://localhost:8080/"
        },
        "outputId": "dcb6c284-311e-498b-d26b-2d3ba69cb0ed"
      },
      "source": [
        "full_path_to_file2 = os.path.join(S1_doubleA1B3_5) \n",
        "blob_service_client.get_blob_to_path('shadeimg', full_path_to_file2, full_path_to_file2)"
      ],
      "execution_count": null,
      "outputs": [
        {
          "output_type": "execute_result",
          "data": {
            "text/plain": [
              "<azure.storage.blob.models.Blob at 0x7fac624a6910>"
            ]
          },
          "metadata": {},
          "execution_count": 121
        }
      ]
    },
    {
      "cell_type": "code",
      "metadata": {
        "id": "JSI7Q1QibmQB",
        "colab": {
          "base_uri": "https://localhost:8080/"
        },
        "outputId": "957d6d30-9f3e-40c3-8734-110ffc9426ac"
      },
      "source": [
        "full_path_to_file2 = os.path.join(S1_doubleA1B4_5) \n",
        "blob_service_client.get_blob_to_path('shadeimg', full_path_to_file2, full_path_to_file2)"
      ],
      "execution_count": null,
      "outputs": [
        {
          "output_type": "execute_result",
          "data": {
            "text/plain": [
              "<azure.storage.blob.models.Blob at 0x7fac624a6c90>"
            ]
          },
          "metadata": {},
          "execution_count": 122
        }
      ]
    },
    {
      "cell_type": "code",
      "metadata": {
        "id": "gkbg-IqBbmQD",
        "colab": {
          "base_uri": "https://localhost:8080/"
        },
        "outputId": "7ec87e8e-4828-47a1-8231-3c062377746f"
      },
      "source": [
        "full_path_to_file2 = os.path.join(S1_doubleA1C1_5) \n",
        "blob_service_client.get_blob_to_path('shadeimg', full_path_to_file2, full_path_to_file2)"
      ],
      "execution_count": null,
      "outputs": [
        {
          "output_type": "execute_result",
          "data": {
            "text/plain": [
              "<azure.storage.blob.models.Blob at 0x7fac624b0e90>"
            ]
          },
          "metadata": {},
          "execution_count": 123
        }
      ]
    },
    {
      "cell_type": "code",
      "metadata": {
        "id": "2NX90r4EbmQD",
        "colab": {
          "base_uri": "https://localhost:8080/"
        },
        "outputId": "a3e2bde2-3943-4bcf-a639-84748e0c90e8"
      },
      "source": [
        "full_path_to_file2 = os.path.join(S1_doubleA1C2_5) \n",
        "blob_service_client.get_blob_to_path('shadeimg', full_path_to_file2, full_path_to_file2)"
      ],
      "execution_count": null,
      "outputs": [
        {
          "output_type": "execute_result",
          "data": {
            "text/plain": [
              "<azure.storage.blob.models.Blob at 0x7fac629a4610>"
            ]
          },
          "metadata": {},
          "execution_count": 124
        }
      ]
    },
    {
      "cell_type": "code",
      "metadata": {
        "id": "UoqalvodbmQE",
        "colab": {
          "base_uri": "https://localhost:8080/"
        },
        "outputId": "7b8307ef-0d54-4ea7-d875-1ce28ae3b586"
      },
      "source": [
        "full_path_to_file2 = os.path.join(S1_doubleA1C3_5) \n",
        "blob_service_client.get_blob_to_path('shadeimg', full_path_to_file2, full_path_to_file2)"
      ],
      "execution_count": null,
      "outputs": [
        {
          "output_type": "execute_result",
          "data": {
            "text/plain": [
              "<azure.storage.blob.models.Blob at 0x7fac62501b50>"
            ]
          },
          "metadata": {},
          "execution_count": 125
        }
      ]
    },
    {
      "cell_type": "code",
      "metadata": {
        "id": "96--GVnebmQE",
        "colab": {
          "base_uri": "https://localhost:8080/"
        },
        "outputId": "5beabfc7-c717-4acb-fcf9-00c37af1c1a4"
      },
      "source": [
        "full_path_to_file2 = os.path.join(S1_doubleA1C4_5) \n",
        "blob_service_client.get_blob_to_path('shadeimg', full_path_to_file2, full_path_to_file2)"
      ],
      "execution_count": null,
      "outputs": [
        {
          "output_type": "execute_result",
          "data": {
            "text/plain": [
              "<azure.storage.blob.models.Blob at 0x7fac624a6e50>"
            ]
          },
          "metadata": {},
          "execution_count": 126
        }
      ]
    },
    {
      "cell_type": "code",
      "metadata": {
        "id": "4IJdoMddbmQF",
        "colab": {
          "base_uri": "https://localhost:8080/"
        },
        "outputId": "7446dd94-9ea4-4b72-bb2e-6aa36f96099f"
      },
      "source": [
        "full_path_to_file2 = os.path.join(S1_doubleA1D2_5) \n",
        "blob_service_client.get_blob_to_path('shadeimg', full_path_to_file2, full_path_to_file2)"
      ],
      "execution_count": null,
      "outputs": [
        {
          "output_type": "execute_result",
          "data": {
            "text/plain": [
              "<azure.storage.blob.models.Blob at 0x7fac624b0e10>"
            ]
          },
          "metadata": {},
          "execution_count": 127
        }
      ]
    },
    {
      "cell_type": "code",
      "metadata": {
        "id": "YZzMUE6DbmQF",
        "colab": {
          "base_uri": "https://localhost:8080/"
        },
        "outputId": "9007450a-95fb-4d57-e367-e6fab4a0c418"
      },
      "source": [
        "full_path_to_file2 = os.path.join(S1_doubleA1D3_5) \n",
        "blob_service_client.get_blob_to_path('shadeimg', full_path_to_file2, full_path_to_file2)"
      ],
      "execution_count": null,
      "outputs": [
        {
          "output_type": "execute_result",
          "data": {
            "text/plain": [
              "<azure.storage.blob.models.Blob at 0x7fac624ae350>"
            ]
          },
          "metadata": {},
          "execution_count": 128
        }
      ]
    },
    {
      "cell_type": "code",
      "metadata": {
        "id": "OoBgpK07bmQG",
        "colab": {
          "base_uri": "https://localhost:8080/"
        },
        "outputId": "89009e12-4d9c-4f65-df79-4d8b33eb6fe2"
      },
      "source": [
        "full_path_to_file2 = os.path.join(S1_doubleA1D4_5) \n",
        "blob_service_client.get_blob_to_path('shadeimg', full_path_to_file2, full_path_to_file2)"
      ],
      "execution_count": null,
      "outputs": [
        {
          "output_type": "execute_result",
          "data": {
            "text/plain": [
              "<azure.storage.blob.models.Blob at 0x7fac624c05d0>"
            ]
          },
          "metadata": {},
          "execution_count": 129
        }
      ]
    },
    {
      "cell_type": "markdown",
      "metadata": {
        "id": "U6Fd2_jPbmQG"
      },
      "source": [
        "###Img 6"
      ]
    },
    {
      "cell_type": "code",
      "metadata": {
        "id": "i7XyegVLb9IM",
        "colab": {
          "base_uri": "https://localhost:8080/"
        },
        "outputId": "2556e57f-f02b-40ac-d69e-e4a723b12436"
      },
      "source": [
        "full_path_to_file2 = os.path.join(S1_doubleA1A1_6) \n",
        "blob_service_client.get_blob_to_path('shadeimg', full_path_to_file2, full_path_to_file2)"
      ],
      "execution_count": null,
      "outputs": [
        {
          "output_type": "execute_result",
          "data": {
            "text/plain": [
              "<azure.storage.blob.models.Blob at 0x7fac624c0b50>"
            ]
          },
          "metadata": {},
          "execution_count": 130
        }
      ]
    },
    {
      "cell_type": "code",
      "metadata": {
        "id": "Zagpv4tQb9IO",
        "colab": {
          "base_uri": "https://localhost:8080/"
        },
        "outputId": "041cc33b-eee5-43f1-9a70-e6a48a4b9c1a"
      },
      "source": [
        "full_path_to_file2 = os.path.join(S1_doubleA1A2_6) \n",
        "blob_service_client.get_blob_to_path('shadeimg', full_path_to_file2, full_path_to_file2)"
      ],
      "execution_count": null,
      "outputs": [
        {
          "output_type": "execute_result",
          "data": {
            "text/plain": [
              "<azure.storage.blob.models.Blob at 0x7fac624ac450>"
            ]
          },
          "metadata": {},
          "execution_count": 131
        }
      ]
    },
    {
      "cell_type": "code",
      "metadata": {
        "id": "UWcC4tRyb9IP",
        "colab": {
          "base_uri": "https://localhost:8080/"
        },
        "outputId": "7aab96e7-49ed-49f9-b656-6348dcb3452e"
      },
      "source": [
        "full_path_to_file2 = os.path.join(S1_doubleA1A3_6) \n",
        "blob_service_client.get_blob_to_path('shadeimg', full_path_to_file2, full_path_to_file2)"
      ],
      "execution_count": null,
      "outputs": [
        {
          "output_type": "execute_result",
          "data": {
            "text/plain": [
              "<azure.storage.blob.models.Blob at 0x7fac6bbfcb10>"
            ]
          },
          "metadata": {},
          "execution_count": 132
        }
      ]
    },
    {
      "cell_type": "code",
      "metadata": {
        "id": "BBYyPUrub9IQ",
        "colab": {
          "base_uri": "https://localhost:8080/"
        },
        "outputId": "d0925b12-7fb0-4cdd-9051-5d0a2d20ca50"
      },
      "source": [
        "full_path_to_file2 = os.path.join(S1_doubleA1A3_56) \n",
        "blob_service_client.get_blob_to_path('shadeimg', full_path_to_file2, full_path_to_file2)"
      ],
      "execution_count": null,
      "outputs": [
        {
          "output_type": "execute_result",
          "data": {
            "text/plain": [
              "<azure.storage.blob.models.Blob at 0x7fac624ac950>"
            ]
          },
          "metadata": {},
          "execution_count": 133
        }
      ]
    },
    {
      "cell_type": "code",
      "metadata": {
        "id": "tSylDDyWb9IQ",
        "colab": {
          "base_uri": "https://localhost:8080/"
        },
        "outputId": "f24a4235-5d95-4b66-f943-7c52846d4f7f"
      },
      "source": [
        "full_path_to_file2 = os.path.join(S1_doubleA1A4_6) \n",
        "blob_service_client.get_blob_to_path('shadeimg', full_path_to_file2, full_path_to_file2)"
      ],
      "execution_count": null,
      "outputs": [
        {
          "output_type": "execute_result",
          "data": {
            "text/plain": [
              "<azure.storage.blob.models.Blob at 0x7fac624bb110>"
            ]
          },
          "metadata": {},
          "execution_count": 134
        }
      ]
    },
    {
      "cell_type": "code",
      "metadata": {
        "id": "lpuKqhPhb9IR",
        "colab": {
          "base_uri": "https://localhost:8080/"
        },
        "outputId": "2507b40f-4453-45aa-fd19-098dd5556eef"
      },
      "source": [
        "full_path_to_file2 = os.path.join(S1_doubleA1B1_6) \n",
        "blob_service_client.get_blob_to_path('shadeimg', full_path_to_file2, full_path_to_file2)"
      ],
      "execution_count": null,
      "outputs": [
        {
          "output_type": "execute_result",
          "data": {
            "text/plain": [
              "<azure.storage.blob.models.Blob at 0x7fac6249df50>"
            ]
          },
          "metadata": {},
          "execution_count": 135
        }
      ]
    },
    {
      "cell_type": "code",
      "metadata": {
        "id": "e1bQuqXmb9IR",
        "colab": {
          "base_uri": "https://localhost:8080/"
        },
        "outputId": "24e9aa2e-adb4-486c-da1c-0b428246755d"
      },
      "source": [
        "full_path_to_file2 = os.path.join(S1_doubleA1B2_6) \n",
        "blob_service_client.get_blob_to_path('shadeimg', full_path_to_file2, full_path_to_file2)"
      ],
      "execution_count": null,
      "outputs": [
        {
          "output_type": "execute_result",
          "data": {
            "text/plain": [
              "<azure.storage.blob.models.Blob at 0x7fac624bbb50>"
            ]
          },
          "metadata": {},
          "execution_count": 136
        }
      ]
    },
    {
      "cell_type": "code",
      "metadata": {
        "id": "ieU6Kw2eb9IS",
        "colab": {
          "base_uri": "https://localhost:8080/"
        },
        "outputId": "b5510075-0593-46ea-80aa-e11587086037"
      },
      "source": [
        "full_path_to_file2 = os.path.join(S1_doubleA1B3_6) \n",
        "blob_service_client.get_blob_to_path('shadeimg', full_path_to_file2, full_path_to_file2)"
      ],
      "execution_count": null,
      "outputs": [
        {
          "output_type": "execute_result",
          "data": {
            "text/plain": [
              "<azure.storage.blob.models.Blob at 0x7fac6244f250>"
            ]
          },
          "metadata": {},
          "execution_count": 137
        }
      ]
    },
    {
      "cell_type": "code",
      "metadata": {
        "id": "SS4vOfTQb9IS",
        "colab": {
          "base_uri": "https://localhost:8080/"
        },
        "outputId": "3a69982b-012d-4e2b-d0d5-a84f39bc7936"
      },
      "source": [
        "full_path_to_file2 = os.path.join(S1_doubleA1B4_6) \n",
        "blob_service_client.get_blob_to_path('shadeimg', full_path_to_file2, full_path_to_file2)"
      ],
      "execution_count": null,
      "outputs": [
        {
          "output_type": "execute_result",
          "data": {
            "text/plain": [
              "<azure.storage.blob.models.Blob at 0x7fac624aced0>"
            ]
          },
          "metadata": {},
          "execution_count": 138
        }
      ]
    },
    {
      "cell_type": "code",
      "metadata": {
        "id": "j7YVL-htb9IT",
        "colab": {
          "base_uri": "https://localhost:8080/"
        },
        "outputId": "51abaac9-28e4-4f0b-9828-a0d6c5a12b7d"
      },
      "source": [
        "full_path_to_file2 = os.path.join(S1_doubleA1C1_6) \n",
        "blob_service_client.get_blob_to_path('shadeimg', full_path_to_file2, full_path_to_file2)"
      ],
      "execution_count": null,
      "outputs": [
        {
          "output_type": "execute_result",
          "data": {
            "text/plain": [
              "<azure.storage.blob.models.Blob at 0x7fac624c0050>"
            ]
          },
          "metadata": {},
          "execution_count": 139
        }
      ]
    },
    {
      "cell_type": "code",
      "metadata": {
        "id": "qVn6TAc6b9IT",
        "colab": {
          "base_uri": "https://localhost:8080/"
        },
        "outputId": "f7df3056-7b4f-4249-a8a7-0c3338947386"
      },
      "source": [
        "full_path_to_file2 = os.path.join(S1_doubleA1C2_6) \n",
        "blob_service_client.get_blob_to_path('shadeimg', full_path_to_file2, full_path_to_file2)"
      ],
      "execution_count": null,
      "outputs": [
        {
          "output_type": "execute_result",
          "data": {
            "text/plain": [
              "<azure.storage.blob.models.Blob at 0x7fac62492810>"
            ]
          },
          "metadata": {},
          "execution_count": 140
        }
      ]
    },
    {
      "cell_type": "code",
      "metadata": {
        "id": "rjPQBRf_b9IU",
        "colab": {
          "base_uri": "https://localhost:8080/"
        },
        "outputId": "4e50af49-02cc-4451-fab0-13a7f4786946"
      },
      "source": [
        "full_path_to_file2 = os.path.join(S1_doubleA1C3_6) \n",
        "blob_service_client.get_blob_to_path('shadeimg', full_path_to_file2, full_path_to_file2)"
      ],
      "execution_count": null,
      "outputs": [
        {
          "output_type": "execute_result",
          "data": {
            "text/plain": [
              "<azure.storage.blob.models.Blob at 0x7fac6244f390>"
            ]
          },
          "metadata": {},
          "execution_count": 141
        }
      ]
    },
    {
      "cell_type": "code",
      "metadata": {
        "id": "R5gypMmgb9IU",
        "colab": {
          "base_uri": "https://localhost:8080/"
        },
        "outputId": "ccfb71b2-8420-4490-d77a-7d26e03b969b"
      },
      "source": [
        "full_path_to_file2 = os.path.join(S1_doubleA1C4_6) \n",
        "blob_service_client.get_blob_to_path('shadeimg', full_path_to_file2, full_path_to_file2)"
      ],
      "execution_count": null,
      "outputs": [
        {
          "output_type": "execute_result",
          "data": {
            "text/plain": [
              "<azure.storage.blob.models.Blob at 0x7fac624b0d10>"
            ]
          },
          "metadata": {},
          "execution_count": 142
        }
      ]
    },
    {
      "cell_type": "code",
      "metadata": {
        "id": "oKz9JEbIb9IU",
        "colab": {
          "base_uri": "https://localhost:8080/"
        },
        "outputId": "07128d21-e136-4ade-8896-b52597c380c0"
      },
      "source": [
        "full_path_to_file2 = os.path.join(S1_doubleA1D2_6) \n",
        "blob_service_client.get_blob_to_path('shadeimg', full_path_to_file2, full_path_to_file2)"
      ],
      "execution_count": null,
      "outputs": [
        {
          "output_type": "execute_result",
          "data": {
            "text/plain": [
              "<azure.storage.blob.models.Blob at 0x7fac62451950>"
            ]
          },
          "metadata": {},
          "execution_count": 143
        }
      ]
    },
    {
      "cell_type": "code",
      "metadata": {
        "id": "Xn0ERNxxb9IV",
        "colab": {
          "base_uri": "https://localhost:8080/"
        },
        "outputId": "442aeef0-a3f2-49dc-f143-f38e647baca8"
      },
      "source": [
        "full_path_to_file2 = os.path.join(S1_doubleA1D3_6) \n",
        "blob_service_client.get_blob_to_path('shadeimg', full_path_to_file2, full_path_to_file2)"
      ],
      "execution_count": null,
      "outputs": [
        {
          "output_type": "execute_result",
          "data": {
            "text/plain": [
              "<azure.storage.blob.models.Blob at 0x7fac6245c4d0>"
            ]
          },
          "metadata": {},
          "execution_count": 144
        }
      ]
    },
    {
      "cell_type": "code",
      "metadata": {
        "id": "1DFFxWhNb9IV",
        "colab": {
          "base_uri": "https://localhost:8080/"
        },
        "outputId": "a30f12c7-57a8-4080-c227-481c4e3dde16"
      },
      "source": [
        "full_path_to_file2 = os.path.join(S1_doubleA1D4_6) \n",
        "blob_service_client.get_blob_to_path('shadeimg', full_path_to_file2, full_path_to_file2)"
      ],
      "execution_count": null,
      "outputs": [
        {
          "output_type": "execute_result",
          "data": {
            "text/plain": [
              "<azure.storage.blob.models.Blob at 0x7fac6244f150>"
            ]
          },
          "metadata": {},
          "execution_count": 145
        }
      ]
    },
    {
      "cell_type": "markdown",
      "metadata": {
        "id": "a2ed5X34b9IW"
      },
      "source": [
        "###Img 7"
      ]
    },
    {
      "cell_type": "code",
      "metadata": {
        "id": "FFsZh3t8cN2E",
        "colab": {
          "base_uri": "https://localhost:8080/"
        },
        "outputId": "bfe7e6f3-6e32-47eb-a462-28d6f5c62fc8"
      },
      "source": [
        "full_path_to_file2 = os.path.join(S1_doubleA1A1_7) \n",
        "blob_service_client.get_blob_to_path('shadeimg', full_path_to_file2, full_path_to_file2)"
      ],
      "execution_count": null,
      "outputs": [
        {
          "output_type": "execute_result",
          "data": {
            "text/plain": [
              "<azure.storage.blob.models.Blob at 0x7fac6245cd90>"
            ]
          },
          "metadata": {},
          "execution_count": 146
        }
      ]
    },
    {
      "cell_type": "code",
      "metadata": {
        "id": "Jh6Mx6MYcN2F",
        "colab": {
          "base_uri": "https://localhost:8080/"
        },
        "outputId": "2aaf6b1d-2bd1-4001-e2a7-048c601fc782"
      },
      "source": [
        "full_path_to_file2 = os.path.join(S1_doubleA1A2_7) \n",
        "blob_service_client.get_blob_to_path('shadeimg', full_path_to_file2, full_path_to_file2)"
      ],
      "execution_count": null,
      "outputs": [
        {
          "output_type": "execute_result",
          "data": {
            "text/plain": [
              "<azure.storage.blob.models.Blob at 0x7fac624bb550>"
            ]
          },
          "metadata": {},
          "execution_count": 147
        }
      ]
    },
    {
      "cell_type": "code",
      "metadata": {
        "id": "spjaRH7NcN2F",
        "colab": {
          "base_uri": "https://localhost:8080/"
        },
        "outputId": "c72f3590-c61e-4d1f-b87f-5226f40fbd9e"
      },
      "source": [
        "full_path_to_file2 = os.path.join(S1_doubleA1A3_7) \n",
        "blob_service_client.get_blob_to_path('shadeimg', full_path_to_file2, full_path_to_file2)"
      ],
      "execution_count": null,
      "outputs": [
        {
          "output_type": "execute_result",
          "data": {
            "text/plain": [
              "<azure.storage.blob.models.Blob at 0x7fac6244f4d0>"
            ]
          },
          "metadata": {},
          "execution_count": 148
        }
      ]
    },
    {
      "cell_type": "code",
      "metadata": {
        "id": "jmVDCiU8cN2F",
        "colab": {
          "base_uri": "https://localhost:8080/"
        },
        "outputId": "002c07a6-554b-499f-99c6-7dcc7591d214"
      },
      "source": [
        "full_path_to_file2 = os.path.join(S1_doubleA1A3_57) \n",
        "blob_service_client.get_blob_to_path('shadeimg', full_path_to_file2, full_path_to_file2)"
      ],
      "execution_count": null,
      "outputs": [
        {
          "output_type": "execute_result",
          "data": {
            "text/plain": [
              "<azure.storage.blob.models.Blob at 0x7fac6244f310>"
            ]
          },
          "metadata": {},
          "execution_count": 149
        }
      ]
    },
    {
      "cell_type": "code",
      "metadata": {
        "id": "ar-0xgRUcN2G",
        "colab": {
          "base_uri": "https://localhost:8080/"
        },
        "outputId": "d20c48cd-5712-46cc-8c90-411bb5224f08"
      },
      "source": [
        "full_path_to_file2 = os.path.join(S1_doubleA1A4_7) \n",
        "blob_service_client.get_blob_to_path('shadeimg', full_path_to_file2, full_path_to_file2)"
      ],
      "execution_count": null,
      "outputs": [
        {
          "output_type": "execute_result",
          "data": {
            "text/plain": [
              "<azure.storage.blob.models.Blob at 0x7fac6245cf50>"
            ]
          },
          "metadata": {},
          "execution_count": 150
        }
      ]
    },
    {
      "cell_type": "code",
      "metadata": {
        "id": "V1DPXDWZcN2G",
        "colab": {
          "base_uri": "https://localhost:8080/"
        },
        "outputId": "c2a61490-50ed-4d60-ee65-e4baba166c02"
      },
      "source": [
        "full_path_to_file2 = os.path.join(S1_doubleA1B1_7) \n",
        "blob_service_client.get_blob_to_path('shadeimg', full_path_to_file2, full_path_to_file2)"
      ],
      "execution_count": null,
      "outputs": [
        {
          "output_type": "execute_result",
          "data": {
            "text/plain": [
              "<azure.storage.blob.models.Blob at 0x7fac62451a10>"
            ]
          },
          "metadata": {},
          "execution_count": 151
        }
      ]
    },
    {
      "cell_type": "code",
      "metadata": {
        "id": "UsfL1gB7cN2H",
        "colab": {
          "base_uri": "https://localhost:8080/"
        },
        "outputId": "d18427b3-add2-44c2-b895-6983a24a49a6"
      },
      "source": [
        "full_path_to_file2 = os.path.join(S1_doubleA1B2_7) \n",
        "blob_service_client.get_blob_to_path('shadeimg', full_path_to_file2, full_path_to_file2)"
      ],
      "execution_count": null,
      "outputs": [
        {
          "output_type": "execute_result",
          "data": {
            "text/plain": [
              "<azure.storage.blob.models.Blob at 0x7fac62469350>"
            ]
          },
          "metadata": {},
          "execution_count": 152
        }
      ]
    },
    {
      "cell_type": "code",
      "metadata": {
        "id": "q3evyD4IcN2I",
        "colab": {
          "base_uri": "https://localhost:8080/"
        },
        "outputId": "d654f69a-b298-41aa-e840-31f1b1f243de"
      },
      "source": [
        "full_path_to_file2 = os.path.join(S1_doubleA1B3_7) \n",
        "blob_service_client.get_blob_to_path('shadeimg', full_path_to_file2, full_path_to_file2)"
      ],
      "execution_count": null,
      "outputs": [
        {
          "output_type": "execute_result",
          "data": {
            "text/plain": [
              "<azure.storage.blob.models.Blob at 0x7fac624a3b10>"
            ]
          },
          "metadata": {},
          "execution_count": 153
        }
      ]
    },
    {
      "cell_type": "code",
      "metadata": {
        "id": "s9H292gzcN2J",
        "colab": {
          "base_uri": "https://localhost:8080/"
        },
        "outputId": "09c98fd8-a250-45c9-d7bf-7cc43ede31e1"
      },
      "source": [
        "full_path_to_file2 = os.path.join(S1_doubleA1B4_7) \n",
        "blob_service_client.get_blob_to_path('shadeimg', full_path_to_file2, full_path_to_file2)"
      ],
      "execution_count": null,
      "outputs": [
        {
          "output_type": "execute_result",
          "data": {
            "text/plain": [
              "<azure.storage.blob.models.Blob at 0x7fac6244fe10>"
            ]
          },
          "metadata": {},
          "execution_count": 154
        }
      ]
    },
    {
      "cell_type": "code",
      "metadata": {
        "id": "xIHgZdkBcN2N",
        "colab": {
          "base_uri": "https://localhost:8080/"
        },
        "outputId": "6d631d5b-c109-4265-915b-e0b54c759f94"
      },
      "source": [
        "full_path_to_file2 = os.path.join(S1_doubleA1C1_7) \n",
        "blob_service_client.get_blob_to_path('shadeimg', full_path_to_file2, full_path_to_file2)"
      ],
      "execution_count": null,
      "outputs": [
        {
          "output_type": "execute_result",
          "data": {
            "text/plain": [
              "<azure.storage.blob.models.Blob at 0x7fac62458a50>"
            ]
          },
          "metadata": {},
          "execution_count": 155
        }
      ]
    },
    {
      "cell_type": "code",
      "metadata": {
        "id": "N4JIan0ScN2O",
        "colab": {
          "base_uri": "https://localhost:8080/"
        },
        "outputId": "cc979d93-e578-4d7e-dd41-f140e61bda0d"
      },
      "source": [
        "full_path_to_file2 = os.path.join(S1_doubleA1C2_7) \n",
        "blob_service_client.get_blob_to_path('shadeimg', full_path_to_file2, full_path_to_file2)"
      ],
      "execution_count": null,
      "outputs": [
        {
          "output_type": "execute_result",
          "data": {
            "text/plain": [
              "<azure.storage.blob.models.Blob at 0x7fac6245c050>"
            ]
          },
          "metadata": {},
          "execution_count": 156
        }
      ]
    },
    {
      "cell_type": "code",
      "metadata": {
        "id": "nvc7CoCqcN2O",
        "colab": {
          "base_uri": "https://localhost:8080/"
        },
        "outputId": "1a9d9ced-3bd1-4f7f-c3a6-9803d1dab3fc"
      },
      "source": [
        "full_path_to_file2 = os.path.join(S1_doubleA1C3_7) \n",
        "blob_service_client.get_blob_to_path('shadeimg', full_path_to_file2, full_path_to_file2)"
      ],
      "execution_count": null,
      "outputs": [
        {
          "output_type": "execute_result",
          "data": {
            "text/plain": [
              "<azure.storage.blob.models.Blob at 0x7fac62467090>"
            ]
          },
          "metadata": {},
          "execution_count": 157
        }
      ]
    },
    {
      "cell_type": "code",
      "metadata": {
        "id": "cwHPh50BcN2P",
        "colab": {
          "base_uri": "https://localhost:8080/"
        },
        "outputId": "96bd78e1-b494-454b-bee8-5ffca824930e"
      },
      "source": [
        "full_path_to_file2 = os.path.join(S1_doubleA1C4_7) \n",
        "blob_service_client.get_blob_to_path('shadeimg', full_path_to_file2, full_path_to_file2)"
      ],
      "execution_count": null,
      "outputs": [
        {
          "output_type": "execute_result",
          "data": {
            "text/plain": [
              "<azure.storage.blob.models.Blob at 0x7fac624ac710>"
            ]
          },
          "metadata": {},
          "execution_count": 158
        }
      ]
    },
    {
      "cell_type": "code",
      "metadata": {
        "id": "rc1SdEBrcN2P",
        "colab": {
          "base_uri": "https://localhost:8080/"
        },
        "outputId": "1079cad9-4d00-44d2-cd8e-d79f998e8381"
      },
      "source": [
        "full_path_to_file2 = os.path.join(S1_doubleA1D2_7) \n",
        "blob_service_client.get_blob_to_path('shadeimg', full_path_to_file2, full_path_to_file2)"
      ],
      "execution_count": null,
      "outputs": [
        {
          "output_type": "execute_result",
          "data": {
            "text/plain": [
              "<azure.storage.blob.models.Blob at 0x7fac6245cf10>"
            ]
          },
          "metadata": {},
          "execution_count": 159
        }
      ]
    },
    {
      "cell_type": "code",
      "metadata": {
        "id": "j0hTnmPqcN2Q",
        "colab": {
          "base_uri": "https://localhost:8080/"
        },
        "outputId": "d42992d6-41db-46e5-999d-c74339da0449"
      },
      "source": [
        "full_path_to_file2 = os.path.join(S1_doubleA1D3_7) \n",
        "blob_service_client.get_blob_to_path('shadeimg', full_path_to_file2, full_path_to_file2)"
      ],
      "execution_count": null,
      "outputs": [
        {
          "output_type": "execute_result",
          "data": {
            "text/plain": [
              "<azure.storage.blob.models.Blob at 0x7fac624ac0d0>"
            ]
          },
          "metadata": {},
          "execution_count": 160
        }
      ]
    },
    {
      "cell_type": "code",
      "metadata": {
        "id": "Y8jKvbEicN2Q",
        "colab": {
          "base_uri": "https://localhost:8080/"
        },
        "outputId": "847a7f21-fe80-46ba-9d3a-319ca16b3dcd"
      },
      "source": [
        "full_path_to_file2 = os.path.join(S1_doubleA1D4_7) \n",
        "blob_service_client.get_blob_to_path('shadeimg', full_path_to_file2, full_path_to_file2)"
      ],
      "execution_count": null,
      "outputs": [
        {
          "output_type": "execute_result",
          "data": {
            "text/plain": [
              "<azure.storage.blob.models.Blob at 0x7fac624bb0d0>"
            ]
          },
          "metadata": {},
          "execution_count": 161
        }
      ]
    },
    {
      "cell_type": "markdown",
      "metadata": {
        "id": "ImlQtsUbcN2R"
      },
      "source": [
        "###Img 8"
      ]
    },
    {
      "cell_type": "code",
      "metadata": {
        "id": "fSM5rYKPchb4",
        "colab": {
          "base_uri": "https://localhost:8080/"
        },
        "outputId": "2048b5b9-1625-41e8-cc56-f6f131b91ddf"
      },
      "source": [
        "full_path_to_file2 = os.path.join(S1_doubleA1A1_8) \n",
        "blob_service_client.get_blob_to_path('shadeimg', full_path_to_file2, full_path_to_file2)"
      ],
      "execution_count": null,
      "outputs": [
        {
          "output_type": "execute_result",
          "data": {
            "text/plain": [
              "<azure.storage.blob.models.Blob at 0x7fac62467b10>"
            ]
          },
          "metadata": {},
          "execution_count": 162
        }
      ]
    },
    {
      "cell_type": "code",
      "metadata": {
        "id": "Op-KsX49chb6",
        "colab": {
          "base_uri": "https://localhost:8080/"
        },
        "outputId": "0e51cab1-3681-45f4-f83d-465dbea71c3b"
      },
      "source": [
        "full_path_to_file2 = os.path.join(S1_doubleA1A2_8) \n",
        "blob_service_client.get_blob_to_path('shadeimg', full_path_to_file2, full_path_to_file2)"
      ],
      "execution_count": null,
      "outputs": [
        {
          "output_type": "execute_result",
          "data": {
            "text/plain": [
              "<azure.storage.blob.models.Blob at 0x7fac62469a50>"
            ]
          },
          "metadata": {},
          "execution_count": 163
        }
      ]
    },
    {
      "cell_type": "code",
      "metadata": {
        "id": "pZWfb-bDchb7",
        "colab": {
          "base_uri": "https://localhost:8080/"
        },
        "outputId": "0779de86-fbd8-4995-e9da-42d4cce2d430"
      },
      "source": [
        "full_path_to_file2 = os.path.join(S1_doubleA1A3_8) \n",
        "blob_service_client.get_blob_to_path('shadeimg', full_path_to_file2, full_path_to_file2)"
      ],
      "execution_count": null,
      "outputs": [
        {
          "output_type": "execute_result",
          "data": {
            "text/plain": [
              "<azure.storage.blob.models.Blob at 0x7fac62469890>"
            ]
          },
          "metadata": {},
          "execution_count": 164
        }
      ]
    },
    {
      "cell_type": "code",
      "metadata": {
        "id": "_AK3gSXzchb7",
        "colab": {
          "base_uri": "https://localhost:8080/"
        },
        "outputId": "ce0aa7e8-f659-433e-8e5c-56ffde084924"
      },
      "source": [
        "full_path_to_file2 = os.path.join(S1_doubleA1A3_58) \n",
        "blob_service_client.get_blob_to_path('shadeimg', full_path_to_file2, full_path_to_file2)"
      ],
      "execution_count": null,
      "outputs": [
        {
          "output_type": "execute_result",
          "data": {
            "text/plain": [
              "<azure.storage.blob.models.Blob at 0x7fac62474a50>"
            ]
          },
          "metadata": {},
          "execution_count": 165
        }
      ]
    },
    {
      "cell_type": "code",
      "metadata": {
        "id": "mcM1ghgRchb8",
        "colab": {
          "base_uri": "https://localhost:8080/"
        },
        "outputId": "6455087b-2f39-4ec5-f9fb-767dfeed13c6"
      },
      "source": [
        "full_path_to_file2 = os.path.join(S1_doubleA1A4_8) \n",
        "blob_service_client.get_blob_to_path('shadeimg', full_path_to_file2, full_path_to_file2)"
      ],
      "execution_count": null,
      "outputs": [
        {
          "output_type": "execute_result",
          "data": {
            "text/plain": [
              "<azure.storage.blob.models.Blob at 0x7fac6247a290>"
            ]
          },
          "metadata": {},
          "execution_count": 166
        }
      ]
    },
    {
      "cell_type": "code",
      "metadata": {
        "id": "LqzeoEhbchb9",
        "colab": {
          "base_uri": "https://localhost:8080/"
        },
        "outputId": "71cc63c1-def5-4585-f55a-0bf28c31c796"
      },
      "source": [
        "full_path_to_file2 = os.path.join(S1_doubleA1B1_8) \n",
        "blob_service_client.get_blob_to_path('shadeimg', full_path_to_file2, full_path_to_file2)"
      ],
      "execution_count": null,
      "outputs": [
        {
          "output_type": "execute_result",
          "data": {
            "text/plain": [
              "<azure.storage.blob.models.Blob at 0x7fac62539250>"
            ]
          },
          "metadata": {},
          "execution_count": 167
        }
      ]
    },
    {
      "cell_type": "code",
      "metadata": {
        "id": "ZP4J2TH2chb9",
        "colab": {
          "base_uri": "https://localhost:8080/"
        },
        "outputId": "7a848f13-c325-4017-b9d0-1651bd03867d"
      },
      "source": [
        "full_path_to_file2 = os.path.join(S1_doubleA1B2_8) \n",
        "blob_service_client.get_blob_to_path('shadeimg', full_path_to_file2, full_path_to_file2)"
      ],
      "execution_count": null,
      "outputs": [
        {
          "output_type": "execute_result",
          "data": {
            "text/plain": [
              "<azure.storage.blob.models.Blob at 0x7fac6245c990>"
            ]
          },
          "metadata": {},
          "execution_count": 168
        }
      ]
    },
    {
      "cell_type": "code",
      "metadata": {
        "id": "C5lvFtUCchb-",
        "colab": {
          "base_uri": "https://localhost:8080/"
        },
        "outputId": "0b747a50-0194-4074-c634-df029615b4fb"
      },
      "source": [
        "full_path_to_file2 = os.path.join(S1_doubleA1B3_8) \n",
        "blob_service_client.get_blob_to_path('shadeimg', full_path_to_file2, full_path_to_file2)"
      ],
      "execution_count": null,
      "outputs": [
        {
          "output_type": "execute_result",
          "data": {
            "text/plain": [
              "<azure.storage.blob.models.Blob at 0x7fac62467650>"
            ]
          },
          "metadata": {},
          "execution_count": 169
        }
      ]
    },
    {
      "cell_type": "code",
      "metadata": {
        "id": "2UJ4bxPhchb-",
        "colab": {
          "base_uri": "https://localhost:8080/"
        },
        "outputId": "873835e8-f255-47d3-877b-4c06ea1a6e4f"
      },
      "source": [
        "full_path_to_file2 = os.path.join(S1_doubleA1B4_8) \n",
        "blob_service_client.get_blob_to_path('shadeimg', full_path_to_file2, full_path_to_file2)"
      ],
      "execution_count": null,
      "outputs": [
        {
          "output_type": "execute_result",
          "data": {
            "text/plain": [
              "<azure.storage.blob.models.Blob at 0x7fac62467590>"
            ]
          },
          "metadata": {},
          "execution_count": 170
        }
      ]
    },
    {
      "cell_type": "code",
      "metadata": {
        "id": "hwFqOuAEchb_",
        "colab": {
          "base_uri": "https://localhost:8080/"
        },
        "outputId": "183b3e3a-6604-48b6-edf1-e0dfa53e9079"
      },
      "source": [
        "full_path_to_file2 = os.path.join(S1_doubleA1C1_8) \n",
        "blob_service_client.get_blob_to_path('shadeimg', full_path_to_file2, full_path_to_file2)"
      ],
      "execution_count": null,
      "outputs": [
        {
          "output_type": "execute_result",
          "data": {
            "text/plain": [
              "<azure.storage.blob.models.Blob at 0x7fac62470510>"
            ]
          },
          "metadata": {},
          "execution_count": 171
        }
      ]
    },
    {
      "cell_type": "code",
      "metadata": {
        "id": "FMhzWSHEchb_",
        "colab": {
          "base_uri": "https://localhost:8080/"
        },
        "outputId": "27ed95e1-e159-41f7-ded2-2131f1432964"
      },
      "source": [
        "full_path_to_file2 = os.path.join(S1_doubleA1C2_8) \n",
        "blob_service_client.get_blob_to_path('shadeimg', full_path_to_file2, full_path_to_file2)"
      ],
      "execution_count": null,
      "outputs": [
        {
          "output_type": "execute_result",
          "data": {
            "text/plain": [
              "<azure.storage.blob.models.Blob at 0x7fac62458b10>"
            ]
          },
          "metadata": {},
          "execution_count": 172
        }
      ]
    },
    {
      "cell_type": "code",
      "metadata": {
        "id": "iHYWAzD9chcA",
        "colab": {
          "base_uri": "https://localhost:8080/"
        },
        "outputId": "726a4a3c-8c16-42d5-9ddb-fc7b8da3d41b"
      },
      "source": [
        "full_path_to_file2 = os.path.join(S1_doubleA1C3_8) \n",
        "blob_service_client.get_blob_to_path('shadeimg', full_path_to_file2, full_path_to_file2)"
      ],
      "execution_count": null,
      "outputs": [
        {
          "output_type": "execute_result",
          "data": {
            "text/plain": [
              "<azure.storage.blob.models.Blob at 0x7fac6bba0ed0>"
            ]
          },
          "metadata": {},
          "execution_count": 173
        }
      ]
    },
    {
      "cell_type": "code",
      "metadata": {
        "id": "FLQ1OODzchcB",
        "colab": {
          "base_uri": "https://localhost:8080/"
        },
        "outputId": "9334d4aa-244b-45f3-8100-b8028d0a5708"
      },
      "source": [
        "full_path_to_file2 = os.path.join(S1_doubleA1C4_8) \n",
        "blob_service_client.get_blob_to_path('shadeimg', full_path_to_file2, full_path_to_file2)"
      ],
      "execution_count": null,
      "outputs": [
        {
          "output_type": "execute_result",
          "data": {
            "text/plain": [
              "<azure.storage.blob.models.Blob at 0x7fac6248afd0>"
            ]
          },
          "metadata": {},
          "execution_count": 174
        }
      ]
    },
    {
      "cell_type": "code",
      "metadata": {
        "id": "AdLkAS4BchcB",
        "colab": {
          "base_uri": "https://localhost:8080/"
        },
        "outputId": "6bd68dba-26c2-4686-88e2-da78eac097cd"
      },
      "source": [
        "full_path_to_file2 = os.path.join(S1_doubleA1D2_8) \n",
        "blob_service_client.get_blob_to_path('shadeimg', full_path_to_file2, full_path_to_file2)"
      ],
      "execution_count": null,
      "outputs": [
        {
          "output_type": "execute_result",
          "data": {
            "text/plain": [
              "<azure.storage.blob.models.Blob at 0x7fac62467e50>"
            ]
          },
          "metadata": {},
          "execution_count": 175
        }
      ]
    },
    {
      "cell_type": "code",
      "metadata": {
        "id": "JXZid5ZTchcC",
        "colab": {
          "base_uri": "https://localhost:8080/"
        },
        "outputId": "61dc33e2-d70b-4f6f-d83b-a10b22e010aa"
      },
      "source": [
        "full_path_to_file2 = os.path.join(S1_doubleA1D3_8) \n",
        "blob_service_client.get_blob_to_path('shadeimg', full_path_to_file2, full_path_to_file2)"
      ],
      "execution_count": null,
      "outputs": [
        {
          "output_type": "execute_result",
          "data": {
            "text/plain": [
              "<azure.storage.blob.models.Blob at 0x7fac6247a450>"
            ]
          },
          "metadata": {},
          "execution_count": 176
        }
      ]
    },
    {
      "cell_type": "code",
      "metadata": {
        "id": "PWZR0DzBchcC",
        "colab": {
          "base_uri": "https://localhost:8080/"
        },
        "outputId": "6ca88bc0-cb57-4e4a-ff78-9b161931aecc"
      },
      "source": [
        "full_path_to_file2 = os.path.join(S1_doubleA1D4_8) \n",
        "blob_service_client.get_blob_to_path('shadeimg', full_path_to_file2, full_path_to_file2)"
      ],
      "execution_count": null,
      "outputs": [
        {
          "output_type": "execute_result",
          "data": {
            "text/plain": [
              "<azure.storage.blob.models.Blob at 0x7fac6240c8d0>"
            ]
          },
          "metadata": {},
          "execution_count": 177
        }
      ]
    },
    {
      "cell_type": "markdown",
      "metadata": {
        "id": "ZdG-mg3OchcD"
      },
      "source": [
        "###Img 9"
      ]
    },
    {
      "cell_type": "code",
      "metadata": {
        "id": "rYq7b4cFctUN",
        "colab": {
          "base_uri": "https://localhost:8080/"
        },
        "outputId": "3c42e49a-3163-4071-89b2-a6057cdfed3c"
      },
      "source": [
        "full_path_to_file2 = os.path.join(S1_doubleA1A1_9) \n",
        "blob_service_client.get_blob_to_path('shadeimg', full_path_to_file2, full_path_to_file2)"
      ],
      "execution_count": null,
      "outputs": [
        {
          "output_type": "execute_result",
          "data": {
            "text/plain": [
              "<azure.storage.blob.models.Blob at 0x7fac6240cb50>"
            ]
          },
          "metadata": {},
          "execution_count": 178
        }
      ]
    },
    {
      "cell_type": "code",
      "metadata": {
        "id": "XAynDlUZctUP",
        "colab": {
          "base_uri": "https://localhost:8080/"
        },
        "outputId": "1951f15a-4705-42a3-a9df-b12c4352e91f"
      },
      "source": [
        "full_path_to_file2 = os.path.join(S1_doubleA1A2_9) \n",
        "blob_service_client.get_blob_to_path('shadeimg', full_path_to_file2, full_path_to_file2)"
      ],
      "execution_count": null,
      "outputs": [
        {
          "output_type": "execute_result",
          "data": {
            "text/plain": [
              "<azure.storage.blob.models.Blob at 0x7fac62412f50>"
            ]
          },
          "metadata": {},
          "execution_count": 179
        }
      ]
    },
    {
      "cell_type": "code",
      "metadata": {
        "id": "VBmOL3aqctUQ",
        "colab": {
          "base_uri": "https://localhost:8080/"
        },
        "outputId": "9c2a6fa8-8632-453e-8bb4-a1e70f9554bf"
      },
      "source": [
        "full_path_to_file2 = os.path.join(S1_doubleA1A3_9) \n",
        "blob_service_client.get_blob_to_path('shadeimg', full_path_to_file2, full_path_to_file2)"
      ],
      "execution_count": null,
      "outputs": [
        {
          "output_type": "execute_result",
          "data": {
            "text/plain": [
              "<azure.storage.blob.models.Blob at 0x7fac6bba2190>"
            ]
          },
          "metadata": {},
          "execution_count": 180
        }
      ]
    },
    {
      "cell_type": "code",
      "metadata": {
        "id": "8EaOqe-JctUQ",
        "colab": {
          "base_uri": "https://localhost:8080/"
        },
        "outputId": "4fabcd93-b315-4833-9176-b27976a6faa2"
      },
      "source": [
        "full_path_to_file2 = os.path.join(S1_doubleA1A3_59) \n",
        "blob_service_client.get_blob_to_path('shadeimg', full_path_to_file2, full_path_to_file2)"
      ],
      "execution_count": null,
      "outputs": [
        {
          "output_type": "execute_result",
          "data": {
            "text/plain": [
              "<azure.storage.blob.models.Blob at 0x7fac624f4810>"
            ]
          },
          "metadata": {},
          "execution_count": 181
        }
      ]
    },
    {
      "cell_type": "code",
      "metadata": {
        "id": "bmy5odNHctUR",
        "colab": {
          "base_uri": "https://localhost:8080/"
        },
        "outputId": "f31a4426-2818-43fa-886f-acea6ec924a1"
      },
      "source": [
        "full_path_to_file2 = os.path.join(S1_doubleA1A4_9) \n",
        "blob_service_client.get_blob_to_path('shadeimg', full_path_to_file2, full_path_to_file2)"
      ],
      "execution_count": null,
      "outputs": [
        {
          "output_type": "execute_result",
          "data": {
            "text/plain": [
              "<azure.storage.blob.models.Blob at 0x7fac6247a2d0>"
            ]
          },
          "metadata": {},
          "execution_count": 182
        }
      ]
    },
    {
      "cell_type": "code",
      "metadata": {
        "id": "84sL09GBctUR",
        "colab": {
          "base_uri": "https://localhost:8080/"
        },
        "outputId": "7cedd014-7f4b-4ab7-d2be-33d064faabe4"
      },
      "source": [
        "full_path_to_file2 = os.path.join(S1_doubleA1B1_9) \n",
        "blob_service_client.get_blob_to_path('shadeimg', full_path_to_file2, full_path_to_file2)"
      ],
      "execution_count": null,
      "outputs": [
        {
          "output_type": "execute_result",
          "data": {
            "text/plain": [
              "<azure.storage.blob.models.Blob at 0x7fac62470e90>"
            ]
          },
          "metadata": {},
          "execution_count": 183
        }
      ]
    },
    {
      "cell_type": "code",
      "metadata": {
        "id": "ouYSQwz5ctUR",
        "colab": {
          "base_uri": "https://localhost:8080/"
        },
        "outputId": "8cedc172-dbc2-4008-a9b1-2ee5345692b5"
      },
      "source": [
        "full_path_to_file2 = os.path.join(S1_doubleA1B2_9) \n",
        "blob_service_client.get_blob_to_path('shadeimg', full_path_to_file2, full_path_to_file2)"
      ],
      "execution_count": null,
      "outputs": [
        {
          "output_type": "execute_result",
          "data": {
            "text/plain": [
              "<azure.storage.blob.models.Blob at 0x7fac624247d0>"
            ]
          },
          "metadata": {},
          "execution_count": 184
        }
      ]
    },
    {
      "cell_type": "code",
      "metadata": {
        "id": "scvGuuKIctUS",
        "colab": {
          "base_uri": "https://localhost:8080/"
        },
        "outputId": "521b02e1-e725-4fb2-f96b-8741221d2942"
      },
      "source": [
        "full_path_to_file2 = os.path.join(S1_doubleA1B3_9) \n",
        "blob_service_client.get_blob_to_path('shadeimg', full_path_to_file2, full_path_to_file2)"
      ],
      "execution_count": null,
      "outputs": [
        {
          "output_type": "execute_result",
          "data": {
            "text/plain": [
              "<azure.storage.blob.models.Blob at 0x7fac6240fd50>"
            ]
          },
          "metadata": {},
          "execution_count": 185
        }
      ]
    },
    {
      "cell_type": "code",
      "metadata": {
        "id": "7L3uUuPSctUS",
        "colab": {
          "base_uri": "https://localhost:8080/"
        },
        "outputId": "05b99377-716a-476c-b4f5-808fbf07886c"
      },
      "source": [
        "full_path_to_file2 = os.path.join(S1_doubleA1B4_9) \n",
        "blob_service_client.get_blob_to_path('shadeimg', full_path_to_file2, full_path_to_file2)"
      ],
      "execution_count": null,
      "outputs": [
        {
          "output_type": "execute_result",
          "data": {
            "text/plain": [
              "<azure.storage.blob.models.Blob at 0x7fac62474ed0>"
            ]
          },
          "metadata": {},
          "execution_count": 186
        }
      ]
    },
    {
      "cell_type": "code",
      "metadata": {
        "id": "ntyuBvSHctUS",
        "colab": {
          "base_uri": "https://localhost:8080/"
        },
        "outputId": "f438ab0d-cccc-4c56-96cb-ad114b631760"
      },
      "source": [
        "full_path_to_file2 = os.path.join(S1_doubleA1C1_9) \n",
        "blob_service_client.get_blob_to_path('shadeimg', full_path_to_file2, full_path_to_file2)"
      ],
      "execution_count": null,
      "outputs": [
        {
          "output_type": "execute_result",
          "data": {
            "text/plain": [
              "<azure.storage.blob.models.Blob at 0x7fac6247a390>"
            ]
          },
          "metadata": {},
          "execution_count": 187
        }
      ]
    },
    {
      "cell_type": "code",
      "metadata": {
        "id": "KMtM7siRctUT",
        "colab": {
          "base_uri": "https://localhost:8080/"
        },
        "outputId": "1aedf48d-93bf-47ed-fc9d-20053da386be"
      },
      "source": [
        "full_path_to_file2 = os.path.join(S1_doubleA1C2_9) \n",
        "blob_service_client.get_blob_to_path('shadeimg', full_path_to_file2, full_path_to_file2)"
      ],
      "execution_count": null,
      "outputs": [
        {
          "output_type": "execute_result",
          "data": {
            "text/plain": [
              "<azure.storage.blob.models.Blob at 0x7fac62409790>"
            ]
          },
          "metadata": {},
          "execution_count": 188
        }
      ]
    },
    {
      "cell_type": "code",
      "metadata": {
        "id": "xAhGGPqnctUT",
        "colab": {
          "base_uri": "https://localhost:8080/"
        },
        "outputId": "2045094e-c4e8-4a0a-cf9a-a66685c87dd9"
      },
      "source": [
        "full_path_to_file2 = os.path.join(S1_doubleA1C3_9) \n",
        "blob_service_client.get_blob_to_path('shadeimg', full_path_to_file2, full_path_to_file2)"
      ],
      "execution_count": null,
      "outputs": [
        {
          "output_type": "execute_result",
          "data": {
            "text/plain": [
              "<azure.storage.blob.models.Blob at 0x7fac62421390>"
            ]
          },
          "metadata": {},
          "execution_count": 189
        }
      ]
    },
    {
      "cell_type": "code",
      "metadata": {
        "id": "5EgJUi0ectUT",
        "colab": {
          "base_uri": "https://localhost:8080/"
        },
        "outputId": "0db55937-bc48-4455-9287-fb1b29eac299"
      },
      "source": [
        "full_path_to_file2 = os.path.join(S1_doubleA1C4_9) \n",
        "blob_service_client.get_blob_to_path('shadeimg', full_path_to_file2, full_path_to_file2)"
      ],
      "execution_count": null,
      "outputs": [
        {
          "output_type": "execute_result",
          "data": {
            "text/plain": [
              "<azure.storage.blob.models.Blob at 0x7fac6240cd90>"
            ]
          },
          "metadata": {},
          "execution_count": 190
        }
      ]
    },
    {
      "cell_type": "code",
      "metadata": {
        "id": "trDvUtirctUU",
        "colab": {
          "base_uri": "https://localhost:8080/"
        },
        "outputId": "c5381fa7-977a-47f8-e801-d45cf33746b7"
      },
      "source": [
        "full_path_to_file2 = os.path.join(S1_doubleA1D2_9) \n",
        "blob_service_client.get_blob_to_path('shadeimg', full_path_to_file2, full_path_to_file2)"
      ],
      "execution_count": null,
      "outputs": [
        {
          "output_type": "execute_result",
          "data": {
            "text/plain": [
              "<azure.storage.blob.models.Blob at 0x7fac62424bd0>"
            ]
          },
          "metadata": {},
          "execution_count": 191
        }
      ]
    },
    {
      "cell_type": "code",
      "metadata": {
        "id": "R6Qw2SrhctUU",
        "colab": {
          "base_uri": "https://localhost:8080/"
        },
        "outputId": "ebb48162-d514-488c-a54f-8a4e3d8a863e"
      },
      "source": [
        "full_path_to_file2 = os.path.join(S1_doubleA1D3_9) \n",
        "blob_service_client.get_blob_to_path('shadeimg', full_path_to_file2, full_path_to_file2)"
      ],
      "execution_count": null,
      "outputs": [
        {
          "output_type": "execute_result",
          "data": {
            "text/plain": [
              "<azure.storage.blob.models.Blob at 0x7fac62427510>"
            ]
          },
          "metadata": {},
          "execution_count": 192
        }
      ]
    },
    {
      "cell_type": "code",
      "metadata": {
        "id": "BtNQurOyctUU",
        "colab": {
          "base_uri": "https://localhost:8080/"
        },
        "outputId": "c47216f8-374c-46fa-8e4f-49f8d401d0d9"
      },
      "source": [
        "full_path_to_file2 = os.path.join(S1_doubleA1D4_9) \n",
        "blob_service_client.get_blob_to_path('shadeimg', full_path_to_file2, full_path_to_file2)"
      ],
      "execution_count": null,
      "outputs": [
        {
          "output_type": "execute_result",
          "data": {
            "text/plain": [
              "<azure.storage.blob.models.Blob at 0x7fac62427c90>"
            ]
          },
          "metadata": {},
          "execution_count": 193
        }
      ]
    },
    {
      "cell_type": "markdown",
      "metadata": {
        "id": "gCPYiF7CctUV"
      },
      "source": [
        "###Img 10"
      ]
    },
    {
      "cell_type": "code",
      "metadata": {
        "id": "CY8pJg08dCgW",
        "colab": {
          "base_uri": "https://localhost:8080/"
        },
        "outputId": "ed77003f-f20e-43ef-8242-2b0c94568e52"
      },
      "source": [
        "full_path_to_file2 = os.path.join(S1_doubleA1A1_10) \n",
        "blob_service_client.get_blob_to_path('shadeimg', full_path_to_file2, full_path_to_file2)"
      ],
      "execution_count": null,
      "outputs": [
        {
          "output_type": "execute_result",
          "data": {
            "text/plain": [
              "<azure.storage.blob.models.Blob at 0x7fac624141d0>"
            ]
          },
          "metadata": {},
          "execution_count": 194
        }
      ]
    },
    {
      "cell_type": "code",
      "metadata": {
        "id": "eO-Uy8ZDdCgX",
        "colab": {
          "base_uri": "https://localhost:8080/"
        },
        "outputId": "2191fc75-bfee-428d-df71-e5b1da7a70ec"
      },
      "source": [
        "full_path_to_file2 = os.path.join(S1_doubleA1A2_10) \n",
        "blob_service_client.get_blob_to_path('shadeimg', full_path_to_file2, full_path_to_file2)"
      ],
      "execution_count": null,
      "outputs": [
        {
          "output_type": "execute_result",
          "data": {
            "text/plain": [
              "<azure.storage.blob.models.Blob at 0x7fac62474610>"
            ]
          },
          "metadata": {},
          "execution_count": 195
        }
      ]
    },
    {
      "cell_type": "code",
      "metadata": {
        "id": "7BaBGY1YdCgX",
        "colab": {
          "base_uri": "https://localhost:8080/"
        },
        "outputId": "0a60b28c-13a6-44b4-87de-f49227948b3f"
      },
      "source": [
        "full_path_to_file2 = os.path.join(S1_doubleA1A3_10) \n",
        "blob_service_client.get_blob_to_path('shadeimg', full_path_to_file2, full_path_to_file2)"
      ],
      "execution_count": null,
      "outputs": [
        {
          "output_type": "execute_result",
          "data": {
            "text/plain": [
              "<azure.storage.blob.models.Blob at 0x7fac624124d0>"
            ]
          },
          "metadata": {},
          "execution_count": 196
        }
      ]
    },
    {
      "cell_type": "code",
      "metadata": {
        "id": "0cd6HEkBdCgY",
        "colab": {
          "base_uri": "https://localhost:8080/"
        },
        "outputId": "94749bed-ff20-4d62-aa2b-b7dc1272f461"
      },
      "source": [
        "full_path_to_file2 = os.path.join(S1_doubleA1A3_510) \n",
        "blob_service_client.get_blob_to_path('shadeimg', full_path_to_file2, full_path_to_file2)"
      ],
      "execution_count": null,
      "outputs": [
        {
          "output_type": "execute_result",
          "data": {
            "text/plain": [
              "<azure.storage.blob.models.Blob at 0x7fac62409d90>"
            ]
          },
          "metadata": {},
          "execution_count": 197
        }
      ]
    },
    {
      "cell_type": "code",
      "metadata": {
        "id": "XlNW-WdsdCgY",
        "colab": {
          "base_uri": "https://localhost:8080/"
        },
        "outputId": "cbdf7978-b184-45c6-fa1e-cad2f39d4a43"
      },
      "source": [
        "full_path_to_file2 = os.path.join(S1_doubleA1A4_10) \n",
        "blob_service_client.get_blob_to_path('shadeimg', full_path_to_file2, full_path_to_file2)"
      ],
      "execution_count": null,
      "outputs": [
        {
          "output_type": "execute_result",
          "data": {
            "text/plain": [
              "<azure.storage.blob.models.Blob at 0x7fac62427950>"
            ]
          },
          "metadata": {},
          "execution_count": 198
        }
      ]
    },
    {
      "cell_type": "code",
      "metadata": {
        "id": "53sGf_CjdCgZ",
        "colab": {
          "base_uri": "https://localhost:8080/"
        },
        "outputId": "a52f4ee8-4a56-4d20-9b24-c2a93e51c242"
      },
      "source": [
        "full_path_to_file2 = os.path.join(S1_doubleA1B1_10) \n",
        "blob_service_client.get_blob_to_path('shadeimg', full_path_to_file2, full_path_to_file2)"
      ],
      "execution_count": null,
      "outputs": [
        {
          "output_type": "execute_result",
          "data": {
            "text/plain": [
              "<azure.storage.blob.models.Blob at 0x7fac62431990>"
            ]
          },
          "metadata": {},
          "execution_count": 199
        }
      ]
    },
    {
      "cell_type": "code",
      "metadata": {
        "id": "w6iOjW7wdCga",
        "colab": {
          "base_uri": "https://localhost:8080/"
        },
        "outputId": "2af769e4-e4bb-4b88-9eb6-a55e9a873cf4"
      },
      "source": [
        "full_path_to_file2 = os.path.join(S1_doubleA1B2_10) \n",
        "blob_service_client.get_blob_to_path('shadeimg', full_path_to_file2, full_path_to_file2)"
      ],
      "execution_count": null,
      "outputs": [
        {
          "output_type": "execute_result",
          "data": {
            "text/plain": [
              "<azure.storage.blob.models.Blob at 0x7fac6243d310>"
            ]
          },
          "metadata": {},
          "execution_count": 200
        }
      ]
    },
    {
      "cell_type": "code",
      "metadata": {
        "id": "H-u9nMbDdCga",
        "colab": {
          "base_uri": "https://localhost:8080/"
        },
        "outputId": "790e69ec-6c45-47c9-d3e8-d3b55d381f39"
      },
      "source": [
        "full_path_to_file2 = os.path.join(S1_doubleA1B3_10) \n",
        "blob_service_client.get_blob_to_path('shadeimg', full_path_to_file2, full_path_to_file2)"
      ],
      "execution_count": null,
      "outputs": [
        {
          "output_type": "execute_result",
          "data": {
            "text/plain": [
              "<azure.storage.blob.models.Blob at 0x7fac62421b50>"
            ]
          },
          "metadata": {},
          "execution_count": 201
        }
      ]
    },
    {
      "cell_type": "code",
      "metadata": {
        "id": "lBs9zinqdCga",
        "colab": {
          "base_uri": "https://localhost:8080/"
        },
        "outputId": "3f9e2666-4279-4535-bfbc-a830438c6509"
      },
      "source": [
        "full_path_to_file2 = os.path.join(S1_doubleA1B4_10) \n",
        "blob_service_client.get_blob_to_path('shadeimg', full_path_to_file2, full_path_to_file2)"
      ],
      "execution_count": null,
      "outputs": [
        {
          "output_type": "execute_result",
          "data": {
            "text/plain": [
              "<azure.storage.blob.models.Blob at 0x7fac62431950>"
            ]
          },
          "metadata": {},
          "execution_count": 202
        }
      ]
    },
    {
      "cell_type": "code",
      "metadata": {
        "id": "MIO_zkD6dCgb",
        "colab": {
          "base_uri": "https://localhost:8080/"
        },
        "outputId": "608981a1-77bf-4919-acb2-97355df257ee"
      },
      "source": [
        "full_path_to_file2 = os.path.join(S1_doubleA1C1_10) \n",
        "blob_service_client.get_blob_to_path('shadeimg', full_path_to_file2, full_path_to_file2)"
      ],
      "execution_count": null,
      "outputs": [
        {
          "output_type": "execute_result",
          "data": {
            "text/plain": [
              "<azure.storage.blob.models.Blob at 0x7fac6247a550>"
            ]
          },
          "metadata": {},
          "execution_count": 203
        }
      ]
    },
    {
      "cell_type": "code",
      "metadata": {
        "id": "s-Wi4x56dCgb",
        "colab": {
          "base_uri": "https://localhost:8080/"
        },
        "outputId": "56931423-7441-4732-cb08-28f8fe149e10"
      },
      "source": [
        "full_path_to_file2 = os.path.join(S1_doubleA1C2_10) \n",
        "blob_service_client.get_blob_to_path('shadeimg', full_path_to_file2, full_path_to_file2)"
      ],
      "execution_count": null,
      "outputs": [
        {
          "output_type": "execute_result",
          "data": {
            "text/plain": [
              "<azure.storage.blob.models.Blob at 0x7fac62427bd0>"
            ]
          },
          "metadata": {},
          "execution_count": 204
        }
      ]
    },
    {
      "cell_type": "code",
      "metadata": {
        "id": "M8v8BInadCgb",
        "colab": {
          "base_uri": "https://localhost:8080/"
        },
        "outputId": "c9123e26-31cf-43cf-99fb-913df73b0f64"
      },
      "source": [
        "full_path_to_file2 = os.path.join(S1_doubleA1C3_10) \n",
        "blob_service_client.get_blob_to_path('shadeimg', full_path_to_file2, full_path_to_file2)"
      ],
      "execution_count": null,
      "outputs": [
        {
          "output_type": "execute_result",
          "data": {
            "text/plain": [
              "<azure.storage.blob.models.Blob at 0x7fac62421110>"
            ]
          },
          "metadata": {},
          "execution_count": 205
        }
      ]
    },
    {
      "cell_type": "code",
      "metadata": {
        "id": "v0iXsIcvdCgc",
        "colab": {
          "base_uri": "https://localhost:8080/"
        },
        "outputId": "71d83d67-1fb2-439c-df59-68b91b66c6e2"
      },
      "source": [
        "full_path_to_file2 = os.path.join(S1_doubleA1C4_10) \n",
        "blob_service_client.get_blob_to_path('shadeimg', full_path_to_file2, full_path_to_file2)"
      ],
      "execution_count": null,
      "outputs": [
        {
          "output_type": "execute_result",
          "data": {
            "text/plain": [
              "<azure.storage.blob.models.Blob at 0x7fac624418d0>"
            ]
          },
          "metadata": {},
          "execution_count": 206
        }
      ]
    },
    {
      "cell_type": "code",
      "metadata": {
        "id": "5kNA8J27dCgc",
        "colab": {
          "base_uri": "https://localhost:8080/"
        },
        "outputId": "72752a7f-b4ce-4038-ee6c-2c42a91bc3de"
      },
      "source": [
        "full_path_to_file2 = os.path.join(S1_doubleA1D2_10) \n",
        "blob_service_client.get_blob_to_path('shadeimg', full_path_to_file2, full_path_to_file2)"
      ],
      "execution_count": null,
      "outputs": [
        {
          "output_type": "execute_result",
          "data": {
            "text/plain": [
              "<azure.storage.blob.models.Blob at 0x7fac62414150>"
            ]
          },
          "metadata": {},
          "execution_count": 207
        }
      ]
    },
    {
      "cell_type": "code",
      "metadata": {
        "id": "vlraKoCldCgc",
        "colab": {
          "base_uri": "https://localhost:8080/"
        },
        "outputId": "219b1658-9b12-4c17-e890-625e6e5ba437"
      },
      "source": [
        "full_path_to_file2 = os.path.join(S1_doubleA1D3_10) \n",
        "blob_service_client.get_blob_to_path('shadeimg', full_path_to_file2, full_path_to_file2)"
      ],
      "execution_count": null,
      "outputs": [
        {
          "output_type": "execute_result",
          "data": {
            "text/plain": [
              "<azure.storage.blob.models.Blob at 0x7fac62441a50>"
            ]
          },
          "metadata": {},
          "execution_count": 208
        }
      ]
    },
    {
      "cell_type": "code",
      "metadata": {
        "id": "h3dCacb-dCgd",
        "colab": {
          "base_uri": "https://localhost:8080/"
        },
        "outputId": "6d26cfc8-995b-4b82-b708-a1abc78ba07c"
      },
      "source": [
        "full_path_to_file2 = os.path.join(S1_doubleA1D4_10) \n",
        "blob_service_client.get_blob_to_path('shadeimg', full_path_to_file2, full_path_to_file2)"
      ],
      "execution_count": null,
      "outputs": [
        {
          "output_type": "execute_result",
          "data": {
            "text/plain": [
              "<azure.storage.blob.models.Blob at 0x7fac623d15d0>"
            ]
          },
          "metadata": {},
          "execution_count": 209
        }
      ]
    },
    {
      "cell_type": "markdown",
      "metadata": {
        "id": "MtmXOojtqN4x"
      },
      "source": [
        "#3. BGR to RGB"
      ]
    },
    {
      "cell_type": "code",
      "metadata": {
        "id": "s8SS5YJfrpRC"
      },
      "source": [
        "import cv2\n",
        "from matplotlib import pyplot as plt #การเรียกใช้คำสั่ง matplotlib เพื่อวาดกราฟ โดยแทนชื่อ matplotlib ด้วย plt\n",
        "import matplotlib"
      ],
      "execution_count": null,
      "outputs": []
    },
    {
      "cell_type": "markdown",
      "metadata": {
        "id": "tngQqkwA41EB"
      },
      "source": [
        "##Set1"
      ]
    },
    {
      "cell_type": "code",
      "metadata": {
        "id": "pjV8Jh9u4VyJ"
      },
      "source": [
        "imgS1_A1A1_1  = cv2.imread(S1_doubleA1A1_1)\n",
        "S1RGB_imgA1A1_1= cv2.cvtColor(imgS1_A1A1_1, cv2.COLOR_BGR2RGB)"
      ],
      "execution_count": null,
      "outputs": []
    },
    {
      "cell_type": "code",
      "metadata": {
        "id": "Ixg-SNyU46Lp"
      },
      "source": [
        "imgS1_A1A2_1  = cv2.imread(S1_doubleA1A2_1)\n",
        "S1RGB_imgA1A2_1= cv2.cvtColor(imgS1_A1A2_1, cv2.COLOR_BGR2RGB)"
      ],
      "execution_count": null,
      "outputs": []
    },
    {
      "cell_type": "code",
      "metadata": {
        "id": "a4-_mkF-4-te"
      },
      "source": [
        "imgS1_A1A3_1  = cv2.imread(S1_doubleA1A3_1)\n",
        "S1RGB_imgA1A3_1= cv2.cvtColor(imgS1_A1A3_1, cv2.COLOR_BGR2RGB)"
      ],
      "execution_count": null,
      "outputs": []
    },
    {
      "cell_type": "code",
      "metadata": {
        "id": "uRs18zEK5EM3"
      },
      "source": [
        "imgS1_A1A3_51  = cv2.imread(S1_doubleA1A3_51)\n",
        "S1RGB_imgA1A3_51= cv2.cvtColor(imgS1_A1A3_51, cv2.COLOR_BGR2RGB)"
      ],
      "execution_count": null,
      "outputs": []
    },
    {
      "cell_type": "code",
      "metadata": {
        "id": "LCju5Eai5fV4"
      },
      "source": [
        "imgS1_A1A4_1  = cv2.imread(S1_doubleA1A4_1)\n",
        "S1RGB_imgA1A4_1= cv2.cvtColor(imgS1_A1A4_1, cv2.COLOR_BGR2RGB)"
      ],
      "execution_count": null,
      "outputs": []
    },
    {
      "cell_type": "code",
      "metadata": {
        "id": "sMwRM7yO5llo"
      },
      "source": [
        "imgS1_A1B1_1  = cv2.imread(S1_doubleA1B1_1)\n",
        "S1RGB_imgA1B1_1= cv2.cvtColor(imgS1_A1B1_1, cv2.COLOR_BGR2RGB)"
      ],
      "execution_count": null,
      "outputs": []
    },
    {
      "cell_type": "code",
      "metadata": {
        "id": "B8Efejup5llo"
      },
      "source": [
        "imgS1_A1B2_1  = cv2.imread(S1_doubleA1B2_1)\n",
        "S1RGB_imgA1B2_1= cv2.cvtColor(imgS1_A1B2_1, cv2.COLOR_BGR2RGB)"
      ],
      "execution_count": null,
      "outputs": []
    },
    {
      "cell_type": "code",
      "metadata": {
        "id": "j7fi0Nn95llo"
      },
      "source": [
        "imgS1_A1B3_1  = cv2.imread(S1_doubleA1A3_1)\n",
        "S1RGB_imgA1B3_1= cv2.cvtColor(imgS1_A1A3_1, cv2.COLOR_BGR2RGB)"
      ],
      "execution_count": null,
      "outputs": []
    },
    {
      "cell_type": "code",
      "metadata": {
        "id": "Hxs3fQUU5llp"
      },
      "source": [
        "imgS1_A1B4_1  = cv2.imread(S1_doubleA1B4_1)\n",
        "S1RGB_imgA1B4_1= cv2.cvtColor(imgS1_A1B4_1, cv2.COLOR_BGR2RGB)"
      ],
      "execution_count": null,
      "outputs": []
    },
    {
      "cell_type": "code",
      "metadata": {
        "id": "IaQDpBeS6Oa_"
      },
      "source": [
        "imgS1_A1C1_1  = cv2.imread(S1_doubleA1C1_1)\n",
        "S1RGB_imgA1C1_1= cv2.cvtColor(imgS1_A1C1_1, cv2.COLOR_BGR2RGB)"
      ],
      "execution_count": null,
      "outputs": []
    },
    {
      "cell_type": "code",
      "metadata": {
        "id": "wuQ_nyPB6Oa_"
      },
      "source": [
        "imgS1_A1C2_1  = cv2.imread(S1_doubleA1C2_1)\n",
        "S1RGB_imgA1C2_1= cv2.cvtColor(imgS1_A1C2_1, cv2.COLOR_BGR2RGB)"
      ],
      "execution_count": null,
      "outputs": []
    },
    {
      "cell_type": "code",
      "metadata": {
        "id": "wAdSVg_I6Oa_"
      },
      "source": [
        "imgS1_A1C3_1  = cv2.imread(S1_doubleA1C3_1)\n",
        "S1RGB_imgA1C3_1= cv2.cvtColor(imgS1_A1C3_1, cv2.COLOR_BGR2RGB)"
      ],
      "execution_count": null,
      "outputs": []
    },
    {
      "cell_type": "code",
      "metadata": {
        "id": "XeLavKSo6Oa_"
      },
      "source": [
        "imgS1_A1C4_1  = cv2.imread(S1_doubleA1C4_1)\n",
        "S1RGB_imgA1C4_1= cv2.cvtColor(imgS1_A1C4_1, cv2.COLOR_BGR2RGB)"
      ],
      "execution_count": null,
      "outputs": []
    },
    {
      "cell_type": "code",
      "metadata": {
        "id": "SP6HGOWx6hmP"
      },
      "source": [
        "imgS1_A1D2_1  = cv2.imread(S1_doubleA1D2_1)\n",
        "S1RGB_imgA1D2_1= cv2.cvtColor(imgS1_A1D2_1, cv2.COLOR_BGR2RGB)"
      ],
      "execution_count": null,
      "outputs": []
    },
    {
      "cell_type": "code",
      "metadata": {
        "id": "2d2cV-Ew6hmP"
      },
      "source": [
        "imgS1_A1D3_1  = cv2.imread(S1_doubleA1D3_1)\n",
        "S1RGB_imgA1D3_1= cv2.cvtColor(imgS1_A1D3_1, cv2.COLOR_BGR2RGB)"
      ],
      "execution_count": null,
      "outputs": []
    },
    {
      "cell_type": "code",
      "metadata": {
        "id": "doH48ypZ6hmQ"
      },
      "source": [
        "imgS1_A1D4_1  = cv2.imread(S1_doubleA1D4_1)\n",
        "S1RGB_imgA1D4_1= cv2.cvtColor(imgS1_A1D4_1, cv2.COLOR_BGR2RGB)\n"
      ],
      "execution_count": null,
      "outputs": []
    },
    {
      "cell_type": "markdown",
      "metadata": {
        "id": "4jc2tCMd3aaF"
      },
      "source": [
        "###Img 2"
      ]
    },
    {
      "cell_type": "code",
      "metadata": {
        "id": "So6yuaEr3ryQ"
      },
      "source": [
        "imgS1_A1A1_2 = cv2.imread(S1_doubleA1A1_2)\n",
        "S1RGB_imgA1A1_2= cv2.cvtColor(imgS1_A1A1_2, cv2.COLOR_BGR2RGB)"
      ],
      "execution_count": null,
      "outputs": []
    },
    {
      "cell_type": "code",
      "metadata": {
        "id": "A43KPfbl3ryR"
      },
      "source": [
        "imgS1_A1A2_2 = cv2.imread(S1_doubleA1A2_2)\n",
        "S1RGB_imgA1A2_2= cv2.cvtColor(imgS1_A1A2_2, cv2.COLOR_BGR2RGB)"
      ],
      "execution_count": null,
      "outputs": []
    },
    {
      "cell_type": "code",
      "metadata": {
        "id": "4RUkrGTu3ryR"
      },
      "source": [
        "imgS1_A1A3_2= cv2.imread(S1_doubleA1A3_2)\n",
        "S1RGB_imgA1A3_2= cv2.cvtColor(imgS1_A1A3_2, cv2.COLOR_BGR2RGB)"
      ],
      "execution_count": null,
      "outputs": []
    },
    {
      "cell_type": "code",
      "metadata": {
        "id": "ct6nUk0T3ryS"
      },
      "source": [
        "imgS1_A1A3_52  = cv2.imread(S1_doubleA1A3_52)\n",
        "S1RGB_imgA1A3_52= cv2.cvtColor(imgS1_A1A3_52, cv2.COLOR_BGR2RGB)"
      ],
      "execution_count": null,
      "outputs": []
    },
    {
      "cell_type": "code",
      "metadata": {
        "id": "q7f1CXA63ryS"
      },
      "source": [
        "imgS1_A1A4_2 = cv2.imread(S1_doubleA1A4_2)\n",
        "S1RGB_imgA1A4_2= cv2.cvtColor(imgS1_A1A4_2, cv2.COLOR_BGR2RGB)"
      ],
      "execution_count": null,
      "outputs": []
    },
    {
      "cell_type": "code",
      "metadata": {
        "id": "LOtSOlyk3ryT"
      },
      "source": [
        "imgS1_A1B1_2= cv2.imread(S1_doubleA1B1_2)\n",
        "S1RGB_imgA1B1_= cv2.cvtColor(imgS1_A1B1_2, cv2.COLOR_BGR2RGB)"
      ],
      "execution_count": null,
      "outputs": []
    },
    {
      "cell_type": "code",
      "metadata": {
        "id": "vad5Kh6m3ryT"
      },
      "source": [
        "imgS1_A1B2_2 = cv2.imread(S1_doubleA1B2_2)\n",
        "S1RGB_imgA1B2_2= cv2.cvtColor(imgS1_A1B2_2, cv2.COLOR_BGR2RGB)"
      ],
      "execution_count": null,
      "outputs": []
    },
    {
      "cell_type": "code",
      "metadata": {
        "id": "OsPpLa_93ryU"
      },
      "source": [
        "imgS1_A1B3_2  = cv2.imread(S1_doubleA1B3_2)\n",
        "S1RGB_imgA1B3_2= cv2.cvtColor(imgS1_A1B3_2, cv2.COLOR_BGR2RGB)"
      ],
      "execution_count": null,
      "outputs": []
    },
    {
      "cell_type": "code",
      "metadata": {
        "id": "sPa30Up03ryU"
      },
      "source": [
        "imgS1_A1B4_2 = cv2.imread(S1_doubleA1B4_2)\n",
        "S1RGB_imgA1B4_2= cv2.cvtColor(imgS1_A1B4_2, cv2.COLOR_BGR2RGB)"
      ],
      "execution_count": null,
      "outputs": []
    },
    {
      "cell_type": "code",
      "metadata": {
        "id": "iL1zzD113ryU"
      },
      "source": [
        "imgS1_A1C1_2  = cv2.imread(S1_doubleA1C1_2)\n",
        "S1RGB_imgA1C1_2= cv2.cvtColor(imgS1_A1C1_2, cv2.COLOR_BGR2RGB)"
      ],
      "execution_count": null,
      "outputs": []
    },
    {
      "cell_type": "code",
      "metadata": {
        "id": "4bWsc2EG3ryU"
      },
      "source": [
        "imgS1_A1C2_2  = cv2.imread(S1_doubleA1C2_2)\n",
        "S1RGB_imgA1C2_2= cv2.cvtColor(imgS1_A1C2_2, cv2.COLOR_BGR2RGB)"
      ],
      "execution_count": null,
      "outputs": []
    },
    {
      "cell_type": "code",
      "metadata": {
        "id": "0yka-wm-3ryU"
      },
      "source": [
        "imgS1_A1C3_2  = cv2.imread(S1_doubleA1C3_2)\n",
        "S1RGB_imgA1C3_2= cv2.cvtColor(imgS1_A1C3_2, cv2.COLOR_BGR2RGB)"
      ],
      "execution_count": null,
      "outputs": []
    },
    {
      "cell_type": "code",
      "metadata": {
        "id": "iF159ThN3ryV"
      },
      "source": [
        "imgS1_A1C4_2 = cv2.imread(S1_doubleA1C4_2)\n",
        "S1RGB_imgA1C4_2= cv2.cvtColor(imgS1_A1C4_2, cv2.COLOR_BGR2RGB)"
      ],
      "execution_count": null,
      "outputs": []
    },
    {
      "cell_type": "code",
      "metadata": {
        "id": "ZlraPlFh3ryV"
      },
      "source": [
        "imgS1_A1D2_2 = cv2.imread(S1_doubleA1D2_2)\n",
        "S1RGB_imgA1D2_2= cv2.cvtColor(imgS1_A1D2_2, cv2.COLOR_BGR2RGB)"
      ],
      "execution_count": null,
      "outputs": []
    },
    {
      "cell_type": "code",
      "metadata": {
        "id": "3pkScZ_m3ryV"
      },
      "source": [
        "imgS1_A1D3_2 = cv2.imread(S1_doubleA1D3_2)\n",
        "S1RGB_imgA1D3_2= cv2.cvtColor(imgS1_A1D3_2, cv2.COLOR_BGR2RGB)"
      ],
      "execution_count": null,
      "outputs": []
    },
    {
      "cell_type": "code",
      "metadata": {
        "id": "QfZq6X_y3ryV"
      },
      "source": [
        "imgS1_A1D4_2  = cv2.imread(S1_doubleA1D4_2)\n",
        "S1RGB_imgA1D4_2= cv2.cvtColor(imgS1_A1D4_2, cv2.COLOR_BGR2RGB)"
      ],
      "execution_count": null,
      "outputs": []
    },
    {
      "cell_type": "markdown",
      "metadata": {
        "id": "tqrpB_Os47oU"
      },
      "source": [
        "###Img 3"
      ]
    },
    {
      "cell_type": "code",
      "metadata": {
        "id": "qnjaDhn4BbYi"
      },
      "source": [
        "imgS1_A1A1_3= cv2.imread(S1_doubleA1A1_3)\n",
        "S1RGB_imgA1A1_3= cv2.cvtColor(imgS1_A1A1_3, cv2.COLOR_BGR2RGB)"
      ],
      "execution_count": null,
      "outputs": []
    },
    {
      "cell_type": "code",
      "metadata": {
        "id": "mC6JpzhLBbYi"
      },
      "source": [
        "imgS1_A1A2_3 = cv2.imread(S1_doubleA1A2_3)\n",
        "S1RGB_imgA1A2_3= cv2.cvtColor(imgS1_A1A2_3, cv2.COLOR_BGR2RGB)"
      ],
      "execution_count": null,
      "outputs": []
    },
    {
      "cell_type": "code",
      "metadata": {
        "id": "pClXvqiWBbYi"
      },
      "source": [
        "imgS1_A1A3_3= cv2.imread(S1_doubleA1A3_3)\n",
        "S1RGB_imgA1A3_3= cv2.cvtColor(imgS1_A1A3_3, cv2.COLOR_BGR2RGB)"
      ],
      "execution_count": null,
      "outputs": []
    },
    {
      "cell_type": "code",
      "metadata": {
        "id": "X5f1ECCSBbYj"
      },
      "source": [
        "imgS1_A1A3_53  = cv2.imread(S1_doubleA1A3_53)\n",
        "S1RGB_imgA1A3_53= cv2.cvtColor(imgS1_A1A3_53, cv2.COLOR_BGR2RGB)"
      ],
      "execution_count": null,
      "outputs": []
    },
    {
      "cell_type": "code",
      "metadata": {
        "id": "dlH5LoyjBbYj"
      },
      "source": [
        "imgS1_A1A4_3  = cv2.imread(S1_doubleA1A4_3)\n",
        "S1RGB_imgA1A4_3= cv2.cvtColor(imgS1_A1A4_3, cv2.COLOR_BGR2RGB)"
      ],
      "execution_count": null,
      "outputs": []
    },
    {
      "cell_type": "code",
      "metadata": {
        "id": "eqyRvv91BbYj"
      },
      "source": [
        "imgS1_A1B1_3  = cv2.imread(S1_doubleA1B1_3)\n",
        "S1RGB_imgA1B1_3= cv2.cvtColor(imgS1_A1B1_3, cv2.COLOR_BGR2RGB)"
      ],
      "execution_count": null,
      "outputs": []
    },
    {
      "cell_type": "code",
      "metadata": {
        "id": "FPBJS2RvBbYj"
      },
      "source": [
        "imgS1_A1B2_3 = cv2.imread(S1_doubleA1B2_3)\n",
        "S1RGB_imgA1B2_3= cv2.cvtColor(imgS1_A1B2_3, cv2.COLOR_BGR2RGB)"
      ],
      "execution_count": null,
      "outputs": []
    },
    {
      "cell_type": "code",
      "metadata": {
        "id": "S_FCPFhpBbYk"
      },
      "source": [
        "imgS1_A1B3_3  = cv2.imread(S1_doubleA1B3_3)\n",
        "S1RGB_imgA1B3_3= cv2.cvtColor(imgS1_A1B3_3, cv2.COLOR_BGR2RGB)"
      ],
      "execution_count": null,
      "outputs": []
    },
    {
      "cell_type": "code",
      "metadata": {
        "id": "9llJohbEBbYk"
      },
      "source": [
        "imgS1_A1B4_3  = cv2.imread(S1_doubleA1B4_3)\n",
        "S1RGB_imgA1B4_3= cv2.cvtColor(imgS1_A1B4_3, cv2.COLOR_BGR2RGB)"
      ],
      "execution_count": null,
      "outputs": []
    },
    {
      "cell_type": "code",
      "metadata": {
        "id": "qwYNqoAyBbYk"
      },
      "source": [
        "imgS1_A1C1_3  = cv2.imread(S1_doubleA1C1_3)\n",
        "S1RGB_imgA1C1_3= cv2.cvtColor(imgS1_A1C1_3, cv2.COLOR_BGR2RGB)"
      ],
      "execution_count": null,
      "outputs": []
    },
    {
      "cell_type": "code",
      "metadata": {
        "id": "snEaWInQBbYk"
      },
      "source": [
        "imgS1_A1C2_3  = cv2.imread(S1_doubleA1C2_3)\n",
        "S1RGB_imgA1C2_3= cv2.cvtColor(imgS1_A1C2_3, cv2.COLOR_BGR2RGB)"
      ],
      "execution_count": null,
      "outputs": []
    },
    {
      "cell_type": "code",
      "metadata": {
        "id": "X9620UvLBbYl"
      },
      "source": [
        "imgS1_A1C3_3  = cv2.imread(S1_doubleA1C3_3)\n",
        "S1RGB_imgA1C3_3= cv2.cvtColor(imgS1_A1C3_3, cv2.COLOR_BGR2RGB)"
      ],
      "execution_count": null,
      "outputs": []
    },
    {
      "cell_type": "code",
      "metadata": {
        "id": "tgIXRH3jBbYl"
      },
      "source": [
        "imgS1_A1C4_3 = cv2.imread(S1_doubleA1C4_3)\n",
        "S1RGB_imgA1C4_3= cv2.cvtColor(imgS1_A1C4_3, cv2.COLOR_BGR2RGB)"
      ],
      "execution_count": null,
      "outputs": []
    },
    {
      "cell_type": "code",
      "metadata": {
        "id": "qG0YgksUBbYl"
      },
      "source": [
        "imgS1_A1D2_3  = cv2.imread(S1_doubleA1D2_3)\n",
        "S1RGB_imgA1D2_3= cv2.cvtColor(imgS1_A1D2_3, cv2.COLOR_BGR2RGB)"
      ],
      "execution_count": null,
      "outputs": []
    },
    {
      "cell_type": "code",
      "metadata": {
        "id": "Kd-yEV9GBbYl"
      },
      "source": [
        "imgS1_A1D3_3 = cv2.imread(S1_doubleA1D3_3)\n",
        "S1RGB_imgA1D3_3= cv2.cvtColor(imgS1_A1D3_3, cv2.COLOR_BGR2RGB)"
      ],
      "execution_count": null,
      "outputs": []
    },
    {
      "cell_type": "code",
      "metadata": {
        "id": "TaMZz1b3BbYl"
      },
      "source": [
        "imgS1_A1D4_3  = cv2.imread(S1_doubleA1D4_3)\n",
        "S1RGB_imgA1D4_3= cv2.cvtColor(imgS1_A1D4_3, cv2.COLOR_BGR2RGB)"
      ],
      "execution_count": null,
      "outputs": []
    },
    {
      "cell_type": "markdown",
      "metadata": {
        "id": "8HAr-rxC4_k1"
      },
      "source": [
        "###Img 4"
      ]
    },
    {
      "cell_type": "code",
      "metadata": {
        "id": "g4jKPr0uBcvq"
      },
      "source": [
        "imgS1_A1A1_4 = cv2.imread(S1_doubleA1A1_4)\n",
        "S1RGB_imgA1A1_4= cv2.cvtColor(imgS1_A1A1_4, cv2.COLOR_BGR2RGB)"
      ],
      "execution_count": null,
      "outputs": []
    },
    {
      "cell_type": "code",
      "metadata": {
        "id": "J1VpRs4BBcvq"
      },
      "source": [
        "imgS1_A1A2_4  = cv2.imread(S1_doubleA1A2_4)\n",
        "S1RGB_imgA1A2_4= cv2.cvtColor(imgS1_A1A2_4, cv2.COLOR_BGR2RGB)"
      ],
      "execution_count": null,
      "outputs": []
    },
    {
      "cell_type": "code",
      "metadata": {
        "id": "UC_NJfhFBcvr"
      },
      "source": [
        "imgS1_A1A3_4= cv2.imread(S1_doubleA1A3_4)\n",
        "S1RGB_imgA1A3_4= cv2.cvtColor(imgS1_A1A3_4, cv2.COLOR_BGR2RGB)"
      ],
      "execution_count": null,
      "outputs": []
    },
    {
      "cell_type": "code",
      "metadata": {
        "id": "uj3YrwWNBcvr"
      },
      "source": [
        "imgS1_A1A3_54  = cv2.imread(S1_doubleA1A3_54)\n",
        "S1RGB_imgA1A3_54= cv2.cvtColor(imgS1_A1A3_54, cv2.COLOR_BGR2RGB)"
      ],
      "execution_count": null,
      "outputs": []
    },
    {
      "cell_type": "code",
      "metadata": {
        "id": "0d76TQUvBcvr"
      },
      "source": [
        "imgS1_A1A4_4  = cv2.imread(S1_doubleA1A4_4)\n",
        "S1RGB_imgA1A4_4= cv2.cvtColor(imgS1_A1A4_4, cv2.COLOR_BGR2RGB)"
      ],
      "execution_count": null,
      "outputs": []
    },
    {
      "cell_type": "code",
      "metadata": {
        "id": "Vw6AnPuqBcvr"
      },
      "source": [
        "imgS1_A1B1_4  = cv2.imread(S1_doubleA1B1_4)\n",
        "S1RGB_imgA1B1_4= cv2.cvtColor(imgS1_A1B1_4, cv2.COLOR_BGR2RGB)"
      ],
      "execution_count": null,
      "outputs": []
    },
    {
      "cell_type": "code",
      "metadata": {
        "id": "WfZ31gymBcvs"
      },
      "source": [
        "imgS1_A1B2_4 = cv2.imread(S1_doubleA1B2_4)\n",
        "S1RGB_imgA1B2_4= cv2.cvtColor(imgS1_A1B2_4, cv2.COLOR_BGR2RGB)"
      ],
      "execution_count": null,
      "outputs": []
    },
    {
      "cell_type": "code",
      "metadata": {
        "id": "Jy1q8GkdBcvs"
      },
      "source": [
        "imgS1_A1B3_  = cv2.imread(S1_doubleA1B3_4)\n",
        "S1RGB_imgA1B3_= cv2.cvtColor(imgS1_A1B3_, cv2.COLOR_BGR2RGB)"
      ],
      "execution_count": null,
      "outputs": []
    },
    {
      "cell_type": "code",
      "metadata": {
        "id": "mosWDaYTBcvs"
      },
      "source": [
        "imgS1_A1B4_4  = cv2.imread(S1_doubleA1B4_4)\n",
        "S1RGB_imgA1B4_4= cv2.cvtColor(imgS1_A1B4_4, cv2.COLOR_BGR2RGB)"
      ],
      "execution_count": null,
      "outputs": []
    },
    {
      "cell_type": "code",
      "metadata": {
        "id": "Zn6GAg7YBcvs"
      },
      "source": [
        "imgS1_A1C1_4 = cv2.imread(S1_doubleA1C1_4)\n",
        "S1RGB_imgA1C1_4= cv2.cvtColor(imgS1_A1C1_4, cv2.COLOR_BGR2RGB)"
      ],
      "execution_count": null,
      "outputs": []
    },
    {
      "cell_type": "code",
      "metadata": {
        "id": "hA89zQxlBcvs"
      },
      "source": [
        "imgS1_A1C2_4  = cv2.imread(S1_doubleA1C2_4)\n",
        "S1RGB_imgA1C2_4= cv2.cvtColor(imgS1_A1C2_4, cv2.COLOR_BGR2RGB)"
      ],
      "execution_count": null,
      "outputs": []
    },
    {
      "cell_type": "code",
      "metadata": {
        "id": "BVXfA3-rBcvt"
      },
      "source": [
        "imgS1_A1C3_4 = cv2.imread(S1_doubleA1C3_4)\n",
        "S1RGB_imgA1C3_4= cv2.cvtColor(imgS1_A1C3_4, cv2.COLOR_BGR2RGB)"
      ],
      "execution_count": null,
      "outputs": []
    },
    {
      "cell_type": "code",
      "metadata": {
        "id": "9g4GjJUYBcvt"
      },
      "source": [
        "imgS1_A1C4_4  = cv2.imread(S1_doubleA1C4_4)\n",
        "S1RGB_imgA1C4_4= cv2.cvtColor(imgS1_A1C4_4, cv2.COLOR_BGR2RGB)"
      ],
      "execution_count": null,
      "outputs": []
    },
    {
      "cell_type": "code",
      "metadata": {
        "id": "uKQr6NqZBcvt"
      },
      "source": [
        "imgS1_A1D2_4  = cv2.imread(S1_doubleA1D2_4)\n",
        "S1RGB_imgA1D2_4= cv2.cvtColor(imgS1_A1D2_4, cv2.COLOR_BGR2RGB)"
      ],
      "execution_count": null,
      "outputs": []
    },
    {
      "cell_type": "code",
      "metadata": {
        "id": "kLuX8ZnhBcvt"
      },
      "source": [
        "imgS1_A1D3_4  = cv2.imread(S1_doubleA1D3_4)\n",
        "S1RGB_imgA1D3_4= cv2.cvtColor(imgS1_A1D3_4, cv2.COLOR_BGR2RGB)"
      ],
      "execution_count": null,
      "outputs": []
    },
    {
      "cell_type": "code",
      "metadata": {
        "id": "4Wv16eSBBcvt"
      },
      "source": [
        "imgS1_A1D4_4 = cv2.imread(S1_doubleA1D4_4)\n",
        "S1RGB_imgA1D4_4= cv2.cvtColor(imgS1_A1D4_4, cv2.COLOR_BGR2RGB)"
      ],
      "execution_count": null,
      "outputs": []
    },
    {
      "cell_type": "markdown",
      "metadata": {
        "id": "X3iT_Wiz5DpR"
      },
      "source": [
        "###Img 5"
      ]
    },
    {
      "cell_type": "code",
      "metadata": {
        "id": "CjMVLKCxBeRS"
      },
      "source": [
        "imgS1_A1A1_5 = cv2.imread(S1_doubleA1A1_5)\n",
        "S1RGB_imgA1A1_5= cv2.cvtColor(imgS1_A1A1_5, cv2.COLOR_BGR2RGB)"
      ],
      "execution_count": null,
      "outputs": []
    },
    {
      "cell_type": "code",
      "metadata": {
        "id": "zdchQeWkBeRS"
      },
      "source": [
        "imgS1_A1A2_5 = cv2.imread(S1_doubleA1A2_5)\n",
        "S1RGB_imgA1A2_5= cv2.cvtColor(imgS1_A1A2_5, cv2.COLOR_BGR2RGB)"
      ],
      "execution_count": null,
      "outputs": []
    },
    {
      "cell_type": "code",
      "metadata": {
        "id": "EzpY1UnzBeRS"
      },
      "source": [
        "imgS1_A1A3_5= cv2.imread(S1_doubleA1A3_5)\n",
        "S1RGB_imgA1A3_5= cv2.cvtColor(imgS1_A1A3_5, cv2.COLOR_BGR2RGB)"
      ],
      "execution_count": null,
      "outputs": []
    },
    {
      "cell_type": "code",
      "metadata": {
        "id": "D6TUam19BeRS"
      },
      "source": [
        "imgS1_A1A3_55  = cv2.imread(S1_doubleA1A3_55)\n",
        "S1RGB_imgA1A3_55= cv2.cvtColor(imgS1_A1A3_55, cv2.COLOR_BGR2RGB)"
      ],
      "execution_count": null,
      "outputs": []
    },
    {
      "cell_type": "code",
      "metadata": {
        "id": "C0CUpNy5BeRT"
      },
      "source": [
        "imgS1_A1A4_5  = cv2.imread(S1_doubleA1A4_5)\n",
        "S1RGB_imgA1A4_5= cv2.cvtColor(imgS1_A1A4_5, cv2.COLOR_BGR2RGB)"
      ],
      "execution_count": null,
      "outputs": []
    },
    {
      "cell_type": "code",
      "metadata": {
        "id": "UnX_C87OBeRT"
      },
      "source": [
        "imgS1_A1B1_5  = cv2.imread(S1_doubleA1B1_5)\n",
        "S1RGB_imgA1B1_5= cv2.cvtColor(imgS1_A1B1_5, cv2.COLOR_BGR2RGB)"
      ],
      "execution_count": null,
      "outputs": []
    },
    {
      "cell_type": "code",
      "metadata": {
        "id": "NefKy34wBeRT"
      },
      "source": [
        "imgS1_A1B2_5  = cv2.imread(S1_doubleA1B2_5)\n",
        "S1RGB_imgA1B2_5= cv2.cvtColor(imgS1_A1B2_5, cv2.COLOR_BGR2RGB)"
      ],
      "execution_count": null,
      "outputs": []
    },
    {
      "cell_type": "code",
      "metadata": {
        "id": "cgBKD1QjBeRT"
      },
      "source": [
        "imgS1_A1B3_5  = cv2.imread(S1_doubleA1B3_5)\n",
        "S1RGB_imgA1B3_5= cv2.cvtColor(imgS1_A1B3_5, cv2.COLOR_BGR2RGB)"
      ],
      "execution_count": null,
      "outputs": []
    },
    {
      "cell_type": "code",
      "metadata": {
        "id": "LZy0yHz_BeRT"
      },
      "source": [
        "imgS1_A1B4_5  = cv2.imread(S1_doubleA1B4_5)\n",
        "S1RGB_imgA1B4_5= cv2.cvtColor(imgS1_A1B4_5, cv2.COLOR_BGR2RGB)"
      ],
      "execution_count": null,
      "outputs": []
    },
    {
      "cell_type": "code",
      "metadata": {
        "id": "AitdnaXmBeRT"
      },
      "source": [
        "imgS1_A1C1_5 = cv2.imread(S1_doubleA1C1_5)\n",
        "S1RGB_imgA1C1_5= cv2.cvtColor(imgS1_A1C1_5, cv2.COLOR_BGR2RGB)"
      ],
      "execution_count": null,
      "outputs": []
    },
    {
      "cell_type": "code",
      "metadata": {
        "id": "0T9gIsmGBeRT"
      },
      "source": [
        "imgS1_A1C2_5  = cv2.imread(S1_doubleA1C2_5)\n",
        "S1RGB_imgA1C2_5= cv2.cvtColor(imgS1_A1C2_5, cv2.COLOR_BGR2RGB)"
      ],
      "execution_count": null,
      "outputs": []
    },
    {
      "cell_type": "code",
      "metadata": {
        "id": "R_boTzJGBeRU"
      },
      "source": [
        "imgS1_A1C3_5  = cv2.imread(S1_doubleA1C3_5)\n",
        "S1RGB_imgA1C3_5= cv2.cvtColor(imgS1_A1C3_5, cv2.COLOR_BGR2RGB)"
      ],
      "execution_count": null,
      "outputs": []
    },
    {
      "cell_type": "code",
      "metadata": {
        "id": "77BGXH-zBeRU"
      },
      "source": [
        "imgS1_A1C4_5= cv2.imread(S1_doubleA1C4_5)\n",
        "S1RGB_imgA1C4_5= cv2.cvtColor(imgS1_A1C4_5, cv2.COLOR_BGR2RGB)"
      ],
      "execution_count": null,
      "outputs": []
    },
    {
      "cell_type": "code",
      "metadata": {
        "id": "YOgaE0JMBeRU"
      },
      "source": [
        "imgS1_A1D2_5 = cv2.imread(S1_doubleA1D2_5)\n",
        "S1RGB_imgA1D2_5= cv2.cvtColor(imgS1_A1D2_5, cv2.COLOR_BGR2RGB)"
      ],
      "execution_count": null,
      "outputs": []
    },
    {
      "cell_type": "code",
      "metadata": {
        "id": "2v6CAl8cBeRU"
      },
      "source": [
        "imgS1_A1D3_5  = cv2.imread(S1_doubleA1D3_5)\n",
        "S1RGB_imgA1D3_5= cv2.cvtColor(imgS1_A1D3_5, cv2.COLOR_BGR2RGB)"
      ],
      "execution_count": null,
      "outputs": []
    },
    {
      "cell_type": "code",
      "metadata": {
        "id": "hk4wNYyhBeRU"
      },
      "source": [
        "imgS1_A1D4_5  = cv2.imread(S1_doubleA1D4_5)\n",
        "S1RGB_imgA1D4_5= cv2.cvtColor(imgS1_A1D4_5, cv2.COLOR_BGR2RGB)"
      ],
      "execution_count": null,
      "outputs": []
    },
    {
      "cell_type": "markdown",
      "metadata": {
        "id": "xFYLwsnk5IVK"
      },
      "source": [
        "###Img 6"
      ]
    },
    {
      "cell_type": "code",
      "metadata": {
        "id": "tH1p3ZO_BfoF"
      },
      "source": [
        "imgS1_A1A1_6 = cv2.imread(S1_doubleA1A1_6)\n",
        "S1RGB_imgA1A1_6= cv2.cvtColor(imgS1_A1A1_6, cv2.COLOR_BGR2RGB)"
      ],
      "execution_count": null,
      "outputs": []
    },
    {
      "cell_type": "code",
      "metadata": {
        "id": "u9oMQwdgBfoG"
      },
      "source": [
        "imgS1_A1A2_6  = cv2.imread(S1_doubleA1A2_6)\n",
        "S1RGB_imgA1A2_6= cv2.cvtColor(imgS1_A1A2_6, cv2.COLOR_BGR2RGB)"
      ],
      "execution_count": null,
      "outputs": []
    },
    {
      "cell_type": "code",
      "metadata": {
        "id": "0J3oyWBfBfoG"
      },
      "source": [
        "imgS1_A1A3_6= cv2.imread(S1_doubleA1A3_6)\n",
        "S1RGB_imgA1A3_6= cv2.cvtColor(imgS1_A1A3_6, cv2.COLOR_BGR2RGB)"
      ],
      "execution_count": null,
      "outputs": []
    },
    {
      "cell_type": "code",
      "metadata": {
        "id": "b2QNU-n6BfoG"
      },
      "source": [
        "imgS1_A1A3_56  = cv2.imread(S1_doubleA1A3_56)\n",
        "S1RGB_imgA1A3_56= cv2.cvtColor(imgS1_A1A3_56, cv2.COLOR_BGR2RGB)"
      ],
      "execution_count": null,
      "outputs": []
    },
    {
      "cell_type": "code",
      "metadata": {
        "id": "LTxsvVQSBfoH"
      },
      "source": [
        "imgS1_A1A4_6= cv2.imread(S1_doubleA1A4_6)\n",
        "S1RGB_imgA1A4_6= cv2.cvtColor(imgS1_A1A4_6, cv2.COLOR_BGR2RGB)"
      ],
      "execution_count": null,
      "outputs": []
    },
    {
      "cell_type": "code",
      "metadata": {
        "id": "8bH8ZA76BfoH"
      },
      "source": [
        "imgS1_A1B1_6  = cv2.imread(S1_doubleA1B1_6)\n",
        "S1RGB_imgA1B1_6= cv2.cvtColor(imgS1_A1B1_6, cv2.COLOR_BGR2RGB)"
      ],
      "execution_count": null,
      "outputs": []
    },
    {
      "cell_type": "code",
      "metadata": {
        "id": "ndgC2P8yBfoH"
      },
      "source": [
        "imgS1_A1B2_6  = cv2.imread(S1_doubleA1B2_6)\n",
        "S1RGB_imgA1B2_6= cv2.cvtColor(imgS1_A1B2_6, cv2.COLOR_BGR2RGB)"
      ],
      "execution_count": null,
      "outputs": []
    },
    {
      "cell_type": "code",
      "metadata": {
        "id": "ysCuiG9rBfoH"
      },
      "source": [
        "imgS1_A1B3_6 = cv2.imread(S1_doubleA1B3_6)\n",
        "S1RGB_imgA1B3_6= cv2.cvtColor(imgS1_A1B3_6, cv2.COLOR_BGR2RGB)"
      ],
      "execution_count": null,
      "outputs": []
    },
    {
      "cell_type": "code",
      "metadata": {
        "id": "0fz-qfGVBfoI"
      },
      "source": [
        "imgS1_A1B4_6 = cv2.imread(S1_doubleA1B4_6)\n",
        "S1RGB_imgA1B4_6= cv2.cvtColor(imgS1_A1B4_6, cv2.COLOR_BGR2RGB)"
      ],
      "execution_count": null,
      "outputs": []
    },
    {
      "cell_type": "code",
      "metadata": {
        "id": "TYP_6IrqBfoI"
      },
      "source": [
        "imgS1_A1C1_6  = cv2.imread(S1_doubleA1C1_6)\n",
        "S1RGB_imgA1C1_6= cv2.cvtColor(imgS1_A1C1_6, cv2.COLOR_BGR2RGB)"
      ],
      "execution_count": null,
      "outputs": []
    },
    {
      "cell_type": "code",
      "metadata": {
        "id": "FJaV-ID4BfoI"
      },
      "source": [
        "imgS1_A1C2_6  = cv2.imread(S1_doubleA1C2_6)\n",
        "S1RGB_imgA1C2_6= cv2.cvtColor(imgS1_A1C2_6, cv2.COLOR_BGR2RGB)"
      ],
      "execution_count": null,
      "outputs": []
    },
    {
      "cell_type": "code",
      "metadata": {
        "id": "qDnGUgQnBfoI"
      },
      "source": [
        "imgS1_A1C3_6 = cv2.imread(S1_doubleA1C3_6)\n",
        "S1RGB_imgA1C3_6= cv2.cvtColor(imgS1_A1C3_6, cv2.COLOR_BGR2RGB)"
      ],
      "execution_count": null,
      "outputs": []
    },
    {
      "cell_type": "code",
      "metadata": {
        "id": "DtopzifiBfoI"
      },
      "source": [
        "imgS1_A1C4_6 = cv2.imread(S1_doubleA1C4_6)\n",
        "S1RGB_imgA1C4_6= cv2.cvtColor(imgS1_A1C4_6, cv2.COLOR_BGR2RGB)"
      ],
      "execution_count": null,
      "outputs": []
    },
    {
      "cell_type": "code",
      "metadata": {
        "id": "RgbY6e6kBfoJ"
      },
      "source": [
        "imgS1_A1D2_6  = cv2.imread(S1_doubleA1D2_6)\n",
        "S1RGB_imgA1D2_6= cv2.cvtColor(imgS1_A1D2_6, cv2.COLOR_BGR2RGB)"
      ],
      "execution_count": null,
      "outputs": []
    },
    {
      "cell_type": "code",
      "metadata": {
        "id": "3elY-fnEBfoJ"
      },
      "source": [
        "imgS1_A1D3_6  = cv2.imread(S1_doubleA1D3_6)\n",
        "S1RGB_imgA1D3_6= cv2.cvtColor(imgS1_A1D3_6, cv2.COLOR_BGR2RGB)"
      ],
      "execution_count": null,
      "outputs": []
    },
    {
      "cell_type": "code",
      "metadata": {
        "id": "cMh3Be87BfoJ"
      },
      "source": [
        "imgS1_A1D4_6  = cv2.imread(S1_doubleA1D4_6)\n",
        "S1RGB_imgA1D4_6= cv2.cvtColor(imgS1_A1D4_6, cv2.COLOR_BGR2RGB)"
      ],
      "execution_count": null,
      "outputs": []
    },
    {
      "cell_type": "markdown",
      "metadata": {
        "id": "BZj_GTkh5LyX"
      },
      "source": [
        "###Img 7"
      ]
    },
    {
      "cell_type": "code",
      "metadata": {
        "id": "3GLDDZygBgz1"
      },
      "source": [
        "imgS1_A1A1_7 = cv2.imread(S1_doubleA1A1_7)\n",
        "S1RGB_imgA1A1_7= cv2.cvtColor(imgS1_A1A1_7, cv2.COLOR_BGR2RGB)"
      ],
      "execution_count": null,
      "outputs": []
    },
    {
      "cell_type": "code",
      "metadata": {
        "id": "ykC4kIDmBgz2"
      },
      "source": [
        "imgS1_A1A2_7  = cv2.imread(S1_doubleA1A2_7)\n",
        "S1RGB_imgA1A2_7= cv2.cvtColor(imgS1_A1A2_7, cv2.COLOR_BGR2RGB)"
      ],
      "execution_count": null,
      "outputs": []
    },
    {
      "cell_type": "code",
      "metadata": {
        "id": "CPGfnUYeBgz2"
      },
      "source": [
        "imgS1_A1A3_7= cv2.imread(S1_doubleA1A3_7)\n",
        "S1RGB_imgA1A3_7= cv2.cvtColor(imgS1_A1A3_7, cv2.COLOR_BGR2RGB)"
      ],
      "execution_count": null,
      "outputs": []
    },
    {
      "cell_type": "code",
      "metadata": {
        "id": "mh6IrfZXBgz2"
      },
      "source": [
        "imgS1_A1A3_57  = cv2.imread(S1_doubleA1A3_57)\n",
        "S1RGB_imgA1A3_57= cv2.cvtColor(imgS1_A1A3_57, cv2.COLOR_BGR2RGB)"
      ],
      "execution_count": null,
      "outputs": []
    },
    {
      "cell_type": "code",
      "metadata": {
        "id": "Qk1y036xBgz2"
      },
      "source": [
        "imgS1_A1A4_7  = cv2.imread(S1_doubleA1A4_7)\n",
        "S1RGB_imgA1A4_7= cv2.cvtColor(imgS1_A1A4_7, cv2.COLOR_BGR2RGB)"
      ],
      "execution_count": null,
      "outputs": []
    },
    {
      "cell_type": "code",
      "metadata": {
        "id": "7qcEemErBgz3"
      },
      "source": [
        "imgS1_A1B1_7 = cv2.imread(S1_doubleA1B1_7)\n",
        "S1RGB_imgA1B1_7= cv2.cvtColor(imgS1_A1B1_7, cv2.COLOR_BGR2RGB)"
      ],
      "execution_count": null,
      "outputs": []
    },
    {
      "cell_type": "code",
      "metadata": {
        "id": "QP_DlxJiBgz3"
      },
      "source": [
        "imgS1_A1B2_7 = cv2.imread(S1_doubleA1B2_7)\n",
        "S1RGB_imgA1B2_7= cv2.cvtColor(imgS1_A1B2_7, cv2.COLOR_BGR2RGB)"
      ],
      "execution_count": null,
      "outputs": []
    },
    {
      "cell_type": "code",
      "metadata": {
        "id": "_0VZrtpTBgz3"
      },
      "source": [
        "imgS1_A1B3_7= cv2.imread(S1_doubleA1B3_7)\n",
        "S1RGB_imgA1B3_7= cv2.cvtColor(imgS1_A1B3_7, cv2.COLOR_BGR2RGB)"
      ],
      "execution_count": null,
      "outputs": []
    },
    {
      "cell_type": "code",
      "metadata": {
        "id": "PjjJPrgQBgz3"
      },
      "source": [
        "imgS1_A1B4_7  = cv2.imread(S1_doubleA1B4_7)\n",
        "S1RGB_imgA1B4_7= cv2.cvtColor(imgS1_A1B4_7, cv2.COLOR_BGR2RGB)"
      ],
      "execution_count": null,
      "outputs": []
    },
    {
      "cell_type": "code",
      "metadata": {
        "id": "P5txfoAzBgz3"
      },
      "source": [
        "imgS1_A1C1_7 = cv2.imread(S1_doubleA1C1_7)\n",
        "S1RGB_imgA1C1_7= cv2.cvtColor(imgS1_A1C1_7, cv2.COLOR_BGR2RGB)"
      ],
      "execution_count": null,
      "outputs": []
    },
    {
      "cell_type": "code",
      "metadata": {
        "id": "kjP0bvnmBgz4"
      },
      "source": [
        "imgS1_A1C2_7 = cv2.imread(S1_doubleA1C2_7)\n",
        "S1RGB_imgA1C2_7= cv2.cvtColor(imgS1_A1C2_7, cv2.COLOR_BGR2RGB)"
      ],
      "execution_count": null,
      "outputs": []
    },
    {
      "cell_type": "code",
      "metadata": {
        "id": "9haxmPs-Bgz4"
      },
      "source": [
        "imgS1_A1C3_7  = cv2.imread(S1_doubleA1C3_7)\n",
        "S1RGB_imgA1C3_7= cv2.cvtColor(imgS1_A1C3_7, cv2.COLOR_BGR2RGB)"
      ],
      "execution_count": null,
      "outputs": []
    },
    {
      "cell_type": "code",
      "metadata": {
        "id": "gvYTHGewBgz4"
      },
      "source": [
        "imgS1_A1C4_7  = cv2.imread(S1_doubleA1C4_7)\n",
        "S1RGB_imgA1C4_7= cv2.cvtColor(imgS1_A1C4_7, cv2.COLOR_BGR2RGB)"
      ],
      "execution_count": null,
      "outputs": []
    },
    {
      "cell_type": "code",
      "metadata": {
        "id": "-eGgdWdMBgz4"
      },
      "source": [
        "imgS1_A1D2_7 = cv2.imread(S1_doubleA1D2_7)\n",
        "S1RGB_imgA1D2_7= cv2.cvtColor(imgS1_A1D2_7, cv2.COLOR_BGR2RGB)"
      ],
      "execution_count": null,
      "outputs": []
    },
    {
      "cell_type": "code",
      "metadata": {
        "id": "ZBeDPdsfBgz4"
      },
      "source": [
        "imgS1_A1D3_7  = cv2.imread(S1_doubleA1D3_7)\n",
        "S1RGB_imgA1D3_7= cv2.cvtColor(imgS1_A1D3_7, cv2.COLOR_BGR2RGB)"
      ],
      "execution_count": null,
      "outputs": []
    },
    {
      "cell_type": "code",
      "metadata": {
        "id": "Ul2L9ooQBgz5"
      },
      "source": [
        "imgS1_A1D4_7  = cv2.imread(S1_doubleA1D4_7)\n",
        "S1RGB_imgA1D4_7= cv2.cvtColor(imgS1_A1D4_7, cv2.COLOR_BGR2RGB)"
      ],
      "execution_count": null,
      "outputs": []
    },
    {
      "cell_type": "markdown",
      "metadata": {
        "id": "EvkoNzQV5PKO"
      },
      "source": [
        "###Img 8"
      ]
    },
    {
      "cell_type": "code",
      "metadata": {
        "id": "p0F1xfvnBh88"
      },
      "source": [
        "imgS1_A1A1_8 = cv2.imread(S1_doubleA1A1_8)\n",
        "S1RGB_imgA1A1_8= cv2.cvtColor(imgS1_A1A1_8, cv2.COLOR_BGR2RGB)"
      ],
      "execution_count": null,
      "outputs": []
    },
    {
      "cell_type": "code",
      "metadata": {
        "id": "45wmCKffBh89"
      },
      "source": [
        "imgS1_A1A2_8  = cv2.imread(S1_doubleA1A2_8)\n",
        "S1RGB_imgA1A2_8= cv2.cvtColor(imgS1_A1A2_8, cv2.COLOR_BGR2RGB)"
      ],
      "execution_count": null,
      "outputs": []
    },
    {
      "cell_type": "code",
      "metadata": {
        "id": "QyYbf3FQBh89"
      },
      "source": [
        "imgS1_A1A3_8= cv2.imread(S1_doubleA1A3_8)\n",
        "S1RGB_imgA1A3_8= cv2.cvtColor(imgS1_A1A3_8, cv2.COLOR_BGR2RGB)"
      ],
      "execution_count": null,
      "outputs": []
    },
    {
      "cell_type": "code",
      "metadata": {
        "id": "NepzHhS-Bh89"
      },
      "source": [
        "imgS1_A1A3_58  = cv2.imread(S1_doubleA1A3_58)\n",
        "S1RGB_imgA1A3_58= cv2.cvtColor(imgS1_A1A3_58, cv2.COLOR_BGR2RGB)"
      ],
      "execution_count": null,
      "outputs": []
    },
    {
      "cell_type": "code",
      "metadata": {
        "id": "eq_hE9FUBh89"
      },
      "source": [
        "imgS1_A1A4_8  = cv2.imread(S1_doubleA1A4_8)\n",
        "S1RGB_imgA1A4_8= cv2.cvtColor(imgS1_A1A4_8, cv2.COLOR_BGR2RGB)"
      ],
      "execution_count": null,
      "outputs": []
    },
    {
      "cell_type": "code",
      "metadata": {
        "id": "yuGD08HZBh8-"
      },
      "source": [
        "imgS1_A1B1_8  = cv2.imread(S1_doubleA1B1_8)\n",
        "S1RGB_imgA1B1_8= cv2.cvtColor(imgS1_A1B1_8, cv2.COLOR_BGR2RGB)"
      ],
      "execution_count": null,
      "outputs": []
    },
    {
      "cell_type": "code",
      "metadata": {
        "id": "4pO70uDYBh8-"
      },
      "source": [
        "imgS1_A1B2_8  = cv2.imread(S1_doubleA1B2_8)\n",
        "S1RGB_imgA1B2_8= cv2.cvtColor(imgS1_A1B2_8, cv2.COLOR_BGR2RGB)"
      ],
      "execution_count": null,
      "outputs": []
    },
    {
      "cell_type": "code",
      "metadata": {
        "id": "dGbj9Ti4Bh8-"
      },
      "source": [
        "imgS1_A1B3_8  = cv2.imread(S1_doubleA1B3_8)\n",
        "S1RGB_imgA1B3_8= cv2.cvtColor(imgS1_A1B3_8, cv2.COLOR_BGR2RGB)"
      ],
      "execution_count": null,
      "outputs": []
    },
    {
      "cell_type": "code",
      "metadata": {
        "id": "k-qyp1sbBh8-"
      },
      "source": [
        "imgS1_A1B4_8  = cv2.imread(S1_doubleA1B4_8)\n",
        "S1RGB_imgA1B4_8= cv2.cvtColor(imgS1_A1B4_8, cv2.COLOR_BGR2RGB)"
      ],
      "execution_count": null,
      "outputs": []
    },
    {
      "cell_type": "code",
      "metadata": {
        "id": "cL1lPhQiBh8-"
      },
      "source": [
        "imgS1_A1C1_8 = cv2.imread(S1_doubleA1C1_8)\n",
        "S1RGB_imgA1C1_8= cv2.cvtColor(imgS1_A1C1_8, cv2.COLOR_BGR2RGB)"
      ],
      "execution_count": null,
      "outputs": []
    },
    {
      "cell_type": "code",
      "metadata": {
        "id": "xvHXMyMmBh8_"
      },
      "source": [
        "imgS1_A1C2_8 = cv2.imread(S1_doubleA1C2_8)\n",
        "S1RGB_imgA1C2_8= cv2.cvtColor(imgS1_A1C2_8, cv2.COLOR_BGR2RGB)"
      ],
      "execution_count": null,
      "outputs": []
    },
    {
      "cell_type": "code",
      "metadata": {
        "id": "6vFJLs1NBh8_"
      },
      "source": [
        "imgS1_A1C3_8  = cv2.imread(S1_doubleA1C3_8)\n",
        "S1RGB_imgA1C3_8= cv2.cvtColor(imgS1_A1C3_8, cv2.COLOR_BGR2RGB)"
      ],
      "execution_count": null,
      "outputs": []
    },
    {
      "cell_type": "code",
      "metadata": {
        "id": "Wp1gMRzEBh8_"
      },
      "source": [
        "imgS1_A1C4_8  = cv2.imread(S1_doubleA1C4_8)\n",
        "S1RGB_imgA1C4_8= cv2.cvtColor(imgS1_A1C4_8, cv2.COLOR_BGR2RGB)"
      ],
      "execution_count": null,
      "outputs": []
    },
    {
      "cell_type": "code",
      "metadata": {
        "id": "JaHpiOR1Bh8_"
      },
      "source": [
        "imgS1_A1D2_8  = cv2.imread(S1_doubleA1D2_8)\n",
        "S1RGB_imgA1D2_8= cv2.cvtColor(imgS1_A1D2_8, cv2.COLOR_BGR2RGB)"
      ],
      "execution_count": null,
      "outputs": []
    },
    {
      "cell_type": "code",
      "metadata": {
        "id": "8txAY-gqBh9A"
      },
      "source": [
        "imgS1_A1D3_8 = cv2.imread(S1_doubleA1D3_8)\n",
        "S1RGB_imgA1D3_8= cv2.cvtColor(imgS1_A1D3_8, cv2.COLOR_BGR2RGB)"
      ],
      "execution_count": null,
      "outputs": []
    },
    {
      "cell_type": "code",
      "metadata": {
        "id": "kojwqr_tBh9A"
      },
      "source": [
        "imgS1_A1D4_8= cv2.imread(S1_doubleA1D4_8)\n",
        "S1RGB_imgA1D4_8= cv2.cvtColor(imgS1_A1D4_8, cv2.COLOR_BGR2RGB)"
      ],
      "execution_count": null,
      "outputs": []
    },
    {
      "cell_type": "markdown",
      "metadata": {
        "id": "AnSim2Mm5TAA"
      },
      "source": [
        "###Img 9"
      ]
    },
    {
      "cell_type": "code",
      "metadata": {
        "id": "-DR-fIzRBjVD"
      },
      "source": [
        "imgS1_A1A1_9= cv2.imread(S1_doubleA1A1_9)\n",
        "S1RGB_imgA1A1_9= cv2.cvtColor(imgS1_A1A1_9, cv2.COLOR_BGR2RGB)"
      ],
      "execution_count": null,
      "outputs": []
    },
    {
      "cell_type": "code",
      "metadata": {
        "id": "32LLJINUBjVD"
      },
      "source": [
        "imgS1_A1A2_9  = cv2.imread(S1_doubleA1A2_9)\n",
        "S1RGB_imgA1A2_9= cv2.cvtColor(imgS1_A1A2_9, cv2.COLOR_BGR2RGB)"
      ],
      "execution_count": null,
      "outputs": []
    },
    {
      "cell_type": "code",
      "metadata": {
        "id": "_1yxEmP4BjVD"
      },
      "source": [
        "imgS1_A1A3_9= cv2.imread(S1_doubleA1A3_9)\n",
        "S1RGB_imgA1A3_9= cv2.cvtColor(imgS1_A1A3_9, cv2.COLOR_BGR2RGB)"
      ],
      "execution_count": null,
      "outputs": []
    },
    {
      "cell_type": "code",
      "metadata": {
        "id": "vq2fLEkZBjVE"
      },
      "source": [
        "imgS1_A1A3_59  = cv2.imread(S1_doubleA1A3_59)\n",
        "S1RGB_imgA1A3_59= cv2.cvtColor(imgS1_A1A3_59, cv2.COLOR_BGR2RGB)"
      ],
      "execution_count": null,
      "outputs": []
    },
    {
      "cell_type": "code",
      "metadata": {
        "id": "2kYdOc2fBjVE"
      },
      "source": [
        "imgS1_A1A4_9  = cv2.imread(S1_doubleA1A4_9)\n",
        "S1RGB_imgA1A4_9= cv2.cvtColor(imgS1_A1A4_9, cv2.COLOR_BGR2RGB)"
      ],
      "execution_count": null,
      "outputs": []
    },
    {
      "cell_type": "code",
      "metadata": {
        "id": "st0btxV3BjVE"
      },
      "source": [
        "imgS1_A1B1_9  = cv2.imread(S1_doubleA1B1_9)\n",
        "S1RGB_imgA1B1_9= cv2.cvtColor(imgS1_A1B1_9, cv2.COLOR_BGR2RGB)"
      ],
      "execution_count": null,
      "outputs": []
    },
    {
      "cell_type": "code",
      "metadata": {
        "id": "wRc5dHNKBjVE"
      },
      "source": [
        "imgS1_A1B2_9  = cv2.imread(S1_doubleA1B2_9)\n",
        "S1RGB_imgA1B2_9= cv2.cvtColor(imgS1_A1B2_9, cv2.COLOR_BGR2RGB)"
      ],
      "execution_count": null,
      "outputs": []
    },
    {
      "cell_type": "code",
      "metadata": {
        "id": "absJCbOWBjVE"
      },
      "source": [
        "imgS1_A1B3_9  = cv2.imread(S1_doubleA1B3_9)\n",
        "S1RGB_imgA1B3_9= cv2.cvtColor(imgS1_A1B3_9, cv2.COLOR_BGR2RGB)"
      ],
      "execution_count": null,
      "outputs": []
    },
    {
      "cell_type": "code",
      "metadata": {
        "id": "k3sdC8SlBjVF"
      },
      "source": [
        "imgS1_A1B4_9 = cv2.imread(S1_doubleA1B4_9)\n",
        "S1RGB_imgA1B4_9= cv2.cvtColor(imgS1_A1B4_9, cv2.COLOR_BGR2RGB)"
      ],
      "execution_count": null,
      "outputs": []
    },
    {
      "cell_type": "code",
      "metadata": {
        "id": "0rXhPA7dBjVF"
      },
      "source": [
        "imgS1_A1C1_9  = cv2.imread(S1_doubleA1C1_9)\n",
        "S1RGB_imgA1C1_9= cv2.cvtColor(imgS1_A1C1_9, cv2.COLOR_BGR2RGB)"
      ],
      "execution_count": null,
      "outputs": []
    },
    {
      "cell_type": "code",
      "metadata": {
        "id": "f7_prgcYBjVF"
      },
      "source": [
        "imgS1_A1C2_9  = cv2.imread(S1_doubleA1C2_9)\n",
        "S1RGB_imgA1C2_9= cv2.cvtColor(imgS1_A1C2_9, cv2.COLOR_BGR2RGB)"
      ],
      "execution_count": null,
      "outputs": []
    },
    {
      "cell_type": "code",
      "metadata": {
        "id": "ZkpTSnppBjVG"
      },
      "source": [
        "imgS1_A1C3_9  = cv2.imread(S1_doubleA1C3_9)\n",
        "S1RGB_imgA1C3_9= cv2.cvtColor(imgS1_A1C3_9, cv2.COLOR_BGR2RGB)"
      ],
      "execution_count": null,
      "outputs": []
    },
    {
      "cell_type": "code",
      "metadata": {
        "id": "gkkfaT56BjVG"
      },
      "source": [
        "imgS1_A1C4_9 = cv2.imread(S1_doubleA1C4_9)\n",
        "S1RGB_imgA1C4_9= cv2.cvtColor(imgS1_A1C4_9, cv2.COLOR_BGR2RGB)"
      ],
      "execution_count": null,
      "outputs": []
    },
    {
      "cell_type": "code",
      "metadata": {
        "id": "3v6YlCDYBjVG"
      },
      "source": [
        "imgS1_A1D2_9 = cv2.imread(S1_doubleA1D2_9)\n",
        "S1RGB_imgA1D2_9= cv2.cvtColor(imgS1_A1D2_9, cv2.COLOR_BGR2RGB)"
      ],
      "execution_count": null,
      "outputs": []
    },
    {
      "cell_type": "code",
      "metadata": {
        "id": "LDioQwDsBjVG"
      },
      "source": [
        "imgS1_A1D3_9 = cv2.imread(S1_doubleA1D3_9)\n",
        "S1RGB_imgA1D3_9= cv2.cvtColor(imgS1_A1D3_9, cv2.COLOR_BGR2RGB)"
      ],
      "execution_count": null,
      "outputs": []
    },
    {
      "cell_type": "code",
      "metadata": {
        "id": "Xtxq3LL_BjVG"
      },
      "source": [
        "imgS1_A1D4_9 = cv2.imread(S1_doubleA1D4_9)\n",
        "S1RGB_imgA1D4_9= cv2.cvtColor(imgS1_A1D4_9, cv2.COLOR_BGR2RGB)"
      ],
      "execution_count": null,
      "outputs": []
    },
    {
      "cell_type": "markdown",
      "metadata": {
        "id": "KZ60m9FE5XxX"
      },
      "source": [
        "###Img 10"
      ]
    },
    {
      "cell_type": "code",
      "metadata": {
        "id": "i5AT69h3Bkl4"
      },
      "source": [
        "imgS1_A1A1_10 = cv2.imread(S1_doubleA1A1_10)\n",
        "S1RGB_imgA1A1_10= cv2.cvtColor(imgS1_A1A1_10, cv2.COLOR_BGR2RGB)"
      ],
      "execution_count": null,
      "outputs": []
    },
    {
      "cell_type": "code",
      "metadata": {
        "id": "C8sTQtUdBkl4"
      },
      "source": [
        "imgS1_A1A2_10  = cv2.imread(S1_doubleA1A2_10)\n",
        "S1RGB_imgA1A2_10= cv2.cvtColor(imgS1_A1A2_10, cv2.COLOR_BGR2RGB)"
      ],
      "execution_count": null,
      "outputs": []
    },
    {
      "cell_type": "code",
      "metadata": {
        "id": "9NUzr_QiBkl4"
      },
      "source": [
        "imgS1_A1A3_10= cv2.imread(S1_doubleA1A3_10)\n",
        "S1RGB_imgA1A3_10= cv2.cvtColor(imgS1_A1A3_10, cv2.COLOR_BGR2RGB)"
      ],
      "execution_count": null,
      "outputs": []
    },
    {
      "cell_type": "code",
      "metadata": {
        "id": "-C1gaiR4Bkl4"
      },
      "source": [
        "imgS1_A1A3_510 = cv2.imread(S1_doubleA1A3_510)\n",
        "S1RGB_imgA1A3_510= cv2.cvtColor(imgS1_A1A3_510, cv2.COLOR_BGR2RGB)"
      ],
      "execution_count": null,
      "outputs": []
    },
    {
      "cell_type": "code",
      "metadata": {
        "id": "CS-kbrP8Bkl5"
      },
      "source": [
        "imgS1_A1A4_10 = cv2.imread(S1_doubleA1A4_10)\n",
        "S1RGB_imgA1A4_10= cv2.cvtColor(imgS1_A1A4_10, cv2.COLOR_BGR2RGB)"
      ],
      "execution_count": null,
      "outputs": []
    },
    {
      "cell_type": "code",
      "metadata": {
        "id": "3l-yHwctBkl5"
      },
      "source": [
        "imgS1_A1B1_10  = cv2.imread(S1_doubleA1B1_10)\n",
        "S1RGB_imgA1B1_10= cv2.cvtColor(imgS1_A1B1_10, cv2.COLOR_BGR2RGB)"
      ],
      "execution_count": null,
      "outputs": []
    },
    {
      "cell_type": "code",
      "metadata": {
        "id": "hi-2y5U7Bkl5"
      },
      "source": [
        "imgS1_A1B2_10  = cv2.imread(S1_doubleA1B2_10)\n",
        "S1RGB_imgA1B2_10= cv2.cvtColor(imgS1_A1B2_10, cv2.COLOR_BGR2RGB)"
      ],
      "execution_count": null,
      "outputs": []
    },
    {
      "cell_type": "code",
      "metadata": {
        "id": "PD1fFSmXBkl5"
      },
      "source": [
        "imgS1_A1B3_10  = cv2.imread(S1_doubleA1B3_10)\n",
        "S1RGB_imgA1B3_10= cv2.cvtColor(imgS1_A1B3_10, cv2.COLOR_BGR2RGB)"
      ],
      "execution_count": null,
      "outputs": []
    },
    {
      "cell_type": "code",
      "metadata": {
        "id": "YuCe-e8RBkl5"
      },
      "source": [
        "imgS1_A1B4_10 = cv2.imread(S1_doubleA1B4_10)\n",
        "S1RGB_imgA1B4_10= cv2.cvtColor(imgS1_A1B4_10, cv2.COLOR_BGR2RGB)"
      ],
      "execution_count": null,
      "outputs": []
    },
    {
      "cell_type": "code",
      "metadata": {
        "id": "R5JrDyTsBkl6"
      },
      "source": [
        "imgS1_A1C1_10  = cv2.imread(S1_doubleA1C1_10)\n",
        "S1RGB_imgA1C1_10= cv2.cvtColor(imgS1_A1C1_10, cv2.COLOR_BGR2RGB)"
      ],
      "execution_count": null,
      "outputs": []
    },
    {
      "cell_type": "code",
      "metadata": {
        "id": "a0Qc6623Bkl6"
      },
      "source": [
        "imgS1_A1C2_10  = cv2.imread(S1_doubleA1C2_10)\n",
        "S1RGB_imgA1C2_10= cv2.cvtColor(imgS1_A1C2_10, cv2.COLOR_BGR2RGB)"
      ],
      "execution_count": null,
      "outputs": []
    },
    {
      "cell_type": "code",
      "metadata": {
        "id": "Ly0McuCeBkl6"
      },
      "source": [
        "imgS1_A1C3_10  = cv2.imread(S1_doubleA1C3_10)\n",
        "S1RGB_imgA1C3_10= cv2.cvtColor(imgS1_A1C3_10, cv2.COLOR_BGR2RGB)"
      ],
      "execution_count": null,
      "outputs": []
    },
    {
      "cell_type": "code",
      "metadata": {
        "id": "2A0p4UOkBkl6"
      },
      "source": [
        "imgS1_A1C4_10 = cv2.imread(S1_doubleA1C4_10)\n",
        "S1RGB_imgA1C4_10= cv2.cvtColor(imgS1_A1C4_10, cv2.COLOR_BGR2RGB)"
      ],
      "execution_count": null,
      "outputs": []
    },
    {
      "cell_type": "code",
      "metadata": {
        "id": "UFsQcGa0Bkl6"
      },
      "source": [
        "imgS1_A1D2_10 = cv2.imread(S1_doubleA1D2_10)\n",
        "S1RGB_imgA1D2_10= cv2.cvtColor(imgS1_A1D2_10, cv2.COLOR_BGR2RGB)"
      ],
      "execution_count": null,
      "outputs": []
    },
    {
      "cell_type": "code",
      "metadata": {
        "id": "Vmdg8D_ABkl7"
      },
      "source": [
        "imgS1_A1D3_10  = cv2.imread(S1_doubleA1D3_10)\n",
        "S1RGB_imgA1D3_10= cv2.cvtColor(imgS1_A1D3_10, cv2.COLOR_BGR2RGB)"
      ],
      "execution_count": null,
      "outputs": []
    },
    {
      "cell_type": "code",
      "metadata": {
        "id": "YyR21WDNBkl7"
      },
      "source": [
        "imgS1_A1D4_10  = cv2.imread(S1_doubleA1D4_10)\n",
        "S1RGB_imgA1D4_10= cv2.cvtColor(imgS1_A1D4_10, cv2.COLOR_BGR2RGB)"
      ],
      "execution_count": null,
      "outputs": []
    },
    {
      "cell_type": "markdown",
      "metadata": {
        "id": "4XyCaNz1YAzf"
      },
      "source": [
        "#4. ฺBGR TO HSV"
      ]
    },
    {
      "cell_type": "markdown",
      "metadata": {
        "id": "1H0qQCcKOTUC"
      },
      "source": [
        "##Set1"
      ]
    },
    {
      "cell_type": "code",
      "metadata": {
        "id": "V7LoW4sLYP0V"
      },
      "source": [
        "S1_A1A1_1img  = cv2.imread(S1_doubleA1A1_1)\n",
        "S1HSV_imgA1A1_1= cv2.cvtColor(S1_A1A1_1img, cv2.COLOR_BGR2HSV)\n",
        "plt.imshow(S1HSV_imgA1A1_1)"
      ],
      "execution_count": null,
      "outputs": []
    },
    {
      "cell_type": "code",
      "metadata": {
        "id": "se8UQIFwnL8I"
      },
      "source": [
        "S1_A1A2_1img  = cv2.imread(S1_doubleA1A2_1)\n",
        "S1HSV_imgA1A2_1= cv2.cvtColor(S1_A1A2_1img, cv2.COLOR_BGR2HSV)"
      ],
      "execution_count": null,
      "outputs": []
    },
    {
      "cell_type": "code",
      "metadata": {
        "id": "NlS3nnjpnMIQ"
      },
      "source": [
        "S1_A1A3_1img  = cv2.imread(S1_doubleA1A3_1)\n",
        "S1HSV_imgA1A3_1= cv2.cvtColor(S1_A1A3_1img, cv2.COLOR_BGR2HSV)"
      ],
      "execution_count": null,
      "outputs": []
    },
    {
      "cell_type": "code",
      "metadata": {
        "id": "gaiV37Atm-qM"
      },
      "source": [
        "S1_A1A3_51img  = cv2.imread(S1_doubleA1A3_51)\n",
        "S1HSV_imgA1A3_51= cv2.cvtColor(S1_A1A3_51img, cv2.COLOR_BGR2HSV)"
      ],
      "execution_count": null,
      "outputs": []
    },
    {
      "cell_type": "code",
      "metadata": {
        "id": "b3l1xgJWm-r6"
      },
      "source": [
        "S1_A1A4_1img  = cv2.imread(S1_doubleA1A4_1)\n",
        "S1HSV_imgA1A4_1= cv2.cvtColor(S1_A1A4_1img, cv2.COLOR_BGR2HSV)"
      ],
      "execution_count": null,
      "outputs": []
    },
    {
      "cell_type": "code",
      "metadata": {
        "id": "w26dE2E2m-ui"
      },
      "source": [
        "S1_A1B1_1img  = cv2.imread(S1_doubleA1B1_1)\n",
        "S1HSV_imgA1B1_1= cv2.cvtColor(S1_A1B1_1img, cv2.COLOR_BGR2HSV)"
      ],
      "execution_count": null,
      "outputs": []
    },
    {
      "cell_type": "code",
      "metadata": {
        "id": "qq4hEemVm-wd"
      },
      "source": [
        "S1_A1B2_1img  = cv2.imread(S1_doubleA1B2_1)\n",
        "S1HSV_imgA1B2_1= cv2.cvtColor(S1_A1B2_1img, cv2.COLOR_BGR2HSV)"
      ],
      "execution_count": null,
      "outputs": []
    },
    {
      "cell_type": "code",
      "metadata": {
        "id": "9TyEGSZmp7wg"
      },
      "source": [
        "S1_A1B3_1img  = cv2.imread(S1_doubleA1B3_1)\n",
        "S1HSV_imgA1B3_1= cv2.cvtColor(S1_A1B3_1img, cv2.COLOR_BGR2HSV)"
      ],
      "execution_count": null,
      "outputs": []
    },
    {
      "cell_type": "code",
      "metadata": {
        "id": "8fg70FdZm-0y"
      },
      "source": [
        "S1_A1B4_1img  = cv2.imread(S1_doubleA1B4_1)\n",
        "S1HSV_imgA1B4_1= cv2.cvtColor(S1_A1B4_1img, cv2.COLOR_BGR2HSV)"
      ],
      "execution_count": null,
      "outputs": []
    },
    {
      "cell_type": "code",
      "metadata": {
        "id": "86KJ5WjYqLAs"
      },
      "source": [
        "S1_A1C1_1img  = cv2.imread(S1_doubleA1C1_1)\n",
        "S1HSV_imgA1C1_1= cv2.cvtColor(S1_A1C1_1img, cv2.COLOR_BGR2HSV)"
      ],
      "execution_count": null,
      "outputs": []
    },
    {
      "cell_type": "code",
      "metadata": {
        "id": "4o2oKmb-qLDu"
      },
      "source": [
        "S1_A1C2_1img  = cv2.imread(S1_doubleA1C2_1)\n",
        "S1HSV_imgA1C2_1= cv2.cvtColor(S1_A1C2_1img, cv2.COLOR_BGR2HSV)"
      ],
      "execution_count": null,
      "outputs": []
    },
    {
      "cell_type": "code",
      "metadata": {
        "id": "0pGWlEU1qLHp"
      },
      "source": [
        "S1_A1C3_1img  = cv2.imread(S1_doubleA1C3_1)\n",
        "S1HSV_imgA1C3_1= cv2.cvtColor(S1_A1C3_1img, cv2.COLOR_BGR2HSV)"
      ],
      "execution_count": null,
      "outputs": []
    },
    {
      "cell_type": "code",
      "metadata": {
        "id": "IZQIfJ4iqLKb"
      },
      "source": [
        "S1_A1C4_1img  = cv2.imread(S1_doubleA1C4_1)\n",
        "S1HSV_imgA1C4_1= cv2.cvtColor(S1_A1C4_1img, cv2.COLOR_BGR2HSV)"
      ],
      "execution_count": null,
      "outputs": []
    },
    {
      "cell_type": "code",
      "metadata": {
        "id": "k_K9BBJpqLOi"
      },
      "source": [
        "S1_A1D2_1img  = cv2.imread(S1_doubleA1D2_1)\n",
        "S1HSV_imgA1D2_1= cv2.cvtColor(S1_A1D2_1img, cv2.COLOR_BGR2HSV)"
      ],
      "execution_count": null,
      "outputs": []
    },
    {
      "cell_type": "code",
      "metadata": {
        "id": "v6YEm_v5quL_"
      },
      "source": [
        "S1_A1D3_1img  = cv2.imread(S1_doubleA1D3_1)\n",
        "S1HSV_imgA1D3_1= cv2.cvtColor(S1_A1D3_1img, cv2.COLOR_BGR2HSV)"
      ],
      "execution_count": null,
      "outputs": []
    },
    {
      "cell_type": "code",
      "metadata": {
        "id": "SMvBLdQxm-3f"
      },
      "source": [
        "S1_A1D4_1img  = cv2.imread(S1_doubleA1D4_1)\n",
        "S1HSV_imgA1D4_1= cv2.cvtColor(S1_A1D4_1img, cv2.COLOR_BGR2HSV)"
      ],
      "execution_count": null,
      "outputs": []
    },
    {
      "cell_type": "markdown",
      "metadata": {
        "id": "qObWjRD83Rd-"
      },
      "source": [
        "###Img 2"
      ]
    },
    {
      "cell_type": "code",
      "metadata": {
        "id": "OoihHNQe3ReA"
      },
      "source": [
        "S1_A1A1_2img  = cv2.imread(S1_doubleA1A1_2)\n",
        "S1HSV_imgA1A1_2= cv2.cvtColor(S1_A1A1_2img, cv2.COLOR_BGR2HSV)"
      ],
      "execution_count": null,
      "outputs": []
    },
    {
      "cell_type": "code",
      "metadata": {
        "id": "F1TsjfTZ3ReC"
      },
      "source": [
        "S1_A1A2_2img  = cv2.imread(S1_doubleA1A2_2)\n",
        "S1HSV_imgA1A2_2= cv2.cvtColor(S1_A1A2_2img, cv2.COLOR_BGR2HSV)"
      ],
      "execution_count": null,
      "outputs": []
    },
    {
      "cell_type": "code",
      "metadata": {
        "id": "ZYGZB2C73ReE"
      },
      "source": [
        "S1_A1A3_2img  = cv2.imread(S1_doubleA1A3_)\n",
        "S1HSV_imgA1A3_2= cv2.cvtColor(S1_A1A3_1img, cv2.COLOR_BGR2HSV)"
      ],
      "execution_count": null,
      "outputs": []
    },
    {
      "cell_type": "code",
      "metadata": {
        "id": "ec2o9E_D3ReF"
      },
      "source": [
        "S1_A1A3_52img  = cv2.imread(S1_doubleA1A3_52)\n",
        "S1HSV_imgA1A3_52= cv2.cvtColor(S1_A1A3_52img, cv2.COLOR_BGR2HSV)"
      ],
      "execution_count": null,
      "outputs": []
    },
    {
      "cell_type": "code",
      "metadata": {
        "id": "5B0KlpML3ReG"
      },
      "source": [
        "S1_A1A4_2img  = cv2.imread(S1_doubleA1A4_2)\n",
        "S1HSV_imgA1A4_2= cv2.cvtColor(S1_A1A4_2img, cv2.COLOR_BGR2HSV)"
      ],
      "execution_count": null,
      "outputs": []
    },
    {
      "cell_type": "code",
      "metadata": {
        "id": "VxlQM87C3ReI"
      },
      "source": [
        "S1_A1B1_2img  = cv2.imread(S1_doubleA1B1_2)\n",
        "S1HSV_imgA1B1_2= cv2.cvtColor(S1_A1B1_img, cv2.COLOR_BGR2HSV)"
      ],
      "execution_count": null,
      "outputs": []
    },
    {
      "cell_type": "code",
      "metadata": {
        "id": "zDvA_m3D3ReJ"
      },
      "source": [
        "S1_A1B2_2img  = cv2.imread(S1_doubleA1B2_2)\n",
        "S1HSV_imgA1B2_2= cv2.cvtColor(S1_A1B2_2img, cv2.COLOR_BGR2HSV)"
      ],
      "execution_count": null,
      "outputs": []
    },
    {
      "cell_type": "code",
      "metadata": {
        "id": "HunSHsYL3ReJ"
      },
      "source": [
        "S1_A1B3_2img  = cv2.imread(S1_doubleA1B3_2)\n",
        "S1HSV_imgA1B3_2= cv2.cvtColor(S1_A1B3_2img, cv2.COLOR_BGR2HSV)"
      ],
      "execution_count": null,
      "outputs": []
    },
    {
      "cell_type": "code",
      "metadata": {
        "id": "sQ10cu6F3ReK"
      },
      "source": [
        "S1_A1B4_2img  = cv2.imread(S1_doubleA1B4_2)\n",
        "S1HSV_imgA1B4_2= cv2.cvtColor(S1_A1B4_2img, cv2.COLOR_BGR2HSV)"
      ],
      "execution_count": null,
      "outputs": []
    },
    {
      "cell_type": "code",
      "metadata": {
        "id": "0L_Ye0L53ReK"
      },
      "source": [
        "S1_A1C1_2img  = cv2.imread(S1_doubleA1C1_2)\n",
        "S1HSV_imgA1C1_2= cv2.cvtColor(S1_A1C1_2img, cv2.COLOR_BGR2HSV)"
      ],
      "execution_count": null,
      "outputs": []
    },
    {
      "cell_type": "code",
      "metadata": {
        "id": "lkkb5qPC3ReL"
      },
      "source": [
        "S1_A1C2_2img  = cv2.imread(S1_doubleA1C2_2)\n",
        "S1HSV_imgA1C2_2= cv2.cvtColor(S1_A1C2_2img, cv2.COLOR_BGR2HSV)"
      ],
      "execution_count": null,
      "outputs": []
    },
    {
      "cell_type": "code",
      "metadata": {
        "id": "5njJuwFU3ReL"
      },
      "source": [
        "S1_A1C3_2img  = cv2.imread(S1_doubleA1C3_2)\n",
        "S1HSV_imgA1C3_2= cv2.cvtColor(S1_A1C3_2img, cv2.COLOR_BGR2HSV)"
      ],
      "execution_count": null,
      "outputs": []
    },
    {
      "cell_type": "code",
      "metadata": {
        "id": "MK4Q2h7r3ReM"
      },
      "source": [
        "S1_A1C4_2img  = cv2.imread(S1_doubleA1C4_2)\n",
        "S1HSV_imgA1C4_2= cv2.cvtColor(S1_A1C4_2img, cv2.COLOR_BGR2HSV)"
      ],
      "execution_count": null,
      "outputs": []
    },
    {
      "cell_type": "code",
      "metadata": {
        "id": "NU2-pD7A3ReN"
      },
      "source": [
        "S1_A1D2_2img  = cv2.imread(S1_doubleA1D2_2)\n",
        "S1HSV_imgA1D2_2= cv2.cvtColor(S1_A1D2_2img, cv2.COLOR_BGR2HSV)"
      ],
      "execution_count": null,
      "outputs": []
    },
    {
      "cell_type": "code",
      "metadata": {
        "id": "3oqaBClV3ReO"
      },
      "source": [
        "S1_A1D3_2img  = cv2.imread(S1_doubleA1D3_)\n",
        "S1HSV_imgA1D3_= cv2.cvtColor(S1_A1D3_img, cv2.COLOR_BGR2HSV)"
      ],
      "execution_count": null,
      "outputs": []
    },
    {
      "cell_type": "code",
      "metadata": {
        "id": "BMzs70573ReO"
      },
      "source": [
        "S1_A1D4_2img  = cv2.imread(S1_doubleA1D4_2)\n",
        "S1HSV_imgA1D4_2= cv2.cvtColor(S1_A1D4_2img, cv2.COLOR_BGR2HSV)"
      ],
      "execution_count": null,
      "outputs": []
    },
    {
      "cell_type": "markdown",
      "metadata": {
        "id": "bFUmz21i_tVm"
      },
      "source": [
        "###Img 3"
      ]
    },
    {
      "cell_type": "code",
      "metadata": {
        "id": "oGky0MDF_tVm"
      },
      "source": [
        "S1_A1A1_3img  = cv2.imread(S1_doubleA1A1_3)\n",
        "S1HSV_imgA1A1_3= cv2.cvtColor(S1_A1A1_3img, cv2.COLOR_BGR2HSV)"
      ],
      "execution_count": null,
      "outputs": []
    },
    {
      "cell_type": "code",
      "metadata": {
        "id": "kVW8ETpP_tVn"
      },
      "source": [
        "S1_A1A2_3img  = cv2.imread(S1_doubleA1A2_3)\n",
        "S1HSV_imgA1A2_3= cv2.cvtColor(S1_A1A2_3img, cv2.COLOR_BGR2HSV)"
      ],
      "execution_count": null,
      "outputs": []
    },
    {
      "cell_type": "code",
      "metadata": {
        "id": "_GpoJFcy_tVn"
      },
      "source": [
        "S1_A1A3_3img  = cv2.imread(S1_doubleA1A3_3)\n",
        "S1HSV_imgA1A3_3= cv2.cvtColor(S1_A1A3_3img, cv2.COLOR_BGR2HSV)"
      ],
      "execution_count": null,
      "outputs": []
    },
    {
      "cell_type": "code",
      "metadata": {
        "id": "e75LT_fq_tVo"
      },
      "source": [
        "S1_A1A3_53img  = cv2.imread(S1_doubleA1A3_53)\n",
        "S1HSV_imgA1A3_53= cv2.cvtColor(S1_A1A3_53img, cv2.COLOR_BGR2HSV)"
      ],
      "execution_count": null,
      "outputs": []
    },
    {
      "cell_type": "code",
      "metadata": {
        "id": "e0dWinlE_tVp"
      },
      "source": [
        "S1_A1A4_3img  = cv2.imread(S1_doubleA1A4_3)\n",
        "S1HSV_imgA1A4_3= cv2.cvtColor(S1_A1A4_3img, cv2.COLOR_BGR2HSV)"
      ],
      "execution_count": null,
      "outputs": []
    },
    {
      "cell_type": "code",
      "metadata": {
        "id": "1qUpWuoD_tVq"
      },
      "source": [
        "S1_A1B1_3img  = cv2.imread(S1_doubleA1B1_3)\n",
        "S1HSV_imgA1B1_3= cv2.cvtColor(S1_A1B1_3img, cv2.COLOR_BGR2HSV)"
      ],
      "execution_count": null,
      "outputs": []
    },
    {
      "cell_type": "code",
      "metadata": {
        "id": "meA5JBPl_tVq"
      },
      "source": [
        "S1_A1B2_3img  = cv2.imread(S1_doubleA1B2_3)\n",
        "S1HSV_imgA1B2_3= cv2.cvtColor(S1_A1B2_3img, cv2.COLOR_BGR2HSV)"
      ],
      "execution_count": null,
      "outputs": []
    },
    {
      "cell_type": "code",
      "metadata": {
        "id": "B_qHavHx_tVr"
      },
      "source": [
        "S1_A1B3_3img  = cv2.imread(S1_doubleA1B3_3)\n",
        "S1HSV_imgA1B3_3= cv2.cvtColor(S1_A1B3_3img, cv2.COLOR_BGR2HSV)"
      ],
      "execution_count": null,
      "outputs": []
    },
    {
      "cell_type": "code",
      "metadata": {
        "id": "EnJTqOB5_tVr"
      },
      "source": [
        "S1_A1B4_3img  = cv2.imread(S1_doubleA1B4_3)\n",
        "S1HSV_imgA1B4_3= cv2.cvtColor(S1_A1B4_3img, cv2.COLOR_BGR2HSV)"
      ],
      "execution_count": null,
      "outputs": []
    },
    {
      "cell_type": "code",
      "metadata": {
        "id": "EyglWL31_tVr"
      },
      "source": [
        "S1_A1C1_3img  = cv2.imread(S1_doubleA1C1_3)\n",
        "S1HSV_imgA1C1_3= cv2.cvtColor(S1_A1C1_3img, cv2.COLOR_BGR2HSV)"
      ],
      "execution_count": null,
      "outputs": []
    },
    {
      "cell_type": "code",
      "metadata": {
        "id": "mkeSyWjy_tVs"
      },
      "source": [
        "S1_A1C2_3img  = cv2.imread(S1_doubleA1C2_3)\n",
        "S1HSV_imgA1C2_3= cv2.cvtColor(S1_A1C2_3img, cv2.COLOR_BGR2HSV)"
      ],
      "execution_count": null,
      "outputs": []
    },
    {
      "cell_type": "code",
      "metadata": {
        "id": "H3Pcx5LX_tVs"
      },
      "source": [
        "S1_A1C3_3img  = cv2.imread(S1_doubleA1C3_3)\n",
        "S1HSV_imgA1C3_3= cv2.cvtColor(S1_A1C3_3img, cv2.COLOR_BGR2HSV)"
      ],
      "execution_count": null,
      "outputs": []
    },
    {
      "cell_type": "code",
      "metadata": {
        "id": "ArQb5moQ_tVs"
      },
      "source": [
        "S1_A1C4_3img  = cv2.imread(S1_doubleA1C4_3)\n",
        "S1HSV_imgA1C4_3= cv2.cvtColor(S1_A1C4_3img, cv2.COLOR_BGR2HSV)"
      ],
      "execution_count": null,
      "outputs": []
    },
    {
      "cell_type": "code",
      "metadata": {
        "id": "_TMKeA90_tVt"
      },
      "source": [
        "S1_A1D2_3img  = cv2.imread(S1_doubleA1D2_3)\n",
        "S1HSV_imgA1D2_3= cv2.cvtColor(S1_A1D2_3img, cv2.COLOR_BGR2HSV)"
      ],
      "execution_count": null,
      "outputs": []
    },
    {
      "cell_type": "code",
      "metadata": {
        "id": "_BwtlVjY_tVt"
      },
      "source": [
        "S1_A1D3_3img  = cv2.imread(S1_doubleA1D3_3)\n",
        "S1HSV_imgA1D3_3= cv2.cvtColor(S1_A1D3_3img, cv2.COLOR_BGR2HSV)"
      ],
      "execution_count": null,
      "outputs": []
    },
    {
      "cell_type": "code",
      "metadata": {
        "id": "edUZFY5S_tVt"
      },
      "source": [
        "S1_A1D4_3img  = cv2.imread(S1_doubleA1D4_3)\n",
        "S1HSV_imgA1D4_3= cv2.cvtColor(S1_A1D4_3img, cv2.COLOR_BGR2HSV)"
      ],
      "execution_count": null,
      "outputs": []
    },
    {
      "cell_type": "markdown",
      "metadata": {
        "id": "bCeJwUQR_zU1"
      },
      "source": [
        "###Img 4"
      ]
    },
    {
      "cell_type": "code",
      "metadata": {
        "id": "0mzTwWTX_zU2"
      },
      "source": [
        "S1_A1A1_4img  = cv2.imread(S1_doubleA1A1_4)\n",
        "S1HSV_imgA1A1_4= cv2.cvtColor(S1_A1A1_4img, cv2.COLOR_BGR2HSV)"
      ],
      "execution_count": null,
      "outputs": []
    },
    {
      "cell_type": "code",
      "metadata": {
        "id": "6blZkJm8_zU2"
      },
      "source": [
        "S1_A1A2_4img  = cv2.imread(S1_doubleA1A2_4)\n",
        "S1HSV_imgA1A2_4= cv2.cvtColor(S1_A1A2_4img, cv2.COLOR_BGR2HSV)"
      ],
      "execution_count": null,
      "outputs": []
    },
    {
      "cell_type": "code",
      "metadata": {
        "id": "zPHIaWr2_zU3"
      },
      "source": [
        "S1_A1A3_4img  = cv2.imread(S1_doubleA1A3_4)\n",
        "S1HSV_imgA1A3_4= cv2.cvtColor(S1_A1A3_4img, cv2.COLOR_BGR2HSV)"
      ],
      "execution_count": null,
      "outputs": []
    },
    {
      "cell_type": "code",
      "metadata": {
        "id": "CAwV3DKZ_zU3"
      },
      "source": [
        "S1_A1A3_54img  = cv2.imread(S1_doubleA1A3_54)\n",
        "S1HSV_imgA1A3_54= cv2.cvtColor(S1_A1A3_54img, cv2.COLOR_BGR2HSV)"
      ],
      "execution_count": null,
      "outputs": []
    },
    {
      "cell_type": "code",
      "metadata": {
        "id": "WCxIMq5D_zU3"
      },
      "source": [
        "S1_A1A4_4img  = cv2.imread(S1_doubleA1A4_4)\n",
        "S1HSV_imgA1A4_4= cv2.cvtColor(S1_A1A4_4img, cv2.COLOR_BGR2HSV)"
      ],
      "execution_count": null,
      "outputs": []
    },
    {
      "cell_type": "code",
      "metadata": {
        "id": "cb0Mhi6D_zU4"
      },
      "source": [
        "S1_A1B1_4img  = cv2.imread(S1_doubleA1B1_4)\n",
        "S1HSV_imgA1B1_4= cv2.cvtColor(S1_A1B1_4img, cv2.COLOR_BGR2HSV)"
      ],
      "execution_count": null,
      "outputs": []
    },
    {
      "cell_type": "code",
      "metadata": {
        "id": "UYkb3N_J_zU4"
      },
      "source": [
        "S1_A1B2_4img  = cv2.imread(S1_doubleA1B2_4)\n",
        "S1HSV_imgA1B2_4= cv2.cvtColor(S1_A1B2_4img, cv2.COLOR_BGR2HSV)"
      ],
      "execution_count": null,
      "outputs": []
    },
    {
      "cell_type": "code",
      "metadata": {
        "id": "PWF1Qswt_zU4"
      },
      "source": [
        "S1_A1B3_4img  = cv2.imread(S1_doubleA1B3_4)\n",
        "S1HSV_imgA1B3_4= cv2.cvtColor(S1_A1B3_4img, cv2.COLOR_BGR2HSV)"
      ],
      "execution_count": null,
      "outputs": []
    },
    {
      "cell_type": "code",
      "metadata": {
        "id": "4ZQEpdt1_zU5"
      },
      "source": [
        "S1_A1B4_4img  = cv2.imread(S1_doubleA1B4_4)\n",
        "S1HSV_imgA1B4_4= cv2.cvtColor(S1_A1B4_4img, cv2.COLOR_BGR2HSV)"
      ],
      "execution_count": null,
      "outputs": []
    },
    {
      "cell_type": "code",
      "metadata": {
        "id": "85st5FU-_zU5"
      },
      "source": [
        "S1_A1C1_4img  = cv2.imread(S1_doubleA1C1_4)\n",
        "S1HSV_imgA1C1_4= cv2.cvtColor(S1_A1C1_4img, cv2.COLOR_BGR2HSV)"
      ],
      "execution_count": null,
      "outputs": []
    },
    {
      "cell_type": "code",
      "metadata": {
        "id": "U8fukE7G_zU5"
      },
      "source": [
        "S1_A1C2_4img  = cv2.imread(S1_doubleA1C2_4)\n",
        "S1HSV_imgA1C2_4= cv2.cvtColor(S1_A1C2_4img, cv2.COLOR_BGR2HSV)"
      ],
      "execution_count": null,
      "outputs": []
    },
    {
      "cell_type": "code",
      "metadata": {
        "id": "fx2kDBf2_zU6"
      },
      "source": [
        "S1_A1C3_4img  = cv2.imread(S1_doubleA1C3_4)\n",
        "S1HSV_imgA1C3_4= cv2.cvtColor(S1_A1C3_4img, cv2.COLOR_BGR2HSV)"
      ],
      "execution_count": null,
      "outputs": []
    },
    {
      "cell_type": "code",
      "metadata": {
        "id": "WjtAiEiC_zU6"
      },
      "source": [
        "S1_A1C4_4img  = cv2.imread(S1_doubleA1C4_4)\n",
        "S1HSV_imgA1C4_4= cv2.cvtColor(S1_A1C4_4img, cv2.COLOR_BGR2HSV)"
      ],
      "execution_count": null,
      "outputs": []
    },
    {
      "cell_type": "code",
      "metadata": {
        "id": "o-VgPVUg_zU6"
      },
      "source": [
        "S1_A1D2_4img  = cv2.imread(S1_doubleA1D2_4)\n",
        "S1HSV_imgA1D2_4= cv2.cvtColor(S1_A1D2_4img, cv2.COLOR_BGR2HSV)"
      ],
      "execution_count": null,
      "outputs": []
    },
    {
      "cell_type": "code",
      "metadata": {
        "id": "4-7w5-tx_zU6"
      },
      "source": [
        "S1_A1D3_4img  = cv2.imread(S1_doubleA1D3_4)\n",
        "S1HSV_imgA1D3_4= cv2.cvtColor(S1_A1D3_4img, cv2.COLOR_BGR2HSV)"
      ],
      "execution_count": null,
      "outputs": []
    },
    {
      "cell_type": "code",
      "metadata": {
        "id": "aemCfVov_zU7"
      },
      "source": [
        "S1_A1D4_4img  = cv2.imread(S1_doubleA1D4_4)\n",
        "S1HSV_imgA1D4_4= cv2.cvtColor(S1_A1D4_4img, cv2.COLOR_BGR2HSV)"
      ],
      "execution_count": null,
      "outputs": []
    },
    {
      "cell_type": "markdown",
      "metadata": {
        "id": "JRh83G00_5TI"
      },
      "source": [
        "###Img 5"
      ]
    },
    {
      "cell_type": "code",
      "metadata": {
        "id": "EI4kO2ML_5TI"
      },
      "source": [
        "S1_A1A1_5img  = cv2.imread(S1_doubleA1A1_5)\n",
        "S1HSV_imgA1A1_5= cv2.cvtColor(S1_A1A1_5img, cv2.COLOR_BGR2HSV)"
      ],
      "execution_count": null,
      "outputs": []
    },
    {
      "cell_type": "code",
      "metadata": {
        "id": "9e_swaP-_5TJ"
      },
      "source": [
        "S1_A1A2_5img  = cv2.imread(S1_doubleA1A2_5)\n",
        "S1HSV_imgA1A2_5= cv2.cvtColor(S1_A1A2_5img, cv2.COLOR_BGR2HSV)"
      ],
      "execution_count": null,
      "outputs": []
    },
    {
      "cell_type": "code",
      "metadata": {
        "id": "PBfkKmvU_5TJ"
      },
      "source": [
        "S1_A1A3_5img  = cv2.imread(S1_doubleA1A3_5)\n",
        "S1HSV_imgA1A3_5= cv2.cvtColor(S1_A1A3_5img, cv2.COLOR_BGR2HSV)"
      ],
      "execution_count": null,
      "outputs": []
    },
    {
      "cell_type": "code",
      "metadata": {
        "id": "DfP5_2UW_5TK"
      },
      "source": [
        "S1_A1A3_55img  = cv2.imread(S1_doubleA1A3_55)\n",
        "S1HSV_imgA1A3_55= cv2.cvtColor(S1_A1A3_55img, cv2.COLOR_BGR2HSV)"
      ],
      "execution_count": null,
      "outputs": []
    },
    {
      "cell_type": "code",
      "metadata": {
        "id": "SY2Hj0OS_5TK"
      },
      "source": [
        "S1_A1A4_5img  = cv2.imread(S1_doubleA1A4_5)\n",
        "S1HSV_imgA1A4_5= cv2.cvtColor(S1_A1A4_5img, cv2.COLOR_BGR2HSV)"
      ],
      "execution_count": null,
      "outputs": []
    },
    {
      "cell_type": "code",
      "metadata": {
        "id": "bkfZsrP5_5TL"
      },
      "source": [
        "S1_A1B1_5img  = cv2.imread(S1_doubleA1B1_5)\n",
        "S1HSV_imgA1B1_5= cv2.cvtColor(S1_A1B1_5img, cv2.COLOR_BGR2HSV)"
      ],
      "execution_count": null,
      "outputs": []
    },
    {
      "cell_type": "code",
      "metadata": {
        "id": "FoTDYBTz_5TM"
      },
      "source": [
        "S1_A1B2_5img  = cv2.imread(S1_doubleA1B2_5)\n",
        "S1HSV_imgA1B2_5= cv2.cvtColor(S1_A1B2_5img, cv2.COLOR_BGR2HSV)"
      ],
      "execution_count": null,
      "outputs": []
    },
    {
      "cell_type": "code",
      "metadata": {
        "id": "QBOZ1myT_5TM"
      },
      "source": [
        "S1_A1B3_5img  = cv2.imread(S1_doubleA1B3_5)\n",
        "S1HSV_imgA1B3_5= cv2.cvtColor(S1_A1B3_5img, cv2.COLOR_BGR2HSV)"
      ],
      "execution_count": null,
      "outputs": []
    },
    {
      "cell_type": "code",
      "metadata": {
        "id": "65Ik0ZPe_5TM"
      },
      "source": [
        "S1_A1B4_5img  = cv2.imread(S1_doubleA1B4_5)\n",
        "S1HSV_imgA1B4_5= cv2.cvtColor(S1_A1B4_5img, cv2.COLOR_BGR2HSV)"
      ],
      "execution_count": null,
      "outputs": []
    },
    {
      "cell_type": "code",
      "metadata": {
        "id": "tmNDq9mH_5TN"
      },
      "source": [
        "S1_A1C1_5img  = cv2.imread(S1_doubleA1C1_5)\n",
        "S1HSV_imgA1C1_5= cv2.cvtColor(S1_A1C1_5img, cv2.COLOR_BGR2HSV)"
      ],
      "execution_count": null,
      "outputs": []
    },
    {
      "cell_type": "code",
      "metadata": {
        "id": "eZvyCP7A_5TN"
      },
      "source": [
        "S1_A1C2_5img  = cv2.imread(S1_doubleA1C2_5)\n",
        "S1HSV_imgA1C2_5= cv2.cvtColor(S1_A1C2_5img, cv2.COLOR_BGR2HSV)"
      ],
      "execution_count": null,
      "outputs": []
    },
    {
      "cell_type": "code",
      "metadata": {
        "id": "PgDtJXeJ_5TN"
      },
      "source": [
        "S1_A1C3_5img  = cv2.imread(S1_doubleA1C3_5)\n",
        "S1HSV_imgA1C3_5= cv2.cvtColor(S1_A1C3_5img, cv2.COLOR_BGR2HSV)"
      ],
      "execution_count": null,
      "outputs": []
    },
    {
      "cell_type": "code",
      "metadata": {
        "id": "0dwc60so_5TO"
      },
      "source": [
        "S1_A1C4_5img  = cv2.imread(S1_doubleA1C4_5)\n",
        "S1HSV_imgA1C4_5= cv2.cvtColor(S1_A1C4_5img, cv2.COLOR_BGR2HSV)"
      ],
      "execution_count": null,
      "outputs": []
    },
    {
      "cell_type": "code",
      "metadata": {
        "id": "9YWsk-xt_5TO"
      },
      "source": [
        "S1_A1D2_5img  = cv2.imread(S1_doubleA1D2_5)\n",
        "S1HSV_imgA1D2_5= cv2.cvtColor(S1_A1D2_5img, cv2.COLOR_BGR2HSV)"
      ],
      "execution_count": null,
      "outputs": []
    },
    {
      "cell_type": "code",
      "metadata": {
        "id": "Qplcmya4_5TO"
      },
      "source": [
        "S1_A1D3_5img  = cv2.imread(S1_doubleA1D3_5)\n",
        "S1HSV_imgA1D3_5= cv2.cvtColor(S1_A1D3_5img, cv2.COLOR_BGR2HSV)"
      ],
      "execution_count": null,
      "outputs": []
    },
    {
      "cell_type": "code",
      "metadata": {
        "id": "x6OKhhi6_5TO"
      },
      "source": [
        "S1_A1D4_5img  = cv2.imread(S1_doubleA1D4_5)\n",
        "S1HSV_imgA1D4_5= cv2.cvtColor(S1_A1D4_5img, cv2.COLOR_BGR2HSV)"
      ],
      "execution_count": null,
      "outputs": []
    },
    {
      "cell_type": "markdown",
      "metadata": {
        "id": "WOjNz_yv_9Yy"
      },
      "source": [
        "###Img 6"
      ]
    },
    {
      "cell_type": "code",
      "metadata": {
        "id": "VIS9af15_9Yz"
      },
      "source": [
        "S1_A1A1_6img  = cv2.imread(S1_doubleA1A1_6)\n",
        "S1HSV_imgA1A1_6= cv2.cvtColor(S1_A1A1_img, cv2.COLOR_BGR2HSV)"
      ],
      "execution_count": null,
      "outputs": []
    },
    {
      "cell_type": "code",
      "metadata": {
        "id": "DGqk29Gp_9Yz"
      },
      "source": [
        "S1_A1A2_6img  = cv2.imread(S1_doubleA1A2_6)\n",
        "S1HSV_imgA1A2_6= cv2.cvtColor(S1_A1A2_6img, cv2.COLOR_BGR2HSV)"
      ],
      "execution_count": null,
      "outputs": []
    },
    {
      "cell_type": "code",
      "metadata": {
        "id": "xDDrEN0V_9Yz"
      },
      "source": [
        "S1_A1A3_6img  = cv2.imread(S1_doubleA1A3_6)\n",
        "S1HSV_imgA1A3_6= cv2.cvtColor(S1_A1A3_6img, cv2.COLOR_BGR2HSV)"
      ],
      "execution_count": null,
      "outputs": []
    },
    {
      "cell_type": "code",
      "metadata": {
        "id": "GEsLZe5i_9Y0"
      },
      "source": [
        "S1_A1A3_56img  = cv2.imread(S1_doubleA1A3_56)\n",
        "S1HSV_imgA1A3_56= cv2.cvtColor(S1_A1A3_56img, cv2.COLOR_BGR2HSV)"
      ],
      "execution_count": null,
      "outputs": []
    },
    {
      "cell_type": "code",
      "metadata": {
        "id": "kcGKrs6r_9Y0"
      },
      "source": [
        "S1_A1A4_6img  = cv2.imread(S1_doubleA1A4_)\n",
        "S1HSV_imgA1A4_6= cv2.cvtColor(S1_A1A4_img, cv2.COLOR_BGR2HSV)"
      ],
      "execution_count": null,
      "outputs": []
    },
    {
      "cell_type": "code",
      "metadata": {
        "id": "-KwjqrH0_9Y0"
      },
      "source": [
        "S1_A1B1_6img  = cv2.imread(S1_doubleA1B1_6)\n",
        "S1HSV_imgA1B1_6= cv2.cvtColor(S1_A1B1_6img, cv2.COLOR_BGR2HSV)"
      ],
      "execution_count": null,
      "outputs": []
    },
    {
      "cell_type": "code",
      "metadata": {
        "id": "fLoFI6Jg_9Y1"
      },
      "source": [
        "S1_A1B2_6img  = cv2.imread(S1_doubleA1B2_6)\n",
        "S1HSV_imgA1B2_6= cv2.cvtColor(S1_A1B2_6img, cv2.COLOR_BGR2HSV)"
      ],
      "execution_count": null,
      "outputs": []
    },
    {
      "cell_type": "code",
      "metadata": {
        "id": "xdLCgubq_9Y1"
      },
      "source": [
        "S1_A1B3_6img  = cv2.imread(S1_doubleA1B3_6)\n",
        "S1HSV_imgA1B3_6= cv2.cvtColor(S1_A1B3_6img, cv2.COLOR_BGR2HSV)"
      ],
      "execution_count": null,
      "outputs": []
    },
    {
      "cell_type": "code",
      "metadata": {
        "id": "5upumTXV_9Y1"
      },
      "source": [
        "S1_A1B4_6img  = cv2.imread(S1_doubleA1B4_6)\n",
        "S1HSV_imgA1B4_6= cv2.cvtColor(S1_A1B4_6img, cv2.COLOR_BGR2HSV)"
      ],
      "execution_count": null,
      "outputs": []
    },
    {
      "cell_type": "code",
      "metadata": {
        "id": "AWXmlLLw_9Y2"
      },
      "source": [
        "S1_A1C1_6img  = cv2.imread(S1_doubleA1C1_6)\n",
        "S1HSV_imgA1C1_6= cv2.cvtColor(S1_A1C1_6img, cv2.COLOR_BGR2HSV)"
      ],
      "execution_count": null,
      "outputs": []
    },
    {
      "cell_type": "code",
      "metadata": {
        "id": "X4jTmAIb_9Y2"
      },
      "source": [
        "S1_A1C2_6img  = cv2.imread(S1_doubleA1C2_6)\n",
        "S1HSV_imgA1C2_6= cv2.cvtColor(S1_A1C2_6img, cv2.COLOR_BGR2HSV)"
      ],
      "execution_count": null,
      "outputs": []
    },
    {
      "cell_type": "code",
      "metadata": {
        "id": "1ONbNfs-_9Y3"
      },
      "source": [
        "S1_A1C3_6img  = cv2.imread(S1_doubleA1C3_6)\n",
        "S1HSV_imgA1C3_6= cv2.cvtColor(S1_A1C3_6img, cv2.COLOR_BGR2HSV)"
      ],
      "execution_count": null,
      "outputs": []
    },
    {
      "cell_type": "code",
      "metadata": {
        "id": "DLvBG6q5_9Y4"
      },
      "source": [
        "S1_A1C4_6img  = cv2.imread(S1_doubleA1C4_)\n",
        "S1HSV_imgA1C4_6= cv2.cvtColor(S1_A1C4_img, cv2.COLOR_BGR2HSV)"
      ],
      "execution_count": null,
      "outputs": []
    },
    {
      "cell_type": "code",
      "metadata": {
        "id": "C2_eVvyk_9Y4"
      },
      "source": [
        "S1_A1D2_6img  = cv2.imread(S1_doubleA1D2_6)\n",
        "S1HSV_imgA1D2_6= cv2.cvtColor(S1_A1D2_6img, cv2.COLOR_BGR2HSV)"
      ],
      "execution_count": null,
      "outputs": []
    },
    {
      "cell_type": "code",
      "metadata": {
        "id": "1TyomlyX_9Y5"
      },
      "source": [
        "S1_A1D3_6img  = cv2.imread(S1_doubleA1D3_6)\n",
        "S1HSV_imgA1D3_6= cv2.cvtColor(S1_A1D3_6img, cv2.COLOR_BGR2HSV)"
      ],
      "execution_count": null,
      "outputs": []
    },
    {
      "cell_type": "code",
      "metadata": {
        "id": "fxZkNdJt_9Y5"
      },
      "source": [
        "S1_A1D4_6img  = cv2.imread(S1_doubleA1D4_6)\n",
        "S1HSV_imgA1D4_6= cv2.cvtColor(S1_A1D4_6img, cv2.COLOR_BGR2HSV)"
      ],
      "execution_count": null,
      "outputs": []
    },
    {
      "cell_type": "markdown",
      "metadata": {
        "id": "TYdycN1xAGro"
      },
      "source": [
        "###Img 7"
      ]
    },
    {
      "cell_type": "code",
      "metadata": {
        "id": "qowIGlBoAGrp"
      },
      "source": [
        "S1_A1A1_7img  = cv2.imread(S1_doubleA1A1_7)\n",
        "S1HSV_imgA1A1_7= cv2.cvtColor(S1_A1A1_7img, cv2.COLOR_BGR2HSV)"
      ],
      "execution_count": null,
      "outputs": []
    },
    {
      "cell_type": "code",
      "metadata": {
        "id": "FvcdWOcNAGrp"
      },
      "source": [
        "S1_A1A2_7img  = cv2.imread(S1_doubleA1A2_7)\n",
        "S1HSV_imgA1A2_7= cv2.cvtColor(S1_A1A2_7img, cv2.COLOR_BGR2HSV)"
      ],
      "execution_count": null,
      "outputs": []
    },
    {
      "cell_type": "code",
      "metadata": {
        "id": "fFrUHLinAGrp"
      },
      "source": [
        "S1_A1A3_7img  = cv2.imread(S1_doubleA1A3_)\n",
        "S1HSV_imgA1A3_7= cv2.cvtColor(S1_A1A3_1img, cv2.COLOR_BGR2HSV)"
      ],
      "execution_count": null,
      "outputs": []
    },
    {
      "cell_type": "code",
      "metadata": {
        "id": "sAV4LpkZAGrq"
      },
      "source": [
        "S1_A1A3_57img  = cv2.imread(S1_doubleA1A3_57)\n",
        "S1HSV_imgA1A3_57= cv2.cvtColor(S1_A1A3_57img, cv2.COLOR_BGR2HSV)"
      ],
      "execution_count": null,
      "outputs": []
    },
    {
      "cell_type": "code",
      "metadata": {
        "id": "Qpk9zAM4AGrq"
      },
      "source": [
        "S1_A1A4_7img  = cv2.imread(S1_doubleA1A4_7)\n",
        "S1HSV_imgA1A4_7= cv2.cvtColor(S1_A1A4_7img, cv2.COLOR_BGR2HSV)"
      ],
      "execution_count": null,
      "outputs": []
    },
    {
      "cell_type": "code",
      "metadata": {
        "id": "yGtOR5F0AGrq"
      },
      "source": [
        "S1_A1B1_7img  = cv2.imread(S1_doubleA1B1_7)\n",
        "S1HSV_imgA1B1_7= cv2.cvtColor(S1_A1B1_7img, cv2.COLOR_BGR2HSV)"
      ],
      "execution_count": null,
      "outputs": []
    },
    {
      "cell_type": "code",
      "metadata": {
        "id": "HY2U2Ij9AGrq"
      },
      "source": [
        "S1_A1B2_7img  = cv2.imread(S1_doubleA1B2_7)\n",
        "S1HSV_imgA1B2_7= cv2.cvtColor(S1_A1B2_7img, cv2.COLOR_BGR2HSV)"
      ],
      "execution_count": null,
      "outputs": []
    },
    {
      "cell_type": "code",
      "metadata": {
        "id": "ZYs6fO8dAGrr"
      },
      "source": [
        "S1_A1B3_7img  = cv2.imread(S1_doubleA1B3_7)\n",
        "S1HSV_imgA1B3_7= cv2.cvtColor(S1_A1B3_7img, cv2.COLOR_BGR2HSV)"
      ],
      "execution_count": null,
      "outputs": []
    },
    {
      "cell_type": "code",
      "metadata": {
        "id": "BVxlAz8YAGrr"
      },
      "source": [
        "S1_A1B4_7img  = cv2.imread(S1_doubleA1B4_7)\n",
        "S1HSV_imgA1B4_7= cv2.cvtColor(S1_A1B4_7img, cv2.COLOR_BGR2HSV)"
      ],
      "execution_count": null,
      "outputs": []
    },
    {
      "cell_type": "code",
      "metadata": {
        "id": "PbVLoxniAGrr"
      },
      "source": [
        "S1_A1C1_7img  = cv2.imread(S1_doubleA1C1_7)\n",
        "S1HSV_imgA1C1_7= cv2.cvtColor(S1_A1C1_7img, cv2.COLOR_BGR2HSV)"
      ],
      "execution_count": null,
      "outputs": []
    },
    {
      "cell_type": "code",
      "metadata": {
        "id": "taYdvNgUAGrs"
      },
      "source": [
        "S1_A1C2_7img  = cv2.imread(S1_doubleA1C2_7)\n",
        "S1HSV_imgA1C2_7= cv2.cvtColor(S1_A1C2_7img, cv2.COLOR_BGR2HSV)"
      ],
      "execution_count": null,
      "outputs": []
    },
    {
      "cell_type": "code",
      "metadata": {
        "id": "7roeXsC5AGrs"
      },
      "source": [
        "S1_A1C3_7img  = cv2.imread(S1_doubleA1C3_7)\n",
        "S1HSV_imgA1C3_7= cv2.cvtColor(S1_A1C3_7img, cv2.COLOR_BGR2HSV)"
      ],
      "execution_count": null,
      "outputs": []
    },
    {
      "cell_type": "code",
      "metadata": {
        "id": "UpiOvIU8AGrs"
      },
      "source": [
        "S1_A1C4_7img  = cv2.imread(S1_doubleA1C4_7)\n",
        "S1HSV_imgA1C4_7= cv2.cvtColor(S1_A1C4_7img, cv2.COLOR_BGR2HSV)"
      ],
      "execution_count": null,
      "outputs": []
    },
    {
      "cell_type": "code",
      "metadata": {
        "id": "Nr_-xSO2AGrt"
      },
      "source": [
        "S1_A1D2_7img  = cv2.imread(S1_doubleA1D2_7)\n",
        "S1HSV_imgA1D2_7= cv2.cvtColor(S1_A1D2_7img, cv2.COLOR_BGR2HSV)"
      ],
      "execution_count": null,
      "outputs": []
    },
    {
      "cell_type": "code",
      "metadata": {
        "id": "dz9x6evSAGrw"
      },
      "source": [
        "S1_A1D3_7img  = cv2.imread(S1_doubleA1D3_7)\n",
        "S1HSV_imgA1D3_7= cv2.cvtColor(S1_A1D3_7img, cv2.COLOR_BGR2HSV)"
      ],
      "execution_count": null,
      "outputs": []
    },
    {
      "cell_type": "code",
      "metadata": {
        "id": "N6PxM1L8AGrx"
      },
      "source": [
        "S1_A1D4_7img  = cv2.imread(S1_doubleA1D4_7)\n",
        "S1HSV_imgA1D4_7= cv2.cvtColor(S1_A1D4_7img, cv2.COLOR_BGR2HSV)"
      ],
      "execution_count": null,
      "outputs": []
    },
    {
      "cell_type": "markdown",
      "metadata": {
        "id": "uqdsTrTiAKv8"
      },
      "source": [
        "###Img 8"
      ]
    },
    {
      "cell_type": "code",
      "metadata": {
        "id": "kj6vEybbAKv8"
      },
      "source": [
        "S1_A1A1_8img  = cv2.imread(S1_doubleA1A1_8)\n",
        "S1HSV_imgA1A1_8= cv2.cvtColor(S1_A1A1_8img, cv2.COLOR_BGR2HSV)"
      ],
      "execution_count": null,
      "outputs": []
    },
    {
      "cell_type": "code",
      "metadata": {
        "id": "5wgG3E2OAKv9"
      },
      "source": [
        "S1_A1A2_8img  = cv2.imread(S1_doubleA1A2_8)\n",
        "S1HSV_imgA1A2_8= cv2.cvtColor(S1_A1A2_8img, cv2.COLOR_BGR2HSV)"
      ],
      "execution_count": null,
      "outputs": []
    },
    {
      "cell_type": "code",
      "metadata": {
        "id": "Bpy0c6hpAKv9"
      },
      "source": [
        "S1_A1A3_8img  = cv2.imread(S1_doubleA1A3_8)\n",
        "S1HSV_imgA1A3_8= cv2.cvtColor(S1_A1A3_8img, cv2.COLOR_BGR2HSV)"
      ],
      "execution_count": null,
      "outputs": []
    },
    {
      "cell_type": "code",
      "metadata": {
        "id": "hn-u8n7LAKv9"
      },
      "source": [
        "S1_A1A3_58img  = cv2.imread(S1_doubleA1A3_58)\n",
        "S1HSV_imgA1A3_58= cv2.cvtColor(S1_A1A3_58img, cv2.COLOR_BGR2HSV)"
      ],
      "execution_count": null,
      "outputs": []
    },
    {
      "cell_type": "code",
      "metadata": {
        "id": "f6yGxtqxAKv9"
      },
      "source": [
        "S1_A1A4_8img  = cv2.imread(S1_doubleA1A4_8)\n",
        "S1HSV_imgA1A4_8= cv2.cvtColor(S1_A1A4_8img, cv2.COLOR_BGR2HSV)"
      ],
      "execution_count": null,
      "outputs": []
    },
    {
      "cell_type": "code",
      "metadata": {
        "id": "uSDOUdy2AKv-"
      },
      "source": [
        "S1_A1B1_8img  = cv2.imread(S1_doubleA1B1_8)\n",
        "S1HSV_imgA1B1_8= cv2.cvtColor(S1_A1B1_8img, cv2.COLOR_BGR2HSV)"
      ],
      "execution_count": null,
      "outputs": []
    },
    {
      "cell_type": "code",
      "metadata": {
        "id": "cNXlLdLHAKv-"
      },
      "source": [
        "S1_A1B2_8img  = cv2.imread(S1_doubleA1B2_8)\n",
        "S1HSV_imgA1B2_8= cv2.cvtColor(S1_A1B2_8img, cv2.COLOR_BGR2HSV)"
      ],
      "execution_count": null,
      "outputs": []
    },
    {
      "cell_type": "code",
      "metadata": {
        "id": "T9yPPQGbAKv-"
      },
      "source": [
        "S1_A1B3_8img  = cv2.imread(S1_doubleA1B3_8)\n",
        "S1HSV_imgA1B3_8= cv2.cvtColor(S1_A1B3_8img, cv2.COLOR_BGR2HSV)"
      ],
      "execution_count": null,
      "outputs": []
    },
    {
      "cell_type": "code",
      "metadata": {
        "id": "wlMkxKtvAKv-"
      },
      "source": [
        "S1_A1B4_8img  = cv2.imread(S1_doubleA1B4_8)\n",
        "S1HSV_imgA1B4_8= cv2.cvtColor(S1_A1B4_8img, cv2.COLOR_BGR2HSV)"
      ],
      "execution_count": null,
      "outputs": []
    },
    {
      "cell_type": "code",
      "metadata": {
        "id": "evBp5CWiAKv_"
      },
      "source": [
        "S1_A1C1_8img  = cv2.imread(S1_doubleA1C1_8)\n",
        "S1HSV_imgA1C1_8= cv2.cvtColor(S1_A1C1_8img, cv2.COLOR_BGR2HSV)"
      ],
      "execution_count": null,
      "outputs": []
    },
    {
      "cell_type": "code",
      "metadata": {
        "id": "8BhXBZyQAKv_"
      },
      "source": [
        "S1_A1C2_8img  = cv2.imread(S1_doubleA1C2_8)\n",
        "S1HSV_imgA1C2_8= cv2.cvtColor(S1_A1C2_8img, cv2.COLOR_BGR2HSV)"
      ],
      "execution_count": null,
      "outputs": []
    },
    {
      "cell_type": "code",
      "metadata": {
        "id": "oKxNjaNgAKv_"
      },
      "source": [
        "S1_A1C3_8img  = cv2.imread(S1_doubleA1C3_8)\n",
        "S1HSV_imgA1C3_8= cv2.cvtColor(S1_A1C3_8img, cv2.COLOR_BGR2HSV)"
      ],
      "execution_count": null,
      "outputs": []
    },
    {
      "cell_type": "code",
      "metadata": {
        "id": "BtEyscRVAKv_"
      },
      "source": [
        "S1_A1C4_8img  = cv2.imread(S1_doubleA1C4_8)\n",
        "S1HSV_imgA1C4_8= cv2.cvtColor(S1_A1C4_8img, cv2.COLOR_BGR2HSV)"
      ],
      "execution_count": null,
      "outputs": []
    },
    {
      "cell_type": "code",
      "metadata": {
        "id": "j9NF369AAKv_"
      },
      "source": [
        "S1_A1D2_8img  = cv2.imread(S1_doubleA1D2_8)\n",
        "S1HSV_imgA1D2_8= cv2.cvtColor(S1_A1D2_8img, cv2.COLOR_BGR2HSV)"
      ],
      "execution_count": null,
      "outputs": []
    },
    {
      "cell_type": "code",
      "metadata": {
        "id": "vNH4EpyrAKv_"
      },
      "source": [
        "S1_A1D3_8img  = cv2.imread(S1_doubleA1D3_8)\n",
        "S1HSV_imgA1D3_8= cv2.cvtColor(S1_A1D3_8img, cv2.COLOR_BGR2HSV)"
      ],
      "execution_count": null,
      "outputs": []
    },
    {
      "cell_type": "code",
      "metadata": {
        "id": "O6yguSbBAKwA"
      },
      "source": [
        "S1_A1D4_8img  = cv2.imread(S1_doubleA1D4_8)\n",
        "S1HSV_imgA1D4_8= cv2.cvtColor(S1_A1D4_8img, cv2.COLOR_BGR2HSV)"
      ],
      "execution_count": null,
      "outputs": []
    },
    {
      "cell_type": "markdown",
      "metadata": {
        "id": "a5VGO-5cAOXL"
      },
      "source": [
        "###Img 9"
      ]
    },
    {
      "cell_type": "code",
      "metadata": {
        "id": "mMiDSQ95AOXL"
      },
      "source": [
        "S1_A1A1_9img  = cv2.imread(S1_doubleA1A1_9)\n",
        "S1HSV_imgA1A1_9= cv2.cvtColor(S1_A1A1_9img, cv2.COLOR_BGR2HSV)"
      ],
      "execution_count": null,
      "outputs": []
    },
    {
      "cell_type": "code",
      "metadata": {
        "id": "gNh4t17iAOXM"
      },
      "source": [
        "S1_A1A2_9img  = cv2.imread(S1_doubleA1A2_9)\n",
        "S1HSV_imgA1A2_9= cv2.cvtColor(S1_A1A2_9img, cv2.COLOR_BGR2HSV)"
      ],
      "execution_count": null,
      "outputs": []
    },
    {
      "cell_type": "code",
      "metadata": {
        "id": "lMSYo7A1AOXM"
      },
      "source": [
        "S1_A1A3_9img  = cv2.imread(S1_doubleA1A3_9)\n",
        "S1HSV_imgA1A3_9= cv2.cvtColor(S1_A1A3_9img, cv2.COLOR_BGR2HSV)"
      ],
      "execution_count": null,
      "outputs": []
    },
    {
      "cell_type": "code",
      "metadata": {
        "id": "u9ZaoI-DAOXN"
      },
      "source": [
        "S1_A1A3_59img  = cv2.imread(S1_doubleA1A3_59)\n",
        "S1HSV_imgA1A3_59= cv2.cvtColor(S1_A1A3_59img, cv2.COLOR_BGR2HSV)"
      ],
      "execution_count": null,
      "outputs": []
    },
    {
      "cell_type": "code",
      "metadata": {
        "id": "bhccCdCyAOXN"
      },
      "source": [
        "S1_A1A4_9img  = cv2.imread(S1_doubleA1A4_9)\n",
        "S1HSV_imgA1A4_9= cv2.cvtColor(S1_A1A4_9img, cv2.COLOR_BGR2HSV)"
      ],
      "execution_count": null,
      "outputs": []
    },
    {
      "cell_type": "code",
      "metadata": {
        "id": "IxJ4ZWDnAOXN"
      },
      "source": [
        "S1_A1B1_9img  = cv2.imread(S1_doubleA1B1_9)\n",
        "S1HSV_imgA1B1_9= cv2.cvtColor(S1_A1B1_9img, cv2.COLOR_BGR2HSV)"
      ],
      "execution_count": null,
      "outputs": []
    },
    {
      "cell_type": "code",
      "metadata": {
        "id": "t1mrm4WCAOXO"
      },
      "source": [
        "S1_A1B2_9img  = cv2.imread(S1_doubleA1B2_9)\n",
        "S1HSV_imgA1B2_9= cv2.cvtColor(S1_A1B2_9img, cv2.COLOR_BGR2HSV)"
      ],
      "execution_count": null,
      "outputs": []
    },
    {
      "cell_type": "code",
      "metadata": {
        "id": "jQcAV5O0AOXO"
      },
      "source": [
        "S1_A1B3_9img  = cv2.imread(S1_doubleA1B3_9)\n",
        "S1HSV_imgA1B3_9= cv2.cvtColor(S1_A1B3_9img, cv2.COLOR_BGR2HSV)"
      ],
      "execution_count": null,
      "outputs": []
    },
    {
      "cell_type": "code",
      "metadata": {
        "id": "ubDA09TIAOXO"
      },
      "source": [
        "S1_A1B4_9img  = cv2.imread(S1_doubleA1B4_9)\n",
        "S1HSV_imgA1B4_9= cv2.cvtColor(S1_A1B4_9img, cv2.COLOR_BGR2HSV)"
      ],
      "execution_count": null,
      "outputs": []
    },
    {
      "cell_type": "code",
      "metadata": {
        "id": "0yZs28L8AOXP"
      },
      "source": [
        "S1_A1C1_9img  = cv2.imread(S1_doubleA1C1_9)\n",
        "S1HSV_imgA1C1_9= cv2.cvtColor(S1_A1C1_9img, cv2.COLOR_BGR2HSV)"
      ],
      "execution_count": null,
      "outputs": []
    },
    {
      "cell_type": "code",
      "metadata": {
        "id": "FNTbanXHAOXP"
      },
      "source": [
        "S1_A1C2_9img  = cv2.imread(S1_doubleA1C2_9)\n",
        "S1HSV_imgA1C2_9= cv2.cvtColor(S1_A1C2_9img, cv2.COLOR_BGR2HSV)"
      ],
      "execution_count": null,
      "outputs": []
    },
    {
      "cell_type": "code",
      "metadata": {
        "id": "IzidmG9mAOXQ"
      },
      "source": [
        "S1_A1C3_9img  = cv2.imread(S1_doubleA1C3_9)\n",
        "S1HSV_imgA1C3_9= cv2.cvtColor(S1_A1C3_9img, cv2.COLOR_BGR2HSV)"
      ],
      "execution_count": null,
      "outputs": []
    },
    {
      "cell_type": "code",
      "metadata": {
        "id": "2qyTfmupAOXQ"
      },
      "source": [
        "S1_A1C4_9img  = cv2.imread(S1_doubleA1C4_9)\n",
        "S1HSV_imgA1C4_9= cv2.cvtColor(S1_A1C4_9img, cv2.COLOR_BGR2HSV)"
      ],
      "execution_count": null,
      "outputs": []
    },
    {
      "cell_type": "code",
      "metadata": {
        "id": "RKabXY3QAOXQ"
      },
      "source": [
        "S1_A1D2_9img  = cv2.imread(S1_doubleA1D2_9)\n",
        "S1HSV_imgA1D2_9= cv2.cvtColor(S1_A1D2_9img, cv2.COLOR_BGR2HSV)"
      ],
      "execution_count": null,
      "outputs": []
    },
    {
      "cell_type": "code",
      "metadata": {
        "id": "TcL5KgWTAOXR"
      },
      "source": [
        "S1_A1D3_9img  = cv2.imread(S1_doubleA1D3_9)\n",
        "S1HSV_imgA1D3_9= cv2.cvtColor(S1_A1D3_9img, cv2.COLOR_BGR2HSV)"
      ],
      "execution_count": null,
      "outputs": []
    },
    {
      "cell_type": "code",
      "metadata": {
        "id": "3j37eh49AOXR"
      },
      "source": [
        "S1_A1D4_9img  = cv2.imread(S1_doubleA1D4_9)\n",
        "S1HSV_imgA1D4_9= cv2.cvtColor(S1_A1D4_9img, cv2.COLOR_BGR2HSV)"
      ],
      "execution_count": null,
      "outputs": []
    },
    {
      "cell_type": "markdown",
      "metadata": {
        "id": "a-E9IIl-ATTi"
      },
      "source": [
        "###Img 10"
      ]
    },
    {
      "cell_type": "code",
      "metadata": {
        "id": "5iE5zbjRATTi"
      },
      "source": [
        "S1_A1A1_10img  = cv2.imread(S1_doubleA1A1_10)\n",
        "S1HSV_imgA1A1_10= cv2.cvtColor(S1_A1A1_10img, cv2.COLOR_BGR2HSV)"
      ],
      "execution_count": null,
      "outputs": []
    },
    {
      "cell_type": "code",
      "metadata": {
        "id": "wyqIjwSuATTj"
      },
      "source": [
        "S1_A1A2_10img  = cv2.imread(S1_doubleA1A2_10)\n",
        "S1HSV_imgA1A2_10= cv2.cvtColor(S1_A1A2_10img, cv2.COLOR_BGR2HSV)"
      ],
      "execution_count": null,
      "outputs": []
    },
    {
      "cell_type": "code",
      "metadata": {
        "id": "G8wF-eRAATTj"
      },
      "source": [
        "S1_A1A3_10img  = cv2.imread(S1_doubleA1A3_10)\n",
        "S1HSV_imgA1A3_10= cv2.cvtColor(S1_A1A3_10img, cv2.COLOR_BGR2HSV)"
      ],
      "execution_count": null,
      "outputs": []
    },
    {
      "cell_type": "code",
      "metadata": {
        "id": "Sj2TYGcwATTk"
      },
      "source": [
        "S1_A1A3_510img  = cv2.imread(S1_doubleA1A3_510)\n",
        "S1HSV_imgA1A3_510= cv2.cvtColor(S1_A1A3_510img, cv2.COLOR_BGR2HSV)"
      ],
      "execution_count": null,
      "outputs": []
    },
    {
      "cell_type": "code",
      "metadata": {
        "id": "kxSrgWLWATTk"
      },
      "source": [
        "S1_A1A4_10img  = cv2.imread(S1_doubleA1A4_10)\n",
        "S1HSV_imgA1A4_10= cv2.cvtColor(S1_A1A4_10img, cv2.COLOR_BGR2HSV)"
      ],
      "execution_count": null,
      "outputs": []
    },
    {
      "cell_type": "code",
      "metadata": {
        "id": "zWkpsjNNATTk"
      },
      "source": [
        "S1_A1B1_10img  = cv2.imread(S1_doubleA1B1_10)\n",
        "S1HSV_imgA1B1_10= cv2.cvtColor(S1_A1B1_10img, cv2.COLOR_BGR2HSV)"
      ],
      "execution_count": null,
      "outputs": []
    },
    {
      "cell_type": "code",
      "metadata": {
        "id": "VGE1F9BdATTl"
      },
      "source": [
        "S1_A1B2_10img  = cv2.imread(S1_doubleA1B2_10)\n",
        "S1HSV_imgA1B2_10= cv2.cvtColor(S1_A1B2_10img, cv2.COLOR_BGR2HSV)"
      ],
      "execution_count": null,
      "outputs": []
    },
    {
      "cell_type": "code",
      "metadata": {
        "id": "7g198JEjATTl"
      },
      "source": [
        "S1_A1B3_10img  = cv2.imread(S1_doubleA1B3_10)\n",
        "S1HSV_imgA1B3_10= cv2.cvtColor(S1_A1B3_10img, cv2.COLOR_BGR2HSV)"
      ],
      "execution_count": null,
      "outputs": []
    },
    {
      "cell_type": "code",
      "metadata": {
        "id": "SW1hvJxXATTl"
      },
      "source": [
        "S1_A1B4_10img  = cv2.imread(S1_doubleA1B4_10)\n",
        "S1HSV_imgA1B4_10= cv2.cvtColor(S1_A1B4_10img, cv2.COLOR_BGR2HSV)"
      ],
      "execution_count": null,
      "outputs": []
    },
    {
      "cell_type": "code",
      "metadata": {
        "id": "QeeCGlNzATTl"
      },
      "source": [
        "S1_A1C1_10img  = cv2.imread(S1_doubleA1C1_10)\n",
        "S1HSV_imgA1C1_10= cv2.cvtColor(S1_A1C1_10img, cv2.COLOR_BGR2HSV)"
      ],
      "execution_count": null,
      "outputs": []
    },
    {
      "cell_type": "code",
      "metadata": {
        "id": "k-gYFBIkATTl"
      },
      "source": [
        "S1_A1C2_10img  = cv2.imread(S1_doubleA1C2_10)\n",
        "S1HSV_imgA1C2_10= cv2.cvtColor(S1_A1C2_10img, cv2.COLOR_BGR2HSV)"
      ],
      "execution_count": null,
      "outputs": []
    },
    {
      "cell_type": "code",
      "metadata": {
        "id": "qa9D9RYWATTm"
      },
      "source": [
        "S1_A1C3_10img  = cv2.imread(S1_doubleA1C3_10)\n",
        "S1HSV_imgA1C3_10= cv2.cvtColor(S1_A1C3_10img, cv2.COLOR_BGR2HSV)"
      ],
      "execution_count": null,
      "outputs": []
    },
    {
      "cell_type": "code",
      "metadata": {
        "id": "G-Zd5z73ATTm"
      },
      "source": [
        "S1_A1C4_10img  = cv2.imread(S1_doubleA1C4_10)\n",
        "S1HSV_imgA1C4_10= cv2.cvtColor(S1_A1C4_10img, cv2.COLOR_BGR2HSV)"
      ],
      "execution_count": null,
      "outputs": []
    },
    {
      "cell_type": "code",
      "metadata": {
        "id": "d_hTiFiWATTm"
      },
      "source": [
        "S1_A1D2_10img  = cv2.imread(S1_doubleA1D2_10)\n",
        "S1HSV_imgA1D2_10= cv2.cvtColor(S1_A1D2_10img, cv2.COLOR_BGR2HSV)"
      ],
      "execution_count": null,
      "outputs": []
    },
    {
      "cell_type": "code",
      "metadata": {
        "id": "W-cAwYaKATTn"
      },
      "source": [
        "S1_A1D3_10img  = cv2.imread(S1_doubleA1D3_10)\n",
        "S1HSV_imgA1D3_10= cv2.cvtColor(S1_A1D3_10img, cv2.COLOR_BGR2HSV)"
      ],
      "execution_count": null,
      "outputs": []
    },
    {
      "cell_type": "code",
      "metadata": {
        "id": "S4I2wKvKATTn"
      },
      "source": [
        "S1_A1D4_10img  = cv2.imread(S1_doubleA1D4_10)\n",
        "S1HSV_imgA1D4_10= cv2.cvtColor(S1_A1D4_10img, cv2.COLOR_BGR2HSV)"
      ],
      "execution_count": null,
      "outputs": []
    },
    {
      "cell_type": "markdown",
      "metadata": {
        "id": "UNtZVBz0CQoq"
      },
      "source": [
        "#5. ดึงสี"
      ]
    },
    {
      "cell_type": "markdown",
      "metadata": {
        "id": "5H65mCxBCwun"
      },
      "source": [
        "##Set1 "
      ]
    },
    {
      "cell_type": "markdown",
      "metadata": {
        "id": "uNWjoOD4radB"
      },
      "source": [
        "### RGB"
      ]
    },
    {
      "cell_type": "code",
      "metadata": {
        "id": "3MeDXa_qCjAo"
      },
      "source": [
        "S1A1_1= list()\n",
        "S1A1_2 = list()\n",
        "for i in range(S1RGB_imgA1A1_1.shape[0]): #ให้ i รันตาม row หรือ shape[0] คือแถว มีทั้งหมด 4032 แถว ของภาพที่ปรับขนาดมาแล้ว\n",
        "     for j in range(S1RGB_imgA1A1_1.shape[1]): #ให้ j รันตาม colum มีทั้งหมด 3024 colum เช่น แถวที่ 1 เข้ามาให้รันครบ 3024colum\n",
        "                if 1770<i<1880 and 1700<j<1830 :\n",
        "                    S1A1_1.append(S1RGB_imgA1A1_1[i][j])\n",
        "                if 1770<i<1880 and 2015<j<2145 :\n",
        "                    S1A1_2.append(S1RGB_imgA1A1_1[i][j])   "
      ],
      "execution_count": null,
      "outputs": []
    },
    {
      "cell_type": "code",
      "metadata": {
        "id": "IY5gPQv-Cy1Q"
      },
      "source": [
        "S1A1_3= list()\n",
        "S1A2_1 = list()\n",
        "for i in range(S1RGB_imgA1A2_1.shape[0]): \n",
        "     for j in range(S1RGB_imgA1A2_1.shape[1]): \n",
        "                if 1770<i<1880 and 1700<j<1830 :\n",
        "                    S1A1_3.append(S1RGB_imgA1A2_1[i][j])\n",
        "                if 1770<i<1880 and 2015<j<2145 :\n",
        "                    S1A2_1.append(S1RGB_imgA1A2_1[i][j])   "
      ],
      "execution_count": null,
      "outputs": []
    },
    {
      "cell_type": "code",
      "metadata": {
        "id": "mig_gz6iC_pn"
      },
      "source": [
        "S1A1_4= list()\n",
        "S1A3_1 = list()\n",
        "for i in range(S1RGB_imgA1A3_1.shape[0]): \n",
        "     for j in range(S1RGB_imgA1A3_1.shape[1]): \n",
        "                if 1770<i<1880 and 1700<j<1830 :\n",
        "                    S1A1_4.append(S1RGB_imgA1A3_1[i][j])\n",
        "                if 1770<i<1880 and 2015<j<2145 :\n",
        "                    S1A3_1.append(S1RGB_imgA1A3_1[i][j])   "
      ],
      "execution_count": null,
      "outputs": []
    },
    {
      "cell_type": "code",
      "metadata": {
        "id": "iu-ny26uDHW1"
      },
      "source": [
        "S1A1_5= list()\n",
        "S1A3_51 = list()\n",
        "for i in range(S1RGB_imgA1A3_51.shape[0]): \n",
        "     for j in range(S1RGB_imgA1A3_51.shape[1]): \n",
        "                if 1770<i<1880 and 1700<j<1830 :\n",
        "                    S1A1_5.append(S1RGB_imgA1A3_51[i][j])\n",
        "                if 1770<i<1880 and 2015<j<2145 :\n",
        "                    S1A3_51.append(S1RGB_imgA1A3_51[i][j])"
      ],
      "execution_count": null,
      "outputs": []
    },
    {
      "cell_type": "code",
      "metadata": {
        "id": "aWV6WsWMDOyh"
      },
      "source": [
        "S1A1_6= list()\n",
        "S1A4_1 = list()\n",
        "for i in range(S1RGB_imgA1A4_1.shape[0]): \n",
        "     for j in range(S1RGB_imgA1A4_1.shape[1]): \n",
        "                if 1770<i<1880 and 1700<j<1830 :\n",
        "                    S1A1_6.append(S1RGB_imgA1A4_1[i][j])\n",
        "                if 1770<i<1880 and 2015<j<2145 :\n",
        "                    S1A4_1.append(S1RGB_imgA1A4_1[i][j])"
      ],
      "execution_count": null,
      "outputs": []
    },
    {
      "cell_type": "code",
      "metadata": {
        "id": "De3kH-OoDYQI"
      },
      "source": [
        "S1A1_7= list()\n",
        "S1B1_1 = list()\n",
        "for i in range(S1RGB_imgA1B1_1.shape[0]): \n",
        "     for j in range(S1RGB_imgA1B1_1.shape[1]): \n",
        "                if 1770<i<1880 and 1700<j<1830 :\n",
        "                    S1A1_7.append(S1RGB_imgA1B1_1[i][j])\n",
        "                if 1770<i<1880 and 2015<j<2145 :\n",
        "                    S1B1_1.append(S1RGB_imgA1B1_1[i][j])"
      ],
      "execution_count": null,
      "outputs": []
    },
    {
      "cell_type": "code",
      "metadata": {
        "id": "gWUovJ6PDioo"
      },
      "source": [
        "S1A1_8= list()\n",
        "S1B2_1 = list()\n",
        "for i in range(S1RGB_imgA1B2_1.shape[0]): \n",
        "     for j in range(S1RGB_imgA1B2_1.shape[1]): \n",
        "                if 1770<i<1880 and 1700<j<1830 :\n",
        "                    S1A1_8.append(S1RGB_imgA1B2_1[i][j])\n",
        "                if 1770<i<1880 and 2015<j<2145 :\n",
        "                    S1B2_1.append(S1RGB_imgA1B2_1[i][j])"
      ],
      "execution_count": null,
      "outputs": []
    },
    {
      "cell_type": "code",
      "metadata": {
        "id": "I4g8iQcMDxjZ"
      },
      "source": [
        "S1A1_9= list()\n",
        "S1B3_1 = list()\n",
        "for i in range(S1RGB_imgA1B3_1.shape[0]): \n",
        "     for j in range(S1RGB_imgA1B3_1.shape[1]): \n",
        "                if 1770<i<1880 and 1700<j<1830 :\n",
        "                    S1A1_9.append(S1RGB_imgA1B3_1[i][j])\n",
        "                if 1770<i<1880 and 2015<j<2145 :\n",
        "                    S1B3_1.append(S1RGB_imgA1B3_1[i][j])"
      ],
      "execution_count": null,
      "outputs": []
    },
    {
      "cell_type": "code",
      "metadata": {
        "id": "Ci0cVh1ND2Hl"
      },
      "source": [
        "S1A1_10= list()\n",
        "S1B4_1 = list()\n",
        "for i in range(S1RGB_imgA1B4_1.shape[0]): \n",
        "     for j in range(S1RGB_imgA1B4_1.shape[1]): \n",
        "                if 1770<i<1880 and 1700<j<1830 :\n",
        "                    S1A1_10.append(S1RGB_imgA1B4_1[i][j])\n",
        "                if 1770<i<1880 and 2015<j<2145 :\n",
        "                    S1B4_1.append(S1RGB_imgA1B4_1[i][j])"
      ],
      "execution_count": null,
      "outputs": []
    },
    {
      "cell_type": "code",
      "metadata": {
        "id": "FwSZ_HixEDkc"
      },
      "source": [
        "S1A1_11= list()\n",
        "S1C1_2 = list()\n",
        "for i in range(S1RGB_imgA1C1_1.shape[0]): \n",
        "     for j in range(S1RGB_imgA1C1_1.shape[1]): \n",
        "                if 1770<i<1880 and 1700<j<1830 :\n",
        "                    S1A1_11.append(S1RGB_imgA1C1_1[i][j])\n",
        "                if 1770<i<1880 and 2015<j<2145 :\n",
        "                    S1C1_2.append(S1RGB_imgA1C1_1[i][j])   "
      ],
      "execution_count": null,
      "outputs": []
    },
    {
      "cell_type": "code",
      "metadata": {
        "id": "DWeSxQyvEDkc"
      },
      "source": [
        "S1A1_12= list()\n",
        "S1C2_1 = list()\n",
        "for i in range(S1RGB_imgA1C2_1.shape[0]): \n",
        "     for j in range(S1RGB_imgA1C2_1.shape[1]): \n",
        "                if 1770<i<1880 and 1700<j<1830 :\n",
        "                    S1A1_12.append(S1RGB_imgA1C2_1[i][j])\n",
        "                if 1770<i<1880 and 2015<j<2145 :\n",
        "                    S1C2_1.append(S1RGB_imgA1C2_1[i][j])   "
      ],
      "execution_count": null,
      "outputs": []
    },
    {
      "cell_type": "code",
      "metadata": {
        "id": "X0Qjr2CGEDkc"
      },
      "source": [
        "S1A1_13= list()\n",
        "S1C3_1 = list()\n",
        "for i in range(S1RGB_imgA1C3_1.shape[0]): \n",
        "     for j in range(S1RGB_imgA1C3_1.shape[1]): \n",
        "                if 1770<i<1880 and 1700<j<1830 :\n",
        "                    S1A1_13.append(S1RGB_imgA1C3_1[i][j])\n",
        "                if 1770<i<1880 and 2015<j<2145 :\n",
        "                    S1C3_1.append(S1RGB_imgA1C3_1[i][j])   "
      ],
      "execution_count": null,
      "outputs": []
    },
    {
      "cell_type": "code",
      "metadata": {
        "id": "aEusPTDaEDkd"
      },
      "source": [
        "S1A1_14= list()\n",
        "S1C4_1 = list()\n",
        "for i in range(S1RGB_imgA1C4_1.shape[0]): \n",
        "     for j in range(S1RGB_imgA1C4_1.shape[1]): \n",
        "                if 1770<i<1880 and 1700<j<1830 :\n",
        "                    S1A1_14.append(S1RGB_imgA1C4_1[i][j])\n",
        "                if 1770<i<1880 and 2015<j<2145 :\n",
        "                    S1C4_1.append(S1RGB_imgA1C4_1[i][j])"
      ],
      "execution_count": null,
      "outputs": []
    },
    {
      "cell_type": "code",
      "metadata": {
        "id": "NNRFIYC5Eo_j"
      },
      "source": [
        "S1A1_15= list()\n",
        "S1D2_1 = list()\n",
        "for i in range(S1RGB_imgA1D2_1.shape[0]): \n",
        "     for j in range(S1RGB_imgA1D2_1.shape[1]): \n",
        "                if 1770<i<1880 and 1700<j<1830 :\n",
        "                    S1A1_15.append(S1RGB_imgA1D2_1[i][j])\n",
        "                if 1770<i<1880 and 2015<j<2145 :\n",
        "                    S1D2_1.append(S1RGB_imgA1D2_1[i][j])   "
      ],
      "execution_count": null,
      "outputs": []
    },
    {
      "cell_type": "code",
      "metadata": {
        "id": "CJbu45bPEo_j"
      },
      "source": [
        "S1A1_16= list()\n",
        "S1D3_1 = list()\n",
        "for i in range(S1RGB_imgA1D3_1.shape[0]): \n",
        "     for j in range(S1RGB_imgA1D3_1.shape[1]): \n",
        "                if 1770<i<1880 and 1700<j<1830 :\n",
        "                    S1A1_16.append(S1RGB_imgA1D3_1[i][j])\n",
        "                if 1770<i<1880 and 2015<j<2145 :\n",
        "                    S1D3_1.append(S1RGB_imgA1D3_1[i][j])   "
      ],
      "execution_count": null,
      "outputs": []
    },
    {
      "cell_type": "code",
      "metadata": {
        "id": "DR9Fo_1cEo_j"
      },
      "source": [
        "S1A1_17= list()\n",
        "S1D4_1 = list()\n",
        "for i in range(S1RGB_imgA1D4_1.shape[0]): \n",
        "     for j in range(S1RGB_imgA1D4_1.shape[1]): \n",
        "                if 1770<i<1880 and 1700<j<1830 :\n",
        "                    S1A1_17.append(S1RGB_imgA1D4_1[i][j])\n",
        "                if 1770<i<1880 and 2015<j<2145 :\n",
        "                    S1D4_1.append(S1RGB_imgA1D4_1[i][j])"
      ],
      "execution_count": null,
      "outputs": []
    },
    {
      "cell_type": "markdown",
      "metadata": {
        "id": "_9e8OnV-0pMi"
      },
      "source": [
        "###Img 2"
      ]
    },
    {
      "cell_type": "code",
      "metadata": {
        "id": "-2mkqFce0xri"
      },
      "source": [
        "S1A1_102= list()\n",
        "S1A1_202= list()\n",
        "for i in range(S1RGB_imgA1A1_2.shape[0]): #ให้ i รันตาม row หรือ shape[0] คือแถว มีทั้งหมด 4032 แถว ของภาพที่ปรับขนาดมาแล้ว\n",
        "     for j in range(S1RGB_imgA1A1_2.shape[1]): #ให้ j รันตาม colum มีทั้งหมด 3024 colum เช่น แถวที่ 1 เข้ามาให้รันครบ 3024colum\n",
        "                if 1770<i<1880 and 1700<j<1830 :\n",
        "                    S1A1_102.append(S1RGB_imgA1A1_2[i][j])\n",
        "                if 1770<i<1880 and 2015<j<2145 :\n",
        "                    S1A1_202.append(S1RGB_imgA1A1_2[i][j])   "
      ],
      "execution_count": null,
      "outputs": []
    },
    {
      "cell_type": "code",
      "metadata": {
        "id": "JiF_srWq0xrk"
      },
      "source": [
        "S1A1_302= list()\n",
        "S1A2_102 = list()\n",
        "for i in range(S1RGB_imgA1A2_2.shape[0]): \n",
        "     for j in range(S1RGB_imgA1A2_2.shape[1]): \n",
        "                if 1770<i<1880 and 1700<j<1830 :\n",
        "                    S1A1_302.append(S1RGB_imgA1A2_2[i][j])\n",
        "                if 1770<i<1880 and 2015<j<2145 :\n",
        "                    S1A2_102.append(S1RGB_imgA1A2_2[i][j])   "
      ],
      "execution_count": null,
      "outputs": []
    },
    {
      "cell_type": "code",
      "metadata": {
        "id": "2gqhjnVh0xrm"
      },
      "source": [
        "S1A1_402= list()\n",
        "S1A3_102 = list()\n",
        "for i in range(S1RGB_imgA1A3_2.shape[0]): \n",
        "     for j in range(S1RGB_imgA1A3_2.shape[1]): \n",
        "                if 1770<i<1880 and 1700<j<1830 :\n",
        "                    S1A1_402.append(S1RGB_imgA1A3_2[i][j])\n",
        "                if 1770<i<1880 and 2015<j<2145 :\n",
        "                    S1A3_102.append(S1RGB_imgA1A3_2[i][j])   "
      ],
      "execution_count": null,
      "outputs": []
    },
    {
      "cell_type": "code",
      "metadata": {
        "id": "XGBHiH8d0xro"
      },
      "source": [
        "S1A1_502= list()\n",
        "S1A3_5102 = list()\n",
        "for i in range(S1RGB_imgA1A3_52.shape[0]): \n",
        "     for j in range(S1RGB_imgA1A3_52.shape[1]): \n",
        "                if 1770<i<1880 and 1700<j<1830 :\n",
        "                    S1A1_502.append(S1RGB_imgA1A3_52[i][j])\n",
        "                if 1770<i<1880 and 2015<j<2145 :\n",
        "                    S1A3_5102.append(S1RGB_imgA1A3_52[i][j])"
      ],
      "execution_count": null,
      "outputs": []
    },
    {
      "cell_type": "code",
      "metadata": {
        "id": "Ovn49cML0xrq"
      },
      "source": [
        "S1A1_602= list()\n",
        "S1A4_102 = list()\n",
        "for i in range(S1RGB_imgA1A4_2.shape[0]): \n",
        "     for j in range(S1RGB_imgA1A4_2.shape[1]): \n",
        "                if 1770<i<1880 and 1700<j<1830 :\n",
        "                    S1A1_602.append(S1RGB_imgA1A4_2[i][j])\n",
        "                if 1770<i<1880 and 2015<j<2145 :\n",
        "                    S1A4_102.append(S1RGB_imgA1A4_2[i][j])"
      ],
      "execution_count": null,
      "outputs": []
    },
    {
      "cell_type": "code",
      "metadata": {
        "id": "FJFJfwz10xrr"
      },
      "source": [
        "S1A1_702= list()\n",
        "S1B1_102 = list()\n",
        "for i in range(S1RGB_imgA1B1_2.shape[0]): \n",
        "     for j in range(S1RGB_imgA1B1_2.shape[1]): \n",
        "                if 1770<i<1880 and 1700<j<1830 :\n",
        "                    S1A1_702.append(S1RGB_imgA1B1_2[i][j])\n",
        "                if 1770<i<1880 and 2015<j<2145 :\n",
        "                    S1B1_102.append(S1RGB_imgA1B1_2[i][j])"
      ],
      "execution_count": null,
      "outputs": []
    },
    {
      "cell_type": "code",
      "metadata": {
        "id": "VA3fVGRb0xrt"
      },
      "source": [
        "S1A1_80= list()\n",
        "S1B2_10 = list()\n",
        "for i in range(S1RGB_imgA1B2_.shape[0]): \n",
        "     for j in range(S1RGB_imgA1B2_.shape[1]): \n",
        "                if 1770<i<1880 and 1700<j<1830 :\n",
        "                    S1A1_80.append(S1RGB_imgA1B2_[i][j])\n",
        "                if 1770<i<1880 and 2015<j<2145 :\n",
        "                    S1B2_10.append(S1RGB_imgA1B2_[i][j])"
      ],
      "execution_count": null,
      "outputs": []
    },
    {
      "cell_type": "code",
      "metadata": {
        "id": "vT7vcVLF0xru"
      },
      "source": [
        "S1A1_902= list()\n",
        "S1B3_102 = list()\n",
        "for i in range(S1RGB_imgA1B3_2.shape[0]): \n",
        "     for j in range(S1RGB_imgA1B3_2.shape[1]): \n",
        "                if 1770<i<1880 and 1700<j<1830 :\n",
        "                    S1A1_902.append(S1RGB_imgA1B3_2[i][j])\n",
        "                if 1770<i<1880 and 2015<j<2145 :\n",
        "                    S1B3_102.append(S1RGB_imgA1B3_2[i][j])"
      ],
      "execution_count": null,
      "outputs": []
    },
    {
      "cell_type": "code",
      "metadata": {
        "id": "s6Qp8Sh-0xrv"
      },
      "source": [
        "S1A1_1002= list()\n",
        "S1B4_102 = list()\n",
        "for i in range(S1RGB_imgA1B4_2.shape[0]): \n",
        "     for j in range(S1RGB_imgA1B4_2.shape[1]): \n",
        "                if 1770<i<1880 and 1700<j<1830 :\n",
        "                    S1A1_1002.append(S1RGB_imgA1B4_2[i][j])\n",
        "                if 1770<i<1880 and 2015<j<2145 :\n",
        "                    S1B4_102.append(S1RGB_imgA1B4_2[i][j])"
      ],
      "execution_count": null,
      "outputs": []
    },
    {
      "cell_type": "code",
      "metadata": {
        "id": "23zm2ui60xrw"
      },
      "source": [
        "S1A1_1102= list()\n",
        "S1C1_202 = list()\n",
        "for i in range(S1RGB_imgA1C1_.2shape[0]): \n",
        "     for j in range(S1RGB_imgA1C1_2.shape[1]): \n",
        "                if 1770<i<1880 and 1700<j<1830 :\n",
        "                    S1A1_1102.append(S1RGB_imgA1C1_2[i][j])\n",
        "                if 1770<i<1880 and 2015<j<2145 :\n",
        "                    S1C1_202.append(S1RGB_imgA1C1_2[i][j])   "
      ],
      "execution_count": null,
      "outputs": []
    },
    {
      "cell_type": "code",
      "metadata": {
        "id": "CWx1CHU20xry"
      },
      "source": [
        "S1A1_1202= list()\n",
        "S1C2_102 = list()\n",
        "for i in range(S1RGB_imgA1C2_2.shape[0]): \n",
        "     for j in range(S1RGB_imgA1C2_2.shape[1]): \n",
        "                if 1770<i<1880 and 1700<j<1830 :\n",
        "                    S1A1_1202.append(S1RGB_imgA1C2_2[i][j])\n",
        "                if 1770<i<1880 and 2015<j<2145 :\n",
        "                    S1C2_102.append(S1RGB_imgA1C2_2[i][j])   "
      ],
      "execution_count": null,
      "outputs": []
    },
    {
      "cell_type": "code",
      "metadata": {
        "id": "3kqH_rGC0xrz"
      },
      "source": [
        "S1A1_1302= list()\n",
        "S1C3_102 = list()\n",
        "for i in range(S1RGB_imgA1C3_2.shape[0]): \n",
        "     for j in range(S1RGB_imgA1C3_2.shape[1]): \n",
        "                if 1770<i<1880 and 1700<j<1830 :\n",
        "                    S1A1_1302.append(S1RGB_imgA1C3_2[i][j])\n",
        "                if 1770<i<1880 and 2015<j<2145 :\n",
        "                    S1C3_102.append(S1RGB_imgA1C3_2[i][j])   "
      ],
      "execution_count": null,
      "outputs": []
    },
    {
      "cell_type": "code",
      "metadata": {
        "id": "iQjzcPRf0xrz"
      },
      "source": [
        "S1A1_1402= list()\n",
        "S1C4_102 = list()\n",
        "for i in range(S1RGB_imgA1C4_2.shape[0]): \n",
        "     for j in range(S1RGB_imgA1C4_2.shape[1]): \n",
        "                if 1770<i<1880 and 1700<j<1830 :\n",
        "                    S1A1_1402.append(S1RGB_imgA1C4_2[i][j])\n",
        "                if 1770<i<1880 and 2015<j<2145 :\n",
        "                    S1C4_102.append(S1RGB_imgA1C4_2[i][j])"
      ],
      "execution_count": null,
      "outputs": []
    },
    {
      "cell_type": "code",
      "metadata": {
        "id": "Uw32GN1j0xr0"
      },
      "source": [
        "S1A1_1502= list()\n",
        "S1D2_102 = list()\n",
        "for i in range(S1RGB_imgA1D2_2.shape[0]): \n",
        "     for j in range(S1RGB_imgA1D2_2.shape[1]): \n",
        "                if 1770<i<1880 and 1700<j<1830 :\n",
        "                    S1A1_1502.append(S1RGB_imgA1D2_2[i][j])\n",
        "                if 1770<i<1880 and 2015<j<2145 :\n",
        "                    S1D2_102.append(S1RGB_imgA1D2_2[i][j])   "
      ],
      "execution_count": null,
      "outputs": []
    },
    {
      "cell_type": "code",
      "metadata": {
        "id": "W23zz4Vx0xr0"
      },
      "source": [
        "S1A1_1602= list()\n",
        "S1D3_102 = list()\n",
        "for i in range(S1RGB_imgA1D3_2.shape[0]): \n",
        "     for j in range(S1RGB_imgA1D3_2.shape[1]): \n",
        "                if 1770<i<1880 and 1700<j<1830 :\n",
        "                    S1A1_1602.append(S1RGB_imgA1D3_2[i][j])\n",
        "                if 1770<i<1880 and 2015<j<2145 :\n",
        "                    S1D3_102.append(S1RGB_imgA1D3_2[i][j])   "
      ],
      "execution_count": null,
      "outputs": []
    },
    {
      "cell_type": "code",
      "metadata": {
        "id": "2XjUX_4K0xr1"
      },
      "source": [
        "S1A1_1702= list()\n",
        "S1D4_102 = list()\n",
        "for i in range(S1RGB_imgA1D4_2.shape[0]): \n",
        "     for j in range(S1RGB_imgA1D4_2.shape[1]): \n",
        "                if 1770<i<1880 and 1700<j<1830 :\n",
        "                    S1A1_1702.append(S1RGB_imgA1D4_2[i][j])\n",
        "                if 1770<i<1880 and 2015<j<2145 :\n",
        "                    S1D4_102.append(S1RGB_imgA1D4_2[i][j])"
      ],
      "execution_count": null,
      "outputs": []
    },
    {
      "cell_type": "markdown",
      "metadata": {
        "id": "1rnOsVrtE--W"
      },
      "source": [
        "###Img 3"
      ]
    },
    {
      "cell_type": "code",
      "metadata": {
        "id": "PJYf6wtmE--X"
      },
      "source": [
        "S1A1_103= list()\n",
        "S1A1_203= list()\n",
        "for i in range(S1RGB_imgA1A1_3.shape[0]): #ให้ i รันตาม row หรือ shape[0] คือแถว มีทั้งหมด 4032 แถว ของภาพที่ปรับขนาดมาแล้ว\n",
        "     for j in range(S1RGB_imgA1A1_3.shape[1]): #ให้ j รันตาม colum มีทั้งหมด 3024 colum เช่น แถวที่ 1 เข้ามาให้รันครบ 3024colum\n",
        "                if 1770<i<1880 and 1700<j<1830 :\n",
        "                    S1A1_103.append(S1RGB_imgA1A1_3[i][j])\n",
        "                if 1770<i<1880 and 2015<j<2145 :\n",
        "                    S1A1_203.append(S1RGB_imgA1A1_3[i][j])   "
      ],
      "execution_count": null,
      "outputs": []
    },
    {
      "cell_type": "code",
      "metadata": {
        "id": "FUfHSyw3E--Y"
      },
      "source": [
        "S1A1_303= list()\n",
        "S1A2_103 = list()\n",
        "for i in range(S1RGB_imgA1A2_3.shape[0]): \n",
        "     for j in range(S1RGB_imgA1A2_3.shape[1]): \n",
        "                if 1770<i<1880 and 1700<j<1830 :\n",
        "                    S1A1_303.append(S1RGB_imgA1A2_3[i][j])\n",
        "                if 1770<i<1880 and 2015<j<2145 :\n",
        "                    S1A2_103.append(S1RGB_imgA1A2_3[i][j])   "
      ],
      "execution_count": null,
      "outputs": []
    },
    {
      "cell_type": "code",
      "metadata": {
        "id": "z8aMOtVXE--Y"
      },
      "source": [
        "S1A1_403= list()\n",
        "S1A3_103 = list()\n",
        "for i in range(S1RGB_imgA1A3_3.shape[0]): \n",
        "     for j in range(S1RGB_imgA1A3_3.shape[1]): \n",
        "                if 1770<i<1880 and 1700<j<1830 :\n",
        "                    S1A1_403.append(S1RGB_imgA1A3_3[i][j])\n",
        "                if 1770<i<1880 and 2015<j<2145 :\n",
        "                    S1A3_103.append(S1RGB_imgA1A3_3[i][j])   "
      ],
      "execution_count": null,
      "outputs": []
    },
    {
      "cell_type": "code",
      "metadata": {
        "id": "fU3MxA37E--Y"
      },
      "source": [
        "S1A1_503= list()\n",
        "S1A3_5103= list()\n",
        "for i in range(S1RGB_imgA1A3_53.shape[0]): \n",
        "     for j in range(S1RGB_imgA1A3_53.shape[1]): \n",
        "                if 1770<i<1880 and 1700<j<1830 :\n",
        "                    S1A1_503.append(S1RGB_imgA1A3_53[i][j])\n",
        "                if 1770<i<1880 and 2015<j<2145 :\n",
        "                    S1A3_5103.append(S1RGB_imgA1A3_53[i][j])"
      ],
      "execution_count": null,
      "outputs": []
    },
    {
      "cell_type": "code",
      "metadata": {
        "id": "d6zab-r7E--Z"
      },
      "source": [
        "S1A1_603= list()\n",
        "S1A4_103 = list()\n",
        "for i in range(S1RGB_imgA1A4_.3shape[0]): \n",
        "     for j in range(S1RGB_imgA1A4_3.shape[1]): \n",
        "                if 1770<i<1880 and 1700<j<1830 :\n",
        "                    S1A1_603.append(S1RGB_imgA1A4_3[i][j])\n",
        "                if 1770<i<1880 and 2015<j<2145 :\n",
        "                    S1A4_103.append(S1RGB_imgA1A4_3[i][j])"
      ],
      "execution_count": null,
      "outputs": []
    },
    {
      "cell_type": "code",
      "metadata": {
        "id": "z3VzPAfQE--Z"
      },
      "source": [
        "S1A1_703= list()\n",
        "S1B1_103 = list()\n",
        "for i in range(S1RGB_imgA1B1_3.shape[0]): \n",
        "     for j in range(S1RGB_imgA1B1_3.shape[1]): \n",
        "                if 1770<i<1880 and 1700<j<1830 :\n",
        "                    S1A1_703.append(S1RGB_imgA1B1_3[i][j])\n",
        "                if 1770<i<1880 and 2015<j<2145 :\n",
        "                    S1B1_103.append(S1RGB_imgA1B1_3[i][j])"
      ],
      "execution_count": null,
      "outputs": []
    },
    {
      "cell_type": "code",
      "metadata": {
        "id": "zMOwJgEXE--a"
      },
      "source": [
        "S1A1_803= list()\n",
        "S1B2_103 = list()\n",
        "for i in range(S1RGB_imgA1B2_3.shape[0]): \n",
        "     for j in range(S1RGB_imgA1B2_3.shape[1]): \n",
        "                if 1770<i<1880 and 1700<j<1830 :\n",
        "                    S1A1_803.append(S1RGB_imgA1B2_3[i][j])\n",
        "                if 1770<i<1880 and 2015<j<2145 :\n",
        "                    S1B2_103.append(S1RGB_imgA1B2_3[i][j])"
      ],
      "execution_count": null,
      "outputs": []
    },
    {
      "cell_type": "code",
      "metadata": {
        "id": "FpUHgLc7E--a"
      },
      "source": [
        "S1A1_903= list()\n",
        "S1B3_103 = list()\n",
        "for i in range(S1RGB_imgA1B3_3.shape[0]): \n",
        "     for j in range(S1RGB_imgA1B3_3.shape[1]): \n",
        "                if 1770<i<1880 and 1700<j<1830 :\n",
        "                    S1A1_903.append(S1RGB_imgA1B3_3[i][j])\n",
        "                if 1770<i<1880 and 2015<j<2145 :\n",
        "                    S1B3_103.append(S1RGB_imgA1B3_3[i][j])"
      ],
      "execution_count": null,
      "outputs": []
    },
    {
      "cell_type": "code",
      "metadata": {
        "id": "48cGlnf3E--b"
      },
      "source": [
        "S1A1_100= list()\n",
        "S1B4_10 = list()\n",
        "for i in range(S1RGB_imgA1B4_.shape[0]): \n",
        "     for j in range(S1RGB_imgA1B4_.shape[1]): \n",
        "                if 1770<i<1880 and 1700<j<1830 :\n",
        "                    S1A1_100.append(S1RGB_imgA1B4_[i][j])\n",
        "                if 1770<i<1880 and 2015<j<2145 :\n",
        "                    S1B4_10.append(S1RGB_imgA1B4_[i][j])"
      ],
      "execution_count": null,
      "outputs": []
    },
    {
      "cell_type": "code",
      "metadata": {
        "id": "NI6YaVdYE--b"
      },
      "source": [
        "S1A1_1103= list()\n",
        "S1C1_203 = list()\n",
        "for i in range(S1RGB_imgA1C1_3.shape[0]): \n",
        "     for j in range(S1RGB_imgA1C1_3.shape[1]): \n",
        "                if 1770<i<1880 and 1700<j<1830 :\n",
        "                    S1A1_1103.append(S1RGB_imgA1C1_3[i][j])\n",
        "                if 1770<i<1880 and 2015<j<2145 :\n",
        "                    S1C1_203.append(S1RGB_imgA1C1_3[i][j])   "
      ],
      "execution_count": null,
      "outputs": []
    },
    {
      "cell_type": "code",
      "metadata": {
        "id": "wWfMgHoHE--b"
      },
      "source": [
        "S1A1_1203= list()\n",
        "S1C2_103 = list()\n",
        "for i in range(S1RGB_imgA1C2_3.shape[0]): \n",
        "     for j in range(S1RGB_imgA1C2_3.shape[1]): \n",
        "                if 1770<i<1880 and 1700<j<1830 :\n",
        "                    S1A1_1203.append(S1RGB_imgA1C2_3[i][j])\n",
        "                if 1770<i<1880 and 2015<j<2145 :\n",
        "                    S1C2_103.append(S1RGB_imgA1C2_3[i][j])   "
      ],
      "execution_count": null,
      "outputs": []
    },
    {
      "cell_type": "code",
      "metadata": {
        "id": "v7-wA0W0E--c"
      },
      "source": [
        "S1A1_1303= list()\n",
        "S1C3_103 = list()\n",
        "for i in range(S1RGB_imgA1C3_3.shape[0]): \n",
        "     for j in range(S1RGB_imgA1C3_3.shape[1]): \n",
        "                if 1770<i<1880 and 1700<j<1830 :\n",
        "                    S1A1_130.append(S1RGB_imgA1C3_3[i][j])\n",
        "                if 1770<i<1880 and 2015<j<2145 :\n",
        "                    S1C3_10.append(S1RGB_imgA1C3_3[i][j])   "
      ],
      "execution_count": null,
      "outputs": []
    },
    {
      "cell_type": "code",
      "metadata": {
        "id": "jbJbnSXVE--c"
      },
      "source": [
        "S1A1_140= list()\n",
        "S1C4_10 = list()\n",
        "for i in range(S1RGB_imgA1C4_.shape[0]): \n",
        "     for j in range(S1RGB_imgA1C4_.shape[1]): \n",
        "                if 1770<i<1880 and 1700<j<1830 :\n",
        "                    S1A1_140.append(S1RGB_imgA1C4_[i][j])\n",
        "                if 1770<i<1880 and 2015<j<2145 :\n",
        "                    S1C4_10.append(S1RGB_imgA1C4_[i][j])"
      ],
      "execution_count": null,
      "outputs": []
    },
    {
      "cell_type": "code",
      "metadata": {
        "id": "PgqKh8y_E--c"
      },
      "source": [
        "S1A1_150= list()\n",
        "S1D2_10 = list()\n",
        "for i in range(S1RGB_imgA1D2_.shape[0]): \n",
        "     for j in range(S1RGB_imgA1D2_.shape[1]): \n",
        "                if 1770<i<1880 and 1700<j<1830 :\n",
        "                    S1A1_150.append(S1RGB_imgA1D2_[i][j])\n",
        "                if 1770<i<1880 and 2015<j<2145 :\n",
        "                    S1D2_10.append(S1RGB_imgA1D2_[i][j])   "
      ],
      "execution_count": null,
      "outputs": []
    },
    {
      "cell_type": "code",
      "metadata": {
        "id": "6MU5MOpiE--c"
      },
      "source": [
        "S1A1_1603= list()\n",
        "S1D3_103 = list()\n",
        "for i in range(S1RGB_imgA1D3_3.shape[0]): \n",
        "     for j in range(S1RGB_imgA1D3_3.shape[1]): \n",
        "                if 1770<i<1880 and 1700<j<1830 :\n",
        "                    S1A1_1603.append(S1RGB_imgA1D3_3[i][j])\n",
        "                if 1770<i<1880 and 2015<j<2145 :\n",
        "                    S1D3_103.append(S1RGB_imgA1D3_3[i][j])   "
      ],
      "execution_count": null,
      "outputs": []
    },
    {
      "cell_type": "code",
      "metadata": {
        "id": "r_TmcMiSE--d"
      },
      "source": [
        "S1A1_1703= list()\n",
        "S1D4_103= list()\n",
        "for i in range(S1RGB_imgA1D4_3.shape[0]): \n",
        "     for j in range(S1RGB_imgA1D4_3.shape[1]): \n",
        "                if 1770<i<1880 and 1700<j<1830 :\n",
        "                    S1A1_1703.append(S1RGB_imgA1D4_3[i][j])\n",
        "                if 1770<i<1880 and 2015<j<2145 :\n",
        "                    S1D4_103.append(S1RGB_imgA1D4_3[i][j])"
      ],
      "execution_count": null,
      "outputs": []
    },
    {
      "cell_type": "markdown",
      "metadata": {
        "id": "anXWylpwFGfG"
      },
      "source": [
        "###Img 4"
      ]
    },
    {
      "cell_type": "code",
      "metadata": {
        "id": "-EhcshDoFGfG"
      },
      "source": [
        "S1A1_104= list()\n",
        "S1A1_204= list()\n",
        "for i in range(S1RGB_imgA1A1_4.shape[0]): #ให้ i รันตาม row หรือ shape[0] คือแถว มีทั้งหมด 4032 แถว ของภาพที่ปรับขนาดมาแล้ว\n",
        "     for j in range(S1RGB_imgA1A1_4.shape[1]): #ให้ j รันตาม colum มีทั้งหมด 3024 colum เช่น แถวที่ 1 เข้ามาให้รันครบ 3024colum\n",
        "                if 1770<i<1880 and 1700<j<1830 :\n",
        "                    S1A1_104.append(S1RGB_imgA1A1_4[i][j])\n",
        "                if 1770<i<1880 and 2015<j<2145 :\n",
        "                    S1A1_204.append(S1RGB_imgA1A1_4[i][j])   "
      ],
      "execution_count": null,
      "outputs": []
    },
    {
      "cell_type": "code",
      "metadata": {
        "id": "ezYNlZoAFGfH"
      },
      "source": [
        "S1A1_304= list()\n",
        "S1A2_104= list()\n",
        "for i in range(S1RGB_imgA1A2_4.shape[0]): \n",
        "     for j in range(S1RGB_imgA1A2_4.shape[1]): \n",
        "                if 1770<i<1880 and 1700<j<1830 :\n",
        "                    S1A1_304.append(S1RGB_imgA1A2_4[i][j])\n",
        "                if 1770<i<1880 and 2015<j<2145 :\n",
        "                    S1A2_104.append(S1RGB_imgA1A2_4[i][j])   "
      ],
      "execution_count": null,
      "outputs": []
    },
    {
      "cell_type": "code",
      "metadata": {
        "id": "CRADzUlMFGfH"
      },
      "source": [
        "S1A1_404= list()\n",
        "S1A3_104 = list()\n",
        "for i in range(S1RGB_imgA1A3_4.shape[0]): \n",
        "     for j in range(S1RGB_imgA1A3_4.shape[1]): \n",
        "                if 1770<i<1880 and 1700<j<1830 :\n",
        "                    S1A1_404.append(S1RGB_imgA1A3_4[i][j])\n",
        "                if 1770<i<1880 and 2015<j<2145 :\n",
        "                    S1A3_104.append(S1RGB_imgA1A3_4[i][j])   "
      ],
      "execution_count": null,
      "outputs": []
    },
    {
      "cell_type": "code",
      "metadata": {
        "id": "98KO0Lq5FGfH"
      },
      "source": [
        "S1A1_504= list()\n",
        "S1A3_5104 = list()\n",
        "for i in range(S1RGB_imgA1A3_54.shape[0]): \n",
        "     for j in range(S1RGB_imgA1A3_54.shape[1]): \n",
        "                if 1770<i<1880 and 1700<j<1830 :\n",
        "                    S1A1_504.append(S1RGB_imgA1A3_514[i][j])\n",
        "                if 1770<i<1880 and 2015<j<2145 :\n",
        "                    S1A3_5104.append(S1RGB_imgA1A3_54[i][j])"
      ],
      "execution_count": null,
      "outputs": []
    },
    {
      "cell_type": "code",
      "metadata": {
        "id": "Hc9J3H83FGfI"
      },
      "source": [
        "S1A1_604= list()\n",
        "S1A4_104 = list()\n",
        "for i in range(S1RGB_imgA1A4_4.shape[0]): \n",
        "     for j in range(S1RGB_imgA1A4_4.shape[1]): \n",
        "                if 1770<i<1880 and 1700<j<1830 :\n",
        "                    S1A1_604.append(S1RGB_imgA1A4_4[i][j])\n",
        "                if 1770<i<1880 and 2015<j<2145 :\n",
        "                    S1A4_104.append(S1RGB_imgA1A4_4[i][j])"
      ],
      "execution_count": null,
      "outputs": []
    },
    {
      "cell_type": "code",
      "metadata": {
        "id": "t4Rv8WbEFGfI"
      },
      "source": [
        "S1A1_704= list()\n",
        "S1B1_104 = list()\n",
        "for i in range(S1RGB_imgA1B1_4.shape[0]): \n",
        "     for j in range(S1RGB_imgA1B1_4.shape[1]): \n",
        "                if 1770<i<1880 and 1700<j<1830 :\n",
        "                    S1A1_704.append(S1RGB_imgA1B1_4[i][j])\n",
        "                if 1770<i<1880 and 2015<j<2145 :\n",
        "                    S1B1_104.append(S1RGB_imgA1B1_4[i][j])"
      ],
      "execution_count": null,
      "outputs": []
    },
    {
      "cell_type": "code",
      "metadata": {
        "id": "B5-Cl5kfFGfJ"
      },
      "source": [
        "S1A1_804= list()\n",
        "S1B2_104 = list()\n",
        "for i in range(S1RGB_imgA1B2_4.shape[0]): \n",
        "     for j in range(S1RGB_imgA1B2_4.shape[1]): \n",
        "                if 1770<i<1880 and 1700<j<1830 :\n",
        "                    S1A1_804.append(S1RGB_imgA1B2_4[i][j])\n",
        "                if 1770<i<1880 and 2015<j<2145 :\n",
        "                    S1B2_104.append(S1RGB_imgA1B2_4[i][j])"
      ],
      "execution_count": null,
      "outputs": []
    },
    {
      "cell_type": "code",
      "metadata": {
        "id": "-IFtsrzsFGfJ"
      },
      "source": [
        "S1A1_90= list()\n",
        "S1B3_10 = list()\n",
        "for i in range(S1RGB_imgA1B3_.shape[0]): \n",
        "     for j in range(S1RGB_imgA1B3_.shape[1]): \n",
        "                if 1770<i<1880 and 1700<j<1830 :\n",
        "                    S1A1_90.append(S1RGB_imgA1B3_[i][j])\n",
        "                if 1770<i<1880 and 2015<j<2145 :\n",
        "                    S1B3_10.append(S1RGB_imgA1B3_[i][j])"
      ],
      "execution_count": null,
      "outputs": []
    },
    {
      "cell_type": "code",
      "metadata": {
        "id": "b_UKKjz1FGfK"
      },
      "source": [
        "S1A1_1004= list()\n",
        "S1B4_104 = list()\n",
        "for i in range(S1RGB_imgA1B4_4.shape[0]): \n",
        "     for j in range(S1RGB_imgA1B4_4.shape[1]): \n",
        "                if 1770<i<1880 and 1700<j<1830 :\n",
        "                    S1A1_1004.append(S1RGB_imgA1B4_4[i][j])\n",
        "                if 1770<i<1880 and 2015<j<2145 :\n",
        "                    S1B4_104.append(S1RGB_imgA1B4_4[i][j])"
      ],
      "execution_count": null,
      "outputs": []
    },
    {
      "cell_type": "code",
      "metadata": {
        "id": "MCjnEcUKFGfK"
      },
      "source": [
        "S1A1_1104= list()\n",
        "S1C1_204 = list()\n",
        "for i in range(S1RGB_imgA1C1_4.shape[0]): \n",
        "     for j in range(S1RGB_imgA1C1_4.shape[1]): \n",
        "                if 1770<i<1880 and 1700<j<1830 :\n",
        "                    S1A1_1104.append(S1RGB_imgA1C1_4[i][j])\n",
        "                if 1770<i<1880 and 2015<j<2145 :\n",
        "                    S1C1_204.append(S1RGB_imgA1C1_4[i][j])   "
      ],
      "execution_count": null,
      "outputs": []
    },
    {
      "cell_type": "code",
      "metadata": {
        "id": "frNRZt8vFGfK"
      },
      "source": [
        "S1A1_1204= list()\n",
        "S1C2_104= list()\n",
        "for i in range(S1RGB_imgA1C2_4.shape[0]): \n",
        "     for j in range(S1RGB_imgA1C2_4.shape[1]): \n",
        "                if 1770<i<1880 and 1700<j<1830 :\n",
        "                    S1A1_1204.append(S1RGB_imgA1C2_4[i][j])\n",
        "                if 1770<i<1880 and 2015<j<2145 :\n",
        "                    S1C2_104.append(S1RGB_imgA1C2_4[i][j])   "
      ],
      "execution_count": null,
      "outputs": []
    },
    {
      "cell_type": "code",
      "metadata": {
        "id": "G67oDW9oFGfL"
      },
      "source": [
        "S1A1_1304= list()\n",
        "S1C3_104 = list()\n",
        "for i in range(S1RGB_imgA1C3_4.shape[0]): \n",
        "     for j in range(S1RGB_imgA1C3_4.shape[1]): \n",
        "                if 1770<i<1880 and 1700<j<1830 :\n",
        "                    S1A1_1304.append(S1RGB_imgA1C3_4[i][j])\n",
        "                if 1770<i<1880 and 2015<j<2145 :\n",
        "                    S1C3_104.append(S1RGB_imgA1C3_4[i][j])   "
      ],
      "execution_count": null,
      "outputs": []
    },
    {
      "cell_type": "code",
      "metadata": {
        "id": "UVjZc0-xFGfL"
      },
      "source": [
        "S1A1_1404= list()\n",
        "S1C4_104 = list()\n",
        "for i in range(S1RGB_imgA1C4_4.shape[0]): \n",
        "     for j in range(S1RGB_imgA1C4_4.shape[1]): \n",
        "                if 1770<i<1880 and 1700<j<1830 :\n",
        "                    S1A1_1404.append(S1RGB_imgA1C4_4[i][j])\n",
        "                if 1770<i<1880 and 2015<j<2145 :\n",
        "                    S1C4_104.append(S1RGB_imgA1C4_4[i][j])"
      ],
      "execution_count": null,
      "outputs": []
    },
    {
      "cell_type": "code",
      "metadata": {
        "id": "M7TOUdTcFGfL"
      },
      "source": [
        "S1A1_1504= list()\n",
        "S1D2_104 = list()\n",
        "for i in range(S1RGB_imgA1D2_4.shape[0]): \n",
        "     for j in range(S1RGB_imgA1D2_4.shape[1]): \n",
        "                if 1770<i<1880 and 1700<j<1830 :\n",
        "                    S1A1_1504.append(S1RGB_imgA1D2_4[i][j])\n",
        "                if 1770<i<1880 and 2015<j<2145 :\n",
        "                    S1D2_104.append(S1RGB_imgA1D2_4[i][j])   "
      ],
      "execution_count": null,
      "outputs": []
    },
    {
      "cell_type": "code",
      "metadata": {
        "id": "E3gpXL2pFGfL"
      },
      "source": [
        "S1A1_1604= list()\n",
        "S1D3_104 = list()\n",
        "for i in range(S1RGB_imgA1D3_4.shape[0]): \n",
        "     for j in range(S1RGB_imgA1D3_4.shape[1]): \n",
        "                if 1770<i<1880 and 1700<j<1830 :\n",
        "                    S1A1_1604.append(S1RGB_imgA1D3_4[i][j])\n",
        "                if 1770<i<1880 and 2015<j<2145 :\n",
        "                    S1D3_104.append(S1RGB_imgA1D3_4[i][j])   "
      ],
      "execution_count": null,
      "outputs": []
    },
    {
      "cell_type": "code",
      "metadata": {
        "id": "kfCPQ9WcFGfM"
      },
      "source": [
        "S1A1_1704= list()\n",
        "S1D4_104 = list()\n",
        "for i in range(S1RGB_imgA1D4_4.shape[0]): \n",
        "     for j in range(S1RGB_imgA1D4_4.shape[1]): \n",
        "                if 1770<i<1880 and 1700<j<1830 :\n",
        "                    S1A1_1704.append(S1RGB_imgA1D4_4[i][j])\n",
        "                if 1770<i<1880 and 2015<j<2145 :\n",
        "                    S1D4_104.append(S1RGB_imgA1D4_4[i][j])"
      ],
      "execution_count": null,
      "outputs": []
    },
    {
      "cell_type": "markdown",
      "metadata": {
        "id": "n5pl3AQaFLdn"
      },
      "source": [
        "###Img 5"
      ]
    },
    {
      "cell_type": "code",
      "metadata": {
        "id": "_xXpDDw4FLdo"
      },
      "source": [
        "S1A1_105= list()\n",
        "S1A1_205= list()\n",
        "for i in range(S1RGB_imgA1A1_5.shape[0]): #ให้ i รันตาม row หรือ shape[0] คือแถว มีทั้งหมด 4032 แถว ของภาพที่ปรับขนาดมาแล้ว\n",
        "     for j in range(S1RGB_imgA1A1_5.shape[1]): #ให้ j รันตาม colum มีทั้งหมด 3024 colum เช่น แถวที่ 1 เข้ามาให้รันครบ 3024colum\n",
        "                if 1770<i<1880 and 1700<j<1830 :\n",
        "                    S1A1_105.append(S1RGB_imgA1A1_5[i][j])\n",
        "                if 1770<i<1880 and 2015<j<2145 :\n",
        "                    S1A1_205.append(S1RGB_imgA1A1_5[i][j])   "
      ],
      "execution_count": null,
      "outputs": []
    },
    {
      "cell_type": "code",
      "metadata": {
        "id": "BvBHXHJJFLdo"
      },
      "source": [
        "S1A1_305= list()\n",
        "S1A2_105 = list()\n",
        "for i in range(S1RGB_imgA1A2_5.shape[0]): \n",
        "     for j in range(S1RGB_imgA1A2_5.shape[1]): \n",
        "                if 1770<i<1880 and 1700<j<1830 :\n",
        "                    S1A1_305.append(S1RGB_imgA1A2_5[i][j])\n",
        "                if 1770<i<1880 and 2015<j<2145 :\n",
        "                    S1A2_105.append(S1RGB_imgA1A2_5[i][j])   "
      ],
      "execution_count": null,
      "outputs": []
    },
    {
      "cell_type": "code",
      "metadata": {
        "id": "UPIw58OqFLdo"
      },
      "source": [
        "S1A1_405= list()\n",
        "S1A3_105= list()\n",
        "for i in range(S1RGB_imgA1A3_5.shape[0]): \n",
        "     for j in range(S1RGB_imgA1A3_5.shape[1]): \n",
        "                if 1770<i<1880 and 1700<j<1830 :\n",
        "                    S1A1_405.append(S1RGB_imgA1A3_5[i][j])\n",
        "                if 1770<i<1880 and 2015<j<2145 :\n",
        "                    S1A3_105.append(S1RGB_imgA1A3_5[i][j])   "
      ],
      "execution_count": null,
      "outputs": []
    },
    {
      "cell_type": "code",
      "metadata": {
        "id": "Up2hgIdhFLdp"
      },
      "source": [
        "S1A1_505= list()\n",
        "S1A3_5105 = list()\n",
        "for i in range(S1RGB_5imgA1A3_5.shape[0]): \n",
        "     for j in range(S1RGB_5imgA1A3_5.shape[1]): \n",
        "                if 1770<i<1880 and 1700<j<1830 :\n",
        "                    S1A1_505.append(S1RGB_imgA1A3_55[i][j])\n",
        "                if 1770<i<1880 and 2015<j<2145 :\n",
        "                    S1A3_5105.append(S1RGB_imgA1A3_55[i][j])"
      ],
      "execution_count": null,
      "outputs": []
    },
    {
      "cell_type": "code",
      "metadata": {
        "id": "UwR95slSFLdp"
      },
      "source": [
        "S1A1_605= list()\n",
        "S1A4_105 = list()\n",
        "for i in range(S1RGB_imgA1A4_5.shape[0]): \n",
        "     for j in range(S1RGB_imgA1A4_5.shape[1]): \n",
        "                if 1770<i<1880 and 1700<j<1830 :\n",
        "                    S1A1_605.append(S1RGB_imgA1A4_5[i][j])\n",
        "                if 1770<i<1880 and 2015<j<2145 :\n",
        "                    S1A4_105.append(S1RGB_imgA1A4_5[i][j])"
      ],
      "execution_count": null,
      "outputs": []
    },
    {
      "cell_type": "code",
      "metadata": {
        "id": "k-cvhfMEFLdp"
      },
      "source": [
        "S1A1_705= list()\n",
        "S1B1_105 = list()\n",
        "for i in range(S1RGB_imgA1B1_5.shape[0]): \n",
        "     for j in range(S1RGB_imgA1B1_5.shape[1]): \n",
        "                if 1770<i<1880 and 1700<j<1830 :\n",
        "                    S1A1_705.append(S1RGB_imgA1B1_5[i][j])\n",
        "                if 1770<i<1880 and 2015<j<2145 :\n",
        "                    S1B1_105.append(S1RGB_imgA1B1_5[i][j])"
      ],
      "execution_count": null,
      "outputs": []
    },
    {
      "cell_type": "code",
      "metadata": {
        "id": "4y3dagDaFLdq"
      },
      "source": [
        "S1A1_805= list()\n",
        "S1B2_105 = list()\n",
        "for i in range(S1RGB_imgA1B2_5.shape[0]): \n",
        "     for j in range(S1RGB_imgA1B2_5.shape[1]): \n",
        "                if 1770<i<1880 and 1700<j<1830 :\n",
        "                    S1A1_805.append(S1RGB_imgA1B2_5[i][j])\n",
        "                if 1770<i<1880 and 2015<j<2145 :\n",
        "                    S1B2_105.append(S1RGB_imgA1B2_5[i][j])"
      ],
      "execution_count": null,
      "outputs": []
    },
    {
      "cell_type": "code",
      "metadata": {
        "id": "N2_qP7eVFLdq"
      },
      "source": [
        "S1A1_905= list()\n",
        "S1B3_105 = list()\n",
        "for i in range(S1RGB_imgA1B3_5.shape[0]): \n",
        "     for j in range(S1RGB_imgA1B3_5.shape[1]): \n",
        "                if 1770<i<1880 and 1700<j<1830 :\n",
        "                    S1A1_905.append(S1RGB_imgA1B3_5[i][j])\n",
        "                if 1770<i<1880 and 2015<j<2145 :\n",
        "                    S1B3_105.append(S1RGB_imgA1B3_5[i][j])"
      ],
      "execution_count": null,
      "outputs": []
    },
    {
      "cell_type": "code",
      "metadata": {
        "id": "9TqgoxY5FLdq"
      },
      "source": [
        "S1A1_1005= list()\n",
        "S1B4_105 = list()\n",
        "for i in range(S1RGB_imgA1B4_5.shape[0]): \n",
        "     for j in range(S1RGB_imgA1B4_5.shape[1]): \n",
        "                if 1770<i<1880 and 1700<j<1830 :\n",
        "                    S1A1_1005.append(S1RGB_imgA1B4_5[i][j])\n",
        "                if 1770<i<1880 and 2015<j<2145 :\n",
        "                    S1B4_105.append(S1RGB_imgA1B4_5[i][j])"
      ],
      "execution_count": null,
      "outputs": []
    },
    {
      "cell_type": "code",
      "metadata": {
        "id": "jyKi7iMKFLdr"
      },
      "source": [
        "S1A1_1105= list()\n",
        "S1C1_205 = list()\n",
        "for i in range(S1RGB_imgA1C1_5.shape[0]): \n",
        "     for j in range(S1RGB_imgA1C1_5.shape[1]): \n",
        "                if 1770<i<1880 and 1700<j<1830 :\n",
        "                    S1A1_1105.append(S1RGB_imgA1C1_5[i][j])\n",
        "                if 1770<i<1880 and 2015<j<2145 :\n",
        "                    S1C1_205.append(S1RGB_imgA1C1_5[i][j])   "
      ],
      "execution_count": null,
      "outputs": []
    },
    {
      "cell_type": "code",
      "metadata": {
        "id": "uAwj-x-XFLdr"
      },
      "source": [
        "S1A1_1205= list()\n",
        "S1C2_105 = list()\n",
        "for i in range(S1RGB_imgA1C2_5.shape[0]): \n",
        "     for j in range(S1RGB_imgA1C2_5.shape[1]): \n",
        "                if 1770<i<1880 and 1700<j<1830 :\n",
        "                    S1A1_1205.append(S1RGB_imgA1C2_5[i][j])\n",
        "                if 1770<i<1880 and 2015<j<2145 :\n",
        "                    S1C2_105.append(S1RGB_imgA1C2_5[i][j])   "
      ],
      "execution_count": null,
      "outputs": []
    },
    {
      "cell_type": "code",
      "metadata": {
        "id": "vDnXmgUPFLdr"
      },
      "source": [
        "S1A1_1305= list()\n",
        "S1C3_105 = list()\n",
        "for i in range(S1RGB_imgA1C3_5.shape[0]): \n",
        "     for j in range(S1RGB_imgA1C3_5.shape[1]): \n",
        "                if 1770<i<1880 and 1700<j<1830 :\n",
        "                    S1A1_1305.append(S1RGB_imgA1C3_5[i][j])\n",
        "                if 1770<i<1880 and 2015<j<2145 :\n",
        "                    S1C3_105.append(S1RGB_imgA1C3_5[i][j])   "
      ],
      "execution_count": null,
      "outputs": []
    },
    {
      "cell_type": "code",
      "metadata": {
        "id": "Iyy0c_bgFLdr"
      },
      "source": [
        "S1A1_1405= list()\n",
        "S1C4_105= list()\n",
        "for i in range(S1RGB_imgA1C4_.shape[0]): \n",
        "     for j in range(S1RGB_imgA1C4_.shape[1]): \n",
        "                if 1770<i<1880 and 1700<j<1830 :\n",
        "                    S1A1_1405.append(S1RGB_imgA1C4_[i][j])\n",
        "                if 1770<i<1880 and 2015<j<2145 :\n",
        "                    S1C4_105.append(S1RGB_imgA1C4_[i][j])"
      ],
      "execution_count": null,
      "outputs": []
    },
    {
      "cell_type": "code",
      "metadata": {
        "id": "smkxnKO6FLds"
      },
      "source": [
        "S1A1_1505= list()\n",
        "S1D2_105 = list()\n",
        "for i in range(S1RGB_imgA1D2_5.shape[0]): \n",
        "     for j in range(S1RGB_imgA1D2_5.shape[1]): \n",
        "                if 1770<i<1880 and 1700<j<1830 :\n",
        "                    S1A1_1505.append(S1RGB_imgA1D2_5[i][j])\n",
        "                if 1770<i<1880 and 2015<j<2145 :\n",
        "                    S1D2_105.append(S1RGB_imgA1D2_5[i][j])   "
      ],
      "execution_count": null,
      "outputs": []
    },
    {
      "cell_type": "code",
      "metadata": {
        "id": "7kB5viMCFLds"
      },
      "source": [
        "S1A1_1605= list()\n",
        "S1D3_105 = list()\n",
        "for i in range(S1RGB_imgA1D3_5.shape[0]): \n",
        "     for j in range(S1RGB_imgA1D3_5.shape[1]): \n",
        "                if 1770<i<1880 and 1700<j<1830 :\n",
        "                    S1A1_1605.append(S1RGB_imgA1D3_5[i][j])\n",
        "                if 1770<i<1880 and 2015<j<2145 :\n",
        "                    S1D3_105.append(S1RGB_imgA1D3_5[i][j])   "
      ],
      "execution_count": null,
      "outputs": []
    },
    {
      "cell_type": "code",
      "metadata": {
        "id": "I8XSrELrFLds"
      },
      "source": [
        "S1A1_1705= list()\n",
        "S1D4_105 = list()\n",
        "for i in range(S1RGB_imgA1D4_5.shape[0]): \n",
        "     for j in range(S1RGB_imgA1D4_5.shape[1]): \n",
        "                if 1770<i<1880 and 1700<j<1830 :\n",
        "                    S1A1_1705.append(S1RGB_imgA1D4_5[i][j])\n",
        "                if 1770<i<1880 and 2015<j<2145 :\n",
        "                    S1D4_105.append(S1RGB_imgA1D4_5[i][j])"
      ],
      "execution_count": null,
      "outputs": []
    },
    {
      "cell_type": "markdown",
      "metadata": {
        "id": "uo3Ri7YnFRM5"
      },
      "source": [
        "###Img 6"
      ]
    },
    {
      "cell_type": "code",
      "metadata": {
        "id": "FWRJS97HFRM5"
      },
      "source": [
        "S1A1_105= list()\n",
        "S1A1_205= list()\n",
        "for i in range(S1RGB_imgA1A1_5.shape[0]): #ให้ i รันตาม row หรือ shape[0] คือแถว มีทั้งหมด 4032 แถว ของภาพที่ปรับขนาดมาแล้ว\n",
        "     for j in range(S1RGB_imgA1A1_5.shape[1]): #ให้ j รันตาม colum มีทั้งหมด 3024 colum เช่น แถวที่ 1 เข้ามาให้รันครบ 3024colum\n",
        "                if 1770<i<1880 and 1700<j<1830 :\n",
        "                    S1A1_105.append(S1RGB_imgA1A1_5[i][j])\n",
        "                if 1770<i<1880 and 2015<j<2145 :\n",
        "                    S1A1_205.append(S1RGB_imgA1A1_5[i][j])   "
      ],
      "execution_count": null,
      "outputs": []
    },
    {
      "cell_type": "code",
      "metadata": {
        "id": "FSLf_lY-FRM6"
      },
      "source": [
        "S1A1_305= list()\n",
        "S1A2_105 = list()\n",
        "for i in range(S1RGB_imgA1A2_5.shape[0]): \n",
        "     for j in range(S1RGB_imgA1A2_5.shape[1]): \n",
        "                if 1770<i<1880 and 1700<j<1830 :\n",
        "                    S1A1_305.append(S1RGB_imgA1A2_5[i][j])\n",
        "                if 1770<i<1880 and 2015<j<2145 :\n",
        "                    S1A2_105.append(S1RGB_imgA1A2_5[i][j])   "
      ],
      "execution_count": null,
      "outputs": []
    },
    {
      "cell_type": "code",
      "metadata": {
        "id": "-6R6LmwSFRM6"
      },
      "source": [
        "S1A1_405= list()\n",
        "S1A3_105 = list()\n",
        "for i in range(S1RGB_imgA1A3_5.shape[0]): \n",
        "     for j in range(S1RGB_imgA1A3_5.shape[1]): \n",
        "                if 1770<i<1880 and 1700<j<1830 :\n",
        "                    S1A1_405.append(S1RGB_imgA1A3_5[i][j])\n",
        "                if 1770<i<1880 and 2015<j<2145 :\n",
        "                    S1A3_105.append(S1RGB_imgA1A3_5[i][j])   "
      ],
      "execution_count": null,
      "outputs": []
    },
    {
      "cell_type": "code",
      "metadata": {
        "id": "KqHYHEw1FRM7"
      },
      "source": [
        "S1A1_505= list()\n",
        "S1A3_5105 = list()\n",
        "for i in range(S1RGB_imgA1A3_55.shape[0]): \n",
        "     for j in range(S1RGB_imgA1A3_55.shape[1]): \n",
        "                if 1770<i<1880 and 1700<j<1830 :\n",
        "                    S1A1_505.append(S1RGB_imgA1A3_55[i][j])\n",
        "                if 1770<i<1880 and 2015<j<2145 :\n",
        "                    S1A3_5105.append(S1RGB_imgA1A3_55[i][j])"
      ],
      "execution_count": null,
      "outputs": []
    },
    {
      "cell_type": "code",
      "metadata": {
        "id": "N82vb6z0FRM7"
      },
      "source": [
        "S1A1_605= list()\n",
        "S1A4_105 = list()\n",
        "for i in range(S1RGB_imgA1A4_5.shape[0]): \n",
        "     for j in range(S1RGB_imgA1A4_5.shape[1]): \n",
        "                if 1770<i<1880 and 1700<j<1830 :\n",
        "                    S1A1_605.append(S1RGB_imgA1A4_5[i][j])\n",
        "                if 1770<i<1880 and 2015<j<2145 :\n",
        "                    S1A4_105.append(S1RGB_imgA1A4_5[i][j])"
      ],
      "execution_count": null,
      "outputs": []
    },
    {
      "cell_type": "code",
      "metadata": {
        "id": "NtOxZZpEFRM7"
      },
      "source": [
        "S1A1_705= list()\n",
        "S1B1_105 = list()\n",
        "for i in range(S1RGB_imgA1B1_5.shape[0]): \n",
        "     for j in range(S1RGB_imgA1B1_5.shape[1]): \n",
        "                if 1770<i<1880 and 1700<j<1830 :\n",
        "                    S1A1_705.append(S1RGB_imgA1B1_5[i][j])\n",
        "                if 1770<i<1880 and 2015<j<2145 :\n",
        "                    S1B1_105.append(S1RGB_imgA1B1_5[i][j])"
      ],
      "execution_count": null,
      "outputs": []
    },
    {
      "cell_type": "code",
      "metadata": {
        "id": "cwk7fklvFRM9"
      },
      "source": [
        "S1A1_805= list()\n",
        "S1B2_105 = list()\n",
        "for i in range(S1RGB_imgA1B2_5.shape[0]): \n",
        "     for j in range(S1RGB_imgA1B2_5.shape[1]): \n",
        "                if 1770<i<1880 and 1700<j<1830 :\n",
        "                    S1A1_805.append(S1RGB_imgA1B2_5[i][j])\n",
        "                if 1770<i<1880 and 2015<j<2145 :\n",
        "                    S1B2_105.append(S1RGB_imgA1B2_5[i][j])"
      ],
      "execution_count": null,
      "outputs": []
    },
    {
      "cell_type": "code",
      "metadata": {
        "id": "FZn0VdJoFRM-"
      },
      "source": [
        "S1A1_905= list()\n",
        "S1B3_105 = list()\n",
        "for i in range(S1RGB_imgA1B3_5.shape[0]): \n",
        "     for j in range(S1RGB_imgA1B3_5.shape[1]): \n",
        "                if 1770<i<1880 and 1700<j<1830 :\n",
        "                    S1A1_905.append(S1RGB_imgA1B3_5[i][j])\n",
        "                if 1770<i<1880 and 2015<j<2145 :\n",
        "                    S1B3_105.append(S1RGB_imgA1B3_5[i][j])"
      ],
      "execution_count": null,
      "outputs": []
    },
    {
      "cell_type": "code",
      "metadata": {
        "id": "4tG3D9HAFRM-"
      },
      "source": [
        "S1A1_1005= list()\n",
        "S1B4_105 = list()\n",
        "for i in range(S1RGB_imgA1B4_5.shape[0]): \n",
        "     for j in range(S1RGB_imgA1B4_5.shape[1]): \n",
        "                if 1770<i<1880 and 1700<j<1830 :\n",
        "                    S1A1_1005.append(S1RGB_imgA1B4_5[i][j])\n",
        "                if 1770<i<1880 and 2015<j<2145 :\n",
        "                    S1B4_105.append(S1RGB_imgA1B4_5[i][j])"
      ],
      "execution_count": null,
      "outputs": []
    },
    {
      "cell_type": "code",
      "metadata": {
        "id": "YHN8ysaOFRM_"
      },
      "source": [
        "S1A1_1105= list()\n",
        "S1C1_205 = list()\n",
        "for i in range(S1RGB_imgA1C1_5.shape[0]): \n",
        "     for j in range(S1RGB_imgA1C1_5.shape[1]): \n",
        "                if 1770<i<1880 and 1700<j<1830 :\n",
        "                    S1A1_1105.append(S1RGB_imgA1C1_5[i][j])\n",
        "                if 1770<i<1880 and 2015<j<2145 :\n",
        "                    S1C1_205.append(S1RGB_imgA1C1_5[i][j])   "
      ],
      "execution_count": null,
      "outputs": []
    },
    {
      "cell_type": "code",
      "metadata": {
        "id": "hani7wNTFRNA"
      },
      "source": [
        "S1A1_1205= list()\n",
        "S1C2_105 = list()\n",
        "for i in range(S1RGB_imgA1C2_5.shape[0]): \n",
        "     for j in range(S1RGB_imgA1C2_5.shape[1]): \n",
        "                if 1770<i<1880 and 1700<j<1830 :\n",
        "                    S1A1_1205.append(S1RGB_imgA1C2_5[i][j])\n",
        "                if 1770<i<1880 and 2015<j<2145 :\n",
        "                    S1C2_105.append(S1RGB_imgA1C2_5[i][j])   "
      ],
      "execution_count": null,
      "outputs": []
    },
    {
      "cell_type": "code",
      "metadata": {
        "id": "p0HK0GGaFRNA"
      },
      "source": [
        "S1A1_1305= list()\n",
        "S1C3_105 = list()\n",
        "for i in range(S1RGB_imgA1C3_5.shape[0]): \n",
        "     for j in range(S1RGB_imgA1C3_5.shape[1]): \n",
        "                if 1770<i<1880 and 1700<j<1830 :\n",
        "                    S1A1_1305.append(S1RGB_imgA1C3_5[i][j])\n",
        "                if 1770<i<1880 and 2015<j<2145 :\n",
        "                    S1C3_105.append(S1RGB_imgA1C3_5[i][j])   "
      ],
      "execution_count": null,
      "outputs": []
    },
    {
      "cell_type": "code",
      "metadata": {
        "id": "bJnvKuA1FRNA"
      },
      "source": [
        "S1A1_1405= list()\n",
        "S1C4_105 = list()\n",
        "for i in range(S1RGB_imgA1C4_5.shape[0]): \n",
        "     for j in range(S1RGB_imgA1C4_5.shape[1]): \n",
        "                if 1770<i<1880 and 1700<j<1830 :\n",
        "                    S1A1_1405.append(S1RGB_imgA1C4_5[i][j])\n",
        "                if 1770<i<1880 and 2015<j<2145 :\n",
        "                    S1C4_105.append(S1RGB_imgA1C4_5[i][j])"
      ],
      "execution_count": null,
      "outputs": []
    },
    {
      "cell_type": "code",
      "metadata": {
        "id": "ByoMz7V7FRNA"
      },
      "source": [
        "S1A1_1505= list()\n",
        "S1D2_105 = list()\n",
        "for i in range(S1RGB_imgA1D2_5.shape[0]): \n",
        "     for j in range(S1RGB_imgA1D2_5.shape[1]): \n",
        "                if 1770<i<1880 and 1700<j<1830 :\n",
        "                    S1A1_1505.append(S1RGB_imgA1D2_5[i][j])\n",
        "                if 1770<i<1880 and 2015<j<2145 :\n",
        "                    S1D2_105.append(S1RGB_imgA1D2_5[i][j])   "
      ],
      "execution_count": null,
      "outputs": []
    },
    {
      "cell_type": "code",
      "metadata": {
        "id": "tKlbFrptFRNB"
      },
      "source": [
        "S1A1_1605= list()\n",
        "S1D3_105 = list()\n",
        "for i in range(S1RGB_imgA1D3_5.shape[0]): \n",
        "     for j in range(S1RGB_imgA1D3_5.shape[1]): \n",
        "                if 1770<i<1880 and 1700<j<1830 :\n",
        "                    S1A1_1605.append(S1RGB_imgA1D3_5[i][j])\n",
        "                if 1770<i<1880 and 2015<j<2145 :\n",
        "                    S1D3_105.append(S1RGB_imgA1D3_5[i][j])   "
      ],
      "execution_count": null,
      "outputs": []
    },
    {
      "cell_type": "code",
      "metadata": {
        "id": "KNtcE9OGFRNB"
      },
      "source": [
        "S1A1_1705= list()\n",
        "S1D4_105 = list()\n",
        "for i in range(S1RGB_imgA1D4_5.shape[0]): \n",
        "     for j in range(S1RGB_imgA1D4_5.shape[1]): \n",
        "                if 1770<i<1880 and 1700<j<1830 :\n",
        "                    S1A1_1705.append(S1RGB_imgA1D4_5[i][j])\n",
        "                if 1770<i<1880 and 2015<j<2145 :\n",
        "                    S1D4_105.append(S1RGB_imgA1D4_5[i][j])"
      ],
      "execution_count": null,
      "outputs": []
    },
    {
      "cell_type": "markdown",
      "metadata": {
        "id": "iJGNpCxjFWMD"
      },
      "source": [
        "###Img 7"
      ]
    },
    {
      "cell_type": "code",
      "metadata": {
        "id": "154jbocTFWME"
      },
      "source": [
        "S1A1_107= list()\n",
        "S1A1_207= list()\n",
        "for i in range(S1RGB_imgA1A1_7.shape[0]): #ให้ i รันตาม row หรือ shape[0] คือแถว มีทั้งหมด 4032 แถว ของภาพที่ปรับขนาดมาแล้ว\n",
        "     for j in range(S1RGB_imgA1A1_7.shape[1]): #ให้ j รันตาม colum มีทั้งหมด 3024 colum เช่น แถวที่ 1 เข้ามาให้รันครบ 3024colum\n",
        "                if 1770<i<1880 and 1700<j<1830 :\n",
        "                    S1A1_107.append(S1RGB_imgA1A1_7[i][j])\n",
        "                if 1770<i<1880 and 2015<j<2145 :\n",
        "                    S1A1_207.append(S1RGB_imgA1A1_7[i][j])   "
      ],
      "execution_count": null,
      "outputs": []
    },
    {
      "cell_type": "code",
      "metadata": {
        "id": "ga1BaCbOFWME"
      },
      "source": [
        "S1A1_30= list()\n",
        "S1A2_10 = list()\n",
        "for i in range(S1RGB_imgA1A2_.shape[0]): \n",
        "     for j in range(S1RGB_imgA1A2_.shape[1]): \n",
        "                if 1770<i<1880 and 1700<j<1830 :\n",
        "                    S1A1_30.append(S1RGB_imgA1A2_[i][j])\n",
        "                if 1770<i<1880 and 2015<j<2145 :\n",
        "                    S1A2_10.append(S1RGB_imgA1A2_[i][j])   "
      ],
      "execution_count": null,
      "outputs": []
    },
    {
      "cell_type": "code",
      "metadata": {
        "id": "SCiYzN4FFWME"
      },
      "source": [
        "S1A1_407= list()\n",
        "S1A3_107 = list()\n",
        "for i in range(S1RGB_imgA1A3_7.shape[0]): \n",
        "     for j in range(S1RGB_imgA1A3_7.shape[1]): \n",
        "                if 1770<i<1880 and 1700<j<1830 :\n",
        "                    S1A1_407.append(S1RGB_imgA1A3_7[i][j])\n",
        "                if 1770<i<1880 and 2015<j<2145 :\n",
        "                    S1A3_107.append(S1RGB_imgA1A3_7[i][j])   "
      ],
      "execution_count": null,
      "outputs": []
    },
    {
      "cell_type": "code",
      "metadata": {
        "id": "OCHG32uHFWMF"
      },
      "source": [
        "S1A1_507= list()\n",
        "S1A3_5107 = list()\n",
        "for i in range(S1RGB_imgA1A3_57.shape[0]): \n",
        "     for j in range(S1RGB_imgA1A3_57.shape[1]): \n",
        "                if 1770<i<1880 and 1700<j<1830 :\n",
        "                    S1A1_507.append(S1RGB_imgA1A3_57[i][j])\n",
        "                if 1770<i<1880 and 2015<j<2145 :\n",
        "                    S1A3_5107.append(S1RGB_imgA1A3_57[i][j])"
      ],
      "execution_count": null,
      "outputs": []
    },
    {
      "cell_type": "code",
      "metadata": {
        "id": "S4sSDt4nFWMF"
      },
      "source": [
        "S1A1_607= list()\n",
        "S1A4_107 = list()\n",
        "for i in range(S1RGB_imgA1A4_7.shape[0]): \n",
        "     for j in range(S1RGB_imgA1A4_7.shape[1]): \n",
        "                if 1770<i<1880 and 1700<j<1830 :\n",
        "                    S1A1_607.append(S1RGB_imgA1A4_7[i][j])\n",
        "                if 1770<i<1880 and 2015<j<2145 :\n",
        "                    S1A4_107.append(S1RGB_imgA1A4_7[i][j])"
      ],
      "execution_count": null,
      "outputs": []
    },
    {
      "cell_type": "code",
      "metadata": {
        "id": "hpeHgebFFWMG"
      },
      "source": [
        "S1A1_707= list()\n",
        "S1B1_107 = list()\n",
        "for i in range(S1RGB_imgA1B1_7.shape[0]): \n",
        "     for j in range(S1RGB_imgA1B1_7.shape[1]): \n",
        "                if 1770<i<1880 and 1700<j<1830 :\n",
        "                    S1A1_707.append(S1RGB_imgA1B1_7[i][j])\n",
        "                if 1770<i<1880 and 2015<j<2145 :\n",
        "                    S1B1_107.append(S1RGB_imgA1B1_7[i][j])"
      ],
      "execution_count": null,
      "outputs": []
    },
    {
      "cell_type": "code",
      "metadata": {
        "id": "m-mKDQ1iFWMG"
      },
      "source": [
        "S1A1_807= list()\n",
        "S1B2_107 = list()\n",
        "for i in range(S1RGB_imgA1B2_7.shape[0]): \n",
        "     for j in range(S1RGB_imgA1B2_7.shape[1]): \n",
        "                if 1770<i<1880 and 1700<j<1830 :\n",
        "                    S1A1_807.append(S1RGB_imgA1B2_7[i][j])\n",
        "                if 1770<i<1880 and 2015<j<2145 :\n",
        "                    S1B2_107.append(S1RGB_imgA1B2_7[i][j])"
      ],
      "execution_count": null,
      "outputs": []
    },
    {
      "cell_type": "code",
      "metadata": {
        "id": "Fnps7KkSFWMG"
      },
      "source": [
        "S1A1_907= list()\n",
        "S1B3_107 = list()\n",
        "for i in range(S1RGB_imgA1B3_7.shape[0]): \n",
        "     for j in range(S1RGB_imgA1B3_7.shape[1]): \n",
        "                if 1770<i<1880 and 1700<j<1830 :\n",
        "                    S1A1_907.append(S1RGB_imgA1B3_7[i][j])\n",
        "                if 1770<i<1880 and 2015<j<2145 :\n",
        "                    S1B3_107.append(S1RGB_imgA1B3_7[i][j])"
      ],
      "execution_count": null,
      "outputs": []
    },
    {
      "cell_type": "code",
      "metadata": {
        "id": "xaosrHdoFWMH"
      },
      "source": [
        "S1A1_1007= list()\n",
        "S1B4_107 = list()\n",
        "for i in range(S1RGB_imgA1B4_7.shape[0]): \n",
        "     for j in range(S1RGB_imgA1B4_7.shape[1]): \n",
        "                if 1770<i<1880 and 1700<j<1830 :\n",
        "                    S1A1_1007.append(S1RGB_imgA1B4_7[i][j])\n",
        "                if 1770<i<1880 and 2015<j<2145 :\n",
        "                    S1B4_107.append(S1RGB_imgA1B4_7[i][j])"
      ],
      "execution_count": null,
      "outputs": []
    },
    {
      "cell_type": "code",
      "metadata": {
        "id": "y52LppjcFWMH"
      },
      "source": [
        "S1A1_1107= list()\n",
        "S1C1_207 = list()\n",
        "for i in range(S1RGB_imgA1C1_7.shape[0]): \n",
        "     for j in range(S1RGB_imgA1C1_7.shape[1]): \n",
        "                if 1770<i<1880 and 1700<j<1830 :\n",
        "                    S1A1_1107.append(S1RGB_imgA1C1_7[i][j])\n",
        "                if 1770<i<1880 and 2015<j<2145 :\n",
        "                    S1C1_207.append(S1RGB_imgA1C1_7[i][j])   "
      ],
      "execution_count": null,
      "outputs": []
    },
    {
      "cell_type": "code",
      "metadata": {
        "id": "HspoKbruFWMH"
      },
      "source": [
        "S1A1_1207= list()\n",
        "S1C2_107 = list()\n",
        "for i in range(S1RGB_imgA1C2_7.shape[0]): \n",
        "     for j in range(S1RGB_imgA1C2_7.shape[1]): \n",
        "                if 1770<i<1880 and 1700<j<1830 :\n",
        "                    S1A1_1207.append(S1RGB_imgA1C2_7[i][j])\n",
        "                if 1770<i<1880 and 2015<j<2145 :\n",
        "                    S1C2_107.append(S1RGB_imgA1C2_7[i][j])   "
      ],
      "execution_count": null,
      "outputs": []
    },
    {
      "cell_type": "code",
      "metadata": {
        "id": "-Jm5tLtnFWMI"
      },
      "source": [
        "S1A1_1307= list()\n",
        "S1C3_107 = list()\n",
        "for i in range(S1RGB_imgA1C3_7.shape[0]): \n",
        "     for j in range(S1RGB_imgA1C3_7.shape[1]): \n",
        "                if 1770<i<1880 and 1700<j<1830 :\n",
        "                    S1A1_1307.append(S1RGB_imgA1C3_7[i][j])\n",
        "                if 1770<i<1880 and 2015<j<2145 :\n",
        "                    S1C3_107.append(S1RGB_imgA1C3_7[i][j])   "
      ],
      "execution_count": null,
      "outputs": []
    },
    {
      "cell_type": "code",
      "metadata": {
        "id": "DvxoS0gNFWMI"
      },
      "source": [
        "S1A1_1407= list()\n",
        "S1C4_107 = list()\n",
        "for i in range(S1RGB_imgA1C4_7.shape[0]): \n",
        "     for j in range(S1RGB_imgA1C4_7.shape[1]): \n",
        "                if 1770<i<1880 and 1700<j<1830 :\n",
        "                    S1A1_1407.append(S1RGB_imgA1C4_7[i][j])\n",
        "                if 1770<i<1880 and 2015<j<2145 :\n",
        "                    S1C4_107.append(S1RGB_imgA1C4_7[i][j])"
      ],
      "execution_count": null,
      "outputs": []
    },
    {
      "cell_type": "code",
      "metadata": {
        "id": "tPNB7A0XFWMI"
      },
      "source": [
        "S1A1_1507= list()\n",
        "S1D2_107 = list()\n",
        "for i in range(S1RGB_imgA1D2_7.shape[0]): \n",
        "     for j in range(S1RGB_imgA1D2_7.shape[1]): \n",
        "                if 1770<i<1880 and 1700<j<1830 :\n",
        "                    S1A1_1507.append(S1RGB_imgA1D2_7[i][j])\n",
        "                if 1770<i<1880 and 2015<j<2145 :\n",
        "                    S1D2_107.append(S1RGB_imgA1D2_7[i][j])   "
      ],
      "execution_count": null,
      "outputs": []
    },
    {
      "cell_type": "code",
      "metadata": {
        "id": "DqMbGNieFWMJ"
      },
      "source": [
        "S1A1_1607= list()\n",
        "S1D3_107 = list()\n",
        "for i in range(S1RGB_imgA1D3_7.shape[0]): \n",
        "     for j in range(S1RGB_imgA1D3_7.shape[1]): \n",
        "                if 1770<i<1880 and 1700<j<1830 :\n",
        "                    S1A1_1607.append(S1RGB_imgA1D3_7[i][j])\n",
        "                if 1770<i<1880 and 2015<j<2145 :\n",
        "                    S1D3_107.append(S1RGB_imgA1D3_7[i][j])   "
      ],
      "execution_count": null,
      "outputs": []
    },
    {
      "cell_type": "code",
      "metadata": {
        "id": "-SvKzQ-BFWMJ"
      },
      "source": [
        "S1A1_1707= list()\n",
        "S1D4_107 = list()\n",
        "for i in range(S1RGB_imgA1D4_7.shape[0]): \n",
        "     for j in range(S1RGB_imgA1D4_7.shape[1]): \n",
        "                if 1770<i<1880 and 1700<j<1830 :\n",
        "                    S1A1_1707.append(S1RGB_imgA1D4_7[i][j])\n",
        "                if 1770<i<1880 and 2015<j<2145 :\n",
        "                    S1D4_107.append(S1RGB_imgA1D4_7[i][j])"
      ],
      "execution_count": null,
      "outputs": []
    },
    {
      "cell_type": "markdown",
      "metadata": {
        "id": "ILO-wdbZFbT7"
      },
      "source": [
        "###Img 8"
      ]
    },
    {
      "cell_type": "code",
      "metadata": {
        "id": "DuYKRJFmFbT8"
      },
      "source": [
        "S1A1_108= list()\n",
        "S1A1_208= list()\n",
        "for i in range(S1RGB_imgA1A1_8.shape[0]): #ให้ i รันตาม row หรือ shape[0] คือแถว มีทั้งหมด 4032 แถว ของภาพที่ปรับขนาดมาแล้ว\n",
        "     for j in range(S1RGB_imgA1A1_8.shape[1]): #ให้ j รันตาม colum มีทั้งหมด 3024 colum เช่น แถวที่ 1 เข้ามาให้รันครบ 3024colum\n",
        "                if 1770<i<1880 and 1700<j<1830 :\n",
        "                    S1A1_108.append(S1RGB_imgA1A1_8[i][j])\n",
        "                if 1770<i<1880 and 2015<j<2145 :\n",
        "                    S1A1_208.append(S1RGB_imgA1A1_8[i][j])   "
      ],
      "execution_count": null,
      "outputs": []
    },
    {
      "cell_type": "code",
      "metadata": {
        "id": "GK_bg1x2FbT8"
      },
      "source": [
        "S1A1_308= list()\n",
        "S1A2_108 = list()\n",
        "for i in range(S1RGB_imgA1A2_8.shape[0]): \n",
        "     for j in range(S1RGB_imgA1A2_8.shape[1]): \n",
        "                if 1770<i<1880 and 1700<j<1830 :\n",
        "                    S1A1_308.append(S1RGB_imgA1A2_8[i][j])\n",
        "                if 1770<i<1880 and 2015<j<2145 :\n",
        "                    S1A2_108.append(S1RGB_imgA1A2_8[i][j])   "
      ],
      "execution_count": null,
      "outputs": []
    },
    {
      "cell_type": "code",
      "metadata": {
        "id": "xwHiGPttFbT9"
      },
      "source": [
        "S1A1_408= list()\n",
        "S1A3_108 = list()\n",
        "for i in range(S1RGB_imgA1A3_8.shape[0]): \n",
        "     for j in range(S1RGB_imgA1A3_8.shape[1]): \n",
        "                if 1770<i<1880 and 1700<j<1830 :\n",
        "                    S1A1_408.append(S1RGB_imgA1A3_8[i][j])\n",
        "                if 1770<i<1880 and 2015<j<2145 :\n",
        "                    S1A3_108.append(S1RGB_imgA1A3_8[i][j])   "
      ],
      "execution_count": null,
      "outputs": []
    },
    {
      "cell_type": "code",
      "metadata": {
        "id": "shqGZj0VFbT9"
      },
      "source": [
        "S1A1_508= list()\n",
        "S1A3_5108 = list()\n",
        "for i in range(S1RGB_imgA1A3_58.shape[0]): \n",
        "     for j in range(S1RGB_imgA1A3_58.shape[1]): \n",
        "                if 1770<i<1880 and 1700<j<1830 :\n",
        "                    S1A1_508.append(S1RGB_imgA1A3_58[i][j])\n",
        "                if 1770<i<1880 and 2015<j<2145 :\n",
        "                    S1A3_5108.append(S1RGB_imgA1A3_58[i][j])"
      ],
      "execution_count": null,
      "outputs": []
    },
    {
      "cell_type": "code",
      "metadata": {
        "id": "ZVNgWOkOFbT9"
      },
      "source": [
        "S1A1_608= list()\n",
        "S1A4_108 = list()\n",
        "for i in range(S1RGB_imgA1A4_8.shape[0]): \n",
        "     for j in range(S1RGB_imgA1A4_8.shape[1]): \n",
        "                if 1770<i<1880 and 1700<j<1830 :\n",
        "                    S1A1_608.append(S1RGB_imgA1A4_8[i][j])\n",
        "                if 1770<i<1880 and 2015<j<2145 :\n",
        "                    S1A4_108.append(S1RGB_imgA1A4_8[i][j])"
      ],
      "execution_count": null,
      "outputs": []
    },
    {
      "cell_type": "code",
      "metadata": {
        "id": "gmb4U80IFbT-"
      },
      "source": [
        "S1A1_708= list()\n",
        "S1B1_108 = list()\n",
        "for i in range(S1RGB_imgA1B1_8.shape[0]): \n",
        "     for j in range(S1RGB_imgA1B1_8.shape[1]): \n",
        "                if 1770<i<1880 and 1700<j<1830 :\n",
        "                    S1A1_708.append(S1RGB_imgA1B1_8[i][j])\n",
        "                if 1770<i<1880 and 2015<j<2145 :\n",
        "                    S1B1_108.append(S1RGB_imgA1B1_8[i][j])"
      ],
      "execution_count": null,
      "outputs": []
    },
    {
      "cell_type": "code",
      "metadata": {
        "id": "ltt8a0O2FbT-"
      },
      "source": [
        "S1A1_808= list()\n",
        "S1B2_108 = list()\n",
        "for i in range(S1RGB_imgA1B2_8.shape[0]): \n",
        "     for j in range(S1RGB_imgA1B2_8.shape[1]): \n",
        "                if 1770<i<1880 and 1700<j<1830 :\n",
        "                    S1A1_80.append(S1RGB_imgA1B2_8[i][j])\n",
        "                if 1770<i<1880 and 2015<j<2145 :\n",
        "                    S1B2_10.append(S1RGB_imgA1B2_8[i][j])"
      ],
      "execution_count": null,
      "outputs": []
    },
    {
      "cell_type": "code",
      "metadata": {
        "id": "BCWMCm3-FbT_"
      },
      "source": [
        "S1A1_90= list()\n",
        "S1B3_10 = list()\n",
        "for i in range(S1RGB_imgA1B3_.shape[0]): \n",
        "     for j in range(S1RGB_imgA1B3_.shape[1]): \n",
        "                if 1770<i<1880 and 1700<j<1830 :\n",
        "                    S1A1_908.append(S1RGB_imgA1B3_[i][j])\n",
        "                if 1770<i<1880 and 2015<j<2145 :\n",
        "                    S1B3_108.append(S1RGB_imgA1B3_[i][j])"
      ],
      "execution_count": null,
      "outputs": []
    },
    {
      "cell_type": "code",
      "metadata": {
        "id": "yWm30rjAFbT_"
      },
      "source": [
        "S1A1_1008= list()\n",
        "S1B4_108 = list()\n",
        "for i in range(S1RGB_imgA1B4_8.shape[0]): \n",
        "     for j in range(S1RGB_imgA1B4_8.shape[1]): \n",
        "                if 1770<i<1880 and 1700<j<1830 :\n",
        "                    S1A1_1008.append(S1RGB_8imgA1B4_[i][j])\n",
        "                if 1770<i<1880 and 2015<j<2145 :\n",
        "                    S1B4_108.append(S1RGB_imgA1B4_8[i][j])"
      ],
      "execution_count": null,
      "outputs": []
    },
    {
      "cell_type": "code",
      "metadata": {
        "id": "-wA1VZf8FbT_"
      },
      "source": [
        "S1A1_1108= list()\n",
        "S1C1_208 = list()\n",
        "for i in range(S1RGB_imgA1C1_8.shape[0]): \n",
        "     for j in range(S1RGB_imgA1C1_8.shape[1]): \n",
        "                if 1770<i<1880 and 1700<j<1830 :\n",
        "                    S1A1_1108.append(S1RGB_imgA1C1_8[i][j])\n",
        "                if 1770<i<1880 and 2015<j<2145 :\n",
        "                    S1C1_208.append(S1RGB_imgA1C1_8[i][j])   "
      ],
      "execution_count": null,
      "outputs": []
    },
    {
      "cell_type": "code",
      "metadata": {
        "id": "l1dAFzf-FbT_"
      },
      "source": [
        "S1A1_1208= list()\n",
        "S1C2_108 = list()\n",
        "for i in range(S1RGB_imgA1C2_8.shape[0]): \n",
        "     for j in range(S1RGB_imgA1C2_8.shape[1]): \n",
        "                if 1770<i<1880 and 1700<j<1830 :\n",
        "                    S1A1_1208.append(S1RGB_imgA1C2_8[i][j])\n",
        "                if 1770<i<1880 and 2015<j<2145 :\n",
        "                    S1C2_108.append(S1RGB_imgA1C2_8[i][j])   "
      ],
      "execution_count": null,
      "outputs": []
    },
    {
      "cell_type": "code",
      "metadata": {
        "id": "JWf7lTIyFbUA"
      },
      "source": [
        "S1A1_1308= list()\n",
        "S1C3_108 = list()\n",
        "for i in range(S1RGB_imgA1C3_8.shape[0]): \n",
        "     for j in range(S1RGB_imgA1C3_8.shape[1]): \n",
        "                if 1770<i<1880 and 1700<j<1830 :\n",
        "                    S1A1_1308.append(S1RGB_imgA1C3_8[i][j])\n",
        "                if 1770<i<1880 and 2015<j<2145 :\n",
        "                    S1C3_108.append(S1RGB_imgA1C3_8[i][j])   "
      ],
      "execution_count": null,
      "outputs": []
    },
    {
      "cell_type": "code",
      "metadata": {
        "id": "G8_MprU1FbUA"
      },
      "source": [
        "S1A1_1408= list()\n",
        "S1C4_108 = list()\n",
        "for i in range(S1RGB_imgA1C4_8.shape[0]): \n",
        "     for j in range(S1RGB_imgA1C4_8.shape[1]): \n",
        "                if 1770<i<1880 and 1700<j<1830 :\n",
        "                    S1A1_1408.append(S1RGB_imgA1C4_8[i][j])\n",
        "                if 1770<i<1880 and 2015<j<2145 :\n",
        "                    S1C4_108.append(S1RGB_imgA1C4_8[i][j])"
      ],
      "execution_count": null,
      "outputs": []
    },
    {
      "cell_type": "code",
      "metadata": {
        "id": "X3ZYKmdfFbUA"
      },
      "source": [
        "S1A1_1508= list()\n",
        "S1D2_108 = list()\n",
        "for i in range(S1RGB_imgA1D2_8.shape[0]): \n",
        "     for j in range(S1RGB_imgA1D2_8.shape[1]): \n",
        "                if 1770<i<1880 and 1700<j<1830 :\n",
        "                    S1A1_1508.append(S1RGB_imgA1D2_8[i][j])\n",
        "                if 1770<i<1880 and 2015<j<2145 :\n",
        "                    S1D2_108.append(S1RGB_imgA1D2_8[i][j])   "
      ],
      "execution_count": null,
      "outputs": []
    },
    {
      "cell_type": "code",
      "metadata": {
        "id": "7fKvVqjmFbUA"
      },
      "source": [
        "S1A1_1608= list()\n",
        "S1D3_108 = list()\n",
        "for i in range(S1RGB_imgA1D3_8.shape[0]): \n",
        "     for j in range(S1RGB_imgA1D3_8.shape[1]): \n",
        "                if 1770<i<1880 and 1700<j<1830 :\n",
        "                    S1A1_1608.append(S1RGB_imgA1D3_8[i][j])\n",
        "                if 1770<i<1880 and 2015<j<2145 :\n",
        "                    S1D3_108.append(S1RGB_imgA1D3_8[i][j])   "
      ],
      "execution_count": null,
      "outputs": []
    },
    {
      "cell_type": "code",
      "metadata": {
        "id": "nc36adkMFbUA"
      },
      "source": [
        "S1A1_1708= list()\n",
        "S1D4_108 = list()\n",
        "for i in range(S1RGB_imgA1D4_8.shape[0]): \n",
        "     for j in range(S1RGB_imgA1D4_8.shape[1]): \n",
        "                if 1770<i<1880 and 1700<j<1830 :\n",
        "                    S1A1_1708.append(S1RGB_imgA1D4_8[i][j])\n",
        "                if 1770<i<1880 and 2015<j<2145 :\n",
        "                    S1D4_108.append(S1RGB_imgA1D4_8[i][j])"
      ],
      "execution_count": null,
      "outputs": []
    },
    {
      "cell_type": "markdown",
      "metadata": {
        "id": "1H78G6gRFhNn"
      },
      "source": [
        "###Img 9"
      ]
    },
    {
      "cell_type": "code",
      "metadata": {
        "id": "jKQnYU0SFhNo"
      },
      "source": [
        "S1A1_109= list()\n",
        "S1A1_209= list()\n",
        "for i in range(S1RGB_imgA1A1_9.shape[0]): #ให้ i รันตาม row หรือ shape[0] คือแถว มีทั้งหมด 4032 แถว ของภาพที่ปรับขนาดมาแล้ว\n",
        "     for j in range(S1RGB_imgA1A1_9.shape[1]): #ให้ j รันตาม colum มีทั้งหมด 3024 colum เช่น แถวที่ 1 เข้ามาให้รันครบ 3024colum\n",
        "                if 1770<i<1880 and 1700<j<1830 :\n",
        "                    S1A1_109.append(S1RGB_imgA1A1_9[i][j])\n",
        "                if 1770<i<1880 and 2015<j<2145 :\n",
        "                    S1A1_209.append(S1RGB_imgA1A1_9[i][j])   "
      ],
      "execution_count": null,
      "outputs": []
    },
    {
      "cell_type": "code",
      "metadata": {
        "id": "YypOZIjiFhNp"
      },
      "source": [
        "S1A1_309= list()\n",
        "S1A2_109 = list()\n",
        "for i in range(S1RGB_imgA1A2_9.shape[0]): \n",
        "     for j in range(S1RGB_imgA1A2_9.shape[1]): \n",
        "                if 1770<i<1880 and 1700<j<1830 :\n",
        "                    S1A1_309.append(S1RGB_imgA1A2_9[i][j])\n",
        "                if 1770<i<1880 and 2015<j<2145 :\n",
        "                    S1A2_109.append(S1RGB_imgA1A2_9[i][j])   "
      ],
      "execution_count": null,
      "outputs": []
    },
    {
      "cell_type": "code",
      "metadata": {
        "id": "NwDxhep9FhNp"
      },
      "source": [
        "S1A1_409= list()\n",
        "S1A3_109 = list()\n",
        "for i in range(S1RGB_imgA1A3_9.shape[0]): \n",
        "     for j in range(S1RGB_imgA1A3_9.shape[1]): \n",
        "                if 1770<i<1880 and 1700<j<1830 :\n",
        "                    S1A1_409.append(S1RGB_imgA1A3_9[i][j])\n",
        "                if 1770<i<1880 and 2015<j<2145 :\n",
        "                    S1A3_109.append(S1RGB_imgA1A3_9[i][j])   "
      ],
      "execution_count": null,
      "outputs": []
    },
    {
      "cell_type": "code",
      "metadata": {
        "id": "2zuu85rtFhNp"
      },
      "source": [
        "S1A1_509= list()\n",
        "S1A3_5109 = list()\n",
        "for i in range(S1RGB_imgA1A3_59.shape[0]): \n",
        "     for j in range(S1RGB_imgA1A3_59.shape[1]): \n",
        "                if 1770<i<1880 and 1700<j<1830 :\n",
        "                    S1A1_509.append(S1RGB_imgA1A3_59[i][j])\n",
        "                if 1770<i<1880 and 2015<j<2145 :\n",
        "                    S1A3_5109.append(S1RGB_imgA1A3_59[i][j])"
      ],
      "execution_count": null,
      "outputs": []
    },
    {
      "cell_type": "code",
      "metadata": {
        "id": "6-5F_EuFFhNq"
      },
      "source": [
        "S1A1_609= list()\n",
        "S1A4_109 = list()\n",
        "for i in range(S1RGB_imgA1A4_9.shape[0]): \n",
        "     for j in range(S1RGB_imgA1A4_9.shape[1]): \n",
        "                if 1770<i<1880 and 1700<j<1830 :\n",
        "                    S1A1_609.append(S1RGB_imgA1A4_9[i][j])\n",
        "                if 1770<i<1880 and 2015<j<2145 :\n",
        "                    S1A4_109.append(S1RGB_imgA1A4_9[i][j])"
      ],
      "execution_count": null,
      "outputs": []
    },
    {
      "cell_type": "code",
      "metadata": {
        "id": "kmS7X8VWFhNq"
      },
      "source": [
        "S1A1_709= list() \n",
        "S1B1_109 = list()\n",
        "for i in range(S1RGB_imgA1B1_9.shape[0]): \n",
        "     for j in range(S1RGB_imgA1B1_9.shape[1]): \n",
        "                if 1770<i<1880 and 1700<j<1830 :\n",
        "                    S1A1_709.append(S1RGB_imgA1B1_9[i][j])\n",
        "                if 1770<i<1880 and 2015<j<2145 :\n",
        "                    S1B1_109.append(S1RGB_imgA1B1_9[i][j])"
      ],
      "execution_count": null,
      "outputs": []
    },
    {
      "cell_type": "code",
      "metadata": {
        "id": "2IwWbtYPFhNq"
      },
      "source": [
        "S1A1_809= list()\n",
        "S1B2_109 = list()\n",
        "for i in range(S1RGB_imgA1B2_9.shape[0]): \n",
        "     for j in range(S1RGB_imgA1B2_9.shape[1]): \n",
        "                if 1770<i<1880 and 1700<j<1830 :\n",
        "                    S1A1_809.append(S1RGB_imgA1B2_9[i][j])\n",
        "                if 1770<i<1880 and 2015<j<2145 :\n",
        "                    S1B2_109.append(S1RGB_imgA1B2_9[i][j])"
      ],
      "execution_count": null,
      "outputs": []
    },
    {
      "cell_type": "code",
      "metadata": {
        "id": "T2yeSY7XFhNr"
      },
      "source": [
        "S1A1_909= list()\n",
        "S1B3_109 = list()\n",
        "for i in range(S1RGB_imgA1B3_9.shape[0]): \n",
        "     for j in range(S1RGB_imgA1B3_9.shape[1]): \n",
        "                if 1770<i<1880 and 1700<j<1830 :\n",
        "                    S1A1_909.append(S1RGB_imgA1B3_9[i][j])\n",
        "                if 1770<i<1880 and 2015<j<2145 :\n",
        "                    S1B3_109.append(S1RGB_imgA1B3_9[i][j])"
      ],
      "execution_count": null,
      "outputs": []
    },
    {
      "cell_type": "code",
      "metadata": {
        "id": "X3lcSwqYFhNr"
      },
      "source": [
        "S1A1_1009= list()\n",
        "S1B4_109 = list()\n",
        "for i in range(S1RGB_imgA1B4_9.shape[0]): \n",
        "     for j in range(S1RGB_imgA1B4_9.shape[1]): \n",
        "                if 1770<i<1880 and 1700<j<1830 :\n",
        "                    S1A1_1009.append(S1RGB_imgA1B4_9[i][j])\n",
        "                if 1770<i<1880 and 2015<j<2145 :\n",
        "                    S1B4_109.append(S1RGB_imgA1B4_9[i][j])"
      ],
      "execution_count": null,
      "outputs": []
    },
    {
      "cell_type": "code",
      "metadata": {
        "id": "A4OH_uIVFhNr"
      },
      "source": [
        "S1A1_1109= list()\n",
        "S1C1_209 = list()\n",
        "for i in range(S1RGB_imgA1C1_9.shape[0]): \n",
        "     for j in range(S1RGB_imgA1C1_9.shape[1]): \n",
        "                if 1770<i<1880 and 1700<j<1830 :\n",
        "                    S1A1_1109.append(S1RGB_imgA1C1_9[i][j])\n",
        "                if 1770<i<1880 and 2015<j<2145 :\n",
        "                    S1C1_209.append(S1RGB_imgA1C1_9[i][j])   "
      ],
      "execution_count": null,
      "outputs": []
    },
    {
      "cell_type": "code",
      "metadata": {
        "id": "HbONSZv_FhNr"
      },
      "source": [
        "S1A1_1209= list()\n",
        "S1C2_109 = list()\n",
        "for i in range(S1RGB_imgA1C2_9.shape[0]): \n",
        "     for j in range(S1RGB_imgA1C2_9.shape[1]): \n",
        "                if 1770<i<1880 and 1700<j<1830 :\n",
        "                    S1A1_1209.append(S1RGB_imgA1C2_9[i][j])\n",
        "                if 1770<i<1880 and 2015<j<2145 :\n",
        "                    S1C2_109.append(S1RGB_imgA1C2_9[i][j])   "
      ],
      "execution_count": null,
      "outputs": []
    },
    {
      "cell_type": "code",
      "metadata": {
        "id": "qUpHDAzgFhNs"
      },
      "source": [
        "S1A1_1309= list()\n",
        "S1C3_109 = list()\n",
        "for i in range(S1RGB_imgA1C3_9.shape[0]): \n",
        "     for j in range(S1RGB_imgA1C3_9.shape[1]): \n",
        "                if 1770<i<1880 and 1700<j<1830 :\n",
        "                    S1A1_1309.append(S1RGB_imgA1C3_9[i][j])\n",
        "                if 1770<i<1880 and 2015<j<2145 :\n",
        "                    S1C3_109.append(S1RGB_imgA1C3_9[i][j])   "
      ],
      "execution_count": null,
      "outputs": []
    },
    {
      "cell_type": "code",
      "metadata": {
        "id": "kamHwa7RFhNs"
      },
      "source": [
        "S1A1_1409= list()\n",
        "S1C4_109 = list()\n",
        "for i in range(S1RGB_imgA1C4_9.shape[0]): \n",
        "     for j in range(S1RGB_imgA1C4_9.shape[1]): \n",
        "                if 1770<i<1880 and 1700<j<1830 :\n",
        "                    S1A1_1409.append(S1RGB_imgA1C4_9[i][j])\n",
        "                if 1770<i<1880 and 2015<j<2145 :\n",
        "                    S1C4_109.append(S1RGB_imgA1C4_9[i][j])"
      ],
      "execution_count": null,
      "outputs": []
    },
    {
      "cell_type": "code",
      "metadata": {
        "id": "sO1XFK0WFhNs"
      },
      "source": [
        "S1A1_1509= list()\n",
        "S1D2_109 = list()\n",
        "for i in range(S1RGB_imgA1D2_9.shape[0]): \n",
        "     for j in range(S1RGB_imgA1D2_9.shape[1]): \n",
        "                if 1770<i<1880 and 1700<j<1830 :\n",
        "                    S1A1_1509.append(S1RGB_imgA1D2_9[i][j])\n",
        "                if 1770<i<1880 and 2015<j<2145 :\n",
        "                    S1D2_109.append(S1RGB_imgA1D2_9[i][j])   "
      ],
      "execution_count": null,
      "outputs": []
    },
    {
      "cell_type": "code",
      "metadata": {
        "id": "djSOGpwOFhNs"
      },
      "source": [
        "S1A1_1609= list()\n",
        "S1D3_109 = list()\n",
        "for i in range(S1RGB_imgA1D3_9.shape[0]): \n",
        "     for j in range(S1RGB_imgA1D3_9.shape[1]): \n",
        "                if 1770<i<1880 and 1700<j<1830 :\n",
        "                    S1A1_1609.append(S1RGB_imgA1D3_9[i][j])\n",
        "                if 1770<i<1880 and 2015<j<2145 :\n",
        "                    S1D3_109.append(S1RGB_imgA1D3_9[i][j])   "
      ],
      "execution_count": null,
      "outputs": []
    },
    {
      "cell_type": "code",
      "metadata": {
        "id": "2Dk1pL_jFhNs"
      },
      "source": [
        "S1A1_1709= list()\n",
        "S1D4_109 = list()\n",
        "for i in range(S1RGB_imgA1D4_9.shape[0]): \n",
        "     for j in range(S1RGB_imgA1D4_9.shape[1]): \n",
        "                if 1770<i<1880 and 1700<j<1830 :\n",
        "                    S1A1_1709.append(S1RGB_imgA1D4_9[i][j])\n",
        "                if 1770<i<1880 and 2015<j<2145 :\n",
        "                    S1D4_109.append(S1RGB_imgA1D4_9[i][j])"
      ],
      "execution_count": null,
      "outputs": []
    },
    {
      "cell_type": "markdown",
      "metadata": {
        "id": "sll65IwuFmai"
      },
      "source": [
        "###Img 10"
      ]
    },
    {
      "cell_type": "code",
      "metadata": {
        "id": "oaPE0pgxFmaj"
      },
      "source": [
        "S1A1_110= list()\n",
        "S1A1_210= list()\n",
        "for i in range(S1RGB_imgA1A1_10.shape[0]): #ให้ i รันตาม row หรือ shape[0] คือแถว มีทั้งหมด 4032 แถว ของภาพที่ปรับขนาดมาแล้ว\n",
        "     for j in range(S1RGB_imgA1A1_10.shape[1]): #ให้ j รันตาม colum มีทั้งหมด 3024 colum เช่น แถวที่ 1 เข้ามาให้รันครบ 3024colum\n",
        "                if 1770<i<1880 and 1700<j<1830 :\n",
        "                    S1A1_110.append(S1RGB_imgA1A1_10[i][j])\n",
        "                if 1770<i<1880 and 2015<j<2145 :\n",
        "                    S1A1_210.append(S1RGB_imgA1A1_10[i][j])   "
      ],
      "execution_count": null,
      "outputs": []
    },
    {
      "cell_type": "code",
      "metadata": {
        "id": "aRNDiFu0Fmaj"
      },
      "source": [
        "S1A1_310= list()\n",
        "S1A2_110 = list()\n",
        "for i in range(S1RGB_imgA1A2_10.shape[0]): \n",
        "     for j in range(S1RGB_imgA1A2_10.shape[1]): \n",
        "                if 1770<i<1880 and 1700<j<1830 :\n",
        "                    S1A1_310.append(S1RGB_imgA1A2_10[i][j])\n",
        "                if 1770<i<1880 and 2015<j<2145 :\n",
        "                    S1A2_110.append(S1RGB_imgA1A2_10[i][j])   "
      ],
      "execution_count": null,
      "outputs": []
    },
    {
      "cell_type": "code",
      "metadata": {
        "id": "04ZvVKnpFmak"
      },
      "source": [
        "S1A1_410= list()\n",
        "S1A3_110 = list()\n",
        "for i in range(S1RGB_imgA1A3_10.shape[0]): \n",
        "     for j in range(S1RGB_imgA1A3_10.shape[1]): \n",
        "                if 1770<i<1880 and 1700<j<1830 :\n",
        "                    S1A1_410.append(S1RGB_imgA1A3_10[i][j])\n",
        "                if 1770<i<1880 and 2015<j<2145 :\n",
        "                    S1A3_110.append(S1RGB_imgA1A3_10[i][j])   "
      ],
      "execution_count": null,
      "outputs": []
    },
    {
      "cell_type": "code",
      "metadata": {
        "id": "elm03eQHFmak"
      },
      "source": [
        "S1A1_510= list()\n",
        "S1A3_510 = list()\n",
        "for i in range(S1RGB_imgA1A3_510.shape[0]): \n",
        "     for j in range(S1RGB_imgA1A3_510.shape[1]): \n",
        "                if 1770<i<1880 and 1700<j<1830 :\n",
        "                    S1A1_510.append(S1RGB_imgA1A3_510[i][j])\n",
        "                if 1770<i<1880 and 2015<j<2145 :\n",
        "                    S1A3_510.append(S1RGB_imgA1A3_510[i][j])"
      ],
      "execution_count": null,
      "outputs": []
    },
    {
      "cell_type": "code",
      "metadata": {
        "id": "uwSjSD8fFmak"
      },
      "source": [
        "S1A1_610= list()\n",
        "S1A4_110 = list()\n",
        "for i in range(S1RGB_imgA1A4_10.shape[0]): \n",
        "     for j in range(S1RGB_imgA1A4_10.shape[1]): \n",
        "                if 1770<i<1880 and 1700<j<1830 :\n",
        "                    S1A1_610.append(S1RGB_imgA1A4_10[i][j])\n",
        "                if 1770<i<1880 and 2015<j<2145 :\n",
        "                    S1A4_110.append(S1RGB_imgA1A4_10[i][j])"
      ],
      "execution_count": null,
      "outputs": []
    },
    {
      "cell_type": "code",
      "metadata": {
        "id": "tnVaRtFCFmal"
      },
      "source": [
        "S1A1_710= list()\n",
        "S1B1_110 = list()\n",
        "for i in range(S1RGB_imgA1B1_10.shape[0]): \n",
        "     for j in range(S1RGB_imgA1B1_10.shape[1]): \n",
        "                if 1770<i<1880 and 1700<j<1830 :\n",
        "                    S1A1_710.append(S1RGB_imgA1B1_10[i][j])\n",
        "                if 1770<i<1880 and 2015<j<2145 :\n",
        "                    S1B1_110.append(S1RGB_imgA1B1_10[i][j])"
      ],
      "execution_count": null,
      "outputs": []
    },
    {
      "cell_type": "code",
      "metadata": {
        "id": "LcbLQIZ3Fmal"
      },
      "source": [
        "S1A1_810= list()\n",
        "S1B2_110 = list()\n",
        "for i in range(S1RGB_imgA1B2_10.shape[0]): \n",
        "     for j in range(S1RGB_imgA1B2_10.shape[1]): \n",
        "                if 1770<i<1880 and 1700<j<1830 :\n",
        "                    S1A1_810.append(S1RGB_imgA1B2_10[i][j])\n",
        "                if 1770<i<1880 and 2015<j<2145 :\n",
        "                    S1B2_110.append(S1RGB_imgA1B2_10[i][j])"
      ],
      "execution_count": null,
      "outputs": []
    },
    {
      "cell_type": "code",
      "metadata": {
        "id": "Fo0TmbaMFmal"
      },
      "source": [
        "S1A1_910= list()\n",
        "S1B3_110 = list()\n",
        "for i in range(S1RGB_imgA1B3_10.shape[0]): \n",
        "     for j in range(S1RGB_imgA1B3_10.shape[1]): \n",
        "                if 1770<i<1880 and 1700<j<1830 :\n",
        "                    S1A1_910.append(S1RGB_imgA1B3_10[i][j])\n",
        "                if 1770<i<1880 and 2015<j<2145 :\n",
        "                    S1B3_110.append(S1RGB_imgA1B3_10[i][j])"
      ],
      "execution_count": null,
      "outputs": []
    },
    {
      "cell_type": "code",
      "metadata": {
        "id": "puHSH1iUFmam"
      },
      "source": [
        "S1A1_1010= list()\n",
        "S1B4_110 = list()\n",
        "for i in range(S1RGB_imgA1B4_10.shape[0]): \n",
        "     for j in range(S1RGB_imgA1B4_10.shape[1]): \n",
        "                if 1770<i<1880 and 1700<j<1830 :\n",
        "                    S1A1_1010.append(S1RGB_imgA1B4_10[i][j])\n",
        "                if 1770<i<1880 and 2015<j<2145 :\n",
        "                    S1B4_110.append(S1RGB_imgA1B4_10[i][j])"
      ],
      "execution_count": null,
      "outputs": []
    },
    {
      "cell_type": "code",
      "metadata": {
        "id": "rdXr9xRtFmam"
      },
      "source": [
        "S1A1_1110= list()\n",
        "S1C1_210 = list()\n",
        "for i in range(S1RGB_imgA1C1_10.shape[0]): \n",
        "     for j in range(S1RGB_imgA1C1_10.shape[1]): \n",
        "                if 1770<i<1880 and 1700<j<1830 :\n",
        "                    S1A1_1110.append(S1RGB_imgA1C1_10[i][j])\n",
        "                if 1770<i<1880 and 2015<j<2145 :\n",
        "                    S1C1_210.append(S1RGB_imgA1C1_10[i][j])   "
      ],
      "execution_count": null,
      "outputs": []
    },
    {
      "cell_type": "code",
      "metadata": {
        "id": "Prv6R9QFFmam"
      },
      "source": [
        "S1A1_1210= list()\n",
        "S1C2_110 = list()\n",
        "for i in range(S1RGB_imgA1C2_10.shape[0]): \n",
        "     for j in range(S1RGB_imgA1C2_10.shape[1]): \n",
        "                if 1770<i<1880 and 1700<j<1830 :\n",
        "                    S1A1_1210.append(S1RGB_imgA1C2_10[i][j])\n",
        "                if 1770<i<1880 and 2015<j<2145 :\n",
        "                    S1C2_110.append(S1RGB_imgA1C2_10[i][j])   "
      ],
      "execution_count": null,
      "outputs": []
    },
    {
      "cell_type": "code",
      "metadata": {
        "id": "82FEFe_YFman"
      },
      "source": [
        "S1A1_1310= list()\n",
        "S1C3_110 = list()\n",
        "for i in range(S1RGB_imgA1C3_10.shape[0]): \n",
        "     for j in range(S1RGB_imgA1C3_10.shape[1]): \n",
        "                if 1770<i<1880 and 1700<j<1830 :\n",
        "                    S1A1_1310.append(S1RGB_imgA1C3_10[i][j])\n",
        "                if 1770<i<1880 and 2015<j<2145 :\n",
        "                    S1C3_110.append(S1RGB_imgA1C3_10[i][j])   "
      ],
      "execution_count": null,
      "outputs": []
    },
    {
      "cell_type": "code",
      "metadata": {
        "id": "zjaXFCDZFman"
      },
      "source": [
        "S1A1_1410= list()\n",
        "S1C4_110 = list()\n",
        "for i in range(S1RGB_imgA1C4_10.shape[0]): \n",
        "     for j in range(S1RGB_imgA1C4_10.shape[1]): \n",
        "                if 1770<i<1880 and 1700<j<1830 :\n",
        "                    S1A1_1410.append(S1RGB_imgA1C4_10[i][j])\n",
        "                if 1770<i<1880 and 2015<j<2145 :\n",
        "                    S1C4_110.append(S1RGB_imgA1C4_10[i][j])"
      ],
      "execution_count": null,
      "outputs": []
    },
    {
      "cell_type": "code",
      "metadata": {
        "id": "--LKVYQcFman"
      },
      "source": [
        "S1A1_1510= list()\n",
        "S1D2_110 = list()\n",
        "for i in range(S1RGB_imgA1D2_10.shape[0]): \n",
        "     for j in range(S1RGB_imgA1D2_10.shape[1]): \n",
        "                if 1770<i<1880 and 1700<j<1830 :\n",
        "                    S1A1_1510.append(S1RGB_imgA1D2_10[i][j])\n",
        "                if 1770<i<1880 and 2015<j<2145 :\n",
        "                    S1D2_110.append(S1RGB_imgA1D210_[i][j])   "
      ],
      "execution_count": null,
      "outputs": []
    },
    {
      "cell_type": "code",
      "metadata": {
        "id": "UTFnnAcrFman"
      },
      "source": [
        "S1A1_1610= list()\n",
        "S1D3_110 = list()\n",
        "for i in range(S1RGB_imgA1D3_10.shape[0]): \n",
        "     for j in range(S1RGB_imgA1D3_10.shape[1]): \n",
        "                if 1770<i<1880 and 1700<j<1830 :\n",
        "                    S1A1_1610.append(S1RGB_imgA1D3_10[i][j])\n",
        "                if 1770<i<1880 and 2015<j<2145 :\n",
        "                    S1D3_110.append(S1RGB_imgA1D3_10[i][j])   "
      ],
      "execution_count": null,
      "outputs": []
    },
    {
      "cell_type": "code",
      "metadata": {
        "id": "QWCGSrcOFmao"
      },
      "source": [
        "S1A1_1710= list()\n",
        "S1D4_110 = list()\n",
        "for i in range(S1RGB_imgA1D4_10.shape[0]): \n",
        "     for j in range(S1RGB_imgA1D4_10.shape[1]): \n",
        "                if 1770<i<1880 and 1700<j<1830 :\n",
        "                    S1A1_1710.append(S1RGB_imgA1D4_10[i][j])\n",
        "                if 1770<i<1880 and 2015<j<2145 :\n",
        "                    S1D4_110.append(S1RGB_imgA1D4_10[i][j])"
      ],
      "execution_count": null,
      "outputs": []
    },
    {
      "cell_type": "markdown",
      "metadata": {
        "id": "lSsfyHv-rhBP"
      },
      "source": [
        "###HSV"
      ]
    },
    {
      "cell_type": "code",
      "metadata": {
        "id": "_lJDvsPVri6j"
      },
      "source": [
        "S1A1_1= list()\n",
        "S1A1_2 = list()\n",
        "for i in range(S1HSV_imgA1A1_1.shape[0]): #ให้ i รันตาม row หรือ shape[0] คือแถว มีทั้งหมด 4032 แถว ของภาพที่ปรับขนาดมาแล้ว\n",
        "     for j in range(S1HSV_imgA1A1_1.shape[1]): #ให้ j รันตาม colum มีทั้งหมด 3024 colum เช่น แถวที่ 1 เข้ามาให้รันครบ 3024colum\n",
        "                if 1770<i<1880 and 1700<j<1830 :\n",
        "                    S1A1_1.append(S1HSV_imgA1A1_1[i][j])\n",
        "                if 1770<i<1880 and 2015<j<2145 :\n",
        "                    S1A1_2.append(S1HSV_imgA1A1_1[i][j])"
      ],
      "execution_count": null,
      "outputs": []
    },
    {
      "cell_type": "code",
      "metadata": {
        "id": "xg5rxqssri8r"
      },
      "source": [
        "S1A1_3= list()\n",
        "S1A2_1 = list()\n",
        "for i in range(S1HSV_imgA1A2_1.shape[0]): \n",
        "     for j in range(S1HSV_imgA1A2_1.shape[1]): \n",
        "                if 1770<i<1880 and 1700<j<1830 :\n",
        "                    S1A1_3.append(S1HSV_imgA1A2_1[i][j])\n",
        "                if 1770<i<1880 and 2015<j<2145 :\n",
        "                    S1A2_1.append(S1HSV_imgA1A2_1[i][j])"
      ],
      "execution_count": null,
      "outputs": []
    },
    {
      "cell_type": "code",
      "metadata": {
        "id": "Q22bz7Yrs1du"
      },
      "source": [
        "S1A1_4= list()\n",
        "S1A3_1 = list()\n",
        "for i in range(S1HSV_imgA1A3_1.shape[0]): \n",
        "     for j in range(S1HSV_imgA1A3_1.shape[1]): \n",
        "                if 1770<i<1880 and 1700<j<1830 :\n",
        "                    S1A1_4.append(S1HSV_imgA1A3_1[i][j])\n",
        "                if 1770<i<1880 and 2015<j<2145 :\n",
        "                    S1A3_1.append(S1HSV_imgA1A3_1[i][j])   "
      ],
      "execution_count": null,
      "outputs": []
    },
    {
      "cell_type": "code",
      "metadata": {
        "id": "Xcj9y6qOs1dv"
      },
      "source": [
        "S1A1_5= list()\n",
        "S1A3_51 = list()\n",
        "for i in range(S1HSV_imgA1A3_51.shape[0]): \n",
        "     for j in range(S1HSV_imgA1A3_51.shape[1]): \n",
        "                if 1770<i<1880 and 1700<j<1830 :\n",
        "                    S1A1_5.append(S1HSV_imgA1A3_51[i][j])\n",
        "                if 1770<i<1880 and 2015<j<2145 :\n",
        "                    S1A3_51.append(S1HSV_imgA1A3_51[i][j])"
      ],
      "execution_count": null,
      "outputs": []
    },
    {
      "cell_type": "code",
      "metadata": {
        "id": "4Nr5niAos1dv"
      },
      "source": [
        "S1A1_6= list()\n",
        "S1A4_1 = list()\n",
        "for i in range(S1HSV_imgA1A4_1.shape[0]): \n",
        "     for j in range(S1HSV_imgA1A4_1.shape[1]): \n",
        "                if 1770<i<1880 and 1700<j<1830 :\n",
        "                    S1A1_6.append(S1HSV_imgA1A4_1[i][j])\n",
        "                if 1770<i<1880 and 2015<j<2145 :\n",
        "                    S1A4_1.append(S1HSV_imgA1A4_1[i][j])"
      ],
      "execution_count": null,
      "outputs": []
    },
    {
      "cell_type": "code",
      "metadata": {
        "id": "XtM4OpaFs1dw"
      },
      "source": [
        "S1A1_7= list()\n",
        "S1B1_1 = list()\n",
        "for i in range(S1HSV_imgA1B1_1.shape[0]): \n",
        "     for j in range(S1HSV_imgA1B1_1.shape[1]): \n",
        "                if 1770<i<1880 and 1700<j<1830 :\n",
        "                    S1A1_7.append(S1HSV_imgA1B1_1[i][j])\n",
        "                if 1770<i<1880 and 2015<j<2145 :\n",
        "                    S1B1_1.append(S1HSV_imgA1B1_1[i][j])"
      ],
      "execution_count": null,
      "outputs": []
    },
    {
      "cell_type": "code",
      "metadata": {
        "id": "kAO2yxCls1dw"
      },
      "source": [
        "S1A1_8= list()\n",
        "S1B2_1 = list()\n",
        "for i in range(S1HSV_imgA1B2_1.shape[0]): \n",
        "     for j in range(S1HSV_imgA1B2_1.shape[1]): \n",
        "                if 1770<i<1880 and 1700<j<1830 :\n",
        "                    S1A1_8.append(S1HSV_imgA1B2_1[i][j])\n",
        "                if 1770<i<1880 and 2015<j<2145 :\n",
        "                    S1B2_1.append(S1HSV_imgA1B2_1[i][j])"
      ],
      "execution_count": null,
      "outputs": []
    },
    {
      "cell_type": "code",
      "metadata": {
        "id": "E9PqbDEUs1dw"
      },
      "source": [
        "S1A1_9= list()\n",
        "S1B3_1 = list()\n",
        "for i in range(S1HSV_imgA1B3_1.shape[0]): \n",
        "     for j in range(S1HSV_imgA1B3_1.shape[1]): \n",
        "                if 1770<i<1880 and 1700<j<1830 :\n",
        "                    S1A1_9.append(S1HSV_imgA1B3_1[i][j])\n",
        "                if 1770<i<1880 and 2015<j<2145 :\n",
        "                    S1B3_1.append(S1HSV_imgA1B3_1[i][j])"
      ],
      "execution_count": null,
      "outputs": []
    },
    {
      "cell_type": "code",
      "metadata": {
        "id": "Bjjr3OtFs1dx"
      },
      "source": [
        "S1A1_10= list()\n",
        "S1B4_1 = list()\n",
        "for i in range(S1HSV_imgA1B4_1.shape[0]): \n",
        "     for j in range(S1HSV_imgA1B4_1.shape[1]): \n",
        "                if 1770<i<1880 and 1700<j<1830 :\n",
        "                    S1A1_10.append(S1HSV_imgA1B4_1[i][j])\n",
        "                if 1770<i<1880 and 2015<j<2145 :\n",
        "                    S1B4_1.append(S1HSV_imgA1B4_1[i][j])"
      ],
      "execution_count": null,
      "outputs": []
    },
    {
      "cell_type": "code",
      "metadata": {
        "id": "2cD6X557s1dx"
      },
      "source": [
        "S1A1_11= list()\n",
        "S1C1_2 = list()\n",
        "for i in range(S1HSV_imgA1C1_1.shape[0]): \n",
        "     for j in range(S1HSV_imgA1C1_1.shape[1]): \n",
        "                if 1770<i<1880 and 1700<j<1830 :\n",
        "                    S1A1_11.append(S1HSV_imgA1C1_1[i][j])\n",
        "                if 1770<i<1880 and 2015<j<2145 :\n",
        "                    S1C1_2.append(S1HSV_imgA1C1_1[i][j])   "
      ],
      "execution_count": null,
      "outputs": []
    },
    {
      "cell_type": "code",
      "metadata": {
        "id": "9Bh77xBws1dy"
      },
      "source": [
        "S1A1_12= list()\n",
        "S1C2_1 = list()\n",
        "for i in range(S1HSV_imgA1C2_1.shape[0]): \n",
        "     for j in range(S1HSV_imgA1C2_1.shape[1]): \n",
        "                if 1770<i<1880 and 1700<j<1830 :\n",
        "                    S1A1_12.append(S1HSV_imgA1C2_1[i][j])\n",
        "                if 1770<i<1880 and 2015<j<2145 :\n",
        "                    S1C2_1.append(S1HSV_imgA1C2_1[i][j])   "
      ],
      "execution_count": null,
      "outputs": []
    },
    {
      "cell_type": "code",
      "metadata": {
        "id": "8BnrG1t3s1dy"
      },
      "source": [
        "S1A1_13= list()\n",
        "S1C3_1 = list()\n",
        "for i in range(S1HSV_imgA1C3_1.shape[0]): \n",
        "     for j in range(S1HSV_imgA1C3_1.shape[1]): \n",
        "                if 1770<i<1880 and 1700<j<1830 :\n",
        "                    S1A1_13.append(S1HSV_imgA1C3_1[i][j])\n",
        "                if 1770<i<1880 and 2015<j<2145 :\n",
        "                    S1C3_1.append(S1HSV_imgA1C3_1[i][j])   "
      ],
      "execution_count": null,
      "outputs": []
    },
    {
      "cell_type": "code",
      "metadata": {
        "id": "pn3ABgm7s1dz"
      },
      "source": [
        "S1A1_14= list()\n",
        "S1C4_1 = list()\n",
        "for i in range(S1HSV_imgA1C4_1.shape[0]): \n",
        "     for j in range(S1HSV_imgA1C4_1.shape[1]): \n",
        "                if 1770<i<1880 and 1700<j<1830 :\n",
        "                    S1A1_14.append(S1HSV_imgA1C4_1[i][j])\n",
        "                if 1770<i<1880 and 2015<j<2145 :\n",
        "                    S1C4_1.append(S1HSV_imgA1C4_1[i][j])"
      ],
      "execution_count": null,
      "outputs": []
    },
    {
      "cell_type": "code",
      "metadata": {
        "id": "Bj_oz64Xs1d0"
      },
      "source": [
        "S1A1_15= list()\n",
        "S1D2_1 = list()\n",
        "for i in range(S1HSV_imgA1D2_1.shape[0]): \n",
        "     for j in range(S1HSV_imgA1D2_1.shape[1]): \n",
        "                if 1770<i<1880 and 1700<j<1830 :\n",
        "                    S1A1_15.append(S1HSV_imgA1D2_1[i][j])\n",
        "                if 1770<i<1880 and 2015<j<2145 :\n",
        "                    S1D2_1.append(S1HSV_imgA1D2_1[i][j])   "
      ],
      "execution_count": null,
      "outputs": []
    },
    {
      "cell_type": "code",
      "metadata": {
        "id": "zYDvOvcos1d0"
      },
      "source": [
        "S1A1_16= list()\n",
        "S1D3_1 = list()\n",
        "for i in range(S1HSV_imgA1D3_1.shape[0]): \n",
        "     for j in range(S1HSV_imgA1D3_1.shape[1]): \n",
        "                if 1770<i<1880 and 1700<j<1830 :\n",
        "                    S1A1_16.append(S1HSV_imgA1D3_1[i][j])\n",
        "                if 1770<i<1880 and 2015<j<2145 :\n",
        "                    S1D3_1.append(S1HSV_imgA1D3_1[i][j])   "
      ],
      "execution_count": null,
      "outputs": []
    },
    {
      "cell_type": "code",
      "metadata": {
        "id": "Y6imBIV9s1d1"
      },
      "source": [
        "S1A1_17= list()\n",
        "S1D4_1 = list()\n",
        "for i in range(S1HSV_imgA1D4_1.shape[0]): \n",
        "     for j in range(S1HSV_imgA1D4_1.shape[1]): \n",
        "                if 1770<i<1880 and 1700<j<1830 :\n",
        "                    S1A1_17.append(S1HSV_imgA1D4_1[i][j])\n",
        "                if 1770<i<1880 and 2015<j<2145 :\n",
        "                    S1D4_1.append(S1HSV_imgA1D4_1[i][j])"
      ],
      "execution_count": null,
      "outputs": []
    },
    {
      "cell_type": "markdown",
      "metadata": {
        "id": "JRCSlG-L7hiJ"
      },
      "source": [
        "###Img 2"
      ]
    },
    {
      "cell_type": "code",
      "metadata": {
        "id": "hrawAyvu7mBx"
      },
      "source": [
        "S1A1_102= list()\n",
        "S1A1_202 = list()\n",
        "for i in range(S1HSV_imgA1A1_2.shape[0]): #ให้ i รันตาม row หรือ shape[0] คือแถว มีทั้งหมด 4032 แถว ของภาพที่ปรับขนาดมาแล้ว\n",
        "     for j in range(S1HSV_imgA1A1_2.shape[1]): #ให้ j รันตาม colum มีทั้งหมด 3024 colum เช่น แถวที่ 1 เข้ามาให้รันครบ 3024colum\n",
        "                if 1770<i<1880 and 1700<j<1830 :\n",
        "                    S1A1_102.append(S1HSV_imgA1A1_2[i][j])\n",
        "                if 1770<i<1880 and 2015<j<2145 :\n",
        "                    S1A1_202.append(S1HSV_imgA1A1_2[i][j])"
      ],
      "execution_count": null,
      "outputs": []
    },
    {
      "cell_type": "code",
      "metadata": {
        "id": "skbZk0nY7mBx"
      },
      "source": [
        "S1A1_302= list()\n",
        "S1A2_102= list()\n",
        "for i in range(S1HSV_imgA1A2_2.shape[0]): \n",
        "     for j in range(S1HSV_imgA1A2_2.shape[1]): \n",
        "                if 1770<i<1880 and 1700<j<1830 :\n",
        "                    S1A1_302.append(S1HSV_imgA1A2_2[i][j])\n",
        "                if 1770<i<1880 and 2015<j<2145 :\n",
        "                    S1A2_102.append(S1HSV_imgA1A2_2[i][j])"
      ],
      "execution_count": null,
      "outputs": []
    },
    {
      "cell_type": "code",
      "metadata": {
        "id": "yDs4uf4R7mBy"
      },
      "source": [
        "S1A1_4= list()\n",
        "S1A3_1 = list()\n",
        "for i in range(S1HSV_imgA1A3_1.shape[0]): \n",
        "     for j in range(S1HSV_imgA1A3_1.shape[1]): \n",
        "                if 1770<i<1880 and 1700<j<1830 :\n",
        "                    S1A1_4.append(S1HSV_imgA1A3_1[i][j])\n",
        "                if 1770<i<1880 and 2015<j<2145 :\n",
        "                    S1A3_1.append(S1HSV_imgA1A3_1[i][j])   "
      ],
      "execution_count": null,
      "outputs": []
    },
    {
      "cell_type": "code",
      "metadata": {
        "id": "6ywZ9jLs7mBy"
      },
      "source": [
        "S1A1_502= list()\n",
        "S1A3_5102 = list()\n",
        "for i in range(S1HSV_imgA1A3_52.shape[0]): \n",
        "     for j in range(S1HSV_imgA1A3_52.shape[1]): \n",
        "                if 1770<i<1880 and 1700<j<1830 :\n",
        "                    S1A1_50.append(S1HSV_imgA1A3_52[i][j])\n",
        "                if 1770<i<1880 and 2015<j<2145 :\n",
        "                    S1A3_510.append(S1HSV_imgA1A3_52[i][j])"
      ],
      "execution_count": null,
      "outputs": []
    },
    {
      "cell_type": "code",
      "metadata": {
        "id": "jvR91hhQ7mBz"
      },
      "source": [
        "S1A1_602= list()\n",
        "S1A4_102 = list()\n",
        "for i in range(S1HSV_imgA1A4_2.shape[0]): \n",
        "     for j in range(S1HSV_imgA1A4_2.shape[1]): \n",
        "                if 1770<i<1880 and 1700<j<1830 :\n",
        "                    S1A1_602.append(S1HSV_2imgA1A4_[i][j])\n",
        "                if 1770<i<1880 and 2015<j<2145 :\n",
        "                    S1A4_102.append(S1HSV_imgA1A4_2[i][j])"
      ],
      "execution_count": null,
      "outputs": []
    },
    {
      "cell_type": "code",
      "metadata": {
        "id": "xUQqTSjz7mBz"
      },
      "source": [
        "S1A1_702= list()\n",
        "S1B1_102= list()\n",
        "for i in range(S1HSV_imgA1B1_2.shape[0]): \n",
        "     for j in range(S1HSV_imgA1B1_2.shape[1]): \n",
        "                if 1770<i<1880 and 1700<j<1830 :\n",
        "                    S1A1_702.append(S1HSV_imgA1B1_2[i][j])\n",
        "                if 1770<i<1880 and 2015<j<2145 :\n",
        "                    S1B1_102.append(S1HSV_imgA1B1_2[i][j])"
      ],
      "execution_count": null,
      "outputs": []
    },
    {
      "cell_type": "code",
      "metadata": {
        "id": "yPgCwNtl7mBz"
      },
      "source": [
        "S1A1_802= list()\n",
        "S1B2_102 = list()\n",
        "for i in range(S1HSV_imgA1B2_2.shape[0]): \n",
        "     for j in range(S1HSV_imgA1B2_2.shape[1]): \n",
        "                if 1770<i<1880 and 1700<j<1830 :\n",
        "                    S1A1_802.append(S1HSV_imgA1B2_2[i][j])\n",
        "                if 1770<i<1880 and 2015<j<2145 :\n",
        "                    S1B2_102.append(S1HSV_imgA1B2_2[i][j])"
      ],
      "execution_count": null,
      "outputs": []
    },
    {
      "cell_type": "code",
      "metadata": {
        "id": "URGfgEF67mB0"
      },
      "source": [
        "S1A1_902= list()\n",
        "S1B3_102 = list()\n",
        "for i in range(S1HSV_imgA1B3_2.shape[0]): \n",
        "     for j in range(S1HSV_imgA1B3_2.shape[1]): \n",
        "                if 1770<i<1880 and 1700<j<1830 :\n",
        "                    S1A1_902.append(S1HSV_imgA1B3_2[i][j])\n",
        "                if 1770<i<1880 and 2015<j<2145 :\n",
        "                    S1B3_102.append(S1HSV_imgA1B3_2[i][j])"
      ],
      "execution_count": null,
      "outputs": []
    },
    {
      "cell_type": "code",
      "metadata": {
        "id": "_JFwO_gt7mB0"
      },
      "source": [
        "S1A1_1002= list()\n",
        "S1B4_102= list()\n",
        "for i in range(S1HSV_imgA1B4_2.shape[0]): \n",
        "     for j in range(S1HSV_imgA1B4_2.shape[1]): \n",
        "                if 1770<i<1880 and 1700<j<1830 :\n",
        "                    S1A1_1002.append(S1HSV_imgA1B4_2[i][j])\n",
        "                if 1770<i<1880 and 2015<j<2145 :\n",
        "                    S1B4_102.append(S1HSV_imgA1B4_2[i][j])"
      ],
      "execution_count": null,
      "outputs": []
    },
    {
      "cell_type": "code",
      "metadata": {
        "id": "ea5curQN7mB0"
      },
      "source": [
        "S1A1_1102= list()\n",
        "S1C1_202 = list()\n",
        "for i in range(S1HSV_imgA1C1_2.shape[0]): \n",
        "     for j in range(S1HSV_imgA1C1_2.shape[1]): \n",
        "                if 1770<i<1880 and 1700<j<1830 :\n",
        "                    S1A1_1102.append(S1HSV_imgA1C1_2[i][j])\n",
        "                if 1770<i<1880 and 2015<j<2145 :\n",
        "                    S1C1_202.append(S1HSV_imgA1C1_2[i][j])   "
      ],
      "execution_count": null,
      "outputs": []
    },
    {
      "cell_type": "code",
      "metadata": {
        "id": "H9XHuG2u7mB0"
      },
      "source": [
        "S1A1_1202= list()\n",
        "S1C2_102 = list()\n",
        "for i in range(S1HSV_imgA1C2_2.shape[0]): \n",
        "     for j in range(S1HSV_imgA1C2_2.shape[1]): \n",
        "                if 1770<i<1880 and 1700<j<1830 :\n",
        "                    S1A1_1202.append(S1HSV_imgA1C2_2[i][j])\n",
        "                if 1770<i<1880 and 2015<j<2145 :\n",
        "                    S1C2_102.append(S1HSV_imgA1C2_2[i][j])   "
      ],
      "execution_count": null,
      "outputs": []
    },
    {
      "cell_type": "code",
      "metadata": {
        "id": "PYgwGJQZ7mB1"
      },
      "source": [
        "S1A1_1302= list()\n",
        "S1C3_102 = list()\n",
        "for i in range(S1HSV_imgA1C3_2.shape[0]): \n",
        "     for j in range(S1HSV_imgA1C3_2.shape[1]): \n",
        "                if 1770<i<1880 and 1700<j<1830 :\n",
        "                    S1A1_1302.append(S1HSV_imgA1C3_2[i][j])\n",
        "                if 1770<i<1880 and 2015<j<2145 :\n",
        "                    S1C3_102.append(S1HSV_imgA1C3_2[i][j])   "
      ],
      "execution_count": null,
      "outputs": []
    },
    {
      "cell_type": "code",
      "metadata": {
        "id": "Y5dwiW9b7mB1"
      },
      "source": [
        "S1A1_1402= list()\n",
        "S1C4_102 = list()\n",
        "for i in range(S1HSV_imgA1C4_2.shape[0]): \n",
        "     for j in range(S1HSV_imgA1C4_2.shape[1]): \n",
        "                if 1770<i<1880 and 1700<j<1830 :\n",
        "                    S1A1_1402.append(S1HSV_imgA1C4_2[i][j])\n",
        "                if 1770<i<1880 and 2015<j<2145 :\n",
        "                    S1C4_102.append(S1HSV_imgA1C4_2[i][j])"
      ],
      "execution_count": null,
      "outputs": []
    },
    {
      "cell_type": "code",
      "metadata": {
        "id": "FRyZcSpk7mB1"
      },
      "source": [
        "S1A1_1502= list()\n",
        "S1D2_102 = list()\n",
        "for i in range(S1HSV_imgA1D2_2.shape[0]): \n",
        "     for j in range(S1HSV_imgA1D2_2.shape[1]): \n",
        "                if 1770<i<1880 and 1700<j<1830 :\n",
        "                    S1A1_1502.append(S1HSV_imgA1D2_2[i][j])\n",
        "                if 1770<i<1880 and 2015<j<2145 :\n",
        "                    S1D2_102.append(S1HSV_imgA1D2_2[i][j])   "
      ],
      "execution_count": null,
      "outputs": []
    },
    {
      "cell_type": "code",
      "metadata": {
        "id": "Zp_wj06P7mB1"
      },
      "source": [
        "S1A1_1602= list()\n",
        "S1D3_102 = list()\n",
        "for i in range(S1HSV_imgA1D3_2shape[0]): \n",
        "     for j in range(S1HSV_imgA1D3_2.shape[1]): \n",
        "                if 1770<i<1880 and 1700<j<1830 :\n",
        "                    S1A1_1602.append(S1HSV_imgA1D3_2[i][j])\n",
        "                if 1770<i<1880 and 2015<j<2145 :\n",
        "                    S1D3_102.append(S1HSV_imgA1D3_2[i][j])   "
      ],
      "execution_count": null,
      "outputs": []
    },
    {
      "cell_type": "code",
      "metadata": {
        "id": "RV-2GDom7mB2"
      },
      "source": [
        "S1A1_1702= list()\n",
        "S1D4_102 = list()\n",
        "for i in range(S1HSV_imgA1D4_2.shape[0]): \n",
        "     for j in range(S1HSV_imgA1D4_2shape[1]): \n",
        "                if 1770<i<1880 and 1700<j<1830 :\n",
        "                    S1A1_1702.append(S1HSV_imgA1D4_2[i][j])\n",
        "                if 1770<i<1880 and 2015<j<2145 :\n",
        "                    S1D4_102.append(S1HSV_imgA1D4_2[i][j])"
      ],
      "execution_count": null,
      "outputs": []
    },
    {
      "cell_type": "markdown",
      "metadata": {
        "id": "sx_7pR5rAXN1"
      },
      "source": [
        "###Img 3"
      ]
    },
    {
      "cell_type": "code",
      "metadata": {
        "id": "kJtYNDZ3AXN3"
      },
      "source": [
        "S1A1_103= list()\n",
        "S1A1_203 = list()\n",
        "for i in range(S1HSV_imgA1A1_3.shape[0]): #ให้ i รันตาม row หรือ shape[0] คือแถว มีทั้งหมด 4032 แถว ของภาพที่ปรับขนาดมาแล้ว\n",
        "     for j in range(S1HSV_imgA1A1_3.shape[1]): #ให้ j รันตาม colum มีทั้งหมด 3024 colum เช่น แถวที่ 1 เข้ามาให้รันครบ 3024colum\n",
        "                if 1770<i<1880 and 1700<j<1830 :\n",
        "                    S1A1_103.append(S1HSV_imgA1A1_3[i][j])\n",
        "                if 1770<i<1880 and 2015<j<2145 :\n",
        "                    S1A1_203append(S1HSV_imgA1A1_3[i][j])"
      ],
      "execution_count": null,
      "outputs": []
    },
    {
      "cell_type": "code",
      "metadata": {
        "id": "V1YA2LD-AXN4"
      },
      "source": [
        "S1A1_303= list()\n",
        "S1A2_103 = list()\n",
        "for i in range(S1HSV_imgA1A2_3.shape[0]): \n",
        "     for j in range(S1HSV_imgA1A2_3.shape[1]): \n",
        "                if 1770<i<1880 and 1700<j<1830 :\n",
        "                    S1A1_303.append(S1HSV_imgA1A2_3[i][j])\n",
        "                if 1770<i<1880 and 2015<j<2145 :\n",
        "                    S1A2_103.append(S1HSV_imgA1A2_3[i][j])"
      ],
      "execution_count": null,
      "outputs": []
    },
    {
      "cell_type": "code",
      "metadata": {
        "id": "wrJ0JSjMAXN5"
      },
      "source": [
        "S1A1_403= list()\n",
        "S1A3_103 = list()\n",
        "for i in range(S1HSV_imgA1A3_3.shape[0]): \n",
        "     for j in range(S1HSV_imgA1A3_3.shape[1]): \n",
        "                if 1770<i<1880 and 1700<j<1830 :\n",
        "                    S1A1_403.append(S1HSV_imgA1A3_3[i][j])\n",
        "                if 1770<i<1880 and 2015<j<2145 :\n",
        "                    S1A3_103.append(S1HSV_imgA1A3_3[i][j])   "
      ],
      "execution_count": null,
      "outputs": []
    },
    {
      "cell_type": "code",
      "metadata": {
        "id": "fqqkG8nVAXN6"
      },
      "source": [
        "S1A1_503= list()\n",
        "S1A3_5103 = list()\n",
        "for i in range(S1HSV_imgA1A3_53.shape[0]): \n",
        "     for j in range(S1HSV_imgA1A3_53.shape[1]): \n",
        "                if 1770<i<1880 and 1700<j<1830 :\n",
        "                    S1A1_503.append(S1HSV_imgA1A3_53[i][j])\n",
        "                if 1770<i<1880 and 2015<j<2145 :\n",
        "                    S1A3_5103.append(S1HSV_imgA1A3_53[i][j])"
      ],
      "execution_count": null,
      "outputs": []
    },
    {
      "cell_type": "code",
      "metadata": {
        "id": "TxOVVwc3AXN7"
      },
      "source": [
        "S1A1_60= list()\n",
        "S1A4_10 = list()\n",
        "for i in range(S1HSV_imgA1A4_.shape[0]): \n",
        "     for j in range(S1HSV_imgA1A4_.shape[1]): \n",
        "                if 1770<i<1880 and 1700<j<1830 :\n",
        "                    S1A1_60.append(S1HSV_imgA1A4_[i][j])\n",
        "                if 1770<i<1880 and 2015<j<2145 :\n",
        "                    S1A4_10.append(S1HSV_imgA1A4_[i][j])"
      ],
      "execution_count": null,
      "outputs": []
    },
    {
      "cell_type": "code",
      "metadata": {
        "id": "HKc7qnKFAXN7"
      },
      "source": [
        "S1A1_703= list()\n",
        "S1B1_103= list()\n",
        "for i in range(S1HSV_imgA1B1_3.shape[0]): \n",
        "     for j in range(S1HSV_imgA1B1_3.shape[1]): \n",
        "                if 1770<i<1880 and 1700<j<1830 :\n",
        "                    S1A1_703.append(S1HSV_imgA1B1_3[i][j])\n",
        "                if 1770<i<1880 and 2015<j<2145 :\n",
        "                    S1B1_103.append(S1HSV_imgA1B1_3[i][j])"
      ],
      "execution_count": null,
      "outputs": []
    },
    {
      "cell_type": "code",
      "metadata": {
        "id": "6p30fvh5AXN8"
      },
      "source": [
        "S1A1_803= list()\n",
        "S1B2_103 = list()\n",
        "for i in range(S1HSV_imgA1B2_3.shape[0]): \n",
        "     for j in range(S1HSV_imgA1B2_3.shape[1]): \n",
        "                if 1770<i<1880 and 1700<j<1830 :\n",
        "                    S1A1_803.append(S1HSV_imgA1B2_3[i][j])\n",
        "                if 1770<i<1880 and 2015<j<2145 :\n",
        "                    S1B2_103.append(S1HSV_imgA1B2_3[i][j])"
      ],
      "execution_count": null,
      "outputs": []
    },
    {
      "cell_type": "code",
      "metadata": {
        "id": "txO2MKsOAXN9"
      },
      "source": [
        "S1A1_903= list()\n",
        "S1B3_103 = list()\n",
        "for i in range(S1HSV_imgA1B3_3.shape[0]): \n",
        "     for j in range(S1HSV_imgA1B3_3.shape[1]): \n",
        "                if 1770<i<1880 and 1700<j<1830 :\n",
        "                    S1A1_903.append(S1HSV_imgA1B3_3[i][j])\n",
        "                if 1770<i<1880 and 2015<j<2145 :\n",
        "                    S1B3_103.append(S1HSV_imgA1B3_3[i][j])"
      ],
      "execution_count": null,
      "outputs": []
    },
    {
      "cell_type": "code",
      "metadata": {
        "id": "w2beQlURAXN9"
      },
      "source": [
        "S1A1_1003= list()\n",
        "S1B4_103 = list()\n",
        "for i in range(S1HSV_imgA1B4_3.shape[0]): \n",
        "     for j in range(S1HSV_imgA1B4_.3shape[1]): \n",
        "                if 1770<i<1880 and 1700<j<1830 :\n",
        "                    S1A1_1003.append(S1HSV_imgA1B4_3[i][j])\n",
        "                if 1770<i<1880 and 2015<j<2145 :\n",
        "                    S1B4_103.append(S1HSV_imgA1B4_3[i][j])"
      ],
      "execution_count": null,
      "outputs": []
    },
    {
      "cell_type": "code",
      "metadata": {
        "id": "j56aGNx3AXN-"
      },
      "source": [
        "S1A1_1103= list()\n",
        "S1C1_203 = list()\n",
        "for i in range(S1HSV_imgA1C1_3.shape[0]): \n",
        "     for j in range(S1HSV_imgA1C1_3.shape[1]): \n",
        "                if 1770<i<1880 and 1700<j<1830 :\n",
        "                    S1A1_1103.append(S1HSV_imgA1C1_3[i][j])\n",
        "                if 1770<i<1880 and 2015<j<2145 :\n",
        "                    S1C1_203.append(S1HSV_imgA1C1_3[i][j])   "
      ],
      "execution_count": null,
      "outputs": []
    },
    {
      "cell_type": "code",
      "metadata": {
        "id": "ZnEV01k0AXN-"
      },
      "source": [
        "S1A1_1203= list()\n",
        "S1C2_103 = list()\n",
        "for i in range(S1HSV_imgA1C23_.shape[0]): \n",
        "     for j in range(S1HSV_imgA1C23_.shape[1]): \n",
        "                if 1770<i<1880 and 1700<j<1830 :\n",
        "                    S1A1_1203.append(S1HSV_imgA1C2_3[i][j])\n",
        "                if 1770<i<1880 and 2015<j<2145 :\n",
        "                    S1C2_103.append(S1HSV_imgA1C2_3[i][j])   "
      ],
      "execution_count": null,
      "outputs": []
    },
    {
      "cell_type": "code",
      "metadata": {
        "id": "8UN5qx2SAXN_"
      },
      "source": [
        "S1A1_1303= list()\n",
        "S1C3_103 = list()\n",
        "for i in range(S1HSV_imgA1C3_3.shape[0]): \n",
        "     for j in range(S1HSV_imgA1C3_3.shape[1]): \n",
        "                if 1770<i<1880 and 1700<j<1830 :\n",
        "                    S1A1_1303.append(S1HSV_imgA1C3_3[i][j])\n",
        "                if 1770<i<1880 and 2015<j<2145 :\n",
        "                    S1C3_103.append(S1HSV_imgA1C3_3[i][j])   "
      ],
      "execution_count": null,
      "outputs": []
    },
    {
      "cell_type": "code",
      "metadata": {
        "id": "L4m2YiNnAXN_"
      },
      "source": [
        "S1A1_1403= list()\n",
        "S1C4_103= list()\n",
        "for i in range(S1HSV_imgA1C4_3.shape[0]): \n",
        "     for j in range(S1HSV_imgA1C4_3.shape[1]): \n",
        "                if 1770<i<1880 and 1700<j<1830 :\n",
        "                    S1A1_1403.append(S1HSV_imgA1C4_3[i][j])\n",
        "                if 1770<i<1880 and 2015<j<2145 :\n",
        "                    S1C4_103.append(S1HSV_imgA1C4_3[i][j])"
      ],
      "execution_count": null,
      "outputs": []
    },
    {
      "cell_type": "code",
      "metadata": {
        "id": "8lDabP2SAXOA"
      },
      "source": [
        "S1A1_1503= list()\n",
        "S1D2_103 = list()\n",
        "for i in range(S1HSV_imgA1D2_3.shape[0]): \n",
        "     for j in range(S1HSV_imgA1D2_3.shape[1]): \n",
        "                if 1770<i<1880 and 1700<j<1830 :\n",
        "                    S1A1_1503.append(S1HSV_imgA1D2_3[i][j])\n",
        "                if 1770<i<1880 and 2015<j<2145 :\n",
        "                    S1D2_103.append(S1HSV_imgA1D2_3[i][j])   "
      ],
      "execution_count": null,
      "outputs": []
    },
    {
      "cell_type": "code",
      "metadata": {
        "id": "ys5wsIVLAXOA"
      },
      "source": [
        "S1A1_1603= list()\n",
        "S1D3_103 = list()\n",
        "for i in range(S1HSV_imgA1D3_3.shape[0]): \n",
        "     for j in range(S1HSV_imgA1D3_3.shape[1]): \n",
        "                if 1770<i<1880 and 1700<j<1830 :\n",
        "                    S1A1_1603.append(S1HSV_imgA1D3_3[i][j])\n",
        "                if 1770<i<1880 and 2015<j<2145 :\n",
        "                    S1D3_103.append(S1HSV_imgA1D3_3[i][j])   "
      ],
      "execution_count": null,
      "outputs": []
    },
    {
      "cell_type": "code",
      "metadata": {
        "id": "PmGrOo72AXOB"
      },
      "source": [
        "S1A1_1703= list()\n",
        "S1D4_103 = list()\n",
        "for i in range(S1HSV_imgA1D4_3.shape[0]): \n",
        "     for j in range(S1HSV_imgA1D4_3.shape[1]): \n",
        "                if 1770<i<1880 and 1700<j<1830 :\n",
        "                    S1A1_1703.append(S1HSV_imgA1D4_3[i][j])\n",
        "                if 1770<i<1880 and 2015<j<2145 :\n",
        "                    S1D4_103.append(S1HSV_imgA1D4_3[i][j])"
      ],
      "execution_count": null,
      "outputs": []
    },
    {
      "cell_type": "markdown",
      "metadata": {
        "id": "dbUf_2VWDIab"
      },
      "source": [
        "###Img 4"
      ]
    },
    {
      "cell_type": "code",
      "metadata": {
        "id": "gGcgoqoHDIab"
      },
      "source": [
        "S1A1_104= list()\n",
        "S1A1_204 = list()\n",
        "for i in range(S1HSV_imgA1A1_4.shape[0]): #ให้ i รันตาม row หรือ shape[0] คือแถว มีทั้งหมด 4032 แถว ของภาพที่ปรับขนาดมาแล้ว\n",
        "     for j in range(S1HSV_imgA1A1_4.shape[1]): #ให้ j รันตาม colum มีทั้งหมด 3024 colum เช่น แถวที่ 1 เข้ามาให้รันครบ 3024colum\n",
        "                if 1770<i<1880 and 1700<j<1830 :\n",
        "                    S1A1_104.append(S1HSV_imgA1A1_4[i][j])\n",
        "                if 1770<i<1880 and 2015<j<2145 :\n",
        "                    S1A1_204.append(S1HSV_imgA1A1_4[i][j])"
      ],
      "execution_count": null,
      "outputs": []
    },
    {
      "cell_type": "code",
      "metadata": {
        "id": "NxRi67aXDIac"
      },
      "source": [
        "S1A1_304= list()\n",
        "S1A2_104 = list()\n",
        "for i in range(S1HSV_imgA1A2_4.shape[0]): \n",
        "     for j in range(S1HSV_imgA1A2_4.shape[1]): \n",
        "                if 1770<i<1880 and 1700<j<1830 :\n",
        "                    S1A1_304.append(S1HSV_imgA1A2_4[i][j])\n",
        "                if 1770<i<1880 and 2015<j<2145 :\n",
        "                    S1A2_104.append(S1HSV_imgA1A2_4[i][j])"
      ],
      "execution_count": null,
      "outputs": []
    },
    {
      "cell_type": "code",
      "metadata": {
        "id": "OlKFjVGeDIad"
      },
      "source": [
        "S1A1_404= list()\n",
        "S1A3_104 = list()\n",
        "for i in range(S1HSV_imgA1A3_4.shape[0]): \n",
        "     for j in range(S1HSV_imgA1A3_4.shape[1]): \n",
        "                if 1770<i<1880 and 1700<j<1830 :\n",
        "                    S1A1_404.append(S1HSV_imgA1A3_4[i][j])\n",
        "                if 1770<i<1880 and 2015<j<2145 :\n",
        "                    S1A3_104.append(S1HSV_imgA1A3_4[i][j])   "
      ],
      "execution_count": null,
      "outputs": []
    },
    {
      "cell_type": "code",
      "metadata": {
        "id": "tHg-O-6MDIad"
      },
      "source": [
        "S1A1_504= list()\n",
        "S1A3_5104 = list()\n",
        "for i in range(S1HSV_imgA1A3_54.shape[0]): \n",
        "     for j in range(S1HSV_imgA1A3_54.shape[1]): \n",
        "                if 1770<i<1880 and 1700<j<1830 :\n",
        "                    S1A1_504.append(S1HSV_imgA1A3_54[i][j])\n",
        "                if 1770<i<1880 and 2015<j<2145 :\n",
        "                    S1A3_5104.append(S1HSV_imgA1A3_54[i][j])"
      ],
      "execution_count": null,
      "outputs": []
    },
    {
      "cell_type": "code",
      "metadata": {
        "id": "6XUTjI01DIae"
      },
      "source": [
        "S1A1_604= list()\n",
        "S1A4_104 = list()\n",
        "for i in range(S1HSV_imgA1A4_4.shape[0]): \n",
        "     for j in range(S1HSV_imgA1A4_4.shape[1]): \n",
        "                if 1770<i<1880 and 1700<j<1830 :\n",
        "                    S1A1_604.append(S1HSV_imgA1A4_4[i][j])\n",
        "                if 1770<i<1880 and 2015<j<2145 :\n",
        "                    S1A4_104.append(S1HSV_imgA1A4_4[i][j])"
      ],
      "execution_count": null,
      "outputs": []
    },
    {
      "cell_type": "code",
      "metadata": {
        "id": "NeYEiu8wDIaf"
      },
      "source": [
        "S1A1_704= list()\n",
        "S1B1_104 = list()\n",
        "for i in range(S1HSV_imgA1B1_4.shape[0]): \n",
        "     for j in range(S1HSV_imgA1B1_4.shape[1]): \n",
        "                if 1770<i<1880 and 1700<j<1830 :\n",
        "                    S1A1_704.append(S1HSV_imgA1B1_4[i][j])\n",
        "                if 1770<i<1880 and 2015<j<2145 :\n",
        "                    S1B1_104.append(S1HSV_imgA1B1_4[i][j])"
      ],
      "execution_count": null,
      "outputs": []
    },
    {
      "cell_type": "code",
      "metadata": {
        "id": "wkUoMJOrDIah"
      },
      "source": [
        "S1A1_804= list()\n",
        "S1B2_104 = list()\n",
        "for i in range(S1HSV_imgA1B2_4.shape[0]): \n",
        "     for j in range(S1HSV_imgA1B2_4.shape[1]): \n",
        "                if 1770<i<1880 and 1700<j<1830 :\n",
        "                    S1A1_804.append(S1HSV_imgA1B2_4[i][j])\n",
        "                if 1770<i<1880 and 2015<j<2145 :\n",
        "                    S1B2_104.append(S1HSV_imgA1B2_4[i][j])"
      ],
      "execution_count": null,
      "outputs": []
    },
    {
      "cell_type": "code",
      "metadata": {
        "id": "IE3IQAoHDIah"
      },
      "source": [
        "S1A1_904= list()\n",
        "S1B3_104 = list()\n",
        "for i in range(S1HSV_imgA1B3_4.shape[0]): \n",
        "     for j in range(S1HSV_imgA1B3_4.shape[1]): \n",
        "                if 1770<i<1880 and 1700<j<1830 :\n",
        "                    S1A1_904.append(S1HSV_imgA1B3_4[i][j])\n",
        "                if 1770<i<1880 and 2015<j<2145 :\n",
        "                    S1B3_104.append(S1HSV_imgA1B3_4[i][j])"
      ],
      "execution_count": null,
      "outputs": []
    },
    {
      "cell_type": "code",
      "metadata": {
        "id": "2z0BPKGmDIai"
      },
      "source": [
        "S1A1_1004= list()\n",
        "S1B4_104 = list()\n",
        "for i in range(S1HSV_imgA1B4_4.shape[0]): \n",
        "     for j in range(S1HSV_imgA1B4_4.shape[1]): \n",
        "                if 1770<i<1880 and 1700<j<1830 :\n",
        "                    S1A1_1004.append(S1HSV_imgA1B4_4[i][j])\n",
        "                if 1770<i<1880 and 2015<j<2145 :\n",
        "                    S1B4_104.append(S1HSV_imgA1B4_4[i][j])"
      ],
      "execution_count": null,
      "outputs": []
    },
    {
      "cell_type": "code",
      "metadata": {
        "id": "Rk_6qak_DIai"
      },
      "source": [
        "S1A1_1104= list()\n",
        "S1C1_204= list()\n",
        "for i in range(S1HSV_imgA1C1_4.shape[0]): \n",
        "     for j in range(S1HSV_imgA1C1_4.shape[1]): \n",
        "                if 1770<i<1880 and 1700<j<1830 :\n",
        "                    S1A1_1104.append(S1HSV_imgA1C1_4[i][j])\n",
        "                if 1770<i<1880 and 2015<j<2145 :\n",
        "                    S1C1_204.append(S1HSV_imgA1C1_4[i][j])   "
      ],
      "execution_count": null,
      "outputs": []
    },
    {
      "cell_type": "code",
      "metadata": {
        "id": "r1izcg8pDIai"
      },
      "source": [
        "S1A1_1204= list()\n",
        "S1C2_104 = list()\n",
        "for i in range(S1HSV_imgA1C2_4.shape[0]): \n",
        "     for j in range(S1HSV_imgA1C2_4.shape[1]): \n",
        "                if 1770<i<1880 and 1700<j<1830 :\n",
        "                    S1A1_1204append(S1HSV_imgA1C2_4[i][j])\n",
        "                if 1770<i<1880 and 2015<j<2145 :\n",
        "                    S1C2_104.append(S1HSV_imgA1C2_4[i][j])   "
      ],
      "execution_count": null,
      "outputs": []
    },
    {
      "cell_type": "code",
      "metadata": {
        "id": "05DSoU17DIaj"
      },
      "source": [
        "S1A1_1304= list()\n",
        "S1C3_104 = list()\n",
        "for i in range(S1HSV_imgA1C3_4.shape[0]): \n",
        "     for j in range(S1HSV_imgA1C3_4.shape[1]): \n",
        "                if 1770<i<1880 and 1700<j<1830 :\n",
        "                    S1A1_1304.append(S1HSV_imgA1C3_4[i][j])\n",
        "                if 1770<i<1880 and 2015<j<2145 :\n",
        "                    S1C3_104.append(S1HSV_imgA1C3_4[i][j])   "
      ],
      "execution_count": null,
      "outputs": []
    },
    {
      "cell_type": "code",
      "metadata": {
        "id": "_VKeekbkDIaj"
      },
      "source": [
        "S1A1_1404= list()\n",
        "S1C4_104 = list()\n",
        "for i in range(S1HSV_imgA1C4_4.shape[0]): \n",
        "     for j in range(S1HSV_imgA1C4_4.shape[1]): \n",
        "                if 1770<i<1880 and 1700<j<1830 :\n",
        "                    S1A1_1404.append(S1HSV_imgA1C4_4[i][j])\n",
        "                if 1770<i<1880 and 2015<j<2145 :\n",
        "                    S1C4_104.append(S1HSV_imgA1C4_4[i][j])"
      ],
      "execution_count": null,
      "outputs": []
    },
    {
      "cell_type": "code",
      "metadata": {
        "id": "85i2Z6ZBDIak"
      },
      "source": [
        "S1A1_1504= list()\n",
        "S1D2_104 = list()\n",
        "for i in range(S1HSV_imgA1D2_4.shape[0]): \n",
        "     for j in range(S1HSV_imgA1D2_4.shape[1]): \n",
        "                if 1770<i<1880 and 1700<j<1830 :\n",
        "                    S1A1_1504.append(S1HSV_imgA1D2_4[i][j])\n",
        "                if 1770<i<1880 and 2015<j<2145 :\n",
        "                    S1D2_104.append(S1HSV_imgA1D2_4[i][j])   "
      ],
      "execution_count": null,
      "outputs": []
    },
    {
      "cell_type": "code",
      "metadata": {
        "id": "bL98UVN0DIak"
      },
      "source": [
        "S1A1_1604= list()\n",
        "S1D3_104 = list()\n",
        "for i in range(S1HSV_imgA1D3_4.shape[0]): \n",
        "     for j in range(S1HSV_imgA1D3_4.shape[1]): \n",
        "                if 1770<i<1880 and 1700<j<1830 :\n",
        "                    S1A1_1604append(S1HSV_imgA1D3_4[i][j])\n",
        "                if 1770<i<1880 and 2015<j<2145 :\n",
        "                    S1D3_104.append(S1HSV_imgA1D3_4[i][j])   "
      ],
      "execution_count": null,
      "outputs": []
    },
    {
      "cell_type": "code",
      "metadata": {
        "id": "_8TAQr7oDIak"
      },
      "source": [
        "S1A1_1704= list()\n",
        "S1D4_104 = list()\n",
        "for i in range(S1HSV_imgA1D4_4.shape[0]): \n",
        "     for j in range(S1HSV_imgA1D4_4.shape[1]): \n",
        "                if 1770<i<1880 and 1700<j<1830 :\n",
        "                    S1A1_1704.append(S1HSV_imgA1D4_4[i][j])\n",
        "                if 1770<i<1880 and 2015<j<2145 :\n",
        "                    S1D4_104.append(S1HSV_imgA1D4_4[i][j])"
      ],
      "execution_count": null,
      "outputs": []
    },
    {
      "cell_type": "markdown",
      "metadata": {
        "id": "zofVsUkhDP6R"
      },
      "source": [
        "###Img 5"
      ]
    },
    {
      "cell_type": "code",
      "metadata": {
        "id": "SbmYMc5wDP6R"
      },
      "source": [
        "S1A1_105= list()\n",
        "S1A1_205 = list()\n",
        "for i in range(S1HSV_imgA1A1_5.shape[0]): #ให้ i รันตาม row หรือ shape[0] คือแถว มีทั้งหมด 4032 แถว ของภาพที่ปรับขนาดมาแล้ว\n",
        "     for j in range(S1HSV_imgA1A1_5.shape[1]): #ให้ j รันตาม colum มีทั้งหมด 3024 colum เช่น แถวที่ 1 เข้ามาให้รันครบ 3024colum\n",
        "                if 1770<i<1880 and 1700<j<1830 :\n",
        "                    S1A1_105.append(S1HSV_imgA1A1_5[i][j])\n",
        "                if 1770<i<1880 and 2015<j<2145 :\n",
        "                    S1A1_205.append(S1HSV_imgA1A1_5[i][j])"
      ],
      "execution_count": null,
      "outputs": []
    },
    {
      "cell_type": "code",
      "metadata": {
        "id": "6h56gClIDP6S"
      },
      "source": [
        "S1A1_305= list()\n",
        "S1A2_105 = list()\n",
        "for i in range(S1HSV_imgA1A2_5.shape[0]): \n",
        "     for j in range(S1HSV_imgA1A2_5.shape[1]): \n",
        "                if 1770<i<1880 and 1700<j<1830 :\n",
        "                    S1A1_305.append(S1HSV_imgA1A2_5[i][j])\n",
        "                if 1770<i<1880 and 2015<j<2145 :\n",
        "                    S1A2_105.append(S1HSV_imgA1A2_5[i][j])"
      ],
      "execution_count": null,
      "outputs": []
    },
    {
      "cell_type": "code",
      "metadata": {
        "id": "JVsVZdXSDP6S"
      },
      "source": [
        "S1A1_405= list()\n",
        "S1A3_105 = list()\n",
        "for i in range(S1HSV_imgA1A3_5.shape[0]): \n",
        "     for j in range(S1HSV_imgA1A3_5.shape[1]): \n",
        "                if 1770<i<1880 and 1700<j<1830 :\n",
        "                    S1A1_405.append(S1HSV_imgA1A3_5[i][j])\n",
        "                if 1770<i<1880 and 2015<j<2145 :\n",
        "                    S1A3_105.append(S1HSV_imgA1A3_5[i][j])   "
      ],
      "execution_count": null,
      "outputs": []
    },
    {
      "cell_type": "code",
      "metadata": {
        "id": "zEQ48ZqCDP6S"
      },
      "source": [
        "S1A1_505= list()\n",
        "S1A3_5105 = list()\n",
        "for i in range(S1HSV_imgA1A3_55.shape[0]): \n",
        "     for j in range(S1HSV_imgA1A3_55.shape[1]): \n",
        "                if 1770<i<1880 and 1700<j<1830 :\n",
        "                    S1A1_505.append(S1HSV_imgA1A3_55[i][j])\n",
        "                if 1770<i<1880 and 2015<j<2145 :\n",
        "                    S1A3_5105.append(S1HSV_imgA1A3_55[i][j])"
      ],
      "execution_count": null,
      "outputs": []
    },
    {
      "cell_type": "code",
      "metadata": {
        "id": "oPjf9E56DP6T"
      },
      "source": [
        "S1A1_605= list()\n",
        "S1A4_105 = list()\n",
        "for i in range(S1HSV_imgA1A4_5.shape[0]): \n",
        "     for j in range(S1HSV_imgA1A4_5.shape[1]): \n",
        "                if 1770<i<1880 and 1700<j<1830 :\n",
        "                    S1A1_605.append(S1HSV_imgA1A4_5[i][j])\n",
        "                if 1770<i<1880 and 2015<j<2145 :\n",
        "                    S1A4_105.append(S1HSV_imgA1A4_5[i][j])"
      ],
      "execution_count": null,
      "outputs": []
    },
    {
      "cell_type": "code",
      "metadata": {
        "id": "qGHXVnFXDP6T"
      },
      "source": [
        "S1A1_705= list()\n",
        "S1B1_105 = list()\n",
        "for i in range(S1HSV_imgA1B1_5.shape[0]): \n",
        "     for j in range(S1HSV_imgA1B1_5.shape[1]): \n",
        "                if 1770<i<1880 and 1700<j<1830 :\n",
        "                    S1A1_705.append(S1HSV_imgA1B1_5[i][j])\n",
        "                if 1770<i<1880 and 2015<j<2145 :\n",
        "                    S1B1_105.append(S1HSV_imgA1B1_5[i][j])"
      ],
      "execution_count": null,
      "outputs": []
    },
    {
      "cell_type": "code",
      "metadata": {
        "id": "nVtbCmulDP6U"
      },
      "source": [
        "S1A1_805= list()\n",
        "S1B2_105 = list()\n",
        "for i in range(S1HSV_imgA1B2_5.shape[0]): \n",
        "     for j in range(S1HSV_imgA1B2_5.shape[1]): \n",
        "                if 1770<i<1880 and 1700<j<1830 :\n",
        "                    S1A1_805.append(S1HSV_imgA1B2_5[i][j])\n",
        "                if 1770<i<1880 and 2015<j<2145 :\n",
        "                    S1B2_105.append(S1HSV_imgA1B2_5[i][j])"
      ],
      "execution_count": null,
      "outputs": []
    },
    {
      "cell_type": "code",
      "metadata": {
        "id": "ENMw4C8sDP6U"
      },
      "source": [
        "S1A1_905= list()\n",
        "S1B3_105 = list()\n",
        "for i in range(S1HSV_imgA1B3_5.shape[0]): \n",
        "     for j in range(S1HSV_imgA1B3_.5shape[1]): \n",
        "                if 1770<i<1880 and 1700<j<1830 :\n",
        "                    S1A1_905.append(S1HSV_imgA1B3_5[i][j])\n",
        "                if 1770<i<1880 and 2015<j<2145 :\n",
        "                    S1B3_105.append(S1HSV_imgA1B3_5[i][j])"
      ],
      "execution_count": null,
      "outputs": []
    },
    {
      "cell_type": "code",
      "metadata": {
        "id": "-STrUYBnDP6U"
      },
      "source": [
        "S1A1_1005= list()\n",
        "S1B4_105 = list()\n",
        "for i in range(S1HSV_imgA1B4_5.shape[0]): \n",
        "     for j in range(S1HSV_imgA1B4_5.shape[1]): \n",
        "                if 1770<i<1880 and 1700<j<1830 :\n",
        "                    S1A1_1005.append(S1HSV_imgA1B4_5[i][j])\n",
        "                if 1770<i<1880 and 2015<j<2145 :\n",
        "                    S1B4_105.append(S1HSV_imgA1B4_5[i][j])"
      ],
      "execution_count": null,
      "outputs": []
    },
    {
      "cell_type": "code",
      "metadata": {
        "id": "rBK7VE0NDP6V"
      },
      "source": [
        "S1A1_1105= list()\n",
        "S1C1_205 = list()\n",
        "for i in range(S1HSV_imgA1C1_5.shape[0]): \n",
        "     for j in range(S1HSV_imgA1C1_5.shape[1]): \n",
        "                if 1770<i<1880 and 1700<j<1830 :\n",
        "                    S1A1_1105.append(S1HSV_imgA1C1_5[i][j])\n",
        "                if 1770<i<1880 and 2015<j<2145 :\n",
        "                    S1C1_205.append(S1HSV_imgA1C1_5[i][j])   "
      ],
      "execution_count": null,
      "outputs": []
    },
    {
      "cell_type": "code",
      "metadata": {
        "id": "ExItvHGqDP6V"
      },
      "source": [
        "S1A1_1205= list()\n",
        "S1C2_105 = list()\n",
        "for i in range(S1HSV_imgA1C2_5.shape[0]): \n",
        "     for j in range(S1HSV_imgA1C2_5.shape[1]): \n",
        "                if 1770<i<1880 and 1700<j<1830 :\n",
        "                    S1A1_1205.append(S1HSV_imgA1C2_5[i][j])\n",
        "                if 1770<i<1880 and 2015<j<2145 :\n",
        "                    S1C2_105.append(S1HSV_imgA1C2_5[i][j])   "
      ],
      "execution_count": null,
      "outputs": []
    },
    {
      "cell_type": "code",
      "metadata": {
        "id": "0qnP19xGDP6V"
      },
      "source": [
        "S1A1_1305= list()\n",
        "S1C3_105 = list()\n",
        "for i in range(S1HSV_imgA1C3_5.shape[0]): \n",
        "     for j in range(S1HSV_imgA1C3_5.shape[1]): \n",
        "                if 1770<i<1880 and 1700<j<1830 :\n",
        "                    S1A1_1305.append(S1HSV_imgA1C3_5[i][j])\n",
        "                if 1770<i<1880 and 2015<j<2145 :\n",
        "                    S1C3_105.append(S1HSV_imgA1C3_5[i][j])   "
      ],
      "execution_count": null,
      "outputs": []
    },
    {
      "cell_type": "code",
      "metadata": {
        "id": "9j7QnojxDP6V"
      },
      "source": [
        "S1A1_1405= list()\n",
        "S1C4_105 = list()\n",
        "for i in range(S1HSV_imgA1C4_5.shape[0]): \n",
        "     for j in range(S1HSV_imgA1C4_5.shape[1]): \n",
        "                if 1770<i<1880 and 1700<j<1830 :\n",
        "                    S1A1_1405.append(S1HSV_imgA1C4_5[i][j])\n",
        "                if 1770<i<1880 and 2015<j<2145 :\n",
        "                    S1C4_105.append(S1HSV_imgA1C4_5[i][j])"
      ],
      "execution_count": null,
      "outputs": []
    },
    {
      "cell_type": "code",
      "metadata": {
        "id": "62X_p0RsDP6W"
      },
      "source": [
        "S1A1_1505= list()\n",
        "S1D2_105 = list()\n",
        "for i in range(S1HSV_imgA1D2_5.shape[0]): \n",
        "     for j in range(S1HSV_imgA1D2_5.shape[1]): \n",
        "                if 1770<i<1880 and 1700<j<1830 :\n",
        "                    S1A1_1505.append(S1HSV_imgA1D2_5[i][j])\n",
        "                if 1770<i<1880 and 2015<j<2145 :\n",
        "                    S1D2_105.append(S1HSV_imgA1D2_5[i][j])   "
      ],
      "execution_count": null,
      "outputs": []
    },
    {
      "cell_type": "code",
      "metadata": {
        "id": "NLsRKtg1DP6W"
      },
      "source": [
        "S1A1_1605= list()\n",
        "S1D3_105 = list()\n",
        "for i in range(S1HSV_imgA1D3_5.shape[0]): \n",
        "     for j in range(S1HSV_imgA1D3_5.shape[1]): \n",
        "                if 1770<i<1880 and 1700<j<1830 :\n",
        "                    S1A1_1605.append(S1HSV_imgA1D3_5[i][j])\n",
        "                if 1770<i<1880 and 2015<j<2145 :\n",
        "                    S1D3_105.append(S1HSV_imgA1D3_5[i][j])   "
      ],
      "execution_count": null,
      "outputs": []
    },
    {
      "cell_type": "code",
      "metadata": {
        "id": "qKSVIuX1DP6W"
      },
      "source": [
        "S1A1_1705= list()\n",
        "S1D4_105 = list()\n",
        "for i in range(S1HSV_imgA1D4_5.shape[0]): \n",
        "     for j in range(S1HSV_imgA1D4_5.shape[1]): \n",
        "                if 1770<i<1880 and 1700<j<1830 :\n",
        "                    S1A1_1705.append(S1HSV_imgA1D4_5[i][j])\n",
        "                if 1770<i<1880 and 2015<j<2145 :\n",
        "                    S1D4_105.append(S1HSV_imgA1D4_5[i][j])"
      ],
      "execution_count": null,
      "outputs": []
    },
    {
      "cell_type": "markdown",
      "metadata": {
        "id": "cuZZvNfUDUka"
      },
      "source": [
        "###Img 6"
      ]
    },
    {
      "cell_type": "code",
      "metadata": {
        "id": "MP2deFXiDUka"
      },
      "source": [
        "S1A1_106= list()\n",
        "S1A1_206 = list()\n",
        "for i in range(S1HSV_imgA1A1_6.shape[0]): #ให้ i รันตาม row หรือ shape[0] คือแถว มีทั้งหมด 4032 แถว ของภาพที่ปรับขนาดมาแล้ว\n",
        "     for j in range(S1HSV_imgA1A1_.6shape[1]): #ให้ j รันตาม colum มีทั้งหมด 3024 colum เช่น แถวที่ 1 เข้ามาให้รันครบ 3024colum\n",
        "                if 1770<i<1880 and 1700<j<1830 :\n",
        "                    S1A1_106.append(S1HSV_imgA1A1_6[i][j])\n",
        "                if 1770<i<1880 and 2015<j<2145 :\n",
        "                    S1A1_206.append(S1HSV_imgA1A1_6[i][j])"
      ],
      "execution_count": null,
      "outputs": []
    },
    {
      "cell_type": "code",
      "metadata": {
        "id": "Vt0dVsq9DUkb"
      },
      "source": [
        "S1A1_306= list()\n",
        "S1A2_106 = list()\n",
        "for i in range(S1HSV_imgA1A2_6.shape[0]): \n",
        "     for j in range(S1HSV_imgA1A2_6.shape[1]): \n",
        "                if 1770<i<1880 and 1700<j<1830 :\n",
        "                    S1A1_306.append(S1HSV_imgA1A2_6[i][j])\n",
        "                if 1770<i<1880 and 2015<j<2145 :\n",
        "                    S1A2_106.append(S1HSV_imgA1A2_6[i][j])"
      ],
      "execution_count": null,
      "outputs": []
    },
    {
      "cell_type": "code",
      "metadata": {
        "id": "5Fj7IeWsDUkb"
      },
      "source": [
        "S1A1_406= list()\n",
        "S1A3_106 = list()\n",
        "for i in range(S1HSV_imgA1A3_6.shape[0]): \n",
        "     for j in range(S1HSV_imgA1A3_6.shape[1]): \n",
        "                if 1770<i<1880 and 1700<j<1830 :\n",
        "                    S1A1_406.append(S1HSV_imgA1A3_6[i][j])\n",
        "                if 1770<i<1880 and 2015<j<2145 :\n",
        "                    S1A3_106.append(S1HSV_imgA1A3_6[i][j])   "
      ],
      "execution_count": null,
      "outputs": []
    },
    {
      "cell_type": "code",
      "metadata": {
        "id": "u_t38e8PDUkc"
      },
      "source": [
        "S1A1_506= list()\n",
        "S1A3_5106 = list()\n",
        "for i in range(S1HSV_imgA1A3_56.shape[0]): \n",
        "     for j in range(S1HSV_imgA1A3_56.shape[1]): \n",
        "                if 1770<i<1880 and 1700<j<1830 :\n",
        "                    S1A1_506.append(S1HSV_imgA1A3_56[i][j])\n",
        "                if 1770<i<1880 and 2015<j<2145 :\n",
        "                    S1A3_5106.append(S1HSV_imgA1A3_56[i][j])"
      ],
      "execution_count": null,
      "outputs": []
    },
    {
      "cell_type": "code",
      "metadata": {
        "id": "yG_HLL8uDUkc"
      },
      "source": [
        "S1A1_606= list()\n",
        "S1A4_106= list()\n",
        "for i in range(S1HSV_imgA1A4_6.shape[0]): \n",
        "     for j in range(S1HSV_imgA1A4_6.shape[1]): \n",
        "                if 1770<i<1880 and 1700<j<1830 :\n",
        "                    S1A1_606.append(S1HSV_imgA1A4_6[i][j])\n",
        "                if 1770<i<1880 and 2015<j<2145 :\n",
        "                    S1A4_106.append(S1HSV_imgA1A4_6[i][j])"
      ],
      "execution_count": null,
      "outputs": []
    },
    {
      "cell_type": "code",
      "metadata": {
        "id": "r1GE6VxWDUkc"
      },
      "source": [
        "S1A1_706= list()\n",
        "S1B1_106 = list()\n",
        "for i in range(S1HSV_imgA1B1_6.shape[0]): \n",
        "     for j in range(S1HSV_imgA1B1_6.shape[1]): \n",
        "                if 1770<i<1880 and 1700<j<1830 :\n",
        "                    S1A1_706.append(S1HSV_imgA1B1_6[i][j])\n",
        "                if 1770<i<1880 and 2015<j<2145 :\n",
        "                    S1B1_106.append(S1HSV_imgA1B1_6[i][j])"
      ],
      "execution_count": null,
      "outputs": []
    },
    {
      "cell_type": "code",
      "metadata": {
        "id": "vywa2jErDUkd"
      },
      "source": [
        "S1A1_806= list()\n",
        "S1B2_106 = list()\n",
        "for i in range(S1HSV_imgA1B2_6.shape[0]): \n",
        "     for j in range(S1HSV_imgA1B2_6.shape[1]): \n",
        "                if 1770<i<1880 and 1700<j<1830 :\n",
        "                    S1A1_806.append(S1HSV_imgA1B2_6[i][j])\n",
        "                if 1770<i<1880 and 2015<j<2145 :\n",
        "                    S1B2_106.append(S1HSV_imgA1B2_6[i][j])"
      ],
      "execution_count": null,
      "outputs": []
    },
    {
      "cell_type": "code",
      "metadata": {
        "id": "F98JEwaJDUkd"
      },
      "source": [
        "S1A1_906= list()\n",
        "S1B3_106 = list()\n",
        "for i in range(S1HSV_imgA1B3_6.shape[0]): \n",
        "     for j in range(S1HSV_imgA1B3_6.shape[1]): \n",
        "                if 1770<i<1880 and 1700<j<1830 :\n",
        "                    S1A1_90.append(S1HSV_imgA1B3_6[i][j])\n",
        "                if 1770<i<1880 and 2015<j<2145 :\n",
        "                    S1B3_10.append(S1HSV_imgA1B3_6[i][j])"
      ],
      "execution_count": null,
      "outputs": []
    },
    {
      "cell_type": "code",
      "metadata": {
        "id": "yDQffXrsDUkd"
      },
      "source": [
        "S1A1_1006= list()\n",
        "S1B4_106 = list()\n",
        "for i in range(S1HSV_imgA1B4_6.shape[0]): \n",
        "     for j in range(S1HSV_imgA1B4_6.shape[1]): \n",
        "                if 1770<i<1880 and 1700<j<1830 :\n",
        "                    S1A1_1006.append(S1HSV_imgA1B4_6[i][j])\n",
        "                if 1770<i<1880 and 2015<j<2145 :\n",
        "                    S1B4_106.append(S1HSV_imgA1B4_6[i][j])"
      ],
      "execution_count": null,
      "outputs": []
    },
    {
      "cell_type": "code",
      "metadata": {
        "id": "q1ex3P2iDUke"
      },
      "source": [
        "S1A1_1106= list()\n",
        "S1C1_206 = list()\n",
        "for i in range(S1HSV_imgA1C1_6.shape[0]): \n",
        "     for j in range(S1HSV_imgA1C1_6.shape[1]): \n",
        "                if 1770<i<1880 and 1700<j<1830 :\n",
        "                    S1A1_1106.append(S1HSV_imgA1C1_6[i][j])\n",
        "                if 1770<i<1880 and 2015<j<2145 :\n",
        "                    S1C1_206.append(S1HSV_imgA1C1_6[i][j])   "
      ],
      "execution_count": null,
      "outputs": []
    },
    {
      "cell_type": "code",
      "metadata": {
        "id": "Q0WIE9hsDUkf"
      },
      "source": [
        "S1A1_1206= list()\n",
        "S1C2_106 = list()\n",
        "for i in range(S1HSV_imgA1C2_.6shape[0]): \n",
        "     for j in range(S1HSV_imgA1C2_6.shape[1]): \n",
        "                if 1770<i<1880 and 1700<j<1830 :\n",
        "                    S1A1_1206.append(S1HSV_imgA1C2_6[i][j])\n",
        "                if 1770<i<1880 and 2015<j<2145 :\n",
        "                    S1C2_106.append(S1HSV_imgA1C2_6[i][j])   "
      ],
      "execution_count": null,
      "outputs": []
    },
    {
      "cell_type": "code",
      "metadata": {
        "id": "nLduFrBMDUkf"
      },
      "source": [
        "S1A1_1306= list()\n",
        "S1C3_106 = list()\n",
        "for i in range(S1HSV_imgA1C3_6.shape[0]): \n",
        "     for j in range(S1HSV_imgA1C3_6.shape[1]): \n",
        "                if 1770<i<1880 and 1700<j<1830 :\n",
        "                    S1A1_1306.append(S1HSV_imgA1C3_6[i][j])\n",
        "                if 1770<i<1880 and 2015<j<2145 :\n",
        "                    S1C3_106.append(S1HSV_imgA1C3_6[i][j])   "
      ],
      "execution_count": null,
      "outputs": []
    },
    {
      "cell_type": "code",
      "metadata": {
        "id": "0Bi-Bt9EDUkg"
      },
      "source": [
        "S1A1_140= list()\n",
        "S1C4_10 = list()\n",
        "for i in range(S1HSV_imgA1C4_.shape[0]): \n",
        "     for j in range(S1HSV_imgA1C4_.shape[1]): \n",
        "                if 1770<i<1880 and 1700<j<1830 :\n",
        "                    S1A1_140.append(S1HSV_imgA1C4_[i][j])\n",
        "                if 1770<i<1880 and 2015<j<2145 :\n",
        "                    S1C4_10.append(S1HSV_imgA1C4_[i][j])"
      ],
      "execution_count": null,
      "outputs": []
    },
    {
      "cell_type": "code",
      "metadata": {
        "id": "k_XHO4YxDUkg"
      },
      "source": [
        "S1A1_1506= list()\n",
        "S1D2_106 = list()\n",
        "for i in range(S1HSV_imgA1D2_6.shape[0]): \n",
        "     for j in range(S1HSV_imgA1D2_6.shape[1]): \n",
        "                if 1770<i<1880 and 1700<j<1830 :\n",
        "                    S1A1_1506.append(S1HSV_imgA1D2_6[i][j])\n",
        "                if 1770<i<1880 and 2015<j<2145 :\n",
        "                    S1D2_106.append(S1HSV_imgA1D2_6[i][j])   "
      ],
      "execution_count": null,
      "outputs": []
    },
    {
      "cell_type": "code",
      "metadata": {
        "id": "BOsfTPJYDUkh"
      },
      "source": [
        "S1A1_1606= list()\n",
        "S1D3_106 = list()\n",
        "for i in range(S1HSV_imgA1D3_6.shape[0]): \n",
        "     for j in range(S1HSV_imgA1D3_6.shape[1]): \n",
        "                if 1770<i<1880 and 1700<j<1830 :\n",
        "                    S1A1_1606.append(S1HSV_imgA1D3_6[i][j])\n",
        "                if 1770<i<1880 and 2015<j<2145 :\n",
        "                    S1D3_106.append(S1HSV_imgA1D3_6[i][j])   "
      ],
      "execution_count": null,
      "outputs": []
    },
    {
      "cell_type": "code",
      "metadata": {
        "id": "W00C_d2pDUkh"
      },
      "source": [
        "S1A1_1706= list()\n",
        "S1D4_106 = list()\n",
        "for i in range(S1HSV_imgA1D4_6.shape[0]): \n",
        "     for j in range(S1HSV_imgA1D4_6.shape[1]): \n",
        "                if 1770<i<1880 and 1700<j<1830 :\n",
        "                    S1A1_1706.append(S1HSV_imgA1D4_6[i][j])\n",
        "                if 1770<i<1880 and 2015<j<2145 :\n",
        "                    S1D4_106.append(S1HSV_imgA1D4_6[i][j])"
      ],
      "execution_count": null,
      "outputs": []
    },
    {
      "cell_type": "markdown",
      "metadata": {
        "id": "9x5GxZFyDeDZ"
      },
      "source": [
        "###Img 7"
      ]
    },
    {
      "cell_type": "code",
      "metadata": {
        "id": "wpLAOCAkDeDa"
      },
      "source": [
        "S1A1_107= list()\n",
        "S1A1_2067 = list()\n",
        "for i in range(S1HSV_imgA1A1_7.shape[0]): #ให้ i รันตาม row หรือ shape[0] คือแถว มีทั้งหมด 4032 แถว ของภาพที่ปรับขนาดมาแล้ว\n",
        "     for j in range(S1HSV_imgA1A1_7.shape[1]): #ให้ j รันตาม colum มีทั้งหมด 3024 colum เช่น แถวที่ 1 เข้ามาให้รันครบ 3024colum\n",
        "                if 1770<i<1880 and 1700<j<1830 :\n",
        "                    S1A1_107.append(S1HSV_imgA1A1_7[i][j])\n",
        "                if 1770<i<1880 and 2015<j<2145 :\n",
        "                    S1A1_207.append(S1HSV_imgA1A1_7[i][j])"
      ],
      "execution_count": null,
      "outputs": []
    },
    {
      "cell_type": "code",
      "metadata": {
        "id": "kixohtpxDeDa"
      },
      "source": [
        "S1A1_307= list()\n",
        "S1A2_107 = list()\n",
        "for i in range(S1HSV_imgA1A2_7.shape[0]): \n",
        "     for j in range(S1HSV_imgA1A2_7.shape[1]): \n",
        "                if 1770<i<1880 and 1700<j<1830 :\n",
        "                    S1A1_307.append(S1HSV_imgA1A2_7[i][j])\n",
        "                if 1770<i<1880 and 2015<j<2145 :\n",
        "                    S1A2_107.append(S1HSV_imgA1A2_7[i][j])"
      ],
      "execution_count": null,
      "outputs": []
    },
    {
      "cell_type": "code",
      "metadata": {
        "id": "rFkwPlbODeDd"
      },
      "source": [
        "S1A1_407= list()\n",
        "S1A3_107 = list()\n",
        "for i in range(S1HSV_imgA1A3_7.shape[0]): \n",
        "     for j in range(S1HSV_imgA1A3_7.shape[1]): \n",
        "                if 1770<i<1880 and 1700<j<1830 :\n",
        "                    S1A1_407.append(S1HSV_imgA1A3_7[i][j])\n",
        "                if 1770<i<1880 and 2015<j<2145 :\n",
        "                    S1A3_107.append(S1HSV_imgA1A3_7[i][j])   "
      ],
      "execution_count": null,
      "outputs": []
    },
    {
      "cell_type": "code",
      "metadata": {
        "id": "sLmyTsTMDeDe"
      },
      "source": [
        "S1A1_507= list()\n",
        "S1A3_5107 = list()\n",
        "for i in range(S1HSV_imgA1A3_57.shape[0]): \n",
        "     for j in range(S1HSV_imgA1A3_57.shape[1]): \n",
        "                if 1770<i<1880 and 1700<j<1830 :\n",
        "                    S1A1_507.append(S1HSV_imgA1A3_57[i][j])\n",
        "                if 1770<i<1880 and 2015<j<2145 :\n",
        "                    S1A3_5107.append(S1HSV_imgA1A3_57[i][j])"
      ],
      "execution_count": null,
      "outputs": []
    },
    {
      "cell_type": "code",
      "metadata": {
        "id": "mDJTY3Z9DeDf"
      },
      "source": [
        "S1A1_607= list()\n",
        "S1A4_107 = list()\n",
        "for i in range(S1HSV_imgA1A4_7.shape[0]): \n",
        "     for j in range(S1HSV_imgA1A4_7.shape[1]): \n",
        "                if 1770<i<1880 and 1700<j<1830 :\n",
        "                    S1A1_607.append(S1HSV_imgA1A4_7[i][j])\n",
        "                if 1770<i<1880 and 2015<j<2145 :\n",
        "                    S1A4_107.append(S1HSV_imgA1A4_7[i][j])"
      ],
      "execution_count": null,
      "outputs": []
    },
    {
      "cell_type": "code",
      "metadata": {
        "id": "ZD7g8jF0DeDg"
      },
      "source": [
        "S1A1_707= list()\n",
        "S1B1_107 = list()\n",
        "for i in range(S1HSV_imgA1B1_7.shape[0]): \n",
        "     for j in range(S1HSV_imgA1B1_7.shape[1]): \n",
        "                if 1770<i<1880 and 1700<j<1830 :\n",
        "                    S1A1_707.append(S1HSV_imgA1B1_7[i][j])\n",
        "                if 1770<i<1880 and 2015<j<2145 :\n",
        "                    S1B1_107.append(S1HSV_imgA1B1_7i][j])"
      ],
      "execution_count": null,
      "outputs": []
    },
    {
      "cell_type": "code",
      "metadata": {
        "id": "NQ9lrM9RDeDh"
      },
      "source": [
        "S1A1_807= list()\n",
        "S1B2_107 = list()\n",
        "for i in range(S1HSV_imgA1B2_7.shape[0]): \n",
        "     for j in range(S1HSV_imgA1B2_7.shape[1]): \n",
        "                if 1770<i<1880 and 1700<j<1830 :\n",
        "                    S1A1_807.append(S1HSV_imgA1B2_7[i][j])\n",
        "                if 1770<i<1880 and 2015<j<2145 :\n",
        "                    S1B2_107.append(S1HSV_imgA1B2_7[i][j])"
      ],
      "execution_count": null,
      "outputs": []
    },
    {
      "cell_type": "code",
      "metadata": {
        "id": "-nhVMEgjDeDi"
      },
      "source": [
        "S1A1_907= list()\n",
        "S1B3_107 = list()\n",
        "for i in range(S1HSV_imgA1B3_7.shape[0]): \n",
        "     for j in range(S1HSV_imgA1B3_7.shape[1]): \n",
        "                if 1770<i<1880 and 1700<j<1830 :\n",
        "                    S1A1_907.append(S1HSV_imgA1B3_7[i][j])\n",
        "                if 1770<i<1880 and 2015<j<2145 :\n",
        "                    S1B3_107.append(S1HSV_imgA1B3_7[i][j])"
      ],
      "execution_count": null,
      "outputs": []
    },
    {
      "cell_type": "code",
      "metadata": {
        "id": "cybT3Vz-DeDi"
      },
      "source": [
        "S1A1_1007= list()\n",
        "S1B4_107 = list()\n",
        "for i in range(S1HSV_imgA1B4_7.shape[0]): \n",
        "     for j in range(S1HSV_imgA1B4_7.shape[1]): \n",
        "                if 1770<i<1880 and 1700<j<1830 :\n",
        "                    S1A1_1007.append(S1HSV_imgA1B4_7[i][j])\n",
        "                if 1770<i<1880 and 2015<j<2145 :\n",
        "                    S1B4_107.append(S1HSV_imgA1B4_7[i][j])"
      ],
      "execution_count": null,
      "outputs": []
    },
    {
      "cell_type": "code",
      "metadata": {
        "id": "E6BEAu_kDeDi"
      },
      "source": [
        "S1A1_1107= list()\n",
        "S1C1_207 = list()\n",
        "for i in range(S1HSV_imgA1C1_7.shape[0]): \n",
        "     for j in range(S1HSV_imgA1C1_7.shape[1]): \n",
        "                if 1770<i<1880 and 1700<j<1830 :\n",
        "                    S1A1_1107.append(S1HSV_imgA1C1_7[i][j])\n",
        "                if 1770<i<1880 and 2015<j<2145 :\n",
        "                    S1C1_207append(S1HSV_imgA1C1_7[i][j])   "
      ],
      "execution_count": null,
      "outputs": []
    },
    {
      "cell_type": "code",
      "metadata": {
        "id": "XQkYG4QKDeDj"
      },
      "source": [
        "S1A1_1207= list()\n",
        "S1C2_107 = list()\n",
        "for i in range(S1HSV_imgA1C2_7.shape[0]): \n",
        "     for j in range(S1HSV_imgA1C2_7.shape[1]): \n",
        "                if 1770<i<1880 and 1700<j<1830 :\n",
        "                    S1A1_1207.append(S1HSV_imgA1C2_7[i][j])\n",
        "                if 1770<i<1880 and 2015<j<2145 :\n",
        "                    S1C2_107.append(S1HSV_imgA1C2_7[i][j])   "
      ],
      "execution_count": null,
      "outputs": []
    },
    {
      "cell_type": "code",
      "metadata": {
        "id": "4UnbnbmwDeDj"
      },
      "source": [
        "S1A1_1307= list()\n",
        "S1C3_107 = list()\n",
        "for i in range(S1HSV_imgA1C3_7.shape[0]): \n",
        "     for j in range(S1HSV_imgA1C3_7.shape[1]): \n",
        "                if 1770<i<1880 and 1700<j<1830 :\n",
        "                    S1A1_1307.append(S1HSV_imgA1C3_7[i][j])\n",
        "                if 1770<i<1880 and 2015<j<2145 :\n",
        "                    S1C3_107.append(S1HSV_imgA1C3_[7i][j])   "
      ],
      "execution_count": null,
      "outputs": []
    },
    {
      "cell_type": "code",
      "metadata": {
        "id": "8SkpC8iyDeDj"
      },
      "source": [
        "S1A1_1407= list()\n",
        "S1C4_107 = list()\n",
        "for i in range(S1HSV_imgA1C4_7.shape[0]): \n",
        "     for j in range(S1HSV_imgA1C4_7.shape[1]): \n",
        "                if 1770<i<1880 and 1700<j<1830 :\n",
        "                    S1A1_1407.append(S1HSV_imgA1C4_7[i][j])\n",
        "                if 1770<i<1880 and 2015<j<2145 :\n",
        "                    S1C4_107.append(S1HSV_imgA1C4_7[i][j])"
      ],
      "execution_count": null,
      "outputs": []
    },
    {
      "cell_type": "code",
      "metadata": {
        "id": "1CzQyAQ4DeDk"
      },
      "source": [
        "S1A1_1507= list()\n",
        "S1D2_107 = list()\n",
        "for i in range(S1HSV_imgA1D2_7.shape[0]): \n",
        "     for j in range(S1HSV_imgA1D2_7.shape[1]): \n",
        "                if 1770<i<1880 and 1700<j<1830 :\n",
        "                    S1A1_1507.append(S1HSV_imgA1D2_7[i][j])\n",
        "                if 1770<i<1880 and 2015<j<2145 :\n",
        "                    S1D2_107.append(S1HSV_imgA1D2_7[i][j])   "
      ],
      "execution_count": null,
      "outputs": []
    },
    {
      "cell_type": "code",
      "metadata": {
        "id": "qiQGzB1TDeDk"
      },
      "source": [
        "S1A1_1607= list()\n",
        "S1D3_107 = list()\n",
        "for i in range(S1HSV_imgA1D3_7.shape[0]): \n",
        "     for j in range(S1HSV_imgA1D3_7.shape[1]): \n",
        "                if 1770<i<1880 and 1700<j<1830 :\n",
        "                    S1A1_1607.append(S1HSV_imgA1D3_7[i][j])\n",
        "                if 1770<i<1880 and 2015<j<2145 :\n",
        "                    S1D3_107.append(S1HSV_imgA1D3_7[i][j])   "
      ],
      "execution_count": null,
      "outputs": []
    },
    {
      "cell_type": "code",
      "metadata": {
        "id": "p0JXOzowDeDk"
      },
      "source": [
        "S1A1_1707= list()\n",
        "S1D4_107 = list()\n",
        "for i in range(S1HSV_imgA1D4_7.shape[0]): \n",
        "     for j in range(S1HSV_imgA1D4_7.shape[1]): \n",
        "                if 1770<i<1880 and 1700<j<1830 :\n",
        "                    S1A1_1707.append(S1HSV_imgA1D4_7[i][j])\n",
        "                if 1770<i<1880 and 2015<j<2145 :\n",
        "                    S1D4_107.append(S1HSV_imgA1D4_7[i][j])"
      ],
      "execution_count": null,
      "outputs": []
    },
    {
      "cell_type": "markdown",
      "metadata": {
        "id": "WEm7ORjCDjuW"
      },
      "source": [
        "###Img 8"
      ]
    },
    {
      "cell_type": "code",
      "metadata": {
        "id": "yhlCm9OADjuX"
      },
      "source": [
        "S1A1_108= list()\n",
        "S1A1_208 = list()\n",
        "for i in range(S1HSV_imgA1A1_8.shape[0]): #ให้ i รันตาม row หรือ shape[0] คือแถว มีทั้งหมด 4032 แถว ของภาพที่ปรับขนาดมาแล้ว\n",
        "     for j in range(S1HSV_imgA1A1_8.shape[1]): #ให้ j รันตาม colum มีทั้งหมด 3024 colum เช่น แถวที่ 1 เข้ามาให้รันครบ 3024colum\n",
        "                if 1770<i<1880 and 1700<j<1830 :\n",
        "                    S1A1_108.append(S1HSV_imgA1A1_8[i][j])\n",
        "                if 1770<i<1880 and 2015<j<2145 :\n",
        "                    S1A1_208.append(S1HSV_imgA1A1_8[i][j])"
      ],
      "execution_count": null,
      "outputs": []
    },
    {
      "cell_type": "code",
      "metadata": {
        "id": "x_-ioxp_DjuX"
      },
      "source": [
        "S1A1_308= list()\n",
        "S1A2_108 = list()\n",
        "for i in range(S1HSV_imgA1A2_8shape[0]): \n",
        "     for j in range(S1HSV_imgA1A2_8shape[1]): \n",
        "                if 1770<i<1880 and 1700<j<1830 :\n",
        "                    S1A1_308.append(S1HSV_imgA1A2_8[i][j])\n",
        "                if 1770<i<1880 and 2015<j<2145 :\n",
        "                    S1A2_108.append(S1HSV_imgA1A2_8[i][j])"
      ],
      "execution_count": null,
      "outputs": []
    },
    {
      "cell_type": "code",
      "metadata": {
        "id": "mKEekGHnDjuX"
      },
      "source": [
        "S1A1_408= list()\n",
        "S1A3_108 = list()\n",
        "for i in range(S1HSV_imgA1A3_8.shape[0]): \n",
        "     for j in range(S1HSV_imgA1A3_8.shape[1]): \n",
        "                if 1770<i<1880 and 1700<j<1830 :\n",
        "                    S1A1_408.append(S1HSV_imgA1A3_8[i][j])\n",
        "                if 1770<i<1880 and 2015<j<2145 :\n",
        "                    S1A3_108.append(S1HSV_imgA1A3_8[i][j])   "
      ],
      "execution_count": null,
      "outputs": []
    },
    {
      "cell_type": "code",
      "metadata": {
        "id": "gV-PUz0tDjuY"
      },
      "source": [
        "S1A1_508= list()\n",
        "S1A3_5108 = list()\n",
        "for i in range(S1HSV_imgA1A3_58.shape[0]): \n",
        "     for j in range(S1HSV_imgA1A3_58.shape[1]): \n",
        "                if 1770<i<1880 and 1700<j<1830 :\n",
        "                    S1A1_508.append(S1HSV_imgA1A3_58[i][j])\n",
        "                if 1770<i<1880 and 2015<j<2145 :\n",
        "                    S1A3_5108.append(S1HSV_imgA1A3_58[i][j])"
      ],
      "execution_count": null,
      "outputs": []
    },
    {
      "cell_type": "code",
      "metadata": {
        "id": "7SIZ50k1DjuY"
      },
      "source": [
        "S1A1_608= list()\n",
        "S1A4_108 = list()\n",
        "for i in range(S1HSV_imgA1A4_8.shape[0]): \n",
        "     for j in range(S1HSV_imgA1A4_8.shape[1]): \n",
        "                if 1770<i<1880 and 1700<j<1830 :\n",
        "                    S1A1_608.append(S1HSV_imgA1A4_8[i][j])\n",
        "                if 1770<i<1880 and 2015<j<2145 :\n",
        "                    S1A4_108append(S1HSV_imgA1A4_8[i][j])"
      ],
      "execution_count": null,
      "outputs": []
    },
    {
      "cell_type": "code",
      "metadata": {
        "id": "hNDoVTRjDjuY"
      },
      "source": [
        "S1A1_708= list()\n",
        "S1B1_108 = list()\n",
        "for i in range(S1HSV_imgA1B1_8.shape[0]): \n",
        "     for j in range(S1HSV_imgA1B1_8.shape[1]): \n",
        "                if 1770<i<1880 and 1700<j<1830 :\n",
        "                    S1A1_708.append(S1HSV_imgA1B1_8i][j])\n",
        "                if 1770<i<1880 and 2015<j<2145 :\n",
        "                    S1B1_108.append(S1HSV_imgA1B1_8[i][j])"
      ],
      "execution_count": null,
      "outputs": []
    },
    {
      "cell_type": "code",
      "metadata": {
        "id": "HgPXXQv-DjuZ"
      },
      "source": [
        "S1A1_808= list()\n",
        "S1B2_108 = list()\n",
        "for i in range(S1HSV_imgA1B2_8.shape[0]): \n",
        "     for j in range(S1HSV_imgA1B2_8.shape[1]): \n",
        "                if 1770<i<1880 and 1700<j<1830 :\n",
        "                    S1A1_808.append(S1HSV_imgA1B2_8[i][j])\n",
        "                if 1770<i<1880 and 2015<j<2145 :\n",
        "                    S1B2_108.append(S1HSV_imgA1B2_8[i][j])"
      ],
      "execution_count": null,
      "outputs": []
    },
    {
      "cell_type": "code",
      "metadata": {
        "id": "bjEqM9VODjuZ"
      },
      "source": [
        "S1A1_908= list()\n",
        "S1B3_108 = list()\n",
        "for i in range(S1HSV_imgA1B3_8.shape[0]): \n",
        "     for j in range(S1HSV_imgA1B3_.8shape[1]): \n",
        "                if 1770<i<1880 and 1700<j<1830 :\n",
        "                    S1A1_908.append(S1HSV_imgA1B3_8[i][j])\n",
        "                if 1770<i<1880 and 2015<j<2145 :\n",
        "                    S1B3_108.append(S1HSV_imgA1B3_8[i][j])"
      ],
      "execution_count": null,
      "outputs": []
    },
    {
      "cell_type": "code",
      "metadata": {
        "id": "fwixj6p4DjuZ"
      },
      "source": [
        "S1A1_1008= list()\n",
        "S1B4_108 = list()\n",
        "for i in range(S1HSV_imgA1B4_8.shape[0]): \n",
        "     for j in range(S1HSV_imgA1B4_8.shape[1]): \n",
        "                if 1770<i<1880 and 1700<j<1830 :\n",
        "                    S1A1_100.append(S1HSV_imgA1B4_8[i][j])\n",
        "                if 1770<i<1880 and 2015<j<2145 :\n",
        "                    S1B4_10.append(S1HSV_imgA1B4_8[i][j])"
      ],
      "execution_count": null,
      "outputs": []
    },
    {
      "cell_type": "code",
      "metadata": {
        "id": "6TQb7dNMDjuZ"
      },
      "source": [
        "S1A1_1108= list()\n",
        "S1C1_208 = list()\n",
        "for i in range(S1HSV_imgA1C1_8.shape[0]): \n",
        "     for j in range(S1HSV_imgA1C1_.8shape[1]): \n",
        "                if 1770<i<1880 and 1700<j<1830 :\n",
        "                    S1A1_1108.append(S1HSV_imgA1C1_8[i][j])\n",
        "                if 1770<i<1880 and 2015<j<2145 :\n",
        "                    S1C1_208.append(S1HSV_imgA1C1_8[i][j])   "
      ],
      "execution_count": null,
      "outputs": []
    },
    {
      "cell_type": "code",
      "metadata": {
        "id": "Bj9GiT7jDjua"
      },
      "source": [
        "S1A1_1208= list()\n",
        "S1C2_108 = list()\n",
        "for i in range(S1HSV_imgA1C2_8.shape[0]): \n",
        "     for j in range(S1HSV_imgA1C2_8.shape[1]): \n",
        "                if 1770<i<1880 and 1700<j<1830 :\n",
        "                    S1A1_1208.append(S1HSV_imgA1C2_8[i][j])\n",
        "                if 1770<i<1880 and 2015<j<2145 :\n",
        "                    S1C2_108.append(S1HSV_imgA1C2_8[i][j])   "
      ],
      "execution_count": null,
      "outputs": []
    },
    {
      "cell_type": "code",
      "metadata": {
        "id": "mHAJAq2fDjua"
      },
      "source": [
        "S1A1_1308= list()\n",
        "S1C3_108 = list()\n",
        "for i in range(S1HSV_imgA1C3_8.shape[0]): \n",
        "     for j in range(S1HSV_imgA1C3_8.shape[1]): \n",
        "                if 1770<i<1880 and 1700<j<1830 :\n",
        "                    S1A1_1308.append(S1HSV_imgA1C3_8[i][j])\n",
        "                if 1770<i<1880 and 2015<j<2145 :\n",
        "                    S1C3_108.append(S1HSV_imgA1C3_8[i][j])   "
      ],
      "execution_count": null,
      "outputs": []
    },
    {
      "cell_type": "code",
      "metadata": {
        "id": "KumdxOnYDjub"
      },
      "source": [
        "S1A1_1408= list()\n",
        "S1C4_108 = list()\n",
        "for i in range(S1HSV_imgA1C4_8.shape[0]): \n",
        "     for j in range(S1HSV_imgA1C4_8.shape[1]): \n",
        "                if 1770<i<1880 and 1700<j<1830 :\n",
        "                    S1A1_1408.append(S1HSV_imgA1C4_8[i][j])\n",
        "                if 1770<i<1880 and 2015<j<2145 :\n",
        "                    S1C4_108append(S1HSV_imgA1C4_8[i][j])"
      ],
      "execution_count": null,
      "outputs": []
    },
    {
      "cell_type": "code",
      "metadata": {
        "id": "egt8awBODjuc"
      },
      "source": [
        "S1A1_1508= list()\n",
        "S1D2_108 = list()\n",
        "for i in range(S1HSV_imgA1D2_8.shape[0]): \n",
        "     for j in range(S1HSV_imgA1D2_8.shape[1]): \n",
        "                if 1770<i<1880 and 1700<j<1830 :\n",
        "                    S1A1_1508.append(S1HSV_imgA1D2_8[i][j])\n",
        "                if 1770<i<1880 and 2015<j<2145 :\n",
        "                    S1D2_108.append(S1HSV_imgA1D2_8[i][j])   "
      ],
      "execution_count": null,
      "outputs": []
    },
    {
      "cell_type": "code",
      "metadata": {
        "id": "DDPd9WZvDjud"
      },
      "source": [
        "S1A1_160= list()\n",
        "S1D3_10 = list()\n",
        "for i in range(S1HSV_imgA1D3_.shape[0]): \n",
        "     for j in range(S1HSV_imgA1D3_.shape[1]): \n",
        "                if 1770<i<1880 and 1700<j<1830 :\n",
        "                    S1A1_160.append(S1HSV_imgA1D3_[i][j])\n",
        "                if 1770<i<1880 and 2015<j<2145 :\n",
        "                    S1D3_10.append(S1HSV_imgA1D3_[i][j])   "
      ],
      "execution_count": null,
      "outputs": []
    },
    {
      "cell_type": "code",
      "metadata": {
        "id": "sCdCzjY3Djud"
      },
      "source": [
        "S1A1_1708= list()\n",
        "S1D4_108 = list()\n",
        "for i in range(S1HSV_imgA1D4_.8shape[0]): \n",
        "     for j in range(S1HSV_imgA1D4_8.shape[1]): \n",
        "                if 1770<i<1880 and 1700<j<1830 :\n",
        "                    S1A1_1708.append(S1HSV_imgA1D4_8[i][j])\n",
        "                if 1770<i<1880 and 2015<j<2145 :\n",
        "                    S1D4_108.append(S1HSV_imgA1D4_8[i][j])"
      ],
      "execution_count": null,
      "outputs": []
    },
    {
      "cell_type": "markdown",
      "metadata": {
        "id": "8TgCK7wcDtjc"
      },
      "source": [
        "###Img 9"
      ]
    },
    {
      "cell_type": "code",
      "metadata": {
        "id": "980h2K5kDtjc"
      },
      "source": [
        "S1A1_109= list()\n",
        "S1A1_209 = list()\n",
        "for i in range(S1HSV_imgA1A1_9shape[0]): #ให้ i รันตาม row หรือ shape[0] คือแถว มีทั้งหมด 4032 แถว ของภาพที่ปรับขนาดมาแล้ว\n",
        "     for j in range(S1HSV_imgA1A1_9.shape[1]): #ให้ j รันตาม colum มีทั้งหมด 3024 colum เช่น แถวที่ 1 เข้ามาให้รันครบ 3024colum\n",
        "                if 1770<i<1880 and 1700<j<1830 :\n",
        "                    S1A1_109.append(S1HSV_imgA1A1_9[i][j])\n",
        "                if 1770<i<1880 and 2015<j<2145 :\n",
        "                    S1A1_209.append(S1HSV_imgA1A1_9[i][j])"
      ],
      "execution_count": null,
      "outputs": []
    },
    {
      "cell_type": "code",
      "metadata": {
        "id": "iaL-k8YzDtjd"
      },
      "source": [
        "S1A1_309= list()\n",
        "S1A2_109 = list()\n",
        "for i in range(S1HSV_imgA1A2_.9shape[0]): \n",
        "     for j in range(S1HSV_imgA1A2_9.shape[1]): \n",
        "                if 1770<i<1880 and 1700<j<1830 :\n",
        "                    S1A1_309.append(S1HSV_imgA1A2_9[i][j])\n",
        "                if 1770<i<1880 and 2015<j<2145 :\n",
        "                    S1A2_109append(S1HSV_imgA1A2_[9i][j])"
      ],
      "execution_count": null,
      "outputs": []
    },
    {
      "cell_type": "code",
      "metadata": {
        "id": "C9eiRGFoDtjd"
      },
      "source": [
        "S1A1_409= list()\n",
        "S1A3_109 = list()\n",
        "for i in range(S1HSV_imgA1A3_9.shape[0]): \n",
        "     for j in range(S1HSV_imgA1A3_9.shape[1]): \n",
        "                if 1770<i<1880 and 1700<j<1830 :\n",
        "                    S1A1_409.append(S1HSV_imgA1A3_9[i][j])\n",
        "                if 1770<i<1880 and 2015<j<2145 :\n",
        "                    S1A3_109.append(S1HSV_imgA1A3_9[i][j])   "
      ],
      "execution_count": null,
      "outputs": []
    },
    {
      "cell_type": "code",
      "metadata": {
        "id": "VlNLb5_vDtjd"
      },
      "source": [
        "S1A1_509= list()\n",
        "S1A3_5109 = list()\n",
        "for i in range(S1HSV_imgA1A3_59.shape[0]): \n",
        "     for j in range(S1HSV_imgA1A3_59.shape[1]): \n",
        "                if 1770<i<1880 and 1700<j<1830 :\n",
        "                    S1A1_509.append(S1HSV_imgA1A3_59[i][j])\n",
        "                if 1770<i<1880 and 2015<j<2145 :\n",
        "                    S1A3_5109.append(S1HSV_imgA1A3_59[i][j])"
      ],
      "execution_count": null,
      "outputs": []
    },
    {
      "cell_type": "code",
      "metadata": {
        "id": "UmYwCN0hDtje"
      },
      "source": [
        "S1A1_609= list()\n",
        "S1A4_109 = list()\n",
        "for i in range(S1HSV_imgA1A4_9.shape[0]): \n",
        "     for j in range(S1HSV_imgA1A4_.9shape[1]): \n",
        "                if 1770<i<1880 and 1700<j<1830 :\n",
        "                    S1A1_609.append(S1HSV_imgA1A4_9[i][j])\n",
        "                if 1770<i<1880 and 2015<j<2145 :\n",
        "                    S1A4_109.append(S1HSV_imgA1A4_9[i][j])"
      ],
      "execution_count": null,
      "outputs": []
    },
    {
      "cell_type": "code",
      "metadata": {
        "id": "l8EV5_JbDtje"
      },
      "source": [
        "S1A1_709= list()\n",
        "S1B1_109= list()\n",
        "for i in range(S1HSV_imgA1B1_9.shape[0]): \n",
        "     for j in range(S1HSV_imgA1B1_9.shape[1]): \n",
        "                if 1770<i<1880 and 1700<j<1830 :\n",
        "                    S1A1_709.append(S1HSV_imgA1B1_9[i][j])\n",
        "                if 1770<i<1880 and 2015<j<2145 :\n",
        "                    S1B1_109.append(S1HSV_imgA1B19[i][j])"
      ],
      "execution_count": null,
      "outputs": []
    },
    {
      "cell_type": "code",
      "metadata": {
        "id": "XzjSzlHjDtjf"
      },
      "source": [
        "S1A1_809= list()\n",
        "S1B2_109 = list()\n",
        "for i in range(S1HSV_imgA1B2_9.shape[0]): \n",
        "     for j in range(S1HSV_imgA1B2_9.shape[1]): \n",
        "                if 1770<i<1880 and 1700<j<1830 :\n",
        "                    S1A1_809.append(S1HSV_imgA1B2_9[i][j])\n",
        "                if 1770<i<1880 and 2015<j<2145 :\n",
        "                    S1B2_109.append(S1HSV_imgA1B2_9[i][j])"
      ],
      "execution_count": null,
      "outputs": []
    },
    {
      "cell_type": "code",
      "metadata": {
        "id": "L79zway5Dtjf"
      },
      "source": [
        "S1A1_909= list()\n",
        "S1B3_109 = list()\n",
        "for i in range(S1HSV_imgA1B3_.shape[0]): \n",
        "     for j in range(S1HSV_imgA1B3_.shape[1]): \n",
        "                if 1770<i<1880 and 1700<j<1830 :\n",
        "                    S1A1_90.append(S1HSV_imgA1B3_[i][j])\n",
        "                if 1770<i<1880 and 2015<j<2145 :\n",
        "                    S1B3_10.append(S1HSV_imgA1B3_[i][j])"
      ],
      "execution_count": null,
      "outputs": []
    },
    {
      "cell_type": "code",
      "metadata": {
        "id": "KUxgvNbVDtjf"
      },
      "source": [
        "S1A1_1009= list()\n",
        "S1B4_109 = list()\n",
        "for i in range(S1HSV_imgA1B4_9.shape[0]): \n",
        "     for j in range(S1HSV_imgA1B4_9.shape[1]): \n",
        "                if 1770<i<1880 and 1700<j<1830 :\n",
        "                    S1A1_1009.append(S1HSV_imgA1B4_9[i][j])\n",
        "                if 1770<i<1880 and 2015<j<2145 :\n",
        "                    S1B4_109.append(S1HSV_imgA1B4_9[i][j])"
      ],
      "execution_count": null,
      "outputs": []
    },
    {
      "cell_type": "code",
      "metadata": {
        "id": "XVyA-dXnDtjf"
      },
      "source": [
        "S1A1_1109= list()\n",
        "S1C1_209 = list()\n",
        "for i in range(S1HSV_imgA1C1_9.shape[0]): \n",
        "     for j in range(S1HSV_imgA1C1_9.shape[1]): \n",
        "                if 1770<i<1880 and 1700<j<1830 :\n",
        "                    S1A1_1109.append(S1HSV_imgA1C1_9[i][j])\n",
        "                if 1770<i<1880 and 2015<j<2145 :\n",
        "                    S1C1_209.append(S1HSV_imgA1C1_9[i][j])   "
      ],
      "execution_count": null,
      "outputs": []
    },
    {
      "cell_type": "code",
      "metadata": {
        "id": "VoEkhVnMDtjg"
      },
      "source": [
        "S1A1_1209= list()\n",
        "S1C2_109 = list()\n",
        "for i in range(S1HSV_imgA1C2_9.shape[0]): \n",
        "     for j in range(S1HSV_imgA1C2_9.shape[1]): \n",
        "                if 1770<i<1880 and 1700<j<1830 :\n",
        "                    S1A1_1209.append(S1HSV_imgA1C2_9[i][j])\n",
        "                if 1770<i<1880 and 2015<j<2145 :\n",
        "                    S1C2_109.append(S1HSV_imgA1C2_9[i][j])   "
      ],
      "execution_count": null,
      "outputs": []
    },
    {
      "cell_type": "code",
      "metadata": {
        "id": "JnGBXiU9Dtjg"
      },
      "source": [
        "S1A1_1309= list()\n",
        "S1C3_109 = list()\n",
        "for i in range(S1HSV_imgA1C3_9.shape[0]): \n",
        "     for j in range(S1HSV_imgA1C3_9.shape[1]): \n",
        "                if 1770<i<1880 and 1700<j<1830 :\n",
        "                    S1A1_1309.append(S1HSV_imgA1C3_9[i][j])\n",
        "                if 1770<i<1880 and 2015<j<2145 :\n",
        "                    S1C3_109.append(S1HSV_imgA1C3_9[i][j])   "
      ],
      "execution_count": null,
      "outputs": []
    },
    {
      "cell_type": "code",
      "metadata": {
        "id": "GrNDPvVRDtjg"
      },
      "source": [
        "S1A1_1409= list()\n",
        "S1C4_109 = list()\n",
        "for i in range(S1HSV_imgA1C4_9.shape[0]): \n",
        "     for j in range(S1HSV_imgA1C4_9.shape[1]): \n",
        "                if 1770<i<1880 and 1700<j<1830 :\n",
        "                    S1A1_1409.append(S1HSV_imgA1C4_9[i][j])\n",
        "                if 1770<i<1880 and 2015<j<2145 :\n",
        "                    S1C4_109.append(S1HSV_imgA1C4_9[i][j])"
      ],
      "execution_count": null,
      "outputs": []
    },
    {
      "cell_type": "code",
      "metadata": {
        "id": "MBxH-Td-Dtjg"
      },
      "source": [
        "S1A1_1509= list()\n",
        "S1D2_109 = list()\n",
        "for i in range(S1HSV_imgA1D2_9.shape[0]): \n",
        "     for j in range(S1HSV_imgA1D2_9.shape[1]): \n",
        "                if 1770<i<1880 and 1700<j<1830 :\n",
        "                    S1A1_1509.append(S1HSV_imgA1D2_9[i][j])\n",
        "                if 1770<i<1880 and 2015<j<2145 :\n",
        "                    S1D2_109.append(S1HSV_imgA1D2_9[i][j])   "
      ],
      "execution_count": null,
      "outputs": []
    },
    {
      "cell_type": "code",
      "metadata": {
        "id": "YpNpssmIDtjh"
      },
      "source": [
        "S1A1_1609= list()\n",
        "S1D3_109 = list()\n",
        "for i in range(S1HSV_imgA1D3_9.shape[0]): \n",
        "     for j in range(S1HSV_imgA1D3_9.shape[1]): \n",
        "                if 1770<i<1880 and 1700<j<1830 :\n",
        "                    S1A1_1609.append(S1HSV_imgA1D3_9[i][j])\n",
        "                if 1770<i<1880 and 2015<j<2145 :\n",
        "                    S1D3_109.append(S1HSV_imgA1D3_9[i][j])   "
      ],
      "execution_count": null,
      "outputs": []
    },
    {
      "cell_type": "code",
      "metadata": {
        "id": "dDy2bd3UDtjh"
      },
      "source": [
        "S1A1_1709= list()\n",
        "S1D4_109 = list()\n",
        "for i in range(S1HSV_imgA1D4_9.shape[0]): \n",
        "     for j in range(S1HSV_imgA1D4_9.shape[1]): \n",
        "                if 1770<i<1880 and 1700<j<1830 :\n",
        "                    S1A1_1709.append(S1HSV_imgA1D4_9[i][j])\n",
        "                if 1770<i<1880 and 2015<j<2145 :\n",
        "                    S1D4_109.append(S1HSV_imgA1D4_9[i][j])"
      ],
      "execution_count": null,
      "outputs": []
    },
    {
      "cell_type": "markdown",
      "metadata": {
        "id": "2kscx_hoD3lX"
      },
      "source": [
        "###Img 10"
      ]
    },
    {
      "cell_type": "code",
      "metadata": {
        "id": "98lwLzmyD3lZ"
      },
      "source": [
        "S1A1_110= list()\n",
        "S1A1_210 = list()\n",
        "for i in range(S1HSV_imgA1A1_10.shape[0]): #ให้ i รันตาม row หรือ shape[0] คือแถว มีทั้งหมด 4032 แถว ของภาพที่ปรับขนาดมาแล้ว\n",
        "     for j in range(S1HSV_imgA1A1_10.shape[1]): #ให้ j รันตาม colum มีทั้งหมด 3024 colum เช่น แถวที่ 1 เข้ามาให้รันครบ 3024colum\n",
        "                if 1770<i<1880 and 1700<j<1830 :\n",
        "                    S1A1_110.append(S1HSV_imgA1A1_10[i][j])\n",
        "                if 1770<i<1880 and 2015<j<2145 :\n",
        "                    S1A1_2010.append(S1HSV_imgA1A1_10[i][j])"
      ],
      "execution_count": null,
      "outputs": []
    },
    {
      "cell_type": "code",
      "metadata": {
        "id": "LdjiHBTKD3la"
      },
      "source": [
        "S1A1_310= list()\n",
        "S1A2_110 = list()\n",
        "for i in range(S1HSV_imgA1A2_10.shape[0]): \n",
        "     for j in range(S1HSV_imgA1A2_.shape[1]): \n",
        "                if 1770<i<1880 and 1700<j<1830 :\n",
        "                    S1A1_310.append(S1HSV_imgA1A2_10[i][j])\n",
        "                if 1770<i<1880 and 2015<j<2145 :\n",
        "                    S1A2_110.append(S1HSV_imgA1A2_10[i][j])"
      ],
      "execution_count": null,
      "outputs": []
    },
    {
      "cell_type": "code",
      "metadata": {
        "id": "pMly9WJHD3la"
      },
      "source": [
        "S1A1_410= list()\n",
        "S1A3_110 = list()\n",
        "for i in range(S1HSV_imgA1A3_10.shape[0]): \n",
        "     for j in range(S1HSV_imgA1A3_10.shape[1]): \n",
        "                if 1770<i<1880 and 1700<j<1830 :\n",
        "                    S1A1_410.append(S1HSV_imgA1A3_10[i][j])\n",
        "                if 1770<i<1880 and 2015<j<2145 :\n",
        "                    S1A3_101.append(S1HSV_imgA1A3_10[i][j])   "
      ],
      "execution_count": null,
      "outputs": []
    },
    {
      "cell_type": "code",
      "metadata": {
        "id": "zNo0j8LcD3lb"
      },
      "source": [
        "S1A1_510= list()\n",
        "S1A3_510 = list()\n",
        "for i in range(S1HSV_imgA1A3_510.shape[0]): \n",
        "     for j in range(S1HSV_imgA1A3_510.shape[1]): \n",
        "                if 1770<i<1880 and 1700<j<1830 :\n",
        "                    S1A1_510.append(S1HSV_imgA1A3_510[i][j])\n",
        "                if 1770<i<1880 and 2015<j<2145 :\n",
        "                    S1A3_510.append(S1HSV_imgA1A3_510[i][j])"
      ],
      "execution_count": null,
      "outputs": []
    },
    {
      "cell_type": "code",
      "metadata": {
        "id": "LyDN1NDsD3lb"
      },
      "source": [
        "S1A1_610= list()\n",
        "S1A4_110 = list()\n",
        "for i in range(S1HSV_imgA1A4_10.shape[0]): \n",
        "     for j in range(S1HSV_imgA1A4_10.shape[1]): \n",
        "                if 1770<i<1880 and 1700<j<1830 :\n",
        "                    S1A1_610.append(S1HSV_imgA1A4_10[i][j])\n",
        "                if 1770<i<1880 and 2015<j<2145 :\n",
        "                    S1A4_110.append(S1HSV_imgA1A4_10[i][j])"
      ],
      "execution_count": null,
      "outputs": []
    },
    {
      "cell_type": "code",
      "metadata": {
        "id": "0T9y4FevD3lc"
      },
      "source": [
        "S1A1_710= list()\n",
        "S1B1_110 = list()\n",
        "for i in range(S1HSV_imgA1B1_10.shape[0]): \n",
        "     for j in range(S1HSV_imgA1B1_10.shape[1]): \n",
        "                if 1770<i<1880 and 1700<j<1830 :\n",
        "                    S1A1_710.append(S1HSV_imgA1B1_10[i][j])\n",
        "                if 1770<i<1880 and 2015<j<2145 :\n",
        "                    S1B1_110.append(S1HSV_imgA1B1_10[i][j])"
      ],
      "execution_count": null,
      "outputs": []
    },
    {
      "cell_type": "code",
      "metadata": {
        "id": "W5PhSWBwD3ld"
      },
      "source": [
        "S1A1_810= list()\n",
        "S1B2_110 = list()\n",
        "for i in range(S1HSV_imgA1B2_10.shape[0]): \n",
        "     for j in range(S1HSV_imgA1B2_10.shape[1]): \n",
        "                if 1770<i<1880 and 1700<j<1830 :\n",
        "                    S1A1_810.append(S1HSV_imgA1B2_10[i][j])\n",
        "                if 1770<i<1880 and 2015<j<2145 :\n",
        "                    S1B2_110.append(S1HSV_imgA1B2_10[i][j])"
      ],
      "execution_count": null,
      "outputs": []
    },
    {
      "cell_type": "code",
      "metadata": {
        "id": "j1YgBXf-D3ld"
      },
      "source": [
        "S1A1_910= list()\n",
        "S1B3_110 = list()\n",
        "for i in range(S1HSV_imgA1B3_10.shape[0]): \n",
        "     for j in range(S1HSV_imgA1B3_10.shape[1]): \n",
        "                if 1770<i<1880 and 1700<j<1830 :\n",
        "                    S1A1_910.append(S1HSV_imgA1B3_10[i][j])\n",
        "                if 1770<i<1880 and 2015<j<2145 :\n",
        "                    S1B3_110.append(S1HSV_imgA1B3_10[i][j])"
      ],
      "execution_count": null,
      "outputs": []
    },
    {
      "cell_type": "code",
      "metadata": {
        "id": "3_1pQdXWD3ld"
      },
      "source": [
        "S1A1_1010= list()\n",
        "S1B4_110 = list()\n",
        "for i in range(S1HSV_imgA1B4_10.shape[0]): \n",
        "     for j in range(S1HSV_imgA1B4_.10shape[1]): \n",
        "                if 1770<i<1880 and 1700<j<1830 :\n",
        "                    S1A1_1010.append(S1HSV_imgA1B4_10[i][j])\n",
        "                if 1770<i<1880 and 2015<j<2145 :\n",
        "                    S1B4_110.append(S1HSV_imgA1B4_10[i][j])"
      ],
      "execution_count": null,
      "outputs": []
    },
    {
      "cell_type": "code",
      "metadata": {
        "id": "vlyNq6EmD3le"
      },
      "source": [
        "S1A1_1110= list()\n",
        "S1C1_210 = list()\n",
        "for i in range(S1HSV_imgA1C1_10.shape[0]): \n",
        "     for j in range(S1HSV_imgA1C1_10.shape[1]): \n",
        "                if 1770<i<1880 and 1700<j<1830 :\n",
        "                    S1A1_1110.append(S1HSV_imgA1C1_10[i][j])\n",
        "                if 1770<i<1880 and 2015<j<2145 :\n",
        "                    S1C1_210.append(S1HSV_imgA1C1_10[i][j])   "
      ],
      "execution_count": null,
      "outputs": []
    },
    {
      "cell_type": "code",
      "metadata": {
        "id": "IfrHtAlLD3le"
      },
      "source": [
        "S1A1_1210= list()\n",
        "S1C2_110 = list()\n",
        "for i in range(S1HSV_imgA1C2_10.shape[0]): \n",
        "     for j in range(S1HSV_imgA1C2_10.shape[1]): \n",
        "                if 1770<i<1880 and 1700<j<1830 :\n",
        "                    S1A1_1210.append(S1HSV_imgA1C2_10[i][j])\n",
        "                if 1770<i<1880 and 2015<j<2145 :\n",
        "                    S1C2_10.append(S1HSV_imgA1C2_10[i][j])   "
      ],
      "execution_count": null,
      "outputs": []
    },
    {
      "cell_type": "code",
      "metadata": {
        "id": "kcRVYg7yD3le"
      },
      "source": [
        "S1A1_1310= list()\n",
        "S1C3_110 = list()\n",
        "for i in range(S1HSV_imgA1C3_10shape[0]): \n",
        "     for j in range(S1HSV_imgA1C3_10.shape[1]): \n",
        "                if 1770<i<1880 and 1700<j<1830 :\n",
        "                    S1A1_1310.append(S1HSV_imgA1C3_10[i][j])\n",
        "                if 1770<i<1880 and 2015<j<2145 :\n",
        "                    S1C3_110.append(S1HSV_imgA1C3_10[i][j])   "
      ],
      "execution_count": null,
      "outputs": []
    },
    {
      "cell_type": "code",
      "metadata": {
        "id": "daKrJ8o0D3lf"
      },
      "source": [
        "S1A1_1410= list()\n",
        "S1C4_110 = list()\n",
        "for i in range(S1HSV_imgA1C4_10.shape[0]): \n",
        "     for j in range(S1HSV_imgA1C4_.10shape[1]): \n",
        "                if 1770<i<1880 and 1700<j<1830 :\n",
        "                    S1A1_1410.append(S1HSV_imgA1C4_10[i][j])\n",
        "                if 1770<i<1880 and 2015<j<2145 :\n",
        "                    S1C4_110.append(S1HSV_imgA1C4_10[i][j])"
      ],
      "execution_count": null,
      "outputs": []
    },
    {
      "cell_type": "code",
      "metadata": {
        "id": "fDFqe72ID3lf"
      },
      "source": [
        "S1A1_1510= list()\n",
        "S1D2_110 = list()\n",
        "for i in range(S1HSV_imgA1D2_10.shape[0]): \n",
        "     for j in range(S1HSV_imgA1D2_10.shape[1]): \n",
        "                if 1770<i<1880 and 1700<j<1830 :\n",
        "                    S1A1_1510.append(S1HSV_imgA1D2_10[i][j])\n",
        "                if 1770<i<1880 and 2015<j<2145 :\n",
        "                    S1D2_110.append(S1HSV_imgA1D2_10[i][j])   "
      ],
      "execution_count": null,
      "outputs": []
    },
    {
      "cell_type": "code",
      "metadata": {
        "id": "vc0IEgpMD3lg"
      },
      "source": [
        "S1A1_1610= list()\n",
        "S1D3_110 = list()\n",
        "for i in range(S1HSV_imgA1D3_10.shape[0]): \n",
        "     for j in range(S1HSV_imgA1D3_.10shape[1]): \n",
        "                if 1770<i<1880 and 1700<j<1830 :\n",
        "                    S1A1_160.append(S1HSV_imgA1D310_[i][j])\n",
        "                if 1770<i<1880 and 2015<j<2145 :\n",
        "                    S1D3_110.append(S1HSV_imgA1D3_10[i][j])   "
      ],
      "execution_count": null,
      "outputs": []
    },
    {
      "cell_type": "code",
      "metadata": {
        "id": "ta4T6owsD3lg"
      },
      "source": [
        "S1A1_1710= list()\n",
        "S1D4_110 = list()\n",
        "for i in range(S1HSV_imgA1D4_10.shape[0]): \n",
        "     for j in range(S1HSV_imgA1D4_10.shape[1]): \n",
        "                if 1770<i<1880 and 1700<j<1830 :\n",
        "                    S1A1_1710.append(S1HSV_imgA1D4_10i][j])\n",
        "                if 1770<i<1880 and 2015<j<2145 :\n",
        "                    S1D4_110.append(S1HSV_imgA1D4_10[i][j])"
      ],
      "execution_count": null,
      "outputs": []
    },
    {
      "cell_type": "markdown",
      "metadata": {
        "id": "7KPqBEcdIXnZ"
      },
      "source": [
        "#6. หาค่า Mean"
      ]
    },
    {
      "cell_type": "code",
      "metadata": {
        "id": "tePep_ujIfg2"
      },
      "source": [
        "import numpy as np"
      ],
      "execution_count": null,
      "outputs": []
    },
    {
      "cell_type": "markdown",
      "metadata": {
        "id": "CkCYreCNIxic"
      },
      "source": [
        "##Set1"
      ]
    },
    {
      "cell_type": "markdown",
      "metadata": {
        "id": "98w4NYwsuHUG"
      },
      "source": [
        "###RGB"
      ]
    },
    {
      "cell_type": "code",
      "metadata": {
        "id": "VLEHrLHLItVX"
      },
      "source": [
        "S1meanrefA1_1 = list()\n",
        "S1meanA1_2 = list()\n",
        "for i in range(S1RGB_imgA1A1_1.shape[0]): #ให้ i รันตาม row หรือ shape[0] คือแถว มีทั้งหมด 4032 แถว ของภาพที่ปรับขนาดมาแล้ว\n",
        "     for j in range(S1RGB_imgA1A1_1.shape[1]): #ให้ j รันตาม colum มีทั้งหมด 3024 colum เช่น แถวที่ 1 เข้ามาให้รันครบ 3024colum\n",
        "                if 1769<i<1881 and 2019<j<2131 :\n",
        "                  S1meanrefA1_1.append(S1RGB_imgA1A1_1[i][j])\n",
        "                if 1770<i<1880 and 2015<j<2145 :\n",
        "                  S1meanA1_2.append(S1RGB_imgA1A1_1[i][j])  \n",
        "S1meanrefA1_1 = np.array(S1meanrefA1_1)\n",
        "S1meanA1_2 = np.array(S1meanA1_2)\n",
        "\n",
        "S1rgbrefA1_1 = list()\n",
        "S1rgbA1_2 = list()\n",
        "for i in range(3):\n",
        "    S1rgbrefA1_1.append(S1meanrefA1_1[:,i].mean())\n",
        "    S1rgbA1_2.append(S1meanA1_2[:,i].mean())\n",
        "S1rgbrefA1_1,S1rgbA1_2 "
      ],
      "execution_count": null,
      "outputs": []
    },
    {
      "cell_type": "code",
      "metadata": {
        "id": "TPULWoc0JT9L"
      },
      "source": [
        "S1meanrefA1_3 = list()\n",
        "S1meanA2_1 = list()\n",
        "for i in range(S1RGB_imgA1A2_1.shape[0]): \n",
        "     for j in range(S1RGB_imgA1A2_1.shape[1]): \n",
        "                if 1769<i<1881 and 2019<j<2131 :\n",
        "                  S1meanrefA1_3.append(S1RGB_imgA1A2_1[i][j])\n",
        "                if 1770<i<1880 and 2015<j<2145 :\n",
        "                  S1meanA2_1.append(S1RGB_imgA1A2_1[i][j])  \n",
        "S1meanrefA1_3 = np.array(S1meanrefA1_3)\n",
        "S1meanA2_1 = np.array(S1meanA2_1)\n",
        "\n",
        "S1rgbrefA1_3 = list()\n",
        "S1rgbA2_1 = list()\n",
        "for i in range(3):\n",
        "    S1rgbrefA1_3.append(S1meanrefA1_3[:,i].mean())\n",
        "    S1rgbA2_1.append(S1meanA2_1[:,i].mean())"
      ],
      "execution_count": null,
      "outputs": []
    },
    {
      "cell_type": "code",
      "metadata": {
        "id": "jYWdd4U6Kl7f"
      },
      "source": [
        "S1meanrefA1_4 = list()\n",
        "S1meanA3_1 = list()\n",
        "for i in range(S1RGB_imgA1A3_1.shape[0]): \n",
        "     for j in range(S1RGB_imgA1A3_1.shape[1]): \n",
        "                if 1769<i<1881 and 2019<j<2131 :\n",
        "                  S1meanrefA1_4.append(S1RGB_imgA1A3_1[i][j])\n",
        "                if 1770<i<1880 and 2015<j<2145 :\n",
        "                  S1meanA3_1.append(S1RGB_imgA1A3_1[i][j])  \n",
        "S1meanrefA1_4 = np.array(S1meanrefA1_4)\n",
        "S1meanA3_1 = np.array(S1meanA3_1)\n",
        "\n",
        "S1rgbrefA1_4 = list()\n",
        "S1rgbA3_1 = list()\n",
        "for i in range(3):\n",
        "    S1rgbrefA1_4.append(S1meanrefA1_4[:,i].mean())\n",
        "    S1rgbA3_1.append(S1meanA3_1[:,i].mean())"
      ],
      "execution_count": null,
      "outputs": []
    },
    {
      "cell_type": "code",
      "metadata": {
        "id": "OU2xD0SEK14J"
      },
      "source": [
        "S1meanrefA1_5 = list()\n",
        "S1meanA3_51 = list()\n",
        "for i in range(S1RGB_imgA1A3_51.shape[0]): \n",
        "     for j in range(S1RGB_imgA1A3_51.shape[1]): \n",
        "                if 1769<i<1881 and 2019<j<2131 :\n",
        "                  S1meanrefA1_5.append(S1RGB_imgA1A3_51[i][j])\n",
        "                if 1770<i<1880 and 2015<j<2145 :\n",
        "                  S1meanA3_51.append(S1RGB_imgA1A3_51[i][j])  \n",
        "S1meanrefA1_5 = np.array(S1meanrefA1_5)\n",
        "S1meanA3_51 = np.array(S1meanA3_51)\n",
        "\n",
        "S1rgbrefA1_5 = list()\n",
        "S1rgbA3_51 = list()\n",
        "for i in range(3):\n",
        "    S1rgbrefA1_5.append(S1meanrefA1_5[:,i].mean())\n",
        "    S1rgbA3_51.append(S1meanA3_51[:,i].mean())"
      ],
      "execution_count": null,
      "outputs": []
    },
    {
      "cell_type": "code",
      "metadata": {
        "id": "vCXxutjOLEb5"
      },
      "source": [
        "S1meanrefA1_6 = list()\n",
        "S1meanA4_1 = list()\n",
        "for i in range(S1RGB_imgA1A4_1.shape[0]): \n",
        "     for j in range(S1RGB_imgA1A4_1.shape[1]): \n",
        "                if 1769<i<1881 and 2019<j<2131 :\n",
        "                  S1meanrefA1_6.append(S1RGB_imgA1A4_1[i][j])\n",
        "                if 1770<i<1880 and 2015<j<2145 :\n",
        "                  S1meanA4_1.append(S1RGB_imgA1A4_1[i][j])  \n",
        "S1meanrefA1_6 = np.array(S1meanrefA1_6)\n",
        "S1meanA4_1 = np.array(S1meanA4_1)\n",
        "\n",
        "S1rgbrefA1_6 = list()\n",
        "S1rgbA4_1 = list()\n",
        "for i in range(3):\n",
        "    S1rgbrefA1_6.append(S1meanrefA1_6[:,i].mean())\n",
        "    S1rgbA4_1.append(S1meanA4_1[:,i].mean())"
      ],
      "execution_count": null,
      "outputs": []
    },
    {
      "cell_type": "code",
      "metadata": {
        "id": "Te2hqmb4LbG7"
      },
      "source": [
        "S1meanrefA1_7 = list()\n",
        "S1meanB1_1 = list()\n",
        "for i in range(S1RGB_imgA1B1_1.shape[0]): \n",
        "     for j in range(S1RGB_imgA1B1_1.shape[1]): \n",
        "                if 1769<i<1881 and 2019<j<2131 :\n",
        "                  S1meanrefA1_7.append(S1RGB_imgA1B1_1[i][j])\n",
        "                if 1770<i<1880 and 2015<j<2145 :\n",
        "                  S1meanB1_1.append(S1RGB_imgA1B1_1[i][j])  \n",
        "S1meanrefA1_7 = np.array(S1meanrefA1_7)\n",
        "S1meanB1_1 = np.array(S1meanB1_1)\n",
        "\n",
        "S1rgbrefA1_7 = list()\n",
        "S1rgbB1_1 = list()\n",
        "for i in range(3):\n",
        "    S1rgbrefA1_7.append(S1meanrefA1_7[:,i].mean())\n",
        "    S1rgbB1_1.append(S1meanB1_1[:,i].mean())"
      ],
      "execution_count": null,
      "outputs": []
    },
    {
      "cell_type": "code",
      "metadata": {
        "id": "Q_VEx1q0LbG7"
      },
      "source": [
        "S1meanrefA1_8 = list()\n",
        "S1meanB2_1 = list()\n",
        "for i in range(S1RGB_imgA1B2_1.shape[0]): \n",
        "     for j in range(S1RGB_imgA1B2_1.shape[1]): \n",
        "                if 1769<i<1881 and 2019<j<2131 :\n",
        "                  S1meanrefA1_8.append(S1RGB_imgA1B2_1[i][j])\n",
        "                if 1770<i<1880 and 2015<j<2145 :\n",
        "                  S1meanB2_1.append(S1RGB_imgA1B2_1[i][j])  \n",
        "S1meanrefA1_8 = np.array(S1meanrefA1_8)\n",
        "S1meanB2_1 = np.array(S1meanB2_1)\n",
        "\n",
        "S1rgbrefA1_8 = list()\n",
        "S1rgbB2_1 = list()\n",
        "for i in range(3):\n",
        "    S1rgbrefA1_8.append(S1meanrefA1_8[:,i].mean())\n",
        "    S1rgbB2_1.append(S1meanB2_1[:,i].mean())"
      ],
      "execution_count": null,
      "outputs": []
    },
    {
      "cell_type": "code",
      "metadata": {
        "id": "6h5EfHY1LbG7"
      },
      "source": [
        "S1meanrefA1_9 = list()\n",
        "S1meanB3_1 = list()\n",
        "for i in range(S1RGB_imgA1B3_1.shape[0]): \n",
        "     for j in range(S1RGB_imgA1B3_1.shape[1]): \n",
        "                if 1769<i<1881 and 2019<j<2131 :\n",
        "                  S1meanrefA1_9.append(S1RGB_imgA1B3_1[i][j])\n",
        "                if 1770<i<1880 and 2015<j<2145 :\n",
        "                  S1meanB3_1.append(S1RGB_imgA1B3_1[i][j])  \n",
        "S1meanrefA1_9 = np.array(S1meanrefA1_9)\n",
        "S1meanB3_1 = np.array(S1meanB3_1)\n",
        "\n",
        "S1rgbrefA1_9 = list()\n",
        "S1rgbB3_1 = list()\n",
        "for i in range(3):\n",
        "    S1rgbrefA1_9.append(S1meanrefA1_9[:,i].mean())\n",
        "    S1rgbB3_1.append(S1meanB3_1[:,i].mean())"
      ],
      "execution_count": null,
      "outputs": []
    },
    {
      "cell_type": "code",
      "metadata": {
        "id": "TjKejQxXL9Xb"
      },
      "source": [
        "S1meanrefA1_10 = list()\n",
        "S1meanB4_1 = list()\n",
        "for i in range(S1RGB_imgA1B4_1.shape[0]): \n",
        "     for j in range(S1RGB_imgA1B4_1.shape[1]): \n",
        "                if 1769<i<1881 and 2019<j<2131 :\n",
        "                  S1meanrefA1_10.append(S1RGB_imgA1B4_1[i][j])\n",
        "                if 1770<i<1880 and 2015<j<2145 :\n",
        "                  S1meanB4_1.append(S1RGB_imgA1B4_1[i][j])  \n",
        "S1meanrefA1_10 = np.array(S1meanrefA1_10)\n",
        "S1meanB4_1 = np.array(S1meanB4_1)\n",
        "\n",
        "S1rgbrefA1_10 = list()\n",
        "S1rgbB4_1 = list()\n",
        "for i in range(3):\n",
        "    S1rgbrefA1_10.append(S1meanrefA1_10[:,i].mean())\n",
        "    S1rgbB4_1.append(S1meanB4_1[:,i].mean())"
      ],
      "execution_count": null,
      "outputs": []
    },
    {
      "cell_type": "code",
      "metadata": {
        "id": "Y8X8SmoGMihg"
      },
      "source": [
        "S1meanrefA1_11 = list()\n",
        "S1meanC1_1 = list()\n",
        "for i in range(S1RGB_imgA1C1_1.shape[0]): \n",
        "     for j in range(S1RGB_imgA1C1_1.shape[1]): \n",
        "                if 1769<i<1881 and 2019<j<2131 :\n",
        "                  S1meanrefA1_11.append(S1RGB_imgA1C1_1[i][j])\n",
        "                if 1770<i<1880 and 2015<j<2145 :\n",
        "                  S1meanC1_1.append(S1RGB_imgA1C1_1[i][j])  \n",
        "S1meanrefA1_11 = np.array(S1meanrefA1_11)\n",
        "S1meanC1_1 = np.array(S1meanC1_1)\n",
        "\n",
        "S1rgbrefA1_11 = list()\n",
        "S1rgbC1_1 = list()\n",
        "for i in range(3):\n",
        "    S1rgbrefA1_11.append(S1meanrefA1_11[:,i].mean())\n",
        "    S1rgbC1_1.append(S1meanC1_1[:,i].mean())"
      ],
      "execution_count": null,
      "outputs": []
    },
    {
      "cell_type": "code",
      "metadata": {
        "id": "Av_eHI6jMihg"
      },
      "source": [
        "S1meanrefA1_12 = list()\n",
        "S1meanC2_1 = list()\n",
        "for i in range(S1RGB_imgA1C2_1.shape[0]): \n",
        "     for j in range(S1RGB_imgA1C2_1.shape[1]): \n",
        "                if 1769<i<1881 and 2019<j<2131 :\n",
        "                  S1meanrefA1_12.append(S1RGB_imgA1C2_1[i][j])\n",
        "                if 1770<i<1880 and 2015<j<2145 :\n",
        "                  S1meanC2_1.append(S1RGB_imgA1C2_1[i][j])  \n",
        "S1meanrefA1_12 = np.array(S1meanrefA1_12)\n",
        "S1meanC2_1 = np.array(S1meanC2_1)\n",
        "\n",
        "S1rgbrefA1_12 = list()\n",
        "S1rgbC2_1 = list()\n",
        "for i in range(3):\n",
        "    S1rgbrefA1_12.append(S1meanrefA1_12[:,i].mean())\n",
        "    S1rgbC2_1.append(S1meanC2_1[:,i].mean())"
      ],
      "execution_count": null,
      "outputs": []
    },
    {
      "cell_type": "code",
      "metadata": {
        "id": "lOvykBc7Mihg"
      },
      "source": [
        "S1meanrefA1_13 = list()\n",
        "S1meanC3_1 = list()\n",
        "for i in range(S1RGB_imgA1C3_1.shape[0]): \n",
        "     for j in range(S1RGB_imgA1C3_1.shape[1]): \n",
        "                if 1769<i<1881 and 2019<j<2131 :\n",
        "                  S1meanrefA1_13.append(S1RGB_imgA1C3_1[i][j])\n",
        "                if 1770<i<1880 and 2015<j<2145 :\n",
        "                  S1meanC3_1.append(S1RGB_imgA1C3_1[i][j])  \n",
        "S1meanrefA1_13 = np.array(S1meanrefA1_13)\n",
        "S1meanC3_1 = np.array(S1meanC3_1)\n",
        "\n",
        "S1rgbrefA1_13 = list()\n",
        "S1rgbC3_1 = list()\n",
        "for i in range(3):\n",
        "    S1rgbrefA1_13.append(S1meanrefA1_13[:,i].mean())\n",
        "    S1rgbC3_1.append(S1meanC3_1[:,i].mean())"
      ],
      "execution_count": null,
      "outputs": []
    },
    {
      "cell_type": "code",
      "metadata": {
        "id": "YdNqiN2LMihg"
      },
      "source": [
        "S1meanrefA1_14 = list()\n",
        "S1meanC4_1 = list()\n",
        "for i in range(S1RGB_imgA1C4_1.shape[0]): \n",
        "     for j in range(S1RGB_imgA1C4_1.shape[1]): \n",
        "                if 1769<i<1881 and 2019<j<2131 :\n",
        "                  S1meanrefA1_14.append(S1RGB_imgA1C4_1[i][j])\n",
        "                if 1770<i<1880 and 2015<j<2145 :\n",
        "                  S1meanC4_1.append(S1RGB_imgA1C4_1[i][j])  \n",
        "S1meanrefA1_14 = np.array(S1meanrefA1_14)\n",
        "S1meanC4_1 = np.array(S1meanC4_1)\n",
        "\n",
        "S1rgbrefA1_14 = list()\n",
        "S1rgbC4_1 = list()\n",
        "for i in range(3):\n",
        "    S1rgbrefA1_14.append(S1meanrefA1_14[:,i].mean())\n",
        "    S1rgbC4_1.append(S1meanC4_1[:,i].mean())"
      ],
      "execution_count": null,
      "outputs": []
    },
    {
      "cell_type": "code",
      "metadata": {
        "id": "U1oHIKdONm_p"
      },
      "source": [
        "S1meanrefA1_15 = list()\n",
        "S1meanD2_1 = list()\n",
        "for i in range(S1RGB_imgA1D2_1.shape[0]): \n",
        "     for j in range(S1RGB_imgA1D2_1.shape[1]): \n",
        "                if 1769<i<1881 and 2019<j<2131 :\n",
        "                  S1meanrefA1_15.append(S1RGB_imgA1D2_1[i][j])\n",
        "                if 1770<i<1880 and 2015<j<2145 :\n",
        "                  S1meanD2_1.append(S1RGB_imgA1D2_1[i][j])  \n",
        "S1meanrefA1_15 = np.array(S1meanrefA1_15)\n",
        "S1meanD2_1 = np.array(S1meanD2_1)\n",
        "\n",
        "S1rgbrefA1_15 = list()\n",
        "S1rgbD2_1 = list()\n",
        "for i in range(3):\n",
        "    S1rgbrefA1_15.append(S1meanrefA1_15[:,i].mean())\n",
        "    S1rgbD2_1.append(S1meanD2_1[:,i].mean())"
      ],
      "execution_count": null,
      "outputs": []
    },
    {
      "cell_type": "code",
      "metadata": {
        "id": "_O71JLAONm_p"
      },
      "source": [
        "S1meanrefA1_16 = list()\n",
        "S1meanD3_1 = list()\n",
        "for i in range(S1RGB_imgA1D3_1.shape[0]): \n",
        "     for j in range(S1RGB_imgA1D3_1.shape[1]): \n",
        "                if 1769<i<1881 and 2019<j<2131 :\n",
        "                  S1meanrefA1_16.append(S1RGB_imgA1D3_1[i][j])\n",
        "                if 1770<i<1880 and 2015<j<2145 :\n",
        "                  S1meanD3_1.append(S1RGB_imgA1D3_1[i][j])  \n",
        "S1meanrefA1_16 = np.array(S1meanrefA1_16)\n",
        "S1meanD3_1 = np.array(S1meanD3_1)\n",
        "\n",
        "S1rgbrefA1_16 = list()\n",
        "S1rgbD3_1 = list()\n",
        "for i in range(3):\n",
        "    S1rgbrefA1_16.append(S1meanrefA1_16[:,i].mean())\n",
        "    S1rgbD3_1.append(S1meanD3_1[:,i].mean())"
      ],
      "execution_count": null,
      "outputs": []
    },
    {
      "cell_type": "code",
      "metadata": {
        "id": "U29gI1aKNm_p"
      },
      "source": [
        "S1meanrefA1_17= list()\n",
        "S1meanD4_1 = list()\n",
        "for i in range(S1RGB_imgA1D4_1.shape[0]): \n",
        "     for j in range(S1RGB_imgA1D4_1.shape[1]): \n",
        "                if 1769<i<1881 and 2019<j<2131 :\n",
        "                  S1meanrefA1_17.append(S1RGB_imgA1D4_1[i][j])\n",
        "                if 1770<i<1880 and 2015<j<2145 :\n",
        "                  S1meanD4_1.append(S1RGB_imgA1D4_1[i][j])  \n",
        "S1meanrefA1_17 = np.array(S1meanrefA1_14)\n",
        "S1meanD4_1 = np.array(S1meanD4_1)\n",
        "\n",
        "S1rgbrefA1_17 = list()\n",
        "S1rgbD4_1 = list()\n",
        "for i in range(3):\n",
        "    S1rgbrefA1_17.append(S1meanrefA1_17[:,i].mean())\n",
        "    S1rgbD4_1.append(S1meanD4_1[:,i].mean())"
      ],
      "execution_count": null,
      "outputs": []
    },
    {
      "cell_type": "markdown",
      "metadata": {
        "id": "l-EubNtx-XCR"
      },
      "source": [
        "###Img 2"
      ]
    },
    {
      "cell_type": "code",
      "metadata": {
        "id": "3D1den5K-nyt"
      },
      "source": [
        "S1meanrefA1_102 = list()\n",
        "S1meanA1_202 = list()\n",
        "for i in range(S1RGB_imgA1A1_2.shape[0]): #ให้ i รันตาม row หรือ shape[0] คือแถว มีทั้งหมด 4032 แถว ของภาพที่ปรับขนาดมาแล้ว\n",
        "     for j in range(S1RGB_imgA1A1_2.shape[1]): #ให้ j รันตาม colum มีทั้งหมด 3024 colum เช่น แถวที่ 1 เข้ามาให้รันครบ 3024colum\n",
        "                if 1769<i<1881 and 2019<j<2131 :\n",
        "                  S1meanrefA1_102.append(S1RGB_imgA1A1_2[i][j])\n",
        "                if 1770<i<1880 and 2015<j<2145 :\n",
        "                  S1meanA1_202.append(S1RGB_imgA1A1_2[i][j])  \n",
        "S1meanrefA1_102 = np.array(S1meanrefA1_102)\n",
        "S1meanA1_202 = np.array(S1meanA1_202)\n",
        "\n",
        "S1rgbrefA1_102 = list()\n",
        "S1rgbA1_202 = list()\n",
        "for i in range(3):\n",
        "    S1rgbrefA1_102.append(S1meanrefA1_102[:,i].mean())\n",
        "    S1rgbA1_202.append(S1meanA1_202[:,i].mean())\n",
        "S1rgbrefA1_102,S1rgbA1_202"
      ],
      "execution_count": null,
      "outputs": []
    },
    {
      "cell_type": "code",
      "metadata": {
        "id": "RRnoqKs_-nyu"
      },
      "source": [
        "S1meanrefA1_302 = list()\n",
        "S1meanA2_102 = list()\n",
        "for i in range(S1RGB_imgA1A2_2.shape[0]): \n",
        "     for j in range(S1RGB_imgA1A2_2.shape[1]): \n",
        "                if 1769<i<1881 and 2019<j<2131 :\n",
        "                  S1meanrefA1_302.append(S1RGB_imgA1A2_2[i][j])\n",
        "                if 1770<i<1880 and 2015<j<2145 :\n",
        "                  S1meanA2_102.append(S1RGB_imgA1A2_2[i][j])  \n",
        "S1meanrefA1_302 = np.array(S1meanrefA1_302)\n",
        "S1meanA2_102 = np.array(S1meanA2_102)\n",
        "\n",
        "S1rgbrefA1_302 = list()\n",
        "S1rgbA2_102 = list()\n",
        "for i in range(3):\n",
        "    S1rgbrefA1_302.append(S1meanrefA1_302[:,i].mean())\n",
        "    S1rgbA2_102.append(S1meanA2_102[:,i].mean())"
      ],
      "execution_count": null,
      "outputs": []
    },
    {
      "cell_type": "code",
      "metadata": {
        "id": "-Z8Wxm76-nyv"
      },
      "source": [
        "S1meanrefA1_402 = list()\n",
        "S1meanA3_102 = list()\n",
        "for i in range(S1RGB_imgA1A3_2.shape[0]): \n",
        "     for j in range(S1RGB_imgA1A3_.shape[1]): \n",
        "                if 1769<i<1881 and 2019<j<2131 :\n",
        "                  S1meanrefA1_402.append(S1RGB_imgA1A3_2[i][j])\n",
        "                if 1770<i<1880 and 2015<j<2145 :\n",
        "                  S1meanA3_102.append(S1RGB_imgA1A3_2[i][j])  \n",
        "S1meanrefA1_402 = np.array(S1meanrefA1_402)\n",
        "S1meanA3_102 = np.array(S1meanA3_102)\n",
        "\n",
        "S1rgbrefA1_402 = list()\n",
        "S1rgbA3_102 = list()\n",
        "for i in range(3):\n",
        "    S1rgbrefA1_402.append(S1meanrefA1_402[:,i].mean())\n",
        "    S1rgbA3_102.append(S1meanA3_102[:,i].mean())"
      ],
      "execution_count": null,
      "outputs": []
    },
    {
      "cell_type": "code",
      "metadata": {
        "id": "Wo7Z5Spk-nyw"
      },
      "source": [
        "S1meanrefA1_02 = list()\n",
        "S1meanA3_5102 = list()\n",
        "for i in range(S1RGB_imgA1A3_52.shape[0]): \n",
        "     for j in range(S1RGB_imgA1A3_52.shape[1]): \n",
        "                if 1769<i<1881 and 2019<j<2131 :\n",
        "                  S1meanrefA1_502.append(S1RGB_imgA1A3_52[i][j])\n",
        "                if 1770<i<1880 and 2015<j<2145 :\n",
        "                  S1meanA3_5102.append(S1RGB_imgA1A3_52[i][j])  \n",
        "S1meanrefA1_502 = np.array(S1meanrefA1_502)\n",
        "S1meanA3_5102 = np.array(S1meanA3_5102)\n",
        "\n",
        "S1rgbrefA1_502 = list()\n",
        "S1rgbA3_5102 = list()\n",
        "for i in range(3):\n",
        "    S1rgbrefA1_502.append(S1meanrefA1_502[:,i].mean())\n",
        "    S1rgbA3_5102.append(S1meanA3_5102[:,i].mean())"
      ],
      "execution_count": null,
      "outputs": []
    },
    {
      "cell_type": "code",
      "metadata": {
        "id": "cKjcfG9e-nyw"
      },
      "source": [
        "S1meanrefA1_602 = list()\n",
        "S1meanA4_102 = list()\n",
        "for i in range(S1RGB_imgA1A4_2.shape[0]): \n",
        "     for j in range(S1RGB_imgA1A4_2.shape[1]): \n",
        "                if 1769<i<1881 and 2019<j<2131 :\n",
        "                  S1meanrefA1_602.append(S1RGB_imgA1A4_2[i][j])\n",
        "                if 1770<i<1880 and 2015<j<2145 :\n",
        "                  S1meanA4_102.append(S1RGB_imgA1A4_2[i][j])  \n",
        "S1meanrefA1_602 = np.array(S1meanrefA1_602)\n",
        "S1meanA4_102 = np.array(S1meanA4_102)\n",
        "\n",
        "S1rgbrefA1_602 = list()\n",
        "S1rgbA4_102 = list()\n",
        "for i in range(3):\n",
        "    S1rgbrefA1_602.append(S1meanrefA1_602[:,i].mean())\n",
        "    S1rgbA4_102.append(S1meanA4_102[:,i].mean())"
      ],
      "execution_count": null,
      "outputs": []
    },
    {
      "cell_type": "code",
      "metadata": {
        "id": "yz9vpuVx-nyx"
      },
      "source": [
        "S1meanrefA1_702 = list()\n",
        "S1meanB1_102 = list()\n",
        "for i in range(S1RGB_imgA1B1_202.shape[0]): \n",
        "     for j in range(S1RGB_imgA1B1_202.shape[1]): \n",
        "                if 1769<i<1881 and 2019<j<2131 :\n",
        "                  S1meanrefA1_702.append(S1RGB_imgA1B1_2[i][j])\n",
        "                if 1770<i<1880 and 2015<j<2145 :\n",
        "                  S1meanB1_102.append(S1RGB_imgA1B1_2[i][j])  \n",
        "S1meanrefA1_702 = np.array(S1meanrefA1_702)\n",
        "S1meanB1_102 = np.array(S1meanB1_102)\n",
        "\n",
        "S1rgbrefA1_7 02= list()\n",
        "S1rgbB1_102 = list()\n",
        "for i in range(3):\n",
        "    S1rgbrefA1_702.append(S1meanrefA1_702[:,i].mean())\n",
        "    S1rgbB1_102.append(S1meanB1_102[:,i].mean())"
      ],
      "execution_count": null,
      "outputs": []
    },
    {
      "cell_type": "code",
      "metadata": {
        "id": "Wsk9Q3Zv-nyy"
      },
      "source": [
        "S1meanrefA1_802 = list()\n",
        "S1meanB2_102 = list()\n",
        "for i in range(S1RGB_imgA1B2_2.shape[0]): \n",
        "     for j in range(S1RGB_imgA1B2_2.shape[1]): \n",
        "                if 1769<i<1881 and 2019<j<2131 :\n",
        "                  S1meanrefA1_802.append(S1RGB_imgA1B2_2[i][j])\n",
        "                if 1770<i<1880 and 2015<j<2145 :\n",
        "                  S1meanB2_102.append(S1RGB_imgA1B2_2[i][j])  \n",
        "S1meanrefA1_802 = np.array(S1meanrefA1_802)\n",
        "S1meanB2_102 = np.array(S1meanB2_102)\n",
        "\n",
        "S1rgbrefA1_802 = list()\n",
        "S1rgbB2_102 = list()\n",
        "for i in range(3):\n",
        "    S1rgbrefA1_802.append(S1meanrefA1_802[:,i].mean())\n",
        "    S1rgbB2_102.append(S1meanB2_102[:,i].mean())"
      ],
      "execution_count": null,
      "outputs": []
    },
    {
      "cell_type": "code",
      "metadata": {
        "id": "dCKh80eN-nyy"
      },
      "source": [
        "S1meanrefA1_902 = list()\n",
        "S1meanB3_102 = list()\n",
        "for i in range(S1RGB_imgA1B3_2.shape[0]): \n",
        "     for j in range(S1RGB_imgA1B3_2.shape[1]): \n",
        "                if 1769<i<1881 and 2019<j<2131 :\n",
        "                  S1meanrefA1_902.append(S1RGB_imgA1B3_2[i][j])\n",
        "                if 1770<i<1880 and 2015<j<2145 :\n",
        "                  S1meanB3_102.append(S1RGB_imgA1B3_2[i][j])  \n",
        "S1meanrefA1_902 = np.array(S1meanrefA1_902)\n",
        "S1meanB3_102 = np.array(S1meanB3_102)\n",
        "\n",
        "S1rgbrefA1_902 = list()\n",
        "S1rgbB3_102 = list()\n",
        "for i in range(3):\n",
        "    S1rgbrefA1_902.append(S1meanrefA1_902[:,i].mean())\n",
        "    S1rgbB3_102.append(S1meanB3_102[:,i].mean())"
      ],
      "execution_count": null,
      "outputs": []
    },
    {
      "cell_type": "code",
      "metadata": {
        "id": "OY7G08cr-nyz"
      },
      "source": [
        "S1meanrefA1_1002 = list()\n",
        "S1meanB4_102 = list()\n",
        "for i in range(S1RGB_imgA1B4_2.shape[0]): \n",
        "     for j in range(S1RGB_imgA1B4_2.shape[1]): \n",
        "                if 1769<i<1881 and 2019<j<2131 :\n",
        "                  S1meanrefA1_1002.append(S1RGB_imgA1B4_2[i][j])\n",
        "                if 1770<i<1880 and 2015<j<2145 :\n",
        "                  S1meanB4_102.append(S1RGB_imgA1B4_2[i][j])  \n",
        "S1meanrefA1_1002 = np.array(S1meanrefA1_1002)\n",
        "S1meanB4_102 = np.array(S1meanB4_102)\n",
        "\n",
        "S1rgbrefA1_1002 = list()\n",
        "S1rgbB4_102 = list()\n",
        "for i in range(3):\n",
        "    S1rgbrefA1_1002.append(S1meanrefA1_1002[:,i].mean())\n",
        "    S1rgbB4_102.append(S1meanB4_102[:,i].mean())"
      ],
      "execution_count": null,
      "outputs": []
    },
    {
      "cell_type": "code",
      "metadata": {
        "id": "fwZ-xl_I-nyz"
      },
      "source": [
        "S1meanrefA1_1102 = list()\n",
        "S1meanC1_102 = list()\n",
        "for i in range(S1RGB_imgA1C1_2.shape[0]): \n",
        "     for j in range(S1RGB_imgA1C1_2.shape[1]): \n",
        "                if 1769<i<1881 and 2019<j<2131 :\n",
        "                  S1meanrefA1_1102.append(S1RGB_imgA1C1_2[i][j])\n",
        "                if 1770<i<1880 and 2015<j<2145 :\n",
        "                  S1meanC1_102.append(S1RGB_imgA1C1_2[i][j])  \n",
        "S1meanrefA1_1102 = np.array(S1meanrefA1_1102)\n",
        "S1meanC1_102 = np.array(S1meanC1_102)\n",
        "\n",
        "S1rgbrefA1_1102 = list()\n",
        "S1rgbC1_102 = list()\n",
        "for i in range(3):\n",
        "    S1rgbrefA1_1102.append(S1meanrefA1_1102[:,i].mean())\n",
        "    S1rgbC1_102.append(S1meanC1_102[:,i].mean())"
      ],
      "execution_count": null,
      "outputs": []
    },
    {
      "cell_type": "code",
      "metadata": {
        "id": "6zk1VOd0-ny0"
      },
      "source": [
        "S1meanrefA1_1202 = list()\n",
        "S1meanC2_102 = list()\n",
        "for i in range(S1RGB_imgA1C2_2.shape[0]): \n",
        "     for j in range(S1RGB_imgA1C2_2.shape[1]): \n",
        "                if 1769<i<1881 and 2019<j<2131 :\n",
        "                  S1meanrefA1_1202.append(S1RGB_imgA1C2_2[i][j])\n",
        "                if 1770<i<1880 and 2015<j<2145 :\n",
        "                  S1meanC2_102.append(S1RGB_imgA1C2_2[i][j])  \n",
        "S1meanrefA1_1202 = np.array(S1meanrefA1_1202)\n",
        "S1meanC2_102 = np.array(S1meanC2_102)\n",
        "\n",
        "S1rgbrefA1_1202 = list()\n",
        "S1rgbC2_102 = list()\n",
        "for i in range(3):\n",
        "    S1rgbrefA1_1202.append(S1meanrefA1_1202[:,i].mean())\n",
        "    S1rgbC2_102.append(S1meanC2_102[:,i].mean())"
      ],
      "execution_count": null,
      "outputs": []
    },
    {
      "cell_type": "code",
      "metadata": {
        "id": "e1xdUv34-ny0"
      },
      "source": [
        "S1meanrefA1_1302 = list()\n",
        "S1meanC3_102 = list()\n",
        "for i in range(S1RGB_imgA1C3_2.shape[0]): \n",
        "     for j in range(S1RGB_imgA1C3_2.shape[1]): \n",
        "                if 1769<i<1881 and 2019<j<2131 :\n",
        "                  S1meanrefA1_1302.append(S1RGB_imgA1C3_2[i][j])\n",
        "                if 1770<i<1880 and 2015<j<2145 :\n",
        "                  S1meanC3_102.append(S1RGB_imgA1C3_2[i][j])  \n",
        "S1meanrefA1_1302 = np.array(S1meanrefA1_1302)\n",
        "S1meanC3_102 = np.array(S1meanC3_102)\n",
        "\n",
        "S1rgbrefA1_1302 = list()\n",
        "S1rgbC3_102 = list()\n",
        "for i in range(3):\n",
        "    S1rgbrefA1_1302.append(S1meanrefA1_1302[:,i].mean())\n",
        "    S1rgbC3_102.append(S1meanC3_102[:,i].mean())"
      ],
      "execution_count": null,
      "outputs": []
    },
    {
      "cell_type": "code",
      "metadata": {
        "id": "6s9zmb-o-ny0"
      },
      "source": [
        "S1meanrefA1_1402 = list()\n",
        "S1meanC4_102 = list()\n",
        "for i in range(S1RGB_imgA1C4_2.shape[0]): \n",
        "     for j in range(S1RGB_imgA1C4_2.shape[1]): \n",
        "                if 1769<i<1881 and 2019<j<2131 :\n",
        "                  S1meanrefA1_1402.append(S1RGB_imgA1C4_2[i][j])\n",
        "                if 1770<i<1880 and 2015<j<2145 :\n",
        "                  S1meanC4_102.append(S1RGB_imgA1C4_2[i][j])  \n",
        "S1meanrefA1_1402 = np.array(S1meanrefA1_1402)\n",
        "S1meanC4_102 = np.array(S1meanC4_102)\n",
        "\n",
        "S1rgbrefA1_1402 = list()\n",
        "S1rgbC4_102 = list()\n",
        "for i in range(3):\n",
        "    S1rgbrefA1_1402.append(S1meanrefA1_1402[:,i].mean())\n",
        "    S1rgbC4_102.append(S1meanC4_102[:,i].mean())"
      ],
      "execution_count": null,
      "outputs": []
    },
    {
      "cell_type": "code",
      "metadata": {
        "id": "73-r0q_3-ny1"
      },
      "source": [
        "S1meanrefA1_1502 = list()\n",
        "S1meanD2_102 = list()\n",
        "for i in range(S1RGB_imgA1D2_2.shape[0]): \n",
        "     for j in range(S1RGB_imgA1D2_2.shape[1]): \n",
        "                if 1769<i<1881 and 2019<j<2131 :\n",
        "                  S1meanrefA1_1502.append(S1RGB_imgA1D2_2[i][j])\n",
        "                if 1770<i<1880 and 2015<j<2145 :\n",
        "                  S1meanD2_102.append(S1RGB_imgA1D2_2[i][j])  \n",
        "S1meanrefA1_1502 = np.array(S1meanrefA1_1502)\n",
        "S1meanD2_102 = np.array(S1meanD2_102)\n",
        "\n",
        "S1rgbrefA1_1502 = list()\n",
        "S1rgbD2_102 = list()\n",
        "for i in range(3):\n",
        "    S1rgbrefA1_1502.append(S1meanrefA1_1502[:,i].mean())\n",
        "    S1rgbD2_102.append(S1meanD2_102[:,i].mean())"
      ],
      "execution_count": null,
      "outputs": []
    },
    {
      "cell_type": "code",
      "metadata": {
        "id": "5pow4JZn-ny1"
      },
      "source": [
        "S1meanrefA1_1602 = list()\n",
        "S1meanD3_102 = list()\n",
        "for i in range(S1RGB_imgA1D3_2.shape[0]): \n",
        "     for j in range(S1RGB_imgA1D3_2.shape[1]): \n",
        "                if 1769<i<1881 and 2019<j<2131 :\n",
        "                  S1meanrefA1_1602.append(S1RGB_imgA1D3_2[i][j])\n",
        "                if 1770<i<1880 and 2015<j<2145 :\n",
        "                  S1meanD3_102.append(S1RGB_imgA1D3_2[i][j])  \n",
        "S1meanrefA1_1602 = np.array(S1meanrefA1_1602)\n",
        "S1meanD3_102 = np.array(S1meanD3_102\n",
        "\n",
        "S1rgbrefA1_1602 = list()\n",
        "S1rgbD3_102 = list()\n",
        "for i in range(3):\n",
        "    S1rgbrefA1_1602.append(S1meanrefA1_1602[:,i].mean())\n",
        "    S1rgbD3_102.append(S1meanD3_102[:,i].mean())"
      ],
      "execution_count": null,
      "outputs": []
    },
    {
      "cell_type": "code",
      "metadata": {
        "id": "OvQd7MJW-ny1"
      },
      "source": [
        "S1meanrefA1_1702= list()\n",
        "S1meanD4_102 = list()\n",
        "for i in range(S1RGB_imgA1D4_2.shape[0]): \n",
        "     for j in range(S1RGB_imgA1D4_2.shape[1]): \n",
        "                if 1769<i<1881 and 2019<j<2131 :\n",
        "                  S1meanrefA1_1702.append(S1RGB_imgA1D4_2i][j])\n",
        "                if 1770<i<1880 and 2015<j<2145 :\n",
        "                  S1meanD4_102.append(S1RGB_imgA1D4_2[i][j])  \n",
        "S1meanrefA1_1702 = np.array(S1meanrefA1_1402)\n",
        "S1meanD4_102 = np.array(S1meanD4_102)\n",
        "\n",
        "S1rgbrefA1_1702 = list()\n",
        "S1rgbD4_102 = list()\n",
        "for i in range(3):\n",
        "    S1rgbrefA1_1702.append(S1meanrefA1_1702[:,i].mean())\n",
        "    S1rgbD4_102.append(S1meanD4_102[:,i].mean())"
      ],
      "execution_count": null,
      "outputs": []
    },
    {
      "cell_type": "markdown",
      "metadata": {
        "id": "jHC0T1Oy-XCS"
      },
      "source": [
        "###Img 3"
      ]
    },
    {
      "cell_type": "code",
      "metadata": {
        "id": "7hyv2MRI-ph_"
      },
      "source": [
        "S1meanrefA1_103 = list()\n",
        "S1meanA1_203 = list()\n",
        "for i in range(S1RGB_imgA1A1_3.shape[0]): #ให้ i รันตาม row หรือ shape[0] คือแถว มีทั้งหมด 4032 แถว ของภาพที่ปรับขนาดมาแล้ว\n",
        "     for j in range(S1RGB_imgA1A1_3.shape[1]): #ให้ j รันตาม colum มีทั้งหมด 3024 colum เช่น แถวที่ 1 เข้ามาให้รันครบ 3024colum\n",
        "                if 1769<i<1881 and 2019<j<2131 :\n",
        "                  S1meanrefA1_1.append(S1RGB_imgA1A1_3[i][j])\n",
        "                if 1770<i<1880 and 2015<j<2145 :\n",
        "                  S1meanA1_2.append(S1RGB_imgA1A1_3[i][j])  \n",
        "S1meanrefA1_103 = np.array(S1meanrefA1_103)\n",
        "S1meanA1_203 = np.array(S1meanA1_203)\n",
        "\n",
        "S1rgbrefA1_103 = list()\n",
        "S1rgbA1_203 = list()\n",
        "for i in range(3):\n",
        "    S1rgbrefA1_103.append(S1meanrefA1_103[:,i].mean())\n",
        "    S1rgbA1_203.append(S1meanA1_203[:,i].mean())\n",
        "S1rgbrefA1_103,S1rgbA1_2 03"
      ],
      "execution_count": null,
      "outputs": []
    },
    {
      "cell_type": "code",
      "metadata": {
        "id": "CwDhy4x7OD7D"
      },
      "source": [
        "S1meanrefA1_303 = list()\n",
        "S1meanA2_103 = list()\n",
        "for i in range(S1RGB_imgA1A2_3.shape[0]): \n",
        "     for j in range(S1RGB_imgA1A2_3.shape[1]): \n",
        "                if 1769<i<1881 and 2019<j<2131 :\n",
        "                  S1meanrefA1_303.append(S1RGB_imgA1A2_3[i][j])\n",
        "                if 1770<i<1880 and 2015<j<2145 :\n",
        "                  S1meanA2_103.append(S1RGB_imgA1A2_3[i][j])  \n",
        "S1meanrefA1_303 = np.array(S1meanrefA1_303)\n",
        "S1meanA2_103 = np.array(S1meanA2_103)\n",
        "\n",
        "S1rgbrefA1_303 = list()\n",
        "S1rgbA2_103 = list()\n",
        "for i in range(3):\n",
        "    S1rgbrefA1_303.append(S1meanrefA1_303[:,i].mean())\n",
        "    S1rgbA2_103.append(S1meanA2_103[:,i].mean())"
      ],
      "execution_count": null,
      "outputs": []
    },
    {
      "cell_type": "code",
      "metadata": {
        "id": "UYKaG174OD7J"
      },
      "source": [
        "S1meanrefA1_403 = list()\n",
        "S1meanA3_103 = list()\n",
        "for i in range(S1RGB_imgA1A3_3.shape[0]): \n",
        "     for j in range(S1RGB_imgA1A3_3.shape[1]): \n",
        "                if 1769<i<1881 and 2019<j<2131 :\n",
        "                  S1meanrefA1_403.append(S1RGB_imgA1A33_[i][j])\n",
        "                if 1770<i<1880 and 2015<j<2145 :\n",
        "                  S1meanA3_103.append(S1RGB_imgA1A3_3[i][j])  \n",
        "S1meanrefA1_403= np.array(S1meanrefA1_403 )\n",
        "S1meanA3_103 = np.array(S1meanA3_103 )\n",
        "\n",
        "S1rgbrefA1_403  = list()\n",
        "S1rgbA3_103  = list()\n",
        "for i in range(3):\n",
        "    S1rgbrefA1_403 .append(S1meanrefA1_403[:,i].mean())\n",
        "    S1rgbA3_103 .append(S1meanA3_103 [:,i].mean())"
      ],
      "execution_count": null,
      "outputs": []
    },
    {
      "cell_type": "code",
      "metadata": {
        "id": "BXhaGTDpOD7L"
      },
      "source": [
        "S1meanrefA1_503  = list()\n",
        "S1meanA3_5103  = list()\n",
        "for i in range(S1RGB_imgA1A3_53.shape[0]): \n",
        "     for j in range(S1RGB_imgA1A3_53.shape[1]): \n",
        "                if 1769<i<1881 and 2019<j<2131 :\n",
        "                  S1meanrefA1_503 .append(S1RGB_imgA1A3_53[i][j])\n",
        "                if 1770<i<1880 and 2015<j<2145 :\n",
        "                  S1meanA3_5103 .append(S1RGB_imgA1A3_53[i][j])  \n",
        "S1meanrefA1_503  = np.array(S1meanrefA1_503 )\n",
        "S1meanA3_5103  = np.array(S1meanA3_5103 )\n",
        "\n",
        "S1rgbrefA1_503  = list()\n",
        "S1rgbA3_5103  = list()\n",
        "for i in range(3):\n",
        "    S1rgbrefA1_503 .append(S1meanrefA1_503 [:,i].mean())\n",
        "    S1rgbA3_5103 .append(S1meanA3_5103 [:,i].mean())"
      ],
      "execution_count": null,
      "outputs": []
    },
    {
      "cell_type": "code",
      "metadata": {
        "id": "_r-gQx7_OD7N"
      },
      "source": [
        "S1meanrefA1_603  = list()\n",
        "S1meanA4_103  = list()\n",
        "for i in range(S1RGB_imgA1A4_3.shape[0]): \n",
        "     for j in range(S1RGB_imgA1A4_3.shape[1]): \n",
        "                if 1769<i<1881 and 2019<j<2131 :\n",
        "                  S1meanrefA1_603 .append(S1RGB_imgA1A4_3[i][j])\n",
        "                if 1770<i<1880 and 2015<j<2145 :\n",
        "                  S1meanA4_103 .append(S1RGB_imgA1A4_3[i][j])  \n",
        "S1meanrefA1_603  = np.array(S1meanrefA1_603 )\n",
        "S1meanA4_103  = np.array(S1meanA4_103 )\n",
        "\n",
        "S1rgbrefA1_603  = list()\n",
        "S1rgbA4_103  = list()\n",
        "for i in range(3):\n",
        "    S1rgbrefA1_603 .append(S1meanrefA1_603[:,i].mean())\n",
        "    S1rgbA4_103 .append(S1meanA4_103 [:,i].mean())"
      ],
      "execution_count": null,
      "outputs": []
    },
    {
      "cell_type": "code",
      "metadata": {
        "id": "GuFjy19oOD7P"
      },
      "source": [
        "S1meanrefA1_703  = list()\n",
        "S1meanB1_103  = list()\n",
        "for i in range(S1RGB_imgA1B1_3.shape[0]): \n",
        "     for j in range(S1RGB_imgA1B1_3.shape[1]): \n",
        "                if 1769<i<1881 and 2019<j<2131 :\n",
        "                  S1meanrefA1_703 .append(S1RGB_imgA1B1_3[i][j])\n",
        "                if 1770<i<1880 and 2015<j<2145 :\n",
        "                  S1meanB1_103 .append(S1RGB_imgA1B1_3[i][j])  \n",
        "S1meanrefA1_703  = np.array(S1meanrefA1_73)\n",
        "S1meanB1_103  = np.array(S1meanB1_103)\n",
        "\n",
        "S1rgbrefA1_703  = list()\n",
        "S1rgbB1_103  = list()\n",
        "for i in range(3):\n",
        "    S1rgbrefA1_703 .append(S1meanrefA1_703 [:,i].mean())\n",
        "    S1rgbB1_103 .append(S1meanB1_103 [:,i].mean())"
      ],
      "execution_count": null,
      "outputs": []
    },
    {
      "cell_type": "code",
      "metadata": {
        "id": "b9OoXHnpOD7R"
      },
      "source": [
        "S1meanrefA1_803  = list()\n",
        "S1meanB2_103  = list()\n",
        "for i in range(S1RGB_imgA1B2_3.shape[0]): \n",
        "     for j in range(S1RGB_imgA1B2_3.shape[1]): \n",
        "                if 1769<i<1881 and 2019<j<2131 :\n",
        "                  S1meanrefA1_803 .append(S1RGB_imgA1B2_3[i][j])\n",
        "                if 1770<i<1880 and 2015<j<2145 :\n",
        "                  S1meanB2_103 .append(S1RGB_imgA1B2_3[i][j])  \n",
        "S1meanrefA1_803  = np.array(S1meanrefA1_803 )\n",
        "S1meanB2_103  = np.array(S1meanB2_103 )\n",
        "\n",
        "S1rgbrefA1_803  = list()\n",
        "S1rgbB2_103  = list()\n",
        "for i in range(3):\n",
        "    S1rgbrefA1_803 .append(S1meanrefA1_803 [:,i].mean())\n",
        "    S1rgbB2_103 .append(S1meanB2_103 [:,i].mean())"
      ],
      "execution_count": null,
      "outputs": []
    },
    {
      "cell_type": "code",
      "metadata": {
        "id": "yl2iPvWgOD7S"
      },
      "source": [
        "S1meanrefA1_903  = list()\n",
        "S1meanB3_103  = list()\n",
        "for i in range(S1RGB_imgA1B3_3.shape[0]): \n",
        "     for j in range(S1RGB_imgA1B3_3.shape[1]): \n",
        "                if 1769<i<1881 and 2019<j<2131 :\n",
        "                  S1meanrefA1_903 .append(S1RGB_imgA1B3_3[i][j])\n",
        "                if 1770<i<1880 and 2015<j<2145 :\n",
        "                  S1meanB3_103 .append(S1RGB_imgA1B3_3[i][j])  \n",
        "S1meanrefA1_903  = np.array(S1meanrefA1_903 )\n",
        "S1meanB3_103  = np.array(S1meanB3_103 )\n",
        "\n",
        "S1rgbrefA1_903  = list()\n",
        "S1rgbB3_103  = list()\n",
        "for i in range(3):\n",
        "    S1rgbrefA1_903 .append(S1meanrefA1_903 [:,i].mean())\n",
        "    S1rgbB3_103 .append(S1meanB3_103 [:,i].mean())"
      ],
      "execution_count": null,
      "outputs": []
    },
    {
      "cell_type": "code",
      "metadata": {
        "id": "wHIew2X0OD7T"
      },
      "source": [
        "S1meanrefA1_1003  = list()\n",
        "S1meanB4_103  = list()\n",
        "for i in range(S1RGB_imgA1B4_3.shape[0]): \n",
        "     for j in range(S1RGB_imgA1B4_3.shape[1]): \n",
        "                if 1769<i<1881 and 2019<j<2131 :\n",
        "                  S1meanrefA1_1003 .append(S1RGB_imgA1B4_3[i][j])\n",
        "                if 1770<i<1880 and 2015<j<2145 :\n",
        "                  S1meanB4_103 .append(S1RGB_imgA1B4_3[i][j])  \n",
        "S1meanrefA1_1003  = np.array(S1meanrefA1_1003 )\n",
        "S1meanB4_103  = np.array(S1meanB4_103 )\n",
        "\n",
        "S1rgbrefA1_1003  = list()\n",
        "S1rgbB4_103  = list()\n",
        "for i in range(3):\n",
        "    S1rgbrefA1_1003 .append(S1meanrefA1_1003[:,i].mean())\n",
        "    S1rgbB4_103 .append(S1meanB4_103 [:,i].mean())"
      ],
      "execution_count": null,
      "outputs": []
    },
    {
      "cell_type": "code",
      "metadata": {
        "id": "2QD9BQEbOD7U"
      },
      "source": [
        "S1meanrefA1_1103  = list()\n",
        "S1meanC1_103  = list()\n",
        "for i in range(S1RGB_imgA1C1_3.shape[0]): \n",
        "     for j in range(S1RGB_imgA1C1_3.shape[1]): \n",
        "                if 1769<i<1881 and 2019<j<2131 :\n",
        "                  S1meanrefA1_1103 .append(S1RGB_imgA1C1_3[i][j])\n",
        "                if 1770<i<1880 and 2015<j<2145 :\n",
        "                  S1meanC1_103 .append(S1RGB_imgA1C1_3[i][j])  \n",
        "S1meanrefA1_1103  = np.array(S1meanrefA1_1103 )\n",
        "S1meanC1_103  = np.array(S1meanC1_103 )\n",
        "\n",
        "S1rgbrefA1_1103  = list()\n",
        "S1rgbC1_103  = list()\n",
        "for i in range(3):\n",
        "    S1rgbrefA1_1103.append(S1meanrefA1_1103 [:,i].mean())\n",
        "    S1rgbC1_103.append(S1meanC1_103 [:,i].mean())"
      ],
      "execution_count": null,
      "outputs": []
    },
    {
      "cell_type": "code",
      "metadata": {
        "id": "Ey1K7hV-OD7V"
      },
      "source": [
        "S1meanrefA1_1203  = list()\n",
        "S1meanC2_103 = list()\n",
        "for i in range(S1RGB_imgA1C2_3.shape[0]): \n",
        "     for j in range(S1RGB_imgA1C2_3.shape[1]): \n",
        "                if 1769<i<1881 and 2019<j<2131 :\n",
        "                  S1meanrefA1_1203.append(S1RGB_imgA1C2_3[i][j])\n",
        "                if 1770<i<1880 and 2015<j<2145 :\n",
        "                  S1meanC2_103.append(S1RGB_imgA1C2_3[i][j])  \n",
        "S1meanrefA1_1203 = np.array(S1meanrefA1_1203)\n",
        "S1meanC2_103 = np.array(S1meanC2_103)\n",
        "\n",
        "S1rgbrefA1_1203 = list()\n",
        "S1rgbC2_103 = list()\n",
        "for i in range(3):\n",
        "    S1rgbrefA1_1203.append(S1meanrefA1_1203[:,i].mean())\n",
        "    S1rgbC2_103.append(S1meanC2_103[:,i].mean())"
      ],
      "execution_count": null,
      "outputs": []
    },
    {
      "cell_type": "code",
      "metadata": {
        "id": "Kwplx8sDOD7W"
      },
      "source": [
        "S1meanrefA1_1303 = list()\n",
        "S1meanC3_103 = list()\n",
        "for i in range(S1RGB_imgA1C3_3.shape[0]): \n",
        "     for j in range(S1RGB_imgA1C3_3.shape[1]): \n",
        "                if 1769<i<1881 and 2019<j<2131 :\n",
        "                  S1meanrefA1_1303.append(S1RGB_imgA1C3_3[i][j])\n",
        "                if 1770<i<1880 and 2015<j<2145 :\n",
        "                  S1meanC3_103append(S1RGB_imgA1C3_3i][j])  \n",
        "S1meanrefA1_1303 = np.array(S1meanrefA1_1303)\n",
        "S1meanC3_103 = np.array(S1meanC3_103)\n",
        "\n",
        "S1rgbrefA1_1303 = list()\n",
        "S1rgbC3_103 = list()\n",
        "for i in range(3):\n",
        "    S1rgbrefA1_1303.append(S1meanrefA1_1303[:,i].mean())\n",
        "    S1rgbC3_103.append(S1meanC3_103[:,i].mean())"
      ],
      "execution_count": null,
      "outputs": []
    },
    {
      "cell_type": "code",
      "metadata": {
        "id": "YRT1ACVGOD7W"
      },
      "source": [
        "S1meanrefA1_1403 = list()\n",
        "S1meanC4_103 = list()\n",
        "for i in range(S1RGB_imgA1C4_3.shape[0]): \n",
        "     for j in range(S1RGB_imgA1C4_3.shape[1]): \n",
        "                if 1769<i<1881 and 2019<j<2131 :\n",
        "                  S1meanrefA1_1403.append(S1RGB_imgA1C4_3[i][j])\n",
        "                if 1770<i<1880 and 2015<j<2145 :\n",
        "                  S1meanC4_103.append(S1RGB_imgA1C4_3[i][j])  \n",
        "S1meanrefA1_1403 = np.array(S1meanrefA1_1403)\n",
        "S1meanC4_103 = np.array(S1meanC4_103)\n",
        "\n",
        "S1rgbrefA1_1403 = list()\n",
        "S1rgbC4_103 = list()\n",
        "for i in range(3):\n",
        "    S1rgbrefA1_1403.append(S1meanrefA1_1403[:,i].mean())\n",
        "    S1rgbC4_103.append(S1meanC4_103[:,i].mean())"
      ],
      "execution_count": null,
      "outputs": []
    },
    {
      "cell_type": "code",
      "metadata": {
        "id": "T7eIAU-fOD7X"
      },
      "source": [
        "S1meanrefA1_1503 = list()\n",
        "S1meanD2_103 = list()\n",
        "for i in range(S1RGB_imgA1D2_3.shape[0]): \n",
        "     for j in range(S1RGB_imgA1D2_3.shape[1]): \n",
        "                if 1769<i<1881 and 2019<j<2131 :\n",
        "                  S1meanrefA1_1503.append(S1RGB_imgA1D2_3[i][j])\n",
        "                if 1770<i<1880 and 2015<j<2145 :\n",
        "                  S1meanD2_103.append(S1RGB_imgA1D2_3[i][j])  \n",
        "S1meanrefA1_1503 = np.array(S1meanrefA1_1503)\n",
        "S1meanD2_103 = np.array(S1meanD2_103)\n",
        "\n",
        "S1rgbrefA1_1503 = list()\n",
        "S1rgbD2_103 = list()\n",
        "for i in range(3):\n",
        "    S1rgbrefA1_1503.append(S1meanrefA1_1503[:,i].mean())\n",
        "    S1rgbD2_103.append(S1meanD2_103[:,i].mean())"
      ],
      "execution_count": null,
      "outputs": []
    },
    {
      "cell_type": "code",
      "metadata": {
        "id": "DpA4wXbfOD7Y"
      },
      "source": [
        "S1meanrefA1_1603 = list()\n",
        "S1meanD3_103 = list()\n",
        "for i in range(S1RGB_imgA1D3_3.shape[0]): \n",
        "     for j in range(S1RGB_imgA1D3_3.shape[1]): \n",
        "                if 1769<i<1881 and 2019<j<2131 :\n",
        "                  S1meanrefA1_1603.append(S1RGB_imgA1D33_[i][j])\n",
        "                if 1770<i<1880 and 2015<j<2145 :\n",
        "                  S1meanD3_103.append(S1RGB_imgA1D3_3[i][j])  \n",
        "S1meanrefA1_1603 = np.array(S1meanrefA1_1603)\n",
        "S1meanD3_103 = np.array(S1meanD3_103)\n",
        "\n",
        "S1rgbrefA1_1603 = list()\n",
        "S1rgbD3_103 = list()\n",
        "for i in range(3):\n",
        "    S1rgbrefA1_1603.append(S1meanrefA1_1603[:,i].mean())\n",
        "    S1rgbD3_103.append(S1meanD3_103[:,i].mean())"
      ],
      "execution_count": null,
      "outputs": []
    },
    {
      "cell_type": "code",
      "metadata": {
        "id": "HYBlGYW-OD7Z"
      },
      "source": [
        "S1meanrefA1_1703= list()\n",
        "S1meanD4_103 = list()\n",
        "for i in range(S1RGB_imgA1D4_3.shape[0]): \n",
        "     for j in range(S1RGB_imgA1D4_3.shape[1]): \n",
        "                if 1769<i<1881 and 2019<j<2131 :\n",
        "                  S1meanrefA1_1703.append(S1RGB_imgA1D4_3i][j])\n",
        "                if 1770<i<1880 and 2015<j<2145 :\n",
        "                  S1meanD4_103.append(S1RGB_imgA1D4_3[i][j])  \n",
        "S1meanrefA1_1703 = np.array(S1meanrefA1_1403)\n",
        "S1meanD4_103 = np.array(S1meanD4_103)\n",
        "\n",
        "S1rgbrefA1_1703 = list()\n",
        "S1rgbD4_103 = list()\n",
        "for i in range(3):\n",
        "    S1rgbrefA1_1703.append(S1meanrefA1_1703[:,i].mean())\n",
        "    S1rgbD4_103.append(S1meanD4_103[:,i].mean())"
      ],
      "execution_count": null,
      "outputs": []
    },
    {
      "cell_type": "markdown",
      "metadata": {
        "id": "Y80UKTuT-XCU"
      },
      "source": [
        "###Img 4"
      ]
    },
    {
      "cell_type": "code",
      "metadata": {
        "id": "bn84P_fUOzpo"
      },
      "source": [
        "S1meanrefA1_104 = list()\n",
        "S1meanA1_204 = list()\n",
        "for i in range(S1RGB_imgA1A1_4.shape[0]): #ให้ i รันตาม row หรือ shape[0] คือแถว มีทั้งหมด 4032 แถว ของภาพที่ปรับขนาดมาแล้ว\n",
        "     for j in range(S1RGB_imgA1A1_4.shape[1]): #ให้ j รันตาม colum มีทั้งหมด 3024 colum เช่น แถวที่ 1 เข้ามาให้รันครบ 3024colum\n",
        "                if 1769<i<1881 and 2019<j<2131 :\n",
        "                  S1meanrefA1_104.append(S1RGB_imgA1A1_4[i][j])\n",
        "                if 1770<i<1880 and 2015<j<2145 :\n",
        "                  S1meanA1_204.append(S1RGB_imgA1A1_4[i][j])  \n",
        "S1meanrefA1_104 = np.array(S1meanrefA1_104)\n",
        "S1meanA1_204 = np.array(S1meanA1_204)\n",
        "\n",
        "S1rgbrefA1_104 = list()\n",
        "S1rgbA1_204 = list()\n",
        "for i in range(3):\n",
        "    S1rgbrefA1_104.append(S1meanrefA1_104[:,i].mean())\n",
        "    S1rgbA1_204.append(S1meanA1_204[:,i].mean())\n",
        "S1rgbrefA1_104,S1rgbA1_204 "
      ],
      "execution_count": null,
      "outputs": []
    },
    {
      "cell_type": "code",
      "metadata": {
        "id": "HvR90hw9OYMN"
      },
      "source": [
        "S1meanrefA1_304 = list()\n",
        "S1meanA2_104 = list()\n",
        "for i in range(S1RGB_imgA1A2_4.shape[0]): \n",
        "     for j in range(S1RGB_imgA1A2_.44shape[1]): \n",
        "                if 1769<i<1881 and 2019<j<2131 :\n",
        "                  S1meanrefA1_304.append(S1RGB_imgA1A2_4[i][j])\n",
        "                if 1770<i<1880 and 2015<j<2145 :\n",
        "                  S1meanA2_104.append(S1RGB_imgA1A2_4[i][j])  \n",
        "S1meanrefA1_304 = np.array(S1meanrefA1_304)\n",
        "S1meanA2_104 = np.array(S1meanA2_104)\n",
        "\n",
        "S1rgbrefA1_304 = list()\n",
        "S1rgbA2_104 = list()\n",
        "for i in range(3):\n",
        "    S1rgbrefA1_304.append(S1meanrefA1_304[:,i].mean())\n",
        "    S1rgbA2_104.append(S1meanA2_104[:,i].mean())"
      ],
      "execution_count": null,
      "outputs": []
    },
    {
      "cell_type": "code",
      "metadata": {
        "id": "dXd8lOH0OYMN"
      },
      "source": [
        "S1meanrefA1_404 = list()\n",
        "S1meanA3_104 = list()\n",
        "for i in range(S1RGB_imgA1A3_4.shape[0]): \n",
        "     for j in range(S1RGB_imgA1A3_4.shape[1]): \n",
        "                if 1769<i<1881 and 2019<j<2131 :\n",
        "                  S1meanrefA1_404.append(S1RGB_imgA1A3_4[i][j])\n",
        "                if 1770<i<1880 and 2015<j<2145 :\n",
        "                  S1meanA3_104.append(S1RGB_imgA1A3_4[i][j])  \n",
        "S1meanrefA1_404 = np.array(S1meanrefA1_404)\n",
        "S1meanA3_104 = np.array(S1meanA3_104)\n",
        "\n",
        "S1rgbrefA1_404 = list()\n",
        "S1rgbA3_104 = list()\n",
        "for i in range(3):\n",
        "    S1rgbrefA1_404.append(S1meanrefA1_404[:,i].mean())\n",
        "    S1rgbA3_104.append(S1meanA3_104[:,i].mean())"
      ],
      "execution_count": null,
      "outputs": []
    },
    {
      "cell_type": "code",
      "metadata": {
        "id": "Vl4y00CXOYMO"
      },
      "source": [
        "S1meanrefA1_504 = list()\n",
        "S1meanA3_5104 = list()\n",
        "for i in range(S1RGB_imgA1A3_54.shape[0]): \n",
        "     for j in range(S1RGB_imgA1A3_54.shape[1]): \n",
        "                if 1769<i<1881 and 2019<j<2131 :\n",
        "                  S1meanrefA1_504.append(S1RGB_imgA1A3_54[i][j])\n",
        "                if 1770<i<1880 and 2015<j<2145 :\n",
        "                  S1meanA3_5104.append(S1RGB_imgA1A3_54[i][j])  \n",
        "S1meanrefA1_504 = np.array(S1meanrefA1_5104)\n",
        "S1meanA3_5104 = np.array(S1meanA3_5104)\n",
        "\n",
        "S1rgbrefA1_504 = list()\n",
        "S1rgbA3_5104 = list()\n",
        "for i in range(3):\n",
        "    S1rgbrefA1_504.append(S1meanrefA1_504[:,i].mean())\n",
        "    S1rgbA3_5104.append(S1meanA3_5104[:,i].mean())"
      ],
      "execution_count": null,
      "outputs": []
    },
    {
      "cell_type": "code",
      "metadata": {
        "id": "6oEuSutGOYMP"
      },
      "source": [
        "S1meanrefA1_604 = list()\n",
        "S1meanA4_104 = list()\n",
        "for i in range(S1RGB_imgA1A4_4.shape[0]): \n",
        "     for j in range(S1RGB_imgA1A4_4.shape[1]): \n",
        "                if 1769<i<1881 and 2019<j<2131 :\n",
        "                  S1meanrefA1_604.append(S1RGB_imgA1A4_4[i][j])\n",
        "                if 1770<i<1880 and 2015<j<2145 :\n",
        "                  S1meanA4_104.append(S1RGB_imgA1A4_4[i][j])  \n",
        "S1meanrefA1_604 = np.array(S1meanrefA1_604)\n",
        "S1meanA4_104 = np.array(S1meanA4_104)\n",
        "\n",
        "S1rgbrefA1_604 = list()\n",
        "S1rgbA4_104 = list()\n",
        "for i in range(3):\n",
        "    S1rgbrefA1_604.append(S1meanrefA1_604[:,i].mean())\n",
        "    S1rgbA4_104.append(S1meanA4_104[:,i].mean())"
      ],
      "execution_count": null,
      "outputs": []
    },
    {
      "cell_type": "code",
      "metadata": {
        "id": "cSHA_FHAOYMP"
      },
      "source": [
        "S1meanrefA1_704 = list()\n",
        "S1meanB1_104 = list()\n",
        "for i in range(S1RGB_imgA1B1_4.shape[0]): \n",
        "     for j in range(S1RGB_imgA1B1_4.shape[1]): \n",
        "                if 1769<i<1881 and 2019<j<2131 :\n",
        "                  S1meanrefA1_704.append(S1RGB_imgA1B1_4[i][j])\n",
        "                if 1770<i<1880 and 2015<j<2145 :\n",
        "                  S1meanB1_104.append(S1RGB_imgA1B1_4[i][j])  \n",
        "S1meanrefA1_704 = np.array(S1meanrefA1_704)\n",
        "S1meanB1_104 = np.array(S1meanB1_104)\n",
        "\n",
        "S1rgbrefA1_704 = list()\n",
        "S1rgbB1_104 = list()\n",
        "for i in range(3):\n",
        "    S1rgbrefA1_704.append(S1meanrefA1_704[:,i].mean())\n",
        "    S1rgbB1_104.append(S1meanB1_104[:,i].mean())"
      ],
      "execution_count": null,
      "outputs": []
    },
    {
      "cell_type": "code",
      "metadata": {
        "id": "t-4GZQBGOYMQ"
      },
      "source": [
        "S1meanrefA1_804 = list()\n",
        "S1meanB2_104 = list()\n",
        "for i in range(S1RGB_imgA1B2_4.shape[0]): \n",
        "     for j in range(S1RGB_imgA1B2_4.shape[1]): \n",
        "                if 1769<i<1881 and 2019<j<2131 :\n",
        "                  S1meanrefA1_804.append(S1RGB_imgA1B2_4[i][j])\n",
        "                if 1770<i<1880 and 2015<j<2145 :\n",
        "                  S1meanB2_104.append(S1RGB_imgA1B2_4[i][j])  \n",
        "S1meanrefA1_804 = np.array(S1meanrefA1_804)\n",
        "S1meanB2_104 = np.array(S1meanB2_104)\n",
        "\n",
        "S1rgbrefA1_804 = list()\n",
        "S1rgbB2_104 = list()\n",
        "for i in range(3):\n",
        "    S1rgbrefA1_804.append(S1meanrefA1_804[:,i].mean())\n",
        "    S1rgbB2_104.append(S1meanB2_104[:,i].mean())"
      ],
      "execution_count": null,
      "outputs": []
    },
    {
      "cell_type": "code",
      "metadata": {
        "id": "ZCK-5klmOYMQ"
      },
      "source": [
        "S1meanrefA1_904 = list()\n",
        "S1meanB3_104 = list()\n",
        "for i in range(S1RGB_imgA1B3_4.shape[0]): \n",
        "     for j in range(S1RGB_imgA1B3_4.shape[1]): \n",
        "                if 1769<i<1881 and 2019<j<2131 :\n",
        "                  S1meanrefA1_904.append(S1RGB_imgA1B3_4[i][j])\n",
        "                if 1770<i<1880 and 2015<j<2145 :\n",
        "                  S1meanB3_104.append(S1RGB_imgA1B3_4[i][j])  \n",
        "S1meanrefA1_904 = np.array(S1meanrefA1_904)\n",
        "S1meanB3_104 = np.array(S1meanB3_104)\n",
        "\n",
        "S1rgbrefA1_904 = list()\n",
        "S1rgbB3_104 = list()\n",
        "for i in range(3):\n",
        "    S1rgbrefA1_904.append(S1meanrefA1_904[:,i].mean())\n",
        "    S1rgbB3_104.append(S1meanB3_104[:,i].mean())"
      ],
      "execution_count": null,
      "outputs": []
    },
    {
      "cell_type": "code",
      "metadata": {
        "id": "qQDaQYu9OYMQ"
      },
      "source": [
        "S1meanrefA1_1004 = list()\n",
        "S1meanB4_104 = list()\n",
        "for i in range(S1RGB_imgA1B4_4.shape[0]): \n",
        "     for j in range(S1RGB_imgA1B4_4.shape[1]): \n",
        "                if 1769<i<1881 and 2019<j<2131 :\n",
        "                  S1meanrefA1_1004.append(S1RGB_imgA1B4_4[i][j])\n",
        "                if 1770<i<1880 and 2015<j<2145 :\n",
        "                  S1meanB4_104.append(S1RGB_imgA1B4_4[i][j])  \n",
        "S1meanrefA1_1004 = np.array(S1meanrefA1_1004)\n",
        "S1meanB4_104 = np.array(S1meanB4_104)\n",
        "\n",
        "S1rgbrefA1_1004 = list()\n",
        "S1rgbB4_104 = list()\n",
        "for i in range(3):\n",
        "    S1rgbrefA1_1004.append(S1meanrefA1_1004[:,i].mean())\n",
        "    S1rgbB4_104.append(S1meanB4_104[:,i].mean())"
      ],
      "execution_count": null,
      "outputs": []
    },
    {
      "cell_type": "code",
      "metadata": {
        "id": "ewVZRrNNOYMR"
      },
      "source": [
        "S1meanrefA1_1104 = list()\n",
        "S1meanC1_104 = list()\n",
        "for i in range(S1RGB_imgA1C1_4.shape[0]): \n",
        "     for j in range(S1RGB_imgA1C1_4.shape[1]): \n",
        "                if 1769<i<1881 and 2019<j<2131 :\n",
        "                  S1meanrefA1_1104.append(S1RGB_imgA1C1_4[i][j])\n",
        "                if 1770<i<1880 and 2015<j<2145 :\n",
        "                  S1meanC1_104.append(S1RGB_imgA1C1_4[i][j])  \n",
        "S1meanrefA1_1104 = np.array(S1meanrefA1_1104)\n",
        "S1meanC1_104 = np.array(S1meanC1_104)\n",
        "\n",
        "S1rgbrefA1_1104 = list()\n",
        "S1rgbC1_104 = list()\n",
        "for i in range(3):\n",
        "    S1rgbrefA1_1104.append(S1meanrefA1_1104[:,i].mean())\n",
        "    S1rgbC1_104.append(S1meanC1_104[:,i].mean())"
      ],
      "execution_count": null,
      "outputs": []
    },
    {
      "cell_type": "code",
      "metadata": {
        "id": "1fjC_EdYOYMR"
      },
      "source": [
        "S1meanrefA1_1204 = list()\n",
        "S1meanC2_104 = list()\n",
        "for i in range(S1RGB_imgA1C2_4.shape[0]): \n",
        "     for j in range(S1RGB_imgA1C2_4.shape[1]): \n",
        "                if 1769<i<1881 and 2019<j<2131 :\n",
        "                  S1meanrefA1_1204.append(S1RGB_imgA1C2_4[i][j])\n",
        "                if 1770<i<1880 and 2015<j<2145 :\n",
        "                  S1meanC2_104.append(S1RGB_imgA1C2_4[i][j])  \n",
        "S1meanrefA1_1204 = np.array(S1meanrefA1_1204)\n",
        "S1meanC2_104 = np.array(S1meanC2_104)\n",
        "\n",
        "S1rgbrefA1_1204 = list()\n",
        "S1rgbC2_104 = list()\n",
        "for i in range(3):\n",
        "    S1rgbrefA1_1204.append(S1meanrefA1_1204[:,i].mean())\n",
        "    S1rgbC2_104.append(S1meanC2_104[:,i].mean())"
      ],
      "execution_count": null,
      "outputs": []
    },
    {
      "cell_type": "code",
      "metadata": {
        "id": "QvnG7iiVOYMR"
      },
      "source": [
        "S1meanrefA1_1304 = list()\n",
        "S1meanC3_104 = list()\n",
        "for i in range(S1RGB_imgA1C3_4.shape[0]): \n",
        "     for j in range(S1RGB_imgA1C3_4.shape[1]): \n",
        "                if 1769<i<1881 and 2019<j<2131 :\n",
        "                  S1meanrefA1_1304.append(S1RGB_imgA1C3_4[i][j])\n",
        "                if 1770<i<1880 and 2015<j<2145 :\n",
        "                  S1meanC3_104.append(S1RGB_imgA1C3_4[i][j])  \n",
        "S1meanrefA1_1304 = np.array(S1meanrefA1_1304)\n",
        "S1meanC3_104 = np.array(S1meanC3_104)\n",
        "\n",
        "S1rgbrefA1_1304 = list()\n",
        "S1rgbC3_104 = list()\n",
        "for i in range(3):\n",
        "    S1rgbrefA1_1304.append(S1meanrefA1_1304[:,i].mean())\n",
        "    S1rgbC3_104.append(S1meanC3_104[:,i].mean())"
      ],
      "execution_count": null,
      "outputs": []
    },
    {
      "cell_type": "code",
      "metadata": {
        "id": "Ex49m5yGOYMS"
      },
      "source": [
        "S1meanrefA1_1404 = list()\n",
        "S1meanC4_104 = list()\n",
        "for i in range(S1RGB_imgA1C4_4.shape[0]): \n",
        "     for j in range(S1RGB_imgA1C4_4.shape[1]): \n",
        "                if 1769<i<1881 and 2019<j<2131 :\n",
        "                  S1meanrefA1_1404.append(S1RGB_imgA1C4_4[i][j])\n",
        "                if 1770<i<1880 and 2015<j<2145 :\n",
        "                  S1meanC4_104.append(S1RGB_imgA1C4_4[i][j])  \n",
        "S1meanrefA1_1404 = np.array(S1meanrefA1_1404)\n",
        "S1meanC4_104 = np.array(S1meanC4_104)\n",
        "\n",
        "S1rgbrefA1_1404 = list()\n",
        "S1rgbC4_104 = list()\n",
        "for i in range(3):\n",
        "    S1rgbrefA1_1404.append(S1meanrefA1_1404[:,i].mean())\n",
        "    S1rgbC4_104.append(S1meanC4_104[:,i].mean())"
      ],
      "execution_count": null,
      "outputs": []
    },
    {
      "cell_type": "code",
      "metadata": {
        "id": "OSDdu6HCOYMS"
      },
      "source": [
        "S1meanrefA1_1504 = list()\n",
        "S1meanD2_104 = list()\n",
        "for i in range(S1RGB_imgA1D2_4.shape[0]): \n",
        "     for j in range(S1RGB_imgA1D2_4.shape[1]): \n",
        "                if 1769<i<1881 and 2019<j<2131 :\n",
        "                  S1meanrefA1_1504.append(S1RGB_imgA1D2_4[i][j])\n",
        "                if 1770<i<1880 and 2015<j<2145 :\n",
        "                  S1meanD2_104.append(S1RGB_imgA1D2_4[i][j])  \n",
        "S1meanrefA1_1504 = np.array(S1meanrefA1_1504)\n",
        "S1meanD2_104 = np.array(S1meanD2_104)\n",
        "\n",
        "S1rgbrefA1_1504 = list()\n",
        "S1rgbD2_104 = list()\n",
        "for i in range(3):\n",
        "    S1rgbrefA1_1504.append(S1meanrefA1_1504[:,i].mean())\n",
        "    S1rgbD2_104.append(S1meanD2_104[:,i].mean())"
      ],
      "execution_count": null,
      "outputs": []
    },
    {
      "cell_type": "code",
      "metadata": {
        "id": "aXr6Kqt-OYMS"
      },
      "source": [
        "S1meanrefA1_1604 = list()\n",
        "S1meanD3_104 = list()\n",
        "for i in range(S1RGB_imgA1D3_4.shape[0]): \n",
        "     for j in range(S1RGB_imgA1D3_4.shape[1]): \n",
        "                if 1769<i<1881 and 2019<j<2131 :\n",
        "                  S1meanrefA1_1604.append(S1RGB_imgA1D3_4[i][j])\n",
        "                if 1770<i<1880 and 2015<j<2145 :\n",
        "                  S1meanD3_104.append(S1RGB_imgA1D3_4[i][j])  \n",
        "S1meanrefA1_1604 = np.array(S1meanrefA1_1604)\n",
        "S1meanD3_104 = np.array(S1meanD3_104)\n",
        "\n",
        "S1rgbrefA1_1604 = list()\n",
        "S1rgbD3_104 = list()\n",
        "for i in range(3):\n",
        "    S1rgbrefA1_1604.append(S1meanrefA1_1604[:,i].mean())\n",
        "    S1rgbD3_104.append(S1meanD3_104[:,i].mean())"
      ],
      "execution_count": null,
      "outputs": []
    },
    {
      "cell_type": "code",
      "metadata": {
        "id": "6eck_A4OOYMT"
      },
      "source": [
        "S1meanrefA1_1704= list()\n",
        "S1meanD4_104 = list()\n",
        "for i in range(S1RGB_imgA1D4_4.shape[0]): \n",
        "     for j in range(S1RGB_imgA1D4_4.shape[1]): \n",
        "                if 1769<i<1881 and 2019<j<2131 :\n",
        "                  S1meanrefA1_1704.append(S1RGB_imgA1D4_4[i][j])\n",
        "                if 1770<i<1880 and 2015<j<2145 :\n",
        "                  S1meanD4_104.append(S1RGB_imgA1D4_4[i][j])  \n",
        "S1meanrefA1_1704 = np.array(S1meanrefA1_1404)\n",
        "S1meanD4_104 = np.array(S1meanD4_104)\n",
        "\n",
        "S1rgbrefA1_1704 = list()\n",
        "S1rgbD4_104 = list()\n",
        "for i in range(3):\n",
        "    S1rgbrefA1_1704.append(S1meanrefA1_1704[:,i].mean())\n",
        "    S1rgbD4_104.append(S1meanD4_104[:,i].mean())"
      ],
      "execution_count": null,
      "outputs": []
    },
    {
      "cell_type": "markdown",
      "metadata": {
        "id": "yLQq-1FZ-XCV"
      },
      "source": [
        "###Img 5"
      ]
    },
    {
      "cell_type": "code",
      "metadata": {
        "id": "DKMpl6KPPIKP"
      },
      "source": [
        "S1meanrefA1_105 = list()\n",
        "S1meanA1_205 = list()\n",
        "for i in range(S1RGB_imgA1A1_5.shape[0]): #ให้ i รันตาม row หรือ shape[0] คือแถว มีทั้งหมด 4032 แถว ของภาพที่ปรับขนาดมาแล้ว\n",
        "     for j in range(S1RGB_imgA1A1_5.shape[1]): #ให้ j รันตาม colum มีทั้งหมด 3024 colum เช่น แถวที่ 1 เข้ามาให้รันครบ 3024colum\n",
        "                if 1769<i<1881 and 2019<j<2131 :\n",
        "                  S1meanrefA1_105.append(S1RGB_imgA1A1_5[i][j])\n",
        "                if 1770<i<1880 and 2015<j<2145 :\n",
        "                  S1meanA1_205.append(S1RGB_imgA1A1_5[i][j])  \n",
        "S1meanrefA1_105 = np.array(S1meanrefA1_105)\n",
        "S1meanA1_205 = np.array(S1meanA1_205)\n",
        "\n",
        "S1rgbrefA1_105 = list()\n",
        "S1rgbA1_205 = list()\n",
        "for i in range(3):\n",
        "    S1rgbrefA1_105.append(S1meanrefA1_105[:,i].mean())\n",
        "    S1rgbA1_205.append(S1meanA1_2[:,i].mean())\n",
        "S1rgbrefA1_105,S1rgbA1_205 "
      ],
      "execution_count": null,
      "outputs": []
    },
    {
      "cell_type": "code",
      "metadata": {
        "id": "kGGu65MbPIKQ"
      },
      "source": [
        "S1meanrefA1_305 = list()\n",
        "S1meanA2_105 = list()\n",
        "for i in range(S1RGB_imgA1A2_5.shape[0]): \n",
        "     for j in range(S1RGB_imgA1A2_5.shape[1]): \n",
        "                if 1769<i<1881 and 2019<j<2131 :\n",
        "                  S1meanrefA1_305.append(S1RGB_imgA1A2_5[i][j])\n",
        "                if 1770<i<1880 and 2015<j<2145 :\n",
        "                  S1meanA2_105.append(S1RGB_imgA1A2_5[i][j])  \n",
        "S1meanrefA1_305 = np.array(S1meanrefA1_305 )\n",
        "S1meanA2_105 = np.array(S1meanA2_105 )\n",
        "\n",
        "S1rgbrefA1_305 = list()\n",
        "S1rgbA2_105  = list()\n",
        "for i in range(3):\n",
        "    S1rgbrefA1_305 .append(S1meanrefA1_305 [:,i].mean())\n",
        "    S1rgbA2_105 .append(S1meanA2_105 [:,i].mean())"
      ],
      "execution_count": null,
      "outputs": []
    },
    {
      "cell_type": "code",
      "metadata": {
        "id": "0Ls4I6iWPIKR"
      },
      "source": [
        "S1meanrefA1_405  = list()\n",
        "S1meanA3_105  = list()\n",
        "for i in range(S1RGB_imgA1A3_505 .shape[0]): \n",
        "     for j in range(S1RGB_imgA1A3_5.shape[1]): \n",
        "                if 1769<i<1881 and 2019<j<2131 :\n",
        "                  S1meanrefA1_405 .append(S1RGB_imgA1A3_505 [i][j])\n",
        "                if 1770<i<1880 and 2015<j<2145 :\n",
        "                  S1meanA3_105 .append(S1RGB_imgA1A3_505 [i][j])  \n",
        "S1meanrefA1_4 05 = np.array(S1meanrefA1_405 )\n",
        "S1meanA3_105  = np.array(S1meanA3_105 )\n",
        "\n",
        "S1rgbrefA1_405  = list()\n",
        "S1rgbA3_105  = list()\n",
        "for i in range(3):\n",
        "    S1rgbrefA1_405 .append(S1meanrefA1_405 [:,i].mean())\n",
        "    S1rgbA3_105 .append(S1meanA3_105 [:,i].mean())"
      ],
      "execution_count": null,
      "outputs": []
    },
    {
      "cell_type": "code",
      "metadata": {
        "id": "k3UxCX2fPIKT"
      },
      "source": [
        "S1meanrefA1_505  = list()\n",
        "S1meanA3_5105  = list()\n",
        "for i in range(S1RGB_imgA1A3_55.shape[0]): \n",
        "     for j in range(S1RGB_imgA1A3_55.shape[1]): \n",
        "                if 1769<i<1881 and 2019<j<2131 :\n",
        "                  S1meanrefA1_505 .append(S1RGB_imgA1A3_55[i][j])\n",
        "                if 1770<i<1880 and 2015<j<2145 :\n",
        "                  S1meanA3_5105 .append(S1RGB_imgA1A3_55[i][j])  \n",
        "S1meanrefA1_505  = np.array(S1meanrefA1_5)\n",
        "S1meanA3_5105  = np.array(S1meanA3_51)\n",
        "\n",
        "S1rgbrefA1_505  = list()\n",
        "S1rgbA3_5105  = list()\n",
        "for i in range(3):\n",
        "    S1rgbrefA1_505 .append(S1meanrefA1_505 [:,i].mean())\n",
        "    S1rgbA3_5105 .append(S1meanA3_5105 [:,i].mean())"
      ],
      "execution_count": null,
      "outputs": []
    },
    {
      "cell_type": "code",
      "metadata": {
        "id": "j-VsfMjOPIKV"
      },
      "source": [
        "S1meanrefA1_605  = list()\n",
        "S1meanA4_105  = list()\n",
        "for i in range(S1RGB_imgA1A4_5.shape[0]): \n",
        "     for j in range(S1RGB_imgA1A4_5.shape[1]): \n",
        "                if 1769<i<1881 and 2019<j<2131 :\n",
        "                  S1meanrefA1_605 .append(S1RGB_imgA1A4_5[i][j])\n",
        "                if 1770<i<1880 and 2015<j<2145 :\n",
        "                  S1meanA4_105 .append(S1RGB_imgA1A4_5[i][j])  \n",
        "S1meanrefA1_605 = np.array(S1meanrefA1_6)\n",
        "S1meanA4_105 = np.array(S1meanA4_1)\n",
        "\n",
        "S1rgbrefA1_605 = list()\n",
        "S1rgbA4_105 = list()\n",
        "for i in range(3):\n",
        "    S1rgbrefA1_605.append(S1meanrefA1_605[:,i].mean())\n",
        "    S1rgbA4_105.append(S1meanA4_105[:,i].mean())"
      ],
      "execution_count": null,
      "outputs": []
    },
    {
      "cell_type": "code",
      "metadata": {
        "id": "1ud_OvLDPIKV"
      },
      "source": [
        "S1meanrefA1_705 = list()\n",
        "S1meanB1_105 = list()\n",
        "for i in range(S1RGB_imgA1B1_505.shape[0]): \n",
        "     for j in range(S1RGB_imgA1B1_505.shape[1]): \n",
        "                if 1769<i<1881 and 2019<j<2131 :\n",
        "                  S1meanrefA1_705.append(S1RGB_imgA1B1_505[i][j])\n",
        "                if 1770<i<1880 and 2015<j<2145 :\n",
        "                  S1meanB1_105.append(S1RGB_imgA1B1_505[i][j])  \n",
        "S1meanrefA1_705 = np.array(S1meanrefA1_705)\n",
        "S1meanB1_105 = np.array(S1meanB1_105)\n",
        "\n",
        "S1rgbrefA1_705 = list()\n",
        "S1rgbB1_105 = list()\n",
        "for i in range(3):\n",
        "    S1rgbrefA1_705.append(S1meanrefA1_705[:,i].mean())\n",
        "    S1rgbB1_105.append(S1meanB1_105[:,i].mean())"
      ],
      "execution_count": null,
      "outputs": []
    },
    {
      "cell_type": "code",
      "metadata": {
        "id": "EaD2_t-7PIKW"
      },
      "source": [
        "S1meanrefA1_805 = list()\n",
        "S1meanB2_105 = list()\n",
        "for i in range(S1RGB_imgA1B2_5.shape[0]): \n",
        "     for j in range(S1RGB_imgA1B2_5.shape[1]): \n",
        "                if 1769<i<1881 and 2019<j<2131 :\n",
        "                  S1meanrefA1_805.append(S1RGB_imgA1B2_5[i][j])\n",
        "                if 1770<i<1880 and 2015<j<2145 :\n",
        "                  S1meanB2_105.append(S1RGB_imgA1B2_5[i][j])  \n",
        "S1meanrefA1_805 = np.array(S1meanrefA1_8)\n",
        "S1meanB2_105 = np.array(S1meanB2_1)\n",
        "\n",
        "S1rgbrefA1_805 = list()\n",
        "S1rgbB2_105 = list()\n",
        "for i in range(3):\n",
        "    S1rgbrefA1_805.append(S1meanrefA1_805[:,i].mean())\n",
        "    S1rgbB2_105.append(S1meanB2_105[:,i].mean())"
      ],
      "execution_count": null,
      "outputs": []
    },
    {
      "cell_type": "code",
      "metadata": {
        "id": "WvVWR0mlPIKW"
      },
      "source": [
        "S1meanrefA1_905 = list()\n",
        "S1meanB3_105 = list()\n",
        "for i in range(S1RGB_imgA1B3_5.shape[0]): \n",
        "     for j in range(S1RGB_imgA1B3_5.shape[1]): \n",
        "                if 1769<i<1881 and 2019<j<2131 :\n",
        "                  S1meanrefA1_905.append(S1RGB_imgA1B3_5[i][j])\n",
        "                if 1770<i<1880 and 2015<j<2145 :\n",
        "                  S1meanB3_105.append(S1RGB_imgA1B3_5[i][j])  \n",
        "S1meanrefA1_905 = np.array(S1meanrefA1_905)\n",
        "S1meanB3_105 = np.array(S1meanB3_105)\n",
        "\n",
        "S1rgbrefA1_905 = list()\n",
        "S1rgbB3_105 = list()\n",
        "for i in range(3):\n",
        "    S1rgbrefA1_905.append(S1meanrefA1_905[:,i].mean())\n",
        "    S1rgbB3_105.append(S1meanB3_105[:,i].mean())"
      ],
      "execution_count": null,
      "outputs": []
    },
    {
      "cell_type": "code",
      "metadata": {
        "id": "qAzCAafMPIKX"
      },
      "source": [
        "S1meanrefA1_1005 = list()\n",
        "S1meanB4_105 = list()\n",
        "for i in range(S1RGB_imgA1B4_5.shape[0]): \n",
        "     for j in range(S1RGB_imgA1B4_5.shape[1]): \n",
        "                if 1769<i<1881 and 2019<j<2131 :\n",
        "                  S1meanrefA1_1005.append(S1RGB_imgA1B4_5[i][j])\n",
        "                if 1770<i<1880 and 2015<j<2145 :\n",
        "                  S1meanB4_105.append(S1RGB_imgA1B4_5[i][j])  \n",
        "S1meanrefA1_1005 = np.array(S1meanrefA1_10)\n",
        "S1meanB4_105 = np.array(S1meanB4_1)\n",
        "\n",
        "S1rgbrefA1_1005 = list()\n",
        "S1rgbB4_105 = list()\n",
        "for i in range(3):\n",
        "    S1rgbrefA1_1005.append(S1meanrefA1_1005[:,i].mean())\n",
        "    S1rgbB4_105.append(S1meanB4_105[:,i].mean())"
      ],
      "execution_count": null,
      "outputs": []
    },
    {
      "cell_type": "code",
      "metadata": {
        "id": "oIFyW6HKPIKX"
      },
      "source": [
        "S1meanrefA1_1105 = list()\n",
        "S1meanC1_105 = list()\n",
        "for i in range(S1RGB_imgA1C1_5.shape[0]): \n",
        "     for j in range(S1RGB_imgA1C1_5.shape[1]): \n",
        "                if 1769<i<1881 and 2019<j<2131 :\n",
        "                  S1meanrefA1_1105.append(S1RGB_imgA1C1_5[i][j])\n",
        "                if 1770<i<1880 and 2015<j<2145 :\n",
        "                  S1meanC1_105.append(S1RGB_imgA1C1_5[i][j])  \n",
        "S1meanrefA1_1105 = np.array(S1meanrefA1_1105)\n",
        "S1meanC1_105 = np.array(S1meanC1_105)\n",
        "\n",
        "S1rgbrefA1_1105 = list()\n",
        "S1rgbC1_105 = list()\n",
        "for i in range(3):\n",
        "    S1rgbrefA1_1105.append(S1meanrefA1_1105[:,i].mean())\n",
        "    S1rgbC1_105.append(S1meanC1_105[:,i].mean())"
      ],
      "execution_count": null,
      "outputs": []
    },
    {
      "cell_type": "code",
      "metadata": {
        "id": "yOsgRrwFPIKY"
      },
      "source": [
        "S1meanrefA1_1205 = list()\n",
        "S1meanC2_105 = list()\n",
        "for i in range(S1RGB_imgA1C2_5.shape[0]): \n",
        "     for j in range(S1RGB_imgA1C2_5.shape[1]): \n",
        "                if 1769<i<1881 and 2019<j<2131 :\n",
        "                  S1meanrefA1_1205.append(S1RGB_imgA1C2_5[i][j])\n",
        "                if 1770<i<1880 and 2015<j<2145 :\n",
        "                  S1meanC2_105.append(S1RGB_imgA1C2_5[i][j])  \n",
        "S1meanrefA1_1205 = np.array(S1meanrefA1_1205)\n",
        "S1meanC2_105 = np.array(S1meanC2_105)\n",
        "\n",
        "S1rgbrefA1_1205 = list()\n",
        "S1rgbC2_105 = list()\n",
        "for i in range(3):\n",
        "    S1rgbrefA1_1205.append(S1meanrefA1_1205[:,i].mean())\n",
        "    S1rgbC2_105.append(S1meanC2_105[:,i].mean())"
      ],
      "execution_count": null,
      "outputs": []
    },
    {
      "cell_type": "code",
      "metadata": {
        "id": "iWWRMtj7PIKY"
      },
      "source": [
        "S1meanrefA1_1305 = list()\n",
        "S1meanC3_105 = list()\n",
        "for i in range(S1RGB_imgA1C3_5.shape[0]): \n",
        "     for j in range(S1RGB_imgA1C3_5.shape[1]): \n",
        "                if 1769<i<1881 and 2019<j<2131 :\n",
        "                  S1meanrefA1_1305.append(S1RGB_imgA1C3_5[i][j])\n",
        "                if 1770<i<1880 and 2015<j<2145 :\n",
        "                  S1meanC3_105.append(S1RGB_imgA1C3_5[i][j])  \n",
        "S1meanrefA1_1305 = np.array(S1meanrefA1_13)\n",
        "S1meanC3_105 = np.array(S1meanC3_1)\n",
        "\n",
        "S1rgbrefA1_1305 = list()\n",
        "S1rgbC3_105 = list()\n",
        "for i in range(3):\n",
        "    S1rgbrefA1_1305.append(S1meanrefA1_1305[:,i].mean())\n",
        "    S1rgbC3_105.append(S1meanC3_105[:,i].mean())"
      ],
      "execution_count": null,
      "outputs": []
    },
    {
      "cell_type": "code",
      "metadata": {
        "id": "RUKUTXzPPIKY"
      },
      "source": [
        "S1meanrefA1_1405 = list()\n",
        "S1meanC4_105 = list()\n",
        "for i in range(S1RGB_imgA1C4_5.shape[0]): \n",
        "     for j in range(S1RGB_imgA1C4_5.shape[1]): \n",
        "                if 1769<i<1881 and 2019<j<2131 :\n",
        "                  S1meanrefA1_1405.append(S1RGB_imgA1C4_5[i][j])\n",
        "                if 1770<i<1880 and 2015<j<2145 :\n",
        "                  S1meanC4_105.append(S1RGB_imgA1C4_5[i][j])  \n",
        "S1meanrefA1_1405 = np.array(S1meanrefA1_1405)\n",
        "S1meanC4_105 = np.array(S1meanC4_105)\n",
        "\n",
        "S1rgbrefA1_1405 = list()\n",
        "S1rgbC4_105 = list()\n",
        "for i in range(3):\n",
        "    S1rgbrefA1_1405.append(S1meanrefA1_1405[:,i].mean())\n",
        "    S1rgbC4_105.append(S1meanC4_105[:,i].mean())"
      ],
      "execution_count": null,
      "outputs": []
    },
    {
      "cell_type": "code",
      "metadata": {
        "id": "ouvNr9pOPIKZ"
      },
      "source": [
        "S1meanrefA1_1505 = list()\n",
        "S1meanD2_105 = list()\n",
        "for i in range(S1RGB_imgA1D2_5.shape[0]): \n",
        "     for j in range(S1RGB_imgA1D2_5.shape[1]): \n",
        "                if 1769<i<1881 and 2019<j<2131 :\n",
        "                  S1meanrefA1_1505.append(S1RGB_imgA1D2_5[i][j])\n",
        "                if 1770<i<1880 and 2015<j<2145 :\n",
        "                  S1meanD2_105.append(S1RGB_imgA1D2_5[i][j])  \n",
        "S1meanrefA1_1505 = np.array(S1meanrefA1_15)\n",
        "S1meanD2_105 = np.array(S1meanD2_1)\n",
        "\n",
        "S1rgbrefA1_1505 = list()\n",
        "S1rgbD2_105 = list()\n",
        "for i in range(3):\n",
        "    S1rgbrefA1_15อ.append(S1meanrefA1_1505[:,i].mean())\n",
        "    S1rgbD2_105.append(S1meanD2_105[:,i].mean())"
      ],
      "execution_count": null,
      "outputs": []
    },
    {
      "cell_type": "code",
      "metadata": {
        "id": "3jNYetAuPIKZ"
      },
      "source": [
        "S1meanrefA1_1605 = list()\n",
        "S1meanD3_105 = list()\n",
        "for i in range(S1RGB_imgA1D3_505.shape[0]): \n",
        "     for j in range(S1RGB_imgA1D3_505.shape[1]): \n",
        "                if 1769<i<1881 and 2019<j<2131 :\n",
        "                  S1meanrefA1_1605.append(S1RGB_imgA1D3_5[i][j])\n",
        "                if 1770<i<1880 and 2015<j<2145 :\n",
        "                  S1meanD3_105.append(S1RGB_imgA1D3_5 [i][j])  \n",
        "S1meanrefA1_1605 = np.array(S1meanrefA1_1605)\n",
        "S1meanD3_105 = np.array(S1meanD3_105)\n",
        "\n",
        "S1rgbrefA1_1605 = list()\n",
        "S1rgbD3_105 = list()\n",
        "for i in range(3):\n",
        "    S1rgbrefA1_1605.append(S1meanrefA1_1605[:,i].mean())\n",
        "    S1rgbD3_105.append(S1meanD3_105[:,i].mean())"
      ],
      "execution_count": null,
      "outputs": []
    },
    {
      "cell_type": "code",
      "metadata": {
        "id": "n0HkYyGGPIKZ"
      },
      "source": [
        "S1meanrefA1_1705= list()\n",
        "S1meanD4_105 = list()\n",
        "for i in range(S1RGB_imgA1D4_.shape[0]): \n",
        "     for j in range(S1RGB_imgA1D4_.shape[1]): \n",
        "                if 1769<i<1881 and 2019<j<2131 :\n",
        "                  S1meanrefA1_1705.append(S1RGB_imgA1D4_1i][j])\n",
        "                if 1770<i<1880 and 2015<j<2145 :\n",
        "                  S1meanD4_105.append(S1RGB_imgA1D4_[i][j])  \n",
        "S1meanrefA1_1705 = np.array(S1meanrefA1_1405)\n",
        "S1meanD4_105 = np.array(S1meanD4_105)\n",
        "\n",
        "S1rgbrefA1_1705 = list()\n",
        "S1rgbD4_105 = list()\n",
        "for i in range(3):\n",
        "    S1rgbrefA1_1705.append(S1meanrefA1_1705[:,i].mean())\n",
        "    S1rgbD4_105.append(S1meanD4_105[:,i].mean())"
      ],
      "execution_count": null,
      "outputs": []
    },
    {
      "cell_type": "markdown",
      "metadata": {
        "id": "6gf1rgBAXoCE"
      },
      "source": [
        "###Img 6"
      ]
    },
    {
      "cell_type": "code",
      "metadata": {
        "id": "PXn3xeqfPJRI"
      },
      "source": [
        "S1meanrefA1_106 = list()\n",
        "S1meanA1_206 = list()\n",
        "for i in range(S1RGB_imgA1A1_6.shape[0]): #ให้ i รันตาม row หรือ shape[0] คือแถว มีทั้งหมด 4032 แถว ของภาพที่ปรับขนาดมาแล้ว\n",
        "     for j in range(S1RGB_imgA1A1_6.shape[1]): #ให้ j รันตาม colum มีทั้งหมด 3024 colum เช่น แถวที่ 1 เข้ามาให้รันครบ 3024colum\n",
        "                if 1769<i<1881 and 2019<j<2131 :\n",
        "                  S1meanrefA1_106.append(S1RGB_imgA1A1_6[i][j])\n",
        "                if 1770<i<1880 and 2015<j<2145 :\n",
        "                  S1meanA1_206.append(S1RGB_imgA1A1_6[i][j])  \n",
        "S1meanrefA1_106 = np.array(S1meanrefA1_106)\n",
        "S1meanA1_206 = np.array(S1meanA1_206)\n",
        "\n",
        "S1rgbrefA1_106 = list()\n",
        "S1rgbA1_206 = list()\n",
        "for i in range(3):\n",
        "    S1rgbrefA1_106.append(S1meanrefA1_106[:,i].mean())\n",
        "    S1rgbA1_206.append(S1meanA1_206[:,i].mean())\n",
        "S1rgbrefA1_106,S1rgbA1_206 "
      ],
      "execution_count": null,
      "outputs": []
    },
    {
      "cell_type": "code",
      "metadata": {
        "id": "_9zgRA0_PJRI"
      },
      "source": [
        "S1meanrefA1_306 = list()\n",
        "S1meanA2_106 = list()\n",
        "for i in range(S1RGB_imgA1A2_6.shape[0]): \n",
        "     for j in range(S1RGB_imgA1A2_6.shape[1]): \n",
        "                if 1769<i<1881 and 2019<j<2131 :\n",
        "                  S1meanrefA1_306.append(S1RGB_imgA1A2_6[i][j])\n",
        "                if 1770<i<1880 and 2015<j<2145 :\n",
        "                  S1meanA2_106.append(S1RGB_imgA1A2_6[i][j])  \n",
        "S1meanrefA1_306 = np.array(S1meanrefA1_306)\n",
        "S1meanA2_106 = np.array(S1meanA2_106)\n",
        "\n",
        "S1rgbrefA1_306 = list()\n",
        "S1rgbA2_106 = list()\n",
        "for i in range(3):\n",
        "    S1rgbrefA1_306.append(S1meanrefA1_306[:,i].mean())\n",
        "    S1rgbA2_106.append(S1meanA2_106[:,i].mean())"
      ],
      "execution_count": null,
      "outputs": []
    },
    {
      "cell_type": "code",
      "metadata": {
        "id": "_zkJoZyDPJRJ"
      },
      "source": [
        "S1meanrefA1_406 = list()\n",
        "S1meanA3_106 = list()\n",
        "for i in range(S1RGB_imgA1A3_6.shape[0]): \n",
        "     for j in range(S1RGB_imgA1A3_6.shape[1]): \n",
        "                if 1769<i<1881 and 2019<j<2131 :\n",
        "                  S1meanrefA1_406.append(S1RGB_imgA1A3_6[i][j])\n",
        "                if 1770<i<1880 and 2015<j<2145 :\n",
        "                  S1meanA3_106.append(S1RGB_imgA1A3_6[i][j])  \n",
        "S1meanrefA1_406 = np.array(S1meanrefA1_406)\n",
        "S1meanA3_106 = np.array(S1meanA3_106)\n",
        "\n",
        "S1rgbrefA1_406 = list()\n",
        "S1rgbA3_106 = list()\n",
        "for i in range(3):\n",
        "    S1rgbrefA1_406.append(S1meanrefA1_406[:,i].mean())\n",
        "    S1rgbA3_106.append(S1meanA3_106[:,i].mean())"
      ],
      "execution_count": null,
      "outputs": []
    },
    {
      "cell_type": "code",
      "metadata": {
        "id": "hF7nJk24PJRK"
      },
      "source": [
        "S1meanrefA1_506 = list()\n",
        "S1meanA3_5106 = list()\n",
        "for i in range(S1RGB_imgA1A3_56.shape[0]): \n",
        "     for j in range(S1RGB_imgA1A3_56.shape[1]): \n",
        "                if 1769<i<1881 and 2019<j<2131 :\n",
        "                  S1meanrefA1_506.append(S1RGB_imgA1A3_56[i][j])\n",
        "                if 1770<i<1880 and 2015<j<2145 :\n",
        "                  S1meanA3_5106.append(S1RGB_imgA1A3_56[i][j])  \n",
        "S1meanrefA1_506 = np.array(S1meanrefA1_506)\n",
        "S1meanA3_5106 = np.array(S1meanA3_5106)\n",
        "\n",
        "S1rgbrefA1_506 = list()\n",
        "S1rgbA3_5106 = list()\n",
        "for i in range(3):\n",
        "    S1rgbrefA1_506.append(S1meanrefA1_506[:,i].mean())\n",
        "    S1rgbA3_5106.append(S1meanA3_5106[:,i].mean())"
      ],
      "execution_count": null,
      "outputs": []
    },
    {
      "cell_type": "code",
      "metadata": {
        "id": "thG3Gcl7PJRK"
      },
      "source": [
        "S1meanrefA1_606 = list()\n",
        "S1meanA4_106 = list()\n",
        "for i in range(S1RGB_imgA1A4_6.shape[0]): \n",
        "     for j in range(S1RGB_imgA1A4_6.shape[1]): \n",
        "                if 1769<i<1881 and 2019<j<2131 :\n",
        "                  S1meanrefA1_606.append(S1RGB_imgA1A4_6[i][j])\n",
        "                if 1770<i<1880 and 2015<j<2145 :\n",
        "                  S1meanA4_106.append(S1RGB_imgA1A4_6[i][j])  \n",
        "S1meanrefA1_606 = np.array(S1meanrefA1_606)\n",
        "S1meanA4_106 = np.array(S1meanA4_106)\n",
        "\n",
        "S1rgbrefA1_606 = list()\n",
        "S1rgbA4_106 = list()\n",
        "for i in range(3):\n",
        "    S1rgbrefA1_606.append(S1meanrefA1_606[:,i].mean())\n",
        "    S1rgbA4_106.append(S1meanA4_106[:,i].mean())"
      ],
      "execution_count": null,
      "outputs": []
    },
    {
      "cell_type": "code",
      "metadata": {
        "id": "C0jZRxOdPJRK"
      },
      "source": [
        "S1meanrefA1_706 = list()\n",
        "S1meanB1_106 = list()\n",
        "for i in range(S1RGB_imgA1B1_6.shape[0]): \n",
        "     for j in range(S1RGB_imgA1B1_6.shape[1]): \n",
        "                if 1769<i<1881 and 2019<j<2131 :\n",
        "                  S1meanrefA1_706.append(S1RGB_imgA1B1_6[i][j])\n",
        "                if 1770<i<1880 and 2015<j<2145 :\n",
        "                  S1meanB1_106.append(S1RGB_imgA1B1_6[i][j])  \n",
        "S1meanrefA1_706 = np.array(S1meanrefA1_706)\n",
        "S1meanB1_106 = np.array(S1meanB1_106)\n",
        "\n",
        "S1rgbrefA1_706 = list()\n",
        "S1rgbB1_106 = list()\n",
        "for i in range(3):\n",
        "    S1rgbrefA1_706.append(S1meanrefA1_706[:,i].mean())\n",
        "    S1rgbB1_106.append(S1meanB1_106[:,i].mean())"
      ],
      "execution_count": null,
      "outputs": []
    },
    {
      "cell_type": "code",
      "metadata": {
        "id": "VdoAAMTPPJRL"
      },
      "source": [
        "S1meanrefA1_806 = list()\n",
        "S1meanB2_106 = list()\n",
        "for i in range(S1RGB_imgA1B2_6.shape[0]): \n",
        "     for j in range(S1RGB_imgA1B2_6.shape[1]): \n",
        "                if 1769<i<1881 and 2019<j<2131 :\n",
        "                  S1meanrefA1_806.append(S1RGB_imgA1B2_6[i][j])\n",
        "                if 1770<i<1880 and 2015<j<2145 :\n",
        "                  S1meanB2_106.append(S1RGB_imgA1B2_6[i][j])  \n",
        "S1meanrefA1_806 = np.array(S1meanrefA1_806)\n",
        "S1meanB2_106 = np.array(S1meanB2_106)\n",
        "\n",
        "S1rgbrefA1_806 = list()\n",
        "S1rgbB2_106 = list()\n",
        "for i in range(3):\n",
        "    S1rgbrefA1_806.append(S1meanrefA1_806[:,i].mean())\n",
        "    S1rgbB2_106.append(S1meanB2_106[:,i].mean())"
      ],
      "execution_count": null,
      "outputs": []
    },
    {
      "cell_type": "code",
      "metadata": {
        "id": "YHfeFjkwPJRL"
      },
      "source": [
        "S1meanrefA1_906 = list()\n",
        "S1meanB3_106 = list()\n",
        "for i in range(S1RGB_imgA1B3_6.shape[0]): \n",
        "     for j in range(S1RGB_imgA1B3_6.shape[1]): \n",
        "                if 1769<i<1881 and 2019<j<2131 :\n",
        "                  S1meanrefA1_906.append(S1RGB_imgA1B3_6[i][j])\n",
        "                if 1770<i<1880 and 2015<j<2145 :\n",
        "                  S1meanB3_106.append(S1RGB_imgA1B3_6[i][j])  \n",
        "S1meanrefA1_906 = np.array(S1meanrefA1_906)\n",
        "S1meanB3_106 = np.array(S1meanB3_106)\n",
        "\n",
        "S1rgbrefA1_906 = list()\n",
        "S1rgbB3_106 = list()\n",
        "for i in range(3):\n",
        "    S1rgbrefA1_906.append(S1meanrefA1_906[:,i].mean())\n",
        "    S1rgbB3_106.append(S1meanB3_106[:,i].mean())"
      ],
      "execution_count": null,
      "outputs": []
    },
    {
      "cell_type": "code",
      "metadata": {
        "id": "DiH4k9x4PJRL"
      },
      "source": [
        "S1meanrefA1_1006 = list()\n",
        "S1meanB4_106 = list()\n",
        "for i in range(S1RGB_imgA1B4_6.shape[0]): \n",
        "     for j in range(S1RGB_imgA1B4_6.shape[1]): \n",
        "                if 1769<i<1881 and 2019<j<2131 :\n",
        "                  S1meanrefA1_1006.append(S1RGB_imgA1B4_6[i][j])\n",
        "                if 1770<i<1880 and 2015<j<2145 :\n",
        "                  S1meanB4_106.append(S1RGB_imgA1B4_6[i][j])  \n",
        "S1meanrefA1_1006 = np.array(S1meanrefA1_1006)\n",
        "S1meanB4_106 = np.array(S1meanB4_106)\n",
        "\n",
        "S1rgbrefA1_1006 = list()\n",
        "S1rgbB4_106 = list()\n",
        "for i in range(3):\n",
        "    S1rgbrefA1_1006.append(S1meanrefA1_1006[:,i].mean())\n",
        "    S1rgbB4_106.append(S1meanB4_106[:,i].mean())"
      ],
      "execution_count": null,
      "outputs": []
    },
    {
      "cell_type": "code",
      "metadata": {
        "id": "HdvgAszEPJRM"
      },
      "source": [
        "S1meanrefA1_1106 = list()\n",
        "S1meanC1_106 = list()\n",
        "for i in range(S1RGB_imgA1C1_6.shape[0]): \n",
        "     for j in range(S1RGB_imgA1C1_6.shape[1]): \n",
        "                if 1769<i<1881 and 2019<j<2131 :\n",
        "                  S1meanrefA1_1106.append(S1RGB_imgA1C1_6[i][j])\n",
        "                if 1770<i<1880 and 2015<j<2145 :\n",
        "                  S1meanC1_106.append(S1RGB_imgA1C1_6[i][j])  \n",
        "S1meanrefA1_1106 = np.array(S1meanrefA1_1106)\n",
        "S1meanC1_106 = np.array(S1meanC1_106)\n",
        "\n",
        "S1rgbrefA1_1106 = list()\n",
        "S1rgbC1_106 = list()\n",
        "for i in range(3):\n",
        "    S1rgbrefA1_1106.append(S1meanrefA1_1106[:,i].mean())\n",
        "    S1rgbC1_106.append(S1meanC1_106[:,i].mean())"
      ],
      "execution_count": null,
      "outputs": []
    },
    {
      "cell_type": "code",
      "metadata": {
        "id": "6-GicBahPJRM"
      },
      "source": [
        "S1meanrefA1_1206 = list()\n",
        "S1meanC2_106 = list()\n",
        "for i in range(S1RGB_imgA1C2_6.shape[0]): \n",
        "     for j in range(S1RGB_imgA1C2_6.shape[1]): \n",
        "                if 1769<i<1881 and 2019<j<2131 :\n",
        "                  S1meanrefA1_1206.append(S1RGB_imgA1C2_6[i][j])\n",
        "                if 1770<i<1880 and 2015<j<2145 :\n",
        "                  S1meanC2_106.append(S1RGB_imgA1C2_6[i][j])  \n",
        "S1meanrefA1_1206 = np.array(S1meanrefA1_1206)\n",
        "S1meanC2_106 = np.array(S1meanC2_106)\n",
        "\n",
        "S1rgbrefA1_1206 = list()\n",
        "S1rgbC2_106 = list()\n",
        "for i in range(3):\n",
        "    S1rgbrefA1_1206.append(S1meanrefA1_1206[:,i].mean())\n",
        "    S1rgbC2_106.append(S1meanC2_106[:,i].mean())"
      ],
      "execution_count": null,
      "outputs": []
    },
    {
      "cell_type": "code",
      "metadata": {
        "id": "msdPGscWPJRM"
      },
      "source": [
        "S1meanrefA1_1306 = list()\n",
        "S1meanC3_106 = list()\n",
        "for i in range(S1RGB_imgA1C3_6.shape[0]): \n",
        "     for j in range(S1RGB_imgA1C3_6.shape[1]): \n",
        "                if 1769<i<1881 and 2019<j<2131 :\n",
        "                  S1meanrefA1_1306.append(S1RGB_imgA1C3_6[i][j])\n",
        "                if 1770<i<1880 and 2015<j<2145 :\n",
        "                  S1meanC3_106.append(S1RGB_imgA1C3_6[i][j])  \n",
        "S1meanrefA1_1306 = np.array(S1meanrefA1_1306)\n",
        "S1meanC3_106 = np.array(S1meanC3_106)\n",
        "\n",
        "S1rgbrefA1_1306 = list()\n",
        "S1rgbC3_106 = list()\n",
        "for i in range(3):\n",
        "    S1rgbrefA1_1306.append(S1meanrefA1_1306[:,i].mean())\n",
        "    S1rgbC3_106.append(S1meanC3_106[:,i].mean())"
      ],
      "execution_count": null,
      "outputs": []
    },
    {
      "cell_type": "code",
      "metadata": {
        "id": "eQG0h-PFPJRN"
      },
      "source": [
        "S1meanrefA1_1406 = list()\n",
        "S1meanC4_106 = list()\n",
        "for i in range(S1RGB_imgA1C4_6.shape[0]): \n",
        "     for j in range(S1RGB_imgA1C4_6.shape[1]): \n",
        "                if 1769<i<1881 and 2019<j<2131 :\n",
        "                  S1meanrefA1_1406.append(S1RGB_imgA1C4_6[i][j])\n",
        "                if 1770<i<1880 and 2015<j<2145 :\n",
        "                  S1meanC4_106.append(S1RGB_imgA1C4_6[i][j])  \n",
        "S1meanrefA1_1406 = np.array(S1meanrefA1_1406)\n",
        "S1meanC4_106 = np.array(S1meanC4_106)\n",
        "\n",
        "S1rgbrefA1_1406 = list()\n",
        "S1rgbC4_106 = list()\n",
        "for i in range(3):\n",
        "    S1rgbrefA1_1406.append(S1meanrefA1_1406[:,i].mean())\n",
        "    S1rgbC4_106.append(S1meanC4_106[:,i].mean())"
      ],
      "execution_count": null,
      "outputs": []
    },
    {
      "cell_type": "code",
      "metadata": {
        "id": "lu9p_cvuPJRN"
      },
      "source": [
        "S1meanrefA1_1506 = list()\n",
        "S1meanD2_106 = list()\n",
        "for i in range(S1RGB_imgA1D2_6.shape[0]): \n",
        "     for j in range(S1RGB_imgA1D2_6.shape[1]): \n",
        "                if 1769<i<1881 and 2019<j<2131 :\n",
        "                  S1meanrefA1_1506.append(S1RGB_imgA1D2_6[i][j])\n",
        "                if 1770<i<1880 and 2015<j<2145 :\n",
        "                  S1meanD2_106.append(S1RGB_imgA1D2_6[i][j])  \n",
        "S1meanrefA1_1506 = np.array(S1meanrefA1_1506)\n",
        "S1meanD2_106 = np.array(S1meanD2_106)\n",
        "\n",
        "S1rgbrefA1_1506 = list()\n",
        "S1rgbD2_1 = list()\n",
        "for i in range(3):\n",
        "    S1rgbrefA1_15.append(S1meanrefA1_15[:,i].mean())\n",
        "    S1rgbD2_1.append(S1meanD2_1[:,i].mean())"
      ],
      "execution_count": null,
      "outputs": []
    },
    {
      "cell_type": "code",
      "metadata": {
        "id": "TFVWrGz5PJRO"
      },
      "source": [
        "S1meanrefA1_16 = list()\n",
        "S1meanD3_1 = list()\n",
        "for i in range(S1RGB_imgA1D3_6.shape[0]): \n",
        "     for j in range(S1RGB_imgA1D3_6.shape[1]): \n",
        "                if 1769<i<1881 and 2019<j<2131 :\n",
        "                  S1meanrefA1_16.append(S1RGB_imgA1D3_6[i][j])\n",
        "                if 1770<i<1880 and 2015<j<2145 :\n",
        "                  S1meanD3_1.append(S1RGB_imgA1D3_6[i][j])  \n",
        "S1meanrefA1_16 = np.array(S1meanrefA1_1606)\n",
        "S1meanD3_106 = np.array(S1meanD3_106)\n",
        "\n",
        "S1rgbrefA1_1606 = list()\n",
        "S1rgbD3_106 = list()\n",
        "for i in range(3):\n",
        "    S1rgbrefA1_1606.append(S1meanrefA1_1606[:,i].mean())\n",
        "    S1rgbD3_106.append(S1meanD3_106[:,i].mean())"
      ],
      "execution_count": null,
      "outputs": []
    },
    {
      "cell_type": "code",
      "metadata": {
        "id": "fYrwrfVJPJRO"
      },
      "source": [
        "S1meanrefA1_1706= list()\n",
        "S1meanD4_106 = list()\n",
        "for i in range(S1RGB_imgA1D4_6.shape[0]): \n",
        "     for j in range(S1RGB_imgA1D4_6.shape[1]): \n",
        "                if 1769<i<1881 and 2019<j<2131 :\n",
        "                  S1meanrefA1_1706.append(S1RGB_imgA1D4_6[i][j])\n",
        "                if 1770<i<1880 and 2015<j<2145 :\n",
        "                  S1meanD4_106.append(S1RGB_imgA1D4_6[i][j])  \n",
        "S1meanrefA1_1706 = np.array(S1meanrefA1_1406)\n",
        "S1meanD4_106 = np.array(S1meanD4_106)\n",
        "\n",
        "S1rgbrefA1_1706 = list()\n",
        "S1rgbD4_106 = list()\n",
        "for i in range(3):\n",
        "    S1rgbrefA1_1706.append(S1meanrefA1_1706[:,i].mean())\n",
        "    S1rgbD4_106.append(S1meanD4_106[:,i].mean())"
      ],
      "execution_count": null,
      "outputs": []
    },
    {
      "cell_type": "markdown",
      "metadata": {
        "id": "DSnqr8Vu-XCW"
      },
      "source": [
        "###Img 7\n"
      ]
    },
    {
      "cell_type": "code",
      "metadata": {
        "id": "TtKRWBkaPKkx"
      },
      "source": [
        "S1meanrefA1_107 = list()\n",
        "S1meanA1_207 = list()\n",
        "for i in range(S1RGB_imgA1A1_7.shape[0]): #ให้ i รันตาม row หรือ shape[0] คือแถว มีทั้งหมด 4032 แถว ของภาพที่ปรับขนาดมาแล้ว\n",
        "     for j in range(S1RGB_imgA1A1_7.shape[1]): #ให้ j รันตาม colum มีทั้งหมด 3024 colum เช่น แถวที่ 1 เข้ามาให้รันครบ 3024colum\n",
        "                if 1769<i<1881 and 2019<j<2131 :\n",
        "                  S1meanrefA1_107.append(S1RGB_imgA1A1_7[i][j])\n",
        "                if 1770<i<1880 and 2015<j<2145 :\n",
        "                  S1meanA1_207.append(S1RGB_imgA1A1_7[i][j])  \n",
        "S1meanrefA1_107 = np.array(S1meanrefA1_107)\n",
        "S1meanA1_207 = np.array(S1meanA1_207)\n",
        "\n",
        "S1rgbrefA1_107 = list()\n",
        "S1rgbA1_207 = list()\n",
        "for i in range(3):\n",
        "    S1rgbrefA1_107.append(S1meanrefA1_107[:,i].mean())\n",
        "    S1rgbA1_207.append(S1meanA1_207[:,i].mean())\n",
        "S1rgbrefA1_107,S1rgbA1_207 "
      ],
      "execution_count": null,
      "outputs": []
    },
    {
      "cell_type": "code",
      "metadata": {
        "id": "Tdr990L6PKky"
      },
      "source": [
        "S1meanrefA1_307 = list()\n",
        "S1meanA2_107 = list()\n",
        "for i in range(S1RGB_imgA1A2_7.shape[0]): \n",
        "     for j in range(S1RGB_imgA1A2_7.shape[1]): \n",
        "                if 1769<i<1881 and 2019<j<2131 :\n",
        "                  S1meanrefA1_307.append(S1RGB_imgA1A2_7[i][j])\n",
        "                if 1770<i<1880 and 2015<j<2145 :\n",
        "                  S1meanA2_107.append(S1RGB_imgA1A2_7[i][j])  \n",
        "S1meanrefA1_307 = np.array(S1meanrefA1_307)\n",
        "S1meanA2_107 = np.array(S1meanA2_107)\n",
        "\n",
        "S1rgbrefA1_307 = list()\n",
        "S1rgbA2_107 = list()\n",
        "for i in range(3):\n",
        "    S1rgbrefA1_307.append(S1meanrefA1_307[:,i].mean())\n",
        "    S1rgbA2_107.append(S1meanA2_107[:,i].mean())"
      ],
      "execution_count": null,
      "outputs": []
    },
    {
      "cell_type": "code",
      "metadata": {
        "id": "djJrqIrHPKkz"
      },
      "source": [
        "S1meanrefA1_407 = list()\n",
        "S1meanA3_107 = list()\n",
        "for i in range(S1RGB_imgA1A3_7.shape[0]): \n",
        "     for j in range(S1RGB_imgA1A3_7.shape[1]): \n",
        "                if 1769<i<1881 and 2019<j<2131 :\n",
        "                  S1meanrefA1_407.append(S1RGB_imgA1A3_7[i][j])\n",
        "                if 1770<i<1880 and 2015<j<2145 :\n",
        "                  S1meanA3_107.append(S1RGB_imgA1A3_7[i][j])  \n",
        "S1meanrefA1_407 = np.array(S1meanrefA1_407)\n",
        "S1meanA3_107 = np.array(S1meanA3_107)\n",
        "\n",
        "S1rgbrefA1_407 = list()\n",
        "S1rgbA3_107 = list()\n",
        "for i in range(3):\n",
        "    S1rgbrefA1_407.append(S1meanrefA1_407[:,i].mean())\n",
        "    S1rgbA3_107.append(S1meanA3_107[:,i].mean())"
      ],
      "execution_count": null,
      "outputs": []
    },
    {
      "cell_type": "code",
      "metadata": {
        "id": "8uHqseSSPKk0"
      },
      "source": [
        "S1meanrefA1_507 = list()\n",
        "S1meanA3_5107 = list()\n",
        "for i in range(S1RGB_imgA1A3_57.shape[0]): \n",
        "     for j in range(S1RGB_imgA1A3_57.shape[1]): \n",
        "                if 1769<i<1881 and 2019<j<2131 :\n",
        "                  S1meanrefA1_507.append(S1RGB_imgA1A3_57[i][j])\n",
        "                if 1770<i<1880 and 2015<j<2145 :\n",
        "                  S1meanA3_5107.append(S1RGB_imgA1A3_57[i][j])  \n",
        "S1meanrefA1_507 = np.array(S1meanrefA1_507)\n",
        "S1meanA3_5107 = np.array(S1meanA3_5107)\n",
        "\n",
        "S1rgbrefA1_507 = list()\n",
        "S1rgbA3_5107 = list()\n",
        "for i in range(3):\n",
        "    S1rgbrefA1_507.append(S1meanrefA1_507[:,i].mean())\n",
        "    S1rgbA3_5107.append(S1meanA3_5107[:,i].mean())"
      ],
      "execution_count": null,
      "outputs": []
    },
    {
      "cell_type": "code",
      "metadata": {
        "id": "9gkvMKikPKk0"
      },
      "source": [
        "S1meanrefA1_607 = list()\n",
        "S1meanA4_107 = list()\n",
        "for i in range(S1RGB_imgA1A4_7.shape[0]): \n",
        "     for j in range(S1RGB_imgA1A4_7.shape[1]): \n",
        "                if 1769<i<1881 and 2019<j<2131 :\n",
        "                  S1meanrefA1_607.append(S1RGB_imgA1A4_7[i][j])\n",
        "                if 1770<i<1880 and 2015<j<2145 :\n",
        "                  S1meanA4_107.append(S1RGB_imgA1A4_7[i][j])  \n",
        "S1meanrefA1_607 = np.array(S1meanrefA1_607)\n",
        "S1meanA4_107 = np.array(S1meanA4_107)\n",
        "\n",
        "S1rgbrefA1_607 = list()\n",
        "S1rgbA4_107 = list()\n",
        "for i in range(3):\n",
        "    S1rgbrefA1_607.append(S1meanrefA1_607[:,i].mean())\n",
        "    S1rgbA4_107.append(S1meanA4_107[:,i].mean())"
      ],
      "execution_count": null,
      "outputs": []
    },
    {
      "cell_type": "code",
      "metadata": {
        "id": "WZEgkQyjPKk1"
      },
      "source": [
        "S1meanrefA1_707 = list()\n",
        "S1meanB1_107 = list()\n",
        "for i in range(S1RGB_imgA1B1_7.shape[0]): \n",
        "     for j in range(S1RGB_imgA1B1_7.shape[1]): \n",
        "                if 1769<i<1881 and 2019<j<2131 :\n",
        "                  S1meanrefA1_707.append(S1RGB_imgA1B1_7[i][j])\n",
        "                if 1770<i<1880 and 2015<j<2145 :\n",
        "                  S1meanB1_107.append(S1RGB_imgA1B1_7[i][j])  \n",
        "S1meanrefA1_707 = np.array(S1meanrefA1_707)\n",
        "S1meanB1_107 = np.array(S1meanB1_107)\n",
        "\n",
        "S1rgbrefA1_707 = list()\n",
        "S1rgbB1_107 = list()\n",
        "for i in range(3):\n",
        "    S1rgbrefA1_707.append(S1meanrefA1_707[:,i].mean())\n",
        "    S1rgbB1_107.append(S1meanB1_107[:,i].mean())"
      ],
      "execution_count": null,
      "outputs": []
    },
    {
      "cell_type": "code",
      "metadata": {
        "id": "4faX4yf9PKk1"
      },
      "source": [
        "S1meanrefA1_807 = list()\n",
        "S1meanB2_107 = list()\n",
        "for i in range(S1RGB_imgA1B2_7.shape[0]): \n",
        "     for j in range(S1RGB_imgA1B2_7.shape[1]): \n",
        "                if 1769<i<1881 and 2019<j<2131 :\n",
        "                  S1meanrefA1_807.append(S1RGB_imgA1B2_7[i][j])\n",
        "                if 1770<i<1880 and 2015<j<2145 :\n",
        "                  S1meanB2_107.append(S1RGB_imgA1B2_7[i][j])  \n",
        "S1meanrefA1_807 = np.array(S1meanrefA1_807)\n",
        "S1meanB2_107 = np.array(S1meanB2_107)\n",
        "\n",
        "S1rgbrefA1_807 = list()\n",
        "S1rgbB2_107 = list()\n",
        "for i in range(3):\n",
        "    S1rgbrefA1_807.append(S1meanrefA1_807[:,i].mean())\n",
        "    S1rgbB2_107.append(S1meanB2_107[:,i].mean())"
      ],
      "execution_count": null,
      "outputs": []
    },
    {
      "cell_type": "code",
      "metadata": {
        "id": "VvA7haIwPKk2"
      },
      "source": [
        "S1meanrefA1_907 = list()\n",
        "S1meanB3_107 = list()\n",
        "for i in range(S1RGB_imgA1B3_7.shape[0]): \n",
        "     for j in range(S1RGB_imgA1B3_7.shape[1]): \n",
        "                if 1769<i<1881 and 2019<j<2131 :\n",
        "                  S1meanrefA1_907.append(S1RGB_imgA1B3_7[i][j])\n",
        "                if 1770<i<1880 and 2015<j<2145 :\n",
        "                  S1meanB3_107.append(S1RGB_imgA1B3_7[i][j])  \n",
        "S1meanrefA1_907 = np.array(S1meanrefA1_907)\n",
        "S1meanB3_107 = np.array(S1meanB3_107)\n",
        "\n",
        "S1rgbrefA1_907 = list()\n",
        "S1rgbB3_107 = list()\n",
        "for i in range(3):\n",
        "    S1rgbrefA1_907.append(S1meanrefA1_907[:,i].mean())\n",
        "    S1rgbB3_107.append(S1meanB3_107[:,i].mean())"
      ],
      "execution_count": null,
      "outputs": []
    },
    {
      "cell_type": "code",
      "metadata": {
        "id": "Mx9OIAcMPKk2"
      },
      "source": [
        "S1meanrefA1_1007 = list()\n",
        "S1meanB4_107 = list()\n",
        "for i in range(S1RGB_imgA1B4_7.shape[0]): \n",
        "     for j in range(S1RGB_imgA1B4_7.shape[1]): \n",
        "                if 1769<i<1881 and 2019<j<2131 :\n",
        "                  S1meanrefA1_1007.append(S1RGB_imgA1B4_7[i][j])\n",
        "                if 1770<i<1880 and 2015<j<2145 :\n",
        "                  S1meanB4_107.append(S1RGB_imgA1B4_7[i][j])  \n",
        "S1meanrefA1_1007 = np.array(S1meanrefA1_1007)\n",
        "S1meanB4_107 = np.array(S1meanB4_107)\n",
        "\n",
        "S1rgbrefA1_1007 = list()\n",
        "S1rgbB4_107 = list()\n",
        "for i in range(3):\n",
        "    S1rgbrefA1_1007.append(S1meanrefA1_1007[:,i].mean())\n",
        "    S1rgbB4_107.append(S1meanB4_107[:,i].mean())"
      ],
      "execution_count": null,
      "outputs": []
    },
    {
      "cell_type": "code",
      "metadata": {
        "id": "vJnGVySQPKk3"
      },
      "source": [
        "S1meanrefA1_1107 = list()\n",
        "S1meanC1_107 = list()\n",
        "for i in range(S1RGB_imgA1C1_7.shape[0]): \n",
        "     for j in range(S1RGB_imgA1C1_7.shape[1]): \n",
        "                if 1769<i<1881 and 2019<j<2131 :\n",
        "                  S1meanrefA1_1107.append(S1RGB_imgA1C1_7[i][j])\n",
        "                if 1770<i<1880 and 2015<j<2145 :\n",
        "                  S1meanC1_107.append(S1RGB_imgA1C1_7[i][j])  \n",
        "S1meanrefA1_1107 = np.array(S1meanrefA1_1107)\n",
        "S1meanC1_107 = np.array(S1meanC1_107)\n",
        "\n",
        "S1rgbrefA1_1107 = list()\n",
        "S1rgbC1_107 = list()\n",
        "for i in range(3):\n",
        "    S1rgbrefA1_1107.append(S1meanrefA1_1107[:,i].mean())\n",
        "    S1rgbC1_107.append(S1meanC1_107[:,i].mean())"
      ],
      "execution_count": null,
      "outputs": []
    },
    {
      "cell_type": "code",
      "metadata": {
        "id": "WP4FR3OhPKk3"
      },
      "source": [
        "S1meanrefA1_1207 = list()\n",
        "S1meanC2_107 = list()\n",
        "for i in range(S1RGB_imgA1C2_7.shape[0]): \n",
        "     for j in range(S1RGB_imgA1C2_7.shape[1]): \n",
        "                if 1769<i<1881 and 2019<j<2131 :\n",
        "                  S1meanrefA1_1207.append(S1RGB_imgA1C2_7[i][j])\n",
        "                if 1770<i<1880 and 2015<j<2145 :\n",
        "                  S1meanC2_107.append(S1RGB_imgA1C2_7[i][j])  \n",
        "S1meanrefA1_1207 = np.array(S1meanrefA1_1207)\n",
        "S1meanC2_107 = np.array(S1meanC2_107)\n",
        "\n",
        "S1rgbrefA1_1207 = list()\n",
        "S1rgbC2_107 = list()\n",
        "for i in range(3):\n",
        "    S1rgbrefA1_1207.append(S1meanrefA1_1207[:,i].mean())\n",
        "    S1rgbC2_107.append(S1meanC2_107[:,i].mean())"
      ],
      "execution_count": null,
      "outputs": []
    },
    {
      "cell_type": "code",
      "metadata": {
        "id": "DYcfqPePPKk3"
      },
      "source": [
        "S1meanrefA1_1307 = list()\n",
        "S1meanC3_107 = list()\n",
        "for i in range(S1RGB_imgA1C3_7.shape[0]): \n",
        "     for j in range(S1RGB_imgA1C3_7.shape[1]): \n",
        "                if 1769<i<1881 and 2019<j<2131 :\n",
        "                  S1meanrefA1_1307.append(S1RGB_imgA1C3_7[i][j])\n",
        "                if 1770<i<1880 and 2015<j<2145 :\n",
        "                  S1meanC3_107.append(S1RGB_imgA1C3_7[i][j])  \n",
        "S1meanrefA1_1307 = np.array(S1meanrefA1_1307)\n",
        "S1meanC3_107 = np.array(S1meanC3_107)\n",
        "\n",
        "S1rgbrefA1_1307 = list()\n",
        "S1rgbC3_107 = list()\n",
        "for i in range(3):\n",
        "    S1rgbrefA1_1307.append(S1meanrefA1_1307[:,i].mean())\n",
        "    S1rgbC3_107.append(S1meanC3_107[:,i].mean())"
      ],
      "execution_count": null,
      "outputs": []
    },
    {
      "cell_type": "code",
      "metadata": {
        "id": "I5-bWpjFPKk4"
      },
      "source": [
        "S1meanrefA1_1407 = list()\n",
        "S1meanC4_107 = list()\n",
        "for i in range(S1RGB_imgA1C4_7.shape[0]): \n",
        "     for j in range(S1RGB_imgA1C4_7.shape[1]): \n",
        "                if 1769<i<1881 and 2019<j<2131 :\n",
        "                  S1meanrefA1_1407.append(S1RGB_imgA1C4_7[i][j])\n",
        "                if 1770<i<1880 and 2015<j<2145 :\n",
        "                  S1meanC4_107.append(S1RGB_imgA1C4_7[i][j])  \n",
        "S1meanrefA1_1407 = np.array(S1meanrefA1_1407)\n",
        "S1meanC4_107 = np.array(S1meanC4_107)\n",
        "\n",
        "S1rgbrefA1_1407 = list()\n",
        "S1rgbC4_107 = list()\n",
        "for i in range(3):\n",
        "    S1rgbrefA1_1407.append(S1meanrefA1_1407[:,i].mean())\n",
        "    S1rgbC4_107.append(S1meanC4_107[:,i].mean())"
      ],
      "execution_count": null,
      "outputs": []
    },
    {
      "cell_type": "code",
      "metadata": {
        "id": "Llsl2_QAPKk4"
      },
      "source": [
        "S1meanrefA1_1507 = list()\n",
        "S1meanD2_107 = list()\n",
        "for i in range(S1RGB_imgA1D2_7.shape[0]): \n",
        "     for j in range(S1RGB_imgA1D2_7.shape[1]): \n",
        "                if 1769<i<1881 and 2019<j<2131 :\n",
        "                  S1meanrefA1_1507.append(S1RGB_imgA1D2_7[i][j])\n",
        "                if 1770<i<1880 and 2015<j<2145 :\n",
        "                  S1meanD2_107.append(S1RGB_imgA1D2_7[i][j])  \n",
        "S1meanrefA1_1507 = np.array(S1meanrefA1_1507)\n",
        "S1meanD2_107 = np.array(S1meanD2_107)\n",
        "\n",
        "S1rgbrefA1_1507 = list()\n",
        "S1rgbD2_107 = list()\n",
        "for i in range(3):\n",
        "    S1rgbrefA1_1507.append(S1meanrefA1_1507[:,i].mean())\n",
        "    S1rgbD2_107.append(S1meanD2_107[:,i].mean())"
      ],
      "execution_count": null,
      "outputs": []
    },
    {
      "cell_type": "code",
      "metadata": {
        "id": "sIJdmX1zPKk4"
      },
      "source": [
        "S1meanrefA1_1607 = list()\n",
        "S1meanD3_107 = list()\n",
        "for i in range(S1RGB_imgA1D3_7.shape[0]): \n",
        "     for j in range(S1RGB_imgA1D3_7.shape[1]): \n",
        "                if 1769<i<1881 and 2019<j<2131 :\n",
        "                  S1meanrefA1_1607.append(S1RGB_imgA1D3_7[i][j])\n",
        "                if 1770<i<1880 and 2015<j<2145 :\n",
        "                  S1meanD3_107.append(S1RGB_imgA1D3_7[i][j])  \n",
        "S1meanrefA1_1607 = np.array(S1meanrefA1_1607)\n",
        "S1meanD3_107 = np.array(S1meanD3_107)\n",
        "\n",
        "S1rgbrefA1_1607 = list()\n",
        "S1rgbD3_107 = list()\n",
        "for i in range(3):\n",
        "    S1rgbrefA1_1607.append(S1meanrefA1_1607[:,i].mean())\n",
        "    S1rgbD3_107.append(S1meanD3_107[:,i].mean())"
      ],
      "execution_count": null,
      "outputs": []
    },
    {
      "cell_type": "code",
      "metadata": {
        "id": "VPCRtg6WPKk5"
      },
      "source": [
        "S1meanrefA1_1707= list()\n",
        "S1meanD4_107 = list()\n",
        "for i in range(S1RGB_imgA1D4_7.shape[0]): \n",
        "     for j in range(S1RGB_imgA1D4_7.shape[1]): \n",
        "                if 1769<i<1881 and 2019<j<2131 :\n",
        "                  S1meanrefA1_1707.append(S1RGB_imgA1D4_7[i][j])\n",
        "                if 1770<i<1880 and 2015<j<2145 :\n",
        "                  S1meanD4_107.append(S1RGB_imgA1D4_7[i][j])  \n",
        "S1meanrefA1_1707 = np.array(S1meanrefA1_1407)\n",
        "S1meanD4_107 = np.array(S1meanD4_107)\n",
        "\n",
        "S1rgbrefA1_1707 = list()\n",
        "S1rgbD4_107 = list()\n",
        "for i in range(3):\n",
        "    S1rgbrefA1_1707.append(S1meanrefA1_1707[:,i].mean())\n",
        "    S1rgbD4_107.append(S1meanD4_107[:,i].mean())"
      ],
      "execution_count": null,
      "outputs": []
    },
    {
      "cell_type": "markdown",
      "metadata": {
        "id": "lALnSC1y-XCX"
      },
      "source": [
        "###Img 8"
      ]
    },
    {
      "cell_type": "code",
      "metadata": {
        "id": "vgh50-2vPLsr"
      },
      "source": [
        "S1meanrefA1_108 = list()\n",
        "S1meanA1_208 = list()\n",
        "for i in range(S1RGB_imgA1A1_8.shape[0]): #ให้ i รันตาม row หรือ shape[0] คือแถว มีทั้งหมด 4032 แถว ของภาพที่ปรับขนาดมาแล้ว\n",
        "     for j in range(S1RGB_imgA1A1_8.shape[1]): #ให้ j รันตาม colum มีทั้งหมด 3024 colum เช่น แถวที่ 1 เข้ามาให้รันครบ 3024colum\n",
        "                if 1769<i<1881 and 2019<j<2131 :\n",
        "                  S1meanrefA1_108.append(S1RGB_imgA1A1_8[i][j])\n",
        "                if 1770<i<1880 and 2015<j<2145 :\n",
        "                  S1meanA1_208.append(S1RGB_imgA1A1_8[i][j])  \n",
        "S1meanrefA1_108 = np.array(S1meanrefA1_108)\n",
        "S1meanA1_208 = np.array(S1meanA1_208)\n",
        "\n",
        "S1rgbrefA1_108 = list()\n",
        "S1rgbA1_208 = list()\n",
        "for i in range(3):\n",
        "    S1rgbrefA1_108.append(S1meanrefA1_108[:,i].mean())\n",
        "    S1rgbA1_208.append(S1meanA1_208[:,i].mean())\n",
        "S1rgbrefA1_108,S1rgbA1_208 "
      ],
      "execution_count": null,
      "outputs": []
    },
    {
      "cell_type": "code",
      "metadata": {
        "id": "F7PCnL8_PLss"
      },
      "source": [
        "S1meanrefA1_308 = list()\n",
        "S1meanA2_108 = list()\n",
        "for i in range(S1RGB_imgA1A2_8.shape[0]): \n",
        "     for j in range(S1RGB_imgA1A2_8.shape[1]): \n",
        "                if 1769<i<1881 and 2019<j<2131 :\n",
        "                  S1meanrefA1_308.append(S1RGB_imgA1A2_8[i][j])\n",
        "                if 1770<i<1880 and 2015<j<2145 :\n",
        "                  S1meanA2_108.append(S1RGB_imgA1A2_8[i][j])  \n",
        "S1meanrefA1_308 = np.array(S1meanrefA1_308)\n",
        "S1meanA2_108 = np.array(S1meanA2_108)\n",
        "\n",
        "S1rgbrefA1_308 = list()\n",
        "S1rgbA2_108 = list()\n",
        "for i in range(3):\n",
        "    S1rgbrefA1_308.append(S1meanrefA1_308[:,i].mean())\n",
        "    S1rgbA2_108.append(S1meanA2_108[:,i].mean())"
      ],
      "execution_count": null,
      "outputs": []
    },
    {
      "cell_type": "code",
      "metadata": {
        "id": "IWD-VV6kPLss"
      },
      "source": [
        "S1meanrefA1_408 = list()\n",
        "S1meanA3_108 = list()\n",
        "for i in range(S1RGB_imgA1A3_8.shape[0]): \n",
        "     for j in range(S1RGB_imgA1A3_8.shape[1]): \n",
        "                if 1769<i<1881 and 2019<j<2131 :\n",
        "                  S1meanrefA1_408.append(S1RGB_imgA1A3_8[i][j])\n",
        "                if 1770<i<1880 and 2015<j<2145 :\n",
        "                  S1meanA3_108.append(S1RGB_imgA1A3_8[i][j])  \n",
        "S1meanrefA1_408 = np.array(S1meanrefA1_408)\n",
        "S1meanA3_108 = np.array(S1meanA3_108)\n",
        "\n",
        "S1rgbrefA1_408 = list()\n",
        "S1rgbA3_108 = list()\n",
        "for i in range(3):\n",
        "    S1rgbrefA1_408.append(S1meanrefA1_408[:,i].mean())\n",
        "    S1rgbA3_108.append(S1meanA3_108[:,i].mean())"
      ],
      "execution_count": null,
      "outputs": []
    },
    {
      "cell_type": "code",
      "metadata": {
        "id": "MFVR3l37PLst"
      },
      "source": [
        "S1meanrefA1_508 = list()\n",
        "S1meanA3_5108 = list()\n",
        "for i in range(S1RGB_imgA1A3_58.shape[0]): \n",
        "     for j in range(S1RGB_imgA1A3_58.shape[1]): \n",
        "                if 1769<i<1881 and 2019<j<2131 :\n",
        "                  S1meanrefA1_508.append(S1RGB_imgA1A3_58[i][j])\n",
        "                if 1770<i<1880 and 2015<j<2145 :\n",
        "                  S1meanA3_5108.append(S1RGB_imgA1A3_58[i][j])  \n",
        "S1meanrefA1_508 = np.array(S1meanrefA1_508)\n",
        "S1meanA3_5108 = np.array(S1meanA3_5108)\n",
        "\n",
        "S1rgbrefA1_508 = list()\n",
        "S1rgbA3_5108 = list()\n",
        "for i in range(3):\n",
        "    S1rgbrefA1_508.append(S1meanrefA1_508[:,i].mean())\n",
        "    S1rgbA3_5108.append(S1meanA3_5108[:,i].mean())"
      ],
      "execution_count": null,
      "outputs": []
    },
    {
      "cell_type": "code",
      "metadata": {
        "id": "yVkG5hPpPLst"
      },
      "source": [
        "S1meanrefA1_608 = list()\n",
        "S1meanA4_108 = list()\n",
        "for i in range(S1RGB_imgA1A4_8.shape[0]): \n",
        "     for j in range(S1RGB_imgA1A4_8.shape[1]): \n",
        "                if 1769<i<1881 and 2019<j<2131 :\n",
        "                  S1meanrefA1_608.append(S1RGB_imgA1A4_8[i][j])\n",
        "                if 1770<i<1880 and 2015<j<2145 :\n",
        "                  S1meanA4_108.append(S1RGB_imgA1A4_8[i][j])  \n",
        "S1meanrefA1_608 = np.array(S1meanrefA1_608)\n",
        "S1meanA4_108 = np.array(S1meanA4_108)\n",
        "\n",
        "S1rgbrefA1_608 = list()\n",
        "S1rgbA4_108 = list()\n",
        "for i in range(3):\n",
        "    S1rgbrefA1_608.append(S1meanrefA1_608[:,i].mean())\n",
        "    S1rgbA4_108.append(S1meanA4_108[:,i].mean())"
      ],
      "execution_count": null,
      "outputs": []
    },
    {
      "cell_type": "code",
      "metadata": {
        "id": "43zuRyy_PLst"
      },
      "source": [
        "S1meanrefA1_708 = list()\n",
        "S1meanB1_108 = list()\n",
        "for i in range(S1RGB_imgA1B1_8.shape[0]): \n",
        "     for j in range(S1RGB_imgA1B1_8.shape[1]): \n",
        "                if 1769<i<1881 and 2019<j<2131 :\n",
        "                  S1meanrefA1_708.append(S1RGB_imgA1B1_8[i][j])\n",
        "                if 1770<i<1880 and 2015<j<2145 :\n",
        "                  S1meanB1_108.append(S1RGB_imgA1B1_8[i][j])  \n",
        "S1meanrefA1_708 = np.array(S1meanrefA1_708)\n",
        "S1meanB1_108 = np.array(S1meanB1_108)\n",
        "\n",
        "S1rgbrefA1_708 = list()\n",
        "S1rgbB1_108 = list()\n",
        "for i in range(3):\n",
        "    S1rgbrefA1_708.append(S1meanrefA1_708[:,i].mean())\n",
        "    S1rgbB1_108.append(S1meanB1_108[:,i].mean())"
      ],
      "execution_count": null,
      "outputs": []
    },
    {
      "cell_type": "code",
      "metadata": {
        "id": "44rOAp9APLsu"
      },
      "source": [
        "S1meanrefA1_808 = list()\n",
        "S1meanB2_108 = list()\n",
        "for i in range(S1RGB_imgA1B2_8.shape[0]): \n",
        "     for j in range(S1RGB_imgA1B2_8.shape[1]): \n",
        "                if 1769<i<1881 and 2019<j<2131 :\n",
        "                  S1meanrefA1_808.append(S1RGB_imgA1B2_8[i][j])\n",
        "                if 1770<i<1880 and 2015<j<2145 :\n",
        "                  S1meanB2_108.append(S1RGB_imgA1B2_8[i][j])  \n",
        "S1meanrefA1_808 = np.array(S1meanrefA1_808)\n",
        "S1meanB2_108 = np.array(S1meanB2_108)\n",
        "\n",
        "S1rgbrefA1_808 = list()\n",
        "S1rgbB2_108 = list()\n",
        "for i in range(3):\n",
        "    S1rgbrefA1_808.append(S1meanrefA1_808[:,i].mean())\n",
        "    S1rgbB2_108.append(S1meanB2_108[:,i].mean())"
      ],
      "execution_count": null,
      "outputs": []
    },
    {
      "cell_type": "code",
      "metadata": {
        "id": "vyC18GHJPLsu"
      },
      "source": [
        "S1meanrefA1_908 = list()\n",
        "S1meanB3_108 = list()\n",
        "for i in range(S1RGB_imgA1B3_8.shape[0]): \n",
        "     for j in range(S1RGB_imgA1B3_8.shape[1]): \n",
        "                if 1769<i<1881 and 2019<j<2131 :\n",
        "                  S1meanrefA1_908.append(S1RGB_imgA1B3_8[i][j])\n",
        "                if 1770<i<1880 and 2015<j<2145 :\n",
        "                  S1meanB3_108.append(S1RGB_imgA1B3_8[i][j])  \n",
        "S1meanrefA1_908 = np.array(S1meanrefA1_908)\n",
        "S1meanB3_108 = np.array(S1meanB3_108)\n",
        "\n",
        "S1rgbrefA1_908 = list()\n",
        "S1rgbB3_108 = list()\n",
        "for i in range(3):\n",
        "    S1rgbrefA1_908.append(S1meanrefA1_908[:,i].mean())\n",
        "    S1rgbB3_108.append(S1meanB3_108[:,i].mean())"
      ],
      "execution_count": null,
      "outputs": []
    },
    {
      "cell_type": "code",
      "metadata": {
        "id": "TwLUluFjPLsu"
      },
      "source": [
        "S1meanrefA1_1008 = list()\n",
        "S1meanB4_108 = list()\n",
        "for i in range(S1RGB_imgA1B4_8.shape[0]): \n",
        "     for j in range(S1RGB_imgA1B4_8.shape[1]): \n",
        "                if 1769<i<1881 and 2019<j<2131 :\n",
        "                  S1meanrefA1_1008.append(S1RGB_imgA1B4_8[i][j])\n",
        "                if 1770<i<1880 and 2015<j<2145 :\n",
        "                  S1meanB4_108.append(S1RGB_imgA1B4_8[i][j])  \n",
        "S1meanrefA1_1008 = np.array(S1meanrefA1_1008)\n",
        "S1meanB4_108 = np.array(S1meanB4_108)\n",
        "\n",
        "S1rgbrefA1_1008 = list()\n",
        "S1rgbB4_108 = list()\n",
        "for i in range(3):\n",
        "    S1rgbrefA1_1008.append(S1meanrefA1_1008[:,i].mean())\n",
        "    S1rgbB4_108.append(S1meanB4_108[:,i].mean())"
      ],
      "execution_count": null,
      "outputs": []
    },
    {
      "cell_type": "code",
      "metadata": {
        "id": "kWPrn40APLsv"
      },
      "source": [
        "S1meanrefA1_1108 = list()\n",
        "S1meanC1_108 = list()\n",
        "for i in range(S1RGB_imgA1C1_8.shape[0]): \n",
        "     for j in range(S1RGB_imgA1C1_8.shape[1]): \n",
        "                if 1769<i<1881 and 2019<j<2131 :\n",
        "                  S1meanrefA1_1108.append(S1RGB_imgA1C1_8[i][j])\n",
        "                if 1770<i<1880 and 2015<j<2145 :\n",
        "                  S1meanC1_108.append(S1RGB_imgA1C1_8[i][j])  \n",
        "S1meanrefA1_1108 = np.array(S1meanrefA1_1108)\n",
        "S1meanC1_108 = np.array(S1meanC1_108)\n",
        "\n",
        "S1rgbrefA1_1108 = list()\n",
        "S1rgbC1_108 = list()\n",
        "for i in range(3):\n",
        "    S1rgbrefA1_1108.append(S1meanrefA1_1108[:,i].mean())\n",
        "    S1rgbC1_108.append(S1meanC1_108[:,i].mean())"
      ],
      "execution_count": null,
      "outputs": []
    },
    {
      "cell_type": "code",
      "metadata": {
        "id": "xgBg8sUlPLsv"
      },
      "source": [
        "S1meanrefA1_1208 = list()\n",
        "S1meanC2_108 = list()\n",
        "for i in range(S1RGB_imgA1C2_8.shape[0]): \n",
        "     for j in range(S1RGB_imgA1C2_8.shape[1]): \n",
        "                if 1769<i<1881 and 2019<j<2131 :\n",
        "                  S1meanrefA1_1208.append(S1RGB_imgA1C2_8[i][j])\n",
        "                if 1770<i<1880 and 2015<j<2145 :\n",
        "                  S1meanC2_108.append(S1RGB_imgA1C2_8[i][j])  \n",
        "S1meanrefA1_1208 = np.array(S1meanrefA1_1208)\n",
        "S1meanC2_108 = np.array(S1meanC2_108)\n",
        "\n",
        "S1rgbrefA1_1208 = list()\n",
        "S1rgbC2_108 = list()\n",
        "for i in range(3):\n",
        "    S1rgbrefA1_1208.append(S1meanrefA1_1208[:,i].mean())\n",
        "    S1rgbC2_108.append(S1meanC2_108[:,i].mean())"
      ],
      "execution_count": null,
      "outputs": []
    },
    {
      "cell_type": "code",
      "metadata": {
        "id": "r82iSNLbPLsv"
      },
      "source": [
        "S1meanrefA1_1308 = list()\n",
        "S1meanC3_108 = list()\n",
        "for i in range(S1RGB_imgA1C3_8.shape[0]): \n",
        "     for j in range(S1RGB_imgA1C3_8.shape[1]): \n",
        "                if 1769<i<1881 and 2019<j<2131 :\n",
        "                  S1meanrefA1_1308.append(S1RGB_imgA1C3_8[i][j])\n",
        "                if 1770<i<1880 and 2015<j<2145 :\n",
        "                  S1meanC3_108.append(S1RGB_imgA1C3_8[i][j])  \n",
        "S1meanrefA1_1308 = np.array(S1meanrefA1_1308)\n",
        "S1meanC3_108 = np.array(S1meanC3_108)\n",
        "\n",
        "S1rgbrefA1_1308 = list()\n",
        "S1rgbC3_108 = list()\n",
        "for i in range(3):\n",
        "    S1rgbrefA1_1308.append(S1meanrefA1_1308[:,i].mean())\n",
        "    S1rgbC3_108.append(S1meanC3_108[:,i].mean())"
      ],
      "execution_count": null,
      "outputs": []
    },
    {
      "cell_type": "code",
      "metadata": {
        "id": "rrk1yZfRPLsw"
      },
      "source": [
        "S1meanrefA1_1408 = list()\n",
        "S1meanC4_108 = list()\n",
        "for i in range(S1RGB_imgA1C4_8.shape[0]): \n",
        "     for j in range(S1RGB_imgA1C4_8.shape[1]): \n",
        "                if 1769<i<1881 and 2019<j<2131 :\n",
        "                  S1meanrefA1_1408.append(S1RGB_imgA1C4_8[i][j])\n",
        "                if 1770<i<1880 and 2015<j<2145 :\n",
        "                  S1meanC4_108.append(S1RGB_imgA1C4_8[i][j])  \n",
        "S1meanrefA1_1408 = np.array(S1meanrefA1_1408)\n",
        "S1meanC4_108 = np.array(S1meanC4_108)\n",
        "\n",
        "S1rgbrefA1_1408 = list()\n",
        "S1rgbC4_108 = list()\n",
        "for i in range(3):\n",
        "    S1rgbrefA1_1408.append(S1meanrefA1_1408[:,i].mean())\n",
        "    S1rgbC4_108.append(S1meanC4_108[:,i].mean())"
      ],
      "execution_count": null,
      "outputs": []
    },
    {
      "cell_type": "code",
      "metadata": {
        "id": "i2Zk_XL8PLsw"
      },
      "source": [
        "S1meanrefA1_1508 = list()\n",
        "S1meanD2_108 = list()\n",
        "for i in range(S1RGB_imgA1D2_8.shape[0]): \n",
        "     for j in range(S1RGB_imgA1D2_8.shape[1]): \n",
        "                if 1769<i<1881 and 2019<j<2131 :\n",
        "                  S1meanrefA1_1508.append(S1RGB_imgA1D2_8[i][j])\n",
        "                if 1770<i<1880 and 2015<j<2145 :\n",
        "                  S1meanD2_108.append(S1RGB_imgA1D2_8[i][j])  \n",
        "S1meanrefA1_1508 = np.array(S1meanrefA1_1508)\n",
        "S1meanD2_108 = np.array(S1meanD2_108)\n",
        "\n",
        "S1rgbrefA1_1508 = list()\n",
        "S1rgbD2_108 = list()\n",
        "for i in range(3):\n",
        "    S1rgbrefA1_1508.append(S1meanrefA1_1508[:,i].mean())\n",
        "    S1rgbD2_108.append(S1meanD2_108[:,i].mean())"
      ],
      "execution_count": null,
      "outputs": []
    },
    {
      "cell_type": "code",
      "metadata": {
        "id": "yIxsSnPJPLsw"
      },
      "source": [
        "S1meanrefA1_1608 = list()\n",
        "S1meanD3_108 = list()\n",
        "for i in range(S1RGB_imgA1D3_8.shape[0]): \n",
        "     for j in range(S1RGB_imgA1D3_8.shape[1]): \n",
        "                if 1769<i<1881 and 2019<j<2131 :\n",
        "                  S1meanrefA1_1608.append(S1RGB_imgA1D3_8[i][j])\n",
        "                if 1770<i<1880 and 2015<j<2145 :\n",
        "                  S1meanD3_108.append(S1RGB_imgA1D3_8[i][j])  \n",
        "S1meanrefA1_1608 = np.array(S1meanrefA1_1608)\n",
        "S1meanD3_108 = np.array(S1meanD3_108)\n",
        "\n",
        "S1rgbrefA1_1608 = list()\n",
        "S1rgbD3_108 = list()\n",
        "for i in range(3):\n",
        "    S1rgbrefA1_1608.append(S1meanrefA1_1608[:,i].mean())\n",
        "    S1rgbD3_108.append(S1meanD3_108[:,i].mean())"
      ],
      "execution_count": null,
      "outputs": []
    },
    {
      "cell_type": "code",
      "metadata": {
        "id": "3LD4SE3IPLsw"
      },
      "source": [
        "S1meanrefA1_1708= list()\n",
        "S1meanD4_108 = list()\n",
        "for i in range(S1RGB_imgA1D4_8.shape[0]): \n",
        "     for j in range(S1RGB_imgA1D4_8.shape[1]): \n",
        "                if 1769<i<1881 and 2019<j<2131 :\n",
        "                  S1meanrefA1_1708.append(S1RGB_imgA1D4_8[i][j])\n",
        "                if 1770<i<1880 and 2015<j<2145 :\n",
        "                  S1meanD4_108.append(S1RGB_imgA1D4_8[i][j])  \n",
        "S1meanrefA1_1708 = np.array(S1meanrefA1_1408)\n",
        "S1meanD4_108 = np.array(S1meanD4_108)\n",
        "\n",
        "S1rgbrefA1_1708 = list()\n",
        "S1rgbD4_108 = list()\n",
        "for i in range(3):\n",
        "    S1rgbrefA1_1708.append(S1meanrefA1_1708[:,i].mean())\n",
        "    S1rgbD4_108.append(S1meanD4_108[:,i].mean())"
      ],
      "execution_count": null,
      "outputs": []
    },
    {
      "cell_type": "markdown",
      "metadata": {
        "id": "kfRIm2_P-XCX"
      },
      "source": [
        "###Img 9"
      ]
    },
    {
      "cell_type": "code",
      "metadata": {
        "id": "WIWxXgaRPM6L"
      },
      "source": [
        "S1meanrefA1_109 = list()\n",
        "S1meanA1_209 = list()\n",
        "for i in range(S1RGB_imgA1A1_9.shape[0]): #ให้ i รันตาม row หรือ shape[0] คือแถว มีทั้งหมด 4032 แถว ของภาพที่ปรับขนาดมาแล้ว\n",
        "     for j in range(S1RGB_imgA1A1_9.shape[1]): #ให้ j รันตาม colum มีทั้งหมด 3024 colum เช่น แถวที่ 1 เข้ามาให้รันครบ 3024colum\n",
        "                if 1769<i<1881 and 2019<j<2131 :\n",
        "                  S1meanrefA1_109.append(S1RGB_imgA1A1_9[i][j])\n",
        "                if 1770<i<1880 and 2015<j<2145 :\n",
        "                  S1meanA1_209.append(S1RGB_imgA1A1_9[i][j])  \n",
        "S1meanrefA1_109 = np.array(S1meanrefA1_109)\n",
        "S1meanA1_209 = np.array(S1meanA1_209)\n",
        "\n",
        "S1rgbrefA1_109 = list()\n",
        "S1rgbA1_209 = list()\n",
        "for i in range(3):\n",
        "    S1rgbrefA1_109.append(S1meanrefA1_109[:,i].mean())\n",
        "    S1rgbA1_209.append(S1meanA1_209[:,i].mean())\n",
        "S1rgbrefA1_109,S1rgbA1_209 "
      ],
      "execution_count": null,
      "outputs": []
    },
    {
      "cell_type": "code",
      "metadata": {
        "id": "XU6vAH6CPM6M"
      },
      "source": [
        "S1meanrefA1_309 = list()\n",
        "S1meanA2_109 = list()\n",
        "for i in range(S1RGB_imgA1A2_9.shape[0]): \n",
        "     for j in range(S1RGB_imgA1A2_9.shape[1]): \n",
        "                if 1769<i<1881 and 2019<j<2131 :\n",
        "                  S1meanrefA1_309.append(S1RGB_imgA1A2_9[i][j])\n",
        "                if 1770<i<1880 and 2015<j<2145 :\n",
        "                  S1meanA2_109.append(S1RGB_imgA1A2_9[i][j])  \n",
        "S1meanrefA1_309 = np.array(S1meanrefA1_309)\n",
        "S1meanA2_109 = np.array(S1meanA2_109)\n",
        "\n",
        "S1rgbrefA1_309 = list()\n",
        "S1rgbA2_109 = list()\n",
        "for i in range(3):\n",
        "    S1rgbrefA1_309.append(S1meanrefA1_309[:,i].mean())\n",
        "    S1rgbA2_109.append(S1meanA2_109[:,i].mean())"
      ],
      "execution_count": null,
      "outputs": []
    },
    {
      "cell_type": "code",
      "metadata": {
        "id": "xIJ2URFwPM6M"
      },
      "source": [
        "S1meanrefA1_409 = list()\n",
        "S1meanA3_109 = list()\n",
        "for i in range(S1RGB_imgA1A3_9.shape[0]): \n",
        "     for j in range(S1RGB_imgA1A3_9.shape[1]): \n",
        "                if 1769<i<1881 and 2019<j<2131 :\n",
        "                  S1meanrefA1_409.append(S1RGB_imgA1A3_9[i][j])\n",
        "                if 1770<i<1880 and 2015<j<2145 :\n",
        "                  S1meanA3_109.append(S1RGB_imgA1A3_9[i][j])  \n",
        "S1meanrefA1_409 = np.array(S1meanrefA1_409)\n",
        "S1meanA3_109 = np.array(S1meanA3_109)\n",
        "\n",
        "S1rgbrefA1_409 = list()\n",
        "S1rgbA3_109 = list()\n",
        "for i in range(3):\n",
        "    S1rgbrefA1_409.append(S1meanrefA1_409[:,i].mean())\n",
        "    S1rgbA3_109.append(S1meanA3_109[:,i].mean())"
      ],
      "execution_count": null,
      "outputs": []
    },
    {
      "cell_type": "code",
      "metadata": {
        "id": "5KGi1-DZPM6N"
      },
      "source": [
        "S1meanrefA1_509 = list()\n",
        "S1meanA3_5109 = list()\n",
        "for i in range(S1RGB_imgA1A3_59.shape[0]): \n",
        "     for j in range(S1RGB_imgA1A3_59.shape[1]): \n",
        "                if 1769<i<1881 and 2019<j<2131 :\n",
        "                  S1meanrefA1_509.append(S1RGB_imgA1A3_59[i][j])\n",
        "                if 1770<i<1880 and 2015<j<2145 :\n",
        "                  S1meanA3_5109.append(S1RGB_imgA1A3_59[i][j])  \n",
        "S1meanrefA1_509 = np.array(S1meanrefA1_509)\n",
        "S1meanA3_5109 = np.array(S1meanA3_5109)\n",
        "\n",
        "S1rgbrefA1_509 = list()\n",
        "S1rgbA3_5109 = list()\n",
        "for i in range(3):\n",
        "    S1rgbrefA1_509.append(S1meanrefA1_509[:,i].mean())\n",
        "    S1rgbA3_5109.append(S1meanA3_5109[:,i].mean())"
      ],
      "execution_count": null,
      "outputs": []
    },
    {
      "cell_type": "code",
      "metadata": {
        "id": "qmcXK_LOPM6N"
      },
      "source": [
        "S1meanrefA1_609 = list()\n",
        "S1meanA4_109 = list()\n",
        "for i in range(S1RGB_imgA1A4_9.shape[0]): \n",
        "     for j in range(S1RGB_imgA1A4_9.shape[1]): \n",
        "                if 1769<i<1881 and 2019<j<2131 :\n",
        "                  S1meanrefA1_609.append(S1RGB_imgA1A4_9[i][j])\n",
        "                if 1770<i<1880 and 2015<j<2145 :\n",
        "                  S1meanA4_109.append(S1RGB_imgA1A4_9[i][j])  \n",
        "S1meanrefA1_609 = np.array(S1meanrefA1_609)\n",
        "S1meanA4_109 = np.array(S1meanA4_109)\n",
        "\n",
        "S1rgbrefA1_609 = list()\n",
        "S1rgbA4_109 = list()\n",
        "for i in range(3):\n",
        "    S1rgbrefA1_609.append(S1meanrefA1_609[:,i].mean())\n",
        "    S1rgbA4_109.append(S1meanA4_109[:,i].mean())"
      ],
      "execution_count": null,
      "outputs": []
    },
    {
      "cell_type": "code",
      "metadata": {
        "id": "K4x8HUa_PM6O"
      },
      "source": [
        "S1meanrefA1_709 = list()\n",
        "S1meanB1_109 = list()\n",
        "for i in range(S1RGB_imgA1B1_9.shape[0]): \n",
        "     for j in range(S1RGB_imgA1B1_9.shape[1]): \n",
        "                if 1769<i<1881 and 2019<j<2131 :\n",
        "                  S1meanrefA1_709.append(S1RGB_imgA1B1_9[i][j])\n",
        "                if 1770<i<1880 and 2015<j<2145 :\n",
        "                  S1meanB1_109.append(S1RGB_imgA1B1_9[i][j])  \n",
        "S1meanrefA1_709 = np.array(S1meanrefA1_709)\n",
        "S1meanB1_109 = np.array(S1meanB1_109)\n",
        "\n",
        "S1rgbrefA1_709 = list()\n",
        "S1rgbB1_109 = list()\n",
        "for i in range(3):\n",
        "    S1rgbrefA1_709.append(S1meanrefA1_709[:,i].mean())\n",
        "    S1rgbB1_109.append(S1meanB1_109[:,i].mean())"
      ],
      "execution_count": null,
      "outputs": []
    },
    {
      "cell_type": "code",
      "metadata": {
        "id": "5g_ueKdaPM6O"
      },
      "source": [
        "S1meanrefA1_809 = list()\n",
        "S1meanB2_109 = list()\n",
        "for i in range(S1RGB_imgA1B2_9.shape[0]): \n",
        "     for j in range(S1RGB_imgA1B2_9.shape[1]): \n",
        "                if 1769<i<1881 and 2019<j<2131 :\n",
        "                  S1meanrefA1_809.append(S1RGB_imgA1B2_9[i][j])\n",
        "                if 1770<i<1880 and 2015<j<2145 :\n",
        "                  S1meanB2_109.append(S1RGB_imgA1B2_9[i][j])  \n",
        "S1meanrefA1_809 = np.array(S1meanrefA1_809)\n",
        "S1meanB2_109 = np.array(S1meanB2_109)\n",
        "\n",
        "S1rgbrefA1_809 = list()\n",
        "S1rgbB2_109 = list()\n",
        "for i in range(3):\n",
        "    S1rgbrefA1_809.append(S1meanrefA1_809[:,i].mean())\n",
        "    S1rgbB2_109.append(S1meanB2_109[:,i].mean())"
      ],
      "execution_count": null,
      "outputs": []
    },
    {
      "cell_type": "code",
      "metadata": {
        "id": "WltyViE4PM6P"
      },
      "source": [
        "S1meanrefA1_909 = list()\n",
        "S1meanB3_109 = list()\n",
        "for i in range(S1RGB_imgA1B3_9.shape[0]): \n",
        "     for j in range(S1RGB_imgA1B3_9.shape[1]): \n",
        "                if 1769<i<1881 and 2019<j<2131 :\n",
        "                  S1meanrefA1_909.append(S1RGB_imgA1B3_9[i][j])\n",
        "                if 1770<i<1880 and 2015<j<2145 :\n",
        "                  S1meanB3_109.append(S1RGB_imgA1B3_9[i][j])  \n",
        "S1meanrefA1_909 = np.array(S1meanrefA1_909)\n",
        "S1meanB3_109 = np.array(S1meanB3_109)\n",
        "\n",
        "S1rgbrefA1_909 = list()\n",
        "S1rgbB3_109 = list()\n",
        "for i in range(3):\n",
        "    S1rgbrefA1_909.append(S1meanrefA1_909[:,i].mean())\n",
        "    S1rgbB3_109.append(S1meanB3_109[:,i].mean())"
      ],
      "execution_count": null,
      "outputs": []
    },
    {
      "cell_type": "code",
      "metadata": {
        "id": "2SjOpKBtPM6P"
      },
      "source": [
        "S1meanrefA1_1009 = list()\n",
        "S1meanB4_109 = list()\n",
        "for i in range(S1RGB_imgA1B4_9.shape[0]): \n",
        "     for j in range(S1RGB_imgA1B4_9.shape[1]): \n",
        "                if 1769<i<1881 and 2019<j<2131 :\n",
        "                  S1meanrefA1_1009.append(S1RGB_imgA1B4_9[i][j])\n",
        "                if 1770<i<1880 and 2015<j<2145 :\n",
        "                  S1meanB4_109.append(S1RGB_imgA1B4_9[i][j])  \n",
        "S1meanrefA1_1009 = np.array(S1meanrefA1_1009)\n",
        "S1meanB4_109 = np.array(S1meanB4_109)\n",
        "\n",
        "S1rgbrefA1_1009 = list()\n",
        "S1rgbB4_109 = list()\n",
        "for i in range(3):\n",
        "    S1rgbrefA1_1009.append(S1meanrefA1_1009[:,i].mean())\n",
        "    S1rgbB4_109.append(S1meanB4_109[:,i].mean())"
      ],
      "execution_count": null,
      "outputs": []
    },
    {
      "cell_type": "code",
      "metadata": {
        "id": "l1hSuuSTPM6P"
      },
      "source": [
        "S1meanrefA1_1109 = list()\n",
        "S1meanC1_109 = list()\n",
        "for i in range(S1RGB_imgA1C1_9.shape[0]): \n",
        "     for j in range(S1RGB_imgA1C1_9.shape[1]): \n",
        "                if 1769<i<1881 and 2019<j<2131 :\n",
        "                  S1meanrefA1_1109.append(S1RGB_imgA1C1_9[i][j])\n",
        "                if 1770<i<1880 and 2015<j<2145 :\n",
        "                  S1meanC1_109.append(S1RGB_imgA1C1_9[i][j])  \n",
        "S1meanrefA1_1109 = np.array(S1meanrefA1_1109)\n",
        "S1meanC1_109 = np.array(S1meanC1_109)\n",
        "\n",
        "S1rgbrefA1_1109 = list()\n",
        "S1rgbC1_109 = list()\n",
        "for i in range(3):\n",
        "    S1rgbrefA1_1109.append(S1meanrefA1_1109[:,i].mean())\n",
        "    S1rgbC1_109.append(S1meanC1_109[:,i].mean())"
      ],
      "execution_count": null,
      "outputs": []
    },
    {
      "cell_type": "code",
      "metadata": {
        "id": "cgSevTd1PM6Q"
      },
      "source": [
        "S1meanrefA1_1209 = list()\n",
        "S1meanC2_109 = list()\n",
        "for i in range(S1RGB_imgA1C2_9.shape[0]): \n",
        "     for j in range(S1RGB_imgA1C2_9.shape[1]): \n",
        "                if 1769<i<1881 and 2019<j<2131 :\n",
        "                  S1meanrefA1_1209.append(S1RGB_imgA1C2_9[i][j])\n",
        "                if 1770<i<1880 and 2015<j<2145 :\n",
        "                  S1meanC2_109.append(S1RGB_imgA1C2_9[i][j])  \n",
        "S1meanrefA1_1209 = np.array(S1meanrefA1_1209)\n",
        "S1meanC2_109 = np.array(S1meanC2_109)\n",
        "\n",
        "S1rgbrefA1_1209 = list()\n",
        "S1rgbC2_109 = list()\n",
        "for i in range(3):\n",
        "    S1rgbrefA1_1209.append(S1meanrefA1_1209[:,i].mean())\n",
        "    S1rgbC2_109.append(S1meanC2_109[:,i].mean())"
      ],
      "execution_count": null,
      "outputs": []
    },
    {
      "cell_type": "code",
      "metadata": {
        "id": "gWeI3a_QPM6Q"
      },
      "source": [
        "S1meanrefA1_13 = list()\n",
        "S1meanC3_1 = list()\n",
        "for i in range(S1RGB_imgA1C3_9.shape[0]): \n",
        "     for j in range(S1RGB_imgA1C3_9.shape[1]): \n",
        "                if 1769<i<1881 and 2019<j<2131 :\n",
        "                  S1meanrefA1_13.append(S1RGB_imgA1C3_9[i][j])\n",
        "                if 1770<i<1880 and 2015<j<2145 :\n",
        "                  S1meanC3_1.append(S1RGB_imgA1C3_9[i][j])  \n",
        "S1meanrefA1_13 = np.array(S1meanrefA1_13)\n",
        "S1meanC3_1 = np.array(S1meanC3_1)\n",
        "\n",
        "S1rgbrefA1_13 = list()\n",
        "S1rgbC3_1 = list()\n",
        "for i in range(3):\n",
        "    S1rgbrefA1_13.append(S1meanrefA1_13[:,i].mean())\n",
        "    S1rgbC3_1.append(S1meanC3_1[:,i].mean())"
      ],
      "execution_count": null,
      "outputs": []
    },
    {
      "cell_type": "code",
      "metadata": {
        "id": "C7_11BJDPM6Q"
      },
      "source": [
        "S1meanrefA1_1409 = list()\n",
        "S1meanC4_109 = list()\n",
        "for i in range(S1RGB_imgA1C4_9.shape[0]): \n",
        "     for j in range(S1RGB_imgA1C4_9.shape[1]): \n",
        "                if 1769<i<1881 and 2019<j<2131 :\n",
        "                  S1meanrefA1_1409.append(S1RGB_imgA1C4_9[i][j])\n",
        "                if 1770<i<1880 and 2015<j<2145 :\n",
        "                  S1meanC4_109.append(S1RGB_imgA1C4_9[i][j])  \n",
        "S1meanrefA1_1409 = np.array(S1meanrefA1_1409)\n",
        "S1meanC4_109 = np.array(S1meanC4_109)\n",
        "\n",
        "S1rgbrefA1_1409 = list()\n",
        "S1rgbC4_109 = list()\n",
        "for i in range(3):\n",
        "    S1rgbrefA1_1409.append(S1meanrefA1_1409[:,i].mean())\n",
        "    S1rgbC4_109.append(S1meanC4_109[:,i].mean())"
      ],
      "execution_count": null,
      "outputs": []
    },
    {
      "cell_type": "code",
      "metadata": {
        "id": "ZR7QeQaBPM6R"
      },
      "source": [
        "S1meanrefA1_1509 = list()\n",
        "S1meanD2_109 = list()\n",
        "for i in range(S1RGB_imgA1D2_9.shape[0]): \n",
        "     for j in range(S1RGB_imgA1D2_9.shape[1]): \n",
        "                if 1769<i<1881 and 2019<j<2131 :\n",
        "                  S1meanrefA1_1509.append(S1RGB_imgA1D2_9[i][j])\n",
        "                if 1770<i<1880 and 2015<j<2145 :\n",
        "                  S1meanD2_109.append(S1RGB_imgA1D2_9[i][j])  \n",
        "S1meanrefA1_1509 = np.array(S1meanrefA1_1509)\n",
        "S1meanD2_109 = np.array(S1meanD2_109)\n",
        "\n",
        "S1rgbrefA1_1509 = list()\n",
        "S1rgbD2_109 = list()\n",
        "for i in range(3):\n",
        "    S1rgbrefA1_1509.append(S1meanrefA1_1509[:,i].mean())\n",
        "    S1rgbD2_109.append(S1meanD2_109[:,i].mean())"
      ],
      "execution_count": null,
      "outputs": []
    },
    {
      "cell_type": "code",
      "metadata": {
        "id": "eXn1pA_7PM6R"
      },
      "source": [
        "S1meanrefA1_1609 = list()\n",
        "S1meanD3_109 = list()\n",
        "for i in range(S1RGB_imgA1D3_9.shape[0]): \n",
        "     for j in range(S1RGB_imgA1D3_9.shape[1]): \n",
        "                if 1769<i<1881 and 2019<j<2131 :\n",
        "                  S1meanrefA1_1609.append(S1RGB_imgA1D3_9[i][j])\n",
        "                if 1770<i<1880 and 2015<j<2145 :\n",
        "                  S1meanD3_109.append(S1RGB_imgA1D3_9[i][j])  \n",
        "S1meanrefA1_1609 = np.array(S1meanrefA1_1609)\n",
        "S1meanD3_109 = np.array(S1meanD3_109)\n",
        "\n",
        "S1rgbrefA1_1609 = list()\n",
        "S1rgbD3_109 = list()\n",
        "for i in range(3):\n",
        "    S1rgbrefA1_1609.append(S1meanrefA1_1609[:,i].mean())\n",
        "    S1rgbD3_109.append(S1meanD3_109[:,i].mean())"
      ],
      "execution_count": null,
      "outputs": []
    },
    {
      "cell_type": "code",
      "metadata": {
        "id": "h4q2u4cGPM6R"
      },
      "source": [
        "S1meanrefA1_1709= list()\n",
        "S1meanD4_109 = list()\n",
        "for i in range(S1RGB_imgA1D4_9.shape[0]): \n",
        "     for j in range(S1RGB_imgA1D4_9.shape[1]): \n",
        "                if 1769<i<1881 and 2019<j<2131 :\n",
        "                  S1meanrefA1_1709.append(S1RGB_imgA1D4_9[i][j])\n",
        "                if 1770<i<1880 and 2015<j<2145 :\n",
        "                  S1meanD4_109.append(S1RGB_imgA1D4_9[i][j])  \n",
        "S1meanrefA1_1709 = np.array(S1meanrefA1_1409)\n",
        "S1meanD4_109 = np.array(S1meanD4_109)\n",
        "\n",
        "S1rgbrefA1_1709 = list()\n",
        "S1rgbD4_109 = list()\n",
        "for i in range(3):\n",
        "    S1rgbrefA1_1709.append(S1meanrefA1_1709[:,i].mean())\n",
        "    S1rgbD4_109.append(S1meanD4_109[:,i].mean())"
      ],
      "execution_count": null,
      "outputs": []
    },
    {
      "cell_type": "markdown",
      "metadata": {
        "id": "ZKw6j_3q-XCY"
      },
      "source": [
        "###Img 10"
      ]
    },
    {
      "cell_type": "code",
      "metadata": {
        "id": "vPcIe_TLPOFP"
      },
      "source": [
        "S1meanrefA1_110 = list()\n",
        "S1meanA1_210 = list()\n",
        "for i in range(S1RGB_imgA1A1_10.shape[0]): #ให้ i รันตาม row หรือ shape[0] คือแถว มีทั้งหมด 4032 แถว ของภาพที่ปรับขนาดมาแล้ว\n",
        "     for j in range(S1RGB_imgA1A1_10.shape[1]): #ให้ j รันตาม colum มีทั้งหมด 3024 colum เช่น แถวที่ 1 เข้ามาให้รันครบ 3024colum\n",
        "                if 1769<i<1881 and 2019<j<2131 :\n",
        "                  S1meanrefA1_110.append(S1RGB_imgA1A1_10[i][j])\n",
        "                if 1770<i<1880 and 2015<j<2145 :\n",
        "                  S1meanA1_210.append(S1RGB_imgA1A1_10[i][j])  \n",
        "S1meanrefA1_110 = np.array(S1meanrefA1_110)\n",
        "S1meanA1_210 = np.array(S1meanA1_210)\n",
        "\n",
        "S1rgbrefA1_110 = list()\n",
        "S1rgbA1_210 = list()\n",
        "for i in range(3):\n",
        "    S1rgbrefA1_110.append(S1meanrefA1_110[:,i].mean())\n",
        "    S1rgbA1_210.append(S1meanA1_210[:,i].mean())\n",
        "S1rgbrefA1_110,S1rgbA1_210 "
      ],
      "execution_count": null,
      "outputs": []
    },
    {
      "cell_type": "code",
      "metadata": {
        "id": "EZTjF_Z2POFQ"
      },
      "source": [
        "S1meanrefA1_310 = list()\n",
        "S1meanA2_110 = list()\n",
        "for i in range(S1RGB_imgA1A2_10.shape[0]): \n",
        "     for j in range(S1RGB_imgA1A2_10.shape[1]): \n",
        "                if 1769<i<1881 and 2019<j<2131 :\n",
        "                  S1meanrefA1_310.append(S1RGB_imgA1A2_10[i][j])\n",
        "                if 1770<i<1880 and 2015<j<2145 :\n",
        "                  S1meanA2_110.append(S1RGB_imgA1A2_10[i][j])  \n",
        "S1meanrefA1_310 = np.array(S1meanrefA1_310)\n",
        "S1meanA2_110 = np.array(S1meanA2_110)\n",
        "\n",
        "S1rgbrefA1_310 = list()\n",
        "S1rgbA2_110 = list()\n",
        "for i in range(3):\n",
        "    S1rgbrefA1_310.append(S1meanrefA1_310[:,i].mean())\n",
        "    S1rgbA2_110.append(S1meanA2_110[:,i].mean())"
      ],
      "execution_count": null,
      "outputs": []
    },
    {
      "cell_type": "code",
      "metadata": {
        "id": "Mm7ru--lPOFR"
      },
      "source": [
        "S1meanrefA1_410 = list()\n",
        "S1meanA3_110 = list()\n",
        "for i in range(S1RGB_imgA1A3_10.shape[0]): \n",
        "     for j in range(S1RGB_imgA1A3_10.shape[1]): \n",
        "                if 1769<i<1881 and 2019<j<2131 :\n",
        "                  S1meanrefA1_410.append(S1RGB_imgA1A3_10[i][j])\n",
        "                if 1770<i<1880 and 2015<j<2145 :\n",
        "                  S1meanA3_110.append(S1RGB_imgA1A3_10[i][j])  \n",
        "S1meanrefA1_410 = np.array(S1meanrefA1_410)\n",
        "S1meanA3_110 = np.array(S1meanA3_110)\n",
        "\n",
        "S1rgbrefA1_410 = list()\n",
        "S1rgbA3_110 = list()\n",
        "for i in range(3):\n",
        "    S1rgbrefA1_410.append(S1meanrefA1_410[:,i].mean())\n",
        "    S1rgbA3_110.append(S1meanA3_110[:,i].mean())"
      ],
      "execution_count": null,
      "outputs": []
    },
    {
      "cell_type": "code",
      "metadata": {
        "id": "ry52HMKCPOFR"
      },
      "source": [
        "S1meanrefA1_510 = list()\n",
        "S1meanA3_5110 = list()\n",
        "for i in range(S1RGB_imgA1A3_510.shape[0]): \n",
        "     for j in range(S1RGB_imgA1A3_510.shape[1]): \n",
        "                if 1769<i<1881 and 2019<j<2131 :\n",
        "                  S1meanrefA1_510.append(S1RGB_imgA1A3_510[i][j])\n",
        "                if 1770<i<1880 and 2015<j<2145 :\n",
        "                  S1meanA3_5110.append(S1RGB_imgA1A3_510[i][j])  \n",
        "S1meanrefA1_510 = np.array(S1meanrefA1_510)\n",
        "S1meanA3_5110 = np.array(S1meanA3_5110)\n",
        "\n",
        "S1rgbrefA1_510 = list()\n",
        "S1rgbA3_5110 = list()\n",
        "for i in range(3):\n",
        "    S1rgbrefA1_510.append(S1meanrefA1_51010[:,i].mean())\n",
        "    S1rgbA3_5110.append(S1meanA3_511010[:,i].mean())"
      ],
      "execution_count": null,
      "outputs": []
    },
    {
      "cell_type": "code",
      "metadata": {
        "id": "KQ_K6jbvPOFS"
      },
      "source": [
        "S1meanrefA1_610 = list()\n",
        "S1meanA4_110 = list()\n",
        "for i in range(S1RGB_imgA1A4_10.shape[0]): \n",
        "     for j in range(S1RGB_imgA1A4_10.shape[1]): \n",
        "                if 1769<i<1881 and 2019<j<2131 :\n",
        "                  S1meanrefA1_610.append(S1RGB_imgA1A4_10[i][j])\n",
        "                if 1770<i<1880 and 2015<j<2145 :\n",
        "                  S1meanA4_110.append(S1RGB_imgA1A4_10[i][j])  \n",
        "S1meanrefA1_610 = np.array(S1meanrefA1_610)\n",
        "S1meanA4_110 = np.array(S1meanA4_110)\n",
        "\n",
        "S1rgbrefA1_610 = list()\n",
        "S1rgbA4_110 = list()\n",
        "for i in range(3):\n",
        "    S1rgbrefA1_610.append(S1meanrefA1_610[:,i].mean())\n",
        "    S1rgbA4_110.append(S1meanA4_110[:,i].mean())"
      ],
      "execution_count": null,
      "outputs": []
    },
    {
      "cell_type": "code",
      "metadata": {
        "id": "aeEIvo7VPOFT"
      },
      "source": [
        "S1meanrefA1_710 = list()\n",
        "S1meanB1_110 = list()\n",
        "for i in range(S1RGB_imgA1B1_10 .shape[0]): \n",
        "     for j in range(S1RGB_imgA1B1_10 .shape[1]): \n",
        "                if 1769<i<1881 and 2019<j<2131 :\n",
        "                  S1meanrefA1_710.append(S1RGB_imgA1B1_10[i][j])\n",
        "                if 1770<i<1880 and 2015<j<2145 :\n",
        "                  S1meanB1_110.append(S1RGB_imgA1B1_10 [i][j])  \n",
        "S1meanrefA1_710 = np.array(S1meanrefA1_710)\n",
        "S1meanB1_110 = np.array(S1meanB1_110)\n",
        "\n",
        "S1rgbrefA1_710 = list()\n",
        "S1rgbB1_110 = list()\n",
        "for i in range(3):\n",
        "    S1rgbrefA1_710.append(S1meanrefA1_710[:,i].mean())\n",
        "    S1rgbB1_110.append(S1meanB1_110[:,i].mean())"
      ],
      "execution_count": null,
      "outputs": []
    },
    {
      "cell_type": "code",
      "metadata": {
        "id": "h3oRLogxPOFT"
      },
      "source": [
        "S1meanrefA1_810 = list()\n",
        "S1meanB2_110 = list()\n",
        "for i in range(S1RGB_imgA1B2_10 .shape[0]): \n",
        "     for j in range(S1RGB_imgA1B2_10.shape[1]): \n",
        "                if 1769<i<1881 and 2019<j<2131 :\n",
        "                  S1meanrefA1_810.append(S1RGB_imgA1B2_10[i][j])\n",
        "                if 1770<i<1880 and 2015<j<2145 :\n",
        "                  S1meanB2_110.append(S1RGB_imgA1B2_10[i][j])  \n",
        "S1meanrefA1_810 = np.array(S1meanrefA1_810)\n",
        "S1meanB2_110 = np.array(S1meanB2_110)\n",
        "\n",
        "S1rgbrefA1_810 = list()\n",
        "S1rgbB2_110 = list()\n",
        "for i in range(3):\n",
        "    S1rgbrefA1_810.append(S1meanrefA1_810[:,i].mean())\n",
        "    S1rgbB2_110.append(S1meanB2_110[:,i].mean())"
      ],
      "execution_count": null,
      "outputs": []
    },
    {
      "cell_type": "code",
      "metadata": {
        "id": "9ATP1hluPOFT"
      },
      "source": [
        "S1meanrefA1_910 = list()\n",
        "S1meanB3_110 = list()\n",
        "for i in range(S1RGB_imgA1B3_10.shape[0]): \n",
        "     for j in range(S1RGB_imgA1B3_10.shape[1]): \n",
        "                if 1769<i<1881 and 2019<j<2131 :\n",
        "                  S1meanrefA1_910.append(S1RGB_imgA1B3_10[i][j])\n",
        "                if 1770<i<1880 and 2015<j<2145 :\n",
        "                  S1meanB3_110.append(S1RGB_imgA1B3_10[i][j])  \n",
        "S1meanrefA1_910 = np.array(S1meanrefA1_910)\n",
        "S1meanB3_110 = np.array(S1meanB3_110)\n",
        "\n",
        "S1rgbrefA1_910 = list()\n",
        "S1rgbB3_110 = list()\n",
        "for i in range(3):\n",
        "    S1rgbrefA1_910.append(S1meanrefA1_910[:,i].mean())\n",
        "    S1rgbB3_110.append(S1meanB3_110[:,i].mean())"
      ],
      "execution_count": null,
      "outputs": []
    },
    {
      "cell_type": "code",
      "metadata": {
        "id": "xCzlL1kOPOFU"
      },
      "source": [
        "S1meanrefA1_1010 = list()\n",
        "S1meanB4_110 = list()\n",
        "for i in range(S1RGB_imgA1B4_10.shape[0]): \n",
        "     for j in range(S1RGB_imgA1B4_10.shape[1]): \n",
        "                if 1769<i<1881 and 2019<j<2131 :\n",
        "                  S1meanrefA1_1010.append(S1RGB_imgA1B4_10[i][j])\n",
        "                if 1770<i<1880 and 2015<j<2145 :\n",
        "                  S1meanB4_110.append(S1RGB_imgA1B4_10[i][j])  \n",
        "S1meanrefA1_1010 = np.array(S1meanrefA1_1010)\n",
        "S1meanB4_110 = np.array(S1meanB4_110)\n",
        "\n",
        "S1rgbrefA1_1010 = list()\n",
        "S1rgbB4_110 = list()\n",
        "for i in range(3):\n",
        "    S1rgbrefA1_1010.append(S1meanrefA1_1010[:,i].mean())\n",
        "    S1rgbB4_110.append(S1meanB4_110[:,i].mean())"
      ],
      "execution_count": null,
      "outputs": []
    },
    {
      "cell_type": "code",
      "metadata": {
        "id": "bYOPTQX7POFU"
      },
      "source": [
        "S1meanrefA1_1110 = list()\n",
        "S1meanC1_110 = list()\n",
        "for i in range(S1RGB_imgA1C1_10.shape[0]): \n",
        "     for j in range(S1RGB_imgA1C1_10.shape[1]): \n",
        "                if 1769<i<1881 and 2019<j<2131 :\n",
        "                  S1meanrefA1_1110.append(S1RGB_imgA1C1_10[i][j])\n",
        "                if 1770<i<1880 and 2015<j<2145 :\n",
        "                  S1meanC1_110.append(S1RGB_imgA1C1_10[i][j])  \n",
        "S1meanrefA1_1110 = np.array(S1meanrefA1_1110)\n",
        "S1meanC1_110 = np.array(S1meanC1_110)\n",
        "\n",
        "S1rgbrefA1_1110 = list()\n",
        "S1rgbC1_110 = list()\n",
        "for i in range(3):\n",
        "    S1rgbrefA1_1110.append(S1meanrefA1_1110[:,i].mean())\n",
        "    S1rgbC1_110.append(S1meanC1_110[:,i].mean())"
      ],
      "execution_count": null,
      "outputs": []
    },
    {
      "cell_type": "code",
      "metadata": {
        "id": "Mest6nvGPOFV"
      },
      "source": [
        "S1meanrefA1_1210 = list()\n",
        "S1meanC2_110 = list()\n",
        "for i in range(S1RGB_imgA1C2_10.shape[0]): \n",
        "     for j in range(S1RGB_imgA1C2_10.shape[1]): \n",
        "                if 1769<i<1881 and 2019<j<2131 :\n",
        "                  S1meanrefA1_1210.append(S1RGB_imgA1C2_10[i][j])\n",
        "                if 1770<i<1880 and 2015<j<2145 :\n",
        "                  S1meanC2_110.append(S1RGB_imgA1C2_10[i][j])  \n",
        "S1meanrefA1_1210 = np.array(S1meanrefA1_1210)\n",
        "S1meanC2_110 = np.array(S1meanC2_110)\n",
        "\n",
        "S1rgbrefA1_1210 = list()\n",
        "S1rgbC2_110 = list()\n",
        "for i in range(3):\n",
        "    S1rgbrefA1_1210.append(S1meanrefA1_1210[:,i].mean())\n",
        "    S1rgbC2_110.append(S1meanC2_110[:,i].mean())"
      ],
      "execution_count": null,
      "outputs": []
    },
    {
      "cell_type": "code",
      "metadata": {
        "id": "jJBcdeA2POFV"
      },
      "source": [
        "S1meanrefA1_1310 = list()\n",
        "S1meanC3_110 = list()\n",
        "for i in range(S1RGB_imgA1C3_10.shape[0]): \n",
        "     for j in range(S1RGB_imgA1C3_10.shape[1]): \n",
        "                if 1769<i<1881 and 2019<j<2131 :\n",
        "                  S1meanrefA1_1310.append(S1RGB_imgA1C3_10[i][j])\n",
        "                if 1770<i<1880 and 2015<j<2145 :\n",
        "                  S1meanC3_110.append(S1RGB_imgA1C3_10[i][j])  \n",
        "S1meanrefA1_1310 = np.array(S1meanrefA1_1310)\n",
        "S1meanC3_110 = np.array(S1meanC3_110)\n",
        "\n",
        "S1rgbrefA1_1310 = list()\n",
        "S1rgbC3_110 = list()\n",
        "for i in range(3):\n",
        "    S1rgbrefA1_1310.append(S1meanrefA1_1310[:,i].mean())\n",
        "    S1rgbC3_110.append(S1meanC3_110[:,i].mean())"
      ],
      "execution_count": null,
      "outputs": []
    },
    {
      "cell_type": "code",
      "metadata": {
        "id": "FOK4AXCMPOFW"
      },
      "source": [
        "S1meanrefA1_1410 = list()\n",
        "S1meanC4_110 = list()\n",
        "for i in range(S1RGB_imgA1C4_10.shape[0]): \n",
        "     for j in range(S1RGB_imgA1C4_10.shape[1]): \n",
        "                if 1769<i<1881 and 2019<j<2131 :\n",
        "                  S1meanrefA1_1410.append(S1RGB_imgA1C4_10[i][j])\n",
        "                if 1770<i<1880 and 2015<j<2145 :\n",
        "                  S1meanC4_110.append(S1RGB_imgA1C4_10[i][j])  \n",
        "S1meanrefA1_1410 = np.array(S1meanrefA1_1410)\n",
        "S1meanC4_110 = np.array(S1meanC4_110)\n",
        "\n",
        "S1rgbrefA1_1410 = list()\n",
        "S1rgbC4_110 = list()\n",
        "for i in range(3):\n",
        "    S1rgbrefA1_1410.append(S1meanrefA1_1410[:,i].mean())\n",
        "    S1rgbC4_110.append(S1meanC4_110[:,i].mean())"
      ],
      "execution_count": null,
      "outputs": []
    },
    {
      "cell_type": "code",
      "metadata": {
        "id": "FtGLu-KmPOFW"
      },
      "source": [
        "S1meanrefA1_1510 = list()\n",
        "S1meanD2_110 = list()\n",
        "for i in range(S1RGB_imgA1D2_10.shape[0]): \n",
        "     for j in range(S1RGB_imgA1D2_10.shape[1]): \n",
        "                if 1769<i<1881 and 2019<j<2131 :\n",
        "                  S1meanrefA1_1510.append(S1RGB_imgA1D2_10[i][j])\n",
        "                if 1770<i<1880 and 2015<j<2145 :\n",
        "                  S1meanD2_110.append(S1RGB_imgA1D2_10[i][j])  \n",
        "S1meanrefA1_1510 = np.array(S1meanrefA1_1510)\n",
        "S1meanD2_110 = np.array(S1meanD2_110)\n",
        "\n",
        "S1rgbrefA1_1510 = list()\n",
        "S1rgbD2_110 = list()\n",
        "for i in range(3):\n",
        "    S1rgbrefA1_1510.append(S1meanrefA1_1510[:,i].mean())\n",
        "    S1rgbD2_110.append(S1meanD2_110[:,i].mean())"
      ],
      "execution_count": null,
      "outputs": []
    },
    {
      "cell_type": "code",
      "metadata": {
        "id": "ZucXz9DlPOFX"
      },
      "source": [
        "S1meanrefA1_1610 = list()\n",
        "S1meanD3_110 = list()\n",
        "for i in range(S1RGB_imgA1D3_10.shape[0]): \n",
        "     for j in range(S1RGB_imgA1D3_10.shape[1]): \n",
        "                if 1769<i<1881 and 2019<j<2131 :\n",
        "                  S1meanrefA1_1610.append(S1RGB_imgA1D3_10[i][j])\n",
        "                if 1770<i<1880 and 2015<j<2145 :\n",
        "                  S1meanD3_110.append(S1RGB_imgA1D3_10[i][j])  \n",
        "S1meanrefA1_1610 = np.array(S1meanrefA1_1610)\n",
        "S1meanD3_110 = np.array(S1meanD3_110)\n",
        "\n",
        "S1rgbrefA1_1610 = list()\n",
        "S1rgbD3_110 = list()\n",
        "for i in range(3):\n",
        "    S1rgbrefA1_1610.append(S1meanrefA1_1610[:,i].mean())\n",
        "    S1rgbD3_110.append(S1meanD3_110[:,i].mean())"
      ],
      "execution_count": null,
      "outputs": []
    },
    {
      "cell_type": "code",
      "metadata": {
        "id": "uNM5cNr5POFX"
      },
      "source": [
        "S1meanrefA1_1710= list()\n",
        "S1meanD4_110 = list()\n",
        "for i in range(S1RGB_imgA1D4_10.shape[0]): \n",
        "     for j in range(S1RGB_imgA1D4_10.shape[1]): \n",
        "                if 1769<i<1881 and 2019<j<2131 :\n",
        "                  S1meanrefA1_1710.append(S1RGB_imgA1D4_10[i][j])\n",
        "                if 1770<i<1880 and 2015<j<2145 :\n",
        "                  S1meanD4_110.append(S1RGB_imgA1D4_10[i][j])  \n",
        "S1meanrefA1_1710 = np.array(S1meanrefA1_1410)\n",
        "S1meanD4_110 = np.array(S1meanD4_110)\n",
        "\n",
        "S1rgbrefA1_1710 = list()\n",
        "S1rgbD4_110 = list()\n",
        "for i in range(3):\n",
        "    S1rgbrefA1_1710.append(S1meanrefA1_1710[:,i].mean())\n",
        "    S1rgbD4_110.append(S1meanD4_110[:,i].mean())"
      ],
      "execution_count": null,
      "outputs": []
    },
    {
      "cell_type": "markdown",
      "metadata": {
        "id": "7OGOajgpt7TD"
      },
      "source": [
        "###HSV"
      ]
    },
    {
      "cell_type": "code",
      "metadata": {
        "id": "gyewAPUYuQs5"
      },
      "source": [
        "S1meanrefA1_1 = list()\n",
        "S1meanA1_2 = list()\n",
        "for i in range(S1HSV_imgA1A1_1.shape[0]): #ให้ i รันตาม row หรือ shape[0] คือแถว มีทั้งหมด 4032 แถว ของภาพที่ปรับขนาดมาแล้ว\n",
        "     for j in range(S1HSV_imgA1A1_1.shape[1]): #ให้ j รันตาม colum มีทั้งหมด 3024 colum เช่น แถวที่ 1 เข้ามาให้รันครบ 3024colum\n",
        "                if 1769<i<1881 and 2019<j<2131 :\n",
        "                  S1meanrefA1_1.append(S1HSV_imgA1A1_1[i][j])\n",
        "                if 1770<i<1880 and 2015<j<2145 :\n",
        "                  S1meanA1_2.append(S1HSV_imgA1A1_1[i][j])  \n",
        "S1meanrefA1_1 = np.array(S1meanrefA1_1)\n",
        "S1meanA1_2 = np.array(S1meanA1_2)\n",
        "\n",
        "S1hsvrefA1_1 = list()\n",
        "S1hsvA1_2 = list()\n",
        "for i in range(3):\n",
        "    S1hsvrefA1_1.append(S1meanrefA1_1[:,i].mean())\n",
        "    S1hsvA1_2.append(S1meanA1_2[:,i].mean())\n",
        "S1hsvrefA1_1,S1hsvA1_2 "
      ],
      "execution_count": null,
      "outputs": []
    },
    {
      "cell_type": "code",
      "metadata": {
        "id": "dK9vu9zRuQs7"
      },
      "source": [
        "S1meanrefA1_3 = list()\n",
        "S1meanA2_1 = list()\n",
        "for i in range(S1HSV_imgA1A2_1.shape[0]): \n",
        "     for j in range(S1HSV_imgA1A2_1.shape[1]): \n",
        "                if 1769<i<1881 and 2019<j<2131 :\n",
        "                  S1meanrefA1_3.append(S1HSV_imgA1A2_1[i][j])\n",
        "                if 1770<i<1880 and 2015<j<2145 :\n",
        "                  S1meanA2_1.append(S1HSV_imgA1A2_1[i][j])  \n",
        "S1meanrefA1_3 = np.array(S1meanrefA1_3)\n",
        "S1meanA2_1 = np.array(S1meanA2_1)\n",
        "\n",
        "S1hsvrefA1_3 = list()\n",
        "S1hsvA2_1 = list()\n",
        "for i in range(3):\n",
        "    S1hsvrefA1_3.append(S1meanrefA1_3[:,i].mean())\n",
        "    S1hsvA2_1.append(S1meanA2_1[:,i].mean())"
      ],
      "execution_count": null,
      "outputs": []
    },
    {
      "cell_type": "code",
      "metadata": {
        "id": "HVnaWekuuQs8"
      },
      "source": [
        "S1meanrefA1_4 = list()\n",
        "S1meanA3_1 = list()\n",
        "for i in range(S1HSV_imgA1A3_1.shape[0]): \n",
        "     for j in range(S1HSV_imgA1A3_1.shape[1]): \n",
        "                if 1769<i<1881 and 2019<j<2131 :\n",
        "                  S1meanrefA1_4.append(S1HSV_imgA1A3_1[i][j])\n",
        "                if 1770<i<1880 and 2015<j<2145 :\n",
        "                  S1meanA3_1.append(S1HSV_imgA1A3_1[i][j])  \n",
        "S1meanrefA1_4 = np.array(S1meanrefA1_4)\n",
        "S1meanA3_1 = np.array(S1meanA3_1)\n",
        "\n",
        "S1hsvrefA1_4 = list()\n",
        "S1hsvA3_1 = list()\n",
        "for i in range(3):\n",
        "    S1hsvrefA1_4.append(S1meanrefA1_4[:,i].mean())\n",
        "    S1hsvA3_1.append(S1meanA3_1[:,i].mean())"
      ],
      "execution_count": null,
      "outputs": []
    },
    {
      "cell_type": "code",
      "metadata": {
        "id": "-YCvbbWAuQs8"
      },
      "source": [
        "S1meanrefA1_5 = list()\n",
        "S1meanA3_51 = list()\n",
        "for i in range(S1HSV_imgA1A3_51.shape[0]): \n",
        "     for j in range(S1HSV_imgA1A3_51.shape[1]): \n",
        "                if 1769<i<1881 and 2019<j<2131 :\n",
        "                  S1meanrefA1_5.append(S1HSV_imgA1A3_51[i][j])\n",
        "                if 1770<i<1880 and 2015<j<2145 :\n",
        "                  S1meanA3_51.append(S1HSV_imgA1A3_51[i][j])  \n",
        "S1meanrefA1_5 = np.array(S1meanrefA1_5)\n",
        "S1meanA3_51 = np.array(S1meanA3_51)\n",
        "\n",
        "S1hsvrefA1_5 = list()\n",
        "S1hsvA3_51 = list()\n",
        "for i in range(3):\n",
        "    S1hsvrefA1_5.append(S1meanrefA1_5[:,i].mean())\n",
        "    S1hsvA3_51.append(S1meanA3_51[:,i].mean())"
      ],
      "execution_count": null,
      "outputs": []
    },
    {
      "cell_type": "code",
      "metadata": {
        "id": "UvZxCzLSuQs9"
      },
      "source": [
        "S1meanrefA1_6 = list()\n",
        "S1meanA4_1 = list()\n",
        "for i in range(S1HSV_imgA1A4_1.shape[0]): \n",
        "     for j in range(S1HSV_imgA1A4_1.shape[1]): \n",
        "                if 1769<i<1881 and 2019<j<2131 :\n",
        "                  S1meanrefA1_6.append(S1HSV_imgA1A4_1[i][j])\n",
        "                if 1770<i<1880 and 2015<j<2145 :\n",
        "                  S1meanA4_1.append(S1HSV_imgA1A4_1[i][j])  \n",
        "S1meanrefA1_6 = np.array(S1meanrefA1_6)\n",
        "S1meanA4_1 = np.array(S1meanA4_1)\n",
        "\n",
        "S1hsvrefA1_6 = list()\n",
        "S1hsvA4_1 = list()\n",
        "for i in range(3):\n",
        "    S1hsvrefA1_6.append(S1meanrefA1_6[:,i].mean())\n",
        "    S1hsvA4_1.append(S1meanA4_1[:,i].mean())"
      ],
      "execution_count": null,
      "outputs": []
    },
    {
      "cell_type": "code",
      "metadata": {
        "id": "_KgSdI0LuQs-"
      },
      "source": [
        "S1meanrefA1_7 = list()\n",
        "S1meanB1_1 = list()\n",
        "for i in range(S1HSV_imgA1B1_1.shape[0]): \n",
        "     for j in range(S1HSV_imgA1B1_1.shape[1]): \n",
        "                if 1769<i<1881 and 2019<j<2131 :\n",
        "                  S1meanrefA1_7.append(S1HSV_imgA1B1_1[i][j])\n",
        "                if 1770<i<1880 and 2015<j<2145 :\n",
        "                  S1meanB1_1.append(S1HSV_imgA1B1_1[i][j])  \n",
        "S1meanrefA1_7 = np.array(S1meanrefA1_7)\n",
        "S1meanB1_1 = np.array(S1meanB1_1)\n",
        "\n",
        "S1hsvrefA1_7 = list()\n",
        "S1hsvB1_1 = list()\n",
        "for i in range(3):\n",
        "    S1hsvrefA1_7.append(S1meanrefA1_7[:,i].mean())\n",
        "    S1hsvB1_1.append(S1meanB1_1[:,i].mean())"
      ],
      "execution_count": null,
      "outputs": []
    },
    {
      "cell_type": "code",
      "metadata": {
        "id": "D73bQNbSuQs_"
      },
      "source": [
        "S1meanrefA1_8 = list()\n",
        "S1meanB2_1 = list()\n",
        "for i in range(S1HSV_imgA1B2_1.shape[0]): \n",
        "     for j in range(S1HSV_imgA1B2_1.shape[1]): \n",
        "                if 1769<i<1881 and 2019<j<2131 :\n",
        "                  S1meanrefA1_8.append(S1HSV_imgA1B2_1[i][j])\n",
        "                if 1770<i<1880 and 2015<j<2145 :\n",
        "                  S1meanB2_1.append(S1HSV_imgA1B2_1[i][j])  \n",
        "S1meanrefA1_8 = np.array(S1meanrefA1_8)\n",
        "S1meanB2_1 = np.array(S1meanB2_1)\n",
        "\n",
        "S1hsvrefA1_8 = list()\n",
        "S1hsvB2_1 = list()\n",
        "for i in range(3):\n",
        "    S1hsvrefA1_8.append(S1meanrefA1_8[:,i].mean())\n",
        "    S1hsvB2_1.append(S1meanB2_1[:,i].mean())"
      ],
      "execution_count": null,
      "outputs": []
    },
    {
      "cell_type": "code",
      "metadata": {
        "id": "-2Um-Pq5uQtA"
      },
      "source": [
        "S1meanrefA1_9 = list()\n",
        "S1meanB3_1 = list()\n",
        "for i in range(S1HSV_imgA1B3_1.shape[0]): \n",
        "     for j in range(S1HSV_imgA1B3_1.shape[1]): \n",
        "                if 1769<i<1881 and 2019<j<2131 :\n",
        "                  S1meanrefA1_9.append(S1HSV_imgA1B3_1[i][j])\n",
        "                if 1770<i<1880 and 2015<j<2145 :\n",
        "                  S1meanB3_1.append(S1HSV_imgA1B3_1[i][j])  \n",
        "S1meanrefA1_9 = np.array(S1meanrefA1_9)\n",
        "S1meanB3_1 = np.array(S1meanB3_1)\n",
        "\n",
        "S1hsvrefA1_9 = list()\n",
        "S1hsvB3_1 = list()\n",
        "for i in range(3):\n",
        "    S1hsvrefA1_9.append(S1meanrefA1_9[:,i].mean())\n",
        "    S1hsvB3_1.append(S1meanB3_1[:,i].mean())"
      ],
      "execution_count": null,
      "outputs": []
    },
    {
      "cell_type": "code",
      "metadata": {
        "id": "Bprrg-KQuQtB"
      },
      "source": [
        "S1meanrefA1_10 = list()\n",
        "S1meanB4_1 = list()\n",
        "for i in range(S1HSV_imgA1B4_1.shape[0]): \n",
        "     for j in range(S1HSV_imgA1B4_1.shape[1]): \n",
        "                if 1769<i<1881 and 2019<j<2131 :\n",
        "                  S1meanrefA1_10.append(S1HSV_imgA1B4_1[i][j])\n",
        "                if 1770<i<1880 and 2015<j<2145 :\n",
        "                  S1meanB4_1.append(S1HSV_imgA1B4_1[i][j])  \n",
        "S1meanrefA1_10 = np.array(S1meanrefA1_10)\n",
        "S1meanB4_1 = np.array(S1meanB4_1)\n",
        "\n",
        "S1hsvrefA1_10 = list()\n",
        "S1hsvB4_1 = list()\n",
        "for i in range(3):\n",
        "    S1hsvrefA1_10.append(S1meanrefA1_10[:,i].mean())\n",
        "    S1hsvB4_1.append(S1meanB4_1[:,i].mean())"
      ],
      "execution_count": null,
      "outputs": []
    },
    {
      "cell_type": "code",
      "metadata": {
        "id": "tM9mAjB8uQtB"
      },
      "source": [
        "S1meanrefA1_11 = list()\n",
        "S1meanC1_1 = list()\n",
        "for i in range(S1HSV_imgA1C1_1.shape[0]): \n",
        "     for j in range(S1HSV_imgA1C1_1.shape[1]): \n",
        "                if 1769<i<1881 and 2019<j<2131 :\n",
        "                  S1meanrefA1_11.append(S1HSV_imgA1C1_1[i][j])\n",
        "                if 1770<i<1880 and 2015<j<2145 :\n",
        "                  S1meanC1_1.append(S1HSV_imgA1C1_1[i][j])  \n",
        "S1meanrefA1_11 = np.array(S1meanrefA1_11)\n",
        "S1meanC1_1 = np.array(S1meanC1_1)\n",
        "\n",
        "S1hsvrefA1_11 = list()\n",
        "S1hsvC1_1 = list()\n",
        "for i in range(3):\n",
        "    S1hsvrefA1_11.append(S1meanrefA1_11[:,i].mean())\n",
        "    S1hsvC1_1.append(S1meanC1_1[:,i].mean())"
      ],
      "execution_count": null,
      "outputs": []
    },
    {
      "cell_type": "code",
      "metadata": {
        "id": "kDklKgouuQtC"
      },
      "source": [
        "S1meanrefA1_12 = list()\n",
        "S1meanC2_1 = list()\n",
        "for i in range(S1HSV_imgA1C2_1.shape[0]): \n",
        "     for j in range(S1HSV_imgA1C2_1.shape[1]): \n",
        "                if 1769<i<1881 and 2019<j<2131 :\n",
        "                  S1meanrefA1_12.append(S1HSV_imgA1C2_1[i][j])\n",
        "                if 1770<i<1880 and 2015<j<2145 :\n",
        "                  S1meanC2_1.append(S1HSV_imgA1C2_1[i][j])  \n",
        "S1meanrefA1_12 = np.array(S1meanrefA1_12)\n",
        "S1meanC2_1 = np.array(S1meanC2_1)\n",
        "\n",
        "S1hsvrefA1_12 = list()\n",
        "S1hsvC2_1 = list()\n",
        "for i in range(3):\n",
        "    S1hsvrefA1_12.append(S1meanrefA1_12[:,i].mean())\n",
        "    S1hsvC2_1.append(S1meanC2_1[:,i].mean())"
      ],
      "execution_count": null,
      "outputs": []
    },
    {
      "cell_type": "code",
      "metadata": {
        "id": "y5Ptet2IuQtC"
      },
      "source": [
        "S1meanrefA1_13 = list()\n",
        "S1meanC3_1 = list()\n",
        "for i in range(S1HSV_imgA1C3_1.shape[0]): \n",
        "     for j in range(S1HSV_imgA1C3_1.shape[1]): \n",
        "                if 1769<i<1881 and 2019<j<2131 :\n",
        "                  S1meanrefA1_13.append(S1HSV_imgA1C3_1[i][j])\n",
        "                if 1770<i<1880 and 2015<j<2145 :\n",
        "                  S1meanC3_1.append(S1HSV_imgA1C3_1[i][j])  \n",
        "S1meanrefA1_13 = np.array(S1meanrefA1_13)\n",
        "S1meanC3_1 = np.array(S1meanC3_1)\n",
        "\n",
        "S1hsvrefA1_13 = list()\n",
        "S1hsvC3_1 = list()\n",
        "for i in range(3):\n",
        "    S1hsvrefA1_13.append(S1meanrefA1_13[:,i].mean())\n",
        "    S1hsvC3_1.append(S1meanC3_1[:,i].mean())"
      ],
      "execution_count": null,
      "outputs": []
    },
    {
      "cell_type": "code",
      "metadata": {
        "id": "HukrHNNxuQtC"
      },
      "source": [
        "S1meanrefA1_14 = list()\n",
        "S1meanC4_1 = list()\n",
        "for i in range(S1HSV_imgA1C4_1.shape[0]): \n",
        "     for j in range(S1HSV_imgA1C4_1.shape[1]): \n",
        "                if 1769<i<1881 and 2019<j<2131 :\n",
        "                  S1meanrefA1_14.append(S1HSV_imgA1C4_1[i][j])\n",
        "                if 1770<i<1880 and 2015<j<2145 :\n",
        "                  S1meanC4_1.append(S1HSV_imgA1C4_1[i][j])  \n",
        "S1meanrefA1_14 = np.array(S1meanrefA1_14)\n",
        "S1meanC4_1 = np.array(S1meanC4_1)\n",
        "\n",
        "S1hsvrefA1_14 = list()\n",
        "S1hsvC4_1 = list()\n",
        "for i in range(3):\n",
        "    S1hsvrefA1_14.append(S1meanrefA1_14[:,i].mean())\n",
        "    S1hsvC4_1.append(S1meanC4_1[:,i].mean())"
      ],
      "execution_count": null,
      "outputs": []
    },
    {
      "cell_type": "code",
      "metadata": {
        "id": "EEzN-mXZuQtD"
      },
      "source": [
        "S1meanrefA1_15 = list()\n",
        "S1meanD2_1 = list()\n",
        "for i in range(S1HSV_imgA1D2_1.shape[0]): \n",
        "     for j in range(S1HSV_imgA1D2_1.shape[1]): \n",
        "                if 1769<i<1881 and 2019<j<2131 :\n",
        "                  S1meanrefA1_15.append(S1HSV_imgA1D2_1[i][j])\n",
        "                if 1770<i<1880 and 2015<j<2145 :\n",
        "                  S1meanD2_1.append(S1HSV_imgA1D2_1[i][j])  \n",
        "S1meanrefA1_15 = np.array(S1meanrefA1_15)\n",
        "S1meanD2_1 = np.array(S1meanD2_1)\n",
        "\n",
        "S1hsvrefA1_15 = list()\n",
        "S1hsvD2_1 = list()\n",
        "for i in range(3):\n",
        "    S1hsvrefA1_15.append(S1meanrefA1_15[:,i].mean())\n",
        "    S1hsvD2_1.append(S1meanD2_1[:,i].mean())"
      ],
      "execution_count": null,
      "outputs": []
    },
    {
      "cell_type": "code",
      "metadata": {
        "id": "ceqVIiUGuQtD"
      },
      "source": [
        "S1meanrefA1_16 = list()\n",
        "S1meanD3_1 = list()\n",
        "for i in range(S1HSV_imgA1D3_1.shape[0]): \n",
        "     for j in range(S1HSV_imgA1D3_1.shape[1]): \n",
        "                if 1769<i<1881 and 2019<j<2131 :\n",
        "                  S1meanrefA1_16.append(S1HSV_imgA1D3_1[i][j])\n",
        "                if 1770<i<1880 and 2015<j<2145 :\n",
        "                  S1meanD3_1.append(S1HSV_imgA1D3_1[i][j])  \n",
        "S1meanrefA1_16 = np.array(S1meanrefA1_16)\n",
        "S1meanD3_1 = np.array(S1meanD3_1)\n",
        "\n",
        "S1hsvrefA1_16 = list()\n",
        "S1hsvD3_1 = list()\n",
        "for i in range(3):\n",
        "    S1hsvrefA1_16.append(S1meanrefA1_16[:,i].mean())\n",
        "    S1hsvD3_1.append(S1meanD3_1[:,i].mean())"
      ],
      "execution_count": null,
      "outputs": []
    },
    {
      "cell_type": "code",
      "metadata": {
        "id": "GEl4Fv4ouQtD"
      },
      "source": [
        "S1meanrefA1_17= list()\n",
        "S1meanD4_1 = list()\n",
        "for i in range(S1HSV_imgA1D4_1.shape[0]): \n",
        "     for j in range(S1HSV_imgA1D4_1.shape[1]): \n",
        "                if 1769<i<1881 and 2019<j<2131 :\n",
        "                  S1meanrefA1_17.append(S1HSV_imgA1D4_1[i][j])\n",
        "                if 1770<i<1880 and 2015<j<2145 :\n",
        "                  S1meanD4_1.append(S1HSV_imgA1D4_1[i][j])  \n",
        "S1meanrefA1_17 = np.array(S1meanrefA1_14)\n",
        "S1meanD4_1 = np.array(S1meanD4_1)\n",
        "\n",
        "S1hsvrefA1_17 = list()\n",
        "S1hsvD4_1 = list()\n",
        "for i in range(3):\n",
        "    S1hsvrefA1_17.append(S1meanrefA1_17[:,i].mean())\n",
        "    S1hsvD4_1.append(S1meanD4_1[:,i].mean())"
      ],
      "execution_count": null,
      "outputs": []
    },
    {
      "cell_type": "markdown",
      "metadata": {
        "id": "fe9uE8W88Y1l"
      },
      "source": [
        "###Img 2"
      ]
    },
    {
      "cell_type": "code",
      "metadata": {
        "id": "Xm87A-FV-1IY"
      },
      "source": [
        "S1meanrefA1_102 = list()\n",
        "S1meanA1_202 = list()\n",
        "for i in range(S1HSV_imgA1A1_2.shape[0]): #ให้ i รันตาม row หรือ shape[0] คือแถว มีทั้งหมด 4032 แถว ของภาพที่ปรับขนาดมาแล้ว\n",
        "     for j in range(S1HSV_imgA1A1_2.shape[1]): #ให้ j รันตาม colum มีทั้งหมด 3024 colum เช่น แถวที่ 1 เข้ามาให้รันครบ 3024colum\n",
        "                if 1769<i<1881 and 2019<j<2131 :\n",
        "                  S1meanrefA1_102.append(S1HSV_imgA1A1_2[i][j])\n",
        "                if 1770<i<1880 and 2015<j<2145 :\n",
        "                  S1meanA1_202.append(S1HSV_imgA1A1_2[i][j])  \n",
        "S1meanrefA1_102= np.array(S1meanrefA1_102)\n",
        "S1meanA1_202 = np.array(S1meanA1_202)\n",
        "\n",
        "S1hsvrefA1_102 = list()\n",
        "S1hsvA1_202 = list()\n",
        "for i in range(3):\n",
        "    S1hsvrefA1_102.append(S1meanrefA1_1[:,i].mean())\n",
        "    S1hsvA1_202.append(S1meanA1_2[:,i].mean())\n",
        "S1hsvrefA1_102,S1hsvA1_202 "
      ],
      "execution_count": null,
      "outputs": []
    },
    {
      "cell_type": "code",
      "metadata": {
        "id": "rYLMn5SR-1IZ"
      },
      "source": [
        "S1meanrefA1_302 = list()\n",
        "S1meanA2_102 = list()\n",
        "for i in range(S1HSV_imgA1A2_2.shape[0]): \n",
        "     for j in range(S1HSV_imgA1A2_2.shape[1]): \n",
        "                if 1769<i<1881 and 2019<j<2131 :\n",
        "                  S1meanrefA1_302.append(S1HSV_imgA1A2_2[i][j])\n",
        "                if 1770<i<1880 and 2015<j<2145 :\n",
        "                  S1meanA2_102.append(S1HSV_imgA1A2_2[i][j])  \n",
        "S1meanrefA1_302 = np.array(S1meanrefA1_3)\n",
        "S1meanA2_102 = np.array(S1meanA2_1)\n",
        "\n",
        "S1hsvrefA1_302 = list()\n",
        "S1hsvA2_102 = list()\n",
        "for i in range(3):\n",
        "    S1hsvrefA1_302.append(S1meanrefA1_302[:,i].mean())\n",
        "    S1hsvA2_102.append(S1meanA2_102[:,i].mean())"
      ],
      "execution_count": null,
      "outputs": []
    },
    {
      "cell_type": "code",
      "metadata": {
        "id": "A5BphPfF-1Ia"
      },
      "source": [
        "S1meanrefA1_402 = list()\n",
        "S1meanA3_102 = list()\n",
        "for i in range(S1HSV_imgA1A3_2.shape[0]): \n",
        "     for j in range(S1HSV_imgA1A3_2.shape[1]): \n",
        "                if 1769<i<1881 and 2019<j<2131 :\n",
        "                  S1meanrefA1_402.append(S1HSV_imgA1A3_2[i][j])\n",
        "                if 1770<i<1880 and 2015<j<2145 :\n",
        "                  S1meanA3_102.append(S1HSV_imgA1A3_2[i][j])  \n",
        "S1meanrefA1_402= np.array(S1meanrefA1_402)\n",
        "S1meanA3_102 = np.array(S1meanA3_102)\n",
        "\n",
        "S1hsvrefA1_402 = list()\n",
        "S1hsvA3_102 = list()\n",
        "for i in range(3):\n",
        "    S1hsvrefA1_402.append(S1meanrefA1_402[:,i].mean())\n",
        "    S1hsvA3_102.append(S1meanA3_102[:,i].mean())"
      ],
      "execution_count": null,
      "outputs": []
    },
    {
      "cell_type": "code",
      "metadata": {
        "id": "DQ0nlZoK-1Ia"
      },
      "source": [
        "S1meanrefA1_502 = list()\n",
        "S1meanA3_5102 = list()\n",
        "for i in range(S1HSV_imgA1A3_52.shape[0]): \n",
        "     for j in range(S1HSV_imgA1A3_52.shape[1]): \n",
        "                if 1769<i<1881 and 2019<j<2131 :\n",
        "                  S1meanrefA1_502.append(S1HSV_imgA1A3_52[i][j])\n",
        "                if 1770<i<1880 and 2015<j<2145 :\n",
        "                  S1meanA3_5102.append(S1HSV_imgA1A3_52[i][j])  \n",
        "S1meanrefA1_502 = np.array(S1meanrefA1_502)\n",
        "S1meanA3_5102 = np.array(S1meanA3_5102)\n",
        "\n",
        "S1hsvrefA1_502 = list()\n",
        "S1hsvA3_5102 = list()\n",
        "for i in range(3):\n",
        "    S1hsvrefA1_502.append(S1meanrefA1_502[:,i].mean())\n",
        "    S1hsvA3_5102.append(S1meanA3_5102[:,i].mean())"
      ],
      "execution_count": null,
      "outputs": []
    },
    {
      "cell_type": "code",
      "metadata": {
        "id": "gn9mbsac-1Ib"
      },
      "source": [
        "S1meanrefA1_602 = list()\n",
        "S1meanA4_102 = list()\n",
        "for i in range(S1HSV_imgA1A4_2.shape[0]): \n",
        "     for j in range(S1HSV_imgA1A4_2.shape[1]): \n",
        "                if 1769<i<1881 and 2019<j<2131 :\n",
        "                  S1meanrefA1_602.append(S1HSV_imgA1A4_2[i][j])\n",
        "                if 1770<i<1880 and 2015<j<2145 :\n",
        "                  S1meanA4_102.append(S1HSV_imgA1A4_2[i][j])  \n",
        "S1meanrefA1_602 = np.array(S1meanrefA1_602)\n",
        "S1meanA4_102 = np.array(S1meanA4_102)\n",
        "\n",
        "S1hsvrefA1_602 = list()\n",
        "S1hsvA4_102 = list()\n",
        "for i in range(3):\n",
        "    S1hsvrefA1_602.append(S1meanrefA1_602[:,i].mean())\n",
        "    S1hsvA4_102.append(S1meanA4_102[:,i].mean())"
      ],
      "execution_count": null,
      "outputs": []
    },
    {
      "cell_type": "code",
      "metadata": {
        "id": "3NYWQq6O-1Ib"
      },
      "source": [
        "S1meanrefA1_702 = list()\n",
        "S1meanB1_102 = list()\n",
        "for i in range(S1HSV_imgA1B1_2.shape[0]): \n",
        "     for j in range(S1HSV_imgA1B1_2.shape[1]): \n",
        "                if 1769<i<1881 and 2019<j<2131 :\n",
        "                  S1meanrefA1_702.append(S1HSV_imgA1B1_2[i][j])\n",
        "                if 1770<i<1880 and 2015<j<2145 :\n",
        "                  S1meanB1_102.append(S1HSV_imgA1B1_2[i][j])  \n",
        "S1meanrefA1_702 = np.array(S1meanrefA1_702)\n",
        "S1meanB1_102 = np.array(S1meanB1_102)\n",
        "\n",
        "S1hsvrefA1_702 = list()\n",
        "S1hsvB1_102 = list()\n",
        "for i in range(3):\n",
        "    S1hsvrefA1_702.append(S1meanrefA1_702[:,i].mean())\n",
        "    S1hsvB1_102.append(S1meanB1_102[:,i].mean())"
      ],
      "execution_count": null,
      "outputs": []
    },
    {
      "cell_type": "code",
      "metadata": {
        "id": "tG9prEea-1Ic"
      },
      "source": [
        "S1meanrefA1_802 = list()\n",
        "S1meanB2_102 = list()\n",
        "for i in range(S1HSV_imgA1B2_2.shape[0]): \n",
        "     for j in range(S1HSV_imgA1B2_2.shape[1]): \n",
        "                if 1769<i<1881 and 2019<j<2131 :\n",
        "                  S1meanrefA1_802.append(S1HSV_imgA1B2_2[i][j])\n",
        "                if 1770<i<1880 and 2015<j<2145 :\n",
        "                  S1meanB2_102.append(S1HSV_imgA1B2_2[i][j])  \n",
        "S1meanrefA1_802 = np.array(S1meanrefA1_802)\n",
        "S1meanB2_102 = np.array(S1meanB2_102)\n",
        "\n",
        "S1hsvrefA1_802 = list()\n",
        "S1hsvB2_102 = list()\n",
        "for i in range(3):\n",
        "    S1hsvrefA1_802.append(S1meanrefA1_802[:,i].mean())\n",
        "    S1hsvB2_102.append(S1meanB2_102[:,i].mean())"
      ],
      "execution_count": null,
      "outputs": []
    },
    {
      "cell_type": "code",
      "metadata": {
        "id": "eGt2Tuln-1Ic"
      },
      "source": [
        "S1meanrefA1_902 = list()\n",
        "S1meanB3_102 = list()\n",
        "for i in range(S1HSV_imgA1B3_2.shape[0]): \n",
        "     for j in range(S1HSV_imgA1B3_2.shape[1]): \n",
        "                if 1769<i<1881 and 2019<j<2131 :\n",
        "                  S1meanrefA1_902.append(S1HSV_imgA1B3_2[i][j])\n",
        "                if 1770<i<1880 and 2015<j<2145 :\n",
        "                  S1meanB3_102.append(S1HSV_imgA1B3_2[i][j])  \n",
        "S1meanrefA1_902 = np.array(S1meanrefA1_902)\n",
        "S1meanB3_102 = np.array(S1meanB3_102)\n",
        "\n",
        "S1hsvrefA1_902 = list()\n",
        "S1hsvB3_102 = list()\n",
        "for i in range(3):\n",
        "    S1hsvrefA1_902.append(S1meanrefA1_902[:,i].mean())\n",
        "    S1hsvB3_102.append(S1meanB3_102[:,i].mean())"
      ],
      "execution_count": null,
      "outputs": []
    },
    {
      "cell_type": "code",
      "metadata": {
        "id": "kkHmxLn6-1Id"
      },
      "source": [
        "S1meanrefA1_1002 = list()\n",
        "S1meanB4_102 = list()\n",
        "for i in range(S1HSV_imgA1B4_2.shape[0]): \n",
        "     for j in range(S1HSV_imgA1B4_2.shape[1]): \n",
        "                if 1769<i<1881 and 2019<j<2131 :\n",
        "                  S1meanrefA1_1002.append(S1HSV_imgA1B4_2[i][j])\n",
        "                if 1770<i<1880 and 2015<j<2145 :\n",
        "                  S1meanB4_102.append(S1HSV_imgA1B4_2[i][j])  \n",
        "S1meanrefA1_1002 = np.array(S1meanrefA1_1002)\n",
        "S1meanB4_102 = np.array(S1meanB4_102)\n",
        "\n",
        "S1hsvrefA1_1002 = list()\n",
        "S1hsvB4_102 = list()\n",
        "for i in range(3):\n",
        "    S1hsvrefA1_10.append(S1meanrefA1_10[:,i].mean())\n",
        "    S1hsvB4_1.append(S1meanB4_1[:,i].mean())"
      ],
      "execution_count": null,
      "outputs": []
    },
    {
      "cell_type": "code",
      "metadata": {
        "id": "Lb7z9PnN-1Id"
      },
      "source": [
        "S1meanrefA1_1102 = list()\n",
        "S1meanC1_102 = list()\n",
        "for i in range(S1HSV_imgA1C1_2.shape[0]): \n",
        "     for j in range(S1HSV_imgA1C1_2.shape[1]): \n",
        "                if 1769<i<1881 and 2019<j<2131 :\n",
        "                  S1meanrefA1_1102.append(S1HSV_imgA1C1_2[i][j])\n",
        "                if 1770<i<1880 and 2015<j<2145 :\n",
        "                  S1meanC1_102.append(S1HSV_imgA1C1_2[i][j])  \n",
        "S1meanrefA1_1102 = np.array(S1meanrefA1_1102)\n",
        "S1meanC1_102= np.array(S1meanC1_102)\n",
        "\n",
        "S1hsvrefA1_1102 = list()\n",
        "S1hsvC1_102 = list()\n",
        "for i in range(3):\n",
        "    S1hsvrefA1_1102.append(S1meanrefA1_1102[:,i].mean())\n",
        "    S1hsvC1_102.append(S1meanC1_102[:,i].mean())"
      ],
      "execution_count": null,
      "outputs": []
    },
    {
      "cell_type": "code",
      "metadata": {
        "id": "MAT7IIoE-1Id"
      },
      "source": [
        "S1meanrefA1_1202 = list()\n",
        "S1meanC2_102 = list()\n",
        "for i in range(S1HSV_imgA1C2_2.shape[0]): \n",
        "     for j in range(S1HSV_imgA1C2_2.shape[1]): \n",
        "                if 1769<i<1881 and 2019<j<2131 :\n",
        "                  S1meanrefA1_1202.append(S1HSV_imgA1C2_2[i][j])\n",
        "                if 1770<i<1880 and 2015<j<2145 :\n",
        "                  S1meanC2_102.append(S1HSV_imgA1C2_2[i][j])  \n",
        "S1meanrefA1_1202 = np.array(S1meanrefA1_1202)\n",
        "S1meanC2_102 = np.array(S1meanC2_102)\n",
        "\n",
        "S1hsvrefA1_1202 = list()\n",
        "S1hsvC2_102 = list()\n",
        "for i in range(3):\n",
        "    S1hsvrefA1_1202.append(S1meanrefA1_1202[:,i].mean())\n",
        "    S1hsvC2_102.append(S1meanC2_102[:,i].mean())"
      ],
      "execution_count": null,
      "outputs": []
    },
    {
      "cell_type": "code",
      "metadata": {
        "id": "Md5vmNBm-1Ie"
      },
      "source": [
        "S1meanrefA1_1302 = list()\n",
        "S1meanC3_102 = list()\n",
        "for i in range(S1HSV_imgA1C3_.shape[0]): \n",
        "     for j in range(S1HSV_imgA1C3_.shape[1]): \n",
        "                if 1769<i<1881 and 2019<j<2131 :\n",
        "                  S1meanrefA1_1302.append(S1HSV_imgA1C3_[i][j])\n",
        "                if 1770<i<1880 and 2015<j<2145 :\n",
        "                  S1meanC3_102.append(S1HSV_imgA1C3_[i][j])  \n",
        "S1meanrefA1_1302 = np.array(S1meanrefA1_1302)\n",
        "S1meanC3_102 = np.array(S1meanC3_102)\n",
        "\n",
        "S1hsvrefA1_1302 = list()\n",
        "S1hsvC3_102 = list()\n",
        "for i in range(3):\n",
        "    S1hsvrefA1_1302.append(S1meanrefA1_1302[:,i].mean())\n",
        "    S1hsvC3_102.append(S1meanC3_102[:,i].mean())"
      ],
      "execution_count": null,
      "outputs": []
    },
    {
      "cell_type": "code",
      "metadata": {
        "id": "VGFMiVDs-1Ie"
      },
      "source": [
        "S1meanrefA1_1402 = list()\n",
        "S1meanC4_102 = list()\n",
        "for i in range(S1HSV_imgA1C4_2.shape[0]): \n",
        "     for j in range(S1HSV_imgA1C4_2.shape[1]): \n",
        "                if 1769<i<1881 and 2019<j<2131 :\n",
        "                  S1meanrefA1_1402.append(S1HSV_imgA1C4_2[i][j])\n",
        "                if 1770<i<1880 and 2015<j<2145 :\n",
        "                  S1meanC4_102.append(S1HSV_imgA1C4_2[i][j])  \n",
        "S1meanrefA1_1402 = np.array(S1meanrefA1_1402)\n",
        "S1meanC4_102 = np.array(S1meanC4_102)\n",
        "\n",
        "S1hsvrefA1_1402 = list()\n",
        "S1hsvC4_102 = list()\n",
        "for i in range(3):\n",
        "    S1hsvrefA1_1402.append(S1meanrefA1_1402[:,i].mean())\n",
        "    S1hsvC4_102.append(S1meanC4_102[:,i].mean())"
      ],
      "execution_count": null,
      "outputs": []
    },
    {
      "cell_type": "code",
      "metadata": {
        "id": "3u4rPyIU-1If"
      },
      "source": [
        "S1meanrefA1_1502 = list()\n",
        "S1meanD2_102 = list()\n",
        "for i in range(S1HSV_imgA1D2_2.shape[0]): \n",
        "     for j in range(S1HSV_imgA1D2_2.shape[1]): \n",
        "                if 1769<i<1881 and 2019<j<2131 :\n",
        "                  S1meanrefA1_1502.append(S1HSV_imgA1D2_2[i][j])\n",
        "                if 1770<i<1880 and 2015<j<2145 :\n",
        "                  S1meanD2_102.append(S1HSV_imgA1D2_2[i][j])  \n",
        "S1meanrefA1_1502 = np.array(S1meanrefA1_1502)\n",
        "S1meanD2_102 = np.array(S1meanD2_102)\n",
        "\n",
        "S1hsvrefA1_1502 = list()\n",
        "S1hsvD2_102 = list()\n",
        "for i in range(3):\n",
        "    S1hsvrefA1_1502.append(S1meanrefA1_1502[:,i].mean())\n",
        "    S1hsvD2_102.append(S1meanD2_102[:,i].mean())"
      ],
      "execution_count": null,
      "outputs": []
    },
    {
      "cell_type": "code",
      "metadata": {
        "id": "ZqpY4tfP-1Ig"
      },
      "source": [
        "S1meanrefA1_1602 = list()\n",
        "S1meanD3_102 = list()\n",
        "for i in range(S1HSV_imgA1D3_2.shape[0]): \n",
        "     for j in range(S1HSV_imgA1D3_2.shape[1]): \n",
        "                if 1769<i<1881 and 2019<j<2131 :\n",
        "                  S1meanrefA1_1602.append(S1HSV_imgA1D3_2[i][j])\n",
        "                if 1770<i<1880 and 2015<j<2145 :\n",
        "                  S1meanD3_102.append(S1HSV_imgA1D3_2[i][j])  \n",
        "S1meanrefA1_1602 = np.array(S1meanrefA1_1602)\n",
        "S1meanD3_102 = np.array(S1meanD3_102)\n",
        "\n",
        "S1hsvrefA1_1602 = list()\n",
        "S1hsvD3_102 = list()\n",
        "for i in range(3):\n",
        "    S1hsvrefA1_1602.append(S1meanrefA1_1602[:,i].mean())\n",
        "    S1hsvD3_102.append(S1meanD3_102[:,i].mean())"
      ],
      "execution_count": null,
      "outputs": []
    },
    {
      "cell_type": "code",
      "metadata": {
        "id": "Gg3OiTIE-1Ih"
      },
      "source": [
        "S1meanrefA1_1702= list()\n",
        "S1meanD4_102 = list()\n",
        "for i in range(S1HSV_imgA1D4_2.shape[0]): \n",
        "     for j in range(S1HSV_imgA1D4_2.shape[1]): \n",
        "                if 1769<i<1881 and 2019<j<2131 :\n",
        "                  S1meanrefA1_1702.append(S1HSV_imgA1D4_2[i][j])\n",
        "                if 1770<i<1880 and 2015<j<2145 :\n",
        "                  S1meanD4_102.append(S1HSV_imgA1D4_2[i][j])  \n",
        "S1meanrefA1_1702 = np.array(S1meanrefA1_1702)\n",
        "S1meanD4_102 = np.array(S1meanD4_102)\n",
        "\n",
        "S1hsvrefA1_1702 = list()\n",
        "S1hsvD4_102 = list()\n",
        "for i in range(3):\n",
        "    S1hsvrefA1_1702.append(S1meanrefA1_1702[:,i].mean())\n",
        "    S1hsvD4_102.append(S1meanD4_102[:,i].mean())"
      ],
      "execution_count": null,
      "outputs": []
    },
    {
      "cell_type": "markdown",
      "metadata": {
        "id": "V9K2-oKw8lpO"
      },
      "source": [
        "###Img 3"
      ]
    },
    {
      "cell_type": "code",
      "metadata": {
        "id": "MRhjsmBPaD64"
      },
      "source": [
        "S1meanrefA1_103 = list()\n",
        "S1meanA1_203 = list()\n",
        "for i in range(S1HSV_imgA1A1_3.shape[0]): #ให้ i รันตาม row หรือ shape[0] คือแถว มีทั้งหมด 4032 แถว ของภาพที่ปรับขนาดมาแล้ว\n",
        "     for j in range(S1HSV_imgA1A1_3.shape[1]): #ให้ j รันตาม colum มีทั้งหมด 3024 colum เช่น แถวที่ 1 เข้ามาให้รันครบ 3024colum\n",
        "                if 1769<i<1881 and 2019<j<2131 :\n",
        "                  S1meanrefA1_103.append(S1HSV_imgA1A1_3[i][j])\n",
        "                if 1770<i<1880 and 2015<j<2145 :\n",
        "                  S1meanA1_203.append(S1HSV_imgA1A1_3[i][j])  \n",
        "S1meanrefA1_103 = np.array(S1meanrefA1_103)\n",
        "S1meanA1_203 = np.array(S1meanA1_203)\n",
        "\n",
        "S1hsvrefA1_103 = list()\n",
        "S1hsvA1_203 = list()\n",
        "for i in range(3):\n",
        "    S1hsvrefA1_103.append(S1meanrefA1_103[:,i].mean())\n",
        "    S1hsvA1_203.append(S1meanA1_203[:,i].mean())\n",
        "S1hsvrefA1_103,S1hsvA1_203 "
      ],
      "execution_count": null,
      "outputs": []
    },
    {
      "cell_type": "code",
      "metadata": {
        "id": "8mLq2ZPPaD68"
      },
      "source": [
        "S1meanrefA1_303 = list()\n",
        "S1meanA2_103 = list()\n",
        "for i in range(S1HSV_imgA1A2_3.shape[0]): \n",
        "     for j in range(S1HSV_imgA1A2_3.shape[1]): \n",
        "                if 1769<i<1881 and 2019<j<2131 :\n",
        "                  S1meanrefA1_303.append(S1HSV_imgA1A2_3[i][j])\n",
        "                if 1770<i<1880 and 2015<j<2145 :\n",
        "                  S1meanA2_103.append(S1HSV_imgA1A2_3[i][j])  \n",
        "S1meanrefA1_303 = np.array(S1meanrefA1_303)\n",
        "S1meanA2_103 = np.array(S1meanA2_103)\n",
        "\n",
        "S1hsvrefA1_303 = list()\n",
        "S1hsvA2_103 = list()\n",
        "for i in range(3):\n",
        "    S1hsvrefA1_303.append(S1meanrefA1_303[:,i].mean())\n",
        "    S1hsvA2_103.append(S1meanA2_103[:,i].mean())"
      ],
      "execution_count": null,
      "outputs": []
    },
    {
      "cell_type": "code",
      "metadata": {
        "id": "2D3d780VaD69"
      },
      "source": [
        "S1meanrefA1_403 = list()\n",
        "S1meanA3_103 = list()\n",
        "for i in range(S1HSV_imgA1A3_3.shape[0]): \n",
        "     for j in range(S1HSV_imgA1A3_3.shape[1]): \n",
        "                if 1769<i<1881 and 2019<j<2131 :\n",
        "                  S1meanrefA1_403append(S1HSV_imgA1A3_3[i][j])\n",
        "                if 1770<i<1880 and 2015<j<2145 :\n",
        "                  S1meanA3_103.append(S1HSV_imgA1A3_3[i][j])  \n",
        "S1meanrefA1_403 = np.array(S1meanrefA1_403)\n",
        "S1meanA3_103 = np.array(S1meanA3_103)\n",
        "\n",
        "S1hsvrefA1_403 = list()\n",
        "S1hsvA3_103 = list()\n",
        "for i in range(3):\n",
        "    S1hsvrefA1_403.append(S1meanrefA1_403[:,i].mean())\n",
        "    S1hsvA3_103.append(S1meanA3_103[:,i].mean())"
      ],
      "execution_count": null,
      "outputs": []
    },
    {
      "cell_type": "code",
      "metadata": {
        "id": "UZqI76CTaD6-"
      },
      "source": [
        "S1meanrefA1_503 = list()\n",
        "S1meanA3_5103 = list()\n",
        "for i in range(S1HSV_imgA1A3_53.shape[0]): \n",
        "     for j in range(S1HSV_imgA1A3_53.shape[1]): \n",
        "                if 1769<i<1881 and 2019<j<2131 :\n",
        "                  S1meanrefA1_503.append(S1HSV_imgA1A3_53[i][j])\n",
        "                if 1770<i<1880 and 2015<j<2145 :\n",
        "                  S1meanA3_5103.append(S1HSV_imgA1A3_53[i][j])  \n",
        "S1meanrefA1_503 = np.array(S1meanrefA1_503)\n",
        "S1meanA3_5103 = np.array(S1meanA3_5103)\n",
        "\n",
        "S1hsvrefA1_503 = list()\n",
        "S1hsvA3_5103 = list()\n",
        "for i in range(3):\n",
        "    S1hsvrefA1_503.append(S1meanrefA1_503[:,i].mean())\n",
        "    S1hsvA3_5103.append(S1meanA3_5103[:,i].mean())"
      ],
      "execution_count": null,
      "outputs": []
    },
    {
      "cell_type": "code",
      "metadata": {
        "id": "Sr2jeoZ2aD6_"
      },
      "source": [
        "S1meanrefA1_603 = list()\n",
        "S1meanA4_103 = list()\n",
        "for i in range(S1HSV_imgA1A4_303.shape[0]): \n",
        "     for j in range(S1HSV_imgA1A4_303.shape[1]): \n",
        "                if 1769<i<1881 and 2019<j<2131 :\n",
        "                  S1meanrefA1_603.append(S1HSV_imgA1A4_3[i][j])\n",
        "                if 1770<i<1880 and 2015<j<2145 :\n",
        "                  S1meanA4_103.append(S1HSV_imgA1A4_3[i][j])  \n",
        "S1meanrefA1_603 = np.array(S1meanrefA1_603)\n",
        "S1meanA4_103 = np.array(S1meanA4_103)\n",
        "\n",
        "S1hsvrefA1_603 = list()\n",
        "S1hsvA4_103 = list()\n",
        "for i in range(3):\n",
        "    S1hsvrefA1_603.append(S1meanrefA1_603[:,i].mean())\n",
        "    S1hsvA4_103.append(S1meanA4_103[:,i].mean())"
      ],
      "execution_count": null,
      "outputs": []
    },
    {
      "cell_type": "code",
      "metadata": {
        "id": "3uzrToiraD7A"
      },
      "source": [
        "S1meanrefA1_703 = list()\n",
        "S1meanB1_103 = list()\n",
        "for i in range(S1HSV_imgA1B1_3.shape[0]): \n",
        "     for j in range(S1HSV_imgA1B1_3.shape[1]): \n",
        "                if 1769<i<1881 and 2019<j<2131 :\n",
        "                  S1meanrefA1_703.append(S1HSV_imgA1B1_3[i][j])\n",
        "                if 1770<i<1880 and 2015<j<2145 :\n",
        "                  S1meanB1_103.append(S1HSV_imgA1B1_3[i][j])  \n",
        "S1meanrefA1_703 = np.array(S1meanrefA1_703)\n",
        "S1meanB1_103 = np.array(S1meanB1_103)\n",
        "\n",
        "S1hsvrefA1_703 = list()\n",
        "S1hsvB1_103 = list()\n",
        "for i in range(3):\n",
        "    S1hsvrefA1_703.append(S1meanrefA1_703[:,i].mean())\n",
        "    S1hsvB1_103.append(S1meanB1_103[:,i].mean())"
      ],
      "execution_count": null,
      "outputs": []
    },
    {
      "cell_type": "code",
      "metadata": {
        "id": "H07I0B3FaD7A"
      },
      "source": [
        "S1meanrefA1_803 = list()\n",
        "S1meanB2_103 = list()\n",
        "for i in range(S1HSV_imgA1B2_3.shape[0]): \n",
        "     for j in range(S1HSV_imgA1B2_3.shape[1]): \n",
        "                if 1769<i<1881 and 2019<j<2131 :\n",
        "                  S1meanrefA1_803.append(S1HSV_imgA1B2_3[i][j])\n",
        "                if 1770<i<1880 and 2015<j<2145 :\n",
        "                  S1meanB2_103.append(S1HSV_imgA1B2_3[i][j])  \n",
        "S1meanrefA1_803 = np.array(S1meanrefA1_803)\n",
        "S1meanB2_103 = np.array(S1meanB2_103\n",
        "\n",
        "S1hsvrefA1_803 = list()\n",
        "S1hsvB2_103 = list()\n",
        "for i in range(3):\n",
        "    S1hsvrefA1_8.append(S1meanrefA1_803[:,i].mean())\n",
        "    S1hsvB2_1.append(S1meanB2_103[:,i].mean())"
      ],
      "execution_count": null,
      "outputs": []
    },
    {
      "cell_type": "code",
      "metadata": {
        "id": "scFxo4IkaD7B"
      },
      "source": [
        "S1meanrefA1_903 = list()\n",
        "S1meanB3_103 = list()\n",
        "for i in range(S1HSV_imgA1B3_3.shape[0]): \n",
        "     for j in range(S1HSV_imgA1B3_3.shape[1]): \n",
        "                if 1769<i<1881 and 2019<j<2131 :\n",
        "                  S1meanrefA1_903.append(S1HSV_imgA1B3_3[i][j])\n",
        "                if 1770<i<1880 and 2015<j<2145 :\n",
        "                  S1meanB3_103.append(S1HSV_imgA1B3_3[i][j])  \n",
        "S1meanrefA1_903 = np.array(S1meanrefA1_903)\n",
        "S1meanB3_103 = np.array(S1meanB3_103)\n",
        "\n",
        "S1hsvrefA1_903 = list()\n",
        "S1hsvB3_103 = list()\n",
        "for i in range(3):\n",
        "    S1hsvrefA1_903.append(S1meanrefA1_9[:,i].mean())\n",
        "    S1hsvB3_103.append(S1meanB3_1[:,i].mean())"
      ],
      "execution_count": null,
      "outputs": []
    },
    {
      "cell_type": "code",
      "metadata": {
        "id": "upHvOqQMaD7B"
      },
      "source": [
        "S1meanrefA1_1003 = list()\n",
        "S1meanB4_103 = list()\n",
        "for i in range(S1HSV_imgA1B4_3.shape[0]): \n",
        "     for j in range(S1HSV_imgA1B4_3.shape[1]): \n",
        "                if 1769<i<1881 and 2019<j<2131 :\n",
        "                  S1meanrefA1_1003.append(S1HSV_imgA1B4_3[i][j])\n",
        "                if 1770<i<1880 and 2015<j<2145 :\n",
        "                  S1meanB4_103.append(S1HSV_imgA1B4_3[i][j])  \n",
        "S1meanrefA1_1003 = np.array(S1meanrefA1_1003)\n",
        "S1meanB4_103 = np.array(S1meanB4_103)\n",
        "\n",
        "S1hsvrefA1_1003 = list()\n",
        "S1hsvB4_103 = list()\n",
        "for i in range(3):\n",
        "    S1hsvrefA1_1003.append(S1meanrefA1_1003[:,i].mean())\n",
        "    S1hsvB4_103.append(S1meanB4_103[:,i].mean())"
      ],
      "execution_count": null,
      "outputs": []
    },
    {
      "cell_type": "code",
      "metadata": {
        "id": "DTwQ6hWzaD7C"
      },
      "source": [
        "S1meanrefA1_1103 = list()\n",
        "S1meanC1_103 = list()\n",
        "for i in range(S1HSV_imgA1C1_3.shape[0]): \n",
        "     for j in range(S1HSV_imgA1C1_3.shape[1]): \n",
        "                if 1769<i<1881 and 2019<j<2131 :\n",
        "                  S1meanrefA1_1103.append(S1HSV_imgA1C1_3[i][j])\n",
        "                if 1770<i<1880 and 2015<j<2145 :\n",
        "                  S1meanC1_103.append(S1HSV_imgA1C1_3[i][j])  \n",
        "S1meanrefA1_1103 = np.array(S1meanrefA1_1103)\n",
        "S1meanC1_103 = np.array(S1meanC1_103)\n",
        "\n",
        "S1hsvrefA1_11 = list()\n",
        "S1hsvC1_103 = list()\n",
        "for i in range(3):\n",
        "    S1hsvrefA1_1103.append(S1meanrefA1_1103[:,i].mean())\n",
        "    S1hsvC1_103.append(S1meanC1_103[:,i].mean())"
      ],
      "execution_count": null,
      "outputs": []
    },
    {
      "cell_type": "code",
      "metadata": {
        "id": "VhGjLm5PaD7D"
      },
      "source": [
        "S1meanrefA1_1203 = list()\n",
        "S1meanC2_103 = list()\n",
        "for i in range(S1HSV_imgA1C2_3.shape[0]): \n",
        "     for j in range(S1HSV_imgA1C2_3.shape[1]): \n",
        "                if 1769<i<1881 and 2019<j<2131 :\n",
        "                  S1meanrefA1_1203.append(S1HSV_imgA1C2_3[i][j])\n",
        "                if 1770<i<1880 and 2015<j<2145 :\n",
        "                  S1meanC2_103.append(S1HSV_imgA1C2_3[i][j])  \n",
        "S1meanrefA1_1203 = np.array(S1meanrefA1_1203)\n",
        "S1meanC2_103 = np.array(S1meanC2_103)\n",
        "\n",
        "S1hsvrefA1_1203 = list()\n",
        "S1hsvC2_103 = list()\n",
        "for i in range(3):\n",
        "    S1hsvrefA1_1203.append(S1meanrefA1_1203[:,i].mean())\n",
        "    S1hsvC2_103.append(S1meanC2_103[:,i].mean())"
      ],
      "execution_count": null,
      "outputs": []
    },
    {
      "cell_type": "code",
      "metadata": {
        "id": "PVa_ARI7aD7D"
      },
      "source": [
        "S1meanrefA1_1303 = list()\n",
        "S1meanC3_103 = list()\n",
        "for i in range(S1HSV_imgA1C3_3.shape[0]): \n",
        "     for j in range(S1HSV_imgA1C3_3.shape[1]): \n",
        "                if 1769<i<1881 and 2019<j<2131 :\n",
        "                  S1meanrefA1_1303.append(S1HSV_imgA1C3_3[i][j])\n",
        "                if 1770<i<1880 and 2015<j<2145 :\n",
        "                  S1meanC3_103.append(S1HSV_imgA1C3_3[i][j])  \n",
        "S1meanrefA1_1303 = np.array(S1meanrefA1_130303)\n",
        "S1meanC3_103 = np.array(S1meanC3_103)\n",
        "\n",
        "S1hsvrefA1_1303 = list()\n",
        "S1hsvC3_103 = list()\n",
        "for i in range(3):\n",
        "    S1hsvrefA1_1303.append(S1meanrefA1_1303[:,i].mean())\n",
        "    S1hsvC3_103.append(S1meanC3_103[:,i].mean())"
      ],
      "execution_count": null,
      "outputs": []
    },
    {
      "cell_type": "code",
      "metadata": {
        "id": "9rsxA2L8aD7D"
      },
      "source": [
        "S1meanrefA1_1403 = list()\n",
        "S1meanC4_103 = list()\n",
        "for i in range(S1HSV_imgA1C4_3.shape[0]): \n",
        "     for j in range(S1HSV_imgA1C4_3.shape[1]): \n",
        "                if 1769<i<1881 and 2019<j<2131 :\n",
        "                  S1meanrefA1_14.append(S1HSV_imgA1C4_3[i][j])\n",
        "                if 1770<i<1880 and 2015<j<2145 :\n",
        "                  S1meanC4_103.append(S1HSV_imgA1C4_3[i][j])  \n",
        "S1meanrefA1_1403 = np.array(S1meanrefA1_1403)\n",
        "S1meanC4_103 = np.array(S1meanC4_103)\n",
        "\n",
        "S1hsvrefA1_1403 = list()\n",
        "S1hsvC4_103 = list()\n",
        "for i in range(3):\n",
        "    S1hsvrefA1_1403.append(S1meanrefA1_1403[:,i].mean())\n",
        "    S1hsvC4_103.append(S1meanC4_103[:,i].mean())"
      ],
      "execution_count": null,
      "outputs": []
    },
    {
      "cell_type": "code",
      "metadata": {
        "id": "IeBME7OKaD7E"
      },
      "source": [
        "S1meanrefA1_1503 = list()\n",
        "S1meanD2_103 = list()\n",
        "for i in range(S1HSV_imgA1D2_303.shape[0]): \n",
        "     for j in range(S1HSV_imgA1D2_303.shape[1]): \n",
        "                if 1769<i<1881 and 2019<j<2131 :\n",
        "                  S1meanrefA1_1503.append(S1HSV_imgA1D2_303[i][j])\n",
        "                if 1770<i<1880 and 2015<j<2145 :\n",
        "                  S1meanD2_103.append(S1HSV_imgA1D2_303[i][j])  \n",
        "S1meanrefA1_1503 = np.array(S1meanrefA1_1503)\n",
        "S1meanD2_103 = np.array(S1meanD2_103)\n",
        "\n",
        "S1hsvrefA1_1503 = list()\n",
        "S1hsvD2_103 = list()\n",
        "for i in range(3):\n",
        "    S1hsvrefA1_1503.append(S1meanrefA1_1503[:,i].mean())\n",
        "    S1hsvD2_103.append(S1meanD2_103[:,i].mean())"
      ],
      "execution_count": null,
      "outputs": []
    },
    {
      "cell_type": "code",
      "metadata": {
        "id": "w8-WEzxtaD7E"
      },
      "source": [
        "S1meanrefA1_1603 = list()\n",
        "S1meanD3_103 = list()\n",
        "for i in range(S1HSV_imgA1D3_3.shape[0]): \n",
        "     for j in range(S1HSV_imgA1D3_3.shape[1]): \n",
        "                if 1769<i<1881 and 2019<j<2131 :\n",
        "                  S1meanrefA1_16.append(S1HSV_imgA1D3_3[i][j])\n",
        "                if 1770<i<1880 and 2015<j<2145 :\n",
        "                  S1meanD3_1.append(S1HSV_imgA1D3_3[i][j])  \n",
        "S1meanrefA1_1603 = np.array(S1meanrefA1_1603)\n",
        "S1meanD3_103 = np.array(S1meanD3_103)\n",
        "\n",
        "S1hsvrefA1_1603 = list()\n",
        "S1hsvD3_103 = list()\n",
        "for i in range(3):\n",
        "    S1hsvrefA1_1603.append(S1meanrefA1_1603[:,i].mean())\n",
        "    S1hsvD3_103.append(S1meanD3_103[:,i].mean())"
      ],
      "execution_count": null,
      "outputs": []
    },
    {
      "cell_type": "code",
      "metadata": {
        "id": "OIsms0DjaD7F"
      },
      "source": [
        "S1meanrefA1_1703= list()\n",
        "S1meanD4_103 = list()\n",
        "for i in range(S1HSV_imgA1D4_3.shape[0]): \n",
        "     for j in range(S1HSV_imgA1D4_3.shape[1]): \n",
        "                if 1769<i<1881 and 2019<j<2131 :\n",
        "                  S1meanrefA1_1703.append(S1HSV_imgA1D4_3[i][j])\n",
        "                if 1770<i<1880 and 2015<j<2145 :\n",
        "                  S1meanD4_103.append(S1HSV_imgA1D4_3[i][j])  \n",
        "S1meanrefA1_1703 = np.array(S1meanrefA1_1403)\n",
        "S1meanD4_103 = np.array(S1meanD4_103)\n",
        "\n",
        "S1hsvrefA1_1703 = list()\n",
        "S1hsvD4_103 = list()\n",
        "for i in range(3):\n",
        "    S1hsvrefA1_1703.append(S1meanrefA1_1703[:,i].mean())\n",
        "    S1hsvD4_103.append(S1meanD4_103[:,i].mean())"
      ],
      "execution_count": null,
      "outputs": []
    },
    {
      "cell_type": "markdown",
      "metadata": {
        "id": "ccU_XQuv8nEE"
      },
      "source": [
        "###Img 4"
      ]
    },
    {
      "cell_type": "code",
      "metadata": {
        "id": "wvN1uUmKaICO"
      },
      "source": [
        "S1meanrefA1_104 = list()\n",
        "S1meanA1_204 = list()\n",
        "for i in range(S1HSV_imgA1A1_4.shape[0]): #ให้ i รันตาม row หรือ shape[0] คือแถว มีทั้งหมด 4032 แถว ของภาพที่ปรับขนาดมาแล้ว\n",
        "     for j in range(S1HSV_imgA1A1_4.shape[1]): #ให้ j รันตาม colum มีทั้งหมด 3024 colum เช่น แถวที่ 1 เข้ามาให้รันครบ 3024colum\n",
        "                if 1769<i<1881 and 2019<j<2131 :\n",
        "                  S1meanrefA1_104.append(S1HSV_imgA1A1_4[i][j])\n",
        "                if 1770<i<1880 and 2015<j<2145 :\n",
        "                  S1meanA1_204.append(S1HSV_imgA1A1_[i][j])  \n",
        "S1meanrefA1_104 = np.array(S1meanrefA1_104)\n",
        "S1meanA1_204 = np.array(S1meanA1_204)\n",
        "\n",
        "S1hsvrefA1_104 = list()\n",
        "S1hsvA1_204 = list()\n",
        "for i in range(3):\n",
        "    S1hsvrefA1_104.append(S1meanrefA1_104[:,i].mean())\n",
        "    S1hsvA1_204.append(S1meanA1_204[:,i].mean())\n",
        "S1hsvrefA1_104,S1hsvA1_204 "
      ],
      "execution_count": null,
      "outputs": []
    },
    {
      "cell_type": "code",
      "metadata": {
        "id": "yVzXURhOaICP"
      },
      "source": [
        "S1meanrefA1_304 = list()\n",
        "S1meanA2_104 = list()\n",
        "for i in range(S1HSV_imgA1A2_4.shape[0]): \n",
        "     for j in range(S1HSV_imgA1A2_4.shape[1]): \n",
        "                if 1769<i<1881 and 2019<j<2131 :\n",
        "                  S1meanrefA1_304.append(S1HSV_imgA1A2_4[i][j])\n",
        "                if 1770<i<1880 and 2015<j<2145 :\n",
        "                  S1meanA2_104.append(S1HSV_imgA1A2_4[i][j])  \n",
        "S1meanrefA1_304 = np.array(S1meanrefA1_304)\n",
        "S1meanA2_104 = np.array(S1meanA2_104)\n",
        "\n",
        "S1hsvrefA1_304 = list()\n",
        "S1hsvA2_104 = list()\n",
        "for i in range(3):\n",
        "    S1hsvrefA1_304.append(S1meanrefA1_304[:,i].mean())\n",
        "    S1hsvA2_104.append(S1meanA2_104[:,i].mean())"
      ],
      "execution_count": null,
      "outputs": []
    },
    {
      "cell_type": "code",
      "metadata": {
        "id": "OYidQZ77aICQ"
      },
      "source": [
        "S1meanrefA1_404 = list()\n",
        "S1meanA3_104 = list()\n",
        "for i in range(S1HSV_imgA1A3_4.shape[0]): \n",
        "     for j in range(S1HSV_imgA1A3_4.shape[1]): \n",
        "                if 1769<i<1881 and 2019<j<2131 :\n",
        "                  S1meanrefA1_404.append(S1HSV_imgA1A3_4[i][j])\n",
        "                if 1770<i<1880 and 2015<j<2145 :\n",
        "                  S1meanA3_104.append(S1HSV_imgA1A3_4[i][j])  \n",
        "S1meanrefA1_404 = np.array(S1meanrefA1_404)\n",
        "S1meanA3_104 = np.array(S1meanA3_104)\n",
        "\n",
        "S1hsvrefA1_404 = list()\n",
        "S1hsvA3_104 = list()\n",
        "for i in range(3):\n",
        "    S1hsvrefA1_404.append(S1meanrefA1_404[:,i].mean())\n",
        "    S1hsvA3_104.append(S1meanA3_104[:,i].mean())"
      ],
      "execution_count": null,
      "outputs": []
    },
    {
      "cell_type": "code",
      "metadata": {
        "id": "RDGFdA8QaICR"
      },
      "source": [
        "S1meanrefA1_504 = list()\n",
        "S1meanA3_5104 = list()\n",
        "for i in range(S1HSV_imgA1A3_54.shape[0]): \n",
        "     for j in range(S1HSV_imgA1A3_54.shape[1]): \n",
        "                if 1769<i<1881 and 2019<j<2131 :\n",
        "                  S1meanrefA1_504.append(S1HSV_imgA1A3_54[i][j])\n",
        "                if 1770<i<1880 and 2015<j<2145 :\n",
        "                  S1meanA3_5104.append(S1HSV_imgA1A3_54[i][j])  \n",
        "S1meanrefA1_504 = np.array(S1meanrefA1_504)\n",
        "S1meanA3_5104 = np.array(S1meanA3_5104)\n",
        "\n",
        "S1hsvrefA1_504 = list()\n",
        "S1hsvA3_5104 = list()\n",
        "for i in range(3):\n",
        "    S1hsvrefA1_504.append(S1meanrefA1_504[:,i].mean())\n",
        "    S1hsvA3_5104.append(S1meanA3_5104[:,i].mean())"
      ],
      "execution_count": null,
      "outputs": []
    },
    {
      "cell_type": "code",
      "metadata": {
        "id": "phmsZ1pVaICR"
      },
      "source": [
        "S1meanrefA1_604 = list()\n",
        "S1meanA4_104 = list()\n",
        "for i in range(S1HSV_imgA1A4_4.shape[0]): \n",
        "     for j in range(S1HSV_imgA1A4_4.shape[1]): \n",
        "                if 1769<i<1881 and 2019<j<2131 :\n",
        "                  S1meanrefA1_604.append(S1HSV_imgA1A4_4[i][j])\n",
        "                if 1770<i<1880 and 2015<j<2145 :\n",
        "                  S1meanA4_104.append(S1HSV_imgA1A4_[i][j])  \n",
        "S1meanrefA1_604 = np.array(S1meanrefA1_604)\n",
        "S1meanA4_104 = np.array(S1meanA4_104)\n",
        "\n",
        "S1hsvrefA1_604 = list()\n",
        "S1hsvA4_104 = list()\n",
        "for i in range(3):\n",
        "    S1hsvrefA1_604.append(S1meanrefA1_604[:,i].mean())\n",
        "    S1hsvA4_104.append(S1meanA4_104[:,i].mean())"
      ],
      "execution_count": null,
      "outputs": []
    },
    {
      "cell_type": "code",
      "metadata": {
        "id": "jVkmiIbYaICS"
      },
      "source": [
        "S1meanrefA1_704 = list()\n",
        "S1meanB1_104 = list()\n",
        "for i in range(S1HSV_imgA1B1_4.shape[0]): \n",
        "     for j in range(S1HSV_imgA1B1_4.shape[1]): \n",
        "                if 1769<i<1881 and 2019<j<2131 :\n",
        "                  S1meanrefA1_7.append(S1HSV_imgA1B1_4[i][j])\n",
        "                if 1770<i<1880 and 2015<j<2145 :\n",
        "                  S1meanB1_1.append(S1HSV_imgA1B1_4[i][j])  \n",
        "S1meanrefA1_704 = np.array(S1meanrefA1_704)\n",
        "S1meanB1_104 = np.array(S1meanB1_104)\n",
        "\n",
        "S1hsvrefA1_704 = list()\n",
        "S1hsvB1_104 = list()\n",
        "for i in range(3):\n",
        "    S1hsvrefA1_704.append(S1meanrefA1_704[:,i].mean())\n",
        "    S1hsvB1_104.append(S1meanB1_104[:,i].mean())"
      ],
      "execution_count": null,
      "outputs": []
    },
    {
      "cell_type": "code",
      "metadata": {
        "id": "01iHJyeDaICS"
      },
      "source": [
        "S1meanrefA1_804 = list()\n",
        "S1meanB2_104 = list()\n",
        "for i in range(S1HSV_imgA1B2_4.shape[0]): \n",
        "     for j in range(S1HSV_imgA1B2_4.shape[1]): \n",
        "                if 1769<i<1881 and 2019<j<2131 :\n",
        "                  S1meanrefA1_804.append(S1HSV_imgA1B2_4[i][j])\n",
        "                if 1770<i<1880 and 2015<j<2145 :\n",
        "                  S1meanB2_104.append(S1HSV_imgA1B2_4[i][j])  \n",
        "S1meanrefA1_804 = np.array(S1meanrefA1_804)\n",
        "S1meanB2_104 = np.array(S1meanB2_104)\n",
        "\n",
        "S1hsvrefA1_804 = list()\n",
        "S1hsvB2_104 = list()\n",
        "for i in range(3):\n",
        "    S1hsvrefA1_804.append(S1meanrefA1_804[:,i].mean())\n",
        "    S1hsvB2_104.append(S1meanB2_104[:,i].mean())"
      ],
      "execution_count": null,
      "outputs": []
    },
    {
      "cell_type": "code",
      "metadata": {
        "id": "xKzJJkajaICT"
      },
      "source": [
        "S1meanrefA1_904 = list()\n",
        "S1meanB3_104 = list()\n",
        "for i in range(S1HSV_imgA1B3_404.shape[0]): \n",
        "     for j in range(S1HSV_imgA1B3_404.shape[1]): \n",
        "                if 1769<i<1881 and 2019<j<2131 :\n",
        "                  S1meanrefA1_904.append(S1HSV_imgA1B3_4[i][j])\n",
        "                if 1770<i<1880 and 2015<j<2145 :\n",
        "                  S1meanB3_104.append(S1HSV_imgA1B3_4[i][j])  \n",
        "S1meanrefA1_904 = np.array(S1meanrefA1_904)\n",
        "S1meanB3_104 = np.array(S1meanB3_104)\n",
        "\n",
        "S1hsvrefA1_904 = list()\n",
        "S1hsvB3_104 = list()\n",
        "for i in range(3):\n",
        "    S1hsvrefA1_904.append(S1meanrefA1_904[:,i].mean())\n",
        "    S1hsvB3_104.append(S1meanB3_104[:,i].mean())"
      ],
      "execution_count": null,
      "outputs": []
    },
    {
      "cell_type": "code",
      "metadata": {
        "id": "xZvWsisKaICT"
      },
      "source": [
        "S1meanrefA1_1004 = list()\n",
        "S1meanB4_104 = list()\n",
        "for i in range(S1HSV_imgA1B4_4.shape[0]): \n",
        "     for j in range(S1HSV_imgA1B4_4.shape[1]): \n",
        "                if 1769<i<1881 and 2019<j<2131 :\n",
        "                  S1meanrefA1_1004.append(S1HSV_imgA1B4_4[i][j])\n",
        "                if 1770<i<1880 and 2015<j<2145 :\n",
        "                  S1meanB4_104.append(S1HSV_imgA1B4_4[i][j])  \n",
        "S1meanrefA1_1004 = np.array(S1meanrefA1_1004)\n",
        "S1meanB4_104 = np.array(S1meanB4_104)\n",
        "\n",
        "S1hsvrefA1_1004 = list()\n",
        "S1hsvB4_104= list()\n",
        "for i in range(3):\n",
        "    S1hsvrefA1_1004.append(S1meanrefA1_1004[:,i].mean())\n",
        "    S1hsvB4_104.append(S1meanB4_104[:,i].mean())"
      ],
      "execution_count": null,
      "outputs": []
    },
    {
      "cell_type": "code",
      "metadata": {
        "id": "K9eqM_dhaICU"
      },
      "source": [
        "S1meanrefA1_1104 = list()\n",
        "S1meanC1_104 = list()\n",
        "for i in range(S1HSV_imgA1C1_4.shape[0]): \n",
        "     for j in range(S1HSV_imgA1C1_4.shape[1]): \n",
        "                if 1769<i<1881 and 2019<j<2131 :\n",
        "                  S1meanrefA1_1104.append(S1HSV_imgA1C1_4[i][j])\n",
        "                if 1770<i<1880 and 2015<j<2145 :\n",
        "                  S1meanC1_104.append(S1HSV_imgA1C1_4[i][j])  \n",
        "S1meanrefA1_1104 = np.array(S1meanrefA1_1104)\n",
        "S1meanC1_104 = np.array(S1meanC1_104)\n",
        "\n",
        "S1hsvrefA1_1104 = list()\n",
        "S1hsvC1_104 = list()\n",
        "for i in range(3):\n",
        "    S1hsvrefA1_1104.append(S1meanrefA1_1104[:,i].mean())\n",
        "    S1hsvC1_104.append(S1meanC1_104[:,i].mean())"
      ],
      "execution_count": null,
      "outputs": []
    },
    {
      "cell_type": "code",
      "metadata": {
        "id": "uuX8MaetaICW"
      },
      "source": [
        "S1meanrefA1_1204 = list()\n",
        "S1meanC2_104 = list()\n",
        "for i in range(S1HSV_imgA1C2_4.shape[0]): \n",
        "     for j in range(S1HSV_imgA1C2_4.shape[1]): \n",
        "                if 1769<i<1881 and 2019<j<2131 :\n",
        "                  S1meanrefA1_1204.append(S1HSV_imgA1C2_4[i][j])\n",
        "                if 1770<i<1880 and 2015<j<2145 :\n",
        "                  S1meanC2_104.append(S1HSV_imgA1C2_4[i][j])  \n",
        "S1meanrefA1_1204 = np.array(S1meanrefA1_1204)\n",
        "S1meanC2_1อ = np.array(S1meanC2_104)\n",
        "\n",
        "S1hsvrefA1_1204 = list()\n",
        "S1hsvC2_104 = list()\n",
        "for i in range(3):\n",
        "    S1hsvrefA1_1204.append(S1meanrefA1_1204[:,i].mean())\n",
        "    S1hsvC2_104.append(S1meanC2_104[:,i].mean())"
      ],
      "execution_count": null,
      "outputs": []
    },
    {
      "cell_type": "code",
      "metadata": {
        "id": "NapZ8mwHaICY"
      },
      "source": [
        "S1meanrefA1_1304 = list()\n",
        "S1meanC3_104 = list()\n",
        "for i in range(S1HSV_imgA1C3_4.shape[0]): \n",
        "     for j in range(S1HSV_imgA1C3_4.shape[1]): \n",
        "                if 1769<i<1881 and 2019<j<2131 :\n",
        "                  S1meanrefA1_1304.append(S1HSV_imgA1C3_4[i][j])\n",
        "                if 1770<i<1880 and 2015<j<2145 :\n",
        "                  S1meanC3_104.append(S1HSV_imgA1C3_4[i][j])  \n",
        "S1meanrefA1_1304 = np.array(S1meanrefA1_1304)\n",
        "S1meanC3_104 = np.array(S1meanC3_104)\n",
        "\n",
        "S1hsvrefA1_1304 = list()\n",
        "S1hsvC3_104 = list()\n",
        "for i in range(3):\n",
        "    S1hsvrefA1_1304.append(S1meanrefA1_1304[:,i].mean())\n",
        "    S1hsvC3_104.append(S1meanC3_104[:,i].mean())"
      ],
      "execution_count": null,
      "outputs": []
    },
    {
      "cell_type": "code",
      "metadata": {
        "id": "ZsekeOCDaICZ"
      },
      "source": [
        "S1meanrefA1_1404 = list()\n",
        "S1meanC4_104 = list()\n",
        "for i in range(S1HSV_imgA1C4_4.shape[0]): \n",
        "     for j in range(S1HSV_imgA1C4_4.shape[1]): \n",
        "                if 1769<i<1881 and 2019<j<2131 :\n",
        "                  S1meanrefA1_1404.append(S1HSV_imgA1C4_4[i][j])\n",
        "                if 1770<i<1880 and 2015<j<2145 :\n",
        "                  S1meanC4_104.append(S1HSV_imgA1C4_4[i][j])  \n",
        "S1meanrefA1_1404 = np.array(S1meanrefA1_14)\n",
        "S1meanC4_104 = np.array(S1meanC4_1)\n",
        "\n",
        "S1hsvrefA1_1404 = list()\n",
        "S1hsvC4_104 = list()\n",
        "for i in range(3):\n",
        "    S1hsvrefA1_1404.append(S1meanrefA1_1404[:,i].mean())\n",
        "    S1hsvC4_104.append(S1meanC4_104[:,i].mean())"
      ],
      "execution_count": null,
      "outputs": []
    },
    {
      "cell_type": "code",
      "metadata": {
        "id": "otvoaOftaICa"
      },
      "source": [
        "S1meanrefA1_1504 = list()\n",
        "S1meanD2_104 = list()\n",
        "for i in range(S1HSV_imgA1D2_4.shape[0]): \n",
        "     for j in range(S1HSV_imgA1D2_4.shape[1]): \n",
        "                if 1769<i<1881 and 2019<j<2131 :\n",
        "                  S1meanrefA1_1504.append(S1HSV_imgA1D2_4[i][j])\n",
        "                if 1770<i<1880 and 2015<j<2145 :\n",
        "                  S1meanD2_104.append(S1HSV_imgA1D2_4[i][j])  \n",
        "S1meanrefA1_1504 = np.array(S1meanrefA1_1504)\n",
        "S1meanD2_104 = np.array(S1meanD2_104)\n",
        "\n",
        "S1hsvrefA1_1504 = list()\n",
        "S1hsvD2_104 = list()\n",
        "for i in range(3):\n",
        "    S1hsvrefA1_1504.append(S1meanrefA1_1504[:,i].mean())\n",
        "    S1hsvD2_104.append(S1meanD2_104[:,i].mean())"
      ],
      "execution_count": null,
      "outputs": []
    },
    {
      "cell_type": "code",
      "metadata": {
        "id": "IH5MJeHdaICa"
      },
      "source": [
        "S1meanrefA1_1604 = list()\n",
        "S1meanD3_104 = list()\n",
        "for i in range(S1HSV_imgA1D3_4.shape[0]): \n",
        "     for j in range(S1HSV_imgA1D3_4.shape[1]): \n",
        "                if 1769<i<1881 and 2019<j<2131 :\n",
        "                  S1meanrefA1_1604.append(S1HSV_imgA1D3_4[i][j])\n",
        "                if 1770<i<1880 and 2015<j<2145 :\n",
        "                  S1meanD3_104.append(S1HSV_imgA1D3_4[i][j])  \n",
        "S1meanrefA1_1604 = np.array(S1meanrefA1_1604)\n",
        "S1meanD3_104 = np.array(S1meanD3_104)\n",
        "\n",
        "S1hsvrefA1_1604 = list()\n",
        "S1hsvD3_104 = list()\n",
        "for i in range(3):\n",
        "    S1hsvrefA1_1604.append(S1meanrefA1_1604[:,i].mean())\n",
        "    S1hsvD3_104.append(S1meanD3_104[:,i].mean())"
      ],
      "execution_count": null,
      "outputs": []
    },
    {
      "cell_type": "code",
      "metadata": {
        "id": "h610zfiwaICa"
      },
      "source": [
        "S1meanrefA1_1704= list()\n",
        "S1meanD4_104 = list()\n",
        "for i in range(S1HSV_imgA1D4_4.shape[0]): \n",
        "     for j in range(S1HSV_imgA1D4_4.shape[1]): \n",
        "                if 1769<i<1881 and 2019<j<2131 :\n",
        "                  S1meanrefA1_1704.append(S1HSV_imgA1D4_4[i][j])\n",
        "                if 1770<i<1880 and 2015<j<2145 :\n",
        "                  S1meanD4_104.append(S1HSV_imgA1D4_4[i][j])  \n",
        "S1meanrefA1_1704 = np.array(S1meanrefA1_1404)\n",
        "S1meanD4_104 = np.array(S1meanD4_104)\n",
        "\n",
        "S1hsvrefA1_1704 = list()\n",
        "S1hsvD4_104 = list()\n",
        "for i in range(3):\n",
        "    S1hsvrefA1_1704.append(S1meanrefA1_1704[:,i].mean())\n",
        "    S1hsvD4_104.append(S1meanD4_104[:,i].mean())"
      ],
      "execution_count": null,
      "outputs": []
    },
    {
      "cell_type": "markdown",
      "metadata": {
        "id": "j3cXkom98pAa"
      },
      "source": [
        "###Img 5"
      ]
    },
    {
      "cell_type": "code",
      "metadata": {
        "id": "amRJlxpuaJL5"
      },
      "source": [
        "S1meanrefA1_105 = list()\n",
        "S1meanA1_205 = list()\n",
        "for i in range(S1HSV_imgA1A1_5.shape[0]): #ให้ i รันตาม row หรือ shape[0] คือแถว มีทั้งหมด 4032 แถว ของภาพที่ปรับขนาดมาแล้ว\n",
        "     for j in range(S1HSV_imgA1A1_5.shape[1]): #ให้ j รันตาม colum มีทั้งหมด 3024 colum เช่น แถวที่ 1 เข้ามาให้รันครบ 3024colum\n",
        "                if 1769<i<1881 and 2019<j<2131 :\n",
        "                  S1meanrefA1_105.append(S1HSV_imgA1A1_505[i][j])\n",
        "                if 1770<i<1880 and 2015<j<2145 :\n",
        "                  S1meanA1_205.append(S1HSV_imgA1A1_505[i][j])  \n",
        "S1meanrefA1_105 = np.array(S1meanrefA1_105)\n",
        "S1meanA1_205 = np.array(S1meanA1_205)\n",
        "\n",
        "S1hsvrefA1_105 = list()\n",
        "S1hsvA1_205 = list()\n",
        "for i in range(3):\n",
        "    S1hsvrefA1_105.append(S1meanrefA1_105[:,i].mean())\n",
        "    S1hsvA1_205.append(S1meanA1_205[:,i].mean())\n",
        "S1hsvrefA1_105,S1hsvA1_205 "
      ],
      "execution_count": null,
      "outputs": []
    },
    {
      "cell_type": "code",
      "metadata": {
        "id": "fElJ0l6-aJL6"
      },
      "source": [
        "S1meanrefA1_305 = list()\n",
        "S1meanA2_105 = list()\n",
        "for i in range(S1HSV_imgA1A2_5.shape[0]): \n",
        "     for j in range(S1HSV_imgA1A2_5.shape[1]): \n",
        "                if 1769<i<1881 and 2019<j<2131 :\n",
        "                  S1meanrefA1_305.append(S1HSV_imgA1A2_5[i][j])\n",
        "                if 1770<i<1880 and 2015<j<2145 :\n",
        "                  S1meanA2_105.append(S1HSV_imgA1A2_5[i][j])  \n",
        "S1meanrefA1_305 = np.array(S1meanrefA1_305)\n",
        "S1meanA2_105 = np.array(S1meanA2_105)\n",
        "\n",
        "S1hsvrefA1_305 = list()\n",
        "S1hsvA2_105 = list()\n",
        "for i in range(3):\n",
        "    S1hsvrefA1_305.append(S1meanrefA1_305[:,i].mean())\n",
        "    S1hsvA2_105.append(S1meanA2_105[:,i].mean())"
      ],
      "execution_count": null,
      "outputs": []
    },
    {
      "cell_type": "code",
      "metadata": {
        "id": "SmoplvtRaJL7"
      },
      "source": [
        "S1meanrefA1_405 = list()\n",
        "S1meanA3_105 = list()\n",
        "for i in range(S1HSV_imgA1A3_5.shape[0]): \n",
        "     for j in range(S1HSV_imgA1A3_5.shape[1]): \n",
        "                if 1769<i<1881 and 2019<j<2131 :\n",
        "                  S1meanrefA1_405.append(S1HSV_imgA1A3_5[i][j])\n",
        "                if 1770<i<1880 and 2015<j<2145 :\n",
        "                  S1meanA3_105.append(S1HSV_imgA1A3_5[i][j])  \n",
        "S1meanrefA1_405 = np.array(S1meanrefA1_405)\n",
        "S1meanA3_1อ = np.array(S1meanA3_105)\n",
        "\n",
        "S1hsvrefA1_405 = list()\n",
        "S1hsvA3_105= list()\n",
        "for i in range(3):\n",
        "    S1hsvrefA1_405.append(S1meanrefA1_405[:,i].mean())\n",
        "    S1hsvA3_105.append(S1meanA3_105[:,i].mean())"
      ],
      "execution_count": null,
      "outputs": []
    },
    {
      "cell_type": "code",
      "metadata": {
        "id": "YBgssB_7aJL7"
      },
      "source": [
        "S1meanrefA1_505 = list()\n",
        "S1meanA3_5105 = list()\n",
        "for i in range(S1HSV_imgA1A3_55.shape[0]): \n",
        "     for j in range(S1HSV_imgA1A3_55.shape[1]): \n",
        "                if 1769<i<1881 and 2019<j<2131 :\n",
        "                  S1meanrefA1_505.append(S1HSV_imgA1A3_55[i][j])\n",
        "                if 1770<i<1880 and 2015<j<2145 :\n",
        "                  S1meanA3_5105.append(S1HSV_imgA1A3_55[i][j])  \n",
        "S1meanrefA1_505 = np.array(S1meanrefA1_505)\n",
        "S1meanA3_5105 = np.array(S1meanA3_5105)\n",
        "\n",
        "S1hsvrefA1_505= list()\n",
        "S1hsvA3_5105 = list()\n",
        "for i in range(3):\n",
        "    S1hsvrefA1_505.append(S1meanrefA1_505[:,i].mean())\n",
        "    S1hsvA3_5105.append(S1meanA3_5105[:,i].mean())"
      ],
      "execution_count": null,
      "outputs": []
    },
    {
      "cell_type": "code",
      "metadata": {
        "id": "LYdkCfgdaJL8"
      },
      "source": [
        "S1meanrefA1_605 = list()\n",
        "S1meanA4_105= list()\n",
        "for i in range(S1HSV_imgA1A4_5.shape[0]): \n",
        "     for j in range(S1HSV_imgA1A4_5.shape[1]): \n",
        "                if 1769<i<1881 and 2019<j<2131 :\n",
        "                  S1meanrefA1_605.append(S1HSV_imgA1A4_5[i][j])\n",
        "                if 1770<i<1880 and 2015<j<2145 :\n",
        "                  S1meanA4_105.append(S1HSV_imgA1A4_5[i][j])  \n",
        "S1meanrefA1_605 = np.array(S1meanrefA1_605)\n",
        "S1meanA4_105 = np.array(S1meanA4_105)\n",
        "\n",
        "S1hsvrefA1_6อ = list()\n",
        "S1hsvA4_105 = list()\n",
        "for i in range(3):\n",
        "    S1hsvrefA1_6อ.append(S1meanrefA1_605[:,i].mean())\n",
        "    S1hsvA4_105.append(S1meanA4_105[:,i].mean())"
      ],
      "execution_count": null,
      "outputs": []
    },
    {
      "cell_type": "code",
      "metadata": {
        "id": "gHBQsZxiaJL9"
      },
      "source": [
        "S1meanrefA1_705 = list()\n",
        "S1meanB1_105 = list()\n",
        "for i in range(S1HSV_imgA1B1_5.shape[0]): \n",
        "     for j in range(S1HSV_imgA1B1_5.shape[1]): \n",
        "                if 1769<i<1881 and 2019<j<2131 :\n",
        "                  S1meanrefA1_705append(S1HSV_imgA1B1_5[i][j])\n",
        "                if 1770<i<1880 and 2015<j<2145 :\n",
        "                  S1meanB1_105.append(S1HSV_imgA1B1_5[i][j])  \n",
        "S1meanrefA1_705 = np.array(S1meanrefA1_705)\n",
        "S1meanB1_105 = np.array(S1meanB1_105)\n",
        "\n",
        "S1hsvrefA1_705 = list()\n",
        "S1hsvB1_105 = list()\n",
        "for i in range(3):\n",
        "    S1hsvrefA1_705.append(S1meanrefA1_7[:,i].mean())\n",
        "    S1hsvB1_105.append(S1meanB1_1[:,i].mean())"
      ],
      "execution_count": null,
      "outputs": []
    },
    {
      "cell_type": "code",
      "metadata": {
        "id": "7qGd14_BaJL9"
      },
      "source": [
        "S1meanrefA1_805 = list()\n",
        "S1meanB2_105 = list()\n",
        "for i in range(S1HSV_imgA1B2_5.shape[0]): \n",
        "     for j in range(S1HSV_imgA1B2_5.shape[1]): \n",
        "                if 1769<i<1881 and 2019<j<2131 :\n",
        "                  S1meanrefA1_8อ.append(S1HSV_imgA1B2_5[i][j])\n",
        "                if 1770<i<1880 and 2015<j<2145 :\n",
        "                  S1meanB2_105.append(S1HSV_imgA1B2_5[i][j])  \n",
        "S1meanrefA1_805 = np.array(S1meanrefA1_8อ)\n",
        "S1meanB2_105 = np.array(S1meanB2_105)\n",
        "\n",
        "S1hsvrefA1_805 = list()\n",
        "S1hsvB2_105 = list()\n",
        "for i in range(3):\n",
        "    S1hsvrefA1_805.append(S1meanrefA1_805[:,i].mean())\n",
        "    S1hsvB2_105.append(S1meanB2_105[:,i].mean())"
      ],
      "execution_count": null,
      "outputs": []
    },
    {
      "cell_type": "code",
      "metadata": {
        "id": "tuT8A623aJL9"
      },
      "source": [
        "S1meanrefA1_905 = list()\n",
        "S1meanB3_105= list()\n",
        "for i in range(S1HSV_imgA1B3_5.shape[0]): \n",
        "     for j in range(S1HSV_imgA1B3_5.shape[1]): \n",
        "                if 1769<i<1881 and 2019<j<2131 :\n",
        "                  S1meanrefA1_905.append(S1HSV_imgA1B3_5[i][j])\n",
        "                if 1770<i<1880 and 2015<j<2145 :\n",
        "                  S1meanB3_105.append(S1HSV_imgA1B3_5[i][j])  \n",
        "S1meanrefA1_905 = np.array(S1meanrefA1_905)\n",
        "S1meanB3_105 = np.array(S1meanB3_105)\n",
        "\n",
        "S1hsvrefA1_905 = list()\n",
        "S1hsvB3_105 = list()\n",
        "for i in range(3):\n",
        "    S1hsvrefA1_905.append(S1meanrefA1_905[:,i].mean())\n",
        "    S1hsvB3_105.append(S1meanB3_105[:,i].mean())"
      ],
      "execution_count": null,
      "outputs": []
    },
    {
      "cell_type": "code",
      "metadata": {
        "id": "8zaqHapfaJL-"
      },
      "source": [
        "S1meanrefA1_1005 = list()\n",
        "S1meanB4_105 = list()\n",
        "for i in range(S1HSV_imgA1B4_5.shape[0]): \n",
        "     for j in range(S1HSV_imgA1B4_5.shape[1]): \n",
        "                if 1769<i<1881 and 2019<j<2131 :\n",
        "                  S1meanrefA1_1005.append(S1HSV_imgA1B4_5[i][j])\n",
        "                if 1770<i<1880 and 2015<j<2145 :\n",
        "                  S1meanB4_105.append(S1HSV_imgA1B4_5[i][j])  \n",
        "S1meanrefA1_1005 = np.array(S1meanrefA1_1005)\n",
        "S1meanB4_105 = np.array(S1meanB4_105)\n",
        "\n",
        "S1hsvrefA1_1005 = list()\n",
        "S1hsvB4_105 = list()\n",
        "for i in range(3):\n",
        "    S1hsvrefA1_1005.append(S1meanrefA1_1005[:,i].mean())\n",
        "    S1hsvB4_105.append(S1meanB4_105[:,i].mean())"
      ],
      "execution_count": null,
      "outputs": []
    },
    {
      "cell_type": "code",
      "metadata": {
        "id": "06bY9c0LaJL-"
      },
      "source": [
        "S1meanrefA1_1105 = list()\n",
        "S1meanC1_105 = list()\n",
        "for i in range(S1HSV_imgA1C1_5.shape[0]): \n",
        "     for j in range(S1HSV_imgA1C1_5.shape[1]): \n",
        "                if 1769<i<1881 and 2019<j<2131 :\n",
        "                  S1meanrefA1_1105.append(S1HSV_imgA1C1_5[i][j])\n",
        "                if 1770<i<1880 and 2015<j<2145 :\n",
        "                  S1meanC1_105.append(S1HSV_imgA1C1_5[i][j])  \n",
        "S1meanrefA1_1105 = np.array(S1meanrefA1_1105)\n",
        "S1meanC1_105 = np.array(S1meanC1_105)\n",
        "\n",
        "S1hsvrefA1_1105 = list()\n",
        "S1hsvC1_105= list()\n",
        "for i in range(3):\n",
        "    S1hsvrefA1_1105.append(S1meanrefA1_1105[:,i].mean())\n",
        "    S1hsvC1_105.append(S1meanC1_105[:,i].mean())"
      ],
      "execution_count": null,
      "outputs": []
    },
    {
      "cell_type": "code",
      "metadata": {
        "id": "N2jnieV0aJL-"
      },
      "source": [
        "S1meanrefA1_1205 = list()\n",
        "S1meanC2_105 = list()\n",
        "for i in range(S1HSV_imgA1C2_5.shape[0]): \n",
        "     for j in range(S1HSV_imgA1C2_5.shape[1]): \n",
        "                if 1769<i<1881 and 2019<j<2131 :\n",
        "                  S1meanrefA1_1205.append(S1HSV_imgA1C2_5[i][j])\n",
        "                if 1770<i<1880 and 2015<j<2145 :\n",
        "                  S1meanC2_105append(S1HSV_imgA1C2_5[i][j])  \n",
        "S1meanrefA1_1205 = np.array(S1meanrefA1_1205)\n",
        "S1meanC2_105 = np.array(S1meanC2_105)\n",
        "\n",
        "S1hsvrefA1_1205 = list()\n",
        "S1hsvC2_105 = list()\n",
        "for i in range(3):\n",
        "    S1hsvrefA1_1205.append(S1meanrefA1_1205[:,i].mean())\n",
        "    S1hsvC2_105.append(S1meanC2_105[:,i].mean())"
      ],
      "execution_count": null,
      "outputs": []
    },
    {
      "cell_type": "code",
      "metadata": {
        "id": "VhyPBVeaaJL_"
      },
      "source": [
        "S1meanrefA1_1305 = list()\n",
        "S1meanC3_105 = list()\n",
        "for i in range(S1HSV_imgA1C3_5.shape[0]): \n",
        "     for j in range(S1HSV_imgA1C3_5.shape[1]): \n",
        "                if 1769<i<1881 and 2019<j<2131 :\n",
        "                  S1meanrefA1_1305 .append(S1HSV_imgA1C3_5[i][j])\n",
        "                if 1770<i<1880 and 2015<j<2145 :\n",
        "                  S1meanC3_105 .append(S1HSV_imgA1C3_5[i][j])  \n",
        "S1meanrefA1_1305 = np.array(S1meanrefA1_1305)\n",
        "S1meanC3_105 = np.array(S1meanC3_105)\n",
        "\n",
        "S1hsvrefA1_1305 = list()\n",
        "S1hsvC3_105 = list()\n",
        "for i in range(3):\n",
        "    S1hsvrefA1_1305.append(S1meanrefA1_1305[:,i].mean())\n",
        "    S1hsvC3_105append(S1meanC3_105[:,i].mean())"
      ],
      "execution_count": null,
      "outputs": []
    },
    {
      "cell_type": "code",
      "metadata": {
        "id": "t-9dLwsoaJL_"
      },
      "source": [
        "S1meanrefA1_1405 = list()\n",
        "S1meanC4_105 = list()\n",
        "for i in range(S1HSV_imgA1C4_5.shape[0]): \n",
        "     for j in range(S1HSV_imgA1C4_5.shape[1]): \n",
        "                if 1769<i<1881 and 2019<j<2131 :\n",
        "                  S1meanrefA1_1405.append(S1HSV_imgA1C4_5[i][j])\n",
        "                if 1770<i<1880 and 2015<j<2145 :\n",
        "                  S1meanC4_105.append(S1HSV_imgA1C4_5[i][j])  \n",
        "S1meanrefA1_1405 = np.array(S1meanrefA1_1405)\n",
        "S1meanC4_105 = np.array(S1meanC4_105)\n",
        "\n",
        "S1hsvrefA1_1405 = list()\n",
        "S1hsvC4_105 = list()\n",
        "for i in range(3):\n",
        "    S1hsvrefA1_1405.append(S1meanrefA1_1405[:,i].mean())\n",
        "    S1hsvC4_105.append(S1meanC4_105[:,i].mean())"
      ],
      "execution_count": null,
      "outputs": []
    },
    {
      "cell_type": "code",
      "metadata": {
        "id": "XDE-yECUaJL_"
      },
      "source": [
        "S1meanrefA1_1505  = list()\n",
        "S1meanD2_105  = list()\n",
        "for i in range(S1HSV_imgA1D2_5.shape[0]): \n",
        "     for j in range(S1HSV_imgA1D2_5.shape[1]): \n",
        "                if 1769<i<1881 and 2019<j<2131 :\n",
        "                  S1meanrefA1_1505 .append(S1HSV_imgA1D2_5[i][j])\n",
        "                if 1770<i<1880 and 2015<j<2145 :\n",
        "                  S1meanD2_105 .append(S1HSV_imgA1D2_5[i][j])  \n",
        "S1meanrefA1_1505 = np.array(S1meanrefA1_1505)\n",
        "S1meanD2_105  = np.array(S1meanD2_105)\n",
        "\n",
        "S1hsvrefA1_1505 = list()\n",
        "S1hsvD2_105 = list()\n",
        "for i in range(3):\n",
        "    S1hsvrefA1_1505.append(S1meanrefA1_1505[:,i].mean())\n",
        "    S1hsvD2_105.append(S1meanD2_105[:,i].mean())"
      ],
      "execution_count": null,
      "outputs": []
    },
    {
      "cell_type": "code",
      "metadata": {
        "id": "pLUKwAK3aJMA"
      },
      "source": [
        "S1meanrefA1_1605 = list()\n",
        "S1meanD3_105 = list()\n",
        "for i in range(S1HSV_imgA1D3_5.shape[0]): \n",
        "     for j in range(S1HSV_imgA1D3_5.shape[1]): \n",
        "                if 1769<i<1881 and 2019<j<2131 :\n",
        "                  S1meanrefA1_1605.append(S1HSV_imgA1D3_5[i][j])\n",
        "                if 1770<i<1880 and 2015<j<2145 :\n",
        "                  S1meanD3_105.append(S1HSV_imgA1D3_5[i][j])  \n",
        "S1meanrefA1_1605 = np.array(S1meanrefA1_1605)\n",
        "S1meanD3_105 = np.array(S1meanD3_105)\n",
        "\n",
        "S1hsvrefA1_1605 = list()\n",
        "S1hsvD3_105 = list()\n",
        "for i in range(3):\n",
        "    S1hsvrefA1_1605.append(S1meanrefA1_1605[:,i].mean())\n",
        "    S1hsvD3_105.append(S1meanD3_105[:,i].mean())"
      ],
      "execution_count": null,
      "outputs": []
    },
    {
      "cell_type": "code",
      "metadata": {
        "id": "bOfaWIAsaJMA"
      },
      "source": [
        "S1meanrefA1_1705= list()\n",
        "S1meanD4_105 = list()\n",
        "for i in range(S1HSV_imgA1D4_5.shape[0]): \n",
        "     for j in range(S1HSV_imgA1D4_5.shape[1]): \n",
        "                if 1769<i<1881 and 2019<j<2131 :\n",
        "                  S1meanrefA1_1705.append(S1HSV_imgA1D4_5[i][j])\n",
        "                if 1770<i<1880 and 2015<j<2145 :\n",
        "                  S1meanD4_105.append(S1HSV_imgA1D4_5[i][j])  \n",
        "S1meanrefA1_1705 = np.array(S1meanrefA1_1405)\n",
        "S1meanD4_105 = np.array(S1meanD4_105)\n",
        "\n",
        "S1hsvrefA1_1705 = list()\n",
        "S1hsvD4_105 = list()\n",
        "for i in range(3):\n",
        "    S1hsvrefA1_1705.append(S1meanrefA1_1705[:,i].mean())\n",
        "    S1hsvD4_105.append(S1meanD4_105[:,i].mean())"
      ],
      "execution_count": null,
      "outputs": []
    },
    {
      "cell_type": "markdown",
      "metadata": {
        "id": "CAz-S1hA8ufq"
      },
      "source": [
        "###Img 6"
      ]
    },
    {
      "cell_type": "code",
      "metadata": {
        "id": "wAuBCA9KaKQo"
      },
      "source": [
        "S1meanrefA1_106 = list()\n",
        "S1meanA1_206 = list()\n",
        "for i in range(S1HSV_imgA1A1_6.shape[0]): #ให้ i รันตาม row หรือ shape[0] คือแถว มีทั้งหมด 4032 แถว ของภาพที่ปรับขนาดมาแล้ว\n",
        "     for j in range(S1HSV_imgA1A1_6.shape[1]): #ให้ j รันตาม colum มีทั้งหมด 3024 colum เช่น แถวที่ 1 เข้ามาให้รันครบ 3024colum\n",
        "                if 1769<i<1881 and 2019<j<2131 :\n",
        "                  S1meanrefA1_106.append(S1HSV_imgA1A1_6[i][j])\n",
        "                if 1770<i<1880 and 2015<j<2145 :\n",
        "                  S1meanA1_206.append(S1HSV_imgA1A1_6[i][j])  \n",
        "S1meanrefA1_106 = np.array(S1meanrefA1_106)\n",
        "S1meanA1_206 = np.array(S1meanA1_206)\n",
        "\n",
        "S1hsvrefA1_106 = list()\n",
        "S1hsvA1_206 = list()\n",
        "for i in range(3):\n",
        "    S1hsvrefA1_106.append(S1meanrefA1_106[:,i].mean())\n",
        "    S1hsvA1_206.append(S1meanA1_206[:,i].mean())\n",
        "S1hsvrefA1_106,S1hsvA1_206"
      ],
      "execution_count": null,
      "outputs": []
    },
    {
      "cell_type": "code",
      "metadata": {
        "id": "LGcCr_raaKQp"
      },
      "source": [
        "S1meanrefA1_306 = list()\n",
        "S1meanA2_106 = list()\n",
        "for i in range(S1HSV_imgA1A2_6.shape[0]): \n",
        "     for j in range(S1HSV_imgA1A2_6.shape[1]): \n",
        "                if 1769<i<1881 and 2019<j<2131 :\n",
        "                  S1meanrefA1_306.append(S1HSV_imgA1A2_6[i][j])\n",
        "                if 1770<i<1880 and 2015<j<2145 :\n",
        "                  S1meanA2_106 .append(S1HSV_imgA1A2_6[i][j])  \n",
        "S1meanrefA1_306  = np.array(S1meanrefA1_306 )\n",
        "S1meanA2_106  = np.array(S1meanA2_106 )\n",
        "\n",
        "S1hsvrefA1_306  = list()\n",
        "S1hsvA2_106  = list()\n",
        "for i in range(3):\n",
        "    S1hsvrefA1_306 .append(S1meanrefA1_306 [:,i].mean())\n",
        "    S1hsvA2_106 .append(S1meanA2_106 [:,i].mean())"
      ],
      "execution_count": null,
      "outputs": []
    },
    {
      "cell_type": "code",
      "metadata": {
        "id": "B-QvzF7_aKQq"
      },
      "source": [
        "S1meanrefA1_406  = list()\n",
        "S1meanA3_106  = list()\n",
        "for i in range(S1HSV_imgA1A3_6.shape[0]): \n",
        "     for j in range(S1HSV_imgA1A3_6.shape[1]): \n",
        "                if 1769<i<1881 and 2019<j<2131 :\n",
        "                  S1meanrefA1_406 .append(S1HSV_imgA1A3_6[i][j])\n",
        "                if 1770<i<1880 and 2015<j<2145 :\n",
        "                  S1meanA3_106 .append(S1HSV_imgA1A3_6[i][j])  \n",
        "S1meanrefA1_406 = np.array(S1meanrefA1_406 )\n",
        "S1meanA3_106  = np.array(S1meanA3_106 )\n",
        "\n",
        "S1hsvrefA1_406  = list()\n",
        "S1hsvA3_106  = list()\n",
        "for i in range(3):\n",
        "    S1hsvrefA1_406 .append(S1meanrefA1_4อ[:,i].mean())\n",
        "    S1hsvA3_106 .append(S1meanA3_106 [:,i].mean())"
      ],
      "execution_count": null,
      "outputs": []
    },
    {
      "cell_type": "code",
      "metadata": {
        "id": "pE8OLWL3aKQq"
      },
      "source": [
        "S1meanrefA1_506  = list()\n",
        "S1meanA3_5106  = list()\n",
        "for i in range(S1HSV_imgA1A3_56.shape[0]): \n",
        "     for j in range(S1HSV_imgA1A3_56.shape[1]): \n",
        "                if 1769<i<1881 and 2019<j<2131 :\n",
        "                  S1meanrefA1_506 .append(S1HSV_imgA1A3_56[i][j])\n",
        "                if 1770<i<1880 and 2015<j<2145 :\n",
        "                  S1meanA3_5106 .append(S1HSV_imgA1A3_56[i][j])  \n",
        "S1meanrefA1_506  = np.array(S1meanrefA1_506 )\n",
        "S1meanA3_5106  = np.array(S1meanA3_5106 )\n",
        "\n",
        "S1hsvrefA1_506  = list()\n",
        "S1hsvA3_5106  = list()\n",
        "for i in range(3):\n",
        "    S1hsvrefA1_506 .append(S1meanrefA1_506 [:,i].mean())\n",
        "    S1hsvA3_5106.append(S1meanA3_5106 [:,i].mean())"
      ],
      "execution_count": null,
      "outputs": []
    },
    {
      "cell_type": "code",
      "metadata": {
        "id": "MD0nddCLaKQq"
      },
      "source": [
        "S1meanrefA1_606  = list()\n",
        "S1meanA4_106  = list()\n",
        "for i in range(S1HSV_imgA1A4_6.shape[0]): \n",
        "     for j in range(S1HSV_imgA1A4_6.shape[1]): \n",
        "                if 1769<i<1881 and 2019<j<2131 :\n",
        "                  S1meanrefA1_606 .append(S1HSV_imgA1A4_6[i][j])\n",
        "                if 1770<i<1880 and 2015<j<2145 :\n",
        "                  S1meanA4_106 .append(S1HSV_imgA1A4_6[i][j])  \n",
        "S1meanrefA1_606  = np.array(S1meanrefA1_606 )\n",
        "S1meanA4_106  = np.array(S1meanA4_106 )\n",
        "\n",
        "S1hsvrefA1_606  = list()\n",
        "S1hsvA4_106  = list()\n",
        "for i in range(3):\n",
        "    S1hsvrefA1_606 .append(S1meanrefA1_606 [:,i].mean())\n",
        "    S1hsvA4_106 .append(S1meanA4_106 [:,i].mean())"
      ],
      "execution_count": null,
      "outputs": []
    },
    {
      "cell_type": "code",
      "metadata": {
        "id": "zGl4pEQJaKQr"
      },
      "source": [
        "S1meanrefA1_706  = list()\n",
        "S1meanB1_106  = list()\n",
        "for i in range(S1HSV_imgA1B1_6.shape[0]): \n",
        "     for j in range(S1HSV_imgA1B1_6.shape[1]): \n",
        "                if 1769<i<1881 and 2019<j<2131 :\n",
        "                  S1meanrefA1_706 .append(S1HSV_imgA1B1_6[i][j])\n",
        "                if 1770<i<1880 and 2015<j<2145 :\n",
        "                  S1meanB1_106 .append(S1HSV_imgA1B1_6[i][j])  \n",
        "S1meanrefA1_706  = np.array(S1meanrefA1_706 )\n",
        "S1meanB1_106  = np.array(S1meanB1_106 )\n",
        "\n",
        "S1hsvrefA1_706  = list()\n",
        "S1hsvB1_106  = list()\n",
        "for i in range(3):\n",
        "    S1hsvrefA1_706 .append(S1meanrefA1_706 [:,i].mean())\n",
        "    S1hsvB1_106 .append(S1meanB1_106 [:,i].mean())"
      ],
      "execution_count": null,
      "outputs": []
    },
    {
      "cell_type": "code",
      "metadata": {
        "id": "d0zy_XhGaKQr"
      },
      "source": [
        "S1meanrefA1_806  = list()\n",
        "S1meanB2_106  = list()\n",
        "for i in range(S1HSV_imgA1B2_6.shape[0]): \n",
        "     for j in range(S1HSV_imgA1B2_6.shape[1]): \n",
        "                if 1769<i<1881 and 2019<j<2131 :\n",
        "                  S1meanrefA1_8อ.append(S1HSV_imgA1B2_6[i][j])\n",
        "                if 1770<i<1880 and 2015<j<2145 :\n",
        "                  S1meanB2_106 .append(S1HSV_imgA1B2_6[i][j])  \n",
        "S1meanrefA1_806 = np.array(S1meanrefA1_806 )\n",
        "S1meanB2_106  = np.array(S1meanB2_106 )\n",
        "\n",
        "S1hsvrefA1_806  = list()\n",
        "S1hsvB2_106  = list()\n",
        "for i in range(3):\n",
        "    S1hsvrefA1_806 .append(S1meanrefA1_806 [:,i].mean())\n",
        "    S1hsvB2_106 .append(S1meanB2_106 [:,i].mean())"
      ],
      "execution_count": null,
      "outputs": []
    },
    {
      "cell_type": "code",
      "metadata": {
        "id": "jP9kqZa1aKQs"
      },
      "source": [
        "S1meanrefA1_906  = list()\n",
        "S1meanB3_106  = list()\n",
        "for i in range(S1HSV_imgA1B3_6.shape[0]): \n",
        "     for j in range(S1HSV_imgA1B3_6.shape[1]): \n",
        "                if 1769<i<1881 and 2019<j<2131 :\n",
        "                  S1meanrefA1_906 .append(S1HSV_imgA1B3_6[i][j])\n",
        "                if 1770<i<1880 and 2015<j<2145 :\n",
        "                  S1meanB3_106 .append(S1HSV_imgA1B3_6[i][j])  \n",
        "S1meanrefA1_906  = np.array(S1meanrefA1_906)\n",
        "S1meanB3_106  = np.array(S1meanB3_106)\n",
        "\n",
        "S1hsvrefA1_906 = list()\n",
        "S1hsvB3_106 = list()\n",
        "for i in range(3):\n",
        "    S1hsvrefA1_906.append(S1meanrefA1_906[:,i].mean())\n",
        "    S1hsvB3_106.append(S1meanB3_106[:,i].mean())"
      ],
      "execution_count": null,
      "outputs": []
    },
    {
      "cell_type": "code",
      "metadata": {
        "id": "I0xPJhSKaKQs"
      },
      "source": [
        "S1meanrefA1_1006 = list()\n",
        "S1meanB4_106 = list()\n",
        "for i in range(S1HSV_imgA1B4_6.shape[0]): \n",
        "     for j in range(S1HSV_imgA1B4_6.shape[1]): \n",
        "                if 1769<i<1881 and 2019<j<2131 :\n",
        "                  S1meanrefA1_1006.append(S1HSV_imgA1B4_6[i][j])\n",
        "                if 1770<i<1880 and 2015<j<2145 :\n",
        "                  S1meanB4_106.append(S1HSV_imgA1B4_6[i][j])  \n",
        "S1meanrefA1_1006 = np.array(S1meanrefA1_1006)\n",
        "S1meanB4_106 = np.array(S1meanB4_106)\n",
        "\n",
        "S1hsvrefA1_1006 = list()\n",
        "S1hsvB4_106 = list()\n",
        "for i in range(3):\n",
        "    S1hsvrefA1_1006.append(S1meanrefA1_1006[:,i].mean())\n",
        "    S1hsvB4_106.append(S1meanB4_106[:,i].mean())"
      ],
      "execution_count": null,
      "outputs": []
    },
    {
      "cell_type": "code",
      "metadata": {
        "id": "VCTCj8b0aKQs"
      },
      "source": [
        "S1meanrefA1_1106 = list()\n",
        "S1meanC1_106 = list()\n",
        "for i in range(S1HSV_imgA1C1_6.shape[0]): \n",
        "     for j in range(S1HSV_imgA1C1_6.shape[1]): \n",
        "                if 1769<i<1881 and 2019<j<2131 :\n",
        "                  S1meanrefA1_1106.append(S1HSV_imgA1C1_6[i][j])\n",
        "                if 1770<i<1880 and 2015<j<2145 :\n",
        "                  S1meanC1_106.append(S1HSV_imgA1C1_6[i][j])  \n",
        "S1meanrefA1_1106 = np.array(S1meanrefA1_1106)\n",
        "S1meanC1_106 = np.array(S1meanC1_106)\n",
        "\n",
        "S1hsvrefA1_1106 = list()\n",
        "S1hsvC1_106 = list()\n",
        "for i in range(3):\n",
        "    S1hsvrefA1_1106.append(S1meanrefA1_1106[:,i].mean())\n",
        "    S1hsvC1_106.append(S1meanC1_106[:,i].mean())"
      ],
      "execution_count": null,
      "outputs": []
    },
    {
      "cell_type": "code",
      "metadata": {
        "id": "kQm1iLXqaKQt"
      },
      "source": [
        "S1meanrefA1_1206 = list()\n",
        "S1meanC2_106 = list()\n",
        "for i in range(S1HSV_imgA1C2_6.shape[0]): \n",
        "     for j in range(S1HSV_imgA1C2_6.shape[1]): \n",
        "                if 1769<i<1881 and 2019<j<2131 :\n",
        "                  S1meanrefA1_1206.append(S1HSV_imgA1C2_6[i][j])\n",
        "                if 1770<i<1880 and 2015<j<2145 :\n",
        "                  S1meanC2_106.append(S1HSV_imgA1C2_6[i][j])  \n",
        "S1meanrefA1_1206 = np.array(S1meanrefA1_1206)\n",
        "S1meanC2_106 = np.array(S1meanC2_106)\n",
        "\n",
        "S1hsvrefA1_1206 = list()\n",
        "S1hsvC2_106 = list()\n",
        "for i in range(3):\n",
        "    S1hsvrefA1_1206.append(S1meanrefA1_12[:,i].mean())\n",
        "    S1hsvC2_106.append(S1meanC2_1[:,i].mean())"
      ],
      "execution_count": null,
      "outputs": []
    },
    {
      "cell_type": "code",
      "metadata": {
        "id": "crE4lxpTaKQt"
      },
      "source": [
        "S1meanrefA1_1306 = list()\n",
        "S1meanC3_106 = list()\n",
        "for i in range(S1HSV_imgA1C3_6.shape[0]): \n",
        "     for j in range(S1HSV_imgA1C3_6.shape[1]): \n",
        "                if 1769<i<1881 and 2019<j<2131 :\n",
        "                  S1meanrefA1_1306.append(S1HSV_imgA1C3_6[i][j])\n",
        "                if 1770<i<1880 and 2015<j<2145 :\n",
        "                  S1meanC3_106.append(S1HSV_imgA1C3_6[i][j])  \n",
        "S1meanrefA1_1306 = np.array(S1meanrefA1_1306)\n",
        "S1meanC3_106 = np.array(S1meanC3_106\n",
        "\n",
        "S1hsvrefA1_1306 = list()\n",
        "S1hsvC3_106 = list()\n",
        "for i in range(3):\n",
        "    S1hsvrefA1_1306.append(S1meanrefA1_1306[:,i].mean())\n",
        "    S1hsvC3_106.append(S1meanC3_106[:,i].mean())"
      ],
      "execution_count": null,
      "outputs": []
    },
    {
      "cell_type": "code",
      "metadata": {
        "id": "uJ-dSV4NaKQt"
      },
      "source": [
        "S1meanrefA1_1406 = list()\n",
        "S1meanC4_106 = list()\n",
        "for i in range(S1HSV_imgA1C4_6.shape[0]): \n",
        "     for j in range(S1HSV_imgA1C4_6.shape[1]): \n",
        "                if 1769<i<1881 and 2019<j<2131 :\n",
        "                  S1meanrefA1_1406.append(S1HSV_imgA1C4_6[i][j])\n",
        "                if 1770<i<1880 and 2015<j<2145 :\n",
        "                  S1meanC4_106.append(S1HSV_imgA1C4_6[i][j])  \n",
        "S1meanrefA1_1406 = np.array(S1meanrefA1_1406)\n",
        "S1meanC4_106 = np.array(S1meanC4_106)\n",
        "\n",
        "S1hsvrefA1_1406 = list()\n",
        "S1hsvC4_106 = list()\n",
        "for i in range(3):\n",
        "    S1hsvrefA1_1406.append(S1meanrefA1_1406[:,i].mean())\n",
        "    S1hsvC4_106.append(S1meanC4_106[:,i].mean())"
      ],
      "execution_count": null,
      "outputs": []
    },
    {
      "cell_type": "code",
      "metadata": {
        "id": "hDtFKz2MaKQu"
      },
      "source": [
        "S1meanrefA1_1506 = list()\n",
        "S1meanD2_106 = list()\n",
        "for i in range(S1HSV_imgA1D2_6.shape[0]): \n",
        "     for j in range(S1HSV_imgA1D2_6.shape[1]): \n",
        "                if 1769<i<1881 and 2019<j<2131 :\n",
        "                  S1meanrefA1_1506.append(S1HSV_imgA1D2_6[i][j])\n",
        "                if 1770<i<1880 and 2015<j<2145 :\n",
        "                  S1meanD2_106.append(S1HSV_imgA1D2_6[i][j])  \n",
        "S1meanrefA1_1506 = np.array(S1meanrefA1_1506)\n",
        "S1meanD2_106 = np.array(S1meanD2_106)\n",
        "\n",
        "S1hsvrefA1_1506 = list()\n",
        "S1hsvD2_106 = list()\n",
        "for i in range(3):\n",
        "    S1hsvrefA1_1506.append(S1meanrefA1_1506[:,i].mean())\n",
        "    S1hsvD2_106.append(S1meanD2_106[:,i].mean())"
      ],
      "execution_count": null,
      "outputs": []
    },
    {
      "cell_type": "code",
      "metadata": {
        "id": "L4qCwKtRaKQu"
      },
      "source": [
        "S1meanrefA1_1606 = list()\n",
        "S1meanD3_106 = list()\n",
        "for i in range(S1HSV_imgA1D3_6.shape[0]): \n",
        "     for j in range(S1HSV_imgA1D3_6.shape[1]): \n",
        "                if 1769<i<1881 and 2019<j<2131 :\n",
        "                  S1meanrefA1_1606.append(S1HSV_imgA1D3_6[i][j])\n",
        "                if 1770<i<1880 and 2015<j<2145 :\n",
        "                  S1meanD3_106.append(S1HSV_imgA1D3_6[i][j])  \n",
        "S1meanrefA1_1606 = np.array(S1meanrefA1_1606)\n",
        "S1meanD3_106 = np.array(S1meanD3_106)\n",
        "\n",
        "S1hsvrefA1_1606 = list()\n",
        "S1hsvD3_106 = list()\n",
        "for i in range(3):\n",
        "    S1hsvrefA1_1606.append(S1meanrefA1_1606[:,i].mean())\n",
        "    S1hsvD3_1v.append(S1meanD3_106[:,i].mean())"
      ],
      "execution_count": null,
      "outputs": []
    },
    {
      "cell_type": "code",
      "metadata": {
        "id": "_IBrPLgHaKQu"
      },
      "source": [
        "S1meanrefA1_1706= list()\n",
        "S1meanD4_106 = list()\n",
        "for i in range(S1HSV_imgA1D4_6.shape[0]): \n",
        "     for j in range(S1HSV_imgA1D4_6.shape[1]): \n",
        "                if 1769<i<1881 and 2019<j<2131 :\n",
        "                  S1meanrefA1_1706.append(S1HSV_imgA1D4_6[i][j])\n",
        "                if 1770<i<1880 and 2015<j<2145 :\n",
        "                  S1meanD4_106.append(S1HSV_imgA1D4_6[i][j])  \n",
        "S1meanrefA1_1706 = np.array(S1meanrefA1_1406)\n",
        "S1meanD4_106 = np.array(S1meanD4_106)\n",
        "\n",
        "S1hsvrefA1_1706 = list()\n",
        "S1hsvD4_10606 = list()\n",
        "for i in range(3):\n",
        "    S1hsvrefA1_1706.append(S1meanrefA1_1706[:,i].mean())\n",
        "    S1hsvD4_106.append(S1meanD4_106[:,i].mean())"
      ],
      "execution_count": null,
      "outputs": []
    },
    {
      "cell_type": "markdown",
      "metadata": {
        "id": "1i-oEmyg8xRG"
      },
      "source": [
        "###Img 7\n"
      ]
    },
    {
      "cell_type": "code",
      "metadata": {
        "id": "oiuuPDMVaLOx"
      },
      "source": [
        "S1meanrefA1_107 = list()\n",
        "S1meanA1_207 = list()\n",
        "for i in range(S1HSV_imgA1A1_7.shape[0]): #ให้ i รันตาม row หรือ shape[0] คือแถว มีทั้งหมด 4032 แถว ของภาพที่ปรับขนาดมาแล้ว\n",
        "     for j in range(S1HSV_imgA1A1_7.shape[1]): #ให้ j รันตาม colum มีทั้งหมด 3024 colum เช่น แถวที่ 1 เข้ามาให้รันครบ 3024colum\n",
        "                if 1769<i<1881 and 2019<j<2131 :\n",
        "                  S1meanrefA1_107.append(S1HSV_imgA1A1_7[i][j])\n",
        "                if 1770<i<1880 and 2015<j<2145 :\n",
        "                  S1meanA1_207.append(S1HSV_imgA1A1_7[i][j])  \n",
        "S1meanrefA1_107 = np.array(S1meanrefA1_107)\n",
        "S1meanA1_207 = np.array(S1meanA1_207)\n",
        "\n",
        "S1hsvrefA1_107 = list()\n",
        "S1hsvA1_207 = list()\n",
        "for i in range(3):\n",
        "    S1hsvrefA1_107.append(S1meanrefA1_107[:,i].mean())\n",
        "    S1hsvA1_207.append(S1meanA1_207[:,i].mean())\n",
        "S1hsvrefA1_107,S1hsvA1_207"
      ],
      "execution_count": null,
      "outputs": []
    },
    {
      "cell_type": "code",
      "metadata": {
        "id": "0onK6Yn_aLOx"
      },
      "source": [
        "S1meanrefA1_307 = list()\n",
        "S1meanA2_107 = list()\n",
        "for i in range(S1HSV_imgA1A2_7.shape[0]): \n",
        "     for j in range(S1HSV_imgA1A2_7.shape[1]): \n",
        "                if 1769<i<1881 and 2019<j<2131 :\n",
        "                  S1meanrefA1_307.append(S1HSV_imgA1A2_7[i][j])\n",
        "                if 1770<i<1880 and 2015<j<2145 :\n",
        "                  S1meanA2_107.append(S1HSV_imgA1A2_7[i][j])  \n",
        "S1meanrefA1_307 = np.array(S1meanrefA1_307)\n",
        "S1meanA2_107 = np.array(S1meanA2_1v)\n",
        "\n",
        "S1hsvrefA1_307 = list()\n",
        "S1hsvA2_107 = list()\n",
        "for i in range(3):\n",
        "    S1hsvrefA1_307.append(S1meanrefA1_307[:,i].mean())\n",
        "    S1hsvA2_107.append(S1meanA2_107[:,i].mean())"
      ],
      "execution_count": null,
      "outputs": []
    },
    {
      "cell_type": "code",
      "metadata": {
        "id": "axFDSHl7aLOy"
      },
      "source": [
        "S1meanrefA1_407 = list()\n",
        "S1meanA3_107 = list()\n",
        "for i in range(S1HSV_imgA1A3_7.shape[0]): \n",
        "     for j in range(S1HSV_imgA1A3_7.shape[1]): \n",
        "                if 1769<i<1881 and 2019<j<2131 :\n",
        "                  S1meanrefA1_407.append(S1HSV_imgA1A3_7[i][j])\n",
        "                if 1770<i<1880 and 2015<j<2145 :\n",
        "                  S1meanA3_107.append(S1HSV_imgA1A3_7[i][j])  \n",
        "S1meanrefA1_407 = np.array(S1meanrefA1_407)\n",
        "S1meanA3_107 = np.array(S1meanA3_107)\n",
        "\n",
        "S1hsvrefA1_407 = list()\n",
        "S1hsvA3_107 = list()\n",
        "for i in range(3):\n",
        "    S1hsvrefA1_407.append(S1meanrefA1_407[:,i].mean())\n",
        "    S1hsvA3_107.append(S1meanA3_107[:,i].mean())"
      ],
      "execution_count": null,
      "outputs": []
    },
    {
      "cell_type": "code",
      "metadata": {
        "id": "Tk3R3otSaLOz"
      },
      "source": [
        "S1meanrefA1_507 = list()\n",
        "S1meanA3_5107 = list()\n",
        "for i in range(S1HSV_imgA1A3_5707.shape[0]): \n",
        "     for j in range(S1HSV_imgA1A3_57.shape[1]): \n",
        "                if 1769<i<1881 and 2019<j<2131 :\n",
        "                  S1meanrefA1_507.append(S1HSV_imgA1A3_57[i][j])\n",
        "                if 1770<i<1880 and 2015<j<2145 :\n",
        "                  S1meanA3_5107.append(S1HSV_imgA1A3_57[i][j])  \n",
        "S1meanrefA1_5v = np.array(S1meanrefA1_5v)\n",
        "S1meanA3_5107 = np.array(S1meanA3_5107)\n",
        "\n",
        "S1hsvrefA1_507 = list()\n",
        "S1hsvA3_5107 = list()\n",
        "for i in range(3):\n",
        "    S1hsvrefA1_507.append(S1meanrefA1_507[:,i].mean())\n",
        "    S1hsvA3_5107.append(S1meanA3_5107[:,i].mean())"
      ],
      "execution_count": null,
      "outputs": []
    },
    {
      "cell_type": "code",
      "metadata": {
        "id": "vvmw7i3gaLOz"
      },
      "source": [
        "S1meanrefA1_607 = list()\n",
        "S1meanA4_107 = list()\n",
        "for i in range(S1HSV_imgA1A4_7.shape[0]): \n",
        "     for j in range(S1HSV_imgA1A4_7.shape[1]): \n",
        "                if 1769<i<1881 and 2019<j<2131 :\n",
        "                  S1meanrefA1_607.append(S1HSV_imgA1A4_7[i][j])\n",
        "                if 1770<i<1880 and 2015<j<2145 :\n",
        "                  S1meanA4_107.append(S1HSV_imgA1A4_7[i][j])  \n",
        "S1meanrefA1_607 = np.array(S1meanrefA1_607)\n",
        "S1meanA4_1v = np.array(S1meanA4_107)\n",
        "\n",
        "S1hsvrefA1_607 = list()\n",
        "S1hsvA4_107 = list()\n",
        "for i in range(3):\n",
        "    S1hsvrefA1_607.append(S1meanrefA1_607[:,i].mean())\n",
        "    S1hsvA4_107.append(S1meanA4_107[:,i].mean())"
      ],
      "execution_count": null,
      "outputs": []
    },
    {
      "cell_type": "code",
      "metadata": {
        "id": "FsOBUbCqaLO0"
      },
      "source": [
        "S1meanrefA1_707 = list()\n",
        "S1meanB1_107 = list()\n",
        "for i in range(S1HSV_imgA1B1_7.shape[0]): \n",
        "     for j in range(S1HSV_imgA1B1_7.shape[1]): \n",
        "                if 1769<i<1881 and 2019<j<2131 :\n",
        "                  S1meanrefA1_707.append(S1HSV_imgA1B1_7[i][j])\n",
        "                if 1770<i<1880 and 2015<j<2145 :\n",
        "                  S1meanB1_107.append(S1HSV_imgA1B1_7[i][j])  \n",
        "S1meanrefA1_707 = np.array(S1meanrefA1_7)\n",
        "S1meanB1_107= np.array(S1meanB1_1)\n",
        "\n",
        "S1hsvrefA1_707 = list()\n",
        "S1hsvB1_107 = list()\n",
        "for i in range(3):\n",
        "    S1hsvrefA1_707.append(S1meanrefA1_707[:,i].mean())\n",
        "    S1hsvB1_107.append(S1meanB1_107[:,i].mean())"
      ],
      "execution_count": null,
      "outputs": []
    },
    {
      "cell_type": "code",
      "metadata": {
        "id": "HXmE-JnDaLO0"
      },
      "source": [
        "S1meanrefA1_807 = list()\n",
        "S1meanB2_107 = list()\n",
        "for i in range(S1HSV_imgA1B2_7.shape[0]): \n",
        "     for j in range(S1HSV_imgA1B2_7.shape[1]): \n",
        "                if 1769<i<1881 and 2019<j<2131 :\n",
        "                  S1meanrefA1_807.append(S1HSV_imgA1B2_7[i][j])\n",
        "                if 1770<i<1880 and 2015<j<2145 :\n",
        "                  S1meanB2_107.append(S1HSV_imgA1B2_7[i][j])  \n",
        "S1meanrefA1_807 = np.array(S1meanrefA1_807)\n",
        "S1meanB2_107 = np.array(S1meanB2_107)\n",
        "\n",
        "S1hsvrefA1_807 = list()\n",
        "S1hsvB2_107 = list()\n",
        "for i in range(3):\n",
        "    S1hsvrefA1_807.append(S1meanrefA1_807[:,i].mean())\n",
        "    S1hsvB2_107.append(S1meanB2_107[:,i].mean())"
      ],
      "execution_count": null,
      "outputs": []
    },
    {
      "cell_type": "code",
      "metadata": {
        "id": "vl1Ss58waLO0"
      },
      "source": [
        "S1meanrefA1_907 = list()\n",
        "S1meanB3_107 = list()\n",
        "for i in range(S1HSV_imgA1B3_7.shape[0]): \n",
        "     for j in range(S1HSV_imgA1B3_7.shape[1]): \n",
        "                if 1769<i<1881 and 2019<j<2131 :\n",
        "                  S1meanrefA1_907.append(S1HSV_imgA1B3_7[i][j])\n",
        "                if 1770<i<1880 and 2015<j<2145 :\n",
        "                  S1meanB3_107.append(S1HSV_imgA1B3_7[i][j])  \n",
        "S1meanrefA1_907= np.array(S1meanrefA1_907)\n",
        "S1meanB3_107 = np.array(S1meanB3_107)\n",
        "\n",
        "S1hsvrefA1_907 = list()\n",
        "S1hsvB3_107 = list()\n",
        "for i in range(3):\n",
        "    S1hsvrefA1_907.append(S1meanrefA1_907[:,i].mean())\n",
        "    S1hsvB3_107.append(S1meanB3_107[:,i].mean())"
      ],
      "execution_count": null,
      "outputs": []
    },
    {
      "cell_type": "code",
      "metadata": {
        "id": "BnHlxcAdaLO1"
      },
      "source": [
        "S1meanrefA1_1007 = list()\n",
        "S1meanB4_107 = list()\n",
        "for i in range(S1HSV_imgA1B4_7.shape[0]): \n",
        "     for j in range(S1HSV_imgA1B4_7.shape[1]): \n",
        "                if 1769<i<1881 and 2019<j<2131 :\n",
        "                  S1meanrefA1_1007.append(S1HSV_imgA1B4_7[i][j])\n",
        "                if 1770<i<1880 and 2015<j<2145 :\n",
        "                  S1meanB4_107.append(S1HSV_imgA1B4_7[i][j])  \n",
        "S1meanrefA1_1007= np.array(S1meanrefA1_1007)\n",
        "S1meanB4_107 = np.array(S1meanB4_107)\n",
        "\n",
        "S1hsvrefA1_1007 = list()\n",
        "S1hsvB4_107 = list()\n",
        "for i in range(3):\n",
        "    S1hsvrefA1_1007.append(S1meanrefA1_1007[:,i].mean())\n",
        "    S1hsvB4_107.append(S1meanB4_107[:,i].mean())"
      ],
      "execution_count": null,
      "outputs": []
    },
    {
      "cell_type": "code",
      "metadata": {
        "id": "7V9jwhGYaLO1"
      },
      "source": [
        "S1meanrefA1_1107 = list()\n",
        "S1meanC1_1v = list()\n",
        "for i in range(S1HSV_imgA1C1_7.shape[0]): \n",
        "     for j in range(S1HSV_imgA1C1_7.shape[1]): \n",
        "                if 1769<i<1881 and 2019<j<2131 :\n",
        "                  S1meanrefA1_1107.append(S1HSV_imgA1C1_7[i][j])\n",
        "                if 1770<i<1880 and 2015<j<2145 :\n",
        "                  S1meanC1_107.append(S1HSV_imgA1C1_7[i][j])  \n",
        "S1meanrefA1_1107= np.array(S1meanrefA1_1107)\n",
        "S1meanC1_107 = np.array(S1meanC1_107)\n",
        "\n",
        "S1hsvrefA1_1107 = list()\n",
        "S1hsvC1_107 = list()\n",
        "for i in range(3):\n",
        "    S1hsvrefA1_1107.append(S1meanrefA1_1107[:,i].mean())\n",
        "    S1hsvC1_107.append(S1meanC1_107[:,i].mean())"
      ],
      "execution_count": null,
      "outputs": []
    },
    {
      "cell_type": "code",
      "metadata": {
        "id": "W7yhZL5laLO1"
      },
      "source": [
        "S1meanrefA1_1207 = list()\n",
        "S1meanC2_107 = list()\n",
        "for i in range(S1HSV_imgA1C2_7.shape[0]): \n",
        "     for j in range(S1HSV_imgA1C2_7.shape[1]): \n",
        "                if 1769<i<1881 and 2019<j<2131 :\n",
        "                  S1meanrefA1_1207.append(S1HSV_imgA1C2_7[i][j])\n",
        "                if 1770<i<1880 and 2015<j<2145 :\n",
        "                  S1meanC2_107.append(S1HSV_imgA1C2_7[i][j])  \n",
        "S1meanrefA1_1207 = np.array(S1meanrefA1_1207)\n",
        "S1meanC2_107 = np.array(S1meanC2_107)\n",
        "\n",
        "S1hsvrefA1_1207 = list()\n",
        "S1hsvC2_107 = list()\n",
        "for i in range(3):\n",
        "    S1hsvrefA1_1207.append(S1meanrefA1_12v[:,i].mean())\n",
        "    S1hsvC2_107.append(S1meanC2_107[:,i].mean())"
      ],
      "execution_count": null,
      "outputs": []
    },
    {
      "cell_type": "code",
      "metadata": {
        "id": "fzsQSIGdaLO2"
      },
      "source": [
        "S1meanrefA1_1307 = list()\n",
        "S1meanC3_107 = list()\n",
        "for i in range(S1HSV_imgA1C3_7.shape[0]): \n",
        "     for j in range(S1HSV_imgA1C3_7.shape[1]): \n",
        "                if 1769<i<1881 and 2019<j<2131 :\n",
        "                  S1meanrefA1_1307.append(S1HSV_imgA1C3_7[i][j])\n",
        "                if 1770<i<1880 and 2015<j<2145 :\n",
        "                  S1meanC3_107.append(S1HSV_imgA1C3_7[i][j])  \n",
        "S1meanrefA1_1307 = np.array(S1meanrefA1_1307)\n",
        "S1meanC3_107 = np.array(S1meanC3_107)\n",
        "\n",
        "S1hsvrefA1_1307 = list()\n",
        "S1hsvC3_107 = list()\n",
        "for i in range(3):\n",
        "    S1hsvrefA1_1307.append(S1meanrefA1_1307[:,i].mean())\n",
        "    S1hsvC3_107.append(S1meanC3_107[:,i].mean())"
      ],
      "execution_count": null,
      "outputs": []
    },
    {
      "cell_type": "code",
      "metadata": {
        "id": "mOaDWQ7qaLO2"
      },
      "source": [
        "S1meanrefA1_1407 = list()\n",
        "S1meanC4_107 = list()\n",
        "for i in range(S1HSV_imgA1C4_7.shape[0]): \n",
        "     for j in range(S1HSV_imgA1C4_7.shape[1]): \n",
        "                if 1769<i<1881 and 2019<j<2131 :\n",
        "                  S1meanrefA1_1407.append(S1HSV_imgA1C4_7[i][j])\n",
        "                if 1770<i<1880 and 2015<j<2145 :\n",
        "                  S1meanC4_107.append(S1HSV_imgA1C4_7[i][j])  \n",
        "S1meanrefA1_1407 = np.array(S1meanrefA1_1407)\n",
        "S1meanC4_107 = np.array(S1meanC4_107)\n",
        "\n",
        "S1hsvrefA1_1407 = list()\n",
        "S1hsvC4_107 = list()\n",
        "for i in range(3):\n",
        "    S1hsvrefA1_1407.append(S1meanrefA1_1407[:,i].mean())\n",
        "    S1hsvC4_107.append(S1meanC4_107[:,i].mean())"
      ],
      "execution_count": null,
      "outputs": []
    },
    {
      "cell_type": "code",
      "metadata": {
        "id": "1Duhj7d2aLO2"
      },
      "source": [
        "S1meanrefA1_1507 = list()\n",
        "S1meanD2_107 = list()\n",
        "for i in range(S1HSV_imgA1D2_7.shape[0]): \n",
        "     for j in range(S1HSV_imgA1D2_7.shape[1]): \n",
        "                if 1769<i<1881 and 2019<j<2131 :\n",
        "                  S1meanrefA1_1507.append(S1HSV_imgA1D2_7[i][j])\n",
        "                if 1770<i<1880 and 2015<j<2145 :\n",
        "                  S1meanD2_107.append(S1HSV_imgA1D2_7[i][j])  \n",
        "S1meanrefA1_1507 = np.array(S1meanrefA1_1507)\n",
        "S1meanD2_107 = np.array(S1meanD2_107)\n",
        "\n",
        "S1hsvrefA1_1507= list()\n",
        "S1hsvD2_107 = list()\n",
        "for i in range(3):\n",
        "    S1hsvrefA1_1507.append(S1meanrefA1_1507[:,i].mean())\n",
        "    S1hsvD2_107.append(S1meanD2_107[:,i].mean())"
      ],
      "execution_count": null,
      "outputs": []
    },
    {
      "cell_type": "code",
      "metadata": {
        "id": "wyYqoxQHaLO3"
      },
      "source": [
        "S1meanrefA1_1607 = list()\n",
        "S1meanD3_107 = list()\n",
        "for i in range(S1HSV_imgA1D3_7.shape[0]): \n",
        "     for j in range(S1HSV_imgA1D3_7.shape[1]): \n",
        "                if 1769<i<1881 and 2019<j<2131 :\n",
        "                  S1meanrefA1_1607.append(S1HSV_imgA1D3_7[i][j])\n",
        "                if 1770<i<1880 and 2015<j<2145 :\n",
        "                  S1meanD3_107.append(S1HSV_imgA1D3_7[i][j])  \n",
        "S1meanrefA1_1607 = np.array(S1meanrefA1_1607)\n",
        "S1meanD3_107 = np.array(S1meanD3_107)\n",
        "\n",
        "S1hsvrefA1_1607 = list()\n",
        "S1hsvD3_107 = list()\n",
        "for i in range(3):\n",
        "    S1hsvrefA1_1607.append(S1meanrefA1_1607[:,i].mean())\n",
        "    S1hsvD3_107.append(S1meanD3_107[:,i].mean())"
      ],
      "execution_count": null,
      "outputs": []
    },
    {
      "cell_type": "code",
      "metadata": {
        "id": "uyAIA7kcaLO3"
      },
      "source": [
        "S1meanrefA1_1707= list()\n",
        "S1meanD4_107 = list()\n",
        "for i in range(S1HSV_imgA1D4_7.shape[0]): \n",
        "     for j in range(S1HSV_imgA1D4_7.shape[1]): \n",
        "                if 1769<i<1881 and 2019<j<2131 :\n",
        "                  S1meanrefA1_1707.append(S1HSV_imgA1D4_7[i][j])\n",
        "                if 1770<i<1880 and 2015<j<2145 :\n",
        "                  S1meanD4_107.append(S1HSV_imgA1D4_7[i][j])  \n",
        "S1meanrefA1_1707 = np.array(S1meanrefA1_1407)\n",
        "S1meanD4_107 = np.array(S1meanD4_107,;)\n",
        "\n",
        "S1hsvrefA1_1707 = list()\n",
        "S1hsvD4_107 = list()\n",
        "for i in range(3):\n",
        "    S1hsvrefA1_1707.append(S1meanrefA1_1707[:,i].mean())\n",
        "    S1hsvD4_107.append(S1meanD4_107[:,i].mean())"
      ],
      "execution_count": null,
      "outputs": []
    },
    {
      "cell_type": "markdown",
      "metadata": {
        "id": "IIbAmU4c8zLH"
      },
      "source": [
        "###Img 8"
      ]
    },
    {
      "cell_type": "code",
      "metadata": {
        "id": "Hzy7F-biaMGK"
      },
      "source": [
        "S1meanrefA1_108 = list()\n",
        "S1meanA1_208 = list()\n",
        "for i in range(S1HSV_imgA1A1_8.shape[0]): #ให้ i รันตาม row หรือ shape[0] คือแถว มีทั้งหมด 4032 แถว ของภาพที่ปรับขนาดมาแล้ว\n",
        "     for j in range(S1HSV_imgA1A1_8.shape[1]): #ให้ j รันตาม colum มีทั้งหมด 3024 colum เช่น แถวที่ 1 เข้ามาให้รันครบ 3024colum\n",
        "                if 1769<i<1881 and 2019<j<2131 :\n",
        "                  S1meanrefA1_108.append(S1HSV_imgA1A1_8[i][j])\n",
        "                if 1770<i<1880 and 2015<j<2145 :\n",
        "                  S1meanA1_208.append(S1HSV_imgA1A1_8[i][j])  \n",
        "S1meanrefA1_108 = np.array(S1meanrefA1_108)\n",
        "S1meanA1_208 = np.array(S1meanA1_208)\n",
        "\n",
        "S1hsvrefA1_108 = list()\n",
        "S1hsvA1_208 = list()\n",
        "for i in range(3):\n",
        "    S1hsvrefA1_108.append(S1meanrefA1_108[:,i].mean())\n",
        "    S1hsvA1_208.append(S1meanA1_208[:,i].mean())\n",
        "S1hsvrefA1_108,S1hsvA1_208 "
      ],
      "execution_count": null,
      "outputs": []
    },
    {
      "cell_type": "code",
      "metadata": {
        "id": "EMMCn-BxaMGL"
      },
      "source": [
        "S1meanrefA1_308 = list()\n",
        "S1meanA2_108 = list()\n",
        "for i in range(S1HSV_imgA1A2_8.shape[0]): \n",
        "     for j in range(S1HSV_imgA1A2_8.shape[1]): \n",
        "                if 1769<i<1881 and 2019<j<2131 :\n",
        "                  S1meanrefA1_308.append(S1HSV_imgA1A2_8[i][j])\n",
        "                if 1770<i<1880 and 2015<j<2145 :\n",
        "                  S1meanA2_108.append(S1HSV_imgA1A2_8[i][j])  \n",
        "S1meanrefA1_308 = np.array(S1meanrefA1_308)\n",
        "S1meanA2_108 = np.array(S1meanA2_108)\n",
        "\n",
        "S1hsvrefA1_308 = list()\n",
        "S1hsvA2_108 = list()\n",
        "for i in range(3):\n",
        "    S1hsvrefA1_308.append(S1meanrefA1_308[:,i].mean())\n",
        "    S1hsvA2_108.append(S1meanA2_108[:,i].mean())"
      ],
      "execution_count": null,
      "outputs": []
    },
    {
      "cell_type": "code",
      "metadata": {
        "id": "2xgm4GLQaMGL"
      },
      "source": [
        "S1meanrefA1_408 = list()\n",
        "S1meanA3_108 = list()\n",
        "for i in range(S1HSV_imgA1A3_8.shape[0]): \n",
        "     for j in range(S1HSV_imgA1A3_8.shape[1]): \n",
        "                if 1769<i<1881 and 2019<j<2131 :\n",
        "                  S1meanrefA1_408.append(S1HSV_imgA1A3_8[i][j])\n",
        "                if 1770<i<1880 and 2015<j<2145 :\n",
        "                  S1meanA3_108.append(S1HSV_imgA1A3_8[i][j])  \n",
        "S1meanrefA1_408 = np.array(S1meanrefA1_408)\n",
        "S1meanA3_108 = np.array(S1meanA3_108)\n",
        "\n",
        "S1hsvrefA1_408 = list()\n",
        "S1hsvA3_108 = list()\n",
        "for i in range(3):\n",
        "    S1hsvrefA1_408.append(S1meanrefA1_408[:,i].mean())\n",
        "    S1hsvA3_108.append(S1meanA3_108[:,i].mean())"
      ],
      "execution_count": null,
      "outputs": []
    },
    {
      "cell_type": "code",
      "metadata": {
        "id": "olT75ndUaMGM"
      },
      "source": [
        "S1meanrefA1_5v = list()\n",
        "S1meanA3_5108 = list()\n",
        "for i in range(S1HSV_imgA1A3_58.shape[0]): \n",
        "     for j in range(S1HSV_imgA1A3_58.shape[1]): \n",
        "                if 1769<i<1881 and 2019<j<2131 :\n",
        "                  S1meanrefA1_508.append(S1HSV_imgA1A3_58[i][j])\n",
        "                if 1770<i<1880 and 2015<j<2145 :\n",
        "                  S1meanA3_5108.append(S1HSV_imgA1A3_58[i][j])  \n",
        "S1meanrefA1_508 = np.array(S1meanrefA1_508)\n",
        "S1meanA3_5108 = np.array(S1meanA3_5108)\n",
        "\n",
        "S1hsvrefA1_508 = list()\n",
        "S1hsvA3_5108 = list()\n",
        "for i in range(3):\n",
        "    S1hsvrefA1_508.append(S1meanrefA1_508[:,i].mean())\n",
        "    S1hsvA3_5108.append(S1meanA3_5108[:,i].mean())"
      ],
      "execution_count": null,
      "outputs": []
    },
    {
      "cell_type": "code",
      "metadata": {
        "id": "fpB6HLKZaMGM"
      },
      "source": [
        "S1meanrefA1_608 = list()\n",
        "S1meanA4_108 = list()\n",
        "for i in range(S1HSV_imgA1A4_8.shape[0]): \n",
        "     for j in range(S1HSV_imgA1A4_8.shape[1]): \n",
        "                if 1769<i<1881 and 2019<j<2131 :\n",
        "                  S1meanrefA1_608.append(S1HSV_imgA1A4_8[i][j])\n",
        "                if 1770<i<1880 and 2015<j<2145 :\n",
        "                  S1meanA4_108.append(S1HSV_imgA1A4_8[i][j])  \n",
        "S1meanrefA1_608 = np.array(S1meanrefA1_608)\n",
        "S1meanA4_108 = np.array(S1meanA4_108)\n",
        "\n",
        "S1hsvrefA1_608 = list()\n",
        "S1hsvA4_108= list()\n",
        "for i in range(3):\n",
        "    S1hsvrefA1_608.append(S1meanrefA1_608[:,i].mean())\n",
        "    S1hsvA4_108.append(S1meanA4_108[:,i].mean())"
      ],
      "execution_count": null,
      "outputs": []
    },
    {
      "cell_type": "code",
      "metadata": {
        "id": "1-WgN6hraMGN"
      },
      "source": [
        "S1meanrefA1_708 = list()\n",
        "S1meanB1_108 = list()\n",
        "for i in range(S1HSV_imgA1B1_8.shape[0]): \n",
        "     for j in range(S1HSV_imgA1B1_8.shape[1]): \n",
        "                if 1769<i<1881 and 2019<j<2131 :\n",
        "                  S1meanrefA1_708.append(S1HSV_imgA1B1_8[i][j])\n",
        "                if 1770<i<1880 and 2015<j<2145 :\n",
        "                  S1meanB1_108.append(S1HSV_imgA1B1_8[i][j])  \n",
        "S1meanrefA1_708 = np.array(S1meanrefA1_708)\n",
        "S1meanB1_108 = np.array(S1meanB1_108)\n",
        "\n",
        "S1hsvrefA1_708 = list()\n",
        "S1hsvB1_108 = list()\n",
        "for i in range(3):\n",
        "    S1hsvrefA1_708.append(S1meanrefA1_708[:,i].mean())\n",
        "    S1hsvB1_108.append(S1meanB1_108[:,i].mean())"
      ],
      "execution_count": null,
      "outputs": []
    },
    {
      "cell_type": "code",
      "metadata": {
        "id": "8wj86GqWaMGN"
      },
      "source": [
        "S1meanrefA1_808 = list()\n",
        "S1meanB2_108 = list()\n",
        "for i in range(S1HSV_imgA1B2_8.shape[0]): \n",
        "     for j in range(S1HSV_imgA1B2_8.shape[1]): \n",
        "                if 1769<i<1881 and 2019<j<2131 :\n",
        "                  S1meanrefA1_808.append(S1HSV_imgA1B2_8[i][j])\n",
        "                if 1770<i<1880 and 2015<j<2145 :\n",
        "                  S1meanB2_108.append(S1HSV_imgA1B2_8[i][j])  \n",
        "S1meanrefA1_808 = np.array(S1meanrefA1_808)\n",
        "S1meanB2_108 = np.array(S1meanB2_108)\n",
        "\n",
        "S1hsvrefA1_808 = list()\n",
        "S1hsvB2_108 = list()\n",
        "for i in range(3):\n",
        "    S1hsvrefA1_808.append(S1meanrefA1_808[:,i].mean())\n",
        "    S1hsvB2_108.append(S1meanB2_108[:,i].mean())"
      ],
      "execution_count": null,
      "outputs": []
    },
    {
      "cell_type": "code",
      "metadata": {
        "id": "VYEUKhV4aMGN"
      },
      "source": [
        "S1meanrefA1_908 = list()\n",
        "S1meanB3_108 = list()\n",
        "for i in range(S1HSV_imgA1B3_8.shape[0]): \n",
        "     for j in range(S1HSV_imgA1B3_8.shape[1]): \n",
        "                if 1769<i<1881 and 2019<j<2131 :\n",
        "                  S1meanrefA1_908.append(S1HSV_imgA1B3_8[i][j])\n",
        "                if 1770<i<1880 and 2015<j<2145 :\n",
        "                  S1meanB3_108.append(S1HSV_imgA1B3_8[i][j])  \n",
        "S1meanrefA1_908 = np.array(S1meanrefA1_908)\n",
        "S1meanB3_108 = np.array(S1meanB3_108)\n",
        "\n",
        "S1hsvrefA1_908 = list()\n",
        "S1hsvB3_108 = list()\n",
        "for i in range(3):\n",
        "    S1hsvrefA1_908.append(S1meanrefA1_908[:,i].mean())\n",
        "    S1hsvB3_108.append(S1meanB3_108[:,i].mean())"
      ],
      "execution_count": null,
      "outputs": []
    },
    {
      "cell_type": "code",
      "metadata": {
        "id": "O6a-Oj_QaMGO"
      },
      "source": [
        "S1meanrefA1_1008 = list()\n",
        "S1meanB4_108 = list()\n",
        "for i in range(S1HSV_imgA1B4_8.shape[0]): \n",
        "     for j in range(S1HSV_imgA1B4_8.shape[1]): \n",
        "                if 1769<i<1881 and 2019<j<2131 :\n",
        "                  S1meanrefA1_1008.append(S1HSV_imgA1B4_8[i][j])\n",
        "                if 1770<i<1880 and 2015<j<2145 :\n",
        "                  S1meanB4_108.append(S1HSV_imgA1B4_8[i][j])  \n",
        "S1meanrefA1_1008 = np.array(S1meanrefA1_1008)\n",
        "S1meanB4_108 = np.array(S1meanB4_108)\n",
        "\n",
        "S1hsvrefA1_1008 = list()\n",
        "S1hsvB4_108 = list()\n",
        "for i in range(3):\n",
        "    S1hsvrefA1_1008.append(S1meanrefA1_1008[:,i].mean())\n",
        "    S1hsvB4_108.append(S1meanB4_108[:,i].mean())"
      ],
      "execution_count": null,
      "outputs": []
    },
    {
      "cell_type": "code",
      "metadata": {
        "id": "khCqeayFaMGO"
      },
      "source": [
        "S1meanrefA1_1108 = list()\n",
        "S1meanC1_108 = list()\n",
        "for i in range(S1HSV_imgA1C1_8.shape[0]): \n",
        "     for j in range(S1HSV_imgA1C1_8.shape[1]): \n",
        "                if 1769<i<1881 and 2019<j<2131 :\n",
        "                  S1meanrefA1_1108.append(S1HSV_imgA1C1_8[i][j])\n",
        "                if 1770<i<1880 and 2015<j<2145 :\n",
        "                  S1meanC1_108.append(S1HSV_imgA1C1_8[i][j])  \n",
        "S1meanrefA1_1108 = np.array(S1meanrefA1_1108)\n",
        "S1meanC1_108 = np.array(S1meanC1_108)\n",
        "\n",
        "S1hsvrefA1_1108 = list()\n",
        "S1hsvC1_108 = list()\n",
        "for i in range(3):\n",
        "    S1hsvrefA1_1108.append(S1meanrefA1_1108[:,i].mean())\n",
        "    S1hsvC1_108.append(S1meanC1_108[:,i].mean())"
      ],
      "execution_count": null,
      "outputs": []
    },
    {
      "cell_type": "code",
      "metadata": {
        "id": "yMVke6-8aMGO"
      },
      "source": [
        "S1meanrefA1_1208 = list()\n",
        "S1meanC2_108 = list()\n",
        "for i in range(S1HSV_imgA1C2_808.shape[0]): \n",
        "     for j in range(S1HSV_imgA1C2_8.shape[1]): \n",
        "                if 1769<i<1881 and 2019<j<2131 :\n",
        "                  S1meanrefA1_1208.append(S1HSV_imgA1C2_8[i][j])\n",
        "                if 1770<i<1880 and 2015<j<2145 :\n",
        "                  S1meanC2_108.append(S1HSV_imgA1C2_8[i][j])  \n",
        "S1meanrefA1_12v = np.array(S1meanrefA1_1208)\n",
        "S1meanC2_108 = np.array(S1meanC2_108)\n",
        "\n",
        "S1hsvrefA1_12v = list()\n",
        "S1hsvC2_108 = list()\n",
        "for i in range(3):\n",
        "    S1hsvrefA1_1208.append(S1meanrefA1_1208[:,i].mean())\n",
        "    S1hsvC2_108.append(S1meanC2_108[:,i].mean())"
      ],
      "execution_count": null,
      "outputs": []
    },
    {
      "cell_type": "code",
      "metadata": {
        "id": "UgwKX_b_aMGP"
      },
      "source": [
        "S1meanrefA1_1308 = list()\n",
        "S1meanC3_108 = list()\n",
        "for i in range(S1HSV_imgA1C3_8.shape[0]): \n",
        "     for j in range(S1HSV_imgA1C3_8.shape[1]): \n",
        "                if 1769<i<1881 and 2019<j<2131 :\n",
        "                  S1meanrefA1_1308.append(S1HSV_imgA1C3_8[i][j])\n",
        "                if 1770<i<1880 and 2015<j<2145 :\n",
        "                  S1meanC3_108.append(S1HSV_imgA1C3_8[i][j])  \n",
        "S1meanrefA1_1308 = np.array(S1meanrefA1_1308)\n",
        "S1meanC3_108 = np.array(S1meanC3_108)\n",
        "\n",
        "S1hsvrefA1_1308 = list()\n",
        "S1hsvC3_108 = list()\n",
        "for i in range(3):\n",
        "    S1hsvrefA1_1308.append(S1meanrefA1_1308[:,i].mean())\n",
        "    S1hsvC3_108.append(S1meanC3_108[:,i].mean())"
      ],
      "execution_count": null,
      "outputs": []
    },
    {
      "cell_type": "code",
      "metadata": {
        "id": "8h182Fb4aMGP"
      },
      "source": [
        "S1meanrefA1_1408 = list()\n",
        "S1meanC4_108 = list()\n",
        "for i in range(S1HSV_imgA1C4_8.shape[0]): \n",
        "     for j in range(S1HSV_imgA1C4_8.shape[1]): \n",
        "                if 1769<i<1881 and 2019<j<2131 :\n",
        "                  S1meanrefA1_1408.append(S1HSV_imgA1C4_8[i][j])\n",
        "                if 1770<i<1880 and 2015<j<2145 :\n",
        "                  S1meanC4_108.append(S1HSV_imgA1C4_8[i][j])  \n",
        "S1meanrefA1_1408 = np.array(S1meanrefA1_1408)\n",
        "S1meanC4_108 = np.array(S1meanC4_108)\n",
        "\n",
        "S1hsvrefA1_1408 = list()\n",
        "S1hsvC4_108= list()\n",
        "for i in range(3):\n",
        "    S1hsvrefA1_1408.append(S1meanrefA1_1408[:,i].mean())\n",
        "    S1hsvC4_108.append(S1meanC4_108[:,i].mean())"
      ],
      "execution_count": null,
      "outputs": []
    },
    {
      "cell_type": "code",
      "metadata": {
        "id": "9BXV9f8iaMGP"
      },
      "source": [
        "S1meanrefA1_1508 = list()\n",
        "S1meanD2_108 = list()\n",
        "for i in range(S1HSV_imgA1D2_8.shape[0]): \n",
        "     for j in range(S1HSV_imgA1D2_8.shape[1]): \n",
        "                if 1769<i<1881 and 2019<j<2131 :\n",
        "                  S1meanrefA1_1508.append(S1HSV_imgA1D2_8[i][j])\n",
        "                if 1770<i<1880 and 2015<j<2145 :\n",
        "                  S1meanD2_108.append(S1HSV_imgA1D2_8[i][j])  \n",
        "S1meanrefA1_1508 = np.array(S1meanrefA1_1508)\n",
        "S1meanD2_108 = np.array(S1meanD2_108)\n",
        "\n",
        "S1hsvrefA1_1508 = list()\n",
        "S1hsvD2_108 = list()\n",
        "for i in range(3):\n",
        "    S1hsvrefA1_1508.append(S1meanrefA1_1508[:,i].mean())\n",
        "    S1hsvD2_108.append(S1meanD2_108[:,i].mean())"
      ],
      "execution_count": null,
      "outputs": []
    },
    {
      "cell_type": "code",
      "metadata": {
        "id": "gs-nH3FNaMGQ"
      },
      "source": [
        "S1meanrefA1_1608 = list()\n",
        "S1meanD3_108 = list()\n",
        "for i in range(S1HSV_imgA1D3_8.shape[0]): \n",
        "     for j in range(S1HSV_imgA1D3_8.shape[1]): \n",
        "                if 1769<i<1881 and 2019<j<2131 :\n",
        "                  S1meanrefA1_1608.append(S1HSV_imgA1D3_8[i][j])\n",
        "                if 1770<i<1880 and 2015<j<2145 :\n",
        "                  S1meanD3_108.append(S1HSV_imgA1D3_8[i][j])  \n",
        "S1meanrefA1_1608 = np.array(S1meanrefA1_1608)\n",
        "S1meanD3_108 = np.array(S1meanD3_108)\n",
        "\n",
        "S1hsvrefA1_1608 = list()\n",
        "S1hsvD3_108 = list()\n",
        "for i in range(3):\n",
        "    S1hsvrefA1_1608.append(S1meanrefA1_1608[:,i].mean())\n",
        "    S1hsvD3_108.append(S1meanD3_108[:,i].mean())"
      ],
      "execution_count": null,
      "outputs": []
    },
    {
      "cell_type": "code",
      "metadata": {
        "id": "AXlXJX4oaMGQ"
      },
      "source": [
        "S1meanrefA1_1708= list()\n",
        "S1meanD4_108 = list()\n",
        "for i in range(S1HSV_imgA1D4_8.shape[0]): \n",
        "     for j in range(S1HSV_imgA1D4_8.shape[1]): \n",
        "                if 1769<i<1881 and 2019<j<2131 :\n",
        "                  S1meanrefA1_1708.append(S1HSV_imgA1D4_8[i][j])\n",
        "                if 1770<i<1880 and 2015<j<2145 :\n",
        "                  S1meanD4_108.append(S1HSV_imgA1D4_8[i][j])  \n",
        "S1meanrefA1_1708= np.array(S1meanrefA1_1408)\n",
        "S1meanD4_108 = np.array(S1meanD4_108)\n",
        "\n",
        "S1hsvrefA1_1708 = list()\n",
        "S1hsvD4_108 = list()\n",
        "for i in range(3):\n",
        "    S1hsvrefA1_1708.append(S1meanrefA1_1708[:,i].mean())\n",
        "    S1hsvD4_108.append(S1meanD4_108[:,i].mean())"
      ],
      "execution_count": null,
      "outputs": []
    },
    {
      "cell_type": "markdown",
      "metadata": {
        "id": "9ZaflMLv85V3"
      },
      "source": [
        "###Img 9"
      ]
    },
    {
      "cell_type": "code",
      "metadata": {
        "id": "W4WXlsNWaM0v"
      },
      "source": [
        "S1meanrefA1_109 = list()\n",
        "S1meanA1_209 = list()\n",
        "for i in range(S1HSV_imgA1A1_9.shape[0]): #ให้ i รันตาม row หรือ shape[0] คือแถว มีทั้งหมด 4032 แถว ของภาพที่ปรับขนาดมาแล้ว\n",
        "     for j in range(S1HSV_imgA1A1_9.shape[1]): #ให้ j รันตาม colum มีทั้งหมด 3024 colum เช่น แถวที่ 1 เข้ามาให้รันครบ 3024colum\n",
        "                if 1769<i<1881 and 2019<j<2131 :\n",
        "                  S1meanrefA1_109.append(S1HSV_imgA1A1_9[i][j])\n",
        "                if 1770<i<1880 and 2015<j<2145 :\n",
        "                  S1meanA1_209.append(S1HSV_imgA1A1_9[i][j])  \n",
        "S1meanrefA1_109 = np.array(S1meanrefA1_109)\n",
        "S1meanA1_209 = np.array(S1meanA1_209)\n",
        "\n",
        "S1hsvrefA1_109 = list()\n",
        "S1hsvA1_209 = list()\n",
        "for i in range(3):\n",
        "    S1hsvrefA1_109.append(S1meanrefA1_109[:,i].mean())\n",
        "    S1hsvA1_209.append(S1meanA1_209[:,i].mean())\n",
        "S1hsvrefA1_109,S1hsvA1_209"
      ],
      "execution_count": null,
      "outputs": []
    },
    {
      "cell_type": "code",
      "metadata": {
        "id": "4w2I3ZEmaM0w"
      },
      "source": [
        "S1meanrefA1_309 = list()\n",
        "S1meanA2_109 = list()\n",
        "for i in range(S1HSV_imgA1A2_9.shape[0]): \n",
        "     for j in range(S1HSV_imgA1A2_9.shape[1]): \n",
        "                if 1769<i<1881 and 2019<j<2131 :\n",
        "                  S1meanrefA1_309.append(S1HSV_imgA1A2_9[i][j])\n",
        "                if 1770<i<1880 and 2015<j<2145 :\n",
        "                  S1meanA2_109.append(S1HSV_imgA1A2_9[i][j])  \n",
        "S1meanrefA1_309 = np.array(S1meanrefA1_309)\n",
        "S1meanA2_109 = np.array(S1meanA2_109)\n",
        "\n",
        "S1hsvrefA1_309 = list()\n",
        "S1hsvA2_109 = list()\n",
        "for i in range(3):\n",
        "    S1hsvrefA1_309.append(S1meanrefA1_309[:,i].mean())\n",
        "    S1hsvA2_109.append(S1meanA2_109[:,i].mean())"
      ],
      "execution_count": null,
      "outputs": []
    },
    {
      "cell_type": "code",
      "metadata": {
        "id": "YXMWU467aM0w"
      },
      "source": [
        "S1meanrefA1_409 = list()\n",
        "S1meanA3_109 = list()\n",
        "for i in range(S1HSV_imgA1A3_9.shape[0]): \n",
        "     for j in range(S1HSV_imgA1A3_9.shape[1]): \n",
        "                if 1769<i<1881 and 2019<j<2131 :\n",
        "                  S1meanrefA1_409.append(S1HSV_imgA1A3_9[i][j])\n",
        "                if 1770<i<1880 and 2015<j<2145 :\n",
        "                  S1meanA3_109.append(S1HSV_imgA1A3_9[i][j])  \n",
        "S1meanrefA1_409 = np.array(S1meanrefA1_409\n",
        "S1meanA3_109 = np.array(S1meanA3_109)\n",
        "\n",
        "S1hsvrefA1_409= list()\n",
        "S1hsvA3_109 = list()\n",
        "for i in range(3):\n",
        "    S1hsvrefA1_409.append(S1meanrefA1_409[:,i].mean())\n",
        "    S1hsvA3_109.append(S1meanA3_109[:,i].mean())"
      ],
      "execution_count": null,
      "outputs": []
    },
    {
      "cell_type": "code",
      "metadata": {
        "id": "4kz1oWhlaM0x"
      },
      "source": [
        "S1meanrefA1_509 = list()\n",
        "S1meanA3_5109 = list()\n",
        "for i in range(S1HSV_imgA1A3_59.shape[0]): \n",
        "     for j in range(S1HSV_imgA1A3_59.shape[1]): \n",
        "                if 1769<i<1881 and 2019<j<2131 :\n",
        "                  S1meanrefA1_509.append(S1HSV_imgA1A3_59[i][j])\n",
        "                if 1770<i<1880 and 2015<j<2145 :\n",
        "                  S1meanA3_5109.append(S1HSV_imgA1A3_59[i][j])  \n",
        "S1meanrefA1_509 = np.array(S1meanrefA1_509)\n",
        "S1meanA3_5109 = np.array(S1meanA3_5109)\n",
        "\n",
        "S1hsvrefA1_509 = list()\n",
        "S1hsvA3_5109 = list()\n",
        "for i in range(3):\n",
        "    S1hsvrefA1_509.append(S1meanrefA1_509[:,i].mean())\n",
        "    S1hsvA3_5109.append(S1meanA3_5109[:,i].mean())"
      ],
      "execution_count": null,
      "outputs": []
    },
    {
      "cell_type": "code",
      "metadata": {
        "id": "ChBWFn7laM0x"
      },
      "source": [
        "S1meanrefA1_609 = list()\n",
        "S1meanA4_109 = list()\n",
        "for i in range(S1HSV_imgA1A4_9.shape[0]): \n",
        "     for j in range(S1HSV_imgA1A4_9.shape[1]): \n",
        "                if 1769<i<1881 and 2019<j<2131 :\n",
        "                  S1meanrefA1_609.append(S1HSV_imgA1A4_9[i][j])\n",
        "                if 1770<i<1880 and 2015<j<2145 :\n",
        "                  S1meanA4_109.append(S1HSV_imgA1A4_9[i][j])  \n",
        "S1meanrefA1_609 = np.array(S1meanrefA1_609)\n",
        "S1meanA4_109 = np.array(S1meanA4_109)\n",
        "\n",
        "S1hsvrefA1_609 = list()\n",
        "S1hsvA4_109 = list()\n",
        "for i in range(3):\n",
        "    S1hsvrefA1_609.append(S1meanrefA1_609[:,i].mean())\n",
        "    S1hsvA4_109.append(S1meanA4_109[:,i].mean())"
      ],
      "execution_count": null,
      "outputs": []
    },
    {
      "cell_type": "code",
      "metadata": {
        "id": "YB-Fsv_BaM0y"
      },
      "source": [
        "S1meanrefA1_709 = list()\n",
        "S1meanB1_109 = list()\n",
        "for i in range(S1HSV_imgA1B1_9.shape[0]): \n",
        "     for j in range(S1HSV_imgA1B1_9.shape[1]): \n",
        "                if 1769<i<1881 and 2019<j<2131 :\n",
        "                  S1meanrefA1_709.append(S1HSV_imgA1B1_9[i][j])\n",
        "                if 1770<i<1880 and 2015<j<2145 :\n",
        "                  S1meanB1_109.append(S1HSV_imgA1B1_9[i][j])  \n",
        "S1meanrefA1_709 = np.array(S1meanrefA1_709)\n",
        "S1meanB1_109 = np.array(S1meanB1_109)\n",
        "\n",
        "S1hsvrefA1_709 = list()\n",
        "S1hsvB1_109 = list()\n",
        "for i in range(3):\n",
        "    S1hsvrefA1_709.append(S1meanrefA1_709[:,i].mean())\n",
        "    S1hsvB1_109.append(S1meanB1_109[:,i].mean())"
      ],
      "execution_count": null,
      "outputs": []
    },
    {
      "cell_type": "code",
      "metadata": {
        "id": "BdmsGNwQaM0y"
      },
      "source": [
        "S1meanrefA1_809 = list()\n",
        "S1meanB2_109= list()\n",
        "for i in range(S1HSV_imgA1B2_9.shape[0]): \n",
        "     for j in range(S1HSV_imgA1B2_9.shape[1]): \n",
        "                if 1769<i<1881 and 2019<j<2131 :\n",
        "                  S1meanrefA1_809.append(S1HSV_imgA1B2_[i][j])\n",
        "                if 1770<i<1880 and 2015<j<2145 :\n",
        "                  S1meanB2_109.append(S1HSV_imgA1B2_9[i][j])  \n",
        "S1meanrefA1_809 = np.array(S1meanrefA1_809)\n",
        "S1meanB2_109 = np.array(S1meanB2_109)\n",
        "\n",
        "S1hsvrefA1_809 = list()\n",
        "S1hsvB2_109 = list()\n",
        "for i in range(3):\n",
        "    S1hsvrefA1_809.append(S1meanrefA1_809[:,i].mean())\n",
        "    S1hsvB2_109.append(S1meanB2_109[:,i].mean())"
      ],
      "execution_count": null,
      "outputs": []
    },
    {
      "cell_type": "code",
      "metadata": {
        "id": "XOEcPUFBaM0y"
      },
      "source": [
        "S1meanrefA1_909 = list()\n",
        "S1meanB3_109 = list()\n",
        "for i in range(S1HSV_imgA1B3_9.shape[0]): \n",
        "     for j in range(S1HSV_imgA1B3_9.shape[1]): \n",
        "                if 1769<i<1881 and 2019<j<2131 :\n",
        "                  S1meanrefA1_909.append(S1HSV_imgA1B3_9[i][j])\n",
        "                if 1770<i<1880 and 2015<j<2145 :\n",
        "                  S1meanB3_109.append(S1HSV_imgA1B3_9[i][j])  \n",
        "S1meanrefA1_909 = np.array(S1meanrefA1_909)\n",
        "S1meanB3_109 = np.array(S1meanB3_109)\n",
        "\n",
        "S1hsvrefA1_909 = list()\n",
        "S1hsvB3_109 = list()\n",
        "for i in range(3):\n",
        "    S1hsvrefA1_909.append(S1meanrefA1_909[:,i].mean())\n",
        "    S1hsvB3_109.append(S1meanB3_109[:,i].mean())"
      ],
      "execution_count": null,
      "outputs": []
    },
    {
      "cell_type": "code",
      "metadata": {
        "id": "od4ATwMOaM0z"
      },
      "source": [
        "S1meanrefA1_1009 = list()\n",
        "S1meanB4_109 = list()\n",
        "for i in range(S1HSV_imgA1B4_9.shape[0]): \n",
        "     for j in range(S1HSV_imgA1B4_9.shape[1]): \n",
        "                if 1769<i<1881 and 2019<j<2131 :\n",
        "                  S1meanrefA1_1009.append(S1HSV_imgA1B4_9[i][j])\n",
        "                if 1770<i<1880 and 2015<j<2145 :\n",
        "                  S1meanB4_109.append(S1HSV_imgA1B4_9[i][j])  \n",
        "S1meanrefA1_1009= np.array(S1meanrefA1_1009)\n",
        "S1meanB4_109 = np.array(S1meanB4_109)\n",
        "\n",
        "S1hsvrefA1_1009 = list()\n",
        "S1hsvB4_109 = list()\n",
        "for i in range(3):\n",
        "    S1hsvrefA1_1009.append(S1meanrefA1_1009[:,i].mean())\n",
        "    S1hsvB4_109.append(S1meanB4_109[:,i].mean())"
      ],
      "execution_count": null,
      "outputs": []
    },
    {
      "cell_type": "code",
      "metadata": {
        "id": "gcoKVHdDaM0z"
      },
      "source": [
        "S1meanrefA1_1109 = list()\n",
        "S1meanC1_109 = list()\n",
        "for i in range(S1HSV_imgA1C1_9.shape[0]): \n",
        "     for j in range(S1HSV_imgA1C1_9.shape[1]): \n",
        "                if 1769<i<1881 and 2019<j<2131 :\n",
        "                  S1meanrefA1_1109.append(S1HSV_imgA1C1_9[i][j])\n",
        "                if 1770<i<1880 and 2015<j<2145 :\n",
        "                  S1meanC1_109.append(S1HSV_imgA1C1_9[i][j])  \n",
        "S1meanrefA1_1109 = np.array(S1meanrefA1_1109)\n",
        "S1meanC1_109 = np.array(S1meanC1_109)\n",
        "\n",
        "S1hsvrefA1_1109 = list()\n",
        "S1hsvC1_109 = list()\n",
        "for i in range(3):\n",
        "    S1hsvrefA1_1109.append(S1meanrefA1_1109[:,i].mean())\n",
        "    S1hsvC1_109.append(S1meanC1_109[:,i].mean())"
      ],
      "execution_count": null,
      "outputs": []
    },
    {
      "cell_type": "code",
      "metadata": {
        "id": "zDVWfnXgaM0z"
      },
      "source": [
        "S1meanrefA1_1209 = list()\n",
        "S1meanC2_109 = list()\n",
        "for i in range(S1HSV_imgA1C2_909.shape[0]): \n",
        "     for j in range(S1HSV_imgA1C2_909.shape[1]): \n",
        "                if 1769<i<1881 and 2019<j<2131 :\n",
        "                  S1meanrefA1_1209.append(S1HSV_imgA1C2_9[i][j])\n",
        "                if 1770<i<1880 and 2015<j<2145 :\n",
        "                  S1meanC2_109.append(S1HSV_imgA1C2_9[i][j])  \n",
        "S1meanrefA1_1209 = np.array(S1meanrefA1_1209)\n",
        "S1meanC2_109 = np.array(S1meanC2_109)\n",
        "\n",
        "S1hsvrefA1_1209 = list()\n",
        "S1hsvC2_109= list()\n",
        "for i in range(3):\n",
        "    S1hsvrefA1_1209.append(S1meanrefA1_1209[:,i].mean())\n",
        "    S1hsvC2_109.append(S1meanC2_109[:,i].mean())"
      ],
      "execution_count": null,
      "outputs": []
    },
    {
      "cell_type": "code",
      "metadata": {
        "id": "d-8xdYb2aM00"
      },
      "source": [
        "S1meanrefA1_1309 = list()\n",
        "S1meanC3_109 = list()\n",
        "for i in range(S1HSV_imgA1C3_9.shape[0]): \n",
        "     for j in range(S1HSV_imgA1C3_9.shape[1]): \n",
        "                if 1769<i<1881 and 2019<j<2131 :\n",
        "                  S1meanrefA1_1309.append(S1HSV_imgA1C3_9[i][j])\n",
        "                if 1770<i<1880 and 2015<j<2145 :\n",
        "                  S1meanC3_109.append(S1HSV_imgA1C3_9[i][j])  \n",
        "S1meanrefA1_1309 = np.array(S1meanrefA1_1309)\n",
        "S1meanC3_109 = np.array(S1meanC3_109)\n",
        "\n",
        "S1hsvrefA1_1309 = list()\n",
        "S1hsvC3_109 = list()\n",
        "for i in range(3):\n",
        "    S1hsvrefA1_1309.append(S1meanrefA1_1309[:,i].mean())\n",
        "    S1hsvC3_109.append(S1meanC3_109[:,i].mean())"
      ],
      "execution_count": null,
      "outputs": []
    },
    {
      "cell_type": "code",
      "metadata": {
        "id": "fav2ffSCaM00"
      },
      "source": [
        "S1meanrefA1_1409 = list()\n",
        "S1meanC4_109 = list()\n",
        "for i in range(S1HSV_imgA1C4_9.shape[0]): \n",
        "     for j in range(S1HSV_imgA1C4_9.shape[1]): \n",
        "                if 1769<i<1881 and 2019<j<2131 :\n",
        "                  S1meanrefA1_1409.append(S1HSV_imgA1C4_9[i][j])\n",
        "                if 1770<i<1880 and 2015<j<2145 :\n",
        "                  S1meanC4_109.append(S1HSV_imgA1C4_9[i][j])  \n",
        "S1meanrefA1_1409 = np.array(S1meanrefA1_1409)\n",
        "S1meanC4_109 = np.array(S1meanC4_109)\n",
        "\n",
        "S1hsvrefA1_1409 = list()\n",
        "S1hsvC4_109 = list()\n",
        "for i in range(3):\n",
        "    S1hsvrefA1_1409.append(S1meanrefA1_1409[:,i].mean())\n",
        "    S1hsvC4_109.append(S1meanC4_109[:,i].mean())"
      ],
      "execution_count": null,
      "outputs": []
    },
    {
      "cell_type": "code",
      "metadata": {
        "id": "cdN2_NdEaM00"
      },
      "source": [
        "S1meanrefA1_1509 = list()\n",
        "S1meanD2_1v = list()\n",
        "for i in range(S1HSV_imgA1D2_9.shape[0]): \n",
        "     for j in range(S1HSV_imgA1D2_9.shape[1]): \n",
        "                if 1769<i<1881 and 2019<j<2131 :\n",
        "                  S1meanrefA1_1509.append(S1HSV_imgA1D2_9[i][j])\n",
        "                if 1770<i<1880 and 2015<j<2145 :\n",
        "                  S1meanD2_109.append(S1HSV_imgA1D2_9[i][j])  \n",
        "S1meanrefA1_1509 = np.array(S1meanrefA1_1509)\n",
        "S1meanD2_109 = np.array(S1meanD2_109)\n",
        "\n",
        "S1hsvrefA1_1509 = list()\n",
        "S1hsvD2_109 = list()\n",
        "for i in range(3):\n",
        "    S1hsvrefA1_1509.append(S1meanrefA1_1509[:,i].mean())\n",
        "    S1hsvD2_109.append(S1meanD2_109[:,i].mean())"
      ],
      "execution_count": null,
      "outputs": []
    },
    {
      "cell_type": "code",
      "metadata": {
        "id": "LdfHLLuSaM01"
      },
      "source": [
        "S1meanrefA1_1609 = list()\n",
        "S1meanD3_109 = list()\n",
        "for i in range(S1HSV_imgA1D3_9.shape[0]): \n",
        "     for j in range(S1HSV_imgA1D3_.shape[1]): \n",
        "                if 1769<i<1881 and 2019<j<2131 :\n",
        "                  S1meanrefA1_1609.append(S1HSV_imgA1D3_9[i][j])\n",
        "                if 1770<i<1880 and 2015<j<2145 :\n",
        "                  S1meanD3_109.append(S1HSV_imgA1D3_9[i][j])  \n",
        "S1meanrefA1_1609 = np.array(S1meanrefA1_1609)\n",
        "S1meanD3_109= np.array(S1meanD3_109)\n",
        "\n",
        "S1hsvrefA1_1609 = list()\n",
        "S1hsvD3_109 = list()\n",
        "for i in range(3):\n",
        "    S1hsvrefA1_1609.append(S1meanrefA1_1609[:,i].mean())\n",
        "    S1hsvD3_109.append(S1meanD3_109[:,i].mean())"
      ],
      "execution_count": null,
      "outputs": []
    },
    {
      "cell_type": "code",
      "metadata": {
        "id": "OVXhSyB-aM01"
      },
      "source": [
        "S1meanrefA1_1709= list()\n",
        "S1meanD4_109 = list()\n",
        "for i in range(S1HSV_imgA1D4_9.shape[0]): \n",
        "     for j in range(S1HSV_imgA1D4_9.shape[1]): \n",
        "                if 1769<i<1881 and 2019<j<2131 :\n",
        "                  S1meanrefA1_1709.append(S1HSV_imgA1D4_9[i][j])\n",
        "                if 1770<i<1880 and 2015<j<2145 :\n",
        "                  S1meanD4_109.append(S1HSV_imgA1D4_9[i][j])  \n",
        "S1meanrefA1_1709 = np.array(S1meanrefA1_1409)\n",
        "S1meanD4_109 = np.array(S1meanD4_109)\n",
        "\n",
        "S1hsvrefA1_17v = list()\n",
        "S1hsvD4_109 = list()\n",
        "for i in range(3):\n",
        "    S1hsvrefA1_1709.append(S1meanrefA1_1709[:,i].mean())\n",
        "    S1hsvD4_109.append(S1meanD4_109[:,i].mean())"
      ],
      "execution_count": null,
      "outputs": []
    },
    {
      "cell_type": "markdown",
      "metadata": {
        "id": "h7eJLBcF88-x"
      },
      "source": [
        "###Img 10"
      ]
    },
    {
      "cell_type": "code",
      "metadata": {
        "id": "YvFLsTCVaNrH"
      },
      "source": [
        "S1meanrefA1_110 = list()\n",
        "S1meanA1_210 = list()\n",
        "for i in range(S1HSV_imgA1A1_10.shape[0]): #ให้ i รันตาม row หรือ shape[0] คือแถว มีทั้งหมด 4032 แถว ของภาพที่ปรับขนาดมาแล้ว\n",
        "     for j in range(S1HSV_imgA1A1_10.shape[1]): #ให้ j รันตาม colum มีทั้งหมด 3024 colum เช่น แถวที่ 1 เข้ามาให้รันครบ 3024colum\n",
        "                if 1769<i<1881 and 2019<j<2131 :\n",
        "                  S1meanrefA1_110.append(S1HSV_imgA1A1_10[i][j])\n",
        "                if 1770<i<1880 and 2015<j<2145 :\n",
        "                  S1meanA1_210.append(S1HSV_imgA1A1_10[i][j])  \n",
        "S1meanrefA1_110 = np.array(S1meanrefA1_110)\n",
        "S1meanA1_210 = np.array(S1meanA1_210)\n",
        "\n",
        "S1hsvrefA1_110 = list()\n",
        "S1hsvA1_210 = list()\n",
        "for i in range(3):\n",
        "    S1hsvrefA1_110.append(S1meanrefA1_110[:,i].mean())\n",
        "    S1hsvA1_210.append(S1meanA1_210[:,i].mean())\n",
        "S1hsvrefA1_110,S1hsvA1_210 "
      ],
      "execution_count": null,
      "outputs": []
    },
    {
      "cell_type": "code",
      "metadata": {
        "id": "cDwDw8dcaNrH"
      },
      "source": [
        "S1meanrefA1_310 = list()\n",
        "S1meanA2_110 = list()\n",
        "for i in range(S1HSV_imgA1A2_10.shape[0]): \n",
        "     for j in range(S1HSV_imgA1A2_10.shape[1]): \n",
        "                if 1769<i<1881 and 2019<j<2131 :\n",
        "                  S1meanrefA1_310.append(S1HSV_imgA1A2_10[i][j])\n",
        "                if 1770<i<1880 and 2015<j<2145 :\n",
        "                  S1meanA2_110.append(S1HSV_imgA1A2_10[i][j])  \n",
        "S1meanrefA1_310 = np.array(S1meanrefA1_310)\n",
        "S1meanA2_110 = np.array(S1meanA2_110)\n",
        "\n",
        "S1hsvrefA1_310 = list()\n",
        "S1hsvA2_110 = list()\n",
        "for i in range(3):\n",
        "    S1hsvrefA1_310.append(S1meanrefA1_310[:,i].mean())\n",
        "    S1hsvA2_110.append(S1meanA2_110[:,i].mean())"
      ],
      "execution_count": null,
      "outputs": []
    },
    {
      "cell_type": "code",
      "metadata": {
        "id": "A2uyYuOhaNrI"
      },
      "source": [
        "S1meanrefA1_410 = list()\n",
        "S1meanA3_110 = list()\n",
        "for i in range(S1HSV_imgA1A3_10.shape[0]): \n",
        "     for j in range(S1HSV_imgA1A3_10.shape[1]): \n",
        "                if 1769<i<1881 and 2019<j<2131 :\n",
        "                  S1meanrefA1_410.append(S1HSV_imgA1A3_10[i][j])\n",
        "                if 1770<i<1880 and 2015<j<2145 :\n",
        "                  S1meanA3_110.append(S1HSV_imgA1A3_10[i][j])  \n",
        "S1meanrefA1_410 = np.array(S1meanrefA1_410)\n",
        "S1meanA3_110 = np.array(S1meanA3_110)\n",
        "\n",
        "S1hsvrefA1_410 = list()\n",
        "S1hsvA3_110 = list()\n",
        "for i in range(3):\n",
        "    S1hsvrefA1_410.append(S1meanrefA1_410[:,i].mean())\n",
        "    S1hsvA3_110.append(S1meanA3_110[:,i].mean())"
      ],
      "execution_count": null,
      "outputs": []
    },
    {
      "cell_type": "code",
      "metadata": {
        "id": "_YejAHAYaNrJ"
      },
      "source": [
        "S1meanrefA1_510 = list()\n",
        "S1meanA3_5110 = list()\n",
        "for i in range(S1HSV_imgA1A3_510.shape[0]): \n",
        "     for j in range(S1HSV_imgA1A3_510.shape[1]): \n",
        "                if 1769<i<1881 and 2019<j<2131 :\n",
        "                  S1meanrefA1_510.append(S1HSV_imgA1A3_510[i][j])\n",
        "                if 1770<i<1880 and 2015<j<2145 :\n",
        "                  S1meanA3_5110.append(S1HSV_imgA1A3_510[i][j])  \n",
        "S1meanrefA1_510 = np.array(S1meanrefA1_5v)\n",
        "S1meanA3_5110 = np.array(S1meanA3_5110)\n",
        "\n",
        "S1hsvrefA1_510 = list()\n",
        "S1hsvA3_5110 = list()\n",
        "for i in range(3):\n",
        "    S1hsvrefA1_510.append(S1meanrefA1_510[:,i].mean())\n",
        "    S1hsvA3_5110.append(S1meanA3_5110[:,i].mean())"
      ],
      "execution_count": null,
      "outputs": []
    },
    {
      "cell_type": "code",
      "metadata": {
        "id": "Gwd5muvBaNrJ"
      },
      "source": [
        "S1meanrefA1_610 = list()\n",
        "S1meanA4_110 = list()\n",
        "for i in range(S1HSV_imgA1A4_10.shape[0]): \n",
        "     for j in range(S1HSV_imgA1A4_10.shape[1]): \n",
        "                if 1769<i<1881 and 2019<j<2131 :\n",
        "                  S1meanrefA1_610.append(S1HSV_imgA1A4_10[i][j])\n",
        "                if 1770<i<1880 and 2015<j<2145 :\n",
        "                  S1meanA4_110.append(S1HSV_imgA1A4_10[i][j])  \n",
        "S1meanrefA1_610 = np.array(S1meanrefA1_610)\n",
        "S1meanA4_110 = np.array(S1meanA4_110)\n",
        "\n",
        "S1hsvrefA1_610 = list()\n",
        "S1hsvA4_110 = list()\n",
        "for i in range(3):\n",
        "    S1hsvrefA1_610.append(S1meanrefA1_610[:,i].mean())\n",
        "    S1hsvA4_110.append(S1meanA4_110[:,i].mean())"
      ],
      "execution_count": null,
      "outputs": []
    },
    {
      "cell_type": "code",
      "metadata": {
        "id": "V4LxSM_eaNrK"
      },
      "source": [
        "S1meanrefA1_710 = list()\n",
        "S1meanB1_110 = list()\n",
        "for i in range(S1HSV_imgA1B1_10.shape[0]): \n",
        "     for j in range(S1HSV_imgA1B1_10.shape[1]): \n",
        "                if 1769<i<1881 and 2019<j<2131 :\n",
        "                  S1meanrefA1_710.append(S1HSV_imgA1B1_10[i][j])\n",
        "                if 1770<i<1880 and 2015<j<2145 :\n",
        "                  S1meanB1_110.append(S1HSV_imgA1B1_10[i][j])  \n",
        "S1meanrefA1_710 = np.array(S1meanrefA1_710)\n",
        "S1meanB1_110 = np.array(S1meanB1_110)\n",
        "\n",
        "S1hsvrefA1_710 = list()\n",
        "S1hsvB1_110 = list()\n",
        "for i in range(3):\n",
        "    S1hsvrefA1_710.append(S1meanrefA1_710[:,i].mean())\n",
        "    S1hsvB1_110.append(S1meanB1_110[:,i].mean())"
      ],
      "execution_count": null,
      "outputs": []
    },
    {
      "cell_type": "code",
      "metadata": {
        "id": "pj_g75AKaNrK"
      },
      "source": [
        "S1meanrefA1_810 = list()\n",
        "S1meanB2_1v = list()\n",
        "for i in range(S1HSV_imgA1B2_1010.shape[0]): \n",
        "     for j in range(S1HSV_imgA1B2_10.shape[1]): \n",
        "                if 1769<i<1881 and 2019<j<2131 :\n",
        "                  S1meanrefA1_810.append(S1HSV_imgA1B2_10[i][j])\n",
        "                if 1770<i<1880 and 2015<j<2145 :\n",
        "                  S1meanB2_110.append(S1HSV_imgA1B2_10[i][j])  \n",
        "S1meanrefA1_810 = np.array(S1meanrefA1_810)\n",
        "S1meanB2_110 = np.array(S1meanB2_110)\n",
        "\n",
        "S1hsvrefA1_810 = list()\n",
        "S1hsvB2_110 = list()\n",
        "for i in range(3):\n",
        "    S1hsvrefA1_810.append(S1meanrefA1_810[:,i].mean())\n",
        "    S1hsvB2_110.append(S1meanB2_110[:,i].mean())"
      ],
      "execution_count": null,
      "outputs": []
    },
    {
      "cell_type": "code",
      "metadata": {
        "id": "m7r5CTuxaNrL"
      },
      "source": [
        "S1meanrefA1_910 = list()\n",
        "S1meanB3_110 = list()\n",
        "for i in range(S1HSV_imgA1B3_10.shape[0]): \n",
        "     for j in range(S1HSV_imgA1B3_10.shape[1]): \n",
        "                if 1769<i<1881 and 2019<j<2131 :\n",
        "                  S1meanrefA1_910.append(S1HSV_imgA1B3_10[i][j])\n",
        "                if 1770<i<1880 and 2015<j<2145 :\n",
        "                  S1meanB3_110.append(S1HSV_imgA1B3_10[i][j])  \n",
        "S1meanrefA1_910 = np.array(S1meanrefA1_910)\n",
        "S1meanB3_110 = np.array(S1meanB3_110)\n",
        "\n",
        "S1hsvrefA1_910 = list()\n",
        "S1hsvB3_110 = list()\n",
        "for i in range(3):\n",
        "    S1hsvrefA1_910.append(S1meanrefA1_910[:,i].mean())\n",
        "    S1hsvB3_110.append(S1meanB3_110[:,i].mean())"
      ],
      "execution_count": null,
      "outputs": []
    },
    {
      "cell_type": "code",
      "metadata": {
        "id": "EbZWHWAyaNrL"
      },
      "source": [
        "S1meanrefA1_1010 = list()\n",
        "S1meanB4_110 = list()\n",
        "for i in range(S1HSV_imgA1B4_10.shape[0]): \n",
        "     for j in range(S1HSV_imgA1B4_10.shape[1]): \n",
        "                if 1769<i<1881 and 2019<j<2131 :\n",
        "                  S1meanrefA1_1010.append(S1HSV_imgA1B4_10[i][j])\n",
        "                if 1770<i<1880 and 2015<j<2145 :\n",
        "                  S1meanB4_110.append(S1HSV_imgA1B4_10[i][j])  \n",
        "S1meanrefA1_1010 = np.array(S1meanrefA1_1010)\n",
        "S1meanB4_110 = np.array(S1meanB4_110)\n",
        "\n",
        "S1hsvrefA1_1010 = list()\n",
        "S1hsvB4_110 = list()\n",
        "for i in range(3):\n",
        "    S1hsvrefA1_1010.append(S1meanrefA1_1010[:,i].mean())\n",
        "    S1hsvB4_110.append(S1meanB4_110[:,i].mean())"
      ],
      "execution_count": null,
      "outputs": []
    },
    {
      "cell_type": "code",
      "metadata": {
        "id": "PloVQV7XaNrM"
      },
      "source": [
        "S1meanrefA1_1110 = list()\n",
        "S1meanC1_110 = list()\n",
        "for i in range(S1HSV_imgA1C1_10.shape[0]): \n",
        "     for j in range(S1HSV_imgA1C1_10.shape[1]): \n",
        "                if 1769<i<1881 and 2019<j<2131 :\n",
        "                  S1meanrefA1_1110.append(S1HSV_imgA1C1_10[i][j])\n",
        "                if 1770<i<1880 and 2015<j<2145 :\n",
        "                  S1meanC1_110.append(S1HSV_imgA1C1_10[i][j])  \n",
        "S1meanrefA1_1110 = np.array(S1meanrefA1_1110)\n",
        "S1meanC1_110 = np.array(S1meanC1_110)\n",
        "\n",
        "S1hsvrefA1_1110 = list()\n",
        "S1hsvC1_110 = list()\n",
        "for i in range(3):\n",
        "    S1hsvrefA1_1110.append(S1meanrefA1_1110[:,i].mean())\n",
        "    S1hsvC1_110.append(S1meanC1_110[:,i].mean())"
      ],
      "execution_count": null,
      "outputs": []
    },
    {
      "cell_type": "code",
      "metadata": {
        "id": "lqwSP7EGaNrM"
      },
      "source": [
        "S1meanrefA1_1210 = list()\n",
        "S1meanC2_110 = list()\n",
        "for i in range(S1HSV_imgA1C2_10.shape[0]): \n",
        "     for j in range(S1HSV_imgA1C2_10.shape[1]): \n",
        "                if 1769<i<1881 and 2019<j<2131 :\n",
        "                  S1meanrefA1_1210.append(S1HSV_imgA1C2_10[i][j])\n",
        "                if 1770<i<1880 and 2015<j<2145 :\n",
        "                  S1meanC2_110.append(S1HSV_imgA1C2_10[i][j])  \n",
        "S1meanrefA1_1210 = np.array(S1meanrefA1_1210)\n",
        "S1meanC2_110 = np.array(S1meanC2_110)\n",
        "\n",
        "S1hsvrefA1_1210 = list()\n",
        "S1hsvC2_1v = list()\n",
        "for i in range(3):\n",
        "    S1hsvrefA1_1210.append(S1meanrefA1_1210[:,i].mean())\n",
        "    S1hsvC2_110.append(S1meanC2_110[:,i].mean())"
      ],
      "execution_count": null,
      "outputs": []
    },
    {
      "cell_type": "code",
      "metadata": {
        "id": "UKqZZZesaNrN"
      },
      "source": [
        "S1meanrefA1_1310 = list()\n",
        "S1meanC3_110 = list()\n",
        "for i in range(S1HSV_imgA1C3_10.shape[0]): \n",
        "     for j in range(S1HSV_imgA1C3_10.shape[1]): \n",
        "                if 1769<i<1881 and 2019<j<2131 :\n",
        "                  S1meanrefA1_1310.append(S1HSV_imgA1C3_10[i][j])\n",
        "                if 1770<i<1880 and 2015<j<2145 :\n",
        "                  S1meanC3_110.append(S1HSV_imgA1C3_10[i][j])  \n",
        "S1meanrefA1_1310 = np.array(S1meanrefA1_1310)\n",
        "S1meanC3_110 = np.array(S1meanC3_110)\n",
        "\n",
        "S1hsvrefA1_1310 = list()\n",
        "S1hsvC3_110 = list()\n",
        "for i in range(3):\n",
        "    S1hsvrefA1_1310.append(S1meanrefA1_1310[:,i].mean())\n",
        "    S1hsvC3_110.append(S1meanC3_110[:,i].mean())"
      ],
      "execution_count": null,
      "outputs": []
    },
    {
      "cell_type": "code",
      "metadata": {
        "id": "4oSJPHD0aNrN"
      },
      "source": [
        "S1meanrefA1_1410 = list()\n",
        "S1meanC4_110 = list()\n",
        "for i in range(S1HSV_imgA1C4_10.shape[0]): \n",
        "     for j in range(S1HSV_imgA1C4_10.shape[1]): \n",
        "                if 1769<i<1881 and 2019<j<2131 :\n",
        "                  S1meanrefA1_1410.append(S1HSV_imgA1C4_10[i][j])\n",
        "                if 1770<i<1880 and 2015<j<2145 :\n",
        "                  S1meanC4_110.append(S1HSV_imgA1C4_10[i][j])  \n",
        "S1meanrefA1_1410 = np.array(S1meanrefA1_1410)\n",
        "S1meanC4_110 = np.array(S1meanC4_110)\n",
        "\n",
        "S1hsvrefA1_1410 = list()\n",
        "S1hsvC4_110 = list()\n",
        "for i in range(3):\n",
        "    S1hsvrefA1_1410.append(S1meanrefA1_1410[:,i].mean())\n",
        "    S1hsvC4_110.append(S1meanC4_110[:,i].mean())"
      ],
      "execution_count": null,
      "outputs": []
    },
    {
      "cell_type": "code",
      "metadata": {
        "id": "7dwYHWSCaNrN"
      },
      "source": [
        "S1meanrefA1_1510 = list()\n",
        "S1meanD2_110 = list()\n",
        "for i in range(S1HSV_imgA1D2_10.shape[0]): \n",
        "     for j in range(S1HSV_imgA1D2_10.shape[1]): \n",
        "                if 1769<i<1881 and 2019<j<2131 :\n",
        "                  S1meanrefA1_1510.append(S1HSV_imgA1D2_10[i][j])\n",
        "                if 1770<i<1880 and 2015<j<2145 :\n",
        "                  S1meanD2_110.append(S1HSV_imgA1D2_10[i][j])  \n",
        "S1meanrefA1_1510 = np.array(S1meanrefA1_1510)\n",
        "S1meanD2_110 = np.array(S1meanD2_110)\n",
        "\n",
        "S1hsvrefA1_1510 = list()\n",
        "S1hsvD2_110 = list()\n",
        "for i in range(3):\n",
        "    S1hsvrefA1_15v.append(S1meanrefA1_1510[:,i].mean())\n",
        "    S1hsvD2_110.append(S1meanD2_110[:,i].mean())"
      ],
      "execution_count": null,
      "outputs": []
    },
    {
      "cell_type": "code",
      "metadata": {
        "id": "qPdJUVooaNrO"
      },
      "source": [
        "S1meanrefA1_1610 = list()\n",
        "S1meanD3_110 = list()\n",
        "for i in range(S1HSV_imgA1D3_10.shape[0]): \n",
        "     for j in range(S1HSV_imgA1D3_10.shape[1]): \n",
        "                if 1769<i<1881 and 2019<j<2131 :\n",
        "                  S1meanrefA1_1610.append(S1HSV_imgA1D3_10[i][j])\n",
        "                if 1770<i<1880 and 2015<j<2145 :\n",
        "                  S1meanD3_110.append(S1HSV_imgA1D3_10[i][j])  \n",
        "S1meanrefA1_1610 = np.array(S1meanrefA1_1610)\n",
        "S1meanD3_110 = np.array(S1meanD3_110)\n",
        "\n",
        "S1hsvrefA1_1610 = list()\n",
        "S1hsvD3_110 = list()\n",
        "for i in range(3):\n",
        "    S1hsvrefA1_1610.append(S1meanrefA1_1610[:,i].mean())\n",
        "    S1hsvD3_110.append(S1meanD3_110[:,i].mean())"
      ],
      "execution_count": null,
      "outputs": []
    },
    {
      "cell_type": "code",
      "metadata": {
        "id": "5-7wTrw2aNrO"
      },
      "source": [
        "S1meanrefA1_1710= list()\n",
        "S1meanD4_110 = list()\n",
        "for i in range(S1HSV_imgA1D4_10.shape[0]): \n",
        "     for j in range(S1HSV_imgA1D4_10.shape[1]): \n",
        "                if 1769<i<1881 and 2019<j<2131 :\n",
        "                  S1meanrefA1_1710.append(S1HSV_imgA1D4_10[i][j])\n",
        "                if 1770<i<1880 and 2015<j<2145 :\n",
        "                  S1meanD4_110.append(S1HSV_imgA1D4_10[i][j])  \n",
        "S1meanrefA1_1710= np.array(S1meanrefA1_1410)\n",
        "S1meanD4_110 = np.array(S1meanD4_110)\n",
        "\n",
        "S1hsvrefA1_1710 = list()\n",
        "S1hsvD4_110 = list()\n",
        "for i in range(3):\n",
        "    S1hsvrefA1_1710.append(S1meanrefA1_1710[:,i].mean())\n",
        "    S1hsvD4_110.append(S1meanD4_110[:,i].mean())"
      ],
      "execution_count": null,
      "outputs": []
    },
    {
      "cell_type": "markdown",
      "metadata": {
        "id": "4ihnBocWKAjD"
      },
      "source": [
        "#7.สร้างตาราง"
      ]
    },
    {
      "cell_type": "code",
      "metadata": {
        "id": "EjvYvGQwEIVW"
      },
      "source": [
        "from tabulate import tabulate"
      ],
      "execution_count": null,
      "outputs": []
    },
    {
      "cell_type": "code",
      "metadata": {
        "id": "g1Ir2tayht50"
      },
      "source": [
        "table   = [['R-ref', 'G-ref', 'B-ref', 'R-Shad', 'G-Shad', 'B-Shad', 'H-ref', 'S-ref', 'V-ref', 'H-Shad', 'S-Shad', 'V-Shad', 'Shade-ref', 'Shade', 'Setting']]"
      ],
      "execution_count": null,
      "outputs": []
    },
    {
      "cell_type": "code",
      "metadata": {
        "id": "MF7sf6KIEQDp"
      },
      "source": [
        "df = pd.DataFrame({'R-ref': [S1rgbrefA1_1[0],S1rgbrefA1_3[0],S1rgbrefA1_4[0], S1rgbrefA1_5[0], S1rgbrefA1_6[0],S1rgbrefA1_7[0], S1rgbrefA1_8[0],S1rgbrefA1_9[0], S1rgbrefA1_10[0], S1rgbrefA1_11[0], S1rgbrefA1_12[0], S1rgbrefA1_13[0], S1rgbrefA1_14[0], S1rgbrefA1_15[0], S1rgbrefA1_16[0], S1rgbrefA1_17[0]],\n",
        "  'G-ref': [S1rgbrefA1_1[1], S1rgbrefA1_3[1], S1rgbrefA1_4[1], S1rgbrefA1_5[1], S1rgbrefA1_6[1], S1rgbrefA1_7[1], S1rgbrefA1_8[1], S1rgbrefA1_9[1], S1rgbrefA1_10[1], S1rgbrefA1_11[1], S1rgbrefA1_12[1], S1rgbrefA1_13[1], S1rgbrefA1_14[1], S1rgbrefA1_15[1], S1rgbrefA1_16[1], S1rgbrefA1_17[1]],\n",
        "  'B-ref': [S1rgbrefA1_1[2],S1rgbrefA1_3[2],S1rgbrefA1_4[2],S1rgbrefA1_5[2], S1rgbrefA1_6[2],S1rgbrefA1_7[2], S1rgbrefA1_8[2],S1rgbrefA1_9[2], S1rgbrefA1_10[2],S1rgbrefA1_11[2], S1rgbrefA1_12[2],S1rgbrefA1_13[2], S1rgbrefA1_14[2],S1rgbrefA1_15[2], S1rgbrefA1_16[2],S1rgbrefA1_17[2]],\n",
        "  'R-Shad': [S1rgbA1_2[0],S1rgbA2_1[0],S1rgbA3_1[0],S1rgbA3_51[0],S1rgbA4_1[0],S1rgbB1_1[0],S1rgbB2_1[0],S1rgbB3_1[0],S1rgbB4_1[0],S1rgbC1_1[0],S1rgbC2_1[0],S1rgbC3_1[0],S1rgbC4_1[0],S1rgbD2_1[0],S1rgbD3_1[0],S1rgbD4_1[0]],\n",
        "  'G-Shad': [S1rgbA1_2[1],S1rgbA2_1[1],S1rgbA3_1[1], S1rgbA3_51[1],S1rgbA4_1[1],S1rgbB1_1[1],S1rgbB2_1[1],S1rgbB3_1[1],S1rgbB4_1[1],S1rgbC1_1[1],S1rgbC2_1[1],S1rgbC3_1[1],S1rgbC4_1[1],S1rgbD2_1[1],S1rgbD3_1[1], S1rgbD4_1[1]],\n",
        "  'B-Shad': [S1rgbA1_2[2],S1rgbA2_1[2],S1rgbA3_1[2],S1rgbA3_51[2],S1rgbA4_1[2],S1rgbB1_1[2],S1rgbB2_1[2],S1rgbB3_1[2],S1rgbB4_1[2],S1rgbC1_1[2],S1rgbC2_1[2],S1rgbC3_1[2],S1rgbC4_1[2],S1rgbD2_1[2],S1rgbD3_1[2], S1rgbD4_1[2]],\n",
        "  'H-ref': [S1hsvrefA1_1[0],S1hsvrefA1_3[0],S1hsvrefA1_4[0],S1hsvrefA1_5[0], S1hsvrefA1_6[0],S1hsvrefA1_7[0], S1hsvrefA1_8[0],S1hsvrefA1_9[0], S1hsvrefA1_10[0],S1hsvrefA1_11[0], S1hsvrefA1_12[0],S1hsvrefA1_13[0], S1hsvrefA1_14[0],S1hsvrefA1_15[0], S1hsvrefA1_16[0],S1hsvrefA1_17[0]],\n",
        "  'S-ref': [S1hsvrefA1_1[1],S1hsvrefA1_3[1],S1hsvrefA1_4[1],S1hsvrefA1_5[1], S1hsvrefA1_6[1],S1hsvrefA1_7[1], S1hsvrefA1_8[1],S1hsvrefA1_9[1], S1hsvrefA1_10[1],S1hsvrefA1_11[1], S1hsvrefA1_12[0],S1hsvrefA1_13[1], S1hsvrefA1_14[1],S1hsvrefA1_15[1], S1hsvrefA1_16[1],S1hsvrefA1_17[1]],\n",
        "  'V-ref': [S1hsvrefA1_1[2],S1hsvrefA1_3[2],S1hsvrefA1_4[2],S1hsvrefA1_5[2], S1hsvrefA1_6[2],S1hsvrefA1_7[2], S1hsvrefA1_8[2],S1hsvrefA1_9[2], S1hsvrefA1_10[2],S1hsvrefA1_11[2], S1hsvrefA1_12[0],S1hsvrefA1_13[2], S1hsvrefA1_14[2],S1hsvrefA1_15[2], S1hsvrefA1_16[2],S1hsvrefA1_17[2]],\n",
        "   'H-Shad': [S1hsvA1_2[0],S1hsvA2_1[0],S1hsvA3_1[0],S1hsvA3_51[0],S1hsvA4_1[0],S1hsvB1_1[0],S1hsvB2_1[0],S1hsvB3_1[0],S1hsvB4_1[0],S1hsvC1_1[0],S1hsvC2_1[0],S1hsvC3_1[0],S1hsvC4_1[0],S1hsvD2_1[0],S1hsvD3_1[0],S1hsvD4_1[0]],\n",
        "   'S-Shad': [S1hsvA1_2[1],S1hsvA2_1[1],S1hsvA3_1[1],S1hsvA3_51[1],S1hsvA4_1[1],S1hsvB1_1[1],S1hsvB2_1[1],S1hsvB3_1[1],S1hsvB4_1[1],S1hsvC1_1[1],S1hsvC2_1[1],S1hsvC3_1[1],S1hsvC4_1[1],S1hsvD2_1[1],S1hsvD3_1[1],S1hsvD4_1[1]],\n",
        "   'V-Shad': [S1hsvA1_2[2],S1hsvA2_1[2],S1hsvA3_1[2],S1hsvA3_51[2],S1hsvA4_1[2],S1hsvB1_1[2],S1hsvB2_1[2],S1hsvB3_1[2],S1hsvB4_1[2],S1hsvC1_1[2],S1hsvC2_1[2],S1hsvC3_1[2],S1hsvC4_1[2],S1hsvD2_1[2],S1hsvD3_1[2],S1hsvD4_1[2]],\n",
        "   'Shade-ref': ['B2', 'B2', 'B2',  'B2', 'B2', 'B2', 'B2', 'B2', 'B2', 'B2', 'B2', 'B2', 'B2', 'B2', 'B2', 'B2'],\n",
        "   'Shade':      ['A1', 'A2', 'A3', 'A3_5', 'A4', 'B1', 'B2', 'B3', 'B4', 'C1', 'C2', 'C3', 'C4', 'D2', 'D3', 'D4'],\n",
        "   'Setting':     ['Set1', 'Set1', 'Set1', 'Set1', 'Set1', 'Set1', 'Set1', 'Set1', 'Set1', 'Set1', 'Set1', 'Set1', 'Set1', 'Set1', 'Set1', 'Set1'],\n",
        "   'Img' : [S1_doubleA1A1_1, S1_doubleA1A2_1, S1_doubleA1A3_1, S1_doubleA1A3_51, S1_doubleA1A4_1, S1_doubleA1B1_1, S1_doubleA1B2_1, S1_doubleA1B3_1, S1_doubleA1B4_1, S1_doubleA1C1_1 ,S1_doubleA1C2_1, S1_doubleA1C3_1, S1_doubleA1C4_1,S1_doubleA1D2_1, S1_doubleA1D3_1, S1_doubleA1D4_1]}) "
      ],
      "execution_count": null,
      "outputs": []
    },
    {
      "cell_type": "code",
      "metadata": {
        "id": "holTb0QrmfaQ"
      },
      "source": [
        "df = pd.DataFrame({'R-ref':[S1rgbrefA1_1[0],S1rgbrefA1_102[0],S1rgbrefA1_103[0],S1rgbrefA1_104[0],S1rgbrefA1_105[0],S1rgbrefA1_106[0],S1rgbrefA1_107[0],S1rgbrefA1_108[0],S1rgbrefA1_109[0],S1rgbrefA1_110[0],\n",
        "S1rgbrefA1_3[0],S1rgbrefA1_302[0],S1rgbrefA1_303[0],S1rgbrefA1_304[0],S1rgbrefA1_305[0], S1rgbrefA1_306[0],S1rgbrefA1_307[0],S1rgbrefA1_308[0],S1rgbrefA1_309[0],S1rgbrefA1_3010[0],\n",
        "S1rgbrefA1_4[0], S1rgbrefA1_402[0], S1rgbrefA1_403[0], S1rgbrefA1_404[0], S1rgbrefA1_405[0],S1rgbrefA1_406[0], S1rgbrefA1_407[0], S1rgbrefA1_408[0], S1rgbrefA1_409[0], S1rgbrefA1_410[0],\n",
        "S1rgbrefA1_5[0], S1rgbrefA1_502[0], S1rgbrefA1_503[0], S1rgbrefA1_504[0], S1rgbrefA1_505[0],S1rgbrefA1_506[0], S1rgbrefA1_507[0], S1rgbrefA1_508[0], S1rgbrefA1_509[0], S1rgbrefA1_510[0],\n",
        "S1rgbrefA1_6[0], S1rgbrefA1_602[0], S1rgbrefA1_603[0], S1rgbrefA1_604[0], S1rgbrefA1_605[0],S1rgbrefA1_606[0], S1rgbrefA1_607[0], S1rgbrefA1_608[0], S1rgbrefA1_609[0], S1rgbrefA1_610[0],\n",
        "S1rgbrefA1_7[0], S1rgbrefA1_702[0], S1rgbrefA1_703[0], S1rgbrefA1_704[0],S1rgbrefA1_705[0], S1rgbrefA1_706[0], S1rgbrefA1_707[0], S1rgbrefA1_708[0], S1rgbrefA1_709[0], S1rgbrefA1_710[0],\n",
        "S1rgbrefA1_8[0], S1rgbrefA1_802[0], S1rgbrefA1_803[0], S1rgbrefA1_804[0], S1rgbrefA1_805[0],S1rgbrefA1_806[0], S1rgbrefA1_807[0], S1rgbrefA1_808[0], S1rgbrefA1_809[0], S1rgbrefA1_810[0],\n",
        "S1rgbrefA1_9[0], S1rgbrefA1_902[0], S1rgbrefA1_903[0], S1rgbrefA1_904[0], S1rgbrefA1_905[0],S1rgbrefA1_906[0], S1rgbrefA1_907[0], S1rgbrefA1_908[0], S1rgbrefA1_909[0], S1rgbrefA1_910[0],\n",
        "S1rgbrefA1_10[0], S1rgbrefA1_1002[0], S1rgbrefA1_1003[0], S1rgbrefA1_1004[0], S1rgbrefA1_1005[0],  S1rgbrefA1_1006[0], S1rgbrefA1_1007[0], S1rgbrefA1_1008[0], S1rgbrefA1_1009[0], S1rgbrefA1_1010[0],        \n",
        "S1rgbrefA1_11[0], S1rgbrefA1_1102[0], S1rgbrefA1_1103[0], S1rgbrefA1_1104[0], S1rgbrefA1_1105[0],S1rgbrefA1_1106[0],S1rgbrefA1_1107[0], S1rgbrefA1_1108[0], S1rgbrefA1_1109[0], S1rgbrefA1_1110[0],\n",
        "S1rgbrefA1_12[0], S1rgbrefA1_1202[0], S1rgbrefA1_1203[0], S1rgbrefA1_1204[0], S1rgbrefA1_1205[0],S1rgbrefA1_1206[0],S1rgbrefA1_1207[0], S1rgbrefA1_1208[0], S1rgbrefA1_1209[0], S1rgbrefA1_1210[0],\n",
        "S1rgbrefA1_13[0], S1rgbrefA1_1302[0], S1rgbrefA1_1303[0], S1rgbrefA1_1304[0], S1rgbrefA1_1305[0], S1rgbrefA1_1306[0], S1rgbrefA1_1307[0], S1rgbrefA1_1308[0], S1rgbrefA1_1309[0], S1rgbrefA1_1310[0],\n",
        "S1rgbrefA1_14[0], S1rgbrefA1_1402[0], S1rgbrefA1_1403[0], S1rgbrefA1_1404[0], S1rgbrefA1_1405[0],  S1rgbrefA1_1406[0], S1rgbrefA1_1407[0], S1rgbrefA1_1408[0], S1rgbrefA1_1409[0], S1rgbrefA1_1410[0], \n",
        "S1rgbrefA1_15[0], S1rgbrefA1_1502[0], S1rgbrefA1_1503[0], S1rgbrefA1_1504[0], S1rgbrefA1_1505[0], S1rgbrefA1_1506[0], S1rgbrefA1_1507[0], S1rgbrefA1_1508[0], S1rgbrefA1_1509[0], S1rgbrefA1_1510[0], \n",
        "S1rgbrefA1_16[0], S1rgbrefA1_1602[0], S1rgbrefA1_1603[0], S1rgbrefA1_1604[0], S1rgbrefA1_1605[0], S1rgbrefA1_1606[0], S1rgbrefA1_1607[0], S1rgbrefA1_1608[0], S1rgbrefA1_1609[0], S1rgbrefA1_1610[0], \n",
        "S1rgbrefA1_17[0], S1rgbrefA1_1702[0], S1rgbrefA1_1703[0], S1rgbrefA1_1704[0], S1rgbrefA1_1705[0], S1rgbrefA1_1706[0], S1rgbrefA1_1707[0], S1rgbrefA1_1708[0], S1rgbrefA1_1709[0], S1rgbrefA1_1710[0]], \n",
        "'G-ref': [S1rgbrefA1_1[1],S1rgbrefA1_102[1],S1rgbrefA1_103[1],S1rgbrefA1_104[1],S1rgbrefA1_105[1],S1rgbrefA1_106[1],S1rgbrefA1_107[1],S1rgbrefA1_108[1],S1rgbrefA1_109[1],S1rgbrefA1_110[1],\n",
        "S1rgbrefA1_3[1],S1rgbrefA1_302[1],S1rgbrefA1_303[1],S1rgbrefA1_304[1],S1rgbrefA1_305[1], S1rgbrefA1_306[1],S1rgbrefA1_307[1],S1rgbrefA1_308[1],S1rgbrefA1_309[1],S1rgbrefA1_3010[1],\n",
        "S1rgbrefA1_4[1], S1rgbrefA1_402[1], S1rgbrefA1_403[1], S1rgbrefA1_404[1], S1rgbrefA1_405[1],S1rgbrefA1_406[1], S1rgbrefA1_407[1], S1rgbrefA1_408[1], S1rgbrefA1_409[1], S1rgbrefA1_410[1],\n",
        "S1rgbrefA1_5[1], S1rgbrefA1_502[1], S1rgbrefA1_503[1], S1rgbrefA1_504[1], S1rgbrefA1_505[1],S1rgbrefA1_506[1], S1rgbrefA1_507[1], S1rgbrefA1_508[1], S1rgbrefA1_509[1], S1rgbrefA1_510[1],\n",
        "S1rgbrefA1_6[1], S1rgbrefA1_602[1], S1rgbrefA1_603[1], S1rgbrefA1_604[1], S1rgbrefA1_605[1],S1rgbrefA1_606[1], S1rgbrefA1_607[1], S1rgbrefA1_608[1], S1rgbrefA1_609[1], S1rgbrefA1_610[1],\n",
        "S1rgbrefA1_7[1], S1rgbrefA1_702[1], S1rgbrefA1_703[1], S1rgbrefA1_704[1],S1rgbrefA1_705[1], S1rgbrefA1_706[1], S1rgbrefA1_707[1], S1rgbrefA1_708[1], S1rgbrefA1_709[1], S1rgbrefA1_710[1],\n",
        "S1rgbrefA1_8[1], S1rgbrefA1_802[1],S1rgbrefA1_803[1], S1rgbrefA1_804[1], S1rgbrefA1_805[1],S1rgbrefA1_806[1], S1rgbrefA1_807[1], S1rgbrefA1_808[1], S1rgbrefA1_809[1], S1rgbrefA1_810[1],\n",
        "S1rgbrefA1_9[1], S1rgbrefA1_902[1], S1rgbrefA1_903[1], S1rgbrefA1_904[1], S1rgbrefA1_905[1],S1rgbrefA1_906[1],S1rgbrefA1_907[1], S1rgbrefA1_908[1], S1rgbrefA1_909[1], S1rgbrefA1_910[1],\n",
        "S1rgbrefA1_10[1], S1rgbrefA1_1002[1], S1rgbrefA1_1003[1], S1rgbrefA1_1004[1], S1rgbrefA1_1005[1],  S1rgbrefA1_1006[1], S1rgbrefA1_1007[1], S1rgbrefA1_1008[1], S1rgbrefA1_1009[1], S1rgbrefA1_1010[1],        \n",
        "S1rgbrefA1_11[1], S1rgbrefA1_1102[1], S1rgbrefA1_1103[1], S1rgbrefA1_1104[1], S1rgbrefA1_1105[1],S1rgbrefA1_1106[1],S1rgbrefA1_1107[1], S1rgbrefA1_1108[1], S1rgbrefA1_1109[1], S1rgbrefA1_1110[1],\n",
        "S1rgbrefA1_12[1],S1rgbrefA1_1202[1], S1rgbrefA1_1203[1], S1rgbrefA1_1204[1], S1rgbrefA1_1205[1],S1rgbrefA1_1206[1], S1rgbrefA1_1207[1],S1rgbrefA1_1208[1], S1rgbrefA1_1209[1], S1rgbrefA1_1210[1],\n",
        "S1rgbrefA1_13[1], S1rgbrefA1_1302[1], S1rgbrefA1_1303[1], S1rgbrefA1_1304[1], S1rgbrefA1_1305[1], S1rgbrefA1_1306[1], S1rgbrefA1_1307[1], S1rgbrefA1_1308[1], S1rgbrefA1_1309[1], S1rgbrefA1_1310[1],\n",
        "S1rgbrefA1_14[1], S1rgbrefA1_1402[1], S1rgbrefA1_1403[1], S1rgbrefA1_1404[1], S1rgbrefA1_1405[1],  S1rgbrefA1_1406[1], S1rgbrefA1_1407[1], S1rgbrefA1_1408[1], S1rgbrefA1_1409[1], S1rgbrefA1_1410[1], \n",
        "S1rgbrefA1_15[1], S1rgbrefA1_1502[1], S1rgbrefA1_1503[1], S1rgbrefA1_1504[1], S1rgbrefA1_1505[1], S1rgbrefA1_1506[1], S1rgbrefA1_1507[1], S1rgbrefA1_1508[1], S1rgbrefA1_1509[1], S1rgbrefA1_1510[1], \n",
        "S1rgbrefA1_16[1], S1rgbrefA1_1602[1], S1rgbrefA1_1603[1], S1rgbrefA1_1604[1], S1rgbrefA1_1605[1], S1rgbrefA1_1606[1], S1rgbrefA1_1607[1], S1rgbrefA1_1608[1], S1rgbrefA1_1609[1], S1rgbrefA1_1610[1], \n",
        "S1rgbrefA1_17[1], S1rgbrefA1_1702[1], S1rgbrefA1_1703[1], S1rgbrefA1_1704[1], S1rgbrefA1_1705[1], S1rgbrefA1_1706[1], S1rgbrefA1_1707[1], S1rgbrefA1_1708[1], S1rgbrefA1_1709[1], S1rgbrefA1_1710[1]], \n",
        "'B-ref': [S1rgbrefA1_1[2],S1rgbrefA1_102[2],S1rgbrefA1_103[2],S1rgbrefA1_104[2],S1rgbrefA1_105[2],S1rgbrefA1_106[2],S1rgbrefA1_107[2],S1rgbrefA1_108[2],S1rgbrefA1_109[2],S1rgbrefA1_110[2],\n",
        "S1rgbrefA1_3[2],S1rgbrefA1_302[2],S1rgbrefA1_303[2],S1rgbrefA1_304[2],S1rgbrefA1_305[2], S1rgbrefA1_306[2],S1rgbrefA1_307[2],S1rgbrefA1_308[2],S1rgbrefA1_309[2],S1rgbrefA1_3010[2],\n",
        "S1rgbrefA1_4[2], S1rgbrefA1_402[2], S1rgbrefA1_403[2], S1rgbrefA1_404[2], S1rgbrefA1_405[2],S1rgbrefA1_406[2], S1rgbrefA1_407[2],S1rgbrefA1_408[2], S1rgbrefA1_409[2], S1rgbrefA1_410[2],\n",
        "S1rgbrefA1_5[2], S1rgbrefA1_502[2], S1rgbrefA1_503[2], S1rgbrefA1_504[2], S1rgbrefA1_505[2],S1rgbrefA1_506[2], S1rgbrefA1_507[2], S1rgbrefA1_508[2], S1rgbrefA1_509[2], S1rgbrefA1_510[2],\n",
        "S1rgbrefA1_6[2], S1rgbrefA1_602[2], S1rgbrefA1_603[2], S1rgbrefA1_604[2], S1rgbrefA1_605[2],S1rgbrefA1_606[2], S1rgbrefA1_607[2], S1rgbrefA1_608[2], S1rgbrefA1_609[2], S1rgbrefA1_610[2],\n",
        "S1rgbrefA1_7[2], S1rgbrefA1_702[2], S1rgbrefA1_703[2], S1rgbrefA1_704[2],S1rgbrefA1_705[2], S1rgbrefA1_706[2], S1rgbrefA1_707[2], S1rgbrefA1_708[2], S1rgbrefA1_709[2], S1rgbrefA1_710[2],\n",
        "S1rgbrefA1_8[2], S1rgbrefA1_802[2], S1rgbrefA1_803[2], S1rgbrefA1_804[2], S1rgbrefA1_805[2],S1rgbrefA1_806[2], S1rgbrefA1_807[2], S1rgbrefA1_808[2], S1rgbrefA1_809[2], S1rgbrefA1_810[2],\n",
        "S1rgbrefA1_9[2], S1rgbrefA1_902[2], S1rgbrefA1_903[2], S1rgbrefA1_904[2], S1rgbrefA1_905[2],S1rgbrefA1_906[2], S1rgbrefA1_907[2], S1rgbrefA1_908[2], S1rgbrefA1_909[2], S1rgbrefA1_910[2],\n",
        "S1rgbrefA1_10[2], S1rgbrefA1_1002[2], S1rgbrefA1_1003[2], S1rgbrefA1_1004[2], S1rgbrefA1_1005[2],  S1rgbrefA1_1006[2], S1rgbrefA1_1007[2], S1rgbrefA1_1008[2], S1rgbrefA1_1009[2], S1rgbrefA1_1010[2],        \n",
        "S1rgbrefA1_11[2], S1rgbrefA1_1102[2], S1rgbrefA1_1103[2], S1rgbrefA1_1104[2], S1rgbrefA1_1105[2],S1rgbrefA1_1106[2],S1rgbrefA1_1107[2], S1rgbrefA1_1108[2], S1rgbrefA1_1109[2], S1rgbrefA1_1110[2],\n",
        "S1rgbrefA1_12[2], S1rgbrefA1_1202[2], S1rgbrefA1_1203[2], S1rgbrefA1_1204[2], S1rgbrefA1_1205[2],S1rgbrefA1_1206[2], S1rgbrefA1_1207[2], S1rgbrefA1_1208[2], S1rgbrefA1_1209[2], S1rgbrefA1_1210[2],\n",
        "S1rgbrefA1_13[2], S1rgbrefA1_1302[2], S1rgbrefA1_1303[2], S1rgbrefA1_1304[2], S1rgbrefA1_1305[2], S1rgbrefA1_1306[2], S1rgbrefA1_1307[2], S1rgbrefA1_1308[2], S1rgbrefA1_1309[2], S1rgbrefA1_1310[2],\n",
        "S1rgbrefA1_14[2], S1rgbrefA1_1402[2], S1rgbrefA1_1403[2], S1rgbrefA1_1404[2], S1rgbrefA1_1405[2],  S1rgbrefA1_1406[2], S1rgbrefA1_1407[2], S1rgbrefA1_1408[2], S1rgbrefA1_1409[2], S1rgbrefA1_1410[2], \n",
        "S1rgbrefA1_15[2], S1rgbrefA1_1502[2], S1rgbrefA1_1503[2], S1rgbrefA1_1504[2], S1rgbrefA1_1505[2], S1rgbrefA1_1506[2], S1rgbrefA1_1507[2], S1rgbrefA1_1508[2], S1rgbrefA1_1509[2], S1rgbrefA1_1510[2], \n",
        "S1rgbrefA1_16[2], S1rgbrefA1_1602[2], S1rgbrefA1_1603[2], S1rgbrefA1_1604[2], S1rgbrefA1_1605[2], S1rgbrefA1_1606[2], S1rgbrefA1_1607[2], S1rgbrefA1_1608[2], S1rgbrefA1_1609[2], S1rgbrefA1_1610[2], \n",
        "S1rgbrefA1_17[2], S1rgbrefA1_1702[2], S1rgbrefA1_1703[2], S1rgbrefA1_1704[2], S1rgbrefA1_1705[2], S1rgbrefA1_1706[2], S1rgbrefA1_1707[2], S1rgbrefA1_1708[2], S1rgbrefA1_1709[2], S1rgbrefA1_1710[2]], \n",
        "'R-Shad':  [S1rgbA1_2[0], S1rgbA1_202[0], S1rgbA1_203[0], S1rgbA1_204[0], S1rgbA1_205[0], S1rgbA1_206[0],S1rgbA1_207[0],S1rgbA1_208[0],S1rgbA1_209[0],S1rgbA1_210[0],\n",
        "S1rgbA2_1[0], S1rgbA2_102[0],  S1rgbA2_103[0], S1rgbA2_104[0], S1rgbA2_105[0], S1rgbA2_106[0],  S1rgbA2_107[0],  S1rgbA2_108[0],  S1rgbA2_109[0],S1rgbA2_110[0],\n",
        "S1rgbA3_1[0], S1rgbA3_102[0],S1rgbA3_103[0],S1rgbA3_104[0],S1rgbA3_105[0],S1rgbA3_106[0],S1rgbA3_107[0],S1rgbA3_108[0], S1rgbA3_109[0], S1rgbA3_110[0],\n",
        "S1rgbA3_51[0],S1rgbA3_5102[0],S1rgbA3_5103[0],S1rgbA3_5104[0],  S1rgbA3_5105[0],S1rgbA3_5106[0],S1rgbA3_5107[0],S1rgbA3_5108[0],S1rgbA3_5109[0],  S1rgbA3_5110[0],\n",
        "S1rgbA4_1[0],S1rgbA4_102[0], S1rgbA4_103[0],S1rgbA4_104[0],S1rgbA4_105[0],S1rgbA4_106[0], S1rgbA4_107[0], S1rgbA4_108[0],S1rgbA4_109[0],S1rgbA4_110[0],\n",
        "S1rgbB1_1[0],S1rgbB1_102[0],S1rgbB1_103[0],S1rgbB1_104[0],S1rgbB1_105[0],S1rgbB1_106[0],S1rgbB1_107[0],S1rgbB1_108[0],S1rgbB1_109[0],S1rgbB1_110[0],\n",
        "S1rgbB2_1[0],S1rgbB2_102[0],S1rgbB2_103[0],S1rgbB2_104[0],S1rgbB2_105[0],S1rgbB2_106[0],S1rgbB2_107[0],S1rgbB2_108[0],S1rgbB2_109[0],S1rgbB2_110[0],\n",
        "S1rgbB3_1[0],S1rgbB3_102[0],S1rgbB3_103[0],S1rgbB3_104[0],S1rgbB3_105[0],S1rgbB3_106[0],S1rgbB3_107[0],S1rgbB3_108[0],S1rgbB3_109[0],S1rgbB3_110[0],\n",
        "S1rgbB4_1[0],S1rgbB4_102[0],S1rgbB4_103[0],S1rgbB4_104[0],S1rgbB4_105[0],S1rgbB4_106[0],S1rgbB4_107[0],S1rgbB4_108[0],S1rgbB4_109[0],S1rgbB4_110[0],\n",
        "S1rgbC1_1[0],S1rgbC1_102[0],S1rgbC1_103[0],S1rgbC1_104[0],S1rgbC1_105[0],S1rgbC1_106[0],S1rgbC1_107[0],S1rgbC1_108[0],S1rgbC1_109[0],S1rgbC1_110[0],\n",
        "S1rgbC2_1[0],S1rgbC2_102[0],S1rgbC2_103[0],S1rgbC2_104[0],S1rgbC2_105[0],S1rgbC2_106[0],S1rgbC2_107[0],S1rgbC2_108[0],S1rgbC2_109[0],S1rgbC2_110[0],\n",
        "S1rgbC3_1[0],S1rgbC3_102[0],S1rgbC3_103[0],S1rgbC3_104[0],S1rgbC3_105[0],S1rgbC3_106[0],S1rgbC3_107[0],S1rgbC3_108[0],S1rgbC3_109[0],S1rgbC3_110[0],\n",
        "S1rgbC4_1[0],S1rgbC4_102[0],S1rgbC4_103[0],S1rgbC4_104[0],S1rgbC4_105[0],S1rgbC4_106[0],S1rgbC4_107[0],S1rgbC4_108[0],S1rgbC4_109[0],S1rgbC4_110[0],\n",
        "S1rgbD2_1[0],S1rgbD2_102[0],S1rgbD2_103[0],S1rgbD2_104[0],S1rgbD2_105[0],S1rgbD2_106[0],S1rgbD2_107[0],S1rgbD2_108[0],S1rgbD2_109[0],S1rgbD2_110[0],\n",
        "S1rgbD3_1[0],S1rgbD3_102[0],S1rgbD3_103[0],S1rgbD3_104[0],S1rgbD3_105[0],S1rgbD3_106[0],S1rgbD3_107[0],S1rgbD3_108[0],S1rgbD3_109[0],S1rgbD3_110[0],\n",
        "S1rgbD4_1[0],S1rgbD4_102[0],S1rgbD4_103[0],S1rgbD4_104[0],S1rgbD4_105[0],S1rgbD4_106[0],S1rgbD4_107[0],S1rgbD4_108[0],S1rgbD4_109[0],S1rgbD4_110[0]],\n",
        "'G-Shad':[S1rgbA1_2[1],S1rgbA1_202[1],S1rgbA1_203[1],S1rgbA1_204[1],S1rgbA1_205[1],S1rgbA1_206[1],S1rgbA1_207[1],S1rgbA1_208[1],S1rgbA1_209[1],S1rgbA1_210[1],\n",
        "S1rgbA2_1[1],S1rgbA2_102[1],S1rgbA2_103[1],S1rgbA2_104[1],S1rgbA2_105[1],S1rgbA2_106[1],S1rgbA2_107[1],S1rgbA2_108[1],S1rgbA2_109[1],S1rgbA2_110[1],\n",
        "S1rgbA3_1[1],S1rgbA3_102[1],S1rgbA3_103[1],S1rgbA3_104[1],S1rgbA3_105[1],S1rgbA3_106[1],S1rgbA3_107[1],S1rgbA3_108[1],S1rgbA3_109[1], S1rgbA3_110[1],\n",
        "S1rgbA3_51[1], S1rgbA3_5102[1], S1rgbA3_5103[1],S1rgbA3_5104[1],  S1rgbA3_5105[1],S1rgbA3_5106[1], S1rgbA3_5107[1],S1rgbA3_5108[1],S1rgbA3_5109[1],  S1rgbA3_5110[1],\n",
        "S1rgbA4_1[1],S1rgbA4_102[1],S1rgbA4_103[1],S1rgbA4_104[1],S1rgbA4_105[1],S1rgbA4_106[1],S1rgbA4_107[1],S1rgbA4_108[1],S1rgbA4_109[1],S1rgbA4_110[1],\n",
        "S1rgbB1_1[1],S1rgbB1_102[1],S1rgbB1_103[1],S1rgbB1_104[1],S1rgbB1_105[1],S1rgbB1_106[1],S1rgbB1_107[1],S1rgbB1_108[1],S1rgbB1_109[1],S1rgbB1_110[1],\n",
        "S1rgbB2_1[1],S1rgbB2_102[1],S1rgbB2_103[1],S1rgbB2_104[1],S1rgbB2_105[1],S1rgbB2_106[1],S1rgbB2_107[1],S1rgbB2_108[1],S1rgbB2_109[1],S1rgbB2_110[1],\n",
        "S1rgbB3_1[1],S1rgbB3_102[1],S1rgbB3_103[1],S1rgbB3_104[1],S1rgbB3_105[1],S1rgbB3_106[1],S1rgbB3_107[1],S1rgbB3_108[1],S1rgbB3_109[1],S1rgbB3_110[1],\n",
        "S1rgbB4_1[1],S1rgbB4_102[1],S1rgbB4_103[1],S1rgbB4_104[1],S1rgbB4_105[1],S1rgbB4_106[1],S1rgbB4_107[1],S1rgbB4_108[1],S1rgbB4_109[1],S1rgbB4_110[1],\n",
        "S1rgbC1_1[1],S1rgbC1_102[1],S1rgbC1_103[1],S1rgbC1_104[1],S1rgbC1_105[1],S1rgbC1_106[1],S1rgbC1_107[1],S1rgbC1_108[1],S1rgbC1_109[1],S1rgbC1_110[1],\n",
        "S1rgbC2_1[1],S1rgbC2_102[1],S1rgbC2_103[1],S1rgbC2_104[1],S1rgbC2_105[1],S1rgbC2_106[1],S1rgbC2_107[1],S1rgbC2_108[1],S1rgbC2_109[1],S1rgbC2_110[1],\n",
        "S1rgbC3_1[1],S1rgbC3_102[1],S1rgbC3_103[1],S1rgbC3_104[1],S1rgbC3_105[1],S1rgbC3_106[1],S1rgbC3_107[1],S1rgbC3_108[1],S1rgbC3_109[1],S1rgbC3_110[1],\n",
        "S1rgbC4_1[1],S1rgbC4_102[1],S1rgbC4_103[1],S1rgbC4_104[1],S1rgbC4_105[1],S1rgbC4_106[1],S1rgbC4_107[1],S1rgbC4_108[1],S1rgbC4_109[1],S1rgbC4_110[1],\n",
        "S1rgbD2_1[1],S1rgbD2_102[1],S1rgbD2_103[1],S1rgbD2_104[1],S1rgbD2_105[1],S1rgbD2_106[1],S1rgbD2_107[1],S1rgbD2_108[1],S1rgbD2_109[1],S1rgbD2_110[1],\n",
        "S1rgbD3_1[1],S1rgbD3_102[1],S1rgbD3_103[1],S1rgbD3_104[1],S1rgbD3_105[1],S1rgbD3_106[1],S1rgbD3_107[1],S1rgbD3_108[1],S1rgbD3_109[1],S1rgbD3_110[1],\n",
        "S1rgbD4_1[1],S1rgbD4_102[1],S1rgbD4_103[1],S1rgbD4_104[1],S1rgbD4_105[1],S1rgbD4_106[1],S1rgbD4_107[1],S1rgbD4_108[1],S1rgbD4_109[1],S1rgbD4_110[1]],\n",
        "'B-Shad': [S1rgbA1_2[2],S1rgbA1_202[2],S1rgbA1_203[2],S1rgbA1_204[2],S1rgbA1_205[2],S1rgbA1_206[2],S1rgbA1_207[2],S1rgbA1_208[2],S1rgbA1_209[2],S1rgbA1_210[2],\n",
        "S1rgbA2_1[2],S1rgbA2_102[2],S1rgbA2_103[2],S1rgbA2_104[2],S1rgbA2_105[2],S1rgbA2_106[2],S1rgbA2_107[2],S1rgbA2_108[2],S1rgbA2_109[2],S1rgbA2_110[2],\n",
        "S1rgbA3_1[2],S1rgbA3_102[2],S1rgbA3_103[2],S1rgbA3_104[2],S1rgbA3_105[2], S1rgbA3_106[2], S1rgbA3_107[2],S1rgbA3_108[2],S1rgbA3_109[2],S1rgbA3_110[2],\n",
        "S1rgbA3_51[2],S1rgbA3_5102[2],S1rgbA3_5103[2], S1rgbA3_5104[2],  S1rgbA3_5105[2],S1rgbA3_5106[2], S1rgbA3_5107[2],S1rgbA3_5108[2],S1rgbA3_5109[2],  S1rgbA3_5110[2],\n",
        "S1rgbA4_1[2],S1rgbA4_102[2], S1rgbA4_103[2],S1rgbA4_104[2],S1rgbA4_105[2],S1rgbA4_106[2],S1rgbA4_107[2],S1rgbA4_108[2],S1rgbA4_109[2],S1rgbA4_110[2],\n",
        "S1rgbB1_1[2],S1rgbB1_102[2],S1rgbB1_103[2],S1rgbB1_104[2],S1rgbB1_105[2],S1rgbB1_106[2],S1rgbB1_107[2],S1rgbB1_108[2],S1rgbB1_109[2],S1rgbB1_110[2],\n",
        "S1rgbB2_1[2],S1rgbB2_102[2],S1rgbB2_103[2],S1rgbB2_104[2],S1rgbB2_105[2],S1rgbB2_106[2],S1rgbB2_107[2],S1rgbB2_108[2],S1rgbB2_109[2],S1rgbB2_110[2],\n",
        "S1rgbB3_1[2],S1rgbB3_102[2],S1rgbB3_103[2],S1rgbB3_104[2],S1rgbB3_105[2],S1rgbB3_106[2],S1rgbB3_107[2],S1rgbB3_108[2],S1rgbB3_109[2],S1rgbB3_110[2],\n",
        "S1rgbB4_1[2],S1rgbB4_102[2],S1rgbB4_103[2],S1rgbB4_104[2],S1rgbB4_105[2],S1rgbB4_106[2],S1rgbB4_107[2],S1rgbB4_108[2],S1rgbB4_109[2],S1rgbB4_110[2],\n",
        "S1rgbC1_1[2],S1rgbC1_102[2],S1rgbC1_103[2],S1rgbC1_104[2],S1rgbC1_105[2],S1rgbC1_106[2],S1rgbC1_107[2],S1rgbC1_108[2],S1rgbC1_109[2],S1rgbC1_110[2],\n",
        "S1rgbC2_1[2],S1rgbC2_102[2],S1rgbC2_103[2],S1rgbC2_104[2],S1rgbC2_105[2],S1rgbC2_106[2],S1rgbC2_107[2],S1rgbC2_108[2],S1rgbC2_109[2],S1rgbC2_110[2],\n",
        "S1rgbC3_1[2],S1rgbC3_102[2],S1rgbC3_103[2],S1rgbC3_104[2],S1rgbC3_105[2],S1rgbC3_106[2],S1rgbC3_107[2],S1rgbC3_108[2],S1rgbC3_109[2],S1rgbC3_110[2],\n",
        "S1rgbC4_1[2],S1rgbC4_102[2],S1rgbC4_103[2],S1rgbC4_104[2],S1rgbC4_105[2],S1rgbC4_106[2],S1rgbC4_107[2],S1rgbC4_108[2],S1rgbC4_109[2],S1rgbC4_110[2],\n",
        "S1rgbD2_1[2],S1rgbD2_102[2],S1rgbD2_103[2],S1rgbD2_104[2],S1rgbD2_105[2],S1rgbD2_106[2],S1rgbD2_107[2],S1rgbD2_108[2],S1rgbD2_109[2],S1rgbD2_110[2],\n",
        "S1rgbD3_1[2],S1rgbD3_102[2],S1rgbD3_103[2],S1rgbD3_104[2],S1rgbD3_105[2],S1rgbD3_106[2],S1rgbD3_107[2],S1rgbD3_108[2],S1rgbD3_109[2],S1rgbD3_110[2],\n",
        "S1rgbD4_1[2],S1rgbD4_102[2],S1rgbD4_103[2],S1rgbD4_104[2],S1rgbD4_105[2],S1rgbD4_106[2],S1rgbD4_107[2],S1rgbD4_108[2],S1rgbD4_109[2],S1rgbD4_110[2]],\n",
        "'H-ref':[S1hsvrefA1_1[0],S1hsvrefA1_102[0],S1hsvrefA1_103[0],S1hsvrefA1_104[0],S1hsvrefA1_105[0],S1hsvrefA1_106[0],S1hsvrefA1_107[0],S1hsvrefA1_108[0],S1hsvrefA1_109[0],S1hsvrefA1_110[0],\n",
        "S1hsvrefA1_3[0],S1hsvrefA1_302[0],S1hsvrefA1_303[0],S1hsvrefA1_304[0],S1hsvrefA1_305[0], S1hsvrefA1_306[0],S1hsvrefA1_307[0],S1hsvrefA1_308[0],S1hsvrefA1_309[0],S1hsvrefA1_3010[0],\n",
        "S1hsvrefA1_4[0], S1hsvrefA1_402[0], S1hsvrefA1_403[0], S1hsvrefA1_404[0], S1hsvrefA1_405[0],S1hsvrefA1_406[0], S1hsvrefA1_407[0], S1hsvrefA1_408[0], S1hsvrefA1_409[0], S1hsvrefA1_410[0],\n",
        "S1hsvrefA1_5[0], S1hsvrefA1_502[0], S1hsvrefA1_503[0], S1hsvrefA1_504[0], S1hsvrefA1_505[0],S1hsvrefA1_506[0], S1hsvrefA1_507[0], S1hsvrefA1_508[0], S1hsvrefA1_509[0], S1hsvrefA1_510[0],\n",
        "S1hsvrefA1_6[0], S1hsvrefA1_602[0], S1hsvrefA1_603[0], S1hsvrefA1_604[0], S1hsvrefA1_605[0],S1hsvrefA1_606[0], S1hsvrefA1_607[0], S1hsvrefA1_608[0], S1hsvrefA1_609[0], S1hsvrefA1_610[0],\n",
        "S1hsvrefA1_7[0], S1hsvrefA1_702[0], S1hsvrefA1_703[0], S1hsvrefA1_704[0],S1hsvrefA1_705[0], S1hsvrefA1_706[0], S1hsvrefA1_707[0], S1hsvrefA1_708[0], S1hsvrefA1_709[0], S1hsvrefA1_710[0],\n",
        "S1hsvrefA1_8[0], S1hsvrefA1_802[0], S1hsvrefA1_803[0], S1hsvrefA1_804[0], S1hsvrefA1_805[0],S1hsvrefA1_806[0], S1hsvrefA1_807[0], S1hsvrefA1_808[0], S1hsvrefA1_809[0], S1hsvrefA1_810[0],\n",
        "S1hsvrefA1_9[0], S1hsvrefA1_902[0], S1hsvrefA1_903[0], S1hsvrefA1_904[0], S1hsvrefA1_905[0],S1hsvrefA1_906[0], S1hsvrefA1_907[0], S1hsvrefA1_908[0], S1hsvrefA1_909[0], S1hsvrefA1_910[0],\n",
        "S1hsvrefA1_10[0], S1hsvrefA1_1002[0], S1hsvrefA1_1003[0], S1hsvrefA1_1004[0], S1hsvrefA1_1005[0],  S1hsvrefA1_1006[0], S1hsvrefA1_1007[0], S1hsvrefA1_1008[0], S1hsvrefA1_1009[0], S1hsvrefA1_1010[0],        \n",
        "S1hsvrefA1_11[0], S1hsvrefA1_1102[0], S1hsvrefA1_1103[0], S1hsvrefA1_1104[0], S1hsvrefA1_1105[0],S1hsvrefA1_1106[0],S1hsvrefA1_1107[0], S1hsvrefA1_1108[0], S1hsvrefA1_1109[0], S1hsvrefA1_1110[0],\n",
        "S1hsvrefA1_12[0], S1hsvrefA1_1202[0], S1hsvrefA1_1203[0], S1hsvrefA1_1204[0], S1hsvrefA1_1205[0],S1hsvrefA1_1206[0], S1hsvrefA1_1207[0], S1hsvrefA1_1208[0], S1hsvrefA1_1209[0], S1hsvrefA1_1210[0],\n",
        "S1hsvrefA1_13[0], S1hsvrefA1_1302[0], S1hsvrefA1_1303[0], S1hsvrefA1_1304[0], S1hsvrefA1_1305[0], S1hsvrefA1_1306[0], S1hsvrefA1_1307[0], S1hsvrefA1_1308[0], S1hsvrefA1_1309[0], S1hsvrefA1_1310[0],\n",
        "S1hsvrefA1_14[0], S1hsvrefA1_1402[0], S1hsvrefA1_1403[0], S1hsvrefA1_1404[0], S1hsvrefA1_1405[0],  S1hsvrefA1_1406[0], S1hsvrefA1_1407[0], S1hsvrefA1_1408[0], S1hsvrefA1_1409[0], S1hsvrefA1_1410[0], \n",
        "S1hsvrefA1_15[0], S1hsvrefA1_1502[0], S1hsvrefA1_1503[0], S1hsvrefA1_1504[0], S1hsvrefA1_1505[0], S1hsvrefA1_1506[0], S1hsvrefA1_1507[0], S1hsvrefA1_1508[0], S1hsvrefA1_1509[0], S1hsvrefA1_1510[0], \n",
        "S1hsvrefA1_16[0], S1hsvrefA1_1602[0], S1hsvrefA1_1603[0], S1hsvrefA1_1604[0], S1hsvrefA1_1605[0], S1hsvrefA1_1606[0], S1hsvrefA1_1607[0], S1hsvrefA1_1608[0], S1hsvrefA1_1609[0], S1hsvrefA1_1610[0], \n",
        "S1hsvrefA1_17[0], S1hsvrefA1_1702[0], S1hsvrefA1_1703[0], S1hsvrefA1_1704[0], S1hsvrefA1_1705[0], S1hsvrefA1_1706[0], S1hsvrefA1_1707[0], S1hsvrefA1_1708[0], S1hsvrefA1_1709[0], S1hsvrefA1_1710[0]], \n",
        "'S-ref':[S1hsvrefA1_1[1],S1hsvrefA1_102[1],S1hsvrefA1_103[1],S1hsvrefA1_104[1],S1hsvrefA1_105[1],S1hsvrefA1_106[1],S1hsvrefA1_107[1],S1hsvrefA1_108[1],S1hsvrefA1_109[1],S1hsvrefA1_110[1],\n",
        "S1hsvrefA1_3[1],S1hsvrefA1_302[1],S1hsvrefA1_303[1],S1hsvrefA1_304[1],S1hsvrefA1_305[1], S1hsvrefA1_306[1],S1hsvrefA1_307[1],S1hsvrefA1_308[1],S1hsvrefA1_309[1],S1hsvrefA1_310[1],\n",
        "S1hsvrefA1_4[1], S1hsvrefA1_402[1], S1hsvrefA1_403[1], S1hsvrefA1_404[1], S1hsvrefA1_405[1],S1hsvrefA1_406[1], S1hsvrefA1_407[1], S1hsvrefA1_408[1], S1hsvrefA1_409[1], S1hsvrefA1_410[1],\n",
        "S1hsvrefA1_5[1], S1hsvrefA1_502[1], S1hsvrefA1_503[1], S1hsvrefA1_504[1], S1hsvrefA1_505[1],S1hsvrefA1_506[1], S1hsvrefA1_507[1], S1hsvrefA1_508[1], S1hsvrefA1_509[1], S1hsvrefA1_510[1],\n",
        "S1hsvrefA1_6[1], S1hsvrefA1_602[1], S1hsvrefA1_603[1], S1hsvrefA1_604[1], S1hsvrefA1_605[1],S1hsvrefA1_606[1], S1hsvrefA1_607[1], S1hsvrefA1_608[1], S1hsvrefA1_609[1], S1hsvrefA1_610[1],\n",
        "S1hsvrefA1_7[1], S1hsvrefA1_702[1], S1hsvrefA1_703[1], S1hsvrefA1_704[1],S1hsvrefA1_705[1], S1hsvrefA1_706[1], S1hsvrefA1_707[1], S1hsvrefA1_708[1], S1hsvrefA1_709[1], S1hsvrefA1_710[1],\n",
        "S1hsvrefA1_8[1], S1hsvrefA1_802[1], S1hsvrefA1_803[1], S1hsvrefA1_804[1], S1hsvrefA1_805[1],S1hsvrefA1_806[1], S1hsvrefA1_807[1], S1hsvrefA1_808[1], S1hsvrefA1_809[1], S1hsvrefA1_810[1],\n",
        "S1hsvrefA1_9[1], S1hsvrefA1_902[1], S1hsvrefA1_903[1], S1hsvrefA1_904[1], S1hsvrefA1_905[1],S1hsvrefA1_906[1], S1hsvrefA1_907[1], S1hsvrefA1_908[1], S1hsvrefA1_909[1], S1hsvrefA1_910[1],\n",
        "S1hsvrefA1_10[1], S1hsvrefA1_1002[1], S1hsvrefA1_1003[1], S1hsvrefA1_1004[1], S1hsvrefA1_1005[1],  S1hsvrefA1_1006[1], S1hsvrefA1_1007[1], S1hsvrefA1_1008[1], S1hsvrefA1_1009[1], S1hsvrefA1_1010[1],        \n",
        "S1hsvrefA1_11[1], S1hsvrefA1_1102[1], S1hsvrefA1_1103[1], S1hsvrefA1_1104[1], S1hsvrefA1_1105[1],S1hsvrefA1_1106[1],S1hsvrefA1_1107[1], S1hsvrefA1_1108[1], S1hsvrefA1_1109[1], S1hsvrefA1_1110[1],\n",
        "S1hsvrefA1_12[1], S1hsvrefA1_1202[1], S1hsvrefA1_1203[1], S1hsvrefA1_1204[1], S1hsvrefA1_1205[1],S1hsvrefA1_1206[1], S1hsvrefA1_1207[1], S1hsvrefA1_1208[1], S1hsvrefA1_1209[1], S1hsvrefA1_1210[1],\n",
        "S1hsvrefA1_13[1], S1hsvrefA1_1302[1], S1hsvrefA1_1303[1],S1hsvrefA1_1304[1], S1hsvrefA1_1305[1], S1hsvrefA1_1306[1], S1hsvrefA1_1307[1], S1hsvrefA1_1308[1], S1hsvrefA1_1309[1], S1hsvrefA1_1310[1],\n",
        "S1hsvrefA1_14[1], S1hsvrefA1_1402[1], S1hsvrefA1_1403[1], S1hsvrefA1_1404[1], S1hsvrefA1_1405[1],  S1hsvrefA1_1406[1], S1hsvrefA1_1407[1], S1hsvrefA1_1408[1], S1hsvrefA1_1409[1], S1hsvrefA1_1410[1], \n",
        "S1hsvrefA1_15[1], S1hsvrefA1_1502[1], S1hsvrefA1_1503[1], S1hsvrefA1_1504[1], S1hsvrefA1_1505[1], S1hsvrefA1_1506[1], S1hsvrefA1_1507[1], S1hsvrefA1_1508[1], S1hsvrefA1_1509[1], S1hsvrefA1_1510[1], \n",
        "S1hsvrefA1_16[1], S1hsvrefA1_1602[1], S1hsvrefA1_1603[1], S1hsvrefA1_1604[1], S1hsvrefA1_1605[1], S1hsvrefA1_1606[1], S1hsvrefA1_1607[1], S1hsvrefA1_1608[1], S1hsvrefA1_1609[1], S1hsvrefA1_1610[1], \n",
        "S1hsvrefA1_17[1], S1hsvrefA1_1702[1], S1hsvrefA1_1703[1], S1hsvrefA1_1704[1], S1hsvrefA1_1705[1], S1hsvrefA1_1706[1], S1hsvrefA1_1707[1], S1hsvrefA1_1708[1], S1hsvrefA1_1709[1], S1hsvrefA1_1710[1]], \n",
        "'V-ref':[S1hsvrefA1_1[2],S1hsvrefA1_102[2],S1hsvrefA1_103[2],S1hsvrefA1_104[2],S1hsvrefA1_105[2],S1hsvrefA1_106[2],S1hsvrefA1_107[2],S1hsvrefA1_108[2],S1hsvrefA1_109[2],S1hsvrefA1_110[2],\n",
        "S1hsvrefA1_3[1],S1hsvrefA1_302[1],S1hsvrefA1_303[1],S1hsvrefA1_304[1],S1hsvrefA1_305[1], S1hsvrefA1_306[1],S1hsvrefA1_307[1],S1hsvrefA1_308[1],S1hsvrefA1_309[1],S1hsvrefA1_310[1],\n",
        "S1hsvrefA1_4[2], S1hsvrefA1_402[2], S1hsvrefA1_403[2], S1hsvrefA1_404[2], S1hsvrefA1_405[2],S1hsvrefA1_406[2], S1hsvrefA1_407[2], S1hsvrefA1_408[2], S1hsvrefA1_409[2], S1hsvrefA1_410[2],\n",
        "S1hsvrefA1_5[2], S1hsvrefA1_502[2], S1hsvrefA1_503[2], S1hsvrefA1_504[2], S1hsvrefA1_505[2],S1hsvrefA1_506[2], S1hsvrefA1_507[2], S1hsvrefA1_508[2], S1hsvrefA1_509[2], S1hsvrefA1_510[2],\n",
        "S1hsvrefA1_6[2], S1hsvrefA1_602[2], S1hsvrefA1_603[2], S1hsvrefA1_604[2], S1hsvrefA1_605[2],S1hsvrefA1_606[2], S1hsvrefA1_607[2], S1hsvrefA1_608[2], S1hsvrefA1_609[2], S1hsvrefA1_610[1],\n",
        "S1hsvrefA1_7[2], S1hsvrefA1_702[2], S1hsvrefA1_703[2], S1hsvrefA1_704[2],S1hsvrefA1_705[2], S1hsvrefA1_706[2], S1hsvrefA1_707[2], S1hsvrefA1_708[2], S1hsvrefA1_709[2], S1hsvrefA1_710[2],\n",
        "S1hsvrefA1_8[2], S1hsvrefA1_802[2], S1hsvrefA1_803[2], S1hsvrefA1_804[2], S1hsvrefA1_805[2],S1hsvrefA1_806[2], S1hsvrefA1_807[2], S1hsvrefA1_808[2], S1hsvrefA1_809[2], S1hsvrefA1_810[2],\n",
        "S1hsvrefA1_9[2], S1hsvrefA1_902[2], S1hsvrefA1_903[2], S1hsvrefA1_904[2], S1hsvrefA1_905[2],S1hsvrefA1_906[2], S1hsvrefA1_907[2], S1hsvrefA1_908[2], S1hsvrefA1_909[2], S1hsvrefA1_910[2],\n",
        "S1hsvrefA1_10[2], S1hsvrefA1_1002[2], S1hsvrefA1_1003[2], S1hsvrefA1_1004[2], S1hsvrefA1_1005[2],  S1hsvrefA1_1006[2], S1hsvrefA1_1007[2], S1hsvrefA1_1008[2], S1hsvrefA1_1009[2], S1hsvrefA1_1010[2],        \n",
        "S1hsvrefA1_11[2], S1hsvrefA1_1102[2], S1hsvrefA1_1103[2], S1hsvrefA1_1104[2], S1hsvrefA1_1105[2],S1hsvrefA1_1106[2],S1hsvrefA1_1107[2], S1hsvrefA1_1108[2], S1hsvrefA1_1109[2], S1hsvrefA1_1110[2],\n",
        "S1hsvrefA1_12[2], S1hsvrefA1_1202[2], S1hsvrefA1_1203[2], S1hsvrefA1_1204[2], S1hsvrefA1_1205[2],S1hsvrefA1_1206[2], S1hsvrefA1_1207[2], S1hsvrefA1_1208[2], S1hsvrefA1_1209[2], S1hsvrefA1_1210[2],\n",
        "S1hsvrefA1_13[2], S1hsvrefA1_1302[2], S1hsvrefA1_1303[2], S1hsvrefA1_1304[2], S1hsvrefA1_1305[2], S1hsvrefA1_1306[2], S1hsvrefA1_1307[2], S1hsvrefA1_1308[2], S1hsvrefA1_1309[2], S1hsvrefA1_1310[2],\n",
        "S1hsvrefA1_14[2], S1hsvrefA1_1402[2], S1hsvrefA1_1403[2], S1hsvrefA1_1404[2], S1hsvrefA1_1405[2],  S1hsvrefA1_1406[2], S1hsvrefA1_1407[2], S1hsvrefA1_1408[2], S1hsvrefA1_1409[2], S1hsvrefA1_1410[2], \n",
        "S1hsvrefA1_15[2], S1hsvrefA1_1502[2], S1hsvrefA1_1503[2], S1hsvrefA1_1504[2], S1hsvrefA1_1505[2], S1hsvrefA1_1506[2], S1hsvrefA1_1507[2], S1hsvrefA1_1508[2], S1hsvrefA1_1509[2], S1hsvrefA1_1510[2], \n",
        "S1hsvrefA1_16[2], S1hsvrefA1_1602[2], S1hsvrefA1_1603[2], S1hsvrefA1_1604[2], S1hsvrefA1_1605[2], S1hsvrefA1_1606[2], S1hsvrefA1_1607[2], S1hsvrefA1_1608[2], S1hsvrefA1_1609[2], S1hsvrefA1_1610[2], \n",
        "S1hsvrefA1_17[2], S1hsvrefA1_1702[2], S1hsvrefA1_1703[2], S1hsvrefA1_1704[2], S1hsvrefA1_1705[2], S1hsvrefA1_1706[2], S1hsvrefA1_1707[2], S1hsvrefA1_1708[2], S1hsvrefA1_1709[2], S1hsvrefA1_1710[2]], \n",
        "'H-Shad':[S1hsvA1_2[0],S1hsvA1_202[0],S1hsvA1_203[0],S1hsvA1_204[0],S1hsvA1_205[0],S1hsvA1_206[0],S1hsvA1_207[0],S1hsvA1_208[0],S1hsvA1_209[0],S1hsvA1_210[0],\n",
        "S1hsvA2_1[0],S1hsvA2_102[0],S1hsvA2_103[0],S1hsvA2_104[0],S1hsvA2_105[0],S1hsvA2_106[0],S1hsvA2_107[0],S1hsvA2_108[0],S1hsvA2_109[0],S1hsvA2_110[0],\n",
        "S1hsvA3_1[0],S1hsvA3_102[0],S1hsvA3_103[0],S1hsvA3_104[0],S1hsvA3_105[0],S1hsvA3_106[0],S1hsvA3_107[0],S1hsvA3_108[0],S1hsvA3_109[0],S1hsvA3_110[0],\n",
        "S1hsvA3_51[0],S1hsvA3_5102[0],S1hsvA3_5103[0],S1hsv3_5104[0],  S1hsvA3_5105[0],S1hsvA3_5106[0],S1hsvA3_5107[0],S1hsvA3_5108[0],S1hsvA3_5109[0],  S1hsvA3_5110[0],\n",
        "S1hsvA4_1[0],S1hsvA4_102[0],S1hsvA4_103[0],S1hsvA4_104[0],S1hsvA4_105[0],S1hsvA4_106[0],S1hsvA4_107[0],S1hsvA4_108[0],S1hsvA4_109[0],S1hsvA4_110[0],\n",
        "S1hsvB1_1[0],S1hsvB1_102[0],S1hsvB1_103[0],S1hsvB1_104[0],S1hsvB1_105[0],S1hsvB1_106[0],S1hsvB1_107[0],S1hsvB1_108[0],S1hsvB1_109[0],S1hsvB1_110[0],\n",
        "S1hsvB2_1[0],S1hsvB2_102[0],S1hsvB2_103[0],S1hsvB2_104[0],S1hsvB2_105[0],S1hsvB2_106[0],S1hsvB2_107[0],S1hsvB2_108[0],S1hsvB2_109[0],S1hsvB2_110[0],\n",
        "S1hsvB3_1[0],S1hsvB3_102[0],S1hsvB3_103[0],S1hsvB3_104[0],S1hsvB3_105[0],S1hsvB3_106[0],S1hsvB3_107[0],S1hsvB3_108[0],S1hsvB3_109[0],S1hsvB3_110[0],\n",
        "S1hsvB4_1[0],S1hsvB4_102[0],S1hsvB4_103[0],S1hsvB4_104[0],S1hsvB4_105[0],S1hsvB4_106[0],S1hsvB4_107[0],S1hsvB4_108[0],S1hsvB4_109[0],S1hsvB4_110[0],\n",
        "S1hsvC1_1[0],S1hsvC1_102[0],S1hsvC1_103[0],S1hsvC1_104[0],S1hsvC1_105[0],S1hsvC1_106[0],S1hsvC1_107[0],S1hsvC1_108[0],S1hsvC1_109[0],S1hsvC1_110[0],\n",
        "S1hsvC2_1[0],S1hsvC2_102[0],S1hsvC2_103[0],S1hsvC2_104[0],S1hsvC2_105[0],S1hsvC2_106[0],S1hsvC2_107[0],S1hsvC2_108[0],S1hsvC2_109[0],S1hsvC2_110[0],\n",
        "S1hsvC3_1[0],S1hsvC3_102[0],S1hsvC3_103[0],S1hsvC3_104[0],S1hsvC3_105[0],S1hsvC3_106[0],S1hsvC3_107[0],S1hsvC3_108[0],S1hsvC3_109[0],S1hsvC3_110[0],\n",
        "S1hsvC4_1[0],S1hsvC4_102[0],S1hsvC4_103[0],S1hsvC4_104[0],S1hsvC4_105[0],S1hsvC4_106[0],S1hsvC4_107[0],S1hsvC4_108[0],S1hsvC4_109[0],S1hsvC4_110[0],\n",
        "S1hsvD2_1[0],S1hsvD2_102[0],S1hsvD2_103[0],S1hsvD2_104[0],S1hsvD2_105[0],S1hsvD2_106[0],S1hsvD2_107[0],S1hsvD2_108[0],S1hsvD2_109[0],S1hsvD2_110[0],\n",
        "S1hsvD3_1[0],S1hsvD3_102[0],S1hsvD3_103[0],S1hsvD3_104[0],S1hsvD3_105[0],S1hsvD3_106[0],S1hsvD3_107[0],S1hsvD3_108[0],S1hsvD3_109[0],S1hsvD3_110[0],\n",
        "S1hsvD4_1[0],S1hsvD4_102[0],S1hsvD4_103[0],S1hsvD4_104[0],S1hsvD4_105[0],S1hsvD4_106[0],S1hsvD4_107[0],S1hsvD4_108[0],S1hsvD4_109[0],S1hsvD4_110[0]],\n",
        "'S-Shad':[S1hsvA1_2[1],S1hsvA1_202[1],S1hsvA1_203[1], S1hsvA1_204[1],S1hsvA1_205[1],S1hsvA1_206[1],S1hsvA1_207[1],S1hsvA1_208[1],S1hsvA1_209[1],S1hsvA1_210[1],\n",
        "S1hsvA2_1[1],S1hsvA2_102[],S1hsvA2_103[1],S1hsvA2_104[1],S1hsvA2_105[1],S1hsvA2_106[1],S1hsvA2_107[1],S1hsvA2_108[1],S1hsvA2_109[1],S1hsvA2_110[1],\n",
        "S1hsvA3_1[1],S1hsvA3_102[1], S1hsvA3_103[1],S1hsvA3_104[1],S1hsvA3_105[1],S1hsvA3_106[1],S1hsvA3_107[1],S1hsvA3_108[1],S1hsvA3_109[1],S1hsvA3_110[1],\n",
        "S1hsvA3_51[1],S1hsvA3_5102[1],S1hsvA3_5103[1],S1hsvA3_5104[1],  S1hsvA3_5105[1],S1hsvA3_5106[1],S1hsvA3_5107[1],S1hsvA3_5108[1],S1hsvA3_5109[1],  S1hsvA3_5110[1],\n",
        "S1hsvA4_1[1],S1hsvA4_102[1],S1hsvA4_103[1],S1hsvA4_104[1],S1hsvA4_105[1],S1hsvA4_106[1], S1hsvA4_107[1],S1hsvA4_108[1],S1hsvA4_109[1],S1hsvA4_110[1],\n",
        "S1hsvB1_1[1],S1hsvB1_102[1],S1hsvB1_103[1],S1hsvB1_104[1],S1hsvB1_105[1],S1hsvB1_106[1],S1hsvB1_107[1],S1hsvB1_108[1],S1hsvB1_109[1],S1hsvB1_110[1],\n",
        "S1hsvB2_1[1],S1hsvB2_102[1],S1hsvB2_103[1],S1hsvB2_104[1],S1hsvB2_105[1],S1hsvB2_106[1],S1hsvB2_107[1],S1hsvB2_108[1],S1hsvB2_109[1],S1hsvB2_110[1],\n",
        "S1hsvB3_1[1],S1hsvB3_102[1],S1hsvB3_103[1],S1hsvB3_104[1],S1hsvB3_105[1],S1hsvB3_106[1],S1hsvB3_107[1],S1hsvB3_108[1],S1hsvB3_109[1],S1hsvB3_110[1],\n",
        "S1hsvB4_1[1],S1hsvB4_102[1],S1hsvB4_103[1],S1hsvB4_104[1],S1hsvB4_105[1],S1hsvB4_106[1],S1hsvB4_107[1],S1hsvB4_108[1],S1hsvB4_109[1],S1hsvB4_110[1],\n",
        "S1hsvC1_1[1],S1hsvC1_102[1],S1hsvC1_103[1],S1hsvC1_104[1],S1hsvC1_105[1],S1hsvC1_106[1],S1hsvC1_107[1],S1hsvC1_108[1],S1hsvC1_109[1],S1hsvC1_110[1],\n",
        "S1hsvC2_1[1],S1hsvC2_102[1],S1hsvC2_103[1],S1hsvC2_104[1],S1hsvC2_105[1],S1hsvC2_106[1],S1hsvC2_107[1],S1hsvC2_108[1],S1hsvC2_109[1],S1hsvC2_110[1],\n",
        "S1hsvC3_1[1],S1hsvC3_102[1],S1hsvC3_103[1],S1hsvC3_104[1],S1hsvC3_105[1],S1hsvC3_106[1],S1hsvC3_107[1],S1hsvC3_108[1],S1hsvC3_109[1],S1hsvC3_110[1],\n",
        "S1hsvC4_1[1],S1hsvC4_102[1],S1hsvC4_103[1],S1hsvC4_104[1],S1hsvC4_105[1],S1hsvC4_106[1],S1hsvC4_107[1],S1hsvC4_108[1],S1hsvC4_109[1],S1hsvC4_110[1],\n",
        "S1hsvD2_1[1],S1hsvD2_102[1],S1hsvD2_103[1],S1hsvD2_104[1],S1hsvD2_105[1],S1hsvD2_106[1],S1hsvD2_107[1],S1hsvD2_108[1],S1hsvD2_109[1],S1hsvD2_110[1],\n",
        "S1hsvD3_1[1],S1hsvD3_102[1],S1hsvD3_103[1],S1hsvD3_104[1],S1hsvD3_105[1],S1hsvD3_106[1],S1hsvD3_107[1],S1hsvD3_108[1],S1hsvD3_109[1],S1hsvD3_110[1],\n",
        "S1hsvD4_1[1],S1hsvD4_102[1],S1hsvD4_103[1],S1hsvD4_104[1],S1hsvD4_105[1],S1hsvD4_106[1],S1hsvD4_107[1],S1hsvD4_108[1],S1hsvD4_109[1],S1hsvD4_110[1]],\n",
        "'V-Shad':[S1hsvA1_2[2],S1hsvA1_202[2],S1hsvA1_203[2],S1hsvA1_204[2],S1hsvA1_205[2],S1hsvA1_206[2],S1hsvA1_207[2],S1hsvA1_208[2],S1hsvA1_209[2],S1hsvA1_210[2],\n",
        "S1hsvA2_1[2],S1hsvA2_102[2],S1hsvA2_103[2],S1hsvA2_104[2],S1hsvA2_105[2],S1hsvA2_106[2],S1hsvA2_107[2],S1hsvA2_108[2],S1hsvA2_109[2],S1hsvA2_110[2],\n",
        "S1hsvA3_1[2],S1hsvA3_102[2],S1hsvA3_103[2],S1hsvA3_104[2],S1hsvA3_105[2],S1hsvA3_106[2],S1hsvA3_107[2],S1hsvA3_108[2],S1hsvA3_109[2],S1hsvA3_110[2],\n",
        "S1hsvA3_51[2],S1hsvA3_5102[2],S1hsvA3_5103[2],S1hsvA3_5104[2],  S1hsvA3_5105[2],S1hsvA3_5106[2],S1hsvA3_5107[2],S1hsvA3_5108[2],S1hsvA3_5109[2],  S1hsvA3_5110[2],\n",
        "S1hsvA4_1[2],S1hsvA4_102[2],S1hsvA4_103[2],S1hsvA4_104[2],S1hsvA4_105[2],S1hsvA4_106[2],S1hsvA4_107[2],S1hsvA4_108[2],S1hsvA4_109[2],S1hsvA4_110[2],\n",
        "S1hsvB1_1[2],S1hsvB1_102[2],S1hsvB1_103[2],S1hsvB1_104[2],S1hsvB1_105[2],S1hsvB1_106[2],S1hsvB1_107[2],S1hsvB1_108[2],S1hsvB1_109[2],S1hsvB1_110[2],\n",
        "S1hsvB2_1[2],S1hsvB2_102[2],S1hsvB2_103[2],S1hsvB2_104[2],S1hsvB2_105[2],S1hsvB2_106[2],S1hsvB2_107[2],S1hsvB2_108[2],S1hsvB2_109[2],S1hsvB2_110[2],\n",
        "S1hsvB3_1[2],S1hsvB3_102[2],S1hsvB3_103[2],S1hsvB3_104[2],S1hsvB3_105[2],S1hsvB3_106[2],S1hsvB3_107[2],S1hsvB3_108[2],S1hsvB3_109[2],S1hsvB3_110[2],\n",
        "S1hsvB4_1[2],S1hsvB4_102[2],S1hsvB4_103[2],S1hsvB4_104[2],S1hsvB4_105[2],S1hsvB4_106[2],S1hsvB4_107[2],S1hsvB4_108[2],S1hsvB4_109[2],S1hsvB4_110[2],\n",
        "S1hsvC1_1[2],S1hsvC1_102[2],S1hsvC1_103[2],S1hsvC1_104[2],S1hsvC1_105[2],S1hsvC1_106[2],S1hsvC1_107[2],S1hsvC1_108[2],S1hsvC1_109[2],S1hsvC1_110[2],\n",
        "S1hsvC2_1[2],S1hsvC2_102[2],S1hsvC2_103[2],S1hsvC2_104[2],S1hsvC2_105[2],S1hsvC2_106[2],S1hsvC2_107[2],S1hsvC2_108[2],S1hsvC2_109[2],S1hsvC2_110[2],\n",
        "S1hsvC3_1[2],S1hsvC3_102[2],S1hsvC3_103[2],S1hsvC3_104[2],S1hsvC3_105[2],S1hsvC3_106[2],S1hsvC3_107[2],S1hsvC3_108[2],S1hsvC3_109[2],S1hsvC3_110[2],\n",
        "S1hsvC4_1[2],S1hsvC4_102[2],S1hsvC4_103[2],S1hsvC4_104[2],S1hsvC4_105[2],S1hsvC4_106[2],S1hsvC4_107[2],S1hsvC4_108[2],S1hsvC4_109[2],S1hsvC4_110[2],\n",
        "S1hsvD2_1[2],S1hsvD2_102[2],S1hsvD2_103[2],S1hsvD2_104[2],S1hsvD2_105[2],S1hsvD2_106[2],S1hsvD2_107[2],S1hsvD2_108[2],S1hsvD2_109[2],S1hsvD2_110[2],\n",
        "S1hsvD3_1[2],S1hsvD3_102[2],S1hsvD3_103[2],S1hsvD3_104[2],S1hsvD3_105[2],S1hsvD3_106[2],S1hsvD3_107[2],S1hsvD3_108[2],S1hsvD3_109[2],S1hsvD3_110[2],\n",
        "S1hsvD4_1[2],S1hsvD4_102[2],S1hsvD4_103[2],S1hsvD4_104[2],S1hsvD4_105[2],S1hsvD4_106[2],S1hsvD4_107[2],S1hsvD4_108[2],S1hsvD4_109[2],S1hsvD4_110[2]],\n",
        "'Shade-ref':['A1', 'A1', 'A1', 'A1', 'A1', 'A1',  'A1', 'A1', 'A1', 'A1', 'A1',  'A1', 'A1', 'A1',  'A1', 'A1','A1', 'A1', 'A1', 'A1', 'A1', 'A1',  'A1', 'A1', 'A1', 'A1', 'A1',  'A1', 'A1', 'A1',  'A1', 'A1','A1', 'A1', 'A1', 'A1', 'A1', 'A1',  'A1', 'A1', 'A1', 'A1', 'A1',  'A1', 'A1', 'A1',  'A1', 'A1','A1', 'A1', 'A1', 'A1', 'A1', 'A1',  'A1', 'A1', 'A1', 'A1', 'A1',  'A1', 'A1', 'A1',  'A1', 'A1','A1', 'A1', 'A1', 'A1', 'A1', 'A1',  'A1', 'A1', 'A1', 'A1', 'A1',  'A1', 'A1', 'A1',  'A1', 'A1','A1', 'A1', 'A1', 'A1', 'A1', 'A1',  'A1', 'A1', 'A1', 'A1', 'A1',  'A1', 'A1', 'A1',  'A1', 'A1','A1', 'A1', 'A1', 'A1', 'A1', 'A1',  'A1', 'A1', 'A1', 'A1', 'A1',  'A1', 'A1', 'A1',  'A1', 'A1','A1', 'A1', 'A1', 'A1', 'A1', 'A1',  'A1', 'A1', 'A1', 'A1', 'A1',  'A1', 'A1', 'A1',  'A1', 'A1','A1', 'A1', 'A1', 'A1', 'A1', 'A1',  'A1', 'A1', 'A1', 'A1', 'A1',  'A1', 'A1', 'A1',  'A1', 'A1','A1', 'A1', 'A1', 'A1', 'A1', 'A1',  'A1', 'A1', 'A1', 'A1', 'A1',  'A1', 'A1', 'A1',  'A1', 'A1'],\n",
        "'Shade': ['A1', 'A1', 'A1', 'A1', 'A1', 'A1', 'A1', 'A1', 'A1', 'A1', 'A2', 'A2', 'A2',  'A2','A2', 'A2', 'A2',  'A2' 'A2',  'A2', 'A3', 'A3', 'A3', 'A3', 'A3', 'A3','A3', 'A3',  ,'A3', 'A3','A3_5', 'A3_5', 'A3_5', 'A3_5', 'A3_5', 'A3_5', 'A3_5', 'A3_5', 'A3_5', 'A3_5', 'A4', 'A4', 'A4', 'A4', 'A4', 'A4', 'A4', 'A4', 'A4', 'A4',  'B1', 'B1', 'B1', 'B1', 'B1', 'B1','B1', 'B1', 'B1', 'B1',    'B2', 'B2', 'B2', 'B2', 'B2', 'B2','B2', 'B2','B2', 'B2', 'B3',  'B3', 'B3', 'B3', 'B3', 'B3', 'B3', 'B3', 'B3', 'B3', 'B4', 'B4', 'B4', 'B4', 'B4', 'B4', 'B4', 'B4', 'B4', 'B4', 'C1', 'C1', 'C1', 'C1', 'C1', 'C1', 'C1', 'C1', 'C1', 'C1', 'C2', 'C2', 'C2', 'C2', 'C2', 'C2', 'C2', 'C2', 'C2', 'C2','C3', 'C3', 'C3', 'C3', 'C3', 'C3', 'C3', 'C3','C3', 'C3','C4', 'C4', 'C4', 'C4', 'C4', 'C4', 'C4', 'C4', 'C4', 'C4','D2', 'D2', 'D2', 'D2', 'D2', 'D2', 'D2', 'D2', 'D2', 'D2',  'D3', 'D3', 'D3', 'D3', 'D3','D3', 'D3', 'D3', 'D3','D3','D4', 'D4'  'D4', 'D4', 'D4','D4','D4','D4','D4','D4'], \n",
        "'Setting':['Set1', 'Set1', 'Set1', 'Set1', 'Set1', 'Set1', 'Set1', 'Set1', 'Set1', 'Set1', 'Set1', 'Set1', 'Set1', 'Set1', 'Set1', 'Set1','Set1', 'Set1', 'Set1', 'Set1', 'Set1', 'Set1', 'Set1', 'Set1', 'Set1', 'Set1', 'Set1', 'Set1', 'Set1', 'Set1', 'Set1', 'Set1','Set1', 'Set1', 'Set1', 'Set1', 'Set1', 'Set1', 'Set1', 'Set1', 'Set1', 'Set1', 'Set1', 'Set1', 'Set1', 'Set1', 'Set1', 'Set1','Set1', 'Set1', 'Set1', 'Set1', 'Set1', 'Set1', 'Set1', 'Set1', 'Set1', 'Set1', 'Set1', 'Set1', 'Set1', 'Set1', 'Set1', 'Set1','Set1', 'Set1', 'Set1', 'Set1', 'Set1', 'Set1', 'Set1', 'Set1', 'Set1', 'Set1', 'Set1', 'Set1', 'Set1', 'Set1', 'Set1', 'Set1','Set1', 'Set1', 'Set1', 'Set1', 'Set1', 'Set1', 'Set1', 'Set1', 'Set1', 'Set1', 'Set1', 'Set1', 'Set1', 'Set1', 'Set1', 'Set1','Set1', 'Set1', 'Set1', 'Set1', 'Set1', 'Set1', 'Set1', 'Set1', 'Set1', 'Set1', 'Set1', 'Set1', 'Set1', 'Set1', 'Set1', 'Set1','Set1', 'Set1', 'Set1', 'Set1', 'Set1', 'Set1', 'Set1', 'Set1', 'Set1', 'Set1', 'Set1', 'Set1', 'Set1', 'Set1', 'Set1', 'Set1','Set1', 'Set1', 'Set1', 'Set1', 'Set1', 'Set1', 'Set1', 'Set1', 'Set1', 'Set1', 'Set1', 'Set1', 'Set1', 'Set1', 'Set1', 'Set1','Set1', 'Set1', 'Set1', 'Set1', 'Set1', 'Set1', 'Set1', 'Set1', 'Set1', 'Set1', 'Set1', 'Set1', 'Set1', 'Set1', 'Set1', 'Set1'],\n",
        "'Img' :[S1_doubleA1A1_1,S1_doubleA1A1_102,S1_doubleA1A1_103,S1_doubleA1A1_104,S1_doubleA1A1_105,S1_doubleA1A1_106,S1_doubleA1A1_107,S1_doubleA1A1_108,S1_doubleA1A1_109,S1_doubleA1A1_110,\n",
        "S1_doubleA1A2_1, S1_doubleA1A2_102, S1_doubleA1A2_103, S1_doubleA1A2_104, S1_doubleA1A2_105, S1_doubleA1A2_106, S1_doubleA1A2_107, S1_doubleA1A2_108, S1_doubleA1A2_109, S1_doubleA1A2_110, \n",
        "S1_doubleA1A3_1, S1_doubleA1A3_102, S1_doubleA1A3_103, S1_doubleA1A3_104, S1_doubleA1A3_105, S1_doubleA1A3_106, S1_doubleA1A3_107, S1_doubleA1A3_108, S1_doubleA1A3_109, S1_doubleA1A3_110, \n",
        "S1_doubleA1A3_51, S1_doubleA1A3_5102,S1_doubleA1A3_5103,S1_doubleA1A3_5104,S1_doubleA1A3_5105,S1_doubleA1A3_5106,S1_doubleA1A3_5107, S1_doubleA1A3_5108,S1_doubleA1A3_5109,S1_doubleA1A3_5110,\n",
        "S1_doubleA1A4_1, S1_doubleA1A4_102, S1_doubleA1A4_103, S1_doubleA1A4_104, S1_doubleA1A4_105, S1_doubleA1A4_106, S1_doubleA1A4_107, S1_doubleA1A4_108, S1_doubleA1A4_109, S1_doubleA1A4_110, \n",
        "S1_doubleA1B1_1,S1_doubleA1B1_102,S1_doubleA1B1_103,S1_doubleA1B1_104,S1_doubleA1B1_105,S1_doubleA1B1_106,S1_doubleA1B1_107,S1_doubleA1B1_108,S1_doubleA1B1_109,S1_doubleA1B1_110,\n",
        "S1_doubleA1B2_1, S1_doubleA1B2_102,S1_doubleA1B2_103,S1_doubleA1B2_104,S1_doubleA1B2_105,S1_doubleA1B2_106, S1_doubleA1B2_107,S1_doubleA1B2_108,S1_doubleA1B2_109,S1_doubleA1B2_110,\n",
        "S1_doubleA1B3_1, S1_doubleA1B3_102,S1_doubleA1B3_103,S1_doubleA1B3_104,S1_doubleA1B3_105,S1_doubleA1B3_106, S1_doubleA1B3_107,S1_doubleA1B3_108,S1_doubleA1B3_109,S1_doubleA1B3_110,\n",
        "S1_doubleA1B4_1,S1_doubleA1B4_102,S1_doubleA1B4_103,S1_doubleA1B4_104,S1_doubleA1B4_105,S1_doubleA1B4_106,S1_doubleA1B4_107,S1_doubleA1B4_108,S1_doubleA1B4_109,S1_doubleA1B4_110,\n",
        "S1_doubleA1C1_1 ,S1_doubleA1C1_102,S1_doubleA1C1_103,S1_doubleA1C1_104,S1_doubleA1C1_105,S1_doubleA1C1_106,S1_doubleA1C1_107,S1_doubleA1C1_108,S1_doubleA1C1_109,S1_doubleA1C1_110,\n",
        "S1_doubleA1C2_1, S1_doubleA1C2_102, S1_doubleA1C2_103, S1_doubleA1C2_104, S1_doubleA1C2_105,S1_doubleA1C2_106, S1_doubleA1C2_107, S1_doubleA1C2_108, S1_doubleA1C2_109, S1_doubleA1C2_110, \n",
        "S1_doubleA1C3_1,S1_doubleA1C3_102, S1_doubleA1C3_103,S1_doubleA1C3_104,S1_doubleA1C3_105,S1_doubleA1C3_106,S1_doubleA1C3_107,S1_doubleA1C3_108,S1_doubleA1C3_109,S1_doubleA1C3_110,\n",
        "S1_doubleA1C4_1, S1_doubleA1C4_102,S1_doubleA1C4_103,S1_doubleA1C4_104,S1_doubleA1C4_105,S1_doubleA1C4_106,S1_doubleA1C4_107,S1_doubleA1C4_108,S1_doubleA1C4_109,S1_doubleA1C4_110,\n",
        "S1_doubleA1D2_1,S1_doubleA1D2_102, S1_doubleA1D2_103,S1_doubleA1D2_104,  S1_doubleA1D2_105, S1_doubleA1D2_106,S1_doubleA1D2_107, S1_doubleA1D2_108,S1_doubleA1D2_109,  S1_doubleA1D2_110, \n",
        "S1_doubleA1D3_1,S1_doubleA1D3_102,S1_doubleA1D3_103,S1_doubleA1D3_104,S1_doubleA1D3_105, S1_doubleA1D3_106,S1_doubleA1D3_107,S1_doubleA1D3_108,S1_doubleA1D3_109,S1_doubleA1D3_110,\n",
        "S1_doubleA1D4_1,S1_doubleA1D4_102,S1_doubleA1D4_103,S1_doubleA1D4_104,S1_doubleA1D4_105,S1_doubleA1D4_106,S1_doubleA1D4_107,S1_doubleA1D4_108,S1_doubleA1D4_109,S1_doubleA1D4_110,]}) "
      ],
      "execution_count": null,
      "outputs": []
    }
  ]
}