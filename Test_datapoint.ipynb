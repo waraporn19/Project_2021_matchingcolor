{
  "nbformat": 4,
  "nbformat_minor": 0,
  "metadata": {
    "colab": {
      "name": "Test_datapoint.ipynb",
      "provenance": [],
      "include_colab_link": true
    },
    "kernelspec": {
      "name": "python3",
      "display_name": "Python 3"
    },
    "language_info": {
      "name": "python"
    }
  },
  "cells": [
    {
      "cell_type": "markdown",
      "metadata": {
        "id": "view-in-github",
        "colab_type": "text"
      },
      "source": [
        "<a href=\"https://colab.research.google.com/github/waraporn19/Project_2021_matchingcolor/blob/main/Test_datapoint.ipynb\" target=\"_parent\"><img src=\"https://colab.research.google.com/assets/colab-badge.svg\" alt=\"Open In Colab\"/></a>"
      ]
    },
    {
      "cell_type": "code",
      "source": [
        "import pandas as pd\n",
        "import cv2\n",
        "import numpy as np"
      ],
      "metadata": {
        "id": "ZzrNkhwY45v0"
      },
      "execution_count": 1,
      "outputs": []
    },
    {
      "cell_type": "code",
      "source": [
        "!pip install azure-storage-blob==2.1.0"
      ],
      "metadata": {
        "colab": {
          "base_uri": "https://localhost:8080/"
        },
        "id": "8YnSEfox47yC",
        "outputId": "3c02d5f9-c512-4444-fed2-79470bfffb55"
      },
      "execution_count": 2,
      "outputs": [
        {
          "output_type": "stream",
          "name": "stdout",
          "text": [
            "Collecting azure-storage-blob==2.1.0\n",
            "  Downloading azure_storage_blob-2.1.0-py2.py3-none-any.whl (88 kB)\n",
            "\u001b[K     |████████████████████████████████| 88 kB 1.8 MB/s \n",
            "\u001b[?25hCollecting azure-storage-common~=2.1\n",
            "  Downloading azure_storage_common-2.1.0-py2.py3-none-any.whl (47 kB)\n",
            "\u001b[K     |████████████████████████████████| 47 kB 2.6 MB/s \n",
            "\u001b[?25hCollecting azure-common>=1.1.5\n",
            "  Downloading azure_common-1.1.28-py2.py3-none-any.whl (14 kB)\n",
            "Collecting cryptography\n",
            "  Downloading cryptography-36.0.1-cp36-abi3-manylinux_2_24_x86_64.whl (3.6 MB)\n",
            "\u001b[K     |████████████████████████████████| 3.6 MB 35.8 MB/s \n",
            "\u001b[?25hRequirement already satisfied: requests in /usr/local/lib/python3.7/dist-packages (from azure-storage-common~=2.1->azure-storage-blob==2.1.0) (2.23.0)\n",
            "Requirement already satisfied: python-dateutil in /usr/local/lib/python3.7/dist-packages (from azure-storage-common~=2.1->azure-storage-blob==2.1.0) (2.8.2)\n",
            "Requirement already satisfied: cffi>=1.12 in /usr/local/lib/python3.7/dist-packages (from cryptography->azure-storage-common~=2.1->azure-storage-blob==2.1.0) (1.15.0)\n",
            "Requirement already satisfied: pycparser in /usr/local/lib/python3.7/dist-packages (from cffi>=1.12->cryptography->azure-storage-common~=2.1->azure-storage-blob==2.1.0) (2.21)\n",
            "Requirement already satisfied: six>=1.5 in /usr/local/lib/python3.7/dist-packages (from python-dateutil->azure-storage-common~=2.1->azure-storage-blob==2.1.0) (1.15.0)\n",
            "Requirement already satisfied: chardet<4,>=3.0.2 in /usr/local/lib/python3.7/dist-packages (from requests->azure-storage-common~=2.1->azure-storage-blob==2.1.0) (3.0.4)\n",
            "Requirement already satisfied: idna<3,>=2.5 in /usr/local/lib/python3.7/dist-packages (from requests->azure-storage-common~=2.1->azure-storage-blob==2.1.0) (2.10)\n",
            "Requirement already satisfied: urllib3!=1.25.0,!=1.25.1,<1.26,>=1.21.1 in /usr/local/lib/python3.7/dist-packages (from requests->azure-storage-common~=2.1->azure-storage-blob==2.1.0) (1.24.3)\n",
            "Requirement already satisfied: certifi>=2017.4.17 in /usr/local/lib/python3.7/dist-packages (from requests->azure-storage-common~=2.1->azure-storage-blob==2.1.0) (2021.10.8)\n",
            "Installing collected packages: cryptography, azure-common, azure-storage-common, azure-storage-blob\n",
            "Successfully installed azure-common-1.1.28 azure-storage-blob-2.1.0 azure-storage-common-2.1.0 cryptography-36.0.1\n"
          ]
        }
      ]
    },
    {
      "cell_type": "code",
      "source": [
        "from azure.storage.blob import BlockBlobService\n",
        "import os\n",
        "blob_service_client = BlockBlobService(account_name='dent01', account_key='CuShY0B4TZJ84TjzPpaHxyrHOpO73aGXeCpdVq7x26OjIlQ1HOz+3DVc9pDEj9BdcEL8odFuTRF0mOAE+aCgiw==')"
      ],
      "metadata": {
        "id": "p0RIz2m442LO"
      },
      "execution_count": 3,
      "outputs": []
    },
    {
      "cell_type": "code",
      "source": [
        "img= 'FAF5097E-1FEB-41DF-92C9-C190A88FE15F.png'\n",
        "img1 = 'CD25F822-5A97-4F4A-8667-90D9F5C9CC62.png'\n",
        "img2 ='B772B836-0F38-44D5-959C-675C592375FE.png'"
      ],
      "metadata": {
        "id": "cN-U537isuTE"
      },
      "execution_count": 4,
      "outputs": []
    },
    {
      "cell_type": "code",
      "source": [
        "#ref\n",
        "list_total_S1 = list()\n",
        "list_total_S11 = list()\n",
        "SS1 = img\n",
        "full_path_to_file2 = os.path.join(SS1) \n",
        "blob_service_client.get_blob_to_path('shadeimg', full_path_to_file2, full_path_to_file2)\n",
        "imagee = cv2.imread(SS1)\n",
        "SS1_RGB_img = cv2.cvtColor(imagee, cv2.COLOR_BGR2RGB)\n",
        "SS1_RGBimg1 =  np.array(SS1_RGB_img[1800:1803,1753:1756])\n",
        "S5refA1_1 = np.reshape(SS1_RGBimg1,(3*3, 3))  \n",
        "S5refA1_3 = np.array(S5refA1_1)\n",
        "Rref = S5refA1_1[:,0].mean()\n",
        "Gref = S5refA1_1[:,1].mean()\n",
        "Bref = S5refA1_1[:,2].mean()\n",
        "\n",
        "list_total = list()\n",
        "list_total.append(Rref)\n",
        "list_total.append(Gref)\n",
        "list_total.append(Bref)"
      ],
      "metadata": {
        "id": "_45qkKTOs-qD"
      },
      "execution_count": 5,
      "outputs": []
    },
    {
      "cell_type": "code",
      "source": [
        "list_total"
      ],
      "metadata": {
        "colab": {
          "base_uri": "https://localhost:8080/"
        },
        "id": "r_6oAClrt_AB",
        "outputId": "4725bf9d-e8c1-418d-e874-1ca0a4a312fb"
      },
      "execution_count": 6,
      "outputs": [
        {
          "output_type": "execute_result",
          "data": {
            "text/plain": [
              "[226.55555555555554, 208.55555555555554, 172.55555555555554]"
            ]
          },
          "metadata": {},
          "execution_count": 6
        }
      ]
    },
    {
      "cell_type": "code",
      "source": [
        "#shade\n",
        "list_total_S1 = list()\n",
        "list_total_S11 = list()\n",
        "SS1 = img\n",
        "full_path_to_file2 = os.path.join(SS1) \n",
        "blob_service_client.get_blob_to_path('shadeimg', full_path_to_file2, full_path_to_file2)\n",
        "imagee = cv2.imread(SS1)\n",
        "SS1_RGB_img = cv2.cvtColor(imagee, cv2.COLOR_BGR2RGB)\n",
        "SS1_RGBimg1 =  np.array(SS1_RGB_img[1800:1803,2050:2053])\n",
        "S5refA1_1 = np.reshape(SS1_RGBimg1,(3*3, 3))  \n",
        "S5refA1_3 = np.array(S5refA1_1)\n",
        "Rref = S5refA1_1[:,0].mean()\n",
        "Gref = S5refA1_1[:,1].mean()\n",
        "Bref = S5refA1_1[:,2].mean()\n",
        "\n",
        "list_total11 = list()\n",
        "list_total11.append(Rref)\n",
        "list_total11.append(Gref)\n",
        "list_total11.append(Bref)"
      ],
      "metadata": {
        "id": "TuybpwGmtIb1"
      },
      "execution_count": 8,
      "outputs": []
    },
    {
      "cell_type": "code",
      "source": [
        "list_total11"
      ],
      "metadata": {
        "colab": {
          "base_uri": "https://localhost:8080/"
        },
        "id": "lRtpOfMOuLkQ",
        "outputId": "a0518059-1063-434d-e4b3-06cfc5680ff4"
      },
      "execution_count": 9,
      "outputs": [
        {
          "output_type": "execute_result",
          "data": {
            "text/plain": [
              "[230.88888888888889, 204.88888888888889, 153.88888888888889]"
            ]
          },
          "metadata": {},
          "execution_count": 9
        }
      ]
    },
    {
      "cell_type": "code",
      "source": [
        "#ref\n",
        "list_total_S1 = list()\n",
        "list_total_S11 = list()\n",
        "SS1 = img1\n",
        "full_path_to_file2 = os.path.join(SS1) \n",
        "blob_service_client.get_blob_to_path('shadeimg', full_path_to_file2, full_path_to_file2)\n",
        "imagee = cv2.imread(SS1)\n",
        "SS1_RGB_img = cv2.cvtColor(imagee, cv2.COLOR_BGR2RGB)\n",
        "SS1_RGBimg1 =  np.array(SS1_RGB_img[1800:1803,1750:1753])\n",
        "S5refA1_1 = np.reshape(SS1_RGBimg1,(3*3, 3))  \n",
        "S5refA1_3 = np.array(S5refA1_1)\n",
        "Rref = S5refA1_1[:,0].mean()\n",
        "Gref = S5refA1_1[:,1].mean()\n",
        "Bref = S5refA1_1[:,2].mean()\n",
        "\n",
        "list_total2 = list()\n",
        "list_total2.append(Rref)\n",
        "list_total2.append(Gref)\n",
        "list_total2.append(Bref)"
      ],
      "metadata": {
        "id": "GKh-FtswtYxf"
      },
      "execution_count": 11,
      "outputs": []
    },
    {
      "cell_type": "code",
      "source": [
        "#shade\n",
        "list_total_S1 = list()\n",
        "list_total_S11 = list()\n",
        "SS1 = img1\n",
        "full_path_to_file2 = os.path.join(SS1) \n",
        "blob_service_client.get_blob_to_path('shadeimg', full_path_to_file2, full_path_to_file2)\n",
        "imagee = cv2.imread(SS1)\n",
        "SS1_RGB_img = cv2.cvtColor(imagee, cv2.COLOR_BGR2RGB)\n",
        "SS1_RGBimg1 =  np.array(SS1_RGB_img[1800:1803,2050:2053])\n",
        "S5refA1_1 = np.reshape(SS1_RGBimg1,(3*3, 3))  \n",
        "S5refA1_3 = np.array(S5refA1_1)\n",
        "Rref = S5refA1_1[:,0].mean()\n",
        "Gref = S5refA1_1[:,1].mean()\n",
        "Bref = S5refA1_1[:,2].mean()\n",
        "\n",
        "list_total22 = list()\n",
        "list_total22.append(Rref)\n",
        "list_total22.append(Gref)\n",
        "list_total22.append(Bref)"
      ],
      "metadata": {
        "id": "2Cf6XKFntj5q"
      },
      "execution_count": 13,
      "outputs": []
    },
    {
      "cell_type": "code",
      "source": [
        "list_total22"
      ],
      "metadata": {
        "colab": {
          "base_uri": "https://localhost:8080/"
        },
        "id": "WrT59584ujRq",
        "outputId": "f4f1b59f-026a-4014-c211-98c1a0cf7353"
      },
      "execution_count": 14,
      "outputs": [
        {
          "output_type": "execute_result",
          "data": {
            "text/plain": [
              "[218.55555555555554, 188.55555555555554, 138.55555555555554]"
            ]
          },
          "metadata": {},
          "execution_count": 14
        }
      ]
    },
    {
      "cell_type": "code",
      "source": [
        "#ref\n",
        "list_total_S1 = list()\n",
        "list_total_S11 = list()\n",
        "SS1 = img2\n",
        "full_path_to_file2 = os.path.join(SS1) \n",
        "blob_service_client.get_blob_to_path('shadeimg', full_path_to_file2, full_path_to_file2)\n",
        "imagee = cv2.imread(SS1)\n",
        "SS1_RGB_img = cv2.cvtColor(imagee, cv2.COLOR_BGR2RGB)\n",
        "SS1_RGBimg1 =  np.array(SS1_RGB_img[1800:1803,1750:1753])\n",
        "S5refA1_1 = np.reshape(SS1_RGBimg1,(3*3, 3))  \n",
        "S5refA1_3 = np.array(S5refA1_1)\n",
        "Rref = S5refA1_1[:,0].mean()\n",
        "Gref = S5refA1_1[:,1].mean()\n",
        "Bref = S5refA1_1[:,2].mean()\n",
        "\n",
        "list_total3 = list()\n",
        "list_total3.append(Rref)\n",
        "list_total3.append(Gref)\n",
        "list_total3.append(Bref)"
      ],
      "metadata": {
        "id": "rfPDb3fWttib"
      },
      "execution_count": 53,
      "outputs": []
    },
    {
      "cell_type": "code",
      "source": [
        "list_total3"
      ],
      "metadata": {
        "colab": {
          "base_uri": "https://localhost:8080/"
        },
        "id": "IqLpXCTox9kf",
        "outputId": "c0c4934b-6e27-4344-89d8-b93807bf0f21"
      },
      "execution_count": 54,
      "outputs": [
        {
          "output_type": "execute_result",
          "data": {
            "text/plain": [
              "[215.88888888888889, 190.88888888888889, 149.88888888888889]"
            ]
          },
          "metadata": {},
          "execution_count": 54
        }
      ]
    },
    {
      "cell_type": "code",
      "source": [
        "#shade\n",
        "list_total_S1 = list()\n",
        "list_total_S11 = list()\n",
        "SS1 = img2\n",
        "full_path_to_file2 = os.path.join(SS1) \n",
        "blob_service_client.get_blob_to_path('shadeimg', full_path_to_file2, full_path_to_file2)\n",
        "imagee = cv2.imread(SS1)\n",
        "SS1_RGB_img = cv2.cvtColor(imagee, cv2.COLOR_BGR2RGB)\n",
        "SS1_RGBimg1 =  np.array(SS1_RGB_img[1800:1803,2050:2053])\n",
        "S5refA1_1 = np.reshape(SS1_RGBimg1,(3*3, 3))  \n",
        "S5refA1_3 = np.array(S5refA1_1)\n",
        "Rref = S5refA1_1[:,0].mean()\n",
        "Gref = S5refA1_1[:,1].mean()\n",
        "Bref = S5refA1_1[:,2].mean()\n",
        "\n",
        "list_total33 = list()\n",
        "list_total33.append(Rref)\n",
        "list_total33.append(Gref)\n",
        "list_total33.append(Bref)"
      ],
      "metadata": {
        "id": "J3SCdPC-uygx"
      },
      "execution_count": 56,
      "outputs": []
    },
    {
      "cell_type": "code",
      "source": [
        "list_total33"
      ],
      "metadata": {
        "colab": {
          "base_uri": "https://localhost:8080/"
        },
        "id": "9zWoSWnGzB0a",
        "outputId": "149059e2-ef95-423c-e26d-d9b3191388ba"
      },
      "execution_count": 57,
      "outputs": [
        {
          "output_type": "execute_result",
          "data": {
            "text/plain": [
              "[208.44444444444446, 181.44444444444446, 136.44444444444446]"
            ]
          },
          "metadata": {},
          "execution_count": 57
        }
      ]
    },
    {
      "cell_type": "code",
      "source": [
        "SS1_RGBimg1"
      ],
      "metadata": {
        "colab": {
          "base_uri": "https://localhost:8080/"
        },
        "id": "4DWqNO4yzFwO",
        "outputId": "eb2c96f8-4cf0-45a7-bcb5-95ea960a4012"
      },
      "execution_count": 58,
      "outputs": [
        {
          "output_type": "execute_result",
          "data": {
            "text/plain": [
              "array([[[208, 181, 136],\n",
              "        [210, 183, 138],\n",
              "        [209, 182, 137]],\n",
              "\n",
              "       [[208, 181, 136],\n",
              "        [209, 182, 137],\n",
              "        [210, 183, 138]],\n",
              "\n",
              "       [[206, 179, 134],\n",
              "        [207, 180, 135],\n",
              "        [209, 182, 137]]], dtype=uint8)"
            ]
          },
          "metadata": {},
          "execution_count": 58
        }
      ]
    },
    {
      "cell_type": "code",
      "source": [
        "#shade\n",
        "list_total_S1 = list()\n",
        "list_total_S11 = list()\n",
        "SS1 = img2\n",
        "full_path_to_file2 = os.path.join(SS1) \n",
        "blob_service_client.get_blob_to_path('shadeimg', full_path_to_file2, full_path_to_file2)\n",
        "imagee = cv2.imread(SS1)\n",
        "SS1_RGB_img = cv2.cvtColor(imagee, cv2.COLOR_BGR2RGB)\n",
        "SS1_RGBimg1 =  np.array(SS1_RGB_img[1801:1802,2050:2051])"
      ],
      "metadata": {
        "id": "XAHI7fm4v-S1"
      },
      "execution_count": 36,
      "outputs": []
    },
    {
      "cell_type": "code",
      "source": [
        "SS1_RGBimg1"
      ],
      "metadata": {
        "colab": {
          "base_uri": "https://localhost:8080/"
        },
        "id": "cMnl7oMOx28J",
        "outputId": "32cf8d9f-f244-40cc-bd4d-14c415d41929"
      },
      "execution_count": 37,
      "outputs": [
        {
          "output_type": "execute_result",
          "data": {
            "text/plain": [
              "array([[[208, 181, 136]]], dtype=uint8)"
            ]
          },
          "metadata": {},
          "execution_count": 37
        }
      ]
    }
  ]
}