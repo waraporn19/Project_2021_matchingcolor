{
  "nbformat": 4,
  "nbformat_minor": 0,
  "metadata": {
    "colab": {
      "name": "Test_datapoint.ipynb",
      "provenance": [],
      "include_colab_link": true
    },
    "kernelspec": {
      "name": "python3",
      "display_name": "Python 3"
    },
    "language_info": {
      "name": "python"
    }
  },
  "cells": [
    {
      "cell_type": "markdown",
      "metadata": {
        "id": "view-in-github",
        "colab_type": "text"
      },
      "source": [
        "<a href=\"https://colab.research.google.com/github/waraporn19/Project_2021_matchingcolor/blob/main/Test_datapoint.ipynb\" target=\"_parent\"><img src=\"https://colab.research.google.com/assets/colab-badge.svg\" alt=\"Open In Colab\"/></a>"
      ]
    },
    {
      "cell_type": "code",
      "source": [
        "import pandas as pd\n",
        "import cv2\n",
        "import numpy as np"
      ],
      "metadata": {
        "id": "ZzrNkhwY45v0"
      },
      "execution_count": null,
      "outputs": []
    },
    {
      "cell_type": "code",
      "source": [
        "!pip install azure-storage-blob==2.1.0"
      ],
      "metadata": {
        "colab": {
          "base_uri": "https://localhost:8080/"
        },
        "id": "8YnSEfox47yC",
        "outputId": "87720235-f39f-48ed-8a12-627cf6e5329a"
      },
      "execution_count": null,
      "outputs": [
        {
          "output_type": "stream",
          "name": "stdout",
          "text": [
            "Collecting azure-storage-blob==2.1.0\n",
            "  Downloading azure_storage_blob-2.1.0-py2.py3-none-any.whl (88 kB)\n",
            "\u001b[?25l\r\u001b[K     |███▊                            | 10 kB 20.6 MB/s eta 0:00:01\r\u001b[K     |███████▍                        | 20 kB 25.2 MB/s eta 0:00:01\r\u001b[K     |███████████▏                    | 30 kB 13.6 MB/s eta 0:00:01\r\u001b[K     |██████████████▉                 | 40 kB 15.2 MB/s eta 0:00:01\r\u001b[K     |██████████████████▋             | 51 kB 14.3 MB/s eta 0:00:01\r\u001b[K     |██████████████████████▎         | 61 kB 16.4 MB/s eta 0:00:01\r\u001b[K     |██████████████████████████      | 71 kB 14.5 MB/s eta 0:00:01\r\u001b[K     |█████████████████████████████▊  | 81 kB 15.5 MB/s eta 0:00:01\r\u001b[K     |████████████████████████████████| 88 kB 4.9 MB/s \n",
            "\u001b[?25hCollecting azure-common>=1.1.5\n",
            "  Downloading azure_common-1.1.28-py2.py3-none-any.whl (14 kB)\n",
            "Collecting azure-storage-common~=2.1\n",
            "  Downloading azure_storage_common-2.1.0-py2.py3-none-any.whl (47 kB)\n",
            "\u001b[K     |████████████████████████████████| 47 kB 4.8 MB/s \n",
            "\u001b[?25hRequirement already satisfied: python-dateutil in /usr/local/lib/python3.7/dist-packages (from azure-storage-common~=2.1->azure-storage-blob==2.1.0) (2.8.2)\n",
            "Collecting cryptography\n",
            "  Downloading cryptography-36.0.1-cp36-abi3-manylinux_2_24_x86_64.whl (3.6 MB)\n",
            "\u001b[K     |████████████████████████████████| 3.6 MB 30.8 MB/s \n",
            "\u001b[?25hRequirement already satisfied: requests in /usr/local/lib/python3.7/dist-packages (from azure-storage-common~=2.1->azure-storage-blob==2.1.0) (2.23.0)\n",
            "Requirement already satisfied: cffi>=1.12 in /usr/local/lib/python3.7/dist-packages (from cryptography->azure-storage-common~=2.1->azure-storage-blob==2.1.0) (1.15.0)\n",
            "Requirement already satisfied: pycparser in /usr/local/lib/python3.7/dist-packages (from cffi>=1.12->cryptography->azure-storage-common~=2.1->azure-storage-blob==2.1.0) (2.21)\n",
            "Requirement already satisfied: six>=1.5 in /usr/local/lib/python3.7/dist-packages (from python-dateutil->azure-storage-common~=2.1->azure-storage-blob==2.1.0) (1.15.0)\n",
            "Requirement already satisfied: chardet<4,>=3.0.2 in /usr/local/lib/python3.7/dist-packages (from requests->azure-storage-common~=2.1->azure-storage-blob==2.1.0) (3.0.4)\n",
            "Requirement already satisfied: urllib3!=1.25.0,!=1.25.1,<1.26,>=1.21.1 in /usr/local/lib/python3.7/dist-packages (from requests->azure-storage-common~=2.1->azure-storage-blob==2.1.0) (1.24.3)\n",
            "Requirement already satisfied: idna<3,>=2.5 in /usr/local/lib/python3.7/dist-packages (from requests->azure-storage-common~=2.1->azure-storage-blob==2.1.0) (2.10)\n",
            "Requirement already satisfied: certifi>=2017.4.17 in /usr/local/lib/python3.7/dist-packages (from requests->azure-storage-common~=2.1->azure-storage-blob==2.1.0) (2021.10.8)\n",
            "Installing collected packages: cryptography, azure-common, azure-storage-common, azure-storage-blob\n",
            "Successfully installed azure-common-1.1.28 azure-storage-blob-2.1.0 azure-storage-common-2.1.0 cryptography-36.0.1\n"
          ]
        }
      ]
    },
    {
      "cell_type": "code",
      "source": [
        "from azure.storage.blob import BlockBlobService\n",
        "import os\n",
        "blob_service_client = BlockBlobService(account_name='dent01', account_key='CuShY0B4TZJ84TjzPpaHxyrHOpO73aGXeCpdVq7x26OjIlQ1HOz+3DVc9pDEj9BdcEL8odFuTRF0mOAE+aCgiw==')"
      ],
      "metadata": {
        "id": "p0RIz2m442LO"
      },
      "execution_count": null,
      "outputs": []
    },
    {
      "cell_type": "code",
      "source": [
        "img = 'D31A6339-9324-4718-8F1D-F9C86FF1CAC1.png'"
      ],
      "metadata": {
        "id": "U_SB9sl45T0U"
      },
      "execution_count": null,
      "outputs": []
    },
    {
      "cell_type": "code",
      "execution_count": null,
      "metadata": {
        "id": "_1d5iMac4akp"
      },
      "outputs": [],
      "source": [
        "list_total1 = list()\n",
        "list_total2 = list()\n",
        "list_total3 = list()\n",
        "S5_double = img\n",
        "full_path_to_file2 = os.path.join(S5_double) \n",
        "blob_service_client.get_blob_to_path('shadeimg', full_path_to_file2, full_path_to_file2)\n",
        "imagee = cv2.imread(S5_double)\n",
        "S5RGB_imgA1A1_1 = cv2.cvtColor(imagee, cv2.COLOR_BGR2RGB)\n",
        "S5meanrefA1_1 =  S5RGB_imgA1A1_1[1769:1881,2019:2131] #ลองดูพิกัดใหม่\n",
        "S5meanA1_2 = S5RGB_imgA1A1_1[1770:1880,2015:2145]\n",
        "S5meanrefA1_1 = np.array(S5meanrefA1_1[0])\n",
        "S5meanA1_2 = np.array(S5meanA1_2[0])\n",
        "S5rgbrefA1_1 = list()\n",
        "S5rgbA1_2 = list()\n",
        "for i in range(3):\n",
        "  S5rgbrefA1_1.append(S5meanrefA1_1[:,i].mean())\n",
        "  S5rgbA1_2.append(S5meanA1_2[:,i].mean())\n",
        "list_total1.append(S5rgbrefA1_1)\n",
        "list_total2.append(S5rgbA1_2)\n",
        "list_total1[0].extend(list_total2[0])\n",
        "list_total3 = list_total1 "
      ]
    },
    {
      "cell_type": "code",
      "source": [
        "list_total3"
      ],
      "metadata": {
        "id": "d0lbPIMEIkbL",
        "outputId": "d7db243f-4f66-478c-bb09-639cfaa5bcc1",
        "colab": {
          "base_uri": "https://localhost:8080/"
        }
      },
      "execution_count": null,
      "outputs": [
        {
          "output_type": "execute_result",
          "data": {
            "text/plain": [
              "[[227.6875,\n",
              "  208.63392857142858,\n",
              "  171.67857142857142,\n",
              "  227.53846153846155,\n",
              "  208.3846153846154,\n",
              "  171.48461538461538]]"
            ]
          },
          "metadata": {},
          "execution_count": 7
        }
      ]
    },
    {
      "cell_type": "code",
      "source": [
        "S5rgbrefA1_1"
      ],
      "metadata": {
        "colab": {
          "base_uri": "https://localhost:8080/"
        },
        "id": "r4xql7_vxRj9",
        "outputId": "c806d181-73d5-4b5e-81e2-a59ba45e08ef"
      },
      "execution_count": null,
      "outputs": [
        {
          "output_type": "execute_result",
          "data": {
            "text/plain": [
              "[227.6875,\n",
              " 208.63392857142858,\n",
              " 171.67857142857142,\n",
              " 227.53846153846155,\n",
              " 208.3846153846154,\n",
              " 171.48461538461538]"
            ]
          },
          "metadata": {},
          "execution_count": 8
        }
      ]
    },
    {
      "cell_type": "code",
      "source": [
        "list_total3"
      ],
      "metadata": {
        "id": "3q2xefCE1eBu",
        "outputId": "d4bedefe-08a0-4d8e-cd1f-f692056b6f3c",
        "colab": {
          "base_uri": "https://localhost:8080/"
        }
      },
      "execution_count": null,
      "outputs": [
        {
          "output_type": "execute_result",
          "data": {
            "text/plain": [
              "[[227.6875,\n",
              "  208.63392857142858,\n",
              "  171.67857142857142,\n",
              "  227.53846153846155,\n",
              "  208.3846153846154,\n",
              "  171.48461538461538]]"
            ]
          },
          "metadata": {},
          "execution_count": 9
        }
      ]
    },
    {
      "cell_type": "code",
      "source": [
        "S5meanrefA1_1.shape"
      ],
      "metadata": {
        "id": "H6YrGEuLepC_"
      },
      "execution_count": null,
      "outputs": []
    },
    {
      "cell_type": "code",
      "source": [
        "G1[0]"
      ],
      "metadata": {
        "id": "gNbVE42L2XCo"
      },
      "execution_count": null,
      "outputs": []
    },
    {
      "cell_type": "code",
      "source": [
        "# list_total = list()\n",
        "# S5_double = img\n",
        "# full_path_to_file2 = os.path.join(S5_double) \n",
        "# blob_service_client.get_blob_to_path('shadeimg', full_path_to_file2, full_path_to_file2)\n",
        "# imagee = cv2.imread(S5_double)\n",
        "# S5RGB_imgA1A1_1 = cv2.cvtColor(imagee, cv2.COLOR_BGR2RGB)\n",
        "# S5meanrefA1_1 = list()\n",
        "# for i in range(S5RGB_imgA1A1_1.shape[0]): \n",
        "#     for j in range(S5RGB_imgA1A1_1.shape[1]): \n",
        "#           if 1769<i<1881 and 2019<j<2131 :\n",
        "#              new_img = S5RGB_imgA1A1_1[i][j]\n",
        "#           if 1770<i<1880 and 2015<j<2145 :\n",
        "#              new_img = S5RGB_imgA1A1_1[i][j]\n",
        "# S5meanrefA1_1 = np.array(S5meanrefA1_1)\n",
        "# S5meanA1_2 = np.array(S5meanrefA1_1)\n",
        "# S5rgbrefA1_1 = list()\n",
        "# for i in range(3):\n",
        "#   S5rgbrefA1_1.append(S5meanrefA1_1[:,i].mean())\n",
        "#   S5rgbrefA1_1.append(S5meanA1_2[:,i].mean())\n",
        "# list_total.append(S5rgbrefA1_1)"
      ],
      "metadata": {
        "id": "qCeII4KG3QnZ"
      },
      "execution_count": null,
      "outputs": []
    },
    {
      "cell_type": "code",
      "source": [
        "new_img"
      ],
      "metadata": {
        "id": "2ZSD-Bdh3lXw"
      },
      "execution_count": null,
      "outputs": []
    },
    {
      "cell_type": "code",
      "source": [
        "S5RGB_imgA1A1_1.shape"
      ],
      "metadata": {
        "id": "e6DHph6x0hWu"
      },
      "execution_count": null,
      "outputs": []
    },
    {
      "cell_type": "code",
      "source": [
        "# list_total = list()\n",
        "# S5_double = img\n",
        "# full_path_to_file2 = os.path.join(S5_double) \n",
        "# blob_service_client.get_blob_to_path('shadeimg', full_path_to_file2, full_path_to_file2)\n",
        "# imagee = cv2.imread(S5_double)\n",
        "# S5RGB_imgA1A1_1 = cv2.cvtColor(imagee, cv2.COLOR_BGR2RGB)\n",
        "# S5meanrefA1_1 = list()\n",
        "# for i in range(S5RGB_imgA1A1_1.shape[0]): \n",
        "#   for j in range(S5RGB_imgA1A1_1.shape[1]): \n",
        "#       if 1769<i<1881 and 2019<j<2131 :\n",
        "#           S5meanrefA1_1.append(S5RGB_imgA1A1_1[i][j]) \n",
        "#       if 1770<i<1880 and 2015<j<2145 :\n",
        "#           S5meanrefA1_1.append(S5RGB_imgA1A1_1[i][j])\n",
        "# S5meanrefA1_1 = np.array(S5meanrefA1_1)\n",
        "# S5meanA1_2 = np.array(S5meanrefA1_1)\n",
        "# S5rgbrefA1_1 = list()\n",
        "# for i in range(3):\n",
        "#   S5rgbrefA1_1.append(S5meanrefA1_1[:,i].mean())\n",
        "#   S5rgbrefA1_1.append(S5meanA1_2[:,i].mean())\n",
        "# list_total.append(S5rgbrefA1_1)"
      ],
      "metadata": {
        "id": "_QDx_6nVtmX5"
      },
      "execution_count": null,
      "outputs": []
    },
    {
      "cell_type": "code",
      "source": [
        "S5meanrefA1_1"
      ],
      "metadata": {
        "id": "cyAy37Uxv0kH"
      },
      "execution_count": null,
      "outputs": []
    },
    {
      "cell_type": "code",
      "source": [
        "S5meanrefA1_1.shape"
      ],
      "metadata": {
        "id": "ypOzRvY_ur7P"
      },
      "execution_count": null,
      "outputs": []
    },
    {
      "cell_type": "code",
      "source": [
        "list_total12 = list()\n",
        "list_total22 = list()\n",
        "S5_double2 = img\n",
        "image2  = cv2.imread(S5_double2) #RGB\n",
        "S1RGB_imgA1A1_12= cv2.cvtColor(image2, cv2.COLOR_BGR2RGB)\n",
        "S1meanrefA1_12 = list()\n",
        "for i in range(S1RGB_imgA1A1_12.shape[0]): \n",
        "  for j in range(S1RGB_imgA1A1_12.shape[1]): \n",
        "        if 1769<i<1881 and 2019<j<2131 :\n",
        "          S1meanrefA1_12.append(S1RGB_imgA1A1_12[i][j]) \n",
        "S1meanrefA1_12 = np.array(S1meanrefA1_12)\n",
        "S1rgbrefA1_12 = list()\n",
        "for i in range(3):\n",
        "   S1rgbrefA1_12.append(S1meanrefA1_12[:,i].mean())\n",
        "list_total12.append(S1rgbrefA1_12)\n",
        "\n",
        "S1meanA1_22 = list()\n",
        "for i in range(S1RGB_imgA1A1_12.shape[0]): \n",
        "  for j in range(S1RGB_imgA1A1_12.shape[1]): \n",
        "      if 1770<i<1880 and 2015<j<2145 :\n",
        "        S1meanA1_22.append(S1RGB_imgA1A1_12[i][j])  \n",
        "S1meanA1_22 = np.array(S1meanA1_22)\n",
        "# S1rgbA1_2 = list()\n",
        "# for i in range(3):\n",
        "#   S1rgbA1_2.append(S1meanA1_2[:,i].mean())\n",
        "# list_total2.append(S1rgbA1_2)\n",
        "# list_total1[0].extend(list_total2[0])\n",
        "# list_total3 = list_total1"
      ],
      "metadata": {
        "id": "DnF5o0dEHVWp"
      },
      "execution_count": null,
      "outputs": []
    },
    {
      "cell_type": "code",
      "source": [
        "list_total3 "
      ],
      "metadata": {
        "id": "n_N9l9-mIXJ3"
      },
      "execution_count": null,
      "outputs": []
    },
    {
      "cell_type": "code",
      "source": [
        "S1meanrefA1_12"
      ],
      "metadata": {
        "id": "ZQTL6_leH1sF"
      },
      "execution_count": null,
      "outputs": []
    },
    {
      "cell_type": "code",
      "source": [
        "S1meanrefA1_12.shape"
      ],
      "metadata": {
        "id": "C-tMDWWMmhIL"
      },
      "execution_count": null,
      "outputs": []
    },
    {
      "cell_type": "code",
      "source": [
        "# list_total1 = list()\n",
        "# for img in A1_set11['Img']:\n",
        "#   S1_double = img\n",
        "#   full_path_to_file2 = os.path.join(S1_double) \n",
        "#   blob_service_client.get_blob_to_path('shadeimg', full_path_to_file2, full_path_to_file2)\n",
        "#   imgS1_A1A1_1  = cv2.imread(S1_double) #RGB\n",
        "#   S1RGB_imgA1A1_1= cv2.cvtColor(imgS1_A1A1_1, cv2.COLOR_BGR2RGB)\n",
        "#   S1meanrefA1_1 = list()\n",
        "#   S1meanrefA1_2 = list()\n",
        "#   for i in range(S1RGB_imgA1A1_1.shape[0]): \n",
        "#      for j in range(S1RGB_imgA1A1_1.shape[1]): \n",
        "#                 if 1769<i<1881 and 2019<j<2131 :\n",
        "#                   S1meanrefA1_1.append(S1RGB_imgA1A1_1[i][j]) \n",
        "#                 if 1770<i<1880 and 2015<j<2145 :\n",
        "#                   S1meanrefA1_2.append(S1RGB_imgA1A1_1[i][j])\n",
        "#   S1meanrefA1_1 = np.array(S1meanrefA1_1)\n",
        "#   S1meanrefA1_2 = np.array(S1meanrefA1_2)\n",
        "#   S1rgbrefA1_1 = list()\n",
        "#   S1rgbrefA1_2 = list()\n",
        "#   for i in range(3):\n",
        "#     S1rgbrefA1_1.append(S1meanrefA1_1[:,i].mean())\n",
        "#     S1rgbrefA1_2.append(S1meanrefA1_2[:,i].mean())\n",
        "#   list_total1.append((S1rgbrefA1_1,S1rgbrefA1_2))"
      ],
      "metadata": {
        "id": "7Mc4QuaXJFF4"
      },
      "execution_count": null,
      "outputs": []
    },
    {
      "cell_type": "code",
      "source": [
        "S5_double = img\n",
        "full_path_to_file2 = os.path.join(S5_double) \n",
        "blob_service_client.get_blob_to_path('shadeimg', full_path_to_file2, full_path_to_file2)\n",
        "imagee = cv2.imread(S5_double)\n",
        "S5RGB_imgA1A1_1 = cv2.cvtColor(imagee, cv2.COLOR_BGR2RGB)\n",
        "\n",
        "S5meanrefA1_1 =  S5RGB_imgA1A1_1[1770:1881,2020:2131]  \n",
        "S5meanA1_2 = S5RGB_imgA1A1_1[1771:1880,2016:2145]\n",
        "S5refA1_1 = np.reshape(S5meanrefA1_1,(111*111, 3))\n",
        "S5refA1_2 = np.reshape(S5meanA1_2,(109*129, 3))\n",
        "S5refA1_3 = np.array(S5refA1_1)\n",
        "S5refA1_4 = np.array(S5refA1_2)\n",
        "Rref = S5refA1_1[:,0].mean()\n",
        "Gref = S5refA1_1[:,1].mean()\n",
        "Bref = S5refA1_1[:,2].mean()\n",
        "R = S5refA1_2[:,0].mean()\n",
        "G = S5refA1_2[:,1].mean()\n",
        "B = S5refA1_2[:,2].mean()\n",
        "\n",
        "list_total = list()\n",
        "list_total.append(Rref)\n",
        "list_total.append(Gref)\n",
        "list_total.append(Bref)\n",
        "list_total.append(R)\n",
        "list_total.append(G)\n",
        "list_total.append(B)\n"
      ],
      "metadata": {
        "id": "ifpqsa9QnQZG"
      },
      "execution_count": null,
      "outputs": []
    },
    {
      "cell_type": "code",
      "source": [
        "print(\"Rref:\", Rref)\n",
        "print(\"Gref:\", Gref)\n",
        "print(\"Bref:\", Bref)\n",
        "print(\"R:\", R)\n",
        "print(\"G:\", G)\n",
        "print(\"B:\", B)"
      ],
      "metadata": {
        "id": "oDd6BBniGhJl"
      },
      "execution_count": null,
      "outputs": []
    },
    {
      "cell_type": "code",
      "source": [
        "list_total"
      ],
      "metadata": {
        "id": "iZvtHKb1ne_q"
      },
      "execution_count": null,
      "outputs": []
    },
    {
      "cell_type": "code",
      "source": [
        "list_total2 = list()\n",
        "list_total2.append(list_total)"
      ],
      "metadata": {
        "id": "cPjDKCmipAd5"
      },
      "execution_count": null,
      "outputs": []
    },
    {
      "cell_type": "code",
      "source": [
        "list_total2"
      ],
      "metadata": {
        "id": "lnJlMQL2pJbE"
      },
      "execution_count": null,
      "outputs": []
    },
    {
      "cell_type": "markdown",
      "source": [
        "#ตาราง"
      ],
      "metadata": {
        "id": "JSGb8bgm0iOP"
      }
    },
    {
      "cell_type": "code",
      "source": [
        "from google.colab import drive \n",
        "drive.mount('/content/drive')"
      ],
      "metadata": {
        "id": "XIbdjlFY0kBj"
      },
      "execution_count": null,
      "outputs": []
    },
    {
      "cell_type": "code",
      "source": [
        "path = '/content/drive/My Drive/shadeimg/SVM shade'"
      ],
      "metadata": {
        "id": "S4SzkHEB0lGz"
      },
      "execution_count": null,
      "outputs": []
    },
    {
      "cell_type": "code",
      "source": [
        "import os"
      ],
      "metadata": {
        "id": "6q6RJb8L0l9Y"
      },
      "execution_count": null,
      "outputs": []
    },
    {
      "cell_type": "code",
      "source": [
        "os.listdir(path)"
      ],
      "metadata": {
        "id": "wOwinKld0m4l"
      },
      "execution_count": null,
      "outputs": []
    },
    {
      "cell_type": "code",
      "source": [
        "AA = os.path.join(path,'Color-checkerDD.xlsx')"
      ],
      "metadata": {
        "id": "mQ_BLbZ90ete"
      },
      "execution_count": null,
      "outputs": []
    },
    {
      "cell_type": "code",
      "source": [
        "A1_set1= pd.read_excel(AA, sheet_name='D3_1')\n",
        "A1_set1"
      ],
      "metadata": {
        "id": "3dWnvrjH0dak"
      },
      "execution_count": null,
      "outputs": []
    },
    {
      "cell_type": "code",
      "source": [
        "A1_set1.rename(columns={\"รหัสเฉดไกด์\": \"Ref\"},inplace=True)"
      ],
      "metadata": {
        "id": "RsqL8-Cz0cc6"
      },
      "execution_count": null,
      "outputs": []
    },
    {
      "cell_type": "code",
      "source": [
        "A1_set1.rename(columns={\"Unnamed: 2\":\"Shad\"},inplace=True)"
      ],
      "metadata": {
        "id": "T9EfmQH70bVA"
      },
      "execution_count": null,
      "outputs": []
    },
    {
      "cell_type": "code",
      "source": [
        "A1_set1.rename(columns={\"ชื่อไฟล์ข้อมูล\":\"Img\"},inplace=True)"
      ],
      "metadata": {
        "id": "Egu26jqg0aOk"
      },
      "execution_count": null,
      "outputs": []
    },
    {
      "cell_type": "code",
      "source": [
        "A1_set1 = A1_set1.iloc[3:162,:]"
      ],
      "metadata": {
        "id": "7-Z3tSV80Y29"
      },
      "execution_count": null,
      "outputs": []
    },
    {
      "cell_type": "code",
      "source": [
        "table1= A1_set1[['Ref', 'Shad','Img']]\n",
        "table1"
      ],
      "metadata": {
        "id": "k5PPUbUz0XLF"
      },
      "execution_count": null,
      "outputs": []
    },
    {
      "cell_type": "code",
      "source": [
        "A1_set11 = A1_set1\n",
        "A1_set11"
      ],
      "metadata": {
        "id": "HUI34iHW4D7u"
      },
      "execution_count": null,
      "outputs": []
    },
    {
      "cell_type": "code",
      "source": [
        "import pandas as pd"
      ],
      "metadata": {
        "id": "MqSCMZ-k5h60"
      },
      "execution_count": null,
      "outputs": []
    },
    {
      "cell_type": "code",
      "source": [
        "for img in A1_set11['Img']:\n",
        "    S5_double = img\n",
        "    full_path_to_file2 = os.path.join(S5_double) \n",
        "    blob_service_client.get_blob_to_path('shadeimg', full_path_to_file2, full_path_to_file2)\n",
        "    imagee = cv2.imread(S5_double)\n",
        "    S5RGB_imgA1A1_1 = cv2.cvtColor(imagee, cv2.COLOR_BGR2RGB)\n",
        "\n",
        "    S5meanrefA1_1 =  S5RGB_imgA1A1_1[1769:1881,2019:2131]\n",
        "    S5meanA1_2 = S5RGB_imgA1A1_1[1770:1880,2015:2145]\n",
        "    S5refA1_1 = np.array(S5meanrefA1_1[0])\n",
        "    S5refA1_2 = np.array(S5meanA1_2[0])\n",
        "    Rref = S5refA1_1[:,0].mean()\n",
        "    Gref = S5refA1_1[:,1].mean()\n",
        "    Bref = S5refA1_1[:,2].mean()\n",
        "    R = S5refA1_2[:,0].mean()\n",
        "    G = S5refA1_2[:,1].mean()\n",
        "    B = S5refA1_2[:,2].mean()\n",
        "    \n",
        "    list_total = list()\n",
        "    list_total.append(Rref)\n",
        "    list_total.append(Gref)\n",
        "    list_total.append(Bref)\n",
        "    list_total.append(R)\n",
        "    list_total.append(G)\n",
        "    list_total.append(B)\n",
        "    list_total2 = list()\n",
        "    list_total2.append(list_total) "
      ],
      "metadata": {
        "id": "juexcowT0EA1"
      },
      "execution_count": null,
      "outputs": []
    },
    {
      "cell_type": "code",
      "source": [
        "list_total2"
      ],
      "metadata": {
        "id": "L_ybJuoR3JJV"
      },
      "execution_count": null,
      "outputs": []
    },
    {
      "cell_type": "code",
      "source": [
        "cols=['R-ref', 'G-ref' , 'B-ref', 'R-Shad', 'G-Shad', 'B-Shad']\n",
        "S1=pd.DataFrame(list_total2,columns=cols)\n",
        "S1['Setting']='Set1'\n",
        "S1"
      ],
      "metadata": {
        "id": "3tmhnSI90Pyt"
      },
      "execution_count": null,
      "outputs": []
    },
    {
      "cell_type": "code",
      "source": [
        "pd.concat([S1,table1], axis=1)"
      ],
      "metadata": {
        "id": "Zme8KwjP0vXc"
      },
      "execution_count": null,
      "outputs": []
    },
    {
      "cell_type": "markdown",
      "source": [
        "#test model 160 รูป"
      ],
      "metadata": {
        "id": "gSn4NqDwmNen"
      }
    },
    {
      "cell_type": "code",
      "source": [
        "#load model\n",
        "import pickle\n",
        "with open('Model_D3_V5.pkl', 'rb') as pickle_file :\n",
        "      new_data = pickle.load(pickle_file )"
      ],
      "metadata": {
        "id": "r8aw-K1Wmd8U"
      },
      "execution_count": null,
      "outputs": []
    },
    {
      "cell_type": "code",
      "source": [
        "from google.colab import drive \n",
        "drive.mount('/content/drive')"
      ],
      "metadata": {
        "id": "8orpzoxEmoav"
      },
      "execution_count": null,
      "outputs": []
    },
    {
      "cell_type": "code",
      "source": [
        "import os"
      ],
      "metadata": {
        "id": "rYPnOvcBmowO"
      },
      "execution_count": null,
      "outputs": []
    },
    {
      "cell_type": "code",
      "source": [
        "from sklearn import metrics"
      ],
      "metadata": {
        "id": "_wQngkGgsr1-"
      },
      "execution_count": null,
      "outputs": []
    },
    {
      "cell_type": "code",
      "source": [
        "from sklearn import datasets"
      ],
      "metadata": {
        "id": "ElGSi_WUs5OQ"
      },
      "execution_count": null,
      "outputs": []
    },
    {
      "cell_type": "code",
      "source": [
        "from sklearn.ensemble import RandomForestClassifier"
      ],
      "metadata": {
        "id": "jI-GOLqIs3J5"
      },
      "execution_count": null,
      "outputs": []
    },
    {
      "cell_type": "code",
      "source": [
        "path = '/content/drive/My Drive/shadeimg/SVM shade'"
      ],
      "metadata": {
        "id": "VI5stL9OnCp9"
      },
      "execution_count": null,
      "outputs": []
    },
    {
      "cell_type": "code",
      "source": [
        "CC1 = os.path.join(path,'D3Set5-61.xlsx')\n",
        "print(CC1)"
      ],
      "metadata": {
        "id": "HOUFXpjUnEJB"
      },
      "execution_count": null,
      "outputs": []
    },
    {
      "cell_type": "code",
      "source": [
        "table_D3CC1 = pd.read_excel(CC1 , sheet_name='D3Set51')\n",
        "table_D3CC1.head()"
      ],
      "metadata": {
        "id": "QeIr_Cm0n57P"
      },
      "execution_count": null,
      "outputs": []
    },
    {
      "cell_type": "code",
      "source": [
        "Set1 = os.path.join(path,'Setting1.xlsx')\n",
        "print(Set1)"
      ],
      "metadata": {
        "id": "bGYOEdXjpoeS"
      },
      "execution_count": null,
      "outputs": []
    },
    {
      "cell_type": "code",
      "source": [
        "Set2 = os.path.join(path,'Setting2.xlsx')\n",
        "print(Set2)"
      ],
      "metadata": {
        "id": "WHsjh1UIpnX4"
      },
      "execution_count": null,
      "outputs": []
    },
    {
      "cell_type": "code",
      "source": [
        "Set3 = os.path.join(path,'Setting3.xlsx')\n",
        "print(Set3)"
      ],
      "metadata": {
        "id": "cbYkurMapnJV"
      },
      "execution_count": null,
      "outputs": []
    },
    {
      "cell_type": "code",
      "source": [
        "Set4 = os.path.join(path,'Setting4.xlsx')\n",
        "print(Set4)"
      ],
      "metadata": {
        "id": "8avyq6edpnCN"
      },
      "execution_count": null,
      "outputs": []
    },
    {
      "cell_type": "code",
      "source": [
        "table_D3Set1 = pd.read_excel(Set1 , sheet_name='D3Set1')\n",
        "table_D3Set1.head()"
      ],
      "metadata": {
        "id": "5hNE-dIIp3jJ"
      },
      "execution_count": null,
      "outputs": []
    },
    {
      "cell_type": "code",
      "source": [
        "table_D3Set2 = pd.read_excel(Set2, sheet_name='D3Set2')\n",
        "table_D3Set2.head()"
      ],
      "metadata": {
        "id": "LkREmgXTp9Ol"
      },
      "execution_count": null,
      "outputs": []
    },
    {
      "cell_type": "code",
      "source": [
        "table_D3Set3 = pd.read_excel(Set3, sheet_name='D3Set3 ')\n",
        "table_D3Set3.head()"
      ],
      "metadata": {
        "id": "k0L0sqy2qAOV"
      },
      "execution_count": null,
      "outputs": []
    },
    {
      "cell_type": "code",
      "source": [
        "table_D3Set4 = pd.read_excel(Set4, sheet_name='D3Set4')\n",
        "table_D3Set4.head()"
      ],
      "metadata": {
        "id": "Ljd1_OQBqw1i"
      },
      "execution_count": null,
      "outputs": []
    },
    {
      "cell_type": "code",
      "source": [
        "RGB_D3_Set1_tt = table_D3CC1.drop(['H-ref','S-ref','V-ref','H-Shad','S-Shad','V-Shad','Setting','Ref','Shad','Img'], axis=1)"
      ],
      "metadata": {
        "id": "hBjZEUGPnObF"
      },
      "execution_count": null,
      "outputs": []
    },
    {
      "cell_type": "code",
      "source": [
        "clf=RandomForestClassifier()"
      ],
      "metadata": {
        "id": "ym_y9MS0s-hm"
      },
      "execution_count": null,
      "outputs": []
    },
    {
      "cell_type": "code",
      "source": [
        "RGB_D3_Set4_w1 = table_D3Set4\n",
        "\n",
        "RGB_D3_Set1_w1 = table_D3Set1\n",
        "\n",
        "RGB_D3_Set2_w1 = table_D3Set2\n",
        "\n",
        "RGB_D3_Set3_w1 = table_D3Set3\n",
        "\n",
        "RGB_D3_concat0_w1 = pd.concat([RGB_D3_Set1_w1,RGB_D3_Set2_w1,RGB_D3_Set3_w1])\n",
        "\n",
        "RGB_D3_concat1_w1 = pd.concat([RGB_D3_concat0_w1,RGB_D3_Set4_w1])\n",
        "#รวมตารางของแต่ละ setting เข้าด้วยกันเพื่อใช้ในการ train ข้อมูล\n",
        "\n",
        "RGB_D3_concat2_w1 = RGB_D3_concat1_w1.drop(['H-ref','S-ref','V-ref','H-Shad','S-Shad','V-Shad','Setting','Ref','Shad','Img'], axis=1)\n",
        "#เอาเฉพาะตัวตารางที่เป็น RGB ออกมา\n",
        "\n",
        "X_test_D3_RGB_w1 = np.array(RGB_D3_Set1_tt)\n",
        "\n",
        "y_D3_RGB_w1 =  table_D3CC1.iloc[:,14:15]\n",
        "#ใช้เฉพาะ column shad ในการจับคู่\n",
        "\n",
        "y_test_D3_RGB_w1 = np.array(y_D3_RGB_w1)#เปลี่ยนให้ค่าในตารางเป็น array \n",
        "\n",
        "X_train_D3_RGB_w1 = np.array(RGB_D3_concat2_w1)#เปลี่ยนให้ค่าในตารางเป็น array \n",
        "\n",
        "y_train_D3RGB_w1 = RGB_D3_concat1_w1.iloc[:,14:15]#ใช้เฉพาะ column shad ในการจับคู่\n",
        "\n",
        "y_train_D3_RGB_w1 = np.array(y_train_D3RGB_w1)#เปลี่ยนให้ค่าในตารางเป็น array \n",
        "\n",
        "y_train_D3_RGB_w1.shape = (len(y_train_D3_RGB_w1),)"
      ],
      "metadata": {
        "id": "v5vQxTtzn0Eu"
      },
      "execution_count": null,
      "outputs": []
    },
    {
      "cell_type": "code",
      "source": [
        "y_train_D3_RGB_w1"
      ],
      "metadata": {
        "id": "hdGaCjyyr6vq"
      },
      "execution_count": null,
      "outputs": []
    },
    {
      "cell_type": "code",
      "source": [
        "clf.fit(X_train_D3_RGB_w1, y_train_D3_RGB_w1) #หาค่าเฉลี่ยและส่วนเบี่ยงเบนมาตราฐานของ x_train y_train"
      ],
      "metadata": {
        "id": "9aAO35uqn-C2"
      },
      "execution_count": null,
      "outputs": []
    },
    {
      "cell_type": "code",
      "source": [
        "y_pred_D3_RGB_w1 = clf.predict(X_test_D3_RGB_w1) #ทำการจับคู่สีฟันด้วยวิธี random forest โดยใช้ X_test"
      ],
      "metadata": {
        "id": "7KGJRFHsoBum"
      },
      "execution_count": null,
      "outputs": []
    },
    {
      "cell_type": "code",
      "source": [
        "metrics.accuracy_score(y_test_D3_RGB_w1, y_pred_D3_RGB_w1)"
      ],
      "metadata": {
        "id": "ZWFGINkyoE_d"
      },
      "execution_count": null,
      "outputs": []
    },
    {
      "cell_type": "code",
      "source": [
        "import pickle\n",
        "with open('Model_D3_V6.pkl', 'wb') as pickle_file :\n",
        "       pickle.dump(clf, pickle_file )"
      ],
      "metadata": {
        "id": "UdBlAJkstgGd"
      },
      "execution_count": null,
      "outputs": []
    },
    {
      "cell_type": "code",
      "source": [
        "#load model\n",
        "import pickle\n",
        "with open('Model_D3_V6.pkl', 'rb') as pickle_file :\n",
        "      new_data = pickle.load(pickle_file )"
      ],
      "metadata": {
        "id": "8pgdk0RVtnwG"
      },
      "execution_count": null,
      "outputs": []
    },
    {
      "cell_type": "code",
      "source": [
        "print(new_data)"
      ],
      "metadata": {
        "id": "7wKz-Bxatswa"
      },
      "execution_count": null,
      "outputs": []
    },
    {
      "cell_type": "code",
      "source": [
        "img = 'B42D66D8-5C0A-40B1-AA84-00261E79E347.png' #A3"
      ],
      "metadata": {
        "id": "iR_nOpKWuY44"
      },
      "execution_count": null,
      "outputs": []
    },
    {
      "cell_type": "code",
      "source": [
        "img = '3C9EFF45-7D0C-49E3-88C4-C2C75ED8262C.png' #B4"
      ],
      "metadata": {
        "id": "nBWPFAFLvLW7"
      },
      "execution_count": null,
      "outputs": []
    },
    {
      "cell_type": "code",
      "source": [
        "img = 'D3803668-F57C-4D0C-989F-A8B28512A28D.png' #A1"
      ],
      "metadata": {
        "id": "YYKcUNcivMp7"
      },
      "execution_count": null,
      "outputs": []
    },
    {
      "cell_type": "code",
      "source": [
        "img = 'F083945A-EC0A-4B4B-ABEA-8D2D838F071C.png' #C1"
      ],
      "metadata": {
        "id": "eJ1Q6bKsvNBx"
      },
      "execution_count": null,
      "outputs": []
    },
    {
      "cell_type": "code",
      "source": [
        "img = '84BB9A93-0F2B-4BCE-AF1A-B27245EFC6C8.png' #D3"
      ],
      "metadata": {
        "id": "FOred7Q9vNUv"
      },
      "execution_count": null,
      "outputs": []
    },
    {
      "cell_type": "code",
      "source": [
        "img = '23117DA5-24D7-456F-BF3E-85F246E21BB8.png' #C2"
      ],
      "metadata": {
        "id": "Jrkt2lUmvNzc"
      },
      "execution_count": null,
      "outputs": []
    },
    {
      "cell_type": "code",
      "source": [
        "S5_double = img\n",
        "full_path_to_file2 = os.path.join(S5_double) \n",
        "blob_service_client.get_blob_to_path('shadeimg', full_path_to_file2, full_path_to_file2)\n",
        "imagee = cv2.imread(S5_double)\n",
        "S5RGB_imgA1A1_1 = cv2.cvtColor(imagee, cv2.COLOR_BGR2RGB)\n",
        "\n",
        "S5meanrefA1_1 =  S5RGB_imgA1A1_1[1770:1881,2020:2131]  \n",
        "S5meanA1_2 = S5RGB_imgA1A1_1[1771:1880,2016:2145]\n",
        "S5refA1_1 = np.reshape(S5meanrefA1_1,(111*111, 3))\n",
        "S5refA1_2 = np.reshape(S5meanA1_2,(109*129, 3))\n",
        "S5refA1_3 = np.array(S5refA1_1)\n",
        "S5refA1_4 = np.array(S5refA1_2)\n",
        "Rref = S5refA1_1[:,0].mean()\n",
        "Gref = S5refA1_1[:,1].mean()\n",
        "Bref = S5refA1_1[:,2].mean()\n",
        "R = S5refA1_2[:,0].mean()\n",
        "G = S5refA1_2[:,1].mean()\n",
        "B = S5refA1_2[:,2].mean()\n",
        "\n",
        "list_total = list()\n",
        "list_total.append(Rref)\n",
        "list_total.append(Gref)\n",
        "list_total.append(Bref)\n",
        "list_total.append(R)\n",
        "list_total.append(G)\n",
        "list_total.append(B)\n"
      ],
      "metadata": {
        "id": "pXHZzUhFuSLY"
      },
      "execution_count": null,
      "outputs": []
    },
    {
      "cell_type": "code",
      "source": [
        "list_total2 = list()\n",
        "list_total2.append(list_total)"
      ],
      "metadata": {
        "id": "HtbxkLJpu-YC"
      },
      "execution_count": null,
      "outputs": []
    },
    {
      "cell_type": "code",
      "source": [
        "predic_model= new_data.predict(list_total2)"
      ],
      "metadata": {
        "id": "72qZAze6u0G5"
      },
      "execution_count": null,
      "outputs": []
    },
    {
      "cell_type": "code",
      "source": [
        "predic_model"
      ],
      "metadata": {
        "id": "mYEW3xRXvABm"
      },
      "execution_count": null,
      "outputs": []
    },
    {
      "cell_type": "markdown",
      "source": [
        "#หาจุด หาค่า mean"
      ],
      "metadata": {
        "id": "ISAZW3vuY-5S"
      }
    },
    {
      "cell_type": "code",
      "source": [
        "import matplotlib.pyplot as plt\n"
      ],
      "metadata": {
        "id": "Na5zyFc412dh"
      },
      "execution_count": null,
      "outputs": []
    },
    {
      "cell_type": "code",
      "source": [
        "img1 = '02F6E3F2-99BD-4CCA-9458-A0EBF9CE7F4D.png'\n",
        "img2 = '3C9EFF45-7D0C-49E3-88C4-C2C75ED8262C.png'\n",
        "img3 = '44F32CB2-4AC3-4AA4-B00C-0873A77C39FB.png'\n",
        "img4 = '84BB9A93-0F2B-4BCE-AF1A-B27245EFC6C8.png'"
      ],
      "metadata": {
        "id": "fBM9dEcNZQlZ"
      },
      "execution_count": null,
      "outputs": []
    },
    {
      "cell_type": "code",
      "source": [
        "img= 'FAF5097E-1FEB-41DF-92C9-C190A88FE15F.png'\n",
        "img1 = 'CD25F822-5A97-4F4A-8667-90D9F5C9CC62.png'\n",
        "img2 ='B772B836-0F38-44D5-959C-675C592375FE.png'"
      ],
      "metadata": {
        "id": "IxUUZXk4-LdM"
      },
      "execution_count": null,
      "outputs": []
    },
    {
      "cell_type": "code",
      "source": [
        "list_total_S1 = list()\n",
        "list_total_S11 = list()\n",
        "SS1 = img\n",
        "full_path_to_file2 = os.path.join(SS1) \n",
        "blob_service_client.get_blob_to_path('shadeimg', full_path_to_file2, full_path_to_file2)\n",
        "imagee = cv2.imread(SS1)\n",
        "SS1_RGB_img = cv2.cvtColor(imagee, cv2.COLOR_BGR2RGB)\n",
        "SS1_RGBimg1 =  np.array(SS1_RGB_img[1800:1803,1753:1756])\n",
        "S5refA1_1 = np.reshape(SS1_RGBimg1,(3*3, 3))  \n",
        "S5refA1_3 = np.array(S5refA1_1)\n",
        "Rref = S5refA1_1[:,0].mean()\n",
        "Gref = S5refA1_1[:,1].mean()\n",
        "Bref = S5refA1_1[:,2].mean()\n",
        "\n",
        "list_total = list()\n",
        "list_total.append(Rref)C\n",
        "list_total.append(Gref)\n",
        "list_total.append(Bref)"
      ],
      "metadata": {
        "id": "Fhr_uqEQmr2E"
      },
      "execution_count": null,
      "outputs": []
    },
    {
      "cell_type": "code",
      "source": [
        "SS1_RGBimg1"
      ],
      "metadata": {
        "colab": {
          "base_uri": "https://localhost:8080/"
        },
        "id": "ddeW2wn-FJfV",
        "outputId": "0a64c690-d31f-4e3e-afb5-59d89f91c934"
      },
      "execution_count": null,
      "outputs": [
        {
          "output_type": "execute_result",
          "data": {
            "text/plain": [
              "array([[[227, 209, 173],\n",
              "        [228, 210, 174],\n",
              "        [226, 208, 172]],\n",
              "\n",
              "       [[227, 209, 173],\n",
              "        [227, 209, 173],\n",
              "        [226, 208, 172]],\n",
              "\n",
              "       [[226, 208, 172],\n",
              "        [226, 208, 172],\n",
              "        [226, 208, 172]]], dtype=uint8)"
            ]
          },
          "metadata": {},
          "execution_count": 31
        }
      ]
    },
    {
      "cell_type": "code",
      "source": [
        "list_total"
      ],
      "metadata": {
        "colab": {
          "base_uri": "https://localhost:8080/"
        },
        "id": "E39xTaE2FGsG",
        "outputId": "0c893439-fa55-469e-b893-46bc4a9b1aa0"
      },
      "execution_count": null,
      "outputs": [
        {
          "output_type": "execute_result",
          "data": {
            "text/plain": [
              "[226.55555555555554, 208.55555555555554, 172.55555555555554]"
            ]
          },
          "metadata": {},
          "execution_count": 30
        }
      ]
    },
    {
      "cell_type": "code",
      "source": [
        "list_total_S1 = list()\n",
        "list_total_S11 = list()\n",
        "SS1 = img\n",
        "full_path_to_file2 = os.path.join(SS1) \n",
        "blob_service_client.get_blob_to_path('shadeimg', full_path_to_file2, full_path_to_file2)\n",
        "imagee = cv2.imread(SS1)\n",
        "SS1_RGB_img = cv2.cvtColor(imagee, cv2.COLOR_BGR2RGB)\n",
        "SS1_RGBimg1 =  np.array(SS1_RGB_img[1800:1803,2050:2053])\n",
        "S5refA1_1 = np.reshape(SS1_RGBimg1,(3*3, 3))  \n",
        "S5refA1_3 = np.array(S5refA1_1)\n",
        "Rref = S5refA1_1[:,0].mean()\n",
        "Gref = S5refA1_1[:,1].mean()\n",
        "Bref = S5refA1_1[:,2].mean()\n",
        "\n",
        "list_total = list()\n",
        "list_total.append(Rref)\n",
        "list_total.append(Gref)\n",
        "list_total.append(Bref)"
      ],
      "metadata": {
        "id": "GPeEBcmKDPIV"
      },
      "execution_count": null,
      "outputs": []
    },
    {
      "cell_type": "code",
      "source": [
        "SS1_RGBimg1"
      ],
      "metadata": {
        "colab": {
          "base_uri": "https://localhost:8080/"
        },
        "id": "IyY9aW-pVF69",
        "outputId": "1197c318-6e2a-471b-9a59-751e2f6b1728"
      },
      "execution_count": null,
      "outputs": [
        {
          "output_type": "execute_result",
          "data": {
            "text/plain": [
              "array([[[228, 202, 151],\n",
              "        [226, 200, 149],\n",
              "        [231, 205, 154]],\n",
              "\n",
              "       [[229, 203, 152],\n",
              "        [235, 209, 158],\n",
              "        [235, 209, 158]],\n",
              "\n",
              "       [[231, 205, 154],\n",
              "        [234, 208, 157],\n",
              "        [229, 203, 152]]], dtype=uint8)"
            ]
          },
          "metadata": {},
          "execution_count": 68
        }
      ]
    },
    {
      "cell_type": "code",
      "source": [
        "list_total"
      ],
      "metadata": {
        "colab": {
          "base_uri": "https://localhost:8080/"
        },
        "id": "WVQIOrpbQzxn",
        "outputId": "d3815441-ea29-403b-8fa6-2247d7b77d79"
      },
      "execution_count": null,
      "outputs": [
        {
          "output_type": "execute_result",
          "data": {
            "text/plain": [
              "[230.88888888888889, 204.88888888888889, 153.88888888888889]"
            ]
          },
          "metadata": {},
          "execution_count": 69
        }
      ]
    },
    {
      "cell_type": "code",
      "source": [
        "list_total_S1 = list()\n",
        "list_total_S11 = list()\n",
        "SS1 = img\n",
        "full_path_to_file2 = os.path.join(SS1) \n",
        "blob_service_client.get_blob_to_path('shadeimg', full_path_to_file2, full_path_to_file2)\n",
        "imagee = cv2.imread(SS1)\n",
        "SS1_RGB_img = cv2.cvtColor(imagee, cv2.COLOR_BGR2RGB)\n",
        "SS1_RGBimg1 =  np.array(SS1_RGB_img[1800:1801,2050:2053])"
      ],
      "metadata": {
        "id": "lMDPX3OWRBOI"
      },
      "execution_count": null,
      "outputs": []
    },
    {
      "cell_type": "code",
      "source": [
        "SS1_RGBimg1"
      ],
      "metadata": {
        "colab": {
          "base_uri": "https://localhost:8080/"
        },
        "id": "aU6O_aViRLgb",
        "outputId": "a122a1e9-8ff3-453a-ff59-76cbb34a95cc"
      },
      "execution_count": null,
      "outputs": [
        {
          "output_type": "execute_result",
          "data": {
            "text/plain": [
              "array([[[228, 202, 151],\n",
              "        [226, 200, 149],\n",
              "        [231, 205, 154]]], dtype=uint8)"
            ]
          },
          "metadata": {},
          "execution_count": 44
        }
      ]
    },
    {
      "cell_type": "code",
      "source": [
        "list_total_S1 = list()\n",
        "list_total_S11 = list()\n",
        "SS1 = img\n",
        "full_path_to_file2 = os.path.join(SS1) \n",
        "blob_service_client.get_blob_to_path('shadeimg', full_path_to_file2, full_path_to_file2)\n",
        "imagee = cv2.imread(SS1)\n",
        "SS1_RGB_img = cv2.cvtColor(imagee, cv2.COLOR_BGR2RGB)\n",
        "SS1_RGBimg1 =  np.array(SS1_RGB_img[1801:1802,2050:2051])"
      ],
      "metadata": {
        "id": "7BMHrZ2yTzxU"
      },
      "execution_count": null,
      "outputs": []
    },
    {
      "cell_type": "code",
      "source": [
        "SS1_RGBimg1"
      ],
      "metadata": {
        "colab": {
          "base_uri": "https://localhost:8080/"
        },
        "id": "PY8UEdlsUDKQ",
        "outputId": "bf2d3da0-7612-491d-ec16-e8ea4e9c7dd9"
      },
      "execution_count": null,
      "outputs": [
        {
          "output_type": "execute_result",
          "data": {
            "text/plain": [
              "array([[[229, 203, 152]]], dtype=uint8)"
            ]
          },
          "metadata": {},
          "execution_count": 62
        }
      ]
    },
    {
      "cell_type": "code",
      "source": [
        "list_total_S1 = list()\n",
        "list_total_S11 = list()\n",
        "SS1 = img\n",
        "full_path_to_file2 = os.path.join(SS1) \n",
        "blob_service_client.get_blob_to_path('shadeimg', full_path_to_file2, full_path_to_file2)\n",
        "imagee = cv2.imread(SS1)\n",
        "SS1_RGB_img = cv2.cvtColor(imagee, cv2.COLOR_BGR2RGB)\n",
        "SS1_RGBimg1 =  np.array(SS1_RGB_img[1801:1802,2051:2052])"
      ],
      "metadata": {
        "id": "5AjUVYUQRgly"
      },
      "execution_count": null,
      "outputs": []
    },
    {
      "cell_type": "code",
      "source": [
        "SS1_RGBimg1"
      ],
      "metadata": {
        "colab": {
          "base_uri": "https://localhost:8080/"
        },
        "id": "6pQfdOQBUgQo",
        "outputId": "88c2fb1f-97d8-47fa-f66f-e379e8f7ce09"
      },
      "execution_count": null,
      "outputs": [
        {
          "output_type": "execute_result",
          "data": {
            "text/plain": [
              "array([[[235, 209, 158]]], dtype=uint8)"
            ]
          },
          "metadata": {},
          "execution_count": 64
        }
      ]
    },
    {
      "cell_type": "code",
      "source": [
        "list_total_S1 = list()\n",
        "list_total_S11 = list()\n",
        "SS1 = img\n",
        "full_path_to_file2 = os.path.join(SS1) \n",
        "blob_service_client.get_blob_to_path('shadeimg', full_path_to_file2, full_path_to_file2)\n",
        "imagee = cv2.imread(SS1)\n",
        "SS1_RGB_img = cv2.cvtColor(imagee, cv2.COLOR_BGR2RGB)\n",
        "SS1_RGBimg1 =  np.array(SS1_RGB_img[1801:1802,2052:2053])"
      ],
      "metadata": {
        "id": "RNhMy3e3SIG1"
      },
      "execution_count": null,
      "outputs": []
    },
    {
      "cell_type": "code",
      "source": [
        "SS1_RGBimg1"
      ],
      "metadata": {
        "colab": {
          "base_uri": "https://localhost:8080/"
        },
        "id": "MaWce9dOSN-E",
        "outputId": "a585e15f-ee89-40cd-aa4d-1750b2678151"
      },
      "execution_count": null,
      "outputs": [
        {
          "output_type": "execute_result",
          "data": {
            "text/plain": [
              "array([[[235, 209, 158]]], dtype=uint8)"
            ]
          },
          "metadata": {},
          "execution_count": 66
        }
      ]
    },
    {
      "cell_type": "code",
      "source": [
        "list_total_S1 = list()\n",
        "list_total_S11 = list()\n",
        "SS1 = img\n",
        "full_path_to_file2 = os.path.join(SS1) \n",
        "blob_service_client.get_blob_to_path('shadeimg', full_path_to_file2, full_path_to_file2)\n",
        "imagee = cv2.imread(SS1)\n",
        "SS1_RGB_img = cv2.cvtColor(imagee, cv2.COLOR_BGR2RGB)\n",
        "SS1_RGBimg1 =  np.array(SS1_RGB_img[1802:1803,2050:2051])"
      ],
      "metadata": {
        "id": "yCX70vw_Sxqe"
      },
      "execution_count": null,
      "outputs": []
    },
    {
      "cell_type": "code",
      "source": [
        "SS1_RGBimg1"
      ],
      "metadata": {
        "colab": {
          "base_uri": "https://localhost:8080/"
        },
        "id": "JAr-SYRkSyK4",
        "outputId": "41010d17-4749-409d-d8a5-33c516705a04"
      },
      "execution_count": null,
      "outputs": [
        {
          "output_type": "execute_result",
          "data": {
            "text/plain": [
              "array([[[231, 205, 154]]], dtype=uint8)"
            ]
          },
          "metadata": {},
          "execution_count": 58
        }
      ]
    },
    {
      "cell_type": "code",
      "source": [
        "list_total_S1 = list()\n",
        "list_total_S11 = list()\n",
        "SS1 = img\n",
        "full_path_to_file2 = os.path.join(SS1) \n",
        "blob_service_client.get_blob_to_path('shadeimg', full_path_to_file2, full_path_to_file2)\n",
        "imagee = cv2.imread(SS1)\n",
        "SS1_RGB_img = cv2.cvtColor(imagee, cv2.COLOR_BGR2RGB)\n",
        "SS1_RGBimg1 =  np.array(SS1_RGB_img[1802:1803,2051:2052])"
      ],
      "metadata": {
        "id": "gmttOECyS9q_"
      },
      "execution_count": null,
      "outputs": []
    },
    {
      "cell_type": "code",
      "source": [
        "SS1_RGBimg1"
      ],
      "metadata": {
        "colab": {
          "base_uri": "https://localhost:8080/"
        },
        "id": "GwK5Gdg0S_Q2",
        "outputId": "2e086464-cd31-421f-bb5d-72487a5ad460"
      },
      "execution_count": null,
      "outputs": [
        {
          "output_type": "execute_result",
          "data": {
            "text/plain": [
              "array([[[234, 208, 157]]], dtype=uint8)"
            ]
          },
          "metadata": {},
          "execution_count": 60
        }
      ]
    },
    {
      "cell_type": "code",
      "source": [
        "list_total_S1 = list()\n",
        "list_total_S11 = list()\n",
        "SS1 = img\n",
        "full_path_to_file2 = os.path.join(SS1) \n",
        "blob_service_client.get_blob_to_path('shadeimg', full_path_to_file2, full_path_to_file2)\n",
        "imagee = cv2.imread(SS1)\n",
        "SS1_RGB_img = cv2.cvtColor(imagee, cv2.COLOR_BGR2RGB)\n",
        "SS1_RGBimg1 =  np.array(SS1_RGB_img[1802:1803,2052:2053])"
      ],
      "metadata": {
        "id": "hp7Zxp7bSTqd"
      },
      "execution_count": null,
      "outputs": []
    },
    {
      "cell_type": "code",
      "source": [
        "SS1_RGBimg1"
      ],
      "metadata": {
        "colab": {
          "base_uri": "https://localhost:8080/"
        },
        "id": "RBWJuC3QSq8n",
        "outputId": "92d925f9-804f-490c-aec7-9c2e52c52e9a"
      },
      "execution_count": null,
      "outputs": [
        {
          "output_type": "execute_result",
          "data": {
            "text/plain": [
              "array([[[229, 203, 152]]], dtype=uint8)"
            ]
          },
          "metadata": {},
          "execution_count": 56
        }
      ]
    },
    {
      "cell_type": "code",
      "source": [
        "SS1_RGBimg1"
      ],
      "metadata": {
        "colab": {
          "base_uri": "https://localhost:8080/"
        },
        "id": "y0HatokyC3tO",
        "outputId": "b7638186-260c-4109-8f94-54872fd6d645"
      },
      "execution_count": null,
      "outputs": [
        {
          "output_type": "execute_result",
          "data": {
            "text/plain": [
              "array([[[227, 209, 173],\n",
              "        [228, 210, 174],\n",
              "        [226, 208, 172]],\n",
              "\n",
              "       [[227, 209, 173],\n",
              "        [227, 209, 173],\n",
              "        [226, 208, 172]],\n",
              "\n",
              "       [[226, 208, 172],\n",
              "        [226, 208, 172],\n",
              "        [226, 208, 172]]], dtype=uint8)"
            ]
          },
          "metadata": {},
          "execution_count": 18
        }
      ]
    },
    {
      "cell_type": "code",
      "source": [
        "list_total"
      ],
      "metadata": {
        "colab": {
          "base_uri": "https://localhost:8080/"
        },
        "id": "4TyMxdXsCNZu",
        "outputId": "6c6d56c3-17fe-4248-bf53-8dcb9bfd582c"
      },
      "execution_count": null,
      "outputs": [
        {
          "output_type": "execute_result",
          "data": {
            "text/plain": [
              "[226.55555555555554, 208.55555555555554, 172.55555555555554]"
            ]
          },
          "metadata": {},
          "execution_count": 17
        }
      ]
    },
    {
      "cell_type": "code",
      "source": [
        "list_total_S1 = list()\n",
        "list_total_S11 = list()\n",
        "SS1 = img\n",
        "full_path_to_file2 = os.path.join(SS1) \n",
        "blob_service_client.get_blob_to_path('shadeimg', full_path_to_file2, full_path_to_file2)\n",
        "imagee = cv2.imread(SS1)\n",
        "SS1_RGB_img = cv2.cvtColor(imagee, cv2.COLOR_BGR2RGB)\n",
        "SS1_RGBimg1 =  np.array(SS1_RGB_img[1801:1802,1754:1755])"
      ],
      "metadata": {
        "id": "oSlZ8CIqQGPL"
      },
      "execution_count": null,
      "outputs": []
    },
    {
      "cell_type": "code",
      "source": [
        "SS1_RGBimg1"
      ],
      "metadata": {
        "colab": {
          "base_uri": "https://localhost:8080/"
        },
        "id": "cHIk_o-K_ALR",
        "outputId": "eb0bdaec-f9b5-41c9-84c8-0b3c95a33cbb"
      },
      "execution_count": null,
      "outputs": [
        {
          "output_type": "execute_result",
          "data": {
            "text/plain": [
              "array([[[227, 209, 173],\n",
              "        [228, 210, 174],\n",
              "        [226, 208, 172]]], dtype=uint8)"
            ]
          },
          "metadata": {},
          "execution_count": 9
        }
      ]
    },
    {
      "cell_type": "code",
      "source": [
        "list_total_S1 = list()\n",
        "list_total_S11 = list()\n",
        "SS1 = img1\n",
        "full_path_to_file2 = os.path.join(SS1) \n",
        "blob_service_client.get_blob_to_path('shadeimg', full_path_to_file2, full_path_to_file2)\n",
        "imagee = cv2.imread(SS1)\n",
        "SS1_RGB_img = cv2.cvtColor(imagee, cv2.COLOR_BGR2RGB)\n",
        "SS1_RGBimg1 =  np.array(SS1_RGB_img[1800:1803,1750:1753])\n",
        "S5refA1_1 = np.reshape(SS1_RGBimg1,(3*3, 3))  \n",
        "S5refA1_3 = np.array(S5refA1_1)\n",
        "Rref = S5refA1_1[:,0].mean()\n",
        "Gref = S5refA1_1[:,1].mean()\n",
        "Bref = S5refA1_1[:,2].mean()\n",
        "\n",
        "list_total = list()\n",
        "list_total.append(Rref)\n",
        "list_total.append(Gref)\n",
        "list_total.append(Bref)"
      ],
      "metadata": {
        "id": "7nl1lENnqYQr"
      },
      "execution_count": null,
      "outputs": []
    },
    {
      "cell_type": "code",
      "source": [
        "SS1_RGBimg1"
      ],
      "metadata": {
        "colab": {
          "base_uri": "https://localhost:8080/"
        },
        "id": "730sELhAXWY0",
        "outputId": "95d75f5e-0b40-4796-8b79-7592409f7541"
      },
      "execution_count": null,
      "outputs": [
        {
          "output_type": "execute_result",
          "data": {
            "text/plain": [
              "array([[[221, 198, 157],\n",
              "        [222, 199, 158],\n",
              "        [221, 198, 156]],\n",
              "\n",
              "       [[221, 198, 157],\n",
              "        [222, 199, 158],\n",
              "        [225, 202, 160]],\n",
              "\n",
              "       [[220, 197, 156],\n",
              "        [222, 199, 158],\n",
              "        [224, 201, 160]]], dtype=uint8)"
            ]
          },
          "metadata": {},
          "execution_count": 79
        }
      ]
    },
    {
      "cell_type": "code",
      "source": [
        "list_total"
      ],
      "metadata": {
        "colab": {
          "base_uri": "https://localhost:8080/"
        },
        "id": "yktft1KqXQMt",
        "outputId": "0bd2370f-4bde-4ee4-e9ca-0d2c45b5c84a"
      },
      "execution_count": null,
      "outputs": [
        {
          "output_type": "execute_result",
          "data": {
            "text/plain": [
              "[222.0, 199.0, 157.77777777777777]"
            ]
          },
          "metadata": {},
          "execution_count": 80
        }
      ]
    },
    {
      "cell_type": "code",
      "source": [
        "list_total_S1 = list()\n",
        "list_total_S11 = list()\n",
        "SS1 = img1\n",
        "full_path_to_file2 = os.path.join(SS1) \n",
        "blob_service_client.get_blob_to_path('shadeimg', full_path_to_file2, full_path_to_file2)\n",
        "imagee = cv2.imread(SS1)\n",
        "SS1_RGB_img = cv2.cvtColor(imagee, cv2.COLOR_BGR2RGB)\n",
        "SS1_RGBimg1 =  np.array(SS1_RGB_img[1752:1753,1801:1802])"
      ],
      "metadata": {
        "id": "tgCTLunYYOKO"
      },
      "execution_count": null,
      "outputs": []
    },
    {
      "cell_type": "code",
      "source": [
        "SS1_RGBimg1"
      ],
      "metadata": {
        "colab": {
          "base_uri": "https://localhost:8080/"
        },
        "id": "E4y56spfYV9N",
        "outputId": "ea9b1f3a-7e1c-4fc0-ac42-e2e65d21fed7"
      },
      "execution_count": null,
      "outputs": [
        {
          "output_type": "execute_result",
          "data": {
            "text/plain": [
              "array([[[222, 199, 157]]], dtype=uint8)"
            ]
          },
          "metadata": {},
          "execution_count": 82
        }
      ]
    },
    {
      "cell_type": "code",
      "source": [
        "list_total_S1 = list()\n",
        "list_total_S11 = list()\n",
        "SS1 = img1\n",
        "full_path_to_file2 = os.path.join(SS1) \n",
        "blob_service_client.get_blob_to_path('shadeimg', full_path_to_file2, full_path_to_file2)\n",
        "imagee = cv2.imread(SS1)\n",
        "SS1_RGB_img = cv2.cvtColor(imagee, cv2.COLOR_BGR2RGB)\n",
        "SS1_RGBimg1 =  np.array(SS1_RGB_img[1750:1751,1800:1801])"
      ],
      "metadata": {
        "id": "dSr0CVfvXkPQ"
      },
      "execution_count": null,
      "outputs": []
    },
    {
      "cell_type": "code",
      "source": [
        "SS1_RGBimg1"
      ],
      "metadata": {
        "colab": {
          "base_uri": "https://localhost:8080/"
        },
        "id": "1ZhbYa38rDFc",
        "outputId": "ba1b0ce9-fc5e-4540-aa01-e6c0253f40c9"
      },
      "execution_count": null,
      "outputs": [
        {
          "output_type": "execute_result",
          "data": {
            "text/plain": [
              "array([[[223, 200, 158]]], dtype=uint8)"
            ]
          },
          "metadata": {},
          "execution_count": 77
        }
      ]
    },
    {
      "cell_type": "code",
      "source": [
        "list_total_S1 = list()\n",
        "list_total_S11 = list()\n",
        "SS1 = img1\n",
        "full_path_to_file2 = os.path.join(SS1) \n",
        "blob_service_client.get_blob_to_path('shadeimg', full_path_to_file2, full_path_to_file2)\n",
        "imagee = cv2.imread(SS1)\n",
        "SS1_RGB_img = cv2.cvtColor(imagee, cv2.COLOR_BGR2RGB)\n",
        "SS1_RGBimg1 =  np.array(SS1_RGB_img[1800:1803,2050:2053])\n",
        "S5refA1_1 = np.reshape(SS1_RGBimg1,(3*3, 3))  \n",
        "S5refA1_3 = np.array(S5refA1_1)\n",
        "Rref = S5refA1_1[:,0].mean()\n",
        "Gref = S5refA1_1[:,1].mean()\n",
        "Bref = S5refA1_1[:,2].mean()\n",
        "\n",
        "list_total = list()\n",
        "list_total.append(Rref)\n",
        "list_total.append(Gref)\n",
        "list_total.append(Bref)"
      ],
      "metadata": {
        "id": "TzuKY8qiXwZg"
      },
      "execution_count": null,
      "outputs": []
    },
    {
      "cell_type": "code",
      "source": [
        "SS1_RGBimg1"
      ],
      "metadata": {
        "colab": {
          "base_uri": "https://localhost:8080/"
        },
        "id": "MSAMHTC9ZfXr",
        "outputId": "c340d09a-a45e-4be2-ed4b-a9b31949b02c"
      },
      "execution_count": null,
      "outputs": [
        {
          "output_type": "execute_result",
          "data": {
            "text/plain": [
              "array([[[219, 189, 139],\n",
              "        [218, 188, 138],\n",
              "        [217, 187, 137]],\n",
              "\n",
              "       [[220, 190, 140],\n",
              "        [219, 189, 139],\n",
              "        [219, 189, 139]],\n",
              "\n",
              "       [[219, 189, 139],\n",
              "        [218, 188, 138],\n",
              "        [218, 188, 138]]], dtype=uint8)"
            ]
          },
          "metadata": {},
          "execution_count": 85
        }
      ]
    },
    {
      "cell_type": "code",
      "source": [
        "list_total"
      ],
      "metadata": {
        "colab": {
          "base_uri": "https://localhost:8080/"
        },
        "id": "_GIbiGaFZYbo",
        "outputId": "502df1e6-2018-461d-b7dd-0a8486ac1ce6"
      },
      "execution_count": null,
      "outputs": [
        {
          "output_type": "execute_result",
          "data": {
            "text/plain": [
              "[218.55555555555554, 188.55555555555554, 138.55555555555554]"
            ]
          },
          "metadata": {},
          "execution_count": 84
        }
      ]
    },
    {
      "cell_type": "code",
      "source": [
        "list_total_S1 = list()\n",
        "list_total_S11 = list()\n",
        "SS1 = img1\n",
        "full_path_to_file2 = os.path.join(SS1) \n",
        "blob_service_client.get_blob_to_path('shadeimg', full_path_to_file2, full_path_to_file2)\n",
        "imagee = cv2.imread(SS1)\n",
        "SS1_RGB_img = cv2.cvtColor(imagee, cv2.COLOR_BGR2RGB)\n",
        "SS1_RGBimg1 =  np.array(SS1_RGB_img[1801:1802,2050:2051])"
      ],
      "metadata": {
        "id": "F35irs2jZn6S"
      },
      "execution_count": null,
      "outputs": []
    },
    {
      "cell_type": "code",
      "source": [
        "SS1_RGBimg1"
      ],
      "metadata": {
        "colab": {
          "base_uri": "https://localhost:8080/"
        },
        "id": "Tn7rCMDtZtel",
        "outputId": "399bfaa3-d1e5-43f8-9b6a-f470f4c6c7ac"
      },
      "execution_count": null,
      "outputs": [
        {
          "output_type": "execute_result",
          "data": {
            "text/plain": [
              "array([[[220, 190, 140]]], dtype=uint8)"
            ]
          },
          "metadata": {},
          "execution_count": 89
        }
      ]
    },
    {
      "cell_type": "code",
      "source": [
        "list_total_S1 = list()\n",
        "list_total_S11 = list()\n",
        "SS1 = img1\n",
        "full_path_to_file2 = os.path.join(SS1) \n",
        "blob_service_client.get_blob_to_path('shadeimg', full_path_to_file2, full_path_to_file2)\n",
        "imagee = cv2.imread(SS1)\n",
        "SS1_RGB_img = cv2.cvtColor(imagee, cv2.COLOR_BGR2RGB)\n",
        "SS1_RGBimg1 =  np.array(SS1_RGB_img[1801:1802,2051:2052])"
      ],
      "metadata": {
        "id": "UTlcZiCQa6AX"
      },
      "execution_count": null,
      "outputs": []
    },
    {
      "cell_type": "code",
      "source": [
        "SS1_RGBimg1"
      ],
      "metadata": {
        "colab": {
          "base_uri": "https://localhost:8080/"
        },
        "id": "ZPmNrad8bBrd",
        "outputId": "621f38f4-9cda-4138-8815-4d652a9a1626"
      },
      "execution_count": null,
      "outputs": [
        {
          "output_type": "execute_result",
          "data": {
            "text/plain": [
              "array([[[219, 189, 139]]], dtype=uint8)"
            ]
          },
          "metadata": {},
          "execution_count": 91
        }
      ]
    },
    {
      "cell_type": "code",
      "source": [
        "list_total_S1 = list()\n",
        "list_total_S11 = list()\n",
        "SS1 = img1\n",
        "full_path_to_file2 = os.path.join(SS1) \n",
        "blob_service_client.get_blob_to_path('shadeimg', full_path_to_file2, full_path_to_file2)\n",
        "imagee = cv2.imread(SS1)\n",
        "SS1_RGB_img = cv2.cvtColor(imagee, cv2.COLOR_BGR2RGB)\n",
        "SS1_RGBimg1 =  np.array(SS1_RGB_img[1801:1802,2052:2053])"
      ],
      "metadata": {
        "id": "3HhG1PIIbKcC"
      },
      "execution_count": null,
      "outputs": []
    },
    {
      "cell_type": "code",
      "source": [
        "SS1_RGBimg1"
      ],
      "metadata": {
        "colab": {
          "base_uri": "https://localhost:8080/"
        },
        "id": "LqQtTsVzbRmv",
        "outputId": "daf70dbf-e72c-47ba-f81f-6b659c2ca2a1"
      },
      "execution_count": null,
      "outputs": [
        {
          "output_type": "execute_result",
          "data": {
            "text/plain": [
              "array([[[219, 189, 139]]], dtype=uint8)"
            ]
          },
          "metadata": {},
          "execution_count": 93
        }
      ]
    },
    {
      "cell_type": "code",
      "source": [
        "list_total_S1 = list()\n",
        "list_total_S11 = list()\n",
        "SS1 = img\n",
        "full_path_to_file2 = os.path.join(SS1) \n",
        "blob_service_client.get_blob_to_path('shadeimg', full_path_to_file2, full_path_to_file2)\n",
        "imagee = cv2.imread(SS1)\n",
        "SS1_RGB_img = cv2.cvtColor(imagee, cv2.COLOR_BGR2RGB)\n",
        "SS1_RGBimg1 =  np.array(SS1_RGB_img[1800:1803,1753:1756])\n",
        "S5refA1_1 = np.reshape(SS1_RGBimg1,(3*3, 3))  \n",
        "S5refA1_3 = np.array(S5refA1_1)\n",
        "Rref = S5refA1_1[:,0].mean()\n",
        "Gref = S5refA1_1[:,1].mean()\n",
        "Bref = S5refA1_1[:,2].mean()\n",
        "\n",
        "list_total = list()\n",
        "list_total.append(Rref)\n",
        "list_total.append(Gref)\n",
        "list_total.append(Bref)"
      ],
      "metadata": {
        "id": "BO2hm0oFbYQK"
      },
      "execution_count": null,
      "outputs": []
    },
    {
      "cell_type": "code",
      "source": [
        "SS1_RGBimg1"
      ],
      "metadata": {
        "colab": {
          "base_uri": "https://localhost:8080/"
        },
        "id": "PG0pOARScnAV",
        "outputId": "77160437-0f30-43c9-dd4b-9a78e4dc98c1"
      },
      "execution_count": null,
      "outputs": [
        {
          "output_type": "execute_result",
          "data": {
            "text/plain": [
              "array([[[227, 209, 173],\n",
              "        [228, 210, 174],\n",
              "        [226, 208, 172]],\n",
              "\n",
              "       [[227, 209, 173],\n",
              "        [227, 209, 173],\n",
              "        [226, 208, 172]],\n",
              "\n",
              "       [[226, 208, 172],\n",
              "        [226, 208, 172],\n",
              "        [226, 208, 172]]], dtype=uint8)"
            ]
          },
          "metadata": {},
          "execution_count": 100
        }
      ]
    },
    {
      "cell_type": "code",
      "source": [
        "list_total"
      ],
      "metadata": {
        "colab": {
          "base_uri": "https://localhost:8080/"
        },
        "id": "BmxqohU6bYSk",
        "outputId": "804dc952-7da6-45c3-f50e-1e2de0bc63bf"
      },
      "execution_count": null,
      "outputs": [
        {
          "output_type": "execute_result",
          "data": {
            "text/plain": [
              "[226.55555555555554, 208.55555555555554, 172.55555555555554]"
            ]
          },
          "metadata": {},
          "execution_count": 101
        }
      ]
    },
    {
      "cell_type": "code",
      "source": [
        "list_total_S1 = list()\n",
        "list_total_S11 = list()\n",
        "SS1 = img\n",
        "full_path_to_file2 = os.path.join(SS1) \n",
        "blob_service_client.get_blob_to_path('shadeimg', full_path_to_file2, full_path_to_file2)\n",
        "imagee = cv2.imread(SS1)\n",
        "SS1_RGB_img = cv2.cvtColor(imagee, cv2.COLOR_BGR2RGB)\n",
        "SS1_RGBimg1 =  np.array(SS1_RGB_img[1800:1803,2050:2053])\n",
        "S5refA1_1 = np.reshape(SS1_RGBimg1,(3*3, 3))  \n",
        "S5refA1_3 = np.array(S5refA1_1)\n",
        "Rref = S5refA1_1[:,0].mean()\n",
        "Gref = S5refA1_1[:,1].mean()\n",
        "Bref = S5refA1_1[:,2].mean()\n",
        "\n",
        "list_total = list()\n",
        "list_total.append(Rref)\n",
        "list_total.append(Gref)\n",
        "list_total.append(Bref)"
      ],
      "metadata": {
        "id": "xRHW99_scXng"
      },
      "execution_count": null,
      "outputs": []
    },
    {
      "cell_type": "code",
      "source": [
        "SS1_RGBimg1"
      ],
      "metadata": {
        "colab": {
          "base_uri": "https://localhost:8080/"
        },
        "id": "xHFbv5HbdK49",
        "outputId": "a0674cb0-2348-4c38-c0b7-5cbc325972db"
      },
      "execution_count": null,
      "outputs": [
        {
          "output_type": "execute_result",
          "data": {
            "text/plain": [
              "array([[[228, 202, 151],\n",
              "        [226, 200, 149],\n",
              "        [231, 205, 154]],\n",
              "\n",
              "       [[229, 203, 152],\n",
              "        [235, 209, 158],\n",
              "        [235, 209, 158]],\n",
              "\n",
              "       [[231, 205, 154],\n",
              "        [234, 208, 157],\n",
              "        [229, 203, 152]]], dtype=uint8)"
            ]
          },
          "metadata": {},
          "execution_count": 115
        }
      ]
    },
    {
      "cell_type": "code",
      "source": [
        "list_total"
      ],
      "metadata": {
        "colab": {
          "base_uri": "https://localhost:8080/"
        },
        "id": "Y2zdkWLBdDmR",
        "outputId": "c21eda43-9d39-4156-afa0-3cdd054f7e21"
      },
      "execution_count": null,
      "outputs": [
        {
          "output_type": "execute_result",
          "data": {
            "text/plain": [
              "[230.88888888888889, 204.88888888888889, 153.88888888888889]"
            ]
          },
          "metadata": {},
          "execution_count": 103
        }
      ]
    },
    {
      "cell_type": "code",
      "source": [
        "list_total_S1 = list()\n",
        "list_total_S11 = list()\n",
        "SS1 = img\n",
        "full_path_to_file2 = os.path.join(SS1) \n",
        "blob_service_client.get_blob_to_path('shadeimg', full_path_to_file2, full_path_to_file2)\n",
        "imagee = cv2.imread(SS1)\n",
        "SS1_RGB_img = cv2.cvtColor(imagee, cv2.COLOR_BGR2RGB)\n",
        "SS1_RGBimg1 =  np.array(SS1_RGB_img[1801:1802,2050:2051])"
      ],
      "metadata": {
        "id": "jwFMEQ9vdtUl"
      },
      "execution_count": null,
      "outputs": []
    },
    {
      "cell_type": "code",
      "source": [
        "SS1_RGBimg1"
      ],
      "metadata": {
        "colab": {
          "base_uri": "https://localhost:8080/"
        },
        "id": "BlHnr9GSd9Ea",
        "outputId": "97703a31-7b89-4211-9c5b-9cbe96c5b63c"
      },
      "execution_count": null,
      "outputs": [
        {
          "output_type": "execute_result",
          "data": {
            "text/plain": [
              "array([[[229, 203, 152]]], dtype=uint8)"
            ]
          },
          "metadata": {},
          "execution_count": 111
        }
      ]
    },
    {
      "cell_type": "code",
      "source": [
        "list_total_S1 = list()\n",
        "list_total_S11 = list()\n",
        "SS1 = img\n",
        "full_path_to_file2 = os.path.join(SS1) \n",
        "blob_service_client.get_blob_to_path('shadeimg', full_path_to_file2, full_path_to_file2)\n",
        "imagee = cv2.imread(SS1)\n",
        "SS1_RGB_img = cv2.cvtColor(imagee, cv2.COLOR_BGR2RGB)\n",
        "SS1_RGBimg1 =  np.array(SS1_RGB_img[1801:1802,2051:2052])"
      ],
      "metadata": {
        "id": "ysNTRR-9eWFK"
      },
      "execution_count": null,
      "outputs": []
    },
    {
      "cell_type": "code",
      "source": [
        "SS1_RGBimg1"
      ],
      "metadata": {
        "colab": {
          "base_uri": "https://localhost:8080/"
        },
        "id": "oQMthfxPealM",
        "outputId": "38e16fc0-76b3-40c4-aab3-a6fe2e0951bc"
      },
      "execution_count": null,
      "outputs": [
        {
          "output_type": "execute_result",
          "data": {
            "text/plain": [
              "array([[[235, 209, 158]]], dtype=uint8)"
            ]
          },
          "metadata": {},
          "execution_count": 119
        }
      ]
    },
    {
      "cell_type": "code",
      "source": [
        "list_total_S1 = list()\n",
        "list_total_S11 = list()\n",
        "SS1 = img2\n",
        "full_path_to_file2 = os.path.join(SS1) \n",
        "blob_service_client.get_blob_to_path('shadeimg', full_path_to_file2, full_path_to_file2)\n",
        "imagee = cv2.imread(SS1)\n",
        "SS1_RGB_img = cv2.cvtColor(imagee, cv2.COLOR_BGR2RGB)\n",
        "SS1_RGBimg1 =  np.array(SS1_RGB_img[1800:1801,1750:1751])"
      ],
      "metadata": {
        "id": "8zh9k2-3igPr"
      },
      "execution_count": null,
      "outputs": []
    },
    {
      "cell_type": "code",
      "source": [
        "SS1_RGBimg1"
      ],
      "metadata": {
        "id": "kNrdh6PripAF",
        "outputId": "eabb5557-6a6a-472d-9454-b5b2f7e68737",
        "colab": {
          "base_uri": "https://localhost:8080/"
        }
      },
      "execution_count": null,
      "outputs": [
        {
          "output_type": "execute_result",
          "data": {
            "text/plain": [
              "array([[[216, 191, 150]]], dtype=uint8)"
            ]
          },
          "metadata": {},
          "execution_count": 123
        }
      ]
    },
    {
      "cell_type": "code",
      "source": [
        "list_total_S1 = list()\n",
        "list_total_S11 = list()\n",
        "SS1 = img2\n",
        "full_path_to_file2 = os.path.join(SS1) \n",
        "blob_service_client.get_blob_to_path('shadeimg', full_path_to_file2, full_path_to_file2)\n",
        "imagee = cv2.imread(SS1)\n",
        "SS1_RGB_img = cv2.cvtColor(imagee, cv2.COLOR_BGR2RGB)\n",
        "SS1_RGBimg1 =  np.array(SS1_RGB_img[1800:1801,1751:1752])"
      ],
      "metadata": {
        "id": "LEekxpxxi0FI"
      },
      "execution_count": null,
      "outputs": []
    },
    {
      "cell_type": "code",
      "source": [
        "SS1_RGBimg1"
      ],
      "metadata": {
        "id": "9hQnH4Oki4oa",
        "outputId": "2d26fb15-04b1-4b8b-f522-c6bbbd30a409",
        "colab": {
          "base_uri": "https://localhost:8080/"
        }
      },
      "execution_count": null,
      "outputs": [
        {
          "output_type": "execute_result",
          "data": {
            "text/plain": [
              "array([[[216, 191, 150]]], dtype=uint8)"
            ]
          },
          "metadata": {},
          "execution_count": 125
        }
      ]
    },
    {
      "cell_type": "code",
      "source": [
        "list_total_S1 = list()\n",
        "list_total_S11 = list()\n",
        "SS1 = img2\n",
        "full_path_to_file2 = os.path.join(SS1) \n",
        "blob_service_client.get_blob_to_path('shadeimg', full_path_to_file2, full_path_to_file2)\n",
        "imagee = cv2.imread(SS1)\n",
        "SS1_RGB_img = cv2.cvtColor(imagee, cv2.COLOR_BGR2RGB)\n",
        "SS1_RGBimg1 =  np.array(SS1_RGB_img[1800:1801,1752:1753])"
      ],
      "metadata": {
        "id": "VFautsMJjA8p"
      },
      "execution_count": null,
      "outputs": []
    },
    {
      "cell_type": "code",
      "source": [
        "SS1_RGBimg1"
      ],
      "metadata": {
        "id": "KEluyPrMjE0z",
        "outputId": "bcbc9362-b54f-4989-8023-4cb7a5d25b01",
        "colab": {
          "base_uri": "https://localhost:8080/"
        }
      },
      "execution_count": null,
      "outputs": [
        {
          "output_type": "execute_result",
          "data": {
            "text/plain": [
              "array([[[215, 190, 149]]], dtype=uint8)"
            ]
          },
          "metadata": {},
          "execution_count": 127
        }
      ]
    },
    {
      "cell_type": "code",
      "source": [
        "list_total_S1 = list()\n",
        "list_total_S11 = list()\n",
        "SS1 = img2\n",
        "full_path_to_file2 = os.path.join(SS1) \n",
        "blob_service_client.get_blob_to_path('shadeimg', full_path_to_file2, full_path_to_file2)\n",
        "imagee = cv2.imread(SS1)\n",
        "SS1_RGB_img = cv2.cvtColor(imagee, cv2.COLOR_BGR2RGB)\n",
        "SS1_RGBimg1 =  np.array(SS1_RGB_img[1801:1802,1752:1753])"
      ],
      "metadata": {
        "id": "DqWyb8ZBjI1T"
      },
      "execution_count": null,
      "outputs": []
    },
    {
      "cell_type": "code",
      "source": [
        "SS1_RGBimg1"
      ],
      "metadata": {
        "id": "L6713XC-jPGB",
        "outputId": "0fea1dcc-0312-4631-bab4-4ef7d61ebec1",
        "colab": {
          "base_uri": "https://localhost:8080/"
        }
      },
      "execution_count": null,
      "outputs": [
        {
          "output_type": "execute_result",
          "data": {
            "text/plain": [
              "array([[[215, 190, 149]]], dtype=uint8)"
            ]
          },
          "metadata": {},
          "execution_count": 134
        }
      ]
    },
    {
      "cell_type": "code",
      "source": [
        "list_total_S1 = list()\n",
        "list_total_S11 = list()\n",
        "SS1 = img2\n",
        "full_path_to_file2 = os.path.join(SS1) \n",
        "blob_service_client.get_blob_to_path('shadeimg', full_path_to_file2, full_path_to_file2)\n",
        "imagee = cv2.imread(SS1)\n",
        "SS1_RGB_img = cv2.cvtColor(imagee, cv2.COLOR_BGR2RGB)\n",
        "SS1_RGBimg1 =  np.array(SS1_RGB_img[1801:1802,1751:1752])"
      ],
      "metadata": {
        "id": "tVPK9hDijeYn"
      },
      "execution_count": null,
      "outputs": []
    },
    {
      "cell_type": "code",
      "source": [
        "SS1_RGBimg1"
      ],
      "metadata": {
        "id": "2rU48eHGjmjL",
        "outputId": "d0b3561a-5409-4a2a-b978-4ef1667aedd7",
        "colab": {
          "base_uri": "https://localhost:8080/"
        }
      },
      "execution_count": null,
      "outputs": [
        {
          "output_type": "execute_result",
          "data": {
            "text/plain": [
              "array([[[216, 191, 150]]], dtype=uint8)"
            ]
          },
          "metadata": {},
          "execution_count": 136
        }
      ]
    },
    {
      "cell_type": "code",
      "source": [
        "list_total_S1 = list()\n",
        "list_total_S11 = list()\n",
        "SS1 = img2\n",
        "full_path_to_file2 = os.path.join(SS1) \n",
        "blob_service_client.get_blob_to_path('shadeimg', full_path_to_file2, full_path_to_file2)\n",
        "imagee = cv2.imread(SS1)\n",
        "SS1_RGB_img = cv2.cvtColor(imagee, cv2.COLOR_BGR2RGB)\n",
        "SS1_RGBimg1 =  np.array(SS1_RGB_img[1801:1802,1750:1751])"
      ],
      "metadata": {
        "id": "dd7Qxq--jqH6"
      },
      "execution_count": null,
      "outputs": []
    },
    {
      "cell_type": "code",
      "source": [
        "SS1_RGBimg1"
      ],
      "metadata": {
        "id": "RPBQxYK1jvMR",
        "outputId": "28d0a071-89bb-4307-c8e9-0d1e7000c627",
        "colab": {
          "base_uri": "https://localhost:8080/"
        }
      },
      "execution_count": null,
      "outputs": [
        {
          "output_type": "execute_result",
          "data": {
            "text/plain": [
              "array([[[217, 192, 151]]], dtype=uint8)"
            ]
          },
          "metadata": {},
          "execution_count": 138
        }
      ]
    },
    {
      "cell_type": "code",
      "source": [
        "list_total_S1 = list()\n",
        "list_total_S11 = list()\n",
        "SS1 = img2\n",
        "full_path_to_file2 = os.path.join(SS1) \n",
        "blob_service_client.get_blob_to_path('shadeimg', full_path_to_file2, full_path_to_file2)\n",
        "imagee = cv2.imread(SS1)\n",
        "SS1_RGB_img = cv2.cvtColor(imagee, cv2.COLOR_BGR2RGB)\n",
        "SS1_RGBimg1 =  np.array(SS1_RGB_img[1802:1803,1750:1751])"
      ],
      "metadata": {
        "id": "pNcFpUMzj9Cc"
      },
      "execution_count": null,
      "outputs": []
    },
    {
      "cell_type": "code",
      "source": [
        "SS1_RGBimg1"
      ],
      "metadata": {
        "id": "5YZdgxkUkBbd",
        "outputId": "1b7d2a53-b16f-456f-8877-840e551cbaa9",
        "colab": {
          "base_uri": "https://localhost:8080/"
        }
      },
      "execution_count": null,
      "outputs": [
        {
          "output_type": "execute_result",
          "data": {
            "text/plain": [
              "array([[[217, 192, 151]]], dtype=uint8)"
            ]
          },
          "metadata": {},
          "execution_count": 140
        }
      ]
    },
    {
      "cell_type": "code",
      "source": [
        "list_total_S1 = list()\n",
        "list_total_S11 = list()\n",
        "SS1 = img2\n",
        "full_path_to_file2 = os.path.join(SS1) \n",
        "blob_service_client.get_blob_to_path('shadeimg', full_path_to_file2, full_path_to_file2)\n",
        "imagee = cv2.imread(SS1)\n",
        "SS1_RGB_img = cv2.cvtColor(imagee, cv2.COLOR_BGR2RGB)\n",
        "SS1_RGBimg1 =  np.array(SS1_RGB_img[1802:1803,1751:1752])"
      ],
      "metadata": {
        "id": "H_O6r5GzkEam"
      },
      "execution_count": null,
      "outputs": []
    },
    {
      "cell_type": "code",
      "source": [
        "SS1_RGBimg1"
      ],
      "metadata": {
        "id": "x3mRVWiAkFKY",
        "outputId": "b2664acb-bc6c-4f0b-ac4b-f1d9a2745f65",
        "colab": {
          "base_uri": "https://localhost:8080/"
        }
      },
      "execution_count": null,
      "outputs": [
        {
          "output_type": "execute_result",
          "data": {
            "text/plain": [
              "array([[[216, 191, 150]]], dtype=uint8)"
            ]
          },
          "metadata": {},
          "execution_count": 142
        }
      ]
    },
    {
      "cell_type": "code",
      "source": [
        "list_total_S1 = list()\n",
        "list_total_S11 = list()\n",
        "SS1 = img2\n",
        "full_path_to_file2 = os.path.join(SS1) \n",
        "blob_service_client.get_blob_to_path('shadeimg', full_path_to_file2, full_path_to_file2)\n",
        "imagee = cv2.imread(SS1)\n",
        "SS1_RGB_img = cv2.cvtColor(imagee, cv2.COLOR_BGR2RGB)\n",
        "SS1_RGBimg1 =  np.array(SS1_RGB_img[1802:1803,1752:1753])"
      ],
      "metadata": {
        "id": "8Yqf2qKYkLVd"
      },
      "execution_count": null,
      "outputs": []
    },
    {
      "cell_type": "code",
      "source": [
        "SS1_RGBimg1"
      ],
      "metadata": {
        "id": "JLTPUht3kRg6",
        "outputId": "d31f0dee-75b4-42e6-f689-862bf04bbac3",
        "colab": {
          "base_uri": "https://localhost:8080/"
        }
      },
      "execution_count": null,
      "outputs": [
        {
          "output_type": "execute_result",
          "data": {
            "text/plain": [
              "array([[[215, 190, 149]]], dtype=uint8)"
            ]
          },
          "metadata": {},
          "execution_count": 144
        }
      ]
    },
    {
      "cell_type": "code",
      "source": [
        "list_total_S1 = list()\n",
        "list_total_S11 = list()\n",
        "SS1 = img2\n",
        "full_path_to_file2 = os.path.join(SS1) \n",
        "blob_service_client.get_blob_to_path('shadeimg', full_path_to_file2, full_path_to_file2)\n",
        "imagee = cv2.imread(SS1)\n",
        "SS1_RGB_img = cv2.cvtColor(imagee, cv2.COLOR_BGR2RGB)\n",
        "SS1_RGBimg1 =  np.array(SS1_RGB_img[1800:1801,2050:2051])"
      ],
      "metadata": {
        "id": "N_4ZWhFLke4r"
      },
      "execution_count": null,
      "outputs": []
    },
    {
      "cell_type": "code",
      "source": [
        "SS1_RGBimg1"
      ],
      "metadata": {
        "id": "hw49JzcJknwK",
        "outputId": "15e9781c-9aae-43b2-8e2b-a938204fd3fa",
        "colab": {
          "base_uri": "https://localhost:8080/"
        }
      },
      "execution_count": null,
      "outputs": [
        {
          "output_type": "execute_result",
          "data": {
            "text/plain": [
              "array([[[208, 181, 136]]], dtype=uint8)"
            ]
          },
          "metadata": {},
          "execution_count": 146
        }
      ]
    },
    {
      "cell_type": "code",
      "source": [
        "list_total_S1 = list()\n",
        "list_total_S11 = list()\n",
        "SS1 = img2\n",
        "full_path_to_file2 = os.path.join(SS1) \n",
        "blob_service_client.get_blob_to_path('shadeimg', full_path_to_file2, full_path_to_file2)\n",
        "imagee = cv2.imread(SS1)\n",
        "SS1_RGB_img = cv2.cvtColor(imagee, cv2.COLOR_BGR2RGB)\n",
        "SS1_RGBimg1 =  np.array(SS1_RGB_img[1800:1801,2051:2052])"
      ],
      "metadata": {
        "id": "Iu2cBtMIkriz"
      },
      "execution_count": null,
      "outputs": []
    },
    {
      "cell_type": "code",
      "source": [
        "SS1_RGBimg1"
      ],
      "metadata": {
        "id": "vx-3fyjSk0ZD",
        "outputId": "b3c8dce2-32d9-4825-a120-d907758a158a",
        "colab": {
          "base_uri": "https://localhost:8080/"
        }
      },
      "execution_count": null,
      "outputs": [
        {
          "output_type": "execute_result",
          "data": {
            "text/plain": [
              "array([[[210, 183, 138]]], dtype=uint8)"
            ]
          },
          "metadata": {},
          "execution_count": 148
        }
      ]
    },
    {
      "cell_type": "code",
      "source": [
        "list_total_S1 = list()\n",
        "list_total_S11 = list()\n",
        "SS1 = img2\n",
        "full_path_to_file2 = os.path.join(SS1) \n",
        "blob_service_client.get_blob_to_path('shadeimg', full_path_to_file2, full_path_to_file2)\n",
        "imagee = cv2.imread(SS1)\n",
        "SS1_RGB_img = cv2.cvtColor(imagee, cv2.COLOR_BGR2RGB)\n",
        "SS1_RGBimg1 =  np.array(SS1_RGB_img[1800:1801,2052:2053])"
      ],
      "metadata": {
        "id": "mXOKXqCjkwX7"
      },
      "execution_count": null,
      "outputs": []
    },
    {
      "cell_type": "code",
      "source": [
        "SS1_RGBimg1"
      ],
      "metadata": {
        "id": "huY8PLX0k6mG",
        "outputId": "b6487364-d400-4068-a46d-8e214cafacbb",
        "colab": {
          "base_uri": "https://localhost:8080/"
        }
      },
      "execution_count": null,
      "outputs": [
        {
          "output_type": "execute_result",
          "data": {
            "text/plain": [
              "array([[[209, 182, 137]]], dtype=uint8)"
            ]
          },
          "metadata": {},
          "execution_count": 150
        }
      ]
    },
    {
      "cell_type": "code",
      "source": [
        "list_total_S1 = list()\n",
        "list_total_S11 = list()\n",
        "SS1 = img2\n",
        "full_path_to_file2 = os.path.join(SS1) \n",
        "blob_service_client.get_blob_to_path('shadeimg', full_path_to_file2, full_path_to_file2)\n",
        "imagee = cv2.imread(SS1)\n",
        "SS1_RGB_img = cv2.cvtColor(imagee, cv2.COLOR_BGR2RGB)\n",
        "SS1_RGBimg1 =  np.array(SS1_RGB_img[1801:1802,2050:2051])"
      ],
      "metadata": {
        "id": "etTyiQAulDUs"
      },
      "execution_count": null,
      "outputs": []
    },
    {
      "cell_type": "code",
      "source": [
        "SS1_RGBimg1"
      ],
      "metadata": {
        "id": "58x3jWNOllFr",
        "outputId": "e4562b1d-7688-449f-8fb4-35b9d33f50d0",
        "colab": {
          "base_uri": "https://localhost:8080/"
        }
      },
      "execution_count": null,
      "outputs": [
        {
          "output_type": "execute_result",
          "data": {
            "text/plain": [
              "array([[[208, 181, 136]]], dtype=uint8)"
            ]
          },
          "metadata": {},
          "execution_count": 154
        }
      ]
    },
    {
      "cell_type": "code",
      "source": [
        "list_total_S1 = list()\n",
        "list_total_S11 = list()\n",
        "SS1 = img2\n",
        "full_path_to_file2 = os.path.join(SS1) \n",
        "blob_service_client.get_blob_to_path('shadeimg', full_path_to_file2, full_path_to_file2)\n",
        "imagee = cv2.imread(SS1)\n",
        "SS1_RGB_img = cv2.cvtColor(imagee, cv2.COLOR_BGR2RGB)\n",
        "SS1_RGBimg1 =  np.array(SS1_RGB_img[1801:1802,2051:2052])"
      ],
      "metadata": {
        "id": "uoOrQucLlPoI"
      },
      "execution_count": null,
      "outputs": []
    },
    {
      "cell_type": "code",
      "source": [
        "SS1_RGBimg1"
      ],
      "metadata": {
        "id": "0jFPV8GglPxW",
        "outputId": "6912aadb-1848-450e-f64d-80f564cf0434",
        "colab": {
          "base_uri": "https://localhost:8080/"
        }
      },
      "execution_count": null,
      "outputs": [
        {
          "output_type": "execute_result",
          "data": {
            "text/plain": [
              "array([[[209, 182, 137]]], dtype=uint8)"
            ]
          },
          "metadata": {},
          "execution_count": 152
        }
      ]
    },
    {
      "cell_type": "code",
      "source": [
        "list_total_S1 = list()\n",
        "list_total_S11 = list()\n",
        "SS1 = img2\n",
        "full_path_to_file2 = os.path.join(SS1) \n",
        "blob_service_client.get_blob_to_path('shadeimg', full_path_to_file2, full_path_to_file2)\n",
        "imagee = cv2.imread(SS1)\n",
        "SS1_RGB_img = cv2.cvtColor(imagee, cv2.COLOR_BGR2RGB)\n",
        "SS1_RGBimg1 =  np.array(SS1_RGB_img[1801:1802,2052:2053])"
      ],
      "metadata": {
        "id": "ByiJ1MsClm9e"
      },
      "execution_count": null,
      "outputs": []
    },
    {
      "cell_type": "code",
      "source": [
        "SS1_RGBimg1"
      ],
      "metadata": {
        "id": "xA869l5slrdG",
        "outputId": "cc6fda1a-4af8-4b51-a183-5d4e641a583b",
        "colab": {
          "base_uri": "https://localhost:8080/"
        }
      },
      "execution_count": null,
      "outputs": [
        {
          "output_type": "execute_result",
          "data": {
            "text/plain": [
              "array([[[210, 183, 138]]], dtype=uint8)"
            ]
          },
          "metadata": {},
          "execution_count": 156
        }
      ]
    },
    {
      "cell_type": "code",
      "source": [
        "list_total_S1 = list()\n",
        "list_total_S11 = list()\n",
        "SS1 = img2\n",
        "full_path_to_file2 = os.path.join(SS1) \n",
        "blob_service_client.get_blob_to_path('shadeimg', full_path_to_file2, full_path_to_file2)\n",
        "imagee = cv2.imread(SS1)\n",
        "SS1_RGB_img = cv2.cvtColor(imagee, cv2.COLOR_BGR2RGB)\n",
        "SS1_RGBimg1 =  np.array(SS1_RGB_img[1802:1803,2050:2051])"
      ],
      "metadata": {
        "id": "ZTx4x6XFl7tU"
      },
      "execution_count": null,
      "outputs": []
    },
    {
      "cell_type": "code",
      "source": [
        "SS1_RGBimg1"
      ],
      "metadata": {
        "id": "eOvCPjvFmW1Z",
        "outputId": "e77eefa6-8b0a-411b-fb81-b2e854d72a4a",
        "colab": {
          "base_uri": "https://localhost:8080/"
        }
      },
      "execution_count": null,
      "outputs": [
        {
          "output_type": "execute_result",
          "data": {
            "text/plain": [
              "array([[[206, 179, 134]]], dtype=uint8)"
            ]
          },
          "metadata": {},
          "execution_count": 158
        }
      ]
    },
    {
      "cell_type": "code",
      "source": [
        "list_total_S1 = list()\n",
        "list_total_S11 = list()\n",
        "SS1 = img2\n",
        "full_path_to_file2 = os.path.join(SS1) \n",
        "blob_service_client.get_blob_to_path('shadeimg', full_path_to_file2, full_path_to_file2)\n",
        "imagee = cv2.imread(SS1)\n",
        "SS1_RGB_img = cv2.cvtColor(imagee, cv2.COLOR_BGR2RGB)\n",
        "SS1_RGBimg1 =  np.array(SS1_RGB_img[1802:1803,2051:2052])"
      ],
      "metadata": {
        "id": "scSYBVinmF8f"
      },
      "execution_count": null,
      "outputs": []
    },
    {
      "cell_type": "code",
      "source": [
        "SS1_RGBimg1"
      ],
      "metadata": {
        "id": "969dpCibmX-X",
        "outputId": "966ad507-ec80-4a75-eb56-957e8356401a",
        "colab": {
          "base_uri": "https://localhost:8080/"
        }
      },
      "execution_count": null,
      "outputs": [
        {
          "output_type": "execute_result",
          "data": {
            "text/plain": [
              "array([[[207, 180, 135]]], dtype=uint8)"
            ]
          },
          "metadata": {},
          "execution_count": 160
        }
      ]
    },
    {
      "cell_type": "code",
      "source": [
        "list_total_S1 = list()\n",
        "list_total_S11 = list()\n",
        "SS1 = img2\n",
        "full_path_to_file2 = os.path.join(SS1) \n",
        "blob_service_client.get_blob_to_path('shadeimg', full_path_to_file2, full_path_to_file2)\n",
        "imagee = cv2.imread(SS1)\n",
        "SS1_RGB_img = cv2.cvtColor(imagee, cv2.COLOR_BGR2RGB)\n",
        "SS1_RGBimg1 =  np.array(SS1_RGB_img[1802:1803,2052:2053])"
      ],
      "metadata": {
        "id": "99hmNQMymMEl"
      },
      "execution_count": null,
      "outputs": []
    },
    {
      "cell_type": "code",
      "source": [
        "SS1_RGBimg1"
      ],
      "metadata": {
        "id": "xjZHuZ-smZPk",
        "outputId": "038e01bd-3cb2-406e-f9c8-532ebb2b6e61",
        "colab": {
          "base_uri": "https://localhost:8080/"
        }
      },
      "execution_count": null,
      "outputs": [
        {
          "output_type": "execute_result",
          "data": {
            "text/plain": [
              "array([[[209, 182, 137]]], dtype=uint8)"
            ]
          },
          "metadata": {},
          "execution_count": 162
        }
      ]
    },
    {
      "cell_type": "code",
      "source": [
        "#D3 A2\n",
        "list_total_S1 = list()\n",
        "list_total_S11 = list()\n",
        "SS1 = img1\n",
        "full_path_to_file2 = os.path.join(SS1) \n",
        "blob_service_client.get_blob_to_path('shadeimg', full_path_to_file2, full_path_to_file2)\n",
        "imagee = cv2.imread(SS1)\n",
        "SS1_RGB_img = cv2.cvtColor(imagee, cv2.COLOR_BGR2RGB)\n",
        "SS1_RGBimg1 =  np.array(SS1_RGB_img[1763:1764,1776:1777])  \n",
        "SS1_RGBimg2 =  np.array(SS1_RGB_img[1765:1766,1750:1751])  \n",
        "SS1_RGBimg3 =  np.array(SS1_RGB_img[1773:1774,1790:1791]) \n",
        "SS1_RGBimg4 =  np.array(SS1_RGB_img[1789:1790,1768:1769])   \n",
        "list_total_S1.append(SS1_RGBimg1)\n",
        "list_total_S1.append(SS1_RGBimg2)\n",
        "list_total_S1.append(SS1_RGBimg3)\n",
        "list_total_S1.append(SS1_RGBimg4)\n",
        "\n",
        "SS1_RGBimg5 =  np.array(SS1_RGB_img[1759:1760,2078:2079])  \n",
        "SS1_RGBimg6 =  np.array(SS1_RGB_img[1765:1766,2056:2057])  \n",
        "SS1_RGBimg7 =  np.array(SS1_RGB_img[1777:1778,2066:2067]) \n",
        "SS1_RGBimg8 =  np.array(SS1_RGB_img[1783:1784,2094:2095])   \n",
        "list_total_S11.append(SS1_RGBimg5)\n",
        "list_total_S11.append(SS1_RGBimg6)\n",
        "list_total_S11.append(SS1_RGBimg7)\n",
        "list_total_S11.append(SS1_RGBimg8)"
      ],
      "metadata": {
        "id": "aTOE6d13ZKP4"
      },
      "execution_count": null,
      "outputs": []
    },
    {
      "cell_type": "code",
      "source": [
        "list_total_S1"
      ],
      "metadata": {
        "id": "VNYs-8GGcKaS"
      },
      "execution_count": null,
      "outputs": []
    },
    {
      "cell_type": "code",
      "source": [
        "list_total_S11"
      ],
      "metadata": {
        "id": "fOGgKiX_hjGL"
      },
      "execution_count": null,
      "outputs": []
    },
    {
      "cell_type": "code",
      "source": [
        "img22 = cv2.imread(img2)\n",
        "RGB_img2= cv2.cvtColor(img22, cv2.COLOR_BGR2RGB)"
      ],
      "metadata": {
        "id": "T_BSLJoV3CRt"
      },
      "execution_count": null,
      "outputs": []
    },
    {
      "cell_type": "code",
      "source": [
        "plt.imshow(RGB_img2)"
      ],
      "metadata": {
        "id": "-uI-K3_z3CRt"
      },
      "execution_count": null,
      "outputs": []
    },
    {
      "cell_type": "code",
      "source": [
        "#D3 B4\n",
        "list_total_S2 = list()\n",
        "list_total_S22 = list()\n",
        "SS2 = img2\n",
        "full_path_to_file2 = os.path.join(SS2) \n",
        "blob_service_client.get_blob_to_path('shadeimg', full_path_to_file2, full_path_to_file2)\n",
        "imagee2 = cv2.imread(SS2)\n",
        "SS2_RGB_img = cv2.cvtColor(imagee2, cv2.COLOR_BGR2RGB)\n",
        "SS2_RGBimg1 =  np.array(SS2_RGB_img[1827:1828,1761:1762])  \n",
        "SS2_RGBimg2 =  np.array(SS2_RGB_img[1825:1826,1783:1784])  \n",
        "SS2_RGBimg3 =  np.array(SS2_RGB_img[1849:1850,1779:1780]) \n",
        "SS2_RGBimg4 =  np.array(SS2_RGB_img[1857:1856,1745:1746])   \n",
        "list_total_S2.append(SS2_RGBimg1)\n",
        "list_total_S2.append(SS2_RGBimg2)\n",
        "list_total_S2.append(SS2_RGBimg3)\n",
        "list_total_S2.append(SS2_RGBimg4)\n",
        "\n",
        "\n",
        "SS2_RGBimg5 =  np.array(SS2_RGB_img[1847:1848,2066:2067])  \n",
        "SS2_RGBimg6 =  np.array(SS2_RGB_img[1845:1846,2080:2081])  \n",
        "SS2_RGBimg7 =  np.array(SS2_RGB_img[1847:1846,2040:2041]) \n",
        "SS2_RGBimg8 =  np.array(SS2_RGB_img[1647:1648,1763:1764])   \n",
        "list_total_S22.append(SS2_RGBimg5)\n",
        "list_total_S22.append(SS2_RGBimg6)\n",
        "list_total_S22.append(SS2_RGBimg7)\n",
        "list_total_S22.append(SS2_RGBimg8)"
      ],
      "metadata": {
        "id": "k_5WfuDJfkOu"
      },
      "execution_count": null,
      "outputs": []
    },
    {
      "cell_type": "code",
      "source": [
        "SS2_RGBimg4"
      ],
      "metadata": {
        "id": "AIxZCMcnvqG4"
      },
      "execution_count": null,
      "outputs": []
    },
    {
      "cell_type": "code",
      "source": [
        "list_total_S2"
      ],
      "metadata": {
        "id": "cINtDxg6gkGD"
      },
      "execution_count": null,
      "outputs": []
    },
    {
      "cell_type": "code",
      "source": [
        "list_total_S22"
      ],
      "metadata": {
        "id": "Xz91-_imiH39"
      },
      "execution_count": null,
      "outputs": []
    },
    {
      "cell_type": "code",
      "source": [
        "img33 = cv2.imread(img3)\n",
        "RGB_img3= cv2.cvtColor(img33, cv2.COLOR_BGR2RGB)"
      ],
      "metadata": {
        "id": "h-eeU6wk3Hkl"
      },
      "execution_count": null,
      "outputs": []
    },
    {
      "cell_type": "code",
      "source": [
        "plt.imshow(RGB_img3)"
      ],
      "metadata": {
        "id": "EiK1JAOk3Hkl"
      },
      "execution_count": null,
      "outputs": []
    },
    {
      "cell_type": "code",
      "source": [
        "#D3 D3\n",
        "list_total_S3 = list()\n",
        "list_total_S33 = list()\n",
        "SS3 = img3\n",
        "full_path_to_file2 = os.path.join(SS3) \n",
        "blob_service_client.get_blob_to_path('shadeimg', full_path_to_file2, full_path_to_file2)\n",
        "imagee3 = cv2.imread(SS3)\n",
        "SS3_RGB_img = cv2.cvtColor(imagee3, cv2.COLOR_BGR2RGB)\n",
        "SS3_RGBimg1 =  np.array(SS3_RGB_img[1756:1757,1762:1763])  \n",
        "SS3_RGBimg2 =  np.array(SS3_RGB_img[1758:1759,1784:1785])  \n",
        "SS3_RGBimg3 =  np.array(SS3_RGB_img[1790:1791,1750:1751]) \n",
        "SS3_RGBimg4 =  np.array(SS3_RGB_img[1778:1779,1784:1783])   \n",
        "list_total_S3.append(SS3_RGBimg1)    \n",
        "list_total_S3.append(SS3_RGBimg2)\n",
        "list_total_S3.append(SS3_RGBimg3)\n",
        "list_total_S3.append(SS3_RGBimg4)\n",
        "\n",
        "SS3_RGBimg5 =  np.array(SS3_RGB_img[1770:1771,2068:2069])  \n",
        "SS3_RGBimg6 =  np.array(SS3_RGB_img[1766:1767,2046:2047])  \n",
        "SS3_RGBimg7 =  np.array(SS3_RGB_img[1788:1789,2050:2051]) \n",
        "SS3_RGBimg8 =  np.array(SS3_RGB_img[1792:1793,2074:2075])   \n",
        "list_total_S33.append(SS3_RGBimg5)\n",
        "list_total_S33.append(SS3_RGBimg6)\n",
        "list_total_S33.append(SS3_RGBimg7)\n",
        "list_total_S33.append(SS3_RGBimg8)"
      ],
      "metadata": {
        "id": "bNACU0dqgmDT"
      },
      "execution_count": null,
      "outputs": []
    },
    {
      "cell_type": "code",
      "source": [
        "list_total_S3"
      ],
      "metadata": {
        "id": "JlBO32XDg2zA"
      },
      "execution_count": null,
      "outputs": []
    },
    {
      "cell_type": "code",
      "source": [
        "list_total_S33"
      ],
      "metadata": {
        "id": "GG_bN7ypiFHp"
      },
      "execution_count": null,
      "outputs": []
    },
    {
      "cell_type": "code",
      "source": [
        "img44 = cv2.imread(img4)\n",
        "RGB_img4= cv2.cvtColor(img44, cv2.COLOR_BGR2RGB)"
      ],
      "metadata": {
        "id": "EPMCQqi43LoE"
      },
      "execution_count": null,
      "outputs": []
    },
    {
      "cell_type": "code",
      "source": [
        "plt.imshow(RGB_img4)"
      ],
      "metadata": {
        "id": "iZcr4sIn3LoF"
      },
      "execution_count": null,
      "outputs": []
    },
    {
      "cell_type": "code",
      "source": [
        "#D3 A1\n",
        "list_total_S4 = list()\n",
        "list_total_S44 = list()\n",
        "SS4 = img4\n",
        "full_path_to_file2 = os.path.join(SS4) \n",
        "blob_service_client.get_blob_to_path('shadeimg', full_path_to_file2, full_path_to_file2)\n",
        "imagee4 = cv2.imread(SS4)\n",
        "SS4_RGB_img = cv2.cvtColor(imagee4, cv2.COLOR_BGR2RGB)\n",
        "SS4_RGBimg1 =  np.array(SS4_RGB_img[1765:1766,1757:1758])  \n",
        "SS4_RGBimg2 =  np.array(SS4_RGB_img[1775:1776,1769:1770])  \n",
        "SS4_RGBimg3 =  np.array(SS4_RGB_img[1801:1802,1741:1742]) \n",
        "SS4_RGBimg4 =  np.array(SS4_RGB_img[1779:1780,1781:1782])   \n",
        "list_total_S4.append(SS4_RGBimg1)\n",
        "list_total_S4.append(SS4_RGBimg2)\n",
        "list_total_S4.append(SS4_RGBimg3)\n",
        "list_total_S4.append(SS4_RGBimg4)\n",
        "\n",
        "SS4_RGBimg5 =  np.array(SS4_RGB_img[1773:1774,2076:2077])  \n",
        "SS4_RGBimg6 =  np.array(SS4_RGB_img[1763:1764,2042:2043])  \n",
        "SS4_RGBimg7 =  np.array(SS4_RGB_img[1769:1770,2080:2081]) \n",
        "SS4_RGBimg8 =  np.array(SS4_RGB_img[1789:1790,2068:2069])   \n",
        "list_total_S44.append(SS4_RGBimg5)\n",
        "list_total_S44.append(SS4_RGBimg6)\n",
        "list_total_S44.append(SS4_RGBimg7)\n",
        "list_total_S44.append(SS4_RGBimg8)"
      ],
      "metadata": {
        "id": "2leqwytng4Et"
      },
      "execution_count": null,
      "outputs": []
    },
    {
      "cell_type": "code",
      "source": [
        "list_total_S4"
      ],
      "metadata": {
        "id": "P-qLgLlKhCHJ"
      },
      "execution_count": null,
      "outputs": []
    },
    {
      "cell_type": "code",
      "source": [
        "list_total_S44"
      ],
      "metadata": {
        "id": "9L_lEWgViGBu"
      },
      "execution_count": null,
      "outputs": []
    }
  ]
}