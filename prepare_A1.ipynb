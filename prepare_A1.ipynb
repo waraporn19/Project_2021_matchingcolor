{
  "nbformat": 4,
  "nbformat_minor": 0,
  "metadata": {
    "colab": {
      "name": "prepare_A1.ipynb",
      "provenance": [],
      "include_colab_link": true
    },
    "kernelspec": {
      "name": "python3",
      "display_name": "Python 3"
    },
    "language_info": {
      "name": "python"
    }
  },
  "cells": [
    {
      "cell_type": "markdown",
      "metadata": {
        "id": "view-in-github",
        "colab_type": "text"
      },
      "source": [
        "<a href=\"https://colab.research.google.com/github/waraporn19/Project_2021_matchingcolor/blob/main/prepare_A1.ipynb\" target=\"_parent\"><img src=\"https://colab.research.google.com/assets/colab-badge.svg\" alt=\"Open In Colab\"/></a>"
      ]
    },
    {
      "cell_type": "code",
      "metadata": {
        "id": "drOKqbUE2PnQ"
      },
      "source": [
        "import pandas as pd"
      ],
      "execution_count": 5,
      "outputs": []
    },
    {
      "cell_type": "code",
      "metadata": {
        "id": "O7x0j_3c2Pjr"
      },
      "source": [
        "from google.colab import drive \n",
        "drive.mount('/content/drive')"
      ],
      "execution_count": null,
      "outputs": []
    },
    {
      "cell_type": "code",
      "metadata": {
        "id": "lsGPiAcg2Pa7"
      },
      "source": [
        "import os"
      ],
      "execution_count": null,
      "outputs": []
    },
    {
      "cell_type": "code",
      "metadata": {
        "id": "xGv3Ax6o251w"
      },
      "source": [
        "path = '/content/drive/My Drive/shadeimg'"
      ],
      "execution_count": null,
      "outputs": []
    },
    {
      "cell_type": "code",
      "metadata": {
        "id": "DK3-qllN3Huu"
      },
      "source": [
        "os.listdir(path)"
      ],
      "execution_count": null,
      "outputs": []
    },
    {
      "cell_type": "code",
      "metadata": {
        "id": "qnyateeBbpSP"
      },
      "source": [
        "!pip install azure-storage-blob==2.1.0"
      ],
      "execution_count": null,
      "outputs": []
    },
    {
      "cell_type": "code",
      "metadata": {
        "id": "uZRZcO80cxBH"
      },
      "source": [
        "from azure.storage.blob import BlockBlobService\n",
        "import os"
      ],
      "execution_count": null,
      "outputs": []
    },
    {
      "cell_type": "code",
      "metadata": {
        "id": "tJVMV5DMcyJT"
      },
      "source": [
        "blob_service_client = BlockBlobService(account_name='dent01', account_key='CuShY0B4TZJ84TjzPpaHxyrHOpO73aGXeCpdVq7x26OjIlQ1HOz+3DVc9pDEj9BdcEL8odFuTRF0mOAE+aCgiw==')"
      ],
      "execution_count": null,
      "outputs": []
    },
    {
      "cell_type": "markdown",
      "metadata": {
        "id": "nNqTWrPIc2qX"
      },
      "source": [
        "#1.สร้างตัวแปรเฉดไกด์"
      ]
    },
    {
      "cell_type": "markdown",
      "metadata": {
        "id": "Gx-nvNvXdCDu"
      },
      "source": [
        "##Set1"
      ]
    },
    {
      "cell_type": "code",
      "metadata": {
        "id": "PvY9HB-hc96t"
      },
      "source": [
        "S1_doubleA1A1_1 = '219558E6-E67A-4672-9E46-3D084D0D2032.png'\n",
        "S1_doubleA1A2_1 = '3E2D92F5-C039-4375-8801-7177CE0C110B.png'\n",
        "S1_doubleA1A3_1 = '7EE62CC1-C35A-4BD5-8B99-7A02F504FB92.png'\n",
        "S1_doubleA1A3_51 = '630B56EB-1A02-4C39-8E72-401279881303.png'\n",
        "S1_doubleA1A4_1 = '91D7D709-F23E-4AE3-A0A2-A445F61D67EB.png'\n",
        "S1_doubleA1B1_1 = '7F841DFC-287B-41C2-A4F5-49FA7331CBB0.png'\n",
        "S1_doubleA1B2_1 = 'C845B358-A745-4A47-BEED-A31BE9B2229C.png'\n",
        "S1_doubleA1B3_1 = '3AA52381-B0B1-4EB5-9A71-A6A514AF1F79.png'\n",
        "S1_doubleA1B4_1 = '492C2452-03B4-409A-B1EF-D3C0C7854512.png'\n",
        "S1_doubleA1C1_1 = 'ABB4CCA8-A40F-44E3-9181-2516DB231774.png'\n",
        "S1_doubleA1C2_1 = 'EC0C76AB-82FB-47F1-A4A9-EC9536A007D0.png'\n",
        "S1_doubleA1C3_1 = 'DEABE2EA-9BB9-415C-9F2C-994163642A74.png'\n",
        "S1_doubleA1C4_1 = 'BC123F06-33C9-4009-B381-3C58514DADB4.png'\n",
        "S1_doubleA1D2_1 = 'BA98E02C-01C7-4C92-BFF1-E5B9C8A2C12B.png'\n",
        "S1_doubleA1D3_1 = '0EFF075B-90D3-49EA-AB42-6118396846B9.png'\n",
        "S1_doubleA1D4_1 = '09B5108F-2B91-4CF9-8020-3A7689AA22F8.png'"
      ],
      "execution_count": null,
      "outputs": []
    },
    {
      "cell_type": "markdown",
      "metadata": {
        "id": "Z39xITwsdKL0"
      },
      "source": [
        "##Set2"
      ]
    },
    {
      "cell_type": "code",
      "metadata": {
        "id": "YQD6umVydO-P"
      },
      "source": [
        "S2_doubleA1A1_1 = '34F0629C-69B1-4125-85F4-7E496A7847A0.png'\n",
        "S2_doubleA1A2_1 = 'AEBFAF3C-11C4-4EF2-8260-5838F8F52013.png'\n",
        "S2_doubleA1A3_1 = 'CE6B785F-8B23-4F7D-8BB6-8E63EBC72E6C.png'\n",
        "S2_doubleA1A3_51 = '45233628-36DE-4FEE-B7CB-661E14EA313F.png'\n",
        "S2_doubleA1A4_1 = '1FBF4A8E-0006-44D2-9C08-61D87D8952A8.png'\n",
        "S2_doubleA1B1_1 = '1BFDB4C3-F7BE-4F15-B871-6B99CC85141B.png'\n",
        "S2_doubleA1B2_1 = '23C045CF-EE31-494D-8B99-BE985CE3725E.png'\n",
        "S2_doubleA1B3_1 = 'DBFDD2AC-0191-4C0D-AD17-0637A470462E.png'\n",
        "S2_doubleA1B4_1 = '56F27ADF-51AE-4EDB-828A-2F1C5F94583D.png'\n",
        "S2_doubleA1C1_1 = 'ABB8000F-17B5-47FB-85C2-716229841F14.png'\n",
        "S2_doubleA1C2_1 = 'A5FF2537-07B9-4280-BEBF-9D9E952E882B.png'\n",
        "S2_doubleA1C3_1 = '02CEA581-8594-4689-AB73-61778735FA7A.png'\n",
        "S2_doubleA1C4_1 = '4DCAC53D-53D8-4E07-A30F-8EAD67E34DA4.png'\n",
        "S2_doubleA1D2_1 = '79C85FCC-1A21-47FD-B903-3C9B74CB7A12.png'\n",
        "S2_doubleA1D3_1 = 'EB090E23-38A2-49E5-ACE0-C0F500AA9102.png'\n",
        "S2_doubleA1D4_1 = 'C69798C5-16B6-4A23-BD0A-0A6B4EC9B5CE.png'"
      ],
      "execution_count": null,
      "outputs": []
    },
    {
      "cell_type": "markdown",
      "metadata": {
        "id": "cKbTlQkYNhCv"
      },
      "source": [
        "##Set3"
      ]
    },
    {
      "cell_type": "code",
      "metadata": {
        "id": "did2o7PqIJyF"
      },
      "source": [
        "S3_doubleA1A1_1 = '6CF2D4E8-1C13-4476-96FB-D618BCB119B7.png'\n",
        "S3_doubleA1A2_1 = '464DBB6E-8D53-41EC-89E3-09269D750F86.png'\n",
        "S3_doubleA1A3_1 = '1D1C00BB-399B-4D94-80A1-3265036A98A8.png'\n",
        "S3_doubleA1A3_51 = 'C925DC00-E29E-47F6-9BB5-8C641EC1871C.png'\n",
        "S3_doubleA1A4_1 = '2E6D7DC3-E901-4470-9EC3-4EFB37E4C99C.png'\n",
        "S3_doubleA1B1_1 = 'B0254C1B-A034-453B-8194-23B84EDC85BB.png'\n",
        "S3_doubleA1B2_1 = 'CB28F551-0BCC-4650-80CE-0683F9345235.png'\n",
        "S3_doubleA1B3_1 = '0BAC5F9E-D191-44AC-906B-83F55EEE5408.png'\n",
        "S3_doubleA1B4_1 = '71D35775-7DD2-4B6E-9923-F369DD4C7122.png'\n",
        "S3_doubleA1C1_1 = '792DFC5D-B478-4676-88BF-B27DA22BCD00.png'\n",
        "S3_doubleA1C2_1 = '22CE3934-3E63-4B67-8414-1378D1E33513.png'\n",
        "S3_doubleA1C3_1 = '043D02F0-F919-42FC-900C-EA61D154F7F3.png'\n",
        "S3_doubleA1C4_1 = '6AA17A82-8A03-4963-AED4-F52CF63E955B.png'\n",
        "S3_doubleA1D2_1 = 'E6696409-77B9-44AF-B6F8-4A4F0A0337DD.png'\n",
        "S3_doubleA1D3_1 = '7C182FF2-8AB9-46AC-8DC5-479ECDA47B76.png'\n",
        "S3_doubleA1D4_1 = 'EF26E1BB-3878-4366-8F27-1D0E712AFC27.png'"
      ],
      "execution_count": null,
      "outputs": []
    },
    {
      "cell_type": "markdown",
      "metadata": {
        "id": "XqAK-KJAIKhJ"
      },
      "source": [
        "##Set4"
      ]
    },
    {
      "cell_type": "code",
      "metadata": {
        "id": "kGBOLp-nN2D5"
      },
      "source": [
        "S4_doubleA1A1_1 = 'C3752024-70F6-407B-B596-E214E55D43EB.png'\n",
        "S4_doubleA1A2_1 = '953E3485-ACFA-4EDA-B270-F9AA84853C94.png'\n",
        "S4_doubleA1A3_1 = '83B80683-3A06-474F-90E6-62391CB7A3F6.png'\n",
        "S4_doubleA1A3_51 = '01BD2023-D6A1-4AAA-A5A6-F507208F8E54.png'\n",
        "S4_doubleA1A4_1 = '372CFE56-E625-434C-A2DC-0FEEB167DDBA.png'\n",
        "S4_doubleA1B1_1 = '35484F9C-7BCF-4C31-A381-CCC85035B5FE.png'\n",
        "S4_doubleA1B2_1 = '29140CD3-A1A5-448C-B825-7BCBA9431B85.png'\n",
        "S4_doubleA1B3_1 = '123A90E7-21CE-4D56-B992-62F16D74A8FE.png'\n",
        "S4_doubleA1B4_1 = 'E561F380-5A2D-496F-B9F3-4B9907F020D6.png'\n",
        "S4_doubleA1C1_1 = 'F3E98998-3329-49D5-8439-80F6AF00BFE3.png'\n",
        "S4_doubleA1C2_1 = '56D069F6-8B47-48B3-9C6E-25AD8751779A.png'\n",
        "S4_doubleA1C3_1 = '2F670532-3760-42FC-A982-1670FEE99E66.png'\n",
        "S4_doubleA1C4_1 = 'A40A09DE-DC0F-4A00-A891-F3D66A2F7CB5.png'\n",
        "S4_doubleA1D2_1 = 'E4566E8E-9E0D-4531-9712-5B47AE5386DE.png'\n",
        "S4_doubleA1D3_1 = '23C5E347-A9A1-466C-917D-E969268302DA.png'\n",
        "S4_doubleA1D4_1 = 'EFB719A3-D16E-42A3-861D-363E24755F58.png'"
      ],
      "execution_count": null,
      "outputs": []
    },
    {
      "cell_type": "markdown",
      "metadata": {
        "id": "Taw1dl5xglaj"
      },
      "source": [
        "#2. ดึงรูป"
      ]
    },
    {
      "cell_type": "code",
      "metadata": {
        "id": "jPe2WlLY4J0n"
      },
      "source": [
        "import cv2\n",
        "from matplotlib import pyplot as plt #การเรียกใช้คำสั่ง matplotlib เพื่อวาดกราฟ โดยแทนชื่อ matplotlib ด้วย plt\n",
        "import matplotlib"
      ],
      "execution_count": null,
      "outputs": []
    },
    {
      "cell_type": "markdown",
      "metadata": {
        "id": "7Gl_H8idgnRf"
      },
      "source": [
        "##Set1"
      ]
    },
    {
      "cell_type": "code",
      "metadata": {
        "id": "s7mF6eEHiQ19"
      },
      "source": [
        "full_path_to_file2 = os.path.join(S1_doubleA1A1_1) \n",
        "blob_service_client.get_blob_to_path('shadeimg', full_path_to_file2, full_path_to_file2)"
      ],
      "execution_count": null,
      "outputs": []
    },
    {
      "cell_type": "code",
      "metadata": {
        "id": "kzMKB_OniZY1"
      },
      "source": [
        "full_path_to_file2 = os.path.join(S1_doubleA1A2_1) \n",
        "blob_service_client.get_blob_to_path('shadeimg', full_path_to_file2, full_path_to_file2)"
      ],
      "execution_count": null,
      "outputs": []
    },
    {
      "cell_type": "code",
      "metadata": {
        "id": "IkeC-Fivih3w"
      },
      "source": [
        "full_path_to_file2 = os.path.join(S1_doubleA1A3_1) \n",
        "blob_service_client.get_blob_to_path('shadeimg', full_path_to_file2, full_path_to_file2)"
      ],
      "execution_count": null,
      "outputs": []
    },
    {
      "cell_type": "code",
      "metadata": {
        "id": "3Y9aMJj6ij5n"
      },
      "source": [
        "full_path_to_file2 = os.path.join(S1_doubleA1A3_51) \n",
        "blob_service_client.get_blob_to_path('shadeimg', full_path_to_file2, full_path_to_file2)"
      ],
      "execution_count": null,
      "outputs": []
    },
    {
      "cell_type": "code",
      "metadata": {
        "id": "yrJq8907iuoY"
      },
      "source": [
        "full_path_to_file2 = os.path.join(S1_doubleA1A4_1) \n",
        "blob_service_client.get_blob_to_path('shadeimg', full_path_to_file2, full_path_to_file2)"
      ],
      "execution_count": null,
      "outputs": []
    },
    {
      "cell_type": "code",
      "metadata": {
        "id": "0VJcKHW2i0Ac"
      },
      "source": [
        "full_path_to_file2 = os.path.join(S1_doubleA1B1_1) \n",
        "blob_service_client.get_blob_to_path('shadeimg', full_path_to_file2, full_path_to_file2)"
      ],
      "execution_count": null,
      "outputs": []
    },
    {
      "cell_type": "code",
      "metadata": {
        "id": "hY3AI9RFi0Ad"
      },
      "source": [
        "full_path_to_file2 = os.path.join(S1_doubleA1B2_1) \n",
        "blob_service_client.get_blob_to_path('shadeimg', full_path_to_file2, full_path_to_file2)"
      ],
      "execution_count": null,
      "outputs": []
    },
    {
      "cell_type": "code",
      "metadata": {
        "id": "GApmsAnKi0Ad"
      },
      "source": [
        "full_path_to_file2 = os.path.join(S1_doubleA1B3_1) \n",
        "blob_service_client.get_blob_to_path('shadeimg', full_path_to_file2, full_path_to_file2)"
      ],
      "execution_count": null,
      "outputs": []
    },
    {
      "cell_type": "code",
      "metadata": {
        "id": "O1h96HYqi7cu"
      },
      "source": [
        "full_path_to_file2 = os.path.join(S1_doubleA1B4_1) \n",
        "blob_service_client.get_blob_to_path('shadeimg', full_path_to_file2, full_path_to_file2)"
      ],
      "execution_count": null,
      "outputs": []
    },
    {
      "cell_type": "code",
      "metadata": {
        "id": "RsMHbknqi_fT"
      },
      "source": [
        "full_path_to_file2 = os.path.join(S1_doubleA1C1_1) \n",
        "blob_service_client.get_blob_to_path('shadeimg', full_path_to_file2, full_path_to_file2)"
      ],
      "execution_count": null,
      "outputs": []
    },
    {
      "cell_type": "code",
      "metadata": {
        "id": "wI0oZemgi_fT"
      },
      "source": [
        "full_path_to_file2 = os.path.join(S1_doubleA1C2_1) \n",
        "blob_service_client.get_blob_to_path('shadeimg', full_path_to_file2, full_path_to_file2)"
      ],
      "execution_count": null,
      "outputs": []
    },
    {
      "cell_type": "code",
      "metadata": {
        "id": "6ga7nGGti_fT"
      },
      "source": [
        "full_path_to_file2 = os.path.join(S1_doubleA1C3_1) \n",
        "blob_service_client.get_blob_to_path('shadeimg', full_path_to_file2, full_path_to_file2)"
      ],
      "execution_count": null,
      "outputs": []
    },
    {
      "cell_type": "code",
      "metadata": {
        "id": "nsiPutfEi_fU"
      },
      "source": [
        "full_path_to_file2 = os.path.join(S1_doubleA1C4_1) \n",
        "blob_service_client.get_blob_to_path('shadeimg', full_path_to_file2, full_path_to_file2)"
      ],
      "execution_count": null,
      "outputs": []
    },
    {
      "cell_type": "code",
      "metadata": {
        "id": "IlqllUIljGVj"
      },
      "source": [
        "full_path_to_file2 = os.path.join(S1_doubleA1D2_1) \n",
        "blob_service_client.get_blob_to_path('shadeimg', full_path_to_file2, full_path_to_file2)"
      ],
      "execution_count": null,
      "outputs": []
    },
    {
      "cell_type": "code",
      "metadata": {
        "id": "jXXF16lsjGVj"
      },
      "source": [
        "full_path_to_file2 = os.path.join(S1_doubleA1D3_1) \n",
        "blob_service_client.get_blob_to_path('shadeimg', full_path_to_file2, full_path_to_file2)"
      ],
      "execution_count": null,
      "outputs": []
    },
    {
      "cell_type": "code",
      "metadata": {
        "id": "xRA_M-1PjGVj"
      },
      "source": [
        "full_path_to_file2 = os.path.join(S1_doubleA1D4_1) \n",
        "blob_service_client.get_blob_to_path('shadeimg', full_path_to_file2, full_path_to_file2)"
      ],
      "execution_count": null,
      "outputs": []
    },
    {
      "cell_type": "markdown",
      "metadata": {
        "id": "JmfKq8t7j28g"
      },
      "source": [
        "##Set2"
      ]
    },
    {
      "cell_type": "code",
      "metadata": {
        "id": "YG9ON04Hj7na"
      },
      "source": [
        "full_path_to_file2 = os.path.join(S2_doubleA1A1_1) \n",
        "blob_service_client.get_blob_to_path('shadeimg', full_path_to_file2, full_path_to_file2)"
      ],
      "execution_count": null,
      "outputs": []
    },
    {
      "cell_type": "code",
      "metadata": {
        "id": "fpIQGSx4j7na"
      },
      "source": [
        "full_path_to_file2 = os.path.join(S2_doubleA1A2_1) \n",
        "blob_service_client.get_blob_to_path('shadeimg', full_path_to_file2, full_path_to_file2)"
      ],
      "execution_count": null,
      "outputs": []
    },
    {
      "cell_type": "code",
      "metadata": {
        "id": "0vETkmqzj7na"
      },
      "source": [
        "full_path_to_file2 = os.path.join(S2_doubleA1A3_1) \n",
        "blob_service_client.get_blob_to_path('shadeimg', full_path_to_file2, full_path_to_file2)"
      ],
      "execution_count": null,
      "outputs": []
    },
    {
      "cell_type": "code",
      "metadata": {
        "id": "l1GlwzPqj7nb"
      },
      "source": [
        "full_path_to_file2 = os.path.join(S2_doubleA1A3_51) \n",
        "blob_service_client.get_blob_to_path('shadeimg', full_path_to_file2, full_path_to_file2)"
      ],
      "execution_count": null,
      "outputs": []
    },
    {
      "cell_type": "code",
      "metadata": {
        "id": "qb0jvIuNj7nb"
      },
      "source": [
        "full_path_to_file2 = os.path.join(S2_doubleA1A4_1) \n",
        "blob_service_client.get_blob_to_path('shadeimg', full_path_to_file2, full_path_to_file2)"
      ],
      "execution_count": null,
      "outputs": []
    },
    {
      "cell_type": "code",
      "metadata": {
        "id": "lvYoBM2Lj7nb"
      },
      "source": [
        "full_path_to_file2 = os.path.join(S2_doubleA1B1_1) \n",
        "blob_service_client.get_blob_to_path('shadeimg', full_path_to_file2, full_path_to_file2)"
      ],
      "execution_count": null,
      "outputs": []
    },
    {
      "cell_type": "code",
      "metadata": {
        "id": "cWIIfSkgj7nb"
      },
      "source": [
        "full_path_to_file2 = os.path.join(S2_doubleA1B2_1) \n",
        "blob_service_client.get_blob_to_path('shadeimg', full_path_to_file2, full_path_to_file2)"
      ],
      "execution_count": null,
      "outputs": []
    },
    {
      "cell_type": "code",
      "metadata": {
        "id": "xWiyHdd1j7nb"
      },
      "source": [
        "full_path_to_file2 = os.path.join(S2_doubleA1B3_1) \n",
        "blob_service_client.get_blob_to_path('shadeimg', full_path_to_file2, full_path_to_file2)"
      ],
      "execution_count": null,
      "outputs": []
    },
    {
      "cell_type": "code",
      "metadata": {
        "id": "blRYp5Mmj7nc"
      },
      "source": [
        "full_path_to_file2 = os.path.join(S2_doubleA1B4_1) \n",
        "blob_service_client.get_blob_to_path('shadeimg', full_path_to_file2, full_path_to_file2)"
      ],
      "execution_count": null,
      "outputs": []
    },
    {
      "cell_type": "code",
      "metadata": {
        "id": "BzHII9hsj7nc"
      },
      "source": [
        "full_path_to_file2 = os.path.join(S2_doubleA1C1_1) \n",
        "blob_service_client.get_blob_to_path('shadeimg', full_path_to_file2, full_path_to_file2)"
      ],
      "execution_count": null,
      "outputs": []
    },
    {
      "cell_type": "code",
      "metadata": {
        "id": "86smhxkzj7nc"
      },
      "source": [
        "full_path_to_file2 = os.path.join(S2_doubleA1C2_1) \n",
        "blob_service_client.get_blob_to_path('shadeimg', full_path_to_file2, full_path_to_file2)"
      ],
      "execution_count": null,
      "outputs": []
    },
    {
      "cell_type": "code",
      "metadata": {
        "id": "bUBV2WtFj7nc"
      },
      "source": [
        "full_path_to_file2 = os.path.join(S2_doubleA1C3_1) \n",
        "blob_service_client.get_blob_to_path('shadeimg', full_path_to_file2, full_path_to_file2)"
      ],
      "execution_count": null,
      "outputs": []
    },
    {
      "cell_type": "code",
      "metadata": {
        "id": "FKzepKgNj7nc"
      },
      "source": [
        "full_path_to_file2 = os.path.join(S2_doubleA1C4_1) \n",
        "blob_service_client.get_blob_to_path('shadeimg', full_path_to_file2, full_path_to_file2)"
      ],
      "execution_count": null,
      "outputs": []
    },
    {
      "cell_type": "code",
      "metadata": {
        "id": "YnvzMa_oj7nc"
      },
      "source": [
        "full_path_to_file2 = os.path.join(S2_doubleA1D2_1) \n",
        "blob_service_client.get_blob_to_path('shadeimg', full_path_to_file2, full_path_to_file2)"
      ],
      "execution_count": null,
      "outputs": []
    },
    {
      "cell_type": "code",
      "metadata": {
        "id": "03OpE9BUj7nd"
      },
      "source": [
        "full_path_to_file2 = os.path.join(S2_doubleA1D3_1) \n",
        "blob_service_client.get_blob_to_path('shadeimg', full_path_to_file2, full_path_to_file2)"
      ],
      "execution_count": null,
      "outputs": []
    },
    {
      "cell_type": "code",
      "metadata": {
        "id": "khY3eumjj7nd"
      },
      "source": [
        "full_path_to_file2 = os.path.join(S2_doubleA1D4_1) \n",
        "blob_service_client.get_blob_to_path('shadeimg', full_path_to_file2, full_path_to_file2)"
      ],
      "execution_count": null,
      "outputs": []
    },
    {
      "cell_type": "code",
      "metadata": {
        "id": "T70mbZfcNo6q"
      },
      "source": [
        ""
      ],
      "execution_count": null,
      "outputs": []
    },
    {
      "cell_type": "markdown",
      "metadata": {
        "id": "Q3_Me1CGkKOR"
      },
      "source": [
        "##Set3"
      ]
    },
    {
      "cell_type": "code",
      "metadata": {
        "id": "rEVmkmEHkP6w"
      },
      "source": [
        "full_path_to_file2 = os.path.join(S3_doubleA1A1_1) \n",
        "blob_service_client.get_blob_to_path('shadeimg', full_path_to_file2, full_path_to_file2)"
      ],
      "execution_count": null,
      "outputs": []
    },
    {
      "cell_type": "code",
      "metadata": {
        "id": "E2zB9r0nkP6w"
      },
      "source": [
        "full_path_to_file2 = os.path.join(S3_doubleA1A2_1) \n",
        "blob_service_client.get_blob_to_path('shadeimg', full_path_to_file2, full_path_to_file2)"
      ],
      "execution_count": null,
      "outputs": []
    },
    {
      "cell_type": "code",
      "metadata": {
        "id": "khquyJtfkP6w"
      },
      "source": [
        "full_path_to_file2 = os.path.join(S3_doubleA1A3_1) \n",
        "blob_service_client.get_blob_to_path('shadeimg', full_path_to_file2, full_path_to_file2)"
      ],
      "execution_count": null,
      "outputs": []
    },
    {
      "cell_type": "code",
      "metadata": {
        "id": "g30DpucakP6w"
      },
      "source": [
        "full_path_to_file2 = os.path.join(S3_doubleA1A3_51) \n",
        "blob_service_client.get_blob_to_path('shadeimg', full_path_to_file2, full_path_to_file2)"
      ],
      "execution_count": null,
      "outputs": []
    },
    {
      "cell_type": "code",
      "metadata": {
        "id": "to8VKPf7kP6x"
      },
      "source": [
        "full_path_to_file2 = os.path.join(S3_doubleA1A4_1) \n",
        "blob_service_client.get_blob_to_path('shadeimg', full_path_to_file2, full_path_to_file2)"
      ],
      "execution_count": null,
      "outputs": []
    },
    {
      "cell_type": "code",
      "metadata": {
        "id": "kPdx-IstkP6x"
      },
      "source": [
        "full_path_to_file2 = os.path.join(S3_doubleA1B1_1) \n",
        "blob_service_client.get_blob_to_path('shadeimg', full_path_to_file2, full_path_to_file2)"
      ],
      "execution_count": null,
      "outputs": []
    },
    {
      "cell_type": "code",
      "metadata": {
        "id": "ihyLdsa6kP6x"
      },
      "source": [
        "full_path_to_file2 = os.path.join(S3_doubleA1B2_1) \n",
        "blob_service_client.get_blob_to_path('shadeimg', full_path_to_file2, full_path_to_file2)"
      ],
      "execution_count": null,
      "outputs": []
    },
    {
      "cell_type": "code",
      "metadata": {
        "id": "1SnnyHPPkP6x"
      },
      "source": [
        "full_path_to_file2 = os.path.join(S3_doubleA1B3_1) \n",
        "blob_service_client.get_blob_to_path('shadeimg', full_path_to_file2, full_path_to_file2)"
      ],
      "execution_count": null,
      "outputs": []
    },
    {
      "cell_type": "code",
      "metadata": {
        "id": "GtNbhDGtkP6y"
      },
      "source": [
        "full_path_to_file2 = os.path.join(S3_doubleA1B4_1) \n",
        "blob_service_client.get_blob_to_path('shadeimg', full_path_to_file2, full_path_to_file2)"
      ],
      "execution_count": null,
      "outputs": []
    },
    {
      "cell_type": "code",
      "metadata": {
        "id": "lTqSTkX8kP6y"
      },
      "source": [
        "full_path_to_file2 = os.path.join(S3_doubleA1C1_1) \n",
        "blob_service_client.get_blob_to_path('shadeimg', full_path_to_file2, full_path_to_file2)"
      ],
      "execution_count": null,
      "outputs": []
    },
    {
      "cell_type": "code",
      "metadata": {
        "id": "MFPbxYuSkP6y"
      },
      "source": [
        "full_path_to_file2 = os.path.join(S3_doubleA1C2_1) \n",
        "blob_service_client.get_blob_to_path('shadeimg', full_path_to_file2, full_path_to_file2)"
      ],
      "execution_count": null,
      "outputs": []
    },
    {
      "cell_type": "code",
      "metadata": {
        "id": "v9bYx36OkP6y"
      },
      "source": [
        "full_path_to_file2 = os.path.join(S3_doubleA1C3_1) \n",
        "blob_service_client.get_blob_to_path('shadeimg', full_path_to_file2, full_path_to_file2)"
      ],
      "execution_count": null,
      "outputs": []
    },
    {
      "cell_type": "code",
      "metadata": {
        "id": "RfK5JrGhkP6y"
      },
      "source": [
        "full_path_to_file2 = os.path.join(S3_doubleA1C4_1) \n",
        "blob_service_client.get_blob_to_path('shadeimg', full_path_to_file2, full_path_to_file2)"
      ],
      "execution_count": null,
      "outputs": []
    },
    {
      "cell_type": "code",
      "metadata": {
        "id": "O2jZnO3RkP6y"
      },
      "source": [
        "full_path_to_file2 = os.path.join(S3_doubleA1D2_1) \n",
        "blob_service_client.get_blob_to_path('shadeimg', full_path_to_file2, full_path_to_file2)"
      ],
      "execution_count": null,
      "outputs": []
    },
    {
      "cell_type": "code",
      "metadata": {
        "id": "kFiVo-PUkP6z"
      },
      "source": [
        "full_path_to_file2 = os.path.join(S3_doubleA1D3_1) \n",
        "blob_service_client.get_blob_to_path('shadeimg', full_path_to_file2, full_path_to_file2)"
      ],
      "execution_count": null,
      "outputs": []
    },
    {
      "cell_type": "code",
      "metadata": {
        "id": "b3f1LDx1kP6z"
      },
      "source": [
        "full_path_to_file2 = os.path.join(S3_doubleA1D4_1) \n",
        "blob_service_client.get_blob_to_path('shadeimg', full_path_to_file2, full_path_to_file2)"
      ],
      "execution_count": null,
      "outputs": []
    },
    {
      "cell_type": "markdown",
      "metadata": {
        "id": "2-qqdDCqkLii"
      },
      "source": [
        "##Set4"
      ]
    },
    {
      "cell_type": "code",
      "metadata": {
        "id": "4E1UeuklpZx4"
      },
      "source": [
        "full_path_to_file2 = os.path.join(S4_doubleA1A1_1) \n",
        "blob_service_client.get_blob_to_path('shadeimg', full_path_to_file2, full_path_to_file2)"
      ],
      "execution_count": null,
      "outputs": []
    },
    {
      "cell_type": "code",
      "metadata": {
        "id": "VfaCxfJjpZx5"
      },
      "source": [
        "full_path_to_file2 = os.path.join(S4_doubleA1A2_1) \n",
        "blob_service_client.get_blob_to_path('shadeimg', full_path_to_file2, full_path_to_file2)"
      ],
      "execution_count": null,
      "outputs": []
    },
    {
      "cell_type": "code",
      "metadata": {
        "id": "3zFh2y2IpZx5"
      },
      "source": [
        "full_path_to_file2 = os.path.join(S4_doubleA1A3_1) \n",
        "blob_service_client.get_blob_to_path('shadeimg', full_path_to_file2, full_path_to_file2)"
      ],
      "execution_count": null,
      "outputs": []
    },
    {
      "cell_type": "code",
      "metadata": {
        "id": "X_rktcv8pZx5"
      },
      "source": [
        "full_path_to_file2 = os.path.join(S4_doubleA1A3_51) \n",
        "blob_service_client.get_blob_to_path('shadeimg', full_path_to_file2, full_path_to_file2)"
      ],
      "execution_count": null,
      "outputs": []
    },
    {
      "cell_type": "code",
      "metadata": {
        "id": "m59vf9VfpZx5"
      },
      "source": [
        "full_path_to_file2 = os.path.join(S4_doubleA1A4_1) \n",
        "blob_service_client.get_blob_to_path('shadeimg', full_path_to_file2, full_path_to_file2)"
      ],
      "execution_count": null,
      "outputs": []
    },
    {
      "cell_type": "code",
      "metadata": {
        "id": "D_5Yd3w7pZx6"
      },
      "source": [
        "full_path_to_file2 = os.path.join(S4_doubleA1B1_1) \n",
        "blob_service_client.get_blob_to_path('shadeimg', full_path_to_file2, full_path_to_file2)"
      ],
      "execution_count": null,
      "outputs": []
    },
    {
      "cell_type": "code",
      "metadata": {
        "id": "RHWuivGUpZx6"
      },
      "source": [
        "full_path_to_file2 = os.path.join(S4_doubleA1B2_1) \n",
        "blob_service_client.get_blob_to_path('shadeimg', full_path_to_file2, full_path_to_file2)"
      ],
      "execution_count": null,
      "outputs": []
    },
    {
      "cell_type": "code",
      "metadata": {
        "id": "G5lF8IhzpZx6"
      },
      "source": [
        "full_path_to_file2 = os.path.join(S4_doubleA1B3_1) \n",
        "blob_service_client.get_blob_to_path('shadeimg', full_path_to_file2, full_path_to_file2)"
      ],
      "execution_count": null,
      "outputs": []
    },
    {
      "cell_type": "code",
      "metadata": {
        "id": "N9xFdoP7pZx6"
      },
      "source": [
        "full_path_to_file2 = os.path.join(S4_doubleA1B4_1) \n",
        "blob_service_client.get_blob_to_path('shadeimg', full_path_to_file2, full_path_to_file2)"
      ],
      "execution_count": null,
      "outputs": []
    },
    {
      "cell_type": "code",
      "metadata": {
        "id": "1dH05CslpZx6"
      },
      "source": [
        "full_path_to_file2 = os.path.join(S4_doubleA1C1_1) \n",
        "blob_service_client.get_blob_to_path('shadeimg', full_path_to_file2, full_path_to_file2)"
      ],
      "execution_count": null,
      "outputs": []
    },
    {
      "cell_type": "code",
      "metadata": {
        "id": "BWLm1RmLpZx7"
      },
      "source": [
        "full_path_to_file2 = os.path.join(S4_doubleA1C2_1) \n",
        "blob_service_client.get_blob_to_path('shadeimg', full_path_to_file2, full_path_to_file2)"
      ],
      "execution_count": null,
      "outputs": []
    },
    {
      "cell_type": "code",
      "metadata": {
        "id": "yvYHkKPYpZx7"
      },
      "source": [
        "full_path_to_file2 = os.path.join(S4_doubleA1C3_1) \n",
        "blob_service_client.get_blob_to_path('shadeimg', full_path_to_file2, full_path_to_file2)"
      ],
      "execution_count": null,
      "outputs": []
    },
    {
      "cell_type": "code",
      "metadata": {
        "id": "XCLVoapQpZx7"
      },
      "source": [
        "full_path_to_file2 = os.path.join(S4_doubleA1C4_1) \n",
        "blob_service_client.get_blob_to_path('shadeimg', full_path_to_file2, full_path_to_file2)"
      ],
      "execution_count": null,
      "outputs": []
    },
    {
      "cell_type": "code",
      "metadata": {
        "id": "T99mwTaZpZx7"
      },
      "source": [
        "full_path_to_file2 = os.path.join(S4_doubleA1D2_1) \n",
        "blob_service_client.get_blob_to_path('shadeimg', full_path_to_file2, full_path_to_file2)"
      ],
      "execution_count": null,
      "outputs": []
    },
    {
      "cell_type": "code",
      "metadata": {
        "id": "vf1xxPF3pZx7"
      },
      "source": [
        "full_path_to_file2 = os.path.join(S4_doubleA1D3_1) \n",
        "blob_service_client.get_blob_to_path('shadeimg', full_path_to_file2, full_path_to_file2)"
      ],
      "execution_count": null,
      "outputs": []
    },
    {
      "cell_type": "code",
      "metadata": {
        "id": "ThZA9xm3pZx8"
      },
      "source": [
        "full_path_to_file2 = os.path.join(S4_doubleA1D4_1) \n",
        "blob_service_client.get_blob_to_path('shadeimg', full_path_to_file2, full_path_to_file2)"
      ],
      "execution_count": null,
      "outputs": []
    },
    {
      "cell_type": "markdown",
      "metadata": {
        "id": "MtmXOojtqN4x"
      },
      "source": [
        "#3. BGR to RGB"
      ]
    },
    {
      "cell_type": "code",
      "metadata": {
        "id": "s8SS5YJfrpRC"
      },
      "source": [
        "import cv2\n",
        "from matplotlib import pyplot as plt #การเรียกใช้คำสั่ง matplotlib เพื่อวาดกราฟ โดยแทนชื่อ matplotlib ด้วย plt\n",
        "import matplotlib"
      ],
      "execution_count": null,
      "outputs": []
    },
    {
      "cell_type": "markdown",
      "metadata": {
        "id": "tngQqkwA41EB"
      },
      "source": [
        "##Set1"
      ]
    },
    {
      "cell_type": "code",
      "metadata": {
        "id": "pjV8Jh9u4VyJ"
      },
      "source": [
        "imgS1_A1A1_1  = cv2.imread(S1_doubleA1A1_1)\n",
        "S1RGB_imgA1A1_1= cv2.cvtColor(imgS1_A1A1_1, cv2.COLOR_BGR2RGB)"
      ],
      "execution_count": null,
      "outputs": []
    },
    {
      "cell_type": "code",
      "metadata": {
        "id": "Ixg-SNyU46Lp"
      },
      "source": [
        "imgS1_A1A2_1  = cv2.imread(S1_doubleA1A2_1)\n",
        "S1RGB_imgA1A2_1= cv2.cvtColor(imgS1_A1A2_1, cv2.COLOR_BGR2RGB)"
      ],
      "execution_count": null,
      "outputs": []
    },
    {
      "cell_type": "code",
      "metadata": {
        "id": "a4-_mkF-4-te"
      },
      "source": [
        "imgS1_A1A3_1  = cv2.imread(S1_doubleA1A3_1)\n",
        "S1RGB_imgA1A3_1= cv2.cvtColor(imgS1_A1A3_1, cv2.COLOR_BGR2RGB)"
      ],
      "execution_count": null,
      "outputs": []
    },
    {
      "cell_type": "code",
      "metadata": {
        "id": "uRs18zEK5EM3"
      },
      "source": [
        "imgS1_A1A3_51  = cv2.imread(S1_doubleA1A3_51)\n",
        "S1RGB_imgA1A3_51= cv2.cvtColor(imgS1_A1A3_51, cv2.COLOR_BGR2RGB)"
      ],
      "execution_count": null,
      "outputs": []
    },
    {
      "cell_type": "code",
      "metadata": {
        "id": "LCju5Eai5fV4"
      },
      "source": [
        "imgS1_A1A4_1  = cv2.imread(S1_doubleA1A4_1)\n",
        "S1RGB_imgA1A4_1= cv2.cvtColor(imgS1_A1A4_1, cv2.COLOR_BGR2RGB)"
      ],
      "execution_count": null,
      "outputs": []
    },
    {
      "cell_type": "code",
      "metadata": {
        "id": "sMwRM7yO5llo"
      },
      "source": [
        "imgS1_A1B1_1  = cv2.imread(S1_doubleA1B1_1)\n",
        "S1RGB_imgA1B1_1= cv2.cvtColor(imgS1_A1B1_1, cv2.COLOR_BGR2RGB)"
      ],
      "execution_count": null,
      "outputs": []
    },
    {
      "cell_type": "code",
      "metadata": {
        "id": "B8Efejup5llo"
      },
      "source": [
        "imgS1_A1B2_1  = cv2.imread(S1_doubleA1B2_1)\n",
        "S1RGB_imgA1B2_1= cv2.cvtColor(imgS1_A1B2_1, cv2.COLOR_BGR2RGB)"
      ],
      "execution_count": null,
      "outputs": []
    },
    {
      "cell_type": "code",
      "metadata": {
        "id": "j7fi0Nn95llo"
      },
      "source": [
        "imgS1_A1B3_1  = cv2.imread(S1_doubleA1A3_1)\n",
        "S1RGB_imgA1B3_1= cv2.cvtColor(imgS1_A1A3_1, cv2.COLOR_BGR2RGB)"
      ],
      "execution_count": null,
      "outputs": []
    },
    {
      "cell_type": "code",
      "metadata": {
        "id": "Hxs3fQUU5llp"
      },
      "source": [
        "imgS1_A1B4_1  = cv2.imread(S1_doubleA1B4_1)\n",
        "S1RGB_imgA1B4_1= cv2.cvtColor(imgS1_A1B4_1, cv2.COLOR_BGR2RGB)"
      ],
      "execution_count": null,
      "outputs": []
    },
    {
      "cell_type": "code",
      "metadata": {
        "id": "IaQDpBeS6Oa_"
      },
      "source": [
        "imgS1_A1C1_1  = cv2.imread(S1_doubleA1C1_1)\n",
        "S1RGB_imgA1C1_1= cv2.cvtColor(imgS1_A1C1_1, cv2.COLOR_BGR2RGB)"
      ],
      "execution_count": null,
      "outputs": []
    },
    {
      "cell_type": "code",
      "metadata": {
        "id": "wuQ_nyPB6Oa_"
      },
      "source": [
        "imgS1_A1C2_1  = cv2.imread(S1_doubleA1C2_1)\n",
        "S1RGB_imgA1C2_1= cv2.cvtColor(imgS1_A1C2_1, cv2.COLOR_BGR2RGB)"
      ],
      "execution_count": null,
      "outputs": []
    },
    {
      "cell_type": "code",
      "metadata": {
        "id": "wAdSVg_I6Oa_"
      },
      "source": [
        "imgS1_A1C3_1  = cv2.imread(S1_doubleA1C3_1)\n",
        "S1RGB_imgA1C3_1= cv2.cvtColor(imgS1_A1C3_1, cv2.COLOR_BGR2RGB)"
      ],
      "execution_count": null,
      "outputs": []
    },
    {
      "cell_type": "code",
      "metadata": {
        "id": "XeLavKSo6Oa_"
      },
      "source": [
        "imgS1_A1C4_1  = cv2.imread(S1_doubleA1C4_1)\n",
        "S1RGB_imgA1C4_1= cv2.cvtColor(imgS1_A1C4_1, cv2.COLOR_BGR2RGB)"
      ],
      "execution_count": null,
      "outputs": []
    },
    {
      "cell_type": "code",
      "metadata": {
        "id": "SP6HGOWx6hmP"
      },
      "source": [
        "imgS1_A1D2_1  = cv2.imread(S1_doubleA1D2_1)\n",
        "S1RGB_imgA1D2_1= cv2.cvtColor(imgS1_A1D2_1, cv2.COLOR_BGR2RGB)"
      ],
      "execution_count": null,
      "outputs": []
    },
    {
      "cell_type": "code",
      "metadata": {
        "id": "2d2cV-Ew6hmP"
      },
      "source": [
        "imgS1_A1D3_1  = cv2.imread(S1_doubleA1D3_1)\n",
        "S1RGB_imgA1D3_1= cv2.cvtColor(imgS1_A1D3_1, cv2.COLOR_BGR2RGB)"
      ],
      "execution_count": null,
      "outputs": []
    },
    {
      "cell_type": "code",
      "metadata": {
        "id": "doH48ypZ6hmQ"
      },
      "source": [
        "imgS1_A1D4_1  = cv2.imread(S1_doubleA1D4_1)\n",
        "S1RGB_imgA1D4_1= cv2.cvtColor(imgS1_A1D4_1, cv2.COLOR_BGR2RGB)\n"
      ],
      "execution_count": null,
      "outputs": []
    },
    {
      "cell_type": "markdown",
      "metadata": {
        "id": "1e2wD_qmN_0a"
      },
      "source": [
        "##Set2"
      ]
    },
    {
      "cell_type": "code",
      "metadata": {
        "id": "r2k_MxC66yPx"
      },
      "source": [
        "imgS2_A1A1_1  = cv2.imread(S2_doubleA1A1_1)\n",
        "S2RGB_imgA1A1_1= cv2.cvtColor(imgS2_A1A1_1, cv2.COLOR_BGR2RGB)"
      ],
      "execution_count": null,
      "outputs": []
    },
    {
      "cell_type": "code",
      "metadata": {
        "id": "MHAmt38Z6yPx"
      },
      "source": [
        "imgS2_A1A2_1  = cv2.imread(S2_doubleA1A2_1)\n",
        "S2RGB_imgA1A2_1= cv2.cvtColor(imgS2_A1A2_1, cv2.COLOR_BGR2RGB)"
      ],
      "execution_count": null,
      "outputs": []
    },
    {
      "cell_type": "code",
      "metadata": {
        "id": "6hh_c6Nz6yPx"
      },
      "source": [
        "imgS2_A1A3_1  = cv2.imread(S2_doubleA1A3_1)\n",
        "S2RGB_imgA1A3_1= cv2.cvtColor(imgS2_A1A3_1, cv2.COLOR_BGR2RGB)"
      ],
      "execution_count": null,
      "outputs": []
    },
    {
      "cell_type": "code",
      "metadata": {
        "id": "6yyCk-0x6yPx"
      },
      "source": [
        "imgS2_A1A3_51  = cv2.imread(S2_doubleA1A3_51)\n",
        "S2RGB_imgA1A3_51= cv2.cvtColor(imgS2_A1A3_51, cv2.COLOR_BGR2RGB)"
      ],
      "execution_count": null,
      "outputs": []
    },
    {
      "cell_type": "code",
      "metadata": {
        "id": "t6jh2NW16yPy"
      },
      "source": [
        "imgS2_A1A4_1  = cv2.imread(S2_doubleA1A4_1)\n",
        "S2RGB_imgA1A4_1= cv2.cvtColor(imgS2_A1A4_1, cv2.COLOR_BGR2RGB)"
      ],
      "execution_count": null,
      "outputs": []
    },
    {
      "cell_type": "code",
      "metadata": {
        "id": "lRHgF5pG6yPy"
      },
      "source": [
        "imgS2_A1B1_1  = cv2.imread(S2_doubleA1B1_1)\n",
        "S2RGB_imgA1B1_1= cv2.cvtColor(imgS2_A1B1_1, cv2.COLOR_BGR2RGB)"
      ],
      "execution_count": null,
      "outputs": []
    },
    {
      "cell_type": "code",
      "metadata": {
        "id": "P6XZGW0j6yPy"
      },
      "source": [
        "imgS2_A1B2_1  = cv2.imread(S2_doubleA1B2_1)\n",
        "S2RGB_imgA1B2_1= cv2.cvtColor(imgS2_A1B2_1, cv2.COLOR_BGR2RGB)"
      ],
      "execution_count": null,
      "outputs": []
    },
    {
      "cell_type": "code",
      "metadata": {
        "id": "5i4HMcmU6yPy"
      },
      "source": [
        "imgS2_A1B3_1  = cv2.imread(S2_doubleA1B3_1)\n",
        "S2RGB_imgA1B3_1= cv2.cvtColor(imgS2_A1B3_1, cv2.COLOR_BGR2RGB)"
      ],
      "execution_count": null,
      "outputs": []
    },
    {
      "cell_type": "code",
      "metadata": {
        "id": "DGJT9njO6yPy"
      },
      "source": [
        "imgS2_A1B4_1  = cv2.imread(S2_doubleA1B4_1)\n",
        "S2RGB_imgA1B4_1= cv2.cvtColor(imgS2_A1B4_1, cv2.COLOR_BGR2RGB)"
      ],
      "execution_count": null,
      "outputs": []
    },
    {
      "cell_type": "code",
      "metadata": {
        "id": "sBlmlDZT6yPz"
      },
      "source": [
        "imgS2_A1C1_1  = cv2.imread(S2_doubleA1C1_1)\n",
        "S2RGB_imgA1C1_1= cv2.cvtColor(imgS2_A1C1_1, cv2.COLOR_BGR2RGB)"
      ],
      "execution_count": null,
      "outputs": []
    },
    {
      "cell_type": "code",
      "metadata": {
        "id": "r06WNXcB6yPz"
      },
      "source": [
        "imgS2_A1C2_1  = cv2.imread(S2_doubleA1C2_1)\n",
        "S2RGB_imgA1C2_1= cv2.cvtColor(imgS2_A1C2_1, cv2.COLOR_BGR2RGB)"
      ],
      "execution_count": null,
      "outputs": []
    },
    {
      "cell_type": "code",
      "metadata": {
        "id": "_zK6PC_D6yPz"
      },
      "source": [
        "imgS2_A1C3_1  = cv2.imread(S2_doubleA1C3_1)\n",
        "S2RGB_imgA1C3_1= cv2.cvtColor(imgS2_A1C3_1, cv2.COLOR_BGR2RGB)"
      ],
      "execution_count": null,
      "outputs": []
    },
    {
      "cell_type": "code",
      "metadata": {
        "id": "tY93NDVF6yPz"
      },
      "source": [
        "imgS2_A1C4_1  = cv2.imread(S2_doubleA1C4_1)\n",
        "S2RGB_imgA1C4_1= cv2.cvtColor(imgS2_A1C4_1, cv2.COLOR_BGR2RGB)"
      ],
      "execution_count": null,
      "outputs": []
    },
    {
      "cell_type": "code",
      "metadata": {
        "id": "za8vrXfM6yPz"
      },
      "source": [
        "imgS2_A1D2_1  = cv2.imread(S2_doubleA1D2_1)\n",
        "S2RGB_imgA1D2_1= cv2.cvtColor(imgS2_A1D2_1, cv2.COLOR_BGR2RGB)"
      ],
      "execution_count": null,
      "outputs": []
    },
    {
      "cell_type": "code",
      "metadata": {
        "id": "m1SZS_Nk6yP0"
      },
      "source": [
        "imgS2_A1D3_1  = cv2.imread(S2_doubleA1D3_1)\n",
        "S2RGB_imgA1D3_1= cv2.cvtColor(imgS2_A1D3_1, cv2.COLOR_BGR2RGB)"
      ],
      "execution_count": null,
      "outputs": []
    },
    {
      "cell_type": "code",
      "metadata": {
        "id": "sAzPsG0Z6yP0"
      },
      "source": [
        "imgS2_A1D4_1  = cv2.imread(S2_doubleA1D4_1)\n",
        "S2RGB_imgA1D4_1= cv2.cvtColor(imgS2_A1D4_1, cv2.COLOR_BGR2RGB)"
      ],
      "execution_count": null,
      "outputs": []
    },
    {
      "cell_type": "markdown",
      "metadata": {
        "id": "NtWR59mM-IUS"
      },
      "source": [
        "##Set3"
      ]
    },
    {
      "cell_type": "code",
      "metadata": {
        "id": "9BKFxbGJ8rl3"
      },
      "source": [
        "imgS3_A1A1_1  = cv2.imread(S3_doubleA1A1_1)\n",
        "S3RGB_imgA1A1_1= cv2.cvtColor(imgS3_A1A1_1, cv2.COLOR_BGR2RGB)"
      ],
      "execution_count": null,
      "outputs": []
    },
    {
      "cell_type": "code",
      "metadata": {
        "id": "ulHbLkH_8rl3"
      },
      "source": [
        "imgS3_A1A2_1  = cv2.imread(S3_doubleA1A2_1)\n",
        "S3RGB_imgA1A2_1= cv2.cvtColor(imgS3_A1A2_1, cv2.COLOR_BGR2RGB)"
      ],
      "execution_count": null,
      "outputs": []
    },
    {
      "cell_type": "code",
      "metadata": {
        "id": "J9kRSYe48rl4"
      },
      "source": [
        "imgS3_A1A3_1  = cv2.imread(S3_doubleA1A3_1)\n",
        "S3RGB_imgA1A3_1= cv2.cvtColor(imgS3_A1A3_1, cv2.COLOR_BGR2RGB)"
      ],
      "execution_count": null,
      "outputs": []
    },
    {
      "cell_type": "code",
      "metadata": {
        "id": "Zkx2WQ3O8rl4"
      },
      "source": [
        "imgS3_A1A3_51  = cv2.imread(S3_doubleA1A3_51)\n",
        "S3RGB_imgA1A3_51= cv2.cvtColor(imgS3_A1A3_51, cv2.COLOR_BGR2RGB)"
      ],
      "execution_count": null,
      "outputs": []
    },
    {
      "cell_type": "code",
      "metadata": {
        "id": "C5clyZt98rl4"
      },
      "source": [
        "imgS3_A1A4_1  = cv2.imread(S3_doubleA1A4_1)\n",
        "S3RGB_imgA1A4_1= cv2.cvtColor(imgS3_A1A4_1, cv2.COLOR_BGR2RGB)"
      ],
      "execution_count": null,
      "outputs": []
    },
    {
      "cell_type": "code",
      "metadata": {
        "id": "Mv5JxSQ18rl4"
      },
      "source": [
        "imgS3_A1B1_1  = cv2.imread(S3_doubleA1B1_1)\n",
        "S3RGB_imgA1B1_1= cv2.cvtColor(imgS3_A1B1_1, cv2.COLOR_BGR2RGB)"
      ],
      "execution_count": null,
      "outputs": []
    },
    {
      "cell_type": "code",
      "metadata": {
        "id": "9I3KI-7f8rl4"
      },
      "source": [
        "imgS3_A1B2_1  = cv2.imread(S3_doubleA1B2_1)\n",
        "S3RGB_imgA1B2_1= cv2.cvtColor(imgS3_A1B2_1, cv2.COLOR_BGR2RGB)"
      ],
      "execution_count": null,
      "outputs": []
    },
    {
      "cell_type": "code",
      "metadata": {
        "id": "S4OIG7AO8rl6"
      },
      "source": [
        "imgS3_A1B3_1  = cv2.imread(S3_doubleA1B3_1)\n",
        "S3RGB_imgA1B3_1= cv2.cvtColor(imgS3_A1B3_1, cv2.COLOR_BGR2RGB)"
      ],
      "execution_count": null,
      "outputs": []
    },
    {
      "cell_type": "code",
      "metadata": {
        "id": "rtKhxb5I8rl6"
      },
      "source": [
        "imgS3_A1B4_1  = cv2.imread(S3_doubleA1B4_1)\n",
        "S3RGB_imgA1B4_1= cv2.cvtColor(imgS3_A1B4_1, cv2.COLOR_BGR2RGB)"
      ],
      "execution_count": null,
      "outputs": []
    },
    {
      "cell_type": "code",
      "metadata": {
        "id": "Gtdu3d328rl6"
      },
      "source": [
        "imgS3_A1C1_1  = cv2.imread(S3_doubleA1C1_1)\n",
        "S3RGB_imgA1C1_1= cv2.cvtColor(imgS3_A1C1_1, cv2.COLOR_BGR2RGB)"
      ],
      "execution_count": null,
      "outputs": []
    },
    {
      "cell_type": "code",
      "metadata": {
        "id": "jcn-erZ98rl6"
      },
      "source": [
        "imgS3_A1C2_1  = cv2.imread(S3_doubleA1C2_1)\n",
        "S3RGB_imgA1C2_1= cv2.cvtColor(imgS3_A1C2_1, cv2.COLOR_BGR2RGB)"
      ],
      "execution_count": null,
      "outputs": []
    },
    {
      "cell_type": "code",
      "metadata": {
        "id": "1H550zpJ8rl7"
      },
      "source": [
        "imgS3_A1C3_1  = cv2.imread(S3_doubleA1C3_1)\n",
        "S3RGB_imgA1C3_1= cv2.cvtColor(imgS3_A1C3_1, cv2.COLOR_BGR2RGB)"
      ],
      "execution_count": null,
      "outputs": []
    },
    {
      "cell_type": "code",
      "metadata": {
        "id": "gYysP1eM8rl7"
      },
      "source": [
        "imgS3_A1C4_1  = cv2.imread(S3_doubleA1C4_1)\n",
        "S3RGB_imgA1C4_1= cv2.cvtColor(imgS3_A1C4_1, cv2.COLOR_BGR2RGB)"
      ],
      "execution_count": null,
      "outputs": []
    },
    {
      "cell_type": "code",
      "metadata": {
        "id": "v4ljCwED8rl7"
      },
      "source": [
        "imgS3_A1D2_1  = cv2.imread(S3_doubleA1D2_1)\n",
        "S3RGB_imgA1D2_1= cv2.cvtColor(imgS3_A1D2_1, cv2.COLOR_BGR2RGB)"
      ],
      "execution_count": null,
      "outputs": []
    },
    {
      "cell_type": "code",
      "metadata": {
        "id": "_c2w_0rF8rl7"
      },
      "source": [
        "imgS3_A1D3_1  = cv2.imread(S3_doubleA1D3_1)\n",
        "S3RGB_imgA1D3_1= cv2.cvtColor(imgS3_A1D3_1, cv2.COLOR_BGR2RGB)"
      ],
      "execution_count": null,
      "outputs": []
    },
    {
      "cell_type": "code",
      "metadata": {
        "id": "uqJI2bXz8rl8"
      },
      "source": [
        "imgS3_A1D4_1  = cv2.imread(S3_doubleA1D4_1)\n",
        "S3RGB_imgA1D4_1= cv2.cvtColor(imgS3_A1D4_1, cv2.COLOR_BGR2RGB)"
      ],
      "execution_count": null,
      "outputs": []
    },
    {
      "cell_type": "markdown",
      "metadata": {
        "id": "apeGjiA79pJf"
      },
      "source": [
        "##Set4"
      ]
    },
    {
      "cell_type": "code",
      "metadata": {
        "id": "qYnoDJXh9q2j"
      },
      "source": [
        "imgS4_A1A1_1  = cv2.imread(S4_doubleA1A1_1)\n",
        "S4RGB_imgA1A1_1= cv2.cvtColor(imgS4_A1A1_1, cv2.COLOR_BGR2RGB)"
      ],
      "execution_count": null,
      "outputs": []
    },
    {
      "cell_type": "code",
      "metadata": {
        "id": "0HkjhpAa9q2j"
      },
      "source": [
        "imgS4_A1A2_1  = cv2.imread(S4_doubleA1A2_1)\n",
        "S4RGB_imgA1A2_1= cv2.cvtColor(imgS4_A1A2_1, cv2.COLOR_BGR2RGB)"
      ],
      "execution_count": null,
      "outputs": []
    },
    {
      "cell_type": "code",
      "metadata": {
        "id": "vSFzyH-B9q2j"
      },
      "source": [
        "imgS4_A1A3_1  = cv2.imread(S4_doubleA1A3_1)\n",
        "S4RGB_imgA1A3_1= cv2.cvtColor(imgS4_A1A3_1, cv2.COLOR_BGR2RGB)"
      ],
      "execution_count": null,
      "outputs": []
    },
    {
      "cell_type": "code",
      "metadata": {
        "id": "NaSBU-__9q2j"
      },
      "source": [
        "imgS4_A1A3_51  = cv2.imread(S4_doubleA1A3_51)\n",
        "S4RGB_imgA1A3_51= cv2.cvtColor(imgS4_A1A3_51, cv2.COLOR_BGR2RGB)"
      ],
      "execution_count": null,
      "outputs": []
    },
    {
      "cell_type": "code",
      "metadata": {
        "id": "I5kq2YcL9q2j"
      },
      "source": [
        "imgS4_A1A4_1  = cv2.imread(S4_doubleA1A4_1)\n",
        "S4RGB_imgA1A4_1= cv2.cvtColor(imgS4_A1A4_1, cv2.COLOR_BGR2RGB)"
      ],
      "execution_count": null,
      "outputs": []
    },
    {
      "cell_type": "code",
      "metadata": {
        "id": "WPCZaErZ9q2j"
      },
      "source": [
        "imgS4_A1B1_1  = cv2.imread(S4_doubleA1B1_1)\n",
        "S4RGB_imgA1B1_1= cv2.cvtColor(imgS4_A1B1_1, cv2.COLOR_BGR2RGB)"
      ],
      "execution_count": null,
      "outputs": []
    },
    {
      "cell_type": "code",
      "metadata": {
        "id": "9qoBo-Zb9q2k"
      },
      "source": [
        "imgS4_A1B2_1  = cv2.imread(S4_doubleA1B2_1)\n",
        "S4RGB_imgA1B2_1= cv2.cvtColor(imgS4_A1B2_1, cv2.COLOR_BGR2RGB)"
      ],
      "execution_count": null,
      "outputs": []
    },
    {
      "cell_type": "code",
      "metadata": {
        "id": "kLOZsD239q2k"
      },
      "source": [
        "imgS4_A1B3_1  = cv2.imread(S4_doubleA1B3_1)\n",
        "S4RGB_imgA1B3_1= cv2.cvtColor(imgS4_A1B3_1, cv2.COLOR_BGR2RGB)"
      ],
      "execution_count": null,
      "outputs": []
    },
    {
      "cell_type": "code",
      "metadata": {
        "id": "W-9c6qi39q2k"
      },
      "source": [
        "imgS4_A1B4_1  = cv2.imread(S4_doubleA1B4_1)\n",
        "S4RGB_imgA1B4_1= cv2.cvtColor(imgS4_A1B4_1, cv2.COLOR_BGR2RGB)"
      ],
      "execution_count": null,
      "outputs": []
    },
    {
      "cell_type": "code",
      "metadata": {
        "id": "giX0rFy-9q2k"
      },
      "source": [
        "imgS4_A1C1_1  = cv2.imread(S4_doubleA1C1_1)\n",
        "S4RGB_imgA1C1_1= cv2.cvtColor(imgS4_A1C1_1, cv2.COLOR_BGR2RGB)"
      ],
      "execution_count": null,
      "outputs": []
    },
    {
      "cell_type": "code",
      "metadata": {
        "id": "kqpXGtiz9q2k"
      },
      "source": [
        "imgS4_A1C2_1  = cv2.imread(S4_doubleA1C2_1)\n",
        "S4RGB_imgA1C2_1= cv2.cvtColor(imgS4_A1C2_1, cv2.COLOR_BGR2RGB)"
      ],
      "execution_count": null,
      "outputs": []
    },
    {
      "cell_type": "code",
      "metadata": {
        "id": "4O0PjNu79q2k"
      },
      "source": [
        "imgS4_A1C3_1  = cv2.imread(S4_doubleA1C3_1)\n",
        "S4RGB_imgA1C3_1= cv2.cvtColor(imgS4_A1C3_1, cv2.COLOR_BGR2RGB)"
      ],
      "execution_count": null,
      "outputs": []
    },
    {
      "cell_type": "code",
      "metadata": {
        "id": "J-WaIgA79q2l"
      },
      "source": [
        "imgS4_A1C4_1  = cv2.imread(S4_doubleA1C4_1)\n",
        "S4RGB_imgA1C4_1= cv2.cvtColor(imgS4_A1C4_1, cv2.COLOR_BGR2RGB)"
      ],
      "execution_count": null,
      "outputs": []
    },
    {
      "cell_type": "code",
      "metadata": {
        "id": "vEXqhTbK9q2l"
      },
      "source": [
        "imgS4_A1D2_1  = cv2.imread(S4_doubleA1D2_1)\n",
        "S4RGB_imgA1D2_1= cv2.cvtColor(imgS4_A1D2_1, cv2.COLOR_BGR2RGB)"
      ],
      "execution_count": null,
      "outputs": []
    },
    {
      "cell_type": "code",
      "metadata": {
        "id": "6N-qEwxX9q2l"
      },
      "source": [
        "imgS4_A1D3_1  = cv2.imread(S4_doubleA1D3_1)\n",
        "S4RGB_imgA1D3_1= cv2.cvtColor(imgS4_A1D3_1, cv2.COLOR_BGR2RGB)"
      ],
      "execution_count": null,
      "outputs": []
    },
    {
      "cell_type": "code",
      "metadata": {
        "id": "UxGhWbV89q2l"
      },
      "source": [
        "imgS4_A1D4_1  = cv2.imread(S4_doubleA1D4_1)\n",
        "S4RGB_imgA1D4_1= cv2.cvtColor(imgS4_A1D4_1, cv2.COLOR_BGR2RGB)"
      ],
      "execution_count": null,
      "outputs": []
    },
    {
      "cell_type": "markdown",
      "metadata": {
        "id": "4XyCaNz1YAzf"
      },
      "source": [
        "#4. ฺBGR TO HSV"
      ]
    },
    {
      "cell_type": "markdown",
      "metadata": {
        "id": "1H0qQCcKOTUC"
      },
      "source": [
        "##Set1"
      ]
    },
    {
      "cell_type": "code",
      "metadata": {
        "id": "V7LoW4sLYP0V"
      },
      "source": [
        "S1_A1A1_1img  = cv2.imread(S1_doubleA1A1_1)\n",
        "S1HSV_imgA1A1_1= cv2.cvtColor(S1_A1A1_1img, cv2.COLOR_BGR2HSV)\n",
        "plt.imshow(S1HSV_imgA1A1_1)"
      ],
      "execution_count": null,
      "outputs": []
    },
    {
      "cell_type": "code",
      "metadata": {
        "id": "se8UQIFwnL8I"
      },
      "source": [
        "S1_A1A2_1img  = cv2.imread(S1_doubleA1A2_1)\n",
        "S1HSV_imgA1A2_1= cv2.cvtColor(S1_A1A2_1img, cv2.COLOR_BGR2HSV)"
      ],
      "execution_count": null,
      "outputs": []
    },
    {
      "cell_type": "code",
      "metadata": {
        "id": "NlS3nnjpnMIQ"
      },
      "source": [
        "S1_A1A3_1img  = cv2.imread(S1_doubleA1A3_1)\n",
        "S1HSV_imgA1A3_1= cv2.cvtColor(S1_A1A3_1img, cv2.COLOR_BGR2HSV)"
      ],
      "execution_count": null,
      "outputs": []
    },
    {
      "cell_type": "code",
      "metadata": {
        "id": "gaiV37Atm-qM"
      },
      "source": [
        "S1_A1A3_51img  = cv2.imread(S1_doubleA1A3_51)\n",
        "S1HSV_imgA1A3_51= cv2.cvtColor(S1_A1A3_51img, cv2.COLOR_BGR2HSV)"
      ],
      "execution_count": null,
      "outputs": []
    },
    {
      "cell_type": "code",
      "metadata": {
        "id": "b3l1xgJWm-r6"
      },
      "source": [
        "S1_A1A4_1img  = cv2.imread(S1_doubleA1A4_1)\n",
        "S1HSV_imgA1A4_1= cv2.cvtColor(S1_A1A4_1img, cv2.COLOR_BGR2HSV)"
      ],
      "execution_count": null,
      "outputs": []
    },
    {
      "cell_type": "code",
      "metadata": {
        "id": "w26dE2E2m-ui"
      },
      "source": [
        "S1_A1B1_1img  = cv2.imread(S1_doubleA1B1_1)\n",
        "S1HSV_imgA1B1_1= cv2.cvtColor(S1_A1B1_1img, cv2.COLOR_BGR2HSV)"
      ],
      "execution_count": null,
      "outputs": []
    },
    {
      "cell_type": "code",
      "metadata": {
        "id": "qq4hEemVm-wd"
      },
      "source": [
        "S1_A1B2_1img  = cv2.imread(S1_doubleA1B2_1)\n",
        "S1HSV_imgA1B2_1= cv2.cvtColor(S1_A1B2_1img, cv2.COLOR_BGR2HSV)"
      ],
      "execution_count": null,
      "outputs": []
    },
    {
      "cell_type": "code",
      "metadata": {
        "id": "9TyEGSZmp7wg"
      },
      "source": [
        "S1_A1B3_1img  = cv2.imread(S1_doubleA1B3_1)\n",
        "S1HSV_imgA1B3_1= cv2.cvtColor(S1_A1B3_1img, cv2.COLOR_BGR2HSV)"
      ],
      "execution_count": null,
      "outputs": []
    },
    {
      "cell_type": "code",
      "metadata": {
        "id": "8fg70FdZm-0y"
      },
      "source": [
        "S1_A1B4_1img  = cv2.imread(S1_doubleA1B4_1)\n",
        "S1HSV_imgA1B4_1= cv2.cvtColor(S1_A1B4_1img, cv2.COLOR_BGR2HSV)"
      ],
      "execution_count": null,
      "outputs": []
    },
    {
      "cell_type": "code",
      "metadata": {
        "id": "86KJ5WjYqLAs"
      },
      "source": [
        "S1_A1C1_1img  = cv2.imread(S1_doubleA1C1_1)\n",
        "S1HSV_imgA1C1_1= cv2.cvtColor(S1_A1C1_1img, cv2.COLOR_BGR2HSV)"
      ],
      "execution_count": null,
      "outputs": []
    },
    {
      "cell_type": "code",
      "metadata": {
        "id": "4o2oKmb-qLDu"
      },
      "source": [
        "S1_A1C2_1img  = cv2.imread(S1_doubleA1C2_1)\n",
        "S1HSV_imgA1C2_1= cv2.cvtColor(S1_A1C2_1img, cv2.COLOR_BGR2HSV)"
      ],
      "execution_count": null,
      "outputs": []
    },
    {
      "cell_type": "code",
      "metadata": {
        "id": "0pGWlEU1qLHp"
      },
      "source": [
        "S1_A1C3_1img  = cv2.imread(S1_doubleA1C3_1)\n",
        "S1HSV_imgA1C3_1= cv2.cvtColor(S1_A1C3_1img, cv2.COLOR_BGR2HSV)"
      ],
      "execution_count": null,
      "outputs": []
    },
    {
      "cell_type": "code",
      "metadata": {
        "id": "IZQIfJ4iqLKb"
      },
      "source": [
        "S1_A1C4_1img  = cv2.imread(S1_doubleA1C4_1)\n",
        "S1HSV_imgA1C4_1= cv2.cvtColor(S1_A1C4_1img, cv2.COLOR_BGR2HSV)"
      ],
      "execution_count": null,
      "outputs": []
    },
    {
      "cell_type": "code",
      "metadata": {
        "id": "k_K9BBJpqLOi"
      },
      "source": [
        "S1_A1D2_1img  = cv2.imread(S1_doubleA1D2_1)\n",
        "S1HSV_imgA1D2_1= cv2.cvtColor(S1_A1D2_1img, cv2.COLOR_BGR2HSV)"
      ],
      "execution_count": null,
      "outputs": []
    },
    {
      "cell_type": "code",
      "metadata": {
        "id": "v6YEm_v5quL_"
      },
      "source": [
        "S1_A1D3_1img  = cv2.imread(S1_doubleA1D3_1)\n",
        "S1HSV_imgA1D3_1= cv2.cvtColor(S1_A1D3_1img, cv2.COLOR_BGR2HSV)"
      ],
      "execution_count": null,
      "outputs": []
    },
    {
      "cell_type": "code",
      "metadata": {
        "id": "SMvBLdQxm-3f"
      },
      "source": [
        "S1_A1D4_1img  = cv2.imread(S1_doubleA1D4_1)\n",
        "S1HSV_imgA1D4_1= cv2.cvtColor(S1_A1D4_1img, cv2.COLOR_BGR2HSV)"
      ],
      "execution_count": null,
      "outputs": []
    },
    {
      "cell_type": "markdown",
      "metadata": {
        "id": "wL6aRDp_Or_Y"
      },
      "source": [
        "##Set2"
      ]
    },
    {
      "cell_type": "code",
      "metadata": {
        "id": "BDzWpqPBO0aX"
      },
      "source": [
        "S2_A1A1_1img  = cv2.imread(S2_doubleA1A1_1)\n",
        "S2HSV_imgA1A1_1= cv2.cvtColor(S2_A1A1_1img, cv2.COLOR_BGR2HSV)\n",
        "plt.imshow(S2HSV_imgA1A1_1)"
      ],
      "execution_count": null,
      "outputs": []
    },
    {
      "cell_type": "code",
      "metadata": {
        "id": "a-pIAAcFO0ae"
      },
      "source": [
        "S2_A1A2_1img  = cv2.imread(S2_doubleA1A2_1)\n",
        "S2HSV_imgA1A2_1= cv2.cvtColor(S2_A1A2_1img, cv2.COLOR_BGR2HSV)"
      ],
      "execution_count": null,
      "outputs": []
    },
    {
      "cell_type": "code",
      "metadata": {
        "id": "yOsp_jUXO0af"
      },
      "source": [
        "S2_A1A3_1img  = cv2.imread(S2_doubleA1A3_1)\n",
        "S2HSV_imgA1A3_1= cv2.cvtColor(S2_A1A3_1img, cv2.COLOR_BGR2HSV)"
      ],
      "execution_count": null,
      "outputs": []
    },
    {
      "cell_type": "code",
      "metadata": {
        "id": "LEj6uqznO0af"
      },
      "source": [
        "S2_A1A3_51img  = cv2.imread(S2_doubleA1A3_51)\n",
        "S2HSV_imgA1A3_51= cv2.cvtColor(S2_A1A3_51img, cv2.COLOR_BGR2HSV)"
      ],
      "execution_count": null,
      "outputs": []
    },
    {
      "cell_type": "code",
      "metadata": {
        "id": "1weM2OVvO0af"
      },
      "source": [
        "S2_A1A4_1img  = cv2.imread(S2_doubleA1A4_1)\n",
        "S2HSV_imgA1A4_1= cv2.cvtColor(S2_A1A4_1img, cv2.COLOR_BGR2HSV)"
      ],
      "execution_count": null,
      "outputs": []
    },
    {
      "cell_type": "code",
      "metadata": {
        "id": "Wbdgu89_O0af"
      },
      "source": [
        "S2_A1B1_1img  = cv2.imread(S2_doubleA1B1_1)\n",
        "S2HSV_imgA1B1_1= cv2.cvtColor(S2_A1B1_1img, cv2.COLOR_BGR2HSV)"
      ],
      "execution_count": null,
      "outputs": []
    },
    {
      "cell_type": "code",
      "metadata": {
        "id": "qZiGeFyyO0af"
      },
      "source": [
        "S2_A1B2_1img  = cv2.imread(S2_doubleA1B2_1)\n",
        "S2HSV_imgA1B2_1= cv2.cvtColor(S2_A1B2_1img, cv2.COLOR_BGR2HSV)"
      ],
      "execution_count": null,
      "outputs": []
    },
    {
      "cell_type": "code",
      "metadata": {
        "id": "hXeIe_3lO0af"
      },
      "source": [
        "S2_A1B3_1img  = cv2.imread(S2_doubleA1B3_1)\n",
        "S2HSV_imgA1B3_1= cv2.cvtColor(S2_A1B3_1img, cv2.COLOR_BGR2HSV)"
      ],
      "execution_count": null,
      "outputs": []
    },
    {
      "cell_type": "code",
      "metadata": {
        "id": "V5M59xgBO0af"
      },
      "source": [
        "S2_A1B4_1img  = cv2.imread(S2_doubleA1B4_1)\n",
        "S2HSV_imgA1B4_1= cv2.cvtColor(S2_A1B4_1img, cv2.COLOR_BGR2HSV)"
      ],
      "execution_count": null,
      "outputs": []
    },
    {
      "cell_type": "code",
      "metadata": {
        "id": "KRuyL80iO0af"
      },
      "source": [
        "S2_A1C1_1img  = cv2.imread(S2_doubleA1C1_1)\n",
        "S2HSV_imgA1C1_1= cv2.cvtColor(S2_A1C1_1img, cv2.COLOR_BGR2HSV)"
      ],
      "execution_count": null,
      "outputs": []
    },
    {
      "cell_type": "code",
      "metadata": {
        "id": "_fwiHi1UO0af"
      },
      "source": [
        "S2_A1C2_1img  = cv2.imread(S2_doubleA1C2_1)\n",
        "S2HSV_imgA1C2_1= cv2.cvtColor(S2_A1C2_1img, cv2.COLOR_BGR2HSV)"
      ],
      "execution_count": null,
      "outputs": []
    },
    {
      "cell_type": "code",
      "metadata": {
        "id": "JqM9f0IeO0af"
      },
      "source": [
        "S2_A1C3_1img  = cv2.imread(S2_doubleA1C3_1)\n",
        "S2HSV_imgA1C3_1= cv2.cvtColor(S2_A1C3_1img, cv2.COLOR_BGR2HSV)"
      ],
      "execution_count": null,
      "outputs": []
    },
    {
      "cell_type": "code",
      "metadata": {
        "id": "hqmrKWFKO0ag"
      },
      "source": [
        "S2_A1C4_1img  = cv2.imread(S2_doubleA1C4_1)\n",
        "S2HSV_imgA1C4_1= cv2.cvtColor(S2_A1C4_1img, cv2.COLOR_BGR2HSV)"
      ],
      "execution_count": null,
      "outputs": []
    },
    {
      "cell_type": "code",
      "metadata": {
        "id": "PzUN45ylO0ag"
      },
      "source": [
        "S2_A1D2_1img  = cv2.imread(S2_doubleA1D2_1)\n",
        "S2HSV_imgA1D2_1= cv2.cvtColor(S2_A1D2_1img, cv2.COLOR_BGR2HSV)"
      ],
      "execution_count": null,
      "outputs": []
    },
    {
      "cell_type": "code",
      "metadata": {
        "id": "mZJEIdO2O0ag"
      },
      "source": [
        "S2_A1D3_1img  = cv2.imread(S2_doubleA1D3_1)\n",
        "S2HSV_imgA1D3_1= cv2.cvtColor(S2_A1D3_1img, cv2.COLOR_BGR2HSV)"
      ],
      "execution_count": null,
      "outputs": []
    },
    {
      "cell_type": "code",
      "metadata": {
        "id": "S507jRCYO0ag"
      },
      "source": [
        "S2_A1D4_1img  = cv2.imread(S2_doubleA1D4_1)\n",
        "S2HSV_imgA1D4_1= cv2.cvtColor(S2_A1D4_1img, cv2.COLOR_BGR2HSV)"
      ],
      "execution_count": null,
      "outputs": []
    },
    {
      "cell_type": "markdown",
      "metadata": {
        "id": "qOmBnSo7O7CA"
      },
      "source": [
        "##Set3"
      ]
    },
    {
      "cell_type": "code",
      "metadata": {
        "id": "esUAanu4O8j0"
      },
      "source": [
        "S3_A1A1_1img  = cv2.imread(S3_doubleA1A1_1)\n",
        "S3HSV_imgA1A1_1= cv2.cvtColor(S3_A1A1_1img, cv2.COLOR_BGR2HSV)\n",
        "plt.imshow(S3HSV_imgA1A1_1)"
      ],
      "execution_count": null,
      "outputs": []
    },
    {
      "cell_type": "code",
      "metadata": {
        "id": "5Ge6aoyaO8j0"
      },
      "source": [
        "S3_A1A2_1img  = cv2.imread(S3_doubleA1A2_1)\n",
        "S3HSV_imgA1A2_1= cv2.cvtColor(S3_A1A2_1img, cv2.COLOR_BGR2HSV)"
      ],
      "execution_count": null,
      "outputs": []
    },
    {
      "cell_type": "code",
      "metadata": {
        "id": "DsObJ2IuO8j0"
      },
      "source": [
        "S3_A1A3_1img  = cv2.imread(S3_doubleA1A3_1)\n",
        "S3HSV_imgA1A3_1= cv2.cvtColor(S3_A1A3_1img, cv2.COLOR_BGR2HSV)"
      ],
      "execution_count": null,
      "outputs": []
    },
    {
      "cell_type": "code",
      "metadata": {
        "id": "qy7ses16O8j0"
      },
      "source": [
        "S3_A1A3_51img  = cv2.imread(S3_doubleA1A3_51)\n",
        "S3HSV_imgA1A3_51= cv2.cvtColor(S3_A1A3_51img, cv2.COLOR_BGR2HSV)"
      ],
      "execution_count": null,
      "outputs": []
    },
    {
      "cell_type": "code",
      "metadata": {
        "id": "Y2OH_7_sO8j0"
      },
      "source": [
        "S3_A1A4_1img  = cv2.imread(S3_doubleA1A4_1)\n",
        "S3HSV_imgA1A4_1= cv2.cvtColor(S3_A1A4_1img, cv2.COLOR_BGR2HSV)"
      ],
      "execution_count": null,
      "outputs": []
    },
    {
      "cell_type": "code",
      "metadata": {
        "id": "aDkrKlmLO8j1"
      },
      "source": [
        "S3_A1B1_1img  = cv2.imread(S3_doubleA1B1_1)\n",
        "S3HSV_imgA1B1_1= cv2.cvtColor(S3_A1B1_1img, cv2.COLOR_BGR2HSV)"
      ],
      "execution_count": null,
      "outputs": []
    },
    {
      "cell_type": "code",
      "metadata": {
        "id": "ffZuXCngO8j1"
      },
      "source": [
        "S3_A1B2_1img  = cv2.imread(S3_doubleA1B2_1)\n",
        "S3HSV_imgA1B2_1= cv2.cvtColor(S3_A1B2_1img, cv2.COLOR_BGR2HSV)"
      ],
      "execution_count": null,
      "outputs": []
    },
    {
      "cell_type": "code",
      "metadata": {
        "id": "765qS-BMO8j1"
      },
      "source": [
        "S3_A1B3_1img  = cv2.imread(S3_doubleA1B3_1)\n",
        "S3HSV_imgA1B3_1= cv2.cvtColor(S3_A1B3_1img, cv2.COLOR_BGR2HSV)"
      ],
      "execution_count": null,
      "outputs": []
    },
    {
      "cell_type": "code",
      "metadata": {
        "id": "4T4npbw3O8j1"
      },
      "source": [
        "S3_A1B4_1img  = cv2.imread(S3_doubleA1B4_1)\n",
        "S3HSV_imgA1B4_1= cv2.cvtColor(S3_A1B4_1img, cv2.COLOR_BGR2HSV)"
      ],
      "execution_count": null,
      "outputs": []
    },
    {
      "cell_type": "code",
      "metadata": {
        "id": "j73d6Z7uO8j1"
      },
      "source": [
        "S3_A1C1_1img  = cv2.imread(S3_doubleA1C1_1)\n",
        "S3HSV_imgA1C1_1= cv2.cvtColor(S3_A1C1_1img, cv2.COLOR_BGR2HSV)"
      ],
      "execution_count": null,
      "outputs": []
    },
    {
      "cell_type": "code",
      "metadata": {
        "id": "d4auQVvJO8j1"
      },
      "source": [
        "S3_A1C2_1img  = cv2.imread(S3_doubleA1C2_1)\n",
        "S3HSV_imgA1C2_1= cv2.cvtColor(S3_A1C2_1img, cv2.COLOR_BGR2HSV)"
      ],
      "execution_count": null,
      "outputs": []
    },
    {
      "cell_type": "code",
      "metadata": {
        "id": "o3szXJVYO8j1"
      },
      "source": [
        "S3_A1C3_1img  = cv2.imread(S3_doubleA1C3_1)\n",
        "S3HSV_imgA1C3_1= cv2.cvtColor(S3_A1C3_1img, cv2.COLOR_BGR2HSV)"
      ],
      "execution_count": null,
      "outputs": []
    },
    {
      "cell_type": "code",
      "metadata": {
        "id": "htzUP3yKO8j1"
      },
      "source": [
        "S3_A1C4_1img  = cv2.imread(S3_doubleA1C4_1)\n",
        "S3HSV_imgA1C4_1= cv2.cvtColor(S3_A1C4_1img, cv2.COLOR_BGR2HSV)"
      ],
      "execution_count": null,
      "outputs": []
    },
    {
      "cell_type": "code",
      "metadata": {
        "id": "oktRhFVtO8j1"
      },
      "source": [
        "S3_A1D2_1img  = cv2.imread(S3_doubleA1D2_1)\n",
        "S3HSV_imgA1D2_1= cv2.cvtColor(S3_A1D2_1img, cv2.COLOR_BGR2HSV)"
      ],
      "execution_count": null,
      "outputs": []
    },
    {
      "cell_type": "code",
      "metadata": {
        "id": "W9nH6io6O8j1"
      },
      "source": [
        "S3_A1D3_1img  = cv2.imread(S3_doubleA1D3_1)\n",
        "S3HSV_imgA1D3_1= cv2.cvtColor(S3_A1D3_1img, cv2.COLOR_BGR2HSV)"
      ],
      "execution_count": null,
      "outputs": []
    },
    {
      "cell_type": "code",
      "metadata": {
        "id": "JNM-l795O8j2"
      },
      "source": [
        "S3_A1D4_1img  = cv2.imread(S3_doubleA1D4_1)\n",
        "S3HSV_imgA1D4_1= cv2.cvtColor(S3_A1D4_1img, cv2.COLOR_BGR2HSV)"
      ],
      "execution_count": null,
      "outputs": []
    },
    {
      "cell_type": "markdown",
      "metadata": {
        "id": "fsHScFKQOR7t"
      },
      "source": [
        "##Set4"
      ]
    },
    {
      "cell_type": "code",
      "metadata": {
        "id": "M3yXg2bFGiDP"
      },
      "source": [
        "S4_A1A1_1img  = cv2.imread(S4_doubleA1A1_1)\n",
        "S4HSV_imgA1A1_1= cv2.cvtColor(S4_A1A1_1img, cv2.COLOR_BGR2HSV)"
      ],
      "execution_count": null,
      "outputs": []
    },
    {
      "cell_type": "code",
      "metadata": {
        "id": "lUK6mMoHGiDQ"
      },
      "source": [
        "S4_A1A2_1img  = cv2.imread(S4_doubleA1A2_1)\n",
        "S4HSV_imgA1A2_1= cv2.cvtColor(S4_A1A2_1img, cv2.COLOR_BGR2HSV)"
      ],
      "execution_count": null,
      "outputs": []
    },
    {
      "cell_type": "code",
      "metadata": {
        "id": "Ft40vnznGiDQ"
      },
      "source": [
        "S4_A1A3_1img  = cv2.imread(S4_doubleA1A3_1)\n",
        "S4HSV_imgA1A3_1= cv2.cvtColor(S4_A1A3_1img, cv2.COLOR_BGR2HSV)"
      ],
      "execution_count": null,
      "outputs": []
    },
    {
      "cell_type": "code",
      "metadata": {
        "id": "i7yBTQN2GiDQ"
      },
      "source": [
        "S4_A1A3_51img  = cv2.imread(S4_doubleA1A3_51)\n",
        "S4HSV_imgA1A3_51= cv2.cvtColor(S4_A1A3_51img, cv2.COLOR_BGR2HSV)"
      ],
      "execution_count": null,
      "outputs": []
    },
    {
      "cell_type": "code",
      "metadata": {
        "id": "oTsC-5HUGiDQ"
      },
      "source": [
        "S4_A1A4_1img  = cv2.imread(S4_doubleA1A4_1)\n",
        "S4HSV_imgA1A4_1= cv2.cvtColor(S4_A1A4_1img, cv2.COLOR_BGR2HSV)"
      ],
      "execution_count": null,
      "outputs": []
    },
    {
      "cell_type": "code",
      "metadata": {
        "id": "VPUDw1q4GiDQ"
      },
      "source": [
        "S4_A1B1_1img  = cv2.imread(S4_doubleA1B1_1)\n",
        "S4HSV_imgA1B1_1= cv2.cvtColor(S4_A1B1_1img, cv2.COLOR_BGR2HSV)"
      ],
      "execution_count": null,
      "outputs": []
    },
    {
      "cell_type": "code",
      "metadata": {
        "id": "F1T3bnLzGiDR"
      },
      "source": [
        "S4_A1B2_1img  = cv2.imread(S4_doubleA1B2_1)\n",
        "S4HSV_imgA1B2_1= cv2.cvtColor(S4_A1B2_1img, cv2.COLOR_BGR2HSV)"
      ],
      "execution_count": null,
      "outputs": []
    },
    {
      "cell_type": "code",
      "metadata": {
        "id": "pVRgjRHfGiDR"
      },
      "source": [
        "S4_A1B3_1img  = cv2.imread(S4_doubleA1B3_1)\n",
        "S4HSV_imgA1B3_1= cv2.cvtColor(S4_A1B3_1img, cv2.COLOR_BGR2HSV)"
      ],
      "execution_count": null,
      "outputs": []
    },
    {
      "cell_type": "code",
      "metadata": {
        "id": "olwI8b3aGiDR"
      },
      "source": [
        "S4_A1B4_1img  = cv2.imread(S4_doubleA1B4_1)\n",
        "S4HSV_imgA1B4_1= cv2.cvtColor(S4_A1B4_1img, cv2.COLOR_BGR2HSV)"
      ],
      "execution_count": null,
      "outputs": []
    },
    {
      "cell_type": "code",
      "metadata": {
        "id": "kHfZIcZ2GiDR"
      },
      "source": [
        "S4_A1C1_1img  = cv2.imread(S4_doubleA1C1_1)\n",
        "S4HSV_imgA1C1_1= cv2.cvtColor(S4_A1C1_1img, cv2.COLOR_BGR2HSV)"
      ],
      "execution_count": null,
      "outputs": []
    },
    {
      "cell_type": "code",
      "metadata": {
        "id": "NTSQwF5LGiDR"
      },
      "source": [
        "S4_A1C2_1img  = cv2.imread(S4_doubleA1C2_1)\n",
        "S4HSV_imgA1C2_1= cv2.cvtColor(S4_A1C2_1img, cv2.COLOR_BGR2HSV)"
      ],
      "execution_count": null,
      "outputs": []
    },
    {
      "cell_type": "code",
      "metadata": {
        "id": "gr5vzr-vGiDR"
      },
      "source": [
        "S4_A1C3_1img  = cv2.imread(S4_doubleA1C3_1)\n",
        "S4HSV_imgA1C3_1= cv2.cvtColor(S4_A1C3_1img, cv2.COLOR_BGR2HSV)"
      ],
      "execution_count": null,
      "outputs": []
    },
    {
      "cell_type": "code",
      "metadata": {
        "id": "AlBSzxZPGiDS"
      },
      "source": [
        "S4_A1C4_1img  = cv2.imread(S4_doubleA1C4_1)\n",
        "S4HSV_imgA1C4_1= cv2.cvtColor(S4_A1C4_1img, cv2.COLOR_BGR2HSV)"
      ],
      "execution_count": null,
      "outputs": []
    },
    {
      "cell_type": "code",
      "metadata": {
        "id": "AcccInfeGiDS"
      },
      "source": [
        "S4_A1D2_1img  = cv2.imread(S4_doubleA1D2_1)\n",
        "S4HSV_imgA1D2_1= cv2.cvtColor(S4_A1D2_1img, cv2.COLOR_BGR2HSV)"
      ],
      "execution_count": null,
      "outputs": []
    },
    {
      "cell_type": "code",
      "metadata": {
        "id": "162xshkjGiDS"
      },
      "source": [
        "S4_A1D3_1img  = cv2.imread(S4_doubleA1D3_1)\n",
        "S4HSV_imgA1D3_1= cv2.cvtColor(S4_A1D3_1img, cv2.COLOR_BGR2HSV)"
      ],
      "execution_count": null,
      "outputs": []
    },
    {
      "cell_type": "code",
      "metadata": {
        "id": "Et3h7SwjGiDS"
      },
      "source": [
        "S4_A1D4_1img  = cv2.imread(S4_doubleA1D4_1)\n",
        "S4HSV_imgA1D4_1= cv2.cvtColor(S4_A1D4_1img, cv2.COLOR_BGR2HSV)"
      ],
      "execution_count": null,
      "outputs": []
    },
    {
      "cell_type": "markdown",
      "metadata": {
        "id": "UNtZVBz0CQoq"
      },
      "source": [
        "#5. ดึงสี"
      ]
    },
    {
      "cell_type": "markdown",
      "metadata": {
        "id": "5H65mCxBCwun"
      },
      "source": [
        "##Set1 "
      ]
    },
    {
      "cell_type": "markdown",
      "metadata": {
        "id": "uNWjoOD4radB"
      },
      "source": [
        "### RGB"
      ]
    },
    {
      "cell_type": "code",
      "metadata": {
        "id": "3MeDXa_qCjAo"
      },
      "source": [
        "S1A1_1= list()\n",
        "S1A1_2 = list()\n",
        "for i in range(S1RGB_imgA1A1_1.shape[0]): #ให้ i รันตาม row หรือ shape[0] คือแถว มีทั้งหมด 4032 แถว ของภาพที่ปรับขนาดมาแล้ว\n",
        "     for j in range(S1RGB_imgA1A1_1.shape[1]): #ให้ j รันตาม colum มีทั้งหมด 3024 colum เช่น แถวที่ 1 เข้ามาให้รันครบ 3024colum\n",
        "                if 1770<i<1880 and 1700<j<1830 :\n",
        "                    S1A1_1.append(S1RGB_imgA1A1_1[i][j])\n",
        "                if 1770<i<1880 and 2015<j<2145 :\n",
        "                    S1A1_2.append(S1RGB_imgA1A1_1[i][j])   "
      ],
      "execution_count": null,
      "outputs": []
    },
    {
      "cell_type": "code",
      "metadata": {
        "id": "IY5gPQv-Cy1Q"
      },
      "source": [
        "S1A1_3= list()\n",
        "S1A2_1 = list()\n",
        "for i in range(S1RGB_imgA1A2_1.shape[0]): \n",
        "     for j in range(S1RGB_imgA1A2_1.shape[1]): \n",
        "                if 1770<i<1880 and 1700<j<1830 :\n",
        "                    S1A1_3.append(S1RGB_imgA1A2_1[i][j])\n",
        "                if 1770<i<1880 and 2015<j<2145 :\n",
        "                    S1A2_1.append(S1RGB_imgA1A2_1[i][j])   "
      ],
      "execution_count": null,
      "outputs": []
    },
    {
      "cell_type": "code",
      "metadata": {
        "id": "mig_gz6iC_pn"
      },
      "source": [
        "S1A1_4= list()\n",
        "S1A3_1 = list()\n",
        "for i in range(S1RGB_imgA1A3_1.shape[0]): \n",
        "     for j in range(S1RGB_imgA1A3_1.shape[1]): \n",
        "                if 1770<i<1880 and 1700<j<1830 :\n",
        "                    S1A1_4.append(S1RGB_imgA1A3_1[i][j])\n",
        "                if 1770<i<1880 and 2015<j<2145 :\n",
        "                    S1A3_1.append(S1RGB_imgA1A3_1[i][j])   "
      ],
      "execution_count": null,
      "outputs": []
    },
    {
      "cell_type": "code",
      "metadata": {
        "id": "iu-ny26uDHW1"
      },
      "source": [
        "S1A1_5= list()\n",
        "S1A3_51 = list()\n",
        "for i in range(S1RGB_imgA1A3_51.shape[0]): \n",
        "     for j in range(S1RGB_imgA1A3_51.shape[1]): \n",
        "                if 1770<i<1880 and 1700<j<1830 :\n",
        "                    S1A1_5.append(S1RGB_imgA1A3_51[i][j])\n",
        "                if 1770<i<1880 and 2015<j<2145 :\n",
        "                    S1A3_51.append(S1RGB_imgA1A3_51[i][j])"
      ],
      "execution_count": null,
      "outputs": []
    },
    {
      "cell_type": "code",
      "metadata": {
        "id": "aWV6WsWMDOyh"
      },
      "source": [
        "S1A1_6= list()\n",
        "S1A4_1 = list()\n",
        "for i in range(S1RGB_imgA1A4_1.shape[0]): \n",
        "     for j in range(S1RGB_imgA1A4_1.shape[1]): \n",
        "                if 1770<i<1880 and 1700<j<1830 :\n",
        "                    S1A1_6.append(S1RGB_imgA1A4_1[i][j])\n",
        "                if 1770<i<1880 and 2015<j<2145 :\n",
        "                    S1A4_1.append(S1RGB_imgA1A4_1[i][j])"
      ],
      "execution_count": null,
      "outputs": []
    },
    {
      "cell_type": "code",
      "metadata": {
        "id": "De3kH-OoDYQI"
      },
      "source": [
        "S1A1_7= list()\n",
        "S1B1_1 = list()\n",
        "for i in range(S1RGB_imgA1B1_1.shape[0]): \n",
        "     for j in range(S1RGB_imgA1B1_1.shape[1]): \n",
        "                if 1770<i<1880 and 1700<j<1830 :\n",
        "                    S1A1_7.append(S1RGB_imgA1B1_1[i][j])\n",
        "                if 1770<i<1880 and 2015<j<2145 :\n",
        "                    S1B1_1.append(S1RGB_imgA1B1_1[i][j])"
      ],
      "execution_count": null,
      "outputs": []
    },
    {
      "cell_type": "code",
      "metadata": {
        "id": "gWUovJ6PDioo"
      },
      "source": [
        "S1A1_8= list()\n",
        "S1B2_1 = list()\n",
        "for i in range(S1RGB_imgA1B2_1.shape[0]): \n",
        "     for j in range(S1RGB_imgA1B2_1.shape[1]): \n",
        "                if 1770<i<1880 and 1700<j<1830 :\n",
        "                    S1A1_8.append(S1RGB_imgA1B2_1[i][j])\n",
        "                if 1770<i<1880 and 2015<j<2145 :\n",
        "                    S1B2_1.append(S1RGB_imgA1B2_1[i][j])"
      ],
      "execution_count": null,
      "outputs": []
    },
    {
      "cell_type": "code",
      "metadata": {
        "id": "I4g8iQcMDxjZ"
      },
      "source": [
        "S1A1_9= list()\n",
        "S1B3_1 = list()\n",
        "for i in range(S1RGB_imgA1B3_1.shape[0]): \n",
        "     for j in range(S1RGB_imgA1B3_1.shape[1]): \n",
        "                if 1770<i<1880 and 1700<j<1830 :\n",
        "                    S1A1_9.append(S1RGB_imgA1B3_1[i][j])\n",
        "                if 1770<i<1880 and 2015<j<2145 :\n",
        "                    S1B3_1.append(S1RGB_imgA1B3_1[i][j])"
      ],
      "execution_count": null,
      "outputs": []
    },
    {
      "cell_type": "code",
      "metadata": {
        "id": "Ci0cVh1ND2Hl"
      },
      "source": [
        "S1A1_10= list()\n",
        "S1B4_1 = list()\n",
        "for i in range(S1RGB_imgA1B4_1.shape[0]): \n",
        "     for j in range(S1RGB_imgA1B4_1.shape[1]): \n",
        "                if 1770<i<1880 and 1700<j<1830 :\n",
        "                    S1A1_10.append(S1RGB_imgA1B4_1[i][j])\n",
        "                if 1770<i<1880 and 2015<j<2145 :\n",
        "                    S1B4_1.append(S1RGB_imgA1B4_1[i][j])"
      ],
      "execution_count": null,
      "outputs": []
    },
    {
      "cell_type": "code",
      "metadata": {
        "id": "FwSZ_HixEDkc"
      },
      "source": [
        "S1A1_11= list()\n",
        "S1C1_2 = list()\n",
        "for i in range(S1RGB_imgA1C1_1.shape[0]): \n",
        "     for j in range(S1RGB_imgA1C1_1.shape[1]): \n",
        "                if 1770<i<1880 and 1700<j<1830 :\n",
        "                    S1A1_11.append(S1RGB_imgA1C1_1[i][j])\n",
        "                if 1770<i<1880 and 2015<j<2145 :\n",
        "                    S1C1_2.append(S1RGB_imgA1C1_1[i][j])   "
      ],
      "execution_count": null,
      "outputs": []
    },
    {
      "cell_type": "code",
      "metadata": {
        "id": "rrDRSrU6AnIl"
      },
      "source": [
        ""
      ],
      "execution_count": null,
      "outputs": []
    },
    {
      "cell_type": "code",
      "metadata": {
        "id": "DWeSxQyvEDkc"
      },
      "source": [
        "S1A1_12= list()\n",
        "S1C2_1 = list()\n",
        "for i in range(S1RGB_imgA1C2_1.shape[0]): \n",
        "     for j in range(S1RGB_imgA1C2_1.shape[1]): \n",
        "                if 1770<i<1880 and 1700<j<1830 :\n",
        "                    S1A1_12.append(S1RGB_imgA1C2_1[i][j])\n",
        "                if 1770<i<1880 and 2015<j<2145 :\n",
        "                    S1C2_1.append(S1RGB_imgA1C2_1[i][j])   "
      ],
      "execution_count": null,
      "outputs": []
    },
    {
      "cell_type": "code",
      "metadata": {
        "id": "X0Qjr2CGEDkc"
      },
      "source": [
        "S1A1_13= list()\n",
        "S1C3_1 = list()\n",
        "for i in range(S1RGB_imgA1C3_1.shape[0]): \n",
        "     for j in range(S1RGB_imgA1C3_1.shape[1]): \n",
        "                if 1770<i<1880 and 1700<j<1830 :\n",
        "                    S1A1_13.append(S1RGB_imgA1C3_1[i][j])\n",
        "                if 1770<i<1880 and 2015<j<2145 :\n",
        "                    S1C3_1.append(S1RGB_imgA1C3_1[i][j])   "
      ],
      "execution_count": null,
      "outputs": []
    },
    {
      "cell_type": "code",
      "metadata": {
        "id": "aEusPTDaEDkd"
      },
      "source": [
        "S1A1_14= list()\n",
        "S1C4_1 = list()\n",
        "for i in range(S1RGB_imgA1C4_1.shape[0]): \n",
        "     for j in range(S1RGB_imgA1C4_1.shape[1]): \n",
        "                if 1770<i<1880 and 1700<j<1830 :\n",
        "                    S1A1_14.append(S1RGB_imgA1C4_1[i][j])\n",
        "                if 1770<i<1880 and 2015<j<2145 :\n",
        "                    S1C4_1.append(S1RGB_imgA1C4_1[i][j])"
      ],
      "execution_count": null,
      "outputs": []
    },
    {
      "cell_type": "code",
      "metadata": {
        "id": "NNRFIYC5Eo_j"
      },
      "source": [
        "S1A1_15= list()\n",
        "S1D2_1 = list()\n",
        "for i in range(S1RGB_imgA1D2_1.shape[0]): \n",
        "     for j in range(S1RGB_imgA1D2_1.shape[1]): \n",
        "                if 1770<i<1880 and 1700<j<1830 :\n",
        "                    S1A1_15.append(S1RGB_imgA1D2_1[i][j])\n",
        "                if 1770<i<1880 and 2015<j<2145 :\n",
        "                    S1D2_1.append(S1RGB_imgA1D2_1[i][j])   "
      ],
      "execution_count": null,
      "outputs": []
    },
    {
      "cell_type": "code",
      "metadata": {
        "id": "CJbu45bPEo_j"
      },
      "source": [
        "S1A1_16= list()\n",
        "S1D3_1 = list()\n",
        "for i in range(S1RGB_imgA1D3_1.shape[0]): \n",
        "     for j in range(S1RGB_imgA1D3_1.shape[1]): \n",
        "                if 1770<i<1880 and 1700<j<1830 :\n",
        "                    S1A1_16.append(S1RGB_imgA1D3_1[i][j])\n",
        "                if 1770<i<1880 and 2015<j<2145 :\n",
        "                    S1D3_1.append(S1RGB_imgA1D3_1[i][j])   "
      ],
      "execution_count": null,
      "outputs": []
    },
    {
      "cell_type": "code",
      "metadata": {
        "id": "DR9Fo_1cEo_j"
      },
      "source": [
        "S1A1_17= list()\n",
        "S1D4_1 = list()\n",
        "for i in range(S1RGB_imgA1D4_1.shape[0]): \n",
        "     for j in range(S1RGB_imgA1D4_1.shape[1]): \n",
        "                if 1770<i<1880 and 1700<j<1830 :\n",
        "                    S1A1_14.append(S1RGB_imgA1D4_1[i][j])\n",
        "                if 1770<i<1880 and 2015<j<2145 :\n",
        "                    S1D4_1.append(S1RGB_imgA1D4_1[i][j])"
      ],
      "execution_count": null,
      "outputs": []
    },
    {
      "cell_type": "markdown",
      "metadata": {
        "id": "lSsfyHv-rhBP"
      },
      "source": [
        "###HSV"
      ]
    },
    {
      "cell_type": "code",
      "metadata": {
        "id": "_lJDvsPVri6j"
      },
      "source": [
        "S1A1_1= list()\n",
        "S1A1_2 = list()\n",
        "for i in range(S1HSV_imgA1A1_1.shape[0]): #ให้ i รันตาม row หรือ shape[0] คือแถว มีทั้งหมด 4032 แถว ของภาพที่ปรับขนาดมาแล้ว\n",
        "     for j in range(S1HSV_imgA1A1_1.shape[1]): #ให้ j รันตาม colum มีทั้งหมด 3024 colum เช่น แถวที่ 1 เข้ามาให้รันครบ 3024colum\n",
        "                if 1770<i<1880 and 1700<j<1830 :\n",
        "                    S1A1_1.append(S1HSV_imgA1A1_1[i][j])\n",
        "                if 1770<i<1880 and 2015<j<2145 :\n",
        "                    S1A1_2.append(S1HSV_imgA1A1_1[i][j])"
      ],
      "execution_count": null,
      "outputs": []
    },
    {
      "cell_type": "code",
      "metadata": {
        "id": "xg5rxqssri8r"
      },
      "source": [
        "S1A1_3= list()\n",
        "S1A2_1 = list()\n",
        "for i in range(S1HSV_imgA1A2_1.shape[0]): \n",
        "     for j in range(S1HSV_imgA1A2_1.shape[1]): \n",
        "                if 1770<i<1880 and 1700<j<1830 :\n",
        "                    S1A1_3.append(S1HSV_imgA1A2_1[i][j])\n",
        "                if 1770<i<1880 and 2015<j<2145 :\n",
        "                    S1A2_1.append(S1HSV_imgA1A2_1[i][j])"
      ],
      "execution_count": null,
      "outputs": []
    },
    {
      "cell_type": "code",
      "metadata": {
        "id": "Q22bz7Yrs1du"
      },
      "source": [
        "S1A1_4= list()\n",
        "S1A3_1 = list()\n",
        "for i in range(S1HSV_imgA1A3_1.shape[0]): \n",
        "     for j in range(S1HSV_imgA1A3_1.shape[1]): \n",
        "                if 1770<i<1880 and 1700<j<1830 :\n",
        "                    S1A1_4.append(S1HSV_imgA1A3_1[i][j])\n",
        "                if 1770<i<1880 and 2015<j<2145 :\n",
        "                    S1A3_1.append(S1HSV_imgA1A3_1[i][j])   "
      ],
      "execution_count": null,
      "outputs": []
    },
    {
      "cell_type": "code",
      "metadata": {
        "id": "Xcj9y6qOs1dv"
      },
      "source": [
        "S1A1_5= list()\n",
        "S1A3_51 = list()\n",
        "for i in range(S1HSV_imgA1A3_51.shape[0]): \n",
        "     for j in range(S1HSV_imgA1A3_51.shape[1]): \n",
        "                if 1770<i<1880 and 1700<j<1830 :\n",
        "                    S1A1_5.append(S1HSV_imgA1A3_51[i][j])\n",
        "                if 1770<i<1880 and 2015<j<2145 :\n",
        "                    S1A3_51.append(S1HSV_imgA1A3_51[i][j])"
      ],
      "execution_count": null,
      "outputs": []
    },
    {
      "cell_type": "code",
      "metadata": {
        "id": "4Nr5niAos1dv"
      },
      "source": [
        "S1A1_6= list()\n",
        "S1A4_1 = list()\n",
        "for i in range(S1HSV_imgA1A4_1.shape[0]): \n",
        "     for j in range(S1HSV_imgA1A4_1.shape[1]): \n",
        "                if 1770<i<1880 and 1700<j<1830 :\n",
        "                    S1A1_6.append(S1HSV_imgA1A4_1[i][j])\n",
        "                if 1770<i<1880 and 2015<j<2145 :\n",
        "                    S1A4_1.append(S1HSV_imgA1A4_1[i][j])"
      ],
      "execution_count": null,
      "outputs": []
    },
    {
      "cell_type": "code",
      "metadata": {
        "id": "XtM4OpaFs1dw"
      },
      "source": [
        "S1A1_7= list()\n",
        "S1B1_1 = list()\n",
        "for i in range(S1HSV_imgA1B1_1.shape[0]): \n",
        "     for j in range(S1HSV_imgA1B1_1.shape[1]): \n",
        "                if 1770<i<1880 and 1700<j<1830 :\n",
        "                    S1A1_7.append(S1HSV_imgA1B1_1[i][j])\n",
        "                if 1770<i<1880 and 2015<j<2145 :\n",
        "                    S1B1_1.append(S1HSV_imgA1B1_1[i][j])"
      ],
      "execution_count": null,
      "outputs": []
    },
    {
      "cell_type": "code",
      "metadata": {
        "id": "kAO2yxCls1dw"
      },
      "source": [
        "S1A1_8= list()\n",
        "S1B2_1 = list()\n",
        "for i in range(S1HSV_imgA1B2_1.shape[0]): \n",
        "     for j in range(S1HSV_imgA1B2_1.shape[1]): \n",
        "                if 1770<i<1880 and 1700<j<1830 :\n",
        "                    S1A1_8.append(S1HSV_imgA1B2_1[i][j])\n",
        "                if 1770<i<1880 and 2015<j<2145 :\n",
        "                    S1B2_1.append(S1HSV_imgA1B2_1[i][j])"
      ],
      "execution_count": null,
      "outputs": []
    },
    {
      "cell_type": "code",
      "metadata": {
        "id": "E9PqbDEUs1dw"
      },
      "source": [
        "S1A1_9= list()\n",
        "S1B3_1 = list()\n",
        "for i in range(S1HSV_imgA1B3_1.shape[0]): \n",
        "     for j in range(S1HSV_imgA1B3_1.shape[1]): \n",
        "                if 1770<i<1880 and 1700<j<1830 :\n",
        "                    S1A1_9.append(S1HSV_imgA1B3_1[i][j])\n",
        "                if 1770<i<1880 and 2015<j<2145 :\n",
        "                    S1B3_1.append(S1HSV_imgA1B3_1[i][j])"
      ],
      "execution_count": null,
      "outputs": []
    },
    {
      "cell_type": "code",
      "metadata": {
        "id": "Bjjr3OtFs1dx"
      },
      "source": [
        "S1A1_10= list()\n",
        "S1B4_1 = list()\n",
        "for i in range(S1HSV_imgA1B4_1.shape[0]): \n",
        "     for j in range(S1HSV_imgA1B4_1.shape[1]): \n",
        "                if 1770<i<1880 and 1700<j<1830 :\n",
        "                    S1A1_10.append(S1HSV_imgA1B4_1[i][j])\n",
        "                if 1770<i<1880 and 2015<j<2145 :\n",
        "                    S1B4_1.append(S1HSV_imgA1B4_1[i][j])"
      ],
      "execution_count": null,
      "outputs": []
    },
    {
      "cell_type": "code",
      "metadata": {
        "id": "2cD6X557s1dx"
      },
      "source": [
        "S1A1_11= list()\n",
        "S1C1_2 = list()\n",
        "for i in range(S1HSV_imgA1C1_1.shape[0]): \n",
        "     for j in range(S1HSV_imgA1C1_1.shape[1]): \n",
        "                if 1770<i<1880 and 1700<j<1830 :\n",
        "                    S1A1_11.append(S1HSV_imgA1C1_1[i][j])\n",
        "                if 1770<i<1880 and 2015<j<2145 :\n",
        "                    S1C1_2.append(S1HSV_imgA1C1_1[i][j])   "
      ],
      "execution_count": null,
      "outputs": []
    },
    {
      "cell_type": "code",
      "metadata": {
        "id": "9Bh77xBws1dy"
      },
      "source": [
        "S1A1_12= list()\n",
        "S1C2_1 = list()\n",
        "for i in range(S1HSV_imgA1C2_1.shape[0]): \n",
        "     for j in range(S1HSV_imgA1C2_1.shape[1]): \n",
        "                if 1770<i<1880 and 1700<j<1830 :\n",
        "                    S1A1_12.append(S1HSV_imgA1C2_1[i][j])\n",
        "                if 1770<i<1880 and 2015<j<2145 :\n",
        "                    S1C2_1.append(S1HSV_imgA1C2_1[i][j])   "
      ],
      "execution_count": null,
      "outputs": []
    },
    {
      "cell_type": "code",
      "metadata": {
        "id": "8BnrG1t3s1dy"
      },
      "source": [
        "S1A1_13= list()\n",
        "S1C3_1 = list()\n",
        "for i in range(S1HSV_imgA1C3_1.shape[0]): \n",
        "     for j in range(S1HSV_imgA1C3_1.shape[1]): \n",
        "                if 1770<i<1880 and 1700<j<1830 :\n",
        "                    S1A1_13.append(S1HSV_imgA1C3_1[i][j])\n",
        "                if 1770<i<1880 and 2015<j<2145 :\n",
        "                    S1C3_1.append(S1HSV_imgA1C3_1[i][j])   "
      ],
      "execution_count": null,
      "outputs": []
    },
    {
      "cell_type": "code",
      "metadata": {
        "id": "pn3ABgm7s1dz"
      },
      "source": [
        "S1A1_14= list()\n",
        "S1C4_1 = list()\n",
        "for i in range(S1HSV_imgA1C4_1.shape[0]): \n",
        "     for j in range(S1HSV_imgA1C4_1.shape[1]): \n",
        "                if 1770<i<1880 and 1700<j<1830 :\n",
        "                    S1A1_14.append(S1HSV_imgA1C4_1[i][j])\n",
        "                if 1770<i<1880 and 2015<j<2145 :\n",
        "                    S1C4_1.append(S1HSV_imgA1C4_1[i][j])"
      ],
      "execution_count": null,
      "outputs": []
    },
    {
      "cell_type": "code",
      "metadata": {
        "id": "Bj_oz64Xs1d0"
      },
      "source": [
        "S1A1_15= list()\n",
        "S1D2_1 = list()\n",
        "for i in range(S1HSV_imgA1D2_1.shape[0]): \n",
        "     for j in range(S1HSV_imgA1D2_1.shape[1]): \n",
        "                if 1770<i<1880 and 1700<j<1830 :\n",
        "                    S1A1_15.append(S1HSV_imgA1D2_1[i][j])\n",
        "                if 1770<i<1880 and 2015<j<2145 :\n",
        "                    S1D2_1.append(S1HSV_imgA1D2_1[i][j])   "
      ],
      "execution_count": null,
      "outputs": []
    },
    {
      "cell_type": "code",
      "metadata": {
        "id": "zYDvOvcos1d0"
      },
      "source": [
        "S1A1_16= list()\n",
        "S1D3_1 = list()\n",
        "for i in range(S1HSV_imgA1D3_1.shape[0]): \n",
        "     for j in range(S1HSV_imgA1D3_1.shape[1]): \n",
        "                if 1770<i<1880 and 1700<j<1830 :\n",
        "                    S1A1_16.append(S1HSV_imgA1D3_1[i][j])\n",
        "                if 1770<i<1880 and 2015<j<2145 :\n",
        "                    S1D3_1.append(S1HSV_imgA1D3_1[i][j])   "
      ],
      "execution_count": null,
      "outputs": []
    },
    {
      "cell_type": "code",
      "metadata": {
        "id": "Y6imBIV9s1d1"
      },
      "source": [
        "S1A1_17= list()\n",
        "S1D4_1 = list()\n",
        "for i in range(S1HSV_imgA1D4_1.shape[0]): \n",
        "     for j in range(S1HSV_imgA1D4_1.shape[1]): \n",
        "                if 1770<i<1880 and 1700<j<1830 :\n",
        "                    S1A1_14.append(S1HSV_imgA1D4_1[i][j])\n",
        "                if 1770<i<1880 and 2015<j<2145 :\n",
        "                    S1D4_1.append(S1HSV_imgA1D4_1[i][j])"
      ],
      "execution_count": null,
      "outputs": []
    },
    {
      "cell_type": "markdown",
      "metadata": {
        "id": "K3aE8wJsE9ve"
      },
      "source": [
        "##Set2"
      ]
    },
    {
      "cell_type": "markdown",
      "metadata": {
        "id": "U1HKIMJY1JrQ"
      },
      "source": [
        "\n",
        "###RGB"
      ]
    },
    {
      "cell_type": "code",
      "metadata": {
        "id": "khE2o3vOE_KV"
      },
      "source": [
        "S2A1_1= list()\n",
        "S2A1_2 = list()\n",
        "for i in range(S2RGB_imgA1A1_1.shape[0]): \n",
        "     for j in range(S2RGB_imgA1A1_1.shape[1]): \n",
        "                if 1770<i<1880 and 1700<j<1830 :\n",
        "                    S2A1_1.append(S2RGB_imgA1A1_1[i][j])\n",
        "                if 1770<i<1880 and 2015<j<2145 :\n",
        "                    S2A1_2.append(S2RGB_imgA1A1_1[i][j])   "
      ],
      "execution_count": null,
      "outputs": []
    },
    {
      "cell_type": "code",
      "metadata": {
        "id": "4kCdvqwGE_KV"
      },
      "source": [
        "S2A1_3= list()\n",
        "S2A2_1 = list()\n",
        "for i in range(S2RGB_imgA1A2_1.shape[0]): \n",
        "     for j in range(S2RGB_imgA1A2_1.shape[1]): \n",
        "                if 1770<i<1880 and 1700<j<1830 :\n",
        "                    S2A1_3.append(S2RGB_imgA1A2_1[i][j])\n",
        "                if 1770<i<1880 and 2015<j<2145 :\n",
        "                    S2A2_1.append(S2RGB_imgA1A2_1[i][j])   "
      ],
      "execution_count": null,
      "outputs": []
    },
    {
      "cell_type": "code",
      "metadata": {
        "id": "U0X6KhvhE_KV"
      },
      "source": [
        "S2A1_4= list()\n",
        "S2A3_1 = list()\n",
        "for i in range(S2RGB_imgA1A3_1.shape[0]): \n",
        "     for j in range(S2RGB_imgA1A3_1.shape[1]): \n",
        "                if 1770<i<1880 and 1700<j<1830 :\n",
        "                    S2A1_4.append(S2RGB_imgA1A3_1[i][j])\n",
        "                if 1770<i<1880 and 2015<j<2145 :\n",
        "                    S2A3_1.append(S2RGB_imgA1A3_1[i][j])   "
      ],
      "execution_count": null,
      "outputs": []
    },
    {
      "cell_type": "code",
      "metadata": {
        "id": "BLFMGwWaE_KV"
      },
      "source": [
        "S2A1_5= list()\n",
        "S2A3_51 = list()\n",
        "for i in range(S2RGB_imgA1A3_51.shape[0]): \n",
        "     for j in range(S2RGB_imgA1A3_51.shape[1]): \n",
        "                if 1770<i<1880 and 1700<j<1830 :\n",
        "                    S2A1_5.append(S2RGB_imgA1A3_51[i][j])\n",
        "                if 1770<i<1880 and 2015<j<2145 :\n",
        "                    S2A3_51.append(S2RGB_imgA1A3_51[i][j])"
      ],
      "execution_count": null,
      "outputs": []
    },
    {
      "cell_type": "code",
      "metadata": {
        "id": "6628zpddE_KV"
      },
      "source": [
        "S2A1_6= list()\n",
        "S2A4_1 = list()\n",
        "for i in range(S2RGB_imgA1A4_1.shape[0]): \n",
        "     for j in range(S2RGB_imgA1A4_1.shape[1]): \n",
        "                if 1770<i<1880 and 1700<j<1830 :\n",
        "                    S2A1_6.append(S2RGB_imgA1A4_1[i][j])\n",
        "                if 1770<i<1880 and 2015<j<2145 :\n",
        "                    S2A4_1.append(S2RGB_imgA1A4_1[i][j])"
      ],
      "execution_count": null,
      "outputs": []
    },
    {
      "cell_type": "code",
      "metadata": {
        "id": "qi-Bb23SE_KV"
      },
      "source": [
        "S2A1_7= list()\n",
        "S2B1_1 = list()\n",
        "for i in range(S2RGB_imgA1B1_1.shape[0]): \n",
        "     for j in range(S2RGB_imgA1B1_1.shape[1]): \n",
        "                if 1770<i<1880 and 1700<j<1830 :\n",
        "                    S2A1_7.append(S2RGB_imgA1B1_1[i][j])\n",
        "                if 1770<i<1880 and 2015<j<2145 :\n",
        "                    S2B1_1.append(S2RGB_imgA1B1_1[i][j])"
      ],
      "execution_count": null,
      "outputs": []
    },
    {
      "cell_type": "code",
      "metadata": {
        "id": "WdESh-zdE_KV"
      },
      "source": [
        "S2A1_8= list()\n",
        "S2B2_1 = list()\n",
        "for i in range(S2RGB_imgA1B2_1.shape[0]): \n",
        "     for j in range(S2RGB_imgA1B2_1.shape[1]): \n",
        "                if 1770<i<1880 and 1700<j<1830 :\n",
        "                    S2A1_8.append(S2RGB_imgA1B2_1[i][j])\n",
        "                if 1770<i<1880 and 2015<j<2145 :\n",
        "                    S2B2_1.append(S2RGB_imgA1B2_1[i][j])"
      ],
      "execution_count": null,
      "outputs": []
    },
    {
      "cell_type": "code",
      "metadata": {
        "id": "jXnLb-2NE_KW"
      },
      "source": [
        "S2A1_9= list()\n",
        "S2B3_1 = list()\n",
        "for i in range(S2RGB_imgA1B3_1.shape[0]): \n",
        "     for j in range(S2RGB_imgA1B3_1.shape[1]): \n",
        "                if 1770<i<1880 and 1700<j<1830 :\n",
        "                    S2A1_9.append(S2RGB_imgA1B3_1[i][j])\n",
        "                if 1770<i<1880 and 2015<j<2145 :\n",
        "                    S2B3_1.append(S2RGB_imgA1B3_1[i][j])"
      ],
      "execution_count": null,
      "outputs": []
    },
    {
      "cell_type": "code",
      "metadata": {
        "id": "6ISqriBWE_KW"
      },
      "source": [
        "S2A1_10= list()\n",
        "S2B4_1 = list()\n",
        "for i in range(S2RGB_imgA1B4_1.shape[0]): \n",
        "     for j in range(S2RGB_imgA1B4_1.shape[1]): \n",
        "                if 1770<i<1880 and 1700<j<1830 :\n",
        "                    S2A1_10.append(S2RGB_imgA1B4_1[i][j])\n",
        "                if 1770<i<1880 and 2015<j<2145 :\n",
        "                    S2B4_1.append(S2RGB_imgA1B4_1[i][j])"
      ],
      "execution_count": null,
      "outputs": []
    },
    {
      "cell_type": "code",
      "metadata": {
        "id": "RebcKxFxE_KW"
      },
      "source": [
        "S2A1_11= list()\n",
        "S2C1_1 = list()\n",
        "for i in range(S2RGB_imgA1C1_1.shape[0]): \n",
        "     for j in range(S2RGB_imgA1C1_1.shape[1]): \n",
        "                if 1770<i<1880 and 1700<j<1830 :\n",
        "                    S2A1_11.append(S2RGB_imgA1C1_1[i][j])\n",
        "                if 1770<i<1880 and 2015<j<2145 :\n",
        "                    S2C1_1.append(S2RGB_imgA1C1_1[i][j])   "
      ],
      "execution_count": null,
      "outputs": []
    },
    {
      "cell_type": "code",
      "metadata": {
        "id": "rYhPStMmE_KW"
      },
      "source": [
        "S2A1_12= list()\n",
        "S2C2_1 = list()\n",
        "for i in range(S2RGB_imgA1C2_1.shape[0]): \n",
        "     for j in range(S2RGB_imgA1C2_1.shape[1]): \n",
        "                if 1770<i<1880 and 1700<j<1830 :\n",
        "                    S2A1_12.append(S2RGB_imgA1C2_1[i][j])\n",
        "                if 1770<i<1880 and 2015<j<2145 :\n",
        "                    S2C2_1.append(S2RGB_imgA1C2_1[i][j])   "
      ],
      "execution_count": null,
      "outputs": []
    },
    {
      "cell_type": "code",
      "metadata": {
        "id": "h3ox_cTcE_KW"
      },
      "source": [
        "S2A1_13= list()\n",
        "S2C3_1 = list()\n",
        "for i in range(S2RGB_imgA1C3_1.shape[0]): \n",
        "     for j in range(S2RGB_imgA1C3_1.shape[1]): \n",
        "                if 1770<i<1880 and 1700<j<1830 :\n",
        "                    S2A1_13.append(S2RGB_imgA1C3_1[i][j])\n",
        "                if 1770<i<1880 and 2015<j<2145 :\n",
        "                    S2C3_1.append(S2RGB_imgA1C3_1[i][j])   "
      ],
      "execution_count": null,
      "outputs": []
    },
    {
      "cell_type": "code",
      "metadata": {
        "id": "5hciU69HE_KW"
      },
      "source": [
        "S2A1_14= list()\n",
        "S2C4_1 = list()\n",
        "for i in range(S2RGB_imgA1C4_1.shape[0]): \n",
        "     for j in range(S2RGB_imgA1C4_1.shape[1]): \n",
        "                if 1770<i<1880 and 1700<j<1830 :\n",
        "                    S2A1_14.append(S2RGB_imgA1C4_1[i][j])\n",
        "                if 1770<i<1880 and 2015<j<2145 :\n",
        "                    S2C4_1.append(S2RGB_imgA1C4_1[i][j])"
      ],
      "execution_count": null,
      "outputs": []
    },
    {
      "cell_type": "code",
      "metadata": {
        "id": "-PIfd58aE_KW"
      },
      "source": [
        "S2A1_15= list()\n",
        "S2D2_1 = list()\n",
        "for i in range(S2RGB_imgA1C2_1.shape[0]): \n",
        "     for j in range(S2RGB_imgA1D2_1.shape[1]): \n",
        "                if 1770<i<1880 and 1700<j<1830 :\n",
        "                    S2A1_15.append(S2RGB_imgA1D2_1[i][j])\n",
        "                if 1770<i<1880 and 2015<j<2145 :\n",
        "                    S2D2_1.append(S2RGB_imgA1D2_1[i][j])   "
      ],
      "execution_count": null,
      "outputs": []
    },
    {
      "cell_type": "code",
      "metadata": {
        "id": "RWWQk81wE_KW"
      },
      "source": [
        "S2A1_16= list()\n",
        "S2D3_1 = list()\n",
        "for i in range(S2RGB_imgA1D3_1.shape[0]): \n",
        "     for j in range(S2RGB_imgA1D3_1.shape[1]): \n",
        "                if 1770<i<1880 and 1700<j<1830 :\n",
        "                    S2A1_16.append(S2RGB_imgA1D3_1[i][j])\n",
        "                if 1770<i<1880 and 2015<j<2145 :\n",
        "                    S2D3_1.append(S2RGB_imgA1D3_1[i][j])   "
      ],
      "execution_count": null,
      "outputs": []
    },
    {
      "cell_type": "code",
      "metadata": {
        "id": "--ESatmJE_KW"
      },
      "source": [
        "S2A1_17= list()\n",
        "S2D4_1 = list()\n",
        "for i in range(S2RGB_imgA1D4_1.shape[0]): \n",
        "     for j in range(S2RGB_imgA1D4_1.shape[1]): \n",
        "                if 1770<i<1880 and 1700<j<1830 :\n",
        "                    S2A1_14.append(S2RGB_imgA1D4_1[i][j])\n",
        "                if 1770<i<1880 and 2015<j<2145 :\n",
        "                    S2D4_1.append(S2RGB_imgA1D4_1[i][j])"
      ],
      "execution_count": null,
      "outputs": []
    },
    {
      "cell_type": "markdown",
      "metadata": {
        "id": "JkoDeeMU1OW7"
      },
      "source": [
        "###HSV"
      ]
    },
    {
      "cell_type": "code",
      "metadata": {
        "id": "xu-qOwpl1pQb"
      },
      "source": [
        "S2A1_1= list()\n",
        "S2A1_2 = list()\n",
        "for i in range(S2HSV_imgA1A1_1.shape[0]): \n",
        "     for j in range(S2HSV_imgA1A1_1.shape[1]): \n",
        "                if 1770<i<1880 and 1700<j<1830 :\n",
        "                    S2A1_1.append(S2HSV_imgA1A1_1[i][j])\n",
        "                if 1770<i<1880 and 2015<j<2145 :\n",
        "                    S2A1_2.append(S2HSV_imgA1A1_1[i][j])   "
      ],
      "execution_count": null,
      "outputs": []
    },
    {
      "cell_type": "code",
      "metadata": {
        "id": "_fpgN85Z1pQc"
      },
      "source": [
        "S2A1_3= list()\n",
        "S2A2_1 = list()\n",
        "for i in range(S2HSV_imgA1A2_1.shape[0]): \n",
        "     for j in range(S2HSV_imgA1A2_1.shape[1]): \n",
        "                if 1770<i<1880 and 1700<j<1830 :\n",
        "                    S2A1_3.append(S2HSV_imgA1A2_1[i][j])\n",
        "                if 1770<i<1880 and  2015<j<2145 :\n",
        "                   S2A2_1.append(S2HSV_imgA1A2_1[i][j])   "
      ],
      "execution_count": null,
      "outputs": []
    },
    {
      "cell_type": "code",
      "metadata": {
        "id": "1OVw3fvj1pQc"
      },
      "source": [
        "S2A1_4= list()\n",
        "S2A3_1 = list()\n",
        "for i in range(S2HSV_imgA1A3_1.shape[0]): \n",
        "     for j in range(S2HSV_imgA1A3_1.shape[1]): \n",
        "                if 1770<i<1880 and 1700<j<1830 :\n",
        "                    S2A1_4.append(S2HSV_imgA1A3_1[i][j])\n",
        "                if 1770<i<1880 and 2015<j<2145 :\n",
        "                    S2A3_1.append(S2HSV_imgA1A3_1[i][j])   "
      ],
      "execution_count": null,
      "outputs": []
    },
    {
      "cell_type": "code",
      "metadata": {
        "id": "8V2Atb3t1pQd"
      },
      "source": [
        "S2A1_5= list()\n",
        "S2A3_51 = list()\n",
        "for i in range(S2HSV_imgA1A3_51.shape[0]): \n",
        "     for j in range(S2HSV_imgA1A3_51.shape[1]): \n",
        "                if 1770<i<1880 and 1700<j<1830 :\n",
        "                    S2A1_5.append(S2HSV_imgA1A3_51[i][j])\n",
        "                if 1770<i<1880 and 2015<j<2145 :\n",
        "                    S2A3_51.append(S2HSV_imgA1A3_51[i][j])"
      ],
      "execution_count": null,
      "outputs": []
    },
    {
      "cell_type": "code",
      "metadata": {
        "id": "6q5mOaKO1pQd"
      },
      "source": [
        "S2A1_6= list()\n",
        "S2A4_1 = list()\n",
        "for i in range(S2HSV_imgA1A4_1.shape[0]): \n",
        "     for j in range(S2HSV_imgA1A4_1.shape[1]): \n",
        "                if 1770<i<1880 and 1700<j<1830 :\n",
        "                    S2A1_6.append(S2HSV_imgA1A4_1[i][j])\n",
        "                if 1770<i<1880 and 2015<j<2145 :\n",
        "                    S2A4_1.append(S2HSV_imgA1A4_1[i][j])"
      ],
      "execution_count": null,
      "outputs": []
    },
    {
      "cell_type": "code",
      "metadata": {
        "id": "STyt6nic1pQd"
      },
      "source": [
        "S2A1_7= list()\n",
        "S2B1_1 = list()\n",
        "for i in range(S2HSV_imgA1B1_1.shape[0]): \n",
        "     for j in range(S2HSV_imgA1B1_1.shape[1]): \n",
        "                if 1770<i<1880 and 1700<j<1830 :\n",
        "                    S2A1_7.append(S2HSV_imgA1B1_1[i][j])\n",
        "                if 1770<i<1880 and 2015<j<2145 :\n",
        "                    S2B1_1.append(S2HSV_imgA1B1_1[i][j])"
      ],
      "execution_count": null,
      "outputs": []
    },
    {
      "cell_type": "code",
      "metadata": {
        "id": "ReMsaPxH1pQe"
      },
      "source": [
        "S2A1_8= list()\n",
        "S2B2_1 = list()\n",
        "for i in range(S2HSV_imgA1B2_1.shape[0]): \n",
        "     for j in range(S2HSV_imgA1B2_1.shape[1]): \n",
        "                if 1770<i<1880 and 1700<j<1830 :\n",
        "                    S2A1_8.append(S2HSV_imgA1B2_1[i][j])\n",
        "                if 1770<i<1880 and 2015<j<2145 :\n",
        "                    S2B2_1.append(S2HSV_imgA1B2_1[i][j])"
      ],
      "execution_count": null,
      "outputs": []
    },
    {
      "cell_type": "code",
      "metadata": {
        "id": "wtik5ajT1pQe"
      },
      "source": [
        "S2A1_9= list()\n",
        "S2B3_1 = list()\n",
        "for i in range(S2HSV_imgA1B3_1.shape[0]): \n",
        "     for j in range(S2HSV_imgA1B3_1.shape[1]): \n",
        "                if 1770<i<1880 and 1700<j<1830 :\n",
        "                    S2A1_9.append(S2HSV_imgA1B3_1[i][j])\n",
        "                if 1770<i<1880 and 2015<j<2145 :\n",
        "                    S2B3_1.append(S2HSV_imgA1B3_1[i][j])"
      ],
      "execution_count": null,
      "outputs": []
    },
    {
      "cell_type": "code",
      "metadata": {
        "id": "zjbrsCW41pQe"
      },
      "source": [
        "S2A1_10= list()\n",
        "S2B4_1 = list()\n",
        "for i in range(S2HSV_imgA1B4_1.shape[0]): \n",
        "     for j in range(S2HSV_imgA1B4_1.shape[1]): \n",
        "                if 1770<i<1880 and 1700<j<1830 :\n",
        "                    S2A1_10.append(S2HSV_imgA1B4_1[i][j])\n",
        "                if 1770<i<1880 and 2015<j<2145 :\n",
        "                    S2B4_1.append(S2HSV_imgA1B4_1[i][j])"
      ],
      "execution_count": null,
      "outputs": []
    },
    {
      "cell_type": "code",
      "metadata": {
        "id": "QLyRshs21pQe"
      },
      "source": [
        "S2A1_11= list()\n",
        "S2C1_1 = list()\n",
        "for i in range(S2HSV_imgA1C1_1.shape[0]): \n",
        "     for j in range(S2HSV_imgA1C1_1.shape[1]): \n",
        "                if 1770<i<1880 and 1700<j<1830 :\n",
        "                    S2A1_11.append(S2HSV_imgA1C1_1[i][j])\n",
        "                if 1770<i<1880 and 2015<j<2145 :\n",
        "                    S2C1_1.append(S2HSV_imgA1C1_1[i][j])   "
      ],
      "execution_count": null,
      "outputs": []
    },
    {
      "cell_type": "code",
      "metadata": {
        "id": "tRI8V22i1pQe"
      },
      "source": [
        "S2A1_12= list()\n",
        "S2C2_1 = list()\n",
        "for i in range(S2HSV_imgA1C2_1.shape[0]): \n",
        "     for j in range(S2HSV_imgA1C2_1.shape[1]): \n",
        "                if 1770<i<1880 and 1700<j<1830 :\n",
        "                    S2A1_12.append(S2HSV_imgA1C2_1[i][j])\n",
        "                if 1770<i<1880 and 2015<j<2145 :\n",
        "                    S2C2_1.append(S2HSV_imgA1C2_1[i][j])   "
      ],
      "execution_count": null,
      "outputs": []
    },
    {
      "cell_type": "code",
      "metadata": {
        "id": "sjDrbszJ1pQf"
      },
      "source": [
        "S2A1_13= list()\n",
        "S2C3_1 = list()\n",
        "for i in range(S2HSV_imgA1C3_1.shape[0]): \n",
        "     for j in range(S2HSV_imgA1C3_1.shape[1]): \n",
        "                if 1770<i<1880 and 1700<j<1830 :\n",
        "                    S2A1_13.append(S2HSV_imgA1C3_1[i][j])\n",
        "                if 1770<i<1880 and 2015<j<2145 :\n",
        "                    S2C3_1.append(S2HSV_imgA1C3_1[i][j])   "
      ],
      "execution_count": null,
      "outputs": []
    },
    {
      "cell_type": "code",
      "metadata": {
        "id": "SLE_khFl1pQf"
      },
      "source": [
        "S2A1_14= list()\n",
        "S2C4_1 = list()\n",
        "for i in range(S2HSV_imgA1C4_1.shape[0]): \n",
        "     for j in range(S2HSV_imgA1C4_1.shape[1]): \n",
        "                if 1770<i<1880 and 1700<j<1830 :\n",
        "                    S2A1_14.append(S2HSV_imgA1C4_1[i][j])\n",
        "                if 1770<i<1880 and 2015<j<2145 :\n",
        "                    S2C4_1.append(S2HSV_imgA1C4_1[i][j])"
      ],
      "execution_count": null,
      "outputs": []
    },
    {
      "cell_type": "code",
      "metadata": {
        "id": "Wdfz2kJt1pQf"
      },
      "source": [
        "S2A1_15= list()\n",
        "S2D2_1 = list()\n",
        "for i in range(S2HSV_imgA1C2_1.shape[0]): \n",
        "     for j in range(S2HSV_imgA1D2_1.shape[1]): \n",
        "                if 1770<i<1880 and 1700<j<1830 :\n",
        "                    S2A1_15.append(S2HSV_imgA1D2_1[i][j])\n",
        "                if 1770<i<1880 and 2015<j<2145 :\n",
        "                    S2D2_1.append(S2HSV_imgA1D2_1[i][j])   "
      ],
      "execution_count": null,
      "outputs": []
    },
    {
      "cell_type": "code",
      "metadata": {
        "id": "fsIp_g_f1pQf"
      },
      "source": [
        "S2A1_16= list()\n",
        "S2D3_1 = list()\n",
        "for i in range(S2HSV_imgA1D3_1.shape[0]): \n",
        "          for j in range(S2HSV_imgA1D3_1.shape[1]): \n",
        "                if 1770<i<1880 and 1700<j<1830 :\n",
        "                    S2A1_16.append(S2HSV_imgA1D3_1[i][j])\n",
        "                if 1770<i<1880 and 2015<j<2145 :\n",
        "                    S2D3_1.append(S2HSV_imgA1D3_1[i][j])   "
      ],
      "execution_count": null,
      "outputs": []
    },
    {
      "cell_type": "code",
      "metadata": {
        "id": "XgdLikLO1pQg"
      },
      "source": [
        "S2A1_17= list()\n",
        "S2D4_1 = list()\n",
        "for i in range(S2HSV_imgA1D4_1.shape[0]): \n",
        "     for j in range(S2HSV_imgA1D4_1.shape[1]): \n",
        "                if 1770<i<1880 and 1700<j<1830 :\n",
        "                    S2A1_14.append(S2HSV_imgA1D4_1[i][j])\n",
        "                if 1770<i<1880 and 2015<j<2145 :\n",
        "                    S2D4_1.append(S2HSV_imgA1D4_1[i][j])"
      ],
      "execution_count": null,
      "outputs": []
    },
    {
      "cell_type": "markdown",
      "metadata": {
        "id": "LdPw_q1gGkV2"
      },
      "source": [
        "##Set3"
      ]
    },
    {
      "cell_type": "markdown",
      "metadata": {
        "id": "c06Ib-B4_hdh"
      },
      "source": [
        "###RGB"
      ]
    },
    {
      "cell_type": "code",
      "metadata": {
        "id": "J40PJiI8GmS1"
      },
      "source": [
        "S3A1_1= list()\n",
        "S3A1_2 = list()\n",
        "for i in range(S3RGB_imgA1A1_1.shape[0]): \n",
        "     for j in range(S3RGB_imgA1A1_1.shape[1]): \n",
        "                if 1770<i<1880 and 1700<j<1830 :\n",
        "                    S3A1_1.append(S3RGB_imgA1A1_1[i][j])\n",
        "                if 1770<i<1880 and 2015<j<2145 :\n",
        "                    S3A1_2.append(S3RGB_imgA1A1_1[i][j])   "
      ],
      "execution_count": null,
      "outputs": []
    },
    {
      "cell_type": "code",
      "metadata": {
        "id": "VxYPEX_4GmS1"
      },
      "source": [
        "S3A1_3= list()\n",
        "S3A2_1 = list()\n",
        "for i in range(S3RGB_imgA1A2_1.shape[0]): \n",
        "     for j in range(S3RGB_imgA1A2_1.shape[1]): \n",
        "                if 1770<i<1880 and 1700<j<1830 :\n",
        "                    S3A1_3.append(S3RGB_imgA1A2_1[i][j])\n",
        "                if 1770<i<1880 and 2015<j<2145 :\n",
        "                    S3A2_1.append(S3RGB_imgA1A2_1[i][j])   "
      ],
      "execution_count": null,
      "outputs": []
    },
    {
      "cell_type": "code",
      "metadata": {
        "id": "BVNOg5-cGmS2"
      },
      "source": [
        "S3A1_4= list()\n",
        "S3A3_1 = list()\n",
        "for i in range(S3RGB_imgA1A3_1.shape[0]): \n",
        "     for j in range(S3RGB_imgA1A3_1.shape[1]): \n",
        "                if 1770<i<1880 and 1700<j<1830 :\n",
        "                    S3A1_4.append(S3RGB_imgA1A3_1[i][j])\n",
        "                if 1770<i<1880 and 2015<j<2145 :\n",
        "                    S3A3_1.append(S3RGB_imgA1A3_1[i][j])   "
      ],
      "execution_count": null,
      "outputs": []
    },
    {
      "cell_type": "code",
      "metadata": {
        "id": "hgO-IINpGmS2"
      },
      "source": [
        "S3A1_5= list()\n",
        "S3A3_51 = list()\n",
        "for i in range(S3RGB_imgA1A3_51.shape[0]): \n",
        "     for j in range(S3RGB_imgA1A3_51.shape[1]): \n",
        "                if 1770<i<1880 and 1700<j<1830 :\n",
        "                    S3A1_5.append(S3RGB_imgA1A3_51[i][j])\n",
        "                if 1770<i<1880 and 2015<j<2145 :\n",
        "                    S3A3_51.append(S3RGB_imgA1A3_51[i][j])"
      ],
      "execution_count": null,
      "outputs": []
    },
    {
      "cell_type": "code",
      "metadata": {
        "id": "mhPYG5aWGmS2"
      },
      "source": [
        "S3A1_6= list()\n",
        "S3A4_1 = list()\n",
        "for i in range(S3RGB_imgA1A4_1.shape[0]): \n",
        "     for j in range(S3RGB_imgA1A4_1.shape[1]): \n",
        "                if 1770<i<1880 and 1700<j<1830 :\n",
        "                    S3A1_6.append(S3RGB_imgA1A4_1[i][j])\n",
        "                if 1770<i<1880 and 2015<j<2145 :\n",
        "                    S3A4_1.append(S3RGB_imgA1A4_1[i][j])"
      ],
      "execution_count": null,
      "outputs": []
    },
    {
      "cell_type": "code",
      "metadata": {
        "id": "fEdxgljaGmS2"
      },
      "source": [
        "S3A1_7= list()\n",
        "S3B1_1 = list()\n",
        "for i in range(S3RGB_imgA1B1_1.shape[0]): \n",
        "     for j in range(S3RGB_imgA1B1_1.shape[1]): \n",
        "                if 1770<i<1880 and 1700<j<1830 :\n",
        "                    S3A1_7.append(S3RGB_imgA1B1_1[i][j])\n",
        "                if 1770<i<1880 and 2015<j<2145 :\n",
        "                    S3B1_1.append(S3RGB_imgA1B1_1[i][j])"
      ],
      "execution_count": null,
      "outputs": []
    },
    {
      "cell_type": "code",
      "metadata": {
        "id": "BjYP0W3yGmS4"
      },
      "source": [
        "S3A1_8= list()\n",
        "S3B2_1 = list()\n",
        "for i in range(S3RGB_imgA1B2_1.shape[0]): \n",
        "     for j in range(S3RGB_imgA1B2_1.shape[1]): \n",
        "                if 1770<i<1880 and 1700<j<1830 :\n",
        "                    S3A1_8.append(S3RGB_imgA1B2_1[i][j])\n",
        "                if 1770<i<1880 and 2015<j<2145 :\n",
        "                    S3B2_1.append(S3RGB_imgA1B2_1[i][j])"
      ],
      "execution_count": null,
      "outputs": []
    },
    {
      "cell_type": "code",
      "metadata": {
        "id": "v-ifdKzfGmS4"
      },
      "source": [
        "S3A1_9= list()\n",
        "S3B3_1 = list()\n",
        "for i in range(S3RGB_imgA1B3_1.shape[0]): \n",
        "     for j in range(S3RGB_imgA1B3_1.shape[1]): \n",
        "                if 1770<i<1880 and 1700<j<1830 :\n",
        "                    S3A1_9.append(S3RGB_imgA1B3_1[i][j])\n",
        "                if 1770<i<1880 and 2015<j<2145 :\n",
        "                    S3B3_1.append(S3RGB_imgA1B3_1[i][j])"
      ],
      "execution_count": null,
      "outputs": []
    },
    {
      "cell_type": "code",
      "metadata": {
        "id": "SIYhSOKUGmS4"
      },
      "source": [
        "S3A1_10= list()\n",
        "S3B4_1 = list()\n",
        "for i in range(S3RGB_imgA1B4_1.shape[0]): \n",
        "     for j in range(S3RGB_imgA1B4_1.shape[1]): \n",
        "                if 1770<i<1880 and 1700<j<1830 :\n",
        "                    S3A1_10.append(S3RGB_imgA1B4_1[i][j])\n",
        "                if 1770<i<1880 and 2015<j<2145 :\n",
        "                    S3B4_1.append(S3RGB_imgA1B4_1[i][j])"
      ],
      "execution_count": null,
      "outputs": []
    },
    {
      "cell_type": "code",
      "metadata": {
        "id": "ApnX1-rXGmS4"
      },
      "source": [
        "S3A1_11= list()\n",
        "S3C1_2 = list()\n",
        "for i in range(S3RGB_imgA1C1_1.shape[0]): \n",
        "     for j in range(S3RGB_imgA1C1_1.shape[1]): \n",
        "                if 1770<i<1880 and 1700<j<1830 :\n",
        "                    S3A1_11.append(S3RGB_imgA1C1_1[i][j])\n",
        "                if 1770<i<1880 and 2015<j<2145 :\n",
        "                    S3C1_2.append(S3RGB_imgA1C1_1[i][j])   "
      ],
      "execution_count": null,
      "outputs": []
    },
    {
      "cell_type": "code",
      "metadata": {
        "id": "eJ_c9MBkGmS4"
      },
      "source": [
        "S3A1_12= list()\n",
        "S3C2_1 = list()\n",
        "for i in range(S3RGB_imgA1C2_1.shape[0]): \n",
        "     for j in range(S3RGB_imgA1C2_1.shape[1]): \n",
        "                if 1770<i<1880 and 1700<j<1830 :\n",
        "                    S3A1_12.append(S3RGB_imgA1C2_1[i][j])\n",
        "                if 1770<i<1880 and 2015<j<2145 :\n",
        "                    S3C2_1.append(S3RGB_imgA1C2_1[i][j])   "
      ],
      "execution_count": null,
      "outputs": []
    },
    {
      "cell_type": "code",
      "metadata": {
        "id": "_cOuV9_UGmS4"
      },
      "source": [
        "S3A1_13= list()\n",
        "S3C3_1 = list()\n",
        "for i in range(S3RGB_imgA1C3_1.shape[0]): \n",
        "     for j in range(S3RGB_imgA1C3_1.shape[1]): \n",
        "                if 1770<i<1880 and 1700<j<1830 :\n",
        "                    S3A1_13.append(S3RGB_imgA1C3_1[i][j])\n",
        "                if 1770<i<1880 and 2015<j<2145 :\n",
        "                    S3C3_1.append(S3RGB_imgA1C3_1[i][j])   "
      ],
      "execution_count": null,
      "outputs": []
    },
    {
      "cell_type": "code",
      "metadata": {
        "id": "7kykr3x5GmS5"
      },
      "source": [
        "S3A1_14= list()\n",
        "S3C4_1 = list()\n",
        "for i in range(S3RGB_imgA1C4_1.shape[0]): \n",
        "     for j in range(S3RGB_imgA1C4_1.shape[1]): \n",
        "                if 1770<i<1880 and 1700<j<1830 :\n",
        "                    S3A1_14.append(S3RGB_imgA1C4_1[i][j])\n",
        "                if 1770<i<1880 and 2015<j<2145 :\n",
        "                    S3C4_1.append(S3RGB_imgA1C4_1[i][j])"
      ],
      "execution_count": null,
      "outputs": []
    },
    {
      "cell_type": "code",
      "metadata": {
        "id": "WPHrRVBUGmS5"
      },
      "source": [
        "S3A1_15= list()\n",
        "S3D2_1 = list()\n",
        "for i in range(S3RGB_imgA1D2_1.shape[0]): \n",
        "     for j in range(S3RGB_imgA1D2_1.shape[1]): \n",
        "                if 1770<i<1880 and 1700<j<1830 :\n",
        "                    S3A1_15.append(S3RGB_imgA1D2_1[i][j])\n",
        "                if 1770<i<1880 and 2015<j<2145 :\n",
        "                    S3D2_1.append(S3RGB_imgA1D2_1[i][j])   "
      ],
      "execution_count": null,
      "outputs": []
    },
    {
      "cell_type": "code",
      "metadata": {
        "id": "isJEjHrRGmS5"
      },
      "source": [
        "S3A1_16= list()\n",
        "S3D3_1 = list()\n",
        "for i in range(S3RGB_imgA1D3_1.shape[0]): \n",
        "     for j in range(S3RGB_imgA1D3_1.shape[1]): \n",
        "                if 1770<i<1880 and 1700<j<1830 :\n",
        "                    S3A1_16.append(S3RGB_imgA1D3_1[i][j])\n",
        "                if 1770<i<1880 and 2015<j<2145 :\n",
        "                    S3D3_1.append(S3RGB_imgA1D3_1[i][j])   "
      ],
      "execution_count": null,
      "outputs": []
    },
    {
      "cell_type": "code",
      "metadata": {
        "id": "ps2NBDnOGmS5"
      },
      "source": [
        "S3A1_17= list()\n",
        "S3D4_1 = list()\n",
        "for i in range(S3RGB_imgA1D4_1.shape[0]): \n",
        "     for j in range(S3RGB_imgA1D4_1.shape[1]): \n",
        "                if 1770<i<1880 and 1700<j<1830 :\n",
        "                    S3A1_17.append(S3RGB_imgA1D4_1[i][j])\n",
        "                if 1770<i<1880 and 2015<j<2145 :\n",
        "                    S3D4_1.append(S3RGB_imgA1D4_1[i][j])"
      ],
      "execution_count": null,
      "outputs": []
    },
    {
      "cell_type": "markdown",
      "metadata": {
        "id": "kNOTENEk_xhP"
      },
      "source": [
        "###HSV"
      ]
    },
    {
      "cell_type": "code",
      "metadata": {
        "id": "Ulvlwpu-ABAs"
      },
      "source": [
        "S3A1_1= list()\n",
        "S3A1_2 = list()\n",
        "for i in range(S3HSV_imgA1A1_1.shape[0]): \n",
        "     for j in range(S3HSV_imgA1A1_1.shape[1]): \n",
        "                if 1770<i<1880 and 1700<j<1830 :\n",
        "                    S3A1_1.append(S3HSV_imgA1A1_1[i][j])\n",
        "                if 1770<i<1880 and 2015<j<2145 :\n",
        "                    S3A1_2.append(S3HSV_imgA1A1_1[i][j])   "
      ],
      "execution_count": null,
      "outputs": []
    },
    {
      "cell_type": "code",
      "metadata": {
        "id": "DAd6RmLwABAs"
      },
      "source": [
        "S3A1_3= list()\n",
        "S3A2_1 = list()\n",
        "for i in range(S3HSV_imgA1A2_1.shape[0]): \n",
        "     for j in range(S3HSV_imgA1A2_1.shape[1]): \n",
        "                if 1770<i<1880 and 1700<j<1830 :\n",
        "                    S3A1_3.append(S3HSV_imgA1A2_1[i][j])\n",
        "                if 1770<i<1880 and 2015<j<2145 :\n",
        "                    S3A2_1.append(S3HSV_imgA1A2_1[i][j])   "
      ],
      "execution_count": null,
      "outputs": []
    },
    {
      "cell_type": "code",
      "metadata": {
        "id": "QFNdkW2MABAt"
      },
      "source": [
        "S3A1_4= list()\n",
        "S3A3_1 = list()\n",
        "for i in range(S3HSV_imgA1A3_1.shape[0]): \n",
        "     for j in range(S3HSV_imgA1A3_1.shape[1]): \n",
        "                if 1770<i<1880 and 1700<j<1830 :\n",
        "                    S3A1_4.append(S3HSV_imgA1A3_1[i][j])\n",
        "                if 1770<i<1880 and 2015<j<2145 :\n",
        "                    S3A3_1.append(S3HSV_imgA1A3_1[i][j])   "
      ],
      "execution_count": null,
      "outputs": []
    },
    {
      "cell_type": "code",
      "metadata": {
        "id": "oQDmKlIVABAt"
      },
      "source": [
        "S3A1_5= list()\n",
        "S3A3_51 = list()\n",
        "for i in range(S3HSV_imgA1A3_51.shape[0]): \n",
        "     for j in range(S3HSV_imgA1A3_51.shape[1]): \n",
        "                if 1770<i<1880 and 1700<j<1830 :\n",
        "                    S3A1_5.append(S3HSV_imgA1A3_51[i][j])\n",
        "                if 1770<i<1880 and 2015<j<2145 :\n",
        "                    S3A3_51.append(S3HSV_imgA1A3_51[i][j])"
      ],
      "execution_count": null,
      "outputs": []
    },
    {
      "cell_type": "code",
      "metadata": {
        "id": "SDQMWSr0ABAt"
      },
      "source": [
        "S3A1_6= list()\n",
        "S3A4_1 = list()\n",
        "for i in range(S3HSV_imgA1A4_1.shape[0]): \n",
        "     for j in range(S3HSV_imgA1A4_1.shape[1]): \n",
        "                if 1770<i<1880 and 1700<j<1830 :\n",
        "                    S3A1_6.append(S3HSV_imgA1A4_1[i][j])\n",
        "                if 1770<i<1880 and 2015<j<2145 :\n",
        "                    S3A4_1.append(S3HSV_imgA1A4_1[i][j])"
      ],
      "execution_count": null,
      "outputs": []
    },
    {
      "cell_type": "code",
      "metadata": {
        "id": "1Z-5IwsOABAu"
      },
      "source": [
        "S3A1_7= list()\n",
        "S3B1_1 = list()\n",
        "for i in range(S3HSV_imgA1B1_1.shape[0]): \n",
        "     for j in range(S3HSV_imgA1B1_1.shape[1]): \n",
        "                if 1770<i<1880 and 1700<j<1830 :\n",
        "                    S3A1_7.append(S3HSV_imgA1B1_1[i][j])\n",
        "                if 1770<i<1880 and 2015<j<2145 :\n",
        "                    S3B1_1.append(S3HSV_imgA1B1_1[i][j])"
      ],
      "execution_count": null,
      "outputs": []
    },
    {
      "cell_type": "code",
      "metadata": {
        "id": "I2ZX8vzmABAu"
      },
      "source": [
        "S3A1_8= list()\n",
        "S3B2_1 = list()\n",
        "for i in range(S3HSV_imgA1B2_1.shape[0]): \n",
        "     for j in range(S3HSV_imgA1B2_1.shape[1]): \n",
        "                if 1770<i<1880 and 1700<j<1830 :\n",
        "                    S3A1_8.append(S3HSV_imgA1B2_1[i][j])\n",
        "                if 1770<i<1880 and 2015<j<2145 :\n",
        "                    S3B2_1.append(S3HSV_imgA1B2_1[i][j])"
      ],
      "execution_count": null,
      "outputs": []
    },
    {
      "cell_type": "code",
      "metadata": {
        "id": "bjkhIe6jABAv"
      },
      "source": [
        "S3A1_9= list()\n",
        "S3B3_1 = list()\n",
        "for i in range(S3HSV_imgA1B3_1.shape[0]): \n",
        "     for j in range(S3HSV_imgA1B3_1.shape[1]): \n",
        "                if 1770<i<1880 and 1700<j<1830 :\n",
        "                    S3A1_9.append(S3HSV_imgA1B3_1[i][j])\n",
        "                if 1770<i<1880 and 2015<j<2145 :\n",
        "                    S3B3_1.append(S3HSV_imgA1B3_1[i][j])"
      ],
      "execution_count": null,
      "outputs": []
    },
    {
      "cell_type": "code",
      "metadata": {
        "id": "7b0qdZF3ABAv"
      },
      "source": [
        "S3A1_10= list()\n",
        "S3B4_1 = list()\n",
        "for i in range(S3HSV_imgA1B4_1.shape[0]): \n",
        "     for j in range(S3HSV_imgA1B4_1.shape[1]): \n",
        "                if 1770<i<1880 and 1700<j<1830 :\n",
        "                    S3A1_10.append(S3HSV_imgA1B4_1[i][j])\n",
        "                if 1770<i<1880 and 2015<j<2145 :\n",
        "                    S3B4_1.append(S3HSV_imgA1B4_1[i][j])"
      ],
      "execution_count": null,
      "outputs": []
    },
    {
      "cell_type": "code",
      "metadata": {
        "id": "SXtXUwViABAv"
      },
      "source": [
        "S3A1_11= list()\n",
        "S3C1_2 = list()\n",
        "for i in range(S3HSV_imgA1C1_1.shape[0]): \n",
        "     for j in range(S3HSV_imgA1C1_1.shape[1]): \n",
        "                if 1770<i<1880 and 1700<j<1830 :\n",
        "                    S3A1_11.append(S3HSV_imgA1C1_1[i][j])\n",
        "                if 1770<i<1880 and 2015<j<2145 :\n",
        "                    S3C1_2.append(S3HSV_imgA1C1_1[i][j])   "
      ],
      "execution_count": null,
      "outputs": []
    },
    {
      "cell_type": "code",
      "metadata": {
        "id": "UwwJ83K-ABAw"
      },
      "source": [
        "S3A1_12= list()\n",
        "S3C2_1 = list()\n",
        "for i in range(S3HSV_imgA1C2_1.shape[0]): \n",
        "     for j in range(S3HSV_imgA1C2_1.shape[1]): \n",
        "                if 1770<i<1880 and 1700<j<1830 :\n",
        "                    S3A1_12.append(S3HSV_imgA1C2_1[i][j])\n",
        "                if 1770<i<1880 and 2015<j<2145 :\n",
        "                    S3C2_1.append(S3HSV_imgA1C2_1[i][j])   "
      ],
      "execution_count": null,
      "outputs": []
    },
    {
      "cell_type": "code",
      "metadata": {
        "id": "oTAqjGKGABAw"
      },
      "source": [
        "S3A1_13= list()\n",
        "S3C3_1 = list()\n",
        "for i in range(S3HSV_imgA1C3_1.shape[0]): \n",
        "     for j in range(S3HSV_imgA1C3_1.shape[1]): \n",
        "                if 1770<i<1880 and 1700<j<1830 :\n",
        "                    S3A1_13.append(S3HSV_imgA1C3_1[i][j])\n",
        "                if 1770<i<1880 and 2015<j<2145 :\n",
        "                    S3C3_1.append(S3HSV_imgA1C3_1[i][j])   "
      ],
      "execution_count": null,
      "outputs": []
    },
    {
      "cell_type": "code",
      "metadata": {
        "id": "IK_xgjpqABAw"
      },
      "source": [
        "S3A1_14= list()\n",
        "S3C4_1 = list()\n",
        "for i in range(S3HSV_imgA1C4_1.shape[0]): \n",
        "     for j in range(S3HSV_imgA1C4_1.shape[1]): \n",
        "                if 1770<i<1880 and 1700<j<1830 :\n",
        "                    S3A1_14.append(S3HSV_imgA1C4_1[i][j])\n",
        "                if 1770<i<1880 and 2015<j<2145 :\n",
        "                    S3C4_1.append(S3HSV_imgA1C4_1[i][j])"
      ],
      "execution_count": null,
      "outputs": []
    },
    {
      "cell_type": "code",
      "metadata": {
        "id": "o771e07gABAx"
      },
      "source": [
        "S3A1_15= list()\n",
        "S3D2_1 = list()\n",
        "for i in range(S3HSV_imgA1D2_1.shape[0]): \n",
        "     for j in range(S3HSV_imgA1D2_1.shape[1]): \n",
        "                if 1770<i<1880 and 1700<j<1830 :\n",
        "                    S3A1_15.append(S3HSV_imgA1D2_1[i][j])\n",
        "                if 1770<i<1880 and 2015<j<2145 :\n",
        "                    S3D2_1.append(S3HSV_imgA1D2_1[i][j])   "
      ],
      "execution_count": null,
      "outputs": []
    },
    {
      "cell_type": "code",
      "metadata": {
        "id": "4OHLTXRhABAx"
      },
      "source": [
        "S3A1_16= list()\n",
        "S3D3_1 = list()\n",
        "for i in range(S3HSV_imgA1D3_1.shape[0]): \n",
        "     for j in range(S3HSV_imgA1D3_1.shape[1]): \n",
        "                if 1770<i<1880 and 1700<j<1830 :\n",
        "                    S3A1_16.append(S3HSV_imgA1D3_1[i][j])\n",
        "                if 1770<i<1880 and 2015<j<2145 :\n",
        "                    S3D3_1.append(S3HSV_imgA1D3_1[i][j])   "
      ],
      "execution_count": null,
      "outputs": []
    },
    {
      "cell_type": "code",
      "metadata": {
        "id": "LqJ__MlDABAx"
      },
      "source": [
        "S3A1_17= list()\n",
        "S3D4_1 = list()\n",
        "for i in range(S3HSV_imgA1D4_1.shape[0]): \n",
        "     for j in range(S3HSV_imgA1D4_1.shape[1]): \n",
        "                if 1770<i<1880 and 1700<j<1830 :\n",
        "                    S3A1_17.append(S3HSV_imgA1D4_1[i][j])\n",
        "                if 1770<i<1880 and 2015<j<2145 :\n",
        "                    S3D4_1.append(S3HSV_imgA1D4_1[i][j])"
      ],
      "execution_count": null,
      "outputs": []
    },
    {
      "cell_type": "markdown",
      "metadata": {
        "id": "sjUneh4RHb0T"
      },
      "source": [
        "\n",
        "##Set4"
      ]
    },
    {
      "cell_type": "markdown",
      "metadata": {
        "id": "QqYczmnFIqgb"
      },
      "source": [
        "###RGB"
      ]
    },
    {
      "cell_type": "code",
      "metadata": {
        "id": "Q2cfVpmuHf4m"
      },
      "source": [
        "S4A1_1= list()\n",
        "S4A1_2 = list()\n",
        "for i in range(S4RGB_imgA1A1_1.shape[0]): \n",
        "     for j in range(S4RGB_imgA1A1_1.shape[1]): \n",
        "                if 1770<i<1880 and 1700<j<1830 :\n",
        "                    S4A1_1.append(S4RGB_imgA1A1_1[i][j])\n",
        "                if 1770<i<1880 and 2015<j<2145 :\n",
        "                    S4A1_2.append(S4RGB_imgA1A1_1[i][j])   "
      ],
      "execution_count": null,
      "outputs": []
    },
    {
      "cell_type": "code",
      "metadata": {
        "id": "Xz63JWZhHf4m"
      },
      "source": [
        "S4A1_3= list()\n",
        "S4A2_1 = list()\n",
        "for i in range(S4RGB_imgA1A2_1.shape[0]): \n",
        "     for j in range(S4RGB_imgA1A2_1.shape[1]): \n",
        "                if 1770<i<1880 and 1700<j<1830 :\n",
        "                    S4A1_3.append(S4RGB_imgA1A2_1[i][j])\n",
        "                if 1770<i<1880 and 2015<j<2145 :\n",
        "                    S4A2_1.append(S4RGB_imgA1A2_1[i][j])   "
      ],
      "execution_count": null,
      "outputs": []
    },
    {
      "cell_type": "code",
      "metadata": {
        "id": "m0x_EYErHf4m"
      },
      "source": [
        "S4A1_4= list()\n",
        "S4A3_1 = list()\n",
        "for i in range(S4RGB_imgA1A3_1.shape[0]): \n",
        "     for j in range(S4RGB_imgA1A3_1.shape[1]): \n",
        "                if 1770<i<1880 and 1700<j<1830 :\n",
        "                    S4A1_4.append(S4RGB_imgA1A3_1[i][j])\n",
        "                if 1770<i<1880 and 2015<j<2145 :\n",
        "                    S4A3_1.append(S4RGB_imgA1A3_1[i][j])   "
      ],
      "execution_count": null,
      "outputs": []
    },
    {
      "cell_type": "code",
      "metadata": {
        "id": "2fkBODCxHf4n"
      },
      "source": [
        "S4A1_5= list()\n",
        "S4A3_51 = list()\n",
        "for i in range(S4RGB_imgA1A3_51.shape[0]): \n",
        "     for j in range(S4RGB_imgA1A3_51.shape[1]): \n",
        "                if 1770<i<1880 and 1700<j<1830 :\n",
        "                    S4A1_5.append(S4RGB_imgA1A3_51[i][j])\n",
        "                if 1770<i<1880 and 2015<j<2145 :\n",
        "                    S4A3_51.append(S4RGB_imgA1A3_51[i][j])"
      ],
      "execution_count": null,
      "outputs": []
    },
    {
      "cell_type": "code",
      "metadata": {
        "id": "2mpRtq-_Hf4n"
      },
      "source": [
        "S4A1_6= list()\n",
        "S4A4_1 = list()\n",
        "for i in range(S4RGB_imgA1A4_1.shape[0]): \n",
        "     for j in range(S4RGB_imgA1A4_1.shape[1]): \n",
        "                if 1770<i<1880 and 1700<j<1830 :\n",
        "                    S4A1_6.append(S4RGB_imgA1A4_1[i][j])\n",
        "                if 1770<i<1880 and 2015<j<2145 :\n",
        "                    S4A4_1.append(S4RGB_imgA1A4_1[i][j])"
      ],
      "execution_count": null,
      "outputs": []
    },
    {
      "cell_type": "code",
      "metadata": {
        "id": "RA15r3vmHf4n"
      },
      "source": [
        "S4A1_7= list()\n",
        "S4B1_1 = list()\n",
        "for i in range(S4RGB_imgA1B1_1.shape[0]): \n",
        "     for j in range(S4RGB_imgA1B1_1.shape[1]): \n",
        "                if 1770<i<1880 and 1700<j<1830 :\n",
        "                    S4A1_7.append(S4RGB_imgA1B1_1[i][j])\n",
        "                if 1770<i<1880 and 2015<j<2145 :\n",
        "                    S4B1_1.append(S4RGB_imgA1B1_1[i][j])"
      ],
      "execution_count": null,
      "outputs": []
    },
    {
      "cell_type": "code",
      "metadata": {
        "id": "iXmvLR4YHf4n"
      },
      "source": [
        "S4A1_8= list()\n",
        "S4B2_1 = list()\n",
        "for i in range(S4RGB_imgA1B2_1.shape[0]): \n",
        "     for j in range(S4RGB_imgA1B2_1.shape[1]): \n",
        "                if 1770<i<1880 and 1700<j<1830 :\n",
        "                    S4A1_8.append(S4RGB_imgA1B2_1[i][j])\n",
        "                if 1770<i<1880 and 2015<j<2145 :\n",
        "                    S4B2_1.append(S4RGB_imgA1B2_1[i][j])"
      ],
      "execution_count": null,
      "outputs": []
    },
    {
      "cell_type": "code",
      "metadata": {
        "id": "Z3J6vrv5Hf4n"
      },
      "source": [
        "S4A1_9= list()\n",
        "S4B3_1 = list()\n",
        "for i in range(S4RGB_imgA1B3_1.shape[0]): \n",
        "     for j in range(S4RGB_imgA1B3_1.shape[1]): \n",
        "                if 1770<i<1880 and 1700<j<1830 :\n",
        "                    S4A1_9.append(S4RGB_imgA1B3_1[i][j])\n",
        "                if 1770<i<1880 and 2015<j<2145 :\n",
        "                    S4B3_1.append(S4RGB_imgA1B3_1[i][j])"
      ],
      "execution_count": null,
      "outputs": []
    },
    {
      "cell_type": "code",
      "metadata": {
        "id": "mSdkq8vhHf4n"
      },
      "source": [
        "S4A1_10= list()\n",
        "S4B4_1 = list()\n",
        "for i in range(S4RGB_imgA1B4_1.shape[0]): \n",
        "     for j in range(S4RGB_imgA1B4_1.shape[1]): \n",
        "                if 1770<i<1880 and 1700<j<1830 :\n",
        "                    S4A1_10.append(S4RGB_imgA1B4_1[i][j])\n",
        "                if 1770<i<1880 and 2015<j<2145 :\n",
        "                    S4B4_1.append(S4RGB_imgA1B4_1[i][j])"
      ],
      "execution_count": null,
      "outputs": []
    },
    {
      "cell_type": "code",
      "metadata": {
        "id": "-SK3SZSKHf4n"
      },
      "source": [
        "S4A1_11= list()\n",
        "S4C1_1 = list()\n",
        "for i in range(S4RGB_imgA1C1_1.shape[0]): \n",
        "     for j in range(S4RGB_imgA1C1_1.shape[1]): \n",
        "                if 1770<i<1880 and 1700<j<1830 :\n",
        "                    S4A1_11.append(S4RGB_imgA1C1_1[i][j])\n",
        "                if 1770<i<1880 and 2015<j<2145 :\n",
        "                    S4C1_1.append(S4RGB_imgA1C1_1[i][j])   "
      ],
      "execution_count": null,
      "outputs": []
    },
    {
      "cell_type": "code",
      "metadata": {
        "id": "DwlieHawHf4n"
      },
      "source": [
        "S4A1_12= list()\n",
        "S4C2_1 = list()\n",
        "for i in range(S4RGB_imgA1C2_1.shape[0]): \n",
        "     for j in range(S4RGB_imgA1C2_1.shape[1]): \n",
        "                if 1770<i<1880 and 1700<j<1830 :\n",
        "                    S4A1_12.append(S4RGB_imgA1C2_1[i][j])\n",
        "                if 1770<i<1880 and 2015<j<2145 :\n",
        "                    S4C2_1.append(S4RGB_imgA1C2_1[i][j])   "
      ],
      "execution_count": null,
      "outputs": []
    },
    {
      "cell_type": "code",
      "metadata": {
        "id": "U02tWxMMHf4o"
      },
      "source": [
        "S4A1_13= list()\n",
        "S4C3_1 = list()\n",
        "for i in range(S4RGB_imgA1C3_1.shape[0]): \n",
        "     for j in range(S4RGB_imgA1C3_1.shape[1]): \n",
        "                if 1770<i<1880 and 1700<j<1830 :\n",
        "                    S4A1_13.append(S4RGB_imgA1C3_1[i][j])\n",
        "                if 1770<i<1880 and 2015<j<2145 :\n",
        "                    S4C3_1.append(S4RGB_imgA1C3_1[i][j])   "
      ],
      "execution_count": null,
      "outputs": []
    },
    {
      "cell_type": "code",
      "metadata": {
        "id": "pfOn-jLeHf4o"
      },
      "source": [
        "S4A1_14= list()\n",
        "S4C4_1 = list()\n",
        "for i in range(S4RGB_imgA1C4_1.shape[0]): \n",
        "     for j in range(S4RGB_imgA1C4_1.shape[1]): \n",
        "                if 1770<i<1880 and 1700<j<1830 :\n",
        "                    S4A1_14.append(S4RGB_imgA1C4_1[i][j])\n",
        "                if 1770<i<1880 and 2015<j<2145 :\n",
        "                    S4C4_1.append(S4RGB_imgA1C4_1[i][j])"
      ],
      "execution_count": null,
      "outputs": []
    },
    {
      "cell_type": "code",
      "metadata": {
        "id": "AbnmV2_kHf4o"
      },
      "source": [
        "S4A1_15= list()\n",
        "S4D2_1 = list()\n",
        "for i in range(S4RGB_imgA1C2_1.shape[0]): \n",
        "     for j in range(S4RGB_imgA1D2_1.shape[1]): \n",
        "                if 1770<i<1880 and 1700<j<1830 :\n",
        "                    S4A1_15.append(S4RGB_imgA1D2_1[i][j])\n",
        "                if 1770<i<1880 and 2015<j<2145 :\n",
        "                    S4D2_1.append(S4RGB_imgA1D2_1[i][j])   "
      ],
      "execution_count": null,
      "outputs": []
    },
    {
      "cell_type": "code",
      "metadata": {
        "id": "iDlwebCJHf4o"
      },
      "source": [
        "S4A1_16= list()\n",
        "S4D3_1 = list()\n",
        "for i in range(S4RGB_imgA1D3_1.shape[0]): \n",
        "     for j in range(S4RGB_imgA1D3_1.shape[1]): \n",
        "                if 1770<i<1880 and 1700<j<1830 :\n",
        "                    S4A1_16.append(S4RGB_imgA1D3_1[i][j])\n",
        "                if 1770<i<1880 and 2015<j<2145 :\n",
        "                    S4D3_1.append(S4RGB_imgA1D3_1[i][j])   "
      ],
      "execution_count": null,
      "outputs": []
    },
    {
      "cell_type": "code",
      "metadata": {
        "id": "_tnuzvwuHf4o"
      },
      "source": [
        "S4A1_17= list()\n",
        "S4D4_1 = list()\n",
        "for i in range(S4RGB_imgA1D4_1.shape[0]): \n",
        "     for j in range(S4RGB_imgA1D4_1.shape[1]): \n",
        "                if 1770<i<1880 and 1700<j<1830 :\n",
        "                    S4A1_17.append(S4RGB_imgA1D4_1[i][j])\n",
        "                if 1770<i<1880 and 2015<j<2145 :\n",
        "                    S4D4_1.append(S4RGB_imgA1D4_1[i][j])"
      ],
      "execution_count": null,
      "outputs": []
    },
    {
      "cell_type": "markdown",
      "metadata": {
        "id": "q0jR50JbIuL6"
      },
      "source": [
        "###HSV"
      ]
    },
    {
      "cell_type": "code",
      "metadata": {
        "id": "4uy8q9MWI1u_"
      },
      "source": [
        "S4A1_1= list()\n",
        "S4A1_2 = list()\n",
        "for i in range(S4HSV_imgA1A1_1.shape[0]): \n",
        "     for j in range(S4HSV_imgA1A1_1.shape[1]): \n",
        "                if 1770<i<1880 and 1700<j<1830 :\n",
        "                    S4A1_1.append(S4HSV_imgA1A1_1[i][j])\n",
        "                if 1770<i<1880 and 2015<j<2145 :\n",
        "                    S4A1_2.append(S4HSV_imgA1A1_1[i][j])   "
      ],
      "execution_count": null,
      "outputs": []
    },
    {
      "cell_type": "code",
      "metadata": {
        "id": "MPWIFjZ6I1u_"
      },
      "source": [
        "S4A1_3= list()\n",
        "S4A2_1 = list()\n",
        "for i in range(S4HSV_imgA1A2_1.shape[0]): \n",
        "     for j in range(S4HSV_imgA1A2_1.shape[1]): \n",
        "                if 1770<i<1880 and 1700<j<1830 :\n",
        "                    S4A1_3.append(S4HSV_imgA1A2_1[i][j])\n",
        "                if 1770<i<1880 and 2015<j<2145 :\n",
        "                    S4A2_1.append(S4HSV_imgA1A2_1[i][j])   "
      ],
      "execution_count": null,
      "outputs": []
    },
    {
      "cell_type": "code",
      "metadata": {
        "id": "FcUqJt2MI1u_"
      },
      "source": [
        "S4A1_4= list()\n",
        "S4A3_1 = list()\n",
        "for i in range(S4HSV_imgA1A3_1.shape[0]): \n",
        "     for j in range(S4HSV_imgA1A3_1.shape[1]): \n",
        "                if 1770<i<1880 and 1700<j<1830 :\n",
        "                    S4A1_4.append(S4HSV_imgA1A3_1[i][j])\n",
        "                if 1770<i<1880 and 2015<j<2145 :\n",
        "                    S4A3_1.append(S4HSV_imgA1A3_1[i][j])   "
      ],
      "execution_count": null,
      "outputs": []
    },
    {
      "cell_type": "code",
      "metadata": {
        "id": "zT0Qr1JPI1u_"
      },
      "source": [
        "S4A1_5= list()\n",
        "S4A3_51 = list()\n",
        "for i in range(S4RGB_imgA1A3_51.shape[0]): \n",
        "     for j in range(S4RGB_imgA1A3_51.shape[1]): \n",
        "                if 1770<i<1880 and 1700<j<1830 :\n",
        "                    S4A1_5.append(S4RGB_imgA1A3_51[i][j])\n",
        "                if 1770<i<1880 and 2015<j<2145 :\n",
        "                    S4A3_51.append(S4RGB_imgA1A3_51[i][j])"
      ],
      "execution_count": null,
      "outputs": []
    },
    {
      "cell_type": "code",
      "metadata": {
        "id": "J3vDN6EwI1vA"
      },
      "source": [
        "S4A1_6= list()\n",
        "S4A4_1 = list()\n",
        "for i in range(S4HSV_imgA1A4_1.shape[0]): \n",
        "     for j in range(S4HSV_imgA1A4_1.shape[1]): \n",
        "                if 1770<i<1880 and 1700<j<1830 :\n",
        "                    S4A1_6.append(S4HSV_imgA1A4_1[i][j])\n",
        "                if 1770<i<1880 and 2015<j<2145 :\n",
        "                    S4A4_1.append(S4HSV_imgA1A4_1[i][j])"
      ],
      "execution_count": null,
      "outputs": []
    },
    {
      "cell_type": "code",
      "metadata": {
        "id": "R4slu2aII1vA"
      },
      "source": [
        "S4A1_7= list()\n",
        "S4B1_1 = list()\n",
        "for i in range(S4HSV_imgA1B1_1.shape[0]): \n",
        "     for j in range(S4HSV_imgA1B1_1.shape[1]): \n",
        "                if 1770<i<1880 and 1700<j<1830 :\n",
        "                    S4A1_7.append(S4HSV_imgA1B1_1[i][j])\n",
        "                if 1770<i<1880 and 2015<j<2145 :\n",
        "                    S4B1_1.append(S4HSV_imgA1B1_1[i][j])"
      ],
      "execution_count": null,
      "outputs": []
    },
    {
      "cell_type": "code",
      "metadata": {
        "id": "pQsS08lUI1vA"
      },
      "source": [
        "S4A1_8= list()\n",
        "S4B2_1 = list()\n",
        "for i in range(S4HSV_imgA1B2_1.shape[0]): \n",
        "     for j in range(S4HSV_imgA1B2_1.shape[1]): \n",
        "                if 1770<i<1880 and 1700<j<1830 :\n",
        "                    S4A1_8.append(S4HSV_imgA1B2_1[i][j])\n",
        "                if 1770<i<1880 and 2015<j<2145 :\n",
        "                    S4B2_1.append(S4HSV_imgA1B2_1[i][j])"
      ],
      "execution_count": null,
      "outputs": []
    },
    {
      "cell_type": "code",
      "metadata": {
        "id": "D-m24sUJI1vA"
      },
      "source": [
        "S4A1_9= list()\n",
        "S4B3_1 = list()\n",
        "for i in range(S4HSV_imgA1B3_1.shape[0]): \n",
        "     for j in range(S4HSV_imgA1B3_1.shape[1]): \n",
        "                if 1770<i<1880 and 1700<j<1830 :\n",
        "                    S4A1_9.append(S4HSV_imgA1B3_1[i][j])\n",
        "                if 1770<i<1880 and 2015<j<2145 :\n",
        "                    S4B3_1.append(S4HSV_imgA1B3_1[i][j])"
      ],
      "execution_count": null,
      "outputs": []
    },
    {
      "cell_type": "code",
      "metadata": {
        "id": "lec05Gg-I1vB"
      },
      "source": [
        "S4A1_10= list()\n",
        "S4B4_1 = list()\n",
        "for i in range(S4HSV_imgA1B4_1.shape[0]): \n",
        "     for j in range(S4HSV_imgA1B4_1.shape[1]): \n",
        "                if 1770<i<1880 and 1700<j<1830 :\n",
        "                    S4A1_10.append(S4HSV_imgA1B4_1[i][j])\n",
        "                if 1770<i<1880 and 2015<j<2145 :\n",
        "                    S4B4_1.append(S4HSV_imgA1B4_1[i][j])"
      ],
      "execution_count": null,
      "outputs": []
    },
    {
      "cell_type": "code",
      "metadata": {
        "id": "KupTB_eLI1vB"
      },
      "source": [
        "S4A1_11= list()\n",
        "S4C1_1 = list()\n",
        "for i in range(S4HSV_imgA1C1_1.shape[0]): \n",
        "     for j in range(S4HSV_imgA1C1_1.shape[1]): \n",
        "                if 1770<i<1880 and 1700<j<1830 :\n",
        "                    S4A1_11.append(S4HSV_imgA1C1_1[i][j])\n",
        "                if 1770<i<1880 and 2015<j<2145 :\n",
        "                    S4C1_1.append(S4HSV_imgA1C1_1[i][j])   "
      ],
      "execution_count": null,
      "outputs": []
    },
    {
      "cell_type": "code",
      "metadata": {
        "id": "7OjCZ14YI1vB"
      },
      "source": [
        "S4A1_12= list()\n",
        "S4C2_1 = list()\n",
        "for i in range(S4HSV_imgA1C2_1.shape[0]): \n",
        "     for j in range(S4HSV_imgA1C2_1.shape[1]): \n",
        "                if 1770<i<1880 and 1700<j<1830 :\n",
        "                    S4A1_12.append(S4HSV_imgA1C2_1[i][j])\n",
        "                if 1770<i<1880 and 2015<j<2145 :\n",
        "                    S4C2_1.append(S4HSV_imgA1C2_1[i][j])   "
      ],
      "execution_count": null,
      "outputs": []
    },
    {
      "cell_type": "code",
      "metadata": {
        "id": "D_n3ALo6I1vB"
      },
      "source": [
        "S4A1_13= list()\n",
        "S4C3_1 = list()\n",
        "for i in range(S4HSV_imgA1C3_1.shape[0]): \n",
        "     for j in range(S4HSV_imgA1C3_1.shape[1]): \n",
        "                if 1770<i<1880 and 1700<j<1830 :\n",
        "                    S4A1_13.append(S4HSV_imgA1C3_1[i][j])\n",
        "                if 1770<i<1880 and 2015<j<2145 :\n",
        "                    S4C3_1.append(S4HSV_imgA1C3_1[i][j])   "
      ],
      "execution_count": null,
      "outputs": []
    },
    {
      "cell_type": "code",
      "metadata": {
        "id": "TD6tGC45I1vB"
      },
      "source": [
        "S4A1_14= list()\n",
        "S4C4_1 = list()\n",
        "for i in range(S4HSV_imgA1C4_1.shape[0]): \n",
        "     for j in range(S4HSV_imgA1C4_1.shape[1]): \n",
        "                if 1770<i<1880 and 1700<j<1830 :\n",
        "                    S4A1_14.append(S4HSV_imgA1C4_1[i][j])\n",
        "                if 1770<i<1880 and 2015<j<2145 :\n",
        "                    S4C4_1.append(S4HSV_imgA1C4_1[i][j])"
      ],
      "execution_count": null,
      "outputs": []
    },
    {
      "cell_type": "code",
      "metadata": {
        "id": "URasAEKiI1vC"
      },
      "source": [
        "S4A1_15= list()\n",
        "S4D2_1 = list()\n",
        "for i in range(S4HSV_imgA1C2_1.shape[0]): \n",
        "     for j in range(S4HSV_imgA1D2_1.shape[1]): \n",
        "                if 1770<i<1880 and 1700<j<1830 :\n",
        "                    S4A1_15.append(S4HSV_imgA1D2_1[i][j])\n",
        "                if 1770<i<1880 and 2015<j<2145 :\n",
        "                    S4D2_1.append(S4HSV_imgA1D2_1[i][j])   "
      ],
      "execution_count": null,
      "outputs": []
    },
    {
      "cell_type": "code",
      "metadata": {
        "id": "WXJUI3CWI1vC"
      },
      "source": [
        "S4A1_16= list()\n",
        "S4D3_1 = list()\n",
        "for i in range(S4HSV_imgA1D3_1.shape[0]): \n",
        "     for j in range(S4HSV_imgA1D3_1.shape[1]): \n",
        "                if 1770<i<1880 and 1700<j<1830 :\n",
        "                    S4A1_16.append(S4HSV_imgA1D3_1[i][j])\n",
        "                if 1770<i<1880 and 2015<j<2145 :\n",
        "                    S4D3_1.append(S4HSV_imgA1D3_1[i][j])   "
      ],
      "execution_count": null,
      "outputs": []
    },
    {
      "cell_type": "code",
      "metadata": {
        "id": "EurAKruyI1vC"
      },
      "source": [
        "S4A1_17= list()\n",
        "S4D4_1 = list()\n",
        "for i in range(S4HSV_imgA1D4_1.shape[0]): \n",
        "     for j in range(S4HSV_imgA1D4_1.shape[1]): \n",
        "                if 1770<i<1880 and 1700<j<1830 :\n",
        "                    S4A1_17.append(S4HSV_imgA1D4_1[i][j])\n",
        "                if 1770<i<1880 and 2015<j<2145 :\n",
        "                    S4D4_1.append(S4HSV_imgA1D4_1[i][j])"
      ],
      "execution_count": null,
      "outputs": []
    },
    {
      "cell_type": "markdown",
      "metadata": {
        "id": "7KPqBEcdIXnZ"
      },
      "source": [
        "#6. หาค่า Mean"
      ]
    },
    {
      "cell_type": "code",
      "metadata": {
        "id": "tePep_ujIfg2"
      },
      "source": [
        "import numpy as np"
      ],
      "execution_count": null,
      "outputs": []
    },
    {
      "cell_type": "markdown",
      "metadata": {
        "id": "CkCYreCNIxic"
      },
      "source": [
        "##Set1"
      ]
    },
    {
      "cell_type": "markdown",
      "metadata": {
        "id": "98w4NYwsuHUG"
      },
      "source": [
        "###RGB"
      ]
    },
    {
      "cell_type": "code",
      "metadata": {
        "id": "VLEHrLHLItVX"
      },
      "source": [
        "S1meanrefA1_1 = list()\n",
        "S1meanA1_2 = list()\n",
        "for i in range(S1RGB_imgA1A1_1.shape[0]): #ให้ i รันตาม row หรือ shape[0] คือแถว มีทั้งหมด 4032 แถว ของภาพที่ปรับขนาดมาแล้ว\n",
        "     for j in range(S1RGB_imgA1A1_1.shape[1]): #ให้ j รันตาม colum มีทั้งหมด 3024 colum เช่น แถวที่ 1 เข้ามาให้รันครบ 3024colum\n",
        "                if 1769<i<1881 and 2019<j<2131 :\n",
        "                  S1meanrefA1_1.append(S1RGB_imgA1A1_1[i][j])\n",
        "                if 1770<i<1880 and 2015<j<2145 :\n",
        "                  S1meanA1_2.append(S1RGB_imgA1A1_1[i][j])  \n",
        "S1meanrefA1_1 = np.array(S1meanrefA1_1)\n",
        "S1meanA1_2 = np.array(S1meanA1_2)\n",
        "\n",
        "S1rgbrefA1_1 = list()\n",
        "S1rgbA1_2 = list()\n",
        "for i in range(3):\n",
        "    S1rgbrefA1_1.append(S1meanrefA1_1[:,i].mean())\n",
        "    S1rgbA1_2.append(S1meanA1_2[:,i].mean())\n",
        "S1rgbrefA1_1,S1rgbA1_2 "
      ],
      "execution_count": null,
      "outputs": []
    },
    {
      "cell_type": "code",
      "metadata": {
        "id": "TPULWoc0JT9L"
      },
      "source": [
        "S1meanrefA1_3 = list()\n",
        "S1meanA2_1 = list()\n",
        "for i in range(S1RGB_imgA1A2_1.shape[0]): \n",
        "     for j in range(S1RGB_imgA1A2_1.shape[1]): \n",
        "                if 1769<i<1881 and 2019<j<2131 :\n",
        "                  S1meanrefA1_3.append(S1RGB_imgA1A2_1[i][j])\n",
        "                if 1770<i<1880 and 2015<j<2145 :\n",
        "                  S1meanA2_1.append(S1RGB_imgA1A2_1[i][j])  \n",
        "S1meanrefA1_3 = np.array(S1meanrefA1_3)\n",
        "S1meanA2_1 = np.array(S1meanA2_1)\n",
        "\n",
        "S1rgbrefA1_3 = list()\n",
        "S1rgbA2_1 = list()\n",
        "for i in range(3):\n",
        "    S1rgbrefA1_3.append(S1meanrefA1_3[:,i].mean())\n",
        "    S1rgbA2_1.append(S1meanA2_1[:,i].mean())"
      ],
      "execution_count": null,
      "outputs": []
    },
    {
      "cell_type": "code",
      "metadata": {
        "id": "jYWdd4U6Kl7f"
      },
      "source": [
        "S1meanrefA1_4 = list()\n",
        "S1meanA3_1 = list()\n",
        "for i in range(S1RGB_imgA1A3_1.shape[0]): \n",
        "     for j in range(S1RGB_imgA1A3_1.shape[1]): \n",
        "                if 1769<i<1881 and 2019<j<2131 :\n",
        "                  S1meanrefA1_4.append(S1RGB_imgA1A3_1[i][j])\n",
        "                if 1770<i<1880 and 2015<j<2145 :\n",
        "                  S1meanA3_1.append(S1RGB_imgA1A3_1[i][j])  \n",
        "S1meanrefA1_4 = np.array(S1meanrefA1_4)\n",
        "S1meanA3_1 = np.array(S1meanA3_1)\n",
        "\n",
        "S1rgbrefA1_4 = list()\n",
        "S1rgbA3_1 = list()\n",
        "for i in range(3):\n",
        "    S1rgbrefA1_4.append(S1meanrefA1_4[:,i].mean())\n",
        "    S1rgbA3_1.append(S1meanA3_1[:,i].mean())"
      ],
      "execution_count": null,
      "outputs": []
    },
    {
      "cell_type": "code",
      "metadata": {
        "id": "OU2xD0SEK14J"
      },
      "source": [
        "S1meanrefA1_5 = list()\n",
        "S1meanA3_51 = list()\n",
        "for i in range(S1RGB_imgA1A3_51.shape[0]): \n",
        "     for j in range(S1RGB_imgA1A3_51.shape[1]): \n",
        "                if 1769<i<1881 and 2019<j<2131 :\n",
        "                  S1meanrefA1_5.append(S1RGB_imgA1A3_51[i][j])\n",
        "                if 1770<i<1880 and 2015<j<2145 :\n",
        "                  S1meanA3_51.append(S1RGB_imgA1A3_51[i][j])  \n",
        "S1meanrefA1_5 = np.array(S1meanrefA1_5)\n",
        "S1meanA3_51 = np.array(S1meanA3_51)\n",
        "\n",
        "S1rgbrefA1_5 = list()\n",
        "S1rgbA3_51 = list()\n",
        "for i in range(3):\n",
        "    S1rgbrefA1_5.append(S1meanrefA1_5[:,i].mean())\n",
        "    S1rgbA3_51.append(S1meanA3_51[:,i].mean())"
      ],
      "execution_count": null,
      "outputs": []
    },
    {
      "cell_type": "code",
      "metadata": {
        "id": "vCXxutjOLEb5"
      },
      "source": [
        "S1meanrefA1_6 = list()\n",
        "S1meanA4_1 = list()\n",
        "for i in range(S1RGB_imgA1A4_1.shape[0]): \n",
        "     for j in range(S1RGB_imgA1A4_1.shape[1]): \n",
        "                if 1769<i<1881 and 2019<j<2131 :\n",
        "                  S1meanrefA1_6.append(S1RGB_imgA1A4_1[i][j])\n",
        "                if 1770<i<1880 and 2015<j<2145 :\n",
        "                  S1meanA4_1.append(S1RGB_imgA1A4_1[i][j])  \n",
        "S1meanrefA1_6 = np.array(S1meanrefA1_6)\n",
        "S1meanA4_1 = np.array(S1meanA4_1)\n",
        "\n",
        "S1rgbrefA1_6 = list()\n",
        "S1rgbA4_1 = list()\n",
        "for i in range(3):\n",
        "    S1rgbrefA1_6.append(S1meanrefA1_6[:,i].mean())\n",
        "    S1rgbA4_1.append(S1meanA4_1[:,i].mean())"
      ],
      "execution_count": null,
      "outputs": []
    },
    {
      "cell_type": "code",
      "metadata": {
        "id": "Te2hqmb4LbG7"
      },
      "source": [
        "S1meanrefA1_7 = list()\n",
        "S1meanB1_1 = list()\n",
        "for i in range(S1RGB_imgA1B1_1.shape[0]): \n",
        "     for j in range(S1RGB_imgA1B1_1.shape[1]): \n",
        "                if 1769<i<1881 and 2019<j<2131 :\n",
        "                  S1meanrefA1_7.append(S1RGB_imgA1B1_1[i][j])\n",
        "                if 1770<i<1880 and 2015<j<2145 :\n",
        "                  S1meanB1_1.append(S1RGB_imgA1B1_1[i][j])  \n",
        "S1meanrefA1_7 = np.array(S1meanrefA1_7)\n",
        "S1meanB1_1 = np.array(S1meanB1_1)\n",
        "\n",
        "S1rgbrefA1_7 = list()\n",
        "S1rgbB1_1 = list()\n",
        "for i in range(3):\n",
        "    S1rgbrefA1_7.append(S1meanrefA1_7[:,i].mean())\n",
        "    S1rgbB1_1.append(S1meanB1_1[:,i].mean())"
      ],
      "execution_count": null,
      "outputs": []
    },
    {
      "cell_type": "code",
      "metadata": {
        "id": "Q_VEx1q0LbG7"
      },
      "source": [
        "S1meanrefA1_8 = list()\n",
        "S1meanB2_1 = list()\n",
        "for i in range(S1RGB_imgA1B2_1.shape[0]): \n",
        "     for j in range(S1RGB_imgA1B2_1.shape[1]): \n",
        "                if 1769<i<1881 and 2019<j<2131 :\n",
        "                  S1meanrefA1_8.append(S1RGB_imgA1B2_1[i][j])\n",
        "                if 1770<i<1880 and 2015<j<2145 :\n",
        "                  S1meanB2_1.append(S1RGB_imgA1B2_1[i][j])  \n",
        "S1meanrefA1_8 = np.array(S1meanrefA1_8)\n",
        "S1meanB2_1 = np.array(S1meanB2_1)\n",
        "\n",
        "S1rgbrefA1_8 = list()\n",
        "S1rgbB2_1 = list()\n",
        "for i in range(3):\n",
        "    S1rgbrefA1_8.append(S1meanrefA1_8[:,i].mean())\n",
        "    S1rgbB2_1.append(S1meanB2_1[:,i].mean())"
      ],
      "execution_count": null,
      "outputs": []
    },
    {
      "cell_type": "code",
      "metadata": {
        "id": "6h5EfHY1LbG7"
      },
      "source": [
        "S1meanrefA1_9 = list()\n",
        "S1meanB3_1 = list()\n",
        "for i in range(S1RGB_imgA1B3_1.shape[0]): \n",
        "     for j in range(S1RGB_imgA1B3_1.shape[1]): \n",
        "                if 1769<i<1881 and 2019<j<2131 :\n",
        "                  S1meanrefA1_9.append(S1RGB_imgA1B3_1[i][j])\n",
        "                if 1770<i<1880 and 2015<j<2145 :\n",
        "                  S1meanB3_1.append(S1RGB_imgA1B3_1[i][j])  \n",
        "S1meanrefA1_9 = np.array(S1meanrefA1_9)\n",
        "S1meanB3_1 = np.array(S1meanB3_1)\n",
        "\n",
        "S1rgbrefA1_9 = list()\n",
        "S1rgbB3_1 = list()\n",
        "for i in range(3):\n",
        "    S1rgbrefA1_9.append(S1meanrefA1_9[:,i].mean())\n",
        "    S1rgbB3_1.append(S1meanB3_1[:,i].mean())"
      ],
      "execution_count": null,
      "outputs": []
    },
    {
      "cell_type": "code",
      "metadata": {
        "id": "TjKejQxXL9Xb"
      },
      "source": [
        "S1meanrefA1_10 = list()\n",
        "S1meanB4_1 = list()\n",
        "for i in range(S1RGB_imgA1B4_1.shape[0]): \n",
        "     for j in range(S1RGB_imgA1B4_1.shape[1]): \n",
        "                if 1769<i<1881 and 2019<j<2131 :\n",
        "                  S1meanrefA1_10.append(S1RGB_imgA1B4_1[i][j])\n",
        "                if 1770<i<1880 and 2015<j<2145 :\n",
        "                  S1meanB4_1.append(S1RGB_imgA1B4_1[i][j])  \n",
        "S1meanrefA1_10 = np.array(S1meanrefA1_10)\n",
        "S1meanB4_1 = np.array(S1meanB4_1)\n",
        "\n",
        "S1rgbrefA1_10 = list()\n",
        "S1rgbB4_1 = list()\n",
        "for i in range(3):\n",
        "    S1rgbrefA1_10.append(S1meanrefA1_10[:,i].mean())\n",
        "    S1rgbB4_1.append(S1meanB4_1[:,i].mean())"
      ],
      "execution_count": null,
      "outputs": []
    },
    {
      "cell_type": "code",
      "metadata": {
        "id": "Y8X8SmoGMihg"
      },
      "source": [
        "S1meanrefA1_11 = list()\n",
        "S1meanC1_1 = list()\n",
        "for i in range(S1RGB_imgA1C1_1.shape[0]): \n",
        "     for j in range(S1RGB_imgA1C1_1.shape[1]): \n",
        "                if 1769<i<1881 and 2019<j<2131 :\n",
        "                  S1meanrefA1_11.append(S1RGB_imgA1C1_1[i][j])\n",
        "                if 1770<i<1880 and 2015<j<2145 :\n",
        "                  S1meanC1_1.append(S1RGB_imgA1C1_1[i][j])  \n",
        "S1meanrefA1_11 = np.array(S1meanrefA1_11)\n",
        "S1meanC1_1 = np.array(S1meanC1_1)\n",
        "\n",
        "S1rgbrefA1_11 = list()\n",
        "S1rgbC1_1 = list()\n",
        "for i in range(3):\n",
        "    S1rgbrefA1_11.append(S1meanrefA1_11[:,i].mean())\n",
        "    S1rgbC1_1.append(S1meanC1_1[:,i].mean())"
      ],
      "execution_count": null,
      "outputs": []
    },
    {
      "cell_type": "code",
      "metadata": {
        "id": "Av_eHI6jMihg"
      },
      "source": [
        "S1meanrefA1_12 = list()\n",
        "S1meanC2_1 = list()\n",
        "for i in range(S1RGB_imgA1C2_1.shape[0]): \n",
        "     for j in range(S1RGB_imgA1C2_1.shape[1]): \n",
        "                if 1769<i<1881 and 2019<j<2131 :\n",
        "                  S1meanrefA1_12.append(S1RGB_imgA1C2_1[i][j])\n",
        "                if 1770<i<1880 and 2015<j<2145 :\n",
        "                  S1meanC2_1.append(S1RGB_imgA1C2_1[i][j])  \n",
        "S1meanrefA1_12 = np.array(S1meanrefA1_12)\n",
        "S1meanC2_1 = np.array(S1meanC2_1)\n",
        "\n",
        "S1rgbrefA1_12 = list()\n",
        "S1rgbC2_1 = list()\n",
        "for i in range(3):\n",
        "    S1rgbrefA1_12.append(S1meanrefA1_12[:,i].mean())\n",
        "    S1rgbC2_1.append(S1meanC2_1[:,i].mean())"
      ],
      "execution_count": null,
      "outputs": []
    },
    {
      "cell_type": "code",
      "metadata": {
        "id": "lOvykBc7Mihg"
      },
      "source": [
        "S1meanrefA1_13 = list()\n",
        "S1meanC3_1 = list()\n",
        "for i in range(S1RGB_imgA1C3_1.shape[0]): \n",
        "     for j in range(S1RGB_imgA1C3_1.shape[1]): \n",
        "                if 1769<i<1881 and 2019<j<2131 :\n",
        "                  S1meanrefA1_13.append(S1RGB_imgA1C3_1[i][j])\n",
        "                if 1770<i<1880 and 2015<j<2145 :\n",
        "                  S1meanC3_1.append(S1RGB_imgA1C3_1[i][j])  \n",
        "S1meanrefA1_13 = np.array(S1meanrefA1_13)\n",
        "S1meanC3_1 = np.array(S1meanC3_1)\n",
        "\n",
        "S1rgbrefA1_13 = list()\n",
        "S1rgbC3_1 = list()\n",
        "for i in range(3):\n",
        "    S1rgbrefA1_13.append(S1meanrefA1_13[:,i].mean())\n",
        "    S1rgbC3_1.append(S1meanC3_1[:,i].mean())"
      ],
      "execution_count": null,
      "outputs": []
    },
    {
      "cell_type": "code",
      "metadata": {
        "id": "YdNqiN2LMihg"
      },
      "source": [
        "S1meanrefA1_14 = list()\n",
        "S1meanC4_1 = list()\n",
        "for i in range(S1RGB_imgA1C4_1.shape[0]): \n",
        "     for j in range(S1RGB_imgA1C4_1.shape[1]): \n",
        "                if 1769<i<1881 and 2019<j<2131 :\n",
        "                  S1meanrefA1_14.append(S1RGB_imgA1C4_1[i][j])\n",
        "                if 1770<i<1880 and 2015<j<2145 :\n",
        "                  S1meanC4_1.append(S1RGB_imgA1C4_1[i][j])  \n",
        "S1meanrefA1_14 = np.array(S1meanrefA1_14)\n",
        "S1meanC4_1 = np.array(S1meanC4_1)\n",
        "\n",
        "S1rgbrefA1_14 = list()\n",
        "S1rgbC4_1 = list()\n",
        "for i in range(3):\n",
        "    S1rgbrefA1_14.append(S1meanrefA1_14[:,i].mean())\n",
        "    S1rgbC4_1.append(S1meanC4_1[:,i].mean())"
      ],
      "execution_count": null,
      "outputs": []
    },
    {
      "cell_type": "code",
      "metadata": {
        "id": "U1oHIKdONm_p"
      },
      "source": [
        "S1meanrefA1_15 = list()\n",
        "S1meanD2_1 = list()\n",
        "for i in range(S1RGB_imgA1D2_1.shape[0]): \n",
        "     for j in range(S1RGB_imgA1D2_1.shape[1]): \n",
        "                if 1769<i<1881 and 2019<j<2131 :\n",
        "                  S1meanrefA1_15.append(S1RGB_imgA1D2_1[i][j])\n",
        "                if 1770<i<1880 and 2015<j<2145 :\n",
        "                  S1meanD2_1.append(S1RGB_imgA1D2_1[i][j])  \n",
        "S1meanrefA1_15 = np.array(S1meanrefA1_15)\n",
        "S1meanD2_1 = np.array(S1meanD2_1)\n",
        "\n",
        "S1rgbrefA1_15 = list()\n",
        "S1rgbD2_1 = list()\n",
        "for i in range(3):\n",
        "    S1rgbrefA1_15.append(S1meanrefA1_15[:,i].mean())\n",
        "    S1rgbD2_1.append(S1meanD2_1[:,i].mean())"
      ],
      "execution_count": null,
      "outputs": []
    },
    {
      "cell_type": "code",
      "metadata": {
        "id": "_O71JLAONm_p"
      },
      "source": [
        "S1meanrefA1_16 = list()\n",
        "S1meanD3_1 = list()\n",
        "for i in range(S1RGB_imgA1D3_1.shape[0]): \n",
        "     for j in range(S1RGB_imgA1D3_1.shape[1]): \n",
        "                if 1769<i<1881 and 2019<j<2131 :\n",
        "                  S1meanrefA1_16.append(S1RGB_imgA1D3_1[i][j])\n",
        "                if 1770<i<1880 and 2015<j<2145 :\n",
        "                  S1meanD3_1.append(S1RGB_imgA1D3_1[i][j])  \n",
        "S1meanrefA1_16 = np.array(S1meanrefA1_16)\n",
        "S1meanD3_1 = np.array(S1meanD3_1)\n",
        "\n",
        "S1rgbrefA1_16 = list()\n",
        "S1rgbD3_1 = list()\n",
        "for i in range(3):\n",
        "    S1rgbrefA1_16.append(S1meanrefA1_16[:,i].mean())\n",
        "    S1rgbD3_1.append(S1meanD3_1[:,i].mean())"
      ],
      "execution_count": null,
      "outputs": []
    },
    {
      "cell_type": "code",
      "metadata": {
        "id": "U29gI1aKNm_p"
      },
      "source": [
        "S1meanrefA1_17= list()\n",
        "S1meanD4_1 = list()\n",
        "for i in range(S1RGB_imgA1D4_1.shape[0]): \n",
        "     for j in range(S1RGB_imgA1D4_1.shape[1]): \n",
        "                if 1769<i<1881 and 2019<j<2131 :\n",
        "                  S1meanrefA1_17.append(S1RGB_imgA1D4_1[i][j])\n",
        "                if 1770<i<1880 and 2015<j<2145 :\n",
        "                  S1meanD4_1.append(S1RGB_imgA1D4_1[i][j])  \n",
        "S1meanrefA1_17 = np.array(S1meanrefA1_14)\n",
        "S1meanD4_1 = np.array(S1meanD4_1)\n",
        "\n",
        "S1rgbrefA1_17 = list()\n",
        "S1rgbD4_1 = list()\n",
        "for i in range(3):\n",
        "    S1rgbrefA1_17.append(S1meanrefA1_17[:,i].mean())\n",
        "    S1rgbD4_1.append(S1meanD4_1[:,i].mean())"
      ],
      "execution_count": null,
      "outputs": []
    },
    {
      "cell_type": "markdown",
      "metadata": {
        "id": "7OGOajgpt7TD"
      },
      "source": [
        "###HSV"
      ]
    },
    {
      "cell_type": "code",
      "metadata": {
        "id": "gyewAPUYuQs5"
      },
      "source": [
        "S1meanrefA1_1 = list()\n",
        "S1meanA1_2 = list()\n",
        "for i in range(S1HSV_imgA1A1_1.shape[0]): #ให้ i รันตาม row หรือ shape[0] คือแถว มีทั้งหมด 4032 แถว ของภาพที่ปรับขนาดมาแล้ว\n",
        "     for j in range(S1HSV_imgA1A1_1.shape[1]): #ให้ j รันตาม colum มีทั้งหมด 3024 colum เช่น แถวที่ 1 เข้ามาให้รันครบ 3024colum\n",
        "                if 1769<i<1881 and 2019<j<2131 :\n",
        "                  S1meanrefA1_1.append(S1HSV_imgA1A1_1[i][j])\n",
        "                if 1770<i<1880 and 2015<j<2145 :\n",
        "                  S1meanA1_2.append(S1HSV_imgA1A1_1[i][j])  \n",
        "S1meanrefA1_1 = np.array(S1meanrefA1_1)\n",
        "S1meanA1_2 = np.array(S1meanA1_2)\n",
        "\n",
        "S1hsvrefA1_1 = list()\n",
        "S1hsvA1_2 = list()\n",
        "for i in range(3):\n",
        "    S1hsvrefA1_1.append(S1meanrefA1_1[:,i].mean())\n",
        "    S1hsvA1_2.append(S1meanA1_2[:,i].mean())\n",
        "S1hsvrefA1_1,S1hsvA1_2 "
      ],
      "execution_count": null,
      "outputs": []
    },
    {
      "cell_type": "code",
      "metadata": {
        "id": "dK9vu9zRuQs7"
      },
      "source": [
        "S1meanrefA1_3 = list()\n",
        "S1meanA2_1 = list()\n",
        "for i in range(S1HSV_imgA1A2_1.shape[0]): \n",
        "     for j in range(S1HSV_imgA1A2_1.shape[1]): \n",
        "                if 1769<i<1881 and 2019<j<2131 :\n",
        "                  S1meanrefA1_3.append(S1HSV_imgA1A2_1[i][j])\n",
        "                if 1770<i<1880 and 2015<j<2145 :\n",
        "                  S1meanA2_1.append(S1HSV_imgA1A2_1[i][j])  \n",
        "S1meanrefA1_3 = np.array(S1meanrefA1_3)\n",
        "S1meanA2_1 = np.array(S1meanA2_1)\n",
        "\n",
        "S1hsvrefA1_3 = list()\n",
        "S1hsvA2_1 = list()\n",
        "for i in range(3):\n",
        "    S1hsvrefA1_3.append(S1meanrefA1_3[:,i].mean())\n",
        "    S1hsvA2_1.append(S1meanA2_1[:,i].mean())"
      ],
      "execution_count": null,
      "outputs": []
    },
    {
      "cell_type": "code",
      "metadata": {
        "id": "HVnaWekuuQs8"
      },
      "source": [
        "S1meanrefA1_4 = list()\n",
        "S1meanA3_1 = list()\n",
        "for i in range(S1HSV_imgA1A3_1.shape[0]): \n",
        "     for j in range(S1HSV_imgA1A3_1.shape[1]): \n",
        "                if 1769<i<1881 and 2019<j<2131 :\n",
        "                  S1meanrefA1_4.append(S1HSV_imgA1A3_1[i][j])\n",
        "                if 1770<i<1880 and 2015<j<2145 :\n",
        "                  S1meanA3_1.append(S1HSV_imgA1A3_1[i][j])  \n",
        "S1meanrefA1_4 = np.array(S1meanrefA1_4)\n",
        "S1meanA3_1 = np.array(S1meanA3_1)\n",
        "\n",
        "S1hsvrefA1_4 = list()\n",
        "S1hsvA3_1 = list()\n",
        "for i in range(3):\n",
        "    S1hsvrefA1_4.append(S1meanrefA1_4[:,i].mean())\n",
        "    S1hsvA3_1.append(S1meanA3_1[:,i].mean())"
      ],
      "execution_count": null,
      "outputs": []
    },
    {
      "cell_type": "code",
      "metadata": {
        "id": "-YCvbbWAuQs8"
      },
      "source": [
        "S1meanrefA1_5 = list()\n",
        "S1meanA3_51 = list()\n",
        "for i in range(S1HSV_imgA1A3_51.shape[0]): \n",
        "     for j in range(S1HSV_imgA1A3_51.shape[1]): \n",
        "                if 1769<i<1881 and 2019<j<2131 :\n",
        "                  S1meanrefA1_5.append(S1HSV_imgA1A3_51[i][j])\n",
        "                if 1770<i<1880 and 2015<j<2145 :\n",
        "                  S1meanA3_51.append(S1HSV_imgA1A3_51[i][j])  \n",
        "S1meanrefA1_5 = np.array(S1meanrefA1_5)\n",
        "S1meanA3_51 = np.array(S1meanA3_51)\n",
        "\n",
        "S1hsvrefA1_5 = list()\n",
        "S1hsvA3_51 = list()\n",
        "for i in range(3):\n",
        "    S1hsvrefA1_5.append(S1meanrefA1_5[:,i].mean())\n",
        "    S1hsvA3_51.append(S1meanA3_51[:,i].mean())"
      ],
      "execution_count": null,
      "outputs": []
    },
    {
      "cell_type": "code",
      "metadata": {
        "id": "UvZxCzLSuQs9"
      },
      "source": [
        "S1meanrefA1_6 = list()\n",
        "S1meanA4_1 = list()\n",
        "for i in range(S1HSV_imgA1A4_1.shape[0]): \n",
        "     for j in range(S1HSV_imgA1A4_1.shape[1]): \n",
        "                if 1769<i<1881 and 2019<j<2131 :\n",
        "                  S1meanrefA1_6.append(S1HSV_imgA1A4_1[i][j])\n",
        "                if 1770<i<1880 and 2015<j<2145 :\n",
        "                  S1meanA4_1.append(S1HSV_imgA1A4_1[i][j])  \n",
        "S1meanrefA1_6 = np.array(S1meanrefA1_6)\n",
        "S1meanA4_1 = np.array(S1meanA4_1)\n",
        "\n",
        "S1hsvrefA1_6 = list()\n",
        "S1hsvA4_1 = list()\n",
        "for i in range(3):\n",
        "    S1hsvrefA1_6.append(S1meanrefA1_6[:,i].mean())\n",
        "    S1hsvA4_1.append(S1meanA4_1[:,i].mean())"
      ],
      "execution_count": null,
      "outputs": []
    },
    {
      "cell_type": "code",
      "metadata": {
        "id": "_KgSdI0LuQs-"
      },
      "source": [
        "S1meanrefA1_7 = list()\n",
        "S1meanB1_1 = list()\n",
        "for i in range(S1HSV_imgA1B1_1.shape[0]): \n",
        "     for j in range(S1HSV_imgA1B1_1.shape[1]): \n",
        "                if 1769<i<1881 and 2019<j<2131 :\n",
        "                  S1meanrefA1_7.append(S1HSV_imgA1B1_1[i][j])\n",
        "                if 1770<i<1880 and 2015<j<2145 :\n",
        "                  S1meanB1_1.append(S1HSV_imgA1B1_1[i][j])  \n",
        "S1meanrefA1_7 = np.array(S1meanrefA1_7)\n",
        "S1meanB1_1 = np.array(S1meanB1_1)\n",
        "\n",
        "S1hsvrefA1_7 = list()\n",
        "S1hsvB1_1 = list()\n",
        "for i in range(3):\n",
        "    S1hsvrefA1_7.append(S1meanrefA1_7[:,i].mean())\n",
        "    S1hsvB1_1.append(S1meanB1_1[:,i].mean())"
      ],
      "execution_count": null,
      "outputs": []
    },
    {
      "cell_type": "code",
      "metadata": {
        "id": "D73bQNbSuQs_"
      },
      "source": [
        "S1meanrefA1_8 = list()\n",
        "S1meanB2_1 = list()\n",
        "for i in range(S1HSV_imgA1B2_1.shape[0]): \n",
        "     for j in range(S1HSV_imgA1B2_1.shape[1]): \n",
        "                if 1769<i<1881 and 2019<j<2131 :\n",
        "                  S1meanrefA1_8.append(S1HSV_imgA1B2_1[i][j])\n",
        "                if 1770<i<1880 and 2015<j<2145 :\n",
        "                  S1meanB2_1.append(S1HSV_imgA1B2_1[i][j])  \n",
        "S1meanrefA1_8 = np.array(S1meanrefA1_8)\n",
        "S1meanB2_1 = np.array(S1meanB2_1)\n",
        "\n",
        "S1hsvrefA1_8 = list()\n",
        "S1hsvB2_1 = list()\n",
        "for i in range(3):\n",
        "    S1hsvrefA1_8.append(S1meanrefA1_8[:,i].mean())\n",
        "    S1hsvB2_1.append(S1meanB2_1[:,i].mean())"
      ],
      "execution_count": null,
      "outputs": []
    },
    {
      "cell_type": "code",
      "metadata": {
        "id": "-2Um-Pq5uQtA"
      },
      "source": [
        "S1meanrefA1_9 = list()\n",
        "S1meanB3_1 = list()\n",
        "for i in range(S1HSV_imgA1B3_1.shape[0]): \n",
        "     for j in range(S1HSV_imgA1B3_1.shape[1]): \n",
        "                if 1769<i<1881 and 2019<j<2131 :\n",
        "                  S1meanrefA1_9.append(S1HSV_imgA1B3_1[i][j])\n",
        "                if 1770<i<1880 and 2015<j<2145 :\n",
        "                  S1meanB3_1.append(S1HSV_imgA1B3_1[i][j])  \n",
        "S1meanrefA1_9 = np.array(S1meanrefA1_9)\n",
        "S1meanB3_1 = np.array(S1meanB3_1)\n",
        "\n",
        "S1hsvrefA1_9 = list()\n",
        "S1hsvB3_1 = list()\n",
        "for i in range(3):\n",
        "    S1hsvrefA1_9.append(S1meanrefA1_9[:,i].mean())\n",
        "    S1hsvB3_1.append(S1meanB3_1[:,i].mean())"
      ],
      "execution_count": null,
      "outputs": []
    },
    {
      "cell_type": "code",
      "metadata": {
        "id": "Bprrg-KQuQtB"
      },
      "source": [
        "S1meanrefA1_10 = list()\n",
        "S1meanB4_1 = list()\n",
        "for i in range(S1HSV_imgA1B4_1.shape[0]): \n",
        "     for j in range(S1HSV_imgA1B4_1.shape[1]): \n",
        "                if 1769<i<1881 and 2019<j<2131 :\n",
        "                  S1meanrefA1_10.append(S1HSV_imgA1B4_1[i][j])\n",
        "                if 1770<i<1880 and 2015<j<2145 :\n",
        "                  S1meanB4_1.append(S1HSV_imgA1B4_1[i][j])  \n",
        "S1meanrefA1_10 = np.array(S1meanrefA1_10)\n",
        "S1meanB4_1 = np.array(S1meanB4_1)\n",
        "\n",
        "S1hsvrefA1_10 = list()\n",
        "S1hsvB4_1 = list()\n",
        "for i in range(3):\n",
        "    S1hsvrefA1_10.append(S1meanrefA1_10[:,i].mean())\n",
        "    S1hsvB4_1.append(S1meanB4_1[:,i].mean())"
      ],
      "execution_count": null,
      "outputs": []
    },
    {
      "cell_type": "code",
      "metadata": {
        "id": "tM9mAjB8uQtB"
      },
      "source": [
        "S1meanrefA1_11 = list()\n",
        "S1meanC1_1 = list()\n",
        "for i in range(S1HSV_imgA1C1_1.shape[0]): \n",
        "     for j in range(S1HSV_imgA1C1_1.shape[1]): \n",
        "                if 1769<i<1881 and 2019<j<2131 :\n",
        "                  S1meanrefA1_11.append(S1HSV_imgA1C1_1[i][j])\n",
        "                if 1770<i<1880 and 2015<j<2145 :\n",
        "                  S1meanC1_1.append(S1HSV_imgA1C1_1[i][j])  \n",
        "S1meanrefA1_11 = np.array(S1meanrefA1_11)\n",
        "S1meanC1_1 = np.array(S1meanC1_1)\n",
        "\n",
        "S1hsvrefA1_11 = list()\n",
        "S1hsvC1_1 = list()\n",
        "for i in range(3):\n",
        "    S1hsvrefA1_11.append(S1meanrefA1_11[:,i].mean())\n",
        "    S1hsvC1_1.append(S1meanC1_1[:,i].mean())"
      ],
      "execution_count": null,
      "outputs": []
    },
    {
      "cell_type": "code",
      "metadata": {
        "id": "kDklKgouuQtC"
      },
      "source": [
        "S1meanrefA1_12 = list()\n",
        "S1meanC2_1 = list()\n",
        "for i in range(S1HSV_imgA1C2_1.shape[0]): \n",
        "     for j in range(S1HSV_imgA1C2_1.shape[1]): \n",
        "                if 1769<i<1881 and 2019<j<2131 :\n",
        "                  S1meanrefA1_12.append(S1HSV_imgA1C2_1[i][j])\n",
        "                if 1770<i<1880 and 2015<j<2145 :\n",
        "                  S1meanC2_1.append(S1HSV_imgA1C2_1[i][j])  \n",
        "S1meanrefA1_12 = np.array(S1meanrefA1_12)\n",
        "S1meanC2_1 = np.array(S1meanC2_1)\n",
        "\n",
        "S1hsvrefA1_12 = list()\n",
        "S1hsvC2_1 = list()\n",
        "for i in range(3):\n",
        "    S1hsvrefA1_12.append(S1meanrefA1_12[:,i].mean())\n",
        "    S1hsvC2_1.append(S1meanC2_1[:,i].mean())"
      ],
      "execution_count": null,
      "outputs": []
    },
    {
      "cell_type": "code",
      "metadata": {
        "id": "y5Ptet2IuQtC"
      },
      "source": [
        "S1meanrefA1_13 = list()\n",
        "S1meanC3_1 = list()\n",
        "for i in range(S1HSV_imgA1C3_1.shape[0]): \n",
        "     for j in range(S1HSV_imgA1C3_1.shape[1]): \n",
        "                if 1769<i<1881 and 2019<j<2131 :\n",
        "                  S1meanrefA1_13.append(S1HSV_imgA1C3_1[i][j])\n",
        "                if 1770<i<1880 and 2015<j<2145 :\n",
        "                  S1meanC3_1.append(S1HSV_imgA1C3_1[i][j])  \n",
        "S1meanrefA1_13 = np.array(S1meanrefA1_13)\n",
        "S1meanC3_1 = np.array(S1meanC3_1)\n",
        "\n",
        "S1hsvrefA1_13 = list()\n",
        "S1hsvC3_1 = list()\n",
        "for i in range(3):\n",
        "    S1hsvrefA1_13.append(S1meanrefA1_13[:,i].mean())\n",
        "    S1hsvC3_1.append(S1meanC3_1[:,i].mean())"
      ],
      "execution_count": null,
      "outputs": []
    },
    {
      "cell_type": "code",
      "metadata": {
        "id": "HukrHNNxuQtC"
      },
      "source": [
        "S1meanrefA1_14 = list()\n",
        "S1meanC4_1 = list()\n",
        "for i in range(S1HSV_imgA1C4_1.shape[0]): \n",
        "     for j in range(S1HSV_imgA1C4_1.shape[1]): \n",
        "                if 1769<i<1881 and 2019<j<2131 :\n",
        "                  S1meanrefA1_14.append(S1HSV_imgA1C4_1[i][j])\n",
        "                if 1770<i<1880 and 2015<j<2145 :\n",
        "                  S1meanC4_1.append(S1HSV_imgA1C4_1[i][j])  \n",
        "S1meanrefA1_14 = np.array(S1meanrefA1_14)\n",
        "S1meanC4_1 = np.array(S1meanC4_1)\n",
        "\n",
        "S1hsvrefA1_14 = list()\n",
        "S1hsvC4_1 = list()\n",
        "for i in range(3):\n",
        "    S1hsvrefA1_14.append(S1meanrefA1_14[:,i].mean())\n",
        "    S1hsvC4_1.append(S1meanC4_1[:,i].mean())"
      ],
      "execution_count": null,
      "outputs": []
    },
    {
      "cell_type": "code",
      "metadata": {
        "id": "EEzN-mXZuQtD"
      },
      "source": [
        "S1meanrefA1_15 = list()\n",
        "S1meanD2_1 = list()\n",
        "for i in range(S1HSV_imgA1D2_1.shape[0]): \n",
        "     for j in range(S1HSV_imgA1D2_1.shape[1]): \n",
        "                if 1769<i<1881 and 2019<j<2131 :\n",
        "                  S1meanrefA1_15.append(S1HSV_imgA1D2_1[i][j])\n",
        "                if 1770<i<1880 and 2015<j<2145 :\n",
        "                  S1meanD2_1.append(S1HSV_imgA1D2_1[i][j])  \n",
        "S1meanrefA1_15 = np.array(S1meanrefA1_15)\n",
        "S1meanD2_1 = np.array(S1meanD2_1)\n",
        "\n",
        "S1hsvrefA1_15 = list()\n",
        "S1hsvD2_1 = list()\n",
        "for i in range(3):\n",
        "    S1hsvrefA1_15.append(S1meanrefA1_15[:,i].mean())\n",
        "    S1hsvD2_1.append(S1meanD2_1[:,i].mean())"
      ],
      "execution_count": null,
      "outputs": []
    },
    {
      "cell_type": "code",
      "metadata": {
        "id": "ceqVIiUGuQtD"
      },
      "source": [
        "S1meanrefA1_16 = list()\n",
        "S1meanD3_1 = list()\n",
        "for i in range(S1HSV_imgA1D3_1.shape[0]): \n",
        "     for j in range(S1HSV_imgA1D3_1.shape[1]): \n",
        "                if 1769<i<1881 and 2019<j<2131 :\n",
        "                  S1meanrefA1_16.append(S1HSV_imgA1D3_1[i][j])\n",
        "                if 1770<i<1880 and 2015<j<2145 :\n",
        "                  S1meanD3_1.append(S1HSV_imgA1D3_1[i][j])  \n",
        "S1meanrefA1_16 = np.array(S1meanrefA1_16)\n",
        "S1meanD3_1 = np.array(S1meanD3_1)\n",
        "\n",
        "S1hsvrefA1_16 = list()\n",
        "S1hsvD3_1 = list()\n",
        "for i in range(3):\n",
        "    S1hsvrefA1_16.append(S1meanrefA1_16[:,i].mean())\n",
        "    S1hsvD3_1.append(S1meanD3_1[:,i].mean())"
      ],
      "execution_count": null,
      "outputs": []
    },
    {
      "cell_type": "code",
      "metadata": {
        "id": "GEl4Fv4ouQtD"
      },
      "source": [
        "S1meanrefA1_17= list()\n",
        "S1meanD4_1 = list()\n",
        "for i in range(S1HSV_imgA1D4_1.shape[0]): \n",
        "     for j in range(S1HSV_imgA1D4_1.shape[1]): \n",
        "                if 1769<i<1881 and 2019<j<2131 :\n",
        "                  S1meanrefA1_17.append(S1HSV_imgA1D4_1[i][j])\n",
        "                if 1770<i<1880 and 2015<j<2145 :\n",
        "                  S1meanD4_1.append(S1HSV_imgA1D4_1[i][j])  \n",
        "S1meanrefA1_17 = np.array(S1meanrefA1_14)\n",
        "S1meanD4_1 = np.array(S1meanD4_1)\n",
        "\n",
        "S1hsvrefA1_17 = list()\n",
        "S1hsvD4_1 = list()\n",
        "for i in range(3):\n",
        "    S1hsvrefA1_17.append(S1meanrefA1_17[:,i].mean())\n",
        "    S1hsvD4_1.append(S1meanD4_1[:,i].mean())"
      ],
      "execution_count": null,
      "outputs": []
    },
    {
      "cell_type": "markdown",
      "metadata": {
        "id": "kW9nrJkJOI4F"
      },
      "source": [
        "##Set2"
      ]
    },
    {
      "cell_type": "markdown",
      "metadata": {
        "id": "KRCnqhuC3ovu"
      },
      "source": [
        "###RGB"
      ]
    },
    {
      "cell_type": "code",
      "metadata": {
        "id": "D6_wAmquOT_h"
      },
      "source": [
        "S2meanrefA1_1 = list()\n",
        "S2meanA1_2 = list()\n",
        "for i in range(S2RGB_imgA1A1_1.shape[0]): #ให้ i รันตาม row หรือ shape[0] คือแถว มีทั้งหมด 4032 แถว ของภาพที่ปรับขนาดมาแล้ว\n",
        "     for j in range(S2RGB_imgA1A1_1.shape[1]): #ให้ j รันตาม colum มีทั้งหมด 3024 colum เช่น แถวที่ 1 เข้ามาให้รันครบ 3024colum\n",
        "                if 1769<i<1881 and 2019<j<2131 :\n",
        "                  S2meanrefA1_1.append(S2RGB_imgA1A1_1[i][j])\n",
        "                if 1770<i<1880 and 2015<j<2145 :\n",
        "                  S2meanA1_2.append(S2RGB_imgA1A1_1[i][j])  \n",
        "S2meanrefA1_1 = np.array(S2meanrefA1_1)\n",
        "S2meanA1_2 = np.array(S2meanA1_2)\n",
        "\n",
        "S2rgbrefA1_1 = list()\n",
        "S2rgbA1_2 = list()\n",
        "for i in range(3):\n",
        "    S2rgbrefA1_1.append(S2meanrefA1_1[:,i].mean())\n",
        "    S2rgbA1_2.append(S2meanA1_2[:,i].mean()) "
      ],
      "execution_count": null,
      "outputs": []
    },
    {
      "cell_type": "code",
      "metadata": {
        "id": "EJlQhqC7OT_i"
      },
      "source": [
        "S2meanrefA1_3 = list()\n",
        "S2meanA2_1 = list()\n",
        "for i in range(S2RGB_imgA1A2_1.shape[0]): \n",
        "     for j in range(S2RGB_imgA1A2_1.shape[1]): \n",
        "                if 1769<i<1881 and 2019<j<2131 :\n",
        "                  S2meanrefA1_3.append(S2RGB_imgA1A2_1[i][j])\n",
        "                if 1770<i<1880 and 2015<j<2145 :\n",
        "                  S2meanA2_1.append(S2RGB_imgA1A2_1[i][j])  \n",
        "S2meanrefA1_3 = np.array(S2meanrefA1_3)\n",
        "S2meanA2_1 = np.array(S2meanA2_1)\n",
        "\n",
        "S2rgbrefA1_3 = list()\n",
        "S2rgbA2_1 = list()\n",
        "for i in range(3):\n",
        "    S2rgbrefA1_3.append(S2meanrefA1_3[:,i].mean())\n",
        "    S2rgbA2_1.append(S2meanA2_1[:,i].mean())"
      ],
      "execution_count": null,
      "outputs": []
    },
    {
      "cell_type": "code",
      "metadata": {
        "id": "I_f-AfX0OT_i"
      },
      "source": [
        "S2meanrefA1_4 = list()\n",
        "S2meanA3_1 = list()\n",
        "for i in range(S2RGB_imgA1A3_1.shape[0]): \n",
        "     for j in range(S2RGB_imgA1A3_1.shape[1]): \n",
        "                if 1769<i<1881 and 2019<j<2131 :\n",
        "                  S2meanrefA1_4.append(S2RGB_imgA1A3_1[i][j])\n",
        "                if 1770<i<1880 and 2015<j<2145 :\n",
        "                  S2meanA3_1.append(S2RGB_imgA1A3_1[i][j])  \n",
        "S2meanrefA1_4 = np.array(S2meanrefA1_4)\n",
        "S2meanA3_1 = np.array(S2meanA3_1)\n",
        "\n",
        "S2rgbrefA1_4 = list()\n",
        "S2rgbA3_1 = list()\n",
        "for i in range(3):\n",
        "    S2rgbrefA1_4.append(S2meanrefA1_4[:,i].mean())\n",
        "    S2rgbA3_1.append(S2meanA3_1[:,i].mean())"
      ],
      "execution_count": null,
      "outputs": []
    },
    {
      "cell_type": "code",
      "metadata": {
        "id": "JG9hcu4-OT_i"
      },
      "source": [
        "S2meanrefA1_5 = list()\n",
        "S2meanA3_51 = list()\n",
        "for i in range(S2RGB_imgA1A3_51.shape[0]): \n",
        "     for j in range(S2RGB_imgA1A3_51.shape[1]): \n",
        "                if 1769<i<1881 and 2019<j<2131 :\n",
        "                  S2meanrefA1_5.append(S2RGB_imgA1A3_51[i][j])\n",
        "                if 1770<i<1880 and 2015<j<2145 :\n",
        "                  S2meanA3_51.append(S2RGB_imgA1A3_51[i][j])  \n",
        "S2meanrefA1_5 = np.array(S2meanrefA1_5)\n",
        "S2meanA3_51 = np.array(S2meanA3_51)\n",
        "\n",
        "S2rgbrefA1_5 = list()\n",
        "S2rgbA3_51 = list()\n",
        "for i in range(3):\n",
        "    S2rgbrefA1_5.append(S2meanrefA1_5[:,i].mean())\n",
        "    S2rgbA3_51.append(S2meanA3_51[:,i].mean())"
      ],
      "execution_count": null,
      "outputs": []
    },
    {
      "cell_type": "code",
      "metadata": {
        "id": "Mj0RQI7UOT_i"
      },
      "source": [
        "S2meanrefA1_6 = list()\n",
        "S2meanA4_1 = list()\n",
        "for i in range(S2RGB_imgA1A4_1.shape[0]): \n",
        "     for j in range(S2RGB_imgA1A4_1.shape[1]): \n",
        "                if 1769<i<1881 and 2019<j<2131 :\n",
        "                  S2meanrefA1_6.append(S2RGB_imgA1A4_1[i][j])\n",
        "                if 1770<i<1880 and 2015<j<2145 :\n",
        "                  S2meanA4_1.append(S2RGB_imgA1A4_1[i][j])  \n",
        "S2meanrefA1_6 = np.array(S2meanrefA1_6)\n",
        "S2meanA4_1 = np.array(S2meanA4_1)\n",
        "\n",
        "S2rgbrefA1_6 = list()\n",
        "S2rgbA4_1 = list()\n",
        "for i in range(3):\n",
        "    S2rgbrefA1_6.append(S2meanrefA1_6[:,i].mean())\n",
        "    S2rgbA4_1.append(S2meanA4_1[:,i].mean())"
      ],
      "execution_count": null,
      "outputs": []
    },
    {
      "cell_type": "code",
      "metadata": {
        "id": "Zd07YLK8OT_i"
      },
      "source": [
        "S2meanrefA1_7 = list()\n",
        "S2meanB1_1 = list()\n",
        "for i in range(S2RGB_imgA1B1_1.shape[0]): \n",
        "     for j in range(S2RGB_imgA1B1_1.shape[1]): \n",
        "                if 1769<i<1881 and 2019<j<2131 :\n",
        "                  S2meanrefA1_7.append(S2RGB_imgA1B1_1[i][j])\n",
        "                if 1770<i<1880 and 2015<j<2145 :\n",
        "                  S2meanB1_1.append(S2RGB_imgA1B1_1[i][j])  \n",
        "S2meanrefA1_7 = np.array(S2meanrefA1_7)\n",
        "S2meanB1_1 = np.array(S2meanB1_1)\n",
        "\n",
        "S2rgbrefA1_7 = list()\n",
        "S2rgbB1_1 = list()\n",
        "for i in range(3):\n",
        "    S2rgbrefA1_7.append(S2meanrefA1_7[:,i].mean())\n",
        "    S2rgbB1_1.append(S2meanB1_1[:,i].mean())"
      ],
      "execution_count": null,
      "outputs": []
    },
    {
      "cell_type": "code",
      "metadata": {
        "id": "pnAhSHoAOT_i"
      },
      "source": [
        "S2meanrefA1_8 = list()\n",
        "S2meanB2_1 = list()\n",
        "for i in range(S2RGB_imgA1B2_1.shape[0]): \n",
        "     for j in range(S2RGB_imgA1B2_1.shape[1]): \n",
        "                if 1769<i<1881 and 2019<j<2131 :\n",
        "                  S2meanrefA1_8.append(S2RGB_imgA1B2_1[i][j])\n",
        "                if 1770<i<1880 and 2015<j<2145 :\n",
        "                  S2meanB2_1.append(S2RGB_imgA1B2_1[i][j])  \n",
        "S2meanrefA1_8 = np.array(S2meanrefA1_8)\n",
        "S2meanB2_1 = np.array(S2meanB2_1)\n",
        "\n",
        "S2rgbrefA1_8 = list()\n",
        "S2rgbB2_1 = list()\n",
        "for i in range(3):\n",
        "    S2rgbrefA1_8.append(S2meanrefA1_8[:,i].mean())\n",
        "    S2rgbB2_1.append(S2meanB2_1[:,i].mean())"
      ],
      "execution_count": null,
      "outputs": []
    },
    {
      "cell_type": "code",
      "metadata": {
        "id": "EvxR0vtzOT_j"
      },
      "source": [
        "S2meanrefA1_9 = list()\n",
        "S2meanB3_1 = list()\n",
        "for i in range(S2RGB_imgA1B3_1.shape[0]): \n",
        "     for j in range(S2RGB_imgA1B3_1.shape[1]): \n",
        "                if 1769<i<1881 and 2019<j<2131 :\n",
        "                  S2meanrefA1_9.append(S2RGB_imgA1B3_1[i][j])\n",
        "                if 1770<i<1880 and 2015<j<2145 :\n",
        "                  S2meanB3_1.append(S2RGB_imgA1B3_1[i][j])  \n",
        "S2meanrefA1_9 = np.array(S2meanrefA1_9)\n",
        "S2meanB3_1 = np.array(S2meanB3_1)\n",
        "\n",
        "S2rgbrefA1_9 = list()\n",
        "S2rgbB3_1 = list()\n",
        "for i in range(3):\n",
        "    S2rgbrefA1_9.append(S2meanrefA1_9[:,i].mean())\n",
        "    S2rgbB3_1.append(S2meanB3_1[:,i].mean())"
      ],
      "execution_count": null,
      "outputs": []
    },
    {
      "cell_type": "code",
      "metadata": {
        "id": "UWZfSBsiOT_j"
      },
      "source": [
        "S2meanrefA1_10 = list()\n",
        "S2meanB4_1 = list()\n",
        "for i in range(S2RGB_imgA1B4_1.shape[0]): \n",
        "     for j in range(S2RGB_imgA1B4_1.shape[1]): \n",
        "                if 1769<i<1881 and 2019<j<2131 :\n",
        "                  S2meanrefA1_10.append(S2RGB_imgA1B4_1[i][j])\n",
        "                if 1770<i<1880 and 2015<j<2145 :\n",
        "                  S2meanB4_1.append(S2RGB_imgA1B4_1[i][j])  \n",
        "S2meanrefA1_10 = np.array(S2meanrefA1_10)\n",
        "S2meanB4_1 = np.array(S2meanB4_1)\n",
        "\n",
        "S2rgbrefA1_10 = list()\n",
        "S2rgbB4_1 = list()\n",
        "for i in range(3):\n",
        "    S2rgbrefA1_10.append(S2meanrefA1_10[:,i].mean())\n",
        "    S2rgbB4_1.append(S2meanB4_1[:,i].mean())"
      ],
      "execution_count": null,
      "outputs": []
    },
    {
      "cell_type": "code",
      "metadata": {
        "id": "E0iL7_rvOT_j"
      },
      "source": [
        "S2meanrefA1_11 = list()\n",
        "S2meanC1_1 = list()\n",
        "for i in range(S2RGB_imgA1C1_1.shape[0]): \n",
        "     for j in range(S2RGB_imgA1C1_1.shape[1]): \n",
        "                if 1769<i<1881 and 2019<j<2131 :\n",
        "                  S2meanrefA1_11.append(S2RGB_imgA1C1_1[i][j])\n",
        "                if 1770<i<1880 and 2015<j<2145 :\n",
        "                  S2meanC1_1.append(S2RGB_imgA1C1_1[i][j])  \n",
        "S2meanrefA1_11 = np.array(S2meanrefA1_11)\n",
        "S2meanC1_1 = np.array(S2meanC1_1)\n",
        "\n",
        "S2rgbrefA1_11 = list()\n",
        "S2rgbC1_1 = list()\n",
        "for i in range(3):\n",
        "    S2rgbrefA1_11.append(S2meanrefA1_11[:,i].mean())\n",
        "    S2rgbC1_1.append(S2meanC1_1[:,i].mean())"
      ],
      "execution_count": null,
      "outputs": []
    },
    {
      "cell_type": "code",
      "metadata": {
        "id": "xYQ3ccu-OT_j"
      },
      "source": [
        "S2meanrefA1_12 = list()\n",
        "S2meanC2_1 = list()\n",
        "for i in range(S2RGB_imgA1C2_1.shape[0]): \n",
        "     for j in range(S2RGB_imgA1C2_1.shape[1]): \n",
        "                if 1769<i<1881 and 2019<j<2131 :\n",
        "                  S2meanrefA1_12.append(S2RGB_imgA1C2_1[i][j])\n",
        "                if 1770<i<1880 and 2015<j<2145 :\n",
        "                  S2meanC2_1.append(S2RGB_imgA1C2_1[i][j])  \n",
        "S2meanrefA1_12 = np.array(S2meanrefA1_12)\n",
        "S2meanC2_1 = np.array(S2meanC2_1)\n",
        "\n",
        "S2rgbrefA1_12 = list()\n",
        "S2rgbC2_1 = list()\n",
        "for i in range(3):\n",
        "    S2rgbrefA1_12.append(S2meanrefA1_12[:,i].mean())\n",
        "    S2rgbC2_1.append(S2meanC2_1[:,i].mean())"
      ],
      "execution_count": null,
      "outputs": []
    },
    {
      "cell_type": "code",
      "metadata": {
        "id": "K7ZfvmhMOT_j"
      },
      "source": [
        "S2meanrefA1_13 = list()\n",
        "S2meanC3_1 = list()\n",
        "for i in range(S2RGB_imgA1C3_1.shape[0]): \n",
        "     for j in range(S2RGB_imgA1C3_1.shape[1]): \n",
        "                if 1769<i<1881 and 2019<j<2131 :\n",
        "                  S2meanrefA1_13.append(S2RGB_imgA1C3_1[i][j])\n",
        "                if 1770<i<1880 and 2015<j<2145 :\n",
        "                  S2meanC3_1.append(S2RGB_imgA1C3_1[i][j])  \n",
        "S2meanrefA1_13 = np.array(S2meanrefA1_13)\n",
        "S2meanC3_1 = np.array(S2meanC3_1)\n",
        "\n",
        "S2rgbrefA1_13 = list()\n",
        "S2rgbC3_1 = list()\n",
        "for i in range(3):\n",
        "    S2rgbrefA1_13.append(S2meanrefA1_13[:,i].mean())\n",
        "    S2rgbC3_1.append(S2meanC3_1[:,i].mean())"
      ],
      "execution_count": null,
      "outputs": []
    },
    {
      "cell_type": "code",
      "metadata": {
        "id": "JnYE-7tIOT_j"
      },
      "source": [
        "S2meanrefA1_14 = list()\n",
        "S2meanC4_1 = list()\n",
        "for i in range(S2RGB_imgA1C4_1.shape[0]): \n",
        "     for j in range(S2RGB_imgA1C4_1.shape[1]): \n",
        "                if 1769<i<1881 and 2019<j<2131 :\n",
        "                  S2meanrefA1_14.append(S2RGB_imgA1C4_1[i][j])\n",
        "                if 1770<i<1880 and 2015<j<2145 :\n",
        "                  S2meanC4_1.append(S2RGB_imgA1C4_1[i][j])  \n",
        "S2meanrefA1_14 = np.array(S2meanrefA1_14)\n",
        "S2meanC4_1 = np.array(S2meanC4_1)\n",
        "\n",
        "S2rgbrefA1_14 = list()\n",
        "S2rgbC4_1 = list()\n",
        "for i in range(3):\n",
        "    S2rgbrefA1_14.append(S2meanrefA1_14[:,i].mean())\n",
        "    S2rgbC4_1.append(S2meanC4_1[:,i].mean())"
      ],
      "execution_count": null,
      "outputs": []
    },
    {
      "cell_type": "code",
      "metadata": {
        "id": "whwVWrEAOT_j"
      },
      "source": [
        "S2meanrefA1_15 = list()\n",
        "S2meanD2_1 = list()\n",
        "for i in range(S2RGB_imgA1D2_1.shape[0]): \n",
        "     for j in range(S2RGB_imgA1D2_1.shape[1]): \n",
        "                if 1769<i<1881 and 2019<j<2131 :\n",
        "                  S2meanrefA1_15.append(S2RGB_imgA1D2_1[i][j])\n",
        "                if 1770<i<1880 and 2015<j<2145 :\n",
        "                  S2meanD2_1.append(S2RGB_imgA1D2_1[i][j])  \n",
        "S2meanrefA1_15 = np.array(S2meanrefA1_15)\n",
        "S2meanD2_1 = np.array(S2meanD2_1)\n",
        "\n",
        "S2rgbrefA1_15 = list()\n",
        "S2rgbD2_1 = list()\n",
        "for i in range(3):\n",
        "    S2rgbrefA1_15.append(S2meanrefA1_15[:,i].mean())\n",
        "    S2rgbD2_1.append(S2meanD2_1[:,i].mean())"
      ],
      "execution_count": null,
      "outputs": []
    },
    {
      "cell_type": "code",
      "metadata": {
        "id": "UQ7zahmJOT_j"
      },
      "source": [
        "S2meanrefA1_16 = list()\n",
        "S2meanD3_1 = list()\n",
        "for i in range(S2RGB_imgA1D3_1.shape[0]): \n",
        "     for j in range(S2RGB_imgA1D3_1.shape[1]): \n",
        "                if 1769<i<1881 and 2019<j<2131 :\n",
        "                  S2meanrefA1_16.append(S2RGB_imgA1D3_1[i][j])\n",
        "                if 1770<i<1880 and 2015<j<2145 :\n",
        "                  S2meanD3_1.append(S2RGB_imgA1D3_1[i][j])  \n",
        "S2meanrefA1_16 = np.array(S2meanrefA1_16)\n",
        "S2meanD3_1 = np.array(S2meanD3_1)\n",
        "\n",
        "S2rgbrefA1_16 = list()\n",
        "S2rgbD3_1 = list()\n",
        "for i in range(3):\n",
        "    S2rgbrefA1_16.append(S2meanrefA1_16[:,i].mean())\n",
        "    S2rgbD3_1.append(S2meanD3_1[:,i].mean())"
      ],
      "execution_count": null,
      "outputs": []
    },
    {
      "cell_type": "code",
      "metadata": {
        "id": "bYnOvjjUOT_k"
      },
      "source": [
        "S2meanrefA1_17= list()\n",
        "S2meanD4_1 = list()\n",
        "for i in range(S2RGB_imgA1D4_1.shape[0]): \n",
        "     for j in range(S2RGB_imgA1D4_1.shape[1]): \n",
        "                if 1769<i<1881 and 2019<j<2131 :\n",
        "                  S2meanrefA1_17.append(S2RGB_imgA1D4_1[i][j])\n",
        "                if 1770<i<1880 and 2015<j<2145 :\n",
        "                  S2meanD4_1.append(S2RGB_imgA1D4_1[i][j])  \n",
        "S2meanrefA1_17 = np.array(S2meanrefA1_14)\n",
        "S2meanD4_1 = np.array(S2meanD4_1)\n",
        "\n",
        "S2rgbrefA1_17 = list()\n",
        "S2rgbD4_1 = list()\n",
        "for i in range(3):\n",
        "    S2rgbrefA1_17.append(S2meanrefA1_17[:,i].mean())\n",
        "    S2rgbD4_1.append(S2meanD4_1[:,i].mean())"
      ],
      "execution_count": null,
      "outputs": []
    },
    {
      "cell_type": "markdown",
      "metadata": {
        "id": "K91ffP7A3z1p"
      },
      "source": [
        "###HSV"
      ]
    },
    {
      "cell_type": "code",
      "metadata": {
        "id": "-7UCG8W938EP"
      },
      "source": [
        "S2meanrefA1_1 = list()\n",
        "S2meanA1_2 = list()\n",
        "for i in range(S2HSV_imgA1A1_1.shape[0]): #ให้ i รันตาม row หรือ shape[0] คือแถว มีทั้งหมด 4032 แถว ของภาพที่ปรับขนาดมาแล้ว\n",
        "     for j in range(S2HSV_imgA1A1_1.shape[1]): #ให้ j รันตาม colum มีทั้งหมด 3024 colum เช่น แถวที่ 1 เข้ามาให้รันครบ 3024colum\n",
        "                if 1769<i<1881 and 2019<j<2131 :\n",
        "                  S2meanrefA1_1.append(S2HSV_imgA1A1_1[i][j])\n",
        "                if 1770<i<1880 and 2015<j<2145 :\n",
        "                  S2meanA1_2.append(S2HSV_imgA1A1_1[i][j])  \n",
        "S2meanrefA1_1 = np.array(S2meanrefA1_1)\n",
        "S2meanA1_2 = np.array(S2meanA1_2)\n",
        "\n",
        "S2hsvrefA1_1 = list()\n",
        "S2hsvA1_2 = list()\n",
        "for i in range(3):\n",
        "    S2hsvrefA1_1.append(S2meanrefA1_1[:,i].mean())\n",
        "    S2hsvA1_2.append(S2meanA1_2[:,i].mean()) "
      ],
      "execution_count": null,
      "outputs": []
    },
    {
      "cell_type": "code",
      "metadata": {
        "id": "62Gs05XN38EQ"
      },
      "source": [
        "S2meanrefA1_3 = list()\n",
        "S2meanA2_1 = list()\n",
        "for i in range(S2HSV_imgA1A2_1.shape[0]): \n",
        "     for j in range(S2HSV_imgA1A2_1.shape[1]): \n",
        "                if 1769<i<1881 and 2019<j<2131 :\n",
        "                  S2meanrefA1_3.append(S2HSV_imgA1A2_1[i][j])\n",
        "                if 1770<i<1880 and 2015<j<2145 :\n",
        "                  S2meanA2_1.append(S2HSV_imgA1A2_1[i][j])  \n",
        "S2meanrefA1_3 = np.array(S2meanrefA1_3)\n",
        "S2meanA2_1 = np.array(S2meanA2_1)\n",
        "\n",
        "S2hsvrefA1_3 = list()\n",
        "S2hsvA2_1 = list()\n",
        "for i in range(3):\n",
        "    S2hsvrefA1_3.append(S2meanrefA1_3[:,i].mean())\n",
        "    S2hsvA2_1.append(S2meanA2_1[:,i].mean())"
      ],
      "execution_count": null,
      "outputs": []
    },
    {
      "cell_type": "code",
      "metadata": {
        "id": "rDdOPqR038EQ"
      },
      "source": [
        "S2meanrefA1_4 = list()\n",
        "S2meanA3_1 = list()\n",
        "for i in range(S2HSV_imgA1A3_1.shape[0]): \n",
        "     for j in range(S2HSV_imgA1A3_1.shape[1]): \n",
        "                if 1769<i<1881 and 2019<j<2131 :\n",
        "                  S2meanrefA1_4.append(S2HSV_imgA1A3_1[i][j])\n",
        "                if 1770<i<1880 and 2015<j<2145 :\n",
        "                  S2meanA3_1.append(S2HSV_imgA1A3_1[i][j])  \n",
        "S2meanrefA1_4 = np.array(S2meanrefA1_4)\n",
        "S2meanA3_1 = np.array(S2meanA3_1)\n",
        "\n",
        "S2hsvrefA1_4 = list()\n",
        "S2hsvA3_1 = list()\n",
        "for i in range(3):\n",
        "    S2hsvrefA1_4.append(S2meanrefA1_4[:,i].mean())\n",
        "    S2hsvA3_1.append(S2meanA3_1[:,i].mean())"
      ],
      "execution_count": null,
      "outputs": []
    },
    {
      "cell_type": "code",
      "metadata": {
        "id": "PQG1Hr-e38ER"
      },
      "source": [
        "S2meanrefA1_5 = list()\n",
        "S2meanA3_51 = list()\n",
        "for i in range(S2HSV_imgA1A3_51.shape[0]): \n",
        "     for j in range(S2HSV_imgA1A3_51.shape[1]): \n",
        "                if 1769<i<1881 and 2019<j<2131 :\n",
        "                  S2meanrefA1_5.append(S2HSV_imgA1A3_51[i][j])\n",
        "                if 1770<i<1880 and 2015<j<2145 :\n",
        "                  S2meanA3_51.append(S2HSV_imgA1A3_51[i][j])  \n",
        "S2meanrefA1_5 = np.array(S2meanrefA1_5)\n",
        "S2meanA3_51 = np.array(S2meanA3_51)\n",
        "\n",
        "S2hsvrefA1_5 = list()\n",
        "S2hsvA3_51 = list()\n",
        "for i in range(3):\n",
        "    S2hsvrefA1_5.append(S2meanrefA1_5[:,i].mean())\n",
        "    S2hsvA3_51.append(S2meanA3_51[:,i].mean())"
      ],
      "execution_count": null,
      "outputs": []
    },
    {
      "cell_type": "code",
      "metadata": {
        "id": "-gyjMDPc38ER"
      },
      "source": [
        "S2meanrefA1_6 = list()\n",
        "S2meanA4_1 = list()\n",
        "for i in range(S2HSV_imgA1A4_1.shape[0]): \n",
        "     for j in range(S2HSV_imgA1A4_1.shape[1]): \n",
        "                if 1769<i<1881 and 2019<j<2131 :\n",
        "                  S2meanrefA1_6.append(S2HSV_imgA1A4_1[i][j])\n",
        "                if 1770<i<1880 and 2015<j<2145 :\n",
        "                  S2meanA4_1.append(S2HSV_imgA1A4_1[i][j])  \n",
        "S2meanrefA1_6 = np.array(S2meanrefA1_6)\n",
        "S2meanA4_1 = np.array(S2meanA4_1)\n",
        "\n",
        "S2hsvrefA1_6 = list()\n",
        "S2hsvA4_1 = list()\n",
        "for i in range(3):\n",
        "    S2hsvrefA1_6.append(S2meanrefA1_6[:,i].mean())\n",
        "    S2hsvA4_1.append(S2meanA4_1[:,i].mean())"
      ],
      "execution_count": null,
      "outputs": []
    },
    {
      "cell_type": "code",
      "metadata": {
        "id": "AHL4-ILN38ER"
      },
      "source": [
        "S2meanrefA1_7 = list()\n",
        "S2meanB1_1 = list()\n",
        "for i in range(S2HSV_imgA1B1_1.shape[0]): \n",
        "     for j in range(S2HSV_imgA1B1_1.shape[1]): \n",
        "                if 1769<i<1881 and 2019<j<2131 :\n",
        "                  S2meanrefA1_7.append(S2HSV_imgA1B1_1[i][j])\n",
        "                if 1770<i<1880 and 2015<j<2145 :\n",
        "                  S2meanB1_1.append(S2HSV_imgA1B1_1[i][j])  \n",
        "S2meanrefA1_7 = np.array(S2meanrefA1_7)\n",
        "S2meanB1_1 = np.array(S2meanB1_1)\n",
        "\n",
        "S2hsvrefA1_7 = list()\n",
        "S2hsvB1_1 = list()\n",
        "for i in range(3):\n",
        "    S2hsvrefA1_7.append(S2meanrefA1_7[:,i].mean())\n",
        "    S2hsvB1_1.append(S2meanB1_1[:,i].mean())"
      ],
      "execution_count": null,
      "outputs": []
    },
    {
      "cell_type": "code",
      "metadata": {
        "id": "5zl5t_oP38ES"
      },
      "source": [
        "S2meanrefA1_8 = list()\n",
        "S2meanB2_1 = list()\n",
        "for i in range(S2HSV_imgA1B2_1.shape[0]): \n",
        "     for j in range(S2HSV_imgA1B2_1.shape[1]): \n",
        "                if 1769<i<1881 and 2019<j<2131 :\n",
        "                  S2meanrefA1_8.append(S2HSV_imgA1B2_1[i][j])\n",
        "                if 1770<i<1880 and 2015<j<2145 :\n",
        "                  S2meanB2_1.append(S2HSV_imgA1B2_1[i][j])  \n",
        "S2meanrefA1_8 = np.array(S2meanrefA1_8)\n",
        "S2meanB2_1 = np.array(S2meanB2_1)\n",
        "\n",
        "S2hsvrefA1_8 = list()\n",
        "S2hsvB2_1 = list()\n",
        "for i in range(3):\n",
        "    S2hsvrefA1_8.append(S2meanrefA1_8[:,i].mean())\n",
        "    S2hsvB2_1.append(S2meanB2_1[:,i].mean())"
      ],
      "execution_count": null,
      "outputs": []
    },
    {
      "cell_type": "code",
      "metadata": {
        "id": "E1RqZXxZ38ES"
      },
      "source": [
        "S2meanrefA1_9 = list()\n",
        "S2meanB3_1 = list()\n",
        "for i in range(S2HSV_imgA1B3_1.shape[0]): \n",
        "     for j in range(S2HSV_imgA1B3_1.shape[1]): \n",
        "                if 1769<i<1881 and 2019<j<2131 :\n",
        "                  S2meanrefA1_9.append(S2HSV_imgA1B3_1[i][j])\n",
        "                if 1770<i<1880 and 2015<j<2145 :\n",
        "                  S2meanB3_1.append(S2HSV_imgA1B3_1[i][j])  \n",
        "S2meanrefA1_9 = np.array(S2meanrefA1_9)\n",
        "S2meanB3_1 = np.array(S2meanB3_1)\n",
        "\n",
        "S2hsvrefA1_9 = list()\n",
        "S2hsvB3_1 = list()\n",
        "for i in range(3):\n",
        "    S2hsvrefA1_9.append(S2meanrefA1_9[:,i].mean())\n",
        "    S2hsvB3_1.append(S2meanB3_1[:,i].mean())"
      ],
      "execution_count": null,
      "outputs": []
    },
    {
      "cell_type": "code",
      "metadata": {
        "id": "p3kHLyi538ES"
      },
      "source": [
        "S2meanrefA1_10 = list()\n",
        "S2meanB4_1 = list()\n",
        "for i in range(S2HSV_imgA1B4_1.shape[0]): \n",
        "     for j in range(S2HSV_imgA1B4_1.shape[1]): \n",
        "                if 1769<i<1881 and 2019<j<2131 :\n",
        "                  S2meanrefA1_10.append(S2HSV_imgA1B4_1[i][j])\n",
        "                if 1770<i<1880 and 2015<j<2145 :\n",
        "                  S2meanB4_1.append(S2HSV_imgA1B4_1[i][j])  \n",
        "S2meanrefA1_10 = np.array(S2meanrefA1_10)\n",
        "S2meanB4_1 = np.array(S2meanB4_1)\n",
        "\n",
        "S2hsvrefA1_10 = list()\n",
        "S2hsvB4_1 = list()\n",
        "for i in range(3):\n",
        "    S2hsvrefA1_10.append(S2meanrefA1_10[:,i].mean())\n",
        "    S2hsvB4_1.append(S2meanB4_1[:,i].mean())"
      ],
      "execution_count": null,
      "outputs": []
    },
    {
      "cell_type": "code",
      "metadata": {
        "id": "O8w3LpXU38ET"
      },
      "source": [
        "S2meanrefA1_11 = list()\n",
        "S2meanC1_1 = list()\n",
        "for i in range(S2HSV_imgA1C1_1.shape[0]): \n",
        "     for j in range(S2HSV_imgA1C1_1.shape[1]): \n",
        "                if 1769<i<1881 and 2019<j<2131 :\n",
        "                  S2meanrefA1_11.append(S2HSV_imgA1C1_1[i][j])\n",
        "                if 1770<i<1880 and 2015<j<2145 :\n",
        "                   S2meanC1_1.append(S2HSV_imgA1C1_1[i][j])  \n",
        "S2meanrefA1_11 = np.array(S2meanrefA1_11)\n",
        "S2meanC1_1 = np.array(S2meanC1_1)\n",
        "\n",
        "S2hsvrefA1_11 = list()\n",
        "S2hsvC1_1 = list()\n",
        "for i in range(3):\n",
        "    S2hsvrefA1_11.append(S2meanrefA1_11[:,i].mean())\n",
        "    S2hsvC1_1.append(S2meanC1_1[:,i].mean())"
      ],
      "execution_count": null,
      "outputs": []
    },
    {
      "cell_type": "code",
      "metadata": {
        "id": "AzOf_HLF38ET"
      },
      "source": [
        "S2meanrefA1_12 = list()\n",
        "S2meanC2_1 = list()\n",
        "for i in range(S2HSV_imgA1C2_1.shape[0]): \n",
        "     for j in range(S2HSV_imgA1C2_1.shape[1]): \n",
        "                if 1769<i<1881 and 2019<j<2131 :\n",
        "                  S2meanrefA1_12.append(S2HSV_imgA1C2_1[i][j])\n",
        "                if 1770<i<1880 and 2015<j<2145 :\n",
        "                  S2meanC2_1.append(S2HSV_imgA1C2_1[i][j])  \n",
        "S2meanrefA1_12 = np.array(S2meanrefA1_12)\n",
        "S2meanC2_1 = np.array(S2meanC2_1)\n",
        "\n",
        "S2hsvrefA1_12 = list()\n",
        "S2hsvC2_1 = list()\n",
        "for i in range(3):\n",
        "    S2hsvrefA1_12.append(S2meanrefA1_12[:,i].mean())\n",
        "    S2hsvC2_1.append(S2meanC2_1[:,i].mean())"
      ],
      "execution_count": null,
      "outputs": []
    },
    {
      "cell_type": "code",
      "metadata": {
        "id": "jwE3nPXZ38ET"
      },
      "source": [
        "S2meanrefA1_13 = list()\n",
        "S2meanC3_1 = list()\n",
        "for i in range(S2HSV_imgA1C3_1.shape[0]): \n",
        "     for j in range(S2HSV_imgA1C3_1.shape[1]): \n",
        "                if 1769<i<1881 and 2019<j<2131 :\n",
        "                  S2meanrefA1_13.append(S2HSV_imgA1C3_1[i][j])\n",
        "                if 1770<i<1880 and 2015<j<2145 :\n",
        "                  S2meanC3_1.append(S2HSV_imgA1C3_1[i][j])  \n",
        "S2meanrefA1_13 = np.array(S2meanrefA1_13)\n",
        "S2meanC3_1 = np.array(S2meanC3_1)\n",
        "\n",
        "S2hsvrefA1_13 = list()\n",
        "S2hsvC3_1 = list()\n",
        "for i in range(3):\n",
        "    S2hsvrefA1_13.append(S2meanrefA1_13[:,i].mean())\n",
        "    S2hsvC3_1.append(S2meanC3_1[:,i].mean())"
      ],
      "execution_count": null,
      "outputs": []
    },
    {
      "cell_type": "code",
      "metadata": {
        "id": "5CiV9v1738EU"
      },
      "source": [
        "S2meanrefA1_14 = list()\n",
        "S2meanC4_1 = list()\n",
        "for i in range(S2HSV_imgA1C4_1.shape[0]): \n",
        "     for j in range(S2HSV_imgA1C4_1.shape[1]): \n",
        "                if 1769<i<1881 and 2019<j<2131 :\n",
        "                  S2meanrefA1_14.append(S2HSV_imgA1C4_1[i][j])\n",
        "                if 1770<i<1880 and 2015<j<2145 :\n",
        "                  S2meanC4_1.append(S2HSV_imgA1C4_1[i][j])  \n",
        "S2meanrefA1_14 = np.array(S2meanrefA1_14)\n",
        "S2meanC4_1 = np.array(S2meanC4_1)\n",
        "\n",
        "S2hsvrefA1_14 = list()\n",
        "S2hsvC4_1 = list()\n",
        "for i in range(3):\n",
        "    S2hsvrefA1_14.append(S2meanrefA1_14[:,i].mean())\n",
        "    S2hsvC4_1.append(S2meanC4_1[:,i].mean())"
      ],
      "execution_count": null,
      "outputs": []
    },
    {
      "cell_type": "code",
      "metadata": {
        "id": "FQZ1oTeg38EU"
      },
      "source": [
        "S2meanrefA1_15 = list()\n",
        "S2meanD2_1 = list()\n",
        "for i in range(S2HSV_imgA1D2_1.shape[0]): \n",
        "     for j in range(S2HSV_imgA1D2_1.shape[1]): \n",
        "                if 1769<i<1881 and 2019<j<2131 :\n",
        "                  S2meanrefA1_15.append(S2HSV_imgA1D2_1[i][j])\n",
        "                if 1770<i<1880 and 2015<j<2145 :\n",
        "                  S2meanD2_1.append(S2HSV_imgA1D2_1[i][j])  \n",
        "S2meanrefA1_15 = np.array(S2meanrefA1_15)\n",
        "S2meanD2_1 = np.array(S2meanD2_1)\n",
        "\n",
        "S2hsvrefA1_15 = list()\n",
        "S2hsvD2_1 = list()\n",
        "for i in range(3):\n",
        "    S2hsvrefA1_15.append(S2meanrefA1_15[:,i].mean())\n",
        "    S2hsvD2_1.append(S2meanD2_1[:,i].mean())"
      ],
      "execution_count": null,
      "outputs": []
    },
    {
      "cell_type": "code",
      "metadata": {
        "id": "wr9WHr4N38EV"
      },
      "source": [
        "S2meanrefA1_16 = list()\n",
        "S2meanD3_1 = list()\n",
        "for i in range(S2HSV_imgA1D3_1.shape[0]): \n",
        "     for j in range(S2HSV_imgA1D3_1.shape[1]): \n",
        "                if 1769<i<1881 and 2019<j<2131 :\n",
        "                  S2meanrefA1_16.append(S2HSV_imgA1D3_1[i][j])\n",
        "                if 1770<i<1880 and 2015<j<2145 :\n",
        "                  S2meanD3_1.append(S2HSV_imgA1D3_1[i][j])  \n",
        "S2meanrefA1_16 = np.array(S2meanrefA1_16)\n",
        "S2meanD3_1 = np.array(S2meanD3_1)\n",
        "\n",
        "S2hsvrefA1_16 = list()\n",
        "S2hsvD3_1 = list()\n",
        "for i in range(3):\n",
        "    S2hsvrefA1_16.append(S2meanrefA1_16[:,i].mean())\n",
        "    S2hsvD3_1.append(S2meanD3_1[:,i].mean())"
      ],
      "execution_count": null,
      "outputs": []
    },
    {
      "cell_type": "code",
      "metadata": {
        "id": "jkHML5jK38EV"
      },
      "source": [
        "S2meanrefA1_17= list()\n",
        "S2meanD4_1 = list()\n",
        "for i in range(S2HSV_imgA1D4_1.shape[0]): \n",
        "     for j in range(S2HSV_imgA1D4_1.shape[1]): \n",
        "                if 1769<i<1881 and 2019<j<2131 :\n",
        "                  S2meanrefA1_17.append(S2HSV_imgA1D4_1[i][j])\n",
        "                if 1770<i<1880 and 2015<j<2145 :\n",
        "                  S2meanD4_1.append(S2HSV_imgA1D4_1[i][j])  \n",
        "S2meanrefA1_17 = np.array(S2meanrefA1_14)\n",
        "S2meanD4_1 = np.array(S2meanD4_1)\n",
        "\n",
        "S2hsvrefA1_17 = list()\n",
        "S2hsvD4_1 = list()\n",
        "for i in range(3):\n",
        "    S2hsvrefA1_17.append(S2meanrefA1_17[:,i].mean())\n",
        "    S2hsvD4_1.append(S2meanD4_1[:,i].mean())"
      ],
      "execution_count": null,
      "outputs": []
    },
    {
      "cell_type": "markdown",
      "metadata": {
        "id": "UyfpA9axOKdX"
      },
      "source": [
        "##Set3"
      ]
    },
    {
      "cell_type": "markdown",
      "metadata": {
        "id": "Nc5jeIh8BMnk"
      },
      "source": [
        "###RGB"
      ]
    },
    {
      "cell_type": "code",
      "metadata": {
        "id": "vzu7ETU0Q8KG"
      },
      "source": [
        "S3meanrefA1_1 = list()\n",
        "S3meanA1_2 = list()\n",
        "for i in range(S3RGB_imgA1A1_1.shape[0]): #ให้ i รันตาม row หรือ shape[0] คือแถว มีทั้งหมด 4032 แถว ของภาพที่ปรับขนาดมาแล้ว\n",
        "     for j in range(S3RGB_imgA1A1_1.shape[1]): #ให้ j รันตาม colum มีทั้งหมด 3024 colum เช่น แถวที่ 1 เข้ามาให้รันครบ 3024colum\n",
        "                if 1769<i<1881 and 2019<j<2131 :\n",
        "                  S3meanrefA1_1.append(S3RGB_imgA1A1_1[i][j])\n",
        "                if 1770<i<1880 and 2015<j<2145 :\n",
        "                  S3meanA1_2.append(S3RGB_imgA1A1_1[i][j])  \n",
        "S3meanrefA1_1 = np.array(S3meanrefA1_1)\n",
        "S3meanA1_2 = np.array(S3meanA1_2)\n",
        "\n",
        "S3rgbrefA1_1 = list()\n",
        "S3rgbA1_2 = list()\n",
        "for i in range(3):\n",
        "    S3rgbrefA1_1.append(S3meanrefA1_1[:,i].mean())\n",
        "    S3rgbA1_2.append(S3meanA1_2[:,i].mean()) "
      ],
      "execution_count": null,
      "outputs": []
    },
    {
      "cell_type": "code",
      "metadata": {
        "id": "JcDCL03-Q8KG"
      },
      "source": [
        "S3meanrefA1_3 = list()\n",
        "S3meanA2_1 = list()\n",
        "for i in range(S3RGB_imgA1A2_1.shape[0]): \n",
        "     for j in range(S3RGB_imgA1A2_1.shape[1]): \n",
        "                if 1769<i<1881 and 2019<j<2131 :\n",
        "                  S3meanrefA1_3.append(S3RGB_imgA1A2_1[i][j])\n",
        "                if 1770<i<1880 and 2015<j<2145 :\n",
        "                  S3meanA2_1.append(S3RGB_imgA1A2_1[i][j])  \n",
        "S3meanrefA1_3 = np.array(S3meanrefA1_3)\n",
        "S3meanA2_1 = np.array(S3meanA2_1)\n",
        "\n",
        "S3rgbrefA1_3 = list()\n",
        "S3rgbA2_1 = list()\n",
        "for i in range(3):\n",
        "    S3rgbrefA1_3.append(S3meanrefA1_3[:,i].mean())\n",
        "    S3rgbA2_1.append(S3meanA2_1[:,i].mean())"
      ],
      "execution_count": null,
      "outputs": []
    },
    {
      "cell_type": "code",
      "metadata": {
        "id": "olk_e71jQ8KG"
      },
      "source": [
        "S3meanrefA1_4 = list()\n",
        "S3meanA3_1 = list()\n",
        "for i in range(S3RGB_imgA1A3_1.shape[0]): \n",
        "     for j in range(S3RGB_imgA1A3_1.shape[1]): \n",
        "                if 1769<i<1881 and 2019<j<2131 :\n",
        "                  S3meanrefA1_4.append(S3RGB_imgA1A3_1[i][j])\n",
        "                if 1770<i<1880 and 2015<j<2145 :\n",
        "                  S3meanA3_1.append(S3RGB_imgA1A3_1[i][j])  \n",
        "S3meanrefA1_4 = np.array(S3meanrefA1_4)\n",
        "S3meanA3_1 = np.array(S3meanA3_1)\n",
        "\n",
        "S3rgbrefA1_4 = list()\n",
        "S3rgbA3_1 = list()\n",
        "for i in range(3):\n",
        "    S3rgbrefA1_4.append(S3meanrefA1_4[:,i].mean())\n",
        "    S3rgbA3_1.append(S3meanA3_1[:,i].mean())"
      ],
      "execution_count": null,
      "outputs": []
    },
    {
      "cell_type": "code",
      "metadata": {
        "id": "4ubTTwCYQ8KG"
      },
      "source": [
        "S3meanrefA1_5 = list()\n",
        "S3meanA3_51 = list()\n",
        "for i in range(S3RGB_imgA1A3_51.shape[0]): \n",
        "     for j in range(S3RGB_imgA1A3_51.shape[1]): \n",
        "                if 1769<i<1881 and 2019<j<2131 :\n",
        "                  S3meanrefA1_5.append(S3RGB_imgA1A3_51[i][j])\n",
        "                if 1770<i<1880 and 2015<j<2145 :\n",
        "                  S3meanA3_51.append(S3RGB_imgA1A3_51[i][j])  \n",
        "S3meanrefA1_5 = np.array(S3meanrefA1_5)\n",
        "S3meanA3_51 = np.array(S3meanA3_51)\n",
        "\n",
        "S3rgbrefA1_5 = list()\n",
        "S3rgbA3_51 = list()\n",
        "for i in range(3):\n",
        "    S3rgbrefA1_5.append(S3meanrefA1_5[:,i].mean())\n",
        "    S3rgbA3_51.append(S3meanA3_51[:,i].mean())"
      ],
      "execution_count": null,
      "outputs": []
    },
    {
      "cell_type": "code",
      "metadata": {
        "id": "fxg9nXv8Q8KG"
      },
      "source": [
        "S3meanrefA1_6 = list()\n",
        "S3meanA4_1 = list()\n",
        "for i in range(S3RGB_imgA1A4_1.shape[0]): \n",
        "     for j in range(S3RGB_imgA1A4_1.shape[1]): \n",
        "                if 1769<i<1881 and 2019<j<2131 :\n",
        "                  S3meanrefA1_6.append(S3RGB_imgA1A4_1[i][j])\n",
        "                if 1770<i<1880 and 2015<j<2145 :\n",
        "                  S3meanA4_1.append(S3RGB_imgA1A4_1[i][j])  \n",
        "S3meanrefA1_6 = np.array(S3meanrefA1_6)\n",
        "S3meanA4_1 = np.array(S3meanA4_1)\n",
        "\n",
        "S3rgbrefA1_6 = list()\n",
        "S3rgbA4_1 = list()\n",
        "for i in range(3):\n",
        "    S3rgbrefA1_6.append(S3meanrefA1_6[:,i].mean())\n",
        "    S3rgbA4_1.append(S3meanA4_1[:,i].mean())"
      ],
      "execution_count": null,
      "outputs": []
    },
    {
      "cell_type": "code",
      "metadata": {
        "id": "EOz8gLLYQ8KG"
      },
      "source": [
        "S3meanrefA1_7 = list()\n",
        "S3meanB1_1 = list()\n",
        "for i in range(S3RGB_imgA1B1_1.shape[0]): \n",
        "     for j in range(S3RGB_imgA1B1_1.shape[1]): \n",
        "                if 1769<i<1881 and 2019<j<2131 :\n",
        "                  S3meanrefA1_7.append(S3RGB_imgA1B1_1[i][j])\n",
        "                if 1770<i<1880 and 2015<j<2145 :\n",
        "                  S3meanB1_1.append(S3RGB_imgA1B1_1[i][j])  \n",
        "S3meanrefA1_7 = np.array(S3meanrefA1_7)\n",
        "S3meanB1_1 = np.array(S3meanB1_1)\n",
        "\n",
        "S3rgbrefA1_7 = list()\n",
        "S3rgbB1_1 = list()\n",
        "for i in range(3):\n",
        "    S3rgbrefA1_7.append(S3meanrefA1_7[:,i].mean())\n",
        "    S3rgbB1_1.append(S3meanB1_1[:,i].mean())"
      ],
      "execution_count": null,
      "outputs": []
    },
    {
      "cell_type": "code",
      "metadata": {
        "id": "9Hxao6vXQ8KH"
      },
      "source": [
        "S3meanrefA1_8 = list()\n",
        "S3meanB2_1 = list()\n",
        "for i in range(S3RGB_imgA1B2_1.shape[0]): \n",
        "     for j in range(S3RGB_imgA1B2_1.shape[1]): \n",
        "                if 1769<i<1881 and 2019<j<2131 :\n",
        "                  S3meanrefA1_8.append(S3RGB_imgA1B2_1[i][j])\n",
        "                if 1770<i<1880 and 2015<j<2145 :\n",
        "                  S3meanB2_1.append(S3RGB_imgA1B2_1[i][j])  \n",
        "S3meanrefA1_8 = np.array(S3meanrefA1_8)\n",
        "S3meanB2_1 = np.array(S3meanB2_1)\n",
        "\n",
        "S3rgbrefA1_8 = list()\n",
        "S3rgbB2_1 = list()\n",
        "for i in range(3):\n",
        "    S3rgbrefA1_8.append(S3meanrefA1_8[:,i].mean())\n",
        "    S3rgbB2_1.append(S3meanB2_1[:,i].mean())"
      ],
      "execution_count": null,
      "outputs": []
    },
    {
      "cell_type": "code",
      "metadata": {
        "id": "x3URzi7NQ8KH"
      },
      "source": [
        "S3meanrefA1_9 = list()\n",
        "S3meanB3_1 = list()\n",
        "for i in range(S3RGB_imgA1B3_1.shape[0]): \n",
        "     for j in range(S3RGB_imgA1B3_1.shape[1]): \n",
        "                if 1769<i<1881 and 2019<j<2131 :\n",
        "                  S3meanrefA1_9.append(S3RGB_imgA1B3_1[i][j])\n",
        "                if 1770<i<1880 and 2015<j<2145 :\n",
        "                  S3meanB3_1.append(S3RGB_imgA1B3_1[i][j])  \n",
        "S3meanrefA1_9 = np.array(S3meanrefA1_9)\n",
        "S3meanB3_1 = np.array(S3meanB3_1)\n",
        "\n",
        "S3rgbrefA1_9 = list()\n",
        "S3rgbB3_1 = list()\n",
        "for i in range(3):\n",
        "    S3rgbrefA1_9.append(S3meanrefA1_9[:,i].mean())\n",
        "    S3rgbB3_1.append(S3meanB3_1[:,i].mean())"
      ],
      "execution_count": null,
      "outputs": []
    },
    {
      "cell_type": "code",
      "metadata": {
        "id": "ll53-jAbQ8KH"
      },
      "source": [
        "S3meanrefA1_10 = list()\n",
        "S3meanB4_1 = list()\n",
        "for i in range(S3RGB_imgA1B4_1.shape[0]): \n",
        "     for j in range(S3RGB_imgA1B4_1.shape[1]): \n",
        "                if 1769<i<1881 and 2019<j<2131 :\n",
        "                  S3meanrefA1_10.append(S3RGB_imgA1B4_1[i][j])\n",
        "                if 1770<i<1880 and 2015<j<2145 :\n",
        "                  S3meanB4_1.append(S3RGB_imgA1B4_1[i][j])  \n",
        "S3meanrefA1_10 = np.array(S3meanrefA1_10)\n",
        "S3meanB4_1 = np.array(S3meanB4_1)\n",
        "\n",
        "S3rgbrefA1_10 = list()\n",
        "S3rgbB4_1 = list()\n",
        "for i in range(3):\n",
        "    S3rgbrefA1_10.append(S3meanrefA1_10[:,i].mean())\n",
        "    S3rgbB4_1.append(S3meanB4_1[:,i].mean())"
      ],
      "execution_count": null,
      "outputs": []
    },
    {
      "cell_type": "code",
      "metadata": {
        "id": "G0LKXkLIQ8KH"
      },
      "source": [
        "S3meanrefA1_11 = list()\n",
        "S3meanC1_1 = list()\n",
        "for i in range(S3RGB_imgA1C1_1.shape[0]): \n",
        "     for j in range(S3RGB_imgA1C1_1.shape[1]): \n",
        "                if 1769<i<1881 and 2019<j<2131 :\n",
        "                  S3meanrefA1_11.append(S3RGB_imgA1C1_1[i][j])\n",
        "                if 1770<i<1880 and 2015<j<2145 :\n",
        "                  S3meanC1_1.append(S3RGB_imgA1C1_1[i][j])  \n",
        "S3meanrefA1_11 = np.array(S3meanrefA1_11)\n",
        "S3meanC1_1 = np.array(S3meanC1_1)\n",
        "\n",
        "S3rgbrefA1_11 = list()\n",
        "S3rgbC1_1 = list()\n",
        "for i in range(3):\n",
        "    S3rgbrefA1_11.append(S3meanrefA1_11[:,i].mean())\n",
        "    S3rgbC1_1.append(S3meanC1_1[:,i].mean())"
      ],
      "execution_count": null,
      "outputs": []
    },
    {
      "cell_type": "code",
      "metadata": {
        "id": "JepvVeIBQ8KH"
      },
      "source": [
        "S3meanrefA1_12 = list()\n",
        "S3meanC2_1 = list()\n",
        "for i in range(S3RGB_imgA1C2_1.shape[0]): \n",
        "     for j in range(S3RGB_imgA1C2_1.shape[1]): \n",
        "                if 1769<i<1881 and 2019<j<2131 :\n",
        "                  S3meanrefA1_12.append(S3RGB_imgA1C2_1[i][j])\n",
        "                if 1770<i<1880 and 2015<j<2145 :\n",
        "                  S3meanC2_1.append(S3RGB_imgA1C2_1[i][j])  \n",
        "S3meanrefA1_12 = np.array(S3meanrefA1_12)\n",
        "S3meanC2_1 = np.array(S3meanC2_1)\n",
        "\n",
        "S3rgbrefA1_12 = list()\n",
        "S3rgbC2_1 = list()\n",
        "for i in range(3):\n",
        "    S3rgbrefA1_12.append(S3meanrefA1_12[:,i].mean())\n",
        "    S3rgbC2_1.append(S3meanC2_1[:,i].mean())"
      ],
      "execution_count": null,
      "outputs": []
    },
    {
      "cell_type": "code",
      "metadata": {
        "id": "IFRuGLFoQ8KH"
      },
      "source": [
        "S3meanrefA1_13 = list()\n",
        "S3meanC3_1 = list()\n",
        "for i in range(S3RGB_imgA1C3_1.shape[0]): \n",
        "     for j in range(S3RGB_imgA1C3_1.shape[1]): \n",
        "                if 1769<i<1881 and 2019<j<2131 :\n",
        "                  S3meanrefA1_13.append(S3RGB_imgA1C3_1[i][j])\n",
        "                if 1770<i<1880 and 2015<j<2145 :\n",
        "                  S3meanC3_1.append(S3RGB_imgA1C3_1[i][j])  \n",
        "S3meanrefA1_13 = np.array(S3meanrefA1_13)\n",
        "S3meanC3_1 = np.array(S3meanC3_1)\n",
        "\n",
        "S3rgbrefA1_13 = list()\n",
        "S3rgbC3_1 = list()\n",
        "for i in range(3):\n",
        "    S3rgbrefA1_13.append(S3meanrefA1_13[:,i].mean())\n",
        "    S3rgbC3_1.append(S3meanC3_1[:,i].mean())"
      ],
      "execution_count": null,
      "outputs": []
    },
    {
      "cell_type": "code",
      "metadata": {
        "id": "r5vFfCOwQ8KH"
      },
      "source": [
        "S3meanrefA1_14 = list()\n",
        "S3meanC4_1 = list()\n",
        "for i in range(S3RGB_imgA1C4_1.shape[0]): \n",
        "     for j in range(S3RGB_imgA1C4_1.shape[1]): \n",
        "                if 1769<i<1881 and 2019<j<2131 :\n",
        "                  S3meanrefA1_14.append(S3RGB_imgA1C4_1[i][j])\n",
        "                if 1770<i<1880 and 2015<j<2145 :\n",
        "                  S3meanC4_1.append(S3RGB_imgA1C4_1[i][j])  \n",
        "S3meanrefA1_14 = np.array(S3meanrefA1_14)\n",
        "S3meanC4_1 = np.array(S3meanC4_1)\n",
        "\n",
        "S3rgbrefA1_14 = list()\n",
        "S3rgbC4_1 = list()\n",
        "for i in range(3):\n",
        "    S3rgbrefA1_14.append(S3meanrefA1_14[:,i].mean())\n",
        "    S3rgbC4_1.append(S3meanC4_1[:,i].mean())"
      ],
      "execution_count": null,
      "outputs": []
    },
    {
      "cell_type": "code",
      "metadata": {
        "id": "k8R-0grfQ8KH"
      },
      "source": [
        "S3meanrefA1_15 = list()\n",
        "S3meanD2_1 = list()\n",
        "for i in range(S3RGB_imgA1D2_1.shape[0]): \n",
        "     for j in range(S3RGB_imgA1D2_1.shape[1]): \n",
        "                if 1769<i<1881 and 2019<j<2131 :\n",
        "                  S3meanrefA1_15.append(S3RGB_imgA1D2_1[i][j])\n",
        "                if 1770<i<1880 and 2015<j<2145 :\n",
        "                  S3meanD2_1.append(S3RGB_imgA1D2_1[i][j])  \n",
        "S3meanrefA1_15 = np.array(S3meanrefA1_15)\n",
        "S3meanD2_1 = np.array(S3meanD2_1)\n",
        "\n",
        "S3rgbrefA1_15 = list()\n",
        "S3rgbD2_1 = list()\n",
        "for i in range(3):\n",
        "    S3rgbrefA1_15.append(S3meanrefA1_15[:,i].mean())\n",
        "    S3rgbD2_1.append(S3meanD2_1[:,i].mean())"
      ],
      "execution_count": null,
      "outputs": []
    },
    {
      "cell_type": "code",
      "metadata": {
        "id": "6QQq38GUQ8KI"
      },
      "source": [
        "S3meanrefA1_16 = list()\n",
        "S3meanD3_1 = list()\n",
        "for i in range(S3RGB_imgA1D3_1.shape[0]): \n",
        "     for j in range(S3RGB_imgA1D3_1.shape[1]): \n",
        "                if 1769<i<1881 and 2019<j<2131 :\n",
        "                  S3meanrefA1_16.append(S3RGB_imgA1D3_1[i][j])\n",
        "                if 1770<i<1880 and 2015<j<2145 :\n",
        "                  S3meanD3_1.append(S3RGB_imgA1D3_1[i][j])  \n",
        "S3meanrefA1_16 = np.array(S3meanrefA1_16)\n",
        "S3meanD3_1 = np.array(S3meanD3_1)\n",
        "\n",
        "S3rgbrefA1_16 = list()\n",
        "S3rgbD3_1 = list()\n",
        "for i in range(3):\n",
        "    S3rgbrefA1_16.append(S3meanrefA1_16[:,i].mean())\n",
        "    S3rgbD3_1.append(S3meanD3_1[:,i].mean())"
      ],
      "execution_count": null,
      "outputs": []
    },
    {
      "cell_type": "code",
      "metadata": {
        "id": "fC5f7pymQ8KI"
      },
      "source": [
        "S3meanrefA1_17= list()\n",
        "S3meanD4_1 = list()\n",
        "for i in range(S3RGB_imgA1D4_1.shape[0]): \n",
        "     for j in range(S3RGB_imgA1D4_1.shape[1]): \n",
        "                if 1769<i<1881 and 2019<j<2131 :\n",
        "                  S3meanrefA1_17.append(S3RGB_imgA1D4_1[i][j])\n",
        "                if 1770<i<1880 and 2015<j<2145 :\n",
        "                  S3meanD4_1.append(S3RGB_imgA1D4_1[i][j])  \n",
        "S3meanrefA1_17 = np.array(S3meanrefA1_14)\n",
        "S3meanD4_1 = np.array(S3meanD4_1)\n",
        "\n",
        "S3rgbrefA1_17 = list()\n",
        "S3rgbD4_1 = list()\n",
        "for i in range(3):\n",
        "    S3rgbrefA1_17.append(S3meanrefA1_17[:,i].mean())\n",
        "    S3rgbD4_1.append(S3meanD4_1[:,i].mean())"
      ],
      "execution_count": null,
      "outputs": []
    },
    {
      "cell_type": "markdown",
      "metadata": {
        "id": "WV6fij-YBTHT"
      },
      "source": [
        "###HSV"
      ]
    },
    {
      "cell_type": "code",
      "metadata": {
        "id": "CpXqpyMABXOK"
      },
      "source": [
        "S3meanrefA1_1 = list()\n",
        "S3meanA1_2 = list()\n",
        "for i in range(S3HSV_imgA1A1_1.shape[0]): #ให้ i รันตาม row หรือ shape[0] คือแถว มีทั้งหมด 4032 แถว ของภาพที่ปรับขนาดมาแล้ว\n",
        "     for j in range(S3HSV_imgA1A1_1.shape[1]): #ให้ j รันตาม colum มีทั้งหมด 3024 colum เช่น แถวที่ 1 เข้ามาให้รันครบ 3024colum\n",
        "                if 1769<i<1881 and 2019<j<2131 :\n",
        "                  S3meanrefA1_1.append(S3HSV_imgA1A1_1[i][j])\n",
        "                if 1770<i<1880 and 2015<j<2145 :\n",
        "                  S3meanA1_2.append(S3HSV_imgA1A1_1[i][j])  \n",
        "S3meanrefA1_1 = np.array(S3meanrefA1_1)\n",
        "S3meanA1_2 = np.array(S3meanA1_2)\n",
        "\n",
        "S3hsvrefA1_1 = list() \n",
        "S3hsvA1_2 = list()\n",
        "for i in range(3):\n",
        "    S3hsvrefA1_1.append(S3meanrefA1_1[:,i].mean())\n",
        "    S3hsvA1_2.append(S3meanA1_2[:,i].mean()) "
      ],
      "execution_count": null,
      "outputs": []
    },
    {
      "cell_type": "code",
      "metadata": {
        "id": "yeynuRjcBXOL"
      },
      "source": [
        "S3meanrefA1_3 = list()\n",
        "S3meanA2_1 = list()\n",
        "for i in range(S3HSV_imgA1A2_1.shape[0]): \n",
        "     for j in range(S3HSV_imgA1A2_1.shape[1]): \n",
        "                if 1769<i<1881 and 2019<j<2131 :\n",
        "                  S3meanrefA1_3.append(S3HSV_imgA1A2_1[i][j])\n",
        "                if 1770<i<1880 and 2015<j<2145 :\n",
        "                  S3meanA2_1.append(S3HSV_imgA1A2_1[i][j])  \n",
        "S3meanrefA1_3 = np.array(S3meanrefA1_3)\n",
        "S3meanA2_1 = np.array(S3meanA2_1)\n",
        "\n",
        "S3hsvrefA1_3 = list()\n",
        "S3hsvA2_1 = list()\n",
        "for i in range(3):\n",
        "    S3hsvrefA1_3.append(S3meanrefA1_3[:,i].mean())\n",
        "    S3hsvA2_1.append(S3meanA2_1[:,i].mean())"
      ],
      "execution_count": null,
      "outputs": []
    },
    {
      "cell_type": "code",
      "metadata": {
        "id": "qIy6fapuBXOL"
      },
      "source": [
        "S3meanrefA1_4 = list()\n",
        "S3meanA3_1 = list()\n",
        "for i in range(S3HSV_imgA1A3_1.shape[0]): \n",
        "     for j in range(S3HSV_imgA1A3_1.shape[1]): \n",
        "                if 1769<i<1881 and 2019<j<2131 :\n",
        "                  S3meanrefA1_4.append(S3HSV_imgA1A3_1[i][j])\n",
        "                if 1770<i<1880 and 2015<j<2145 :\n",
        "                  S3meanA3_1.append(S3HSV_imgA1A3_1[i][j])  \n",
        "S3meanrefA1_4 = np.array(S3meanrefA1_4)\n",
        "S3meanA3_1 = np.array(S3meanA3_1)\n",
        "\n",
        "S3hsvrefA1_4 = list()\n",
        "S3hsvA3_1 = list()\n",
        "for i in range(3):\n",
        "    S3hsvrefA1_4.append(S3meanrefA1_4[:,i].mean())\n",
        "    S3hsvA3_1.append(S3meanA3_1[:,i].mean())"
      ],
      "execution_count": null,
      "outputs": []
    },
    {
      "cell_type": "code",
      "metadata": {
        "id": "6aVmtceTBXOL"
      },
      "source": [
        "S3meanrefA1_5 = list()\n",
        "S3meanA3_51 = list()\n",
        "for i in range(S3HSV_imgA1A3_51.shape[0]): \n",
        "     for j in range(S3HSV_imgA1A3_51.shape[1]): \n",
        "                if 1769<i<1881 and 2019<j<2131 :\n",
        "                  S3meanrefA1_5.append(S3HSV_imgA1A3_51[i][j])\n",
        "                if 1770<i<1880 and 2015<j<2145 :\n",
        "                  S3meanA3_51.append(S3HSV_imgA1A3_51[i][j])  \n",
        "S3meanrefA1_5 = np.array(S3meanrefA1_5)\n",
        "S3meanA3_51 = np.array(S3meanA3_51)\n",
        "\n",
        "S3hsvrefA1_5 = list()\n",
        "S3hsvA3_51 = list()\n",
        "for i in range(3):\n",
        "    S3hsvrefA1_5.append(S3meanrefA1_5[:,i].mean())\n",
        "    S3hsvA3_51.append(S3meanA3_51[:,i].mean())"
      ],
      "execution_count": null,
      "outputs": []
    },
    {
      "cell_type": "code",
      "metadata": {
        "id": "qLfVtbivBXOL"
      },
      "source": [
        "S3meanrefA1_6 = list()\n",
        "S3meanA4_1 = list()\n",
        "for i in range(S3HSV_imgA1A4_1.shape[0]): \n",
        "     for j in range(S3HSV_imgA1A4_1.shape[1]): \n",
        "                if 1769<i<1881 and 2019<j<2131 :\n",
        "                  S3meanrefA1_6.append(S3HSV_imgA1A4_1[i][j])\n",
        "                if 1770<i<1880 and 2015<j<2145 :\n",
        "                  S3meanA4_1.append(S3HSV_imgA1A4_1[i][j])  \n",
        "S3meanrefA1_6 = np.array(S3meanrefA1_6)\n",
        "S3meanA4_1 = np.array(S3meanA4_1)\n",
        "\n",
        "S3hsvrefA1_6 = list()\n",
        "S3hsvA4_1 = list()\n",
        "for i in range(3):\n",
        "    S3hsvrefA1_6.append(S3meanrefA1_6[:,i].mean())\n",
        "    S3hsvA4_1.append(S3meanA4_1[:,i].mean())"
      ],
      "execution_count": null,
      "outputs": []
    },
    {
      "cell_type": "code",
      "metadata": {
        "id": "q2Q-WdS7BXOL"
      },
      "source": [
        "S3meanrefA1_7 = list()\n",
        "S3meanB1_1 = list()\n",
        "for i in range(S3HSV_imgA1B1_1.shape[0]): \n",
        "     for j in range(S3HSV_imgA1B1_1.shape[1]): \n",
        "                if 1769<i<1881 and 2019<j<2131 :\n",
        "                  S3meanrefA1_7.append(S3HSV_imgA1B1_1[i][j])\n",
        "                if 1770<i<1880 and 2015<j<2145 :\n",
        "                  S3meanB1_1.append(S3HSV_imgA1B1_1[i][j])  \n",
        "S3meanrefA1_7 = np.array(S3meanrefA1_7)\n",
        "S3meanB1_1 = np.array(S3meanB1_1)\n",
        "\n",
        "S3hsvrefA1_7 = list()\n",
        "S3hsvB1_1 = list()\n",
        "for i in range(3):\n",
        "    S3hsvrefA1_7.append(S3meanrefA1_7[:,i].mean())\n",
        "    S3hsvB1_1.append(S3meanB1_1[:,i].mean())"
      ],
      "execution_count": null,
      "outputs": []
    },
    {
      "cell_type": "code",
      "metadata": {
        "id": "J08qg7pfBXOM"
      },
      "source": [
        "S3meanrefA1_8 = list()\n",
        "S3meanB2_1 = list()\n",
        "for i in range(S3HSV_imgA1B2_1.shape[0]): \n",
        "     for j in range(S3HSV_imgA1B2_1.shape[1]): \n",
        "                if 1769<i<1881 and 2019<j<2131 :\n",
        "                  S3meanrefA1_8.append(S3HSV_imgA1B2_1[i][j])\n",
        "                if 1770<i<1880 and 2015<j<2145 :\n",
        "                  S3meanB2_1.append(S3HSV_imgA1B2_1[i][j])  \n",
        "S3meanrefA1_8 = np.array(S3meanrefA1_8)\n",
        "S3meanB2_1 = np.array(S3meanB2_1)\n",
        "\n",
        "S3hsvrefA1_8 = list()\n",
        "S3hsvB2_1 = list()\n",
        "for i in range(3):\n",
        "    S3hsvrefA1_8.append(S3meanrefA1_8[:,i].mean())\n",
        "    S3hsvB2_1.append(S3meanB2_1[:,i].mean())"
      ],
      "execution_count": null,
      "outputs": []
    },
    {
      "cell_type": "code",
      "metadata": {
        "id": "n35b_dAPBXOM"
      },
      "source": [
        "S3meanrefA1_9 = list()\n",
        "S3meanB3_1 = list()\n",
        "for i in range(S3HSV_imgA1B3_1.shape[0]): \n",
        "     for j in range(S3HSV_imgA1B3_1.shape[1]): \n",
        "                if 1769<i<1881 and 2019<j<2131 :\n",
        "                  S3meanrefA1_9.append(S3HSV_imgA1B3_1[i][j])\n",
        "                if 1770<i<1880 and 2015<j<2145 :\n",
        "                  S3meanB3_1.append(S3HSV_imgA1B3_1[i][j])  \n",
        "S3meanrefA1_9 = np.array(S3meanrefA1_9)\n",
        "S3meanB3_1 = np.array(S3meanB3_1)\n",
        "\n",
        "S3hsvrefA1_9 = list()\n",
        "S3hsvB3_1 = list()\n",
        "for i in range(3):\n",
        "    S3hsvrefA1_9.append(S3meanrefA1_9[:,i].mean())\n",
        "    S3hsvB3_1.append(S3meanB3_1[:,i].mean())"
      ],
      "execution_count": null,
      "outputs": []
    },
    {
      "cell_type": "code",
      "metadata": {
        "id": "ldcrAdFEBXOM"
      },
      "source": [
        "S3meanrefA1_10 = list()\n",
        "S3meanB4_1 = list()\n",
        "for i in range(S3HSV_imgA1B4_1.shape[0]): \n",
        "     for j in range(S3HSV_imgA1B4_1.shape[1]): \n",
        "                if 1769<i<1881 and 2019<j<2131 :\n",
        "                  S3meanrefA1_10.append(S3HSV_imgA1B4_1[i][j])\n",
        "                if 1770<i<1880 and 2015<j<2145 :\n",
        "                  S3meanB4_1.append(S3HSV_imgA1B4_1[i][j])  \n",
        "S3meanrefA1_10 = np.array(S3meanrefA1_10)\n",
        "S3meanB4_1 = np.array(S3meanB4_1)\n",
        "\n",
        "S3hsvrefA1_10 = list()\n",
        "S3hsvB4_1 = list()\n",
        "for i in range(3):\n",
        "    S3hsvrefA1_10.append(S3meanrefA1_10[:,i].mean())\n",
        "    S3hsvB4_1.append(S3meanB4_1[:,i].mean())"
      ],
      "execution_count": null,
      "outputs": []
    },
    {
      "cell_type": "code",
      "metadata": {
        "id": "EWeFPjRPBXOM"
      },
      "source": [
        "S3meanrefA1_11 = list()\n",
        "S3meanC1_1 = list()\n",
        "for i in range(S3HSV_imgA1C1_1.shape[0]): \n",
        "     for j in range(S3HSV_imgA1C1_1.shape[1]): \n",
        "                if 1769<i<1881 and 2019<j<2131 :\n",
        "                  S3meanrefA1_11.append(S3HSV_imgA1C1_1[i][j])\n",
        "                if 1770<i<1880 and 2015<j<2145 :\n",
        "                  S3meanC1_1.append(S3HSV_imgA1C1_1[i][j])  \n",
        "S3meanrefA1_11 = np.array(S3meanrefA1_11)\n",
        "S3meanC1_1 = np.array(S3meanC1_1)\n",
        "\n",
        "S3hsvrefA1_11 = list()\n",
        "S3hsvC1_1 = list()\n",
        "for i in range(3):\n",
        "    S3hsvrefA1_11.append(S3meanrefA1_11[:,i].mean())\n",
        "    S3hsvC1_1.append(S3meanC1_1[:,i].mean())"
      ],
      "execution_count": null,
      "outputs": []
    },
    {
      "cell_type": "code",
      "metadata": {
        "id": "RhVK-RAABXON"
      },
      "source": [
        "S3meanrefA1_12 = list()\n",
        "S3meanC2_1 = list()\n",
        "for i in range(S3HSV_imgA1C2_1.shape[0]): \n",
        "     for j in range(S3HSV_imgA1C2_1.shape[1]): \n",
        "                if 1769<i<1881 and 2019<j<2131 :\n",
        "                  S3meanrefA1_12.append(S3HSV_imgA1C2_1[i][j])\n",
        "                if 1770<i<1880 and 2015<j<2145 :\n",
        "                  S3meanC2_1.append(S3HSV_imgA1C2_1[i][j])  \n",
        "S3meanrefA1_12 = np.array(S3meanrefA1_12)\n",
        "S3meanC2_1 = np.array(S3meanC2_1)\n",
        "\n",
        "S3hsvrefA1_12 = list()\n",
        "S3hsvC2_1 = list()\n",
        "for i in range(3):\n",
        "    S3hsvrefA1_12.append(S3meanrefA1_12[:,i].mean())\n",
        "    S3hsvC2_1.append(S3meanC2_1[:,i].mean())"
      ],
      "execution_count": null,
      "outputs": []
    },
    {
      "cell_type": "code",
      "metadata": {
        "id": "FkVS08wpBXON"
      },
      "source": [
        "S3meanrefA1_13 = list()\n",
        "S3meanC3_1 = list()\n",
        "for i in range(S3HSV_imgA1C3_1.shape[0]): \n",
        "     for j in range(S3HSV_imgA1C3_1.shape[1]): \n",
        "                if 1769<i<1881 and 2019<j<2131 :\n",
        "                  S3meanrefA1_13.append(S3HSV_imgA1C3_1[i][j])\n",
        "                if 1770<i<1880 and 2015<j<2145 :\n",
        "                  S3meanC3_1.append(S3HSV_imgA1C3_1[i][j])  \n",
        "S3meanrefA1_13 = np.array(S3meanrefA1_13)\n",
        "S3meanC3_1 = np.array(S3meanC3_1)\n",
        "\n",
        "S3hsvrefA1_13 = list()\n",
        "S3hsvC3_1 = list()\n",
        "for i in range(3):\n",
        "    S3hsvrefA1_13.append(S3meanrefA1_13[:,i].mean())\n",
        "    S3hsvC3_1.append(S3meanC3_1[:,i].mean())"
      ],
      "execution_count": null,
      "outputs": []
    },
    {
      "cell_type": "code",
      "metadata": {
        "id": "yUpoqVyGBXON"
      },
      "source": [
        "S3meanrefA1_14 = list()\n",
        "S3meanC4_1 = list()\n",
        "for i in range(S3HSV_imgA1C4_1.shape[0]): \n",
        "     for j in range(S3HSV_imgA1C4_1.shape[1]): \n",
        "                if 1769<i<1881 and 2019<j<2131 :\n",
        "                  S3meanrefA1_14.append(S3HSV_imgA1C4_1[i][j])\n",
        "                if 1770<i<1880 and 2015<j<2145 :\n",
        "                  S3meanC4_1.append(S3HSV_imgA1C4_1[i][j])  \n",
        "S3meanrefA1_14 = np.array(S3meanrefA1_14)\n",
        "S3meanC4_1 = np.array(S3meanC4_1)\n",
        "\n",
        "S3hsvrefA1_14 = list()\n",
        "S3hsvC4_1 = list()\n",
        "for i in range(3):\n",
        "    S3hsvrefA1_14.append(S3meanrefA1_14[:,i].mean())\n",
        "    S3hsvC4_1.append(S3meanC4_1[:,i].mean())"
      ],
      "execution_count": null,
      "outputs": []
    },
    {
      "cell_type": "code",
      "metadata": {
        "id": "KcCUrvFyBXON"
      },
      "source": [
        "S3meanrefA1_15 = list()\n",
        "S3meanD2_1 = list()\n",
        "for i in range(S3HSV_imgA1D2_1.shape[0]): \n",
        "     for j in range(S3HSV_imgA1D2_1.shape[1]): \n",
        "                if 1769<i<1881 and 2019<j<2131 :\n",
        "                  S3meanrefA1_15.append(S3HSV_imgA1D2_1[i][j])\n",
        "                if 1770<i<1880 and 2015<j<2145 :\n",
        "                  S3meanD2_1.append(S3HSV_imgA1D2_1[i][j])  \n",
        "S3meanrefA1_15 = np.array(S3meanrefA1_15)\n",
        "S3meanD2_1 = np.array(S3meanD2_1)\n",
        "\n",
        "S3hsvrefA1_15 = list()\n",
        "S3hsvD2_1 = list()\n",
        "for i in range(3):\n",
        "    S3hsvrefA1_15.append(S3meanrefA1_15[:,i].mean())\n",
        "    S3hsvD2_1.append(S3meanD2_1[:,i].mean())"
      ],
      "execution_count": null,
      "outputs": []
    },
    {
      "cell_type": "code",
      "metadata": {
        "id": "W7rBPnlkBXOO"
      },
      "source": [
        "S3meanrefA1_16 = list()\n",
        "S3meanD3_1 = list()\n",
        "for i in range(S3HSV_imgA1D3_1.shape[0]): \n",
        "     for j in range(S3HSV_imgA1D3_1.shape[1]): \n",
        "                if 1769<i<1881 and 2019<j<2131 :\n",
        "                  S3meanrefA1_16.append(S3HSV_imgA1D3_1[i][j])\n",
        "                if 1770<i<1880 and 2015<j<2145 :\n",
        "                  S3meanD3_1.append(S3HSV_imgA1D3_1[i][j])  \n",
        "S3meanrefA1_16 = np.array(S3meanrefA1_16)\n",
        "S3meanD3_1 = np.array(S3meanD3_1)\n",
        "\n",
        "S3hsvrefA1_16 = list()\n",
        "S3hsvD3_1 = list()\n",
        "for i in range(3):\n",
        "    S3hsvrefA1_16.append(S3meanrefA1_16[:,i].mean())\n",
        "    S3hsvD3_1.append(S3meanD3_1[:,i].mean())"
      ],
      "execution_count": null,
      "outputs": []
    },
    {
      "cell_type": "code",
      "metadata": {
        "id": "9dk2c02XBXOO"
      },
      "source": [
        "S3meanrefA1_17= list()\n",
        "S3meanD4_1 = list()\n",
        "for i in range(S3HSV_imgA1D4_1.shape[0]): \n",
        "     for j in range(S3HSV_imgA1D4_1.shape[1]): \n",
        "                if 1769<i<1881 and 2019<j<2131 :\n",
        "                  S3meanrefA1_17.append(S3HSV_imgA1D4_1[i][j])\n",
        "                if 1770<i<1880 and 2015<j<2145 :\n",
        "                  S3meanD4_1.append(S3HSV_imgA1D4_1[i][j])  \n",
        "S3meanrefA1_17 = np.array(S3meanrefA1_14)\n",
        "S3meanD4_1 = np.array(S3meanD4_1)\n",
        "\n",
        "S3hsvrefA1_17 = list()\n",
        "S3hsvD4_1 = list()\n",
        "for i in range(3):\n",
        "    S3hsvrefA1_17.append(S3meanrefA1_17[:,i].mean())\n",
        "    S3hsvD4_1.append(S3meanD4_1[:,i].mean())"
      ],
      "execution_count": null,
      "outputs": []
    },
    {
      "cell_type": "markdown",
      "metadata": {
        "id": "W1Nj-675OLxB"
      },
      "source": [
        "##Set4"
      ]
    },
    {
      "cell_type": "markdown",
      "metadata": {
        "id": "OVWde62WJ576"
      },
      "source": [
        "###RGB"
      ]
    },
    {
      "cell_type": "code",
      "metadata": {
        "id": "9qe-b3RQTFI1"
      },
      "source": [
        "S4meanrefA1_1 = list()\n",
        "S4meanA1_2 = list()\n",
        "for i in range(S4RGB_imgA1A1_1.shape[0]): #ให้ i รันตาม row หรือ shape[0] คือแถว มีทั้งหมด 4032 แถว ของภาพที่ปรับขนาดมาแล้ว\n",
        "     for j in range(S4RGB_imgA1A1_1.shape[1]): #ให้ j รันตาม colum มีทั้งหมด 3024 colum เช่น แถวที่ 1 เข้ามาให้รันครบ 3024colum\n",
        "                if 1769<i<1881 and 2019<j<2131 :\n",
        "                  S4meanrefA1_1.append(S4RGB_imgA1A1_1[i][j])\n",
        "                if 1770<i<1880 and 2015<j<2145 :\n",
        "                  S4meanA1_2.append(S4RGB_imgA1A1_1[i][j])  \n",
        "S4meanrefA1_1 = np.array(S4meanrefA1_1)\n",
        "S4meanA1_2 = np.array(S4meanA1_2)\n",
        "\n",
        "S4rgbrefA1_1 = list()\n",
        "S4rgbA1_2 = list()\n",
        "for i in range(3):\n",
        "    S4rgbrefA1_1.append(S4meanrefA1_1[:,i].mean())\n",
        "    S4rgbA1_2.append(S4meanA1_2[:,i].mean()) "
      ],
      "execution_count": null,
      "outputs": []
    },
    {
      "cell_type": "code",
      "metadata": {
        "id": "9PmGY8ytTFI1"
      },
      "source": [
        "S4meanrefA1_3 = list()\n",
        "S4meanA2_1 = list()\n",
        "for i in range(S4RGB_imgA1A2_1.shape[0]): \n",
        "     for j in range(S4RGB_imgA1A2_1.shape[1]): \n",
        "                if 1769<i<1881 and 2019<j<2131 :\n",
        "                  S4meanrefA1_3.append(S4RGB_imgA1A2_1[i][j])\n",
        "                if 1770<i<1880 and 2015<j<2145 :\n",
        "                  S4meanA2_1.append(S4RGB_imgA1A2_1[i][j])  \n",
        "S4meanrefA1_3 = np.array(S4meanrefA1_3)\n",
        "S4meanA2_1 = np.array(S4meanA2_1)\n",
        "\n",
        "S4rgbrefA1_3 = list()\n",
        "S4rgbA2_1 = list()\n",
        "for i in range(3):\n",
        "    S4rgbrefA1_3.append(S4meanrefA1_3[:,i].mean())\n",
        "    S4rgbA2_1.append(S4meanA2_1[:,i].mean())"
      ],
      "execution_count": null,
      "outputs": []
    },
    {
      "cell_type": "code",
      "metadata": {
        "id": "VkmexGJeTFI2"
      },
      "source": [
        "S4meanrefA1_4 = list()\n",
        "S4meanA3_1 = list()\n",
        "for i in range(S4RGB_imgA1A3_1.shape[0]): \n",
        "     for j in range(S4RGB_imgA1A3_1.shape[1]): \n",
        "                if 1769<i<1881 and 2019<j<2131 :\n",
        "                  S4meanrefA1_4.append(S4RGB_imgA1A3_1[i][j])\n",
        "                if 1770<i<1880 and 2015<j<2145 :\n",
        "                  S4meanA3_1.append(S4RGB_imgA1A3_1[i][j])  \n",
        "S4meanrefA1_4 = np.array(S4meanrefA1_4)\n",
        "S4meanA3_1 = np.array(S4meanA3_1)\n",
        "\n",
        "S4rgbrefA1_4 = list()\n",
        "S4rgbA3_1 = list()\n",
        "for i in range(3):\n",
        "    S4rgbrefA1_4.append(S4meanrefA1_4[:,i].mean())\n",
        "    S4rgbA3_1.append(S4meanA3_1[:,i].mean())"
      ],
      "execution_count": null,
      "outputs": []
    },
    {
      "cell_type": "code",
      "metadata": {
        "id": "ydYPsKzWTFI2"
      },
      "source": [
        "S4meanrefA1_5 = list()\n",
        "S4meanA3_51 = list()\n",
        "for i in range(S4RGB_imgA1A3_51.shape[0]): \n",
        "     for j in range(S4RGB_imgA1A3_51.shape[1]): \n",
        "                if 1769<i<1881 and 2019<j<2131 :\n",
        "                  S4meanrefA1_5.append(S4RGB_imgA1A3_51[i][j])\n",
        "                if 1770<i<1880 and 2015<j<2145 :\n",
        "                  S4meanA3_51.append(S4RGB_imgA1A3_51[i][j])  \n",
        "S4meanrefA1_5 = np.array(S4meanrefA1_5)\n",
        "S4meanA3_51 = np.array(S4meanA3_51)\n",
        "\n",
        "S4rgbrefA1_5 = list()\n",
        "S4rgbA3_51 = list()\n",
        "for i in range(3):\n",
        "    S4rgbrefA1_5.append(S4meanrefA1_5[:,i].mean())\n",
        "    S4rgbA3_51.append(S4meanA3_51[:,i].mean())"
      ],
      "execution_count": null,
      "outputs": []
    },
    {
      "cell_type": "code",
      "metadata": {
        "id": "tvR2Ob8sTFI2"
      },
      "source": [
        "S4meanrefA1_6 = list()\n",
        "S4meanA4_1 = list()\n",
        "for i in range(S4RGB_imgA1A4_1.shape[0]): \n",
        "     for j in range(S4RGB_imgA1A4_1.shape[1]): \n",
        "                if 1769<i<1881 and 2019<j<2131 :\n",
        "                  S4meanrefA1_6.append(S4RGB_imgA1A4_1[i][j])\n",
        "                if 1770<i<1880 and 2015<j<2145 :\n",
        "                  S4meanA4_1.append(S4RGB_imgA1A4_1[i][j])  \n",
        "S4meanrefA1_6 = np.array(S4meanrefA1_6)\n",
        "S4meanA4_1 = np.array(S4meanA4_1)\n",
        "\n",
        "S4rgbrefA1_6 = list()\n",
        "S4rgbA4_1 = list()\n",
        "for i in range(3):\n",
        "    S4rgbrefA1_6.append(S4meanrefA1_6[:,i].mean())\n",
        "    S4rgbA4_1.append(S4meanA4_1[:,i].mean())"
      ],
      "execution_count": null,
      "outputs": []
    },
    {
      "cell_type": "code",
      "metadata": {
        "id": "Ljpq0nVwTFI2"
      },
      "source": [
        "S4meanrefA1_7 = list()\n",
        "S4meanB1_1 = list()\n",
        "for i in range(S4RGB_imgA1B1_1.shape[0]): \n",
        "     for j in range(S4RGB_imgA1B1_1.shape[1]): \n",
        "                if 1769<i<1881 and 2019<j<2131 :\n",
        "                  S4meanrefA1_7.append(S4RGB_imgA1B1_1[i][j])\n",
        "                if 1770<i<1880 and 2015<j<2145 :\n",
        "                  S4meanB1_1.append(S4RGB_imgA1B1_1[i][j])  \n",
        "S4meanrefA1_7 = np.array(S4meanrefA1_7)\n",
        "S4meanB1_1 = np.array(S4meanB1_1)\n",
        "\n",
        "S4rgbrefA1_7 = list()\n",
        "S4rgbB1_1 = list()\n",
        "for i in range(3):\n",
        "    S4rgbrefA1_7.append(S4meanrefA1_7[:,i].mean())\n",
        "    S4rgbB1_1.append(S4meanB1_1[:,i].mean())"
      ],
      "execution_count": null,
      "outputs": []
    },
    {
      "cell_type": "code",
      "metadata": {
        "id": "Zl5OV1WkTFI2"
      },
      "source": [
        "S4meanrefA1_8 = list()\n",
        "S4meanB2_1 = list()\n",
        "for i in range(S4RGB_imgA1B2_1.shape[0]): \n",
        "     for j in range(S4RGB_imgA1B2_1.shape[1]): \n",
        "                if 1769<i<1881 and 2019<j<2131 :\n",
        "                  S4meanrefA1_8.append(S4RGB_imgA1B2_1[i][j])\n",
        "                if 1770<i<1880 and 2015<j<2145 :\n",
        "                  S4meanB2_1.append(S4RGB_imgA1B2_1[i][j])  \n",
        "S4meanrefA1_8 = np.array(S4meanrefA1_8)\n",
        "S4meanB2_1 = np.array(S4meanB2_1)\n",
        "\n",
        "S4rgbrefA1_8 = list()\n",
        "S4rgbB2_1 = list()\n",
        "for i in range(3):\n",
        "    S4rgbrefA1_8.append(S4meanrefA1_8[:,i].mean())\n",
        "    S4rgbB2_1.append(S4meanB2_1[:,i].mean())"
      ],
      "execution_count": null,
      "outputs": []
    },
    {
      "cell_type": "code",
      "metadata": {
        "id": "5U29cW4STFI2"
      },
      "source": [
        "S4meanrefA1_9 = list()\n",
        "S4meanB3_1 = list()\n",
        "for i in range(S4RGB_imgA1B3_1.shape[0]): \n",
        "     for j in range(S4RGB_imgA1B3_1.shape[1]): \n",
        "                if 1769<i<1881 and 2019<j<2131 :\n",
        "                  S4meanrefA1_9.append(S4RGB_imgA1B3_1[i][j])\n",
        "                if 1770<i<1880 and 2015<j<2145 :\n",
        "                  S4meanB3_1.append(S4RGB_imgA1B3_1[i][j])  \n",
        "S4meanrefA1_9 = np.array(S4meanrefA1_9)\n",
        "S4meanB3_1 = np.array(S4meanB3_1)\n",
        "\n",
        "S4rgbrefA1_9 = list()\n",
        "S4rgbB3_1 = list()\n",
        "for i in range(3):\n",
        "    S4rgbrefA1_9.append(S4meanrefA1_9[:,i].mean())\n",
        "    S4rgbB3_1.append(S4meanB3_1[:,i].mean())"
      ],
      "execution_count": null,
      "outputs": []
    },
    {
      "cell_type": "code",
      "metadata": {
        "id": "R2NA3evqTFI2"
      },
      "source": [
        "S4meanrefA1_10 = list()\n",
        "S4meanB4_1 = list()\n",
        "for i in range(S4RGB_imgA1B4_1.shape[0]): \n",
        "     for j in range(S4RGB_imgA1B4_1.shape[1]): \n",
        "                if 1769<i<1881 and 2019<j<2131 :\n",
        "                  S4meanrefA1_10.append(S4RGB_imgA1B4_1[i][j])\n",
        "                if 1770<i<1880 and 2015<j<2145 :\n",
        "                  S4meanB4_1.append(S4RGB_imgA1B4_1[i][j])  \n",
        "S4meanrefA1_10 = np.array(S4meanrefA1_10)\n",
        "S4meanB4_1 = np.array(S4meanB4_1)\n",
        "\n",
        "S4rgbrefA1_10 = list()\n",
        "S4rgbB4_1 = list()\n",
        "for i in range(3):\n",
        "    S4rgbrefA1_10.append(S4meanrefA1_10[:,i].mean())\n",
        "    S4rgbB4_1.append(S4meanB4_1[:,i].mean())"
      ],
      "execution_count": null,
      "outputs": []
    },
    {
      "cell_type": "code",
      "metadata": {
        "id": "no0v_IJvTFI2"
      },
      "source": [
        "S4meanrefA1_11 = list()\n",
        "S4meanC1_1 = list()\n",
        "for i in range(S4RGB_imgA1C1_1.shape[0]): \n",
        "     for j in range(S4RGB_imgA1C1_1.shape[1]): \n",
        "                if 1769<i<1881 and 2019<j<2131 :\n",
        "                  S4meanrefA1_11.append(S4RGB_imgA1C1_1[i][j])\n",
        "                if 1770<i<1880 and 2015<j<2145 :\n",
        "                  S4meanC1_1.append(S4RGB_imgA1C1_1[i][j])  \n",
        "S4meanrefA1_11 = np.array(S4meanrefA1_11)\n",
        "S4meanC1_1 = np.array(S4meanC1_1)\n",
        "\n",
        "S4rgbrefA1_11 = list()\n",
        "S4rgbC1_1 = list()\n",
        "for i in range(3):\n",
        "    S4rgbrefA1_11.append(S4meanrefA1_11[:,i].mean())\n",
        "    S4rgbC1_1.append(S4meanC1_1[:,i].mean())"
      ],
      "execution_count": null,
      "outputs": []
    },
    {
      "cell_type": "code",
      "metadata": {
        "id": "tk2Tjx-xTFI2"
      },
      "source": [
        "S4meanrefA1_12 = list()\n",
        "S4meanC2_1 = list()\n",
        "for i in range(S4RGB_imgA1C2_1.shape[0]): \n",
        "     for j in range(S4RGB_imgA1C2_1.shape[1]): \n",
        "                if 1769<i<1881 and 2019<j<2131 :\n",
        "                  S4meanrefA1_12.append(S4RGB_imgA1C2_1[i][j])\n",
        "                if 1770<i<1880 and 2015<j<2145 :\n",
        "                  S4meanC2_1.append(S4RGB_imgA1C2_1[i][j])  \n",
        "S4meanrefA1_12 = np.array(S4meanrefA1_12)\n",
        "S4meanC2_1 = np.array(S4meanC2_1)\n",
        "\n",
        "S4rgbrefA1_12 = list()\n",
        "S4rgbC2_1 = list()\n",
        "for i in range(3):\n",
        "    S4rgbrefA1_12.append(S4meanrefA1_12[:,i].mean())\n",
        "    S4rgbC2_1.append(S4meanC2_1[:,i].mean())"
      ],
      "execution_count": null,
      "outputs": []
    },
    {
      "cell_type": "code",
      "metadata": {
        "id": "C4OzI5irTFI3"
      },
      "source": [
        "S4meanrefA1_13 = list()\n",
        "S4meanC3_1 = list()\n",
        "for i in range(S4RGB_imgA1C3_1.shape[0]): \n",
        "     for j in range(S4RGB_imgA1C3_1.shape[1]): \n",
        "                if 1769<i<1881 and 2019<j<2131 :\n",
        "                  S4meanrefA1_13.append(S4RGB_imgA1C3_1[i][j])\n",
        "                if 1770<i<1880 and 2015<j<2145 :\n",
        "                  S4meanC3_1.append(S4RGB_imgA1C3_1[i][j])  \n",
        "S4meanrefA1_13 = np.array(S4meanrefA1_13)\n",
        "S4meanC3_1 = np.array(S4meanC3_1)\n",
        "\n",
        "S4rgbrefA1_13 = list()\n",
        "S4rgbC3_1 = list()\n",
        "for i in range(3):\n",
        "    S4rgbrefA1_13.append(S4meanrefA1_13[:,i].mean())\n",
        "    S4rgbC3_1.append(S4meanC3_1[:,i].mean())"
      ],
      "execution_count": null,
      "outputs": []
    },
    {
      "cell_type": "code",
      "metadata": {
        "id": "rmEhD3fATFI3"
      },
      "source": [
        "S4meanrefA1_14 = list()\n",
        "S4meanC4_1 = list()\n",
        "for i in range(S4RGB_imgA1C4_1.shape[0]): \n",
        "     for j in range(S4RGB_imgA1C4_1.shape[1]): \n",
        "                if 1769<i<1881 and 2019<j<2131 :\n",
        "                  S4meanrefA1_14.append(S4RGB_imgA1C4_1[i][j])\n",
        "                if 1770<i<1880 and 2015<j<2145 :\n",
        "                  S4meanC4_1.append(S4RGB_imgA1C4_1[i][j])  \n",
        "S4meanrefA1_14 = np.array(S4meanrefA1_14)\n",
        "S4meanC4_1 = np.array(S4meanC4_1)\n",
        "\n",
        "S4rgbrefA1_14 = list()\n",
        "S4rgbC4_1 = list()\n",
        "for i in range(3):\n",
        "    S4rgbrefA1_14.append(S4meanrefA1_14[:,i].mean())\n",
        "    S4rgbC4_1.append(S4meanC4_1[:,i].mean())"
      ],
      "execution_count": null,
      "outputs": []
    },
    {
      "cell_type": "code",
      "metadata": {
        "id": "ZAIAbO_iTFI3"
      },
      "source": [
        "S4meanrefA1_15 = list()\n",
        "S4meanD2_1 = list()\n",
        "for i in range(S4RGB_imgA1D2_1.shape[0]): \n",
        "     for j in range(S4RGB_imgA1D2_1.shape[1]): \n",
        "                if 1769<i<1881 and 2019<j<2131 :\n",
        "                  S4meanrefA1_15.append(S4RGB_imgA1D2_1[i][j])\n",
        "                if 1770<i<1880 and 2015<j<2145 :\n",
        "                  S4meanD2_1.append(S4RGB_imgA1D2_1[i][j])  \n",
        "S4meanrefA1_15 = np.array(S4meanrefA1_15)\n",
        "S4meanD2_1 = np.array(S4meanD2_1)\n",
        "\n",
        "S4rgbrefA1_15 = list()\n",
        "S4rgbD2_1 = list()\n",
        "for i in range(3):\n",
        "    S4rgbrefA1_15.append(S4meanrefA1_15[:,i].mean())\n",
        "    S4rgbD2_1.append(S4meanD2_1[:,i].mean())"
      ],
      "execution_count": null,
      "outputs": []
    },
    {
      "cell_type": "code",
      "metadata": {
        "id": "hTJKOPrTTFI3"
      },
      "source": [
        "S4meanrefA1_16 = list()\n",
        "S4meanD3_1 = list()\n",
        "for i in range(S4RGB_imgA1D3_1.shape[0]): \n",
        "     for j in range(S4RGB_imgA1D3_1.shape[1]): \n",
        "                if 1769<i<1881 and 2019<j<2131 :\n",
        "                  S4meanrefA1_16.append(S4RGB_imgA1D3_1[i][j])\n",
        "                if 1770<i<1880 and 2015<j<2145 :\n",
        "                  S4meanD3_1.append(S4RGB_imgA1D3_1[i][j])  \n",
        "S4meanrefA1_16 = np.array(S4meanrefA1_16)\n",
        "S4meanD3_1 = np.array(S4meanD3_1)\n",
        "\n",
        "S4rgbrefA1_16 = list()\n",
        "S4rgbD3_1 = list()\n",
        "for i in range(3):\n",
        "    S4rgbrefA1_16.append(S4meanrefA1_16[:,i].mean())\n",
        "    S4rgbD3_1.append(S4meanD3_1[:,i].mean())"
      ],
      "execution_count": null,
      "outputs": []
    },
    {
      "cell_type": "code",
      "metadata": {
        "id": "Pn4S73yNTFI3"
      },
      "source": [
        "S4meanrefA1_17= list()\n",
        "S4meanD4_1 = list()\n",
        "for i in range(S4RGB_imgA1D4_1.shape[0]): \n",
        "     for j in range(S4RGB_imgA1D4_1.shape[1]): \n",
        "                if 1769<i<1881 and 2019<j<2131 :\n",
        "                  S4meanrefA1_17.append(S4RGB_imgA1D4_1[i][j])\n",
        "                if 1770<i<1880 and 2015<j<2145 :\n",
        "                  S4meanD4_1.append(S4RGB_imgA1D4_1[i][j])  \n",
        "S4meanrefA1_17 = np.array(S4meanrefA1_14)\n",
        "S4meanD4_1 = np.array(S4meanD4_1)\n",
        "\n",
        "S4rgbrefA1_17 = list()\n",
        "S4rgbD4_1 = list()\n",
        "for i in range(3):\n",
        "    S4rgbrefA1_17.append(S4meanrefA1_17[:,i].mean())\n",
        "    S4rgbD4_1.append(S4meanD4_1[:,i].mean())"
      ],
      "execution_count": null,
      "outputs": []
    },
    {
      "cell_type": "markdown",
      "metadata": {
        "id": "1vsenvzGJ-z0"
      },
      "source": [
        "###HSV"
      ]
    },
    {
      "cell_type": "code",
      "metadata": {
        "id": "g8COlyPkKXLl"
      },
      "source": [
        "S4meanrefA1_1 = list()\n",
        "S4meanA1_2 = list()\n",
        "for i in range(S4HSV_imgA1A1_1.shape[0]): #ให้ i รันตาม row หรือ shape[0] คือแถว มีทั้งหมด 4032 แถว ของภาพที่ปรับขนาดมาแล้ว\n",
        "     for j in range(S4HSV_imgA1A1_1.shape[1]): #ให้ j รันตาม colum มีทั้งหมด 3024 colum เช่น แถวที่ 1 เข้ามาให้รันครบ 3024colum\n",
        "                if 1769<i<1881 and 2019<j<2131 :\n",
        "                  S4meanrefA1_1.append(S4HSV_imgA1A1_1[i][j])\n",
        "                if 1770<i<1880 and 2015<j<2145 :\n",
        "                  S4meanA1_2.append(S4HSV_imgA1A1_1[i][j])  \n",
        "S4meanrefA1_1 = np.array(S4meanrefA1_1)\n",
        "S4meanA1_2 = np.array(S4meanA1_2)\n",
        "\n",
        "S4hsvrefA1_1 = list() \n",
        "S4hsvA1_2 = list()\n",
        "for i in range(3):\n",
        "    S4hsvrefA1_1.append(S4meanrefA1_1[:,i].mean())\n",
        "    S4hsvA1_2.append(S4meanA1_2[:,i].mean()) "
      ],
      "execution_count": null,
      "outputs": []
    },
    {
      "cell_type": "code",
      "metadata": {
        "id": "uSvjjmrFKXLm"
      },
      "source": [
        "S4meanrefA1_3 = list()\n",
        "S4meanA2_1 = list()\n",
        "for i in range(S4HSV_imgA1A2_1.shape[0]): \n",
        "     for j in range(S4HSV_imgA1A2_1.shape[1]): \n",
        "                if 1769<i<1881 and 2019<j<2131 :\n",
        "                  S4meanrefA1_3.append(S4HSV_imgA1A2_1[i][j])\n",
        "                if 1770<i<1880 and 2015<j<2145 :\n",
        "                  S4meanA2_1.append(S4HSV_imgA1A2_1[i][j])  \n",
        "S4meanrefA1_3 = np.array(S4meanrefA1_3)\n",
        "S4meanA2_1 = np.array(S4meanA2_1)\n",
        "\n",
        "S4hsvrefA1_3 = list()\n",
        "S4hsvA2_1 = list()\n",
        "for i in range(3):\n",
        "    S4hsvrefA1_3.append(S4meanrefA1_3[:,i].mean())\n",
        "    S4hsvA2_1.append(S4meanA2_1[:,i].mean())"
      ],
      "execution_count": null,
      "outputs": []
    },
    {
      "cell_type": "code",
      "metadata": {
        "id": "Q6ufKaLhKXLn"
      },
      "source": [
        "S4meanrefA1_4 = list()\n",
        "S4meanA3_1 = list()\n",
        "for i in range(S4HSV_imgA1A3_1.shape[0]): \n",
        "     for j in range(S4HSV_imgA1A3_1.shape[1]): \n",
        "                if 1769<i<1881 and 2019<j<2131 :\n",
        "                  S4meanrefA1_4.append(S4HSV_imgA1A3_1[i][j])\n",
        "                if 1770<i<1880 and 2015<j<2145 :\n",
        "                  S4meanA3_1.append(S4HSV_imgA1A3_1[i][j])  \n",
        "S4meanrefA1_4 = np.array(S4meanrefA1_4)\n",
        "S4meanA3_1 = np.array(S4meanA3_1)\n",
        "\n",
        "S4hsvrefA1_4 = list()\n",
        "S4hsvA3_1 = list()\n",
        "for i in range(3):\n",
        "    S4hsvrefA1_4.append(S4meanrefA1_4[:,i].mean())\n",
        "    S4hsvA3_1.append(S4meanA3_1[:,i].mean())"
      ],
      "execution_count": null,
      "outputs": []
    },
    {
      "cell_type": "code",
      "metadata": {
        "id": "4RM9YjoaKXLn"
      },
      "source": [
        "S4meanrefA1_5 = list()\n",
        "S4meanA3_51 = list()\n",
        "for i in range(S4HSV_imgA1A3_51.shape[0]): \n",
        "     for j in range(S4HSV_imgA1A3_51.shape[1]): \n",
        "                if 1769<i<1881 and 2019<j<2131 :\n",
        "                  S4meanrefA1_5.append(S4HSV_imgA1A3_51[i][j])\n",
        "                if 1770<i<1880 and 2015<j<2145 :\n",
        "                  S4meanA3_51.append(S4HSV_imgA1A3_51[i][j])  \n",
        "S4meanrefA1_5 = np.array(S4meanrefA1_5)\n",
        "S4meanA3_51 = np.array(S4meanA3_51)\n",
        "\n",
        "S4hsvrefA1_5 = list()\n",
        "S4hsvA3_51 = list()\n",
        "for i in range(3):\n",
        "    S4hsvrefA1_5.append(S4meanrefA1_5[:,i].mean())\n",
        "    S4hsvA3_51.append(S4meanA3_51[:,i].mean())"
      ],
      "execution_count": null,
      "outputs": []
    },
    {
      "cell_type": "code",
      "metadata": {
        "id": "xWaEzg_xKXLo"
      },
      "source": [
        "S4meanrefA1_6 = list()\n",
        "S4meanA4_1 = list()\n",
        "for i in range(S4HSV_imgA1A4_1.shape[0]): \n",
        "     for j in range(S4HSV_imgA1A4_1.shape[1]): \n",
        "                if 1769<i<1881 and 2019<j<2131 :\n",
        "                  S4meanrefA1_6.append(S4HSV_imgA1A4_1[i][j])\n",
        "                if 1770<i<1880 and 2015<j<2145 :\n",
        "                  S4meanA4_1.append(S4HSV_imgA1A4_1[i][j])  \n",
        "S4meanrefA1_6 = np.array(S4meanrefA1_6)\n",
        "S4meanA4_1 = np.array(S4meanA4_1)\n",
        "\n",
        "S4hsvrefA1_6 = list()\n",
        "S4hsvA4_1 = list()\n",
        "for i in range(3):\n",
        "    S4hsvrefA1_6.append(S4meanrefA1_6[:,i].mean())\n",
        "    S4hsvA4_1.append(S4meanA4_1[:,i].mean())"
      ],
      "execution_count": null,
      "outputs": []
    },
    {
      "cell_type": "code",
      "metadata": {
        "id": "YZCZMwjrKXLo"
      },
      "source": [
        "S4meanrefA1_7 = list()\n",
        "S4meanB1_1 = list()\n",
        "for i in range(S4HSV_imgA1B1_1.shape[0]): \n",
        "     for j in range(S4HSV_imgA1B1_1.shape[1]): \n",
        "                if 1769<i<1881 and 2019<j<2131 :\n",
        "                  S4meanrefA1_7.append(S4HSV_imgA1B1_1[i][j])\n",
        "                if 1770<i<1880 and 2015<j<2145 :\n",
        "                  S4meanB1_1.append(S4HSV_imgA1B1_1[i][j])  \n",
        "S4meanrefA1_7 = np.array(S4meanrefA1_7)\n",
        "S4meanB1_1 = np.array(S4meanB1_1)\n",
        "\n",
        "S4hsvrefA1_7 = list()\n",
        "S4hsvB1_1 = list()\n",
        "for i in range(3):\n",
        "    S4hsvrefA1_7.append(S4meanrefA1_7[:,i].mean())\n",
        "    S4hsvB1_1.append(S4meanB1_1[:,i].mean())"
      ],
      "execution_count": null,
      "outputs": []
    },
    {
      "cell_type": "code",
      "metadata": {
        "id": "Su2t7uVGKXLo"
      },
      "source": [
        "S4meanrefA1_8 = list()\n",
        "S4meanB2_1 = list()\n",
        "for i in range(S4HSV_imgA1B2_1.shape[0]): \n",
        "     for j in range(S4HSV_imgA1B2_1.shape[1]): \n",
        "                if 1769<i<1881 and 2019<j<2131 :\n",
        "                  S4meanrefA1_8.append(S4HSV_imgA1B2_1[i][j])\n",
        "                if 1770<i<1880 and 2015<j<2145 :\n",
        "                  S4meanB2_1.append(S4HSV_imgA1B2_1[i][j])  \n",
        "S4meanrefA1_8 = np.array(S4meanrefA1_8)\n",
        "S4meanB2_1 = np.array(S4meanB2_1)\n",
        "\n",
        "S4hsvrefA1_8 = list()\n",
        "S4hsvB2_1 = list()\n",
        "for i in range(3):\n",
        "    S4hsvrefA1_8.append(S4meanrefA1_8[:,i].mean())\n",
        "    S4hsvB2_1.append(S4meanB2_1[:,i].mean())"
      ],
      "execution_count": null,
      "outputs": []
    },
    {
      "cell_type": "code",
      "metadata": {
        "id": "fcalJzlNKXLp"
      },
      "source": [
        "S4meanrefA1_9 = list()\n",
        "S4meanB3_1 = list()\n",
        "for i in range(S4HSV_imgA1B3_1.shape[0]): \n",
        "     for j in range(S4HSV_imgA1B3_1.shape[1]): \n",
        "                if 1769<i<1881 and 2019<j<2131 :\n",
        "                  S4meanrefA1_9.append(S4HSV_imgA1B3_1[i][j])\n",
        "                if 1770<i<1880 and 2015<j<2145 :\n",
        "                  S4meanB3_1.append(S4HSV_imgA1B3_1[i][j])  \n",
        "S4meanrefA1_9 = np.array(S4meanrefA1_9)\n",
        "S4meanB3_1 = np.array(S4meanB3_1)\n",
        "\n",
        "S4hsvrefA1_9 = list()\n",
        "S4hsvB3_1 = list()\n",
        "for i in range(3):\n",
        "    S4hsvrefA1_9.append(S4meanrefA1_9[:,i].mean())\n",
        "    S4hsvB3_1.append(S4meanB3_1[:,i].mean())"
      ],
      "execution_count": null,
      "outputs": []
    },
    {
      "cell_type": "code",
      "metadata": {
        "id": "K8hzHcdFKXLp"
      },
      "source": [
        "S4meanrefA1_10 = list()\n",
        "S4meanB4_1 = list()\n",
        "for i in range(S4HSV_imgA1B4_1.shape[0]): \n",
        "     for j in range(S4HSV_imgA1B4_1.shape[1]): \n",
        "                if 1769<i<1881 and 2019<j<2131 :\n",
        "                  S4meanrefA1_10.append(S4HSV_imgA1B4_1[i][j])\n",
        "                if 1770<i<1880 and 2015<j<2145 :\n",
        "                  S4meanB4_1.append(S4HSV_imgA1B4_1[i][j])  \n",
        "S4meanrefA1_10 = np.array(S4meanrefA1_10)\n",
        "S4meanB4_1 = np.array(S4meanB4_1)\n",
        "\n",
        "S4hsvrefA1_10 = list()\n",
        "S4hsvB4_1 = list()\n",
        "for i in range(3):\n",
        "    S4hsvrefA1_10.append(S4meanrefA1_10[:,i].mean())\n",
        "    S4hsvB4_1.append(S4meanB4_1[:,i].mean())"
      ],
      "execution_count": null,
      "outputs": []
    },
    {
      "cell_type": "code",
      "metadata": {
        "id": "Gfmhs_qPKXLq"
      },
      "source": [
        "S4meanrefA1_11 = list()\n",
        "S4meanC1_1 = list()\n",
        "for i in range(S4HSV_imgA1C1_1.shape[0]): \n",
        "     for j in range(S4HSV_imgA1C1_1.shape[1]): \n",
        "                if 1769<i<1881 and 2019<j<2131 :\n",
        "                  S4meanrefA1_11.append(S4HSV_imgA1C1_1[i][j])\n",
        "                if 1770<i<1880 and 2015<j<2145 :\n",
        "                  S4meanC1_1.append(S4HSV_imgA1C1_1[i][j])  \n",
        "S4meanrefA1_11 = np.array(S4meanrefA1_11)\n",
        "S4meanC1_1 = np.array(S4meanC1_1)\n",
        "\n",
        "S4hsvrefA1_11 = list()\n",
        "S4hsvC1_1 = list()\n",
        "for i in range(3):\n",
        "    S4hsvrefA1_11.append(S4meanrefA1_11[:,i].mean())\n",
        "    S4hsvC1_1.append(S4meanC1_1[:,i].mean())"
      ],
      "execution_count": null,
      "outputs": []
    },
    {
      "cell_type": "code",
      "metadata": {
        "id": "yedXZDEVKXLq"
      },
      "source": [
        "S4meanrefA1_12 = list()\n",
        "S4meanC2_1 = list()\n",
        "for i in range(S4HSV_imgA1C2_1.shape[0]): \n",
        "     for j in range(S4HSV_imgA1C2_1.shape[1]): \n",
        "                if 1769<i<1881 and 2019<j<2131 :\n",
        "                  S4meanrefA1_12.append(S4HSV_imgA1C2_1[i][j])\n",
        "                if 1770<i<1880 and 2015<j<2145 :\n",
        "                  S4meanC2_1.append(S4HSV_imgA1C2_1[i][j])  \n",
        "S4meanrefA1_12 = np.array(S4meanrefA1_12)\n",
        "S4meanC2_1 = np.array(S4meanC2_1)\n",
        "\n",
        "S4hsvrefA1_12 = list()\n",
        "S4hsvC2_1 = list()\n",
        "for i in range(3):\n",
        "    S4hsvrefA1_12.append(S4meanrefA1_12[:,i].mean())\n",
        "    S4hsvC2_1.append(S4meanC2_1[:,i].mean())"
      ],
      "execution_count": null,
      "outputs": []
    },
    {
      "cell_type": "code",
      "metadata": {
        "id": "whcXO5iMKXLq"
      },
      "source": [
        "S4meanrefA1_13 = list()\n",
        "S4meanC3_1 = list()\n",
        "for i in range(S4HSV_imgA1C3_1.shape[0]): \n",
        "     for j in range(S4HSV_imgA1C3_1.shape[1]): \n",
        "                if 1769<i<1881 and 2019<j<2131 :\n",
        "                  S4meanrefA1_13.append(S4HSV_imgA1C3_1[i][j])\n",
        "                if 1770<i<1880 and 2015<j<2145 :\n",
        "                  S4meanC3_1.append(S4HSV_imgA1C3_1[i][j])  \n",
        "S4meanrefA1_13 = np.array(S4meanrefA1_13)\n",
        "S4meanC3_1 = np.array(S4meanC3_1)\n",
        "\n",
        "S4hsvrefA1_13 = list()\n",
        "S4hsvC3_1 = list()\n",
        "for i in range(3):\n",
        "    S4hsvrefA1_13.append(S4meanrefA1_13[:,i].mean())\n",
        "    S4hsvC3_1.append(S4meanC3_1[:,i].mean())"
      ],
      "execution_count": null,
      "outputs": []
    },
    {
      "cell_type": "code",
      "metadata": {
        "id": "nIpOgNL4KXLr"
      },
      "source": [
        "S4meanrefA1_14 = list()\n",
        "S4meanC4_1 = list()\n",
        "for i in range(S4HSV_imgA1C4_1.shape[0]): \n",
        "     for j in range(S4HSV_imgA1C4_1.shape[1]): \n",
        "                if 1769<i<1881 and 2019<j<2131 :\n",
        "                  S4meanrefA1_14.append(S4HSV_imgA1C4_1[i][j])\n",
        "                if 1770<i<1880 and 2015<j<2145 :\n",
        "                  S4meanC4_1.append(S4HSV_imgA1C4_1[i][j])  \n",
        "S4meanrefA1_14 = np.array(S4meanrefA1_14)\n",
        "S4meanC4_1 = np.array(S4meanC4_1)\n",
        "\n",
        "S4hsvrefA1_14 = list()\n",
        "S4hsvC4_1 = list()\n",
        "for i in range(3):\n",
        "    S4hsvrefA1_14.append(S4meanrefA1_14[:,i].mean())\n",
        "    S4hsvC4_1.append(S4meanC4_1[:,i].mean())"
      ],
      "execution_count": null,
      "outputs": []
    },
    {
      "cell_type": "code",
      "metadata": {
        "id": "tW9vVw0RKXLr"
      },
      "source": [
        "S4meanrefA1_15 = list()\n",
        "S4meanD2_1 = list()\n",
        "for i in range(S4HSV_imgA1D2_1.shape[0]): \n",
        "     for j in range(S4HSV_imgA1D2_1.shape[1]): \n",
        "                if 1769<i<1881 and 2019<j<2131 :\n",
        "                  S4meanrefA1_15.append(S4HSV_imgA1D2_1[i][j])\n",
        "                if 1770<i<1880 and 2015<j<2145 :\n",
        "                  S4meanD2_1.append(S4HSV_imgA1D2_1[i][j])  \n",
        "S4meanrefA1_15 = np.array(S4meanrefA1_15)\n",
        "S4meanD2_1 = np.array(S4meanD2_1)\n",
        "\n",
        "S4hsvrefA1_15 = list()\n",
        "S4hsvD2_1 = list()\n",
        "for i in range(3):\n",
        "    S4hsvrefA1_15.append(S4meanrefA1_15[:,i].mean())\n",
        "    S4hsvD2_1.append(S4meanD2_1[:,i].mean())"
      ],
      "execution_count": null,
      "outputs": []
    },
    {
      "cell_type": "code",
      "metadata": {
        "id": "rGKVWA6JKXLr"
      },
      "source": [
        "S4meanrefA1_16 = list()\n",
        "S4meanD3_1 = list()\n",
        "for i in range(S4HSV_imgA1D3_1.shape[0]): \n",
        "     for j in range(S4HSV_imgA1D3_1.shape[1]): \n",
        "                if 1769<i<1881 and 2019<j<2131 :\n",
        "                  S4meanrefA1_16.append(S4HSV_imgA1D3_1[i][j])\n",
        "                if 1770<i<1880 and 2015<j<2145 :\n",
        "                  S4meanD3_1.append(S4HSV_imgA1D3_1[i][j])  \n",
        "S4meanrefA1_16 = np.array(S4meanrefA1_16)\n",
        "S4meanD3_1 = np.array(S4meanD3_1)\n",
        "\n",
        "S4hsvrefA1_16 = list()\n",
        "S4hsvD3_1 = list()\n",
        "for i in range(3):\n",
        "    S4hsvrefA1_16.append(S4meanrefA1_16[:,i].mean())\n",
        "    S4hsvD3_1.append(S4meanD3_1[:,i].mean())"
      ],
      "execution_count": null,
      "outputs": []
    },
    {
      "cell_type": "code",
      "metadata": {
        "id": "-kqMpVjuKXLs"
      },
      "source": [
        "S4meanrefA1_17= list()\n",
        "S4meanD4_1 = list()\n",
        "for i in range(S4HSV_imgA1D4_1.shape[0]): \n",
        "     for j in range(S4HSV_imgA1D4_1.shape[1]): \n",
        "                if 1769<i<1881 and 2019<j<2131 :\n",
        "                  S4meanrefA1_17.append(S4HSV_imgA1D4_1[i][j])\n",
        "                if 1770<i<1880 and 2015<j<2145 :\n",
        "                  S4meanD4_1.append(S4HSV_imgA1D4_1[i][j])  \n",
        "S4meanrefA1_17 = np.array(S4meanrefA1_14)\n",
        "S4meanD4_1 = np.array(S4meanD4_1)\n",
        "\n",
        "S4hsvrefA1_17 = list()\n",
        "S4hsvD4_1 = list()\n",
        "for i in range(3):\n",
        "    S4hsvrefA1_17.append(S4meanrefA1_17[:,i].mean())\n",
        "    S4hsvD4_1.append(S4meanD4_1[:,i].mean())"
      ],
      "execution_count": null,
      "outputs": []
    },
    {
      "cell_type": "markdown",
      "metadata": {
        "id": "4ihnBocWKAjD"
      },
      "source": [
        "#7.สร้างตาราง"
      ]
    },
    {
      "cell_type": "code",
      "metadata": {
        "id": "EjvYvGQwEIVW"
      },
      "source": [
        "from tabulate import tabulate"
      ],
      "execution_count": null,
      "outputs": []
    },
    {
      "cell_type": "code",
      "metadata": {
        "id": "g1Ir2tayht50"
      },
      "source": [
        "table   = [['R-ref', 'G-ref', 'B-ref', 'R-Shad', 'G-Shad', 'B-Shad', 'H-ref', 'S-ref', 'V-ref', 'H-Shad', 'S-Shad', 'V-Shad', 'Shade-ref', 'Shade', 'Setting']]"
      ],
      "execution_count": null,
      "outputs": []
    },
    {
      "cell_type": "code",
      "metadata": {
        "id": "-fKACh2bQh-m"
      },
      "source": [
        "df = pd.DataFrame({'R-ref': [S1rgbrefA1_1[0],S1rgbrefA1_3[0],S1rgbrefA1_4[0], S1rgbrefA1_5[0], S1rgbrefA1_6[0],S1rgbrefA1_7[0], S1rgbrefA1_8[0],S1rgbrefA1_9[0], S1rgbrefA1_10[0], S1rgbrefA1_11[0], S1rgbrefA1_12[0], S1rgbrefA1_13[0], S1rgbrefA1_14[0], S1rgbrefA1_15[0], S1rgbrefA1_16[0], S1rgbrefA1_17[0]],\n",
        "  'G-ref': [S1rgbrefA1_1[1], S1rgbrefA1_3[1], S1rgbrefA1_4[1], S1rgbrefA1_5[1], S1rgbrefA1_6[1], S1rgbrefA1_7[1], S1rgbrefA1_8[1], S1rgbrefA1_9[1], S1rgbrefA1_10[1], S1rgbrefA1_11[1], S1rgbrefA1_12[1], S1rgbrefA1_13[1], S1rgbrefA1_14[1], S1rgbrefA1_15[1], S1rgbrefA1_16[1], S1rgbrefA1_17[1]],\n",
        "  'B-ref': [S1rgbrefA1_1[2],S1rgbrefA1_3[2],S1rgbrefA1_4[2],S1rgbrefA1_5[2], S1rgbrefA1_6[2],S1rgbrefA1_7[2], S1rgbrefA1_8[2],S1rgbrefA1_9[2], S1rgbrefA1_10[2],S1rgbrefA1_11[2], S1rgbrefA1_12[2],S1rgbrefA1_13[2], S1rgbrefA1_14[2],S1rgbrefA1_15[2], S1rgbrefA1_16[2],S1rgbrefA1_17[2]],\n",
        "  'R-Shad': [S1rgbA1_2[0],S1rgbA2_1[0],S1rgbA3_1[0],S1rgbA3_51[0],S1rgbA4_1[0],S1rgbB1_1[0],S1rgbB2_1[0],S1rgbB3_1[0],S1rgbB4_1[0],S1rgbC1_1[0],S1rgbC2_1[0],S1rgbC3_1[0],S1rgbC4_1[0],S1rgbD2_1[0],S1rgbD3_1[0],S1rgbD4_1[0]],\n",
        "  'G-Shad': [S1rgbA1_2[1],S1rgbA2_1[1],S1rgbA3_1[1], S1rgbA3_51[1],S1rgbA4_1[1],S1rgbB1_1[1],S1rgbB2_1[1],S1rgbB3_1[1],S1rgbB4_1[1],S1rgbC1_1[1],S1rgbC2_1[1],S1rgbC3_1[1],S1rgbC4_1[1],S1rgbD2_1[1],S1rgbD3_1[1], S1rgbD4_1[1]],\n",
        "  'B-Shad': [S1rgbA1_2[2],S1rgbA2_1[2],S1rgbA3_1[2],S1rgbA3_51[2],S1rgbA4_1[2],S1rgbB1_1[2],S1rgbB2_1[2],S1rgbB3_1[2],S1rgbB4_1[2],S1rgbC1_1[2],S1rgbC2_1[2],S1rgbC3_1[2],S1rgbC4_1[2],S1rgbD2_1[2],S1rgbD3_1[2], S1rgbD4_1[2]],\n",
        "  'H-ref': [S1hsvrefA1_1[0],S1hsvrefA1_3[0],S1hsvrefA1_4[0],S1hsvrefA1_5[0], S1hsvrefA1_6[0],S1hsvrefA1_7[0], S1hsvrefA1_8[0],S1hsvrefA1_9[0], S1hsvrefA1_10[0],S1hsvrefA1_11[0], S1hsvrefA1_12[0],S1hsvrefA1_13[0], S1hsvrefA1_14[0],S1hsvrefA1_15[0], S1hsvrefA1_16[0],S1hsvrefA1_17[0]],\n",
        "  'S-ref': [S1hsvrefA1_1[1],S1hsvrefA1_3[1],S1hsvrefA1_4[1],S1hsvrefA1_5[1], S1hsvrefA1_6[1],S1hsvrefA1_7[1], S1hsvrefA1_8[1],S1hsvrefA1_9[1], S1hsvrefA1_10[1],S1hsvrefA1_11[1], S1hsvrefA1_12[0],S1hsvrefA1_13[1], S1hsvrefA1_14[1],S1hsvrefA1_15[1], S1hsvrefA1_16[1],S1hsvrefA1_17[1]],\n",
        "  'V-ref': [S1hsvrefA1_1[2],S1hsvrefA1_3[2],S1hsvrefA1_4[2],S1hsvrefA1_5[2], S1hsvrefA1_6[2],S1hsvrefA1_7[2], S1hsvrefA1_8[2],S1hsvrefA1_9[2], S1hsvrefA1_10[2],S1hsvrefA1_11[2], S1hsvrefA1_12[0],S1hsvrefA1_13[2], S1hsvrefA1_14[2],S1hsvrefA1_15[2], S1hsvrefA1_16[2],S1hsvrefA1_17[2]],\n",
        "   'H-Shad': [S1hsvA1_2[0],S1hsvA2_1[0],S1hsvA3_1[0],S1hsvA3_51[0],S1hsvA4_1[0],S1hsvB1_1[0],S1hsvB2_1[0],S1hsvB3_1[0],S1hsvB4_1[0],S1hsvC1_1[0],S1hsvC2_1[0],S1hsvC3_1[0],S1hsvC4_1[0],S1hsvD2_1[0],S1hsvD3_1[0],S1hsvD4_1[0]],\n",
        "   'S-Shad': [S1hsvA1_2[1],S1hsvA2_1[1],S1hsvA3_1[1],S1hsvA3_51[1],S1hsvA4_1[1],S1hsvB1_1[1],S1hsvB2_1[1],S1hsvB3_1[1],S1hsvB4_1[1],S1hsvC1_1[1],S1hsvC2_1[1],S1hsvC3_1[1],S1hsvC4_1[1],S1hsvD2_1[1],S1hsvD3_1[1],S1hsvD4_1[1]],\n",
        "   'V-Shad': [S1hsvA1_2[2],S1hsvA2_1[2],S1hsvA3_1[2],S1hsvA3_51[2],S1hsvA4_1[2],S1hsvB1_1[2],S1hsvB2_1[2],S1hsvB3_1[2],S1hsvB4_1[2],S1hsvC1_1[2],S1hsvC2_1[2],S1hsvC3_1[2],S1hsvC4_1[2],S1hsvD2_1[2],S1hsvD3_1[2],S1hsvD4_1[2]],\n",
        "   'Shade-ref': ['A1', 'A1', 'A1',  'A1', 'A1', 'A1', 'A1', 'A1', 'A1', 'A1', 'A1', 'A1', 'A1', 'A1', 'A1', 'A1'],\n",
        "   'Shade':      ['A1', 'A2', 'A3', 'A3_5', 'A4', 'B1', 'B2', 'B3', 'B4', 'C1', 'C2', 'C3', 'C4', 'D2', 'D3', 'D4'],\n",
        "   'Setting':     ['Set1', 'Set1', 'Set1', 'Set1', 'Set1', 'Set1', 'Set1', 'Set1', 'Set1', 'Set1', 'Set1', 'Set1', 'Set1', 'Set1', 'Set1', 'Set1']\n",
        "   'Img' : ['S1_doubleA1A1_1 ', 'S1_doubleA1A2_1', 'S1_doubleA1A3_1 ', 'S1_doubleA1A3_51', 'S1_doubleA1A4_1', 'S1_doubleA1B1_1', 'S1_doubleA1B2_1', 'S1_doubleA1B3_1', 'S1_doubleA1B4_1', 'S1_doubleA1C1_1','S1_doubleA1C2_1','S1_doubleA1C3_1', 'S1_doubleA1C4_1', 'S1_doubleA1D2_1', 'S1_doubleA1D3_1','S1_doubleA1D4_1']}) "
      ],
      "execution_count": null,
      "outputs": []
    },
    {
      "cell_type": "code",
      "metadata": {
        "id": "H9UHY813QsXY"
      },
      "source": [
        "df2 = pd.DataFrame({'R-ref': [S2rgbrefA1_1[0],S2rgbrefA1_3[0],S2rgbrefA1_4[0], S2rgbrefA1_5[0], S2rgbrefA1_6[0],S2rgbrefA1_7[0], S2rgbrefA1_8[0],S2rgbrefA1_9[0], S2rgbrefA1_10[0], S2rgbrefA1_11[0], S2rgbrefA1_12[0], S2rgbrefA1_13[0], S2rgbrefA1_14[0], S2rgbrefA1_15[0], S2rgbrefA1_16[0], S2rgbrefA1_17[0]],\n",
        "    'G-ref': [S2rgbrefA1_1[1], S2rgbrefA1_3[1], S2rgbrefA1_4[1], S2rgbrefA1_5[1], S2rgbrefA1_6[1], S2rgbrefA1_7[1], S2rgbrefA1_8[1], S2rgbrefA1_9[1], S2rgbrefA1_10[1], S2rgbrefA1_11[1], S2rgbrefA1_12[1], S2rgbrefA1_13[1], S2rgbrefA1_14[1], S2rgbrefA1_15[1], S2rgbrefA1_16[1], S2rgbrefA1_17[1]],\n",
        "    'B-ref': [S2rgbrefA1_1[2],S2rgbrefA1_3[2],S2rgbrefA1_4[2],S2rgbrefA1_5[2], S2rgbrefA1_6[2],S2rgbrefA1_7[2], S2rgbrefA1_8[2],S2rgbrefA1_9[2], S2rgbrefA1_10[2],S2rgbrefA1_11[2], S2rgbrefA1_12[2],S2rgbrefA1_13[2], S2rgbrefA1_14[2],S2rgbrefA1_15[2], S2rgbrefA1_16[2],S2rgbrefA1_17[2]],\n",
        "    'R-Shad': [S2rgbA1_2[0],S2rgbA2_1[0],S2rgbA3_1[0],S2rgbA3_51[0],S2rgbA4_1[0],S2rgbB1_1[0],S2rgbB2_1[0],S2rgbB3_1[0],S2rgbB4_1[0],S2rgbC1_1[0],S2rgbC2_1[0],S2rgbC3_1[0],S2rgbC4_1[0],S2rgbD2_1[0],S2rgbD3_1[0],S2rgbD4_1[0]],\n",
        "    'G-Shad': [S2rgbA1_2[1],S2rgbA2_1[1],S2rgbA3_1[1], S2rgbA3_51[1],S2rgbA4_1[1],S2rgbB1_1[1],S2rgbB2_1[1],S2rgbB3_1[1],S2rgbB4_1[1],S2rgbC1_1[1],S2rgbC2_1[1],S2rgbC3_1[1],S2rgbC4_1[1],S2rgbD2_1[1],S2rgbD3_1[1], S2rgbD4_1[1]],\n",
        "    'B-Shad': [S2rgbA1_2[2],S2rgbA2_1[2],S2rgbA3_1[2],S2rgbA3_51[2],S2rgbA4_1[2],S2rgbB1_1[2],S2rgbB2_1[2],S2rgbB3_1[2],S2rgbB4_1[2],S2rgbC1_1[2],S2rgbC2_1[2],S2rgbC3_1[2],S2rgbC4_1[2],S2rgbD2_1[2],S2rgbD3_1[2], S2rgbD4_1[2]],\n",
        "    'H-ref': [S2hsvrefA1_1[0],S2hsvrefA1_3[0],S2hsvrefA1_4[0],S2hsvrefA1_5[0], S2hsvrefA1_6[0],S2hsvrefA1_7[0], S2hsvrefA1_8[0],S2hsvrefA1_9[0], S2hsvrefA1_10[0],S2hsvrefA1_11[0], S2hsvrefA1_12[0],S2hsvrefA1_13[0], S2hsvrefA1_14[0],S2hsvrefA1_15[0], S2hsvrefA1_16[0],S2hsvrefA1_17[0]],\n",
        "    'S-ref': [S2hsvrefA1_1[1],S2hsvrefA1_3[1],S2hsvrefA1_4[1],S2hsvrefA1_5[1], S2hsvrefA1_6[1],S2hsvrefA1_7[1], S2hsvrefA1_8[1],S2hsvrefA1_9[1], S2hsvrefA1_10[1],S2hsvrefA1_11[1], S2hsvrefA1_12[0],S2hsvrefA1_13[1], S2hsvrefA1_14[1],S2hsvrefA1_15[1], S2hsvrefA1_16[1],S2hsvrefA1_17[1]],\n",
        "    'V-ref': [S2hsvrefA1_1[2],S2hsvrefA1_3[2],S2hsvrefA1_4[2],S2hsvrefA1_5[2], S2hsvrefA1_6[2],S2hsvrefA1_7[2], S2hsvrefA1_8[2],S2hsvrefA1_9[2], S2hsvrefA1_10[2],S2hsvrefA1_11[2], S2hsvrefA1_12[0],S2hsvrefA1_13[2], S2hsvrefA1_14[2],S2hsvrefA1_15[2], S2hsvrefA1_16[2],S2hsvrefA1_17[2]],\n",
        "    'H-Shad': [S2hsvA1_2[0],S2hsvA2_1[0],S2hsvA3_1[0],S2hsvA3_51[0],S2hsvA4_1[0],S2hsvB1_1[0],S2hsvB2_1[0],S2hsvB3_1[0],S2hsvB4_1[0],S2hsvC1_1[0],S2hsvC2_1[0],S2hsvC3_1[0],S2hsvC4_1[0],S2hsvD2_1[0],S2hsvD3_1[0],S2hsvD4_1[0]],\n",
        "    'S-Shad': [S2hsvA1_2[1],S2hsvA2_1[1],S2hsvA3_1[1],S2hsvA3_51[1],S2hsvA4_1[1],S2hsvB1_1[1],S2hsvB2_1[1],S2hsvB3_1[1],S2hsvB4_1[1],S2hsvC1_1[1],S2hsvC2_1[1],S2hsvC3_1[1],S2hsvC4_1[1],S2hsvD2_1[1],S2hsvD3_1[1],S2hsvD4_1[1]],\n",
        "    'V-Shad': [S2hsvA1_2[2],S2hsvA2_1[2],S2hsvA3_1[2],S2hsvA3_51[2],S2hsvA4_1[2],S2hsvB1_1[2],S2hsvB2_1[2],S2hsvB3_1[2],S2hsvB4_1[2],S2hsvC1_1[2],S2hsvC2_1[2],S2hsvC3_1[2],S2hsvC4_1[2],S2hsvD2_1[2],S2hsvD3_1[2],S2hsvD4_1[2]],\n",
        "    'Shade-ref': ['A1', 'A1', 'A1',  'A1', 'A1', 'A1', 'A1', 'A1', 'A1', 'A1', 'A1', 'A1', 'A1', 'A1', 'A1', 'A1'],\n",
        "    'Shade':      ['A1', 'A2', 'A3', 'A3_5', 'A4', 'B1', 'B2', 'B3', 'B4', 'C1', 'C2', 'C3', 'C4', 'D2', 'D3', 'D4'],\n",
        "    'Setting':     ['Set2', 'Set2', 'Set2', 'Set2', 'Set2', 'Set2', 'Set2', 'Set2', 'Set2', 'Set2', 'Set2', 'Set2', 'Set2', 'Set2', 'Set2', 'Set2']}) "
      ],
      "execution_count": null,
      "outputs": []
    },
    {
      "cell_type": "code",
      "metadata": {
        "id": "kIf8qhVwQvpH"
      },
      "source": [
        "df3 = pd.DataFrame({'R-ref': [S3rgbrefA1_1[0],S3rgbrefA1_3[0],S3rgbrefA1_4[0], S3rgbrefA1_5[0], S3rgbrefA1_6[0],S3rgbrefA1_7[0], S3rgbrefA1_8[0],S3rgbrefA1_9[0], S3rgbrefA1_10[0], S3rgbrefA1_11[0], S3rgbrefA1_12[0], S3rgbrefA1_13[0], S3rgbrefA1_14[0], S3rgbrefA1_15[0], S3rgbrefA1_16[0], S3rgbrefA1_17[0]],\n",
        "    'G-ref': [S3rgbrefA1_1[1], S3rgbrefA1_3[1], S3rgbrefA1_4[1], S3rgbrefA1_5[1], S3rgbrefA1_6[1], S3rgbrefA1_7[1], S3rgbrefA1_8[1], S3rgbrefA1_9[1], S3rgbrefA1_10[1], S3rgbrefA1_11[1], S3rgbrefA1_12[1], S3rgbrefA1_13[1], S3rgbrefA1_14[1], S3rgbrefA1_15[1], S3rgbrefA1_16[1], S3rgbrefA1_17[1]],\n",
        "    'B-ref': [S3rgbrefA1_1[2],S3rgbrefA1_3[2],S3rgbrefA1_4[2],S3rgbrefA1_5[2], S3rgbrefA1_6[2],S3rgbrefA1_7[2], S3rgbrefA1_8[2],S3rgbrefA1_9[2], S3rgbrefA1_10[2],S3rgbrefA1_11[2], S3rgbrefA1_12[2],S3rgbrefA1_13[2], S3rgbrefA1_14[2],S3rgbrefA1_15[2], S3rgbrefA1_16[2],S3rgbrefA1_17[2]],\n",
        "    'R-Shad': [S3rgbA1_2[0],S3rgbA2_1[0],S3rgbA3_1[0],S3rgbA3_51[0],S3rgbA4_1[0],S3rgbB1_1[0],S3rgbB2_1[0],S3rgbB3_1[0],S3rgbB4_1[0],S3rgbC1_1[0],S3rgbC2_1[0],S3rgbC3_1[0],S3rgbC4_1[0],S3rgbD2_1[0],S3rgbD3_1[0],S3rgbD4_1[0]],\n",
        "    'G-Shad': [S3rgbA1_2[1],S3rgbA2_1[1],S3rgbA3_1[1], S3rgbA3_51[1],S3rgbA4_1[1],S3rgbB1_1[1],S3rgbB2_1[1],S3rgbB3_1[1],S3rgbB4_1[1],S3rgbC1_1[1],S3rgbC2_1[1],S3rgbC3_1[1],S3rgbC4_1[1],S3rgbD2_1[1],S3rgbD3_1[1], S3rgbD4_1[1]],\n",
        "    'B-Shad': [S3rgbA1_2[2],S3rgbA2_1[2],S3rgbA3_1[2],S3rgbA3_51[2],S3rgbA4_1[2],S3rgbB1_1[2],S3rgbB2_1[2],S3rgbB3_1[2],S3rgbB4_1[2],S3rgbC1_1[2],S3rgbC2_1[2],S3rgbC3_1[2],S3rgbC4_1[2],S3rgbD2_1[2],S3rgbD3_1[2], S3rgbD4_1[2]],\n",
        "    'H-ref': [S3hsvrefA1_1[0],S3hsvrefA1_3[0],S3hsvrefA1_4[0],S3hsvrefA1_5[0], S3hsvrefA1_6[0],S3hsvrefA1_7[0], S3hsvrefA1_8[0],S3hsvrefA1_9[0], S3hsvrefA1_10[0],S3hsvrefA1_11[0], S3hsvrefA1_12[0],S3hsvrefA1_13[0], S3hsvrefA1_14[0],S3hsvrefA1_15[0], S3hsvrefA1_16[0],S3hsvrefA1_17[0]],\n",
        "    'S-ref': [S3hsvrefA1_1[1],S3hsvrefA1_3[1],S3hsvrefA1_4[1],S3hsvrefA1_5[1], S3hsvrefA1_6[1],S3hsvrefA1_7[1], S3hsvrefA1_8[1],S3hsvrefA1_9[1], S3hsvrefA1_10[1],S3hsvrefA1_11[1], S3hsvrefA1_12[0],S3hsvrefA1_13[1], S3hsvrefA1_14[1],S3hsvrefA1_15[1], S3hsvrefA1_16[1],S3hsvrefA1_17[1]],\n",
        "    'V-ref': [S3hsvrefA1_1[2],S3hsvrefA1_3[2],S3hsvrefA1_4[2],S3hsvrefA1_5[2], S3hsvrefA1_6[2],S3hsvrefA1_7[2], S3hsvrefA1_8[2],S3hsvrefA1_9[2], S3hsvrefA1_10[2],S3hsvrefA1_11[2], S3hsvrefA1_12[0],S3hsvrefA1_13[2], S3hsvrefA1_14[2],S3hsvrefA1_15[2], S3hsvrefA1_16[2],S3hsvrefA1_17[2]],\n",
        "    'H-Shad': [S3hsvA1_2[0],S3hsvA2_1[0],S3hsvA3_1[0],S3hsvA3_51[0],S3hsvA4_1[0],S3hsvB1_1[0],S3hsvB2_1[0],S3hsvB3_1[0],S3hsvB4_1[0],S3hsvC1_1[0],S3hsvC2_1[0],S3hsvC3_1[0],S3hsvC4_1[0],S3hsvD2_1[0],S3hsvD3_1[0],S3hsvD4_1[0]],\n",
        "    'S-Shad': [S3hsvA1_2[1],S3hsvA2_1[1],S3hsvA3_1[1],S3hsvA3_51[1],S3hsvA4_1[1],S3hsvB1_1[1],S3hsvB2_1[1],S3hsvB3_1[1],S3hsvB4_1[1],S3hsvC1_1[1],S3hsvC2_1[1],S3hsvC3_1[1],S3hsvC4_1[1],S3hsvD2_1[1],S3hsvD3_1[1],S3hsvD4_1[1]],\n",
        "    'V-Shad': [S3hsvA1_2[2],S3hsvA2_1[2],S3hsvA3_1[2],S3hsvA3_51[2],S3hsvA4_1[2],S3hsvB1_1[2],S3hsvB2_1[2],S3hsvB3_1[2],S3hsvB4_1[2],S3hsvC1_1[2],S3hsvC2_1[2],S3hsvC3_1[2],S3hsvC4_1[2],S3hsvD2_1[2],S3hsvD3_1[2],S3hsvD4_1[2]],\n",
        "    'Shade-ref': ['A1', 'A1', 'A1',  'A1', 'A1', 'A1', 'A1', 'A1', 'A1', 'A1', 'A1', 'A1', 'A1', 'A1', 'A1', 'A1'],\n",
        "    'Shade':      ['A1', 'A2', 'A3', 'A3_5', 'A4', 'B1', 'B2', 'B3', 'B4', 'C1', 'C2', 'C3', 'C4', 'D2', 'D3', 'D4'],\n",
        "    'Setting':     ['Set3', 'Set3', 'Set3', 'Set3', 'Set3', 'Set3', 'Set3', 'Set3', 'Set3', 'Set3', 'Set3', 'Set3', 'Set3', 'Set3', 'Set3', 'Set3']}) "
      ],
      "execution_count": null,
      "outputs": []
    },
    {
      "cell_type": "code",
      "metadata": {
        "id": "s2Mvgj_WiADP"
      },
      "source": [
        "df4 = pd.DataFrame({'R-ref': [S4rgbrefA1_1[0],S4rgbrefA1_3[0],S4rgbrefA1_4[0], S4rgbrefA1_5[0], S4rgbrefA1_6[0],S4rgbrefA1_7[0], S4rgbrefA1_8[0],S4rgbrefA1_9[0], S4rgbrefA1_10[0], S4rgbrefA1_11[0], S4rgbrefA1_12[0], S4rgbrefA1_13[0], S4rgbrefA1_14[0], S4rgbrefA1_15[0], S4rgbrefA1_16[0], S4rgbrefA1_17[0]],\n",
        "    'G-ref': [S4rgbrefA1_1[1], S4rgbrefA1_3[1], S4rgbrefA1_4[1], S4rgbrefA1_5[1], S4rgbrefA1_6[1], S4rgbrefA1_7[1], S4rgbrefA1_8[1], S4rgbrefA1_9[1], S4rgbrefA1_10[1], S4rgbrefA1_11[1], S4rgbrefA1_12[1], S4rgbrefA1_13[1], S4rgbrefA1_14[1], S4rgbrefA1_15[1], S4rgbrefA1_16[1], S4rgbrefA1_17[1]],\n",
        "    'B-ref': [S4rgbrefA1_1[2],S4rgbrefA1_3[2],S4rgbrefA1_4[2],S4rgbrefA1_5[2], S4rgbrefA1_6[2],S4rgbrefA1_7[2], S4rgbrefA1_8[2],S4rgbrefA1_9[2], S4rgbrefA1_10[2],S4rgbrefA1_11[2], S4rgbrefA1_12[2],S4rgbrefA1_13[2], S4rgbrefA1_14[2],S4rgbrefA1_15[2], S4rgbrefA1_16[2],S4rgbrefA1_17[2]],\n",
        "    'R-Shad': [S4rgbA1_2[0],S4rgbA2_1[0],S4rgbA3_1[0],S4rgbA3_51[0],S4rgbA4_1[0],S4rgbB1_1[0],S4rgbB2_1[0],S4rgbB3_1[0],S4rgbB4_1[0],S4rgbC1_1[0],S4rgbC2_1[0],S4rgbC3_1[0],S4rgbC4_1[0],S4rgbD2_1[0],S4rgbD3_1[0],S4rgbD4_1[0]],\n",
        "    'G-Shad': [S4rgbA1_2[1],S4rgbA2_1[1],S4rgbA3_1[1], S4rgbA3_51[1],S4rgbA4_1[1],S4rgbB1_1[1],S4rgbB2_1[1],S4rgbB3_1[1],S4rgbB4_1[1],S4rgbC1_1[1],S4rgbC2_1[1],S4rgbC3_1[1],S4rgbC4_1[1],S4rgbD2_1[1],S4rgbD3_1[1], S4rgbD4_1[1]],\n",
        "    'B-Shad': [S4rgbA1_2[2],S4rgbA2_1[2],S4rgbA3_1[2],S4rgbA3_51[2],S4rgbA4_1[2],S4rgbB1_1[2],S4rgbB2_1[2],S4rgbB3_1[2],S4rgbB4_1[2],S4rgbC1_1[2],S4rgbC2_1[2],S4rgbC3_1[2],S4rgbC4_1[2],S4rgbD2_1[2],S4rgbD3_1[2], S4rgbD4_1[2]],\n",
        "    'H-ref': [S4hsvrefA1_1[0],S4hsvrefA1_3[0],S4hsvrefA1_4[0],S4hsvrefA1_5[0], S4hsvrefA1_6[0],S4hsvrefA1_7[0], S4hsvrefA1_8[0],S4hsvrefA1_9[0], S4hsvrefA1_10[0],S4hsvrefA1_11[0], S4hsvrefA1_12[0],S4hsvrefA1_13[0], S4hsvrefA1_14[0],S4hsvrefA1_15[0], S4hsvrefA1_16[0],S4hsvrefA1_17[0]],\n",
        "    'S-ref': [S4hsvrefA1_1[1],S4hsvrefA1_3[1],S4hsvrefA1_4[1],S4hsvrefA1_5[1], S4hsvrefA1_6[1],S4hsvrefA1_7[1], S4hsvrefA1_8[1],S4hsvrefA1_9[1], S4hsvrefA1_10[1],S4hsvrefA1_11[1], S4hsvrefA1_12[0],S4hsvrefA1_13[1], S4hsvrefA1_14[1],S4hsvrefA1_15[1], S4hsvrefA1_16[1],S4hsvrefA1_17[1]],\n",
        "    'V-ref': [S4hsvrefA1_1[2],S4hsvrefA1_3[2],S4hsvrefA1_4[2],S4hsvrefA1_5[2], S4hsvrefA1_6[2],S4hsvrefA1_7[2], S4hsvrefA1_8[2],S4hsvrefA1_9[2], S4hsvrefA1_10[2],S4hsvrefA1_11[2], S4hsvrefA1_12[0],S4hsvrefA1_13[2], S4hsvrefA1_14[2],S4hsvrefA1_15[2], S4hsvrefA1_16[2],S4hsvrefA1_17[2]],\n",
        "    'H-Shad': [S4hsvA1_2[0],S4hsvA2_1[0],S4hsvA3_1[0],S4hsvA3_51[0],S4hsvA4_1[0],S4hsvB1_1[0],S4hsvB2_1[0],S4hsvB3_1[0],S4hsvB4_1[0],S4hsvC1_1[0],S4hsvC2_1[0],S4hsvC3_1[0],S4hsvC4_1[0],S4hsvD2_1[0],S4hsvD3_1[0],S4hsvD4_1[0]],\n",
        "    'S-Shad': [S4hsvA1_2[1],S4hsvA2_1[1],S4hsvA3_1[1],S4hsvA3_51[1],S4hsvA4_1[1],S4hsvB1_1[1],S4hsvB2_1[1],S4hsvB3_1[1],S4hsvB4_1[1],S4hsvC1_1[1],S4hsvC2_1[1],S4hsvC3_1[1],S4hsvC4_1[1],S4hsvD2_1[1],S4hsvD3_1[1],S4hsvD4_1[1]],\n",
        "    'V-Shad': [S4hsvA1_2[2],S4hsvA2_1[2],S4hsvA3_1[2],S4hsvA3_51[2],S4hsvA4_1[2],S4hsvB1_1[2],S4hsvB2_1[2],S4hsvB3_1[2],S4hsvB4_1[2],S4hsvC1_1[2],S4hsvC2_1[2],S4hsvC3_1[2],S4hsvC4_1[2],S4hsvD2_1[2],S4hsvD3_1[2],S4hsvD4_1[2]],\n",
        "    'Shade-ref': ['A1', 'A1', 'A1',  'A1', 'A1', 'A1', 'A1', 'A1', 'A1', 'A1', 'A1', 'A1', 'A1', 'A1', 'A1', 'A1'],\n",
        "    'Shade':      ['A1', 'A2', 'A3', 'A3_5', 'A4', 'B1', 'B2', 'B3', 'B4', 'C1', 'C2', 'C3', 'C4', 'D2', 'D3', 'D4'],\n",
        "    'Setting':     ['Set4', 'Set4', 'Set4', 'Set4', 'Set4', 'Set4', 'Set4', 'Set4', 'Set4', 'Set4', 'Set4', 'Set4', 'Set4', 'Set4', 'Set4', 'Set4']}) "
      ],
      "execution_count": null,
      "outputs": []
    },
    {
      "cell_type": "code",
      "metadata": {
        "id": "l7KqyM_sQy6i"
      },
      "source": [
        "df"
      ],
      "execution_count": null,
      "outputs": []
    },
    {
      "cell_type": "code",
      "metadata": {
        "id": "s0YBBbmbQzwH"
      },
      "source": [
        "df2"
      ],
      "execution_count": null,
      "outputs": []
    },
    {
      "cell_type": "code",
      "metadata": {
        "id": "oAA99whHQ0yd"
      },
      "source": [
        "df3"
      ],
      "execution_count": null,
      "outputs": []
    },
    {
      "cell_type": "code",
      "metadata": {
        "id": "JHS2rc_ViAFf"
      },
      "source": [
        "df4"
      ],
      "execution_count": null,
      "outputs": []
    },
    {
      "cell_type": "code",
      "metadata": {
        "id": "4ZDZGQwVQ28o"
      },
      "source": [
        "A1_concat = pd.concat([df,df2,df3,df4])\n",
        "A1_concat"
      ],
      "execution_count": null,
      "outputs": []
    },
    {
      "cell_type": "markdown",
      "metadata": {
        "id": "uu6aqQG0n__j"
      },
      "source": [
        "#8.ชื่อตารางที่ต้องการเซฟ .to_csv(' ชื่อไฟล์ที่ต้องการ save )"
      ]
    },
    {
      "cell_type": "code",
      "metadata": {
        "id": "v1_LBtAuoFNH"
      },
      "source": [
        "A1_concat.to_csv('Shade_A1 Guide.csv', index=False)"
      ],
      "execution_count": null,
      "outputs": []
    }
  ]
}