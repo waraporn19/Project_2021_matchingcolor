{
  "nbformat": 4,
  "nbformat_minor": 0,
  "metadata": {
    "colab": {
      "name": " prepareSet1_A1.ipynb",
      "provenance": [],
      "include_colab_link": true
    },
    "kernelspec": {
      "name": "python3",
      "display_name": "Python 3"
    },
    "language_info": {
      "name": "python"
    }
  },
  "cells": [
    {
      "cell_type": "markdown",
      "metadata": {
        "id": "view-in-github",
        "colab_type": "text"
      },
      "source": [
        "<a href=\"https://colab.research.google.com/github/waraporn19/Project_2021_matchingcolor/blob/main/prepareSet1_A1.ipynb\" target=\"_parent\"><img src=\"https://colab.research.google.com/assets/colab-badge.svg\" alt=\"Open In Colab\"/></a>"
      ]
    },
    {
      "cell_type": "code",
      "metadata": {
        "id": "drOKqbUE2PnQ"
      },
      "source": [
        "import pandas as pd"
      ],
      "execution_count": 1,
      "outputs": []
    },
    {
      "cell_type": "code",
      "metadata": {
        "colab": {
          "base_uri": "https://localhost:8080/"
        },
        "id": "O7x0j_3c2Pjr",
        "outputId": "83277167-4f2a-471f-85c7-fde5daa4ef26"
      },
      "source": [
        "from google.colab import drive \n",
        "drive.mount('/content/drive')"
      ],
      "execution_count": 2,
      "outputs": [
        {
          "output_type": "stream",
          "name": "stdout",
          "text": [
            "Mounted at /content/drive\n"
          ]
        }
      ]
    },
    {
      "cell_type": "code",
      "metadata": {
        "id": "lsGPiAcg2Pa7"
      },
      "source": [
        "import os"
      ],
      "execution_count": 3,
      "outputs": []
    },
    {
      "cell_type": "code",
      "metadata": {
        "id": "xGv3Ax6o251w"
      },
      "source": [
        "path = '/content/drive/My Drive/shadeimg'"
      ],
      "execution_count": 4,
      "outputs": []
    },
    {
      "cell_type": "code",
      "metadata": {
        "colab": {
          "base_uri": "https://localhost:8080/"
        },
        "id": "DK3-qllN3Huu",
        "outputId": "45778bdb-7739-4ba4-a8d0-810420d8f96a"
      },
      "source": [
        "os.listdir(path)"
      ],
      "execution_count": 5,
      "outputs": [
        {
          "output_type": "execute_result",
          "data": {
            "text/plain": [
              "['รูปฟัน07',\n",
              " '9-10 7 2021',\n",
              " '11 7 2021',\n",
              " 'ฟันสักอย่างจำวันไม่ได้',\n",
              " '1 teeth .gsheet',\n",
              " '16 8 2021',\n",
              " '17 8 2021',\n",
              " '2 teeth.gsheet',\n",
              " '1 teeth .xlsx',\n",
              " '2 teeth .xlsx']"
            ]
          },
          "metadata": {},
          "execution_count": 5
        }
      ]
    },
    {
      "cell_type": "code",
      "metadata": {
        "id": "qnyateeBbpSP",
        "colab": {
          "base_uri": "https://localhost:8080/"
        },
        "outputId": "5364212d-a165-4476-f1e5-4024676368d0"
      },
      "source": [
        "!pip install azure-storage-blob==2.1.0"
      ],
      "execution_count": 6,
      "outputs": [
        {
          "output_type": "stream",
          "name": "stdout",
          "text": [
            "Collecting azure-storage-blob==2.1.0\n",
            "  Downloading azure_storage_blob-2.1.0-py2.py3-none-any.whl (88 kB)\n",
            "\u001b[?25l\r\u001b[K     |███▊                            | 10 kB 23.4 MB/s eta 0:00:01\r\u001b[K     |███████▍                        | 20 kB 28.2 MB/s eta 0:00:01\r\u001b[K     |███████████▏                    | 30 kB 15.5 MB/s eta 0:00:01\r\u001b[K     |██████████████▉                 | 40 kB 11.6 MB/s eta 0:00:01\r\u001b[K     |██████████████████▋             | 51 kB 5.4 MB/s eta 0:00:01\r\u001b[K     |██████████████████████▎         | 61 kB 5.7 MB/s eta 0:00:01\r\u001b[K     |██████████████████████████      | 71 kB 5.2 MB/s eta 0:00:01\r\u001b[K     |█████████████████████████████▊  | 81 kB 5.8 MB/s eta 0:00:01\r\u001b[K     |████████████████████████████████| 88 kB 3.4 MB/s \n",
            "\u001b[?25hCollecting azure-common>=1.1.5\n",
            "  Downloading azure_common-1.1.27-py2.py3-none-any.whl (12 kB)\n",
            "Collecting azure-storage-common~=2.1\n",
            "  Downloading azure_storage_common-2.1.0-py2.py3-none-any.whl (47 kB)\n",
            "\u001b[?25l\r\u001b[K     |██████▉                         | 10 kB 32.6 MB/s eta 0:00:01\r\u001b[K     |█████████████▊                  | 20 kB 39.0 MB/s eta 0:00:01\r\u001b[K     |████████████████████▋           | 30 kB 48.7 MB/s eta 0:00:01\r\u001b[K     |███████████████████████████▍    | 40 kB 47.5 MB/s eta 0:00:01\r\u001b[K     |████████████████████████████████| 47 kB 5.0 MB/s \n",
            "\u001b[?25hRequirement already satisfied: requests in /usr/local/lib/python3.7/dist-packages (from azure-storage-common~=2.1->azure-storage-blob==2.1.0) (2.23.0)\n",
            "Requirement already satisfied: python-dateutil in /usr/local/lib/python3.7/dist-packages (from azure-storage-common~=2.1->azure-storage-blob==2.1.0) (2.8.2)\n",
            "Collecting cryptography\n",
            "  Downloading cryptography-35.0.0-cp36-abi3-manylinux_2_24_x86_64.whl (3.5 MB)\n",
            "\u001b[K     |████████████████████████████████| 3.5 MB 19.7 MB/s \n",
            "\u001b[?25hRequirement already satisfied: cffi>=1.12 in /usr/local/lib/python3.7/dist-packages (from cryptography->azure-storage-common~=2.1->azure-storage-blob==2.1.0) (1.14.6)\n",
            "Requirement already satisfied: pycparser in /usr/local/lib/python3.7/dist-packages (from cffi>=1.12->cryptography->azure-storage-common~=2.1->azure-storage-blob==2.1.0) (2.20)\n",
            "Requirement already satisfied: six>=1.5 in /usr/local/lib/python3.7/dist-packages (from python-dateutil->azure-storage-common~=2.1->azure-storage-blob==2.1.0) (1.15.0)\n",
            "Requirement already satisfied: chardet<4,>=3.0.2 in /usr/local/lib/python3.7/dist-packages (from requests->azure-storage-common~=2.1->azure-storage-blob==2.1.0) (3.0.4)\n",
            "Requirement already satisfied: idna<3,>=2.5 in /usr/local/lib/python3.7/dist-packages (from requests->azure-storage-common~=2.1->azure-storage-blob==2.1.0) (2.10)\n",
            "Requirement already satisfied: urllib3!=1.25.0,!=1.25.1,<1.26,>=1.21.1 in /usr/local/lib/python3.7/dist-packages (from requests->azure-storage-common~=2.1->azure-storage-blob==2.1.0) (1.24.3)\n",
            "Requirement already satisfied: certifi>=2017.4.17 in /usr/local/lib/python3.7/dist-packages (from requests->azure-storage-common~=2.1->azure-storage-blob==2.1.0) (2021.5.30)\n",
            "Installing collected packages: cryptography, azure-common, azure-storage-common, azure-storage-blob\n",
            "Successfully installed azure-common-1.1.27 azure-storage-blob-2.1.0 azure-storage-common-2.1.0 cryptography-35.0.0\n"
          ]
        }
      ]
    },
    {
      "cell_type": "code",
      "metadata": {
        "id": "uZRZcO80cxBH"
      },
      "source": [
        "from azure.storage.blob import BlockBlobService\n",
        "import os"
      ],
      "execution_count": 7,
      "outputs": []
    },
    {
      "cell_type": "code",
      "metadata": {
        "id": "tJVMV5DMcyJT"
      },
      "source": [
        "blob_service_client = BlockBlobService(account_name='dent01', account_key='CuShY0B4TZJ84TjzPpaHxyrHOpO73aGXeCpdVq7x26OjIlQ1HOz+3DVc9pDEj9BdcEL8odFuTRF0mOAE+aCgiw==')"
      ],
      "execution_count": 8,
      "outputs": []
    },
    {
      "cell_type": "markdown",
      "metadata": {
        "id": "nNqTWrPIc2qX"
      },
      "source": [
        "#1.สร้างตัวแปรเฉดไกด์"
      ]
    },
    {
      "cell_type": "markdown",
      "metadata": {
        "id": "Gx-nvNvXdCDu"
      },
      "source": [
        "##Set1"
      ]
    },
    {
      "cell_type": "code",
      "metadata": {
        "id": "PvY9HB-hc96t"
      },
      "source": [
        "S1_doubleA1A1_1 = '219558E6-E67A-4672-9E46-3D084D0D2032.png'\n",
        "S1_doubleA1A2_1 = '3E2D92F5-C039-4375-8801-7177CE0C110B.png'\n",
        "S1_doubleA1A3_1 = '7EE62CC1-C35A-4BD5-8B99-7A02F504FB92.png'\n",
        "S1_doubleA1A3_51 = '630B56EB-1A02-4C39-8E72-401279881303.png'\n",
        "S1_doubleA1A4_1 = '91D7D709-F23E-4AE3-A0A2-A445F61D67EB.png'\n",
        "S1_doubleA1B1_1 = '7F841DFC-287B-41C2-A4F5-49FA7331CBB0.png'\n",
        "S1_doubleA1B2_1 = 'C845B358-A745-4A47-BEED-A31BE9B2229C.png'\n",
        "S1_doubleA1B3_1 = '3AA52381-B0B1-4EB5-9A71-A6A514AF1F79.png'\n",
        "S1_doubleA1B4_1 = '492C2452-03B4-409A-B1EF-D3C0C7854512.png'\n",
        "S1_doubleA1C1_1 = 'ABB4CCA8-A40F-44E3-9181-2516DB231774.png'\n",
        "S1_doubleA1C2_1 = 'EC0C76AB-82FB-47F1-A4A9-EC9536A007D0.png'\n",
        "S1_doubleA1C3_1 = 'DEABE2EA-9BB9-415C-9F2C-994163642A74.png'\n",
        "S1_doubleA1C4_1 = 'BC123F06-33C9-4009-B381-3C58514DADB4.png'\n",
        "S1_doubleA1D2_1 = 'BA98E02C-01C7-4C92-BFF1-E5B9C8A2C12B.png'\n",
        "S1_doubleA1D3_1 = '0EFF075B-90D3-49EA-AB42-6118396846B9.png'\n",
        "S1_doubleA1D4_1 = '09B5108F-2B91-4CF9-8020-3A7689AA22F8.png'"
      ],
      "execution_count": 9,
      "outputs": []
    },
    {
      "cell_type": "markdown",
      "metadata": {
        "id": "Taw1dl5xglaj"
      },
      "source": [
        "#2. ดึงรูป"
      ]
    },
    {
      "cell_type": "code",
      "metadata": {
        "id": "jPe2WlLY4J0n"
      },
      "source": [
        "import cv2\n",
        "from matplotlib import pyplot as plt #การเรียกใช้คำสั่ง matplotlib เพื่อวาดกราฟ โดยแทนชื่อ matplotlib ด้วย plt\n",
        "import matplotlib"
      ],
      "execution_count": 10,
      "outputs": []
    },
    {
      "cell_type": "markdown",
      "metadata": {
        "id": "7Gl_H8idgnRf"
      },
      "source": [
        "##Set1"
      ]
    },
    {
      "cell_type": "code",
      "metadata": {
        "id": "s7mF6eEHiQ19",
        "colab": {
          "base_uri": "https://localhost:8080/"
        },
        "outputId": "ace17e39-395b-44b0-c72c-1067beae1421"
      },
      "source": [
        "full_path_to_file2 = os.path.join(S1_doubleA1A1_1) \n",
        "blob_service_client.get_blob_to_path('shadeimg', full_path_to_file2, full_path_to_file2)"
      ],
      "execution_count": 11,
      "outputs": [
        {
          "output_type": "execute_result",
          "data": {
            "text/plain": [
              "<azure.storage.blob.models.Blob at 0x7fd77ef33d50>"
            ]
          },
          "metadata": {},
          "execution_count": 11
        }
      ]
    },
    {
      "cell_type": "code",
      "metadata": {
        "id": "kzMKB_OniZY1",
        "colab": {
          "base_uri": "https://localhost:8080/"
        },
        "outputId": "c37b0948-480f-4d4c-92af-b84773a29ccd"
      },
      "source": [
        "full_path_to_file2 = os.path.join(S1_doubleA1A2_1) \n",
        "blob_service_client.get_blob_to_path('shadeimg', full_path_to_file2, full_path_to_file2)"
      ],
      "execution_count": 12,
      "outputs": [
        {
          "output_type": "execute_result",
          "data": {
            "text/plain": [
              "<azure.storage.blob.models.Blob at 0x7fd77e1881d0>"
            ]
          },
          "metadata": {},
          "execution_count": 12
        }
      ]
    },
    {
      "cell_type": "code",
      "metadata": {
        "id": "IkeC-Fivih3w",
        "colab": {
          "base_uri": "https://localhost:8080/"
        },
        "outputId": "1f6ab919-b005-4756-dff1-33d597cc27cf"
      },
      "source": [
        "full_path_to_file2 = os.path.join(S1_doubleA1A3_1) \n",
        "blob_service_client.get_blob_to_path('shadeimg', full_path_to_file2, full_path_to_file2)"
      ],
      "execution_count": 13,
      "outputs": [
        {
          "output_type": "execute_result",
          "data": {
            "text/plain": [
              "<azure.storage.blob.models.Blob at 0x7fd774f8f090>"
            ]
          },
          "metadata": {},
          "execution_count": 13
        }
      ]
    },
    {
      "cell_type": "code",
      "metadata": {
        "id": "3Y9aMJj6ij5n",
        "colab": {
          "base_uri": "https://localhost:8080/"
        },
        "outputId": "70010f8a-1a6d-42b9-deae-859a64c2a130"
      },
      "source": [
        "full_path_to_file2 = os.path.join(S1_doubleA1A3_51) \n",
        "blob_service_client.get_blob_to_path('shadeimg', full_path_to_file2, full_path_to_file2)"
      ],
      "execution_count": 14,
      "outputs": [
        {
          "output_type": "execute_result",
          "data": {
            "text/plain": [
              "<azure.storage.blob.models.Blob at 0x7fd774f891d0>"
            ]
          },
          "metadata": {},
          "execution_count": 14
        }
      ]
    },
    {
      "cell_type": "code",
      "metadata": {
        "id": "yrJq8907iuoY",
        "colab": {
          "base_uri": "https://localhost:8080/"
        },
        "outputId": "48a3ab0c-b819-4095-d6f3-e2bb22df3711"
      },
      "source": [
        "full_path_to_file2 = os.path.join(S1_doubleA1A4_1) \n",
        "blob_service_client.get_blob_to_path('shadeimg', full_path_to_file2, full_path_to_file2)"
      ],
      "execution_count": 15,
      "outputs": [
        {
          "output_type": "execute_result",
          "data": {
            "text/plain": [
              "<azure.storage.blob.models.Blob at 0x7fd774f95d90>"
            ]
          },
          "metadata": {},
          "execution_count": 15
        }
      ]
    },
    {
      "cell_type": "code",
      "metadata": {
        "id": "0VJcKHW2i0Ac",
        "colab": {
          "base_uri": "https://localhost:8080/"
        },
        "outputId": "cb06a6e1-11eb-45e4-94c8-b4325de30801"
      },
      "source": [
        "full_path_to_file2 = os.path.join(S1_doubleA1B1_1) \n",
        "blob_service_client.get_blob_to_path('shadeimg', full_path_to_file2, full_path_to_file2)"
      ],
      "execution_count": 16,
      "outputs": [
        {
          "output_type": "execute_result",
          "data": {
            "text/plain": [
              "<azure.storage.blob.models.Blob at 0x7fd774f45f10>"
            ]
          },
          "metadata": {},
          "execution_count": 16
        }
      ]
    },
    {
      "cell_type": "code",
      "metadata": {
        "id": "hY3AI9RFi0Ad",
        "colab": {
          "base_uri": "https://localhost:8080/"
        },
        "outputId": "5d47292b-d1cd-4105-efa6-2c885b5e9bbd"
      },
      "source": [
        "full_path_to_file2 = os.path.join(S1_doubleA1B2_1) \n",
        "blob_service_client.get_blob_to_path('shadeimg', full_path_to_file2, full_path_to_file2)"
      ],
      "execution_count": 17,
      "outputs": [
        {
          "output_type": "execute_result",
          "data": {
            "text/plain": [
              "<azure.storage.blob.models.Blob at 0x7fd774f83d90>"
            ]
          },
          "metadata": {},
          "execution_count": 17
        }
      ]
    },
    {
      "cell_type": "code",
      "metadata": {
        "id": "GApmsAnKi0Ad",
        "colab": {
          "base_uri": "https://localhost:8080/"
        },
        "outputId": "c5f78aa0-ff03-410a-c3a4-4be8ad887ee6"
      },
      "source": [
        "full_path_to_file2 = os.path.join(S1_doubleA1B3_1) \n",
        "blob_service_client.get_blob_to_path('shadeimg', full_path_to_file2, full_path_to_file2)"
      ],
      "execution_count": 18,
      "outputs": [
        {
          "output_type": "execute_result",
          "data": {
            "text/plain": [
              "<azure.storage.blob.models.Blob at 0x7fd774f45410>"
            ]
          },
          "metadata": {},
          "execution_count": 18
        }
      ]
    },
    {
      "cell_type": "code",
      "metadata": {
        "id": "O1h96HYqi7cu",
        "colab": {
          "base_uri": "https://localhost:8080/"
        },
        "outputId": "c926e8f7-291c-4465-b577-e3c86b63489a"
      },
      "source": [
        "full_path_to_file2 = os.path.join(S1_doubleA1B4_1) \n",
        "blob_service_client.get_blob_to_path('shadeimg', full_path_to_file2, full_path_to_file2)"
      ],
      "execution_count": 19,
      "outputs": [
        {
          "output_type": "execute_result",
          "data": {
            "text/plain": [
              "<azure.storage.blob.models.Blob at 0x7fd774f51f90>"
            ]
          },
          "metadata": {},
          "execution_count": 19
        }
      ]
    },
    {
      "cell_type": "code",
      "metadata": {
        "id": "RsMHbknqi_fT",
        "colab": {
          "base_uri": "https://localhost:8080/"
        },
        "outputId": "edbecc4d-9680-4d1d-aee9-ec16fe803412"
      },
      "source": [
        "full_path_to_file2 = os.path.join(S1_doubleA1C1_1) \n",
        "blob_service_client.get_blob_to_path('shadeimg', full_path_to_file2, full_path_to_file2)"
      ],
      "execution_count": 20,
      "outputs": [
        {
          "output_type": "execute_result",
          "data": {
            "text/plain": [
              "<azure.storage.blob.models.Blob at 0x7fd774f61050>"
            ]
          },
          "metadata": {},
          "execution_count": 20
        }
      ]
    },
    {
      "cell_type": "code",
      "metadata": {
        "id": "wI0oZemgi_fT",
        "colab": {
          "base_uri": "https://localhost:8080/"
        },
        "outputId": "aba0588f-76f3-4ddb-bdee-0cb4be774b05"
      },
      "source": [
        "full_path_to_file2 = os.path.join(S1_doubleA1C2_1) \n",
        "blob_service_client.get_blob_to_path('shadeimg', full_path_to_file2, full_path_to_file2)"
      ],
      "execution_count": 21,
      "outputs": [
        {
          "output_type": "execute_result",
          "data": {
            "text/plain": [
              "<azure.storage.blob.models.Blob at 0x7fd774fa1210>"
            ]
          },
          "metadata": {},
          "execution_count": 21
        }
      ]
    },
    {
      "cell_type": "code",
      "metadata": {
        "id": "6ga7nGGti_fT",
        "colab": {
          "base_uri": "https://localhost:8080/"
        },
        "outputId": "444cd5c7-5d8e-4a82-d53d-00faa2c22f28"
      },
      "source": [
        "full_path_to_file2 = os.path.join(S1_doubleA1C3_1) \n",
        "blob_service_client.get_blob_to_path('shadeimg', full_path_to_file2, full_path_to_file2)"
      ],
      "execution_count": 22,
      "outputs": [
        {
          "output_type": "execute_result",
          "data": {
            "text/plain": [
              "<azure.storage.blob.models.Blob at 0x7fd774f45490>"
            ]
          },
          "metadata": {},
          "execution_count": 22
        }
      ]
    },
    {
      "cell_type": "code",
      "metadata": {
        "id": "nsiPutfEi_fU",
        "colab": {
          "base_uri": "https://localhost:8080/"
        },
        "outputId": "5120a40e-5cee-4826-f064-1a6efbd810bd"
      },
      "source": [
        "full_path_to_file2 = os.path.join(S1_doubleA1C4_1) \n",
        "blob_service_client.get_blob_to_path('shadeimg', full_path_to_file2, full_path_to_file2)"
      ],
      "execution_count": 23,
      "outputs": [
        {
          "output_type": "execute_result",
          "data": {
            "text/plain": [
              "<azure.storage.blob.models.Blob at 0x7fd774f45ad0>"
            ]
          },
          "metadata": {},
          "execution_count": 23
        }
      ]
    },
    {
      "cell_type": "code",
      "metadata": {
        "id": "IlqllUIljGVj",
        "colab": {
          "base_uri": "https://localhost:8080/"
        },
        "outputId": "10826b52-2b9c-42cc-b423-c063657bf11f"
      },
      "source": [
        "full_path_to_file2 = os.path.join(S1_doubleA1D2_1) \n",
        "blob_service_client.get_blob_to_path('shadeimg', full_path_to_file2, full_path_to_file2)"
      ],
      "execution_count": 24,
      "outputs": [
        {
          "output_type": "execute_result",
          "data": {
            "text/plain": [
              "<azure.storage.blob.models.Blob at 0x7fd774ac53d0>"
            ]
          },
          "metadata": {},
          "execution_count": 24
        }
      ]
    },
    {
      "cell_type": "code",
      "metadata": {
        "id": "jXXF16lsjGVj",
        "colab": {
          "base_uri": "https://localhost:8080/"
        },
        "outputId": "ece42a66-64de-4fea-8bdb-c3e8cf375106"
      },
      "source": [
        "full_path_to_file2 = os.path.join(S1_doubleA1D3_1) \n",
        "blob_service_client.get_blob_to_path('shadeimg', full_path_to_file2, full_path_to_file2)"
      ],
      "execution_count": 25,
      "outputs": [
        {
          "output_type": "execute_result",
          "data": {
            "text/plain": [
              "<azure.storage.blob.models.Blob at 0x7fd774f4d150>"
            ]
          },
          "metadata": {},
          "execution_count": 25
        }
      ]
    },
    {
      "cell_type": "code",
      "metadata": {
        "id": "xRA_M-1PjGVj",
        "colab": {
          "base_uri": "https://localhost:8080/"
        },
        "outputId": "fbf1ab47-9d2a-4b62-f6be-334b4a0ac4e5"
      },
      "source": [
        "full_path_to_file2 = os.path.join(S1_doubleA1D4_1) \n",
        "blob_service_client.get_blob_to_path('shadeimg', full_path_to_file2, full_path_to_file2)"
      ],
      "execution_count": 26,
      "outputs": [
        {
          "output_type": "execute_result",
          "data": {
            "text/plain": [
              "<azure.storage.blob.models.Blob at 0x7fd774f833d0>"
            ]
          },
          "metadata": {},
          "execution_count": 26
        }
      ]
    },
    {
      "cell_type": "markdown",
      "metadata": {
        "id": "MtmXOojtqN4x"
      },
      "source": [
        "#3. BGR to RGB"
      ]
    },
    {
      "cell_type": "code",
      "metadata": {
        "id": "s8SS5YJfrpRC"
      },
      "source": [
        "import cv2\n",
        "from matplotlib import pyplot as plt #การเรียกใช้คำสั่ง matplotlib เพื่อวาดกราฟ โดยแทนชื่อ matplotlib ด้วย plt\n",
        "import matplotlib"
      ],
      "execution_count": 27,
      "outputs": []
    },
    {
      "cell_type": "markdown",
      "metadata": {
        "id": "tngQqkwA41EB"
      },
      "source": [
        "##Set1"
      ]
    },
    {
      "cell_type": "code",
      "metadata": {
        "id": "pjV8Jh9u4VyJ"
      },
      "source": [
        "imgS1_A1A1_1  = cv2.imread(S1_doubleA1A1_1)\n",
        "S1RGB_imgA1A1_1= cv2.cvtColor(imgS1_A1A1_1, cv2.COLOR_BGR2RGB)"
      ],
      "execution_count": 28,
      "outputs": []
    },
    {
      "cell_type": "code",
      "metadata": {
        "id": "Ixg-SNyU46Lp"
      },
      "source": [
        "imgS1_A1A2_1  = cv2.imread(S1_doubleA1A2_1)\n",
        "S1RGB_imgA1A2_1= cv2.cvtColor(imgS1_A1A2_1, cv2.COLOR_BGR2RGB)"
      ],
      "execution_count": 29,
      "outputs": []
    },
    {
      "cell_type": "code",
      "metadata": {
        "id": "a4-_mkF-4-te"
      },
      "source": [
        "imgS1_A1A3_1  = cv2.imread(S1_doubleA1A3_1)\n",
        "S1RGB_imgA1A3_1= cv2.cvtColor(imgS1_A1A3_1, cv2.COLOR_BGR2RGB)"
      ],
      "execution_count": 30,
      "outputs": []
    },
    {
      "cell_type": "code",
      "metadata": {
        "id": "uRs18zEK5EM3"
      },
      "source": [
        "imgS1_A1A3_51  = cv2.imread(S1_doubleA1A3_51)\n",
        "S1RGB_imgA1A3_51= cv2.cvtColor(imgS1_A1A3_51, cv2.COLOR_BGR2RGB)"
      ],
      "execution_count": 31,
      "outputs": []
    },
    {
      "cell_type": "code",
      "metadata": {
        "id": "LCju5Eai5fV4"
      },
      "source": [
        "imgS1_A1A4_1  = cv2.imread(S1_doubleA1A4_1)\n",
        "S1RGB_imgA1A4_1= cv2.cvtColor(imgS1_A1A4_1, cv2.COLOR_BGR2RGB)"
      ],
      "execution_count": 32,
      "outputs": []
    },
    {
      "cell_type": "code",
      "metadata": {
        "id": "sMwRM7yO5llo"
      },
      "source": [
        "imgS1_A1B1_1  = cv2.imread(S1_doubleA1B1_1)\n",
        "S1RGB_imgA1B1_1= cv2.cvtColor(imgS1_A1B1_1, cv2.COLOR_BGR2RGB)"
      ],
      "execution_count": 33,
      "outputs": []
    },
    {
      "cell_type": "code",
      "metadata": {
        "id": "B8Efejup5llo"
      },
      "source": [
        "imgS1_A1B2_1  = cv2.imread(S1_doubleA1B2_1)\n",
        "S1RGB_imgA1B2_1= cv2.cvtColor(imgS1_A1B2_1, cv2.COLOR_BGR2RGB)"
      ],
      "execution_count": 34,
      "outputs": []
    },
    {
      "cell_type": "code",
      "metadata": {
        "id": "j7fi0Nn95llo"
      },
      "source": [
        "imgS1_A1B3_1  = cv2.imread(S1_doubleA1A3_1)\n",
        "S1RGB_imgA1B3_1= cv2.cvtColor(imgS1_A1A3_1, cv2.COLOR_BGR2RGB)"
      ],
      "execution_count": 35,
      "outputs": []
    },
    {
      "cell_type": "code",
      "metadata": {
        "id": "Hxs3fQUU5llp"
      },
      "source": [
        "imgS1_A1B4_1  = cv2.imread(S1_doubleA1B4_1)\n",
        "S1RGB_imgA1B4_1= cv2.cvtColor(imgS1_A1B4_1, cv2.COLOR_BGR2RGB)"
      ],
      "execution_count": 36,
      "outputs": []
    },
    {
      "cell_type": "code",
      "metadata": {
        "id": "IaQDpBeS6Oa_"
      },
      "source": [
        "imgS1_A1C1_1  = cv2.imread(S1_doubleA1C1_1)\n",
        "S1RGB_imgA1C1_1= cv2.cvtColor(imgS1_A1C1_1, cv2.COLOR_BGR2RGB)"
      ],
      "execution_count": 37,
      "outputs": []
    },
    {
      "cell_type": "code",
      "metadata": {
        "id": "wuQ_nyPB6Oa_"
      },
      "source": [
        "imgS1_A1C2_1  = cv2.imread(S1_doubleA1C2_1)\n",
        "S1RGB_imgA1C2_1= cv2.cvtColor(imgS1_A1C2_1, cv2.COLOR_BGR2RGB)"
      ],
      "execution_count": 38,
      "outputs": []
    },
    {
      "cell_type": "code",
      "metadata": {
        "id": "wAdSVg_I6Oa_"
      },
      "source": [
        "imgS1_A1C3_1  = cv2.imread(S1_doubleA1C3_1)\n",
        "S1RGB_imgA1C3_1= cv2.cvtColor(imgS1_A1C3_1, cv2.COLOR_BGR2RGB)"
      ],
      "execution_count": 39,
      "outputs": []
    },
    {
      "cell_type": "code",
      "metadata": {
        "id": "XeLavKSo6Oa_"
      },
      "source": [
        "imgS1_A1C4_1  = cv2.imread(S1_doubleA1C4_1)\n",
        "S1RGB_imgA1C4_1= cv2.cvtColor(imgS1_A1C4_1, cv2.COLOR_BGR2RGB)"
      ],
      "execution_count": 40,
      "outputs": []
    },
    {
      "cell_type": "code",
      "metadata": {
        "id": "SP6HGOWx6hmP"
      },
      "source": [
        "imgS1_A1D2_1  = cv2.imread(S1_doubleA1D2_1)\n",
        "S1RGB_imgA1D2_1= cv2.cvtColor(imgS1_A1D2_1, cv2.COLOR_BGR2RGB)"
      ],
      "execution_count": 41,
      "outputs": []
    },
    {
      "cell_type": "code",
      "metadata": {
        "id": "2d2cV-Ew6hmP"
      },
      "source": [
        "imgS1_A1D3_1  = cv2.imread(S1_doubleA1D3_1)\n",
        "S1RGB_imgA1D3_1= cv2.cvtColor(imgS1_A1D3_1, cv2.COLOR_BGR2RGB)"
      ],
      "execution_count": 42,
      "outputs": []
    },
    {
      "cell_type": "code",
      "metadata": {
        "id": "doH48ypZ6hmQ"
      },
      "source": [
        "imgS1_A1D4_1  = cv2.imread(S1_doubleA1D4_1)\n",
        "S1RGB_imgA1D4_1= cv2.cvtColor(imgS1_A1D4_1, cv2.COLOR_BGR2RGB)\n"
      ],
      "execution_count": null,
      "outputs": []
    },
    {
      "cell_type": "markdown",
      "metadata": {
        "id": "4XyCaNz1YAzf"
      },
      "source": [
        "#4. ฺBGR TO HSV"
      ]
    },
    {
      "cell_type": "code",
      "metadata": {
        "id": "V7LoW4sLYP0V",
        "outputId": "189ba047-63d9-46c5-ed1d-f72415e45ce3",
        "colab": {
          "base_uri": "https://localhost:8080/",
          "height": 286
        }
      },
      "source": [
        "S1_A1A1_1img  = cv2.imread(S1_doubleA1A1_1)\n",
        "S1HSV_imgA1A1_1= cv2.cvtColor(S1_A1A1_1img, cv2.COLOR_BGR2HSV)\n",
        "plt.imshow(S1HSV_imgA1A1_1)"
      ],
      "execution_count": 46,
      "outputs": [
        {
          "output_type": "execute_result",
          "data": {
            "text/plain": [
              "<matplotlib.image.AxesImage at 0x7fd772d672d0>"
            ]
          },
          "metadata": {},
          "execution_count": 46
        },
        {
          "output_type": "display_data",
          "data": {
            "image/png": "[encoded data removed]",
            "text/plain": [
              "<Figure size 432x288 with 1 Axes>"
            ]
          },
          "metadata": {
            "needs_background": "light"
          }
        }
      ]
    },
    {
      "cell_type": "code",
      "metadata": {
        "id": "se8UQIFwnL8I"
      },
      "source": [
        "S1_A1A2_1img  = cv2.imread(S1_doubleA1A2_1)\n",
        "S1HSV_imgA1A2_1= cv2.cvtColor(S1_A1A2_1img, cv2.COLOR_BGR2HSV)"
      ],
      "execution_count": null,
      "outputs": []
    },
    {
      "cell_type": "code",
      "metadata": {
        "id": "NlS3nnjpnMIQ"
      },
      "source": [
        "S1_A1A3_1img  = cv2.imread(S1_doubleA1A3_1)\n",
        "S1HSV_imgA1A3_1= cv2.cvtColor(S1_A1A3_1img, cv2.COLOR_BGR2HSV)"
      ],
      "execution_count": null,
      "outputs": []
    },
    {
      "cell_type": "code",
      "metadata": {
        "id": "gaiV37Atm-qM"
      },
      "source": [
        "S1_A1A3_51img  = cv2.imread(S1_doubleA1A3_51)\n",
        "S1HSV_imgA1A3_51= cv2.cvtColor(S1_A1A3_51img, cv2.COLOR_BGR2HSV)"
      ],
      "execution_count": null,
      "outputs": []
    },
    {
      "cell_type": "code",
      "metadata": {
        "id": "b3l1xgJWm-r6"
      },
      "source": [
        "S1_A1A4_1img  = cv2.imread(S1_doubleA1A4_1)\n",
        "S1HSV_imgA1A4_1= cv2.cvtColor(S1_A1A4_1img, cv2.COLOR_BGR2HSV)"
      ],
      "execution_count": null,
      "outputs": []
    },
    {
      "cell_type": "code",
      "metadata": {
        "id": "w26dE2E2m-ui"
      },
      "source": [
        "S1_A1B1_1img  = cv2.imread(S1_doubleA1B1_1)\n",
        "S1HSV_imgA1B1_1= cv2.cvtColor(S1_A1B1_1img, cv2.COLOR_BGR2HSV)"
      ],
      "execution_count": null,
      "outputs": []
    },
    {
      "cell_type": "code",
      "metadata": {
        "id": "qq4hEemVm-wd"
      },
      "source": [
        "S1_A1B2_1img  = cv2.imread(S1_doubleA1B2_1)\n",
        "S1HSV_imgA1B2_1= cv2.cvtColor(S1_A1B2_1img, cv2.COLOR_BGR2HSV)"
      ],
      "execution_count": null,
      "outputs": []
    },
    {
      "cell_type": "code",
      "metadata": {
        "id": "9TyEGSZmp7wg"
      },
      "source": [
        "S1_A1B3_1img  = cv2.imread(S1_doubleA1B3_1)\n",
        "S1HSV_imgA1B3_1= cv2.cvtColor(S1_A1B3_1img, cv2.COLOR_BGR2HSV)"
      ],
      "execution_count": null,
      "outputs": []
    },
    {
      "cell_type": "code",
      "metadata": {
        "id": "8fg70FdZm-0y"
      },
      "source": [
        "S1_A1B4_1img  = cv2.imread(S1_doubleA1B4_1)\n",
        "S1HSV_imgA1B4_1= cv2.cvtColor(S1_A1B4_1img, cv2.COLOR_BGR2HSV)"
      ],
      "execution_count": null,
      "outputs": []
    },
    {
      "cell_type": "code",
      "metadata": {
        "id": "86KJ5WjYqLAs"
      },
      "source": [
        "S1_A1C1_1img  = cv2.imread(S1_doubleA1C1_1)\n",
        "S1HSV_imgA1C1_1= cv2.cvtColor(S1_A1C1_1img, cv2.COLOR_BGR2HSV)"
      ],
      "execution_count": null,
      "outputs": []
    },
    {
      "cell_type": "code",
      "metadata": {
        "id": "4o2oKmb-qLDu"
      },
      "source": [
        "S1_A1C2_1img  = cv2.imread(S1_doubleA1C2_1)\n",
        "S1HSV_imgA1C2_1= cv2.cvtColor(S1_A1C2_1img, cv2.COLOR_BGR2HSV)"
      ],
      "execution_count": null,
      "outputs": []
    },
    {
      "cell_type": "code",
      "metadata": {
        "id": "0pGWlEU1qLHp"
      },
      "source": [
        "S1_A1C3_1img  = cv2.imread(S1_doubleA1C3_1)\n",
        "S1HSV_imgA1C3_1= cv2.cvtColor(S1_A1C3_1img, cv2.COLOR_BGR2HSV)"
      ],
      "execution_count": null,
      "outputs": []
    },
    {
      "cell_type": "code",
      "metadata": {
        "id": "IZQIfJ4iqLKb"
      },
      "source": [
        "S1_A1C4_1img  = cv2.imread(S1_doubleA1C4_1)\n",
        "S1HSV_imgA1C4_1= cv2.cvtColor(S1_A1C4_1img, cv2.COLOR_BGR2HSV)"
      ],
      "execution_count": null,
      "outputs": []
    },
    {
      "cell_type": "code",
      "metadata": {
        "id": "k_K9BBJpqLOi"
      },
      "source": [
        "S1_A1D2_1img  = cv2.imread(S1_doubleA1D2_1)\n",
        "S1HSV_imgA1D2_1= cv2.cvtColor(S1_A1D2_1img, cv2.COLOR_BGR2HSV)"
      ],
      "execution_count": null,
      "outputs": []
    },
    {
      "cell_type": "code",
      "metadata": {
        "id": "v6YEm_v5quL_"
      },
      "source": [
        "S1_A1D3_1img  = cv2.imread(S1_doubleA1D3_1)\n",
        "S1HSV_imgA1D3_1= cv2.cvtColor(S1_A1D3_1img, cv2.COLOR_BGR2HSV)"
      ],
      "execution_count": null,
      "outputs": []
    },
    {
      "cell_type": "code",
      "metadata": {
        "id": "SMvBLdQxm-3f"
      },
      "source": [
        "S1_A1D4_1img  = cv2.imread(S1_doubleA1D4_1)\n",
        "S1HSV_imgA1D4_1= cv2.cvtColor(S1_A1D4_1img, cv2.COLOR_BGR2HSV)"
      ],
      "execution_count": null,
      "outputs": []
    },
    {
      "cell_type": "markdown",
      "metadata": {
        "id": "UNtZVBz0CQoq"
      },
      "source": [
        "#5. ดึงสี "
      ]
    },
    {
      "cell_type": "markdown",
      "metadata": {
        "id": "5H65mCxBCwun"
      },
      "source": [
        "##Set1 "
      ]
    },
    {
      "cell_type": "markdown",
      "metadata": {
        "id": "uNWjoOD4radB"
      },
      "source": [
        "## RGB"
      ]
    },
    {
      "cell_type": "code",
      "metadata": {
        "id": "3MeDXa_qCjAo"
      },
      "source": [
        "S1A1_1= list()\n",
        "S1A1_2 = list()\n",
        "for i in range(S1RGB_imgA1A1_1.shape[0]): #ให้ i รันตาม row หรือ shape[0] คือแถว มีทั้งหมด 4032 แถว ของภาพที่ปรับขนาดมาแล้ว\n",
        "     for j in range(S1RGB_imgA1A1_1.shape[1]): #ให้ j รันตาม colum มีทั้งหมด 3024 colum เช่น แถวที่ 1 เข้ามาให้รันครบ 3024colum\n",
        "                if 1770<i<1880 and 1700<j<1830 :\n",
        "                    S1A1_1.append(S1RGB_imgA1A1_1[i][j])\n",
        "                if 1770<i<1880 and 2015<j<2145 :\n",
        "                    S1A1_2.append(S1RGB_imgA1A1_1[i][j])   "
      ],
      "execution_count": null,
      "outputs": []
    },
    {
      "cell_type": "code",
      "metadata": {
        "id": "IY5gPQv-Cy1Q"
      },
      "source": [
        "S1A1_3= list()\n",
        "S1A2_1 = list()\n",
        "for i in range(S1RGB_imgA1A2_1.shape[0]): \n",
        "     for j in range(S1RGB_imgA1A2_1.shape[1]): \n",
        "                if 1770<i<1880 and 1700<j<1830 :\n",
        "                    S1A1_3.append(S1RGB_imgA1A2_1[i][j])\n",
        "                if 1770<i<1880 and 2015<j<2145 :\n",
        "                    S1A2_1.append(S1RGB_imgA1A2_1[i][j])   "
      ],
      "execution_count": null,
      "outputs": []
    },
    {
      "cell_type": "code",
      "metadata": {
        "id": "mig_gz6iC_pn"
      },
      "source": [
        "S1A1_4= list()\n",
        "S1A3_1 = list()\n",
        "for i in range(S1RGB_imgA1A3_1.shape[0]): \n",
        "     for j in range(S1RGB_imgA1A3_1.shape[1]): \n",
        "                if 1770<i<1880 and 1700<j<1830 :\n",
        "                    S1A1_4.append(S1RGB_imgA1A3_1[i][j])\n",
        "                if 1770<i<1880 and 2015<j<2145 :\n",
        "                    S1A3_1.append(S1RGB_imgA1A3_1[i][j])   "
      ],
      "execution_count": null,
      "outputs": []
    },
    {
      "cell_type": "code",
      "metadata": {
        "id": "iu-ny26uDHW1"
      },
      "source": [
        "S1A1_5= list()\n",
        "S1A3_51 = list()\n",
        "for i in range(S1RGB_imgA1A3_51.shape[0]): \n",
        "     for j in range(S1RGB_imgA1A3_51.shape[1]): \n",
        "                if 1770<i<1880 and 1700<j<1830 :\n",
        "                    S1A1_5.append(S1RGB_imgA1A3_51[i][j])\n",
        "                if 1770<i<1880 and 2015<j<2145 :\n",
        "                    S1A3_51.append(S1RGB_imgA1A3_51[i][j])"
      ],
      "execution_count": null,
      "outputs": []
    },
    {
      "cell_type": "code",
      "metadata": {
        "id": "aWV6WsWMDOyh"
      },
      "source": [
        "S1A1_6= list()\n",
        "S1A4_1 = list()\n",
        "for i in range(S1RGB_imgA1A4_1.shape[0]): \n",
        "     for j in range(S1RGB_imgA1A4_1.shape[1]): \n",
        "                if 1770<i<1880 and 1700<j<1830 :\n",
        "                    S1A1_6.append(S1RGB_imgA1A4_1[i][j])\n",
        "                if 1770<i<1880 and 2015<j<2145 :\n",
        "                    S1A4_1.append(S1RGB_imgA1A4_1[i][j])"
      ],
      "execution_count": null,
      "outputs": []
    },
    {
      "cell_type": "code",
      "metadata": {
        "id": "De3kH-OoDYQI"
      },
      "source": [
        "S1A1_7= list()\n",
        "S1B1_1 = list()\n",
        "for i in range(S1RGB_imgA1B1_1.shape[0]): \n",
        "     for j in range(S1RGB_imgA1B1_1.shape[1]): \n",
        "                if 1770<i<1880 and 1700<j<1830 :\n",
        "                    S1A1_7.append(S1RGB_imgA1B1_1[i][j])\n",
        "                if 1770<i<1880 and 2015<j<2145 :\n",
        "                    S1B1_1.append(S1RGB_imgA1B1_1[i][j])"
      ],
      "execution_count": null,
      "outputs": []
    },
    {
      "cell_type": "code",
      "metadata": {
        "id": "gWUovJ6PDioo"
      },
      "source": [
        "S1A1_8= list()\n",
        "S1B2_1 = list()\n",
        "for i in range(S1RGB_imgA1B2_1.shape[0]): \n",
        "     for j in range(S1RGB_imgA1B2_1.shape[1]): \n",
        "                if 1770<i<1880 and 1700<j<1830 :\n",
        "                    S1A1_8.append(S1RGB_imgA1B2_1[i][j])\n",
        "                if 1770<i<1880 and 2015<j<2145 :\n",
        "                    S1B2_1.append(S1RGB_imgA1B2_1[i][j])"
      ],
      "execution_count": null,
      "outputs": []
    },
    {
      "cell_type": "code",
      "metadata": {
        "id": "I4g8iQcMDxjZ"
      },
      "source": [
        "S1A1_9= list()\n",
        "S1B3_1 = list()\n",
        "for i in range(S1RGB_imgA1B3_1.shape[0]): \n",
        "     for j in range(S1RGB_imgA1B3_1.shape[1]): \n",
        "                if 1770<i<1880 and 1700<j<1830 :\n",
        "                    S1A1_9.append(S1RGB_imgA1B3_1[i][j])\n",
        "                if 1770<i<1880 and 2015<j<2145 :\n",
        "                    S1B3_1.append(S1RGB_imgA1B3_1[i][j])"
      ],
      "execution_count": null,
      "outputs": []
    },
    {
      "cell_type": "code",
      "metadata": {
        "id": "Ci0cVh1ND2Hl"
      },
      "source": [
        "S1A1_10= list()\n",
        "S1B4_1 = list()\n",
        "for i in range(S1RGB_imgA1B4_1.shape[0]): \n",
        "     for j in range(S1RGB_imgA1B4_1.shape[1]): \n",
        "                if 1770<i<1880 and 1700<j<1830 :\n",
        "                    S1A1_10.append(S1RGB_imgA1B4_1[i][j])\n",
        "                if 1770<i<1880 and 2015<j<2145 :\n",
        "                    S1B4_1.append(S1RGB_imgA1B4_1[i][j])"
      ],
      "execution_count": null,
      "outputs": []
    },
    {
      "cell_type": "code",
      "metadata": {
        "id": "FwSZ_HixEDkc"
      },
      "source": [
        "S1A1_11= list()\n",
        "S1C1_2 = list()\n",
        "for i in range(S1RGB_imgA1C1_1.shape[0]): \n",
        "     for j in range(S1RGB_imgA1C1_1.shape[1]): \n",
        "                if 1770<i<1880 and 1700<j<1830 :\n",
        "                    S1A1_11.append(S1RGB_imgA1C1_1[i][j])\n",
        "                if 1770<i<1880 and 2015<j<2145 :\n",
        "                    S1C1_2.append(S1RGB_imgA1C1_1[i][j])   "
      ],
      "execution_count": null,
      "outputs": []
    },
    {
      "cell_type": "code",
      "metadata": {
        "id": "rrDRSrU6AnIl"
      },
      "source": [
        ""
      ],
      "execution_count": null,
      "outputs": []
    },
    {
      "cell_type": "code",
      "metadata": {
        "id": "DWeSxQyvEDkc"
      },
      "source": [
        "S1A1_12= list()\n",
        "S1C2_1 = list()\n",
        "for i in range(S1RGB_imgA1C2_1.shape[0]): \n",
        "     for j in range(S1RGB_imgA1C2_1.shape[1]): \n",
        "                if 1770<i<1880 and 1700<j<1830 :\n",
        "                    S1A1_12.append(S1RGB_imgA1C2_1[i][j])\n",
        "                if 1770<i<1880 and 2015<j<2145 :\n",
        "                    S1C2_1.append(S1RGB_imgA1C2_1[i][j])   "
      ],
      "execution_count": null,
      "outputs": []
    },
    {
      "cell_type": "code",
      "metadata": {
        "id": "X0Qjr2CGEDkc"
      },
      "source": [
        "S1A1_13= list()\n",
        "S1C3_1 = list()\n",
        "for i in range(S1RGB_imgA1C3_1.shape[0]): \n",
        "     for j in range(S1RGB_imgA1C3_1.shape[1]): \n",
        "                if 1770<i<1880 and 1700<j<1830 :\n",
        "                    S1A1_13.append(S1RGB_imgA1C3_1[i][j])\n",
        "                if 1770<i<1880 and 2015<j<2145 :\n",
        "                    S1C3_1.append(S1RGB_imgA1C3_1[i][j])   "
      ],
      "execution_count": null,
      "outputs": []
    },
    {
      "cell_type": "code",
      "metadata": {
        "id": "aEusPTDaEDkd"
      },
      "source": [
        "S1A1_14= list()\n",
        "S1C4_1 = list()\n",
        "for i in range(S1RGB_imgA1C4_1.shape[0]): \n",
        "     for j in range(S1RGB_imgA1C4_1.shape[1]): \n",
        "                if 1770<i<1880 and 1700<j<1830 :\n",
        "                    S1A1_14.append(S1RGB_imgA1C4_1[i][j])\n",
        "                if 1770<i<1880 and 2015<j<2145 :\n",
        "                    S1C4_1.append(S1RGB_imgA1C4_1[i][j])"
      ],
      "execution_count": null,
      "outputs": []
    },
    {
      "cell_type": "code",
      "metadata": {
        "id": "NNRFIYC5Eo_j"
      },
      "source": [
        "S1A1_15= list()\n",
        "S1D2_1 = list()\n",
        "for i in range(S1RGB_imgA1D2_1.shape[0]): \n",
        "     for j in range(S1RGB_imgA1D2_1.shape[1]): \n",
        "                if 1770<i<1880 and 1700<j<1830 :\n",
        "                    S1A1_15.append(S1RGB_imgA1D2_1[i][j])\n",
        "                if 1770<i<1880 and 2015<j<2145 :\n",
        "                    S1D2_1.append(S1RGB_imgA1D2_1[i][j])   "
      ],
      "execution_count": null,
      "outputs": []
    },
    {
      "cell_type": "code",
      "metadata": {
        "id": "CJbu45bPEo_j"
      },
      "source": [
        "S1A1_16= list()\n",
        "S1D3_1 = list()\n",
        "for i in range(S1RGB_imgA1D3_1.shape[0]): \n",
        "     for j in range(S1RGB_imgA1D3_1.shape[1]): \n",
        "                if 1770<i<1880 and 1700<j<1830 :\n",
        "                    S1A1_16.append(S1RGB_imgA1D3_1[i][j])\n",
        "                if 1770<i<1880 and 2015<j<2145 :\n",
        "                    S1D3_1.append(S1RGB_imgA1D3_1[i][j])   "
      ],
      "execution_count": null,
      "outputs": []
    },
    {
      "cell_type": "code",
      "metadata": {
        "id": "DR9Fo_1cEo_j"
      },
      "source": [
        "S1A1_17= list()\n",
        "S1D4_1 = list()\n",
        "for i in range(S1RGB_imgA1D4_1.shape[0]): \n",
        "     for j in range(S1RGB_imgA1D4_1.shape[1]): \n",
        "                if 1770<i<1880 and 1700<j<1830 :\n",
        "                    S1A1_14.append(S1RGB_imgA1D4_1[i][j])\n",
        "                if 1770<i<1880 and 2015<j<2145 :\n",
        "                    S1D4_1.append(S1RGB_imgA1D4_1[i][j])"
      ],
      "execution_count": null,
      "outputs": []
    },
    {
      "cell_type": "markdown",
      "metadata": {
        "id": "lSsfyHv-rhBP"
      },
      "source": [
        "##HSV"
      ]
    },
    {
      "cell_type": "code",
      "metadata": {
        "id": "_lJDvsPVri6j"
      },
      "source": [
        "S1A1_1= list()\n",
        "S1A1_2 = list()\n",
        "for i in range(S1HSV_imgA1A1_1.shape[0]): #ให้ i รันตาม row หรือ shape[0] คือแถว มีทั้งหมด 4032 แถว ของภาพที่ปรับขนาดมาแล้ว\n",
        "     for j in range(S1HSV_imgA1A1_1.shape[1]): #ให้ j รันตาม colum มีทั้งหมด 3024 colum เช่น แถวที่ 1 เข้ามาให้รันครบ 3024colum\n",
        "                if 1770<i<1880 and 1700<j<1830 :\n",
        "                    S1A1_1.append(S1HSV_imgA1A1_1[i][j])\n",
        "                if 1770<i<1880 and 2015<j<2145 :\n",
        "                    S1A1_2.append(S1HSV_imgA1A1_1[i][j])"
      ],
      "execution_count": null,
      "outputs": []
    },
    {
      "cell_type": "code",
      "metadata": {
        "id": "xg5rxqssri8r"
      },
      "source": [
        "S1A1_3= list()\n",
        "S1A2_1 = list()\n",
        "for i in range(S1HSV_imgA1A2_1.shape[0]): \n",
        "     for j in range(S1HSV_imgA1A2_1.shape[1]): \n",
        "                if 1770<i<1880 and 1700<j<1830 :\n",
        "                    S1A1_3.append(S1HSV_imgA1A2_1[i][j])\n",
        "                if 1770<i<1880 and 2015<j<2145 :\n",
        "                    S1A2_1.append(S1HSV_imgA1A2_1[i][j])"
      ],
      "execution_count": null,
      "outputs": []
    },
    {
      "cell_type": "code",
      "metadata": {
        "id": "Q22bz7Yrs1du"
      },
      "source": [
        "S1A1_4= list()\n",
        "S1A3_1 = list()\n",
        "for i in range(S1HSV_imgA1A3_1.shape[0]): \n",
        "     for j in range(S1HSV_imgA1A3_1.shape[1]): \n",
        "                if 1770<i<1880 and 1700<j<1830 :\n",
        "                    S1A1_4.append(S1HSV_imgA1A3_1[i][j])\n",
        "                if 1770<i<1880 and 2015<j<2145 :\n",
        "                    S1A3_1.append(S1HSV_imgA1A3_1[i][j])   "
      ],
      "execution_count": null,
      "outputs": []
    },
    {
      "cell_type": "code",
      "metadata": {
        "id": "Xcj9y6qOs1dv"
      },
      "source": [
        "S1A1_5= list()\n",
        "S1A3_51 = list()\n",
        "for i in range(S1HSV_imgA1A3_51.shape[0]): \n",
        "     for j in range(S1HSV_imgA1A3_51.shape[1]): \n",
        "                if 1770<i<1880 and 1700<j<1830 :\n",
        "                    S1A1_5.append(S1HSV_imgA1A3_51[i][j])\n",
        "                if 1770<i<1880 and 2015<j<2145 :\n",
        "                    S1A3_51.append(S1HSV_imgA1A3_51[i][j])"
      ],
      "execution_count": null,
      "outputs": []
    },
    {
      "cell_type": "code",
      "metadata": {
        "id": "4Nr5niAos1dv"
      },
      "source": [
        "S1A1_6= list()\n",
        "S1A4_1 = list()\n",
        "for i in range(S1HSV_imgA1A4_1.shape[0]): \n",
        "     for j in range(S1HSV_imgA1A4_1.shape[1]): \n",
        "                if 1770<i<1880 and 1700<j<1830 :\n",
        "                    S1A1_6.append(S1HSV_imgA1A4_1[i][j])\n",
        "                if 1770<i<1880 and 2015<j<2145 :\n",
        "                    S1A4_1.append(S1HSV_imgA1A4_1[i][j])"
      ],
      "execution_count": null,
      "outputs": []
    },
    {
      "cell_type": "code",
      "metadata": {
        "id": "XtM4OpaFs1dw"
      },
      "source": [
        "S1A1_7= list()\n",
        "S1B1_1 = list()\n",
        "for i in range(S1HSV_imgA1B1_1.shape[0]): \n",
        "     for j in range(S1HSV_imgA1B1_1.shape[1]): \n",
        "                if 1770<i<1880 and 1700<j<1830 :\n",
        "                    S1A1_7.append(S1HSV_imgA1B1_1[i][j])\n",
        "                if 1770<i<1880 and 2015<j<2145 :\n",
        "                    S1B1_1.append(S1HSV_imgA1B1_1[i][j])"
      ],
      "execution_count": null,
      "outputs": []
    },
    {
      "cell_type": "code",
      "metadata": {
        "id": "kAO2yxCls1dw"
      },
      "source": [
        "S1A1_8= list()\n",
        "S1B2_1 = list()\n",
        "for i in range(S1HSV_imgA1B2_1.shape[0]): \n",
        "     for j in range(S1HSV_imgA1B2_1.shape[1]): \n",
        "                if 1770<i<1880 and 1700<j<1830 :\n",
        "                    S1A1_8.append(S1HSV_imgA1B2_1[i][j])\n",
        "                if 1770<i<1880 and 2015<j<2145 :\n",
        "                    S1B2_1.append(S1HSV_imgA1B2_1[i][j])"
      ],
      "execution_count": null,
      "outputs": []
    },
    {
      "cell_type": "code",
      "metadata": {
        "id": "E9PqbDEUs1dw"
      },
      "source": [
        "S1A1_9= list()\n",
        "S1B3_1 = list()\n",
        "for i in range(S1HSV_imgA1B3_1.shape[0]): \n",
        "     for j in range(S1HSV_imgA1B3_1.shape[1]): \n",
        "                if 1770<i<1880 and 1700<j<1830 :\n",
        "                    S1A1_9.append(S1HSV_imgA1B3_1[i][j])\n",
        "                if 1770<i<1880 and 2015<j<2145 :\n",
        "                    S1B3_1.append(S1HSV_imgA1B3_1[i][j])"
      ],
      "execution_count": null,
      "outputs": []
    },
    {
      "cell_type": "code",
      "metadata": {
        "id": "Bjjr3OtFs1dx"
      },
      "source": [
        "S1A1_10= list()\n",
        "S1B4_1 = list()\n",
        "for i in range(S1HSV_imgA1B4_1.shape[0]): \n",
        "     for j in range(S1HSV_imgA1B4_1.shape[1]): \n",
        "                if 1770<i<1880 and 1700<j<1830 :\n",
        "                    S1A1_10.append(S1HSV_imgA1B4_1[i][j])\n",
        "                if 1770<i<1880 and 2015<j<2145 :\n",
        "                    S1B4_1.append(S1HSV_imgA1B4_1[i][j])"
      ],
      "execution_count": null,
      "outputs": []
    },
    {
      "cell_type": "code",
      "metadata": {
        "id": "2cD6X557s1dx"
      },
      "source": [
        "S1A1_11= list()\n",
        "S1C1_2 = list()\n",
        "for i in range(S1HSV_imgA1C1_1.shape[0]): \n",
        "     for j in range(S1HSV_imgA1C1_1.shape[1]): \n",
        "                if 1770<i<1880 and 1700<j<1830 :\n",
        "                    S1A1_11.append(S1HSV_imgA1C1_1[i][j])\n",
        "                if 1770<i<1880 and 2015<j<2145 :\n",
        "                    S1C1_2.append(S1HSV_imgA1C1_1[i][j])   "
      ],
      "execution_count": null,
      "outputs": []
    },
    {
      "cell_type": "code",
      "metadata": {
        "id": "9Bh77xBws1dy"
      },
      "source": [
        "S1A1_12= list()\n",
        "S1C2_1 = list()\n",
        "for i in range(S1HSV_imgA1C2_1.shape[0]): \n",
        "     for j in range(S1HSV_imgA1C2_1.shape[1]): \n",
        "                if 1770<i<1880 and 1700<j<1830 :\n",
        "                    S1A1_12.append(S1HSV_imgA1C2_1[i][j])\n",
        "                if 1770<i<1880 and 2015<j<2145 :\n",
        "                    S1C2_1.append(S1HSV_imgA1C2_1[i][j])   "
      ],
      "execution_count": null,
      "outputs": []
    },
    {
      "cell_type": "code",
      "metadata": {
        "id": "8BnrG1t3s1dy"
      },
      "source": [
        "S1A1_13= list()\n",
        "S1C3_1 = list()\n",
        "for i in range(S1HSV_imgA1C3_1.shape[0]): \n",
        "     for j in range(S1HSV_imgA1C3_1.shape[1]): \n",
        "                if 1770<i<1880 and 1700<j<1830 :\n",
        "                    S1A1_13.append(S1HSV_imgA1C3_1[i][j])\n",
        "                if 1770<i<1880 and 2015<j<2145 :\n",
        "                    S1C3_1.append(S1HSV_imgA1C3_1[i][j])   "
      ],
      "execution_count": null,
      "outputs": []
    },
    {
      "cell_type": "code",
      "metadata": {
        "id": "pn3ABgm7s1dz"
      },
      "source": [
        "S1A1_14= list()\n",
        "S1C4_1 = list()\n",
        "for i in range(S1HSV_imgA1C4_1.shape[0]): \n",
        "     for j in range(S1HSV_imgA1C4_1.shape[1]): \n",
        "                if 1770<i<1880 and 1700<j<1830 :\n",
        "                    S1A1_14.append(S1HSV_imgA1C4_1[i][j])\n",
        "                if 1770<i<1880 and 2015<j<2145 :\n",
        "                    S1C4_1.append(S1HSV_imgA1C4_1[i][j])"
      ],
      "execution_count": null,
      "outputs": []
    },
    {
      "cell_type": "code",
      "metadata": {
        "id": "Bj_oz64Xs1d0"
      },
      "source": [
        "S1A1_15= list()\n",
        "S1D2_1 = list()\n",
        "for i in range(S1HSV_imgA1D2_1.shape[0]): \n",
        "     for j in range(S1HSV_imgA1D2_1.shape[1]): \n",
        "                if 1770<i<1880 and 1700<j<1830 :\n",
        "                    S1A1_15.append(S1HSV_imgA1D2_1[i][j])\n",
        "                if 1770<i<1880 and 2015<j<2145 :\n",
        "                    S1D2_1.append(S1HSV_imgA1D2_1[i][j])   "
      ],
      "execution_count": null,
      "outputs": []
    },
    {
      "cell_type": "code",
      "metadata": {
        "id": "zYDvOvcos1d0"
      },
      "source": [
        "S1A1_16= list()\n",
        "S1D3_1 = list()\n",
        "for i in range(S1HSV_imgA1D3_1.shape[0]): \n",
        "     for j in range(S1HSV_imgA1D3_1.shape[1]): \n",
        "                if 1770<i<1880 and 1700<j<1830 :\n",
        "                    S1A1_16.append(S1HSV_imgA1D3_1[i][j])\n",
        "                if 1770<i<1880 and 2015<j<2145 :\n",
        "                    S1D3_1.append(S1HSV_imgA1D3_1[i][j])   "
      ],
      "execution_count": null,
      "outputs": []
    },
    {
      "cell_type": "code",
      "metadata": {
        "id": "Y6imBIV9s1d1"
      },
      "source": [
        "S1A1_17= list()\n",
        "S1D4_1 = list()\n",
        "for i in range(S1HSV_imgA1D4_1.shape[0]): \n",
        "     for j in range(S1HSV_imgA1D4_1.shape[1]): \n",
        "                if 1770<i<1880 and 1700<j<1830 :\n",
        "                    S1A1_14.append(S1HSV_imgA1D4_1[i][j])\n",
        "                if 1770<i<1880 and 2015<j<2145 :\n",
        "                    S1D4_1.append(S1HSV_imgA1D4_1[i][j])"
      ],
      "execution_count": null,
      "outputs": []
    },
    {
      "cell_type": "code",
      "metadata": {
        "id": "O7R_fNWJrkmN"
      },
      "source": [
        ""
      ],
      "execution_count": null,
      "outputs": []
    },
    {
      "cell_type": "markdown",
      "metadata": {
        "id": "7KPqBEcdIXnZ"
      },
      "source": [
        "#6. หาค่า Mean"
      ]
    },
    {
      "cell_type": "code",
      "metadata": {
        "id": "tePep_ujIfg2"
      },
      "source": [
        "import numpy as np"
      ],
      "execution_count": null,
      "outputs": []
    },
    {
      "cell_type": "markdown",
      "metadata": {
        "id": "CkCYreCNIxic"
      },
      "source": [
        "##Set1"
      ]
    },
    {
      "cell_type": "markdown",
      "metadata": {
        "id": "98w4NYwsuHUG"
      },
      "source": [
        "##RGB"
      ]
    },
    {
      "cell_type": "code",
      "metadata": {
        "id": "VLEHrLHLItVX",
        "colab": {
          "base_uri": "https://localhost:8080/"
        },
        "outputId": "d70f99dc-524c-4c8f-d433-273328ec6d6d"
      },
      "source": [
        "S1meanrefA1_1 = list()\n",
        "S1meanA1_2 = list()\n",
        "for i in range(S1RGB_imgA1A1_1.shape[0]): #ให้ i รันตาม row หรือ shape[0] คือแถว มีทั้งหมด 4032 แถว ของภาพที่ปรับขนาดมาแล้ว\n",
        "     for j in range(S1RGB_imgA1A1_1.shape[1]): #ให้ j รันตาม colum มีทั้งหมด 3024 colum เช่น แถวที่ 1 เข้ามาให้รันครบ 3024colum\n",
        "                if 1769<i<1881 and 2019<j<2131 :\n",
        "                  S1meanrefA1_1.append(S1RGB_imgA1A1_1[i][j])\n",
        "                if 1770<i<1880 and 2015<j<2145 :\n",
        "                  S1meanA1_2.append(S1RGB_imgA1A1_1[i][j])  \n",
        "S1meanrefA1_1 = np.array(S1meanrefA1_1)\n",
        "S1meanA1_2 = np.array(S1meanA1_2)\n",
        "\n",
        "S1labrefA1_1 = list()\n",
        "S1labA1_2 = list()\n",
        "for i in range(3):\n",
        "    S1labrefA1_1.append(S1meanrefA1_1[:,i].mean())\n",
        "    S1labA1_2.append(S1meanA1_2[:,i].mean())\n",
        "S1labrefA1_1,S1labA1_2 "
      ],
      "execution_count": null,
      "outputs": [
        {
          "output_type": "execute_result",
          "data": {
            "text/plain": [
              "([237.14446879311745, 225.53786218651084, 191.67080594107622],\n",
              " [237.80918853566604, 226.41682668373517, 193.19536306094872])"
            ]
          },
          "metadata": {},
          "execution_count": 288
        }
      ]
    },
    {
      "cell_type": "code",
      "metadata": {
        "id": "TPULWoc0JT9L"
      },
      "source": [
        "S1meanrefA1_3 = list()\n",
        "S1meanA2_1 = list()\n",
        "for i in range(S1RGB_imgA1A2_1.shape[0]): \n",
        "     for j in range(S1RGB_imgA1A2_1.shape[1]): \n",
        "                if 1769<i<1881 and 2019<j<2131 :\n",
        "                  S1meanrefA1_3.append(S1RGB_imgA1A2_1[i][j])\n",
        "                if 1770<i<1880 and 2015<j<2145 :\n",
        "                  S1meanA2_1.append(S1RGB_imgA1A2_1[i][j])  \n",
        "S1meanrefA1_3 = np.array(S1meanrefA1_3)\n",
        "S1meanA2_1 = np.array(S1meanA2_1)\n",
        "\n",
        "S1labrefA1_3 = list()\n",
        "S1labA2_1 = list()\n",
        "for i in range(3):\n",
        "    S1labrefA1_3.append(S1meanrefA1_3[:,i].mean())\n",
        "    S1labA2_1.append(S1meanA2_1[:,i].mean())"
      ],
      "execution_count": null,
      "outputs": []
    },
    {
      "cell_type": "code",
      "metadata": {
        "id": "jYWdd4U6Kl7f"
      },
      "source": [
        "S1meanrefA1_4 = list()\n",
        "S1meanA3_1 = list()\n",
        "for i in range(S1RGB_imgA1A3_1.shape[0]): \n",
        "     for j in range(S1RGB_imgA1A3_1.shape[1]): \n",
        "                if 1769<i<1881 and 2019<j<2131 :\n",
        "                  S1meanrefA1_4.append(S1RGB_imgA1A3_1[i][j])\n",
        "                if 1770<i<1880 and 2015<j<2145 :\n",
        "                  S1meanA3_1.append(S1RGB_imgA1A3_1[i][j])  \n",
        "S1meanrefA1_4 = np.array(S1meanrefA1_4)\n",
        "S1meanA3_1 = np.array(S1meanA3_1)\n",
        "\n",
        "S1labrefA1_4 = list()\n",
        "S1labA3_1 = list()\n",
        "for i in range(3):\n",
        "    S1labrefA1_4.append(S1meanrefA1_4[:,i].mean())\n",
        "    S1labA3_1.append(S1meanA3_1[:,i].mean())"
      ],
      "execution_count": null,
      "outputs": []
    },
    {
      "cell_type": "code",
      "metadata": {
        "id": "OU2xD0SEK14J"
      },
      "source": [
        "S1meanrefA1_5 = list()\n",
        "S1meanA3_51 = list()\n",
        "for i in range(S1RGB_imgA1A3_51.shape[0]): \n",
        "     for j in range(S1RGB_imgA1A3_51.shape[1]): \n",
        "                if 1769<i<1881 and 2019<j<2131 :\n",
        "                  S1meanrefA1_5.append(S1RGB_imgA1A3_51[i][j])\n",
        "                if 1770<i<1880 and 2015<j<2145 :\n",
        "                  S1meanA3_51.append(S1RGB_imgA1A3_51[i][j])  \n",
        "S1meanrefA1_5 = np.array(S1meanrefA1_5)\n",
        "S1meanA3_51 = np.array(S1meanA3_51)\n",
        "\n",
        "S1labrefA1_5 = list()\n",
        "S1labA3_51 = list()\n",
        "for i in range(3):\n",
        "    S1labrefA1_5.append(S1meanrefA1_5[:,i].mean())\n",
        "    S1labA3_51.append(S1meanA3_51[:,i].mean())"
      ],
      "execution_count": null,
      "outputs": []
    },
    {
      "cell_type": "code",
      "metadata": {
        "id": "vCXxutjOLEb5"
      },
      "source": [
        "S1meanrefA1_6 = list()\n",
        "S1meanA4_1 = list()\n",
        "for i in range(S1RGB_imgA1A4_1.shape[0]): \n",
        "     for j in range(S1RGB_imgA1A4_1.shape[1]): \n",
        "                if 1769<i<1881 and 2019<j<2131 :\n",
        "                  S1meanrefA1_6.append(S1RGB_imgA1A4_1[i][j])\n",
        "                if 1770<i<1880 and 2015<j<2145 :\n",
        "                  S1meanA4_1.append(S1RGB_imgA1A4_1[i][j])  \n",
        "S1meanrefA1_6 = np.array(S1meanrefA1_6)\n",
        "S1meanA4_1 = np.array(S1meanA4_1)\n",
        "\n",
        "S1labrefA1_6 = list()\n",
        "S1labA4_1 = list()\n",
        "for i in range(3):\n",
        "    S1labrefA1_6.append(S1meanrefA1_6[:,i].mean())\n",
        "    S1labA4_1.append(S1meanA4_1[:,i].mean())"
      ],
      "execution_count": null,
      "outputs": []
    },
    {
      "cell_type": "code",
      "metadata": {
        "id": "Te2hqmb4LbG7"
      },
      "source": [
        "S1meanrefA1_7 = list()\n",
        "S1meanB1_1 = list()\n",
        "for i in range(S1RGB_imgA1B1_1.shape[0]): \n",
        "     for j in range(S1RGB_imgA1B1_1.shape[1]): \n",
        "                if 1769<i<1881 and 2019<j<2131 :\n",
        "                  S1meanrefA1_7.append(S1RGB_imgA1B1_1[i][j])\n",
        "                if 1770<i<1880 and 2015<j<2145 :\n",
        "                  S1meanB1_1.append(S1RGB_imgA1B1_1[i][j])  \n",
        "S1meanrefA1_7 = np.array(S1meanrefA1_7)\n",
        "S1meanB1_1 = np.array(S1meanB1_1)\n",
        "\n",
        "S1labrefA1_7 = list()\n",
        "S1labB1_1 = list()\n",
        "for i in range(3):\n",
        "    S1labrefA1_7.append(S1meanrefA1_7[:,i].mean())\n",
        "    S1labB1_1.append(S1meanB1_1[:,i].mean())"
      ],
      "execution_count": null,
      "outputs": []
    },
    {
      "cell_type": "code",
      "metadata": {
        "id": "Q_VEx1q0LbG7"
      },
      "source": [
        "S1meanrefA1_8 = list()\n",
        "S1meanB2_1 = list()\n",
        "for i in range(S1RGB_imgA1B2_1.shape[0]): \n",
        "     for j in range(S1RGB_imgA1B2_1.shape[1]): \n",
        "                if 1769<i<1881 and 2019<j<2131 :\n",
        "                  S1meanrefA1_8.append(S1RGB_imgA1B2_1[i][j])\n",
        "                if 1770<i<1880 and 2015<j<2145 :\n",
        "                  S1meanB2_1.append(S1RGB_imgA1B2_1[i][j])  \n",
        "S1meanrefA1_8 = np.array(S1meanrefA1_8)\n",
        "S1meanB2_1 = np.array(S1meanB2_1)\n",
        "\n",
        "S1labrefA1_8 = list()\n",
        "S1labB2_1 = list()\n",
        "for i in range(3):\n",
        "    S1labrefA1_8.append(S1meanrefA1_8[:,i].mean())\n",
        "    S1labB2_1.append(S1meanB2_1[:,i].mean())"
      ],
      "execution_count": null,
      "outputs": []
    },
    {
      "cell_type": "code",
      "metadata": {
        "id": "6h5EfHY1LbG7"
      },
      "source": [
        "S1meanrefA1_9 = list()\n",
        "S1meanB3_1 = list()\n",
        "for i in range(S1RGB_imgA1B3_1.shape[0]): \n",
        "     for j in range(S1RGB_imgA1B3_1.shape[1]): \n",
        "                if 1769<i<1881 and 2019<j<2131 :\n",
        "                  S1meanrefA1_9.append(S1RGB_imgA1B3_1[i][j])\n",
        "                if 1770<i<1880 and 2015<j<2145 :\n",
        "                  S1meanB3_1.append(S1RGB_imgA1B3_1[i][j])  \n",
        "S1meanrefA1_9 = np.array(S1meanrefA1_9)\n",
        "S1meanB3_1 = np.array(S1meanB3_1)\n",
        "\n",
        "S1labrefA1_9 = list()\n",
        "S1labB3_1 = list()\n",
        "for i in range(3):\n",
        "    S1labrefA1_9.append(S1meanrefA1_9[:,i].mean())\n",
        "    S1labB3_1.append(S1meanB3_1[:,i].mean())"
      ],
      "execution_count": null,
      "outputs": []
    },
    {
      "cell_type": "code",
      "metadata": {
        "id": "TjKejQxXL9Xb"
      },
      "source": [
        "S1meanrefA1_10 = list()\n",
        "S1meanB4_1 = list()\n",
        "for i in range(S1RGB_imgA1B4_1.shape[0]): \n",
        "     for j in range(S1RGB_imgA1B4_1.shape[1]): \n",
        "                if 1769<i<1881 and 2019<j<2131 :\n",
        "                  S1meanrefA1_10.append(S1RGB_imgA1B4_1[i][j])\n",
        "                if 1770<i<1880 and 2015<j<2145 :\n",
        "                  S1meanB4_1.append(S1RGB_imgA1B4_1[i][j])  \n",
        "S1meanrefA1_10 = np.array(S1meanrefA1_10)\n",
        "S1meanB4_1 = np.array(S1meanB4_1)\n",
        "\n",
        "S1labrefA1_10 = list()\n",
        "S1labB4_1 = list()\n",
        "for i in range(3):\n",
        "    S1labrefA1_10.append(S1meanrefA1_10[:,i].mean())\n",
        "    S1labB4_1.append(S1meanB4_1[:,i].mean())"
      ],
      "execution_count": null,
      "outputs": []
    },
    {
      "cell_type": "code",
      "metadata": {
        "id": "Y8X8SmoGMihg"
      },
      "source": [
        "S1meanrefA1_11 = list()\n",
        "S1meanC1_1 = list()\n",
        "for i in range(S1RGB_imgA1C1_1.shape[0]): \n",
        "     for j in range(S1RGB_imgA1C1_1.shape[1]): \n",
        "                if 1769<i<1881 and 2019<j<2131 :\n",
        "                  S1meanrefA1_11.append(S1RGB_imgA1C1_1[i][j])\n",
        "                if 1770<i<1880 and 2015<j<2145 :\n",
        "                  S1meanC1_1.append(S1RGB_imgA1C1_1[i][j])  \n",
        "S1meanrefA1_11 = np.array(S1meanrefA1_11)\n",
        "S1meanC1_1 = np.array(S1meanC1_1)\n",
        "\n",
        "S1labrefA1_11 = list()\n",
        "S1labC1_1 = list()\n",
        "for i in range(3):\n",
        "    S1labrefA1_7.append(S1meanrefA1_11[:,i].mean())\n",
        "    S1labC1_1.append(S1meanC1_1[:,i].mean())"
      ],
      "execution_count": null,
      "outputs": []
    },
    {
      "cell_type": "code",
      "metadata": {
        "id": "Av_eHI6jMihg"
      },
      "source": [
        "S1meanrefA1_12 = list()\n",
        "S1meanC2_1 = list()\n",
        "for i in range(S1RGB_imgA1C2_1.shape[0]): \n",
        "     for j in range(S1RGB_imgA1C2_1.shape[1]): \n",
        "                if 1769<i<1881 and 2019<j<2131 :\n",
        "                  S1meanrefA1_12.append(S1RGB_imgA1C2_1[i][j])\n",
        "                if 1770<i<1880 and 2015<j<2145 :\n",
        "                  S1meanC2_1.append(S1RGB_imgA1C2_1[i][j])  \n",
        "S1meanrefA1_12 = np.array(S1meanrefA1_12)\n",
        "S1meanC2_1 = np.array(S1meanC2_1)\n",
        "\n",
        "S1labrefA1_12 = list()\n",
        "S1labC2_1 = list()\n",
        "for i in range(3):\n",
        "    S1labrefA1_12.append(S1meanrefA1_12[:,i].mean())\n",
        "    S1labC2_1.append(S1meanC2_1[:,i].mean())"
      ],
      "execution_count": null,
      "outputs": []
    },
    {
      "cell_type": "code",
      "metadata": {
        "id": "lOvykBc7Mihg"
      },
      "source": [
        "S1meanrefA1_13 = list()\n",
        "S1meanC3_1 = list()\n",
        "for i in range(S1RGB_imgA1C3_1.shape[0]): \n",
        "     for j in range(S1RGB_imgA1C3_1.shape[1]): \n",
        "                if 1769<i<1881 and 2019<j<2131 :\n",
        "                  S1meanrefA1_13.append(S1RGB_imgA1C3_1[i][j])\n",
        "                if 1770<i<1880 and 2015<j<2145 :\n",
        "                  S1meanC3_1.append(S1RGB_imgA1C3_1[i][j])  \n",
        "S1meanrefA1_13 = np.array(S1meanrefA1_13)\n",
        "S1meanC3_1 = np.array(S1meanC3_1)\n",
        "\n",
        "S1labrefA1_13 = list()\n",
        "S1labC3_1 = list()\n",
        "for i in range(3):\n",
        "    S1labrefA1_13.append(S1meanrefA1_13[:,i].mean())\n",
        "    S1labC3_1.append(S1meanC3_1[:,i].mean())"
      ],
      "execution_count": null,
      "outputs": []
    },
    {
      "cell_type": "code",
      "metadata": {
        "id": "YdNqiN2LMihg"
      },
      "source": [
        "S1meanrefA1_14 = list()\n",
        "S1meanC4_1 = list()\n",
        "for i in range(S1RGB_imgA1C4_1.shape[0]): \n",
        "     for j in range(S1RGB_imgA1C4_1.shape[1]): \n",
        "                if 1769<i<1881 and 2019<j<2131 :\n",
        "                  S1meanrefA1_14.append(S1RGB_imgA1C4_1[i][j])\n",
        "                if 1770<i<1880 and 2015<j<2145 :\n",
        "                  S1meanC4_1.append(S1RGB_imgA1C4_1[i][j])  \n",
        "S1meanrefA1_14 = np.array(S1meanrefA1_14)\n",
        "S1meanC4_1 = np.array(S1meanC4_1)\n",
        "\n",
        "S1labrefA1_14 = list()\n",
        "S1labC4_1 = list()\n",
        "for i in range(3):\n",
        "    S1labrefA1_14.append(S1meanrefA1_14[:,i].mean())\n",
        "    S1labC4_1.append(S1meanC4_1[:,i].mean())"
      ],
      "execution_count": null,
      "outputs": []
    },
    {
      "cell_type": "code",
      "metadata": {
        "id": "U1oHIKdONm_p"
      },
      "source": [
        "S1meanrefA1_15 = list()\n",
        "S1meanD2_1 = list()\n",
        "for i in range(S1RGB_imgA1D2_1.shape[0]): \n",
        "     for j in range(S1RGB_imgA1D2_1.shape[1]): \n",
        "                if 1769<i<1881 and 2019<j<2131 :\n",
        "                  S1meanrefA1_15.append(S1RGB_imgA1D2_1[i][j])\n",
        "                if 1770<i<1880 and 2015<j<2145 :\n",
        "                  S1meanD2_1.append(S1RGB_imgA1D2_1[i][j])  \n",
        "S1meanrefA1_15 = np.array(S1meanrefA1_15)\n",
        "S1meanD2_1 = np.array(S1meanD2_1)\n",
        "\n",
        "S1labrefA1_15 = list()\n",
        "S1labD2_1 = list()\n",
        "for i in range(3):\n",
        "    S1labrefA1_15.append(S1meanrefA1_15[:,i].mean())\n",
        "    S1labD2_1.append(S1meanD2_1[:,i].mean())"
      ],
      "execution_count": null,
      "outputs": []
    },
    {
      "cell_type": "code",
      "metadata": {
        "id": "_O71JLAONm_p"
      },
      "source": [
        "S1meanrefA1_16 = list()\n",
        "S1meanD3_1 = list()\n",
        "for i in range(S1RGB_imgA1D3_1.shape[0]): \n",
        "     for j in range(S1RGB_imgA1D3_1.shape[1]): \n",
        "                if 1769<i<1881 and 2019<j<2131 :\n",
        "                  S1meanrefA1_16.append(S1RGB_imgA1D3_1[i][j])\n",
        "                if 1770<i<1880 and 2015<j<2145 :\n",
        "                  S1meanD3_1.append(S1RGB_imgA1D3_1[i][j])  \n",
        "S1meanrefA1_16 = np.array(S1meanrefA1_16)\n",
        "S1meanD3_1 = np.array(S1meanD3_1)\n",
        "\n",
        "S1labrefA1_16 = list()\n",
        "S1labD3_1 = list()\n",
        "for i in range(3):\n",
        "    S1labrefA1_16.append(S1meanrefA1_16[:,i].mean())\n",
        "    S1labD3_1.append(S1meanD3_1[:,i].mean())"
      ],
      "execution_count": null,
      "outputs": []
    },
    {
      "cell_type": "code",
      "metadata": {
        "id": "U29gI1aKNm_p"
      },
      "source": [
        "S1meanrefA1_17= list()\n",
        "S1meanD4_1 = list()\n",
        "for i in range(S1RGB_imgA1D4_1.shape[0]): \n",
        "     for j in range(S1RGB_imgA1D4_1.shape[1]): \n",
        "                if 1769<i<1881 and 2019<j<2131 :\n",
        "                  S1meanrefA1_17.append(S1RGB_imgA1D4_1[i][j])\n",
        "                if 1770<i<1880 and 2015<j<2145 :\n",
        "                  S1meanD4_1.append(S1RGB_imgA1D4_1[i][j])  \n",
        "S1meanrefA1_17 = np.array(S1meanrefA1_14)\n",
        "S1meanD4_1 = np.array(S1meanD4_1)\n",
        "\n",
        "S1labrefA1_17 = list()\n",
        "S1labD4_1 = list()\n",
        "for i in range(3):\n",
        "    S1labrefA1_17.append(S1meanrefA1_17[:,i].mean())\n",
        "    S1labD4_1.append(S1meanD4_1[:,i].mean())"
      ],
      "execution_count": null,
      "outputs": []
    },
    {
      "cell_type": "markdown",
      "metadata": {
        "id": "7OGOajgpt7TD"
      },
      "source": [
        "##HSV"
      ]
    },
    {
      "cell_type": "code",
      "metadata": {
        "colab": {
          "base_uri": "https://localhost:8080/"
        },
        "id": "gyewAPUYuQs5",
        "outputId": "d70f99dc-524c-4c8f-d433-273328ec6d6d"
      },
      "source": [
        "S1meanrefA1_1 = list()\n",
        "S1meanA1_2 = list()\n",
        "for i in range(S1HSV_imgA1A1_1.shape[0]): #ให้ i รันตาม row หรือ shape[0] คือแถว มีทั้งหมด 4032 แถว ของภาพที่ปรับขนาดมาแล้ว\n",
        "     for j in range(S1HSV_imgA1A1_1.shape[1]): #ให้ j รันตาม colum มีทั้งหมด 3024 colum เช่น แถวที่ 1 เข้ามาให้รันครบ 3024colum\n",
        "                if 1769<i<1881 and 2019<j<2131 :\n",
        "                  S1meanrefA1_1.append(S1HSV_imgA1A1_1[i][j])\n",
        "                if 1770<i<1880 and 2015<j<2145 :\n",
        "                  S1meanA1_2.append(S1HSV_imgA1A1_1[i][j])  \n",
        "S1meanrefA1_1 = np.array(S1meanrefA1_1)\n",
        "S1meanA1_2 = np.array(S1meanA1_2)\n",
        "\n",
        "S1labrefA1_1 = list()\n",
        "S1labA1_2 = list()\n",
        "for i in range(3):\n",
        "    S1labrefA1_1.append(S1meanrefA1_1[:,i].mean())\n",
        "    S1labA1_2.append(S1meanA1_2[:,i].mean())\n",
        "S1labrefA1_1,S1labA1_2 "
      ],
      "execution_count": null,
      "outputs": [
        {
          "output_type": "execute_result",
          "data": {
            "text/plain": [
              "([237.14446879311745, 225.53786218651084, 191.67080594107622],\n",
              " [237.80918853566604, 226.41682668373517, 193.19536306094872])"
            ]
          },
          "metadata": {},
          "execution_count": 288
        }
      ]
    },
    {
      "cell_type": "code",
      "metadata": {
        "id": "dK9vu9zRuQs7"
      },
      "source": [
        "S1meanrefA1_3 = list()\n",
        "S1meanA2_1 = list()\n",
        "for i in range(S1HSV_imgA1A2_1.shape[0]): \n",
        "     for j in range(S1HSV_imgA1A2_1.shape[1]): \n",
        "                if 1769<i<1881 and 2019<j<2131 :\n",
        "                  S1meanrefA1_3.append(S1HSV_imgA1A2_1[i][j])\n",
        "                if 1770<i<1880 and 2015<j<2145 :\n",
        "                  S1meanA2_1.append(S1HSV_imgA1A2_1[i][j])  \n",
        "S1meanrefA1_3 = np.array(S1meanrefA1_3)\n",
        "S1meanA2_1 = np.array(S1meanA2_1)\n",
        "\n",
        "S1labrefA1_3 = list()\n",
        "S1labA2_1 = list()\n",
        "for i in range(3):\n",
        "    S1labrefA1_3.append(S1meanrefA1_3[:,i].mean())\n",
        "    S1labA2_1.append(S1meanA2_1[:,i].mean())"
      ],
      "execution_count": null,
      "outputs": []
    },
    {
      "cell_type": "code",
      "metadata": {
        "id": "HVnaWekuuQs8"
      },
      "source": [
        "S1meanrefA1_4 = list()\n",
        "S1meanA3_1 = list()\n",
        "for i in range(S1HSV_imgA1A3_1.shape[0]): \n",
        "     for j in range(S1HSV_imgA1A3_1.shape[1]): \n",
        "                if 1769<i<1881 and 2019<j<2131 :\n",
        "                  S1meanrefA1_4.append(S1HSV_imgA1A3_1[i][j])\n",
        "                if 1770<i<1880 and 2015<j<2145 :\n",
        "                  S1meanA3_1.append(S1HSV_imgA1A3_1[i][j])  \n",
        "S1meanrefA1_4 = np.array(S1meanrefA1_4)\n",
        "S1meanA3_1 = np.array(S1meanA3_1)\n",
        "\n",
        "S1labrefA1_4 = list()\n",
        "S1labA3_1 = list()\n",
        "for i in range(3):\n",
        "    S1labrefA1_4.append(S1meanrefA1_4[:,i].mean())\n",
        "    S1labA3_1.append(S1meanA3_1[:,i].mean())"
      ],
      "execution_count": null,
      "outputs": []
    },
    {
      "cell_type": "code",
      "metadata": {
        "id": "-YCvbbWAuQs8"
      },
      "source": [
        "S1meanrefA1_5 = list()\n",
        "S1meanA3_51 = list()\n",
        "for i in range(S1HSV_imgA1A3_51.shape[0]): \n",
        "     for j in range(S1HSV_imgA1A3_51.shape[1]): \n",
        "                if 1769<i<1881 and 2019<j<2131 :\n",
        "                  S1meanrefA1_5.append(S1HSV_imgA1A3_51[i][j])\n",
        "                if 1770<i<1880 and 2015<j<2145 :\n",
        "                  S1meanA3_51.append(S1HSV_imgA1A3_51[i][j])  \n",
        "S1meanrefA1_5 = np.array(S1meanrefA1_5)\n",
        "S1meanA3_51 = np.array(S1meanA3_51)\n",
        "\n",
        "S1labrefA1_5 = list()\n",
        "S1labA3_51 = list()\n",
        "for i in range(3):\n",
        "    S1labrefA1_5.append(S1meanrefA1_5[:,i].mean())\n",
        "    S1labA3_51.append(S1meanA3_51[:,i].mean())"
      ],
      "execution_count": null,
      "outputs": []
    },
    {
      "cell_type": "code",
      "metadata": {
        "id": "UvZxCzLSuQs9"
      },
      "source": [
        "S1meanrefA1_6 = list()\n",
        "S1meanA4_1 = list()\n",
        "for i in range(S1HSV_imgA1A4_1.shape[0]): \n",
        "     for j in range(S1HSV_imgA1A4_1.shape[1]): \n",
        "                if 1769<i<1881 and 2019<j<2131 :\n",
        "                  S1meanrefA1_6.append(S1HSV_imgA1A4_1[i][j])\n",
        "                if 1770<i<1880 and 2015<j<2145 :\n",
        "                  S1meanA4_1.append(S1HSV_imgA1A4_1[i][j])  \n",
        "S1meanrefA1_6 = np.array(S1meanrefA1_6)\n",
        "S1meanA4_1 = np.array(S1meanA4_1)\n",
        "\n",
        "S1labrefA1_6 = list()\n",
        "S1labA4_1 = list()\n",
        "for i in range(3):\n",
        "    S1labrefA1_6.append(S1meanrefA1_6[:,i].mean())\n",
        "    S1labA4_1.append(S1meanA4_1[:,i].mean())"
      ],
      "execution_count": null,
      "outputs": []
    },
    {
      "cell_type": "code",
      "metadata": {
        "id": "_KgSdI0LuQs-"
      },
      "source": [
        "S1meanrefA1_7 = list()\n",
        "S1meanB1_1 = list()\n",
        "for i in range(S1HSV_imgA1B1_1.shape[0]): \n",
        "     for j in range(S1HSV_imgA1B1_1.shape[1]): \n",
        "                if 1769<i<1881 and 2019<j<2131 :\n",
        "                  S1meanrefA1_7.append(S1HSV_imgA1B1_1[i][j])\n",
        "                if 1770<i<1880 and 2015<j<2145 :\n",
        "                  S1meanB1_1.append(S1HSV_imgA1B1_1[i][j])  \n",
        "S1meanrefA1_7 = np.array(S1meanrefA1_7)\n",
        "S1meanB1_1 = np.array(S1meanB1_1)\n",
        "\n",
        "S1labrefA1_7 = list()\n",
        "S1labB1_1 = list()\n",
        "for i in range(3):\n",
        "    S1labrefA1_7.append(S1meanrefA1_7[:,i].mean())\n",
        "    S1labB1_1.append(S1meanB1_1[:,i].mean())"
      ],
      "execution_count": null,
      "outputs": []
    },
    {
      "cell_type": "code",
      "metadata": {
        "id": "D73bQNbSuQs_"
      },
      "source": [
        "S1meanrefA1_8 = list()\n",
        "S1meanB2_1 = list()\n",
        "for i in range(S1HSV_imgA1B2_1.shape[0]): \n",
        "     for j in range(S1HSV_imgA1B2_1.shape[1]): \n",
        "                if 1769<i<1881 and 2019<j<2131 :\n",
        "                  S1meanrefA1_8.append(S1HSV_imgA1B2_1[i][j])\n",
        "                if 1770<i<1880 and 2015<j<2145 :\n",
        "                  S1meanB2_1.append(S1HSV_imgA1B2_1[i][j])  \n",
        "S1meanrefA1_8 = np.array(S1meanrefA1_8)\n",
        "S1meanB2_1 = np.array(S1meanB2_1)\n",
        "\n",
        "S1labrefA1_8 = list()\n",
        "S1labB2_1 = list()\n",
        "for i in range(3):\n",
        "    S1labrefA1_8.append(S1meanrefA1_8[:,i].mean())\n",
        "    S1labB2_1.append(S1meanB2_1[:,i].mean())"
      ],
      "execution_count": null,
      "outputs": []
    },
    {
      "cell_type": "code",
      "metadata": {
        "id": "-2Um-Pq5uQtA"
      },
      "source": [
        "S1meanrefA1_9 = list()\n",
        "S1meanB3_1 = list()\n",
        "for i in range(S1HSV_imgA1B3_1.shape[0]): \n",
        "     for j in range(SHSV_imgA1B3_1.shape[1]): \n",
        "                if 1769<i<1881 and 2019<j<2131 :\n",
        "                  S1meanrefA1_9.append(S1HSV_imgA1B3_1[i][j])\n",
        "                if 1770<i<1880 and 2015<j<2145 :\n",
        "                  S1meanB3_1.append(S1HSV_imgA1B3_1[i][j])  \n",
        "S1meanrefA1_9 = np.array(S1meanrefA1_9)\n",
        "S1meanB3_1 = np.array(S1meanB3_1)\n",
        "\n",
        "S1labrefA1_9 = list()\n",
        "S1labB3_1 = list()\n",
        "for i in range(3):\n",
        "    S1labrefA1_9.append(S1meanrefA1_9[:,i].mean())\n",
        "    S1labB3_1.append(S1meanB3_1[:,i].mean())"
      ],
      "execution_count": null,
      "outputs": []
    },
    {
      "cell_type": "code",
      "metadata": {
        "id": "Bprrg-KQuQtB"
      },
      "source": [
        "S1meanrefA1_10 = list()\n",
        "S1meanB4_1 = list()\n",
        "for i in range(S1HSV_imgA1B4_1.shape[0]): \n",
        "     for j in range(S1HSV_imgA1B4_1.shape[1]): \n",
        "                if 1769<i<1881 and 2019<j<2131 :\n",
        "                  S1meanrefA1_10.append(S1HSV_imgA1B4_1[i][j])\n",
        "                if 1770<i<1880 and 2015<j<2145 :\n",
        "                  S1meanB4_1.append(S1HSV_imgA1B4_1[i][j])  \n",
        "S1meanrefA1_10 = np.array(S1meanrefA1_10)\n",
        "S1meanB4_1 = np.array(S1meanB4_1)\n",
        "\n",
        "S1labrefA1_10 = list()\n",
        "S1labB4_1 = list()\n",
        "for i in range(3):\n",
        "    S1labrefA1_10.append(S1meanrefA1_10[:,i].mean())\n",
        "    S1labB4_1.append(S1meanB4_1[:,i].mean())"
      ],
      "execution_count": null,
      "outputs": []
    },
    {
      "cell_type": "code",
      "metadata": {
        "id": "tM9mAjB8uQtB"
      },
      "source": [
        "S1meanrefA1_11 = list()\n",
        "S1meanC1_1 = list()\n",
        "for i in range(S1HSV_imgA1C1_1.shape[0]): \n",
        "     for j in range(S1HSV_imgA1C1_1.shape[1]): \n",
        "                if 1769<i<1881 and 2019<j<2131 :\n",
        "                  S1meanrefA1_11.append(S1HSV_imgA1C1_1[i][j])\n",
        "                if 1770<i<1880 and 2015<j<2145 :\n",
        "                  S1meanC1_1.append(S1HSV_imgA1C1_1[i][j])  \n",
        "S1meanrefA1_11 = np.array(S1meanrefA1_11)\n",
        "S1meanC1_1 = np.array(S1meanC1_1)\n",
        "\n",
        "S1labrefA1_11 = list()\n",
        "S1labC1_1 = list()\n",
        "for i in range(3):\n",
        "    S1labrefA1_7.append(S1meanrefA1_11[:,i].mean())\n",
        "    S1labC1_1.append(S1meanC1_1[:,i].mean())"
      ],
      "execution_count": null,
      "outputs": []
    },
    {
      "cell_type": "code",
      "metadata": {
        "id": "kDklKgouuQtC"
      },
      "source": [
        "S1meanrefA1_12 = list()\n",
        "S1meanC2_1 = list()\n",
        "for i in range(S1HSV_imgA1C2_1.shape[0]): \n",
        "     for j in range(S1HSV_imgA1C2_1.shape[1]): \n",
        "                if 1769<i<1881 and 2019<j<2131 :\n",
        "                  S1meanrefA1_12.append(S1HSV_imgA1C2_1[i][j])\n",
        "                if 1770<i<1880 and 2015<j<2145 :\n",
        "                  S1meanC2_1.append(S1HSV_imgA1C2_1[i][j])  \n",
        "S1meanrefA1_12 = np.array(S1meanrefA1_12)\n",
        "S1meanC2_1 = np.array(S1meanC2_1)\n",
        "\n",
        "S1labrefA1_12 = list()\n",
        "S1labC2_1 = list()\n",
        "for i in range(3):\n",
        "    S1labrefA1_12.append(S1meanrefA1_12[:,i].mean())\n",
        "    S1labC2_1.append(S1meanC2_1[:,i].mean())"
      ],
      "execution_count": null,
      "outputs": []
    },
    {
      "cell_type": "code",
      "metadata": {
        "id": "y5Ptet2IuQtC"
      },
      "source": [
        "S1meanrefA1_13 = list()\n",
        "S1meanC3_1 = list()\n",
        "for i in range(S1HSV_imgA1C3_1.shape[0]): \n",
        "     for j in range(S1HSV_imgA1C3_1.shape[1]): \n",
        "                if 1769<i<1881 and 2019<j<2131 :\n",
        "                  S1meanrefA1_13.append(S1HSV_imgA1C3_1[i][j])\n",
        "                if 1770<i<1880 and 2015<j<2145 :\n",
        "                  S1meanC3_1.append(S1HSV_imgA1C3_1[i][j])  \n",
        "S1meanrefA1_13 = np.array(S1meanrefA1_13)\n",
        "S1meanC3_1 = np.array(S1meanC3_1)\n",
        "\n",
        "S1labrefA1_13 = list()\n",
        "S1labC3_1 = list()\n",
        "for i in range(3):\n",
        "    S1labrefA1_13.append(S1meanrefA1_13[:,i].mean())\n",
        "    S1labC3_1.append(S1meanC3_1[:,i].mean())"
      ],
      "execution_count": null,
      "outputs": []
    },
    {
      "cell_type": "code",
      "metadata": {
        "id": "HukrHNNxuQtC"
      },
      "source": [
        "S1meanrefA1_14 = list()\n",
        "S1meanC4_1 = list()\n",
        "for i in range(S1HSV_imgA1C4_1.shape[0]): \n",
        "     for j in range(S1HSV_imgA1C4_1.shape[1]): \n",
        "                if 1769<i<1881 and 2019<j<2131 :\n",
        "                  S1meanrefA1_14.append(S1HSV_imgA1C4_1[i][j])\n",
        "                if 1770<i<1880 and 2015<j<2145 :\n",
        "                  S1meanC4_1.append(S1HSV_imgA1C4_1[i][j])  \n",
        "S1meanrefA1_14 = np.array(S1meanrefA1_14)\n",
        "S1meanC4_1 = np.array(S1meanC4_1)\n",
        "\n",
        "S1labrefA1_14 = list()\n",
        "S1labC4_1 = list()\n",
        "for i in range(3):\n",
        "    S1labrefA1_14.append(S1meanrefA1_14[:,i].mean())\n",
        "    S1labC4_1.append(S1meanC4_1[:,i].mean())"
      ],
      "execution_count": null,
      "outputs": []
    },
    {
      "cell_type": "code",
      "metadata": {
        "id": "EEzN-mXZuQtD"
      },
      "source": [
        "S1meanrefA1_15 = list()\n",
        "S1meanD2_1 = list()\n",
        "for i in range(S1HSV_imgA1D2_1.shape[0]): \n",
        "     for j in range(S1HSV_imgA1D2_1.shape[1]): \n",
        "                if 1769<i<1881 and 2019<j<2131 :\n",
        "                  S1meanrefA1_15.append(S1HSV_imgA1D2_1[i][j])\n",
        "                if 1770<i<1880 and 2015<j<2145 :\n",
        "                  S1meanD2_1.append(S1HSV_imgA1D2_1[i][j])  \n",
        "S1meanrefA1_15 = np.array(S1meanrefA1_15)\n",
        "S1meanD2_1 = np.array(S1meanD2_1)\n",
        "\n",
        "S1labrefA1_15 = list()\n",
        "S1labD2_1 = list()\n",
        "for i in range(3):\n",
        "    S1labrefA1_15.append(S1meanrefA1_15[:,i].mean())\n",
        "    S1labD2_1.append(S1meanD2_1[:,i].mean())"
      ],
      "execution_count": null,
      "outputs": []
    },
    {
      "cell_type": "code",
      "metadata": {
        "id": "ceqVIiUGuQtD"
      },
      "source": [
        "S1meanrefA1_16 = list()\n",
        "S1meanD3_1 = list()\n",
        "for i in range(S1HSV_imgA1D3_1.shape[0]): \n",
        "     for j in range(S1HSV_imgA1D3_1.shape[1]): \n",
        "                if 1769<i<1881 and 2019<j<2131 :\n",
        "                  S1meanrefA1_16.append(S1HSV_imgA1D3_1[i][j])\n",
        "                if 1770<i<1880 and 2015<j<2145 :\n",
        "                  S1meanD3_1.append(S1HSV_imgA1D3_1[i][j])  \n",
        "S1meanrefA1_16 = np.array(S1meanrefA1_16)\n",
        "S1meanD3_1 = np.array(S1meanD3_1)\n",
        "\n",
        "S1labrefA1_16 = list()\n",
        "S1labD3_1 = list()\n",
        "for i in range(3):\n",
        "    S1labrefA1_16.append(S1meanrefA1_16[:,i].mean())\n",
        "    S1labD3_1.append(S1meanD3_1[:,i].mean())"
      ],
      "execution_count": null,
      "outputs": []
    },
    {
      "cell_type": "code",
      "metadata": {
        "id": "GEl4Fv4ouQtD"
      },
      "source": [
        "S1meanrefA1_17= list()\n",
        "S1meanD4_1 = list()\n",
        "for i in range(S1HSV_imgA1D4_1.shape[0]): \n",
        "     for j in range(S1HSV_imgA1D4_1.shape[1]): \n",
        "                if 1769<i<1881 and 2019<j<2131 :\n",
        "                  S1meanrefA1_17.append(S1HSV_imgA1D4_1[i][j])\n",
        "                if 1770<i<1880 and 2015<j<2145 :\n",
        "                  S1meanD4_1.append(S1HSV_imgA1D4_1[i][j])  \n",
        "S1meanrefA1_17 = np.array(S1meanrefA1_14)\n",
        "S1meanD4_1 = np.array(S1meanD4_1)\n",
        "\n",
        "S1labrefA1_17 = list()\n",
        "S1labD4_1 = list()\n",
        "for i in range(3):\n",
        "    S1labrefA1_17.append(S1meanrefA1_17[:,i].mean())\n",
        "    S1labD4_1.append(S1meanD4_1[:,i].mean())"
      ],
      "execution_count": null,
      "outputs": []
    }
  ]
}