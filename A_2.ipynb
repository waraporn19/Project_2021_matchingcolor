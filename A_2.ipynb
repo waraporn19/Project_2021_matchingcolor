{
  "nbformat": 4,
  "nbformat_minor": 0,
  "metadata": {
    "colab": {
      "name": "A_2.ipynb",
      "provenance": [],
      "authorship_tag": "ABX9TyNkXa0ClbH3lbJACf94C5Ya",
      "include_colab_link": true
    },
    "kernelspec": {
      "name": "python3",
      "display_name": "Python 3"
    },
    "language_info": {
      "name": "python"
    }
  },
  "cells": [
    {
      "cell_type": "markdown",
      "metadata": {
        "id": "view-in-github",
        "colab_type": "text"
      },
      "source": [
        "<a href=\"https://colab.research.google.com/github/waraporn19/Project_2021_matchingcolor/blob/main/A_2.ipynb\" target=\"_parent\"><img src=\"https://colab.research.google.com/assets/colab-badge.svg\" alt=\"Open In Colab\"/></a>"
      ]
    },
    {
      "cell_type": "code",
      "metadata": {
        "id": "drOKqbUE2PnQ"
      },
      "source": [
        "import pandas as pd"
      ],
      "execution_count": 276,
      "outputs": []
    },
    {
      "cell_type": "code",
      "metadata": {
        "id": "O7x0j_3c2Pjr",
        "colab": {
          "base_uri": "https://localhost:8080/"
        },
        "outputId": "0e26ac14-8d35-4e3b-a749-f26944de3f9a"
      },
      "source": [
        "from google.colab import drive \n",
        "drive.mount('/content/drive')"
      ],
      "execution_count": 277,
      "outputs": [
        {
          "output_type": "stream",
          "name": "stdout",
          "text": [
            "Drive already mounted at /content/drive; to attempt to forcibly remount, call drive.mount(\"/content/drive\", force_remount=True).\n"
          ]
        }
      ]
    },
    {
      "cell_type": "code",
      "metadata": {
        "id": "lsGPiAcg2Pa7"
      },
      "source": [
        "import os"
      ],
      "execution_count": 278,
      "outputs": []
    },
    {
      "cell_type": "code",
      "metadata": {
        "id": "xGv3Ax6o251w"
      },
      "source": [
        "path = '/content/drive/My Drive/shadeimg'"
      ],
      "execution_count": 279,
      "outputs": []
    },
    {
      "cell_type": "code",
      "metadata": {
        "id": "DK3-qllN3Huu",
        "colab": {
          "base_uri": "https://localhost:8080/"
        },
        "outputId": "72f5f66d-c99c-44a8-d3a1-cd118c25fed7"
      },
      "source": [
        "os.listdir(path)"
      ],
      "execution_count": 280,
      "outputs": [
        {
          "output_type": "execute_result",
          "data": {
            "text/plain": [
              "['9-10 7 2021',\n",
              " 'รูปฟัน07',\n",
              " '11 7 2021',\n",
              " 'ฟันสักอย่างจำวันไม่ได้',\n",
              " '1 teeth .gsheet',\n",
              " '16 8 2021',\n",
              " '17 8 2021',\n",
              " '1 teeth .xlsx',\n",
              " '2 teeth .xlsx',\n",
              " '2 teeth.gsheet']"
            ]
          },
          "metadata": {},
          "execution_count": 280
        }
      ]
    },
    {
      "cell_type": "code",
      "metadata": {
        "id": "qnyateeBbpSP",
        "colab": {
          "base_uri": "https://localhost:8080/"
        },
        "outputId": "b649b055-11f8-41fb-c23b-1723dfb5ea2c"
      },
      "source": [
        "!pip install azure-storage-blob==2.1.0"
      ],
      "execution_count": 281,
      "outputs": [
        {
          "output_type": "stream",
          "name": "stdout",
          "text": [
            "Requirement already satisfied: azure-storage-blob==2.1.0 in /usr/local/lib/python3.7/dist-packages (2.1.0)\n",
            "Requirement already satisfied: azure-common>=1.1.5 in /usr/local/lib/python3.7/dist-packages (from azure-storage-blob==2.1.0) (1.1.27)\n",
            "Requirement already satisfied: azure-storage-common~=2.1 in /usr/local/lib/python3.7/dist-packages (from azure-storage-blob==2.1.0) (2.1.0)\n",
            "Requirement already satisfied: cryptography in /usr/local/lib/python3.7/dist-packages (from azure-storage-common~=2.1->azure-storage-blob==2.1.0) (36.0.0)\n",
            "Requirement already satisfied: python-dateutil in /usr/local/lib/python3.7/dist-packages (from azure-storage-common~=2.1->azure-storage-blob==2.1.0) (2.8.2)\n",
            "Requirement already satisfied: requests in /usr/local/lib/python3.7/dist-packages (from azure-storage-common~=2.1->azure-storage-blob==2.1.0) (2.23.0)\n",
            "Requirement already satisfied: cffi>=1.12 in /usr/local/lib/python3.7/dist-packages (from cryptography->azure-storage-common~=2.1->azure-storage-blob==2.1.0) (1.15.0)\n",
            "Requirement already satisfied: pycparser in /usr/local/lib/python3.7/dist-packages (from cffi>=1.12->cryptography->azure-storage-common~=2.1->azure-storage-blob==2.1.0) (2.21)\n",
            "Requirement already satisfied: six>=1.5 in /usr/local/lib/python3.7/dist-packages (from python-dateutil->azure-storage-common~=2.1->azure-storage-blob==2.1.0) (1.15.0)\n",
            "Requirement already satisfied: chardet<4,>=3.0.2 in /usr/local/lib/python3.7/dist-packages (from requests->azure-storage-common~=2.1->azure-storage-blob==2.1.0) (3.0.4)\n",
            "Requirement already satisfied: certifi>=2017.4.17 in /usr/local/lib/python3.7/dist-packages (from requests->azure-storage-common~=2.1->azure-storage-blob==2.1.0) (2021.10.8)\n",
            "Requirement already satisfied: idna<3,>=2.5 in /usr/local/lib/python3.7/dist-packages (from requests->azure-storage-common~=2.1->azure-storage-blob==2.1.0) (2.10)\n",
            "Requirement already satisfied: urllib3!=1.25.0,!=1.25.1,<1.26,>=1.21.1 in /usr/local/lib/python3.7/dist-packages (from requests->azure-storage-common~=2.1->azure-storage-blob==2.1.0) (1.24.3)\n"
          ]
        }
      ]
    },
    {
      "cell_type": "code",
      "metadata": {
        "id": "uZRZcO80cxBH"
      },
      "source": [
        "from azure.storage.blob import BlockBlobService\n",
        "import os"
      ],
      "execution_count": 282,
      "outputs": []
    },
    {
      "cell_type": "code",
      "metadata": {
        "id": "tJVMV5DMcyJT"
      },
      "source": [
        "blob_service_client = BlockBlobService(account_name='dent01', account_key='CuShY0B4TZJ84TjzPpaHxyrHOpO73aGXeCpdVq7x26OjIlQ1HOz+3DVc9pDEj9BdcEL8odFuTRF0mOAE+aCgiw==')"
      ],
      "execution_count": 283,
      "outputs": []
    },
    {
      "cell_type": "markdown",
      "metadata": {
        "id": "nNqTWrPIc2qX"
      },
      "source": [
        "#1.สร้างตัวแปรเฉดไกด์"
      ]
    },
    {
      "cell_type": "markdown",
      "metadata": {
        "id": "Gx-nvNvXdCDu"
      },
      "source": [
        "##Set1"
      ]
    },
    {
      "cell_type": "code",
      "metadata": {
        "id": "PvY9HB-hc96t"
      },
      "source": [
        "S1_doubleA1A1_1 = '219558E6-E67A-4672-9E46-3D084D0D2032.png'\n",
        "S1_doubleA1A2_1 = '6D94544D-442A-4CFB-811D-FE7DC11D2ED2.png'\n",
        "S1_doubleA1A3_1 = '7BF85808-DA35-4E17-B217-3872CF481063.png'\n",
        "S1_doubleA1A3_51 = 'F8F3A06B-FA35-4279-8C60-CA55360B7179.png'\n",
        "S1_doubleA1A4_1 = 'B7D67D95-6E1E-4FDB-9C86-BEC2876991A4.png'\n",
        "S1_doubleA1B1_1 ='BD55E510-FC24-46F8-9057-F0FB833D77B3.png'\n",
        "S1_doubleA1B2_1 = 'E74FAFC2-2346-41FE-86DC-74BA55784D10.png'\n",
        "S1_doubleA1B3_1 ='98C5F545-74F1-4F79-9459-B78CD7323409.png'\n",
        "S1_doubleA1B4_1 ='3F9C3FA1-74A0-4E1C-86C6-4A6ABCBF61E0.png'\n",
        "S1_doubleA1C1_1 ='3F9C3FA1-74A0-4E1C-86C6-4A6ABCBF61E0.png'\n",
        "S1_doubleA1C2_1 ='A9BD406D-9241-4529-8915-ACD914DE2114.png'\n",
        "S1_doubleA1C3_1 ='3E2D92F5-C039-4375-8801-7177CE0C110B.png'\n",
        "S1_doubleA1C4_1 ='A601DEF5-8194-4546-BAA2-E3CF2BC491A7.png'\n",
        "S1_doubleA1D2_1 = '0CFB37BF-7362-44C7-8A5C-636AA66DADF1.png'\n",
        "S1_doubleA1D3_1 ='276C4D35-B17B-4238-B730-5667F7993357.png'\n",
        "S1_doubleA1D4_1 = '14BF11D2-5597-4D76-982D-6D73CA85D29C.png'"
      ],
      "execution_count": 284,
      "outputs": []
    },
    {
      "cell_type": "code",
      "metadata": {
        "id": "6ZVJz-4f2UeX"
      },
      "source": [
        "S1_doubleA1A1_2 = 'C88EF40F-E3F2-462F-9F7F-F2BACB0E4704.png'\n",
        "S1_doubleA1A2_2 = 'DDC4DC8E-B6F3-4C8E-B168-D77C99A200B0.png'\n",
        "S1_doubleA1A3_2  = 'D82BB03D-596F-4490-A11A-78CC339EF07E.png'\n",
        "S1_doubleA1A3_52  = '01115472-EC3A-48C7-B1FB-263259578BD7.png'\n",
        "S1_doubleA1A4_2  = 'A7B00E08-3ED6-4D0D-A76A-59936068AD40.png'\n",
        "S1_doubleA1B1_2  = '7EE62CC1-C35A-4BD5-8B99-7A02F504FB92.png'\n",
        "S1_doubleA1B2_2  = 'BEE4A20C-2B3A-4083-964D-EB3923B388F9.png'\n",
        "S1_doubleA1B3_2  ='BF7F9C19-2AB0-4C4B-BBF5-EF32E953C0B7.png'\n",
        "S1_doubleA1B4_2  = 'AAF41B6A-64A6-4300-9FE7-3E9652AA67F2.png'\n",
        "S1_doubleA1C1_2  ='EBA0C742-6F93-40D7-BBDC-FDA0F7717CF5.png'\n",
        "S1_doubleA1C2_2  ='EBA0C742-6F93-40D7-BBDC-FDA0F7717CF5.png'\n",
        "S1_doubleA1C3_2  ='041A2217-2C1E-4183-940C-81AF1B7ADCEB.png'\n",
        "S1_doubleA1C4_2  ='F228CEDF-9850-4974-955D-6A187146338E.png'\n",
        "S1_doubleA1D2_2  = '59AD9845-D209-4929-8E83-5C3FCBD50C90.png'\n",
        "S1_doubleA1D3_2  ='59AD9845-D209-4929-8E83-5C3FCBD50C90.png'\n",
        "S1_doubleA1D4_2  = '630B56EB-1A02-4C39-8E72-401279881303.png'"
      ],
      "execution_count": 285,
      "outputs": []
    },
    {
      "cell_type": "code",
      "metadata": {
        "id": "BYPZYpEg2UpJ"
      },
      "source": [
        "S1_doubleA1A1_3 = '9664FAC5-C093-4C4E-9906-23DCC933C2BC.png'\n",
        "S1_doubleA1A2_3 = '9C42EB3E-DDE7-43A2-91AE-4DCE60FCDAA9.png'\n",
        "S1_doubleA1A3_3 = '0E935DDC-4F2E-44CA-8761-D9EEF48FA184.png'\n",
        "S1_doubleA1A3_53 = '6503F4C5-1138-4796-972C-5FF66EFD389B.png'\n",
        "S1_doubleA1A4_3= '7BDDACC1-D18B-459A-BEE5-E1ECAF9BF9C2.png'\n",
        "S1_doubleA1B1_3 ='82C9B7F8-9A33-48DF-B722-CD2CCE4DFDA4.png'\n",
        "S1_doubleA1B2_3 = '5E756B9E-5B8B-4003-A2CC-32D244523EF5.png'\n",
        "S1_doubleA1B3_3 ='0E6A8167-3381-4891-99D4-84EAAC995D0B.png'\n",
        "S1_doubleA1B4_3 = '2D83B79D-5337-4378-832C-371721F97678.png'\n",
        "S1_doubleA1C1_3 = '91D7D709-F23E-4AE3-A0A2-A445F61D67EB.png'\n",
        "S1_doubleA1C2_3 ='781F2ECD-93CA-4AF4-9D79-49910BB1E07A.png'\n",
        "S1_doubleA1C3_3 ='B6050550-B56E-4148-BF1E-CE9492B5334F.png'\n",
        "S1_doubleA1C4_3 ='1A7C4C1D-67A6-4724-98D9-FFAFEED41437.png'\n",
        "S1_doubleA1D2_3 = '75EABE86-EA46-42BC-88A7-90FF6F904B23.png'\n",
        "S1_doubleA1D3_3 ='6E56B8EF-2517-4195-B91A-E5EFA20E81A0.png'\n",
        "S1_doubleA1D4_3 = '839EA3F3-4256-44C3-9E4C-70E87B10CB38.png'"
      ],
      "execution_count": 286,
      "outputs": []
    },
    {
      "cell_type": "code",
      "metadata": {
        "id": "uDZ9Na7R2Ux6"
      },
      "source": [
        "S1_doubleA1A1_4 = '07D1EFD7-B26D-41DE-AFC4-C1BACE8867A4.png'\n",
        "S1_doubleA1A2_4 = '6305881D-3DFD-4ECE-BD1D-C5376038CD26.png'\n",
        "S1_doubleA1A3_4 = 'B71E2B77-0A51-4D5C-A7CC-889C3295D37C.png'\n",
        "S1_doubleA1A3_54 = '7F841DFC-287B-41C2-A4F5-49FA7331CBB0.png'\n",
        "S1_doubleA1A4_4 = 'CEB5576D-ACE1-42A4-9540-B3F4FB29B6DA.png'\n",
        "S1_doubleA1B1_4 ='07D1EFD7-B26D-41DE-AFC4-C1BACE8867A4.png'\n",
        "S1_doubleA1B2_4 = '9AF472D2-DD0D-4A58-8DEE-747C9F852CAD.png'\n",
        "S1_doubleA1B3_4 ='A31E86AB-D56C-47DA-A0A9-6715963F7A75.png'\n",
        "S1_doubleA1B4_4 ='0DEED793-CF17-4B1A-A942-70848FF5C047.png'\n",
        "S1_doubleA1C1_4 ='522CA5D0-1167-4A5B-A005-40F3DF60600F.png'\n",
        "S1_doubleA1C2_4 ='11FC10FE-24D7-4815-8F28-FDA778DDBCC8.png'\n",
        "S1_doubleA1C3_4 ='13F7D5C3-201D-4CB7-B3D8-718B60A8D012.png'\n",
        "S1_doubleA1C4_4 ='0AB9EBD7-AEA7-4CC5-A604-30C0B2695D39.png'\n",
        "S1_doubleA1B4_4 ='71185777-D048-455E-980E-311833CF5A88.png'\n",
        "S1_doubleA1C1_4 ='71185777-D048-455E-980E-311833CF5A88.png'\n",
        "S1_doubleA1C2_4 ='0AB9EBD7-AEA7-4CC5-A604-30C0B2695D39.png'\n",
        "S1_doubleA1C3_4 ='0AB9EBD7-AEA7-4CC5-A604-30C0B2695D39.png'\n",
        "S1_doubleA1C4_4 ='07D1EFD7-B26D-41DE-AFC4-C1BACE8867A4.png'\n",
        "S1_doubleA1D2_4 = '07D1EFD7-B26D-41DE-AFC4-C1BACE8867A4.png'\n",
        "S1_doubleA1D3_4 ='07D1EFD7-B26D-41DE-AFC4-C1BACE8867A4.png'\n",
        "S1_doubleA1D4_4 = '07D1EFD7-B26D-41DE-AFC4-C1BACE8867A4.png'"
      ],
      "execution_count": 287,
      "outputs": []
    },
    {
      "cell_type": "code",
      "metadata": {
        "id": "aN9sMdoP2U2h"
      },
      "source": [
        "S1_doubleA1A1_5 =  '07D1EFD7-B26D-41DE-AFC4-C1BACE8867A4.png'\n",
        "S1_doubleA1A2_5 = '839EA3F3-4256-44C3-9E4C-70E87B10CB38.png'\n",
        "S1_doubleA1A3_5 =  '75EABE86-EA46-42BC-88A7-90FF6F904B23.png'\n",
        "S1_doubleA1A3_55 = '07D1EFD7-B26D-41DE-AFC4-C1BACE8867A4.png'\n",
        "S1_doubleA1A4_5 = '07D1EFD7-B26D-41DE-AFC4-C1BACE8867A4.png'\n",
        "S1_doubleA1B1_5 ='7F841DFC-287B-41C2-A4F5-49FA7331CBB0.png'\n",
        "S1_doubleA1B2_5 = '6305881D-3DFD-4ECE-BD1D-C5376038CD26.png'\n",
        "S1_doubleA1B3_5 = '9664FAC5-C093-4C4E-9906-23DCC933C2BC.png'\n",
        "S1_doubleA1B4_5 = '9664FAC5-C093-4C4E-9906-23DCC933C2BC.png'\n",
        "S1_doubleA1C1_5 ='7F841DFC-287B-41C2-A4F5-49FA7331CBB0.png'\n",
        "S1_doubleA1C2_5 ='6305881D-3DFD-4ECE-BD1D-C5376038CD26.png'\n",
        "S1_doubleA1C3_5 ='6305881D-3DFD-4ECE-BD1D-C5376038CD26.png'\n",
        "S1_doubleA1C4_5 = '9664FAC5-C093-4C4E-9906-23DCC933C2BC.png'\n",
        "S1_doubleA1D2_5 = '6305881D-3DFD-4ECE-BD1D-C5376038CD26.png'\n",
        "S1_doubleA1D3_5 ='6305881D-3DFD-4ECE-BD1D-C5376038CD26.png'\n",
        "S1_doubleA1D4_5 = '7F841DFC-287B-41C2-A4F5-49FA7331CBB0.png'"
      ],
      "execution_count": 288,
      "outputs": []
    },
    {
      "cell_type": "code",
      "metadata": {
        "id": "73Qdt0Ep2U6S"
      },
      "source": [
        "S1_doubleA1A1_6 =  '9664FAC5-C093-4C4E-9906-23DCC933C2BC.png'\n",
        "S1_doubleA1A2_6 = 'A601DEF5-8194-4546-BAA2-E3CF2BC491A7.png'\n",
        "S1_doubleA1A3_6 = 'A601DEF5-8194-4546-BAA2-E3CF2BC491A7.png'\n",
        "S1_doubleA1A3_56 ='1A7C4C1D-67A6-4724-98D9-FFAFEED41437.png' \n",
        "S1_doubleA1A4_6 = '9664FAC5-C093-4C4E-9906-23DCC933C2BC.png'\n",
        "S1_doubleA1B1_6 ='A601DEF5-8194-4546-BAA2-E3CF2BC491A7.png'\n",
        "S1_doubleA1B2_6 = '1A7C4C1D-67A6-4724-98D9-FFAFEED41437.png'\n",
        "S1_doubleA1B3_6 = '9664FAC5-C093-4C4E-9906-23DCC933C2BC.png'\n",
        "S1_doubleA1B4_6 ='2D83B79D-5337-4378-832C-371721F97678.png'\n",
        "S1_doubleA1C1_6 = '9664FAC5-C093-4C4E-9906-23DCC933C2BC.png'\n",
        "S1_doubleA1C2_6 ='1A7C4C1D-67A6-4724-98D9-FFAFEED41437.png'\n",
        "S1_doubleA1C3_6 ='2D83B79D-5337-4378-832C-371721F97678.png'\n",
        "S1_doubleA1C4_6 ='2D83B79D-5337-4378-832C-371721F97678.png'\n",
        "S1_doubleA1D2_6 = '9664FAC5-C093-4C4E-9906-23DCC933C2BC.png'\n",
        "S1_doubleA1D3_6 ='7F841DFC-287B-41C2-A4F5-49FA7331CBB0.png'\n",
        "S1_doubleA1D4_6 = '7F841DFC-287B-41C2-A4F5-49FA7331CBB0.png'"
      ],
      "execution_count": 289,
      "outputs": []
    },
    {
      "cell_type": "code",
      "metadata": {
        "id": "mrq_CCnhWCAK"
      },
      "source": [
        "S1_doubleA1A1_7 = '9664FAC5-C093-4C4E-9906-23DCC933C2BC.png'\n",
        "S1_doubleA1A2_7 = '9C42EB3E-DDE7-43A2-91AE-4DCE60FCDAA9.png'\n",
        "S1_doubleA1A3_7 = '0E935DDC-4F2E-44CA-8761-D9EEF48FA184.png'\n",
        "S1_doubleA1A3_57 = '6503F4C5-1138-4796-972C-5FF66EFD389B.png'\n",
        "S1_doubleA1A4_7= '7BDDACC1-D18B-459A-BEE5-E1ECAF9BF9C2.png'\n",
        "S1_doubleA1B1_7='82C9B7F8-9A33-48DF-B722-CD2CCE4DFDA4.png'\n",
        "S1_doubleA1B2_7 = '5E756B9E-5B8B-4003-A2CC-32D244523EF5.png'\n",
        "S1_doubleA1B3_7 ='0E6A8167-3381-4891-99D4-84EAAC995D0B.png'\n",
        "S1_doubleA1B4_7 = '2D83B79D-5337-4378-832C-371721F97678.png'\n",
        "S1_doubleA1C1_7 = '91D7D709-F23E-4AE3-A0A2-A445F61D67EB.png'\n",
        "S1_doubleA1C2_7 ='781F2ECD-93CA-4AF4-9D79-49910BB1E07A.png'\n",
        "S1_doubleA1C3_7 ='B6050550-B56E-4148-BF1E-CE9492B5334F.png'\n",
        "S1_doubleA1C4_7 ='1A7C4C1D-67A6-4724-98D9-FFAFEED41437.png'\n",
        "S1_doubleA1D2_7 = '75EABE86-EA46-42BC-88A7-90FF6F904B23.png'\n",
        "S1_doubleA1D3_7='6E56B8EF-2517-4195-B91A-E5EFA20E81A0.png'\n",
        "S1_doubleA1D4_7 = '839EA3F3-4256-44C3-9E4C-70E87B10CB38.png'"
      ],
      "execution_count": 290,
      "outputs": []
    },
    {
      "cell_type": "code",
      "metadata": {
        "id": "pzGwXjnhWZmO"
      },
      "source": [
        "S1_doubleA1A1_8 = 'C88EF40F-E3F2-462F-9F7F-F2BACB0E4704.png'\n",
        "S1_doubleA1A2_8 = 'DDC4DC8E-B6F3-4C8E-B168-D77C99A200B0.png'\n",
        "S1_doubleA1A3_8  = 'D82BB03D-596F-4490-A11A-78CC339EF07E.png'\n",
        "S1_doubleA1A3_58  = '01115472-EC3A-48C7-B1FB-263259578BD7.png'\n",
        "S1_doubleA1A4_8  = 'A7B00E08-3ED6-4D0D-A76A-59936068AD40.png'\n",
        "S1_doubleA1B1_8  = '7EE62CC1-C35A-4BD5-8B99-7A02F504FB92.png'\n",
        "S1_doubleA1B2_8  = 'BEE4A20C-2B3A-4083-964D-EB3923B388F9.png'\n",
        "S1_doubleA1B3_8  ='BF7F9C19-2AB0-4C4B-BBF5-EF32E953C0B7.png'\n",
        "S1_doubleA1B4_8  = 'AAF41B6A-64A6-4300-9FE7-3E9652AA67F2.png'\n",
        "S1_doubleA1C1_8  ='EBA0C742-6F93-40D7-BBDC-FDA0F7717CF5.png'\n",
        "S1_doubleA1C2_8  ='EBA0C742-6F93-40D7-BBDC-FDA0F7717CF5.png'\n",
        "S1_doubleA1C3_8  ='041A2217-2C1E-4183-940C-81AF1B7ADCEB.png'\n",
        "S1_doubleA1C4_8  ='F228CEDF-9850-4974-955D-6A187146338E.png'\n",
        "S1_doubleA1D2_8  = '59AD9845-D209-4929-8E83-5C3FCBD50C90.png'\n",
        "S1_doubleA1D3_8  ='59AD9845-D209-4929-8E83-5C3FCBD50C90.png'\n",
        "S1_doubleA1D4_8  = '630B56EB-1A02-4C39-8E72-401279881303.png'"
      ],
      "execution_count": 291,
      "outputs": []
    },
    {
      "cell_type": "code",
      "metadata": {
        "id": "dpMbup-QWxgS"
      },
      "source": [
        "S1_doubleA1A1_9 = 'C88EF40F-E3F2-462F-9F7F-F2BACB0E4704.png'\n",
        "S1_doubleA1A2_9 = 'DDC4DC8E-B6F3-4C8E-B168-D77C99A200B0.png'\n",
        "S1_doubleA1A3_9  = 'D82BB03D-596F-4490-A11A-78CC339EF07E.png'\n",
        "S1_doubleA1A3_59  = '01115472-EC3A-48C7-B1FB-263259578BD7.png'\n",
        "S1_doubleA1A4_9  = 'A7B00E08-3ED6-4D0D-A76A-59936068AD40.png'\n",
        "S1_doubleA1B1_9  = '7EE62CC1-C35A-4BD5-8B99-7A02F504FB92.png'\n",
        "S1_doubleA1B2_9  = 'BEE4A20C-2B3A-4083-964D-EB3923B388F9.png'\n",
        "S1_doubleA1B3_9  ='BF7F9C19-2AB0-4C4B-BBF5-EF32E953C0B7.png'\n",
        "S1_doubleA1B4_9  = 'AAF41B6A-64A6-4300-9FE7-3E9652AA67F2.png'\n",
        "S1_doubleA1C1_9  ='EBA0C742-6F93-40D7-BBDC-FDA0F7717CF5.png'\n",
        "S1_doubleA1C2_9  ='EBA0C742-6F93-40D7-BBDC-FDA0F7717CF5.png'\n",
        "S1_doubleA1C3_9  ='041A2217-2C1E-4183-940C-81AF1B7ADCEB.png'\n",
        "S1_doubleA1C4_9  ='F228CEDF-9850-4974-955D-6A187146338E.png'\n",
        "S1_doubleA1D2_9  = '59AD9845-D209-4929-8E83-5C3FCBD50C90.png'\n",
        "S1_doubleA1D3_9  ='59AD9845-D209-4929-8E83-5C3FCBD50C90.png'\n",
        "S1_doubleA1D4_9  = '630B56EB-1A02-4C39-8E72-401279881303.png'"
      ],
      "execution_count": 292,
      "outputs": []
    },
    {
      "cell_type": "code",
      "metadata": {
        "id": "bFVJrq3BWx0R"
      },
      "source": [
        "S1_doubleA1A1_10 = 'C88EF40F-E3F2-462F-9F7F-F2BACB0E4704.png'\n",
        "S1_doubleA1A2_10 = 'DDC4DC8E-B6F3-4C8E-B168-D77C99A200B0.png'\n",
        "S1_doubleA1A3_10  = 'D82BB03D-596F-4490-A11A-78CC339EF07E.png'\n",
        "S1_doubleA1A3_510  = '01115472-EC3A-48C7-B1FB-263259578BD7.png'\n",
        "S1_doubleA1A4_10  = 'A7B00E08-3ED6-4D0D-A76A-59936068AD40.png'\n",
        "S1_doubleA1B1_10  = '7EE62CC1-C35A-4BD5-8B99-7A02F504FB92.png'\n",
        "S1_doubleA1B2_10  = 'BEE4A20C-2B3A-4083-964D-EB3923B388F9.png'\n",
        "S1_doubleA1B3_10  ='BF7F9C19-2AB0-4C4B-BBF5-EF32E953C0B7.png'\n",
        "S1_doubleA1B4_10  = 'AAF41B6A-64A6-4300-9FE7-3E9652AA67F2.png'\n",
        "S1_doubleA1C1_10  ='EBA0C742-6F93-40D7-BBDC-FDA0F7717CF5.png'\n",
        "S1_doubleA1C2_10  ='EBA0C742-6F93-40D7-BBDC-FDA0F7717CF5.png'\n",
        "S1_doubleA1C3_10  ='041A2217-2C1E-4183-940C-81AF1B7ADCEB.png'\n",
        "S1_doubleA1C4_10  ='F228CEDF-9850-4974-955D-6A187146338E.png'\n",
        "S1_doubleA1D2_10  = '59AD9845-D209-4929-8E83-5C3FCBD50C90.png'\n",
        "S1_doubleA1D3_10  ='59AD9845-D209-4929-8E83-5C3FCBD50C90.png'\n",
        "S1_doubleA1D4_10  = '630B56EB-1A02-4C39-8E72-401279881303.png'"
      ],
      "execution_count": 293,
      "outputs": []
    },
    {
      "cell_type": "markdown",
      "metadata": {
        "id": "Z39xITwsdKL0"
      },
      "source": [
        "##Set2"
      ]
    },
    {
      "cell_type": "code",
      "metadata": {
        "id": "l4edtwvvYms2"
      },
      "source": [
        "S2_doubleA1A1_1 = '34F0629C-69B1-4125-85F4-7E496A7847A0.png'\n",
        "S2_doubleA1A2_1 = 'AEBFAF3C-11C4-4EF2-8260-5838F8F52013.png'\n",
        "S2_doubleA1A3_1 = 'CE6B785F-8B23-4F7D-8BB6-8E63EBC72E6C.png'\n",
        "S2_doubleA1A3_51 = '45233628-36DE-4FEE-B7CB-661E14EA313F.png'\n",
        "S2_doubleA1A4_1 = '1FBF4A8E-0006-44D2-9C08-61D87D8952A8.png'\n",
        "S2_doubleA1B1_1 = '1BFDB4C3-F7BE-4F15-B871-6B99CC85141B.png'\n",
        "S2_doubleA1B2_1 = '23C045CF-EE31-494D-8B99-BE985CE3725E.png'\n",
        "S2_doubleA1B3_1 = 'DBFDD2AC-0191-4C0D-AD17-0637A470462E.png'\n",
        "S2_doubleA1B4_1 = '56F27ADF-51AE-4EDB-828A-2F1C5F94583D.png'\n",
        "S2_doubleA1C1_1 = 'ABB8000F-17B5-47FB-85C2-716229841F14.png'\n",
        "S2_doubleA1C2_1 = 'A5FF2537-07B9-4280-BEBF-9D9E952E882B.png'\n",
        "S2_doubleA1C3_1 = '02CEA581-8594-4689-AB73-61778735FA7A.png'\n",
        "S2_doubleA1C4_1 = '4DCAC53D-53D8-4E07-A30F-8EAD67E34DA4.png'\n",
        "S2_doubleA1D2_1 = '79C85FCC-1A21-47FD-B903-3C9B74CB7A12.png'\n",
        "S2_doubleA1D3_1 = 'EB090E23-38A2-49E5-ACE0-C0F500AA9102.png'\n",
        "S2_doubleA1D4_1 = 'C69798C5-16B6-4A23-BD0A-0A6B4EC9B5CE.png'"
      ],
      "execution_count": 294,
      "outputs": []
    },
    {
      "cell_type": "code",
      "metadata": {
        "id": "7pzyRJX1YsQk"
      },
      "source": [
        "S2_doubleA1A1_2 = '4DCAC53D-53D8-4E07-A30F-8EAD67E34DA4.png'\n",
        "S2_doubleA1A2_2= 'AEBFAF3C-11C4-4EF2-8260-5838F8F52013.png'\n",
        "S2_doubleA1A3_2= 'CE6B785F-8B23-4F7D-8BB6-8E63EBC72E6C.png'\n",
        "S2_doubleA1A3_52 = '45233628-36DE-4FEE-B7CB-661E14EA313F.png'\n",
        "S2_doubleA1A4_2 = '1FBF4A8E-0006-44D2-9C08-61D87D8952A8.png'\n",
        "S2_doubleA1B1_2 = '1BFDB4C3-F7BE-4F15-B871-6B99CC85141B.png'\n",
        "S2_doubleA1B2_2 = '23C045CF-EE31-494D-8B99-BE985CE3725E.png'\n",
        "S2_doubleA1B3_2 = 'DBFDD2AC-0191-4C0D-AD17-0637A470462E.png'\n",
        "S2_doubleA1B4_2 = '56F27ADF-51AE-4EDB-828A-2F1C5F94583D.png'\n",
        "S2_doubleA1C1_2 = 'ABB8000F-17B5-47FB-85C2-716229841F14.png'\n",
        "S2_doubleA1C2_2= 'A5FF2537-07B9-4280-BEBF-9D9E952E882B.png'\n",
        "S2_doubleA1C3_2= '02CEA581-8594-4689-AB73-61778735FA7A.png'\n",
        "S2_doubleA1C4_2 = '34F0629C-69B1-4125-85F4-7E496A7847A0.png'\n",
        "S2_doubleA1D2_2 = '79C85FCC-1A21-47FD-B903-3C9B74CB7A12.png'\n",
        "S2_doubleA1D3_2 = 'EB090E23-38A2-49E5-ACE0-C0F500AA9102.png'\n",
        "S2_doubleA1D4_2 = 'C69798C5-16B6-4A23-BD0A-0A6B4EC9B5CE.png'"
      ],
      "execution_count": 295,
      "outputs": []
    },
    {
      "cell_type": "code",
      "metadata": {
        "id": "nrbFY9uTamw8"
      },
      "source": [
        "S2_doubleA1A1_3 = '4DCAC53D-53D8-4E07-A30F-8EAD67E34DA4.png'\n",
        "S2_doubleA1A2_3= 'AEBFAF3C-11C4-4EF2-8260-5838F8F52013.png'\n",
        "S2_doubleA1A3_3= 'CE6B785F-8B23-4F7D-8BB6-8E63EBC72E6C.png'\n",
        "S2_doubleA1A3_53 = '45233628-36DE-4FEE-B7CB-661E14EA313F.png'\n",
        "S2_doubleA1A4_3 = '1FBF4A8E-0006-44D2-9C08-61D87D8952A8.png'\n",
        "S2_doubleA1B1_3 = '1BFDB4C3-F7BE-4F15-B871-6B99CC85141B.png'\n",
        "S2_doubleA1B2_3 = '23C045CF-EE31-494D-8B99-BE985CE3725E.png'\n",
        "S2_doubleA1B3_3 = 'DBFDD2AC-0191-4C0D-AD17-0637A470462E.png'\n",
        "S2_doubleA1B4_3 = '56F27ADF-51AE-4EDB-828A-2F1C5F94583D.png'\n",
        "S2_doubleA1C1_3 = 'ABB8000F-17B5-47FB-85C2-716229841F14.png'\n",
        "S2_doubleA1C2_3= 'A5FF2537-07B9-4280-BEBF-9D9E952E882B.png'\n",
        "S2_doubleA1C3_3= '02CEA581-8594-4689-AB73-61778735FA7A.png'\n",
        "S2_doubleA1C4_3 = '34F0629C-69B1-4125-85F4-7E496A7847A0.png'\n",
        "S2_doubleA1D2_3 = '79C85FCC-1A21-47FD-B903-3C9B74CB7A12.png'\n",
        "S2_doubleA1D3_3 = 'EB090E23-38A2-49E5-ACE0-C0F500AA9102.png'\n",
        "S2_doubleA1D4_3 = 'C69798C5-16B6-4A23-BD0A-0A6B4EC9B5CE.png'"
      ],
      "execution_count": 296,
      "outputs": []
    },
    {
      "cell_type": "code",
      "metadata": {
        "id": "CN82tvsLZ7u7"
      },
      "source": [
        "S2_doubleA1A1_4 = '4DCAC53D-53D8-4E07-A30F-8EAD67E34DA4.png'\n",
        "S2_doubleA1A2_4= 'AEBFAF3C-11C4-4EF2-8260-5838F8F52013.png'\n",
        "S2_doubleA1A3_4= 'CE6B785F-8B23-4F7D-8BB6-8E63EBC72E6C.png'\n",
        "S2_doubleA1A3_54 = '45233628-36DE-4FEE-B7CB-661E14EA313F.png'\n",
        "S2_doubleA1A4_4 = '1FBF4A8E-0006-44D2-9C08-61D87D8952A8.png'\n",
        "S2_doubleA1B1_4 = '1BFDB4C3-F7BE-4F15-B871-6B99CC85141B.png'\n",
        "S2_doubleA1B2_4 = '23C045CF-EE31-494D-8B99-BE985CE3725E.png'\n",
        "S2_doubleA1B3_4 = 'DBFDD2AC-0191-4C0D-AD17-0637A470462E.png'\n",
        "S2_doubleA1B4_4 = '56F27ADF-51AE-4EDB-828A-2F1C5F94583D.png'\n",
        "S2_doubleA1C1_4 = 'ABB8000F-17B5-47FB-85C2-716229841F14.png'\n",
        "S2_doubleA1C2_4= 'A5FF2537-07B9-4280-BEBF-9D9E952E882B.png'\n",
        "S2_doubleA1C3_4= '02CEA581-8594-4689-AB73-61778735FA7A.png'\n",
        "S2_doubleA1C4_4 = '34F0629C-69B1-4125-85F4-7E496A7847A0.png'\n",
        "S2_doubleA1D2_4 = '79C85FCC-1A21-47FD-B903-3C9B74CB7A12.png'\n",
        "S2_doubleA1D3_4 = 'EB090E23-38A2-49E5-ACE0-C0F500AA9102.png'\n",
        "S2_doubleA1D4_4 = 'C69798C5-16B6-4A23-BD0A-0A6B4EC9B5CE.png'"
      ],
      "execution_count": 297,
      "outputs": []
    },
    {
      "cell_type": "code",
      "metadata": {
        "id": "xo5svF5KbBfi"
      },
      "source": [
        "S2_doubleA1A1_5 = '4DCAC53D-53D8-4E07-A30F-8EAD67E34DA4.png'\n",
        "S2_doubleA1A2_5= 'AEBFAF3C-11C4-4EF2-8260-5838F8F52013.png'\n",
        "S2_doubleA1A3_5= 'CE6B785F-8B23-4F7D-8BB6-8E63EBC72E6C.png'\n",
        "S2_doubleA1A3_55 = '45233628-36DE-4FEE-B7CB-661E14EA313F.png'\n",
        "S2_doubleA1A4_5= '1FBF4A8E-0006-44D2-9C08-61D87D8952A8.png'\n",
        "S2_doubleA1B1_5 = '1BFDB4C3-F7BE-4F15-B871-6B99CC85141B.png'\n",
        "S2_doubleA1B2_5 = '23C045CF-EE31-494D-8B99-BE985CE3725E.png'\n",
        "S2_doubleA1B3_5 = 'DBFDD2AC-0191-4C0D-AD17-0637A470462E.png'\n",
        "S2_doubleA1B4_5 = '56F27ADF-51AE-4EDB-828A-2F1C5F94583D.png'\n",
        "S2_doubleA1C1_5= 'ABB8000F-17B5-47FB-85C2-716229841F14.png'\n",
        "S2_doubleA1C2_5= 'A5FF2537-07B9-4280-BEBF-9D9E952E882B.png'\n",
        "S2_doubleA1C3_5= '02CEA581-8594-4689-AB73-61778735FA7A.png'\n",
        "S2_doubleA1C4_5 = '34F0629C-69B1-4125-85F4-7E496A7847A0.png'\n",
        "S2_doubleA1D2_5 = '79C85FCC-1A21-47FD-B903-3C9B74CB7A12.png'\n",
        "S2_doubleA1D3_5= 'EB090E23-38A2-49E5-ACE0-C0F500AA9102.png'\n",
        "S2_doubleA1D4_5 = 'C69798C5-16B6-4A23-BD0A-0A6B4EC9B5CE.png'"
      ],
      "execution_count": 298,
      "outputs": []
    },
    {
      "cell_type": "code",
      "metadata": {
        "id": "-DXodAZyZ7-t"
      },
      "source": [
        "S2_doubleA1A1_6 = '4DCAC53D-53D8-4E07-A30F-8EAD67E34DA4.png'\n",
        "S2_doubleA1A2_6= 'AEBFAF3C-11C4-4EF2-8260-5838F8F52013.png'\n",
        "S2_doubleA1A3_6= 'CE6B785F-8B23-4F7D-8BB6-8E63EBC72E6C.png'\n",
        "S2_doubleA1A3_56 = '45233628-36DE-4FEE-B7CB-661E14EA313F.png'\n",
        "S2_doubleA1A4_6 = '1FBF4A8E-0006-44D2-9C08-61D87D8952A8.png'\n",
        "S2_doubleA1B1_6 = '1BFDB4C3-F7BE-4F15-B871-6B99CC85141B.png'\n",
        "S2_doubleA1B2_6 = '23C045CF-EE31-494D-8B99-BE985CE3725E.png'\n",
        "S2_doubleA1B3_6 = 'DBFDD2AC-0191-4C0D-AD17-0637A470462E.png'\n",
        "S2_doubleA1B4_6 = '56F27ADF-51AE-4EDB-828A-2F1C5F94583D.png'\n",
        "S2_doubleA1C1_6 = 'ABB8000F-17B5-47FB-85C2-716229841F14.png'\n",
        "S2_doubleA1C2_6= 'A5FF2537-07B9-4280-BEBF-9D9E952E882B.png'\n",
        "S2_doubleA1C3_6= '02CEA581-8594-4689-AB73-61778735FA7A.png'\n",
        "S2_doubleA1C4_6 = '34F0629C-69B1-4125-85F4-7E496A7847A0.png'\n",
        "S2_doubleA1D2_6 = '79C85FCC-1A21-47FD-B903-3C9B74CB7A12.png'\n",
        "S2_doubleA1D3_6 = 'EB090E23-38A2-49E5-ACE0-C0F500AA9102.png'\n",
        "S2_doubleA1D4_6= 'C69798C5-16B6-4A23-BD0A-0A6B4EC9B5CE.png'"
      ],
      "execution_count": 299,
      "outputs": []
    },
    {
      "cell_type": "code",
      "metadata": {
        "id": "VPd4V0HeZ-6u"
      },
      "source": [
        "S2_doubleA1A1_7 = '4DCAC53D-53D8-4E07-A30F-8EAD67E34DA4.png'\n",
        "S2_doubleA1A2_7= 'AEBFAF3C-11C4-4EF2-8260-5838F8F52013.png'\n",
        "S2_doubleA1A3_7= 'CE6B785F-8B23-4F7D-8BB6-8E63EBC72E6C.png'\n",
        "S2_doubleA1A3_57 = '45233628-36DE-4FEE-B7CB-661E14EA313F.png'\n",
        "S2_doubleA1A4_7 = '1FBF4A8E-0006-44D2-9C08-61D87D8952A8.png'\n",
        "S2_doubleA1B1_7 = '1BFDB4C3-F7BE-4F15-B871-6B99CC85141B.png'\n",
        "S2_doubleA1B2_7= '23C045CF-EE31-494D-8B99-BE985CE3725E.png'\n",
        "S2_doubleA1B3_7 = 'DBFDD2AC-0191-4C0D-AD17-0637A470462E.png'\n",
        "S2_doubleA1B4_7 = '56F27ADF-51AE-4EDB-828A-2F1C5F94583D.png'\n",
        "S2_doubleA1C1_7 = 'ABB8000F-17B5-47FB-85C2-716229841F14.png'\n",
        "S2_doubleA1C2_7= 'A5FF2537-07B9-4280-BEBF-9D9E952E882B.png'\n",
        "S2_doubleA1C3_7= '02CEA581-8594-4689-AB73-61778735FA7A.png'\n",
        "S2_doubleA1C4_7 = '34F0629C-69B1-4125-85F4-7E496A7847A0.png'\n",
        "S2_doubleA1D2_7 = '79C85FCC-1A21-47FD-B903-3C9B74CB7A12.png'\n",
        "S2_doubleA1D3_7 = 'EB090E23-38A2-49E5-ACE0-C0F500AA9102.png'\n",
        "S2_doubleA1D4_7 = 'C69798C5-16B6-4A23-BD0A-0A6B4EC9B5CE.png'"
      ],
      "execution_count": 300,
      "outputs": []
    },
    {
      "cell_type": "code",
      "metadata": {
        "id": "4KrvTF9lZ_K2"
      },
      "source": [
        "S2_doubleA1A1_8 = '4DCAC53D-53D8-4E07-A30F-8EAD67E34DA4.png'\n",
        "S2_doubleA1A2_8= 'AEBFAF3C-11C4-4EF2-8260-5838F8F52013.png'\n",
        "S2_doubleA1A3_8= 'CE6B785F-8B23-4F7D-8BB6-8E63EBC72E6C.png'\n",
        "S2_doubleA1A3_58 = '45233628-36DE-4FEE-B7CB-661E14EA313F.png'\n",
        "S2_doubleA1A4_8 = '1FBF4A8E-0006-44D2-9C08-61D87D8952A8.png'\n",
        "S2_doubleA1B1_8 = '1BFDB4C3-F7BE-4F15-B871-6B99CC85141B.png'\n",
        "S2_doubleA1B2_8 = '23C045CF-EE31-494D-8B99-BE985CE3725E.png'\n",
        "S2_doubleA1B3_8= 'DBFDD2AC-0191-4C0D-AD17-0637A470462E.png'\n",
        "S2_doubleA1B4_8 = '56F27ADF-51AE-4EDB-828A-2F1C5F94583D.png'\n",
        "S2_doubleA1C1_8= 'ABB8000F-17B5-47FB-85C2-716229841F14.png'\n",
        "S2_doubleA1C2_8= 'A5FF2537-07B9-4280-BEBF-9D9E952E882B.png'\n",
        "S2_doubleA1C3_8= '02CEA581-8594-4689-AB73-61778735FA7A.png'\n",
        "S2_doubleA1C4_8 = '34F0629C-69B1-4125-85F4-7E496A7847A0.png'\n",
        "S2_doubleA1D2_8 = '79C85FCC-1A21-47FD-B903-3C9B74CB7A12.png'\n",
        "S2_doubleA1D3_8 = 'EB090E23-38A2-49E5-ACE0-C0F500AA9102.png'\n",
        "S2_doubleA1D4_8= 'C69798C5-16B6-4A23-BD0A-0A6B4EC9B5CE.png'"
      ],
      "execution_count": 301,
      "outputs": []
    },
    {
      "cell_type": "code",
      "metadata": {
        "id": "zPoDtuEDZ_l3"
      },
      "source": [
        "S2_doubleA1A1_9 = '4DCAC53D-53D8-4E07-A30F-8EAD67E34DA4.png'\n",
        "S2_doubleA1A2_9= 'AEBFAF3C-11C4-4EF2-8260-5838F8F52013.png'\n",
        "S2_doubleA1A3_9= 'CE6B785F-8B23-4F7D-8BB6-8E63EBC72E6C.png'\n",
        "S2_doubleA1A3_59 = '45233628-36DE-4FEE-B7CB-661E14EA313F.png'\n",
        "S2_doubleA1A4_9 = '1FBF4A8E-0006-44D2-9C08-61D87D8952A8.png'\n",
        "S2_doubleA1B1_9= '1BFDB4C3-F7BE-4F15-B871-6B99CC85141B.png'\n",
        "S2_doubleA1B2_9 = '23C045CF-EE31-494D-8B99-BE985CE3725E.png'\n",
        "S2_doubleA1B3_9 = 'DBFDD2AC-0191-4C0D-AD17-0637A470462E.png'\n",
        "S2_doubleA1B4_9 = '56F27ADF-51AE-4EDB-828A-2F1C5F94583D.png'\n",
        "S2_doubleA1C1_9 = 'ABB8000F-17B5-47FB-85C2-716229841F14.png'\n",
        "S2_doubleA1C2_9= 'A5FF2537-07B9-4280-BEBF-9D9E952E882B.png'\n",
        "S2_doubleA1C3_9= '02CEA581-8594-4689-AB73-61778735FA7A.png'\n",
        "S2_doubleA1C4_9 = '34F0629C-69B1-4125-85F4-7E496A7847A0.png'\n",
        "S2_doubleA1D2_9 = '79C85FCC-1A21-47FD-B903-3C9B74CB7A12.png'\n",
        "S2_doubleA1D3_9 = 'EB090E23-38A2-49E5-ACE0-C0F500AA9102.png'\n",
        "S2_doubleA1D4_9 = 'C69798C5-16B6-4A23-BD0A-0A6B4EC9B5CE.png'"
      ],
      "execution_count": 302,
      "outputs": []
    },
    {
      "cell_type": "code",
      "metadata": {
        "id": "Kwhqmk-7Z__F"
      },
      "source": [
        "S2_doubleA1A1_10 = '4DCAC53D-53D8-4E07-A30F-8EAD67E34DA4.png'\n",
        "S2_doubleA1A2_10= 'AEBFAF3C-11C4-4EF2-8260-5838F8F52013.png'\n",
        "S2_doubleA1A3_10= 'CE6B785F-8B23-4F7D-8BB6-8E63EBC72E6C.png'\n",
        "S2_doubleA1A3_510 = '45233628-36DE-4FEE-B7CB-661E14EA313F.png'\n",
        "S2_doubleA1A4_10 = '1FBF4A8E-0006-44D2-9C08-61D87D8952A8.png'\n",
        "S2_doubleA1B1_10 = '1BFDB4C3-F7BE-4F15-B871-6B99CC85141B.png'\n",
        "S2_doubleA1B2_10 = '23C045CF-EE31-494D-8B99-BE985CE3725E.png'\n",
        "S2_doubleA1B3_10= 'DBFDD2AC-0191-4C0D-AD17-0637A470462E.png'\n",
        "S2_doubleA1B4_10 = '56F27ADF-51AE-4EDB-828A-2F1C5F94583D.png'\n",
        "S2_doubleA1C1_10 = 'ABB8000F-17B5-47FB-85C2-716229841F14.png'\n",
        "S2_doubleA1C2_10= 'A5FF2537-07B9-4280-BEBF-9D9E952E882B.png'\n",
        "S2_doubleA1C3_10= '02CEA581-8594-4689-AB73-61778735FA7A.png'\n",
        "S2_doubleA1C4_10 = '34F0629C-69B1-4125-85F4-7E496A7847A0.png'\n",
        "S2_doubleA1D2_10 = '79C85FCC-1A21-47FD-B903-3C9B74CB7A12.png'\n",
        "S2_doubleA1D3_10 = 'EB090E23-38A2-49E5-ACE0-C0F500AA9102.png'\n",
        "S2_doubleA1D4_10 = 'C69798C5-16B6-4A23-BD0A-0A6B4EC9B5CE.png'"
      ],
      "execution_count": 303,
      "outputs": []
    },
    {
      "cell_type": "markdown",
      "metadata": {
        "id": "cKbTlQkYNhCv"
      },
      "source": [
        "##Set3"
      ]
    },
    {
      "cell_type": "code",
      "metadata": {
        "id": "XI1vkRw4cSwJ"
      },
      "source": [
        "S3_doubleA1A1_1 = '6CF2D4E8-1C13-4476-96FB-D618BCB119B7.png'\n",
        "S3_doubleA1A2_1 = '464DBB6E-8D53-41EC-89E3-09269D750F86.png'\n",
        "S3_doubleA1A3_1 = '1D1C00BB-399B-4D94-80A1-3265036A98A8.png'\n",
        "S3_doubleA1A3_51 = 'C925DC00-E29E-47F6-9BB5-8C641EC1871C.png'\n",
        "S3_doubleA1A4_1 = '2E6D7DC3-E901-4470-9EC3-4EFB37E4C99C.png'\n",
        "S3_doubleA1B1_1 = 'B0254C1B-A034-453B-8194-23B84EDC85BB.png'\n",
        "S3_doubleA1B2_1 = 'CB28F551-0BCC-4650-80CE-0683F9345235.png'\n",
        "S3_doubleA1B3_1 = '0BAC5F9E-D191-44AC-906B-83F55EEE5408.png'\n",
        "S3_doubleA1B4_1 = '71D35775-7DD2-4B6E-9923-F369DD4C7122.png'\n",
        "S3_doubleA1C1_1 = '792DFC5D-B478-4676-88BF-B27DA22BCD00.png'\n",
        "S3_doubleA1C2_1 = '22CE3934-3E63-4B67-8414-1378D1E33513.png'\n",
        "S3_doubleA1C3_1 = '043D02F0-F919-42FC-900C-EA61D154F7F3.png'\n",
        "S3_doubleA1C4_1 = '6AA17A82-8A03-4963-AED4-F52CF63E955B.png'\n",
        "S3_doubleA1D2_1 = 'E6696409-77B9-44AF-B6F8-4A4F0A0337DD.png'\n",
        "S3_doubleA1D3_1 = '7C182FF2-8AB9-46AC-8DC5-479ECDA47B76.png'\n",
        "S3_doubleA1D4_1 = 'EF26E1BB-3878-4366-8F27-1D0E712AFC27.png'"
      ],
      "execution_count": 304,
      "outputs": []
    },
    {
      "cell_type": "code",
      "metadata": {
        "id": "EUxpAsyIcVzR"
      },
      "source": [
        "S3_doubleA1A1_2 = '6CF2D4E8-1C13-4476-96FB-D618BCB119B7.png'\n",
        "S3_doubleA1A2_2 = '464DBB6E-8D53-41EC-89E3-09269D750F86.png'\n",
        "S3_doubleA1A3_2 = '1D1C00BB-399B-4D94-80A1-3265036A98A8.png'\n",
        "S3_doubleA1A3_52 = 'C925DC00-E29E-47F6-9BB5-8C641EC1871C.png'\n",
        "S3_doubleA1A4_2 = '2E6D7DC3-E901-4470-9EC3-4EFB37E4C99C.png'\n",
        "S3_doubleA1B1_2 = 'B0254C1B-A034-453B-8194-23B84EDC85BB.png'\n",
        "S3_doubleA1B2_2 = 'CB28F551-0BCC-4650-80CE-0683F9345235.png'\n",
        "S3_doubleA1B3_2 = '0BAC5F9E-D191-44AC-906B-83F55EEE5408.png'\n",
        "S3_doubleA1B4_2 = '71D35775-7DD2-4B6E-9923-F369DD4C7122.png'\n",
        "S3_doubleA1C1_2 = '792DFC5D-B478-4676-88BF-B27DA22BCD00.png'\n",
        "S3_doubleA1C2_2 = '22CE3934-3E63-4B67-8414-1378D1E33513.png'\n",
        "S3_doubleA1C3_2 = '043D02F0-F919-42FC-900C-EA61D154F7F3.png'\n",
        "S3_doubleA1C4_2 = '6AA17A82-8A03-4963-AED4-F52CF63E955B.png'\n",
        "S3_doubleA1D2_2 = 'E6696409-77B9-44AF-B6F8-4A4F0A0337DD.png'\n",
        "S3_doubleA1D3_2= '7C182FF2-8AB9-46AC-8DC5-479ECDA47B76.png'\n",
        "S3_doubleA1D4_2 = 'EF26E1BB-3878-4366-8F27-1D0E712AFC27.png'"
      ],
      "execution_count": 305,
      "outputs": []
    },
    {
      "cell_type": "code",
      "metadata": {
        "id": "6wkndsoFchZy"
      },
      "source": [
        "S3_doubleA1A1_3 = '6CF2D4E8-1C13-4476-96FB-D618BCB119B7.png'\n",
        "S3_doubleA1A2_3 = '464DBB6E-8D53-41EC-89E3-09269D750F86.png'\n",
        "S3_doubleA1A3_3= '1D1C00BB-399B-4D94-80A1-3265036A98A8.png'\n",
        "S3_doubleA1A3_53 = 'C925DC00-E29E-47F6-9BB5-8C641EC1871C.png'\n",
        "S3_doubleA1A4_3 = '2E6D7DC3-E901-4470-9EC3-4EFB37E4C99C.png'\n",
        "S3_doubleA1B1_3 = 'B0254C1B-A034-453B-8194-23B84EDC85BB.png'\n",
        "S3_doubleA1B2_3 = 'CB28F551-0BCC-4650-80CE-0683F9345235.png'\n",
        "S3_doubleA1B3_3 = '0BAC5F9E-D191-44AC-906B-83F55EEE5408.png'\n",
        "S3_doubleA1B4_3= '71D35775-7DD2-4B6E-9923-F369DD4C7122.png'\n",
        "S3_doubleA1C1_3 = '792DFC5D-B478-4676-88BF-B27DA22BCD00.png'\n",
        "S3_doubleA1C2_3 = '22CE3934-3E63-4B67-8414-1378D1E33513.png'\n",
        "S3_doubleA1C3_3 = '043D02F0-F919-42FC-900C-EA61D154F7F3.png'\n",
        "S3_doubleA1C4_3 = '6AA17A82-8A03-4963-AED4-F52CF63E955B.png'\n",
        "S3_doubleA1D2_3 = 'E6696409-77B9-44AF-B6F8-4A4F0A0337DD.png'\n",
        "S3_doubleA1D3_3= '7C182FF2-8AB9-46AC-8DC5-479ECDA47B76.png'\n",
        "S3_doubleA1D4_3 = 'EF26E1BB-3878-4366-8F27-1D0E712AFC27.png'"
      ],
      "execution_count": 306,
      "outputs": []
    },
    {
      "cell_type": "code",
      "metadata": {
        "id": "zjH7zF-mchwr"
      },
      "source": [
        "S3_doubleA1A1_4 = '6CF2D4E8-1C13-4476-96FB-D618BCB119B7.png'\n",
        "S3_doubleA1A2_4 = '464DBB6E-8D53-41EC-89E3-09269D750F86.png'\n",
        "S3_doubleA1A3_4 = '1D1C00BB-399B-4D94-80A1-3265036A98A8.png'\n",
        "S3_doubleA1A3_54 = 'C925DC00-E29E-47F6-9BB5-8C641EC1871C.png'\n",
        "S3_doubleA1A4_4 = '2E6D7DC3-E901-4470-9EC3-4EFB37E4C99C.png'\n",
        "S3_doubleA1B1_4 = 'B0254C1B-A034-453B-8194-23B84EDC85BB.png'\n",
        "S3_doubleA1B2_4 = 'CB28F551-0BCC-4650-80CE-0683F9345235.png'\n",
        "S3_doubleA1B3_4= '0BAC5F9E-D191-44AC-906B-83F55EEE5408.png'\n",
        "S3_doubleA1B4_4 = '71D35775-7DD2-4B6E-9923-F369DD4C7122.png'\n",
        "S3_doubleA1C1_4 = '792DFC5D-B478-4676-88BF-B27DA22BCD00.png'\n",
        "S3_doubleA1C2_4 = '22CE3934-3E63-4B67-8414-1378D1E33513.png'\n",
        "S3_doubleA1C3_4 = '043D02F0-F919-42FC-900C-EA61D154F7F3.png'\n",
        "S3_doubleA1C4_4 = '6AA17A82-8A03-4963-AED4-F52CF63E955B.png'\n",
        "S3_doubleA1D2_4 = 'E6696409-77B9-44AF-B6F8-4A4F0A0337DD.png'\n",
        "S3_doubleA1D3_4= '7C182FF2-8AB9-46AC-8DC5-479ECDA47B76.png'\n",
        "S3_doubleA1D4_4 = 'EF26E1BB-3878-4366-8F27-1D0E712AFC27.png'"
      ],
      "execution_count": 307,
      "outputs": []
    },
    {
      "cell_type": "code",
      "metadata": {
        "id": "DtE5VRIQciK2"
      },
      "source": [
        "S3_doubleA1A1_5 = '6CF2D4E8-1C13-4476-96FB-D618BCB119B7.png'\n",
        "S3_doubleA1A2_5 = '464DBB6E-8D53-41EC-89E3-09269D750F86.png'\n",
        "S3_doubleA1A3_5 = '1D1C00BB-399B-4D94-80A1-3265036A98A8.png'\n",
        "S3_doubleA1A3_55 = 'C925DC00-E29E-47F6-9BB5-8C641EC1871C.png'\n",
        "S3_doubleA1A4_5 = '2E6D7DC3-E901-4470-9EC3-4EFB37E4C99C.png'\n",
        "S3_doubleA1B1_5= 'B0254C1B-A034-453B-8194-23B84EDC85BB.png'\n",
        "S3_doubleA1B2_5 = 'CB28F551-0BCC-4650-80CE-0683F9345235.png'\n",
        "S3_doubleA1B3_5= '0BAC5F9E-D191-44AC-906B-83F55EEE5408.png'\n",
        "S3_doubleA1B4_5 = '71D35775-7DD2-4B6E-9923-F369DD4C7122.png'\n",
        "S3_doubleA1C1_5 = '792DFC5D-B478-4676-88BF-B27DA22BCD00.png'\n",
        "S3_doubleA1C2_5 = '22CE3934-3E63-4B67-8414-1378D1E33513.png'\n",
        "S3_doubleA1C3_5 = '043D02F0-F919-42FC-900C-EA61D154F7F3.png'\n",
        "S3_doubleA1C4_5 = '6AA17A82-8A03-4963-AED4-F52CF63E955B.png'\n",
        "S3_doubleA1D2_5 = 'E6696409-77B9-44AF-B6F8-4A4F0A0337DD.png'\n",
        "S3_doubleA1D3_5= '7C182FF2-8AB9-46AC-8DC5-479ECDA47B76.png'\n",
        "S3_doubleA1D4_5 = 'EF26E1BB-3878-4366-8F27-1D0E712AFC27.png'"
      ],
      "execution_count": 308,
      "outputs": []
    },
    {
      "cell_type": "code",
      "metadata": {
        "id": "d54BZJkmcivC"
      },
      "source": [
        "S3_doubleA1A1_6 = '6CF2D4E8-1C13-4476-96FB-D618BCB119B7.png'\n",
        "S3_doubleA1A2_6 = '464DBB6E-8D53-41EC-89E3-09269D750F86.png'\n",
        "S3_doubleA1A3_6= '1D1C00BB-399B-4D94-80A1-3265036A98A8.png'\n",
        "S3_doubleA1A3_56 = 'C925DC00-E29E-47F6-9BB5-8C641EC1871C.png'\n",
        "S3_doubleA1A4_6 = '2E6D7DC3-E901-4470-9EC3-4EFB37E4C99C.png'\n",
        "S3_doubleA1B1_6= 'B0254C1B-A034-453B-8194-23B84EDC85BB.png'\n",
        "S3_doubleA1B2_6 = 'CB28F551-0BCC-4650-80CE-0683F9345235.png'\n",
        "S3_doubleA1B3_6= '0BAC5F9E-D191-44AC-906B-83F55EEE5408.png'\n",
        "S3_doubleA1B4_6 = '71D35775-7DD2-4B6E-9923-F369DD4C7122.png'\n",
        "S3_doubleA1C1_6 = '792DFC5D-B478-4676-88BF-B27DA22BCD00.png'\n",
        "S3_doubleA1C2_6 = '22CE3934-3E63-4B67-8414-1378D1E33513.png'\n",
        "S3_doubleA1C3_6 = '043D02F0-F919-42FC-900C-EA61D154F7F3.png'\n",
        "S3_doubleA1C4_6 = '6AA17A82-8A03-4963-AED4-F52CF63E955B.png'\n",
        "S3_doubleA1D2_6 = 'E6696409-77B9-44AF-B6F8-4A4F0A0337DD.png'\n",
        "S3_doubleA1D3_6= '7C182FF2-8AB9-46AC-8DC5-479ECDA47B76.png'\n",
        "S3_doubleA1D4_6= 'EF26E1BB-3878-4366-8F27-1D0E712AFC27.png'"
      ],
      "execution_count": 309,
      "outputs": []
    },
    {
      "cell_type": "code",
      "metadata": {
        "id": "Gle322U7cjH3"
      },
      "source": [
        "S3_doubleA1A1_7 = '6CF2D4E8-1C13-4476-96FB-D618BCB119B7.png'\n",
        "S3_doubleA1A2_7 = '464DBB6E-8D53-41EC-89E3-09269D750F86.png'\n",
        "S3_doubleA1A3_7= '1D1C00BB-399B-4D94-80A1-3265036A98A8.png'\n",
        "S3_doubleA1A3_57 = 'C925DC00-E29E-47F6-9BB5-8C641EC1871C.png'\n",
        "S3_doubleA1A4_7 = '2E6D7DC3-E901-4470-9EC3-4EFB37E4C99C.png'\n",
        "S3_doubleA1B1_7 = 'B0254C1B-A034-453B-8194-23B84EDC85BB.png'\n",
        "S3_doubleA1B2_7 = 'CB28F551-0BCC-4650-80CE-0683F9345235.png'\n",
        "S3_doubleA1B3_7= '0BAC5F9E-D191-44AC-906B-83F55EEE5408.png'\n",
        "S3_doubleA1B4_7 = '71D35775-7DD2-4B6E-9923-F369DD4C7122.png'\n",
        "S3_doubleA1C1_7 = '792DFC5D-B478-4676-88BF-B27DA22BCD00.png'\n",
        "S3_doubleA1C2_7 = '22CE3934-3E63-4B67-8414-1378D1E33513.png'\n",
        "S3_doubleA1C3_7 = '043D02F0-F919-42FC-900C-EA61D154F7F3.png'\n",
        "S3_doubleA1C4_7 = '6AA17A82-8A03-4963-AED4-F52CF63E955B.png'\n",
        "S3_doubleA1D2_7 = 'E6696409-77B9-44AF-B6F8-4A4F0A0337DD.png'\n",
        "S3_doubleA1D3_7= '7C182FF2-8AB9-46AC-8DC5-479ECDA47B76.png'\n",
        "S3_doubleA1D4_7 = 'EF26E1BB-3878-4366-8F27-1D0E712AFC27.png'"
      ],
      "execution_count": 310,
      "outputs": []
    },
    {
      "cell_type": "code",
      "metadata": {
        "id": "4wCiv8hicjgR"
      },
      "source": [
        "S3_doubleA1A1_8 = '6CF2D4E8-1C13-4476-96FB-D618BCB119B7.png'\n",
        "S3_doubleA1A2_8 = '464DBB6E-8D53-41EC-89E3-09269D750F86.png'\n",
        "S3_doubleA1A3_8 = '1D1C00BB-399B-4D94-80A1-3265036A98A8.png'\n",
        "S3_doubleA1A3_58 = 'C925DC00-E29E-47F6-9BB5-8C641EC1871C.png'\n",
        "S3_doubleA1A4_8 = '2E6D7DC3-E901-4470-9EC3-4EFB37E4C99C.png'\n",
        "S3_doubleA1B1_8 = 'B0254C1B-A034-453B-8194-23B84EDC85BB.png'\n",
        "S3_doubleA1B2_8 = 'CB28F551-0BCC-4650-80CE-0683F9345235.png'\n",
        "S3_doubleA1B3_8 = '0BAC5F9E-D191-44AC-906B-83F55EEE5408.png'\n",
        "S3_doubleA1B4_8= '71D35775-7DD2-4B6E-9923-F369DD4C7122.png'\n",
        "S3_doubleA1C1_8 = '792DFC5D-B478-4676-88BF-B27DA22BCD00.png'\n",
        "S3_doubleA1C2_8= '22CE3934-3E63-4B67-8414-1378D1E33513.png'\n",
        "S3_doubleA1C3_8 = '043D02F0-F919-42FC-900C-EA61D154F7F3.png'\n",
        "S3_doubleA1C4_8 = '6AA17A82-8A03-4963-AED4-F52CF63E955B.png'\n",
        "S3_doubleA1D2_8 = 'E6696409-77B9-44AF-B6F8-4A4F0A0337DD.png'\n",
        "S3_doubleA1D3_8= '7C182FF2-8AB9-46AC-8DC5-479ECDA47B76.png'\n",
        "S3_doubleA1D4_8 = 'EF26E1BB-3878-4366-8F27-1D0E712AFC27.png'"
      ],
      "execution_count": 311,
      "outputs": []
    },
    {
      "cell_type": "code",
      "metadata": {
        "id": "RCio_zjScj0j"
      },
      "source": [
        "S3_doubleA1A1_9 = '6CF2D4E8-1C13-4476-96FB-D618BCB119B7.png'\n",
        "S3_doubleA1A2_9 = '464DBB6E-8D53-41EC-89E3-09269D750F86.png'\n",
        "S3_doubleA1A3_9 = '1D1C00BB-399B-4D94-80A1-3265036A98A8.png'\n",
        "S3_doubleA1A3_59 = 'C925DC00-E29E-47F6-9BB5-8C641EC1871C.png'\n",
        "S3_doubleA1A4_9 = '2E6D7DC3-E901-4470-9EC3-4EFB37E4C99C.png'\n",
        "S3_doubleA1B1_9 = 'B0254C1B-A034-453B-8194-23B84EDC85BB.png'\n",
        "S3_doubleA1B2_9 = 'CB28F551-0BCC-4650-80CE-0683F9345235.png'\n",
        "S3_doubleA1B3_9 = '0BAC5F9E-D191-44AC-906B-83F55EEE5408.png'\n",
        "S3_doubleA1B4_9 = '71D35775-7DD2-4B6E-9923-F369DD4C7122.png'\n",
        "S3_doubleA1C1_9 = '792DFC5D-B478-4676-88BF-B27DA22BCD00.png'\n",
        "S3_doubleA1C2_9 = '22CE3934-3E63-4B67-8414-1378D1E33513.png'\n",
        "S3_doubleA1C3_9 = '043D02F0-F919-42FC-900C-EA61D154F7F3.png'\n",
        "S3_doubleA1C4_9= '6AA17A82-8A03-4963-AED4-F52CF63E955B.png'\n",
        "S3_doubleA1D2_9 = 'E6696409-77B9-44AF-B6F8-4A4F0A0337DD.png'\n",
        "S3_doubleA1D3_9= '7C182FF2-8AB9-46AC-8DC5-479ECDA47B76.png'\n",
        "S3_doubleA1D4_9 = 'EF26E1BB-3878-4366-8F27-1D0E712AFC27.png'"
      ],
      "execution_count": 312,
      "outputs": []
    },
    {
      "cell_type": "code",
      "metadata": {
        "id": "Iwxd-hyGckPi"
      },
      "source": [
        "S3_doubleA1A1_10 = '6CF2D4E8-1C13-4476-96FB-D618BCB119B7.png'\n",
        "S3_doubleA1A2_10 = '464DBB6E-8D53-41EC-89E3-09269D750F86.png'\n",
        "S3_doubleA1A3_10 = '1D1C00BB-399B-4D94-80A1-3265036A98A8.png'\n",
        "S3_doubleA1A3_510 = 'C925DC00-E29E-47F6-9BB5-8C641EC1871C.png'\n",
        "S3_doubleA1A4_10 = '2E6D7DC3-E901-4470-9EC3-4EFB37E4C99C.png'\n",
        "S3_doubleA1B1_10= 'B0254C1B-A034-453B-8194-23B84EDC85BB.png'\n",
        "S3_doubleA1B2_10= 'CB28F551-0BCC-4650-80CE-0683F9345235.png'\n",
        "S3_doubleA1B3_10= '0BAC5F9E-D191-44AC-906B-83F55EEE5408.png'\n",
        "S3_doubleA1B4_10= '71D35775-7DD2-4B6E-9923-F369DD4C7122.png'\n",
        "S3_doubleA1C1_10 = '792DFC5D-B478-4676-88BF-B27DA22BCD00.png'\n",
        "S3_doubleA1C2_10 = '22CE3934-3E63-4B67-8414-1378D1E33513.png'\n",
        "S3_doubleA1C3_10 = '043D02F0-F919-42FC-900C-EA61D154F7F3.png'\n",
        "S3_doubleA1C4_10 = '6AA17A82-8A03-4963-AED4-F52CF63E955B.png'\n",
        "S3_doubleA1D2_10= 'E6696409-77B9-44AF-B6F8-4A4F0A0337DD.png'\n",
        "S3_doubleA1D3_10= '7C182FF2-8AB9-46AC-8DC5-479ECDA47B76.png'\n",
        "S3_doubleA1D4_10= 'EF26E1BB-3878-4366-8F27-1D0E712AFC27.png'"
      ],
      "execution_count": 313,
      "outputs": []
    },
    {
      "cell_type": "markdown",
      "metadata": {
        "id": "CryXTlwN7436"
      },
      "source": [
        "##Set4\n"
      ]
    },
    {
      "cell_type": "code",
      "metadata": {
        "id": "kGBOLp-nN2D5"
      },
      "source": [
        "S4_doubleA1A1_1 = 'C3752024-70F6-407B-B596-E214E55D43EB.png'\n",
        "S4_doubleA1A2_1 = '953E3485-ACFA-4EDA-B270-F9AA84853C94.png'\n",
        "S4_doubleA1A3_1 = '83B80683-3A06-474F-90E6-62391CB7A3F6.png'\n",
        "S4_doubleA1A3_51 = '01BD2023-D6A1-4AAA-A5A6-F507208F8E54.png'\n",
        "S4_doubleA1A4_1 = '372CFE56-E625-434C-A2DC-0FEEB167DDBA.png'\n",
        "S4_doubleA1B1_1 = '35484F9C-7BCF-4C31-A381-CCC85035B5FE.png'\n",
        "S4_doubleA1B2_1 = '29140CD3-A1A5-448C-B825-7BCBA9431B85.png'\n",
        "S4_doubleA1B3_1 = '123A90E7-21CE-4D56-B992-62F16D74A8FE.png'\n",
        "S4_doubleA1B4_1 = 'E561F380-5A2D-496F-B9F3-4B9907F020D6.png'\n",
        "S4_doubleA1C1_1 = 'F3E98998-3329-49D5-8439-80F6AF00BFE3.png'\n",
        "S4_doubleA1C2_1 = '56D069F6-8B47-48B3-9C6E-25AD8751779A.png'\n",
        "S4_doubleA1C3_1 = '2F670532-3760-42FC-A982-1670FEE99E66.png'\n",
        "S4_doubleA1C4_1 = 'A40A09DE-DC0F-4A00-A891-F3D66A2F7CB5.png'\n",
        "S4_doubleA1D2_1 = 'E4566E8E-9E0D-4531-9712-5B47AE5386DE.png'\n",
        "S4_doubleA1D3_1 = '23C5E347-A9A1-466C-917D-E969268302DA.png'\n",
        "S4_doubleA1D4_1 = 'EFB719A3-D16E-42A3-861D-363E24755F58.png'"
      ],
      "execution_count": 314,
      "outputs": []
    },
    {
      "cell_type": "code",
      "metadata": {
        "id": "6t7PODbuei7u"
      },
      "source": [
        "S4_doubleA1A1_2 = 'C3752024-70F6-407B-B596-E214E55D43EB.png'\n",
        "S4_doubleA1A2_2 = '953E3485-ACFA-4EDA-B270-F9AA84853C94.png'\n",
        "S4_doubleA1A3_2 = '83B80683-3A06-474F-90E6-62391CB7A3F6.png'\n",
        "S4_doubleA1A3_52 = '01BD2023-D6A1-4AAA-A5A6-F507208F8E54.png'\n",
        "S4_doubleA1A4_2 = '372CFE56-E625-434C-A2DC-0FEEB167DDBA.png'\n",
        "S4_doubleA1B1_2 = '35484F9C-7BCF-4C31-A381-CCC85035B5FE.png'\n",
        "S4_doubleA1B2_2 = '29140CD3-A1A5-448C-B825-7BCBA9431B85.png'\n",
        "S4_doubleA1B3_2 = '123A90E7-21CE-4D56-B992-62F16D74A8FE.png'\n",
        "S4_doubleA1B4_2 = 'E561F380-5A2D-496F-B9F3-4B9907F020D6.png'\n",
        "S4_doubleA1C1_2 = 'F3E98998-3329-49D5-8439-80F6AF00BFE3.png'\n",
        "S4_doubleA1C2_2 = '56D069F6-8B47-48B3-9C6E-25AD8751779A.png'\n",
        "S4_doubleA1C3_2= '2F670532-3760-42FC-A982-1670FEE99E66.png'\n",
        "S4_doubleA1C4_2 = 'A40A09DE-DC0F-4A00-A891-F3D66A2F7CB5.png'\n",
        "S4_doubleA1D2_2 = 'E4566E8E-9E0D-4531-9712-5B47AE5386DE.png'\n",
        "S4_doubleA1D3_2 = '23C5E347-A9A1-466C-917D-E969268302DA.png'\n",
        "S4_doubleA1D4_2 = 'EFB719A3-D16E-42A3-861D-363E24755F58.png'"
      ],
      "execution_count": 315,
      "outputs": []
    },
    {
      "cell_type": "code",
      "metadata": {
        "id": "qb_JjsDCep__"
      },
      "source": [
        "S4_doubleA1A1_3= 'C3752024-70F6-407B-B596-E214E55D43EB.png'\n",
        "S4_doubleA1A2_3 = '953E3485-ACFA-4EDA-B270-F9AA84853C94.png'\n",
        "S4_doubleA1A3_3 = '83B80683-3A06-474F-90E6-62391CB7A3F6.png'\n",
        "S4_doubleA1A3_53 = '01BD2023-D6A1-4AAA-A5A6-F507208F8E54.png'\n",
        "S4_doubleA1A4_3 = '372CFE56-E625-434C-A2DC-0FEEB167DDBA.png'\n",
        "S4_doubleA1B1_3 = '35484F9C-7BCF-4C31-A381-CCC85035B5FE.png'\n",
        "S4_doubleA1B2_3 = '29140CD3-A1A5-448C-B825-7BCBA9431B85.png'\n",
        "S4_doubleA1B3_3 = '123A90E7-21CE-4D56-B992-62F16D74A8FE.png'\n",
        "S4_doubleA1B4_3 = 'E561F380-5A2D-496F-B9F3-4B9907F020D6.png'\n",
        "S4_doubleA1C1_3= 'F3E98998-3329-49D5-8439-80F6AF00BFE3.png'\n",
        "S4_doubleA1C2_3 = '56D069F6-8B47-48B3-9C6E-25AD8751779A.png'\n",
        "S4_doubleA1C3_3 = '2F670532-3760-42FC-A982-1670FEE99E66.png'\n",
        "S4_doubleA1C4_3 = 'A40A09DE-DC0F-4A00-A891-F3D66A2F7CB5.png'\n",
        "S4_doubleA1D2_3 = 'E4566E8E-9E0D-4531-9712-5B47AE5386DE.png'\n",
        "S4_doubleA1D3_3 = '23C5E347-A9A1-466C-917D-E969268302DA.png'\n",
        "S4_doubleA1D4_3 = 'EFB719A3-D16E-42A3-861D-363E24755F58.png'"
      ],
      "execution_count": 316,
      "outputs": []
    },
    {
      "cell_type": "code",
      "metadata": {
        "id": "ShhQIAW3eqPg"
      },
      "source": [
        "S4_doubleA1A1_4 = 'C3752024-70F6-407B-B596-E214E55D43EB.png'\n",
        "S4_doubleA1A2_4 = '953E3485-ACFA-4EDA-B270-F9AA84853C94.png'\n",
        "S4_doubleA1A3_4 = '83B80683-3A06-474F-90E6-62391CB7A3F6.png'\n",
        "S4_doubleA1A3_54 = '01BD2023-D6A1-4AAA-A5A6-F507208F8E54.png'\n",
        "S4_doubleA1A4_4 = '372CFE56-E625-434C-A2DC-0FEEB167DDBA.png'\n",
        "S4_doubleA1B1_4 = '35484F9C-7BCF-4C31-A381-CCC85035B5FE.png'\n",
        "S4_doubleA1B2_4 = '29140CD3-A1A5-448C-B825-7BCBA9431B85.png'\n",
        "S4_doubleA1B3_4 = '123A90E7-21CE-4D56-B992-62F16D74A8FE.png'\n",
        "S4_doubleA1B4_4 = 'E561F380-5A2D-496F-B9F3-4B9907F020D6.png'\n",
        "S4_doubleA1C1_4 = 'F3E98998-3329-49D5-8439-80F6AF00BFE3.png'\n",
        "S4_doubleA1C2_4 = '56D069F6-8B47-48B3-9C6E-25AD8751779A.png'\n",
        "S4_doubleA1C3_4 = '2F670532-3760-42FC-A982-1670FEE99E66.png'\n",
        "S4_doubleA1C4_4 = 'A40A09DE-DC0F-4A00-A891-F3D66A2F7CB5.png'\n",
        "S4_doubleA1D2_4 = 'E4566E8E-9E0D-4531-9712-5B47AE5386DE.png'\n",
        "S4_doubleA1D3_4 = '23C5E347-A9A1-466C-917D-E969268302DA.png'\n",
        "S4_doubleA1D4_4 = 'EFB719A3-D16E-42A3-861D-363E24755F58.png'"
      ],
      "execution_count": 317,
      "outputs": []
    },
    {
      "cell_type": "code",
      "metadata": {
        "id": "Y5kdJJppf1dO"
      },
      "source": [
        "S4_doubleA1A1_5 = 'C3752024-70F6-407B-B596-E214E55D43EB.png'\n",
        "S4_doubleA1A2_5 = '953E3485-ACFA-4EDA-B270-F9AA84853C94.png'\n",
        "S4_doubleA1A3_5= '83B80683-3A06-474F-90E6-62391CB7A3F6.png'\n",
        "S4_doubleA1A3_55 = '01BD2023-D6A1-4AAA-A5A6-F507208F8E54.png'\n",
        "S4_doubleA1A4_5 = '372CFE56-E625-434C-A2DC-0FEEB167DDBA.png'\n",
        "S4_doubleA1B1_5 = '35484F9C-7BCF-4C31-A381-CCC85035B5FE.png'\n",
        "S4_doubleA1B2_5 = '29140CD3-A1A5-448C-B825-7BCBA9431B85.png'\n",
        "S4_doubleA1B3_5= '123A90E7-21CE-4D56-B992-62F16D74A8FE.png'\n",
        "S4_doubleA1B4_5 = 'E561F380-5A2D-496F-B9F3-4B9907F020D6.png'\n",
        "S4_doubleA1C1_5 = 'F3E98998-3329-49D5-8439-80F6AF00BFE3.png'\n",
        "S4_doubleA1C2_5 = '56D069F6-8B47-48B3-9C6E-25AD8751779A.png'\n",
        "S4_doubleA1C3_5 = '2F670532-3760-42FC-A982-1670FEE99E66.png'\n",
        "S4_doubleA1C4_5 = 'A40A09DE-DC0F-4A00-A891-F3D66A2F7CB5.png'\n",
        "S4_doubleA1D2_5 = 'E4566E8E-9E0D-4531-9712-5B47AE5386DE.png'\n",
        "S4_doubleA1D3_5 = '23C5E347-A9A1-466C-917D-E969268302DA.png'\n",
        "S4_doubleA1D4_5 = 'EFB719A3-D16E-42A3-861D-363E24755F58.png'"
      ],
      "execution_count": 318,
      "outputs": []
    },
    {
      "cell_type": "code",
      "metadata": {
        "id": "tGkD3Yv0eqxw"
      },
      "source": [
        "S4_doubleA1A1_6 = 'C3752024-70F6-407B-B596-E214E55D43EB.png'\n",
        "S4_doubleA1A2_6 = '953E3485-ACFA-4EDA-B270-F9AA84853C94.png'\n",
        "S4_doubleA1A3_6 = '83B80683-3A06-474F-90E6-62391CB7A3F6.png'\n",
        "S4_doubleA1A3_56 = '01BD2023-D6A1-4AAA-A5A6-F507208F8E54.png'\n",
        "S4_doubleA1A4_6 = '372CFE56-E625-434C-A2DC-0FEEB167DDBA.png'\n",
        "S4_doubleA1B1_6 = '35484F9C-7BCF-4C31-A381-CCC85035B5FE.png'\n",
        "S4_doubleA1B2_6 = '29140CD3-A1A5-448C-B825-7BCBA9431B85.png'\n",
        "S4_doubleA1B3_6 = '123A90E7-21CE-4D56-B992-62F16D74A8FE.png'\n",
        "S4_doubleA1B4_6 = 'E561F380-5A2D-496F-B9F3-4B9907F020D6.png'\n",
        "S4_doubleA1C1_6 = 'F3E98998-3329-49D5-8439-80F6AF00BFE3.png'\n",
        "S4_doubleA1C2_6 = '56D069F6-8B47-48B3-9C6E-25AD8751779A.png'\n",
        "S4_doubleA1C3_6 = '2F670532-3760-42FC-A982-1670FEE99E66.png'\n",
        "S4_doubleA1C4_6 = 'A40A09DE-DC0F-4A00-A891-F3D66A2F7CB5.png'\n",
        "S4_doubleA1D2_6 = 'E4566E8E-9E0D-4531-9712-5B47AE5386DE.png'\n",
        "S4_doubleA1D3_6 = '23C5E347-A9A1-466C-917D-E969268302DA.png'\n",
        "S4_doubleA1D4_6 = 'EFB719A3-D16E-42A3-861D-363E24755F58.png'"
      ],
      "execution_count": 319,
      "outputs": []
    },
    {
      "cell_type": "code",
      "metadata": {
        "id": "Ftcl8dGRerGw"
      },
      "source": [
        "S4_doubleA1A1_7 = 'C3752024-70F6-407B-B596-E214E55D43EB.png'\n",
        "S4_doubleA1A2_7 = '953E3485-ACFA-4EDA-B270-F9AA84853C94.png'\n",
        "S4_doubleA1A3_7 = '83B80683-3A06-474F-90E6-62391CB7A3F6.png'\n",
        "S4_doubleA1A3_57 = '01BD2023-D6A1-4AAA-A5A6-F507208F8E54.png'\n",
        "S4_doubleA1A4_7 = '372CFE56-E625-434C-A2DC-0FEEB167DDBA.png'\n",
        "S4_doubleA1B1_7 = '35484F9C-7BCF-4C31-A381-CCC85035B5FE.png'\n",
        "S4_doubleA1B2_7= '29140CD3-A1A5-448C-B825-7BCBA9431B85.png'\n",
        "S4_doubleA1B3_7 = '123A90E7-21CE-4D56-B992-62F16D74A8FE.png'\n",
        "S4_doubleA1B4_7 = 'E561F380-5A2D-496F-B9F3-4B9907F020D6.png'\n",
        "S4_doubleA1C1_7 = 'F3E98998-3329-49D5-8439-80F6AF00BFE3.png'\n",
        "S4_doubleA1C2_7 = '56D069F6-8B47-48B3-9C6E-25AD8751779A.png'\n",
        "S4_doubleA1C3_7 = '2F670532-3760-42FC-A982-1670FEE99E66.png'\n",
        "S4_doubleA1C4_7 = 'A40A09DE-DC0F-4A00-A891-F3D66A2F7CB5.png'\n",
        "S4_doubleA1D2_7 = 'E4566E8E-9E0D-4531-9712-5B47AE5386DE.png'\n",
        "S4_doubleA1D3_7= '23C5E347-A9A1-466C-917D-E969268302DA.png'\n",
        "S4_doubleA1D4_7 = 'EFB719A3-D16E-42A3-861D-363E24755F58.png'"
      ],
      "execution_count": 320,
      "outputs": []
    },
    {
      "cell_type": "code",
      "metadata": {
        "id": "lRZBNgV3erWa"
      },
      "source": [
        "S4_doubleA1A1_8 = 'C3752024-70F6-407B-B596-E214E55D43EB.png'\n",
        "S4_doubleA1A2_8 = '953E3485-ACFA-4EDA-B270-F9AA84853C94.png'\n",
        "S4_doubleA1A3_8 = '83B80683-3A06-474F-90E6-62391CB7A3F6.png'\n",
        "S4_doubleA1A3_58 = '01BD2023-D6A1-4AAA-A5A6-F507208F8E54.png'\n",
        "S4_doubleA1A4_8 = '372CFE56-E625-434C-A2DC-0FEEB167DDBA.png'\n",
        "S4_doubleA1B1_8 = '35484F9C-7BCF-4C31-A381-CCC85035B5FE.png'\n",
        "S4_doubleA1B2_8 = '29140CD3-A1A5-448C-B825-7BCBA9431B85.png'\n",
        "S4_doubleA1B3_8 = '123A90E7-21CE-4D56-B992-62F16D74A8FE.png'\n",
        "S4_doubleA1B4_8 = 'E561F380-5A2D-496F-B9F3-4B9907F020D6.png'\n",
        "S4_doubleA1C1_8 = 'F3E98998-3329-49D5-8439-80F6AF00BFE3.png'\n",
        "S4_doubleA1C2_8 = '56D069F6-8B47-48B3-9C6E-25AD8751779A.png'\n",
        "S4_doubleA1C3_8 = '2F670532-3760-42FC-A982-1670FEE99E66.png'\n",
        "S4_doubleA1C4_8 = 'A40A09DE-DC0F-4A00-A891-F3D66A2F7CB5.png'\n",
        "S4_doubleA1D2_8 = 'E4566E8E-9E0D-4531-9712-5B47AE5386DE.png'\n",
        "S4_doubleA1D3_8 = '23C5E347-A9A1-466C-917D-E969268302DA.png'\n",
        "S4_doubleA1D4_8 = 'EFB719A3-D16E-42A3-861D-363E24755F58.png'"
      ],
      "execution_count": 321,
      "outputs": []
    },
    {
      "cell_type": "code",
      "metadata": {
        "id": "O65rExEWermX"
      },
      "source": [
        "S4_doubleA1A1_9 = 'C3752024-70F6-407B-B596-E214E55D43EB.png'\n",
        "S4_doubleA1A2_9= '953E3485-ACFA-4EDA-B270-F9AA84853C94.png'\n",
        "S4_doubleA1A3_9= '83B80683-3A06-474F-90E6-62391CB7A3F6.png'\n",
        "S4_doubleA1A3_59 = '01BD2023-D6A1-4AAA-A5A6-F507208F8E54.png'\n",
        "S4_doubleA1A4_9 = '372CFE56-E625-434C-A2DC-0FEEB167DDBA.png'\n",
        "S4_doubleA1B1_9= '35484F9C-7BCF-4C31-A381-CCC85035B5FE.png'\n",
        "S4_doubleA1B2_9 = '29140CD3-A1A5-448C-B825-7BCBA9431B85.png'\n",
        "S4_doubleA1B3_9 = '123A90E7-21CE-4D56-B992-62F16D74A8FE.png'\n",
        "S4_doubleA1B4_9 = 'E561F380-5A2D-496F-B9F3-4B9907F020D6.png'\n",
        "S4_doubleA1C1_9 = 'F3E98998-3329-49D5-8439-80F6AF00BFE3.png'\n",
        "S4_doubleA1C2_9= '56D069F6-8B47-48B3-9C6E-25AD8751779A.png'\n",
        "S4_doubleA1C3_9 = '2F670532-3760-42FC-A982-1670FEE99E66.png'\n",
        "S4_doubleA1C4_9 = 'A40A09DE-DC0F-4A00-A891-F3D66A2F7CB5.png'\n",
        "S4_doubleA1D2_9 = 'E4566E8E-9E0D-4531-9712-5B47AE5386DE.png'\n",
        "S4_doubleA1D3_9 = '23C5E347-A9A1-466C-917D-E969268302DA.png'\n",
        "S4_doubleA1D4_9 = 'EFB719A3-D16E-42A3-861D-363E24755F58.png'"
      ],
      "execution_count": 322,
      "outputs": []
    },
    {
      "cell_type": "code",
      "metadata": {
        "id": "NKeThPc3er7v"
      },
      "source": [
        "S4_doubleA1A1_10 = 'C3752024-70F6-407B-B596-E214E55D43EB.png'\n",
        "S4_doubleA1A2_10 = '953E3485-ACFA-4EDA-B270-F9AA84853C94.png'\n",
        "S4_doubleA1A3_10 = '83B80683-3A06-474F-90E6-62391CB7A3F6.png'\n",
        "S4_doubleA1A3_510 = '01BD2023-D6A1-4AAA-A5A6-F507208F8E54.png'\n",
        "S4_doubleA1A4_10 = '372CFE56-E625-434C-A2DC-0FEEB167DDBA.png'\n",
        "S4_doubleA1B1_10 = '35484F9C-7BCF-4C31-A381-CCC85035B5FE.png'\n",
        "S4_doubleA1B2_10 = '29140CD3-A1A5-448C-B825-7BCBA9431B85.png'\n",
        "S4_doubleA1B3_10 = '123A90E7-21CE-4D56-B992-62F16D74A8FE.png'\n",
        "S4_doubleA1B4_10 = 'E561F380-5A2D-496F-B9F3-4B9907F020D6.png'\n",
        "S4_doubleA1C1_10 = 'F3E98998-3329-49D5-8439-80F6AF00BFE3.png'\n",
        "S4_doubleA1C2_10 = '56D069F6-8B47-48B3-9C6E-25AD8751779A.png'\n",
        "S4_doubleA1C3_10 = '2F670532-3760-42FC-A982-1670FEE99E66.png'\n",
        "S4_doubleA1C4_10 = 'A40A09DE-DC0F-4A00-A891-F3D66A2F7CB5.png'\n",
        "S4_doubleA1D2_10 = 'E4566E8E-9E0D-4531-9712-5B47AE5386DE.png'\n",
        "S4_doubleA1D3_10 = '23C5E347-A9A1-466C-917D-E969268302DA.png'\n",
        "S4_doubleA1D4_10 = 'EFB719A3-D16E-42A3-861D-363E24755F58.png'"
      ],
      "execution_count": 323,
      "outputs": []
    },
    {
      "cell_type": "markdown",
      "metadata": {
        "id": "Taw1dl5xglaj"
      },
      "source": [
        "#2. ดึงรูป"
      ]
    },
    {
      "cell_type": "code",
      "metadata": {
        "id": "jPe2WlLY4J0n"
      },
      "source": [
        "import cv2\n",
        "from matplotlib import pyplot as plt #การเรียกใช้คำสั่ง matplotlib เพื่อวาดกราฟ โดยแทนชื่อ matplotlib ด้วย plt\n",
        "import matplotlib"
      ],
      "execution_count": 324,
      "outputs": []
    },
    {
      "cell_type": "markdown",
      "metadata": {
        "id": "7Gl_H8idgnRf"
      },
      "source": [
        "##Set1"
      ]
    },
    {
      "cell_type": "code",
      "metadata": {
        "id": "s7mF6eEHiQ19",
        "colab": {
          "base_uri": "https://localhost:8080/"
        },
        "outputId": "6d3920f3-51ea-4e97-8cc1-734876c82b60"
      },
      "source": [
        "full_path_to_file2 = os.path.join(S1_doubleA1A1_1) \n",
        "blob_service_client.get_blob_to_path('shadeimg', full_path_to_file2, full_path_to_file2)"
      ],
      "execution_count": 325,
      "outputs": [
        {
          "output_type": "execute_result",
          "data": {
            "text/plain": [
              "<azure.storage.blob.models.Blob at 0x7f163189cd50>"
            ]
          },
          "metadata": {},
          "execution_count": 325
        }
      ]
    },
    {
      "cell_type": "code",
      "metadata": {
        "id": "kzMKB_OniZY1",
        "colab": {
          "base_uri": "https://localhost:8080/"
        },
        "outputId": "8d60ee7d-4bd6-439e-b666-205b0d2ac8e4"
      },
      "source": [
        "full_path_to_file2 = os.path.join(S1_doubleA1A2_1) \n",
        "blob_service_client.get_blob_to_path('shadeimg', full_path_to_file2, full_path_to_file2)"
      ],
      "execution_count": 326,
      "outputs": [
        {
          "output_type": "execute_result",
          "data": {
            "text/plain": [
              "<azure.storage.blob.models.Blob at 0x7f1620e16ad0>"
            ]
          },
          "metadata": {},
          "execution_count": 326
        }
      ]
    },
    {
      "cell_type": "code",
      "metadata": {
        "id": "IkeC-Fivih3w",
        "colab": {
          "base_uri": "https://localhost:8080/"
        },
        "outputId": "a9543894-4d31-4dda-bfbe-b89d075b557a"
      },
      "source": [
        "full_path_to_file2 = os.path.join(S1_doubleA1A3_1) \n",
        "blob_service_client.get_blob_to_path('shadeimg', full_path_to_file2, full_path_to_file2)"
      ],
      "execution_count": 327,
      "outputs": [
        {
          "output_type": "execute_result",
          "data": {
            "text/plain": [
              "<azure.storage.blob.models.Blob at 0x7f162a61eed0>"
            ]
          },
          "metadata": {},
          "execution_count": 327
        }
      ]
    },
    {
      "cell_type": "code",
      "metadata": {
        "id": "3Y9aMJj6ij5n",
        "colab": {
          "base_uri": "https://localhost:8080/"
        },
        "outputId": "f7ba5a0c-ca7a-419a-918a-16cfdec1d679"
      },
      "source": [
        "full_path_to_file2 = os.path.join(S1_doubleA1A3_51) \n",
        "blob_service_client.get_blob_to_path('shadeimg', full_path_to_file2, full_path_to_file2)"
      ],
      "execution_count": 328,
      "outputs": [
        {
          "output_type": "execute_result",
          "data": {
            "text/plain": [
              "<azure.storage.blob.models.Blob at 0x7f1620f0a850>"
            ]
          },
          "metadata": {},
          "execution_count": 328
        }
      ]
    },
    {
      "cell_type": "code",
      "metadata": {
        "id": "yrJq8907iuoY",
        "colab": {
          "base_uri": "https://localhost:8080/"
        },
        "outputId": "783f5ff3-6751-4f0a-a18a-1ce5df13725d"
      },
      "source": [
        "full_path_to_file2 = os.path.join(S1_doubleA1A4_1) \n",
        "blob_service_client.get_blob_to_path('shadeimg', full_path_to_file2, full_path_to_file2)"
      ],
      "execution_count": 329,
      "outputs": [
        {
          "output_type": "execute_result",
          "data": {
            "text/plain": [
              "<azure.storage.blob.models.Blob at 0x7f1620e54f10>"
            ]
          },
          "metadata": {},
          "execution_count": 329
        }
      ]
    },
    {
      "cell_type": "code",
      "metadata": {
        "id": "0VJcKHW2i0Ac",
        "colab": {
          "base_uri": "https://localhost:8080/"
        },
        "outputId": "340fa7f3-ed2d-4529-9eae-737fef1fcc23"
      },
      "source": [
        "full_path_to_file2 = os.path.join(S1_doubleA1B1_1) \n",
        "blob_service_client.get_blob_to_path('shadeimg', full_path_to_file2, full_path_to_file2)"
      ],
      "execution_count": 330,
      "outputs": [
        {
          "output_type": "execute_result",
          "data": {
            "text/plain": [
              "<azure.storage.blob.models.Blob at 0x7f1620ec38d0>"
            ]
          },
          "metadata": {},
          "execution_count": 330
        }
      ]
    },
    {
      "cell_type": "code",
      "metadata": {
        "id": "hY3AI9RFi0Ad",
        "colab": {
          "base_uri": "https://localhost:8080/"
        },
        "outputId": "baed67dc-015b-42b5-9b03-d300f59ad68f"
      },
      "source": [
        "full_path_to_file2 = os.path.join(S1_doubleA1B2_1) \n",
        "blob_service_client.get_blob_to_path('shadeimg', full_path_to_file2, full_path_to_file2)"
      ],
      "execution_count": 331,
      "outputs": [
        {
          "output_type": "execute_result",
          "data": {
            "text/plain": [
              "<azure.storage.blob.models.Blob at 0x7f1620f498d0>"
            ]
          },
          "metadata": {},
          "execution_count": 331
        }
      ]
    },
    {
      "cell_type": "code",
      "metadata": {
        "id": "GApmsAnKi0Ad",
        "colab": {
          "base_uri": "https://localhost:8080/"
        },
        "outputId": "500d33e6-3c96-451d-90b2-19aad10e7627"
      },
      "source": [
        "full_path_to_file2 = os.path.join(S1_doubleA1B3_1) \n",
        "blob_service_client.get_blob_to_path('shadeimg', full_path_to_file2, full_path_to_file2)"
      ],
      "execution_count": 332,
      "outputs": [
        {
          "output_type": "execute_result",
          "data": {
            "text/plain": [
              "<azure.storage.blob.models.Blob at 0x7f1620e21690>"
            ]
          },
          "metadata": {},
          "execution_count": 332
        }
      ]
    },
    {
      "cell_type": "code",
      "metadata": {
        "id": "O1h96HYqi7cu",
        "colab": {
          "base_uri": "https://localhost:8080/"
        },
        "outputId": "1b0a1c61-cf61-49d3-9376-10c21adadb6f"
      },
      "source": [
        "full_path_to_file2 = os.path.join(S1_doubleA1B4_1) \n",
        "blob_service_client.get_blob_to_path('shadeimg', full_path_to_file2, full_path_to_file2)"
      ],
      "execution_count": 333,
      "outputs": [
        {
          "output_type": "execute_result",
          "data": {
            "text/plain": [
              "<azure.storage.blob.models.Blob at 0x7f1620f59c10>"
            ]
          },
          "metadata": {},
          "execution_count": 333
        }
      ]
    },
    {
      "cell_type": "code",
      "metadata": {
        "id": "RsMHbknqi_fT",
        "colab": {
          "base_uri": "https://localhost:8080/"
        },
        "outputId": "29a20504-0305-4259-a31a-5f1a156ce3a4"
      },
      "source": [
        "full_path_to_file2 = os.path.join(S1_doubleA1C1_1) \n",
        "blob_service_client.get_blob_to_path('shadeimg', full_path_to_file2, full_path_to_file2)"
      ],
      "execution_count": 334,
      "outputs": [
        {
          "output_type": "execute_result",
          "data": {
            "text/plain": [
              "<azure.storage.blob.models.Blob at 0x7f1620e37e50>"
            ]
          },
          "metadata": {},
          "execution_count": 334
        }
      ]
    },
    {
      "cell_type": "code",
      "metadata": {
        "id": "wI0oZemgi_fT",
        "colab": {
          "base_uri": "https://localhost:8080/"
        },
        "outputId": "80c88f92-04ee-455a-d800-ca656c727ad2"
      },
      "source": [
        "full_path_to_file2 = os.path.join(S1_doubleA1C2_1) \n",
        "blob_service_client.get_blob_to_path('shadeimg', full_path_to_file2, full_path_to_file2)"
      ],
      "execution_count": 335,
      "outputs": [
        {
          "output_type": "execute_result",
          "data": {
            "text/plain": [
              "<azure.storage.blob.models.Blob at 0x7f1620e16450>"
            ]
          },
          "metadata": {},
          "execution_count": 335
        }
      ]
    },
    {
      "cell_type": "code",
      "metadata": {
        "id": "6ga7nGGti_fT",
        "colab": {
          "base_uri": "https://localhost:8080/"
        },
        "outputId": "c8aa44b7-9eeb-4877-9966-753e9de3eaee"
      },
      "source": [
        "full_path_to_file2 = os.path.join(S1_doubleA1C3_1) \n",
        "blob_service_client.get_blob_to_path('shadeimg', full_path_to_file2, full_path_to_file2)"
      ],
      "execution_count": 336,
      "outputs": [
        {
          "output_type": "execute_result",
          "data": {
            "text/plain": [
              "<azure.storage.blob.models.Blob at 0x7f16213c5510>"
            ]
          },
          "metadata": {},
          "execution_count": 336
        }
      ]
    },
    {
      "cell_type": "code",
      "metadata": {
        "id": "nsiPutfEi_fU",
        "colab": {
          "base_uri": "https://localhost:8080/"
        },
        "outputId": "172db518-4bbc-4919-b21a-e7cb0f461862"
      },
      "source": [
        "full_path_to_file2 = os.path.join(S1_doubleA1C4_1) \n",
        "blob_service_client.get_blob_to_path('shadeimg', full_path_to_file2, full_path_to_file2)"
      ],
      "execution_count": 337,
      "outputs": [
        {
          "output_type": "execute_result",
          "data": {
            "text/plain": [
              "<azure.storage.blob.models.Blob at 0x7f1620e76750>"
            ]
          },
          "metadata": {},
          "execution_count": 337
        }
      ]
    },
    {
      "cell_type": "code",
      "metadata": {
        "id": "IlqllUIljGVj",
        "colab": {
          "base_uri": "https://localhost:8080/"
        },
        "outputId": "cef2ae12-6976-4b8d-912b-f5aa3f58880c"
      },
      "source": [
        "full_path_to_file2 = os.path.join(S1_doubleA1D2_1) \n",
        "blob_service_client.get_blob_to_path('shadeimg', full_path_to_file2, full_path_to_file2)"
      ],
      "execution_count": 338,
      "outputs": [
        {
          "output_type": "execute_result",
          "data": {
            "text/plain": [
              "<azure.storage.blob.models.Blob at 0x7f1620dc9790>"
            ]
          },
          "metadata": {},
          "execution_count": 338
        }
      ]
    },
    {
      "cell_type": "code",
      "metadata": {
        "id": "jXXF16lsjGVj",
        "colab": {
          "base_uri": "https://localhost:8080/"
        },
        "outputId": "51dfad48-0230-449b-964d-6ebb34d3189c"
      },
      "source": [
        "full_path_to_file2 = os.path.join(S1_doubleA1D3_1) \n",
        "blob_service_client.get_blob_to_path('shadeimg', full_path_to_file2, full_path_to_file2)"
      ],
      "execution_count": 339,
      "outputs": [
        {
          "output_type": "execute_result",
          "data": {
            "text/plain": [
              "<azure.storage.blob.models.Blob at 0x7f1620e258d0>"
            ]
          },
          "metadata": {},
          "execution_count": 339
        }
      ]
    },
    {
      "cell_type": "code",
      "metadata": {
        "id": "xRA_M-1PjGVj",
        "colab": {
          "base_uri": "https://localhost:8080/"
        },
        "outputId": "1a605ab9-7709-4c68-d3d8-95597fe9b2cb"
      },
      "source": [
        "full_path_to_file2 = os.path.join(S1_doubleA1D4_1) \n",
        "blob_service_client.get_blob_to_path('shadeimg', full_path_to_file2, full_path_to_file2)"
      ],
      "execution_count": 340,
      "outputs": [
        {
          "output_type": "execute_result",
          "data": {
            "text/plain": [
              "<azure.storage.blob.models.Blob at 0x7f1620f6f1d0>"
            ]
          },
          "metadata": {},
          "execution_count": 340
        }
      ]
    },
    {
      "cell_type": "markdown",
      "metadata": {
        "id": "ctZILUENZxNJ"
      },
      "source": [
        "##Img 2"
      ]
    },
    {
      "cell_type": "code",
      "metadata": {
        "id": "IS9B9yPkarl_",
        "colab": {
          "base_uri": "https://localhost:8080/"
        },
        "outputId": "028bc290-947f-44c2-cf6f-1d7db4ae83fa"
      },
      "source": [
        "full_path_to_file2 = os.path.join(S1_doubleA1A1_2) \n",
        "blob_service_client.get_blob_to_path('shadeimg', full_path_to_file2, full_path_to_file2)"
      ],
      "execution_count": 341,
      "outputs": [
        {
          "output_type": "execute_result",
          "data": {
            "text/plain": [
              "<azure.storage.blob.models.Blob at 0x7f1620f110d0>"
            ]
          },
          "metadata": {},
          "execution_count": 341
        }
      ]
    },
    {
      "cell_type": "code",
      "metadata": {
        "id": "BllPAVuWarmA",
        "colab": {
          "base_uri": "https://localhost:8080/"
        },
        "outputId": "4627a98f-72c6-445f-d5c6-9e783ab139de"
      },
      "source": [
        "full_path_to_file2 = os.path.join(S1_doubleA1A2_2) \n",
        "blob_service_client.get_blob_to_path('shadeimg', full_path_to_file2, full_path_to_file2)"
      ],
      "execution_count": 342,
      "outputs": [
        {
          "output_type": "execute_result",
          "data": {
            "text/plain": [
              "<azure.storage.blob.models.Blob at 0x7f1620dcf1d0>"
            ]
          },
          "metadata": {},
          "execution_count": 342
        }
      ]
    },
    {
      "cell_type": "code",
      "metadata": {
        "id": "-4kUfX6varmB",
        "colab": {
          "base_uri": "https://localhost:8080/"
        },
        "outputId": "546e1e10-c18a-48f2-911c-00e7b9fc43ff"
      },
      "source": [
        "full_path_to_file2 = os.path.join(S1_doubleA1A3_2) \n",
        "blob_service_client.get_blob_to_path('shadeimg', full_path_to_file2, full_path_to_file2)"
      ],
      "execution_count": 343,
      "outputs": [
        {
          "output_type": "execute_result",
          "data": {
            "text/plain": [
              "<azure.storage.blob.models.Blob at 0x7f1620e9ad10>"
            ]
          },
          "metadata": {},
          "execution_count": 343
        }
      ]
    },
    {
      "cell_type": "code",
      "metadata": {
        "id": "LArO_C_OarmC",
        "colab": {
          "base_uri": "https://localhost:8080/"
        },
        "outputId": "1687133f-ca97-422d-dad3-8cf5b676ff3c"
      },
      "source": [
        "full_path_to_file2 = os.path.join(S1_doubleA1A3_52) \n",
        "blob_service_client.get_blob_to_path('shadeimg', full_path_to_file2, full_path_to_file2)"
      ],
      "execution_count": 344,
      "outputs": [
        {
          "output_type": "execute_result",
          "data": {
            "text/plain": [
              "<azure.storage.blob.models.Blob at 0x7f1620e0bf90>"
            ]
          },
          "metadata": {},
          "execution_count": 344
        }
      ]
    },
    {
      "cell_type": "code",
      "metadata": {
        "id": "jY7gzT96armC",
        "colab": {
          "base_uri": "https://localhost:8080/"
        },
        "outputId": "0ea7244e-cd0b-4924-8a74-cc99b1ce7721"
      },
      "source": [
        "full_path_to_file2 = os.path.join(S1_doubleA1A4_2) \n",
        "blob_service_client.get_blob_to_path('shadeimg', full_path_to_file2, full_path_to_file2)"
      ],
      "execution_count": 345,
      "outputs": [
        {
          "output_type": "execute_result",
          "data": {
            "text/plain": [
              "<azure.storage.blob.models.Blob at 0x7f1620e21e50>"
            ]
          },
          "metadata": {},
          "execution_count": 345
        }
      ]
    },
    {
      "cell_type": "code",
      "metadata": {
        "id": "r_tN80ViarmD",
        "colab": {
          "base_uri": "https://localhost:8080/"
        },
        "outputId": "da31f666-a598-4fde-a288-4f72be4731dc"
      },
      "source": [
        "full_path_to_file2 = os.path.join(S1_doubleA1B1_2) \n",
        "blob_service_client.get_blob_to_path('shadeimg', full_path_to_file2, full_path_to_file2)"
      ],
      "execution_count": 346,
      "outputs": [
        {
          "output_type": "execute_result",
          "data": {
            "text/plain": [
              "<azure.storage.blob.models.Blob at 0x7f1620eb2550>"
            ]
          },
          "metadata": {},
          "execution_count": 346
        }
      ]
    },
    {
      "cell_type": "code",
      "metadata": {
        "id": "7k1IhFJHarmD",
        "colab": {
          "base_uri": "https://localhost:8080/"
        },
        "outputId": "106a46ca-32ab-454b-94c1-48e510951637"
      },
      "source": [
        "full_path_to_file2 = os.path.join(S1_doubleA1B2_2) \n",
        "blob_service_client.get_blob_to_path('shadeimg', full_path_to_file2, full_path_to_file2)"
      ],
      "execution_count": 347,
      "outputs": [
        {
          "output_type": "execute_result",
          "data": {
            "text/plain": [
              "<azure.storage.blob.models.Blob at 0x7f1620e6fa10>"
            ]
          },
          "metadata": {},
          "execution_count": 347
        }
      ]
    },
    {
      "cell_type": "code",
      "metadata": {
        "id": "oU7FiinGarmE",
        "colab": {
          "base_uri": "https://localhost:8080/"
        },
        "outputId": "b984dfee-ddb7-49d4-d48f-9dee2c61e854"
      },
      "source": [
        "full_path_to_file2 = os.path.join(S1_doubleA1B3_2) \n",
        "blob_service_client.get_blob_to_path('shadeimg', full_path_to_file2, full_path_to_file2)"
      ],
      "execution_count": 348,
      "outputs": [
        {
          "output_type": "execute_result",
          "data": {
            "text/plain": [
              "<azure.storage.blob.models.Blob at 0x7f1620e16bd0>"
            ]
          },
          "metadata": {},
          "execution_count": 348
        }
      ]
    },
    {
      "cell_type": "code",
      "metadata": {
        "id": "eOKs2zHbarmE",
        "colab": {
          "base_uri": "https://localhost:8080/"
        },
        "outputId": "bfad316c-4739-414a-a5b8-64c52259f36a"
      },
      "source": [
        "full_path_to_file2 = os.path.join(S1_doubleA1B4_2) \n",
        "blob_service_client.get_blob_to_path('shadeimg', full_path_to_file2, full_path_to_file2)"
      ],
      "execution_count": 349,
      "outputs": [
        {
          "output_type": "execute_result",
          "data": {
            "text/plain": [
              "<azure.storage.blob.models.Blob at 0x7f1620ec8750>"
            ]
          },
          "metadata": {},
          "execution_count": 349
        }
      ]
    },
    {
      "cell_type": "code",
      "metadata": {
        "id": "U7SiS2N6armF",
        "colab": {
          "base_uri": "https://localhost:8080/"
        },
        "outputId": "c8377b63-9532-4cd6-f8c9-8fb51c132e21"
      },
      "source": [
        "full_path_to_file2 = os.path.join(S1_doubleA1C1_2) \n",
        "blob_service_client.get_blob_to_path('shadeimg', full_path_to_file2, full_path_to_file2)"
      ],
      "execution_count": 350,
      "outputs": [
        {
          "output_type": "execute_result",
          "data": {
            "text/plain": [
              "<azure.storage.blob.models.Blob at 0x7f1620e26610>"
            ]
          },
          "metadata": {},
          "execution_count": 350
        }
      ]
    },
    {
      "cell_type": "code",
      "metadata": {
        "id": "KcpzEnu9armG",
        "colab": {
          "base_uri": "https://localhost:8080/"
        },
        "outputId": "e9fdb20f-c5fe-4a03-a9a5-ba228dc3cdde"
      },
      "source": [
        "full_path_to_file2 = os.path.join(S1_doubleA1C2_2) \n",
        "blob_service_client.get_blob_to_path('shadeimg', full_path_to_file2, full_path_to_file2)"
      ],
      "execution_count": 351,
      "outputs": [
        {
          "output_type": "execute_result",
          "data": {
            "text/plain": [
              "<azure.storage.blob.models.Blob at 0x7f1620e0eb90>"
            ]
          },
          "metadata": {},
          "execution_count": 351
        }
      ]
    },
    {
      "cell_type": "code",
      "metadata": {
        "id": "hazhbOumarmG",
        "colab": {
          "base_uri": "https://localhost:8080/"
        },
        "outputId": "63585349-4dae-4a7d-ac7d-5838025c61fb"
      },
      "source": [
        "full_path_to_file2 = os.path.join(S1_doubleA1C3_2) \n",
        "blob_service_client.get_blob_to_path('shadeimg', full_path_to_file2, full_path_to_file2)"
      ],
      "execution_count": 352,
      "outputs": [
        {
          "output_type": "execute_result",
          "data": {
            "text/plain": [
              "<azure.storage.blob.models.Blob at 0x7f1620e63a90>"
            ]
          },
          "metadata": {},
          "execution_count": 352
        }
      ]
    },
    {
      "cell_type": "code",
      "metadata": {
        "id": "U-OoUWhNarmH",
        "colab": {
          "base_uri": "https://localhost:8080/"
        },
        "outputId": "f25fe11e-7550-4080-ec43-1f912f2512ba"
      },
      "source": [
        "full_path_to_file2 = os.path.join(S1_doubleA1C4_2) \n",
        "blob_service_client.get_blob_to_path('shadeimg', full_path_to_file2, full_path_to_file2)"
      ],
      "execution_count": 353,
      "outputs": [
        {
          "output_type": "execute_result",
          "data": {
            "text/plain": [
              "<azure.storage.blob.models.Blob at 0x7f1620e21c10>"
            ]
          },
          "metadata": {},
          "execution_count": 353
        }
      ]
    },
    {
      "cell_type": "code",
      "metadata": {
        "id": "_xD-Hj7karmH",
        "colab": {
          "base_uri": "https://localhost:8080/"
        },
        "outputId": "fddd362a-339f-4c7c-850c-0af40486e875"
      },
      "source": [
        "full_path_to_file2 = os.path.join(S1_doubleA1D2_2) \n",
        "blob_service_client.get_blob_to_path('shadeimg', full_path_to_file2, full_path_to_file2)"
      ],
      "execution_count": 354,
      "outputs": [
        {
          "output_type": "execute_result",
          "data": {
            "text/plain": [
              "<azure.storage.blob.models.Blob at 0x7f1620e760d0>"
            ]
          },
          "metadata": {},
          "execution_count": 354
        }
      ]
    },
    {
      "cell_type": "code",
      "metadata": {
        "id": "bUEqUL2marmI",
        "colab": {
          "base_uri": "https://localhost:8080/"
        },
        "outputId": "85ee7b3b-a427-439b-ef8c-ce003f4eea14"
      },
      "source": [
        "full_path_to_file2 = os.path.join(S1_doubleA1D3_2) \n",
        "blob_service_client.get_blob_to_path('shadeimg', full_path_to_file2, full_path_to_file2)"
      ],
      "execution_count": 355,
      "outputs": [
        {
          "output_type": "execute_result",
          "data": {
            "text/plain": [
              "<azure.storage.blob.models.Blob at 0x7f1620e4e550>"
            ]
          },
          "metadata": {},
          "execution_count": 355
        }
      ]
    },
    {
      "cell_type": "code",
      "metadata": {
        "id": "RSL36p-5armJ",
        "colab": {
          "base_uri": "https://localhost:8080/"
        },
        "outputId": "507a5a9b-9e49-4bf3-e791-e30585a2b39d"
      },
      "source": [
        "full_path_to_file2 = os.path.join(S1_doubleA1D4_2) \n",
        "blob_service_client.get_blob_to_path('shadeimg', full_path_to_file2, full_path_to_file2)"
      ],
      "execution_count": 356,
      "outputs": [
        {
          "output_type": "execute_result",
          "data": {
            "text/plain": [
              "<azure.storage.blob.models.Blob at 0x7f1620e63090>"
            ]
          },
          "metadata": {},
          "execution_count": 356
        }
      ]
    },
    {
      "cell_type": "markdown",
      "metadata": {
        "id": "JTzZp40yarmJ"
      },
      "source": [
        "##Img 3"
      ]
    },
    {
      "cell_type": "code",
      "metadata": {
        "id": "S2_pomstbD0S",
        "colab": {
          "base_uri": "https://localhost:8080/"
        },
        "outputId": "5786afbf-384f-4cec-856c-e84e2591bd37"
      },
      "source": [
        "full_path_to_file2 = os.path.join(S1_doubleA1A1_3) \n",
        "blob_service_client.get_blob_to_path('shadeimg', full_path_to_file2, full_path_to_file2)"
      ],
      "execution_count": 357,
      "outputs": [
        {
          "output_type": "execute_result",
          "data": {
            "text/plain": [
              "<azure.storage.blob.models.Blob at 0x7f1620f2d390>"
            ]
          },
          "metadata": {},
          "execution_count": 357
        }
      ]
    },
    {
      "cell_type": "code",
      "metadata": {
        "id": "KxZTnAD9bD0T",
        "colab": {
          "base_uri": "https://localhost:8080/"
        },
        "outputId": "ab2b6e7e-9cb1-45d1-d447-ce226915522f"
      },
      "source": [
        "full_path_to_file2 = os.path.join(S1_doubleA1A2_3) \n",
        "blob_service_client.get_blob_to_path('shadeimg', full_path_to_file2, full_path_to_file2)"
      ],
      "execution_count": 358,
      "outputs": [
        {
          "output_type": "execute_result",
          "data": {
            "text/plain": [
              "<azure.storage.blob.models.Blob at 0x7f1620f77290>"
            ]
          },
          "metadata": {},
          "execution_count": 358
        }
      ]
    },
    {
      "cell_type": "code",
      "metadata": {
        "id": "7Cy2jzEQbD0U",
        "colab": {
          "base_uri": "https://localhost:8080/"
        },
        "outputId": "3e5a1dd1-08ad-43df-80c6-eac0ec11bcb9"
      },
      "source": [
        "full_path_to_file2 = os.path.join(S1_doubleA1A3_3) \n",
        "blob_service_client.get_blob_to_path('shadeimg', full_path_to_file2, full_path_to_file2)"
      ],
      "execution_count": 359,
      "outputs": [
        {
          "output_type": "execute_result",
          "data": {
            "text/plain": [
              "<azure.storage.blob.models.Blob at 0x7f1620e637d0>"
            ]
          },
          "metadata": {},
          "execution_count": 359
        }
      ]
    },
    {
      "cell_type": "code",
      "metadata": {
        "id": "jMyXyjCebD0V",
        "colab": {
          "base_uri": "https://localhost:8080/"
        },
        "outputId": "b651e456-8fe1-4470-d615-15e49ab7eee7"
      },
      "source": [
        "full_path_to_file2 = os.path.join(S1_doubleA1A3_53) \n",
        "blob_service_client.get_blob_to_path('shadeimg', full_path_to_file2, full_path_to_file2)"
      ],
      "execution_count": 360,
      "outputs": [
        {
          "output_type": "execute_result",
          "data": {
            "text/plain": [
              "<azure.storage.blob.models.Blob at 0x7f1620e86110>"
            ]
          },
          "metadata": {},
          "execution_count": 360
        }
      ]
    },
    {
      "cell_type": "code",
      "metadata": {
        "id": "Xhr__6lWbD0V",
        "colab": {
          "base_uri": "https://localhost:8080/"
        },
        "outputId": "8fe5eb7c-3570-4cd9-a457-7f5d63aafb18"
      },
      "source": [
        "full_path_to_file2 = os.path.join(S1_doubleA1A4_3) \n",
        "blob_service_client.get_blob_to_path('shadeimg', full_path_to_file2, full_path_to_file2)"
      ],
      "execution_count": 361,
      "outputs": [
        {
          "output_type": "execute_result",
          "data": {
            "text/plain": [
              "<azure.storage.blob.models.Blob at 0x7f1620e2b290>"
            ]
          },
          "metadata": {},
          "execution_count": 361
        }
      ]
    },
    {
      "cell_type": "code",
      "metadata": {
        "id": "aIWAdCp9bD0X",
        "colab": {
          "base_uri": "https://localhost:8080/"
        },
        "outputId": "bc1a213b-2242-488b-b06a-406244975ba4"
      },
      "source": [
        "full_path_to_file2 = os.path.join(S1_doubleA1B1_3) \n",
        "blob_service_client.get_blob_to_path('shadeimg', full_path_to_file2, full_path_to_file2)"
      ],
      "execution_count": 362,
      "outputs": [
        {
          "output_type": "execute_result",
          "data": {
            "text/plain": [
              "<azure.storage.blob.models.Blob at 0x7f1620eea650>"
            ]
          },
          "metadata": {},
          "execution_count": 362
        }
      ]
    },
    {
      "cell_type": "code",
      "metadata": {
        "id": "Wyyw5WjWbD0X",
        "colab": {
          "base_uri": "https://localhost:8080/"
        },
        "outputId": "e5c54b9c-5fae-4e94-cc90-a0fa7810bd26"
      },
      "source": [
        "full_path_to_file2 = os.path.join(S1_doubleA1B2_3) \n",
        "blob_service_client.get_blob_to_path('shadeimg', full_path_to_file2, full_path_to_file2)"
      ],
      "execution_count": 363,
      "outputs": [
        {
          "output_type": "execute_result",
          "data": {
            "text/plain": [
              "<azure.storage.blob.models.Blob at 0x7f1620e6f690>"
            ]
          },
          "metadata": {},
          "execution_count": 363
        }
      ]
    },
    {
      "cell_type": "code",
      "metadata": {
        "id": "UBD9688ObD0Y",
        "colab": {
          "base_uri": "https://localhost:8080/"
        },
        "outputId": "0d127758-6b4c-4ab5-f9d4-aa3c3ac66575"
      },
      "source": [
        "full_path_to_file2 = os.path.join(S1_doubleA1B3_3) \n",
        "blob_service_client.get_blob_to_path('shadeimg', full_path_to_file2, full_path_to_file2)"
      ],
      "execution_count": 364,
      "outputs": [
        {
          "output_type": "execute_result",
          "data": {
            "text/plain": [
              "<azure.storage.blob.models.Blob at 0x7f1620e49b50>"
            ]
          },
          "metadata": {},
          "execution_count": 364
        }
      ]
    },
    {
      "cell_type": "code",
      "metadata": {
        "id": "tgC5B66ObD0Z",
        "colab": {
          "base_uri": "https://localhost:8080/"
        },
        "outputId": "5a7df25c-9d67-46c5-bce7-47ff99beb194"
      },
      "source": [
        "full_path_to_file2 = os.path.join(S1_doubleA1B4_3) \n",
        "blob_service_client.get_blob_to_path('shadeimg', full_path_to_file2, full_path_to_file2)"
      ],
      "execution_count": 365,
      "outputs": [
        {
          "output_type": "execute_result",
          "data": {
            "text/plain": [
              "<azure.storage.blob.models.Blob at 0x7f1620e26a50>"
            ]
          },
          "metadata": {},
          "execution_count": 365
        }
      ]
    },
    {
      "cell_type": "code",
      "metadata": {
        "id": "VsCusr4EbD0Z",
        "colab": {
          "base_uri": "https://localhost:8080/"
        },
        "outputId": "ca8bd071-732f-4058-8fcc-61589b63d5cf"
      },
      "source": [
        "full_path_to_file2 = os.path.join(S1_doubleA1C1_3) \n",
        "blob_service_client.get_blob_to_path('shadeimg', full_path_to_file2, full_path_to_file2)"
      ],
      "execution_count": 366,
      "outputs": [
        {
          "output_type": "execute_result",
          "data": {
            "text/plain": [
              "<azure.storage.blob.models.Blob at 0x7f1620f1b9d0>"
            ]
          },
          "metadata": {},
          "execution_count": 366
        }
      ]
    },
    {
      "cell_type": "code",
      "metadata": {
        "id": "FzHMbp8JbD0a",
        "colab": {
          "base_uri": "https://localhost:8080/"
        },
        "outputId": "b94f8395-b1cd-4cae-84d5-b8786c6cdd19"
      },
      "source": [
        "full_path_to_file2 = os.path.join(S1_doubleA1C2_3) \n",
        "blob_service_client.get_blob_to_path('shadeimg', full_path_to_file2, full_path_to_file2)"
      ],
      "execution_count": 367,
      "outputs": [
        {
          "output_type": "execute_result",
          "data": {
            "text/plain": [
              "<azure.storage.blob.models.Blob at 0x7f1620e6ba10>"
            ]
          },
          "metadata": {},
          "execution_count": 367
        }
      ]
    },
    {
      "cell_type": "code",
      "metadata": {
        "id": "SukxYOEObD0a",
        "colab": {
          "base_uri": "https://localhost:8080/"
        },
        "outputId": "a0d11288-5ae5-4722-d0ad-a63bd68a37c6"
      },
      "source": [
        "full_path_to_file2 = os.path.join(S1_doubleA1C3_3) \n",
        "blob_service_client.get_blob_to_path('shadeimg', full_path_to_file2, full_path_to_file2)"
      ],
      "execution_count": 368,
      "outputs": [
        {
          "output_type": "execute_result",
          "data": {
            "text/plain": [
              "<azure.storage.blob.models.Blob at 0x7f1620e6b510>"
            ]
          },
          "metadata": {},
          "execution_count": 368
        }
      ]
    },
    {
      "cell_type": "code",
      "metadata": {
        "id": "Tv1u3tYmbD0d",
        "colab": {
          "base_uri": "https://localhost:8080/"
        },
        "outputId": "1ffd5768-b85a-4f67-dae8-33750dcb7d78"
      },
      "source": [
        "full_path_to_file2 = os.path.join(S1_doubleA1C4_3) \n",
        "blob_service_client.get_blob_to_path('shadeimg', full_path_to_file2, full_path_to_file2)"
      ],
      "execution_count": 369,
      "outputs": [
        {
          "output_type": "execute_result",
          "data": {
            "text/plain": [
              "<azure.storage.blob.models.Blob at 0x7f1620e0bcd0>"
            ]
          },
          "metadata": {},
          "execution_count": 369
        }
      ]
    },
    {
      "cell_type": "code",
      "metadata": {
        "id": "6h7uJ_3NbD0e",
        "colab": {
          "base_uri": "https://localhost:8080/"
        },
        "outputId": "8c736a39-3e4f-421a-c45c-e03cc5b698c9"
      },
      "source": [
        "full_path_to_file2 = os.path.join(S1_doubleA1D2_3) \n",
        "blob_service_client.get_blob_to_path('shadeimg', full_path_to_file2, full_path_to_file2)"
      ],
      "execution_count": 370,
      "outputs": [
        {
          "output_type": "execute_result",
          "data": {
            "text/plain": [
              "<azure.storage.blob.models.Blob at 0x7f1620e1b210>"
            ]
          },
          "metadata": {},
          "execution_count": 370
        }
      ]
    },
    {
      "cell_type": "code",
      "metadata": {
        "id": "XG429HjrbD0e",
        "colab": {
          "base_uri": "https://localhost:8080/"
        },
        "outputId": "e373ca8d-2ed5-47cd-9c9a-d060efa9cf55"
      },
      "source": [
        "full_path_to_file2 = os.path.join(S1_doubleA1D3_3) \n",
        "blob_service_client.get_blob_to_path('shadeimg', full_path_to_file2, full_path_to_file2)"
      ],
      "execution_count": 371,
      "outputs": [
        {
          "output_type": "execute_result",
          "data": {
            "text/plain": [
              "<azure.storage.blob.models.Blob at 0x7f1620e1bcd0>"
            ]
          },
          "metadata": {},
          "execution_count": 371
        }
      ]
    },
    {
      "cell_type": "code",
      "metadata": {
        "id": "t7KeVGgcbD0f",
        "colab": {
          "base_uri": "https://localhost:8080/"
        },
        "outputId": "e8b73fe8-9bf9-4b36-f78a-4def1f36bc83"
      },
      "source": [
        "full_path_to_file2 = os.path.join(S1_doubleA1D4_3) \n",
        "blob_service_client.get_blob_to_path('shadeimg', full_path_to_file2, full_path_to_file2)"
      ],
      "execution_count": 372,
      "outputs": [
        {
          "output_type": "execute_result",
          "data": {
            "text/plain": [
              "<azure.storage.blob.models.Blob at 0x7f1620f44c90>"
            ]
          },
          "metadata": {},
          "execution_count": 372
        }
      ]
    },
    {
      "cell_type": "markdown",
      "metadata": {
        "id": "DwwnKHqXbD0f"
      },
      "source": [
        "##Img 4"
      ]
    },
    {
      "cell_type": "code",
      "metadata": {
        "id": "DMRu4-1FbWeJ",
        "colab": {
          "base_uri": "https://localhost:8080/"
        },
        "outputId": "38911572-e6c8-479f-b39f-2ae6ac8f279c"
      },
      "source": [
        "full_path_to_file2 = os.path.join(S1_doubleA1A1_4) \n",
        "blob_service_client.get_blob_to_path('shadeimg', full_path_to_file2, full_path_to_file2)"
      ],
      "execution_count": 373,
      "outputs": [
        {
          "output_type": "execute_result",
          "data": {
            "text/plain": [
              "<azure.storage.blob.models.Blob at 0x7f1620e0e590>"
            ]
          },
          "metadata": {},
          "execution_count": 373
        }
      ]
    },
    {
      "cell_type": "code",
      "metadata": {
        "id": "zRYyKFZ9bWeK",
        "colab": {
          "base_uri": "https://localhost:8080/"
        },
        "outputId": "7220654b-2346-4c09-954e-7bce6e5171c7"
      },
      "source": [
        "full_path_to_file2 = os.path.join(S1_doubleA1A2_4) \n",
        "blob_service_client.get_blob_to_path('shadeimg', full_path_to_file2, full_path_to_file2)"
      ],
      "execution_count": 374,
      "outputs": [
        {
          "output_type": "execute_result",
          "data": {
            "text/plain": [
              "<azure.storage.blob.models.Blob at 0x7f1620ec2150>"
            ]
          },
          "metadata": {},
          "execution_count": 374
        }
      ]
    },
    {
      "cell_type": "code",
      "metadata": {
        "id": "lidWpo37bWeK",
        "colab": {
          "base_uri": "https://localhost:8080/"
        },
        "outputId": "193e7347-4a1a-4f7a-eb53-9328ddf73878"
      },
      "source": [
        "full_path_to_file2 = os.path.join(S1_doubleA1A3_4) \n",
        "blob_service_client.get_blob_to_path('shadeimg', full_path_to_file2, full_path_to_file2)"
      ],
      "execution_count": 375,
      "outputs": [
        {
          "output_type": "execute_result",
          "data": {
            "text/plain": [
              "<azure.storage.blob.models.Blob at 0x7f1620eea3d0>"
            ]
          },
          "metadata": {},
          "execution_count": 375
        }
      ]
    },
    {
      "cell_type": "code",
      "metadata": {
        "id": "kgHPzfDYbWeL",
        "colab": {
          "base_uri": "https://localhost:8080/"
        },
        "outputId": "053b8c3c-a598-4f76-a430-9ec9c17aca1a"
      },
      "source": [
        "full_path_to_file2 = os.path.join(S1_doubleA1A3_54) \n",
        "blob_service_client.get_blob_to_path('shadeimg', full_path_to_file2, full_path_to_file2)"
      ],
      "execution_count": 376,
      "outputs": [
        {
          "output_type": "execute_result",
          "data": {
            "text/plain": [
              "<azure.storage.blob.models.Blob at 0x7f1620e80390>"
            ]
          },
          "metadata": {},
          "execution_count": 376
        }
      ]
    },
    {
      "cell_type": "code",
      "metadata": {
        "id": "2m-rE5xdbWeL",
        "colab": {
          "base_uri": "https://localhost:8080/"
        },
        "outputId": "f3cc802f-8676-4733-e8d8-db0c91bbbb75"
      },
      "source": [
        "full_path_to_file2 = os.path.join(S1_doubleA1A4_4) \n",
        "blob_service_client.get_blob_to_path('shadeimg', full_path_to_file2, full_path_to_file2)"
      ],
      "execution_count": 377,
      "outputs": [
        {
          "output_type": "execute_result",
          "data": {
            "text/plain": [
              "<azure.storage.blob.models.Blob at 0x7f1620eb42d0>"
            ]
          },
          "metadata": {},
          "execution_count": 377
        }
      ]
    },
    {
      "cell_type": "code",
      "metadata": {
        "id": "P35XEE-8bWeL",
        "colab": {
          "base_uri": "https://localhost:8080/"
        },
        "outputId": "b389275e-6eca-4e11-b8f0-14a91ef8e6ba"
      },
      "source": [
        "full_path_to_file2 = os.path.join(S1_doubleA1B1_4) \n",
        "blob_service_client.get_blob_to_path('shadeimg', full_path_to_file2, full_path_to_file2)"
      ],
      "execution_count": 378,
      "outputs": [
        {
          "output_type": "execute_result",
          "data": {
            "text/plain": [
              "<azure.storage.blob.models.Blob at 0x7f1620e3cc90>"
            ]
          },
          "metadata": {},
          "execution_count": 378
        }
      ]
    },
    {
      "cell_type": "code",
      "metadata": {
        "id": "YYRlNsp1bWeM",
        "colab": {
          "base_uri": "https://localhost:8080/"
        },
        "outputId": "45746911-ae90-454f-c228-e4676c251db9"
      },
      "source": [
        "full_path_to_file2 = os.path.join(S1_doubleA1B2_4) \n",
        "blob_service_client.get_blob_to_path('shadeimg', full_path_to_file2, full_path_to_file2)"
      ],
      "execution_count": 379,
      "outputs": [
        {
          "output_type": "execute_result",
          "data": {
            "text/plain": [
              "<azure.storage.blob.models.Blob at 0x7f1620e2e790>"
            ]
          },
          "metadata": {},
          "execution_count": 379
        }
      ]
    },
    {
      "cell_type": "code",
      "metadata": {
        "id": "OKicpqWtbWeM",
        "colab": {
          "base_uri": "https://localhost:8080/"
        },
        "outputId": "1adb3e48-4a34-49c2-bdba-9105eb36c378"
      },
      "source": [
        "full_path_to_file2 = os.path.join(S1_doubleA1B3_4) \n",
        "blob_service_client.get_blob_to_path('shadeimg', full_path_to_file2, full_path_to_file2)"
      ],
      "execution_count": 380,
      "outputs": [
        {
          "output_type": "execute_result",
          "data": {
            "text/plain": [
              "<azure.storage.blob.models.Blob at 0x7f1620e3d190>"
            ]
          },
          "metadata": {},
          "execution_count": 380
        }
      ]
    },
    {
      "cell_type": "code",
      "metadata": {
        "id": "336FOeuDbWeM",
        "colab": {
          "base_uri": "https://localhost:8080/"
        },
        "outputId": "add21ae8-bd5b-4e78-faa7-2a1b559500ea"
      },
      "source": [
        "full_path_to_file2 = os.path.join(S1_doubleA1B4_4) \n",
        "blob_service_client.get_blob_to_path('shadeimg', full_path_to_file2, full_path_to_file2)"
      ],
      "execution_count": 381,
      "outputs": [
        {
          "output_type": "execute_result",
          "data": {
            "text/plain": [
              "<azure.storage.blob.models.Blob at 0x7f1620e4e890>"
            ]
          },
          "metadata": {},
          "execution_count": 381
        }
      ]
    },
    {
      "cell_type": "code",
      "metadata": {
        "id": "Wy_IaQoDbWeN",
        "colab": {
          "base_uri": "https://localhost:8080/"
        },
        "outputId": "0fd24177-5b93-450d-dbeb-02ef3213681f"
      },
      "source": [
        "full_path_to_file2 = os.path.join(S1_doubleA1C1_4) \n",
        "blob_service_client.get_blob_to_path('shadeimg', full_path_to_file2, full_path_to_file2)"
      ],
      "execution_count": 382,
      "outputs": [
        {
          "output_type": "execute_result",
          "data": {
            "text/plain": [
              "<azure.storage.blob.models.Blob at 0x7f1620edd790>"
            ]
          },
          "metadata": {},
          "execution_count": 382
        }
      ]
    },
    {
      "cell_type": "code",
      "metadata": {
        "id": "3FHNrdWqbWeN",
        "colab": {
          "base_uri": "https://localhost:8080/"
        },
        "outputId": "b148c7f6-030d-42b6-aa2a-a6c3b9edf753"
      },
      "source": [
        "full_path_to_file2 = os.path.join(S1_doubleA1C2_4) \n",
        "blob_service_client.get_blob_to_path('shadeimg', full_path_to_file2, full_path_to_file2)"
      ],
      "execution_count": 383,
      "outputs": [
        {
          "output_type": "execute_result",
          "data": {
            "text/plain": [
              "<azure.storage.blob.models.Blob at 0x7f1620f44dd0>"
            ]
          },
          "metadata": {},
          "execution_count": 383
        }
      ]
    },
    {
      "cell_type": "code",
      "metadata": {
        "id": "13rum4dNbWeN",
        "colab": {
          "base_uri": "https://localhost:8080/"
        },
        "outputId": "aa8647ac-018c-4cd8-e369-36033efa9d23"
      },
      "source": [
        "full_path_to_file2 = os.path.join(S1_doubleA1C3_4) \n",
        "blob_service_client.get_blob_to_path('shadeimg', full_path_to_file2, full_path_to_file2)"
      ],
      "execution_count": 384,
      "outputs": [
        {
          "output_type": "execute_result",
          "data": {
            "text/plain": [
              "<azure.storage.blob.models.Blob at 0x7f1620dd2990>"
            ]
          },
          "metadata": {},
          "execution_count": 384
        }
      ]
    },
    {
      "cell_type": "code",
      "metadata": {
        "id": "Kw4IEitEbWeR",
        "colab": {
          "base_uri": "https://localhost:8080/"
        },
        "outputId": "bdf75585-5112-49fc-ba3e-fc391ff26f05"
      },
      "source": [
        "full_path_to_file2 = os.path.join(S1_doubleA1C4_4) \n",
        "blob_service_client.get_blob_to_path('shadeimg', full_path_to_file2, full_path_to_file2)"
      ],
      "execution_count": 385,
      "outputs": [
        {
          "output_type": "execute_result",
          "data": {
            "text/plain": [
              "<azure.storage.blob.models.Blob at 0x7f1620e37510>"
            ]
          },
          "metadata": {},
          "execution_count": 385
        }
      ]
    },
    {
      "cell_type": "code",
      "metadata": {
        "id": "Qmgtor9LbWeS",
        "colab": {
          "base_uri": "https://localhost:8080/"
        },
        "outputId": "2657b2d5-5078-4757-fda0-74756b7953ad"
      },
      "source": [
        "full_path_to_file2 = os.path.join(S1_doubleA1D2_4) \n",
        "blob_service_client.get_blob_to_path('shadeimg', full_path_to_file2, full_path_to_file2)"
      ],
      "execution_count": 386,
      "outputs": [
        {
          "output_type": "execute_result",
          "data": {
            "text/plain": [
              "<azure.storage.blob.models.Blob at 0x7f1620e0e510>"
            ]
          },
          "metadata": {},
          "execution_count": 386
        }
      ]
    },
    {
      "cell_type": "code",
      "metadata": {
        "id": "2JHIpGlebWeS",
        "colab": {
          "base_uri": "https://localhost:8080/"
        },
        "outputId": "a853e7c6-a974-4b95-edec-7b77e8c3117a"
      },
      "source": [
        "full_path_to_file2 = os.path.join(S1_doubleA1D3_4) \n",
        "blob_service_client.get_blob_to_path('shadeimg', full_path_to_file2, full_path_to_file2)"
      ],
      "execution_count": 387,
      "outputs": [
        {
          "output_type": "execute_result",
          "data": {
            "text/plain": [
              "<azure.storage.blob.models.Blob at 0x7f1620e83490>"
            ]
          },
          "metadata": {},
          "execution_count": 387
        }
      ]
    },
    {
      "cell_type": "code",
      "metadata": {
        "id": "EQcWyvujbWeS",
        "colab": {
          "base_uri": "https://localhost:8080/"
        },
        "outputId": "d854efc5-d74a-428b-9c5c-bffde3190fce"
      },
      "source": [
        "full_path_to_file2 = os.path.join(S1_doubleA1D4_4) \n",
        "blob_service_client.get_blob_to_path('shadeimg', full_path_to_file2, full_path_to_file2)"
      ],
      "execution_count": 388,
      "outputs": [
        {
          "output_type": "execute_result",
          "data": {
            "text/plain": [
              "<azure.storage.blob.models.Blob at 0x7f1620e766d0>"
            ]
          },
          "metadata": {},
          "execution_count": 388
        }
      ]
    },
    {
      "cell_type": "markdown",
      "metadata": {
        "id": "ezvfgEdqbWeT"
      },
      "source": [
        "##Img 5"
      ]
    },
    {
      "cell_type": "code",
      "metadata": {
        "id": "yoR9sgpTbmP7",
        "colab": {
          "base_uri": "https://localhost:8080/"
        },
        "outputId": "f3bb97f3-59a7-4d73-cd80-8f2aad2233a5"
      },
      "source": [
        "full_path_to_file2 = os.path.join(S1_doubleA1A1_5) \n",
        "blob_service_client.get_blob_to_path('shadeimg', full_path_to_file2, full_path_to_file2)"
      ],
      "execution_count": 389,
      "outputs": [
        {
          "output_type": "execute_result",
          "data": {
            "text/plain": [
              "<azure.storage.blob.models.Blob at 0x7f1620e41950>"
            ]
          },
          "metadata": {},
          "execution_count": 389
        }
      ]
    },
    {
      "cell_type": "code",
      "metadata": {
        "id": "qQ4h1WnhbmP8",
        "colab": {
          "base_uri": "https://localhost:8080/"
        },
        "outputId": "44a969ea-c881-41aa-f041-7cc766d6c83f"
      },
      "source": [
        "full_path_to_file2 = os.path.join(S1_doubleA1A2_5) \n",
        "blob_service_client.get_blob_to_path('shadeimg', full_path_to_file2, full_path_to_file2)"
      ],
      "execution_count": 390,
      "outputs": [
        {
          "output_type": "execute_result",
          "data": {
            "text/plain": [
              "<azure.storage.blob.models.Blob at 0x7f162a61e690>"
            ]
          },
          "metadata": {},
          "execution_count": 390
        }
      ]
    },
    {
      "cell_type": "code",
      "metadata": {
        "id": "x_iwy9albmP8",
        "colab": {
          "base_uri": "https://localhost:8080/"
        },
        "outputId": "1397e227-e426-4e1e-ebd1-17b5e9f8a84e"
      },
      "source": [
        "full_path_to_file2 = os.path.join(S1_doubleA1A3_5) \n",
        "blob_service_client.get_blob_to_path('shadeimg', full_path_to_file2, full_path_to_file2)"
      ],
      "execution_count": 391,
      "outputs": [
        {
          "output_type": "execute_result",
          "data": {
            "text/plain": [
              "<azure.storage.blob.models.Blob at 0x7f1620ec3e90>"
            ]
          },
          "metadata": {},
          "execution_count": 391
        }
      ]
    },
    {
      "cell_type": "code",
      "metadata": {
        "id": "49xnybwnbmP9",
        "colab": {
          "base_uri": "https://localhost:8080/"
        },
        "outputId": "ea5ec240-8aac-4887-9546-05b79b63cdcb"
      },
      "source": [
        "full_path_to_file2 = os.path.join(S1_doubleA1A3_55) \n",
        "blob_service_client.get_blob_to_path('shadeimg', full_path_to_file2, full_path_to_file2)"
      ],
      "execution_count": 392,
      "outputs": [
        {
          "output_type": "execute_result",
          "data": {
            "text/plain": [
              "<azure.storage.blob.models.Blob at 0x7f162a614390>"
            ]
          },
          "metadata": {},
          "execution_count": 392
        }
      ]
    },
    {
      "cell_type": "code",
      "metadata": {
        "id": "2qPaEWIHbmP9",
        "colab": {
          "base_uri": "https://localhost:8080/"
        },
        "outputId": "692c857b-4fc9-49cc-f99d-dea1925dfdb5"
      },
      "source": [
        "full_path_to_file2 = os.path.join(S1_doubleA1A4_5) \n",
        "blob_service_client.get_blob_to_path('shadeimg', full_path_to_file2, full_path_to_file2)"
      ],
      "execution_count": 393,
      "outputs": [
        {
          "output_type": "execute_result",
          "data": {
            "text/plain": [
              "<azure.storage.blob.models.Blob at 0x7f1620dd22d0>"
            ]
          },
          "metadata": {},
          "execution_count": 393
        }
      ]
    },
    {
      "cell_type": "code",
      "metadata": {
        "id": "NCLFk_7-bmP-",
        "colab": {
          "base_uri": "https://localhost:8080/"
        },
        "outputId": "60705c37-0458-4722-b579-93606f6bba75"
      },
      "source": [
        "full_path_to_file2 = os.path.join(S1_doubleA1B1_5) \n",
        "blob_service_client.get_blob_to_path('shadeimg', full_path_to_file2, full_path_to_file2)"
      ],
      "execution_count": 394,
      "outputs": [
        {
          "output_type": "execute_result",
          "data": {
            "text/plain": [
              "<azure.storage.blob.models.Blob at 0x7f1620dc9b50>"
            ]
          },
          "metadata": {},
          "execution_count": 394
        }
      ]
    },
    {
      "cell_type": "code",
      "metadata": {
        "id": "7q2YWqaibmP_",
        "colab": {
          "base_uri": "https://localhost:8080/"
        },
        "outputId": "f3a35216-18cd-4814-8656-a7f958dbabe2"
      },
      "source": [
        "full_path_to_file2 = os.path.join(S1_doubleA1B2_5) \n",
        "blob_service_client.get_blob_to_path('shadeimg', full_path_to_file2, full_path_to_file2)"
      ],
      "execution_count": 395,
      "outputs": [
        {
          "output_type": "execute_result",
          "data": {
            "text/plain": [
              "<azure.storage.blob.models.Blob at 0x7f1620e37f50>"
            ]
          },
          "metadata": {},
          "execution_count": 395
        }
      ]
    },
    {
      "cell_type": "code",
      "metadata": {
        "id": "_5O9dHpobmQA",
        "colab": {
          "base_uri": "https://localhost:8080/"
        },
        "outputId": "8e5dcc72-7b5b-40b8-9b62-2a369f4609ac"
      },
      "source": [
        "full_path_to_file2 = os.path.join(S1_doubleA1B3_5) \n",
        "blob_service_client.get_blob_to_path('shadeimg', full_path_to_file2, full_path_to_file2)"
      ],
      "execution_count": 396,
      "outputs": [
        {
          "output_type": "execute_result",
          "data": {
            "text/plain": [
              "<azure.storage.blob.models.Blob at 0x7f1620dd2610>"
            ]
          },
          "metadata": {},
          "execution_count": 396
        }
      ]
    },
    {
      "cell_type": "code",
      "metadata": {
        "id": "JSI7Q1QibmQB",
        "colab": {
          "base_uri": "https://localhost:8080/"
        },
        "outputId": "e3eb41c9-c95e-4b46-9b1e-75057a76a797"
      },
      "source": [
        "full_path_to_file2 = os.path.join(S1_doubleA1B4_5) \n",
        "blob_service_client.get_blob_to_path('shadeimg', full_path_to_file2, full_path_to_file2)"
      ],
      "execution_count": 397,
      "outputs": [
        {
          "output_type": "execute_result",
          "data": {
            "text/plain": [
              "<azure.storage.blob.models.Blob at 0x7f1620e91210>"
            ]
          },
          "metadata": {},
          "execution_count": 397
        }
      ]
    },
    {
      "cell_type": "code",
      "metadata": {
        "id": "gkbg-IqBbmQD",
        "colab": {
          "base_uri": "https://localhost:8080/"
        },
        "outputId": "d2554470-40cf-4a02-872b-ab0b8c866481"
      },
      "source": [
        "full_path_to_file2 = os.path.join(S1_doubleA1C1_5) \n",
        "blob_service_client.get_blob_to_path('shadeimg', full_path_to_file2, full_path_to_file2)"
      ],
      "execution_count": 398,
      "outputs": [
        {
          "output_type": "execute_result",
          "data": {
            "text/plain": [
              "<azure.storage.blob.models.Blob at 0x7f1620e91810>"
            ]
          },
          "metadata": {},
          "execution_count": 398
        }
      ]
    },
    {
      "cell_type": "code",
      "metadata": {
        "id": "2NX90r4EbmQD",
        "colab": {
          "base_uri": "https://localhost:8080/"
        },
        "outputId": "70180157-eb96-4aee-a356-e39e7faee3a1"
      },
      "source": [
        "full_path_to_file2 = os.path.join(S1_doubleA1C2_5) \n",
        "blob_service_client.get_blob_to_path('shadeimg', full_path_to_file2, full_path_to_file2)"
      ],
      "execution_count": 399,
      "outputs": [
        {
          "output_type": "execute_result",
          "data": {
            "text/plain": [
              "<azure.storage.blob.models.Blob at 0x7f1620e5e850>"
            ]
          },
          "metadata": {},
          "execution_count": 399
        }
      ]
    },
    {
      "cell_type": "code",
      "metadata": {
        "id": "UoqalvodbmQE",
        "colab": {
          "base_uri": "https://localhost:8080/"
        },
        "outputId": "a081f2e6-c195-4bf7-f807-13c17bad2d4f"
      },
      "source": [
        "full_path_to_file2 = os.path.join(S1_doubleA1C3_5) \n",
        "blob_service_client.get_blob_to_path('shadeimg', full_path_to_file2, full_path_to_file2)"
      ],
      "execution_count": 400,
      "outputs": [
        {
          "output_type": "execute_result",
          "data": {
            "text/plain": [
              "<azure.storage.blob.models.Blob at 0x7f1620e41c10>"
            ]
          },
          "metadata": {},
          "execution_count": 400
        }
      ]
    },
    {
      "cell_type": "code",
      "metadata": {
        "id": "96--GVnebmQE",
        "colab": {
          "base_uri": "https://localhost:8080/"
        },
        "outputId": "db567274-1a6c-494e-8c1b-efba408ae770"
      },
      "source": [
        "full_path_to_file2 = os.path.join(S1_doubleA1C4_5) \n",
        "blob_service_client.get_blob_to_path('shadeimg', full_path_to_file2, full_path_to_file2)"
      ],
      "execution_count": 401,
      "outputs": [
        {
          "output_type": "execute_result",
          "data": {
            "text/plain": [
              "<azure.storage.blob.models.Blob at 0x7f1620df4510>"
            ]
          },
          "metadata": {},
          "execution_count": 401
        }
      ]
    },
    {
      "cell_type": "code",
      "metadata": {
        "id": "4IJdoMddbmQF",
        "colab": {
          "base_uri": "https://localhost:8080/"
        },
        "outputId": "6267caa2-2fc2-44c3-f143-fae2087b2664"
      },
      "source": [
        "full_path_to_file2 = os.path.join(S1_doubleA1D2_5) \n",
        "blob_service_client.get_blob_to_path('shadeimg', full_path_to_file2, full_path_to_file2)"
      ],
      "execution_count": 402,
      "outputs": [
        {
          "output_type": "execute_result",
          "data": {
            "text/plain": [
              "<azure.storage.blob.models.Blob at 0x7f1620df6410>"
            ]
          },
          "metadata": {},
          "execution_count": 402
        }
      ]
    },
    {
      "cell_type": "code",
      "metadata": {
        "id": "YZzMUE6DbmQF",
        "colab": {
          "base_uri": "https://localhost:8080/"
        },
        "outputId": "27aced11-124d-491d-c492-b4c314de7e39"
      },
      "source": [
        "full_path_to_file2 = os.path.join(S1_doubleA1D3_5) \n",
        "blob_service_client.get_blob_to_path('shadeimg', full_path_to_file2, full_path_to_file2)"
      ],
      "execution_count": 403,
      "outputs": [
        {
          "output_type": "execute_result",
          "data": {
            "text/plain": [
              "<azure.storage.blob.models.Blob at 0x7f1620df6d90>"
            ]
          },
          "metadata": {},
          "execution_count": 403
        }
      ]
    },
    {
      "cell_type": "code",
      "metadata": {
        "id": "OoBgpK07bmQG",
        "colab": {
          "base_uri": "https://localhost:8080/"
        },
        "outputId": "40a248ed-660a-4a28-d520-cf5a5aea8f4b"
      },
      "source": [
        "full_path_to_file2 = os.path.join(S1_doubleA1D4_5) \n",
        "blob_service_client.get_blob_to_path('shadeimg', full_path_to_file2, full_path_to_file2)"
      ],
      "execution_count": 404,
      "outputs": [
        {
          "output_type": "execute_result",
          "data": {
            "text/plain": [
              "<azure.storage.blob.models.Blob at 0x7f1620dfd650>"
            ]
          },
          "metadata": {},
          "execution_count": 404
        }
      ]
    },
    {
      "cell_type": "markdown",
      "metadata": {
        "id": "U6Fd2_jPbmQG"
      },
      "source": [
        "##Img 6"
      ]
    },
    {
      "cell_type": "code",
      "metadata": {
        "id": "i7XyegVLb9IM",
        "colab": {
          "base_uri": "https://localhost:8080/"
        },
        "outputId": "f73fbd2c-bb86-41b5-cd84-58be5b04ad6e"
      },
      "source": [
        "full_path_to_file2 = os.path.join(S1_doubleA1A1_6) \n",
        "blob_service_client.get_blob_to_path('shadeimg', full_path_to_file2, full_path_to_file2)"
      ],
      "execution_count": 405,
      "outputs": [
        {
          "output_type": "execute_result",
          "data": {
            "text/plain": [
              "<azure.storage.blob.models.Blob at 0x7f1620dfd710>"
            ]
          },
          "metadata": {},
          "execution_count": 405
        }
      ]
    },
    {
      "cell_type": "code",
      "metadata": {
        "id": "Zagpv4tQb9IO",
        "colab": {
          "base_uri": "https://localhost:8080/"
        },
        "outputId": "0bc30718-c248-4f4b-ff54-d91655ab7937"
      },
      "source": [
        "full_path_to_file2 = os.path.join(S1_doubleA1A2_6) \n",
        "blob_service_client.get_blob_to_path('shadeimg', full_path_to_file2, full_path_to_file2)"
      ],
      "execution_count": 406,
      "outputs": [
        {
          "output_type": "execute_result",
          "data": {
            "text/plain": [
              "<azure.storage.blob.models.Blob at 0x7f1620ecdc10>"
            ]
          },
          "metadata": {},
          "execution_count": 406
        }
      ]
    },
    {
      "cell_type": "code",
      "metadata": {
        "id": "UWcC4tRyb9IP",
        "colab": {
          "base_uri": "https://localhost:8080/"
        },
        "outputId": "65b8dddc-1955-4852-fc87-b1e56502a906"
      },
      "source": [
        "full_path_to_file2 = os.path.join(S1_doubleA1A3_6) \n",
        "blob_service_client.get_blob_to_path('shadeimg', full_path_to_file2, full_path_to_file2)"
      ],
      "execution_count": 407,
      "outputs": [
        {
          "output_type": "execute_result",
          "data": {
            "text/plain": [
              "<azure.storage.blob.models.Blob at 0x7f1620dfdc90>"
            ]
          },
          "metadata": {},
          "execution_count": 407
        }
      ]
    },
    {
      "cell_type": "code",
      "metadata": {
        "id": "BBYyPUrub9IQ",
        "colab": {
          "base_uri": "https://localhost:8080/"
        },
        "outputId": "38634d8b-7860-4ed0-99d8-446c1bb7493e"
      },
      "source": [
        "full_path_to_file2 = os.path.join(S1_doubleA1A3_56) \n",
        "blob_service_client.get_blob_to_path('shadeimg', full_path_to_file2, full_path_to_file2)"
      ],
      "execution_count": 408,
      "outputs": [
        {
          "output_type": "execute_result",
          "data": {
            "text/plain": [
              "<azure.storage.blob.models.Blob at 0x7f1620dd2950>"
            ]
          },
          "metadata": {},
          "execution_count": 408
        }
      ]
    },
    {
      "cell_type": "code",
      "metadata": {
        "id": "tSylDDyWb9IQ",
        "colab": {
          "base_uri": "https://localhost:8080/"
        },
        "outputId": "d78c6f9a-393b-4a4f-e70e-c3b25cae8fb3"
      },
      "source": [
        "full_path_to_file2 = os.path.join(S1_doubleA1A4_6) \n",
        "blob_service_client.get_blob_to_path('shadeimg', full_path_to_file2, full_path_to_file2)"
      ],
      "execution_count": 409,
      "outputs": [
        {
          "output_type": "execute_result",
          "data": {
            "text/plain": [
              "<azure.storage.blob.models.Blob at 0x7f1620e0bf50>"
            ]
          },
          "metadata": {},
          "execution_count": 409
        }
      ]
    },
    {
      "cell_type": "code",
      "metadata": {
        "id": "lpuKqhPhb9IR",
        "colab": {
          "base_uri": "https://localhost:8080/"
        },
        "outputId": "a699dca4-33ed-4c19-e7a1-3e23307c0be1"
      },
      "source": [
        "full_path_to_file2 = os.path.join(S1_doubleA1B1_6) \n",
        "blob_service_client.get_blob_to_path('shadeimg', full_path_to_file2, full_path_to_file2)"
      ],
      "execution_count": 410,
      "outputs": [
        {
          "output_type": "execute_result",
          "data": {
            "text/plain": [
              "<azure.storage.blob.models.Blob at 0x7f1620e76790>"
            ]
          },
          "metadata": {},
          "execution_count": 410
        }
      ]
    },
    {
      "cell_type": "code",
      "metadata": {
        "id": "e1bQuqXmb9IR",
        "colab": {
          "base_uri": "https://localhost:8080/"
        },
        "outputId": "2a8d5410-b8be-4360-d4dc-9606210367d6"
      },
      "source": [
        "full_path_to_file2 = os.path.join(S1_doubleA1B2_6) \n",
        "blob_service_client.get_blob_to_path('shadeimg', full_path_to_file2, full_path_to_file2)"
      ],
      "execution_count": 411,
      "outputs": [
        {
          "output_type": "execute_result",
          "data": {
            "text/plain": [
              "<azure.storage.blob.models.Blob at 0x7f1620e5e0d0>"
            ]
          },
          "metadata": {},
          "execution_count": 411
        }
      ]
    },
    {
      "cell_type": "code",
      "metadata": {
        "id": "ieU6Kw2eb9IS",
        "colab": {
          "base_uri": "https://localhost:8080/"
        },
        "outputId": "42f1063b-3463-4cd9-a45f-c9a84d9b679a"
      },
      "source": [
        "full_path_to_file2 = os.path.join(S1_doubleA1B3_6) \n",
        "blob_service_client.get_blob_to_path('shadeimg', full_path_to_file2, full_path_to_file2)"
      ],
      "execution_count": 412,
      "outputs": [
        {
          "output_type": "execute_result",
          "data": {
            "text/plain": [
              "<azure.storage.blob.models.Blob at 0x7f1620e04e10>"
            ]
          },
          "metadata": {},
          "execution_count": 412
        }
      ]
    },
    {
      "cell_type": "code",
      "metadata": {
        "id": "SS4vOfTQb9IS",
        "colab": {
          "base_uri": "https://localhost:8080/"
        },
        "outputId": "37358b2d-e419-401f-dc1a-2855ced81e0c"
      },
      "source": [
        "full_path_to_file2 = os.path.join(S1_doubleA1B4_6) \n",
        "blob_service_client.get_blob_to_path('shadeimg', full_path_to_file2, full_path_to_file2)"
      ],
      "execution_count": 413,
      "outputs": [
        {
          "output_type": "execute_result",
          "data": {
            "text/plain": [
              "<azure.storage.blob.models.Blob at 0x7f1620e04450>"
            ]
          },
          "metadata": {},
          "execution_count": 413
        }
      ]
    },
    {
      "cell_type": "code",
      "metadata": {
        "id": "j7YVL-htb9IT",
        "colab": {
          "base_uri": "https://localhost:8080/"
        },
        "outputId": "5052ec84-7a42-4503-ba19-5c0000534083"
      },
      "source": [
        "full_path_to_file2 = os.path.join(S1_doubleA1C1_6) \n",
        "blob_service_client.get_blob_to_path('shadeimg', full_path_to_file2, full_path_to_file2)"
      ],
      "execution_count": 414,
      "outputs": [
        {
          "output_type": "execute_result",
          "data": {
            "text/plain": [
              "<azure.storage.blob.models.Blob at 0x7f1620e41d50>"
            ]
          },
          "metadata": {},
          "execution_count": 414
        }
      ]
    },
    {
      "cell_type": "code",
      "metadata": {
        "id": "qVn6TAc6b9IT",
        "colab": {
          "base_uri": "https://localhost:8080/"
        },
        "outputId": "f4066556-cce6-428c-8c28-c756638fb8b0"
      },
      "source": [
        "full_path_to_file2 = os.path.join(S1_doubleA1C2_6) \n",
        "blob_service_client.get_blob_to_path('shadeimg', full_path_to_file2, full_path_to_file2)"
      ],
      "execution_count": 415,
      "outputs": [
        {
          "output_type": "execute_result",
          "data": {
            "text/plain": [
              "<azure.storage.blob.models.Blob at 0x7f1620dfd2d0>"
            ]
          },
          "metadata": {},
          "execution_count": 415
        }
      ]
    },
    {
      "cell_type": "code",
      "metadata": {
        "id": "rjPQBRf_b9IU",
        "colab": {
          "base_uri": "https://localhost:8080/"
        },
        "outputId": "02c7d256-2920-4e06-d985-678591f4e142"
      },
      "source": [
        "full_path_to_file2 = os.path.join(S1_doubleA1C3_6) \n",
        "blob_service_client.get_blob_to_path('shadeimg', full_path_to_file2, full_path_to_file2)"
      ],
      "execution_count": 416,
      "outputs": [
        {
          "output_type": "execute_result",
          "data": {
            "text/plain": [
              "<azure.storage.blob.models.Blob at 0x7f1620df66d0>"
            ]
          },
          "metadata": {},
          "execution_count": 416
        }
      ]
    },
    {
      "cell_type": "code",
      "metadata": {
        "id": "R5gypMmgb9IU",
        "colab": {
          "base_uri": "https://localhost:8080/"
        },
        "outputId": "8147a371-c632-465a-932d-9d4c5d5a64e5"
      },
      "source": [
        "full_path_to_file2 = os.path.join(S1_doubleA1C4_6) \n",
        "blob_service_client.get_blob_to_path('shadeimg', full_path_to_file2, full_path_to_file2)"
      ],
      "execution_count": 417,
      "outputs": [
        {
          "output_type": "execute_result",
          "data": {
            "text/plain": [
              "<azure.storage.blob.models.Blob at 0x7f1620d88b90>"
            ]
          },
          "metadata": {},
          "execution_count": 417
        }
      ]
    },
    {
      "cell_type": "code",
      "metadata": {
        "id": "oKz9JEbIb9IU",
        "colab": {
          "base_uri": "https://localhost:8080/"
        },
        "outputId": "ae663adb-4d5d-4a6e-da9c-f5cce0266bc5"
      },
      "source": [
        "full_path_to_file2 = os.path.join(S1_doubleA1D2_6) \n",
        "blob_service_client.get_blob_to_path('shadeimg', full_path_to_file2, full_path_to_file2)"
      ],
      "execution_count": 418,
      "outputs": [
        {
          "output_type": "execute_result",
          "data": {
            "text/plain": [
              "<azure.storage.blob.models.Blob at 0x7f1620df6350>"
            ]
          },
          "metadata": {},
          "execution_count": 418
        }
      ]
    },
    {
      "cell_type": "code",
      "metadata": {
        "id": "Xn0ERNxxb9IV",
        "colab": {
          "base_uri": "https://localhost:8080/"
        },
        "outputId": "1b5bc779-5b14-4cc9-bf3d-dacfe7bb077e"
      },
      "source": [
        "full_path_to_file2 = os.path.join(S1_doubleA1D3_6) \n",
        "blob_service_client.get_blob_to_path('shadeimg', full_path_to_file2, full_path_to_file2)"
      ],
      "execution_count": 419,
      "outputs": [
        {
          "output_type": "execute_result",
          "data": {
            "text/plain": [
              "<azure.storage.blob.models.Blob at 0x7f1620d86110>"
            ]
          },
          "metadata": {},
          "execution_count": 419
        }
      ]
    },
    {
      "cell_type": "code",
      "metadata": {
        "id": "1DFFxWhNb9IV",
        "colab": {
          "base_uri": "https://localhost:8080/"
        },
        "outputId": "bad22eda-7080-482a-945c-a3250aa643d4"
      },
      "source": [
        "full_path_to_file2 = os.path.join(S1_doubleA1D4_6) \n",
        "blob_service_client.get_blob_to_path('shadeimg', full_path_to_file2, full_path_to_file2)"
      ],
      "execution_count": 420,
      "outputs": [
        {
          "output_type": "execute_result",
          "data": {
            "text/plain": [
              "<azure.storage.blob.models.Blob at 0x7f1620d8b5d0>"
            ]
          },
          "metadata": {},
          "execution_count": 420
        }
      ]
    },
    {
      "cell_type": "markdown",
      "metadata": {
        "id": "a2ed5X34b9IW"
      },
      "source": [
        "##Img 7"
      ]
    },
    {
      "cell_type": "code",
      "metadata": {
        "id": "FFsZh3t8cN2E",
        "colab": {
          "base_uri": "https://localhost:8080/"
        },
        "outputId": "e3563122-60ce-4215-e0c2-efe371992b3f"
      },
      "source": [
        "full_path_to_file2 = os.path.join(S1_doubleA1A1_7) \n",
        "blob_service_client.get_blob_to_path('shadeimg', full_path_to_file2, full_path_to_file2)"
      ],
      "execution_count": 421,
      "outputs": [
        {
          "output_type": "execute_result",
          "data": {
            "text/plain": [
              "<azure.storage.blob.models.Blob at 0x7f1620d88910>"
            ]
          },
          "metadata": {},
          "execution_count": 421
        }
      ]
    },
    {
      "cell_type": "code",
      "metadata": {
        "id": "Jh6Mx6MYcN2F",
        "colab": {
          "base_uri": "https://localhost:8080/"
        },
        "outputId": "01803765-72f6-4386-d903-65782d1861fd"
      },
      "source": [
        "full_path_to_file2 = os.path.join(S1_doubleA1A2_7) \n",
        "blob_service_client.get_blob_to_path('shadeimg', full_path_to_file2, full_path_to_file2)"
      ],
      "execution_count": 422,
      "outputs": [
        {
          "output_type": "execute_result",
          "data": {
            "text/plain": [
              "<azure.storage.blob.models.Blob at 0x7f1620e91490>"
            ]
          },
          "metadata": {},
          "execution_count": 422
        }
      ]
    },
    {
      "cell_type": "code",
      "metadata": {
        "id": "spjaRH7NcN2F",
        "colab": {
          "base_uri": "https://localhost:8080/"
        },
        "outputId": "aaf2d1c9-6154-4b56-f1cd-95496e27e2d2"
      },
      "source": [
        "full_path_to_file2 = os.path.join(S1_doubleA1A3_7) \n",
        "blob_service_client.get_blob_to_path('shadeimg', full_path_to_file2, full_path_to_file2)"
      ],
      "execution_count": 423,
      "outputs": [
        {
          "output_type": "execute_result",
          "data": {
            "text/plain": [
              "<azure.storage.blob.models.Blob at 0x7f1620d96750>"
            ]
          },
          "metadata": {},
          "execution_count": 423
        }
      ]
    },
    {
      "cell_type": "code",
      "metadata": {
        "id": "jmVDCiU8cN2F",
        "colab": {
          "base_uri": "https://localhost:8080/"
        },
        "outputId": "bf0d2d4a-fac3-40d5-e0e8-7bf417a8eac3"
      },
      "source": [
        "full_path_to_file2 = os.path.join(S1_doubleA1A3_57) \n",
        "blob_service_client.get_blob_to_path('shadeimg', full_path_to_file2, full_path_to_file2)"
      ],
      "execution_count": 424,
      "outputs": [
        {
          "output_type": "execute_result",
          "data": {
            "text/plain": [
              "<azure.storage.blob.models.Blob at 0x7f1620e1bd50>"
            ]
          },
          "metadata": {},
          "execution_count": 424
        }
      ]
    },
    {
      "cell_type": "code",
      "metadata": {
        "id": "ar-0xgRUcN2G",
        "colab": {
          "base_uri": "https://localhost:8080/"
        },
        "outputId": "4fa7885f-c38a-4ac9-9be0-76a705416d7a"
      },
      "source": [
        "full_path_to_file2 = os.path.join(S1_doubleA1A4_7) \n",
        "blob_service_client.get_blob_to_path('shadeimg', full_path_to_file2, full_path_to_file2)"
      ],
      "execution_count": 425,
      "outputs": [
        {
          "output_type": "execute_result",
          "data": {
            "text/plain": [
              "<azure.storage.blob.models.Blob at 0x7f1620d86750>"
            ]
          },
          "metadata": {},
          "execution_count": 425
        }
      ]
    },
    {
      "cell_type": "code",
      "metadata": {
        "id": "V1DPXDWZcN2G",
        "colab": {
          "base_uri": "https://localhost:8080/"
        },
        "outputId": "43692092-c20f-47fd-ea6f-6668b9fb7807"
      },
      "source": [
        "full_path_to_file2 = os.path.join(S1_doubleA1B1_7) \n",
        "blob_service_client.get_blob_to_path('shadeimg', full_path_to_file2, full_path_to_file2)"
      ],
      "execution_count": 426,
      "outputs": [
        {
          "output_type": "execute_result",
          "data": {
            "text/plain": [
              "<azure.storage.blob.models.Blob at 0x7f1620df4f10>"
            ]
          },
          "metadata": {},
          "execution_count": 426
        }
      ]
    },
    {
      "cell_type": "code",
      "metadata": {
        "id": "UsfL1gB7cN2H",
        "colab": {
          "base_uri": "https://localhost:8080/"
        },
        "outputId": "b6e66870-1b9a-4590-aa53-de6290b7f71b"
      },
      "source": [
        "full_path_to_file2 = os.path.join(S1_doubleA1B2_7) \n",
        "blob_service_client.get_blob_to_path('shadeimg', full_path_to_file2, full_path_to_file2)"
      ],
      "execution_count": 427,
      "outputs": [
        {
          "output_type": "execute_result",
          "data": {
            "text/plain": [
              "<azure.storage.blob.models.Blob at 0x7f1620e267d0>"
            ]
          },
          "metadata": {},
          "execution_count": 427
        }
      ]
    },
    {
      "cell_type": "code",
      "metadata": {
        "id": "q3evyD4IcN2I",
        "colab": {
          "base_uri": "https://localhost:8080/"
        },
        "outputId": "423f5e00-fbe0-4b0e-d701-c1ebcc124cd6"
      },
      "source": [
        "full_path_to_file2 = os.path.join(S1_doubleA1B3_7) \n",
        "blob_service_client.get_blob_to_path('shadeimg', full_path_to_file2, full_path_to_file2)"
      ],
      "execution_count": 428,
      "outputs": [
        {
          "output_type": "execute_result",
          "data": {
            "text/plain": [
              "<azure.storage.blob.models.Blob at 0x7f1620e6ff90>"
            ]
          },
          "metadata": {},
          "execution_count": 428
        }
      ]
    },
    {
      "cell_type": "code",
      "metadata": {
        "id": "s9H292gzcN2J",
        "colab": {
          "base_uri": "https://localhost:8080/"
        },
        "outputId": "f6811757-601f-4147-8ccb-819a6121d48a"
      },
      "source": [
        "full_path_to_file2 = os.path.join(S1_doubleA1B4_7) \n",
        "blob_service_client.get_blob_to_path('shadeimg', full_path_to_file2, full_path_to_file2)"
      ],
      "execution_count": 429,
      "outputs": [
        {
          "output_type": "execute_result",
          "data": {
            "text/plain": [
              "<azure.storage.blob.models.Blob at 0x7f1620e76610>"
            ]
          },
          "metadata": {},
          "execution_count": 429
        }
      ]
    },
    {
      "cell_type": "code",
      "metadata": {
        "id": "xIHgZdkBcN2N",
        "colab": {
          "base_uri": "https://localhost:8080/"
        },
        "outputId": "4182edf7-d4bb-4026-d0aa-f559a9db6e96"
      },
      "source": [
        "full_path_to_file2 = os.path.join(S1_doubleA1C1_7) \n",
        "blob_service_client.get_blob_to_path('shadeimg', full_path_to_file2, full_path_to_file2)"
      ],
      "execution_count": 430,
      "outputs": [
        {
          "output_type": "execute_result",
          "data": {
            "text/plain": [
              "<azure.storage.blob.models.Blob at 0x7f1620d88a10>"
            ]
          },
          "metadata": {},
          "execution_count": 430
        }
      ]
    },
    {
      "cell_type": "code",
      "metadata": {
        "id": "N4JIan0ScN2O",
        "colab": {
          "base_uri": "https://localhost:8080/"
        },
        "outputId": "e2ae634d-ee70-4cb7-a4ce-3d904161f80f"
      },
      "source": [
        "full_path_to_file2 = os.path.join(S1_doubleA1C2_7) \n",
        "blob_service_client.get_blob_to_path('shadeimg', full_path_to_file2, full_path_to_file2)"
      ],
      "execution_count": 431,
      "outputs": [
        {
          "output_type": "execute_result",
          "data": {
            "text/plain": [
              "<azure.storage.blob.models.Blob at 0x7f1620d8be10>"
            ]
          },
          "metadata": {},
          "execution_count": 431
        }
      ]
    },
    {
      "cell_type": "code",
      "metadata": {
        "id": "nvc7CoCqcN2O",
        "colab": {
          "base_uri": "https://localhost:8080/"
        },
        "outputId": "ff1f3749-c179-4644-d977-0e3722177bc6"
      },
      "source": [
        "full_path_to_file2 = os.path.join(S1_doubleA1C3_7) \n",
        "blob_service_client.get_blob_to_path('shadeimg', full_path_to_file2, full_path_to_file2)"
      ],
      "execution_count": 432,
      "outputs": [
        {
          "output_type": "execute_result",
          "data": {
            "text/plain": [
              "<azure.storage.blob.models.Blob at 0x7f1620da5410>"
            ]
          },
          "metadata": {},
          "execution_count": 432
        }
      ]
    },
    {
      "cell_type": "code",
      "metadata": {
        "id": "cwHPh50BcN2P",
        "colab": {
          "base_uri": "https://localhost:8080/"
        },
        "outputId": "22422b88-9646-4963-e964-2a2fc0733934"
      },
      "source": [
        "full_path_to_file2 = os.path.join(S1_doubleA1C4_7) \n",
        "blob_service_client.get_blob_to_path('shadeimg', full_path_to_file2, full_path_to_file2)"
      ],
      "execution_count": 433,
      "outputs": [
        {
          "output_type": "execute_result",
          "data": {
            "text/plain": [
              "<azure.storage.blob.models.Blob at 0x7f1620d96c90>"
            ]
          },
          "metadata": {},
          "execution_count": 433
        }
      ]
    },
    {
      "cell_type": "code",
      "metadata": {
        "id": "rc1SdEBrcN2P",
        "colab": {
          "base_uri": "https://localhost:8080/"
        },
        "outputId": "edc4d7d3-4b55-47f4-f698-aefcf2579277"
      },
      "source": [
        "full_path_to_file2 = os.path.join(S1_doubleA1D2_7) \n",
        "blob_service_client.get_blob_to_path('shadeimg', full_path_to_file2, full_path_to_file2)"
      ],
      "execution_count": 434,
      "outputs": [
        {
          "output_type": "execute_result",
          "data": {
            "text/plain": [
              "<azure.storage.blob.models.Blob at 0x7f1620da5810>"
            ]
          },
          "metadata": {},
          "execution_count": 434
        }
      ]
    },
    {
      "cell_type": "code",
      "metadata": {
        "id": "j0hTnmPqcN2Q",
        "colab": {
          "base_uri": "https://localhost:8080/"
        },
        "outputId": "97de341b-294c-429e-9b44-5c9859ebf652"
      },
      "source": [
        "full_path_to_file2 = os.path.join(S1_doubleA1D3_7) \n",
        "blob_service_client.get_blob_to_path('shadeimg', full_path_to_file2, full_path_to_file2)"
      ],
      "execution_count": 435,
      "outputs": [
        {
          "output_type": "execute_result",
          "data": {
            "text/plain": [
              "<azure.storage.blob.models.Blob at 0x7f1620da8310>"
            ]
          },
          "metadata": {},
          "execution_count": 435
        }
      ]
    },
    {
      "cell_type": "code",
      "metadata": {
        "id": "Y8jKvbEicN2Q",
        "colab": {
          "base_uri": "https://localhost:8080/"
        },
        "outputId": "15c92fe2-c7d4-496e-84db-4948cf246135"
      },
      "source": [
        "full_path_to_file2 = os.path.join(S1_doubleA1D4_7) \n",
        "blob_service_client.get_blob_to_path('shadeimg', full_path_to_file2, full_path_to_file2)"
      ],
      "execution_count": 436,
      "outputs": [
        {
          "output_type": "execute_result",
          "data": {
            "text/plain": [
              "<azure.storage.blob.models.Blob at 0x7f1620daa190>"
            ]
          },
          "metadata": {},
          "execution_count": 436
        }
      ]
    },
    {
      "cell_type": "markdown",
      "metadata": {
        "id": "ImlQtsUbcN2R"
      },
      "source": [
        "##Img 8"
      ]
    },
    {
      "cell_type": "code",
      "metadata": {
        "id": "fSM5rYKPchb4",
        "colab": {
          "base_uri": "https://localhost:8080/"
        },
        "outputId": "ebcfcd15-9c54-49c6-c55d-7eb260827ac1"
      },
      "source": [
        "full_path_to_file2 = os.path.join(S1_doubleA1A1_8) \n",
        "blob_service_client.get_blob_to_path('shadeimg', full_path_to_file2, full_path_to_file2)"
      ],
      "execution_count": 437,
      "outputs": [
        {
          "output_type": "execute_result",
          "data": {
            "text/plain": [
              "<azure.storage.blob.models.Blob at 0x7f1620e3d310>"
            ]
          },
          "metadata": {},
          "execution_count": 437
        }
      ]
    },
    {
      "cell_type": "code",
      "metadata": {
        "id": "Op-KsX49chb6",
        "colab": {
          "base_uri": "https://localhost:8080/"
        },
        "outputId": "bbb3d829-4821-4531-cd5c-dbed6d26c1ba"
      },
      "source": [
        "full_path_to_file2 = os.path.join(S1_doubleA1A2_8) \n",
        "blob_service_client.get_blob_to_path('shadeimg', full_path_to_file2, full_path_to_file2)"
      ],
      "execution_count": 438,
      "outputs": [
        {
          "output_type": "execute_result",
          "data": {
            "text/plain": [
              "<azure.storage.blob.models.Blob at 0x7f1620da8550>"
            ]
          },
          "metadata": {},
          "execution_count": 438
        }
      ]
    },
    {
      "cell_type": "code",
      "metadata": {
        "id": "pZWfb-bDchb7",
        "colab": {
          "base_uri": "https://localhost:8080/"
        },
        "outputId": "ed32afe4-f68f-4d00-ea15-7b122b4d226d"
      },
      "source": [
        "full_path_to_file2 = os.path.join(S1_doubleA1A3_8) \n",
        "blob_service_client.get_blob_to_path('shadeimg', full_path_to_file2, full_path_to_file2)"
      ],
      "execution_count": 439,
      "outputs": [
        {
          "output_type": "execute_result",
          "data": {
            "text/plain": [
              "<azure.storage.blob.models.Blob at 0x7f1620da8dd0>"
            ]
          },
          "metadata": {},
          "execution_count": 439
        }
      ]
    },
    {
      "cell_type": "code",
      "metadata": {
        "id": "_AK3gSXzchb7",
        "colab": {
          "base_uri": "https://localhost:8080/"
        },
        "outputId": "5a2b2e2d-5739-41fb-a8b7-e0694a7cbb64"
      },
      "source": [
        "full_path_to_file2 = os.path.join(S1_doubleA1A3_58) \n",
        "blob_service_client.get_blob_to_path('shadeimg', full_path_to_file2, full_path_to_file2)"
      ],
      "execution_count": 440,
      "outputs": [
        {
          "output_type": "execute_result",
          "data": {
            "text/plain": [
              "<azure.storage.blob.models.Blob at 0x7f1620da5dd0>"
            ]
          },
          "metadata": {},
          "execution_count": 440
        }
      ]
    },
    {
      "cell_type": "code",
      "metadata": {
        "id": "mcM1ghgRchb8",
        "colab": {
          "base_uri": "https://localhost:8080/"
        },
        "outputId": "f9f799e5-6762-4ad4-be95-40bd39e8dfce"
      },
      "source": [
        "full_path_to_file2 = os.path.join(S1_doubleA1A4_8) \n",
        "blob_service_client.get_blob_to_path('shadeimg', full_path_to_file2, full_path_to_file2)"
      ],
      "execution_count": 441,
      "outputs": [
        {
          "output_type": "execute_result",
          "data": {
            "text/plain": [
              "<azure.storage.blob.models.Blob at 0x7f1620da56d0>"
            ]
          },
          "metadata": {},
          "execution_count": 441
        }
      ]
    },
    {
      "cell_type": "code",
      "metadata": {
        "id": "LqzeoEhbchb9",
        "colab": {
          "base_uri": "https://localhost:8080/"
        },
        "outputId": "61cb6048-29b6-4eaa-c5b3-01155e32dea8"
      },
      "source": [
        "full_path_to_file2 = os.path.join(S1_doubleA1B1_8) \n",
        "blob_service_client.get_blob_to_path('shadeimg', full_path_to_file2, full_path_to_file2)"
      ],
      "execution_count": 442,
      "outputs": [
        {
          "output_type": "execute_result",
          "data": {
            "text/plain": [
              "<azure.storage.blob.models.Blob at 0x7f1620dba310>"
            ]
          },
          "metadata": {},
          "execution_count": 442
        }
      ]
    },
    {
      "cell_type": "code",
      "metadata": {
        "id": "ZP4J2TH2chb9",
        "colab": {
          "base_uri": "https://localhost:8080/"
        },
        "outputId": "0af9e67f-4774-489a-9e05-7406bf2e8203"
      },
      "source": [
        "full_path_to_file2 = os.path.join(S1_doubleA1B2_8) \n",
        "blob_service_client.get_blob_to_path('shadeimg', full_path_to_file2, full_path_to_file2)"
      ],
      "execution_count": 443,
      "outputs": [
        {
          "output_type": "execute_result",
          "data": {
            "text/plain": [
              "<azure.storage.blob.models.Blob at 0x7f1620eb2e50>"
            ]
          },
          "metadata": {},
          "execution_count": 443
        }
      ]
    },
    {
      "cell_type": "code",
      "metadata": {
        "id": "C5lvFtUCchb-",
        "colab": {
          "base_uri": "https://localhost:8080/"
        },
        "outputId": "94e40ec7-81f0-44cb-d4ef-ddb6d5e4661a"
      },
      "source": [
        "full_path_to_file2 = os.path.join(S1_doubleA1B3_8) \n",
        "blob_service_client.get_blob_to_path('shadeimg', full_path_to_file2, full_path_to_file2)"
      ],
      "execution_count": 444,
      "outputs": [
        {
          "output_type": "execute_result",
          "data": {
            "text/plain": [
              "<azure.storage.blob.models.Blob at 0x7f1620df6950>"
            ]
          },
          "metadata": {},
          "execution_count": 444
        }
      ]
    },
    {
      "cell_type": "code",
      "metadata": {
        "id": "2UJ4bxPhchb-",
        "colab": {
          "base_uri": "https://localhost:8080/"
        },
        "outputId": "98cd5077-0ce7-49ec-8a9d-ae379c93419e"
      },
      "source": [
        "full_path_to_file2 = os.path.join(S1_doubleA1B4_8) \n",
        "blob_service_client.get_blob_to_path('shadeimg', full_path_to_file2, full_path_to_file2)"
      ],
      "execution_count": 445,
      "outputs": [
        {
          "output_type": "execute_result",
          "data": {
            "text/plain": [
              "<azure.storage.blob.models.Blob at 0x7f1620da85d0>"
            ]
          },
          "metadata": {},
          "execution_count": 445
        }
      ]
    },
    {
      "cell_type": "code",
      "metadata": {
        "id": "hwFqOuAEchb_",
        "colab": {
          "base_uri": "https://localhost:8080/"
        },
        "outputId": "5f8738fa-7c28-402c-ae0c-3507d42d7b5b"
      },
      "source": [
        "full_path_to_file2 = os.path.join(S1_doubleA1C1_8) \n",
        "blob_service_client.get_blob_to_path('shadeimg', full_path_to_file2, full_path_to_file2)"
      ],
      "execution_count": 446,
      "outputs": [
        {
          "output_type": "execute_result",
          "data": {
            "text/plain": [
              "<azure.storage.blob.models.Blob at 0x7f1620d8be50>"
            ]
          },
          "metadata": {},
          "execution_count": 446
        }
      ]
    },
    {
      "cell_type": "code",
      "metadata": {
        "id": "FMhzWSHEchb_",
        "colab": {
          "base_uri": "https://localhost:8080/"
        },
        "outputId": "a6c32c91-f594-44eb-c5fc-87a9eb1aadde"
      },
      "source": [
        "full_path_to_file2 = os.path.join(S1_doubleA1C2_8) \n",
        "blob_service_client.get_blob_to_path('shadeimg', full_path_to_file2, full_path_to_file2)"
      ],
      "execution_count": 447,
      "outputs": [
        {
          "output_type": "execute_result",
          "data": {
            "text/plain": [
              "<azure.storage.blob.models.Blob at 0x7f1620db9a50>"
            ]
          },
          "metadata": {},
          "execution_count": 447
        }
      ]
    },
    {
      "cell_type": "code",
      "metadata": {
        "id": "iHYWAzD9chcA",
        "colab": {
          "base_uri": "https://localhost:8080/"
        },
        "outputId": "6ff5bf75-d68d-4c82-9286-410376752967"
      },
      "source": [
        "full_path_to_file2 = os.path.join(S1_doubleA1C3_8) \n",
        "blob_service_client.get_blob_to_path('shadeimg', full_path_to_file2, full_path_to_file2)"
      ],
      "execution_count": 448,
      "outputs": [
        {
          "output_type": "execute_result",
          "data": {
            "text/plain": [
              "<azure.storage.blob.models.Blob at 0x7f1620da8e90>"
            ]
          },
          "metadata": {},
          "execution_count": 448
        }
      ]
    },
    {
      "cell_type": "code",
      "metadata": {
        "id": "FLQ1OODzchcB",
        "colab": {
          "base_uri": "https://localhost:8080/"
        },
        "outputId": "709dff31-8f6e-427f-f9d3-a065d1322188"
      },
      "source": [
        "full_path_to_file2 = os.path.join(S1_doubleA1C4_8) \n",
        "blob_service_client.get_blob_to_path('shadeimg', full_path_to_file2, full_path_to_file2)"
      ],
      "execution_count": 449,
      "outputs": [
        {
          "output_type": "execute_result",
          "data": {
            "text/plain": [
              "<azure.storage.blob.models.Blob at 0x7f1620d96210>"
            ]
          },
          "metadata": {},
          "execution_count": 449
        }
      ]
    },
    {
      "cell_type": "code",
      "metadata": {
        "id": "AdLkAS4BchcB",
        "colab": {
          "base_uri": "https://localhost:8080/"
        },
        "outputId": "5325c97f-48aa-4ed8-aa63-cccb5698e8cd"
      },
      "source": [
        "full_path_to_file2 = os.path.join(S1_doubleA1D2_8) \n",
        "blob_service_client.get_blob_to_path('shadeimg', full_path_to_file2, full_path_to_file2)"
      ],
      "execution_count": 450,
      "outputs": [
        {
          "output_type": "execute_result",
          "data": {
            "text/plain": [
              "<azure.storage.blob.models.Blob at 0x7f1620dab650>"
            ]
          },
          "metadata": {},
          "execution_count": 450
        }
      ]
    },
    {
      "cell_type": "code",
      "metadata": {
        "id": "JXZid5ZTchcC",
        "colab": {
          "base_uri": "https://localhost:8080/"
        },
        "outputId": "cf2bdbe6-64fd-48ed-d0d6-dc3ffdf85629"
      },
      "source": [
        "full_path_to_file2 = os.path.join(S1_doubleA1D3_8) \n",
        "blob_service_client.get_blob_to_path('shadeimg', full_path_to_file2, full_path_to_file2)"
      ],
      "execution_count": 451,
      "outputs": [
        {
          "output_type": "execute_result",
          "data": {
            "text/plain": [
              "<azure.storage.blob.models.Blob at 0x7f1620dc0f90>"
            ]
          },
          "metadata": {},
          "execution_count": 451
        }
      ]
    },
    {
      "cell_type": "code",
      "metadata": {
        "id": "PWZR0DzBchcC",
        "colab": {
          "base_uri": "https://localhost:8080/"
        },
        "outputId": "e75d7fb0-0d54-4046-c48c-3bdf278eeb13"
      },
      "source": [
        "full_path_to_file2 = os.path.join(S1_doubleA1D4_8) \n",
        "blob_service_client.get_blob_to_path('shadeimg', full_path_to_file2, full_path_to_file2)"
      ],
      "execution_count": 452,
      "outputs": [
        {
          "output_type": "execute_result",
          "data": {
            "text/plain": [
              "<azure.storage.blob.models.Blob at 0x7f1620da8ed0>"
            ]
          },
          "metadata": {},
          "execution_count": 452
        }
      ]
    },
    {
      "cell_type": "markdown",
      "metadata": {
        "id": "ZdG-mg3OchcD"
      },
      "source": [
        "##Img 9"
      ]
    },
    {
      "cell_type": "code",
      "metadata": {
        "id": "rYq7b4cFctUN",
        "colab": {
          "base_uri": "https://localhost:8080/"
        },
        "outputId": "77152ce7-38b1-4be2-a6b6-dd770b221f9d"
      },
      "source": [
        "full_path_to_file2 = os.path.join(S1_doubleA1A1_9) \n",
        "blob_service_client.get_blob_to_path('shadeimg', full_path_to_file2, full_path_to_file2)"
      ],
      "execution_count": 453,
      "outputs": [
        {
          "output_type": "execute_result",
          "data": {
            "text/plain": [
              "<azure.storage.blob.models.Blob at 0x7f1620e54290>"
            ]
          },
          "metadata": {},
          "execution_count": 453
        }
      ]
    },
    {
      "cell_type": "code",
      "metadata": {
        "id": "XAynDlUZctUP",
        "colab": {
          "base_uri": "https://localhost:8080/"
        },
        "outputId": "de587390-35dc-4299-e01e-1e08ab434c5e"
      },
      "source": [
        "full_path_to_file2 = os.path.join(S1_doubleA1A2_9) \n",
        "blob_service_client.get_blob_to_path('shadeimg', full_path_to_file2, full_path_to_file2)"
      ],
      "execution_count": 454,
      "outputs": [
        {
          "output_type": "execute_result",
          "data": {
            "text/plain": [
              "<azure.storage.blob.models.Blob at 0x7f1620db9350>"
            ]
          },
          "metadata": {},
          "execution_count": 454
        }
      ]
    },
    {
      "cell_type": "code",
      "metadata": {
        "id": "VBmOL3aqctUQ",
        "colab": {
          "base_uri": "https://localhost:8080/"
        },
        "outputId": "724dcf37-7201-4e38-b047-8bed63b55eda"
      },
      "source": [
        "full_path_to_file2 = os.path.join(S1_doubleA1A3_9) \n",
        "blob_service_client.get_blob_to_path('shadeimg', full_path_to_file2, full_path_to_file2)"
      ],
      "execution_count": 455,
      "outputs": [
        {
          "output_type": "execute_result",
          "data": {
            "text/plain": [
              "<azure.storage.blob.models.Blob at 0x7f1620d96710>"
            ]
          },
          "metadata": {},
          "execution_count": 455
        }
      ]
    },
    {
      "cell_type": "code",
      "metadata": {
        "id": "8EaOqe-JctUQ",
        "colab": {
          "base_uri": "https://localhost:8080/"
        },
        "outputId": "64ec598a-afb0-49ec-c9fb-8f3196b2fac4"
      },
      "source": [
        "full_path_to_file2 = os.path.join(S1_doubleA1A3_59) \n",
        "blob_service_client.get_blob_to_path('shadeimg', full_path_to_file2, full_path_to_file2)"
      ],
      "execution_count": 456,
      "outputs": [
        {
          "output_type": "execute_result",
          "data": {
            "text/plain": [
              "<azure.storage.blob.models.Blob at 0x7f1620dc0910>"
            ]
          },
          "metadata": {},
          "execution_count": 456
        }
      ]
    },
    {
      "cell_type": "code",
      "metadata": {
        "id": "bmy5odNHctUR",
        "colab": {
          "base_uri": "https://localhost:8080/"
        },
        "outputId": "121a61c3-7ee8-4f70-adb2-ef7cc94928a3"
      },
      "source": [
        "full_path_to_file2 = os.path.join(S1_doubleA1A4_9) \n",
        "blob_service_client.get_blob_to_path('shadeimg', full_path_to_file2, full_path_to_file2)"
      ],
      "execution_count": 457,
      "outputs": [
        {
          "output_type": "execute_result",
          "data": {
            "text/plain": [
              "<azure.storage.blob.models.Blob at 0x7f1620dabc90>"
            ]
          },
          "metadata": {},
          "execution_count": 457
        }
      ]
    },
    {
      "cell_type": "code",
      "metadata": {
        "id": "84sL09GBctUR",
        "colab": {
          "base_uri": "https://localhost:8080/"
        },
        "outputId": "281d4f6c-6350-4fc8-be2a-d34f83551208"
      },
      "source": [
        "full_path_to_file2 = os.path.join(S1_doubleA1B1_9) \n",
        "blob_service_client.get_blob_to_path('shadeimg', full_path_to_file2, full_path_to_file2)"
      ],
      "execution_count": 458,
      "outputs": [
        {
          "output_type": "execute_result",
          "data": {
            "text/plain": [
              "<azure.storage.blob.models.Blob at 0x7f1620d56650>"
            ]
          },
          "metadata": {},
          "execution_count": 458
        }
      ]
    },
    {
      "cell_type": "code",
      "metadata": {
        "id": "ouYSQwz5ctUR",
        "colab": {
          "base_uri": "https://localhost:8080/"
        },
        "outputId": "7e7b0d7d-c019-4528-bc99-9d5312e48447"
      },
      "source": [
        "full_path_to_file2 = os.path.join(S1_doubleA1B2_9) \n",
        "blob_service_client.get_blob_to_path('shadeimg', full_path_to_file2, full_path_to_file2)"
      ],
      "execution_count": 459,
      "outputs": [
        {
          "output_type": "execute_result",
          "data": {
            "text/plain": [
              "<azure.storage.blob.models.Blob at 0x7f1620d56a50>"
            ]
          },
          "metadata": {},
          "execution_count": 459
        }
      ]
    },
    {
      "cell_type": "code",
      "metadata": {
        "id": "scvGuuKIctUS",
        "colab": {
          "base_uri": "https://localhost:8080/"
        },
        "outputId": "daa09a78-e771-4ea6-981c-74ea3469ef67"
      },
      "source": [
        "full_path_to_file2 = os.path.join(S1_doubleA1B3_9) \n",
        "blob_service_client.get_blob_to_path('shadeimg', full_path_to_file2, full_path_to_file2)"
      ],
      "execution_count": 460,
      "outputs": [
        {
          "output_type": "execute_result",
          "data": {
            "text/plain": [
              "<azure.storage.blob.models.Blob at 0x7f1620d8bd10>"
            ]
          },
          "metadata": {},
          "execution_count": 460
        }
      ]
    },
    {
      "cell_type": "code",
      "metadata": {
        "id": "7L3uUuPSctUS",
        "colab": {
          "base_uri": "https://localhost:8080/"
        },
        "outputId": "d19c915a-32ef-4e31-a5d1-577696b26628"
      },
      "source": [
        "full_path_to_file2 = os.path.join(S1_doubleA1B4_9) \n",
        "blob_service_client.get_blob_to_path('shadeimg', full_path_to_file2, full_path_to_file2)"
      ],
      "execution_count": 461,
      "outputs": [
        {
          "output_type": "execute_result",
          "data": {
            "text/plain": [
              "<azure.storage.blob.models.Blob at 0x7f1620da8950>"
            ]
          },
          "metadata": {},
          "execution_count": 461
        }
      ]
    },
    {
      "cell_type": "code",
      "metadata": {
        "id": "ntyuBvSHctUS",
        "colab": {
          "base_uri": "https://localhost:8080/"
        },
        "outputId": "0efcb925-c201-464e-afd1-8bd4e9a5385d"
      },
      "source": [
        "full_path_to_file2 = os.path.join(S1_doubleA1C1_9) \n",
        "blob_service_client.get_blob_to_path('shadeimg', full_path_to_file2, full_path_to_file2)"
      ],
      "execution_count": 462,
      "outputs": [
        {
          "output_type": "execute_result",
          "data": {
            "text/plain": [
              "<azure.storage.blob.models.Blob at 0x7f1620dc05d0>"
            ]
          },
          "metadata": {},
          "execution_count": 462
        }
      ]
    },
    {
      "cell_type": "code",
      "metadata": {
        "id": "KMtM7siRctUT",
        "colab": {
          "base_uri": "https://localhost:8080/"
        },
        "outputId": "aa8cc756-3bb6-415e-bbcc-cff6ebc0d635"
      },
      "source": [
        "full_path_to_file2 = os.path.join(S1_doubleA1C2_9) \n",
        "blob_service_client.get_blob_to_path('shadeimg', full_path_to_file2, full_path_to_file2)"
      ],
      "execution_count": 463,
      "outputs": [
        {
          "output_type": "execute_result",
          "data": {
            "text/plain": [
              "<azure.storage.blob.models.Blob at 0x7f1620dabd10>"
            ]
          },
          "metadata": {},
          "execution_count": 463
        }
      ]
    },
    {
      "cell_type": "code",
      "metadata": {
        "id": "xAhGGPqnctUT",
        "colab": {
          "base_uri": "https://localhost:8080/"
        },
        "outputId": "e040f6c8-18f5-4333-c51d-9ec8389a9ce9"
      },
      "source": [
        "full_path_to_file2 = os.path.join(S1_doubleA1C3_9) \n",
        "blob_service_client.get_blob_to_path('shadeimg', full_path_to_file2, full_path_to_file2)"
      ],
      "execution_count": 464,
      "outputs": [
        {
          "output_type": "execute_result",
          "data": {
            "text/plain": [
              "<azure.storage.blob.models.Blob at 0x7f1620d50750>"
            ]
          },
          "metadata": {},
          "execution_count": 464
        }
      ]
    },
    {
      "cell_type": "code",
      "metadata": {
        "id": "5EgJUi0ectUT",
        "colab": {
          "base_uri": "https://localhost:8080/"
        },
        "outputId": "95db6f42-7f5b-4353-fca6-b56ca28917f1"
      },
      "source": [
        "full_path_to_file2 = os.path.join(S1_doubleA1C4_9) \n",
        "blob_service_client.get_blob_to_path('shadeimg', full_path_to_file2, full_path_to_file2)"
      ],
      "execution_count": 465,
      "outputs": [
        {
          "output_type": "execute_result",
          "data": {
            "text/plain": [
              "<azure.storage.blob.models.Blob at 0x7f1620dc09d0>"
            ]
          },
          "metadata": {},
          "execution_count": 465
        }
      ]
    },
    {
      "cell_type": "code",
      "metadata": {
        "id": "trDvUtirctUU",
        "colab": {
          "base_uri": "https://localhost:8080/"
        },
        "outputId": "89f59b69-6419-4e72-fa6b-0304718ca569"
      },
      "source": [
        "full_path_to_file2 = os.path.join(S1_doubleA1D2_9) \n",
        "blob_service_client.get_blob_to_path('shadeimg', full_path_to_file2, full_path_to_file2)"
      ],
      "execution_count": 466,
      "outputs": [
        {
          "output_type": "execute_result",
          "data": {
            "text/plain": [
              "<azure.storage.blob.models.Blob at 0x7f1620d5cdd0>"
            ]
          },
          "metadata": {},
          "execution_count": 466
        }
      ]
    },
    {
      "cell_type": "code",
      "metadata": {
        "id": "R6Qw2SrhctUU",
        "colab": {
          "base_uri": "https://localhost:8080/"
        },
        "outputId": "b1377767-eeea-4372-a347-a824f83056c8"
      },
      "source": [
        "full_path_to_file2 = os.path.join(S1_doubleA1D3_9) \n",
        "blob_service_client.get_blob_to_path('shadeimg', full_path_to_file2, full_path_to_file2)"
      ],
      "execution_count": 467,
      "outputs": [
        {
          "output_type": "execute_result",
          "data": {
            "text/plain": [
              "<azure.storage.blob.models.Blob at 0x7f1620dc9d10>"
            ]
          },
          "metadata": {},
          "execution_count": 467
        }
      ]
    },
    {
      "cell_type": "code",
      "metadata": {
        "id": "BtNQurOyctUU",
        "colab": {
          "base_uri": "https://localhost:8080/"
        },
        "outputId": "38af56fc-2ce6-4068-a9d6-8932c1656507"
      },
      "source": [
        "full_path_to_file2 = os.path.join(S1_doubleA1D4_9) \n",
        "blob_service_client.get_blob_to_path('shadeimg', full_path_to_file2, full_path_to_file2)"
      ],
      "execution_count": 468,
      "outputs": [
        {
          "output_type": "execute_result",
          "data": {
            "text/plain": [
              "<azure.storage.blob.models.Blob at 0x7f1620dab3d0>"
            ]
          },
          "metadata": {},
          "execution_count": 468
        }
      ]
    },
    {
      "cell_type": "markdown",
      "metadata": {
        "id": "gCPYiF7CctUV"
      },
      "source": [
        "##Img 10"
      ]
    },
    {
      "cell_type": "code",
      "metadata": {
        "id": "CY8pJg08dCgW",
        "colab": {
          "base_uri": "https://localhost:8080/"
        },
        "outputId": "6d28f59e-1af4-47dd-c84e-c8760b1de72b"
      },
      "source": [
        "full_path_to_file2 = os.path.join(S1_doubleA1A1_10) \n",
        "blob_service_client.get_blob_to_path('shadeimg', full_path_to_file2, full_path_to_file2)"
      ],
      "execution_count": 469,
      "outputs": [
        {
          "output_type": "execute_result",
          "data": {
            "text/plain": [
              "<azure.storage.blob.models.Blob at 0x7f1620d50250>"
            ]
          },
          "metadata": {},
          "execution_count": 469
        }
      ]
    },
    {
      "cell_type": "code",
      "metadata": {
        "id": "eO-Uy8ZDdCgX",
        "colab": {
          "base_uri": "https://localhost:8080/"
        },
        "outputId": "ed39eeb0-3d8c-4b88-cae1-0cb99d59cfbd"
      },
      "source": [
        "full_path_to_file2 = os.path.join(S1_doubleA1A2_10) \n",
        "blob_service_client.get_blob_to_path('shadeimg', full_path_to_file2, full_path_to_file2)"
      ],
      "execution_count": 470,
      "outputs": [
        {
          "output_type": "execute_result",
          "data": {
            "text/plain": [
              "<azure.storage.blob.models.Blob at 0x7f1620d50090>"
            ]
          },
          "metadata": {},
          "execution_count": 470
        }
      ]
    },
    {
      "cell_type": "code",
      "metadata": {
        "id": "7BaBGY1YdCgX",
        "colab": {
          "base_uri": "https://localhost:8080/"
        },
        "outputId": "1f78ffbe-f54e-4d4e-a530-b2cca41bdde6"
      },
      "source": [
        "full_path_to_file2 = os.path.join(S1_doubleA1A3_10) \n",
        "blob_service_client.get_blob_to_path('shadeimg', full_path_to_file2, full_path_to_file2)"
      ],
      "execution_count": 471,
      "outputs": [
        {
          "output_type": "execute_result",
          "data": {
            "text/plain": [
              "<azure.storage.blob.models.Blob at 0x7f1620d56190>"
            ]
          },
          "metadata": {},
          "execution_count": 471
        }
      ]
    },
    {
      "cell_type": "code",
      "metadata": {
        "id": "0cd6HEkBdCgY",
        "colab": {
          "base_uri": "https://localhost:8080/"
        },
        "outputId": "aac804bd-2593-4732-9440-2ff2e0495788"
      },
      "source": [
        "full_path_to_file2 = os.path.join(S1_doubleA1A3_510) \n",
        "blob_service_client.get_blob_to_path('shadeimg', full_path_to_file2, full_path_to_file2)"
      ],
      "execution_count": 472,
      "outputs": [
        {
          "output_type": "execute_result",
          "data": {
            "text/plain": [
              "<azure.storage.blob.models.Blob at 0x7f1620d56d90>"
            ]
          },
          "metadata": {},
          "execution_count": 472
        }
      ]
    },
    {
      "cell_type": "code",
      "metadata": {
        "id": "XlNW-WdsdCgY",
        "colab": {
          "base_uri": "https://localhost:8080/"
        },
        "outputId": "807c5a9b-c1ad-492c-e48e-e7a07b8369ac"
      },
      "source": [
        "full_path_to_file2 = os.path.join(S1_doubleA1A4_10) \n",
        "blob_service_client.get_blob_to_path('shadeimg', full_path_to_file2, full_path_to_file2)"
      ],
      "execution_count": 473,
      "outputs": [
        {
          "output_type": "execute_result",
          "data": {
            "text/plain": [
              "<azure.storage.blob.models.Blob at 0x7f1620d67610>"
            ]
          },
          "metadata": {},
          "execution_count": 473
        }
      ]
    },
    {
      "cell_type": "code",
      "metadata": {
        "id": "53sGf_CjdCgZ",
        "colab": {
          "base_uri": "https://localhost:8080/"
        },
        "outputId": "1d785e6e-2c3d-4fd0-ae6c-92ea2199d952"
      },
      "source": [
        "full_path_to_file2 = os.path.join(S1_doubleA1B1_10) \n",
        "blob_service_client.get_blob_to_path('shadeimg', full_path_to_file2, full_path_to_file2)"
      ],
      "execution_count": 474,
      "outputs": [
        {
          "output_type": "execute_result",
          "data": {
            "text/plain": [
              "<azure.storage.blob.models.Blob at 0x7f1620d67e90>"
            ]
          },
          "metadata": {},
          "execution_count": 474
        }
      ]
    },
    {
      "cell_type": "code",
      "metadata": {
        "id": "w6iOjW7wdCga",
        "colab": {
          "base_uri": "https://localhost:8080/"
        },
        "outputId": "7b8b14b5-c30e-49dc-e456-23e196e8703e"
      },
      "source": [
        "full_path_to_file2 = os.path.join(S1_doubleA1B2_10) \n",
        "blob_service_client.get_blob_to_path('shadeimg', full_path_to_file2, full_path_to_file2)"
      ],
      "execution_count": 475,
      "outputs": [
        {
          "output_type": "execute_result",
          "data": {
            "text/plain": [
              "<azure.storage.blob.models.Blob at 0x7f1620dab490>"
            ]
          },
          "metadata": {},
          "execution_count": 475
        }
      ]
    },
    {
      "cell_type": "code",
      "metadata": {
        "id": "H-u9nMbDdCga",
        "colab": {
          "base_uri": "https://localhost:8080/"
        },
        "outputId": "87c2e61a-e4d9-4afa-e743-51e8476b8322"
      },
      "source": [
        "full_path_to_file2 = os.path.join(S1_doubleA1B3_10) \n",
        "blob_service_client.get_blob_to_path('shadeimg', full_path_to_file2, full_path_to_file2)"
      ],
      "execution_count": 476,
      "outputs": [
        {
          "output_type": "execute_result",
          "data": {
            "text/plain": [
              "<azure.storage.blob.models.Blob at 0x7f1620dab4d0>"
            ]
          },
          "metadata": {},
          "execution_count": 476
        }
      ]
    },
    {
      "cell_type": "code",
      "metadata": {
        "id": "lBs9zinqdCga",
        "colab": {
          "base_uri": "https://localhost:8080/"
        },
        "outputId": "ce743722-4f09-4f87-c305-d244627d8373"
      },
      "source": [
        "full_path_to_file2 = os.path.join(S1_doubleA1B4_10) \n",
        "blob_service_client.get_blob_to_path('shadeimg', full_path_to_file2, full_path_to_file2)"
      ],
      "execution_count": 477,
      "outputs": [
        {
          "output_type": "execute_result",
          "data": {
            "text/plain": [
              "<azure.storage.blob.models.Blob at 0x7f1620f14110>"
            ]
          },
          "metadata": {},
          "execution_count": 477
        }
      ]
    },
    {
      "cell_type": "code",
      "metadata": {
        "id": "MIO_zkD6dCgb",
        "colab": {
          "base_uri": "https://localhost:8080/"
        },
        "outputId": "8505ef65-4880-4236-8ad3-b99e361f2766"
      },
      "source": [
        "full_path_to_file2 = os.path.join(S1_doubleA1C1_10) \n",
        "blob_service_client.get_blob_to_path('shadeimg', full_path_to_file2, full_path_to_file2)"
      ],
      "execution_count": 478,
      "outputs": [
        {
          "output_type": "execute_result",
          "data": {
            "text/plain": [
              "<azure.storage.blob.models.Blob at 0x7f1620d53910>"
            ]
          },
          "metadata": {},
          "execution_count": 478
        }
      ]
    },
    {
      "cell_type": "code",
      "metadata": {
        "id": "s-Wi4x56dCgb",
        "colab": {
          "base_uri": "https://localhost:8080/"
        },
        "outputId": "fe254f94-42ee-4320-c8f9-1925e476fac3"
      },
      "source": [
        "full_path_to_file2 = os.path.join(S1_doubleA1C2_10) \n",
        "blob_service_client.get_blob_to_path('shadeimg', full_path_to_file2, full_path_to_file2)"
      ],
      "execution_count": 479,
      "outputs": [
        {
          "output_type": "execute_result",
          "data": {
            "text/plain": [
              "<azure.storage.blob.models.Blob at 0x7f1620d5c6d0>"
            ]
          },
          "metadata": {},
          "execution_count": 479
        }
      ]
    },
    {
      "cell_type": "code",
      "metadata": {
        "id": "M8v8BInadCgb",
        "colab": {
          "base_uri": "https://localhost:8080/"
        },
        "outputId": "4f7a40d2-0172-47d2-da75-3c59d47f0a91"
      },
      "source": [
        "full_path_to_file2 = os.path.join(S1_doubleA1C3_10) \n",
        "blob_service_client.get_blob_to_path('shadeimg', full_path_to_file2, full_path_to_file2)"
      ],
      "execution_count": 480,
      "outputs": [
        {
          "output_type": "execute_result",
          "data": {
            "text/plain": [
              "<azure.storage.blob.models.Blob at 0x7f1620d5c5d0>"
            ]
          },
          "metadata": {},
          "execution_count": 480
        }
      ]
    },
    {
      "cell_type": "code",
      "metadata": {
        "id": "v0iXsIcvdCgc",
        "colab": {
          "base_uri": "https://localhost:8080/"
        },
        "outputId": "f608c3c7-0770-4ed6-a6e9-65c27e3fd21b"
      },
      "source": [
        "full_path_to_file2 = os.path.join(S1_doubleA1C4_10) \n",
        "blob_service_client.get_blob_to_path('shadeimg', full_path_to_file2, full_path_to_file2)"
      ],
      "execution_count": 481,
      "outputs": [
        {
          "output_type": "execute_result",
          "data": {
            "text/plain": [
              "<azure.storage.blob.models.Blob at 0x7f1620d81610>"
            ]
          },
          "metadata": {},
          "execution_count": 481
        }
      ]
    },
    {
      "cell_type": "code",
      "metadata": {
        "id": "5kNA8J27dCgc",
        "colab": {
          "base_uri": "https://localhost:8080/"
        },
        "outputId": "8d4f2b63-a131-4836-bb75-899c85995e0d"
      },
      "source": [
        "full_path_to_file2 = os.path.join(S1_doubleA1D2_10) \n",
        "blob_service_client.get_blob_to_path('shadeimg', full_path_to_file2, full_path_to_file2)"
      ],
      "execution_count": 482,
      "outputs": [
        {
          "output_type": "execute_result",
          "data": {
            "text/plain": [
              "<azure.storage.blob.models.Blob at 0x7f1620d81990>"
            ]
          },
          "metadata": {},
          "execution_count": 482
        }
      ]
    },
    {
      "cell_type": "code",
      "metadata": {
        "id": "vlraKoCldCgc",
        "colab": {
          "base_uri": "https://localhost:8080/"
        },
        "outputId": "7f89c505-a5e4-4fb7-d912-be221bd7c7f9"
      },
      "source": [
        "full_path_to_file2 = os.path.join(S1_doubleA1D3_10) \n",
        "blob_service_client.get_blob_to_path('shadeimg', full_path_to_file2, full_path_to_file2)"
      ],
      "execution_count": 483,
      "outputs": [
        {
          "output_type": "execute_result",
          "data": {
            "text/plain": [
              "<azure.storage.blob.models.Blob at 0x7f1620e63710>"
            ]
          },
          "metadata": {},
          "execution_count": 483
        }
      ]
    },
    {
      "cell_type": "code",
      "metadata": {
        "id": "h3dCacb-dCgd",
        "colab": {
          "base_uri": "https://localhost:8080/"
        },
        "outputId": "f0cd2925-feb9-4e29-8f24-3ee7c775b529"
      },
      "source": [
        "full_path_to_file2 = os.path.join(S1_doubleA1D4_10) \n",
        "blob_service_client.get_blob_to_path('shadeimg', full_path_to_file2, full_path_to_file2)"
      ],
      "execution_count": 484,
      "outputs": [
        {
          "output_type": "execute_result",
          "data": {
            "text/plain": [
              "<azure.storage.blob.models.Blob at 0x7f1620daac90>"
            ]
          },
          "metadata": {},
          "execution_count": 484
        }
      ]
    },
    {
      "cell_type": "markdown",
      "metadata": {
        "id": "JmfKq8t7j28g"
      },
      "source": [
        "##Set2"
      ]
    },
    {
      "cell_type": "code",
      "metadata": {
        "id": "YG9ON04Hj7na",
        "colab": {
          "base_uri": "https://localhost:8080/"
        },
        "outputId": "b34b2a6c-c933-4bdf-9cd0-59344bbc022a"
      },
      "source": [
        "full_path_to_file2 = os.path.join(S2_doubleA1A1_1) \n",
        "blob_service_client.get_blob_to_path('shadeimg', full_path_to_file2, full_path_to_file2)"
      ],
      "execution_count": 485,
      "outputs": [
        {
          "output_type": "execute_result",
          "data": {
            "text/plain": [
              "<azure.storage.blob.models.Blob at 0x7f1620dab9d0>"
            ]
          },
          "metadata": {},
          "execution_count": 485
        }
      ]
    },
    {
      "cell_type": "code",
      "metadata": {
        "id": "fpIQGSx4j7na",
        "colab": {
          "base_uri": "https://localhost:8080/"
        },
        "outputId": "1abc3b16-e426-46f8-9b2b-9906b3851e68"
      },
      "source": [
        "full_path_to_file2 = os.path.join(S2_doubleA1A2_1) \n",
        "blob_service_client.get_blob_to_path('shadeimg', full_path_to_file2, full_path_to_file2)"
      ],
      "execution_count": 486,
      "outputs": [
        {
          "output_type": "execute_result",
          "data": {
            "text/plain": [
              "<azure.storage.blob.models.Blob at 0x7f1620d7a7d0>"
            ]
          },
          "metadata": {},
          "execution_count": 486
        }
      ]
    },
    {
      "cell_type": "code",
      "metadata": {
        "id": "0vETkmqzj7na",
        "colab": {
          "base_uri": "https://localhost:8080/"
        },
        "outputId": "b0ef5fdf-f65c-4d5a-d7e4-9ab3a0689492"
      },
      "source": [
        "full_path_to_file2 = os.path.join(S2_doubleA1A3_1) \n",
        "blob_service_client.get_blob_to_path('shadeimg', full_path_to_file2, full_path_to_file2)"
      ],
      "execution_count": 487,
      "outputs": [
        {
          "output_type": "execute_result",
          "data": {
            "text/plain": [
              "<azure.storage.blob.models.Blob at 0x7f1620d67590>"
            ]
          },
          "metadata": {},
          "execution_count": 487
        }
      ]
    },
    {
      "cell_type": "code",
      "metadata": {
        "id": "l1GlwzPqj7nb",
        "colab": {
          "base_uri": "https://localhost:8080/"
        },
        "outputId": "bce53624-9d91-4b6f-9189-13ca1f5d3ef0"
      },
      "source": [
        "full_path_to_file2 = os.path.join(S2_doubleA1A3_51) \n",
        "blob_service_client.get_blob_to_path('shadeimg', full_path_to_file2, full_path_to_file2)"
      ],
      "execution_count": 488,
      "outputs": [
        {
          "output_type": "execute_result",
          "data": {
            "text/plain": [
              "<azure.storage.blob.models.Blob at 0x7f1620d671d0>"
            ]
          },
          "metadata": {},
          "execution_count": 488
        }
      ]
    },
    {
      "cell_type": "code",
      "metadata": {
        "id": "qb0jvIuNj7nb",
        "colab": {
          "base_uri": "https://localhost:8080/"
        },
        "outputId": "84cc0769-e80f-4ba3-a7ac-04c7dd731937"
      },
      "source": [
        "full_path_to_file2 = os.path.join(S2_doubleA1A4_1) \n",
        "blob_service_client.get_blob_to_path('shadeimg', full_path_to_file2, full_path_to_file2)"
      ],
      "execution_count": 489,
      "outputs": [
        {
          "output_type": "execute_result",
          "data": {
            "text/plain": [
              "<azure.storage.blob.models.Blob at 0x7f1620d08850>"
            ]
          },
          "metadata": {},
          "execution_count": 489
        }
      ]
    },
    {
      "cell_type": "code",
      "metadata": {
        "id": "lvYoBM2Lj7nb",
        "colab": {
          "base_uri": "https://localhost:8080/"
        },
        "outputId": "a8dc3bf9-0a81-4a99-fd93-d7b0906c4a74"
      },
      "source": [
        "full_path_to_file2 = os.path.join(S2_doubleA1B1_1) \n",
        "blob_service_client.get_blob_to_path('shadeimg', full_path_to_file2, full_path_to_file2)"
      ],
      "execution_count": 490,
      "outputs": [
        {
          "output_type": "execute_result",
          "data": {
            "text/plain": [
              "<azure.storage.blob.models.Blob at 0x7f1620d67750>"
            ]
          },
          "metadata": {},
          "execution_count": 490
        }
      ]
    },
    {
      "cell_type": "code",
      "metadata": {
        "id": "cWIIfSkgj7nb",
        "colab": {
          "base_uri": "https://localhost:8080/"
        },
        "outputId": "78049f7e-df2f-46b2-dda7-abec22e24212"
      },
      "source": [
        "full_path_to_file2 = os.path.join(S2_doubleA1B2_1) \n",
        "blob_service_client.get_blob_to_path('shadeimg', full_path_to_file2, full_path_to_file2)"
      ],
      "execution_count": 491,
      "outputs": [
        {
          "output_type": "execute_result",
          "data": {
            "text/plain": [
              "<azure.storage.blob.models.Blob at 0x7f1620dab150>"
            ]
          },
          "metadata": {},
          "execution_count": 491
        }
      ]
    },
    {
      "cell_type": "code",
      "metadata": {
        "id": "xWiyHdd1j7nb",
        "colab": {
          "base_uri": "https://localhost:8080/"
        },
        "outputId": "e6912fac-93e9-4603-f9b6-bbc354ca63e4"
      },
      "source": [
        "full_path_to_file2 = os.path.join(S2_doubleA1B3_1) \n",
        "blob_service_client.get_blob_to_path('shadeimg', full_path_to_file2, full_path_to_file2)"
      ],
      "execution_count": 492,
      "outputs": [
        {
          "output_type": "execute_result",
          "data": {
            "text/plain": [
              "<azure.storage.blob.models.Blob at 0x7f1620d81310>"
            ]
          },
          "metadata": {},
          "execution_count": 492
        }
      ]
    },
    {
      "cell_type": "code",
      "metadata": {
        "id": "blRYp5Mmj7nc",
        "colab": {
          "base_uri": "https://localhost:8080/"
        },
        "outputId": "92eaa8ec-cb49-4a08-9bdd-de51b574e49f"
      },
      "source": [
        "full_path_to_file2 = os.path.join(S2_doubleA1B4_1) \n",
        "blob_service_client.get_blob_to_path('shadeimg', full_path_to_file2, full_path_to_file2)"
      ],
      "execution_count": 493,
      "outputs": [
        {
          "output_type": "execute_result",
          "data": {
            "text/plain": [
              "<azure.storage.blob.models.Blob at 0x7f1620d7a990>"
            ]
          },
          "metadata": {},
          "execution_count": 493
        }
      ]
    },
    {
      "cell_type": "code",
      "metadata": {
        "id": "BzHII9hsj7nc",
        "colab": {
          "base_uri": "https://localhost:8080/"
        },
        "outputId": "82ea3a96-7325-4821-e122-37a06333d390"
      },
      "source": [
        "full_path_to_file2 = os.path.join(S2_doubleA1C1_1) \n",
        "blob_service_client.get_blob_to_path('shadeimg', full_path_to_file2, full_path_to_file2)"
      ],
      "execution_count": 494,
      "outputs": [
        {
          "output_type": "execute_result",
          "data": {
            "text/plain": [
              "<azure.storage.blob.models.Blob at 0x7f1620d66110>"
            ]
          },
          "metadata": {},
          "execution_count": 494
        }
      ]
    },
    {
      "cell_type": "code",
      "metadata": {
        "id": "86smhxkzj7nc",
        "colab": {
          "base_uri": "https://localhost:8080/"
        },
        "outputId": "fb2c8f46-6854-45f2-e654-dc23bd0e852f"
      },
      "source": [
        "full_path_to_file2 = os.path.join(S2_doubleA1C2_1) \n",
        "blob_service_client.get_blob_to_path('shadeimg', full_path_to_file2, full_path_to_file2)"
      ],
      "execution_count": 495,
      "outputs": [
        {
          "output_type": "execute_result",
          "data": {
            "text/plain": [
              "<azure.storage.blob.models.Blob at 0x7f1620d08b10>"
            ]
          },
          "metadata": {},
          "execution_count": 495
        }
      ]
    },
    {
      "cell_type": "code",
      "metadata": {
        "id": "bUBV2WtFj7nc",
        "colab": {
          "base_uri": "https://localhost:8080/"
        },
        "outputId": "ba1548d9-b852-4291-a200-0b07c9dd1acb"
      },
      "source": [
        "full_path_to_file2 = os.path.join(S2_doubleA1C3_1) \n",
        "blob_service_client.get_blob_to_path('shadeimg', full_path_to_file2, full_path_to_file2)"
      ],
      "execution_count": 496,
      "outputs": [
        {
          "output_type": "execute_result",
          "data": {
            "text/plain": [
              "<azure.storage.blob.models.Blob at 0x7f1620d7c810>"
            ]
          },
          "metadata": {},
          "execution_count": 496
        }
      ]
    },
    {
      "cell_type": "code",
      "metadata": {
        "id": "FKzepKgNj7nc",
        "colab": {
          "base_uri": "https://localhost:8080/"
        },
        "outputId": "7c620dc9-0c6c-4ec5-9dbd-bcf15039b517"
      },
      "source": [
        "full_path_to_file2 = os.path.join(S2_doubleA1C4_1) \n",
        "blob_service_client.get_blob_to_path('shadeimg', full_path_to_file2, full_path_to_file2)"
      ],
      "execution_count": 497,
      "outputs": [
        {
          "output_type": "execute_result",
          "data": {
            "text/plain": [
              "<azure.storage.blob.models.Blob at 0x7f1620d107d0>"
            ]
          },
          "metadata": {},
          "execution_count": 497
        }
      ]
    },
    {
      "cell_type": "code",
      "metadata": {
        "id": "YnvzMa_oj7nc",
        "colab": {
          "base_uri": "https://localhost:8080/"
        },
        "outputId": "e850d2f9-6ca9-48b0-978a-e36969a4e4c3"
      },
      "source": [
        "full_path_to_file2 = os.path.join(S2_doubleA1D2_1) \n",
        "blob_service_client.get_blob_to_path('shadeimg', full_path_to_file2, full_path_to_file2)"
      ],
      "execution_count": 498,
      "outputs": [
        {
          "output_type": "execute_result",
          "data": {
            "text/plain": [
              "<azure.storage.blob.models.Blob at 0x7f1620d10450>"
            ]
          },
          "metadata": {},
          "execution_count": 498
        }
      ]
    },
    {
      "cell_type": "code",
      "metadata": {
        "id": "03OpE9BUj7nd",
        "colab": {
          "base_uri": "https://localhost:8080/"
        },
        "outputId": "34f1810d-4ab3-4ffc-df3c-455efa1d63ad"
      },
      "source": [
        "full_path_to_file2 = os.path.join(S2_doubleA1D3_1) \n",
        "blob_service_client.get_blob_to_path('shadeimg', full_path_to_file2, full_path_to_file2)"
      ],
      "execution_count": 499,
      "outputs": [
        {
          "output_type": "execute_result",
          "data": {
            "text/plain": [
              "<azure.storage.blob.models.Blob at 0x7f1620e8e190>"
            ]
          },
          "metadata": {},
          "execution_count": 499
        }
      ]
    },
    {
      "cell_type": "code",
      "metadata": {
        "id": "khY3eumjj7nd",
        "colab": {
          "base_uri": "https://localhost:8080/"
        },
        "outputId": "bfa73d9e-c7bb-4d84-dc9b-00a4fa535e7a"
      },
      "source": [
        "full_path_to_file2 = os.path.join(S2_doubleA1D4_1) \n",
        "blob_service_client.get_blob_to_path('shadeimg', full_path_to_file2, full_path_to_file2)"
      ],
      "execution_count": 500,
      "outputs": [
        {
          "output_type": "execute_result",
          "data": {
            "text/plain": [
              "<azure.storage.blob.models.Blob at 0x7f1620d67c50>"
            ]
          },
          "metadata": {},
          "execution_count": 500
        }
      ]
    },
    {
      "cell_type": "markdown",
      "metadata": {
        "id": "yg7vfrfxebls"
      },
      "source": [
        "##Img 2"
      ]
    },
    {
      "cell_type": "code",
      "metadata": {
        "id": "ktsYvNZheblt",
        "colab": {
          "base_uri": "https://localhost:8080/"
        },
        "outputId": "b717a91b-6b3e-4347-e835-54fc295c8b1e"
      },
      "source": [
        "full_path_to_file2 = os.path.join(S2_doubleA1A1_2) \n",
        "blob_service_client.get_blob_to_path('shadeimg', full_path_to_file2, full_path_to_file2)"
      ],
      "execution_count": 501,
      "outputs": [
        {
          "output_type": "execute_result",
          "data": {
            "text/plain": [
              "<azure.storage.blob.models.Blob at 0x7f1620d7ced0>"
            ]
          },
          "metadata": {},
          "execution_count": 501
        }
      ]
    },
    {
      "cell_type": "code",
      "metadata": {
        "id": "bDjTt1greblt",
        "colab": {
          "base_uri": "https://localhost:8080/"
        },
        "outputId": "38c45e80-a85f-4813-85de-793df690d949"
      },
      "source": [
        "full_path_to_file2 = os.path.join(S2_doubleA1A2_2) \n",
        "blob_service_client.get_blob_to_path('shadeimg', full_path_to_file2, full_path_to_file2)"
      ],
      "execution_count": 502,
      "outputs": [
        {
          "output_type": "execute_result",
          "data": {
            "text/plain": [
              "<azure.storage.blob.models.Blob at 0x7f1620d7a550>"
            ]
          },
          "metadata": {},
          "execution_count": 502
        }
      ]
    },
    {
      "cell_type": "code",
      "metadata": {
        "id": "kUsnQmhbeblu",
        "colab": {
          "base_uri": "https://localhost:8080/"
        },
        "outputId": "67aeb793-eb2e-4280-9e25-b9dc84a00658"
      },
      "source": [
        "full_path_to_file2 = os.path.join(S2_doubleA1A3_2) \n",
        "blob_service_client.get_blob_to_path('shadeimg', full_path_to_file2, full_path_to_file2)"
      ],
      "execution_count": 503,
      "outputs": [
        {
          "output_type": "execute_result",
          "data": {
            "text/plain": [
              "<azure.storage.blob.models.Blob at 0x7f1620d08410>"
            ]
          },
          "metadata": {},
          "execution_count": 503
        }
      ]
    },
    {
      "cell_type": "code",
      "metadata": {
        "id": "3LkK7xMieblv",
        "colab": {
          "base_uri": "https://localhost:8080/"
        },
        "outputId": "d35dc488-cf87-4f1f-9cda-3c6dfacbfe87"
      },
      "source": [
        "full_path_to_file2 = os.path.join(S2_doubleA1A3_52) \n",
        "blob_service_client.get_blob_to_path('shadeimg', full_path_to_file2, full_path_to_file2)"
      ],
      "execution_count": 504,
      "outputs": [
        {
          "output_type": "execute_result",
          "data": {
            "text/plain": [
              "<azure.storage.blob.models.Blob at 0x7f1620d1cb10>"
            ]
          },
          "metadata": {},
          "execution_count": 504
        }
      ]
    },
    {
      "cell_type": "code",
      "metadata": {
        "id": "yN4y-2UQeblw",
        "colab": {
          "base_uri": "https://localhost:8080/"
        },
        "outputId": "a80c1ced-7c00-453b-e9b4-4984dade9624"
      },
      "source": [
        "full_path_to_file2 = os.path.join(S2_doubleA1A4_2) \n",
        "blob_service_client.get_blob_to_path('shadeimg', full_path_to_file2, full_path_to_file2)"
      ],
      "execution_count": 505,
      "outputs": [
        {
          "output_type": "execute_result",
          "data": {
            "text/plain": [
              "<azure.storage.blob.models.Blob at 0x7f1620f0a710>"
            ]
          },
          "metadata": {},
          "execution_count": 505
        }
      ]
    },
    {
      "cell_type": "code",
      "metadata": {
        "id": "f6-GJANeeblw",
        "colab": {
          "base_uri": "https://localhost:8080/"
        },
        "outputId": "22807487-adad-4cee-ffc7-55c64d15a814"
      },
      "source": [
        "full_path_to_file2 = os.path.join(S2_doubleA1B1_2) \n",
        "blob_service_client.get_blob_to_path('shadeimg', full_path_to_file2, full_path_to_file2)"
      ],
      "execution_count": 506,
      "outputs": [
        {
          "output_type": "execute_result",
          "data": {
            "text/plain": [
              "<azure.storage.blob.models.Blob at 0x7f1620d10090>"
            ]
          },
          "metadata": {},
          "execution_count": 506
        }
      ]
    },
    {
      "cell_type": "code",
      "metadata": {
        "id": "-F1aETW8eblw",
        "colab": {
          "base_uri": "https://localhost:8080/"
        },
        "outputId": "adf1a86e-a6b1-4879-fa7e-f5b1574ea254"
      },
      "source": [
        "full_path_to_file2 = os.path.join(S2_doubleA1B2_2) \n",
        "blob_service_client.get_blob_to_path('shadeimg', full_path_to_file2, full_path_to_file2)"
      ],
      "execution_count": 507,
      "outputs": [
        {
          "output_type": "execute_result",
          "data": {
            "text/plain": [
              "<azure.storage.blob.models.Blob at 0x7f1620d1cad0>"
            ]
          },
          "metadata": {},
          "execution_count": 507
        }
      ]
    },
    {
      "cell_type": "code",
      "metadata": {
        "id": "N7dwoczseblx",
        "colab": {
          "base_uri": "https://localhost:8080/"
        },
        "outputId": "76951993-1ce4-4160-eb12-bd12137209e1"
      },
      "source": [
        "full_path_to_file2 = os.path.join(S2_doubleA1B3_2) \n",
        "blob_service_client.get_blob_to_path('shadeimg', full_path_to_file2, full_path_to_file2)"
      ],
      "execution_count": 508,
      "outputs": [
        {
          "output_type": "execute_result",
          "data": {
            "text/plain": [
              "<azure.storage.blob.models.Blob at 0x7f1620d1c450>"
            ]
          },
          "metadata": {},
          "execution_count": 508
        }
      ]
    },
    {
      "cell_type": "code",
      "metadata": {
        "id": "JgWmy2kveblx",
        "colab": {
          "base_uri": "https://localhost:8080/"
        },
        "outputId": "c440a514-761d-47eb-b1ea-6c1b6a98e90c"
      },
      "source": [
        "full_path_to_file2 = os.path.join(S2_doubleA1B4_2) \n",
        "blob_service_client.get_blob_to_path('shadeimg', full_path_to_file2, full_path_to_file2)"
      ],
      "execution_count": 509,
      "outputs": [
        {
          "output_type": "execute_result",
          "data": {
            "text/plain": [
              "<azure.storage.blob.models.Blob at 0x7f1620d16b10>"
            ]
          },
          "metadata": {},
          "execution_count": 509
        }
      ]
    },
    {
      "cell_type": "code",
      "metadata": {
        "id": "uLK3fd_leblx",
        "colab": {
          "base_uri": "https://localhost:8080/"
        },
        "outputId": "bf3a1984-faa6-421e-ea34-99e421b81e0e"
      },
      "source": [
        "full_path_to_file2 = os.path.join(S2_doubleA1C1_2) \n",
        "blob_service_client.get_blob_to_path('shadeimg', full_path_to_file2, full_path_to_file2)"
      ],
      "execution_count": 510,
      "outputs": [
        {
          "output_type": "execute_result",
          "data": {
            "text/plain": [
              "<azure.storage.blob.models.Blob at 0x7f1620d25650>"
            ]
          },
          "metadata": {},
          "execution_count": 510
        }
      ]
    },
    {
      "cell_type": "code",
      "metadata": {
        "id": "d4cFSif1eblx",
        "colab": {
          "base_uri": "https://localhost:8080/"
        },
        "outputId": "b871e197-4e3d-45ca-9e56-b415283de5dc"
      },
      "source": [
        "full_path_to_file2 = os.path.join(S2_doubleA1C2_2) \n",
        "blob_service_client.get_blob_to_path('shadeimg', full_path_to_file2, full_path_to_file2)"
      ],
      "execution_count": 511,
      "outputs": [
        {
          "output_type": "execute_result",
          "data": {
            "text/plain": [
              "<azure.storage.blob.models.Blob at 0x7f1620d26d10>"
            ]
          },
          "metadata": {},
          "execution_count": 511
        }
      ]
    },
    {
      "cell_type": "code",
      "metadata": {
        "id": "iAcvoao2ebly",
        "colab": {
          "base_uri": "https://localhost:8080/"
        },
        "outputId": "627571b0-0abb-4513-c285-c7c4e52a33d7"
      },
      "source": [
        "full_path_to_file2 = os.path.join(S2_doubleA1C3_2) \n",
        "blob_service_client.get_blob_to_path('shadeimg', full_path_to_file2, full_path_to_file2)"
      ],
      "execution_count": 512,
      "outputs": [
        {
          "output_type": "execute_result",
          "data": {
            "text/plain": [
              "<azure.storage.blob.models.Blob at 0x7f1620d1c790>"
            ]
          },
          "metadata": {},
          "execution_count": 512
        }
      ]
    },
    {
      "cell_type": "code",
      "metadata": {
        "id": "9DbhEtU-ebly",
        "colab": {
          "base_uri": "https://localhost:8080/"
        },
        "outputId": "31252956-1d45-472f-ad98-c96a84938063"
      },
      "source": [
        "full_path_to_file2 = os.path.join(S2_doubleA1C4_2) \n",
        "blob_service_client.get_blob_to_path('shadeimg', full_path_to_file2, full_path_to_file2)"
      ],
      "execution_count": 513,
      "outputs": [
        {
          "output_type": "execute_result",
          "data": {
            "text/plain": [
              "<azure.storage.blob.models.Blob at 0x7f1620d7aa90>"
            ]
          },
          "metadata": {},
          "execution_count": 513
        }
      ]
    },
    {
      "cell_type": "code",
      "metadata": {
        "id": "PH9OXDrsebly",
        "colab": {
          "base_uri": "https://localhost:8080/"
        },
        "outputId": "1929d227-8317-45f0-d1e9-c99647b57da8"
      },
      "source": [
        "full_path_to_file2 = os.path.join(S2_doubleA1D2_2) \n",
        "blob_service_client.get_blob_to_path('shadeimg', full_path_to_file2, full_path_to_file2)"
      ],
      "execution_count": 514,
      "outputs": [
        {
          "output_type": "execute_result",
          "data": {
            "text/plain": [
              "<azure.storage.blob.models.Blob at 0x7f1620d10ad0>"
            ]
          },
          "metadata": {},
          "execution_count": 514
        }
      ]
    },
    {
      "cell_type": "code",
      "metadata": {
        "id": "cTvw6XHEebly",
        "colab": {
          "base_uri": "https://localhost:8080/"
        },
        "outputId": "32051965-a9bb-49e6-850a-4207f8ef7dea"
      },
      "source": [
        "full_path_to_file2 = os.path.join(S2_doubleA1D3_2) \n",
        "blob_service_client.get_blob_to_path('shadeimg', full_path_to_file2, full_path_to_file2)"
      ],
      "execution_count": 515,
      "outputs": [
        {
          "output_type": "execute_result",
          "data": {
            "text/plain": [
              "<azure.storage.blob.models.Blob at 0x7f1620d5ced0>"
            ]
          },
          "metadata": {},
          "execution_count": 515
        }
      ]
    },
    {
      "cell_type": "code",
      "metadata": {
        "id": "dYoykTNTeblz",
        "colab": {
          "base_uri": "https://localhost:8080/"
        },
        "outputId": "295c1227-6b00-40bb-ec01-e5f50494b35d"
      },
      "source": [
        "full_path_to_file2 = os.path.join(S2_doubleA1D4_2) \n",
        "blob_service_client.get_blob_to_path('shadeimg', full_path_to_file2, full_path_to_file2)"
      ],
      "execution_count": 516,
      "outputs": [
        {
          "output_type": "execute_result",
          "data": {
            "text/plain": [
              "<azure.storage.blob.models.Blob at 0x7f1620d262d0>"
            ]
          },
          "metadata": {},
          "execution_count": 516
        }
      ]
    },
    {
      "cell_type": "markdown",
      "metadata": {
        "id": "M4yynlsDeblz"
      },
      "source": [
        "##Img 3"
      ]
    },
    {
      "cell_type": "code",
      "metadata": {
        "id": "zTPh01xAeblz",
        "colab": {
          "base_uri": "https://localhost:8080/"
        },
        "outputId": "37873ae2-088c-4c78-84f3-1fa54c3d5da3"
      },
      "source": [
        "full_path_to_file2 = os.path.join(S2_doubleA1A1_3) \n",
        "blob_service_client.get_blob_to_path('shadeimg', full_path_to_file2, full_path_to_file2)"
      ],
      "execution_count": 517,
      "outputs": [
        {
          "output_type": "execute_result",
          "data": {
            "text/plain": [
              "<azure.storage.blob.models.Blob at 0x7f1620d36910>"
            ]
          },
          "metadata": {},
          "execution_count": 517
        }
      ]
    },
    {
      "cell_type": "code",
      "metadata": {
        "id": "GPsNyLwDeblz",
        "colab": {
          "base_uri": "https://localhost:8080/"
        },
        "outputId": "2193b45c-d476-4ef3-cb9c-4c8628dd97d8"
      },
      "source": [
        "full_path_to_file2 = os.path.join(S2_doubleA1A2_3) \n",
        "blob_service_client.get_blob_to_path('shadeimg', full_path_to_file2, full_path_to_file2)"
      ],
      "execution_count": 518,
      "outputs": [
        {
          "output_type": "execute_result",
          "data": {
            "text/plain": [
              "<azure.storage.blob.models.Blob at 0x7f1620d1c350>"
            ]
          },
          "metadata": {},
          "execution_count": 518
        }
      ]
    },
    {
      "cell_type": "code",
      "metadata": {
        "id": "W8pL3crReblz",
        "colab": {
          "base_uri": "https://localhost:8080/"
        },
        "outputId": "bda43372-c1f5-4153-f263-4dd4980931d1"
      },
      "source": [
        "full_path_to_file2 = os.path.join(S2_doubleA1A3_3) \n",
        "blob_service_client.get_blob_to_path('shadeimg', full_path_to_file2, full_path_to_file2)"
      ],
      "execution_count": 519,
      "outputs": [
        {
          "output_type": "execute_result",
          "data": {
            "text/plain": [
              "<azure.storage.blob.models.Blob at 0x7f1620d39c10>"
            ]
          },
          "metadata": {},
          "execution_count": 519
        }
      ]
    },
    {
      "cell_type": "code",
      "metadata": {
        "id": "HR8o6XjFebl0",
        "colab": {
          "base_uri": "https://localhost:8080/"
        },
        "outputId": "a1b52aa4-9b5c-496c-d7ca-34b41aa6ee81"
      },
      "source": [
        "full_path_to_file2 = os.path.join(S2_doubleA1A3_53) \n",
        "blob_service_client.get_blob_to_path('shadeimg', full_path_to_file2, full_path_to_file2)"
      ],
      "execution_count": 520,
      "outputs": [
        {
          "output_type": "execute_result",
          "data": {
            "text/plain": [
              "<azure.storage.blob.models.Blob at 0x7f1620d43390>"
            ]
          },
          "metadata": {},
          "execution_count": 520
        }
      ]
    },
    {
      "cell_type": "code",
      "metadata": {
        "id": "RxQw_7eoebl0",
        "colab": {
          "base_uri": "https://localhost:8080/"
        },
        "outputId": "2a5c55d0-b1f2-4cc2-bc6e-858e9a0e4b62"
      },
      "source": [
        "full_path_to_file2 = os.path.join(S2_doubleA1A4_3) \n",
        "blob_service_client.get_blob_to_path('shadeimg', full_path_to_file2, full_path_to_file2)"
      ],
      "execution_count": 521,
      "outputs": [
        {
          "output_type": "execute_result",
          "data": {
            "text/plain": [
              "<azure.storage.blob.models.Blob at 0x7f1620d43850>"
            ]
          },
          "metadata": {},
          "execution_count": 521
        }
      ]
    },
    {
      "cell_type": "code",
      "metadata": {
        "id": "J9MskHEmebl0",
        "colab": {
          "base_uri": "https://localhost:8080/"
        },
        "outputId": "f3ae8f83-09f9-43a1-81ec-40e2d523f3a5"
      },
      "source": [
        "full_path_to_file2 = os.path.join(S2_doubleA1B1_3) \n",
        "blob_service_client.get_blob_to_path('shadeimg', full_path_to_file2, full_path_to_file2)"
      ],
      "execution_count": 522,
      "outputs": [
        {
          "output_type": "execute_result",
          "data": {
            "text/plain": [
              "<azure.storage.blob.models.Blob at 0x7f1620e80250>"
            ]
          },
          "metadata": {},
          "execution_count": 522
        }
      ]
    },
    {
      "cell_type": "code",
      "metadata": {
        "id": "3DA0mvULebl0",
        "colab": {
          "base_uri": "https://localhost:8080/"
        },
        "outputId": "640304cd-fe99-44d5-cd77-0e61cf527f9c"
      },
      "source": [
        "full_path_to_file2 = os.path.join(S2_doubleA1B2_3) \n",
        "blob_service_client.get_blob_to_path('shadeimg', full_path_to_file2, full_path_to_file2)"
      ],
      "execution_count": 523,
      "outputs": [
        {
          "output_type": "execute_result",
          "data": {
            "text/plain": [
              "<azure.storage.blob.models.Blob at 0x7f1620d1c0d0>"
            ]
          },
          "metadata": {},
          "execution_count": 523
        }
      ]
    },
    {
      "cell_type": "code",
      "metadata": {
        "id": "rnJY-lzDebl0",
        "colab": {
          "base_uri": "https://localhost:8080/"
        },
        "outputId": "b57e85a6-ac82-46a7-b643-22f1ffaf3cc8"
      },
      "source": [
        "full_path_to_file2 = os.path.join(S2_doubleA1B3_3) \n",
        "blob_service_client.get_blob_to_path('shadeimg', full_path_to_file2, full_path_to_file2)"
      ],
      "execution_count": 524,
      "outputs": [
        {
          "output_type": "execute_result",
          "data": {
            "text/plain": [
              "<azure.storage.blob.models.Blob at 0x7f1620d16e90>"
            ]
          },
          "metadata": {},
          "execution_count": 524
        }
      ]
    },
    {
      "cell_type": "code",
      "metadata": {
        "id": "dDPaUbfHebl1",
        "colab": {
          "base_uri": "https://localhost:8080/"
        },
        "outputId": "6ca6a902-bd08-43c2-b936-a0381e7c30b2"
      },
      "source": [
        "full_path_to_file2 = os.path.join(S2_doubleA1B4_3) \n",
        "blob_service_client.get_blob_to_path('shadeimg', full_path_to_file2, full_path_to_file2)"
      ],
      "execution_count": 525,
      "outputs": [
        {
          "output_type": "execute_result",
          "data": {
            "text/plain": [
              "<azure.storage.blob.models.Blob at 0x7f1620e41d10>"
            ]
          },
          "metadata": {},
          "execution_count": 525
        }
      ]
    },
    {
      "cell_type": "code",
      "metadata": {
        "id": "F0PmTJ4webl1",
        "colab": {
          "base_uri": "https://localhost:8080/"
        },
        "outputId": "2ba68627-4a10-4b06-e22b-31b8c51af9de"
      },
      "source": [
        "full_path_to_file2 = os.path.join(S2_doubleA1C1_3) \n",
        "blob_service_client.get_blob_to_path('shadeimg', full_path_to_file2, full_path_to_file2)"
      ],
      "execution_count": 526,
      "outputs": [
        {
          "output_type": "execute_result",
          "data": {
            "text/plain": [
              "<azure.storage.blob.models.Blob at 0x7f1620d36e50>"
            ]
          },
          "metadata": {},
          "execution_count": 526
        }
      ]
    },
    {
      "cell_type": "code",
      "metadata": {
        "id": "LEICV7Hpebl1",
        "colab": {
          "base_uri": "https://localhost:8080/"
        },
        "outputId": "3b07c6c1-8cc0-41cf-e494-8300d67a429c"
      },
      "source": [
        "full_path_to_file2 = os.path.join(S2_doubleA1C2_3) \n",
        "blob_service_client.get_blob_to_path('shadeimg', full_path_to_file2, full_path_to_file2)"
      ],
      "execution_count": 527,
      "outputs": [
        {
          "output_type": "execute_result",
          "data": {
            "text/plain": [
              "<azure.storage.blob.models.Blob at 0x7f1620d39850>"
            ]
          },
          "metadata": {},
          "execution_count": 527
        }
      ]
    },
    {
      "cell_type": "code",
      "metadata": {
        "id": "O94Ji3fwebl1",
        "colab": {
          "base_uri": "https://localhost:8080/"
        },
        "outputId": "ce749ffe-7898-43dc-843d-24972521b25b"
      },
      "source": [
        "full_path_to_file2 = os.path.join(S2_doubleA1C3_3) \n",
        "blob_service_client.get_blob_to_path('shadeimg', full_path_to_file2, full_path_to_file2)"
      ],
      "execution_count": 528,
      "outputs": [
        {
          "output_type": "execute_result",
          "data": {
            "text/plain": [
              "<azure.storage.blob.models.Blob at 0x7f1620d39b90>"
            ]
          },
          "metadata": {},
          "execution_count": 528
        }
      ]
    },
    {
      "cell_type": "code",
      "metadata": {
        "id": "fAT8W9QCebl1",
        "colab": {
          "base_uri": "https://localhost:8080/"
        },
        "outputId": "3d22a867-d062-474e-e00c-a3eb45c71a43"
      },
      "source": [
        "full_path_to_file2 = os.path.join(S2_doubleA1C4_3) \n",
        "blob_service_client.get_blob_to_path('shadeimg', full_path_to_file2, full_path_to_file2)"
      ],
      "execution_count": 529,
      "outputs": [
        {
          "output_type": "execute_result",
          "data": {
            "text/plain": [
              "<azure.storage.blob.models.Blob at 0x7f1620d3e510>"
            ]
          },
          "metadata": {},
          "execution_count": 529
        }
      ]
    },
    {
      "cell_type": "code",
      "metadata": {
        "id": "8AkkW83Webl2",
        "colab": {
          "base_uri": "https://localhost:8080/"
        },
        "outputId": "f35f2396-42d2-4d42-d4ab-3bc8fd9fa145"
      },
      "source": [
        "full_path_to_file2 = os.path.join(S2_doubleA1D2_3) \n",
        "blob_service_client.get_blob_to_path('shadeimg', full_path_to_file2, full_path_to_file2)"
      ],
      "execution_count": 530,
      "outputs": [
        {
          "output_type": "execute_result",
          "data": {
            "text/plain": [
              "<azure.storage.blob.models.Blob at 0x7f1620e761d0>"
            ]
          },
          "metadata": {},
          "execution_count": 530
        }
      ]
    },
    {
      "cell_type": "code",
      "metadata": {
        "id": "u-ogCgwzebl2",
        "colab": {
          "base_uri": "https://localhost:8080/"
        },
        "outputId": "bfb913c3-4be6-4d7b-dfea-569de3afe2de"
      },
      "source": [
        "full_path_to_file2 = os.path.join(S2_doubleA1D3_3) \n",
        "blob_service_client.get_blob_to_path('shadeimg', full_path_to_file2, full_path_to_file2)"
      ],
      "execution_count": 531,
      "outputs": [
        {
          "output_type": "execute_result",
          "data": {
            "text/plain": [
              "<azure.storage.blob.models.Blob at 0x7f1620f28a10>"
            ]
          },
          "metadata": {},
          "execution_count": 531
        }
      ]
    },
    {
      "cell_type": "code",
      "metadata": {
        "id": "-ANI8TdGebl2",
        "colab": {
          "base_uri": "https://localhost:8080/"
        },
        "outputId": "4f6df9ef-8002-4d07-b0c7-4a2bf0baeabe"
      },
      "source": [
        "full_path_to_file2 = os.path.join(S2_doubleA1D4_3) \n",
        "blob_service_client.get_blob_to_path('shadeimg', full_path_to_file2, full_path_to_file2)"
      ],
      "execution_count": 532,
      "outputs": [
        {
          "output_type": "execute_result",
          "data": {
            "text/plain": [
              "<azure.storage.blob.models.Blob at 0x7f162a627190>"
            ]
          },
          "metadata": {},
          "execution_count": 532
        }
      ]
    },
    {
      "cell_type": "markdown",
      "metadata": {
        "id": "t5m0YFyAebl2"
      },
      "source": [
        "##Img 4"
      ]
    },
    {
      "cell_type": "code",
      "metadata": {
        "id": "m3JdnucOebl3",
        "colab": {
          "base_uri": "https://localhost:8080/"
        },
        "outputId": "97bf62d9-b2fd-4795-dea0-21790fda124d"
      },
      "source": [
        "full_path_to_file2 = os.path.join(S2_doubleA1A1_4) \n",
        "blob_service_client.get_blob_to_path('shadeimg', full_path_to_file2, full_path_to_file2)"
      ],
      "execution_count": 533,
      "outputs": [
        {
          "output_type": "execute_result",
          "data": {
            "text/plain": [
              "<azure.storage.blob.models.Blob at 0x7f162a65ed10>"
            ]
          },
          "metadata": {},
          "execution_count": 533
        }
      ]
    },
    {
      "cell_type": "code",
      "metadata": {
        "id": "o7avBFA6ebl3",
        "colab": {
          "base_uri": "https://localhost:8080/"
        },
        "outputId": "2e6468b7-5666-4828-a2d5-112bf0607f0c"
      },
      "source": [
        "full_path_to_file2 = os.path.join(S2_doubleA1A2_4) \n",
        "blob_service_client.get_blob_to_path('shadeimg', full_path_to_file2, full_path_to_file2)"
      ],
      "execution_count": 534,
      "outputs": [
        {
          "output_type": "execute_result",
          "data": {
            "text/plain": [
              "<azure.storage.blob.models.Blob at 0x7f1620d1c6d0>"
            ]
          },
          "metadata": {},
          "execution_count": 534
        }
      ]
    },
    {
      "cell_type": "code",
      "metadata": {
        "id": "_pwnCO1aebl3",
        "colab": {
          "base_uri": "https://localhost:8080/"
        },
        "outputId": "5eebfc72-5484-4780-bbdd-41b4a1040881"
      },
      "source": [
        "full_path_to_file2 = os.path.join(S2_doubleA1A3_4) \n",
        "blob_service_client.get_blob_to_path('shadeimg', full_path_to_file2, full_path_to_file2)"
      ],
      "execution_count": 535,
      "outputs": [
        {
          "output_type": "execute_result",
          "data": {
            "text/plain": [
              "<azure.storage.blob.models.Blob at 0x7f162a5c5950>"
            ]
          },
          "metadata": {},
          "execution_count": 535
        }
      ]
    },
    {
      "cell_type": "code",
      "metadata": {
        "id": "q_rqiyS_ebl3",
        "colab": {
          "base_uri": "https://localhost:8080/"
        },
        "outputId": "32255392-16f6-4cd9-b14b-a907d642caec"
      },
      "source": [
        "full_path_to_file2 = os.path.join(S2_doubleA1A3_54) \n",
        "blob_service_client.get_blob_to_path('shadeimg', full_path_to_file2, full_path_to_file2)"
      ],
      "execution_count": 536,
      "outputs": [
        {
          "output_type": "execute_result",
          "data": {
            "text/plain": [
              "<azure.storage.blob.models.Blob at 0x7f162a620350>"
            ]
          },
          "metadata": {},
          "execution_count": 536
        }
      ]
    },
    {
      "cell_type": "code",
      "metadata": {
        "id": "rYWwxhHGebl4",
        "colab": {
          "base_uri": "https://localhost:8080/"
        },
        "outputId": "531a9f42-368b-4ffc-c456-dc464ef4be3f"
      },
      "source": [
        "full_path_to_file2 = os.path.join(S2_doubleA1A4_4) \n",
        "blob_service_client.get_blob_to_path('shadeimg', full_path_to_file2, full_path_to_file2)"
      ],
      "execution_count": 537,
      "outputs": [
        {
          "output_type": "execute_result",
          "data": {
            "text/plain": [
              "<azure.storage.blob.models.Blob at 0x7f1620d43110>"
            ]
          },
          "metadata": {},
          "execution_count": 537
        }
      ]
    },
    {
      "cell_type": "code",
      "metadata": {
        "id": "LNYWKjxnebl4",
        "colab": {
          "base_uri": "https://localhost:8080/"
        },
        "outputId": "f159b14a-3964-4231-8b69-a12a9a3197f9"
      },
      "source": [
        "full_path_to_file2 = os.path.join(S2_doubleA1B1_4) \n",
        "blob_service_client.get_blob_to_path('shadeimg', full_path_to_file2, full_path_to_file2)"
      ],
      "execution_count": 538,
      "outputs": [
        {
          "output_type": "execute_result",
          "data": {
            "text/plain": [
              "<azure.storage.blob.models.Blob at 0x7f1620ece290>"
            ]
          },
          "metadata": {},
          "execution_count": 538
        }
      ]
    },
    {
      "cell_type": "code",
      "metadata": {
        "id": "WOB41VYmebl4",
        "colab": {
          "base_uri": "https://localhost:8080/"
        },
        "outputId": "23d94fc5-9f32-41af-c4f4-efe81747be2f"
      },
      "source": [
        "full_path_to_file2 = os.path.join(S2_doubleA1B2_4) \n",
        "blob_service_client.get_blob_to_path('shadeimg', full_path_to_file2, full_path_to_file2)"
      ],
      "execution_count": 539,
      "outputs": [
        {
          "output_type": "execute_result",
          "data": {
            "text/plain": [
              "<azure.storage.blob.models.Blob at 0x7f1620e80150>"
            ]
          },
          "metadata": {},
          "execution_count": 539
        }
      ]
    },
    {
      "cell_type": "code",
      "metadata": {
        "id": "4U6BvS6Tebl4",
        "colab": {
          "base_uri": "https://localhost:8080/"
        },
        "outputId": "aa7b3ae5-6f18-4217-ff8f-2aa8a533d10c"
      },
      "source": [
        "full_path_to_file2 = os.path.join(S2_doubleA1B3_4) \n",
        "blob_service_client.get_blob_to_path('shadeimg', full_path_to_file2, full_path_to_file2)"
      ],
      "execution_count": 540,
      "outputs": [
        {
          "output_type": "execute_result",
          "data": {
            "text/plain": [
              "<azure.storage.blob.models.Blob at 0x7f1620d36550>"
            ]
          },
          "metadata": {},
          "execution_count": 540
        }
      ]
    },
    {
      "cell_type": "code",
      "metadata": {
        "id": "4qnESzXWebl5",
        "colab": {
          "base_uri": "https://localhost:8080/"
        },
        "outputId": "d7847396-a52a-450d-c302-5a121c453153"
      },
      "source": [
        "full_path_to_file2 = os.path.join(S2_doubleA1B4_4) \n",
        "blob_service_client.get_blob_to_path('shadeimg', full_path_to_file2, full_path_to_file2)"
      ],
      "execution_count": 541,
      "outputs": [
        {
          "output_type": "execute_result",
          "data": {
            "text/plain": [
              "<azure.storage.blob.models.Blob at 0x7f1620e80b90>"
            ]
          },
          "metadata": {},
          "execution_count": 541
        }
      ]
    },
    {
      "cell_type": "code",
      "metadata": {
        "id": "NzuFxiNEebl5",
        "colab": {
          "base_uri": "https://localhost:8080/"
        },
        "outputId": "7e7d9c54-c735-47e2-ab9c-97f069b016c9"
      },
      "source": [
        "full_path_to_file2 = os.path.join(S2_doubleA1C1_4) \n",
        "blob_service_client.get_blob_to_path('shadeimg', full_path_to_file2, full_path_to_file2)"
      ],
      "execution_count": 542,
      "outputs": [
        {
          "output_type": "execute_result",
          "data": {
            "text/plain": [
              "<azure.storage.blob.models.Blob at 0x7f1620d3e9d0>"
            ]
          },
          "metadata": {},
          "execution_count": 542
        }
      ]
    },
    {
      "cell_type": "code",
      "metadata": {
        "id": "I3AgX4Akebl5",
        "colab": {
          "base_uri": "https://localhost:8080/"
        },
        "outputId": "28449450-cff7-47c5-e78f-53915b447722"
      },
      "source": [
        "full_path_to_file2 = os.path.join(S2_doubleA1C2_4) \n",
        "blob_service_client.get_blob_to_path('shadeimg', full_path_to_file2, full_path_to_file2)"
      ],
      "execution_count": 543,
      "outputs": [
        {
          "output_type": "execute_result",
          "data": {
            "text/plain": [
              "<azure.storage.blob.models.Blob at 0x7f1620e2ec50>"
            ]
          },
          "metadata": {},
          "execution_count": 543
        }
      ]
    },
    {
      "cell_type": "code",
      "metadata": {
        "id": "Dd_oP4rLebl5",
        "colab": {
          "base_uri": "https://localhost:8080/"
        },
        "outputId": "3df7e51e-9d26-4314-d4c6-216266c4dabe"
      },
      "source": [
        "full_path_to_file2 = os.path.join(S2_doubleA1C3_4) \n",
        "blob_service_client.get_blob_to_path('shadeimg', full_path_to_file2, full_path_to_file2)"
      ],
      "execution_count": 544,
      "outputs": [
        {
          "output_type": "execute_result",
          "data": {
            "text/plain": [
              "<azure.storage.blob.models.Blob at 0x7f16213caa90>"
            ]
          },
          "metadata": {},
          "execution_count": 544
        }
      ]
    },
    {
      "cell_type": "code",
      "metadata": {
        "id": "aosPN7Keebl6",
        "colab": {
          "base_uri": "https://localhost:8080/"
        },
        "outputId": "67610e24-6cae-4df9-8fae-02a298cd168d"
      },
      "source": [
        "full_path_to_file2 = os.path.join(S2_doubleA1C4_4) \n",
        "blob_service_client.get_blob_to_path('shadeimg', full_path_to_file2, full_path_to_file2)"
      ],
      "execution_count": 545,
      "outputs": [
        {
          "output_type": "execute_result",
          "data": {
            "text/plain": [
              "<azure.storage.blob.models.Blob at 0x7f1620f3a610>"
            ]
          },
          "metadata": {},
          "execution_count": 545
        }
      ]
    },
    {
      "cell_type": "code",
      "metadata": {
        "id": "sKtotEVfebl6",
        "colab": {
          "base_uri": "https://localhost:8080/"
        },
        "outputId": "39b62b08-fe27-4ca1-9214-ce77d192cbd8"
      },
      "source": [
        "full_path_to_file2 = os.path.join(S2_doubleA1D2_4) \n",
        "blob_service_client.get_blob_to_path('shadeimg', full_path_to_file2, full_path_to_file2)"
      ],
      "execution_count": 546,
      "outputs": [
        {
          "output_type": "execute_result",
          "data": {
            "text/plain": [
              "<azure.storage.blob.models.Blob at 0x7f162a64b390>"
            ]
          },
          "metadata": {},
          "execution_count": 546
        }
      ]
    },
    {
      "cell_type": "code",
      "metadata": {
        "id": "kbzGf8aTebl6"
      },
      "source": [
        "full_path_to_file2 = os.path.join(S2_doubleA1D3_4) \n",
        "blob_service_client.get_blob_to_path('shadeimg', full_path_to_file2, full_path_to_file2)"
      ],
      "execution_count": null,
      "outputs": []
    },
    {
      "cell_type": "code",
      "metadata": {
        "id": "ZiFOtOZAebl6"
      },
      "source": [
        "full_path_to_file2 = os.path.join(S2_doubleA1D4_4) \n",
        "blob_service_client.get_blob_to_path('shadeimg', full_path_to_file2, full_path_to_file2)"
      ],
      "execution_count": null,
      "outputs": []
    },
    {
      "cell_type": "markdown",
      "metadata": {
        "id": "yFHrYXjKg7hS"
      },
      "source": [
        "##Img 5"
      ]
    },
    {
      "cell_type": "code",
      "metadata": {
        "id": "qdYYr5hog7hS"
      },
      "source": [
        "full_path_to_file2 = os.path.join(S2_doubleA1A1_5) \n",
        "blob_service_client.get_blob_to_path('shadeimg', full_path_to_file2, full_path_to_file2)"
      ],
      "execution_count": null,
      "outputs": []
    },
    {
      "cell_type": "code",
      "metadata": {
        "id": "eqdbdHysg7hT"
      },
      "source": [
        "full_path_to_file2 = os.path.join(S2_doubleA1A2_5) \n",
        "blob_service_client.get_blob_to_path('shadeimg', full_path_to_file2, full_path_to_file2)"
      ],
      "execution_count": null,
      "outputs": []
    },
    {
      "cell_type": "code",
      "metadata": {
        "id": "POIjHwT8gUqd"
      },
      "source": [
        "full_path_to_file2 = os.path.join(S2_doubleA1A3_5) \n",
        "blob_service_client.get_blob_to_path('shadeimg', full_path_to_file2, full_path_to_file2)"
      ],
      "execution_count": null,
      "outputs": []
    },
    {
      "cell_type": "code",
      "metadata": {
        "id": "xlFrQw2OgUqz"
      },
      "source": [
        "full_path_to_file2 = os.path.join(S2_doubleA1A3_55) \n",
        "blob_service_client.get_blob_to_path('shadeimg', full_path_to_file2, full_path_to_file2)"
      ],
      "execution_count": null,
      "outputs": []
    },
    {
      "cell_type": "code",
      "metadata": {
        "id": "073AE8NugUqz"
      },
      "source": [
        "full_path_to_file2 = os.path.join(S2_doubleA1A4_5) \n",
        "blob_service_client.get_blob_to_path('shadeimg', full_path_to_file2, full_path_to_file2)"
      ],
      "execution_count": null,
      "outputs": []
    },
    {
      "cell_type": "code",
      "metadata": {
        "id": "tuO6rkufgUq0"
      },
      "source": [
        "full_path_to_file2 = os.path.join(S2_doubleA1B1_5) \n",
        "blob_service_client.get_blob_to_path('shadeimg', full_path_to_file2, full_path_to_file2)"
      ],
      "execution_count": null,
      "outputs": []
    },
    {
      "cell_type": "code",
      "metadata": {
        "id": "V1tUkXemgUq0"
      },
      "source": [
        "full_path_to_file2 = os.path.join(S2_doubleA1B2_5) \n",
        "blob_service_client.get_blob_to_path('shadeimg', full_path_to_file2, full_path_to_file2)"
      ],
      "execution_count": null,
      "outputs": []
    },
    {
      "cell_type": "code",
      "metadata": {
        "id": "1gyMQ7vEgUq1"
      },
      "source": [
        "  full_path_to_file2 = os.path.join(S2_doubleA1B3_5) \n",
        "blob_service_client.get_blob_to_path('shadeimg', full_path_to_file2, full_path_to_file2)"
      ],
      "execution_count": null,
      "outputs": []
    },
    {
      "cell_type": "code",
      "metadata": {
        "id": "hsYFjWJsgUq1"
      },
      "source": [
        "full_path_to_file2 = os.path.join(S2_doubleA1B4_5) \n",
        "blob_service_client.get_blob_to_path('shadeimg', full_path_to_file2, full_path_to_file2)"
      ],
      "execution_count": null,
      "outputs": []
    },
    {
      "cell_type": "code",
      "metadata": {
        "id": "aFl9lSsogUq1"
      },
      "source": [
        "full_path_to_file2 = os.path.join(S2_doubleA1C1_5) \n",
        "blob_service_client.get_blob_to_path('shadeimg', full_path_to_file2, full_path_to_file2)"
      ],
      "execution_count": null,
      "outputs": []
    },
    {
      "cell_type": "code",
      "metadata": {
        "id": "c5ORnDsfgUq1"
      },
      "source": [
        "full_path_to_file2 = os.path.join(S2_doubleA1C2_5) \n",
        "blob_service_client.get_blob_to_path('shadeimg', full_path_to_file2, full_path_to_file2)"
      ],
      "execution_count": null,
      "outputs": []
    },
    {
      "cell_type": "code",
      "metadata": {
        "id": "ahmvb0WhgUq2"
      },
      "source": [
        "full_path_to_file2 = os.path.join(S2_doubleA1C3_5) \n",
        "blob_service_client.get_blob_to_path('shadeimg', full_path_to_file2, full_path_to_file2)"
      ],
      "execution_count": null,
      "outputs": []
    },
    {
      "cell_type": "code",
      "metadata": {
        "id": "Kn6uh6YwgUq2"
      },
      "source": [
        "full_path_to_file2 = os.path.join(S2_doubleA1C4_5) \n",
        "blob_service_client.get_blob_to_path('shadeimg', full_path_to_file2, full_path_to_file2)"
      ],
      "execution_count": null,
      "outputs": []
    },
    {
      "cell_type": "code",
      "metadata": {
        "id": "5O-EuEdvgUq3"
      },
      "source": [
        "full_path_to_file2 = os.path.join(S2_doubleA1D2_5) \n",
        "blob_service_client.get_blob_to_path('shadeimg', full_path_to_file2, full_path_to_file2)"
      ],
      "execution_count": null,
      "outputs": []
    },
    {
      "cell_type": "code",
      "metadata": {
        "id": "WG4QKf79gUq3"
      },
      "source": [
        "full_path_to_file2 = os.path.join(S2_doubleA1D3_5) \n",
        "blob_service_client.get_blob_to_path('shadeimg', full_path_to_file2, full_path_to_file2)"
      ],
      "execution_count": null,
      "outputs": []
    },
    {
      "cell_type": "code",
      "metadata": {
        "id": "qSYmUYUxgUq3"
      },
      "source": [
        "full_path_to_file2 = os.path.join(S2_doubleA1D4_5) \n",
        "blob_service_client.get_blob_to_path('shadeimg', full_path_to_file2, full_path_to_file2)"
      ],
      "execution_count": null,
      "outputs": []
    },
    {
      "cell_type": "markdown",
      "metadata": {
        "id": "CtVDJNK_gUq4"
      },
      "source": [
        "##Img 6"
      ]
    },
    {
      "cell_type": "code",
      "metadata": {
        "id": "fA1aVj68gUq4"
      },
      "source": [
        "full_path_to_file2 = os.path.join(S2_doubleA1A1_6) \n",
        "blob_service_client.get_blob_to_path('shadeimg', full_path_to_file2, full_path_to_file2)"
      ],
      "execution_count": null,
      "outputs": []
    },
    {
      "cell_type": "code",
      "metadata": {
        "id": "DBgHoLjEgUq5"
      },
      "source": [
        "full_path_to_file2 = os.path.join(S2_doubleA1A2_6) \n",
        "blob_service_client.get_blob_to_path('shadeimg', full_path_to_file2, full_path_to_file2)"
      ],
      "execution_count": null,
      "outputs": []
    },
    {
      "cell_type": "code",
      "metadata": {
        "id": "8FM7ls5FgUq5"
      },
      "source": [
        "full_path_to_file2 = os.path.join(S2_doubleA1A3_6) \n",
        "blob_service_client.get_blob_to_path('shadeimg', full_path_to_file2, full_path_to_file2)"
      ],
      "execution_count": null,
      "outputs": []
    },
    {
      "cell_type": "code",
      "metadata": {
        "id": "2wBScd-QgUq5"
      },
      "source": [
        "full_path_to_file2 = os.path.join(S2_doubleA1A3_56) \n",
        "blob_service_client.get_blob_to_path('shadeimg', full_path_to_file2, full_path_to_file2)"
      ],
      "execution_count": null,
      "outputs": []
    },
    {
      "cell_type": "code",
      "metadata": {
        "id": "zUykEBlogUq6"
      },
      "source": [
        "full_path_to_file2 = os.path.join(S2_doubleA1A4_6) \n",
        "blob_service_client.get_blob_to_path('shadeimg', full_path_to_file2, full_path_to_file2)"
      ],
      "execution_count": null,
      "outputs": []
    },
    {
      "cell_type": "code",
      "metadata": {
        "id": "lnOkIlIlgUq6"
      },
      "source": [
        "full_path_to_file2 = os.path.join(S2_doubleA1B1_6) \n",
        "blob_service_client.get_blob_to_path('shadeimg', full_path_to_file2, full_path_to_file2)"
      ],
      "execution_count": null,
      "outputs": []
    },
    {
      "cell_type": "code",
      "metadata": {
        "id": "N4hag5FRgUq6"
      },
      "source": [
        "full_path_to_file2 = os.path.join(S2_doubleA1B2_6) \n",
        "blob_service_client.get_blob_to_path('shadeimg', full_path_to_file2, full_path_to_file2)"
      ],
      "execution_count": null,
      "outputs": []
    },
    {
      "cell_type": "code",
      "metadata": {
        "id": "I1FXLfJLgUq7"
      },
      "source": [
        "full_path_to_file2 = os.path.join(S2_doubleA1B3_6) \n",
        "blob_service_client.get_blob_to_path('shadeimg', full_path_to_file2, full_path_to_file2)"
      ],
      "execution_count": null,
      "outputs": []
    },
    {
      "cell_type": "code",
      "metadata": {
        "id": "np91ijd6gUq7"
      },
      "source": [
        "full_path_to_file2 = os.path.join(S2_doubleA1B4_6) \n",
        "blob_service_client.get_blob_to_path('shadeimg', full_path_to_file2, full_path_to_file2)"
      ],
      "execution_count": null,
      "outputs": []
    },
    {
      "cell_type": "code",
      "metadata": {
        "id": "ljE72cLWgUq7"
      },
      "source": [
        "full_path_to_file2 = os.path.join(S2_doubleA1C1_6) \n",
        "blob_service_client.get_blob_to_path('shadeimg', full_path_to_file2, full_path_to_file2)"
      ],
      "execution_count": null,
      "outputs": []
    },
    {
      "cell_type": "code",
      "metadata": {
        "id": "jZ9VS5kDgUq8"
      },
      "source": [
        "full_path_to_file2 = os.path.join(S2_doubleA1C2_6) \n",
        "blob_service_client.get_blob_to_path('shadeimg', full_path_to_file2, full_path_to_file2)"
      ],
      "execution_count": null,
      "outputs": []
    },
    {
      "cell_type": "code",
      "metadata": {
        "id": "Yq3Hq7PwgUq8"
      },
      "source": [
        "full_path_to_file2 = os.path.join(S2_doubleA1C3_6) \n",
        "blob_service_client.get_blob_to_path('shadeimg', full_path_to_file2, full_path_to_file2)"
      ],
      "execution_count": null,
      "outputs": []
    },
    {
      "cell_type": "code",
      "metadata": {
        "id": "HNk196WNgUq8"
      },
      "source": [
        "full_path_to_file2 = os.path.join(S2_doubleA1C4_6) \n",
        "blob_service_client.get_blob_to_path('shadeimg', full_path_to_file2, full_path_to_file2)"
      ],
      "execution_count": null,
      "outputs": []
    },
    {
      "cell_type": "code",
      "metadata": {
        "id": "6AI6MjbwgUq8"
      },
      "source": [
        "full_path_to_file2 = os.path.join(S2_doubleA1D2_6) \n",
        "blob_service_client.get_blob_to_path('shadeimg', full_path_to_file2, full_path_to_file2)"
      ],
      "execution_count": null,
      "outputs": []
    },
    {
      "cell_type": "code",
      "metadata": {
        "id": "PLPGYKmNgUq9"
      },
      "source": [
        "full_path_to_file2 = os.path.join(S2_doubleA1D3_6) \n",
        "blob_service_client.get_blob_to_path('shadeimg', full_path_to_file2, full_path_to_file2)"
      ],
      "execution_count": null,
      "outputs": []
    },
    {
      "cell_type": "code",
      "metadata": {
        "id": "FWiJbBe2gUq9"
      },
      "source": [
        "full_path_to_file2 = os.path.join(S2_doubleA1D4_6) \n",
        "blob_service_client.get_blob_to_path('shadeimg', full_path_to_file2, full_path_to_file2)"
      ],
      "execution_count": null,
      "outputs": []
    },
    {
      "cell_type": "markdown",
      "metadata": {
        "id": "pS4xpMPSgUq9"
      },
      "source": [
        "##Img 7"
      ]
    },
    {
      "cell_type": "code",
      "metadata": {
        "id": "8oYTJukygUq9"
      },
      "source": [
        "full_path_to_file2 = os.path.join(S2_doubleA1A1_7) \n",
        "blob_service_client.get_blob_to_path('shadeimg', full_path_to_file2, full_path_to_file2)"
      ],
      "execution_count": null,
      "outputs": []
    },
    {
      "cell_type": "code",
      "metadata": {
        "id": "cmpj04h7gUq-"
      },
      "source": [
        "full_path_to_file2 = os.path.join(S2_doubleA1A2_7) \n",
        "blob_service_client.get_blob_to_path('shadeimg', full_path_to_file2, full_path_to_file2)"
      ],
      "execution_count": null,
      "outputs": []
    },
    {
      "cell_type": "code",
      "metadata": {
        "id": "NhN-k19ygUq-"
      },
      "source": [
        "full_path_to_file2 = os.path.join(S2_doubleA1A3_7) \n",
        "blob_service_client.get_blob_to_path('shadeimg', full_path_to_file2, full_path_to_file2)"
      ],
      "execution_count": null,
      "outputs": []
    },
    {
      "cell_type": "code",
      "metadata": {
        "id": "RLOLc4AngUq-"
      },
      "source": [
        "full_path_to_file2 = os.path.join(S2_doubleA1A3_57) \n",
        "blob_service_client.get_blob_to_path('shadeimg', full_path_to_file2, full_path_to_file2)"
      ],
      "execution_count": null,
      "outputs": []
    },
    {
      "cell_type": "code",
      "metadata": {
        "id": "vpTMU-7xgUq_"
      },
      "source": [
        "full_path_to_file2 = os.path.join(S2_doubleA1A4_7) \n",
        "blob_service_client.get_blob_to_path('shadeimg', full_path_to_file2, full_path_to_file2)"
      ],
      "execution_count": null,
      "outputs": []
    },
    {
      "cell_type": "code",
      "metadata": {
        "id": "N1mB0Ru_gUq_"
      },
      "source": [
        "full_path_to_file2 = os.path.join(S2_doubleA1B1_7) \n",
        "blob_service_client.get_blob_to_path('shadeimg', full_path_to_file2, full_path_to_file2)"
      ],
      "execution_count": null,
      "outputs": []
    },
    {
      "cell_type": "code",
      "metadata": {
        "id": "LYJLJznvgUq_"
      },
      "source": [
        "full_path_to_file2 = os.path.join(S2_doubleA1B2_7) \n",
        "blob_service_client.get_blob_to_path('shadeimg', full_path_to_file2, full_path_to_file2)"
      ],
      "execution_count": null,
      "outputs": []
    },
    {
      "cell_type": "code",
      "metadata": {
        "id": "BNiqn6tvgUq_"
      },
      "source": [
        "full_path_to_file2 = os.path.join(S2_doubleA1B3_7) \n",
        "blob_service_client.get_blob_to_path('shadeimg', full_path_to_file2, full_path_to_file2)"
      ],
      "execution_count": null,
      "outputs": []
    },
    {
      "cell_type": "code",
      "metadata": {
        "id": "Qa_pGJq0gUrA"
      },
      "source": [
        "full_path_to_file2 = os.path.join(S2_doubleA1B4_7) \n",
        "blob_service_client.get_blob_to_path('shadeimg', full_path_to_file2, full_path_to_file2)"
      ],
      "execution_count": null,
      "outputs": []
    },
    {
      "cell_type": "code",
      "metadata": {
        "id": "98KSWq4ygUrA"
      },
      "source": [
        "full_path_to_file2 = os.path.join(S2_doubleA1C1_7) \n",
        "blob_service_client.get_blob_to_path('shadeimg', full_path_to_file2, full_path_to_file2)"
      ],
      "execution_count": null,
      "outputs": []
    },
    {
      "cell_type": "code",
      "metadata": {
        "id": "a2CAMuhPgUrA"
      },
      "source": [
        "full_path_to_file2 = os.path.join(S2_doubleA1C2_7) \n",
        "blob_service_client.get_blob_to_path('shadeimg', full_path_to_file2, full_path_to_file2)"
      ],
      "execution_count": null,
      "outputs": []
    },
    {
      "cell_type": "code",
      "metadata": {
        "id": "SNdjhfhGgUrB"
      },
      "source": [
        "full_path_to_file2 = os.path.join(S2_doubleA1C3_7) \n",
        "blob_service_client.get_blob_to_path('shadeimg', full_path_to_file2, full_path_to_file2)"
      ],
      "execution_count": null,
      "outputs": []
    },
    {
      "cell_type": "code",
      "metadata": {
        "id": "TElU645TgUrB"
      },
      "source": [
        "full_path_to_file2 = os.path.join(S2_doubleA1C4_7) \n",
        "blob_service_client.get_blob_to_path('shadeimg', full_path_to_file2, full_path_to_file2)"
      ],
      "execution_count": null,
      "outputs": []
    },
    {
      "cell_type": "code",
      "metadata": {
        "id": "KEVQ-dykgUrB"
      },
      "source": [
        "full_path_to_file2 = os.path.join(S2_doubleA1D2_7) \n",
        "blob_service_client.get_blob_to_path('shadeimg', full_path_to_file2, full_path_to_file2)"
      ],
      "execution_count": null,
      "outputs": []
    },
    {
      "cell_type": "code",
      "metadata": {
        "id": "KE4h_FHlgUrC"
      },
      "source": [
        "full_path_to_file2 = os.path.join(S2_doubleA1D3_7) \n",
        "blob_service_client.get_blob_to_path('shadeimg', full_path_to_file2, full_path_to_file2)"
      ],
      "execution_count": null,
      "outputs": []
    },
    {
      "cell_type": "code",
      "metadata": {
        "id": "WEHBFx21gUrC"
      },
      "source": [
        "full_path_to_file2 = os.path.join(S2_doubleA1D4_7) \n",
        "blob_service_client.get_blob_to_path('shadeimg', full_path_to_file2, full_path_to_file2)"
      ],
      "execution_count": null,
      "outputs": []
    },
    {
      "cell_type": "markdown",
      "metadata": {
        "id": "9JU0i_HngUrC"
      },
      "source": [
        "##Img 8"
      ]
    },
    {
      "cell_type": "code",
      "metadata": {
        "id": "kt5ikCLzgUrC"
      },
      "source": [
        "full_path_to_file2 = os.path.join(S2_doubleA1A1_8) \n",
        "blob_service_client.get_blob_to_path('shadeimg', full_path_to_file2, full_path_to_file2)"
      ],
      "execution_count": null,
      "outputs": []
    },
    {
      "cell_type": "code",
      "metadata": {
        "id": "I8ZSjZ82gUrD"
      },
      "source": [
        "full_path_to_file2 = os.path.join(S2_doubleA1A2_8) \n",
        "blob_service_client.get_blob_to_path('shadeimg', full_path_to_file2, full_path_to_file2)"
      ],
      "execution_count": null,
      "outputs": []
    },
    {
      "cell_type": "code",
      "metadata": {
        "id": "8zD18G62gUrD"
      },
      "source": [
        "full_path_to_file2 = os.path.join(S2_doubleA1A3_8) \n",
        "blob_service_client.get_blob_to_path('shadeimg', full_path_to_file2, full_path_to_file2)"
      ],
      "execution_count": null,
      "outputs": []
    },
    {
      "cell_type": "code",
      "metadata": {
        "id": "Jtb_cC3rgUrD"
      },
      "source": [
        "full_path_to_file2 = os.path.join(S2_doubleA1A3_58) \n",
        "blob_service_client.get_blob_to_path('shadeimg', full_path_to_file2, full_path_to_file2)"
      ],
      "execution_count": null,
      "outputs": []
    },
    {
      "cell_type": "code",
      "metadata": {
        "id": "RC7Es0bEgUrD"
      },
      "source": [
        "full_path_to_file2 = os.path.join(S2_doubleA1A4_8) \n",
        "blob_service_client.get_blob_to_path('shadeimg', full_path_to_file2, full_path_to_file2)"
      ],
      "execution_count": null,
      "outputs": []
    },
    {
      "cell_type": "code",
      "metadata": {
        "id": "YWroKX72gUrE"
      },
      "source": [
        "full_path_to_file2 = os.path.join(S2_doubleA1B1_8) \n",
        "blob_service_client.get_blob_to_path('shadeimg', full_path_to_file2, full_path_to_file2)"
      ],
      "execution_count": null,
      "outputs": []
    },
    {
      "cell_type": "code",
      "metadata": {
        "id": "kIZikZJEgUrE"
      },
      "source": [
        "full_path_to_file2 = os.path.join(S2_doubleA1B2_8) \n",
        "blob_service_client.get_blob_to_path('shadeimg', full_path_to_file2, full_path_to_file2)"
      ],
      "execution_count": null,
      "outputs": []
    },
    {
      "cell_type": "code",
      "metadata": {
        "id": "2JkaKHSQgUrF"
      },
      "source": [
        "full_path_to_file2 = os.path.join(S2_doubleA1B3_8) \n",
        "blob_service_client.get_blob_to_path('shadeimg', full_path_to_file2, full_path_to_file2)"
      ],
      "execution_count": null,
      "outputs": []
    },
    {
      "cell_type": "code",
      "metadata": {
        "id": "ilLNeDuLgUrF"
      },
      "source": [
        "full_path_to_file2 = os.path.join(S2_doubleA1B4_8) \n",
        "blob_service_client.get_blob_to_path('shadeimg', full_path_to_file2, full_path_to_file2)"
      ],
      "execution_count": null,
      "outputs": []
    },
    {
      "cell_type": "code",
      "metadata": {
        "id": "UUPbQc9lgUrF"
      },
      "source": [
        "full_path_to_file2 = os.path.join(S2_doubleA1C1_8) \n",
        "blob_service_client.get_blob_to_path('shadeimg', full_path_to_file2, full_path_to_file2)"
      ],
      "execution_count": null,
      "outputs": []
    },
    {
      "cell_type": "code",
      "metadata": {
        "id": "E4UkoJl0gUrG"
      },
      "source": [
        "full_path_to_file2 = os.path.join(S2_doubleA1C2_8) \n",
        "blob_service_client.get_blob_to_path('shadeimg', full_path_to_file2, full_path_to_file2)"
      ],
      "execution_count": null,
      "outputs": []
    },
    {
      "cell_type": "code",
      "metadata": {
        "id": "J0YfoPjXgUrG"
      },
      "source": [
        "full_path_to_file2 = os.path.join(S2_doubleA1C3_8) \n",
        "blob_service_client.get_blob_to_path('shadeimg', full_path_to_file2, full_path_to_file2)"
      ],
      "execution_count": null,
      "outputs": []
    },
    {
      "cell_type": "code",
      "metadata": {
        "id": "-v_d4txAgUrG"
      },
      "source": [
        "full_path_to_file2 = os.path.join(S2_doubleA1C4_8) \n",
        "blob_service_client.get_blob_to_path('shadeimg', full_path_to_file2, full_path_to_file2)"
      ],
      "execution_count": null,
      "outputs": []
    },
    {
      "cell_type": "code",
      "metadata": {
        "id": "m58q__MDgUrG"
      },
      "source": [
        "full_path_to_file2 = os.path.join(S2_doubleA1D2_8) \n",
        "blob_service_client.get_blob_to_path('shadeimg', full_path_to_file2, full_path_to_file2)"
      ],
      "execution_count": null,
      "outputs": []
    },
    {
      "cell_type": "code",
      "metadata": {
        "id": "k_DhDyUwgUrH"
      },
      "source": [
        "full_path_to_file2 = os.path.join(S2_doubleA1D3_8) \n",
        "blob_service_client.get_blob_to_path('shadeimg', full_path_to_file2, full_path_to_file2)"
      ],
      "execution_count": null,
      "outputs": []
    },
    {
      "cell_type": "code",
      "metadata": {
        "id": "fqeFCbclgUrH"
      },
      "source": [
        "full_path_to_file2 = os.path.join(S2_doubleA1D4_8) \n",
        "blob_service_client.get_blob_to_path('shadeimg', full_path_to_file2, full_path_to_file2)"
      ],
      "execution_count": null,
      "outputs": []
    },
    {
      "cell_type": "markdown",
      "metadata": {
        "id": "eGUie6tEgUrH"
      },
      "source": [
        "##Img 9"
      ]
    },
    {
      "cell_type": "code",
      "metadata": {
        "id": "HwtATtzxgUrH"
      },
      "source": [
        "full_path_to_file2 = os.path.join(S2_doubleA1A1_9) \n",
        "blob_service_client.get_blob_to_path('shadeimg', full_path_to_file2, full_path_to_file2)"
      ],
      "execution_count": null,
      "outputs": []
    },
    {
      "cell_type": "code",
      "metadata": {
        "id": "i8vgn9BWgUrH"
      },
      "source": [
        "full_path_to_file2 = os.path.join(S2_doubleA1A2_9) \n",
        "blob_service_client.get_blob_to_path('shadeimg', full_path_to_file2, full_path_to_file2)"
      ],
      "execution_count": null,
      "outputs": []
    },
    {
      "cell_type": "code",
      "metadata": {
        "id": "-lmgUweQgUrI"
      },
      "source": [
        "full_path_to_file2 = os.path.join(S2_doubleA1A3_9) \n",
        "blob_service_client.get_blob_to_path('shadeimg', full_path_to_file2, full_path_to_file2)"
      ],
      "execution_count": null,
      "outputs": []
    },
    {
      "cell_type": "code",
      "metadata": {
        "id": "kq0DZdL4gUrI"
      },
      "source": [
        "full_path_to_file2 = os.path.join(S2_doubleA1A3_59) \n",
        "blob_service_client.get_blob_to_path('shadeimg', full_path_to_file2, full_path_to_file2)"
      ],
      "execution_count": null,
      "outputs": []
    },
    {
      "cell_type": "code",
      "metadata": {
        "id": "2whqyoLegUrI"
      },
      "source": [
        "full_path_to_file2 = os.path.join(S2_doubleA1A4_9) \n",
        "blob_service_client.get_blob_to_path('shadeimg', full_path_to_file2, full_path_to_file2)"
      ],
      "execution_count": null,
      "outputs": []
    },
    {
      "cell_type": "code",
      "metadata": {
        "id": "4d_AKvdqgUrI"
      },
      "source": [
        "full_path_to_file2 = os.path.join(S2_doubleA1B1_9) \n",
        "blob_service_client.get_blob_to_path('shadeimg', full_path_to_file2, full_path_to_file2)"
      ],
      "execution_count": null,
      "outputs": []
    },
    {
      "cell_type": "code",
      "metadata": {
        "id": "ecfa2-iJgUrJ"
      },
      "source": [
        "full_path_to_file2 = os.path.join(S2_doubleA1B2_9) \n",
        "blob_service_client.get_blob_to_path('shadeimg', full_path_to_file2, full_path_to_file2)"
      ],
      "execution_count": null,
      "outputs": []
    },
    {
      "cell_type": "code",
      "metadata": {
        "id": "Jw2y0aXngUrJ"
      },
      "source": [
        "full_path_to_file2 = os.path.join(S2_doubleA1B3_9) \n",
        "blob_service_client.get_blob_to_path('shadeimg', full_path_to_file2, full_path_to_file2)"
      ],
      "execution_count": null,
      "outputs": []
    },
    {
      "cell_type": "code",
      "metadata": {
        "id": "siwLeuZugUrJ"
      },
      "source": [
        "full_path_to_file2 = os.path.join(S2_doubleA1B4_9) \n",
        "blob_service_client.get_blob_to_path('shadeimg', full_path_to_file2, full_path_to_file2)"
      ],
      "execution_count": null,
      "outputs": []
    },
    {
      "cell_type": "code",
      "metadata": {
        "id": "g__THt-PgUrJ"
      },
      "source": [
        "full_path_to_file2 = os.path.join(S2_doubleA1C1_9) \n",
        "blob_service_client.get_blob_to_path('shadeimg', full_path_to_file2, full_path_to_file2)"
      ],
      "execution_count": null,
      "outputs": []
    },
    {
      "cell_type": "code",
      "metadata": {
        "id": "3l37Y5qcgUrK"
      },
      "source": [
        "full_path_to_file2 = os.path.join(S2_doubleA1C2_9) \n",
        "blob_service_client.get_blob_to_path('shadeimg', full_path_to_file2, full_path_to_file2)"
      ],
      "execution_count": null,
      "outputs": []
    },
    {
      "cell_type": "code",
      "metadata": {
        "id": "y00q_duvgUrK"
      },
      "source": [
        "full_path_to_file2 = os.path.join(S2_doubleA1C3_9) \n",
        "blob_service_client.get_blob_to_path('shadeimg', full_path_to_file2, full_path_to_file2)"
      ],
      "execution_count": null,
      "outputs": []
    },
    {
      "cell_type": "code",
      "metadata": {
        "id": "KU59mryygUrK"
      },
      "source": [
        "full_path_to_file2 = os.path.join(S2_doubleA1C4_9) \n",
        "blob_service_client.get_blob_to_path('shadeimg', full_path_to_file2, full_path_to_file2)"
      ],
      "execution_count": null,
      "outputs": []
    },
    {
      "cell_type": "code",
      "metadata": {
        "id": "1C0lSoJSgUrK"
      },
      "source": [
        "full_path_to_file2 = os.path.join(S2_doubleA1D2_9) \n",
        "blob_service_client.get_blob_to_path('shadeimg', full_path_to_file2, full_path_to_file2)"
      ],
      "execution_count": null,
      "outputs": []
    },
    {
      "cell_type": "code",
      "metadata": {
        "id": "9ALf6B9cgUrL"
      },
      "source": [
        "full_path_to_file2 = os.path.join(S2_doubleA1D3_9) \n",
        "blob_service_client.get_blob_to_path('shadeimg', full_path_to_file2, full_path_to_file2)"
      ],
      "execution_count": null,
      "outputs": []
    },
    {
      "cell_type": "code",
      "metadata": {
        "id": "tdcq_I-_gUrL"
      },
      "source": [
        "full_path_to_file2 = os.path.join(S2_doubleA1D4_9) \n",
        "blob_service_client.get_blob_to_path('shadeimg', full_path_to_file2, full_path_to_file2)"
      ],
      "execution_count": null,
      "outputs": []
    },
    {
      "cell_type": "markdown",
      "metadata": {
        "id": "eiH7JM2L6GTo"
      },
      "source": [
        "##Set3"
      ]
    },
    {
      "cell_type": "code",
      "metadata": {
        "id": "L1UPqezH6GTp"
      },
      "source": [
        "S3_doubleA1A1_1 = '6CF2D4E8-1C13-4476-96FB-D618BCB119B7.png'\n",
        "S3_doubleA1A2_1 = '464DBB6E-8D53-41EC-89E3-09269D750F86.png'\n",
        "S3_doubleA1A3_1 = '1D1C00BB-399B-4D94-80A1-3265036A98A8.png'\n",
        "S3_doubleA1A3_51 = 'C925DC00-E29E-47F6-9BB5-8C641EC1871C.png'\n",
        "S3_doubleA1A4_1 = '2E6D7DC3-E901-4470-9EC3-4EFB37E4C99C.png'\n",
        "S3_doubleA1B1_1 = 'B0254C1B-A034-453B-8194-23B84EDC85BB.png'\n",
        "S3_doubleA1B2_1 = 'CB28F551-0BCC-4650-80CE-0683F9345235.png'\n",
        "S3_doubleA1B3_1 = '0BAC5F9E-D191-44AC-906B-83F55EEE5408.png'\n",
        "S3_doubleA1B4_1 = '71D35775-7DD2-4B6E-9923-F369DD4C7122.png'\n",
        "S3_doubleA1C1_1 = '792DFC5D-B478-4676-88BF-B27DA22BCD00.png'\n",
        "S3_doubleA1C2_1 = '22CE3934-3E63-4B67-8414-1378D1E33513.png'\n",
        "S3_doubleA1C3_1 = '043D02F0-F919-42FC-900C-EA61D154F7F3.png'\n",
        "S3_doubleA1C4_1 = '6AA17A82-8A03-4963-AED4-F52CF63E955B.png'\n",
        "S3_doubleA1D2_1 = 'E6696409-77B9-44AF-B6F8-4A4F0A0337DD.png'\n",
        "S3_doubleA1D3_1 = '7C182FF2-8AB9-46AC-8DC5-479ECDA47B76.png'\n",
        "S3_doubleA1D4_1 = 'EF26E1BB-3878-4366-8F27-1D0E712AFC27.png'"
      ],
      "execution_count": 629,
      "outputs": []
    },
    {
      "cell_type": "code",
      "metadata": {
        "id": "qrSruDw-6GTq"
      },
      "source": [
        "S3_doubleA1A1_2 = '6CF2D4E8-1C13-4476-96FB-D618BCB119B7.png'\n",
        "S3_doubleA1A2_2 = '464DBB6E-8D53-41EC-89E3-09269D750F86.png'\n",
        "S3_doubleA1A3_2 = '1D1C00BB-399B-4D94-80A1-3265036A98A8.png'\n",
        "S3_doubleA1A3_52 = 'C925DC00-E29E-47F6-9BB5-8C641EC1871C.png'\n",
        "S3_doubleA1A4_2 = '2E6D7DC3-E901-4470-9EC3-4EFB37E4C99C.png'\n",
        "S3_doubleA1B1_2 = 'B0254C1B-A034-453B-8194-23B84EDC85BB.png'\n",
        "S3_doubleA1B2_2 = 'CB28F551-0BCC-4650-80CE-0683F9345235.png'\n",
        "S3_doubleA1B3_2 = '0BAC5F9E-D191-44AC-906B-83F55EEE5408.png'\n",
        "S3_doubleA1B4_2 = '71D35775-7DD2-4B6E-9923-F369DD4C7122.png'\n",
        "S3_doubleA1C1_2 = '792DFC5D-B478-4676-88BF-B27DA22BCD00.png'\n",
        "S3_doubleA1C2_2 = '22CE3934-3E63-4B67-8414-1378D1E33513.png'\n",
        "S3_doubleA1C3_2 = '043D02F0-F919-42FC-900C-EA61D154F7F3.png'\n",
        "S3_doubleA1C4_2 = '6AA17A82-8A03-4963-AED4-F52CF63E955B.png'\n",
        "S3_doubleA1D2_2 = 'E6696409-77B9-44AF-B6F8-4A4F0A0337DD.png'\n",
        "S3_doubleA1D3_2= '7C182FF2-8AB9-46AC-8DC5-479ECDA47B76.png'\n",
        "S3_doubleA1D4_2 = 'EF26E1BB-3878-4366-8F27-1D0E712AFC27.png'"
      ],
      "execution_count": 630,
      "outputs": []
    },
    {
      "cell_type": "code",
      "metadata": {
        "id": "wYWXHd4F6GTr"
      },
      "source": [
        "S3_doubleA1A1_3 = '6CF2D4E8-1C13-4476-96FB-D618BCB119B7.png'\n",
        "S3_doubleA1A2_3 = '464DBB6E-8D53-41EC-89E3-09269D750F86.png'\n",
        "S3_doubleA1A3_3= '1D1C00BB-399B-4D94-80A1-3265036A98A8.png'\n",
        "S3_doubleA1A3_53 = 'C925DC00-E29E-47F6-9BB5-8C641EC1871C.png'\n",
        "S3_doubleA1A4_3 = '2E6D7DC3-E901-4470-9EC3-4EFB37E4C99C.png'\n",
        "S3_doubleA1B1_3 = 'B0254C1B-A034-453B-8194-23B84EDC85BB.png'\n",
        "S3_doubleA1B2_3 = 'CB28F551-0BCC-4650-80CE-0683F9345235.png'\n",
        "S3_doubleA1B3_3 = '0BAC5F9E-D191-44AC-906B-83F55EEE5408.png'\n",
        "S3_doubleA1B4_3= '71D35775-7DD2-4B6E-9923-F369DD4C7122.png'\n",
        "S3_doubleA1C1_3 = '792DFC5D-B478-4676-88BF-B27DA22BCD00.png'\n",
        "S3_doubleA1C2_3 = '22CE3934-3E63-4B67-8414-1378D1E33513.png'\n",
        "S3_doubleA1C3_3 = '043D02F0-F919-42FC-900C-EA61D154F7F3.png'\n",
        "S3_doubleA1C4_3 = '6AA17A82-8A03-4963-AED4-F52CF63E955B.png'\n",
        "S3_doubleA1D2_3 = 'E6696409-77B9-44AF-B6F8-4A4F0A0337DD.png'\n",
        "S3_doubleA1D3_3= '7C182FF2-8AB9-46AC-8DC5-479ECDA47B76.png'\n",
        "S3_doubleA1D4_3 = 'EF26E1BB-3878-4366-8F27-1D0E712AFC27.png'"
      ],
      "execution_count": 631,
      "outputs": []
    },
    {
      "cell_type": "code",
      "metadata": {
        "id": "ak590fAi6GTs"
      },
      "source": [
        "S3_doubleA1A1_4 = '6CF2D4E8-1C13-4476-96FB-D618BCB119B7.png'\n",
        "S3_doubleA1A2_4 = '464DBB6E-8D53-41EC-89E3-09269D750F86.png'\n",
        "S3_doubleA1A3_4 = '1D1C00BB-399B-4D94-80A1-3265036A98A8.png'\n",
        "S3_doubleA1A3_54 = 'C925DC00-E29E-47F6-9BB5-8C641EC1871C.png'\n",
        "S3_doubleA1A4_4 = '2E6D7DC3-E901-4470-9EC3-4EFB37E4C99C.png'\n",
        "S3_doubleA1B1_4 = 'B0254C1B-A034-453B-8194-23B84EDC85BB.png'\n",
        "S3_doubleA1B2_4 = 'CB28F551-0BCC-4650-80CE-0683F9345235.png'\n",
        "S3_doubleA1B3_4= '0BAC5F9E-D191-44AC-906B-83F55EEE5408.png'\n",
        "S3_doubleA1B4_4 = '71D35775-7DD2-4B6E-9923-F369DD4C7122.png'\n",
        "S3_doubleA1C1_4 = '792DFC5D-B478-4676-88BF-B27DA22BCD00.png'\n",
        "S3_doubleA1C2_4 = '22CE3934-3E63-4B67-8414-1378D1E33513.png'\n",
        "S3_doubleA1C3_4 = '043D02F0-F919-42FC-900C-EA61D154F7F3.png'\n",
        "S3_doubleA1C4_4 = '6AA17A82-8A03-4963-AED4-F52CF63E955B.png'\n",
        "S3_doubleA1D2_4 = 'E6696409-77B9-44AF-B6F8-4A4F0A0337DD.png'\n",
        "S3_doubleA1D3_4= '7C182FF2-8AB9-46AC-8DC5-479ECDA47B76.png'\n",
        "S3_doubleA1D4_4 = 'EF26E1BB-3878-4366-8F27-1D0E712AFC27.png'"
      ],
      "execution_count": 632,
      "outputs": []
    },
    {
      "cell_type": "code",
      "metadata": {
        "id": "tk8rO0Nz6GTt"
      },
      "source": [
        "S3_doubleA1A1_5 = '6CF2D4E8-1C13-4476-96FB-D618BCB119B7.png'\n",
        "S3_doubleA1A2_5 = '464DBB6E-8D53-41EC-89E3-09269D750F86.png'\n",
        "S3_doubleA1A3_5 = '1D1C00BB-399B-4D94-80A1-3265036A98A8.png'\n",
        "S3_doubleA1A3_55 = 'C925DC00-E29E-47F6-9BB5-8C641EC1871C.png'\n",
        "S3_doubleA1A4_5 = '2E6D7DC3-E901-4470-9EC3-4EFB37E4C99C.png'\n",
        "S3_doubleA1B1_5= 'B0254C1B-A034-453B-8194-23B84EDC85BB.png'\n",
        "S3_doubleA1B2_5 = 'CB28F551-0BCC-4650-80CE-0683F9345235.png'\n",
        "S3_doubleA1B3_5= '0BAC5F9E-D191-44AC-906B-83F55EEE5408.png'\n",
        "S3_doubleA1B4_5 = '71D35775-7DD2-4B6E-9923-F369DD4C7122.png'\n",
        "S3_doubleA1C1_5 = '792DFC5D-B478-4676-88BF-B27DA22BCD00.png'\n",
        "S3_doubleA1C2_5 = '22CE3934-3E63-4B67-8414-1378D1E33513.png'\n",
        "S3_doubleA1C3_5 = '043D02F0-F919-42FC-900C-EA61D154F7F3.png'\n",
        "S3_doubleA1C4_5 = '6AA17A82-8A03-4963-AED4-F52CF63E955B.png'\n",
        "S3_doubleA1D2_5 = 'E6696409-77B9-44AF-B6F8-4A4F0A0337DD.png'\n",
        "S3_doubleA1D3_5= '7C182FF2-8AB9-46AC-8DC5-479ECDA47B76.png'\n",
        "S3_doubleA1D4_5 = 'EF26E1BB-3878-4366-8F27-1D0E712AFC27.png'"
      ],
      "execution_count": 633,
      "outputs": []
    },
    {
      "cell_type": "code",
      "metadata": {
        "id": "SGT3x83j6GTt"
      },
      "source": [
        "S3_doubleA1A1_6 = '6CF2D4E8-1C13-4476-96FB-D618BCB119B7.png'\n",
        "S3_doubleA1A2_6 = '464DBB6E-8D53-41EC-89E3-09269D750F86.png'\n",
        "S3_doubleA1A3_6= '1D1C00BB-399B-4D94-80A1-3265036A98A8.png'\n",
        "S3_doubleA1A3_56 = 'C925DC00-E29E-47F6-9BB5-8C641EC1871C.png'\n",
        "S3_doubleA1A4_6 = '2E6D7DC3-E901-4470-9EC3-4EFB37E4C99C.png'\n",
        "S3_doubleA1B1_6= 'B0254C1B-A034-453B-8194-23B84EDC85BB.png'\n",
        "S3_doubleA1B2_6 = 'CB28F551-0BCC-4650-80CE-0683F9345235.png'\n",
        "S3_doubleA1B3_6= '0BAC5F9E-D191-44AC-906B-83F55EEE5408.png'\n",
        "S3_doubleA1B4_6 = '71D35775-7DD2-4B6E-9923-F369DD4C7122.png'\n",
        "S3_doubleA1C1_6 = '792DFC5D-B478-4676-88BF-B27DA22BCD00.png'\n",
        "S3_doubleA1C2_6 = '22CE3934-3E63-4B67-8414-1378D1E33513.png'\n",
        "S3_doubleA1C3_6 = '043D02F0-F919-42FC-900C-EA61D154F7F3.png'\n",
        "S3_doubleA1C4_6 = '6AA17A82-8A03-4963-AED4-F52CF63E955B.png'\n",
        "S3_doubleA1D2_6 = 'E6696409-77B9-44AF-B6F8-4A4F0A0337DD.png'\n",
        "S3_doubleA1D3_6= '7C182FF2-8AB9-46AC-8DC5-479ECDA47B76.png'\n",
        "S3_doubleA1D4_6= 'EF26E1BB-3878-4366-8F27-1D0E712AFC27.png'"
      ],
      "execution_count": 634,
      "outputs": []
    },
    {
      "cell_type": "code",
      "metadata": {
        "id": "0J00u_Ti6GTu"
      },
      "source": [
        "S3_doubleA1A1_7 = '6CF2D4E8-1C13-4476-96FB-D618BCB119B7.png'\n",
        "S3_doubleA1A2_7 = '464DBB6E-8D53-41EC-89E3-09269D750F86.png'\n",
        "S3_doubleA1A3_7= '1D1C00BB-399B-4D94-80A1-3265036A98A8.png'\n",
        "S3_doubleA1A3_57 = 'C925DC00-E29E-47F6-9BB5-8C641EC1871C.png'\n",
        "S3_doubleA1A4_7 = '2E6D7DC3-E901-4470-9EC3-4EFB37E4C99C.png'\n",
        "S3_doubleA1B1_7 = 'B0254C1B-A034-453B-8194-23B84EDC85BB.png'\n",
        "S3_doubleA1B2_7 = 'CB28F551-0BCC-4650-80CE-0683F9345235.png'\n",
        "S3_doubleA1B3_7= '0BAC5F9E-D191-44AC-906B-83F55EEE5408.png'\n",
        "S3_doubleA1B4_7 = '71D35775-7DD2-4B6E-9923-F369DD4C7122.png'\n",
        "S3_doubleA1C1_7 = '792DFC5D-B478-4676-88BF-B27DA22BCD00.png'\n",
        "S3_doubleA1C2_7 = '22CE3934-3E63-4B67-8414-1378D1E33513.png'\n",
        "S3_doubleA1C3_7 = '043D02F0-F919-42FC-900C-EA61D154F7F3.png'\n",
        "S3_doubleA1C4_7 = '6AA17A82-8A03-4963-AED4-F52CF63E955B.png'\n",
        "S3_doubleA1D2_7 = 'E6696409-77B9-44AF-B6F8-4A4F0A0337DD.png'\n",
        "S3_doubleA1D3_7= '7C182FF2-8AB9-46AC-8DC5-479ECDA47B76.png'\n",
        "S3_doubleA1D4_7 = 'EF26E1BB-3878-4366-8F27-1D0E712AFC27.png'"
      ],
      "execution_count": 635,
      "outputs": []
    },
    {
      "cell_type": "code",
      "metadata": {
        "id": "WNAwpleb6GTv"
      },
      "source": [
        "S3_doubleA1A1_8 = '6CF2D4E8-1C13-4476-96FB-D618BCB119B7.png'\n",
        "S3_doubleA1A2_8 = '464DBB6E-8D53-41EC-89E3-09269D750F86.png'\n",
        "S3_doubleA1A3_8 = '1D1C00BB-399B-4D94-80A1-3265036A98A8.png'\n",
        "S3_doubleA1A3_58 = 'C925DC00-E29E-47F6-9BB5-8C641EC1871C.png'\n",
        "S3_doubleA1A4_8 = '2E6D7DC3-E901-4470-9EC3-4EFB37E4C99C.png'\n",
        "S3_doubleA1B1_8 = 'B0254C1B-A034-453B-8194-23B84EDC85BB.png'\n",
        "S3_doubleA1B2_8 = 'CB28F551-0BCC-4650-80CE-0683F9345235.png'\n",
        "S3_doubleA1B3_8 = '0BAC5F9E-D191-44AC-906B-83F55EEE5408.png'\n",
        "S3_doubleA1B4_8= '71D35775-7DD2-4B6E-9923-F369DD4C7122.png'\n",
        "S3_doubleA1C1_8 = '792DFC5D-B478-4676-88BF-B27DA22BCD00.png'\n",
        "S3_doubleA1C2_8= '22CE3934-3E63-4B67-8414-1378D1E33513.png'\n",
        "S3_doubleA1C3_8 = '043D02F0-F919-42FC-900C-EA61D154F7F3.png'\n",
        "S3_doubleA1C4_8 = '6AA17A82-8A03-4963-AED4-F52CF63E955B.png'\n",
        "S3_doubleA1D2_8 = 'E6696409-77B9-44AF-B6F8-4A4F0A0337DD.png'\n",
        "S3_doubleA1D3_8= '7C182FF2-8AB9-46AC-8DC5-479ECDA47B76.png'\n",
        "S3_doubleA1D4_8 = 'EF26E1BB-3878-4366-8F27-1D0E712AFC27.png'"
      ],
      "execution_count": 636,
      "outputs": []
    },
    {
      "cell_type": "code",
      "metadata": {
        "id": "BmdSfxNb6GTz"
      },
      "source": [
        "S3_doubleA1A1_9 = '6CF2D4E8-1C13-4476-96FB-D618BCB119B7.png'\n",
        "S3_doubleA1A2_9 = '464DBB6E-8D53-41EC-89E3-09269D750F86.png'\n",
        "S3_doubleA1A3_9 = '1D1C00BB-399B-4D94-80A1-3265036A98A8.png'\n",
        "S3_doubleA1A3_59 = 'C925DC00-E29E-47F6-9BB5-8C641EC1871C.png'\n",
        "S3_doubleA1A4_9 = '2E6D7DC3-E901-4470-9EC3-4EFB37E4C99C.png'\n",
        "S3_doubleA1B1_9 = 'B0254C1B-A034-453B-8194-23B84EDC85BB.png'\n",
        "S3_doubleA1B2_9 = 'CB28F551-0BCC-4650-80CE-0683F9345235.png'\n",
        "S3_doubleA1B3_9 = '0BAC5F9E-D191-44AC-906B-83F55EEE5408.png'\n",
        "S3_doubleA1B4_9 = '71D35775-7DD2-4B6E-9923-F369DD4C7122.png'\n",
        "S3_doubleA1C1_9 = '792DFC5D-B478-4676-88BF-B27DA22BCD00.png'\n",
        "S3_doubleA1C2_9 = '22CE3934-3E63-4B67-8414-1378D1E33513.png'\n",
        "S3_doubleA1C3_9 = '043D02F0-F919-42FC-900C-EA61D154F7F3.png'\n",
        "S3_doubleA1C4_9= '6AA17A82-8A03-4963-AED4-F52CF63E955B.png'\n",
        "S3_doubleA1D2_9 = 'E6696409-77B9-44AF-B6F8-4A4F0A0337DD.png'\n",
        "S3_doubleA1D3_9= '7C182FF2-8AB9-46AC-8DC5-479ECDA47B76.png'\n",
        "S3_doubleA1D4_9 = 'EF26E1BB-3878-4366-8F27-1D0E712AFC27.png'"
      ],
      "execution_count": 637,
      "outputs": []
    },
    {
      "cell_type": "code",
      "metadata": {
        "id": "NdfqZd7B6GTz"
      },
      "source": [
        "S3_doubleA1A1_10 = '6CF2D4E8-1C13-4476-96FB-D618BCB119B7.png'\n",
        "S3_doubleA1A2_10 = '464DBB6E-8D53-41EC-89E3-09269D750F86.png'\n",
        "S3_doubleA1A3_10 = '1D1C00BB-399B-4D94-80A1-3265036A98A8.png'\n",
        "S3_doubleA1A3_510 = 'C925DC00-E29E-47F6-9BB5-8C641EC1871C.png'\n",
        "S3_doubleA1A4_10 = '2E6D7DC3-E901-4470-9EC3-4EFB37E4C99C.png'\n",
        "S3_doubleA1B1_10= 'B0254C1B-A034-453B-8194-23B84EDC85BB.png'\n",
        "S3_doubleA1B2_10= 'CB28F551-0BCC-4650-80CE-0683F9345235.png'\n",
        "S3_doubleA1B3_10= '0BAC5F9E-D191-44AC-906B-83F55EEE5408.png'\n",
        "S3_doubleA1B4_10= '71D35775-7DD2-4B6E-9923-F369DD4C7122.png'\n",
        "S3_doubleA1C1_10 = '792DFC5D-B478-4676-88BF-B27DA22BCD00.png'\n",
        "S3_doubleA1C2_10 = '22CE3934-3E63-4B67-8414-1378D1E33513.png'\n",
        "S3_doubleA1C3_10 = '043D02F0-F919-42FC-900C-EA61D154F7F3.png'\n",
        "S3_doubleA1C4_10 = '6AA17A82-8A03-4963-AED4-F52CF63E955B.png'\n",
        "S3_doubleA1D2_10= 'E6696409-77B9-44AF-B6F8-4A4F0A0337DD.png'\n",
        "S3_doubleA1D3_10= '7C182FF2-8AB9-46AC-8DC5-479ECDA47B76.png'\n",
        "S3_doubleA1D4_10= 'EF26E1BB-3878-4366-8F27-1D0E712AFC27.png'"
      ],
      "execution_count": 638,
      "outputs": []
    },
    {
      "cell_type": "markdown",
      "metadata": {
        "id": "k1zYhDb76GT0"
      },
      "source": [
        "##Set4\n"
      ]
    },
    {
      "cell_type": "code",
      "metadata": {
        "id": "c5gG35VZ6GT1"
      },
      "source": [
        "S4_doubleA1A1_1 = 'C3752024-70F6-407B-B596-E214E55D43EB.png'\n",
        "S4_doubleA1A2_1 = '953E3485-ACFA-4EDA-B270-F9AA84853C94.png'\n",
        "S4_doubleA1A3_1 = '83B80683-3A06-474F-90E6-62391CB7A3F6.png'\n",
        "S4_doubleA1A3_51 = '01BD2023-D6A1-4AAA-A5A6-F507208F8E54.png'\n",
        "S4_doubleA1A4_1 = '372CFE56-E625-434C-A2DC-0FEEB167DDBA.png'\n",
        "S4_doubleA1B1_1 = '35484F9C-7BCF-4C31-A381-CCC85035B5FE.png'\n",
        "S4_doubleA1B2_1 = '29140CD3-A1A5-448C-B825-7BCBA9431B85.png'\n",
        "S4_doubleA1B3_1 = '123A90E7-21CE-4D56-B992-62F16D74A8FE.png'\n",
        "S4_doubleA1B4_1 = 'E561F380-5A2D-496F-B9F3-4B9907F020D6.png'\n",
        "S4_doubleA1C1_1 = 'F3E98998-3329-49D5-8439-80F6AF00BFE3.png'\n",
        "S4_doubleA1C2_1 = '56D069F6-8B47-48B3-9C6E-25AD8751779A.png'\n",
        "S4_doubleA1C3_1 = '2F670532-3760-42FC-A982-1670FEE99E66.png'\n",
        "S4_doubleA1C4_1 = 'A40A09DE-DC0F-4A00-A891-F3D66A2F7CB5.png'\n",
        "S4_doubleA1D2_1 = 'E4566E8E-9E0D-4531-9712-5B47AE5386DE.png'\n",
        "S4_doubleA1D3_1 = '23C5E347-A9A1-466C-917D-E969268302DA.png'\n",
        "S4_doubleA1D4_1 = 'EFB719A3-D16E-42A3-861D-363E24755F58.png'"
      ],
      "execution_count": 639,
      "outputs": []
    },
    {
      "cell_type": "code",
      "metadata": {
        "id": "3spB7-ZM6GT1"
      },
      "source": [
        "S4_doubleA1A1_2 = 'C3752024-70F6-407B-B596-E214E55D43EB.png'\n",
        "S4_doubleA1A2_2 = '953E3485-ACFA-4EDA-B270-F9AA84853C94.png'\n",
        "S4_doubleA1A3_2 = '83B80683-3A06-474F-90E6-62391CB7A3F6.png'\n",
        "S4_doubleA1A3_52 = '01BD2023-D6A1-4AAA-A5A6-F507208F8E54.png'\n",
        "S4_doubleA1A4_2 = '372CFE56-E625-434C-A2DC-0FEEB167DDBA.png'\n",
        "S4_doubleA1B1_2 = '35484F9C-7BCF-4C31-A381-CCC85035B5FE.png'\n",
        "S4_doubleA1B2_2 = '29140CD3-A1A5-448C-B825-7BCBA9431B85.png'\n",
        "S4_doubleA1B3_2 = '123A90E7-21CE-4D56-B992-62F16D74A8FE.png'\n",
        "S4_doubleA1B4_2 = 'E561F380-5A2D-496F-B9F3-4B9907F020D6.png'\n",
        "S4_doubleA1C1_2 = 'F3E98998-3329-49D5-8439-80F6AF00BFE3.png'\n",
        "S4_doubleA1C2_2 = '56D069F6-8B47-48B3-9C6E-25AD8751779A.png'\n",
        "S4_doubleA1C3_2= '2F670532-3760-42FC-A982-1670FEE99E66.png'\n",
        "S4_doubleA1C4_2 = 'A40A09DE-DC0F-4A00-A891-F3D66A2F7CB5.png'\n",
        "S4_doubleA1D2_2 = 'E4566E8E-9E0D-4531-9712-5B47AE5386DE.png'\n",
        "S4_doubleA1D3_2 = '23C5E347-A9A1-466C-917D-E969268302DA.png'\n",
        "S4_doubleA1D4_2 = 'EFB719A3-D16E-42A3-861D-363E24755F58.png'"
      ],
      "execution_count": 640,
      "outputs": []
    },
    {
      "cell_type": "code",
      "metadata": {
        "id": "_H7kjG1E6GT2"
      },
      "source": [
        "S4_doubleA1A1_3= 'C3752024-70F6-407B-B596-E214E55D43EB.png'\n",
        "S4_doubleA1A2_3 = '953E3485-ACFA-4EDA-B270-F9AA84853C94.png'\n",
        "S4_doubleA1A3_3 = '83B80683-3A06-474F-90E6-62391CB7A3F6.png'\n",
        "S4_doubleA1A3_53 = '01BD2023-D6A1-4AAA-A5A6-F507208F8E54.png'\n",
        "S4_doubleA1A4_3 = '372CFE56-E625-434C-A2DC-0FEEB167DDBA.png'\n",
        "S4_doubleA1B1_3 = '35484F9C-7BCF-4C31-A381-CCC85035B5FE.png'\n",
        "S4_doubleA1B2_3 = '29140CD3-A1A5-448C-B825-7BCBA9431B85.png'\n",
        "S4_doubleA1B3_3 = '123A90E7-21CE-4D56-B992-62F16D74A8FE.png'\n",
        "S4_doubleA1B4_3 = 'E561F380-5A2D-496F-B9F3-4B9907F020D6.png'\n",
        "S4_doubleA1C1_3= 'F3E98998-3329-49D5-8439-80F6AF00BFE3.png'\n",
        "S4_doubleA1C2_3 = '56D069F6-8B47-48B3-9C6E-25AD8751779A.png'\n",
        "S4_doubleA1C3_3 = '2F670532-3760-42FC-A982-1670FEE99E66.png'\n",
        "S4_doubleA1C4_3 = 'A40A09DE-DC0F-4A00-A891-F3D66A2F7CB5.png'\n",
        "S4_doubleA1D2_3 = 'E4566E8E-9E0D-4531-9712-5B47AE5386DE.png'\n",
        "S4_doubleA1D3_3 = '23C5E347-A9A1-466C-917D-E969268302DA.png'\n",
        "S4_doubleA1D4_3 = 'EFB719A3-D16E-42A3-861D-363E24755F58.png'"
      ],
      "execution_count": 641,
      "outputs": []
    },
    {
      "cell_type": "code",
      "metadata": {
        "id": "aglCb2Ei6GT3"
      },
      "source": [
        "S4_doubleA1A1_4 = 'C3752024-70F6-407B-B596-E214E55D43EB.png'\n",
        "S4_doubleA1A2_4 = '953E3485-ACFA-4EDA-B270-F9AA84853C94.png'\n",
        "S4_doubleA1A3_4 = '83B80683-3A06-474F-90E6-62391CB7A3F6.png'\n",
        "S4_doubleA1A3_54 = '01BD2023-D6A1-4AAA-A5A6-F507208F8E54.png'\n",
        "S4_doubleA1A4_4 = '372CFE56-E625-434C-A2DC-0FEEB167DDBA.png'\n",
        "S4_doubleA1B1_4 = '35484F9C-7BCF-4C31-A381-CCC85035B5FE.png'\n",
        "S4_doubleA1B2_4 = '29140CD3-A1A5-448C-B825-7BCBA9431B85.png'\n",
        "S4_doubleA1B3_4 = '123A90E7-21CE-4D56-B992-62F16D74A8FE.png'\n",
        "S4_doubleA1B4_4 = 'E561F380-5A2D-496F-B9F3-4B9907F020D6.png'\n",
        "S4_doubleA1C1_4 = 'F3E98998-3329-49D5-8439-80F6AF00BFE3.png'\n",
        "S4_doubleA1C2_4 = '56D069F6-8B47-48B3-9C6E-25AD8751779A.png'\n",
        "S4_doubleA1C3_4 = '2F670532-3760-42FC-A982-1670FEE99E66.png'\n",
        "S4_doubleA1C4_4 = 'A40A09DE-DC0F-4A00-A891-F3D66A2F7CB5.png'\n",
        "S4_doubleA1D2_4 = 'E4566E8E-9E0D-4531-9712-5B47AE5386DE.png'\n",
        "S4_doubleA1D3_4 = '23C5E347-A9A1-466C-917D-E969268302DA.png'\n",
        "S4_doubleA1D4_4 = 'EFB719A3-D16E-42A3-861D-363E24755F58.png'"
      ],
      "execution_count": 642,
      "outputs": []
    },
    {
      "cell_type": "code",
      "metadata": {
        "id": "uCCBqZGX6GT4"
      },
      "source": [
        "S4_doubleA1A1_5 = 'C3752024-70F6-407B-B596-E214E55D43EB.png'\n",
        "S4_doubleA1A2_5 = '953E3485-ACFA-4EDA-B270-F9AA84853C94.png'\n",
        "S4_doubleA1A3_5= '83B80683-3A06-474F-90E6-62391CB7A3F6.png'\n",
        "S4_doubleA1A3_55 = '01BD2023-D6A1-4AAA-A5A6-F507208F8E54.png'\n",
        "S4_doubleA1A4_5 = '372CFE56-E625-434C-A2DC-0FEEB167DDBA.png'\n",
        "S4_doubleA1B1_5 = '35484F9C-7BCF-4C31-A381-CCC85035B5FE.png'\n",
        "S4_doubleA1B2_5 = '29140CD3-A1A5-448C-B825-7BCBA9431B85.png'\n",
        "S4_doubleA1B3_5= '123A90E7-21CE-4D56-B992-62F16D74A8FE.png'\n",
        "S4_doubleA1B4_5 = 'E561F380-5A2D-496F-B9F3-4B9907F020D6.png'\n",
        "S4_doubleA1C1_5 = 'F3E98998-3329-49D5-8439-80F6AF00BFE3.png'\n",
        "S4_doubleA1C2_5 = '56D069F6-8B47-48B3-9C6E-25AD8751779A.png'\n",
        "S4_doubleA1C3_5 = '2F670532-3760-42FC-A982-1670FEE99E66.png'\n",
        "S4_doubleA1C4_5 = 'A40A09DE-DC0F-4A00-A891-F3D66A2F7CB5.png'\n",
        "S4_doubleA1D2_5 = 'E4566E8E-9E0D-4531-9712-5B47AE5386DE.png'\n",
        "S4_doubleA1D3_5 = '23C5E347-A9A1-466C-917D-E969268302DA.png'\n",
        "S4_doubleA1D4_5 = 'EFB719A3-D16E-42A3-861D-363E24755F58.png'"
      ],
      "execution_count": 643,
      "outputs": []
    },
    {
      "cell_type": "code",
      "metadata": {
        "id": "MaqXmmxo6GT4"
      },
      "source": [
        "S4_doubleA1A1_6 = 'C3752024-70F6-407B-B596-E214E55D43EB.png'\n",
        "S4_doubleA1A2_6 = '953E3485-ACFA-4EDA-B270-F9AA84853C94.png'\n",
        "S4_doubleA1A3_6 = '83B80683-3A06-474F-90E6-62391CB7A3F6.png'\n",
        "S4_doubleA1A3_56 = '01BD2023-D6A1-4AAA-A5A6-F507208F8E54.png'\n",
        "S4_doubleA1A4_6 = '372CFE56-E625-434C-A2DC-0FEEB167DDBA.png'\n",
        "S4_doubleA1B1_6 = '35484F9C-7BCF-4C31-A381-CCC85035B5FE.png'\n",
        "S4_doubleA1B2_6 = '29140CD3-A1A5-448C-B825-7BCBA9431B85.png'\n",
        "S4_doubleA1B3_6 = '123A90E7-21CE-4D56-B992-62F16D74A8FE.png'\n",
        "S4_doubleA1B4_6 = 'E561F380-5A2D-496F-B9F3-4B9907F020D6.png'\n",
        "S4_doubleA1C1_6 = 'F3E98998-3329-49D5-8439-80F6AF00BFE3.png'\n",
        "S4_doubleA1C2_6 = '56D069F6-8B47-48B3-9C6E-25AD8751779A.png'\n",
        "S4_doubleA1C3_6 = '2F670532-3760-42FC-A982-1670FEE99E66.png'\n",
        "S4_doubleA1C4_6 = 'A40A09DE-DC0F-4A00-A891-F3D66A2F7CB5.png'\n",
        "S4_doubleA1D2_6 = 'E4566E8E-9E0D-4531-9712-5B47AE5386DE.png'\n",
        "S4_doubleA1D3_6 = '23C5E347-A9A1-466C-917D-E969268302DA.png'\n",
        "S4_doubleA1D4_6 = 'EFB719A3-D16E-42A3-861D-363E24755F58.png'"
      ],
      "execution_count": 644,
      "outputs": []
    },
    {
      "cell_type": "code",
      "metadata": {
        "id": "XPlyO0VI6GT5"
      },
      "source": [
        "S4_doubleA1A1_7 = 'C3752024-70F6-407B-B596-E214E55D43EB.png'\n",
        "S4_doubleA1A2_7 = '953E3485-ACFA-4EDA-B270-F9AA84853C94.png'\n",
        "S4_doubleA1A3_7 = '83B80683-3A06-474F-90E6-62391CB7A3F6.png'\n",
        "S4_doubleA1A3_57 = '01BD2023-D6A1-4AAA-A5A6-F507208F8E54.png'\n",
        "S4_doubleA1A4_7 = '372CFE56-E625-434C-A2DC-0FEEB167DDBA.png'\n",
        "S4_doubleA1B1_7 = '35484F9C-7BCF-4C31-A381-CCC85035B5FE.png'\n",
        "S4_doubleA1B2_7= '29140CD3-A1A5-448C-B825-7BCBA9431B85.png'\n",
        "S4_doubleA1B3_7 = '123A90E7-21CE-4D56-B992-62F16D74A8FE.png'\n",
        "S4_doubleA1B4_7 = 'E561F380-5A2D-496F-B9F3-4B9907F020D6.png'\n",
        "S4_doubleA1C1_7 = 'F3E98998-3329-49D5-8439-80F6AF00BFE3.png'\n",
        "S4_doubleA1C2_7 = '56D069F6-8B47-48B3-9C6E-25AD8751779A.png'\n",
        "S4_doubleA1C3_7 = '2F670532-3760-42FC-A982-1670FEE99E66.png'\n",
        "S4_doubleA1C4_7 = 'A40A09DE-DC0F-4A00-A891-F3D66A2F7CB5.png'\n",
        "S4_doubleA1D2_7 = 'E4566E8E-9E0D-4531-9712-5B47AE5386DE.png'\n",
        "S4_doubleA1D3_7= '23C5E347-A9A1-466C-917D-E969268302DA.png'\n",
        "S4_doubleA1D4_7 = 'EFB719A3-D16E-42A3-861D-363E24755F58.png'"
      ],
      "execution_count": 645,
      "outputs": []
    },
    {
      "cell_type": "code",
      "metadata": {
        "id": "lbsQ34Vw6GT6"
      },
      "source": [
        "S4_doubleA1A1_8 = 'C3752024-70F6-407B-B596-E214E55D43EB.png'\n",
        "S4_doubleA1A2_8 = '953E3485-ACFA-4EDA-B270-F9AA84853C94.png'\n",
        "S4_doubleA1A3_8 = '83B80683-3A06-474F-90E6-62391CB7A3F6.png'\n",
        "S4_doubleA1A3_58 = '01BD2023-D6A1-4AAA-A5A6-F507208F8E54.png'\n",
        "S4_doubleA1A4_8 = '372CFE56-E625-434C-A2DC-0FEEB167DDBA.png'\n",
        "S4_doubleA1B1_8 = '35484F9C-7BCF-4C31-A381-CCC85035B5FE.png'\n",
        "S4_doubleA1B2_8 = '29140CD3-A1A5-448C-B825-7BCBA9431B85.png'\n",
        "S4_doubleA1B3_8 = '123A90E7-21CE-4D56-B992-62F16D74A8FE.png'\n",
        "S4_doubleA1B4_8 = 'E561F380-5A2D-496F-B9F3-4B9907F020D6.png'\n",
        "S4_doubleA1C1_8 = 'F3E98998-3329-49D5-8439-80F6AF00BFE3.png'\n",
        "S4_doubleA1C2_8 = '56D069F6-8B47-48B3-9C6E-25AD8751779A.png'\n",
        "S4_doubleA1C3_8 = '2F670532-3760-42FC-A982-1670FEE99E66.png'\n",
        "S4_doubleA1C4_8 = 'A40A09DE-DC0F-4A00-A891-F3D66A2F7CB5.png'\n",
        "S4_doubleA1D2_8 = 'E4566E8E-9E0D-4531-9712-5B47AE5386DE.png'\n",
        "S4_doubleA1D3_8 = '23C5E347-A9A1-466C-917D-E969268302DA.png'\n",
        "S4_doubleA1D4_8 = 'EFB719A3-D16E-42A3-861D-363E24755F58.png'"
      ],
      "execution_count": 646,
      "outputs": []
    },
    {
      "cell_type": "code",
      "metadata": {
        "id": "yLZV_H026GT6"
      },
      "source": [
        "S4_doubleA1A1_9 = 'C3752024-70F6-407B-B596-E214E55D43EB.png'\n",
        "S4_doubleA1A2_9= '953E3485-ACFA-4EDA-B270-F9AA84853C94.png'\n",
        "S4_doubleA1A3_9= '83B80683-3A06-474F-90E6-62391CB7A3F6.png'\n",
        "S4_doubleA1A3_59 = '01BD2023-D6A1-4AAA-A5A6-F507208F8E54.png'\n",
        "S4_doubleA1A4_9 = '372CFE56-E625-434C-A2DC-0FEEB167DDBA.png'\n",
        "S4_doubleA1B1_9= '35484F9C-7BCF-4C31-A381-CCC85035B5FE.png'\n",
        "S4_doubleA1B2_9 = '29140CD3-A1A5-448C-B825-7BCBA9431B85.png'\n",
        "S4_doubleA1B3_9 = '123A90E7-21CE-4D56-B992-62F16D74A8FE.png'\n",
        "S4_doubleA1B4_9 = 'E561F380-5A2D-496F-B9F3-4B9907F020D6.png'\n",
        "S4_doubleA1C1_9 = 'F3E98998-3329-49D5-8439-80F6AF00BFE3.png'\n",
        "S4_doubleA1C2_9= '56D069F6-8B47-48B3-9C6E-25AD8751779A.png'\n",
        "S4_doubleA1C3_9 = '2F670532-3760-42FC-A982-1670FEE99E66.png'\n",
        "S4_doubleA1C4_9 = 'A40A09DE-DC0F-4A00-A891-F3D66A2F7CB5.png'\n",
        "S4_doubleA1D2_9 = 'E4566E8E-9E0D-4531-9712-5B47AE5386DE.png'\n",
        "S4_doubleA1D3_9 = '23C5E347-A9A1-466C-917D-E969268302DA.png'\n",
        "S4_doubleA1D4_9 = 'EFB719A3-D16E-42A3-861D-363E24755F58.png'"
      ],
      "execution_count": 647,
      "outputs": []
    },
    {
      "cell_type": "code",
      "metadata": {
        "id": "PBEBgxh-6GT7"
      },
      "source": [
        "S4_doubleA1A1_10 = 'C3752024-70F6-407B-B596-E214E55D43EB.png'\n",
        "S4_doubleA1A2_10 = '953E3485-ACFA-4EDA-B270-F9AA84853C94.png'\n",
        "S4_doubleA1A3_10 = '83B80683-3A06-474F-90E6-62391CB7A3F6.png'\n",
        "S4_doubleA1A3_510 = '01BD2023-D6A1-4AAA-A5A6-F507208F8E54.png'\n",
        "S4_doubleA1A4_10 = '372CFE56-E625-434C-A2DC-0FEEB167DDBA.png'\n",
        "S4_doubleA1B1_10 = '35484F9C-7BCF-4C31-A381-CCC85035B5FE.png'\n",
        "S4_doubleA1B2_10 = '29140CD3-A1A5-448C-B825-7BCBA9431B85.png'\n",
        "S4_doubleA1B3_10 = '123A90E7-21CE-4D56-B992-62F16D74A8FE.png'\n",
        "S4_doubleA1B4_10 = 'E561F380-5A2D-496F-B9F3-4B9907F020D6.png'\n",
        "S4_doubleA1C1_10 = 'F3E98998-3329-49D5-8439-80F6AF00BFE3.png'\n",
        "S4_doubleA1C2_10 = '56D069F6-8B47-48B3-9C6E-25AD8751779A.png'\n",
        "S4_doubleA1C3_10 = '2F670532-3760-42FC-A982-1670FEE99E66.png'\n",
        "S4_doubleA1C4_10 = 'A40A09DE-DC0F-4A00-A891-F3D66A2F7CB5.png'\n",
        "S4_doubleA1D2_10 = 'E4566E8E-9E0D-4531-9712-5B47AE5386DE.png'\n",
        "S4_doubleA1D3_10 = '23C5E347-A9A1-466C-917D-E969268302DA.png'\n",
        "S4_doubleA1D4_10 = 'EFB719A3-D16E-42A3-861D-363E24755F58.png'"
      ],
      "execution_count": 648,
      "outputs": []
    }
  ]
}