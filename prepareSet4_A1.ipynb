{
  "nbformat": 4,
  "nbformat_minor": 0,
  "metadata": {
    "colab": {
      "name": " prepareSet4_A1.ipynb",
      "provenance": [],
      "include_colab_link": true
    },
    "kernelspec": {
      "name": "python3",
      "display_name": "Python 3"
    },
    "language_info": {
      "name": "python"
    }
  },
  "cells": [
    {
      "cell_type": "markdown",
      "metadata": {
        "id": "view-in-github",
        "colab_type": "text"
      },
      "source": [
        "<a href=\"https://colab.research.google.com/github/waraporn19/Project_2021_matchingcolor/blob/main/prepareSet4_A1.ipynb\" target=\"_parent\"><img src=\"https://colab.research.google.com/assets/colab-badge.svg\" alt=\"Open In Colab\"/></a>"
      ]
    },
    {
      "cell_type": "code",
      "metadata": {
        "id": "drOKqbUE2PnQ"
      },
      "source": [
        "import pandas as pd"
      ],
      "execution_count": 47,
      "outputs": []
    },
    {
      "cell_type": "code",
      "metadata": {
        "colab": {
          "base_uri": "https://localhost:8080/"
        },
        "id": "O7x0j_3c2Pjr",
        "outputId": "806f0371-2b7a-411e-fe59-2f8ce0199930"
      },
      "source": [
        "from google.colab import drive \n",
        "drive.mount('/content/drive')"
      ],
      "execution_count": 48,
      "outputs": [
        {
          "output_type": "stream",
          "name": "stdout",
          "text": [
            "Drive already mounted at /content/drive; to attempt to forcibly remount, call drive.mount(\"/content/drive\", force_remount=True).\n"
          ]
        }
      ]
    },
    {
      "cell_type": "code",
      "metadata": {
        "id": "lsGPiAcg2Pa7"
      },
      "source": [
        "import os"
      ],
      "execution_count": 49,
      "outputs": []
    },
    {
      "cell_type": "code",
      "metadata": {
        "id": "xGv3Ax6o251w"
      },
      "source": [
        "path = '/content/drive/My Drive/shadeimg'"
      ],
      "execution_count": 50,
      "outputs": []
    },
    {
      "cell_type": "code",
      "metadata": {
        "colab": {
          "base_uri": "https://localhost:8080/"
        },
        "id": "DK3-qllN3Huu",
        "outputId": "c750f521-09e5-4bc4-c51c-72465aca8029"
      },
      "source": [
        "os.listdir(path)"
      ],
      "execution_count": 51,
      "outputs": [
        {
          "output_type": "execute_result",
          "data": {
            "text/plain": [
              "['9-10 7 2021',\n",
              " 'รูปฟัน07',\n",
              " '11 7 2021',\n",
              " 'ฟันสักอย่างจำวันไม่ได้',\n",
              " '1 teeth .gsheet',\n",
              " '16 8 2021',\n",
              " '17 8 2021',\n",
              " '1 teeth .xlsx',\n",
              " '2 teeth .xlsx',\n",
              " '2 teeth.gsheet']"
            ]
          },
          "metadata": {},
          "execution_count": 51
        }
      ]
    },
    {
      "cell_type": "code",
      "metadata": {
        "id": "qnyateeBbpSP",
        "colab": {
          "base_uri": "https://localhost:8080/"
        },
        "outputId": "e82ab16d-87ba-48f4-eac5-c481e451e6e2"
      },
      "source": [
        "!pip install azure-storage-blob==2.1.0"
      ],
      "execution_count": 52,
      "outputs": [
        {
          "output_type": "stream",
          "name": "stdout",
          "text": [
            "Requirement already satisfied: azure-storage-blob==2.1.0 in /usr/local/lib/python3.7/dist-packages (2.1.0)\n",
            "Requirement already satisfied: azure-common>=1.1.5 in /usr/local/lib/python3.7/dist-packages (from azure-storage-blob==2.1.0) (1.1.27)\n",
            "Requirement already satisfied: azure-storage-common~=2.1 in /usr/local/lib/python3.7/dist-packages (from azure-storage-blob==2.1.0) (2.1.0)\n",
            "Requirement already satisfied: requests in /usr/local/lib/python3.7/dist-packages (from azure-storage-common~=2.1->azure-storage-blob==2.1.0) (2.23.0)\n",
            "Requirement already satisfied: python-dateutil in /usr/local/lib/python3.7/dist-packages (from azure-storage-common~=2.1->azure-storage-blob==2.1.0) (2.8.2)\n",
            "Requirement already satisfied: cryptography in /usr/local/lib/python3.7/dist-packages (from azure-storage-common~=2.1->azure-storage-blob==2.1.0) (35.0.0)\n",
            "Requirement already satisfied: cffi>=1.12 in /usr/local/lib/python3.7/dist-packages (from cryptography->azure-storage-common~=2.1->azure-storage-blob==2.1.0) (1.14.6)\n",
            "Requirement already satisfied: pycparser in /usr/local/lib/python3.7/dist-packages (from cffi>=1.12->cryptography->azure-storage-common~=2.1->azure-storage-blob==2.1.0) (2.20)\n",
            "Requirement already satisfied: six>=1.5 in /usr/local/lib/python3.7/dist-packages (from python-dateutil->azure-storage-common~=2.1->azure-storage-blob==2.1.0) (1.15.0)\n",
            "Requirement already satisfied: idna<3,>=2.5 in /usr/local/lib/python3.7/dist-packages (from requests->azure-storage-common~=2.1->azure-storage-blob==2.1.0) (2.10)\n",
            "Requirement already satisfied: chardet<4,>=3.0.2 in /usr/local/lib/python3.7/dist-packages (from requests->azure-storage-common~=2.1->azure-storage-blob==2.1.0) (3.0.4)\n",
            "Requirement already satisfied: certifi>=2017.4.17 in /usr/local/lib/python3.7/dist-packages (from requests->azure-storage-common~=2.1->azure-storage-blob==2.1.0) (2021.5.30)\n",
            "Requirement already satisfied: urllib3!=1.25.0,!=1.25.1,<1.26,>=1.21.1 in /usr/local/lib/python3.7/dist-packages (from requests->azure-storage-common~=2.1->azure-storage-blob==2.1.0) (1.24.3)\n"
          ]
        }
      ]
    },
    {
      "cell_type": "code",
      "metadata": {
        "id": "uZRZcO80cxBH"
      },
      "source": [
        "from azure.storage.blob import BlockBlobService\n",
        "import os"
      ],
      "execution_count": 53,
      "outputs": []
    },
    {
      "cell_type": "code",
      "metadata": {
        "id": "tJVMV5DMcyJT"
      },
      "source": [
        "blob_service_client = BlockBlobService(account_name='dent01', account_key='CuShY0B4TZJ84TjzPpaHxyrHOpO73aGXeCpdVq7x26OjIlQ1HOz+3DVc9pDEj9BdcEL8odFuTRF0mOAE+aCgiw==')"
      ],
      "execution_count": 54,
      "outputs": []
    },
    {
      "cell_type": "markdown",
      "metadata": {
        "id": "nNqTWrPIc2qX"
      },
      "source": [
        "#1.สร้างตัวแปรเฉดไกด์"
      ]
    },
    {
      "cell_type": "markdown",
      "metadata": {
        "id": "XqAK-KJAIKhJ"
      },
      "source": [
        "#Set4"
      ]
    },
    {
      "cell_type": "code",
      "metadata": {
        "id": "kGBOLp-nN2D5"
      },
      "source": [
        "S4_doubleA1A1_1 = 'C3752024-70F6-407B-B596-E214E55D43EB.png'\n",
        "S4_doubleA1A2_1 = '953E3485-ACFA-4EDA-B270-F9AA84853C94.png'\n",
        "S4_doubleA1A3_1 = '83B80683-3A06-474F-90E6-62391CB7A3F6.png'\n",
        "S4_doubleA1A3_51 = '01BD2023-D6A1-4AAA-A5A6-F507208F8E54.png'\n",
        "S4_doubleA1A4_1 = '372CFE56-E625-434C-A2DC-0FEEB167DDBA.png'\n",
        "S4_doubleA1B1_1 = '35484F9C-7BCF-4C31-A381-CCC85035B5FE.png'\n",
        "S4_doubleA1B2_1 = '29140CD3-A1A5-448C-B825-7BCBA9431B85.png'\n",
        "S4_doubleA1B3_1 = '123A90E7-21CE-4D56-B992-62F16D74A8FE.png'\n",
        "S4_doubleA1B4_1 = 'E561F380-5A2D-496F-B9F3-4B9907F020D6.png'\n",
        "S4_doubleA1C1_1 = 'F3E98998-3329-49D5-8439-80F6AF00BFE3.png'\n",
        "S4_doubleA1C2_1 = '56D069F6-8B47-48B3-9C6E-25AD8751779A.png'\n",
        "S4_doubleA1C3_1 = '2F670532-3760-42FC-A982-1670FEE99E66.png'\n",
        "S4_doubleA1C4_1 = 'A40A09DE-DC0F-4A00-A891-F3D66A2F7CB5.png'\n",
        "S4_doubleA1D2_1 = 'E4566E8E-9E0D-4531-9712-5B47AE5386DE.png'\n",
        "S4_doubleA1D3_1 = '23C5E347-A9A1-466C-917D-E969268302DA.png'\n",
        "S4_doubleA1D4_1 = 'EFB719A3-D16E-42A3-861D-363E24755F58.png'"
      ],
      "execution_count": 55,
      "outputs": []
    },
    {
      "cell_type": "markdown",
      "metadata": {
        "id": "Taw1dl5xglaj"
      },
      "source": [
        "#2. ดึงรูป"
      ]
    },
    {
      "cell_type": "code",
      "metadata": {
        "id": "jPe2WlLY4J0n"
      },
      "source": [
        "import cv2\n",
        "from matplotlib import pyplot as plt #การเรียกใช้คำสั่ง matplotlib เพื่อวาดกราฟ โดยแทนชื่อ matplotlib ด้วย plt\n",
        "import matplotlib"
      ],
      "execution_count": 56,
      "outputs": []
    },
    {
      "cell_type": "markdown",
      "metadata": {
        "id": "2-qqdDCqkLii"
      },
      "source": [
        "##Set4"
      ]
    },
    {
      "cell_type": "code",
      "metadata": {
        "id": "4E1UeuklpZx4",
        "colab": {
          "base_uri": "https://localhost:8080/"
        },
        "outputId": "136ec32b-3992-49b5-d394-09b20dc341c2"
      },
      "source": [
        "full_path_to_file2 = os.path.join(S4_doubleA1A1_1) \n",
        "blob_service_client.get_blob_to_path('shadeimg', full_path_to_file2, full_path_to_file2)"
      ],
      "execution_count": 57,
      "outputs": [
        {
          "output_type": "execute_result",
          "data": {
            "text/plain": [
              "<azure.storage.blob.models.Blob at 0x7fbd228a5090>"
            ]
          },
          "metadata": {},
          "execution_count": 57
        }
      ]
    },
    {
      "cell_type": "code",
      "metadata": {
        "id": "VfaCxfJjpZx5",
        "colab": {
          "base_uri": "https://localhost:8080/"
        },
        "outputId": "8a83122e-af2e-415e-e39d-e7e46fa2d0a4"
      },
      "source": [
        "full_path_to_file2 = os.path.join(S4_doubleA1A2_1) \n",
        "blob_service_client.get_blob_to_path('shadeimg', full_path_to_file2, full_path_to_file2)"
      ],
      "execution_count": 58,
      "outputs": [
        {
          "output_type": "execute_result",
          "data": {
            "text/plain": [
              "<azure.storage.blob.models.Blob at 0x7fbd22423a10>"
            ]
          },
          "metadata": {},
          "execution_count": 58
        }
      ]
    },
    {
      "cell_type": "code",
      "metadata": {
        "id": "3zFh2y2IpZx5",
        "colab": {
          "base_uri": "https://localhost:8080/"
        },
        "outputId": "2bd9cc42-2445-4eee-ce9e-d51a8f0c36dc"
      },
      "source": [
        "full_path_to_file2 = os.path.join(S4_doubleA1A3_1) \n",
        "blob_service_client.get_blob_to_path('shadeimg', full_path_to_file2, full_path_to_file2)"
      ],
      "execution_count": 59,
      "outputs": [
        {
          "output_type": "execute_result",
          "data": {
            "text/plain": [
              "<azure.storage.blob.models.Blob at 0x7fbd2bae7ad0>"
            ]
          },
          "metadata": {},
          "execution_count": 59
        }
      ]
    },
    {
      "cell_type": "code",
      "metadata": {
        "id": "X_rktcv8pZx5",
        "colab": {
          "base_uri": "https://localhost:8080/"
        },
        "outputId": "76e87635-3007-41be-a246-55ca92c0361d"
      },
      "source": [
        "full_path_to_file2 = os.path.join(S4_doubleA1A3_51) \n",
        "blob_service_client.get_blob_to_path('shadeimg', full_path_to_file2, full_path_to_file2)"
      ],
      "execution_count": 60,
      "outputs": [
        {
          "output_type": "execute_result",
          "data": {
            "text/plain": [
              "<azure.storage.blob.models.Blob at 0x7fbd228a1ad0>"
            ]
          },
          "metadata": {},
          "execution_count": 60
        }
      ]
    },
    {
      "cell_type": "code",
      "metadata": {
        "id": "m59vf9VfpZx5",
        "colab": {
          "base_uri": "https://localhost:8080/"
        },
        "outputId": "798061cb-304a-4123-f5f0-a0013c71077e"
      },
      "source": [
        "full_path_to_file2 = os.path.join(S4_doubleA1A4_1) \n",
        "blob_service_client.get_blob_to_path('shadeimg', full_path_to_file2, full_path_to_file2)"
      ],
      "execution_count": 61,
      "outputs": [
        {
          "output_type": "execute_result",
          "data": {
            "text/plain": [
              "<azure.storage.blob.models.Blob at 0x7fbd223d8390>"
            ]
          },
          "metadata": {},
          "execution_count": 61
        }
      ]
    },
    {
      "cell_type": "code",
      "metadata": {
        "id": "D_5Yd3w7pZx6",
        "colab": {
          "base_uri": "https://localhost:8080/"
        },
        "outputId": "5e6689d0-0448-4c1b-faa7-3c7275170972"
      },
      "source": [
        "full_path_to_file2 = os.path.join(S4_doubleA1B1_1) \n",
        "blob_service_client.get_blob_to_path('shadeimg', full_path_to_file2, full_path_to_file2)"
      ],
      "execution_count": 62,
      "outputs": [
        {
          "output_type": "execute_result",
          "data": {
            "text/plain": [
              "<azure.storage.blob.models.Blob at 0x7fbd22423110>"
            ]
          },
          "metadata": {},
          "execution_count": 62
        }
      ]
    },
    {
      "cell_type": "code",
      "metadata": {
        "id": "RHWuivGUpZx6",
        "colab": {
          "base_uri": "https://localhost:8080/"
        },
        "outputId": "e3a44a11-f6af-4bd6-f4ff-02323b60c5ed"
      },
      "source": [
        "full_path_to_file2 = os.path.join(S4_doubleA1B2_1) \n",
        "blob_service_client.get_blob_to_path('shadeimg', full_path_to_file2, full_path_to_file2)"
      ],
      "execution_count": 63,
      "outputs": [
        {
          "output_type": "execute_result",
          "data": {
            "text/plain": [
              "<azure.storage.blob.models.Blob at 0x7fbd22362410>"
            ]
          },
          "metadata": {},
          "execution_count": 63
        }
      ]
    },
    {
      "cell_type": "code",
      "metadata": {
        "id": "G5lF8IhzpZx6",
        "colab": {
          "base_uri": "https://localhost:8080/"
        },
        "outputId": "01c923af-409f-4e42-d7af-e40b0e7827b6"
      },
      "source": [
        "full_path_to_file2 = os.path.join(S4_doubleA1B3_1) \n",
        "blob_service_client.get_blob_to_path('shadeimg', full_path_to_file2, full_path_to_file2)"
      ],
      "execution_count": 64,
      "outputs": [
        {
          "output_type": "execute_result",
          "data": {
            "text/plain": [
              "<azure.storage.blob.models.Blob at 0x7fbd2bb5bb10>"
            ]
          },
          "metadata": {},
          "execution_count": 64
        }
      ]
    },
    {
      "cell_type": "code",
      "metadata": {
        "id": "N9xFdoP7pZx6",
        "colab": {
          "base_uri": "https://localhost:8080/"
        },
        "outputId": "7ddac146-24dd-444a-f717-811ff9ba364c"
      },
      "source": [
        "full_path_to_file2 = os.path.join(S4_doubleA1B4_1) \n",
        "blob_service_client.get_blob_to_path('shadeimg', full_path_to_file2, full_path_to_file2)"
      ],
      "execution_count": 65,
      "outputs": [
        {
          "output_type": "execute_result",
          "data": {
            "text/plain": [
              "<azure.storage.blob.models.Blob at 0x7fbd2242ce10>"
            ]
          },
          "metadata": {},
          "execution_count": 65
        }
      ]
    },
    {
      "cell_type": "code",
      "metadata": {
        "id": "1dH05CslpZx6",
        "colab": {
          "base_uri": "https://localhost:8080/"
        },
        "outputId": "883555c8-1989-49fa-c731-5e5e1b89c263"
      },
      "source": [
        "full_path_to_file2 = os.path.join(S4_doubleA1C1_1) \n",
        "blob_service_client.get_blob_to_path('shadeimg', full_path_to_file2, full_path_to_file2)"
      ],
      "execution_count": 66,
      "outputs": [
        {
          "output_type": "execute_result",
          "data": {
            "text/plain": [
              "<azure.storage.blob.models.Blob at 0x7fbd22436610>"
            ]
          },
          "metadata": {},
          "execution_count": 66
        }
      ]
    },
    {
      "cell_type": "code",
      "metadata": {
        "id": "BWLm1RmLpZx7",
        "colab": {
          "base_uri": "https://localhost:8080/"
        },
        "outputId": "0c5eb204-4261-44d7-a900-32939fae1bd2"
      },
      "source": [
        "full_path_to_file2 = os.path.join(S4_doubleA1C2_1) \n",
        "blob_service_client.get_blob_to_path('shadeimg', full_path_to_file2, full_path_to_file2)"
      ],
      "execution_count": 67,
      "outputs": [
        {
          "output_type": "execute_result",
          "data": {
            "text/plain": [
              "<azure.storage.blob.models.Blob at 0x7fbd2240c890>"
            ]
          },
          "metadata": {},
          "execution_count": 67
        }
      ]
    },
    {
      "cell_type": "code",
      "metadata": {
        "id": "yvYHkKPYpZx7",
        "colab": {
          "base_uri": "https://localhost:8080/"
        },
        "outputId": "5d14e87b-fde1-4225-db7f-308714b3b41a"
      },
      "source": [
        "full_path_to_file2 = os.path.join(S4_doubleA1C3_1) \n",
        "blob_service_client.get_blob_to_path('shadeimg', full_path_to_file2, full_path_to_file2)"
      ],
      "execution_count": 68,
      "outputs": [
        {
          "output_type": "execute_result",
          "data": {
            "text/plain": [
              "<azure.storage.blob.models.Blob at 0x7fbd22362110>"
            ]
          },
          "metadata": {},
          "execution_count": 68
        }
      ]
    },
    {
      "cell_type": "code",
      "metadata": {
        "id": "XCLVoapQpZx7",
        "colab": {
          "base_uri": "https://localhost:8080/"
        },
        "outputId": "470ff8ca-797f-4a1e-ddd1-d8bc4d17cacd"
      },
      "source": [
        "full_path_to_file2 = os.path.join(S4_doubleA1C4_1) \n",
        "blob_service_client.get_blob_to_path('shadeimg', full_path_to_file2, full_path_to_file2)"
      ],
      "execution_count": 69,
      "outputs": [
        {
          "output_type": "execute_result",
          "data": {
            "text/plain": [
              "<azure.storage.blob.models.Blob at 0x7fbd2240c410>"
            ]
          },
          "metadata": {},
          "execution_count": 69
        }
      ]
    },
    {
      "cell_type": "code",
      "metadata": {
        "id": "T99mwTaZpZx7",
        "colab": {
          "base_uri": "https://localhost:8080/"
        },
        "outputId": "5302aa46-0846-4179-ca48-f525437f7719"
      },
      "source": [
        "full_path_to_file2 = os.path.join(S4_doubleA1D2_1) \n",
        "blob_service_client.get_blob_to_path('shadeimg', full_path_to_file2, full_path_to_file2)"
      ],
      "execution_count": 70,
      "outputs": [
        {
          "output_type": "execute_result",
          "data": {
            "text/plain": [
              "<azure.storage.blob.models.Blob at 0x7fbd223d8450>"
            ]
          },
          "metadata": {},
          "execution_count": 70
        }
      ]
    },
    {
      "cell_type": "code",
      "metadata": {
        "id": "vf1xxPF3pZx7",
        "colab": {
          "base_uri": "https://localhost:8080/"
        },
        "outputId": "7a29ef27-933d-4bc1-9598-f9d03c9c54eb"
      },
      "source": [
        "full_path_to_file2 = os.path.join(S4_doubleA1D3_1) \n",
        "blob_service_client.get_blob_to_path('shadeimg', full_path_to_file2, full_path_to_file2)"
      ],
      "execution_count": 71,
      "outputs": [
        {
          "output_type": "execute_result",
          "data": {
            "text/plain": [
              "<azure.storage.blob.models.Blob at 0x7fbd22377050>"
            ]
          },
          "metadata": {},
          "execution_count": 71
        }
      ]
    },
    {
      "cell_type": "code",
      "metadata": {
        "id": "ThZA9xm3pZx8",
        "colab": {
          "base_uri": "https://localhost:8080/"
        },
        "outputId": "ad2c9e79-36b9-4e87-da34-08592b1d0091"
      },
      "source": [
        "full_path_to_file2 = os.path.join(S4_doubleA1D4_1) \n",
        "blob_service_client.get_blob_to_path('shadeimg', full_path_to_file2, full_path_to_file2)"
      ],
      "execution_count": 72,
      "outputs": [
        {
          "output_type": "execute_result",
          "data": {
            "text/plain": [
              "<azure.storage.blob.models.Blob at 0x7fbd2241d090>"
            ]
          },
          "metadata": {},
          "execution_count": 72
        }
      ]
    },
    {
      "cell_type": "markdown",
      "metadata": {
        "id": "MtmXOojtqN4x"
      },
      "source": [
        "#3. BGR to RGB"
      ]
    },
    {
      "cell_type": "code",
      "metadata": {
        "id": "s8SS5YJfrpRC"
      },
      "source": [
        "import cv2\n",
        "from matplotlib import pyplot as plt #การเรียกใช้คำสั่ง matplotlib เพื่อวาดกราฟ โดยแทนชื่อ matplotlib ด้วย plt\n",
        "import matplotlib"
      ],
      "execution_count": 73,
      "outputs": []
    },
    {
      "cell_type": "markdown",
      "metadata": {
        "id": "apeGjiA79pJf"
      },
      "source": [
        "##Set4"
      ]
    },
    {
      "cell_type": "code",
      "metadata": {
        "id": "qYnoDJXh9q2j"
      },
      "source": [
        "imgS4_A1A1_1  = cv2.imread(S4_doubleA1A1_1)\n",
        "S4RGB_imgA1A1_1= cv2.cvtColor(imgS4_A1A1_1, cv2.COLOR_BGR2RGB)"
      ],
      "execution_count": 74,
      "outputs": []
    },
    {
      "cell_type": "code",
      "metadata": {
        "id": "0HkjhpAa9q2j"
      },
      "source": [
        "imgS4_A1A2_1  = cv2.imread(S4_doubleA1A2_1)\n",
        "S4RGB_imgA1A2_1= cv2.cvtColor(imgS4_A1A2_1, cv2.COLOR_BGR2RGB)"
      ],
      "execution_count": 75,
      "outputs": []
    },
    {
      "cell_type": "code",
      "metadata": {
        "id": "vSFzyH-B9q2j"
      },
      "source": [
        "imgS4_A1A3_1  = cv2.imread(S4_doubleA1A3_1)\n",
        "S4RGB_imgA1A3_1= cv2.cvtColor(imgS4_A1A3_1, cv2.COLOR_BGR2RGB)"
      ],
      "execution_count": 76,
      "outputs": []
    },
    {
      "cell_type": "code",
      "metadata": {
        "id": "NaSBU-__9q2j"
      },
      "source": [
        "imgS4_A1A3_51  = cv2.imread(S4_doubleA1A3_51)\n",
        "S4RGB_imgA1A3_51= cv2.cvtColor(imgS4_A1A3_51, cv2.COLOR_BGR2RGB)"
      ],
      "execution_count": 77,
      "outputs": []
    },
    {
      "cell_type": "code",
      "metadata": {
        "id": "I5kq2YcL9q2j"
      },
      "source": [
        "imgS4_A1A4_1  = cv2.imread(S4_doubleA1A4_1)\n",
        "S4RGB_imgA1A4_1= cv2.cvtColor(imgS4_A1A4_1, cv2.COLOR_BGR2RGB)"
      ],
      "execution_count": 78,
      "outputs": []
    },
    {
      "cell_type": "code",
      "metadata": {
        "id": "WPCZaErZ9q2j"
      },
      "source": [
        "imgS4_A1B1_1  = cv2.imread(S4_doubleA1B1_1)\n",
        "S4RGB_imgA1B1_1= cv2.cvtColor(imgS4_A1B1_1, cv2.COLOR_BGR2RGB)"
      ],
      "execution_count": 79,
      "outputs": []
    },
    {
      "cell_type": "code",
      "metadata": {
        "id": "9qoBo-Zb9q2k"
      },
      "source": [
        "imgS4_A1B2_1  = cv2.imread(S4_doubleA1B2_1)\n",
        "S4RGB_imgA1B2_1= cv2.cvtColor(imgS4_A1B2_1, cv2.COLOR_BGR2RGB)"
      ],
      "execution_count": 80,
      "outputs": []
    },
    {
      "cell_type": "code",
      "metadata": {
        "id": "kLOZsD239q2k"
      },
      "source": [
        "imgS4_A1B3_1  = cv2.imread(S4_doubleA1B3_1)\n",
        "S4RGB_imgA1B3_1= cv2.cvtColor(imgS4_A1B3_1, cv2.COLOR_BGR2RGB)"
      ],
      "execution_count": 81,
      "outputs": []
    },
    {
      "cell_type": "code",
      "metadata": {
        "id": "W-9c6qi39q2k"
      },
      "source": [
        "imgS4_A1B4_1  = cv2.imread(S4_doubleA1B4_1)\n",
        "S4RGB_imgA1B4_1= cv2.cvtColor(imgS4_A1B4_1, cv2.COLOR_BGR2RGB)"
      ],
      "execution_count": 82,
      "outputs": []
    },
    {
      "cell_type": "code",
      "metadata": {
        "id": "giX0rFy-9q2k"
      },
      "source": [
        "imgS4_A1C1_1  = cv2.imread(S4_doubleA1C1_1)\n",
        "S4RGB_imgA1C1_1= cv2.cvtColor(imgS4_A1C1_1, cv2.COLOR_BGR2RGB)"
      ],
      "execution_count": 83,
      "outputs": []
    },
    {
      "cell_type": "code",
      "metadata": {
        "id": "kqpXGtiz9q2k"
      },
      "source": [
        "imgS4_A1C2_1  = cv2.imread(S4_doubleA1C2_1)\n",
        "S4RGB_imgA1C2_1= cv2.cvtColor(imgS4_A1C2_1, cv2.COLOR_BGR2RGB)"
      ],
      "execution_count": 84,
      "outputs": []
    },
    {
      "cell_type": "code",
      "metadata": {
        "id": "4O0PjNu79q2k"
      },
      "source": [
        "imgS4_A1C3_1  = cv2.imread(S4_doubleA1C3_1)\n",
        "S4RGB_imgA1C3_1= cv2.cvtColor(imgS4_A1C3_1, cv2.COLOR_BGR2RGB)"
      ],
      "execution_count": 85,
      "outputs": []
    },
    {
      "cell_type": "code",
      "metadata": {
        "id": "J-WaIgA79q2l"
      },
      "source": [
        "imgS4_A1C4_1  = cv2.imread(S4_doubleA1C4_1)\n",
        "S4RGB_imgA1C4_1= cv2.cvtColor(imgS4_A1C4_1, cv2.COLOR_BGR2RGB)"
      ],
      "execution_count": 86,
      "outputs": []
    },
    {
      "cell_type": "code",
      "metadata": {
        "id": "vEXqhTbK9q2l"
      },
      "source": [
        "imgS4_A1D2_1  = cv2.imread(S4_doubleA1D2_1)\n",
        "S4RGB_imgA1D2_1= cv2.cvtColor(imgS4_A1D2_1, cv2.COLOR_BGR2RGB)"
      ],
      "execution_count": 87,
      "outputs": []
    },
    {
      "cell_type": "code",
      "metadata": {
        "id": "6N-qEwxX9q2l"
      },
      "source": [
        "imgS4_A1D3_1  = cv2.imread(S4_doubleA1D3_1)\n",
        "S4RGB_imgA1D3_1= cv2.cvtColor(imgS4_A1D3_1, cv2.COLOR_BGR2RGB)"
      ],
      "execution_count": 88,
      "outputs": []
    },
    {
      "cell_type": "code",
      "metadata": {
        "id": "UxGhWbV89q2l"
      },
      "source": [
        "imgS4_A1D4_1  = cv2.imread(S4_doubleA1D4_1)\n",
        "S4RGB_imgA1D4_1= cv2.cvtColor(imgS4_A1D4_1, cv2.COLOR_BGR2RGB)"
      ],
      "execution_count": 89,
      "outputs": []
    },
    {
      "cell_type": "markdown",
      "metadata": {
        "id": "4XyCaNz1YAzf"
      },
      "source": [
        "#4. ฺBGR TO HSV"
      ]
    },
    {
      "cell_type": "code",
      "metadata": {
        "id": "M3yXg2bFGiDP"
      },
      "source": [
        "S4_A1A1_1img  = cv2.imread(S4_doubleA1A1_1)\n",
        "S4HSV_imgA1A1_1= cv2.cvtColor(S4_A1A1_1img, cv2.COLOR_BGR2HSV)"
      ],
      "execution_count": 90,
      "outputs": []
    },
    {
      "cell_type": "code",
      "metadata": {
        "id": "lUK6mMoHGiDQ"
      },
      "source": [
        "S4_A1A2_1img  = cv2.imread(S4_doubleA1A2_1)\n",
        "S4HSV_imgA1A2_1= cv2.cvtColor(S4_A1A2_1img, cv2.COLOR_BGR2HSV)"
      ],
      "execution_count": 91,
      "outputs": []
    },
    {
      "cell_type": "code",
      "metadata": {
        "id": "Ft40vnznGiDQ"
      },
      "source": [
        "S4_A1A3_1img  = cv2.imread(S4_doubleA1A3_1)\n",
        "S4HSV_imgA1A3_1= cv2.cvtColor(S4_A1A3_1img, cv2.COLOR_BGR2HSV)"
      ],
      "execution_count": 92,
      "outputs": []
    },
    {
      "cell_type": "code",
      "metadata": {
        "id": "i7yBTQN2GiDQ"
      },
      "source": [
        "S4_A1A3_51img  = cv2.imread(S4_doubleA1A3_51)\n",
        "S4HSV_imgA1A3_51= cv2.cvtColor(S4_A1A3_51img, cv2.COLOR_BGR2HSV)"
      ],
      "execution_count": 93,
      "outputs": []
    },
    {
      "cell_type": "code",
      "metadata": {
        "id": "oTsC-5HUGiDQ"
      },
      "source": [
        "S4_A1A4_1img  = cv2.imread(S4_doubleA1A4_1)\n",
        "S4HSV_imgA1A4_1= cv2.cvtColor(S4_A1A4_1img, cv2.COLOR_BGR2HSV)"
      ],
      "execution_count": 94,
      "outputs": []
    },
    {
      "cell_type": "code",
      "metadata": {
        "id": "VPUDw1q4GiDQ"
      },
      "source": [
        "S4_A1B1_1img  = cv2.imread(S4_doubleA1B1_1)\n",
        "S4HSV_imgA1B1_1= cv2.cvtColor(S4_A1B1_1img, cv2.COLOR_BGR2HSV)"
      ],
      "execution_count": 95,
      "outputs": []
    },
    {
      "cell_type": "code",
      "metadata": {
        "id": "F1T3bnLzGiDR"
      },
      "source": [
        "S4_A1B2_1img  = cv2.imread(S4_doubleA1B2_1)\n",
        "S4HSV_imgA1B2_1= cv2.cvtColor(S4_A1B2_1img, cv2.COLOR_BGR2HSV)"
      ],
      "execution_count": 96,
      "outputs": []
    },
    {
      "cell_type": "code",
      "metadata": {
        "id": "pVRgjRHfGiDR"
      },
      "source": [
        "S4_A1B3_1img  = cv2.imread(S4_doubleA1B3_1)\n",
        "S4HSV_imgA1B3_1= cv2.cvtColor(S4_A1B3_1img, cv2.COLOR_BGR2HSV)"
      ],
      "execution_count": 97,
      "outputs": []
    },
    {
      "cell_type": "code",
      "metadata": {
        "id": "olwI8b3aGiDR"
      },
      "source": [
        "S4_A1B4_1img  = cv2.imread(S4_doubleA1B4_1)\n",
        "S4HSV_imgA1B4_1= cv2.cvtColor(S4_A1B4_1img, cv2.COLOR_BGR2HSV)"
      ],
      "execution_count": 98,
      "outputs": []
    },
    {
      "cell_type": "code",
      "metadata": {
        "id": "kHfZIcZ2GiDR"
      },
      "source": [
        "S4_A1C1_1img  = cv2.imread(S4_doubleA1C1_1)\n",
        "S4HSV_imgA1C1_1= cv2.cvtColor(S4_A1C1_1img, cv2.COLOR_BGR2HSV)"
      ],
      "execution_count": 99,
      "outputs": []
    },
    {
      "cell_type": "code",
      "metadata": {
        "id": "NTSQwF5LGiDR"
      },
      "source": [
        "S4_A1C2_1img  = cv2.imread(S4_doubleA1C2_1)\n",
        "S4HSV_imgA1C2_1= cv2.cvtColor(S4_A1C2_1img, cv2.COLOR_BGR2HSV)"
      ],
      "execution_count": 100,
      "outputs": []
    },
    {
      "cell_type": "code",
      "metadata": {
        "id": "gr5vzr-vGiDR"
      },
      "source": [
        "S4_A1C3_1img  = cv2.imread(S4_doubleA1C3_1)\n",
        "S4HSV_imgA1C3_1= cv2.cvtColor(S4_A1C3_1img, cv2.COLOR_BGR2HSV)"
      ],
      "execution_count": 101,
      "outputs": []
    },
    {
      "cell_type": "code",
      "metadata": {
        "id": "AlBSzxZPGiDS"
      },
      "source": [
        "S4_A1C4_1img  = cv2.imread(S4_doubleA1C4_1)\n",
        "S4HSV_imgA1C4_1= cv2.cvtColor(S4_A1C4_1img, cv2.COLOR_BGR2HSV)"
      ],
      "execution_count": 102,
      "outputs": []
    },
    {
      "cell_type": "code",
      "metadata": {
        "id": "AcccInfeGiDS"
      },
      "source": [
        "S4_A1D2_1img  = cv2.imread(S4_doubleA1D2_1)\n",
        "S4HSV_imgA1D2_1= cv2.cvtColor(S4_A1D2_1img, cv2.COLOR_BGR2HSV)"
      ],
      "execution_count": 103,
      "outputs": []
    },
    {
      "cell_type": "code",
      "metadata": {
        "id": "162xshkjGiDS"
      },
      "source": [
        "S4_A1D3_1img  = cv2.imread(S4_doubleA1D3_1)\n",
        "S4HSV_imgA1D3_1= cv2.cvtColor(S4_A1D3_1img, cv2.COLOR_BGR2HSV)"
      ],
      "execution_count": 104,
      "outputs": []
    },
    {
      "cell_type": "code",
      "metadata": {
        "id": "Et3h7SwjGiDS"
      },
      "source": [
        "S4_A1D4_1img  = cv2.imread(S4_doubleA1D4_1)\n",
        "S4HSV_imgA1D4_1= cv2.cvtColor(S4_A1D4_1img, cv2.COLOR_BGR2HSV)"
      ],
      "execution_count": 105,
      "outputs": []
    },
    {
      "cell_type": "markdown",
      "metadata": {
        "id": "UNtZVBz0CQoq"
      },
      "source": [
        "#5. ดึงสี"
      ]
    },
    {
      "cell_type": "markdown",
      "metadata": {
        "id": "sjUneh4RHb0T"
      },
      "source": [
        "\n",
        "###Set4"
      ]
    },
    {
      "cell_type": "markdown",
      "metadata": {
        "id": "QqYczmnFIqgb"
      },
      "source": [
        "##RGB"
      ]
    },
    {
      "cell_type": "code",
      "metadata": {
        "id": "Q2cfVpmuHf4m"
      },
      "source": [
        "S4A1_1= list()\n",
        "S4A1_2 = list()\n",
        "for i in range(S4RGB_imgA1A1_1.shape[0]): \n",
        "     for j in range(S4RGB_imgA1A1_1.shape[1]): \n",
        "                if 1770<i<1880 and 1700<j<1830 :\n",
        "                    S4A1_1.append(S4RGB_imgA1A1_1[i][j])\n",
        "                if 1770<i<1880 and 2015<j<2145 :\n",
        "                    S4A1_2.append(S4RGB_imgA1A1_1[i][j])   "
      ],
      "execution_count": 106,
      "outputs": []
    },
    {
      "cell_type": "code",
      "metadata": {
        "id": "Xz63JWZhHf4m"
      },
      "source": [
        "S4A1_3= list()\n",
        "S4A2_1 = list()\n",
        "for i in range(S4RGB_imgA1A2_1.shape[0]): \n",
        "     for j in range(S4RGB_imgA1A2_1.shape[1]): \n",
        "                if 1770<i<1880 and 1700<j<1830 :\n",
        "                    S4A1_3.append(S4RGB_imgA1A2_1[i][j])\n",
        "                if 1770<i<1880 and 2015<j<2145 :\n",
        "                    S4A2_1.append(S4RGB_imgA1A2_1[i][j])   "
      ],
      "execution_count": 107,
      "outputs": []
    },
    {
      "cell_type": "code",
      "metadata": {
        "id": "m0x_EYErHf4m"
      },
      "source": [
        "S4A1_4= list()\n",
        "S4A3_1 = list()\n",
        "for i in range(S4RGB_imgA1A3_1.shape[0]): \n",
        "     for j in range(S4RGB_imgA1A3_1.shape[1]): \n",
        "                if 1770<i<1880 and 1700<j<1830 :\n",
        "                    S4A1_4.append(S4RGB_imgA1A3_1[i][j])\n",
        "                if 1770<i<1880 and 2015<j<2145 :\n",
        "                    S4A3_1.append(S4RGB_imgA1A3_1[i][j])   "
      ],
      "execution_count": 108,
      "outputs": []
    },
    {
      "cell_type": "code",
      "metadata": {
        "id": "2fkBODCxHf4n"
      },
      "source": [
        "S4A1_5= list()\n",
        "S4A3_51 = list()\n",
        "for i in range(S4RGB_imgA1A3_51.shape[0]): \n",
        "     for j in range(S4RGB_imgA1A3_51.shape[1]): \n",
        "                if 1770<i<1880 and 1700<j<1830 :\n",
        "                    S4A1_5.append(S4RGB_imgA1A3_51[i][j])\n",
        "                if 1770<i<1880 and 2015<j<2145 :\n",
        "                    S4A3_51.append(S4RGB_imgA1A3_51[i][j])"
      ],
      "execution_count": 109,
      "outputs": []
    },
    {
      "cell_type": "code",
      "metadata": {
        "id": "2mpRtq-_Hf4n"
      },
      "source": [
        "S4A1_6= list()\n",
        "S4A4_1 = list()\n",
        "for i in range(S4RGB_imgA1A4_1.shape[0]): \n",
        "     for j in range(S4RGB_imgA1A4_1.shape[1]): \n",
        "                if 1770<i<1880 and 1700<j<1830 :\n",
        "                    S4A1_6.append(S4RGB_imgA1A4_1[i][j])\n",
        "                if 1770<i<1880 and 2015<j<2145 :\n",
        "                    S4A4_1.append(S4RGB_imgA1A4_1[i][j])"
      ],
      "execution_count": 110,
      "outputs": []
    },
    {
      "cell_type": "code",
      "metadata": {
        "id": "RA15r3vmHf4n"
      },
      "source": [
        "S4A1_7= list()\n",
        "S4B1_1 = list()\n",
        "for i in range(S4RGB_imgA1B1_1.shape[0]): \n",
        "     for j in range(S4RGB_imgA1B1_1.shape[1]): \n",
        "                if 1770<i<1880 and 1700<j<1830 :\n",
        "                    S4A1_7.append(S4RGB_imgA1B1_1[i][j])\n",
        "                if 1770<i<1880 and 2015<j<2145 :\n",
        "                    S4B1_1.append(S4RGB_imgA1B1_1[i][j])"
      ],
      "execution_count": 111,
      "outputs": []
    },
    {
      "cell_type": "code",
      "metadata": {
        "id": "iXmvLR4YHf4n"
      },
      "source": [
        "S4A1_8= list()\n",
        "S4B2_1 = list()\n",
        "for i in range(S4RGB_imgA1B2_1.shape[0]): \n",
        "     for j in range(S4RGB_imgA1B2_1.shape[1]): \n",
        "                if 1770<i<1880 and 1700<j<1830 :\n",
        "                    S4A1_8.append(S4RGB_imgA1B2_1[i][j])\n",
        "                if 1770<i<1880 and 2015<j<2145 :\n",
        "                    S4B2_1.append(S4RGB_imgA1B2_1[i][j])"
      ],
      "execution_count": 112,
      "outputs": []
    },
    {
      "cell_type": "code",
      "metadata": {
        "id": "Z3J6vrv5Hf4n"
      },
      "source": [
        "S4A1_9= list()\n",
        "S4B3_1 = list()\n",
        "for i in range(S4RGB_imgA1B3_1.shape[0]): \n",
        "     for j in range(S4RGB_imgA1B3_1.shape[1]): \n",
        "                if 1770<i<1880 and 1700<j<1830 :\n",
        "                    S4A1_9.append(S4RGB_imgA1B3_1[i][j])\n",
        "                if 1770<i<1880 and 2015<j<2145 :\n",
        "                    S4B3_1.append(S4RGB_imgA1B3_1[i][j])"
      ],
      "execution_count": 113,
      "outputs": []
    },
    {
      "cell_type": "code",
      "metadata": {
        "id": "mSdkq8vhHf4n"
      },
      "source": [
        "S4A1_10= list()\n",
        "S4B4_1 = list()\n",
        "for i in range(S4RGB_imgA1B4_1.shape[0]): \n",
        "     for j in range(S4RGB_imgA1B4_1.shape[1]): \n",
        "                if 1770<i<1880 and 1700<j<1830 :\n",
        "                    S4A1_10.append(S4RGB_imgA1B4_1[i][j])\n",
        "                if 1770<i<1880 and 2015<j<2145 :\n",
        "                    S4B4_1.append(S4RGB_imgA1B4_1[i][j])"
      ],
      "execution_count": 114,
      "outputs": []
    },
    {
      "cell_type": "code",
      "metadata": {
        "id": "-SK3SZSKHf4n"
      },
      "source": [
        "S4A1_11= list()\n",
        "S4C1_1 = list()\n",
        "for i in range(S4RGB_imgA1C1_1.shape[0]): \n",
        "     for j in range(S4RGB_imgA1C1_1.shape[1]): \n",
        "                if 1770<i<1880 and 1700<j<1830 :\n",
        "                    S4A1_11.append(S4RGB_imgA1C1_1[i][j])\n",
        "                if 1770<i<1880 and 2015<j<2145 :\n",
        "                    S4C1_1.append(S4RGB_imgA1C1_1[i][j])   "
      ],
      "execution_count": 115,
      "outputs": []
    },
    {
      "cell_type": "code",
      "metadata": {
        "id": "DwlieHawHf4n"
      },
      "source": [
        "S4A1_12= list()\n",
        "S4C2_1 = list()\n",
        "for i in range(S4RGB_imgA1C2_1.shape[0]): \n",
        "     for j in range(S4RGB_imgA1C2_1.shape[1]): \n",
        "                if 1770<i<1880 and 1700<j<1830 :\n",
        "                    S4A1_12.append(S4RGB_imgA1C2_1[i][j])\n",
        "                if 1770<i<1880 and 2015<j<2145 :\n",
        "                    S4C2_1.append(S4RGB_imgA1C2_1[i][j])   "
      ],
      "execution_count": 116,
      "outputs": []
    },
    {
      "cell_type": "code",
      "metadata": {
        "id": "U02tWxMMHf4o"
      },
      "source": [
        "S4A1_13= list()\n",
        "S4C3_1 = list()\n",
        "for i in range(S4RGB_imgA1C3_1.shape[0]): \n",
        "     for j in range(S4RGB_imgA1C3_1.shape[1]): \n",
        "                if 1770<i<1880 and 1700<j<1830 :\n",
        "                    S4A1_13.append(S4RGB_imgA1C3_1[i][j])\n",
        "                if 1770<i<1880 and 2015<j<2145 :\n",
        "                    S4C3_1.append(S4RGB_imgA1C3_1[i][j])   "
      ],
      "execution_count": 117,
      "outputs": []
    },
    {
      "cell_type": "code",
      "metadata": {
        "id": "pfOn-jLeHf4o"
      },
      "source": [
        "S4A1_14= list()\n",
        "S4C4_1 = list()\n",
        "for i in range(S4RGB_imgA1C4_1.shape[0]): \n",
        "     for j in range(S4RGB_imgA1C4_1.shape[1]): \n",
        "                if 1770<i<1880 and 1700<j<1830 :\n",
        "                    S4A1_14.append(S4RGB_imgA1C4_1[i][j])\n",
        "                if 1770<i<1880 and 2015<j<2145 :\n",
        "                    S4C4_1.append(S4RGB_imgA1C4_1[i][j])"
      ],
      "execution_count": 118,
      "outputs": []
    },
    {
      "cell_type": "code",
      "metadata": {
        "id": "AbnmV2_kHf4o"
      },
      "source": [
        "S4A1_15= list()\n",
        "S4D2_1 = list()\n",
        "for i in range(S4RGB_imgA1C2_1.shape[0]): \n",
        "     for j in range(S4RGB_imgA1D2_1.shape[1]): \n",
        "                if 1770<i<1880 and 1700<j<1830 :\n",
        "                    S4A1_15.append(S4RGB_imgA1D2_1[i][j])\n",
        "                if 1770<i<1880 and 2015<j<2145 :\n",
        "                    S4D2_1.append(S4RGB_imgA1D2_1[i][j])   "
      ],
      "execution_count": 119,
      "outputs": []
    },
    {
      "cell_type": "code",
      "metadata": {
        "id": "iDlwebCJHf4o"
      },
      "source": [
        "S4A1_16= list()\n",
        "S4D3_1 = list()\n",
        "for i in range(S4RGB_imgA1D3_1.shape[0]): \n",
        "     for j in range(S4RGB_imgA1D3_1.shape[1]): \n",
        "                if 1770<i<1880 and 1700<j<1830 :\n",
        "                    S4A1_16.append(S4RGB_imgA1D3_1[i][j])\n",
        "                if 1770<i<1880 and 2015<j<2145 :\n",
        "                    S4D3_1.append(S4RGB_imgA1D3_1[i][j])   "
      ],
      "execution_count": 120,
      "outputs": []
    },
    {
      "cell_type": "code",
      "metadata": {
        "id": "_tnuzvwuHf4o"
      },
      "source": [
        "S4A1_17= list()\n",
        "S4D4_1 = list()\n",
        "for i in range(S4RGB_imgA1D4_1.shape[0]): \n",
        "     for j in range(S4RGB_imgA1D4_1.shape[1]): \n",
        "                if 1770<i<1880 and 1700<j<1830 :\n",
        "                    S4A1_17.append(S4RGB_imgA1D4_1[i][j])\n",
        "                if 1770<i<1880 and 2015<j<2145 :\n",
        "                    S4D4_1.append(S4RGB_imgA1D4_1[i][j])"
      ],
      "execution_count": 121,
      "outputs": []
    },
    {
      "cell_type": "markdown",
      "metadata": {
        "id": "q0jR50JbIuL6"
      },
      "source": [
        "##HSV"
      ]
    },
    {
      "cell_type": "code",
      "metadata": {
        "id": "4uy8q9MWI1u_"
      },
      "source": [
        "S4A1_1= list()\n",
        "S4A1_2 = list()\n",
        "for i in range(S4HSV_imgA1A1_1.shape[0]): \n",
        "     for j in range(S4HSV_imgA1A1_1.shape[1]): \n",
        "                if 1770<i<1880 and 1700<j<1830 :\n",
        "                    S4A1_1.append(S4HSV_imgA1A1_1[i][j])\n",
        "                if 1770<i<1880 and 2015<j<2145 :\n",
        "                    S4A1_2.append(S4HSV_imgA1A1_1[i][j])   "
      ],
      "execution_count": 122,
      "outputs": []
    },
    {
      "cell_type": "code",
      "metadata": {
        "id": "MPWIFjZ6I1u_"
      },
      "source": [
        "S4A1_3= list()\n",
        "S4A2_1 = list()\n",
        "for i in range(S4HSV_imgA1A2_1.shape[0]): \n",
        "     for j in range(S4HSV_imgA1A2_1.shape[1]): \n",
        "                if 1770<i<1880 and 1700<j<1830 :\n",
        "                    S4A1_3.append(S4HSV_imgA1A2_1[i][j])\n",
        "                if 1770<i<1880 and 2015<j<2145 :\n",
        "                    S4A2_1.append(S4HSV_imgA1A2_1[i][j])   "
      ],
      "execution_count": 123,
      "outputs": []
    },
    {
      "cell_type": "code",
      "metadata": {
        "id": "FcUqJt2MI1u_"
      },
      "source": [
        "S4A1_4= list()\n",
        "S4A3_1 = list()\n",
        "for i in range(S4HSV_imgA1A3_1.shape[0]): \n",
        "     for j in range(S4HSV_imgA1A3_1.shape[1]): \n",
        "                if 1770<i<1880 and 1700<j<1830 :\n",
        "                    S4A1_4.append(S4HSV_imgA1A3_1[i][j])\n",
        "                if 1770<i<1880 and 2015<j<2145 :\n",
        "                    S4A3_1.append(S4HSV_imgA1A3_1[i][j])   "
      ],
      "execution_count": 124,
      "outputs": []
    },
    {
      "cell_type": "code",
      "metadata": {
        "id": "zT0Qr1JPI1u_"
      },
      "source": [
        "S4A1_5= list()\n",
        "S4A3_51 = list()\n",
        "for i in range(S4RGB_imgA1A3_51.shape[0]): \n",
        "     for j in range(S4RGB_imgA1A3_51.shape[1]): \n",
        "                if 1770<i<1880 and 1700<j<1830 :\n",
        "                    S4A1_5.append(S4RGB_imgA1A3_51[i][j])\n",
        "                if 1770<i<1880 and 2015<j<2145 :\n",
        "                    S4A3_51.append(S4RGB_imgA1A3_51[i][j])"
      ],
      "execution_count": 125,
      "outputs": []
    },
    {
      "cell_type": "code",
      "metadata": {
        "id": "J3vDN6EwI1vA"
      },
      "source": [
        "S4A1_6= list()\n",
        "S4A4_1 = list()\n",
        "for i in range(S4HSV_imgA1A4_1.shape[0]): \n",
        "     for j in range(S4HSV_imgA1A4_1.shape[1]): \n",
        "                if 1770<i<1880 and 1700<j<1830 :\n",
        "                    S4A1_6.append(S4HSV_imgA1A4_1[i][j])\n",
        "                if 1770<i<1880 and 2015<j<2145 :\n",
        "                    S4A4_1.append(S4HSV_imgA1A4_1[i][j])"
      ],
      "execution_count": 126,
      "outputs": []
    },
    {
      "cell_type": "code",
      "metadata": {
        "id": "R4slu2aII1vA"
      },
      "source": [
        "S4A1_7= list()\n",
        "S4B1_1 = list()\n",
        "for i in range(S4HSV_imgA1B1_1.shape[0]): \n",
        "     for j in range(S4HSV_imgA1B1_1.shape[1]): \n",
        "                if 1770<i<1880 and 1700<j<1830 :\n",
        "                    S4A1_7.append(S4HSV_imgA1B1_1[i][j])\n",
        "                if 1770<i<1880 and 2015<j<2145 :\n",
        "                    S4B1_1.append(S4HSV_imgA1B1_1[i][j])"
      ],
      "execution_count": 127,
      "outputs": []
    },
    {
      "cell_type": "code",
      "metadata": {
        "id": "pQsS08lUI1vA"
      },
      "source": [
        "S4A1_8= list()\n",
        "S4B2_1 = list()\n",
        "for i in range(S4HSV_imgA1B2_1.shape[0]): \n",
        "     for j in range(S4HSV_imgA1B2_1.shape[1]): \n",
        "                if 1770<i<1880 and 1700<j<1830 :\n",
        "                    S4A1_8.append(S4HSV_imgA1B2_1[i][j])\n",
        "                if 1770<i<1880 and 2015<j<2145 :\n",
        "                    S4B2_1.append(S4HSV_imgA1B2_1[i][j])"
      ],
      "execution_count": 128,
      "outputs": []
    },
    {
      "cell_type": "code",
      "metadata": {
        "id": "D-m24sUJI1vA"
      },
      "source": [
        "S4A1_9= list()\n",
        "S4B3_1 = list()\n",
        "for i in range(S4HSV_imgA1B3_1.shape[0]): \n",
        "     for j in range(S4HSV_imgA1B3_1.shape[1]): \n",
        "                if 1770<i<1880 and 1700<j<1830 :\n",
        "                    S4A1_9.append(S4HSV_imgA1B3_1[i][j])\n",
        "                if 1770<i<1880 and 2015<j<2145 :\n",
        "                    S4B3_1.append(S4HSV_imgA1B3_1[i][j])"
      ],
      "execution_count": 129,
      "outputs": []
    },
    {
      "cell_type": "code",
      "metadata": {
        "id": "lec05Gg-I1vB"
      },
      "source": [
        "S4A1_10= list()\n",
        "S4B4_1 = list()\n",
        "for i in range(S4HSV_imgA1B4_1.shape[0]): \n",
        "     for j in range(S4HSV_imgA1B4_1.shape[1]): \n",
        "                if 1770<i<1880 and 1700<j<1830 :\n",
        "                    S4A1_10.append(S4HSV_imgA1B4_1[i][j])\n",
        "                if 1770<i<1880 and 2015<j<2145 :\n",
        "                    S4B4_1.append(S4HSV_imgA1B4_1[i][j])"
      ],
      "execution_count": 130,
      "outputs": []
    },
    {
      "cell_type": "code",
      "metadata": {
        "id": "KupTB_eLI1vB"
      },
      "source": [
        "S4A1_11= list()\n",
        "S4C1_1 = list()\n",
        "for i in range(S4HSV_imgA1C1_1.shape[0]): \n",
        "     for j in range(S4HSV_imgA1C1_1.shape[1]): \n",
        "                if 1770<i<1880 and 1700<j<1830 :\n",
        "                    S4A1_11.append(S4HSV_imgA1C1_1[i][j])\n",
        "                if 1770<i<1880 and 2015<j<2145 :\n",
        "                    S4C1_1.append(S4HSV_imgA1C1_1[i][j])   "
      ],
      "execution_count": 131,
      "outputs": []
    },
    {
      "cell_type": "code",
      "metadata": {
        "id": "7OjCZ14YI1vB"
      },
      "source": [
        "S4A1_12= list()\n",
        "S4C2_1 = list()\n",
        "for i in range(S4HSV_imgA1C2_1.shape[0]): \n",
        "     for j in range(S4HSV_imgA1C2_1.shape[1]): \n",
        "                if 1770<i<1880 and 1700<j<1830 :\n",
        "                    S4A1_12.append(S4HSV_imgA1C2_1[i][j])\n",
        "                if 1770<i<1880 and 2015<j<2145 :\n",
        "                    S4C2_1.append(S4HSV_imgA1C2_1[i][j])   "
      ],
      "execution_count": 132,
      "outputs": []
    },
    {
      "cell_type": "code",
      "metadata": {
        "id": "D_n3ALo6I1vB"
      },
      "source": [
        "S4A1_13= list()\n",
        "S4C3_1 = list()\n",
        "for i in range(S4HSV_imgA1C3_1.shape[0]): \n",
        "     for j in range(S4HSV_imgA1C3_1.shape[1]): \n",
        "                if 1770<i<1880 and 1700<j<1830 :\n",
        "                    S4A1_13.append(S4HSV_imgA1C3_1[i][j])\n",
        "                if 1770<i<1880 and 2015<j<2145 :\n",
        "                    S4C3_1.append(S4HSV_imgA1C3_1[i][j])   "
      ],
      "execution_count": 133,
      "outputs": []
    },
    {
      "cell_type": "code",
      "metadata": {
        "id": "TD6tGC45I1vB"
      },
      "source": [
        "S4A1_14= list()\n",
        "S4C4_1 = list()\n",
        "for i in range(S4HSV_imgA1C4_1.shape[0]): \n",
        "     for j in range(S4HSV_imgA1C4_1.shape[1]): \n",
        "                if 1770<i<1880 and 1700<j<1830 :\n",
        "                    S4A1_14.append(S4HSV_imgA1C4_1[i][j])\n",
        "                if 1770<i<1880 and 2015<j<2145 :\n",
        "                    S4C4_1.append(S4HSV_imgA1C4_1[i][j])"
      ],
      "execution_count": 134,
      "outputs": []
    },
    {
      "cell_type": "code",
      "metadata": {
        "id": "URasAEKiI1vC"
      },
      "source": [
        "S4A1_15= list()\n",
        "S4D2_1 = list()\n",
        "for i in range(S4HSV_imgA1C2_1.shape[0]): \n",
        "     for j in range(S4HSV_imgA1D2_1.shape[1]): \n",
        "                if 1770<i<1880 and 1700<j<1830 :\n",
        "                    S4A1_15.append(S4HSV_imgA1D2_1[i][j])\n",
        "                if 1770<i<1880 and 2015<j<2145 :\n",
        "                    S4D2_1.append(S4HSV_imgA1D2_1[i][j])   "
      ],
      "execution_count": 135,
      "outputs": []
    },
    {
      "cell_type": "code",
      "metadata": {
        "id": "WXJUI3CWI1vC"
      },
      "source": [
        "S4A1_16= list()\n",
        "S4D3_1 = list()\n",
        "for i in range(S4HSV_imgA1D3_1.shape[0]): \n",
        "     for j in range(S4HSV_imgA1D3_1.shape[1]): \n",
        "                if 1770<i<1880 and 1700<j<1830 :\n",
        "                    S4A1_16.append(S4HSV_imgA1D3_1[i][j])\n",
        "                if 1770<i<1880 and 2015<j<2145 :\n",
        "                    S4D3_1.append(S4HSV_imgA1D3_1[i][j])   "
      ],
      "execution_count": 136,
      "outputs": []
    },
    {
      "cell_type": "code",
      "metadata": {
        "id": "EurAKruyI1vC"
      },
      "source": [
        "S4A1_17= list()\n",
        "S4D4_1 = list()\n",
        "for i in range(S4HSV_imgA1D4_1.shape[0]): \n",
        "     for j in range(S4HSV_imgA1D4_1.shape[1]): \n",
        "                if 1770<i<1880 and 1700<j<1830 :\n",
        "                    S4A1_17.append(S4HSV_imgA1D4_1[i][j])\n",
        "                if 1770<i<1880 and 2015<j<2145 :\n",
        "                    S4D4_1.append(S4HSV_imgA1D4_1[i][j])"
      ],
      "execution_count": 137,
      "outputs": []
    },
    {
      "cell_type": "markdown",
      "metadata": {
        "id": "7KPqBEcdIXnZ"
      },
      "source": [
        "#6. หาค่า Mean"
      ]
    },
    {
      "cell_type": "code",
      "metadata": {
        "id": "tePep_ujIfg2"
      },
      "source": [
        "import numpy as np"
      ],
      "execution_count": 138,
      "outputs": []
    },
    {
      "cell_type": "markdown",
      "metadata": {
        "id": "W1Nj-675OLxB"
      },
      "source": [
        "###Set4"
      ]
    },
    {
      "cell_type": "markdown",
      "metadata": {
        "id": "OVWde62WJ576"
      },
      "source": [
        "##RGB"
      ]
    },
    {
      "cell_type": "code",
      "metadata": {
        "id": "9qe-b3RQTFI1"
      },
      "source": [
        "S4meanrefA1_1 = list()\n",
        "S4meanA1_2 = list()\n",
        "for i in range(S4RGB_imgA1A1_1.shape[0]): #ให้ i รันตาม row หรือ shape[0] คือแถว มีทั้งหมด 4032 แถว ของภาพที่ปรับขนาดมาแล้ว\n",
        "     for j in range(S4RGB_imgA1A1_1.shape[1]): #ให้ j รันตาม colum มีทั้งหมด 3024 colum เช่น แถวที่ 1 เข้ามาให้รันครบ 3024colum\n",
        "                if 1769<i<1881 and 2019<j<2131 :\n",
        "                  S4meanrefA1_1.append(S4RGB_imgA1A1_1[i][j])\n",
        "                if 1770<i<1880 and 2015<j<2145 :\n",
        "                  S4meanA1_2.append(S4RGB_imgA1A1_1[i][j])  \n",
        "S4meanrefA1_1 = np.array(S4meanrefA1_1)\n",
        "S4meanA1_2 = np.array(S4meanA1_2)\n",
        "\n",
        "S4rgbrefA1_1 = list()\n",
        "S4rgbA1_2 = list()\n",
        "for i in range(3):\n",
        "    S4rgbrefA1_1.append(S4meanrefA1_1[:,i].mean())\n",
        "    S4rgbA1_2.append(S4meanA1_2[:,i].mean()) "
      ],
      "execution_count": 139,
      "outputs": []
    },
    {
      "cell_type": "code",
      "metadata": {
        "id": "9PmGY8ytTFI1"
      },
      "source": [
        "S4meanrefA1_3 = list()\n",
        "S4meanA2_1 = list()\n",
        "for i in range(S4RGB_imgA1A2_1.shape[0]): \n",
        "     for j in range(S4RGB_imgA1A2_1.shape[1]): \n",
        "                if 1769<i<1881 and 2019<j<2131 :\n",
        "                  S4meanrefA1_3.append(S4RGB_imgA1A2_1[i][j])\n",
        "                if 1770<i<1880 and 2015<j<2145 :\n",
        "                  S4meanA2_1.append(S4RGB_imgA1A2_1[i][j])  \n",
        "S4meanrefA1_3 = np.array(S4meanrefA1_3)\n",
        "S4meanA2_1 = np.array(S4meanA2_1)\n",
        "\n",
        "S4rgbrefA1_3 = list()\n",
        "S4rgbA2_1 = list()\n",
        "for i in range(3):\n",
        "    S4rgbrefA1_3.append(S4meanrefA1_3[:,i].mean())\n",
        "    S4rgbA2_1.append(S4meanA2_1[:,i].mean())"
      ],
      "execution_count": 140,
      "outputs": []
    },
    {
      "cell_type": "code",
      "metadata": {
        "id": "VkmexGJeTFI2"
      },
      "source": [
        "S4meanrefA1_4 = list()\n",
        "S4meanA3_1 = list()\n",
        "for i in range(S4RGB_imgA1A3_1.shape[0]): \n",
        "     for j in range(S4RGB_imgA1A3_1.shape[1]): \n",
        "                if 1769<i<1881 and 2019<j<2131 :\n",
        "                  S4meanrefA1_4.append(S4RGB_imgA1A3_1[i][j])\n",
        "                if 1770<i<1880 and 2015<j<2145 :\n",
        "                  S4meanA3_1.append(S4RGB_imgA1A3_1[i][j])  \n",
        "S4meanrefA1_4 = np.array(S4meanrefA1_4)\n",
        "S4meanA3_1 = np.array(S4meanA3_1)\n",
        "\n",
        "S4rgbrefA1_4 = list()\n",
        "S4rgbA3_1 = list()\n",
        "for i in range(3):\n",
        "    S4rgbrefA1_4.append(S4meanrefA1_4[:,i].mean())\n",
        "    S4rgbA3_1.append(S4meanA3_1[:,i].mean())"
      ],
      "execution_count": 141,
      "outputs": []
    },
    {
      "cell_type": "code",
      "metadata": {
        "id": "ydYPsKzWTFI2"
      },
      "source": [
        "S4meanrefA1_5 = list()\n",
        "S4meanA3_51 = list()\n",
        "for i in range(S4RGB_imgA1A3_51.shape[0]): \n",
        "     for j in range(S4RGB_imgA1A3_51.shape[1]): \n",
        "                if 1769<i<1881 and 2019<j<2131 :\n",
        "                  S4meanrefA1_5.append(S4RGB_imgA1A3_51[i][j])\n",
        "                if 1770<i<1880 and 2015<j<2145 :\n",
        "                  S4meanA3_51.append(S4RGB_imgA1A3_51[i][j])  \n",
        "S4meanrefA1_5 = np.array(S4meanrefA1_5)\n",
        "S4meanA3_51 = np.array(S4meanA3_51)\n",
        "\n",
        "S4rgbrefA1_5 = list()\n",
        "S4rgbA3_51 = list()\n",
        "for i in range(3):\n",
        "    S4rgbrefA1_5.append(S4meanrefA1_5[:,i].mean())\n",
        "    S4rgbA3_51.append(S4meanA3_51[:,i].mean())"
      ],
      "execution_count": 142,
      "outputs": []
    },
    {
      "cell_type": "code",
      "metadata": {
        "id": "tvR2Ob8sTFI2"
      },
      "source": [
        "S4meanrefA1_6 = list()\n",
        "S4meanA4_1 = list()\n",
        "for i in range(S4RGB_imgA1A4_1.shape[0]): \n",
        "     for j in range(S4RGB_imgA1A4_1.shape[1]): \n",
        "                if 1769<i<1881 and 2019<j<2131 :\n",
        "                  S4meanrefA1_6.append(S4RGB_imgA1A4_1[i][j])\n",
        "                if 1770<i<1880 and 2015<j<2145 :\n",
        "                  S4meanA4_1.append(S4RGB_imgA1A4_1[i][j])  \n",
        "S4meanrefA1_6 = np.array(S4meanrefA1_6)\n",
        "S4meanA4_1 = np.array(S4meanA4_1)\n",
        "\n",
        "S4rgbrefA1_6 = list()\n",
        "S4rgbA4_1 = list()\n",
        "for i in range(3):\n",
        "    S4rgbrefA1_6.append(S4meanrefA1_6[:,i].mean())\n",
        "    S4rgbA4_1.append(S4meanA4_1[:,i].mean())"
      ],
      "execution_count": 179,
      "outputs": []
    },
    {
      "cell_type": "code",
      "metadata": {
        "id": "Ljpq0nVwTFI2"
      },
      "source": [
        "S4meanrefA1_7 = list()\n",
        "S4meanB1_1 = list()\n",
        "for i in range(S4RGB_imgA1B1_1.shape[0]): \n",
        "     for j in range(S4RGB_imgA1B1_1.shape[1]): \n",
        "                if 1769<i<1881 and 2019<j<2131 :\n",
        "                  S4meanrefA1_7.append(S4RGB_imgA1B1_1[i][j])\n",
        "                if 1770<i<1880 and 2015<j<2145 :\n",
        "                  S4meanB1_1.append(S4RGB_imgA1B1_1[i][j])  \n",
        "S4meanrefA1_7 = np.array(S4meanrefA1_7)\n",
        "S4meanB1_1 = np.array(S4meanB1_1)\n",
        "\n",
        "S4rgbrefA1_7 = list()\n",
        "S4rgbB1_1 = list()\n",
        "for i in range(3):\n",
        "    S4rgbrefA1_7.append(S4meanrefA1_7[:,i].mean())\n",
        "    S4rgbB1_1.append(S4meanB1_1[:,i].mean())"
      ],
      "execution_count": 144,
      "outputs": []
    },
    {
      "cell_type": "code",
      "metadata": {
        "id": "Zl5OV1WkTFI2"
      },
      "source": [
        "S4meanrefA1_8 = list()\n",
        "S4meanB2_1 = list()\n",
        "for i in range(S4RGB_imgA1B2_1.shape[0]): \n",
        "     for j in range(S4RGB_imgA1B2_1.shape[1]): \n",
        "                if 1769<i<1881 and 2019<j<2131 :\n",
        "                  S4meanrefA1_8.append(S4RGB_imgA1B2_1[i][j])\n",
        "                if 1770<i<1880 and 2015<j<2145 :\n",
        "                  S4meanB2_1.append(S4RGB_imgA1B2_1[i][j])  \n",
        "S4meanrefA1_8 = np.array(S4meanrefA1_8)\n",
        "S4meanB2_1 = np.array(S4meanB2_1)\n",
        "\n",
        "S4rgbrefA1_8 = list()\n",
        "S4rgbB2_1 = list()\n",
        "for i in range(3):\n",
        "    S4rgbrefA1_8.append(S4meanrefA1_8[:,i].mean())\n",
        "    S4rgbB2_1.append(S4meanB2_1[:,i].mean())"
      ],
      "execution_count": 145,
      "outputs": []
    },
    {
      "cell_type": "code",
      "metadata": {
        "id": "5U29cW4STFI2"
      },
      "source": [
        "S4meanrefA1_9 = list()\n",
        "S4meanB3_1 = list()\n",
        "for i in range(S4RGB_imgA1B3_1.shape[0]): \n",
        "     for j in range(S4RGB_imgA1B3_1.shape[1]): \n",
        "                if 1769<i<1881 and 2019<j<2131 :\n",
        "                  S4meanrefA1_9.append(S4RGB_imgA1B3_1[i][j])\n",
        "                if 1770<i<1880 and 2015<j<2145 :\n",
        "                  S4meanB3_1.append(S4RGB_imgA1B3_1[i][j])  \n",
        "S4meanrefA1_9 = np.array(S4meanrefA1_9)\n",
        "S4meanB3_1 = np.array(S4meanB3_1)\n",
        "\n",
        "S4rgbrefA1_9 = list()\n",
        "S4rgbB3_1 = list()\n",
        "for i in range(3):\n",
        "    S4rgbrefA1_9.append(S4meanrefA1_9[:,i].mean())\n",
        "    S4rgbB3_1.append(S4meanB3_1[:,i].mean())"
      ],
      "execution_count": 177,
      "outputs": []
    },
    {
      "cell_type": "code",
      "metadata": {
        "id": "R2NA3evqTFI2"
      },
      "source": [
        "S4meanrefA1_10 = list()\n",
        "S4meanB4_1 = list()\n",
        "for i in range(S4RGB_imgA1B4_1.shape[0]): \n",
        "     for j in range(S4RGB_imgA1B4_1.shape[1]): \n",
        "                if 1769<i<1881 and 2019<j<2131 :\n",
        "                  S4meanrefA1_10.append(S4RGB_imgA1B4_1[i][j])\n",
        "                if 1770<i<1880 and 2015<j<2145 :\n",
        "                  S4meanB4_1.append(S4RGB_imgA1B4_1[i][j])  \n",
        "S4meanrefA1_10 = np.array(S4meanrefA1_10)\n",
        "S4meanB4_1 = np.array(S4meanB4_1)\n",
        "\n",
        "S4rgbrefA1_10 = list()\n",
        "S4rgbB4_1 = list()\n",
        "for i in range(3):\n",
        "    S4rgbrefA1_10.append(S4meanrefA1_10[:,i].mean())\n",
        "    S4rgbB4_1.append(S4meanB4_1[:,i].mean())"
      ],
      "execution_count": 147,
      "outputs": []
    },
    {
      "cell_type": "code",
      "metadata": {
        "id": "no0v_IJvTFI2"
      },
      "source": [
        "S4meanrefA1_11 = list()\n",
        "S4meanC1_1 = list()\n",
        "for i in range(S4RGB_imgA1C1_1.shape[0]): \n",
        "     for j in range(S4RGB_imgA1C1_1.shape[1]): \n",
        "                if 1769<i<1881 and 2019<j<2131 :\n",
        "                  S4meanrefA1_11.append(S4RGB_imgA1C1_1[i][j])\n",
        "                if 1770<i<1880 and 2015<j<2145 :\n",
        "                  S4meanC1_1.append(S4RGB_imgA1C1_1[i][j])  \n",
        "S4meanrefA1_11 = np.array(S4meanrefA1_11)\n",
        "S4meanC1_1 = np.array(S4meanC1_1)\n",
        "\n",
        "S4rgbrefA1_11 = list()\n",
        "S4rgbC1_1 = list()\n",
        "for i in range(3):\n",
        "    S4rgbrefA1_11.append(S4meanrefA1_11[:,i].mean())\n",
        "    S4rgbC1_1.append(S4meanC1_1[:,i].mean())"
      ],
      "execution_count": 148,
      "outputs": []
    },
    {
      "cell_type": "code",
      "metadata": {
        "id": "tk2Tjx-xTFI2"
      },
      "source": [
        "S4meanrefA1_12 = list()\n",
        "S4meanC2_1 = list()\n",
        "for i in range(S4RGB_imgA1C2_1.shape[0]): \n",
        "     for j in range(S4RGB_imgA1C2_1.shape[1]): \n",
        "                if 1769<i<1881 and 2019<j<2131 :\n",
        "                  S4meanrefA1_12.append(S4RGB_imgA1C2_1[i][j])\n",
        "                if 1770<i<1880 and 2015<j<2145 :\n",
        "                  S4meanC2_1.append(S4RGB_imgA1C2_1[i][j])  \n",
        "S4meanrefA1_12 = np.array(S4meanrefA1_12)\n",
        "S4meanC2_1 = np.array(S4meanC2_1)\n",
        "\n",
        "S4rgbrefA1_12 = list()\n",
        "S4rgbC2_1 = list()\n",
        "for i in range(3):\n",
        "    S4rgbrefA1_12.append(S4meanrefA1_12[:,i].mean())\n",
        "    S4rgbC2_1.append(S4meanC2_1[:,i].mean())"
      ],
      "execution_count": 149,
      "outputs": []
    },
    {
      "cell_type": "code",
      "metadata": {
        "id": "C4OzI5irTFI3"
      },
      "source": [
        "S4meanrefA1_13 = list()\n",
        "S4meanC3_1 = list()\n",
        "for i in range(S4RGB_imgA1C3_1.shape[0]): \n",
        "     for j in range(S4RGB_imgA1C3_1.shape[1]): \n",
        "                if 1769<i<1881 and 2019<j<2131 :\n",
        "                  S4meanrefA1_13.append(S4RGB_imgA1C3_1[i][j])\n",
        "                if 1770<i<1880 and 2015<j<2145 :\n",
        "                  S4meanC3_1.append(S4RGB_imgA1C3_1[i][j])  \n",
        "S4meanrefA1_13 = np.array(S4meanrefA1_13)\n",
        "S4meanC3_1 = np.array(S4meanC3_1)\n",
        "\n",
        "S4rgbrefA1_13 = list()\n",
        "S4rgbC3_1 = list()\n",
        "for i in range(3):\n",
        "    S4rgbrefA1_13.append(S4meanrefA1_13[:,i].mean())\n",
        "    S4rgbC3_1.append(S4meanC3_1[:,i].mean())"
      ],
      "execution_count": 150,
      "outputs": []
    },
    {
      "cell_type": "code",
      "metadata": {
        "id": "rmEhD3fATFI3"
      },
      "source": [
        "S4meanrefA1_14 = list()\n",
        "S4meanC4_1 = list()\n",
        "for i in range(S4RGB_imgA1C4_1.shape[0]): \n",
        "     for j in range(S4RGB_imgA1C4_1.shape[1]): \n",
        "                if 1769<i<1881 and 2019<j<2131 :\n",
        "                  S4meanrefA1_14.append(S4RGB_imgA1C4_1[i][j])\n",
        "                if 1770<i<1880 and 2015<j<2145 :\n",
        "                  S4meanC4_1.append(S4RGB_imgA1C4_1[i][j])  \n",
        "S4meanrefA1_14 = np.array(S4meanrefA1_14)\n",
        "S4meanC4_1 = np.array(S4meanC4_1)\n",
        "\n",
        "S4rgbrefA1_14 = list()\n",
        "S4rgbC4_1 = list()\n",
        "for i in range(3):\n",
        "    S4rgbrefA1_14.append(S4meanrefA1_14[:,i].mean())\n",
        "    S4rgbC4_1.append(S4meanC4_1[:,i].mean())"
      ],
      "execution_count": 151,
      "outputs": []
    },
    {
      "cell_type": "code",
      "metadata": {
        "id": "ZAIAbO_iTFI3"
      },
      "source": [
        "S4meanrefA1_15 = list()\n",
        "S4meanD2_1 = list()\n",
        "for i in range(S4RGB_imgA1D2_1.shape[0]): \n",
        "     for j in range(S4RGB_imgA1D2_1.shape[1]): \n",
        "                if 1769<i<1881 and 2019<j<2131 :\n",
        "                  S4meanrefA1_15.append(S4RGB_imgA1D2_1[i][j])\n",
        "                if 1770<i<1880 and 2015<j<2145 :\n",
        "                  S4meanD2_1.append(S4RGB_imgA1D2_1[i][j])  \n",
        "S4meanrefA1_15 = np.array(S4meanrefA1_15)\n",
        "S4meanD2_1 = np.array(S4meanD2_1)\n",
        "\n",
        "S4rgbrefA1_15 = list()\n",
        "S4rgbD2_1 = list()\n",
        "for i in range(3):\n",
        "    S4rgbrefA1_15.append(S4meanrefA1_15[:,i].mean())\n",
        "    S4rgbD2_1.append(S4meanD2_1[:,i].mean())"
      ],
      "execution_count": 152,
      "outputs": []
    },
    {
      "cell_type": "code",
      "metadata": {
        "id": "hTJKOPrTTFI3"
      },
      "source": [
        "S4meanrefA1_16 = list()\n",
        "S4meanD3_1 = list()\n",
        "for i in range(S4RGB_imgA1D3_1.shape[0]): \n",
        "     for j in range(S4RGB_imgA1D3_1.shape[1]): \n",
        "                if 1769<i<1881 and 2019<j<2131 :\n",
        "                  S4meanrefA1_16.append(S4RGB_imgA1D3_1[i][j])\n",
        "                if 1770<i<1880 and 2015<j<2145 :\n",
        "                  S4meanD3_1.append(S4RGB_imgA1D3_1[i][j])  \n",
        "S4meanrefA1_16 = np.array(S4meanrefA1_16)\n",
        "S4meanD3_1 = np.array(S4meanD3_1)\n",
        "\n",
        "S4rgbrefA1_16 = list()\n",
        "S4rgbD3_1 = list()\n",
        "for i in range(3):\n",
        "    S4rgbrefA1_16.append(S4meanrefA1_16[:,i].mean())\n",
        "    S4rgbD3_1.append(S4meanD3_1[:,i].mean())"
      ],
      "execution_count": 153,
      "outputs": []
    },
    {
      "cell_type": "code",
      "metadata": {
        "id": "Pn4S73yNTFI3"
      },
      "source": [
        "S4meanrefA1_17= list()\n",
        "S4meanD4_1 = list()\n",
        "for i in range(S4RGB_imgA1D4_1.shape[0]): \n",
        "     for j in range(S4RGB_imgA1D4_1.shape[1]): \n",
        "                if 1769<i<1881 and 2019<j<2131 :\n",
        "                  S4meanrefA1_17.append(S4RGB_imgA1D4_1[i][j])\n",
        "                if 1770<i<1880 and 2015<j<2145 :\n",
        "                  S4meanD4_1.append(S4RGB_imgA1D4_1[i][j])  \n",
        "S4meanrefA1_17 = np.array(S4meanrefA1_14)\n",
        "S4meanD4_1 = np.array(S4meanD4_1)\n",
        "\n",
        "S4rgbrefA1_17 = list()\n",
        "S4rgbD4_1 = list()\n",
        "for i in range(3):\n",
        "    S4rgbrefA1_17.append(S4meanrefA1_17[:,i].mean())\n",
        "    S4rgbD4_1.append(S4meanD4_1[:,i].mean())"
      ],
      "execution_count": 154,
      "outputs": []
    },
    {
      "cell_type": "markdown",
      "metadata": {
        "id": "1vsenvzGJ-z0"
      },
      "source": [
        "##HSV"
      ]
    },
    {
      "cell_type": "code",
      "metadata": {
        "id": "g8COlyPkKXLl"
      },
      "source": [
        "S4meanrefA1_1 = list()\n",
        "S4meanA1_2 = list()\n",
        "for i in range(S4HSV_imgA1A1_1.shape[0]): #ให้ i รันตาม row หรือ shape[0] คือแถว มีทั้งหมด 4032 แถว ของภาพที่ปรับขนาดมาแล้ว\n",
        "     for j in range(S4HSV_imgA1A1_1.shape[1]): #ให้ j รันตาม colum มีทั้งหมด 3024 colum เช่น แถวที่ 1 เข้ามาให้รันครบ 3024colum\n",
        "                if 1769<i<1881 and 2019<j<2131 :\n",
        "                  S4meanrefA1_1.append(S4HSV_imgA1A1_1[i][j])\n",
        "                if 1770<i<1880 and 2015<j<2145 :\n",
        "                  S4meanA1_2.append(S4HSV_imgA1A1_1[i][j])  \n",
        "S4meanrefA1_1 = np.array(S4meanrefA1_1)\n",
        "S4meanA1_2 = np.array(S4meanA1_2)\n",
        "\n",
        "S4hsvrefA1_1 = list() \n",
        "S4hsvA1_2 = list()\n",
        "for i in range(3):\n",
        "    S4hsvrefA1_1.append(S4meanrefA1_1[:,i].mean())\n",
        "    S4hsvA1_2.append(S4meanA1_2[:,i].mean()) "
      ],
      "execution_count": 155,
      "outputs": []
    },
    {
      "cell_type": "code",
      "metadata": {
        "id": "uSvjjmrFKXLm"
      },
      "source": [
        "S4meanrefA1_3 = list()\n",
        "S4meanA2_1 = list()\n",
        "for i in range(S4HSV_imgA1A2_1.shape[0]): \n",
        "     for j in range(S4HSV_imgA1A2_1.shape[1]): \n",
        "                if 1769<i<1881 and 2019<j<2131 :\n",
        "                  S4meanrefA1_3.append(S4HSV_imgA1A2_1[i][j])\n",
        "                if 1770<i<1880 and 2015<j<2145 :\n",
        "                  S4meanA2_1.append(S4HSV_imgA1A2_1[i][j])  \n",
        "S4meanrefA1_3 = np.array(S4meanrefA1_3)\n",
        "S4meanA2_1 = np.array(S4meanA2_1)\n",
        "\n",
        "S4hsvrefA1_3 = list()\n",
        "S4hsvA2_1 = list()\n",
        "for i in range(3):\n",
        "    S4hsvrefA1_3.append(S4meanrefA1_3[:,i].mean())\n",
        "    S4hsvA2_1.append(S4meanA2_1[:,i].mean())"
      ],
      "execution_count": 156,
      "outputs": []
    },
    {
      "cell_type": "code",
      "metadata": {
        "id": "Q6ufKaLhKXLn"
      },
      "source": [
        "S4meanrefA1_4 = list()\n",
        "S4meanA3_1 = list()\n",
        "for i in range(S4HSV_imgA1A3_1.shape[0]): \n",
        "     for j in range(S4HSV_imgA1A3_1.shape[1]): \n",
        "                if 1769<i<1881 and 2019<j<2131 :\n",
        "                  S4meanrefA1_4.append(S4HSV_imgA1A3_1[i][j])\n",
        "                if 1770<i<1880 and 2015<j<2145 :\n",
        "                  S4meanA3_1.append(S4HSV_imgA1A3_1[i][j])  \n",
        "S4meanrefA1_4 = np.array(S4meanrefA1_4)\n",
        "S4meanA3_1 = np.array(S4meanA3_1)\n",
        "\n",
        "S4hsvrefA1_4 = list()\n",
        "S4hsvA3_1 = list()\n",
        "for i in range(3):\n",
        "    S4hsvrefA1_4.append(S4meanrefA1_4[:,i].mean())\n",
        "    S4hsvA3_1.append(S4meanA3_1[:,i].mean())"
      ],
      "execution_count": 157,
      "outputs": []
    },
    {
      "cell_type": "code",
      "metadata": {
        "id": "4RM9YjoaKXLn"
      },
      "source": [
        "S4meanrefA1_5 = list()\n",
        "S4meanA3_51 = list()\n",
        "for i in range(S4HSV_imgA1A3_51.shape[0]): \n",
        "     for j in range(S4HSV_imgA1A3_51.shape[1]): \n",
        "                if 1769<i<1881 and 2019<j<2131 :\n",
        "                  S4meanrefA1_5.append(S4HSV_imgA1A3_51[i][j])\n",
        "                if 1770<i<1880 and 2015<j<2145 :\n",
        "                  S4meanA3_51.append(S4HSV_imgA1A3_51[i][j])  \n",
        "S4meanrefA1_5 = np.array(S4meanrefA1_5)\n",
        "S4meanA3_51 = np.array(S4meanA3_51)\n",
        "\n",
        "S4hsvrefA1_5 = list()\n",
        "S4hsvA3_51 = list()\n",
        "for i in range(3):\n",
        "    S4hsvrefA1_5.append(S4meanrefA1_5[:,i].mean())\n",
        "    S4hsvA3_51.append(S4meanA3_51[:,i].mean())"
      ],
      "execution_count": 158,
      "outputs": []
    },
    {
      "cell_type": "code",
      "metadata": {
        "id": "xWaEzg_xKXLo"
      },
      "source": [
        "S4meanrefA1_6 = list()\n",
        "S4meanA4_1 = list()\n",
        "for i in range(S4HSV_imgA1A4_1.shape[0]): \n",
        "     for j in range(S4HSV_imgA1A4_1.shape[1]): \n",
        "                if 1769<i<1881 and 2019<j<2131 :\n",
        "                  S4meanrefA1_6.append(S4HSV_imgA1A4_1[i][j])\n",
        "                if 1770<i<1880 and 2015<j<2145 :\n",
        "                  S4meanA4_1.append(S4HSV_imgA1A4_1[i][j])  \n",
        "S4meanrefA1_6 = np.array(S4meanrefA1_6)\n",
        "S4meanA4_1 = np.array(S4meanA4_1)\n",
        "\n",
        "S4hsvrefA1_6 = list()\n",
        "S4hsvA4_1 = list()\n",
        "for i in range(3):\n",
        "    S4hsvrefA1_6.append(S4meanrefA1_6[:,i].mean())\n",
        "    S4hsvA4_1.append(S4meanA4_1[:,i].mean())"
      ],
      "execution_count": 159,
      "outputs": []
    },
    {
      "cell_type": "code",
      "metadata": {
        "id": "YZCZMwjrKXLo"
      },
      "source": [
        "S4meanrefA1_7 = list()\n",
        "S4meanB1_1 = list()\n",
        "for i in range(S4HSV_imgA1B1_1.shape[0]): \n",
        "     for j in range(S4HSV_imgA1B1_1.shape[1]): \n",
        "                if 1769<i<1881 and 2019<j<2131 :\n",
        "                  S4meanrefA1_7.append(S4HSV_imgA1B1_1[i][j])\n",
        "                if 1770<i<1880 and 2015<j<2145 :\n",
        "                  S4meanB1_1.append(S4HSV_imgA1B1_1[i][j])  \n",
        "S4meanrefA1_7 = np.array(S4meanrefA1_7)\n",
        "S4meanB1_1 = np.array(S4meanB1_1)\n",
        "\n",
        "S4hsvrefA1_7 = list()\n",
        "S4hsvB1_1 = list()\n",
        "for i in range(3):\n",
        "    S4hsvrefA1_7.append(S4meanrefA1_7[:,i].mean())\n",
        "    S4hsvB1_1.append(S4meanB1_1[:,i].mean())"
      ],
      "execution_count": 160,
      "outputs": []
    },
    {
      "cell_type": "code",
      "metadata": {
        "id": "Su2t7uVGKXLo"
      },
      "source": [
        "S4meanrefA1_8 = list()\n",
        "S4meanB2_1 = list()\n",
        "for i in range(S4HSV_imgA1B2_1.shape[0]): \n",
        "     for j in range(S4HSV_imgA1B2_1.shape[1]): \n",
        "                if 1769<i<1881 and 2019<j<2131 :\n",
        "                  S4meanrefA1_8.append(S4HSV_imgA1B2_1[i][j])\n",
        "                if 1770<i<1880 and 2015<j<2145 :\n",
        "                  S4meanB2_1.append(S4HSV_imgA1B2_1[i][j])  \n",
        "S4meanrefA1_8 = np.array(S4meanrefA1_8)\n",
        "S4meanB2_1 = np.array(S4meanB2_1)\n",
        "\n",
        "S4hsvrefA1_8 = list()\n",
        "S4hsvB2_1 = list()\n",
        "for i in range(3):\n",
        "    S4hsvrefA1_8.append(S4meanrefA1_8[:,i].mean())\n",
        "    S4hsvB2_1.append(S4meanB2_1[:,i].mean())"
      ],
      "execution_count": 161,
      "outputs": []
    },
    {
      "cell_type": "code",
      "metadata": {
        "id": "fcalJzlNKXLp"
      },
      "source": [
        "S4meanrefA1_9 = list()\n",
        "S4meanB3_1 = list()\n",
        "for i in range(S4HSV_imgA1B3_1.shape[0]): \n",
        "     for j in range(S4HSV_imgA1B3_1.shape[1]): \n",
        "                if 1769<i<1881 and 2019<j<2131 :\n",
        "                  S4meanrefA1_9.append(S4HSV_imgA1B3_1[i][j])\n",
        "                if 1770<i<1880 and 2015<j<2145 :\n",
        "                  S4meanB3_1.append(S4HSV_imgA1B3_1[i][j])  \n",
        "S4meanrefA1_9 = np.array(S4meanrefA1_9)\n",
        "S4meanB3_1 = np.array(S4meanB3_1)\n",
        "\n",
        "S4hsvrefA1_9 = list()\n",
        "S4hsvB3_1 = list()\n",
        "for i in range(3):\n",
        "    S4hsvrefA1_9.append(S4meanrefA1_9[:,i].mean())\n",
        "    S4hsvB3_1.append(S4meanB3_1[:,i].mean())"
      ],
      "execution_count": 162,
      "outputs": []
    },
    {
      "cell_type": "code",
      "metadata": {
        "id": "K8hzHcdFKXLp"
      },
      "source": [
        "S4meanrefA1_10 = list()\n",
        "S4meanB4_1 = list()\n",
        "for i in range(S4HSV_imgA1B4_1.shape[0]): \n",
        "     for j in range(S4HSV_imgA1B4_1.shape[1]): \n",
        "                if 1769<i<1881 and 2019<j<2131 :\n",
        "                  S4meanrefA1_10.append(S4HSV_imgA1B4_1[i][j])\n",
        "                if 1770<i<1880 and 2015<j<2145 :\n",
        "                  S4meanB4_1.append(S4HSV_imgA1B4_1[i][j])  \n",
        "S4meanrefA1_10 = np.array(S4meanrefA1_10)\n",
        "S4meanB4_1 = np.array(S4meanB4_1)\n",
        "\n",
        "S4hsvrefA1_10 = list()\n",
        "S4hsvB4_1 = list()\n",
        "for i in range(3):\n",
        "    S4hsvrefA1_10.append(S4meanrefA1_10[:,i].mean())\n",
        "    S4hsvB4_1.append(S4meanB4_1[:,i].mean())"
      ],
      "execution_count": 163,
      "outputs": []
    },
    {
      "cell_type": "code",
      "metadata": {
        "id": "Gfmhs_qPKXLq"
      },
      "source": [
        "S4meanrefA1_11 = list()\n",
        "S4meanC1_1 = list()\n",
        "for i in range(S4HSV_imgA1C1_1.shape[0]): \n",
        "     for j in range(S4HSV_imgA1C1_1.shape[1]): \n",
        "                if 1769<i<1881 and 2019<j<2131 :\n",
        "                  S4meanrefA1_11.append(S4HSV_imgA1C1_1[i][j])\n",
        "                if 1770<i<1880 and 2015<j<2145 :\n",
        "                  S4meanC1_1.append(S4HSV_imgA1C1_1[i][j])  \n",
        "S4meanrefA1_11 = np.array(S4meanrefA1_11)\n",
        "S4meanC1_1 = np.array(S4meanC1_1)\n",
        "\n",
        "S4hsvrefA1_11 = list()\n",
        "S4hsvC1_1 = list()\n",
        "for i in range(3):\n",
        "    S4hsvrefA1_11.append(S4meanrefA1_11[:,i].mean())\n",
        "    S4hsvC1_1.append(S4meanC1_1[:,i].mean())"
      ],
      "execution_count": 166,
      "outputs": []
    },
    {
      "cell_type": "code",
      "metadata": {
        "id": "yedXZDEVKXLq"
      },
      "source": [
        "S4meanrefA1_12 = list()\n",
        "S4meanC2_1 = list()\n",
        "for i in range(S4HSV_imgA1C2_1.shape[0]): \n",
        "     for j in range(S4HSV_imgA1C2_1.shape[1]): \n",
        "                if 1769<i<1881 and 2019<j<2131 :\n",
        "                  S4meanrefA1_12.append(S4HSV_imgA1C2_1[i][j])\n",
        "                if 1770<i<1880 and 2015<j<2145 :\n",
        "                  S4meanC2_1.append(S4HSV_imgA1C2_1[i][j])  \n",
        "S4meanrefA1_12 = np.array(S4meanrefA1_12)\n",
        "S4meanC2_1 = np.array(S4meanC2_1)\n",
        "\n",
        "S4hsvrefA1_12 = list()\n",
        "S4hsvC2_1 = list()\n",
        "for i in range(3):\n",
        "    S4hsvrefA1_12.append(S4meanrefA1_12[:,i].mean())\n",
        "    S4hsvC2_1.append(S4meanC2_1[:,i].mean())"
      ],
      "execution_count": 167,
      "outputs": []
    },
    {
      "cell_type": "code",
      "metadata": {
        "id": "whcXO5iMKXLq"
      },
      "source": [
        "S4meanrefA1_13 = list()\n",
        "S4meanC3_1 = list()\n",
        "for i in range(S4HSV_imgA1C3_1.shape[0]): \n",
        "     for j in range(S4HSV_imgA1C3_1.shape[1]): \n",
        "                if 1769<i<1881 and 2019<j<2131 :\n",
        "                  S4meanrefA1_13.append(S4HSV_imgA1C3_1[i][j])\n",
        "                if 1770<i<1880 and 2015<j<2145 :\n",
        "                  S4meanC3_1.append(S4HSV_imgA1C3_1[i][j])  \n",
        "S4meanrefA1_13 = np.array(S4meanrefA1_13)\n",
        "S4meanC3_1 = np.array(S4meanC3_1)\n",
        "\n",
        "S4hsvrefA1_13 = list()\n",
        "S4hsvC3_1 = list()\n",
        "for i in range(3):\n",
        "    S4hsvrefA1_13.append(S4meanrefA1_13[:,i].mean())\n",
        "    S4hsvC3_1.append(S4meanC3_1[:,i].mean())"
      ],
      "execution_count": 168,
      "outputs": []
    },
    {
      "cell_type": "code",
      "metadata": {
        "id": "nIpOgNL4KXLr"
      },
      "source": [
        "S4meanrefA1_14 = list()\n",
        "S4meanC4_1 = list()\n",
        "for i in range(S4HSV_imgA1C4_1.shape[0]): \n",
        "     for j in range(S4HSV_imgA1C4_1.shape[1]): \n",
        "                if 1769<i<1881 and 2019<j<2131 :\n",
        "                  S4meanrefA1_14.append(S4HSV_imgA1C4_1[i][j])\n",
        "                if 1770<i<1880 and 2015<j<2145 :\n",
        "                  S4meanC4_1.append(S4HSV_imgA1C4_1[i][j])  \n",
        "S4meanrefA1_14 = np.array(S4meanrefA1_14)\n",
        "S4meanC4_1 = np.array(S4meanC4_1)\n",
        "\n",
        "S4hsvrefA1_14 = list()\n",
        "S4hsvC4_1 = list()\n",
        "for i in range(3):\n",
        "    S4hsvrefA1_14.append(S4meanrefA1_14[:,i].mean())\n",
        "    S4hsvC4_1.append(S4meanC4_1[:,i].mean())"
      ],
      "execution_count": 169,
      "outputs": []
    },
    {
      "cell_type": "code",
      "metadata": {
        "id": "tW9vVw0RKXLr"
      },
      "source": [
        "S4meanrefA1_15 = list()\n",
        "S4meanD2_1 = list()\n",
        "for i in range(S4HSV_imgA1D2_1.shape[0]): \n",
        "     for j in range(S4HSV_imgA1D2_1.shape[1]): \n",
        "                if 1769<i<1881 and 2019<j<2131 :\n",
        "                  S4meanrefA1_15.append(S4HSV_imgA1D2_1[i][j])\n",
        "                if 1770<i<1880 and 2015<j<2145 :\n",
        "                  S4meanD2_1.append(S4HSV_imgA1D2_1[i][j])  \n",
        "S4meanrefA1_15 = np.array(S4meanrefA1_15)\n",
        "S4meanD2_1 = np.array(S4meanD2_1)\n",
        "\n",
        "S4hsvrefA1_15 = list()\n",
        "S4hsvD2_1 = list()\n",
        "for i in range(3):\n",
        "    S4hsvrefA1_15.append(S4meanrefA1_15[:,i].mean())\n",
        "    S4hsvD2_1.append(S4meanD2_1[:,i].mean())"
      ],
      "execution_count": 170,
      "outputs": []
    },
    {
      "cell_type": "code",
      "metadata": {
        "id": "rGKVWA6JKXLr"
      },
      "source": [
        "S4meanrefA1_16 = list()\n",
        "S4meanD3_1 = list()\n",
        "for i in range(S4HSV_imgA1D3_1.shape[0]): \n",
        "     for j in range(S4HSV_imgA1D3_1.shape[1]): \n",
        "                if 1769<i<1881 and 2019<j<2131 :\n",
        "                  S4meanrefA1_16.append(S4HSV_imgA1D3_1[i][j])\n",
        "                if 1770<i<1880 and 2015<j<2145 :\n",
        "                  S4meanD3_1.append(S4HSV_imgA1D3_1[i][j])  \n",
        "S4meanrefA1_16 = np.array(S4meanrefA1_16)\n",
        "S4meanD3_1 = np.array(S4meanD3_1)\n",
        "\n",
        "S4hsvrefA1_16 = list()\n",
        "S4hsvD3_1 = list()\n",
        "for i in range(3):\n",
        "    S4hsvrefA1_16.append(S4meanrefA1_16[:,i].mean())\n",
        "    S4hsvD3_1.append(S4meanD3_1[:,i].mean())"
      ],
      "execution_count": 172,
      "outputs": []
    },
    {
      "cell_type": "code",
      "metadata": {
        "id": "-kqMpVjuKXLs"
      },
      "source": [
        "S4meanrefA1_17= list()\n",
        "S4meanD4_1 = list()\n",
        "for i in range(S4HSV_imgA1D4_1.shape[0]): \n",
        "     for j in range(S4HSV_imgA1D4_1.shape[1]): \n",
        "                if 1769<i<1881 and 2019<j<2131 :\n",
        "                  S4meanrefA1_17.append(S4HSV_imgA1D4_1[i][j])\n",
        "                if 1770<i<1880 and 2015<j<2145 :\n",
        "                  S4meanD4_1.append(S4HSV_imgA1D4_1[i][j])  \n",
        "S4meanrefA1_17 = np.array(S4meanrefA1_14)\n",
        "S4meanD4_1 = np.array(S4meanD4_1)\n",
        "\n",
        "S4hsvrefA1_17 = list()\n",
        "S4hsvD4_1 = list()\n",
        "for i in range(3):\n",
        "    S4hsvrefA1_17.append(S4meanrefA1_17[:,i].mean())\n",
        "    S4hsvD4_1.append(S4meanD4_1[:,i].mean())"
      ],
      "execution_count": 173,
      "outputs": []
    },
    {
      "cell_type": "markdown",
      "metadata": {
        "id": "4ihnBocWKAjD"
      },
      "source": [
        "#7.สร้างตาราง"
      ]
    },
    {
      "cell_type": "code",
      "metadata": {
        "id": "EjvYvGQwEIVW"
      },
      "source": [
        "from tabulate import tabulate"
      ],
      "execution_count": 174,
      "outputs": []
    },
    {
      "cell_type": "code",
      "metadata": {
        "id": "g1Ir2tayht50"
      },
      "source": [
        "table   = [['R-ref', 'G-ref', 'B-ref', 'R-Shad', 'G-Shad', 'B-Shad', 'H-ref', 'S-ref', 'V-ref', 'H-Shad', 'S-Shad', 'V-Shad', 'Shade-ref', 'Shade', 'Setting']]"
      ],
      "execution_count": 175,
      "outputs": []
    },
    {
      "cell_type": "code",
      "metadata": {
        "id": "s2Mvgj_WiADP"
      },
      "source": [
        "df4 = pd.DataFrame({'R-ref': [S4rgbrefA1_1[0],S4rgbrefA1_3[0],S4rgbrefA1_4[0], S4rgbrefA1_5[0], S4rgbrefA1_6[0],S4rgbrefA1_7[0], S4rgbrefA1_8[0],S4rgbrefA1_9[0], S4rgbrefA1_10[0], S4rgbrefA1_11[0], S4rgbrefA1_12[0], S4rgbrefA1_13[0], S4rgbrefA1_14[0], S4rgbrefA1_15[0], S4rgbrefA1_16[0], S4rgbrefA1_17[0]],\n",
        "    'G-ref': [S4rgbrefA1_1[1], S4rgbrefA1_3[1], S4rgbrefA1_4[1], S4rgbrefA1_5[1], S4rgbrefA1_6[1], S4rgbrefA1_7[1], S4rgbrefA1_8[1], S4rgbrefA1_9[1], S4rgbrefA1_10[1], S4rgbrefA1_11[1], S4rgbrefA1_12[1], S4rgbrefA1_13[1], S4rgbrefA1_14[1], S4rgbrefA1_15[1], S4rgbrefA1_16[1], S4rgbrefA1_17[1]],\n",
        "    'B-ref': [S4rgbrefA1_1[2],S4rgbrefA1_3[2],S4rgbrefA1_4[2],S4rgbrefA1_5[2], S4rgbrefA1_6[2],S4rgbrefA1_7[2], S4rgbrefA1_8[2],S4rgbrefA1_9[2], S4rgbrefA1_10[2],S4rgbrefA1_11[2], S4rgbrefA1_12[2],S4rgbrefA1_13[2], S4rgbrefA1_14[2],S4rgbrefA1_15[2], S4rgbrefA1_16[2],S4rgbrefA1_17[2]],\n",
        "    'R-Shad': [S4rgbA1_2[0],S4rgbA2_1[0],S4rgbA3_1[0],S4rgbA3_51[0],S4rgbA4_1[0],S4rgbB1_1[0],S4rgbB2_1[0],S4rgbB3_1[0],S4rgbB4_1[0],S4rgbC1_1[0],S4rgbC2_1[0],S4rgbC3_1[0],S4rgbC4_1[0],S4rgbD2_1[0],S4rgbD3_1[0],S4rgbD4_1[0]],\n",
        "    'G-Shad': [S4rgbA1_2[1],S4rgbA2_1[1],S4rgbA3_1[1], S4rgbA3_51[1],S4rgbA4_1[1],S4rgbB1_1[1],S4rgbB2_1[1],S4rgbB3_1[1],S4rgbB4_1[1],S4rgbC1_1[1],S4rgbC2_1[1],S4rgbC3_1[1],S4rgbC4_1[1],S4rgbD2_1[1],S4rgbD3_1[1], S4rgbD4_1[1]],\n",
        "    'B-Shad': [S4rgbA1_2[2],S4rgbA2_1[2],S4rgbA3_1[2],S4rgbA3_51[2],S4rgbA4_1[2],S4rgbB1_1[2],S4rgbB2_1[2],S4rgbB3_1[2],S4rgbB4_1[2],S4rgbC1_1[2],S4rgbC2_1[2],S4rgbC3_1[2],S4rgbC4_1[2],S4rgbD2_1[2],S4rgbD3_1[2], S4rgbD4_1[2]],\n",
        "    'H-ref': [S4hsvrefA1_1[0],S4hsvrefA1_3[0],S4hsvrefA1_4[0],S4hsvrefA1_5[0], S4hsvrefA1_6[0],S4hsvrefA1_7[0], S4hsvrefA1_8[0],S4hsvrefA1_9[0], S4hsvrefA1_10[0],S4hsvrefA1_11[0], S4hsvrefA1_12[0],S4hsvrefA1_13[0], S4hsvrefA1_14[0],S4hsvrefA1_15[0], S4hsvrefA1_16[0],S4hsvrefA1_17[0]],\n",
        "    'S-ref': [S4hsvrefA1_1[1],S4hsvrefA1_3[1],S4hsvrefA1_4[1],S4hsvrefA1_5[1], S4hsvrefA1_6[1],S4hsvrefA1_7[1], S4hsvrefA1_8[1],S4hsvrefA1_9[1], S4hsvrefA1_10[1],S4hsvrefA1_11[1], S4hsvrefA1_12[0],S4hsvrefA1_13[1], S4hsvrefA1_14[1],S4hsvrefA1_15[1], S4hsvrefA1_16[1],S4hsvrefA1_17[1]],\n",
        "    'V-ref': [S4hsvrefA1_1[2],S4hsvrefA1_3[2],S4hsvrefA1_4[2],S4hsvrefA1_5[2], S4hsvrefA1_6[2],S4hsvrefA1_7[2], S4hsvrefA1_8[2],S4hsvrefA1_9[2], S4hsvrefA1_10[2],S4hsvrefA1_11[2], S4hsvrefA1_12[0],S4hsvrefA1_13[2], S4hsvrefA1_14[2],S4hsvrefA1_15[2], S4hsvrefA1_16[2],S4hsvrefA1_17[2]],\n",
        "    'H-Shad': [S4hsvA1_2[0],S4hsvA2_1[0],S4hsvA3_1[0],S4hsvA3_51[0],S4hsvA4_1[0],S4hsvB1_1[0],S4hsvB2_1[0],S4hsvB3_1[0],S4hsvB4_1[0],S4hsvC1_1[0],S4hsvC2_1[0],S4hsvC3_1[0],S4hsvC4_1[0],S4hsvD2_1[0],S4hsvD3_1[0],S4hsvD4_1[0]],\n",
        "    'S-Shad': [S4hsvA1_2[1],S4hsvA2_1[1],S4hsvA3_1[1],S4hsvA3_51[1],S4hsvA4_1[1],S4hsvB1_1[1],S4hsvB2_1[1],S4hsvB3_1[1],S4hsvB4_1[1],S4hsvC1_1[1],S4hsvC2_1[1],S4hsvC3_1[1],S4hsvC4_1[1],S4hsvD2_1[1],S4hsvD3_1[1],S4hsvD4_1[1]],\n",
        "    'V-Shad': [S4hsvA1_2[2],S4hsvA2_1[2],S4hsvA3_1[2],S4hsvA3_51[2],S4hsvA4_1[2],S4hsvB1_1[2],S4hsvB2_1[2],S4hsvB3_1[2],S4hsvB4_1[2],S4hsvC1_1[2],S4hsvC2_1[2],S4hsvC3_1[2],S4hsvC4_1[2],S4hsvD2_1[2],S4hsvD3_1[2],S4hsvD4_1[2]],\n",
        "    'Shade-ref': ['A1', 'A1', 'A1',  'A1', 'A1', 'A1', 'A1', 'A1', 'A1', 'A1', 'A1', 'A1', 'A1', 'A1', 'A1', 'A1'],\n",
        "    'Shade':      ['A1', 'A2', 'A3', 'A3_5', 'A4', 'B1', 'B2', 'B3', 'B4', 'C1', 'C2', 'C3', 'C4', 'D2', 'D3', 'D4'],\n",
        "    'Setting':     ['Set1', 'Set1', 'Set1', 'Set1', 'Set1', 'Set1', 'Set1', 'Set1', 'Set1', 'Set1', 'Set1', 'Set1', 'Set1', 'Set1', 'Set1', 'Set1']}) "
      ],
      "execution_count": 182,
      "outputs": []
    },
    {
      "cell_type": "code",
      "metadata": {
        "colab": {
          "base_uri": "https://localhost:8080/",
          "height": 578
        },
        "id": "JHS2rc_ViAFf",
        "outputId": "f536d048-ccc5-4740-907a-7bf13ca69f0f"
      },
      "source": [
        "df4"
      ],
      "execution_count": 183,
      "outputs": [
        {
          "output_type": "execute_result",
          "data": {
            "text/html": [
              "<div>\n",
              "<style scoped>\n",
              "    .dataframe tbody tr th:only-of-type {\n",
              "        vertical-align: middle;\n",
              "    }\n",
              "\n",
              "    .dataframe tbody tr th {\n",
              "        vertical-align: top;\n",
              "    }\n",
              "\n",
              "    .dataframe thead th {\n",
              "        text-align: right;\n",
              "    }\n",
              "</style>\n",
              "<table border=\"1\" class=\"dataframe\">\n",
              "  <thead>\n",
              "    <tr style=\"text-align: right;\">\n",
              "      <th></th>\n",
              "      <th>R-ref</th>\n",
              "      <th>G-ref</th>\n",
              "      <th>B-ref</th>\n",
              "      <th>R-Shad</th>\n",
              "      <th>G-Shad</th>\n",
              "      <th>B-Shad</th>\n",
              "      <th>H-ref</th>\n",
              "      <th>S-ref</th>\n",
              "      <th>V-ref</th>\n",
              "      <th>H-Shad</th>\n",
              "      <th>S-Shad</th>\n",
              "      <th>V-Shad</th>\n",
              "      <th>Shade-ref</th>\n",
              "      <th>Shade</th>\n",
              "      <th>Setting</th>\n",
              "    </tr>\n",
              "  </thead>\n",
              "  <tbody>\n",
              "    <tr>\n",
              "      <th>0</th>\n",
              "      <td>220.936531</td>\n",
              "      <td>220.209074</td>\n",
              "      <td>202.529502</td>\n",
              "      <td>220.311927</td>\n",
              "      <td>219.639286</td>\n",
              "      <td>202.152692</td>\n",
              "      <td>29.122555</td>\n",
              "      <td>21.435841</td>\n",
              "      <td>221.143738</td>\n",
              "      <td>29.266126</td>\n",
              "      <td>21.221819</td>\n",
              "      <td>220.546120</td>\n",
              "      <td>A1</td>\n",
              "      <td>A1</td>\n",
              "      <td>Set1</td>\n",
              "    </tr>\n",
              "    <tr>\n",
              "      <th>1</th>\n",
              "      <td>217.240078</td>\n",
              "      <td>214.657333</td>\n",
              "      <td>189.242594</td>\n",
              "      <td>216.749307</td>\n",
              "      <td>214.175308</td>\n",
              "      <td>188.830524</td>\n",
              "      <td>27.385115</td>\n",
              "      <td>32.797338</td>\n",
              "      <td>217.250386</td>\n",
              "      <td>27.384254</td>\n",
              "      <td>32.784510</td>\n",
              "      <td>216.761255</td>\n",
              "      <td>A1</td>\n",
              "      <td>A2</td>\n",
              "      <td>Set1</td>\n",
              "    </tr>\n",
              "    <tr>\n",
              "      <th>2</th>\n",
              "      <td>225.519520</td>\n",
              "      <td>221.238211</td>\n",
              "      <td>184.858047</td>\n",
              "      <td>225.052699</td>\n",
              "      <td>220.616101</td>\n",
              "      <td>184.239883</td>\n",
              "      <td>26.832643</td>\n",
              "      <td>45.908855</td>\n",
              "      <td>225.519520</td>\n",
              "      <td>26.763673</td>\n",
              "      <td>46.168551</td>\n",
              "      <td>225.052699</td>\n",
              "      <td>A1</td>\n",
              "      <td>A3</td>\n",
              "      <td>Set1</td>\n",
              "    </tr>\n",
              "    <tr>\n",
              "      <th>3</th>\n",
              "      <td>218.265238</td>\n",
              "      <td>210.496794</td>\n",
              "      <td>168.388686</td>\n",
              "      <td>217.628618</td>\n",
              "      <td>209.848304</td>\n",
              "      <td>168.020411</td>\n",
              "      <td>25.518951</td>\n",
              "      <td>58.194627</td>\n",
              "      <td>218.265238</td>\n",
              "      <td>25.486167</td>\n",
              "      <td>58.059100</td>\n",
              "      <td>217.628618</td>\n",
              "      <td>A1</td>\n",
              "      <td>A3_5</td>\n",
              "      <td>Set1</td>\n",
              "    </tr>\n",
              "    <tr>\n",
              "      <th>4</th>\n",
              "      <td>212.697184</td>\n",
              "      <td>204.803344</td>\n",
              "      <td>159.282201</td>\n",
              "      <td>212.305099</td>\n",
              "      <td>204.278785</td>\n",
              "      <td>159.041889</td>\n",
              "      <td>25.807321</td>\n",
              "      <td>64.021265</td>\n",
              "      <td>212.697184</td>\n",
              "      <td>25.704857</td>\n",
              "      <td>63.953844</td>\n",
              "      <td>212.305099</td>\n",
              "      <td>A1</td>\n",
              "      <td>A4</td>\n",
              "      <td>Set1</td>\n",
              "    </tr>\n",
              "    <tr>\n",
              "      <th>5</th>\n",
              "      <td>219.457674</td>\n",
              "      <td>222.972080</td>\n",
              "      <td>209.860563</td>\n",
              "      <td>219.106109</td>\n",
              "      <td>222.550672</td>\n",
              "      <td>209.492568</td>\n",
              "      <td>38.340963</td>\n",
              "      <td>15.057544</td>\n",
              "      <td>222.972080</td>\n",
              "      <td>38.207524</td>\n",
              "      <td>15.007681</td>\n",
              "      <td>222.550672</td>\n",
              "      <td>A1</td>\n",
              "      <td>B1</td>\n",
              "      <td>Set1</td>\n",
              "    </tr>\n",
              "    <tr>\n",
              "      <th>6</th>\n",
              "      <td>216.629576</td>\n",
              "      <td>216.669426</td>\n",
              "      <td>191.264670</td>\n",
              "      <td>215.979945</td>\n",
              "      <td>216.005263</td>\n",
              "      <td>190.782803</td>\n",
              "      <td>30.217596</td>\n",
              "      <td>30.090415</td>\n",
              "      <td>216.929957</td>\n",
              "      <td>30.214067</td>\n",
              "      <td>30.002703</td>\n",
              "      <td>216.286324</td>\n",
              "      <td>A1</td>\n",
              "      <td>B2</td>\n",
              "      <td>Set1</td>\n",
              "    </tr>\n",
              "    <tr>\n",
              "      <th>7</th>\n",
              "      <td>227.410113</td>\n",
              "      <td>223.513595</td>\n",
              "      <td>178.867381</td>\n",
              "      <td>226.533319</td>\n",
              "      <td>222.588009</td>\n",
              "      <td>177.802219</td>\n",
              "      <td>27.937262</td>\n",
              "      <td>54.654655</td>\n",
              "      <td>227.416281</td>\n",
              "      <td>27.914444</td>\n",
              "      <td>55.057322</td>\n",
              "      <td>226.538724</td>\n",
              "      <td>A1</td>\n",
              "      <td>B3</td>\n",
              "      <td>Set1</td>\n",
              "    </tr>\n",
              "    <tr>\n",
              "      <th>8</th>\n",
              "      <td>218.234884</td>\n",
              "      <td>213.238942</td>\n",
              "      <td>161.731759</td>\n",
              "      <td>217.836000</td>\n",
              "      <td>212.718228</td>\n",
              "      <td>161.389588</td>\n",
              "      <td>27.660417</td>\n",
              "      <td>65.988313</td>\n",
              "      <td>218.234884</td>\n",
              "      <td>27.585662</td>\n",
              "      <td>66.042245</td>\n",
              "      <td>217.836000</td>\n",
              "      <td>A1</td>\n",
              "      <td>B4</td>\n",
              "      <td>Set1</td>\n",
              "    </tr>\n",
              "    <tr>\n",
              "      <th>9</th>\n",
              "      <td>215.407678</td>\n",
              "      <td>216.188134</td>\n",
              "      <td>196.216541</td>\n",
              "      <td>214.915013</td>\n",
              "      <td>215.669369</td>\n",
              "      <td>195.770500</td>\n",
              "      <td>31.500446</td>\n",
              "      <td>23.900657</td>\n",
              "      <td>216.496388</td>\n",
              "      <td>31.482043</td>\n",
              "      <td>23.863523</td>\n",
              "      <td>215.991324</td>\n",
              "      <td>A1</td>\n",
              "      <td>C1</td>\n",
              "      <td>Set1</td>\n",
              "    </tr>\n",
              "    <tr>\n",
              "      <th>10</th>\n",
              "      <td>219.312556</td>\n",
              "      <td>215.597922</td>\n",
              "      <td>187.177096</td>\n",
              "      <td>218.557855</td>\n",
              "      <td>214.820283</td>\n",
              "      <td>186.340232</td>\n",
              "      <td>26.282363</td>\n",
              "      <td>26.282363</td>\n",
              "      <td>26.282363</td>\n",
              "      <td>26.263139</td>\n",
              "      <td>37.680250</td>\n",
              "      <td>218.568452</td>\n",
              "      <td>A1</td>\n",
              "      <td>C2</td>\n",
              "      <td>Set1</td>\n",
              "    </tr>\n",
              "    <tr>\n",
              "      <th>11</th>\n",
              "      <td>216.841084</td>\n",
              "      <td>211.469767</td>\n",
              "      <td>174.474799</td>\n",
              "      <td>216.597255</td>\n",
              "      <td>211.207382</td>\n",
              "      <td>174.176232</td>\n",
              "      <td>26.592728</td>\n",
              "      <td>49.851717</td>\n",
              "      <td>216.841084</td>\n",
              "      <td>26.582320</td>\n",
              "      <td>49.955266</td>\n",
              "      <td>216.597255</td>\n",
              "      <td>A1</td>\n",
              "      <td>C3</td>\n",
              "      <td>Set1</td>\n",
              "    </tr>\n",
              "    <tr>\n",
              "      <th>12</th>\n",
              "      <td>216.892947</td>\n",
              "      <td>209.578849</td>\n",
              "      <td>165.181641</td>\n",
              "      <td>216.301117</td>\n",
              "      <td>208.837992</td>\n",
              "      <td>164.164995</td>\n",
              "      <td>27.094148</td>\n",
              "      <td>61.265076</td>\n",
              "      <td>216.943673</td>\n",
              "      <td>26.791053</td>\n",
              "      <td>61.863025</td>\n",
              "      <td>216.339378</td>\n",
              "      <td>A1</td>\n",
              "      <td>C4</td>\n",
              "      <td>Set1</td>\n",
              "    </tr>\n",
              "    <tr>\n",
              "      <th>13</th>\n",
              "      <td>226.250304</td>\n",
              "      <td>226.364418</td>\n",
              "      <td>206.890837</td>\n",
              "      <td>225.779034</td>\n",
              "      <td>225.848731</td>\n",
              "      <td>206.380912</td>\n",
              "      <td>30.493791</td>\n",
              "      <td>22.386008</td>\n",
              "      <td>226.898628</td>\n",
              "      <td>30.416115</td>\n",
              "      <td>22.470735</td>\n",
              "      <td>226.408292</td>\n",
              "      <td>A1</td>\n",
              "      <td>D2</td>\n",
              "      <td>Set1</td>\n",
              "    </tr>\n",
              "    <tr>\n",
              "      <th>14</th>\n",
              "      <td>221.403052</td>\n",
              "      <td>217.426426</td>\n",
              "      <td>188.743933</td>\n",
              "      <td>220.877036</td>\n",
              "      <td>216.910035</td>\n",
              "      <td>188.415191</td>\n",
              "      <td>26.406947</td>\n",
              "      <td>37.572518</td>\n",
              "      <td>221.403052</td>\n",
              "      <td>26.399047</td>\n",
              "      <td>37.439940</td>\n",
              "      <td>220.877036</td>\n",
              "      <td>A1</td>\n",
              "      <td>D3</td>\n",
              "      <td>Set1</td>\n",
              "    </tr>\n",
              "    <tr>\n",
              "      <th>15</th>\n",
              "      <td>216.892947</td>\n",
              "      <td>209.578849</td>\n",
              "      <td>165.181641</td>\n",
              "      <td>220.118555</td>\n",
              "      <td>217.154612</td>\n",
              "      <td>174.275941</td>\n",
              "      <td>27.094148</td>\n",
              "      <td>61.265076</td>\n",
              "      <td>216.943673</td>\n",
              "      <td>28.036057</td>\n",
              "      <td>53.081715</td>\n",
              "      <td>220.118555</td>\n",
              "      <td>A1</td>\n",
              "      <td>D4</td>\n",
              "      <td>Set1</td>\n",
              "    </tr>\n",
              "  </tbody>\n",
              "</table>\n",
              "</div>"
            ],
            "text/plain": [
              "         R-ref       G-ref       B-ref  ...  Shade-ref  Shade  Setting\n",
              "0   220.936531  220.209074  202.529502  ...         A1     A1     Set1\n",
              "1   217.240078  214.657333  189.242594  ...         A1     A2     Set1\n",
              "2   225.519520  221.238211  184.858047  ...         A1     A3     Set1\n",
              "3   218.265238  210.496794  168.388686  ...         A1   A3_5     Set1\n",
              "4   212.697184  204.803344  159.282201  ...         A1     A4     Set1\n",
              "5   219.457674  222.972080  209.860563  ...         A1     B1     Set1\n",
              "6   216.629576  216.669426  191.264670  ...         A1     B2     Set1\n",
              "7   227.410113  223.513595  178.867381  ...         A1     B3     Set1\n",
              "8   218.234884  213.238942  161.731759  ...         A1     B4     Set1\n",
              "9   215.407678  216.188134  196.216541  ...         A1     C1     Set1\n",
              "10  219.312556  215.597922  187.177096  ...         A1     C2     Set1\n",
              "11  216.841084  211.469767  174.474799  ...         A1     C3     Set1\n",
              "12  216.892947  209.578849  165.181641  ...         A1     C4     Set1\n",
              "13  226.250304  226.364418  206.890837  ...         A1     D2     Set1\n",
              "14  221.403052  217.426426  188.743933  ...         A1     D3     Set1\n",
              "15  216.892947  209.578849  165.181641  ...         A1     D4     Set1\n",
              "\n",
              "[16 rows x 15 columns]"
            ]
          },
          "metadata": {},
          "execution_count": 183
        }
      ]
    },
    {
      "cell_type": "markdown",
      "metadata": {
        "id": "uu6aqQG0n__j"
      },
      "source": [
        "#8.ชื่อตารางที่ต้องการเซฟ .to_csv(' ชื่อไฟล์ที่ต้องการ save )"
      ]
    },
    {
      "cell_type": "code",
      "metadata": {
        "id": "v1_LBtAuoFNH"
      },
      "source": [
        "df4.to_csv('ShadeSet4_A1 Guide.csv', index=False)"
      ],
      "execution_count": 184,
      "outputs": []
    }
  ]
}