{
  "nbformat": 4,
  "nbformat_minor": 0,
  "metadata": {
    "colab": {
      "name": " prepareSet4_A1.ipynb",
      "provenance": [],
      "include_colab_link": true
    },
    "kernelspec": {
      "name": "python3",
      "display_name": "Python 3"
    },
    "language_info": {
      "name": "python"
    }
  },
  "cells": [
    {
      "cell_type": "markdown",
      "metadata": {
        "id": "view-in-github",
        "colab_type": "text"
      },
      "source": [
        "<a href=\"https://colab.research.google.com/github/waraporn19/Project_2021_matchingcolor/blob/main/prepareSet4_A1.ipynb\" target=\"_parent\"><img src=\"https://colab.research.google.com/assets/colab-badge.svg\" alt=\"Open In Colab\"/></a>"
      ]
    },
    {
      "cell_type": "code",
      "metadata": {
        "id": "drOKqbUE2PnQ"
      },
      "source": [
        "import pandas as pd"
      ],
      "execution_count": 462,
      "outputs": []
    },
    {
      "cell_type": "code",
      "metadata": {
        "colab": {
          "base_uri": "https://localhost:8080/"
        },
        "id": "O7x0j_3c2Pjr",
        "outputId": "d53341e5-0161-4c3d-b96d-bc803ad05434"
      },
      "source": [
        "from google.colab import drive \n",
        "drive.mount('/content/drive')"
      ],
      "execution_count": 463,
      "outputs": [
        {
          "output_type": "stream",
          "name": "stdout",
          "text": [
            "Drive already mounted at /content/drive; to attempt to forcibly remount, call drive.mount(\"/content/drive\", force_remount=True).\n"
          ]
        }
      ]
    },
    {
      "cell_type": "code",
      "metadata": {
        "id": "lsGPiAcg2Pa7"
      },
      "source": [
        "import os"
      ],
      "execution_count": 464,
      "outputs": []
    },
    {
      "cell_type": "code",
      "metadata": {
        "id": "xGv3Ax6o251w"
      },
      "source": [
        "path = '/content/drive/My Drive/shadeimg'"
      ],
      "execution_count": 465,
      "outputs": []
    },
    {
      "cell_type": "code",
      "metadata": {
        "colab": {
          "base_uri": "https://localhost:8080/"
        },
        "id": "DK3-qllN3Huu",
        "outputId": "6dd51413-b471-475b-afd9-3dd961bf9859"
      },
      "source": [
        "os.listdir(path)"
      ],
      "execution_count": 466,
      "outputs": [
        {
          "output_type": "execute_result",
          "data": {
            "text/plain": [
              "['รูปฟัน07',\n",
              " '9-10 7 2021',\n",
              " '11 7 2021',\n",
              " 'ฟันสักอย่างจำวันไม่ได้',\n",
              " '1 teeth .gsheet',\n",
              " '16 8 2021',\n",
              " '17 8 2021',\n",
              " '2 teeth.gsheet',\n",
              " '1 teeth .xlsx',\n",
              " '2 teeth .xlsx']"
            ]
          },
          "metadata": {},
          "execution_count": 466
        }
      ]
    },
    {
      "cell_type": "code",
      "metadata": {
        "id": "qnyateeBbpSP",
        "colab": {
          "base_uri": "https://localhost:8080/"
        },
        "outputId": "e1d8c050-e456-49b1-80ed-cef7676ddd9f"
      },
      "source": [
        "!pip install azure-storage-blob==2.1.0"
      ],
      "execution_count": 467,
      "outputs": [
        {
          "output_type": "stream",
          "name": "stdout",
          "text": [
            "Requirement already satisfied: azure-storage-blob==2.1.0 in /usr/local/lib/python3.7/dist-packages (2.1.0)\n",
            "Requirement already satisfied: azure-storage-common~=2.1 in /usr/local/lib/python3.7/dist-packages (from azure-storage-blob==2.1.0) (2.1.0)\n",
            "Requirement already satisfied: azure-common>=1.1.5 in /usr/local/lib/python3.7/dist-packages (from azure-storage-blob==2.1.0) (1.1.27)\n",
            "Requirement already satisfied: cryptography in /usr/local/lib/python3.7/dist-packages (from azure-storage-common~=2.1->azure-storage-blob==2.1.0) (35.0.0)\n",
            "Requirement already satisfied: requests in /usr/local/lib/python3.7/dist-packages (from azure-storage-common~=2.1->azure-storage-blob==2.1.0) (2.23.0)\n",
            "Requirement already satisfied: python-dateutil in /usr/local/lib/python3.7/dist-packages (from azure-storage-common~=2.1->azure-storage-blob==2.1.0) (2.8.2)\n",
            "Requirement already satisfied: cffi>=1.12 in /usr/local/lib/python3.7/dist-packages (from cryptography->azure-storage-common~=2.1->azure-storage-blob==2.1.0) (1.14.6)\n",
            "Requirement already satisfied: pycparser in /usr/local/lib/python3.7/dist-packages (from cffi>=1.12->cryptography->azure-storage-common~=2.1->azure-storage-blob==2.1.0) (2.20)\n",
            "Requirement already satisfied: six>=1.5 in /usr/local/lib/python3.7/dist-packages (from python-dateutil->azure-storage-common~=2.1->azure-storage-blob==2.1.0) (1.15.0)\n",
            "Requirement already satisfied: idna<3,>=2.5 in /usr/local/lib/python3.7/dist-packages (from requests->azure-storage-common~=2.1->azure-storage-blob==2.1.0) (2.10)\n",
            "Requirement already satisfied: urllib3!=1.25.0,!=1.25.1,<1.26,>=1.21.1 in /usr/local/lib/python3.7/dist-packages (from requests->azure-storage-common~=2.1->azure-storage-blob==2.1.0) (1.24.3)\n",
            "Requirement already satisfied: certifi>=2017.4.17 in /usr/local/lib/python3.7/dist-packages (from requests->azure-storage-common~=2.1->azure-storage-blob==2.1.0) (2021.5.30)\n",
            "Requirement already satisfied: chardet<4,>=3.0.2 in /usr/local/lib/python3.7/dist-packages (from requests->azure-storage-common~=2.1->azure-storage-blob==2.1.0) (3.0.4)\n"
          ]
        }
      ]
    },
    {
      "cell_type": "code",
      "metadata": {
        "id": "uZRZcO80cxBH"
      },
      "source": [
        "from azure.storage.blob import BlockBlobService\n",
        "import os"
      ],
      "execution_count": 468,
      "outputs": []
    },
    {
      "cell_type": "code",
      "metadata": {
        "id": "tJVMV5DMcyJT"
      },
      "source": [
        "blob_service_client = BlockBlobService(account_name='dent01', account_key='CuShY0B4TZJ84TjzPpaHxyrHOpO73aGXeCpdVq7x26OjIlQ1HOz+3DVc9pDEj9BdcEL8odFuTRF0mOAE+aCgiw==')"
      ],
      "execution_count": 469,
      "outputs": []
    },
    {
      "cell_type": "markdown",
      "metadata": {
        "id": "nNqTWrPIc2qX"
      },
      "source": [
        "#1.สร้างตัวแปรเฉดไกด์"
      ]
    },
    {
      "cell_type": "markdown",
      "metadata": {
        "id": "XqAK-KJAIKhJ"
      },
      "source": [
        "#Set4"
      ]
    },
    {
      "cell_type": "code",
      "metadata": {
        "id": "kGBOLp-nN2D5"
      },
      "source": [
        "S4_doubleA1A1_1 = 'C3752024-70F6-407B-B596-E214E55D43EB.png'\n",
        "S4_doubleA1A2_1 = '953E3485-ACFA-4EDA-B270-F9AA84853C94.png'\n",
        "S4_doubleA1A3_1 = '83B80683-3A06-474F-90E6-62391CB7A3F6.png'\n",
        "S4_doubleA1A3_51 = '01BD2023-D6A1-4AAA-A5A6-F507208F8E54.png'\n",
        "S4_doubleA1A4_1 = '372CFE56-E625-434C-A2DC-0FEEB167DDBA.png'\n",
        "S4_doubleA1B1_1 = '35484F9C-7BCF-4C31-A381-CCC85035B5FE.png'\n",
        "S4_doubleA1B2_1 = '29140CD3-A1A5-448C-B825-7BCBA9431B85.png'\n",
        "S4_doubleA1B3_1 = '123A90E7-21CE-4D56-B992-62F16D74A8FE.png'\n",
        "S4_doubleA1B4_1 = 'E561F380-5A2D-496F-B9F3-4B9907F020D6.png'\n",
        "S4_doubleA1C1_1 = 'F3E98998-3329-49D5-8439-80F6AF00BFE3.png'\n",
        "S4_doubleA1C2_1 = '56D069F6-8B47-48B3-9C6E-25AD8751779A.png'\n",
        "S4_doubleA1C3_1 = '2F670532-3760-42FC-A982-1670FEE99E66.png'\n",
        "S4_doubleA1C4_1 = 'A40A09DE-DC0F-4A00-A891-F3D66A2F7CB5.png'\n",
        "S4_doubleA1D2_1 = 'E4566E8E-9E0D-4531-9712-5B47AE5386DE.png'\n",
        "S4_doubleA1D3_1 = '23C5E347-A9A1-466C-917D-E969268302DA.png'\n",
        "S4_doubleA1D4_1 = 'EFB719A3-D16E-42A3-861D-363E24755F58.png'"
      ],
      "execution_count": 470,
      "outputs": []
    },
    {
      "cell_type": "markdown",
      "metadata": {
        "id": "Taw1dl5xglaj"
      },
      "source": [
        "#2. ดึงรูป"
      ]
    },
    {
      "cell_type": "code",
      "metadata": {
        "id": "jPe2WlLY4J0n"
      },
      "source": [
        "import cv2\n",
        "from matplotlib import pyplot as plt #การเรียกใช้คำสั่ง matplotlib เพื่อวาดกราฟ โดยแทนชื่อ matplotlib ด้วย plt\n",
        "import matplotlib"
      ],
      "execution_count": 471,
      "outputs": []
    },
    {
      "cell_type": "markdown",
      "metadata": {
        "id": "2-qqdDCqkLii"
      },
      "source": [
        "##Set4"
      ]
    },
    {
      "cell_type": "code",
      "metadata": {
        "id": "4E1UeuklpZx4",
        "colab": {
          "base_uri": "https://localhost:8080/"
        },
        "outputId": "c0072a7c-a411-48e2-dd03-e986faa71ebd"
      },
      "source": [
        "full_path_to_file2 = os.path.join(S4_doubleA1A1_1) \n",
        "blob_service_client.get_blob_to_path('shadeimg', full_path_to_file2, full_path_to_file2)"
      ],
      "execution_count": 472,
      "outputs": [
        {
          "output_type": "execute_result",
          "data": {
            "text/plain": [
              "<azure.storage.blob.models.Blob at 0x7fd2c0303250>"
            ]
          },
          "metadata": {},
          "execution_count": 472
        }
      ]
    },
    {
      "cell_type": "code",
      "metadata": {
        "id": "VfaCxfJjpZx5",
        "colab": {
          "base_uri": "https://localhost:8080/"
        },
        "outputId": "242d623a-108f-48e7-eb05-9f71e7ead644"
      },
      "source": [
        "full_path_to_file2 = os.path.join(S4_doubleA1A2_1) \n",
        "blob_service_client.get_blob_to_path('shadeimg', full_path_to_file2, full_path_to_file2)"
      ],
      "execution_count": 473,
      "outputs": [
        {
          "output_type": "execute_result",
          "data": {
            "text/plain": [
              "<azure.storage.blob.models.Blob at 0x7fd2c29f8a50>"
            ]
          },
          "metadata": {},
          "execution_count": 473
        }
      ]
    },
    {
      "cell_type": "code",
      "metadata": {
        "id": "3zFh2y2IpZx5",
        "colab": {
          "base_uri": "https://localhost:8080/"
        },
        "outputId": "5dd3b7ff-7e47-479b-9625-3fd6b19299eb"
      },
      "source": [
        "full_path_to_file2 = os.path.join(S4_doubleA1A3_1) \n",
        "blob_service_client.get_blob_to_path('shadeimg', full_path_to_file2, full_path_to_file2)"
      ],
      "execution_count": 474,
      "outputs": [
        {
          "output_type": "execute_result",
          "data": {
            "text/plain": [
              "<azure.storage.blob.models.Blob at 0x7fd2c196bed0>"
            ]
          },
          "metadata": {},
          "execution_count": 474
        }
      ]
    },
    {
      "cell_type": "code",
      "metadata": {
        "id": "X_rktcv8pZx5",
        "colab": {
          "base_uri": "https://localhost:8080/"
        },
        "outputId": "5478c0e8-342d-4c52-94e1-c821b22c1bd0"
      },
      "source": [
        "full_path_to_file2 = os.path.join(S4_doubleA1A3_51) \n",
        "blob_service_client.get_blob_to_path('shadeimg', full_path_to_file2, full_path_to_file2)"
      ],
      "execution_count": 475,
      "outputs": [
        {
          "output_type": "execute_result",
          "data": {
            "text/plain": [
              "<azure.storage.blob.models.Blob at 0x7fd2c1304e50>"
            ]
          },
          "metadata": {},
          "execution_count": 475
        }
      ]
    },
    {
      "cell_type": "code",
      "metadata": {
        "id": "m59vf9VfpZx5",
        "colab": {
          "base_uri": "https://localhost:8080/"
        },
        "outputId": "a465c7c5-4a92-45b7-b548-7439fae248e9"
      },
      "source": [
        "full_path_to_file2 = os.path.join(S4_doubleA1A4_1) \n",
        "blob_service_client.get_blob_to_path('shadeimg', full_path_to_file2, full_path_to_file2)"
      ],
      "execution_count": 476,
      "outputs": [
        {
          "output_type": "execute_result",
          "data": {
            "text/plain": [
              "<azure.storage.blob.models.Blob at 0x7fd2c2987590>"
            ]
          },
          "metadata": {},
          "execution_count": 476
        }
      ]
    },
    {
      "cell_type": "code",
      "metadata": {
        "id": "D_5Yd3w7pZx6",
        "colab": {
          "base_uri": "https://localhost:8080/"
        },
        "outputId": "31a2cb3c-aab7-4282-dca8-c904c123545e"
      },
      "source": [
        "full_path_to_file2 = os.path.join(S4_doubleA1B1_1) \n",
        "blob_service_client.get_blob_to_path('shadeimg', full_path_to_file2, full_path_to_file2)"
      ],
      "execution_count": 477,
      "outputs": [
        {
          "output_type": "execute_result",
          "data": {
            "text/plain": [
              "<azure.storage.blob.models.Blob at 0x7fd2c2987b90>"
            ]
          },
          "metadata": {},
          "execution_count": 477
        }
      ]
    },
    {
      "cell_type": "code",
      "metadata": {
        "id": "RHWuivGUpZx6",
        "colab": {
          "base_uri": "https://localhost:8080/"
        },
        "outputId": "d153aa12-a5bc-4978-84f4-3686fc63c7a1"
      },
      "source": [
        "full_path_to_file2 = os.path.join(S4_doubleA1B2_1) \n",
        "blob_service_client.get_blob_to_path('shadeimg', full_path_to_file2, full_path_to_file2)"
      ],
      "execution_count": 478,
      "outputs": [
        {
          "output_type": "execute_result",
          "data": {
            "text/plain": [
              "<azure.storage.blob.models.Blob at 0x7fd2c2976510>"
            ]
          },
          "metadata": {},
          "execution_count": 478
        }
      ]
    },
    {
      "cell_type": "code",
      "metadata": {
        "id": "G5lF8IhzpZx6",
        "colab": {
          "base_uri": "https://localhost:8080/"
        },
        "outputId": "ae129e33-57f5-4d5b-f445-84ffa3381af5"
      },
      "source": [
        "full_path_to_file2 = os.path.join(S4_doubleA1B3_1) \n",
        "blob_service_client.get_blob_to_path('shadeimg', full_path_to_file2, full_path_to_file2)"
      ],
      "execution_count": 479,
      "outputs": [
        {
          "output_type": "execute_result",
          "data": {
            "text/plain": [
              "<azure.storage.blob.models.Blob at 0x7fd2c1322390>"
            ]
          },
          "metadata": {},
          "execution_count": 479
        }
      ]
    },
    {
      "cell_type": "code",
      "metadata": {
        "id": "N9xFdoP7pZx6",
        "colab": {
          "base_uri": "https://localhost:8080/"
        },
        "outputId": "43491f9c-0bb0-4bcd-98cf-402105df6377"
      },
      "source": [
        "full_path_to_file2 = os.path.join(S4_doubleA1B4_1) \n",
        "blob_service_client.get_blob_to_path('shadeimg', full_path_to_file2, full_path_to_file2)"
      ],
      "execution_count": 480,
      "outputs": [
        {
          "output_type": "execute_result",
          "data": {
            "text/plain": [
              "<azure.storage.blob.models.Blob at 0x7fd2c0520d50>"
            ]
          },
          "metadata": {},
          "execution_count": 480
        }
      ]
    },
    {
      "cell_type": "code",
      "metadata": {
        "id": "1dH05CslpZx6",
        "colab": {
          "base_uri": "https://localhost:8080/"
        },
        "outputId": "e21d0e5e-993f-41df-d7ab-fad0a5abc626"
      },
      "source": [
        "full_path_to_file2 = os.path.join(S4_doubleA1C1_1) \n",
        "blob_service_client.get_blob_to_path('shadeimg', full_path_to_file2, full_path_to_file2)"
      ],
      "execution_count": 481,
      "outputs": [
        {
          "output_type": "execute_result",
          "data": {
            "text/plain": [
              "<azure.storage.blob.models.Blob at 0x7fd2c030a410>"
            ]
          },
          "metadata": {},
          "execution_count": 481
        }
      ]
    },
    {
      "cell_type": "code",
      "metadata": {
        "id": "BWLm1RmLpZx7",
        "colab": {
          "base_uri": "https://localhost:8080/"
        },
        "outputId": "100e93ce-8c51-4628-842a-0c0bf50f3738"
      },
      "source": [
        "full_path_to_file2 = os.path.join(S4_doubleA1C2_1) \n",
        "blob_service_client.get_blob_to_path('shadeimg', full_path_to_file2, full_path_to_file2)"
      ],
      "execution_count": 482,
      "outputs": [
        {
          "output_type": "execute_result",
          "data": {
            "text/plain": [
              "<azure.storage.blob.models.Blob at 0x7fd2c0993410>"
            ]
          },
          "metadata": {},
          "execution_count": 482
        }
      ]
    },
    {
      "cell_type": "code",
      "metadata": {
        "id": "yvYHkKPYpZx7",
        "colab": {
          "base_uri": "https://localhost:8080/"
        },
        "outputId": "040c3a79-d080-4e59-a65f-3ae227137dce"
      },
      "source": [
        "full_path_to_file2 = os.path.join(S4_doubleA1C3_1) \n",
        "blob_service_client.get_blob_to_path('shadeimg', full_path_to_file2, full_path_to_file2)"
      ],
      "execution_count": 483,
      "outputs": [
        {
          "output_type": "execute_result",
          "data": {
            "text/plain": [
              "<azure.storage.blob.models.Blob at 0x7fd2c0993190>"
            ]
          },
          "metadata": {},
          "execution_count": 483
        }
      ]
    },
    {
      "cell_type": "code",
      "metadata": {
        "id": "XCLVoapQpZx7",
        "colab": {
          "base_uri": "https://localhost:8080/"
        },
        "outputId": "ddc4ec69-5fdd-43bb-a532-80746d3653ae"
      },
      "source": [
        "full_path_to_file2 = os.path.join(S4_doubleA1C4_1) \n",
        "blob_service_client.get_blob_to_path('shadeimg', full_path_to_file2, full_path_to_file2)"
      ],
      "execution_count": 484,
      "outputs": [
        {
          "output_type": "execute_result",
          "data": {
            "text/plain": [
              "<azure.storage.blob.models.Blob at 0x7fd2c1322290>"
            ]
          },
          "metadata": {},
          "execution_count": 484
        }
      ]
    },
    {
      "cell_type": "code",
      "metadata": {
        "id": "T99mwTaZpZx7",
        "colab": {
          "base_uri": "https://localhost:8080/"
        },
        "outputId": "21a60cbf-d7ed-4b18-f9b4-092e7ab3603a"
      },
      "source": [
        "full_path_to_file2 = os.path.join(S4_doubleA1D2_1) \n",
        "blob_service_client.get_blob_to_path('shadeimg', full_path_to_file2, full_path_to_file2)"
      ],
      "execution_count": 485,
      "outputs": [
        {
          "output_type": "execute_result",
          "data": {
            "text/plain": [
              "<azure.storage.blob.models.Blob at 0x7fd2c0675dd0>"
            ]
          },
          "metadata": {},
          "execution_count": 485
        }
      ]
    },
    {
      "cell_type": "code",
      "metadata": {
        "id": "vf1xxPF3pZx7",
        "colab": {
          "base_uri": "https://localhost:8080/"
        },
        "outputId": "250dca19-54bd-40b1-d539-252de98b3309"
      },
      "source": [
        "full_path_to_file2 = os.path.join(S4_doubleA1D3_1) \n",
        "blob_service_client.get_blob_to_path('shadeimg', full_path_to_file2, full_path_to_file2)"
      ],
      "execution_count": 486,
      "outputs": [
        {
          "output_type": "execute_result",
          "data": {
            "text/plain": [
              "<azure.storage.blob.models.Blob at 0x7fd2c05025d0>"
            ]
          },
          "metadata": {},
          "execution_count": 486
        }
      ]
    },
    {
      "cell_type": "code",
      "metadata": {
        "id": "ThZA9xm3pZx8",
        "colab": {
          "base_uri": "https://localhost:8080/"
        },
        "outputId": "09f6c278-3b1d-499d-b360-7e2c2b683ffb"
      },
      "source": [
        "full_path_to_file2 = os.path.join(S4_doubleA1D4_1) \n",
        "blob_service_client.get_blob_to_path('shadeimg', full_path_to_file2, full_path_to_file2)"
      ],
      "execution_count": 487,
      "outputs": [
        {
          "output_type": "execute_result",
          "data": {
            "text/plain": [
              "<azure.storage.blob.models.Blob at 0x7fd2c12fbbd0>"
            ]
          },
          "metadata": {},
          "execution_count": 487
        }
      ]
    },
    {
      "cell_type": "markdown",
      "metadata": {
        "id": "MtmXOojtqN4x"
      },
      "source": [
        "#3. BGR to RGB"
      ]
    },
    {
      "cell_type": "code",
      "metadata": {
        "id": "s8SS5YJfrpRC"
      },
      "source": [
        "import cv2\n",
        "from matplotlib import pyplot as plt #การเรียกใช้คำสั่ง matplotlib เพื่อวาดกราฟ โดยแทนชื่อ matplotlib ด้วย plt\n",
        "import matplotlib"
      ],
      "execution_count": 488,
      "outputs": []
    },
    {
      "cell_type": "markdown",
      "metadata": {
        "id": "apeGjiA79pJf"
      },
      "source": [
        "##Set4"
      ]
    },
    {
      "cell_type": "code",
      "metadata": {
        "id": "qYnoDJXh9q2j"
      },
      "source": [
        "imgS4_A1A1_1  = cv2.imread(S4_doubleA1A1_1)\n",
        "S4RGB_imgA1A1_1= cv2.cvtColor(imgS4_A1A1_1, cv2.COLOR_BGR2RGB)"
      ],
      "execution_count": 489,
      "outputs": []
    },
    {
      "cell_type": "code",
      "metadata": {
        "id": "0HkjhpAa9q2j"
      },
      "source": [
        "imgS4_A1A2_1  = cv2.imread(S4_doubleA1A2_1)\n",
        "S4RGB_imgA1A2_1= cv2.cvtColor(imgS4_A1A2_1, cv2.COLOR_BGR2RGB)"
      ],
      "execution_count": 490,
      "outputs": []
    },
    {
      "cell_type": "code",
      "metadata": {
        "id": "vSFzyH-B9q2j"
      },
      "source": [
        "imgS4_A1A3_1  = cv2.imread(S4_doubleA1A3_1)\n",
        "S4RGB_imgA1A3_1= cv2.cvtColor(imgS4_A1A3_1, cv2.COLOR_BGR2RGB)"
      ],
      "execution_count": 491,
      "outputs": []
    },
    {
      "cell_type": "code",
      "metadata": {
        "id": "NaSBU-__9q2j"
      },
      "source": [
        "imgS4_A1A3_51  = cv2.imread(S4_doubleA1A3_51)\n",
        "S4RGB_imgA1A3_51= cv2.cvtColor(imgS4_A1A3_51, cv2.COLOR_BGR2RGB)"
      ],
      "execution_count": 492,
      "outputs": []
    },
    {
      "cell_type": "code",
      "metadata": {
        "id": "I5kq2YcL9q2j"
      },
      "source": [
        "imgS4_A1A4_1  = cv2.imread(S4_doubleA1A4_1)\n",
        "S4RGB_imgA1A4_1= cv2.cvtColor(imgS4_A1A4_1, cv2.COLOR_BGR2RGB)"
      ],
      "execution_count": 493,
      "outputs": []
    },
    {
      "cell_type": "code",
      "metadata": {
        "id": "WPCZaErZ9q2j"
      },
      "source": [
        "imgS4_A1B1_1  = cv2.imread(S4_doubleA1B1_1)\n",
        "S4RGB_imgA1B1_1= cv2.cvtColor(imgS4_A1B1_1, cv2.COLOR_BGR2RGB)"
      ],
      "execution_count": 494,
      "outputs": []
    },
    {
      "cell_type": "code",
      "metadata": {
        "id": "9qoBo-Zb9q2k"
      },
      "source": [
        "imgS4_A1B2_1  = cv2.imread(S4_doubleA1B2_1)\n",
        "S4RGB_imgA1B2_1= cv2.cvtColor(imgS4_A1B2_1, cv2.COLOR_BGR2RGB)"
      ],
      "execution_count": 495,
      "outputs": []
    },
    {
      "cell_type": "code",
      "metadata": {
        "id": "kLOZsD239q2k"
      },
      "source": [
        "imgS4_A1B3_1  = cv2.imread(S4_doubleA1B3_1)\n",
        "S4RGB_imgA1B3_1= cv2.cvtColor(imgS4_A1B3_1, cv2.COLOR_BGR2RGB)"
      ],
      "execution_count": 496,
      "outputs": []
    },
    {
      "cell_type": "code",
      "metadata": {
        "id": "W-9c6qi39q2k"
      },
      "source": [
        "imgS4_A1B4_1  = cv2.imread(S4_doubleA1B4_1)\n",
        "S4RGB_imgA1B4_1= cv2.cvtColor(imgS4_A1B4_1, cv2.COLOR_BGR2RGB)"
      ],
      "execution_count": 497,
      "outputs": []
    },
    {
      "cell_type": "code",
      "metadata": {
        "id": "giX0rFy-9q2k"
      },
      "source": [
        "imgS4_A1C1_1  = cv2.imread(S4_doubleA1C1_1)\n",
        "S4RGB_imgA1C1_1= cv2.cvtColor(imgS4_A1C1_1, cv2.COLOR_BGR2RGB)"
      ],
      "execution_count": 498,
      "outputs": []
    },
    {
      "cell_type": "code",
      "metadata": {
        "id": "kqpXGtiz9q2k"
      },
      "source": [
        "imgS4_A1C2_1  = cv2.imread(S4_doubleA1C2_1)\n",
        "S4RGB_imgA1C2_1= cv2.cvtColor(imgS4_A1C2_1, cv2.COLOR_BGR2RGB)"
      ],
      "execution_count": 499,
      "outputs": []
    },
    {
      "cell_type": "code",
      "metadata": {
        "id": "4O0PjNu79q2k"
      },
      "source": [
        "imgS4_A1C3_1  = cv2.imread(S4_doubleA1C3_1)\n",
        "S4RGB_imgA1C3_1= cv2.cvtColor(imgS4_A1C3_1, cv2.COLOR_BGR2RGB)"
      ],
      "execution_count": 500,
      "outputs": []
    },
    {
      "cell_type": "code",
      "metadata": {
        "id": "J-WaIgA79q2l"
      },
      "source": [
        "imgS4_A1C4_1  = cv2.imread(S4_doubleA1C4_1)\n",
        "S4RGB_imgA1C4_1= cv2.cvtColor(imgS4_A1C4_1, cv2.COLOR_BGR2RGB)"
      ],
      "execution_count": 501,
      "outputs": []
    },
    {
      "cell_type": "code",
      "metadata": {
        "id": "vEXqhTbK9q2l"
      },
      "source": [
        "imgS4_A1D2_1  = cv2.imread(S4_doubleA1D2_1)\n",
        "S4RGB_imgA1D2_1= cv2.cvtColor(imgS4_A1D2_1, cv2.COLOR_BGR2RGB)"
      ],
      "execution_count": 502,
      "outputs": []
    },
    {
      "cell_type": "code",
      "metadata": {
        "id": "6N-qEwxX9q2l"
      },
      "source": [
        "imgS4_A1D3_1  = cv2.imread(S4_doubleA1D3_1)\n",
        "S4RGB_imgA1D3_1= cv2.cvtColor(imgS4_A1D3_1, cv2.COLOR_BGR2RGB)"
      ],
      "execution_count": 503,
      "outputs": []
    },
    {
      "cell_type": "code",
      "metadata": {
        "id": "UxGhWbV89q2l"
      },
      "source": [
        "imgS4_A1D4_1  = cv2.imread(S4_doubleA1D4_1)\n",
        "S4RGB_imgA1D4_1= cv2.cvtColor(imgS4_A1D4_1, cv2.COLOR_BGR2RGB)"
      ],
      "execution_count": 504,
      "outputs": []
    },
    {
      "cell_type": "markdown",
      "metadata": {
        "id": "4XyCaNz1YAzf"
      },
      "source": [
        "#4. ฺBGR TO HSV"
      ]
    },
    {
      "cell_type": "code",
      "metadata": {
        "id": "M3yXg2bFGiDP"
      },
      "source": [
        "S4_A1A1_1img  = cv2.imread(S4_doubleA1A1_1)\n",
        "S4HSV_imgA1A1_1= cv2.cvtColor(S4_A1A1_1img, cv2.COLOR_BGR2HSV)"
      ],
      "execution_count": 505,
      "outputs": []
    },
    {
      "cell_type": "code",
      "metadata": {
        "id": "lUK6mMoHGiDQ"
      },
      "source": [
        "S4HSV_imgA1A2_1= cv2.cvtColor(S4_A1A2_1img, cv2.COLOR_BGR2HSV)"
      ],
      "execution_count": 506,
      "outputs": []
    },
    {
      "cell_type": "code",
      "metadata": {
        "id": "Ft40vnznGiDQ"
      },
      "source": [
        "S4_A1A3_1img  = cv2.imread(S4_doubleA1A3_1)\n",
        "S4HSV_imgA1A3_1= cv2.cvtColor(S4_A1A3_1img, cv2.COLOR_BGR2HSV)"
      ],
      "execution_count": 507,
      "outputs": []
    },
    {
      "cell_type": "code",
      "metadata": {
        "id": "i7yBTQN2GiDQ"
      },
      "source": [
        "S4_A1A3_51img  = cv2.imread(S4_doubleA1A3_51)\n",
        "S4HSV_imgA1A3_51= cv2.cvtColor(S4_A1A3_51img, cv2.COLOR_BGR2HSV)"
      ],
      "execution_count": 508,
      "outputs": []
    },
    {
      "cell_type": "code",
      "metadata": {
        "id": "oTsC-5HUGiDQ"
      },
      "source": [
        "S4_A1A4_1img  = cv2.imread(S4_doubleA1A4_1)\n",
        "S4HSV_imgA1A4_1= cv2.cvtColor(S4_A1A4_1img, cv2.COLOR_BGR2HSV)"
      ],
      "execution_count": 509,
      "outputs": []
    },
    {
      "cell_type": "code",
      "metadata": {
        "id": "VPUDw1q4GiDQ"
      },
      "source": [
        "S4_A1B1_1img  = cv2.imread(S4_doubleA1B1_1)\n",
        "S4HSV_imgA1B1_1= cv2.cvtColor(S4_A1B1_1img, cv2.COLOR_BGR2HSV)"
      ],
      "execution_count": 510,
      "outputs": []
    },
    {
      "cell_type": "code",
      "metadata": {
        "id": "F1T3bnLzGiDR"
      },
      "source": [
        "S4_A1B2_1img  = cv2.imread(S4_doubleA1B2_1)\n",
        "S4HSV_imgA1B2_1= cv2.cvtColor(S4_A1B2_1img, cv2.COLOR_BGR2HSV)"
      ],
      "execution_count": 511,
      "outputs": []
    },
    {
      "cell_type": "code",
      "metadata": {
        "id": "pVRgjRHfGiDR"
      },
      "source": [
        "S4_A1B3_1img  = cv2.imread(S4_doubleA1B3_1)\n",
        "S4HSV_imgA1B3_1= cv2.cvtColor(S4_A1B3_1img, cv2.COLOR_BGR2HSV)"
      ],
      "execution_count": 512,
      "outputs": []
    },
    {
      "cell_type": "code",
      "metadata": {
        "id": "olwI8b3aGiDR"
      },
      "source": [
        "S4_A1B4_1img  = cv2.imread(S4_doubleA1B4_1)\n",
        "S4HSV_imgA1B4_1= cv2.cvtColor(S4_A1B4_1img, cv2.COLOR_BGR2HSV)"
      ],
      "execution_count": 513,
      "outputs": []
    },
    {
      "cell_type": "code",
      "metadata": {
        "id": "kHfZIcZ2GiDR"
      },
      "source": [
        "S4_A1C1_1img  = cv2.imread(S4_doubleA1C1_1)\n",
        "S4HSV_imgA1C1_1= cv2.cvtColor(S4_A1C1_1img, cv2.COLOR_BGR2HSV)"
      ],
      "execution_count": 514,
      "outputs": []
    },
    {
      "cell_type": "code",
      "metadata": {
        "id": "NTSQwF5LGiDR"
      },
      "source": [
        "S4_A1C2_1img  = cv2.imread(S4_doubleA1C2_1)\n",
        "S4HSV_imgA1C2_1= cv2.cvtColor(S4_A1C2_1img, cv2.COLOR_BGR2HSV)"
      ],
      "execution_count": 515,
      "outputs": []
    },
    {
      "cell_type": "code",
      "metadata": {
        "id": "gr5vzr-vGiDR"
      },
      "source": [
        "S4_A1C3_1img  = cv2.imread(S4_doubleA1C3_1)\n",
        "S4HSV_imgA1C3_1= cv2.cvtColor(S4_A1C3_1img, cv2.COLOR_BGR2HSV)"
      ],
      "execution_count": 516,
      "outputs": []
    },
    {
      "cell_type": "code",
      "metadata": {
        "id": "AlBSzxZPGiDS"
      },
      "source": [
        "S4_A1C4_1img  = cv2.imread(S4_doubleA1C4_1)\n",
        "S4HSV_imgA1C4_1= cv2.cvtColor(S4_A1C4_1img, cv2.COLOR_BGR2HSV)"
      ],
      "execution_count": 517,
      "outputs": []
    },
    {
      "cell_type": "code",
      "metadata": {
        "id": "AcccInfeGiDS"
      },
      "source": [
        "S4_A1D2_1img  = cv2.imread(S4_doubleA1D2_1)\n",
        "S4HSV_imgA1D2_1= cv2.cvtColor(S4_A1D2_1img, cv2.COLOR_BGR2HSV)"
      ],
      "execution_count": 518,
      "outputs": []
    },
    {
      "cell_type": "code",
      "metadata": {
        "id": "162xshkjGiDS"
      },
      "source": [
        "S4_A1D3_1img  = cv2.imread(S4_doubleA1D3_1)\n",
        "S4HSV_imgA1D3_1= cv2.cvtColor(S4_A1D3_1img, cv2.COLOR_BGR2HSV)"
      ],
      "execution_count": 519,
      "outputs": []
    },
    {
      "cell_type": "code",
      "metadata": {
        "id": "Et3h7SwjGiDS"
      },
      "source": [
        "S4_A1D4_1img  = cv2.imread(S4_doubleA1D4_1)\n",
        "S4HSV_imgA1D4_1= cv2.cvtColor(S4_A1D4_1img, cv2.COLOR_BGR2HSV)"
      ],
      "execution_count": 520,
      "outputs": []
    },
    {
      "cell_type": "markdown",
      "metadata": {
        "id": "UNtZVBz0CQoq"
      },
      "source": [
        "#5. ดึงสี"
      ]
    },
    {
      "cell_type": "markdown",
      "metadata": {
        "id": "sjUneh4RHb0T"
      },
      "source": [
        "\n",
        "###Set4"
      ]
    },
    {
      "cell_type": "markdown",
      "metadata": {
        "id": "QqYczmnFIqgb"
      },
      "source": [
        "##RGB"
      ]
    },
    {
      "cell_type": "code",
      "metadata": {
        "id": "Q2cfVpmuHf4m"
      },
      "source": [
        "S4A1_1= list()\n",
        "S4A1_2 = list()\n",
        "for i in range(S4RGB_imgA1A1_1.shape[0]): \n",
        "     for j in range(S4RGB_imgA1A1_1.shape[1]): \n",
        "                if 1770<i<1880 and 1700<j<1830 :\n",
        "                    S4A1_1.append(S4RGB_imgA1A1_1[i][j])\n",
        "                if 1770<i<1880 and 2015<j<2145 :\n",
        "                    S4A1_2.append(S4RGB_imgA1A1_1[i][j])   "
      ],
      "execution_count": 521,
      "outputs": []
    },
    {
      "cell_type": "code",
      "metadata": {
        "id": "Xz63JWZhHf4m"
      },
      "source": [
        "S4A1_3= list()\n",
        "S4A2_1 = list()\n",
        "for i in range(S4RGB_imgA1A2_1.shape[0]): \n",
        "     for j in range(S4RGB_imgA1A2_1.shape[1]): \n",
        "                if 1770<i<1880 and 1700<j<1830 :\n",
        "                    S4A1_3.append(S4RGB_imgA1A2_1[i][j])\n",
        "                if 1770<i<1880 and 2015<j<2145 :\n",
        "                    S4A2_1.append(S4RGB_imgA1A2_1[i][j])   "
      ],
      "execution_count": 522,
      "outputs": []
    },
    {
      "cell_type": "code",
      "metadata": {
        "id": "m0x_EYErHf4m"
      },
      "source": [
        "S4A1_4= list()\n",
        "S4A3_1 = list()\n",
        "for i in range(S4RGB_imgA1A3_1.shape[0]): \n",
        "     for j in range(S4RGB_imgA1A3_1.shape[1]): \n",
        "                if 1770<i<1880 and 1700<j<1830 :\n",
        "                    S4A1_4.append(S4RGB_imgA1A3_1[i][j])\n",
        "                if 1770<i<1880 and 2015<j<2145 :\n",
        "                    S4A3_1.append(S4RGB_imgA1A3_1[i][j])   "
      ],
      "execution_count": 523,
      "outputs": []
    },
    {
      "cell_type": "code",
      "metadata": {
        "id": "2fkBODCxHf4n"
      },
      "source": [
        "S4A1_5= list()\n",
        "S4A3_51 = list()\n",
        "for i in range(S4RGB_imgA1A3_51.shape[0]): \n",
        "     for j in range(S4RGB_imgA1A3_51.shape[1]): \n",
        "                if 1770<i<1880 and 1700<j<1830 :\n",
        "                    S4A1_5.append(S4RGB_imgA1A3_51[i][j])\n",
        "                if 1770<i<1880 and 2015<j<2145 :\n",
        "                    S4A3_51.append(S4RGB_imgA1A3_51[i][j])"
      ],
      "execution_count": 524,
      "outputs": []
    },
    {
      "cell_type": "code",
      "metadata": {
        "id": "2mpRtq-_Hf4n"
      },
      "source": [
        "S4A1_6= list()\n",
        "S4A4_1 = list()\n",
        "for i in range(S4RGB_imgA1A4_1.shape[0]): \n",
        "     for j in range(S4RGB_imgA1A4_1.shape[1]): \n",
        "                if 1770<i<1880 and 1700<j<1830 :\n",
        "                    S4A1_6.append(S4RGB_imgA1A4_1[i][j])\n",
        "                if 1770<i<1880 and 2015<j<2145 :\n",
        "                    S4A4_1.append(S4RGB_imgA1A4_1[i][j])"
      ],
      "execution_count": 525,
      "outputs": []
    },
    {
      "cell_type": "code",
      "metadata": {
        "id": "RA15r3vmHf4n"
      },
      "source": [
        "S4A1_7= list()\n",
        "S4B1_1 = list()\n",
        "for i in range(S4RGB_imgA1B1_1.shape[0]): \n",
        "     for j in range(S4RGB_imgA1B1_1.shape[1]): \n",
        "                if 1770<i<1880 and 1700<j<1830 :\n",
        "                    S4A1_7.append(S4RGB_imgA1B1_1[i][j])\n",
        "                if 1770<i<1880 and 2015<j<2145 :\n",
        "                    S4B1_1.append(S4RGB_imgA1B1_1[i][j])"
      ],
      "execution_count": 526,
      "outputs": []
    },
    {
      "cell_type": "code",
      "metadata": {
        "id": "iXmvLR4YHf4n"
      },
      "source": [
        "S4A1_8= list()\n",
        "S4B2_1 = list()\n",
        "for i in range(S4RGB_imgA1B2_1.shape[0]): \n",
        "     for j in range(S4RGB_imgA1B2_1.shape[1]): \n",
        "                if 1770<i<1880 and 1700<j<1830 :\n",
        "                    S4A1_8.append(S4RGB_imgA1B2_1[i][j])\n",
        "                if 1770<i<1880 and 2015<j<2145 :\n",
        "                    S4B2_1.append(S4RGB_imgA1B2_1[i][j])"
      ],
      "execution_count": 527,
      "outputs": []
    },
    {
      "cell_type": "code",
      "metadata": {
        "id": "Z3J6vrv5Hf4n"
      },
      "source": [
        "S4A1_9= list()\n",
        "S4B3_1 = list()\n",
        "for i in range(S4RGB_imgA1B3_1.shape[0]): \n",
        "     for j in range(S4RGB_imgA1B3_1.shape[1]): \n",
        "                if 1770<i<1880 and 1700<j<1830 :\n",
        "                    S4A1_9.append(S4RGB_imgA1B3_1[i][j])\n",
        "                if 1770<i<1880 and 2015<j<2145 :\n",
        "                    S4B3_1.append(S4RGB_imgA1B3_1[i][j])"
      ],
      "execution_count": 528,
      "outputs": []
    },
    {
      "cell_type": "code",
      "metadata": {
        "id": "mSdkq8vhHf4n"
      },
      "source": [
        "S4A1_10= list()\n",
        "S4B4_1 = list()\n",
        "for i in range(S4RGB_imgA1B4_1.shape[0]): \n",
        "     for j in range(S4RGB_imgA1B4_1.shape[1]): \n",
        "                if 1770<i<1880 and 1700<j<1830 :\n",
        "                    S4A1_10.append(S4RGB_imgA1B4_1[i][j])\n",
        "                if 1770<i<1880 and 2015<j<2145 :\n",
        "                    S4B4_1.append(S4RGB_imgA1B4_1[i][j])"
      ],
      "execution_count": 529,
      "outputs": []
    },
    {
      "cell_type": "code",
      "metadata": {
        "id": "-SK3SZSKHf4n"
      },
      "source": [
        "S4A1_11= list()\n",
        "S4C1_1 = list()\n",
        "for i in range(S4RGB_imgA1C1_1.shape[0]): \n",
        "     for j in range(S4RGB_imgA1C1_1.shape[1]): \n",
        "                if 1770<i<1880 and 1700<j<1830 :\n",
        "                    S4A1_11.append(S4RGB_imgA1C1_1[i][j])\n",
        "                if 1770<i<1880 and 2015<j<2145 :\n",
        "                    S4C1_1.append(S4RGB_imgA1C1_1[i][j])   "
      ],
      "execution_count": 530,
      "outputs": []
    },
    {
      "cell_type": "code",
      "metadata": {
        "id": "DwlieHawHf4n"
      },
      "source": [
        "S4A1_12= list()\n",
        "S4C2_1 = list()\n",
        "for i in range(S4RGB_imgA1C2_1.shape[0]): \n",
        "     for j in range(S4RGB_imgA1C2_1.shape[1]): \n",
        "                if 1770<i<1880 and 1700<j<1830 :\n",
        "                    S4A1_12.append(S4RGB_imgA1C2_1[i][j])\n",
        "                if 1770<i<1880 and 2015<j<2145 :\n",
        "                    S4C2_1.append(S4RGB_imgA1C2_1[i][j])   "
      ],
      "execution_count": 531,
      "outputs": []
    },
    {
      "cell_type": "code",
      "metadata": {
        "id": "U02tWxMMHf4o"
      },
      "source": [
        "S4A1_13= list()\n",
        "S4C3_1 = list()\n",
        "for i in range(S4RGB_imgA1C3_1.shape[0]): \n",
        "     for j in range(S4RGB_imgA1C3_1.shape[1]): \n",
        "                if 1770<i<1880 and 1700<j<1830 :\n",
        "                    S4A1_13.append(S4RGB_imgA1C3_1[i][j])\n",
        "                if 1770<i<1880 and 2015<j<2145 :\n",
        "                    S4C3_1.append(S4RGB_imgA1C3_1[i][j])   "
      ],
      "execution_count": 532,
      "outputs": []
    },
    {
      "cell_type": "code",
      "metadata": {
        "id": "pfOn-jLeHf4o"
      },
      "source": [
        "S4A1_14= list()\n",
        "S4C4_1 = list()\n",
        "for i in range(S4RGB_imgA1C4_1.shape[0]): \n",
        "     for j in range(S4RGB_imgA1C4_1.shape[1]): \n",
        "                if 1770<i<1880 and 1700<j<1830 :\n",
        "                    S4A1_14.append(S4RGB_imgA1C4_1[i][j])\n",
        "                if 1770<i<1880 and 2015<j<2145 :\n",
        "                    S4C4_1.append(S4RGB_imgA1C4_1[i][j])"
      ],
      "execution_count": 533,
      "outputs": []
    },
    {
      "cell_type": "code",
      "metadata": {
        "id": "AbnmV2_kHf4o"
      },
      "source": [
        "S4A1_15= list()\n",
        "S4D2_1 = list()\n",
        "for i in range(S4RGB_imgA1C2_1.shape[0]): \n",
        "     for j in range(S4RGB_imgA1D2_1.shape[1]): \n",
        "                if 1770<i<1880 and 1700<j<1830 :\n",
        "                    S4A1_15.append(S4RGB_imgA1D2_1[i][j])\n",
        "                if 1770<i<1880 and 2015<j<2145 :\n",
        "                    S4D2_1.append(S4RGB_imgA1D2_1[i][j])   "
      ],
      "execution_count": 534,
      "outputs": []
    },
    {
      "cell_type": "code",
      "metadata": {
        "id": "iDlwebCJHf4o"
      },
      "source": [
        "S4A1_16= list()\n",
        "S4D3_1 = list()\n",
        "for i in range(S4RGB_imgA1D3_1.shape[0]): \n",
        "     for j in range(S4RGB_imgA1D3_1.shape[1]): \n",
        "                if 1770<i<1880 and 1700<j<1830 :\n",
        "                    S4A1_16.append(S4RGB_imgA1D3_1[i][j])\n",
        "                if 1770<i<1880 and 2015<j<2145 :\n",
        "                    S4D3_1.append(S4RGB_imgA1D3_1[i][j])   "
      ],
      "execution_count": 535,
      "outputs": []
    },
    {
      "cell_type": "code",
      "metadata": {
        "id": "_tnuzvwuHf4o"
      },
      "source": [
        "S4A1_17= list()\n",
        "S4D4_1 = list()\n",
        "for i in range(S4RGB_imgA1D4_1.shape[0]): \n",
        "     for j in range(S4RGB_imgA1D4_1.shape[1]): \n",
        "                if 1770<i<1880 and 1700<j<1830 :\n",
        "                    S4A1_17.append(S4RGB_imgA1D4_1[i][j])\n",
        "                if 1770<i<1880 and 2015<j<2145 :\n",
        "                    S4D4_1.append(S4RGB_imgA1D4_1[i][j])"
      ],
      "execution_count": 536,
      "outputs": []
    },
    {
      "cell_type": "markdown",
      "metadata": {
        "id": "q0jR50JbIuL6"
      },
      "source": [
        "##HSV"
      ]
    },
    {
      "cell_type": "code",
      "metadata": {
        "id": "4uy8q9MWI1u_"
      },
      "source": [
        "S4A1_1= list()\n",
        "S4A1_2 = list()\n",
        "for i in range(S4HSV_imgA1A1_1.shape[0]): \n",
        "     for j in range(S4HSV_imgA1A1_1.shape[1]): \n",
        "                if 1770<i<1880 and 1700<j<1830 :\n",
        "                    S4A1_1.append(S4HSV_imgA1A1_1[i][j])\n",
        "                if 1770<i<1880 and 2015<j<2145 :\n",
        "                    S4A1_2.append(S4HSV_imgA1A1_1[i][j])   "
      ],
      "execution_count": 537,
      "outputs": []
    },
    {
      "cell_type": "code",
      "metadata": {
        "id": "MPWIFjZ6I1u_"
      },
      "source": [
        "S4A1_3= list()\n",
        "S4A2_1 = list()\n",
        "for i in range(S4HSV_imgA1A2_1.shape[0]): \n",
        "     for j in range(S4HSV_imgA1A2_1.shape[1]): \n",
        "                if 1770<i<1880 and 1700<j<1830 :\n",
        "                    S4A1_3.append(S4HSV_imgA1A2_1[i][j])\n",
        "                if 1770<i<1880 and 2015<j<2145 :\n",
        "                    S4A2_1.append(S4HSV_imgA1A2_1[i][j])   "
      ],
      "execution_count": 538,
      "outputs": []
    },
    {
      "cell_type": "code",
      "metadata": {
        "id": "FcUqJt2MI1u_"
      },
      "source": [
        "S4A1_4= list()\n",
        "S4A3_1 = list()\n",
        "for i in range(S4HSV_imgA1A3_1.shape[0]): \n",
        "     for j in range(S4HSV_imgA1A3_1.shape[1]): \n",
        "                if 1770<i<1880 and 1700<j<1830 :\n",
        "                    S4A1_4.append(S4HSV_imgA1A3_1[i][j])\n",
        "                if 1770<i<1880 and 2015<j<2145 :\n",
        "                    S4A3_1.append(S4HSV_imgA1A3_1[i][j])   "
      ],
      "execution_count": 539,
      "outputs": []
    },
    {
      "cell_type": "code",
      "metadata": {
        "id": "zT0Qr1JPI1u_"
      },
      "source": [
        "S4A1_5= list()\n",
        "S4A3_51 = list()\n",
        "for i in range(S4RGB_imgA1A3_51.shape[0]): \n",
        "     for j in range(S4RGB_imgA1A3_51.shape[1]): \n",
        "                if 1770<i<1880 and 1700<j<1830 :\n",
        "                    S4A1_5.append(S4RGB_imgA1A3_51[i][j])\n",
        "                if 1770<i<1880 and 2015<j<2145 :\n",
        "                    S4A3_51.append(S4RGB_imgA1A3_51[i][j])"
      ],
      "execution_count": 540,
      "outputs": []
    },
    {
      "cell_type": "code",
      "metadata": {
        "id": "J3vDN6EwI1vA"
      },
      "source": [
        "S4A1_6= list()\n",
        "S4A4_1 = list()\n",
        "for i in range(S4HSV_imgA1A4_1.shape[0]): \n",
        "     for j in range(S4HSV_imgA1A4_1.shape[1]): \n",
        "                if 1770<i<1880 and 1700<j<1830 :\n",
        "                    S4A1_6.append(S4HSV_imgA1A4_1[i][j])\n",
        "                if 1770<i<1880 and 2015<j<2145 :\n",
        "                    S4A4_1.append(S4HSV_imgA1A4_1[i][j])"
      ],
      "execution_count": 541,
      "outputs": []
    },
    {
      "cell_type": "code",
      "metadata": {
        "id": "R4slu2aII1vA"
      },
      "source": [
        "S4A1_7= list()\n",
        "S4B1_1 = list()\n",
        "for i in range(S4HSV_imgA1B1_1.shape[0]): \n",
        "     for j in range(S4HSV_imgA1B1_1.shape[1]): \n",
        "                if 1770<i<1880 and 1700<j<1830 :\n",
        "                    S4A1_7.append(S4HSV_imgA1B1_1[i][j])\n",
        "                if 1770<i<1880 and 2015<j<2145 :\n",
        "                    S4B1_1.append(S4HSV_imgA1B1_1[i][j])"
      ],
      "execution_count": 542,
      "outputs": []
    },
    {
      "cell_type": "code",
      "metadata": {
        "id": "pQsS08lUI1vA"
      },
      "source": [
        "S4A1_8= list()\n",
        "S4B2_1 = list()\n",
        "for i in range(S4HSV_imgA1B2_1.shape[0]): \n",
        "     for j in range(S4HSV_imgA1B2_1.shape[1]): \n",
        "                if 1770<i<1880 and 1700<j<1830 :\n",
        "                    S4A1_8.append(S4HSV_imgA1B2_1[i][j])\n",
        "                if 1770<i<1880 and 2015<j<2145 :\n",
        "                    S4B2_1.append(S4HSV_imgA1B2_1[i][j])"
      ],
      "execution_count": 543,
      "outputs": []
    },
    {
      "cell_type": "code",
      "metadata": {
        "id": "D-m24sUJI1vA"
      },
      "source": [
        "S4A1_9= list()\n",
        "S4B3_1 = list()\n",
        "for i in range(S4HSV_imgA1B3_1.shape[0]): \n",
        "     for j in range(S4HSV_imgA1B3_1.shape[1]): \n",
        "                if 1770<i<1880 and 1700<j<1830 :\n",
        "                    S4A1_9.append(S4HSV_imgA1B3_1[i][j])\n",
        "                if 1770<i<1880 and 2015<j<2145 :\n",
        "                    S4B3_1.append(S4HSV_imgA1B3_1[i][j])"
      ],
      "execution_count": 544,
      "outputs": []
    },
    {
      "cell_type": "code",
      "metadata": {
        "id": "lec05Gg-I1vB"
      },
      "source": [
        "S4A1_10= list()\n",
        "S4B4_1 = list()\n",
        "for i in range(S4HSV_imgA1B4_1.shape[0]): \n",
        "     for j in range(S4HSV_imgA1B4_1.shape[1]): \n",
        "                if 1770<i<1880 and 1700<j<1830 :\n",
        "                    S4A1_10.append(S4HSV_imgA1B4_1[i][j])\n",
        "                if 1770<i<1880 and 2015<j<2145 :\n",
        "                    S4B4_1.append(S4HSV_imgA1B4_1[i][j])"
      ],
      "execution_count": 545,
      "outputs": []
    },
    {
      "cell_type": "code",
      "metadata": {
        "id": "KupTB_eLI1vB"
      },
      "source": [
        "S4A1_11= list()\n",
        "S4C1_1 = list()\n",
        "for i in range(S4HSV_imgA1C1_1.shape[0]): \n",
        "     for j in range(S4HSV_imgA1C1_1.shape[1]): \n",
        "                if 1770<i<1880 and 1700<j<1830 :\n",
        "                    S4A1_11.append(S4HSV_imgA1C1_1[i][j])\n",
        "                if 1770<i<1880 and 2015<j<2145 :\n",
        "                    S4C1_1.append(S4HSV_imgA1C1_1[i][j])   "
      ],
      "execution_count": 546,
      "outputs": []
    },
    {
      "cell_type": "code",
      "metadata": {
        "id": "7OjCZ14YI1vB"
      },
      "source": [
        "S4A1_12= list()\n",
        "S4C2_1 = list()\n",
        "for i in range(S4HSV_imgA1C2_1.shape[0]): \n",
        "     for j in range(S4HSV_imgA1C2_1.shape[1]): \n",
        "                if 1770<i<1880 and 1700<j<1830 :\n",
        "                    S4A1_12.append(S4HSV_imgA1C2_1[i][j])\n",
        "                if 1770<i<1880 and 2015<j<2145 :\n",
        "                    S4C2_1.append(S4HSV_imgA1C2_1[i][j])   "
      ],
      "execution_count": 547,
      "outputs": []
    },
    {
      "cell_type": "code",
      "metadata": {
        "id": "D_n3ALo6I1vB"
      },
      "source": [
        "S4A1_13= list()\n",
        "S4C3_1 = list()\n",
        "for i in range(S4HSV_imgA1C3_1.shape[0]): \n",
        "     for j in range(S4HSV_imgA1C3_1.shape[1]): \n",
        "                if 1770<i<1880 and 1700<j<1830 :\n",
        "                    S4A1_13.append(S4HSV_imgA1C3_1[i][j])\n",
        "                if 1770<i<1880 and 2015<j<2145 :\n",
        "                    S4C3_1.append(S4HSV_imgA1C3_1[i][j])   "
      ],
      "execution_count": 548,
      "outputs": []
    },
    {
      "cell_type": "code",
      "metadata": {
        "id": "TD6tGC45I1vB"
      },
      "source": [
        "S4A1_14= list()\n",
        "S4C4_1 = list()\n",
        "for i in range(S4HSV_imgA1C4_1.shape[0]): \n",
        "     for j in range(S4HSV_imgA1C4_1.shape[1]): \n",
        "                if 1770<i<1880 and 1700<j<1830 :\n",
        "                    S4A1_14.append(S4HSV_imgA1C4_1[i][j])\n",
        "                if 1770<i<1880 and 2015<j<2145 :\n",
        "                    S4C4_1.append(S4HSV_imgA1C4_1[i][j])"
      ],
      "execution_count": 549,
      "outputs": []
    },
    {
      "cell_type": "code",
      "metadata": {
        "id": "URasAEKiI1vC"
      },
      "source": [
        "S4A1_15= list()\n",
        "S4D2_1 = list()\n",
        "for i in range(S4HSV_imgA1C2_1.shape[0]): \n",
        "     for j in range(S4HSV_imgA1D2_1.shape[1]): \n",
        "                if 1770<i<1880 and 1700<j<1830 :\n",
        "                    S4A1_15.append(S4HSV_imgA1D2_1[i][j])\n",
        "                if 1770<i<1880 and 2015<j<2145 :\n",
        "                    S4D2_1.append(S4HSV_imgA1D2_1[i][j])   "
      ],
      "execution_count": 550,
      "outputs": []
    },
    {
      "cell_type": "code",
      "metadata": {
        "id": "WXJUI3CWI1vC"
      },
      "source": [
        "S4A1_16= list()\n",
        "S4D3_1 = list()\n",
        "for i in range(S4HSV_imgA1D3_1.shape[0]): \n",
        "     for j in range(S4HSV_imgA1D3_1.shape[1]): \n",
        "                if 1770<i<1880 and 1700<j<1830 :\n",
        "                    S4A1_16.append(S4HSV_imgA1D3_1[i][j])\n",
        "                if 1770<i<1880 and 2015<j<2145 :\n",
        "                    S4D3_1.append(S4HSV_imgA1D3_1[i][j])   "
      ],
      "execution_count": 551,
      "outputs": []
    },
    {
      "cell_type": "code",
      "metadata": {
        "id": "EurAKruyI1vC"
      },
      "source": [
        "S4A1_17= list()\n",
        "S4D4_1 = list()\n",
        "for i in range(S4HSV_imgA1D4_1.shape[0]): \n",
        "     for j in range(S4HSV_imgA1D4_1.shape[1]): \n",
        "                if 1770<i<1880 and 1700<j<1830 :\n",
        "                    S4A1_17.append(S4HSV_imgA1D4_1[i][j])\n",
        "                if 1770<i<1880 and 2015<j<2145 :\n",
        "                    S4D4_1.append(S4HSV_imgA1D4_1[i][j])"
      ],
      "execution_count": 552,
      "outputs": []
    },
    {
      "cell_type": "markdown",
      "metadata": {
        "id": "7KPqBEcdIXnZ"
      },
      "source": [
        "#6. หาค่า Mean"
      ]
    },
    {
      "cell_type": "code",
      "metadata": {
        "id": "tePep_ujIfg2"
      },
      "source": [
        "import numpy as np"
      ],
      "execution_count": 553,
      "outputs": []
    },
    {
      "cell_type": "markdown",
      "metadata": {
        "id": "W1Nj-675OLxB"
      },
      "source": [
        "##Set4"
      ]
    },
    {
      "cell_type": "markdown",
      "metadata": {
        "id": "OVWde62WJ576"
      },
      "source": [
        "##RGB"
      ]
    },
    {
      "cell_type": "code",
      "metadata": {
        "id": "9qe-b3RQTFI1"
      },
      "source": [
        "S4meanrefA1_1 = list()\n",
        "S4meanA1_2 = list()\n",
        "for i in range(S4RGB_imgA1A1_1.shape[0]): #ให้ i รันตาม row หรือ shape[0] คือแถว มีทั้งหมด 4032 แถว ของภาพที่ปรับขนาดมาแล้ว\n",
        "     for j in range(S4RGB_imgA1A1_1.shape[1]): #ให้ j รันตาม colum มีทั้งหมด 3024 colum เช่น แถวที่ 1 เข้ามาให้รันครบ 3024colum\n",
        "                if 1769<i<1881 and 2019<j<2131 :\n",
        "                  S4meanrefA1_1.append(S4RGB_imgA1A1_1[i][j])\n",
        "                if 1770<i<1880 and 2015<j<2145 :\n",
        "                  S4meanA1_2.append(S4RGB_imgA1A1_1[i][j])  \n",
        "S4meanrefA1_1 = np.array(S4meanrefA1_1)\n",
        "S4meanA1_2 = np.array(S4meanA1_2)\n",
        "\n",
        "S4labrefA1_1 = list()\n",
        "S4labA1_2 = list()\n",
        "for i in range(3):\n",
        "    S4labrefA1_1.append(S4meanrefA1_1[:,i].mean())\n",
        "    S4labA1_2.append(S4meanA1_2[:,i].mean()) "
      ],
      "execution_count": 554,
      "outputs": []
    },
    {
      "cell_type": "code",
      "metadata": {
        "id": "9PmGY8ytTFI1"
      },
      "source": [
        "S4meanrefA1_3 = list()\n",
        "S4meanA2_1 = list()\n",
        "for i in range(S4RGB_imgA1A2_1.shape[0]): \n",
        "     for j in range(S4RGB_imgA1A2_1.shape[1]): \n",
        "                if 1769<i<1881 and 2019<j<2131 :\n",
        "                  S4meanrefA1_3.append(S4RGB_imgA1A2_1[i][j])\n",
        "                if 1770<i<1880 and 2015<j<2145 :\n",
        "                  S4meanA2_1.append(S4RGB_imgA1A2_1[i][j])  \n",
        "S4meanrefA1_3 = np.array(S4meanrefA1_3)\n",
        "S4meanA2_1 = np.array(S4meanA2_1)\n",
        "\n",
        "S4labrefA1_3 = list()\n",
        "S4labA2_1 = list()\n",
        "for i in range(3):\n",
        "    S4labrefA1_3.append(S4meanrefA1_3[:,i].mean())\n",
        "    S4labA2_1.append(S4meanA2_1[:,i].mean())"
      ],
      "execution_count": 555,
      "outputs": []
    },
    {
      "cell_type": "code",
      "metadata": {
        "id": "VkmexGJeTFI2"
      },
      "source": [
        "S4meanrefA1_4 = list()\n",
        "S4meanA3_1 = list()\n",
        "for i in range(S4RGB_imgA1A3_1.shape[0]): \n",
        "     for j in range(S4RGB_imgA1A3_1.shape[1]): \n",
        "                if 1769<i<1881 and 2019<j<2131 :\n",
        "                  S4meanrefA1_4.append(S4RGB_imgA1A3_1[i][j])\n",
        "                if 1770<i<1880 and 2015<j<2145 :\n",
        "                  S4meanA3_1.append(S4RGB_imgA1A3_1[i][j])  \n",
        "S4meanrefA1_4 = np.array(S4meanrefA1_4)\n",
        "S4meanA3_1 = np.array(S4meanA3_1)\n",
        "\n",
        "S4labrefA1_4 = list()\n",
        "S4labA3_1 = list()\n",
        "for i in range(3):\n",
        "    S4labrefA1_4.append(S4meanrefA1_4[:,i].mean())\n",
        "    S4labA3_1.append(S4meanA3_1[:,i].mean())"
      ],
      "execution_count": 556,
      "outputs": []
    },
    {
      "cell_type": "code",
      "metadata": {
        "id": "ydYPsKzWTFI2"
      },
      "source": [
        "S4meanrefA1_5 = list()\n",
        "S4meanA3_51 = list()\n",
        "for i in range(S4RGB_imgA1A3_51.shape[0]): \n",
        "     for j in range(S4RGB_imgA1A3_51.shape[1]): \n",
        "                if 1769<i<1881 and 2019<j<2131 :\n",
        "                  S4meanrefA1_5.append(S4RGB_imgA1A3_51[i][j])\n",
        "                if 1770<i<1880 and 2015<j<2145 :\n",
        "                  S4meanA3_51.append(S4RGB_imgA1A3_51[i][j])  \n",
        "S4meanrefA1_5 = np.array(S4meanrefA1_5)\n",
        "S4meanA3_51 = np.array(S4meanA3_51)\n",
        "\n",
        "S4labrefA1_5 = list()\n",
        "S4labA3_51 = list()\n",
        "for i in range(3):\n",
        "    S4labrefA1_5.append(S4meanrefA1_5[:,i].mean())\n",
        "    S4labA3_51.append(S4meanA3_51[:,i].mean())"
      ],
      "execution_count": 557,
      "outputs": []
    },
    {
      "cell_type": "code",
      "metadata": {
        "id": "tvR2Ob8sTFI2"
      },
      "source": [
        "S4meanrefA1_6 = list()\n",
        "S4meanA4_1 = list()\n",
        "for i in range(S4RGB_imgA1A4_1.shape[0]): \n",
        "     for j in range(S4RGB_imgA1A4_1.shape[1]): \n",
        "                if 1769<i<1881 and 2019<j<2131 :\n",
        "                  S4meanrefA1_6.append(S4RGB_imgA1A4_1[i][j])\n",
        "                if 1770<i<1880 and 2015<j<2145 :\n",
        "                  S4meanA4_1.append(S4RGB_imgA1A4_1[i][j])  \n",
        "S4meanrefA1_6 = np.array(S4meanrefA1_6)\n",
        "S4meanA4_1 = np.array(S4meanA4_1)\n",
        "\n",
        "S4labrefA1_6 = list()\n",
        "S4labA4_1 = list()\n",
        "for i in range(3):\n",
        "    S4labrefA1_6.append(S4meanrefA1_6[:,i].mean())\n",
        "    S4labA4_1.append(S4meanA4_1[:,i].mean())"
      ],
      "execution_count": 558,
      "outputs": []
    },
    {
      "cell_type": "code",
      "metadata": {
        "id": "Ljpq0nVwTFI2"
      },
      "source": [
        "S4meanrefA1_7 = list()\n",
        "S4meanB1_1 = list()\n",
        "for i in range(S4RGB_imgA1B1_1.shape[0]): \n",
        "     for j in range(S4RGB_imgA1B1_1.shape[1]): \n",
        "                if 1769<i<1881 and 2019<j<2131 :\n",
        "                  S4meanrefA1_7.append(S4RGB_imgA1B1_1[i][j])\n",
        "                if 1770<i<1880 and 2015<j<2145 :\n",
        "                  S4meanB1_1.append(S4RGB_imgA1B1_1[i][j])  \n",
        "S4meanrefA1_7 = np.array(S4meanrefA1_7)\n",
        "S4meanB1_1 = np.array(S4meanB1_1)\n",
        "\n",
        "S4labrefA1_7 = list()\n",
        "S4labB1_1 = list()\n",
        "for i in range(3):\n",
        "    S4labrefA1_7.append(S4meanrefA1_7[:,i].mean())\n",
        "    S4labB1_1.append(S4meanB1_1[:,i].mean())"
      ],
      "execution_count": 559,
      "outputs": []
    },
    {
      "cell_type": "code",
      "metadata": {
        "id": "Zl5OV1WkTFI2"
      },
      "source": [
        "S4meanrefA1_8 = list()\n",
        "S4meanB2_1 = list()\n",
        "for i in range(S4RGB_imgA1B2_1.shape[0]): \n",
        "     for j in range(S4RGB_imgA1B2_1.shape[1]): \n",
        "                if 1769<i<1881 and 2019<j<2131 :\n",
        "                  S4meanrefA1_8.append(S4RGB_imgA1B2_1[i][j])\n",
        "                if 1770<i<1880 and 2015<j<2145 :\n",
        "                  S4meanB2_1.append(S4RGB_imgA1B2_1[i][j])  \n",
        "S4meanrefA1_8 = np.array(S4meanrefA1_8)\n",
        "S4meanB2_1 = np.array(S4meanB2_1)\n",
        "\n",
        "S4labrefA1_8 = list()\n",
        "S4labB2_1 = list()\n",
        "for i in range(3):\n",
        "    S4labrefA1_8.append(S4meanrefA1_8[:,i].mean())\n",
        "    S4labB2_1.append(S4meanB2_1[:,i].mean())"
      ],
      "execution_count": 560,
      "outputs": []
    },
    {
      "cell_type": "code",
      "metadata": {
        "id": "5U29cW4STFI2"
      },
      "source": [
        "S4meanrefA1_9 = list()\n",
        "S4meanB3_1 = list()\n",
        "for i in range(S4RGB_imgA1B3_1.shape[0]): \n",
        "     for j in range(S4RGB_imgA1B3_1.shape[1]): \n",
        "                if 1769<i<1881 and 2019<j<2131 :\n",
        "                  S4meanrefA1_9.append(S4RGB_imgA1B3_1[i][j])\n",
        "                if 1770<i<1880 and 2015<j<2145 :\n",
        "                  S4meanB3_1.append(S4RGB_imgA1B3_1[i][j])  \n",
        "S4meanrefA1_9 = np.array(S4meanrefA1_9)\n",
        "S4meanB3_1 = np.array(S4meanB3_1)\n",
        "\n",
        "S4labrefA1_9 = list()\n",
        "S4labB3_1 = list()\n",
        "for i in range(3):\n",
        "    S4labrefA1_9.append(S4meanrefA1_9[:,i].mean())\n",
        "    S4labB3_1.append(S4meanB3_1[:,i].mean())"
      ],
      "execution_count": 561,
      "outputs": []
    },
    {
      "cell_type": "code",
      "metadata": {
        "id": "R2NA3evqTFI2"
      },
      "source": [
        "S4meanrefA1_10 = list()\n",
        "S4meanB4_1 = list()\n",
        "for i in range(S4RGB_imgA1B4_1.shape[0]): \n",
        "     for j in range(S4RGB_imgA1B4_1.shape[1]): \n",
        "                if 1769<i<1881 and 2019<j<2131 :\n",
        "                  S4meanrefA1_10.append(S4RGB_imgA1B4_1[i][j])\n",
        "                if 1770<i<1880 and 2015<j<2145 :\n",
        "                  S4meanB4_1.append(S4RGB_imgA1B4_1[i][j])  \n",
        "S4meanrefA1_10 = np.array(S4meanrefA1_10)\n",
        "S4meanB4_1 = np.array(S4meanB4_1)\n",
        "\n",
        "S4labrefA1_10 = list()\n",
        "S4labB4_1 = list()\n",
        "for i in range(3):\n",
        "    S4labrefA1_10.append(S4meanrefA1_10[:,i].mean())\n",
        "    S4labB4_1.append(S4meanB4_1[:,i].mean())"
      ],
      "execution_count": 562,
      "outputs": []
    },
    {
      "cell_type": "code",
      "metadata": {
        "id": "no0v_IJvTFI2"
      },
      "source": [
        "S4meanrefA1_11 = list()\n",
        "S4meanC1_1 = list()\n",
        "for i in range(S4RGB_imgA1C1_1.shape[0]): \n",
        "     for j in range(S4RGB_imgA1C1_1.shape[1]): \n",
        "                if 1769<i<1881 and 2019<j<2131 :\n",
        "                  S4meanrefA1_11.append(S4RGB_imgA1C1_1[i][j])\n",
        "                if 1770<i<1880 and 2015<j<2145 :\n",
        "                  S4meanC1_1.append(S4RGB_imgA1C1_1[i][j])  \n",
        "S4meanrefA1_11 = np.array(S4meanrefA1_11)\n",
        "S4meanC1_1 = np.array(S4meanC1_1)\n",
        "\n",
        "S4labrefA1_11 = list()\n",
        "S4labC1_1 = list()\n",
        "for i in range(3):\n",
        "    S4labrefA1_7.append(S4meanrefA1_11[:,i].mean())\n",
        "    S4labC1_1.append(S4meanC1_1[:,i].mean())"
      ],
      "execution_count": 563,
      "outputs": []
    },
    {
      "cell_type": "code",
      "metadata": {
        "id": "tk2Tjx-xTFI2"
      },
      "source": [
        "S4meanrefA1_12 = list()\n",
        "S4meanC2_1 = list()\n",
        "for i in range(S4RGB_imgA1C2_1.shape[0]): \n",
        "     for j in range(S4RGB_imgA1C2_1.shape[1]): \n",
        "                if 1769<i<1881 and 2019<j<2131 :\n",
        "                  S4meanrefA1_12.append(S4RGB_imgA1C2_1[i][j])\n",
        "                if 1770<i<1880 and 2015<j<2145 :\n",
        "                  S4meanC2_1.append(S4RGB_imgA1C2_1[i][j])  \n",
        "S4meanrefA1_12 = np.array(S4meanrefA1_12)\n",
        "S4meanC2_1 = np.array(S4meanC2_1)\n",
        "\n",
        "S4labrefA1_12 = list()\n",
        "S4labC2_1 = list()\n",
        "for i in range(3):\n",
        "    S4labrefA1_12.append(S4meanrefA1_12[:,i].mean())\n",
        "    S4labC2_1.append(S4meanC2_1[:,i].mean())"
      ],
      "execution_count": 564,
      "outputs": []
    },
    {
      "cell_type": "code",
      "metadata": {
        "id": "C4OzI5irTFI3"
      },
      "source": [
        "S4meanrefA1_13 = list()\n",
        "S4meanC3_1 = list()\n",
        "for i in range(S4RGB_imgA1C3_1.shape[0]): \n",
        "     for j in range(S4RGB_imgA1C3_1.shape[1]): \n",
        "                if 1769<i<1881 and 2019<j<2131 :\n",
        "                  S4meanrefA1_13.append(S4RGB_imgA1C3_1[i][j])\n",
        "                if 1770<i<1880 and 2015<j<2145 :\n",
        "                  S4meanC3_1.append(S4RGB_imgA1C3_1[i][j])  \n",
        "S4meanrefA1_13 = np.array(S4meanrefA1_13)\n",
        "S4meanC3_1 = np.array(S4meanC3_1)\n",
        "\n",
        "S4labrefA1_13 = list()\n",
        "S4labC3_1 = list()\n",
        "for i in range(3):\n",
        "    S4labrefA1_13.append(S4meanrefA1_13[:,i].mean())\n",
        "    S4labC3_1.append(S4meanC3_1[:,i].mean())"
      ],
      "execution_count": 565,
      "outputs": []
    },
    {
      "cell_type": "code",
      "metadata": {
        "id": "rmEhD3fATFI3"
      },
      "source": [
        "S4meanrefA1_14 = list()\n",
        "S4meanC4_1 = list()\n",
        "for i in range(S4RGB_imgA1C4_1.shape[0]): \n",
        "     for j in range(S4RGB_imgA1C4_1.shape[1]): \n",
        "                if 1769<i<1881 and 2019<j<2131 :\n",
        "                  S4meanrefA1_14.append(S4RGB_imgA1C4_1[i][j])\n",
        "                if 1770<i<1880 and 2015<j<2145 :\n",
        "                  S4meanC4_1.append(S4RGB_imgA1C4_1[i][j])  \n",
        "S4meanrefA1_14 = np.array(S4meanrefA1_14)\n",
        "S4meanC4_1 = np.array(S4meanC4_1)\n",
        "\n",
        "S4labrefA1_14 = list()\n",
        "S4labC4_1 = list()\n",
        "for i in range(3):\n",
        "    S4labrefA1_14.append(S4meanrefA1_14[:,i].mean())\n",
        "    S4labC4_1.append(S4meanC4_1[:,i].mean())"
      ],
      "execution_count": 566,
      "outputs": []
    },
    {
      "cell_type": "code",
      "metadata": {
        "id": "ZAIAbO_iTFI3"
      },
      "source": [
        "S4meanrefA1_15 = list()\n",
        "S4meanD2_1 = list()\n",
        "for i in range(S4RGB_imgA1D2_1.shape[0]): \n",
        "     for j in range(S4RGB_imgA1D2_1.shape[1]): \n",
        "                if 1769<i<1881 and 2019<j<2131 :\n",
        "                  S4meanrefA1_15.append(S4RGB_imgA1D2_1[i][j])\n",
        "                if 1770<i<1880 and 2015<j<2145 :\n",
        "                  S4meanD2_1.append(S4RGB_imgA1D2_1[i][j])  \n",
        "S4meanrefA1_15 = np.array(S4meanrefA1_15)\n",
        "S4meanD2_1 = np.array(S4meanD2_1)\n",
        "\n",
        "S4labrefA1_15 = list()\n",
        "S4labD2_1 = list()\n",
        "for i in range(3):\n",
        "    S4labrefA1_15.append(S4meanrefA1_15[:,i].mean())\n",
        "    S4labD2_1.append(S4meanD2_1[:,i].mean())"
      ],
      "execution_count": 567,
      "outputs": []
    },
    {
      "cell_type": "code",
      "metadata": {
        "id": "hTJKOPrTTFI3"
      },
      "source": [
        "S4meanrefA1_16 = list()\n",
        "S4meanD3_1 = list()\n",
        "for i in range(S4RGB_imgA1D3_1.shape[0]): \n",
        "     for j in range(S4RGB_imgA1D3_1.shape[1]): \n",
        "                if 1769<i<1881 and 2019<j<2131 :\n",
        "                  S4meanrefA1_16.append(S4RGB_imgA1D3_1[i][j])\n",
        "                if 1770<i<1880 and 2015<j<2145 :\n",
        "                  S4meanD3_1.append(S4RGB_imgA1D3_1[i][j])  \n",
        "S4meanrefA1_16 = np.array(S4meanrefA1_16)\n",
        "S4meanD3_1 = np.array(S4meanD3_1)\n",
        "\n",
        "S4labrefA1_16 = list()\n",
        "S4labD3_1 = list()\n",
        "for i in range(3):\n",
        "    S4labrefA1_16.append(S4meanrefA1_16[:,i].mean())\n",
        "    S4labD3_1.append(S4meanD3_1[:,i].mean())"
      ],
      "execution_count": 568,
      "outputs": []
    },
    {
      "cell_type": "code",
      "metadata": {
        "id": "Pn4S73yNTFI3"
      },
      "source": [
        "S4meanrefA1_17= list()\n",
        "S4meanD4_1 = list()\n",
        "for i in range(S4RGB_imgA1D4_1.shape[0]): \n",
        "     for j in range(S4RGB_imgA1D4_1.shape[1]): \n",
        "                if 1769<i<1881 and 2019<j<2131 :\n",
        "                  S4meanrefA1_17.append(S4RGB_imgA1D4_1[i][j])\n",
        "                if 1770<i<1880 and 2015<j<2145 :\n",
        "                  S4meanD4_1.append(S4RGB_imgA1D4_1[i][j])  \n",
        "S4meanrefA1_17 = np.array(S4meanrefA1_14)\n",
        "S4meanD4_1 = np.array(S4meanD4_1)\n",
        "\n",
        "S4labrefA1_17 = list()\n",
        "S4labD4_1 = list()\n",
        "for i in range(3):\n",
        "    S4labrefA1_17.append(S4meanrefA1_17[:,i].mean())\n",
        "    S4labD4_1.append(S4meanD4_1[:,i].mean())"
      ],
      "execution_count": 569,
      "outputs": []
    },
    {
      "cell_type": "markdown",
      "metadata": {
        "id": "1vsenvzGJ-z0"
      },
      "source": [
        "##HSV"
      ]
    },
    {
      "cell_type": "code",
      "metadata": {
        "id": "g8COlyPkKXLl"
      },
      "source": [
        "S4meanrefA1_1 = list()\n",
        "S4meanA1_2 = list()\n",
        "for i in range(S4HSV_imgA1A1_1.shape[0]): #ให้ i รันตาม row หรือ shape[0] คือแถว มีทั้งหมด 4032 แถว ของภาพที่ปรับขนาดมาแล้ว\n",
        "     for j in range(S4HSV_imgA1A1_1.shape[1]): #ให้ j รันตาม colum มีทั้งหมด 3024 colum เช่น แถวที่ 1 เข้ามาให้รันครบ 3024colum\n",
        "                if 1769<i<1881 and 2019<j<2131 :\n",
        "                  S4meanrefA1_1.append(S4HSV_imgA1A1_1[i][j])\n",
        "                if 1770<i<1880 and 2015<j<2145 :\n",
        "                  S4meanA1_2.append(S4HSV_imgA1A1_1[i][j])  \n",
        "S4meanrefA1_1 = np.array(S4meanrefA1_1)\n",
        "S4meanA1_2 = np.array(S4meanA1_2)\n",
        "\n",
        "S4labrefA1_1 = list()\n",
        "S4labA1_2 = list()\n",
        "for i in range(3):\n",
        "    S4labrefA1_1.append(S4meanrefA1_1[:,i].mean())\n",
        "    S4labA1_2.append(S4meanA1_2[:,i].mean()) "
      ],
      "execution_count": 570,
      "outputs": []
    },
    {
      "cell_type": "code",
      "metadata": {
        "id": "uSvjjmrFKXLm"
      },
      "source": [
        "S4meanrefA1_3 = list()\n",
        "S4meanA2_1 = list()\n",
        "for i in range(S4HSV_imgA1A2_1.shape[0]): \n",
        "     for j in range(S4HSV_imgA1A2_1.shape[1]): \n",
        "                if 1769<i<1881 and 2019<j<2131 :\n",
        "                  S4meanrefA1_3.append(S4HSV_imgA1A2_1[i][j])\n",
        "                if 1770<i<1880 and 2015<j<2145 :\n",
        "                  S4meanA2_1.append(S4HSV_imgA1A2_1[i][j])  \n",
        "S4meanrefA1_3 = np.array(S4meanrefA1_3)\n",
        "S4meanA2_1 = np.array(S4meanA2_1)\n",
        "\n",
        "S4labrefA1_3 = list()\n",
        "S4labA2_1 = list()\n",
        "for i in range(3):\n",
        "    S4labrefA1_3.append(S4meanrefA1_3[:,i].mean())\n",
        "    S4labA2_1.append(S4meanA2_1[:,i].mean())"
      ],
      "execution_count": 571,
      "outputs": []
    },
    {
      "cell_type": "code",
      "metadata": {
        "id": "Q6ufKaLhKXLn"
      },
      "source": [
        "S4meanrefA1_4 = list()\n",
        "S4meanA3_1 = list()\n",
        "for i in range(S4HSV_imgA1A3_1.shape[0]): \n",
        "     for j in range(S4HSV_imgA1A3_1.shape[1]): \n",
        "                if 1769<i<1881 and 2019<j<2131 :\n",
        "                  S4meanrefA1_4.append(S4HSV_imgA1A3_1[i][j])\n",
        "                if 1770<i<1880 and 2015<j<2145 :\n",
        "                  S4meanA3_1.append(S4HSV_imgA1A3_1[i][j])  \n",
        "S4meanrefA1_4 = np.array(S4meanrefA1_4)\n",
        "S4meanA3_1 = np.array(S4meanA3_1)\n",
        "\n",
        "S4labrefA1_4 = list()\n",
        "S4labA3_1 = list()\n",
        "for i in range(3):\n",
        "    S4labrefA1_4.append(S4meanrefA1_4[:,i].mean())\n",
        "    S4labA3_1.append(S4meanA3_1[:,i].mean())"
      ],
      "execution_count": 572,
      "outputs": []
    },
    {
      "cell_type": "code",
      "metadata": {
        "id": "4RM9YjoaKXLn"
      },
      "source": [
        "S4meanrefA1_5 = list()\n",
        "S4meanA3_51 = list()\n",
        "for i in range(S4HSV_imgA1A3_51.shape[0]): \n",
        "     for j in range(S4HSV_imgA1A3_51.shape[1]): \n",
        "                if 1769<i<1881 and 2019<j<2131 :\n",
        "                  S4meanrefA1_5.append(S4HSV_imgA1A3_51[i][j])\n",
        "                if 1770<i<1880 and 2015<j<2145 :\n",
        "                  S4meanA3_51.append(S4HSV_imgA1A3_51[i][j])  \n",
        "S4meanrefA1_5 = np.array(S4meanrefA1_5)\n",
        "S4meanA3_51 = np.array(S4meanA3_51)\n",
        "\n",
        "S4labrefA1_5 = list()\n",
        "S4labA3_51 = list()\n",
        "for i in range(3):\n",
        "    S4labrefA1_5.append(S4meanrefA1_5[:,i].mean())\n",
        "    S4labA3_51.append(S4meanA3_51[:,i].mean())"
      ],
      "execution_count": 573,
      "outputs": []
    },
    {
      "cell_type": "code",
      "metadata": {
        "id": "xWaEzg_xKXLo"
      },
      "source": [
        "S4meanrefA1_6 = list()\n",
        "S4meanA4_1 = list()\n",
        "for i in range(S4HSV_imgA1A4_1.shape[0]): \n",
        "     for j in range(S4HSV_imgA1A4_1.shape[1]): \n",
        "                if 1769<i<1881 and 2019<j<2131 :\n",
        "                  S4meanrefA1_6.append(S4HSV_imgA1A4_1[i][j])\n",
        "                if 1770<i<1880 and 2015<j<2145 :\n",
        "                  S4meanA4_1.append(S4HSV_imgA1A4_1[i][j])  \n",
        "S4meanrefA1_6 = np.array(S4meanrefA1_6)\n",
        "S4meanA4_1 = np.array(S4meanA4_1)\n",
        "\n",
        "S4labrefA1_6 = list()\n",
        "S4labA4_1 = list()\n",
        "for i in range(3):\n",
        "    S4labrefA1_6.append(S4meanrefA1_6[:,i].mean())\n",
        "    S4labA4_1.append(S4meanA4_1[:,i].mean())"
      ],
      "execution_count": 574,
      "outputs": []
    },
    {
      "cell_type": "code",
      "metadata": {
        "id": "YZCZMwjrKXLo"
      },
      "source": [
        "S4meanrefA1_7 = list()\n",
        "S4meanB1_1 = list()\n",
        "for i in range(S4HSV_imgA1B1_1.shape[0]): \n",
        "     for j in range(S4HSV_imgA1B1_1.shape[1]): \n",
        "                if 1769<i<1881 and 2019<j<2131 :\n",
        "                  S4meanrefA1_7.append(S4HSV_imgA1B1_1[i][j])\n",
        "                if 1770<i<1880 and 2015<j<2145 :\n",
        "                  S4meanB1_1.append(S4HSV_imgA1B1_1[i][j])  \n",
        "S4meanrefA1_7 = np.array(S4meanrefA1_7)\n",
        "S4meanB1_1 = np.array(S4meanB1_1)\n",
        "\n",
        "S4labrefA1_7 = list()\n",
        "S4labB1_1 = list()\n",
        "for i in range(3):\n",
        "    S4labrefA1_7.append(S4meanrefA1_7[:,i].mean())\n",
        "    S4labB1_1.append(S4meanB1_1[:,i].mean())"
      ],
      "execution_count": 575,
      "outputs": []
    },
    {
      "cell_type": "code",
      "metadata": {
        "id": "Su2t7uVGKXLo"
      },
      "source": [
        "S4meanrefA1_8 = list()\n",
        "S4meanB2_1 = list()\n",
        "for i in range(S4HSV_imgA1B2_1.shape[0]): \n",
        "     for j in range(S4HSV_imgA1B2_1.shape[1]): \n",
        "                if 1769<i<1881 and 2019<j<2131 :\n",
        "                  S4meanrefA1_8.append(S4HSV_imgA1B2_1[i][j])\n",
        "                if 1770<i<1880 and 2015<j<2145 :\n",
        "                  S4meanB2_1.append(S4HSV_imgA1B2_1[i][j])  \n",
        "S4meanrefA1_8 = np.array(S4meanrefA1_8)\n",
        "S4meanB2_1 = np.array(S4meanB2_1)\n",
        "\n",
        "S4labrefA1_8 = list()\n",
        "S4labB2_1 = list()\n",
        "for i in range(3):\n",
        "    S4labrefA1_8.append(S4meanrefA1_8[:,i].mean())\n",
        "    S4labB2_1.append(S4meanB2_1[:,i].mean())"
      ],
      "execution_count": 576,
      "outputs": []
    },
    {
      "cell_type": "code",
      "metadata": {
        "id": "fcalJzlNKXLp"
      },
      "source": [
        "S4meanrefA1_9 = list()\n",
        "S4meanB3_1 = list()\n",
        "for i in range(S4HSV_imgA1B3_1.shape[0]): \n",
        "     for j in range(S4HSV_imgA1B3_1.shape[1]): \n",
        "                if 1769<i<1881 and 2019<j<2131 :\n",
        "                  S4meanrefA1_9.append(S4HSV_imgA1B3_1[i][j])\n",
        "                if 1770<i<1880 and 2015<j<2145 :\n",
        "                  S4meanB3_1.append(S4HSV_imgA1B3_1[i][j])  \n",
        "S4meanrefA1_9 = np.array(S4meanrefA1_9)\n",
        "S4meanB3_1 = np.array(S4meanB3_1)\n",
        "\n",
        "S4labrefA1_9 = list()\n",
        "S4labB3_1 = list()\n",
        "for i in range(3):\n",
        "    S4labrefA1_9.append(S4meanrefA1_9[:,i].mean())\n",
        "    S4labB3_1.append(S4meanB3_1[:,i].mean())"
      ],
      "execution_count": 577,
      "outputs": []
    },
    {
      "cell_type": "code",
      "metadata": {
        "id": "K8hzHcdFKXLp"
      },
      "source": [
        "S4meanrefA1_10 = list()\n",
        "S4meanB4_1 = list()\n",
        "for i in range(S4HSV_imgA1B4_1.shape[0]): \n",
        "     for j in range(S4HSV_imgA1B4_1.shape[1]): \n",
        "                if 1769<i<1881 and 2019<j<2131 :\n",
        "                  S4meanrefA1_10.append(S4HSV_imgA1B4_1[i][j])\n",
        "                if 1770<i<1880 and 2015<j<2145 :\n",
        "                  S4meanB4_1.append(S4HSV_imgA1B4_1[i][j])  \n",
        "S4meanrefA1_10 = np.array(S4meanrefA1_10)\n",
        "S4meanB4_1 = np.array(S4meanB4_1)\n",
        "\n",
        "S4labrefA1_10 = list()\n",
        "S4labB4_1 = list()\n",
        "for i in range(3):\n",
        "    S4labrefA1_10.append(S4meanrefA1_10[:,i].mean())\n",
        "    S4labB4_1.append(S4meanB4_1[:,i].mean())"
      ],
      "execution_count": 578,
      "outputs": []
    },
    {
      "cell_type": "code",
      "metadata": {
        "id": "Gfmhs_qPKXLq"
      },
      "source": [
        "S4meanrefA1_11 = list()\n",
        "S4meanC1_1 = list()\n",
        "for i in range(S4HSV_imgA1C1_1.shape[0]): \n",
        "     for j in range(S4HSV_imgA1C1_1.shape[1]): \n",
        "                if 1769<i<1881 and 2019<j<2131 :\n",
        "                  S4meanrefA1_11.append(S4HSV_imgA1C1_1[i][j])\n",
        "                if 1770<i<1880 and 2015<j<2145 :\n",
        "                  S4meanC1_1.append(S4HSV_imgA1C1_1[i][j])  \n",
        "S4meanrefA1_11 = np.array(S4meanrefA1_11)\n",
        "S4meanC1_1 = np.array(S4meanC1_1)\n",
        "\n",
        "S4labrefA1_11 = list()\n",
        "S4labC1_1 = list()\n",
        "for i in range(3):\n",
        "    S4labrefA1_7.append(S4meanrefA1_11[:,i].mean())\n",
        "    S4labC1_1.append(S4meanC1_1[:,i].mean())"
      ],
      "execution_count": 579,
      "outputs": []
    },
    {
      "cell_type": "code",
      "metadata": {
        "id": "yedXZDEVKXLq"
      },
      "source": [
        "S4meanrefA1_12 = list()\n",
        "S4meanC2_1 = list()\n",
        "for i in range(S4HSV_imgA1C2_1.shape[0]): \n",
        "     for j in range(S4HSV_imgA1C2_1.shape[1]): \n",
        "                if 1769<i<1881 and 2019<j<2131 :\n",
        "                  S4meanrefA1_12.append(S4HSV_imgA1C2_1[i][j])\n",
        "                if 1770<i<1880 and 2015<j<2145 :\n",
        "                  S4meanC2_1.append(S4HSV_imgA1C2_1[i][j])  \n",
        "S4meanrefA1_12 = np.array(S4meanrefA1_12)\n",
        "S4meanC2_1 = np.array(S4meanC2_1)\n",
        "\n",
        "S4labrefA1_12 = list()\n",
        "S4labC2_1 = list()\n",
        "for i in range(3):\n",
        "    S4labrefA1_12.append(S4meanrefA1_12[:,i].mean())\n",
        "    S4labC2_1.append(S4meanC2_1[:,i].mean())"
      ],
      "execution_count": 580,
      "outputs": []
    },
    {
      "cell_type": "code",
      "metadata": {
        "id": "whcXO5iMKXLq"
      },
      "source": [
        "S4meanrefA1_13 = list()\n",
        "S4meanC3_1 = list()\n",
        "for i in range(S4HSV_imgA1C3_1.shape[0]): \n",
        "     for j in range(S4HSV_imgA1C3_1.shape[1]): \n",
        "                if 1769<i<1881 and 2019<j<2131 :\n",
        "                  S4meanrefA1_13.append(S4HSV_imgA1C3_1[i][j])\n",
        "                if 1770<i<1880 and 2015<j<2145 :\n",
        "                  S4meanC3_1.append(S4HSV_imgA1C3_1[i][j])  \n",
        "S4meanrefA1_13 = np.array(S4meanrefA1_13)\n",
        "S4meanC3_1 = np.array(S4meanC3_1)\n",
        "\n",
        "S4labrefA1_13 = list()\n",
        "S4labC3_1 = list()\n",
        "for i in range(3):\n",
        "    S4labrefA1_13.append(S4meanrefA1_13[:,i].mean())\n",
        "    S4labC3_1.append(S4meanC3_1[:,i].mean())"
      ],
      "execution_count": 581,
      "outputs": []
    },
    {
      "cell_type": "code",
      "metadata": {
        "id": "nIpOgNL4KXLr"
      },
      "source": [
        "S4meanrefA1_14 = list()\n",
        "S4meanC4_1 = list()\n",
        "for i in range(S4HSV_imgA1C4_1.shape[0]): \n",
        "     for j in range(S4HSV_imgA1C4_1.shape[1]): \n",
        "                if 1769<i<1881 and 2019<j<2131 :\n",
        "                  S4meanrefA1_14.append(S4HSV_imgA1C4_1[i][j])\n",
        "                if 1770<i<1880 and 2015<j<2145 :\n",
        "                  S4meanC4_1.append(S4HSV_imgA1C4_1[i][j])  \n",
        "S4meanrefA1_14 = np.array(S4meanrefA1_14)\n",
        "S4meanC4_1 = np.array(S4meanC4_1)\n",
        "\n",
        "S4labrefA1_14 = list()\n",
        "S4labC4_1 = list()\n",
        "for i in range(3):\n",
        "    S4labrefA1_14.append(S4meanrefA1_14[:,i].mean())\n",
        "    S4labC4_1.append(S4meanC4_1[:,i].mean())"
      ],
      "execution_count": 582,
      "outputs": []
    },
    {
      "cell_type": "code",
      "metadata": {
        "id": "tW9vVw0RKXLr"
      },
      "source": [
        "S4meanrefA1_15 = list()\n",
        "S4meanD2_1 = list()\n",
        "for i in range(S4HSV_imgA1D2_1.shape[0]): \n",
        "     for j in range(S4HSV_imgA1D2_1.shape[1]): \n",
        "                if 1769<i<1881 and 2019<j<2131 :\n",
        "                  S4meanrefA1_15.append(S4HSV_imgA1D2_1[i][j])\n",
        "                if 1770<i<1880 and 2015<j<2145 :\n",
        "                  S4meanD2_1.append(S4HSV_imgA1D2_1[i][j])  \n",
        "S4meanrefA1_15 = np.array(S4meanrefA1_15)\n",
        "S4meanD2_1 = np.array(S4meanD2_1)\n",
        "\n",
        "S4labrefA1_15 = list()\n",
        "S4labD2_1 = list()\n",
        "for i in range(3):\n",
        "    S4labrefA1_15.append(S4meanrefA1_15[:,i].mean())\n",
        "    S4labD2_1.append(S4meanD2_1[:,i].mean())"
      ],
      "execution_count": 583,
      "outputs": []
    },
    {
      "cell_type": "code",
      "metadata": {
        "id": "rGKVWA6JKXLr"
      },
      "source": [
        "S4meanrefA1_16 = list()\n",
        "S4meanD3_1 = list()\n",
        "for i in range(S4HSV_imgA1D3_1.shape[0]): \n",
        "     for j in range(S4HSV_imgA1D3_1.shape[1]): \n",
        "                if 1769<i<1881 and 2019<j<2131 :\n",
        "                  S4meanrefA1_16.append(S4HSV_imgA1D3_1[i][j])\n",
        "                if 1770<i<1880 and 2015<j<2145 :\n",
        "                  S4meanD3_1.append(S4HSV_imgA1D3_1[i][j])  \n",
        "S4meanrefA1_16 = np.array(S4meanrefA1_16)\n",
        "S4meanD3_1 = np.array(S4meanD3_1)\n",
        "\n",
        "S4labrefA1_16 = list()\n",
        "S4labD3_1 = list()\n",
        "for i in range(3):\n",
        "    S4labrefA1_16.append(S4meanrefA1_16[:,i].mean())\n",
        "    S4labD3_1.append(S4meanD3_1[:,i].mean())"
      ],
      "execution_count": 584,
      "outputs": []
    },
    {
      "cell_type": "code",
      "metadata": {
        "id": "-kqMpVjuKXLs"
      },
      "source": [
        "S4meanrefA1_17= list()\n",
        "S4meanD4_1 = list()\n",
        "for i in range(S4HSV_imgA1D4_1.shape[0]): \n",
        "     for j in range(S4HSV_imgA1D4_1.shape[1]): \n",
        "                if 1769<i<1881 and 2019<j<2131 :\n",
        "                  S4meanrefA1_17.append(S4HSV_imgA1D4_1[i][j])\n",
        "                if 1770<i<1880 and 2015<j<2145 :\n",
        "                  S4meanD4_1.append(S4HSV_imgA1D4_1[i][j])  \n",
        "S4meanrefA1_17 = np.array(S4meanrefA1_14)\n",
        "S4meanD4_1 = np.array(S4meanD4_1)\n",
        "\n",
        "S4labrefA1_17 = list()\n",
        "S4labD4_1 = list()\n",
        "for i in range(3):\n",
        "    S4labrefA1_17.append(S4meanrefA1_17[:,i].mean())\n",
        "    S4labD4_1.append(S4meanD4_1[:,i].mean())"
      ],
      "execution_count": 585,
      "outputs": []
    },
    {
      "cell_type": "markdown",
      "metadata": {
        "id": "4ihnBocWKAjD"
      },
      "source": [
        "#7.สร้างตาราง"
      ]
    }
  ]
}