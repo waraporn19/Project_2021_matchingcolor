{
  "nbformat": 4,
  "nbformat_minor": 0,
  "metadata": {
    "colab": {
      "name": "Model_RF_D3.ipynb",
      "provenance": [],
      "collapsed_sections": [
        "480etiaejoWu",
        "_IExAm4gjoWx",
        "QtddIFhZmT6y",
        "_QZmNKGToJfj",
        "YmEFu_3tt92a",
        "kFckM1SuxrfW"
      ],
      "include_colab_link": true
    },
    "kernelspec": {
      "name": "python3",
      "display_name": "Python 3"
    },
    "language_info": {
      "name": "python"
    }
  },
  "cells": [
    {
      "cell_type": "markdown",
      "metadata": {
        "id": "view-in-github",
        "colab_type": "text"
      },
      "source": [
        "<a href=\"https://colab.research.google.com/github/waraporn19/Project_2021_matchingcolor/blob/main/Model_RF_D3.ipynb\" target=\"_parent\"><img src=\"https://colab.research.google.com/assets/colab-badge.svg\" alt=\"Open In Colab\"/></a>"
      ]
    },
    {
      "cell_type": "code",
      "execution_count": null,
      "metadata": {
        "id": "HKNXe3aNxjrS"
      },
      "outputs": [],
      "source": [
        "import pandas as pd"
      ]
    },
    {
      "cell_type": "code",
      "source": [
        "from google.colab import drive \n",
        "drive.mount('/content/drive')"
      ],
      "metadata": {
        "colab": {
          "base_uri": "https://localhost:8080/"
        },
        "id": "vlUA764exm_B",
        "outputId": "dd6fb7c5-6092-4080-d201-aeeb66f383b4"
      },
      "execution_count": null,
      "outputs": [
        {
          "output_type": "stream",
          "name": "stdout",
          "text": [
            "Mounted at /content/drive\n"
          ]
        }
      ]
    },
    {
      "cell_type": "code",
      "source": [
        "import os"
      ],
      "metadata": {
        "id": "0NR2cd8WxtI0"
      },
      "execution_count": null,
      "outputs": []
    },
    {
      "cell_type": "code",
      "source": [
        "path = '/content/drive/My Drive/shadeimg/SVM shade'"
      ],
      "metadata": {
        "id": "CCvM6YiWxv4J"
      },
      "execution_count": null,
      "outputs": []
    },
    {
      "cell_type": "code",
      "source": [
        "os.listdir(path)"
      ],
      "metadata": {
        "colab": {
          "base_uri": "https://localhost:8080/"
        },
        "id": "gEamzWg2xxw0",
        "outputId": "085e18bb-201b-4e1b-84e0-cb1450e5c982"
      },
      "execution_count": null,
      "outputs": [
        {
          "output_type": "execute_result",
          "data": {
            "text/plain": [
              "['DD.xlsx',\n",
              " 'CC.xlsx',\n",
              " 'BB.xlsx',\n",
              " 'Shade_AA.xlsx',\n",
              " 'Shade_CC.xlsx',\n",
              " 'Shade_DD.xlsx',\n",
              " 'Shade_BB.xlsx',\n",
              " 'AA.xlsx',\n",
              " 'AA_2.xlsx',\n",
              " 'Shad_A.xlsx',\n",
              " 'Shad_B.xlsx',\n",
              " 'Shad_C.xlsx',\n",
              " 'Shad_D.xlsx',\n",
              " 'Setting1.xlsx',\n",
              " 'Setting3.xlsx',\n",
              " 'Setting4.xlsx',\n",
              " 'CheckerDD.xlsx',\n",
              " 'Color-checkerDD.xlsx',\n",
              " 'Color-checkerAA.xlsx',\n",
              " 'Color-checkerBB.xlsx',\n",
              " 'Color-checkerCC.xlsx',\n",
              " 'Setting5.xlsx',\n",
              " 'Setting6.xlsx',\n",
              " 'Setting2.xlsx']"
            ]
          },
          "metadata": {},
          "execution_count": 5
        }
      ]
    },
    {
      "cell_type": "code",
      "source": [
        "CC1 = os.path.join(path,'CheckerDD.xlsx')\n",
        "print(CC1)"
      ],
      "metadata": {
        "colab": {
          "base_uri": "https://localhost:8080/"
        },
        "id": "FGDUM8Yubm3F",
        "outputId": "5a82e126-a576-4b41-c479-a07f9ac522e8"
      },
      "execution_count": null,
      "outputs": [
        {
          "output_type": "stream",
          "name": "stdout",
          "text": [
            "/content/drive/My Drive/shadeimg/SVM shade/CheckerDD.xlsx\n"
          ]
        }
      ]
    },
    {
      "cell_type": "code",
      "source": [
        "Set1 = os.path.join(path,'Setting1.xlsx')\n",
        "print(Set1)"
      ],
      "metadata": {
        "colab": {
          "base_uri": "https://localhost:8080/"
        },
        "id": "YnNg2TofxzSg",
        "outputId": "1da38897-ef4a-4bac-d689-15827e8787f2"
      },
      "execution_count": null,
      "outputs": [
        {
          "output_type": "stream",
          "name": "stdout",
          "text": [
            "/content/drive/My Drive/shadeimg/SVM shade/Setting1.xlsx\n"
          ]
        }
      ]
    },
    {
      "cell_type": "code",
      "source": [
        "Set2 = os.path.join(path,'Setting2.xlsx')\n",
        "print(Set2)"
      ],
      "metadata": {
        "id": "9NmuTsKXj8iA",
        "outputId": "137cd6f4-76f0-4fc8-df2d-bcdf7e4303be",
        "colab": {
          "base_uri": "https://localhost:8080/"
        }
      },
      "execution_count": null,
      "outputs": [
        {
          "output_type": "stream",
          "name": "stdout",
          "text": [
            "/content/drive/My Drive/shadeimg/SVM shade/Setting2.xlsx\n"
          ]
        }
      ]
    },
    {
      "cell_type": "code",
      "source": [
        "Set3 = os.path.join(path,'Setting3.xlsx')\n",
        "print(Set3)"
      ],
      "metadata": {
        "id": "Flpjty_gj80T",
        "outputId": "95080fae-dd63-4301-b300-eccef4532f74",
        "colab": {
          "base_uri": "https://localhost:8080/"
        }
      },
      "execution_count": null,
      "outputs": [
        {
          "output_type": "stream",
          "name": "stdout",
          "text": [
            "/content/drive/My Drive/shadeimg/SVM shade/Setting3.xlsx\n"
          ]
        }
      ]
    },
    {
      "cell_type": "code",
      "source": [
        "Set4 = os.path.join(path,'Setting4.xlsx')\n",
        "print(Set4)"
      ],
      "metadata": {
        "colab": {
          "base_uri": "https://localhost:8080/"
        },
        "id": "D5_QGRNuj9Hu",
        "outputId": "bea808ca-4db5-4b5f-ed74-a00527b5a517"
      },
      "execution_count": null,
      "outputs": [
        {
          "output_type": "stream",
          "name": "stdout",
          "text": [
            "/content/drive/My Drive/shadeimg/SVM shade/Setting4.xlsx\n"
          ]
        }
      ]
    },
    {
      "cell_type": "code",
      "source": [
        "import numpy as np"
      ],
      "metadata": {
        "id": "8ISBGlPBzzvw"
      },
      "execution_count": null,
      "outputs": []
    },
    {
      "cell_type": "code",
      "source": [
        "from sklearn import metrics"
      ],
      "metadata": {
        "id": "FTwRPXBBzw1v"
      },
      "execution_count": null,
      "outputs": []
    },
    {
      "cell_type": "code",
      "source": [
        "from sklearn import datasets"
      ],
      "metadata": {
        "id": "KR8lVsZXpX9X"
      },
      "execution_count": null,
      "outputs": []
    },
    {
      "cell_type": "code",
      "source": [
        "from sklearn.ensemble import RandomForestClassifier"
      ],
      "metadata": {
        "id": "cfRBaPLCI0vn"
      },
      "execution_count": null,
      "outputs": []
    },
    {
      "cell_type": "code",
      "source": [
        "clf=RandomForestClassifier()"
      ],
      "metadata": {
        "id": "i-IpOEIhnwdR"
      },
      "execution_count": null,
      "outputs": []
    },
    {
      "cell_type": "code",
      "source": [
        "table_D3CC1 = pd.read_excel(CC1 , sheet_name='D3set5')\n",
        "table_D3CC1.head()"
      ],
      "metadata": {
        "colab": {
          "base_uri": "https://localhost:8080/",
          "height": 444
        },
        "id": "vG__NuVXb2Qz",
        "outputId": "301aea89-24de-4ffb-925d-3d26c14635bb"
      },
      "execution_count": null,
      "outputs": [
        {
          "output_type": "execute_result",
          "data": {
            "text/html": [
              "\n",
              "  <div id=\"df-62aa8c2b-578e-4f08-8c24-c1aabb2727ab\">\n",
              "    <div class=\"colab-df-container\">\n",
              "      <div>\n",
              "<style scoped>\n",
              "    .dataframe tbody tr th:only-of-type {\n",
              "        vertical-align: middle;\n",
              "    }\n",
              "\n",
              "    .dataframe tbody tr th {\n",
              "        vertical-align: top;\n",
              "    }\n",
              "\n",
              "    .dataframe thead th {\n",
              "        text-align: right;\n",
              "    }\n",
              "</style>\n",
              "<table border=\"1\" class=\"dataframe\">\n",
              "  <thead>\n",
              "    <tr style=\"text-align: right;\">\n",
              "      <th></th>\n",
              "      <th>R-ref</th>\n",
              "      <th>G-ref</th>\n",
              "      <th>B-ref</th>\n",
              "      <th>R-Shad</th>\n",
              "      <th>G-Shad</th>\n",
              "      <th>B-Shad</th>\n",
              "      <th>H-ref</th>\n",
              "      <th>S-ref</th>\n",
              "      <th>V-ref</th>\n",
              "      <th>H-Shad</th>\n",
              "      <th>S-Shad</th>\n",
              "      <th>V-Shad</th>\n",
              "      <th>Setting</th>\n",
              "      <th>Ref</th>\n",
              "      <th>Shad</th>\n",
              "      <th>Img</th>\n",
              "    </tr>\n",
              "  </thead>\n",
              "  <tbody>\n",
              "    <tr>\n",
              "      <th>0</th>\n",
              "      <td>223.533317</td>\n",
              "      <td>203.558640</td>\n",
              "      <td>165.842302</td>\n",
              "      <td>223.503378</td>\n",
              "      <td>203.455302</td>\n",
              "      <td>165.912097</td>\n",
              "      <td>19.322863</td>\n",
              "      <td>65.793117</td>\n",
              "      <td>223.533317</td>\n",
              "      <td>19.291231</td>\n",
              "      <td>65.688856</td>\n",
              "      <td>223.503378</td>\n",
              "      <td>Set5</td>\n",
              "      <td>D3</td>\n",
              "      <td>A1</td>\n",
              "      <td>D31A6339-9324-4718-8F1D-F9C86FF1CAC1.png</td>\n",
              "    </tr>\n",
              "    <tr>\n",
              "      <th>1</th>\n",
              "      <td>224.624949</td>\n",
              "      <td>202.937586</td>\n",
              "      <td>163.191705</td>\n",
              "      <td>224.517033</td>\n",
              "      <td>202.801650</td>\n",
              "      <td>163.173956</td>\n",
              "      <td>19.452236</td>\n",
              "      <td>69.768525</td>\n",
              "      <td>224.624949</td>\n",
              "      <td>19.420169</td>\n",
              "      <td>69.692483</td>\n",
              "      <td>224.517033</td>\n",
              "      <td>Set5</td>\n",
              "      <td>D3</td>\n",
              "      <td>A1</td>\n",
              "      <td>3AD826D5-B618-4F47-BB57-2052C33EFAAE.png</td>\n",
              "    </tr>\n",
              "    <tr>\n",
              "      <th>2</th>\n",
              "      <td>225.539161</td>\n",
              "      <td>206.125964</td>\n",
              "      <td>167.317020</td>\n",
              "      <td>225.381694</td>\n",
              "      <td>205.911884</td>\n",
              "      <td>167.275798</td>\n",
              "      <td>19.626086</td>\n",
              "      <td>65.814707</td>\n",
              "      <td>225.539161</td>\n",
              "      <td>19.568025</td>\n",
              "      <td>65.723348</td>\n",
              "      <td>225.381694</td>\n",
              "      <td>Set5</td>\n",
              "      <td>D3</td>\n",
              "      <td>A1</td>\n",
              "      <td>14BDB65A-A5B9-48B4-9F79-1C078570A88D.png</td>\n",
              "    </tr>\n",
              "    <tr>\n",
              "      <th>3</th>\n",
              "      <td>224.508644</td>\n",
              "      <td>208.011363</td>\n",
              "      <td>175.946108</td>\n",
              "      <td>224.409075</td>\n",
              "      <td>207.842116</td>\n",
              "      <td>175.782306</td>\n",
              "      <td>19.632010</td>\n",
              "      <td>55.220680</td>\n",
              "      <td>224.508644</td>\n",
              "      <td>19.602660</td>\n",
              "      <td>55.318825</td>\n",
              "      <td>224.409075</td>\n",
              "      <td>Set5</td>\n",
              "      <td>D3</td>\n",
              "      <td>A1</td>\n",
              "      <td>9131592F-9798-4457-ACD3-8109CCA36224.png</td>\n",
              "    </tr>\n",
              "    <tr>\n",
              "      <th>4</th>\n",
              "      <td>225.235127</td>\n",
              "      <td>209.102021</td>\n",
              "      <td>175.769580</td>\n",
              "      <td>225.040893</td>\n",
              "      <td>208.868075</td>\n",
              "      <td>175.555864</td>\n",
              "      <td>19.947407</td>\n",
              "      <td>56.048697</td>\n",
              "      <td>225.235127</td>\n",
              "      <td>19.936989</td>\n",
              "      <td>56.118270</td>\n",
              "      <td>225.040893</td>\n",
              "      <td>Set5</td>\n",
              "      <td>D3</td>\n",
              "      <td>A1</td>\n",
              "      <td>653769F4-F724-4660-A3EE-76C3101A90E5.png</td>\n",
              "    </tr>\n",
              "  </tbody>\n",
              "</table>\n",
              "</div>\n",
              "      <button class=\"colab-df-convert\" onclick=\"convertToInteractive('df-62aa8c2b-578e-4f08-8c24-c1aabb2727ab')\"\n",
              "              title=\"Convert this dataframe to an interactive table.\"\n",
              "              style=\"display:none;\">\n",
              "        \n",
              "  <svg xmlns=\"http://www.w3.org/2000/svg\" height=\"24px\"viewBox=\"0 0 24 24\"\n",
              "       width=\"24px\">\n",
              "    <path d=\"M0 0h24v24H0V0z\" fill=\"none\"/>\n",
              "    <path d=\"M18.56 5.44l.94 2.06.94-2.06 2.06-.94-2.06-.94-.94-2.06-.94 2.06-2.06.94zm-11 1L8.5 8.5l.94-2.06 2.06-.94-2.06-.94L8.5 2.5l-.94 2.06-2.06.94zm10 10l.94 2.06.94-2.06 2.06-.94-2.06-.94-.94-2.06-.94 2.06-2.06.94z\"/><path d=\"M17.41 7.96l-1.37-1.37c-.4-.4-.92-.59-1.43-.59-.52 0-1.04.2-1.43.59L10.3 9.45l-7.72 7.72c-.78.78-.78 2.05 0 2.83L4 21.41c.39.39.9.59 1.41.59.51 0 1.02-.2 1.41-.59l7.78-7.78 2.81-2.81c.8-.78.8-2.07 0-2.86zM5.41 20L4 18.59l7.72-7.72 1.47 1.35L5.41 20z\"/>\n",
              "  </svg>\n",
              "      </button>\n",
              "      \n",
              "  <style>\n",
              "    .colab-df-container {\n",
              "      display:flex;\n",
              "      flex-wrap:wrap;\n",
              "      gap: 12px;\n",
              "    }\n",
              "\n",
              "    .colab-df-convert {\n",
              "      background-color: #E8F0FE;\n",
              "      border: none;\n",
              "      border-radius: 50%;\n",
              "      cursor: pointer;\n",
              "      display: none;\n",
              "      fill: #1967D2;\n",
              "      height: 32px;\n",
              "      padding: 0 0 0 0;\n",
              "      width: 32px;\n",
              "    }\n",
              "\n",
              "    .colab-df-convert:hover {\n",
              "      background-color: #E2EBFA;\n",
              "      box-shadow: 0px 1px 2px rgba(60, 64, 67, 0.3), 0px 1px 3px 1px rgba(60, 64, 67, 0.15);\n",
              "      fill: #174EA6;\n",
              "    }\n",
              "\n",
              "    [theme=dark] .colab-df-convert {\n",
              "      background-color: #3B4455;\n",
              "      fill: #D2E3FC;\n",
              "    }\n",
              "\n",
              "    [theme=dark] .colab-df-convert:hover {\n",
              "      background-color: #434B5C;\n",
              "      box-shadow: 0px 1px 3px 1px rgba(0, 0, 0, 0.15);\n",
              "      filter: drop-shadow(0px 1px 2px rgba(0, 0, 0, 0.3));\n",
              "      fill: #FFFFFF;\n",
              "    }\n",
              "  </style>\n",
              "\n",
              "      <script>\n",
              "        const buttonEl =\n",
              "          document.querySelector('#df-62aa8c2b-578e-4f08-8c24-c1aabb2727ab button.colab-df-convert');\n",
              "        buttonEl.style.display =\n",
              "          google.colab.kernel.accessAllowed ? 'block' : 'none';\n",
              "\n",
              "        async function convertToInteractive(key) {\n",
              "          const element = document.querySelector('#df-62aa8c2b-578e-4f08-8c24-c1aabb2727ab');\n",
              "          const dataTable =\n",
              "            await google.colab.kernel.invokeFunction('convertToInteractive',\n",
              "                                                     [key], {});\n",
              "          if (!dataTable) return;\n",
              "\n",
              "          const docLinkHtml = 'Like what you see? Visit the ' +\n",
              "            '<a target=\"_blank\" href=https://colab.research.google.com/notebooks/data_table.ipynb>data table notebook</a>'\n",
              "            + ' to learn more about interactive tables.';\n",
              "          element.innerHTML = '';\n",
              "          dataTable['output_type'] = 'display_data';\n",
              "          await google.colab.output.renderOutput(dataTable, element);\n",
              "          const docLink = document.createElement('div');\n",
              "          docLink.innerHTML = docLinkHtml;\n",
              "          element.appendChild(docLink);\n",
              "        }\n",
              "      </script>\n",
              "    </div>\n",
              "  </div>\n",
              "  "
            ],
            "text/plain": [
              "        R-ref       G-ref  ...  Shad                                       Img\n",
              "0  223.533317  203.558640  ...    A1  D31A6339-9324-4718-8F1D-F9C86FF1CAC1.png\n",
              "1  224.624949  202.937586  ...    A1  3AD826D5-B618-4F47-BB57-2052C33EFAAE.png\n",
              "2  225.539161  206.125964  ...    A1  14BDB65A-A5B9-48B4-9F79-1C078570A88D.png\n",
              "3  224.508644  208.011363  ...    A1  9131592F-9798-4457-ACD3-8109CCA36224.png\n",
              "4  225.235127  209.102021  ...    A1  653769F4-F724-4660-A3EE-76C3101A90E5.png\n",
              "\n",
              "[5 rows x 16 columns]"
            ]
          },
          "metadata": {},
          "execution_count": 16
        }
      ]
    },
    {
      "cell_type": "code",
      "source": [
        "table_D3CC2 = pd.read_excel(CC1 , sheet_name='D3set6')\n",
        "table_D3CC2.head()"
      ],
      "metadata": {
        "colab": {
          "base_uri": "https://localhost:8080/",
          "height": 444
        },
        "id": "5s0g5iNMRkbq",
        "outputId": "fdbd45ed-6185-44a0-930e-d0dcc122a0d8"
      },
      "execution_count": null,
      "outputs": [
        {
          "output_type": "execute_result",
          "data": {
            "text/html": [
              "\n",
              "  <div id=\"df-7e0674e9-0736-4a54-a3e3-9b3490748ea6\">\n",
              "    <div class=\"colab-df-container\">\n",
              "      <div>\n",
              "<style scoped>\n",
              "    .dataframe tbody tr th:only-of-type {\n",
              "        vertical-align: middle;\n",
              "    }\n",
              "\n",
              "    .dataframe tbody tr th {\n",
              "        vertical-align: top;\n",
              "    }\n",
              "\n",
              "    .dataframe thead th {\n",
              "        text-align: right;\n",
              "    }\n",
              "</style>\n",
              "<table border=\"1\" class=\"dataframe\">\n",
              "  <thead>\n",
              "    <tr style=\"text-align: right;\">\n",
              "      <th></th>\n",
              "      <th>R-ref</th>\n",
              "      <th>G-ref</th>\n",
              "      <th>B-ref</th>\n",
              "      <th>R-Shad</th>\n",
              "      <th>G-Shad</th>\n",
              "      <th>B-Shad</th>\n",
              "      <th>H-ref</th>\n",
              "      <th>S-ref</th>\n",
              "      <th>V-ref</th>\n",
              "      <th>H-Shad</th>\n",
              "      <th>S-Shad</th>\n",
              "      <th>V-Shad</th>\n",
              "      <th>Setting</th>\n",
              "      <th>Ref</th>\n",
              "      <th>Shad</th>\n",
              "      <th>Img</th>\n",
              "    </tr>\n",
              "  </thead>\n",
              "  <tbody>\n",
              "    <tr>\n",
              "      <th>0</th>\n",
              "      <td>216.974434</td>\n",
              "      <td>221.510592</td>\n",
              "      <td>199.688012</td>\n",
              "      <td>216.226726</td>\n",
              "      <td>220.796743</td>\n",
              "      <td>199.027381</td>\n",
              "      <td>36.490626</td>\n",
              "      <td>25.144388</td>\n",
              "      <td>221.510592</td>\n",
              "      <td>36.572363</td>\n",
              "      <td>25.152407</td>\n",
              "      <td>220.796743</td>\n",
              "      <td>Set6</td>\n",
              "      <td>D3</td>\n",
              "      <td>A1</td>\n",
              "      <td>271DC401-D060-44CF-9035-B5163A38C82A.png</td>\n",
              "    </tr>\n",
              "    <tr>\n",
              "      <th>1</th>\n",
              "      <td>224.099505</td>\n",
              "      <td>229.098369</td>\n",
              "      <td>205.000081</td>\n",
              "      <td>223.430553</td>\n",
              "      <td>228.342721</td>\n",
              "      <td>204.197781</td>\n",
              "      <td>36.531856</td>\n",
              "      <td>26.762925</td>\n",
              "      <td>229.098369</td>\n",
              "      <td>36.403741</td>\n",
              "      <td>26.914089</td>\n",
              "      <td>228.342721</td>\n",
              "      <td>Set6</td>\n",
              "      <td>D3</td>\n",
              "      <td>A1</td>\n",
              "      <td>A3DE134D-4B70-47DE-9CEC-140F0D9A2A69.png</td>\n",
              "    </tr>\n",
              "    <tr>\n",
              "      <th>2</th>\n",
              "      <td>223.496388</td>\n",
              "      <td>229.110949</td>\n",
              "      <td>204.149501</td>\n",
              "      <td>222.779319</td>\n",
              "      <td>228.326577</td>\n",
              "      <td>203.311215</td>\n",
              "      <td>36.949355</td>\n",
              "      <td>27.709196</td>\n",
              "      <td>229.110949</td>\n",
              "      <td>36.838632</td>\n",
              "      <td>27.870422</td>\n",
              "      <td>228.326577</td>\n",
              "      <td>Set6</td>\n",
              "      <td>D3</td>\n",
              "      <td>A1</td>\n",
              "      <td>BFE57A76-6444-47E0-8266-3F9240EDE840.png</td>\n",
              "    </tr>\n",
              "    <tr>\n",
              "      <th>3</th>\n",
              "      <td>223.590861</td>\n",
              "      <td>229.145362</td>\n",
              "      <td>204.242919</td>\n",
              "      <td>222.889908</td>\n",
              "      <td>228.361923</td>\n",
              "      <td>203.480549</td>\n",
              "      <td>36.902849</td>\n",
              "      <td>27.656521</td>\n",
              "      <td>229.145362</td>\n",
              "      <td>36.810895</td>\n",
              "      <td>27.735510</td>\n",
              "      <td>228.361923</td>\n",
              "      <td>Set6</td>\n",
              "      <td>D3</td>\n",
              "      <td>A1</td>\n",
              "      <td>FD507C4E-07C8-4DCC-9DCB-F3FB2C76AAB4.png</td>\n",
              "    </tr>\n",
              "    <tr>\n",
              "      <th>4</th>\n",
              "      <td>223.864134</td>\n",
              "      <td>229.322052</td>\n",
              "      <td>204.647188</td>\n",
              "      <td>223.173103</td>\n",
              "      <td>228.538653</td>\n",
              "      <td>203.859185</td>\n",
              "      <td>36.876146</td>\n",
              "      <td>27.371885</td>\n",
              "      <td>229.322052</td>\n",
              "      <td>36.759477</td>\n",
              "      <td>27.478487</td>\n",
              "      <td>228.538653</td>\n",
              "      <td>Set6</td>\n",
              "      <td>D3</td>\n",
              "      <td>A1</td>\n",
              "      <td>10D62DA7-31C9-483A-A627-9AD9F089ECD0.png</td>\n",
              "    </tr>\n",
              "  </tbody>\n",
              "</table>\n",
              "</div>\n",
              "      <button class=\"colab-df-convert\" onclick=\"convertToInteractive('df-7e0674e9-0736-4a54-a3e3-9b3490748ea6')\"\n",
              "              title=\"Convert this dataframe to an interactive table.\"\n",
              "              style=\"display:none;\">\n",
              "        \n",
              "  <svg xmlns=\"http://www.w3.org/2000/svg\" height=\"24px\"viewBox=\"0 0 24 24\"\n",
              "       width=\"24px\">\n",
              "    <path d=\"M0 0h24v24H0V0z\" fill=\"none\"/>\n",
              "    <path d=\"M18.56 5.44l.94 2.06.94-2.06 2.06-.94-2.06-.94-.94-2.06-.94 2.06-2.06.94zm-11 1L8.5 8.5l.94-2.06 2.06-.94-2.06-.94L8.5 2.5l-.94 2.06-2.06.94zm10 10l.94 2.06.94-2.06 2.06-.94-2.06-.94-.94-2.06-.94 2.06-2.06.94z\"/><path d=\"M17.41 7.96l-1.37-1.37c-.4-.4-.92-.59-1.43-.59-.52 0-1.04.2-1.43.59L10.3 9.45l-7.72 7.72c-.78.78-.78 2.05 0 2.83L4 21.41c.39.39.9.59 1.41.59.51 0 1.02-.2 1.41-.59l7.78-7.78 2.81-2.81c.8-.78.8-2.07 0-2.86zM5.41 20L4 18.59l7.72-7.72 1.47 1.35L5.41 20z\"/>\n",
              "  </svg>\n",
              "      </button>\n",
              "      \n",
              "  <style>\n",
              "    .colab-df-container {\n",
              "      display:flex;\n",
              "      flex-wrap:wrap;\n",
              "      gap: 12px;\n",
              "    }\n",
              "\n",
              "    .colab-df-convert {\n",
              "      background-color: #E8F0FE;\n",
              "      border: none;\n",
              "      border-radius: 50%;\n",
              "      cursor: pointer;\n",
              "      display: none;\n",
              "      fill: #1967D2;\n",
              "      height: 32px;\n",
              "      padding: 0 0 0 0;\n",
              "      width: 32px;\n",
              "    }\n",
              "\n",
              "    .colab-df-convert:hover {\n",
              "      background-color: #E2EBFA;\n",
              "      box-shadow: 0px 1px 2px rgba(60, 64, 67, 0.3), 0px 1px 3px 1px rgba(60, 64, 67, 0.15);\n",
              "      fill: #174EA6;\n",
              "    }\n",
              "\n",
              "    [theme=dark] .colab-df-convert {\n",
              "      background-color: #3B4455;\n",
              "      fill: #D2E3FC;\n",
              "    }\n",
              "\n",
              "    [theme=dark] .colab-df-convert:hover {\n",
              "      background-color: #434B5C;\n",
              "      box-shadow: 0px 1px 3px 1px rgba(0, 0, 0, 0.15);\n",
              "      filter: drop-shadow(0px 1px 2px rgba(0, 0, 0, 0.3));\n",
              "      fill: #FFFFFF;\n",
              "    }\n",
              "  </style>\n",
              "\n",
              "      <script>\n",
              "        const buttonEl =\n",
              "          document.querySelector('#df-7e0674e9-0736-4a54-a3e3-9b3490748ea6 button.colab-df-convert');\n",
              "        buttonEl.style.display =\n",
              "          google.colab.kernel.accessAllowed ? 'block' : 'none';\n",
              "\n",
              "        async function convertToInteractive(key) {\n",
              "          const element = document.querySelector('#df-7e0674e9-0736-4a54-a3e3-9b3490748ea6');\n",
              "          const dataTable =\n",
              "            await google.colab.kernel.invokeFunction('convertToInteractive',\n",
              "                                                     [key], {});\n",
              "          if (!dataTable) return;\n",
              "\n",
              "          const docLinkHtml = 'Like what you see? Visit the ' +\n",
              "            '<a target=\"_blank\" href=https://colab.research.google.com/notebooks/data_table.ipynb>data table notebook</a>'\n",
              "            + ' to learn more about interactive tables.';\n",
              "          element.innerHTML = '';\n",
              "          dataTable['output_type'] = 'display_data';\n",
              "          await google.colab.output.renderOutput(dataTable, element);\n",
              "          const docLink = document.createElement('div');\n",
              "          docLink.innerHTML = docLinkHtml;\n",
              "          element.appendChild(docLink);\n",
              "        }\n",
              "      </script>\n",
              "    </div>\n",
              "  </div>\n",
              "  "
            ],
            "text/plain": [
              "        R-ref       G-ref  ...  Shad                                       Img\n",
              "0  216.974434  221.510592  ...    A1  271DC401-D060-44CF-9035-B5163A38C82A.png\n",
              "1  224.099505  229.098369  ...    A1  A3DE134D-4B70-47DE-9CEC-140F0D9A2A69.png\n",
              "2  223.496388  229.110949  ...    A1  BFE57A76-6444-47E0-8266-3F9240EDE840.png\n",
              "3  223.590861  229.145362  ...    A1  FD507C4E-07C8-4DCC-9DCB-F3FB2C76AAB4.png\n",
              "4  223.864134  229.322052  ...    A1  10D62DA7-31C9-483A-A627-9AD9F089ECD0.png\n",
              "\n",
              "[5 rows x 16 columns]"
            ]
          },
          "metadata": {},
          "execution_count": 17
        }
      ]
    },
    {
      "cell_type": "markdown",
      "source": [
        "#DD"
      ],
      "metadata": {
        "id": "kFckM1SuxrfW"
      }
    },
    {
      "cell_type": "markdown",
      "source": [
        "##D3"
      ],
      "metadata": {
        "id": "ntLV6fwAx90V"
      }
    },
    {
      "cell_type": "code",
      "source": [
        "table_D3Set1 = pd.read_excel(Set1 , sheet_name='D3Set1')\n",
        "table_D3Set1.head()"
      ],
      "metadata": {
        "colab": {
          "base_uri": "https://localhost:8080/"
        },
        "outputId": "7382d8d1-6f39-44bf-a94c-8ca22e5a8716",
        "id": "8iTZ6oX0x90V"
      },
      "execution_count": null,
      "outputs": [
        {
          "output_type": "execute_result",
          "data": {
            "text/html": [
              "\n",
              "  <div id=\"df-f8417398-6ce6-4083-aa4f-315b216884df\">\n",
              "    <div class=\"colab-df-container\">\n",
              "      <div>\n",
              "<style scoped>\n",
              "    .dataframe tbody tr th:only-of-type {\n",
              "        vertical-align: middle;\n",
              "    }\n",
              "\n",
              "    .dataframe tbody tr th {\n",
              "        vertical-align: top;\n",
              "    }\n",
              "\n",
              "    .dataframe thead th {\n",
              "        text-align: right;\n",
              "    }\n",
              "</style>\n",
              "<table border=\"1\" class=\"dataframe\">\n",
              "  <thead>\n",
              "    <tr style=\"text-align: right;\">\n",
              "      <th></th>\n",
              "      <th>R-ref</th>\n",
              "      <th>G-ref</th>\n",
              "      <th>B-ref</th>\n",
              "      <th>R-Shad</th>\n",
              "      <th>G-Shad</th>\n",
              "      <th>B-Shad</th>\n",
              "      <th>H-ref</th>\n",
              "      <th>S-ref</th>\n",
              "      <th>V-ref</th>\n",
              "      <th>H-Shad</th>\n",
              "      <th>S-Shad</th>\n",
              "      <th>V-Shad</th>\n",
              "      <th>Setting</th>\n",
              "      <th>Ref</th>\n",
              "      <th>Shad</th>\n",
              "      <th>Img</th>\n",
              "    </tr>\n",
              "  </thead>\n",
              "  <tbody>\n",
              "    <tr>\n",
              "      <th>0</th>\n",
              "      <td>233.315883</td>\n",
              "      <td>219.042529</td>\n",
              "      <td>182.521062</td>\n",
              "      <td>233.667093</td>\n",
              "      <td>219.760757</td>\n",
              "      <td>183.891046</td>\n",
              "      <td>21.621378</td>\n",
              "      <td>55.572843</td>\n",
              "      <td>233.315883</td>\n",
              "      <td>21.686509</td>\n",
              "      <td>54.387028</td>\n",
              "      <td>233.667093</td>\n",
              "      <td>Set1</td>\n",
              "      <td>D3</td>\n",
              "      <td>A1</td>\n",
              "      <td>57601EF7-37D5-4783-A278-238D30F60912.png</td>\n",
              "    </tr>\n",
              "    <tr>\n",
              "      <th>1</th>\n",
              "      <td>233.194140</td>\n",
              "      <td>219.034007</td>\n",
              "      <td>182.078484</td>\n",
              "      <td>233.563331</td>\n",
              "      <td>219.768224</td>\n",
              "      <td>183.451248</td>\n",
              "      <td>21.768038</td>\n",
              "      <td>55.961773</td>\n",
              "      <td>233.194140</td>\n",
              "      <td>21.826755</td>\n",
              "      <td>54.788991</td>\n",
              "      <td>233.563331</td>\n",
              "      <td>Set1</td>\n",
              "      <td>D3</td>\n",
              "      <td>A1</td>\n",
              "      <td>5412037F-4AF3-43A2-A4ED-CADFEC0751E7.png</td>\n",
              "    </tr>\n",
              "    <tr>\n",
              "      <th>2</th>\n",
              "      <td>228.266131</td>\n",
              "      <td>215.102914</td>\n",
              "      <td>179.983605</td>\n",
              "      <td>228.810113</td>\n",
              "      <td>215.946590</td>\n",
              "      <td>181.582960</td>\n",
              "      <td>21.894408</td>\n",
              "      <td>54.001299</td>\n",
              "      <td>228.266131</td>\n",
              "      <td>21.907972</td>\n",
              "      <td>52.719863</td>\n",
              "      <td>228.810113</td>\n",
              "      <td>Set1</td>\n",
              "      <td>D3</td>\n",
              "      <td>A1</td>\n",
              "      <td>456A44EC-FCBD-4487-B70C-F0E01333D15C.png</td>\n",
              "    </tr>\n",
              "    <tr>\n",
              "      <th>3</th>\n",
              "      <td>233.271975</td>\n",
              "      <td>219.056732</td>\n",
              "      <td>181.960799</td>\n",
              "      <td>233.632672</td>\n",
              "      <td>219.760828</td>\n",
              "      <td>183.255672</td>\n",
              "      <td>21.744014</td>\n",
              "      <td>56.161351</td>\n",
              "      <td>233.271975</td>\n",
              "      <td>21.790698</td>\n",
              "      <td>55.064434</td>\n",
              "      <td>233.632672</td>\n",
              "      <td>Set1</td>\n",
              "      <td>D3</td>\n",
              "      <td>A1</td>\n",
              "      <td>834A3691-A011-4D07-8652-E2A2C8F1E3F7.png</td>\n",
              "    </tr>\n",
              "    <tr>\n",
              "      <th>4</th>\n",
              "      <td>234.316776</td>\n",
              "      <td>220.035711</td>\n",
              "      <td>183.531856</td>\n",
              "      <td>234.724131</td>\n",
              "      <td>220.744968</td>\n",
              "      <td>184.855985</td>\n",
              "      <td>21.653843</td>\n",
              "      <td>55.306387</td>\n",
              "      <td>234.316776</td>\n",
              "      <td>21.684873</td>\n",
              "      <td>54.232203</td>\n",
              "      <td>234.724131</td>\n",
              "      <td>Set1</td>\n",
              "      <td>D3</td>\n",
              "      <td>A1</td>\n",
              "      <td>714E83ED-391B-480A-85E8-DC4AB8864683.png</td>\n",
              "    </tr>\n",
              "  </tbody>\n",
              "</table>\n",
              "</div>\n",
              "      <button class=\"colab-df-convert\" onclick=\"convertToInteractive('df-f8417398-6ce6-4083-aa4f-315b216884df')\"\n",
              "              title=\"Convert this dataframe to an interactive table.\"\n",
              "              style=\"display:none;\">\n",
              "        \n",
              "  <svg xmlns=\"http://www.w3.org/2000/svg\" height=\"24px\"viewBox=\"0 0 24 24\"\n",
              "       width=\"24px\">\n",
              "    <path d=\"M0 0h24v24H0V0z\" fill=\"none\"/>\n",
              "    <path d=\"M18.56 5.44l.94 2.06.94-2.06 2.06-.94-2.06-.94-.94-2.06-.94 2.06-2.06.94zm-11 1L8.5 8.5l.94-2.06 2.06-.94-2.06-.94L8.5 2.5l-.94 2.06-2.06.94zm10 10l.94 2.06.94-2.06 2.06-.94-2.06-.94-.94-2.06-.94 2.06-2.06.94z\"/><path d=\"M17.41 7.96l-1.37-1.37c-.4-.4-.92-.59-1.43-.59-.52 0-1.04.2-1.43.59L10.3 9.45l-7.72 7.72c-.78.78-.78 2.05 0 2.83L4 21.41c.39.39.9.59 1.41.59.51 0 1.02-.2 1.41-.59l7.78-7.78 2.81-2.81c.8-.78.8-2.07 0-2.86zM5.41 20L4 18.59l7.72-7.72 1.47 1.35L5.41 20z\"/>\n",
              "  </svg>\n",
              "      </button>\n",
              "      \n",
              "  <style>\n",
              "    .colab-df-container {\n",
              "      display:flex;\n",
              "      flex-wrap:wrap;\n",
              "      gap: 12px;\n",
              "    }\n",
              "\n",
              "    .colab-df-convert {\n",
              "      background-color: #E8F0FE;\n",
              "      border: none;\n",
              "      border-radius: 50%;\n",
              "      cursor: pointer;\n",
              "      display: none;\n",
              "      fill: #1967D2;\n",
              "      height: 32px;\n",
              "      padding: 0 0 0 0;\n",
              "      width: 32px;\n",
              "    }\n",
              "\n",
              "    .colab-df-convert:hover {\n",
              "      background-color: #E2EBFA;\n",
              "      box-shadow: 0px 1px 2px rgba(60, 64, 67, 0.3), 0px 1px 3px 1px rgba(60, 64, 67, 0.15);\n",
              "      fill: #174EA6;\n",
              "    }\n",
              "\n",
              "    [theme=dark] .colab-df-convert {\n",
              "      background-color: #3B4455;\n",
              "      fill: #D2E3FC;\n",
              "    }\n",
              "\n",
              "    [theme=dark] .colab-df-convert:hover {\n",
              "      background-color: #434B5C;\n",
              "      box-shadow: 0px 1px 3px 1px rgba(0, 0, 0, 0.15);\n",
              "      filter: drop-shadow(0px 1px 2px rgba(0, 0, 0, 0.3));\n",
              "      fill: #FFFFFF;\n",
              "    }\n",
              "  </style>\n",
              "\n",
              "      <script>\n",
              "        const buttonEl =\n",
              "          document.querySelector('#df-f8417398-6ce6-4083-aa4f-315b216884df button.colab-df-convert');\n",
              "        buttonEl.style.display =\n",
              "          google.colab.kernel.accessAllowed ? 'block' : 'none';\n",
              "\n",
              "        async function convertToInteractive(key) {\n",
              "          const element = document.querySelector('#df-f8417398-6ce6-4083-aa4f-315b216884df');\n",
              "          const dataTable =\n",
              "            await google.colab.kernel.invokeFunction('convertToInteractive',\n",
              "                                                     [key], {});\n",
              "          if (!dataTable) return;\n",
              "\n",
              "          const docLinkHtml = 'Like what you see? Visit the ' +\n",
              "            '<a target=\"_blank\" href=https://colab.research.google.com/notebooks/data_table.ipynb>data table notebook</a>'\n",
              "            + ' to learn more about interactive tables.';\n",
              "          element.innerHTML = '';\n",
              "          dataTable['output_type'] = 'display_data';\n",
              "          await google.colab.output.renderOutput(dataTable, element);\n",
              "          const docLink = document.createElement('div');\n",
              "          docLink.innerHTML = docLinkHtml;\n",
              "          element.appendChild(docLink);\n",
              "        }\n",
              "      </script>\n",
              "    </div>\n",
              "  </div>\n",
              "  "
            ],
            "text/plain": [
              "        R-ref       G-ref  ...  Shad                                       Img\n",
              "0  233.315883  219.042529  ...    A1  57601EF7-37D5-4783-A278-238D30F60912.png\n",
              "1  233.194140  219.034007  ...    A1  5412037F-4AF3-43A2-A4ED-CADFEC0751E7.png\n",
              "2  228.266131  215.102914  ...    A1  456A44EC-FCBD-4487-B70C-F0E01333D15C.png\n",
              "3  233.271975  219.056732  ...    A1  834A3691-A011-4D07-8652-E2A2C8F1E3F7.png\n",
              "4  234.316776  220.035711  ...    A1  714E83ED-391B-480A-85E8-DC4AB8864683.png\n",
              "\n",
              "[5 rows x 16 columns]"
            ]
          },
          "metadata": {},
          "execution_count": 18
        }
      ]
    },
    {
      "cell_type": "code",
      "source": [
        "table_D3Set2 = pd.read_excel(Set2, sheet_name='D3Set2')\n",
        "table_D3Set2.head()"
      ],
      "metadata": {
        "colab": {
          "base_uri": "https://localhost:8080/"
        },
        "outputId": "cbafc74a-754f-4c8a-9a31-7f250ffb4f90",
        "id": "cFakwmd6x90W"
      },
      "execution_count": null,
      "outputs": [
        {
          "output_type": "execute_result",
          "data": {
            "text/html": [
              "\n",
              "  <div id=\"df-3e67f0c8-0df0-4e1a-a4b0-d60dc13f46ae\">\n",
              "    <div class=\"colab-df-container\">\n",
              "      <div>\n",
              "<style scoped>\n",
              "    .dataframe tbody tr th:only-of-type {\n",
              "        vertical-align: middle;\n",
              "    }\n",
              "\n",
              "    .dataframe tbody tr th {\n",
              "        vertical-align: top;\n",
              "    }\n",
              "\n",
              "    .dataframe thead th {\n",
              "        text-align: right;\n",
              "    }\n",
              "</style>\n",
              "<table border=\"1\" class=\"dataframe\">\n",
              "  <thead>\n",
              "    <tr style=\"text-align: right;\">\n",
              "      <th></th>\n",
              "      <th>R-ref</th>\n",
              "      <th>G-ref</th>\n",
              "      <th>B-ref</th>\n",
              "      <th>R-Shad</th>\n",
              "      <th>G-Shad</th>\n",
              "      <th>B-Shad</th>\n",
              "      <th>H-ref</th>\n",
              "      <th>S-ref</th>\n",
              "      <th>V-ref</th>\n",
              "      <th>H-Shad</th>\n",
              "      <th>S-Shad</th>\n",
              "      <th>V-Shad</th>\n",
              "      <th>Setting</th>\n",
              "      <th>Ref</th>\n",
              "      <th>Shad</th>\n",
              "      <th>Img</th>\n",
              "    </tr>\n",
              "  </thead>\n",
              "  <tbody>\n",
              "    <tr>\n",
              "      <th>0</th>\n",
              "      <td>233.496795</td>\n",
              "      <td>219.459984</td>\n",
              "      <td>183.541861</td>\n",
              "      <td>226.103698</td>\n",
              "      <td>210.819850</td>\n",
              "      <td>176.733852</td>\n",
              "      <td>21.614122</td>\n",
              "      <td>54.612082</td>\n",
              "      <td>233.496795</td>\n",
              "      <td>20.574275</td>\n",
              "      <td>55.678528</td>\n",
              "      <td>226.103698</td>\n",
              "      <td>Set2</td>\n",
              "      <td>D3</td>\n",
              "      <td>A1</td>\n",
              "      <td>BA355DCE-C148-4BBE-8A48-F96D2DDEB36B.png</td>\n",
              "    </tr>\n",
              "    <tr>\n",
              "      <th>1</th>\n",
              "      <td>233.355381</td>\n",
              "      <td>219.439880</td>\n",
              "      <td>183.049242</td>\n",
              "      <td>226.136225</td>\n",
              "      <td>210.611621</td>\n",
              "      <td>176.276619</td>\n",
              "      <td>21.770688</td>\n",
              "      <td>55.038073</td>\n",
              "      <td>233.355381</td>\n",
              "      <td>20.556946</td>\n",
              "      <td>56.211195</td>\n",
              "      <td>226.136225</td>\n",
              "      <td>Set2</td>\n",
              "      <td>D3</td>\n",
              "      <td>A1</td>\n",
              "      <td>40E1D41D-38C4-42B0-B31F-CA1712DB393E.png</td>\n",
              "    </tr>\n",
              "    <tr>\n",
              "      <th>2</th>\n",
              "      <td>228.504662</td>\n",
              "      <td>215.655983</td>\n",
              "      <td>181.190171</td>\n",
              "      <td>220.799092</td>\n",
              "      <td>205.492077</td>\n",
              "      <td>172.120749</td>\n",
              "      <td>21.929779</td>\n",
              "      <td>52.862374</td>\n",
              "      <td>228.504662</td>\n",
              "      <td>20.366416</td>\n",
              "      <td>56.219998</td>\n",
              "      <td>220.799092</td>\n",
              "      <td>Set2</td>\n",
              "      <td>D3</td>\n",
              "      <td>A1</td>\n",
              "      <td>59338A02-6279-42FF-A2CA-E970BAE29C55.png</td>\n",
              "    </tr>\n",
              "    <tr>\n",
              "      <th>3</th>\n",
              "      <td>233.467172</td>\n",
              "      <td>219.479118</td>\n",
              "      <td>182.892580</td>\n",
              "      <td>226.386711</td>\n",
              "      <td>210.920397</td>\n",
              "      <td>176.047818</td>\n",
              "      <td>21.751943</td>\n",
              "      <td>55.308761</td>\n",
              "      <td>233.467172</td>\n",
              "      <td>20.750811</td>\n",
              "      <td>56.671764</td>\n",
              "      <td>226.386711</td>\n",
              "      <td>Set2</td>\n",
              "      <td>D3</td>\n",
              "      <td>A1</td>\n",
              "      <td>847D87DE-CDA4-49D8-8411-34DFEAD6A06F.png</td>\n",
              "    </tr>\n",
              "    <tr>\n",
              "      <th>4</th>\n",
              "      <td>234.509615</td>\n",
              "      <td>220.490385</td>\n",
              "      <td>184.508256</td>\n",
              "      <td>227.663423</td>\n",
              "      <td>212.284033</td>\n",
              "      <td>178.291261</td>\n",
              "      <td>21.661131</td>\n",
              "      <td>54.405206</td>\n",
              "      <td>234.509615</td>\n",
              "      <td>20.525438</td>\n",
              "      <td>55.283848</td>\n",
              "      <td>227.663423</td>\n",
              "      <td>Set2</td>\n",
              "      <td>D3</td>\n",
              "      <td>A1</td>\n",
              "      <td>836F8028-4744-4B50-BFA8-DD71556DC524.png</td>\n",
              "    </tr>\n",
              "  </tbody>\n",
              "</table>\n",
              "</div>\n",
              "      <button class=\"colab-df-convert\" onclick=\"convertToInteractive('df-3e67f0c8-0df0-4e1a-a4b0-d60dc13f46ae')\"\n",
              "              title=\"Convert this dataframe to an interactive table.\"\n",
              "              style=\"display:none;\">\n",
              "        \n",
              "  <svg xmlns=\"http://www.w3.org/2000/svg\" height=\"24px\"viewBox=\"0 0 24 24\"\n",
              "       width=\"24px\">\n",
              "    <path d=\"M0 0h24v24H0V0z\" fill=\"none\"/>\n",
              "    <path d=\"M18.56 5.44l.94 2.06.94-2.06 2.06-.94-2.06-.94-.94-2.06-.94 2.06-2.06.94zm-11 1L8.5 8.5l.94-2.06 2.06-.94-2.06-.94L8.5 2.5l-.94 2.06-2.06.94zm10 10l.94 2.06.94-2.06 2.06-.94-2.06-.94-.94-2.06-.94 2.06-2.06.94z\"/><path d=\"M17.41 7.96l-1.37-1.37c-.4-.4-.92-.59-1.43-.59-.52 0-1.04.2-1.43.59L10.3 9.45l-7.72 7.72c-.78.78-.78 2.05 0 2.83L4 21.41c.39.39.9.59 1.41.59.51 0 1.02-.2 1.41-.59l7.78-7.78 2.81-2.81c.8-.78.8-2.07 0-2.86zM5.41 20L4 18.59l7.72-7.72 1.47 1.35L5.41 20z\"/>\n",
              "  </svg>\n",
              "      </button>\n",
              "      \n",
              "  <style>\n",
              "    .colab-df-container {\n",
              "      display:flex;\n",
              "      flex-wrap:wrap;\n",
              "      gap: 12px;\n",
              "    }\n",
              "\n",
              "    .colab-df-convert {\n",
              "      background-color: #E8F0FE;\n",
              "      border: none;\n",
              "      border-radius: 50%;\n",
              "      cursor: pointer;\n",
              "      display: none;\n",
              "      fill: #1967D2;\n",
              "      height: 32px;\n",
              "      padding: 0 0 0 0;\n",
              "      width: 32px;\n",
              "    }\n",
              "\n",
              "    .colab-df-convert:hover {\n",
              "      background-color: #E2EBFA;\n",
              "      box-shadow: 0px 1px 2px rgba(60, 64, 67, 0.3), 0px 1px 3px 1px rgba(60, 64, 67, 0.15);\n",
              "      fill: #174EA6;\n",
              "    }\n",
              "\n",
              "    [theme=dark] .colab-df-convert {\n",
              "      background-color: #3B4455;\n",
              "      fill: #D2E3FC;\n",
              "    }\n",
              "\n",
              "    [theme=dark] .colab-df-convert:hover {\n",
              "      background-color: #434B5C;\n",
              "      box-shadow: 0px 1px 3px 1px rgba(0, 0, 0, 0.15);\n",
              "      filter: drop-shadow(0px 1px 2px rgba(0, 0, 0, 0.3));\n",
              "      fill: #FFFFFF;\n",
              "    }\n",
              "  </style>\n",
              "\n",
              "      <script>\n",
              "        const buttonEl =\n",
              "          document.querySelector('#df-3e67f0c8-0df0-4e1a-a4b0-d60dc13f46ae button.colab-df-convert');\n",
              "        buttonEl.style.display =\n",
              "          google.colab.kernel.accessAllowed ? 'block' : 'none';\n",
              "\n",
              "        async function convertToInteractive(key) {\n",
              "          const element = document.querySelector('#df-3e67f0c8-0df0-4e1a-a4b0-d60dc13f46ae');\n",
              "          const dataTable =\n",
              "            await google.colab.kernel.invokeFunction('convertToInteractive',\n",
              "                                                     [key], {});\n",
              "          if (!dataTable) return;\n",
              "\n",
              "          const docLinkHtml = 'Like what you see? Visit the ' +\n",
              "            '<a target=\"_blank\" href=https://colab.research.google.com/notebooks/data_table.ipynb>data table notebook</a>'\n",
              "            + ' to learn more about interactive tables.';\n",
              "          element.innerHTML = '';\n",
              "          dataTable['output_type'] = 'display_data';\n",
              "          await google.colab.output.renderOutput(dataTable, element);\n",
              "          const docLink = document.createElement('div');\n",
              "          docLink.innerHTML = docLinkHtml;\n",
              "          element.appendChild(docLink);\n",
              "        }\n",
              "      </script>\n",
              "    </div>\n",
              "  </div>\n",
              "  "
            ],
            "text/plain": [
              "        R-ref       G-ref  ...  Shad                                       Img\n",
              "0  233.496795  219.459984  ...    A1  BA355DCE-C148-4BBE-8A48-F96D2DDEB36B.png\n",
              "1  233.355381  219.439880  ...    A1  40E1D41D-38C4-42B0-B31F-CA1712DB393E.png\n",
              "2  228.504662  215.655983  ...    A1  59338A02-6279-42FF-A2CA-E970BAE29C55.png\n",
              "3  233.467172  219.479118  ...    A1  847D87DE-CDA4-49D8-8411-34DFEAD6A06F.png\n",
              "4  234.509615  220.490385  ...    A1  836F8028-4744-4B50-BFA8-DD71556DC524.png\n",
              "\n",
              "[5 rows x 16 columns]"
            ]
          },
          "metadata": {},
          "execution_count": 19
        }
      ]
    },
    {
      "cell_type": "code",
      "source": [
        "table_D3Set3 = pd.read_excel(Set3, sheet_name='D3Set3 ')\n",
        "table_D3Set3.head()"
      ],
      "metadata": {
        "colab": {
          "base_uri": "https://localhost:8080/"
        },
        "outputId": "8679494e-c81f-4620-f39d-57a561e1b98a",
        "id": "k_96o6p1x90W"
      },
      "execution_count": null,
      "outputs": [
        {
          "output_type": "execute_result",
          "data": {
            "text/html": [
              "\n",
              "  <div id=\"df-e425a20c-1faf-4007-8855-5ea792da106e\">\n",
              "    <div class=\"colab-df-container\">\n",
              "      <div>\n",
              "<style scoped>\n",
              "    .dataframe tbody tr th:only-of-type {\n",
              "        vertical-align: middle;\n",
              "    }\n",
              "\n",
              "    .dataframe tbody tr th {\n",
              "        vertical-align: top;\n",
              "    }\n",
              "\n",
              "    .dataframe thead th {\n",
              "        text-align: right;\n",
              "    }\n",
              "</style>\n",
              "<table border=\"1\" class=\"dataframe\">\n",
              "  <thead>\n",
              "    <tr style=\"text-align: right;\">\n",
              "      <th></th>\n",
              "      <th>R-ref</th>\n",
              "      <th>G-ref</th>\n",
              "      <th>B-ref</th>\n",
              "      <th>R-Shad</th>\n",
              "      <th>G-Shad</th>\n",
              "      <th>B-Shad</th>\n",
              "      <th>H-ref</th>\n",
              "      <th>S-ref</th>\n",
              "      <th>V-ref</th>\n",
              "      <th>H-Shad</th>\n",
              "      <th>S-Shad</th>\n",
              "      <th>V-Shad</th>\n",
              "      <th>Setting</th>\n",
              "      <th>Ref</th>\n",
              "      <th>Shad</th>\n",
              "      <th>Img</th>\n",
              "    </tr>\n",
              "  </thead>\n",
              "  <tbody>\n",
              "    <tr>\n",
              "      <th>0</th>\n",
              "      <td>233.315883</td>\n",
              "      <td>219.042529</td>\n",
              "      <td>182.521062</td>\n",
              "      <td>233.667093</td>\n",
              "      <td>219.760757</td>\n",
              "      <td>183.891046</td>\n",
              "      <td>21.621378</td>\n",
              "      <td>55.572843</td>\n",
              "      <td>233.315883</td>\n",
              "      <td>21.686509</td>\n",
              "      <td>54.387028</td>\n",
              "      <td>233.667093</td>\n",
              "      <td>Set3</td>\n",
              "      <td>D3</td>\n",
              "      <td>A1</td>\n",
              "      <td>44F32CB2-4AC3-4AA4-B00C-0873A77C39FB.png</td>\n",
              "    </tr>\n",
              "    <tr>\n",
              "      <th>1</th>\n",
              "      <td>233.194140</td>\n",
              "      <td>219.034007</td>\n",
              "      <td>182.078484</td>\n",
              "      <td>233.563331</td>\n",
              "      <td>219.768224</td>\n",
              "      <td>183.451248</td>\n",
              "      <td>21.768038</td>\n",
              "      <td>55.961773</td>\n",
              "      <td>233.194140</td>\n",
              "      <td>21.826755</td>\n",
              "      <td>54.788991</td>\n",
              "      <td>233.563331</td>\n",
              "      <td>Set3</td>\n",
              "      <td>D3</td>\n",
              "      <td>A1</td>\n",
              "      <td>2CDD72C1-95CD-437D-861D-22AF8E89C9CD.png</td>\n",
              "    </tr>\n",
              "    <tr>\n",
              "      <th>2</th>\n",
              "      <td>228.266131</td>\n",
              "      <td>215.102914</td>\n",
              "      <td>179.983605</td>\n",
              "      <td>228.810113</td>\n",
              "      <td>215.946590</td>\n",
              "      <td>181.582960</td>\n",
              "      <td>21.894408</td>\n",
              "      <td>54.001299</td>\n",
              "      <td>228.266131</td>\n",
              "      <td>21.907972</td>\n",
              "      <td>52.719863</td>\n",
              "      <td>228.810113</td>\n",
              "      <td>Set3</td>\n",
              "      <td>D3</td>\n",
              "      <td>A1</td>\n",
              "      <td>CBFB3E49-B585-4DE7-996B-CB1409AD9FBA.png</td>\n",
              "    </tr>\n",
              "    <tr>\n",
              "      <th>3</th>\n",
              "      <td>233.271975</td>\n",
              "      <td>219.056732</td>\n",
              "      <td>181.960799</td>\n",
              "      <td>233.632672</td>\n",
              "      <td>219.760828</td>\n",
              "      <td>183.255672</td>\n",
              "      <td>21.744014</td>\n",
              "      <td>56.161351</td>\n",
              "      <td>233.271975</td>\n",
              "      <td>21.790698</td>\n",
              "      <td>55.064434</td>\n",
              "      <td>233.632672</td>\n",
              "      <td>Set3</td>\n",
              "      <td>D3</td>\n",
              "      <td>A1</td>\n",
              "      <td>74C493A4-A4F6-472E-A771-763A75C24A4F.png</td>\n",
              "    </tr>\n",
              "    <tr>\n",
              "      <th>4</th>\n",
              "      <td>234.316776</td>\n",
              "      <td>220.035711</td>\n",
              "      <td>183.531856</td>\n",
              "      <td>234.724131</td>\n",
              "      <td>220.744968</td>\n",
              "      <td>184.855985</td>\n",
              "      <td>21.653843</td>\n",
              "      <td>55.306387</td>\n",
              "      <td>234.316776</td>\n",
              "      <td>21.684873</td>\n",
              "      <td>54.232203</td>\n",
              "      <td>234.724131</td>\n",
              "      <td>Set3</td>\n",
              "      <td>D3</td>\n",
              "      <td>A1</td>\n",
              "      <td>962C3361-D41F-42C8-B4E2-D58066BB75ED.png</td>\n",
              "    </tr>\n",
              "  </tbody>\n",
              "</table>\n",
              "</div>\n",
              "      <button class=\"colab-df-convert\" onclick=\"convertToInteractive('df-e425a20c-1faf-4007-8855-5ea792da106e')\"\n",
              "              title=\"Convert this dataframe to an interactive table.\"\n",
              "              style=\"display:none;\">\n",
              "        \n",
              "  <svg xmlns=\"http://www.w3.org/2000/svg\" height=\"24px\"viewBox=\"0 0 24 24\"\n",
              "       width=\"24px\">\n",
              "    <path d=\"M0 0h24v24H0V0z\" fill=\"none\"/>\n",
              "    <path d=\"M18.56 5.44l.94 2.06.94-2.06 2.06-.94-2.06-.94-.94-2.06-.94 2.06-2.06.94zm-11 1L8.5 8.5l.94-2.06 2.06-.94-2.06-.94L8.5 2.5l-.94 2.06-2.06.94zm10 10l.94 2.06.94-2.06 2.06-.94-2.06-.94-.94-2.06-.94 2.06-2.06.94z\"/><path d=\"M17.41 7.96l-1.37-1.37c-.4-.4-.92-.59-1.43-.59-.52 0-1.04.2-1.43.59L10.3 9.45l-7.72 7.72c-.78.78-.78 2.05 0 2.83L4 21.41c.39.39.9.59 1.41.59.51 0 1.02-.2 1.41-.59l7.78-7.78 2.81-2.81c.8-.78.8-2.07 0-2.86zM5.41 20L4 18.59l7.72-7.72 1.47 1.35L5.41 20z\"/>\n",
              "  </svg>\n",
              "      </button>\n",
              "      \n",
              "  <style>\n",
              "    .colab-df-container {\n",
              "      display:flex;\n",
              "      flex-wrap:wrap;\n",
              "      gap: 12px;\n",
              "    }\n",
              "\n",
              "    .colab-df-convert {\n",
              "      background-color: #E8F0FE;\n",
              "      border: none;\n",
              "      border-radius: 50%;\n",
              "      cursor: pointer;\n",
              "      display: none;\n",
              "      fill: #1967D2;\n",
              "      height: 32px;\n",
              "      padding: 0 0 0 0;\n",
              "      width: 32px;\n",
              "    }\n",
              "\n",
              "    .colab-df-convert:hover {\n",
              "      background-color: #E2EBFA;\n",
              "      box-shadow: 0px 1px 2px rgba(60, 64, 67, 0.3), 0px 1px 3px 1px rgba(60, 64, 67, 0.15);\n",
              "      fill: #174EA6;\n",
              "    }\n",
              "\n",
              "    [theme=dark] .colab-df-convert {\n",
              "      background-color: #3B4455;\n",
              "      fill: #D2E3FC;\n",
              "    }\n",
              "\n",
              "    [theme=dark] .colab-df-convert:hover {\n",
              "      background-color: #434B5C;\n",
              "      box-shadow: 0px 1px 3px 1px rgba(0, 0, 0, 0.15);\n",
              "      filter: drop-shadow(0px 1px 2px rgba(0, 0, 0, 0.3));\n",
              "      fill: #FFFFFF;\n",
              "    }\n",
              "  </style>\n",
              "\n",
              "      <script>\n",
              "        const buttonEl =\n",
              "          document.querySelector('#df-e425a20c-1faf-4007-8855-5ea792da106e button.colab-df-convert');\n",
              "        buttonEl.style.display =\n",
              "          google.colab.kernel.accessAllowed ? 'block' : 'none';\n",
              "\n",
              "        async function convertToInteractive(key) {\n",
              "          const element = document.querySelector('#df-e425a20c-1faf-4007-8855-5ea792da106e');\n",
              "          const dataTable =\n",
              "            await google.colab.kernel.invokeFunction('convertToInteractive',\n",
              "                                                     [key], {});\n",
              "          if (!dataTable) return;\n",
              "\n",
              "          const docLinkHtml = 'Like what you see? Visit the ' +\n",
              "            '<a target=\"_blank\" href=https://colab.research.google.com/notebooks/data_table.ipynb>data table notebook</a>'\n",
              "            + ' to learn more about interactive tables.';\n",
              "          element.innerHTML = '';\n",
              "          dataTable['output_type'] = 'display_data';\n",
              "          await google.colab.output.renderOutput(dataTable, element);\n",
              "          const docLink = document.createElement('div');\n",
              "          docLink.innerHTML = docLinkHtml;\n",
              "          element.appendChild(docLink);\n",
              "        }\n",
              "      </script>\n",
              "    </div>\n",
              "  </div>\n",
              "  "
            ],
            "text/plain": [
              "        R-ref       G-ref  ...  Shad                                       Img\n",
              "0  233.315883  219.042529  ...    A1  44F32CB2-4AC3-4AA4-B00C-0873A77C39FB.png\n",
              "1  233.194140  219.034007  ...    A1  2CDD72C1-95CD-437D-861D-22AF8E89C9CD.png\n",
              "2  228.266131  215.102914  ...    A1  CBFB3E49-B585-4DE7-996B-CB1409AD9FBA.png\n",
              "3  233.271975  219.056732  ...    A1  74C493A4-A4F6-472E-A771-763A75C24A4F.png\n",
              "4  234.316776  220.035711  ...    A1  962C3361-D41F-42C8-B4E2-D58066BB75ED.png\n",
              "\n",
              "[5 rows x 16 columns]"
            ]
          },
          "metadata": {},
          "execution_count": 20
        }
      ]
    },
    {
      "cell_type": "code",
      "source": [
        "table_D3Set4 = pd.read_excel(Set4, sheet_name='D3Set4')\n",
        "table_D3Set4.head()"
      ],
      "metadata": {
        "colab": {
          "base_uri": "https://localhost:8080/"
        },
        "outputId": "74bdb090-eeb2-47ad-f1f8-d1731961a704",
        "id": "cuqvRlS1x90W"
      },
      "execution_count": null,
      "outputs": [
        {
          "output_type": "execute_result",
          "data": {
            "text/html": [
              "\n",
              "  <div id=\"df-596b2366-915d-4db7-8aa8-3351e0b40529\">\n",
              "    <div class=\"colab-df-container\">\n",
              "      <div>\n",
              "<style scoped>\n",
              "    .dataframe tbody tr th:only-of-type {\n",
              "        vertical-align: middle;\n",
              "    }\n",
              "\n",
              "    .dataframe tbody tr th {\n",
              "        vertical-align: top;\n",
              "    }\n",
              "\n",
              "    .dataframe thead th {\n",
              "        text-align: right;\n",
              "    }\n",
              "</style>\n",
              "<table border=\"1\" class=\"dataframe\">\n",
              "  <thead>\n",
              "    <tr style=\"text-align: right;\">\n",
              "      <th></th>\n",
              "      <th>R-ref</th>\n",
              "      <th>G-ref</th>\n",
              "      <th>B-ref</th>\n",
              "      <th>R-Shad</th>\n",
              "      <th>G-Shad</th>\n",
              "      <th>B-Shad</th>\n",
              "      <th>H-ref</th>\n",
              "      <th>S-ref</th>\n",
              "      <th>V-ref</th>\n",
              "      <th>H-Shad</th>\n",
              "      <th>S-Shad</th>\n",
              "      <th>V-Shad</th>\n",
              "      <th>Setting</th>\n",
              "      <th>Ref</th>\n",
              "      <th>Shad</th>\n",
              "      <th>Img</th>\n",
              "    </tr>\n",
              "  </thead>\n",
              "  <tbody>\n",
              "    <tr>\n",
              "      <th>0</th>\n",
              "      <td>233.496795</td>\n",
              "      <td>219.459984</td>\n",
              "      <td>183.541861</td>\n",
              "      <td>226.103698</td>\n",
              "      <td>210.819850</td>\n",
              "      <td>176.733852</td>\n",
              "      <td>21.614122</td>\n",
              "      <td>54.612082</td>\n",
              "      <td>233.496795</td>\n",
              "      <td>20.574275</td>\n",
              "      <td>55.678528</td>\n",
              "      <td>226.103698</td>\n",
              "      <td>Set4</td>\n",
              "      <td>D3</td>\n",
              "      <td>A1</td>\n",
              "      <td>55D1922F-F23E-42B3-9163-13EDAA8937B9.png</td>\n",
              "    </tr>\n",
              "    <tr>\n",
              "      <th>1</th>\n",
              "      <td>233.355381</td>\n",
              "      <td>219.439880</td>\n",
              "      <td>183.049242</td>\n",
              "      <td>226.136225</td>\n",
              "      <td>210.611621</td>\n",
              "      <td>176.276619</td>\n",
              "      <td>21.770688</td>\n",
              "      <td>55.038073</td>\n",
              "      <td>233.355381</td>\n",
              "      <td>20.556946</td>\n",
              "      <td>56.211195</td>\n",
              "      <td>226.136225</td>\n",
              "      <td>Set4</td>\n",
              "      <td>D3</td>\n",
              "      <td>A1</td>\n",
              "      <td>039D73E5-8D95-487A-9124-4544316E1B0B.png</td>\n",
              "    </tr>\n",
              "    <tr>\n",
              "      <th>2</th>\n",
              "      <td>228.504662</td>\n",
              "      <td>215.655983</td>\n",
              "      <td>181.190171</td>\n",
              "      <td>220.799092</td>\n",
              "      <td>205.492077</td>\n",
              "      <td>172.120749</td>\n",
              "      <td>21.929779</td>\n",
              "      <td>52.862374</td>\n",
              "      <td>228.504662</td>\n",
              "      <td>20.366416</td>\n",
              "      <td>56.219998</td>\n",
              "      <td>220.799092</td>\n",
              "      <td>Set4</td>\n",
              "      <td>D3</td>\n",
              "      <td>A1</td>\n",
              "      <td>FB040BAB-00C0-4A01-963B-59CF94123044.png</td>\n",
              "    </tr>\n",
              "    <tr>\n",
              "      <th>3</th>\n",
              "      <td>233.467172</td>\n",
              "      <td>219.479118</td>\n",
              "      <td>182.892580</td>\n",
              "      <td>226.386711</td>\n",
              "      <td>210.920397</td>\n",
              "      <td>176.047818</td>\n",
              "      <td>21.751943</td>\n",
              "      <td>55.308761</td>\n",
              "      <td>233.467172</td>\n",
              "      <td>20.750811</td>\n",
              "      <td>56.671764</td>\n",
              "      <td>226.386711</td>\n",
              "      <td>Set4</td>\n",
              "      <td>D3</td>\n",
              "      <td>A1</td>\n",
              "      <td>33D7101E-615D-4D53-BBF4-1FFC799B1FAF.png</td>\n",
              "    </tr>\n",
              "    <tr>\n",
              "      <th>4</th>\n",
              "      <td>234.509615</td>\n",
              "      <td>220.490385</td>\n",
              "      <td>184.508256</td>\n",
              "      <td>227.663423</td>\n",
              "      <td>212.284033</td>\n",
              "      <td>178.291261</td>\n",
              "      <td>21.661131</td>\n",
              "      <td>54.405206</td>\n",
              "      <td>234.509615</td>\n",
              "      <td>20.525438</td>\n",
              "      <td>55.283848</td>\n",
              "      <td>227.663423</td>\n",
              "      <td>Set4</td>\n",
              "      <td>D3</td>\n",
              "      <td>A1</td>\n",
              "      <td>89130C74-286A-4614-9CCF-2423B2AC601B.png</td>\n",
              "    </tr>\n",
              "  </tbody>\n",
              "</table>\n",
              "</div>\n",
              "      <button class=\"colab-df-convert\" onclick=\"convertToInteractive('df-596b2366-915d-4db7-8aa8-3351e0b40529')\"\n",
              "              title=\"Convert this dataframe to an interactive table.\"\n",
              "              style=\"display:none;\">\n",
              "        \n",
              "  <svg xmlns=\"http://www.w3.org/2000/svg\" height=\"24px\"viewBox=\"0 0 24 24\"\n",
              "       width=\"24px\">\n",
              "    <path d=\"M0 0h24v24H0V0z\" fill=\"none\"/>\n",
              "    <path d=\"M18.56 5.44l.94 2.06.94-2.06 2.06-.94-2.06-.94-.94-2.06-.94 2.06-2.06.94zm-11 1L8.5 8.5l.94-2.06 2.06-.94-2.06-.94L8.5 2.5l-.94 2.06-2.06.94zm10 10l.94 2.06.94-2.06 2.06-.94-2.06-.94-.94-2.06-.94 2.06-2.06.94z\"/><path d=\"M17.41 7.96l-1.37-1.37c-.4-.4-.92-.59-1.43-.59-.52 0-1.04.2-1.43.59L10.3 9.45l-7.72 7.72c-.78.78-.78 2.05 0 2.83L4 21.41c.39.39.9.59 1.41.59.51 0 1.02-.2 1.41-.59l7.78-7.78 2.81-2.81c.8-.78.8-2.07 0-2.86zM5.41 20L4 18.59l7.72-7.72 1.47 1.35L5.41 20z\"/>\n",
              "  </svg>\n",
              "      </button>\n",
              "      \n",
              "  <style>\n",
              "    .colab-df-container {\n",
              "      display:flex;\n",
              "      flex-wrap:wrap;\n",
              "      gap: 12px;\n",
              "    }\n",
              "\n",
              "    .colab-df-convert {\n",
              "      background-color: #E8F0FE;\n",
              "      border: none;\n",
              "      border-radius: 50%;\n",
              "      cursor: pointer;\n",
              "      display: none;\n",
              "      fill: #1967D2;\n",
              "      height: 32px;\n",
              "      padding: 0 0 0 0;\n",
              "      width: 32px;\n",
              "    }\n",
              "\n",
              "    .colab-df-convert:hover {\n",
              "      background-color: #E2EBFA;\n",
              "      box-shadow: 0px 1px 2px rgba(60, 64, 67, 0.3), 0px 1px 3px 1px rgba(60, 64, 67, 0.15);\n",
              "      fill: #174EA6;\n",
              "    }\n",
              "\n",
              "    [theme=dark] .colab-df-convert {\n",
              "      background-color: #3B4455;\n",
              "      fill: #D2E3FC;\n",
              "    }\n",
              "\n",
              "    [theme=dark] .colab-df-convert:hover {\n",
              "      background-color: #434B5C;\n",
              "      box-shadow: 0px 1px 3px 1px rgba(0, 0, 0, 0.15);\n",
              "      filter: drop-shadow(0px 1px 2px rgba(0, 0, 0, 0.3));\n",
              "      fill: #FFFFFF;\n",
              "    }\n",
              "  </style>\n",
              "\n",
              "      <script>\n",
              "        const buttonEl =\n",
              "          document.querySelector('#df-596b2366-915d-4db7-8aa8-3351e0b40529 button.colab-df-convert');\n",
              "        buttonEl.style.display =\n",
              "          google.colab.kernel.accessAllowed ? 'block' : 'none';\n",
              "\n",
              "        async function convertToInteractive(key) {\n",
              "          const element = document.querySelector('#df-596b2366-915d-4db7-8aa8-3351e0b40529');\n",
              "          const dataTable =\n",
              "            await google.colab.kernel.invokeFunction('convertToInteractive',\n",
              "                                                     [key], {});\n",
              "          if (!dataTable) return;\n",
              "\n",
              "          const docLinkHtml = 'Like what you see? Visit the ' +\n",
              "            '<a target=\"_blank\" href=https://colab.research.google.com/notebooks/data_table.ipynb>data table notebook</a>'\n",
              "            + ' to learn more about interactive tables.';\n",
              "          element.innerHTML = '';\n",
              "          dataTable['output_type'] = 'display_data';\n",
              "          await google.colab.output.renderOutput(dataTable, element);\n",
              "          const docLink = document.createElement('div');\n",
              "          docLink.innerHTML = docLinkHtml;\n",
              "          element.appendChild(docLink);\n",
              "        }\n",
              "      </script>\n",
              "    </div>\n",
              "  </div>\n",
              "  "
            ],
            "text/plain": [
              "        R-ref       G-ref  ...  Shad                                       Img\n",
              "0  233.496795  219.459984  ...    A1  55D1922F-F23E-42B3-9163-13EDAA8937B9.png\n",
              "1  233.355381  219.439880  ...    A1  039D73E5-8D95-487A-9124-4544316E1B0B.png\n",
              "2  228.504662  215.655983  ...    A1  FB040BAB-00C0-4A01-963B-59CF94123044.png\n",
              "3  233.467172  219.479118  ...    A1  33D7101E-615D-4D53-BBF4-1FFC799B1FAF.png\n",
              "4  234.509615  220.490385  ...    A1  89130C74-286A-4614-9CCF-2423B2AC601B.png\n",
              "\n",
              "[5 rows x 16 columns]"
            ]
          },
          "metadata": {},
          "execution_count": 21
        }
      ]
    },
    {
      "cell_type": "code",
      "source": [
        "RGB_D3_CC1 = table_D3CC1.drop(['H-ref','S-ref','V-ref','H-Shad','S-Shad','V-Shad','Setting','Ref','Shad','Img'], axis=1)"
      ],
      "metadata": {
        "id": "ZL9SpS_3Qo1o"
      },
      "execution_count": null,
      "outputs": []
    },
    {
      "cell_type": "code",
      "source": [
        "HSV_D3_CC1 = table_D3CC1.drop(['R-ref','G-ref','B-ref','R-Shad','G-Shad','B-Shad','Setting','Ref','Shad','Img'], axis=1)"
      ],
      "metadata": {
        "id": "FDmtDo4sQ2U2"
      },
      "execution_count": null,
      "outputs": []
    },
    {
      "cell_type": "code",
      "source": [
        "RGB_D3_CC2 = table_D3CC2.drop(['H-ref','S-ref','V-ref','H-Shad','S-Shad','V-Shad','Setting','Ref','Shad','Img'], axis=1)"
      ],
      "metadata": {
        "id": "oyhkZz3GRN3e"
      },
      "execution_count": null,
      "outputs": []
    },
    {
      "cell_type": "code",
      "source": [
        "HSV_D3_CC2 = table_D3CC2.drop(['R-ref','G-ref','B-ref','R-Shad','G-Shad','B-Shad','Setting','Ref','Shad','Img'], axis=1)"
      ],
      "metadata": {
        "id": "oxjnbhRcRN3e"
      },
      "execution_count": null,
      "outputs": []
    },
    {
      "cell_type": "markdown",
      "source": [
        "###RGB CC1"
      ],
      "metadata": {
        "id": "CYvwE4PDx90W"
      }
    },
    {
      "cell_type": "code",
      "source": [
        "#ดึงตารางที่ต้องการใช้มาก่อน"
      ],
      "metadata": {
        "id": "zwQ1K_9bmapS"
      },
      "execution_count": null,
      "outputs": []
    },
    {
      "cell_type": "code",
      "source": [
        "RGB_D3_Set4 = table_D3Set4"
      ],
      "metadata": {
        "id": "PlR5iWwRx90W"
      },
      "execution_count": null,
      "outputs": []
    },
    {
      "cell_type": "code",
      "source": [
        "RGB_D3_Set1 = table_D3Set1"
      ],
      "metadata": {
        "id": "blPo4yEex90W"
      },
      "execution_count": null,
      "outputs": []
    },
    {
      "cell_type": "code",
      "source": [
        "RGB_D3_Set2 = table_D3Set2"
      ],
      "metadata": {
        "id": "h-p_12Ffx90W"
      },
      "execution_count": null,
      "outputs": []
    },
    {
      "cell_type": "code",
      "source": [
        "RGB_D3_Set3 = table_D3Set3"
      ],
      "metadata": {
        "id": "_gplnOW-x90X"
      },
      "execution_count": null,
      "outputs": []
    },
    {
      "cell_type": "code",
      "source": [
        "RGB_D3_concat = pd.concat([RGB_D3_Set1,RGB_D3_Set2])"
      ],
      "metadata": {
        "id": "P2_3rUpYok-H"
      },
      "execution_count": null,
      "outputs": []
    },
    {
      "cell_type": "code",
      "source": [
        "RGB_D3_concat0 = pd.concat([RGB_D3_concat,RGB_D3_Set4])"
      ],
      "metadata": {
        "id": "qAOZ46Hjx90X"
      },
      "execution_count": null,
      "outputs": []
    },
    {
      "cell_type": "code",
      "source": [
        "RGB_D3_concat1 = pd.concat([RGB_D3_concat0,RGB_D3_Set3])\n",
        "#รวมตารางของแต่ละ setting เข้าด้วยกันเพื่อใช้ในการ train ข้อมูล"
      ],
      "metadata": {
        "id": "lS7r_4VVx90X"
      },
      "execution_count": null,
      "outputs": []
    },
    {
      "cell_type": "code",
      "source": [
        "RGB_D3_concat2 = RGB_D3_concat1.drop(['H-ref','S-ref','V-ref','H-Shad','S-Shad','V-Shad','Setting','Ref','Shad','Img'], axis=1)\n",
        "#เอาเฉพาะตัวตารางที่เป็น RGB ออกมา"
      ],
      "metadata": {
        "id": "1yMt6NzXx90X"
      },
      "execution_count": null,
      "outputs": []
    },
    {
      "cell_type": "code",
      "source": [
        "X_test_D3_RGB = np.array(RGB_D3_CC1)"
      ],
      "metadata": {
        "id": "ufA1_Y1xx90X"
      },
      "execution_count": null,
      "outputs": []
    },
    {
      "cell_type": "code",
      "source": [
        "y_D3_RGB =  table_D3CC1.iloc[:,14:15]\n",
        "#ใช้เฉพาะ column shad ในการจับคู่"
      ],
      "metadata": {
        "id": "-QW8SDSyx90X"
      },
      "execution_count": null,
      "outputs": []
    },
    {
      "cell_type": "code",
      "source": [
        "y_test_D3_RGB = np.array(y_D3_RGB)#เปลี่ยนให้ค่าในตารางเป็น array "
      ],
      "metadata": {
        "id": "kL5UDJAUx90X"
      },
      "execution_count": null,
      "outputs": []
    },
    {
      "cell_type": "code",
      "source": [
        "X_train_D3_RGB = np.array(RGB_D3_concat2)#เปลี่ยนให้ค่าในตารางเป็น array "
      ],
      "metadata": {
        "id": "I-j7R3Tnx90X"
      },
      "execution_count": null,
      "outputs": []
    },
    {
      "cell_type": "code",
      "source": [
        "y_train_D3RGB = RGB_D3_concat1.iloc[:,14:15]#ใช้เฉพาะ column shad ในการจับคู่"
      ],
      "metadata": {
        "id": "cuBbjTNYx90X"
      },
      "execution_count": null,
      "outputs": []
    },
    {
      "cell_type": "code",
      "source": [
        "y_train_D3_RGB = np.array(y_train_D3RGB)#เปลี่ยนให้ค่าในตารางเป็น array "
      ],
      "metadata": {
        "id": "gB3TEG8Ox90Y"
      },
      "execution_count": null,
      "outputs": []
    },
    {
      "cell_type": "code",
      "source": [
        "clf.fit(X_train_D3_RGB, y_train_D3_RGB) #หาค่าเฉลี่ยและส่วนเบี่ยงเบนมาตราฐานของ x_train y_train"
      ],
      "metadata": {
        "colab": {
          "base_uri": "https://localhost:8080/"
        },
        "outputId": "103a025b-ab17-4ccf-e302-0379f12f14cc",
        "id": "owe-5XSGx90Y"
      },
      "execution_count": null,
      "outputs": [
        {
          "output_type": "stream",
          "name": "stderr",
          "text": [
            "/usr/local/lib/python3.7/dist-packages/ipykernel_launcher.py:1: DataConversionWarning: A column-vector y was passed when a 1d array was expected. Please change the shape of y to (n_samples,), for example using ravel().\n",
            "  \"\"\"Entry point for launching an IPython kernel.\n"
          ]
        },
        {
          "output_type": "execute_result",
          "data": {
            "text/plain": [
              "RandomForestClassifier()"
            ]
          },
          "metadata": {},
          "execution_count": 41
        }
      ]
    },
    {
      "cell_type": "code",
      "source": [
        "y_pred_D3_RGB = clf.predict(X_test_D3_RGB) #ทำการจับคู่สีฟันด้วยวิธี random forest โดยใช้ X_test"
      ],
      "metadata": {
        "id": "_A7t5UNHx90Y"
      },
      "execution_count": null,
      "outputs": []
    },
    {
      "cell_type": "code",
      "source": [
        "print(\"Accuracy:\", metrics.accuracy_score(y_test_D3_RGB, y_pred_D3_RGB))\n",
        "#หาค่า Accuracy ระหว่าง y_test และ y_pred ว่าฟันสามารถจับคู่กันได้มาที่สุดเท่าไหร่"
      ],
      "metadata": {
        "colab": {
          "base_uri": "https://localhost:8080/"
        },
        "outputId": "15870fcd-fa93-4e3e-cc2a-4bb420d4bc84",
        "id": "j_-xWLsfx90Y"
      },
      "execution_count": null,
      "outputs": [
        {
          "output_type": "stream",
          "name": "stdout",
          "text": [
            "Accuracy: 0.0775\n"
          ]
        }
      ]
    },
    {
      "cell_type": "markdown",
      "source": [
        "###HSV CC1"
      ],
      "metadata": {
        "id": "_Bqu-0vjx90Y"
      }
    },
    {
      "cell_type": "code",
      "source": [
        "HSV_D3_concat2 = RGB_D3_concat1.drop(['R-ref','G-ref','B-ref','R-Shad','G-Shad','B-Shad','Setting','Ref','Shad','Img'], axis=1)"
      ],
      "metadata": {
        "id": "qtZokQPJx90Y"
      },
      "execution_count": null,
      "outputs": []
    },
    {
      "cell_type": "code",
      "source": [
        "X_test_D3_HSV = np.array(HSV_D3_CC1)"
      ],
      "metadata": {
        "id": "R3Z14S8Fx90Y"
      },
      "execution_count": null,
      "outputs": []
    },
    {
      "cell_type": "code",
      "source": [
        "y_D3_HSV =  table_D3CC1.iloc[:,14:15]"
      ],
      "metadata": {
        "id": "kKyPj2eix90Y"
      },
      "execution_count": null,
      "outputs": []
    },
    {
      "cell_type": "code",
      "source": [
        "y_test_D3_HSV = np.array(y_D3_RGB)"
      ],
      "metadata": {
        "id": "U1QiYDz0x90Y"
      },
      "execution_count": null,
      "outputs": []
    },
    {
      "cell_type": "code",
      "source": [
        "X_train_D3_HSV = np.array(HSV_D3_concat2)"
      ],
      "metadata": {
        "id": "0e4tbRaOx90Z"
      },
      "execution_count": null,
      "outputs": []
    },
    {
      "cell_type": "code",
      "source": [
        "y_train_D3HSV = RGB_D3_concat1.iloc[:,14:15]"
      ],
      "metadata": {
        "id": "xT5X846Tx90Z"
      },
      "execution_count": null,
      "outputs": []
    },
    {
      "cell_type": "code",
      "source": [
        "y_train_D3_HSV = np.array(y_train_D3HSV)"
      ],
      "metadata": {
        "id": "cBdx2NTpx90Z"
      },
      "execution_count": null,
      "outputs": []
    },
    {
      "cell_type": "code",
      "source": [
        "clf.fit(X_train_D3_HSV, y_train_D3_HSV)"
      ],
      "metadata": {
        "colab": {
          "base_uri": "https://localhost:8080/"
        },
        "outputId": "f1724222-468f-4ee5-e633-c2cbb5f3b056",
        "id": "0ltb0Lesx90Z"
      },
      "execution_count": null,
      "outputs": [
        {
          "output_type": "stream",
          "name": "stderr",
          "text": [
            "/usr/local/lib/python3.7/dist-packages/ipykernel_launcher.py:1: DataConversionWarning: A column-vector y was passed when a 1d array was expected. Please change the shape of y to (n_samples,), for example using ravel().\n",
            "  \"\"\"Entry point for launching an IPython kernel.\n"
          ]
        },
        {
          "output_type": "execute_result",
          "data": {
            "text/plain": [
              "RandomForestClassifier()"
            ]
          },
          "metadata": {},
          "execution_count": 51
        }
      ]
    },
    {
      "cell_type": "code",
      "source": [
        "y_pred_D3_HSV = clf.predict(X_test_D3_HSV)"
      ],
      "metadata": {
        "id": "wC9RHVBHx90Z"
      },
      "execution_count": null,
      "outputs": []
    },
    {
      "cell_type": "code",
      "source": [
        "print(\"Accuracy:\", metrics.accuracy_score(y_test_D3_HSV, y_pred_D3_HSV))"
      ],
      "metadata": {
        "colab": {
          "base_uri": "https://localhost:8080/"
        },
        "outputId": "4a3222d1-5919-4fe1-894f-d18ac79a42c9",
        "id": "EtzMQr1Rx90Z"
      },
      "execution_count": null,
      "outputs": [
        {
          "output_type": "stream",
          "name": "stdout",
          "text": [
            "Accuracy: 0.10125\n"
          ]
        }
      ]
    },
    {
      "cell_type": "markdown",
      "source": [
        "###RGB CC2"
      ],
      "metadata": {
        "id": "DWwgrWqHRN3f"
      }
    },
    {
      "cell_type": "code",
      "source": [
        "RGB_D3_Set4 = table_D3Set4"
      ],
      "metadata": {
        "id": "pT1I1pk6RN3g"
      },
      "execution_count": null,
      "outputs": []
    },
    {
      "cell_type": "code",
      "source": [
        "RGB_D3_Set1 = table_D3Set1"
      ],
      "metadata": {
        "id": "S6krDYZtRN3g"
      },
      "execution_count": null,
      "outputs": []
    },
    {
      "cell_type": "code",
      "source": [
        "RGB_D3_Set2 = table_D3Set2"
      ],
      "metadata": {
        "id": "WKJbzLgpRN3g"
      },
      "execution_count": null,
      "outputs": []
    },
    {
      "cell_type": "code",
      "source": [
        "RGB_D3_Set3 = table_D3Set3"
      ],
      "metadata": {
        "id": "GtZe_etpRN3h"
      },
      "execution_count": null,
      "outputs": []
    },
    {
      "cell_type": "code",
      "source": [
        "RGB_D3_concat_2 = pd.concat([RGB_D3_Set1,RGB_D3_Set2])"
      ],
      "metadata": {
        "id": "C0zCBkPNRN3h"
      },
      "execution_count": null,
      "outputs": []
    },
    {
      "cell_type": "code",
      "source": [
        "RGB_D3_concat0_2 = pd.concat([RGB_D3_concat_2,RGB_D3_Set4])"
      ],
      "metadata": {
        "id": "E5U2Ur0fRN3h"
      },
      "execution_count": null,
      "outputs": []
    },
    {
      "cell_type": "code",
      "source": [
        "RGB_D3_concat1_2 = pd.concat([RGB_D3_concat0_2,RGB_D3_Set3])"
      ],
      "metadata": {
        "id": "RUKDazh9RN3h"
      },
      "execution_count": null,
      "outputs": []
    },
    {
      "cell_type": "code",
      "source": [
        "RGB_D3_concat2_2 = RGB_D3_concat1_2.drop(['H-ref','S-ref','V-ref','H-Shad','S-Shad','V-Shad','Setting','Ref','Shad','Img'], axis=1)"
      ],
      "metadata": {
        "id": "KmSt6qvaRN3k"
      },
      "execution_count": null,
      "outputs": []
    },
    {
      "cell_type": "code",
      "source": [
        "X_test_D3_RGB_2 = np.array(RGB_D3_CC2)"
      ],
      "metadata": {
        "id": "WGi7uXGlRN3l"
      },
      "execution_count": null,
      "outputs": []
    },
    {
      "cell_type": "code",
      "source": [
        "y_D3_RGB_2 =  table_D3CC2.iloc[:,14:15]"
      ],
      "metadata": {
        "id": "lKVJxS1RRN3l"
      },
      "execution_count": null,
      "outputs": []
    },
    {
      "cell_type": "code",
      "source": [
        "y_test_D3_RGB_2 = np.array(y_D3_RGB_2)"
      ],
      "metadata": {
        "id": "aN4CGKpNRN3m"
      },
      "execution_count": null,
      "outputs": []
    },
    {
      "cell_type": "code",
      "source": [
        "X_train_D3_RGB_2 = np.array(RGB_D3_concat2_2)"
      ],
      "metadata": {
        "id": "GeuYrginRN3m"
      },
      "execution_count": null,
      "outputs": []
    },
    {
      "cell_type": "code",
      "source": [
        "y_train_D3RGB_2 = RGB_D3_concat1_2.iloc[:,14:15]"
      ],
      "metadata": {
        "id": "e7lLdBchRN3m"
      },
      "execution_count": null,
      "outputs": []
    },
    {
      "cell_type": "code",
      "source": [
        "y_train_D3_RGB_2 = np.array(y_train_D3RGB_2)"
      ],
      "metadata": {
        "id": "AgYH5_EcRN3m"
      },
      "execution_count": null,
      "outputs": []
    },
    {
      "cell_type": "code",
      "source": [
        "clf.fit(X_train_D3_RGB_2, y_train_D3_RGB_2)"
      ],
      "metadata": {
        "colab": {
          "base_uri": "https://localhost:8080/"
        },
        "outputId": "17112051-044f-4283-ff28-b6ae4d4ea592",
        "id": "mDQurUJoRN3n"
      },
      "execution_count": null,
      "outputs": [
        {
          "output_type": "stream",
          "name": "stderr",
          "text": [
            "/usr/local/lib/python3.7/dist-packages/ipykernel_launcher.py:1: DataConversionWarning: A column-vector y was passed when a 1d array was expected. Please change the shape of y to (n_samples,), for example using ravel().\n",
            "  \"\"\"Entry point for launching an IPython kernel.\n"
          ]
        },
        {
          "output_type": "execute_result",
          "data": {
            "text/plain": [
              "RandomForestClassifier()"
            ]
          },
          "metadata": {},
          "execution_count": 68
        }
      ]
    },
    {
      "cell_type": "code",
      "source": [
        "y_pred_D3_RGB_2 = clf.predict(X_test_D3_RGB_2)"
      ],
      "metadata": {
        "id": "osnG5kuURN3n"
      },
      "execution_count": null,
      "outputs": []
    },
    {
      "cell_type": "code",
      "source": [
        "print(\"Accuracy:\", metrics.accuracy_score(y_test_D3_RGB_2, y_pred_D3_RGB_2))"
      ],
      "metadata": {
        "colab": {
          "base_uri": "https://localhost:8080/"
        },
        "outputId": "359b28bf-1292-4de9-b293-a7efce49f4fd",
        "id": "DGa5CN1ARN3o"
      },
      "execution_count": null,
      "outputs": [
        {
          "output_type": "stream",
          "name": "stdout",
          "text": [
            "Accuracy: 0.08375\n"
          ]
        }
      ]
    },
    {
      "cell_type": "markdown",
      "source": [
        "###HSV CC2"
      ],
      "metadata": {
        "id": "LKb_JjtBRN3p"
      }
    },
    {
      "cell_type": "code",
      "source": [
        "HSV_D3_concat2_2 = RGB_D3_concat1_2.drop(['R-ref','G-ref','B-ref','R-Shad','G-Shad','B-Shad','Setting','Ref','Shad','Img'], axis=1)"
      ],
      "metadata": {
        "id": "P32zkzCkRN3t"
      },
      "execution_count": null,
      "outputs": []
    },
    {
      "cell_type": "code",
      "source": [
        "X_test_D3_HSV_2 = np.array(HSV_D3_CC2)"
      ],
      "metadata": {
        "id": "UVSQBE_NRN3t"
      },
      "execution_count": null,
      "outputs": []
    },
    {
      "cell_type": "code",
      "source": [
        "y_D3_HSV_2 =  table_D3CC2.iloc[:,14:15]"
      ],
      "metadata": {
        "id": "VZ0etLX7RN3t"
      },
      "execution_count": null,
      "outputs": []
    },
    {
      "cell_type": "code",
      "source": [
        "y_test_D3_HSV_2 = np.array(y_D3_RGB_2)"
      ],
      "metadata": {
        "id": "sdxrSeCpRN3u"
      },
      "execution_count": null,
      "outputs": []
    },
    {
      "cell_type": "code",
      "source": [
        "X_train_D3_HSV_2 = np.array(HSV_D3_concat2_2)"
      ],
      "metadata": {
        "id": "fuPqOPHhRN3u"
      },
      "execution_count": null,
      "outputs": []
    },
    {
      "cell_type": "code",
      "source": [
        "y_train_D3HSV_2 = RGB_D3_concat1.iloc[:,14:15]"
      ],
      "metadata": {
        "id": "jc0uf4iMRN3u"
      },
      "execution_count": null,
      "outputs": []
    },
    {
      "cell_type": "code",
      "source": [
        "y_train_D3_HSV_2 = np.array(y_train_D3HSV_2)"
      ],
      "metadata": {
        "id": "ag7dqOJTRN3v"
      },
      "execution_count": null,
      "outputs": []
    },
    {
      "cell_type": "code",
      "source": [
        "clf.fit(X_train_D3_HSV_2, y_train_D3_HSV_2)"
      ],
      "metadata": {
        "colab": {
          "base_uri": "https://localhost:8080/"
        },
        "outputId": "be223fbe-6946-47c6-882e-9425ea2ef6fa",
        "id": "2aP9OhyORN3v"
      },
      "execution_count": null,
      "outputs": [
        {
          "output_type": "stream",
          "name": "stderr",
          "text": [
            "/usr/local/lib/python3.7/dist-packages/ipykernel_launcher.py:1: DataConversionWarning: A column-vector y was passed when a 1d array was expected. Please change the shape of y to (n_samples,), for example using ravel().\n",
            "  \"\"\"Entry point for launching an IPython kernel.\n"
          ]
        },
        {
          "output_type": "execute_result",
          "data": {
            "text/plain": [
              "RandomForestClassifier()"
            ]
          },
          "metadata": {},
          "execution_count": 78
        }
      ]
    },
    {
      "cell_type": "code",
      "source": [
        "y_pred_D3_HSV_2 = clf.predict(X_test_D3_HSV_2)"
      ],
      "metadata": {
        "id": "LhViE6VdRN3w"
      },
      "execution_count": null,
      "outputs": []
    },
    {
      "cell_type": "code",
      "source": [
        "print(\"Accuracy:\", metrics.accuracy_score(y_test_D3_HSV_2, y_pred_D3_HSV_2))"
      ],
      "metadata": {
        "colab": {
          "base_uri": "https://localhost:8080/"
        },
        "outputId": "8060e254-acb1-4456-a55c-08da54e2965a",
        "id": "_UQcNe3xRN3w"
      },
      "execution_count": null,
      "outputs": [
        {
          "output_type": "stream",
          "name": "stdout",
          "text": [
            "Accuracy: 0.07625\n"
          ]
        }
      ]
    },
    {
      "cell_type": "markdown",
      "source": [
        "#D3 Set1 ref "
      ],
      "metadata": {
        "id": "mr2HPEpYwpzJ"
      }
    },
    {
      "cell_type": "markdown",
      "source": [
        "##RGB"
      ],
      "metadata": {
        "id": "3qvmc6-Bw07u"
      }
    },
    {
      "cell_type": "code",
      "source": [
        "RGB_D3_Set1_1 = table_D3Set1.drop(['H-ref','S-ref','V-ref','H-Shad','S-Shad','V-Shad','Setting','Ref','Shad','Img'], axis=1)"
      ],
      "metadata": {
        "id": "H_YmMsJqyJZ8"
      },
      "execution_count": null,
      "outputs": []
    },
    {
      "cell_type": "code",
      "source": [
        "RGB_D3_concat0_3 = pd.concat([RGB_D3_Set2,RGB_D3_Set3])"
      ],
      "metadata": {
        "id": "iSOwiEIGw0IN"
      },
      "execution_count": null,
      "outputs": []
    },
    {
      "cell_type": "code",
      "source": [
        "RGB_D3_concat1_3 = pd.concat([RGB_D3_concat0_3,RGB_D3_Set4])"
      ],
      "metadata": {
        "id": "uR4iqqkZw0IN"
      },
      "execution_count": null,
      "outputs": []
    },
    {
      "cell_type": "code",
      "source": [
        "RGB_D3_concat2_3 = RGB_D3_concat1_3.drop(['H-ref','S-ref','V-ref','H-Shad','S-Shad','V-Shad','Setting','Ref','Shad','Img'], axis=1)"
      ],
      "metadata": {
        "id": "oNq1bzcSw0IN"
      },
      "execution_count": null,
      "outputs": []
    },
    {
      "cell_type": "code",
      "source": [
        "X_test_D3_RGB_3 = np.array(RGB_D3_Set1_1)"
      ],
      "metadata": {
        "id": "04E1iE7sw0IN"
      },
      "execution_count": null,
      "outputs": []
    },
    {
      "cell_type": "code",
      "source": [
        "y_D3_RGB_3 =  table_D3Set1.iloc[:,14:15]"
      ],
      "metadata": {
        "id": "LBcqIue4w0IN"
      },
      "execution_count": null,
      "outputs": []
    },
    {
      "cell_type": "code",
      "source": [
        "y_test_D3_RGB_3 = np.array(y_D3_RGB_3)"
      ],
      "metadata": {
        "id": "kD2hVv4_w0IO"
      },
      "execution_count": null,
      "outputs": []
    },
    {
      "cell_type": "code",
      "source": [
        "X_train_D3_RGB_3 = np.array(RGB_D3_concat2_3)"
      ],
      "metadata": {
        "id": "OT2-NWMDw0IO"
      },
      "execution_count": null,
      "outputs": []
    },
    {
      "cell_type": "code",
      "source": [
        "y_train_D3RGB_3 = RGB_D3_concat1_3.iloc[:,14:15]"
      ],
      "metadata": {
        "id": "b2zgUhIIw0IO"
      },
      "execution_count": null,
      "outputs": []
    },
    {
      "cell_type": "code",
      "source": [
        "y_train_D3_RGB_3 = np.array(y_train_D3RGB_3)"
      ],
      "metadata": {
        "id": "mfh_3nJiw0IO"
      },
      "execution_count": null,
      "outputs": []
    },
    {
      "cell_type": "code",
      "source": [
        "clf.fit(X_train_D3_RGB_3, y_train_D3_RGB_3)"
      ],
      "metadata": {
        "colab": {
          "base_uri": "https://localhost:8080/"
        },
        "outputId": "adbe3222-7ce5-41c7-8642-3c689fd51c9c",
        "id": "mhJtAF1cw0IO"
      },
      "execution_count": null,
      "outputs": [
        {
          "output_type": "stream",
          "name": "stderr",
          "text": [
            "/usr/local/lib/python3.7/dist-packages/ipykernel_launcher.py:1: DataConversionWarning: A column-vector y was passed when a 1d array was expected. Please change the shape of y to (n_samples,), for example using ravel().\n",
            "  \"\"\"Entry point for launching an IPython kernel.\n"
          ]
        },
        {
          "output_type": "execute_result",
          "data": {
            "text/plain": [
              "RandomForestClassifier()"
            ]
          },
          "metadata": {},
          "execution_count": 91
        }
      ]
    },
    {
      "cell_type": "code",
      "source": [
        "y_pred_D3_RGB_3 = clf.predict(X_test_D3_RGB_3)"
      ],
      "metadata": {
        "id": "aW6x6BIJw0IO"
      },
      "execution_count": null,
      "outputs": []
    },
    {
      "cell_type": "code",
      "source": [
        "print(\"Accuracy:\", metrics.accuracy_score(y_test_D3_RGB_3, y_pred_D3_RGB_3))"
      ],
      "metadata": {
        "colab": {
          "base_uri": "https://localhost:8080/"
        },
        "outputId": "056403d4-fa85-47f4-edac-210a73a7fe68",
        "id": "9ofXvlfcw0IO"
      },
      "execution_count": null,
      "outputs": [
        {
          "output_type": "stream",
          "name": "stdout",
          "text": [
            "Accuracy: 1.0\n"
          ]
        }
      ]
    },
    {
      "cell_type": "markdown",
      "source": [
        "#Accuracy"
      ],
      "metadata": {
        "id": "DednIna6z9zF"
      }
    },
    {
      "cell_type": "markdown",
      "source": [
        "##RGB"
      ],
      "metadata": {
        "id": "txfn-5vSEQKK"
      }
    },
    {
      "cell_type": "code",
      "source": [
        "y_test_D3_RGB.shape"
      ],
      "metadata": {
        "id": "QXUq7-rbQ-4M",
        "outputId": "3b7ec44c-8f5b-420f-c3dc-0258dae573c4",
        "colab": {
          "base_uri": "https://localhost:8080/"
        }
      },
      "execution_count": null,
      "outputs": [
        {
          "output_type": "execute_result",
          "data": {
            "text/plain": [
              "(800, 1)"
            ]
          },
          "metadata": {},
          "execution_count": 94
        }
      ]
    },
    {
      "cell_type": "code",
      "source": [
        "y_pred_D3_RGB.shape"
      ],
      "metadata": {
        "id": "Hf27fXAFRHEU",
        "outputId": "fa0fc830-8474-442c-d142-bd8d2f987b43",
        "colab": {
          "base_uri": "https://localhost:8080/"
        }
      },
      "execution_count": null,
      "outputs": [
        {
          "output_type": "execute_result",
          "data": {
            "text/plain": [
              "(800,)"
            ]
          },
          "metadata": {},
          "execution_count": 95
        }
      ]
    },
    {
      "cell_type": "code",
      "source": [
        "print(\"เฉดไกด์อ้างอิง D3 มี Accuracy เท่ากับ:\", metrics.accuracy_score(y_test_D3_RGB, y_pred_D3_RGB))"
      ],
      "metadata": {
        "id": "gAmWj0Tl_8ra",
        "outputId": "a997fb47-e578-4a10-e556-fcd91bddb1a6",
        "colab": {
          "base_uri": "https://localhost:8080/"
        }
      },
      "execution_count": null,
      "outputs": [
        {
          "output_type": "stream",
          "name": "stdout",
          "text": [
            "เฉดไกด์อ้างอิง D3 มี Accuracy เท่ากับ: 0.0775\n"
          ]
        }
      ]
    },
    {
      "cell_type": "code",
      "source": [
        "y_test_D3_RGB_2.shape"
      ],
      "metadata": {
        "id": "tH7LA8cxRJI8",
        "outputId": "e261e5d5-fc1a-4745-8d2e-2c98b31a75c7",
        "colab": {
          "base_uri": "https://localhost:8080/"
        }
      },
      "execution_count": null,
      "outputs": [
        {
          "output_type": "execute_result",
          "data": {
            "text/plain": [
              "(800, 1)"
            ]
          },
          "metadata": {},
          "execution_count": 97
        }
      ]
    },
    {
      "cell_type": "code",
      "source": [
        "y_pred_D3_RGB_2.shape"
      ],
      "metadata": {
        "id": "pdUcUoHfRKqP",
        "outputId": "43b4fe8f-a9f8-458a-ddb1-9b936cde9154",
        "colab": {
          "base_uri": "https://localhost:8080/"
        }
      },
      "execution_count": null,
      "outputs": [
        {
          "output_type": "execute_result",
          "data": {
            "text/plain": [
              "(800,)"
            ]
          },
          "metadata": {},
          "execution_count": 98
        }
      ]
    },
    {
      "cell_type": "code",
      "source": [
        "print(\"เฉดไกด์อ้างอิง D3 มี Accuracy เท่ากับ:\", metrics.accuracy_score(y_test_D3_RGB_2, y_pred_D3_RGB_2))"
      ],
      "metadata": {
        "id": "Ta6Wt4YCPBTb",
        "outputId": "28001232-f430-458a-9dcd-63be44875bc8",
        "colab": {
          "base_uri": "https://localhost:8080/"
        }
      },
      "execution_count": null,
      "outputs": [
        {
          "output_type": "stream",
          "name": "stdout",
          "text": [
            "เฉดไกด์อ้างอิง D3 มี Accuracy เท่ากับ: 0.08375\n"
          ]
        }
      ]
    },
    {
      "cell_type": "markdown",
      "source": [
        "##HSV"
      ],
      "metadata": {
        "id": "F2CX4hhnEhIA"
      }
    },
    {
      "cell_type": "code",
      "source": [
        "y_test_D3_HSV.shape"
      ],
      "metadata": {
        "id": "46assRY9Qy0k",
        "outputId": "9cd0d2b0-83b7-46e0-c446-309a4e8df60f",
        "colab": {
          "base_uri": "https://localhost:8080/"
        }
      },
      "execution_count": null,
      "outputs": [
        {
          "output_type": "execute_result",
          "data": {
            "text/plain": [
              "(800, 1)"
            ]
          },
          "metadata": {},
          "execution_count": 100
        }
      ]
    },
    {
      "cell_type": "code",
      "source": [
        "y_pred_D3_HSV.shape"
      ],
      "metadata": {
        "id": "miQrCzdbQ19J",
        "outputId": "e37b5674-3751-4cdd-c4be-e04807afbc35",
        "colab": {
          "base_uri": "https://localhost:8080/"
        }
      },
      "execution_count": null,
      "outputs": [
        {
          "output_type": "execute_result",
          "data": {
            "text/plain": [
              "(800,)"
            ]
          },
          "metadata": {},
          "execution_count": 101
        }
      ]
    },
    {
      "cell_type": "code",
      "source": [
        "print(\"เฉดไกด์อ้างอิง D3 มี Accuracy เท่ากับ:\", metrics.accuracy_score(y_test_D3_HSV, y_pred_D3_HSV))"
      ],
      "metadata": {
        "id": "NofOkqvcEKnU",
        "outputId": "84ce31c3-5db2-42fa-9983-f57e36928499",
        "colab": {
          "base_uri": "https://localhost:8080/"
        }
      },
      "execution_count": null,
      "outputs": [
        {
          "output_type": "stream",
          "name": "stdout",
          "text": [
            "เฉดไกด์อ้างอิง D3 มี Accuracy เท่ากับ: 0.10125\n"
          ]
        }
      ]
    },
    {
      "cell_type": "code",
      "source": [
        "y_test_D3_HSV_2.shape"
      ],
      "metadata": {
        "id": "PnQk3WaGQ4p9",
        "outputId": "92af33fc-a47b-4210-e3cb-0f162c33cb11",
        "colab": {
          "base_uri": "https://localhost:8080/"
        }
      },
      "execution_count": null,
      "outputs": [
        {
          "output_type": "execute_result",
          "data": {
            "text/plain": [
              "(800, 1)"
            ]
          },
          "metadata": {},
          "execution_count": 103
        }
      ]
    },
    {
      "cell_type": "code",
      "source": [
        "y_pred_D3_HSV_2.shape"
      ],
      "metadata": {
        "id": "HJnbRF4mQ7T0",
        "outputId": "58580408-8b5f-4488-fa93-c7b537efe00c",
        "colab": {
          "base_uri": "https://localhost:8080/"
        }
      },
      "execution_count": null,
      "outputs": [
        {
          "output_type": "execute_result",
          "data": {
            "text/plain": [
              "(800,)"
            ]
          },
          "metadata": {},
          "execution_count": 104
        }
      ]
    },
    {
      "cell_type": "code",
      "source": [
        "print(\"เฉดไกด์อ้างอิง D3 มี Accuracy เท่ากับ:\", metrics.accuracy_score(y_test_D3_HSV_2, y_pred_D3_HSV_2))"
      ],
      "metadata": {
        "id": "-2RkbdckPm9l",
        "outputId": "bc0301f2-1118-438c-8646-5deca0cab3d5",
        "colab": {
          "base_uri": "https://localhost:8080/"
        }
      },
      "execution_count": null,
      "outputs": [
        {
          "output_type": "stream",
          "name": "stdout",
          "text": [
            "เฉดไกด์อ้างอิง D3 มี Accuracy เท่ากับ: 0.07625\n"
          ]
        }
      ]
    },
    {
      "cell_type": "markdown",
      "source": [
        "#Model "
      ],
      "metadata": {
        "id": "ssvGIa4Py9rG"
      }
    },
    {
      "cell_type": "code",
      "source": [
        "clf"
      ],
      "metadata": {
        "id": "BzfKrZbl-iwj",
        "outputId": "491f8d40-a366-4244-91ad-fd735ac9661e",
        "colab": {
          "base_uri": "https://localhost:8080/"
        }
      },
      "execution_count": null,
      "outputs": [
        {
          "output_type": "execute_result",
          "data": {
            "text/plain": [
              "RandomForestClassifier()"
            ]
          },
          "metadata": {},
          "execution_count": 109
        }
      ]
    },
    {
      "cell_type": "code",
      "source": [
        "#save model\n",
        "import pickle\n",
        "with open('Model_D3.pkl', 'wb') as pickle_file :\n",
        "       pickle.dump(clf, pickle_file )"
      ],
      "metadata": {
        "id": "f2FncMt-y_4J"
      },
      "execution_count": null,
      "outputs": []
    },
    {
      "cell_type": "code",
      "source": [
        "#load model\n",
        "import pickle\n",
        "with open('Model_D3.pkl', 'rb') as pickle_file :\n",
        "      new_data = pickle.load(pickle_file )"
      ],
      "metadata": {
        "id": "gGM4lvgLzgqZ"
      },
      "execution_count": null,
      "outputs": []
    },
    {
      "cell_type": "code",
      "source": [
        "print(new_data)"
      ],
      "metadata": {
        "colab": {
          "base_uri": "https://localhost:8080/"
        },
        "id": "nWa_nNJHzoqB",
        "outputId": "dde384f6-df41-49dc-b8b6-e5fbaceb89a4"
      },
      "execution_count": null,
      "outputs": [
        {
          "output_type": "stream",
          "name": "stdout",
          "text": [
            "RandomForestClassifier()\n"
          ]
        }
      ]
    },
    {
      "cell_type": "code",
      "source": [
        "from azure.storage.blob import BlockBlobService\n",
        "import os\n",
        "import cv2\n",
        "blob_service_client = BlockBlobService(account_name='dent01', account_key='CuShY0B4TZJ84TjzPpaHxyrHOpO73aGXeCpdVq7x26OjIlQ1HOz+3DVc9pDEj9BdcEL8odFuTRF0mOAE+aCgiw==')\n",
        "pic = ('D760B698-4146-47E4-98EF-45A3E1B99CC6.png')#A15\n",
        "img  = cv2.imread(pic)"
      ],
      "metadata": {
        "id": "yfpNzNmzh8Dh"
      },
      "execution_count": null,
      "outputs": []
    },
    {
      "cell_type": "code",
      "source": [
        "img  = cv2.imread(pic)\n",
        "img"
      ],
      "metadata": {
        "id": "Y2gZZ5NInlpl",
        "outputId": "9fb1bc57-14e9-4ba0-ffbf-530913d76b75",
        "colab": {
          "base_uri": "https://localhost:8080/"
        }
      },
      "execution_count": null,
      "outputs": [
        {
          "output_type": "execute_result",
          "data": {
            "text/plain": [
              "array([[[ 85,  85,  91],\n",
              "        [ 85,  85,  91],\n",
              "        [ 80,  80,  86],\n",
              "        ...,\n",
              "        [100, 101, 105],\n",
              "        [ 96,  97, 101],\n",
              "        [101, 102, 106]],\n",
              "\n",
              "       [[ 86,  86,  92],\n",
              "        [ 87,  87,  93],\n",
              "        [ 80,  80,  86],\n",
              "        ...,\n",
              "        [102, 103, 107],\n",
              "        [109, 110, 114],\n",
              "        [109, 110, 114]],\n",
              "\n",
              "       [[103, 103, 109],\n",
              "        [ 97,  97, 103],\n",
              "        [ 88,  88,  94],\n",
              "        ...,\n",
              "        [106, 107, 111],\n",
              "        [106, 107, 111],\n",
              "        [103, 104, 108]],\n",
              "\n",
              "       ...,\n",
              "\n",
              "       [[ 67,  67,  73],\n",
              "        [ 52,  52,  58],\n",
              "        [ 63,  63,  69],\n",
              "        ...,\n",
              "        [ 24,  27,  32],\n",
              "        [ 15,  18,  23],\n",
              "        [ 16,  19,  24]],\n",
              "\n",
              "       [[ 65,  65,  71],\n",
              "        [ 63,  63,  69],\n",
              "        [ 59,  59,  65],\n",
              "        ...,\n",
              "        [ 22,  25,  30],\n",
              "        [ 23,  26,  31],\n",
              "        [ 24,  27,  32]],\n",
              "\n",
              "       [[ 58,  58,  64],\n",
              "        [ 60,  60,  66],\n",
              "        [ 55,  55,  61],\n",
              "        ...,\n",
              "        [ 24,  27,  32],\n",
              "        [ 19,  22,  27],\n",
              "        [ 23,  26,  31]]], dtype=uint8)"
            ]
          },
          "metadata": {},
          "execution_count": 273
        }
      ]
    },
    {
      "cell_type": "code",
      "source": [
        "list_total = list()\n",
        "S1_double = pic\n",
        "img00  = cv2.imread(S1_double)\n",
        "S1RGB_imgA1A1_1= cv2.cvtColor(img00, cv2.COLOR_BGR2RGB)\n",
        "S1meanrefA1_1 = list()\n",
        "for i in range(S1RGB_imgA1A1_1.shape[0]): \n",
        "   for j in range(S1RGB_imgA1A1_1.shape[1]): \n",
        "              if 1769<i<1881 and 2019<j<2131 :\n",
        "                  S1meanrefA1_1.append(S1RGB_imgA1A1_1[i][j]) \n",
        "              if 1770<i<1880 and 2015<j<2145 :\n",
        "                  S1meanrefA1_1.append(S1RGB_imgA1A1_1[i][j])\n",
        "S1meanrefA1_1 = np.array(S1meanrefA1_1)\n",
        "S1meanA1_2 = np.array(S1meanrefA1_1)\n",
        "S1rgbrefA1_1 = list()\n",
        "#S1rgbA1_2 = list()\n",
        "for i in range(3):\n",
        "  S1rgbrefA1_1.append(S1meanrefA1_1[:,i].mean())\n",
        "  S1rgbrefA1_1.append(S1meanA1_2[:,i].mean())\n",
        "list_total.append(S1rgbrefA1_1)"
      ],
      "metadata": {
        "id": "lXKEeawZmAlI"
      },
      "execution_count": null,
      "outputs": []
    },
    {
      "cell_type": "code",
      "source": [
        "list_total"
      ],
      "metadata": {
        "id": "i48gljVhzsWQ",
        "outputId": "20d19f52-b1b1-40bd-b5cc-c87ec190c641",
        "colab": {
          "base_uri": "https://localhost:8080/"
        }
      },
      "execution_count": null,
      "outputs": [
        {
          "output_type": "execute_result",
          "data": {
            "text/plain": [
              "[[223.96687135167917,\n",
              "  223.96687135167917,\n",
              "  197.16113259040256,\n",
              "  197.16113259040256,\n",
              "  144.0643241604124,\n",
              "  144.0643241604124]]"
            ]
          },
          "metadata": {},
          "execution_count": 279
        }
      ]
    },
    {
      "cell_type": "code",
      "source": [
        "X_test_D3_RGB_1 = np.array(list_total)\n",
        "predic_model= new_data.predict(list_total)"
      ],
      "metadata": {
        "id": "U7qwV28ah8Ke"
      },
      "execution_count": null,
      "outputs": []
    },
    {
      "cell_type": "code",
      "source": [
        "predic_model"
      ],
      "metadata": {
        "id": "VKzDGk4Y7vkv",
        "outputId": "bb37c9a4-7045-470a-dfcb-5fda98cac042",
        "colab": {
          "base_uri": "https://localhost:8080/"
        }
      },
      "execution_count": null,
      "outputs": [
        {
          "output_type": "execute_result",
          "data": {
            "text/plain": [
              "array(['B1'], dtype=object)"
            ]
          },
          "metadata": {},
          "execution_count": 314
        }
      ]
    },
    {
      "cell_type": "code",
      "source": [
        "data = str(predic_model)\n",
        "data\n"
      ],
      "metadata": {
        "id": "W9_ME7cVh8Nx",
        "outputId": "5782b37c-e820-4e6c-f008-71000c7f67f4",
        "colab": {
          "base_uri": "https://localhost:8080/",
          "height": 35
        }
      },
      "execution_count": null,
      "outputs": [
        {
          "output_type": "execute_result",
          "data": {
            "application/vnd.google.colaboratory.intrinsic+json": {
              "type": "string"
            },
            "text/plain": [
              "\"['B1']\""
            ]
          },
          "metadata": {},
          "execution_count": 321
        }
      ]
    },
    {
      "cell_type": "code",
      "source": [
        "x = data.strip('[]')\n",
        "x"
      ],
      "metadata": {
        "colab": {
          "base_uri": "https://localhost:8080/",
          "height": 35
        },
        "id": "CgXNJai9h8YZ",
        "outputId": "1d425de6-e778-4e76-b793-dec4e770fec9"
      },
      "execution_count": null,
      "outputs": [
        {
          "output_type": "execute_result",
          "data": {
            "application/vnd.google.colaboratory.intrinsic+json": {
              "type": "string"
            },
            "text/plain": [
              "\"'B1'\""
            ]
          },
          "metadata": {},
          "execution_count": 354
        }
      ]
    },
    {
      "cell_type": "code",
      "source": [
        "x"
      ],
      "metadata": {
        "id": "SDrPj_k3Bv3G",
        "outputId": "00c0416f-657a-49a9-b8cc-bfaf4d9162c7",
        "colab": {
          "base_uri": "https://localhost:8080/",
          "height": 35
        }
      },
      "execution_count": null,
      "outputs": [
        {
          "output_type": "execute_result",
          "data": {
            "application/vnd.google.colaboratory.intrinsic+json": {
              "type": "string"
            },
            "text/plain": [
              "\"'B1'\""
            ]
          },
          "metadata": {},
          "execution_count": 341
        }
      ]
    },
    {
      "cell_type": "code",
      "source": [
        "data.tostr()"
      ],
      "metadata": {
        "id": "zBRngBLlFj8A",
        "outputId": "b7deffc9-18a3-4152-a2ff-0b8083c70216",
        "colab": {
          "base_uri": "https://localhost:8080/",
          "height": 166
        }
      },
      "execution_count": null,
      "outputs": [
        {
          "output_type": "error",
          "ename": "AttributeError",
          "evalue": "ignored",
          "traceback": [
            "\u001b[0;31m---------------------------------------------------------------------------\u001b[0m",
            "\u001b[0;31mAttributeError\u001b[0m                            Traceback (most recent call last)",
            "\u001b[0;32m<ipython-input-366-ade413bb49a8>\u001b[0m in \u001b[0;36m<module>\u001b[0;34m()\u001b[0m\n\u001b[0;32m----> 1\u001b[0;31m \u001b[0mdata\u001b[0m\u001b[0;34m.\u001b[0m\u001b[0mtostr\u001b[0m\u001b[0;34m(\u001b[0m\u001b[0;34m)\u001b[0m\u001b[0;34m\u001b[0m\u001b[0;34m\u001b[0m\u001b[0m\n\u001b[0m",
            "\u001b[0;31mAttributeError\u001b[0m: 'str' object has no attribute 'tostr'"
          ]
        }
      ]
    },
    {
      "cell_type": "markdown",
      "source": [
        "#ตาราง output"
      ],
      "metadata": {
        "id": "4VhFW6r5UJEl"
      }
    },
    {
      "cell_type": "code",
      "execution_count": null,
      "metadata": {
        "id": "oqeByFFaSr3I"
      },
      "outputs": [],
      "source": [
        "import pandas as pd "
      ]
    },
    {
      "cell_type": "code",
      "source": [
        "data1 = \"B1\""
      ],
      "metadata": {
        "id": "U4TkcTfMTGJY"
      },
      "execution_count": null,
      "outputs": []
    },
    {
      "cell_type": "code",
      "source": [
        "data1"
      ],
      "metadata": {
        "colab": {
          "base_uri": "https://localhost:8080/",
          "height": 35
        },
        "id": "y_TXgsGNTKI-",
        "outputId": "5f84d823-cbf8-4d9a-f4dc-3a9c3bc65d2d"
      },
      "execution_count": null,
      "outputs": [
        {
          "output_type": "execute_result",
          "data": {
            "application/vnd.google.colaboratory.intrinsic+json": {
              "type": "string"
            },
            "text/plain": [
              "'B1'"
            ]
          },
          "metadata": {},
          "execution_count": 337
        }
      ]
    },
    {
      "cell_type": "code",
      "source": [
        "df = pd.read_csv('OUTPUT.csv')"
      ],
      "metadata": {
        "id": "5Uh1t-ABTRqr"
      },
      "execution_count": null,
      "outputs": []
    },
    {
      "cell_type": "code",
      "source": [
        "df"
      ],
      "metadata": {
        "colab": {
          "base_uri": "https://localhost:8080/",
          "height": 551
        },
        "id": "F1C4EOxRT2_X",
        "outputId": "bd301bec-c347-41a7-fe18-103374233886"
      },
      "execution_count": null,
      "outputs": [
        {
          "output_type": "execute_result",
          "data": {
            "text/html": [
              "\n",
              "  <div id=\"df-67f5e912-6ce0-42ff-aeba-1f2d1afa28db\">\n",
              "    <div class=\"colab-df-container\">\n",
              "      <div>\n",
              "<style scoped>\n",
              "    .dataframe tbody tr th:only-of-type {\n",
              "        vertical-align: middle;\n",
              "    }\n",
              "\n",
              "    .dataframe tbody tr th {\n",
              "        vertical-align: top;\n",
              "    }\n",
              "\n",
              "    .dataframe thead th {\n",
              "        text-align: right;\n",
              "    }\n",
              "</style>\n",
              "<table border=\"1\" class=\"dataframe\">\n",
              "  <thead>\n",
              "    <tr style=\"text-align: right;\">\n",
              "      <th></th>\n",
              "      <th>ชื่อเฉดไกด์</th>\n",
              "      <th>ค่าสี CIE l a b</th>\n",
              "      <th>โทนสี</th>\n",
              "      <th>ชื่อเฉดไกด์ที่ใกล้เคียง</th>\n",
              "      <th>เทียบเท่าเฉดไกด์ 3D Master</th>\n",
              "    </tr>\n",
              "  </thead>\n",
              "  <tbody>\n",
              "    <tr>\n",
              "      <th>0</th>\n",
              "      <td>A1</td>\n",
              "      <td>(79.57,-1.61,13.05)</td>\n",
              "      <td>Reddish-brownish</td>\n",
              "      <td>B1 B2</td>\n",
              "      <td>0M1 0M3</td>\n",
              "    </tr>\n",
              "    <tr>\n",
              "      <th>1</th>\n",
              "      <td>A2</td>\n",
              "      <td>(76.04,-0.08,16.73)</td>\n",
              "      <td>Reddish-brownish</td>\n",
              "      <td>B2 A3</td>\n",
              "      <td>0M2 1M2</td>\n",
              "    </tr>\n",
              "    <tr>\n",
              "      <th>2</th>\n",
              "      <td>A3</td>\n",
              "      <td>(75.36,1.36,19.61)</td>\n",
              "      <td>Reddish-brownish</td>\n",
              "      <td>D2 A2</td>\n",
              "      <td>1M2 0M2</td>\n",
              "    </tr>\n",
              "    <tr>\n",
              "      <th>3</th>\n",
              "      <td>A3.5</td>\n",
              "      <td>(72.31,1.48,21.81)</td>\n",
              "      <td>Reddish-brownish</td>\n",
              "      <td>D3 B4</td>\n",
              "      <td>2R1.5 2M2</td>\n",
              "    </tr>\n",
              "    <tr>\n",
              "      <th>4</th>\n",
              "      <td>A4</td>\n",
              "      <td>(68.56,1.58,21)</td>\n",
              "      <td>Reddish-brownish</td>\n",
              "      <td>C3 C2</td>\n",
              "      <td>2M3 2R2.5</td>\n",
              "    </tr>\n",
              "    <tr>\n",
              "      <th>5</th>\n",
              "      <td>B1</td>\n",
              "      <td>(78.9,-1.76,12.33)</td>\n",
              "      <td>Reddish-yellowish</td>\n",
              "      <td>A1 B2</td>\n",
              "      <td>0M1 0M3</td>\n",
              "    </tr>\n",
              "    <tr>\n",
              "      <th>6</th>\n",
              "      <td>B2</td>\n",
              "      <td>(76.66,-1.62,16.62)</td>\n",
              "      <td>Reddish-yellowish</td>\n",
              "      <td>A2 A3</td>\n",
              "      <td>1M1 1M2</td>\n",
              "    </tr>\n",
              "    <tr>\n",
              "      <th>7</th>\n",
              "      <td>B3</td>\n",
              "      <td>(74.13,0.47,22.34)</td>\n",
              "      <td>Reddish-yellowish</td>\n",
              "      <td>C1 D2</td>\n",
              "      <td>2R2.5 2M2</td>\n",
              "    </tr>\n",
              "    <tr>\n",
              "      <th>8</th>\n",
              "      <td>B4</td>\n",
              "      <td>(71.86,0.5,22.15)</td>\n",
              "      <td>Reddish-yellowish</td>\n",
              "      <td>A3.5 D3</td>\n",
              "      <td>1M1 1M2</td>\n",
              "    </tr>\n",
              "    <tr>\n",
              "      <th>9</th>\n",
              "      <td>C1</td>\n",
              "      <td>(74.29,-1.26,12.56)</td>\n",
              "      <td>grayish</td>\n",
              "      <td>B3 D2</td>\n",
              "      <td>2R2.5 2M2</td>\n",
              "    </tr>\n",
              "    <tr>\n",
              "      <th>10</th>\n",
              "      <td>C2</td>\n",
              "      <td>(70.95,-0.22,16.72)</td>\n",
              "      <td>grayish</td>\n",
              "      <td>B4 D4</td>\n",
              "      <td>2R2.5 2M2</td>\n",
              "    </tr>\n",
              "    <tr>\n",
              "      <th>11</th>\n",
              "      <td>C3</td>\n",
              "      <td>(70.95,-0.01,16.68)</td>\n",
              "      <td>grayish</td>\n",
              "      <td>D4 B4</td>\n",
              "      <td>2R1.5 2M2</td>\n",
              "    </tr>\n",
              "    <tr>\n",
              "      <th>12</th>\n",
              "      <td>C4</td>\n",
              "      <td>(64.78,1.59,18.66)</td>\n",
              "      <td>grayish</td>\n",
              "      <td>A4 C3</td>\n",
              "      <td>3R2.5 3R1.5</td>\n",
              "    </tr>\n",
              "    <tr>\n",
              "      <th>13</th>\n",
              "      <td>D2</td>\n",
              "      <td>(75.27,-0.54,13.47)</td>\n",
              "      <td>reddish-grayish</td>\n",
              "      <td>A3 A2</td>\n",
              "      <td>1M2 0M2</td>\n",
              "    </tr>\n",
              "    <tr>\n",
              "      <th>14</th>\n",
              "      <td>D3</td>\n",
              "      <td>(72.55,0.62,16.14)</td>\n",
              "      <td>reddish-grayish</td>\n",
              "      <td>D4 B4</td>\n",
              "      <td>1M1 2R1.5</td>\n",
              "    </tr>\n",
              "    <tr>\n",
              "      <th>15</th>\n",
              "      <td>D4</td>\n",
              "      <td>(71.86,-1.03,17.77)</td>\n",
              "      <td>reddish-grayish</td>\n",
              "      <td>A3.5 D3</td>\n",
              "      <td>2R1.5 2M2</td>\n",
              "    </tr>\n",
              "  </tbody>\n",
              "</table>\n",
              "</div>\n",
              "      <button class=\"colab-df-convert\" onclick=\"convertToInteractive('df-67f5e912-6ce0-42ff-aeba-1f2d1afa28db')\"\n",
              "              title=\"Convert this dataframe to an interactive table.\"\n",
              "              style=\"display:none;\">\n",
              "        \n",
              "  <svg xmlns=\"http://www.w3.org/2000/svg\" height=\"24px\"viewBox=\"0 0 24 24\"\n",
              "       width=\"24px\">\n",
              "    <path d=\"M0 0h24v24H0V0z\" fill=\"none\"/>\n",
              "    <path d=\"M18.56 5.44l.94 2.06.94-2.06 2.06-.94-2.06-.94-.94-2.06-.94 2.06-2.06.94zm-11 1L8.5 8.5l.94-2.06 2.06-.94-2.06-.94L8.5 2.5l-.94 2.06-2.06.94zm10 10l.94 2.06.94-2.06 2.06-.94-2.06-.94-.94-2.06-.94 2.06-2.06.94z\"/><path d=\"M17.41 7.96l-1.37-1.37c-.4-.4-.92-.59-1.43-.59-.52 0-1.04.2-1.43.59L10.3 9.45l-7.72 7.72c-.78.78-.78 2.05 0 2.83L4 21.41c.39.39.9.59 1.41.59.51 0 1.02-.2 1.41-.59l7.78-7.78 2.81-2.81c.8-.78.8-2.07 0-2.86zM5.41 20L4 18.59l7.72-7.72 1.47 1.35L5.41 20z\"/>\n",
              "  </svg>\n",
              "      </button>\n",
              "      \n",
              "  <style>\n",
              "    .colab-df-container {\n",
              "      display:flex;\n",
              "      flex-wrap:wrap;\n",
              "      gap: 12px;\n",
              "    }\n",
              "\n",
              "    .colab-df-convert {\n",
              "      background-color: #E8F0FE;\n",
              "      border: none;\n",
              "      border-radius: 50%;\n",
              "      cursor: pointer;\n",
              "      display: none;\n",
              "      fill: #1967D2;\n",
              "      height: 32px;\n",
              "      padding: 0 0 0 0;\n",
              "      width: 32px;\n",
              "    }\n",
              "\n",
              "    .colab-df-convert:hover {\n",
              "      background-color: #E2EBFA;\n",
              "      box-shadow: 0px 1px 2px rgba(60, 64, 67, 0.3), 0px 1px 3px 1px rgba(60, 64, 67, 0.15);\n",
              "      fill: #174EA6;\n",
              "    }\n",
              "\n",
              "    [theme=dark] .colab-df-convert {\n",
              "      background-color: #3B4455;\n",
              "      fill: #D2E3FC;\n",
              "    }\n",
              "\n",
              "    [theme=dark] .colab-df-convert:hover {\n",
              "      background-color: #434B5C;\n",
              "      box-shadow: 0px 1px 3px 1px rgba(0, 0, 0, 0.15);\n",
              "      filter: drop-shadow(0px 1px 2px rgba(0, 0, 0, 0.3));\n",
              "      fill: #FFFFFF;\n",
              "    }\n",
              "  </style>\n",
              "\n",
              "      <script>\n",
              "        const buttonEl =\n",
              "          document.querySelector('#df-67f5e912-6ce0-42ff-aeba-1f2d1afa28db button.colab-df-convert');\n",
              "        buttonEl.style.display =\n",
              "          google.colab.kernel.accessAllowed ? 'block' : 'none';\n",
              "\n",
              "        async function convertToInteractive(key) {\n",
              "          const element = document.querySelector('#df-67f5e912-6ce0-42ff-aeba-1f2d1afa28db');\n",
              "          const dataTable =\n",
              "            await google.colab.kernel.invokeFunction('convertToInteractive',\n",
              "                                                     [key], {});\n",
              "          if (!dataTable) return;\n",
              "\n",
              "          const docLinkHtml = 'Like what you see? Visit the ' +\n",
              "            '<a target=\"_blank\" href=https://colab.research.google.com/notebooks/data_table.ipynb>data table notebook</a>'\n",
              "            + ' to learn more about interactive tables.';\n",
              "          element.innerHTML = '';\n",
              "          dataTable['output_type'] = 'display_data';\n",
              "          await google.colab.output.renderOutput(dataTable, element);\n",
              "          const docLink = document.createElement('div');\n",
              "          docLink.innerHTML = docLinkHtml;\n",
              "          element.appendChild(docLink);\n",
              "        }\n",
              "      </script>\n",
              "    </div>\n",
              "  </div>\n",
              "  "
            ],
            "text/plain": [
              "   ชื่อเฉดไกด์  ... เทียบเท่าเฉดไกด์ 3D Master\n",
              "0           A1  ...                    0M1 0M3\n",
              "1           A2  ...                    0M2 1M2\n",
              "2           A3  ...                    1M2 0M2\n",
              "3         A3.5  ...                  2R1.5 2M2\n",
              "4           A4  ...                 2M3 2R2.5 \n",
              "5           B1  ...                    0M1 0M3\n",
              "6           B2  ...                    1M1 1M2\n",
              "7           B3  ...                  2R2.5 2M2\n",
              "8           B4  ...                    1M1 1M2\n",
              "9           C1  ...                  2R2.5 2M2\n",
              "10          C2  ...                  2R2.5 2M2\n",
              "11          C3  ...                  2R1.5 2M2\n",
              "12          C4  ...                3R2.5 3R1.5\n",
              "13          D2  ...                    1M2 0M2\n",
              "14          D3  ...                  1M1 2R1.5\n",
              "15          D4  ...                  2R1.5 2M2\n",
              "\n",
              "[16 rows x 5 columns]"
            ]
          },
          "metadata": {},
          "execution_count": 345
        }
      ]
    },
    {
      "cell_type": "code",
      "source": [
        "N = df[df['ชื่อเฉดไกด์']== x]\n",
        "N"
      ],
      "metadata": {
        "id": "mj358HtpQYGL",
        "outputId": "3ba7f6d0-4f21-42ec-f836-dfbce3318bd4",
        "colab": {
          "base_uri": "https://localhost:8080/",
          "height": 50
        }
      },
      "execution_count": null,
      "outputs": [
        {
          "output_type": "execute_result",
          "data": {
            "text/html": [
              "\n",
              "  <div id=\"df-7d7a69ac-3ade-4601-ae56-c5d1d315bed3\">\n",
              "    <div class=\"colab-df-container\">\n",
              "      <div>\n",
              "<style scoped>\n",
              "    .dataframe tbody tr th:only-of-type {\n",
              "        vertical-align: middle;\n",
              "    }\n",
              "\n",
              "    .dataframe tbody tr th {\n",
              "        vertical-align: top;\n",
              "    }\n",
              "\n",
              "    .dataframe thead th {\n",
              "        text-align: right;\n",
              "    }\n",
              "</style>\n",
              "<table border=\"1\" class=\"dataframe\">\n",
              "  <thead>\n",
              "    <tr style=\"text-align: right;\">\n",
              "      <th></th>\n",
              "      <th>ชื่อเฉดไกด์</th>\n",
              "      <th>ค่าสี CIE l a b</th>\n",
              "      <th>โทนสี</th>\n",
              "      <th>ชื่อเฉดไกด์ที่ใกล้เคียง</th>\n",
              "      <th>เทียบเท่าเฉดไกด์ 3D Master</th>\n",
              "    </tr>\n",
              "  </thead>\n",
              "  <tbody>\n",
              "  </tbody>\n",
              "</table>\n",
              "</div>\n",
              "      <button class=\"colab-df-convert\" onclick=\"convertToInteractive('df-7d7a69ac-3ade-4601-ae56-c5d1d315bed3')\"\n",
              "              title=\"Convert this dataframe to an interactive table.\"\n",
              "              style=\"display:none;\">\n",
              "        \n",
              "  <svg xmlns=\"http://www.w3.org/2000/svg\" height=\"24px\"viewBox=\"0 0 24 24\"\n",
              "       width=\"24px\">\n",
              "    <path d=\"M0 0h24v24H0V0z\" fill=\"none\"/>\n",
              "    <path d=\"M18.56 5.44l.94 2.06.94-2.06 2.06-.94-2.06-.94-.94-2.06-.94 2.06-2.06.94zm-11 1L8.5 8.5l.94-2.06 2.06-.94-2.06-.94L8.5 2.5l-.94 2.06-2.06.94zm10 10l.94 2.06.94-2.06 2.06-.94-2.06-.94-.94-2.06-.94 2.06-2.06.94z\"/><path d=\"M17.41 7.96l-1.37-1.37c-.4-.4-.92-.59-1.43-.59-.52 0-1.04.2-1.43.59L10.3 9.45l-7.72 7.72c-.78.78-.78 2.05 0 2.83L4 21.41c.39.39.9.59 1.41.59.51 0 1.02-.2 1.41-.59l7.78-7.78 2.81-2.81c.8-.78.8-2.07 0-2.86zM5.41 20L4 18.59l7.72-7.72 1.47 1.35L5.41 20z\"/>\n",
              "  </svg>\n",
              "      </button>\n",
              "      \n",
              "  <style>\n",
              "    .colab-df-container {\n",
              "      display:flex;\n",
              "      flex-wrap:wrap;\n",
              "      gap: 12px;\n",
              "    }\n",
              "\n",
              "    .colab-df-convert {\n",
              "      background-color: #E8F0FE;\n",
              "      border: none;\n",
              "      border-radius: 50%;\n",
              "      cursor: pointer;\n",
              "      display: none;\n",
              "      fill: #1967D2;\n",
              "      height: 32px;\n",
              "      padding: 0 0 0 0;\n",
              "      width: 32px;\n",
              "    }\n",
              "\n",
              "    .colab-df-convert:hover {\n",
              "      background-color: #E2EBFA;\n",
              "      box-shadow: 0px 1px 2px rgba(60, 64, 67, 0.3), 0px 1px 3px 1px rgba(60, 64, 67, 0.15);\n",
              "      fill: #174EA6;\n",
              "    }\n",
              "\n",
              "    [theme=dark] .colab-df-convert {\n",
              "      background-color: #3B4455;\n",
              "      fill: #D2E3FC;\n",
              "    }\n",
              "\n",
              "    [theme=dark] .colab-df-convert:hover {\n",
              "      background-color: #434B5C;\n",
              "      box-shadow: 0px 1px 3px 1px rgba(0, 0, 0, 0.15);\n",
              "      filter: drop-shadow(0px 1px 2px rgba(0, 0, 0, 0.3));\n",
              "      fill: #FFFFFF;\n",
              "    }\n",
              "  </style>\n",
              "\n",
              "      <script>\n",
              "        const buttonEl =\n",
              "          document.querySelector('#df-7d7a69ac-3ade-4601-ae56-c5d1d315bed3 button.colab-df-convert');\n",
              "        buttonEl.style.display =\n",
              "          google.colab.kernel.accessAllowed ? 'block' : 'none';\n",
              "\n",
              "        async function convertToInteractive(key) {\n",
              "          const element = document.querySelector('#df-7d7a69ac-3ade-4601-ae56-c5d1d315bed3');\n",
              "          const dataTable =\n",
              "            await google.colab.kernel.invokeFunction('convertToInteractive',\n",
              "                                                     [key], {});\n",
              "          if (!dataTable) return;\n",
              "\n",
              "          const docLinkHtml = 'Like what you see? Visit the ' +\n",
              "            '<a target=\"_blank\" href=https://colab.research.google.com/notebooks/data_table.ipynb>data table notebook</a>'\n",
              "            + ' to learn more about interactive tables.';\n",
              "          element.innerHTML = '';\n",
              "          dataTable['output_type'] = 'display_data';\n",
              "          await google.colab.output.renderOutput(dataTable, element);\n",
              "          const docLink = document.createElement('div');\n",
              "          docLink.innerHTML = docLinkHtml;\n",
              "          element.appendChild(docLink);\n",
              "        }\n",
              "      </script>\n",
              "    </div>\n",
              "  </div>\n",
              "  "
            ],
            "text/plain": [
              "Empty DataFrame\n",
              "Columns: [ชื่อเฉดไกด์, ค่าสี CIE l a b, โทนสี, ชื่อเฉดไกด์ที่ใกล้เคียง, เทียบเท่าเฉดไกด์ 3D Master]\n",
              "Index: []"
            ]
          },
          "metadata": {},
          "execution_count": 353
        }
      ]
    },
    {
      "cell_type": "code",
      "source": [
        "N"
      ],
      "metadata": {
        "id": "FVlO9HFuRWuK",
        "outputId": "633839a1-ca07-4d27-fe95-1dfe78bdd074",
        "colab": {
          "base_uri": "https://localhost:8080/",
          "height": 50
        }
      },
      "execution_count": null,
      "outputs": [
        {
          "output_type": "execute_result",
          "data": {
            "text/html": [
              "\n",
              "  <div id=\"df-7b7ab638-9fc2-4dd1-af3e-7ac91b190e58\">\n",
              "    <div class=\"colab-df-container\">\n",
              "      <div>\n",
              "<style scoped>\n",
              "    .dataframe tbody tr th:only-of-type {\n",
              "        vertical-align: middle;\n",
              "    }\n",
              "\n",
              "    .dataframe tbody tr th {\n",
              "        vertical-align: top;\n",
              "    }\n",
              "\n",
              "    .dataframe thead th {\n",
              "        text-align: right;\n",
              "    }\n",
              "</style>\n",
              "<table border=\"1\" class=\"dataframe\">\n",
              "  <thead>\n",
              "    <tr style=\"text-align: right;\">\n",
              "      <th></th>\n",
              "      <th>ชื่อเฉดไกด์</th>\n",
              "      <th>ค่าสี CIE l a b</th>\n",
              "      <th>โทนสี</th>\n",
              "      <th>ชื่อเฉดไกด์ที่ใกล้เคียง</th>\n",
              "      <th>เทียบเท่าเฉดไกด์ 3D Master</th>\n",
              "    </tr>\n",
              "  </thead>\n",
              "  <tbody>\n",
              "  </tbody>\n",
              "</table>\n",
              "</div>\n",
              "      <button class=\"colab-df-convert\" onclick=\"convertToInteractive('df-7b7ab638-9fc2-4dd1-af3e-7ac91b190e58')\"\n",
              "              title=\"Convert this dataframe to an interactive table.\"\n",
              "              style=\"display:none;\">\n",
              "        \n",
              "  <svg xmlns=\"http://www.w3.org/2000/svg\" height=\"24px\"viewBox=\"0 0 24 24\"\n",
              "       width=\"24px\">\n",
              "    <path d=\"M0 0h24v24H0V0z\" fill=\"none\"/>\n",
              "    <path d=\"M18.56 5.44l.94 2.06.94-2.06 2.06-.94-2.06-.94-.94-2.06-.94 2.06-2.06.94zm-11 1L8.5 8.5l.94-2.06 2.06-.94-2.06-.94L8.5 2.5l-.94 2.06-2.06.94zm10 10l.94 2.06.94-2.06 2.06-.94-2.06-.94-.94-2.06-.94 2.06-2.06.94z\"/><path d=\"M17.41 7.96l-1.37-1.37c-.4-.4-.92-.59-1.43-.59-.52 0-1.04.2-1.43.59L10.3 9.45l-7.72 7.72c-.78.78-.78 2.05 0 2.83L4 21.41c.39.39.9.59 1.41.59.51 0 1.02-.2 1.41-.59l7.78-7.78 2.81-2.81c.8-.78.8-2.07 0-2.86zM5.41 20L4 18.59l7.72-7.72 1.47 1.35L5.41 20z\"/>\n",
              "  </svg>\n",
              "      </button>\n",
              "      \n",
              "  <style>\n",
              "    .colab-df-container {\n",
              "      display:flex;\n",
              "      flex-wrap:wrap;\n",
              "      gap: 12px;\n",
              "    }\n",
              "\n",
              "    .colab-df-convert {\n",
              "      background-color: #E8F0FE;\n",
              "      border: none;\n",
              "      border-radius: 50%;\n",
              "      cursor: pointer;\n",
              "      display: none;\n",
              "      fill: #1967D2;\n",
              "      height: 32px;\n",
              "      padding: 0 0 0 0;\n",
              "      width: 32px;\n",
              "    }\n",
              "\n",
              "    .colab-df-convert:hover {\n",
              "      background-color: #E2EBFA;\n",
              "      box-shadow: 0px 1px 2px rgba(60, 64, 67, 0.3), 0px 1px 3px 1px rgba(60, 64, 67, 0.15);\n",
              "      fill: #174EA6;\n",
              "    }\n",
              "\n",
              "    [theme=dark] .colab-df-convert {\n",
              "      background-color: #3B4455;\n",
              "      fill: #D2E3FC;\n",
              "    }\n",
              "\n",
              "    [theme=dark] .colab-df-convert:hover {\n",
              "      background-color: #434B5C;\n",
              "      box-shadow: 0px 1px 3px 1px rgba(0, 0, 0, 0.15);\n",
              "      filter: drop-shadow(0px 1px 2px rgba(0, 0, 0, 0.3));\n",
              "      fill: #FFFFFF;\n",
              "    }\n",
              "  </style>\n",
              "\n",
              "      <script>\n",
              "        const buttonEl =\n",
              "          document.querySelector('#df-7b7ab638-9fc2-4dd1-af3e-7ac91b190e58 button.colab-df-convert');\n",
              "        buttonEl.style.display =\n",
              "          google.colab.kernel.accessAllowed ? 'block' : 'none';\n",
              "\n",
              "        async function convertToInteractive(key) {\n",
              "          const element = document.querySelector('#df-7b7ab638-9fc2-4dd1-af3e-7ac91b190e58');\n",
              "          const dataTable =\n",
              "            await google.colab.kernel.invokeFunction('convertToInteractive',\n",
              "                                                     [key], {});\n",
              "          if (!dataTable) return;\n",
              "\n",
              "          const docLinkHtml = 'Like what you see? Visit the ' +\n",
              "            '<a target=\"_blank\" href=https://colab.research.google.com/notebooks/data_table.ipynb>data table notebook</a>'\n",
              "            + ' to learn more about interactive tables.';\n",
              "          element.innerHTML = '';\n",
              "          dataTable['output_type'] = 'display_data';\n",
              "          await google.colab.output.renderOutput(dataTable, element);\n",
              "          const docLink = document.createElement('div');\n",
              "          docLink.innerHTML = docLinkHtml;\n",
              "          element.appendChild(docLink);\n",
              "        }\n",
              "      </script>\n",
              "    </div>\n",
              "  </div>\n",
              "  "
            ],
            "text/plain": [
              "Empty DataFrame\n",
              "Columns: [ชื่อเฉดไกด์, ค่าสี CIE l a b, โทนสี, ชื่อเฉดไกด์ที่ใกล้เคียง, เทียบเท่าเฉดไกด์ 3D Master]\n",
              "Index: []"
            ]
          },
          "metadata": {},
          "execution_count": 313
        }
      ]
    },
    {
      "cell_type": "code",
      "source": [
        "print(\"เฉดไกด์ที่จับคู่ได้ คือ\", N['ชื่อเฉดไกด์'].values)"
      ],
      "metadata": {
        "id": "Vjn5mBrjX56X",
        "outputId": "ed2b90c6-fc94-4254-8f23-5eec63505085",
        "colab": {
          "base_uri": "https://localhost:8080/"
        }
      },
      "execution_count": null,
      "outputs": [
        {
          "output_type": "stream",
          "name": "stdout",
          "text": [
            "เฉดไกด์ที่จับคู่ได้ คือ ['B1']\n"
          ]
        }
      ]
    },
    {
      "cell_type": "code",
      "source": [
        "print(\"เฉดไกด์ที่จับคู่ได้ คือ\", N['ชื่อเฉดไกด์'].values)\n",
        "print(\"ค่าสี CIE l a b คือ\",N['ค่าสี CIE l a b'].values)\n",
        "print(\"อยู่ในโทนสี คือ\", N['โทนสี'].values)\n",
        "print(\"เฉดไกด์ที่จับคู่ได้ใกล้เคียง คือ\", N['ชื่อเฉดไกด์ที่ใกล้เคียง'].values)\n",
        "print(\"เทียบเท่าเฉดไกด์ 3D Master คือ\", N['เทียบเท่าเฉดไกด์ 3D Master'].values)"
      ],
      "metadata": {
        "id": "mLXD3u4nRZCf",
        "outputId": "635cf18d-187d-4606-8d54-52006db15def",
        "colab": {
          "base_uri": "https://localhost:8080/"
        }
      },
      "execution_count": null,
      "outputs": [
        {
          "output_type": "stream",
          "name": "stdout",
          "text": [
            "เฉดไกด์ที่จับคู่ได้ คือ ['B1']\n",
            "ค่าสี CIE l a b คือ ['(78.9,-1.76,12.33)']\n",
            "อยู่ในโทนสี คือ ['Reddish-yellowish']\n",
            "เฉดไกด์ที่จับคู่ได้ใกล้เคียง คือ ['A1 B2']\n",
            "เทียบเท่าเฉดไกด์ 3D Master คือ ['0M1 0M3']\n"
          ]
        }
      ]
    },
    {
      "cell_type": "code",
      "source": [
        ""
      ],
      "metadata": {
        "id": "K8vGv7p9X45T"
      },
      "execution_count": null,
      "outputs": []
    }
  ]
}