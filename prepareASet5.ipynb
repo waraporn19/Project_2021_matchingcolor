{
  "cells": [
    {
      "cell_type": "markdown",
      "metadata": {
        "id": "view-in-github",
        "colab_type": "text"
      },
      "source": [
        "<a href=\"https://colab.research.google.com/github/waraporn19/Project_2021_matchingcolor/blob/main/prepareASet5.ipynb\" target=\"_parent\"><img src=\"https://colab.research.google.com/assets/colab-badge.svg\" alt=\"Open In Colab\"/></a>"
      ]
    },
    {
      "cell_type": "code",
      "execution_count": 1,
      "metadata": {
        "id": "Ymwqnwsbih-m"
      },
      "outputs": [],
      "source": [
        " import pandas as pd"
      ]
    },
    {
      "cell_type": "code",
      "execution_count": 2,
      "metadata": {
        "colab": {
          "base_uri": "https://localhost:8080/"
        },
        "id": "EHrxpNqlqgeI",
        "outputId": "1010a7ad-292a-4f01-d7c8-f6f2185a0500"
      },
      "outputs": [
        {
          "output_type": "stream",
          "name": "stdout",
          "text": [
            "Mounted at /content/drive\n"
          ]
        }
      ],
      "source": [
        "from google.colab import drive \n",
        "drive.mount('/content/drive')"
      ]
    },
    {
      "cell_type": "code",
      "execution_count": 3,
      "metadata": {
        "id": "7Jmnpc3sq5sI"
      },
      "outputs": [],
      "source": [
        "path = '/content/drive/My Drive/shadeimg'"
      ]
    },
    {
      "cell_type": "code",
      "execution_count": 4,
      "metadata": {
        "id": "u0pE0Y7GrGZc"
      },
      "outputs": [],
      "source": [
        "import os"
      ]
    },
    {
      "cell_type": "code",
      "execution_count": 5,
      "metadata": {
        "colab": {
          "base_uri": "https://localhost:8080/"
        },
        "id": "lb9f-peNrAwQ",
        "outputId": "d6e55576-1f0c-4479-ac52-d7de64b96b57"
      },
      "outputs": [
        {
          "output_type": "execute_result",
          "data": {
            "text/plain": [
              "['รูปฟัน07',\n",
              " '9-10 7 2021',\n",
              " '11 7 2021',\n",
              " 'ฟันสักอย่างจำวันไม่ได้',\n",
              " '1 teeth .gsheet',\n",
              " '16 8 2021',\n",
              " '17 8 2021',\n",
              " '1 teeth .xlsx',\n",
              " '2 teeth .xlsx',\n",
              " '2 teeth.gsheet',\n",
              " 'All shade',\n",
              " 'A1set1.xlsx',\n",
              " 'SVM shade',\n",
              " 'BB1.xlsx',\n",
              " 'CC1.xlsx',\n",
              " 'DD1.xlsx',\n",
              " 'AA1.xlsx',\n",
              " 'Color-checkerAA1.xlsx',\n",
              " 'Color-checkerBB.xlsx',\n",
              " 'Color-checkerDD .xlsx',\n",
              " 'Color-checkerCC.xlsx']"
            ]
          },
          "metadata": {},
          "execution_count": 5
        }
      ],
      "source": [
        "os.listdir(path)"
      ]
    },
    {
      "cell_type": "code",
      "execution_count": 6,
      "metadata": {
        "colab": {
          "base_uri": "https://localhost:8080/"
        },
        "id": "wwZX8yQokAxo",
        "outputId": "faa12fad-8321-4951-c288-581cc755d7fb"
      },
      "outputs": [
        {
          "output_type": "stream",
          "name": "stdout",
          "text": [
            "Collecting azure-storage-blob==2.1.0\n",
            "  Downloading azure_storage_blob-2.1.0-py2.py3-none-any.whl (88 kB)\n",
            "\u001b[?25l\r\u001b[K     |███▊                            | 10 kB 18.9 MB/s eta 0:00:01\r\u001b[K     |███████▍                        | 20 kB 21.1 MB/s eta 0:00:01\r\u001b[K     |███████████▏                    | 30 kB 12.5 MB/s eta 0:00:01\r\u001b[K     |██████████████▉                 | 40 kB 10.2 MB/s eta 0:00:01\r\u001b[K     |██████████████████▋             | 51 kB 5.8 MB/s eta 0:00:01\r\u001b[K     |██████████████████████▎         | 61 kB 6.2 MB/s eta 0:00:01\r\u001b[K     |██████████████████████████      | 71 kB 6.1 MB/s eta 0:00:01\r\u001b[K     |█████████████████████████████▊  | 81 kB 6.9 MB/s eta 0:00:01\r\u001b[K     |████████████████████████████████| 88 kB 3.6 MB/s \n",
            "\u001b[?25hCollecting azure-storage-common~=2.1\n",
            "  Downloading azure_storage_common-2.1.0-py2.py3-none-any.whl (47 kB)\n",
            "\u001b[K     |████████████████████████████████| 47 kB 5.1 MB/s \n",
            "\u001b[?25hCollecting azure-common>=1.1.5\n",
            "  Downloading azure_common-1.1.27-py2.py3-none-any.whl (12 kB)\n",
            "Collecting cryptography\n",
            "  Downloading cryptography-36.0.1-cp36-abi3-manylinux_2_24_x86_64.whl (3.6 MB)\n",
            "\u001b[K     |████████████████████████████████| 3.6 MB 31.6 MB/s \n",
            "\u001b[?25hRequirement already satisfied: python-dateutil in /usr/local/lib/python3.7/dist-packages (from azure-storage-common~=2.1->azure-storage-blob==2.1.0) (2.8.2)\n",
            "Requirement already satisfied: requests in /usr/local/lib/python3.7/dist-packages (from azure-storage-common~=2.1->azure-storage-blob==2.1.0) (2.23.0)\n",
            "Requirement already satisfied: cffi>=1.12 in /usr/local/lib/python3.7/dist-packages (from cryptography->azure-storage-common~=2.1->azure-storage-blob==2.1.0) (1.15.0)\n",
            "Requirement already satisfied: pycparser in /usr/local/lib/python3.7/dist-packages (from cffi>=1.12->cryptography->azure-storage-common~=2.1->azure-storage-blob==2.1.0) (2.21)\n",
            "Requirement already satisfied: six>=1.5 in /usr/local/lib/python3.7/dist-packages (from python-dateutil->azure-storage-common~=2.1->azure-storage-blob==2.1.0) (1.15.0)\n",
            "Requirement already satisfied: idna<3,>=2.5 in /usr/local/lib/python3.7/dist-packages (from requests->azure-storage-common~=2.1->azure-storage-blob==2.1.0) (2.10)\n",
            "Requirement already satisfied: chardet<4,>=3.0.2 in /usr/local/lib/python3.7/dist-packages (from requests->azure-storage-common~=2.1->azure-storage-blob==2.1.0) (3.0.4)\n",
            "Requirement already satisfied: certifi>=2017.4.17 in /usr/local/lib/python3.7/dist-packages (from requests->azure-storage-common~=2.1->azure-storage-blob==2.1.0) (2021.10.8)\n",
            "Requirement already satisfied: urllib3!=1.25.0,!=1.25.1,<1.26,>=1.21.1 in /usr/local/lib/python3.7/dist-packages (from requests->azure-storage-common~=2.1->azure-storage-blob==2.1.0) (1.24.3)\n",
            "Installing collected packages: cryptography, azure-common, azure-storage-common, azure-storage-blob\n",
            "Successfully installed azure-common-1.1.27 azure-storage-blob-2.1.0 azure-storage-common-2.1.0 cryptography-36.0.1\n"
          ]
        }
      ],
      "source": [
        "!pip install azure-storage-blob==2.1.0"
      ]
    },
    {
      "cell_type": "code",
      "execution_count": 8,
      "metadata": {
        "id": "upBpPzhgmWjh"
      },
      "outputs": [],
      "source": [
        "from azure.storage.blob import BlockBlobService\n",
        "import os"
      ]
    },
    {
      "cell_type": "code",
      "execution_count": 9,
      "metadata": {
        "id": "k3-2jUTwmWq1"
      },
      "outputs": [],
      "source": [
        "blob_service_client = BlockBlobService(account_name='dent01', account_key='CuShY0B4TZJ84TjzPpaHxyrHOpO73aGXeCpdVq7x26OjIlQ1HOz+3DVc9pDEj9BdcEL8odFuTRF0mOAE+aCgiw==')"
      ]
    },
    {
      "cell_type": "code",
      "execution_count": 10,
      "metadata": {
        "id": "r02hCfq4rnrg"
      },
      "outputs": [],
      "source": [
        "import cv2\n",
        "from matplotlib import pyplot as plt #การเรียกใช้คำสั่ง matplotlib เพื่อวาดกราฟ โดยแทนชื่อ matplotlib ด้วย plt\n",
        "import matplotlib"
      ]
    },
    {
      "cell_type": "code",
      "execution_count": 11,
      "metadata": {
        "id": "9yH_FPhvSBdf"
      },
      "outputs": [],
      "source": [
        "AA = os.path.join(path,'Color-checkerAA1.xlsx')"
      ]
    },
    {
      "cell_type": "code",
      "execution_count": 12,
      "metadata": {
        "colab": {
          "base_uri": "https://localhost:8080/",
          "height": 424
        },
        "id": "q8cds2a6RyqT",
        "outputId": "02f2ba47-cfe4-458e-c4f4-3bc093760381"
      },
      "outputs": [
        {
          "output_type": "execute_result",
          "data": {
            "text/html": [
              "\n",
              "  <div id=\"df-d3c4f494-d145-4692-a80c-f33c747ef341\">\n",
              "    <div class=\"colab-df-container\">\n",
              "      <div>\n",
              "<style scoped>\n",
              "    .dataframe tbody tr th:only-of-type {\n",
              "        vertical-align: middle;\n",
              "    }\n",
              "\n",
              "    .dataframe tbody tr th {\n",
              "        vertical-align: top;\n",
              "    }\n",
              "\n",
              "    .dataframe thead th {\n",
              "        text-align: right;\n",
              "    }\n",
              "</style>\n",
              "<table border=\"1\" class=\"dataframe\">\n",
              "  <thead>\n",
              "    <tr style=\"text-align: right;\">\n",
              "      <th></th>\n",
              "      <th>ชื่อไฟล์ข้อมูล</th>\n",
              "      <th>ฝั่งซ้าย</th>\n",
              "      <th>ฝั่งขวา</th>\n",
              "      <th>ชนิดกล้องถ่ายรูป</th>\n",
              "      <th>แสงที่ใช้</th>\n",
              "      <th>ฉากหลัง</th>\n",
              "      <th>หมายเหตุ</th>\n",
              "    </tr>\n",
              "  </thead>\n",
              "  <tbody>\n",
              "    <tr>\n",
              "      <th>0</th>\n",
              "      <td>617830DD-CE22-4FE4-BB73-985BA6B7C96D.png</td>\n",
              "      <td>ตารางสี</td>\n",
              "      <td>NaN</td>\n",
              "      <td>Iphone 11</td>\n",
              "      <td>ไฟ 4 ดวงในห้อง และไฟกลม</td>\n",
              "      <td>สีดำ</td>\n",
              "      <td>Duration 1/100 ISO 630</td>\n",
              "    </tr>\n",
              "    <tr>\n",
              "      <th>1</th>\n",
              "      <td>4A452059-7787-4CEB-B348-018AE0C9FE91.png</td>\n",
              "      <td>ตารางเทา</td>\n",
              "      <td>NaN</td>\n",
              "      <td>Iphone 11</td>\n",
              "      <td>ไฟ 4 ดวงในห้อง และไฟกลม</td>\n",
              "      <td>สีดำ</td>\n",
              "      <td>Duration 1/100 ISO 630</td>\n",
              "    </tr>\n",
              "    <tr>\n",
              "      <th>2</th>\n",
              "      <td>A0DE7391-7B39-4698-A672-5E4B592D54F3.png</td>\n",
              "      <td>A1</td>\n",
              "      <td>A1</td>\n",
              "      <td>Iphone 11</td>\n",
              "      <td>ไฟ 4 ดวงในห้อง และไฟกลม</td>\n",
              "      <td>สีดำ</td>\n",
              "      <td>Duration 1/100 ISO 630</td>\n",
              "    </tr>\n",
              "    <tr>\n",
              "      <th>3</th>\n",
              "      <td>29983AE2-42D6-4E42-8963-F2BC3C280F63.png</td>\n",
              "      <td>A1</td>\n",
              "      <td>A1</td>\n",
              "      <td>Iphone 11</td>\n",
              "      <td>ไฟ 4 ดวงในห้อง และไฟกลม</td>\n",
              "      <td>สีดำ</td>\n",
              "      <td>Duration 1/100 ISO 630</td>\n",
              "    </tr>\n",
              "    <tr>\n",
              "      <th>4</th>\n",
              "      <td>1021EB5D-07A9-494F-83FF-87597C0B0C9A.png</td>\n",
              "      <td>A1</td>\n",
              "      <td>A1</td>\n",
              "      <td>Iphone 11</td>\n",
              "      <td>ไฟ 4 ดวงในห้อง และไฟกลม</td>\n",
              "      <td>สีดำ</td>\n",
              "      <td>Duration 1/100 ISO 630</td>\n",
              "    </tr>\n",
              "    <tr>\n",
              "      <th>...</th>\n",
              "      <td>...</td>\n",
              "      <td>...</td>\n",
              "      <td>...</td>\n",
              "      <td>...</td>\n",
              "      <td>...</td>\n",
              "      <td>...</td>\n",
              "      <td>...</td>\n",
              "    </tr>\n",
              "    <tr>\n",
              "      <th>161</th>\n",
              "      <td>8B15B11E-99EB-4D7D-9742-000B1379DCA4.png</td>\n",
              "      <td>A1</td>\n",
              "      <td>D4</td>\n",
              "      <td>Iphone 11</td>\n",
              "      <td>ไฟ 4 ดวงในห้อง และไฟกลม</td>\n",
              "      <td>สีดำ</td>\n",
              "      <td>Duration 1/100 ISO 630</td>\n",
              "    </tr>\n",
              "    <tr>\n",
              "      <th>162</th>\n",
              "      <td>393C275A-B31D-4CEA-836E-A6701A994A48.png</td>\n",
              "      <td>ตารางสี เล็ก</td>\n",
              "      <td>NaN</td>\n",
              "      <td>Iphone 11</td>\n",
              "      <td>ไฟ 4 ดวงในห้อง และไฟกลม</td>\n",
              "      <td>สีดำ</td>\n",
              "      <td>Duration 1/100 ISO 630</td>\n",
              "    </tr>\n",
              "    <tr>\n",
              "      <th>163</th>\n",
              "      <td>7F7C74D8-6608-496B-9254-F10ACF1064CD.png</td>\n",
              "      <td>ตารางสี</td>\n",
              "      <td>NaN</td>\n",
              "      <td>Iphone 11</td>\n",
              "      <td>ไฟ 4 ดวงในห้อง และไฟกลม</td>\n",
              "      <td>สีดำ</td>\n",
              "      <td>Duration 1/100 ISO 630</td>\n",
              "    </tr>\n",
              "    <tr>\n",
              "      <th>164</th>\n",
              "      <td>2A188017-1584-4E2A-BFD4-9D2F3F336F78.png</td>\n",
              "      <td>ตารางเทา เล็ก</td>\n",
              "      <td>NaN</td>\n",
              "      <td>Iphone 11</td>\n",
              "      <td>ไฟ 4 ดวงในห้อง และไฟกลม</td>\n",
              "      <td>สีดำ</td>\n",
              "      <td>Duration 1/100 ISO 630</td>\n",
              "    </tr>\n",
              "    <tr>\n",
              "      <th>165</th>\n",
              "      <td>94CF7F00-8461-420B-880B-E2DEFE0A51E3.png</td>\n",
              "      <td>ตารางเทา</td>\n",
              "      <td>NaN</td>\n",
              "      <td>Iphone 11</td>\n",
              "      <td>ไฟ 4 ดวงในห้อง และไฟกลม</td>\n",
              "      <td>สีดำ</td>\n",
              "      <td>Duration 1/100 ISO 630</td>\n",
              "    </tr>\n",
              "  </tbody>\n",
              "</table>\n",
              "<p>166 rows × 7 columns</p>\n",
              "</div>\n",
              "      <button class=\"colab-df-convert\" onclick=\"convertToInteractive('df-d3c4f494-d145-4692-a80c-f33c747ef341')\"\n",
              "              title=\"Convert this dataframe to an interactive table.\"\n",
              "              style=\"display:none;\">\n",
              "        \n",
              "  <svg xmlns=\"http://www.w3.org/2000/svg\" height=\"24px\"viewBox=\"0 0 24 24\"\n",
              "       width=\"24px\">\n",
              "    <path d=\"M0 0h24v24H0V0z\" fill=\"none\"/>\n",
              "    <path d=\"M18.56 5.44l.94 2.06.94-2.06 2.06-.94-2.06-.94-.94-2.06-.94 2.06-2.06.94zm-11 1L8.5 8.5l.94-2.06 2.06-.94-2.06-.94L8.5 2.5l-.94 2.06-2.06.94zm10 10l.94 2.06.94-2.06 2.06-.94-2.06-.94-.94-2.06-.94 2.06-2.06.94z\"/><path d=\"M17.41 7.96l-1.37-1.37c-.4-.4-.92-.59-1.43-.59-.52 0-1.04.2-1.43.59L10.3 9.45l-7.72 7.72c-.78.78-.78 2.05 0 2.83L4 21.41c.39.39.9.59 1.41.59.51 0 1.02-.2 1.41-.59l7.78-7.78 2.81-2.81c.8-.78.8-2.07 0-2.86zM5.41 20L4 18.59l7.72-7.72 1.47 1.35L5.41 20z\"/>\n",
              "  </svg>\n",
              "      </button>\n",
              "      \n",
              "  <style>\n",
              "    .colab-df-container {\n",
              "      display:flex;\n",
              "      flex-wrap:wrap;\n",
              "      gap: 12px;\n",
              "    }\n",
              "\n",
              "    .colab-df-convert {\n",
              "      background-color: #E8F0FE;\n",
              "      border: none;\n",
              "      border-radius: 50%;\n",
              "      cursor: pointer;\n",
              "      display: none;\n",
              "      fill: #1967D2;\n",
              "      height: 32px;\n",
              "      padding: 0 0 0 0;\n",
              "      width: 32px;\n",
              "    }\n",
              "\n",
              "    .colab-df-convert:hover {\n",
              "      background-color: #E2EBFA;\n",
              "      box-shadow: 0px 1px 2px rgba(60, 64, 67, 0.3), 0px 1px 3px 1px rgba(60, 64, 67, 0.15);\n",
              "      fill: #174EA6;\n",
              "    }\n",
              "\n",
              "    [theme=dark] .colab-df-convert {\n",
              "      background-color: #3B4455;\n",
              "      fill: #D2E3FC;\n",
              "    }\n",
              "\n",
              "    [theme=dark] .colab-df-convert:hover {\n",
              "      background-color: #434B5C;\n",
              "      box-shadow: 0px 1px 3px 1px rgba(0, 0, 0, 0.15);\n",
              "      filter: drop-shadow(0px 1px 2px rgba(0, 0, 0, 0.3));\n",
              "      fill: #FFFFFF;\n",
              "    }\n",
              "  </style>\n",
              "\n",
              "      <script>\n",
              "        const buttonEl =\n",
              "          document.querySelector('#df-d3c4f494-d145-4692-a80c-f33c747ef341 button.colab-df-convert');\n",
              "        buttonEl.style.display =\n",
              "          google.colab.kernel.accessAllowed ? 'block' : 'none';\n",
              "\n",
              "        async function convertToInteractive(key) {\n",
              "          const element = document.querySelector('#df-d3c4f494-d145-4692-a80c-f33c747ef341');\n",
              "          const dataTable =\n",
              "            await google.colab.kernel.invokeFunction('convertToInteractive',\n",
              "                                                     [key], {});\n",
              "          if (!dataTable) return;\n",
              "\n",
              "          const docLinkHtml = 'Like what you see? Visit the ' +\n",
              "            '<a target=\"_blank\" href=https://colab.research.google.com/notebooks/data_table.ipynb>data table notebook</a>'\n",
              "            + ' to learn more about interactive tables.';\n",
              "          element.innerHTML = '';\n",
              "          dataTable['output_type'] = 'display_data';\n",
              "          await google.colab.output.renderOutput(dataTable, element);\n",
              "          const docLink = document.createElement('div');\n",
              "          docLink.innerHTML = docLinkHtml;\n",
              "          element.appendChild(docLink);\n",
              "        }\n",
              "      </script>\n",
              "    </div>\n",
              "  </div>\n",
              "  "
            ],
            "text/plain": [
              "                               ชื่อไฟล์ข้อมูล  ...                หมายเหตุ\n",
              "0    617830DD-CE22-4FE4-BB73-985BA6B7C96D.png  ...  Duration 1/100 ISO 630\n",
              "1    4A452059-7787-4CEB-B348-018AE0C9FE91.png  ...  Duration 1/100 ISO 630\n",
              "2    A0DE7391-7B39-4698-A672-5E4B592D54F3.png  ...  Duration 1/100 ISO 630\n",
              "3    29983AE2-42D6-4E42-8963-F2BC3C280F63.png  ...  Duration 1/100 ISO 630\n",
              "4    1021EB5D-07A9-494F-83FF-87597C0B0C9A.png  ...  Duration 1/100 ISO 630\n",
              "..                                        ...  ...                     ...\n",
              "161  8B15B11E-99EB-4D7D-9742-000B1379DCA4.png  ...  Duration 1/100 ISO 630\n",
              "162  393C275A-B31D-4CEA-836E-A6701A994A48.png  ...  Duration 1/100 ISO 630\n",
              "163  7F7C74D8-6608-496B-9254-F10ACF1064CD.png  ...  Duration 1/100 ISO 630\n",
              "164  2A188017-1584-4E2A-BFD4-9D2F3F336F78.png  ...  Duration 1/100 ISO 630\n",
              "165  94CF7F00-8461-420B-880B-E2DEFE0A51E3.png  ...  Duration 1/100 ISO 630\n",
              "\n",
              "[166 rows x 7 columns]"
            ]
          },
          "metadata": {},
          "execution_count": 12
        }
      ],
      "source": [
        "A1_set1= pd.read_excel(AA, sheet_name='A1_1')\n",
        "A1_set1"
      ]
    },
    {
      "cell_type": "code",
      "execution_count": 13,
      "metadata": {
        "id": "Y6jhTgRvwsTN"
      },
      "outputs": [],
      "source": [
        "A1_set1.rename(columns={\"ฝั่งซ้าย\": \"Ref\"},inplace=True)"
      ]
    },
    {
      "cell_type": "code",
      "execution_count": 14,
      "metadata": {
        "id": "6yS5pC3Txiuc"
      },
      "outputs": [],
      "source": [
        "A1_set1.rename(columns={\"ฝั่งขวา\":\"Shad\"},inplace=True)"
      ]
    },
    {
      "cell_type": "code",
      "execution_count": 15,
      "metadata": {
        "id": "ged8GaqMgEfR"
      },
      "outputs": [],
      "source": [
        "A1_set1.rename(columns={\"ชื่อไฟล์ข้อมูล\":\"Img\"},inplace=True)"
      ]
    },
    {
      "cell_type": "code",
      "execution_count": 16,
      "metadata": {
        "colab": {
          "base_uri": "https://localhost:8080/",
          "height": 424
        },
        "id": "O90BXV_Hxq9f",
        "outputId": "c9ef65a7-efb6-49e5-853d-03bced9f397c"
      },
      "outputs": [
        {
          "output_type": "execute_result",
          "data": {
            "text/html": [
              "\n",
              "  <div id=\"df-2d072b33-de0c-47c4-8eb6-6e182e7dbfb9\">\n",
              "    <div class=\"colab-df-container\">\n",
              "      <div>\n",
              "<style scoped>\n",
              "    .dataframe tbody tr th:only-of-type {\n",
              "        vertical-align: middle;\n",
              "    }\n",
              "\n",
              "    .dataframe tbody tr th {\n",
              "        vertical-align: top;\n",
              "    }\n",
              "\n",
              "    .dataframe thead th {\n",
              "        text-align: right;\n",
              "    }\n",
              "</style>\n",
              "<table border=\"1\" class=\"dataframe\">\n",
              "  <thead>\n",
              "    <tr style=\"text-align: right;\">\n",
              "      <th></th>\n",
              "      <th>Img</th>\n",
              "      <th>Ref</th>\n",
              "      <th>Shad</th>\n",
              "      <th>ชนิดกล้องถ่ายรูป</th>\n",
              "      <th>แสงที่ใช้</th>\n",
              "      <th>ฉากหลัง</th>\n",
              "      <th>หมายเหตุ</th>\n",
              "    </tr>\n",
              "  </thead>\n",
              "  <tbody>\n",
              "    <tr>\n",
              "      <th>0</th>\n",
              "      <td>617830DD-CE22-4FE4-BB73-985BA6B7C96D.png</td>\n",
              "      <td>ตารางสี</td>\n",
              "      <td>NaN</td>\n",
              "      <td>Iphone 11</td>\n",
              "      <td>ไฟ 4 ดวงในห้อง และไฟกลม</td>\n",
              "      <td>สีดำ</td>\n",
              "      <td>Duration 1/100 ISO 630</td>\n",
              "    </tr>\n",
              "    <tr>\n",
              "      <th>1</th>\n",
              "      <td>4A452059-7787-4CEB-B348-018AE0C9FE91.png</td>\n",
              "      <td>ตารางเทา</td>\n",
              "      <td>NaN</td>\n",
              "      <td>Iphone 11</td>\n",
              "      <td>ไฟ 4 ดวงในห้อง และไฟกลม</td>\n",
              "      <td>สีดำ</td>\n",
              "      <td>Duration 1/100 ISO 630</td>\n",
              "    </tr>\n",
              "    <tr>\n",
              "      <th>2</th>\n",
              "      <td>A0DE7391-7B39-4698-A672-5E4B592D54F3.png</td>\n",
              "      <td>A1</td>\n",
              "      <td>A1</td>\n",
              "      <td>Iphone 11</td>\n",
              "      <td>ไฟ 4 ดวงในห้อง และไฟกลม</td>\n",
              "      <td>สีดำ</td>\n",
              "      <td>Duration 1/100 ISO 630</td>\n",
              "    </tr>\n",
              "    <tr>\n",
              "      <th>3</th>\n",
              "      <td>29983AE2-42D6-4E42-8963-F2BC3C280F63.png</td>\n",
              "      <td>A1</td>\n",
              "      <td>A1</td>\n",
              "      <td>Iphone 11</td>\n",
              "      <td>ไฟ 4 ดวงในห้อง และไฟกลม</td>\n",
              "      <td>สีดำ</td>\n",
              "      <td>Duration 1/100 ISO 630</td>\n",
              "    </tr>\n",
              "    <tr>\n",
              "      <th>4</th>\n",
              "      <td>1021EB5D-07A9-494F-83FF-87597C0B0C9A.png</td>\n",
              "      <td>A1</td>\n",
              "      <td>A1</td>\n",
              "      <td>Iphone 11</td>\n",
              "      <td>ไฟ 4 ดวงในห้อง และไฟกลม</td>\n",
              "      <td>สีดำ</td>\n",
              "      <td>Duration 1/100 ISO 630</td>\n",
              "    </tr>\n",
              "    <tr>\n",
              "      <th>...</th>\n",
              "      <td>...</td>\n",
              "      <td>...</td>\n",
              "      <td>...</td>\n",
              "      <td>...</td>\n",
              "      <td>...</td>\n",
              "      <td>...</td>\n",
              "      <td>...</td>\n",
              "    </tr>\n",
              "    <tr>\n",
              "      <th>161</th>\n",
              "      <td>8B15B11E-99EB-4D7D-9742-000B1379DCA4.png</td>\n",
              "      <td>A1</td>\n",
              "      <td>D4</td>\n",
              "      <td>Iphone 11</td>\n",
              "      <td>ไฟ 4 ดวงในห้อง และไฟกลม</td>\n",
              "      <td>สีดำ</td>\n",
              "      <td>Duration 1/100 ISO 630</td>\n",
              "    </tr>\n",
              "    <tr>\n",
              "      <th>162</th>\n",
              "      <td>393C275A-B31D-4CEA-836E-A6701A994A48.png</td>\n",
              "      <td>ตารางสี เล็ก</td>\n",
              "      <td>NaN</td>\n",
              "      <td>Iphone 11</td>\n",
              "      <td>ไฟ 4 ดวงในห้อง และไฟกลม</td>\n",
              "      <td>สีดำ</td>\n",
              "      <td>Duration 1/100 ISO 630</td>\n",
              "    </tr>\n",
              "    <tr>\n",
              "      <th>163</th>\n",
              "      <td>7F7C74D8-6608-496B-9254-F10ACF1064CD.png</td>\n",
              "      <td>ตารางสี</td>\n",
              "      <td>NaN</td>\n",
              "      <td>Iphone 11</td>\n",
              "      <td>ไฟ 4 ดวงในห้อง และไฟกลม</td>\n",
              "      <td>สีดำ</td>\n",
              "      <td>Duration 1/100 ISO 630</td>\n",
              "    </tr>\n",
              "    <tr>\n",
              "      <th>164</th>\n",
              "      <td>2A188017-1584-4E2A-BFD4-9D2F3F336F78.png</td>\n",
              "      <td>ตารางเทา เล็ก</td>\n",
              "      <td>NaN</td>\n",
              "      <td>Iphone 11</td>\n",
              "      <td>ไฟ 4 ดวงในห้อง และไฟกลม</td>\n",
              "      <td>สีดำ</td>\n",
              "      <td>Duration 1/100 ISO 630</td>\n",
              "    </tr>\n",
              "    <tr>\n",
              "      <th>165</th>\n",
              "      <td>94CF7F00-8461-420B-880B-E2DEFE0A51E3.png</td>\n",
              "      <td>ตารางเทา</td>\n",
              "      <td>NaN</td>\n",
              "      <td>Iphone 11</td>\n",
              "      <td>ไฟ 4 ดวงในห้อง และไฟกลม</td>\n",
              "      <td>สีดำ</td>\n",
              "      <td>Duration 1/100 ISO 630</td>\n",
              "    </tr>\n",
              "  </tbody>\n",
              "</table>\n",
              "<p>166 rows × 7 columns</p>\n",
              "</div>\n",
              "      <button class=\"colab-df-convert\" onclick=\"convertToInteractive('df-2d072b33-de0c-47c4-8eb6-6e182e7dbfb9')\"\n",
              "              title=\"Convert this dataframe to an interactive table.\"\n",
              "              style=\"display:none;\">\n",
              "        \n",
              "  <svg xmlns=\"http://www.w3.org/2000/svg\" height=\"24px\"viewBox=\"0 0 24 24\"\n",
              "       width=\"24px\">\n",
              "    <path d=\"M0 0h24v24H0V0z\" fill=\"none\"/>\n",
              "    <path d=\"M18.56 5.44l.94 2.06.94-2.06 2.06-.94-2.06-.94-.94-2.06-.94 2.06-2.06.94zm-11 1L8.5 8.5l.94-2.06 2.06-.94-2.06-.94L8.5 2.5l-.94 2.06-2.06.94zm10 10l.94 2.06.94-2.06 2.06-.94-2.06-.94-.94-2.06-.94 2.06-2.06.94z\"/><path d=\"M17.41 7.96l-1.37-1.37c-.4-.4-.92-.59-1.43-.59-.52 0-1.04.2-1.43.59L10.3 9.45l-7.72 7.72c-.78.78-.78 2.05 0 2.83L4 21.41c.39.39.9.59 1.41.59.51 0 1.02-.2 1.41-.59l7.78-7.78 2.81-2.81c.8-.78.8-2.07 0-2.86zM5.41 20L4 18.59l7.72-7.72 1.47 1.35L5.41 20z\"/>\n",
              "  </svg>\n",
              "      </button>\n",
              "      \n",
              "  <style>\n",
              "    .colab-df-container {\n",
              "      display:flex;\n",
              "      flex-wrap:wrap;\n",
              "      gap: 12px;\n",
              "    }\n",
              "\n",
              "    .colab-df-convert {\n",
              "      background-color: #E8F0FE;\n",
              "      border: none;\n",
              "      border-radius: 50%;\n",
              "      cursor: pointer;\n",
              "      display: none;\n",
              "      fill: #1967D2;\n",
              "      height: 32px;\n",
              "      padding: 0 0 0 0;\n",
              "      width: 32px;\n",
              "    }\n",
              "\n",
              "    .colab-df-convert:hover {\n",
              "      background-color: #E2EBFA;\n",
              "      box-shadow: 0px 1px 2px rgba(60, 64, 67, 0.3), 0px 1px 3px 1px rgba(60, 64, 67, 0.15);\n",
              "      fill: #174EA6;\n",
              "    }\n",
              "\n",
              "    [theme=dark] .colab-df-convert {\n",
              "      background-color: #3B4455;\n",
              "      fill: #D2E3FC;\n",
              "    }\n",
              "\n",
              "    [theme=dark] .colab-df-convert:hover {\n",
              "      background-color: #434B5C;\n",
              "      box-shadow: 0px 1px 3px 1px rgba(0, 0, 0, 0.15);\n",
              "      filter: drop-shadow(0px 1px 2px rgba(0, 0, 0, 0.3));\n",
              "      fill: #FFFFFF;\n",
              "    }\n",
              "  </style>\n",
              "\n",
              "      <script>\n",
              "        const buttonEl =\n",
              "          document.querySelector('#df-2d072b33-de0c-47c4-8eb6-6e182e7dbfb9 button.colab-df-convert');\n",
              "        buttonEl.style.display =\n",
              "          google.colab.kernel.accessAllowed ? 'block' : 'none';\n",
              "\n",
              "        async function convertToInteractive(key) {\n",
              "          const element = document.querySelector('#df-2d072b33-de0c-47c4-8eb6-6e182e7dbfb9');\n",
              "          const dataTable =\n",
              "            await google.colab.kernel.invokeFunction('convertToInteractive',\n",
              "                                                     [key], {});\n",
              "          if (!dataTable) return;\n",
              "\n",
              "          const docLinkHtml = 'Like what you see? Visit the ' +\n",
              "            '<a target=\"_blank\" href=https://colab.research.google.com/notebooks/data_table.ipynb>data table notebook</a>'\n",
              "            + ' to learn more about interactive tables.';\n",
              "          element.innerHTML = '';\n",
              "          dataTable['output_type'] = 'display_data';\n",
              "          await google.colab.output.renderOutput(dataTable, element);\n",
              "          const docLink = document.createElement('div');\n",
              "          docLink.innerHTML = docLinkHtml;\n",
              "          element.appendChild(docLink);\n",
              "        }\n",
              "      </script>\n",
              "    </div>\n",
              "  </div>\n",
              "  "
            ],
            "text/plain": [
              "                                          Img  ...                หมายเหตุ\n",
              "0    617830DD-CE22-4FE4-BB73-985BA6B7C96D.png  ...  Duration 1/100 ISO 630\n",
              "1    4A452059-7787-4CEB-B348-018AE0C9FE91.png  ...  Duration 1/100 ISO 630\n",
              "2    A0DE7391-7B39-4698-A672-5E4B592D54F3.png  ...  Duration 1/100 ISO 630\n",
              "3    29983AE2-42D6-4E42-8963-F2BC3C280F63.png  ...  Duration 1/100 ISO 630\n",
              "4    1021EB5D-07A9-494F-83FF-87597C0B0C9A.png  ...  Duration 1/100 ISO 630\n",
              "..                                        ...  ...                     ...\n",
              "161  8B15B11E-99EB-4D7D-9742-000B1379DCA4.png  ...  Duration 1/100 ISO 630\n",
              "162  393C275A-B31D-4CEA-836E-A6701A994A48.png  ...  Duration 1/100 ISO 630\n",
              "163  7F7C74D8-6608-496B-9254-F10ACF1064CD.png  ...  Duration 1/100 ISO 630\n",
              "164  2A188017-1584-4E2A-BFD4-9D2F3F336F78.png  ...  Duration 1/100 ISO 630\n",
              "165  94CF7F00-8461-420B-880B-E2DEFE0A51E3.png  ...  Duration 1/100 ISO 630\n",
              "\n",
              "[166 rows x 7 columns]"
            ]
          },
          "metadata": {},
          "execution_count": 16
        }
      ],
      "source": [
        "A1_set1"
      ]
    },
    {
      "cell_type": "code",
      "execution_count": 17,
      "metadata": {
        "id": "X6w8bgse0RQZ"
      },
      "outputs": [],
      "source": [
        "#A1_set1 = A1_set1.drop([0])\n",
        "#A1_set1"
      ]
    },
    {
      "cell_type": "code",
      "execution_count": 18,
      "metadata": {
        "colab": {
          "base_uri": "https://localhost:8080/",
          "height": 424
        },
        "id": "ZHeekG9KHMJz",
        "outputId": "e11b565c-eda3-4230-8ee5-f36af9b41c1b"
      },
      "outputs": [
        {
          "output_type": "execute_result",
          "data": {
            "text/html": [
              "\n",
              "  <div id=\"df-e2336c63-ba9c-425c-a6d3-496e97834ec4\">\n",
              "    <div class=\"colab-df-container\">\n",
              "      <div>\n",
              "<style scoped>\n",
              "    .dataframe tbody tr th:only-of-type {\n",
              "        vertical-align: middle;\n",
              "    }\n",
              "\n",
              "    .dataframe tbody tr th {\n",
              "        vertical-align: top;\n",
              "    }\n",
              "\n",
              "    .dataframe thead th {\n",
              "        text-align: right;\n",
              "    }\n",
              "</style>\n",
              "<table border=\"1\" class=\"dataframe\">\n",
              "  <thead>\n",
              "    <tr style=\"text-align: right;\">\n",
              "      <th></th>\n",
              "      <th>Ref</th>\n",
              "      <th>Shad</th>\n",
              "      <th>Img</th>\n",
              "    </tr>\n",
              "  </thead>\n",
              "  <tbody>\n",
              "    <tr>\n",
              "      <th>0</th>\n",
              "      <td>ตารางสี</td>\n",
              "      <td>NaN</td>\n",
              "      <td>617830DD-CE22-4FE4-BB73-985BA6B7C96D.png</td>\n",
              "    </tr>\n",
              "    <tr>\n",
              "      <th>1</th>\n",
              "      <td>ตารางเทา</td>\n",
              "      <td>NaN</td>\n",
              "      <td>4A452059-7787-4CEB-B348-018AE0C9FE91.png</td>\n",
              "    </tr>\n",
              "    <tr>\n",
              "      <th>2</th>\n",
              "      <td>A1</td>\n",
              "      <td>A1</td>\n",
              "      <td>A0DE7391-7B39-4698-A672-5E4B592D54F3.png</td>\n",
              "    </tr>\n",
              "    <tr>\n",
              "      <th>3</th>\n",
              "      <td>A1</td>\n",
              "      <td>A1</td>\n",
              "      <td>29983AE2-42D6-4E42-8963-F2BC3C280F63.png</td>\n",
              "    </tr>\n",
              "    <tr>\n",
              "      <th>4</th>\n",
              "      <td>A1</td>\n",
              "      <td>A1</td>\n",
              "      <td>1021EB5D-07A9-494F-83FF-87597C0B0C9A.png</td>\n",
              "    </tr>\n",
              "    <tr>\n",
              "      <th>...</th>\n",
              "      <td>...</td>\n",
              "      <td>...</td>\n",
              "      <td>...</td>\n",
              "    </tr>\n",
              "    <tr>\n",
              "      <th>161</th>\n",
              "      <td>A1</td>\n",
              "      <td>D4</td>\n",
              "      <td>8B15B11E-99EB-4D7D-9742-000B1379DCA4.png</td>\n",
              "    </tr>\n",
              "    <tr>\n",
              "      <th>162</th>\n",
              "      <td>ตารางสี เล็ก</td>\n",
              "      <td>NaN</td>\n",
              "      <td>393C275A-B31D-4CEA-836E-A6701A994A48.png</td>\n",
              "    </tr>\n",
              "    <tr>\n",
              "      <th>163</th>\n",
              "      <td>ตารางสี</td>\n",
              "      <td>NaN</td>\n",
              "      <td>7F7C74D8-6608-496B-9254-F10ACF1064CD.png</td>\n",
              "    </tr>\n",
              "    <tr>\n",
              "      <th>164</th>\n",
              "      <td>ตารางเทา เล็ก</td>\n",
              "      <td>NaN</td>\n",
              "      <td>2A188017-1584-4E2A-BFD4-9D2F3F336F78.png</td>\n",
              "    </tr>\n",
              "    <tr>\n",
              "      <th>165</th>\n",
              "      <td>ตารางเทา</td>\n",
              "      <td>NaN</td>\n",
              "      <td>94CF7F00-8461-420B-880B-E2DEFE0A51E3.png</td>\n",
              "    </tr>\n",
              "  </tbody>\n",
              "</table>\n",
              "<p>166 rows × 3 columns</p>\n",
              "</div>\n",
              "      <button class=\"colab-df-convert\" onclick=\"convertToInteractive('df-e2336c63-ba9c-425c-a6d3-496e97834ec4')\"\n",
              "              title=\"Convert this dataframe to an interactive table.\"\n",
              "              style=\"display:none;\">\n",
              "        \n",
              "  <svg xmlns=\"http://www.w3.org/2000/svg\" height=\"24px\"viewBox=\"0 0 24 24\"\n",
              "       width=\"24px\">\n",
              "    <path d=\"M0 0h24v24H0V0z\" fill=\"none\"/>\n",
              "    <path d=\"M18.56 5.44l.94 2.06.94-2.06 2.06-.94-2.06-.94-.94-2.06-.94 2.06-2.06.94zm-11 1L8.5 8.5l.94-2.06 2.06-.94-2.06-.94L8.5 2.5l-.94 2.06-2.06.94zm10 10l.94 2.06.94-2.06 2.06-.94-2.06-.94-.94-2.06-.94 2.06-2.06.94z\"/><path d=\"M17.41 7.96l-1.37-1.37c-.4-.4-.92-.59-1.43-.59-.52 0-1.04.2-1.43.59L10.3 9.45l-7.72 7.72c-.78.78-.78 2.05 0 2.83L4 21.41c.39.39.9.59 1.41.59.51 0 1.02-.2 1.41-.59l7.78-7.78 2.81-2.81c.8-.78.8-2.07 0-2.86zM5.41 20L4 18.59l7.72-7.72 1.47 1.35L5.41 20z\"/>\n",
              "  </svg>\n",
              "      </button>\n",
              "      \n",
              "  <style>\n",
              "    .colab-df-container {\n",
              "      display:flex;\n",
              "      flex-wrap:wrap;\n",
              "      gap: 12px;\n",
              "    }\n",
              "\n",
              "    .colab-df-convert {\n",
              "      background-color: #E8F0FE;\n",
              "      border: none;\n",
              "      border-radius: 50%;\n",
              "      cursor: pointer;\n",
              "      display: none;\n",
              "      fill: #1967D2;\n",
              "      height: 32px;\n",
              "      padding: 0 0 0 0;\n",
              "      width: 32px;\n",
              "    }\n",
              "\n",
              "    .colab-df-convert:hover {\n",
              "      background-color: #E2EBFA;\n",
              "      box-shadow: 0px 1px 2px rgba(60, 64, 67, 0.3), 0px 1px 3px 1px rgba(60, 64, 67, 0.15);\n",
              "      fill: #174EA6;\n",
              "    }\n",
              "\n",
              "    [theme=dark] .colab-df-convert {\n",
              "      background-color: #3B4455;\n",
              "      fill: #D2E3FC;\n",
              "    }\n",
              "\n",
              "    [theme=dark] .colab-df-convert:hover {\n",
              "      background-color: #434B5C;\n",
              "      box-shadow: 0px 1px 3px 1px rgba(0, 0, 0, 0.15);\n",
              "      filter: drop-shadow(0px 1px 2px rgba(0, 0, 0, 0.3));\n",
              "      fill: #FFFFFF;\n",
              "    }\n",
              "  </style>\n",
              "\n",
              "      <script>\n",
              "        const buttonEl =\n",
              "          document.querySelector('#df-e2336c63-ba9c-425c-a6d3-496e97834ec4 button.colab-df-convert');\n",
              "        buttonEl.style.display =\n",
              "          google.colab.kernel.accessAllowed ? 'block' : 'none';\n",
              "\n",
              "        async function convertToInteractive(key) {\n",
              "          const element = document.querySelector('#df-e2336c63-ba9c-425c-a6d3-496e97834ec4');\n",
              "          const dataTable =\n",
              "            await google.colab.kernel.invokeFunction('convertToInteractive',\n",
              "                                                     [key], {});\n",
              "          if (!dataTable) return;\n",
              "\n",
              "          const docLinkHtml = 'Like what you see? Visit the ' +\n",
              "            '<a target=\"_blank\" href=https://colab.research.google.com/notebooks/data_table.ipynb>data table notebook</a>'\n",
              "            + ' to learn more about interactive tables.';\n",
              "          element.innerHTML = '';\n",
              "          dataTable['output_type'] = 'display_data';\n",
              "          await google.colab.output.renderOutput(dataTable, element);\n",
              "          const docLink = document.createElement('div');\n",
              "          docLink.innerHTML = docLinkHtml;\n",
              "          element.appendChild(docLink);\n",
              "        }\n",
              "      </script>\n",
              "    </div>\n",
              "  </div>\n",
              "  "
            ],
            "text/plain": [
              "               Ref Shad                                       Img\n",
              "0          ตารางสี  NaN  617830DD-CE22-4FE4-BB73-985BA6B7C96D.png\n",
              "1         ตารางเทา  NaN  4A452059-7787-4CEB-B348-018AE0C9FE91.png\n",
              "2               A1   A1  A0DE7391-7B39-4698-A672-5E4B592D54F3.png\n",
              "3               A1   A1  29983AE2-42D6-4E42-8963-F2BC3C280F63.png\n",
              "4               A1   A1  1021EB5D-07A9-494F-83FF-87597C0B0C9A.png\n",
              "..             ...  ...                                       ...\n",
              "161             A1   D4  8B15B11E-99EB-4D7D-9742-000B1379DCA4.png\n",
              "162   ตารางสี เล็ก  NaN  393C275A-B31D-4CEA-836E-A6701A994A48.png\n",
              "163        ตารางสี  NaN  7F7C74D8-6608-496B-9254-F10ACF1064CD.png\n",
              "164  ตารางเทา เล็ก  NaN  2A188017-1584-4E2A-BFD4-9D2F3F336F78.png\n",
              "165       ตารางเทา  NaN  94CF7F00-8461-420B-880B-E2DEFE0A51E3.png\n",
              "\n",
              "[166 rows x 3 columns]"
            ]
          },
          "metadata": {},
          "execution_count": 18
        }
      ],
      "source": [
        "table1= A1_set1[['Ref', 'Shad','Img']]\n",
        "table1"
      ]
    },
    {
      "cell_type": "code",
      "execution_count": 19,
      "metadata": {
        "colab": {
          "base_uri": "https://localhost:8080/",
          "height": 144
        },
        "id": "hlQOFAeCcjwm",
        "outputId": "5d3ff2c3-8146-436e-8904-bdd948e1370a"
      },
      "outputs": [
        {
          "output_type": "execute_result",
          "data": {
            "text/html": [
              "\n",
              "  <div id=\"df-a3e5a6df-0128-492f-a9e1-17d44611e90d\">\n",
              "    <div class=\"colab-df-container\">\n",
              "      <div>\n",
              "<style scoped>\n",
              "    .dataframe tbody tr th:only-of-type {\n",
              "        vertical-align: middle;\n",
              "    }\n",
              "\n",
              "    .dataframe tbody tr th {\n",
              "        vertical-align: top;\n",
              "    }\n",
              "\n",
              "    .dataframe thead th {\n",
              "        text-align: right;\n",
              "    }\n",
              "</style>\n",
              "<table border=\"1\" class=\"dataframe\">\n",
              "  <thead>\n",
              "    <tr style=\"text-align: right;\">\n",
              "      <th></th>\n",
              "      <th>Img</th>\n",
              "      <th>Ref</th>\n",
              "      <th>Shad</th>\n",
              "      <th>ชนิดกล้องถ่ายรูป</th>\n",
              "      <th>แสงที่ใช้</th>\n",
              "      <th>ฉากหลัง</th>\n",
              "      <th>หมายเหตุ</th>\n",
              "    </tr>\n",
              "  </thead>\n",
              "  <tbody>\n",
              "    <tr>\n",
              "      <th>0</th>\n",
              "      <td>617830DD-CE22-4FE4-BB73-985BA6B7C96D.png</td>\n",
              "      <td>ตารางสี</td>\n",
              "      <td>NaN</td>\n",
              "      <td>Iphone 11</td>\n",
              "      <td>ไฟ 4 ดวงในห้อง และไฟกลม</td>\n",
              "      <td>สีดำ</td>\n",
              "      <td>Duration 1/100 ISO 630</td>\n",
              "    </tr>\n",
              "    <tr>\n",
              "      <th>1</th>\n",
              "      <td>4A452059-7787-4CEB-B348-018AE0C9FE91.png</td>\n",
              "      <td>ตารางเทา</td>\n",
              "      <td>NaN</td>\n",
              "      <td>Iphone 11</td>\n",
              "      <td>ไฟ 4 ดวงในห้อง และไฟกลม</td>\n",
              "      <td>สีดำ</td>\n",
              "      <td>Duration 1/100 ISO 630</td>\n",
              "    </tr>\n",
              "    <tr>\n",
              "      <th>2</th>\n",
              "      <td>A0DE7391-7B39-4698-A672-5E4B592D54F3.png</td>\n",
              "      <td>A1</td>\n",
              "      <td>A1</td>\n",
              "      <td>Iphone 11</td>\n",
              "      <td>ไฟ 4 ดวงในห้อง และไฟกลม</td>\n",
              "      <td>สีดำ</td>\n",
              "      <td>Duration 1/100 ISO 630</td>\n",
              "    </tr>\n",
              "  </tbody>\n",
              "</table>\n",
              "</div>\n",
              "      <button class=\"colab-df-convert\" onclick=\"convertToInteractive('df-a3e5a6df-0128-492f-a9e1-17d44611e90d')\"\n",
              "              title=\"Convert this dataframe to an interactive table.\"\n",
              "              style=\"display:none;\">\n",
              "        \n",
              "  <svg xmlns=\"http://www.w3.org/2000/svg\" height=\"24px\"viewBox=\"0 0 24 24\"\n",
              "       width=\"24px\">\n",
              "    <path d=\"M0 0h24v24H0V0z\" fill=\"none\"/>\n",
              "    <path d=\"M18.56 5.44l.94 2.06.94-2.06 2.06-.94-2.06-.94-.94-2.06-.94 2.06-2.06.94zm-11 1L8.5 8.5l.94-2.06 2.06-.94-2.06-.94L8.5 2.5l-.94 2.06-2.06.94zm10 10l.94 2.06.94-2.06 2.06-.94-2.06-.94-.94-2.06-.94 2.06-2.06.94z\"/><path d=\"M17.41 7.96l-1.37-1.37c-.4-.4-.92-.59-1.43-.59-.52 0-1.04.2-1.43.59L10.3 9.45l-7.72 7.72c-.78.78-.78 2.05 0 2.83L4 21.41c.39.39.9.59 1.41.59.51 0 1.02-.2 1.41-.59l7.78-7.78 2.81-2.81c.8-.78.8-2.07 0-2.86zM5.41 20L4 18.59l7.72-7.72 1.47 1.35L5.41 20z\"/>\n",
              "  </svg>\n",
              "      </button>\n",
              "      \n",
              "  <style>\n",
              "    .colab-df-container {\n",
              "      display:flex;\n",
              "      flex-wrap:wrap;\n",
              "      gap: 12px;\n",
              "    }\n",
              "\n",
              "    .colab-df-convert {\n",
              "      background-color: #E8F0FE;\n",
              "      border: none;\n",
              "      border-radius: 50%;\n",
              "      cursor: pointer;\n",
              "      display: none;\n",
              "      fill: #1967D2;\n",
              "      height: 32px;\n",
              "      padding: 0 0 0 0;\n",
              "      width: 32px;\n",
              "    }\n",
              "\n",
              "    .colab-df-convert:hover {\n",
              "      background-color: #E2EBFA;\n",
              "      box-shadow: 0px 1px 2px rgba(60, 64, 67, 0.3), 0px 1px 3px 1px rgba(60, 64, 67, 0.15);\n",
              "      fill: #174EA6;\n",
              "    }\n",
              "\n",
              "    [theme=dark] .colab-df-convert {\n",
              "      background-color: #3B4455;\n",
              "      fill: #D2E3FC;\n",
              "    }\n",
              "\n",
              "    [theme=dark] .colab-df-convert:hover {\n",
              "      background-color: #434B5C;\n",
              "      box-shadow: 0px 1px 3px 1px rgba(0, 0, 0, 0.15);\n",
              "      filter: drop-shadow(0px 1px 2px rgba(0, 0, 0, 0.3));\n",
              "      fill: #FFFFFF;\n",
              "    }\n",
              "  </style>\n",
              "\n",
              "      <script>\n",
              "        const buttonEl =\n",
              "          document.querySelector('#df-a3e5a6df-0128-492f-a9e1-17d44611e90d button.colab-df-convert');\n",
              "        buttonEl.style.display =\n",
              "          google.colab.kernel.accessAllowed ? 'block' : 'none';\n",
              "\n",
              "        async function convertToInteractive(key) {\n",
              "          const element = document.querySelector('#df-a3e5a6df-0128-492f-a9e1-17d44611e90d');\n",
              "          const dataTable =\n",
              "            await google.colab.kernel.invokeFunction('convertToInteractive',\n",
              "                                                     [key], {});\n",
              "          if (!dataTable) return;\n",
              "\n",
              "          const docLinkHtml = 'Like what you see? Visit the ' +\n",
              "            '<a target=\"_blank\" href=https://colab.research.google.com/notebooks/data_table.ipynb>data table notebook</a>'\n",
              "            + ' to learn more about interactive tables.';\n",
              "          element.innerHTML = '';\n",
              "          dataTable['output_type'] = 'display_data';\n",
              "          await google.colab.output.renderOutput(dataTable, element);\n",
              "          const docLink = document.createElement('div');\n",
              "          docLink.innerHTML = docLinkHtml;\n",
              "          element.appendChild(docLink);\n",
              "        }\n",
              "      </script>\n",
              "    </div>\n",
              "  </div>\n",
              "  "
            ],
            "text/plain": [
              "                                        Img  ...                หมายเหตุ\n",
              "0  617830DD-CE22-4FE4-BB73-985BA6B7C96D.png  ...  Duration 1/100 ISO 630\n",
              "1  4A452059-7787-4CEB-B348-018AE0C9FE91.png  ...  Duration 1/100 ISO 630\n",
              "2  A0DE7391-7B39-4698-A672-5E4B592D54F3.png  ...  Duration 1/100 ISO 630\n",
              "\n",
              "[3 rows x 7 columns]"
            ]
          },
          "metadata": {},
          "execution_count": 19
        }
      ],
      "source": [
        "A1_set11 =A1_set1.head(3)\n",
        "A1_set11"
      ]
    },
    {
      "cell_type": "code",
      "source": [
        "list_total1 = list()\n",
        "for img in A1_set11['Img']:\n",
        "  S1_double = img\n",
        "  full_path_to_file2 = os.path.join(S1_double) \n",
        "  blob_service_client.get_blob_to_path('shadeimg', full_path_to_file2, full_path_to_file2)\n",
        "  imgS1_A1A1_1  = cv2.imread(S1_double) #RGB\n",
        "  S1RGB_imgA1A1_1= cv2.cvtColor(imgS1_A1A1_1, cv2.COLOR_BGR2RGB)\n",
        "  S1meanrefA1_1 = list()\n",
        "  for i in range(S1RGB_imgA1A1_1.shape[0]): \n",
        "     for j in range(S1RGB_imgA1A1_1.shape[1]): \n",
        "                if 1769<i<1881 and 2019<j<2131 :\n",
        "                  S1meanrefA1_1.append(S1RGB_imgA1A1_1[i][j]) \n",
        "  S1meanrefA1_1 = np.array(S1meanrefA1_1)\n",
        "  S1rgbrefA1_1 = list()\n",
        "  for i in range(3):\n",
        "    S1rgbrefA1_1.append(S1meanrefA1_1[:,i].mean())\n",
        "  list_total1.append(S1rgbrefA1_1)"
      ],
      "metadata": {
        "id": "kFraDCdXCxuw"
      },
      "execution_count": 31,
      "outputs": []
    },
    {
      "cell_type": "code",
      "source": [
        "pic = ('A0DE7391-7B39-4698-A672-5E4B592D54F3.png')\n",
        "img00  = cv2.imread(pic)\n",
        "img00"
      ],
      "metadata": {
        "id": "aTMC_rRbKFFZ",
        "outputId": "214c200f-ec1f-42b7-d2e2-d74bfb78145d",
        "colab": {
          "base_uri": "https://localhost:8080/"
        }
      },
      "execution_count": 50,
      "outputs": [
        {
          "output_type": "execute_result",
          "data": {
            "text/plain": [
              "array([[[ 96,  96, 102],\n",
              "        [104, 104, 110],\n",
              "        [106, 106, 112],\n",
              "        ...,\n",
              "        [102, 102, 108],\n",
              "        [107, 107, 113],\n",
              "        [104, 104, 110]],\n",
              "\n",
              "       [[104, 104, 110],\n",
              "        [ 95,  95, 101],\n",
              "        [109, 109, 115],\n",
              "        ...,\n",
              "        [111, 111, 117],\n",
              "        [107, 107, 113],\n",
              "        [109, 109, 115]],\n",
              "\n",
              "       [[ 97,  97, 103],\n",
              "        [ 96,  96, 102],\n",
              "        [ 94,  94, 100],\n",
              "        ...,\n",
              "        [116, 116, 122],\n",
              "        [107, 107, 113],\n",
              "        [109, 109, 115]],\n",
              "\n",
              "       ...,\n",
              "\n",
              "       [[ 51,  52,  56],\n",
              "        [ 45,  46,  50],\n",
              "        [ 59,  60,  64],\n",
              "        ...,\n",
              "        [ 33,  37,  42],\n",
              "        [ 29,  33,  38],\n",
              "        [ 39,  43,  48]],\n",
              "\n",
              "       [[ 43,  44,  48],\n",
              "        [ 44,  45,  49],\n",
              "        [ 57,  58,  62],\n",
              "        ...,\n",
              "        [ 33,  37,  42],\n",
              "        [ 36,  40,  45],\n",
              "        [ 23,  27,  32]],\n",
              "\n",
              "       [[ 55,  56,  60],\n",
              "        [ 52,  53,  57],\n",
              "        [ 57,  58,  62],\n",
              "        ...,\n",
              "        [ 33,  37,  42],\n",
              "        [ 48,  52,  57],\n",
              "        [ 36,  40,  45]]], dtype=uint8)"
            ]
          },
          "metadata": {},
          "execution_count": 50
        }
      ]
    },
    {
      "cell_type": "code",
      "source": [
        "import cv2"
      ],
      "metadata": {
        "id": "s14JkkH77Re6"
      },
      "execution_count": 52,
      "outputs": []
    },
    {
      "cell_type": "code",
      "source": [
        "list_total = list()\n",
        "for img  in pic:\n",
        "  S1_double = pic\n",
        "  img00  = cv2.imread(S1_double)\n",
        "  S1RGB_imgA1A1_1= cv2.cvtColor(img00, cv2.COLOR_BGR2RGB)\n",
        "  S1meanrefA1_1 = list()\n",
        "  S1meanA1_2 = list()\n",
        "  for i in range(S1RGB_imgA1A1_1.shape[0]): \n",
        "     for j in range(S1RGB_imgA1A1_1.shape[1]): \n",
        "                if 1769<i<1881 and 2019<j<2131 :\n",
        "                   S1meanrefA1_1.append(S1RGB_imgA1A1_1[i][j]) \n",
        "                if 1770<i<1880 and 2015<j<2145 :\n",
        "                   S1meanA1_2.append(S1RGB_imgA1A1_1[i][j])\n",
        "  S1meanrefA1_1 = np.array(S1meanrefA1_1)\n",
        "  S1meanA1_2 = np.array(S1meanA1_2)\n",
        "  S1rgbrefA1_1 = list()\n",
        "  S1rgbA1_2 = list()\n",
        "  for i in range(3):\n",
        "      S1rgbrefA1_1.append(S1meanrefA1_1[:,i].mean())\n",
        "      S1rgbA1_2.append(S1meanA1_2[:,i].mean())\n",
        "  list_total.append([S1rgbrefA1_1,S1rgbA1_2])"
      ],
      "metadata": {
        "id": "QPzj8WQx8yS-"
      },
      "execution_count": null,
      "outputs": []
    },
    {
      "cell_type": "code",
      "source": [
        "list_total"
      ],
      "metadata": {
        "id": "ikYc3Nae2zT5"
      },
      "execution_count": null,
      "outputs": []
    },
    {
      "cell_type": "code",
      "source": [
        "list_total"
      ],
      "metadata": {
        "id": "tw3PJBuw2AJQ"
      },
      "execution_count": null,
      "outputs": []
    },
    {
      "cell_type": "code",
      "execution_count": 23,
      "metadata": {
        "id": "BdTDWS74WfOm"
      },
      "outputs": [],
      "source": [
        "import numpy as np"
      ]
    },
    {
      "cell_type": "code",
      "execution_count": 24,
      "metadata": {
        "id": "CXo0EbjnX0gw"
      },
      "outputs": [],
      "source": [
        "list_total1 = list()\n",
        "for img in A1_set11['Img']:\n",
        "  S1_double = img\n",
        "  full_path_to_file2 = os.path.join(S1_double) \n",
        "  blob_service_client.get_blob_to_path('shadeimg', full_path_to_file2, full_path_to_file2)\n",
        "  imgS1_A1A1_1  = cv2.imread(S1_double) #RGB\n",
        "  S1RGB_imgA1A1_1= cv2.cvtColor(imgS1_A1A1_1, cv2.COLOR_BGR2RGB)\n",
        "  S1meanrefA1_1 = list()\n",
        "  for i in range(S1RGB_imgA1A1_1.shape[0]): \n",
        "     for j in range(S1RGB_imgA1A1_1.shape[1]): \n",
        "                if 1769<i<1881 and 2019<j<2131 :\n",
        "                  S1meanrefA1_1.append(S1RGB_imgA1A1_1[i][j]) \n",
        "  S1meanrefA1_1 = np.array(S1meanrefA1_1)\n",
        "  S1rgbrefA1_1 = list()\n",
        "  for i in range(3):\n",
        "    S1rgbrefA1_1.append(S1meanrefA1_1[:,i].mean())\n",
        "  list_total1.append(S1rgbrefA1_1)"
      ]
    },
    {
      "cell_type": "code",
      "execution_count": 25,
      "metadata": {
        "colab": {
          "base_uri": "https://localhost:8080/",
          "height": 144
        },
        "id": "kXhQtlIXYA8o",
        "outputId": "57097529-aea5-4879-f456-e40481f676c5"
      },
      "outputs": [
        {
          "output_type": "execute_result",
          "data": {
            "text/html": [
              "\n",
              "  <div id=\"df-43d01f17-c03b-4dae-9278-bbc5794c2a20\">\n",
              "    <div class=\"colab-df-container\">\n",
              "      <div>\n",
              "<style scoped>\n",
              "    .dataframe tbody tr th:only-of-type {\n",
              "        vertical-align: middle;\n",
              "    }\n",
              "\n",
              "    .dataframe tbody tr th {\n",
              "        vertical-align: top;\n",
              "    }\n",
              "\n",
              "    .dataframe thead th {\n",
              "        text-align: right;\n",
              "    }\n",
              "</style>\n",
              "<table border=\"1\" class=\"dataframe\">\n",
              "  <thead>\n",
              "    <tr style=\"text-align: right;\">\n",
              "      <th></th>\n",
              "      <th>R-ref</th>\n",
              "      <th>G-ref</th>\n",
              "      <th>B-ref</th>\n",
              "      <th>Setting</th>\n",
              "    </tr>\n",
              "  </thead>\n",
              "  <tbody>\n",
              "    <tr>\n",
              "      <th>0</th>\n",
              "      <td>36.425371</td>\n",
              "      <td>36.587858</td>\n",
              "      <td>38.650434</td>\n",
              "      <td>Set1</td>\n",
              "    </tr>\n",
              "    <tr>\n",
              "      <th>1</th>\n",
              "      <td>32.685983</td>\n",
              "      <td>33.454833</td>\n",
              "      <td>33.523415</td>\n",
              "      <td>Set1</td>\n",
              "    </tr>\n",
              "    <tr>\n",
              "      <th>2</th>\n",
              "      <td>229.214106</td>\n",
              "      <td>210.119714</td>\n",
              "      <td>170.350540</td>\n",
              "      <td>Set1</td>\n",
              "    </tr>\n",
              "  </tbody>\n",
              "</table>\n",
              "</div>\n",
              "      <button class=\"colab-df-convert\" onclick=\"convertToInteractive('df-43d01f17-c03b-4dae-9278-bbc5794c2a20')\"\n",
              "              title=\"Convert this dataframe to an interactive table.\"\n",
              "              style=\"display:none;\">\n",
              "        \n",
              "  <svg xmlns=\"http://www.w3.org/2000/svg\" height=\"24px\"viewBox=\"0 0 24 24\"\n",
              "       width=\"24px\">\n",
              "    <path d=\"M0 0h24v24H0V0z\" fill=\"none\"/>\n",
              "    <path d=\"M18.56 5.44l.94 2.06.94-2.06 2.06-.94-2.06-.94-.94-2.06-.94 2.06-2.06.94zm-11 1L8.5 8.5l.94-2.06 2.06-.94-2.06-.94L8.5 2.5l-.94 2.06-2.06.94zm10 10l.94 2.06.94-2.06 2.06-.94-2.06-.94-.94-2.06-.94 2.06-2.06.94z\"/><path d=\"M17.41 7.96l-1.37-1.37c-.4-.4-.92-.59-1.43-.59-.52 0-1.04.2-1.43.59L10.3 9.45l-7.72 7.72c-.78.78-.78 2.05 0 2.83L4 21.41c.39.39.9.59 1.41.59.51 0 1.02-.2 1.41-.59l7.78-7.78 2.81-2.81c.8-.78.8-2.07 0-2.86zM5.41 20L4 18.59l7.72-7.72 1.47 1.35L5.41 20z\"/>\n",
              "  </svg>\n",
              "      </button>\n",
              "      \n",
              "  <style>\n",
              "    .colab-df-container {\n",
              "      display:flex;\n",
              "      flex-wrap:wrap;\n",
              "      gap: 12px;\n",
              "    }\n",
              "\n",
              "    .colab-df-convert {\n",
              "      background-color: #E8F0FE;\n",
              "      border: none;\n",
              "      border-radius: 50%;\n",
              "      cursor: pointer;\n",
              "      display: none;\n",
              "      fill: #1967D2;\n",
              "      height: 32px;\n",
              "      padding: 0 0 0 0;\n",
              "      width: 32px;\n",
              "    }\n",
              "\n",
              "    .colab-df-convert:hover {\n",
              "      background-color: #E2EBFA;\n",
              "      box-shadow: 0px 1px 2px rgba(60, 64, 67, 0.3), 0px 1px 3px 1px rgba(60, 64, 67, 0.15);\n",
              "      fill: #174EA6;\n",
              "    }\n",
              "\n",
              "    [theme=dark] .colab-df-convert {\n",
              "      background-color: #3B4455;\n",
              "      fill: #D2E3FC;\n",
              "    }\n",
              "\n",
              "    [theme=dark] .colab-df-convert:hover {\n",
              "      background-color: #434B5C;\n",
              "      box-shadow: 0px 1px 3px 1px rgba(0, 0, 0, 0.15);\n",
              "      filter: drop-shadow(0px 1px 2px rgba(0, 0, 0, 0.3));\n",
              "      fill: #FFFFFF;\n",
              "    }\n",
              "  </style>\n",
              "\n",
              "      <script>\n",
              "        const buttonEl =\n",
              "          document.querySelector('#df-43d01f17-c03b-4dae-9278-bbc5794c2a20 button.colab-df-convert');\n",
              "        buttonEl.style.display =\n",
              "          google.colab.kernel.accessAllowed ? 'block' : 'none';\n",
              "\n",
              "        async function convertToInteractive(key) {\n",
              "          const element = document.querySelector('#df-43d01f17-c03b-4dae-9278-bbc5794c2a20');\n",
              "          const dataTable =\n",
              "            await google.colab.kernel.invokeFunction('convertToInteractive',\n",
              "                                                     [key], {});\n",
              "          if (!dataTable) return;\n",
              "\n",
              "          const docLinkHtml = 'Like what you see? Visit the ' +\n",
              "            '<a target=\"_blank\" href=https://colab.research.google.com/notebooks/data_table.ipynb>data table notebook</a>'\n",
              "            + ' to learn more about interactive tables.';\n",
              "          element.innerHTML = '';\n",
              "          dataTable['output_type'] = 'display_data';\n",
              "          await google.colab.output.renderOutput(dataTable, element);\n",
              "          const docLink = document.createElement('div');\n",
              "          docLink.innerHTML = docLinkHtml;\n",
              "          element.appendChild(docLink);\n",
              "        }\n",
              "      </script>\n",
              "    </div>\n",
              "  </div>\n",
              "  "
            ],
            "text/plain": [
              "        R-ref       G-ref       B-ref Setting\n",
              "0   36.425371   36.587858   38.650434    Set1\n",
              "1   32.685983   33.454833   33.523415    Set1\n",
              "2  229.214106  210.119714  170.350540    Set1"
            ]
          },
          "metadata": {},
          "execution_count": 25
        }
      ],
      "source": [
        "cols=['R-ref', 'G-ref' , 'B-ref']\n",
        "S1=pd.DataFrame(list_total1,columns=cols)\n",
        "S1['Setting']='Set1'\n",
        "S1"
      ]
    },
    {
      "cell_type": "code",
      "execution_count": 26,
      "metadata": {
        "colab": {
          "base_uri": "https://localhost:8080/",
          "height": 424
        },
        "id": "pnktfRNFY4dG",
        "outputId": "5ac1c7c7-141a-4c44-f2b8-bc9fc909de69"
      },
      "outputs": [
        {
          "output_type": "execute_result",
          "data": {
            "text/html": [
              "\n",
              "  <div id=\"df-1f2420a2-2aa2-4777-b340-084b8b376349\">\n",
              "    <div class=\"colab-df-container\">\n",
              "      <div>\n",
              "<style scoped>\n",
              "    .dataframe tbody tr th:only-of-type {\n",
              "        vertical-align: middle;\n",
              "    }\n",
              "\n",
              "    .dataframe tbody tr th {\n",
              "        vertical-align: top;\n",
              "    }\n",
              "\n",
              "    .dataframe thead th {\n",
              "        text-align: right;\n",
              "    }\n",
              "</style>\n",
              "<table border=\"1\" class=\"dataframe\">\n",
              "  <thead>\n",
              "    <tr style=\"text-align: right;\">\n",
              "      <th></th>\n",
              "      <th>R-ref</th>\n",
              "      <th>G-ref</th>\n",
              "      <th>B-ref</th>\n",
              "      <th>Setting</th>\n",
              "      <th>Ref</th>\n",
              "      <th>Shad</th>\n",
              "      <th>Img</th>\n",
              "    </tr>\n",
              "  </thead>\n",
              "  <tbody>\n",
              "    <tr>\n",
              "      <th>0</th>\n",
              "      <td>36.425371</td>\n",
              "      <td>36.587858</td>\n",
              "      <td>38.650434</td>\n",
              "      <td>Set1</td>\n",
              "      <td>ตารางสี</td>\n",
              "      <td>NaN</td>\n",
              "      <td>617830DD-CE22-4FE4-BB73-985BA6B7C96D.png</td>\n",
              "    </tr>\n",
              "    <tr>\n",
              "      <th>1</th>\n",
              "      <td>32.685983</td>\n",
              "      <td>33.454833</td>\n",
              "      <td>33.523415</td>\n",
              "      <td>Set1</td>\n",
              "      <td>ตารางเทา</td>\n",
              "      <td>NaN</td>\n",
              "      <td>4A452059-7787-4CEB-B348-018AE0C9FE91.png</td>\n",
              "    </tr>\n",
              "    <tr>\n",
              "      <th>2</th>\n",
              "      <td>229.214106</td>\n",
              "      <td>210.119714</td>\n",
              "      <td>170.350540</td>\n",
              "      <td>Set1</td>\n",
              "      <td>A1</td>\n",
              "      <td>A1</td>\n",
              "      <td>A0DE7391-7B39-4698-A672-5E4B592D54F3.png</td>\n",
              "    </tr>\n",
              "    <tr>\n",
              "      <th>3</th>\n",
              "      <td>NaN</td>\n",
              "      <td>NaN</td>\n",
              "      <td>NaN</td>\n",
              "      <td>NaN</td>\n",
              "      <td>A1</td>\n",
              "      <td>A1</td>\n",
              "      <td>29983AE2-42D6-4E42-8963-F2BC3C280F63.png</td>\n",
              "    </tr>\n",
              "    <tr>\n",
              "      <th>4</th>\n",
              "      <td>NaN</td>\n",
              "      <td>NaN</td>\n",
              "      <td>NaN</td>\n",
              "      <td>NaN</td>\n",
              "      <td>A1</td>\n",
              "      <td>A1</td>\n",
              "      <td>1021EB5D-07A9-494F-83FF-87597C0B0C9A.png</td>\n",
              "    </tr>\n",
              "    <tr>\n",
              "      <th>...</th>\n",
              "      <td>...</td>\n",
              "      <td>...</td>\n",
              "      <td>...</td>\n",
              "      <td>...</td>\n",
              "      <td>...</td>\n",
              "      <td>...</td>\n",
              "      <td>...</td>\n",
              "    </tr>\n",
              "    <tr>\n",
              "      <th>161</th>\n",
              "      <td>NaN</td>\n",
              "      <td>NaN</td>\n",
              "      <td>NaN</td>\n",
              "      <td>NaN</td>\n",
              "      <td>A1</td>\n",
              "      <td>D4</td>\n",
              "      <td>8B15B11E-99EB-4D7D-9742-000B1379DCA4.png</td>\n",
              "    </tr>\n",
              "    <tr>\n",
              "      <th>162</th>\n",
              "      <td>NaN</td>\n",
              "      <td>NaN</td>\n",
              "      <td>NaN</td>\n",
              "      <td>NaN</td>\n",
              "      <td>ตารางสี เล็ก</td>\n",
              "      <td>NaN</td>\n",
              "      <td>393C275A-B31D-4CEA-836E-A6701A994A48.png</td>\n",
              "    </tr>\n",
              "    <tr>\n",
              "      <th>163</th>\n",
              "      <td>NaN</td>\n",
              "      <td>NaN</td>\n",
              "      <td>NaN</td>\n",
              "      <td>NaN</td>\n",
              "      <td>ตารางสี</td>\n",
              "      <td>NaN</td>\n",
              "      <td>7F7C74D8-6608-496B-9254-F10ACF1064CD.png</td>\n",
              "    </tr>\n",
              "    <tr>\n",
              "      <th>164</th>\n",
              "      <td>NaN</td>\n",
              "      <td>NaN</td>\n",
              "      <td>NaN</td>\n",
              "      <td>NaN</td>\n",
              "      <td>ตารางเทา เล็ก</td>\n",
              "      <td>NaN</td>\n",
              "      <td>2A188017-1584-4E2A-BFD4-9D2F3F336F78.png</td>\n",
              "    </tr>\n",
              "    <tr>\n",
              "      <th>165</th>\n",
              "      <td>NaN</td>\n",
              "      <td>NaN</td>\n",
              "      <td>NaN</td>\n",
              "      <td>NaN</td>\n",
              "      <td>ตารางเทา</td>\n",
              "      <td>NaN</td>\n",
              "      <td>94CF7F00-8461-420B-880B-E2DEFE0A51E3.png</td>\n",
              "    </tr>\n",
              "  </tbody>\n",
              "</table>\n",
              "<p>166 rows × 7 columns</p>\n",
              "</div>\n",
              "      <button class=\"colab-df-convert\" onclick=\"convertToInteractive('df-1f2420a2-2aa2-4777-b340-084b8b376349')\"\n",
              "              title=\"Convert this dataframe to an interactive table.\"\n",
              "              style=\"display:none;\">\n",
              "        \n",
              "  <svg xmlns=\"http://www.w3.org/2000/svg\" height=\"24px\"viewBox=\"0 0 24 24\"\n",
              "       width=\"24px\">\n",
              "    <path d=\"M0 0h24v24H0V0z\" fill=\"none\"/>\n",
              "    <path d=\"M18.56 5.44l.94 2.06.94-2.06 2.06-.94-2.06-.94-.94-2.06-.94 2.06-2.06.94zm-11 1L8.5 8.5l.94-2.06 2.06-.94-2.06-.94L8.5 2.5l-.94 2.06-2.06.94zm10 10l.94 2.06.94-2.06 2.06-.94-2.06-.94-.94-2.06-.94 2.06-2.06.94z\"/><path d=\"M17.41 7.96l-1.37-1.37c-.4-.4-.92-.59-1.43-.59-.52 0-1.04.2-1.43.59L10.3 9.45l-7.72 7.72c-.78.78-.78 2.05 0 2.83L4 21.41c.39.39.9.59 1.41.59.51 0 1.02-.2 1.41-.59l7.78-7.78 2.81-2.81c.8-.78.8-2.07 0-2.86zM5.41 20L4 18.59l7.72-7.72 1.47 1.35L5.41 20z\"/>\n",
              "  </svg>\n",
              "      </button>\n",
              "      \n",
              "  <style>\n",
              "    .colab-df-container {\n",
              "      display:flex;\n",
              "      flex-wrap:wrap;\n",
              "      gap: 12px;\n",
              "    }\n",
              "\n",
              "    .colab-df-convert {\n",
              "      background-color: #E8F0FE;\n",
              "      border: none;\n",
              "      border-radius: 50%;\n",
              "      cursor: pointer;\n",
              "      display: none;\n",
              "      fill: #1967D2;\n",
              "      height: 32px;\n",
              "      padding: 0 0 0 0;\n",
              "      width: 32px;\n",
              "    }\n",
              "\n",
              "    .colab-df-convert:hover {\n",
              "      background-color: #E2EBFA;\n",
              "      box-shadow: 0px 1px 2px rgba(60, 64, 67, 0.3), 0px 1px 3px 1px rgba(60, 64, 67, 0.15);\n",
              "      fill: #174EA6;\n",
              "    }\n",
              "\n",
              "    [theme=dark] .colab-df-convert {\n",
              "      background-color: #3B4455;\n",
              "      fill: #D2E3FC;\n",
              "    }\n",
              "\n",
              "    [theme=dark] .colab-df-convert:hover {\n",
              "      background-color: #434B5C;\n",
              "      box-shadow: 0px 1px 3px 1px rgba(0, 0, 0, 0.15);\n",
              "      filter: drop-shadow(0px 1px 2px rgba(0, 0, 0, 0.3));\n",
              "      fill: #FFFFFF;\n",
              "    }\n",
              "  </style>\n",
              "\n",
              "      <script>\n",
              "        const buttonEl =\n",
              "          document.querySelector('#df-1f2420a2-2aa2-4777-b340-084b8b376349 button.colab-df-convert');\n",
              "        buttonEl.style.display =\n",
              "          google.colab.kernel.accessAllowed ? 'block' : 'none';\n",
              "\n",
              "        async function convertToInteractive(key) {\n",
              "          const element = document.querySelector('#df-1f2420a2-2aa2-4777-b340-084b8b376349');\n",
              "          const dataTable =\n",
              "            await google.colab.kernel.invokeFunction('convertToInteractive',\n",
              "                                                     [key], {});\n",
              "          if (!dataTable) return;\n",
              "\n",
              "          const docLinkHtml = 'Like what you see? Visit the ' +\n",
              "            '<a target=\"_blank\" href=https://colab.research.google.com/notebooks/data_table.ipynb>data table notebook</a>'\n",
              "            + ' to learn more about interactive tables.';\n",
              "          element.innerHTML = '';\n",
              "          dataTable['output_type'] = 'display_data';\n",
              "          await google.colab.output.renderOutput(dataTable, element);\n",
              "          const docLink = document.createElement('div');\n",
              "          docLink.innerHTML = docLinkHtml;\n",
              "          element.appendChild(docLink);\n",
              "        }\n",
              "      </script>\n",
              "    </div>\n",
              "  </div>\n",
              "  "
            ],
            "text/plain": [
              "          R-ref       G-ref  ...  Shad                                       Img\n",
              "0     36.425371   36.587858  ...   NaN  617830DD-CE22-4FE4-BB73-985BA6B7C96D.png\n",
              "1     32.685983   33.454833  ...   NaN  4A452059-7787-4CEB-B348-018AE0C9FE91.png\n",
              "2    229.214106  210.119714  ...    A1  A0DE7391-7B39-4698-A672-5E4B592D54F3.png\n",
              "3           NaN         NaN  ...    A1  29983AE2-42D6-4E42-8963-F2BC3C280F63.png\n",
              "4           NaN         NaN  ...    A1  1021EB5D-07A9-494F-83FF-87597C0B0C9A.png\n",
              "..          ...         ...  ...   ...                                       ...\n",
              "161         NaN         NaN  ...    D4  8B15B11E-99EB-4D7D-9742-000B1379DCA4.png\n",
              "162         NaN         NaN  ...   NaN  393C275A-B31D-4CEA-836E-A6701A994A48.png\n",
              "163         NaN         NaN  ...   NaN  7F7C74D8-6608-496B-9254-F10ACF1064CD.png\n",
              "164         NaN         NaN  ...   NaN  2A188017-1584-4E2A-BFD4-9D2F3F336F78.png\n",
              "165         NaN         NaN  ...   NaN  94CF7F00-8461-420B-880B-E2DEFE0A51E3.png\n",
              "\n",
              "[166 rows x 7 columns]"
            ]
          },
          "metadata": {},
          "execution_count": 26
        }
      ],
      "source": [
        "pd.concat([S1,table1], axis=1)"
      ]
    },
    {
      "cell_type": "code",
      "execution_count": 27,
      "metadata": {
        "id": "qynTygcC1ZBH"
      },
      "outputs": [],
      "source": [
        "import cv2\n",
        "from matplotlib import pyplot as plt #การเรียกใช้คำสั่ง matplotlib เพื่อวาดกราฟ โดยแทนชื่อ matplotlib ด้วย plt\n",
        "import matplotlib"
      ]
    },
    {
      "cell_type": "code",
      "execution_count": 28,
      "metadata": {
        "id": "kbd_KOCD5vG7"
      },
      "outputs": [],
      "source": [
        "import numpy as np"
      ]
    },
    {
      "cell_type": "code",
      "execution_count": 29,
      "metadata": {
        "id": "aqVTTsy35K6K"
      },
      "outputs": [],
      "source": [
        "from tabulate import tabulate"
      ]
    },
    {
      "cell_type": "code",
      "execution_count": 30,
      "metadata": {
        "id": "Aju5DUHW49cB"
      },
      "outputs": [],
      "source": [
        "table   = [['R-ref', 'G-ref', 'B-ref', 'R-Shad', 'G-Shad', 'B-Shad', 'H-ref', 'S-ref', 'V-ref', 'H-Shad', 'S-Shad', 'V-Shad', 'Shade-ref', 'Shade', 'Setting']]"
      ]
    },
    {
      "cell_type": "markdown",
      "metadata": {
        "id": "qjY_4stpKt6h"
      },
      "source": [
        "#ดึงค่า"
      ]
    },
    {
      "cell_type": "code",
      "execution_count": null,
      "metadata": {
        "id": "8qjFnXXtOkt6"
      },
      "outputs": [],
      "source": [
        "list_total1 = list()\n",
        "for img in A1_set1['Img']:\n",
        "  S1_double = img\n",
        "  full_path_to_file2 = os.path.join(S1_double) \n",
        "  blob_service_client.get_blob_to_path('shadeimg', full_path_to_file2, full_path_to_file2)\n",
        "  imgS1_A1A1_1  = cv2.imread(S1_double) #RGB\n",
        "  S1RGB_imgA1A1_1= cv2.cvtColor(imgS1_A1A1_1, cv2.COLOR_BGR2RGB)\n",
        "  S1meanrefA1_1 = list()\n",
        "  for i in range(S1RGB_imgA1A1_1.shape[0]): \n",
        "     for j in range(S1RGB_imgA1A1_1.shape[1]): \n",
        "                if 1769<i<1881 and 2019<j<2131 :\n",
        "                  S1meanrefA1_1.append(S1RGB_imgA1A1_1[i][j]) \n",
        "  S1meanrefA1_1 = np.array(S1meanrefA1_1)\n",
        "  S1rgbrefA1_1 = list()\n",
        "  for i in range(3):\n",
        "    S1rgbrefA1_1.append(S1meanrefA1_1[:,i].mean())\n",
        "  list_total1.append(S1rgbrefA1_1)"
      ]
    },
    {
      "cell_type": "code",
      "execution_count": null,
      "metadata": {
        "id": "U_z-3B5UPmWR"
      },
      "outputs": [],
      "source": [
        "cols=['R-ref', 'G-ref' , 'B-ref']\n",
        "S1=pd.DataFrame(list_total1,columns=cols)\n",
        "S1.index.names=['id']"
      ]
    },
    {
      "cell_type": "code",
      "execution_count": null,
      "metadata": {
        "id": "ZBBrF_b_OsMA"
      },
      "outputs": [],
      "source": [
        "list_total2 = list()\n",
        "for img in A1_set1['Img']:\n",
        "  S1_double = img\n",
        "  full_path_to_file2 = os.path.join(S1_double) \n",
        "  blob_service_client.get_blob_to_path('shadeimg', full_path_to_file2, full_path_to_file2)\n",
        "  imgS1_A1A1_1  = cv2.imread(S1_double) #RGB\n",
        "  S1RGB_imgA1A1_1= cv2.cvtColor(imgS1_A1A1_1, cv2.COLOR_BGR2RGB)\n",
        "  S1meanA1_2 = list()\n",
        "  for i in range(S1RGB_imgA1A1_1.shape[0]): \n",
        "     for j in range(S1RGB_imgA1A1_1.shape[1]): \n",
        "                if 1770<i<1880 and 2015<j<2145 :\n",
        "                  S1meanA1_2.append(S1RGB_imgA1A1_1[i][j])  \n",
        "  S1meanA1_2 = np.array(S1meanA1_2)\n",
        "  S1rgbA1_2 = list()\n",
        "  for i in range(3):\n",
        "    S1rgbA1_2.append(S1meanA1_2[:,i].mean())\n",
        "  list_total2.append(S1rgbA1_2)"
      ]
    },
    {
      "cell_type": "code",
      "execution_count": null,
      "metadata": {
        "id": "H4O48DoGbBeg"
      },
      "outputs": [],
      "source": [
        "cols=['R-Shad', 'G-Shad' , 'B-Shad'] \n",
        "S2=pd.DataFrame(list_total2,columns=cols)"
      ]
    },
    {
      "cell_type": "code",
      "execution_count": null,
      "metadata": {
        "id": "bLXIp3MnWSBy"
      },
      "outputs": [],
      "source": [
        "dataA1 = pd.concat([S1, S2], axis=1)\n",
        "dataA1"
      ]
    },
    {
      "cell_type": "markdown",
      "metadata": {
        "id": "MBanZfyaN_Ur"
      },
      "source": [
        "##HSV"
      ]
    },
    {
      "cell_type": "code",
      "execution_count": null,
      "metadata": {
        "id": "zRgwejYPY-Yf"
      },
      "outputs": [],
      "source": [
        "list_total11 = list()\n",
        "for img in A1_set1['Img']:\n",
        "  S1_double = img\n",
        "  full_path_to_file2 = os.path.join(S1_double) \n",
        "  blob_service_client.get_blob_to_path('shadeimg', full_path_to_file2, full_path_to_file2)\n",
        "  imgS1_A1A1_1  = cv2.imread(S1_double) #HSV\n",
        "  S1HSV_imgA1A1_1= cv2.cvtColor(imgS1_A1A1_1, cv2.COLOR_BGR2HSV)\n",
        "  S1meanA1_1 = list()\n",
        "  for i in range(S1HSV_imgA1A1_1.shape[0]): \n",
        "     for j in range(S1HSV_imgA1A1_1.shape[1]): \n",
        "                if 1769<i<1881 and 2019<j<2131 :\n",
        "                  S1meanA1_1.append(S1HSV_imgA1A1_1[i][j])  \n",
        "  S1meanA1_1 = np.array(S1meanA1_1)\n",
        "  S1rgbrefA1_1 = list()\n",
        "  for i in range(3):\n",
        "    S1rgbrefA1_1.append(S1meanA1_1[:,i].mean())\n",
        "  list_total11.append(S1rgbrefA1_1)"
      ]
    },
    {
      "cell_type": "code",
      "execution_count": null,
      "metadata": {
        "id": "YidAWzt4a3Vn"
      },
      "outputs": [],
      "source": [
        "cols=['H-ref', 'S-ref' , 'V-ref']\n",
        "S11=pd.DataFrame(list_total11,columns=cols)\n",
        "S11.index.names=['id']"
      ]
    },
    {
      "cell_type": "code",
      "execution_count": null,
      "metadata": {
        "id": "B73Cjqu0aHcC"
      },
      "outputs": [],
      "source": [
        "list_total22 = list()\n",
        "for img in A1_set1['Img']:\n",
        "  S1_double = img\n",
        "  full_path_to_file2 = os.path.join(S1_double) \n",
        "  blob_service_client.get_blob_to_path('shadeimg', full_path_to_file2, full_path_to_file2)\n",
        "  imgS1_A1A1_1  = cv2.imread(S1_double) #HSV\n",
        "  S1HSV_imgA1A1_1= cv2.cvtColor(imgS1_A1A1_1, cv2.COLOR_BGR2HSV)\n",
        "  S1meanA1_2 = list()\n",
        "  for i in range(S1HSV_imgA1A1_1.shape[0]): \n",
        "     for j in range(S1HSV_imgA1A1_1.shape[1]): \n",
        "                if 1770<i<1880 and 2015<j<2145 :\n",
        "                  S1meanA1_2.append(S1HSV_imgA1A1_1[i][j])  \n",
        "  S1meanA1_2 = np.array(S1meanA1_2)\n",
        "  S1hsvA1_2 = list()\n",
        "  for i in range(3):\n",
        "    S1hsvA1_2.append(S1meanA1_2[:,i].mean())\n",
        "  list_total22.append(S1hsvA1_2)"
      ]
    },
    {
      "cell_type": "code",
      "execution_count": null,
      "metadata": {
        "id": "7TqjTvkmdTX4"
      },
      "outputs": [],
      "source": [
        "cols=['H-Shad', 'S-Shad' , 'V-Shad']\n",
        "S22=pd.DataFrame(list_total22,columns=cols)\n",
        "S22.index.names=['id']\n",
        "S22['Setting']='Set1'\n",
        "S22\n"
      ]
    },
    {
      "cell_type": "code",
      "execution_count": null,
      "metadata": {
        "id": "HluzK7ZgkOz4"
      },
      "outputs": [],
      "source": [
        "dataP1 = pd.concat([S1, S2,S11,S22,table1], axis=1)\n",
        "dataP1"
      ]
    },
    {
      "cell_type": "markdown",
      "metadata": {
        "id": "DzUq8OAol_iL"
      },
      "source": [
        "#2"
      ]
    },
    {
      "cell_type": "code",
      "execution_count": null,
      "metadata": {
        "id": "pcYTAnmLmNcR"
      },
      "outputs": [],
      "source": [
        "list_total102 = list()\n",
        "for img in A1_set1['Img']:\n",
        "  S1_double = img\n",
        "  full_path_to_file2 = os.path.join(S1_double) \n",
        "  blob_service_client.get_blob_to_path('shadeimg', full_path_to_file2, full_path_to_file2)\n",
        "  imgS1_A1A1_1  = cv2.imread(S1_double) #RGB\n",
        "  S1RGB_imgA1A1_1= cv2.cvtColor(imgS1_A1A1_1, cv2.COLOR_BGR2RGB)\n",
        "  S1meanrefA1_1 = list()\n",
        "  for i in range(S1RGB_imgA1A1_1.shape[0]): \n",
        "     for j in range(S1RGB_imgA1A1_1.shape[1]): \n",
        "                if 1719<i<1819 and 2029<j<2134 :\n",
        "                  S1meanrefA1_1.append(S1RGB_imgA1A1_1[i][j]) \n",
        "  S1meanrefA1_1 = np.array(S1meanrefA1_1)\n",
        "  S1rgbrefA1_1 = list()\n",
        "  for i in range(3):\n",
        "    S1rgbrefA1_1.append(S1meanrefA1_1[:,i].mean())\n",
        "  list_total102.append(S1rgbrefA1_1)"
      ]
    },
    {
      "cell_type": "code",
      "execution_count": null,
      "metadata": {
        "id": "m_VZQHS8mNcS"
      },
      "outputs": [],
      "source": [
        "cols=['R-ref', 'G-ref' , 'B-ref']\n",
        "S1=pd.DataFrame(list_total102,columns=cols)\n",
        "S1.index.names=['id']"
      ]
    },
    {
      "cell_type": "code",
      "execution_count": null,
      "metadata": {
        "id": "N04m4EijmNcT"
      },
      "outputs": [],
      "source": [
        "list_total202 = list()\n",
        "for img in A1_set1['Img']:\n",
        "  S1_double = img\n",
        "  full_path_to_file2 = os.path.join(S1_double) \n",
        "  blob_service_client.get_blob_to_path('shadeimg', full_path_to_file2, full_path_to_file2)\n",
        "  imgS1_A1A1_1  = cv2.imread(S1_double) #RGB\n",
        "  S1RGB_imgA1A1_1= cv2.cvtColor(imgS1_A1A1_1, cv2.COLOR_BGR2RGB)\n",
        "  S1meanA1_2 = list()\n",
        "  for i in range(S1RGB_imgA1A1_1.shape[0]): \n",
        "     for j in range(S1RGB_imgA1A1_1.shape[1]): \n",
        "                 if 1719<i<1819 and 1709<j<1819 :\n",
        "                  S1meanA1_2.append(S1RGB_imgA1A1_1[i][j])  \n",
        "  S1meanA1_2 = np.array(S1meanA1_2)\n",
        "  S1rgbA1_2 = list()\n",
        "  for i in range(3):\n",
        "    S1rgbA1_2.append(S1meanA1_2[:,i].mean())\n",
        "  list_total202.append(S1rgbA1_2)"
      ]
    },
    {
      "cell_type": "code",
      "execution_count": null,
      "metadata": {
        "id": "sEaOaU0tmNcU"
      },
      "outputs": [],
      "source": [
        "cols=['R-Shad', 'G-Shad' , 'B-Shad'] \n",
        "S2=pd.DataFrame(list_total202,columns=cols)\n",
        "S2.index.names=['id']"
      ]
    },
    {
      "cell_type": "code",
      "execution_count": null,
      "metadata": {
        "id": "eYnNrMJqmNcU"
      },
      "outputs": [],
      "source": [
        "dataA102 = pd.concat([S1, S2], axis=1)\n",
        "dataA102"
      ]
    },
    {
      "cell_type": "code",
      "execution_count": null,
      "metadata": {
        "id": "xGKaEVf1n1JF"
      },
      "outputs": [],
      "source": [
        "list_total1102 = list()\n",
        "for img in A1_set1['Img']:\n",
        "  S1_double = img\n",
        "  full_path_to_file2 = os.path.join(S1_double) \n",
        "  blob_service_client.get_blob_to_path('shadeimg', full_path_to_file2, full_path_to_file2)\n",
        "  imgS1_A1A1_1  = cv2.imread(S1_double) #HSV\n",
        "  S1HSV_imgA1A1_1= cv2.cvtColor(imgS1_A1A1_1, cv2.COLOR_BGR2HSV)\n",
        "  S1meanA1_1 = list()\n",
        "  for i in range(S1HSV_imgA1A1_1.shape[0]): \n",
        "     for j in range(S1HSV_imgA1A1_1.shape[1]): \n",
        "                if 1719<i<1819 and 1709<j<1819 :\n",
        "                  S1meanA1_1.append(S1HSV_imgA1A1_1[i][j])  \n",
        "  S1meanA1_1 = np.array(S1meanA1_1)\n",
        "  S1rgbrefA1_1 = list()\n",
        "  for i in range(3):\n",
        "    S1rgbrefA1_1.append(S1meanA1_1[:,i].mean())\n",
        "  list_total1102.append(S1rgbrefA1_1)"
      ]
    },
    {
      "cell_type": "code",
      "execution_count": null,
      "metadata": {
        "id": "Jr-y2mqbn1JG"
      },
      "outputs": [],
      "source": [
        "cols=['H-ref', 'S-ref' , 'V-ref']\n",
        "S11=pd.DataFrame(list_total1102,columns=cols)\n",
        "S11.index.names=['id']"
      ]
    },
    {
      "cell_type": "code",
      "execution_count": null,
      "metadata": {
        "id": "e0L02S9Pn1JH"
      },
      "outputs": [],
      "source": [
        "list_total2202 = list()\n",
        "for img in A1_set1['Img']:\n",
        "  S1_double = img\n",
        "  full_path_to_file2 = os.path.join(S1_double) \n",
        "  blob_service_client.get_blob_to_path('shadeimg', full_path_to_file2, full_path_to_file2)\n",
        "  imgS1_A1A1_1  = cv2.imread(S1_double) #HSV\n",
        "  S1HSV_imgA1A1_1= cv2.cvtColor(imgS1_A1A1_1, cv2.COLOR_BGR2HSV)\n",
        "  S1meanA1_2 = list()\n",
        "  for i in range(S1HSV_imgA1A1_1.shape[0]): \n",
        "     for j in range(S1HSV_imgA1A1_1.shape[1]): \n",
        "                 if 1719<i<1819 and 1709<j<1819 :\n",
        "                  S1meanA1_2.append(S1HSV_imgA1A1_1[i][j])  \n",
        "  S1meanA1_2 = np.array(S1meanA1_2)\n",
        "  S1hsvA1_2 = list()\n",
        "  for i in range(3):\n",
        "    S1hsvA1_2.append(S1meanA1_2[:,i].mean())\n",
        "  list_total2202.append(S1hsvA1_2)"
      ]
    },
    {
      "cell_type": "code",
      "execution_count": null,
      "metadata": {
        "id": "3eLgII7nn1JJ"
      },
      "outputs": [],
      "source": [
        "cols=['H-Shad', 'S-Shad' , 'V-Shad']\n",
        "S22=pd.DataFrame(list_total2202,columns=cols)\n",
        "S22.index.names=['id']\n",
        "S22['Setting']='Set1'"
      ]
    },
    {
      "cell_type": "code",
      "execution_count": null,
      "metadata": {
        "id": "AnZ-1xpnn1JK"
      },
      "outputs": [],
      "source": [
        "dataP2 = pd.concat([S1, S2,S11,S22,table1], axis=1)\n",
        "dataP2"
      ]
    },
    {
      "cell_type": "markdown",
      "metadata": {
        "id": "EG2mdo4UprE4"
      },
      "source": [
        "#3"
      ]
    },
    {
      "cell_type": "code",
      "execution_count": null,
      "metadata": {
        "id": "16QmTIQGqJt6"
      },
      "outputs": [],
      "source": [
        "list_total103 = list()\n",
        "for img in A1_set1['Img']:\n",
        "  S1_double = img\n",
        "  full_path_to_file2 = os.path.join(S1_double) \n",
        "  blob_service_client.get_blob_to_path('shadeimg', full_path_to_file2, full_path_to_file2)\n",
        "  imgS1_A1A1_1  = cv2.imread(S1_double) #RGB\n",
        "  S1RGB_imgA1A1_1= cv2.cvtColor(imgS1_A1A1_1, cv2.COLOR_BGR2RGB)\n",
        "  S1meanrefA1_1 = list()\n",
        "  for i in range(S1RGB_imgA1A1_1.shape[0]): \n",
        "     for j in range(S1RGB_imgA1A1_1.shape[1]): \n",
        "                 if 1739<i<1839 and 2029<j<2134 :\n",
        "                  S1meanrefA1_1.append(S1RGB_imgA1A1_1[i][j]) \n",
        "  S1meanrefA1_1 = np.array(S1meanrefA1_1)\n",
        "  S1rgbrefA1_1 = list()\n",
        "  for i in range(3):\n",
        "    S1rgbrefA1_1.append(S1meanrefA1_1[:,i].mean())\n",
        "  list_total103.append(S1rgbrefA1_1)"
      ]
    },
    {
      "cell_type": "code",
      "execution_count": null,
      "metadata": {
        "id": "nppZBqy3qJt8"
      },
      "outputs": [],
      "source": [
        "cols=['R-ref', 'G-ref' , 'B-ref']\n",
        "S1=pd.DataFrame(list_total103,columns=cols)\n",
        "S1.index.names=['id']"
      ]
    },
    {
      "cell_type": "code",
      "execution_count": null,
      "metadata": {
        "id": "QvRDEIFtqJt9"
      },
      "outputs": [],
      "source": [
        "list_total203 = list()\n",
        "for img in A1_set1['Img']:\n",
        "  S1_double = img\n",
        "  full_path_to_file2 = os.path.join(S1_double) \n",
        "  blob_service_client.get_blob_to_path('shadeimg', full_path_to_file2, full_path_to_file2)\n",
        "  imgS1_A1A1_1  = cv2.imread(S1_double) #RGB\n",
        "  S1RGB_imgA1A1_1= cv2.cvtColor(imgS1_A1A1_1, cv2.COLOR_BGR2RGB)\n",
        "  S1meanA1_2 = list()\n",
        "  for i in range(S1RGB_imgA1A1_1.shape[0]): \n",
        "     for j in range(S1RGB_imgA1A1_1.shape[1]): \n",
        "                if 1739<i<1839 and 1709<j<1819 :\n",
        "                  S1meanA1_2.append(S1RGB_imgA1A1_1[i][j])  \n",
        "  S1meanA1_2 = np.array(S1meanA1_2)\n",
        "  S1rgbA1_2 = list()\n",
        "  for i in range(3):\n",
        "    S1rgbA1_2.append(S1meanA1_2[:,i].mean())\n",
        "  list_total203.append(S1rgbA1_2)"
      ]
    },
    {
      "cell_type": "code",
      "execution_count": null,
      "metadata": {
        "id": "ZKhSPvp-qJt-"
      },
      "outputs": [],
      "source": [
        "cols=['R-Shad', 'G-Shad' , 'B-Shad'] \n",
        "S2=pd.DataFrame(list_total203,columns=cols)\n",
        "S2.index.names=['id']"
      ]
    },
    {
      "cell_type": "code",
      "execution_count": null,
      "metadata": {
        "id": "dapwzkoFqJt-"
      },
      "outputs": [],
      "source": [
        "dataA103 = pd.concat([S1, S2], axis=1)\n",
        "dataA103"
      ]
    },
    {
      "cell_type": "code",
      "execution_count": null,
      "metadata": {
        "id": "fVuINsw8qJt_"
      },
      "outputs": [],
      "source": [
        "list_total1103 = list()\n",
        "for img in A1_set1['Img']:\n",
        "  S1_double = img\n",
        "  full_path_to_file2 = os.path.join(S1_double) \n",
        "  blob_service_client.get_blob_to_path('shadeimg', full_path_to_file2, full_path_to_file2)\n",
        "  imgS1_A1A1_1  = cv2.imread(S1_double) #HSV\n",
        "  S1HSV_imgA1A1_1= cv2.cvtColor(imgS1_A1A1_1, cv2.COLOR_BGR2HSV)\n",
        "  S1meanA1_1 = list()\n",
        "  for i in range(S1HSV_imgA1A1_1.shape[0]): \n",
        "     for j in range(S1HSV_imgA1A1_1.shape[1]): \n",
        "               if 1739<i<1839 and 2029<j<2134 :\n",
        "                  S1meanA1_1.append(S1HSV_imgA1A1_1[i][j])  \n",
        "  S1meanA1_1 = np.array(S1meanA1_1)\n",
        "  S1rgbrefA1_1 = list()\n",
        "  for i in range(3):\n",
        "    S1rgbrefA1_1.append(S1meanA1_1[:,i].mean())\n",
        "  list_total1103.append(S1rgbrefA1_1)"
      ]
    },
    {
      "cell_type": "code",
      "execution_count": null,
      "metadata": {
        "id": "XrZOKXagqJuA"
      },
      "outputs": [],
      "source": [
        "cols=['H-ref', 'S-ref' , 'V-ref']\n",
        "S11=pd.DataFrame(list_total1103,columns=cols)\n",
        "S11.index.names=['id']"
      ]
    },
    {
      "cell_type": "code",
      "execution_count": null,
      "metadata": {
        "id": "6uLXGjtoqJuB"
      },
      "outputs": [],
      "source": [
        "list_total2203 = list()\n",
        "for img in A1_set1['Img']:\n",
        "  S1_double = img\n",
        "  full_path_to_file2 = os.path.join(S1_double) \n",
        "  blob_service_client.get_blob_to_path('shadeimg', full_path_to_file2, full_path_to_file2)\n",
        "  imgS1_A1A1_1  = cv2.imread(S1_double) #HSV\n",
        "  S1HSV_imgA1A1_1= cv2.cvtColor(imgS1_A1A1_1, cv2.COLOR_BGR2HSV)\n",
        "  S1meanA1_2 = list()\n",
        "  for i in range(S1HSV_imgA1A1_1.shape[0]): \n",
        "     for j in range(S1HSV_imgA1A1_1.shape[1]): \n",
        "                if 1739<i<1839 and 1709<j<1819 :\n",
        "                  S1meanA1_2.append(S1HSV_imgA1A1_1[i][j])  \n",
        "  S1meanA1_2 = np.array(S1meanA1_2)\n",
        "  S1hsvA1_2 = list()\n",
        "  for i in range(3):\n",
        "    S1hsvA1_2.append(S1meanA1_2[:,i].mean())\n",
        "  list_total2203.append(S1hsvA1_2)"
      ]
    },
    {
      "cell_type": "code",
      "execution_count": null,
      "metadata": {
        "id": "XFRnlVL2qJuC"
      },
      "outputs": [],
      "source": [
        "cols=['H-Shad', 'S-Shad' , 'V-Shad']\n",
        "S22=pd.DataFrame(list_total2203,columns=cols)\n",
        "S22.index.names=['id']\n",
        "S22['Setting']='Set1'"
      ]
    },
    {
      "cell_type": "code",
      "execution_count": null,
      "metadata": {
        "id": "kbxF2EKdqJuC"
      },
      "outputs": [],
      "source": [
        "dataP3 = pd.concat([S1, S2,S11,S22,table1], axis=1)\n",
        "dataP3 "
      ]
    },
    {
      "cell_type": "markdown",
      "metadata": {
        "id": "e6GT7u_6pyP2"
      },
      "source": [
        "#4"
      ]
    },
    {
      "cell_type": "code",
      "execution_count": null,
      "metadata": {
        "id": "CssZAu1ZrMJ6"
      },
      "outputs": [],
      "source": [
        "list_total104 = list()\n",
        "for img in A1_set1['Img']:\n",
        "  S1_double = img\n",
        "  full_path_to_file2 = os.path.join(S1_double) \n",
        "  blob_service_client.get_blob_to_path('shadeimg', full_path_to_file2, full_path_to_file2)\n",
        "  imgS1_A1A1_1  = cv2.imread(S1_double) #RGB\n",
        "  S1RGB_imgA1A1_1= cv2.cvtColor(imgS1_A1A1_1, cv2.COLOR_BGR2RGB)\n",
        "  S1meanrefA1_1 = list()\n",
        "  for i in range(S1RGB_imgA1A1_1.shape[0]): \n",
        "     for j in range(S1RGB_imgA1A1_1.shape[1]): \n",
        "                if 1759<i<1859 and 2029<j<2134 :\n",
        "                  S1meanrefA1_1.append(S1RGB_imgA1A1_1[i][j]) \n",
        "  S1meanrefA1_1 = np.array(S1meanrefA1_1)\n",
        "  S1rgbrefA1_1 = list()\n",
        "  for i in range(3):\n",
        "    S1rgbrefA1_1.append(S1meanrefA1_1[:,i].mean())\n",
        "  list_total104.append(S1rgbrefA1_1)"
      ]
    },
    {
      "cell_type": "code",
      "execution_count": null,
      "metadata": {
        "id": "VJlAnZ1UrMKI"
      },
      "outputs": [],
      "source": [
        "cols=['R-ref', 'G-ref' , 'B-ref']\n",
        "S1=pd.DataFrame(list_total104,columns=cols)\n",
        "S1.index.names=['id']"
      ]
    },
    {
      "cell_type": "code",
      "execution_count": null,
      "metadata": {
        "id": "WrolBHWUrMKJ"
      },
      "outputs": [],
      "source": [
        "list_total204 = list()\n",
        "for img in A1_set1['Img']:\n",
        "  S1_double = img\n",
        "  full_path_to_file2 = os.path.join(S1_double) \n",
        "  blob_service_client.get_blob_to_path('shadeimg', full_path_to_file2, full_path_to_file2)\n",
        "  imgS1_A1A1_1  = cv2.imread(S1_double) #RGB\n",
        "  S1RGB_imgA1A1_1= cv2.cvtColor(imgS1_A1A1_1, cv2.COLOR_BGR2RGB)\n",
        "  S1meanA1_2 = list()\n",
        "  for i in range(S1RGB_imgA1A1_1.shape[0]): \n",
        "     for j in range(S1RGB_imgA1A1_1.shape[1]): \n",
        "                if 1759<i<1859 and 1709<j<1819 :\n",
        "                  S1meanA1_2.append(S1RGB_imgA1A1_1[i][j])  \n",
        "  S1meanA1_2 = np.array(S1meanA1_2)\n",
        "  S1rgbA1_2 = list()\n",
        "  for i in range(3):\n",
        "    S1rgbA1_2.append(S1meanA1_2[:,i].mean())\n",
        "  list_total204.append(S1rgbA1_2)"
      ]
    },
    {
      "cell_type": "code",
      "execution_count": null,
      "metadata": {
        "id": "mZvd3Jy4rMKJ"
      },
      "outputs": [],
      "source": [
        "cols=['R-Shad', 'G-Shad' , 'B-Shad'] \n",
        "S2=pd.DataFrame(list_total204,columns=cols)\n",
        "S2.index.names=['id']"
      ]
    },
    {
      "cell_type": "code",
      "execution_count": null,
      "metadata": {
        "id": "sBXYBtCyrMKK"
      },
      "outputs": [],
      "source": [
        "dataA104 = pd.concat([S1, S2], axis=1)\n",
        "dataA104"
      ]
    },
    {
      "cell_type": "code",
      "execution_count": null,
      "metadata": {
        "id": "2TNkw9ZVrMKK"
      },
      "outputs": [],
      "source": [
        "list_total1104 = list()\n",
        "for img in A1_set1['Img']:\n",
        "  S1_double = img\n",
        "  full_path_to_file2 = os.path.join(S1_double) \n",
        "  blob_service_client.get_blob_to_path('shadeimg', full_path_to_file2, full_path_to_file2)\n",
        "  imgS1_A1A1_1  = cv2.imread(S1_double) #HSV\n",
        "  S1HSV_imgA1A1_1= cv2.cvtColor(imgS1_A1A1_1, cv2.COLOR_BGR2HSV)\n",
        "  S1meanA1_1 = list()\n",
        "  for i in range(S1HSV_imgA1A1_1.shape[0]): \n",
        "     for j in range(S1HSV_imgA1A1_1.shape[1]): \n",
        "                if 1759<i<1859 and 2029<j<2134 :\n",
        "                  S1meanA1_1.append(S1HSV_imgA1A1_1[i][j])  \n",
        "  S1meanA1_1 = np.array(S1meanA1_1)\n",
        "  S1rgbrefA1_1 = list()\n",
        "  for i in range(3):\n",
        "    S1rgbrefA1_1.append(S1meanA1_1[:,i].mean())\n",
        "  list_total1104.append(S1rgbrefA1_1)"
      ]
    },
    {
      "cell_type": "code",
      "execution_count": null,
      "metadata": {
        "id": "1AQEsprtrMKL"
      },
      "outputs": [],
      "source": [
        "cols=['H-ref', 'S-ref' , 'V-ref']\n",
        "S11=pd.DataFrame(list_total1104,columns=cols)\n",
        "S11.index.names=['id']"
      ]
    },
    {
      "cell_type": "code",
      "execution_count": null,
      "metadata": {
        "id": "4Q1li5BqrMKL"
      },
      "outputs": [],
      "source": [
        "list_total2204 = list()\n",
        "for img in A1_set1['Img']:\n",
        "  S1_double = img\n",
        "  full_path_to_file2 = os.path.join(S1_double) \n",
        "  blob_service_client.get_blob_to_path('shadeimg', full_path_to_file2, full_path_to_file2)\n",
        "  imgS1_A1A1_1  = cv2.imread(S1_double) #HSV\n",
        "  S1HSV_imgA1A1_1= cv2.cvtColor(imgS1_A1A1_1, cv2.COLOR_BGR2HSV)\n",
        "  S1meanA1_2 = list()\n",
        "  for i in range(S1HSV_imgA1A1_1.shape[0]): \n",
        "     for j in range(S1HSV_imgA1A1_1.shape[1]): \n",
        "                if 1759<i<1859 and 1709<j<1819 :\n",
        "                  S1meanA1_2.append(S1HSV_imgA1A1_1[i][j])  \n",
        "  S1meanA1_2 = np.array(S1meanA1_2)\n",
        "  S1hsvA1_2 = list()\n",
        "  for i in range(3):\n",
        "    S1hsvA1_2.append(S1meanA1_2[:,i].mean())\n",
        "  list_total2204.append(S1hsvA1_2)"
      ]
    },
    {
      "cell_type": "code",
      "execution_count": null,
      "metadata": {
        "id": "Vs536JyArMKL"
      },
      "outputs": [],
      "source": [
        "cols=['H-Shad', 'S-Shad' , 'V-Shad']\n",
        "S22=pd.DataFrame(list_total2204,columns=cols)\n",
        "S22.index.names=['id']\n",
        "S22['Setting']='Set1'"
      ]
    },
    {
      "cell_type": "code",
      "execution_count": null,
      "metadata": {
        "id": "UzjRwW03rMKM"
      },
      "outputs": [],
      "source": [
        "dataP4 = pd.concat([S1, S2,S11,S22,table1], axis=1)\n",
        "dataP4"
      ]
    },
    {
      "cell_type": "markdown",
      "metadata": {
        "id": "7Wi6CBLcp1-k"
      },
      "source": [
        "#5"
      ]
    },
    {
      "cell_type": "code",
      "execution_count": null,
      "metadata": {
        "id": "pipG1YTMrh89"
      },
      "outputs": [],
      "source": [
        "list_total105 = list()\n",
        "for img in A1_set1['Img']:\n",
        "  S1_double = img\n",
        "  full_path_to_file2 = os.path.join(S1_double) \n",
        "  blob_service_client.get_blob_to_path('shadeimg', full_path_to_file2, full_path_to_file2)\n",
        "  imgS1_A1A1_1  = cv2.imread(S1_double) #RGB\n",
        "  S1RGB_imgA1A1_1= cv2.cvtColor(imgS1_A1A1_1, cv2.COLOR_BGR2RGB)\n",
        "  S1meanrefA1_1 = list()\n",
        "  for i in range(S1RGB_imgA1A1_1.shape[0]): \n",
        "     for j in range(S1RGB_imgA1A1_1.shape[1]): \n",
        "                if 1779<i<1879 and 2029<j<2134 :\n",
        "                  S1meanrefA1_1.append(S1RGB_imgA1A1_1[i][j]) \n",
        "  S1meanrefA1_1 = np.array(S1meanrefA1_1)\n",
        "  S1rgbrefA1_1 = list()\n",
        "  for i in range(3):\n",
        "    S1rgbrefA1_1.append(S1meanrefA1_1[:,i].mean())\n",
        "  list_total105.append(S1rgbrefA1_1)"
      ]
    },
    {
      "cell_type": "code",
      "execution_count": null,
      "metadata": {
        "id": "AOzKWn0irh8-"
      },
      "outputs": [],
      "source": [
        "cols=['R-ref', 'G-ref' , 'B-ref']\n",
        "S1=pd.DataFrame(list_total105,columns=cols)\n",
        "S1.index.names=['id']"
      ]
    },
    {
      "cell_type": "code",
      "execution_count": null,
      "metadata": {
        "id": "dQGp4O1orh8-"
      },
      "outputs": [],
      "source": [
        "list_total205 = list()\n",
        "for img in A1_set1['Img']:\n",
        "  S1_double = img\n",
        "  full_path_to_file2 = os.path.join(S1_double) \n",
        "  blob_service_client.get_blob_to_path('shadeimg', full_path_to_file2, full_path_to_file2)\n",
        "  imgS1_A1A1_1  = cv2.imread(S1_double) #RGB\n",
        "  S1RGB_imgA1A1_1= cv2.cvtColor(imgS1_A1A1_1, cv2.COLOR_BGR2RGB)\n",
        "  S1meanA1_2 = list()\n",
        "  for i in range(S1RGB_imgA1A1_1.shape[0]): \n",
        "     for j in range(S1RGB_imgA1A1_1.shape[1]): \n",
        "                if 1779<i<1879 and 1709<j<1819 :\n",
        "                  S1meanA1_2.append(S1RGB_imgA1A1_1[i][j])  \n",
        "  S1meanA1_2 = np.array(S1meanA1_2)\n",
        "  S1rgbA1_2 = list()\n",
        "  for i in range(3):\n",
        "    S1rgbA1_2.append(S1meanA1_2[:,i].mean())\n",
        "  list_total205.append(S1rgbA1_2)"
      ]
    },
    {
      "cell_type": "code",
      "execution_count": null,
      "metadata": {
        "id": "Qe-Xmzwdrh8_"
      },
      "outputs": [],
      "source": [
        "cols=['R-Shad', 'G-Shad' , 'B-Shad'] \n",
        "S2=pd.DataFrame(list_total205,columns=cols)\n",
        "S2.index.names=['id']"
      ]
    },
    {
      "cell_type": "code",
      "execution_count": null,
      "metadata": {
        "id": "rxxAQSiprh8_"
      },
      "outputs": [],
      "source": [
        "dataA105 = pd.concat([S1, S2], axis=1)\n",
        "dataA105"
      ]
    },
    {
      "cell_type": "code",
      "execution_count": null,
      "metadata": {
        "id": "YP3Dy7vlrh9A"
      },
      "outputs": [],
      "source": [
        "list_total1105 = list()\n",
        "for img in A1_set1['Img']:\n",
        "  S1_double = img\n",
        "  full_path_to_file2 = os.path.join(S1_double) \n",
        "  blob_service_client.get_blob_to_path('shadeimg', full_path_to_file2, full_path_to_file2)\n",
        "  imgS1_A1A1_1  = cv2.imread(S1_double) #HSV\n",
        "  S1HSV_imgA1A1_1= cv2.cvtColor(imgS1_A1A1_1, cv2.COLOR_BGR2HSV)\n",
        "  S1meanA1_1 = list()\n",
        "  for i in range(S1HSV_imgA1A1_1.shape[0]): \n",
        "     for j in range(S1HSV_imgA1A1_1.shape[1]): \n",
        "                if 1779<i<1879 and 2029<j<2134 :\n",
        "                  S1meanA1_1.append(S1HSV_imgA1A1_1[i][j])  \n",
        "  S1meanA1_1 = np.array(S1meanA1_1)\n",
        "  S1rgbrefA1_1 = list()\n",
        "  for i in range(3):\n",
        "    S1rgbrefA1_1.append(S1meanA1_1[:,i].mean())\n",
        "  list_total1105.append(S1rgbrefA1_1)"
      ]
    },
    {
      "cell_type": "code",
      "execution_count": null,
      "metadata": {
        "id": "yBU9Hjoirh9A"
      },
      "outputs": [],
      "source": [
        "cols=['H-ref', 'S-ref' , 'V-ref']\n",
        "S11=pd.DataFrame(list_total1105,columns=cols)\n",
        "S11.index.names=['id']"
      ]
    },
    {
      "cell_type": "code",
      "execution_count": null,
      "metadata": {
        "id": "nsuc3rvMrh9B"
      },
      "outputs": [],
      "source": [
        "list_total2205 = list()\n",
        "for img in A1_set1['Img']:\n",
        "  S1_double = img\n",
        "  full_path_to_file2 = os.path.join(S1_double) \n",
        "  blob_service_client.get_blob_to_path('shadeimg', full_path_to_file2, full_path_to_file2)\n",
        "  imgS1_A1A1_1  = cv2.imread(S1_double) #HSV\n",
        "  S1HSV_imgA1A1_1= cv2.cvtColor(imgS1_A1A1_1, cv2.COLOR_BGR2HSV)\n",
        "  S1meanA1_2 = list()\n",
        "  for i in range(S1HSV_imgA1A1_1.shape[0]): \n",
        "     for j in range(S1HSV_imgA1A1_1.shape[1]): \n",
        "                if 1779<i<1879 and 1709<j<1819 :\n",
        "                  S1meanA1_2.append(S1HSV_imgA1A1_1[i][j])  \n",
        "  S1meanA1_2 = np.array(S1meanA1_2)\n",
        "  S1hsvA1_2 = list()\n",
        "  for i in range(3):\n",
        "    S1hsvA1_2.append(S1meanA1_2[:,i].mean())\n",
        "  list_total2205.append(S1hsvA1_2)"
      ]
    },
    {
      "cell_type": "code",
      "execution_count": null,
      "metadata": {
        "id": "0H4sywQorh9B"
      },
      "outputs": [],
      "source": [
        "cols=['H-Shad', 'S-Shad' , 'V-Shad']\n",
        "S22=pd.DataFrame(list_total2205,columns=cols)\n",
        "S22.index.names=['id']\n",
        "S22['Setting']='Set1'"
      ]
    },
    {
      "cell_type": "code",
      "execution_count": null,
      "metadata": {
        "id": "fsi7r5yxrh9C"
      },
      "outputs": [],
      "source": [
        "dataP5 = pd.concat([S1, S2,S11,S22,table1], axis=1)\n",
        "dataP5"
      ]
    },
    {
      "cell_type": "code",
      "execution_count": null,
      "metadata": {
        "id": "juRfZU5Drykx"
      },
      "outputs": [],
      "source": [
        "st1= pd.concat([dataP1, dataP2,dataP3,dataP4,dataP5], axis=0)\n",
        "st1"
      ]
    },
    {
      "cell_type": "code",
      "execution_count": null,
      "metadata": {
        "id": "tA2t02FB7Mfp"
      },
      "outputs": [],
      "source": [
        "st1.to_csv('A1set5.csv', index=False)"
      ]
    }
  ],
  "metadata": {
    "colab": {
      "collapsed_sections": [],
      "name": "prepareASet5.ipynb",
      "provenance": [],
      "authorship_tag": "ABX9TyNxuhpqIHGeCy/b7X5f7N0T",
      "include_colab_link": true
    },
    "kernelspec": {
      "display_name": "Python 3",
      "name": "python3"
    },
    "language_info": {
      "name": "python"
    }
  },
  "nbformat": 4,
  "nbformat_minor": 0
}